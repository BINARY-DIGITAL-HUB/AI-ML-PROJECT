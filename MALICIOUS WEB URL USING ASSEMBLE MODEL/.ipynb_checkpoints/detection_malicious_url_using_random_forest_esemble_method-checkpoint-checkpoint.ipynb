{
 "cells": [
  {
   "cell_type": "markdown",
   "id": "55f7d4bf",
   "metadata": {
    "id": "55f7d4bf",
    "papermill": {
     "duration": 0.041894,
     "end_time": "2022-01-24T15:36:25.699672",
     "exception": false,
     "start_time": "2022-01-24T15:36:25.657778",
     "status": "completed"
    },
    "tags": []
   },
   "source": [
    "# Detection Malicious URL Using ML Models"
   ]
  },
  {
   "cell_type": "markdown",
   "id": "1a191e99",
   "metadata": {
    "id": "1a191e99",
    "papermill": {
     "duration": 0.040323,
     "end_time": "2022-01-24T15:36:25.780923",
     "exception": false,
     "start_time": "2022-01-24T15:36:25.740600",
     "status": "completed"
    },
    "tags": []
   },
   "source": [
    "A URL consists of the top-level domain, hostname, paths, and port of the web\n",
    "address, as in the following diagram:"
   ]
  },
  {
   "cell_type": "markdown",
   "id": "9d84c42e",
   "metadata": {
    "id": "9d84c42e",
    "papermill": {
     "duration": 0.040586,
     "end_time": "2022-01-24T15:36:25.862816",
     "exception": false,
     "start_time": "2022-01-24T15:36:25.822230",
     "status": "completed"
    },
    "tags": []
   },
   "source": [
    "![url](https://user-images.githubusercontent.com/70811337/150021474-4ba64b34-1d09-427f-9cf6-25508571d18d.PNG)"
   ]
  },
  {
   "cell_type": "markdown",
   "id": "a558bb46",
   "metadata": {
    "id": "a558bb46",
    "papermill": {
     "duration": 0.039921,
     "end_time": "2022-01-24T15:36:25.945465",
     "exception": false,
     "start_time": "2022-01-24T15:36:25.905544",
     "status": "completed"
    },
    "tags": []
   },
   "source": [
    "<h2 style=\"width: 100%;\n",
    "    margin: 0;\n",
    "    padding: 0;\n",
    "    text-align: center;\">---- Table of contents ----</h2>\n",
    "\n",
    "1. [Importing Libraries](#1)\n",
    "2. [Load Dataset](#2)\n",
    "3. [Meta information of Dataframe](#3)\n",
    "4. [Checking for NaN values](#4)\n",
    "5. [Feature Extraction](#5)\n",
    "6. [Train & Test Split](#6)\n",
    "7. [Training models](#7)\n",
    "  <ul>\n",
    "      <li>✔️ Decision Tree Classifier</li>\n",
    "      <li>✔️ Random Forest Classifier</li>\n",
    "      <li>✔️ AdaBoost Classifier</li>\n",
    "      <li>✔️ KNeighbors Classifier</li>\n",
    "      <li>✔️ SGD Classifier</li>\n",
    "      <li>✔️ Extra Trees Classifier</li>\n",
    "      <li>✔️ Gaussian NB</li>\n",
    "  </ul>\n",
    "8. [Final Report](#8)"
   ]
  },
  {
   "cell_type": "code",
   "execution_count": 1,
   "id": "f5453953",
   "metadata": {
    "colab": {
     "base_uri": "https://localhost:8080/"
    },
    "execution": {
     "iopub.execute_input": "2022-01-24T15:36:26.037318Z",
     "iopub.status.busy": "2022-01-24T15:36:26.031468Z",
     "iopub.status.idle": "2022-01-24T15:36:36.331213Z",
     "shell.execute_reply": "2022-01-24T15:36:36.331725Z",
     "shell.execute_reply.started": "2022-01-24T13:40:47.397437Z"
    },
    "id": "f5453953",
    "outputId": "3e8f11c0-e590-4cf9-9183-b77b92630c35",
    "papermill": {
     "duration": 10.346016,
     "end_time": "2022-01-24T15:36:36.332020",
     "exception": false,
     "start_time": "2022-01-24T15:36:25.986004",
     "status": "completed"
    },
    "tags": []
   },
   "outputs": [
    {
     "name": "stdout",
     "output_type": "stream",
     "text": [
      "Requirement already satisfied: tld in c:\\users\\hp\\appdata\\local\\programs\\python\\python39\\lib\\site-packages (0.13)\n",
      "Note: you may need to restart the kernel to use updated packages.\n"
     ]
    },
    {
     "name": "stderr",
     "output_type": "stream",
     "text": [
      "\n",
      "[notice] A new release of pip is available: 23.0.1 -> 23.1\n",
      "[notice] To update, run: python.exe -m pip install --upgrade pip\n"
     ]
    }
   ],
   "source": [
    "pip install tld"
   ]
  },
  {
   "cell_type": "code",
   "execution_count": 2,
   "id": "MlmxmCdwodWQ",
   "metadata": {
    "colab": {
     "base_uri": "https://localhost:8080/"
    },
    "id": "MlmxmCdwodWQ",
    "outputId": "fec81575-3d0a-45b1-cf82-1b5e7cbb56ac"
   },
   "outputs": [
    {
     "name": "stdout",
     "output_type": "stream",
     "text": [
      "Requirement already satisfied: colorama in c:\\users\\hp\\appdata\\roaming\\python\\python39\\site-packages (0.4.6)\n",
      "Note: you may need to restart the kernel to use updated packages.\n"
     ]
    },
    {
     "name": "stderr",
     "output_type": "stream",
     "text": [
      "\n",
      "[notice] A new release of pip is available: 23.0.1 -> 23.1\n",
      "[notice] To update, run: python.exe -m pip install --upgrade pip\n"
     ]
    }
   ],
   "source": [
    "pip install colorama"
   ]
  },
  {
   "cell_type": "markdown",
   "id": "c12330d6",
   "metadata": {
    "id": "c12330d6",
    "papermill": {
     "duration": 0.042168,
     "end_time": "2022-01-24T15:36:36.417727",
     "exception": false,
     "start_time": "2022-01-24T15:36:36.375559",
     "status": "completed"
    },
    "tags": []
   },
   "source": [
    "<a id=\"1\"></a> <br>\n",
    "# 📥 Importing Libraries"
   ]
  },
  {
   "cell_type": "code",
   "execution_count": 1,
   "id": "a961e9d0",
   "metadata": {
    "execution": {
     "iopub.execute_input": "2022-01-24T15:36:36.513235Z",
     "iopub.status.busy": "2022-01-24T15:36:36.512593Z",
     "iopub.status.idle": "2022-01-24T15:36:37.899555Z",
     "shell.execute_reply": "2022-01-24T15:36:37.898856Z",
     "shell.execute_reply.started": "2022-01-24T13:40:58.330978Z"
    },
    "id": "a961e9d0",
    "papermill": {
     "duration": 1.438321,
     "end_time": "2022-01-24T15:36:37.899699",
     "exception": false,
     "start_time": "2022-01-24T15:36:36.461378",
     "status": "completed"
    },
    "tags": []
   },
   "outputs": [],
   "source": [
    "import re\n",
    "import numpy as np\n",
    "import pandas as pd\n",
    "import seaborn as sns\n",
    "import matplotlib.pyplot as plt\n",
    "from colorama import Fore\n",
    "from urllib.parse import urlparse\n",
    "from sklearn.model_selection import train_test_split\n",
    "from sklearn.metrics import confusion_matrix, classification_report, accuracy_score\n",
    "from sklearn.tree import DecisionTreeClassifier\n",
    "from sklearn.ensemble import RandomForestClassifier, AdaBoostClassifier, ExtraTreesClassifier\n",
    "from sklearn.neighbors import KNeighborsClassifier\n",
    "from sklearn.linear_model import SGDClassifier\n",
    "from sklearn.naive_bayes import GaussianNB\n",
    "from tld import get_tld, is_tld"
   ]
  },
  {
   "cell_type": "code",
   "execution_count": 2,
   "id": "q-FpwcL1opKK",
   "metadata": {
    "colab": {
     "base_uri": "https://localhost:8080/"
    },
    "id": "q-FpwcL1opKK",
    "outputId": "410a268a-f617-4b5b-f269-4090ef155a78"
   },
   "outputs": [],
   "source": [
    "# from google.colab import drive\n",
    "# drive.mount('/content/drive')"
   ]
  },
  {
   "cell_type": "markdown",
   "id": "3cce5e9b",
   "metadata": {
    "id": "3cce5e9b",
    "papermill": {
     "duration": 0.042499,
     "end_time": "2022-01-24T15:36:37.984739",
     "exception": false,
     "start_time": "2022-01-24T15:36:37.942240",
     "status": "completed"
    },
    "tags": []
   },
   "source": [
    "<a id=\"2\"></a> <br>\n",
    "# Load Dataset"
   ]
  },
  {
   "cell_type": "code",
   "execution_count": 3,
   "id": "2120d7e4",
   "metadata": {
    "colab": {
     "base_uri": "https://localhost:8080/",
     "height": 206
    },
    "execution": {
     "iopub.execute_input": "2022-01-24T15:36:38.074692Z",
     "iopub.status.busy": "2022-01-24T15:36:38.074009Z",
     "iopub.status.idle": "2022-01-24T15:36:39.829486Z",
     "shell.execute_reply": "2022-01-24T15:36:39.829975Z",
     "shell.execute_reply.started": "2022-01-24T13:41:00.018249Z"
    },
    "id": "2120d7e4",
    "outputId": "d3457de0-894c-4145-b419-6a8ca451a0ec",
    "papermill": {
     "duration": 1.802945,
     "end_time": "2022-01-24T15:36:39.830153",
     "exception": false,
     "start_time": "2022-01-24T15:36:38.027208",
     "status": "completed"
    },
    "scrolled": false,
    "tags": []
   },
   "outputs": [
    {
     "data": {
      "text/html": [
       "<div>\n",
       "<style scoped>\n",
       "    .dataframe tbody tr th:only-of-type {\n",
       "        vertical-align: middle;\n",
       "    }\n",
       "\n",
       "    .dataframe tbody tr th {\n",
       "        vertical-align: top;\n",
       "    }\n",
       "\n",
       "    .dataframe thead th {\n",
       "        text-align: right;\n",
       "    }\n",
       "</style>\n",
       "<table border=\"1\" class=\"dataframe\">\n",
       "  <thead>\n",
       "    <tr style=\"text-align: right;\">\n",
       "      <th></th>\n",
       "      <th>url</th>\n",
       "      <th>type</th>\n",
       "    </tr>\n",
       "  </thead>\n",
       "  <tbody>\n",
       "    <tr>\n",
       "      <th>0</th>\n",
       "      <td>br-icloud.com.br</td>\n",
       "      <td>phishing</td>\n",
       "    </tr>\n",
       "    <tr>\n",
       "      <th>1</th>\n",
       "      <td>mp3raid.com/music/krizz_kaliko.html</td>\n",
       "      <td>benign</td>\n",
       "    </tr>\n",
       "    <tr>\n",
       "      <th>2</th>\n",
       "      <td>bopsecrets.org/rexroth/cr/1.htm</td>\n",
       "      <td>benign</td>\n",
       "    </tr>\n",
       "    <tr>\n",
       "      <th>3</th>\n",
       "      <td>http://www.garage-pirenne.be/index.php?option=...</td>\n",
       "      <td>defacement</td>\n",
       "    </tr>\n",
       "    <tr>\n",
       "      <th>4</th>\n",
       "      <td>http://adventure-nicaragua.net/index.php?optio...</td>\n",
       "      <td>defacement</td>\n",
       "    </tr>\n",
       "    <tr>\n",
       "      <th>...</th>\n",
       "      <td>...</td>\n",
       "      <td>...</td>\n",
       "    </tr>\n",
       "    <tr>\n",
       "      <th>651186</th>\n",
       "      <td>xbox360.ign.com/objects/850/850402.html</td>\n",
       "      <td>phishing</td>\n",
       "    </tr>\n",
       "    <tr>\n",
       "      <th>651187</th>\n",
       "      <td>games.teamxbox.com/xbox-360/1860/Dead-Space/</td>\n",
       "      <td>phishing</td>\n",
       "    </tr>\n",
       "    <tr>\n",
       "      <th>651188</th>\n",
       "      <td>www.gamespot.com/xbox360/action/deadspace/</td>\n",
       "      <td>phishing</td>\n",
       "    </tr>\n",
       "    <tr>\n",
       "      <th>651189</th>\n",
       "      <td>en.wikipedia.org/wiki/Dead_Space_(video_game)</td>\n",
       "      <td>phishing</td>\n",
       "    </tr>\n",
       "    <tr>\n",
       "      <th>651190</th>\n",
       "      <td>www.angelfire.com/goth/devilmaycrytonite/</td>\n",
       "      <td>phishing</td>\n",
       "    </tr>\n",
       "  </tbody>\n",
       "</table>\n",
       "<p>651191 rows × 2 columns</p>\n",
       "</div>"
      ],
      "text/plain": [
       "                                                      url        type\n",
       "0                                        br-icloud.com.br    phishing\n",
       "1                     mp3raid.com/music/krizz_kaliko.html      benign\n",
       "2                         bopsecrets.org/rexroth/cr/1.htm      benign\n",
       "3       http://www.garage-pirenne.be/index.php?option=...  defacement\n",
       "4       http://adventure-nicaragua.net/index.php?optio...  defacement\n",
       "...                                                   ...         ...\n",
       "651186            xbox360.ign.com/objects/850/850402.html    phishing\n",
       "651187       games.teamxbox.com/xbox-360/1860/Dead-Space/    phishing\n",
       "651188         www.gamespot.com/xbox360/action/deadspace/    phishing\n",
       "651189      en.wikipedia.org/wiki/Dead_Space_(video_game)    phishing\n",
       "651190          www.angelfire.com/goth/devilmaycrytonite/    phishing\n",
       "\n",
       "[651191 rows x 2 columns]"
      ]
     },
     "execution_count": 3,
     "metadata": {},
     "output_type": "execute_result"
    }
   ],
   "source": [
    "data = pd.read_csv('malicious_phish.csv')\n",
    "data"
   ]
  },
  {
   "cell_type": "code",
   "execution_count": 4,
   "id": "d7ac7bd1",
   "metadata": {},
   "outputs": [
    {
     "data": {
      "text/plain": [
       "(651191, 2)"
      ]
     },
     "execution_count": 4,
     "metadata": {},
     "output_type": "execute_result"
    }
   ],
   "source": [
    "data.shape"
   ]
  },
  {
   "cell_type": "code",
   "execution_count": 5,
   "id": "7e354c4a",
   "metadata": {},
   "outputs": [
    {
     "name": "stdout",
     "output_type": "stream",
     "text": [
      "br-icloud.com.br\n"
     ]
    }
   ],
   "source": [
    "print(data.url[0])"
   ]
  },
  {
   "cell_type": "code",
   "execution_count": 6,
   "id": "7bd17df6",
   "metadata": {},
   "outputs": [
    {
     "data": {
      "text/plain": [
       "array(['phishing', 'benign', 'defacement', 'malware'], dtype=object)"
      ]
     },
     "execution_count": 6,
     "metadata": {},
     "output_type": "execute_result"
    }
   ],
   "source": [
    "data.type.unique()"
   ]
  },
  {
   "cell_type": "markdown",
   "id": "ANE822tBpFJu",
   "metadata": {
    "id": "ANE822tBpFJu"
   },
   "source": []
  },
  {
   "cell_type": "markdown",
   "id": "51e4a6de",
   "metadata": {
    "id": "51e4a6de",
    "papermill": {
     "duration": 0.042624,
     "end_time": "2022-01-24T15:36:39.918473",
     "exception": false,
     "start_time": "2022-01-24T15:36:39.875849",
     "status": "completed"
    },
    "tags": []
   },
   "source": [
    "<a id=\"3\"></a> <br>\n",
    "# Meta information of Dataframe"
   ]
  },
  {
   "cell_type": "code",
   "execution_count": 7,
   "id": "3c98155e",
   "metadata": {
    "colab": {
     "base_uri": "https://localhost:8080/"
    },
    "execution": {
     "iopub.execute_input": "2022-01-24T15:36:40.158889Z",
     "iopub.status.busy": "2022-01-24T15:36:40.158130Z",
     "iopub.status.idle": "2022-01-24T15:36:40.181920Z",
     "shell.execute_reply": "2022-01-24T15:36:40.182545Z",
     "shell.execute_reply.started": "2022-01-24T13:41:01.662528Z"
    },
    "id": "3c98155e",
    "outputId": "69d288d5-15b1-4a37-b73b-6692d82b1555",
    "papermill": {
     "duration": 0.221003,
     "end_time": "2022-01-24T15:36:40.182725",
     "exception": false,
     "start_time": "2022-01-24T15:36:39.961722",
     "status": "completed"
    },
    "tags": []
   },
   "outputs": [
    {
     "name": "stdout",
     "output_type": "stream",
     "text": [
      "<class 'pandas.core.frame.DataFrame'>\n",
      "RangeIndex: 651191 entries, 0 to 651190\n",
      "Data columns (total 2 columns):\n",
      " #   Column  Non-Null Count   Dtype \n",
      "---  ------  --------------   ----- \n",
      " 0   url     651191 non-null  object\n",
      " 1   type    651191 non-null  object\n",
      "dtypes: object(2)\n",
      "memory usage: 9.9+ MB\n"
     ]
    }
   ],
   "source": [
    "data.info()"
   ]
  },
  {
   "cell_type": "markdown",
   "id": "57dbd10d",
   "metadata": {
    "id": "57dbd10d",
    "papermill": {
     "duration": 0.045832,
     "end_time": "2022-01-24T15:36:40.274216",
     "exception": false,
     "start_time": "2022-01-24T15:36:40.228384",
     "status": "completed"
    },
    "tags": []
   },
   "source": [
    "<a id=\"4\"></a>\n",
    "# Checking for NaN values"
   ]
  },
  {
   "cell_type": "code",
   "execution_count": 8,
   "id": "6544002f",
   "metadata": {
    "colab": {
     "base_uri": "https://localhost:8080/"
    },
    "execution": {
     "iopub.execute_input": "2022-01-24T15:36:40.371307Z",
     "iopub.status.busy": "2022-01-24T15:36:40.370384Z",
     "iopub.status.idle": "2022-01-24T15:36:40.533484Z",
     "shell.execute_reply": "2022-01-24T15:36:40.532945Z",
     "shell.execute_reply.started": "2022-01-24T13:41:01.753513Z"
    },
    "id": "6544002f",
    "outputId": "ef41be3d-1228-4535-afb8-d15cd4990faa",
    "papermill": {
     "duration": 0.212047,
     "end_time": "2022-01-24T15:36:40.533629",
     "exception": false,
     "start_time": "2022-01-24T15:36:40.321582",
     "status": "completed"
    },
    "tags": []
   },
   "outputs": [
    {
     "data": {
      "text/plain": [
       "url     0\n",
       "type    0\n",
       "dtype: int64"
      ]
     },
     "execution_count": 8,
     "metadata": {},
     "output_type": "execute_result"
    }
   ],
   "source": [
    "data.isnull().sum()"
   ]
  },
  {
   "cell_type": "code",
   "execution_count": 9,
   "id": "b97a057f",
   "metadata": {
    "colab": {
     "base_uri": "https://localhost:8080/"
    },
    "execution": {
     "iopub.execute_input": "2022-01-24T15:36:40.720154Z",
     "iopub.status.busy": "2022-01-24T15:36:40.719167Z",
     "iopub.status.idle": "2022-01-24T15:36:40.723264Z",
     "shell.execute_reply": "2022-01-24T15:36:40.722752Z",
     "shell.execute_reply.started": "2022-01-24T13:41:01.828417Z"
    },
    "id": "b97a057f",
    "outputId": "355953f4-0c38-43e6-ea82-cd602268ba90",
    "papermill": {
     "duration": 0.146116,
     "end_time": "2022-01-24T15:36:40.723402",
     "exception": false,
     "start_time": "2022-01-24T15:36:40.577286",
     "status": "completed"
    },
    "tags": []
   },
   "outputs": [
    {
     "data": {
      "text/plain": [
       "benign        428103\n",
       "defacement     96457\n",
       "phishing       94111\n",
       "malware        32520\n",
       "Name: type, dtype: int64"
      ]
     },
     "execution_count": 9,
     "metadata": {},
     "output_type": "execute_result"
    }
   ],
   "source": [
    "count = data.type.value_counts()\n",
    "count"
   ]
  },
  {
   "cell_type": "code",
   "execution_count": 10,
   "id": "8af8020a",
   "metadata": {
    "colab": {
     "base_uri": "https://localhost:8080/",
     "height": 297
    },
    "execution": {
     "iopub.execute_input": "2022-01-24T15:36:40.818548Z",
     "iopub.status.busy": "2022-01-24T15:36:40.817860Z",
     "iopub.status.idle": "2022-01-24T15:36:41.061445Z",
     "shell.execute_reply": "2022-01-24T15:36:41.062221Z",
     "shell.execute_reply.started": "2022-01-24T13:41:01.874383Z"
    },
    "id": "8af8020a",
    "outputId": "7ef75d89-1793-470d-81e3-81c832dbba58",
    "papermill": {
     "duration": 0.292997,
     "end_time": "2022-01-24T15:36:41.062398",
     "exception": false,
     "start_time": "2022-01-24T15:36:40.769401",
     "status": "completed"
    },
    "tags": []
   },
   "outputs": [
    {
     "data": {
      "text/plain": [
       "Text(0, 0.5, 'Count')"
      ]
     },
     "execution_count": 10,
     "metadata": {},
     "output_type": "execute_result"
    },
    {
     "data": {
      "image/png": "[encoded data removed]",
      "text/plain": [
       "<Figure size 640x480 with 1 Axes>"
      ]
     },
     "metadata": {},
     "output_type": "display_data"
    }
   ],
   "source": [
    "sns.barplot(x=count.index, y=count)\n",
    "\n",
    "plt.xlabel('Types')\n",
    "plt.ylabel('Count')"
   ]
  },
  {
   "cell_type": "markdown",
   "id": "a72c5ef0",
   "metadata": {
    "id": "a72c5ef0",
    "papermill": {
     "duration": 0.044943,
     "end_time": "2022-01-24T15:36:41.153022",
     "exception": false,
     "start_time": "2022-01-24T15:36:41.108079",
     "status": "completed"
    },
    "tags": []
   },
   "source": [
    "## Data Preprocessing and Cleaning\n",
    "<h4>first have to omit the (www.) from the URL which is in fact a sub domain in itself.</h4>"
   ]
  },
  {
   "cell_type": "code",
   "execution_count": 11,
   "id": "e58888bd",
   "metadata": {
    "colab": {
     "base_uri": "https://localhost:8080/",
     "height": 423
    },
    "execution": {
     "iopub.execute_input": "2022-01-24T15:36:41.249192Z",
     "iopub.status.busy": "2022-01-24T15:36:41.248165Z",
     "iopub.status.idle": "2022-01-24T15:36:42.496752Z",
     "shell.execute_reply": "2022-01-24T15:36:42.497255Z",
     "shell.execute_reply.started": "2022-01-24T13:41:02.132114Z"
    },
    "id": "e58888bd",
    "outputId": "a738d130-5ba3-49fa-ca58-5bf3a1f104d8",
    "papermill": {
     "duration": 1.299468,
     "end_time": "2022-01-24T15:36:42.497451",
     "exception": false,
     "start_time": "2022-01-24T15:36:41.197983",
     "status": "completed"
    },
    "tags": []
   },
   "outputs": [
    {
     "data": {
      "text/html": [
       "<div>\n",
       "<style scoped>\n",
       "    .dataframe tbody tr th:only-of-type {\n",
       "        vertical-align: middle;\n",
       "    }\n",
       "\n",
       "    .dataframe tbody tr th {\n",
       "        vertical-align: top;\n",
       "    }\n",
       "\n",
       "    .dataframe thead th {\n",
       "        text-align: right;\n",
       "    }\n",
       "</style>\n",
       "<table border=\"1\" class=\"dataframe\">\n",
       "  <thead>\n",
       "    <tr style=\"text-align: right;\">\n",
       "      <th></th>\n",
       "      <th>url</th>\n",
       "      <th>type</th>\n",
       "    </tr>\n",
       "  </thead>\n",
       "  <tbody>\n",
       "    <tr>\n",
       "      <th>0</th>\n",
       "      <td>br-icloud.com.br</td>\n",
       "      <td>phishing</td>\n",
       "    </tr>\n",
       "    <tr>\n",
       "      <th>1</th>\n",
       "      <td>mp3raid.com/music/krizz_kaliko.html</td>\n",
       "      <td>benign</td>\n",
       "    </tr>\n",
       "    <tr>\n",
       "      <th>2</th>\n",
       "      <td>bopsecrets.org/rexroth/cr/1.htm</td>\n",
       "      <td>benign</td>\n",
       "    </tr>\n",
       "    <tr>\n",
       "      <th>3</th>\n",
       "      <td>http://garage-pirenne.be/index.php?option=com_...</td>\n",
       "      <td>defacement</td>\n",
       "    </tr>\n",
       "    <tr>\n",
       "      <th>4</th>\n",
       "      <td>http://adventure-nicaragua.net/index.php?optio...</td>\n",
       "      <td>defacement</td>\n",
       "    </tr>\n",
       "    <tr>\n",
       "      <th>...</th>\n",
       "      <td>...</td>\n",
       "      <td>...</td>\n",
       "    </tr>\n",
       "    <tr>\n",
       "      <th>651186</th>\n",
       "      <td>xbox360.ign.com/objects/850/850402.html</td>\n",
       "      <td>phishing</td>\n",
       "    </tr>\n",
       "    <tr>\n",
       "      <th>651187</th>\n",
       "      <td>games.teamxbox.com/xbox-360/1860/Dead-Space/</td>\n",
       "      <td>phishing</td>\n",
       "    </tr>\n",
       "    <tr>\n",
       "      <th>651188</th>\n",
       "      <td>gamespot.com/xbox360/action/deadspace/</td>\n",
       "      <td>phishing</td>\n",
       "    </tr>\n",
       "    <tr>\n",
       "      <th>651189</th>\n",
       "      <td>en.wikipedia.org/wiki/Dead_Space_(video_game)</td>\n",
       "      <td>phishing</td>\n",
       "    </tr>\n",
       "    <tr>\n",
       "      <th>651190</th>\n",
       "      <td>angelfire.com/goth/devilmaycrytonite/</td>\n",
       "      <td>phishing</td>\n",
       "    </tr>\n",
       "  </tbody>\n",
       "</table>\n",
       "<p>651191 rows × 2 columns</p>\n",
       "</div>"
      ],
      "text/plain": [
       "                                                      url        type\n",
       "0                                        br-icloud.com.br    phishing\n",
       "1                     mp3raid.com/music/krizz_kaliko.html      benign\n",
       "2                         bopsecrets.org/rexroth/cr/1.htm      benign\n",
       "3       http://garage-pirenne.be/index.php?option=com_...  defacement\n",
       "4       http://adventure-nicaragua.net/index.php?optio...  defacement\n",
       "...                                                   ...         ...\n",
       "651186            xbox360.ign.com/objects/850/850402.html    phishing\n",
       "651187       games.teamxbox.com/xbox-360/1860/Dead-Space/    phishing\n",
       "651188             gamespot.com/xbox360/action/deadspace/    phishing\n",
       "651189      en.wikipedia.org/wiki/Dead_Space_(video_game)    phishing\n",
       "651190              angelfire.com/goth/devilmaycrytonite/    phishing\n",
       "\n",
       "[651191 rows x 2 columns]"
      ]
     },
     "execution_count": 11,
     "metadata": {},
     "output_type": "execute_result"
    }
   ],
   "source": [
    "data['url'] = data['url'].replace('www.', '', regex=True)\n",
    "data"
   ]
  },
  {
   "cell_type": "code",
   "execution_count": 12,
   "id": "99c0607f",
   "metadata": {
    "execution": {
     "iopub.execute_input": "2022-01-24T15:36:42.591517Z",
     "iopub.status.busy": "2022-01-24T15:36:42.590885Z",
     "iopub.status.idle": "2022-01-24T15:36:42.598531Z",
     "shell.execute_reply": "2022-01-24T15:36:42.598982Z",
     "shell.execute_reply.started": "2022-01-24T13:41:03.117987Z"
    },
    "id": "99c0607f",
    "outputId": "d82928b1-e648-4c59-959e-45db871e037b",
    "papermill": {
     "duration": 0.056548,
     "end_time": "2022-01-24T15:36:42.599150",
     "exception": false,
     "start_time": "2022-01-24T15:36:42.542602",
     "status": "completed"
    },
    "tags": []
   },
   "outputs": [
    {
     "data": {
      "text/html": [
       "<div>\n",
       "<style scoped>\n",
       "    .dataframe tbody tr th:only-of-type {\n",
       "        vertical-align: middle;\n",
       "    }\n",
       "\n",
       "    .dataframe tbody tr th {\n",
       "        vertical-align: top;\n",
       "    }\n",
       "\n",
       "    .dataframe thead th {\n",
       "        text-align: right;\n",
       "    }\n",
       "</style>\n",
       "<table border=\"1\" class=\"dataframe\">\n",
       "  <thead>\n",
       "    <tr style=\"text-align: right;\">\n",
       "      <th></th>\n",
       "      <th>url</th>\n",
       "      <th>type</th>\n",
       "    </tr>\n",
       "  </thead>\n",
       "  <tbody>\n",
       "    <tr>\n",
       "      <th>0</th>\n",
       "      <td>br-icloud.com.br</td>\n",
       "      <td>phishing</td>\n",
       "    </tr>\n",
       "    <tr>\n",
       "      <th>1</th>\n",
       "      <td>mp3raid.com/music/krizz_kaliko.html</td>\n",
       "      <td>benign</td>\n",
       "    </tr>\n",
       "    <tr>\n",
       "      <th>2</th>\n",
       "      <td>bopsecrets.org/rexroth/cr/1.htm</td>\n",
       "      <td>benign</td>\n",
       "    </tr>\n",
       "    <tr>\n",
       "      <th>3</th>\n",
       "      <td>http://garage-pirenne.be/index.php?option=com_...</td>\n",
       "      <td>defacement</td>\n",
       "    </tr>\n",
       "    <tr>\n",
       "      <th>4</th>\n",
       "      <td>http://adventure-nicaragua.net/index.php?optio...</td>\n",
       "      <td>defacement</td>\n",
       "    </tr>\n",
       "  </tbody>\n",
       "</table>\n",
       "</div>"
      ],
      "text/plain": [
       "                                                 url        type\n",
       "0                                   br-icloud.com.br    phishing\n",
       "1                mp3raid.com/music/krizz_kaliko.html      benign\n",
       "2                    bopsecrets.org/rexroth/cr/1.htm      benign\n",
       "3  http://garage-pirenne.be/index.php?option=com_...  defacement\n",
       "4  http://adventure-nicaragua.net/index.php?optio...  defacement"
      ]
     },
     "execution_count": 12,
     "metadata": {},
     "output_type": "execute_result"
    }
   ],
   "source": [
    "data.head()"
   ]
  },
  {
   "cell_type": "code",
   "execution_count": 13,
   "id": "dc5ec9f6",
   "metadata": {
    "colab": {
     "base_uri": "https://localhost:8080/",
     "height": 423
    },
    "execution": {
     "iopub.execute_input": "2022-01-24T15:36:42.693439Z",
     "iopub.status.busy": "2022-01-24T15:36:42.692812Z",
     "iopub.status.idle": "2022-01-24T15:36:43.273725Z",
     "shell.execute_reply": "2022-01-24T15:36:43.273143Z",
     "shell.execute_reply.started": "2022-01-24T13:41:03.134183Z"
    },
    "id": "dc5ec9f6",
    "outputId": "60c69c71-12e3-48c4-ccc5-f758f2ca6a86",
    "papermill": {
     "duration": 0.629162,
     "end_time": "2022-01-24T15:36:43.273882",
     "exception": false,
     "start_time": "2022-01-24T15:36:42.644720",
     "status": "completed"
    },
    "tags": []
   },
   "outputs": [
    {
     "data": {
      "text/html": [
       "<div>\n",
       "<style scoped>\n",
       "    .dataframe tbody tr th:only-of-type {\n",
       "        vertical-align: middle;\n",
       "    }\n",
       "\n",
       "    .dataframe tbody tr th {\n",
       "        vertical-align: top;\n",
       "    }\n",
       "\n",
       "    .dataframe thead th {\n",
       "        text-align: right;\n",
       "    }\n",
       "</style>\n",
       "<table border=\"1\" class=\"dataframe\">\n",
       "  <thead>\n",
       "    <tr style=\"text-align: right;\">\n",
       "      <th></th>\n",
       "      <th>url</th>\n",
       "      <th>type</th>\n",
       "      <th>Category</th>\n",
       "    </tr>\n",
       "  </thead>\n",
       "  <tbody>\n",
       "    <tr>\n",
       "      <th>0</th>\n",
       "      <td>br-icloud.com.br</td>\n",
       "      <td>phishing</td>\n",
       "      <td>2</td>\n",
       "    </tr>\n",
       "    <tr>\n",
       "      <th>1</th>\n",
       "      <td>mp3raid.com/music/krizz_kaliko.html</td>\n",
       "      <td>benign</td>\n",
       "      <td>0</td>\n",
       "    </tr>\n",
       "    <tr>\n",
       "      <th>2</th>\n",
       "      <td>bopsecrets.org/rexroth/cr/1.htm</td>\n",
       "      <td>benign</td>\n",
       "      <td>0</td>\n",
       "    </tr>\n",
       "    <tr>\n",
       "      <th>3</th>\n",
       "      <td>http://garage-pirenne.be/index.php?option=com_...</td>\n",
       "      <td>defacement</td>\n",
       "      <td>1</td>\n",
       "    </tr>\n",
       "    <tr>\n",
       "      <th>4</th>\n",
       "      <td>http://adventure-nicaragua.net/index.php?optio...</td>\n",
       "      <td>defacement</td>\n",
       "      <td>1</td>\n",
       "    </tr>\n",
       "    <tr>\n",
       "      <th>...</th>\n",
       "      <td>...</td>\n",
       "      <td>...</td>\n",
       "      <td>...</td>\n",
       "    </tr>\n",
       "    <tr>\n",
       "      <th>651186</th>\n",
       "      <td>xbox360.ign.com/objects/850/850402.html</td>\n",
       "      <td>phishing</td>\n",
       "      <td>2</td>\n",
       "    </tr>\n",
       "    <tr>\n",
       "      <th>651187</th>\n",
       "      <td>games.teamxbox.com/xbox-360/1860/Dead-Space/</td>\n",
       "      <td>phishing</td>\n",
       "      <td>2</td>\n",
       "    </tr>\n",
       "    <tr>\n",
       "      <th>651188</th>\n",
       "      <td>gamespot.com/xbox360/action/deadspace/</td>\n",
       "      <td>phishing</td>\n",
       "      <td>2</td>\n",
       "    </tr>\n",
       "    <tr>\n",
       "      <th>651189</th>\n",
       "      <td>en.wikipedia.org/wiki/Dead_Space_(video_game)</td>\n",
       "      <td>phishing</td>\n",
       "      <td>2</td>\n",
       "    </tr>\n",
       "    <tr>\n",
       "      <th>651190</th>\n",
       "      <td>angelfire.com/goth/devilmaycrytonite/</td>\n",
       "      <td>phishing</td>\n",
       "      <td>2</td>\n",
       "    </tr>\n",
       "  </tbody>\n",
       "</table>\n",
       "<p>651191 rows × 3 columns</p>\n",
       "</div>"
      ],
      "text/plain": [
       "                                                      url        type  \\\n",
       "0                                        br-icloud.com.br    phishing   \n",
       "1                     mp3raid.com/music/krizz_kaliko.html      benign   \n",
       "2                         bopsecrets.org/rexroth/cr/1.htm      benign   \n",
       "3       http://garage-pirenne.be/index.php?option=com_...  defacement   \n",
       "4       http://adventure-nicaragua.net/index.php?optio...  defacement   \n",
       "...                                                   ...         ...   \n",
       "651186            xbox360.ign.com/objects/850/850402.html    phishing   \n",
       "651187       games.teamxbox.com/xbox-360/1860/Dead-Space/    phishing   \n",
       "651188             gamespot.com/xbox360/action/deadspace/    phishing   \n",
       "651189      en.wikipedia.org/wiki/Dead_Space_(video_game)    phishing   \n",
       "651190              angelfire.com/goth/devilmaycrytonite/    phishing   \n",
       "\n",
       "        Category  \n",
       "0              2  \n",
       "1              0  \n",
       "2              0  \n",
       "3              1  \n",
       "4              1  \n",
       "...          ...  \n",
       "651186         2  \n",
       "651187         2  \n",
       "651188         2  \n",
       "651189         2  \n",
       "651190         2  \n",
       "\n",
       "[651191 rows x 3 columns]"
      ]
     },
     "execution_count": 13,
     "metadata": {},
     "output_type": "execute_result"
    }
   ],
   "source": [
    "rem = {\"Category\": {\"benign\": 0, \"defacement\": 1, \"phishing\":2, \"malware\":3}}\n",
    "data['Category'] = data['type']\n",
    "data = data.replace(rem)\n",
    "data"
   ]
  },
  {
   "cell_type": "code",
   "execution_count": 14,
   "id": "b4b5f827",
   "metadata": {},
   "outputs": [
    {
     "data": {
      "text/html": [
       "<div>\n",
       "<style scoped>\n",
       "    .dataframe tbody tr th:only-of-type {\n",
       "        vertical-align: middle;\n",
       "    }\n",
       "\n",
       "    .dataframe tbody tr th {\n",
       "        vertical-align: top;\n",
       "    }\n",
       "\n",
       "    .dataframe thead th {\n",
       "        text-align: right;\n",
       "    }\n",
       "</style>\n",
       "<table border=\"1\" class=\"dataframe\">\n",
       "  <thead>\n",
       "    <tr style=\"text-align: right;\">\n",
       "      <th></th>\n",
       "      <th>url</th>\n",
       "      <th>type</th>\n",
       "      <th>Category</th>\n",
       "    </tr>\n",
       "  </thead>\n",
       "  <tbody>\n",
       "    <tr>\n",
       "      <th>0</th>\n",
       "      <td>br-icloud.com.br</td>\n",
       "      <td>phishing</td>\n",
       "      <td>2</td>\n",
       "    </tr>\n",
       "    <tr>\n",
       "      <th>1</th>\n",
       "      <td>mp3raid.com/music/krizz_kaliko.html</td>\n",
       "      <td>benign</td>\n",
       "      <td>0</td>\n",
       "    </tr>\n",
       "    <tr>\n",
       "      <th>2</th>\n",
       "      <td>bopsecrets.org/rexroth/cr/1.htm</td>\n",
       "      <td>benign</td>\n",
       "      <td>0</td>\n",
       "    </tr>\n",
       "    <tr>\n",
       "      <th>3</th>\n",
       "      <td>http://garage-pirenne.be/index.php?option=com_...</td>\n",
       "      <td>defacement</td>\n",
       "      <td>1</td>\n",
       "    </tr>\n",
       "    <tr>\n",
       "      <th>4</th>\n",
       "      <td>http://adventure-nicaragua.net/index.php?optio...</td>\n",
       "      <td>defacement</td>\n",
       "      <td>1</td>\n",
       "    </tr>\n",
       "    <tr>\n",
       "      <th>...</th>\n",
       "      <td>...</td>\n",
       "      <td>...</td>\n",
       "      <td>...</td>\n",
       "    </tr>\n",
       "    <tr>\n",
       "      <th>651186</th>\n",
       "      <td>xbox360.ign.com/objects/850/850402.html</td>\n",
       "      <td>phishing</td>\n",
       "      <td>2</td>\n",
       "    </tr>\n",
       "    <tr>\n",
       "      <th>651187</th>\n",
       "      <td>games.teamxbox.com/xbox-360/1860/Dead-Space/</td>\n",
       "      <td>phishing</td>\n",
       "      <td>2</td>\n",
       "    </tr>\n",
       "    <tr>\n",
       "      <th>651188</th>\n",
       "      <td>gamespot.com/xbox360/action/deadspace/</td>\n",
       "      <td>phishing</td>\n",
       "      <td>2</td>\n",
       "    </tr>\n",
       "    <tr>\n",
       "      <th>651189</th>\n",
       "      <td>en.wikipedia.org/wiki/Dead_Space_(video_game)</td>\n",
       "      <td>phishing</td>\n",
       "      <td>2</td>\n",
       "    </tr>\n",
       "    <tr>\n",
       "      <th>651190</th>\n",
       "      <td>angelfire.com/goth/devilmaycrytonite/</td>\n",
       "      <td>phishing</td>\n",
       "      <td>2</td>\n",
       "    </tr>\n",
       "  </tbody>\n",
       "</table>\n",
       "<p>651191 rows × 3 columns</p>\n",
       "</div>"
      ],
      "text/plain": [
       "                                                      url        type  \\\n",
       "0                                        br-icloud.com.br    phishing   \n",
       "1                     mp3raid.com/music/krizz_kaliko.html      benign   \n",
       "2                         bopsecrets.org/rexroth/cr/1.htm      benign   \n",
       "3       http://garage-pirenne.be/index.php?option=com_...  defacement   \n",
       "4       http://adventure-nicaragua.net/index.php?optio...  defacement   \n",
       "...                                                   ...         ...   \n",
       "651186            xbox360.ign.com/objects/850/850402.html    phishing   \n",
       "651187       games.teamxbox.com/xbox-360/1860/Dead-Space/    phishing   \n",
       "651188             gamespot.com/xbox360/action/deadspace/    phishing   \n",
       "651189      en.wikipedia.org/wiki/Dead_Space_(video_game)    phishing   \n",
       "651190              angelfire.com/goth/devilmaycrytonite/    phishing   \n",
       "\n",
       "        Category  \n",
       "0              2  \n",
       "1              0  \n",
       "2              0  \n",
       "3              1  \n",
       "4              1  \n",
       "...          ...  \n",
       "651186         2  \n",
       "651187         2  \n",
       "651188         2  \n",
       "651189         2  \n",
       "651190         2  \n",
       "\n",
       "[651191 rows x 3 columns]"
      ]
     },
     "execution_count": 14,
     "metadata": {},
     "output_type": "execute_result"
    }
   ],
   "source": [
    "data"
   ]
  },
  {
   "cell_type": "markdown",
   "id": "b61f234b",
   "metadata": {
    "id": "b61f234b",
    "papermill": {
     "duration": 0.046334,
     "end_time": "2022-01-24T15:36:43.366947",
     "exception": false,
     "start_time": "2022-01-24T15:36:43.320613",
     "status": "completed"
    },
    "tags": []
   },
   "source": [
    "<a id=\"B\"></a> <br>\n",
    "# 🦾 Feature Extraction"
   ]
  },
  {
   "cell_type": "code",
   "execution_count": 15,
   "id": "3d88df03",
   "metadata": {
    "execution": {
     "iopub.execute_input": "2022-01-24T15:36:43.466160Z",
     "iopub.status.busy": "2022-01-24T15:36:43.465149Z",
     "iopub.status.idle": "2022-01-24T15:36:43.985931Z",
     "shell.execute_reply": "2022-01-24T15:36:43.985298Z",
     "shell.execute_reply.started": "2022-01-24T13:41:03.522894Z"
    },
    "id": "3d88df03",
    "papermill": {
     "duration": 0.572767,
     "end_time": "2022-01-24T15:36:43.986075",
     "exception": false,
     "start_time": "2022-01-24T15:36:43.413308",
     "status": "completed"
    },
    "tags": []
   },
   "outputs": [],
   "source": [
    "data['url_len'] = data['url'].apply(lambda x: len(str(x)))"
   ]
  },
  {
   "cell_type": "code",
   "execution_count": 16,
   "id": "e5af8850",
   "metadata": {
    "execution": {
     "iopub.execute_input": "2022-01-24T15:36:44.083756Z",
     "iopub.status.busy": "2022-01-24T15:36:44.080829Z",
     "iopub.status.idle": "2022-01-24T15:36:44.086693Z",
     "shell.execute_reply": "2022-01-24T15:36:44.086110Z",
     "shell.execute_reply.started": "2022-01-24T13:41:03.856371Z"
    },
    "id": "e5af8850",
    "papermill": {
     "duration": 0.054905,
     "end_time": "2022-01-24T15:36:44.086847",
     "exception": false,
     "start_time": "2022-01-24T15:36:44.031942",
     "status": "completed"
    },
    "tags": []
   },
   "outputs": [],
   "source": [
    "def process_tld(url):\n",
    "    try:\n",
    "        res = get_tld(url, as_object = True, fail_silently=False,fix_protocol=True)\n",
    "        pri_domain= res.parsed_url.netloc\n",
    "    except :\n",
    "        pri_domain= None\n",
    "    return pri_domain"
   ]
  },
  {
   "cell_type": "code",
   "execution_count": 17,
   "id": "84d5e5e6",
   "metadata": {
    "execution": {
     "iopub.execute_input": "2022-01-24T15:36:44.183577Z",
     "iopub.status.busy": "2022-01-24T15:36:44.181870Z",
     "iopub.status.idle": "2022-01-24T15:36:57.627944Z",
     "shell.execute_reply": "2022-01-24T15:36:57.628484Z",
     "shell.execute_reply.started": "2022-01-24T13:41:03.864930Z"
    },
    "id": "84d5e5e6",
    "papermill": {
     "duration": 13.495491,
     "end_time": "2022-01-24T15:36:57.628671",
     "exception": false,
     "start_time": "2022-01-24T15:36:44.133180",
     "status": "completed"
    },
    "tags": []
   },
   "outputs": [],
   "source": [
    "data['domain'] = data['url'].apply(lambda i: process_tld(i))"
   ]
  },
  {
   "cell_type": "code",
   "execution_count": 18,
   "id": "25ea4c7c",
   "metadata": {
    "colab": {
     "base_uri": "https://localhost:8080/",
     "height": 206
    },
    "execution": {
     "iopub.execute_input": "2022-01-24T15:36:57.731258Z",
     "iopub.status.busy": "2022-01-24T15:36:57.730493Z",
     "iopub.status.idle": "2022-01-24T15:36:57.733730Z",
     "shell.execute_reply": "2022-01-24T15:36:57.734191Z",
     "shell.execute_reply.started": "2022-01-24T13:41:14.082710Z"
    },
    "id": "25ea4c7c",
    "outputId": "63b4dfc9-61d7-4632-8245-c85abccf474f",
    "papermill": {
     "duration": 0.060172,
     "end_time": "2022-01-24T15:36:57.734349",
     "exception": false,
     "start_time": "2022-01-24T15:36:57.674177",
     "status": "completed"
    },
    "tags": []
   },
   "outputs": [
    {
     "data": {
      "text/html": [
       "<div>\n",
       "<style scoped>\n",
       "    .dataframe tbody tr th:only-of-type {\n",
       "        vertical-align: middle;\n",
       "    }\n",
       "\n",
       "    .dataframe tbody tr th {\n",
       "        vertical-align: top;\n",
       "    }\n",
       "\n",
       "    .dataframe thead th {\n",
       "        text-align: right;\n",
       "    }\n",
       "</style>\n",
       "<table border=\"1\" class=\"dataframe\">\n",
       "  <thead>\n",
       "    <tr style=\"text-align: right;\">\n",
       "      <th></th>\n",
       "      <th>url</th>\n",
       "      <th>type</th>\n",
       "      <th>Category</th>\n",
       "      <th>url_len</th>\n",
       "      <th>domain</th>\n",
       "    </tr>\n",
       "  </thead>\n",
       "  <tbody>\n",
       "    <tr>\n",
       "      <th>0</th>\n",
       "      <td>br-icloud.com.br</td>\n",
       "      <td>phishing</td>\n",
       "      <td>2</td>\n",
       "      <td>16</td>\n",
       "      <td>br-icloud.com.br</td>\n",
       "    </tr>\n",
       "    <tr>\n",
       "      <th>1</th>\n",
       "      <td>mp3raid.com/music/krizz_kaliko.html</td>\n",
       "      <td>benign</td>\n",
       "      <td>0</td>\n",
       "      <td>35</td>\n",
       "      <td>mp3raid.com</td>\n",
       "    </tr>\n",
       "    <tr>\n",
       "      <th>2</th>\n",
       "      <td>bopsecrets.org/rexroth/cr/1.htm</td>\n",
       "      <td>benign</td>\n",
       "      <td>0</td>\n",
       "      <td>31</td>\n",
       "      <td>bopsecrets.org</td>\n",
       "    </tr>\n",
       "    <tr>\n",
       "      <th>3</th>\n",
       "      <td>http://garage-pirenne.be/index.php?option=com_...</td>\n",
       "      <td>defacement</td>\n",
       "      <td>1</td>\n",
       "      <td>84</td>\n",
       "      <td>garage-pirenne.be</td>\n",
       "    </tr>\n",
       "    <tr>\n",
       "      <th>4</th>\n",
       "      <td>http://adventure-nicaragua.net/index.php?optio...</td>\n",
       "      <td>defacement</td>\n",
       "      <td>1</td>\n",
       "      <td>235</td>\n",
       "      <td>adventure-nicaragua.net</td>\n",
       "    </tr>\n",
       "  </tbody>\n",
       "</table>\n",
       "</div>"
      ],
      "text/plain": [
       "                                                 url        type  Category  \\\n",
       "0                                   br-icloud.com.br    phishing         2   \n",
       "1                mp3raid.com/music/krizz_kaliko.html      benign         0   \n",
       "2                    bopsecrets.org/rexroth/cr/1.htm      benign         0   \n",
       "3  http://garage-pirenne.be/index.php?option=com_...  defacement         1   \n",
       "4  http://adventure-nicaragua.net/index.php?optio...  defacement         1   \n",
       "\n",
       "   url_len                   domain  \n",
       "0       16         br-icloud.com.br  \n",
       "1       35              mp3raid.com  \n",
       "2       31           bopsecrets.org  \n",
       "3       84        garage-pirenne.be  \n",
       "4      235  adventure-nicaragua.net  "
      ]
     },
     "execution_count": 18,
     "metadata": {},
     "output_type": "execute_result"
    }
   ],
   "source": [
    "data.head()"
   ]
  },
  {
   "cell_type": "code",
   "execution_count": null,
   "id": "d38479ce",
   "metadata": {},
   "outputs": [],
   "source": []
  },
  {
   "cell_type": "code",
   "execution_count": 19,
   "id": "ae5f521a",
   "metadata": {
    "execution": {
     "iopub.execute_input": "2022-01-24T15:36:57.832243Z",
     "iopub.status.busy": "2022-01-24T15:36:57.831282Z",
     "iopub.status.idle": "2022-01-24T15:37:04.645323Z",
     "shell.execute_reply": "2022-01-24T15:37:04.645869Z",
     "shell.execute_reply.started": "2022-01-24T13:41:14.099787Z"
    },
    "id": "ae5f521a",
    "papermill": {
     "duration": 6.865117,
     "end_time": "2022-01-24T15:37:04.646040",
     "exception": false,
     "start_time": "2022-01-24T15:36:57.780923",
     "status": "completed"
    },
    "tags": []
   },
   "outputs": [],
   "source": [
    "feature = ['@','?','-','=','.','#','%','+','$','!','*',',','//']\n",
    "for a in feature:\n",
    "    data[a] = data['url'].apply(lambda i: i.count(a))"
   ]
  },
  {
   "cell_type": "code",
   "execution_count": 20,
   "id": "cbfe9d03",
   "metadata": {
    "colab": {
     "base_uri": "https://localhost:8080/",
     "height": 206
    },
    "execution": {
     "iopub.execute_input": "2022-01-24T15:37:04.742310Z",
     "iopub.status.busy": "2022-01-24T15:37:04.741340Z",
     "iopub.status.idle": "2022-01-24T15:37:04.756609Z",
     "shell.execute_reply": "2022-01-24T15:37:04.757181Z",
     "shell.execute_reply.started": "2022-01-24T13:41:18.615675Z"
    },
    "id": "cbfe9d03",
    "outputId": "d4325713-0439-475c-dd43-212b6e7a18ec",
    "papermill": {
     "duration": 0.065169,
     "end_time": "2022-01-24T15:37:04.757347",
     "exception": false,
     "start_time": "2022-01-24T15:37:04.692178",
     "status": "completed"
    },
    "tags": []
   },
   "outputs": [
    {
     "data": {
      "text/html": [
       "<div>\n",
       "<style scoped>\n",
       "    .dataframe tbody tr th:only-of-type {\n",
       "        vertical-align: middle;\n",
       "    }\n",
       "\n",
       "    .dataframe tbody tr th {\n",
       "        vertical-align: top;\n",
       "    }\n",
       "\n",
       "    .dataframe thead th {\n",
       "        text-align: right;\n",
       "    }\n",
       "</style>\n",
       "<table border=\"1\" class=\"dataframe\">\n",
       "  <thead>\n",
       "    <tr style=\"text-align: right;\">\n",
       "      <th></th>\n",
       "      <th>url</th>\n",
       "      <th>type</th>\n",
       "      <th>Category</th>\n",
       "      <th>url_len</th>\n",
       "      <th>domain</th>\n",
       "      <th>@</th>\n",
       "      <th>?</th>\n",
       "      <th>-</th>\n",
       "      <th>=</th>\n",
       "      <th>.</th>\n",
       "      <th>#</th>\n",
       "      <th>%</th>\n",
       "      <th>+</th>\n",
       "      <th>$</th>\n",
       "      <th>!</th>\n",
       "      <th>*</th>\n",
       "      <th>,</th>\n",
       "      <th>//</th>\n",
       "    </tr>\n",
       "  </thead>\n",
       "  <tbody>\n",
       "    <tr>\n",
       "      <th>0</th>\n",
       "      <td>br-icloud.com.br</td>\n",
       "      <td>phishing</td>\n",
       "      <td>2</td>\n",
       "      <td>16</td>\n",
       "      <td>br-icloud.com.br</td>\n",
       "      <td>0</td>\n",
       "      <td>0</td>\n",
       "      <td>1</td>\n",
       "      <td>0</td>\n",
       "      <td>2</td>\n",
       "      <td>0</td>\n",
       "      <td>0</td>\n",
       "      <td>0</td>\n",
       "      <td>0</td>\n",
       "      <td>0</td>\n",
       "      <td>0</td>\n",
       "      <td>0</td>\n",
       "      <td>0</td>\n",
       "    </tr>\n",
       "    <tr>\n",
       "      <th>1</th>\n",
       "      <td>mp3raid.com/music/krizz_kaliko.html</td>\n",
       "      <td>benign</td>\n",
       "      <td>0</td>\n",
       "      <td>35</td>\n",
       "      <td>mp3raid.com</td>\n",
       "      <td>0</td>\n",
       "      <td>0</td>\n",
       "      <td>0</td>\n",
       "      <td>0</td>\n",
       "      <td>2</td>\n",
       "      <td>0</td>\n",
       "      <td>0</td>\n",
       "      <td>0</td>\n",
       "      <td>0</td>\n",
       "      <td>0</td>\n",
       "      <td>0</td>\n",
       "      <td>0</td>\n",
       "      <td>0</td>\n",
       "    </tr>\n",
       "    <tr>\n",
       "      <th>2</th>\n",
       "      <td>bopsecrets.org/rexroth/cr/1.htm</td>\n",
       "      <td>benign</td>\n",
       "      <td>0</td>\n",
       "      <td>31</td>\n",
       "      <td>bopsecrets.org</td>\n",
       "      <td>0</td>\n",
       "      <td>0</td>\n",
       "      <td>0</td>\n",
       "      <td>0</td>\n",
       "      <td>2</td>\n",
       "      <td>0</td>\n",
       "      <td>0</td>\n",
       "      <td>0</td>\n",
       "      <td>0</td>\n",
       "      <td>0</td>\n",
       "      <td>0</td>\n",
       "      <td>0</td>\n",
       "      <td>0</td>\n",
       "    </tr>\n",
       "    <tr>\n",
       "      <th>3</th>\n",
       "      <td>http://garage-pirenne.be/index.php?option=com_...</td>\n",
       "      <td>defacement</td>\n",
       "      <td>1</td>\n",
       "      <td>84</td>\n",
       "      <td>garage-pirenne.be</td>\n",
       "      <td>0</td>\n",
       "      <td>1</td>\n",
       "      <td>1</td>\n",
       "      <td>4</td>\n",
       "      <td>2</td>\n",
       "      <td>0</td>\n",
       "      <td>0</td>\n",
       "      <td>0</td>\n",
       "      <td>0</td>\n",
       "      <td>0</td>\n",
       "      <td>0</td>\n",
       "      <td>0</td>\n",
       "      <td>1</td>\n",
       "    </tr>\n",
       "    <tr>\n",
       "      <th>4</th>\n",
       "      <td>http://adventure-nicaragua.net/index.php?optio...</td>\n",
       "      <td>defacement</td>\n",
       "      <td>1</td>\n",
       "      <td>235</td>\n",
       "      <td>adventure-nicaragua.net</td>\n",
       "      <td>0</td>\n",
       "      <td>1</td>\n",
       "      <td>1</td>\n",
       "      <td>3</td>\n",
       "      <td>2</td>\n",
       "      <td>0</td>\n",
       "      <td>0</td>\n",
       "      <td>0</td>\n",
       "      <td>0</td>\n",
       "      <td>0</td>\n",
       "      <td>0</td>\n",
       "      <td>0</td>\n",
       "      <td>1</td>\n",
       "    </tr>\n",
       "  </tbody>\n",
       "</table>\n",
       "</div>"
      ],
      "text/plain": [
       "                                                 url        type  Category  \\\n",
       "0                                   br-icloud.com.br    phishing         2   \n",
       "1                mp3raid.com/music/krizz_kaliko.html      benign         0   \n",
       "2                    bopsecrets.org/rexroth/cr/1.htm      benign         0   \n",
       "3  http://garage-pirenne.be/index.php?option=com_...  defacement         1   \n",
       "4  http://adventure-nicaragua.net/index.php?optio...  defacement         1   \n",
       "\n",
       "   url_len                   domain  @  ?  -  =  .  #  %  +  $  !  *  ,  //  \n",
       "0       16         br-icloud.com.br  0  0  1  0  2  0  0  0  0  0  0  0   0  \n",
       "1       35              mp3raid.com  0  0  0  0  2  0  0  0  0  0  0  0   0  \n",
       "2       31           bopsecrets.org  0  0  0  0  2  0  0  0  0  0  0  0   0  \n",
       "3       84        garage-pirenne.be  0  1  1  4  2  0  0  0  0  0  0  0   1  \n",
       "4      235  adventure-nicaragua.net  0  1  1  3  2  0  0  0  0  0  0  0   1  "
      ]
     },
     "execution_count": 20,
     "metadata": {},
     "output_type": "execute_result"
    }
   ],
   "source": [
    "data.head()"
   ]
  },
  {
   "cell_type": "code",
   "execution_count": 21,
   "id": "7474d7f2",
   "metadata": {
    "execution": {
     "iopub.execute_input": "2022-01-24T15:37:04.855818Z",
     "iopub.status.busy": "2022-01-24T15:37:04.854809Z",
     "iopub.status.idle": "2022-01-24T15:37:04.859613Z",
     "shell.execute_reply": "2022-01-24T15:37:04.860264Z",
     "shell.execute_reply.started": "2022-01-24T13:41:18.633983Z"
    },
    "id": "7474d7f2",
    "papermill": {
     "duration": 0.056736,
     "end_time": "2022-01-24T15:37:04.860555",
     "exception": false,
     "start_time": "2022-01-24T15:37:04.803819",
     "status": "completed"
    },
    "tags": []
   },
   "outputs": [],
   "source": [
    "def abnormal_url(url):\n",
    "    hostname = urlparse(url).hostname\n",
    "    hostname = str(hostname)\n",
    "    match = re.search(hostname, url)\n",
    "    if match:\n",
    "        # print match.group()\n",
    "        return 1\n",
    "    else:\n",
    "        # print 'No matching pattern found'\n",
    "        # print(f'Abnormal  URL: {url}   ===================   HOSTNAME: {hostname}')\n",
    "        return 0"
   ]
  },
  {
   "cell_type": "code",
   "execution_count": 22,
   "id": "718b92be",
   "metadata": {
    "execution": {
     "iopub.execute_input": "2022-01-24T15:37:04.960068Z",
     "iopub.status.busy": "2022-01-24T15:37:04.959092Z",
     "iopub.status.idle": "2022-01-24T15:37:21.886381Z",
     "shell.execute_reply": "2022-01-24T15:37:21.885859Z",
     "shell.execute_reply.started": "2022-01-24T13:41:18.643348Z"
    },
    "id": "718b92be",
    "papermill": {
     "duration": 16.977054,
     "end_time": "2022-01-24T15:37:21.886583",
     "exception": false,
     "start_time": "2022-01-24T15:37:04.909529",
     "status": "completed"
    },
    "tags": []
   },
   "outputs": [],
   "source": [
    "data['abnormal_url'] = data['url'].apply(lambda i: abnormal_url(i))"
   ]
  },
  {
   "cell_type": "code",
   "execution_count": 23,
   "id": "d39bf479",
   "metadata": {
    "colab": {
     "base_uri": "https://localhost:8080/",
     "height": 284
    },
    "execution": {
     "iopub.execute_input": "2022-01-24T15:37:21.992068Z",
     "iopub.status.busy": "2022-01-24T15:37:21.991005Z",
     "iopub.status.idle": "2022-01-24T15:37:22.199557Z",
     "shell.execute_reply": "2022-01-24T15:37:22.198898Z",
     "shell.execute_reply.started": "2022-01-24T13:41:31.791869Z"
    },
    "id": "d39bf479",
    "outputId": "eb79c4f1-bdc8-44d7-c1e5-039ce9988bed",
    "papermill": {
     "duration": 0.266382,
     "end_time": "2022-01-24T15:37:22.199697",
     "exception": false,
     "start_time": "2022-01-24T15:37:21.933315",
     "status": "completed"
    },
    "tags": []
   },
   "outputs": [
    {
     "data": {
      "text/plain": [
       "<BarContainer object of 2 artists>"
      ]
     },
     "execution_count": 23,
     "metadata": {},
     "output_type": "execute_result"
    },
    {
     "data": {
      "image/png": "[encoded data removed]",
      "text/plain": [
       "<Figure size 400x400 with 1 Axes>"
      ]
     },
     "metadata": {},
     "output_type": "display_data"
    }
   ],
   "source": [
    "abnormal , normal = data['abnormal_url'].value_counts()\n",
    "label = ['abnormal', 'normal_url']\n",
    "\n",
    "import matplotlib.pyplot as plt\n",
    "\n",
    "plt.figure(figsize=(4,4))\n",
    "plt.bar(label, [abnormal, normal], color=['red', 'green'])"
   ]
  },
  {
   "cell_type": "code",
   "execution_count": 24,
   "id": "555e85a0",
   "metadata": {
    "execution": {
     "iopub.execute_input": "2022-01-24T15:37:22.300592Z",
     "iopub.status.busy": "2022-01-24T15:37:22.299913Z",
     "iopub.status.idle": "2022-01-24T15:37:22.302510Z",
     "shell.execute_reply": "2022-01-24T15:37:22.303015Z",
     "shell.execute_reply.started": "2022-01-24T13:41:32.016190Z"
    },
    "id": "555e85a0",
    "papermill": {
     "duration": 0.055841,
     "end_time": "2022-01-24T15:37:22.303177",
     "exception": false,
     "start_time": "2022-01-24T15:37:22.247336",
     "status": "completed"
    },
    "tags": []
   },
   "outputs": [],
   "source": [
    "def httpSecure(url):\n",
    "    htp = urlparse(url).scheme\n",
    "    match = str(htp)\n",
    "    if match=='https':\n",
    "        # print match.group()\n",
    "        return 1\n",
    "    else:\n",
    "        # print 'No matching pattern found'\n",
    "        return 0"
   ]
  },
  {
   "cell_type": "code",
   "execution_count": 25,
   "id": "fb8982e9",
   "metadata": {
    "execution": {
     "iopub.execute_input": "2022-01-24T15:37:22.402227Z",
     "iopub.status.busy": "2022-01-24T15:37:22.401617Z",
     "iopub.status.idle": "2022-01-24T15:37:28.530328Z",
     "shell.execute_reply": "2022-01-24T15:37:28.530855Z",
     "shell.execute_reply.started": "2022-01-24T13:41:32.024127Z"
    },
    "id": "fb8982e9",
    "papermill": {
     "duration": 6.179944,
     "end_time": "2022-01-24T15:37:28.531052",
     "exception": false,
     "start_time": "2022-01-24T15:37:22.351108",
     "status": "completed"
    },
    "tags": []
   },
   "outputs": [],
   "source": [
    "data['https'] = data['url'].apply(lambda i: httpSecure(i))"
   ]
  },
  {
   "cell_type": "code",
   "execution_count": 26,
   "id": "feb71e22",
   "metadata": {
    "colab": {
     "base_uri": "https://localhost:8080/",
     "height": 279
    },
    "execution": {
     "iopub.execute_input": "2022-01-24T15:37:28.632707Z",
     "iopub.status.busy": "2022-01-24T15:37:28.632023Z",
     "iopub.status.idle": "2022-01-24T15:37:28.847281Z",
     "shell.execute_reply": "2022-01-24T15:37:28.846659Z",
     "shell.execute_reply.started": "2022-01-24T13:41:36.148291Z"
    },
    "id": "feb71e22",
    "outputId": "8ae254d3-0ef1-47c8-dc6f-94748b4faea8",
    "papermill": {
     "duration": 0.267905,
     "end_time": "2022-01-24T15:37:28.847460",
     "exception": false,
     "start_time": "2022-01-24T15:37:28.579555",
     "status": "completed"
    },
    "tags": []
   },
   "outputs": [
    {
     "data": {
      "image/png": "[encoded data removed]",
      "text/plain": [
       "<Figure size 640x480 with 1 Axes>"
      ]
     },
     "metadata": {},
     "output_type": "display_data"
    }
   ],
   "source": [
    "sns.countplot(x='https', data=data);"
   ]
  },
  {
   "cell_type": "markdown",
   "id": "152c1b47",
   "metadata": {
    "id": "152c1b47",
    "papermill": {
     "duration": 0.048502,
     "end_time": "2022-01-24T15:37:28.944391",
     "exception": false,
     "start_time": "2022-01-24T15:37:28.895889",
     "status": "completed"
    },
    "tags": []
   },
   "source": [
    "<h4>Counts the number of digit characters in a URL</h4>"
   ]
  },
  {
   "cell_type": "code",
   "execution_count": 27,
   "id": "3e77fa67",
   "metadata": {
    "execution": {
     "iopub.execute_input": "2022-01-24T15:37:29.049291Z",
     "iopub.status.busy": "2022-01-24T15:37:29.048511Z",
     "iopub.status.idle": "2022-01-24T15:37:29.051581Z",
     "shell.execute_reply": "2022-01-24T15:37:29.052045Z",
     "shell.execute_reply.started": "2022-01-24T13:41:36.376923Z"
    },
    "id": "3e77fa67",
    "papermill": {
     "duration": 0.059169,
     "end_time": "2022-01-24T15:37:29.052215",
     "exception": false,
     "start_time": "2022-01-24T15:37:28.993046",
     "status": "completed"
    },
    "tags": []
   },
   "outputs": [],
   "source": [
    "def digit_count(url):\n",
    "    digits = 0\n",
    "    for i in url:\n",
    "        if i.isnumeric():\n",
    "            digits = digits + 1\n",
    "    return digits"
   ]
  },
  {
   "cell_type": "code",
   "execution_count": 28,
   "id": "c1bc00b9",
   "metadata": {
    "execution": {
     "iopub.execute_input": "2022-01-24T15:37:29.154844Z",
     "iopub.status.busy": "2022-01-24T15:37:29.154181Z",
     "iopub.status.idle": "2022-01-24T15:37:31.977233Z",
     "shell.execute_reply": "2022-01-24T15:37:31.977820Z",
     "shell.execute_reply.started": "2022-01-24T13:41:36.384465Z"
    },
    "id": "c1bc00b9",
    "papermill": {
     "duration": 2.877114,
     "end_time": "2022-01-24T15:37:31.978003",
     "exception": false,
     "start_time": "2022-01-24T15:37:29.100889",
     "status": "completed"
    },
    "tags": []
   },
   "outputs": [],
   "source": [
    "data['digits']= data['url'].apply(lambda i: digit_count(i))"
   ]
  },
  {
   "cell_type": "markdown",
   "id": "6815b994",
   "metadata": {
    "id": "6815b994",
    "papermill": {
     "duration": 0.047773,
     "end_time": "2022-01-24T15:37:32.075077",
     "exception": false,
     "start_time": "2022-01-24T15:37:32.027304",
     "status": "completed"
    },
    "tags": []
   },
   "source": [
    "<h4>Counts the number of letter characters in a URL</h4>"
   ]
  },
  {
   "cell_type": "code",
   "execution_count": 29,
   "id": "fa5f6ead",
   "metadata": {
    "execution": {
     "iopub.execute_input": "2022-01-24T15:37:32.176642Z",
     "iopub.status.busy": "2022-01-24T15:37:32.174391Z",
     "iopub.status.idle": "2022-01-24T15:37:32.179341Z",
     "shell.execute_reply": "2022-01-24T15:37:32.178836Z",
     "shell.execute_reply.started": "2022-01-24T13:41:38.900877Z"
    },
    "id": "fa5f6ead",
    "papermill": {
     "duration": 0.055892,
     "end_time": "2022-01-24T15:37:32.179489",
     "exception": false,
     "start_time": "2022-01-24T15:37:32.123597",
     "status": "completed"
    },
    "tags": []
   },
   "outputs": [],
   "source": [
    "def letter_count(url):\n",
    "    letters = 0\n",
    "    for i in url:\n",
    "        if i.isalpha():\n",
    "            letters = letters + 1\n",
    "    return letters"
   ]
  },
  {
   "cell_type": "code",
   "execution_count": 30,
   "id": "3b4d9f92",
   "metadata": {
    "execution": {
     "iopub.execute_input": "2022-01-24T15:37:32.295545Z",
     "iopub.status.busy": "2022-01-24T15:37:32.280034Z",
     "iopub.status.idle": "2022-01-24T15:37:36.742957Z",
     "shell.execute_reply": "2022-01-24T15:37:36.742395Z",
     "shell.execute_reply.started": "2022-01-24T13:41:38.907948Z"
    },
    "id": "3b4d9f92",
    "papermill": {
     "duration": 4.515364,
     "end_time": "2022-01-24T15:37:36.743106",
     "exception": false,
     "start_time": "2022-01-24T15:37:32.227742",
     "status": "completed"
    },
    "tags": []
   },
   "outputs": [],
   "source": [
    "data['letters']= data['url'].apply(lambda i: letter_count(i))"
   ]
  },
  {
   "cell_type": "markdown",
   "id": "3c46777b",
   "metadata": {
    "id": "3c46777b",
    "papermill": {
     "duration": 0.048167,
     "end_time": "2022-01-24T15:37:36.839716",
     "exception": false,
     "start_time": "2022-01-24T15:37:36.791549",
     "status": "completed"
    },
    "tags": []
   },
   "source": [
    "<h4>Checks to see whether URL contains a shortening service</h4>"
   ]
  },
  {
   "cell_type": "code",
   "execution_count": 31,
   "id": "69cfe044",
   "metadata": {
    "execution": {
     "iopub.execute_input": "2022-01-24T15:37:36.942284Z",
     "iopub.status.busy": "2022-01-24T15:37:36.941645Z",
     "iopub.status.idle": "2022-01-24T15:37:36.946440Z",
     "shell.execute_reply": "2022-01-24T15:37:36.946945Z",
     "shell.execute_reply.started": "2022-01-24T13:41:42.056007Z"
    },
    "id": "69cfe044",
    "papermill": {
     "duration": 0.056553,
     "end_time": "2022-01-24T15:37:36.947112",
     "exception": false,
     "start_time": "2022-01-24T15:37:36.890559",
     "status": "completed"
    },
    "tags": []
   },
   "outputs": [],
   "source": [
    "def Shortining_Service(url):\n",
    "    match = re.search('bit\\.ly|goo\\.gl|shorte\\.st|go2l\\.ink|x\\.co|ow\\.ly|t\\.co|tinyurl|tr\\.im|is\\.gd|cli\\.gs|'\n",
    "                      'yfrog\\.com|migre\\.me|ff\\.im|tiny\\.cc|url4\\.eu|twit\\.ac|su\\.pr|twurl\\.nl|snipurl\\.com|'\n",
    "                      'short\\.to|BudURL\\.com|ping\\.fm|post\\.ly|Just\\.as|bkite\\.com|snipr\\.com|fic\\.kr|loopt\\.us|'\n",
    "                      'doiop\\.com|short\\.ie|kl\\.am|wp\\.me|rubyurl\\.com|om\\.ly|to\\.ly|bit\\.do|t\\.co|lnkd\\.in|'\n",
    "                      'db\\.tt|qr\\.ae|adf\\.ly|goo\\.gl|bitly\\.com|cur\\.lv|tinyurl\\.com|ow\\.ly|bit\\.ly|ity\\.im|'\n",
    "                      'q\\.gs|is\\.gd|po\\.st|bc\\.vc|twitthis\\.com|u\\.to|j\\.mp|buzurl\\.com|cutt\\.us|u\\.bb|yourls\\.org|'\n",
    "                      'x\\.co|prettylinkpro\\.com|scrnch\\.me|filoops\\.info|vzturl\\.com|qr\\.net|1url\\.com|tweez\\.me|v\\.gd|'\n",
    "                      'tr\\.im|link\\.zip\\.net',\n",
    "                      url)\n",
    "    if match:\n",
    "        return 1\n",
    "    else:\n",
    "        return 0"
   ]
  },
  {
   "cell_type": "code",
   "execution_count": 32,
   "id": "f8df7ef1",
   "metadata": {
    "execution": {
     "iopub.execute_input": "2022-01-24T15:37:37.049356Z",
     "iopub.status.busy": "2022-01-24T15:37:37.048715Z",
     "iopub.status.idle": "2022-01-24T15:37:45.762786Z",
     "shell.execute_reply": "2022-01-24T15:37:45.762162Z",
     "shell.execute_reply.started": "2022-01-24T13:41:42.065611Z"
    },
    "id": "f8df7ef1",
    "papermill": {
     "duration": 8.766529,
     "end_time": "2022-01-24T15:37:45.762968",
     "exception": false,
     "start_time": "2022-01-24T15:37:36.996439",
     "status": "completed"
    },
    "tags": []
   },
   "outputs": [],
   "source": [
    "data['Shortining_Service'] = data['url'].apply(lambda x: Shortining_Service(x))"
   ]
  },
  {
   "cell_type": "code",
   "execution_count": 33,
   "id": "487ea406",
   "metadata": {
    "colab": {
     "base_uri": "https://localhost:8080/",
     "height": 280
    },
    "execution": {
     "iopub.execute_input": "2022-01-24T15:37:45.866329Z",
     "iopub.status.busy": "2022-01-24T15:37:45.865706Z",
     "iopub.status.idle": "2022-01-24T15:37:46.083700Z",
     "shell.execute_reply": "2022-01-24T15:37:46.084168Z",
     "shell.execute_reply.started": "2022-01-24T13:41:49.492210Z"
    },
    "id": "487ea406",
    "outputId": "155bc47d-5f45-4e65-cf1c-c29348d92cf8",
    "papermill": {
     "duration": 0.273195,
     "end_time": "2022-01-24T15:37:46.084347",
     "exception": false,
     "start_time": "2022-01-24T15:37:45.811152",
     "status": "completed"
    },
    "tags": []
   },
   "outputs": [
    {
     "data": {
      "image/png": "[encoded data removed]",
      "text/plain": [
       "<Figure size 640x480 with 1 Axes>"
      ]
     },
     "metadata": {},
     "output_type": "display_data"
    }
   ],
   "source": [
    "sns.countplot(x='Shortining_Service', data=data);"
   ]
  },
  {
   "cell_type": "code",
   "execution_count": 34,
   "id": "30854ef4",
   "metadata": {
    "execution": {
     "iopub.execute_input": "2022-01-24T15:37:46.185373Z",
     "iopub.status.busy": "2022-01-24T15:37:46.184729Z",
     "iopub.status.idle": "2022-01-24T15:37:46.189278Z",
     "shell.execute_reply": "2022-01-24T15:37:46.189796Z",
     "shell.execute_reply.started": "2022-01-24T13:41:49.733529Z"
    },
    "id": "30854ef4",
    "papermill": {
     "duration": 0.056878,
     "end_time": "2022-01-24T15:37:46.189963",
     "exception": false,
     "start_time": "2022-01-24T15:37:46.133085",
     "status": "completed"
    },
    "tags": []
   },
   "outputs": [],
   "source": [
    "def having_ip_address(url):\n",
    "    match = re.search(\n",
    "        '(([01]?\\\\d\\\\d?|2[0-4]\\\\d|25[0-5])\\\\.([01]?\\\\d\\\\d?|2[0-4]\\\\d|25[0-5])\\\\.([01]?\\\\d\\\\d?|2[0-4]\\\\d|25[0-5])\\\\.'\n",
    "        '([01]?\\\\d\\\\d?|2[0-4]\\\\d|25[0-5])\\\\/)|'  # IPv4\n",
    "        '(([01]?\\\\d\\\\d?|2[0-4]\\\\d|25[0-5])\\\\.([01]?\\\\d\\\\d?|2[0-4]\\\\d|25[0-5])\\\\.([01]?\\\\d\\\\d?|2[0-4]\\\\d|25[0-5])\\\\.'\n",
    "        '([01]?\\\\d\\\\d?|2[0-4]\\\\d|25[0-5])\\\\/)|'  # IPv4 with port\n",
    "        '((0x[0-9a-fA-F]{1,2})\\\\.(0x[0-9a-fA-F]{1,2})\\\\.(0x[0-9a-fA-F]{1,2})\\\\.(0x[0-9a-fA-F]{1,2})\\\\/)' # IPv4 in hexadecimal\n",
    "        '(?:[a-fA-F0-9]{1,4}:){7}[a-fA-F0-9]{1,4}|'\n",
    "        '([0-9]+(?:\\.[0-9]+){3}:[0-9]+)|'\n",
    "        '((?:(?:\\d|[01]?\\d\\d|2[0-4]\\d|25[0-5])\\.){3}(?:25[0-5]|2[0-4]\\d|[01]?\\d\\d|\\d)(?:\\/\\d{1,2})?)', url)  # Ipv6\n",
    "    if match:\n",
    "        return 1\n",
    "    else:\n",
    "        return 0"
   ]
  },
  {
   "cell_type": "code",
   "execution_count": 35,
   "id": "59b70f9e",
   "metadata": {
    "execution": {
     "iopub.execute_input": "2022-01-24T15:37:46.293884Z",
     "iopub.status.busy": "2022-01-24T15:37:46.293177Z",
     "iopub.status.idle": "2022-01-24T15:38:20.230238Z",
     "shell.execute_reply": "2022-01-24T15:38:20.229679Z",
     "shell.execute_reply.started": "2022-01-24T13:41:49.741747Z"
    },
    "id": "59b70f9e",
    "papermill": {
     "duration": 33.991411,
     "end_time": "2022-01-24T15:38:20.230389",
     "exception": false,
     "start_time": "2022-01-24T15:37:46.238978",
     "status": "completed"
    },
    "tags": []
   },
   "outputs": [],
   "source": [
    "data['having_ip_address'] = data['url'].apply(lambda i: having_ip_address(i))"
   ]
  },
  {
   "cell_type": "code",
   "execution_count": 36,
   "id": "b1835d44",
   "metadata": {
    "colab": {
     "base_uri": "https://localhost:8080/"
    },
    "execution": {
     "iopub.execute_input": "2022-01-24T15:38:20.339278Z",
     "iopub.status.busy": "2022-01-24T15:38:20.337302Z",
     "iopub.status.idle": "2022-01-24T15:38:20.342496Z",
     "shell.execute_reply": "2022-01-24T15:38:20.343119Z",
     "shell.execute_reply.started": "2022-01-24T13:42:03.512143Z"
    },
    "id": "b1835d44",
    "outputId": "ebc01056-8827-4cfc-9825-e685224c7d3c",
    "papermill": {
     "duration": 0.063691,
     "end_time": "2022-01-24T15:38:20.343312",
     "exception": false,
     "start_time": "2022-01-24T15:38:20.279621",
     "status": "completed"
    },
    "tags": []
   },
   "outputs": [
    {
     "data": {
      "text/plain": [
       "0    638703\n",
       "1     12488\n",
       "Name: having_ip_address, dtype: int64"
      ]
     },
     "execution_count": 36,
     "metadata": {},
     "output_type": "execute_result"
    }
   ],
   "source": [
    "data['having_ip_address'].value_counts()"
   ]
  },
  {
   "cell_type": "code",
   "execution_count": 37,
   "id": "82ae2679",
   "metadata": {
    "execution": {
     "iopub.execute_input": "2022-01-24T15:38:22.230109Z",
     "iopub.status.busy": "2022-01-24T15:38:22.229457Z",
     "iopub.status.idle": "2022-01-24T15:38:22.407850Z",
     "shell.execute_reply": "2022-01-24T15:38:22.407143Z",
     "shell.execute_reply.started": "2022-01-24T13:42:05.197892Z"
    },
    "id": "82ae2679",
    "papermill": {
     "duration": 0.232103,
     "end_time": "2022-01-24T15:38:22.407988",
     "exception": false,
     "start_time": "2022-01-24T15:38:22.175885",
     "status": "completed"
    },
    "tags": []
   },
   "outputs": [],
   "source": [
    "X = data.drop(['url','type','Category','domain'],axis=1)#,'type_code'\n",
    "y = data['Category']"
   ]
  },
  {
   "cell_type": "code",
   "execution_count": 38,
   "id": "f3be89a8",
   "metadata": {
    "colab": {
     "base_uri": "https://localhost:8080/",
     "height": 423
    },
    "id": "f3be89a8",
    "outputId": "29b622f0-8e85-4de4-a99e-0be16aaae877",
    "scrolled": false
   },
   "outputs": [
    {
     "data": {
      "text/html": [
       "<div>\n",
       "<style scoped>\n",
       "    .dataframe tbody tr th:only-of-type {\n",
       "        vertical-align: middle;\n",
       "    }\n",
       "\n",
       "    .dataframe tbody tr th {\n",
       "        vertical-align: top;\n",
       "    }\n",
       "\n",
       "    .dataframe thead th {\n",
       "        text-align: right;\n",
       "    }\n",
       "</style>\n",
       "<table border=\"1\" class=\"dataframe\">\n",
       "  <thead>\n",
       "    <tr style=\"text-align: right;\">\n",
       "      <th></th>\n",
       "      <th>url_len</th>\n",
       "      <th>@</th>\n",
       "      <th>?</th>\n",
       "      <th>-</th>\n",
       "      <th>=</th>\n",
       "      <th>.</th>\n",
       "      <th>#</th>\n",
       "      <th>%</th>\n",
       "      <th>+</th>\n",
       "      <th>$</th>\n",
       "      <th>!</th>\n",
       "      <th>*</th>\n",
       "      <th>,</th>\n",
       "      <th>//</th>\n",
       "      <th>abnormal_url</th>\n",
       "      <th>https</th>\n",
       "      <th>digits</th>\n",
       "      <th>letters</th>\n",
       "      <th>Shortining_Service</th>\n",
       "      <th>having_ip_address</th>\n",
       "    </tr>\n",
       "  </thead>\n",
       "  <tbody>\n",
       "    <tr>\n",
       "      <th>0</th>\n",
       "      <td>16</td>\n",
       "      <td>0</td>\n",
       "      <td>0</td>\n",
       "      <td>1</td>\n",
       "      <td>0</td>\n",
       "      <td>2</td>\n",
       "      <td>0</td>\n",
       "      <td>0</td>\n",
       "      <td>0</td>\n",
       "      <td>0</td>\n",
       "      <td>0</td>\n",
       "      <td>0</td>\n",
       "      <td>0</td>\n",
       "      <td>0</td>\n",
       "      <td>0</td>\n",
       "      <td>0</td>\n",
       "      <td>0</td>\n",
       "      <td>13</td>\n",
       "      <td>0</td>\n",
       "      <td>0</td>\n",
       "    </tr>\n",
       "    <tr>\n",
       "      <th>1</th>\n",
       "      <td>35</td>\n",
       "      <td>0</td>\n",
       "      <td>0</td>\n",
       "      <td>0</td>\n",
       "      <td>0</td>\n",
       "      <td>2</td>\n",
       "      <td>0</td>\n",
       "      <td>0</td>\n",
       "      <td>0</td>\n",
       "      <td>0</td>\n",
       "      <td>0</td>\n",
       "      <td>0</td>\n",
       "      <td>0</td>\n",
       "      <td>0</td>\n",
       "      <td>0</td>\n",
       "      <td>0</td>\n",
       "      <td>1</td>\n",
       "      <td>29</td>\n",
       "      <td>0</td>\n",
       "      <td>0</td>\n",
       "    </tr>\n",
       "    <tr>\n",
       "      <th>2</th>\n",
       "      <td>31</td>\n",
       "      <td>0</td>\n",
       "      <td>0</td>\n",
       "      <td>0</td>\n",
       "      <td>0</td>\n",
       "      <td>2</td>\n",
       "      <td>0</td>\n",
       "      <td>0</td>\n",
       "      <td>0</td>\n",
       "      <td>0</td>\n",
       "      <td>0</td>\n",
       "      <td>0</td>\n",
       "      <td>0</td>\n",
       "      <td>0</td>\n",
       "      <td>0</td>\n",
       "      <td>0</td>\n",
       "      <td>1</td>\n",
       "      <td>25</td>\n",
       "      <td>0</td>\n",
       "      <td>0</td>\n",
       "    </tr>\n",
       "    <tr>\n",
       "      <th>3</th>\n",
       "      <td>84</td>\n",
       "      <td>0</td>\n",
       "      <td>1</td>\n",
       "      <td>1</td>\n",
       "      <td>4</td>\n",
       "      <td>2</td>\n",
       "      <td>0</td>\n",
       "      <td>0</td>\n",
       "      <td>0</td>\n",
       "      <td>0</td>\n",
       "      <td>0</td>\n",
       "      <td>0</td>\n",
       "      <td>0</td>\n",
       "      <td>1</td>\n",
       "      <td>1</td>\n",
       "      <td>0</td>\n",
       "      <td>7</td>\n",
       "      <td>60</td>\n",
       "      <td>0</td>\n",
       "      <td>0</td>\n",
       "    </tr>\n",
       "    <tr>\n",
       "      <th>4</th>\n",
       "      <td>235</td>\n",
       "      <td>0</td>\n",
       "      <td>1</td>\n",
       "      <td>1</td>\n",
       "      <td>3</td>\n",
       "      <td>2</td>\n",
       "      <td>0</td>\n",
       "      <td>0</td>\n",
       "      <td>0</td>\n",
       "      <td>0</td>\n",
       "      <td>0</td>\n",
       "      <td>0</td>\n",
       "      <td>0</td>\n",
       "      <td>1</td>\n",
       "      <td>1</td>\n",
       "      <td>0</td>\n",
       "      <td>22</td>\n",
       "      <td>199</td>\n",
       "      <td>0</td>\n",
       "      <td>0</td>\n",
       "    </tr>\n",
       "    <tr>\n",
       "      <th>...</th>\n",
       "      <td>...</td>\n",
       "      <td>...</td>\n",
       "      <td>...</td>\n",
       "      <td>...</td>\n",
       "      <td>...</td>\n",
       "      <td>...</td>\n",
       "      <td>...</td>\n",
       "      <td>...</td>\n",
       "      <td>...</td>\n",
       "      <td>...</td>\n",
       "      <td>...</td>\n",
       "      <td>...</td>\n",
       "      <td>...</td>\n",
       "      <td>...</td>\n",
       "      <td>...</td>\n",
       "      <td>...</td>\n",
       "      <td>...</td>\n",
       "      <td>...</td>\n",
       "      <td>...</td>\n",
       "      <td>...</td>\n",
       "    </tr>\n",
       "    <tr>\n",
       "      <th>651186</th>\n",
       "      <td>39</td>\n",
       "      <td>0</td>\n",
       "      <td>0</td>\n",
       "      <td>0</td>\n",
       "      <td>0</td>\n",
       "      <td>3</td>\n",
       "      <td>0</td>\n",
       "      <td>0</td>\n",
       "      <td>0</td>\n",
       "      <td>0</td>\n",
       "      <td>0</td>\n",
       "      <td>0</td>\n",
       "      <td>0</td>\n",
       "      <td>0</td>\n",
       "      <td>0</td>\n",
       "      <td>0</td>\n",
       "      <td>12</td>\n",
       "      <td>21</td>\n",
       "      <td>0</td>\n",
       "      <td>0</td>\n",
       "    </tr>\n",
       "    <tr>\n",
       "      <th>651187</th>\n",
       "      <td>44</td>\n",
       "      <td>0</td>\n",
       "      <td>0</td>\n",
       "      <td>2</td>\n",
       "      <td>0</td>\n",
       "      <td>2</td>\n",
       "      <td>0</td>\n",
       "      <td>0</td>\n",
       "      <td>0</td>\n",
       "      <td>0</td>\n",
       "      <td>0</td>\n",
       "      <td>0</td>\n",
       "      <td>0</td>\n",
       "      <td>0</td>\n",
       "      <td>0</td>\n",
       "      <td>0</td>\n",
       "      <td>7</td>\n",
       "      <td>29</td>\n",
       "      <td>1</td>\n",
       "      <td>0</td>\n",
       "    </tr>\n",
       "    <tr>\n",
       "      <th>651188</th>\n",
       "      <td>38</td>\n",
       "      <td>0</td>\n",
       "      <td>0</td>\n",
       "      <td>0</td>\n",
       "      <td>0</td>\n",
       "      <td>1</td>\n",
       "      <td>0</td>\n",
       "      <td>0</td>\n",
       "      <td>0</td>\n",
       "      <td>0</td>\n",
       "      <td>0</td>\n",
       "      <td>0</td>\n",
       "      <td>0</td>\n",
       "      <td>0</td>\n",
       "      <td>0</td>\n",
       "      <td>0</td>\n",
       "      <td>3</td>\n",
       "      <td>30</td>\n",
       "      <td>1</td>\n",
       "      <td>0</td>\n",
       "    </tr>\n",
       "    <tr>\n",
       "      <th>651189</th>\n",
       "      <td>45</td>\n",
       "      <td>0</td>\n",
       "      <td>0</td>\n",
       "      <td>0</td>\n",
       "      <td>0</td>\n",
       "      <td>2</td>\n",
       "      <td>0</td>\n",
       "      <td>0</td>\n",
       "      <td>0</td>\n",
       "      <td>0</td>\n",
       "      <td>0</td>\n",
       "      <td>0</td>\n",
       "      <td>0</td>\n",
       "      <td>0</td>\n",
       "      <td>0</td>\n",
       "      <td>0</td>\n",
       "      <td>0</td>\n",
       "      <td>36</td>\n",
       "      <td>0</td>\n",
       "      <td>0</td>\n",
       "    </tr>\n",
       "    <tr>\n",
       "      <th>651190</th>\n",
       "      <td>37</td>\n",
       "      <td>0</td>\n",
       "      <td>0</td>\n",
       "      <td>0</td>\n",
       "      <td>0</td>\n",
       "      <td>1</td>\n",
       "      <td>0</td>\n",
       "      <td>0</td>\n",
       "      <td>0</td>\n",
       "      <td>0</td>\n",
       "      <td>0</td>\n",
       "      <td>0</td>\n",
       "      <td>0</td>\n",
       "      <td>0</td>\n",
       "      <td>0</td>\n",
       "      <td>0</td>\n",
       "      <td>0</td>\n",
       "      <td>33</td>\n",
       "      <td>0</td>\n",
       "      <td>0</td>\n",
       "    </tr>\n",
       "  </tbody>\n",
       "</table>\n",
       "<p>651191 rows × 20 columns</p>\n",
       "</div>"
      ],
      "text/plain": [
       "        url_len  @  ?  -  =  .  #  %  +  $  !  *  ,  //  abnormal_url  https  \\\n",
       "0            16  0  0  1  0  2  0  0  0  0  0  0  0   0             0      0   \n",
       "1            35  0  0  0  0  2  0  0  0  0  0  0  0   0             0      0   \n",
       "2            31  0  0  0  0  2  0  0  0  0  0  0  0   0             0      0   \n",
       "3            84  0  1  1  4  2  0  0  0  0  0  0  0   1             1      0   \n",
       "4           235  0  1  1  3  2  0  0  0  0  0  0  0   1             1      0   \n",
       "...         ... .. .. .. .. .. .. .. .. .. .. .. ..  ..           ...    ...   \n",
       "651186       39  0  0  0  0  3  0  0  0  0  0  0  0   0             0      0   \n",
       "651187       44  0  0  2  0  2  0  0  0  0  0  0  0   0             0      0   \n",
       "651188       38  0  0  0  0  1  0  0  0  0  0  0  0   0             0      0   \n",
       "651189       45  0  0  0  0  2  0  0  0  0  0  0  0   0             0      0   \n",
       "651190       37  0  0  0  0  1  0  0  0  0  0  0  0   0             0      0   \n",
       "\n",
       "        digits  letters  Shortining_Service  having_ip_address  \n",
       "0            0       13                   0                  0  \n",
       "1            1       29                   0                  0  \n",
       "2            1       25                   0                  0  \n",
       "3            7       60                   0                  0  \n",
       "4           22      199                   0                  0  \n",
       "...        ...      ...                 ...                ...  \n",
       "651186      12       21                   0                  0  \n",
       "651187       7       29                   1                  0  \n",
       "651188       3       30                   1                  0  \n",
       "651189       0       36                   0                  0  \n",
       "651190       0       33                   0                  0  \n",
       "\n",
       "[651191 rows x 20 columns]"
      ]
     },
     "execution_count": 38,
     "metadata": {},
     "output_type": "execute_result"
    }
   ],
   "source": [
    "X"
   ]
  },
  {
   "cell_type": "code",
   "execution_count": null,
   "id": "27d4691d",
   "metadata": {},
   "outputs": [],
   "source": [
    "from imblearn.over_sampling import RandomOverSampler, ADASYN\n",
    "# Apply random oversampling\n",
    "ros = ADASYN()\n",
    "X_resampled, y_resampled = ros.fit_resample(X, y)"
   ]
  },
  {
   "cell_type": "code",
   "execution_count": 76,
   "id": "76099347",
   "metadata": {},
   "outputs": [
    {
     "data": {
      "text/plain": [
       "Text(0.5, 1.0, 'balance dataset')"
      ]
     },
     "execution_count": 76,
     "metadata": {},
     "output_type": "execute_result"
    },
    {
     "data": {
      "image/png": "[encoded data removed]",
      "text/plain": [
       "<Figure size 640x480 with 1 Axes>"
      ]
     },
     "metadata": {},
     "output_type": "display_data"
    }
   ],
   "source": [
    "y_resampled.value_counts().plot(kind='bar')\n",
    "plt.title('balance dataset')"
   ]
  },
  {
   "cell_type": "markdown",
   "id": "9129a5d4",
   "metadata": {
    "id": "9129a5d4",
    "papermill": {
     "duration": 0.050957,
     "end_time": "2022-01-24T15:38:22.510100",
     "exception": false,
     "start_time": "2022-01-24T15:38:22.459143",
     "status": "completed"
    },
    "tags": []
   },
   "source": [
    "<a id=\"6\"></a> <br>\n",
    "#  Train & Test Split"
   ]
  },
  {
   "cell_type": "code",
   "execution_count": 73,
   "id": "f7ca33a1",
   "metadata": {
    "execution": {
     "iopub.execute_input": "2022-01-24T15:38:22.620347Z",
     "iopub.status.busy": "2022-01-24T15:38:22.619521Z",
     "iopub.status.idle": "2022-01-24T15:38:22.789960Z",
     "shell.execute_reply": "2022-01-24T15:38:22.790511Z",
     "shell.execute_reply.started": "2022-01-24T13:42:05.385665Z"
    },
    "id": "f7ca33a1",
    "papermill": {
     "duration": 0.229472,
     "end_time": "2022-01-24T15:38:22.790719",
     "exception": false,
     "start_time": "2022-01-24T15:38:22.561247",
     "status": "completed"
    },
    "tags": []
   },
   "outputs": [
    {
     "name": "stdout",
     "output_type": "stream",
     "text": [
      "X train : 1369929\n",
      "X test  : 342483\n",
      "y train : 1369929\n",
      "y test  : 342483\n"
     ]
    }
   ],
   "source": [
    "# X_train, X_test, y_train, y_test = train_test_split(X, y, test_size=0.2, random_state=2)\n",
    "X_train, X_test, y_train, y_test = train_test_split(X_resampled,y_resampled, test_size=0.2, random_state=2)\n",
    "\n",
    "print('X train : {}'.format(len(X_train)))\n",
    "print('X test  : {}'.format(len(X_test)))\n",
    "print('y train : {}'.format(len(y_train)))\n",
    "print('y test  : {}'.format(len(y_test)))"
   ]
  },
  {
   "cell_type": "markdown",
   "id": "86c502df",
   "metadata": {
    "id": "86c502df",
    "papermill": {
     "duration": 0.052559,
     "end_time": "2022-01-24T15:38:22.894302",
     "exception": false,
     "start_time": "2022-01-24T15:38:22.841743",
     "status": "completed"
    },
    "tags": []
   },
   "source": [
    "<a id=\"7\"></a> <br>\n",
    "# <img src=\"https://cdn-icons-png.flaticon.com/32/4149/4149680.png\"/> Training models"
   ]
  },
  {
   "cell_type": "code",
   "execution_count": 40,
   "id": "303b3271",
   "metadata": {
    "execution": {
     "iopub.execute_input": "2022-01-24T15:38:23.002601Z",
     "iopub.status.busy": "2022-01-24T15:38:23.001915Z",
     "iopub.status.idle": "2022-01-24T15:38:23.004483Z",
     "shell.execute_reply": "2022-01-24T15:38:23.003971Z",
     "shell.execute_reply.started": "2022-01-24T13:42:05.598591Z"
    },
    "id": "303b3271",
    "papermill": {
     "duration": 0.058031,
     "end_time": "2022-01-24T15:38:23.004632",
     "exception": false,
     "start_time": "2022-01-24T15:38:22.946601",
     "status": "completed"
    },
    "tags": []
   },
   "outputs": [],
   "source": [
    "from sklearn.metrics import confusion_matrix, classification_report"
   ]
  },
  {
   "cell_type": "markdown",
   "id": "5917492b",
   "metadata": {},
   "source": [
    "### this are the model we would be considering for training"
   ]
  },
  {
   "cell_type": "code",
   "execution_count": 41,
   "id": "3d2cda4e",
   "metadata": {
    "execution": {
     "iopub.execute_input": "2022-01-24T15:38:23.119676Z",
     "iopub.status.busy": "2022-01-24T15:38:23.118500Z",
     "iopub.status.idle": "2022-01-24T15:42:41.226025Z",
     "shell.execute_reply": "2022-01-24T15:42:41.224720Z",
     "shell.execute_reply.started": "2022-01-24T14:16:12.894287Z"
    },
    "id": "3d2cda4e",
    "outputId": "f0c1dd60-fab9-4637-cf78-9cbf8f5d2325",
    "papermill": {
     "duration": 258.168517,
     "end_time": "2022-01-24T15:42:41.226242",
     "exception": false,
     "start_time": "2022-01-24T15:38:23.057725",
     "status": "completed"
    },
    "tags": []
   },
   "outputs": [],
   "source": [
    "models = [RandomForestClassifier,AdaBoostClassifier,SGDClassifier]"
   ]
  },
  {
   "cell_type": "code",
   "execution_count": 42,
   "id": "b2657339",
   "metadata": {
    "id": "b2657339"
   },
   "outputs": [],
   "source": [
    "from sklearn import svm\n",
    "from sklearn import linear_model \n",
    "from sklearn import tree\n",
    "from sklearn import ensemble\n",
    "import seaborn as sn \n",
    "\n",
    "\n",
    "# GENERAL METHOD TO PASS EACH MODEL\n",
    "def prediction_model(model_name, model , xtrain , ytrain, xtest , ytest):\n",
    "    clf = model.fit(X_train, y_train)\n",
    "    clf.fit(X_train, y_train)\n",
    "    score = clf.score(X_test, y_test)\n",
    "    print(f'Prediction Score from {model_name} is : {score}')\n",
    "    return model, score  "
   ]
  },
  {
   "cell_type": "code",
   "execution_count": 43,
   "id": "1037b3a2",
   "metadata": {},
   "outputs": [],
   "source": [
    "from sklearn.metrics import accuracy_score, precision_score, recall_score"
   ]
  },
  {
   "cell_type": "markdown",
   "id": "Ls97gfLv0B1x",
   "metadata": {
    "id": "Ls97gfLv0B1x"
   },
   "source": [
    "# Random forest"
   ]
  },
  {
   "cell_type": "code",
   "execution_count": 77,
   "id": "veKJGcbQs7oB",
   "metadata": {
    "colab": {
     "base_uri": "https://localhost:8080/"
    },
    "id": "veKJGcbQs7oB",
    "outputId": "77e9f48e-5f59-43e5-93ae-dfb501eb3bb9"
   },
   "outputs": [
    {
     "name": "stdout",
     "output_type": "stream",
     "text": [
      "Training Accuracy Score of 0.9128219502865835\n"
     ]
    }
   ],
   "source": [
    "# rd_model , s = prediction_model('Random Forest',  ensemble.RandomForestClassifier() , X_train , y_train, X_test , y_test)\n",
    "\n",
    "# inintializaing the model.. \n",
    "randomforest = RandomForestClassifier(n_estimators=100)\n",
    "\n",
    "# training the model using fit \n",
    "rd_model = randomforest.fit(X_train, y_train)\n",
    "\n",
    "# model accuracy score \n",
    "score = rd_model.score(X_test, y_test)\n",
    "print('Training Accuracy Score of {}'.format(score))\n",
    "\n",
    "# evaluating model or testing model  using testing dataset.... \n",
    "rd_prediction = rd_model.predict(X_test)\n",
    "rd_report = classification_report(y_test, rd_prediction)\n",
    "rd_confusion_matrix = confusion_matrix(y_test, rd_prediction)"
   ]
  },
  {
   "cell_type": "code",
   "execution_count": 45,
   "id": "f6026932",
   "metadata": {},
   "outputs": [],
   "source": [
    "# evaluation"
   ]
  },
  {
   "cell_type": "code",
   "execution_count": 46,
   "id": "1b5573e1",
   "metadata": {},
   "outputs": [
    {
     "name": "stdout",
     "output_type": "stream",
     "text": [
      "              precision    recall  f1-score   support\n",
      "\n",
      "           0       0.92      0.98      0.95     85565\n",
      "           1       0.94      0.97      0.95     19319\n",
      "           2       0.83      0.58      0.68     18805\n",
      "           3       0.96      0.91      0.94      6550\n",
      "\n",
      "    accuracy                           0.91    130239\n",
      "   macro avg       0.91      0.86      0.88    130239\n",
      "weighted avg       0.91      0.91      0.91    130239\n",
      "\n"
     ]
    },
    {
     "data": {
      "image/png": "[encoded data removed]",
      "text/plain": [
       "<Figure size 640x480 with 2 Axes>"
      ]
     },
     "metadata": {},
     "output_type": "display_data"
    }
   ],
   "source": [
    "# model evaluation\n",
    "\n",
    "\n",
    "# printing classification report\n",
    "print(rd_report)\n",
    "\n",
    "# printing confusion_matrix\n",
    "label = ['benign', 'defacement', 'phishing', 'maleware']\n",
    "sn.heatmap(rd_confusion_matrix, annot=True, fmt='d', xticklabels=label, yticklabels=label)\n",
    "plt.show()"
   ]
  },
  {
   "cell_type": "markdown",
   "id": "12a0b759",
   "metadata": {},
   "source": [
    "Saving the Random Forest machine learning model"
   ]
  },
  {
   "cell_type": "code",
   "execution_count": 47,
   "id": "3b0e8f3c",
   "metadata": {},
   "outputs": [
    {
     "data": {
      "text/plain": [
       "['url_classifier_randomforest_model.jb']"
      ]
     },
     "execution_count": 47,
     "metadata": {},
     "output_type": "execute_result"
    }
   ],
   "source": [
    "import joblib\n",
    "joblib.dump(rd_model , 'url_classifier_randomforest_model.jb')"
   ]
  },
  {
   "cell_type": "markdown",
   "id": "df108795",
   "metadata": {},
   "source": [
    "# SGD MODEL ...... "
   ]
  },
  {
   "cell_type": "code",
   "execution_count": 78,
   "id": "0ff41e1b",
   "metadata": {},
   "outputs": [
    {
     "name": "stdout",
     "output_type": "stream",
     "text": [
      " Training Accuracy Score of 0.7234075634576682\n"
     ]
    }
   ],
   "source": [
    "# SGD_model , s = prediction_model('SGDC', SGDClassifier() , X_train , y_train, X_test , y_test)\n",
    "\n",
    "# inintializaing the model.. \n",
    "sgd_classifier = SGDClassifier()\n",
    "\n",
    "# training the model using fit \n",
    "sgd_model = sgd_classifier.fit(X_train, y_train)\n",
    "\n",
    "# model accuracy score \n",
    "sgd_score = sgd_model.score(X_train, y_train)\n",
    "print(' Training Accuracy Score of {}'.format(sgd_score))\n"
   ]
  },
  {
   "cell_type": "code",
   "execution_count": 49,
   "id": "9d90fae0",
   "metadata": {},
   "outputs": [
    {
     "name": "stdout",
     "output_type": "stream",
     "text": [
      "              precision    recall  f1-score   support\n",
      "\n",
      "           0       0.92      0.98      0.95     85565\n",
      "           1       0.94      0.97      0.95     19319\n",
      "           2       0.83      0.58      0.68     18805\n",
      "           3       0.96      0.91      0.94      6550\n",
      "\n",
      "    accuracy                           0.91    130239\n",
      "   macro avg       0.91      0.86      0.88    130239\n",
      "weighted avg       0.91      0.91      0.91    130239\n",
      "\n"
     ]
    },
    {
     "data": {
      "image/png": "[encoded data removed]",
      "text/plain": [
       "<Figure size 640x480 with 2 Axes>"
      ]
     },
     "metadata": {},
     "output_type": "display_data"
    }
   ],
   "source": [
    "# evaluating model or testing model \n",
    "sgd_prediction = sgd_model.predict(X_test)\n",
    "sgd_report = classification_report(y_test, rd_prediction)\n",
    "sgd_confusion_matrix = confusion_matrix(y_test, rd_prediction)\n",
    "\n",
    "# printing classification report\n",
    "print(sgd_report)\n",
    "\n",
    "# printing confusion_matrix\n",
    "label = ['benign', 'defacement', 'phishing', 'maleware']\n",
    "sn.heatmap(sgd_confusion_matrix, annot=True, fmt='d' , xticklabels=label, yticklabels=label)\n",
    "plt.show()"
   ]
  },
  {
   "cell_type": "markdown",
   "id": "e406220c",
   "metadata": {},
   "source": [
    "Saving SGD model "
   ]
  },
  {
   "cell_type": "code",
   "execution_count": 50,
   "id": "0fa544c5",
   "metadata": {},
   "outputs": [
    {
     "name": "stdout",
     "output_type": "stream",
     "text": [
      "SGD model saved....\n"
     ]
    }
   ],
   "source": [
    "import joblib\n",
    "# saving the model\n",
    "joblib.dump(sgd_model , 'url_SGD_model.jb')\n",
    "print('SGD model saved....')"
   ]
  },
  {
   "cell_type": "markdown",
   "id": "403e65bd",
   "metadata": {},
   "source": [
    "# AdaBoost Model"
   ]
  },
  {
   "cell_type": "code",
   "execution_count": 51,
   "id": "4953245d",
   "metadata": {
    "scrolled": true
   },
   "outputs": [
    {
     "name": "stdout",
     "output_type": "stream",
     "text": [
      "Training Accuracy Score of 0.8201964864325312\n"
     ]
    }
   ],
   "source": [
    "# ada_boost , s = prediction_model('ada boost', AdaBoostClassifier() , X_train , y_train, X_test , y_test)\n",
    "# inintializaing the model.. \n",
    "adaboost_classifier = AdaBoostClassifier()\n",
    "\n",
    "# training the model using fit \n",
    "adaboost_model = adaboost_classifier.fit(X_train, y_train)\n",
    "\n",
    "# model accuracy score \n",
    "adaboost_score = adaboost_model.score(X_train, y_train)\n",
    "print('Training Accuracy Score of {}'.format(adaboost_score))\n"
   ]
  },
  {
   "cell_type": "code",
   "execution_count": 52,
   "id": "cc7d01ab",
   "metadata": {},
   "outputs": [
    {
     "name": "stdout",
     "output_type": "stream",
     "text": [
      "              precision    recall  f1-score   support\n",
      "\n",
      "           0       0.84      0.98      0.90     85565\n",
      "           1       0.82      0.89      0.85     19319\n",
      "           2       0.45      0.15      0.22     18805\n",
      "           3       0.91      0.46      0.61      6550\n",
      "\n",
      "    accuracy                           0.82    130239\n",
      "   macro avg       0.75      0.62      0.65    130239\n",
      "weighted avg       0.78      0.82      0.78    130239\n",
      "\n"
     ]
    },
    {
     "data": {
      "image/png": "[encoded data removed]",
      "text/plain": [
       "<Figure size 640x480 with 2 Axes>"
      ]
     },
     "metadata": {},
     "output_type": "display_data"
    }
   ],
   "source": [
    "# evaluating model or testing model \n",
    "adaboost_prediction = adaboost_model.predict(X_test)\n",
    "adaboost_report = classification_report(y_test, adaboost_prediction)\n",
    "adaboost_confusion_matrix = confusion_matrix(y_test, adaboost_prediction)\n",
    "\n",
    "# printing classification report\n",
    "print(adaboost_report)\n",
    "\n",
    "# printing confusion_matrix\n",
    "label = ['benign', 'defacement', 'phishing', 'maleware']\n",
    "sn.heatmap(adaboost_confusion_matrix, annot=True, fmt='d' , xticklabels=label, yticklabels=label)\n",
    "plt.show()"
   ]
  },
  {
   "cell_type": "markdown",
   "id": "600d9cca",
   "metadata": {},
   "source": [
    "Saving Adaboost Model"
   ]
  },
  {
   "cell_type": "code",
   "execution_count": 53,
   "id": "fc354c6b",
   "metadata": {},
   "outputs": [
    {
     "name": "stdout",
     "output_type": "stream",
     "text": [
      "Ada Boost Model Saved....\n"
     ]
    }
   ],
   "source": [
    "import joblib\n",
    "joblib.dump(adaboost_classifier , 'url_adaboost_model.jb')\n",
    "print('Ada Boost Model Saved....')"
   ]
  },
  {
   "cell_type": "markdown",
   "id": "9828b78b",
   "metadata": {},
   "source": [
    "### Ensemble Model (RF, SGD, ADA BOOST)"
   ]
  },
  {
   "cell_type": "code",
   "execution_count": 57,
   "id": "db2355d3",
   "metadata": {},
   "outputs": [
    {
     "name": "stdout",
     "output_type": "stream",
     "text": [
      "Accuracy: 0.8478259200393123\n"
     ]
    }
   ],
   "source": [
    "# importing classifier model... \n",
    "from sklearn.ensemble import VotingClassifier\n",
    "# X_train, X_test, y_train, y_test\n",
    "\n",
    "rd_model\n",
    "sgd_model\n",
    "adaboost_model\n",
    "\n",
    "# Create the ensemble model using VotingClassifier\n",
    "ensemble_model = VotingClassifier(estimators=[('rf', rd_model), ('sgd', sgd_model)], voting='hard')\n",
    "\n",
    "# Fit the ensemble model on the training data\n",
    "ensemble_model.fit(X_train, y_train)\n",
    "\n",
    "# Predict the classes of the testing set\n",
    "y_pred = ensemble_model.predict(X_test)\n",
    "\n",
    "# Calculate the accuracy score\n",
    "accuracy = accuracy_score(y_test, y_pred)\n",
    "print(\"Accuracy:\", accuracy)"
   ]
  },
  {
   "cell_type": "markdown",
   "id": "cf64aa6e",
   "metadata": {
    "id": "cf64aa6e",
    "papermill": {
     "duration": 0.062666,
     "end_time": "2022-01-24T15:42:41.353662",
     "exception": false,
     "start_time": "2022-01-24T15:42:41.290996",
     "status": "completed"
    },
    "tags": []
   },
   "source": [
    "<a id=\"8\"></a> <br>\n",
    "# <img src=\"https://cdn-icons-png.flaticon.com/64/3094/3094836.png\"/> Final Report"
   ]
  },
  {
   "cell_type": "code",
   "execution_count": 58,
   "id": "56d847ce",
   "metadata": {
    "execution": {
     "iopub.execute_input": "2022-01-24T15:42:41.486516Z",
     "iopub.status.busy": "2022-01-24T15:42:41.485625Z",
     "iopub.status.idle": "2022-01-24T15:42:41.488750Z",
     "shell.execute_reply": "2022-01-24T15:42:41.488181Z",
     "shell.execute_reply.started": "2022-01-24T13:46:35.736069Z"
    },
    "id": "56d847ce",
    "papermill": {
     "duration": 0.07223,
     "end_time": "2022-01-24T15:42:41.488904",
     "exception": false,
     "start_time": "2022-01-24T15:42:41.416674",
     "status": "completed"
    },
    "scrolled": true,
    "tags": []
   },
   "outputs": [
    {
     "data": {
      "text/html": [
       "<div>\n",
       "<style scoped>\n",
       "    .dataframe tbody tr th:only-of-type {\n",
       "        vertical-align: middle;\n",
       "    }\n",
       "\n",
       "    .dataframe tbody tr th {\n",
       "        vertical-align: top;\n",
       "    }\n",
       "\n",
       "    .dataframe thead th {\n",
       "        text-align: right;\n",
       "    }\n",
       "</style>\n",
       "<table border=\"1\" class=\"dataframe\">\n",
       "  <thead>\n",
       "    <tr style=\"text-align: right;\">\n",
       "      <th></th>\n",
       "      <th>Model</th>\n",
       "      <th>Accuracy</th>\n",
       "    </tr>\n",
       "  </thead>\n",
       "  <tbody>\n",
       "    <tr>\n",
       "      <th>0</th>\n",
       "      <td>Random Forest Classifier</td>\n",
       "      <td>0.914949</td>\n",
       "    </tr>\n",
       "    <tr>\n",
       "      <th>1</th>\n",
       "      <td>AdaBoost Classifier</td>\n",
       "      <td>0.820196</td>\n",
       "    </tr>\n",
       "    <tr>\n",
       "      <th>2</th>\n",
       "      <td>SGD Classifier</td>\n",
       "      <td>0.805654</td>\n",
       "    </tr>\n",
       "  </tbody>\n",
       "</table>\n",
       "</div>"
      ],
      "text/plain": [
       "                      Model  Accuracy\n",
       "0  Random Forest Classifier  0.914949\n",
       "1       AdaBoost Classifier  0.820196\n",
       "2            SGD Classifier  0.805654"
      ]
     },
     "execution_count": 58,
     "metadata": {},
     "output_type": "execute_result"
    }
   ],
   "source": [
    "accuracy_test = [score, adaboost_score, sgd_score, 89%]\n",
    "output = pd.DataFrame({\"Model\":['Random Forest Classifier',\n",
    "                                'AdaBoost Classifier','SGD Classifier', '(Deepa, Thanammal & Sujatha, 2021)'],\n",
    "                      \"Accuracy\":accuracy_test})\n",
    "\n",
    "output"
   ]
  },
  {
   "cell_type": "code",
   "execution_count": 70,
   "id": "7910c3ec",
   "metadata": {},
   "outputs": [
    {
     "data": {
      "text/plain": [
       "Text(0.5, 0, '(ML MODEL)')"
      ]
     },
     "execution_count": 70,
     "metadata": {},
     "output_type": "execute_result"
    },
    {
     "data": {
      "image/png": "[encoded data removed]",
      "text/plain": [
       "<Figure size 640x480 with 1 Axes>"
      ]
     },
     "metadata": {},
     "output_type": "display_data"
    }
   ],
   "source": [
    "x_val = output.values[:,0]\n",
    "y_val = output.values[:,1]\n",
    "\n",
    "\n",
    "plt.title('Result Comparison')\n",
    "plt.bar(x_val, y_val, color=['r', 'g', 'b'])\n",
    "plt.ylabel('Accuracy (%)')\n",
    "plt.xlabel('(ML MODELS)')\n",
    "plt.show()\n",
    "\n"
   ]
  },
  {
   "cell_type": "code",
   "execution_count": null,
   "id": "1bc98d15",
   "metadata": {
    "execution": {
     "iopub.execute_input": "2022-01-24T15:42:41.762830Z",
     "iopub.status.busy": "2022-01-24T15:42:41.762191Z",
     "iopub.status.idle": "2022-01-24T15:42:42.016300Z",
     "shell.execute_reply": "2022-01-24T15:42:42.016796Z",
     "shell.execute_reply.started": "2022-01-24T13:46:35.762946Z"
    },
    "id": "1bc98d15",
    "outputId": "106fec99-135b-4201-b4ee-b81a7b87158f",
    "papermill": {
     "duration": 0.323101,
     "end_time": "2022-01-24T15:42:42.016968",
     "exception": false,
     "start_time": "2022-01-24T15:42:41.693867",
     "status": "completed"
    },
    "tags": []
   },
   "outputs": [],
   "source": [
    "plt.figure(figsize=(10, 5))\n",
    "\n",
    "plt.title('Accuracy Comaparison For All Model')\n",
    "plots = sns.barplot(x='Model', y='Accuracy', data=output)\n",
    "for bar in plots.patches:\n",
    "    plots.annotate(format(bar.get_height(), '.2f'),\n",
    "                   (bar.get_x() + bar.get_width() / 2,\n",
    "                    bar.get_height()), ha='center', va='center',\n",
    "                   size=15, xytext=(0, 8),\n",
    "                   textcoords='offset points')\n",
    "\n",
    "plt.xlabel(\"Models\", size=14)\n",
    "plt.xticks(rotation=20);\n",
    "plt.ylabel(\"Accuracy\", size=14)\n",
    "plt.show()"
   ]
  },
  {
   "cell_type": "code",
   "execution_count": null,
   "id": "c13119aa",
   "metadata": {
    "id": "c13119aa"
   },
   "outputs": [],
   "source": []
  },
  {
   "cell_type": "code",
   "execution_count": null,
   "id": "fbebe92c",
   "metadata": {
    "id": "fbebe92c"
   },
   "outputs": [],
   "source": [
    "# X_train, X_test, y_train, y_test\n",
    "# models = [DecisionTreeClassifier,RandomForestClassifier,AdaBoostClassifier,KNeighborsClassifier,SGDClassifier,\n",
    "#          ExtraTreesClassifier,GaussianNB]\n",
    "from sklearn import svm\n",
    "from sklearn import linear_model \n",
    "from sklearn import tree\n",
    "from sklearn import ensemble\n",
    "\n",
    "\n",
    "def prediction_model(model_name, model , xtrain , ytrain, xtest , ytest):\n",
    "    clf = model.fit(X_train, y_train)\n",
    "    clf.fit(X_train, y_train)\n",
    "    score = clf.score(X_test, y_test)\n",
    "    print(f'Prediction Score from {model_name} is : {score}')\n",
    "    return model, score    \n"
   ]
  },
  {
   "cell_type": "code",
   "execution_count": null,
   "id": "b6d7cde0",
   "metadata": {
    "id": "b6d7cde0"
   },
   "outputs": [],
   "source": [
    "svm_model , s = prediction_model('SVM',  svm.SVC() , X_train , y_train, X_test , y_test)\n",
    "rd_model , s = prediction_model('Random Forest',  ensemble.RandomForestClassifier() , X_train , y_train, X_test , y_test)\n",
    "dt_model , s = prediction_model('Decision Tree',  tree.DecisionTreeClassifier() , X_train , y_train, X_test , y_test)"
   ]
  },
  {
   "cell_type": "code",
   "execution_count": null,
   "id": "3ddcaa6c",
   "metadata": {
    "id": "3ddcaa6c"
   },
   "outputs": [],
   "source": []
  }
 ],
 "metadata": {
  "colab": {
   "collapsed_sections": [
    "cf64aa6e"
   ],
   "provenance": []
  },
  "kernelspec": {
   "display_name": "Python 3 (ipykernel)",
   "language": "python",
   "name": "python3"
  },
  "language_info": {
   "codemirror_mode": {
    "name": "ipython",
    "version": 3
   },
   "file_extension": ".py",
   "mimetype": "text/x-python",
   "name": "python",
   "nbconvert_exporter": "python",
   "pygments_lexer": "ipython3",
   "version": "3.9.5"
  },
  "papermill": {
   "default_parameters": {},
   "duration": 387.555185,
   "end_time": "2022-01-24T15:42:43.257634",
   "environment_variables": {},
   "exception": null,
   "input_path": "__notebook__.ipynb",
   "output_path": "__notebook__.ipynb",
   "parameters": {},
   "start_time": "2022-01-24T15:36:15.702449",
   "version": "2.3.3"
  }
 },
 "nbformat": 4,
 "nbformat_minor": 5
}
