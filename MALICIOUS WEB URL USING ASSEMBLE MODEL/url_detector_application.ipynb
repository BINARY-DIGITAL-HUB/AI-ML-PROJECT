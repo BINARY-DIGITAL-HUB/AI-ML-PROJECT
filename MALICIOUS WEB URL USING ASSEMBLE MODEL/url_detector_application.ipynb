{
 "cells": [
  {
   "cell_type": "code",
   "execution_count": 1,
   "id": "a31d41d9",
   "metadata": {},
   "outputs": [],
   "source": [
    "data1 = 'https://www.collinsdictionary.com/dictionary/english/game'\n",
    "data2 = 'http://www.garage-pirenne.be/index.php?option=com_content&view=article&id=70&vsig70_0=15'\n",
    "data3 = \"https://www.google.com/\""
   ]
  },
  {
   "cell_type": "code",
   "execution_count": 2,
   "id": "f3bd9c93",
   "metadata": {},
   "outputs": [],
   "source": [
    "# remove WWW."
   ]
  },
  {
   "cell_type": "code",
   "execution_count": null,
   "id": "09864a91",
   "metadata": {
    "scrolled": true
   },
   "outputs": [],
   "source": []
  },
  {
   "cell_type": "code",
   "execution_count": 2,
   "id": "71083b1a",
   "metadata": {},
   "outputs": [
    {
     "name": "stdout",
     "output_type": "stream",
     "text": [
      "top level doamin :  com\n",
      "sub domain :  www\n",
      "top level domain :  com\n",
      "full (fld) domain :  collinsdictionary.com\n",
      "pase url :  SplitResult(scheme='https', netloc='www.collinsdictionary.com', path='/dictionary/english/game', query='', fragment='')\n"
     ]
    }
   ],
   "source": [
    "# EXTRACT URL lenght\n",
    "from tld import get_tld\n",
    "\n",
    "url_obj = get_tld(data1, fail_silently=True, as_object=True, fix_protocol=True)\n",
    "print('top level doamin : ' , url_obj) # top level domain\n",
    "print('sub domain : ' , url_obj.subdomain) # sub level domain\n",
    "print('top level domain : ' , url_obj.tld) # sub level domain\n",
    "print('full (fld) domain : ' , url_obj.fld) # sub level domain\n",
    "print('pase url : ' , url_obj.parsed_url) # sub level domain"
   ]
  },
  {
   "cell_type": "code",
   "execution_count": 3,
   "id": "a255b630",
   "metadata": {},
   "outputs": [
    {
     "data": {
      "text/plain": [
       "'https'"
      ]
     },
     "execution_count": 3,
     "metadata": {},
     "output_type": "execute_result"
    }
   ],
   "source": [
    "url_obj.parsed_url.scheme"
   ]
  },
  {
   "cell_type": "code",
   "execution_count": 4,
   "id": "b2f88cf2",
   "metadata": {
    "scrolled": true
   },
   "outputs": [
    {
     "ename": "NameError",
     "evalue": "name 'get_domain' is not defined",
     "output_type": "error",
     "traceback": [
      "\u001b[1;31m------------------------------------------------------------------------\u001b[0m",
      "\u001b[1;31mNameError\u001b[0m                              Traceback (most recent call last)",
      "Cell \u001b[1;32mIn[4], line 3\u001b[0m\n\u001b[0;32m      1\u001b[0m \u001b[38;5;66;03m# get gull URL address.......\u001b[39;00m\n\u001b[0;32m      2\u001b[0m full_domain \u001b[38;5;241m=\u001b[39m url_obj\u001b[38;5;241m.\u001b[39mparsed_url\u001b[38;5;241m.\u001b[39mnetloc\n\u001b[1;32m----> 3\u001b[0m \u001b[43mget_domain\u001b[49m\n",
      "\u001b[1;31mNameError\u001b[0m: name 'get_domain' is not defined"
     ]
    }
   ],
   "source": [
    "# get gull URL address.......\n",
    "full_domain = url_obj.parsed_url.netloc\n",
    "get_domain"
   ]
  },
  {
   "cell_type": "code",
   "execution_count": 5,
   "id": "8ac00ff7",
   "metadata": {},
   "outputs": [
    {
     "name": "stdout",
     "output_type": "stream",
     "text": [
      "THE DATA : http://www.garage-pirenne.be/index.php?option=com_content&view=article&id=70&vsig70_0=15\n"
     ]
    }
   ],
   "source": [
    "from urllib.parse import urlparse\n",
    "import re\n",
    "from tld import get_tld\n",
    "import joblib\n",
    "\n",
    "data = data2\n",
    "\n",
    "# FEATURE TO EXTRACT == # url_len , abnormal_url, https, digits, leters, shortining_service, havin_ip, \n",
    "\n",
    "class URLExtractFeatures:\n",
    "    print('THE DATA :', data)\n",
    "\n",
    "    \n",
    "    \n",
    "    def __init__(self, data):\n",
    "        self.data = data\n",
    "        self.url_lenght = len(data)\n",
    "        print('url lenght : ' , url_lenght)\n",
    "\n",
    "   \n",
    "\n",
    "    def normal_url(self, url):\n",
    "        hostname = urlparse(url).hostname\n",
    "        hostname = str(hostname)\n",
    "        match = re.search(hostname, url)\n",
    "        if match:\n",
    "            # print match.group()\n",
    "            return 1\n",
    "        else:\n",
    "            # print 'No matching pattern found'\n",
    "            # print(f'Abnormal  URL: {url}   ===================   HOSTNAME: {hostname}')\n",
    "            return 0\n",
    "    \n",
    "\n",
    "\n",
    "\n",
    "    # checking for shortening services \n",
    "    def shortining_Service(self, url):\n",
    "        match = re.search('bit\\.ly|goo\\.gl|shorte\\.st|go2l\\.ink|x\\.co|ow\\.ly|t\\.co|tinyurl|tr\\.im|is\\.gd|cli\\.gs|'\n",
    "                          'yfrog\\.com|migre\\.me|ff\\.im|tiny\\.cc|url4\\.eu|twit\\.ac|su\\.pr|twurl\\.nl|snipurl\\.com|'\n",
    "                          'short\\.to|BudURL\\.com|ping\\.fm|post\\.ly|Just\\.as|bkite\\.com|snipr\\.com|fic\\.kr|loopt\\.us|'\n",
    "                          'doiop\\.com|short\\.ie|kl\\.am|wp\\.me|rubyurl\\.com|om\\.ly|to\\.ly|bit\\.do|t\\.co|lnkd\\.in|'\n",
    "                          'db\\.tt|qr\\.ae|adf\\.ly|goo\\.gl|bitly\\.com|cur\\.lv|tinyurl\\.com|ow\\.ly|bit\\.ly|ity\\.im|'\n",
    "                          'q\\.gs|is\\.gd|po\\.st|bc\\.vc|twitthis\\.com|u\\.to|j\\.mp|buzurl\\.com|cutt\\.us|u\\.bb|yourls\\.org|'\n",
    "                          'x\\.co|prettylinkpro\\.com|scrnch\\.me|filoops\\.info|vzturl\\.com|qr\\.net|1url\\.com|tweez\\.me|v\\.gd|'\n",
    "                          'tr\\.im|link\\.zip\\.net',\n",
    "                          url)\n",
    "        if match:\n",
    "            return 1\n",
    "        else:\n",
    "            return 0\n",
    "\n",
    "\n",
    "    def having_ip_address(self, url):\n",
    "        match = re.search(\n",
    "            '(([01]?\\\\d\\\\d?|2[0-4]\\\\d|25[0-5])\\\\.([01]?\\\\d\\\\d?|2[0-4]\\\\d|25[0-5])\\\\.([01]?\\\\d\\\\d?|2[0-4]\\\\d|25[0-5])\\\\.'\n",
    "            '([01]?\\\\d\\\\d?|2[0-4]\\\\d|25[0-5])\\\\/)|'  # IPv4\n",
    "            '(([01]?\\\\d\\\\d?|2[0-4]\\\\d|25[0-5])\\\\.([01]?\\\\d\\\\d?|2[0-4]\\\\d|25[0-5])\\\\.([01]?\\\\d\\\\d?|2[0-4]\\\\d|25[0-5])\\\\.'\n",
    "            '([01]?\\\\d\\\\d?|2[0-4]\\\\d|25[0-5])\\\\/)|'  # IPv4 with port\n",
    "            '((0x[0-9a-fA-F]{1,2})\\\\.(0x[0-9a-fA-F]{1,2})\\\\.(0x[0-9a-fA-F]{1,2})\\\\.(0x[0-9a-fA-F]{1,2})\\\\/)' # IPv4 in hexadecimal\n",
    "            '(?:[a-fA-F0-9]{1,4}:){7}[a-fA-F0-9]{1,4}|'\n",
    "            '([0-9]+(?:\\.[0-9]+){3}:[0-9]+)|'\n",
    "            '((?:(?:\\d|[01]?\\d\\d|2[0-4]\\d|25[0-5])\\.){3}(?:25[0-5]|2[0-4]\\d|[01]?\\d\\d|\\d)(?:\\/\\d{1,2})?)', url)  # Ipv6\n",
    "        if match:\n",
    "            return 1\n",
    "        else:\n",
    "            return 0\n",
    "\n",
    "    \n",
    "    \n",
    "    def get_features(self):\n",
    "        \n",
    "         # removing www.... \n",
    "        remove_www = data.replace('www.', '')\n",
    "        remove_www\n",
    "\n",
    "        # ectracting symbols features\n",
    "        feature = ['@','?','-','=','.','#','%','+','$','!','*',',','//']\n",
    "\n",
    "        symbol_feature = []\n",
    "        for a in feature:\n",
    "            symbol_feature.append(remove_www.count(a))\n",
    "        \n",
    "        print('symbol feature ', symbol_feature)\n",
    "            \n",
    "        #checking url if normal or not         \n",
    "        norm_url =  self.normal_url(data)\n",
    "        print('normal url : ' , bool(norm_url) , norm_url)\n",
    "        \n",
    "         # extracting http or https features\n",
    "        http_secure = 1 if str(urlparse(data).scheme)=='https' else 0\n",
    "        print('http or https : ' , bool(http_secure))\n",
    "\n",
    "        # extracting digit count \n",
    "        digit_count = len([d for d in data if d.isnumeric()])\n",
    "        print('digit_count = ' , digit_count)\n",
    "\n",
    "        # extracting letter count \n",
    "        alpha_count = len([d for d in data if d.isalpha()])\n",
    "        print('alpha_count = ' , alpha_count)\n",
    "        \n",
    "        short_service = self.shortining_Service(data)\n",
    "        print('short_service =', bool(short_service))\n",
    "        \n",
    "        having_ip = self.having_ip_address(data)\n",
    "        print(\"having_ip = \", bool(having_ip))\n",
    "            \n",
    "        # list variable to hold url extracted features\n",
    "        features_holder = []\n",
    "        features_holder.append(url_lenght)\n",
    "        [features_holder.append(f) for f in symbol_feature]\n",
    "        features_holder.append(norm_url)\n",
    "        features_holder.append(http_secure)\n",
    "        features_holder.append(digit_count)\n",
    "        features_holder.append(alpha_count)\n",
    "        features_holder.append(short_service)\n",
    "        features_holder.append(having_ip)\n",
    "        \n",
    "        return features_holder\n",
    "    \n",
    "\n",
    "class Predictor: \n",
    "    def __init__(self):\n",
    "        pass\n",
    "    \n",
    "    def load_model(self , model):\n",
    "        self.models = [joblib.load(m) for m in model]\n",
    "        print('models : ' , self.models)\n",
    "        \n",
    "    def essemble_prediction(self, data):\n",
    "        prediction= []\n",
    "        prediction = [model.predict([data])[0] for model in self.models]\n",
    "        final_pre = np.bincount(prediction).argmax()\n",
    "        print(prediction)\n",
    "        print('final prediction : = ' , final_pre)\n",
    "        return final_pre\n"
   ]
  },
  {
   "cell_type": "code",
   "execution_count": 6,
   "id": "93ff672f",
   "metadata": {},
   "outputs": [],
   "source": [
    "import numpy as np\n",
    "\n",
    "def essemble_predictions(models, data):\n",
    "    \n",
    "    prediction = [model.predict(data) for model in models]\n",
    "    print(prediction)"
   ]
  },
  {
   "cell_type": "code",
   "execution_count": 7,
   "id": "85b69d33",
   "metadata": {},
   "outputs": [
    {
     "ename": "NameError",
     "evalue": "name 'features_holder' is not defined",
     "output_type": "error",
     "traceback": [
      "\u001b[1;31m------------------------------------------------------------------------\u001b[0m",
      "\u001b[1;31mNameError\u001b[0m                              Traceback (most recent call last)",
      "Cell \u001b[1;32mIn[7], line 1\u001b[0m\n\u001b[1;32m----> 1\u001b[0m \u001b[43mfeatures_holder\u001b[49m\n",
      "\u001b[1;31mNameError\u001b[0m: name 'features_holder' is not defined"
     ]
    }
   ],
   "source": [
    "features_holder"
   ]
  },
  {
   "cell_type": "code",
   "execution_count": 8,
   "id": "59834c0a",
   "metadata": {},
   "outputs": [
    {
     "ename": "NameError",
     "evalue": "name 'url_lenght' is not defined",
     "output_type": "error",
     "traceback": [
      "\u001b[1;31m------------------------------------------------------------------------\u001b[0m",
      "\u001b[1;31mNameError\u001b[0m                              Traceback (most recent call last)",
      "Cell \u001b[1;32mIn[8], line 1\u001b[0m\n\u001b[1;32m----> 1\u001b[0m url_feature \u001b[38;5;241m=\u001b[39m \u001b[43mURLExtractFeatures\u001b[49m\u001b[43m(\u001b[49m\u001b[43mdata\u001b[49m\u001b[43m)\u001b[49m\n\u001b[0;32m      2\u001b[0m url_feature\u001b[38;5;241m.\u001b[39mget_features()\n",
      "Cell \u001b[1;32mIn[5], line 18\u001b[0m, in \u001b[0;36mURLExtractFeatures.__init__\u001b[1;34m(self, data)\u001b[0m\n\u001b[0;32m     16\u001b[0m \u001b[38;5;28mself\u001b[39m\u001b[38;5;241m.\u001b[39mdata \u001b[38;5;241m=\u001b[39m data\n\u001b[0;32m     17\u001b[0m \u001b[38;5;28mself\u001b[39m\u001b[38;5;241m.\u001b[39murl_lenght \u001b[38;5;241m=\u001b[39m \u001b[38;5;28mlen\u001b[39m(data)\n\u001b[1;32m---> 18\u001b[0m \u001b[38;5;28mprint\u001b[39m(\u001b[38;5;124m'\u001b[39m\u001b[38;5;124murl lenght : \u001b[39m\u001b[38;5;124m'\u001b[39m , \u001b[43murl_lenght\u001b[49m)\n",
      "\u001b[1;31mNameError\u001b[0m: name 'url_lenght' is not defined"
     ]
    }
   ],
   "source": [
    "url_feature = URLExtractFeatures(data)\n",
    "url_feature.get_features()"
   ]
  },
  {
   "cell_type": "code",
   "execution_count": 9,
   "id": "ae0c3fe4",
   "metadata": {},
   "outputs": [
    {
     "name": "stderr",
     "output_type": "stream",
     "text": [
      "c:\\users\\hp\\appdata\\local\\programs\\python\\python39\\lib\\site-packages\\sklearn\\base.py:318: UserWarning: Trying to unpickle estimator DecisionTreeClassifier from version 1.1.3 when using version 1.2.2. This might lead to breaking code or invalid results. Use at your own risk. For more info please refer to:\n",
      "https://scikit-learn.org/stable/model_persistence.html#security-maintainability-limitations\n",
      "  warnings.warn(\n",
      "c:\\users\\hp\\appdata\\local\\programs\\python\\python39\\lib\\site-packages\\sklearn\\base.py:318: UserWarning: Trying to unpickle estimator RandomForestClassifier from version 1.1.3 when using version 1.2.2. This might lead to breaking code or invalid results. Use at your own risk. For more info please refer to:\n",
      "https://scikit-learn.org/stable/model_persistence.html#security-maintainability-limitations\n",
      "  warnings.warn(\n"
     ]
    }
   ],
   "source": [
    "import joblib\n",
    "rf = joblib.load('url_classifier_randomforest_model.jb')\n",
    "sgd = joblib.load('url_SGD_model.jb')"
   ]
  },
  {
   "cell_type": "code",
   "execution_count": 10,
   "id": "dec1db88",
   "metadata": {
    "scrolled": true
   },
   "outputs": [],
   "source": [
    "import numpy as np\n",
    "\n",
    "def essemble_prediction(models, data):\n",
    "    prediction= []\n",
    "    prediction = [model.predict([data])[0] for model in models]\n",
    "    final_pre = np.bincount(prediction).argmax()\n",
    "    print(prediction)\n",
    "    print('final prediction : = ' , final_prediction)\n",
    "    return final_prediction"
   ]
  },
  {
   "cell_type": "code",
   "execution_count": 11,
   "id": "61c6afac",
   "metadata": {},
   "outputs": [],
   "source": [
    "import warnings\n",
    "with warnings.catch_warnings():\n",
    "    warnings.simplefilter('ignore')"
   ]
  },
  {
   "cell_type": "code",
   "execution_count": 12,
   "id": "f2ae5b71",
   "metadata": {
    "scrolled": true
   },
   "outputs": [
    {
     "ename": "NameError",
     "evalue": "name 'features_holder' is not defined",
     "output_type": "error",
     "traceback": [
      "\u001b[1;31m------------------------------------------------------------------------\u001b[0m",
      "\u001b[1;31mNameError\u001b[0m                              Traceback (most recent call last)",
      "Cell \u001b[1;32mIn[12], line 1\u001b[0m\n\u001b[1;32m----> 1\u001b[0m essemble_prediction([rf, sgd], \u001b[43mfeatures_holder\u001b[49m)\n",
      "\u001b[1;31mNameError\u001b[0m: name 'features_holder' is not defined"
     ]
    }
   ],
   "source": [
    "essemble_prediction([rf, sgd], features_holder)"
   ]
  },
  {
   "cell_type": "code",
   "execution_count": 13,
   "id": "923c4bcb",
   "metadata": {},
   "outputs": [
    {
     "name": "stderr",
     "output_type": "stream",
     "text": [
      "c:\\users\\hp\\appdata\\local\\programs\\python\\python39\\lib\\site-packages\\sklearn\\base.py:318: UserWarning: Trying to unpickle estimator DecisionTreeClassifier from version 1.1.3 when using version 1.2.2. This might lead to breaking code or invalid results. Use at your own risk. For more info please refer to:\n",
      "https://scikit-learn.org/stable/model_persistence.html#security-maintainability-limitations\n",
      "  warnings.warn(\n"
     ]
    },
    {
     "name": "stdout",
     "output_type": "stream",
     "text": [
      "models :  [RandomForestClassifier(), SGDClassifier()]\n"
     ]
    },
    {
     "name": "stderr",
     "output_type": "stream",
     "text": [
      "c:\\users\\hp\\appdata\\local\\programs\\python\\python39\\lib\\site-packages\\sklearn\\base.py:318: UserWarning: Trying to unpickle estimator RandomForestClassifier from version 1.1.3 when using version 1.2.2. This might lead to breaking code or invalid results. Use at your own risk. For more info please refer to:\n",
      "https://scikit-learn.org/stable/model_persistence.html#security-maintainability-limitations\n",
      "  warnings.warn(\n"
     ]
    },
    {
     "ename": "NameError",
     "evalue": "name 'features_holder' is not defined",
     "output_type": "error",
     "traceback": [
      "\u001b[1;31m------------------------------------------------------------------------\u001b[0m",
      "\u001b[1;31mNameError\u001b[0m                              Traceback (most recent call last)",
      "Cell \u001b[1;32mIn[13], line 4\u001b[0m\n\u001b[0;32m      2\u001b[0m models \u001b[38;5;241m=\u001b[39m [\u001b[38;5;124m'\u001b[39m\u001b[38;5;124murl_classifier_randomforest_model.jb\u001b[39m\u001b[38;5;124m'\u001b[39m, \u001b[38;5;124m'\u001b[39m\u001b[38;5;124murl_SGD_model.jb\u001b[39m\u001b[38;5;124m'\u001b[39m]\n\u001b[0;32m      3\u001b[0m predic\u001b[38;5;241m.\u001b[39mload_model(models)\n\u001b[1;32m----> 4\u001b[0m predic\u001b[38;5;241m.\u001b[39messemble_prediction(\u001b[43mfeatures_holder\u001b[49m)\n",
      "\u001b[1;31mNameError\u001b[0m: name 'features_holder' is not defined"
     ]
    }
   ],
   "source": [
    "predic = Predictor()\n",
    "models = ['url_classifier_randomforest_model.jb', 'url_SGD_model.jb']\n",
    "predic.load_model(models)\n",
    "predic.essemble_prediction(features_holder)"
   ]
  },
  {
   "cell_type": "code",
   "execution_count": null,
   "id": "7640c722",
   "metadata": {},
   "outputs": [],
   "source": [
    "# url_len , abnormal_url, https, digits, leters, shortining_service, havin_ip, "
   ]
  }
 ],
 "metadata": {
  "kernelspec": {
   "display_name": "Python 3 (ipykernel)",
   "language": "python",
   "name": "python3"
  },
  "language_info": {
   "codemirror_mode": {
    "name": "ipython",
    "version": 3
   },
   "file_extension": ".py",
   "mimetype": "text/x-python",
   "name": "python",
   "nbconvert_exporter": "python",
   "pygments_lexer": "ipython3",
   "version": "3.9.5"
  }
 },
 "nbformat": 4,
 "nbformat_minor": 5
}
