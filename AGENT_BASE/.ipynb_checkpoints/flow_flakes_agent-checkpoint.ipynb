{
 "cells": [
  {
   "cell_type": "raw",
   "id": "fcc28ebb",
   "metadata": {},
   "source": [
    "   state                   description                  reward \n",
    "    S                 The Agent initial Point              0\n",
    "    F                 the Frozen surface (safe)            0\n",
    "    H                 Hole Reuslt in (Game over)           0\n",
    "    G                 Goal Result in (Game Over)           1"
   ]
  },
  {
   "cell_type": "markdown",
   "id": "c930b33f",
   "metadata": {},
   "source": [
    "# Module Importation"
   ]
  },
  {
   "cell_type": "code",
   "execution_count": 1,
   "id": "1abbac26",
   "metadata": {},
   "outputs": [
    {
     "name": "stdout",
     "output_type": "stream",
     "text": [
      "Requirement already satisfied: Ipython in c:\\users\\hp\\appdata\\local\\programs\\python\\python39\\lib\\site-packages (8.6.0)\n",
      "Requirement already satisfied: matplotlib-inline in c:\\users\\hp\\appdata\\local\\programs\\python\\python39\\lib\\site-packages (from Ipython) (0.1.6)\n",
      "Requirement already satisfied: backcall in c:\\users\\hp\\appdata\\local\\programs\\python\\python39\\lib\\site-packages (from Ipython) (0.2.0)\n",
      "Requirement already satisfied: pickleshare in c:\\users\\hp\\appdata\\local\\programs\\python\\python39\\lib\\site-packages (from Ipython) (0.7.5)\n",
      "Requirement already satisfied: prompt-toolkit<3.1.0,>3.0.1 in c:\\users\\hp\\appdata\\local\\programs\\python\\python39\\lib\\site-packages (from Ipython) (3.0.32)\n",
      "Requirement already satisfied: jedi>=0.16 in c:\\users\\hp\\appdata\\local\\programs\\python\\python39\\lib\\site-packages (from Ipython) (0.18.1)\n",
      "Requirement already satisfied: traitlets>=5 in c:\\users\\hp\\appdata\\local\\programs\\python\\python39\\lib\\site-packages (from Ipython) (5.5.0)\n",
      "Requirement already satisfied: decorator in c:\\users\\hp\\appdata\\local\\programs\\python\\python39\\lib\\site-packages (from Ipython) (5.1.1)\n",
      "Requirement already satisfied: colorama in c:\\users\\hp\\appdata\\local\\programs\\python\\python39\\lib\\site-packages (from Ipython) (0.3.9)\n",
      "Requirement already satisfied: pygments>=2.4.0 in c:\\users\\hp\\appdata\\local\\programs\\python\\python39\\lib\\site-packages (from Ipython) (2.13.0)\n",
      "Requirement already satisfied: stack-data in c:\\users\\hp\\appdata\\local\\programs\\python\\python39\\lib\\site-packages (from Ipython) (0.6.1)\n",
      "Requirement already satisfied: parso<0.9.0,>=0.8.0 in c:\\users\\hp\\appdata\\local\\programs\\python\\python39\\lib\\site-packages (from jedi>=0.16->Ipython) (0.8.3)\n",
      "Requirement already satisfied: wcwidth in c:\\users\\hp\\appdata\\local\\programs\\python\\python39\\lib\\site-packages (from prompt-toolkit<3.1.0,>3.0.1->Ipython) (0.2.5)\n",
      "Requirement already satisfied: executing>=1.2.0 in c:\\users\\hp\\appdata\\local\\programs\\python\\python39\\lib\\site-packages (from stack-data->Ipython) (1.2.0)\n",
      "Requirement already satisfied: asttokens>=2.1.0 in c:\\users\\hp\\appdata\\local\\programs\\python\\python39\\lib\\site-packages (from stack-data->Ipython) (2.1.0)\n",
      "Requirement already satisfied: pure-eval in c:\\users\\hp\\appdata\\local\\programs\\python\\python39\\lib\\site-packages (from stack-data->Ipython) (0.2.2)\n",
      "Requirement already satisfied: six in c:\\users\\hp\\appdata\\local\\programs\\python\\python39\\lib\\site-packages (from asttokens>=2.1.0->stack-data->Ipython) (1.16.0)\n"
     ]
    }
   ],
   "source": [
    "!pip install Ipython "
   ]
  },
  {
   "cell_type": "code",
   "execution_count": 28,
   "id": "f8f023f0",
   "metadata": {},
   "outputs": [],
   "source": [
    "import numpy as np \n",
    "import gym \n",
    "import random \n",
    "import time \n",
    "from IPython.display import clear_output\n",
    "from IPython import display\n",
    "import matplotlib.pyplot as plt\n",
    "%matplotlib inline\n",
    "from gym.envs.toy_text.frozen_lake import generate_random_map"
   ]
  },
  {
   "cell_type": "markdown",
   "id": "cbfdb29e",
   "metadata": {},
   "source": [
    "# Creating Frozent Lake Environmment"
   ]
  },
  {
   "cell_type": "code",
   "execution_count": 29,
   "id": "df80a678",
   "metadata": {},
   "outputs": [],
   "source": [
    "environment = gym.make('FrozenLake-v1', render_mode='rgb_array')"
   ]
  },
  {
   "cell_type": "markdown",
   "id": "b0758d93",
   "metadata": {},
   "source": [
    "# Initializing  variable "
   ]
  },
  {
   "cell_type": "code",
   "execution_count": 30,
   "id": "4094c954",
   "metadata": {
    "scrolled": false
   },
   "outputs": [
    {
     "name": "stdout",
     "output_type": "stream",
     "text": [
      "Possible Agent Actions : 4\n",
      "Possible State in Frozen Lake Environment : 4\n",
      "\n",
      "======= Q LOOK UP TABLE ============\n",
      "[[0. 0. 0. 0.]\n",
      " [0. 0. 0. 0.]\n",
      " [0. 0. 0. 0.]\n",
      " [0. 0. 0. 0.]\n",
      " [0. 0. 0. 0.]\n",
      " [0. 0. 0. 0.]\n",
      " [0. 0. 0. 0.]\n",
      " [0. 0. 0. 0.]\n",
      " [0. 0. 0. 0.]\n",
      " [0. 0. 0. 0.]\n",
      " [0. 0. 0. 0.]\n",
      " [0. 0. 0. 0.]\n",
      " [0. 0. 0. 0.]\n",
      " [0. 0. 0. 0.]\n",
      " [0. 0. 0. 0.]\n",
      " [0. 0. 0. 0.]]\n",
      "======= Q END ============\n"
     ]
    }
   ],
   "source": [
    "# initializaing the action and state space present in the frozenlake environment.. \n",
    "size_action_space  = environment.action_space.n  \n",
    "size_state_space = environment.observation_space.n\n",
    "\n",
    "print(f'Possible Agent Actions : {size_action_space}')\n",
    "print(f'Possible State in Frozen Lake Environment : {size_action_space}')\n",
    "\n",
    "\n",
    "# creating the Q_table \n",
    "Q_table = np.zeros((size_state_space , size_action_space))\n",
    "print('\\n======= Q LOOK UP TABLE ============')\n",
    "print(Q_table)\n",
    "print('======= Q END ============')"
   ]
  },
  {
   "cell_type": "markdown",
   "id": "b1bb484e",
   "metadata": {},
   "source": [
    "# Setting Training Parameter"
   ]
  },
  {
   "cell_type": "code",
   "execution_count": 40,
   "id": "08386e46",
   "metadata": {},
   "outputs": [],
   "source": [
    "episodes_count = 10000\n",
    "maximum_step_per_episode = 100\n",
    "\n",
    "learn_rate = 0.01\n",
    "discount_rate =  0.99\n",
    "\n",
    "explor_rate = 1\n",
    "max_explor_rate = 1 \n",
    "min_explor_rate = 0.01\n",
    "explor_decay_rate = 0.001"
   ]
  },
  {
   "cell_type": "markdown",
   "id": "09138beb",
   "metadata": {},
   "source": [
    "# Q-Learning Algorithm for frozen lake problem"
   ]
  },
  {
   "cell_type": "markdown",
   "id": "3de84692",
   "metadata": {},
   "source": [
    "# Q-Agent Training for 10000 episode"
   ]
  },
  {
   "cell_type": "code",
   "execution_count": 41,
   "id": "c6940f17",
   "metadata": {
    "scrolled": true
   },
   "outputs": [
    {
     "name": "stdout",
     "output_type": "stream",
     "text": [
      "===================  AVG REWARD IN THIS EPISIODES ===================\n",
      "\n",
      "1000 : 0.05200000000000004\n",
      "2000 : 0.19600000000000015\n",
      "3000 : 0.44100000000000034\n",
      "4000 : 0.5800000000000004\n",
      "5000 : 0.6440000000000005\n",
      "6000 : 0.6980000000000005\n",
      "7000 : 0.6890000000000005\n",
      "8000 : 0.6940000000000005\n",
      "9000 : 0.6860000000000005\n",
      "10000 : 0.7010000000000005\n",
      "================ Q Table ================\n",
      "\n",
      "[[0.53738937 0.52837776 0.52814776 0.52595588]\n",
      " [0.34747786 0.33916373 0.30932863 0.49682327]\n",
      " [0.4370899  0.43578208 0.43103556 0.46577011]\n",
      " [0.29515936 0.31711081 0.29605036 0.45346434]\n",
      " [0.55442293 0.36927559 0.42585423 0.360549  ]\n",
      " [0.         0.         0.         0.        ]\n",
      " [0.30041097 0.18326386 0.36069362 0.17838354]\n",
      " [0.         0.         0.         0.        ]\n",
      " [0.40746692 0.41060862 0.4243255  0.59132522]\n",
      " [0.45780686 0.64449381 0.44125393 0.42920513]\n",
      " [0.6077709  0.52815226 0.41065186 0.34967269]\n",
      " [0.         0.         0.         0.        ]\n",
      " [0.         0.         0.         0.        ]\n",
      " [0.47079168 0.53283996 0.74926365 0.48936142]\n",
      " [0.74444495 0.87317383 0.82088717 0.77385   ]\n",
      " [0.         0.         0.         0.        ]]\n"
     ]
    }
   ],
   "source": [
    "all_episodes_reward_holder = []\n",
    "exploration_rate_data = []\n",
    "decay_rate_data = []\n",
    "\n",
    "\n",
    "\n",
    "# the Q-learining algorithm\n",
    "for episode in range(episodes_count): \n",
    "    environment.reset()\n",
    "#     print(environment.reset())\n",
    "    init_state = 0 \n",
    "    \n",
    "    finish = False\n",
    "    current_episode_reward = 0\n",
    "    \n",
    "    for move in range(maximum_step_per_episode): \n",
    "        \n",
    "#         the Exploration-exploitation decision making... \n",
    "        explor_rate_threshold = random.uniform(0, 1)\n",
    "        \n",
    "        if explor_rate_threshold > explor_rate:\n",
    "#             fetching max queue value for the state... \n",
    "#             exploite\n",
    "            action = np.argmax(Q_table[init_state, :])\n",
    "        else: \n",
    "#           eplore.......\n",
    "            action = environment.action_space.sample()\n",
    "        \n",
    "        \n",
    "#         print(action, ' ', init_state[0])\n",
    "        new_state, state_reward, finish, trunc, info = environment.step(action)\n",
    "        \n",
    "        \n",
    "#         Updating the Q-table for the the state, action pair thus, Q(S,a)\n",
    "        Q_table[init_state, action] = Q_table[init_state, action] * (1-learn_rate) + learn_rate * (state_reward+discount_rate*np.max(Q_table[new_state, :]))\n",
    "        \n",
    "        \n",
    "\n",
    "        \n",
    "        \n",
    "        init_state = new_state\n",
    "        current_episode_reward += state_reward\n",
    "        \n",
    "        if finish  == True: \n",
    "            break\n",
    "        \n",
    "#      decaying the exploration rate... \n",
    "    explor_rate = min_explor_rate + (max_explor_rate - min_explor_rate) * np.exp(-explor_decay_rate*episode)\n",
    "    all_episodes_reward_holder.append(current_episode_reward)\n",
    "    exploration_rate_data.append(explor_rate)\n",
    "\n",
    "#    calculating and printing the average reward in very thounsand episodes\n",
    "#     print(np.split(np.array(all_episodes_reward_holder), (episodes_count/1000)) )\n",
    "\n",
    "reward_for_each_episodes = np.split(np.array(all_episodes_reward_holder), episodes_count/1000)\n",
    "decay_for_each_episodes = np.split(np.array(exploration_rate_data), episodes_count/1000)\n",
    "count = 1000\n",
    "    \n",
    "print('===================  AVG REWARD IN THIS EPISIODES ===================\\n')\n",
    "for wrd in reward_for_each_episodes:\n",
    "    print(f'{count} : {sum(wrd/1000)}')\n",
    "    count += 1000\n",
    "    \n",
    "# updated value of the Q table \n",
    "print('================ Q Table ================\\n')\n",
    "print(Q_table)\n",
    "\n"
   ]
  },
  {
   "cell_type": "code",
   "execution_count": 17,
   "id": "9e6d3b43",
   "metadata": {},
   "outputs": [],
   "source": [
    "# decay_count = 1000\n",
    "# decay_diction = {}\n",
    "# for decay in  decay_for_each_episodes: \n",
    "#     decay_diction[decay] = sum(wrd/1000)\n",
    "#     decay_count += 1000\n",
    "    "
   ]
  },
  {
   "cell_type": "code",
   "execution_count": 42,
   "id": "654ebb8e",
   "metadata": {},
   "outputs": [
    {
     "data": {
      "image/png": "[encoded data removed]",
      "text/plain": [
       "<Figure size 800x400 with 1 Axes>"
      ]
     },
     "metadata": {},
     "output_type": "display_data"
    }
   ],
   "source": [
    "import matplotlib.pyplot as plt\n",
    "\n",
    "visual_diction = {}\n",
    "count = 1000\n",
    "for wrd in reward_for_each_episodes:\n",
    "#     print(wrd)\n",
    "    visual_diction[count] = sum(wrd/1000)\n",
    "    count += 1000\n",
    "\n",
    "    \n",
    "decay_count = 1000\n",
    "decay_diction = {}\n",
    "for decay in  decay_for_each_episodes: \n",
    "    decay_diction[decay_count] = sum(decay/1000)\n",
    "    decay_count += 1000\n",
    "\n",
    "    \n",
    "\n",
    "def visualize_training_sequence(diction):\n",
    "    plt.figure(figsize=(8,4))\n",
    "    plt.plot(diction.keys() , diction.values() , label='ACCURACY RATE')\n",
    "    plt.plot(decay_diction.keys(), decay_diction.values(), label='DECAY RATE')\n",
    "    plt.title('Agent learning Rate')\n",
    "    plt.xlabel('Episodes')\n",
    "    plt.legend()\n",
    "    plt.ylabel('Accuracy (%)')\n",
    "    plt.grid(color='gray', linestyle=':', linewidth=0.2)\n",
    "    plt.show()\n",
    "    \n",
    "    \n",
    "visualize_training_sequence(visual_diction)\n",
    "    "
   ]
  },
  {
   "cell_type": "markdown",
   "id": "65aaeaea",
   "metadata": {},
   "source": [
    "# Q-Agent Evaluation (Playing)"
   ]
  },
  {
   "cell_type": "code",
   "execution_count": null,
   "id": "e0f6d125",
   "metadata": {},
   "outputs": [],
   "source": [
    "# plaing for just three episode \n",
    "for episode in range(3):\n",
    "    \n",
    "    environment.reset()\n",
    "    envi_state = 0\n",
    "#     print(envi_state)\n",
    "    finish = False\n",
    "    \n",
    "    print(f'============= EPISODE{episode +1} ===================\\n\\n\\n\\n')\n",
    "    time.sleep(1)\n",
    "    \n",
    "#     looping throught 100 step in each episode.. \n",
    "    for move in range(maximum_step_per_episode):\n",
    "        \n",
    "#         resting the consolde and agent enviroment \n",
    "        clear_output(wait=True)\n",
    "        plt.imshow(environment.render())\n",
    "        display.display(plt.gcf())\n",
    "        time.sleep(0.05)\n",
    "        \n",
    "#        selecting the best action from the Q_table \n",
    "        action = np.argmax(Q_table[envi_state, : ])\n",
    "        new_state, state_reward, finish, trunc, info = environment.step(action)\n",
    "        \n",
    "#       if this condition is true is either the agent reach goal of fell into ice hole\n",
    "        if finish: \n",
    "            clear_output(wait=True)\n",
    "            plt.imshow(environment.render())\n",
    "            plt.title('Agent In Snow Enviro')\n",
    "            display.display(plt.gcf())\n",
    "            \n",
    "            \n",
    "            if state_reward ==  1: \n",
    "                print(f'================ Final Goal Achieved !!! =================')\n",
    "                time.sleep(0.3)\n",
    "            else: \n",
    "                print(f'================= Falling Into the Ice Hole !!! ============')\n",
    "                time.sleep(0.3)\n",
    "            \n",
    "                \n",
    "            clear_output(wait=True)\n",
    "            break\n",
    "            \n",
    "        envi_state = new_state\n",
    "        \n",
    "        \n",
    "environment.close()"
   ]
  },
  {
   "cell_type": "code",
   "execution_count": null,
   "id": "e130f53f",
   "metadata": {},
   "outputs": [],
   "source": []
  }
 ],
 "metadata": {
  "kernelspec": {
   "display_name": "Python 3 (ipykernel)",
   "language": "python",
   "name": "python3"
  },
  "language_info": {
   "codemirror_mode": {
    "name": "ipython",
    "version": 3
   },
   "file_extension": ".py",
   "mimetype": "text/x-python",
   "name": "python",
   "nbconvert_exporter": "python",
   "pygments_lexer": "ipython3",
   "version": "3.9.5"
  }
 },
 "nbformat": 4,
 "nbformat_minor": 5
}
