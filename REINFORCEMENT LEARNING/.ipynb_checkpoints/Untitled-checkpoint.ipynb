{
 "cells": [
  {
   "cell_type": "markdown",
   "id": "fc9b1c1f-de50-4421-acc8-6f8e68aac60f",
   "metadata": {},
   "source": [
    "### Wall Following Algorithm"
   ]
  },
  {
   "cell_type": "code",
   "execution_count": 9,
   "id": "89456d18-193b-4aa0-bc09-559feda9d735",
   "metadata": {},
   "outputs": [],
   "source": [
    "from pyamaze import maze, agent, COLOR\n",
    "\n",
    "def rotate_clockwise():\n",
    "    global orientation\n",
    "    keys = list(orientation.keys())\n",
    "    values = list(orientation.values())\n",
    "    rotated_values = [values[-1]] + values[:-1]\n",
    "    orientation = dict(zip(keys, rotated_values))\n",
    "\n",
    "def rotate_counterclockwise():\n",
    "    global orientation\n",
    "    keys = list(orientation.keys())\n",
    "    values = list(orientation.values())\n",
    "    rotated_values = values[1:] + [values[0]]\n",
    "    orientation = dict(zip(keys, rotated_values))\n",
    "\n",
    "def move_forward(cell):\n",
    "    if orientation['forward'] == 'E':\n",
    "        return (cell[0], cell[1] + 1), 'E'\n",
    "    if orientation['forward'] == 'W':\n",
    "        return (cell[0], cell[1] - 1), 'W'\n",
    "    if orientation['forward'] == 'N':\n",
    "        return (cell[0] - 1, cell[1]), 'N'\n",
    "    if orientation['forward'] == 'S':\n",
    "        return (cell[0] + 1, cell[1]), 'S'\n",
    "\n",
    "def wall_follower(m):\n",
    "    global orientation\n",
    "    orientation = {'forward': 'N', 'left': 'W', 'back': 'S', 'right': 'E'}\n",
    "    current_cell = (m.rows, m.cols)\n",
    "    path = ''\n",
    "    while True:\n",
    "        if current_cell == (1, 1):\n",
    "            break\n",
    "        if m.maze_map[current_cell][orientation['left']] == 0:\n",
    "            if m.maze_map[current_cell][orientation['forward']] == 0:\n",
    "                rotate_clockwise()\n",
    "            else:\n",
    "                current_cell, d = move_forward(current_cell)\n",
    "                path += d\n",
    "        else:\n",
    "            rotate_counterclockwise()\n",
    "            current_cell, d = move_forward(current_cell)\n",
    "            path += d\n",
    "    simplified_path = path\n",
    "    while 'EW' in simplified_path or 'WE' in simplified_path or 'NS' in simplified_path or 'SN' in simplified_path:\n",
    "        simplified_path = simplified_path.replace('EW', '')\n",
    "        simplified_path = simplified_path.replace('WE', '')\n",
    "        simplified_path = simplified_path.replace('NS', '')\n",
    "        simplified_path = simplified_path.replace('SN', '')\n",
    "    return path, simplified_path\n",
    "\n",
    "if __name__ == '__main__':\n",
    "    my_maze = maze(25, 25)\n",
    "    my_maze.CreateMaze()\n",
    "\n",
    "    my_agent = agent(my_maze, shape='arrow', color=COLOR.red, footprints=True)\n",
    "    path, simplified_path = wall_follower(my_maze)\n",
    "    my_maze.tracePath({my_agent: simplified_path})\n",
    "\n",
    "    # print(path)\n",
    "    my_maze.run()\n"
   ]
  },
  {
   "cell_type": "code",
   "execution_count": null,
   "id": "0939d623-f607-46f1-9813-fd1e08e645a0",
   "metadata": {},
   "outputs": [],
   "source": []
  }
 ],
 "metadata": {
  "kernelspec": {
   "display_name": "Python 3 (ipykernel)",
   "language": "python",
   "name": "python3"
  },
  "language_info": {
   "codemirror_mode": {
    "name": "ipython",
    "version": 3
   },
   "file_extension": ".py",
   "mimetype": "text/x-python",
   "name": "python",
   "nbconvert_exporter": "python",
   "pygments_lexer": "ipython3",
   "version": "3.9.5"
  }
 },
 "nbformat": 4,
 "nbformat_minor": 5
}
