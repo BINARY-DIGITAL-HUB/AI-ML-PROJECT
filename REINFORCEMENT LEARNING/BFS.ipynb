{
 "cells": [
  {
   "cell_type": "code",
   "execution_count": 1,
   "id": "172279c2-4aa6-464c-9733-e18ded8dd511",
   "metadata": {},
   "outputs": [],
   "source": [
    "from pyamaze import maze, agent, COLOR, textLabel\n",
    "from timeit import timeit\n",
    "\n",
    "def explore_breadth_first(m):\n",
    "    starting_point = (m.rows, m.cols)\n",
    "    queue = [starting_point]\n",
    "    discovered = [starting_point]\n",
    "    breadth_first_path = {}\n",
    "    while len(queue) > 0:\n",
    "        current_location = queue.pop(0)\n",
    "        if current_location == (2, 13):\n",
    "            break\n",
    "        for direction in 'ESNW':\n",
    "            if m.maze_map[current_location][direction]:\n",
    "                if direction == 'E':\n",
    "                    next_location = (current_location[0], current_location[1] + 1)\n",
    "                elif direction == 'W':\n",
    "                    next_location = (current_location[0], current_location[1] - 1)\n",
    "                elif direction == 'N':\n",
    "                    next_location = (current_location[0] - 1, current_location[1])\n",
    "                elif direction == 'S':\n",
    "                    next_location = (current_location[0] + 1, current_location[1])\n",
    "                if next_location in discovered:\n",
    "                    continue\n",
    "                queue.append(next_location)\n",
    "                discovered.append(next_location)\n",
    "                breadth_first_path[next_location] = current_location\n",
    "    forward_path = {}\n",
    "    current_cell = (2, 13)\n",
    "    while current_cell != starting_point:\n",
    "        forward_path[breadth_first_path[current_cell]] = current_cell\n",
    "        current_cell = breadth_first_path[current_cell]\n",
    "    return forward_path\n",
    "\n",
    "if __name__ == '__main__':\n",
    "    maze_instance = maze(25, 25)\n",
    "    maze_instance.CreateMaze(2, 13, pattern='v', theme=COLOR.light, loopPercent=100)\n",
    "    solution_path = explore_breadth_first(maze_instance)\n",
    "\n",
    "    agent_instance = agent(maze_instance, footprints=True, color=COLOR.blue)\n",
    "    maze_instance.tracePath({agent_instance: solution_path})\n",
    "    label_instance = textLabel(maze_instance, 'BFS Path ', len(solution_path) + 1)\n",
    "    execution_time = timeit(stmt='explore_breadth_first(maze_instance)', number=1000, globals=globals())\n",
    "    textLabel(maze_instance, 'BFS EXECUTION Time', execution_time)\n",
    "\n",
    "    maze_instance.run()\n"
   ]
  }
 ],
 "metadata": {
  "kernelspec": {
   "display_name": "Python 3 (ipykernel)",
   "language": "python",
   "name": "python3"
  },
  "language_info": {
   "codemirror_mode": {
    "name": "ipython",
    "version": 3
   },
   "file_extension": ".py",
   "mimetype": "text/x-python",
   "name": "python",
   "nbconvert_exporter": "python",
   "pygments_lexer": "ipython3",
   "version": "3.9.5"
  }
 },
 "nbformat": 4,
 "nbformat_minor": 5
}
