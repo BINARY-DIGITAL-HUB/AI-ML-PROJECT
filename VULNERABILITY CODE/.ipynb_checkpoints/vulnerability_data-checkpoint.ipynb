{
 "cells": [
  {
   "cell_type": "code",
   "execution_count": 4,
   "id": "c44846d5-469f-4352-9d9b-9a0309c58343",
   "metadata": {},
   "outputs": [],
   "source": [
    "# !pip install kagglehub"
   ]
  },
  {
   "cell_type": "code",
   "execution_count": 1,
   "id": "72f3c05f-e35e-45d9-9729-9b1c7b14c6c7",
   "metadata": {},
   "outputs": [],
   "source": [
    "import pandas as pd \n",
    "import warnings \n",
    "warnings.filterwarnings('ignore')"
   ]
  },
  {
   "cell_type": "code",
   "execution_count": 122,
   "id": "9ed216f0-f946-4eff-8054-3cbe76be83d1",
   "metadata": {},
   "outputs": [
    {
     "data": {
      "text/html": [
       "<div>\n",
       "<style scoped>\n",
       "    .dataframe tbody tr th:only-of-type {\n",
       "        vertical-align: middle;\n",
       "    }\n",
       "\n",
       "    .dataframe tbody tr th {\n",
       "        vertical-align: top;\n",
       "    }\n",
       "\n",
       "    .dataframe thead th {\n",
       "        text-align: right;\n",
       "    }\n",
       "</style>\n",
       "<table border=\"1\" class=\"dataframe\">\n",
       "  <thead>\n",
       "    <tr style=\"text-align: right;\">\n",
       "      <th></th>\n",
       "      <th>ID</th>\n",
       "      <th>CVE-ID</th>\n",
       "      <th>CVSS-V3</th>\n",
       "      <th>CVSS-V2</th>\n",
       "      <th>SEVERITY</th>\n",
       "      <th>DESCRIPTION</th>\n",
       "      <th>CWE-ID</th>\n",
       "    </tr>\n",
       "  </thead>\n",
       "  <tbody>\n",
       "    <tr>\n",
       "      <th>0</th>\n",
       "      <td>1</td>\n",
       "      <td>CVE-1999-0001</td>\n",
       "      <td>None</td>\n",
       "      <td>5</td>\n",
       "      <td>MEDIUM</td>\n",
       "      <td>ip_input.c in BSD-derived TCP/IP implementatio...</td>\n",
       "      <td>CWE-20</td>\n",
       "    </tr>\n",
       "    <tr>\n",
       "      <th>1</th>\n",
       "      <td>2</td>\n",
       "      <td>CVE-1999-0002</td>\n",
       "      <td>None</td>\n",
       "      <td>10</td>\n",
       "      <td>HIGH</td>\n",
       "      <td>Buffer overflow in NFS mountd gives root acces...</td>\n",
       "      <td>CWE-119</td>\n",
       "    </tr>\n",
       "    <tr>\n",
       "      <th>2</th>\n",
       "      <td>3</td>\n",
       "      <td>CVE-1999-0003</td>\n",
       "      <td>None</td>\n",
       "      <td>10</td>\n",
       "      <td>HIGH</td>\n",
       "      <td>Execute commands as root via buffer overflow i...</td>\n",
       "      <td>NVD-CWE-Other</td>\n",
       "    </tr>\n",
       "    <tr>\n",
       "      <th>3</th>\n",
       "      <td>4</td>\n",
       "      <td>CVE-1999-0004</td>\n",
       "      <td>None</td>\n",
       "      <td>5</td>\n",
       "      <td>MEDIUM</td>\n",
       "      <td>MIME buffer overflow in email clients, e.g. So...</td>\n",
       "      <td>NVD-CWE-Other</td>\n",
       "    </tr>\n",
       "    <tr>\n",
       "      <th>4</th>\n",
       "      <td>5</td>\n",
       "      <td>CVE-1999-0005</td>\n",
       "      <td>None</td>\n",
       "      <td>10</td>\n",
       "      <td>HIGH</td>\n",
       "      <td>Arbitrary command execution via IMAP buffer ov...</td>\n",
       "      <td>NVD-CWE-Other</td>\n",
       "    </tr>\n",
       "    <tr>\n",
       "      <th>...</th>\n",
       "      <td>...</td>\n",
       "      <td>...</td>\n",
       "      <td>...</td>\n",
       "      <td>...</td>\n",
       "      <td>...</td>\n",
       "      <td>...</td>\n",
       "      <td>...</td>\n",
       "    </tr>\n",
       "    <tr>\n",
       "      <th>169561</th>\n",
       "      <td>169562</td>\n",
       "      <td>CVE-2021-45470</td>\n",
       "      <td>7.5</td>\n",
       "      <td>5</td>\n",
       "      <td>HIGH</td>\n",
       "      <td>lib/DatabaseLayer.py in cve-search before 4.1....</td>\n",
       "      <td>NVD-CWE-Other</td>\n",
       "    </tr>\n",
       "    <tr>\n",
       "      <th>169562</th>\n",
       "      <td>169563</td>\n",
       "      <td>CVE-2021-45471</td>\n",
       "      <td>5.3</td>\n",
       "      <td>5</td>\n",
       "      <td>MEDIUM</td>\n",
       "      <td>In MediaWiki through 1.37, blocked IP addresse...</td>\n",
       "      <td>NVD-CWE-noinfo</td>\n",
       "    </tr>\n",
       "    <tr>\n",
       "      <th>169563</th>\n",
       "      <td>169564</td>\n",
       "      <td>CVE-2021-45472</td>\n",
       "      <td>6.1</td>\n",
       "      <td>4.3</td>\n",
       "      <td>MEDIUM</td>\n",
       "      <td>In MediaWiki through 1.37, XSS can occur in Wi...</td>\n",
       "      <td>CWE-79</td>\n",
       "    </tr>\n",
       "    <tr>\n",
       "      <th>169564</th>\n",
       "      <td>169565</td>\n",
       "      <td>CVE-2021-45473</td>\n",
       "      <td>6.1</td>\n",
       "      <td>4.3</td>\n",
       "      <td>MEDIUM</td>\n",
       "      <td>In MediaWiki through 1.37, Wikibase item descr...</td>\n",
       "      <td>CWE-79</td>\n",
       "    </tr>\n",
       "    <tr>\n",
       "      <th>169565</th>\n",
       "      <td>169566</td>\n",
       "      <td>CVE-2021-45474</td>\n",
       "      <td>6.1</td>\n",
       "      <td>4.3</td>\n",
       "      <td>MEDIUM</td>\n",
       "      <td>In MediaWiki through 1.37, the Special:ImportF...</td>\n",
       "      <td>CWE-79</td>\n",
       "    </tr>\n",
       "  </tbody>\n",
       "</table>\n",
       "<p>169566 rows × 7 columns</p>\n",
       "</div>"
      ],
      "text/plain": [
       "            ID          CVE-ID CVSS-V3 CVSS-V2 SEVERITY  \\\n",
       "0            1   CVE-1999-0001    None       5   MEDIUM   \n",
       "1            2   CVE-1999-0002    None      10     HIGH   \n",
       "2            3   CVE-1999-0003    None      10     HIGH   \n",
       "3            4   CVE-1999-0004    None       5   MEDIUM   \n",
       "4            5   CVE-1999-0005    None      10     HIGH   \n",
       "...        ...             ...     ...     ...      ...   \n",
       "169561  169562  CVE-2021-45470     7.5       5     HIGH   \n",
       "169562  169563  CVE-2021-45471     5.3       5   MEDIUM   \n",
       "169563  169564  CVE-2021-45472     6.1     4.3   MEDIUM   \n",
       "169564  169565  CVE-2021-45473     6.1     4.3   MEDIUM   \n",
       "169565  169566  CVE-2021-45474     6.1     4.3   MEDIUM   \n",
       "\n",
       "                                              DESCRIPTION          CWE-ID  \n",
       "0       ip_input.c in BSD-derived TCP/IP implementatio...          CWE-20  \n",
       "1       Buffer overflow in NFS mountd gives root acces...         CWE-119  \n",
       "2       Execute commands as root via buffer overflow i...   NVD-CWE-Other  \n",
       "3       MIME buffer overflow in email clients, e.g. So...   NVD-CWE-Other  \n",
       "4       Arbitrary command execution via IMAP buffer ov...   NVD-CWE-Other  \n",
       "...                                                   ...             ...  \n",
       "169561  lib/DatabaseLayer.py in cve-search before 4.1....   NVD-CWE-Other  \n",
       "169562  In MediaWiki through 1.37, blocked IP addresse...  NVD-CWE-noinfo  \n",
       "169563  In MediaWiki through 1.37, XSS can occur in Wi...          CWE-79  \n",
       "169564  In MediaWiki through 1.37, Wikibase item descr...          CWE-79  \n",
       "169565  In MediaWiki through 1.37, the Special:ImportF...          CWE-79  \n",
       "\n",
       "[169566 rows x 7 columns]"
      ]
     },
     "execution_count": 122,
     "metadata": {},
     "output_type": "execute_result"
    }
   ],
   "source": [
    "data = pd.read_excel('Global_Dataset.xlsx')\n",
    "data"
   ]
  },
  {
   "cell_type": "code",
   "execution_count": 123,
   "id": "ace4688d-2e2d-4953-b6fe-2d83b9ab909f",
   "metadata": {},
   "outputs": [
    {
     "data": {
      "text/plain": [
       "0         ip_input.c in BSD-derived TCP/IP implementatio...\n",
       "1         Buffer overflow in NFS mountd gives root acces...\n",
       "2         Execute commands as root via buffer overflow i...\n",
       "3         MIME buffer overflow in email clients, e.g. So...\n",
       "4         Arbitrary command execution via IMAP buffer ov...\n",
       "                                ...                        \n",
       "169561    lib/DatabaseLayer.py in cve-search before 4.1....\n",
       "169562    In MediaWiki through 1.37, blocked IP addresse...\n",
       "169563    In MediaWiki through 1.37, XSS can occur in Wi...\n",
       "169564    In MediaWiki through 1.37, Wikibase item descr...\n",
       "169565    In MediaWiki through 1.37, the Special:ImportF...\n",
       "Name: DESCRIPTION, Length: 169566, dtype: object"
      ]
     },
     "execution_count": 123,
     "metadata": {},
     "output_type": "execute_result"
    }
   ],
   "source": [
    "data.DESCRIPTION"
   ]
  },
  {
   "cell_type": "code",
   "execution_count": 124,
   "id": "f90877be-bee5-4a0f-b8b7-5ace680bcded",
   "metadata": {},
   "outputs": [
    {
     "data": {
      "text/plain": [
       "'ip_input.c in BSD-derived TCP/IP implementations allows remote attackers to cause a denial of service (crash or hang) via crafted packets.'"
      ]
     },
     "execution_count": 124,
     "metadata": {},
     "output_type": "execute_result"
    }
   ],
   "source": [
    "data.DESCRIPTION[0]"
   ]
  },
  {
   "cell_type": "code",
   "execution_count": 125,
   "id": "dd4a5747-a338-4076-aa7c-def38c2dbce4",
   "metadata": {},
   "outputs": [
    {
     "data": {
      "text/plain": [
       "array(['CVE-1999-0001', 'CVE-1999-0002', 'CVE-1999-0003', ...,\n",
       "       'CVE-2021-45472', 'CVE-2021-45473', 'CVE-2021-45474'], dtype=object)"
      ]
     },
     "execution_count": 125,
     "metadata": {},
     "output_type": "execute_result"
    }
   ],
   "source": [
    "data['CVE-ID'].unique()"
   ]
  },
  {
   "cell_type": "code",
   "execution_count": 132,
   "id": "5ed68e05-cf5c-4f16-915e-67927c988123",
   "metadata": {},
   "outputs": [
    {
     "name": "stdout",
     "output_type": "stream",
     "text": [
      "=================  [       ID    ]  ===================\n",
      "[     1      2      3 ... 169564 169565 169566]\n",
      "=================  [       CVE-ID    ]  ===================\n",
      "['CVE-1999-0001' 'CVE-1999-0002' 'CVE-1999-0003' ... 'CVE-2021-45472'\n",
      " 'CVE-2021-45473' 'CVE-2021-45474']\n",
      "=================  [       CVSS-V3    ]  ===================\n",
      "['None' 9.8 7.5 7.8 4.8 7.1 5.6 6.1 5.5 8.1 5.9 6.8 9.1 6.5 8.8 4.2 5.3\n",
      " 4.3 7 3.1 3.3 7.2 7.3 6.7 4.1 5.8 8 3.7 7.4 4.7 5.4 6.3 10 8.2 2.4 6 8.6\n",
      " 9.6 6.2 6.4 4.9 5 2.7 9.9 5.7 4.4 4.6 8.4 6.6 9.3 7.6 3.4 4 2.6 3.5 5.1\n",
      " 8.5 2.5 6.9 8.3 7.7 2.8 2 9 2.3 8.7 7.9 2.9 4.5 5.2 9.4 1.9 2.1 3.8 3 1.8\n",
      " 2.2 3.9 8.9 3.6 3.2]\n",
      "=================  [       CVSS-V2    ]  ===================\n",
      "[5 10 7.5 7.2 4.6 2.6 5.1 7.1 6.4 1.9 2.1 3.7 7.6 6.2 6.8 7.8 9.3 1.2 0\n",
      " 4.9 4 3.6 4.3 9 3.5 3.3 5.4 1.7 6.9 6.5 5.8 3.8 8.5 8.3 6.6 9.4 8.8 4.4 6\n",
      " 5.2 4.8 6.3 4.7 1 5.5 5.6 6.1 5.7 1.5 3.2 9.7 2.3 4.1 2.4 2.7 2.9 7.9 7.3\n",
      " 3.4 7.4 1.8 'None' 3 5.9 8 7.7 8.2 1.3 2.8 5.3 6.7 8.7 7 1.4]\n",
      "=================  [       SEVERITY    ]  ===================\n",
      "['MEDIUM' 'HIGH' 'LOW' 'CRITICAL' 'None']\n",
      "=================  [       DESCRIPTION    ]  ===================\n",
      "['ip_input.c in BSD-derived TCP/IP implementations allows remote attackers to cause a denial of service (crash or hang) via crafted packets.'\n",
      " 'Buffer overflow in NFS mountd gives root access to remote attackers, mostly in Linux systems.'\n",
      " 'Execute commands as root via buffer overflow in Tooltalk database server (rpc.ttdbserverd).'\n",
      " ...\n",
      " 'In MediaWiki through 1.37, XSS can occur in Wikibase because an external identifier property can have a URL format that includes a $1 formatter substitution marker, and the javascript: URL scheme (among others) can be used.'\n",
      " 'In MediaWiki through 1.37, Wikibase item descriptions allow XSS, which is triggered upon a visit to an action=info URL (aka a page-information sidebar).'\n",
      " 'In MediaWiki through 1.37, the Special:ImportFile URI (aka FileImporter) allows XSS, as demonstrated by the clientUrl parameter.']\n",
      "=================  [       CWE-ID    ]  ===================\n",
      "['CWE-20' 'CWE-119' 'NVD-CWE-Other' 'CWE-327' 'NVD-CWE-noinfo' 'CWE-17'\n",
      " 'CWE-252' 'CWE-19' 'CWE-264' 'CWE-200' 'CWE-120' 'CWE-287' 'CWE-255'\n",
      " 'CWE-384' 'CWE-94' 'CWE-16' 'CWE-59' 'CWE-362' 'CWE-665' 'CWE-254'\n",
      " 'CWE-399' 'CWE-310' 'CWE-798' 'CWE-209' 'CWE-79' 'CWE-22' 'CWE-434'\n",
      " 'CWE-401' 'CWE-400' 'CWE-284' 'CWE-668' 'CWE-770' 'CWE-532' 'CWE-269'\n",
      " 'CWE-294' 'CWE-669' 'CWE-189' 'CWE-134' 'CWE-787' 'CWE-89' 'CWE-78'\n",
      " 'CWE-352' 'CWE-190' 'CWE-415' 'CWE-772' 'CWE-476' 'CWE-369' 'CWE-326'\n",
      " 'CWE-601' 'CWE-835' 'CWE-193' 'CWE-319' 'CWE-77' 'CWE-74' 'CWE-306'\n",
      " 'CWE-388' 'CWE-295' 'CWE-191' 'CWE-93' 'CWE-502' 'CWE-863' 'CWE-113'\n",
      " 'CWE-732' 'CWE-918' 'CWE-331' 'CWE-416' 'CWE-1188' 'CWE-338' 'CWE-426'\n",
      " 'CWE-91' 'CWE-312' 'CWE-613' 'CWE-129' 'CWE-909' 'CWE-116' 'CWE-640'\n",
      " 'CWE-755' 'CWE-916' 'CWE-307' 'CWE-824' 'CWE-704' 'CWE-611' 'CWE-843'\n",
      " 'CWE-681' 'CWE-311' 'CWE-649' 'CWE-617' 'CWE-494' 'CWE-330' 'CWE-404'\n",
      " 'CWE-522' 'CWE-125' 'CWE-276' 'CWE-682' 'CWE-346' 'CWE-273' 'CWE-693'\n",
      " 'CWE-347' 'CWE-565' 'CWE-697' 'CWE-90' 'CWE-377' 'CWE-367' 'CWE-521'\n",
      " 'CWE-862' 'CWE-428' 'CWE-354' 'CWE-335' 'CWE-776' 'CWE-829' 'CWE-275'\n",
      " 'CWE-459' 'CWE-427' 'CWE-203' 'CWE-345' 'CWE-320' 'CWE-1021' 'CWE-763'\n",
      " 'CWE-290' 'CWE-281' 'CWE-285' 'CWE-332' 'CWE-199' 'CWE-754' 'CWE-21'\n",
      " 'CWE-670' 'CWE-131' 'CWE-297' 'CWE-358' 'CWE-639' 'CWE-18' 'CWE-118'\n",
      " 'CWE-913' 'CWE-552' 'CWE-425' 'CWE-441' 'CWE-361' 'CWE-444' 'CWE-184'\n",
      " 'CWE-534' 'CWE-123' 'CWE-185' 'CWE-88' 'CWE-1' 'CWE-407' 'CWE-538'\n",
      " 'CWE-172' 'CWE-908' 'CWE-834' 'CWE-749' 'CWE-662' 'CWE-99' 'CWE-664'\n",
      " 'CWE-775' 'CWE-122' 'CWE-417' 'CWE-610' 'CWE-922' 'CWE-672' 'CWE-674'\n",
      " 'CWE-642' 'CWE-769' 'CWE-920' 'CWE-895' 'CWE-300' 'CWE-943' 'CWE-121'\n",
      " 'CWE-1187' 'CWE-470' 'CWE-178' 'CWE-667' 'CWE-706' 'CWE-774' 'CWE-1236'\n",
      " 'CWE-212' 'CWE-288' 'CWE-266' 'CWE-915' 'CWE-917' 'CWE-924' 'CWE-405'\n",
      " 'CWE-436' 'CWE-471' 'CWE-707' 'CWE-838' 'CWE-256' 'CWE-321' 'CWE-317'\n",
      " 'CWE-573' 'CWE-305' 'CWE-117' 'CWE-406' 'CWE-61' 'CWE-23' 'CWE-216'\n",
      " 'CWE-313' 'CWE-778' 'CWE-371' 'CWE-73' 'CWE-325' 'CWE-268' 'CWE-440'\n",
      " 'CWE-280' 'CWE-80' 'CWE-250' 'CWE-349' 'CWE-805' 'CWE-261' 'CWE-684'\n",
      " 'CWE-114' 'CWE-350' 'CWE-364' 'CWE-385' 'CWE-201' 'CWE-680' 'CWE-506'\n",
      " 'CWE-96' 'CWE-694' 'CWE-208' 'CWE-303' 'CWE-248' 'CWE-757' 'CWE-912'\n",
      " 'CWE-1286' 'CWE-130' 'CWE-342' 'CWE-299' 'CWE-270' 'CWE-822' 'CWE-214'\n",
      " 'CWE-323' 'CWE-435' 'CWE-1285' 'CWE-183' 'CWE-567' 'CWE-507' 'CWE-823'\n",
      " 'CWE-112' 'CWE-170' 'CWE-788' 'CWE-115' 'CWE-228' 'CWE-760' 'CWE-271'\n",
      " 'CWE-98' 'CWE-87' 'CWE-334' 'CWE-259' 'CWE-603' 'CWE-279' 'CWE-1321'\n",
      " 'CWE-497' 'CWE-1076' 'CWE-35' 'CWE-789' 'CWE-472' 'CWE-36' 'CWE-202'\n",
      " 'CWE-126' 'CWE-489' 'CWE-302' 'CWE-64' 'CWE-540' 'CWE-379' 'CWE-759'\n",
      " 'CWE-644' 'CWE-378' 'CWE-527' 'CWE-598' 'CWE-240' 'CWE-42' 'CWE-620'\n",
      " 'CWE-283' 'CWE-708' 'CWE-539' 'CWE-257' 'CWE-353' 'CWE-359' 'CWE-657'\n",
      " 'CWE-1284' 'CWE-457' 'CWE-807' 'CWE-548' 'CWE-923' 'CWE-267' 'CWE-316'\n",
      " 'CWE-710' 'CWE-688' 'CWE-1004' 'CWE-315' 'CWE-840' 'CWE-124' 'CWE-799'\n",
      " 'CWE-1278' 'CWE-194' 'CWE-15' 'CWE-75' 'CWE-328' 'CWE-590' 'CWE-641'\n",
      " 'CWE-277' 'CWE-304' 'CWE-525' 'CWE-26' 'CWE-242' 'CWE-1333']\n"
     ]
    }
   ],
   "source": [
    "for col in data.columns: \n",
    "    un = data[col].unique()\n",
    "    print(f'=================  [       {col}    ]  ===================')\n",
    "    print(un)"
   ]
  },
  {
   "cell_type": "code",
   "execution_count": 7,
   "id": "df059991-956e-4cb6-aaf0-4f2b2b615805",
   "metadata": {},
   "outputs": [],
   "source": [
    "# pd.read_csv(path)"
   ]
  },
  {
   "cell_type": "code",
   "execution_count": 133,
   "id": "fb38920d-a23b-402b-ab5c-da18a495ee70",
   "metadata": {},
   "outputs": [
    {
     "data": {
      "text/plain": [
       "<Axes: >"
      ]
     },
     "execution_count": 133,
     "metadata": {},
     "output_type": "execute_result"
    },
    {
     "data": {
      "image/png": "[encoded data removed]",
      "text/plain": [
       "<Figure size 640x480 with 1 Axes>"
      ]
     },
     "metadata": {},
     "output_type": "display_data"
    }
   ],
   "source": [
    "data.SEVERITY.value_counts().plot(kind='bar', color=['r', 'b', 'g', 'brown'])"
   ]
  },
  {
   "cell_type": "code",
   "execution_count": 128,
   "id": "a3beaaa7-080e-4c7f-b071-683a97d67cb4",
   "metadata": {},
   "outputs": [
    {
     "data": {
      "text/plain": [
       "array(['None', 9.8, 7.5, 7.8, 4.8, 7.1, 5.6, 6.1, 5.5, 8.1, 5.9, 6.8, 9.1,\n",
       "       6.5, 8.8, 4.2, 5.3, 4.3, 7, 3.1, 3.3, 7.2, 7.3, 6.7, 4.1, 5.8, 8,\n",
       "       3.7, 7.4, 4.7, 5.4, 6.3, 10, 8.2, 2.4, 6, 8.6, 9.6, 6.2, 6.4, 4.9,\n",
       "       5, 2.7, 9.9, 5.7, 4.4, 4.6, 8.4, 6.6, 9.3, 7.6, 3.4, 4, 2.6, 3.5,\n",
       "       5.1, 8.5, 2.5, 6.9, 8.3, 7.7, 2.8, 2, 9, 2.3, 8.7, 7.9, 2.9, 4.5,\n",
       "       5.2, 9.4, 1.9, 2.1, 3.8, 3, 1.8, 2.2, 3.9, 8.9, 3.6, 3.2],\n",
       "      dtype=object)"
      ]
     },
     "execution_count": 128,
     "metadata": {},
     "output_type": "execute_result"
    }
   ],
   "source": [
    "data[\"CVSS-V3\"].unique()"
   ]
  },
  {
   "cell_type": "code",
   "execution_count": 134,
   "id": "69f2e494-3f1c-4ceb-9777-be475bede2b7",
   "metadata": {},
   "outputs": [
    {
     "name": "stdout",
     "output_type": "stream",
     "text": [
      "<class 'pandas.core.frame.DataFrame'>\n",
      "RangeIndex: 169566 entries, 0 to 169565\n",
      "Data columns (total 7 columns):\n",
      " #   Column       Non-Null Count   Dtype \n",
      "---  ------       --------------   ----- \n",
      " 0   ID           169566 non-null  int64 \n",
      " 1   CVE-ID       169566 non-null  object\n",
      " 2   CVSS-V3      169566 non-null  object\n",
      " 3   CVSS-V2      169566 non-null  object\n",
      " 4   SEVERITY     169566 non-null  object\n",
      " 5   DESCRIPTION  169566 non-null  object\n",
      " 6   CWE-ID       169566 non-null  object\n",
      "dtypes: int64(1), object(6)\n",
      "memory usage: 9.1+ MB\n"
     ]
    }
   ],
   "source": [
    "data.info()"
   ]
  },
  {
   "cell_type": "code",
   "execution_count": 135,
   "id": "cfe02b05-539a-4c5b-a99e-58ce8f593cb9",
   "metadata": {},
   "outputs": [
    {
     "data": {
      "text/plain": [
       "'Execute commands as root via buffer overflow in Tooltalk database server (rpc.ttdbserverd).'"
      ]
     },
     "execution_count": 135,
     "metadata": {},
     "output_type": "execute_result"
    }
   ],
   "source": [
    "data.DESCRIPTION[2]"
   ]
  },
  {
   "cell_type": "code",
   "execution_count": 136,
   "id": "b328c1e5-b92e-4446-84e0-284b91cc6780",
   "metadata": {},
   "outputs": [
    {
     "data": {
      "text/html": [
       "<div>\n",
       "<style scoped>\n",
       "    .dataframe tbody tr th:only-of-type {\n",
       "        vertical-align: middle;\n",
       "    }\n",
       "\n",
       "    .dataframe tbody tr th {\n",
       "        vertical-align: top;\n",
       "    }\n",
       "\n",
       "    .dataframe thead th {\n",
       "        text-align: right;\n",
       "    }\n",
       "</style>\n",
       "<table border=\"1\" class=\"dataframe\">\n",
       "  <thead>\n",
       "    <tr style=\"text-align: right;\">\n",
       "      <th></th>\n",
       "      <th>ID</th>\n",
       "      <th>CVE-ID</th>\n",
       "      <th>CVSS-V3</th>\n",
       "      <th>CVSS-V2</th>\n",
       "      <th>SEVERITY</th>\n",
       "      <th>DESCRIPTION</th>\n",
       "      <th>CWE-ID</th>\n",
       "    </tr>\n",
       "  </thead>\n",
       "  <tbody>\n",
       "    <tr>\n",
       "      <th>0</th>\n",
       "      <td>1</td>\n",
       "      <td>CVE-1999-0001</td>\n",
       "      <td>None</td>\n",
       "      <td>5</td>\n",
       "      <td>MEDIUM</td>\n",
       "      <td>ip_input.c in BSD-derived TCP/IP implementatio...</td>\n",
       "      <td>CWE-20</td>\n",
       "    </tr>\n",
       "    <tr>\n",
       "      <th>1</th>\n",
       "      <td>2</td>\n",
       "      <td>CVE-1999-0002</td>\n",
       "      <td>None</td>\n",
       "      <td>10</td>\n",
       "      <td>HIGH</td>\n",
       "      <td>Buffer overflow in NFS mountd gives root acces...</td>\n",
       "      <td>CWE-119</td>\n",
       "    </tr>\n",
       "    <tr>\n",
       "      <th>2</th>\n",
       "      <td>3</td>\n",
       "      <td>CVE-1999-0003</td>\n",
       "      <td>None</td>\n",
       "      <td>10</td>\n",
       "      <td>HIGH</td>\n",
       "      <td>Execute commands as root via buffer overflow i...</td>\n",
       "      <td>NVD-CWE-Other</td>\n",
       "    </tr>\n",
       "    <tr>\n",
       "      <th>3</th>\n",
       "      <td>4</td>\n",
       "      <td>CVE-1999-0004</td>\n",
       "      <td>None</td>\n",
       "      <td>5</td>\n",
       "      <td>MEDIUM</td>\n",
       "      <td>MIME buffer overflow in email clients, e.g. So...</td>\n",
       "      <td>NVD-CWE-Other</td>\n",
       "    </tr>\n",
       "    <tr>\n",
       "      <th>4</th>\n",
       "      <td>5</td>\n",
       "      <td>CVE-1999-0005</td>\n",
       "      <td>None</td>\n",
       "      <td>10</td>\n",
       "      <td>HIGH</td>\n",
       "      <td>Arbitrary command execution via IMAP buffer ov...</td>\n",
       "      <td>NVD-CWE-Other</td>\n",
       "    </tr>\n",
       "  </tbody>\n",
       "</table>\n",
       "</div>"
      ],
      "text/plain": [
       "   ID         CVE-ID CVSS-V3 CVSS-V2 SEVERITY  \\\n",
       "0   1  CVE-1999-0001    None       5   MEDIUM   \n",
       "1   2  CVE-1999-0002    None      10     HIGH   \n",
       "2   3  CVE-1999-0003    None      10     HIGH   \n",
       "3   4  CVE-1999-0004    None       5   MEDIUM   \n",
       "4   5  CVE-1999-0005    None      10     HIGH   \n",
       "\n",
       "                                         DESCRIPTION         CWE-ID  \n",
       "0  ip_input.c in BSD-derived TCP/IP implementatio...         CWE-20  \n",
       "1  Buffer overflow in NFS mountd gives root acces...        CWE-119  \n",
       "2  Execute commands as root via buffer overflow i...  NVD-CWE-Other  \n",
       "3  MIME buffer overflow in email clients, e.g. So...  NVD-CWE-Other  \n",
       "4  Arbitrary command execution via IMAP buffer ov...  NVD-CWE-Other  "
      ]
     },
     "execution_count": 136,
     "metadata": {},
     "output_type": "execute_result"
    }
   ],
   "source": [
    "data.head()"
   ]
  },
  {
   "cell_type": "code",
   "execution_count": 137,
   "id": "396d23bc-ab52-4a86-8a27-1da8b38c54b6",
   "metadata": {},
   "outputs": [
    {
     "name": "stdout",
     "output_type": "stream",
     "text": [
      "col ID :   is None : False\n",
      "col CVE-ID :   is None : False\n",
      "col CVSS-V3 :   is None : True\n",
      "col CVSS-V2 :   is None : True\n",
      "col SEVERITY :   is None : True\n",
      "col DESCRIPTION :   is None : False\n",
      "col CWE-ID :   is None : False\n"
     ]
    }
   ],
   "source": [
    "for col in data.columns: \n",
    "    val = 'None' in data[col].values\n",
    "    print(f'col {col} :   is None : {val}')"
   ]
  },
  {
   "cell_type": "code",
   "execution_count": 138,
   "id": "324e5e5a-24ad-4a77-9fac-5f4d02410899",
   "metadata": {},
   "outputs": [
    {
     "data": {
      "text/plain": [
       "(74007, 7)"
      ]
     },
     "execution_count": 138,
     "metadata": {},
     "output_type": "execute_result"
    }
   ],
   "source": [
    "data[data['CVSS-V3'] == 'None'].shape"
   ]
  },
  {
   "cell_type": "code",
   "execution_count": 139,
   "id": "71c3bda5-b9ce-4322-b177-f1fc4a978c47",
   "metadata": {},
   "outputs": [
    {
     "data": {
      "text/plain": [
       "(105, 7)"
      ]
     },
     "execution_count": 139,
     "metadata": {},
     "output_type": "execute_result"
    }
   ],
   "source": [
    "data[data['CVSS-V2'] == 'None'].shape"
   ]
  },
  {
   "cell_type": "code",
   "execution_count": 140,
   "id": "3b3f0c7a-b56c-484c-bfa9-587a7d79c2fc",
   "metadata": {},
   "outputs": [
    {
     "data": {
      "text/plain": [
       "(86, 7)"
      ]
     },
     "execution_count": 140,
     "metadata": {},
     "output_type": "execute_result"
    }
   ],
   "source": [
    "data[data['SEVERITY'] == 'None'].shape"
   ]
  },
  {
   "cell_type": "code",
   "execution_count": 141,
   "id": "63781b4e-7262-4685-a573-bff5e645148e",
   "metadata": {},
   "outputs": [
    {
     "data": {
      "text/plain": [
       "(169566, 7)"
      ]
     },
     "execution_count": 141,
     "metadata": {},
     "output_type": "execute_result"
    }
   ],
   "source": [
    "data.shape"
   ]
  },
  {
   "cell_type": "code",
   "execution_count": 142,
   "id": "13b4a8a2-5f4b-48ec-9285-1d2ca537124b",
   "metadata": {},
   "outputs": [
    {
     "data": {
      "text/html": [
       "<div>\n",
       "<style scoped>\n",
       "    .dataframe tbody tr th:only-of-type {\n",
       "        vertical-align: middle;\n",
       "    }\n",
       "\n",
       "    .dataframe tbody tr th {\n",
       "        vertical-align: top;\n",
       "    }\n",
       "\n",
       "    .dataframe thead th {\n",
       "        text-align: right;\n",
       "    }\n",
       "</style>\n",
       "<table border=\"1\" class=\"dataframe\">\n",
       "  <thead>\n",
       "    <tr style=\"text-align: right;\">\n",
       "      <th></th>\n",
       "      <th>ID</th>\n",
       "      <th>CVE-ID</th>\n",
       "      <th>CVSS-V3</th>\n",
       "      <th>CVSS-V2</th>\n",
       "      <th>SEVERITY</th>\n",
       "      <th>DESCRIPTION</th>\n",
       "      <th>CWE-ID</th>\n",
       "    </tr>\n",
       "  </thead>\n",
       "  <tbody>\n",
       "    <tr>\n",
       "      <th>195</th>\n",
       "      <td>196</td>\n",
       "      <td>CVE-1999-0199</td>\n",
       "      <td>9.8</td>\n",
       "      <td>7.5</td>\n",
       "      <td>CRITICAL</td>\n",
       "      <td>manual/search.texi in the GNU C Library (aka g...</td>\n",
       "      <td>CWE-252</td>\n",
       "    </tr>\n",
       "    <tr>\n",
       "      <th>232</th>\n",
       "      <td>233</td>\n",
       "      <td>CVE-1999-0236</td>\n",
       "      <td>7.5</td>\n",
       "      <td>5</td>\n",
       "      <td>HIGH</td>\n",
       "      <td>ScriptAlias directory in NCSA and Apache httpd...</td>\n",
       "      <td>CWE-200</td>\n",
       "    </tr>\n",
       "    <tr>\n",
       "      <th>1799</th>\n",
       "      <td>1800</td>\n",
       "      <td>CVE-2000-0258</td>\n",
       "      <td>7.5</td>\n",
       "      <td>5</td>\n",
       "      <td>HIGH</td>\n",
       "      <td>IIS 4.0 and 5.0 allows remote attackers to cau...</td>\n",
       "      <td>CWE-20</td>\n",
       "    </tr>\n",
       "    <tr>\n",
       "      <th>2779</th>\n",
       "      <td>2780</td>\n",
       "      <td>CVE-2000-1254</td>\n",
       "      <td>7.5</td>\n",
       "      <td>5</td>\n",
       "      <td>HIGH</td>\n",
       "      <td>crypto/rsa/rsa_gen.c in OpenSSL before 0.9.6 m...</td>\n",
       "      <td>CWE-310</td>\n",
       "    </tr>\n",
       "    <tr>\n",
       "      <th>6238</th>\n",
       "      <td>6239</td>\n",
       "      <td>CVE-2002-20001</td>\n",
       "      <td>7.5</td>\n",
       "      <td>5</td>\n",
       "      <td>HIGH</td>\n",
       "      <td>The Diffie-Hellman Key Agreement Protocol allo...</td>\n",
       "      <td>CWE-400</td>\n",
       "    </tr>\n",
       "  </tbody>\n",
       "</table>\n",
       "</div>"
      ],
      "text/plain": [
       "        ID          CVE-ID CVSS-V3 CVSS-V2  SEVERITY  \\\n",
       "195    196   CVE-1999-0199     9.8     7.5  CRITICAL   \n",
       "232    233   CVE-1999-0236     7.5       5      HIGH   \n",
       "1799  1800   CVE-2000-0258     7.5       5      HIGH   \n",
       "2779  2780   CVE-2000-1254     7.5       5      HIGH   \n",
       "6238  6239  CVE-2002-20001     7.5       5      HIGH   \n",
       "\n",
       "                                            DESCRIPTION   CWE-ID  \n",
       "195   manual/search.texi in the GNU C Library (aka g...  CWE-252  \n",
       "232   ScriptAlias directory in NCSA and Apache httpd...  CWE-200  \n",
       "1799  IIS 4.0 and 5.0 allows remote attackers to cau...   CWE-20  \n",
       "2779  crypto/rsa/rsa_gen.c in OpenSSL before 0.9.6 m...  CWE-310  \n",
       "6238  The Diffie-Hellman Key Agreement Protocol allo...  CWE-400  "
      ]
     },
     "execution_count": 142,
     "metadata": {},
     "output_type": "execute_result"
    }
   ],
   "source": [
    "data = data[data['CVSS-V3'] != 'None']\n",
    "\n",
    "data.head()"
   ]
  },
  {
   "cell_type": "code",
   "execution_count": 22,
   "id": "76203534-b87b-4d39-bbe0-dd15ca58403d",
   "metadata": {},
   "outputs": [],
   "source": [
    "# data"
   ]
  },
  {
   "cell_type": "code",
   "execution_count": 143,
   "id": "158d0f09-110e-4f30-affa-e5521a5dc947",
   "metadata": {},
   "outputs": [],
   "source": [
    "data  = data[data['CVSS-V2'] != 'None']\n",
    "data  = data[data['SEVERITY'] != 'None']"
   ]
  },
  {
   "cell_type": "code",
   "execution_count": 145,
   "id": "957149bf-a006-49f0-83c6-5d127721da52",
   "metadata": {},
   "outputs": [
    {
     "data": {
      "text/html": [
       "<div>\n",
       "<style scoped>\n",
       "    .dataframe tbody tr th:only-of-type {\n",
       "        vertical-align: middle;\n",
       "    }\n",
       "\n",
       "    .dataframe tbody tr th {\n",
       "        vertical-align: top;\n",
       "    }\n",
       "\n",
       "    .dataframe thead th {\n",
       "        text-align: right;\n",
       "    }\n",
       "</style>\n",
       "<table border=\"1\" class=\"dataframe\">\n",
       "  <thead>\n",
       "    <tr style=\"text-align: right;\">\n",
       "      <th></th>\n",
       "      <th>ID</th>\n",
       "      <th>CVE-ID</th>\n",
       "      <th>CVSS-V3</th>\n",
       "      <th>CVSS-V2</th>\n",
       "      <th>SEVERITY</th>\n",
       "      <th>DESCRIPTION</th>\n",
       "      <th>CWE-ID</th>\n",
       "    </tr>\n",
       "  </thead>\n",
       "  <tbody>\n",
       "    <tr>\n",
       "      <th>195</th>\n",
       "      <td>196</td>\n",
       "      <td>CVE-1999-0199</td>\n",
       "      <td>9.8</td>\n",
       "      <td>7.5</td>\n",
       "      <td>CRITICAL</td>\n",
       "      <td>manual/search.texi in the GNU C Library (aka g...</td>\n",
       "      <td>CWE-252</td>\n",
       "    </tr>\n",
       "    <tr>\n",
       "      <th>232</th>\n",
       "      <td>233</td>\n",
       "      <td>CVE-1999-0236</td>\n",
       "      <td>7.5</td>\n",
       "      <td>5</td>\n",
       "      <td>HIGH</td>\n",
       "      <td>ScriptAlias directory in NCSA and Apache httpd...</td>\n",
       "      <td>CWE-200</td>\n",
       "    </tr>\n",
       "    <tr>\n",
       "      <th>1799</th>\n",
       "      <td>1800</td>\n",
       "      <td>CVE-2000-0258</td>\n",
       "      <td>7.5</td>\n",
       "      <td>5</td>\n",
       "      <td>HIGH</td>\n",
       "      <td>IIS 4.0 and 5.0 allows remote attackers to cau...</td>\n",
       "      <td>CWE-20</td>\n",
       "    </tr>\n",
       "  </tbody>\n",
       "</table>\n",
       "</div>"
      ],
      "text/plain": [
       "        ID         CVE-ID CVSS-V3 CVSS-V2  SEVERITY  \\\n",
       "195    196  CVE-1999-0199     9.8     7.5  CRITICAL   \n",
       "232    233  CVE-1999-0236     7.5       5      HIGH   \n",
       "1799  1800  CVE-2000-0258     7.5       5      HIGH   \n",
       "\n",
       "                                            DESCRIPTION   CWE-ID  \n",
       "195   manual/search.texi in the GNU C Library (aka g...  CWE-252  \n",
       "232   ScriptAlias directory in NCSA and Apache httpd...  CWE-200  \n",
       "1799  IIS 4.0 and 5.0 allows remote attackers to cau...   CWE-20  "
      ]
     },
     "execution_count": 145,
     "metadata": {},
     "output_type": "execute_result"
    }
   ],
   "source": [
    "reduced_df = data\n",
    "reduced_df.head(3)"
   ]
  },
  {
   "cell_type": "code",
   "execution_count": 146,
   "id": "754b8bf2-4eb3-45cd-9afb-54e8f6371927",
   "metadata": {},
   "outputs": [
    {
     "name": "stdout",
     "output_type": "stream",
     "text": [
      "col ID :   is None : False\n",
      "col CVE-ID :   is None : False\n",
      "col CVSS-V3 :   is None : False\n",
      "col CVSS-V2 :   is None : False\n",
      "col SEVERITY :   is None : False\n",
      "col DESCRIPTION :   is None : False\n",
      "col CWE-ID :   is None : False\n"
     ]
    }
   ],
   "source": [
    "for col in reduced_df.columns: \n",
    "    val = 'None' in reduced_df[col].values\n",
    "    print(f'col {col} :   is None : {val}')"
   ]
  },
  {
   "cell_type": "code",
   "execution_count": 22,
   "id": "f8f6b198-91df-4574-8520-e205b5261881",
   "metadata": {},
   "outputs": [],
   "source": [
    "# need data balancing...."
   ]
  },
  {
   "cell_type": "code",
   "execution_count": 147,
   "id": "267a4fb3-d3c1-47ba-a6f2-2a9584902e8d",
   "metadata": {},
   "outputs": [
    {
     "data": {
      "text/plain": [
       "<Axes: >"
      ]
     },
     "execution_count": 147,
     "metadata": {},
     "output_type": "execute_result"
    },
    {
     "data": {
      "image/png": "[encoded data removed]",
      "text/plain": [
       "<Figure size 640x480 with 1 Axes>"
      ]
     },
     "metadata": {},
     "output_type": "display_data"
    }
   ],
   "source": [
    "reduced_df.SEVERITY.value_counts().plot(kind='bar', color=['r', 'b', 'g', 'brown'])"
   ]
  },
  {
   "cell_type": "code",
   "execution_count": 148,
   "id": "32075d63-297b-4a71-b7be-c63330a939ea",
   "metadata": {},
   "outputs": [
    {
     "data": {
      "text/plain": [
       "195       manual/search.texi in the GNU C Library (aka g...\n",
       "232       ScriptAlias directory in NCSA and Apache httpd...\n",
       "1799      IIS 4.0 and 5.0 allows remote attackers to cau...\n",
       "2779      crypto/rsa/rsa_gen.c in OpenSSL before 0.9.6 m...\n",
       "6238      The Diffie-Hellman Key Agreement Protocol allo...\n",
       "                                ...                        \n",
       "169561    lib/DatabaseLayer.py in cve-search before 4.1....\n",
       "169562    In MediaWiki through 1.37, blocked IP addresse...\n",
       "169563    In MediaWiki through 1.37, XSS can occur in Wi...\n",
       "169564    In MediaWiki through 1.37, Wikibase item descr...\n",
       "169565    In MediaWiki through 1.37, the Special:ImportF...\n",
       "Name: DESCRIPTION, Length: 95540, dtype: object"
      ]
     },
     "execution_count": 148,
     "metadata": {},
     "output_type": "execute_result"
    }
   ],
   "source": [
    "# extraction feature from desription...\n",
    "reduced_df.DESCRIPTION"
   ]
  },
  {
   "cell_type": "code",
   "execution_count": 149,
   "id": "bf03c0fd-3cfe-4202-b8da-d0d90f3ae2c4",
   "metadata": {},
   "outputs": [],
   "source": [
    "from nltk.tokenize import word_tokenize\n",
    "from nltk.corpus import stopwords\n",
    "import string"
   ]
  },
  {
   "cell_type": "code",
   "execution_count": 150,
   "id": "dcd804e4-135c-4c58-b849-f737b7f0b404",
   "metadata": {},
   "outputs": [
    {
     "name": "stdout",
     "output_type": "stream",
     "text": [
      "['i', 'me', 'my', 'myself', 'we', 'our', 'ours', 'ourselves', 'you', \"you're\", \"you've\", \"you'll\", \"you'd\", 'your', 'yours', 'yourself', 'yourselves', 'he', 'him', 'his', 'himself', 'she', \"she's\", 'her', 'hers', 'herself', 'it', \"it's\", 'its', 'itself', 'they', 'them', 'their', 'theirs', 'themselves', 'what', 'which', 'who', 'whom', 'this', 'that', \"that'll\", 'these', 'those', 'am', 'is', 'are', 'was', 'were', 'be', 'been', 'being', 'have', 'has', 'had', 'having', 'do', 'does', 'did', 'doing', 'a', 'an', 'the', 'and', 'but', 'if', 'or', 'because', 'as', 'until', 'while', 'of', 'at', 'by', 'for', 'with', 'about', 'against', 'between', 'into', 'through', 'during', 'before', 'after', 'above', 'below', 'to', 'from', 'up', 'down', 'in', 'out', 'on', 'off', 'over', 'under', 'again', 'further', 'then', 'once', 'here', 'there', 'when', 'where', 'why', 'how', 'all', 'any', 'both', 'each', 'few', 'more', 'most', 'other', 'some', 'such', 'no', 'nor', 'not', 'only', 'own', 'same', 'so', 'than', 'too', 'very', 's', 't', 'can', 'will', 'just', 'don', \"don't\", 'should', \"should've\", 'now', 'd', 'll', 'm', 'o', 're', 've', 'y', 'ain', 'aren', \"aren't\", 'couldn', \"couldn't\", 'didn', \"didn't\", 'doesn', \"doesn't\", 'hadn', \"hadn't\", 'hasn', \"hasn't\", 'haven', \"haven't\", 'isn', \"isn't\", 'ma', 'mightn', \"mightn't\", 'mustn', \"mustn't\", 'needn', \"needn't\", 'shan', \"shan't\", 'shouldn', \"shouldn't\", 'wasn', \"wasn't\", 'weren', \"weren't\", 'won', \"won't\", 'wouldn', \"wouldn't\"]\n"
     ]
    }
   ],
   "source": [
    "st = stopwords.words('english')\n",
    "print(st)"
   ]
  },
  {
   "cell_type": "code",
   "execution_count": 151,
   "id": "2f646c88-98c0-437b-b2b4-5c2225be8c55",
   "metadata": {},
   "outputs": [
    {
     "data": {
      "text/html": [
       "<div>\n",
       "<style scoped>\n",
       "    .dataframe tbody tr th:only-of-type {\n",
       "        vertical-align: middle;\n",
       "    }\n",
       "\n",
       "    .dataframe tbody tr th {\n",
       "        vertical-align: top;\n",
       "    }\n",
       "\n",
       "    .dataframe thead th {\n",
       "        text-align: right;\n",
       "    }\n",
       "</style>\n",
       "<table border=\"1\" class=\"dataframe\">\n",
       "  <thead>\n",
       "    <tr style=\"text-align: right;\">\n",
       "      <th></th>\n",
       "      <th>ID</th>\n",
       "      <th>CVE-ID</th>\n",
       "      <th>CVSS-V3</th>\n",
       "      <th>CVSS-V2</th>\n",
       "      <th>SEVERITY</th>\n",
       "      <th>DESCRIPTION</th>\n",
       "      <th>CWE-ID</th>\n",
       "    </tr>\n",
       "  </thead>\n",
       "  <tbody>\n",
       "    <tr>\n",
       "      <th>195</th>\n",
       "      <td>196</td>\n",
       "      <td>CVE-1999-0199</td>\n",
       "      <td>9.8</td>\n",
       "      <td>7.5</td>\n",
       "      <td>CRITICAL</td>\n",
       "      <td>manual/search.texi in the GNU C Library (aka g...</td>\n",
       "      <td>CWE-252</td>\n",
       "    </tr>\n",
       "    <tr>\n",
       "      <th>232</th>\n",
       "      <td>233</td>\n",
       "      <td>CVE-1999-0236</td>\n",
       "      <td>7.5</td>\n",
       "      <td>5</td>\n",
       "      <td>HIGH</td>\n",
       "      <td>ScriptAlias directory in NCSA and Apache httpd...</td>\n",
       "      <td>CWE-200</td>\n",
       "    </tr>\n",
       "    <tr>\n",
       "      <th>1799</th>\n",
       "      <td>1800</td>\n",
       "      <td>CVE-2000-0258</td>\n",
       "      <td>7.5</td>\n",
       "      <td>5</td>\n",
       "      <td>HIGH</td>\n",
       "      <td>IIS 4.0 and 5.0 allows remote attackers to cau...</td>\n",
       "      <td>CWE-20</td>\n",
       "    </tr>\n",
       "    <tr>\n",
       "      <th>2779</th>\n",
       "      <td>2780</td>\n",
       "      <td>CVE-2000-1254</td>\n",
       "      <td>7.5</td>\n",
       "      <td>5</td>\n",
       "      <td>HIGH</td>\n",
       "      <td>crypto/rsa/rsa_gen.c in OpenSSL before 0.9.6 m...</td>\n",
       "      <td>CWE-310</td>\n",
       "    </tr>\n",
       "    <tr>\n",
       "      <th>6238</th>\n",
       "      <td>6239</td>\n",
       "      <td>CVE-2002-20001</td>\n",
       "      <td>7.5</td>\n",
       "      <td>5</td>\n",
       "      <td>HIGH</td>\n",
       "      <td>The Diffie-Hellman Key Agreement Protocol allo...</td>\n",
       "      <td>CWE-400</td>\n",
       "    </tr>\n",
       "    <tr>\n",
       "      <th>...</th>\n",
       "      <td>...</td>\n",
       "      <td>...</td>\n",
       "      <td>...</td>\n",
       "      <td>...</td>\n",
       "      <td>...</td>\n",
       "      <td>...</td>\n",
       "      <td>...</td>\n",
       "    </tr>\n",
       "    <tr>\n",
       "      <th>169561</th>\n",
       "      <td>169562</td>\n",
       "      <td>CVE-2021-45470</td>\n",
       "      <td>7.5</td>\n",
       "      <td>5</td>\n",
       "      <td>HIGH</td>\n",
       "      <td>lib/DatabaseLayer.py in cve-search before 4.1....</td>\n",
       "      <td>NVD-CWE-Other</td>\n",
       "    </tr>\n",
       "    <tr>\n",
       "      <th>169562</th>\n",
       "      <td>169563</td>\n",
       "      <td>CVE-2021-45471</td>\n",
       "      <td>5.3</td>\n",
       "      <td>5</td>\n",
       "      <td>MEDIUM</td>\n",
       "      <td>In MediaWiki through 1.37, blocked IP addresse...</td>\n",
       "      <td>NVD-CWE-noinfo</td>\n",
       "    </tr>\n",
       "    <tr>\n",
       "      <th>169563</th>\n",
       "      <td>169564</td>\n",
       "      <td>CVE-2021-45472</td>\n",
       "      <td>6.1</td>\n",
       "      <td>4.3</td>\n",
       "      <td>MEDIUM</td>\n",
       "      <td>In MediaWiki through 1.37, XSS can occur in Wi...</td>\n",
       "      <td>CWE-79</td>\n",
       "    </tr>\n",
       "    <tr>\n",
       "      <th>169564</th>\n",
       "      <td>169565</td>\n",
       "      <td>CVE-2021-45473</td>\n",
       "      <td>6.1</td>\n",
       "      <td>4.3</td>\n",
       "      <td>MEDIUM</td>\n",
       "      <td>In MediaWiki through 1.37, Wikibase item descr...</td>\n",
       "      <td>CWE-79</td>\n",
       "    </tr>\n",
       "    <tr>\n",
       "      <th>169565</th>\n",
       "      <td>169566</td>\n",
       "      <td>CVE-2021-45474</td>\n",
       "      <td>6.1</td>\n",
       "      <td>4.3</td>\n",
       "      <td>MEDIUM</td>\n",
       "      <td>In MediaWiki through 1.37, the Special:ImportF...</td>\n",
       "      <td>CWE-79</td>\n",
       "    </tr>\n",
       "  </tbody>\n",
       "</table>\n",
       "<p>95540 rows × 7 columns</p>\n",
       "</div>"
      ],
      "text/plain": [
       "            ID          CVE-ID CVSS-V3 CVSS-V2  SEVERITY  \\\n",
       "195        196   CVE-1999-0199     9.8     7.5  CRITICAL   \n",
       "232        233   CVE-1999-0236     7.5       5      HIGH   \n",
       "1799      1800   CVE-2000-0258     7.5       5      HIGH   \n",
       "2779      2780   CVE-2000-1254     7.5       5      HIGH   \n",
       "6238      6239  CVE-2002-20001     7.5       5      HIGH   \n",
       "...        ...             ...     ...     ...       ...   \n",
       "169561  169562  CVE-2021-45470     7.5       5      HIGH   \n",
       "169562  169563  CVE-2021-45471     5.3       5    MEDIUM   \n",
       "169563  169564  CVE-2021-45472     6.1     4.3    MEDIUM   \n",
       "169564  169565  CVE-2021-45473     6.1     4.3    MEDIUM   \n",
       "169565  169566  CVE-2021-45474     6.1     4.3    MEDIUM   \n",
       "\n",
       "                                              DESCRIPTION          CWE-ID  \n",
       "195     manual/search.texi in the GNU C Library (aka g...         CWE-252  \n",
       "232     ScriptAlias directory in NCSA and Apache httpd...         CWE-200  \n",
       "1799    IIS 4.0 and 5.0 allows remote attackers to cau...          CWE-20  \n",
       "2779    crypto/rsa/rsa_gen.c in OpenSSL before 0.9.6 m...         CWE-310  \n",
       "6238    The Diffie-Hellman Key Agreement Protocol allo...         CWE-400  \n",
       "...                                                   ...             ...  \n",
       "169561  lib/DatabaseLayer.py in cve-search before 4.1....   NVD-CWE-Other  \n",
       "169562  In MediaWiki through 1.37, blocked IP addresse...  NVD-CWE-noinfo  \n",
       "169563  In MediaWiki through 1.37, XSS can occur in Wi...          CWE-79  \n",
       "169564  In MediaWiki through 1.37, Wikibase item descr...          CWE-79  \n",
       "169565  In MediaWiki through 1.37, the Special:ImportF...          CWE-79  \n",
       "\n",
       "[95540 rows x 7 columns]"
      ]
     },
     "execution_count": 151,
     "metadata": {},
     "output_type": "execute_result"
    }
   ],
   "source": [
    "reduced_df\n"
   ]
  },
  {
   "cell_type": "code",
   "execution_count": 152,
   "id": "6236ae41-718d-4fdb-8c3a-efde8b173da5",
   "metadata": {},
   "outputs": [
    {
     "data": {
      "text/html": [
       "<div>\n",
       "<style scoped>\n",
       "    .dataframe tbody tr th:only-of-type {\n",
       "        vertical-align: middle;\n",
       "    }\n",
       "\n",
       "    .dataframe tbody tr th {\n",
       "        vertical-align: top;\n",
       "    }\n",
       "\n",
       "    .dataframe thead th {\n",
       "        text-align: right;\n",
       "    }\n",
       "</style>\n",
       "<table border=\"1\" class=\"dataframe\">\n",
       "  <thead>\n",
       "    <tr style=\"text-align: right;\">\n",
       "      <th></th>\n",
       "      <th>ID</th>\n",
       "      <th>CVE-ID</th>\n",
       "      <th>CVSS-V3</th>\n",
       "      <th>CVSS-V2</th>\n",
       "      <th>SEVERITY</th>\n",
       "      <th>DESCRIPTION</th>\n",
       "      <th>CWE-ID</th>\n",
       "      <th>dec_leng</th>\n",
       "    </tr>\n",
       "  </thead>\n",
       "  <tbody>\n",
       "    <tr>\n",
       "      <th>195</th>\n",
       "      <td>196</td>\n",
       "      <td>CVE-1999-0199</td>\n",
       "      <td>9.8</td>\n",
       "      <td>7.5</td>\n",
       "      <td>CRITICAL</td>\n",
       "      <td>manual/search.texi in the GNU C Library (aka g...</td>\n",
       "      <td>CWE-252</td>\n",
       "      <td>47</td>\n",
       "    </tr>\n",
       "    <tr>\n",
       "      <th>232</th>\n",
       "      <td>233</td>\n",
       "      <td>CVE-1999-0236</td>\n",
       "      <td>7.5</td>\n",
       "      <td>5</td>\n",
       "      <td>HIGH</td>\n",
       "      <td>ScriptAlias directory in NCSA and Apache httpd...</td>\n",
       "      <td>CWE-200</td>\n",
       "      <td>13</td>\n",
       "    </tr>\n",
       "    <tr>\n",
       "      <th>1799</th>\n",
       "      <td>1800</td>\n",
       "      <td>CVE-2000-0258</td>\n",
       "      <td>7.5</td>\n",
       "      <td>5</td>\n",
       "      <td>HIGH</td>\n",
       "      <td>IIS 4.0 and 5.0 allows remote attackers to cau...</td>\n",
       "      <td>CWE-20</td>\n",
       "      <td>30</td>\n",
       "    </tr>\n",
       "  </tbody>\n",
       "</table>\n",
       "</div>"
      ],
      "text/plain": [
       "        ID         CVE-ID CVSS-V3 CVSS-V2  SEVERITY  \\\n",
       "195    196  CVE-1999-0199     9.8     7.5  CRITICAL   \n",
       "232    233  CVE-1999-0236     7.5       5      HIGH   \n",
       "1799  1800  CVE-2000-0258     7.5       5      HIGH   \n",
       "\n",
       "                                            DESCRIPTION   CWE-ID  dec_leng  \n",
       "195   manual/search.texi in the GNU C Library (aka g...  CWE-252        47  \n",
       "232   ScriptAlias directory in NCSA and Apache httpd...  CWE-200        13  \n",
       "1799  IIS 4.0 and 5.0 allows remote attackers to cau...   CWE-20        30  "
      ]
     },
     "execution_count": 152,
     "metadata": {},
     "output_type": "execute_result"
    }
   ],
   "source": [
    "def get_dec_lenght(data): \n",
    "    return len(data.split(' '))\n",
    "\n",
    "reduced_df['dec_leng'] = reduced_df['DESCRIPTION'].apply(lambda x:get_dec_lenght(x))\n",
    "reduced_df.head(3)"
   ]
  },
  {
   "cell_type": "code",
   "execution_count": 153,
   "id": "4052915c-da28-4305-9939-833dec76e651",
   "metadata": {},
   "outputs": [
    {
     "data": {
      "text/plain": [
       "4224583"
      ]
     },
     "execution_count": 153,
     "metadata": {},
     "output_type": "execute_result"
    }
   ],
   "source": [
    "reduced_df.dec_leng.sum()"
   ]
  },
  {
   "cell_type": "code",
   "execution_count": null,
   "id": "eff935e5-22ec-4db4-aa6b-ce7cade16bfa",
   "metadata": {},
   "outputs": [],
   "source": []
  },
  {
   "cell_type": "code",
   "execution_count": 156,
   "id": "95c48ec2-a7b9-47db-8f28-f7efd76e7340",
   "metadata": {},
   "outputs": [],
   "source": [
    "# data cleaning \n",
    "sample = reduced_df['DESCRIPTION'][:5]"
   ]
  },
  {
   "cell_type": "code",
   "execution_count": 157,
   "id": "7b05f76e-dd7d-429a-8792-f4591190eb6a",
   "metadata": {},
   "outputs": [
    {
     "data": {
      "text/plain": [
       "[\"manual/search.texi in the GNU C Library (aka glibc) before 2.2 lacks a statement about the unspecified tdelete return value upon deletion of a tree's root, which might allow attackers to access a dangling pointer in an application whose developer was unaware of a documentation update from 1999.\",\n",
       " 'ScriptAlias directory in NCSA and Apache httpd allowed attackers to read CGI programs.',\n",
       " 'IIS 4.0 and 5.0 allows remote attackers to cause a denial of service by sending many URLs with a large number of escaped characters, aka the \"Myriad Escaped Characters\" Vulnerability.',\n",
       " 'crypto/rsa/rsa_gen.c in OpenSSL before 0.9.6 mishandles C bitwise-shift operations that exceed the size of an expression, which makes it easier for remote attackers to defeat cryptographic protection mechanisms by leveraging improper RSA key generation on 64-bit HP-UX platforms.',\n",
       " 'The Diffie-Hellman Key Agreement Protocol allows remote attackers (from the client side) to send arbitrary numbers that are actually not public keys, and trigger expensive server-side DHE modular-exponentiation calculations, aka a D(HE)ater attack. The client needs very little CPU resources and network bandwidth. The attack may be more disruptive in cases where a client can require a server to select its largest supported key size. The basic attack scenario is that the client must claim that it can only communicate with DHE, and the server must be configured to allow DHE.']"
      ]
     },
     "execution_count": 157,
     "metadata": {},
     "output_type": "execute_result"
    }
   ],
   "source": [
    "sample = list(sample.values)\n",
    "sample"
   ]
  },
  {
   "cell_type": "code",
   "execution_count": 158,
   "id": "b5b35cb3-661a-4758-b8bd-dbe4bfd7262f",
   "metadata": {
    "scrolled": true
   },
   "outputs": [
    {
     "data": {
      "text/plain": [
       "'!\"#$%&\\'()*+,-./:;<=>?@[\\\\]^_`{|}~'"
      ]
     },
     "execution_count": 158,
     "metadata": {},
     "output_type": "execute_result"
    }
   ],
   "source": [
    "string.punctuation"
   ]
  },
  {
   "cell_type": "code",
   "execution_count": 159,
   "id": "120fe290-bd4d-4740-a24d-8b1f5110f3c1",
   "metadata": {},
   "outputs": [],
   "source": [
    "from nltk.corpus import stopwords\n",
    "from nltk.stem import PorterStemmer\n",
    "\n",
    "pt  = PorterStemmer()\n",
    "st  = stopwords.words('english')"
   ]
  },
  {
   "cell_type": "code",
   "execution_count": 160,
   "id": "213a1995-fed3-4564-bc24-1035877bae05",
   "metadata": {},
   "outputs": [
    {
     "name": "stdout",
     "output_type": "stream",
     "text": [
      "IIS 40 and 50 allows remote attackers to cause a denial of service by sending many URLs with a large number of escaped characters aka the Myriad Escaped Characters Vulnerability\n"
     ]
    }
   ],
   "source": [
    "def clean_text(data): \n",
    "    # removing punctuation mark\n",
    "    doc = ''.join([d.replace('/', ' ').replace('-', ' ') for d in data])\n",
    "    doc = ''.join([d for d in doc if d not in string.punctuation])\n",
    "    # removing stopwords\n",
    "    # doc = ' '.join([pt.stem(d) for d in doc.split(' ') if d not in st])    \n",
    "    return doc\n",
    "\n",
    "print(clean_text(sample[2]))"
   ]
  },
  {
   "cell_type": "code",
   "execution_count": 161,
   "id": "0732ba2c-4763-45af-b79e-eac3f1b08ea4",
   "metadata": {},
   "outputs": [
    {
     "data": {
      "text/html": [
       "<div>\n",
       "<style scoped>\n",
       "    .dataframe tbody tr th:only-of-type {\n",
       "        vertical-align: middle;\n",
       "    }\n",
       "\n",
       "    .dataframe tbody tr th {\n",
       "        vertical-align: top;\n",
       "    }\n",
       "\n",
       "    .dataframe thead th {\n",
       "        text-align: right;\n",
       "    }\n",
       "</style>\n",
       "<table border=\"1\" class=\"dataframe\">\n",
       "  <thead>\n",
       "    <tr style=\"text-align: right;\">\n",
       "      <th></th>\n",
       "      <th>ID</th>\n",
       "      <th>CVE-ID</th>\n",
       "      <th>CVSS-V3</th>\n",
       "      <th>CVSS-V2</th>\n",
       "      <th>SEVERITY</th>\n",
       "      <th>DESCRIPTION</th>\n",
       "      <th>CWE-ID</th>\n",
       "      <th>dec_leng</th>\n",
       "      <th>clean_desc</th>\n",
       "    </tr>\n",
       "  </thead>\n",
       "  <tbody>\n",
       "    <tr>\n",
       "      <th>195</th>\n",
       "      <td>196</td>\n",
       "      <td>CVE-1999-0199</td>\n",
       "      <td>9.8</td>\n",
       "      <td>7.5</td>\n",
       "      <td>CRITICAL</td>\n",
       "      <td>manual/search.texi in the GNU C Library (aka g...</td>\n",
       "      <td>CWE-252</td>\n",
       "      <td>47</td>\n",
       "      <td>manual searchtexi in the GNU C Library aka gli...</td>\n",
       "    </tr>\n",
       "    <tr>\n",
       "      <th>232</th>\n",
       "      <td>233</td>\n",
       "      <td>CVE-1999-0236</td>\n",
       "      <td>7.5</td>\n",
       "      <td>5</td>\n",
       "      <td>HIGH</td>\n",
       "      <td>ScriptAlias directory in NCSA and Apache httpd...</td>\n",
       "      <td>CWE-200</td>\n",
       "      <td>13</td>\n",
       "      <td>ScriptAlias directory in NCSA and Apache httpd...</td>\n",
       "    </tr>\n",
       "    <tr>\n",
       "      <th>1799</th>\n",
       "      <td>1800</td>\n",
       "      <td>CVE-2000-0258</td>\n",
       "      <td>7.5</td>\n",
       "      <td>5</td>\n",
       "      <td>HIGH</td>\n",
       "      <td>IIS 4.0 and 5.0 allows remote attackers to cau...</td>\n",
       "      <td>CWE-20</td>\n",
       "      <td>30</td>\n",
       "      <td>IIS 40 and 50 allows remote attackers to cause...</td>\n",
       "    </tr>\n",
       "    <tr>\n",
       "      <th>2779</th>\n",
       "      <td>2780</td>\n",
       "      <td>CVE-2000-1254</td>\n",
       "      <td>7.5</td>\n",
       "      <td>5</td>\n",
       "      <td>HIGH</td>\n",
       "      <td>crypto/rsa/rsa_gen.c in OpenSSL before 0.9.6 m...</td>\n",
       "      <td>CWE-310</td>\n",
       "      <td>38</td>\n",
       "      <td>crypto rsa rsagenc in OpenSSL before 096 misha...</td>\n",
       "    </tr>\n",
       "    <tr>\n",
       "      <th>6238</th>\n",
       "      <td>6239</td>\n",
       "      <td>CVE-2002-20001</td>\n",
       "      <td>7.5</td>\n",
       "      <td>5</td>\n",
       "      <td>HIGH</td>\n",
       "      <td>The Diffie-Hellman Key Agreement Protocol allo...</td>\n",
       "      <td>CWE-400</td>\n",
       "      <td>91</td>\n",
       "      <td>The Diffie Hellman Key Agreement Protocol allo...</td>\n",
       "    </tr>\n",
       "  </tbody>\n",
       "</table>\n",
       "</div>"
      ],
      "text/plain": [
       "        ID          CVE-ID CVSS-V3 CVSS-V2  SEVERITY  \\\n",
       "195    196   CVE-1999-0199     9.8     7.5  CRITICAL   \n",
       "232    233   CVE-1999-0236     7.5       5      HIGH   \n",
       "1799  1800   CVE-2000-0258     7.5       5      HIGH   \n",
       "2779  2780   CVE-2000-1254     7.5       5      HIGH   \n",
       "6238  6239  CVE-2002-20001     7.5       5      HIGH   \n",
       "\n",
       "                                            DESCRIPTION   CWE-ID  dec_leng  \\\n",
       "195   manual/search.texi in the GNU C Library (aka g...  CWE-252        47   \n",
       "232   ScriptAlias directory in NCSA and Apache httpd...  CWE-200        13   \n",
       "1799  IIS 4.0 and 5.0 allows remote attackers to cau...   CWE-20        30   \n",
       "2779  crypto/rsa/rsa_gen.c in OpenSSL before 0.9.6 m...  CWE-310        38   \n",
       "6238  The Diffie-Hellman Key Agreement Protocol allo...  CWE-400        91   \n",
       "\n",
       "                                             clean_desc  \n",
       "195   manual searchtexi in the GNU C Library aka gli...  \n",
       "232   ScriptAlias directory in NCSA and Apache httpd...  \n",
       "1799  IIS 40 and 50 allows remote attackers to cause...  \n",
       "2779  crypto rsa rsagenc in OpenSSL before 096 misha...  \n",
       "6238  The Diffie Hellman Key Agreement Protocol allo...  "
      ]
     },
     "execution_count": 161,
     "metadata": {},
     "output_type": "execute_result"
    }
   ],
   "source": [
    "# apply on main document\n",
    "reduced_df['clean_desc'] = reduced_df['DESCRIPTION'].apply(lambda x: clean_text(x))\n",
    "reduced_df.head()"
   ]
  },
  {
   "cell_type": "code",
   "execution_count": 163,
   "id": "6e846ff5-c46d-4e7d-b2e2-d7a569b8aaab",
   "metadata": {
    "scrolled": true
   },
   "outputs": [
    {
     "data": {
      "text/html": [
       "<div>\n",
       "<style scoped>\n",
       "    .dataframe tbody tr th:only-of-type {\n",
       "        vertical-align: middle;\n",
       "    }\n",
       "\n",
       "    .dataframe tbody tr th {\n",
       "        vertical-align: top;\n",
       "    }\n",
       "\n",
       "    .dataframe thead th {\n",
       "        text-align: right;\n",
       "    }\n",
       "</style>\n",
       "<table border=\"1\" class=\"dataframe\">\n",
       "  <thead>\n",
       "    <tr style=\"text-align: right;\">\n",
       "      <th></th>\n",
       "      <th>ID</th>\n",
       "      <th>CVE-ID</th>\n",
       "      <th>CVSS-V3</th>\n",
       "      <th>CVSS-V2</th>\n",
       "      <th>SEVERITY</th>\n",
       "      <th>DESCRIPTION</th>\n",
       "      <th>CWE-ID</th>\n",
       "      <th>dec_leng</th>\n",
       "      <th>clean_desc</th>\n",
       "    </tr>\n",
       "  </thead>\n",
       "  <tbody>\n",
       "    <tr>\n",
       "      <th>195</th>\n",
       "      <td>196</td>\n",
       "      <td>CVE-1999-0199</td>\n",
       "      <td>9.8</td>\n",
       "      <td>7.5</td>\n",
       "      <td>CRITICAL</td>\n",
       "      <td>manual/search.texi in the GNU C Library (aka g...</td>\n",
       "      <td>CWE-252</td>\n",
       "      <td>48</td>\n",
       "      <td>manual searchtexi in the GNU C Library aka gli...</td>\n",
       "    </tr>\n",
       "    <tr>\n",
       "      <th>232</th>\n",
       "      <td>233</td>\n",
       "      <td>CVE-1999-0236</td>\n",
       "      <td>7.5</td>\n",
       "      <td>5</td>\n",
       "      <td>HIGH</td>\n",
       "      <td>ScriptAlias directory in NCSA and Apache httpd...</td>\n",
       "      <td>CWE-200</td>\n",
       "      <td>13</td>\n",
       "      <td>ScriptAlias directory in NCSA and Apache httpd...</td>\n",
       "    </tr>\n",
       "    <tr>\n",
       "      <th>1799</th>\n",
       "      <td>1800</td>\n",
       "      <td>CVE-2000-0258</td>\n",
       "      <td>7.5</td>\n",
       "      <td>5</td>\n",
       "      <td>HIGH</td>\n",
       "      <td>IIS 4.0 and 5.0 allows remote attackers to cau...</td>\n",
       "      <td>CWE-20</td>\n",
       "      <td>30</td>\n",
       "      <td>IIS 40 and 50 allows remote attackers to cause...</td>\n",
       "    </tr>\n",
       "  </tbody>\n",
       "</table>\n",
       "</div>"
      ],
      "text/plain": [
       "        ID         CVE-ID CVSS-V3 CVSS-V2  SEVERITY  \\\n",
       "195    196  CVE-1999-0199     9.8     7.5  CRITICAL   \n",
       "232    233  CVE-1999-0236     7.5       5      HIGH   \n",
       "1799  1800  CVE-2000-0258     7.5       5      HIGH   \n",
       "\n",
       "                                            DESCRIPTION   CWE-ID  dec_leng  \\\n",
       "195   manual/search.texi in the GNU C Library (aka g...  CWE-252        48   \n",
       "232   ScriptAlias directory in NCSA and Apache httpd...  CWE-200        13   \n",
       "1799  IIS 4.0 and 5.0 allows remote attackers to cau...   CWE-20        30   \n",
       "\n",
       "                                             clean_desc  \n",
       "195   manual searchtexi in the GNU C Library aka gli...  \n",
       "232   ScriptAlias directory in NCSA and Apache httpd...  \n",
       "1799  IIS 40 and 50 allows remote attackers to cause...  "
      ]
     },
     "execution_count": 163,
     "metadata": {},
     "output_type": "execute_result"
    }
   ],
   "source": [
    "def get_dec_lenght(data): \n",
    "    return len(data.split(' '))\n",
    "\n",
    "reduced_df['dec_leng'] = reduced_df['clean_desc'].apply(lambda x:get_dec_lenght(x))\n",
    "reduced_df.head(3)"
   ]
  },
  {
   "cell_type": "code",
   "execution_count": 171,
   "id": "1d6a4189-e3a9-469c-9671-a16a4d37cba9",
   "metadata": {},
   "outputs": [
    {
     "data": {
      "text/plain": [
       "46.640810131881935"
      ]
     },
     "execution_count": 171,
     "metadata": {},
     "output_type": "execute_result"
    }
   ],
   "source": [
    "reduced_df.dec_leng.mean()"
   ]
  },
  {
   "cell_type": "code",
   "execution_count": 165,
   "id": "c3f16c98-d37a-4c54-a5d8-68c44bfd32e8",
   "metadata": {},
   "outputs": [
    {
     "data": {
      "text/html": [
       "<div>\n",
       "<style scoped>\n",
       "    .dataframe tbody tr th:only-of-type {\n",
       "        vertical-align: middle;\n",
       "    }\n",
       "\n",
       "    .dataframe tbody tr th {\n",
       "        vertical-align: top;\n",
       "    }\n",
       "\n",
       "    .dataframe thead th {\n",
       "        text-align: right;\n",
       "    }\n",
       "</style>\n",
       "<table border=\"1\" class=\"dataframe\">\n",
       "  <thead>\n",
       "    <tr style=\"text-align: right;\">\n",
       "      <th></th>\n",
       "      <th>CVE-ID</th>\n",
       "      <th>CVSS-V3</th>\n",
       "      <th>CVSS-V2</th>\n",
       "      <th>SEVERITY</th>\n",
       "      <th>CWE-ID</th>\n",
       "      <th>dec_leng</th>\n",
       "      <th>clean_desc</th>\n",
       "    </tr>\n",
       "  </thead>\n",
       "  <tbody>\n",
       "    <tr>\n",
       "      <th>195</th>\n",
       "      <td>CVE-1999-0199</td>\n",
       "      <td>9.8</td>\n",
       "      <td>7.5</td>\n",
       "      <td>CRITICAL</td>\n",
       "      <td>CWE-252</td>\n",
       "      <td>48</td>\n",
       "      <td>manual searchtexi in the GNU C Library aka gli...</td>\n",
       "    </tr>\n",
       "    <tr>\n",
       "      <th>232</th>\n",
       "      <td>CVE-1999-0236</td>\n",
       "      <td>7.5</td>\n",
       "      <td>5</td>\n",
       "      <td>HIGH</td>\n",
       "      <td>CWE-200</td>\n",
       "      <td>13</td>\n",
       "      <td>ScriptAlias directory in NCSA and Apache httpd...</td>\n",
       "    </tr>\n",
       "    <tr>\n",
       "      <th>1799</th>\n",
       "      <td>CVE-2000-0258</td>\n",
       "      <td>7.5</td>\n",
       "      <td>5</td>\n",
       "      <td>HIGH</td>\n",
       "      <td>CWE-20</td>\n",
       "      <td>30</td>\n",
       "      <td>IIS 40 and 50 allows remote attackers to cause...</td>\n",
       "    </tr>\n",
       "  </tbody>\n",
       "</table>\n",
       "</div>"
      ],
      "text/plain": [
       "             CVE-ID CVSS-V3 CVSS-V2  SEVERITY   CWE-ID  dec_leng  \\\n",
       "195   CVE-1999-0199     9.8     7.5  CRITICAL  CWE-252        48   \n",
       "232   CVE-1999-0236     7.5       5      HIGH  CWE-200        13   \n",
       "1799  CVE-2000-0258     7.5       5      HIGH   CWE-20        30   \n",
       "\n",
       "                                             clean_desc  \n",
       "195   manual searchtexi in the GNU C Library aka gli...  \n",
       "232   ScriptAlias directory in NCSA and Apache httpd...  \n",
       "1799  IIS 40 and 50 allows remote attackers to cause...  "
      ]
     },
     "execution_count": 165,
     "metadata": {},
     "output_type": "execute_result"
    }
   ],
   "source": [
    "# dropping unused columns \n",
    "reduced_df = reduced_df.drop(columns=['ID', 'DESCRIPTION'])\n",
    "reduced_df.head(3)"
   ]
  },
  {
   "cell_type": "code",
   "execution_count": 167,
   "id": "df61cf12-7571-4deb-8dc6-bf4f14f944aa",
   "metadata": {},
   "outputs": [
    {
     "data": {
      "text/plain": [
       "(95540, 7)"
      ]
     },
     "execution_count": 167,
     "metadata": {},
     "output_type": "execute_result"
    }
   ],
   "source": [
    "reduced_df.shape"
   ]
  },
  {
   "cell_type": "code",
   "execution_count": 168,
   "id": "80a2a12d-96fa-44ec-989a-2d2e920b299a",
   "metadata": {},
   "outputs": [],
   "source": [
    "# feature extraction with tensorflow \n",
    "import tensorflow as tf\n",
    "from tensorflow.keras.preprocessing.text import Tokenizer\n",
    "from tensorflow.keras.preprocessing.sequence import pad_sequences"
   ]
  },
  {
   "cell_type": "code",
   "execution_count": 169,
   "id": "96c4aeed-4cc5-4669-b9a2-adf53d94541b",
   "metadata": {},
   "outputs": [],
   "source": [
    "tokenizer = Tokenizer(num_words=1000000, oov_token=\"<OOV>\")  # OOV for out-of-vocabulary words"
   ]
  },
  {
   "cell_type": "code",
   "execution_count": 170,
   "id": "352eaf37-149f-4e57-841f-21080f184c66",
   "metadata": {},
   "outputs": [],
   "source": [
    "tokenizer.fit_on_texts(reduced_df.clean_desc)"
   ]
  },
  {
   "cell_type": "code",
   "execution_count": 172,
   "id": "5ed3a098-ef1b-4640-bd55-9dc3ded86727",
   "metadata": {},
   "outputs": [
    {
     "name": "stdout",
     "output_type": "stream",
     "text": [
      "Sequences: [[2775, 50164, 4, 2, 919, 790, 310, 92, 3148, 11, 989, 1178, 5, 1863, 658, 2, 131, 50165, 996, 240, 1241, 760, 6, 5, 9375, 226, 50, 434, 38, 32, 3, 29, 5, 6730, 277, 4, 8, 78, 3617, 1455, 37, 22617, 6, 5, 2513, 174, 47, 26896], [50166, 193, 4, 50167, 7, 422, 2504, 264, 32, 3, 79, 1103, 1748], [5332, 1033, 7, 734, 14, 16, 32, 3, 44, 5, 48, 6, 33, 23, 249, 1365, 962, 20, 5, 592, 485, 6, 2358, 802, 92, 2, 50168, 2358, 802, 9], [2031, 1068, 50169, 4, 1423, 11, 7497, 628, 790, 16289, 4681, 387, 27, 6447, 2, 495, 6, 8, 1116, 50, 715, 77, 968, 19, 16, 32, 3, 3839, 1071, 367, 1693, 23, 517, 167, 1068, 337, 929, 28, 1347, 1097, 1749, 9759, 1264], [2, 7498, 7499, 337, 13056, 376, 14, 16, 32, 47, 2, 228, 523, 3, 327, 30, 1983, 27, 41, 2870, 45, 785, 648, 7, 258, 13965, 35, 523, 10602, 3455, 13057, 3992, 92, 5, 50170, 139, 2, 228, 1081, 1554, 4320, 690, 526, 7, 97, 7920, 2, 139, 65, 46, 521, 26897, 4, 1197, 272, 5, 228, 25, 344, 5, 35, 3, 2596, 347, 22618, 159, 337, 495, 2, 1497, 139, 2117, 10, 27, 2, 228, 304, 5514, 27, 77, 25, 252, 4117, 20, 10602, 7, 2, 35, 304, 46, 423, 3, 38, 10602], [513, 3768, 21, 46, 9376, 23, 249, 5, 6205, 368, 20, 115, 4854, 1265, 583, 11110, 1622, 341, 50, 37, 45, 1166, 8168, 23, 2, 181, 513, 261, 168, 50171], [267, 89, 4, 2, 470, 1759, 4, 9377, 11, 3206, 14, 32, 3, 96, 131, 169], [19943, 11, 764, 63, 5, 98, 6601, 4, 2318, 2325], [2, 50172, 81, 4, 536, 1569, 5725, 50173, 4, 2, 181, 124, 11, 1590, 14, 16, 32, 3, 44, 5, 48, 6, 33, 332, 277, 370, 7, 5726, 23, 249, 368, 3, 8, 132, 27, 63, 5, 7317, 320, 308, 5, 231, 31, 3, 17, 534, 50174], [2325, 1014, 11, 26898, 1335, 574, 735, 194, 3, 2, 16, 35], [2, 128, 536, 1382, 143, 1132, 19, 2894, 14, 16, 32, 3, 145, 143, 19, 7709, 101, 4, 742, 1028, 15, 5, 100, 673, 5, 292, 6059, 22, 288, 12324, 1922, 6059, 92, 247, 125, 9], [88, 76, 95, 74, 9, 4, 2, 1016, 779, 4, 50175, 6907, 14, 16, 86, 64, 20, 4855, 87, 3, 198, 30, 58, 195, 22, 146, 15, 5, 2281, 286, 50176, 245, 137, 636, 41, 1837, 264, 3, 567, 146, 23, 115, 2006, 583, 62, 9378, 1713, 372, 12, 31, 291, 45, 3769, 172, 206, 87, 7, 473, 291, 45, 46, 2282, 5, 9], [50177, 4, 50178, 656, 14, 16, 32, 3, 54, 30, 177, 15, 450, 1260, 4, 2, 292, 662, 467, 22, 288, 50179, 103], [33662, 4, 9379, 65, 505, 193, 7, 39, 312, 1562, 28, 2, 572, 6, 503, 1635, 50, 14, 71, 64, 3, 79, 22, 180, 3, 742, 1028, 22, 54, 742, 177, 15, 5840, 3, 2, 34, 1028, 22, 1034, 2, 34, 177], [50180, 4, 50181, 4, 26899, 62, 14990, 10603, 33663, 1671, 1922, 4, 4321, 712, 20, 8, 16290, 485, 6, 1047, 1441, 8, 8712, 626, 4472, 60, 1372, 8, 4950, 216, 10, 2391, 217, 3, 48, 6, 33, 190], [1378, 26900, 487, 43, 130, 4, 2210, 7, 115, 409, 425, 27, 41, 366, 28, 1169, 50182, 7, 115, 2812, 14, 71, 64, 3, 110, 5, 80, 1995, 3, 395, 11686, 3037, 1310, 2, 57, 6, 115, 3397, 7, 162, 123, 52, 300, 43, 1071, 648, 15, 5, 1720, 139, 28, 60, 763, 16291], [33664, 676, 63, 193, 302], [88, 76, 95, 74, 9, 4, 50183, 33665, 14, 16, 32, 3, 198, 30, 58, 195, 22, 146, 26, 4, 2, 58, 24, 132], [8169, 11, 9035, 437, 392, 14, 8, 13, 3, 44, 5, 48, 6, 33, 15, 5, 201, 6, 256, 3, 8169, 1124, 101], [1117, 579, 216, 4, 5841, 101, 37, 268, 4, 12325, 14991, 11, 2283, 4856, 506], [50184, 50185, 382, 8, 2567, 1118, 6, 1266, 50186, 50, 25, 105, 4, 186, 98, 653], [19944, 14, 30, 450, 153, 57, 15, 2, 823, 81], [2, 50187, 81, 4, 2, 919, 790, 310, 3148, 11, 56, 4268, 61, 4118, 20, 5, 853, 793, 1780, 3, 2, 660, 277, 679, 137, 2, 706, 806, 495, 10, 853, 217, 3, 5, 85, 89, 7, 141, 322, 32, 3, 1576, 60], [119, 10, 5, 155, 4530, 1257, 4, 3279, 1035, 11, 1185, 7, 2776, 2211, 11, 1781, 15, 278, 24, 790, 704, 2, 24, 232, 25, 46, 2358, 3, 2, 2557, 232, 23, 129, 2, 9380, 819, 3, 2707, 802, 244, 2, 118, 85, 3, 46, 79, 23, 2, 1373, 151], [926, 631, 3311, 9760, 18, 1714, 7, 53, 96, 8, 156, 113, 9, 27, 14, 16, 32, 3, 198, 30, 156, 1794], [4951, 292, 10, 45, 6908, 19945, 50, 715, 77, 968, 19, 187, 1795, 32, 3, 400, 861, 73, 43, 398, 23, 73, 28, 2, 110, 6, 4951, 292, 4, 684, 509, 245, 12, 17, 82, 3, 936, 5, 893, 2406, 19, 5842, 12, 4951, 292, 31, 2, 1181, 6, 8, 2406, 10, 45, 23, 1684, 5, 487, 3732], [26901, 5015, 7, 3248, 13966, 61, 129, 22619, 6731, 7, 2460, 2, 611, 33666, 12, 14, 108, 64, 29, 3, 2, 160, 232], [26901, 5015, 14, 613, 33667, 145, 61, 50188, 669, 3, 2, 438, 543, 640, 43, 5, 470, 50189, 1882], [128, 50190, 92, 50191, 120, 45, 220, 623, 61, 2, 50192, 4682, 10, 45, 130, 61, 5842, 3014, 747, 4, 2894, 50, 14, 16, 32, 3, 44, 5, 48, 6, 33, 535, 621, 22, 122, 23, 2660, 2743, 1570, 6, 1029, 1566, 27, 3398, 3, 3014, 747, 22, 41, 742, 1566, 1158, 448, 2, 2894, 78, 247], [50193, 2013, 1278, 47, 85, 89], [2, 26902, 903, 4, 2, 181, 124, 11, 50194, 14, 71, 64, 3, 44, 5, 48, 6, 33, 261, 621, 7, 59, 122, 15, 5, 36, 78, 27, 5515, 2, 1900, 6, 429, 1672, 261, 282, 50195, 601], [181, 50196, 1619, 11, 26903, 1278, 47, 106, 236, 4, 50197, 26], [50198, 5843, 382, 1124, 101, 3181, 217, 3, 5, 155, 579, 216], [2, 50199, 81, 4, 2445, 5516, 124, 50200, 4, 2, 181, 124, 11, 22620, 28, 1347, 1097, 425, 628, 2, 807, 272, 50201, 10, 1970, 7, 2, 690, 2870, 2963, 26904, 386, 2, 26904, 674, 37, 45, 3694, 23, 2, 124, 50, 14, 71, 64, 3, 44, 5, 48, 6, 33, 1721, 23, 1441, 57, 6, 8, 26904, 2642], [88, 76, 95, 74, 9, 4, 916, 4, 50202, 2514, 7, 53, 14, 16, 32, 3, 198, 30, 58, 195, 22, 146, 15, 2, 4952, 103], [11687, 16292, 120, 45, 2505, 5, 1017, 2309, 3, 8, 19946, 61, 50203, 143, 10, 130], [2, 19947, 809, 4, 2, 919, 790, 310, 3148, 11, 56, 1519, 120, 45, 3182, 1807, 228, 3420, 137, 449, 1094, 46, 1248, 23, 2, 809, 322, 71, 64, 3, 3770, 114, 5, 48, 6, 33, 139, 28, 2, 809], [22621, 1926, 63, 85, 1825], [119, 10, 5, 155, 184, 89, 4, 14992, 50204, 11, 26905], [50205, 26906, 50206, 707, 11, 12326, 14, 16, 32, 3, 162, 141, 123, 52, 15, 744, 26907, 2871, 459, 27, 405, 4321, 720, 802, 50, 2964, 5, 602, 565, 27, 10, 45, 4785, 23, 5, 4857, 50, 25, 44, 7088, 6, 5, 35, 338, 3, 46, 577, 3, 2, 13], [4, 181, 1619, 11, 19948, 2, 33668, 81, 4, 33669, 685, 5, 790, 81, 254, 5333, 27, 2, 5517, 41, 341, 220, 2, 1502, 1350, 1081, 3, 46, 6909, 11, 2, 414, 4, 33668, 7, 11, 2129, 9036, 1018, 27, 306, 914, 1656, 254, 12, 306, 130, 4, 2, 1882, 560, 33669, 7, 2, 590, 6, 50207, 272, 1350, 10, 663, 291, 122], [50208, 3312, 63, 538, 289, 6, 1124, 101], [33670, 11, 1996, 63, 276, 639, 441, 1487], [2, 181, 124, 11, 50209, 2461, 63, 5, 579, 216, 77, 37, 155, 3, 145, 33670, 2446, 23, 4683, 2, 26908, 151, 20, 50210, 10604, 50, 25, 25, 10129, 408, 5, 26908, 151], [5, 1287, 1726, 89, 4, 50211, 4, 3695, 22622, 1442, 14, 16, 32, 3, 96, 131, 178], [16, 26, 57, 4, 2, 50212, 195, 5518, 4, 1266, 263, 11, 604], [22623, 1411, 14, 167, 29, 188, 3, 101, 4, 5, 975, 61, 129, 2, 7318, 215, 769], [5, 212, 4, 33671, 507, 489, 26, 434, 38, 58, 1050, 3, 731, 226, 1017, 28, 127, 254, 24, 6060], [1350, 915, 10605, 4, 2, 14993, 903, 4, 2, 181, 124, 11, 19948, 120, 45, 220, 853, 114, 2, 14993, 6602, 50, 14, 71, 64, 3, 44, 5, 48, 6, 33, 5726, 43, 398, 23, 5, 166, 50213, 1451], [3960, 5844, 1278, 47, 5, 4025, 877, 1176, 61, 129, 50214], [35, 523, 100, 377, 899, 9, 4, 3313, 14994, 4, 33672, 1406], [33673, 33674, 20, 1926, 1563, 656, 7, 284, 515, 840, 170, 14, 16, 32, 3, 145, 143, 7, 400, 1339, 4953, 73, 28, 1293, 127, 15, 5, 50215, 597], [33673, 33674, 20, 1926, 1563, 656, 7, 284, 515, 1948, 170, 14, 16, 32, 3, 145, 143, 7, 400, 1339, 4953, 73, 28, 1293, 127, 15, 5, 50216, 597], [629, 553, 630, 19949, 50217, 4, 2, 181, 124, 11, 19950, 120, 45, 2793, 50218, 42, 2847, 50, 14, 71, 64, 3, 258, 8, 313, 2462, 240, 7, 19949, 381, 15, 131, 191, 5, 295, 9, 134, 17, 1159, 50219], [4, 2, 181, 124, 11, 12327, 119, 10, 8, 1555, 23, 294, 285, 4, 536, 33675, 50220, 272, 77, 10, 155, 3, 89, 2, 50221, 1671, 806], [7089, 22624, 990, 33676, 11, 50222, 628, 3038, 564, 50, 14, 5, 24, 406, 37, 1488, 736, 4, 3, 29, 526, 23, 11111, 5, 938, 22, 2777, 2290, 4, 5, 58, 340], [2, 699, 376, 43, 2212, 4, 292, 1735, 720, 7, 494, 11, 4366, 1819, 16293, 1819, 7, 3918, 1819, 288, 128, 699, 4, 51, 2077, 5016, 6061, 499, 7, 1470, 7, 35, 4858, 378, 7, 499, 7, 115, 2359, 38, 16, 32, 3, 776, 699, 413, 15, 5, 13967, 139, 27, 382, 4, 33677, 17779, 3, 400, 763, 3057, 445, 3079, 22625, 231, 3, 276, 10130, 6, 699, 1853, 571, 7, 379, 2014, 92, 699, 276, 1585, 4420, 9, 22, 2, 50223, 285], [4421, 3314, 700, 15, 6603, 153, 4684, 8427, 77, 4, 79, 180, 397, 2, 24, 21, 145, 2, 6603, 772, 7, 208, 180, 29, 3, 101, 2930, 291, 2993, 96, 1586], [2, 181, 124, 11, 50224, 120, 45, 220, 259, 4530, 387, 50, 14, 71, 64, 3, 44, 5, 48, 6, 33, 59, 122, 22, 284, 208, 87, 15, 191, 881, 332, 277, 370, 6, 81, 2848, 4, 292, 26909, 33678, 288, 26909, 50225, 518, 12328, 50226, 50227, 580, 50228, 620, 50229, 850, 26910, 392, 1236, 50230, 7, 720, 654, 50231, 4, 629, 536], [2, 50232, 81, 4, 1350, 14995, 4, 2, 181, 124, 11, 14996, 120, 45, 835, 27, 2, 3840, 63, 2, 13968, 1132, 50, 14, 71, 64, 3, 208, 87, 22, 44, 5, 48, 6, 33, 23, 1186, 2, 1636, 6, 5, 19951], [2, 292, 50233, 7, 288, 50234, 587, 4, 1350, 17780, 4, 2, 12329, 324, 4, 2, 181, 124, 11, 50235, 568, 45, 907, 635, 6, 5, 3421, 22626, 19, 5, 2199, 92, 50236, 193, 50, 14, 71, 64, 3, 44, 5, 48, 6, 33, 89, 6, 2, 22627, 50237, 1997, 15, 5, 201, 6, 3039, 39, 26911, 179, 2199, 1028], [50238, 1635, 62, 604, 1337, 609, 43, 2110, 4, 1222, 1340, 176, 181, 620, 41, 1383, 20, 8, 538, 13969, 341, 4, 2, 2236, 417, 6, 186, 2474, 4, 2708, 1113, 2237, 583, 50239, 50240, 14997, 50241, 2110, 4, 2, 412, 5, 71, 13, 25, 67, 12, 9, 23, 326, 30, 26, 43, 610, 24], [77, 37, 268, 27, 1227, 3733, 3961, 3801, 1036, 684, 35, 1017, 27, 130, 1024, 648, 43, 5, 105, 6, 2, 2849, 2475, 1312, 485, 2213, 17, 604, 33679, 4, 2345, 20, 2, 699, 763, 3057, 31, 17, 604, 16294, 7, 2, 2813, 27, 7090, 72, 615, 684, 2359, 568, 45, 16295, 26912, 2392, 8, 33680, 31, 12, 2006, 27, 77, 10, 9037, 3, 1750, 28, 239, 3801], [156, 113, 9, 4, 50242, 4, 33681, 1020, 14, 16, 32, 3, 54, 30, 156, 177, 15, 2, 26913, 103], [4, 13970, 2214, 11, 710, 378, 64, 25, 162, 108, 98, 52, 658, 563, 526, 1512, 23, 2420, 28], [33682, 11, 1320, 623, 2814, 5427, 7, 4531, 810, 3181, 23, 1462, 743, 1000, 810, 7, 2, 64, 5427, 3, 1170, 50, 65, 105, 4, 2, 148, 6, 490, 789, 22, 5, 50243, 563, 337], [5, 1418, 31, 82, 4, 50244, 33682, 11, 1320, 84, 3, 538, 26914, 289], [50245, 11, 50246, 2964, 1124, 101, 4, 8, 538, 359], [2, 33683, 81, 4, 19943, 14, 16, 32, 3, 54, 30, 177, 245, 12, 31, 82, 50247, 3, 8, 959, 539, 19, 17, 604, 33684], [26915, 11, 9761, 14, 32, 3, 44, 5, 48, 6, 33, 122, 15, 5, 744, 7921], [363, 2709, 3618, 7, 53, 14, 16, 32, 3, 54, 30, 177], [3696, 50248, 4, 2, 181, 124, 11, 50249, 14, 71, 64, 3, 44, 5, 48, 6, 33, 842, 626, 15, 5, 26916, 59, 414, 27, 1084, 8, 19952, 6, 853, 396, 1452, 23, 5, 135, 1130, 19, 8, 19952, 6, 11112, 396], [2, 50250, 465, 62, 7091, 19, 3058, 120, 45, 220, 923, 1108, 583, 429, 5622, 673, 450, 1260, 11, 110, 6, 16296, 4, 50251, 322, 19, 450, 153, 113, 7, 30, 153, 57, 137, 410, 118, 10, 130], [843, 2758, 50252, 62, 2251, 14, 1883, 2007, 32, 3, 79, 1526, 569, 23, 129, 2, 50253, 2709, 275, 8, 6206, 1536, 137, 2, 7319, 10, 8170, 245, 12, 10, 843, 23, 5, 107, 2252, 154, 2, 1040, 10131, 5, 1520, 7710], [2, 50254, 142, 11, 5623, 19, 218, 63, 74], [8713, 3249, 11113, 7, 515, 18, 14, 71, 64, 3, 698, 30, 101, 15, 5, 1418, 139, 15, 2, 2708, 1113, 8713, 2437, 7, 2708, 1113, 8713, 50255, 506], [85, 89, 4, 234, 242, 918, 7, 53, 7, 271, 918, 7, 53, 14, 16, 32, 3, 54, 30, 26, 15, 5, 36, 512, 510, 231, 3, 5, 491, 233, 81, 414, 7, 284, 8, 507, 11114, 301, 1147, 43, 352, 4, 2, 3697, 4, 3548, 6062, 23, 50256], [422, 2078, 924, 62, 33685, 3207, 62, 16297, 7, 1161, 62, 19953, 3583, 58, 274, 3, 1949, 8, 321, 637, 130, 19, 115, 58, 274, 50, 14, 71, 64, 3, 79, 22, 444, 2, 292, 16298, 288, 50257, 22, 518, 33686, 101, 6, 30, 58, 274, 15, 5, 36, 78, 27, 10, 1401, 53, 134, 2, 362, 78], [186, 267, 1348, 4, 2, 292, 33687, 7, 288, 33688, 587, 4, 39, 11, 714], [186, 85, 1348, 4, 2, 292, 33688, 288, 50258, 7, 518, 50259, 81, 4, 39, 11, 714], [890, 50260, 35, 33, 11, 3619, 1563, 2447, 63, 5, 50261, 16, 26, 57, 9, 2, 212, 82, 179, 2, 50262, 1547, 81, 1038, 15, 2, 33689, 151, 272, 2, 9, 10, 599, 23, 8, 325, 61, 2, 33689, 354, 5, 183, 36, 299, 577, 23, 8, 102, 13], [422, 13971, 11, 656, 14, 32, 3, 776, 1471, 4, 383, 101, 15, 191, 231, 3, 325, 1078, 6, 648, 47, 50263], [88, 76, 95, 74, 9, 4, 422, 13971, 11, 656, 14, 16, 32, 3, 198, 30, 58, 195, 22, 146, 15, 2, 33690, 103, 3, 50264], [8, 31, 37, 75, 4, 4026, 11, 13972, 77, 50265, 5, 251, 597, 467, 20, 1570, 24, 12, 467, 10, 45, 663, 1241, 3038, 1315, 2, 24, 232, 10, 933, 2282, 424, 7, 985, 322, 8, 13, 406, 11688, 6448, 29, 3, 5, 64, 597, 3, 389, 43, 661], [456, 722, 11, 1251, 14, 16, 32, 3, 776, 2, 24, 132, 15, 5, 58, 135, 27, 3658, 575, 4, 5, 36, 187, 217, 3, 1394, 110, 6, 27, 575, 179, 5, 722, 2709], [2, 50266, 81, 4, 1350, 50267, 4, 2, 13973, 903, 4, 2, 181, 124, 11, 50268, 7922, 14, 71, 64, 3, 44, 5, 48, 6, 33, 332, 277, 370, 7, 59, 122, 22, 284, 96, 131, 115, 178, 23, 1034, 5, 1095, 13973, 550, 50, 1084, 8, 29, 6, 8, 896, 22628, 277], [4026, 2263, 11, 1235, 3181, 354, 2291, 7, 2339, 1051, 30, 3369, 1644, 1760, 21, 93, 3, 88, 573, 95, 22, 115, 340, 73], [186, 579, 826, 4, 1350, 22629, 4, 2, 181, 124, 11, 11689, 7922, 38, 71, 64, 3, 44, 5, 48, 6, 33, 332, 277, 370, 7, 59, 122, 22, 208, 87, 23, 2872, 3, 196, 8, 2346, 4070, 15, 5, 3314, 9762, 1727], [4, 11690, 1984, 17781, 1143, 77, 37, 268, 27, 2, 615, 489, 37, 45, 2568, 61, 129, 2, 228, 523, 1222, 1340, 176, 1228, 161, 132, 5, 51, 6910, 711, 19954, 33691, 340, 78, 3, 574, 3, 2, 1222, 1340, 176, 1228, 161, 8, 13, 28, 2, 71, 97, 21, 110, 12, 212, 3, 400, 5, 600, 4, 2, 590, 139, 2815, 2, 24, 244, 13058, 449, 41, 2326, 2, 1222, 1340, 176, 1228, 161, 61, 2, 246, 10, 2870, 13, 606, 22, 1186, 564, 5, 24, 1567, 1222, 1340, 176, 1228, 161, 3, 259], [50269, 1472, 14, 64, 701, 30, 101, 1241, 2, 71, 59], [536, 1568, 19955, 4, 2, 181, 124, 50270, 7, 53, 14, 71, 64, 3, 44, 5, 48, 6, 33, 59, 561, 23, 1015, 8, 16299, 2407, 17782, 3104, 1585, 862, 5, 3549, 729, 28, 12, 1585, 7, 372, 862, 5, 201, 6, 574, 387, 3, 12, 1585], [186, 193, 302, 7, 85, 89, 197, 514, 75, 4, 6732, 7, 4, 50271, 10606, 637, 27, 10, 4532, 47, 6732, 5, 36, 457, 21, 44, 239, 274, 3, 180, 42, 4, 30, 1443, 28, 2, 700, 122, 22, 141, 54, 30, 26, 61, 2215, 2291], [2490, 14, 685, 28, 9038, 483], [976, 17783, 11, 3620, 63, 186, 88, 76, 95, 74, 653], [6732, 63, 193, 302], [85, 89, 4, 2, 50272, 81, 4, 2445, 1351, 2506, 22630, 4, 2, 2506, 903, 4, 2, 181, 124, 11, 11689, 11691, 14, 71, 64, 3, 44, 5, 48, 6, 33, 60, 144, 22, 284, 208, 87, 15, 5, 50273, 819, 100, 27, 4119, 5, 592, 485, 6, 631, 219, 1176, 33692, 33693], [50274, 1188, 17784, 11, 17785, 1278, 47, 5, 579, 216, 272, 8, 13, 21, 141, 455, 5, 3962, 29, 43, 50275, 24, 28, 2, 10607, 7, 372, 29, 5, 141, 2994, 8, 1232, 2228, 33694, 595], [85, 89, 4, 2, 50276, 81, 4, 2, 16300, 181, 871, 255, 19, 2, 181, 124, 11, 50277, 14, 1883, 2007, 32, 3, 54, 30, 26, 44, 5, 48, 6, 33, 15, 5, 36, 871, 83, 22, 1066, 693, 188, 6, 2, 59], [2, 595, 4, 422, 13971, 952, 120, 45, 220, 639, 655, 5948, 50, 14, 16, 86, 64, 3, 776, 383, 1471, 15, 2, 50278, 103], [17786, 1901, 63, 156, 113]]\n"
     ]
    }
   ],
   "source": [
    "# word_index = tokenizer.word_index\n",
    "# print(\"Word Index:\", word_index)\n",
    "sequences = tokenizer.texts_to_sequences(reduced_df.clean_desc)\n",
    "print(\"Sequences:\", sequences[:100])"
   ]
  },
  {
   "cell_type": "code",
   "execution_count": 66,
   "id": "be43ef6f-2e3b-4d48-8c96-210545eccd22",
   "metadata": {},
   "outputs": [
    {
     "name": "stdout",
     "output_type": "stream",
     "text": [
      "Padded Sequences: [[ 3148    11   989 ...   174    47 26896]\n",
      " [50166   193     4 ...     0     0     0]\n",
      " [ 5332  1033     7 ...     0     0     0]\n",
      " ...\n",
      " [    4  1799    62 ...     0     0     0]\n",
      " [    4  1799    62 ...     0     0     0]\n",
      " [    4  1799    62 ...     0     0     0]]\n"
     ]
    }
   ],
   "source": [
    "padded_sequences = pad_sequences(sequences, padding='post', maxlen=40)  # Use 'pre' for pre-padding\n",
    "print(\"Padded Sequences:\", padded_sequences)"
   ]
  },
  {
   "cell_type": "code",
   "execution_count": 173,
   "id": "7d293c2c-0197-4ad1-a947-9dcb114cb826",
   "metadata": {},
   "outputs": [
    {
     "data": {
      "text/plain": [
       "(95540, 40)"
      ]
     },
     "execution_count": 173,
     "metadata": {},
     "output_type": "execute_result"
    }
   ],
   "source": [
    "padded_sequences.shape"
   ]
  },
  {
   "cell_type": "code",
   "execution_count": 203,
   "id": "26d3e1a6-7211-44bd-bab3-b6dc03a4bcaa",
   "metadata": {},
   "outputs": [
    {
     "data": {
      "text/html": [
       "<div>\n",
       "<style scoped>\n",
       "    .dataframe tbody tr th:only-of-type {\n",
       "        vertical-align: middle;\n",
       "    }\n",
       "\n",
       "    .dataframe tbody tr th {\n",
       "        vertical-align: top;\n",
       "    }\n",
       "\n",
       "    .dataframe thead th {\n",
       "        text-align: right;\n",
       "    }\n",
       "</style>\n",
       "<table border=\"1\" class=\"dataframe\">\n",
       "  <thead>\n",
       "    <tr style=\"text-align: right;\">\n",
       "      <th></th>\n",
       "      <th>f1</th>\n",
       "      <th>f2</th>\n",
       "      <th>f3</th>\n",
       "      <th>f4</th>\n",
       "      <th>f5</th>\n",
       "      <th>f6</th>\n",
       "      <th>f7</th>\n",
       "      <th>f8</th>\n",
       "      <th>f9</th>\n",
       "      <th>f10</th>\n",
       "      <th>...</th>\n",
       "      <th>f31</th>\n",
       "      <th>f32</th>\n",
       "      <th>f33</th>\n",
       "      <th>f34</th>\n",
       "      <th>f35</th>\n",
       "      <th>f36</th>\n",
       "      <th>f37</th>\n",
       "      <th>f38</th>\n",
       "      <th>f39</th>\n",
       "      <th>f40</th>\n",
       "    </tr>\n",
       "  </thead>\n",
       "  <tbody>\n",
       "    <tr>\n",
       "      <th>0</th>\n",
       "      <td>3148</td>\n",
       "      <td>11</td>\n",
       "      <td>989</td>\n",
       "      <td>1178</td>\n",
       "      <td>5</td>\n",
       "      <td>1863</td>\n",
       "      <td>658</td>\n",
       "      <td>2</td>\n",
       "      <td>131</td>\n",
       "      <td>50165</td>\n",
       "      <td>...</td>\n",
       "      <td>3617</td>\n",
       "      <td>1455</td>\n",
       "      <td>37</td>\n",
       "      <td>22617</td>\n",
       "      <td>6</td>\n",
       "      <td>5</td>\n",
       "      <td>2513</td>\n",
       "      <td>174</td>\n",
       "      <td>47</td>\n",
       "      <td>26896</td>\n",
       "    </tr>\n",
       "    <tr>\n",
       "      <th>1</th>\n",
       "      <td>50166</td>\n",
       "      <td>193</td>\n",
       "      <td>4</td>\n",
       "      <td>50167</td>\n",
       "      <td>7</td>\n",
       "      <td>422</td>\n",
       "      <td>2504</td>\n",
       "      <td>264</td>\n",
       "      <td>32</td>\n",
       "      <td>3</td>\n",
       "      <td>...</td>\n",
       "      <td>0</td>\n",
       "      <td>0</td>\n",
       "      <td>0</td>\n",
       "      <td>0</td>\n",
       "      <td>0</td>\n",
       "      <td>0</td>\n",
       "      <td>0</td>\n",
       "      <td>0</td>\n",
       "      <td>0</td>\n",
       "      <td>0</td>\n",
       "    </tr>\n",
       "    <tr>\n",
       "      <th>2</th>\n",
       "      <td>5332</td>\n",
       "      <td>1033</td>\n",
       "      <td>7</td>\n",
       "      <td>734</td>\n",
       "      <td>14</td>\n",
       "      <td>16</td>\n",
       "      <td>32</td>\n",
       "      <td>3</td>\n",
       "      <td>44</td>\n",
       "      <td>5</td>\n",
       "      <td>...</td>\n",
       "      <td>0</td>\n",
       "      <td>0</td>\n",
       "      <td>0</td>\n",
       "      <td>0</td>\n",
       "      <td>0</td>\n",
       "      <td>0</td>\n",
       "      <td>0</td>\n",
       "      <td>0</td>\n",
       "      <td>0</td>\n",
       "      <td>0</td>\n",
       "    </tr>\n",
       "    <tr>\n",
       "      <th>3</th>\n",
       "      <td>4</td>\n",
       "      <td>1423</td>\n",
       "      <td>11</td>\n",
       "      <td>7497</td>\n",
       "      <td>628</td>\n",
       "      <td>790</td>\n",
       "      <td>16289</td>\n",
       "      <td>4681</td>\n",
       "      <td>387</td>\n",
       "      <td>27</td>\n",
       "      <td>...</td>\n",
       "      <td>167</td>\n",
       "      <td>1068</td>\n",
       "      <td>337</td>\n",
       "      <td>929</td>\n",
       "      <td>28</td>\n",
       "      <td>1347</td>\n",
       "      <td>1097</td>\n",
       "      <td>1749</td>\n",
       "      <td>9759</td>\n",
       "      <td>1264</td>\n",
       "    </tr>\n",
       "    <tr>\n",
       "      <th>4</th>\n",
       "      <td>272</td>\n",
       "      <td>5</td>\n",
       "      <td>228</td>\n",
       "      <td>25</td>\n",
       "      <td>344</td>\n",
       "      <td>5</td>\n",
       "      <td>35</td>\n",
       "      <td>3</td>\n",
       "      <td>2596</td>\n",
       "      <td>347</td>\n",
       "      <td>...</td>\n",
       "      <td>10602</td>\n",
       "      <td>7</td>\n",
       "      <td>2</td>\n",
       "      <td>35</td>\n",
       "      <td>304</td>\n",
       "      <td>46</td>\n",
       "      <td>423</td>\n",
       "      <td>3</td>\n",
       "      <td>38</td>\n",
       "      <td>10602</td>\n",
       "    </tr>\n",
       "  </tbody>\n",
       "</table>\n",
       "<p>5 rows × 40 columns</p>\n",
       "</div>"
      ],
      "text/plain": [
       "      f1    f2   f3     f4   f5    f6     f7    f8    f9    f10  ...    f31  \\\n",
       "0   3148    11  989   1178    5  1863    658     2   131  50165  ...   3617   \n",
       "1  50166   193    4  50167    7   422   2504   264    32      3  ...      0   \n",
       "2   5332  1033    7    734   14    16     32     3    44      5  ...      0   \n",
       "3      4  1423   11   7497  628   790  16289  4681   387     27  ...    167   \n",
       "4    272     5  228     25  344     5     35     3  2596    347  ...  10602   \n",
       "\n",
       "    f32  f33    f34  f35   f36   f37   f38   f39    f40  \n",
       "0  1455   37  22617    6     5  2513   174    47  26896  \n",
       "1     0    0      0    0     0     0     0     0      0  \n",
       "2     0    0      0    0     0     0     0     0      0  \n",
       "3  1068  337    929   28  1347  1097  1749  9759   1264  \n",
       "4     7    2     35  304    46   423     3    38  10602  \n",
       "\n",
       "[5 rows x 40 columns]"
      ]
     },
     "execution_count": 203,
     "metadata": {},
     "output_type": "execute_result"
    }
   ],
   "source": [
    "f_list = [f\"f{i}\" for i in range(1, padded_sequences.shape[1] + 1)]\n",
    "generated_feature_df = pd.DataFrame(padded_sequences, columns=f_list)\n",
    "generated_feature_df.head()"
   ]
  },
  {
   "cell_type": "code",
   "execution_count": 231,
   "id": "f825a29f-3ce4-4e5c-931f-495c096df339",
   "metadata": {},
   "outputs": [
    {
     "name": "stdout",
     "output_type": "stream",
     "text": [
      "confirmed\n"
     ]
    }
   ],
   "source": [
    "reduced_df.to_csv('rdf.csv', index=False)\n",
    "generated_feature_df.to_csv('gfdf.csv', index=False)\n",
    "print('confirmed')"
   ]
  },
  {
   "cell_type": "code",
   "execution_count": 235,
   "id": "be7b1568-c575-4449-866c-1d9000cb1326",
   "metadata": {},
   "outputs": [
    {
     "name": "stdout",
     "output_type": "stream",
     "text": [
      "(95540, 7)\n",
      "(95540, 40)\n"
     ]
    }
   ],
   "source": [
    "# \n",
    "df1 = pd.read_csv('rdf.csv')\n",
    "df2 = pd.read_csv('gfdf.csv')\n",
    "\n",
    "print(df1.shape)\n",
    "print(df2.shape)"
   ]
  },
  {
   "cell_type": "code",
   "execution_count": 239,
   "id": "0ca1e466-444e-4a0b-b4be-c5b463022cc9",
   "metadata": {},
   "outputs": [
    {
     "data": {
      "text/plain": [
       "(95540, 47)"
      ]
     },
     "execution_count": 239,
     "metadata": {},
     "output_type": "execute_result"
    }
   ],
   "source": [
    "merged_df = pd.concat([df1, df2], axis=1)\n",
    "merged_df.shape"
   ]
  },
  {
   "cell_type": "code",
   "execution_count": 240,
   "id": "318adb2f-9118-4dc0-95c2-8df3b1c24517",
   "metadata": {},
   "outputs": [
    {
     "data": {
      "text/html": [
       "<div>\n",
       "<style scoped>\n",
       "    .dataframe tbody tr th:only-of-type {\n",
       "        vertical-align: middle;\n",
       "    }\n",
       "\n",
       "    .dataframe tbody tr th {\n",
       "        vertical-align: top;\n",
       "    }\n",
       "\n",
       "    .dataframe thead th {\n",
       "        text-align: right;\n",
       "    }\n",
       "</style>\n",
       "<table border=\"1\" class=\"dataframe\">\n",
       "  <thead>\n",
       "    <tr style=\"text-align: right;\">\n",
       "      <th></th>\n",
       "      <th>CVE-ID</th>\n",
       "      <th>CVSS-V3</th>\n",
       "      <th>CVSS-V2</th>\n",
       "      <th>SEVERITY</th>\n",
       "      <th>CWE-ID</th>\n",
       "      <th>dec_leng</th>\n",
       "      <th>clean_desc</th>\n",
       "      <th>f1</th>\n",
       "      <th>f2</th>\n",
       "      <th>f3</th>\n",
       "      <th>...</th>\n",
       "      <th>f31</th>\n",
       "      <th>f32</th>\n",
       "      <th>f33</th>\n",
       "      <th>f34</th>\n",
       "      <th>f35</th>\n",
       "      <th>f36</th>\n",
       "      <th>f37</th>\n",
       "      <th>f38</th>\n",
       "      <th>f39</th>\n",
       "      <th>f40</th>\n",
       "    </tr>\n",
       "  </thead>\n",
       "  <tbody>\n",
       "    <tr>\n",
       "      <th>0</th>\n",
       "      <td>CVE-1999-0199</td>\n",
       "      <td>9.8</td>\n",
       "      <td>7.5</td>\n",
       "      <td>CRITICAL</td>\n",
       "      <td>CWE-252</td>\n",
       "      <td>48</td>\n",
       "      <td>manual searchtexi in the GNU C Library aka gli...</td>\n",
       "      <td>3148</td>\n",
       "      <td>11</td>\n",
       "      <td>989</td>\n",
       "      <td>...</td>\n",
       "      <td>3617</td>\n",
       "      <td>1455</td>\n",
       "      <td>37</td>\n",
       "      <td>22617</td>\n",
       "      <td>6</td>\n",
       "      <td>5</td>\n",
       "      <td>2513</td>\n",
       "      <td>174</td>\n",
       "      <td>47</td>\n",
       "      <td>26896</td>\n",
       "    </tr>\n",
       "    <tr>\n",
       "      <th>1</th>\n",
       "      <td>CVE-1999-0236</td>\n",
       "      <td>7.5</td>\n",
       "      <td>5.0</td>\n",
       "      <td>HIGH</td>\n",
       "      <td>CWE-200</td>\n",
       "      <td>13</td>\n",
       "      <td>ScriptAlias directory in NCSA and Apache httpd...</td>\n",
       "      <td>50166</td>\n",
       "      <td>193</td>\n",
       "      <td>4</td>\n",
       "      <td>...</td>\n",
       "      <td>0</td>\n",
       "      <td>0</td>\n",
       "      <td>0</td>\n",
       "      <td>0</td>\n",
       "      <td>0</td>\n",
       "      <td>0</td>\n",
       "      <td>0</td>\n",
       "      <td>0</td>\n",
       "      <td>0</td>\n",
       "      <td>0</td>\n",
       "    </tr>\n",
       "    <tr>\n",
       "      <th>2</th>\n",
       "      <td>CVE-2000-0258</td>\n",
       "      <td>7.5</td>\n",
       "      <td>5.0</td>\n",
       "      <td>HIGH</td>\n",
       "      <td>CWE-20</td>\n",
       "      <td>30</td>\n",
       "      <td>IIS 40 and 50 allows remote attackers to cause...</td>\n",
       "      <td>5332</td>\n",
       "      <td>1033</td>\n",
       "      <td>7</td>\n",
       "      <td>...</td>\n",
       "      <td>0</td>\n",
       "      <td>0</td>\n",
       "      <td>0</td>\n",
       "      <td>0</td>\n",
       "      <td>0</td>\n",
       "      <td>0</td>\n",
       "      <td>0</td>\n",
       "      <td>0</td>\n",
       "      <td>0</td>\n",
       "      <td>0</td>\n",
       "    </tr>\n",
       "  </tbody>\n",
       "</table>\n",
       "<p>3 rows × 47 columns</p>\n",
       "</div>"
      ],
      "text/plain": [
       "          CVE-ID  CVSS-V3  CVSS-V2  SEVERITY   CWE-ID  dec_leng  \\\n",
       "0  CVE-1999-0199      9.8      7.5  CRITICAL  CWE-252        48   \n",
       "1  CVE-1999-0236      7.5      5.0      HIGH  CWE-200        13   \n",
       "2  CVE-2000-0258      7.5      5.0      HIGH   CWE-20        30   \n",
       "\n",
       "                                          clean_desc     f1    f2   f3  ...  \\\n",
       "0  manual searchtexi in the GNU C Library aka gli...   3148    11  989  ...   \n",
       "1  ScriptAlias directory in NCSA and Apache httpd...  50166   193    4  ...   \n",
       "2  IIS 40 and 50 allows remote attackers to cause...   5332  1033    7  ...   \n",
       "\n",
       "    f31   f32  f33    f34  f35  f36   f37  f38  f39    f40  \n",
       "0  3617  1455   37  22617    6    5  2513  174   47  26896  \n",
       "1     0     0    0      0    0    0     0    0    0      0  \n",
       "2     0     0    0      0    0    0     0    0    0      0  \n",
       "\n",
       "[3 rows x 47 columns]"
      ]
     },
     "execution_count": 240,
     "metadata": {},
     "output_type": "execute_result"
    }
   ],
   "source": [
    "merged_df.head(3)"
   ]
  },
  {
   "cell_type": "code",
   "execution_count": 241,
   "id": "19ac0dc6-7e1e-4086-9ab5-5ddd61549917",
   "metadata": {},
   "outputs": [
    {
     "data": {
      "text/plain": [
       "(95540, 47)"
      ]
     },
     "execution_count": 241,
     "metadata": {},
     "output_type": "execute_result"
    }
   ],
   "source": [
    "final_df = merged_df\n",
    "final_df.shape"
   ]
  },
  {
   "cell_type": "code",
   "execution_count": 243,
   "id": "b9477cea-ac6a-4607-8cb0-27541d9cd840",
   "metadata": {},
   "outputs": [
    {
     "data": {
      "text/html": [
       "<div>\n",
       "<style scoped>\n",
       "    .dataframe tbody tr th:only-of-type {\n",
       "        vertical-align: middle;\n",
       "    }\n",
       "\n",
       "    .dataframe tbody tr th {\n",
       "        vertical-align: top;\n",
       "    }\n",
       "\n",
       "    .dataframe thead th {\n",
       "        text-align: right;\n",
       "    }\n",
       "</style>\n",
       "<table border=\"1\" class=\"dataframe\">\n",
       "  <thead>\n",
       "    <tr style=\"text-align: right;\">\n",
       "      <th></th>\n",
       "      <th>CVE-ID</th>\n",
       "      <th>CVSS-V3</th>\n",
       "      <th>CVSS-V2</th>\n",
       "      <th>SEVERITY</th>\n",
       "      <th>CWE-ID</th>\n",
       "      <th>dec_leng</th>\n",
       "      <th>clean_desc</th>\n",
       "      <th>f1</th>\n",
       "      <th>f2</th>\n",
       "      <th>f3</th>\n",
       "      <th>...</th>\n",
       "      <th>f31</th>\n",
       "      <th>f32</th>\n",
       "      <th>f33</th>\n",
       "      <th>f34</th>\n",
       "      <th>f35</th>\n",
       "      <th>f36</th>\n",
       "      <th>f37</th>\n",
       "      <th>f38</th>\n",
       "      <th>f39</th>\n",
       "      <th>f40</th>\n",
       "    </tr>\n",
       "  </thead>\n",
       "  <tbody>\n",
       "    <tr>\n",
       "      <th>95538</th>\n",
       "      <td>CVE-2021-45473</td>\n",
       "      <td>6.1</td>\n",
       "      <td>4.3</td>\n",
       "      <td>MEDIUM</td>\n",
       "      <td>CWE-79</td>\n",
       "      <td>24</td>\n",
       "      <td>In MediaWiki through 137 Wikibase item descrip...</td>\n",
       "      <td>4</td>\n",
       "      <td>1799</td>\n",
       "      <td>62</td>\n",
       "      <td>...</td>\n",
       "      <td>0</td>\n",
       "      <td>0</td>\n",
       "      <td>0</td>\n",
       "      <td>0</td>\n",
       "      <td>0</td>\n",
       "      <td>0</td>\n",
       "      <td>0</td>\n",
       "      <td>0</td>\n",
       "      <td>0</td>\n",
       "      <td>0</td>\n",
       "    </tr>\n",
       "    <tr>\n",
       "      <th>95539</th>\n",
       "      <td>CVE-2021-45474</td>\n",
       "      <td>6.1</td>\n",
       "      <td>4.3</td>\n",
       "      <td>MEDIUM</td>\n",
       "      <td>CWE-79</td>\n",
       "      <td>17</td>\n",
       "      <td>In MediaWiki through 137 the SpecialImportFile...</td>\n",
       "      <td>4</td>\n",
       "      <td>1799</td>\n",
       "      <td>62</td>\n",
       "      <td>...</td>\n",
       "      <td>0</td>\n",
       "      <td>0</td>\n",
       "      <td>0</td>\n",
       "      <td>0</td>\n",
       "      <td>0</td>\n",
       "      <td>0</td>\n",
       "      <td>0</td>\n",
       "      <td>0</td>\n",
       "      <td>0</td>\n",
       "      <td>0</td>\n",
       "    </tr>\n",
       "  </tbody>\n",
       "</table>\n",
       "<p>2 rows × 47 columns</p>\n",
       "</div>"
      ],
      "text/plain": [
       "               CVE-ID  CVSS-V3  CVSS-V2 SEVERITY  CWE-ID  dec_leng  \\\n",
       "95538  CVE-2021-45473      6.1      4.3   MEDIUM  CWE-79        24   \n",
       "95539  CVE-2021-45474      6.1      4.3   MEDIUM  CWE-79        17   \n",
       "\n",
       "                                              clean_desc  f1    f2  f3  ...  \\\n",
       "95538  In MediaWiki through 137 Wikibase item descrip...   4  1799  62  ...   \n",
       "95539  In MediaWiki through 137 the SpecialImportFile...   4  1799  62  ...   \n",
       "\n",
       "       f31  f32  f33  f34  f35  f36  f37  f38  f39  f40  \n",
       "95538    0    0    0    0    0    0    0    0    0    0  \n",
       "95539    0    0    0    0    0    0    0    0    0    0  \n",
       "\n",
       "[2 rows x 47 columns]"
      ]
     },
     "execution_count": 243,
     "metadata": {},
     "output_type": "execute_result"
    }
   ],
   "source": [
    "final_df.tail(2)"
   ]
  },
  {
   "cell_type": "code",
   "execution_count": 244,
   "id": "245644fc-a1e0-4f71-8c10-efd886c6753d",
   "metadata": {},
   "outputs": [
    {
     "data": {
      "text/plain": [
       "array(['CRITICAL', 'HIGH', 'MEDIUM', 'LOW'], dtype=object)"
      ]
     },
     "execution_count": 244,
     "metadata": {},
     "output_type": "execute_result"
    }
   ],
   "source": [
    "final_df.SEVERITY.unique()"
   ]
  },
  {
   "cell_type": "code",
   "execution_count": 246,
   "id": "b69589c5-fbfe-405b-8826-ee7feebc2c0a",
   "metadata": {},
   "outputs": [
    {
     "name": "stdout",
     "output_type": "stream",
     "text": [
      "<class 'pandas.core.frame.DataFrame'>\n",
      "RangeIndex: 95540 entries, 0 to 95539\n",
      "Data columns (total 47 columns):\n",
      " #   Column      Non-Null Count  Dtype  \n",
      "---  ------      --------------  -----  \n",
      " 0   CVE-ID      95540 non-null  object \n",
      " 1   CVSS-V3     95540 non-null  float64\n",
      " 2   CVSS-V2     95540 non-null  float64\n",
      " 3   SEVERITY    95540 non-null  object \n",
      " 4   CWE-ID      95540 non-null  object \n",
      " 5   dec_leng    95540 non-null  int64  \n",
      " 6   clean_desc  95540 non-null  object \n",
      " 7   f1          95540 non-null  int64  \n",
      " 8   f2          95540 non-null  int64  \n",
      " 9   f3          95540 non-null  int64  \n",
      " 10  f4          95540 non-null  int64  \n",
      " 11  f5          95540 non-null  int64  \n",
      " 12  f6          95540 non-null  int64  \n",
      " 13  f7          95540 non-null  int64  \n",
      " 14  f8          95540 non-null  int64  \n",
      " 15  f9          95540 non-null  int64  \n",
      " 16  f10         95540 non-null  int64  \n",
      " 17  f11         95540 non-null  int64  \n",
      " 18  f12         95540 non-null  int64  \n",
      " 19  f13         95540 non-null  int64  \n",
      " 20  f14         95540 non-null  int64  \n",
      " 21  f15         95540 non-null  int64  \n",
      " 22  f16         95540 non-null  int64  \n",
      " 23  f17         95540 non-null  int64  \n",
      " 24  f18         95540 non-null  int64  \n",
      " 25  f19         95540 non-null  int64  \n",
      " 26  f20         95540 non-null  int64  \n",
      " 27  f21         95540 non-null  int64  \n",
      " 28  f22         95540 non-null  int64  \n",
      " 29  f23         95540 non-null  int64  \n",
      " 30  f24         95540 non-null  int64  \n",
      " 31  f25         95540 non-null  int64  \n",
      " 32  f26         95540 non-null  int64  \n",
      " 33  f27         95540 non-null  int64  \n",
      " 34  f28         95540 non-null  int64  \n",
      " 35  f29         95540 non-null  int64  \n",
      " 36  f30         95540 non-null  int64  \n",
      " 37  f31         95540 non-null  int64  \n",
      " 38  f32         95540 non-null  int64  \n",
      " 39  f33         95540 non-null  int64  \n",
      " 40  f34         95540 non-null  int64  \n",
      " 41  f35         95540 non-null  int64  \n",
      " 42  f36         95540 non-null  int64  \n",
      " 43  f37         95540 non-null  int64  \n",
      " 44  f38         95540 non-null  int64  \n",
      " 45  f39         95540 non-null  int64  \n",
      " 46  f40         95540 non-null  int64  \n",
      "dtypes: float64(2), int64(41), object(4)\n",
      "memory usage: 34.3+ MB\n"
     ]
    }
   ],
   "source": [
    "final_df.info()"
   ]
  },
  {
   "cell_type": "code",
   "execution_count": 247,
   "id": "15078366-bfbe-43cc-a46a-f3a4fef837f5",
   "metadata": {},
   "outputs": [],
   "source": [
    "# preprocessing... "
   ]
  },
  {
   "cell_type": "code",
   "execution_count": 252,
   "id": "1b510b64-d9d5-4f81-97a8-6c2c5075d072",
   "metadata": {},
   "outputs": [
    {
     "name": "stdout",
     "output_type": "stream",
     "text": [
      "True\n",
      "True\n",
      "True\n",
      "True\n",
      "<class 'pandas.core.frame.DataFrame'>\n",
      "RangeIndex: 95540 entries, 0 to 95539\n",
      "Data columns (total 47 columns):\n",
      " #   Column      Non-Null Count  Dtype  \n",
      "---  ------      --------------  -----  \n",
      " 0   CVE-ID      95540 non-null  int32  \n",
      " 1   CVSS-V3     95540 non-null  float64\n",
      " 2   CVSS-V2     95540 non-null  float64\n",
      " 3   SEVERITY    95540 non-null  int8   \n",
      " 4   CWE-ID      95540 non-null  int16  \n",
      " 5   dec_leng    95540 non-null  int64  \n",
      " 6   clean_desc  95540 non-null  int32  \n",
      " 7   f1          95540 non-null  int64  \n",
      " 8   f2          95540 non-null  int64  \n",
      " 9   f3          95540 non-null  int64  \n",
      " 10  f4          95540 non-null  int64  \n",
      " 11  f5          95540 non-null  int64  \n",
      " 12  f6          95540 non-null  int64  \n",
      " 13  f7          95540 non-null  int64  \n",
      " 14  f8          95540 non-null  int64  \n",
      " 15  f9          95540 non-null  int64  \n",
      " 16  f10         95540 non-null  int64  \n",
      " 17  f11         95540 non-null  int64  \n",
      " 18  f12         95540 non-null  int64  \n",
      " 19  f13         95540 non-null  int64  \n",
      " 20  f14         95540 non-null  int64  \n",
      " 21  f15         95540 non-null  int64  \n",
      " 22  f16         95540 non-null  int64  \n",
      " 23  f17         95540 non-null  int64  \n",
      " 24  f18         95540 non-null  int64  \n",
      " 25  f19         95540 non-null  int64  \n",
      " 26  f20         95540 non-null  int64  \n",
      " 27  f21         95540 non-null  int64  \n",
      " 28  f22         95540 non-null  int64  \n",
      " 29  f23         95540 non-null  int64  \n",
      " 30  f24         95540 non-null  int64  \n",
      " 31  f25         95540 non-null  int64  \n",
      " 32  f26         95540 non-null  int64  \n",
      " 33  f27         95540 non-null  int64  \n",
      " 34  f28         95540 non-null  int64  \n",
      " 35  f29         95540 non-null  int64  \n",
      " 36  f30         95540 non-null  int64  \n",
      " 37  f31         95540 non-null  int64  \n",
      " 38  f32         95540 non-null  int64  \n",
      " 39  f33         95540 non-null  int64  \n",
      " 40  f34         95540 non-null  int64  \n",
      " 41  f35         95540 non-null  int64  \n",
      " 42  f36         95540 non-null  int64  \n",
      " 43  f37         95540 non-null  int64  \n",
      " 44  f38         95540 non-null  int64  \n",
      " 45  f39         95540 non-null  int64  \n",
      " 46  f40         95540 non-null  int64  \n",
      "dtypes: float64(2), int16(1), int32(2), int64(41), int8(1)\n",
      "memory usage: 32.3 MB\n"
     ]
    }
   ],
   "source": [
    "for col in final_df.columns: \n",
    "    if final_df[col].dtype == 'object':\n",
    "        # convert to categories\n",
    "        final_df[col] = final_df[col].astype('category')\n",
    "        final_df[col] = final_df[col].cat.codes\n",
    "        print('True')\n",
    "\n",
    "final_df.info()"
   ]
  },
  {
   "cell_type": "code",
   "execution_count": 253,
   "id": "aa1a9c4d-30a3-48f3-8be3-01c2704693cb",
   "metadata": {},
   "outputs": [
    {
     "data": {
      "text/html": [
       "<div>\n",
       "<style scoped>\n",
       "    .dataframe tbody tr th:only-of-type {\n",
       "        vertical-align: middle;\n",
       "    }\n",
       "\n",
       "    .dataframe tbody tr th {\n",
       "        vertical-align: top;\n",
       "    }\n",
       "\n",
       "    .dataframe thead th {\n",
       "        text-align: right;\n",
       "    }\n",
       "</style>\n",
       "<table border=\"1\" class=\"dataframe\">\n",
       "  <thead>\n",
       "    <tr style=\"text-align: right;\">\n",
       "      <th></th>\n",
       "      <th>CVE-ID</th>\n",
       "      <th>CVSS-V3</th>\n",
       "      <th>CVSS-V2</th>\n",
       "      <th>SEVERITY</th>\n",
       "      <th>CWE-ID</th>\n",
       "      <th>dec_leng</th>\n",
       "      <th>clean_desc</th>\n",
       "      <th>f1</th>\n",
       "      <th>f2</th>\n",
       "      <th>f3</th>\n",
       "      <th>...</th>\n",
       "      <th>f31</th>\n",
       "      <th>f32</th>\n",
       "      <th>f33</th>\n",
       "      <th>f34</th>\n",
       "      <th>f35</th>\n",
       "      <th>f36</th>\n",
       "      <th>f37</th>\n",
       "      <th>f38</th>\n",
       "      <th>f39</th>\n",
       "      <th>f40</th>\n",
       "    </tr>\n",
       "  </thead>\n",
       "  <tbody>\n",
       "    <tr>\n",
       "      <th>0</th>\n",
       "      <td>0</td>\n",
       "      <td>9.8</td>\n",
       "      <td>7.5</td>\n",
       "      <td>0</td>\n",
       "      <td>67</td>\n",
       "      <td>48</td>\n",
       "      <td>86625</td>\n",
       "      <td>3148</td>\n",
       "      <td>11</td>\n",
       "      <td>989</td>\n",
       "      <td>...</td>\n",
       "      <td>3617</td>\n",
       "      <td>1455</td>\n",
       "      <td>37</td>\n",
       "      <td>22617</td>\n",
       "      <td>6</td>\n",
       "      <td>5</td>\n",
       "      <td>2513</td>\n",
       "      <td>174</td>\n",
       "      <td>47</td>\n",
       "      <td>26896</td>\n",
       "    </tr>\n",
       "    <tr>\n",
       "      <th>1</th>\n",
       "      <td>1</td>\n",
       "      <td>7.5</td>\n",
       "      <td>5.0</td>\n",
       "      <td>1</td>\n",
       "      <td>50</td>\n",
       "      <td>13</td>\n",
       "      <td>61430</td>\n",
       "      <td>50166</td>\n",
       "      <td>193</td>\n",
       "      <td>4</td>\n",
       "      <td>...</td>\n",
       "      <td>0</td>\n",
       "      <td>0</td>\n",
       "      <td>0</td>\n",
       "      <td>0</td>\n",
       "      <td>0</td>\n",
       "      <td>0</td>\n",
       "      <td>0</td>\n",
       "      <td>0</td>\n",
       "      <td>0</td>\n",
       "      <td>0</td>\n",
       "    </tr>\n",
       "    <tr>\n",
       "      <th>2</th>\n",
       "      <td>2</td>\n",
       "      <td>7.5</td>\n",
       "      <td>5.0</td>\n",
       "      <td>1</td>\n",
       "      <td>49</td>\n",
       "      <td>30</td>\n",
       "      <td>39411</td>\n",
       "      <td>5332</td>\n",
       "      <td>1033</td>\n",
       "      <td>7</td>\n",
       "      <td>...</td>\n",
       "      <td>0</td>\n",
       "      <td>0</td>\n",
       "      <td>0</td>\n",
       "      <td>0</td>\n",
       "      <td>0</td>\n",
       "      <td>0</td>\n",
       "      <td>0</td>\n",
       "      <td>0</td>\n",
       "      <td>0</td>\n",
       "      <td>0</td>\n",
       "    </tr>\n",
       "  </tbody>\n",
       "</table>\n",
       "<p>3 rows × 47 columns</p>\n",
       "</div>"
      ],
      "text/plain": [
       "   CVE-ID  CVSS-V3  CVSS-V2  SEVERITY  CWE-ID  dec_leng  clean_desc     f1  \\\n",
       "0       0      9.8      7.5         0      67        48       86625   3148   \n",
       "1       1      7.5      5.0         1      50        13       61430  50166   \n",
       "2       2      7.5      5.0         1      49        30       39411   5332   \n",
       "\n",
       "     f2   f3  ...   f31   f32  f33    f34  f35  f36   f37  f38  f39    f40  \n",
       "0    11  989  ...  3617  1455   37  22617    6    5  2513  174   47  26896  \n",
       "1   193    4  ...     0     0    0      0    0    0     0    0    0      0  \n",
       "2  1033    7  ...     0     0    0      0    0    0     0    0    0      0  \n",
       "\n",
       "[3 rows x 47 columns]"
      ]
     },
     "execution_count": 253,
     "metadata": {},
     "output_type": "execute_result"
    }
   ],
   "source": [
    "final_df.head(3)"
   ]
  },
  {
   "cell_type": "code",
   "execution_count": 254,
   "id": "9485d8ef-fae2-4dc5-965d-8a30c0485006",
   "metadata": {},
   "outputs": [
    {
     "data": {
      "text/plain": [
       "array([0, 1, 3, 2], dtype=int8)"
      ]
     },
     "execution_count": 254,
     "metadata": {},
     "output_type": "execute_result"
    }
   ],
   "source": [
    "final_df.SEVERITY.unique()"
   ]
  },
  {
   "cell_type": "code",
   "execution_count": 98,
   "id": "77ca23ee-7faa-464d-8658-fd36ac47b75e",
   "metadata": {},
   "outputs": [],
   "source": [
    "# data balacing"
   ]
  },
  {
   "cell_type": "code",
   "execution_count": 258,
   "id": "2531022c-590b-452d-8499-a7d4b3b8ca38",
   "metadata": {},
   "outputs": [
    {
     "data": {
      "text/plain": [
       "<Axes: >"
      ]
     },
     "execution_count": 258,
     "metadata": {},
     "output_type": "execute_result"
    },
    {
     "data": {
      "image/png": "[encoded data removed]",
      "text/plain": [
       "<Figure size 640x480 with 1 Axes>"
      ]
     },
     "metadata": {},
     "output_type": "display_data"
    }
   ],
   "source": [
    "final_df.SEVERITY.value_counts().plot(kind='bar', color=['r', 'b', 'g', 'brown'])"
   ]
  },
  {
   "cell_type": "code",
   "execution_count": 260,
   "id": "e59c5290-89f0-4d30-9250-63246ed8d6ba",
   "metadata": {},
   "outputs": [
    {
     "data": {
      "text/plain": [
       "array([0, 1, 3, 2], dtype=int8)"
      ]
     },
     "execution_count": 260,
     "metadata": {},
     "output_type": "execute_result"
    }
   ],
   "source": [
    "final_df.SEVERITY.unique()"
   ]
  },
  {
   "cell_type": "code",
   "execution_count": 261,
   "id": "2d1b697c-2fcf-4802-be33-7850c607b6f5",
   "metadata": {},
   "outputs": [
    {
     "data": {
      "text/html": [
       "<div>\n",
       "<style scoped>\n",
       "    .dataframe tbody tr th:only-of-type {\n",
       "        vertical-align: middle;\n",
       "    }\n",
       "\n",
       "    .dataframe tbody tr th {\n",
       "        vertical-align: top;\n",
       "    }\n",
       "\n",
       "    .dataframe thead th {\n",
       "        text-align: right;\n",
       "    }\n",
       "</style>\n",
       "<table border=\"1\" class=\"dataframe\">\n",
       "  <thead>\n",
       "    <tr style=\"text-align: right;\">\n",
       "      <th></th>\n",
       "      <th>CVE-ID</th>\n",
       "      <th>CVSS-V3</th>\n",
       "      <th>CVSS-V2</th>\n",
       "      <th>SEVERITY</th>\n",
       "      <th>CWE-ID</th>\n",
       "      <th>dec_leng</th>\n",
       "      <th>clean_desc</th>\n",
       "      <th>f1</th>\n",
       "      <th>f2</th>\n",
       "      <th>f3</th>\n",
       "      <th>...</th>\n",
       "      <th>f31</th>\n",
       "      <th>f32</th>\n",
       "      <th>f33</th>\n",
       "      <th>f34</th>\n",
       "      <th>f35</th>\n",
       "      <th>f36</th>\n",
       "      <th>f37</th>\n",
       "      <th>f38</th>\n",
       "      <th>f39</th>\n",
       "      <th>f40</th>\n",
       "    </tr>\n",
       "  </thead>\n",
       "  <tbody>\n",
       "    <tr>\n",
       "      <th>0</th>\n",
       "      <td>0</td>\n",
       "      <td>9.8</td>\n",
       "      <td>7.5</td>\n",
       "      <td>0</td>\n",
       "      <td>67</td>\n",
       "      <td>48</td>\n",
       "      <td>86625</td>\n",
       "      <td>3148</td>\n",
       "      <td>11</td>\n",
       "      <td>989</td>\n",
       "      <td>...</td>\n",
       "      <td>3617</td>\n",
       "      <td>1455</td>\n",
       "      <td>37</td>\n",
       "      <td>22617</td>\n",
       "      <td>6</td>\n",
       "      <td>5</td>\n",
       "      <td>2513</td>\n",
       "      <td>174</td>\n",
       "      <td>47</td>\n",
       "      <td>26896</td>\n",
       "    </tr>\n",
       "    <tr>\n",
       "      <th>1</th>\n",
       "      <td>1</td>\n",
       "      <td>7.5</td>\n",
       "      <td>5.0</td>\n",
       "      <td>1</td>\n",
       "      <td>50</td>\n",
       "      <td>13</td>\n",
       "      <td>61430</td>\n",
       "      <td>50166</td>\n",
       "      <td>193</td>\n",
       "      <td>4</td>\n",
       "      <td>...</td>\n",
       "      <td>0</td>\n",
       "      <td>0</td>\n",
       "      <td>0</td>\n",
       "      <td>0</td>\n",
       "      <td>0</td>\n",
       "      <td>0</td>\n",
       "      <td>0</td>\n",
       "      <td>0</td>\n",
       "      <td>0</td>\n",
       "      <td>0</td>\n",
       "    </tr>\n",
       "    <tr>\n",
       "      <th>2</th>\n",
       "      <td>2</td>\n",
       "      <td>7.5</td>\n",
       "      <td>5.0</td>\n",
       "      <td>1</td>\n",
       "      <td>49</td>\n",
       "      <td>30</td>\n",
       "      <td>39411</td>\n",
       "      <td>5332</td>\n",
       "      <td>1033</td>\n",
       "      <td>7</td>\n",
       "      <td>...</td>\n",
       "      <td>0</td>\n",
       "      <td>0</td>\n",
       "      <td>0</td>\n",
       "      <td>0</td>\n",
       "      <td>0</td>\n",
       "      <td>0</td>\n",
       "      <td>0</td>\n",
       "      <td>0</td>\n",
       "      <td>0</td>\n",
       "      <td>0</td>\n",
       "    </tr>\n",
       "  </tbody>\n",
       "</table>\n",
       "<p>3 rows × 47 columns</p>\n",
       "</div>"
      ],
      "text/plain": [
       "   CVE-ID  CVSS-V3  CVSS-V2  SEVERITY  CWE-ID  dec_leng  clean_desc     f1  \\\n",
       "0       0      9.8      7.5         0      67        48       86625   3148   \n",
       "1       1      7.5      5.0         1      50        13       61430  50166   \n",
       "2       2      7.5      5.0         1      49        30       39411   5332   \n",
       "\n",
       "     f2   f3  ...   f31   f32  f33    f34  f35  f36   f37  f38  f39    f40  \n",
       "0    11  989  ...  3617  1455   37  22617    6    5  2513  174   47  26896  \n",
       "1   193    4  ...     0     0    0      0    0    0     0    0    0      0  \n",
       "2  1033    7  ...     0     0    0      0    0    0     0    0    0      0  \n",
       "\n",
       "[3 rows x 47 columns]"
      ]
     },
     "execution_count": 261,
     "metadata": {},
     "output_type": "execute_result"
    }
   ],
   "source": [
    "final_df.head(3)"
   ]
  },
  {
   "cell_type": "code",
   "execution_count": null,
   "id": "b4874219-f315-44c5-8782-f0fef80da3db",
   "metadata": {},
   "outputs": [],
   "source": [
    "final_df.drop(columns=['dec_leng', 'clean_desc', 'clean_desc'])"
   ]
  },
  {
   "cell_type": "code",
   "execution_count": null,
   "id": "f4a9d44b-dd27-48cc-b2c1-46271cfe7603",
   "metadata": {},
   "outputs": [],
   "source": [
    "X, y = final_df.drop(columns=['ser'])"
   ]
  }
 ],
 "metadata": {
  "kernelspec": {
   "display_name": "Python 3 (ipykernel)",
   "language": "python",
   "name": "python3"
  },
  "language_info": {
   "codemirror_mode": {
    "name": "ipython",
    "version": 3
   },
   "file_extension": ".py",
   "mimetype": "text/x-python",
   "name": "python",
   "nbconvert_exporter": "python",
   "pygments_lexer": "ipython3",
   "version": "3.9.5"
  }
 },
 "nbformat": 4,
 "nbformat_minor": 5
}
