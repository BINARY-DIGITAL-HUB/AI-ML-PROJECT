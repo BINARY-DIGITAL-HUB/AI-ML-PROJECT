{
 "cells": [
  {
   "cell_type": "code",
   "execution_count": 1,
   "id": "5b95919a",
   "metadata": {
    "collapsed": true,
    "jupyter": {
     "outputs_hidden": true
    }
   },
   "outputs": [
    {
     "name": "stdout",
     "output_type": "stream",
     "text": [
      "Collecting transformers\n",
      "  Using cached transformers-4.23.1-py3-none-any.whl (5.3 MB)\n",
      "Requirement already satisfied: packaging>=20.0 in c:\\users\\binary\\appdata\\local\\programs\\python\\python39\\lib\\site-packages (from transformers) (21.3)\n",
      "Requirement already satisfied: tqdm>=4.27 in c:\\users\\binary\\appdata\\local\\programs\\python\\python39\\lib\\site-packages (from transformers) (4.63.1)\n",
      "Requirement already satisfied: regex!=2019.12.17 in c:\\users\\binary\\appdata\\local\\programs\\python\\python39\\lib\\site-packages (from transformers) (2022.3.15)\n",
      "Collecting huggingface-hub<1.0,>=0.10.0\n",
      "  Using cached huggingface_hub-0.10.1-py3-none-any.whl (163 kB)\n",
      "Collecting pyyaml>=5.1\n",
      "  Using cached PyYAML-6.0-cp39-cp39-win_amd64.whl (151 kB)\n",
      "Requirement already satisfied: filelock in c:\\users\\binary\\appdata\\local\\programs\\python\\python39\\lib\\site-packages (from transformers) (3.7.0)\n",
      "Requirement already satisfied: requests in c:\\users\\binary\\appdata\\local\\programs\\python\\python39\\lib\\site-packages (from transformers) (2.27.1)\n",
      "Collecting tokenizers!=0.11.3,<0.14,>=0.11.1\n",
      "  Using cached tokenizers-0.13.1-cp39-cp39-win_amd64.whl (3.3 MB)\n",
      "Requirement already satisfied: numpy>=1.17 in c:\\users\\binary\\appdata\\local\\programs\\python\\python39\\lib\\site-packages (from transformers) (1.22.3)\n",
      "Requirement already satisfied: typing-extensions>=3.7.4.3 in c:\\users\\binary\\appdata\\local\\programs\\python\\python39\\lib\\site-packages (from huggingface-hub<1.0,>=0.10.0->transformers) (4.1.1)\n",
      "Requirement already satisfied: pyparsing!=3.0.5,>=2.0.2 in c:\\users\\binary\\appdata\\local\\programs\\python\\python39\\lib\\site-packages (from packaging>=20.0->transformers) (3.0.7)\n",
      "Requirement already satisfied: colorama in c:\\users\\binary\\appdata\\local\\programs\\python\\python39\\lib\\site-packages (from tqdm>=4.27->transformers) (0.4.4)\n",
      "Requirement already satisfied: urllib3<1.27,>=1.21.1 in c:\\users\\binary\\appdata\\local\\programs\\python\\python39\\lib\\site-packages (from requests->transformers) (1.26.9)\n",
      "Requirement already satisfied: certifi>=2017.4.17 in c:\\users\\binary\\appdata\\local\\programs\\python\\python39\\lib\\site-packages (from requests->transformers) (2021.10.8)\n",
      "Requirement already satisfied: idna<4,>=2.5 in c:\\users\\binary\\appdata\\local\\programs\\python\\python39\\lib\\site-packages (from requests->transformers) (3.3)\n",
      "Requirement already satisfied: charset-normalizer~=2.0.0 in c:\\users\\binary\\appdata\\local\\programs\\python\\python39\\lib\\site-packages (from requests->transformers) (2.0.12)\n",
      "Installing collected packages: tokenizers, pyyaml, huggingface-hub, transformers\n",
      "Note: you may need to restart the kernel to use updated packages.\n"
     ]
    },
    {
     "name": "stderr",
     "output_type": "stream",
     "text": [
      "WARNING: Ignoring invalid distribution -rotobuf (c:\\users\\binary\\appdata\\local\\programs\\python\\python39\\lib\\site-packages)\n",
      "WARNING: Ignoring invalid distribution -rotobuf (c:\\users\\binary\\appdata\\local\\programs\\python\\python39\\lib\\site-packages)\n",
      "WARNING: Ignoring invalid distribution -rotobuf (c:\\users\\binary\\appdata\\local\\programs\\python\\python39\\lib\\site-packages)\n",
      "ERROR: Could not install packages due to an OSError: [WinError 32] The process cannot access the file because it is being used by another process: 'c:\\\\users\\\\binary\\\\appdata\\\\local\\\\programs\\\\python\\\\python39\\\\Lib\\\\site-packages\\\\transformers\\\\models\\\\bigbird_pegasus\\\\convert_bigbird_pegasus_tf_to_pytorch.py'\n",
      "Consider using the `--user` option or check the permissions.\n",
      "\n",
      "WARNING: Ignoring invalid distribution -rotobuf (c:\\users\\binary\\appdata\\local\\programs\\python\\python39\\lib\\site-packages)\n",
      "WARNING: Ignoring invalid distribution -rotobuf (c:\\users\\binary\\appdata\\local\\programs\\python\\python39\\lib\\site-packages)\n",
      "WARNING: Ignoring invalid distribution -rotobuf (c:\\users\\binary\\appdata\\local\\programs\\python\\python39\\lib\\site-packages)\n"
     ]
    }
   ],
   "source": [
    "# pip install transformers"
   ]
  },
  {
   "cell_type": "code",
   "execution_count": 5,
   "id": "6cb50511",
   "metadata": {
    "collapsed": true,
    "jupyter": {
     "outputs_hidden": true
    }
   },
   "outputs": [
    {
     "name": "stdout",
     "output_type": "stream",
     "text": [
      "Requirement already satisfied: pip in c:\\users\\binary\\appdata\\local\\programs\\python\\python39\\lib\\site-packages (22.1.2)Note: you may need to restart the kernel to use updated packages.\n",
      "\n",
      "Collecting pip\n",
      "  Using cached pip-22.3-py3-none-any.whl (2.1 MB)\n",
      "Installing collected packages: pip\n",
      "  Attempting uninstall: pip\n",
      "    Found existing installation: pip 22.1.2\n",
      "    Uninstalling pip-22.1.2:\n",
      "      Successfully uninstalled pip-22.1.2\n"
     ]
    },
    {
     "name": "stderr",
     "output_type": "stream",
     "text": [
      "WARNING: Ignoring invalid distribution -rotobuf (c:\\users\\binary\\appdata\\local\\programs\\python\\python39\\lib\\site-packages)\n",
      "WARNING: Ignoring invalid distribution -rotobuf (c:\\users\\binary\\appdata\\local\\programs\\python\\python39\\lib\\site-packages)\n",
      "WARNING: Ignoring invalid distribution -rotobuf (c:\\users\\binary\\appdata\\local\\programs\\python\\python39\\lib\\site-packages)\n",
      "    WARNING: Ignoring invalid distribution -rotobuf (c:\\users\\binary\\appdata\\local\\programs\\python\\python39\\lib\\site-packages)\n",
      "ERROR: Could not install packages due to an OSError: [WinError 5] Access is denied: 'C:\\\\Users\\\\binary\\\\AppData\\\\Local\\\\Temp\\\\pip-uninstall-hsdotmlg\\\\pip.exe'\n",
      "Consider using the `--user` option or check the permissions.\n",
      "\n",
      "WARNING: Ignoring invalid distribution -rotobuf (c:\\users\\binary\\appdata\\local\\programs\\python\\python39\\lib\\site-packages)\n",
      "WARNING: Ignoring invalid distribution -rotobuf (c:\\users\\binary\\appdata\\local\\programs\\python\\python39\\lib\\site-packages)\n",
      "WARNING: Ignoring invalid distribution -rotobuf (c:\\users\\binary\\appdata\\local\\programs\\python\\python39\\lib\\site-packages)\n"
     ]
    }
   ],
   "source": [
    "# pip install --upgrade pip"
   ]
  },
  {
   "cell_type": "code",
   "execution_count": 30,
   "id": "fd5b06fa",
   "metadata": {
    "jupyter": {
     "outputs_hidden": true
    }
   },
   "outputs": [],
   "source": [
    "# pip install sentencepiece\n",
    "import warnings\n",
    "warnings.filterwarnings('ignore')"
   ]
  },
  {
   "cell_type": "code",
   "execution_count": 26,
   "id": "b79eb3c8",
   "metadata": {},
   "outputs": [
    {
     "name": "stderr",
     "output_type": "stream",
     "text": [
      "All model checkpoint layers were used when initializing TFT5ForConditionalGeneration.\n",
      "\n",
      "All the layers of TFT5ForConditionalGeneration were initialized from the model checkpoint at Vamsi/T5_Paraphrase_Paws.\n",
      "If your task is similar to the task the model of the checkpoint was trained on, you can already use TFT5ForConditionalGeneration for predictions without further training.\n"
     ]
    }
   ],
   "source": [
    "from json import load\n",
    "from transformers import AutoTokenizer, TFAutoModelForSeq2SeqLM\n",
    "\n",
    "\n",
    "def load_model():\n",
    "    tokenizer = AutoTokenizer.from_pretrained(\"Vamsi/T5_Paraphrase_Paws\")\n",
    "    model = TFAutoModelForSeq2SeqLM.from_pretrained(\"Vamsi/T5_Paraphrase_Paws\")\n",
    "\n",
    "    return tokenizer, model\n",
    "\n",
    "tokenizer , model = load_model()"
   ]
  },
  {
   "cell_type": "code",
   "execution_count": 36,
   "id": "28c4b626",
   "metadata": {},
   "outputs": [
    {
     "data": {
      "application/vnd.jupyter.widget-view+json": {
       "model_id": "8067e134b61a4a0d81e05d07fb124056",
       "version_major": 2,
       "version_minor": 0
      },
      "text/plain": [
       "Textarea(value='', description='String:', placeholder='Type something')"
      ]
     },
     "metadata": {},
     "output_type": "display_data"
    }
   ],
   "source": [
    "def paraprahser(doc='' , para_num = 4):\n",
    "\n",
    "    text =  \"paraphrase: \" + doc + \" </s>\"\n",
    "\n",
    "    encoding = tokenizer.encode_plus(text,pad_to_max_length=True, return_tensors=\"tf\")\n",
    "    input_ids, attention_masks = encoding[\"input_ids\"], encoding[\"attention_mask\"]\n",
    "\n",
    "\n",
    "    outputs = model.generate(\n",
    "        input_ids=input_ids, attention_mask=attention_masks,\n",
    "        max_length=256,\n",
    "        do_sample=True,\n",
    "        top_k=120,\n",
    "        top_p=0.95,\n",
    "        early_stopping=False,\n",
    "        num_return_sequences=para_num\n",
    "    )\n",
    "\n",
    "   \n",
    "    \n",
    "    paraprahsered_document = []\n",
    "    for output in outputs:\n",
    "        line = tokenizer.decode(output, skip_special_tokens=True,clean_up_tokenization_spaces=True)\n",
    "#         print(line)\n",
    "        paraprahsered_document.append(line)\n",
    "\n",
    "    return doc , paraprahsered_document\n",
    "    \n",
    "# doc , modify_doc =  paraprahser('this is the text')\n",
    "import ipywidgets as widgets\n",
    "\n",
    "\n",
    "data = widgets.Textarea(\n",
    "    value='',\n",
    "    placeholder='Type something',\n",
    "    description='String:',\n",
    "    disabled=False,\n",
    "    width=200,\n",
    "    height=500\n",
    ")\n",
    "\n",
    "def clicked(arg):\n",
    "    sentence = data.value\n",
    "    doc, phrase = paraprahser(sentence)\n",
    "    print(' ====== PARAPHRASING TOOLS ====== ')\n",
    "    print(f' SENTENCE  ->  {doc}')\n",
    "    print(f\"PHARAPHRASE \")\n",
    "    for p in range(len(phrase)):\n",
    "        \n",
    "        print(f'{p+1}.{phrase[p]}')\n",
    "        \n",
    "\n",
    "\n",
    "button_download = widgets.Button(description = 'Paraphrase')   \n",
    "button_download.on_click(clicked)\n",
    "data"
   ]
  },
  {
   "cell_type": "code",
   "execution_count": 37,
   "id": "b9ffcdae-1df0-42e1-ad45-709e9b8833ba",
   "metadata": {},
   "outputs": [
    {
     "data": {
      "application/vnd.jupyter.widget-view+json": {
       "model_id": "83ad3336ae9d4a7e878f8d6188706fd1",
       "version_major": 2,
       "version_minor": 0
      },
      "text/plain": [
       "Button(description='Paraphrase', style=ButtonStyle())"
      ]
     },
     "metadata": {},
     "output_type": "display_data"
    },
    {
     "name": "stdout",
     "output_type": "stream",
     "text": [
      " ====== PARAPHRASING TOOLS ====== \n",
      " SENTENCE  ->  The following properties map to the values of the CSS properties of the same name\n",
      "PHARAPHRASE \n",
      "1.The following properties map to the values of CSS properties of the same name.\n",
      "2.The following properties correspond to the values of CSS properties of the same name.\n",
      "3.The following properties are maps to the values of CSS properties of the same name.\n",
      "4.The following properties correspond to the values of CSS properties of the same name.\n"
     ]
    }
   ],
   "source": [
    "display(button_download)"
   ]
  },
  {
   "cell_type": "code",
   "execution_count": 53,
   "id": "d2878d75-2d6d-4dad-87ba-b67dd94d3058",
   "metadata": {},
   "outputs": [
    {
     "data": {
      "text/plain": [
       "''"
      ]
     },
     "execution_count": 53,
     "metadata": {},
     "output_type": "execute_result"
    }
   ],
   "source": [
    "data.value"
   ]
  }
 ],
 "metadata": {
  "kernelspec": {
   "display_name": "Python 3 (ipykernel)",
   "language": "python",
   "name": "python3"
  },
  "language_info": {
   "codemirror_mode": {
    "name": "ipython",
    "version": 3
   },
   "file_extension": ".py",
   "mimetype": "text/x-python",
   "name": "python",
   "nbconvert_exporter": "python",
   "pygments_lexer": "ipython3",
   "version": "3.9.0"
  }
 },
 "nbformat": 4,
 "nbformat_minor": 5
}
