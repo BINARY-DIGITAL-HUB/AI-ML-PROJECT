{
 "cells": [
  {
   "cell_type": "code",
   "execution_count": 19,
   "id": "ca14d9f6-5595-48a7-b556-e49212fb0450",
   "metadata": {},
   "outputs": [],
   "source": [
    "import pandas as pd\n",
    "import cv2\n",
    "import urllib\n",
    "import numpy as np\n",
    "from matplotlib import pyplot as plt"
   ]
  },
  {
   "cell_type": "code",
   "execution_count": 8,
   "id": "39456fc8-d5b0-4a89-8863-e0b779e88cd9",
   "metadata": {},
   "outputs": [
    {
     "data": {
      "text/html": [
       "<div>\n",
       "<style scoped>\n",
       "    .dataframe tbody tr th:only-of-type {\n",
       "        vertical-align: middle;\n",
       "    }\n",
       "\n",
       "    .dataframe tbody tr th {\n",
       "        vertical-align: top;\n",
       "    }\n",
       "\n",
       "    .dataframe thead th {\n",
       "        text-align: right;\n",
       "    }\n",
       "</style>\n",
       "<table border=\"1\" class=\"dataframe\">\n",
       "  <thead>\n",
       "    <tr style=\"text-align: right;\">\n",
       "      <th></th>\n",
       "      <th>Unnamed: 0</th>\n",
       "      <th>image_name</th>\n",
       "      <th>text_ocr</th>\n",
       "      <th>text_corrected</th>\n",
       "      <th>humour</th>\n",
       "      <th>sarcasm</th>\n",
       "      <th>offensive</th>\n",
       "      <th>motivational</th>\n",
       "      <th>overall_sentiment</th>\n",
       "    </tr>\n",
       "  </thead>\n",
       "  <tbody>\n",
       "    <tr>\n",
       "      <th>0</th>\n",
       "      <td>0</td>\n",
       "      <td>image_1.jpg</td>\n",
       "      <td>LOOK THERE MY FRIEND LIGHTYEAR NOW ALL SOHALIK...</td>\n",
       "      <td>LOOK THERE MY FRIEND LIGHTYEAR NOW ALL SOHALIK...</td>\n",
       "      <td>hilarious</td>\n",
       "      <td>general</td>\n",
       "      <td>not_offensive</td>\n",
       "      <td>not_motivational</td>\n",
       "      <td>very_positive</td>\n",
       "    </tr>\n",
       "    <tr>\n",
       "      <th>1</th>\n",
       "      <td>1</td>\n",
       "      <td>image_2.jpeg</td>\n",
       "      <td>The best of #10 YearChallenge! Completed in le...</td>\n",
       "      <td>The best of #10 YearChallenge! Completed in le...</td>\n",
       "      <td>not_funny</td>\n",
       "      <td>general</td>\n",
       "      <td>not_offensive</td>\n",
       "      <td>motivational</td>\n",
       "      <td>very_positive</td>\n",
       "    </tr>\n",
       "    <tr>\n",
       "      <th>2</th>\n",
       "      <td>2</td>\n",
       "      <td>image_3.JPG</td>\n",
       "      <td>Sam Thorne @Strippin ( Follow Follow Saw every...</td>\n",
       "      <td>Sam Thorne @Strippin ( Follow Follow Saw every...</td>\n",
       "      <td>very_funny</td>\n",
       "      <td>not_sarcastic</td>\n",
       "      <td>not_offensive</td>\n",
       "      <td>not_motivational</td>\n",
       "      <td>positive</td>\n",
       "    </tr>\n",
       "  </tbody>\n",
       "</table>\n",
       "</div>"
      ],
      "text/plain": [
       "   Unnamed: 0    image_name  \\\n",
       "0           0   image_1.jpg   \n",
       "1           1  image_2.jpeg   \n",
       "2           2   image_3.JPG   \n",
       "\n",
       "                                            text_ocr  \\\n",
       "0  LOOK THERE MY FRIEND LIGHTYEAR NOW ALL SOHALIK...   \n",
       "1  The best of #10 YearChallenge! Completed in le...   \n",
       "2  Sam Thorne @Strippin ( Follow Follow Saw every...   \n",
       "\n",
       "                                      text_corrected      humour  \\\n",
       "0  LOOK THERE MY FRIEND LIGHTYEAR NOW ALL SOHALIK...   hilarious   \n",
       "1  The best of #10 YearChallenge! Completed in le...   not_funny   \n",
       "2  Sam Thorne @Strippin ( Follow Follow Saw every...  very_funny   \n",
       "\n",
       "         sarcasm      offensive      motivational overall_sentiment  \n",
       "0        general  not_offensive  not_motivational     very_positive  \n",
       "1        general  not_offensive      motivational     very_positive  \n",
       "2  not_sarcastic  not_offensive  not_motivational          positive  "
      ]
     },
     "execution_count": 8,
     "metadata": {},
     "output_type": "execute_result"
    }
   ],
   "source": [
    "label = pd.read_csv('labels.csv')\n",
    "label.head(3)"
   ]
  },
  {
   "cell_type": "code",
   "execution_count": 9,
   "id": "06ab932d-ff41-41ee-b606-47b0dad851ac",
   "metadata": {},
   "outputs": [
    {
     "data": {
      "text/html": [
       "<div>\n",
       "<style scoped>\n",
       "    .dataframe tbody tr th:only-of-type {\n",
       "        vertical-align: middle;\n",
       "    }\n",
       "\n",
       "    .dataframe tbody tr th {\n",
       "        vertical-align: top;\n",
       "    }\n",
       "\n",
       "    .dataframe thead th {\n",
       "        text-align: right;\n",
       "    }\n",
       "</style>\n",
       "<table border=\"1\" class=\"dataframe\">\n",
       "  <thead>\n",
       "    <tr style=\"text-align: right;\">\n",
       "      <th></th>\n",
       "      <th>Unnamed: 0</th>\n",
       "      <th>original_name</th>\n",
       "      <th>image_url</th>\n",
       "      <th>image_name</th>\n",
       "    </tr>\n",
       "  </thead>\n",
       "  <tbody>\n",
       "    <tr>\n",
       "      <th>0</th>\n",
       "      <td>0</td>\n",
       "      <td>10_year_2r94rv.jpg</td>\n",
       "      <td>https://i.imgflip.com/2r94rv.jpg</td>\n",
       "      <td>image_1.jpg</td>\n",
       "    </tr>\n",
       "    <tr>\n",
       "      <th>1</th>\n",
       "      <td>1</td>\n",
       "      <td>10_year_10-year-challenge_1547788782.jpeg</td>\n",
       "      <td>https://spiderimg.amarujala.com/assets/images/...</td>\n",
       "      <td>image_2.jpeg</td>\n",
       "    </tr>\n",
       "    <tr>\n",
       "      <th>2</th>\n",
       "      <td>2</td>\n",
       "      <td>10_year_10yearchallenge-5c75f8b946e0fb0001edc7...</td>\n",
       "      <td>https://www.lifewire.com/thmb/8wNfd94_meE9X2cp...</td>\n",
       "      <td>image_3.JPG</td>\n",
       "    </tr>\n",
       "  </tbody>\n",
       "</table>\n",
       "</div>"
      ],
      "text/plain": [
       "   Unnamed: 0                                      original_name  \\\n",
       "0           0                                 10_year_2r94rv.jpg   \n",
       "1           1          10_year_10-year-challenge_1547788782.jpeg   \n",
       "2           2  10_year_10yearchallenge-5c75f8b946e0fb0001edc7...   \n",
       "\n",
       "                                           image_url    image_name  \n",
       "0                   https://i.imgflip.com/2r94rv.jpg   image_1.jpg  \n",
       "1  https://spiderimg.amarujala.com/assets/images/...  image_2.jpeg  \n",
       "2  https://www.lifewire.com/thmb/8wNfd94_meE9X2cp...   image_3.JPG  "
      ]
     },
     "execution_count": 9,
     "metadata": {},
     "output_type": "execute_result"
    }
   ],
   "source": [
    "ref = pd.read_csv('reference.csv')\n",
    "ref.head(3)"
   ]
  },
  {
   "cell_type": "code",
   "execution_count": null,
   "id": "460dc9c3-8b6b-4f65-893c-182a709ac57b",
   "metadata": {},
   "outputs": [],
   "source": []
  },
  {
   "cell_type": "code",
   "execution_count": 10,
   "id": "066bdf69-80bc-4537-bdef-61b822f702bb",
   "metadata": {},
   "outputs": [
    {
     "data": {
      "text/html": [
       "<div>\n",
       "<style scoped>\n",
       "    .dataframe tbody tr th:only-of-type {\n",
       "        vertical-align: middle;\n",
       "    }\n",
       "\n",
       "    .dataframe tbody tr th {\n",
       "        vertical-align: top;\n",
       "    }\n",
       "\n",
       "    .dataframe thead th {\n",
       "        text-align: right;\n",
       "    }\n",
       "</style>\n",
       "<table border=\"1\" class=\"dataframe\">\n",
       "  <thead>\n",
       "    <tr style=\"text-align: right;\">\n",
       "      <th></th>\n",
       "      <th>image_name</th>\n",
       "      <th>text_corrected</th>\n",
       "    </tr>\n",
       "  </thead>\n",
       "  <tbody>\n",
       "    <tr>\n",
       "      <th>0</th>\n",
       "      <td>image_1.jpg</td>\n",
       "      <td>LOOK THERE MY FRIEND LIGHTYEAR NOW ALL SOHALIK...</td>\n",
       "    </tr>\n",
       "    <tr>\n",
       "      <th>1</th>\n",
       "      <td>image_2.jpeg</td>\n",
       "      <td>The best of #10 YearChallenge! Completed in le...</td>\n",
       "    </tr>\n",
       "    <tr>\n",
       "      <th>2</th>\n",
       "      <td>image_3.JPG</td>\n",
       "      <td>Sam Thorne @Strippin ( Follow Follow Saw every...</td>\n",
       "    </tr>\n",
       "    <tr>\n",
       "      <th>3</th>\n",
       "      <td>image_4.png</td>\n",
       "      <td>10 Year Challenge - Sweet Dee Edition</td>\n",
       "    </tr>\n",
       "    <tr>\n",
       "      <th>4</th>\n",
       "      <td>image_5.png</td>\n",
       "      <td>10 YEAR CHALLENGE WITH NO FILTER 47 Hilarious ...</td>\n",
       "    </tr>\n",
       "  </tbody>\n",
       "</table>\n",
       "</div>"
      ],
      "text/plain": [
       "     image_name                                     text_corrected\n",
       "0   image_1.jpg  LOOK THERE MY FRIEND LIGHTYEAR NOW ALL SOHALIK...\n",
       "1  image_2.jpeg  The best of #10 YearChallenge! Completed in le...\n",
       "2   image_3.JPG  Sam Thorne @Strippin ( Follow Follow Saw every...\n",
       "3   image_4.png              10 Year Challenge - Sweet Dee Edition\n",
       "4   image_5.png  10 YEAR CHALLENGE WITH NO FILTER 47 Hilarious ..."
      ]
     },
     "execution_count": 10,
     "metadata": {},
     "output_type": "execute_result"
    }
   ],
   "source": [
    "label = label[['image_name', 'text_corrected']]\n",
    "label.head()"
   ]
  },
  {
   "cell_type": "code",
   "execution_count": 12,
   "id": "b6f8c950-b326-4b1b-9c73-76c9e6337add",
   "metadata": {},
   "outputs": [
    {
     "data": {
      "text/html": [
       "<div>\n",
       "<style scoped>\n",
       "    .dataframe tbody tr th:only-of-type {\n",
       "        vertical-align: middle;\n",
       "    }\n",
       "\n",
       "    .dataframe tbody tr th {\n",
       "        vertical-align: top;\n",
       "    }\n",
       "\n",
       "    .dataframe thead th {\n",
       "        text-align: right;\n",
       "    }\n",
       "</style>\n",
       "<table border=\"1\" class=\"dataframe\">\n",
       "  <thead>\n",
       "    <tr style=\"text-align: right;\">\n",
       "      <th></th>\n",
       "      <th>image_url</th>\n",
       "      <th>image_name</th>\n",
       "    </tr>\n",
       "  </thead>\n",
       "  <tbody>\n",
       "    <tr>\n",
       "      <th>0</th>\n",
       "      <td>https://i.imgflip.com/2r94rv.jpg</td>\n",
       "      <td>image_1.jpg</td>\n",
       "    </tr>\n",
       "    <tr>\n",
       "      <th>1</th>\n",
       "      <td>https://spiderimg.amarujala.com/assets/images/...</td>\n",
       "      <td>image_2.jpeg</td>\n",
       "    </tr>\n",
       "    <tr>\n",
       "      <th>2</th>\n",
       "      <td>https://www.lifewire.com/thmb/8wNfd94_meE9X2cp...</td>\n",
       "      <td>image_3.JPG</td>\n",
       "    </tr>\n",
       "    <tr>\n",
       "      <th>3</th>\n",
       "      <td>https://pics.conservativememes.com/10-year-cha...</td>\n",
       "      <td>image_4.png</td>\n",
       "    </tr>\n",
       "    <tr>\n",
       "      <th>4</th>\n",
       "      <td>https://pics.me.me/10-year-challenge-with-no-f...</td>\n",
       "      <td>image_5.png</td>\n",
       "    </tr>\n",
       "  </tbody>\n",
       "</table>\n",
       "</div>"
      ],
      "text/plain": [
       "                                           image_url    image_name\n",
       "0                   https://i.imgflip.com/2r94rv.jpg   image_1.jpg\n",
       "1  https://spiderimg.amarujala.com/assets/images/...  image_2.jpeg\n",
       "2  https://www.lifewire.com/thmb/8wNfd94_meE9X2cp...   image_3.JPG\n",
       "3  https://pics.conservativememes.com/10-year-cha...   image_4.png\n",
       "4  https://pics.me.me/10-year-challenge-with-no-f...   image_5.png"
      ]
     },
     "execution_count": 12,
     "metadata": {},
     "output_type": "execute_result"
    }
   ],
   "source": [
    "ref = ref[['image_url', 'image_name']]\n",
    "ref.head()"
   ]
  },
  {
   "cell_type": "code",
   "execution_count": 13,
   "id": "75610ab1-7be2-4237-8ced-ea33005ff784",
   "metadata": {
    "scrolled": true
   },
   "outputs": [
    {
     "data": {
      "text/html": [
       "<div>\n",
       "<style scoped>\n",
       "    .dataframe tbody tr th:only-of-type {\n",
       "        vertical-align: middle;\n",
       "    }\n",
       "\n",
       "    .dataframe tbody tr th {\n",
       "        vertical-align: top;\n",
       "    }\n",
       "\n",
       "    .dataframe thead th {\n",
       "        text-align: right;\n",
       "    }\n",
       "</style>\n",
       "<table border=\"1\" class=\"dataframe\">\n",
       "  <thead>\n",
       "    <tr style=\"text-align: right;\">\n",
       "      <th></th>\n",
       "      <th>image_url</th>\n",
       "      <th>image_name</th>\n",
       "      <th>text_corrected</th>\n",
       "    </tr>\n",
       "  </thead>\n",
       "  <tbody>\n",
       "    <tr>\n",
       "      <th>0</th>\n",
       "      <td>https://i.imgflip.com/2r94rv.jpg</td>\n",
       "      <td>image_1.jpg</td>\n",
       "      <td>LOOK THERE MY FRIEND LIGHTYEAR NOW ALL SOHALIK...</td>\n",
       "    </tr>\n",
       "    <tr>\n",
       "      <th>1</th>\n",
       "      <td>https://spiderimg.amarujala.com/assets/images/...</td>\n",
       "      <td>image_2.jpeg</td>\n",
       "      <td>The best of #10 YearChallenge! Completed in le...</td>\n",
       "    </tr>\n",
       "    <tr>\n",
       "      <th>2</th>\n",
       "      <td>https://www.lifewire.com/thmb/8wNfd94_meE9X2cp...</td>\n",
       "      <td>image_3.JPG</td>\n",
       "      <td>Sam Thorne @Strippin ( Follow Follow Saw every...</td>\n",
       "    </tr>\n",
       "    <tr>\n",
       "      <th>3</th>\n",
       "      <td>https://pics.conservativememes.com/10-year-cha...</td>\n",
       "      <td>image_4.png</td>\n",
       "      <td>10 Year Challenge - Sweet Dee Edition</td>\n",
       "    </tr>\n",
       "    <tr>\n",
       "      <th>4</th>\n",
       "      <td>https://pics.me.me/10-year-challenge-with-no-f...</td>\n",
       "      <td>image_5.png</td>\n",
       "      <td>10 YEAR CHALLENGE WITH NO FILTER 47 Hilarious ...</td>\n",
       "    </tr>\n",
       "  </tbody>\n",
       "</table>\n",
       "</div>"
      ],
      "text/plain": [
       "                                           image_url    image_name  \\\n",
       "0                   https://i.imgflip.com/2r94rv.jpg   image_1.jpg   \n",
       "1  https://spiderimg.amarujala.com/assets/images/...  image_2.jpeg   \n",
       "2  https://www.lifewire.com/thmb/8wNfd94_meE9X2cp...   image_3.JPG   \n",
       "3  https://pics.conservativememes.com/10-year-cha...   image_4.png   \n",
       "4  https://pics.me.me/10-year-challenge-with-no-f...   image_5.png   \n",
       "\n",
       "                                      text_corrected  \n",
       "0  LOOK THERE MY FRIEND LIGHTYEAR NOW ALL SOHALIK...  \n",
       "1  The best of #10 YearChallenge! Completed in le...  \n",
       "2  Sam Thorne @Strippin ( Follow Follow Saw every...  \n",
       "3              10 Year Challenge - Sweet Dee Edition  \n",
       "4  10 YEAR CHALLENGE WITH NO FILTER 47 Hilarious ...  "
      ]
     },
     "execution_count": 13,
     "metadata": {},
     "output_type": "execute_result"
    }
   ],
   "source": [
    "dataset = pd.concat([ref, label.drop(columns='image_name')], axis=1)\n",
    "dataset.head()"
   ]
  },
  {
   "cell_type": "code",
   "execution_count": 185,
   "id": "220fd821-f83d-49f2-99a1-b4fb98de03ff",
   "metadata": {},
   "outputs": [
    {
     "data": {
      "text/html": [
       "<div>\n",
       "<style scoped>\n",
       "    .dataframe tbody tr th:only-of-type {\n",
       "        vertical-align: middle;\n",
       "    }\n",
       "\n",
       "    .dataframe tbody tr th {\n",
       "        vertical-align: top;\n",
       "    }\n",
       "\n",
       "    .dataframe thead th {\n",
       "        text-align: right;\n",
       "    }\n",
       "</style>\n",
       "<table border=\"1\" class=\"dataframe\">\n",
       "  <thead>\n",
       "    <tr style=\"text-align: right;\">\n",
       "      <th></th>\n",
       "      <th>url</th>\n",
       "      <th>img_name</th>\n",
       "      <th>memes</th>\n",
       "    </tr>\n",
       "  </thead>\n",
       "  <tbody>\n",
       "    <tr>\n",
       "      <th>0</th>\n",
       "      <td>https://i.imgur.com/flqeDoU.png</td>\n",
       "      <td>image_6149.png</td>\n",
       "      <td>This is Bill. Bill is on Facebook. Bill doesn'...</td>\n",
       "    </tr>\n",
       "    <tr>\n",
       "      <th>1</th>\n",
       "      <td>https://www.soumo.eu/wp-content/uploads/2018/0...</td>\n",
       "      <td>image_2511.jpg</td>\n",
       "      <td>TOP 4 WISHES: 1. To earn money without working...</td>\n",
       "    </tr>\n",
       "    <tr>\n",
       "      <th>2</th>\n",
       "      <td>https://i2.wp.com/www.wehuntedthemammoth.com/w...</td>\n",
       "      <td>image_1527.jpg</td>\n",
       "      <td>ABORTED GF Sorry I couldn't be there for you a...</td>\n",
       "    </tr>\n",
       "    <tr>\n",
       "      <th>3</th>\n",
       "      <td>https://pics.astrologymemes.com/modi-makes-bla...</td>\n",
       "      <td>image_2773.png</td>\n",
       "      <td>MODI MAKES BLACK mm. MONEY DISAPPEAR $42602 RE...</td>\n",
       "    </tr>\n",
       "    <tr>\n",
       "      <th>4</th>\n",
       "      <td>https://pics.loveforquotes.com/doesnt-believe-...</td>\n",
       "      <td>image_3620.png</td>\n",
       "      <td>Doesn't believe in Climate Change Believes in ...</td>\n",
       "    </tr>\n",
       "  </tbody>\n",
       "</table>\n",
       "</div>"
      ],
      "text/plain": [
       "                                                 url        img_name  \\\n",
       "0                    https://i.imgur.com/flqeDoU.png  image_6149.png   \n",
       "1  https://www.soumo.eu/wp-content/uploads/2018/0...  image_2511.jpg   \n",
       "2  https://i2.wp.com/www.wehuntedthemammoth.com/w...  image_1527.jpg   \n",
       "3  https://pics.astrologymemes.com/modi-makes-bla...  image_2773.png   \n",
       "4  https://pics.loveforquotes.com/doesnt-believe-...  image_3620.png   \n",
       "\n",
       "                                               memes  \n",
       "0  This is Bill. Bill is on Facebook. Bill doesn'...  \n",
       "1  TOP 4 WISHES: 1. To earn money without working...  \n",
       "2  ABORTED GF Sorry I couldn't be there for you a...  \n",
       "3  MODI MAKES BLACK mm. MONEY DISAPPEAR $42602 RE...  \n",
       "4  Doesn't believe in Climate Change Believes in ...  "
      ]
     },
     "execution_count": 185,
     "metadata": {},
     "output_type": "execute_result"
    }
   ],
   "source": [
    "key_index = ['pray', 'spirit', 'jesus', 'heaven', 'angel' , 'christian' , 'divine', 'sunday', 'bible', 'church' 'sermon',  \"Divine\",\n",
    "    \"blessings\",\"amen\", \"miracles\", \"halos\", \"praise\", \"hallelujah\", \"sermon\", \"angelic\", \"sacrament\",\n",
    "    \"grace\", \"scriptures\", \"messiah\",  \"salvation\", \"gabriel\", \"resurrection\",  \"parables\",  \"faithful\",  \"commandment\",  \"redemption\" , \n",
    "            \"eternal\",\"heavenly\",\"sacrifice\",  \"worship\", \"guidance\",  \"savior\", \"devotion\",\"biblical\", \"spiritual\",\"benediction\", \"repentance\", \"covenant\",\n",
    "    \"testament\", \"devine\", \"ministry\", \"prayer\", \"baptism\", \"communion\", \"messiah\", \"pilgrimage\", 'money', 'grace', 'payment', 'repost']\n",
    "\n",
    "def get_extract(dataset, key_search):\n",
    "    memes = []\n",
    "\n",
    "    # searching for a key word in the dataset sample\n",
    "    for text in dataset.text_corrected.to_list():\n",
    "        for key in key_search:\n",
    "            if key in str(text).lower():\n",
    "                memes.append(text)\n",
    "                \n",
    "    memes = list(set(memes))\n",
    "\n",
    "    # extract index \n",
    "    indexes = []\n",
    "    for m in memes:\n",
    "        d = dataset[dataset.text_corrected  == m]\n",
    "        # print(d.index[0])\n",
    "        indexes.append(d.index[0])\n",
    "\n",
    "\n",
    "    # generate a dictionary data based on index\n",
    "    data_diction={\n",
    "    'url': [], \n",
    "    'img_name':[], \n",
    "    'memes':[]\n",
    "    }\n",
    "    for key in indexes: \n",
    "        data = dataset.iloc[dataset.index[key]]\n",
    "        data_diction['url'].append(data.image_url)\n",
    "        data_diction['img_name'].append(data.image_name)\n",
    "        data_diction['memes'].append(data.text_corrected)\n",
    "            \n",
    "    return data_diction\n",
    "\n",
    "\n",
    "dt = get_extract(dataset, key_index)\n",
    "new_d = pd.DataFrame(dt)\n",
    "new_d.head()"
   ]
  },
  {
   "cell_type": "code",
   "execution_count": 184,
   "id": "33c05efb-e75c-454c-aad0-2f0d9254b5ec",
   "metadata": {},
   "outputs": [
    {
     "data": {
      "text/plain": [
       "(139, 3)"
      ]
     },
     "execution_count": 184,
     "metadata": {},
     "output_type": "execute_result"
    }
   ],
   "source": [
    "new_d.shape"
   ]
  },
  {
   "cell_type": "code",
   "execution_count": 183,
   "id": "7e48b6ce-ecad-4bed-80e1-d67576917f1b",
   "metadata": {},
   "outputs": [
    {
     "name": "stdout",
     "output_type": "stream",
     "text": [
      "This is Bill. Bill is on Facebook. Bill doesn't repost stupid memes of himself.\n",
      "Doesn't believe in Climate Change Believes in Noah's Ark #pence #fuckpence #impeach #idiot #lol #whitehouse #new #inthecloset #funny #memes #sexist #creep #gross #science #mother @RepostIt_app\n",
      "when you see a meme about Stefán Karl and it's a repost but you still upvote anyway because it's Stefán The hardest choices require the strongest of wills\n",
      "this is the oscar face it happens only once every 5000 years repost in the next 20 seconds or you will never have oscar again\n",
      "AS SOON AS THEM ILLEGAL DREAMERS IS GONE IM GONNA GET ME ONE OF THEM S TECHNOLOGY JOBS THEY STOLE FROM ME imgflip.com No HumanBeinglsllegal :: : •:•: Repost @goodgodabove\n",
      "R.I.P I just died. If you dont care: Stop reading. If you would care: Like this pic. If you would miss me: Comment a If your not scared: Repost & See Who your real friends are...\n",
      "When you were the weird goth friend but 10+ years of eyeliner practice paid off Marriak Yasss wings so sharp they cut a hoe repost & gofollow my girl @pearlsuicide\n",
      "When people repost your meme so many times that it changes resolution from 1080p to 140p Look how they massacred my boy. *crying in godfather*\n"
     ]
    }
   ],
   "source": [
    "for m in new_d.memes: \n",
    "    if 'repost' in str(m).lower():\n",
    "        print(m)"
   ]
  },
  {
   "cell_type": "code",
   "execution_count": 182,
   "id": "f63fab7d-e9a8-48f0-aa68-da76f8d8ff42",
   "metadata": {},
   "outputs": [],
   "source": [
    "for d in new_d.memes: \n",
    "    if 'money' == str(d).lower(): \n",
    "        print(d)"
   ]
  },
  {
   "cell_type": "code",
   "execution_count": 186,
   "id": "cf732863-7385-418b-9630-6294e89f165e",
   "metadata": {},
   "outputs": [
    {
     "data": {
      "text/html": [
       "<div>\n",
       "<style scoped>\n",
       "    .dataframe tbody tr th:only-of-type {\n",
       "        vertical-align: middle;\n",
       "    }\n",
       "\n",
       "    .dataframe tbody tr th {\n",
       "        vertical-align: top;\n",
       "    }\n",
       "\n",
       "    .dataframe thead th {\n",
       "        text-align: right;\n",
       "    }\n",
       "</style>\n",
       "<table border=\"1\" class=\"dataframe\">\n",
       "  <thead>\n",
       "    <tr style=\"text-align: right;\">\n",
       "      <th></th>\n",
       "      <th>url</th>\n",
       "      <th>img_name</th>\n",
       "      <th>memes</th>\n",
       "      <th>new_image_name</th>\n",
       "    </tr>\n",
       "  </thead>\n",
       "  <tbody>\n",
       "    <tr>\n",
       "      <th>0</th>\n",
       "      <td>https://i.imgur.com/flqeDoU.png</td>\n",
       "      <td>image_6149.png</td>\n",
       "      <td>This is Bill. Bill is on Facebook. Bill doesn'...</td>\n",
       "      <td>image_0.png</td>\n",
       "    </tr>\n",
       "    <tr>\n",
       "      <th>1</th>\n",
       "      <td>https://www.soumo.eu/wp-content/uploads/2018/0...</td>\n",
       "      <td>image_2511.jpg</td>\n",
       "      <td>TOP 4 WISHES: 1. To earn money without working...</td>\n",
       "      <td>image_1.jpg</td>\n",
       "    </tr>\n",
       "    <tr>\n",
       "      <th>2</th>\n",
       "      <td>https://i2.wp.com/www.wehuntedthemammoth.com/w...</td>\n",
       "      <td>image_1527.jpg</td>\n",
       "      <td>ABORTED GF Sorry I couldn't be there for you a...</td>\n",
       "      <td>image_2.jpg</td>\n",
       "    </tr>\n",
       "    <tr>\n",
       "      <th>3</th>\n",
       "      <td>https://pics.astrologymemes.com/modi-makes-bla...</td>\n",
       "      <td>image_2773.png</td>\n",
       "      <td>MODI MAKES BLACK mm. MONEY DISAPPEAR $42602 RE...</td>\n",
       "      <td>image_3.png</td>\n",
       "    </tr>\n",
       "    <tr>\n",
       "      <th>4</th>\n",
       "      <td>https://pics.loveforquotes.com/doesnt-believe-...</td>\n",
       "      <td>image_3620.png</td>\n",
       "      <td>Doesn't believe in Climate Change Believes in ...</td>\n",
       "      <td>image_4.png</td>\n",
       "    </tr>\n",
       "  </tbody>\n",
       "</table>\n",
       "</div>"
      ],
      "text/plain": [
       "                                                 url        img_name  \\\n",
       "0                    https://i.imgur.com/flqeDoU.png  image_6149.png   \n",
       "1  https://www.soumo.eu/wp-content/uploads/2018/0...  image_2511.jpg   \n",
       "2  https://i2.wp.com/www.wehuntedthemammoth.com/w...  image_1527.jpg   \n",
       "3  https://pics.astrologymemes.com/modi-makes-bla...  image_2773.png   \n",
       "4  https://pics.loveforquotes.com/doesnt-believe-...  image_3620.png   \n",
       "\n",
       "                                               memes new_image_name  \n",
       "0  This is Bill. Bill is on Facebook. Bill doesn'...    image_0.png  \n",
       "1  TOP 4 WISHES: 1. To earn money without working...    image_1.jpg  \n",
       "2  ABORTED GF Sorry I couldn't be there for you a...    image_2.jpg  \n",
       "3  MODI MAKES BLACK mm. MONEY DISAPPEAR $42602 RE...    image_3.png  \n",
       "4  Doesn't believe in Climate Change Believes in ...    image_4.png  "
      ]
     },
     "execution_count": 186,
     "metadata": {},
     "output_type": "execute_result"
    }
   ],
   "source": [
    "# new_d['img_name'] = [for ]\n",
    "# im = [im.split('.')[-1] for im  in new_d.img_name]\n",
    "img_names = []\n",
    "for idx in range(len(new_d.img_name)): \n",
    "    ext = new_d.img_name[idx].split('.')[-1]\n",
    "    name = 'image_{}.{}'.format(idx, ext)\n",
    "    img_names.append(name)\n",
    "\n",
    "new_d['new_image_name'] = img_names\n",
    "new_d.head()"
   ]
  },
  {
   "cell_type": "code",
   "execution_count": 188,
   "id": "7445a8ad-69b2-4565-ad8a-d918b892e228",
   "metadata": {},
   "outputs": [
    {
     "name": "stdout",
     "output_type": "stream",
     "text": [
      "operation complete\n"
     ]
    }
   ],
   "source": [
    "import os \n",
    "for idx in range(len(new_d.img_name)):\n",
    "    url = os.path.join('images',new_d.img_name[idx])\n",
    "    readIm = cv2.imread(url)\n",
    "    cv2.imwrite(os.path.join('new_image', new_d.new_image_name[idx]), readIm)\n",
    "\n",
    "print('operation complete')"
   ]
  },
  {
   "cell_type": "code",
   "execution_count": 192,
   "id": "df51dcff-d55d-48c8-990f-41e2b0fcaa6c",
   "metadata": {
    "scrolled": true
   },
   "outputs": [],
   "source": [
    "mm_dd = new_d[['memes', 'new_image_name']]\n",
    "mm_dd.to_csv('sample_meme.csv')"
   ]
  },
  {
   "cell_type": "code",
   "execution_count": 173,
   "id": "91c57ae9-1ce9-4a95-889f-90e2038bb91c",
   "metadata": {},
   "outputs": [
    {
     "name": "stdout",
     "output_type": "stream",
     "text": [
      "130\n"
     ]
    },
    {
     "data": {
      "text/plain": [
       "['TOP 4 WISHES: 1. To earn money without working 2. To be smart without studying 3. To love without being hurt. 4. To eat without getting fat.',\n",
       " \"ABORTED GF Sorry I couldn't be there for you anon my mom had other plans hey! we would have been born on the same day we're like twins! you're not eating healthy  and you look so sad :( would have liked to have lot of kids with you...I could have cooked you a hot meal.. i'll be praying for you\",\n",
       " 'MODI MAKES BLACK mm. MONEY DISAPPEAR $42602 RESERVE BANK OF INDIA 1000 TER GU 51 442602 20E 02494 3 H a foreferes se RESERVE BANK OF INTHA G REEN CENTRAL GOVERN 500 BANS RS500',\n",
       " 'SACRIFICED HIS WEALTH FOR COUNTRY SACRIFICED COUNTRY FOR HER WEALTH',\n",
       " 'Follow Andrew J Abernathy ( Follow ) - @ajabernathy WHAT COULD HAVE TURNED THE TABLES?! shutterstock nutterstock shuesick shutterstock HALOS shutterstock 2:35 PM - 20 Nov 2017',\n",
       " '*if Jesus had a girlfriend* \"I just find it funny how you \"died\" for 3 days... I must look stupid huh?\" POSLO.com The Internet Scavengers',\n",
       " 'I PRAY TO OUR LORD AND SAVIOUR TO BLESS THIS MELON imgflip.com',\n",
       " 'Great grandmother has been accidentally praying to a Lord of the Rings figurine for years INDY100.COM',\n",
       " 'JESUS AND THE COLONEL MC memecenter.com/greentree',\n",
       " 'me after taking one feminist theory class -Amen -Amen A-woman']"
      ]
     },
     "execution_count": 173,
     "metadata": {},
     "output_type": "execute_result"
    }
   ],
   "source": [
    "key_index = ['pray', 'spirit', 'jesus', 'heaven', 'angel' , 'christian' , 'divine', 'sunday', 'bible', 'church' 'sermon',  \"Divine\",\n",
    "    \"blessings\",\"amen\", \"miracles\", \"halos\", \"praise\", \"hallelujah\", \"sermon\", \"angelic\", \"sacrament\",\n",
    "    \"grace\", \"scriptures\", \"messiah\",  \"salvation\", \"gabriel\", \"resurrection\",  \"parables\",  \"faithful\",  \"commandment\",  \"redemption\" , \n",
    "            \"eternal\",\"heavenly\",\"sacrifice\",  \"worship\", \"guidance\",  \"savior\", \"devotion\",\"biblical\", \"spiritual\",\"benediction\", \"repentance\", \"covenant\",\n",
    "    \"testament\", \"devine\", \"ministry\", \"prayer\", \"baptism\", \"communion\", \"messiah\", \"pilgrimage\", 'money']\n",
    "memes = []\n",
    "\n",
    "for text in dataset.text_corrected.to_list():\n",
    "    for key in key_index:\n",
    "        if key in str(text).lower():\n",
    "            memes.append(text)\n",
    "memes = list(set(memes))\n",
    "\n",
    "            \n",
    "\n",
    "print(len(memes))\n",
    "memes[:10]"
   ]
  },
  {
   "cell_type": "code",
   "execution_count": 143,
   "id": "7cd23bc6-11e4-4742-a12c-2d4c422f9707",
   "metadata": {},
   "outputs": [],
   "source": [
    "# indexes = []\n",
    "# for m in memes:\n",
    "#     d = dataset[dataset.text_corrected  == m]\n",
    "#     # print(d.index[0])\n",
    "#     indexes.append(d.index[0])\n",
    "\n",
    "# print(indexes)"
   ]
  },
  {
   "cell_type": "code",
   "execution_count": 142,
   "id": "22dff41c-73da-4b63-a3ca-296a0def85bf",
   "metadata": {},
   "outputs": [],
   "source": [
    "# data_diction={\n",
    "#     'url': [], \n",
    "#     'img_name':[], \n",
    "#     'memes':[]\n",
    "# }\n",
    "# for key in indexes: \n",
    "#     data = dataset.iloc[dataset.index[key]]\n",
    "#     data_diction['url'].append(data.image_url)\n",
    "#     data_diction['img_name'].append(data.image_name)\n",
    "#     data_diction['memes'].append(data.text_corrected)\n",
    "\n",
    "# data_diction.keys()"
   ]
  },
  {
   "cell_type": "code",
   "execution_count": 167,
   "id": "306bc13d-4fce-4c4f-afe9-60e96a033bfa",
   "metadata": {
    "scrolled": true
   },
   "outputs": [
    {
     "data": {
      "text/plain": [
       "array([[[ 96,  98, 128],\n",
       "        [ 96,  98, 128],\n",
       "        [ 96,  98, 128],\n",
       "        ...,\n",
       "        [ 99,  97,  89],\n",
       "        [ 98,  96,  88],\n",
       "        [ 96,  97,  88]],\n",
       "\n",
       "       [[ 97,  99, 129],\n",
       "        [ 97,  99, 129],\n",
       "        [ 97,  99, 129],\n",
       "        ...,\n",
       "        [ 99,  97,  89],\n",
       "        [ 98,  96,  88],\n",
       "        [ 96,  97,  88]],\n",
       "\n",
       "       [[ 97,  99, 129],\n",
       "        [ 97,  99, 129],\n",
       "        [ 97,  99, 129],\n",
       "        ...,\n",
       "        [ 99,  97,  89],\n",
       "        [ 98,  96,  88],\n",
       "        [ 96,  97,  88]],\n",
       "\n",
       "       ...,\n",
       "\n",
       "       [[ 55,  78, 146],\n",
       "        [ 53,  79, 145],\n",
       "        [ 49,  77, 141],\n",
       "        ...,\n",
       "        [ 47,  74, 138],\n",
       "        [ 47,  74, 138],\n",
       "        [ 46,  73, 137]],\n",
       "\n",
       "       [[ 55,  77, 155],\n",
       "        [ 54,  78, 154],\n",
       "        [ 51,  78, 152],\n",
       "        ...,\n",
       "        [ 48,  75, 139],\n",
       "        [ 48,  75, 139],\n",
       "        [ 47,  74, 138]],\n",
       "\n",
       "       [[ 52,  74, 156],\n",
       "        [ 49,  74, 154],\n",
       "        [ 47,  73, 150],\n",
       "        ...,\n",
       "        [ 48,  75, 139],\n",
       "        [ 48,  75, 139],\n",
       "        [ 48,  75, 139]]], dtype=uint8)"
      ]
     },
     "execution_count": 167,
     "metadata": {},
     "output_type": "execute_result"
    }
   ],
   "source": [
    "import os \n",
    "url = os.path.join('images', dataset.image_name[0])\n",
    "cv2.imread(url)"
   ]
  },
  {
   "cell_type": "code",
   "execution_count": null,
   "id": "f657c947-cfe7-40ff-ace1-193f66f14f8b",
   "metadata": {},
   "outputs": [],
   "source": []
  },
  {
   "cell_type": "code",
   "execution_count": null,
   "id": "656fb2e5-ccea-462f-b5b3-7572dcfe369a",
   "metadata": {},
   "outputs": [],
   "source": []
  },
  {
   "cell_type": "code",
   "execution_count": null,
   "id": "146e2ad8-c2fd-479a-a789-eac6e45e14a2",
   "metadata": {},
   "outputs": [],
   "source": []
  },
  {
   "cell_type": "code",
   "execution_count": null,
   "id": "98662ba3-f8dc-4364-91cf-fe26613ca470",
   "metadata": {},
   "outputs": [],
   "source": []
  },
  {
   "cell_type": "code",
   "execution_count": null,
   "id": "fd919e80-61b5-4dfd-825f-b6e29f35f69b",
   "metadata": {},
   "outputs": [],
   "source": []
  },
  {
   "cell_type": "code",
   "execution_count": null,
   "id": "727140d2-9a0b-4b6e-b975-4a0e3774caff",
   "metadata": {},
   "outputs": [],
   "source": []
  },
  {
   "cell_type": "code",
   "execution_count": null,
   "id": "19714739-b55b-430e-894d-80c3ed5075e4",
   "metadata": {},
   "outputs": [],
   "source": []
  },
  {
   "cell_type": "code",
   "execution_count": 60,
   "id": "2d11f0e3-2c67-4d32-b9fa-885308682fc5",
   "metadata": {},
   "outputs": [],
   "source": [
    "# dataset.image_url[3]"
   ]
  },
  {
   "cell_type": "code",
   "execution_count": 58,
   "id": "cde6aabc-d6da-46ba-98f9-c78c2a2ecf39",
   "metadata": {
    "scrolled": true
   },
   "outputs": [],
   "source": [
    "\n",
    "# def get_image_online(img):\n",
    "\n",
    "#     try:\n",
    "#         header= {'User-Agent': 'Mozilla/5.0 (X11; Linux x86_64) ' \n",
    "#           'AppleWebKit/537.11 (KHTML, like Gecko) '\n",
    "#           'Chrome/23.0.1271.64 Safari/537.11',\n",
    "#           'Accept': 'text/html,application/xhtml+xml,application/xml;q=0.9,*/*;q=0.8',\n",
    "#           'Accept-Charset': 'ISO-8859-1,utf-8;q=0.7,*;q=0.3',\n",
    "#           'Accept-Encoding': 'none',\n",
    "#           'Accept-Language': 'en-US,en;q=0.8',\n",
    "#           'Connection': 'keep-alive'}\n",
    "    \n",
    "#         req = urllib.request.Request(url=img, headers=header) \n",
    "#         image = urllib.request.urlopen(req).read()\n",
    "#         image = np.asarray(bytearray(image), dtype='uint8')\n",
    "#         image = cv2.imdecode(image, cv2.IMREAD_COLOR)\n",
    "#         # print(image.shape)\n",
    "#         # image  = cv2.resize(image, (400, 400))\n",
    "#         # plt.imshow(image)\n",
    "        \n",
    "#         return image\n",
    "        \n",
    "#     except Exception:\n",
    "#         pass\n",
    "        \n",
    "    \n",
    "\n",
    "# img = dataset.image_url[3]\n",
    "# im = get_image_online(img)"
   ]
  },
  {
   "cell_type": "code",
   "execution_count": null,
   "id": "8b72c3b1-b520-4fb2-bbc4-ce3b79758d54",
   "metadata": {},
   "outputs": [],
   "source": []
  },
  {
   "cell_type": "code",
   "execution_count": 62,
   "id": "e2a1d203-a1d9-471f-9339-7fa1bf50651f",
   "metadata": {},
   "outputs": [],
   "source": [
    "# plt.imshow(im)"
   ]
  }
 ],
 "metadata": {
  "kernelspec": {
   "display_name": "Python 3 (ipykernel)",
   "language": "python",
   "name": "python3"
  },
  "language_info": {
   "codemirror_mode": {
    "name": "ipython",
    "version": 3
   },
   "file_extension": ".py",
   "mimetype": "text/x-python",
   "name": "python",
   "nbconvert_exporter": "python",
   "pygments_lexer": "ipython3",
   "version": "3.9.5"
  }
 },
 "nbformat": 4,
 "nbformat_minor": 5
}
