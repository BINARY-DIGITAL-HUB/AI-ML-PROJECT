{
 "cells": [
  {
   "cell_type": "code",
   "execution_count": null,
   "id": "2f9fb510",
   "metadata": {},
   "outputs": [],
   "source": []
  },
  {
   "cell_type": "code",
   "execution_count": 15,
   "id": "4ed36c00",
   "metadata": {},
   "outputs": [],
   "source": [
    "import numpy as np\n",
    "from IPython.display import display, clear_output\n",
    "import time\n",
    "import matplotlib.pyplot as plt\n",
    "\n",
    "def gradient_decent(x, y, epochs=100): \n",
    "    m_current = b_current = 0 \n",
    "    size = len(x)\n",
    "    learning_rate = 0.01\n",
    "    \n",
    "    \n",
    "    plt.plot(x, y)\n",
    "    \n",
    "    for epoch in range(epochs): \n",
    "        \n",
    "        y_predict =  (m_current * x)  + b_current \n",
    "#         print(f'Prediction {y_predict}')\n",
    "        \n",
    "        #error\n",
    "        error = (1/size) * sum([(yi*yi) for  yi in (y - y_predict)])\n",
    "#         print(f'Error  {error}')\n",
    "#         print(f'Errors {[(yi*yi) for  yi in (y - y_predict)]}')\n",
    "    \n",
    "        #change in m and b \n",
    "        m_change = -(2/size) * sum(x * (y-y_predict))\n",
    "        b_change = -(2/size) * sum((y-y_predict))\n",
    "        \n",
    "        # learning rate .. \n",
    "        m_current = m_current - learning_rate * m_change\n",
    "        b_current = b_current - learning_rate * b_change\n",
    "        \n",
    "        clear_output(wait=True)\n",
    "        output = f'Epoch {epoch} M: {m_current} | B: {b_current} | Error: {error}'\n",
    "#         print(output)\n",
    "        display(output)\n",
    "        \n",
    "        plt.show()\n",
    "        time.sleep(0.005)\n",
    "#         print('____________________________________________________')\n",
    "        \n",
    "        \n",
    "        \n",
    "        \n",
    "    return m_current, b_current, error\n",
    "\n",
    "\n",
    "    \n",
    "    \n",
    "\n"
   ]
  },
  {
   "cell_type": "code",
   "execution_count": 16,
   "id": "677f13c2",
   "metadata": {},
   "outputs": [
    {
     "data": {
      "text/plain": [
       "'Epoch 999 M: 2.0144924396687984 | B: 2.9379549890323364 | Error: 0.0007462020852823846'"
      ]
     },
     "metadata": {},
     "output_type": "display_data"
    },
    {
     "data": {
      "text/plain": [
       "(2.0144924396687984, 2.9379549890323364, 0.0007462020852823846)"
      ]
     },
     "execution_count": 16,
     "metadata": {},
     "output_type": "execute_result"
    }
   ],
   "source": [
    "x = np.array([1,2,3,4,5,6])\n",
    "y = np.array([5,7,9,11,13,15])\n",
    "\n",
    "gradient_decent(x, y, 1000)"
   ]
  },
  {
   "cell_type": "code",
   "execution_count": 21,
   "id": "d417c04d",
   "metadata": {},
   "outputs": [
    {
     "data": {
      "text/plain": [
       "[PhysicalDevice(name='/physical_device:CPU:0', device_type='CPU')]"
      ]
     },
     "execution_count": 21,
     "metadata": {},
     "output_type": "execute_result"
    }
   ],
   "source": [
    "# plt.plot(x,y)\n",
    "\n",
    "import tensorflow as tf \n",
    "\n",
    "tf.config.experimental.list_physical_devices()"
   ]
  }
 ],
 "metadata": {
  "kernelspec": {
   "display_name": "Python 3 (ipykernel)",
   "language": "python",
   "name": "python3"
  },
  "language_info": {
   "codemirror_mode": {
    "name": "ipython",
    "version": 3
   },
   "file_extension": ".py",
   "mimetype": "text/x-python",
   "name": "python",
   "nbconvert_exporter": "python",
   "pygments_lexer": "ipython3",
   "version": "3.9.5"
  }
 },
 "nbformat": 4,
 "nbformat_minor": 5
}
