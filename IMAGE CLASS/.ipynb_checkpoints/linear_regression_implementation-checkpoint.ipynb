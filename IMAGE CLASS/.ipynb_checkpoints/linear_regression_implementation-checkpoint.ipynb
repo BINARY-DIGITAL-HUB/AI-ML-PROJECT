{
 "cells": [
  {
   "cell_type": "code",
   "execution_count": null,
   "id": "2f9fb510",
   "metadata": {},
   "outputs": [],
   "source": []
  },
  {
   "cell_type": "code",
   "execution_count": 13,
   "id": "4ed36c00",
   "metadata": {},
   "outputs": [],
   "source": [
    "import numpy as np\n",
    "from IPython.display import display, clear_output\n",
    "import time\n",
    "import matplotlib.pyplot as plt\n",
    "\n",
    "def gradient_decent(x, y, epochs=100): \n",
    "    m_current = b_current = 0 \n",
    "    size = len(x)\n",
    "    learning_rate = 0.01\n",
    "    \n",
    "    \n",
    "    plt.plot(x, y)\n",
    "    \n",
    "    for epoch in range(epochs): \n",
    "        \n",
    "        y_predict =  (m_current * x)  + b_current \n",
    "#         print(f'Prediction {y_predict}')\n",
    "        \n",
    "        #error\n",
    "        error = (1/size) * sum([(yi*yi) for  yi in (y - y_predict)])\n",
    "#         print(f'Error  {error}')\n",
    "#         print(f'Errors {[(yi*yi) for  yi in (y - y_predict)]}')\n",
    "    \n",
    "        #change in m and b \n",
    "        m_change = -(2/size) * sum(x * (y-y_predict))\n",
    "        b_change = -(2/size) * sum((y-y_predict))\n",
    "        \n",
    "        # learning rate .. \n",
    "        m_current = m_current - learning_rate * m_change\n",
    "        b_current = b_current - learning_rate * b_change\n",
    "        \n",
    "        clear_output(wait=True)\n",
    "        output = f'Epoch {epoch} M: {m_current} | B: {b_current} | Error: {error}'\n",
    "#         print(output)\n",
    "        display(output)\n",
    "        \n",
    "        plt.show()\n",
    "        time.sleep(0.5)\n",
    "#         print('____________________________________________________')\n",
    "        \n",
    "        \n",
    "        \n",
    "        \n",
    "    return m_current, b_current, error\n",
    "\n",
    "\n",
    "    \n",
    "    \n",
    "\n"
   ]
  },
  {
   "cell_type": "code",
   "execution_count": 14,
   "id": "677f13c2",
   "metadata": {},
   "outputs": [
    {
     "data": {
      "text/plain": [
       "'Epoch 8 M: 2.4629034259758242 | B: 0.6572705423344175 | Error: 1.2797592779006366'"
      ]
     },
     "metadata": {},
     "output_type": "display_data"
    },
    {
     "data": {
      "image/png": "[encoded data removed]",
      "text/plain": [
       "<Figure size 640x480 with 1 Axes>"
      ]
     },
     "metadata": {},
     "output_type": "display_data"
    },
    {
     "ename": "KeyboardInterrupt",
     "evalue": "",
     "output_type": "error",
     "traceback": [
      "\u001b[1;31m---------------------------------------------------------------------------\u001b[0m",
      "\u001b[1;31mKeyboardInterrupt\u001b[0m                         Traceback (most recent call last)",
      "Cell \u001b[1;32mIn [14], line 4\u001b[0m\n\u001b[0;32m      1\u001b[0m x \u001b[38;5;241m=\u001b[39m np\u001b[38;5;241m.\u001b[39marray([\u001b[38;5;241m1\u001b[39m,\u001b[38;5;241m2\u001b[39m,\u001b[38;5;241m3\u001b[39m,\u001b[38;5;241m4\u001b[39m,\u001b[38;5;241m5\u001b[39m,\u001b[38;5;241m6\u001b[39m])\n\u001b[0;32m      2\u001b[0m y \u001b[38;5;241m=\u001b[39m np\u001b[38;5;241m.\u001b[39marray([\u001b[38;5;241m5\u001b[39m,\u001b[38;5;241m7\u001b[39m,\u001b[38;5;241m9\u001b[39m,\u001b[38;5;241m11\u001b[39m,\u001b[38;5;241m13\u001b[39m,\u001b[38;5;241m15\u001b[39m])\n\u001b[1;32m----> 4\u001b[0m \u001b[43mgradient_decent\u001b[49m\u001b[43m(\u001b[49m\u001b[43mx\u001b[49m\u001b[43m,\u001b[49m\u001b[43m \u001b[49m\u001b[43my\u001b[49m\u001b[43m,\u001b[49m\u001b[43m \u001b[49m\u001b[38;5;241;43m1000\u001b[39;49m\u001b[43m)\u001b[49m\n",
      "Cell \u001b[1;32mIn [13], line 38\u001b[0m, in \u001b[0;36mgradient_decent\u001b[1;34m(x, y, epochs)\u001b[0m\n\u001b[0;32m     36\u001b[0m         plt\u001b[38;5;241m.\u001b[39mplot(x, y_predict)\n\u001b[0;32m     37\u001b[0m         plt\u001b[38;5;241m.\u001b[39mshow()\n\u001b[1;32m---> 38\u001b[0m         \u001b[43mtime\u001b[49m\u001b[38;5;241;43m.\u001b[39;49m\u001b[43msleep\u001b[49m\u001b[43m(\u001b[49m\u001b[38;5;241;43m0.5\u001b[39;49m\u001b[43m)\u001b[49m\n\u001b[0;32m     39\u001b[0m \u001b[38;5;66;03m#         print('____________________________________________________')\u001b[39;00m\n\u001b[0;32m     44\u001b[0m     \u001b[38;5;28;01mreturn\u001b[39;00m m_current, b_current, error\n",
      "\u001b[1;31mKeyboardInterrupt\u001b[0m: "
     ]
    }
   ],
   "source": [
    "x = np.array([1,2,3,4,5,6])\n",
    "y = np.array([5,7,9,11,13,15])\n",
    "\n",
    "gradient_decent(x, y, 1000)"
   ]
  },
  {
   "cell_type": "code",
   "execution_count": null,
   "id": "a014c519",
   "metadata": {},
   "outputs": [],
   "source": []
  }
 ],
 "metadata": {
  "kernelspec": {
   "display_name": "Python 3 (ipykernel)",
   "language": "python",
   "name": "python3"
  },
  "language_info": {
   "codemirror_mode": {
    "name": "ipython",
    "version": 3
   },
   "file_extension": ".py",
   "mimetype": "text/x-python",
   "name": "python",
   "nbconvert_exporter": "python",
   "pygments_lexer": "ipython3",
   "version": "3.9.5"
  }
 },
 "nbformat": 4,
 "nbformat_minor": 5
}
