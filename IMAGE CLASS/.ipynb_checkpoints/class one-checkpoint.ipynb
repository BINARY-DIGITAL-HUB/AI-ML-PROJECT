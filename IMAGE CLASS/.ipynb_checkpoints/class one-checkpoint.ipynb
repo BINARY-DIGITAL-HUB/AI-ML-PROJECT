{
 "cells": [
  {
   "cell_type": "markdown",
   "id": "ee657265",
   "metadata": {},
   "source": [
    "## installing open cv"
   ]
  },
  {
   "cell_type": "code",
   "execution_count": 1,
   "id": "fab40437",
   "metadata": {
    "scrolled": true
   },
   "outputs": [],
   "source": [
    "# !pip install opencv-python"
   ]
  },
  {
   "cell_type": "code",
   "execution_count": 2,
   "id": "35d33dd0",
   "metadata": {
    "scrolled": true
   },
   "outputs": [
    {
     "data": {
      "text/plain": [
       "['.ipynb_checkpoints',\n",
       " 'class one.ipynb',\n",
       " 'imggg.jpeg',\n",
       " 'imgs.jpeg',\n",
       " 'mini.jpeg']"
      ]
     },
     "execution_count": 2,
     "metadata": {},
     "output_type": "execute_result"
    }
   ],
   "source": [
    "import os\n",
    "os.listdir()"
   ]
  },
  {
   "cell_type": "code",
   "execution_count": 3,
   "id": "d547ecd7",
   "metadata": {
    "scrolled": true
   },
   "outputs": [],
   "source": [
    "import cv2\n",
    "\n",
    "img = cv2.imread('imggg.jpeg', cv2.IMREAD_COLOR)\n",
    "\n",
    "cv2.imshow('image', img )\n",
    "key_pressed = cv2.waitKey(0)\n",
    "\n",
    "if key_pressed == 27:\n",
    "    cv2.destroyAllWindows()\n",
    "elif key_pressed == ord('s'):\n",
    "    print('image is saveed')"
   ]
  },
  {
   "cell_type": "code",
   "execution_count": null,
   "id": "4b8dd7f3",
   "metadata": {},
   "outputs": [],
   "source": []
  },
  {
   "cell_type": "code",
   "execution_count": null,
   "id": "e45ad1ec",
   "metadata": {},
   "outputs": [],
   "source": []
  }
 ],
 "metadata": {
  "kernelspec": {
   "display_name": "Python 3 (ipykernel)",
   "language": "python",
   "name": "python3"
  },
  "language_info": {
   "codemirror_mode": {
    "name": "ipython",
    "version": 3
   },
   "file_extension": ".py",
   "mimetype": "text/x-python",
   "name": "python",
   "nbconvert_exporter": "python",
   "pygments_lexer": "ipython3",
   "version": "3.9.5"
  }
 },
 "nbformat": 4,
 "nbformat_minor": 5
}
