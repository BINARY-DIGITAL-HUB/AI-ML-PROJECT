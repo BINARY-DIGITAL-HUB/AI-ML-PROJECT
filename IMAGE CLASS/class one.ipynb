{
 "cells": [
  {
   "cell_type": "markdown",
   "id": "60fa7006",
   "metadata": {},
   "source": [
    "## image loading using open cv"
   ]
  },
  {
   "cell_type": "code",
   "execution_count": 1,
   "id": "71f3f7a9",
   "metadata": {
    "scrolled": true
   },
   "outputs": [],
   "source": [
    "# !pip install opencv-python"
   ]
  },
  {
   "cell_type": "code",
   "execution_count": 2,
   "id": "fe50bd92",
   "metadata": {
    "scrolled": true
   },
   "outputs": [
    {
     "data": {
      "text/plain": [
       "['.ipynb_checkpoints',\n",
       " 'class one.ipynb',\n",
       " 'imggg.jpeg',\n",
       " 'imgs.jpeg',\n",
       " 'mini.jpeg']"
      ]
     },
     "execution_count": 2,
     "metadata": {},
     "output_type": "execute_result"
    }
   ],
   "source": [
    "import os\n",
    "os.listdir()"
   ]
  },
  {
   "cell_type": "code",
   "execution_count": 3,
   "id": "9d88b682",
   "metadata": {
    "scrolled": true
   },
   "outputs": [],
   "source": [
    "import cv2\n",
    "\n",
    "img = cv2.imread('imggg.jpeg', cv2.IMREAD_COLOR)\n",
    "\n",
    "cv2.imshow('image', img )\n",
    "key_pressed = cv2.waitKey(0)\n",
    "\n",
    "if key_pressed == 27:\n",
    "    cv2.destroyAllWindows()\n",
    "elif key_pressed == ord('s'):\n",
    "    print('image is saveed')"
   ]
  },
  {
   "cell_type": "code",
   "execution_count": 4,
   "id": "6a5d0442",
   "metadata": {},
   "outputs": [],
   "source": [
    "## video loading using open cv"
   ]
  },
  {
   "cell_type": "code",
   "execution_count": 1,
   "id": "dcbe28d9",
   "metadata": {},
   "outputs": [],
   "source": [
    "import cv2\n",
    "\n",
    "cam = cv2.VideoCapture(0)\n",
    "\n",
    "while(True): \n",
    "    status, frame = cam.read()\n",
    "    \n",
    "    cv2.imshow('video', frame)\n",
    "    \n",
    "    key_pre = cv2.waitKey(1) & 0xFF \n",
    "    \n",
    "    if  key_pre == ord('q'): \n",
    "        break\n",
    "        \n",
    "cam.release()\n",
    "cv2.destroyAllWindows()       "
   ]
  },
  {
   "cell_type": "code",
   "execution_count": null,
   "id": "c025c12d",
   "metadata": {},
   "outputs": [],
   "source": [
    "#  drawing shape using open ocv\n",
    "\n"
   ]
  }
 ],
 "metadata": {
  "kernelspec": {
   "display_name": "Python 3 (ipykernel)",
   "language": "python",
   "name": "python3"
  },
  "language_info": {
   "codemirror_mode": {
    "name": "ipython",
    "version": 3
   },
   "file_extension": ".py",
   "mimetype": "text/x-python",
   "name": "python",
   "nbconvert_exporter": "python",
   "pygments_lexer": "ipython3",
   "version": "3.9.5"
  }
 },
 "nbformat": 4,
 "nbformat_minor": 5
}
