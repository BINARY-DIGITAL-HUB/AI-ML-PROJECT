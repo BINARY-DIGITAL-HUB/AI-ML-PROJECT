{
 "cells": [
  {
   "cell_type": "markdown",
   "id": "7901ef0e",
   "metadata": {},
   "source": [
    "\n",
    "\n",
    "<h1 align='Center' style='color:red'> Heart Disease Prediction and Machine learning Model</h>\n",
    "<img src=\"heart_image.jpg\"  align='center' alt=\"Alternative text\" />"
   ]
  },
  {
   "cell_type": "markdown",
   "id": "f59ecad4",
   "metadata": {},
   "source": [
    "Dataset link: https://www.kaggle.com/datasets/kamilpytlak/personal-key-indicators-of-heart-disease"
   ]
  },
  {
   "cell_type": "markdown",
   "id": "054b715a",
   "metadata": {},
   "source": [
    "According to the World Health Organization (WHO), heart disease, also known as cardiovascular disease, \n",
    "is one of the leading causes of death globally. This is equivalent to about 31% of global death.\n",
    "Few risk factors for heart diseases include high blood pressure, high cholesterol, smoking, AlcoholDrinking, Kidney diseases, obesity, stoke, diabetes and others. "
   ]
  },
  {
   "cell_type": "markdown",
   "id": "e7689386",
   "metadata": {},
   "source": [
    "importing Necessary Libraries"
   ]
  },
  {
   "cell_type": "code",
   "execution_count": 3,
   "id": "167dc2da",
   "metadata": {},
   "outputs": [
    {
     "name": "stdout",
     "output_type": "stream",
     "text": [
      "Requirement already satisfied: imblearn in c:\\programdata\\anaconda3\\lib\\site-packages (0.0)\n",
      "Requirement already satisfied: imbalanced-learn in c:\\programdata\\anaconda3\\lib\\site-packages (from imblearn) (0.10.1)\n",
      "Requirement already satisfied: joblib>=1.1.1 in c:\\programdata\\anaconda3\\lib\\site-packages (from imbalanced-learn->imblearn) (1.2.0)\n",
      "Requirement already satisfied: scikit-learn>=1.0.2 in c:\\programdata\\anaconda3\\lib\\site-packages (from imbalanced-learn->imblearn) (1.0.2)\n",
      "Requirement already satisfied: threadpoolctl>=2.0.0 in c:\\programdata\\anaconda3\\lib\\site-packages (from imbalanced-learn->imblearn) (2.2.0)\n",
      "Requirement already satisfied: scipy>=1.3.2 in c:\\programdata\\anaconda3\\lib\\site-packages (from imbalanced-learn->imblearn) (1.7.3)\n",
      "Requirement already satisfied: numpy>=1.17.3 in c:\\programdata\\anaconda3\\lib\\site-packages (from imbalanced-learn->imblearn) (1.20.3)\n"
     ]
    },
    {
     "name": "stderr",
     "output_type": "stream",
     "text": [
      "WARNING: You are using pip version 22.0.4; however, version 23.1.1 is available.\n",
      "You should consider upgrading via the 'C:\\ProgramData\\Anaconda3\\python.exe -m pip install --upgrade pip' command.\n"
     ]
    }
   ],
   "source": [
    "!pip install imblearn"
   ]
  },
  {
   "cell_type": "code",
   "execution_count": 4,
   "id": "d1d95e41",
   "metadata": {},
   "outputs": [
    {
     "name": "stdout",
     "output_type": "stream",
     "text": [
      "Requirement already satisfied: seaborn in c:\\programdata\\anaconda3\\lib\\site-packages (0.11.2)\n",
      "Requirement already satisfied: pandas>=0.23 in c:\\programdata\\anaconda3\\lib\\site-packages (from seaborn) (1.4.1)\n",
      "Requirement already satisfied: numpy>=1.15 in c:\\programdata\\anaconda3\\lib\\site-packages (from seaborn) (1.20.3)\n",
      "Requirement already satisfied: scipy>=1.0 in c:\\programdata\\anaconda3\\lib\\site-packages (from seaborn) (1.7.3)\n",
      "Requirement already satisfied: matplotlib>=2.2 in c:\\programdata\\anaconda3\\lib\\site-packages (from seaborn) (3.5.1)\n",
      "Requirement already satisfied: pillow>=6.2.0 in c:\\programdata\\anaconda3\\lib\\site-packages (from matplotlib>=2.2->seaborn) (9.0.1)\n",
      "Requirement already satisfied: fonttools>=4.22.0 in c:\\programdata\\anaconda3\\lib\\site-packages (from matplotlib>=2.2->seaborn) (4.25.0)\n",
      "Requirement already satisfied: cycler>=0.10 in c:\\programdata\\anaconda3\\lib\\site-packages (from matplotlib>=2.2->seaborn) (0.11.0)\n",
      "Requirement already satisfied: packaging>=20.0 in c:\\programdata\\anaconda3\\lib\\site-packages (from matplotlib>=2.2->seaborn) (21.3)\n",
      "Requirement already satisfied: pyparsing>=2.2.1 in c:\\programdata\\anaconda3\\lib\\site-packages (from matplotlib>=2.2->seaborn) (3.0.4)\n",
      "Requirement already satisfied: python-dateutil>=2.7 in c:\\programdata\\anaconda3\\lib\\site-packages (from matplotlib>=2.2->seaborn) (2.8.2)\n",
      "Requirement already satisfied: kiwisolver>=1.0.1 in c:\\programdata\\anaconda3\\lib\\site-packages (from matplotlib>=2.2->seaborn) (1.3.2)\n",
      "Requirement already satisfied: pytz>=2020.1 in c:\\programdata\\anaconda3\\lib\\site-packages (from pandas>=0.23->seaborn) (2021.3)\n",
      "Requirement already satisfied: six>=1.5 in c:\\programdata\\anaconda3\\lib\\site-packages (from python-dateutil>=2.7->matplotlib>=2.2->seaborn) (1.16.0)\n"
     ]
    },
    {
     "name": "stderr",
     "output_type": "stream",
     "text": [
      "WARNING: You are using pip version 22.0.4; however, version 23.1.1 is available.\n",
      "You should consider upgrading via the 'C:\\ProgramData\\Anaconda3\\python.exe -m pip install --upgrade pip' command.\n"
     ]
    }
   ],
   "source": [
    "!pip install seaborn"
   ]
  },
  {
   "cell_type": "code",
   "execution_count": 1,
   "id": "b949c00b",
   "metadata": {
    "tags": []
   },
   "outputs": [],
   "source": [
    "import warnings \n",
    "warnings.filterwarnings('ignore')\n",
    "\n",
    "#moduel for data importation and preprocessing \n",
    "import os\n",
    "import pandas as pd \n",
    "import matplotlib.pyplot as plt \n",
    "import seaborn as sn \n",
    "import numpy as np \n",
    "from sklearn import model_selection\n",
    "from sklearn.preprocessing import MinMaxScaler\n",
    "\n",
    "#import neccessary module for training the machine leanring algorithms  \n",
    "from sklearn.linear_model import LogisticRegression \n",
    "from sklearn.ensemble import RandomForestClassifier, AdaBoostClassifier, GradientBoostingClassifier\n",
    "from sklearn.tree import DecisionTreeClassifier\n",
    "from sklearn.svm import SVC\n",
    "from sklearn.naive_bayes import GaussianNB, MultinomialNB\n",
    "from sklearn import metrics\n",
    "import seaborn as sn\n",
    "import matplotlib.pyplot as plt\n",
    "from sklearn.preprocessing import MinMaxScaler\n",
    "from imblearn.combine import SMOTEENN"
   ]
  },
  {
   "cell_type": "code",
   "execution_count": 2,
   "id": "59d70489",
   "metadata": {
    "scrolled": false,
    "tags": []
   },
   "outputs": [
    {
     "data": {
      "text/plain": [
       "['.ipynb_checkpoints',\n",
       " '.jupyter',\n",
       " 'heart_2020.csv',\n",
       " 'heart_diesease_model.ipynb',\n",
       " 'heart_diesease_model.pdf',\n",
       " 'heart_diesease_model3.ipynb',\n",
       " 'heart_disease_models_final.ipynb',\n",
       " 'heart_disease_model_final...ipynb',\n",
       " 'heart_image.jpg',\n",
       " 'img.png',\n",
       " 'img2.png',\n",
       " 'imm.png',\n",
       " 'Matplotlib Style Gallery.pdf',\n",
       " 'result.docx',\n",
       " 'result.png',\n",
       " 'set-cardiac-patient-card-heart-disease-diagnosis-treatment-heart-attack_269730-929.avif',\n",
       " 'SN report.docx',\n",
       " 'train.csv',\n",
       " 'UNDER SAMPLE AND OVER SAMPLE TECHNIQUES.ipynb',\n",
       " 'Untitled.ipynb']"
      ]
     },
     "execution_count": 2,
     "metadata": {},
     "output_type": "execute_result"
    }
   ],
   "source": [
    "#  file or folder in the current directory\n",
    "os.listdir()"
   ]
  },
  {
   "cell_type": "markdown",
   "id": "afeb71a1",
   "metadata": {},
   "source": [
    "## importing dataset"
   ]
  },
  {
   "cell_type": "code",
   "execution_count": 3,
   "id": "f1a3a8fe",
   "metadata": {
    "tags": []
   },
   "outputs": [
    {
     "data": {
      "text/html": [
       "<div>\n",
       "<style scoped>\n",
       "    .dataframe tbody tr th:only-of-type {\n",
       "        vertical-align: middle;\n",
       "    }\n",
       "\n",
       "    .dataframe tbody tr th {\n",
       "        vertical-align: top;\n",
       "    }\n",
       "\n",
       "    .dataframe thead th {\n",
       "        text-align: right;\n",
       "    }\n",
       "</style>\n",
       "<table border=\"1\" class=\"dataframe\">\n",
       "  <thead>\n",
       "    <tr style=\"text-align: right;\">\n",
       "      <th></th>\n",
       "      <th>HeartDisease</th>\n",
       "      <th>BMI</th>\n",
       "      <th>Smoking</th>\n",
       "      <th>AlcoholDrinking</th>\n",
       "      <th>Stroke</th>\n",
       "      <th>PhysicalHealth</th>\n",
       "      <th>MentalHealth</th>\n",
       "      <th>DiffWalking</th>\n",
       "      <th>Sex</th>\n",
       "      <th>AgeCategory</th>\n",
       "      <th>Race</th>\n",
       "      <th>Diabetic</th>\n",
       "      <th>PhysicalActivity</th>\n",
       "      <th>GenHealth</th>\n",
       "      <th>SleepTime</th>\n",
       "      <th>Asthma</th>\n",
       "      <th>KidneyDisease</th>\n",
       "      <th>SkinCancer</th>\n",
       "    </tr>\n",
       "  </thead>\n",
       "  <tbody>\n",
       "    <tr>\n",
       "      <th>0</th>\n",
       "      <td>No</td>\n",
       "      <td>16.60</td>\n",
       "      <td>Yes</td>\n",
       "      <td>No</td>\n",
       "      <td>No</td>\n",
       "      <td>3.0</td>\n",
       "      <td>30.0</td>\n",
       "      <td>No</td>\n",
       "      <td>Female</td>\n",
       "      <td>55-59</td>\n",
       "      <td>White</td>\n",
       "      <td>Yes</td>\n",
       "      <td>Yes</td>\n",
       "      <td>Very good</td>\n",
       "      <td>5.0</td>\n",
       "      <td>Yes</td>\n",
       "      <td>No</td>\n",
       "      <td>Yes</td>\n",
       "    </tr>\n",
       "    <tr>\n",
       "      <th>1</th>\n",
       "      <td>No</td>\n",
       "      <td>20.34</td>\n",
       "      <td>No</td>\n",
       "      <td>No</td>\n",
       "      <td>Yes</td>\n",
       "      <td>0.0</td>\n",
       "      <td>0.0</td>\n",
       "      <td>No</td>\n",
       "      <td>Female</td>\n",
       "      <td>80 or older</td>\n",
       "      <td>White</td>\n",
       "      <td>No</td>\n",
       "      <td>Yes</td>\n",
       "      <td>Very good</td>\n",
       "      <td>7.0</td>\n",
       "      <td>No</td>\n",
       "      <td>No</td>\n",
       "      <td>No</td>\n",
       "    </tr>\n",
       "    <tr>\n",
       "      <th>2</th>\n",
       "      <td>No</td>\n",
       "      <td>26.58</td>\n",
       "      <td>Yes</td>\n",
       "      <td>No</td>\n",
       "      <td>No</td>\n",
       "      <td>20.0</td>\n",
       "      <td>30.0</td>\n",
       "      <td>No</td>\n",
       "      <td>Male</td>\n",
       "      <td>65-69</td>\n",
       "      <td>White</td>\n",
       "      <td>Yes</td>\n",
       "      <td>Yes</td>\n",
       "      <td>Fair</td>\n",
       "      <td>8.0</td>\n",
       "      <td>Yes</td>\n",
       "      <td>No</td>\n",
       "      <td>No</td>\n",
       "    </tr>\n",
       "    <tr>\n",
       "      <th>3</th>\n",
       "      <td>No</td>\n",
       "      <td>24.21</td>\n",
       "      <td>No</td>\n",
       "      <td>No</td>\n",
       "      <td>No</td>\n",
       "      <td>0.0</td>\n",
       "      <td>0.0</td>\n",
       "      <td>No</td>\n",
       "      <td>Female</td>\n",
       "      <td>75-79</td>\n",
       "      <td>White</td>\n",
       "      <td>No</td>\n",
       "      <td>No</td>\n",
       "      <td>Good</td>\n",
       "      <td>6.0</td>\n",
       "      <td>No</td>\n",
       "      <td>No</td>\n",
       "      <td>Yes</td>\n",
       "    </tr>\n",
       "    <tr>\n",
       "      <th>4</th>\n",
       "      <td>No</td>\n",
       "      <td>23.71</td>\n",
       "      <td>No</td>\n",
       "      <td>No</td>\n",
       "      <td>No</td>\n",
       "      <td>28.0</td>\n",
       "      <td>0.0</td>\n",
       "      <td>Yes</td>\n",
       "      <td>Female</td>\n",
       "      <td>40-44</td>\n",
       "      <td>White</td>\n",
       "      <td>No</td>\n",
       "      <td>Yes</td>\n",
       "      <td>Very good</td>\n",
       "      <td>8.0</td>\n",
       "      <td>No</td>\n",
       "      <td>No</td>\n",
       "      <td>No</td>\n",
       "    </tr>\n",
       "  </tbody>\n",
       "</table>\n",
       "</div>"
      ],
      "text/plain": [
       "  HeartDisease    BMI Smoking AlcoholDrinking Stroke  PhysicalHealth  \\\n",
       "0           No  16.60     Yes              No     No             3.0   \n",
       "1           No  20.34      No              No    Yes             0.0   \n",
       "2           No  26.58     Yes              No     No            20.0   \n",
       "3           No  24.21      No              No     No             0.0   \n",
       "4           No  23.71      No              No     No            28.0   \n",
       "\n",
       "   MentalHealth DiffWalking     Sex  AgeCategory   Race Diabetic  \\\n",
       "0          30.0          No  Female        55-59  White      Yes   \n",
       "1           0.0          No  Female  80 or older  White       No   \n",
       "2          30.0          No    Male        65-69  White      Yes   \n",
       "3           0.0          No  Female        75-79  White       No   \n",
       "4           0.0         Yes  Female        40-44  White       No   \n",
       "\n",
       "  PhysicalActivity  GenHealth  SleepTime Asthma KidneyDisease SkinCancer  \n",
       "0              Yes  Very good        5.0    Yes            No        Yes  \n",
       "1              Yes  Very good        7.0     No            No         No  \n",
       "2              Yes       Fair        8.0    Yes            No         No  \n",
       "3               No       Good        6.0     No            No        Yes  \n",
       "4              Yes  Very good        8.0     No            No         No  "
      ]
     },
     "execution_count": 3,
     "metadata": {},
     "output_type": "execute_result"
    }
   ],
   "source": [
    "# importing the heart diseases dataset from the local repository\n",
    "dataset = pd.read_csv('heart_2020.csv')\n",
    "# showing first 5 rows of datapset \n",
    "dataset.head()"
   ]
  },
  {
   "cell_type": "markdown",
   "id": "f98ab6b4",
   "metadata": {},
   "source": [
    "##  DATA Exploration, Preprocessing, Cleaning and transformation"
   ]
  },
  {
   "cell_type": "code",
   "execution_count": 4,
   "id": "1eed30b0",
   "metadata": {
    "scrolled": true,
    "tags": []
   },
   "outputs": [
    {
     "data": {
      "text/html": [
       "<div>\n",
       "<style scoped>\n",
       "    .dataframe tbody tr th:only-of-type {\n",
       "        vertical-align: middle;\n",
       "    }\n",
       "\n",
       "    .dataframe tbody tr th {\n",
       "        vertical-align: top;\n",
       "    }\n",
       "\n",
       "    .dataframe thead th {\n",
       "        text-align: right;\n",
       "    }\n",
       "</style>\n",
       "<table border=\"1\" class=\"dataframe\">\n",
       "  <thead>\n",
       "    <tr style=\"text-align: right;\">\n",
       "      <th></th>\n",
       "      <th>HeartDisease</th>\n",
       "      <th>BMI</th>\n",
       "      <th>Smoking</th>\n",
       "      <th>AlcoholDrinking</th>\n",
       "      <th>Stroke</th>\n",
       "      <th>PhysicalHealth</th>\n",
       "      <th>MentalHealth</th>\n",
       "      <th>DiffWalking</th>\n",
       "      <th>Sex</th>\n",
       "      <th>AgeCategory</th>\n",
       "      <th>Race</th>\n",
       "      <th>Diabetic</th>\n",
       "      <th>PhysicalActivity</th>\n",
       "      <th>GenHealth</th>\n",
       "      <th>SleepTime</th>\n",
       "      <th>Asthma</th>\n",
       "      <th>KidneyDisease</th>\n",
       "      <th>SkinCancer</th>\n",
       "    </tr>\n",
       "  </thead>\n",
       "  <tbody>\n",
       "    <tr>\n",
       "      <th>64950</th>\n",
       "      <td>No</td>\n",
       "      <td>23.73</td>\n",
       "      <td>Yes</td>\n",
       "      <td>No</td>\n",
       "      <td>No</td>\n",
       "      <td>3.0</td>\n",
       "      <td>21.0</td>\n",
       "      <td>No</td>\n",
       "      <td>Male</td>\n",
       "      <td>45-49</td>\n",
       "      <td>Hispanic</td>\n",
       "      <td>No</td>\n",
       "      <td>Yes</td>\n",
       "      <td>Very good</td>\n",
       "      <td>6.0</td>\n",
       "      <td>No</td>\n",
       "      <td>No</td>\n",
       "      <td>No</td>\n",
       "    </tr>\n",
       "    <tr>\n",
       "      <th>6302</th>\n",
       "      <td>No</td>\n",
       "      <td>31.00</td>\n",
       "      <td>No</td>\n",
       "      <td>No</td>\n",
       "      <td>No</td>\n",
       "      <td>0.0</td>\n",
       "      <td>2.0</td>\n",
       "      <td>No</td>\n",
       "      <td>Female</td>\n",
       "      <td>65-69</td>\n",
       "      <td>White</td>\n",
       "      <td>No</td>\n",
       "      <td>Yes</td>\n",
       "      <td>Very good</td>\n",
       "      <td>7.0</td>\n",
       "      <td>No</td>\n",
       "      <td>No</td>\n",
       "      <td>No</td>\n",
       "    </tr>\n",
       "    <tr>\n",
       "      <th>58424</th>\n",
       "      <td>No</td>\n",
       "      <td>28.90</td>\n",
       "      <td>No</td>\n",
       "      <td>No</td>\n",
       "      <td>No</td>\n",
       "      <td>2.0</td>\n",
       "      <td>0.0</td>\n",
       "      <td>No</td>\n",
       "      <td>Female</td>\n",
       "      <td>25-29</td>\n",
       "      <td>Black</td>\n",
       "      <td>No</td>\n",
       "      <td>Yes</td>\n",
       "      <td>Very good</td>\n",
       "      <td>6.0</td>\n",
       "      <td>No</td>\n",
       "      <td>No</td>\n",
       "      <td>No</td>\n",
       "    </tr>\n",
       "    <tr>\n",
       "      <th>67203</th>\n",
       "      <td>No</td>\n",
       "      <td>26.91</td>\n",
       "      <td>Yes</td>\n",
       "      <td>No</td>\n",
       "      <td>No</td>\n",
       "      <td>14.0</td>\n",
       "      <td>0.0</td>\n",
       "      <td>No</td>\n",
       "      <td>Female</td>\n",
       "      <td>45-49</td>\n",
       "      <td>White</td>\n",
       "      <td>No</td>\n",
       "      <td>No</td>\n",
       "      <td>Very good</td>\n",
       "      <td>8.0</td>\n",
       "      <td>No</td>\n",
       "      <td>No</td>\n",
       "      <td>No</td>\n",
       "    </tr>\n",
       "    <tr>\n",
       "      <th>168114</th>\n",
       "      <td>No</td>\n",
       "      <td>21.63</td>\n",
       "      <td>No</td>\n",
       "      <td>No</td>\n",
       "      <td>No</td>\n",
       "      <td>30.0</td>\n",
       "      <td>0.0</td>\n",
       "      <td>No</td>\n",
       "      <td>Female</td>\n",
       "      <td>80 or older</td>\n",
       "      <td>White</td>\n",
       "      <td>No</td>\n",
       "      <td>No</td>\n",
       "      <td>Good</td>\n",
       "      <td>7.0</td>\n",
       "      <td>No</td>\n",
       "      <td>No</td>\n",
       "      <td>No</td>\n",
       "    </tr>\n",
       "  </tbody>\n",
       "</table>\n",
       "</div>"
      ],
      "text/plain": [
       "       HeartDisease    BMI Smoking AlcoholDrinking Stroke  PhysicalHealth  \\\n",
       "64950            No  23.73     Yes              No     No             3.0   \n",
       "6302             No  31.00      No              No     No             0.0   \n",
       "58424            No  28.90      No              No     No             2.0   \n",
       "67203            No  26.91     Yes              No     No            14.0   \n",
       "168114           No  21.63      No              No     No            30.0   \n",
       "\n",
       "        MentalHealth DiffWalking     Sex  AgeCategory      Race Diabetic  \\\n",
       "64950           21.0          No    Male        45-49  Hispanic       No   \n",
       "6302             2.0          No  Female        65-69     White       No   \n",
       "58424            0.0          No  Female        25-29     Black       No   \n",
       "67203            0.0          No  Female        45-49     White       No   \n",
       "168114           0.0          No  Female  80 or older     White       No   \n",
       "\n",
       "       PhysicalActivity  GenHealth  SleepTime Asthma KidneyDisease SkinCancer  \n",
       "64950               Yes  Very good        6.0     No            No         No  \n",
       "6302                Yes  Very good        7.0     No            No         No  \n",
       "58424               Yes  Very good        6.0     No            No         No  \n",
       "67203                No  Very good        8.0     No            No         No  \n",
       "168114               No       Good        7.0     No            No         No  "
      ]
     },
     "execution_count": 4,
     "metadata": {},
     "output_type": "execute_result"
    }
   ],
   "source": [
    "# showing randomly any 5 sample within the dataset......\n",
    "dataset.sample(5)"
   ]
  },
  {
   "cell_type": "code",
   "execution_count": 5,
   "id": "719f5351",
   "metadata": {
    "scrolled": true,
    "tags": []
   },
   "outputs": [
    {
     "data": {
      "text/html": [
       "<div>\n",
       "<style scoped>\n",
       "    .dataframe tbody tr th:only-of-type {\n",
       "        vertical-align: middle;\n",
       "    }\n",
       "\n",
       "    .dataframe tbody tr th {\n",
       "        vertical-align: top;\n",
       "    }\n",
       "\n",
       "    .dataframe thead th {\n",
       "        text-align: right;\n",
       "    }\n",
       "</style>\n",
       "<table border=\"1\" class=\"dataframe\">\n",
       "  <thead>\n",
       "    <tr style=\"text-align: right;\">\n",
       "      <th></th>\n",
       "      <th>HeartDisease</th>\n",
       "      <th>BMI</th>\n",
       "      <th>Smoking</th>\n",
       "      <th>AlcoholDrinking</th>\n",
       "      <th>Stroke</th>\n",
       "      <th>PhysicalHealth</th>\n",
       "      <th>MentalHealth</th>\n",
       "      <th>DiffWalking</th>\n",
       "      <th>Sex</th>\n",
       "      <th>AgeCategory</th>\n",
       "      <th>Race</th>\n",
       "      <th>Diabetic</th>\n",
       "      <th>PhysicalActivity</th>\n",
       "      <th>GenHealth</th>\n",
       "      <th>SleepTime</th>\n",
       "      <th>Asthma</th>\n",
       "      <th>KidneyDisease</th>\n",
       "      <th>SkinCancer</th>\n",
       "    </tr>\n",
       "  </thead>\n",
       "  <tbody>\n",
       "    <tr>\n",
       "      <th>319790</th>\n",
       "      <td>Yes</td>\n",
       "      <td>27.41</td>\n",
       "      <td>Yes</td>\n",
       "      <td>No</td>\n",
       "      <td>No</td>\n",
       "      <td>7.0</td>\n",
       "      <td>0.0</td>\n",
       "      <td>Yes</td>\n",
       "      <td>Male</td>\n",
       "      <td>60-64</td>\n",
       "      <td>Hispanic</td>\n",
       "      <td>Yes</td>\n",
       "      <td>No</td>\n",
       "      <td>Fair</td>\n",
       "      <td>6.0</td>\n",
       "      <td>Yes</td>\n",
       "      <td>No</td>\n",
       "      <td>No</td>\n",
       "    </tr>\n",
       "    <tr>\n",
       "      <th>319791</th>\n",
       "      <td>No</td>\n",
       "      <td>29.84</td>\n",
       "      <td>Yes</td>\n",
       "      <td>No</td>\n",
       "      <td>No</td>\n",
       "      <td>0.0</td>\n",
       "      <td>0.0</td>\n",
       "      <td>No</td>\n",
       "      <td>Male</td>\n",
       "      <td>35-39</td>\n",
       "      <td>Hispanic</td>\n",
       "      <td>No</td>\n",
       "      <td>Yes</td>\n",
       "      <td>Very good</td>\n",
       "      <td>5.0</td>\n",
       "      <td>Yes</td>\n",
       "      <td>No</td>\n",
       "      <td>No</td>\n",
       "    </tr>\n",
       "    <tr>\n",
       "      <th>319792</th>\n",
       "      <td>No</td>\n",
       "      <td>24.24</td>\n",
       "      <td>No</td>\n",
       "      <td>No</td>\n",
       "      <td>No</td>\n",
       "      <td>0.0</td>\n",
       "      <td>0.0</td>\n",
       "      <td>No</td>\n",
       "      <td>Female</td>\n",
       "      <td>45-49</td>\n",
       "      <td>Hispanic</td>\n",
       "      <td>No</td>\n",
       "      <td>Yes</td>\n",
       "      <td>Good</td>\n",
       "      <td>6.0</td>\n",
       "      <td>No</td>\n",
       "      <td>No</td>\n",
       "      <td>No</td>\n",
       "    </tr>\n",
       "    <tr>\n",
       "      <th>319793</th>\n",
       "      <td>No</td>\n",
       "      <td>32.81</td>\n",
       "      <td>No</td>\n",
       "      <td>No</td>\n",
       "      <td>No</td>\n",
       "      <td>0.0</td>\n",
       "      <td>0.0</td>\n",
       "      <td>No</td>\n",
       "      <td>Female</td>\n",
       "      <td>25-29</td>\n",
       "      <td>Hispanic</td>\n",
       "      <td>No</td>\n",
       "      <td>No</td>\n",
       "      <td>Good</td>\n",
       "      <td>12.0</td>\n",
       "      <td>No</td>\n",
       "      <td>No</td>\n",
       "      <td>No</td>\n",
       "    </tr>\n",
       "    <tr>\n",
       "      <th>319794</th>\n",
       "      <td>No</td>\n",
       "      <td>46.56</td>\n",
       "      <td>No</td>\n",
       "      <td>No</td>\n",
       "      <td>No</td>\n",
       "      <td>0.0</td>\n",
       "      <td>0.0</td>\n",
       "      <td>No</td>\n",
       "      <td>Female</td>\n",
       "      <td>80 or older</td>\n",
       "      <td>Hispanic</td>\n",
       "      <td>No</td>\n",
       "      <td>Yes</td>\n",
       "      <td>Good</td>\n",
       "      <td>8.0</td>\n",
       "      <td>No</td>\n",
       "      <td>No</td>\n",
       "      <td>No</td>\n",
       "    </tr>\n",
       "  </tbody>\n",
       "</table>\n",
       "</div>"
      ],
      "text/plain": [
       "       HeartDisease    BMI Smoking AlcoholDrinking Stroke  PhysicalHealth  \\\n",
       "319790          Yes  27.41     Yes              No     No             7.0   \n",
       "319791           No  29.84     Yes              No     No             0.0   \n",
       "319792           No  24.24      No              No     No             0.0   \n",
       "319793           No  32.81      No              No     No             0.0   \n",
       "319794           No  46.56      No              No     No             0.0   \n",
       "\n",
       "        MentalHealth DiffWalking     Sex  AgeCategory      Race Diabetic  \\\n",
       "319790           0.0         Yes    Male        60-64  Hispanic      Yes   \n",
       "319791           0.0          No    Male        35-39  Hispanic       No   \n",
       "319792           0.0          No  Female        45-49  Hispanic       No   \n",
       "319793           0.0          No  Female        25-29  Hispanic       No   \n",
       "319794           0.0          No  Female  80 or older  Hispanic       No   \n",
       "\n",
       "       PhysicalActivity  GenHealth  SleepTime Asthma KidneyDisease SkinCancer  \n",
       "319790               No       Fair        6.0    Yes            No         No  \n",
       "319791              Yes  Very good        5.0    Yes            No         No  \n",
       "319792              Yes       Good        6.0     No            No         No  \n",
       "319793               No       Good       12.0     No            No         No  \n",
       "319794              Yes       Good        8.0     No            No         No  "
      ]
     },
     "execution_count": 5,
     "metadata": {},
     "output_type": "execute_result"
    }
   ],
   "source": [
    "# showing last 5 row of the dataset\n",
    "dataset.tail()"
   ]
  },
  {
   "cell_type": "code",
   "execution_count": 6,
   "id": "2511fef6",
   "metadata": {
    "scrolled": true,
    "tags": []
   },
   "outputs": [
    {
     "name": "stdout",
     "output_type": "stream",
     "text": [
      "Row (Datapoint) :     319795  \n",
      "Column (Attributes) : 18\n"
     ]
    }
   ],
   "source": [
    "# using the shape attribute of the dataframe to get the number of rows and columns of the dataset \n",
    "row , col =  dataset.shape\n",
    "print(f'Row (Datapoint) :     {row}  \\nColumn (Attributes) : {col}')"
   ]
  },
  {
   "cell_type": "code",
   "execution_count": 7,
   "id": "32d73a64",
   "metadata": {},
   "outputs": [
    {
     "data": {
      "text/html": [
       "<div>\n",
       "<style scoped>\n",
       "    .dataframe tbody tr th:only-of-type {\n",
       "        vertical-align: middle;\n",
       "    }\n",
       "\n",
       "    .dataframe tbody tr th {\n",
       "        vertical-align: top;\n",
       "    }\n",
       "\n",
       "    .dataframe thead th {\n",
       "        text-align: right;\n",
       "    }\n",
       "</style>\n",
       "<table border=\"1\" class=\"dataframe\">\n",
       "  <thead>\n",
       "    <tr style=\"text-align: right;\">\n",
       "      <th></th>\n",
       "      <th>BMI</th>\n",
       "      <th>PhysicalHealth</th>\n",
       "      <th>MentalHealth</th>\n",
       "      <th>SleepTime</th>\n",
       "    </tr>\n",
       "  </thead>\n",
       "  <tbody>\n",
       "    <tr>\n",
       "      <th>count</th>\n",
       "      <td>319795.000000</td>\n",
       "      <td>319795.00000</td>\n",
       "      <td>319795.000000</td>\n",
       "      <td>319795.000000</td>\n",
       "    </tr>\n",
       "    <tr>\n",
       "      <th>mean</th>\n",
       "      <td>28.325399</td>\n",
       "      <td>3.37171</td>\n",
       "      <td>3.898366</td>\n",
       "      <td>7.097075</td>\n",
       "    </tr>\n",
       "    <tr>\n",
       "      <th>std</th>\n",
       "      <td>6.356100</td>\n",
       "      <td>7.95085</td>\n",
       "      <td>7.955235</td>\n",
       "      <td>1.436007</td>\n",
       "    </tr>\n",
       "    <tr>\n",
       "      <th>min</th>\n",
       "      <td>12.020000</td>\n",
       "      <td>0.00000</td>\n",
       "      <td>0.000000</td>\n",
       "      <td>1.000000</td>\n",
       "    </tr>\n",
       "    <tr>\n",
       "      <th>25%</th>\n",
       "      <td>24.030000</td>\n",
       "      <td>0.00000</td>\n",
       "      <td>0.000000</td>\n",
       "      <td>6.000000</td>\n",
       "    </tr>\n",
       "    <tr>\n",
       "      <th>50%</th>\n",
       "      <td>27.340000</td>\n",
       "      <td>0.00000</td>\n",
       "      <td>0.000000</td>\n",
       "      <td>7.000000</td>\n",
       "    </tr>\n",
       "    <tr>\n",
       "      <th>75%</th>\n",
       "      <td>31.420000</td>\n",
       "      <td>2.00000</td>\n",
       "      <td>3.000000</td>\n",
       "      <td>8.000000</td>\n",
       "    </tr>\n",
       "    <tr>\n",
       "      <th>max</th>\n",
       "      <td>94.850000</td>\n",
       "      <td>30.00000</td>\n",
       "      <td>30.000000</td>\n",
       "      <td>24.000000</td>\n",
       "    </tr>\n",
       "  </tbody>\n",
       "</table>\n",
       "</div>"
      ],
      "text/plain": [
       "                 BMI  PhysicalHealth   MentalHealth      SleepTime\n",
       "count  319795.000000    319795.00000  319795.000000  319795.000000\n",
       "mean       28.325399         3.37171       3.898366       7.097075\n",
       "std         6.356100         7.95085       7.955235       1.436007\n",
       "min        12.020000         0.00000       0.000000       1.000000\n",
       "25%        24.030000         0.00000       0.000000       6.000000\n",
       "50%        27.340000         0.00000       0.000000       7.000000\n",
       "75%        31.420000         2.00000       3.000000       8.000000\n",
       "max        94.850000        30.00000      30.000000      24.000000"
      ]
     },
     "execution_count": 7,
     "metadata": {},
     "output_type": "execute_result"
    }
   ],
   "source": [
    "dataset.describe()"
   ]
  },
  {
   "cell_type": "code",
   "execution_count": 8,
   "id": "51f9543d",
   "metadata": {},
   "outputs": [
    {
     "data": {
      "text/plain": [
       "HeartDisease        0\n",
       "BMI                 0\n",
       "Smoking             0\n",
       "AlcoholDrinking     0\n",
       "Stroke              0\n",
       "PhysicalHealth      0\n",
       "MentalHealth        0\n",
       "DiffWalking         0\n",
       "Sex                 0\n",
       "AgeCategory         0\n",
       "Race                0\n",
       "Diabetic            0\n",
       "PhysicalActivity    0\n",
       "GenHealth           0\n",
       "SleepTime           0\n",
       "Asthma              0\n",
       "KidneyDisease       0\n",
       "SkinCancer          0\n",
       "dtype: int64"
      ]
     },
     "execution_count": 8,
     "metadata": {},
     "output_type": "execute_result"
    }
   ],
   "source": [
    " #checking for any missing value \n",
    "dataset.isnull().sum()"
   ]
  },
  {
   "cell_type": "markdown",
   "id": "13ad5558",
   "metadata": {},
   "source": [
    "it is revealed that there is no missing value in the dataset"
   ]
  },
  {
   "cell_type": "code",
   "execution_count": 11,
   "id": "a06f4cf8",
   "metadata": {},
   "outputs": [
    {
     "name": "stdout",
     "output_type": "stream",
     "text": [
      "Duplicates found!\n"
     ]
    }
   ],
   "source": [
    "# checking for duplicates\n",
    "if dataset.duplicated().any():\n",
    "    print(\"Duplicates found!\")\n",
    "else:\n",
    "    print(\"No duplicates found.\")\n"
   ]
  },
  {
   "cell_type": "markdown",
   "id": "914d62a0",
   "metadata": {},
   "source": [
    " It revealed that the dataset have duplicates"
   ]
  },
  {
   "cell_type": "code",
   "execution_count": 12,
   "id": "16293430",
   "metadata": {},
   "outputs": [
    {
     "name": "stdout",
     "output_type": "stream",
     "text": [
      "Duplicate Rows:\n",
      "       HeartDisease    BMI Smoking AlcoholDrinking Stroke  PhysicalHealth  \\\n",
      "2182             No  19.85      No              No     No             0.0   \n",
      "3182             No  28.19      No              No     No             0.0   \n",
      "3397             No  26.54      No              No     No             0.0   \n",
      "3650             No  32.89     Yes              No     No             2.0   \n",
      "4061             No  25.84      No              No     No             0.0   \n",
      "...             ...    ...     ...             ...    ...             ...   \n",
      "319671           No  25.06      No              No     No             0.0   \n",
      "319689           No  27.44      No              No     No             0.0   \n",
      "319726           No  30.41      No              No     No             0.0   \n",
      "319751           No  34.96      No              No     No             0.0   \n",
      "319776           No  27.98      No              No     No             0.0   \n",
      "\n",
      "        MentalHealth DiffWalking     Sex  AgeCategory      Race Diabetic  \\\n",
      "2182             0.0          No  Female  80 or older     White       No   \n",
      "3182             0.0          No  Female        50-54     White       No   \n",
      "3397             0.0          No    Male        45-49     White       No   \n",
      "3650             1.0          No  Female        50-54     White       No   \n",
      "4061             0.0          No  Female        40-44     White       No   \n",
      "...              ...         ...     ...          ...       ...      ...   \n",
      "319671           0.0          No    Male        40-44  Hispanic       No   \n",
      "319689           0.0          No  Female        30-34  Hispanic       No   \n",
      "319726           0.0          No    Male        18-24  Hispanic       No   \n",
      "319751           0.0          No    Male        18-24  Hispanic       No   \n",
      "319776           0.0          No  Female        50-54  Hispanic       No   \n",
      "\n",
      "       PhysicalActivity  GenHealth  SleepTime Asthma KidneyDisease SkinCancer  \n",
      "2182                Yes  Excellent        7.0     No            No         No  \n",
      "3182                Yes  Excellent        7.0     No            No         No  \n",
      "3397                Yes  Excellent        6.0     No            No         No  \n",
      "3650                Yes       Good        9.0     No            No         No  \n",
      "4061                Yes  Excellent        8.0     No            No         No  \n",
      "...                 ...        ...        ...    ...           ...        ...  \n",
      "319671              Yes  Excellent        7.0     No            No         No  \n",
      "319689              Yes  Very good        6.0     No            No         No  \n",
      "319726              Yes  Excellent        7.0     No            No         No  \n",
      "319751              Yes  Excellent        6.0     No            No         No  \n",
      "319776               No       Good        8.0     No            No         No  \n",
      "\n",
      "[18078 rows x 18 columns]\n"
     ]
    }
   ],
   "source": [
    "# create a boolean mask indicating which rows are duplicates\n",
    "mask = dataset.duplicated()\n",
    "\n",
    "# select only the duplicate rows using the mask\n",
    "duplicate_rows = dataset[mask]\n",
    "\n",
    "# print the duplicate rows\n",
    "print(\"Duplicate Rows:\")\n",
    "print(duplicate_rows)\n"
   ]
  },
  {
   "cell_type": "markdown",
   "id": "375aeed5",
   "metadata": {},
   "source": [
    "  it is revealed that, there are 18078 duplicates rows"
   ]
  },
  {
   "cell_type": "markdown",
   "id": "97335f7f",
   "metadata": {},
   "source": [
    "## Checking the unique attributes of the dataset"
   ]
  },
  {
   "cell_type": "code",
   "execution_count": 9,
   "id": "55541b81",
   "metadata": {
    "scrolled": false,
    "tags": []
   },
   "outputs": [
    {
     "data": {
      "text/plain": [
       "Index(['HeartDisease', 'BMI', 'Smoking', 'AlcoholDrinking', 'Stroke',\n",
       "       'PhysicalHealth', 'MentalHealth', 'DiffWalking', 'Sex', 'AgeCategory',\n",
       "       'Race', 'Diabetic', 'PhysicalActivity', 'GenHealth', 'SleepTime',\n",
       "       'Asthma', 'KidneyDisease', 'SkinCancer'],\n",
       "      dtype='object')"
      ]
     },
     "execution_count": 9,
     "metadata": {},
     "output_type": "execute_result"
    }
   ],
   "source": [
    "# showing all the attributes/columns/features present in the dataset.......\n",
    "dataset.columns"
   ]
  },
  {
   "cell_type": "markdown",
   "id": "89ea1b11",
   "metadata": {},
   "source": [
    "## Viewing Datatype, Numbers of Null in every Attribute"
   ]
  },
  {
   "cell_type": "code",
   "execution_count": 10,
   "id": "745b90be",
   "metadata": {
    "tags": []
   },
   "outputs": [
    {
     "name": "stdout",
     "output_type": "stream",
     "text": [
      "<class 'pandas.core.frame.DataFrame'>\n",
      "RangeIndex: 319795 entries, 0 to 319794\n",
      "Data columns (total 18 columns):\n",
      " #   Column            Non-Null Count   Dtype  \n",
      "---  ------            --------------   -----  \n",
      " 0   HeartDisease      319795 non-null  object \n",
      " 1   BMI               319795 non-null  float64\n",
      " 2   Smoking           319795 non-null  object \n",
      " 3   AlcoholDrinking   319795 non-null  object \n",
      " 4   Stroke            319795 non-null  object \n",
      " 5   PhysicalHealth    319795 non-null  float64\n",
      " 6   MentalHealth      319795 non-null  float64\n",
      " 7   DiffWalking       319795 non-null  object \n",
      " 8   Sex               319795 non-null  object \n",
      " 9   AgeCategory       319795 non-null  object \n",
      " 10  Race              319795 non-null  object \n",
      " 11  Diabetic          319795 non-null  object \n",
      " 12  PhysicalActivity  319795 non-null  object \n",
      " 13  GenHealth         319795 non-null  object \n",
      " 14  SleepTime         319795 non-null  float64\n",
      " 15  Asthma            319795 non-null  object \n",
      " 16  KidneyDisease     319795 non-null  object \n",
      " 17  SkinCancer        319795 non-null  object \n",
      "dtypes: float64(4), object(14)\n",
      "memory usage: 43.9+ MB\n"
     ]
    }
   ],
   "source": [
    "# showing the  essential information about the dataset using the info() method .... information reveal include  \n",
    "# . columns\n",
    "# . Non-Null : Number of Values \n",
    "# . Dtype : Data type \n",
    "\n",
    "dataset.info()"
   ]
  },
  {
   "cell_type": "markdown",
   "id": "47c6dfe4",
   "metadata": {},
   "source": [
    "There are both numerical and categorical variables "
   ]
  },
  {
   "cell_type": "markdown",
   "id": "449bdb4f",
   "metadata": {},
   "source": [
    "## viewing statistical data of the numerical attributes or columns"
   ]
  },
  {
   "cell_type": "code",
   "execution_count": 15,
   "id": "a495c814",
   "metadata": {
    "tags": []
   },
   "outputs": [
    {
     "data": {
      "text/html": [
       "<div>\n",
       "<style scoped>\n",
       "    .dataframe tbody tr th:only-of-type {\n",
       "        vertical-align: middle;\n",
       "    }\n",
       "\n",
       "    .dataframe tbody tr th {\n",
       "        vertical-align: top;\n",
       "    }\n",
       "\n",
       "    .dataframe thead th {\n",
       "        text-align: right;\n",
       "    }\n",
       "</style>\n",
       "<table border=\"1\" class=\"dataframe\">\n",
       "  <thead>\n",
       "    <tr style=\"text-align: right;\">\n",
       "      <th></th>\n",
       "      <th>BMI</th>\n",
       "      <th>PhysicalHealth</th>\n",
       "      <th>MentalHealth</th>\n",
       "      <th>SleepTime</th>\n",
       "    </tr>\n",
       "  </thead>\n",
       "  <tbody>\n",
       "    <tr>\n",
       "      <th>count</th>\n",
       "      <td>319795.000000</td>\n",
       "      <td>319795.00000</td>\n",
       "      <td>319795.000000</td>\n",
       "      <td>319795.000000</td>\n",
       "    </tr>\n",
       "    <tr>\n",
       "      <th>mean</th>\n",
       "      <td>28.325399</td>\n",
       "      <td>3.37171</td>\n",
       "      <td>3.898366</td>\n",
       "      <td>7.097075</td>\n",
       "    </tr>\n",
       "    <tr>\n",
       "      <th>std</th>\n",
       "      <td>6.356100</td>\n",
       "      <td>7.95085</td>\n",
       "      <td>7.955235</td>\n",
       "      <td>1.436007</td>\n",
       "    </tr>\n",
       "    <tr>\n",
       "      <th>min</th>\n",
       "      <td>12.020000</td>\n",
       "      <td>0.00000</td>\n",
       "      <td>0.000000</td>\n",
       "      <td>1.000000</td>\n",
       "    </tr>\n",
       "    <tr>\n",
       "      <th>25%</th>\n",
       "      <td>24.030000</td>\n",
       "      <td>0.00000</td>\n",
       "      <td>0.000000</td>\n",
       "      <td>6.000000</td>\n",
       "    </tr>\n",
       "    <tr>\n",
       "      <th>50%</th>\n",
       "      <td>27.340000</td>\n",
       "      <td>0.00000</td>\n",
       "      <td>0.000000</td>\n",
       "      <td>7.000000</td>\n",
       "    </tr>\n",
       "    <tr>\n",
       "      <th>75%</th>\n",
       "      <td>31.420000</td>\n",
       "      <td>2.00000</td>\n",
       "      <td>3.000000</td>\n",
       "      <td>8.000000</td>\n",
       "    </tr>\n",
       "    <tr>\n",
       "      <th>max</th>\n",
       "      <td>94.850000</td>\n",
       "      <td>30.00000</td>\n",
       "      <td>30.000000</td>\n",
       "      <td>24.000000</td>\n",
       "    </tr>\n",
       "  </tbody>\n",
       "</table>\n",
       "</div>"
      ],
      "text/plain": [
       "                 BMI  PhysicalHealth   MentalHealth      SleepTime\n",
       "count  319795.000000    319795.00000  319795.000000  319795.000000\n",
       "mean       28.325399         3.37171       3.898366       7.097075\n",
       "std         6.356100         7.95085       7.955235       1.436007\n",
       "min        12.020000         0.00000       0.000000       1.000000\n",
       "25%        24.030000         0.00000       0.000000       6.000000\n",
       "50%        27.340000         0.00000       0.000000       7.000000\n",
       "75%        31.420000         2.00000       3.000000       8.000000\n",
       "max        94.850000        30.00000      30.000000      24.000000"
      ]
     },
     "execution_count": 15,
     "metadata": {},
     "output_type": "execute_result"
    }
   ],
   "source": [
    "# this line of code reveal statistical information about the columns having numerical value \n",
    "# information such as the mean, standard diviation, the number of value, max value etc...\n",
    "dataset.describe()"
   ]
  },
  {
   "cell_type": "markdown",
   "id": "6f4fea2c",
   "metadata": {},
   "source": [
    "## Viewing Unique Value for each attribute"
   ]
  },
  {
   "cell_type": "code",
   "execution_count": 16,
   "id": "165d954c",
   "metadata": {
    "tags": []
   },
   "outputs": [
    {
     "name": "stdout",
     "output_type": "stream",
     "text": [
      "Uniques Entries (Value) in HeartDisease\n",
      "['No' 'Yes']\n",
      "_____________________________________________________\n",
      "Uniques Entries (Value) in Smoking\n",
      "['Yes' 'No']\n",
      "_____________________________________________________\n",
      "Uniques Entries (Value) in AlcoholDrinking\n",
      "['No' 'Yes']\n",
      "_____________________________________________________\n",
      "Uniques Entries (Value) in Stroke\n",
      "['No' 'Yes']\n",
      "_____________________________________________________\n",
      "Uniques Entries (Value) in DiffWalking\n",
      "['No' 'Yes']\n",
      "_____________________________________________________\n",
      "Uniques Entries (Value) in Sex\n",
      "['Female' 'Male']\n",
      "_____________________________________________________\n",
      "Uniques Entries (Value) in AgeCategory\n",
      "['55-59' '80 or older' '65-69' '75-79' '40-44' '70-74' '60-64' '50-54'\n",
      " '45-49' '18-24' '35-39' '30-34' '25-29']\n",
      "_____________________________________________________\n",
      "Uniques Entries (Value) in Race\n",
      "['White' 'Black' 'Asian' 'American Indian/Alaskan Native' 'Other'\n",
      " 'Hispanic']\n",
      "_____________________________________________________\n",
      "Uniques Entries (Value) in Diabetic\n",
      "['Yes' 'No' 'No, borderline diabetes' 'Yes (during pregnancy)']\n",
      "_____________________________________________________\n",
      "Uniques Entries (Value) in PhysicalActivity\n",
      "['Yes' 'No']\n",
      "_____________________________________________________\n",
      "Uniques Entries (Value) in GenHealth\n",
      "['Very good' 'Fair' 'Good' 'Poor' 'Excellent']\n",
      "_____________________________________________________\n",
      "Uniques Entries (Value) in Asthma\n",
      "['Yes' 'No']\n",
      "_____________________________________________________\n",
      "Uniques Entries (Value) in KidneyDisease\n",
      "['No' 'Yes']\n",
      "_____________________________________________________\n",
      "Uniques Entries (Value) in SkinCancer\n",
      "['Yes' 'No']\n",
      "_____________________________________________________\n"
     ]
    }
   ],
   "source": [
    "# a customize function is created to reveal unique value present in dataset by specifying the column index\n",
    "# function creation\n",
    "def get_uniques_val(df , col_index): \n",
    "    for col in col_index: \n",
    "        print(f'Uniques Entries (Value) in {df.columns[col]}')\n",
    "        val = df[df.columns[col]].unique()\n",
    "        print(val)\n",
    "        print('_____________________________________________________')\n",
    "\n",
    "# checking the numbers of unique value in the attribute\n",
    "\n",
    "# function calling \n",
    "get_uniques_val(dataset, [0,2,3,4,7,8,9,10,11,12,13,15,16,17])"
   ]
  },
  {
   "cell_type": "markdown",
   "id": "b98adecd-65b4-482b-b294-e1f1d714e891",
   "metadata": {},
   "source": [
    "## Visualizaing the prediction (Yes = 1, No = 0) class using BAR CHART "
   ]
  },
  {
   "cell_type": "code",
   "execution_count": 11,
   "id": "b547d002",
   "metadata": {
    "tags": []
   },
   "outputs": [
    {
     "data": {
      "image/png": "[encoded data removed]",
      "text/plain": [
       "<Figure size 400x300 with 1 Axes>"
      ]
     },
     "metadata": {},
     "output_type": "display_data"
    }
   ],
   "source": [
    "# loading dataset content to dt ... basically just chaining variable name to dt \n",
    "dt = dataset\n",
    "\n",
    "# ploting the HeartDisease Attribut unique value count using bar chat\n",
    "dt.HeartDisease.value_counts().plot(kind='bar', title= f'Heart Disease Class Distribution', color=['brown', 'orange'], figsize=(4,3))\n",
    "plt.xlabel('Class Distribution')\n",
    "plt.ylabel('Datapoint Count')\n",
    "plt.show()\n",
    "\n",
    "# the chart shows that the dataset is higly bais... \n",
    "# No (Patient not having Heart Dsieases) is about 300,000\n",
    "# while patient with heart diseases is about 50,000"
   ]
  },
  {
   "cell_type": "markdown",
   "id": "8e9ae278",
   "metadata": {},
   "source": [
    " The bar chart above shows that the dataset is unbalanced hence, data\n",
    " balancing techniques is important to avoid bias prediction ¶"
   ]
  },
  {
   "cell_type": "code",
   "execution_count": 12,
   "id": "b83c11a8-8396-41ba-b0d4-baab9e7619a8",
   "metadata": {
    "tags": []
   },
   "outputs": [],
   "source": [
    "# building a customize method to return uniques value of a column based on the threshold value \n",
    "# the threshold denote the condition of returning only columns with uniques value of size 2 (binary divided data)\n",
    "attribute = 'HEART'\n",
    "%matplotlib inline\n",
    "\n",
    "def get_attribute_unique_threshold(df, treshold=2):\n",
    "    columns = []\n",
    "    size = []\n",
    "    data = []\n",
    "    for col in df.columns: \n",
    "        if df[col].unique().size <= treshold:\n",
    "            size.append(df[col].unique().size)\n",
    "            data.append(df[col].unique())\n",
    "            columns.append(col)\n",
    "            \n",
    "    return columns, size, data"
   ]
  },
  {
   "cell_type": "markdown",
   "id": "dfc3bd0c",
   "metadata": {},
   "source": [
    "## Exploring Attribute that as uniques value below 20"
   ]
  },
  {
   "cell_type": "code",
   "execution_count": 13,
   "id": "e76855d3",
   "metadata": {
    "tags": []
   },
   "outputs": [
    {
     "data": {
      "text/html": [
       "<div>\n",
       "<style scoped>\n",
       "    .dataframe tbody tr th:only-of-type {\n",
       "        vertical-align: middle;\n",
       "    }\n",
       "\n",
       "    .dataframe tbody tr th {\n",
       "        vertical-align: top;\n",
       "    }\n",
       "\n",
       "    .dataframe thead th {\n",
       "        text-align: right;\n",
       "    }\n",
       "</style>\n",
       "<table border=\"1\" class=\"dataframe\">\n",
       "  <thead>\n",
       "    <tr style=\"text-align: right;\">\n",
       "      <th></th>\n",
       "      <th>Attribute</th>\n",
       "      <th>Unique Value</th>\n",
       "      <th>Count</th>\n",
       "    </tr>\n",
       "  </thead>\n",
       "  <tbody>\n",
       "    <tr>\n",
       "      <th>0</th>\n",
       "      <td>HeartDisease</td>\n",
       "      <td>[No, Yes]</td>\n",
       "      <td>2</td>\n",
       "    </tr>\n",
       "    <tr>\n",
       "      <th>1</th>\n",
       "      <td>Smoking</td>\n",
       "      <td>[Yes, No]</td>\n",
       "      <td>2</td>\n",
       "    </tr>\n",
       "    <tr>\n",
       "      <th>2</th>\n",
       "      <td>AlcoholDrinking</td>\n",
       "      <td>[No, Yes]</td>\n",
       "      <td>2</td>\n",
       "    </tr>\n",
       "    <tr>\n",
       "      <th>3</th>\n",
       "      <td>Stroke</td>\n",
       "      <td>[No, Yes]</td>\n",
       "      <td>2</td>\n",
       "    </tr>\n",
       "    <tr>\n",
       "      <th>4</th>\n",
       "      <td>DiffWalking</td>\n",
       "      <td>[No, Yes]</td>\n",
       "      <td>2</td>\n",
       "    </tr>\n",
       "    <tr>\n",
       "      <th>5</th>\n",
       "      <td>Sex</td>\n",
       "      <td>[Female, Male]</td>\n",
       "      <td>2</td>\n",
       "    </tr>\n",
       "    <tr>\n",
       "      <th>6</th>\n",
       "      <td>AgeCategory</td>\n",
       "      <td>[55-59, 80 or older, 65-69, 75-79, 40-44, 70-7...</td>\n",
       "      <td>13</td>\n",
       "    </tr>\n",
       "    <tr>\n",
       "      <th>7</th>\n",
       "      <td>Race</td>\n",
       "      <td>[White, Black, Asian, American Indian/Alaskan ...</td>\n",
       "      <td>6</td>\n",
       "    </tr>\n",
       "    <tr>\n",
       "      <th>8</th>\n",
       "      <td>Diabetic</td>\n",
       "      <td>[Yes, No, No, borderline diabetes, Yes (during...</td>\n",
       "      <td>4</td>\n",
       "    </tr>\n",
       "    <tr>\n",
       "      <th>9</th>\n",
       "      <td>PhysicalActivity</td>\n",
       "      <td>[Yes, No]</td>\n",
       "      <td>2</td>\n",
       "    </tr>\n",
       "    <tr>\n",
       "      <th>10</th>\n",
       "      <td>GenHealth</td>\n",
       "      <td>[Very good, Fair, Good, Poor, Excellent]</td>\n",
       "      <td>5</td>\n",
       "    </tr>\n",
       "    <tr>\n",
       "      <th>11</th>\n",
       "      <td>Asthma</td>\n",
       "      <td>[Yes, No]</td>\n",
       "      <td>2</td>\n",
       "    </tr>\n",
       "    <tr>\n",
       "      <th>12</th>\n",
       "      <td>KidneyDisease</td>\n",
       "      <td>[No, Yes]</td>\n",
       "      <td>2</td>\n",
       "    </tr>\n",
       "    <tr>\n",
       "      <th>13</th>\n",
       "      <td>SkinCancer</td>\n",
       "      <td>[Yes, No]</td>\n",
       "      <td>2</td>\n",
       "    </tr>\n",
       "  </tbody>\n",
       "</table>\n",
       "</div>"
      ],
      "text/plain": [
       "           Attribute                                       Unique Value  Count\n",
       "0       HeartDisease                                          [No, Yes]      2\n",
       "1            Smoking                                          [Yes, No]      2\n",
       "2    AlcoholDrinking                                          [No, Yes]      2\n",
       "3             Stroke                                          [No, Yes]      2\n",
       "4        DiffWalking                                          [No, Yes]      2\n",
       "5                Sex                                     [Female, Male]      2\n",
       "6        AgeCategory  [55-59, 80 or older, 65-69, 75-79, 40-44, 70-7...     13\n",
       "7               Race  [White, Black, Asian, American Indian/Alaskan ...      6\n",
       "8           Diabetic  [Yes, No, No, borderline diabetes, Yes (during...      4\n",
       "9   PhysicalActivity                                          [Yes, No]      2\n",
       "10         GenHealth           [Very good, Fair, Good, Poor, Excellent]      5\n",
       "11            Asthma                                          [Yes, No]      2\n",
       "12     KidneyDisease                                          [No, Yes]      2\n",
       "13        SkinCancer                                          [Yes, No]      2"
      ]
     },
     "execution_count": 13,
     "metadata": {},
     "output_type": "execute_result"
    }
   ],
   "source": [
    "# method is called with threashold of 20\n",
    "attribute , size, data = get_attribute_unique_threshold(dt, 20)\n",
    "data = {'Attribute': attribute, 'Unique Value': data , \"Count\": size}\n",
    "att_df = pd.DataFrame(data)\n",
    "att_df"
   ]
  },
  {
   "cell_type": "markdown",
   "id": "37fedbea",
   "metadata": {},
   "source": [
    "## Exploring Attribute that as uniques value below or equal 2"
   ]
  },
  {
   "cell_type": "code",
   "execution_count": 14,
   "id": "776fcd96",
   "metadata": {
    "tags": []
   },
   "outputs": [
    {
     "data": {
      "text/html": [
       "<div>\n",
       "<style scoped>\n",
       "    .dataframe tbody tr th:only-of-type {\n",
       "        vertical-align: middle;\n",
       "    }\n",
       "\n",
       "    .dataframe tbody tr th {\n",
       "        vertical-align: top;\n",
       "    }\n",
       "\n",
       "    .dataframe thead th {\n",
       "        text-align: right;\n",
       "    }\n",
       "</style>\n",
       "<table border=\"1\" class=\"dataframe\">\n",
       "  <thead>\n",
       "    <tr style=\"text-align: right;\">\n",
       "      <th></th>\n",
       "      <th>Attribute</th>\n",
       "      <th>Unique Value</th>\n",
       "      <th>Count</th>\n",
       "    </tr>\n",
       "  </thead>\n",
       "  <tbody>\n",
       "    <tr>\n",
       "      <th>0</th>\n",
       "      <td>HeartDisease</td>\n",
       "      <td>[No, Yes]</td>\n",
       "      <td>2</td>\n",
       "    </tr>\n",
       "    <tr>\n",
       "      <th>1</th>\n",
       "      <td>Smoking</td>\n",
       "      <td>[Yes, No]</td>\n",
       "      <td>2</td>\n",
       "    </tr>\n",
       "    <tr>\n",
       "      <th>2</th>\n",
       "      <td>AlcoholDrinking</td>\n",
       "      <td>[No, Yes]</td>\n",
       "      <td>2</td>\n",
       "    </tr>\n",
       "    <tr>\n",
       "      <th>3</th>\n",
       "      <td>Stroke</td>\n",
       "      <td>[No, Yes]</td>\n",
       "      <td>2</td>\n",
       "    </tr>\n",
       "    <tr>\n",
       "      <th>4</th>\n",
       "      <td>DiffWalking</td>\n",
       "      <td>[No, Yes]</td>\n",
       "      <td>2</td>\n",
       "    </tr>\n",
       "    <tr>\n",
       "      <th>5</th>\n",
       "      <td>Sex</td>\n",
       "      <td>[Female, Male]</td>\n",
       "      <td>2</td>\n",
       "    </tr>\n",
       "    <tr>\n",
       "      <th>6</th>\n",
       "      <td>PhysicalActivity</td>\n",
       "      <td>[Yes, No]</td>\n",
       "      <td>2</td>\n",
       "    </tr>\n",
       "    <tr>\n",
       "      <th>7</th>\n",
       "      <td>Asthma</td>\n",
       "      <td>[Yes, No]</td>\n",
       "      <td>2</td>\n",
       "    </tr>\n",
       "    <tr>\n",
       "      <th>8</th>\n",
       "      <td>KidneyDisease</td>\n",
       "      <td>[No, Yes]</td>\n",
       "      <td>2</td>\n",
       "    </tr>\n",
       "    <tr>\n",
       "      <th>9</th>\n",
       "      <td>SkinCancer</td>\n",
       "      <td>[Yes, No]</td>\n",
       "      <td>2</td>\n",
       "    </tr>\n",
       "  </tbody>\n",
       "</table>\n",
       "</div>"
      ],
      "text/plain": [
       "          Attribute    Unique Value  Count\n",
       "0      HeartDisease       [No, Yes]      2\n",
       "1           Smoking       [Yes, No]      2\n",
       "2   AlcoholDrinking       [No, Yes]      2\n",
       "3            Stroke       [No, Yes]      2\n",
       "4       DiffWalking       [No, Yes]      2\n",
       "5               Sex  [Female, Male]      2\n",
       "6  PhysicalActivity       [Yes, No]      2\n",
       "7            Asthma       [Yes, No]      2\n",
       "8     KidneyDisease       [No, Yes]      2\n",
       "9        SkinCancer       [Yes, No]      2"
      ]
     },
     "execution_count": 14,
     "metadata": {},
     "output_type": "execute_result"
    }
   ],
   "source": [
    "# method is called with threashold of 2\n",
    "attribute , size, data = get_attribute_unique_threshold(dt, 2)\n",
    "data = {'Attribute': attribute, 'Unique Value': data , \"Count\": size}\n",
    "binary_attribute = pd.DataFrame(data)\n",
    "binary_attribute"
   ]
  },
  {
   "cell_type": "markdown",
   "id": "32d7d51e",
   "metadata": {},
   "source": [
    "## visualizing heart diseases distribution with respect to Races"
   ]
  },
  {
   "cell_type": "code",
   "execution_count": 21,
   "id": "fd771d13",
   "metadata": {},
   "outputs": [
    {
     "data": {
      "text/plain": [
       "Text(0.5, 1.0, 'Variation of Heart Disease amoung Races')"
      ]
     },
     "execution_count": 21,
     "metadata": {},
     "output_type": "execute_result"
    },
    {
     "data": {
      "image/png": "[encoded data removed]",
      "text/plain": [
       "<Figure size 720x432 with 1 Axes>"
      ]
     },
     "metadata": {
      "needs_background": "light"
     },
     "output_type": "display_data"
    }
   ],
   "source": [
    "plt.figure(figsize=(10, 6))\n",
    "sn.countplot(data= dataset, x=dataset['Race'], hue= dataset['HeartDisease'])\n",
    "plt.title('Variation of Heart Disease amoung Races')"
   ]
  },
  {
   "cell_type": "markdown",
   "id": "011d4347",
   "metadata": {},
   "source": [
    "The chart reveals that white have higher risk of developing Heart Disease "
   ]
  },
  {
   "cell_type": "code",
   "execution_count": 22,
   "id": "91cb87cb",
   "metadata": {},
   "outputs": [
    {
     "data": {
      "text/plain": [
       "<AxesSubplot:xlabel='HeartDisease', ylabel='count'>"
      ]
     },
     "execution_count": 22,
     "metadata": {},
     "output_type": "execute_result"
    },
    {
     "data": {
      "image/png": "[encoded data removed]",
      "text/plain": [
       "<Figure size 432x288 with 1 Axes>"
      ]
     },
     "metadata": {
      "needs_background": "light"
     },
     "output_type": "display_data"
    }
   ],
   "source": [
    "sn.countplot(x ='HeartDisease',hue ='Sex',  data= dt)"
   ]
  },
  {
   "cell_type": "markdown",
   "id": "73c93f41",
   "metadata": {},
   "source": [
    "The chart reveals that Male have higher risk of developing Heart Disease than Female"
   ]
  },
  {
   "cell_type": "code",
   "execution_count": 23,
   "id": "900afb66",
   "metadata": {},
   "outputs": [
    {
     "data": {
      "text/plain": [
       "<AxesSubplot:xlabel='HeartDisease', ylabel='count'>"
      ]
     },
     "execution_count": 23,
     "metadata": {},
     "output_type": "execute_result"
    },
    {
     "data": {
      "image/png": "[encoded data removed]",
      "text/plain": [
       "<Figure size 432x288 with 1 Axes>"
      ]
     },
     "metadata": {
      "needs_background": "light"
     },
     "output_type": "display_data"
    }
   ],
   "source": [
    "sn.countplot(x ='HeartDisease', hue ='SkinCancer', data = dt)"
   ]
  },
  {
   "cell_type": "markdown",
   "id": "350af797",
   "metadata": {},
   "source": [
    "The chart reveals that Skincancer patients are at risk of having Heart Disease  "
   ]
  },
  {
   "cell_type": "markdown",
   "id": "d7df96e4",
   "metadata": {},
   "source": [
    "##  Viewing Percentage correlation of Binary Value Attributes "
   ]
  },
  {
   "cell_type": "code",
   "execution_count": 24,
   "id": "975799c4",
   "metadata": {
    "tags": []
   },
   "outputs": [
    {
     "data": {
      "image/png": "[encoded data removed]",
      "text/plain": [
       "<Figure size 720x864 with 6 Axes>"
      ]
     },
     "metadata": {},
     "output_type": "display_data"
    }
   ],
   "source": [
    "s1 =  pd.Series(dt['HeartDisease'].values == dt['Smoking'].values)\n",
    "s2 =  pd.Series(dt['HeartDisease'].values == dt['AlcoholDrinking'].values)\n",
    "s3 =  pd.Series(dt['HeartDisease'].values == dt['DiffWalking'].values)\n",
    "s4 =  pd.Series(dt['HeartDisease'].values == dt['PhysicalActivity'].values)\n",
    "s5 =  pd.Series(dt['HeartDisease'].values == dt['Asthma'].values)\n",
    "s6 =  pd.Series(dt['HeartDisease'].values == dt['KidneyDisease'].values)\n",
    "s7 =  pd.Series(dt['HeartDisease'].values == dt['Sex'].values)\n",
    "s8 =  pd.Series(dt['HeartDisease'].values == dt['Stroke'].values)\n",
    "s9 =  pd.Series(dt['HeartDisease'].values == dt['SkinCancer'].values)\n",
    "\n",
    "\n",
    "data_distribution = pd.DataFrame({'Smoking':s1, 'AlcoholDrinking':s2, 'Stroke':s3, 'DiffWalkingy':s4, 'Asthma':s5 , 'KidneyDisease':s6, })\n",
    "data_distribution\n",
    "for index in range(6): \n",
    "    plt.subplot(4,2, (index+1))\n",
    "    plt.tight_layout(pad=0.4)\n",
    "    colors = (np.random.random(), np.random.random(), np.random.random())\n",
    "    data_distribution[data_distribution.columns[index]].value_counts().plot(kind='pie',  \\\n",
    "                          autopct='%.2f%%', labels=['True (Correlation)', 'False (Correlation)'] , figsize=(10, 12))\n",
    "    \n",
    "\n",
    "    # the correlation of heart disease is measured against the following attribute with binary categorical value\n",
    "    # . smoking\n",
    "    # . AlcoholDrinking\n",
    "    # . DiffWalking\n",
    "    # . PhysicalActivity\n",
    "    # . Asthma\n",
    "    # . KidneyDisease\n",
    "\n",
    "\n",
    "    # kidney diseases has highest correlation of 89.92% as shown in the pie chart below "
   ]
  },
  {
   "cell_type": "markdown",
   "id": "2b2f9e83",
   "metadata": {},
   "source": [
    "## the correlation of heart disease is measured against the following attribute with binary categorical value                      \n",
    "     . smoking\n",
    "     . AlcoholDrinking\n",
    "     . DiffWalking\n",
    "     . stroke\n",
    "     . Asthma\n",
    "     . KidneyDisease\n",
    "     \n",
    " The Observation Made on Data Correlation reveal the following.\n",
    "      \n",
    "\n",
    ". Patients with kidney disease have 89.92% risk of having Heart Disease than Asthmatic patient with 81.12% <br>\n",
    ". An Alcholic patient has high risk of (85.34) of having heart Disease <br>\n",
    ". for patients who have difficuty in walking there is 83.82% risk of having heart dieseas <br>\n",
    ". Smokers have 60.22% risk of having Heart Dieases <br>\n",
    ". There is 83.82%  risk of having Heart Disease if the patient have stroke than Asthma which have 81.12% <br>"
   ]
  },
  {
   "cell_type": "markdown",
   "id": "30c5577f",
   "metadata": {},
   "source": [
    "## Checking correlation using confusion matrix of Numerical features "
   ]
  },
  {
   "cell_type": "code",
   "execution_count": 25,
   "id": "5b9c18b3",
   "metadata": {},
   "outputs": [
    {
     "data": {
      "image/png": "[encoded data removed]",
      "text/plain": [
       "<Figure size 432x288 with 2 Axes>"
      ]
     },
     "metadata": {
      "needs_background": "light"
     },
     "output_type": "display_data"
    }
   ],
   "source": [
    "# sn.heatmap(dataset.corr() , annot=True)\n",
    "tem_data = dataset\n",
    "tem_data.HeartDisease = tem_data.HeartDisease.astype('category').cat.codes\n",
    "sn.heatmap(tem_data.corr() , annot=True)\n",
    "plt.title('Numerical Feature Correlation With heart Diseases')\n",
    "plt.show()"
   ]
  },
  {
   "cell_type": "markdown",
   "id": "c3a1b558",
   "metadata": {},
   "source": [
    "Observation \n",
    "\n",
    "\n",
    "\n"
   ]
  },
  {
   "cell_type": "markdown",
   "id": "c00625fa",
   "metadata": {},
   "source": [
    "Base on the Numerical Feature Correlation chart, Physicalhealth and Mentalhealth have the highest correlation of 0.29"
   ]
  },
  {
   "cell_type": "markdown",
   "id": "33417d4d",
   "metadata": {},
   "source": [
    "## Removing duplicates in the dataset "
   ]
  },
  {
   "cell_type": "code",
   "execution_count": 26,
   "id": "70757e3e",
   "metadata": {},
   "outputs": [
    {
     "data": {
      "text/plain": [
       "(301717, 18)"
      ]
     },
     "execution_count": 26,
     "metadata": {},
     "output_type": "execute_result"
    }
   ],
   "source": [
    "dataset.drop_duplicates(inplace = True)\n",
    "dataset.shape"
   ]
  },
  {
   "cell_type": "markdown",
   "id": "7cfbceaf",
   "metadata": {},
   "source": [
    "<h3 style='color:black; align:left' align='left'> Coverting object DATA type attribute to categorical for easy encoding to numerical representation </h3>"
   ]
  },
  {
   "cell_type": "code",
   "execution_count": 27,
   "id": "d21ee2b1",
   "metadata": {},
   "outputs": [
    {
     "name": "stdout",
     "output_type": "stream",
     "text": [
      "<class 'pandas.core.frame.DataFrame'>\n",
      "Int64Index: 301717 entries, 0 to 319794\n",
      "Data columns (total 14 columns):\n",
      " #   Column            Non-Null Count   Dtype \n",
      "---  ------            --------------   ----- \n",
      " 0   HeartDisease      301717 non-null  int8  \n",
      " 1   Smoking           301717 non-null  object\n",
      " 2   AlcoholDrinking   301717 non-null  object\n",
      " 3   Stroke            301717 non-null  object\n",
      " 4   DiffWalking       301717 non-null  object\n",
      " 5   Sex               301717 non-null  object\n",
      " 6   AgeCategory       301717 non-null  object\n",
      " 7   Race              301717 non-null  object\n",
      " 8   Diabetic          301717 non-null  object\n",
      " 9   PhysicalActivity  301717 non-null  object\n",
      " 10  GenHealth         301717 non-null  object\n",
      " 11  Asthma            301717 non-null  object\n",
      " 12  KidneyDisease     301717 non-null  object\n",
      " 13  SkinCancer        301717 non-null  object\n",
      "dtypes: int8(1), object(13)\n",
      "memory usage: 32.5+ MB\n"
     ]
    }
   ],
   "source": [
    "# getting column with 20 value count threshold and then checking thier infomations\n",
    "# # viewing essentail information about the dataset using the info() method .... information reveal include  \n",
    "# . columns\n",
    "# . Non-Null : Number of Values \n",
    "# . Dtype : Data type \n",
    "col , uni_count , val = get_attribute_unique_threshold(dt, 20)\n",
    "dt[col].info()"
   ]
  },
  {
   "cell_type": "markdown",
   "id": "79118127",
   "metadata": {},
   "source": [
    "## Viewing the Categorical Data type conversion outcome"
   ]
  },
  {
   "cell_type": "code",
   "execution_count": 28,
   "id": "f2cb7da4",
   "metadata": {
    "scrolled": false,
    "tags": []
   },
   "outputs": [
    {
     "name": "stdout",
     "output_type": "stream",
     "text": [
      "<class 'pandas.core.frame.DataFrame'>\n",
      "Int64Index: 301717 entries, 0 to 319794\n",
      "Data columns (total 14 columns):\n",
      " #   Column            Non-Null Count   Dtype   \n",
      "---  ------            --------------   -----   \n",
      " 0   HeartDisease      301717 non-null  category\n",
      " 1   Smoking           301717 non-null  category\n",
      " 2   AlcoholDrinking   301717 non-null  category\n",
      " 3   Stroke            301717 non-null  category\n",
      " 4   DiffWalking       301717 non-null  category\n",
      " 5   Sex               301717 non-null  category\n",
      " 6   AgeCategory       301717 non-null  category\n",
      " 7   Race              301717 non-null  category\n",
      " 8   Diabetic          301717 non-null  category\n",
      " 9   PhysicalActivity  301717 non-null  category\n",
      " 10  GenHealth         301717 non-null  category\n",
      " 11  Asthma            301717 non-null  category\n",
      " 12  KidneyDisease     301717 non-null  category\n",
      " 13  SkinCancer        301717 non-null  category\n",
      "dtypes: category(14)\n",
      "memory usage: 6.3 MB\n"
     ]
    }
   ],
   "source": [
    "# converting the object type columns into categorical type \n",
    "# this makes it easy to categorically map those columns value to unique numerical value\n",
    "dt[col] = dt[col].astype('category')\n",
    "dt[col].info()"
   ]
  },
  {
   "cell_type": "markdown",
   "id": "9ff95feb-5929-4f24-8566-dedbd716a509",
   "metadata": {
    "tags": []
   },
   "source": [
    "<h3 style='color:black; align:left' align='left'>CONVERTING CATEGORY TYPE INTO RESPECTIVE NUMERIC CODE </h3>"
   ]
  },
  {
   "cell_type": "code",
   "execution_count": 29,
   "id": "67ee2dc7",
   "metadata": {
    "tags": []
   },
   "outputs": [
    {
     "data": {
      "text/html": [
       "<div>\n",
       "<style scoped>\n",
       "    .dataframe tbody tr th:only-of-type {\n",
       "        vertical-align: middle;\n",
       "    }\n",
       "\n",
       "    .dataframe tbody tr th {\n",
       "        vertical-align: top;\n",
       "    }\n",
       "\n",
       "    .dataframe thead th {\n",
       "        text-align: right;\n",
       "    }\n",
       "</style>\n",
       "<table border=\"1\" class=\"dataframe\">\n",
       "  <thead>\n",
       "    <tr style=\"text-align: right;\">\n",
       "      <th></th>\n",
       "      <th>HeartDisease</th>\n",
       "      <th>BMI</th>\n",
       "      <th>Smoking</th>\n",
       "      <th>AlcoholDrinking</th>\n",
       "      <th>Stroke</th>\n",
       "      <th>PhysicalHealth</th>\n",
       "      <th>MentalHealth</th>\n",
       "      <th>DiffWalking</th>\n",
       "      <th>Sex</th>\n",
       "      <th>AgeCategory</th>\n",
       "      <th>Race</th>\n",
       "      <th>Diabetic</th>\n",
       "      <th>PhysicalActivity</th>\n",
       "      <th>GenHealth</th>\n",
       "      <th>SleepTime</th>\n",
       "      <th>Asthma</th>\n",
       "      <th>KidneyDisease</th>\n",
       "      <th>SkinCancer</th>\n",
       "    </tr>\n",
       "  </thead>\n",
       "  <tbody>\n",
       "    <tr>\n",
       "      <th>0</th>\n",
       "      <td>0</td>\n",
       "      <td>16.60</td>\n",
       "      <td>1</td>\n",
       "      <td>0</td>\n",
       "      <td>0</td>\n",
       "      <td>3.0</td>\n",
       "      <td>30.0</td>\n",
       "      <td>0</td>\n",
       "      <td>0</td>\n",
       "      <td>7</td>\n",
       "      <td>5</td>\n",
       "      <td>2</td>\n",
       "      <td>1</td>\n",
       "      <td>4</td>\n",
       "      <td>5.0</td>\n",
       "      <td>1</td>\n",
       "      <td>0</td>\n",
       "      <td>1</td>\n",
       "    </tr>\n",
       "    <tr>\n",
       "      <th>1</th>\n",
       "      <td>0</td>\n",
       "      <td>20.34</td>\n",
       "      <td>0</td>\n",
       "      <td>0</td>\n",
       "      <td>1</td>\n",
       "      <td>0.0</td>\n",
       "      <td>0.0</td>\n",
       "      <td>0</td>\n",
       "      <td>0</td>\n",
       "      <td>12</td>\n",
       "      <td>5</td>\n",
       "      <td>0</td>\n",
       "      <td>1</td>\n",
       "      <td>4</td>\n",
       "      <td>7.0</td>\n",
       "      <td>0</td>\n",
       "      <td>0</td>\n",
       "      <td>0</td>\n",
       "    </tr>\n",
       "  </tbody>\n",
       "</table>\n",
       "</div>"
      ],
      "text/plain": [
       "   HeartDisease    BMI  Smoking  AlcoholDrinking  Stroke  PhysicalHealth  \\\n",
       "0             0  16.60        1                0       0             3.0   \n",
       "1             0  20.34        0                0       1             0.0   \n",
       "\n",
       "   MentalHealth  DiffWalking  Sex  AgeCategory  Race  Diabetic  \\\n",
       "0          30.0            0    0            7     5         2   \n",
       "1           0.0            0    0           12     5         0   \n",
       "\n",
       "   PhysicalActivity  GenHealth  SleepTime  Asthma  KidneyDisease  SkinCancer  \n",
       "0                 1          4        5.0       1              0           1  \n",
       "1                 1          4        7.0       0              0           0  "
      ]
     },
     "execution_count": 29,
     "metadata": {},
     "output_type": "execute_result"
    }
   ],
   "source": [
    "# encoding the neccessary columns into numerical representation \n",
    "for c in col:\n",
    "    dt[c] = dt[c].cat.codes\n",
    "    \n",
    "dt.head(2)"
   ]
  },
  {
   "cell_type": "markdown",
   "id": "4678fc35",
   "metadata": {},
   "source": [
    "## information about the encoded features into number type (int8)"
   ]
  },
  {
   "cell_type": "code",
   "execution_count": 30,
   "id": "b9a1681c",
   "metadata": {
    "tags": []
   },
   "outputs": [
    {
     "name": "stdout",
     "output_type": "stream",
     "text": [
      "<class 'pandas.core.frame.DataFrame'>\n",
      "Int64Index: 301717 entries, 0 to 319794\n",
      "Data columns (total 18 columns):\n",
      " #   Column            Non-Null Count   Dtype  \n",
      "---  ------            --------------   -----  \n",
      " 0   HeartDisease      301717 non-null  int8   \n",
      " 1   BMI               301717 non-null  float64\n",
      " 2   Smoking           301717 non-null  int8   \n",
      " 3   AlcoholDrinking   301717 non-null  int8   \n",
      " 4   Stroke            301717 non-null  int8   \n",
      " 5   PhysicalHealth    301717 non-null  float64\n",
      " 6   MentalHealth      301717 non-null  float64\n",
      " 7   DiffWalking       301717 non-null  int8   \n",
      " 8   Sex               301717 non-null  int8   \n",
      " 9   AgeCategory       301717 non-null  int8   \n",
      " 10  Race              301717 non-null  int8   \n",
      " 11  Diabetic          301717 non-null  int8   \n",
      " 12  PhysicalActivity  301717 non-null  int8   \n",
      " 13  GenHealth         301717 non-null  int8   \n",
      " 14  SleepTime         301717 non-null  float64\n",
      " 15  Asthma            301717 non-null  int8   \n",
      " 16  KidneyDisease     301717 non-null  int8   \n",
      " 17  SkinCancer        301717 non-null  int8   \n",
      "dtypes: float64(4), int8(14)\n",
      "memory usage: 15.5 MB\n"
     ]
    }
   ],
   "source": [
    "# showing the attribute data type after convertion to integers (numeric representation)\n",
    "dt.info()"
   ]
  },
  {
   "cell_type": "markdown",
   "id": "8589ce5c-4558-4c74-b100-9a63723a4dd7",
   "metadata": {
    "tags": []
   },
   "source": [
    "\n",
    "### Viewing the relationship between features in percentage using confusion Matrix (correlation mapping )"
   ]
  },
  {
   "cell_type": "code",
   "execution_count": 31,
   "id": "c4fc0934-b3a3-4ec1-a508-b55b7b37403f",
   "metadata": {
    "tags": []
   },
   "outputs": [
    {
     "data": {
      "image/png": "[encoded data removed]",
      "text/plain": [
       "<Figure size 1008x720 with 2 Axes>"
      ]
     },
     "metadata": {
      "needs_background": "light"
     },
     "output_type": "display_data"
    }
   ],
   "source": [
    "import seaborn as sn \n",
    "\n",
    "# using the seaborn module to visualize the percentage level of correlation between the attributes ....\n",
    "plt.figure(figsize=(14, 10))\n",
    "sn.heatmap(dt.corr(), annot=True)\n",
    "plt.title('Correlation of all Features')\n",
    "plt.show()"
   ]
  },
  {
   "cell_type": "markdown",
   "id": "2134edbc",
   "metadata": {},
   "source": [
    "Key Observation\n",
    "<hr>\n",
    "the chart revealed that PhysicalHealth have the highest Correlation Features with difficuty walking compare to other features\n",
    " <br>"
   ]
  },
  {
   "cell_type": "markdown",
   "id": "9329e44b-2cc5-4b87-bb6c-6e3d0cdba2c0",
   "metadata": {
    "tags": []
   },
   "source": [
    "## DATA SCALLING USING MIN MAX SCALE APPROACH"
   ]
  },
  {
   "cell_type": "code",
   "execution_count": 32,
   "id": "76939b83-544a-4558-9e63-8644873acea3",
   "metadata": {
    "tags": []
   },
   "outputs": [
    {
     "data": {
      "text/html": [
       "<div>\n",
       "<style scoped>\n",
       "    .dataframe tbody tr th:only-of-type {\n",
       "        vertical-align: middle;\n",
       "    }\n",
       "\n",
       "    .dataframe tbody tr th {\n",
       "        vertical-align: top;\n",
       "    }\n",
       "\n",
       "    .dataframe thead th {\n",
       "        text-align: right;\n",
       "    }\n",
       "</style>\n",
       "<table border=\"1\" class=\"dataframe\">\n",
       "  <thead>\n",
       "    <tr style=\"text-align: right;\">\n",
       "      <th></th>\n",
       "      <th>HeartDisease</th>\n",
       "      <th>BMI</th>\n",
       "      <th>Smoking</th>\n",
       "      <th>AlcoholDrinking</th>\n",
       "      <th>Stroke</th>\n",
       "      <th>PhysicalHealth</th>\n",
       "      <th>MentalHealth</th>\n",
       "      <th>DiffWalking</th>\n",
       "      <th>Sex</th>\n",
       "      <th>AgeCategory</th>\n",
       "      <th>Race</th>\n",
       "      <th>Diabetic</th>\n",
       "      <th>PhysicalActivity</th>\n",
       "      <th>GenHealth</th>\n",
       "      <th>SleepTime</th>\n",
       "      <th>Asthma</th>\n",
       "      <th>KidneyDisease</th>\n",
       "      <th>SkinCancer</th>\n",
       "    </tr>\n",
       "  </thead>\n",
       "  <tbody>\n",
       "    <tr>\n",
       "      <th>0</th>\n",
       "      <td>0</td>\n",
       "      <td>0.055294</td>\n",
       "      <td>1</td>\n",
       "      <td>0</td>\n",
       "      <td>0</td>\n",
       "      <td>0.100000</td>\n",
       "      <td>1.0</td>\n",
       "      <td>0</td>\n",
       "      <td>0</td>\n",
       "      <td>7</td>\n",
       "      <td>5</td>\n",
       "      <td>2</td>\n",
       "      <td>1</td>\n",
       "      <td>1.00</td>\n",
       "      <td>0.173913</td>\n",
       "      <td>1</td>\n",
       "      <td>0</td>\n",
       "      <td>1</td>\n",
       "    </tr>\n",
       "    <tr>\n",
       "      <th>1</th>\n",
       "      <td>0</td>\n",
       "      <td>0.100447</td>\n",
       "      <td>0</td>\n",
       "      <td>0</td>\n",
       "      <td>1</td>\n",
       "      <td>0.000000</td>\n",
       "      <td>0.0</td>\n",
       "      <td>0</td>\n",
       "      <td>0</td>\n",
       "      <td>12</td>\n",
       "      <td>5</td>\n",
       "      <td>0</td>\n",
       "      <td>1</td>\n",
       "      <td>1.00</td>\n",
       "      <td>0.260870</td>\n",
       "      <td>0</td>\n",
       "      <td>0</td>\n",
       "      <td>0</td>\n",
       "    </tr>\n",
       "    <tr>\n",
       "      <th>2</th>\n",
       "      <td>0</td>\n",
       "      <td>0.175782</td>\n",
       "      <td>1</td>\n",
       "      <td>0</td>\n",
       "      <td>0</td>\n",
       "      <td>0.666667</td>\n",
       "      <td>1.0</td>\n",
       "      <td>0</td>\n",
       "      <td>1</td>\n",
       "      <td>9</td>\n",
       "      <td>5</td>\n",
       "      <td>2</td>\n",
       "      <td>1</td>\n",
       "      <td>0.25</td>\n",
       "      <td>0.304348</td>\n",
       "      <td>1</td>\n",
       "      <td>0</td>\n",
       "      <td>0</td>\n",
       "    </tr>\n",
       "    <tr>\n",
       "      <th>3</th>\n",
       "      <td>0</td>\n",
       "      <td>0.147169</td>\n",
       "      <td>0</td>\n",
       "      <td>0</td>\n",
       "      <td>0</td>\n",
       "      <td>0.000000</td>\n",
       "      <td>0.0</td>\n",
       "      <td>0</td>\n",
       "      <td>0</td>\n",
       "      <td>11</td>\n",
       "      <td>5</td>\n",
       "      <td>0</td>\n",
       "      <td>0</td>\n",
       "      <td>0.50</td>\n",
       "      <td>0.217391</td>\n",
       "      <td>0</td>\n",
       "      <td>0</td>\n",
       "      <td>1</td>\n",
       "    </tr>\n",
       "    <tr>\n",
       "      <th>4</th>\n",
       "      <td>0</td>\n",
       "      <td>0.141132</td>\n",
       "      <td>0</td>\n",
       "      <td>0</td>\n",
       "      <td>0</td>\n",
       "      <td>0.933333</td>\n",
       "      <td>0.0</td>\n",
       "      <td>1</td>\n",
       "      <td>0</td>\n",
       "      <td>4</td>\n",
       "      <td>5</td>\n",
       "      <td>0</td>\n",
       "      <td>1</td>\n",
       "      <td>1.00</td>\n",
       "      <td>0.304348</td>\n",
       "      <td>0</td>\n",
       "      <td>0</td>\n",
       "      <td>0</td>\n",
       "    </tr>\n",
       "    <tr>\n",
       "      <th>...</th>\n",
       "      <td>...</td>\n",
       "      <td>...</td>\n",
       "      <td>...</td>\n",
       "      <td>...</td>\n",
       "      <td>...</td>\n",
       "      <td>...</td>\n",
       "      <td>...</td>\n",
       "      <td>...</td>\n",
       "      <td>...</td>\n",
       "      <td>...</td>\n",
       "      <td>...</td>\n",
       "      <td>...</td>\n",
       "      <td>...</td>\n",
       "      <td>...</td>\n",
       "      <td>...</td>\n",
       "      <td>...</td>\n",
       "      <td>...</td>\n",
       "      <td>...</td>\n",
       "    </tr>\n",
       "    <tr>\n",
       "      <th>319790</th>\n",
       "      <td>1</td>\n",
       "      <td>0.185802</td>\n",
       "      <td>1</td>\n",
       "      <td>0</td>\n",
       "      <td>0</td>\n",
       "      <td>0.233333</td>\n",
       "      <td>0.0</td>\n",
       "      <td>1</td>\n",
       "      <td>1</td>\n",
       "      <td>8</td>\n",
       "      <td>3</td>\n",
       "      <td>2</td>\n",
       "      <td>0</td>\n",
       "      <td>0.25</td>\n",
       "      <td>0.217391</td>\n",
       "      <td>1</td>\n",
       "      <td>0</td>\n",
       "      <td>0</td>\n",
       "    </tr>\n",
       "    <tr>\n",
       "      <th>319791</th>\n",
       "      <td>0</td>\n",
       "      <td>0.215139</td>\n",
       "      <td>1</td>\n",
       "      <td>0</td>\n",
       "      <td>0</td>\n",
       "      <td>0.000000</td>\n",
       "      <td>0.0</td>\n",
       "      <td>0</td>\n",
       "      <td>1</td>\n",
       "      <td>3</td>\n",
       "      <td>3</td>\n",
       "      <td>0</td>\n",
       "      <td>1</td>\n",
       "      <td>1.00</td>\n",
       "      <td>0.173913</td>\n",
       "      <td>1</td>\n",
       "      <td>0</td>\n",
       "      <td>0</td>\n",
       "    </tr>\n",
       "    <tr>\n",
       "      <th>319792</th>\n",
       "      <td>0</td>\n",
       "      <td>0.147531</td>\n",
       "      <td>0</td>\n",
       "      <td>0</td>\n",
       "      <td>0</td>\n",
       "      <td>0.000000</td>\n",
       "      <td>0.0</td>\n",
       "      <td>0</td>\n",
       "      <td>0</td>\n",
       "      <td>5</td>\n",
       "      <td>3</td>\n",
       "      <td>0</td>\n",
       "      <td>1</td>\n",
       "      <td>0.50</td>\n",
       "      <td>0.217391</td>\n",
       "      <td>0</td>\n",
       "      <td>0</td>\n",
       "      <td>0</td>\n",
       "    </tr>\n",
       "    <tr>\n",
       "      <th>319793</th>\n",
       "      <td>0</td>\n",
       "      <td>0.250996</td>\n",
       "      <td>0</td>\n",
       "      <td>0</td>\n",
       "      <td>0</td>\n",
       "      <td>0.000000</td>\n",
       "      <td>0.0</td>\n",
       "      <td>0</td>\n",
       "      <td>0</td>\n",
       "      <td>1</td>\n",
       "      <td>3</td>\n",
       "      <td>0</td>\n",
       "      <td>0</td>\n",
       "      <td>0.50</td>\n",
       "      <td>0.478261</td>\n",
       "      <td>0</td>\n",
       "      <td>0</td>\n",
       "      <td>0</td>\n",
       "    </tr>\n",
       "    <tr>\n",
       "      <th>319794</th>\n",
       "      <td>0</td>\n",
       "      <td>0.416999</td>\n",
       "      <td>0</td>\n",
       "      <td>0</td>\n",
       "      <td>0</td>\n",
       "      <td>0.000000</td>\n",
       "      <td>0.0</td>\n",
       "      <td>0</td>\n",
       "      <td>0</td>\n",
       "      <td>12</td>\n",
       "      <td>3</td>\n",
       "      <td>0</td>\n",
       "      <td>1</td>\n",
       "      <td>0.50</td>\n",
       "      <td>0.304348</td>\n",
       "      <td>0</td>\n",
       "      <td>0</td>\n",
       "      <td>0</td>\n",
       "    </tr>\n",
       "  </tbody>\n",
       "</table>\n",
       "<p>301717 rows × 18 columns</p>\n",
       "</div>"
      ],
      "text/plain": [
       "        HeartDisease       BMI  Smoking  AlcoholDrinking  Stroke  \\\n",
       "0                  0  0.055294        1                0       0   \n",
       "1                  0  0.100447        0                0       1   \n",
       "2                  0  0.175782        1                0       0   \n",
       "3                  0  0.147169        0                0       0   \n",
       "4                  0  0.141132        0                0       0   \n",
       "...              ...       ...      ...              ...     ...   \n",
       "319790             1  0.185802        1                0       0   \n",
       "319791             0  0.215139        1                0       0   \n",
       "319792             0  0.147531        0                0       0   \n",
       "319793             0  0.250996        0                0       0   \n",
       "319794             0  0.416999        0                0       0   \n",
       "\n",
       "        PhysicalHealth  MentalHealth  DiffWalking  Sex  AgeCategory  Race  \\\n",
       "0             0.100000           1.0            0    0            7     5   \n",
       "1             0.000000           0.0            0    0           12     5   \n",
       "2             0.666667           1.0            0    1            9     5   \n",
       "3             0.000000           0.0            0    0           11     5   \n",
       "4             0.933333           0.0            1    0            4     5   \n",
       "...                ...           ...          ...  ...          ...   ...   \n",
       "319790        0.233333           0.0            1    1            8     3   \n",
       "319791        0.000000           0.0            0    1            3     3   \n",
       "319792        0.000000           0.0            0    0            5     3   \n",
       "319793        0.000000           0.0            0    0            1     3   \n",
       "319794        0.000000           0.0            0    0           12     3   \n",
       "\n",
       "        Diabetic  PhysicalActivity  GenHealth  SleepTime  Asthma  \\\n",
       "0              2                 1       1.00   0.173913       1   \n",
       "1              0                 1       1.00   0.260870       0   \n",
       "2              2                 1       0.25   0.304348       1   \n",
       "3              0                 0       0.50   0.217391       0   \n",
       "4              0                 1       1.00   0.304348       0   \n",
       "...          ...               ...        ...        ...     ...   \n",
       "319790         2                 0       0.25   0.217391       1   \n",
       "319791         0                 1       1.00   0.173913       1   \n",
       "319792         0                 1       0.50   0.217391       0   \n",
       "319793         0                 0       0.50   0.478261       0   \n",
       "319794         0                 1       0.50   0.304348       0   \n",
       "\n",
       "        KidneyDisease  SkinCancer  \n",
       "0                   0           1  \n",
       "1                   0           0  \n",
       "2                   0           0  \n",
       "3                   0           1  \n",
       "4                   0           0  \n",
       "...               ...         ...  \n",
       "319790              0           0  \n",
       "319791              0           0  \n",
       "319792              0           0  \n",
       "319793              0           0  \n",
       "319794              0           0  \n",
       "\n",
       "[301717 rows x 18 columns]"
      ]
     },
     "execution_count": 32,
     "metadata": {},
     "output_type": "execute_result"
    }
   ],
   "source": [
    "from sklearn.preprocessing import MinMaxScaler\n",
    "\n",
    "# scalling of data to reduce data distribution of certain columsn (BMI, PhysicalHealth)\n",
    "# min max scaler approach is used ... \n",
    "min_max = MinMaxScaler()\n",
    "dt[['BMI','PhysicalHealth','MentalHealth','SleepTime', 'GenHealth']] = \\\n",
    "            min_max.fit_transform(dt[['BMI','PhysicalHealth','MentalHealth','SleepTime', 'GenHealth']])\n",
    "dt"
   ]
  },
  {
   "cell_type": "markdown",
   "id": "e5fe517d",
   "metadata": {},
   "source": [
    "## Heart Disease Data Splitting (80%-20%) "
   ]
  },
  {
   "cell_type": "code",
   "execution_count": 33,
   "id": "03b34074",
   "metadata": {
    "tags": []
   },
   "outputs": [],
   "source": [
    "# extracting the output variable (Y) and the input variable (X)\n",
    "y = dt.HeartDisease\n",
    "X = dt.drop(columns=['HeartDisease'])"
   ]
  },
  {
   "cell_type": "code",
   "execution_count": 34,
   "id": "9f9ac94c",
   "metadata": {
    "tags": []
   },
   "outputs": [
    {
     "name": "stdout",
     "output_type": "stream",
     "text": [
      "Training Set 80%\n",
      "_________________________\n",
      "X train 241373\n",
      "y Train 241373\n",
      "\n",
      "=================================\n",
      "Testing Set 20%\n",
      "_________________________\n",
      "X Test 60344\n",
      "y Test 60344\n"
     ]
    }
   ],
   "source": [
    "# splitting the dataset into 80% training sample and 20% testing sample\n",
    "X_train, X_test, y_train, y_test = model_selection.train_test_split(X, y, test_size=0.2)\n",
    "\n",
    "# show the splited data value count\n",
    "print('Training Set 80%')\n",
    "print('_________________________')\n",
    "print(f'X train {len(X_train)}')\n",
    "print(f'y Train {len(y_train)}\\n')\n",
    "print('=================================')\n",
    "print('Testing Set 20%')\n",
    "print('_________________________')\n",
    "print(f'X Test {len(X_test)}')\n",
    "print(f'y Test {len(y_test)}')"
   ]
  },
  {
   "cell_type": "markdown",
   "id": "071974b9",
   "metadata": {},
   "source": [
    "## Machine Learning Models"
   ]
  },
  {
   "cell_type": "markdown",
   "id": "fe3cd4bd-3d81-4d67-8be5-eae6c89ffc0b",
   "metadata": {},
   "source": [
    "<ol style='color:black'>\n",
    "    <li> Logistic Regression </li>\n",
    "    <li> Gussian Naive Bayes  </li>\n",
    "    <li> Random Forest </li>\n",
    "    <li> AdaBoost Classifer </li>\n",
    "    \n",
    "   </ol>\n",
    "   \n",
    "    The models were chose base on the dataset which contains two distinct class (Yes=1 and No = 0) hence, a binary classifiaction problem"
   ]
  },
  {
   "cell_type": "markdown",
   "id": "e119bdb2",
   "metadata": {},
   "source": [
    "## Logistic Regression"
   ]
  },
  {
   "cell_type": "code",
   "execution_count": 35,
   "id": "691b5fb9",
   "metadata": {},
   "outputs": [
    {
     "name": "stdout",
     "output_type": "stream",
     "text": [
      "====================================================================================================\n",
      "            LogisticRegression Machine Learning Algorithm : Accuracy -> 0.909154182685934\n",
      "====================================================================================================\n"
     ]
    }
   ],
   "source": [
    "#  Logistic Regression model was adopted to first classifier the unbalance dataset\n",
    "#  the algorithm is adopted becuase is one of the best use to address binary classification problem\n",
    "\n",
    "\n",
    "# Initializing logistic regression  \n",
    "lr  = LogisticRegression()\n",
    "\n",
    "# training of LR model\n",
    "lr_model = lr.fit(X_train , y_train)\n",
    "\n",
    "# checking the accuracy score.... \n",
    "lr_accuracy = lr_model.score(X_test, y_test)\n",
    "\n",
    "print('====================================================================================================')\n",
    "print(f'            {str(lr_model)[:-2]} Machine Learning Algorithm : Accuracy -> {lr_accuracy}')\n",
    "print('====================================================================================================')"
   ]
  },
  {
   "cell_type": "code",
   "execution_count": 36,
   "id": "c714ee91",
   "metadata": {},
   "outputs": [
    {
     "name": "stdout",
     "output_type": "stream",
     "text": [
      "======================================= CLASSIFICATION REPORT ==================================\n",
      "              precision    recall  f1-score   support\n",
      "\n",
      "           0       0.92      0.99      0.95     54849\n",
      "           1       0.51      0.09      0.15      5495\n",
      "\n",
      "    accuracy                           0.91     60344\n",
      "   macro avg       0.71      0.54      0.55     60344\n",
      "weighted avg       0.88      0.91      0.88     60344\n",
      "\n",
      "\n",
      "\n",
      "======================================= CONFUSION MATRIX =======================================\n"
     ]
    },
    {
     "data": {
      "image/png": "[encoded data removed]",
      "text/plain": [
       "<Figure size 432x288 with 2 Axes>"
      ]
     },
     "metadata": {
      "needs_background": "light"
     },
     "output_type": "display_data"
    }
   ],
   "source": [
    "# Evaluating the logistic regression model \n",
    "prediction = lr_model.predict(X_test)\n",
    "rpt = metrics.classification_report(y_test, prediction)\n",
    "cm = metrics.confusion_matrix(y_test, prediction)\n",
    "lr_pre, lr_recall = precision = metrics.precision_score(y_test, prediction) , metrics.recall_score(y_test, prediction)\n",
    "\n",
    "print('======================================= CLASSIFICATION REPORT ==================================')\n",
    "print(rpt)\n",
    "\n",
    "print('\\n\\n======================================= CONFUSION MATRIX =======================================')\n",
    "plt.title(f'{str(lr_model)} Confussion Matric')\n",
    "sn.heatmap(cm, annot=True, fmt='d' )\n",
    "plt.xlabel('Prediction')\n",
    "plt.ylabel('Truth')\n",
    "plt.show()"
   ]
  },
  {
   "cell_type": "code",
   "execution_count": 37,
   "id": "ecb8bc07",
   "metadata": {},
   "outputs": [
    {
     "data": {
      "text/plain": [
       "Text(0, 0.5, 'True Positive Rate (TPR)')"
      ]
     },
     "execution_count": 37,
     "metadata": {},
     "output_type": "execute_result"
    },
    {
     "data": {
      "image/png": "[encoded data removed]",
      "text/plain": [
       "<Figure size 432x288 with 1 Axes>"
      ]
     },
     "metadata": {
      "needs_background": "light"
     },
     "output_type": "display_data"
    }
   ],
   "source": [
    "# visualizing the ROC curve metric\n",
    "prob_pred = lr_model.predict_proba(X_test)[::, 1]\n",
    "fpr , tpr, th = metrics.roc_curve(y_test, prob_pred)\n",
    "\n",
    "plt.title('ROC (Reciever Operating Character Curve)')\n",
    "plt.plot(fpr, tpr)\n",
    "plt.xlabel('False Positive Rate (FPR)')\n",
    "plt.ylabel('True Positive Rate (TPR)')"
   ]
  },
  {
   "cell_type": "markdown",
   "id": "3aa6bec3",
   "metadata": {},
   "source": [
    "## Generic Function for Model training and evaluation"
   ]
  },
  {
   "cell_type": "code",
   "execution_count": 38,
   "id": "65491a67",
   "metadata": {
    "tags": []
   },
   "outputs": [],
   "source": [
    "# building a generalize/customize method for training the  machine learning models\n",
    "# evaluating and visualizing scores,  showing classification report, confusion matrix and ROC curve \n",
    "# this will avoid repition of codes\n",
    "\n",
    "y = dt.HeartDisease\n",
    "X = dt.drop(columns=['HeartDisease'])\n",
    "\n",
    "def compile_ml_model(model, X, y, labels, cr=True, confmatix=True, roc=True): \n",
    "    \n",
    "#     DATA SPLITING \n",
    "    X_train, X_test, y_train, y_test = model_selection.train_test_split(X, y, test_size=0.2)\n",
    "\n",
    "    print('Training Set 80%')\n",
    "    print('_________________________')\n",
    "    print(f'X train {len(X_train)}')\n",
    "    print(f'y Train {len(y_train)}\\n')\n",
    "    print('=================================')\n",
    "    print('Testing Set 20%')\n",
    "    print('_________________________')\n",
    "    print(f'X Test {len(X_test)}')\n",
    "    print(f'y Test {len(y_test)}')\n",
    "    \n",
    "#     MODEL TRAINING\n",
    "    ml_model  = model\n",
    "    ml_model = ml_model.fit(X_train , y_train)\n",
    "    accuracy = ml_model.score(X_test, y_test)\n",
    "    print('====================================================================================================')\n",
    "    print(f'            {str(ml_model)[:-2]} Machine Learning Algorithm : Accuracy -> {accuracy}')\n",
    "    print('====================================================================================================')\n",
    "    \n",
    "#     MODEL EVALUTAION \n",
    "    prediction = ml_model.predict(X_test)\n",
    "    rpt = metrics.classification_report(y_test, prediction)\n",
    "    cm = metrics.confusion_matrix(y_test, prediction)\n",
    "    precision , recall = metrics.precision_score(y_test, prediction) , metrics.recall_score(y_test, prediction)\n",
    "    \n",
    "#     CHECKING CLASSIFICATION REPORT CONDITION\n",
    "    if cr: \n",
    "        print('======================================= CLASSIFICATION REPORT ==================================')\n",
    "        print(rpt)\n",
    "\n",
    " #     CHECKING CONFUSION MATRIX REPORT CONDITION\n",
    "    if confmatix:\n",
    "        print('\\n\\n======================================= CONFUSION MATRIX =======================================')\n",
    "        plt.title(f'{str(ml_model)} Confussion Matric')\n",
    "        sn.heatmap(cm, annot=True, fmt='d' , xticklabels=labels, yticklabels=labels)\n",
    "        plt.xlabel('Prediction')\n",
    "        plt.ylabel('Truth')\n",
    "        plt.show()\n",
    "        \n",
    "#     CHECKING ROC REPORT CONDITION\n",
    "    if roc:\n",
    "        print('\\n\\n======================================= ROC CURVE ============================================')\n",
    "        prob_pred = ml_model.predict_proba(X_test)[::, 1]\n",
    "        fpr , tpr, th = metrics.roc_curve(y_test, prob_pred)\n",
    "\n",
    "        plt.title('ROC (Reciever Operating Character Curve)')\n",
    "        plt.plot(fpr, tpr)\n",
    "        plt.xlabel('False Positive Rate (FPR)')\n",
    "        plt.ylabel('True Positive Rate (TPR)')\n",
    "        \n",
    "    return accuracy, precision, recall\n",
    "    "
   ]
  },
  {
   "cell_type": "markdown",
   "id": "6a28ee6b",
   "metadata": {},
   "source": [
    "## Gussian Naive Bayes "
   ]
  },
  {
   "cell_type": "code",
   "execution_count": 39,
   "id": "f3c0825f",
   "metadata": {},
   "outputs": [
    {
     "name": "stdout",
     "output_type": "stream",
     "text": [
      "Training Set 80%\n",
      "_________________________\n",
      "X train 241373\n",
      "y Train 241373\n",
      "\n",
      "=================================\n",
      "Testing Set 20%\n",
      "_________________________\n",
      "X Test 60344\n",
      "y Test 60344\n",
      "====================================================================================================\n",
      "            GaussianNB Machine Learning Algorithm : Accuracy -> 0.8425858411772504\n",
      "====================================================================================================\n",
      "======================================= CLASSIFICATION REPORT ==================================\n",
      "              precision    recall  f1-score   support\n",
      "\n",
      "           0       0.94      0.88      0.91     54862\n",
      "           1       0.28      0.45      0.34      5482\n",
      "\n",
      "    accuracy                           0.84     60344\n",
      "   macro avg       0.61      0.67      0.63     60344\n",
      "weighted avg       0.88      0.84      0.86     60344\n",
      "\n",
      "\n",
      "\n",
      "======================================= CONFUSION MATRIX =======================================\n"
     ]
    },
    {
     "data": {
      "image/png": "[encoded data removed]",
      "text/plain": [
       "<Figure size 432x288 with 2 Axes>"
      ]
     },
     "metadata": {
      "needs_background": "light"
     },
     "output_type": "display_data"
    },
    {
     "name": "stdout",
     "output_type": "stream",
     "text": [
      "\n",
      "\n",
      "======================================= ROC CURVE ============================================\n"
     ]
    },
    {
     "data": {
      "image/png": "[encoded data removed]",
      "text/plain": [
       "<Figure size 432x288 with 1 Axes>"
      ]
     },
     "metadata": {
      "needs_background": "light"
     },
     "output_type": "display_data"
    }
   ],
   "source": [
    "# Naive Bayes has a higher bias and low variance in comparision to Logistic Regression. \n",
    "# Results are analyzed to know the data generation making it easier to\n",
    "# predict with less variables and less data\n",
    "\n",
    "# CALLING THE GENERIC METHOD... FOR TRAINING AND EVALUATING THE GUSSIAN NAIVE BAYES \n",
    "nb_accuracy , nb_pre, nb_rec = compile_ml_model(GaussianNB(), X, y,  ['No', \"Yes\"] )"
   ]
  },
  {
   "cell_type": "markdown",
   "id": "af391ade",
   "metadata": {},
   "source": [
    "### Random Forest Classifier "
   ]
  },
  {
   "cell_type": "code",
   "execution_count": 40,
   "id": "cd2bc8ae",
   "metadata": {},
   "outputs": [
    {
     "name": "stdout",
     "output_type": "stream",
     "text": [
      "Training Set 80%\n",
      "_________________________\n",
      "X train 241373\n",
      "y Train 241373\n",
      "\n",
      "=================================\n",
      "Testing Set 20%\n",
      "_________________________\n",
      "X Test 60344\n",
      "y Test 60344\n",
      "====================================================================================================\n",
      "            RandomForestClassifier Machine Learning Algorithm : Accuracy -> 0.898316319766671\n",
      "====================================================================================================\n",
      "======================================= CLASSIFICATION REPORT ==================================\n",
      "              precision    recall  f1-score   support\n",
      "\n",
      "           0       0.92      0.98      0.95     54862\n",
      "           1       0.33      0.12      0.18      5482\n",
      "\n",
      "    accuracy                           0.90     60344\n",
      "   macro avg       0.63      0.55      0.56     60344\n",
      "weighted avg       0.86      0.90      0.88     60344\n",
      "\n",
      "\n",
      "\n",
      "======================================= CONFUSION MATRIX =======================================\n"
     ]
    },
    {
     "data": {
      "image/png": "[encoded data removed]",
      "text/plain": [
       "<Figure size 432x288 with 2 Axes>"
      ]
     },
     "metadata": {
      "needs_background": "light"
     },
     "output_type": "display_data"
    },
    {
     "name": "stdout",
     "output_type": "stream",
     "text": [
      "\n",
      "\n",
      "======================================= ROC CURVE ============================================\n"
     ]
    },
    {
     "data": {
      "image/png": "[encoded data removed]",
      "text/plain": [
       "<Figure size 432x288 with 1 Axes>"
      ]
     },
     "metadata": {
      "needs_background": "light"
     },
     "output_type": "display_data"
    }
   ],
   "source": [
    "#                                      NOTE\n",
    "# Random forest is an ensemble machine learning model.. and its adopted because it works well with \n",
    "#                             unbalance type of data.....\n",
    "\n",
    "# CALLING THE GENERIC METHOD... FOR TRAINING AND EVALUATING THE RANDOM FOREST CLASSIFIER\n",
    "rdf_acuracy, rdf_pre, rdf_recall = compile_ml_model(RandomForestClassifier(), X, y, ['No', \"Yes\"] )"
   ]
  },
  {
   "cell_type": "markdown",
   "id": "d19b04a2",
   "metadata": {},
   "source": [
    "### Ada Boost Classifier "
   ]
  },
  {
   "cell_type": "code",
   "execution_count": 41,
   "id": "405f7807",
   "metadata": {
    "scrolled": false
   },
   "outputs": [
    {
     "name": "stdout",
     "output_type": "stream",
     "text": [
      "Training Set 80%\n",
      "_________________________\n",
      "X train 241373\n",
      "y Train 241373\n",
      "\n",
      "=================================\n",
      "Testing Set 20%\n",
      "_________________________\n",
      "X Test 60344\n",
      "y Test 60344\n",
      "====================================================================================================\n",
      "            AdaBoostClassifier Machine Learning Algorithm : Accuracy -> 0.9111759246983958\n",
      "====================================================================================================\n",
      "======================================= CLASSIFICATION REPORT ==================================\n",
      "              precision    recall  f1-score   support\n",
      "\n",
      "           0       0.92      0.99      0.95     54926\n",
      "           1       0.52      0.11      0.19      5418\n",
      "\n",
      "    accuracy                           0.91     60344\n",
      "   macro avg       0.72      0.55      0.57     60344\n",
      "weighted avg       0.88      0.91      0.88     60344\n",
      "\n",
      "\n",
      "\n",
      "======================================= CONFUSION MATRIX =======================================\n"
     ]
    },
    {
     "data": {
      "image/png": "[encoded data removed]",
      "text/plain": [
       "<Figure size 432x288 with 2 Axes>"
      ]
     },
     "metadata": {
      "needs_background": "light"
     },
     "output_type": "display_data"
    },
    {
     "name": "stdout",
     "output_type": "stream",
     "text": [
      "\n",
      "\n",
      "======================================= ROC CURVE ============================================\n"
     ]
    },
    {
     "data": {
      "image/png": "[encoded data removed]",
      "text/plain": [
       "<Figure size 432x288 with 1 Axes>"
      ]
     },
     "metadata": {
      "needs_background": "light"
     },
     "output_type": "display_data"
    }
   ],
   "source": [
    "# Adaboost is less prone to overfitting as the input parameters are not jointly optimized. \n",
    "# The accuracy of weak classifiers can be improved by using Adaboost\n",
    "# let see is performance in comparision to random forest classfier\n",
    "\n",
    "# CALLING THE GENERIC METHOD... FOR TRAINING AND EVALUATING THE ADABOOST CLASSIFIER\n",
    "ada_accuracy, ada_pre, ada_rec = compile_ml_model(AdaBoostClassifier(), X, y, ['No', \"Yes\"] )"
   ]
  },
  {
   "cell_type": "markdown",
   "id": "0c2f7ee7",
   "metadata": {},
   "source": [
    "  OBSERVATIONS \n",
    "  \n",
    " the logistic regression algorithm perform better than naive bayes algorithm by handling the unbalance \n",
    " class of the dataset. it can been seen that the accuracy of the minority class for logistic\n",
    " regression is better than that of naive bayes \n",
    " Logistic Regression also outpeform the Random forest except Adaboost\n",
    "\n",
    " it can be agreed that both logistic and Adaboost are capable of performing well with unbalance dataset \n",
    " in comparision to other Machine learning considered"
   ]
  },
  {
   "cell_type": "markdown",
   "id": "46306d85",
   "metadata": {},
   "source": [
    "## Result Summary for ML and UNBalanced dataset"
   ]
  },
  {
   "cell_type": "code",
   "execution_count": 42,
   "id": "e3428be1",
   "metadata": {},
   "outputs": [
    {
     "data": {
      "text/html": [
       "<div>\n",
       "<style scoped>\n",
       "    .dataframe tbody tr th:only-of-type {\n",
       "        vertical-align: middle;\n",
       "    }\n",
       "\n",
       "    .dataframe tbody tr th {\n",
       "        vertical-align: top;\n",
       "    }\n",
       "\n",
       "    .dataframe thead th {\n",
       "        text-align: right;\n",
       "    }\n",
       "</style>\n",
       "<table border=\"1\" class=\"dataframe\">\n",
       "  <thead>\n",
       "    <tr style=\"text-align: right;\">\n",
       "      <th></th>\n",
       "      <th>Model</th>\n",
       "      <th>Score</th>\n",
       "      <th>precision</th>\n",
       "      <th>recall</th>\n",
       "    </tr>\n",
       "  </thead>\n",
       "  <tbody>\n",
       "    <tr>\n",
       "      <th>0</th>\n",
       "      <td>logistic regression</td>\n",
       "      <td>0.909154</td>\n",
       "      <td>0.506878</td>\n",
       "      <td>0.087170</td>\n",
       "    </tr>\n",
       "    <tr>\n",
       "      <th>1</th>\n",
       "      <td>Gussian Naive Bayes</td>\n",
       "      <td>0.842586</td>\n",
       "      <td>0.276012</td>\n",
       "      <td>0.451478</td>\n",
       "    </tr>\n",
       "    <tr>\n",
       "      <th>2</th>\n",
       "      <td>Random Forest</td>\n",
       "      <td>0.898316</td>\n",
       "      <td>0.332993</td>\n",
       "      <td>0.118935</td>\n",
       "    </tr>\n",
       "    <tr>\n",
       "      <th>3</th>\n",
       "      <td>AdaBoost Classifier</td>\n",
       "      <td>0.911176</td>\n",
       "      <td>0.524871</td>\n",
       "      <td>0.112957</td>\n",
       "    </tr>\n",
       "  </tbody>\n",
       "</table>\n",
       "</div>"
      ],
      "text/plain": [
       "                 Model     Score  precision    recall\n",
       "0  logistic regression  0.909154   0.506878  0.087170\n",
       "1  Gussian Naive Bayes  0.842586   0.276012  0.451478\n",
       "2        Random Forest  0.898316   0.332993  0.118935\n",
       "3  AdaBoost Classifier  0.911176   0.524871  0.112957"
      ]
     },
     "execution_count": 42,
     "metadata": {},
     "output_type": "execute_result"
    }
   ],
   "source": [
    "results = pd.DataFrame({\n",
    "    'Model':['logistic regression','Gussian Naive Bayes', 'Random Forest', 'AdaBoost Classifier'],\n",
    "    'Score':[lr_accuracy, nb_accuracy, rdf_acuracy, ada_accuracy], \n",
    "    'precision':[lr_pre, nb_pre, rdf_pre, ada_pre], \n",
    "    'recall':[lr_recall, nb_rec, rdf_recall, ada_rec]}) \n",
    "\n",
    "results"
   ]
  },
  {
   "cell_type": "markdown",
   "id": "676cd7a3",
   "metadata": {},
   "source": [
    "## Enhancing Dataset  (Using Over Sample Balancing Techniques and Data Scalling)"
   ]
  },
  {
   "cell_type": "markdown",
   "id": "3c61c2be",
   "metadata": {},
   "source": [
    "# DATA BALANCING"
   ]
  },
  {
   "cell_type": "markdown",
   "id": "480e1c2d",
   "metadata": {},
   "source": [
    "## Data Balancing using SMOTE Techniques"
   ]
  },
  {
   "cell_type": "markdown",
   "id": "46dd3311-17fd-4cd5-9edb-55d1aacde47f",
   "metadata": {
    "tags": []
   },
   "source": [
    "<h2 style='color:green'>What is SMOTE?</h2>\n",
    "<ol>\n",
    "<li>\n",
    "SMOTE stands for Synthetic Minority Over-sampling Technique.</li>\n",
    "<li>It is an over-sampling technique in which new synthetic observations are created using the existing samples of the minority class.</li>\n",
    "<li>It generates virtual training records by linear interpolation for the minority class.</li>\n",
    "<li>After the oversampling process, the data is reconstructed, and several classification models can be applied for the processed data.</li>\n",
    "</ol"
   ]
  },
  {
   "cell_type": "markdown",
   "id": "b71e0515",
   "metadata": {},
   "source": [
    "<h3 style='color:black; font-family:taoma'> Machine Learning Algorithm  <b> + </b> Data balancing (SMOTE) </h3>\n",
    "\n",
    "\n",
    "<ol style='color:blue'>\n",
    "    <li> Logistic Regression </li>\n",
    "    <li> Gussian Naive Bayes  </li>\n",
    "    <li> Random Forest </li>\n",
    "    <li> AdaBoost Classifer </li>\n",
    "    \n",
    "</ol>"
   ]
  },
  {
   "cell_type": "code",
   "execution_count": 43,
   "id": "a183b385",
   "metadata": {
    "tags": []
   },
   "outputs": [
    {
     "data": {
      "text/plain": [
       "0    274456\n",
       "1    274456\n",
       "Name: HeartDisease, dtype: int64"
      ]
     },
     "execution_count": 43,
     "metadata": {},
     "output_type": "execute_result"
    }
   ],
   "source": [
    "from imblearn.over_sampling import SMOTE\n",
    "\n",
    "# DUE TO THE UNBALANCE NATURE OF THE DATASET AVAILAIBLE ITS IMPORTANT TO BALANCE THE DATASET TO AVOID BIAS PREDICTION \n",
    "\n",
    "# initializing the SMOTE Technique ... \n",
    "smote = SMOTE(sampling_strategy='minority')\n",
    "x_balanced , y_balanced = smote.fit_resample(X, y)\n",
    "\n",
    "# checking if the SMOTE sample balance the data...  \n",
    "y_balanced.value_counts()"
   ]
  },
  {
   "cell_type": "markdown",
   "id": "edecdc4b-cf9b-4135-8fff-50ad7473d536",
   "metadata": {},
   "source": [
    "## Visualizing Balance Data"
   ]
  },
  {
   "cell_type": "code",
   "execution_count": 44,
   "id": "e067c76c",
   "metadata": {
    "tags": []
   },
   "outputs": [
    {
     "data": {
      "image/png": "[encoded data removed]",
      "text/plain": [
       "<Figure size 288x216 with 1 Axes>"
      ]
     },
     "metadata": {
      "needs_background": "light"
     },
     "output_type": "display_data"
    }
   ],
   "source": [
    "# visualizing the balanced data\n",
    "y_balanced.value_counts().plot(kind='bar', title= f'Heart Disease Class Distribution', color=['brown', 'orange'], figsize=(4,3))\n",
    "plt.xlabel('Class Distribution')\n",
    "plt.ylabel('Datapoint Count')\n",
    "plt.grid(False)\n",
    "plt.show()"
   ]
  },
  {
   "cell_type": "markdown",
   "id": "105ca545",
   "metadata": {},
   "source": [
    "## LogisticRegression "
   ]
  },
  {
   "cell_type": "code",
   "execution_count": 45,
   "id": "3d702320",
   "metadata": {
    "scrolled": false
   },
   "outputs": [
    {
     "name": "stdout",
     "output_type": "stream",
     "text": [
      "Training Set 80%\n",
      "_________________________\n",
      "X train 439129\n",
      "y Train 439129\n",
      "\n",
      "=================================\n",
      "Testing Set 20%\n",
      "_________________________\n",
      "X Test 109783\n",
      "y Test 109783\n",
      "====================================================================================================\n",
      "            LogisticRegression Machine Learning Algorithm : Accuracy -> 0.7396591457693814\n",
      "====================================================================================================\n",
      "======================================= CLASSIFICATION REPORT ==================================\n",
      "              precision    recall  f1-score   support\n",
      "\n",
      "           0       0.75      0.71      0.73     54779\n",
      "           1       0.73      0.77      0.75     55004\n",
      "\n",
      "    accuracy                           0.74    109783\n",
      "   macro avg       0.74      0.74      0.74    109783\n",
      "weighted avg       0.74      0.74      0.74    109783\n",
      "\n",
      "\n",
      "\n",
      "======================================= CONFUSION MATRIX =======================================\n"
     ]
    },
    {
     "data": {
      "image/png": "[encoded data removed]",
      "text/plain": [
       "<Figure size 432x288 with 2 Axes>"
      ]
     },
     "metadata": {
      "needs_background": "light"
     },
     "output_type": "display_data"
    },
    {
     "name": "stdout",
     "output_type": "stream",
     "text": [
      "\n",
      "\n",
      "======================================= ROC CURVE ============================================\n"
     ]
    },
    {
     "data": {
      "image/png": "[encoded data removed]",
      "text/plain": [
       "<Figure size 432x288 with 1 Axes>"
      ]
     },
     "metadata": {
      "needs_background": "light"
     },
     "output_type": "display_data"
    }
   ],
   "source": [
    "#  using the balance dataset to train the logistic regression \n",
    "#  according to the previous prediction its identify that the  accuracy for each class is unqual \n",
    "# the 0==> NO class has lower prediction accuracy due to lower number of datapoint in that class\n",
    "\n",
    "# CALLING THE GENERIC METHOD... FOR TRAINING AND EVALUATING THE LOGISTIC REGRESSION MODEL - USING BALANCED DATA\n",
    "lr_accuray_smote, lr_sm_pre, lr_sm_rec = compile_ml_model(LogisticRegression(), x_balanced, y_balanced, ['No', \"Yes\"], confmatix=True )"
   ]
  },
  {
   "cell_type": "code",
   "execution_count": 46,
   "id": "72baf011",
   "metadata": {},
   "outputs": [
    {
     "data": {
      "text/plain": [
       "0.7396591457693814"
      ]
     },
     "execution_count": 46,
     "metadata": {},
     "output_type": "execute_result"
    }
   ],
   "source": [
    "lr_accuray_smote"
   ]
  },
  {
   "cell_type": "markdown",
   "id": "23479e04",
   "metadata": {},
   "source": [
    "## Naive Bayesian Classifier"
   ]
  },
  {
   "cell_type": "code",
   "execution_count": 47,
   "id": "ee0691d2",
   "metadata": {
    "scrolled": false
   },
   "outputs": [
    {
     "name": "stdout",
     "output_type": "stream",
     "text": [
      "Training Set 80%\n",
      "_________________________\n",
      "X train 439129\n",
      "y Train 439129\n",
      "\n",
      "=================================\n",
      "Testing Set 20%\n",
      "_________________________\n",
      "X Test 109783\n",
      "y Test 109783\n",
      "====================================================================================================\n",
      "            GaussianNB Machine Learning Algorithm : Accuracy -> 0.7027864059098403\n",
      "====================================================================================================\n",
      "======================================= CLASSIFICATION REPORT ==================================\n",
      "              precision    recall  f1-score   support\n",
      "\n",
      "           0       0.67      0.78      0.72     54496\n",
      "           1       0.74      0.62      0.68     55287\n",
      "\n",
      "    accuracy                           0.70    109783\n",
      "   macro avg       0.71      0.70      0.70    109783\n",
      "weighted avg       0.71      0.70      0.70    109783\n",
      "\n",
      "\n",
      "\n",
      "======================================= CONFUSION MATRIX =======================================\n"
     ]
    },
    {
     "data": {
      "image/png": "[encoded data removed]",
      "text/plain": [
       "<Figure size 432x288 with 2 Axes>"
      ]
     },
     "metadata": {
      "needs_background": "light"
     },
     "output_type": "display_data"
    }
   ],
   "source": [
    "# Naive Bayes has a higher bias and low variance in comparision to Logistic Regression. \n",
    "# Results are analyzed to know the data generation making it easier to\n",
    "# predict with less variables and less data\n",
    "\n",
    "# CALLING THE GENERIC METHOD... FOR TRAINING AND EVALUATING THE NAIVE BAYESIAN CLASSIFIER - USING BALANCED DATA\n",
    "nb_accuracy_smote, nb_sm_pre, nb_sm_rec = compile_ml_model(GaussianNB(), x_balanced, y_balanced, ['No', \"Yes\"], confmatix=True, roc=False  )"
   ]
  },
  {
   "cell_type": "markdown",
   "id": "f3e9b8b7",
   "metadata": {},
   "source": [
    "## Random forest Classifier"
   ]
  },
  {
   "cell_type": "code",
   "execution_count": 48,
   "id": "a4bb69ca",
   "metadata": {},
   "outputs": [
    {
     "name": "stdout",
     "output_type": "stream",
     "text": [
      "Training Set 80%\n",
      "_________________________\n",
      "X train 439129\n",
      "y Train 439129\n",
      "\n",
      "=================================\n",
      "Testing Set 20%\n",
      "_________________________\n",
      "X Test 109783\n",
      "y Test 109783\n",
      "====================================================================================================\n",
      "            RandomForestClassifier Machine Learning Algorithm : Accuracy -> 0.9161801007441953\n",
      "====================================================================================================\n",
      "======================================= CLASSIFICATION REPORT ==================================\n",
      "              precision    recall  f1-score   support\n",
      "\n",
      "           0       0.92      0.92      0.92     54760\n",
      "           1       0.92      0.92      0.92     55023\n",
      "\n",
      "    accuracy                           0.92    109783\n",
      "   macro avg       0.92      0.92      0.92    109783\n",
      "weighted avg       0.92      0.92      0.92    109783\n",
      "\n",
      "\n",
      "\n",
      "======================================= CONFUSION MATRIX =======================================\n"
     ]
    },
    {
     "data": {
      "image/png": "[encoded data removed]",
      "text/plain": [
       "<Figure size 432x288 with 2 Axes>"
      ]
     },
     "metadata": {
      "needs_background": "light"
     },
     "output_type": "display_data"
    },
    {
     "name": "stdout",
     "output_type": "stream",
     "text": [
      "\n",
      "\n",
      "======================================= ROC CURVE ============================================\n"
     ]
    },
    {
     "data": {
      "image/png": "[encoded data removed]",
      "text/plain": [
       "<Figure size 432x288 with 1 Axes>"
      ]
     },
     "metadata": {
      "needs_background": "light"
     },
     "output_type": "display_data"
    }
   ],
   "source": [
    "# let experiment on random forest again and see it performance with balance dataset \n",
    "#  there is high probability of high performance with the balance data\n",
    "# becuse it work well will unbalance data initailly.\n",
    "\n",
    "# CALLING THE GENERIC METHOD... FOR TRAINING AND EVALUATING THE RANDOM FOREST CLASSIFIER - USING BALANCED DATA\n",
    "rdf_acuracy_smote, rf_sm_pre, rf_sm_rec = compile_ml_model(RandomForestClassifier(), x_balanced, y_balanced , ['No', \"Yes\"], confmatix=True)"
   ]
  },
  {
   "cell_type": "markdown",
   "id": "cab26167",
   "metadata": {},
   "source": [
    "## AdaBoost Classifier"
   ]
  },
  {
   "cell_type": "code",
   "execution_count": 49,
   "id": "07340372",
   "metadata": {
    "scrolled": false
   },
   "outputs": [
    {
     "name": "stdout",
     "output_type": "stream",
     "text": [
      "Training Set 80%\n",
      "_________________________\n",
      "X train 439129\n",
      "y Train 439129\n",
      "\n",
      "=================================\n",
      "Testing Set 20%\n",
      "_________________________\n",
      "X Test 109783\n",
      "y Test 109783\n",
      "====================================================================================================\n",
      "            AdaBoostClassifier Machine Learning Algorithm : Accuracy -> 0.8302833772077645\n",
      "====================================================================================================\n",
      "======================================= CLASSIFICATION REPORT ==================================\n",
      "              precision    recall  f1-score   support\n",
      "\n",
      "           0       0.83      0.83      0.83     54993\n",
      "           1       0.83      0.83      0.83     54790\n",
      "\n",
      "    accuracy                           0.83    109783\n",
      "   macro avg       0.83      0.83      0.83    109783\n",
      "weighted avg       0.83      0.83      0.83    109783\n",
      "\n",
      "\n",
      "\n",
      "======================================= CONFUSION MATRIX =======================================\n"
     ]
    },
    {
     "data": {
      "image/png": "[encoded data removed]",
      "text/plain": [
       "<Figure size 432x288 with 2 Axes>"
      ]
     },
     "metadata": {
      "needs_background": "light"
     },
     "output_type": "display_data"
    },
    {
     "name": "stdout",
     "output_type": "stream",
     "text": [
      "\n",
      "\n",
      "======================================= ROC CURVE ============================================\n"
     ]
    },
    {
     "data": {
      "image/png": "[encoded data removed]",
      "text/plain": [
       "<Figure size 432x288 with 1 Axes>"
      ]
     },
     "metadata": {
      "needs_background": "light"
     },
     "output_type": "display_data"
    }
   ],
   "source": [
    "# Adaboost is less prone to overfitting as the input parameters are not jointly optimized. \n",
    "# The accuracy of weak classifiers can be improved by using Adaboost\n",
    "\n",
    "# AdaBoostClassifier\n",
    "# CALLING THE GENERIC METHOD... FOR TRAINING AND EVALUATING THE ADA-BOOST CLASSIFIER - USING BALANCED DATA\n",
    "ada_accuracy_smote, ada_sm_pre, ada_sm_rec = compile_ml_model(AdaBoostClassifier(), x_balanced, y_balanced, ['No', \"Yes\"], confmatix=True)"
   ]
  },
  {
   "cell_type": "markdown",
   "id": "2e374d3c",
   "metadata": {},
   "source": [
    "  OBSERVATION \n",
    " \n",
    " The synthetic balancing reduce the pefromance of logistic regression  \n",
    "\n",
    " Random Forest Outperform all other models while using the SMOTE Techniques \n",
    "\n",
    " randome forest work well with the balanced data  \n",
    "    while the logistic regression perform well with the unbalance dataset"
   ]
  },
  {
   "cell_type": "markdown",
   "id": "b2d4120d",
   "metadata": {},
   "source": [
    "\n",
    "# Result summary for machine learning algorithm with SMOTE"
   ]
  },
  {
   "cell_type": "code",
   "execution_count": 50,
   "id": "62da2145",
   "metadata": {
    "scrolled": true
   },
   "outputs": [
    {
     "data": {
      "text/html": [
       "<div>\n",
       "<style scoped>\n",
       "    .dataframe tbody tr th:only-of-type {\n",
       "        vertical-align: middle;\n",
       "    }\n",
       "\n",
       "    .dataframe tbody tr th {\n",
       "        vertical-align: top;\n",
       "    }\n",
       "\n",
       "    .dataframe thead th {\n",
       "        text-align: right;\n",
       "    }\n",
       "</style>\n",
       "<table border=\"1\" class=\"dataframe\">\n",
       "  <thead>\n",
       "    <tr style=\"text-align: right;\">\n",
       "      <th></th>\n",
       "      <th>Model</th>\n",
       "      <th>Score</th>\n",
       "      <th>precision</th>\n",
       "      <th>recall</th>\n",
       "    </tr>\n",
       "  </thead>\n",
       "  <tbody>\n",
       "    <tr>\n",
       "      <th>0</th>\n",
       "      <td>logistic regression</td>\n",
       "      <td>0.739659</td>\n",
       "      <td>0.728308</td>\n",
       "      <td>0.766217</td>\n",
       "    </tr>\n",
       "    <tr>\n",
       "      <th>1</th>\n",
       "      <td>Gussian Naive Bayes</td>\n",
       "      <td>0.702786</td>\n",
       "      <td>0.744571</td>\n",
       "      <td>0.623836</td>\n",
       "    </tr>\n",
       "    <tr>\n",
       "      <th>2</th>\n",
       "      <td>Random Forest</td>\n",
       "      <td>0.916180</td>\n",
       "      <td>0.916335</td>\n",
       "      <td>0.916435</td>\n",
       "    </tr>\n",
       "    <tr>\n",
       "      <th>3</th>\n",
       "      <td>AdaBoost Classifier</td>\n",
       "      <td>0.830283</td>\n",
       "      <td>0.830996</td>\n",
       "      <td>0.828418</td>\n",
       "    </tr>\n",
       "  </tbody>\n",
       "</table>\n",
       "</div>"
      ],
      "text/plain": [
       "                 Model     Score  precision    recall\n",
       "0  logistic regression  0.739659   0.728308  0.766217\n",
       "1  Gussian Naive Bayes  0.702786   0.744571  0.623836\n",
       "2        Random Forest  0.916180   0.916335  0.916435\n",
       "3  AdaBoost Classifier  0.830283   0.830996  0.828418"
      ]
     },
     "execution_count": 50,
     "metadata": {},
     "output_type": "execute_result"
    }
   ],
   "source": [
    "results = pd.DataFrame({\n",
    "    'Model':['logistic regression','Gussian Naive Bayes', 'Random Forest', 'AdaBoost Classifier'],\n",
    "    'Score':[lr_accuray_smote, nb_accuracy_smote, rdf_acuracy_smote, ada_accuracy_smote], \n",
    "    'precision': [lr_sm_pre, nb_sm_pre, rf_sm_pre, ada_sm_pre], \n",
    "    'recall':[lr_sm_rec, nb_sm_rec, rf_sm_rec, ada_sm_rec] }) \n",
    "\n",
    "results "
   ]
  },
  {
   "cell_type": "code",
   "execution_count": null,
   "id": "7da34c56",
   "metadata": {},
   "outputs": [],
   "source": [
    "\n",
    "\n"
   ]
  }
 ],
 "metadata": {
  "kernelspec": {
   "display_name": "Python 3 (ipykernel)",
   "language": "python",
   "name": "python3"
  },
  "language_info": {
   "codemirror_mode": {
    "name": "ipython",
    "version": 3
   },
   "file_extension": ".py",
   "mimetype": "text/x-python",
   "name": "python",
   "nbconvert_exporter": "python",
   "pygments_lexer": "ipython3",
   "version": "3.9.5"
  },
  "widgets": {
   "application/vnd.jupyter.widget-state+json": {
    "state": {},
    "version_major": 2,
    "version_minor": 0
   }
  }
 },
 "nbformat": 4,
 "nbformat_minor": 5
}
