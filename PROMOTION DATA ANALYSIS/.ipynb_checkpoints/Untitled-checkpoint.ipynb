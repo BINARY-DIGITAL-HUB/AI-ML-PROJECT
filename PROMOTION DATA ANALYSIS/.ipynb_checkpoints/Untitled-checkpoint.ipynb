{
 "cells": [
  {
   "cell_type": "code",
   "execution_count": 1,
   "id": "f86e38a8",
   "metadata": {},
   "outputs": [],
   "source": [
    "# import nessary module into the jupyter notebook  \n",
    "import os\n",
    "import pandas as pd\n",
    "import seaborn as sn \n",
    "import matplotlib.pyplot as plt\n",
    "import numpy as np\n",
    "from sklearn import model_selection\n",
    "from sklearn import metrics\n",
    "from sklearn import svm"
   ]
  },
  {
   "cell_type": "code",
   "execution_count": 2,
   "id": "3a94726e",
   "metadata": {
    "scrolled": true
   },
   "outputs": [
    {
     "data": {
      "text/html": [
       "<div>\n",
       "<style scoped>\n",
       "    .dataframe tbody tr th:only-of-type {\n",
       "        vertical-align: middle;\n",
       "    }\n",
       "\n",
       "    .dataframe tbody tr th {\n",
       "        vertical-align: top;\n",
       "    }\n",
       "\n",
       "    .dataframe thead th {\n",
       "        text-align: right;\n",
       "    }\n",
       "</style>\n",
       "<table border=\"1\" class=\"dataframe\">\n",
       "  <thead>\n",
       "    <tr style=\"text-align: right;\">\n",
       "      <th></th>\n",
       "      <th>employee_id</th>\n",
       "      <th>department</th>\n",
       "      <th>region</th>\n",
       "      <th>education</th>\n",
       "      <th>gender</th>\n",
       "      <th>recruitment_channel</th>\n",
       "      <th>no_of_trainings</th>\n",
       "      <th>age</th>\n",
       "      <th>previous_year_rating</th>\n",
       "      <th>length_of_service</th>\n",
       "      <th>awards_won?</th>\n",
       "      <th>avg_training_score</th>\n",
       "      <th>is_promoted</th>\n",
       "    </tr>\n",
       "  </thead>\n",
       "  <tbody>\n",
       "    <tr>\n",
       "      <th>0</th>\n",
       "      <td>65438</td>\n",
       "      <td>Sales &amp; Marketing</td>\n",
       "      <td>region_7</td>\n",
       "      <td>Master's &amp; above</td>\n",
       "      <td>f</td>\n",
       "      <td>sourcing</td>\n",
       "      <td>1</td>\n",
       "      <td>35</td>\n",
       "      <td>5.0</td>\n",
       "      <td>8</td>\n",
       "      <td>0</td>\n",
       "      <td>49</td>\n",
       "      <td>0</td>\n",
       "    </tr>\n",
       "    <tr>\n",
       "      <th>1</th>\n",
       "      <td>65141</td>\n",
       "      <td>Operations</td>\n",
       "      <td>region_22</td>\n",
       "      <td>Bachelor's</td>\n",
       "      <td>m</td>\n",
       "      <td>other</td>\n",
       "      <td>1</td>\n",
       "      <td>30</td>\n",
       "      <td>5.0</td>\n",
       "      <td>4</td>\n",
       "      <td>0</td>\n",
       "      <td>60</td>\n",
       "      <td>0</td>\n",
       "    </tr>\n",
       "    <tr>\n",
       "      <th>2</th>\n",
       "      <td>7513</td>\n",
       "      <td>Sales &amp; Marketing</td>\n",
       "      <td>region_19</td>\n",
       "      <td>Bachelor's</td>\n",
       "      <td>m</td>\n",
       "      <td>sourcing</td>\n",
       "      <td>1</td>\n",
       "      <td>34</td>\n",
       "      <td>3.0</td>\n",
       "      <td>7</td>\n",
       "      <td>0</td>\n",
       "      <td>50</td>\n",
       "      <td>0</td>\n",
       "    </tr>\n",
       "    <tr>\n",
       "      <th>3</th>\n",
       "      <td>2542</td>\n",
       "      <td>Sales &amp; Marketing</td>\n",
       "      <td>region_23</td>\n",
       "      <td>Bachelor's</td>\n",
       "      <td>m</td>\n",
       "      <td>other</td>\n",
       "      <td>2</td>\n",
       "      <td>39</td>\n",
       "      <td>1.0</td>\n",
       "      <td>10</td>\n",
       "      <td>0</td>\n",
       "      <td>50</td>\n",
       "      <td>0</td>\n",
       "    </tr>\n",
       "    <tr>\n",
       "      <th>4</th>\n",
       "      <td>48945</td>\n",
       "      <td>Technology</td>\n",
       "      <td>region_26</td>\n",
       "      <td>Bachelor's</td>\n",
       "      <td>m</td>\n",
       "      <td>other</td>\n",
       "      <td>1</td>\n",
       "      <td>45</td>\n",
       "      <td>3.0</td>\n",
       "      <td>2</td>\n",
       "      <td>0</td>\n",
       "      <td>73</td>\n",
       "      <td>0</td>\n",
       "    </tr>\n",
       "  </tbody>\n",
       "</table>\n",
       "</div>"
      ],
      "text/plain": [
       "   employee_id         department     region         education gender  \\\n",
       "0        65438  Sales & Marketing   region_7  Master's & above      f   \n",
       "1        65141         Operations  region_22        Bachelor's      m   \n",
       "2         7513  Sales & Marketing  region_19        Bachelor's      m   \n",
       "3         2542  Sales & Marketing  region_23        Bachelor's      m   \n",
       "4        48945         Technology  region_26        Bachelor's      m   \n",
       "\n",
       "  recruitment_channel  no_of_trainings  age  previous_year_rating  \\\n",
       "0            sourcing                1   35                   5.0   \n",
       "1               other                1   30                   5.0   \n",
       "2            sourcing                1   34                   3.0   \n",
       "3               other                2   39                   1.0   \n",
       "4               other                1   45                   3.0   \n",
       "\n",
       "   length_of_service  awards_won?  avg_training_score  is_promoted  \n",
       "0                  8            0                  49            0  \n",
       "1                  4            0                  60            0  \n",
       "2                  7            0                  50            0  \n",
       "3                 10            0                  50            0  \n",
       "4                  2            0                  73            0  "
      ]
     },
     "execution_count": 2,
     "metadata": {},
     "output_type": "execute_result"
    }
   ],
   "source": [
    "# importing the promotion dataset\n",
    "prom_data = pd.read_csv('promotion_dataset/train.csv')\n",
    "\n",
    "# printing the first 5 rows\n",
    "prom_data.head()"
   ]
  },
  {
   "cell_type": "code",
   "execution_count": 3,
   "id": "0384679b",
   "metadata": {
    "scrolled": true
   },
   "outputs": [
    {
     "name": "stdout",
     "output_type": "stream",
     "text": [
      "<class 'pandas.core.frame.DataFrame'>\n",
      "RangeIndex: 54808 entries, 0 to 54807\n",
      "Data columns (total 13 columns):\n",
      " #   Column                Non-Null Count  Dtype  \n",
      "---  ------                --------------  -----  \n",
      " 0   employee_id           54808 non-null  int64  \n",
      " 1   department            54808 non-null  object \n",
      " 2   region                54808 non-null  object \n",
      " 3   education             52399 non-null  object \n",
      " 4   gender                54808 non-null  object \n",
      " 5   recruitment_channel   54808 non-null  object \n",
      " 6   no_of_trainings       54808 non-null  int64  \n",
      " 7   age                   54808 non-null  int64  \n",
      " 8   previous_year_rating  50684 non-null  float64\n",
      " 9   length_of_service     54808 non-null  int64  \n",
      " 10  awards_won?           54808 non-null  int64  \n",
      " 11  avg_training_score    54808 non-null  int64  \n",
      " 12  is_promoted           54808 non-null  int64  \n",
      "dtypes: float64(1), int64(7), object(5)\n",
      "memory usage: 5.4+ MB\n"
     ]
    }
   ],
   "source": [
    "prom_data.info()"
   ]
  },
  {
   "cell_type": "code",
   "execution_count": 4,
   "id": "d81fccca",
   "metadata": {
    "scrolled": true
   },
   "outputs": [
    {
     "data": {
      "text/html": [
       "<div>\n",
       "<style scoped>\n",
       "    .dataframe tbody tr th:only-of-type {\n",
       "        vertical-align: middle;\n",
       "    }\n",
       "\n",
       "    .dataframe tbody tr th {\n",
       "        vertical-align: top;\n",
       "    }\n",
       "\n",
       "    .dataframe thead th {\n",
       "        text-align: right;\n",
       "    }\n",
       "</style>\n",
       "<table border=\"1\" class=\"dataframe\">\n",
       "  <thead>\n",
       "    <tr style=\"text-align: right;\">\n",
       "      <th></th>\n",
       "      <th>feature</th>\n",
       "      <th>unique_val</th>\n",
       "      <th>val_length</th>\n",
       "    </tr>\n",
       "  </thead>\n",
       "  <tbody>\n",
       "    <tr>\n",
       "      <th>0</th>\n",
       "      <td>employee_id</td>\n",
       "      <td>[65438, 65141, 7513, 2542, 48945, 58896, 20379...</td>\n",
       "      <td>54808</td>\n",
       "    </tr>\n",
       "    <tr>\n",
       "      <th>1</th>\n",
       "      <td>department</td>\n",
       "      <td>[Sales &amp; Marketing, Operations, Technology, An...</td>\n",
       "      <td>9</td>\n",
       "    </tr>\n",
       "    <tr>\n",
       "      <th>2</th>\n",
       "      <td>region</td>\n",
       "      <td>[region_7, region_22, region_19, region_23, re...</td>\n",
       "      <td>34</td>\n",
       "    </tr>\n",
       "    <tr>\n",
       "      <th>3</th>\n",
       "      <td>education</td>\n",
       "      <td>[Master's &amp; above, Bachelor's, nan, Below Seco...</td>\n",
       "      <td>4</td>\n",
       "    </tr>\n",
       "    <tr>\n",
       "      <th>4</th>\n",
       "      <td>gender</td>\n",
       "      <td>[f, m]</td>\n",
       "      <td>2</td>\n",
       "    </tr>\n",
       "    <tr>\n",
       "      <th>5</th>\n",
       "      <td>recruitment_channel</td>\n",
       "      <td>[sourcing, other, referred]</td>\n",
       "      <td>3</td>\n",
       "    </tr>\n",
       "    <tr>\n",
       "      <th>6</th>\n",
       "      <td>no_of_trainings</td>\n",
       "      <td>[1, 2, 3, 4, 7, 5, 6, 8, 10, 9]</td>\n",
       "      <td>10</td>\n",
       "    </tr>\n",
       "    <tr>\n",
       "      <th>7</th>\n",
       "      <td>age</td>\n",
       "      <td>[35, 30, 34, 39, 45, 31, 33, 28, 32, 49, 37, 3...</td>\n",
       "      <td>41</td>\n",
       "    </tr>\n",
       "    <tr>\n",
       "      <th>8</th>\n",
       "      <td>previous_year_rating</td>\n",
       "      <td>[5.0, 3.0, 1.0, 4.0, nan, 2.0]</td>\n",
       "      <td>6</td>\n",
       "    </tr>\n",
       "    <tr>\n",
       "      <th>9</th>\n",
       "      <td>length_of_service</td>\n",
       "      <td>[8, 4, 7, 10, 2, 5, 6, 1, 3, 16, 9, 11, 26, 12...</td>\n",
       "      <td>35</td>\n",
       "    </tr>\n",
       "    <tr>\n",
       "      <th>10</th>\n",
       "      <td>awards_won?</td>\n",
       "      <td>[0, 1]</td>\n",
       "      <td>2</td>\n",
       "    </tr>\n",
       "    <tr>\n",
       "      <th>11</th>\n",
       "      <td>avg_training_score</td>\n",
       "      <td>[49, 60, 50, 73, 85, 59, 63, 83, 54, 77, 80, 8...</td>\n",
       "      <td>61</td>\n",
       "    </tr>\n",
       "    <tr>\n",
       "      <th>12</th>\n",
       "      <td>is_promoted</td>\n",
       "      <td>[0, 1]</td>\n",
       "      <td>2</td>\n",
       "    </tr>\n",
       "  </tbody>\n",
       "</table>\n",
       "</div>"
      ],
      "text/plain": [
       "                 feature                                         unique_val  \\\n",
       "0            employee_id  [65438, 65141, 7513, 2542, 48945, 58896, 20379...   \n",
       "1             department  [Sales & Marketing, Operations, Technology, An...   \n",
       "2                 region  [region_7, region_22, region_19, region_23, re...   \n",
       "3              education  [Master's & above, Bachelor's, nan, Below Seco...   \n",
       "4                 gender                                             [f, m]   \n",
       "5    recruitment_channel                        [sourcing, other, referred]   \n",
       "6        no_of_trainings                    [1, 2, 3, 4, 7, 5, 6, 8, 10, 9]   \n",
       "7                    age  [35, 30, 34, 39, 45, 31, 33, 28, 32, 49, 37, 3...   \n",
       "8   previous_year_rating                     [5.0, 3.0, 1.0, 4.0, nan, 2.0]   \n",
       "9      length_of_service  [8, 4, 7, 10, 2, 5, 6, 1, 3, 16, 9, 11, 26, 12...   \n",
       "10           awards_won?                                             [0, 1]   \n",
       "11    avg_training_score  [49, 60, 50, 73, 85, 59, 63, 83, 54, 77, 80, 8...   \n",
       "12           is_promoted                                             [0, 1]   \n",
       "\n",
       "    val_length  \n",
       "0        54808  \n",
       "1            9  \n",
       "2           34  \n",
       "3            4  \n",
       "4            2  \n",
       "5            3  \n",
       "6           10  \n",
       "7           41  \n",
       "8            6  \n",
       "9           35  \n",
       "10           2  \n",
       "11          61  \n",
       "12           2  "
      ]
     },
     "execution_count": 4,
     "metadata": {},
     "output_type": "execute_result"
    }
   ],
   "source": [
    "# TO KNOW HOW MANY VALUE ARE IN EACH FEATURES\n",
    "data_feature_diction = {\n",
    "    'feature' :[], \n",
    "    'unique_val': [],\n",
    "    'val_length':[]\n",
    " }\n",
    "for i in range(len(prom_data.columns)):\n",
    "    d = prom_data[prom_data.columns[i]].unique()\n",
    "    # print(f'{prom_data.columns[i]} {d}')\n",
    "    data_feature_diction['feature'].append(prom_data.columns[i])\n",
    "    data_feature_diction['unique_val'].append(d)\n",
    "    data_feature_diction['val_length'].append(len(d))\n",
    "    \n",
    "# showing it in a dataframe format  \n",
    "pd.DataFrame(data_feature_diction)"
   ]
  },
  {
   "cell_type": "code",
   "execution_count": 5,
   "id": "92e37bbe",
   "metadata": {
    "scrolled": true
   },
   "outputs": [
    {
     "data": {
      "text/plain": [
       "False    54808\n",
       "dtype: int64"
      ]
     },
     "execution_count": 5,
     "metadata": {},
     "output_type": "execute_result"
    }
   ],
   "source": [
    "# this shows their is no data duplication... \n",
    "prom_data.duplicated().value_counts()"
   ]
  },
  {
   "cell_type": "code",
   "execution_count": 28,
   "id": "e6286c9d",
   "metadata": {},
   "outputs": [
    {
     "data": {
      "text/plain": [
       "<Axes: xlabel='is_promoted', ylabel='count'>"
      ]
     },
     "execution_count": 28,
     "metadata": {},
     "output_type": "execute_result"
    },
    {
     "data": {
      "image/png": "[encoded data removed]",
      "text/plain": [
       "<Figure size 640x480 with 1 Axes>"
      ]
     },
     "metadata": {},
     "output_type": "display_data"
    }
   ],
   "source": [
    "sn.countplot(x=prom_data.is_promoted, data=prom_data)"
   ]
  },
  {
   "cell_type": "code",
   "execution_count": 6,
   "id": "d8136aea",
   "metadata": {
    "scrolled": true
   },
   "outputs": [
    {
     "data": {
      "text/plain": [
       "<Axes: xlabel='is_promoted', ylabel='count'>"
      ]
     },
     "execution_count": 6,
     "metadata": {},
     "output_type": "execute_result"
    },
    {
     "data": {
      "image/png": "[encoded data removed]",
      "text/plain": [
       "<Figure size 1800x1300 with 6 Axes>"
      ]
     },
     "metadata": {},
     "output_type": "display_data"
    }
   ],
   "source": [
    "fig, ax = plt.subplots(2, 3, figsize=(18,13))\n",
    "# plt.figure(figsize=(12,12))\n",
    "sn.countplot(x='is_promoted', hue='gender',  data=prom_data, ax=ax[0,0])\n",
    "sn.countplot(x='is_promoted', hue='department',  data=prom_data, ax=ax[0,1])\n",
    "sn.countplot(x='is_promoted', hue='previous_year_rating',  data=prom_data, ax=ax[0,2])\n",
    "sn.countplot(x='is_promoted', hue='recruitment_channel',  data=prom_data, ax=ax[1,0])\n",
    "sn.countplot(x='is_promoted', hue='awards_won?',  data=prom_data, ax=ax[1,1])\n",
    "sn.countplot(x='is_promoted', hue='education',  data=prom_data, ax=ax[1,2])"
   ]
  },
  {
   "cell_type": "code",
   "execution_count": 7,
   "id": "a69644f4",
   "metadata": {
    "scrolled": true
   },
   "outputs": [
    {
     "data": {
      "text/plain": [
       "employee_id                0\n",
       "department                 0\n",
       "region                     0\n",
       "education               2409\n",
       "gender                     0\n",
       "recruitment_channel        0\n",
       "no_of_trainings            0\n",
       "age                        0\n",
       "previous_year_rating       0\n",
       "length_of_service          0\n",
       "awards_won?                0\n",
       "avg_training_score         0\n",
       "is_promoted                0\n",
       "dtype: int64"
      ]
     },
     "execution_count": 7,
     "metadata": {},
     "output_type": "execute_result"
    }
   ],
   "source": [
    "# using linear interpolation approach to fill the missing value for the 'previous_year_rating'\n",
    "prom_data.previous_year_rating = prom_data.previous_year_rating.interpolate(method='linear')\n",
    "prom_data.isna().sum()"
   ]
  },
  {
   "cell_type": "code",
   "execution_count": 8,
   "id": "fcf6deb2",
   "metadata": {
    "scrolled": true
   },
   "outputs": [
    {
     "data": {
      "text/plain": [
       "employee_id             0\n",
       "department              0\n",
       "region                  0\n",
       "education               0\n",
       "gender                  0\n",
       "recruitment_channel     0\n",
       "no_of_trainings         0\n",
       "age                     0\n",
       "previous_year_rating    0\n",
       "length_of_service       0\n",
       "awards_won?             0\n",
       "avg_training_score      0\n",
       "is_promoted             0\n",
       "dtype: int64"
      ]
     },
     "execution_count": 8,
     "metadata": {},
     "output_type": "execute_result"
    }
   ],
   "source": [
    "# using foward fill NaN (null) value method to replace the missin datapoint\n",
    "prom_data.education.fillna(method='ffill', inplace=True)\n",
    "prom_data.isna().sum()"
   ]
  },
  {
   "cell_type": "code",
   "execution_count": 9,
   "id": "cc3c8bb8",
   "metadata": {
    "scrolled": true
   },
   "outputs": [
    {
     "data": {
      "text/html": [
       "<div>\n",
       "<style scoped>\n",
       "    .dataframe tbody tr th:only-of-type {\n",
       "        vertical-align: middle;\n",
       "    }\n",
       "\n",
       "    .dataframe tbody tr th {\n",
       "        vertical-align: top;\n",
       "    }\n",
       "\n",
       "    .dataframe thead th {\n",
       "        text-align: right;\n",
       "    }\n",
       "</style>\n",
       "<table border=\"1\" class=\"dataframe\">\n",
       "  <thead>\n",
       "    <tr style=\"text-align: right;\">\n",
       "      <th></th>\n",
       "      <th>department</th>\n",
       "      <th>region</th>\n",
       "      <th>education</th>\n",
       "      <th>gender</th>\n",
       "      <th>recruitment_channel</th>\n",
       "      <th>no_of_trainings</th>\n",
       "      <th>age</th>\n",
       "      <th>previous_year_rating</th>\n",
       "      <th>length_of_service</th>\n",
       "      <th>awards_won?</th>\n",
       "      <th>avg_training_score</th>\n",
       "      <th>is_promoted</th>\n",
       "    </tr>\n",
       "  </thead>\n",
       "  <tbody>\n",
       "    <tr>\n",
       "      <th>0</th>\n",
       "      <td>Sales &amp; Marketing</td>\n",
       "      <td>region_7</td>\n",
       "      <td>Master's &amp; above</td>\n",
       "      <td>f</td>\n",
       "      <td>sourcing</td>\n",
       "      <td>1</td>\n",
       "      <td>35</td>\n",
       "      <td>5.0</td>\n",
       "      <td>8</td>\n",
       "      <td>0</td>\n",
       "      <td>49</td>\n",
       "      <td>0</td>\n",
       "    </tr>\n",
       "    <tr>\n",
       "      <th>1</th>\n",
       "      <td>Operations</td>\n",
       "      <td>region_22</td>\n",
       "      <td>Bachelor's</td>\n",
       "      <td>m</td>\n",
       "      <td>other</td>\n",
       "      <td>1</td>\n",
       "      <td>30</td>\n",
       "      <td>5.0</td>\n",
       "      <td>4</td>\n",
       "      <td>0</td>\n",
       "      <td>60</td>\n",
       "      <td>0</td>\n",
       "    </tr>\n",
       "    <tr>\n",
       "      <th>2</th>\n",
       "      <td>Sales &amp; Marketing</td>\n",
       "      <td>region_19</td>\n",
       "      <td>Bachelor's</td>\n",
       "      <td>m</td>\n",
       "      <td>sourcing</td>\n",
       "      <td>1</td>\n",
       "      <td>34</td>\n",
       "      <td>3.0</td>\n",
       "      <td>7</td>\n",
       "      <td>0</td>\n",
       "      <td>50</td>\n",
       "      <td>0</td>\n",
       "    </tr>\n",
       "    <tr>\n",
       "      <th>3</th>\n",
       "      <td>Sales &amp; Marketing</td>\n",
       "      <td>region_23</td>\n",
       "      <td>Bachelor's</td>\n",
       "      <td>m</td>\n",
       "      <td>other</td>\n",
       "      <td>2</td>\n",
       "      <td>39</td>\n",
       "      <td>1.0</td>\n",
       "      <td>10</td>\n",
       "      <td>0</td>\n",
       "      <td>50</td>\n",
       "      <td>0</td>\n",
       "    </tr>\n",
       "    <tr>\n",
       "      <th>4</th>\n",
       "      <td>Technology</td>\n",
       "      <td>region_26</td>\n",
       "      <td>Bachelor's</td>\n",
       "      <td>m</td>\n",
       "      <td>other</td>\n",
       "      <td>1</td>\n",
       "      <td>45</td>\n",
       "      <td>3.0</td>\n",
       "      <td>2</td>\n",
       "      <td>0</td>\n",
       "      <td>73</td>\n",
       "      <td>0</td>\n",
       "    </tr>\n",
       "  </tbody>\n",
       "</table>\n",
       "</div>"
      ],
      "text/plain": [
       "          department     region         education gender recruitment_channel  \\\n",
       "0  Sales & Marketing   region_7  Master's & above      f            sourcing   \n",
       "1         Operations  region_22        Bachelor's      m               other   \n",
       "2  Sales & Marketing  region_19        Bachelor's      m            sourcing   \n",
       "3  Sales & Marketing  region_23        Bachelor's      m               other   \n",
       "4         Technology  region_26        Bachelor's      m               other   \n",
       "\n",
       "   no_of_trainings  age  previous_year_rating  length_of_service  awards_won?  \\\n",
       "0                1   35                   5.0                  8            0   \n",
       "1                1   30                   5.0                  4            0   \n",
       "2                1   34                   3.0                  7            0   \n",
       "3                2   39                   1.0                 10            0   \n",
       "4                1   45                   3.0                  2            0   \n",
       "\n",
       "   avg_training_score  is_promoted  \n",
       "0                  49            0  \n",
       "1                  60            0  \n",
       "2                  50            0  \n",
       "3                  50            0  \n",
       "4                  73            0  "
      ]
     },
     "execution_count": 9,
     "metadata": {},
     "output_type": "execute_result"
    }
   ],
   "source": [
    "# droping of the employee id \n",
    "prom_data.drop(columns=['employee_id'], inplace=True)\n",
    "prom_data.head()"
   ]
  },
  {
   "cell_type": "code",
   "execution_count": 10,
   "id": "8dc865a6",
   "metadata": {
    "scrolled": false
   },
   "outputs": [
    {
     "data": {
      "text/html": [
       "<div>\n",
       "<style scoped>\n",
       "    .dataframe tbody tr th:only-of-type {\n",
       "        vertical-align: middle;\n",
       "    }\n",
       "\n",
       "    .dataframe tbody tr th {\n",
       "        vertical-align: top;\n",
       "    }\n",
       "\n",
       "    .dataframe thead th {\n",
       "        text-align: right;\n",
       "    }\n",
       "</style>\n",
       "<table border=\"1\" class=\"dataframe\">\n",
       "  <thead>\n",
       "    <tr style=\"text-align: right;\">\n",
       "      <th></th>\n",
       "      <th>department</th>\n",
       "      <th>region</th>\n",
       "      <th>education</th>\n",
       "      <th>gender</th>\n",
       "      <th>recruitment_channel</th>\n",
       "      <th>no_of_trainings</th>\n",
       "      <th>age</th>\n",
       "      <th>previous_year_rating</th>\n",
       "      <th>length_of_service</th>\n",
       "      <th>awards_won?</th>\n",
       "      <th>avg_training_score</th>\n",
       "      <th>is_promoted</th>\n",
       "    </tr>\n",
       "  </thead>\n",
       "  <tbody>\n",
       "    <tr>\n",
       "      <th>0</th>\n",
       "      <td>Sales &amp; Marketing</td>\n",
       "      <td>region_7</td>\n",
       "      <td>Master's &amp; above</td>\n",
       "      <td>f</td>\n",
       "      <td>sourcing</td>\n",
       "      <td>1</td>\n",
       "      <td>35</td>\n",
       "      <td>5.0</td>\n",
       "      <td>8</td>\n",
       "      <td>0</td>\n",
       "      <td>49</td>\n",
       "      <td>0</td>\n",
       "    </tr>\n",
       "    <tr>\n",
       "      <th>1</th>\n",
       "      <td>Operations</td>\n",
       "      <td>region_22</td>\n",
       "      <td>Bachelor's</td>\n",
       "      <td>m</td>\n",
       "      <td>other</td>\n",
       "      <td>1</td>\n",
       "      <td>30</td>\n",
       "      <td>5.0</td>\n",
       "      <td>4</td>\n",
       "      <td>0</td>\n",
       "      <td>60</td>\n",
       "      <td>0</td>\n",
       "    </tr>\n",
       "    <tr>\n",
       "      <th>2</th>\n",
       "      <td>Sales &amp; Marketing</td>\n",
       "      <td>region_19</td>\n",
       "      <td>Bachelor's</td>\n",
       "      <td>m</td>\n",
       "      <td>sourcing</td>\n",
       "      <td>1</td>\n",
       "      <td>34</td>\n",
       "      <td>3.0</td>\n",
       "      <td>7</td>\n",
       "      <td>0</td>\n",
       "      <td>50</td>\n",
       "      <td>0</td>\n",
       "    </tr>\n",
       "    <tr>\n",
       "      <th>3</th>\n",
       "      <td>Sales &amp; Marketing</td>\n",
       "      <td>region_23</td>\n",
       "      <td>Bachelor's</td>\n",
       "      <td>m</td>\n",
       "      <td>other</td>\n",
       "      <td>2</td>\n",
       "      <td>39</td>\n",
       "      <td>1.0</td>\n",
       "      <td>10</td>\n",
       "      <td>0</td>\n",
       "      <td>50</td>\n",
       "      <td>0</td>\n",
       "    </tr>\n",
       "    <tr>\n",
       "      <th>4</th>\n",
       "      <td>Technology</td>\n",
       "      <td>region_26</td>\n",
       "      <td>Bachelor's</td>\n",
       "      <td>m</td>\n",
       "      <td>other</td>\n",
       "      <td>1</td>\n",
       "      <td>45</td>\n",
       "      <td>3.0</td>\n",
       "      <td>2</td>\n",
       "      <td>0</td>\n",
       "      <td>73</td>\n",
       "      <td>0</td>\n",
       "    </tr>\n",
       "  </tbody>\n",
       "</table>\n",
       "</div>"
      ],
      "text/plain": [
       "          department     region         education gender recruitment_channel  \\\n",
       "0  Sales & Marketing   region_7  Master's & above      f            sourcing   \n",
       "1         Operations  region_22        Bachelor's      m               other   \n",
       "2  Sales & Marketing  region_19        Bachelor's      m            sourcing   \n",
       "3  Sales & Marketing  region_23        Bachelor's      m               other   \n",
       "4         Technology  region_26        Bachelor's      m               other   \n",
       "\n",
       "   no_of_trainings  age  previous_year_rating  length_of_service  awards_won?  \\\n",
       "0                1   35                   5.0                  8            0   \n",
       "1                1   30                   5.0                  4            0   \n",
       "2                1   34                   3.0                  7            0   \n",
       "3                2   39                   1.0                 10            0   \n",
       "4                1   45                   3.0                  2            0   \n",
       "\n",
       "   avg_training_score  is_promoted  \n",
       "0                  49            0  \n",
       "1                  60            0  \n",
       "2                  50            0  \n",
       "3                  50            0  \n",
       "4                  73            0  "
      ]
     },
     "execution_count": 10,
     "metadata": {},
     "output_type": "execute_result"
    }
   ],
   "source": [
    "# looping throught the first five fueature (those features has text representation.....\n",
    "# and we need to convert  them to numberic)\n",
    "prom_data[prom_data.columns[:5]] = prom_data[prom_data.columns[:5]].astype('category')\n",
    "prom_data.head()"
   ]
  },
  {
   "cell_type": "code",
   "execution_count": 11,
   "id": "e06c6cc8",
   "metadata": {},
   "outputs": [],
   "source": [
    "# looping throught the features and converting them into numbers\n",
    "for feature in prom_data.columns[:5]:\n",
    "    prom_data[feature] = prom_data[feature].cat.codes"
   ]
  },
  {
   "cell_type": "code",
   "execution_count": 12,
   "id": "604675a9",
   "metadata": {},
   "outputs": [],
   "source": [
    "# ## feature splitting .... extracting the independent feature (X) and dependent feature (Y)\n",
    "y = prom_data['is_promoted']\n",
    "X = prom_data.drop(columns=['is_promoted']) # t"
   ]
  },
  {
   "cell_type": "code",
   "execution_count": 13,
   "id": "3e70da70",
   "metadata": {},
   "outputs": [],
   "source": [
    "from imblearn.combine import SMOTEENN\n",
    "\n",
    "sm_en = SMOTEENN()\n",
    "X_resample , y_resample =sm_en.fit_resample(X, y)"
   ]
  },
  {
   "cell_type": "code",
   "execution_count": 14,
   "id": "1a40e619",
   "metadata": {
    "scrolled": true
   },
   "outputs": [
    {
     "data": {
      "text/plain": [
       "1    48729\n",
       "0    34810\n",
       "Name: is_promoted, dtype: int64"
      ]
     },
     "execution_count": 14,
     "metadata": {},
     "output_type": "execute_result"
    }
   ],
   "source": [
    "y_resample.value_counts()"
   ]
  },
  {
   "cell_type": "code",
   "execution_count": 15,
   "id": "09690924",
   "metadata": {},
   "outputs": [
    {
     "name": "stdout",
     "output_type": "stream",
     "text": [
      "Train size : 66831\n",
      "Test  size : 16708\n"
     ]
    }
   ],
   "source": [
    "# splitting data into training (80%) and testing set (20%) \n",
    "X_train, X_test, y_train, y_test = model_selection.train_test_split(X_resample, y_resample, test_size=0.2)\n",
    "\n",
    "print(f'Train size : {len(X_train)}')\n",
    "print(f'Test  size : {len(X_test)}')"
   ]
  },
  {
   "cell_type": "code",
   "execution_count": 17,
   "id": "88d7176a",
   "metadata": {},
   "outputs": [
    {
     "data": {
      "text/plain": [
       "0.7114555901364615"
      ]
     },
     "execution_count": 17,
     "metadata": {},
     "output_type": "execute_result"
    }
   ],
   "source": [
    "from sklearn import naive_bayes\n",
    "from sklearn import svm\n",
    "\n",
    "# trianing the machine learning model using naive bayes algorithm.... \n",
    "nb_model = naive_bayes.GaussianNB()\n",
    "# sv_model = svm.SVC(C=10, kernel='rbf')\n",
    "# sv_model.fit(X_train, y_train)\n",
    "nb_model.fit(X_train, y_train)\n",
    "\n",
    "\n",
    "# evaluating the model using the testing samples\n",
    "nb_model.score(X_test, y_test)"
   ]
  },
  {
   "cell_type": "code",
   "execution_count": null,
   "id": "d082843f",
   "metadata": {},
   "outputs": [],
   "source": []
  },
  {
   "cell_type": "code",
   "execution_count": 19,
   "id": "c1130ced",
   "metadata": {},
   "outputs": [
    {
     "name": "stdout",
     "output_type": "stream",
     "text": [
      "Accuracy of Naive Bayes  _______ 0.7114555901364615\n",
      "Precission of Naive Bayes ______ 0.7272231314784506\n",
      "Recall of Naive Bayes     ______ 0.8145432325084021\n"
     ]
    }
   ],
   "source": [
    "# detail evaluation of the model\n",
    "np_prediction = nb_model.predict(X_test)\n",
    "print('Accuracy of Naive Bayes  _______ {}'.format(metrics.accuracy_score(y_test , np_prediction)))\n",
    "print('Precission of Naive Bayes ______ {}'.format(metrics.precision_score(y_test , np_prediction)))\n",
    "print('Recall of Naive Bayes     ______ {}'.format(metrics.recall_score(y_test , np_prediction)))"
   ]
  },
  {
   "cell_type": "code",
   "execution_count": 20,
   "id": "fd15c0c8",
   "metadata": {
    "scrolled": true
   },
   "outputs": [
    {
     "name": "stdout",
     "output_type": "stream",
     "text": [
      "              precision    recall  f1-score   support\n",
      "\n",
      "           0       0.68      0.56      0.62      6889\n",
      "           1       0.73      0.81      0.77      9819\n",
      "\n",
      "    accuracy                           0.71     16708\n",
      "   macro avg       0.70      0.69      0.69     16708\n",
      "weighted avg       0.71      0.71      0.71     16708\n",
      "\n"
     ]
    }
   ],
   "source": [
    "# visualizing the classificatin report\n",
    "cr_report = metrics.classification_report(y_test, np_prediction)\n",
    "print(cr_report)"
   ]
  },
  {
   "cell_type": "markdown",
   "id": "88813cbf",
   "metadata": {},
   "source": [
    "### dropint the sex column"
   ]
  },
  {
   "cell_type": "code",
   "execution_count": 33,
   "id": "a9264cbb",
   "metadata": {
    "scrolled": false
   },
   "outputs": [
    {
     "data": {
      "text/html": [
       "<div>\n",
       "<style scoped>\n",
       "    .dataframe tbody tr th:only-of-type {\n",
       "        vertical-align: middle;\n",
       "    }\n",
       "\n",
       "    .dataframe tbody tr th {\n",
       "        vertical-align: top;\n",
       "    }\n",
       "\n",
       "    .dataframe thead th {\n",
       "        text-align: right;\n",
       "    }\n",
       "</style>\n",
       "<table border=\"1\" class=\"dataframe\">\n",
       "  <thead>\n",
       "    <tr style=\"text-align: right;\">\n",
       "      <th></th>\n",
       "      <th>department</th>\n",
       "      <th>region</th>\n",
       "      <th>education</th>\n",
       "      <th>recruitment_channel</th>\n",
       "      <th>no_of_trainings</th>\n",
       "      <th>age</th>\n",
       "      <th>previous_year_rating</th>\n",
       "      <th>length_of_service</th>\n",
       "      <th>awards_won?</th>\n",
       "      <th>avg_training_score</th>\n",
       "    </tr>\n",
       "  </thead>\n",
       "  <tbody>\n",
       "    <tr>\n",
       "      <th>0</th>\n",
       "      <td>4</td>\n",
       "      <td>14</td>\n",
       "      <td>0</td>\n",
       "      <td>0</td>\n",
       "      <td>1</td>\n",
       "      <td>30</td>\n",
       "      <td>5.000000</td>\n",
       "      <td>4</td>\n",
       "      <td>0</td>\n",
       "      <td>60</td>\n",
       "    </tr>\n",
       "    <tr>\n",
       "      <th>1</th>\n",
       "      <td>7</td>\n",
       "      <td>15</td>\n",
       "      <td>0</td>\n",
       "      <td>0</td>\n",
       "      <td>2</td>\n",
       "      <td>39</td>\n",
       "      <td>1.000000</td>\n",
       "      <td>10</td>\n",
       "      <td>0</td>\n",
       "      <td>50</td>\n",
       "    </tr>\n",
       "    <tr>\n",
       "      <th>2</th>\n",
       "      <td>8</td>\n",
       "      <td>18</td>\n",
       "      <td>0</td>\n",
       "      <td>0</td>\n",
       "      <td>1</td>\n",
       "      <td>45</td>\n",
       "      <td>3.000000</td>\n",
       "      <td>2</td>\n",
       "      <td>0</td>\n",
       "      <td>73</td>\n",
       "    </tr>\n",
       "    <tr>\n",
       "      <th>3</th>\n",
       "      <td>0</td>\n",
       "      <td>11</td>\n",
       "      <td>0</td>\n",
       "      <td>2</td>\n",
       "      <td>2</td>\n",
       "      <td>31</td>\n",
       "      <td>3.000000</td>\n",
       "      <td>7</td>\n",
       "      <td>0</td>\n",
       "      <td>85</td>\n",
       "    </tr>\n",
       "    <tr>\n",
       "      <th>4</th>\n",
       "      <td>4</td>\n",
       "      <td>12</td>\n",
       "      <td>0</td>\n",
       "      <td>0</td>\n",
       "      <td>1</td>\n",
       "      <td>31</td>\n",
       "      <td>3.000000</td>\n",
       "      <td>5</td>\n",
       "      <td>0</td>\n",
       "      <td>59</td>\n",
       "    </tr>\n",
       "    <tr>\n",
       "      <th>...</th>\n",
       "      <td>...</td>\n",
       "      <td>...</td>\n",
       "      <td>...</td>\n",
       "      <td>...</td>\n",
       "      <td>...</td>\n",
       "      <td>...</td>\n",
       "      <td>...</td>\n",
       "      <td>...</td>\n",
       "      <td>...</td>\n",
       "      <td>...</td>\n",
       "    </tr>\n",
       "    <tr>\n",
       "      <th>83534</th>\n",
       "      <td>7</td>\n",
       "      <td>24</td>\n",
       "      <td>0</td>\n",
       "      <td>0</td>\n",
       "      <td>1</td>\n",
       "      <td>38</td>\n",
       "      <td>4.000000</td>\n",
       "      <td>7</td>\n",
       "      <td>0</td>\n",
       "      <td>43</td>\n",
       "    </tr>\n",
       "    <tr>\n",
       "      <th>83535</th>\n",
       "      <td>7</td>\n",
       "      <td>20</td>\n",
       "      <td>2</td>\n",
       "      <td>2</td>\n",
       "      <td>1</td>\n",
       "      <td>43</td>\n",
       "      <td>3.019232</td>\n",
       "      <td>12</td>\n",
       "      <td>0</td>\n",
       "      <td>48</td>\n",
       "    </tr>\n",
       "    <tr>\n",
       "      <th>83536</th>\n",
       "      <td>7</td>\n",
       "      <td>14</td>\n",
       "      <td>0</td>\n",
       "      <td>1</td>\n",
       "      <td>1</td>\n",
       "      <td>35</td>\n",
       "      <td>4.989130</td>\n",
       "      <td>2</td>\n",
       "      <td>0</td>\n",
       "      <td>48</td>\n",
       "    </tr>\n",
       "    <tr>\n",
       "      <th>83537</th>\n",
       "      <td>7</td>\n",
       "      <td>19</td>\n",
       "      <td>0</td>\n",
       "      <td>2</td>\n",
       "      <td>1</td>\n",
       "      <td>39</td>\n",
       "      <td>5.000000</td>\n",
       "      <td>4</td>\n",
       "      <td>0</td>\n",
       "      <td>66</td>\n",
       "    </tr>\n",
       "    <tr>\n",
       "      <th>83538</th>\n",
       "      <td>0</td>\n",
       "      <td>20</td>\n",
       "      <td>0</td>\n",
       "      <td>0</td>\n",
       "      <td>1</td>\n",
       "      <td>28</td>\n",
       "      <td>3.000000</td>\n",
       "      <td>1</td>\n",
       "      <td>0</td>\n",
       "      <td>86</td>\n",
       "    </tr>\n",
       "  </tbody>\n",
       "</table>\n",
       "<p>83539 rows × 10 columns</p>\n",
       "</div>"
      ],
      "text/plain": [
       "       department  region  education  recruitment_channel  no_of_trainings  \\\n",
       "0               4      14          0                    0                1   \n",
       "1               7      15          0                    0                2   \n",
       "2               8      18          0                    0                1   \n",
       "3               0      11          0                    2                2   \n",
       "4               4      12          0                    0                1   \n",
       "...           ...     ...        ...                  ...              ...   \n",
       "83534           7      24          0                    0                1   \n",
       "83535           7      20          2                    2                1   \n",
       "83536           7      14          0                    1                1   \n",
       "83537           7      19          0                    2                1   \n",
       "83538           0      20          0                    0                1   \n",
       "\n",
       "       age  previous_year_rating  length_of_service  awards_won?  \\\n",
       "0       30              5.000000                  4            0   \n",
       "1       39              1.000000                 10            0   \n",
       "2       45              3.000000                  2            0   \n",
       "3       31              3.000000                  7            0   \n",
       "4       31              3.000000                  5            0   \n",
       "...    ...                   ...                ...          ...   \n",
       "83534   38              4.000000                  7            0   \n",
       "83535   43              3.019232                 12            0   \n",
       "83536   35              4.989130                  2            0   \n",
       "83537   39              5.000000                  4            0   \n",
       "83538   28              3.000000                  1            0   \n",
       "\n",
       "       avg_training_score  \n",
       "0                      60  \n",
       "1                      50  \n",
       "2                      73  \n",
       "3                      85  \n",
       "4                      59  \n",
       "...                   ...  \n",
       "83534                  43  \n",
       "83535                  48  \n",
       "83536                  48  \n",
       "83537                  66  \n",
       "83538                  86  \n",
       "\n",
       "[83539 rows x 10 columns]"
      ]
     },
     "execution_count": 33,
     "metadata": {},
     "output_type": "execute_result"
    }
   ],
   "source": [
    "X_resample_drop_sex = X_resample.drop(columns=['gender'])\n",
    "X_resample_drop_sex"
   ]
  },
  {
   "cell_type": "code",
   "execution_count": 34,
   "id": "fba23502",
   "metadata": {},
   "outputs": [
    {
     "name": "stdout",
     "output_type": "stream",
     "text": [
      "Train size : 66831\n",
      "Test  size : 16708\n"
     ]
    }
   ],
   "source": [
    "# splitting data into training (80%) and testing set (20%) of the drop Gender\n",
    "X_train, X_test, y_train, y_test = model_selection.train_test_split(X_resample_drop_sex, y_resample, test_size=0.2)\n",
    "\n",
    "print(f'Train size : {len(X_train)}')\n",
    "print(f'Test  size : {len(X_test)}')"
   ]
  },
  {
   "cell_type": "code",
   "execution_count": 35,
   "id": "347130a6",
   "metadata": {},
   "outputs": [
    {
     "name": "stdout",
     "output_type": "stream",
     "text": [
      "Accuracy of Naive Bayes  _______ 0.696851807517357\n",
      "Precission of Naive Bayes ______ 0.7072386058981234\n",
      "Recall of Naive Bayes     ______ 0.8156240338039782\n"
     ]
    }
   ],
   "source": [
    "from sklearn import naive_bayes\n",
    "from sklearn import svm\n",
    "\n",
    "# trianing the machine learning model using naive bayes algorithm.... \n",
    "nb_model = naive_bayes.GaussianNB()\n",
    "# sv_model = svm.SVC(C=10, kernel='rbf')\n",
    "# sv_model.fit(X_train, y_train)\n",
    "nb_model.fit(X_train, y_train)\n",
    "\n",
    "\n",
    "# evaluating the model using the testing samples\n",
    "nb_model.score(X_test, y_test)\n",
    "\n",
    "# detail evaluation of the model\n",
    "np_prediction = nb_model.predict(X_test)\n",
    "print('Accuracy of Naive Bayes without Gender   _______ {}'.format(metrics.accuracy_score(y_test , np_prediction)))\n",
    "print('Precission of Naive Bayes without Gender  ______ {}'.format(metrics.precision_score(y_test , np_prediction)))\n",
    "print('Recall of Naive Bayes without Gender      ______ {}'.format(metrics.recall_score(y_test , np_prediction)))"
   ]
  }
 ],
 "metadata": {
  "kernelspec": {
   "display_name": "Python 3 (ipykernel)",
   "language": "python",
   "name": "python3"
  },
  "language_info": {
   "codemirror_mode": {
    "name": "ipython",
    "version": 3
   },
   "file_extension": ".py",
   "mimetype": "text/x-python",
   "name": "python",
   "nbconvert_exporter": "python",
   "pygments_lexer": "ipython3",
   "version": "3.9.5"
  }
 },
 "nbformat": 4,
 "nbformat_minor": 5
}
