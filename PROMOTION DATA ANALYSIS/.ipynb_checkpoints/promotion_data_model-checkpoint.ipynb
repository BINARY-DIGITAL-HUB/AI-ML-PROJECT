{
 "cells": [
  {
   "cell_type": "code",
   "execution_count": null,
   "id": "deddb8d1",
   "metadata": {},
   "outputs": [],
   "source": [
    "prom_data = pd.read_csv('promotion_dataset/train.csv')\n",
    "prom_data.to_csv('promotion_dataset.csv', index=False)"
   ]
  },
  {
   "cell_type": "code",
   "execution_count": 1,
   "id": "1257b1ad-7508-43a0-8a47-10e719640707",
   "metadata": {
    "tags": []
   },
   "outputs": [],
   "source": [
    "# import nessary module into the jupyter notebook  \n",
    "import os\n",
    "import pandas as pd\n",
    "import seaborn as sn \n",
    "import matplotlib.pyplot as plt\n",
    "import numpy as np\n",
    "from sklearn import model_selection\n",
    "from sklearn import metrics\n",
    "from sklearn import svm\n",
    "from imblearn.combine import SMOTEENN"
   ]
  },
  {
   "cell_type": "markdown",
   "id": "d230e3eb-9870-4056-b05f-a9699d18fea9",
   "metadata": {},
   "source": [
    "## IMPORTING DATASET"
   ]
  },
  {
   "cell_type": "code",
   "execution_count": 2,
   "id": "727cb5ae-93bf-4170-84cc-b807ed4f8d5b",
   "metadata": {
    "scrolled": true,
    "tags": []
   },
   "outputs": [
    {
     "data": {
      "text/html": [
       "<div>\n",
       "<style scoped>\n",
       "    .dataframe tbody tr th:only-of-type {\n",
       "        vertical-align: middle;\n",
       "    }\n",
       "\n",
       "    .dataframe tbody tr th {\n",
       "        vertical-align: top;\n",
       "    }\n",
       "\n",
       "    .dataframe thead th {\n",
       "        text-align: right;\n",
       "    }\n",
       "</style>\n",
       "<table border=\"1\" class=\"dataframe\">\n",
       "  <thead>\n",
       "    <tr style=\"text-align: right;\">\n",
       "      <th></th>\n",
       "      <th>employee_id</th>\n",
       "      <th>department</th>\n",
       "      <th>region</th>\n",
       "      <th>education</th>\n",
       "      <th>gender</th>\n",
       "      <th>recruitment_channel</th>\n",
       "      <th>no_of_trainings</th>\n",
       "      <th>age</th>\n",
       "      <th>previous_year_rating</th>\n",
       "      <th>length_of_service</th>\n",
       "      <th>awards_won?</th>\n",
       "      <th>avg_training_score</th>\n",
       "      <th>is_promoted</th>\n",
       "    </tr>\n",
       "  </thead>\n",
       "  <tbody>\n",
       "    <tr>\n",
       "      <th>0</th>\n",
       "      <td>65438</td>\n",
       "      <td>Sales &amp; Marketing</td>\n",
       "      <td>region_7</td>\n",
       "      <td>Master's &amp; above</td>\n",
       "      <td>f</td>\n",
       "      <td>sourcing</td>\n",
       "      <td>1</td>\n",
       "      <td>35</td>\n",
       "      <td>5.0</td>\n",
       "      <td>8</td>\n",
       "      <td>0</td>\n",
       "      <td>49</td>\n",
       "      <td>0</td>\n",
       "    </tr>\n",
       "    <tr>\n",
       "      <th>1</th>\n",
       "      <td>65141</td>\n",
       "      <td>Operations</td>\n",
       "      <td>region_22</td>\n",
       "      <td>Bachelor's</td>\n",
       "      <td>m</td>\n",
       "      <td>other</td>\n",
       "      <td>1</td>\n",
       "      <td>30</td>\n",
       "      <td>5.0</td>\n",
       "      <td>4</td>\n",
       "      <td>0</td>\n",
       "      <td>60</td>\n",
       "      <td>0</td>\n",
       "    </tr>\n",
       "    <tr>\n",
       "      <th>2</th>\n",
       "      <td>7513</td>\n",
       "      <td>Sales &amp; Marketing</td>\n",
       "      <td>region_19</td>\n",
       "      <td>Bachelor's</td>\n",
       "      <td>m</td>\n",
       "      <td>sourcing</td>\n",
       "      <td>1</td>\n",
       "      <td>34</td>\n",
       "      <td>3.0</td>\n",
       "      <td>7</td>\n",
       "      <td>0</td>\n",
       "      <td>50</td>\n",
       "      <td>0</td>\n",
       "    </tr>\n",
       "    <tr>\n",
       "      <th>3</th>\n",
       "      <td>2542</td>\n",
       "      <td>Sales &amp; Marketing</td>\n",
       "      <td>region_23</td>\n",
       "      <td>Bachelor's</td>\n",
       "      <td>m</td>\n",
       "      <td>other</td>\n",
       "      <td>2</td>\n",
       "      <td>39</td>\n",
       "      <td>1.0</td>\n",
       "      <td>10</td>\n",
       "      <td>0</td>\n",
       "      <td>50</td>\n",
       "      <td>0</td>\n",
       "    </tr>\n",
       "    <tr>\n",
       "      <th>4</th>\n",
       "      <td>48945</td>\n",
       "      <td>Technology</td>\n",
       "      <td>region_26</td>\n",
       "      <td>Bachelor's</td>\n",
       "      <td>m</td>\n",
       "      <td>other</td>\n",
       "      <td>1</td>\n",
       "      <td>45</td>\n",
       "      <td>3.0</td>\n",
       "      <td>2</td>\n",
       "      <td>0</td>\n",
       "      <td>73</td>\n",
       "      <td>0</td>\n",
       "    </tr>\n",
       "  </tbody>\n",
       "</table>\n",
       "</div>"
      ],
      "text/plain": [
       "   employee_id         department     region         education gender  \\\n",
       "0        65438  Sales & Marketing   region_7  Master's & above      f   \n",
       "1        65141         Operations  region_22        Bachelor's      m   \n",
       "2         7513  Sales & Marketing  region_19        Bachelor's      m   \n",
       "3         2542  Sales & Marketing  region_23        Bachelor's      m   \n",
       "4        48945         Technology  region_26        Bachelor's      m   \n",
       "\n",
       "  recruitment_channel  no_of_trainings  age  previous_year_rating  \\\n",
       "0            sourcing                1   35                   5.0   \n",
       "1               other                1   30                   5.0   \n",
       "2            sourcing                1   34                   3.0   \n",
       "3               other                2   39                   1.0   \n",
       "4               other                1   45                   3.0   \n",
       "\n",
       "   length_of_service  awards_won?  avg_training_score  is_promoted  \n",
       "0                  8            0                  49            0  \n",
       "1                  4            0                  60            0  \n",
       "2                  7            0                  50            0  \n",
       "3                 10            0                  50            0  \n",
       "4                  2            0                  73            0  "
      ]
     },
     "execution_count": 2,
     "metadata": {},
     "output_type": "execute_result"
    }
   ],
   "source": [
    "# importing the promotion dataset\n",
    "prom_data = pd.read_csv('promotion_dataset/train.csv')\n",
    "\n",
    "# printing the first 5 rows\n",
    "prom_data.head()"
   ]
  },
  {
   "cell_type": "code",
   "execution_count": 3,
   "id": "e8261ba6-bfa3-41db-8d7c-69eb957fe150",
   "metadata": {},
   "outputs": [],
   "source": [
    "# visualizing data set colums, null value and each \n",
    "# attribute datatype... \n",
    "# its simple reveal that some colums missing values \n",
    "# such as the 'eduction', and 'previous year rating'"
   ]
  },
  {
   "cell_type": "code",
   "execution_count": 4,
   "id": "440b542e-bc49-4b78-93e4-008222aec414",
   "metadata": {
    "tags": []
   },
   "outputs": [
    {
     "name": "stdout",
     "output_type": "stream",
     "text": [
      "<class 'pandas.core.frame.DataFrame'>\n",
      "RangeIndex: 54808 entries, 0 to 54807\n",
      "Data columns (total 13 columns):\n",
      " #   Column                Non-Null Count  Dtype  \n",
      "---  ------                --------------  -----  \n",
      " 0   employee_id           54808 non-null  int64  \n",
      " 1   department            54808 non-null  object \n",
      " 2   region                54808 non-null  object \n",
      " 3   education             52399 non-null  object \n",
      " 4   gender                54808 non-null  object \n",
      " 5   recruitment_channel   54808 non-null  object \n",
      " 6   no_of_trainings       54808 non-null  int64  \n",
      " 7   age                   54808 non-null  int64  \n",
      " 8   previous_year_rating  50684 non-null  float64\n",
      " 9   length_of_service     54808 non-null  int64  \n",
      " 10  awards_won?           54808 non-null  int64  \n",
      " 11  avg_training_score    54808 non-null  int64  \n",
      " 12  is_promoted           54808 non-null  int64  \n",
      "dtypes: float64(1), int64(7), object(5)\n",
      "memory usage: 5.4+ MB\n"
     ]
    }
   ],
   "source": [
    "prom_data.info()"
   ]
  },
  {
   "cell_type": "markdown",
   "id": "c23b2230-3eed-4523-8fc7-bef46ed0736e",
   "metadata": {
    "tags": []
   },
   "source": [
    "### SHOW UNIQUE VALUE IN EACH COLUMNS"
   ]
  },
  {
   "cell_type": "code",
   "execution_count": 5,
   "id": "e49adec2-64b7-4af5-80bf-3368fa949f70",
   "metadata": {
    "scrolled": false,
    "tags": []
   },
   "outputs": [
    {
     "data": {
      "text/html": [
       "<div>\n",
       "<style scoped>\n",
       "    .dataframe tbody tr th:only-of-type {\n",
       "        vertical-align: middle;\n",
       "    }\n",
       "\n",
       "    .dataframe tbody tr th {\n",
       "        vertical-align: top;\n",
       "    }\n",
       "\n",
       "    .dataframe thead th {\n",
       "        text-align: right;\n",
       "    }\n",
       "</style>\n",
       "<table border=\"1\" class=\"dataframe\">\n",
       "  <thead>\n",
       "    <tr style=\"text-align: right;\">\n",
       "      <th></th>\n",
       "      <th>feature</th>\n",
       "      <th>unique_val</th>\n",
       "      <th>val_length</th>\n",
       "    </tr>\n",
       "  </thead>\n",
       "  <tbody>\n",
       "    <tr>\n",
       "      <th>0</th>\n",
       "      <td>employee_id</td>\n",
       "      <td>[65438, 65141, 7513, 2542, 48945, 58896, 20379...</td>\n",
       "      <td>54808</td>\n",
       "    </tr>\n",
       "    <tr>\n",
       "      <th>1</th>\n",
       "      <td>department</td>\n",
       "      <td>[Sales &amp; Marketing, Operations, Technology, An...</td>\n",
       "      <td>9</td>\n",
       "    </tr>\n",
       "    <tr>\n",
       "      <th>2</th>\n",
       "      <td>region</td>\n",
       "      <td>[region_7, region_22, region_19, region_23, re...</td>\n",
       "      <td>34</td>\n",
       "    </tr>\n",
       "    <tr>\n",
       "      <th>3</th>\n",
       "      <td>education</td>\n",
       "      <td>[Master's &amp; above, Bachelor's, nan, Below Seco...</td>\n",
       "      <td>4</td>\n",
       "    </tr>\n",
       "    <tr>\n",
       "      <th>4</th>\n",
       "      <td>gender</td>\n",
       "      <td>[f, m]</td>\n",
       "      <td>2</td>\n",
       "    </tr>\n",
       "    <tr>\n",
       "      <th>5</th>\n",
       "      <td>recruitment_channel</td>\n",
       "      <td>[sourcing, other, referred]</td>\n",
       "      <td>3</td>\n",
       "    </tr>\n",
       "    <tr>\n",
       "      <th>6</th>\n",
       "      <td>no_of_trainings</td>\n",
       "      <td>[1, 2, 3, 4, 7, 5, 6, 8, 10, 9]</td>\n",
       "      <td>10</td>\n",
       "    </tr>\n",
       "    <tr>\n",
       "      <th>7</th>\n",
       "      <td>age</td>\n",
       "      <td>[35, 30, 34, 39, 45, 31, 33, 28, 32, 49, 37, 3...</td>\n",
       "      <td>41</td>\n",
       "    </tr>\n",
       "    <tr>\n",
       "      <th>8</th>\n",
       "      <td>previous_year_rating</td>\n",
       "      <td>[5.0, 3.0, 1.0, 4.0, nan, 2.0]</td>\n",
       "      <td>6</td>\n",
       "    </tr>\n",
       "    <tr>\n",
       "      <th>9</th>\n",
       "      <td>length_of_service</td>\n",
       "      <td>[8, 4, 7, 10, 2, 5, 6, 1, 3, 16, 9, 11, 26, 12...</td>\n",
       "      <td>35</td>\n",
       "    </tr>\n",
       "    <tr>\n",
       "      <th>10</th>\n",
       "      <td>awards_won?</td>\n",
       "      <td>[0, 1]</td>\n",
       "      <td>2</td>\n",
       "    </tr>\n",
       "    <tr>\n",
       "      <th>11</th>\n",
       "      <td>avg_training_score</td>\n",
       "      <td>[49, 60, 50, 73, 85, 59, 63, 83, 54, 77, 80, 8...</td>\n",
       "      <td>61</td>\n",
       "    </tr>\n",
       "    <tr>\n",
       "      <th>12</th>\n",
       "      <td>is_promoted</td>\n",
       "      <td>[0, 1]</td>\n",
       "      <td>2</td>\n",
       "    </tr>\n",
       "  </tbody>\n",
       "</table>\n",
       "</div>"
      ],
      "text/plain": [
       "                 feature                                         unique_val  \\\n",
       "0            employee_id  [65438, 65141, 7513, 2542, 48945, 58896, 20379...   \n",
       "1             department  [Sales & Marketing, Operations, Technology, An...   \n",
       "2                 region  [region_7, region_22, region_19, region_23, re...   \n",
       "3              education  [Master's & above, Bachelor's, nan, Below Seco...   \n",
       "4                 gender                                             [f, m]   \n",
       "5    recruitment_channel                        [sourcing, other, referred]   \n",
       "6        no_of_trainings                    [1, 2, 3, 4, 7, 5, 6, 8, 10, 9]   \n",
       "7                    age  [35, 30, 34, 39, 45, 31, 33, 28, 32, 49, 37, 3...   \n",
       "8   previous_year_rating                     [5.0, 3.0, 1.0, 4.0, nan, 2.0]   \n",
       "9      length_of_service  [8, 4, 7, 10, 2, 5, 6, 1, 3, 16, 9, 11, 26, 12...   \n",
       "10           awards_won?                                             [0, 1]   \n",
       "11    avg_training_score  [49, 60, 50, 73, 85, 59, 63, 83, 54, 77, 80, 8...   \n",
       "12           is_promoted                                             [0, 1]   \n",
       "\n",
       "    val_length  \n",
       "0        54808  \n",
       "1            9  \n",
       "2           34  \n",
       "3            4  \n",
       "4            2  \n",
       "5            3  \n",
       "6           10  \n",
       "7           41  \n",
       "8            6  \n",
       "9           35  \n",
       "10           2  \n",
       "11          61  \n",
       "12           2  "
      ]
     },
     "execution_count": 5,
     "metadata": {},
     "output_type": "execute_result"
    }
   ],
   "source": [
    "# TO KNOW HOW MANY VALUE ARE IN EACH FEATURES\n",
    "data_feature_diction = {\n",
    "    'feature' :[], \n",
    "    'unique_val': [],\n",
    "    'val_length':[]\n",
    " }\n",
    "for i in range(len(prom_data.columns)):\n",
    "    d = prom_data[prom_data.columns[i]].unique()\n",
    "    # print(f'{prom_data.columns[i]} {d}')\n",
    "    data_feature_diction['feature'].append(prom_data.columns[i])\n",
    "    data_feature_diction['unique_val'].append(d)\n",
    "    data_feature_diction['val_length'].append(len(d))\n",
    "    \n",
    "# showing it in a dataframe format  \n",
    "pd.DataFrame(data_feature_diction)"
   ]
  },
  {
   "cell_type": "markdown",
   "id": "69a48b3c",
   "metadata": {},
   "source": [
    "### Checking for duplicate"
   ]
  },
  {
   "cell_type": "code",
   "execution_count": 6,
   "id": "5ccdc3e3",
   "metadata": {},
   "outputs": [
    {
     "data": {
      "text/html": [
       "<div>\n",
       "<style scoped>\n",
       "    .dataframe tbody tr th:only-of-type {\n",
       "        vertical-align: middle;\n",
       "    }\n",
       "\n",
       "    .dataframe tbody tr th {\n",
       "        vertical-align: top;\n",
       "    }\n",
       "\n",
       "    .dataframe thead th {\n",
       "        text-align: right;\n",
       "    }\n",
       "</style>\n",
       "<table border=\"1\" class=\"dataframe\">\n",
       "  <thead>\n",
       "    <tr style=\"text-align: right;\">\n",
       "      <th></th>\n",
       "      <th>employee_id</th>\n",
       "      <th>department</th>\n",
       "      <th>region</th>\n",
       "      <th>education</th>\n",
       "      <th>gender</th>\n",
       "      <th>recruitment_channel</th>\n",
       "      <th>no_of_trainings</th>\n",
       "      <th>age</th>\n",
       "      <th>previous_year_rating</th>\n",
       "      <th>length_of_service</th>\n",
       "      <th>awards_won?</th>\n",
       "      <th>avg_training_score</th>\n",
       "      <th>is_promoted</th>\n",
       "    </tr>\n",
       "  </thead>\n",
       "  <tbody>\n",
       "  </tbody>\n",
       "</table>\n",
       "</div>"
      ],
      "text/plain": [
       "Empty DataFrame\n",
       "Columns: [employee_id, department, region, education, gender, recruitment_channel, no_of_trainings, age, previous_year_rating, length_of_service, awards_won?, avg_training_score, is_promoted]\n",
       "Index: []"
      ]
     },
     "execution_count": 6,
     "metadata": {},
     "output_type": "execute_result"
    }
   ],
   "source": [
    "# this shows their is no data duplication... \n",
    "prom_data.duplicated().value_counts()\n",
    "prom_data[prom_data.employee_id.duplicated()==True]"
   ]
  },
  {
   "cell_type": "markdown",
   "id": "675c3d61",
   "metadata": {},
   "source": [
    "### Visualizing prediction Class"
   ]
  },
  {
   "cell_type": "code",
   "execution_count": 7,
   "id": "a6e9811b",
   "metadata": {
    "scrolled": false
   },
   "outputs": [
    {
     "data": {
      "text/plain": [
       "Text(0.5, 1.0, 'this promotion class count')"
      ]
     },
     "execution_count": 7,
     "metadata": {},
     "output_type": "execute_result"
    },
    {
     "data": {
      "image/png": "[encoded data removed]",
      "text/plain": [
       "<Figure size 640x480 with 1 Axes>"
      ]
     },
     "metadata": {},
     "output_type": "display_data"
    }
   ],
   "source": [
    "# with the visual its show that the class distribution is highly imbalance\n",
    "sn.countplot(x=prom_data.is_promoted, data=prom_data)\n",
    "plt.title('this promotion class count', loc='center')"
   ]
  },
  {
   "cell_type": "markdown",
   "id": "4bee0c4e-6b51-4f32-b668-9cf62b17fe04",
   "metadata": {
    "tags": []
   },
   "source": [
    "<h1 style='color:black' align='left'> OBSERVING PROMOTION DISTRIBUTION </h1>"
   ]
  },
  {
   "cell_type": "code",
   "execution_count": 8,
   "id": "af5d0e1c-ec30-447d-8a50-869d48758e16",
   "metadata": {},
   "outputs": [],
   "source": [
    "# checking the count observation of gender in respect to other attributes...\n",
    "# with this, the bais disttribution can be clearly seen based on SEX"
   ]
  },
  {
   "cell_type": "code",
   "execution_count": 9,
   "id": "a2272e74-bc9b-4f31-8d0b-8482e6f61b8c",
   "metadata": {
    "scrolled": false,
    "tags": []
   },
   "outputs": [
    {
     "data": {
      "text/plain": [
       "<Axes: xlabel='is_promoted', ylabel='count'>"
      ]
     },
     "execution_count": 9,
     "metadata": {},
     "output_type": "execute_result"
    },
    {
     "data": {
      "image/png": "[encoded data removed]",
      "text/plain": [
       "<Figure size 1800x1300 with 6 Axes>"
      ]
     },
     "metadata": {},
     "output_type": "display_data"
    }
   ],
   "source": [
    "fig, ax = plt.subplots(2, 3, figsize=(18,13))\n",
    "# plt.figure(figsize=(12,12))\n",
    "sn.countplot(x='is_promoted', hue='gender',  data=prom_data, ax=ax[0,0])\n",
    "sn.countplot(x='is_promoted', hue='department',  data=prom_data, ax=ax[0,1])\n",
    "sn.countplot(x='is_promoted', hue='previous_year_rating',  data=prom_data, ax=ax[0,2])\n",
    "sn.countplot(x='is_promoted', hue='recruitment_channel',  data=prom_data, ax=ax[1,0])\n",
    "sn.countplot(x='is_promoted', hue='awards_won?',  data=prom_data, ax=ax[1,1])\n",
    "sn.countplot(x='is_promoted', hue='education',  data=prom_data, ax=ax[1,2])"
   ]
  },
  {
   "cell_type": "markdown",
   "id": "293057f9-5edf-47d5-b29c-276176703f59",
   "metadata": {
    "tags": []
   },
   "source": [
    "### FINDING CORELLATION BETWEEN DATAPOINT"
   ]
  },
  {
   "cell_type": "markdown",
   "id": "179b7ab4-ded1-45b9-b940-0cb089cfa8f3",
   "metadata": {
    "tags": []
   },
   "source": [
    "<h3 style='color:black' align='left'>this is essential to reveal how related <br> or the level of correlation between the features </h2>"
   ]
  },
  {
   "cell_type": "code",
   "execution_count": 10,
   "id": "4d28f897-e984-4342-99a4-2504039dbd6a",
   "metadata": {
    "tags": []
   },
   "outputs": [
    {
     "name": "stderr",
     "output_type": "stream",
     "text": [
      "C:\\Users\\HP\\AppData\\Local\\Temp\\ipykernel_12084\\2721570615.py:4: FutureWarning: The default value of numeric_only in DataFrame.corr is deprecated. In a future version, it will default to False. Select only valid columns or specify the value of numeric_only to silence this warning.\n",
      "  sn.heatmap(prom_data.corr(), annot=True )\n"
     ]
    },
    {
     "data": {
      "image/png": "[encoded data removed]",
      "text/plain": [
       "<Figure size 1000x800 with 2 Axes>"
      ]
     },
     "metadata": {},
     "output_type": "display_data"
    }
   ],
   "source": [
    "# showing correlation or how related the attribuites his to heach other\n",
    "# plt.title('DATA CORRELATION')\n",
    "plt.figure(figsize=(10,8))\n",
    "sn.heatmap(prom_data.corr(), annot=True )\n",
    "plt.show()"
   ]
  },
  {
   "cell_type": "code",
   "execution_count": 11,
   "id": "81e1eeff-18c9-4073-b859-7358c67027e9",
   "metadata": {
    "tags": []
   },
   "outputs": [],
   "source": [
    "# age and length of service as 60% correlation let dive down into the data in detail\n",
    "# form the scatter chat we can actually says the age of the staff could tell the year's \n",
    "# he/she as been employed... "
   ]
  },
  {
   "cell_type": "code",
   "execution_count": 12,
   "id": "7de7bf24-e4d7-4ed2-90a0-1bf08a725f90",
   "metadata": {
    "tags": []
   },
   "outputs": [
    {
     "name": "stdout",
     "output_type": "stream",
     "text": [
      "54808\n",
      "54808\n"
     ]
    },
    {
     "data": {
      "text/plain": [
       "Text(0, 0.5, 'AGE')"
      ]
     },
     "execution_count": 12,
     "metadata": {},
     "output_type": "execute_result"
    },
    {
     "data": {
      "image/png": "[encoded data removed]",
      "text/plain": [
       "<Figure size 640x480 with 1 Axes>"
      ]
     },
     "metadata": {},
     "output_type": "display_data"
    }
   ],
   "source": [
    "print(prom_data.length_of_service.count())\n",
    "print(prom_data.age.count())\n",
    "plt.title('AGE AND SERVICE YEAR CORRELATION')\n",
    "plt.scatter(prom_data.length_of_service, prom_data.age, color='green', marker='+' )\n",
    "plt.xlabel('LENGTH OF SEARVICE (YEARS)')\n",
    "plt.ylabel('AGE')"
   ]
  },
  {
   "cell_type": "code",
   "execution_count": 13,
   "id": "c8c5e05b-5acf-4d49-87e9-fcae9d403167",
   "metadata": {
    "tags": []
   },
   "outputs": [],
   "source": [
    "# loooking into the the lenght of service year \n",
    "#  let check if how long you are employes rely determine ur promotion \n",
    "# from the correlation table we have -1.1% corellation ... meaning the year of service does not determine \n",
    "# if a staff is promoted or not.. and this can be clearning shown in the scartter chart below"
   ]
  },
  {
   "cell_type": "code",
   "execution_count": 14,
   "id": "47bddac5-536c-4ff7-bf04-04229f1caa95",
   "metadata": {
    "tags": []
   },
   "outputs": [
    {
     "name": "stdout",
     "output_type": "stream",
     "text": [
      "54808\n",
      "54808\n"
     ]
    },
    {
     "data": {
      "image/png": "[encoded data removed]",
      "text/plain": [
       "<Figure size 640x480 with 1 Axes>"
      ]
     },
     "metadata": {},
     "output_type": "display_data"
    }
   ],
   "source": [
    "print(prom_data.length_of_service.count())\n",
    "print(prom_data.age.count())\n",
    "plt.title('AGE AND SERVICE YEAR CORRELATION')\n",
    "plt.scatter(prom_data.length_of_service, prom_data.is_promoted, color='red', marker='+' )\n",
    "plt.xlabel('LENGTH OF SEARVICE (YEARS)')\n",
    "plt.ylabel('AGE')\n",
    "plt.show()"
   ]
  },
  {
   "cell_type": "markdown",
   "id": "97256b21-dfd5-4f6b-bf12-813466940579",
   "metadata": {
    "tags": []
   },
   "source": [
    "<h1 style='color:black' align='left'> DATA CLEANING AND TRASFORMATION </h1>"
   ]
  },
  {
   "cell_type": "markdown",
   "id": "1b493954-8bb0-437f-aca5-1d7d8f689e38",
   "metadata": {
    "tags": []
   },
   "source": [
    "<h2 style='color:black' align='left'> based on eploration the data set contain missing value <br> hence its \n",
    "essential to clean, remove irrelival columns and and fill up missing values <br>\n",
    "    however trainsforming the data is needed some columns are in text for and machine learning works with numbers... </h2>"
   ]
  },
  {
   "cell_type": "markdown",
   "id": "5e4e9b76-8b15-43d8-938c-883e08386920",
   "metadata": {
    "tags": []
   },
   "source": [
    "<h1 style='color:black' align='left'> Addressing Null Value Data </h1>"
   ]
  },
  {
   "cell_type": "code",
   "execution_count": 15,
   "id": "d26e022f-2811-4711-ae92-e11b54ad9a02",
   "metadata": {
    "tags": []
   },
   "outputs": [
    {
     "data": {
      "text/plain": [
       "employee_id                0\n",
       "department                 0\n",
       "region                     0\n",
       "education               2409\n",
       "gender                     0\n",
       "recruitment_channel        0\n",
       "no_of_trainings            0\n",
       "age                        0\n",
       "previous_year_rating    4124\n",
       "length_of_service          0\n",
       "awards_won?                0\n",
       "avg_training_score         0\n",
       "is_promoted                0\n",
       "dtype: int64"
      ]
     },
     "execution_count": 15,
     "metadata": {},
     "output_type": "execute_result"
    }
   ],
   "source": [
    "#  let loop through the dataset and count the number of missing data point in each features\n",
    "# this shows that only 'previous year rating' and the 'eductaion' columns contain missing values. \n",
    "\n",
    "# we have 2,409 missing value in education feature \n",
    "# and 4,124 missing value in previous year rating feature \n",
    "\n",
    "prom_data.isna().sum()"
   ]
  },
  {
   "cell_type": "code",
   "execution_count": 16,
   "id": "63e33d47-15c6-471b-a1ca-50f8ee38a6ea",
   "metadata": {
    "tags": []
   },
   "outputs": [
    {
     "data": {
      "text/plain": [
       "array([ 5.,  5.,  3.,  1.,  3.,  3.,  3.,  3.,  4.,  5., nan,  5.,  5.,\n",
       "        3.,  3.,  1.,  3.,  1.,  5.,  3.,  3.,  4.,  3., nan,  5.,  5.,\n",
       "        5.,  4.,  5., nan,  5.,  1.,  1.,  4.,  5.,  2.,  4.,  5.,  5.,\n",
       "        5.,  3.,  4.,  4.,  2.,  5.,  5.,  4.,  3.,  3.,  3.,  4.,  3.,\n",
       "        3.,  1.,  3.,  2., nan,  3., nan,  4.,  4.,  3., nan,  4.,  5.,\n",
       "        3., nan, nan,  4.,  3.,  5.,  5.,  1.,  4.,  3.,  4.,  1.,  4.,\n",
       "        3.,  3.,  3.,  2.,  3.,  4., nan,  5.,  2.,  1.,  5., nan, nan,\n",
       "        3.,  4.,  3.,  4.,  4., nan,  3.,  3.,  5.,  5.,  3.,  3.,  5.,\n",
       "        5.,  4.,  4.,  3.,  3.,  2.,  4., nan,  4.,  3.,  5.,  4.,  5.,\n",
       "        3.,  4.,  4.,  4.,  5.,  5., nan,  3., nan,  5., nan,  5.,  3.,\n",
       "        5.,  5.,  4.,  3.,  5., nan,  3.,  3.,  4.,  4.,  3., nan,  5.,\n",
       "        3.,  3.,  3.,  3.,  5.,  1.,  4.,  3.,  5.,  5.,  4.,  3.,  1.,\n",
       "        3.,  3.,  5.,  4., nan,  3.,  1.,  5.,  3.,  5.,  1.,  4.,  4.,\n",
       "        4.,  5.,  1.,  2.,  3.,  3.,  2.,  3.,  2., nan,  5.,  3.,  4.,\n",
       "        4.,  5.,  4.,  5.,  3.,  4.,  4.,  4.,  5.,  1.,  3.,  5.,  4.,\n",
       "        4.,  1.,  3.,  1.,  3.])"
      ]
     },
     "execution_count": 16,
     "metadata": {},
     "output_type": "execute_result"
    }
   ],
   "source": [
    "# we can see some NaN value in the datapoint of previous year rating feature\n",
    "# looping through the value to see in detail the content of the feature..... \n",
    "prom_data.previous_year_rating.values[:200]"
   ]
  },
  {
   "cell_type": "code",
   "execution_count": 17,
   "id": "cf0d1d2f-2ccc-49b8-9465-dade951024f4",
   "metadata": {},
   "outputs": [
    {
     "data": {
      "text/plain": [
       "0        Master's & above\n",
       "1              Bachelor's\n",
       "2              Bachelor's\n",
       "3              Bachelor's\n",
       "4              Bachelor's\n",
       "               ...       \n",
       "54803          Bachelor's\n",
       "54804    Master's & above\n",
       "54805          Bachelor's\n",
       "54806                 NaN\n",
       "54807          Bachelor's\n",
       "Name: education, Length: 54808, dtype: object"
      ]
     },
     "execution_count": 17,
     "metadata": {},
     "output_type": "execute_result"
    }
   ],
   "source": [
    "# we can see some NaN value in the datapoint of education feature\n",
    "prom_data.education"
   ]
  },
  {
   "cell_type": "code",
   "execution_count": 18,
   "id": "478d1b4e-fe8d-4220-94ca-b9861dcfcb39",
   "metadata": {
    "tags": []
   },
   "outputs": [
    {
     "data": {
      "text/plain": [
       "employee_id                0\n",
       "department                 0\n",
       "region                     0\n",
       "education               2409\n",
       "gender                     0\n",
       "recruitment_channel        0\n",
       "no_of_trainings            0\n",
       "age                        0\n",
       "previous_year_rating       0\n",
       "length_of_service          0\n",
       "awards_won?                0\n",
       "avg_training_score         0\n",
       "is_promoted                0\n",
       "dtype: int64"
      ]
     },
     "execution_count": 18,
     "metadata": {},
     "output_type": "execute_result"
    }
   ],
   "source": [
    "# using linear interpolation approach to fill the missing value for the 'previous_year_rating'\n",
    "prom_data.previous_year_rating = prom_data.previous_year_rating.interpolate(method='linear')\n",
    "prom_data.isna().sum()"
   ]
  },
  {
   "cell_type": "code",
   "execution_count": 19,
   "id": "ffe672be-ab43-4409-8130-a9a1239efbde",
   "metadata": {
    "tags": []
   },
   "outputs": [
    {
     "data": {
      "text/plain": [
       "employee_id             0\n",
       "department              0\n",
       "region                  0\n",
       "education               0\n",
       "gender                  0\n",
       "recruitment_channel     0\n",
       "no_of_trainings         0\n",
       "age                     0\n",
       "previous_year_rating    0\n",
       "length_of_service       0\n",
       "awards_won?             0\n",
       "avg_training_score      0\n",
       "is_promoted             0\n",
       "dtype: int64"
      ]
     },
     "execution_count": 19,
     "metadata": {},
     "output_type": "execute_result"
    }
   ],
   "source": [
    "# using foward fill NaN (null) value method to replace the missin datapoint\n",
    "prom_data.education.fillna(method='ffill', inplace=True)\n",
    "prom_data.isna().sum()"
   ]
  },
  {
   "cell_type": "code",
   "execution_count": 20,
   "id": "63411114-fc90-4c04-b83d-b06f5b6963fa",
   "metadata": {
    "tags": []
   },
   "outputs": [
    {
     "data": {
      "text/html": [
       "<div>\n",
       "<style scoped>\n",
       "    .dataframe tbody tr th:only-of-type {\n",
       "        vertical-align: middle;\n",
       "    }\n",
       "\n",
       "    .dataframe tbody tr th {\n",
       "        vertical-align: top;\n",
       "    }\n",
       "\n",
       "    .dataframe thead th {\n",
       "        text-align: right;\n",
       "    }\n",
       "</style>\n",
       "<table border=\"1\" class=\"dataframe\">\n",
       "  <thead>\n",
       "    <tr style=\"text-align: right;\">\n",
       "      <th></th>\n",
       "      <th>employee_id</th>\n",
       "      <th>department</th>\n",
       "      <th>region</th>\n",
       "      <th>education</th>\n",
       "      <th>gender</th>\n",
       "      <th>recruitment_channel</th>\n",
       "      <th>no_of_trainings</th>\n",
       "      <th>age</th>\n",
       "      <th>previous_year_rating</th>\n",
       "      <th>length_of_service</th>\n",
       "      <th>awards_won?</th>\n",
       "      <th>avg_training_score</th>\n",
       "      <th>is_promoted</th>\n",
       "    </tr>\n",
       "  </thead>\n",
       "  <tbody>\n",
       "    <tr>\n",
       "      <th>0</th>\n",
       "      <td>65438</td>\n",
       "      <td>Sales &amp; Marketing</td>\n",
       "      <td>region_7</td>\n",
       "      <td>Master's &amp; above</td>\n",
       "      <td>f</td>\n",
       "      <td>sourcing</td>\n",
       "      <td>1</td>\n",
       "      <td>35</td>\n",
       "      <td>5.0</td>\n",
       "      <td>8</td>\n",
       "      <td>0</td>\n",
       "      <td>49</td>\n",
       "      <td>0</td>\n",
       "    </tr>\n",
       "    <tr>\n",
       "      <th>1</th>\n",
       "      <td>65141</td>\n",
       "      <td>Operations</td>\n",
       "      <td>region_22</td>\n",
       "      <td>Bachelor's</td>\n",
       "      <td>m</td>\n",
       "      <td>other</td>\n",
       "      <td>1</td>\n",
       "      <td>30</td>\n",
       "      <td>5.0</td>\n",
       "      <td>4</td>\n",
       "      <td>0</td>\n",
       "      <td>60</td>\n",
       "      <td>0</td>\n",
       "    </tr>\n",
       "    <tr>\n",
       "      <th>2</th>\n",
       "      <td>7513</td>\n",
       "      <td>Sales &amp; Marketing</td>\n",
       "      <td>region_19</td>\n",
       "      <td>Bachelor's</td>\n",
       "      <td>m</td>\n",
       "      <td>sourcing</td>\n",
       "      <td>1</td>\n",
       "      <td>34</td>\n",
       "      <td>3.0</td>\n",
       "      <td>7</td>\n",
       "      <td>0</td>\n",
       "      <td>50</td>\n",
       "      <td>0</td>\n",
       "    </tr>\n",
       "  </tbody>\n",
       "</table>\n",
       "</div>"
      ],
      "text/plain": [
       "   employee_id         department     region         education gender  \\\n",
       "0        65438  Sales & Marketing   region_7  Master's & above      f   \n",
       "1        65141         Operations  region_22        Bachelor's      m   \n",
       "2         7513  Sales & Marketing  region_19        Bachelor's      m   \n",
       "\n",
       "  recruitment_channel  no_of_trainings  age  previous_year_rating  \\\n",
       "0            sourcing                1   35                   5.0   \n",
       "1               other                1   30                   5.0   \n",
       "2            sourcing                1   34                   3.0   \n",
       "\n",
       "   length_of_service  awards_won?  avg_training_score  is_promoted  \n",
       "0                  8            0                  49            0  \n",
       "1                  4            0                  60            0  \n",
       "2                  7            0                  50            0  "
      ]
     },
     "execution_count": 20,
     "metadata": {},
     "output_type": "execute_result"
    }
   ],
   "source": [
    "prom_data.head(3)"
   ]
  },
  {
   "cell_type": "markdown",
   "id": "99e240ad-f748-4e65-a7d7-bc197e412211",
   "metadata": {
    "tags": []
   },
   "source": [
    "### droping the employee id (it as no contribution to the machine learning prediction)...."
   ]
  },
  {
   "cell_type": "code",
   "execution_count": 21,
   "id": "7685ec0c-25f2-4757-a2d2-a3900ce4c0fa",
   "metadata": {
    "tags": []
   },
   "outputs": [
    {
     "data": {
      "text/html": [
       "<div>\n",
       "<style scoped>\n",
       "    .dataframe tbody tr th:only-of-type {\n",
       "        vertical-align: middle;\n",
       "    }\n",
       "\n",
       "    .dataframe tbody tr th {\n",
       "        vertical-align: top;\n",
       "    }\n",
       "\n",
       "    .dataframe thead th {\n",
       "        text-align: right;\n",
       "    }\n",
       "</style>\n",
       "<table border=\"1\" class=\"dataframe\">\n",
       "  <thead>\n",
       "    <tr style=\"text-align: right;\">\n",
       "      <th></th>\n",
       "      <th>department</th>\n",
       "      <th>region</th>\n",
       "      <th>education</th>\n",
       "      <th>gender</th>\n",
       "      <th>recruitment_channel</th>\n",
       "      <th>no_of_trainings</th>\n",
       "      <th>age</th>\n",
       "      <th>previous_year_rating</th>\n",
       "      <th>length_of_service</th>\n",
       "      <th>awards_won?</th>\n",
       "      <th>avg_training_score</th>\n",
       "      <th>is_promoted</th>\n",
       "    </tr>\n",
       "  </thead>\n",
       "  <tbody>\n",
       "    <tr>\n",
       "      <th>0</th>\n",
       "      <td>Sales &amp; Marketing</td>\n",
       "      <td>region_7</td>\n",
       "      <td>Master's &amp; above</td>\n",
       "      <td>f</td>\n",
       "      <td>sourcing</td>\n",
       "      <td>1</td>\n",
       "      <td>35</td>\n",
       "      <td>5.0</td>\n",
       "      <td>8</td>\n",
       "      <td>0</td>\n",
       "      <td>49</td>\n",
       "      <td>0</td>\n",
       "    </tr>\n",
       "    <tr>\n",
       "      <th>1</th>\n",
       "      <td>Operations</td>\n",
       "      <td>region_22</td>\n",
       "      <td>Bachelor's</td>\n",
       "      <td>m</td>\n",
       "      <td>other</td>\n",
       "      <td>1</td>\n",
       "      <td>30</td>\n",
       "      <td>5.0</td>\n",
       "      <td>4</td>\n",
       "      <td>0</td>\n",
       "      <td>60</td>\n",
       "      <td>0</td>\n",
       "    </tr>\n",
       "    <tr>\n",
       "      <th>2</th>\n",
       "      <td>Sales &amp; Marketing</td>\n",
       "      <td>region_19</td>\n",
       "      <td>Bachelor's</td>\n",
       "      <td>m</td>\n",
       "      <td>sourcing</td>\n",
       "      <td>1</td>\n",
       "      <td>34</td>\n",
       "      <td>3.0</td>\n",
       "      <td>7</td>\n",
       "      <td>0</td>\n",
       "      <td>50</td>\n",
       "      <td>0</td>\n",
       "    </tr>\n",
       "    <tr>\n",
       "      <th>3</th>\n",
       "      <td>Sales &amp; Marketing</td>\n",
       "      <td>region_23</td>\n",
       "      <td>Bachelor's</td>\n",
       "      <td>m</td>\n",
       "      <td>other</td>\n",
       "      <td>2</td>\n",
       "      <td>39</td>\n",
       "      <td>1.0</td>\n",
       "      <td>10</td>\n",
       "      <td>0</td>\n",
       "      <td>50</td>\n",
       "      <td>0</td>\n",
       "    </tr>\n",
       "    <tr>\n",
       "      <th>4</th>\n",
       "      <td>Technology</td>\n",
       "      <td>region_26</td>\n",
       "      <td>Bachelor's</td>\n",
       "      <td>m</td>\n",
       "      <td>other</td>\n",
       "      <td>1</td>\n",
       "      <td>45</td>\n",
       "      <td>3.0</td>\n",
       "      <td>2</td>\n",
       "      <td>0</td>\n",
       "      <td>73</td>\n",
       "      <td>0</td>\n",
       "    </tr>\n",
       "  </tbody>\n",
       "</table>\n",
       "</div>"
      ],
      "text/plain": [
       "          department     region         education gender recruitment_channel  \\\n",
       "0  Sales & Marketing   region_7  Master's & above      f            sourcing   \n",
       "1         Operations  region_22        Bachelor's      m               other   \n",
       "2  Sales & Marketing  region_19        Bachelor's      m            sourcing   \n",
       "3  Sales & Marketing  region_23        Bachelor's      m               other   \n",
       "4         Technology  region_26        Bachelor's      m               other   \n",
       "\n",
       "   no_of_trainings  age  previous_year_rating  length_of_service  awards_won?  \\\n",
       "0                1   35                   5.0                  8            0   \n",
       "1                1   30                   5.0                  4            0   \n",
       "2                1   34                   3.0                  7            0   \n",
       "3                2   39                   1.0                 10            0   \n",
       "4                1   45                   3.0                  2            0   \n",
       "\n",
       "   avg_training_score  is_promoted  \n",
       "0                  49            0  \n",
       "1                  60            0  \n",
       "2                  50            0  \n",
       "3                  50            0  \n",
       "4                  73            0  "
      ]
     },
     "execution_count": 21,
     "metadata": {},
     "output_type": "execute_result"
    }
   ],
   "source": [
    "# droping of the employee id \n",
    "prom_data.drop(columns=['employee_id'], inplace=True)\n",
    "prom_data.head()"
   ]
  },
  {
   "cell_type": "markdown",
   "id": "2e823574-4ae4-4754-889d-6bd7f2997fd4",
   "metadata": {},
   "source": [
    "## Converting object type to categorical type for easy convertion into Numberical Form  "
   ]
  },
  {
   "cell_type": "code",
   "execution_count": 22,
   "id": "a7d55107-a576-4404-9898-761b24ce478a",
   "metadata": {
    "tags": []
   },
   "outputs": [
    {
     "name": "stdout",
     "output_type": "stream",
     "text": [
      "<class 'pandas.core.frame.DataFrame'>\n",
      "RangeIndex: 54808 entries, 0 to 54807\n",
      "Data columns (total 12 columns):\n",
      " #   Column                Non-Null Count  Dtype  \n",
      "---  ------                --------------  -----  \n",
      " 0   department            54808 non-null  object \n",
      " 1   region                54808 non-null  object \n",
      " 2   education             54808 non-null  object \n",
      " 3   gender                54808 non-null  object \n",
      " 4   recruitment_channel   54808 non-null  object \n",
      " 5   no_of_trainings       54808 non-null  int64  \n",
      " 6   age                   54808 non-null  int64  \n",
      " 7   previous_year_rating  54808 non-null  float64\n",
      " 8   length_of_service     54808 non-null  int64  \n",
      " 9   awards_won?           54808 non-null  int64  \n",
      " 10  avg_training_score    54808 non-null  int64  \n",
      " 11  is_promoted           54808 non-null  int64  \n",
      "dtypes: float64(1), int64(6), object(5)\n",
      "memory usage: 5.0+ MB\n"
     ]
    }
   ],
   "source": [
    "# first five feature as object datatype .. let change to category type for easy encoding\n",
    "# into numerical form\n",
    "prom_data.info()"
   ]
  },
  {
   "cell_type": "code",
   "execution_count": 23,
   "id": "4a8e2841-dae1-4200-8626-934dd07fc283",
   "metadata": {
    "tags": []
   },
   "outputs": [
    {
     "data": {
      "text/html": [
       "<div>\n",
       "<style scoped>\n",
       "    .dataframe tbody tr th:only-of-type {\n",
       "        vertical-align: middle;\n",
       "    }\n",
       "\n",
       "    .dataframe tbody tr th {\n",
       "        vertical-align: top;\n",
       "    }\n",
       "\n",
       "    .dataframe thead th {\n",
       "        text-align: right;\n",
       "    }\n",
       "</style>\n",
       "<table border=\"1\" class=\"dataframe\">\n",
       "  <thead>\n",
       "    <tr style=\"text-align: right;\">\n",
       "      <th></th>\n",
       "      <th>department</th>\n",
       "      <th>region</th>\n",
       "      <th>education</th>\n",
       "      <th>gender</th>\n",
       "      <th>recruitment_channel</th>\n",
       "      <th>no_of_trainings</th>\n",
       "      <th>age</th>\n",
       "      <th>previous_year_rating</th>\n",
       "      <th>length_of_service</th>\n",
       "      <th>awards_won?</th>\n",
       "      <th>avg_training_score</th>\n",
       "      <th>is_promoted</th>\n",
       "    </tr>\n",
       "  </thead>\n",
       "  <tbody>\n",
       "    <tr>\n",
       "      <th>0</th>\n",
       "      <td>Sales &amp; Marketing</td>\n",
       "      <td>region_7</td>\n",
       "      <td>Master's &amp; above</td>\n",
       "      <td>f</td>\n",
       "      <td>sourcing</td>\n",
       "      <td>1</td>\n",
       "      <td>35</td>\n",
       "      <td>5.0</td>\n",
       "      <td>8</td>\n",
       "      <td>0</td>\n",
       "      <td>49</td>\n",
       "      <td>0</td>\n",
       "    </tr>\n",
       "    <tr>\n",
       "      <th>1</th>\n",
       "      <td>Operations</td>\n",
       "      <td>region_22</td>\n",
       "      <td>Bachelor's</td>\n",
       "      <td>m</td>\n",
       "      <td>other</td>\n",
       "      <td>1</td>\n",
       "      <td>30</td>\n",
       "      <td>5.0</td>\n",
       "      <td>4</td>\n",
       "      <td>0</td>\n",
       "      <td>60</td>\n",
       "      <td>0</td>\n",
       "    </tr>\n",
       "    <tr>\n",
       "      <th>2</th>\n",
       "      <td>Sales &amp; Marketing</td>\n",
       "      <td>region_19</td>\n",
       "      <td>Bachelor's</td>\n",
       "      <td>m</td>\n",
       "      <td>sourcing</td>\n",
       "      <td>1</td>\n",
       "      <td>34</td>\n",
       "      <td>3.0</td>\n",
       "      <td>7</td>\n",
       "      <td>0</td>\n",
       "      <td>50</td>\n",
       "      <td>0</td>\n",
       "    </tr>\n",
       "    <tr>\n",
       "      <th>3</th>\n",
       "      <td>Sales &amp; Marketing</td>\n",
       "      <td>region_23</td>\n",
       "      <td>Bachelor's</td>\n",
       "      <td>m</td>\n",
       "      <td>other</td>\n",
       "      <td>2</td>\n",
       "      <td>39</td>\n",
       "      <td>1.0</td>\n",
       "      <td>10</td>\n",
       "      <td>0</td>\n",
       "      <td>50</td>\n",
       "      <td>0</td>\n",
       "    </tr>\n",
       "    <tr>\n",
       "      <th>4</th>\n",
       "      <td>Technology</td>\n",
       "      <td>region_26</td>\n",
       "      <td>Bachelor's</td>\n",
       "      <td>m</td>\n",
       "      <td>other</td>\n",
       "      <td>1</td>\n",
       "      <td>45</td>\n",
       "      <td>3.0</td>\n",
       "      <td>2</td>\n",
       "      <td>0</td>\n",
       "      <td>73</td>\n",
       "      <td>0</td>\n",
       "    </tr>\n",
       "  </tbody>\n",
       "</table>\n",
       "</div>"
      ],
      "text/plain": [
       "          department     region         education gender recruitment_channel  \\\n",
       "0  Sales & Marketing   region_7  Master's & above      f            sourcing   \n",
       "1         Operations  region_22        Bachelor's      m               other   \n",
       "2  Sales & Marketing  region_19        Bachelor's      m            sourcing   \n",
       "3  Sales & Marketing  region_23        Bachelor's      m               other   \n",
       "4         Technology  region_26        Bachelor's      m               other   \n",
       "\n",
       "   no_of_trainings  age  previous_year_rating  length_of_service  awards_won?  \\\n",
       "0                1   35                   5.0                  8            0   \n",
       "1                1   30                   5.0                  4            0   \n",
       "2                1   34                   3.0                  7            0   \n",
       "3                2   39                   1.0                 10            0   \n",
       "4                1   45                   3.0                  2            0   \n",
       "\n",
       "   avg_training_score  is_promoted  \n",
       "0                  49            0  \n",
       "1                  60            0  \n",
       "2                  50            0  \n",
       "3                  50            0  \n",
       "4                  73            0  "
      ]
     },
     "execution_count": 23,
     "metadata": {},
     "output_type": "execute_result"
    }
   ],
   "source": [
    "# looping throught the first five fueature (those features has text representation.....\n",
    "# and we need to convert  them to numberic)\n",
    "prom_data[prom_data.columns[:5]] = prom_data[prom_data.columns[:5]].astype('category')\n",
    "prom_data.head()"
   ]
  },
  {
   "cell_type": "code",
   "execution_count": 24,
   "id": "48fa975d-7d1e-4466-a8a7-7ff8587b1989",
   "metadata": {
    "tags": []
   },
   "outputs": [
    {
     "name": "stdout",
     "output_type": "stream",
     "text": [
      "<class 'pandas.core.frame.DataFrame'>\n",
      "RangeIndex: 54808 entries, 0 to 54807\n",
      "Data columns (total 12 columns):\n",
      " #   Column                Non-Null Count  Dtype   \n",
      "---  ------                --------------  -----   \n",
      " 0   department            54808 non-null  category\n",
      " 1   region                54808 non-null  category\n",
      " 2   education             54808 non-null  category\n",
      " 3   gender                54808 non-null  category\n",
      " 4   recruitment_channel   54808 non-null  category\n",
      " 5   no_of_trainings       54808 non-null  int64   \n",
      " 6   age                   54808 non-null  int64   \n",
      " 7   previous_year_rating  54808 non-null  float64 \n",
      " 8   length_of_service     54808 non-null  int64   \n",
      " 9   awards_won?           54808 non-null  int64   \n",
      " 10  avg_training_score    54808 non-null  int64   \n",
      " 11  is_promoted           54808 non-null  int64   \n",
      "dtypes: category(5), float64(1), int64(6)\n",
      "memory usage: 3.2 MB\n"
     ]
    }
   ],
   "source": [
    "# first five feature data type converted to category\n",
    "prom_data.info()"
   ]
  },
  {
   "cell_type": "code",
   "execution_count": 25,
   "id": "6ca65418-fdb3-4d3e-9d5a-1a11838d15fe",
   "metadata": {
    "tags": []
   },
   "outputs": [],
   "source": [
    "# looping throught the features and converting them into numbers\n",
    "for feature in prom_data.columns[:5]:\n",
    "    prom_data[feature] = prom_data[feature].cat.codes"
   ]
  },
  {
   "cell_type": "code",
   "execution_count": 26,
   "id": "01a0874b-bc2f-4e85-b682-6a7cf91ff4a4",
   "metadata": {
    "tags": []
   },
   "outputs": [
    {
     "data": {
      "text/html": [
       "<div>\n",
       "<style scoped>\n",
       "    .dataframe tbody tr th:only-of-type {\n",
       "        vertical-align: middle;\n",
       "    }\n",
       "\n",
       "    .dataframe tbody tr th {\n",
       "        vertical-align: top;\n",
       "    }\n",
       "\n",
       "    .dataframe thead th {\n",
       "        text-align: right;\n",
       "    }\n",
       "</style>\n",
       "<table border=\"1\" class=\"dataframe\">\n",
       "  <thead>\n",
       "    <tr style=\"text-align: right;\">\n",
       "      <th></th>\n",
       "      <th>department</th>\n",
       "      <th>region</th>\n",
       "      <th>education</th>\n",
       "      <th>gender</th>\n",
       "      <th>recruitment_channel</th>\n",
       "      <th>no_of_trainings</th>\n",
       "      <th>age</th>\n",
       "      <th>previous_year_rating</th>\n",
       "      <th>length_of_service</th>\n",
       "      <th>awards_won?</th>\n",
       "      <th>avg_training_score</th>\n",
       "      <th>is_promoted</th>\n",
       "    </tr>\n",
       "  </thead>\n",
       "  <tbody>\n",
       "    <tr>\n",
       "      <th>0</th>\n",
       "      <td>7</td>\n",
       "      <td>31</td>\n",
       "      <td>2</td>\n",
       "      <td>0</td>\n",
       "      <td>2</td>\n",
       "      <td>1</td>\n",
       "      <td>35</td>\n",
       "      <td>5.0</td>\n",
       "      <td>8</td>\n",
       "      <td>0</td>\n",
       "      <td>49</td>\n",
       "      <td>0</td>\n",
       "    </tr>\n",
       "    <tr>\n",
       "      <th>1</th>\n",
       "      <td>4</td>\n",
       "      <td>14</td>\n",
       "      <td>0</td>\n",
       "      <td>1</td>\n",
       "      <td>0</td>\n",
       "      <td>1</td>\n",
       "      <td>30</td>\n",
       "      <td>5.0</td>\n",
       "      <td>4</td>\n",
       "      <td>0</td>\n",
       "      <td>60</td>\n",
       "      <td>0</td>\n",
       "    </tr>\n",
       "  </tbody>\n",
       "</table>\n",
       "</div>"
      ],
      "text/plain": [
       "   department  region  education  gender  recruitment_channel  \\\n",
       "0           7      31          2       0                    2   \n",
       "1           4      14          0       1                    0   \n",
       "\n",
       "   no_of_trainings  age  previous_year_rating  length_of_service  awards_won?  \\\n",
       "0                1   35                   5.0                  8            0   \n",
       "1                1   30                   5.0                  4            0   \n",
       "\n",
       "   avg_training_score  is_promoted  \n",
       "0                  49            0  \n",
       "1                  60            0  "
      ]
     },
     "execution_count": 26,
     "metadata": {},
     "output_type": "execute_result"
    }
   ],
   "source": [
    "# printing two datapoint for confirmation\n",
    "prom_data.head(2)"
   ]
  },
  {
   "cell_type": "code",
   "execution_count": 27,
   "id": "f28d4028-be5e-4417-9862-c93698e57215",
   "metadata": {
    "tags": []
   },
   "outputs": [
    {
     "name": "stdout",
     "output_type": "stream",
     "text": [
      "<class 'pandas.core.frame.DataFrame'>\n",
      "RangeIndex: 54808 entries, 0 to 54807\n",
      "Data columns (total 12 columns):\n",
      " #   Column                Non-Null Count  Dtype  \n",
      "---  ------                --------------  -----  \n",
      " 0   department            54808 non-null  int8   \n",
      " 1   region                54808 non-null  int8   \n",
      " 2   education             54808 non-null  int8   \n",
      " 3   gender                54808 non-null  int8   \n",
      " 4   recruitment_channel   54808 non-null  int8   \n",
      " 5   no_of_trainings       54808 non-null  int64  \n",
      " 6   age                   54808 non-null  int64  \n",
      " 7   previous_year_rating  54808 non-null  float64\n",
      " 8   length_of_service     54808 non-null  int64  \n",
      " 9   awards_won?           54808 non-null  int64  \n",
      " 10  avg_training_score    54808 non-null  int64  \n",
      " 11  is_promoted           54808 non-null  int64  \n",
      "dtypes: float64(1), int64(6), int8(5)\n",
      "memory usage: 3.2 MB\n"
     ]
    }
   ],
   "source": [
    "# no missing value and All text data are now numeric.. \n",
    "prom_data.info()"
   ]
  },
  {
   "cell_type": "markdown",
   "id": "7e3b1279-de13-459f-859e-fad72fd6de42",
   "metadata": {
    "tags": []
   },
   "source": [
    "## DATA SPLITTING"
   ]
  },
  {
   "cell_type": "code",
   "execution_count": 28,
   "id": "0256f637-e583-4729-abc4-3445eeacdfe4",
   "metadata": {
    "tags": []
   },
   "outputs": [],
   "source": [
    "## feature splitting .... extracting the independent feature (X) and dependent feature (Y)\n",
    "y = prom_data['is_promoted']\n",
    "X = prom_data.drop(columns=['is_promoted']) # temporarily drop the promotion columns then assign the remaining columns ..."
   ]
  },
  {
   "cell_type": "markdown",
   "id": "90ef2c01",
   "metadata": {},
   "source": [
    "## DATA BALACING "
   ]
  },
  {
   "cell_type": "code",
   "execution_count": 29,
   "id": "227a8585",
   "metadata": {},
   "outputs": [
    {
     "data": {
      "text/plain": [
       "1    48716\n",
       "0    34831\n",
       "Name: is_promoted, dtype: int64"
      ]
     },
     "execution_count": 29,
     "metadata": {},
     "output_type": "execute_result"
    }
   ],
   "source": [
    "# GENERATING SYNTHETIC SMAPLES\n",
    "sm_en = SMOTEENN()\n",
    "X_resample , y_resample =sm_en.fit_resample(X, y)\n",
    "y_resample.value_counts()"
   ]
  },
  {
   "cell_type": "code",
   "execution_count": 30,
   "id": "b8523e34-88a5-4375-b08a-edc6e543c084",
   "metadata": {
    "scrolled": true,
    "tags": []
   },
   "outputs": [
    {
     "name": "stdout",
     "output_type": "stream",
     "text": [
      "Train size : 66837\n",
      "Test  size : 16710\n"
     ]
    }
   ],
   "source": [
    "# splitting data into training (80%) and testing set (20%) \n",
    "X_train, X_test, y_train, y_test = model_selection.train_test_split(X_resample, y_resample, test_size=0.2, random_state=10)\n",
    "\n",
    "print(f'Train size : {len(X_train)}')\n",
    "print(f'Test  size : {len(X_test)}')"
   ]
  },
  {
   "cell_type": "markdown",
   "id": "341033b8-7ad3-4b85-91bb-a9343c3577ea",
   "metadata": {},
   "source": [
    "## MODEL TRAINING"
   ]
  },
  {
   "cell_type": "markdown",
   "id": "d103ab9d",
   "metadata": {},
   "source": [
    "### Naive Baye's Machine learning Algorithm with Gender Column"
   ]
  },
  {
   "cell_type": "code",
   "execution_count": 31,
   "id": "9d5ed326-c5a5-4356-87fa-d82cb633b4c5",
   "metadata": {
    "tags": []
   },
   "outputs": [
    {
     "data": {
      "text/plain": [
       "0.7056253740275285"
      ]
     },
     "execution_count": 31,
     "metadata": {},
     "output_type": "execute_result"
    }
   ],
   "source": [
    "from sklearn import naive_bayes\n",
    "\n",
    "# trianing the machine learning model using naive bayes algorithm.... \n",
    "nb_model = naive_bayes.GaussianNB()\n",
    "nb_model.fit(X_train, y_train)\n",
    "\n",
    "# evaluating the model using the testing samples\n",
    "nb_model.score(X_test, y_test)"
   ]
  },
  {
   "cell_type": "code",
   "execution_count": 32,
   "id": "0b5226dd-beab-475c-8d72-1470176c36cc",
   "metadata": {
    "tags": []
   },
   "outputs": [
    {
     "name": "stdout",
     "output_type": "stream",
     "text": [
      "Accuracy of Naive Bayes  _______ 0.7056253740275285\n",
      "Precission of Naive Bayes ______ 0.7179440937781786\n",
      "Recall of Naive Bayes     ______ 0.8163641956321132\n"
     ]
    }
   ],
   "source": [
    "# detail evaluation of the model\n",
    "np_prediction = nb_model.predict(X_test)\n",
    "acc = metrics.accuracy_score(y_test , np_prediction)\n",
    "pre = metrics.precision_score(y_test , np_prediction)\n",
    "rec = metrics.recall_score(y_test , np_prediction)\n",
    "print('Accuracy of Naive Bayes  _______ {}'.format(metrics.accuracy_score(y_test , np_prediction)))\n",
    "print('Precission of Naive Bayes ______ {}'.format(metrics.precision_score(y_test , np_prediction)))\n",
    "print('Recall of Naive Bayes     ______ {}'.format(metrics.recall_score(y_test , np_prediction)))"
   ]
  },
  {
   "cell_type": "code",
   "execution_count": 33,
   "id": "4ad18ec7-31cc-4003-ae15-7c1707133437",
   "metadata": {
    "tags": []
   },
   "outputs": [
    {
     "name": "stdout",
     "output_type": "stream",
     "text": [
      "              precision    recall  f1-score   support\n",
      "\n",
      "           0       0.68      0.55      0.61      6957\n",
      "           1       0.72      0.82      0.76      9753\n",
      "\n",
      "    accuracy                           0.71     16710\n",
      "   macro avg       0.70      0.68      0.69     16710\n",
      "weighted avg       0.70      0.71      0.70     16710\n",
      "\n"
     ]
    }
   ],
   "source": [
    "# visualizing the classificatin report\n",
    "cr_report = metrics.classification_report(y_test, np_prediction)\n",
    "print(cr_report)"
   ]
  },
  {
   "cell_type": "code",
   "execution_count": 34,
   "id": "53618f54-d242-41a1-8c48-ceba78fbb4ff",
   "metadata": {
    "tags": []
   },
   "outputs": [
    {
     "name": "stdout",
     "output_type": "stream",
     "text": [
      "TN = 3829 ---,  FP = 3128 ---,  FN = 1791 ----, TP = 7962\n"
     ]
    },
    {
     "data": {
      "text/plain": [
       "<Axes: >"
      ]
     },
     "execution_count": 34,
     "metadata": {},
     "output_type": "execute_result"
    },
    {
     "data": {
      "image/png": "[encoded data removed]",
      "text/plain": [
       "<Figure size 640x480 with 2 Axes>"
      ]
     },
     "metadata": {},
     "output_type": "display_data"
    }
   ],
   "source": [
    "# COMPUTING ACCURACY PRECISION AND RECALL FROM CONFUSION MATRIX\n",
    "cm_report = metrics.confusion_matrix(y_test, np_prediction)\n",
    "TN, FP, FN, TP = cm_report.ravel()\n",
    "print('TN = {} ---,  FP = {} ---,  FN = {} ----, TP = {}'.format(TN, FP, FN, TP))\n",
    "sn.heatmap(cm_report, annot=True,fmt='d' , xticklabels=['No', 'Yes']  , yticklabels = ['No', 'Yes'])"
   ]
  },
  {
   "cell_type": "markdown",
   "id": "1afeea1f-307a-432e-89db-92d9ecf129d2",
   "metadata": {},
   "source": [
    "### Naive Baye's Machine learning Algorithm without Gender Column"
   ]
  },
  {
   "cell_type": "code",
   "execution_count": 35,
   "id": "723cdce4-244b-40e4-aacd-812b0a6448a5",
   "metadata": {
    "tags": []
   },
   "outputs": [
    {
     "data": {
      "text/html": [
       "<div>\n",
       "<style scoped>\n",
       "    .dataframe tbody tr th:only-of-type {\n",
       "        vertical-align: middle;\n",
       "    }\n",
       "\n",
       "    .dataframe tbody tr th {\n",
       "        vertical-align: top;\n",
       "    }\n",
       "\n",
       "    .dataframe thead th {\n",
       "        text-align: right;\n",
       "    }\n",
       "</style>\n",
       "<table border=\"1\" class=\"dataframe\">\n",
       "  <thead>\n",
       "    <tr style=\"text-align: right;\">\n",
       "      <th></th>\n",
       "      <th>department</th>\n",
       "      <th>region</th>\n",
       "      <th>education</th>\n",
       "      <th>gender</th>\n",
       "      <th>recruitment_channel</th>\n",
       "      <th>no_of_trainings</th>\n",
       "      <th>age</th>\n",
       "      <th>previous_year_rating</th>\n",
       "      <th>length_of_service</th>\n",
       "      <th>awards_won?</th>\n",
       "      <th>avg_training_score</th>\n",
       "    </tr>\n",
       "  </thead>\n",
       "  <tbody>\n",
       "    <tr>\n",
       "      <th>4238</th>\n",
       "      <td>7</td>\n",
       "      <td>28</td>\n",
       "      <td>0</td>\n",
       "      <td>1</td>\n",
       "      <td>0</td>\n",
       "      <td>1</td>\n",
       "      <td>40</td>\n",
       "      <td>1.0</td>\n",
       "      <td>10</td>\n",
       "      <td>0</td>\n",
       "      <td>49</td>\n",
       "    </tr>\n",
       "    <tr>\n",
       "      <th>26426</th>\n",
       "      <td>4</td>\n",
       "      <td>2</td>\n",
       "      <td>0</td>\n",
       "      <td>1</td>\n",
       "      <td>0</td>\n",
       "      <td>1</td>\n",
       "      <td>35</td>\n",
       "      <td>4.0</td>\n",
       "      <td>7</td>\n",
       "      <td>0</td>\n",
       "      <td>62</td>\n",
       "    </tr>\n",
       "  </tbody>\n",
       "</table>\n",
       "</div>"
      ],
      "text/plain": [
       "       department  region  education  gender  recruitment_channel  \\\n",
       "4238            7      28          0       1                    0   \n",
       "26426           4       2          0       1                    0   \n",
       "\n",
       "       no_of_trainings  age  previous_year_rating  length_of_service  \\\n",
       "4238                 1   40                   1.0                 10   \n",
       "26426                1   35                   4.0                  7   \n",
       "\n",
       "       awards_won?  avg_training_score  \n",
       "4238             0                  49  \n",
       "26426            0                  62  "
      ]
     },
     "execution_count": 35,
     "metadata": {},
     "output_type": "execute_result"
    }
   ],
   "source": [
    "# showing two sample from the x train data .... \n",
    "X_train.sample(2)"
   ]
  },
  {
   "cell_type": "code",
   "execution_count": 36,
   "id": "6f636e98-9e39-4c9a-b325-69b520b7c8d3",
   "metadata": {
    "tags": []
   },
   "outputs": [],
   "source": [
    "# dropping gender column from the X_train and the X_test sample ...\n",
    "X_train_gender = X_train.drop(columns=['gender'])\n",
    "X_test_gender = X_test.drop(columns=['gender'])"
   ]
  },
  {
   "cell_type": "code",
   "execution_count": 37,
   "id": "d2a39dff-61fb-4c52-b8f7-474f8fbbd9de",
   "metadata": {
    "tags": []
   },
   "outputs": [
    {
     "data": {
      "text/plain": [
       "0.6980849790544584"
      ]
     },
     "execution_count": 37,
     "metadata": {},
     "output_type": "execute_result"
    }
   ],
   "source": [
    "from sklearn import naive_bayes\n",
    "\n",
    "# trianing the machine learning model using naive bayes algorithm.... \n",
    "nb_model_gb = naive_bayes.GaussianNB()\n",
    "nb_model_gb.fit(X_train_gender, y_train)\n",
    "\n",
    "# evaluating the model using the testing samples\n",
    "nb_model_gb.score(X_test_gender, y_test)"
   ]
  },
  {
   "cell_type": "code",
   "execution_count": 38,
   "id": "5c7f05be-98fa-49db-aaf4-7d1fcb360442",
   "metadata": {
    "scrolled": false,
    "tags": []
   },
   "outputs": [
    {
     "name": "stdout",
     "output_type": "stream",
     "text": [
      "Accuracy of Naive Bayes  _______ 0.6980849790544584\n",
      "Precission of Naive Bayes ______ 0.7071453713481168\n",
      "Recall of Naive Bayes     ______ 0.8239516046344715\n"
     ]
    }
   ],
   "source": [
    "# detail evaluation of the model\n",
    "np_no_gender_prediction = nb_model_gb.predict(X_test_gender)\n",
    "acc_without_gender = metrics.accuracy_score(y_test , np_no_gender_prediction)\n",
    "pre_without_gender = metrics.precision_score(y_test , np_no_gender_prediction)\n",
    "rec_without_gender = metrics.recall_score(y_test , np_no_gender_prediction)\n",
    "print('Accuracy of Naive Bayes  _______ {}'.format(metrics.accuracy_score(y_test , np_no_gender_prediction)))\n",
    "print('Precission of Naive Bayes ______ {}'.format(metrics.precision_score(y_test , np_no_gender_prediction)))\n",
    "print('Recall of Naive Bayes     ______ {}'.format(metrics.recall_score(y_test , np_no_gender_prediction)))"
   ]
  },
  {
   "cell_type": "code",
   "execution_count": 39,
   "id": "c5ceb19a",
   "metadata": {},
   "outputs": [
    {
     "name": "stdout",
     "output_type": "stream",
     "text": [
      "              precision    recall  f1-score   support\n",
      "\n",
      "           0       0.68      0.52      0.59      6957\n",
      "           1       0.71      0.82      0.76      9753\n",
      "\n",
      "    accuracy                           0.70     16710\n",
      "   macro avg       0.69      0.67      0.68     16710\n",
      "weighted avg       0.70      0.70      0.69     16710\n",
      "\n",
      "TN = 3829 ---,  FP = 3128 ---,  FN = 1791 ----, TP = 7962\n"
     ]
    },
    {
     "data": {
      "text/plain": [
       "<Axes: >"
      ]
     },
     "execution_count": 39,
     "metadata": {},
     "output_type": "execute_result"
    },
    {
     "data": {
      "image/png": "[encoded data removed]",
      "text/plain": [
       "<Figure size 640x480 with 2 Axes>"
      ]
     },
     "metadata": {},
     "output_type": "display_data"
    }
   ],
   "source": [
    "# visualizing the classificatin report\n",
    "cr_no_gender_report = metrics.classification_report(y_test, np_no_gender_prediction)\n",
    "print(cr_no_gender_report)\n",
    "\n",
    "# COMPUTING ACCURACY PRECISION AND RECALL FROM CONFUSION MATRIX\n",
    "cm_not_gender_report = metrics.confusion_matrix(y_test, np_no_gender_prediction)\n",
    "TN, FP, FN, TP = cm_report.ravel()\n",
    "print('TN = {} ---,  FP = {} ---,  FN = {} ----, TP = {}'.format(TN, FP, FN, TP))\n",
    "sn.heatmap(cm_not_gender_report, annot=True,fmt='d' , xticklabels=['No', 'Yes']  , yticklabels = ['No', 'Yes'])"
   ]
  },
  {
   "cell_type": "markdown",
   "id": "4f708998",
   "metadata": {},
   "source": [
    "## GENDER PROTECTED CHARACTERISTIC"
   ]
  },
  {
   "cell_type": "code",
   "execution_count": 40,
   "id": "98e10564-3703-42d0-925c-69e2eb3b9532",
   "metadata": {
    "tags": []
   },
   "outputs": [
    {
     "name": "stdout",
     "output_type": "stream",
     "text": [
      "Male indies :   [    0     4     5 ... 16701 16707 16709] Size 10063 \n",
      "Female indies : [    1     2     3 ... 16705 16706 16708] Size 6647\n"
     ]
    }
   ],
   "source": [
    "# Extracting Gender as the protected attribut\n",
    "PROTECTED = 'gender' \n",
    "MALE   = 1  \n",
    "FEMALE = 0 \n",
    "\n",
    "# accessing the index of  MALE the X_test dataframe \n",
    "male_index = np.where(X_test[PROTECTED] == MALE)[0]\n",
    "# accessing the index of  MALE the X_test dataframe \n",
    "female_index = np.where(X_test[PROTECTED] == FEMALE)[0]\n",
    "\n",
    "# PRINT THE INDEX OR LOCATION OF MALE AND FEMALE IN THE DATA FRAME\n",
    "print('Male indies :   {} Size {} '.format(male_index, len(male_index)))\n",
    "print('Female indies : {} Size {}'.format(female_index, len(female_index)))"
   ]
  },
  {
   "cell_type": "code",
   "execution_count": null,
   "id": "444c7ab8",
   "metadata": {},
   "outputs": [],
   "source": []
  },
  {
   "cell_type": "code",
   "execution_count": 41,
   "id": "29a11286-50ea-4010-84d2-9d6a938c87a2",
   "metadata": {
    "tags": []
   },
   "outputs": [],
   "source": [
    "# using the male index to collect value map to male in y_test \n",
    "y_test_male = [y_test.values[index] for index in male_index]\n",
    "\n",
    "# using the female index to collect value map to female in y_test \n",
    "y_test_female = [y_test.values[index] for index in female_index]"
   ]
  },
  {
   "cell_type": "code",
   "execution_count": 42,
   "id": "e81ea338-6b00-4f73-be70-9065bb3d9e81",
   "metadata": {
    "tags": []
   },
   "outputs": [],
   "source": [
    "# accessing the the male and female index prediction make by the\n",
    "# machine leanring algorithm.. \n",
    "y_male_prediction = [np_prediction[index] for index in male_index]\n",
    "y_female_prediction = [np_prediction[index] for index in female_index]"
   ]
  },
  {
   "cell_type": "markdown",
   "id": "5a2ad821-6068-4aec-9beb-ffa483829f6f",
   "metadata": {},
   "source": [
    "## MALE"
   ]
  },
  {
   "cell_type": "code",
   "execution_count": 43,
   "id": "118f6eef-42cc-41dd-a775-f96d1d73e14d",
   "metadata": {
    "tags": []
   },
   "outputs": [
    {
     "name": "stdout",
     "output_type": "stream",
     "text": [
      "      CLASSIFICATION REPORT & CONFUSION MATRIX FOR MALE\n",
      "-------------------------------------------------------------\n",
      "              precision    recall  f1-score   support\n",
      "\n",
      "           0       0.70      0.62      0.65      4947\n",
      "           1       0.67      0.74      0.70      5116\n",
      "\n",
      "    accuracy                           0.68     10063\n",
      "   macro avg       0.68      0.68      0.68     10063\n",
      "weighted avg       0.68      0.68      0.68     10063\n",
      "\n",
      "TN = 3059 ---,  FP = 1888 ---,  FN = 1336 ----, TP = 3780\n"
     ]
    },
    {
     "data": {
      "image/png": "[encoded data removed]",
      "text/plain": [
       "<Figure size 640x480 with 2 Axes>"
      ]
     },
     "metadata": {},
     "output_type": "display_data"
    }
   ],
   "source": [
    "print('      CLASSIFICATION REPORT & CONFUSION MATRIX FOR MALE')\n",
    "print('-------------------------------------------------------------')\n",
    "cr_male = metrics.classification_report(y_test_male, y_male_prediction)\n",
    "print(cr_male)\n",
    "\n",
    "# COMPUTING ACCURACY PRECISION AND RECALL FROM CONFUSION MATRIX\n",
    "cm_male_report = metrics.confusion_matrix(y_test_male, y_male_prediction)\n",
    "TN, FP, FN, TP = cm_male_report.ravel()\n",
    "print('TN = {} ---,  FP = {} ---,  FN = {} ----, TP = {}'.format(TN, FP, FN, TP))\n",
    "sn.heatmap(cm_male_report, annot=True , fmt='d',  xticklabels=['No', 'Yes']  , yticklabels = ['No', 'Yes'])\n",
    "plt.show()"
   ]
  },
  {
   "cell_type": "code",
   "execution_count": 44,
   "id": "fcf36ec3-bac3-410c-b212-541aa52a28e5",
   "metadata": {
    "tags": []
   },
   "outputs": [
    {
     "name": "stdout",
     "output_type": "stream",
     "text": [
      "Accuracy of Naive Bayes  _______ 0.679618404054457\n",
      "Precission of Naive Bayes ______ 0.6669019054340155\n",
      "Recall of Naive Bayes     ______ 0.7388584831899921\n"
     ]
    }
   ],
   "source": [
    "# detail evaluation of the model base on GENDER == Male\n",
    "# accuracy, precission and recall metrics\n",
    "acc_male = metrics.accuracy_score(y_test_male , y_male_prediction)\n",
    "pre_male = metrics.precision_score(y_test_male , y_male_prediction)\n",
    "rec_male = metrics.recall_score(y_test_male , y_male_prediction)\n",
    "print('Accuracy of Naive Bayes  _______ {}'.format(metrics.accuracy_score(y_test_male, y_male_prediction)))\n",
    "print('Precission of Naive Bayes ______ {}'.format(metrics.precision_score(y_test_male, y_male_prediction)))\n",
    "print('Recall of Naive Bayes     ______ {}'.format(metrics.recall_score(y_test_male, y_male_prediction)))"
   ]
  },
  {
   "cell_type": "code",
   "execution_count": null,
   "id": "6fd505b1-906a-440f-9811-ac6290c63fed",
   "metadata": {
    "tags": []
   },
   "outputs": [],
   "source": []
  },
  {
   "cell_type": "markdown",
   "id": "8392e683-f4d0-4479-ae02-ce73e9f69981",
   "metadata": {},
   "source": [
    "## FEMALE"
   ]
  },
  {
   "cell_type": "code",
   "execution_count": 45,
   "id": "eecf8358-2cbb-4d72-b408-80092f2e9e03",
   "metadata": {
    "tags": []
   },
   "outputs": [
    {
     "name": "stdout",
     "output_type": "stream",
     "text": [
      "      CLASSIFICATION REPORT & CONFUSION MATRIX FOR FEMALE\n",
      "-------------------------------------------------------------\n",
      "              precision    recall  f1-score   support\n",
      "\n",
      "           0       0.63      0.38      0.48      2010\n",
      "           1       0.77      0.90      0.83      4637\n",
      "\n",
      "    accuracy                           0.74      6647\n",
      "   macro avg       0.70      0.64      0.65      6647\n",
      "weighted avg       0.73      0.74      0.72      6647\n",
      "\n",
      "TN = 3059 ---,  FP = 1888 ---,  FN = 1336 ----, TP = 3780\n"
     ]
    },
    {
     "data": {
      "image/png": "[encoded data removed]",
      "text/plain": [
       "<Figure size 640x480 with 2 Axes>"
      ]
     },
     "metadata": {},
     "output_type": "display_data"
    }
   ],
   "source": [
    "print('      CLASSIFICATION REPORT & CONFUSION MATRIX FOR FEMALE')\n",
    "print('-------------------------------------------------------------')\n",
    "# classification report\n",
    "cr_female = metrics.classification_report(y_test_female, y_female_prediction)\n",
    "print(cr_female)\n",
    "\n",
    "# COMPUTING ACCURACY PRECISION AND RECALL FROM CONFUSION MATRIX\n",
    "cm_female_report = metrics.confusion_matrix(y_test_female, y_female_prediction)\n",
    "TN, FP, FN, TP = cm_male_report.ravel()\n",
    "print('TN = {} ---,  FP = {} ---,  FN = {} ----, TP = {}'.format(TN, FP, FN, TP))\n",
    "sn.heatmap(cm_female_report, annot=True , fmt='d',  xticklabels=['No', 'Yes']  , yticklabels = ['No', 'Yes'])\n",
    "plt.show()"
   ]
  },
  {
   "cell_type": "code",
   "execution_count": 46,
   "id": "275a1ac3-5840-4cb2-966f-184e48a14efd",
   "metadata": {
    "scrolled": true,
    "tags": []
   },
   "outputs": [
    {
     "name": "stdout",
     "output_type": "stream",
     "text": [
      "Accuracy of Naive Bayes  _______ 0.7449977433428614\n",
      "Precission of Naive Bayes ______ 0.7713021025451863\n",
      "Recall of Naive Bayes     ______ 0.9018762130687945\n"
     ]
    }
   ],
   "source": [
    "# detail evaluation of the model base on GENDER == female\n",
    "# accuracy, precission and recall metrics\n",
    "acc_female = metrics.accuracy_score(y_test_female , y_female_prediction)\n",
    "pre_female = metrics.precision_score(y_test_female , y_female_prediction)\n",
    "rec_female = metrics.recall_score(y_test_female , y_female_prediction)\n",
    "print('Accuracy of Naive Bayes  _______ {}'.format(metrics.accuracy_score(y_test_female, y_female_prediction)))\n",
    "print('Precission of Naive Bayes ______ {}'.format(metrics.precision_score(y_test_female, y_female_prediction)))\n",
    "print('Recall of Naive Bayes     ______ {}'.format(metrics.recall_score(y_test_female, y_female_prediction)))"
   ]
  },
  {
   "cell_type": "markdown",
   "id": "b6d12db3",
   "metadata": {},
   "source": [
    "## Summary Result"
   ]
  },
  {
   "cell_type": "code",
   "execution_count": 47,
   "id": "f3f2e130",
   "metadata": {},
   "outputs": [
    {
     "data": {
      "text/html": [
       "<div>\n",
       "<style scoped>\n",
       "    .dataframe tbody tr th:only-of-type {\n",
       "        vertical-align: middle;\n",
       "    }\n",
       "\n",
       "    .dataframe tbody tr th {\n",
       "        vertical-align: top;\n",
       "    }\n",
       "\n",
       "    .dataframe thead th {\n",
       "        text-align: right;\n",
       "    }\n",
       "</style>\n",
       "<table border=\"1\" class=\"dataframe\">\n",
       "  <thead>\n",
       "    <tr style=\"text-align: right;\">\n",
       "      <th></th>\n",
       "      <th>accuracy</th>\n",
       "      <th>precision</th>\n",
       "      <th>recall</th>\n",
       "    </tr>\n",
       "  </thead>\n",
       "  <tbody>\n",
       "    <tr>\n",
       "      <th>Model_with_gender</th>\n",
       "      <td>0.705625</td>\n",
       "      <td>0.717944</td>\n",
       "      <td>0.816364</td>\n",
       "    </tr>\n",
       "    <tr>\n",
       "      <th>Model_without_gender</th>\n",
       "      <td>0.698085</td>\n",
       "      <td>0.707145</td>\n",
       "      <td>0.823952</td>\n",
       "    </tr>\n",
       "    <tr>\n",
       "      <th>male</th>\n",
       "      <td>0.679618</td>\n",
       "      <td>0.666902</td>\n",
       "      <td>0.738858</td>\n",
       "    </tr>\n",
       "    <tr>\n",
       "      <th>female</th>\n",
       "      <td>0.744998</td>\n",
       "      <td>0.771302</td>\n",
       "      <td>0.901876</td>\n",
       "    </tr>\n",
       "  </tbody>\n",
       "</table>\n",
       "</div>"
      ],
      "text/plain": [
       "                      accuracy  precision    recall\n",
       "Model_with_gender     0.705625   0.717944  0.816364\n",
       "Model_without_gender  0.698085   0.707145  0.823952\n",
       "male                  0.679618   0.666902  0.738858\n",
       "female                0.744998   0.771302  0.901876"
      ]
     },
     "execution_count": 47,
     "metadata": {},
     "output_type": "execute_result"
    }
   ],
   "source": [
    "# RESULT SUMMARY\n",
    "result_diction = {\n",
    "    'accuracy': [acc, acc_without_gender, acc_male, acc_female], \n",
    "    'precision': [pre, pre_without_gender, pre_male, pre_female], \n",
    "    'recall': [rec, rec_without_gender, rec_male, rec_female]\n",
    "}\n",
    "\n",
    "result_summary = pd.DataFrame(result_diction, index=['Model_with_gender','Model_without_gender', 'male', 'female'])\n",
    "result_summary"
   ]
  },
  {
   "cell_type": "markdown",
   "id": "15b936ce",
   "metadata": {},
   "source": [
    "## SAVE MODEL FOR USING JOBLIB"
   ]
  },
  {
   "cell_type": "code",
   "execution_count": 48,
   "id": "62d75e78",
   "metadata": {},
   "outputs": [
    {
     "data": {
      "text/plain": [
       "['navie_bayes_model.jb']"
      ]
     },
     "execution_count": 48,
     "metadata": {},
     "output_type": "execute_result"
    }
   ],
   "source": [
    "import joblib\n",
    "\n",
    "# saving model into local disk\n",
    "joblib.dump(nb_model_gb, 'navie_bayes_model.jb')"
   ]
  },
  {
   "cell_type": "markdown",
   "id": "cb183528",
   "metadata": {},
   "source": [
    "Loadding Model "
   ]
  },
  {
   "cell_type": "code",
   "execution_count": 49,
   "id": "34b370d8",
   "metadata": {
    "scrolled": true
   },
   "outputs": [
    {
     "data": {
      "text/html": [
       "<style>#sk-container-id-1 {color: black;background-color: white;}#sk-container-id-1 pre{padding: 0;}#sk-container-id-1 div.sk-toggleable {background-color: white;}#sk-container-id-1 label.sk-toggleable__label {cursor: pointer;display: block;width: 100%;margin-bottom: 0;padding: 0.3em;box-sizing: border-box;text-align: center;}#sk-container-id-1 label.sk-toggleable__label-arrow:before {content: \"▸\";float: left;margin-right: 0.25em;color: #696969;}#sk-container-id-1 label.sk-toggleable__label-arrow:hover:before {color: black;}#sk-container-id-1 div.sk-estimator:hover label.sk-toggleable__label-arrow:before {color: black;}#sk-container-id-1 div.sk-toggleable__content {max-height: 0;max-width: 0;overflow: hidden;text-align: left;background-color: #f0f8ff;}#sk-container-id-1 div.sk-toggleable__content pre {margin: 0.2em;color: black;border-radius: 0.25em;background-color: #f0f8ff;}#sk-container-id-1 input.sk-toggleable__control:checked~div.sk-toggleable__content {max-height: 200px;max-width: 100%;overflow: auto;}#sk-container-id-1 input.sk-toggleable__control:checked~label.sk-toggleable__label-arrow:before {content: \"▾\";}#sk-container-id-1 div.sk-estimator input.sk-toggleable__control:checked~label.sk-toggleable__label {background-color: #d4ebff;}#sk-container-id-1 div.sk-label input.sk-toggleable__control:checked~label.sk-toggleable__label {background-color: #d4ebff;}#sk-container-id-1 input.sk-hidden--visually {border: 0;clip: rect(1px 1px 1px 1px);clip: rect(1px, 1px, 1px, 1px);height: 1px;margin: -1px;overflow: hidden;padding: 0;position: absolute;width: 1px;}#sk-container-id-1 div.sk-estimator {font-family: monospace;background-color: #f0f8ff;border: 1px dotted black;border-radius: 0.25em;box-sizing: border-box;margin-bottom: 0.5em;}#sk-container-id-1 div.sk-estimator:hover {background-color: #d4ebff;}#sk-container-id-1 div.sk-parallel-item::after {content: \"\";width: 100%;border-bottom: 1px solid gray;flex-grow: 1;}#sk-container-id-1 div.sk-label:hover label.sk-toggleable__label {background-color: #d4ebff;}#sk-container-id-1 div.sk-serial::before {content: \"\";position: absolute;border-left: 1px solid gray;box-sizing: border-box;top: 0;bottom: 0;left: 50%;z-index: 0;}#sk-container-id-1 div.sk-serial {display: flex;flex-direction: column;align-items: center;background-color: white;padding-right: 0.2em;padding-left: 0.2em;position: relative;}#sk-container-id-1 div.sk-item {position: relative;z-index: 1;}#sk-container-id-1 div.sk-parallel {display: flex;align-items: stretch;justify-content: center;background-color: white;position: relative;}#sk-container-id-1 div.sk-item::before, #sk-container-id-1 div.sk-parallel-item::before {content: \"\";position: absolute;border-left: 1px solid gray;box-sizing: border-box;top: 0;bottom: 0;left: 50%;z-index: -1;}#sk-container-id-1 div.sk-parallel-item {display: flex;flex-direction: column;z-index: 1;position: relative;background-color: white;}#sk-container-id-1 div.sk-parallel-item:first-child::after {align-self: flex-end;width: 50%;}#sk-container-id-1 div.sk-parallel-item:last-child::after {align-self: flex-start;width: 50%;}#sk-container-id-1 div.sk-parallel-item:only-child::after {width: 0;}#sk-container-id-1 div.sk-dashed-wrapped {border: 1px dashed gray;margin: 0 0.4em 0.5em 0.4em;box-sizing: border-box;padding-bottom: 0.4em;background-color: white;}#sk-container-id-1 div.sk-label label {font-family: monospace;font-weight: bold;display: inline-block;line-height: 1.2em;}#sk-container-id-1 div.sk-label-container {text-align: center;}#sk-container-id-1 div.sk-container {/* jupyter's `normalize.less` sets `[hidden] { display: none; }` but bootstrap.min.css set `[hidden] { display: none !important; }` so we also need the `!important` here to be able to override the default hidden behavior on the sphinx rendered scikit-learn.org. See: https://github.com/scikit-learn/scikit-learn/issues/21755 */display: inline-block !important;position: relative;}#sk-container-id-1 div.sk-text-repr-fallback {display: none;}</style><div id=\"sk-container-id-1\" class=\"sk-top-container\"><div class=\"sk-text-repr-fallback\"><pre>GaussianNB()</pre><b>In a Jupyter environment, please rerun this cell to show the HTML representation or trust the notebook. <br />On GitHub, the HTML representation is unable to render, please try loading this page with nbviewer.org.</b></div><div class=\"sk-container\" hidden><div class=\"sk-item\"><div class=\"sk-estimator sk-toggleable\"><input class=\"sk-toggleable__control sk-hidden--visually\" id=\"sk-estimator-id-1\" type=\"checkbox\" checked><label for=\"sk-estimator-id-1\" class=\"sk-toggleable__label sk-toggleable__label-arrow\">GaussianNB</label><div class=\"sk-toggleable__content\"><pre>GaussianNB()</pre></div></div></div></div></div>"
      ],
      "text/plain": [
       "GaussianNB()"
      ]
     },
     "execution_count": 49,
     "metadata": {},
     "output_type": "execute_result"
    }
   ],
   "source": [
    "nb_model_load = joblib.load('navie_bayes_model.jb')\n",
    "nb_model_load"
   ]
  }
 ],
 "metadata": {
  "kernelspec": {
   "display_name": "Python 3 (ipykernel)",
   "language": "python",
   "name": "python3"
  },
  "language_info": {
   "codemirror_mode": {
    "name": "ipython",
    "version": 3
   },
   "file_extension": ".py",
   "mimetype": "text/x-python",
   "name": "python",
   "nbconvert_exporter": "python",
   "pygments_lexer": "ipython3",
   "version": "3.9.5"
  },
  "widgets": {
   "application/vnd.jupyter.widget-state+json": {
    "state": {},
    "version_major": 2,
    "version_minor": 0
   }
  }
 },
 "nbformat": 4,
 "nbformat_minor": 5
}
