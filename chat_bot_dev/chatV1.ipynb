{
 "cells": [
  {
   "cell_type": "code",
   "execution_count": 1,
   "id": "e5da81d0-f76d-41a3-97e3-93c2018de6cb",
   "metadata": {},
   "outputs": [],
   "source": [
    "doc = '''\n",
    "\n",
    "{\"intents\": [\n",
    "        {\"tag\": \"greeting\",\n",
    "         \"patterns\": [\"Hi\", \"How are you\", \"Is anyone there?\", \"Hello\", \"Good day\"],\n",
    "         \"responses\": [\"Hello, thanks for visiting\", \"Good to see you again\", \"Hi there, how can I help?\"],\n",
    "         \"context_set\": \"\"\n",
    "        },\n",
    "        {\"tag\": \"goodbye\",\n",
    "         \"patterns\": [\"Bye\", \"See you later\", \"Goodbye\"],\n",
    "         \"responses\": [\"See you later, thanks for visiting\", \"Have a nice day\", \"Bye! Come back again soon.\"]\n",
    "        },\n",
    "        {\"tag\": \"thanks\",\n",
    "         \"patterns\": [\"Thanks\", \"Thank you\", \"That's helpful\"],\n",
    "         \"responses\": [\"Happy to help!\", \"Any time!\", \"My pleasure\"]\n",
    "        },\n",
    "        {\"tag\": \"hours\",\n",
    "         \"patterns\": [\"What hours are you open?\", \"What are your hours?\", \"When are you open?\" ],\n",
    "         \"responses\": [\"We're open every day 9am-9pm\", \"Our hours are 9am-9pm every day\"]\n",
    "        },\n",
    "        {\"tag\": \"payments\",\n",
    "         \"patterns\": [\"Do you take credit cards?\", \"Do you accept Mastercard?\", \"Are you cash only?\" ],\n",
    "         \"responses\": [\"We accept VISA, Mastercard and AMEX\", \"We accept most major credit cards\"]\n",
    "        },\n",
    "        {\"tag\": \"opentoday\",\n",
    "         \"patterns\": [\"Are you open today?\", \"When do you open today?\", \"What are your hours today?\"],\n",
    "         \"responses\": [\"We're open every day from 9am-9pm\", \"Our hours are 9am-9pm every day\"]\n",
    "        }\n",
    "   ]\n",
    "}\n",
    "\n",
    "'''"
   ]
  },
  {
   "cell_type": "code",
   "execution_count": 2,
   "id": "a907d154-cf7e-416e-b4e7-0f9032621eff",
   "metadata": {},
   "outputs": [],
   "source": [
    "import json\n",
    "from nltk.stem import PorterStemmer\n",
    "import pandas as pd "
   ]
  },
  {
   "cell_type": "code",
   "execution_count": 3,
   "id": "f3fe04e7-844b-4284-8808-e14eb0a726d3",
   "metadata": {},
   "outputs": [
    {
     "data": {
      "text/plain": [
       "{'intents': [{'tag': 'greeting',\n",
       "   'patterns': ['Hi', 'How are you', 'Is anyone there?', 'Hello', 'Good day'],\n",
       "   'responses': ['Hello, thanks for visiting',\n",
       "    'Good to see you again',\n",
       "    'Hi there, how can I help?'],\n",
       "   'context_set': ''},\n",
       "  {'tag': 'goodbye',\n",
       "   'patterns': ['Bye', 'See you later', 'Goodbye'],\n",
       "   'responses': ['See you later, thanks for visiting',\n",
       "    'Have a nice day',\n",
       "    'Bye! Come back again soon.']},\n",
       "  {'tag': 'thanks',\n",
       "   'patterns': ['Thanks', 'Thank you', \"That's helpful\"],\n",
       "   'responses': ['Happy to help!', 'Any time!', 'My pleasure']},\n",
       "  {'tag': 'hours',\n",
       "   'patterns': ['What hours are you open?',\n",
       "    'What are your hours?',\n",
       "    'When are you open?'],\n",
       "   'responses': [\"We're open every day 9am-9pm\",\n",
       "    'Our hours are 9am-9pm every day']},\n",
       "  {'tag': 'payments',\n",
       "   'patterns': ['Do you take credit cards?',\n",
       "    'Do you accept Mastercard?',\n",
       "    'Are you cash only?'],\n",
       "   'responses': ['We accept VISA, Mastercard and AMEX',\n",
       "    'We accept most major credit cards']},\n",
       "  {'tag': 'opentoday',\n",
       "   'patterns': ['Are you open today?',\n",
       "    'When do you open today?',\n",
       "    'What are your hours today?'],\n",
       "   'responses': [\"We're open every day from 9am-9pm\",\n",
       "    'Our hours are 9am-9pm every day']}]}"
      ]
     },
     "execution_count": 3,
     "metadata": {},
     "output_type": "execute_result"
    }
   ],
   "source": [
    "jdata = json.loads(doc)\n",
    "jdata"
   ]
  },
  {
   "cell_type": "code",
   "execution_count": 4,
   "id": "b245815c-1243-4946-be97-e05ffcb92b7d",
   "metadata": {},
   "outputs": [
    {
     "data": {
      "text/plain": [
       "dict_keys(['intents'])"
      ]
     },
     "execution_count": 4,
     "metadata": {},
     "output_type": "execute_result"
    }
   ],
   "source": [
    "jdata.keys()"
   ]
  },
  {
   "cell_type": "code",
   "execution_count": 5,
   "id": "ca488341-38d4-443f-956c-33d86697a16b",
   "metadata": {},
   "outputs": [
    {
     "data": {
      "text/plain": [
       "[{'tag': 'greeting',\n",
       "  'patterns': ['Hi', 'How are you', 'Is anyone there?', 'Hello', 'Good day'],\n",
       "  'responses': ['Hello, thanks for visiting',\n",
       "   'Good to see you again',\n",
       "   'Hi there, how can I help?'],\n",
       "  'context_set': ''},\n",
       " {'tag': 'goodbye',\n",
       "  'patterns': ['Bye', 'See you later', 'Goodbye'],\n",
       "  'responses': ['See you later, thanks for visiting',\n",
       "   'Have a nice day',\n",
       "   'Bye! Come back again soon.']},\n",
       " {'tag': 'thanks',\n",
       "  'patterns': ['Thanks', 'Thank you', \"That's helpful\"],\n",
       "  'responses': ['Happy to help!', 'Any time!', 'My pleasure']},\n",
       " {'tag': 'hours',\n",
       "  'patterns': ['What hours are you open?',\n",
       "   'What are your hours?',\n",
       "   'When are you open?'],\n",
       "  'responses': [\"We're open every day 9am-9pm\",\n",
       "   'Our hours are 9am-9pm every day']},\n",
       " {'tag': 'payments',\n",
       "  'patterns': ['Do you take credit cards?',\n",
       "   'Do you accept Mastercard?',\n",
       "   'Are you cash only?'],\n",
       "  'responses': ['We accept VISA, Mastercard and AMEX',\n",
       "   'We accept most major credit cards']},\n",
       " {'tag': 'opentoday',\n",
       "  'patterns': ['Are you open today?',\n",
       "   'When do you open today?',\n",
       "   'What are your hours today?'],\n",
       "  'responses': [\"We're open every day from 9am-9pm\",\n",
       "   'Our hours are 9am-9pm every day']}]"
      ]
     },
     "execution_count": 5,
     "metadata": {},
     "output_type": "execute_result"
    }
   ],
   "source": [
    "data = jdata['intents']\n",
    "data"
   ]
  },
  {
   "cell_type": "code",
   "execution_count": 6,
   "id": "c2dfe280-1664-43c7-9909-ab69987920a4",
   "metadata": {},
   "outputs": [
    {
     "name": "stdout",
     "output_type": "stream",
     "text": [
      "complete\n"
     ]
    }
   ],
   "source": [
    "data_diction = {\n",
    "    'tag':[],\n",
    " 'patterns':[], \n",
    " 'responses':[]\n",
    "}\n",
    "\n",
    "\n",
    "# go through the dictionary\n",
    "for datum in data:\n",
    "    # loop throup patterns\n",
    "    for pattern in datum['patterns']:\n",
    "        data_diction['patterns'].append(pattern)\n",
    "        data_diction['tag'].append(datum['tag'])\n",
    "        data_diction['responses'].append(datum['responses'])\n",
    "print('complete')    "
   ]
  },
  {
   "cell_type": "code",
   "execution_count": 7,
   "id": "a8aa65b9-9c31-4bb6-9c73-7f3e9241fdf6",
   "metadata": {},
   "outputs": [
    {
     "data": {
      "text/plain": [
       "{'tag': ['greeting',\n",
       "  'greeting',\n",
       "  'greeting',\n",
       "  'greeting',\n",
       "  'greeting',\n",
       "  'goodbye',\n",
       "  'goodbye',\n",
       "  'goodbye',\n",
       "  'thanks',\n",
       "  'thanks',\n",
       "  'thanks',\n",
       "  'hours',\n",
       "  'hours',\n",
       "  'hours',\n",
       "  'payments',\n",
       "  'payments',\n",
       "  'payments',\n",
       "  'opentoday',\n",
       "  'opentoday',\n",
       "  'opentoday'],\n",
       " 'patterns': ['Hi',\n",
       "  'How are you',\n",
       "  'Is anyone there?',\n",
       "  'Hello',\n",
       "  'Good day',\n",
       "  'Bye',\n",
       "  'See you later',\n",
       "  'Goodbye',\n",
       "  'Thanks',\n",
       "  'Thank you',\n",
       "  \"That's helpful\",\n",
       "  'What hours are you open?',\n",
       "  'What are your hours?',\n",
       "  'When are you open?',\n",
       "  'Do you take credit cards?',\n",
       "  'Do you accept Mastercard?',\n",
       "  'Are you cash only?',\n",
       "  'Are you open today?',\n",
       "  'When do you open today?',\n",
       "  'What are your hours today?'],\n",
       " 'responses': [['Hello, thanks for visiting',\n",
       "   'Good to see you again',\n",
       "   'Hi there, how can I help?'],\n",
       "  ['Hello, thanks for visiting',\n",
       "   'Good to see you again',\n",
       "   'Hi there, how can I help?'],\n",
       "  ['Hello, thanks for visiting',\n",
       "   'Good to see you again',\n",
       "   'Hi there, how can I help?'],\n",
       "  ['Hello, thanks for visiting',\n",
       "   'Good to see you again',\n",
       "   'Hi there, how can I help?'],\n",
       "  ['Hello, thanks for visiting',\n",
       "   'Good to see you again',\n",
       "   'Hi there, how can I help?'],\n",
       "  ['See you later, thanks for visiting',\n",
       "   'Have a nice day',\n",
       "   'Bye! Come back again soon.'],\n",
       "  ['See you later, thanks for visiting',\n",
       "   'Have a nice day',\n",
       "   'Bye! Come back again soon.'],\n",
       "  ['See you later, thanks for visiting',\n",
       "   'Have a nice day',\n",
       "   'Bye! Come back again soon.'],\n",
       "  ['Happy to help!', 'Any time!', 'My pleasure'],\n",
       "  ['Happy to help!', 'Any time!', 'My pleasure'],\n",
       "  ['Happy to help!', 'Any time!', 'My pleasure'],\n",
       "  [\"We're open every day 9am-9pm\", 'Our hours are 9am-9pm every day'],\n",
       "  [\"We're open every day 9am-9pm\", 'Our hours are 9am-9pm every day'],\n",
       "  [\"We're open every day 9am-9pm\", 'Our hours are 9am-9pm every day'],\n",
       "  ['We accept VISA, Mastercard and AMEX', 'We accept most major credit cards'],\n",
       "  ['We accept VISA, Mastercard and AMEX', 'We accept most major credit cards'],\n",
       "  ['We accept VISA, Mastercard and AMEX', 'We accept most major credit cards'],\n",
       "  [\"We're open every day from 9am-9pm\", 'Our hours are 9am-9pm every day'],\n",
       "  [\"We're open every day from 9am-9pm\", 'Our hours are 9am-9pm every day'],\n",
       "  [\"We're open every day from 9am-9pm\", 'Our hours are 9am-9pm every day']]}"
      ]
     },
     "execution_count": 7,
     "metadata": {},
     "output_type": "execute_result"
    }
   ],
   "source": [
    "data_diction"
   ]
  },
  {
   "cell_type": "code",
   "execution_count": 8,
   "id": "b377955b-22e8-47b2-86e6-735c8e2457e6",
   "metadata": {},
   "outputs": [
    {
     "data": {
      "text/html": [
       "<div>\n",
       "<style scoped>\n",
       "    .dataframe tbody tr th:only-of-type {\n",
       "        vertical-align: middle;\n",
       "    }\n",
       "\n",
       "    .dataframe tbody tr th {\n",
       "        vertical-align: top;\n",
       "    }\n",
       "\n",
       "    .dataframe thead th {\n",
       "        text-align: right;\n",
       "    }\n",
       "</style>\n",
       "<table border=\"1\" class=\"dataframe\">\n",
       "  <thead>\n",
       "    <tr style=\"text-align: right;\">\n",
       "      <th></th>\n",
       "      <th>tag</th>\n",
       "      <th>patterns</th>\n",
       "      <th>responses</th>\n",
       "    </tr>\n",
       "  </thead>\n",
       "  <tbody>\n",
       "    <tr>\n",
       "      <th>0</th>\n",
       "      <td>greeting</td>\n",
       "      <td>Hi</td>\n",
       "      <td>[Hello, thanks for visiting, Good to see you a...</td>\n",
       "    </tr>\n",
       "    <tr>\n",
       "      <th>1</th>\n",
       "      <td>greeting</td>\n",
       "      <td>How are you</td>\n",
       "      <td>[Hello, thanks for visiting, Good to see you a...</td>\n",
       "    </tr>\n",
       "    <tr>\n",
       "      <th>2</th>\n",
       "      <td>greeting</td>\n",
       "      <td>Is anyone there?</td>\n",
       "      <td>[Hello, thanks for visiting, Good to see you a...</td>\n",
       "    </tr>\n",
       "    <tr>\n",
       "      <th>3</th>\n",
       "      <td>greeting</td>\n",
       "      <td>Hello</td>\n",
       "      <td>[Hello, thanks for visiting, Good to see you a...</td>\n",
       "    </tr>\n",
       "    <tr>\n",
       "      <th>4</th>\n",
       "      <td>greeting</td>\n",
       "      <td>Good day</td>\n",
       "      <td>[Hello, thanks for visiting, Good to see you a...</td>\n",
       "    </tr>\n",
       "    <tr>\n",
       "      <th>5</th>\n",
       "      <td>goodbye</td>\n",
       "      <td>Bye</td>\n",
       "      <td>[See you later, thanks for visiting, Have a ni...</td>\n",
       "    </tr>\n",
       "    <tr>\n",
       "      <th>6</th>\n",
       "      <td>goodbye</td>\n",
       "      <td>See you later</td>\n",
       "      <td>[See you later, thanks for visiting, Have a ni...</td>\n",
       "    </tr>\n",
       "    <tr>\n",
       "      <th>7</th>\n",
       "      <td>goodbye</td>\n",
       "      <td>Goodbye</td>\n",
       "      <td>[See you later, thanks for visiting, Have a ni...</td>\n",
       "    </tr>\n",
       "    <tr>\n",
       "      <th>8</th>\n",
       "      <td>thanks</td>\n",
       "      <td>Thanks</td>\n",
       "      <td>[Happy to help!, Any time!, My pleasure]</td>\n",
       "    </tr>\n",
       "    <tr>\n",
       "      <th>9</th>\n",
       "      <td>thanks</td>\n",
       "      <td>Thank you</td>\n",
       "      <td>[Happy to help!, Any time!, My pleasure]</td>\n",
       "    </tr>\n",
       "    <tr>\n",
       "      <th>10</th>\n",
       "      <td>thanks</td>\n",
       "      <td>That's helpful</td>\n",
       "      <td>[Happy to help!, Any time!, My pleasure]</td>\n",
       "    </tr>\n",
       "    <tr>\n",
       "      <th>11</th>\n",
       "      <td>hours</td>\n",
       "      <td>What hours are you open?</td>\n",
       "      <td>[We're open every day 9am-9pm, Our hours are 9...</td>\n",
       "    </tr>\n",
       "    <tr>\n",
       "      <th>12</th>\n",
       "      <td>hours</td>\n",
       "      <td>What are your hours?</td>\n",
       "      <td>[We're open every day 9am-9pm, Our hours are 9...</td>\n",
       "    </tr>\n",
       "    <tr>\n",
       "      <th>13</th>\n",
       "      <td>hours</td>\n",
       "      <td>When are you open?</td>\n",
       "      <td>[We're open every day 9am-9pm, Our hours are 9...</td>\n",
       "    </tr>\n",
       "    <tr>\n",
       "      <th>14</th>\n",
       "      <td>payments</td>\n",
       "      <td>Do you take credit cards?</td>\n",
       "      <td>[We accept VISA, Mastercard and AMEX, We accep...</td>\n",
       "    </tr>\n",
       "    <tr>\n",
       "      <th>15</th>\n",
       "      <td>payments</td>\n",
       "      <td>Do you accept Mastercard?</td>\n",
       "      <td>[We accept VISA, Mastercard and AMEX, We accep...</td>\n",
       "    </tr>\n",
       "    <tr>\n",
       "      <th>16</th>\n",
       "      <td>payments</td>\n",
       "      <td>Are you cash only?</td>\n",
       "      <td>[We accept VISA, Mastercard and AMEX, We accep...</td>\n",
       "    </tr>\n",
       "    <tr>\n",
       "      <th>17</th>\n",
       "      <td>opentoday</td>\n",
       "      <td>Are you open today?</td>\n",
       "      <td>[We're open every day from 9am-9pm, Our hours ...</td>\n",
       "    </tr>\n",
       "    <tr>\n",
       "      <th>18</th>\n",
       "      <td>opentoday</td>\n",
       "      <td>When do you open today?</td>\n",
       "      <td>[We're open every day from 9am-9pm, Our hours ...</td>\n",
       "    </tr>\n",
       "    <tr>\n",
       "      <th>19</th>\n",
       "      <td>opentoday</td>\n",
       "      <td>What are your hours today?</td>\n",
       "      <td>[We're open every day from 9am-9pm, Our hours ...</td>\n",
       "    </tr>\n",
       "  </tbody>\n",
       "</table>\n",
       "</div>"
      ],
      "text/plain": [
       "          tag                    patterns  \\\n",
       "0    greeting                          Hi   \n",
       "1    greeting                 How are you   \n",
       "2    greeting            Is anyone there?   \n",
       "3    greeting                       Hello   \n",
       "4    greeting                    Good day   \n",
       "5     goodbye                         Bye   \n",
       "6     goodbye               See you later   \n",
       "7     goodbye                     Goodbye   \n",
       "8      thanks                      Thanks   \n",
       "9      thanks                   Thank you   \n",
       "10     thanks              That's helpful   \n",
       "11      hours    What hours are you open?   \n",
       "12      hours        What are your hours?   \n",
       "13      hours          When are you open?   \n",
       "14   payments   Do you take credit cards?   \n",
       "15   payments   Do you accept Mastercard?   \n",
       "16   payments          Are you cash only?   \n",
       "17  opentoday         Are you open today?   \n",
       "18  opentoday     When do you open today?   \n",
       "19  opentoday  What are your hours today?   \n",
       "\n",
       "                                            responses  \n",
       "0   [Hello, thanks for visiting, Good to see you a...  \n",
       "1   [Hello, thanks for visiting, Good to see you a...  \n",
       "2   [Hello, thanks for visiting, Good to see you a...  \n",
       "3   [Hello, thanks for visiting, Good to see you a...  \n",
       "4   [Hello, thanks for visiting, Good to see you a...  \n",
       "5   [See you later, thanks for visiting, Have a ni...  \n",
       "6   [See you later, thanks for visiting, Have a ni...  \n",
       "7   [See you later, thanks for visiting, Have a ni...  \n",
       "8            [Happy to help!, Any time!, My pleasure]  \n",
       "9            [Happy to help!, Any time!, My pleasure]  \n",
       "10           [Happy to help!, Any time!, My pleasure]  \n",
       "11  [We're open every day 9am-9pm, Our hours are 9...  \n",
       "12  [We're open every day 9am-9pm, Our hours are 9...  \n",
       "13  [We're open every day 9am-9pm, Our hours are 9...  \n",
       "14  [We accept VISA, Mastercard and AMEX, We accep...  \n",
       "15  [We accept VISA, Mastercard and AMEX, We accep...  \n",
       "16  [We accept VISA, Mastercard and AMEX, We accep...  \n",
       "17  [We're open every day from 9am-9pm, Our hours ...  \n",
       "18  [We're open every day from 9am-9pm, Our hours ...  \n",
       "19  [We're open every day from 9am-9pm, Our hours ...  "
      ]
     },
     "execution_count": 8,
     "metadata": {},
     "output_type": "execute_result"
    }
   ],
   "source": [
    "dataset = pd.DataFrame(data_diction)\n",
    "dataset"
   ]
  },
  {
   "cell_type": "code",
   "execution_count": 9,
   "id": "a4de5fe2-0f9b-4511-8da9-440b0478b459",
   "metadata": {},
   "outputs": [
    {
     "data": {
      "text/plain": [
       "(20, 3)"
      ]
     },
     "execution_count": 9,
     "metadata": {},
     "output_type": "execute_result"
    }
   ],
   "source": [
    "dataset.shape"
   ]
  },
  {
   "cell_type": "code",
   "execution_count": 10,
   "id": "8ba477ee-c026-431a-b297-091b20d6f7c7",
   "metadata": {},
   "outputs": [
    {
     "data": {
      "text/plain": [
       "'Hello, thanks for visiting Good to see you again Hi there, how can I help?'"
      ]
     },
     "execution_count": 10,
     "metadata": {},
     "output_type": "execute_result"
    }
   ],
   "source": [
    "sample = ' '.join(dataset['responses'][0])\n",
    "sample"
   ]
  },
  {
   "cell_type": "code",
   "execution_count": 11,
   "id": "93fc84c2-2a36-4092-8e02-ae44259d0664",
   "metadata": {},
   "outputs": [],
   "source": [
    "import string \n",
    "stemmer = PorterStemmer()\n",
    "from sklearn.feature_extraction.text import CountVectorizer, TfidfVectorizer\n",
    "from tqdm.notebook import tqdm\n",
    "from sklearn.preprocessing import LabelEncoder"
   ]
  },
  {
   "cell_type": "code",
   "execution_count": 12,
   "id": "4b9210b1-ca03-4ba3-8b1e-9dbabb0f653f",
   "metadata": {},
   "outputs": [],
   "source": [
    "# remove punctuation, and stem... basic procesing"
   ]
  },
  {
   "cell_type": "code",
   "execution_count": null,
   "id": "6e1b6e38-8870-4442-90f3-de30fa65e96c",
   "metadata": {},
   "outputs": [],
   "source": []
  },
  {
   "cell_type": "code",
   "execution_count": 13,
   "id": "f848e127-eacf-4fe6-abf5-bcf7a6e3ec78",
   "metadata": {},
   "outputs": [
    {
     "data": {
      "text/plain": [
       "'hello thanks for visiting good to see you again hi there how can i help'"
      ]
     },
     "execution_count": 13,
     "metadata": {},
     "output_type": "execute_result"
    }
   ],
   "source": [
    "string.punctuation\n",
    "''.join([stemmer.stem(samp) for samp in sample if not samp in string.punctuation])"
   ]
  },
  {
   "cell_type": "code",
   "execution_count": 14,
   "id": "b564b615-b58f-408e-b239-719f1db2ea4a",
   "metadata": {},
   "outputs": [
    {
     "data": {
      "application/vnd.jupyter.widget-view+json": {
       "model_id": "587ee90ff97f4c3993ad15b29dcecca6",
       "version_major": 2,
       "version_minor": 0
      },
      "text/plain": [
       "  0%|          | 0/20 [00:00<?, ?it/s]"
      ]
     },
     "metadata": {},
     "output_type": "display_data"
    },
    {
     "data": {
      "text/html": [
       "<div>\n",
       "<style scoped>\n",
       "    .dataframe tbody tr th:only-of-type {\n",
       "        vertical-align: middle;\n",
       "    }\n",
       "\n",
       "    .dataframe tbody tr th {\n",
       "        vertical-align: top;\n",
       "    }\n",
       "\n",
       "    .dataframe thead th {\n",
       "        text-align: right;\n",
       "    }\n",
       "</style>\n",
       "<table border=\"1\" class=\"dataframe\">\n",
       "  <thead>\n",
       "    <tr style=\"text-align: right;\">\n",
       "      <th></th>\n",
       "      <th>tag</th>\n",
       "      <th>patterns</th>\n",
       "      <th>responses</th>\n",
       "      <th>clean_patterns</th>\n",
       "    </tr>\n",
       "  </thead>\n",
       "  <tbody>\n",
       "    <tr>\n",
       "      <th>0</th>\n",
       "      <td>greeting</td>\n",
       "      <td>Hi</td>\n",
       "      <td>[Hello, thanks for visiting, Good to see you a...</td>\n",
       "      <td>hi</td>\n",
       "    </tr>\n",
       "    <tr>\n",
       "      <th>1</th>\n",
       "      <td>greeting</td>\n",
       "      <td>How are you</td>\n",
       "      <td>[Hello, thanks for visiting, Good to see you a...</td>\n",
       "      <td>how are you</td>\n",
       "    </tr>\n",
       "    <tr>\n",
       "      <th>2</th>\n",
       "      <td>greeting</td>\n",
       "      <td>Is anyone there?</td>\n",
       "      <td>[Hello, thanks for visiting, Good to see you a...</td>\n",
       "      <td>is anyone there</td>\n",
       "    </tr>\n",
       "    <tr>\n",
       "      <th>3</th>\n",
       "      <td>greeting</td>\n",
       "      <td>Hello</td>\n",
       "      <td>[Hello, thanks for visiting, Good to see you a...</td>\n",
       "      <td>hello</td>\n",
       "    </tr>\n",
       "    <tr>\n",
       "      <th>4</th>\n",
       "      <td>greeting</td>\n",
       "      <td>Good day</td>\n",
       "      <td>[Hello, thanks for visiting, Good to see you a...</td>\n",
       "      <td>good day</td>\n",
       "    </tr>\n",
       "  </tbody>\n",
       "</table>\n",
       "</div>"
      ],
      "text/plain": [
       "        tag          patterns  \\\n",
       "0  greeting                Hi   \n",
       "1  greeting       How are you   \n",
       "2  greeting  Is anyone there?   \n",
       "3  greeting             Hello   \n",
       "4  greeting          Good day   \n",
       "\n",
       "                                           responses   clean_patterns  \n",
       "0  [Hello, thanks for visiting, Good to see you a...               hi  \n",
       "1  [Hello, thanks for visiting, Good to see you a...      how are you  \n",
       "2  [Hello, thanks for visiting, Good to see you a...  is anyone there  \n",
       "3  [Hello, thanks for visiting, Good to see you a...            hello  \n",
       "4  [Hello, thanks for visiting, Good to see you a...         good day  "
      ]
     },
     "execution_count": 14,
     "metadata": {},
     "output_type": "execute_result"
    }
   ],
   "source": [
    "# peform operation on all patterns\n",
    "def clean_data(texts):\n",
    "    # texts = ' '.join(texts)\n",
    "    return ''.join([stemmer.stem(text) for text in texts if not text in string.punctuation])\n",
    "\n",
    "tqdm.pandas()\n",
    "\n",
    "# apply cleaning operation\n",
    "dataset['clean_patterns'] =  dataset['patterns'].progress_apply(lambda x: clean_data(x))\n",
    "\n",
    "dataset.head()"
   ]
  },
  {
   "cell_type": "code",
   "execution_count": 15,
   "id": "63d4436c-be3b-4fee-b2f7-5ae08b3807b0",
   "metadata": {},
   "outputs": [
    {
     "data": {
      "text/plain": [
       "['hi',\n",
       " 'how are you',\n",
       " 'is anyone there',\n",
       " 'hello',\n",
       " 'good day',\n",
       " 'bye',\n",
       " 'see you later',\n",
       " 'goodbye',\n",
       " 'thanks',\n",
       " 'thank you',\n",
       " 'thats helpful',\n",
       " 'what hours are you open',\n",
       " 'what are your hours',\n",
       " 'when are you open',\n",
       " 'do you take credit cards',\n",
       " 'do you accept mastercard',\n",
       " 'are you cash only',\n",
       " 'are you open today',\n",
       " 'when do you open today',\n",
       " 'what are your hours today']"
      ]
     },
     "execution_count": 15,
     "metadata": {},
     "output_type": "execute_result"
    }
   ],
   "source": [
    "dataset.clean_patterns.to_list()"
   ]
  },
  {
   "cell_type": "code",
   "execution_count": 16,
   "id": "51ac35b1-cb86-4688-a7e2-089599c4dc94",
   "metadata": {},
   "outputs": [
    {
     "data": {
      "text/plain": [
       "<20x32 sparse matrix of type '<class 'numpy.int64'>'\n",
       "\twith 60 stored elements in Compressed Sparse Row format>"
      ]
     },
     "execution_count": 16,
     "metadata": {},
     "output_type": "execute_result"
    }
   ],
   "source": [
    "# vectorizaing operation\n",
    "cv = CountVectorizer()\n",
    "vectors = cv.fit_transform(dataset.clean_patterns)\n",
    "vectors"
   ]
  },
  {
   "cell_type": "code",
   "execution_count": 17,
   "id": "2b8163d2-9aaf-4411-b640-20257d876d3f",
   "metadata": {},
   "outputs": [
    {
     "data": {
      "text/plain": [
       "{'hi': 13,\n",
       " 'how': 15,\n",
       " 'are': 2,\n",
       " 'you': 30,\n",
       " 'is': 16,\n",
       " 'anyone': 1,\n",
       " 'there': 26,\n",
       " 'hello': 11,\n",
       " 'good': 9,\n",
       " 'day': 7,\n",
       " 'bye': 3,\n",
       " 'see': 21,\n",
       " 'later': 17,\n",
       " 'goodbye': 10,\n",
       " 'thanks': 24,\n",
       " 'thank': 23,\n",
       " 'thats': 25,\n",
       " 'helpful': 12,\n",
       " 'what': 28,\n",
       " 'hours': 14,\n",
       " 'open': 20,\n",
       " 'your': 31,\n",
       " 'when': 29,\n",
       " 'do': 8,\n",
       " 'take': 22,\n",
       " 'credit': 6,\n",
       " 'cards': 4,\n",
       " 'accept': 0,\n",
       " 'mastercard': 18,\n",
       " 'cash': 5,\n",
       " 'only': 19,\n",
       " 'today': 27}"
      ]
     },
     "execution_count": 17,
     "metadata": {},
     "output_type": "execute_result"
    }
   ],
   "source": [
    "cv.vocabulary_"
   ]
  },
  {
   "cell_type": "code",
   "execution_count": 18,
   "id": "cb8adc4d-19b7-4dc2-8650-f03d76a9ee85",
   "metadata": {},
   "outputs": [
    {
     "data": {
      "text/plain": [
       "array([[0, 0, 0, 0, 0, 0, 0, 0, 0, 0, 0, 0, 0, 1, 0, 0, 0, 0, 0, 0, 0, 0,\n",
       "        0, 0, 0, 0, 0, 0, 0, 0, 0, 0],\n",
       "       [0, 0, 1, 0, 0, 0, 0, 0, 0, 0, 0, 0, 0, 0, 0, 1, 0, 0, 0, 0, 0, 0,\n",
       "        0, 0, 0, 0, 0, 0, 0, 0, 1, 0],\n",
       "       [0, 1, 0, 0, 0, 0, 0, 0, 0, 0, 0, 0, 0, 0, 0, 0, 1, 0, 0, 0, 0, 0,\n",
       "        0, 0, 0, 0, 1, 0, 0, 0, 0, 0],\n",
       "       [0, 0, 0, 0, 0, 0, 0, 0, 0, 0, 0, 1, 0, 0, 0, 0, 0, 0, 0, 0, 0, 0,\n",
       "        0, 0, 0, 0, 0, 0, 0, 0, 0, 0],\n",
       "       [0, 0, 0, 0, 0, 0, 0, 1, 0, 1, 0, 0, 0, 0, 0, 0, 0, 0, 0, 0, 0, 0,\n",
       "        0, 0, 0, 0, 0, 0, 0, 0, 0, 0],\n",
       "       [0, 0, 0, 1, 0, 0, 0, 0, 0, 0, 0, 0, 0, 0, 0, 0, 0, 0, 0, 0, 0, 0,\n",
       "        0, 0, 0, 0, 0, 0, 0, 0, 0, 0],\n",
       "       [0, 0, 0, 0, 0, 0, 0, 0, 0, 0, 0, 0, 0, 0, 0, 0, 0, 1, 0, 0, 0, 1,\n",
       "        0, 0, 0, 0, 0, 0, 0, 0, 1, 0],\n",
       "       [0, 0, 0, 0, 0, 0, 0, 0, 0, 0, 1, 0, 0, 0, 0, 0, 0, 0, 0, 0, 0, 0,\n",
       "        0, 0, 0, 0, 0, 0, 0, 0, 0, 0],\n",
       "       [0, 0, 0, 0, 0, 0, 0, 0, 0, 0, 0, 0, 0, 0, 0, 0, 0, 0, 0, 0, 0, 0,\n",
       "        0, 0, 1, 0, 0, 0, 0, 0, 0, 0],\n",
       "       [0, 0, 0, 0, 0, 0, 0, 0, 0, 0, 0, 0, 0, 0, 0, 0, 0, 0, 0, 0, 0, 0,\n",
       "        0, 1, 0, 0, 0, 0, 0, 0, 1, 0],\n",
       "       [0, 0, 0, 0, 0, 0, 0, 0, 0, 0, 0, 0, 1, 0, 0, 0, 0, 0, 0, 0, 0, 0,\n",
       "        0, 0, 0, 1, 0, 0, 0, 0, 0, 0],\n",
       "       [0, 0, 1, 0, 0, 0, 0, 0, 0, 0, 0, 0, 0, 0, 1, 0, 0, 0, 0, 0, 1, 0,\n",
       "        0, 0, 0, 0, 0, 0, 1, 0, 1, 0],\n",
       "       [0, 0, 1, 0, 0, 0, 0, 0, 0, 0, 0, 0, 0, 0, 1, 0, 0, 0, 0, 0, 0, 0,\n",
       "        0, 0, 0, 0, 0, 0, 1, 0, 0, 1],\n",
       "       [0, 0, 1, 0, 0, 0, 0, 0, 0, 0, 0, 0, 0, 0, 0, 0, 0, 0, 0, 0, 1, 0,\n",
       "        0, 0, 0, 0, 0, 0, 0, 1, 1, 0],\n",
       "       [0, 0, 0, 0, 1, 0, 1, 0, 1, 0, 0, 0, 0, 0, 0, 0, 0, 0, 0, 0, 0, 0,\n",
       "        1, 0, 0, 0, 0, 0, 0, 0, 1, 0],\n",
       "       [1, 0, 0, 0, 0, 0, 0, 0, 1, 0, 0, 0, 0, 0, 0, 0, 0, 0, 1, 0, 0, 0,\n",
       "        0, 0, 0, 0, 0, 0, 0, 0, 1, 0],\n",
       "       [0, 0, 1, 0, 0, 1, 0, 0, 0, 0, 0, 0, 0, 0, 0, 0, 0, 0, 0, 1, 0, 0,\n",
       "        0, 0, 0, 0, 0, 0, 0, 0, 1, 0],\n",
       "       [0, 0, 1, 0, 0, 0, 0, 0, 0, 0, 0, 0, 0, 0, 0, 0, 0, 0, 0, 0, 1, 0,\n",
       "        0, 0, 0, 0, 0, 1, 0, 0, 1, 0],\n",
       "       [0, 0, 0, 0, 0, 0, 0, 0, 1, 0, 0, 0, 0, 0, 0, 0, 0, 0, 0, 0, 1, 0,\n",
       "        0, 0, 0, 0, 0, 1, 0, 1, 1, 0],\n",
       "       [0, 0, 1, 0, 0, 0, 0, 0, 0, 0, 0, 0, 0, 0, 1, 0, 0, 0, 0, 0, 0, 0,\n",
       "        0, 0, 0, 0, 0, 1, 1, 0, 0, 1]], dtype=int64)"
      ]
     },
     "execution_count": 18,
     "metadata": {},
     "output_type": "execute_result"
    }
   ],
   "source": [
    "x = vectors.toarray()\n",
    "x"
   ]
  },
  {
   "cell_type": "code",
   "execution_count": 19,
   "id": "909aa982-3e4c-4a68-a7ee-51e38ad99bf2",
   "metadata": {},
   "outputs": [
    {
     "data": {
      "text/html": [
       "<div>\n",
       "<style scoped>\n",
       "    .dataframe tbody tr th:only-of-type {\n",
       "        vertical-align: middle;\n",
       "    }\n",
       "\n",
       "    .dataframe tbody tr th {\n",
       "        vertical-align: top;\n",
       "    }\n",
       "\n",
       "    .dataframe thead th {\n",
       "        text-align: right;\n",
       "    }\n",
       "</style>\n",
       "<table border=\"1\" class=\"dataframe\">\n",
       "  <thead>\n",
       "    <tr style=\"text-align: right;\">\n",
       "      <th></th>\n",
       "      <th>tag</th>\n",
       "      <th>patterns</th>\n",
       "      <th>responses</th>\n",
       "      <th>clean_patterns</th>\n",
       "    </tr>\n",
       "  </thead>\n",
       "  <tbody>\n",
       "    <tr>\n",
       "      <th>0</th>\n",
       "      <td>greeting</td>\n",
       "      <td>Hi</td>\n",
       "      <td>[Hello, thanks for visiting, Good to see you a...</td>\n",
       "      <td>hi</td>\n",
       "    </tr>\n",
       "    <tr>\n",
       "      <th>1</th>\n",
       "      <td>greeting</td>\n",
       "      <td>How are you</td>\n",
       "      <td>[Hello, thanks for visiting, Good to see you a...</td>\n",
       "      <td>how are you</td>\n",
       "    </tr>\n",
       "    <tr>\n",
       "      <th>2</th>\n",
       "      <td>greeting</td>\n",
       "      <td>Is anyone there?</td>\n",
       "      <td>[Hello, thanks for visiting, Good to see you a...</td>\n",
       "      <td>is anyone there</td>\n",
       "    </tr>\n",
       "    <tr>\n",
       "      <th>3</th>\n",
       "      <td>greeting</td>\n",
       "      <td>Hello</td>\n",
       "      <td>[Hello, thanks for visiting, Good to see you a...</td>\n",
       "      <td>hello</td>\n",
       "    </tr>\n",
       "    <tr>\n",
       "      <th>4</th>\n",
       "      <td>greeting</td>\n",
       "      <td>Good day</td>\n",
       "      <td>[Hello, thanks for visiting, Good to see you a...</td>\n",
       "      <td>good day</td>\n",
       "    </tr>\n",
       "  </tbody>\n",
       "</table>\n",
       "</div>"
      ],
      "text/plain": [
       "        tag          patterns  \\\n",
       "0  greeting                Hi   \n",
       "1  greeting       How are you   \n",
       "2  greeting  Is anyone there?   \n",
       "3  greeting             Hello   \n",
       "4  greeting          Good day   \n",
       "\n",
       "                                           responses   clean_patterns  \n",
       "0  [Hello, thanks for visiting, Good to see you a...               hi  \n",
       "1  [Hello, thanks for visiting, Good to see you a...      how are you  \n",
       "2  [Hello, thanks for visiting, Good to see you a...  is anyone there  \n",
       "3  [Hello, thanks for visiting, Good to see you a...            hello  \n",
       "4  [Hello, thanks for visiting, Good to see you a...         good day  "
      ]
     },
     "execution_count": 19,
     "metadata": {},
     "output_type": "execute_result"
    }
   ],
   "source": [
    "dataset.head()"
   ]
  },
  {
   "cell_type": "code",
   "execution_count": 20,
   "id": "6d61a2e3-0d8d-47e2-9d48-9f2d1e1d9609",
   "metadata": {},
   "outputs": [
    {
     "data": {
      "text/html": [
       "<div>\n",
       "<style scoped>\n",
       "    .dataframe tbody tr th:only-of-type {\n",
       "        vertical-align: middle;\n",
       "    }\n",
       "\n",
       "    .dataframe tbody tr th {\n",
       "        vertical-align: top;\n",
       "    }\n",
       "\n",
       "    .dataframe thead th {\n",
       "        text-align: right;\n",
       "    }\n",
       "</style>\n",
       "<table border=\"1\" class=\"dataframe\">\n",
       "  <thead>\n",
       "    <tr style=\"text-align: right;\">\n",
       "      <th></th>\n",
       "      <th>tag</th>\n",
       "      <th>patterns</th>\n",
       "      <th>responses</th>\n",
       "      <th>clean_patterns</th>\n",
       "    </tr>\n",
       "  </thead>\n",
       "  <tbody>\n",
       "    <tr>\n",
       "      <th>0</th>\n",
       "      <td>greeting</td>\n",
       "      <td>Hi</td>\n",
       "      <td>[Hello, thanks for visiting, Good to see you a...</td>\n",
       "      <td>hi</td>\n",
       "    </tr>\n",
       "    <tr>\n",
       "      <th>1</th>\n",
       "      <td>greeting</td>\n",
       "      <td>How are you</td>\n",
       "      <td>[Hello, thanks for visiting, Good to see you a...</td>\n",
       "      <td>how are you</td>\n",
       "    </tr>\n",
       "    <tr>\n",
       "      <th>2</th>\n",
       "      <td>greeting</td>\n",
       "      <td>Is anyone there?</td>\n",
       "      <td>[Hello, thanks for visiting, Good to see you a...</td>\n",
       "      <td>is anyone there</td>\n",
       "    </tr>\n",
       "  </tbody>\n",
       "</table>\n",
       "</div>"
      ],
      "text/plain": [
       "        tag          patterns  \\\n",
       "0  greeting                Hi   \n",
       "1  greeting       How are you   \n",
       "2  greeting  Is anyone there?   \n",
       "\n",
       "                                           responses   clean_patterns  \n",
       "0  [Hello, thanks for visiting, Good to see you a...               hi  \n",
       "1  [Hello, thanks for visiting, Good to see you a...      how are you  \n",
       "2  [Hello, thanks for visiting, Good to see you a...  is anyone there  "
      ]
     },
     "execution_count": 20,
     "metadata": {},
     "output_type": "execute_result"
    }
   ],
   "source": [
    "dataset['tag'] = dataset.tag.astype('category')\n",
    "dataset.head(3)"
   ]
  },
  {
   "cell_type": "code",
   "execution_count": 21,
   "id": "e29bb356-a009-4134-896a-b38a19dfe0d6",
   "metadata": {},
   "outputs": [],
   "source": [
    "# print(dataset.tag.cat.codes)"
   ]
  },
  {
   "cell_type": "code",
   "execution_count": 22,
   "id": "b3b49ae9-75f5-44ce-acb0-9ff945207ca0",
   "metadata": {},
   "outputs": [
    {
     "data": {
      "text/plain": [
       "Index(['goodbye', 'greeting', 'hours', 'opentoday', 'payments', 'thanks'], dtype='object')"
      ]
     },
     "execution_count": 22,
     "metadata": {},
     "output_type": "execute_result"
    }
   ],
   "source": [
    "dataset.tag.cat.categories"
   ]
  },
  {
   "cell_type": "code",
   "execution_count": 23,
   "id": "36e9f986-cceb-4631-9c2a-6e1d3c054688",
   "metadata": {},
   "outputs": [
    {
     "data": {
      "text/plain": [
       "{0: 'goodbye',\n",
       " 1: 'greeting',\n",
       " 2: 'hours',\n",
       " 3: 'opentoday',\n",
       " 4: 'payments',\n",
       " 5: 'thanks'}"
      ]
     },
     "execution_count": 23,
     "metadata": {},
     "output_type": "execute_result"
    }
   ],
   "source": [
    "lbl_mapper = dict(enumerate(dataset.tag.cat.categories))\n",
    "lbl_mapper"
   ]
  },
  {
   "cell_type": "code",
   "execution_count": 24,
   "id": "49e95897-01c5-4f97-83f0-8802cc155a7b",
   "metadata": {},
   "outputs": [
    {
     "data": {
      "text/plain": [
       "0     1\n",
       "1     1\n",
       "2     1\n",
       "3     1\n",
       "4     1\n",
       "5     0\n",
       "6     0\n",
       "7     0\n",
       "8     5\n",
       "9     5\n",
       "10    5\n",
       "11    2\n",
       "12    2\n",
       "13    2\n",
       "14    4\n",
       "15    4\n",
       "16    4\n",
       "17    3\n",
       "18    3\n",
       "19    3\n",
       "dtype: int8"
      ]
     },
     "execution_count": 24,
     "metadata": {},
     "output_type": "execute_result"
    }
   ],
   "source": [
    "y = dataset.tag.cat.codes\n",
    "y"
   ]
  },
  {
   "cell_type": "code",
   "execution_count": 25,
   "id": "e3da947f-5b9c-4d98-bf77-29302b95eb9d",
   "metadata": {},
   "outputs": [
    {
     "data": {
      "text/plain": [
       "array([1, 1, 1, 1, 1, 0, 0, 0, 5, 5, 5, 2, 2, 2, 4, 4, 4, 3, 3, 3])"
      ]
     },
     "execution_count": 25,
     "metadata": {},
     "output_type": "execute_result"
    }
   ],
   "source": [
    "# encode the output\n",
    "lb = LabelEncoder()\n",
    "tag_encode = lb.fit_transform(dataset.tag)\n",
    "tag_encode"
   ]
  },
  {
   "cell_type": "code",
   "execution_count": 26,
   "id": "8a8fe306-b7a0-4711-9f74-27c18f87bcc6",
   "metadata": {},
   "outputs": [],
   "source": [
    "# label encoder can also be used"
   ]
  },
  {
   "cell_type": "code",
   "execution_count": 27,
   "id": "fe9d509a-775e-4eab-b6b5-20730885eb3d",
   "metadata": {},
   "outputs": [
    {
     "data": {
      "text/plain": [
       "['lbl_encode.jb']"
      ]
     },
     "execution_count": 27,
     "metadata": {},
     "output_type": "execute_result"
    }
   ],
   "source": [
    "import joblib\n",
    "joblib.dump(tag_encode, 'lbl_encode.jb')"
   ]
  },
  {
   "cell_type": "code",
   "execution_count": 28,
   "id": "c8683c36-e8f5-4a3b-939a-ad2855ec674d",
   "metadata": {},
   "outputs": [
    {
     "data": {
      "text/plain": [
       "(20, 32)"
      ]
     },
     "execution_count": 28,
     "metadata": {},
     "output_type": "execute_result"
    }
   ],
   "source": [
    "x.shape"
   ]
  },
  {
   "cell_type": "code",
   "execution_count": 29,
   "id": "a56d57ef-e328-41ff-94f0-9acfb6331176",
   "metadata": {},
   "outputs": [
    {
     "data": {
      "text/plain": [
       "array([[[0, 0, 0, 0, 0, 0, 0, 0, 0, 0, 0, 0, 0, 1, 0, 0, 0, 0, 0, 0, 0,\n",
       "         0, 0, 0, 0, 0, 0, 0, 0, 0, 0, 0],\n",
       "        [0, 0, 1, 0, 0, 0, 0, 0, 0, 0, 0, 0, 0, 0, 0, 1, 0, 0, 0, 0, 0,\n",
       "         0, 0, 0, 0, 0, 0, 0, 0, 0, 1, 0],\n",
       "        [0, 1, 0, 0, 0, 0, 0, 0, 0, 0, 0, 0, 0, 0, 0, 0, 1, 0, 0, 0, 0,\n",
       "         0, 0, 0, 0, 0, 1, 0, 0, 0, 0, 0],\n",
       "        [0, 0, 0, 0, 0, 0, 0, 0, 0, 0, 0, 1, 0, 0, 0, 0, 0, 0, 0, 0, 0,\n",
       "         0, 0, 0, 0, 0, 0, 0, 0, 0, 0, 0],\n",
       "        [0, 0, 0, 0, 0, 0, 0, 1, 0, 1, 0, 0, 0, 0, 0, 0, 0, 0, 0, 0, 0,\n",
       "         0, 0, 0, 0, 0, 0, 0, 0, 0, 0, 0],\n",
       "        [0, 0, 0, 1, 0, 0, 0, 0, 0, 0, 0, 0, 0, 0, 0, 0, 0, 0, 0, 0, 0,\n",
       "         0, 0, 0, 0, 0, 0, 0, 0, 0, 0, 0],\n",
       "        [0, 0, 0, 0, 0, 0, 0, 0, 0, 0, 0, 0, 0, 0, 0, 0, 0, 1, 0, 0, 0,\n",
       "         1, 0, 0, 0, 0, 0, 0, 0, 0, 1, 0],\n",
       "        [0, 0, 0, 0, 0, 0, 0, 0, 0, 0, 1, 0, 0, 0, 0, 0, 0, 0, 0, 0, 0,\n",
       "         0, 0, 0, 0, 0, 0, 0, 0, 0, 0, 0],\n",
       "        [0, 0, 0, 0, 0, 0, 0, 0, 0, 0, 0, 0, 0, 0, 0, 0, 0, 0, 0, 0, 0,\n",
       "         0, 0, 0, 1, 0, 0, 0, 0, 0, 0, 0],\n",
       "        [0, 0, 0, 0, 0, 0, 0, 0, 0, 0, 0, 0, 0, 0, 0, 0, 0, 0, 0, 0, 0,\n",
       "         0, 0, 1, 0, 0, 0, 0, 0, 0, 1, 0],\n",
       "        [0, 0, 0, 0, 0, 0, 0, 0, 0, 0, 0, 0, 1, 0, 0, 0, 0, 0, 0, 0, 0,\n",
       "         0, 0, 0, 0, 1, 0, 0, 0, 0, 0, 0],\n",
       "        [0, 0, 1, 0, 0, 0, 0, 0, 0, 0, 0, 0, 0, 0, 1, 0, 0, 0, 0, 0, 1,\n",
       "         0, 0, 0, 0, 0, 0, 0, 1, 0, 1, 0],\n",
       "        [0, 0, 1, 0, 0, 0, 0, 0, 0, 0, 0, 0, 0, 0, 1, 0, 0, 0, 0, 0, 0,\n",
       "         0, 0, 0, 0, 0, 0, 0, 1, 0, 0, 1],\n",
       "        [0, 0, 1, 0, 0, 0, 0, 0, 0, 0, 0, 0, 0, 0, 0, 0, 0, 0, 0, 0, 1,\n",
       "         0, 0, 0, 0, 0, 0, 0, 0, 1, 1, 0],\n",
       "        [0, 0, 0, 0, 1, 0, 1, 0, 1, 0, 0, 0, 0, 0, 0, 0, 0, 0, 0, 0, 0,\n",
       "         0, 1, 0, 0, 0, 0, 0, 0, 0, 1, 0],\n",
       "        [1, 0, 0, 0, 0, 0, 0, 0, 1, 0, 0, 0, 0, 0, 0, 0, 0, 0, 1, 0, 0,\n",
       "         0, 0, 0, 0, 0, 0, 0, 0, 0, 1, 0],\n",
       "        [0, 0, 1, 0, 0, 1, 0, 0, 0, 0, 0, 0, 0, 0, 0, 0, 0, 0, 0, 1, 0,\n",
       "         0, 0, 0, 0, 0, 0, 0, 0, 0, 1, 0],\n",
       "        [0, 0, 1, 0, 0, 0, 0, 0, 0, 0, 0, 0, 0, 0, 0, 0, 0, 0, 0, 0, 1,\n",
       "         0, 0, 0, 0, 0, 0, 1, 0, 0, 1, 0],\n",
       "        [0, 0, 0, 0, 0, 0, 0, 0, 1, 0, 0, 0, 0, 0, 0, 0, 0, 0, 0, 0, 1,\n",
       "         0, 0, 0, 0, 0, 0, 1, 0, 1, 1, 0],\n",
       "        [0, 0, 1, 0, 0, 0, 0, 0, 0, 0, 0, 0, 0, 0, 1, 0, 0, 0, 0, 0, 0,\n",
       "         0, 0, 0, 0, 0, 0, 1, 1, 0, 0, 1]]], dtype=int64)"
      ]
     },
     "execution_count": 29,
     "metadata": {},
     "output_type": "execute_result"
    }
   ],
   "source": [
    "import numpy as np\n",
    "x_input = np.expand_dims(x, axis=0)\n",
    "x_input"
   ]
  },
  {
   "cell_type": "code",
   "execution_count": 30,
   "id": "1cdeac51-9b7a-4ad7-b87e-803ff744f83f",
   "metadata": {},
   "outputs": [
    {
     "data": {
      "text/plain": [
       "6"
      ]
     },
     "execution_count": 30,
     "metadata": {},
     "output_type": "execute_result"
    }
   ],
   "source": [
    "output_size = len(y.unique())\n",
    "output_size"
   ]
  },
  {
   "cell_type": "code",
   "execution_count": 31,
   "id": "88cb0342-5e56-457c-99e0-c8b184706814",
   "metadata": {},
   "outputs": [
    {
     "data": {
      "text/plain": [
       "(1, 20, 32)"
      ]
     },
     "execution_count": 31,
     "metadata": {},
     "output_type": "execute_result"
    }
   ],
   "source": [
    "x_input.shape"
   ]
  },
  {
   "cell_type": "code",
   "execution_count": 32,
   "id": "d498441c-9dbe-4c8f-b535-197e3ea5d679",
   "metadata": {},
   "outputs": [
    {
     "data": {
      "text/plain": [
       "(20,)"
      ]
     },
     "execution_count": 32,
     "metadata": {},
     "output_type": "execute_result"
    }
   ],
   "source": [
    "y.shape"
   ]
  },
  {
   "cell_type": "code",
   "execution_count": 33,
   "id": "6cccaec2-5fa1-40a0-b180-125f1abddfb4",
   "metadata": {},
   "outputs": [],
   "source": [
    "# training ... using ANN\n",
    "import tensorflow as tf \n",
    "from tensorflow import keras"
   ]
  },
  {
   "cell_type": "code",
   "execution_count": 34,
   "id": "bed574a9-bb3d-4265-b202-0ae4967442f5",
   "metadata": {},
   "outputs": [
    {
     "name": "stdout",
     "output_type": "stream",
     "text": [
      "Model: \"model\"\n",
      "_________________________________________________________________\n",
      " Layer (type)                Output Shape              Param #   \n",
      "=================================================================\n",
      " input (InputLayer)          [(None, 32)]              0         \n",
      "                                                                 \n",
      " d1 (Dense)                  (None, 128)               4224      \n",
      "                                                                 \n",
      " d2 (Dense)                  (None, 63)                8127      \n",
      "                                                                 \n",
      " output (Dense)              (None, 6)                 384       \n",
      "                                                                 \n",
      "=================================================================\n",
      "Total params: 12,735\n",
      "Trainable params: 12,735\n",
      "Non-trainable params: 0\n",
      "_________________________________________________________________\n"
     ]
    }
   ],
   "source": [
    "# input\n",
    "input_d =  keras.Input(shape=(32, ), name='input')\n",
    "\n",
    "# dense layer\n",
    "d1 = keras.layers.Dense(128, activation='relu', name='d1')(input_d)\n",
    "d2 = keras.layers.Dense(63, activation='relu', name='d2')(d1)\n",
    "\n",
    "# ouput\n",
    "output = keras.layers.Dense(output_size, activation='softmax', name='output')(d2)\n",
    "\n",
    "# build the model \n",
    "bot_model = keras.models.Model(inputs=input_d, outputs=output)\n",
    "\n",
    "# model compilation \n",
    "bot_model.compile(\n",
    "    loss='sparse_categorical_crossentropy', \n",
    "    optimizer='adam',\n",
    "    metrics=['accuracy']\n",
    ")\n",
    "\n",
    "bot_model.summary()"
   ]
  },
  {
   "cell_type": "code",
   "execution_count": 35,
   "id": "0f71d65c-7aa4-4981-81b9-f841d6f2fa15",
   "metadata": {},
   "outputs": [
    {
     "data": {
      "text/plain": [
       "0     1\n",
       "1     1\n",
       "2     1\n",
       "3     1\n",
       "4     1\n",
       "5     0\n",
       "6     0\n",
       "7     0\n",
       "8     5\n",
       "9     5\n",
       "10    5\n",
       "11    2\n",
       "12    2\n",
       "13    2\n",
       "14    4\n",
       "15    4\n",
       "16    4\n",
       "17    3\n",
       "18    3\n",
       "19    3\n",
       "dtype: int8"
      ]
     },
     "execution_count": 35,
     "metadata": {},
     "output_type": "execute_result"
    }
   ],
   "source": [
    "y"
   ]
  },
  {
   "cell_type": "code",
   "execution_count": 36,
   "id": "61845d62-502b-42fa-bb15-8add14bf85fb",
   "metadata": {},
   "outputs": [
    {
     "name": "stdout",
     "output_type": "stream",
     "text": [
      "Epoch 1/30\n",
      "1/1 [==============================] - 4s 4s/step - loss: 1.8837 - accuracy: 0.0500\n",
      "Epoch 2/30\n",
      "1/1 [==============================] - 0s 37ms/step - loss: 1.8434 - accuracy: 0.1000\n",
      "Epoch 3/30\n",
      "1/1 [==============================] - 0s 17ms/step - loss: 1.8051 - accuracy: 0.1500\n",
      "Epoch 4/30\n",
      "1/1 [==============================] - 0s 35ms/step - loss: 1.7688 - accuracy: 0.2500\n",
      "Epoch 5/30\n",
      "1/1 [==============================] - 0s 42ms/step - loss: 1.7340 - accuracy: 0.3000\n",
      "Epoch 6/30\n",
      "1/1 [==============================] - 0s 22ms/step - loss: 1.7012 - accuracy: 0.3500\n",
      "Epoch 7/30\n",
      "1/1 [==============================] - 0s 39ms/step - loss: 1.6703 - accuracy: 0.4500\n",
      "Epoch 8/30\n",
      "1/1 [==============================] - 0s 40ms/step - loss: 1.6407 - accuracy: 0.5000\n",
      "Epoch 9/30\n",
      "1/1 [==============================] - 0s 30ms/step - loss: 1.6120 - accuracy: 0.5000\n",
      "Epoch 10/30\n",
      "1/1 [==============================] - 0s 43ms/step - loss: 1.5839 - accuracy: 0.5500\n",
      "Epoch 11/30\n",
      "1/1 [==============================] - 0s 49ms/step - loss: 1.5567 - accuracy: 0.5500\n",
      "Epoch 12/30\n",
      "1/1 [==============================] - 0s 21ms/step - loss: 1.5300 - accuracy: 0.5500\n",
      "Epoch 13/30\n",
      "1/1 [==============================] - 0s 31ms/step - loss: 1.5033 - accuracy: 0.5500\n",
      "Epoch 14/30\n",
      "1/1 [==============================] - 0s 49ms/step - loss: 1.4768 - accuracy: 0.6500\n",
      "Epoch 15/30\n",
      "1/1 [==============================] - 0s 134ms/step - loss: 1.4504 - accuracy: 0.7000\n",
      "Epoch 16/30\n",
      "1/1 [==============================] - 0s 64ms/step - loss: 1.4239 - accuracy: 0.7000\n",
      "Epoch 17/30\n",
      "1/1 [==============================] - 0s 169ms/step - loss: 1.3973 - accuracy: 0.7000\n",
      "Epoch 18/30\n",
      "1/1 [==============================] - 0s 56ms/step - loss: 1.3708 - accuracy: 0.7000\n",
      "Epoch 19/30\n",
      "1/1 [==============================] - 0s 172ms/step - loss: 1.3443 - accuracy: 0.7000\n",
      "Epoch 20/30\n",
      "1/1 [==============================] - 0s 57ms/step - loss: 1.3175 - accuracy: 0.8000\n",
      "Epoch 21/30\n",
      "1/1 [==============================] - 0s 261ms/step - loss: 1.2908 - accuracy: 0.8000\n",
      "Epoch 22/30\n",
      "1/1 [==============================] - 0s 46ms/step - loss: 1.2639 - accuracy: 0.8000\n",
      "Epoch 23/30\n",
      "1/1 [==============================] - 0s 60ms/step - loss: 1.2365 - accuracy: 0.8000\n",
      "Epoch 24/30\n",
      "1/1 [==============================] - 0s 30ms/step - loss: 1.2092 - accuracy: 0.8500\n",
      "Epoch 25/30\n",
      "1/1 [==============================] - 0s 58ms/step - loss: 1.1817 - accuracy: 0.8500\n",
      "Epoch 26/30\n",
      "1/1 [==============================] - 0s 67ms/step - loss: 1.1539 - accuracy: 0.8500\n",
      "Epoch 27/30\n",
      "1/1 [==============================] - 0s 37ms/step - loss: 1.1259 - accuracy: 0.9000\n",
      "Epoch 28/30\n",
      "1/1 [==============================] - 0s 147ms/step - loss: 1.0975 - accuracy: 0.9000\n",
      "Epoch 29/30\n",
      "1/1 [==============================] - 0s 24ms/step - loss: 1.0689 - accuracy: 0.9000\n",
      "Epoch 30/30\n",
      "1/1 [==============================] - 0s 18ms/step - loss: 1.0399 - accuracy: 0.9000\n"
     ]
    },
    {
     "data": {
      "text/plain": [
       "<keras.callbacks.History at 0x26f6e437af0>"
      ]
     },
     "execution_count": 36,
     "metadata": {},
     "output_type": "execute_result"
    }
   ],
   "source": [
    "bot_model.fit(x=x, y=y, epochs=30)"
   ]
  },
  {
   "cell_type": "code",
   "execution_count": 37,
   "id": "2bcc0f63-ddfd-49e1-9074-2e548ad0098a",
   "metadata": {},
   "outputs": [
    {
     "name": "stdout",
     "output_type": "stream",
     "text": [
      "Keras weights file (<HDF5 file \"variables.h5\" (mode r+)>) saving:\n",
      "...layers\\dense\n",
      "......vars\n",
      ".........0\n",
      ".........1\n",
      "...layers\\dense_1\n",
      "......vars\n",
      ".........0\n",
      ".........1\n",
      "...layers\\dense_2\n",
      "......vars\n",
      ".........0\n",
      ".........1\n",
      "...layers\\input_layer\n",
      "......vars\n",
      "...metrics\\mean\n",
      "......vars\n",
      ".........0\n",
      ".........1\n",
      "...metrics\\mean_metric_wrapper\n",
      "......vars\n",
      ".........0\n",
      ".........1\n",
      "...optimizer\n",
      "......vars\n",
      ".........0\n",
      ".........1\n",
      ".........10\n",
      ".........11\n",
      ".........12\n",
      ".........2\n",
      ".........3\n",
      ".........4\n",
      ".........5\n",
      ".........6\n",
      ".........7\n",
      ".........8\n",
      ".........9\n",
      "...vars\n",
      "Keras model archive saving:\n",
      "File Name                                             Modified             Size\n",
      "config.json                                    2024-08-08 18:41:16         2086\n",
      "metadata.json                                  2024-08-08 18:41:16           64\n",
      "variables.h5                                   2024-08-08 18:41:16       176496\n"
     ]
    },
    {
     "data": {
      "text/plain": [
       "['bot_model_v1.jb']"
      ]
     },
     "execution_count": 37,
     "metadata": {},
     "output_type": "execute_result"
    }
   ],
   "source": [
    "import joblib\n",
    "joblib.dump(bot_model, 'bot_model_v1.jb')"
   ]
  },
  {
   "cell_type": "code",
   "execution_count": null,
   "id": "59d9850d-ecb9-4247-b928-9c4aff16593e",
   "metadata": {},
   "outputs": [],
   "source": []
  },
  {
   "cell_type": "code",
   "execution_count": 38,
   "id": "3bd7e296-8dd1-418f-a0fd-84bda4b92d01",
   "metadata": {},
   "outputs": [
    {
     "name": "stdout",
     "output_type": "stream",
     "text": [
      "Keras model archive loading:\n",
      "File Name                                             Modified             Size\n",
      "config.json                                    2024-08-08 18:41:16         2086\n",
      "metadata.json                                  2024-08-08 18:41:16           64\n",
      "variables.h5                                   2024-08-08 18:41:16       176496\n",
      "Keras weights file (<HDF5 file \"variables.h5\" (mode r)>) loading:\n",
      "...layers\\dense\n",
      "......vars\n",
      ".........0\n",
      ".........1\n",
      "...layers\\dense_1\n",
      "......vars\n",
      ".........0\n",
      ".........1\n",
      "...layers\\dense_2\n",
      "......vars\n",
      ".........0\n",
      ".........1\n",
      "...layers\\input_layer\n",
      "......vars\n",
      "...metrics\\mean\n",
      "......vars\n",
      ".........0\n",
      ".........1\n",
      "...metrics\\mean_metric_wrapper\n",
      "......vars\n",
      ".........0\n",
      ".........1\n",
      "...optimizer\n",
      "......vars\n",
      ".........0\n",
      ".........1\n",
      ".........10\n",
      ".........11\n",
      ".........12\n",
      ".........2\n",
      ".........3\n",
      ".........4\n",
      ".........5\n",
      ".........6\n",
      ".........7\n",
      ".........8\n",
      ".........9\n",
      "...vars\n"
     ]
    }
   ],
   "source": [
    "bot_m = joblib.load('bot_model_v1.jb')\n",
    "# load model\n",
    "# bot_model"
   ]
  },
  {
   "cell_type": "code",
   "execution_count": 39,
   "id": "146e75e5-d714-4275-9a34-ccfa55e52210",
   "metadata": {
    "scrolled": true
   },
   "outputs": [],
   "source": [
    "# prompt\n",
    "sample_text = 'what hours do you guys open'\n",
    "# cv.transform(sample_text)"
   ]
  },
  {
   "cell_type": "code",
   "execution_count": 40,
   "id": "a5cf7af2-783e-4559-88c0-27e6cb6c09e7",
   "metadata": {},
   "outputs": [
    {
     "data": {
      "text/plain": [
       "'what hours do you guys open'"
      ]
     },
     "execution_count": 40,
     "metadata": {},
     "output_type": "execute_result"
    }
   ],
   "source": [
    "# clean\n",
    "clean_input = clean_data(sample_text)\n",
    "clean_input"
   ]
  },
  {
   "cell_type": "code",
   "execution_count": 41,
   "id": "513f20e4-2beb-4ec5-81f3-71a1d0694e7c",
   "metadata": {},
   "outputs": [
    {
     "data": {
      "text/plain": [
       "array([[0, 0, 0, 0, 0, 0, 0, 0, 1, 0, 0, 0, 0, 0, 1, 0, 0, 0, 0, 0, 1, 0,\n",
       "        0, 0, 0, 0, 0, 0, 1, 0, 1, 0]], dtype=int64)"
      ]
     },
     "execution_count": 41,
     "metadata": {},
     "output_type": "execute_result"
    }
   ],
   "source": [
    "# vectorize \n",
    "input_vec = cv.transform([clean_input])\n",
    "input_vec.toarray()"
   ]
  },
  {
   "cell_type": "code",
   "execution_count": 42,
   "id": "a9a0af4e-c88c-47ba-8840-2eadbf3751e1",
   "metadata": {},
   "outputs": [
    {
     "name": "stdout",
     "output_type": "stream",
     "text": [
      "1/1 [==============================] - 0s 484ms/step\n"
     ]
    },
    {
     "data": {
      "text/plain": [
       "array([[0.04402477, 0.0514805 , 0.40310618, 0.1712495 , 0.27230245,\n",
       "        0.0578366 ]], dtype=float32)"
      ]
     },
     "execution_count": 42,
     "metadata": {},
     "output_type": "execute_result"
    }
   ],
   "source": [
    "# predict\n",
    "prediction = bot_model.predict(input_vec)\n",
    "prediction"
   ]
  },
  {
   "cell_type": "code",
   "execution_count": 43,
   "id": "ff771296-d521-4b4c-bd1e-e4f26140dad4",
   "metadata": {},
   "outputs": [
    {
     "data": {
      "text/plain": [
       "2"
      ]
     },
     "execution_count": 43,
     "metadata": {},
     "output_type": "execute_result"
    }
   ],
   "source": [
    "# indexing prediction\n",
    "predicted = [np.argmax(pre) for pre in prediction][0]\n",
    "predicted"
   ]
  },
  {
   "cell_type": "code",
   "execution_count": 44,
   "id": "cb846251-a6c9-4134-beb9-66d413a87f8b",
   "metadata": {},
   "outputs": [
    {
     "data": {
      "text/plain": [
       "'hours'"
      ]
     },
     "execution_count": 44,
     "metadata": {},
     "output_type": "execute_result"
    }
   ],
   "source": [
    "# getting the value for label mapper \n",
    "pre = lbl_mapper[predicted]\n",
    "pre"
   ]
  },
  {
   "cell_type": "code",
   "execution_count": 45,
   "id": "655ef44c-4314-4a9f-87a5-692ff77972fa",
   "metadata": {},
   "outputs": [
    {
     "data": {
      "text/plain": [
       "'Our hours are 9am-9pm every day'"
      ]
     },
     "execution_count": 45,
     "metadata": {},
     "output_type": "execute_result"
    }
   ],
   "source": [
    "def get_response(dataset, pre): \n",
    "    response = dataset['responses'][dataset['tag'] == pre].tolist()[-1]\n",
    "    return np.random.choice(response)\n",
    "\n",
    "get_response(dataset, pre)"
   ]
  },
  {
   "cell_type": "code",
   "execution_count": null,
   "id": "49fb0372-821a-4795-8858-d011a75442f5",
   "metadata": {},
   "outputs": [],
   "source": []
  },
  {
   "cell_type": "code",
   "execution_count": 51,
   "id": "9e3ab180-912b-4d7e-8a56-6c86806d8d4b",
   "metadata": {},
   "outputs": [
    {
     "name": "stdin",
     "output_type": "stream",
     "text": [
      "User: hello\n"
     ]
    },
    {
     "name": "stdout",
     "output_type": "stream",
     "text": [
      "1/1 [==============================] - 0s 77ms/step\n",
      "1\n",
      "greeting\n",
      "Bot:  Good to see you again\n"
     ]
    },
    {
     "name": "stdin",
     "output_type": "stream",
     "text": [
      "User: how was today\n"
     ]
    },
    {
     "name": "stdout",
     "output_type": "stream",
     "text": [
      "1/1 [==============================] - 0s 75ms/step\n",
      "3\n",
      "opentoday\n",
      "Bot:  Our hours are 9am-9pm every day\n"
     ]
    },
    {
     "name": "stdin",
     "output_type": "stream",
     "text": [
      "User: okk\n"
     ]
    },
    {
     "name": "stdout",
     "output_type": "stream",
     "text": [
      "1/1 [==============================] - 0s 31ms/step\n",
      "5\n",
      "thanks\n",
      "Bot:  Happy to help!\n"
     ]
    },
    {
     "name": "stdin",
     "output_type": "stream",
     "text": [
      "User: what time do you open\n"
     ]
    },
    {
     "name": "stdout",
     "output_type": "stream",
     "text": [
      "1/1 [==============================] - 0s 45ms/step\n",
      "2\n",
      "hours\n",
      "Bot:  Our hours are 9am-9pm every day\n"
     ]
    },
    {
     "name": "stdin",
     "output_type": "stream",
     "text": [
      "User: good\n"
     ]
    },
    {
     "name": "stdout",
     "output_type": "stream",
     "text": [
      "1/1 [==============================] - 0s 38ms/step\n",
      "1\n",
      "greeting\n",
      "Bot:  Hi there, how can I help?\n"
     ]
    },
    {
     "name": "stdin",
     "output_type": "stream",
     "text": [
      "User: bye\n"
     ]
    },
    {
     "name": "stdout",
     "output_type": "stream",
     "text": [
      "1/1 [==============================] - 0s 40ms/step\n",
      "0\n",
      "goodbye\n",
      "Bot:  Have a nice day\n"
     ]
    }
   ],
   "source": [
    "\n",
    "# peform operation on all patterns\n",
    "def clean_data(texts):\n",
    "    # texts = ' '.join(texts)\n",
    "    return ''.join([stemmer.stem(text) for text in texts if not text in string.punctuation])\n",
    "\n",
    "def get_response(dataset, pre): \n",
    "    response = dataset['responses'][dataset['tag'] == pre].tolist()[-1]\n",
    "    return np.random.choice(response)\n",
    "\n",
    "# bot engine\n",
    "def bot(text):\n",
    "    clean_input = clean_data(text.lower())\n",
    "    input_vec = cv.transform([clean_input])\n",
    "    prediction = bot_model.predict(input_vec)\n",
    "    predicted = [np.argmax(pre) for pre in prediction][0]\n",
    "    print(predicted)\n",
    "    pre = lbl_mapper[predicted]\n",
    "    print(pre)\n",
    "    response = get_response(dataset, pre)\n",
    "    return response, pre\n",
    "\n",
    "# goodbye\n",
    "while True: \n",
    "    text = input('User:', )\n",
    "    if text == '-1': \n",
    "        print('Bot: ', 'have a great day....' )\n",
    "        break\n",
    "\n",
    "    response, pre = bot(text)\n",
    "    print('Bot: ', response )\n",
    "    if pre=='goodbye':\n",
    "        break\n",
    "    \n",
    "\n",
    "    "
   ]
  },
  {
   "cell_type": "code",
   "execution_count": null,
   "id": "37b47895-a6c0-4a08-abf7-21d4429b6d72",
   "metadata": {},
   "outputs": [],
   "source": []
  },
  {
   "cell_type": "code",
   "execution_count": 49,
   "id": "96d2790b-e99d-41d1-9fe8-b3d74d053aa8",
   "metadata": {},
   "outputs": [
    {
     "data": {
      "text/plain": [
       "{0: 'goodbye',\n",
       " 1: 'greeting',\n",
       " 2: 'hours',\n",
       " 3: 'opentoday',\n",
       " 4: 'payments',\n",
       " 5: 'thanks'}"
      ]
     },
     "execution_count": 49,
     "metadata": {},
     "output_type": "execute_result"
    }
   ],
   "source": [
    "lbl_mapper"
   ]
  },
  {
   "cell_type": "code",
   "execution_count": null,
   "id": "e454ae18-38ad-480c-b3e0-708bef2df612",
   "metadata": {},
   "outputs": [],
   "source": []
  }
 ],
 "metadata": {
  "kernelspec": {
   "display_name": "Python 3 (ipykernel)",
   "language": "python",
   "name": "python3"
  },
  "language_info": {
   "codemirror_mode": {
    "name": "ipython",
    "version": 3
   },
   "file_extension": ".py",
   "mimetype": "text/x-python",
   "name": "python",
   "nbconvert_exporter": "python",
   "pygments_lexer": "ipython3",
   "version": "3.9.5"
  }
 },
 "nbformat": 4,
 "nbformat_minor": 5
}
