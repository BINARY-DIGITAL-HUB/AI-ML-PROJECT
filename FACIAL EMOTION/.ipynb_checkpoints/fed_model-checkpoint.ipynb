{
 "cells": [
  {
   "cell_type": "code",
   "execution_count": 2,
   "id": "04a30f17-b645-45e9-9455-d8c16a9c6315",
   "metadata": {
    "scrolled": true
   },
   "outputs": [
    {
     "name": "stdout",
     "output_type": "stream",
     "text": [
      "Requirement already satisfied: tensorflow in c:\\users\\hp\\appdata\\roaming\\python\\python39\\site-packages (2.10.1)\n",
      "Requirement already satisfied: absl-py>=1.0.0 in c:\\users\\hp\\appdata\\local\\programs\\python\\python39\\lib\\site-packages (from tensorflow) (1.4.0)\n",
      "Requirement already satisfied: astunparse>=1.6.0 in c:\\users\\hp\\appdata\\local\\programs\\python\\python39\\lib\\site-packages (from tensorflow) (1.6.3)\n",
      "Requirement already satisfied: flatbuffers>=2.0 in c:\\users\\hp\\appdata\\local\\programs\\python\\python39\\lib\\site-packages (from tensorflow) (23.3.3)\n",
      "Requirement already satisfied: gast<=0.4.0,>=0.2.1 in c:\\users\\hp\\appdata\\local\\programs\\python\\python39\\lib\\site-packages (from tensorflow) (0.4.0)\n",
      "Requirement already satisfied: google-pasta>=0.1.1 in c:\\users\\hp\\appdata\\local\\programs\\python\\python39\\lib\\site-packages (from tensorflow) (0.2.0)\n",
      "Requirement already satisfied: h5py>=2.9.0 in c:\\users\\hp\\appdata\\local\\programs\\python\\python39\\lib\\site-packages (from tensorflow) (3.8.0)\n",
      "Requirement already satisfied: keras-preprocessing>=1.1.1 in c:\\users\\hp\\appdata\\local\\programs\\python\\python39\\lib\\site-packages (from tensorflow) (1.1.2)\n",
      "Requirement already satisfied: libclang>=13.0.0 in c:\\users\\hp\\appdata\\local\\programs\\python\\python39\\lib\\site-packages (from tensorflow) (16.0.0)\n",
      "Requirement already satisfied: numpy>=1.20 in c:\\users\\hp\\appdata\\local\\programs\\python\\python39\\lib\\site-packages (from tensorflow) (1.23.5)\n",
      "Requirement already satisfied: opt-einsum>=2.3.2 in c:\\users\\hp\\appdata\\local\\programs\\python\\python39\\lib\\site-packages (from tensorflow) (3.3.0)\n",
      "Requirement already satisfied: packaging in c:\\users\\hp\\appdata\\roaming\\python\\python39\\site-packages (from tensorflow) (23.0)\n",
      "Requirement already satisfied: protobuf<3.20,>=3.9.2 in c:\\users\\hp\\appdata\\local\\programs\\python\\python39\\lib\\site-packages (from tensorflow) (3.19.0)\n",
      "Requirement already satisfied: setuptools in c:\\users\\hp\\appdata\\local\\programs\\python\\python39\\lib\\site-packages (from tensorflow) (56.0.0)\n",
      "Requirement already satisfied: six>=1.12.0 in c:\\users\\hp\\appdata\\roaming\\python\\python39\\site-packages (from tensorflow) (1.16.0)\n",
      "Requirement already satisfied: termcolor>=1.1.0 in c:\\users\\hp\\appdata\\local\\programs\\python\\python39\\lib\\site-packages (from tensorflow) (2.2.0)\n",
      "Requirement already satisfied: typing-extensions>=3.6.6 in c:\\users\\hp\\appdata\\local\\programs\\python\\python39\\lib\\site-packages (from tensorflow) (4.5.0)\n",
      "Requirement already satisfied: wrapt>=1.11.0 in c:\\users\\hp\\appdata\\local\\programs\\python\\python39\\lib\\site-packages (from tensorflow) (1.15.0)\n",
      "Requirement already satisfied: tensorflow-io-gcs-filesystem>=0.23.1 in c:\\users\\hp\\appdata\\local\\programs\\python\\python39\\lib\\site-packages (from tensorflow) (0.31.0)\n",
      "Requirement already satisfied: grpcio<2.0,>=1.24.3 in c:\\users\\hp\\appdata\\local\\programs\\python\\python39\\lib\\site-packages (from tensorflow) (1.53.0)\n",
      "Requirement already satisfied: tensorboard<2.11,>=2.10 in c:\\users\\hp\\appdata\\local\\programs\\python\\python39\\lib\\site-packages (from tensorflow) (2.10.1)\n",
      "Requirement already satisfied: tensorflow-estimator<2.11,>=2.10.0 in c:\\users\\hp\\appdata\\local\\programs\\python\\python39\\lib\\site-packages (from tensorflow) (2.10.0)\n",
      "Requirement already satisfied: keras<2.11,>=2.10.0 in c:\\users\\hp\\appdata\\local\\programs\\python\\python39\\lib\\site-packages (from tensorflow) (2.10.0)\n",
      "Requirement already satisfied: wheel<1.0,>=0.23.0 in c:\\users\\hp\\appdata\\local\\programs\\python\\python39\\lib\\site-packages (from astunparse>=1.6.0->tensorflow) (0.40.0)\n",
      "Requirement already satisfied: google-auth<3,>=1.6.3 in c:\\users\\hp\\appdata\\local\\programs\\python\\python39\\lib\\site-packages (from tensorboard<2.11,>=2.10->tensorflow) (2.17.2)\n",
      "Requirement already satisfied: google-auth-oauthlib<0.5,>=0.4.1 in c:\\users\\hp\\appdata\\local\\programs\\python\\python39\\lib\\site-packages (from tensorboard<2.11,>=2.10->tensorflow) (0.4.6)\n",
      "Requirement already satisfied: markdown>=2.6.8 in c:\\users\\hp\\appdata\\local\\programs\\python\\python39\\lib\\site-packages (from tensorboard<2.11,>=2.10->tensorflow) (3.4.3)\n",
      "Requirement already satisfied: requests<3,>=2.21.0 in c:\\users\\hp\\appdata\\local\\programs\\python\\python39\\lib\\site-packages (from tensorboard<2.11,>=2.10->tensorflow) (2.28.2)\n",
      "Requirement already satisfied: tensorboard-data-server<0.7.0,>=0.6.0 in c:\\users\\hp\\appdata\\local\\programs\\python\\python39\\lib\\site-packages (from tensorboard<2.11,>=2.10->tensorflow) (0.6.1)\n",
      "Requirement already satisfied: tensorboard-plugin-wit>=1.6.0 in c:\\users\\hp\\appdata\\local\\programs\\python\\python39\\lib\\site-packages (from tensorboard<2.11,>=2.10->tensorflow) (1.8.1)\n",
      "Requirement already satisfied: werkzeug>=1.0.1 in c:\\users\\hp\\appdata\\local\\programs\\python\\python39\\lib\\site-packages (from tensorboard<2.11,>=2.10->tensorflow) (2.3.6)\n",
      "Requirement already satisfied: cachetools<6.0,>=2.0.0 in c:\\users\\hp\\appdata\\local\\programs\\python\\python39\\lib\\site-packages (from google-auth<3,>=1.6.3->tensorboard<2.11,>=2.10->tensorflow) (5.3.0)\n",
      "Requirement already satisfied: pyasn1-modules>=0.2.1 in c:\\users\\hp\\appdata\\local\\programs\\python\\python39\\lib\\site-packages (from google-auth<3,>=1.6.3->tensorboard<2.11,>=2.10->tensorflow) (0.2.8)\n",
      "Requirement already satisfied: rsa<5,>=3.1.4 in c:\\users\\hp\\appdata\\local\\programs\\python\\python39\\lib\\site-packages (from google-auth<3,>=1.6.3->tensorboard<2.11,>=2.10->tensorflow) (4.9)\n",
      "Requirement already satisfied: requests-oauthlib>=0.7.0 in c:\\users\\hp\\appdata\\local\\programs\\python\\python39\\lib\\site-packages (from google-auth-oauthlib<0.5,>=0.4.1->tensorboard<2.11,>=2.10->tensorflow) (1.3.1)\n",
      "Requirement already satisfied: importlib-metadata>=4.4 in c:\\users\\hp\\appdata\\roaming\\python\\python39\\site-packages (from markdown>=2.6.8->tensorboard<2.11,>=2.10->tensorflow) (6.1.0)\n",
      "Requirement already satisfied: charset-normalizer<4,>=2 in c:\\users\\hp\\appdata\\local\\programs\\python\\python39\\lib\\site-packages (from requests<3,>=2.21.0->tensorboard<2.11,>=2.10->tensorflow) (3.1.0)\n",
      "Requirement already satisfied: idna<4,>=2.5 in c:\\users\\hp\\appdata\\local\\programs\\python\\python39\\lib\\site-packages (from requests<3,>=2.21.0->tensorboard<2.11,>=2.10->tensorflow) (3.4)\n",
      "Requirement already satisfied: urllib3<1.27,>=1.21.1 in c:\\users\\hp\\appdata\\local\\programs\\python\\python39\\lib\\site-packages (from requests<3,>=2.21.0->tensorboard<2.11,>=2.10->tensorflow) (1.26.15)\n",
      "Requirement already satisfied: certifi>=2017.4.17 in c:\\users\\hp\\appdata\\local\\programs\\python\\python39\\lib\\site-packages (from requests<3,>=2.21.0->tensorboard<2.11,>=2.10->tensorflow) (2022.12.7)\n",
      "Requirement already satisfied: MarkupSafe>=2.1.1 in c:\\users\\hp\\appdata\\local\\programs\\python\\python39\\lib\\site-packages (from werkzeug>=1.0.1->tensorboard<2.11,>=2.10->tensorflow) (2.1.2)\n",
      "Requirement already satisfied: zipp>=0.5 in c:\\users\\hp\\appdata\\roaming\\python\\python39\\site-packages (from importlib-metadata>=4.4->markdown>=2.6.8->tensorboard<2.11,>=2.10->tensorflow) (3.15.0)\n",
      "Requirement already satisfied: pyasn1<0.5.0,>=0.4.6 in c:\\users\\hp\\appdata\\local\\programs\\python\\python39\\lib\\site-packages (from pyasn1-modules>=0.2.1->google-auth<3,>=1.6.3->tensorboard<2.11,>=2.10->tensorflow) (0.4.8)\n",
      "Requirement already satisfied: oauthlib>=3.0.0 in c:\\users\\hp\\appdata\\local\\programs\\python\\python39\\lib\\site-packages (from requests-oauthlib>=0.7.0->google-auth-oauthlib<0.5,>=0.4.1->tensorboard<2.11,>=2.10->tensorflow) (3.2.2)\n"
     ]
    },
    {
     "name": "stderr",
     "output_type": "stream",
     "text": [
      "WARNING: Ignoring invalid distribution -otebook (c:\\users\\hp\\appdata\\local\\programs\\python\\python39\\lib\\site-packages)\n",
      "WARNING: Ignoring invalid distribution -pencv-python (c:\\users\\hp\\appdata\\local\\programs\\python\\python39\\lib\\site-packages)\n",
      "WARNING: Ignoring invalid distribution -pencv-python-headless (c:\\users\\hp\\appdata\\local\\programs\\python\\python39\\lib\\site-packages)\n",
      "WARNING: Ignoring invalid distribution -rotobuf (c:\\users\\hp\\appdata\\local\\programs\\python\\python39\\lib\\site-packages)\n",
      "WARNING: Ignoring invalid distribution -upyterlab (c:\\users\\hp\\appdata\\local\\programs\\python\\python39\\lib\\site-packages)\n",
      "WARNING: Ignoring invalid distribution -otebook (c:\\users\\hp\\appdata\\local\\programs\\python\\python39\\lib\\site-packages)\n",
      "WARNING: Ignoring invalid distribution -pencv-python (c:\\users\\hp\\appdata\\local\\programs\\python\\python39\\lib\\site-packages)\n",
      "WARNING: Ignoring invalid distribution -pencv-python-headless (c:\\users\\hp\\appdata\\local\\programs\\python\\python39\\lib\\site-packages)\n",
      "WARNING: Ignoring invalid distribution -rotobuf (c:\\users\\hp\\appdata\\local\\programs\\python\\python39\\lib\\site-packages)\n",
      "WARNING: Ignoring invalid distribution -upyterlab (c:\\users\\hp\\appdata\\local\\programs\\python\\python39\\lib\\site-packages)\n",
      "\n",
      "[notice] A new release of pip is available: 23.2.1 -> 24.0\n",
      "[notice] To update, run: python.exe -m pip install --upgrade pip\n"
     ]
    }
   ],
   "source": [
    "# !pip install tensorflow"
   ]
  },
  {
   "cell_type": "code",
   "execution_count": 38,
   "id": "d7974efc-247d-49b4-809a-8cc888626464",
   "metadata": {},
   "outputs": [],
   "source": [
    "import tensorboard as tf \n",
    "import numpy as np \n",
    "import matplotlib.pyplot as plt\n",
    "import pathlib\n",
    "import warnings\n",
    "import glob\n",
    "import PIL\n",
    "import cv2 as cv\n",
    "import cv2\n",
    "warnings.filterwarnings('ignore')"
   ]
  },
  {
   "cell_type": "code",
   "execution_count": 39,
   "id": "57fe55cf-4463-4c30-971b-598e7c3420b9",
   "metadata": {},
   "outputs": [
    {
     "data": {
      "text/plain": [
       "WindowsPath('emotion')"
      ]
     },
     "execution_count": 39,
     "metadata": {},
     "output_type": "execute_result"
    }
   ],
   "source": [
    "train_url = 'emotion/'\n",
    "win_path = pathlib.Path(train_url)\n",
    "win_path"
   ]
  },
  {
   "cell_type": "code",
   "execution_count": 40,
   "id": "87820a3a-3672-42f7-b77e-1957aa9364ca",
   "metadata": {},
   "outputs": [
    {
     "data": {
      "text/plain": [
       "[WindowsPath('emotion/train/angry/im0.png'),\n",
       " WindowsPath('emotion/train/angry/im1.png'),\n",
       " WindowsPath('emotion/train/angry/im10.png'),\n",
       " WindowsPath('emotion/train/angry/im100.png'),\n",
       " WindowsPath('emotion/train/angry/im1000.png')]"
      ]
     },
     "execution_count": 40,
     "metadata": {},
     "output_type": "execute_result"
    }
   ],
   "source": [
    "train_path = list(win_path.glob('train/*/*.*'))\n",
    "train_path[:5]"
   ]
  },
  {
   "cell_type": "code",
   "execution_count": 41,
   "id": "d1286805-21f2-4c83-8c32-acedb9c86d01",
   "metadata": {},
   "outputs": [
    {
     "data": {
      "text/plain": [
       "[WindowsPath('emotion/test/angry/im0.png'),\n",
       " WindowsPath('emotion/test/angry/im1.png'),\n",
       " WindowsPath('emotion/test/angry/im10.png'),\n",
       " WindowsPath('emotion/test/angry/im100.png'),\n",
       " WindowsPath('emotion/test/angry/im101.png')]"
      ]
     },
     "execution_count": 41,
     "metadata": {},
     "output_type": "execute_result"
    }
   ],
   "source": [
    "test_path = list(win_path.glob('test/*/*.*'))\n",
    "test_path[:5]"
   ]
  },
  {
   "cell_type": "code",
   "execution_count": 42,
   "id": "95ec7810-dabe-43e6-b037-e0b5951fc7e6",
   "metadata": {},
   "outputs": [
    {
     "data": {
      "text/plain": [
       "28709"
      ]
     },
     "execution_count": 42,
     "metadata": {},
     "output_type": "execute_result"
    }
   ],
   "source": [
    "# size\n",
    "len(train_path)"
   ]
  },
  {
   "cell_type": "code",
   "execution_count": 43,
   "id": "32e565ac-0901-4d8e-8deb-fd86a3461821",
   "metadata": {},
   "outputs": [
    {
     "data": {
      "text/plain": [
       "7178"
      ]
     },
     "execution_count": 43,
     "metadata": {},
     "output_type": "execute_result"
    }
   ],
   "source": [
    "len(test_path)"
   ]
  },
  {
   "cell_type": "code",
   "execution_count": 44,
   "id": "fef3c082-1d67-4adb-b800-c513f0db0eb2",
   "metadata": {},
   "outputs": [
    {
     "data": {
      "image/jpeg": "[encoded data removed]",
      "image/png": "[encoded data removed]",
      "text/plain": [
       "<PIL.PngImagePlugin.PngImageFile image mode=L size=48x48>"
      ]
     },
     "execution_count": 44,
     "metadata": {},
     "output_type": "execute_result"
    }
   ],
   "source": [
    "PIL.Image.open(str(train_path[0]))"
   ]
  },
  {
   "cell_type": "code",
   "execution_count": 45,
   "id": "eb29f661-b363-4491-a464-433e29a4a068",
   "metadata": {},
   "outputs": [
    {
     "data": {
      "text/plain": [
       "array([[[ 70,  70,  70],\n",
       "        [ 80,  80,  80],\n",
       "        [ 82,  82,  82],\n",
       "        ...,\n",
       "        [ 52,  52,  52],\n",
       "        [ 43,  43,  43],\n",
       "        [ 41,  41,  41]],\n",
       "\n",
       "       [[ 65,  65,  65],\n",
       "        [ 61,  61,  61],\n",
       "        [ 58,  58,  58],\n",
       "        ...,\n",
       "        [ 56,  56,  56],\n",
       "        [ 52,  52,  52],\n",
       "        [ 44,  44,  44]],\n",
       "\n",
       "       [[ 50,  50,  50],\n",
       "        [ 43,  43,  43],\n",
       "        [ 54,  54,  54],\n",
       "        ...,\n",
       "        [ 49,  49,  49],\n",
       "        [ 56,  56,  56],\n",
       "        [ 47,  47,  47]],\n",
       "\n",
       "       ...,\n",
       "\n",
       "       [[ 91,  91,  91],\n",
       "        [ 65,  65,  65],\n",
       "        [ 42,  42,  42],\n",
       "        ...,\n",
       "        [ 72,  72,  72],\n",
       "        [ 56,  56,  56],\n",
       "        [ 43,  43,  43]],\n",
       "\n",
       "       [[ 77,  77,  77],\n",
       "        [ 82,  82,  82],\n",
       "        [ 79,  79,  79],\n",
       "        ...,\n",
       "        [105, 105, 105],\n",
       "        [ 70,  70,  70],\n",
       "        [ 46,  46,  46]],\n",
       "\n",
       "       [[ 77,  77,  77],\n",
       "        [ 72,  72,  72],\n",
       "        [ 84,  84,  84],\n",
       "        ...,\n",
       "        [106, 106, 106],\n",
       "        [109, 109, 109],\n",
       "        [ 82,  82,  82]]], dtype=uint8)"
      ]
     },
     "execution_count": 45,
     "metadata": {},
     "output_type": "execute_result"
    }
   ],
   "source": [
    "sample_img = cv.imread(str(train_path[0]))\n",
    "sample_img"
   ]
  },
  {
   "cell_type": "code",
   "execution_count": 46,
   "id": "0286639b-8f97-471f-bded-2eea947cbb21",
   "metadata": {},
   "outputs": [],
   "source": [
    "# reading actual images\n",
    "\n",
    "train_dict = {\n",
    "    'angry': list(win_path.glob('train/angry/*.*')), \n",
    "    'disgusted': list(win_path.glob('train/disgusted/*.*')), \n",
    "    'fearful': list(win_path.glob('train/fearful/*.*')), \n",
    "    'happy': list(win_path.glob('train/happy/*.*')), \n",
    "    'neutral': list(win_path.glob('train/neutral/*.*')), \n",
    "    'sad': list(win_path.glob('train/sad/*.*')), \n",
    "    'surprised': list(win_path.glob('train/surprised/*.*'))\n",
    "}\n",
    "\n",
    "lbl_dict = {\n",
    "    'angry': 0, \n",
    "    'disgusted': 1,\n",
    "    'fearful': 2,\n",
    "    'happy': 3,\n",
    "    'neutral': 4,\n",
    "    'sad': 5,\n",
    "    'surprised': 6\n",
    "}\n",
    "\n",
    "\n",
    "test_dict = {\n",
    "    'angry': list(win_path.glob('train/angry/*.*')), \n",
    "    'disgusted': list(win_path.glob('train/disgusted/*.*')), \n",
    "    'fearful': list(win_path.glob('train/fearful/*.*')), \n",
    "    'happy': list(win_path.glob('train/happy/*.*')), \n",
    "    'neutral': list(win_path.glob('train/neutral/*.*')), \n",
    "    'sad': list(win_path.glob('train/sad/*.*')), \n",
    "    'surprised': list(win_path.glob('train/surprised/*.*'))\n",
    "}\n",
    "\n",
    "lbl_dict = {\n",
    "    'angry': 0, \n",
    "    'disgusted': 1,\n",
    "    'fearful': 2,\n",
    "    'happy': 3,\n",
    "    'neutral': 4,\n",
    "    'sad': 5,\n",
    "    'surprised': 6\n",
    "}"
   ]
  },
  {
   "cell_type": "code",
   "execution_count": 48,
   "id": "8df7dda7-7df1-41a9-80f9-edfa95334235",
   "metadata": {},
   "outputs": [],
   "source": [
    "train_image_dict = {\n",
    "    'angry': [], \n",
    "    'disgusted': [], \n",
    "    'fearful': [], \n",
    "    'happy': [], \n",
    "    'neutral': [], \n",
    "    'sad': [], \n",
    "    'surprised': []\n",
    "}\n",
    "\n",
    "train_lbl_dict = {\n",
    "    'angry': [], \n",
    "    'disgusted': [],\n",
    "    'fearful': [],\n",
    "    'happy': [],\n",
    "    'neutral': [],\n",
    "    'sad': [],\n",
    "    'surprised': []\n",
    "}\n",
    "\n",
    "test_image_dict = {\n",
    "    'angry': [], \n",
    "    'disgusted': [], \n",
    "    'fearful': [], \n",
    "    'happy': [], \n",
    "    'neutral': [], \n",
    "    'sad': [], \n",
    "    'surprised': []\n",
    "}\n",
    "\n",
    "\n",
    "test_lbl_dict = {\n",
    "    'angry': [], \n",
    "    'disgusted': [],\n",
    "    'fearful': [],\n",
    "    'happy': [],\n",
    "    'neutral': [],\n",
    "    'sad': [],\n",
    "    'surprised': []\n",
    "}\n"
   ]
  },
  {
   "cell_type": "code",
   "execution_count": 12,
   "id": "ffef5718-1ead-490e-a8f9-7780fc2a79e3",
   "metadata": {},
   "outputs": [
    {
     "name": "stdout",
     "output_type": "stream",
     "text": [
      "data loading complete\n"
     ]
    }
   ],
   "source": [
    "# reading all images using the dictionary format \n",
    "train_x = []\n",
    "train_y = []\n",
    "for clas, imgs in train_dict.items():\n",
    "    for img in imgs: \n",
    "        read_img = cv.imread(str(img))\n",
    "        train_x.append(read_img)\n",
    "        train_image_dict[clas].append(read_img)\n",
    "        # storing lable \n",
    "        train_y.append(lbl_dict[clas])\n",
    "print('data loading complete')"
   ]
  },
  {
   "cell_type": "code",
   "execution_count": 13,
   "id": "0586cc85-a2b7-4851-9375-34e6aaeb8775",
   "metadata": {},
   "outputs": [
    {
     "name": "stdout",
     "output_type": "stream",
     "text": [
      "test data loading complete\n"
     ]
    }
   ],
   "source": [
    "# reading all images using the dictionary format (VALIDATION DATA)\n",
    "test_x = []\n",
    "test_y = []\n",
    "for clas, imgs in test_dict.items():\n",
    "    for img in imgs: \n",
    "        read_img = cv.imread(str(img))\n",
    "        test_x.append(read_img)\n",
    "        test_image_dict[clas].append(read_img)\n",
    "        # storing lable \n",
    "        test_y.append(lbl_dict[clas])\n",
    "print('test data loading complete')"
   ]
  },
  {
   "cell_type": "code",
   "execution_count": 71,
   "id": "23f13510-1358-4806-b6c3-4725b8191b15",
   "metadata": {
    "scrolled": true
   },
   "outputs": [
    {
     "data": {
      "text/plain": [
       "[array([[[ 70,  70,  70],\n",
       "         [ 80,  80,  80],\n",
       "         [ 82,  82,  82],\n",
       "         ...,\n",
       "         [ 52,  52,  52],\n",
       "         [ 43,  43,  43],\n",
       "         [ 41,  41,  41]],\n",
       " \n",
       "        [[ 65,  65,  65],\n",
       "         [ 61,  61,  61],\n",
       "         [ 58,  58,  58],\n",
       "         ...,\n",
       "         [ 56,  56,  56],\n",
       "         [ 52,  52,  52],\n",
       "         [ 44,  44,  44]],\n",
       " \n",
       "        [[ 50,  50,  50],\n",
       "         [ 43,  43,  43],\n",
       "         [ 54,  54,  54],\n",
       "         ...,\n",
       "         [ 49,  49,  49],\n",
       "         [ 56,  56,  56],\n",
       "         [ 47,  47,  47]],\n",
       " \n",
       "        ...,\n",
       " \n",
       "        [[ 91,  91,  91],\n",
       "         [ 65,  65,  65],\n",
       "         [ 42,  42,  42],\n",
       "         ...,\n",
       "         [ 72,  72,  72],\n",
       "         [ 56,  56,  56],\n",
       "         [ 43,  43,  43]],\n",
       " \n",
       "        [[ 77,  77,  77],\n",
       "         [ 82,  82,  82],\n",
       "         [ 79,  79,  79],\n",
       "         ...,\n",
       "         [105, 105, 105],\n",
       "         [ 70,  70,  70],\n",
       "         [ 46,  46,  46]],\n",
       " \n",
       "        [[ 77,  77,  77],\n",
       "         [ 72,  72,  72],\n",
       "         [ 84,  84,  84],\n",
       "         ...,\n",
       "         [106, 106, 106],\n",
       "         [109, 109, 109],\n",
       "         [ 82,  82,  82]]], dtype=uint8),\n",
       " array([[[151, 151, 151],\n",
       "         [150, 150, 150],\n",
       "         [147, 147, 147],\n",
       "         ...,\n",
       "         [129, 129, 129],\n",
       "         [140, 140, 140],\n",
       "         [120, 120, 120]],\n",
       " \n",
       "        [[151, 151, 151],\n",
       "         [149, 149, 149],\n",
       "         [149, 149, 149],\n",
       "         ...,\n",
       "         [122, 122, 122],\n",
       "         [141, 141, 141],\n",
       "         [137, 137, 137]],\n",
       " \n",
       "        [[151, 151, 151],\n",
       "         [151, 151, 151],\n",
       "         [156, 156, 156],\n",
       "         ...,\n",
       "         [109, 109, 109],\n",
       "         [123, 123, 123],\n",
       "         [146, 146, 146]],\n",
       " \n",
       "        ...,\n",
       " \n",
       "        [[188, 188, 188],\n",
       "         [188, 188, 188],\n",
       "         [121, 121, 121],\n",
       "         ...,\n",
       "         [185, 185, 185],\n",
       "         [185, 185, 185],\n",
       "         [186, 186, 186]],\n",
       " \n",
       "        [[188, 188, 188],\n",
       "         [187, 187, 187],\n",
       "         [196, 196, 196],\n",
       "         ...,\n",
       "         [186, 186, 186],\n",
       "         [182, 182, 182],\n",
       "         [187, 187, 187]],\n",
       " \n",
       "        [[186, 186, 186],\n",
       "         [184, 184, 184],\n",
       "         [185, 185, 185],\n",
       "         ...,\n",
       "         [193, 193, 193],\n",
       "         [183, 183, 183],\n",
       "         [184, 184, 184]]], dtype=uint8),\n",
       " array([[[117, 117, 117],\n",
       "         [116, 116, 116],\n",
       "         [113, 113, 113],\n",
       "         ...,\n",
       "         [ 45,  45,  45],\n",
       "         [ 45,  45,  45],\n",
       "         [ 45,  45,  45]],\n",
       " \n",
       "        [[118, 118, 118],\n",
       "         [116, 116, 116],\n",
       "         [114, 114, 114],\n",
       "         ...,\n",
       "         [ 46,  46,  46],\n",
       "         [ 46,  46,  46],\n",
       "         [ 45,  45,  45]],\n",
       " \n",
       "        [[118, 118, 118],\n",
       "         [117, 117, 117],\n",
       "         [115, 115, 115],\n",
       "         ...,\n",
       "         [ 45,  45,  45],\n",
       "         [ 46,  46,  46],\n",
       "         [ 46,  46,  46]],\n",
       " \n",
       "        ...,\n",
       " \n",
       "        [[ 30,  30,  30],\n",
       "         [ 29,  29,  29],\n",
       "         [ 29,  29,  29],\n",
       "         ...,\n",
       "         [ 58,  58,  58],\n",
       "         [ 55,  55,  55],\n",
       "         [ 55,  55,  55]],\n",
       " \n",
       "        [[ 31,  31,  31],\n",
       "         [ 28,  28,  28],\n",
       "         [ 28,  28,  28],\n",
       "         ...,\n",
       "         [ 50,  50,  50],\n",
       "         [ 52,  52,  52],\n",
       "         [ 54,  54,  54]],\n",
       " \n",
       "        [[ 33,  33,  33],\n",
       "         [ 28,  28,  28],\n",
       "         [ 28,  28,  28],\n",
       "         ...,\n",
       "         [ 46,  46,  46],\n",
       "         [ 47,  47,  47],\n",
       "         [ 49,  49,  49]]], dtype=uint8),\n",
       " array([[[159, 159, 159],\n",
       "         [159, 159, 159],\n",
       "         [145, 145, 145],\n",
       "         ...,\n",
       "         [154, 154, 154],\n",
       "         [147, 147, 147],\n",
       "         [147, 147, 147]],\n",
       " \n",
       "        [[158, 158, 158],\n",
       "         [137, 137, 137],\n",
       "         [136, 136, 136],\n",
       "         ...,\n",
       "         [149, 149, 149],\n",
       "         [148, 148, 148],\n",
       "         [150, 150, 150]],\n",
       " \n",
       "        [[143, 143, 143],\n",
       "         [128, 128, 128],\n",
       "         [151, 151, 151],\n",
       "         ...,\n",
       "         [143, 143, 143],\n",
       "         [149, 149, 149],\n",
       "         [151, 151, 151]],\n",
       " \n",
       "        ...,\n",
       " \n",
       "        [[158, 158, 158],\n",
       "         [ 83,  83,  83],\n",
       "         [103, 103, 103],\n",
       "         ...,\n",
       "         [ 18,  18,  18],\n",
       "         [ 19,  19,  19],\n",
       "         [ 22,  22,  22]],\n",
       " \n",
       "        [[216, 216, 216],\n",
       "         [140, 140, 140],\n",
       "         [158, 158, 158],\n",
       "         ...,\n",
       "         [120, 120, 120],\n",
       "         [ 89,  89,  89],\n",
       "         [ 40,  40,  40]],\n",
       " \n",
       "        [[194, 194, 194],\n",
       "         [138, 138, 138],\n",
       "         [146, 146, 146],\n",
       "         ...,\n",
       "         [140, 140, 140],\n",
       "         [147, 147, 147],\n",
       "         [127, 127, 127]]], dtype=uint8),\n",
       " array([[[254, 254, 254],\n",
       "         [254, 254, 254],\n",
       "         [254, 254, 254],\n",
       "         ...,\n",
       "         [ 64,  64,  64],\n",
       "         [ 71,  71,  71],\n",
       "         [ 73,  73,  73]],\n",
       " \n",
       "        [[254, 254, 254],\n",
       "         [255, 255, 255],\n",
       "         [253, 253, 253],\n",
       "         ...,\n",
       "         [ 70,  70,  70],\n",
       "         [ 67,  67,  67],\n",
       "         [ 68,  68,  68]],\n",
       " \n",
       "        [[254, 254, 254],\n",
       "         [254, 254, 254],\n",
       "         [253, 253, 253],\n",
       "         ...,\n",
       "         [137, 137, 137],\n",
       "         [128, 128, 128],\n",
       "         [121, 121, 121]],\n",
       " \n",
       "        ...,\n",
       " \n",
       "        [[171, 171, 171],\n",
       "         [162, 162, 162],\n",
       "         [163, 163, 163],\n",
       "         ...,\n",
       "         [136, 136, 136],\n",
       "         [120, 120, 120],\n",
       "         [107, 107, 107]],\n",
       " \n",
       "        [[195, 195, 195],\n",
       "         [159, 159, 159],\n",
       "         [159, 159, 159],\n",
       "         ...,\n",
       "         [144, 144, 144],\n",
       "         [124, 124, 124],\n",
       "         [110, 110, 110]],\n",
       " \n",
       "        [[228, 228, 228],\n",
       "         [162, 162, 162],\n",
       "         [156, 156, 156],\n",
       "         ...,\n",
       "         [148, 148, 148],\n",
       "         [116, 116, 116],\n",
       "         [110, 110, 110]]], dtype=uint8),\n",
       " array([[[252, 252, 252],\n",
       "         [255, 255, 255],\n",
       "         [232, 232, 232],\n",
       "         ...,\n",
       "         [ 34,  34,  34],\n",
       "         [ 33,  33,  33],\n",
       "         [ 41,  41,  41]],\n",
       " \n",
       "        [[251, 251, 251],\n",
       "         [254, 254, 254],\n",
       "         [236, 236, 236],\n",
       "         ...,\n",
       "         [ 32,  32,  32],\n",
       "         [ 31,  31,  31],\n",
       "         [ 35,  35,  35]],\n",
       " \n",
       "        [[251, 251, 251],\n",
       "         [252, 252, 252],\n",
       "         [247, 247, 247],\n",
       "         ...,\n",
       "         [ 31,  31,  31],\n",
       "         [ 30,  30,  30],\n",
       "         [ 34,  34,  34]],\n",
       " \n",
       "        ...,\n",
       " \n",
       "        [[250, 250, 250],\n",
       "         [245, 245, 245],\n",
       "         [242, 242, 242],\n",
       "         ...,\n",
       "         [201, 201, 201],\n",
       "         [203, 203, 203],\n",
       "         [206, 206, 206]],\n",
       " \n",
       "        [[233, 233, 233],\n",
       "         [231, 231, 231],\n",
       "         [234, 234, 234],\n",
       "         ...,\n",
       "         [198, 198, 198],\n",
       "         [208, 208, 208],\n",
       "         [215, 215, 215]],\n",
       " \n",
       "        [[230, 230, 230],\n",
       "         [237, 237, 237],\n",
       "         [233, 233, 233],\n",
       "         ...,\n",
       "         [214, 214, 214],\n",
       "         [210, 210, 210],\n",
       "         [214, 214, 214]]], dtype=uint8),\n",
       " array([[[ 79,  79,  79],\n",
       "         [ 84,  84,  84],\n",
       "         [102, 102, 102],\n",
       "         ...,\n",
       "         [192, 192, 192],\n",
       "         [193, 193, 193],\n",
       "         [160, 160, 160]],\n",
       " \n",
       "        [[ 80,  80,  80],\n",
       "         [ 80,  80,  80],\n",
       "         [ 99,  99,  99],\n",
       "         ...,\n",
       "         [191, 191, 191],\n",
       "         [191, 191, 191],\n",
       "         [177, 177, 177]],\n",
       " \n",
       "        [[ 77,  77,  77],\n",
       "         [ 75,  75,  75],\n",
       "         [103, 103, 103],\n",
       "         ...,\n",
       "         [186, 186, 186],\n",
       "         [193, 193, 193],\n",
       "         [186, 186, 186]],\n",
       " \n",
       "        ...,\n",
       " \n",
       "        [[168, 168, 168],\n",
       "         [131, 131, 131],\n",
       "         [145, 145, 145],\n",
       "         ...,\n",
       "         [131, 131, 131],\n",
       "         [102, 102, 102],\n",
       "         [ 57,  57,  57]],\n",
       " \n",
       "        [[160, 160, 160],\n",
       "         [145, 145, 145],\n",
       "         [178, 178, 178],\n",
       "         ...,\n",
       "         [131, 131, 131],\n",
       "         [111, 111, 111],\n",
       "         [ 58,  58,  58]],\n",
       " \n",
       "        [[166, 166, 166],\n",
       "         [188, 188, 188],\n",
       "         [184, 184, 184],\n",
       "         ...,\n",
       "         [140, 140, 140],\n",
       "         [115, 115, 115],\n",
       "         [ 55,  55,  55]]], dtype=uint8),\n",
       " array([[[254, 254, 254],\n",
       "         [254, 254, 254],\n",
       "         [254, 254, 254],\n",
       "         ...,\n",
       "         [254, 254, 254],\n",
       "         [254, 254, 254],\n",
       "         [254, 254, 254]],\n",
       " \n",
       "        [[254, 254, 254],\n",
       "         [254, 254, 254],\n",
       "         [254, 254, 254],\n",
       "         ...,\n",
       "         [254, 254, 254],\n",
       "         [254, 254, 254],\n",
       "         [254, 254, 254]],\n",
       " \n",
       "        [[254, 254, 254],\n",
       "         [254, 254, 254],\n",
       "         [254, 254, 254],\n",
       "         ...,\n",
       "         [254, 254, 254],\n",
       "         [254, 254, 254],\n",
       "         [254, 254, 254]],\n",
       " \n",
       "        ...,\n",
       " \n",
       "        [[254, 254, 254],\n",
       "         [254, 254, 254],\n",
       "         [254, 254, 254],\n",
       "         ...,\n",
       "         [254, 254, 254],\n",
       "         [254, 254, 254],\n",
       "         [254, 254, 254]],\n",
       " \n",
       "        [[254, 254, 254],\n",
       "         [254, 254, 254],\n",
       "         [254, 254, 254],\n",
       "         ...,\n",
       "         [254, 254, 254],\n",
       "         [254, 254, 254],\n",
       "         [254, 254, 254]],\n",
       " \n",
       "        [[254, 254, 254],\n",
       "         [254, 254, 254],\n",
       "         [254, 254, 254],\n",
       "         ...,\n",
       "         [254, 254, 254],\n",
       "         [254, 254, 254],\n",
       "         [254, 254, 254]]], dtype=uint8),\n",
       " array([[[137, 137, 137],\n",
       "         [133, 133, 133],\n",
       "         [141, 141, 141],\n",
       "         ...,\n",
       "         [137, 137, 137],\n",
       "         [126, 126, 126],\n",
       "         [115, 115, 115]],\n",
       " \n",
       "        [[134, 134, 134],\n",
       "         [139, 139, 139],\n",
       "         [155, 155, 155],\n",
       "         ...,\n",
       "         [143, 143, 143],\n",
       "         [125, 125, 125],\n",
       "         [132, 132, 132]],\n",
       " \n",
       "        [[142, 142, 142],\n",
       "         [157, 157, 157],\n",
       "         [178, 178, 178],\n",
       "         ...,\n",
       "         [164, 164, 164],\n",
       "         [163, 163, 163],\n",
       "         [144, 144, 144]],\n",
       " \n",
       "        ...,\n",
       " \n",
       "        [[  0,   0,   0],\n",
       "         [  9,   9,   9],\n",
       "         [ 35,  35,  35],\n",
       "         ...,\n",
       "         [ 39,  39,  39],\n",
       "         [ 50,  50,  50],\n",
       "         [ 43,  43,  43]],\n",
       " \n",
       "        [[  0,   0,   0],\n",
       "         [ 22,  22,  22],\n",
       "         [ 37,  37,  37],\n",
       "         ...,\n",
       "         [ 46,  46,  46],\n",
       "         [ 67,  67,  67],\n",
       "         [ 43,  43,  43]],\n",
       " \n",
       "        [[  0,   0,   0],\n",
       "         [  2,   2,   2],\n",
       "         [ 18,  18,  18],\n",
       "         ...,\n",
       "         [ 49,  49,  49],\n",
       "         [ 24,  24,  24],\n",
       "         [ 37,  37,  37]]], dtype=uint8),\n",
       " array([[[109, 109, 109],\n",
       "         [101, 101, 101],\n",
       "         [ 85,  85,  85],\n",
       "         ...,\n",
       "         [118, 118, 118],\n",
       "         [112, 112, 112],\n",
       "         [133, 133, 133]],\n",
       " \n",
       "        [[123, 123, 123],\n",
       "         [ 92,  92,  92],\n",
       "         [ 78,  78,  78],\n",
       "         ...,\n",
       "         [109, 109, 109],\n",
       "         [122, 122, 122],\n",
       "         [148, 148, 148]],\n",
       " \n",
       "        [[118, 118, 118],\n",
       "         [ 63,  63,  63],\n",
       "         [118, 118, 118],\n",
       "         ...,\n",
       "         [136, 136, 136],\n",
       "         [111, 111, 111],\n",
       "         [164, 164, 164]],\n",
       " \n",
       "        ...,\n",
       " \n",
       "        [[ 82,  82,  82],\n",
       "         [ 75,  75,  75],\n",
       "         [ 89,  89,  89],\n",
       "         ...,\n",
       "         [ 77,  77,  77],\n",
       "         [ 94,  94,  94],\n",
       "         [ 83,  83,  83]],\n",
       " \n",
       "        [[ 93,  93,  93],\n",
       "         [ 91,  91,  91],\n",
       "         [ 96,  96,  96],\n",
       "         ...,\n",
       "         [ 58,  58,  58],\n",
       "         [ 78,  78,  78],\n",
       "         [ 90,  90,  90]],\n",
       " \n",
       "        [[ 88,  88,  88],\n",
       "         [111, 111, 111],\n",
       "         [ 86,  86,  86],\n",
       "         ...,\n",
       "         [ 57,  57,  57],\n",
       "         [ 84,  84,  84],\n",
       "         [ 60,  60,  60]]], dtype=uint8)]"
      ]
     },
     "execution_count": 71,
     "metadata": {},
     "output_type": "execute_result"
    }
   ],
   "source": [
    "train_x[:10]"
   ]
  },
  {
   "cell_type": "code",
   "execution_count": 15,
   "id": "87cb4d55-8fba-4a0e-9d9e-ffc1cf559973",
   "metadata": {
    "scrolled": true
   },
   "outputs": [
    {
     "name": "stdout",
     "output_type": "stream",
     "text": [
      "(48, 48, 3)\n",
      "(48, 48, 3)\n",
      "(48, 48, 3)\n",
      "(48, 48, 3)\n",
      "(48, 48, 3)\n",
      "(48, 48, 3)\n",
      "(48, 48, 3)\n",
      "(48, 48, 3)\n",
      "(48, 48, 3)\n",
      "(48, 48, 3)\n",
      "(48, 48, 3)\n",
      "(48, 48, 3)\n",
      "(48, 48, 3)\n",
      "(48, 48, 3)\n",
      "(48, 48, 3)\n",
      "(48, 48, 3)\n",
      "(48, 48, 3)\n",
      "(48, 48, 3)\n",
      "(48, 48, 3)\n",
      "(48, 48, 3)\n",
      "(48, 48, 3)\n",
      "(48, 48, 3)\n",
      "(48, 48, 3)\n",
      "(48, 48, 3)\n",
      "(48, 48, 3)\n",
      "(48, 48, 3)\n",
      "(48, 48, 3)\n",
      "(48, 48, 3)\n",
      "(48, 48, 3)\n",
      "(48, 48, 3)\n",
      "(48, 48, 3)\n",
      "(48, 48, 3)\n",
      "(48, 48, 3)\n",
      "(48, 48, 3)\n",
      "(48, 48, 3)\n",
      "(48, 48, 3)\n",
      "(48, 48, 3)\n",
      "(48, 48, 3)\n",
      "(48, 48, 3)\n",
      "(48, 48, 3)\n",
      "(48, 48, 3)\n",
      "(48, 48, 3)\n",
      "(48, 48, 3)\n",
      "(48, 48, 3)\n",
      "(48, 48, 3)\n",
      "(48, 48, 3)\n",
      "(48, 48, 3)\n",
      "(48, 48, 3)\n",
      "(48, 48, 3)\n",
      "(48, 48, 3)\n",
      "(48, 48, 3)\n",
      "(48, 48, 3)\n",
      "(48, 48, 3)\n",
      "(48, 48, 3)\n",
      "(48, 48, 3)\n",
      "(48, 48, 3)\n",
      "(48, 48, 3)\n",
      "(48, 48, 3)\n",
      "(48, 48, 3)\n",
      "(48, 48, 3)\n",
      "(48, 48, 3)\n",
      "(48, 48, 3)\n",
      "(48, 48, 3)\n",
      "(48, 48, 3)\n",
      "(48, 48, 3)\n",
      "(48, 48, 3)\n",
      "(48, 48, 3)\n",
      "(48, 48, 3)\n",
      "(48, 48, 3)\n",
      "(48, 48, 3)\n",
      "(48, 48, 3)\n",
      "(48, 48, 3)\n",
      "(48, 48, 3)\n",
      "(48, 48, 3)\n",
      "(48, 48, 3)\n",
      "(48, 48, 3)\n",
      "(48, 48, 3)\n",
      "(48, 48, 3)\n",
      "(48, 48, 3)\n",
      "(48, 48, 3)\n",
      "(48, 48, 3)\n",
      "(48, 48, 3)\n",
      "(48, 48, 3)\n",
      "(48, 48, 3)\n",
      "(48, 48, 3)\n",
      "(48, 48, 3)\n",
      "(48, 48, 3)\n",
      "(48, 48, 3)\n",
      "(48, 48, 3)\n",
      "(48, 48, 3)\n",
      "(48, 48, 3)\n",
      "(48, 48, 3)\n",
      "(48, 48, 3)\n",
      "(48, 48, 3)\n",
      "(48, 48, 3)\n",
      "(48, 48, 3)\n",
      "(48, 48, 3)\n",
      "(48, 48, 3)\n",
      "(48, 48, 3)\n",
      "(48, 48, 3)\n",
      "(48, 48, 3)\n",
      "(48, 48, 3)\n",
      "(48, 48, 3)\n",
      "(48, 48, 3)\n",
      "(48, 48, 3)\n",
      "(48, 48, 3)\n",
      "(48, 48, 3)\n",
      "(48, 48, 3)\n",
      "(48, 48, 3)\n",
      "(48, 48, 3)\n",
      "(48, 48, 3)\n",
      "(48, 48, 3)\n",
      "(48, 48, 3)\n",
      "(48, 48, 3)\n",
      "(48, 48, 3)\n",
      "(48, 48, 3)\n",
      "(48, 48, 3)\n",
      "(48, 48, 3)\n",
      "(48, 48, 3)\n",
      "(48, 48, 3)\n",
      "(48, 48, 3)\n",
      "(48, 48, 3)\n",
      "(48, 48, 3)\n",
      "(48, 48, 3)\n",
      "(48, 48, 3)\n",
      "(48, 48, 3)\n",
      "(48, 48, 3)\n",
      "(48, 48, 3)\n",
      "(48, 48, 3)\n",
      "(48, 48, 3)\n",
      "(48, 48, 3)\n",
      "(48, 48, 3)\n",
      "(48, 48, 3)\n",
      "(48, 48, 3)\n",
      "(48, 48, 3)\n",
      "(48, 48, 3)\n",
      "(48, 48, 3)\n",
      "(48, 48, 3)\n",
      "(48, 48, 3)\n",
      "(48, 48, 3)\n",
      "(48, 48, 3)\n",
      "(48, 48, 3)\n",
      "(48, 48, 3)\n",
      "(48, 48, 3)\n",
      "(48, 48, 3)\n",
      "(48, 48, 3)\n",
      "(48, 48, 3)\n",
      "(48, 48, 3)\n",
      "(48, 48, 3)\n",
      "(48, 48, 3)\n",
      "(48, 48, 3)\n",
      "(48, 48, 3)\n",
      "(48, 48, 3)\n",
      "(48, 48, 3)\n",
      "(48, 48, 3)\n",
      "(48, 48, 3)\n",
      "(48, 48, 3)\n",
      "(48, 48, 3)\n",
      "(48, 48, 3)\n",
      "(48, 48, 3)\n",
      "(48, 48, 3)\n",
      "(48, 48, 3)\n",
      "(48, 48, 3)\n",
      "(48, 48, 3)\n",
      "(48, 48, 3)\n",
      "(48, 48, 3)\n",
      "(48, 48, 3)\n",
      "(48, 48, 3)\n",
      "(48, 48, 3)\n",
      "(48, 48, 3)\n",
      "(48, 48, 3)\n",
      "(48, 48, 3)\n",
      "(48, 48, 3)\n",
      "(48, 48, 3)\n",
      "(48, 48, 3)\n",
      "(48, 48, 3)\n",
      "(48, 48, 3)\n",
      "(48, 48, 3)\n",
      "(48, 48, 3)\n",
      "(48, 48, 3)\n",
      "(48, 48, 3)\n",
      "(48, 48, 3)\n",
      "(48, 48, 3)\n",
      "(48, 48, 3)\n",
      "(48, 48, 3)\n",
      "(48, 48, 3)\n",
      "(48, 48, 3)\n",
      "(48, 48, 3)\n",
      "(48, 48, 3)\n",
      "(48, 48, 3)\n",
      "(48, 48, 3)\n",
      "(48, 48, 3)\n",
      "(48, 48, 3)\n",
      "(48, 48, 3)\n",
      "(48, 48, 3)\n",
      "(48, 48, 3)\n",
      "(48, 48, 3)\n",
      "(48, 48, 3)\n",
      "(48, 48, 3)\n",
      "(48, 48, 3)\n"
     ]
    }
   ],
   "source": [
    "for img in train_x[:200]:\n",
    "    print(img.shape)"
   ]
  },
  {
   "cell_type": "code",
   "execution_count": 16,
   "id": "47ea175a-801d-4291-b5af-5f30f1df61e0",
   "metadata": {
    "scrolled": true
   },
   "outputs": [
    {
     "data": {
      "text/plain": [
       "array([[[[ 70,  70,  70],\n",
       "         [ 80,  80,  80],\n",
       "         [ 82,  82,  82],\n",
       "         ...,\n",
       "         [ 52,  52,  52],\n",
       "         [ 43,  43,  43],\n",
       "         [ 41,  41,  41]],\n",
       "\n",
       "        [[ 65,  65,  65],\n",
       "         [ 61,  61,  61],\n",
       "         [ 58,  58,  58],\n",
       "         ...,\n",
       "         [ 56,  56,  56],\n",
       "         [ 52,  52,  52],\n",
       "         [ 44,  44,  44]],\n",
       "\n",
       "        [[ 50,  50,  50],\n",
       "         [ 43,  43,  43],\n",
       "         [ 54,  54,  54],\n",
       "         ...,\n",
       "         [ 49,  49,  49],\n",
       "         [ 56,  56,  56],\n",
       "         [ 47,  47,  47]],\n",
       "\n",
       "        ...,\n",
       "\n",
       "        [[ 91,  91,  91],\n",
       "         [ 65,  65,  65],\n",
       "         [ 42,  42,  42],\n",
       "         ...,\n",
       "         [ 72,  72,  72],\n",
       "         [ 56,  56,  56],\n",
       "         [ 43,  43,  43]],\n",
       "\n",
       "        [[ 77,  77,  77],\n",
       "         [ 82,  82,  82],\n",
       "         [ 79,  79,  79],\n",
       "         ...,\n",
       "         [105, 105, 105],\n",
       "         [ 70,  70,  70],\n",
       "         [ 46,  46,  46]],\n",
       "\n",
       "        [[ 77,  77,  77],\n",
       "         [ 72,  72,  72],\n",
       "         [ 84,  84,  84],\n",
       "         ...,\n",
       "         [106, 106, 106],\n",
       "         [109, 109, 109],\n",
       "         [ 82,  82,  82]]],\n",
       "\n",
       "\n",
       "       [[[151, 151, 151],\n",
       "         [150, 150, 150],\n",
       "         [147, 147, 147],\n",
       "         ...,\n",
       "         [129, 129, 129],\n",
       "         [140, 140, 140],\n",
       "         [120, 120, 120]],\n",
       "\n",
       "        [[151, 151, 151],\n",
       "         [149, 149, 149],\n",
       "         [149, 149, 149],\n",
       "         ...,\n",
       "         [122, 122, 122],\n",
       "         [141, 141, 141],\n",
       "         [137, 137, 137]],\n",
       "\n",
       "        [[151, 151, 151],\n",
       "         [151, 151, 151],\n",
       "         [156, 156, 156],\n",
       "         ...,\n",
       "         [109, 109, 109],\n",
       "         [123, 123, 123],\n",
       "         [146, 146, 146]],\n",
       "\n",
       "        ...,\n",
       "\n",
       "        [[188, 188, 188],\n",
       "         [188, 188, 188],\n",
       "         [121, 121, 121],\n",
       "         ...,\n",
       "         [185, 185, 185],\n",
       "         [185, 185, 185],\n",
       "         [186, 186, 186]],\n",
       "\n",
       "        [[188, 188, 188],\n",
       "         [187, 187, 187],\n",
       "         [196, 196, 196],\n",
       "         ...,\n",
       "         [186, 186, 186],\n",
       "         [182, 182, 182],\n",
       "         [187, 187, 187]],\n",
       "\n",
       "        [[186, 186, 186],\n",
       "         [184, 184, 184],\n",
       "         [185, 185, 185],\n",
       "         ...,\n",
       "         [193, 193, 193],\n",
       "         [183, 183, 183],\n",
       "         [184, 184, 184]]],\n",
       "\n",
       "\n",
       "       [[[117, 117, 117],\n",
       "         [116, 116, 116],\n",
       "         [113, 113, 113],\n",
       "         ...,\n",
       "         [ 45,  45,  45],\n",
       "         [ 45,  45,  45],\n",
       "         [ 45,  45,  45]],\n",
       "\n",
       "        [[118, 118, 118],\n",
       "         [116, 116, 116],\n",
       "         [114, 114, 114],\n",
       "         ...,\n",
       "         [ 46,  46,  46],\n",
       "         [ 46,  46,  46],\n",
       "         [ 45,  45,  45]],\n",
       "\n",
       "        [[118, 118, 118],\n",
       "         [117, 117, 117],\n",
       "         [115, 115, 115],\n",
       "         ...,\n",
       "         [ 45,  45,  45],\n",
       "         [ 46,  46,  46],\n",
       "         [ 46,  46,  46]],\n",
       "\n",
       "        ...,\n",
       "\n",
       "        [[ 30,  30,  30],\n",
       "         [ 29,  29,  29],\n",
       "         [ 29,  29,  29],\n",
       "         ...,\n",
       "         [ 58,  58,  58],\n",
       "         [ 55,  55,  55],\n",
       "         [ 55,  55,  55]],\n",
       "\n",
       "        [[ 31,  31,  31],\n",
       "         [ 28,  28,  28],\n",
       "         [ 28,  28,  28],\n",
       "         ...,\n",
       "         [ 50,  50,  50],\n",
       "         [ 52,  52,  52],\n",
       "         [ 54,  54,  54]],\n",
       "\n",
       "        [[ 33,  33,  33],\n",
       "         [ 28,  28,  28],\n",
       "         [ 28,  28,  28],\n",
       "         ...,\n",
       "         [ 46,  46,  46],\n",
       "         [ 47,  47,  47],\n",
       "         [ 49,  49,  49]]],\n",
       "\n",
       "\n",
       "       [[[159, 159, 159],\n",
       "         [159, 159, 159],\n",
       "         [145, 145, 145],\n",
       "         ...,\n",
       "         [154, 154, 154],\n",
       "         [147, 147, 147],\n",
       "         [147, 147, 147]],\n",
       "\n",
       "        [[158, 158, 158],\n",
       "         [137, 137, 137],\n",
       "         [136, 136, 136],\n",
       "         ...,\n",
       "         [149, 149, 149],\n",
       "         [148, 148, 148],\n",
       "         [150, 150, 150]],\n",
       "\n",
       "        [[143, 143, 143],\n",
       "         [128, 128, 128],\n",
       "         [151, 151, 151],\n",
       "         ...,\n",
       "         [143, 143, 143],\n",
       "         [149, 149, 149],\n",
       "         [151, 151, 151]],\n",
       "\n",
       "        ...,\n",
       "\n",
       "        [[158, 158, 158],\n",
       "         [ 83,  83,  83],\n",
       "         [103, 103, 103],\n",
       "         ...,\n",
       "         [ 18,  18,  18],\n",
       "         [ 19,  19,  19],\n",
       "         [ 22,  22,  22]],\n",
       "\n",
       "        [[216, 216, 216],\n",
       "         [140, 140, 140],\n",
       "         [158, 158, 158],\n",
       "         ...,\n",
       "         [120, 120, 120],\n",
       "         [ 89,  89,  89],\n",
       "         [ 40,  40,  40]],\n",
       "\n",
       "        [[194, 194, 194],\n",
       "         [138, 138, 138],\n",
       "         [146, 146, 146],\n",
       "         ...,\n",
       "         [140, 140, 140],\n",
       "         [147, 147, 147],\n",
       "         [127, 127, 127]]]], dtype=uint8)"
      ]
     },
     "execution_count": 16,
     "metadata": {},
     "output_type": "execute_result"
    }
   ],
   "source": [
    "# conterting to numpy array\n",
    "xtrain = np.array(train_x)\n",
    "ytrain = np.array(train_y)\n",
    "\n",
    "xtrain[:4]"
   ]
  },
  {
   "cell_type": "code",
   "execution_count": 17,
   "id": "a5db3cf6-8ea3-4499-9c88-b44bdb34ada6",
   "metadata": {},
   "outputs": [
    {
     "data": {
      "text/plain": [
       "(28709, 48, 48, 3)"
      ]
     },
     "execution_count": 17,
     "metadata": {},
     "output_type": "execute_result"
    }
   ],
   "source": [
    "xtrain.shape"
   ]
  },
  {
   "cell_type": "code",
   "execution_count": 18,
   "id": "5b2f39a6-2b9b-41f4-a110-7d0f1a172b13",
   "metadata": {},
   "outputs": [
    {
     "data": {
      "text/plain": [
       "(48, 48, 3)"
      ]
     },
     "execution_count": 18,
     "metadata": {},
     "output_type": "execute_result"
    }
   ],
   "source": [
    "# xploring images.. \n",
    "sample_image = xtrain[2]\n",
    "sample_image.shape"
   ]
  },
  {
   "cell_type": "code",
   "execution_count": 19,
   "id": "8ca30c39-0382-4485-8c40-2d468002c230",
   "metadata": {},
   "outputs": [
    {
     "data": {
      "text/plain": [
       "{0: 'angry',\n",
       " 1: 'disgusted',\n",
       " 2: 'fearful',\n",
       " 3: 'happy',\n",
       " 4: 'neutral',\n",
       " 5: 'sad',\n",
       " 6: 'surprised'}"
      ]
     },
     "execution_count": 19,
     "metadata": {},
     "output_type": "execute_result"
    }
   ],
   "source": [
    "# label convertion \n",
    "label_converter = {0:'angry', 1:'disgusted', 2:'fearful', 3:'happy', 4:'neutral', 5:'sad', 6:'surprised'}\n",
    "label_converter"
   ]
  },
  {
   "cell_type": "code",
   "execution_count": 20,
   "id": "acbc0335-1cb4-4bc8-850f-6d62af1bfe07",
   "metadata": {},
   "outputs": [
    {
     "data": {
      "image/png": "[encoded data removed]",
      "text/plain": [
       "<Figure size 200x200 with 1 Axes>"
      ]
     },
     "metadata": {},
     "output_type": "display_data"
    }
   ],
   "source": [
    "def plot_image(index): \n",
    "    plt.figure(figsize=(2, 2))\n",
    "    plt.imshow(xtrain[index])\n",
    "    plt.title(f'{label_converter[ytrain[index]]} : {ytrain[index]}')\n",
    "    plt.show()\n",
    "\n",
    "plot_image(13)"
   ]
  },
  {
   "cell_type": "code",
   "execution_count": 21,
   "id": "1e56ab3e-26a0-4728-9645-f87213ff4617",
   "metadata": {},
   "outputs": [],
   "source": [
    "def plot_subplot(axis, samples, clas , index): \n",
    "    # plt.figure(figsize=(10, 10))\n",
    "    axis.imshow(samples[clas][index])\n",
    "    axis.set_title(f'{clas}')\n",
    "    "
   ]
  },
  {
   "cell_type": "code",
   "execution_count": 72,
   "id": "3b4e5ade-5e4f-4c87-b0d5-1c1656f4b92d",
   "metadata": {
    "scrolled": true
   },
   "outputs": [],
   "source": [
    "# train_image_dict"
   ]
  },
  {
   "cell_type": "code",
   "execution_count": 23,
   "id": "357ebe39-e08e-4ca0-8177-77448a677b09",
   "metadata": {},
   "outputs": [
    {
     "data": {
      "image/png": "[encoded data removed]",
      "text/plain": [
       "<Figure size 640x480 with 4 Axes>"
      ]
     },
     "metadata": {},
     "output_type": "display_data"
    }
   ],
   "source": [
    "# subplot\n",
    "fig, ax = plt.subplots(ncols=4)\n",
    "for index in range(4):\n",
    "    plot_subplot(ax[index], train_image_dict,  'happy', index)"
   ]
  },
  {
   "cell_type": "code",
   "execution_count": 24,
   "id": "6b90c47c-7ab4-425f-8a99-d1197ce469af",
   "metadata": {},
   "outputs": [
    {
     "data": {
      "image/png": "[encoded data removed]",
      "text/plain": [
       "<Figure size 640x480 with 4 Axes>"
      ]
     },
     "metadata": {},
     "output_type": "display_data"
    }
   ],
   "source": [
    "fig, ax = plt.subplots(ncols=4)\n",
    "for index in range(4):\n",
    "    plot_subplot(ax[index], train_image_dict,  'angry', index)"
   ]
  },
  {
   "cell_type": "code",
   "execution_count": 25,
   "id": "647353fa-9136-4f6c-aead-490ce169c8f7",
   "metadata": {},
   "outputs": [
    {
     "data": {
      "image/png": "[encoded data removed]",
      "text/plain": [
       "<Figure size 640x480 with 4 Axes>"
      ]
     },
     "metadata": {},
     "output_type": "display_data"
    }
   ],
   "source": [
    "fig, ax = plt.subplots(ncols=4)\n",
    "for index in range(4):\n",
    "    plot_subplot(ax[index], train_image_dict,  'fearful', index)"
   ]
  },
  {
   "cell_type": "code",
   "execution_count": 26,
   "id": "7bca8c63-0759-4b00-b0b7-2e6bf6f3a2a0",
   "metadata": {},
   "outputs": [
    {
     "data": {
      "image/png": "[encoded data removed]",
      "text/plain": [
       "<Figure size 640x480 with 4 Axes>"
      ]
     },
     "metadata": {},
     "output_type": "display_data"
    }
   ],
   "source": [
    "fig, ax = plt.subplots(ncols=4)\n",
    "for index in range(4):\n",
    "    plot_subplot(ax[index], train_image_dict,  'neutral', index)"
   ]
  },
  {
   "cell_type": "code",
   "execution_count": 27,
   "id": "15670c6d-5f8c-4e78-a456-c8f6afcd706b",
   "metadata": {},
   "outputs": [
    {
     "data": {
      "image/png": "[encoded data removed]",
      "text/plain": [
       "<Figure size 640x480 with 4 Axes>"
      ]
     },
     "metadata": {},
     "output_type": "display_data"
    }
   ],
   "source": [
    "fig, ax = plt.subplots(ncols=4)\n",
    "for index in range(4):\n",
    "    plot_subplot(ax[index], train_image_dict,  'sad', index)"
   ]
  },
  {
   "cell_type": "code",
   "execution_count": 28,
   "id": "e5913a18-3f02-4671-9e7f-be3a19c18031",
   "metadata": {},
   "outputs": [
    {
     "data": {
      "image/png": "[encoded data removed]",
      "text/plain": [
       "<Figure size 640x480 with 4 Axes>"
      ]
     },
     "metadata": {},
     "output_type": "display_data"
    }
   ],
   "source": [
    "fig, ax = plt.subplots(ncols=4)\n",
    "for index in range(4):\n",
    "    plot_subplot(ax[index], train_image_dict,  'surprised', index)"
   ]
  },
  {
   "cell_type": "code",
   "execution_count": 29,
   "id": "02c9e3ac-f196-404d-9a06-e6a2f813dea6",
   "metadata": {
    "scrolled": true
   },
   "outputs": [
    {
     "name": "stdout",
     "output_type": "stream",
     "text": [
      "angry 3995\n",
      "disgusted 436\n",
      "fearful 4097\n",
      "happy 7215\n",
      "neutral 4965\n",
      "sad 4830\n",
      "surprised 3171\n"
     ]
    }
   ],
   "source": [
    "####.. basic exploration, transformation, and \n",
    "plot_data = {\n",
    "    'angry': 0, \n",
    "    'disgusted': 1,\n",
    "    'fearful': 2,\n",
    "    'happy': 3,\n",
    "    'neutral': 4,\n",
    "    'sad': 5,\n",
    "    'surprised': 6\n",
    "}\n",
    "for clas, image in train_image_dict.items(): \n",
    "    print(clas, len(image))\n",
    "    plot_data[clas] = len(image)"
   ]
  },
  {
   "cell_type": "code",
   "execution_count": 30,
   "id": "1b15652a-ebf9-4dc1-aa4d-753fba4ce8fe",
   "metadata": {},
   "outputs": [
    {
     "data": {
      "text/plain": [
       "{'angry': 3995,\n",
       " 'disgusted': 436,\n",
       " 'fearful': 4097,\n",
       " 'happy': 7215,\n",
       " 'neutral': 4965,\n",
       " 'sad': 4830,\n",
       " 'surprised': 3171}"
      ]
     },
     "execution_count": 30,
     "metadata": {},
     "output_type": "execute_result"
    }
   ],
   "source": [
    "plot_data"
   ]
  },
  {
   "cell_type": "code",
   "execution_count": 31,
   "id": "0d521ed7-4a8b-45a1-b75c-18cc24e42212",
   "metadata": {},
   "outputs": [
    {
     "data": {
      "image/png": "[encoded data removed]",
      "text/plain": [
       "<Figure size 640x480 with 1 Axes>"
      ]
     },
     "metadata": {},
     "output_type": "display_data"
    }
   ],
   "source": [
    "plt.bar(plot_data.keys(), plot_data.values(), color=['r', 'b', 'g', 'gold', 'cyan'])\n",
    "plt.title('Image Sample Class Size')\n",
    "plt.ylabel('Image Count')\n",
    "plt.xlabel('Image Class')\n",
    "plt.show()"
   ]
  },
  {
   "cell_type": "code",
   "execution_count": 32,
   "id": "f6406001-9948-4736-91fa-b0690dad7444",
   "metadata": {},
   "outputs": [
    {
     "data": {
      "text/plain": [
       "array([[[ 70,  70,  70],\n",
       "        [ 80,  80,  80],\n",
       "        [ 82,  82,  82],\n",
       "        ...,\n",
       "        [ 52,  52,  52],\n",
       "        [ 43,  43,  43],\n",
       "        [ 41,  41,  41]],\n",
       "\n",
       "       [[ 65,  65,  65],\n",
       "        [ 61,  61,  61],\n",
       "        [ 58,  58,  58],\n",
       "        ...,\n",
       "        [ 56,  56,  56],\n",
       "        [ 52,  52,  52],\n",
       "        [ 44,  44,  44]],\n",
       "\n",
       "       [[ 50,  50,  50],\n",
       "        [ 43,  43,  43],\n",
       "        [ 54,  54,  54],\n",
       "        ...,\n",
       "        [ 49,  49,  49],\n",
       "        [ 56,  56,  56],\n",
       "        [ 47,  47,  47]],\n",
       "\n",
       "       ...,\n",
       "\n",
       "       [[ 91,  91,  91],\n",
       "        [ 65,  65,  65],\n",
       "        [ 42,  42,  42],\n",
       "        ...,\n",
       "        [ 72,  72,  72],\n",
       "        [ 56,  56,  56],\n",
       "        [ 43,  43,  43]],\n",
       "\n",
       "       [[ 77,  77,  77],\n",
       "        [ 82,  82,  82],\n",
       "        [ 79,  79,  79],\n",
       "        ...,\n",
       "        [105, 105, 105],\n",
       "        [ 70,  70,  70],\n",
       "        [ 46,  46,  46]],\n",
       "\n",
       "       [[ 77,  77,  77],\n",
       "        [ 72,  72,  72],\n",
       "        [ 84,  84,  84],\n",
       "        ...,\n",
       "        [106, 106, 106],\n",
       "        [109, 109, 109],\n",
       "        [ 82,  82,  82]]], dtype=uint8)"
      ]
     },
     "execution_count": 32,
     "metadata": {},
     "output_type": "execute_result"
    }
   ],
   "source": [
    "xtrain[0]"
   ]
  },
  {
   "cell_type": "code",
   "execution_count": 33,
   "id": "0a3ed413-9bf3-486e-8ee4-0736acd22c5b",
   "metadata": {},
   "outputs": [
    {
     "data": {
      "text/plain": [
       "array([[[0.2745098 , 0.2745098 , 0.2745098 ],\n",
       "        [0.31372549, 0.31372549, 0.31372549],\n",
       "        [0.32156863, 0.32156863, 0.32156863],\n",
       "        ...,\n",
       "        [0.20392157, 0.20392157, 0.20392157],\n",
       "        [0.16862745, 0.16862745, 0.16862745],\n",
       "        [0.16078431, 0.16078431, 0.16078431]],\n",
       "\n",
       "       [[0.25490196, 0.25490196, 0.25490196],\n",
       "        [0.23921569, 0.23921569, 0.23921569],\n",
       "        [0.22745098, 0.22745098, 0.22745098],\n",
       "        ...,\n",
       "        [0.21960784, 0.21960784, 0.21960784],\n",
       "        [0.20392157, 0.20392157, 0.20392157],\n",
       "        [0.17254902, 0.17254902, 0.17254902]],\n",
       "\n",
       "       [[0.19607843, 0.19607843, 0.19607843],\n",
       "        [0.16862745, 0.16862745, 0.16862745],\n",
       "        [0.21176471, 0.21176471, 0.21176471],\n",
       "        ...,\n",
       "        [0.19215686, 0.19215686, 0.19215686],\n",
       "        [0.21960784, 0.21960784, 0.21960784],\n",
       "        [0.18431373, 0.18431373, 0.18431373]],\n",
       "\n",
       "       ...,\n",
       "\n",
       "       [[0.35686275, 0.35686275, 0.35686275],\n",
       "        [0.25490196, 0.25490196, 0.25490196],\n",
       "        [0.16470588, 0.16470588, 0.16470588],\n",
       "        ...,\n",
       "        [0.28235294, 0.28235294, 0.28235294],\n",
       "        [0.21960784, 0.21960784, 0.21960784],\n",
       "        [0.16862745, 0.16862745, 0.16862745]],\n",
       "\n",
       "       [[0.30196078, 0.30196078, 0.30196078],\n",
       "        [0.32156863, 0.32156863, 0.32156863],\n",
       "        [0.30980392, 0.30980392, 0.30980392],\n",
       "        ...,\n",
       "        [0.41176471, 0.41176471, 0.41176471],\n",
       "        [0.2745098 , 0.2745098 , 0.2745098 ],\n",
       "        [0.18039216, 0.18039216, 0.18039216]],\n",
       "\n",
       "       [[0.30196078, 0.30196078, 0.30196078],\n",
       "        [0.28235294, 0.28235294, 0.28235294],\n",
       "        [0.32941176, 0.32941176, 0.32941176],\n",
       "        ...,\n",
       "        [0.41568627, 0.41568627, 0.41568627],\n",
       "        [0.42745098, 0.42745098, 0.42745098],\n",
       "        [0.32156863, 0.32156863, 0.32156863]]])"
      ]
     },
     "execution_count": 33,
     "metadata": {},
     "output_type": "execute_result"
    }
   ],
   "source": [
    "# scalling the image \n",
    "xtrain = xtrain / 255\n",
    "xtrain[0]"
   ]
  },
  {
   "cell_type": "code",
   "execution_count": 34,
   "id": "da92f26e-e3e1-4da9-bb4d-b94b7542b4ec",
   "metadata": {
    "scrolled": true
   },
   "outputs": [
    {
     "data": {
      "text/plain": [
       "array([[[0.2745098 , 0.2745098 , 0.2745098 ],\n",
       "        [0.31372549, 0.31372549, 0.31372549],\n",
       "        [0.32156863, 0.32156863, 0.32156863],\n",
       "        ...,\n",
       "        [0.20392157, 0.20392157, 0.20392157],\n",
       "        [0.16862745, 0.16862745, 0.16862745],\n",
       "        [0.16078431, 0.16078431, 0.16078431]],\n",
       "\n",
       "       [[0.25490196, 0.25490196, 0.25490196],\n",
       "        [0.23921569, 0.23921569, 0.23921569],\n",
       "        [0.22745098, 0.22745098, 0.22745098],\n",
       "        ...,\n",
       "        [0.21960784, 0.21960784, 0.21960784],\n",
       "        [0.20392157, 0.20392157, 0.20392157],\n",
       "        [0.17254902, 0.17254902, 0.17254902]],\n",
       "\n",
       "       [[0.19607843, 0.19607843, 0.19607843],\n",
       "        [0.16862745, 0.16862745, 0.16862745],\n",
       "        [0.21176471, 0.21176471, 0.21176471],\n",
       "        ...,\n",
       "        [0.19215686, 0.19215686, 0.19215686],\n",
       "        [0.21960784, 0.21960784, 0.21960784],\n",
       "        [0.18431373, 0.18431373, 0.18431373]],\n",
       "\n",
       "       ...,\n",
       "\n",
       "       [[0.35686275, 0.35686275, 0.35686275],\n",
       "        [0.25490196, 0.25490196, 0.25490196],\n",
       "        [0.16470588, 0.16470588, 0.16470588],\n",
       "        ...,\n",
       "        [0.28235294, 0.28235294, 0.28235294],\n",
       "        [0.21960784, 0.21960784, 0.21960784],\n",
       "        [0.16862745, 0.16862745, 0.16862745]],\n",
       "\n",
       "       [[0.30196078, 0.30196078, 0.30196078],\n",
       "        [0.32156863, 0.32156863, 0.32156863],\n",
       "        [0.30980392, 0.30980392, 0.30980392],\n",
       "        ...,\n",
       "        [0.41176471, 0.41176471, 0.41176471],\n",
       "        [0.2745098 , 0.2745098 , 0.2745098 ],\n",
       "        [0.18039216, 0.18039216, 0.18039216]],\n",
       "\n",
       "       [[0.30196078, 0.30196078, 0.30196078],\n",
       "        [0.28235294, 0.28235294, 0.28235294],\n",
       "        [0.32941176, 0.32941176, 0.32941176],\n",
       "        ...,\n",
       "        [0.41568627, 0.41568627, 0.41568627],\n",
       "        [0.42745098, 0.42745098, 0.42745098],\n",
       "        [0.32156863, 0.32156863, 0.32156863]]])"
      ]
     },
     "execution_count": 34,
     "metadata": {},
     "output_type": "execute_result"
    }
   ],
   "source": [
    "# scalling the image \n",
    "xtest = np.array(test_x)\n",
    "xtest = xtest / 255\n",
    "xtest[0]"
   ]
  },
  {
   "cell_type": "code",
   "execution_count": 35,
   "id": "0e98a4e1-7076-45c2-8633-4391803ca536",
   "metadata": {},
   "outputs": [],
   "source": [
    "ytest = np.array(test_y)"
   ]
  },
  {
   "cell_type": "code",
   "execution_count": 36,
   "id": "9166c297-1141-426d-961d-590767fcb051",
   "metadata": {},
   "outputs": [],
   "source": [
    "# vgg19 model architecture "
   ]
  },
  {
   "cell_type": "code",
   "execution_count": 37,
   "id": "4c4e16b8-78bb-40ce-823f-d8428c373aa5",
   "metadata": {},
   "outputs": [
    {
     "data": {
      "text/plain": [
       "(28709, 48, 48, 3)"
      ]
     },
     "execution_count": 37,
     "metadata": {},
     "output_type": "execute_result"
    }
   ],
   "source": [
    "xtrain.shape"
   ]
  },
  {
   "cell_type": "code",
   "execution_count": 38,
   "id": "6cef159d-a0ba-4aad-ab81-78469f584573",
   "metadata": {},
   "outputs": [
    {
     "data": {
      "text/plain": [
       "(28709,)"
      ]
     },
     "execution_count": 38,
     "metadata": {},
     "output_type": "execute_result"
    }
   ],
   "source": [
    "ytrain.shape"
   ]
  },
  {
   "cell_type": "code",
   "execution_count": 39,
   "id": "604e1f9d-5e70-4871-b7cb-e69b72762181",
   "metadata": {},
   "outputs": [],
   "source": [
    "# CNN model"
   ]
  },
  {
   "cell_type": "code",
   "execution_count": 40,
   "id": "952d9fa4-e846-4461-a180-81890de6aa12",
   "metadata": {},
   "outputs": [],
   "source": [
    "import tensorflow as tf \n",
    "from tensorflow import keras"
   ]
  },
  {
   "cell_type": "code",
   "execution_count": 41,
   "id": "c22c8b91-a5fc-42de-9da2-8d9d450c2986",
   "metadata": {},
   "outputs": [],
   "source": [
    "cnn_model  = tf.keras.Sequential([\n",
    "    # input \n",
    "    keras.layers.Input(shape=(48,48,3)),\n",
    "    \n",
    "   # cnn\n",
    "    keras.layers.Conv2D(filters=32, kernel_size=(3,3), activation='relu'),\n",
    "    keras.layers.MaxPooling2D((2,2)),\n",
    "\n",
    "    keras.layers.Conv2D(filters=64, kernel_size=(3,3), activation='relu'),\n",
    "    keras.layers.MaxPooling2D((2,2)),\n",
    "\n",
    "    \n",
    "   #dense\n",
    "    keras.layers.Flatten(), \n",
    "    keras.layers.Dense(128, activation='relu'),\n",
    "    keras.layers.Dense(7, activation='sigmoid')\n",
    "    \n",
    "])\n",
    "\n",
    "\n",
    "cnn_model.compile(\n",
    "    loss='sparse_categorical_crossentropy', \n",
    "    metrics=['accuracy'], \n",
    "    optimizer='adam'\n",
    ")\n"
   ]
  },
  {
   "cell_type": "code",
   "execution_count": 42,
   "id": "2161340d-dd00-49f6-8081-46cb8e08f633",
   "metadata": {},
   "outputs": [
    {
     "name": "stdout",
     "output_type": "stream",
     "text": [
      "Model: \"sequential\"\n",
      "_________________________________________________________________\n",
      " Layer (type)                Output Shape              Param #   \n",
      "=================================================================\n",
      " conv2d (Conv2D)             (None, 46, 46, 32)        896       \n",
      "                                                                 \n",
      " max_pooling2d (MaxPooling2D  (None, 23, 23, 32)       0         \n",
      " )                                                               \n",
      "                                                                 \n",
      " conv2d_1 (Conv2D)           (None, 21, 21, 64)        18496     \n",
      "                                                                 \n",
      " max_pooling2d_1 (MaxPooling  (None, 10, 10, 64)       0         \n",
      " 2D)                                                             \n",
      "                                                                 \n",
      " flatten (Flatten)           (None, 6400)              0         \n",
      "                                                                 \n",
      " dense (Dense)               (None, 128)               819328    \n",
      "                                                                 \n",
      " dense_1 (Dense)             (None, 7)                 903       \n",
      "                                                                 \n",
      "=================================================================\n",
      "Total params: 839,623\n",
      "Trainable params: 839,623\n",
      "Non-trainable params: 0\n",
      "_________________________________________________________________\n"
     ]
    }
   ],
   "source": [
    "cnn_model.summary()"
   ]
  },
  {
   "cell_type": "code",
   "execution_count": 43,
   "id": "53db3a7b-03d4-483e-9f39-19af32c06133",
   "metadata": {},
   "outputs": [
    {
     "name": "stdout",
     "output_type": "stream",
     "text": [
      "Epoch 1/15\n",
      "898/898 [==============================] - 242s 267ms/step - loss: 1.5838 - accuracy: 0.3853 - val_loss: 1.4062 - val_accuracy: 0.4645\n",
      "Epoch 2/15\n",
      "898/898 [==============================] - 179s 199ms/step - loss: 1.3603 - accuracy: 0.4789 - val_loss: 1.2266 - val_accuracy: 0.5381\n",
      "Epoch 3/15\n",
      "898/898 [==============================] - 147s 164ms/step - loss: 1.2393 - accuracy: 0.5266 - val_loss: 1.1149 - val_accuracy: 0.5876\n",
      "Epoch 4/15\n",
      "898/898 [==============================] - 161s 179ms/step - loss: 1.1278 - accuracy: 0.5741 - val_loss: 1.0117 - val_accuracy: 0.6250\n",
      "Epoch 5/15\n",
      "898/898 [==============================] - 149s 166ms/step - loss: 1.0100 - accuracy: 0.6252 - val_loss: 0.8623 - val_accuracy: 0.7062\n",
      "Epoch 6/15\n",
      "898/898 [==============================] - 121s 135ms/step - loss: 0.8885 - accuracy: 0.6722 - val_loss: 0.7503 - val_accuracy: 0.7395\n",
      "Epoch 7/15\n",
      "898/898 [==============================] - 118s 132ms/step - loss: 0.7601 - accuracy: 0.7214 - val_loss: 0.6086 - val_accuracy: 0.7950\n",
      "Epoch 8/15\n",
      "898/898 [==============================] - 118s 132ms/step - loss: 0.6344 - accuracy: 0.7727 - val_loss: 0.4795 - val_accuracy: 0.8406\n",
      "Epoch 9/15\n",
      "898/898 [==============================] - 129s 144ms/step - loss: 0.5249 - accuracy: 0.8127 - val_loss: 0.3766 - val_accuracy: 0.8854\n",
      "Epoch 10/15\n",
      "898/898 [==============================] - 230s 256ms/step - loss: 0.4124 - accuracy: 0.8577 - val_loss: 0.3010 - val_accuracy: 0.9070\n",
      "Epoch 11/15\n",
      "898/898 [==============================] - 128s 142ms/step - loss: 0.3287 - accuracy: 0.8873 - val_loss: 0.2210 - val_accuracy: 0.9357\n",
      "Epoch 12/15\n",
      "898/898 [==============================] - 113s 126ms/step - loss: 0.2590 - accuracy: 0.9124 - val_loss: 0.1744 - val_accuracy: 0.9474\n",
      "Epoch 13/15\n",
      "898/898 [==============================] - 92s 103ms/step - loss: 0.2061 - accuracy: 0.9329 - val_loss: 0.1319 - val_accuracy: 0.9649\n",
      "Epoch 14/15\n",
      "898/898 [==============================] - 92s 103ms/step - loss: 0.1777 - accuracy: 0.9421 - val_loss: 0.1342 - val_accuracy: 0.9594\n",
      "Epoch 15/15\n",
      "898/898 [==============================] - 92s 103ms/step - loss: 0.1589 - accuracy: 0.9473 - val_loss: 0.1200 - val_accuracy: 0.9639\n"
     ]
    },
    {
     "data": {
      "text/plain": [
       "<keras.callbacks.History at 0x18e3cc24a60>"
      ]
     },
     "execution_count": 43,
     "metadata": {},
     "output_type": "execute_result"
    }
   ],
   "source": [
    "cnn_model.fit(xtrain, ytrain, validation_data=(xtest, ytest), epochs=15)"
   ]
  },
  {
   "cell_type": "code",
   "execution_count": null,
   "id": "c947d869-7ab0-4bfe-9d36-02f186000f09",
   "metadata": {},
   "outputs": [],
   "source": []
  },
  {
   "cell_type": "code",
   "execution_count": 47,
   "id": "5f17f823-94aa-4fd3-b641-67501f99b3a0",
   "metadata": {},
   "outputs": [],
   "source": [
    "cnn_acc = cnn_model.history.history['accuracy']\n",
    "cnn_val_acc = cnn_model.history.history['val_accuracy']\n",
    "\n",
    "cnn_loss = cnn_model.history.history['loss']\n",
    "cnn_val_loss = cnn_model.history.history['val_loss']"
   ]
  },
  {
   "cell_type": "code",
   "execution_count": 50,
   "id": "4748f2a0-fa44-4af3-8a1d-52c50b9c71e1",
   "metadata": {},
   "outputs": [
    {
     "data": {
      "text/plain": [
       "Text(0, 0.5, 'Accuracy')"
      ]
     },
     "execution_count": 50,
     "metadata": {},
     "output_type": "execute_result"
    },
    {
     "data": {
      "image/png": "[encoded data removed]",
      "text/plain": [
       "<Figure size 640x480 with 1 Axes>"
      ]
     },
     "metadata": {},
     "output_type": "display_data"
    }
   ],
   "source": [
    "plt.plot(cnn_acc, color='green')\n",
    "plt.plot(cnn_val_acc, color='blue')\n",
    "\n",
    "plt.title('CNN ACURACY PER EPOCH')\n",
    "plt.xlabel('Epoch')\n",
    "plt.ylabel('Accuracy')"
   ]
  },
  {
   "cell_type": "code",
   "execution_count": 52,
   "id": "cb2b5358-99f4-4c7d-bab3-3ef99c65d131",
   "metadata": {},
   "outputs": [
    {
     "data": {
      "text/plain": [
       "Text(0, 0.5, 'Loss')"
      ]
     },
     "execution_count": 52,
     "metadata": {},
     "output_type": "execute_result"
    },
    {
     "data": {
      "image/png": "[encoded data removed]",
      "text/plain": [
       "<Figure size 640x480 with 1 Axes>"
      ]
     },
     "metadata": {},
     "output_type": "display_data"
    }
   ],
   "source": [
    "plt.plot(cnn_loss, color='red')\n",
    "plt.plot(cnn_val_loss, color='brown')\n",
    "\n",
    "plt.title('CNN LOSS PER EPOCH')\n",
    "plt.xlabel('Epoch')\n",
    "plt.ylabel('Loss')"
   ]
  },
  {
   "cell_type": "code",
   "execution_count": 54,
   "id": "1092f674-982b-4ace-976c-fe18af253b8c",
   "metadata": {
    "scrolled": true
   },
   "outputs": [],
   "source": [
    "# test_x[0].shape"
   ]
  },
  {
   "cell_type": "code",
   "execution_count": 56,
   "id": "25e9fd63-daf0-4205-90f2-975055c3e44f",
   "metadata": {},
   "outputs": [],
   "source": [
    "# ytest"
   ]
  },
  {
   "cell_type": "code",
   "execution_count": 57,
   "id": "7fb6fe52-2557-4097-a250-c9abeeb19107",
   "metadata": {},
   "outputs": [
    {
     "name": "stdout",
     "output_type": "stream",
     "text": [
      "898/898 [==============================] - 33s 36ms/step - loss: 0.1200 - accuracy: 0.9639\n"
     ]
    },
    {
     "data": {
      "text/plain": [
       "[0.12002551555633545, 0.9638789296150208]"
      ]
     },
     "execution_count": 57,
     "metadata": {},
     "output_type": "execute_result"
    }
   ],
   "source": [
    "cnn_model.evaluate(xtest, ytest)"
   ]
  },
  {
   "cell_type": "code",
   "execution_count": 58,
   "id": "5c4538f5-b391-47bd-a5b5-06ffc54df4f3",
   "metadata": {
    "scrolled": true
   },
   "outputs": [
    {
     "name": "stdout",
     "output_type": "stream",
     "text": [
      "898/898 [==============================] - 31s 33ms/step\n"
     ]
    },
    {
     "data": {
      "text/plain": [
       "array([[9.9999887e-01, 2.4928073e-09, 7.3238224e-04, ..., 6.7126770e-03,\n",
       "        3.7531710e-01, 2.2641435e-01],\n",
       "       [9.9881816e-01, 7.4421115e-11, 8.5495460e-01, ..., 3.2670674e-01,\n",
       "        9.4277304e-01, 5.8152479e-01],\n",
       "       [9.9736631e-01, 8.9515532e-07, 6.9633645e-01, ..., 9.6689242e-01,\n",
       "        9.1977489e-01, 2.3800354e-03],\n",
       "       ...,\n",
       "       [1.3215274e-01, 7.9510465e-07, 9.9019271e-01, ..., 1.7254612e-05,\n",
       "        2.5363562e-01, 9.9996316e-01],\n",
       "       [6.3051933e-01, 2.2279074e-09, 9.7469372e-01, ..., 2.3183154e-06,\n",
       "        8.0433999e-08, 9.9998844e-01],\n",
       "       [2.5622610e-02, 4.9416151e-08, 7.6538807e-01, ..., 2.9682997e-04,\n",
       "        6.7540905e-03, 9.9998719e-01]], dtype=float32)"
      ]
     },
     "execution_count": 58,
     "metadata": {},
     "output_type": "execute_result"
    }
   ],
   "source": [
    "# evaluate model\n",
    "prediction = cnn_model.predict(xtest)\n",
    "prediction"
   ]
  },
  {
   "cell_type": "code",
   "execution_count": 59,
   "id": "2845dcc7-27ff-4ac6-a545-936ea2eb5b4c",
   "metadata": {},
   "outputs": [
    {
     "data": {
      "text/plain": [
       "array([9.99998868e-01, 2.49280729e-09, 7.32382236e-04, 1.51676195e-05,\n",
       "       6.71267696e-03, 3.75317097e-01, 2.26414353e-01], dtype=float32)"
      ]
     },
     "execution_count": 59,
     "metadata": {},
     "output_type": "execute_result"
    }
   ],
   "source": [
    "prediction[0]"
   ]
  },
  {
   "cell_type": "code",
   "execution_count": 60,
   "id": "10827950-c871-4130-a262-a97e2ed06749",
   "metadata": {},
   "outputs": [],
   "source": [
    "cnn_predictions = []\n",
    "for pre in prediction: \n",
    "    cnn_predictions.append(np.argmax(pre))"
   ]
  },
  {
   "cell_type": "code",
   "execution_count": 61,
   "id": "4d3d97ff-05e5-483b-9951-493d6fb336d4",
   "metadata": {},
   "outputs": [
    {
     "name": "stdout",
     "output_type": "stream",
     "text": [
      "              precision    recall  f1-score   support\n",
      "\n",
      "           0       0.94      0.96      0.95      3903\n",
      "           1       0.97      0.98      0.98       433\n",
      "           2       0.94      0.97      0.95      3964\n",
      "           3       0.98      0.99      0.99      7157\n",
      "           4       0.99      0.93      0.96      5280\n",
      "           5       0.94      0.97      0.96      4669\n",
      "           6       0.99      0.95      0.97      3303\n",
      "\n",
      "    accuracy                           0.96     28709\n",
      "   macro avg       0.96      0.96      0.96     28709\n",
      "weighted avg       0.96      0.96      0.96     28709\n",
      "\n"
     ]
    },
    {
     "data": {
      "image/png": "[encoded data removed]",
      "text/plain": [
       "<Figure size 640x480 with 2 Axes>"
      ]
     },
     "metadata": {},
     "output_type": "display_data"
    }
   ],
   "source": [
    "from sklearn.metrics import classification_report, confusion_matrix\n",
    "import seaborn as sn \n",
    "import tensorflow as tf \n",
    "from tensorflow import keras\n",
    "\n",
    "cnn_rp = classification_report(cnn_predictions, ytest)\n",
    "cnn_cf = confusion_matrix(cnn_predictions, ytest)\n",
    "\n",
    "print(cnn_rp)\n",
    "sn.heatmap(cnn_cf, fmt='d', annot=True, xticklabels=lbl_dict.keys(), yticklabels=lbl_dict.keys())\n",
    "plt.xticks(rotation=90)\n",
    "plt.show()"
   ]
  },
  {
   "cell_type": "code",
   "execution_count": 4,
   "id": "d50be379-8dc4-41a9-b47e-625ed9193c37",
   "metadata": {},
   "outputs": [],
   "source": [
    "# saving the facial emotion detection \n",
    "# cnn_model.save('fed_model.h5')"
   ]
  },
  {
   "cell_type": "code",
   "execution_count": 309,
   "id": "d60ce95b-06ee-4f41-af91-2d31532e8e0c",
   "metadata": {},
   "outputs": [
    {
     "data": {
      "text/plain": [
       "(48, 48, 3)"
      ]
     },
     "execution_count": 309,
     "metadata": {},
     "output_type": "execute_result"
    }
   ],
   "source": [
    "sample_image = xtest[0]\n",
    "sample_image.shape"
   ]
  },
  {
   "cell_type": "code",
   "execution_count": 62,
   "id": "0c4a1c20-1bb9-4969-9619-04322019a7f6",
   "metadata": {},
   "outputs": [
    {
     "data": {
      "text/plain": [
       "(1, 48, 48, 3)"
      ]
     },
     "execution_count": 62,
     "metadata": {},
     "output_type": "execute_result"
    }
   ],
   "source": [
    "pro_samp_img = np.expand_dims(sample_image, axis=0)\n",
    "pro_samp_img.shape"
   ]
  },
  {
   "cell_type": "markdown",
   "id": "623b168e-d35a-4483-a3d0-2adb1d86f5e6",
   "metadata": {},
   "source": []
  },
  {
   "cell_type": "markdown",
   "id": "c0a84883-c64d-4ded-b747-700e0fc8380c",
   "metadata": {},
   "source": [
    "## MODEL TESTING IN REAL ENVIRONMENT"
   ]
  },
  {
   "cell_type": "code",
   "execution_count": 12,
   "id": "af988e95-f7e8-438c-930e-36945cb5ddb8",
   "metadata": {},
   "outputs": [],
   "source": [
    "samp_image = cv2.imread(str(test_path[260]))"
   ]
  },
  {
   "cell_type": "code",
   "execution_count": null,
   "id": "0f9bc75b-41b9-493e-829c-1f1a57a80d2b",
   "metadata": {},
   "outputs": [],
   "source": []
  },
  {
   "cell_type": "code",
   "execution_count": 124,
   "id": "0f14a66a-82e8-479f-b6c5-2c3a885f334e",
   "metadata": {},
   "outputs": [],
   "source": [
    "# LOAD MODEL .... \n",
    "from tensorflow.keras import models\n",
    "\n",
    "# to the trained face emotion detection model\n",
    "def load_fed_model(): \n",
    "    # fed_model = models.load_model('fed_model.h5')\n",
    "    fed_model = models.load_model('mini_fed.h5')\n",
    "    fed_model.compile(\n",
    "        loss='sparse_categorical_crossentropy', \n",
    "        metrics=['accuracy'], \n",
    "        optimizer='adam'\n",
    "    )\n",
    "    # fed_model.summary()\n",
    "    return fed_model\n",
    "\n",
    "load_model = load_fed_model()\n",
    "\n",
    "def label_converter(prediction): \n",
    "    # label_converter = {0:'angry', 1:'disgusted', 2:'fearful', 3:'happy', 4:'neutral', 5:'sad', 6:'surprised'} \n",
    "    label_converter = {0:'angry', 1:'happy', 2:'sad'} \n",
    "    return label_converter[prediction]"
   ]
  },
  {
   "cell_type": "code",
   "execution_count": 125,
   "id": "80bf2c7f-bff3-487c-b499-c84b41e2453d",
   "metadata": {},
   "outputs": [
    {
     "name": "stdout",
     "output_type": "stream",
     "text": [
      "1/1 [==============================] - 0s 420ms/step\n"
     ]
    },
    {
     "data": {
      "text/plain": [
       "(0, 'angry')"
      ]
     },
     "execution_count": 125,
     "metadata": {},
     "output_type": "execute_result"
    }
   ],
   "source": [
    "# function to predict\n",
    "def predict_emotion(sample_image, model):\n",
    "    sample_image = cv2.resize(sample_image, (48,48))\n",
    "    pro_samp_img = np.expand_dims(sample_image, axis=0)\n",
    "    pre = model.predict(np.array(pro_samp_img))\n",
    "    pre = np.argmax(pre)\n",
    "    return pre, label_converter(pre) \n",
    "\n",
    "predict_emotion(samp_image, load_model)"
   ]
  },
  {
   "cell_type": "code",
   "execution_count": 15,
   "id": "95989680-41ab-4a6b-b848-b6b9a0f8810c",
   "metadata": {},
   "outputs": [],
   "source": [
    "# ytrain[1400]"
   ]
  },
  {
   "cell_type": "code",
   "execution_count": 16,
   "id": "819ba3db-2690-4425-b5dd-ad4fc97e176c",
   "metadata": {},
   "outputs": [
    {
     "data": {
      "text/plain": [
       "<function __main__.label_converter(prediction)>"
      ]
     },
     "execution_count": 16,
     "metadata": {},
     "output_type": "execute_result"
    }
   ],
   "source": [
    "label_converter"
   ]
  },
  {
   "cell_type": "markdown",
   "id": "fd4a6fb8-1c50-42e5-8353-8dfecd3e217a",
   "metadata": {},
   "source": [
    "### real time model usage"
   ]
  },
  {
   "cell_type": "code",
   "execution_count": 126,
   "id": "04480f2a-6aed-4adf-a88b-7e460cebaf1b",
   "metadata": {
    "scrolled": true
   },
   "outputs": [
    {
     "name": "stdout",
     "output_type": "stream",
     "text": [
      "OpenCV(4.9.0) D:\\a\\opencv-python\\opencv-python\\opencv\\modules\\imgproc\\src\\resize.cpp:4152: error: (-215:Assertion failed) !ssize.empty() in function 'cv::resize'\n",
      "\n",
      "OpenCV(4.9.0) D:\\a\\opencv-python\\opencv-python\\opencv\\modules\\imgproc\\src\\resize.cpp:4152: error: (-215:Assertion failed) !ssize.empty() in function 'cv::resize'\n",
      "\n",
      "1/1 [==============================] - 0s 295ms/step\n",
      "sad\n",
      "1/1 [==============================] - 0s 108ms/step\n",
      "sad\n",
      "1/1 [==============================] - 0s 82ms/step\n",
      "sad\n",
      "1/1 [==============================] - 0s 79ms/step\n",
      "sad\n",
      "1/1 [==============================] - 0s 83ms/step\n",
      "sad\n",
      "1/1 [==============================] - 0s 87ms/step\n",
      "angry\n",
      "1/1 [==============================] - 0s 159ms/step\n",
      "sad\n",
      "1/1 [==============================] - 0s 103ms/step\n",
      "sad\n",
      "1/1 [==============================] - 0s 85ms/step\n",
      "angry\n",
      "1/1 [==============================] - 0s 71ms/step\n",
      "sad\n",
      "1/1 [==============================] - 0s 80ms/step\n",
      "sad\n",
      "1/1 [==============================] - 0s 102ms/step\n",
      "sad\n",
      "1/1 [==============================] - 0s 74ms/step\n",
      "angry\n",
      "1/1 [==============================] - 0s 81ms/step\n",
      "angry\n",
      "1/1 [==============================] - 0s 75ms/step\n",
      "sad\n",
      "1/1 [==============================] - 0s 89ms/step\n",
      "sad\n",
      "1/1 [==============================] - 0s 74ms/step\n",
      "sad\n",
      "1/1 [==============================] - 0s 99ms/step\n",
      "sad\n",
      "1/1 [==============================] - 0s 64ms/step\n",
      "sad\n",
      "1/1 [==============================] - 0s 62ms/step\n",
      "angry\n",
      "1/1 [==============================] - 0s 68ms/step\n",
      "angry\n",
      "1/1 [==============================] - 0s 384ms/step\n",
      "sad\n",
      "1/1 [==============================] - 0s 492ms/step\n",
      "angry\n",
      "1/1 [==============================] - 0s 205ms/step\n",
      "angry\n",
      "1/1 [==============================] - 0s 97ms/step\n",
      "angry\n",
      "1/1 [==============================] - 0s 74ms/step\n",
      "sad\n",
      "1/1 [==============================] - 0s 91ms/step\n",
      "angry\n",
      "1/1 [==============================] - 0s 97ms/step\n",
      "angry\n",
      "1/1 [==============================] - 0s 63ms/step\n",
      "sad\n",
      "1/1 [==============================] - 0s 85ms/step\n",
      "angry\n",
      "1/1 [==============================] - 0s 71ms/step\n",
      "angry\n",
      "1/1 [==============================] - 0s 88ms/step\n",
      "angry\n",
      "1/1 [==============================] - 0s 83ms/step\n",
      "angry\n",
      "1/1 [==============================] - 0s 65ms/step\n",
      "angry\n",
      "1/1 [==============================] - 0s 68ms/step\n",
      "angry\n",
      "1/1 [==============================] - 0s 73ms/step\n",
      "angry\n",
      "1/1 [==============================] - 0s 57ms/step\n",
      "angry\n",
      "1/1 [==============================] - 0s 60ms/step\n",
      "angry\n",
      "1/1 [==============================] - 0s 73ms/step\n",
      "angry\n",
      "1/1 [==============================] - 0s 61ms/step\n",
      "angry\n",
      "1/1 [==============================] - 0s 67ms/step\n",
      "angry\n",
      "1/1 [==============================] - 0s 58ms/step\n",
      "angry\n",
      "1/1 [==============================] - 0s 62ms/step\n",
      "angry\n",
      "1/1 [==============================] - 0s 82ms/step\n",
      "angry\n",
      "1/1 [==============================] - 0s 91ms/step\n",
      "angry\n",
      "1/1 [==============================] - 0s 74ms/step\n",
      "sad\n",
      "1/1 [==============================] - 0s 73ms/step\n",
      "sad\n",
      "1/1 [==============================] - 0s 107ms/step\n",
      "sad\n",
      "1/1 [==============================] - 0s 75ms/step\n",
      "sad\n",
      "1/1 [==============================] - 0s 98ms/step\n",
      "sad\n",
      "1/1 [==============================] - 0s 69ms/step\n",
      "angry\n",
      "1/1 [==============================] - 0s 70ms/step\n",
      "angry\n",
      "1/1 [==============================] - 0s 93ms/step\n",
      "angry\n",
      "1/1 [==============================] - 0s 177ms/step\n",
      "angry\n",
      "1/1 [==============================] - 0s 126ms/step\n",
      "angry\n",
      "1/1 [==============================] - 0s 141ms/step\n",
      "sad\n",
      "1/1 [==============================] - 0s 113ms/step\n",
      "sad\n",
      "1/1 [==============================] - 0s 57ms/step\n",
      "angry\n",
      "1/1 [==============================] - 0s 57ms/step\n",
      "angry\n",
      "1/1 [==============================] - 0s 69ms/step\n",
      "angry\n",
      "1/1 [==============================] - 0s 60ms/step\n",
      "sad\n",
      "1/1 [==============================] - 0s 59ms/step\n",
      "angry\n",
      "1/1 [==============================] - 0s 81ms/step\n",
      "angry\n",
      "1/1 [==============================] - 0s 99ms/step\n",
      "sad\n",
      "1/1 [==============================] - 0s 146ms/step\n",
      "angry\n",
      "1/1 [==============================] - 0s 80ms/step\n",
      "angry\n",
      "1/1 [==============================] - 0s 75ms/step\n",
      "angry\n",
      "1/1 [==============================] - 0s 67ms/step\n",
      "angry\n",
      "1/1 [==============================] - 0s 70ms/step\n",
      "angry\n",
      "1/1 [==============================] - 0s 81ms/step\n",
      "angry\n",
      "1/1 [==============================] - 0s 106ms/step\n",
      "angry\n",
      "1/1 [==============================] - 0s 138ms/step\n",
      "angry\n",
      "1/1 [==============================] - 0s 98ms/step\n",
      "sad\n",
      "1/1 [==============================] - 0s 93ms/step\n",
      "angry\n",
      "1/1 [==============================] - 0s 58ms/step\n",
      "angry\n",
      "1/1 [==============================] - 0s 77ms/step\n",
      "happy\n",
      "1/1 [==============================] - 0s 104ms/step\n",
      "happy\n",
      "1/1 [==============================] - 0s 126ms/step\n",
      "happy\n",
      "1/1 [==============================] - 0s 60ms/step\n",
      "happy\n",
      "1/1 [==============================] - 0s 63ms/step\n",
      "happy\n",
      "1/1 [==============================] - 0s 462ms/step\n",
      "angry\n",
      "1/1 [==============================] - 0s 221ms/step\n",
      "happy\n",
      "1/1 [==============================] - 0s 174ms/step\n",
      "happy\n",
      "1/1 [==============================] - 0s 78ms/step\n",
      "happy\n",
      "1/1 [==============================] - 0s 98ms/step\n",
      "happy\n",
      "1/1 [==============================] - 0s 91ms/step\n",
      "happy\n",
      "1/1 [==============================] - 0s 92ms/step\n",
      "happy\n",
      "1/1 [==============================] - 0s 99ms/step\n",
      "happy\n",
      "1/1 [==============================] - 0s 75ms/step\n",
      "happy\n",
      "1/1 [==============================] - 0s 119ms/step\n",
      "happy\n",
      "1/1 [==============================] - 0s 79ms/step\n",
      "angry\n",
      "1/1 [==============================] - 0s 91ms/step\n",
      "happy\n",
      "1/1 [==============================] - 0s 103ms/step\n",
      "happy\n",
      "1/1 [==============================] - 0s 63ms/step\n",
      "sad\n",
      "1/1 [==============================] - 0s 108ms/step\n",
      "happy\n",
      "1/1 [==============================] - 0s 60ms/step\n",
      "happy\n",
      "1/1 [==============================] - 0s 64ms/step\n",
      "happy\n",
      "1/1 [==============================] - 0s 70ms/step\n",
      "happy\n",
      "1/1 [==============================] - 0s 59ms/step\n",
      "angry\n",
      "1/1 [==============================] - 0s 71ms/step\n",
      "happy\n",
      "1/1 [==============================] - 0s 76ms/step\n",
      "happy\n",
      "1/1 [==============================] - 0s 80ms/step\n",
      "happy\n",
      "1/1 [==============================] - 0s 76ms/step\n",
      "happy\n",
      "1/1 [==============================] - 0s 82ms/step\n",
      "happy\n",
      "1/1 [==============================] - 0s 70ms/step\n",
      "happy\n",
      "1/1 [==============================] - 0s 68ms/step\n",
      "happy\n",
      "1/1 [==============================] - 0s 75ms/step\n",
      "happy\n",
      "1/1 [==============================] - 0s 81ms/step\n",
      "happy\n",
      "1/1 [==============================] - 0s 82ms/step\n",
      "angry\n",
      "1/1 [==============================] - 0s 76ms/step\n",
      "angry\n",
      "1/1 [==============================] - 0s 112ms/step\n",
      "angry\n",
      "1/1 [==============================] - 0s 114ms/step\n",
      "sad\n",
      "1/1 [==============================] - 0s 103ms/step\n",
      "happy\n",
      "1/1 [==============================] - 0s 59ms/step\n",
      "sad\n",
      "1/1 [==============================] - 0s 79ms/step\n",
      "sad\n",
      "1/1 [==============================] - 0s 62ms/step\n",
      "angry\n",
      "1/1 [==============================] - 0s 69ms/step\n",
      "angry\n",
      "1/1 [==============================] - 0s 78ms/step\n",
      "sad\n",
      "1/1 [==============================] - 0s 64ms/step\n",
      "happy\n",
      "1/1 [==============================] - 0s 64ms/step\n",
      "happy\n",
      "1/1 [==============================] - 0s 90ms/step\n",
      "happy\n",
      "1/1 [==============================] - 0s 69ms/step\n",
      "happy\n",
      "1/1 [==============================] - 0s 65ms/step\n",
      "happy\n",
      "1/1 [==============================] - 0s 81ms/step\n",
      "happy\n",
      "1/1 [==============================] - 0s 60ms/step\n",
      "happy\n",
      "1/1 [==============================] - 0s 149ms/step\n",
      "happy\n",
      "1/1 [==============================] - 0s 77ms/step\n",
      "angry\n",
      "1/1 [==============================] - 0s 66ms/step\n",
      "sad\n",
      "1/1 [==============================] - 0s 70ms/step\n",
      "sad\n",
      "1/1 [==============================] - 0s 75ms/step\n",
      "sad\n",
      "1/1 [==============================] - 0s 76ms/step\n",
      "sad\n",
      "1/1 [==============================] - 0s 72ms/step\n",
      "sad\n",
      "1/1 [==============================] - 0s 106ms/step\n",
      "sad\n",
      "1/1 [==============================] - 0s 82ms/step\n",
      "sad\n",
      "1/1 [==============================] - 0s 67ms/step\n",
      "sad\n",
      "1/1 [==============================] - 0s 78ms/step\n",
      "sad\n",
      "1/1 [==============================] - 0s 64ms/step\n",
      "sad\n",
      "1/1 [==============================] - 0s 63ms/step\n",
      "angry\n",
      "1/1 [==============================] - 0s 63ms/step\n",
      "happy\n",
      "1/1 [==============================] - 0s 83ms/step\n",
      "happy\n",
      "1/1 [==============================] - 0s 78ms/step\n",
      "happy\n",
      "1/1 [==============================] - 0s 113ms/step\n",
      "sad\n",
      "1/1 [==============================] - 0s 90ms/step\n",
      "sad\n",
      "1/1 [==============================] - 0s 72ms/step\n",
      "angry\n",
      "1/1 [==============================] - 0s 63ms/step\n",
      "angry\n",
      "1/1 [==============================] - 0s 67ms/step\n",
      "angry\n",
      "1/1 [==============================] - 0s 79ms/step\n",
      "sad\n",
      "1/1 [==============================] - 0s 127ms/step\n",
      "sad\n",
      "1/1 [==============================] - 0s 93ms/step\n",
      "sad\n",
      "1/1 [==============================] - 0s 231ms/step\n",
      "sad\n",
      "1/1 [==============================] - 1s 614ms/step\n",
      "sad\n",
      "1/1 [==============================] - 0s 153ms/step\n",
      "happy\n",
      "1/1 [==============================] - 0s 95ms/step\n",
      "happy\n",
      "1/1 [==============================] - 0s 67ms/step\n",
      "sad\n",
      "1/1 [==============================] - 0s 107ms/step\n",
      "happy\n",
      "1/1 [==============================] - 0s 92ms/step\n",
      "sad\n",
      "1/1 [==============================] - 0s 134ms/step\n",
      "happy\n",
      "1/1 [==============================] - 0s 161ms/step\n",
      "happy\n",
      "1/1 [==============================] - 0s 129ms/step\n",
      "happy\n",
      "1/1 [==============================] - 0s 62ms/step\n",
      "happy\n",
      "1/1 [==============================] - 0s 64ms/step\n",
      "sad\n",
      "1/1 [==============================] - 0s 65ms/step\n",
      "sad\n",
      "1/1 [==============================] - 0s 75ms/step\n",
      "sad\n",
      "1/1 [==============================] - 0s 74ms/step\n",
      "sad\n",
      "1/1 [==============================] - 0s 69ms/step\n",
      "sad\n",
      "1/1 [==============================] - 0s 70ms/step\n",
      "sad\n",
      "1/1 [==============================] - 0s 65ms/step\n",
      "sad\n",
      "1/1 [==============================] - 0s 59ms/step\n",
      "sad\n",
      "1/1 [==============================] - 0s 67ms/step\n",
      "sad\n",
      "1/1 [==============================] - 0s 58ms/step\n",
      "sad\n",
      "1/1 [==============================] - 0s 66ms/step\n",
      "sad\n",
      "1/1 [==============================] - 0s 62ms/step\n",
      "sad\n",
      "1/1 [==============================] - 0s 70ms/step\n",
      "happy\n",
      "1/1 [==============================] - 0s 72ms/step\n",
      "angry\n",
      "1/1 [==============================] - 0s 69ms/step\n",
      "happy\n",
      "1/1 [==============================] - 0s 58ms/step\n",
      "sad\n",
      "1/1 [==============================] - 0s 58ms/step\n",
      "happy\n",
      "1/1 [==============================] - 0s 61ms/step\n",
      "angry\n",
      "1/1 [==============================] - 0s 81ms/step\n",
      "happy\n",
      "1/1 [==============================] - 0s 54ms/step\n",
      "happy\n",
      "1/1 [==============================] - 0s 61ms/step\n",
      "happy\n",
      "1/1 [==============================] - 0s 66ms/step\n",
      "happy\n",
      "1/1 [==============================] - 0s 54ms/step\n",
      "happy\n",
      "1/1 [==============================] - 0s 66ms/step\n",
      "happy\n",
      "1/1 [==============================] - 0s 64ms/step\n",
      "sad\n",
      "1/1 [==============================] - 0s 78ms/step\n",
      "happy\n",
      "1/1 [==============================] - 0s 76ms/step\n",
      "happy\n",
      "1/1 [==============================] - 0s 59ms/step\n",
      "angry\n",
      "1/1 [==============================] - 0s 66ms/step\n",
      "sad\n",
      "1/1 [==============================] - 0s 70ms/step\n",
      "happy\n",
      "1/1 [==============================] - 0s 58ms/step\n",
      "happy\n",
      "1/1 [==============================] - 0s 72ms/step\n",
      "happy\n",
      "1/1 [==============================] - 0s 59ms/step\n",
      "sad\n",
      "1/1 [==============================] - 0s 63ms/step\n",
      "happy\n",
      "1/1 [==============================] - 0s 69ms/step\n",
      "happy\n",
      "1/1 [==============================] - 0s 71ms/step\n",
      "sad\n",
      "1/1 [==============================] - 0s 52ms/step\n",
      "happy\n",
      "1/1 [==============================] - 0s 59ms/step\n",
      "angry\n",
      "1/1 [==============================] - 0s 58ms/step\n",
      "angry\n",
      "1/1 [==============================] - 0s 71ms/step\n",
      "happy\n",
      "1/1 [==============================] - 0s 71ms/step\n",
      "angry\n",
      "1/1 [==============================] - 0s 62ms/step\n",
      "happy\n",
      "1/1 [==============================] - 0s 62ms/step\n",
      "happy\n",
      "1/1 [==============================] - 0s 60ms/step\n",
      "happy\n",
      "1/1 [==============================] - 0s 54ms/step\n",
      "happy\n",
      "1/1 [==============================] - 0s 54ms/step\n",
      "happy\n",
      "1/1 [==============================] - 0s 65ms/step\n",
      "happy\n",
      "1/1 [==============================] - 0s 62ms/step\n",
      "happy\n",
      "1/1 [==============================] - 0s 73ms/step\n",
      "happy\n",
      "1/1 [==============================] - 0s 66ms/step\n",
      "happy\n",
      "1/1 [==============================] - 0s 68ms/step\n",
      "happy\n",
      "1/1 [==============================] - 0s 69ms/step\n",
      "angry\n",
      "1/1 [==============================] - 0s 60ms/step\n",
      "happy\n",
      "1/1 [==============================] - 0s 62ms/step\n",
      "happy\n",
      "1/1 [==============================] - 0s 80ms/step\n",
      "happy\n",
      "1/1 [==============================] - 0s 54ms/step\n",
      "happy\n",
      "1/1 [==============================] - 0s 66ms/step\n",
      "happy\n",
      "1/1 [==============================] - 0s 74ms/step\n",
      "happy\n",
      "1/1 [==============================] - 0s 57ms/step\n",
      "angry\n",
      "1/1 [==============================] - 0s 68ms/step\n",
      "happy\n",
      "1/1 [==============================] - 0s 56ms/step\n",
      "happy\n",
      "1/1 [==============================] - 0s 59ms/step\n",
      "sad\n",
      "1/1 [==============================] - 0s 69ms/step\n",
      "angry\n",
      "1/1 [==============================] - 0s 68ms/step\n",
      "sad\n",
      "1/1 [==============================] - 0s 72ms/step\n",
      "angry\n",
      "1/1 [==============================] - 0s 68ms/step\n",
      "angry\n",
      "1/1 [==============================] - 0s 66ms/step\n",
      "angry\n",
      "1/1 [==============================] - 0s 63ms/step\n",
      "angry\n",
      "1/1 [==============================] - 0s 66ms/step\n",
      "sad\n",
      "1/1 [==============================] - 0s 63ms/step\n",
      "angry\n",
      "1/1 [==============================] - 0s 67ms/step\n",
      "angry\n",
      "1/1 [==============================] - 0s 68ms/step\n",
      "angry\n",
      "1/1 [==============================] - 0s 60ms/step\n",
      "angry\n",
      "1/1 [==============================] - 0s 56ms/step\n",
      "angry\n",
      "1/1 [==============================] - 0s 66ms/step\n",
      "sad\n",
      "1/1 [==============================] - 0s 58ms/step\n",
      "angry\n",
      "1/1 [==============================] - 0s 67ms/step\n",
      "angry\n",
      "1/1 [==============================] - 0s 63ms/step\n",
      "angry\n",
      "1/1 [==============================] - 0s 87ms/step\n",
      "happy\n",
      "1/1 [==============================] - 0s 56ms/step\n",
      "happy\n",
      "1/1 [==============================] - 0s 62ms/step\n",
      "happy\n",
      "1/1 [==============================] - 0s 78ms/step\n",
      "angry\n",
      "1/1 [==============================] - 0s 62ms/step\n",
      "happy\n",
      "1/1 [==============================] - 0s 77ms/step\n",
      "angry\n",
      "1/1 [==============================] - 0s 69ms/step\n",
      "angry\n",
      "1/1 [==============================] - 0s 74ms/step\n",
      "sad\n",
      "1/1 [==============================] - 0s 66ms/step\n",
      "sad\n",
      "1/1 [==============================] - 0s 69ms/step\n",
      "angry\n",
      "1/1 [==============================] - 0s 54ms/step\n",
      "angry\n",
      "1/1 [==============================] - 0s 56ms/step\n",
      "angry\n",
      "1/1 [==============================] - 0s 70ms/step\n",
      "angry\n",
      "1/1 [==============================] - 0s 72ms/step\n",
      "happy\n",
      "1/1 [==============================] - 0s 59ms/step\n",
      "happy\n",
      "1/1 [==============================] - 0s 71ms/step\n",
      "angry\n",
      "1/1 [==============================] - 0s 56ms/step\n",
      "angry\n",
      "1/1 [==============================] - 0s 74ms/step\n",
      "angry\n",
      "1/1 [==============================] - 0s 86ms/step\n",
      "angry\n",
      "1/1 [==============================] - 0s 64ms/step\n",
      "happy\n",
      "1/1 [==============================] - 0s 65ms/step\n",
      "angry\n",
      "1/1 [==============================] - 0s 50ms/step\n",
      "happy\n",
      "1/1 [==============================] - 0s 61ms/step\n",
      "angry\n",
      "1/1 [==============================] - 0s 64ms/step\n",
      "happy\n",
      "1/1 [==============================] - 0s 60ms/step\n",
      "happy\n",
      "1/1 [==============================] - 0s 68ms/step\n",
      "happy\n",
      "1/1 [==============================] - 0s 60ms/step\n",
      "happy\n",
      "1/1 [==============================] - 0s 67ms/step\n",
      "happy\n",
      "1/1 [==============================] - 0s 59ms/step\n",
      "happy\n",
      "1/1 [==============================] - 0s 59ms/step\n",
      "happy\n",
      "1/1 [==============================] - 0s 57ms/step\n",
      "angry\n",
      "1/1 [==============================] - 0s 77ms/step\n",
      "happy\n",
      "1/1 [==============================] - 0s 67ms/step\n",
      "angry\n",
      "1/1 [==============================] - 0s 88ms/step\n",
      "sad\n",
      "1/1 [==============================] - 0s 71ms/step\n",
      "angry\n",
      "1/1 [==============================] - 0s 60ms/step\n",
      "happy\n"
     ]
    },
    {
     "ename": "error",
     "evalue": "OpenCV(4.9.0) D:\\a\\opencv-python\\opencv-python\\opencv\\modules\\imgproc\\src\\color.cpp:196: error: (-215:Assertion failed) !_src.empty() in function 'cv::cvtColor'\n",
     "output_type": "error",
     "traceback": [
      "\u001b[1;31m------------------------------------------------------------------------\u001b[0m",
      "\u001b[1;31merror\u001b[0m                                  Traceback (most recent call last)",
      "Cell \u001b[1;32mIn[126], line 35\u001b[0m\n\u001b[0;32m     31\u001b[0m ret, frame \u001b[38;5;241m=\u001b[39m cam\u001b[38;5;241m.\u001b[39mread()\n\u001b[0;32m     34\u001b[0m \u001b[38;5;66;03m# do any operation with the frame \u001b[39;00m\n\u001b[1;32m---> 35\u001b[0m img \u001b[38;5;241m=\u001b[39m \u001b[43mcv2\u001b[49m\u001b[38;5;241;43m.\u001b[39;49m\u001b[43mcvtColor\u001b[49m\u001b[43m(\u001b[49m\u001b[43mframe\u001b[49m\u001b[43m,\u001b[49m\u001b[43m \u001b[49m\u001b[43mcv2\u001b[49m\u001b[38;5;241;43m.\u001b[39;49m\u001b[43mCOLOR_BGR2GRAY\u001b[49m\u001b[43m)\u001b[49m\n\u001b[0;32m     37\u001b[0m \u001b[38;5;66;03m# detecting face location from the vid cam\u001b[39;00m\n\u001b[0;32m     38\u001b[0m faces \u001b[38;5;241m=\u001b[39m face_cascade\u001b[38;5;241m.\u001b[39mdetectMultiScale(img, \u001b[38;5;241m1.3\u001b[39m, \u001b[38;5;241m2\u001b[39m)\n",
      "\u001b[1;31merror\u001b[0m: OpenCV(4.9.0) D:\\a\\opencv-python\\opencv-python\\opencv\\modules\\imgproc\\src\\color.cpp:196: error: (-215:Assertion failed) !_src.empty() in function 'cv::cvtColor'\n"
     ]
    }
   ],
   "source": [
    "# initializaing face detection model \n",
    "import cv2\n",
    "import numpy as np\n",
    "from tensorflow.keras.models import load_model\n",
    "\n",
    "# loading face detection model\n",
    "face_cascade = cv2.CascadeClassifier('haarcascade_frontalface_default.xml')\n",
    "eye_cascade = cv2.CascadeClassifier('haarcascade_eye.xml')\n",
    "\n",
    "# loading spoofed image classifier\n",
    "# spoof_model = load_model('model/spoofing_model.h5')\n",
    "\n",
    "fed_model = models.load_model('mini_fed.h5')\n",
    "fed_model.compile(\n",
    "    loss='sparse_categorical_crossentropy', \n",
    "    metrics=['accuracy'], \n",
    "    optimizer='adam'\n",
    ")\n",
    "\n",
    "\n",
    "# capture image from video \n",
    "cam = cv2.VideoCapture(0)\n",
    "\n",
    "\n",
    "\n",
    "while(cam.isOpened()): \n",
    "\n",
    "   \n",
    "   \n",
    "    # read frame by frame\n",
    "    ret, frame = cam.read()\n",
    "\n",
    "    \n",
    "    # do any operation with the frame \n",
    "    img = cv2.cvtColor(frame, cv2.COLOR_BGR2GRAY)\n",
    "\n",
    "    # detecting face location from the vid cam\n",
    "    faces = face_cascade.detectMultiScale(img, 1.3, 2)\n",
    "\n",
    "    # print('Width :' , cam.get(3), '  hieght : ', cam.get(4))\n",
    "    for (x,y,w,h) in faces:\n",
    "\n",
    "        try:\n",
    "            face = frame[y-5:y+h+5, x-5:x+w+5]\n",
    "            emo_code, emo_label = predict_emotion(face, fed_model)\n",
    "            print(emo_label)\n",
    "            # print(label_converter[emotion])\n",
    "            cv2.rectangle(frame, (x,y), (x+w , y+h), (255,0,0), 2)\n",
    "            cv2.putText(frame, str(f'Class{emo_code} : {emo_label}'),  (x+1,y-10), cv2.FONT_HERSHEY_SIMPLEX, 1, (255,0,0), 2)\n",
    "            break\n",
    "            # if is_spoofed(img, spoof_model):\n",
    "            # cv2.rectangle(img, (x,y) , (x2,y2) , (0,255,0), 1)\n",
    "        except Exception as e: \n",
    "            print(str(e))\n",
    "            # cv2.rectangle(frame, (x,y), (x+w , y+h), (0,0,255), 2)\n",
    "            \n",
    "    cv2.imshow('emotions', frame)\n",
    "    \n",
    "    \n",
    "    # breaking the loop condition\n",
    "    key = cv2.waitKey(1)\n",
    "    if key & 0xFF == ord('e'): \n",
    "        break\n",
    "\n",
    "# release resource \n",
    "cam.release()\n",
    "cv2.destroyAllWindows()"
   ]
  },
  {
   "cell_type": "code",
   "execution_count": 88,
   "id": "6e68d945-3cfb-4ef9-8181-017f9d97890f",
   "metadata": {},
   "outputs": [],
   "source": [
    "# Redeveloped the Model \n",
    "# Considering Angry Happy and Sad \n",
    "train_dict = {\n",
    "    'angry': list(win_path.glob('train/angry/*.*')), \n",
    "    'happy': list(win_path.glob('train/happy/*.*')), \n",
    "    'sad': list(win_path.glob('train/sad/*.*'))\n",
    "}\n",
    "\n",
    "\n",
    "test_dict = {\n",
    "    'angry': list(win_path.glob('train/angry/*.*')),\n",
    "    'happy': list(win_path.glob('train/happy/*.*')), \n",
    "    'sad': list(win_path.glob('train/sad/*.*'))\n",
    "\n",
    "}\n",
    "\n",
    "\n",
    "\n",
    "train_image_dict = {\n",
    "    'angry': [], \n",
    "    'happy': [],\n",
    "    'sad': []\n",
    "}\n",
    "\n",
    "train_lbl_dict = {\n",
    "    'angry': [], \n",
    "    'happy': [],\n",
    "    'sad': []\n",
    "}\n",
    "\n",
    "test_image_dict = {\n",
    "    'angry': [], \n",
    "    'happy': [],  \n",
    "    'sad': []\n",
    "}\n",
    "\n",
    "\n",
    "test_lbl_dict = {\n",
    "    'angry': [], \n",
    "    'happy': [],\n",
    "    'sad': []\n",
    "}\n",
    "\n",
    "lbl = {\n",
    "    'angry': 0,\n",
    "    'happy': 1,\n",
    "    'sad': 2\n",
    "}\n"
   ]
  },
  {
   "cell_type": "code",
   "execution_count": 105,
   "id": "84c52616-bc4a-4365-a623-038e0050f7a9",
   "metadata": {},
   "outputs": [
    {
     "name": "stdout",
     "output_type": "stream",
     "text": [
      "data loading complete\n"
     ]
    }
   ],
   "source": [
    "# reading all images using the dictionary format \n",
    "data_x = []\n",
    "data_y = []\n",
    "for clas, imgs in train_dict.items():\n",
    "    for img in imgs: \n",
    "        read_img = cv.imread(str(img))\n",
    "        data_x.append(read_img)\n",
    "        # train_image_dict[clas].append(read_img)\n",
    "        # train_lbl_dict[clas].append(lbl[clas])\n",
    "        # storing lable \n",
    "        # print(lbl[clas])\n",
    "        data_y.append(lbl[clas])\n",
    "print('data loading complete')"
   ]
  },
  {
   "cell_type": "code",
   "execution_count": 94,
   "id": "5b8baa02-c9ec-45ee-b2a6-2368d2dd3410",
   "metadata": {},
   "outputs": [
    {
     "data": {
      "text/plain": [
       "16040"
      ]
     },
     "execution_count": 94,
     "metadata": {},
     "output_type": "execute_result"
    }
   ],
   "source": [
    "len(data_x)\n",
    "len(data_y)"
   ]
  },
  {
   "cell_type": "code",
   "execution_count": 106,
   "id": "b22a9a05-f399-4d78-bdb1-e74776382bc9",
   "metadata": {},
   "outputs": [
    {
     "name": "stdout",
     "output_type": "stream",
     "text": [
      "data loading complete\n"
     ]
    }
   ],
   "source": [
    "# reading all images using the dictionary format \n",
    "test_x = []\n",
    "test_y = []\n",
    "for clas, imgs in test_dict.items():\n",
    "    for img in imgs: \n",
    "        read_img = cv.imread(str(img))\n",
    "        data_x.append(read_img)\n",
    "        # test_image_dict[clas].append(read_img)\n",
    "        # test_lbl_dict[clas].append(lbl[clas])\n",
    "        # storing lable \n",
    "        data_y.append(lbl[clas])\n",
    "print('data loading complete')"
   ]
  },
  {
   "cell_type": "code",
   "execution_count": 107,
   "id": "bb0be464-34b4-419b-9749-5149b566cb67",
   "metadata": {},
   "outputs": [],
   "source": [
    "xdata = np.array(data_x)\n",
    "ydata = np.array(data_y)\n",
    "xdata = xdata / 255\n",
    "\n",
    "# # scalling the image \n",
    "# xtest = np.array(test_x)\n",
    "# ytest = np.array(test_y)\n",
    "# xtest = xtest / 255\n",
    "# # xtest[0]"
   ]
  },
  {
   "cell_type": "code",
   "execution_count": 109,
   "id": "d279a96f-1d24-45b2-af5f-722a2c1c9eac",
   "metadata": {
    "scrolled": true
   },
   "outputs": [
    {
     "data": {
      "text/plain": [
       "(32080,)"
      ]
     },
     "execution_count": 109,
     "metadata": {},
     "output_type": "execute_result"
    }
   ],
   "source": [
    "ydata.shape"
   ]
  },
  {
   "cell_type": "code",
   "execution_count": 114,
   "id": "f589f5a8-2e90-4acf-8aec-c272209f3859",
   "metadata": {},
   "outputs": [],
   "source": [
    "from sklearn import model_selection\n",
    "xtrain, xtest, ytrain, ytest = model_selection.train_test_split(xdata, ydata, test_size=0.2)"
   ]
  },
  {
   "cell_type": "code",
   "execution_count": 115,
   "id": "7081ddf5-b80e-4e67-9fc6-b03b32def334",
   "metadata": {},
   "outputs": [
    {
     "data": {
      "text/plain": [
       "(25664, 48, 48, 3)"
      ]
     },
     "execution_count": 115,
     "metadata": {},
     "output_type": "execute_result"
    }
   ],
   "source": [
    "xtrain.shape"
   ]
  },
  {
   "cell_type": "code",
   "execution_count": 116,
   "id": "53ac8a32-1f13-404a-93a9-795e0e7e3e09",
   "metadata": {},
   "outputs": [
    {
     "data": {
      "text/plain": [
       "(25664,)"
      ]
     },
     "execution_count": 116,
     "metadata": {},
     "output_type": "execute_result"
    }
   ],
   "source": [
    "ytrain.shape"
   ]
  },
  {
   "cell_type": "code",
   "execution_count": 117,
   "id": "3e58323a-d12e-4e8c-a597-76534ff2455d",
   "metadata": {},
   "outputs": [],
   "source": [
    "from sklearn.metrics import classification_report, confusion_matrix\n",
    "import seaborn as sn \n",
    "import tensorflow as tf \n",
    "from tensorflow import keras"
   ]
  },
  {
   "cell_type": "code",
   "execution_count": 118,
   "id": "86f23f52-ffa0-4a5e-a77b-6a9dcd8e8d67",
   "metadata": {},
   "outputs": [],
   "source": [
    "cnn_model  = tf.keras.Sequential([\n",
    "    # input \n",
    "    keras.layers.Input(shape=(48,48,3)),\n",
    "    \n",
    "   # cnn\n",
    "    keras.layers.Conv2D(filters=32, kernel_size=(3,3), activation='relu'),\n",
    "    keras.layers.MaxPooling2D((2,2)),\n",
    "\n",
    "    keras.layers.Conv2D(filters=64, kernel_size=(3,3), activation='relu'),\n",
    "    keras.layers.MaxPooling2D((2,2)),\n",
    "\n",
    "    \n",
    "   #dense\n",
    "    keras.layers.Flatten(), \n",
    "    keras.layers.Dense(128, activation='relu'),\n",
    "    keras.layers.Dense(3, activation='sigmoid')\n",
    "    \n",
    "])\n",
    "\n",
    "\n",
    "cnn_model.compile(\n",
    "    loss='sparse_categorical_crossentropy', \n",
    "    metrics=['accuracy'], \n",
    "    optimizer='adam'\n",
    ")"
   ]
  },
  {
   "cell_type": "code",
   "execution_count": 121,
   "id": "11769c85-6f2e-4f09-8da8-5a47a0aba8de",
   "metadata": {},
   "outputs": [
    {
     "data": {
      "text/plain": [
       "(6416, 48, 48, 3)"
      ]
     },
     "execution_count": 121,
     "metadata": {},
     "output_type": "execute_result"
    }
   ],
   "source": [
    "xtest.shape"
   ]
  },
  {
   "cell_type": "code",
   "execution_count": 120,
   "id": "46054594-39b6-4325-9c98-cc5edcb3d436",
   "metadata": {},
   "outputs": [
    {
     "data": {
      "text/plain": [
       "(6416,)"
      ]
     },
     "execution_count": 120,
     "metadata": {},
     "output_type": "execute_result"
    }
   ],
   "source": [
    "ytest.shape"
   ]
  },
  {
   "cell_type": "code",
   "execution_count": 122,
   "id": "6985ab8d-6267-4512-b2d7-7971eee8c569",
   "metadata": {},
   "outputs": [
    {
     "name": "stdout",
     "output_type": "stream",
     "text": [
      "Epoch 1/5\n",
      "802/802 [==============================] - 146s 174ms/step - loss: 0.8896 - accuracy: 0.5753 - val_loss: 0.7681 - val_accuracy: 0.6531\n",
      "Epoch 2/5\n",
      "802/802 [==============================] - 146s 182ms/step - loss: 0.7098 - accuracy: 0.6820 - val_loss: 0.6911 - val_accuracy: 0.6889\n",
      "Epoch 3/5\n",
      "802/802 [==============================] - 182s 228ms/step - loss: 0.5928 - accuracy: 0.7450 - val_loss: 0.6292 - val_accuracy: 0.7329\n",
      "Epoch 4/5\n",
      "802/802 [==============================] - 187s 234ms/step - loss: 0.4675 - accuracy: 0.8051 - val_loss: 0.5172 - val_accuracy: 0.7921\n",
      "Epoch 5/5\n",
      "802/802 [==============================] - 191s 239ms/step - loss: 0.3506 - accuracy: 0.8632 - val_loss: 0.4546 - val_accuracy: 0.8214\n"
     ]
    },
    {
     "data": {
      "text/plain": [
       "<keras.callbacks.History at 0x2528fa10d00>"
      ]
     },
     "execution_count": 122,
     "metadata": {},
     "output_type": "execute_result"
    }
   ],
   "source": [
    "cnn_model.fit(xtrain, ytrain, validation_data=(xtest, ytest), epochs=5)"
   ]
  },
  {
   "cell_type": "code",
   "execution_count": 123,
   "id": "4f4dd4f6-3ef3-4dc9-bd5f-bca14c851a0f",
   "metadata": {},
   "outputs": [],
   "source": [
    "cnn_model.save('mini_fed.h5')"
   ]
  },
  {
   "cell_type": "code",
   "execution_count": null,
   "id": "54198a75-27a1-49bb-a232-ec8d4e0f3210",
   "metadata": {},
   "outputs": [],
   "source": []
  },
  {
   "cell_type": "code",
   "execution_count": 1,
   "id": "11706100-0efe-4a83-92e8-f952166a2294",
   "metadata": {},
   "outputs": [
    {
     "name": "stdout",
     "output_type": "stream",
     "text": [
      "{'ip': '102.88.70.75', 'city': 'Lagos', 'region': 'Lagos', 'country': 'Nigeria', 'latitude': 6.4474, 'longitude': 3.3903}\n"
     ]
    }
   ],
   "source": [
    "import requests\n",
    "\n",
    "\n",
    "def get_ip():\n",
    "    response = requests.get('https://api64.ipify.org?format=json').json()\n",
    "    return response[\"ip\"]\n",
    "\n",
    "\n",
    "def get_location():\n",
    "    ip_address = get_ip()\n",
    "    response = requests.get(f'https://ipapi.co/{ip_address}/json/').json()\n",
    "    location_data = {\n",
    "        \"ip\": ip_address,\n",
    "        \"city\": response.get(\"city\"),\n",
    "        \"region\": response.get(\"region\"),\n",
    "        \"country\": response.get(\"country_name\"),\n",
    "        \"latitude\": response.get(\"latitude\"),\n",
    "        \"longitude\": response.get(\"longitude\")\n",
    "    }\n",
    "    return location_data\n",
    "\n",
    "\n",
    "print(get_location())"
   ]
  },
  {
   "cell_type": "code",
   "execution_count": 3,
   "id": "4cfff09f-61e1-4434-a7bc-0b5328af8bc4",
   "metadata": {},
   "outputs": [
    {
     "name": "stdout",
     "output_type": "stream",
     "text": [
      "Latitude: 6.4541\n",
      "Longitude: 3.3947\n"
     ]
    }
   ],
   "source": [
    "import ipinfo\n",
    "\n",
    "# Function to get location coordinates from IP address\n",
    "def get_location(ip_address):\n",
    "    access_token = 'af190d3cfd9f9a'\n",
    "    handler = ipinfo.getHandler(access_token)\n",
    "    details = handler.getDetails(ip_address)\n",
    "    return (details.latitude, details.longitude)\n",
    "\n",
    "# Example usage\n",
    "ip_address = \"102.88.70.75\"  # Replace this with the IP address you want to lookup\n",
    "location = get_location(ip_address)\n",
    "print(\"Latitude:\", location[0])\n",
    "print(\"Longitude:\", location[1])"
   ]
  },
  {
   "cell_type": "code",
   "execution_count": null,
   "id": "60f1f117-616c-41b7-979f-ad97c23a6772",
   "metadata": {},
   "outputs": [],
   "source": [
    "import math\n",
    "\n",
    "def haversine(lat1, lon1, lat2, lon2):\n",
    "    \"\"\"\n",
    "    Calculate the great-circle distance between two points\n",
    "    on the Earth's surface using the Haversine formula.\n",
    "\n",
    "    Parameters:\n",
    "    lat1, lon1: Latitude and longitude of the first point (in degrees)\n",
    "    lat2, lon2: Latitude and longitude of the second point (in degrees)\n",
    "\n",
    "    Returns:\n",
    "    Distance between the two points in kilometers.\n",
    "    \"\"\"\n",
    "    # Radius of the Earth in kilometers\n",
    "    R = 6371.0\n",
    "\n",
    "    # Convert latitude and longitude from degrees to radians\n",
    "    lat1_rad = math.radians(lat1)\n",
    "    lon1_rad = math.radians(lon1)\n",
    "    lat2_rad = math.radians(lat2)\n",
    "    lon2_rad = math.radians(lon2)\n",
    "\n",
    "    # Calculate differences in latitude and longitude\n",
    "    dlat = lat2_rad - lat1_rad\n",
    "    dlon = lon2_rad - lon1_rad\n",
    "\n",
    "    # Calculate the square of half the chord length between the points\n",
    "    a = math.sin(dlat / 2)**2 + math.cos(lat1_rad) * math.cos(lat2_rad) * math.sin(dlon / 2)**2\n",
    "\n",
    "    # Calculate the angular distance in radians\n",
    "    c = 2 * math.atan2(math.sqrt(a), math.sqrt(1 - a))\n",
    "\n",
    "    # Calculate the distance\n",
    "    distance = R * c\n",
    "\n",
    "    return distance\n",
    "\n",
    "# Example coordinates\n",
    "lat1, lon1 = 6.4474, 3.3903  # San Francisco\n",
    "lat2, lon2 = 6.4541, 3.3947  # Los Angeles\n",
    "\n",
    "# Calculate the distance between the two points\n",
    "distance_km = haversine(lat1, lon1, lat2, lon2)\n",
    "print(\"Distance between San Francisco and Los Angeles:\", distance_km, \"km\")\n"
   ]
  },
  {
   "cell_type": "code",
   "execution_count": 5,
   "id": "49dc454d-9fc8-4ded-b1d4-69ba7a84a1e4",
   "metadata": {},
   "outputs": [
    {
     "ename": "GeocoderInsufficientPrivileges",
     "evalue": "Non-successful status code 403",
     "output_type": "error",
     "traceback": [
      "\u001b[1;31m------------------------------------------------------------------------\u001b[0m",
      "\u001b[1;31mAdapterHTTPError\u001b[0m                       Traceback (most recent call last)",
      "File \u001b[1;32mc:\\users\\hp\\appdata\\local\\programs\\python\\python39\\lib\\site-packages\\geopy\\geocoders\\base.py:368\u001b[0m, in \u001b[0;36mGeocoder._call_geocoder\u001b[1;34m(self, url, callback, timeout, is_json, headers)\u001b[0m\n\u001b[0;32m    367\u001b[0m \u001b[38;5;28;01mif\u001b[39;00m is_json:\n\u001b[1;32m--> 368\u001b[0m     result \u001b[38;5;241m=\u001b[39m \u001b[38;5;28;43mself\u001b[39;49m\u001b[38;5;241;43m.\u001b[39;49m\u001b[43madapter\u001b[49m\u001b[38;5;241;43m.\u001b[39;49m\u001b[43mget_json\u001b[49m\u001b[43m(\u001b[49m\u001b[43murl\u001b[49m\u001b[43m,\u001b[49m\u001b[43m \u001b[49m\u001b[43mtimeout\u001b[49m\u001b[38;5;241;43m=\u001b[39;49m\u001b[43mtimeout\u001b[49m\u001b[43m,\u001b[49m\u001b[43m \u001b[49m\u001b[43mheaders\u001b[49m\u001b[38;5;241;43m=\u001b[39;49m\u001b[43mreq_headers\u001b[49m\u001b[43m)\u001b[49m\n\u001b[0;32m    369\u001b[0m \u001b[38;5;28;01melse\u001b[39;00m:\n",
      "File \u001b[1;32mc:\\users\\hp\\appdata\\local\\programs\\python\\python39\\lib\\site-packages\\geopy\\adapters.py:472\u001b[0m, in \u001b[0;36mRequestsAdapter.get_json\u001b[1;34m(self, url, timeout, headers)\u001b[0m\n\u001b[0;32m    471\u001b[0m \u001b[38;5;28;01mdef\u001b[39;00m \u001b[38;5;21mget_json\u001b[39m(\u001b[38;5;28mself\u001b[39m, url, \u001b[38;5;241m*\u001b[39m, timeout, headers):\n\u001b[1;32m--> 472\u001b[0m     resp \u001b[38;5;241m=\u001b[39m \u001b[38;5;28;43mself\u001b[39;49m\u001b[38;5;241;43m.\u001b[39;49m\u001b[43m_request\u001b[49m\u001b[43m(\u001b[49m\u001b[43murl\u001b[49m\u001b[43m,\u001b[49m\u001b[43m \u001b[49m\u001b[43mtimeout\u001b[49m\u001b[38;5;241;43m=\u001b[39;49m\u001b[43mtimeout\u001b[49m\u001b[43m,\u001b[49m\u001b[43m \u001b[49m\u001b[43mheaders\u001b[49m\u001b[38;5;241;43m=\u001b[39;49m\u001b[43mheaders\u001b[49m\u001b[43m)\u001b[49m\n\u001b[0;32m    473\u001b[0m     \u001b[38;5;28;01mtry\u001b[39;00m:\n",
      "File \u001b[1;32mc:\\users\\hp\\appdata\\local\\programs\\python\\python39\\lib\\site-packages\\geopy\\adapters.py:500\u001b[0m, in \u001b[0;36mRequestsAdapter._request\u001b[1;34m(self, url, timeout, headers)\u001b[0m\n\u001b[0;32m    499\u001b[0m     \u001b[38;5;28;01mif\u001b[39;00m resp\u001b[38;5;241m.\u001b[39mstatus_code \u001b[38;5;241m>\u001b[39m\u001b[38;5;241m=\u001b[39m \u001b[38;5;241m400\u001b[39m:\n\u001b[1;32m--> 500\u001b[0m         \u001b[38;5;28;01mraise\u001b[39;00m AdapterHTTPError(\n\u001b[0;32m    501\u001b[0m             \u001b[38;5;124m\"\u001b[39m\u001b[38;5;124mNon-successful status code \u001b[39m\u001b[38;5;132;01m%s\u001b[39;00m\u001b[38;5;124m\"\u001b[39m \u001b[38;5;241m%\u001b[39m resp\u001b[38;5;241m.\u001b[39mstatus_code,\n\u001b[0;32m    502\u001b[0m             status_code\u001b[38;5;241m=\u001b[39mresp\u001b[38;5;241m.\u001b[39mstatus_code,\n\u001b[0;32m    503\u001b[0m             headers\u001b[38;5;241m=\u001b[39mresp\u001b[38;5;241m.\u001b[39mheaders,\n\u001b[0;32m    504\u001b[0m             text\u001b[38;5;241m=\u001b[39mresp\u001b[38;5;241m.\u001b[39mtext,\n\u001b[0;32m    505\u001b[0m         )\n\u001b[0;32m    507\u001b[0m \u001b[38;5;28;01mreturn\u001b[39;00m resp\n",
      "\u001b[1;31mAdapterHTTPError\u001b[0m: Non-successful status code 403",
      "\nThe above exception was the direct cause of the following exception:\n",
      "\u001b[1;31mGeocoderInsufficientPrivileges\u001b[0m         Traceback (most recent call last)",
      "Cell \u001b[1;32mIn[5], line 12\u001b[0m\n\u001b[0;32m     10\u001b[0m \u001b[38;5;66;03m# Example usage\u001b[39;00m\n\u001b[0;32m     11\u001b[0m ip_address \u001b[38;5;241m=\u001b[39m \u001b[38;5;124m\"\u001b[39m\u001b[38;5;124m8.8.8.8\u001b[39m\u001b[38;5;124m\"\u001b[39m  \u001b[38;5;66;03m# Replace this with the IP address you want to lookup\u001b[39;00m\n\u001b[1;32m---> 12\u001b[0m location \u001b[38;5;241m=\u001b[39m \u001b[43mget_location\u001b[49m\u001b[43m(\u001b[49m\u001b[43mip_address\u001b[49m\u001b[43m)\u001b[49m\n\u001b[0;32m     13\u001b[0m \u001b[38;5;28mprint\u001b[39m(\u001b[38;5;124m\"\u001b[39m\u001b[38;5;124mLatitude:\u001b[39m\u001b[38;5;124m\"\u001b[39m, location[\u001b[38;5;241m0\u001b[39m])\n\u001b[0;32m     14\u001b[0m \u001b[38;5;28mprint\u001b[39m(\u001b[38;5;124m\"\u001b[39m\u001b[38;5;124mLongitude:\u001b[39m\u001b[38;5;124m\"\u001b[39m, location[\u001b[38;5;241m1\u001b[39m])\n",
      "Cell \u001b[1;32mIn[5], line 7\u001b[0m, in \u001b[0;36mget_location\u001b[1;34m(ip_address)\u001b[0m\n\u001b[0;32m      5\u001b[0m \u001b[38;5;28;01mdef\u001b[39;00m \u001b[38;5;21mget_location\u001b[39m(ip_address):\n\u001b[0;32m      6\u001b[0m     geolocator \u001b[38;5;241m=\u001b[39m Nominatim(user_agent\u001b[38;5;241m=\u001b[39m\u001b[38;5;124m\"\u001b[39m\u001b[38;5;124mgeoapiExercises\u001b[39m\u001b[38;5;124m\"\u001b[39m)\n\u001b[1;32m----> 7\u001b[0m     location \u001b[38;5;241m=\u001b[39m \u001b[43mgeolocator\u001b[49m\u001b[38;5;241;43m.\u001b[39;49m\u001b[43mgeocode\u001b[49m\u001b[43m(\u001b[49m\u001b[43mip_address\u001b[49m\u001b[43m)\u001b[49m\n\u001b[0;32m      8\u001b[0m     \u001b[38;5;28;01mreturn\u001b[39;00m (location\u001b[38;5;241m.\u001b[39mlatitude, location\u001b[38;5;241m.\u001b[39mlongitude)\n",
      "File \u001b[1;32mc:\\users\\hp\\appdata\\local\\programs\\python\\python39\\lib\\site-packages\\geopy\\geocoders\\nominatim.py:297\u001b[0m, in \u001b[0;36mNominatim.geocode\u001b[1;34m(self, query, exactly_one, timeout, limit, addressdetails, language, geometry, extratags, country_codes, viewbox, bounded, featuretype, namedetails)\u001b[0m\n\u001b[0;32m    295\u001b[0m logger\u001b[38;5;241m.\u001b[39mdebug(\u001b[38;5;124m\"\u001b[39m\u001b[38;5;132;01m%s\u001b[39;00m\u001b[38;5;124m.geocode: \u001b[39m\u001b[38;5;132;01m%s\u001b[39;00m\u001b[38;5;124m\"\u001b[39m, \u001b[38;5;28mself\u001b[39m\u001b[38;5;241m.\u001b[39m\u001b[38;5;18m__class__\u001b[39m\u001b[38;5;241m.\u001b[39m\u001b[38;5;18m__name__\u001b[39m, url)\n\u001b[0;32m    296\u001b[0m callback \u001b[38;5;241m=\u001b[39m partial(\u001b[38;5;28mself\u001b[39m\u001b[38;5;241m.\u001b[39m_parse_json, exactly_one\u001b[38;5;241m=\u001b[39mexactly_one)\n\u001b[1;32m--> 297\u001b[0m \u001b[38;5;28;01mreturn\u001b[39;00m \u001b[38;5;28;43mself\u001b[39;49m\u001b[38;5;241;43m.\u001b[39;49m\u001b[43m_call_geocoder\u001b[49m\u001b[43m(\u001b[49m\u001b[43murl\u001b[49m\u001b[43m,\u001b[49m\u001b[43m \u001b[49m\u001b[43mcallback\u001b[49m\u001b[43m,\u001b[49m\u001b[43m \u001b[49m\u001b[43mtimeout\u001b[49m\u001b[38;5;241;43m=\u001b[39;49m\u001b[43mtimeout\u001b[49m\u001b[43m)\u001b[49m\n",
      "File \u001b[1;32mc:\\users\\hp\\appdata\\local\\programs\\python\\python39\\lib\\site-packages\\geopy\\geocoders\\base.py:388\u001b[0m, in \u001b[0;36mGeocoder._call_geocoder\u001b[1;34m(self, url, callback, timeout, is_json, headers)\u001b[0m\n\u001b[0;32m    386\u001b[0m         \u001b[38;5;28;01mreturn\u001b[39;00m callback(result)\n\u001b[0;32m    387\u001b[0m \u001b[38;5;28;01mexcept\u001b[39;00m \u001b[38;5;167;01mException\u001b[39;00m \u001b[38;5;28;01mas\u001b[39;00m error:\n\u001b[1;32m--> 388\u001b[0m     res \u001b[38;5;241m=\u001b[39m \u001b[38;5;28;43mself\u001b[39;49m\u001b[38;5;241;43m.\u001b[39;49m\u001b[43m_adapter_error_handler\u001b[49m\u001b[43m(\u001b[49m\u001b[43merror\u001b[49m\u001b[43m)\u001b[49m\n\u001b[0;32m    389\u001b[0m     \u001b[38;5;28;01mif\u001b[39;00m res \u001b[38;5;129;01mis\u001b[39;00m NONE_RESULT:\n\u001b[0;32m    390\u001b[0m         \u001b[38;5;28;01mreturn\u001b[39;00m \u001b[38;5;28;01mNone\u001b[39;00m\n",
      "File \u001b[1;32mc:\\users\\hp\\appdata\\local\\programs\\python\\python39\\lib\\site-packages\\geopy\\geocoders\\base.py:411\u001b[0m, in \u001b[0;36mGeocoder._adapter_error_handler\u001b[1;34m(self, error)\u001b[0m\n\u001b[0;32m    407\u001b[0m         \u001b[38;5;28;01mraise\u001b[39;00m exc_cls(\n\u001b[0;32m    408\u001b[0m             \u001b[38;5;28mstr\u001b[39m(error), retry_after\u001b[38;5;241m=\u001b[39mget_retry_after(error\u001b[38;5;241m.\u001b[39mheaders)\n\u001b[0;32m    409\u001b[0m         ) \u001b[38;5;28;01mfrom\u001b[39;00m \u001b[38;5;21;01merror\u001b[39;00m\n\u001b[0;32m    410\u001b[0m     \u001b[38;5;28;01melse\u001b[39;00m:\n\u001b[1;32m--> 411\u001b[0m         \u001b[38;5;28;01mraise\u001b[39;00m exc_cls(\u001b[38;5;28mstr\u001b[39m(error)) \u001b[38;5;28;01mfrom\u001b[39;00m \u001b[38;5;21;01merror\u001b[39;00m\n\u001b[0;32m    412\u001b[0m \u001b[38;5;28;01melse\u001b[39;00m:\n\u001b[0;32m    413\u001b[0m     res \u001b[38;5;241m=\u001b[39m \u001b[38;5;28mself\u001b[39m\u001b[38;5;241m.\u001b[39m_geocoder_exception_handler(error)\n",
      "\u001b[1;31mGeocoderInsufficientPrivileges\u001b[0m: Non-successful status code 403"
     ]
    }
   ],
   "source": [
    "from geopy.geocoders import Nominatim\n",
    "import ipaddress\n",
    "\n",
    "# Function to get location coordinates from IP address\n",
    "def get_location(ip_address):\n",
    "    geolocator = Nominatim(user_agent=\"geoapiExercises\")\n",
    "    location = geolocator.geocode(ip_address)\n",
    "    return (location.latitude, location.longitude)\n",
    "\n",
    "# Example usage\n",
    "ip_address = \"8.8.8.8\"  # Replace this with the IP address you want to lookup\n",
    "location = get_location(ip_address)\n",
    "print(\"Latitude:\", location[0])\n",
    "print(\"Longitude:\", location[1])\n"
   ]
  },
  {
   "cell_type": "code",
   "execution_count": null,
   "id": "b0cca999-3540-4293-a6c0-706603fa0532",
   "metadata": {},
   "outputs": [],
   "source": []
  }
 ],
 "metadata": {
  "kernelspec": {
   "display_name": "Python 3 (ipykernel)",
   "language": "python",
   "name": "python3"
  },
  "language_info": {
   "codemirror_mode": {
    "name": "ipython",
    "version": 3
   },
   "file_extension": ".py",
   "mimetype": "text/x-python",
   "name": "python",
   "nbconvert_exporter": "python",
   "pygments_lexer": "ipython3",
   "version": "3.9.5"
  }
 },
 "nbformat": 4,
 "nbformat_minor": 5
}
