{
 "cells": [
  {
   "cell_type": "markdown",
   "id": "c90ac2e1-f733-4e7a-9df0-f2161844d580",
   "metadata": {},
   "source": [
    "###Importing Library"
   ]
  },
  {
   "cell_type": "code",
   "execution_count": 1,
   "id": "6813c32e",
   "metadata": {},
   "outputs": [],
   "source": [
    "# !pip install owlready"
   ]
  },
  {
   "cell_type": "code",
   "execution_count": 1,
   "id": "dd28a5fa-29a2-406c-b1b5-e1719c8190a6",
   "metadata": {},
   "outputs": [
    {
     "name": "stderr",
     "output_type": "stream",
     "text": [
      "* Owlready2 * Warning: optimized Cython parser module 'owlready2_optimized' is not available, defaulting to slower Python implementation\n"
     ]
    }
   ],
   "source": [
    "import warnings\n",
    "warnings.filterwarnings('ignore')\n",
    "\n",
    "\n",
    "import re\n",
    "from owlready2 import get_ontology\n",
    "from nltk.stem import PorterStemmer\n",
    "from sklearn.ensemble import GradientBoostingRegressor\n",
    "import tensorflow as tf\n",
    "import matplotlib.pyplot as plt\n",
    "import pandas as pd\n",
    "import tensorflow as tf\n",
    "import joblib\n",
    "from nltk.stem import PorterStemmer\n",
    "from nltk.tokenize import word_tokenize\n",
    "import numpy as np \n",
    "import joblib\n",
    "from nltk.stem import PorterStemmer\n",
    "import nltk\n",
    "from sklearn.feature_extraction.text import TfidfVectorizer"
   ]
  },
  {
   "cell_type": "markdown",
   "id": "7ad0a994-db61-4869-8bd9-d25b75fc935c",
   "metadata": {},
   "source": [
    "### Reading ontology file"
   ]
  },
  {
   "cell_type": "code",
   "execution_count": null,
   "id": "2e0f1571-28dc-4dee-ba1c-93592ccffa44",
   "metadata": {},
   "outputs": [
    {
     "ename": "",
     "evalue": "",
     "output_type": "error",
     "traceback": [
      "\u001b[1;31mThe Kernel crashed while executing code in the current cell or a previous cell. \n",
      "\u001b[1;31mPlease review the code in the cell(s) to identify a possible cause of the failure. \n",
      "\u001b[1;31mClick <a href='https://aka.ms/vscodeJupyterKernelCrash'>here</a> for more info. \n",
      "\u001b[1;31mView Jupyter <a href='command:jupyter.viewOutput'>log</a> for further details."
     ]
    }
   ],
   "source": [
    "# Step 1: Load the OWL file (treating txt as OWL)\n",
    "# OntologiaEmbrapa_2015-05-30.owl\n",
    "ontology_file = \"OntologiaEmbrapa_2015-05-30.owl\"  # Your OWL file saved as .txt\n",
    "ontfile= 'MaCOntoFile.OWL'\n",
    "\n",
    "onto = get_ontology(f\"file://{ontology_file}\").load(only_local=True)"
   ]
  },
  {
   "cell_type": "code",
   "execution_count": 3,
   "id": "b4a2fbab",
   "metadata": {},
   "outputs": [
    {
     "data": {
      "text/plain": [
       "<bound method _GraphManager.classes of get_ontology(\"http://www.owl-ontologies.com/Ontology1349727556.owl#\")>"
      ]
     },
     "execution_count": 3,
     "metadata": {},
     "output_type": "execute_result"
    }
   ],
   "source": [
    "onto.classes"
   ]
  },
  {
   "cell_type": "code",
   "execution_count": 4,
   "id": "828b6fcf-c35b-478b-a885-4d3951fe4ce2",
   "metadata": {},
   "outputs": [
    {
     "name": "stderr",
     "output_type": "stream",
     "text": [
      "* Owlready2 * Warning: ignoring cyclic type of, involving storid 459\n",
      "\n"
     ]
    },
    {
     "data": {
      "text/plain": [
       "[OntologiaEmbrapa_2015-05-30.BodyOfWater,\n",
       " OntologiaEmbrapa_2015-05-30.Water,\n",
       " OntologiaEmbrapa_2015-05-30.Evaporation,\n",
       " OntologiaEmbrapa_2015-05-30.WaterQuantityPhysicalMeasure,\n",
       " OntologiaEmbrapa_2015-05-30.Biome,\n",
       " OntologiaEmbrapa_2015-05-30.EnvironmentalTransformation,\n",
       " OntologiaEmbrapa_2015-05-30.EnvironmentalTransformationAgent,\n",
       " OntologiaEmbrapa_2015-05-30.ChemicalWaterIndicator,\n",
       " OntologiaEmbrapa_2015-05-30.WaterQualityChemicalMeasure,\n",
       " OntologiaEmbrapa_2015-05-30.MesoRegiao,\n",
       " OntologiaEmbrapa_2015-05-30.MicroRegiao,\n",
       " OntologiaEmbrapa_2015-05-30.Municipio,\n",
       " OntologiaEmbrapa_2015-05-30.RegiaoGeopolitica,\n",
       " OntologiaEmbrapa_2015-05-30.UnidadeDaFederacao,\n",
       " OntologiaEmbrapa_2015-05-30.Event,\n",
       " OntologiaEmbrapa_2015-05-30.InformationResource,\n",
       " OntologiaEmbrapa_2015-05-30.Seca,\n",
       " OntologiaEmbrapa_2015-05-30.SpaceTemporal_Extension,\n",
       " OntologiaEmbrapa_2015-05-30.Amostra,\n",
       " OntologiaEmbrapa_2015-05-30.Coleta]"
      ]
     },
     "execution_count": 4,
     "metadata": {},
     "output_type": "execute_result"
    }
   ],
   "source": [
    "raw_doc = list(onto.classes())[:]\n",
    "raw_doc[:20]"
   ]
  },
  {
   "cell_type": "code",
   "execution_count": 5,
   "id": "34592408-0dfb-4dc3-ba8d-63ae37351b1a",
   "metadata": {},
   "outputs": [
    {
     "data": {
      "text/plain": [
       "OntologiaEmbrapa_2015-05-30.Biome"
      ]
     },
     "execution_count": 5,
     "metadata": {},
     "output_type": "execute_result"
    }
   ],
   "source": [
    "sample = raw_doc[4]\n",
    "sample"
   ]
  },
  {
   "cell_type": "code",
   "execution_count": 6,
   "id": "1ce84da0-426f-43a8-a9e6-44cdc51dcb30",
   "metadata": {},
   "outputs": [
    {
     "data": {
      "text/plain": [
       "['BodyOfWater accumulatesWater  Water',\n",
       " 'WaterQuantityPhysicalMeasure actualEvapotranspiration  Evaporation',\n",
       " 'WaterQuantityPhysicalMeasure waterEvaporation  Evaporation',\n",
       " 'WaterQuantityPhysicalMeasure actualWaterEvaporation  Evaporation',\n",
       " 'Biome bioma_contem_Corpo_de_Agua  BodyOfWater',\n",
       " 'EnvironmentalTransformationAgent causa_TransformacaoAmbiental  EnvironmentalTransformation',\n",
       " 'WaterQualityChemicalMeasure concentracaoQuimicadaAgua  ChemicalWaterIndicator',\n",
       " 'MesoRegiao contemMesoRegiaoMicroRegiao  MicroRegiao',\n",
       " 'MicroRegiao contemMicroRegiaoMunicipio  Municipio',\n",
       " 'RegiaoGeopolitica contemRegiaoGeopoliticaUF  UnidadeDaFederacao',\n",
       " 'UnidadeDaFederacao fazParteUFRegiaoGeopolitica  RegiaoGeopolitica',\n",
       " 'UnidadeDaFederacao contemUFMesoRegiao  MesoRegiao',\n",
       " 'UnidadeDaFederacao contemUFMunicipio  Municipio',\n",
       " 'EnvironmentalTransformation decorredeEventos  Event',\n",
       " 'Event eventosdaTransformacaoAmbiental  EnvironmentalTransformation',\n",
       " 'InformationResource describe  Event',\n",
       " 'Seca dryPeriod  SpaceTemporal_Extension',\n",
       " 'EnvironmentalTransformation ehCausadoPor_AgenteDaTransformacaoAmbiental  EnvironmentalTransformationAgent',\n",
       " 'Amostra ehCompostaPorColeta  Coleta',\n",
       " 'Air ehCompostoPorGas  Gas',\n",
       " 'AgriculturalCrops ehCultivoDe  PlantBiologicalCommunity',\n",
       " 'ExpansaoAgropecuaria ehDecorrentedaAgricultura  Agriculture',\n",
       " 'Project ehExecutado_Instituicao  Institution',\n",
       " 'Institution executa_Projeto  Project',\n",
       " 'Coleta ehExpressaPorMedida  Medida',\n",
       " 'ManejoAgricola ehParteDoSistemaDeProducao  ProductionSystem',\n",
       " 'Institution emprega_Pessoa  Person',\n",
       " 'MesoRegiao fazParteMesoRegiaoUF  UnidadeDaFederacao',\n",
       " 'MicroRegiao fazParteMicroRegiaoMesoRegiao  MesoRegiao',\n",
       " 'Municipio fazParteMunicipioMicroRegiao  MicroRegiao',\n",
       " 'Municipio fazParteMunicipioUF  UnidadeDaFederacao',\n",
       " 'WaterQuantityPhysicalMeasure groundwaterflowDischarge  Discharge',\n",
       " 'WaterQuantityPhysicalMeasure waterDischarge  Discharge',\n",
       " 'WaterQualityBiologicalMeasure hasBiologicalCommunity  BiologicalCommunity',\n",
       " 'BiologicalCommunity hasBiologicalTaxa  BiologicalTaxa',\n",
       " 'Agriculture hasComponent  ManejoAgricola',\n",
       " 'WaterQualityBiologicalMeasure hasIndicatorQualityOrganism  IndicatorOrganism',\n",
       " 'Geopolitics identificadoresGeograficos  GeographicalExtension',\n",
       " 'WaterQuantityPhysicalMeasure in_conduitDischarge  Discharge',\n",
       " 'Clima incluiFenomenosMeterologicos  FenomenosMeterologicos',\n",
       " 'ManejoAgricola isComponentOf  Agriculture',\n",
       " 'Event is_describedBy  InformationAgent',\n",
       " 'GeographicalExtension latitudeLimitrofeNorte  GeographicalPosition',\n",
       " 'GeographicalExtension retanguloEnvolvente  GeographicalPosition',\n",
       " 'GeographicalExtension latitudeLimitrofeSul  GeographicalPosition',\n",
       " 'Agriculture localizadaEm_EspacoTemporal  Spacetime',\n",
       " 'GeographicalExtension longitudeLimitrofeEste  GeographicalPosition',\n",
       " 'GeographicalExtension longitudeLimitrofeOeste  GeographicalPosition',\n",
       " 'Biome manifesta-se  EnvironmentalDimension',\n",
       " 'EnvironmentalTransformationObject modifica-sePor_TransformacaoAmbiental  EnvironmentalTransformation',\n",
       " 'EnvironmentalTransformation ocorreEm_ObjetoDaTrasnformacaoAmbiental  EnvironmentalTransformationObject',\n",
       " 'BodyOfWater ocorreEm  Spacetime',\n",
       " 'TemporalDimension ocorreEm_TempoGeologico  GeologicalTime',\n",
       " 'Seca ocorreem_Bioma  Biome',\n",
       " 'Person participaDe_Projeto  Project',\n",
       " 'GeographicalExtension poligonoDelimitador  GeographicalPosition',\n",
       " 'Event possui_Dimensoes  Dimension',\n",
       " 'TemporalDimension possui_ExpressaoTemporal  TimeExpresion',\n",
       " 'SpacialDimension possui_Localizacao  Localization',\n",
       " 'WaterQuantityPhysicalMeasure potentialEvaporation  Evaporation',\n",
       " 'Precipitation precipitationDuration  SpaceTemporal_Extension',\n",
       " 'DadosMeterologicos saoColetadosPor  EstacaoMeterologica',\n",
       " 'FenomenosMeterologicos saoDescritosPor  DadosMeterologicos',\n",
       " 'WaterQuantityPhysicalMeasure streamDischarge  Discharge',\n",
       " 'DinamicaUsoeCoberturaDasTerras temCulturaAgricola  AgriculturalCrops',\n",
       " 'Amostra temDimensaoEspacoTemporal  Spacetime',\n",
       " 'Project temEquipeDe_Pessoa  Person',\n",
       " 'WaterQualityChemicalMeasure temIndicadorQuimico  ChemicalWaterIndicator',\n",
       " 'SpaceTemporal_Extension temLocalizacao  Localization',\n",
       " 'Spacetime tem_ExtensaoTemporal  SpaceTemporal_Extension',\n",
       " 'BodyOfWater tem_Medida_Biologica_de_Qualidade  WaterQualityBiologicalMeasure',\n",
       " 'BodyOfWater tem_Medida_Fisica_de_Qualidade  WaterQualityPhysicalMeasure',\n",
       " 'BodyOfWater tem_Medida_Fisica_de_Quantidade  WaterQuantityPhysicalMeasure',\n",
       " 'BodyOfWater tem_Medida_Quimica_de_Qualidade  WaterQualityChemicalMeasure',\n",
       " 'ChemicalWaterIndicator tem_compostoQuimico  ChemicalCompound',\n",
       " 'Person trabalhaEm_Instituicao  Institution',\n",
       " 'WaterQuantityPhysicalMeasure transpiration  Evaporation',\n",
       " 'TemporalDimension usa_ConvencaoTemporal  TimeStandard',\n",
       " 'Altimetrical-BathymetricalExtension usa_MensuracaoEspacial  SpaceMeasure',\n",
       " 'TemporalDimension usa_MensuracaoTemporal  TimeMeasurement',\n",
       " 'WaterQualityBiologicalMeasure waterBiolgicalComunity  BiologicalCommunity',\n",
       " 'WaterQuantityPhysicalMeasure waterflowStorm  Discharge']"
      ]
     },
     "execution_count": 6,
     "metadata": {},
     "output_type": "execute_result"
    }
   ],
   "source": [
    "# Iterate over object properties and display domain, property, and range\n",
    "raw_doc = []\n",
    "\n",
    "for obj_prop in onto.object_properties():\n",
    "    domain = obj_prop.domain\n",
    "    range_ = obj_prop.range\n",
    "    \n",
    "    # Handle cases where domain or range might not be explicitly set\n",
    "    try: \n",
    "        domain_name = domain[0].name if domain else \"Undefined\"\n",
    "        range_name = range_[0].name if range_ else \"Undefined\"\n",
    "        \n",
    "        # print(f\" {domain_name} {obj_prop.name}  {range_name}.\")\n",
    "        raw_doc.append(f\"{domain_name} {obj_prop.name}  {range_name}\")\n",
    "    except:\n",
    "        pass\n",
    "\n",
    "\n",
    "doc = raw_doc[:]\n",
    "doc"
   ]
  },
  {
   "cell_type": "code",
   "execution_count": 6,
   "id": "fef9f915-7f0d-4e81-a472-429f0463a340",
   "metadata": {},
   "outputs": [],
   "source": [
    "# initiating potter stemmer\n",
    "ps  = PorterStemmer()"
   ]
  },
  {
   "cell_type": "code",
   "execution_count": 8,
   "id": "75e71795-8d69-4e21-9e6c-1d2f5aba84b6",
   "metadata": {},
   "outputs": [
    {
     "data": {
      "text/plain": [
       "[['body', 'of', 'water', 'accumulates', 'water'],\n",
       " ['water',\n",
       "  'quantity',\n",
       "  'physical',\n",
       "  'measure',\n",
       "  'actual',\n",
       "  'evapotranspiration',\n",
       "  'evaporation'],\n",
       " ['water', 'quantity', 'physical', 'measure', 'water', 'evaporation'],\n",
       " ['water',\n",
       "  'quantity',\n",
       "  'physical',\n",
       "  'measure',\n",
       "  'actual',\n",
       "  'water',\n",
       "  'evaporation'],\n",
       " ['biome', 'bioma', 'contem', 'corpo', 'de', 'agua', 'body', 'of', 'water']]"
      ]
     },
     "execution_count": 8,
     "metadata": {},
     "output_type": "execute_result"
    }
   ],
   "source": [
    "# romove same work occuring side by side\n",
    "def remove_consecutive_duplicates(words):\n",
    "    result = []\n",
    "    for i, word in enumerate(words):\n",
    "        # Add the word only if it's not the same as the previous word\n",
    "        if i == 0 or word != words[i - 1]:\n",
    "            result.append(word)\n",
    "    return result\n",
    "\n",
    "# clean single doc\n",
    "def clean_doc(doc):\n",
    "    # remove empty list\n",
    "    clean = [samp for samp in doc.split(' ') if samp != '']\n",
    "\n",
    "    # remove underscore\n",
    "    clean_doc = []\n",
    "    cln_data = ''\n",
    "    for cln in clean: \n",
    "        cln_data = ' '.join(cln.split('_'))\n",
    "        clean_doc.extend(cln_data.split(' '))\n",
    "\n",
    "    # making first letter capital...\n",
    "    clean_doc = ' '.join([cln_d[0].upper() + cln_d[1:] for cln_d in clean_doc])\n",
    "\n",
    "\n",
    "    # Splitting based on Cap Text\n",
    "    clean_doc = re.findall(r'[A-Z][a-z]*|[a-z]*[A-Z][a-z]*', clean_doc)\n",
    "    # print(text)\n",
    "    # remove side by side reoccuring word\n",
    "    final_clean_document  = remove_consecutive_duplicates(clean_doc)    \n",
    "    # convert all to small cap\n",
    "    final_clean_document = [doc.lower() for doc in final_clean_document]\n",
    "\n",
    "    return final_clean_document\n",
    "\n",
    "# looping through the document in the \n",
    "# ontology file... \n",
    "def clean_docs(documents): \n",
    "    document = []\n",
    "    for doc in documents:\n",
    "        document.append(clean_doc(doc))\n",
    "        \n",
    "    return document\n",
    "\n",
    "clean_docs = clean_docs(doc)\n",
    "clean_docs[:5]"
   ]
  },
  {
   "cell_type": "markdown",
   "id": "8ac0ab4d",
   "metadata": {},
   "source": []
  },
  {
   "cell_type": "markdown",
   "id": "2d6c7a2b",
   "metadata": {},
   "source": []
  },
  {
   "cell_type": "code",
   "execution_count": 9,
   "id": "f8a5f13f-c366-4268-ada8-00991269de87",
   "metadata": {},
   "outputs": [
    {
     "data": {
      "text/html": [
       "<div>\n",
       "<style scoped>\n",
       "    .dataframe tbody tr th:only-of-type {\n",
       "        vertical-align: middle;\n",
       "    }\n",
       "\n",
       "    .dataframe tbody tr th {\n",
       "        vertical-align: top;\n",
       "    }\n",
       "\n",
       "    .dataframe thead th {\n",
       "        text-align: right;\n",
       "    }\n",
       "</style>\n",
       "<table border=\"1\" class=\"dataframe\">\n",
       "  <thead>\n",
       "    <tr style=\"text-align: right;\">\n",
       "      <th></th>\n",
       "      <th>ont_doc</th>\n",
       "      <th>clean_doc</th>\n",
       "    </tr>\n",
       "  </thead>\n",
       "  <tbody>\n",
       "    <tr>\n",
       "      <th>0</th>\n",
       "      <td>BodyOfWater accumulatesWater  Water</td>\n",
       "      <td>[body, of, water, accumulates, water]</td>\n",
       "    </tr>\n",
       "    <tr>\n",
       "      <th>1</th>\n",
       "      <td>WaterQuantityPhysicalMeasure actualEvapotransp...</td>\n",
       "      <td>[water, quantity, physical, measure, actual, e...</td>\n",
       "    </tr>\n",
       "    <tr>\n",
       "      <th>2</th>\n",
       "      <td>WaterQuantityPhysicalMeasure waterEvaporation ...</td>\n",
       "      <td>[water, quantity, physical, measure, water, ev...</td>\n",
       "    </tr>\n",
       "    <tr>\n",
       "      <th>3</th>\n",
       "      <td>WaterQuantityPhysicalMeasure actualWaterEvapor...</td>\n",
       "      <td>[water, quantity, physical, measure, actual, w...</td>\n",
       "    </tr>\n",
       "    <tr>\n",
       "      <th>4</th>\n",
       "      <td>Biome bioma_contem_Corpo_de_Agua  BodyOfWater</td>\n",
       "      <td>[biome, bioma, contem, corpo, de, agua, body, ...</td>\n",
       "    </tr>\n",
       "    <tr>\n",
       "      <th>...</th>\n",
       "      <td>...</td>\n",
       "      <td>...</td>\n",
       "    </tr>\n",
       "    <tr>\n",
       "      <th>77</th>\n",
       "      <td>TemporalDimension usa_ConvencaoTemporal  TimeS...</td>\n",
       "      <td>[temporal, dimension, usa, convencao, temporal...</td>\n",
       "    </tr>\n",
       "    <tr>\n",
       "      <th>78</th>\n",
       "      <td>Altimetrical-BathymetricalExtension usa_Mensur...</td>\n",
       "      <td>[altimetrical, bathymetrical, extension, usa, ...</td>\n",
       "    </tr>\n",
       "    <tr>\n",
       "      <th>79</th>\n",
       "      <td>TemporalDimension usa_MensuracaoTemporal  Time...</td>\n",
       "      <td>[temporal, dimension, usa, mensuracao, tempora...</td>\n",
       "    </tr>\n",
       "    <tr>\n",
       "      <th>80</th>\n",
       "      <td>WaterQualityBiologicalMeasure waterBiolgicalCo...</td>\n",
       "      <td>[water, quality, biological, measure, water, b...</td>\n",
       "    </tr>\n",
       "    <tr>\n",
       "      <th>81</th>\n",
       "      <td>WaterQuantityPhysicalMeasure waterflowStorm  D...</td>\n",
       "      <td>[water, quantity, physical, measure, waterflow...</td>\n",
       "    </tr>\n",
       "  </tbody>\n",
       "</table>\n",
       "<p>82 rows × 2 columns</p>\n",
       "</div>"
      ],
      "text/plain": [
       "                                              ont_doc  \\\n",
       "0                 BodyOfWater accumulatesWater  Water   \n",
       "1   WaterQuantityPhysicalMeasure actualEvapotransp...   \n",
       "2   WaterQuantityPhysicalMeasure waterEvaporation ...   \n",
       "3   WaterQuantityPhysicalMeasure actualWaterEvapor...   \n",
       "4       Biome bioma_contem_Corpo_de_Agua  BodyOfWater   \n",
       "..                                                ...   \n",
       "77  TemporalDimension usa_ConvencaoTemporal  TimeS...   \n",
       "78  Altimetrical-BathymetricalExtension usa_Mensur...   \n",
       "79  TemporalDimension usa_MensuracaoTemporal  Time...   \n",
       "80  WaterQualityBiologicalMeasure waterBiolgicalCo...   \n",
       "81  WaterQuantityPhysicalMeasure waterflowStorm  D...   \n",
       "\n",
       "                                            clean_doc  \n",
       "0               [body, of, water, accumulates, water]  \n",
       "1   [water, quantity, physical, measure, actual, e...  \n",
       "2   [water, quantity, physical, measure, water, ev...  \n",
       "3   [water, quantity, physical, measure, actual, w...  \n",
       "4   [biome, bioma, contem, corpo, de, agua, body, ...  \n",
       "..                                                ...  \n",
       "77  [temporal, dimension, usa, convencao, temporal...  \n",
       "78  [altimetrical, bathymetrical, extension, usa, ...  \n",
       "79  [temporal, dimension, usa, mensuracao, tempora...  \n",
       "80  [water, quality, biological, measure, water, b...  \n",
       "81  [water, quantity, physical, measure, waterflow...  \n",
       "\n",
       "[82 rows x 2 columns]"
      ]
     },
     "execution_count": 9,
     "metadata": {},
     "output_type": "execute_result"
    }
   ],
   "source": [
    "# generating Structural table... \n",
    "data = {'ont_doc': doc, 'clean_doc': clean_docs}\n",
    "dataset = pd.DataFrame(data)\n",
    "dataset"
   ]
  },
  {
   "cell_type": "code",
   "execution_count": 10,
   "id": "4336f814-e6eb-46bc-a889-592da6c26d9f",
   "metadata": {},
   "outputs": [
    {
     "data": {
      "text/html": [
       "<div>\n",
       "<style scoped>\n",
       "    .dataframe tbody tr th:only-of-type {\n",
       "        vertical-align: middle;\n",
       "    }\n",
       "\n",
       "    .dataframe tbody tr th {\n",
       "        vertical-align: top;\n",
       "    }\n",
       "\n",
       "    .dataframe thead th {\n",
       "        text-align: right;\n",
       "    }\n",
       "</style>\n",
       "<table border=\"1\" class=\"dataframe\">\n",
       "  <thead>\n",
       "    <tr style=\"text-align: right;\">\n",
       "      <th></th>\n",
       "      <th>ont_doc</th>\n",
       "      <th>clean_doc</th>\n",
       "      <th>intent</th>\n",
       "      <th>entity_tags</th>\n",
       "    </tr>\n",
       "  </thead>\n",
       "  <tbody>\n",
       "    <tr>\n",
       "      <th>0</th>\n",
       "      <td>BodyOfWater accumulatesWater  Water</td>\n",
       "      <td>[body, of, water, accumulates, water]</td>\n",
       "      <td>BodyOfWater</td>\n",
       "      <td>[(body, B-ENTITY), (of, B-ENTITY), (water, B-E...</td>\n",
       "    </tr>\n",
       "    <tr>\n",
       "      <th>1</th>\n",
       "      <td>WaterQuantityPhysicalMeasure actualEvapotransp...</td>\n",
       "      <td>[water, quantity, physical, measure, actual, e...</td>\n",
       "      <td>WaterQuantityPhysicalMeasure</td>\n",
       "      <td>[(water, B-ENTITY), (quantity, B-ENTITY), (phy...</td>\n",
       "    </tr>\n",
       "    <tr>\n",
       "      <th>2</th>\n",
       "      <td>WaterQuantityPhysicalMeasure waterEvaporation ...</td>\n",
       "      <td>[water, quantity, physical, measure, water, ev...</td>\n",
       "      <td>WaterQuantityPhysicalMeasure</td>\n",
       "      <td>[(water, B-ENTITY), (quantity, B-ENTITY), (phy...</td>\n",
       "    </tr>\n",
       "    <tr>\n",
       "      <th>3</th>\n",
       "      <td>WaterQuantityPhysicalMeasure actualWaterEvapor...</td>\n",
       "      <td>[water, quantity, physical, measure, actual, w...</td>\n",
       "      <td>WaterQuantityPhysicalMeasure</td>\n",
       "      <td>[(water, B-ENTITY), (quantity, B-ENTITY), (phy...</td>\n",
       "    </tr>\n",
       "    <tr>\n",
       "      <th>4</th>\n",
       "      <td>Biome bioma_contem_Corpo_de_Agua  BodyOfWater</td>\n",
       "      <td>[biome, bioma, contem, corpo, de, agua, body, ...</td>\n",
       "      <td>Biome</td>\n",
       "      <td>[(biome, B-ENTITY), (bioma, O), (contem, O), (...</td>\n",
       "    </tr>\n",
       "    <tr>\n",
       "      <th>...</th>\n",
       "      <td>...</td>\n",
       "      <td>...</td>\n",
       "      <td>...</td>\n",
       "      <td>...</td>\n",
       "    </tr>\n",
       "    <tr>\n",
       "      <th>77</th>\n",
       "      <td>TemporalDimension usa_ConvencaoTemporal  TimeS...</td>\n",
       "      <td>[temporal, dimension, usa, convencao, temporal...</td>\n",
       "      <td>TemporalDimension</td>\n",
       "      <td>[(temporal, B-ENTITY), (dimension, B-ENTITY), ...</td>\n",
       "    </tr>\n",
       "    <tr>\n",
       "      <th>78</th>\n",
       "      <td>Altimetrical-BathymetricalExtension usa_Mensur...</td>\n",
       "      <td>[altimetrical, bathymetrical, extension, usa, ...</td>\n",
       "      <td>Altimetrical-BathymetricalExtension</td>\n",
       "      <td>[(altimetrical, B-ENTITY), (bathymetrical, B-E...</td>\n",
       "    </tr>\n",
       "    <tr>\n",
       "      <th>79</th>\n",
       "      <td>TemporalDimension usa_MensuracaoTemporal  Time...</td>\n",
       "      <td>[temporal, dimension, usa, mensuracao, tempora...</td>\n",
       "      <td>TemporalDimension</td>\n",
       "      <td>[(temporal, B-ENTITY), (dimension, B-ENTITY), ...</td>\n",
       "    </tr>\n",
       "    <tr>\n",
       "      <th>80</th>\n",
       "      <td>WaterQualityBiologicalMeasure waterBiolgicalCo...</td>\n",
       "      <td>[water, quality, biological, measure, water, b...</td>\n",
       "      <td>WaterQualityBiologicalMeasure</td>\n",
       "      <td>[(water, B-ENTITY), (quality, B-ENTITY), (biol...</td>\n",
       "    </tr>\n",
       "    <tr>\n",
       "      <th>81</th>\n",
       "      <td>WaterQuantityPhysicalMeasure waterflowStorm  D...</td>\n",
       "      <td>[water, quantity, physical, measure, waterflow...</td>\n",
       "      <td>WaterQuantityPhysicalMeasure</td>\n",
       "      <td>[(water, B-ENTITY), (quantity, B-ENTITY), (phy...</td>\n",
       "    </tr>\n",
       "  </tbody>\n",
       "</table>\n",
       "<p>82 rows × 4 columns</p>\n",
       "</div>"
      ],
      "text/plain": [
       "                                              ont_doc  \\\n",
       "0                 BodyOfWater accumulatesWater  Water   \n",
       "1   WaterQuantityPhysicalMeasure actualEvapotransp...   \n",
       "2   WaterQuantityPhysicalMeasure waterEvaporation ...   \n",
       "3   WaterQuantityPhysicalMeasure actualWaterEvapor...   \n",
       "4       Biome bioma_contem_Corpo_de_Agua  BodyOfWater   \n",
       "..                                                ...   \n",
       "77  TemporalDimension usa_ConvencaoTemporal  TimeS...   \n",
       "78  Altimetrical-BathymetricalExtension usa_Mensur...   \n",
       "79  TemporalDimension usa_MensuracaoTemporal  Time...   \n",
       "80  WaterQualityBiologicalMeasure waterBiolgicalCo...   \n",
       "81  WaterQuantityPhysicalMeasure waterflowStorm  D...   \n",
       "\n",
       "                                            clean_doc  \\\n",
       "0               [body, of, water, accumulates, water]   \n",
       "1   [water, quantity, physical, measure, actual, e...   \n",
       "2   [water, quantity, physical, measure, water, ev...   \n",
       "3   [water, quantity, physical, measure, actual, w...   \n",
       "4   [biome, bioma, contem, corpo, de, agua, body, ...   \n",
       "..                                                ...   \n",
       "77  [temporal, dimension, usa, convencao, temporal...   \n",
       "78  [altimetrical, bathymetrical, extension, usa, ...   \n",
       "79  [temporal, dimension, usa, mensuracao, tempora...   \n",
       "80  [water, quality, biological, measure, water, b...   \n",
       "81  [water, quantity, physical, measure, waterflow...   \n",
       "\n",
       "                                 intent  \\\n",
       "0                           BodyOfWater   \n",
       "1          WaterQuantityPhysicalMeasure   \n",
       "2          WaterQuantityPhysicalMeasure   \n",
       "3          WaterQuantityPhysicalMeasure   \n",
       "4                                 Biome   \n",
       "..                                  ...   \n",
       "77                    TemporalDimension   \n",
       "78  Altimetrical-BathymetricalExtension   \n",
       "79                    TemporalDimension   \n",
       "80        WaterQualityBiologicalMeasure   \n",
       "81         WaterQuantityPhysicalMeasure   \n",
       "\n",
       "                                          entity_tags  \n",
       "0   [(body, B-ENTITY), (of, B-ENTITY), (water, B-E...  \n",
       "1   [(water, B-ENTITY), (quantity, B-ENTITY), (phy...  \n",
       "2   [(water, B-ENTITY), (quantity, B-ENTITY), (phy...  \n",
       "3   [(water, B-ENTITY), (quantity, B-ENTITY), (phy...  \n",
       "4   [(biome, B-ENTITY), (bioma, O), (contem, O), (...  \n",
       "..                                                ...  \n",
       "77  [(temporal, B-ENTITY), (dimension, B-ENTITY), ...  \n",
       "78  [(altimetrical, B-ENTITY), (bathymetrical, B-E...  \n",
       "79  [(temporal, B-ENTITY), (dimension, B-ENTITY), ...  \n",
       "80  [(water, B-ENTITY), (quality, B-ENTITY), (biol...  \n",
       "81  [(water, B-ENTITY), (quantity, B-ENTITY), (phy...  \n",
       "\n",
       "[82 rows x 4 columns]"
      ]
     },
     "execution_count": 10,
     "metadata": {},
     "output_type": "execute_result"
    }
   ],
   "source": [
    "# Function for tagging (providing intention)\n",
    "def generate_tags(row):\n",
    "    # Use 'ont_doc' to create intent tags\n",
    "    intent = row['ont_doc'].split()[0]  # First word as intent\n",
    "    \n",
    "    # Tag entities in 'clean_doc' using BIO tagging\n",
    "    entities = row['clean_doc']\n",
    "    tagged_entities = []\n",
    "    for word in entities:\n",
    "        if word.lower() in intent.lower():\n",
    "            tagged_entities.append((word, \"B-ENTITY\"))  # Beginning tag\n",
    "        else:\n",
    "            tagged_entities.append((word, \"O\"))  # Outside tag\n",
    "    return intent, tagged_entities\n",
    "\n",
    "# Apply tagging to the DataFrame\n",
    "dataset['intent'], dataset['entity_tags'] = zip(*dataset.apply(generate_tags, axis=1))\n",
    "\n",
    "dataset"
   ]
  },
  {
   "cell_type": "code",
   "execution_count": 11,
   "id": "99e9b931-5604-43fd-a254-664cc9e4d0dd",
   "metadata": {},
   "outputs": [
    {
     "data": {
      "text/html": [
       "<div>\n",
       "<style scoped>\n",
       "    .dataframe tbody tr th:only-of-type {\n",
       "        vertical-align: middle;\n",
       "    }\n",
       "\n",
       "    .dataframe tbody tr th {\n",
       "        vertical-align: top;\n",
       "    }\n",
       "\n",
       "    .dataframe thead th {\n",
       "        text-align: right;\n",
       "    }\n",
       "</style>\n",
       "<table border=\"1\" class=\"dataframe\">\n",
       "  <thead>\n",
       "    <tr style=\"text-align: right;\">\n",
       "      <th></th>\n",
       "      <th>ont_doc</th>\n",
       "      <th>clean_doc</th>\n",
       "      <th>intent</th>\n",
       "      <th>entity_tags</th>\n",
       "      <th>final_doc</th>\n",
       "    </tr>\n",
       "  </thead>\n",
       "  <tbody>\n",
       "    <tr>\n",
       "      <th>0</th>\n",
       "      <td>BodyOfWater accumulatesWater  Water</td>\n",
       "      <td>[body, of, water, accumulates, water]</td>\n",
       "      <td>BodyOfWater</td>\n",
       "      <td>[(body, B-ENTITY), (of, B-ENTITY), (water, B-E...</td>\n",
       "      <td>body of water accumulates water</td>\n",
       "    </tr>\n",
       "    <tr>\n",
       "      <th>1</th>\n",
       "      <td>WaterQuantityPhysicalMeasure actualEvapotransp...</td>\n",
       "      <td>[water, quantity, physical, measure, actual, e...</td>\n",
       "      <td>WaterQuantityPhysicalMeasure</td>\n",
       "      <td>[(water, B-ENTITY), (quantity, B-ENTITY), (phy...</td>\n",
       "      <td>water quantity physical measure actual evapotr...</td>\n",
       "    </tr>\n",
       "  </tbody>\n",
       "</table>\n",
       "</div>"
      ],
      "text/plain": [
       "                                             ont_doc  \\\n",
       "0                BodyOfWater accumulatesWater  Water   \n",
       "1  WaterQuantityPhysicalMeasure actualEvapotransp...   \n",
       "\n",
       "                                           clean_doc  \\\n",
       "0              [body, of, water, accumulates, water]   \n",
       "1  [water, quantity, physical, measure, actual, e...   \n",
       "\n",
       "                         intent  \\\n",
       "0                   BodyOfWater   \n",
       "1  WaterQuantityPhysicalMeasure   \n",
       "\n",
       "                                         entity_tags  \\\n",
       "0  [(body, B-ENTITY), (of, B-ENTITY), (water, B-E...   \n",
       "1  [(water, B-ENTITY), (quantity, B-ENTITY), (phy...   \n",
       "\n",
       "                                           final_doc  \n",
       "0                    body of water accumulates water  \n",
       "1  water quantity physical measure actual evapotr...  "
      ]
     },
     "execution_count": 11,
     "metadata": {},
     "output_type": "execute_result"
    }
   ],
   "source": [
    "dataset['final_doc'] = [' '.join(row) for row in dataset.clean_doc]\n",
    "dataset.head(2)"
   ]
  },
  {
   "cell_type": "markdown",
   "id": "060d7303-ca55-4aaf-bce7-3004fc7c7896",
   "metadata": {},
   "source": [
    "#### Processing Ontology Operation"
   ]
  },
  {
   "cell_type": "code",
   "execution_count": 12,
   "id": "c6d7913d-ec5b-43c2-ad0f-074c32f4fdf7",
   "metadata": {},
   "outputs": [],
   "source": [
    "# stem function\n",
    "def stem_text(texts): \n",
    "    # data = [ps.stem(txt) for txt in texts]\n",
    "    return ' '.join([ps.stem(txt) for txt in texts.split()])\n",
    "\n",
    "\n",
    "def join_text(texts): \n",
    "    return ' '.join([txt for txt in texts])\n",
    "    "
   ]
  },
  {
   "cell_type": "code",
   "execution_count": null,
   "id": "b5315824-59f5-4efb-8bf8-f4113c94848c",
   "metadata": {},
   "outputs": [
    {
     "data": {
      "text/html": [
       "<div>\n",
       "<style scoped>\n",
       "    .dataframe tbody tr th:only-of-type {\n",
       "        vertical-align: middle;\n",
       "    }\n",
       "\n",
       "    .dataframe tbody tr th {\n",
       "        vertical-align: top;\n",
       "    }\n",
       "\n",
       "    .dataframe thead th {\n",
       "        text-align: right;\n",
       "    }\n",
       "</style>\n",
       "<table border=\"1\" class=\"dataframe\">\n",
       "  <thead>\n",
       "    <tr style=\"text-align: right;\">\n",
       "      <th></th>\n",
       "      <th>ont_doc</th>\n",
       "      <th>clean_doc</th>\n",
       "      <th>intent</th>\n",
       "      <th>entity_tags</th>\n",
       "      <th>final_doc</th>\n",
       "    </tr>\n",
       "  </thead>\n",
       "  <tbody>\n",
       "    <tr>\n",
       "      <th>0</th>\n",
       "      <td>BodyOfWater accumulatesWater  Water</td>\n",
       "      <td>body of water accumulates water</td>\n",
       "      <td>BodyOfWater</td>\n",
       "      <td>[(body, B-ENTITY), (of, B-ENTITY), (water, B-E...</td>\n",
       "      <td>bodi of water accumul water</td>\n",
       "    </tr>\n",
       "    <tr>\n",
       "      <th>1</th>\n",
       "      <td>WaterQuantityPhysicalMeasure actualEvapotransp...</td>\n",
       "      <td>water quantity physical measure actual evapotr...</td>\n",
       "      <td>WaterQuantityPhysicalMeasure</td>\n",
       "      <td>[(water, B-ENTITY), (quantity, B-ENTITY), (phy...</td>\n",
       "      <td>water quantiti physic measur actual evapotrans...</td>\n",
       "    </tr>\n",
       "  </tbody>\n",
       "</table>\n",
       "</div>"
      ],
      "text/plain": [
       "                                             ont_doc  \\\n",
       "0                BodyOfWater accumulatesWater  Water   \n",
       "1  WaterQuantityPhysicalMeasure actualEvapotransp...   \n",
       "\n",
       "                                           clean_doc  \\\n",
       "0                    body of water accumulates water   \n",
       "1  water quantity physical measure actual evapotr...   \n",
       "\n",
       "                         intent  \\\n",
       "0                   BodyOfWater   \n",
       "1  WaterQuantityPhysicalMeasure   \n",
       "\n",
       "                                         entity_tags  \\\n",
       "0  [(body, B-ENTITY), (of, B-ENTITY), (water, B-E...   \n",
       "1  [(water, B-ENTITY), (quantity, B-ENTITY), (phy...   \n",
       "\n",
       "                                           final_doc  \n",
       "0                        bodi of water accumul water  \n",
       "1  water quantiti physic measur actual evapotrans...  "
      ]
     },
     "execution_count": 13,
     "metadata": {},
     "output_type": "execute_result"
    }
   ],
   "source": [
    "dataset.final_doc = dataset['final_doc'].apply(lambda x:stem_text(x))\n",
    "dataset.clean_doc = dataset['clean_doc'].apply(lambda x:join_text(x))\n",
    "dataset.head(2)"
   ]
  },
  {
   "cell_type": "code",
   "execution_count": 14,
   "id": "f310679d-4bba-4a06-8dd2-f6c8ee8cab99",
   "metadata": {},
   "outputs": [],
   "source": [
    "dataset.drop(columns=['entity_tags'], inplace=True)"
   ]
  },
  {
   "cell_type": "code",
   "execution_count": 15,
   "id": "2da36d14-bdab-4893-a245-08fe95306bcd",
   "metadata": {},
   "outputs": [
    {
     "name": "stdout",
     "output_type": "stream",
     "text": [
      "(82, 4)\n"
     ]
    },
    {
     "data": {
      "text/html": [
       "<div>\n",
       "<style scoped>\n",
       "    .dataframe tbody tr th:only-of-type {\n",
       "        vertical-align: middle;\n",
       "    }\n",
       "\n",
       "    .dataframe tbody tr th {\n",
       "        vertical-align: top;\n",
       "    }\n",
       "\n",
       "    .dataframe thead th {\n",
       "        text-align: right;\n",
       "    }\n",
       "</style>\n",
       "<table border=\"1\" class=\"dataframe\">\n",
       "  <thead>\n",
       "    <tr style=\"text-align: right;\">\n",
       "      <th></th>\n",
       "      <th>ont_doc</th>\n",
       "      <th>clean_doc</th>\n",
       "      <th>intent</th>\n",
       "      <th>final_doc</th>\n",
       "    </tr>\n",
       "  </thead>\n",
       "  <tbody>\n",
       "    <tr>\n",
       "      <th>0</th>\n",
       "      <td>BodyOfWater accumulatesWater  Water</td>\n",
       "      <td>body of water accumulates water</td>\n",
       "      <td>BodyOfWater</td>\n",
       "      <td>bodi of water accumul water</td>\n",
       "    </tr>\n",
       "    <tr>\n",
       "      <th>1</th>\n",
       "      <td>WaterQuantityPhysicalMeasure actualEvapotransp...</td>\n",
       "      <td>water quantity physical measure actual evapotr...</td>\n",
       "      <td>WaterQuantityPhysicalMeasure</td>\n",
       "      <td>water quantiti physic measur actual evapotrans...</td>\n",
       "    </tr>\n",
       "    <tr>\n",
       "      <th>2</th>\n",
       "      <td>WaterQuantityPhysicalMeasure waterEvaporation ...</td>\n",
       "      <td>water quantity physical measure water evaporation</td>\n",
       "      <td>WaterQuantityPhysicalMeasure</td>\n",
       "      <td>water quantiti physic measur water evapor</td>\n",
       "    </tr>\n",
       "    <tr>\n",
       "      <th>3</th>\n",
       "      <td>WaterQuantityPhysicalMeasure actualWaterEvapor...</td>\n",
       "      <td>water quantity physical measure actual water e...</td>\n",
       "      <td>WaterQuantityPhysicalMeasure</td>\n",
       "      <td>water quantiti physic measur actual water evapor</td>\n",
       "    </tr>\n",
       "    <tr>\n",
       "      <th>4</th>\n",
       "      <td>Biome bioma_contem_Corpo_de_Agua  BodyOfWater</td>\n",
       "      <td>biome bioma contem corpo de agua body of water</td>\n",
       "      <td>Biome</td>\n",
       "      <td>biom bioma contem corpo de agua bodi of water</td>\n",
       "    </tr>\n",
       "  </tbody>\n",
       "</table>\n",
       "</div>"
      ],
      "text/plain": [
       "                                             ont_doc  \\\n",
       "0                BodyOfWater accumulatesWater  Water   \n",
       "1  WaterQuantityPhysicalMeasure actualEvapotransp...   \n",
       "2  WaterQuantityPhysicalMeasure waterEvaporation ...   \n",
       "3  WaterQuantityPhysicalMeasure actualWaterEvapor...   \n",
       "4      Biome bioma_contem_Corpo_de_Agua  BodyOfWater   \n",
       "\n",
       "                                           clean_doc  \\\n",
       "0                    body of water accumulates water   \n",
       "1  water quantity physical measure actual evapotr...   \n",
       "2  water quantity physical measure water evaporation   \n",
       "3  water quantity physical measure actual water e...   \n",
       "4     biome bioma contem corpo de agua body of water   \n",
       "\n",
       "                         intent  \\\n",
       "0                   BodyOfWater   \n",
       "1  WaterQuantityPhysicalMeasure   \n",
       "2  WaterQuantityPhysicalMeasure   \n",
       "3  WaterQuantityPhysicalMeasure   \n",
       "4                         Biome   \n",
       "\n",
       "                                           final_doc  \n",
       "0                        bodi of water accumul water  \n",
       "1  water quantiti physic measur actual evapotrans...  \n",
       "2          water quantiti physic measur water evapor  \n",
       "3   water quantiti physic measur actual water evapor  \n",
       "4      biom bioma contem corpo de agua bodi of water  "
      ]
     },
     "execution_count": 15,
     "metadata": {},
     "output_type": "execute_result"
    }
   ],
   "source": [
    "print(dataset.shape)\n",
    "dataset.head()"
   ]
  },
  {
   "cell_type": "code",
   "execution_count": 16,
   "id": "ca2d95e6-bdbe-4f05-90eb-4361b196d77f",
   "metadata": {},
   "outputs": [
    {
     "data": {
      "text/plain": [
       "0                           bodi of water accumul water\n",
       "1     water quantiti physic measur actual evapotrans...\n",
       "2             water quantiti physic measur water evapor\n",
       "3      water quantiti physic measur actual water evapor\n",
       "4         biom bioma contem corpo de agua bodi of water\n",
       "                            ...                        \n",
       "77     tempor dimens usa convencao tempor time standard\n",
       "78    altimetr bathymetr extens usa mensuracao espac...\n",
       "79      tempor dimens usa mensuracao tempor time measur\n",
       "80    water qualiti biolog measur water biolgic comu...\n",
       "81    water quantiti physic measur waterflow storm d...\n",
       "Name: final_doc, Length: 82, dtype: object"
      ]
     },
     "execution_count": 16,
     "metadata": {},
     "output_type": "execute_result"
    }
   ],
   "source": [
    "dataset.final_doc"
   ]
  },
  {
   "cell_type": "code",
   "execution_count": 17,
   "id": "36b3dcb1-821c-4ff1-a34f-b9ef2d88098f",
   "metadata": {},
   "outputs": [
    {
     "data": {
      "text/plain": [
       "<Axes: >"
      ]
     },
     "execution_count": 17,
     "metadata": {},
     "output_type": "execute_result"
    },
    {
     "data": {
      "image/png": "[encoded data removed]",
      "text/plain": [
       "<Figure size 640x480 with 1 Axes>"
      ]
     },
     "metadata": {},
     "output_type": "display_data"
    }
   ],
   "source": [
    "dataset.intent.value_counts().plot(kind='bar')"
   ]
  },
  {
   "cell_type": "markdown",
   "id": "8efced84-c8e3-48f9-aa8d-66000aeaf395",
   "metadata": {},
   "source": [
    "#### Machine Learning CountVectorization or TFIDF extraction"
   ]
  },
  {
   "cell_type": "code",
   "execution_count": 18,
   "id": "c959037a-1e7a-4a88-9f3a-878027b715ab",
   "metadata": {},
   "outputs": [],
   "source": [
    "# FEATURE EXTRACTION \n",
    "from sklearn.feature_extraction.text import CountVectorizer, TfidfVectorizer"
   ]
  },
  {
   "cell_type": "code",
   "execution_count": 19,
   "id": "33505165-87b4-4414-8b4b-98da75bd2828",
   "metadata": {},
   "outputs": [
    {
     "data": {
      "text/plain": [
       "array([[0.59095607, 0.        , 0.        , ..., 0.        , 0.56042846,\n",
       "        0.        ],\n",
       "       [0.        , 0.47900722, 0.        , ..., 0.        , 0.24844822,\n",
       "        0.        ],\n",
       "       [0.        , 0.        , 0.        , ..., 0.        , 0.6020471 ,\n",
       "        0.        ],\n",
       "       ...,\n",
       "       [0.        , 0.        , 0.        , ..., 0.        , 0.        ,\n",
       "        0.        ],\n",
       "       [0.        , 0.        , 0.        , ..., 0.        , 0.3743718 ,\n",
       "        0.        ],\n",
       "       [0.        , 0.        , 0.        , ..., 0.        , 0.24302957,\n",
       "        0.51253571]])"
      ]
     },
     "execution_count": 19,
     "metadata": {},
     "output_type": "execute_result"
    }
   ],
   "source": [
    "# TF - IDF implementation \n",
    "idf = TfidfVectorizer()\n",
    "vocab = idf.fit(dataset.final_doc)\n",
    "idf_vec = vocab.fit_transform(dataset.final_doc)\n",
    "idf_vec.toarray()"
   ]
  },
  {
   "cell_type": "code",
   "execution_count": 20,
   "id": "6377c5bc-4002-492f-b098-23d11f0ffda1",
   "metadata": {},
   "outputs": [
    {
     "data": {
      "text/html": [
       "<div>\n",
       "<style scoped>\n",
       "    .dataframe tbody tr th:only-of-type {\n",
       "        vertical-align: middle;\n",
       "    }\n",
       "\n",
       "    .dataframe tbody tr th {\n",
       "        vertical-align: top;\n",
       "    }\n",
       "\n",
       "    .dataframe thead tr th {\n",
       "        text-align: left;\n",
       "    }\n",
       "</style>\n",
       "<table border=\"1\" class=\"dataframe\">\n",
       "  <thead>\n",
       "    <tr>\n",
       "      <th></th>\n",
       "      <th>accumul</th>\n",
       "      <th>actual</th>\n",
       "      <th>agent</th>\n",
       "      <th>agricola</th>\n",
       "      <th>agricultur</th>\n",
       "      <th>agricultura</th>\n",
       "      <th>agropecuaria</th>\n",
       "      <th>agua</th>\n",
       "      <th>air</th>\n",
       "      <th>altimetr</th>\n",
       "      <th>...</th>\n",
       "      <th>trabalha</th>\n",
       "      <th>transform</th>\n",
       "      <th>transformacao</th>\n",
       "      <th>transpir</th>\n",
       "      <th>trasnformacao</th>\n",
       "      <th>unidad</th>\n",
       "      <th>usa</th>\n",
       "      <th>uso</th>\n",
       "      <th>water</th>\n",
       "      <th>waterflow</th>\n",
       "    </tr>\n",
       "  </thead>\n",
       "  <tbody>\n",
       "    <tr>\n",
       "      <th>0</th>\n",
       "      <td>0.590956</td>\n",
       "      <td>0.000000</td>\n",
       "      <td>0.0</td>\n",
       "      <td>0.0</td>\n",
       "      <td>0.0</td>\n",
       "      <td>0.0</td>\n",
       "      <td>0.0</td>\n",
       "      <td>0.000000</td>\n",
       "      <td>0.0</td>\n",
       "      <td>0.000000</td>\n",
       "      <td>...</td>\n",
       "      <td>0.0</td>\n",
       "      <td>0.0</td>\n",
       "      <td>0.0</td>\n",
       "      <td>0.0</td>\n",
       "      <td>0.0</td>\n",
       "      <td>0.0</td>\n",
       "      <td>0.000000</td>\n",
       "      <td>0.0</td>\n",
       "      <td>0.560428</td>\n",
       "      <td>0.000000</td>\n",
       "    </tr>\n",
       "    <tr>\n",
       "      <th>1</th>\n",
       "      <td>0.000000</td>\n",
       "      <td>0.479007</td>\n",
       "      <td>0.0</td>\n",
       "      <td>0.0</td>\n",
       "      <td>0.0</td>\n",
       "      <td>0.0</td>\n",
       "      <td>0.0</td>\n",
       "      <td>0.000000</td>\n",
       "      <td>0.0</td>\n",
       "      <td>0.000000</td>\n",
       "      <td>...</td>\n",
       "      <td>0.0</td>\n",
       "      <td>0.0</td>\n",
       "      <td>0.0</td>\n",
       "      <td>0.0</td>\n",
       "      <td>0.0</td>\n",
       "      <td>0.0</td>\n",
       "      <td>0.000000</td>\n",
       "      <td>0.0</td>\n",
       "      <td>0.248448</td>\n",
       "      <td>0.000000</td>\n",
       "    </tr>\n",
       "    <tr>\n",
       "      <th>2</th>\n",
       "      <td>0.000000</td>\n",
       "      <td>0.000000</td>\n",
       "      <td>0.0</td>\n",
       "      <td>0.0</td>\n",
       "      <td>0.0</td>\n",
       "      <td>0.0</td>\n",
       "      <td>0.0</td>\n",
       "      <td>0.000000</td>\n",
       "      <td>0.0</td>\n",
       "      <td>0.000000</td>\n",
       "      <td>...</td>\n",
       "      <td>0.0</td>\n",
       "      <td>0.0</td>\n",
       "      <td>0.0</td>\n",
       "      <td>0.0</td>\n",
       "      <td>0.0</td>\n",
       "      <td>0.0</td>\n",
       "      <td>0.000000</td>\n",
       "      <td>0.0</td>\n",
       "      <td>0.602047</td>\n",
       "      <td>0.000000</td>\n",
       "    </tr>\n",
       "    <tr>\n",
       "      <th>3</th>\n",
       "      <td>0.000000</td>\n",
       "      <td>0.501959</td>\n",
       "      <td>0.0</td>\n",
       "      <td>0.0</td>\n",
       "      <td>0.0</td>\n",
       "      <td>0.0</td>\n",
       "      <td>0.0</td>\n",
       "      <td>0.000000</td>\n",
       "      <td>0.0</td>\n",
       "      <td>0.000000</td>\n",
       "      <td>...</td>\n",
       "      <td>0.0</td>\n",
       "      <td>0.0</td>\n",
       "      <td>0.0</td>\n",
       "      <td>0.0</td>\n",
       "      <td>0.0</td>\n",
       "      <td>0.0</td>\n",
       "      <td>0.000000</td>\n",
       "      <td>0.0</td>\n",
       "      <td>0.520705</td>\n",
       "      <td>0.000000</td>\n",
       "    </tr>\n",
       "    <tr>\n",
       "      <th>4</th>\n",
       "      <td>0.000000</td>\n",
       "      <td>0.000000</td>\n",
       "      <td>0.0</td>\n",
       "      <td>0.0</td>\n",
       "      <td>0.0</td>\n",
       "      <td>0.0</td>\n",
       "      <td>0.0</td>\n",
       "      <td>0.387583</td>\n",
       "      <td>0.0</td>\n",
       "      <td>0.000000</td>\n",
       "      <td>...</td>\n",
       "      <td>0.0</td>\n",
       "      <td>0.0</td>\n",
       "      <td>0.0</td>\n",
       "      <td>0.0</td>\n",
       "      <td>0.0</td>\n",
       "      <td>0.0</td>\n",
       "      <td>0.000000</td>\n",
       "      <td>0.0</td>\n",
       "      <td>0.201029</td>\n",
       "      <td>0.000000</td>\n",
       "    </tr>\n",
       "    <tr>\n",
       "      <th>...</th>\n",
       "      <td>...</td>\n",
       "      <td>...</td>\n",
       "      <td>...</td>\n",
       "      <td>...</td>\n",
       "      <td>...</td>\n",
       "      <td>...</td>\n",
       "      <td>...</td>\n",
       "      <td>...</td>\n",
       "      <td>...</td>\n",
       "      <td>...</td>\n",
       "      <td>...</td>\n",
       "      <td>...</td>\n",
       "      <td>...</td>\n",
       "      <td>...</td>\n",
       "      <td>...</td>\n",
       "      <td>...</td>\n",
       "      <td>...</td>\n",
       "      <td>...</td>\n",
       "      <td>...</td>\n",
       "      <td>...</td>\n",
       "      <td>...</td>\n",
       "    </tr>\n",
       "    <tr>\n",
       "      <th>77</th>\n",
       "      <td>0.000000</td>\n",
       "      <td>0.000000</td>\n",
       "      <td>0.0</td>\n",
       "      <td>0.0</td>\n",
       "      <td>0.0</td>\n",
       "      <td>0.0</td>\n",
       "      <td>0.0</td>\n",
       "      <td>0.000000</td>\n",
       "      <td>0.0</td>\n",
       "      <td>0.000000</td>\n",
       "      <td>...</td>\n",
       "      <td>0.0</td>\n",
       "      <td>0.0</td>\n",
       "      <td>0.0</td>\n",
       "      <td>0.0</td>\n",
       "      <td>0.0</td>\n",
       "      <td>0.0</td>\n",
       "      <td>0.363465</td>\n",
       "      <td>0.0</td>\n",
       "      <td>0.000000</td>\n",
       "      <td>0.000000</td>\n",
       "    </tr>\n",
       "    <tr>\n",
       "      <th>78</th>\n",
       "      <td>0.000000</td>\n",
       "      <td>0.000000</td>\n",
       "      <td>0.0</td>\n",
       "      <td>0.0</td>\n",
       "      <td>0.0</td>\n",
       "      <td>0.0</td>\n",
       "      <td>0.0</td>\n",
       "      <td>0.000000</td>\n",
       "      <td>0.0</td>\n",
       "      <td>0.416654</td>\n",
       "      <td>...</td>\n",
       "      <td>0.0</td>\n",
       "      <td>0.0</td>\n",
       "      <td>0.0</td>\n",
       "      <td>0.0</td>\n",
       "      <td>0.0</td>\n",
       "      <td>0.0</td>\n",
       "      <td>0.355540</td>\n",
       "      <td>0.0</td>\n",
       "      <td>0.000000</td>\n",
       "      <td>0.000000</td>\n",
       "    </tr>\n",
       "    <tr>\n",
       "      <th>79</th>\n",
       "      <td>0.000000</td>\n",
       "      <td>0.000000</td>\n",
       "      <td>0.0</td>\n",
       "      <td>0.0</td>\n",
       "      <td>0.0</td>\n",
       "      <td>0.0</td>\n",
       "      <td>0.0</td>\n",
       "      <td>0.000000</td>\n",
       "      <td>0.0</td>\n",
       "      <td>0.000000</td>\n",
       "      <td>...</td>\n",
       "      <td>0.0</td>\n",
       "      <td>0.0</td>\n",
       "      <td>0.0</td>\n",
       "      <td>0.0</td>\n",
       "      <td>0.0</td>\n",
       "      <td>0.0</td>\n",
       "      <td>0.398283</td>\n",
       "      <td>0.0</td>\n",
       "      <td>0.000000</td>\n",
       "      <td>0.000000</td>\n",
       "    </tr>\n",
       "    <tr>\n",
       "      <th>80</th>\n",
       "      <td>0.000000</td>\n",
       "      <td>0.000000</td>\n",
       "      <td>0.0</td>\n",
       "      <td>0.0</td>\n",
       "      <td>0.0</td>\n",
       "      <td>0.0</td>\n",
       "      <td>0.0</td>\n",
       "      <td>0.000000</td>\n",
       "      <td>0.0</td>\n",
       "      <td>0.000000</td>\n",
       "      <td>...</td>\n",
       "      <td>0.0</td>\n",
       "      <td>0.0</td>\n",
       "      <td>0.0</td>\n",
       "      <td>0.0</td>\n",
       "      <td>0.0</td>\n",
       "      <td>0.0</td>\n",
       "      <td>0.000000</td>\n",
       "      <td>0.0</td>\n",
       "      <td>0.374372</td>\n",
       "      <td>0.000000</td>\n",
       "    </tr>\n",
       "    <tr>\n",
       "      <th>81</th>\n",
       "      <td>0.000000</td>\n",
       "      <td>0.000000</td>\n",
       "      <td>0.0</td>\n",
       "      <td>0.0</td>\n",
       "      <td>0.0</td>\n",
       "      <td>0.0</td>\n",
       "      <td>0.0</td>\n",
       "      <td>0.000000</td>\n",
       "      <td>0.0</td>\n",
       "      <td>0.000000</td>\n",
       "      <td>...</td>\n",
       "      <td>0.0</td>\n",
       "      <td>0.0</td>\n",
       "      <td>0.0</td>\n",
       "      <td>0.0</td>\n",
       "      <td>0.0</td>\n",
       "      <td>0.0</td>\n",
       "      <td>0.000000</td>\n",
       "      <td>0.0</td>\n",
       "      <td>0.243030</td>\n",
       "      <td>0.512536</td>\n",
       "    </tr>\n",
       "  </tbody>\n",
       "</table>\n",
       "<p>82 rows × 182 columns</p>\n",
       "</div>"
      ],
      "text/plain": [
       "     accumul    actual agent agricola agricultur agricultura agropecuaria  \\\n",
       "0   0.590956  0.000000   0.0      0.0        0.0         0.0          0.0   \n",
       "1   0.000000  0.479007   0.0      0.0        0.0         0.0          0.0   \n",
       "2   0.000000  0.000000   0.0      0.0        0.0         0.0          0.0   \n",
       "3   0.000000  0.501959   0.0      0.0        0.0         0.0          0.0   \n",
       "4   0.000000  0.000000   0.0      0.0        0.0         0.0          0.0   \n",
       "..       ...       ...   ...      ...        ...         ...          ...   \n",
       "77  0.000000  0.000000   0.0      0.0        0.0         0.0          0.0   \n",
       "78  0.000000  0.000000   0.0      0.0        0.0         0.0          0.0   \n",
       "79  0.000000  0.000000   0.0      0.0        0.0         0.0          0.0   \n",
       "80  0.000000  0.000000   0.0      0.0        0.0         0.0          0.0   \n",
       "81  0.000000  0.000000   0.0      0.0        0.0         0.0          0.0   \n",
       "\n",
       "        agua  air  altimetr  ... trabalha transform transformacao transpir  \\\n",
       "0   0.000000  0.0  0.000000  ...      0.0       0.0           0.0      0.0   \n",
       "1   0.000000  0.0  0.000000  ...      0.0       0.0           0.0      0.0   \n",
       "2   0.000000  0.0  0.000000  ...      0.0       0.0           0.0      0.0   \n",
       "3   0.000000  0.0  0.000000  ...      0.0       0.0           0.0      0.0   \n",
       "4   0.387583  0.0  0.000000  ...      0.0       0.0           0.0      0.0   \n",
       "..       ...  ...       ...  ...      ...       ...           ...      ...   \n",
       "77  0.000000  0.0  0.000000  ...      0.0       0.0           0.0      0.0   \n",
       "78  0.000000  0.0  0.416654  ...      0.0       0.0           0.0      0.0   \n",
       "79  0.000000  0.0  0.000000  ...      0.0       0.0           0.0      0.0   \n",
       "80  0.000000  0.0  0.000000  ...      0.0       0.0           0.0      0.0   \n",
       "81  0.000000  0.0  0.000000  ...      0.0       0.0           0.0      0.0   \n",
       "\n",
       "   trasnformacao unidad       usa  uso     water waterflow  \n",
       "0            0.0    0.0  0.000000  0.0  0.560428  0.000000  \n",
       "1            0.0    0.0  0.000000  0.0  0.248448  0.000000  \n",
       "2            0.0    0.0  0.000000  0.0  0.602047  0.000000  \n",
       "3            0.0    0.0  0.000000  0.0  0.520705  0.000000  \n",
       "4            0.0    0.0  0.000000  0.0  0.201029  0.000000  \n",
       "..           ...    ...       ...  ...       ...       ...  \n",
       "77           0.0    0.0  0.363465  0.0  0.000000  0.000000  \n",
       "78           0.0    0.0  0.355540  0.0  0.000000  0.000000  \n",
       "79           0.0    0.0  0.398283  0.0  0.000000  0.000000  \n",
       "80           0.0    0.0  0.000000  0.0  0.374372  0.000000  \n",
       "81           0.0    0.0  0.000000  0.0  0.243030  0.512536  \n",
       "\n",
       "[82 rows x 182 columns]"
      ]
     },
     "execution_count": 20,
     "metadata": {},
     "output_type": "execute_result"
    }
   ],
   "source": [
    "pd.DataFrame(idf_vec.toarray(), columns=[vocab.get_feature_names_out()])"
   ]
  },
  {
   "cell_type": "code",
   "execution_count": 21,
   "id": "ce2e1468-6dde-4992-84a8-8391ef91cc4f",
   "metadata": {},
   "outputs": [],
   "source": [
    "cv = CountVectorizer()\n",
    "feature_matrix = cv.fit_transform(dataset.final_doc)"
   ]
  },
  {
   "cell_type": "code",
   "execution_count": 24,
   "id": "e4daa583-bcdf-435c-b2af-11b935814188",
   "metadata": {},
   "outputs": [],
   "source": [
    "# cv.vocabulary_"
   ]
  },
  {
   "cell_type": "code",
   "execution_count": 22,
   "id": "3402496b-b565-40fa-8c51-edb4ed649577",
   "metadata": {},
   "outputs": [
    {
     "data": {
      "text/plain": [
       "array(['accumul', 'actual', 'agent', 'agricola', 'agricultur',\n",
       "       'agricultura', 'agropecuaria', 'agua', 'air', 'altimetr',\n",
       "       'ambient', 'amostra', 'bathymetr', 'biolgic', 'biolog',\n",
       "       'biologica', 'biom', 'bioma', 'bodi', 'by', 'causa', 'causado',\n",
       "       'chemic', 'clima', 'cobertura', 'coleta', 'coletado', 'commun',\n",
       "       'compon', 'composta', 'composto', 'compound', 'comun',\n",
       "       'concentracao', 'conduit', 'contem', 'convencao', 'corpo', 'crop',\n",
       "       'cultivo', 'cultura', 'da', 'dado', 'de', 'decorred',\n",
       "       'decorrenteda', 'delimitador', 'describ', 'descrito', 'dimens',\n",
       "       'dimensao', 'dimenso', 'dinamica', 'discharg', 'do', 'dri',\n",
       "       'durat', 'eh', 'em', 'emprega', 'environment', 'envolvent',\n",
       "       'equip', 'espaci', 'espaco', 'est', 'estacao', 'evapor',\n",
       "       'evapotranspir', 'event', 'evento', 'eventosda', 'executa',\n",
       "       'executado', 'expansao', 'expres', 'expressa', 'expressao',\n",
       "       'extens', 'extensao', 'faz', 'federacao', 'fenomeno', 'fisica',\n",
       "       'ga', 'geografico', 'geograph', 'geolog', 'geologico', 'geopolit',\n",
       "       'geopolitica', 'groundwaterflow', 'ha', 'identificador', 'in',\n",
       "       'inclui', 'indic', 'indicador', 'inform', 'instituicao',\n",
       "       'institut', 'is', 'latitud', 'limitrof', 'local', 'localizacao',\n",
       "       'localizada', 'longitud', 'manejo', 'manifesta', 'measur',\n",
       "       'medida', 'mensuracao', 'meso', 'meterologica', 'meterologico',\n",
       "       'micro', 'modifica', 'municipio', 'nort', 'object', 'objeto',\n",
       "       'ocorr', 'ocorreem', 'oest', 'of', 'organ', 'part', 'participa',\n",
       "       'period', 'person', 'pessoa', 'physic', 'plant', 'poligono', 'por',\n",
       "       'posit', 'possui', 'potenti', 'precipit', 'producao', 'product',\n",
       "       'project', 'projeto', 'qualidad', 'qualiti', 'quantidad',\n",
       "       'quantiti', 'quimica', 'quimicada', 'quimico', 'regiao', 'resourc',\n",
       "       'retangulo', 'sao', 'seca', 'sepor', 'sistema', 'space',\n",
       "       'spacetim', 'spacial', 'standard', 'storm', 'stream', 'sul',\n",
       "       'system', 'taxa', 'tem', 'tempo', 'tempor', 'terra', 'time',\n",
       "       'trabalha', 'transform', 'transformacao', 'transpir',\n",
       "       'trasnformacao', 'unidad', 'usa', 'uso', 'water', 'waterflow'],\n",
       "      dtype=object)"
      ]
     },
     "execution_count": 22,
     "metadata": {},
     "output_type": "execute_result"
    }
   ],
   "source": [
    "cv.get_feature_names_out()"
   ]
  },
  {
   "cell_type": "code",
   "execution_count": 23,
   "id": "2133f23d-ec0c-45be-a312-aba805297d91",
   "metadata": {},
   "outputs": [
    {
     "data": {
      "text/plain": [
       "array([[1, 0, 0, ..., 0, 2, 0],\n",
       "       [0, 1, 0, ..., 0, 1, 0],\n",
       "       [0, 0, 0, ..., 0, 2, 0],\n",
       "       ...,\n",
       "       [0, 0, 0, ..., 0, 0, 0],\n",
       "       [0, 0, 0, ..., 0, 2, 0],\n",
       "       [0, 0, 0, ..., 0, 1, 1]], dtype=int64)"
      ]
     },
     "execution_count": 23,
     "metadata": {},
     "output_type": "execute_result"
    }
   ],
   "source": [
    "X = feature_matrix.toarray()\n",
    "X"
   ]
  },
  {
   "cell_type": "code",
   "execution_count": 24,
   "id": "bff50c44-2d61-41a4-a9a0-117e11ec80b0",
   "metadata": {},
   "outputs": [
    {
     "data": {
      "text/plain": [
       "array([1, 0, 0, 0, 0, 0, 0, 0, 0, 0, 0, 0, 0, 0, 0, 0, 0, 0, 1, 0, 0, 0,\n",
       "       0, 0, 0, 0, 0, 0, 0, 0, 0, 0, 0, 0, 0, 0, 0, 0, 0, 0, 0, 0, 0, 0,\n",
       "       0, 0, 0, 0, 0, 0, 0, 0, 0, 0, 0, 0, 0, 0, 0, 0, 0, 0, 0, 0, 0, 0,\n",
       "       0, 0, 0, 0, 0, 0, 0, 0, 0, 0, 0, 0, 0, 0, 0, 0, 0, 0, 0, 0, 0, 0,\n",
       "       0, 0, 0, 0, 0, 0, 0, 0, 0, 0, 0, 0, 0, 0, 0, 0, 0, 0, 0, 0, 0, 0,\n",
       "       0, 0, 0, 0, 0, 0, 0, 0, 0, 0, 0, 0, 0, 0, 0, 1, 0, 0, 0, 0, 0, 0,\n",
       "       0, 0, 0, 0, 0, 0, 0, 0, 0, 0, 0, 0, 0, 0, 0, 0, 0, 0, 0, 0, 0, 0,\n",
       "       0, 0, 0, 0, 0, 0, 0, 0, 0, 0, 0, 0, 0, 0, 0, 0, 0, 0, 0, 0, 0, 0,\n",
       "       0, 0, 0, 0, 2, 0], dtype=int64)"
      ]
     },
     "execution_count": 24,
     "metadata": {},
     "output_type": "execute_result"
    }
   ],
   "source": [
    "X[0]"
   ]
  },
  {
   "cell_type": "code",
   "execution_count": null,
   "id": "5f602178-70ed-4197-901f-9af27a443c50",
   "metadata": {},
   "outputs": [],
   "source": []
  },
  {
   "cell_type": "code",
   "execution_count": 25,
   "id": "5f49bac5-ff19-4bfc-b685-40cf8eec79fd",
   "metadata": {},
   "outputs": [
    {
     "name": "stdout",
     "output_type": "stream",
     "text": [
      "<class 'pandas.core.frame.DataFrame'>\n",
      "RangeIndex: 82 entries, 0 to 81\n",
      "Data columns (total 4 columns):\n",
      " #   Column     Non-Null Count  Dtype \n",
      "---  ------     --------------  ----- \n",
      " 0   ont_doc    82 non-null     object\n",
      " 1   clean_doc  82 non-null     object\n",
      " 2   intent     82 non-null     object\n",
      " 3   final_doc  82 non-null     object\n",
      "dtypes: object(4)\n",
      "memory usage: 2.7+ KB\n"
     ]
    }
   ],
   "source": [
    "dataset.info()"
   ]
  },
  {
   "cell_type": "code",
   "execution_count": 26,
   "id": "629a1869-e7b2-4cdf-8443-a592918d037f",
   "metadata": {},
   "outputs": [
    {
     "name": "stdout",
     "output_type": "stream",
     "text": [
      "<class 'pandas.core.frame.DataFrame'>\n",
      "RangeIndex: 82 entries, 0 to 81\n",
      "Data columns (total 4 columns):\n",
      " #   Column     Non-Null Count  Dtype   \n",
      "---  ------     --------------  -----   \n",
      " 0   ont_doc    82 non-null     object  \n",
      " 1   clean_doc  82 non-null     object  \n",
      " 2   intent     82 non-null     category\n",
      " 3   final_doc  82 non-null     object  \n",
      "dtypes: category(1), object(3)\n",
      "memory usage: 3.5+ KB\n"
     ]
    }
   ],
   "source": [
    "dataset.intent = dataset.intent.astype('category')\n",
    "dataset.info()"
   ]
  },
  {
   "cell_type": "code",
   "execution_count": 27,
   "id": "243b5e48-c64a-441f-acdd-6254348c47f0",
   "metadata": {},
   "outputs": [
    {
     "data": {
      "text/plain": [
       "0      7\n",
       "1     39\n",
       "2     39\n",
       "3     39\n",
       "4      6\n",
       "      ..\n",
       "77    35\n",
       "78     3\n",
       "79    35\n",
       "80    37\n",
       "81    39\n",
       "Length: 82, dtype: int8"
      ]
     },
     "execution_count": 27,
     "metadata": {},
     "output_type": "execute_result"
    }
   ],
   "source": [
    "dataset.intent.cat.codes"
   ]
  },
  {
   "cell_type": "code",
   "execution_count": 28,
   "id": "a5b8692c-de7f-4581-92ca-875afcbfbbdb",
   "metadata": {},
   "outputs": [
    {
     "data": {
      "text/plain": [
       "array([ 7, 39,  6, 14, 38, 24, 25, 30, 36, 13, 16, 21, 31,  4,  2,  0, 17,\n",
       "       29, 22, 10, 23, 26, 37,  5,  1, 20,  9, 19, 15, 35, 27, 34, 28, 11,\n",
       "       18, 12, 32, 33,  8,  3], dtype=int8)"
      ]
     },
     "execution_count": 28,
     "metadata": {},
     "output_type": "execute_result"
    }
   ],
   "source": [
    "dataset.intent.cat.codes.unique()"
   ]
  },
  {
   "cell_type": "code",
   "execution_count": null,
   "id": "79372f50-f180-409f-b31f-9c46b3dda67f",
   "metadata": {},
   "outputs": [],
   "source": []
  },
  {
   "cell_type": "code",
   "execution_count": 29,
   "id": "963df2a1-0e8b-4840-9f17-c299cedc7994",
   "metadata": {},
   "outputs": [
    {
     "data": {
      "text/plain": [
       "['BodyOfWater', 'WaterQuantityPhysicalMeasure', 'Biome', 'EnvironmentalTransformationAgent', 'WaterQualityChemicalMeasure', ..., 'DinamicaUsoeCoberturaDasTerras', 'SpaceTemporal_Extension', 'Spacetime', 'ChemicalWaterIndicator', 'Altimetrical-BathymetricalExtension']\n",
       "Length: 40\n",
       "Categories (40, object): ['AgriculturalCrops', 'Agriculture', 'Air', 'Altimetrical-BathymetricalExtension', ..., 'UnidadeDaFederacao', 'WaterQualityBiologicalMeasure', 'WaterQualityChemicalMeasure', 'WaterQuantityPhysicalMeasure']"
      ]
     },
     "execution_count": 29,
     "metadata": {},
     "output_type": "execute_result"
    }
   ],
   "source": [
    "dataset.intent.unique()"
   ]
  },
  {
   "cell_type": "markdown",
   "id": "b76dfbb4-ad8a-4028-b286-f6d4f8a13712",
   "metadata": {},
   "source": [
    "#### Encoding Intention using Dicationary"
   ]
  },
  {
   "cell_type": "code",
   "execution_count": 30,
   "id": "2e1d7341-4400-4c13-abf1-14e764bdce6c",
   "metadata": {},
   "outputs": [
    {
     "data": {
      "text/plain": [
       "{7: 'BodyOfWater',\n",
       " 39: 'WaterQuantityPhysicalMeasure',\n",
       " 6: 'Biome',\n",
       " 14: 'EnvironmentalTransformationAgent',\n",
       " 38: 'WaterQualityChemicalMeasure',\n",
       " 24: 'MesoRegiao',\n",
       " 25: 'MicroRegiao',\n",
       " 30: 'RegiaoGeopolitica',\n",
       " 36: 'UnidadeDaFederacao',\n",
       " 13: 'EnvironmentalTransformation',\n",
       " 16: 'Event',\n",
       " 21: 'InformationResource',\n",
       " 31: 'Seca',\n",
       " 4: 'Amostra',\n",
       " 2: 'Air',\n",
       " 0: 'AgriculturalCrops',\n",
       " 17: 'ExpansaoAgropecuaria',\n",
       " 29: 'Project',\n",
       " 22: 'Institution',\n",
       " 10: 'Coleta',\n",
       " 23: 'ManejoAgricola',\n",
       " 26: 'Municipio',\n",
       " 37: 'WaterQualityBiologicalMeasure',\n",
       " 5: 'BiologicalCommunity',\n",
       " 1: 'Agriculture',\n",
       " 20: 'Geopolitics',\n",
       " 9: 'Clima',\n",
       " 19: 'GeographicalExtension',\n",
       " 15: 'EnvironmentalTransformationObject',\n",
       " 35: 'TemporalDimension',\n",
       " 27: 'Person',\n",
       " 34: 'SpacialDimension',\n",
       " 28: 'Precipitation',\n",
       " 11: 'DadosMeterologicos',\n",
       " 18: 'FenomenosMeterologicos',\n",
       " 12: 'DinamicaUsoeCoberturaDasTerras',\n",
       " 32: 'SpaceTemporal_Extension',\n",
       " 33: 'Spacetime',\n",
       " 8: 'ChemicalWaterIndicator',\n",
       " 3: 'Altimetrical-BathymetricalExtension'}"
      ]
     },
     "execution_count": 30,
     "metadata": {},
     "output_type": "execute_result"
    }
   ],
   "source": [
    "output_converter = dict(zip(dataset.intent.cat.codes.unique() , dataset.intent.unique()))\n",
    "output_converter"
   ]
  },
  {
   "cell_type": "code",
   "execution_count": 31,
   "id": "3f3c068a-fff4-45a7-9e6b-24c5f1afe334",
   "metadata": {},
   "outputs": [
    {
     "data": {
      "text/html": [
       "<div>\n",
       "<style scoped>\n",
       "    .dataframe tbody tr th:only-of-type {\n",
       "        vertical-align: middle;\n",
       "    }\n",
       "\n",
       "    .dataframe tbody tr th {\n",
       "        vertical-align: top;\n",
       "    }\n",
       "\n",
       "    .dataframe thead th {\n",
       "        text-align: right;\n",
       "    }\n",
       "</style>\n",
       "<table border=\"1\" class=\"dataframe\">\n",
       "  <thead>\n",
       "    <tr style=\"text-align: right;\">\n",
       "      <th></th>\n",
       "      <th>ont_doc</th>\n",
       "      <th>clean_doc</th>\n",
       "      <th>intent</th>\n",
       "      <th>final_doc</th>\n",
       "    </tr>\n",
       "  </thead>\n",
       "  <tbody>\n",
       "    <tr>\n",
       "      <th>0</th>\n",
       "      <td>BodyOfWater accumulatesWater  Water</td>\n",
       "      <td>body of water accumulates water</td>\n",
       "      <td>7</td>\n",
       "      <td>bodi of water accumul water</td>\n",
       "    </tr>\n",
       "    <tr>\n",
       "      <th>1</th>\n",
       "      <td>WaterQuantityPhysicalMeasure actualEvapotransp...</td>\n",
       "      <td>water quantity physical measure actual evapotr...</td>\n",
       "      <td>39</td>\n",
       "      <td>water quantiti physic measur actual evapotrans...</td>\n",
       "    </tr>\n",
       "    <tr>\n",
       "      <th>2</th>\n",
       "      <td>WaterQuantityPhysicalMeasure waterEvaporation ...</td>\n",
       "      <td>water quantity physical measure water evaporation</td>\n",
       "      <td>39</td>\n",
       "      <td>water quantiti physic measur water evapor</td>\n",
       "    </tr>\n",
       "    <tr>\n",
       "      <th>3</th>\n",
       "      <td>WaterQuantityPhysicalMeasure actualWaterEvapor...</td>\n",
       "      <td>water quantity physical measure actual water e...</td>\n",
       "      <td>39</td>\n",
       "      <td>water quantiti physic measur actual water evapor</td>\n",
       "    </tr>\n",
       "    <tr>\n",
       "      <th>4</th>\n",
       "      <td>Biome bioma_contem_Corpo_de_Agua  BodyOfWater</td>\n",
       "      <td>biome bioma contem corpo de agua body of water</td>\n",
       "      <td>6</td>\n",
       "      <td>biom bioma contem corpo de agua bodi of water</td>\n",
       "    </tr>\n",
       "  </tbody>\n",
       "</table>\n",
       "</div>"
      ],
      "text/plain": [
       "                                             ont_doc  \\\n",
       "0                BodyOfWater accumulatesWater  Water   \n",
       "1  WaterQuantityPhysicalMeasure actualEvapotransp...   \n",
       "2  WaterQuantityPhysicalMeasure waterEvaporation ...   \n",
       "3  WaterQuantityPhysicalMeasure actualWaterEvapor...   \n",
       "4      Biome bioma_contem_Corpo_de_Agua  BodyOfWater   \n",
       "\n",
       "                                           clean_doc  intent  \\\n",
       "0                    body of water accumulates water       7   \n",
       "1  water quantity physical measure actual evapotr...      39   \n",
       "2  water quantity physical measure water evaporation      39   \n",
       "3  water quantity physical measure actual water e...      39   \n",
       "4     biome bioma contem corpo de agua body of water       6   \n",
       "\n",
       "                                           final_doc  \n",
       "0                        bodi of water accumul water  \n",
       "1  water quantiti physic measur actual evapotrans...  \n",
       "2          water quantiti physic measur water evapor  \n",
       "3   water quantiti physic measur actual water evapor  \n",
       "4      biom bioma contem corpo de agua bodi of water  "
      ]
     },
     "execution_count": 31,
     "metadata": {},
     "output_type": "execute_result"
    }
   ],
   "source": [
    "# ecoding intent for machine learning development\n",
    "dataset.intent = dataset.intent.cat.codes\n",
    "dataset.head()"
   ]
  },
  {
   "cell_type": "code",
   "execution_count": 32,
   "id": "3017a67d-dccb-4f17-86f2-b2885c287971",
   "metadata": {},
   "outputs": [
    {
     "data": {
      "text/plain": [
       "112"
      ]
     },
     "execution_count": 32,
     "metadata": {},
     "output_type": "execute_result"
    }
   ],
   "source": [
    "dataset['len'] = dataset.clean_doc.apply(lambda x: len(x))\n",
    "dataset.len.max()"
   ]
  },
  {
   "cell_type": "code",
   "execution_count": 33,
   "id": "0033a16f-594e-4c62-b96f-d92983cbe0d6",
   "metadata": {},
   "outputs": [
    {
     "data": {
      "text/plain": [
       "0      7\n",
       "1     39\n",
       "2     39\n",
       "3     39\n",
       "4      6\n",
       "      ..\n",
       "77    35\n",
       "78     3\n",
       "79    35\n",
       "80    37\n",
       "81    39\n",
       "Name: intent, Length: 82, dtype: int8"
      ]
     },
     "execution_count": 33,
     "metadata": {},
     "output_type": "execute_result"
    }
   ],
   "source": [
    "y = dataset.intent\n",
    "y"
   ]
  },
  {
   "cell_type": "code",
   "execution_count": null,
   "id": "301363d9-db71-48e7-8085-f079a2501892",
   "metadata": {},
   "outputs": [
    {
     "name": "stdout",
     "output_type": "stream",
     "text": [
      "(57, 182)\n",
      "(25, 182)\n"
     ]
    }
   ],
   "source": [
    "# Query and Repoce model... \n",
    "from sklearn.model_selection import train_test_split\n",
    "\n",
    "X_train, X_test, y_train, y_test  = train_test_split(X, y, test_size=.30)\n",
    "print(X_train.shape)\n",
    "print(X_test.shape)"
   ]
  },
  {
   "cell_type": "markdown",
   "id": "8adafe95-17be-444f-b59a-a975125944a4",
   "metadata": {},
   "source": [
    "#### MACHINE LEARNING FOR ONTOLOGY INFORMATION QUERY SYSTEM (Count Vectorizer)"
   ]
  },
  {
   "cell_type": "code",
   "execution_count": 39,
   "id": "b6c80fb5-8566-4252-a2b3-fb5f0ff3fe0c",
   "metadata": {},
   "outputs": [
    {
     "data": {
      "text/plain": [
       "0.4"
      ]
     },
     "execution_count": 39,
     "metadata": {},
     "output_type": "execute_result"
    }
   ],
   "source": [
    "from sklearn.ensemble import GradientBoostingClassifier, RandomForestClassifier\n",
    "from sklearn.metrics import accuracy_score, precision_score, recall_score, f1_score\n",
    "gb = GradientBoostingClassifier()\n",
    "gb.fit(X_train, y_train)\n",
    "gb.score(X_test,y_test)"
   ]
  },
  {
   "cell_type": "code",
   "execution_count": 40,
   "id": "7c237f8b-6f89-4d28-9b9a-a7db129ac383",
   "metadata": {},
   "outputs": [
    {
     "name": "stdout",
     "output_type": "stream",
     "text": [
      "Gradient Bost Accuracy:  0.4\n",
      "Gradient Bost Precision:  0.2914285714285714\n",
      "Gradient Bost Recall:  0.4\n",
      "Gradient Bost f1:  0.3253333333333333\n"
     ]
    }
   ],
   "source": [
    "prediction = gb.predict(X_test)\n",
    "acc = accuracy_score(y_test, prediction)\n",
    "prec = precision_score(y_test, prediction, average='weighted')\n",
    "recc = recall_score(y_test, prediction, average='weighted')\n",
    "f1 = f1_score(y_test, prediction, average='weighted')\n",
    "\n",
    "print('Gradient Bost Accuracy: ', acc)\n",
    "print('Gradient Bost Precision: ', prec)\n",
    "print('Gradient Bost Recall: ', recc)\n",
    "print('Gradient Bost f1: ', f1)"
   ]
  },
  {
   "cell_type": "markdown",
   "id": "2d70bc33-1b79-411c-afea-bd03bd8a9cb2",
   "metadata": {},
   "source": [
    "### TF-IDF"
   ]
  },
  {
   "cell_type": "code",
   "execution_count": 41,
   "id": "602bbcdc-63a8-4259-b28a-7fd3274297f8",
   "metadata": {},
   "outputs": [
    {
     "name": "stdout",
     "output_type": "stream",
     "text": [
      "(57, 182)\n",
      "(25, 182)\n"
     ]
    }
   ],
   "source": [
    "X_train, X_test, y_train, y_test  = train_test_split(idf_vec.toarray(), y, test_size=.30)\n",
    "print(X_train.shape)\n",
    "print(X_test.shape)"
   ]
  },
  {
   "cell_type": "code",
   "execution_count": 42,
   "id": "1d306ad9-c326-41a7-a277-089b86fed3b1",
   "metadata": {},
   "outputs": [
    {
     "data": {
      "text/plain": [
       "0.44"
      ]
     },
     "execution_count": 42,
     "metadata": {},
     "output_type": "execute_result"
    }
   ],
   "source": [
    "gb_tfidf = GradientBoostingClassifier() \n",
    "gb_tfidf.fit(X_train, y_train)\n",
    "gb_tfidf.score(X_test,y_test)"
   ]
  },
  {
   "cell_type": "code",
   "execution_count": 43,
   "id": "35949bfa-ee42-41c9-95ef-3ae7c5d49551",
   "metadata": {},
   "outputs": [
    {
     "data": {
      "text/plain": [
       "0.44"
      ]
     },
     "execution_count": 43,
     "metadata": {},
     "output_type": "execute_result"
    }
   ],
   "source": [
    "rf = RandomForestClassifier()\n",
    "rf.fit(X_train, y_train)\n",
    "rf.score(X_test,y_test)"
   ]
  },
  {
   "cell_type": "code",
   "execution_count": 44,
   "id": "f918090a-7821-4e3a-96d1-f9c5f4aa9aec",
   "metadata": {},
   "outputs": [
    {
     "name": "stdout",
     "output_type": "stream",
     "text": [
      "Gradient Bost Accuracy:  0.44\n",
      "Gradient Bost Precision:  0.322\n",
      "Gradient Bost Recall:  0.44\n",
      "Gradient Bost f1:  0.3661904761904761\n"
     ]
    }
   ],
   "source": [
    "prediction = gb_tfidf.predict(X_test)\n",
    "acc_idf = accuracy_score(y_test, prediction)\n",
    "prec_idf = precision_score(y_test, prediction, average='weighted')\n",
    "recc_idf = recall_score(y_test, prediction, average='weighted')\n",
    "f1_idf = f1_score(y_test, prediction, average='weighted')\n",
    "\n",
    "print('Gradient Bost Accuracy: ', acc_idf)\n",
    "print('Gradient Bost Precision: ', prec_idf)\n",
    "print('Gradient Bost Recall: ', recc_idf)\n",
    "print('Gradient Bost f1: ', f1_idf)"
   ]
  },
  {
   "cell_type": "code",
   "execution_count": 45,
   "id": "75fa3746-da10-4bcb-8231-6327b84259e8",
   "metadata": {},
   "outputs": [
    {
     "name": "stdout",
     "output_type": "stream",
     "text": [
      "Random forest Accuracy:  0.44\n",
      "Random forest Precision:  0.3633333333333333\n",
      "Random forest Recall:  0.44\n",
      "Random forest f1:  0.39352380952380955\n"
     ]
    }
   ],
   "source": [
    "prediction = rf.predict(X_test)\n",
    "acc_rf = accuracy_score(y_test, prediction)\n",
    "prec_rf = precision_score(y_test, prediction, average='weighted')\n",
    "recc_rf = recall_score(y_test, prediction, average='weighted')\n",
    "f1_rf = f1_score(y_test, prediction, average='weighted')\n",
    "\n",
    "print('Random forest Accuracy: ', acc_rf)\n",
    "print('Random forest Precision: ', prec_rf)\n",
    "print('Random forest Recall: ', recc_rf)\n",
    "print('Random forest f1: ', f1_rf)"
   ]
  },
  {
   "cell_type": "code",
   "execution_count": 46,
   "id": "6b1b2095-cbf5-4b96-be3b-9fbe668d9856",
   "metadata": {},
   "outputs": [
    {
     "data": {
      "text/html": [
       "<div>\n",
       "<style scoped>\n",
       "    .dataframe tbody tr th:only-of-type {\n",
       "        vertical-align: middle;\n",
       "    }\n",
       "\n",
       "    .dataframe tbody tr th {\n",
       "        vertical-align: top;\n",
       "    }\n",
       "\n",
       "    .dataframe thead th {\n",
       "        text-align: right;\n",
       "    }\n",
       "</style>\n",
       "<table border=\"1\" class=\"dataframe\">\n",
       "  <thead>\n",
       "    <tr style=\"text-align: right;\">\n",
       "      <th></th>\n",
       "      <th>Model</th>\n",
       "      <th>Accuracy</th>\n",
       "      <th>Precision</th>\n",
       "      <th>Recall</th>\n",
       "      <th>F1_score</th>\n",
       "    </tr>\n",
       "  </thead>\n",
       "  <tbody>\n",
       "    <tr>\n",
       "      <th>0</th>\n",
       "      <td>GadientBost &amp; CountVec Algo</td>\n",
       "      <td>0.399902</td>\n",
       "      <td>0.291504</td>\n",
       "      <td>0.399902</td>\n",
       "      <td>0.325439</td>\n",
       "    </tr>\n",
       "    <tr>\n",
       "      <th>1</th>\n",
       "      <td>GadientBost &amp; TF-IDF Algo</td>\n",
       "      <td>0.439941</td>\n",
       "      <td>0.322021</td>\n",
       "      <td>0.439941</td>\n",
       "      <td>0.366211</td>\n",
       "    </tr>\n",
       "    <tr>\n",
       "      <th>2</th>\n",
       "      <td>Random Forest &amp; TF-IDF Algo</td>\n",
       "      <td>0.439941</td>\n",
       "      <td>0.363281</td>\n",
       "      <td>0.439941</td>\n",
       "      <td>0.393555</td>\n",
       "    </tr>\n",
       "  </tbody>\n",
       "</table>\n",
       "</div>"
      ],
      "text/plain": [
       "                         Model  Accuracy  Precision    Recall  F1_score\n",
       "0  GadientBost & CountVec Algo  0.399902   0.291504  0.399902  0.325439\n",
       "1    GadientBost & TF-IDF Algo  0.439941   0.322021  0.439941  0.366211\n",
       "2  Random Forest & TF-IDF Algo  0.439941   0.363281  0.439941  0.393555"
      ]
     },
     "execution_count": 46,
     "metadata": {},
     "output_type": "execute_result"
    }
   ],
   "source": [
    "# machine learning performance plotting \n",
    "gb_count_vec  = ['GadientBost & CountVec Algo', acc, prec, recc, f1]\n",
    "gb_idf_vec  = [ 'GadientBost & TF-IDF Algo',  acc_idf, prec_idf, recc_idf, f1_idf]\n",
    "rf_idf_vec  = ['Random Forest & TF-IDF Algo', acc_rf, prec_rf, recc_rf, f1_rf]\n",
    "\n",
    "ml_perf = np.array((gb_count_vec, gb_idf_vec, rf_idf_vec))\n",
    "ml_metric_table = pd.DataFrame(ml_perf, columns=['Model', 'Accuracy', 'Precision', 'Recall', 'F1_score'])\n",
    "ml_metric_table.Accuracy = ml_metric_table.Accuracy.astype('float16')\n",
    "ml_metric_table.Precision = ml_metric_table.Precision.astype('float16')\n",
    "ml_metric_table.Recall = ml_metric_table.Recall.astype('float16')\n",
    "ml_metric_table.F1_score = ml_metric_table.F1_score.astype('float16')\n",
    "\n",
    "\n",
    "ml_metric_table"
   ]
  },
  {
   "cell_type": "code",
   "execution_count": 46,
   "id": "c1fd9ccd-6553-4329-ae2a-b195e6602eb8",
   "metadata": {},
   "outputs": [
    {
     "data": {
      "image/png": "[encoded data removed]",
      "text/plain": [
       "<Figure size 640x480 with 1 Axes>"
      ]
     },
     "metadata": {},
     "output_type": "display_data"
    }
   ],
   "source": [
    "ml_metric_table.plot(kind='bar')\n",
    "plt.xticks([0,1,2], labels=ml_metric_table.Model)\n",
    "plt.title('Mcchine Learning Performance on CountVec & TFIDF')\n",
    "plt.show()"
   ]
  },
  {
   "cell_type": "code",
   "execution_count": 47,
   "id": "520031a6-73ad-4df7-8664-263e516ba132",
   "metadata": {},
   "outputs": [
    {
     "name": "stdout",
     "output_type": "stream",
     "text": [
      "saved as pd file\n"
     ]
    }
   ],
   "source": [
    "ml_metric_table.to_csv('ml_result.csv')\n",
    "print('saved as pd file')"
   ]
  },
  {
   "cell_type": "code",
   "execution_count": 48,
   "id": "01ce2609-3875-4003-8e30-a6b654e5f252",
   "metadata": {},
   "outputs": [
    {
     "name": "stdout",
     "output_type": "stream",
     "text": [
      "model saved\n"
     ]
    }
   ],
   "source": [
    "import joblib\n",
    "\n",
    "joblib.dump(gb, 'gb_onto_model.jb')\n",
    "joblib.dump(gb_tfidf, 'gb_idfvec_model.jb')\n",
    "print('model saved')"
   ]
  },
  {
   "cell_type": "code",
   "execution_count": 49,
   "id": "3d791d01-a354-453b-b5a6-53fa2471f587",
   "metadata": {},
   "outputs": [
    {
     "data": {
      "text/plain": [
       "['tf_vectorizer.jb']"
      ]
     },
     "execution_count": 49,
     "metadata": {},
     "output_type": "execute_result"
    }
   ],
   "source": [
    "# saving vectorizer \n",
    "joblib.dump(idf, 'tf_vectorizer.jb')"
   ]
  },
  {
   "cell_type": "code",
   "execution_count": null,
   "id": "6b44caeb-1471-4fcc-b3b8-ad5a18680153",
   "metadata": {},
   "outputs": [],
   "source": []
  },
  {
   "cell_type": "code",
   "execution_count": 50,
   "id": "288e84c5-829a-467f-87b4-bf115960d125",
   "metadata": {},
   "outputs": [
    {
     "data": {
      "text/plain": [
       "(82, 182)"
      ]
     },
     "execution_count": 50,
     "metadata": {},
     "output_type": "execute_result"
    }
   ],
   "source": [
    "X.shape"
   ]
  },
  {
   "cell_type": "code",
   "execution_count": null,
   "id": "05849b7d-3238-415c-85c0-894912705652",
   "metadata": {
    "scrolled": true
   },
   "outputs": [],
   "source": []
  },
  {
   "cell_type": "markdown",
   "id": "7d74feab-4ddc-4a57-abd1-e2f296e6f886",
   "metadata": {},
   "source": [
    "#### DEEP LEARNING FOR ONTOLOGY INFORMATION QUERY SYSTEM"
   ]
  },
  {
   "cell_type": "code",
   "execution_count": 51,
   "id": "2f4fb005-7e52-427e-8d79-4ffff347f2e7",
   "metadata": {},
   "outputs": [],
   "source": [
    "# using TF-Idf ... "
   ]
  },
  {
   "cell_type": "code",
   "execution_count": 51,
   "id": "c3380bfb-a4bd-4443-a25f-69eaa22be491",
   "metadata": {},
   "outputs": [
    {
     "data": {
      "text/html": [
       "<pre style=\"white-space:pre;overflow-x:auto;line-height:normal;font-family:Menlo,'DejaVu Sans Mono',consolas,'Courier New',monospace\"><span style=\"font-weight: bold\">Model: \"sequential\"</span>\n",
       "</pre>\n"
      ],
      "text/plain": [
       "\u001b[1mModel: \"sequential\"\u001b[0m\n"
      ]
     },
     "metadata": {},
     "output_type": "display_data"
    },
    {
     "data": {
      "text/html": [
       "<pre style=\"white-space:pre;overflow-x:auto;line-height:normal;font-family:Menlo,'DejaVu Sans Mono',consolas,'Courier New',monospace\">┏━━━━━━━━━━━━━━━━━━━━━━━━━━━━━┳━━━━━━━━━━━━━━━━━━━━━━┳━━━━━━━━━━━━━┓\n",
       "┃<span style=\"font-weight: bold\"> Layer (type)                </span>┃<span style=\"font-weight: bold\"> Output Shape         </span>┃<span style=\"font-weight: bold\">     Param # </span>┃\n",
       "┡━━━━━━━━━━━━━━━━━━━━━━━━━━━━━╇━━━━━━━━━━━━━━━━━━━━━━╇━━━━━━━━━━━━━┩\n",
       "│ dense (<span style=\"color: #0087ff; text-decoration-color: #0087ff\">Dense</span>)               │ (<span style=\"color: #00d7ff; text-decoration-color: #00d7ff\">None</span>, <span style=\"color: #00af00; text-decoration-color: #00af00\">128</span>)          │      <span style=\"color: #00af00; text-decoration-color: #00af00\">23,424</span> │\n",
       "├─────────────────────────────┼──────────────────────┼─────────────┤\n",
       "│ dense_1 (<span style=\"color: #0087ff; text-decoration-color: #0087ff\">Dense</span>)             │ (<span style=\"color: #00d7ff; text-decoration-color: #00d7ff\">None</span>, <span style=\"color: #00af00; text-decoration-color: #00af00\">64</span>)           │       <span style=\"color: #00af00; text-decoration-color: #00af00\">8,256</span> │\n",
       "├─────────────────────────────┼──────────────────────┼─────────────┤\n",
       "│ dense_2 (<span style=\"color: #0087ff; text-decoration-color: #0087ff\">Dense</span>)             │ (<span style=\"color: #00d7ff; text-decoration-color: #00d7ff\">None</span>, <span style=\"color: #00af00; text-decoration-color: #00af00\">40</span>)           │       <span style=\"color: #00af00; text-decoration-color: #00af00\">2,600</span> │\n",
       "└─────────────────────────────┴──────────────────────┴─────────────┘\n",
       "</pre>\n"
      ],
      "text/plain": [
       "┏━━━━━━━━━━━━━━━━━━━━━━━━━━━━━┳━━━━━━━━━━━━━━━━━━━━━━┳━━━━━━━━━━━━━┓\n",
       "┃\u001b[1m \u001b[0m\u001b[1mLayer (type)               \u001b[0m\u001b[1m \u001b[0m┃\u001b[1m \u001b[0m\u001b[1mOutput Shape        \u001b[0m\u001b[1m \u001b[0m┃\u001b[1m \u001b[0m\u001b[1m    Param #\u001b[0m\u001b[1m \u001b[0m┃\n",
       "┡━━━━━━━━━━━━━━━━━━━━━━━━━━━━━╇━━━━━━━━━━━━━━━━━━━━━━╇━━━━━━━━━━━━━┩\n",
       "│ dense (\u001b[38;5;33mDense\u001b[0m)               │ (\u001b[38;5;45mNone\u001b[0m, \u001b[38;5;34m128\u001b[0m)          │      \u001b[38;5;34m23,424\u001b[0m │\n",
       "├─────────────────────────────┼──────────────────────┼─────────────┤\n",
       "│ dense_1 (\u001b[38;5;33mDense\u001b[0m)             │ (\u001b[38;5;45mNone\u001b[0m, \u001b[38;5;34m64\u001b[0m)           │       \u001b[38;5;34m8,256\u001b[0m │\n",
       "├─────────────────────────────┼──────────────────────┼─────────────┤\n",
       "│ dense_2 (\u001b[38;5;33mDense\u001b[0m)             │ (\u001b[38;5;45mNone\u001b[0m, \u001b[38;5;34m40\u001b[0m)           │       \u001b[38;5;34m2,600\u001b[0m │\n",
       "└─────────────────────────────┴──────────────────────┴─────────────┘\n"
      ]
     },
     "metadata": {},
     "output_type": "display_data"
    },
    {
     "data": {
      "text/html": [
       "<pre style=\"white-space:pre;overflow-x:auto;line-height:normal;font-family:Menlo,'DejaVu Sans Mono',consolas,'Courier New',monospace\"><span style=\"font-weight: bold\"> Total params: </span><span style=\"color: #00af00; text-decoration-color: #00af00\">34,280</span> (133.91 KB)\n",
       "</pre>\n"
      ],
      "text/plain": [
       "\u001b[1m Total params: \u001b[0m\u001b[38;5;34m34,280\u001b[0m (133.91 KB)\n"
      ]
     },
     "metadata": {},
     "output_type": "display_data"
    },
    {
     "data": {
      "text/html": [
       "<pre style=\"white-space:pre;overflow-x:auto;line-height:normal;font-family:Menlo,'DejaVu Sans Mono',consolas,'Courier New',monospace\"><span style=\"font-weight: bold\"> Trainable params: </span><span style=\"color: #00af00; text-decoration-color: #00af00\">34,280</span> (133.91 KB)\n",
       "</pre>\n"
      ],
      "text/plain": [
       "\u001b[1m Trainable params: \u001b[0m\u001b[38;5;34m34,280\u001b[0m (133.91 KB)\n"
      ]
     },
     "metadata": {},
     "output_type": "display_data"
    },
    {
     "data": {
      "text/html": [
       "<pre style=\"white-space:pre;overflow-x:auto;line-height:normal;font-family:Menlo,'DejaVu Sans Mono',consolas,'Courier New',monospace\"><span style=\"font-weight: bold\"> Non-trainable params: </span><span style=\"color: #00af00; text-decoration-color: #00af00\">0</span> (0.00 B)\n",
       "</pre>\n"
      ],
      "text/plain": [
       "\u001b[1m Non-trainable params: \u001b[0m\u001b[38;5;34m0\u001b[0m (0.00 B)\n"
      ]
     },
     "metadata": {},
     "output_type": "display_data"
    }
   ],
   "source": [
    "ont_chat_model = tf.keras.Sequential([\n",
    "    tf.keras.layers.Input((182,)),\n",
    "    tf.keras.layers.Dense(128,activation='relu'),\n",
    "    tf.keras.layers.Dense(64, activation='relu'),\n",
    "    tf.keras.layers.Dense(40, activation='sigmoid')\n",
    "])\n",
    "\n",
    "# compile model \n",
    "ont_chat_model.compile(optimizer='adam', loss='sparse_categorical_crossentropy', metrics=['accuracy'])\n",
    "ont_chat_model.summary()"
   ]
  },
  {
   "cell_type": "code",
   "execution_count": 52,
   "id": "0bce46db-5aa7-4d1c-b356-09641d9e1ad9",
   "metadata": {},
   "outputs": [
    {
     "name": "stdout",
     "output_type": "stream",
     "text": [
      "Epoch 1/80\n",
      "\u001b[1m2/2\u001b[0m \u001b[32m━━━━━━━━━━━━━━━━━━━━\u001b[0m\u001b[37m\u001b[0m \u001b[1m4s\u001b[0m 445ms/step - accuracy: 0.0221 - loss: 3.6885 - val_accuracy: 0.0400 - val_loss: 3.6750\n",
      "Epoch 2/80\n",
      "\u001b[1m2/2\u001b[0m \u001b[32m━━━━━━━━━━━━━━━━━━━━\u001b[0m\u001b[37m\u001b[0m \u001b[1m0s\u001b[0m 62ms/step - accuracy: 0.0234 - loss: 3.6624 - val_accuracy: 0.0400 - val_loss: 3.6650\n",
      "Epoch 3/80\n",
      "\u001b[1m2/2\u001b[0m \u001b[32m━━━━━━━━━━━━━━━━━━━━\u001b[0m\u001b[37m\u001b[0m \u001b[1m0s\u001b[0m 61ms/step - accuracy: 0.1690 - loss: 3.6405 - val_accuracy: 0.0000e+00 - val_loss: 3.6546\n",
      "Epoch 4/80\n",
      "\u001b[1m2/2\u001b[0m \u001b[32m━━━━━━━━━━━━━━━━━━━━\u001b[0m\u001b[37m\u001b[0m \u001b[1m0s\u001b[0m 59ms/step - accuracy: 0.2379 - loss: 3.6140 - val_accuracy: 0.0400 - val_loss: 3.6438\n",
      "Epoch 5/80\n",
      "\u001b[1m2/2\u001b[0m \u001b[32m━━━━━━━━━━━━━━━━━━━━\u001b[0m\u001b[37m\u001b[0m \u001b[1m0s\u001b[0m 90ms/step - accuracy: 0.3589 - loss: 3.5876 - val_accuracy: 0.0400 - val_loss: 3.6328\n",
      "Epoch 6/80\n",
      "\u001b[1m2/2\u001b[0m \u001b[32m━━━━━━━━━━━━━━━━━━━━\u001b[0m\u001b[37m\u001b[0m \u001b[1m0s\u001b[0m 55ms/step - accuracy: 0.3589 - loss: 3.5616 - val_accuracy: 0.0800 - val_loss: 3.6210\n",
      "Epoch 7/80\n",
      "\u001b[1m2/2\u001b[0m \u001b[32m━━━━━━━━━━━━━━━━━━━━\u001b[0m\u001b[37m\u001b[0m \u001b[1m0s\u001b[0m 64ms/step - accuracy: 0.4148 - loss: 3.5350 - val_accuracy: 0.2400 - val_loss: 3.6086\n",
      "Epoch 8/80\n",
      "\u001b[1m2/2\u001b[0m \u001b[32m━━━━━━━━━━━━━━━━━━━━\u001b[0m\u001b[37m\u001b[0m \u001b[1m0s\u001b[0m 61ms/step - accuracy: 0.4370 - loss: 3.5035 - val_accuracy: 0.2400 - val_loss: 3.5958\n",
      "Epoch 9/80\n",
      "\u001b[1m2/2\u001b[0m \u001b[32m━━━━━━━━━━━━━━━━━━━━\u001b[0m\u001b[37m\u001b[0m \u001b[1m0s\u001b[0m 57ms/step - accuracy: 0.4708 - loss: 3.4757 - val_accuracy: 0.2400 - val_loss: 3.5821\n",
      "Epoch 10/80\n",
      "\u001b[1m2/2\u001b[0m \u001b[32m━━━━━━━━━━━━━━━━━━━━\u001b[0m\u001b[37m\u001b[0m \u001b[1m0s\u001b[0m 65ms/step - accuracy: 0.4825 - loss: 3.4411 - val_accuracy: 0.2800 - val_loss: 3.5671\n",
      "Epoch 11/80\n",
      "\u001b[1m2/2\u001b[0m \u001b[32m━━━━━━━━━━━━━━━━━━━━\u001b[0m\u001b[37m\u001b[0m \u001b[1m0s\u001b[0m 91ms/step - accuracy: 0.4629 - loss: 3.4192 - val_accuracy: 0.2800 - val_loss: 3.5511\n",
      "Epoch 12/80\n",
      "\u001b[1m2/2\u001b[0m \u001b[32m━━━━━━━━━━━━━━━━━━━━\u001b[0m\u001b[37m\u001b[0m \u001b[1m0s\u001b[0m 59ms/step - accuracy: 0.5371 - loss: 3.3627 - val_accuracy: 0.2800 - val_loss: 3.5338\n",
      "Epoch 13/80\n",
      "\u001b[1m2/2\u001b[0m \u001b[32m━━━━━━━━━━━━━━━━━━━━\u001b[0m\u001b[37m\u001b[0m \u001b[1m0s\u001b[0m 61ms/step - accuracy: 0.4954 - loss: 3.3335 - val_accuracy: 0.2800 - val_loss: 3.5155\n",
      "Epoch 14/80\n",
      "\u001b[1m2/2\u001b[0m \u001b[32m━━━━━━━━━━━━━━━━━━━━\u001b[0m\u001b[37m\u001b[0m \u001b[1m0s\u001b[0m 66ms/step - accuracy: 0.5371 - loss: 3.2762 - val_accuracy: 0.2800 - val_loss: 3.4958\n",
      "Epoch 15/80\n",
      "\u001b[1m2/2\u001b[0m \u001b[32m━━━━━━━━━━━━━━━━━━━━\u001b[0m\u001b[37m\u001b[0m \u001b[1m0s\u001b[0m 68ms/step - accuracy: 0.5384 - loss: 3.2316 - val_accuracy: 0.2800 - val_loss: 3.4746\n",
      "Epoch 16/80\n",
      "\u001b[1m2/2\u001b[0m \u001b[32m━━━━━━━━━━━━━━━━━━━━\u001b[0m\u001b[37m\u001b[0m \u001b[1m0s\u001b[0m 61ms/step - accuracy: 0.5397 - loss: 3.1913 - val_accuracy: 0.2800 - val_loss: 3.4523\n",
      "Epoch 17/80\n",
      "\u001b[1m2/2\u001b[0m \u001b[32m━━━━━━━━━━━━━━━━━━━━\u001b[0m\u001b[37m\u001b[0m \u001b[1m0s\u001b[0m 99ms/step - accuracy: 0.5384 - loss: 3.1241 - val_accuracy: 0.2800 - val_loss: 3.4287\n",
      "Epoch 18/80\n",
      "\u001b[1m2/2\u001b[0m \u001b[32m━━━━━━━━━━━━━━━━━━━━\u001b[0m\u001b[37m\u001b[0m \u001b[1m0s\u001b[0m 95ms/step - accuracy: 0.4954 - loss: 3.0593 - val_accuracy: 0.2800 - val_loss: 3.4045\n",
      "Epoch 19/80\n",
      "\u001b[1m2/2\u001b[0m \u001b[32m━━━━━━━━━━━━━━━━━━━━\u001b[0m\u001b[37m\u001b[0m \u001b[1m0s\u001b[0m 83ms/step - accuracy: 0.5046 - loss: 3.0121 - val_accuracy: 0.2800 - val_loss: 3.3791\n",
      "Epoch 20/80\n",
      "\u001b[1m2/2\u001b[0m \u001b[32m━━━━━━━━━━━━━━━━━━━━\u001b[0m\u001b[37m\u001b[0m \u001b[1m0s\u001b[0m 65ms/step - accuracy: 0.4720 - loss: 2.9419 - val_accuracy: 0.2800 - val_loss: 3.3522\n",
      "Epoch 21/80\n",
      "\u001b[1m2/2\u001b[0m \u001b[32m━━━━━━━━━━━━━━━━━━━━\u001b[0m\u001b[37m\u001b[0m \u001b[1m0s\u001b[0m 113ms/step - accuracy: 0.4720 - loss: 2.8798 - val_accuracy: 0.2800 - val_loss: 3.3243\n",
      "Epoch 22/80\n",
      "\u001b[1m2/2\u001b[0m \u001b[32m━━━━━━━━━━━━━━━━━━━━\u001b[0m\u001b[37m\u001b[0m \u001b[1m0s\u001b[0m 203ms/step - accuracy: 0.4616 - loss: 2.8227 - val_accuracy: 0.2800 - val_loss: 3.2961\n",
      "Epoch 23/80\n",
      "\u001b[1m2/2\u001b[0m \u001b[32m━━━━━━━━━━━━━━━━━━━━\u001b[0m\u001b[37m\u001b[0m \u001b[1m0s\u001b[0m 106ms/step - accuracy: 0.4616 - loss: 2.7098 - val_accuracy: 0.3200 - val_loss: 3.2681\n",
      "Epoch 24/80\n",
      "\u001b[1m2/2\u001b[0m \u001b[32m━━━━━━━━━━━━━━━━━━━━\u001b[0m\u001b[37m\u001b[0m \u001b[1m0s\u001b[0m 108ms/step - accuracy: 0.4616 - loss: 2.6334 - val_accuracy: 0.3200 - val_loss: 3.2410\n",
      "Epoch 25/80\n",
      "\u001b[1m2/2\u001b[0m \u001b[32m━━━━━━━━━━━━━━━━━━━━\u001b[0m\u001b[37m\u001b[0m \u001b[1m0s\u001b[0m 66ms/step - accuracy: 0.5033 - loss: 2.5287 - val_accuracy: 0.3600 - val_loss: 3.2149\n",
      "Epoch 26/80\n",
      "\u001b[1m2/2\u001b[0m \u001b[32m━━━━━━━━━━━━━━━━━━━━\u001b[0m\u001b[37m\u001b[0m \u001b[1m0s\u001b[0m 72ms/step - accuracy: 0.4291 - loss: 2.4821 - val_accuracy: 0.3600 - val_loss: 3.1920\n",
      "Epoch 27/80\n",
      "\u001b[1m2/2\u001b[0m \u001b[32m━━━━━━━━━━━━━━━━━━━━\u001b[0m\u001b[37m\u001b[0m \u001b[1m0s\u001b[0m 105ms/step - accuracy: 0.5033 - loss: 2.3648 - val_accuracy: 0.3600 - val_loss: 3.1705\n",
      "Epoch 28/80\n",
      "\u001b[1m2/2\u001b[0m \u001b[32m━━━━━━━━━━━━━━━━━━━━\u001b[0m\u001b[37m\u001b[0m \u001b[1m0s\u001b[0m 69ms/step - accuracy: 0.4603 - loss: 2.3062 - val_accuracy: 0.3600 - val_loss: 3.1534\n",
      "Epoch 29/80\n",
      "\u001b[1m2/2\u001b[0m \u001b[32m━━━━━━━━━━━━━━━━━━━━\u001b[0m\u001b[37m\u001b[0m \u001b[1m0s\u001b[0m 80ms/step - accuracy: 0.4304 - loss: 2.2699 - val_accuracy: 0.4000 - val_loss: 3.1389\n",
      "Epoch 30/80\n",
      "\u001b[1m2/2\u001b[0m \u001b[32m━━━━━━━━━━━━━━━━━━━━\u001b[0m\u001b[37m\u001b[0m \u001b[1m0s\u001b[0m 78ms/step - accuracy: 0.5163 - loss: 2.1492 - val_accuracy: 0.4400 - val_loss: 3.1260\n",
      "Epoch 31/80\n",
      "\u001b[1m2/2\u001b[0m \u001b[32m━━━━━━━━━━━━━━━━━━━━\u001b[0m\u001b[37m\u001b[0m \u001b[1m0s\u001b[0m 94ms/step - accuracy: 0.5175 - loss: 2.1018 - val_accuracy: 0.4400 - val_loss: 3.1163\n",
      "Epoch 32/80\n",
      "\u001b[1m2/2\u001b[0m \u001b[32m━━━━━━━━━━━━━━━━━━━━\u001b[0m\u001b[37m\u001b[0m \u001b[1m0s\u001b[0m 67ms/step - accuracy: 0.5735 - loss: 1.9805 - val_accuracy: 0.4400 - val_loss: 3.1064\n",
      "Epoch 33/80\n",
      "\u001b[1m2/2\u001b[0m \u001b[32m━━━━━━━━━━━━━━━━━━━━\u001b[0m\u001b[37m\u001b[0m \u001b[1m0s\u001b[0m 72ms/step - accuracy: 0.6164 - loss: 1.8660 - val_accuracy: 0.4400 - val_loss: 3.0975\n",
      "Epoch 34/80\n",
      "\u001b[1m2/2\u001b[0m \u001b[32m━━━━━━━━━━━━━━━━━━━━\u001b[0m\u001b[37m\u001b[0m \u001b[1m0s\u001b[0m 82ms/step - accuracy: 0.6190 - loss: 1.8188 - val_accuracy: 0.4400 - val_loss: 3.0887\n",
      "Epoch 35/80\n",
      "\u001b[1m2/2\u001b[0m \u001b[32m━━━━━━━━━━━━━━━━━━━━\u001b[0m\u001b[37m\u001b[0m \u001b[1m0s\u001b[0m 63ms/step - accuracy: 0.6332 - loss: 1.8454 - val_accuracy: 0.4400 - val_loss: 3.0828\n",
      "Epoch 36/80\n",
      "\u001b[1m2/2\u001b[0m \u001b[32m━━━━━━━━━━━━━━━━━━━━\u001b[0m\u001b[37m\u001b[0m \u001b[1m0s\u001b[0m 95ms/step - accuracy: 0.7191 - loss: 1.6771 - val_accuracy: 0.4400 - val_loss: 3.0778\n",
      "Epoch 37/80\n",
      "\u001b[1m2/2\u001b[0m \u001b[32m━━━━━━━━━━━━━━━━━━━━\u001b[0m\u001b[37m\u001b[0m \u001b[1m0s\u001b[0m 55ms/step - accuracy: 0.7867 - loss: 1.5912 - val_accuracy: 0.4400 - val_loss: 3.0752\n",
      "Epoch 38/80\n",
      "\u001b[1m2/2\u001b[0m \u001b[32m━━━━━━━━━━━━━━━━━━━━\u001b[0m\u001b[37m\u001b[0m \u001b[1m0s\u001b[0m 100ms/step - accuracy: 0.8322 - loss: 1.5475 - val_accuracy: 0.4400 - val_loss: 3.0755\n",
      "Epoch 39/80\n",
      "\u001b[1m2/2\u001b[0m \u001b[32m━━━━━━━━━━━━━━━━━━━━\u001b[0m\u001b[37m\u001b[0m \u001b[1m0s\u001b[0m 67ms/step - accuracy: 0.8531 - loss: 1.4485 - val_accuracy: 0.4400 - val_loss: 3.0804\n",
      "Epoch 40/80\n",
      "\u001b[1m2/2\u001b[0m \u001b[32m━━━━━━━━━━━━━━━━━━━━\u001b[0m\u001b[37m\u001b[0m \u001b[1m0s\u001b[0m 56ms/step - accuracy: 0.8660 - loss: 1.3831 - val_accuracy: 0.4400 - val_loss: 3.0863\n",
      "Epoch 41/80\n",
      "\u001b[1m2/2\u001b[0m \u001b[32m━━━━━━━━━━━━━━━━━━━━\u001b[0m\u001b[37m\u001b[0m \u001b[1m0s\u001b[0m 83ms/step - accuracy: 0.8765 - loss: 1.3465 - val_accuracy: 0.4800 - val_loss: 3.0965\n",
      "Epoch 42/80\n",
      "\u001b[1m2/2\u001b[0m \u001b[32m━━━━━━━━━━━━━━━━━━━━\u001b[0m\u001b[37m\u001b[0m \u001b[1m0s\u001b[0m 92ms/step - accuracy: 0.8765 - loss: 1.2695 - val_accuracy: 0.4800 - val_loss: 3.1088\n",
      "Epoch 43/80\n",
      "\u001b[1m2/2\u001b[0m \u001b[32m━━━━━━━━━━━━━━━━━━━━\u001b[0m\u001b[37m\u001b[0m \u001b[1m0s\u001b[0m 115ms/step - accuracy: 0.8673 - loss: 1.2373 - val_accuracy: 0.4800 - val_loss: 3.1221\n",
      "Epoch 44/80\n",
      "\u001b[1m2/2\u001b[0m \u001b[32m━━━━━━━━━━━━━━━━━━━━\u001b[0m\u001b[37m\u001b[0m \u001b[1m0s\u001b[0m 65ms/step - accuracy: 0.8986 - loss: 1.1885 - val_accuracy: 0.4400 - val_loss: 3.1380\n",
      "Epoch 45/80\n",
      "\u001b[1m2/2\u001b[0m \u001b[32m━━━━━━━━━━━━━━━━━━━━\u001b[0m\u001b[37m\u001b[0m \u001b[1m0s\u001b[0m 57ms/step - accuracy: 0.8777 - loss: 1.0881 - val_accuracy: 0.4400 - val_loss: 3.1547\n",
      "Epoch 46/80\n",
      "\u001b[1m2/2\u001b[0m \u001b[32m━━━━━━━━━━━━━━━━━━━━\u001b[0m\u001b[37m\u001b[0m \u001b[1m0s\u001b[0m 67ms/step - accuracy: 0.8777 - loss: 1.0221 - val_accuracy: 0.4400 - val_loss: 3.1721\n",
      "Epoch 47/80\n",
      "\u001b[1m2/2\u001b[0m \u001b[32m━━━━━━━━━━━━━━━━━━━━\u001b[0m\u001b[37m\u001b[0m \u001b[1m0s\u001b[0m 121ms/step - accuracy: 0.8777 - loss: 0.9550 - val_accuracy: 0.4400 - val_loss: 3.1910\n",
      "Epoch 48/80\n",
      "\u001b[1m2/2\u001b[0m \u001b[32m━━━━━━━━━━━━━━━━━━━━\u001b[0m\u001b[37m\u001b[0m \u001b[1m0s\u001b[0m 68ms/step - accuracy: 0.9311 - loss: 0.8853 - val_accuracy: 0.4400 - val_loss: 3.2118\n",
      "Epoch 49/80\n",
      "\u001b[1m2/2\u001b[0m \u001b[32m━━━━━━━━━━━━━━━━━━━━\u001b[0m\u001b[37m\u001b[0m \u001b[1m0s\u001b[0m 58ms/step - accuracy: 0.9115 - loss: 0.8736 - val_accuracy: 0.4400 - val_loss: 3.2342\n",
      "Epoch 50/80\n",
      "\u001b[1m2/2\u001b[0m \u001b[32m━━━━━━━━━━━━━━━━━━━━\u001b[0m\u001b[37m\u001b[0m \u001b[1m0s\u001b[0m 58ms/step - accuracy: 0.9441 - loss: 0.7938 - val_accuracy: 0.4400 - val_loss: 3.2573\n",
      "Epoch 51/80\n",
      "\u001b[1m2/2\u001b[0m \u001b[32m━━━━━━━━━━━━━━━━━━━━\u001b[0m\u001b[37m\u001b[0m \u001b[1m0s\u001b[0m 63ms/step - accuracy: 0.9337 - loss: 0.7320 - val_accuracy: 0.4400 - val_loss: 3.2804\n",
      "Epoch 52/80\n",
      "\u001b[1m2/2\u001b[0m \u001b[32m━━━━━━━━━━━━━━━━━━━━\u001b[0m\u001b[37m\u001b[0m \u001b[1m0s\u001b[0m 76ms/step - accuracy: 0.9441 - loss: 0.6811 - val_accuracy: 0.4400 - val_loss: 3.3045\n",
      "Epoch 53/80\n",
      "\u001b[1m2/2\u001b[0m \u001b[32m━━━━━━━━━━━━━━━━━━━━\u001b[0m\u001b[37m\u001b[0m \u001b[1m0s\u001b[0m 71ms/step - accuracy: 0.9441 - loss: 0.6253 - val_accuracy: 0.4400 - val_loss: 3.3291\n",
      "Epoch 54/80\n",
      "\u001b[1m2/2\u001b[0m \u001b[32m━━━━━━━━━━━━━━━━━━━━\u001b[0m\u001b[37m\u001b[0m \u001b[1m0s\u001b[0m 76ms/step - accuracy: 0.9441 - loss: 0.6170 - val_accuracy: 0.4400 - val_loss: 3.3522\n",
      "Epoch 55/80\n",
      "\u001b[1m2/2\u001b[0m \u001b[32m━━━━━━━━━━━━━━━━━━━━\u001b[0m\u001b[37m\u001b[0m \u001b[1m0s\u001b[0m 78ms/step - accuracy: 0.9337 - loss: 0.6075 - val_accuracy: 0.4400 - val_loss: 3.3776\n",
      "Epoch 56/80\n",
      "\u001b[1m2/2\u001b[0m \u001b[32m━━━━━━━━━━━━━━━━━━━━\u001b[0m\u001b[37m\u001b[0m \u001b[1m0s\u001b[0m 86ms/step - accuracy: 0.9337 - loss: 0.5234 - val_accuracy: 0.4400 - val_loss: 3.4029\n",
      "Epoch 57/80\n",
      "\u001b[1m2/2\u001b[0m \u001b[32m━━━━━━━━━━━━━━━━━━━━\u001b[0m\u001b[37m\u001b[0m \u001b[1m0s\u001b[0m 86ms/step - accuracy: 0.9441 - loss: 0.5162 - val_accuracy: 0.4400 - val_loss: 3.4289\n",
      "Epoch 58/80\n",
      "\u001b[1m2/2\u001b[0m \u001b[32m━━━━━━━━━━━━━━━━━━━━\u001b[0m\u001b[37m\u001b[0m \u001b[1m0s\u001b[0m 58ms/step - accuracy: 0.9558 - loss: 0.4685 - val_accuracy: 0.4400 - val_loss: 3.4559\n",
      "Epoch 59/80\n",
      "\u001b[1m2/2\u001b[0m \u001b[32m━━━━━━━━━━━━━━━━━━━━\u001b[0m\u001b[37m\u001b[0m \u001b[1m0s\u001b[0m 64ms/step - accuracy: 0.9883 - loss: 0.4263 - val_accuracy: 0.4400 - val_loss: 3.4820\n",
      "Epoch 60/80\n",
      "\u001b[1m2/2\u001b[0m \u001b[32m━━━━━━━━━━━━━━━━━━━━\u001b[0m\u001b[37m\u001b[0m \u001b[1m0s\u001b[0m 74ms/step - accuracy: 0.9883 - loss: 0.3712 - val_accuracy: 0.4400 - val_loss: 3.5055\n",
      "Epoch 61/80\n",
      "\u001b[1m2/2\u001b[0m \u001b[32m━━━━━━━━━━━━━━━━━━━━\u001b[0m\u001b[37m\u001b[0m \u001b[1m0s\u001b[0m 112ms/step - accuracy: 0.9779 - loss: 0.3768 - val_accuracy: 0.4400 - val_loss: 3.5293\n",
      "Epoch 62/80\n",
      "\u001b[1m2/2\u001b[0m \u001b[32m━━━━━━━━━━━━━━━━━━━━\u001b[0m\u001b[37m\u001b[0m \u001b[1m0s\u001b[0m 57ms/step - accuracy: 0.9883 - loss: 0.3336 - val_accuracy: 0.4400 - val_loss: 3.5517\n",
      "Epoch 63/80\n",
      "\u001b[1m2/2\u001b[0m \u001b[32m━━━━━━━━━━━━━━━━━━━━\u001b[0m\u001b[37m\u001b[0m \u001b[1m0s\u001b[0m 58ms/step - accuracy: 0.9779 - loss: 0.3321 - val_accuracy: 0.4400 - val_loss: 3.5720\n",
      "Epoch 64/80\n",
      "\u001b[1m2/2\u001b[0m \u001b[32m━━━━━━━━━━━━━━━━━━━━\u001b[0m\u001b[37m\u001b[0m \u001b[1m0s\u001b[0m 56ms/step - accuracy: 1.0000 - loss: 0.3063 - val_accuracy: 0.4400 - val_loss: 3.5926\n",
      "Epoch 65/80\n",
      "\u001b[1m2/2\u001b[0m \u001b[32m━━━━━━━━━━━━━━━━━━━━\u001b[0m\u001b[37m\u001b[0m \u001b[1m0s\u001b[0m 60ms/step - accuracy: 1.0000 - loss: 0.2916 - val_accuracy: 0.4400 - val_loss: 3.6139\n",
      "Epoch 66/80\n",
      "\u001b[1m2/2\u001b[0m \u001b[32m━━━━━━━━━━━━━━━━━━━━\u001b[0m\u001b[37m\u001b[0m \u001b[1m0s\u001b[0m 63ms/step - accuracy: 1.0000 - loss: 0.2545 - val_accuracy: 0.4400 - val_loss: 3.6361\n",
      "Epoch 67/80\n",
      "\u001b[1m2/2\u001b[0m \u001b[32m━━━━━━━━━━━━━━━━━━━━\u001b[0m\u001b[37m\u001b[0m \u001b[1m0s\u001b[0m 76ms/step - accuracy: 1.0000 - loss: 0.2459 - val_accuracy: 0.4400 - val_loss: 3.6576\n",
      "Epoch 68/80\n",
      "\u001b[1m2/2\u001b[0m \u001b[32m━━━━━━━━━━━━━━━━━━━━\u001b[0m\u001b[37m\u001b[0m \u001b[1m0s\u001b[0m 66ms/step - accuracy: 1.0000 - loss: 0.2393 - val_accuracy: 0.4800 - val_loss: 3.6782\n",
      "Epoch 69/80\n",
      "\u001b[1m2/2\u001b[0m \u001b[32m━━━━━━━━━━━━━━━━━━━━\u001b[0m\u001b[37m\u001b[0m \u001b[1m0s\u001b[0m 57ms/step - accuracy: 1.0000 - loss: 0.2319 - val_accuracy: 0.4800 - val_loss: 3.6983\n",
      "Epoch 70/80\n",
      "\u001b[1m2/2\u001b[0m \u001b[32m━━━━━━━━━━━━━━━━━━━━\u001b[0m\u001b[37m\u001b[0m \u001b[1m0s\u001b[0m 54ms/step - accuracy: 1.0000 - loss: 0.2179 - val_accuracy: 0.4800 - val_loss: 3.7174\n",
      "Epoch 71/80\n",
      "\u001b[1m2/2\u001b[0m \u001b[32m━━━━━━━━━━━━━━━━━━━━\u001b[0m\u001b[37m\u001b[0m \u001b[1m0s\u001b[0m 75ms/step - accuracy: 1.0000 - loss: 0.1996 - val_accuracy: 0.4800 - val_loss: 3.7363\n",
      "Epoch 72/80\n",
      "\u001b[1m2/2\u001b[0m \u001b[32m━━━━━━━━━━━━━━━━━━━━\u001b[0m\u001b[37m\u001b[0m \u001b[1m0s\u001b[0m 62ms/step - accuracy: 1.0000 - loss: 0.1851 - val_accuracy: 0.4800 - val_loss: 3.7546\n",
      "Epoch 73/80\n",
      "\u001b[1m2/2\u001b[0m \u001b[32m━━━━━━━━━━━━━━━━━━━━\u001b[0m\u001b[37m\u001b[0m \u001b[1m0s\u001b[0m 84ms/step - accuracy: 1.0000 - loss: 0.1792 - val_accuracy: 0.4800 - val_loss: 3.7713\n",
      "Epoch 74/80\n",
      "\u001b[1m2/2\u001b[0m \u001b[32m━━━━━━━━━━━━━━━━━━━━\u001b[0m\u001b[37m\u001b[0m \u001b[1m0s\u001b[0m 100ms/step - accuracy: 1.0000 - loss: 0.1586 - val_accuracy: 0.4800 - val_loss: 3.7876\n",
      "Epoch 75/80\n",
      "\u001b[1m2/2\u001b[0m \u001b[32m━━━━━━━━━━━━━━━━━━━━\u001b[0m\u001b[37m\u001b[0m \u001b[1m0s\u001b[0m 109ms/step - accuracy: 1.0000 - loss: 0.1579 - val_accuracy: 0.4800 - val_loss: 3.8039\n",
      "Epoch 76/80\n",
      "\u001b[1m2/2\u001b[0m \u001b[32m━━━━━━━━━━━━━━━━━━━━\u001b[0m\u001b[37m\u001b[0m \u001b[1m0s\u001b[0m 75ms/step - accuracy: 1.0000 - loss: 0.1516 - val_accuracy: 0.4800 - val_loss: 3.8203\n",
      "Epoch 77/80\n",
      "\u001b[1m2/2\u001b[0m \u001b[32m━━━━━━━━━━━━━━━━━━━━\u001b[0m\u001b[37m\u001b[0m \u001b[1m0s\u001b[0m 86ms/step - accuracy: 1.0000 - loss: 0.1431 - val_accuracy: 0.4800 - val_loss: 3.8363\n",
      "Epoch 78/80\n",
      "\u001b[1m2/2\u001b[0m \u001b[32m━━━━━━━━━━━━━━━━━━━━\u001b[0m\u001b[37m\u001b[0m \u001b[1m0s\u001b[0m 90ms/step - accuracy: 1.0000 - loss: 0.1428 - val_accuracy: 0.4800 - val_loss: 3.8524\n",
      "Epoch 79/80\n",
      "\u001b[1m2/2\u001b[0m \u001b[32m━━━━━━━━━━━━━━━━━━━━\u001b[0m\u001b[37m\u001b[0m \u001b[1m0s\u001b[0m 67ms/step - accuracy: 1.0000 - loss: 0.1438 - val_accuracy: 0.4800 - val_loss: 3.8670\n",
      "Epoch 80/80\n",
      "\u001b[1m2/2\u001b[0m \u001b[32m━━━━━━━━━━━━━━━━━━━━\u001b[0m\u001b[37m\u001b[0m \u001b[1m0s\u001b[0m 59ms/step - accuracy: 1.0000 - loss: 0.1321 - val_accuracy: 0.4800 - val_loss: 3.8818\n"
     ]
    }
   ],
   "source": [
    "# ANN MODEL TRAINING\n",
    "history  = ont_chat_model.fit(X_train, y_train, validation_data=(X_test, y_test),  epochs=80)"
   ]
  },
  {
   "cell_type": "markdown",
   "id": "a2518ef0-cd65-4541-8da7-9515b924d681",
   "metadata": {},
   "source": [
    "#### ANN MODEL EVALUATION"
   ]
  },
  {
   "cell_type": "code",
   "execution_count": 53,
   "id": "64df1729-7854-4bc0-b431-785b4d611bef",
   "metadata": {},
   "outputs": [
    {
     "data": {
      "image/png": "[encoded data removed]",
      "text/plain": [
       "<Figure size 640x480 with 1 Axes>"
      ]
     },
     "metadata": {},
     "output_type": "display_data"
    }
   ],
   "source": [
    "plt.plot(history.history['accuracy'], color='red')\n",
    "plt.plot(history.history['val_accuracy'], color='green')\n",
    "plt.title('MODEL TRAINING ACCURACY')\n",
    "plt.xlabel('EPOCH')\n",
    "plt.ylabel('ACCURACY')\n",
    "plt.grid()\n",
    "plt.show()"
   ]
  },
  {
   "cell_type": "code",
   "execution_count": 54,
   "id": "9c7635bb-166b-40e2-a567-f7ca549659d7",
   "metadata": {},
   "outputs": [
    {
     "data": {
      "image/png": "[encoded data removed]",
      "text/plain": [
       "<Figure size 640x480 with 1 Axes>"
      ]
     },
     "metadata": {},
     "output_type": "display_data"
    }
   ],
   "source": [
    "plt.plot(history.history['loss'], color='red')\n",
    "plt.plot(history.history['val_loss'], color='green')\n",
    "plt.title('MODEL TRAINING LOSS')\n",
    "plt.xlabel('EPOCH')\n",
    "plt.ylabel('LOSS')\n",
    "plt.grid()\n",
    "plt.show()"
   ]
  },
  {
   "cell_type": "code",
   "execution_count": 55,
   "id": "4cd239ae-b312-405e-a208-98d49928048e",
   "metadata": {},
   "outputs": [
    {
     "data": {
      "text/plain": [
       "<82x182 sparse matrix of type '<class 'numpy.int64'>'\n",
       "\twith 509 stored elements in Compressed Sparse Row format>"
      ]
     },
     "execution_count": 55,
     "metadata": {},
     "output_type": "execute_result"
    }
   ],
   "source": [
    "feature_matrix"
   ]
  },
  {
   "cell_type": "markdown",
   "id": "06f5019b-4c92-43cc-9d56-18361cfe0ec3",
   "metadata": {},
   "source": [
    "#### SAVING VECTORIZATION, & QUERY MODEL..."
   ]
  },
  {
   "cell_type": "code",
   "execution_count": 56,
   "id": "5e1ccfac-e410-4bf5-9a1c-24b277d118e8",
   "metadata": {},
   "outputs": [
    {
     "name": "stderr",
     "output_type": "stream",
     "text": [
      "WARNING:absl:You are saving your model as an HDF5 file via `model.save()` or `keras.saving.save_model(model)`. This file format is considered legacy. We recommend using instead the native Keras format, e.g. `model.save('my_model.keras')` or `keras.saving.save_model(model, 'my_model.keras')`. \n"
     ]
    },
    {
     "name": "stdout",
     "output_type": "stream",
     "text": [
      "model save\n"
     ]
    }
   ],
   "source": [
    "ont_chat_model.save('ont_query.h5')\n",
    "print('model save')"
   ]
  },
  {
   "cell_type": "code",
   "execution_count": 57,
   "id": "dab30b3d-0d7f-439b-9e30-48c30fa20716",
   "metadata": {},
   "outputs": [
    {
     "data": {
      "text/html": [
       "<style>#sk-container-id-1 {color: black;background-color: white;}#sk-container-id-1 pre{padding: 0;}#sk-container-id-1 div.sk-toggleable {background-color: white;}#sk-container-id-1 label.sk-toggleable__label {cursor: pointer;display: block;width: 100%;margin-bottom: 0;padding: 0.3em;box-sizing: border-box;text-align: center;}#sk-container-id-1 label.sk-toggleable__label-arrow:before {content: \"▸\";float: left;margin-right: 0.25em;color: #696969;}#sk-container-id-1 label.sk-toggleable__label-arrow:hover:before {color: black;}#sk-container-id-1 div.sk-estimator:hover label.sk-toggleable__label-arrow:before {color: black;}#sk-container-id-1 div.sk-toggleable__content {max-height: 0;max-width: 0;overflow: hidden;text-align: left;background-color: #f0f8ff;}#sk-container-id-1 div.sk-toggleable__content pre {margin: 0.2em;color: black;border-radius: 0.25em;background-color: #f0f8ff;}#sk-container-id-1 input.sk-toggleable__control:checked~div.sk-toggleable__content {max-height: 200px;max-width: 100%;overflow: auto;}#sk-container-id-1 input.sk-toggleable__control:checked~label.sk-toggleable__label-arrow:before {content: \"▾\";}#sk-container-id-1 div.sk-estimator input.sk-toggleable__control:checked~label.sk-toggleable__label {background-color: #d4ebff;}#sk-container-id-1 div.sk-label input.sk-toggleable__control:checked~label.sk-toggleable__label {background-color: #d4ebff;}#sk-container-id-1 input.sk-hidden--visually {border: 0;clip: rect(1px 1px 1px 1px);clip: rect(1px, 1px, 1px, 1px);height: 1px;margin: -1px;overflow: hidden;padding: 0;position: absolute;width: 1px;}#sk-container-id-1 div.sk-estimator {font-family: monospace;background-color: #f0f8ff;border: 1px dotted black;border-radius: 0.25em;box-sizing: border-box;margin-bottom: 0.5em;}#sk-container-id-1 div.sk-estimator:hover {background-color: #d4ebff;}#sk-container-id-1 div.sk-parallel-item::after {content: \"\";width: 100%;border-bottom: 1px solid gray;flex-grow: 1;}#sk-container-id-1 div.sk-label:hover label.sk-toggleable__label {background-color: #d4ebff;}#sk-container-id-1 div.sk-serial::before {content: \"\";position: absolute;border-left: 1px solid gray;box-sizing: border-box;top: 0;bottom: 0;left: 50%;z-index: 0;}#sk-container-id-1 div.sk-serial {display: flex;flex-direction: column;align-items: center;background-color: white;padding-right: 0.2em;padding-left: 0.2em;position: relative;}#sk-container-id-1 div.sk-item {position: relative;z-index: 1;}#sk-container-id-1 div.sk-parallel {display: flex;align-items: stretch;justify-content: center;background-color: white;position: relative;}#sk-container-id-1 div.sk-item::before, #sk-container-id-1 div.sk-parallel-item::before {content: \"\";position: absolute;border-left: 1px solid gray;box-sizing: border-box;top: 0;bottom: 0;left: 50%;z-index: -1;}#sk-container-id-1 div.sk-parallel-item {display: flex;flex-direction: column;z-index: 1;position: relative;background-color: white;}#sk-container-id-1 div.sk-parallel-item:first-child::after {align-self: flex-end;width: 50%;}#sk-container-id-1 div.sk-parallel-item:last-child::after {align-self: flex-start;width: 50%;}#sk-container-id-1 div.sk-parallel-item:only-child::after {width: 0;}#sk-container-id-1 div.sk-dashed-wrapped {border: 1px dashed gray;margin: 0 0.4em 0.5em 0.4em;box-sizing: border-box;padding-bottom: 0.4em;background-color: white;}#sk-container-id-1 div.sk-label label {font-family: monospace;font-weight: bold;display: inline-block;line-height: 1.2em;}#sk-container-id-1 div.sk-label-container {text-align: center;}#sk-container-id-1 div.sk-container {/* jupyter's `normalize.less` sets `[hidden] { display: none; }` but bootstrap.min.css set `[hidden] { display: none !important; }` so we also need the `!important` here to be able to override the default hidden behavior on the sphinx rendered scikit-learn.org. See: https://github.com/scikit-learn/scikit-learn/issues/21755 */display: inline-block !important;position: relative;}#sk-container-id-1 div.sk-text-repr-fallback {display: none;}</style><div id=\"sk-container-id-1\" class=\"sk-top-container\"><div class=\"sk-text-repr-fallback\"><pre>CountVectorizer()</pre><b>In a Jupyter environment, please rerun this cell to show the HTML representation or trust the notebook. <br />On GitHub, the HTML representation is unable to render, please try loading this page with nbviewer.org.</b></div><div class=\"sk-container\" hidden><div class=\"sk-item\"><div class=\"sk-estimator sk-toggleable\"><input class=\"sk-toggleable__control sk-hidden--visually\" id=\"sk-estimator-id-1\" type=\"checkbox\" checked><label for=\"sk-estimator-id-1\" class=\"sk-toggleable__label sk-toggleable__label-arrow\">CountVectorizer</label><div class=\"sk-toggleable__content\"><pre>CountVectorizer()</pre></div></div></div></div></div>"
      ],
      "text/plain": [
       "CountVectorizer()"
      ]
     },
     "execution_count": 57,
     "metadata": {},
     "output_type": "execute_result"
    }
   ],
   "source": [
    "cv"
   ]
  },
  {
   "cell_type": "code",
   "execution_count": 58,
   "id": "faea7371-1efd-4d60-9537-ea0c548d4786",
   "metadata": {},
   "outputs": [],
   "source": [
    "# save vectorization model \n",
    "import joblib"
   ]
  },
  {
   "cell_type": "code",
   "execution_count": 59,
   "id": "47fdfde7-891b-42b1-9dca-b1b51c1ad4f9",
   "metadata": {},
   "outputs": [
    {
     "data": {
      "text/plain": [
       "['vectorizer.jb']"
      ]
     },
     "execution_count": 59,
     "metadata": {},
     "output_type": "execute_result"
    }
   ],
   "source": [
    "joblib.dump(cv, 'vectorizer.jb')"
   ]
  },
  {
   "cell_type": "code",
   "execution_count": 60,
   "id": "565fd31e-06e3-43a7-8f4a-92a21c688ef2",
   "metadata": {},
   "outputs": [
    {
     "data": {
      "text/plain": [
       "['tf_vectorizer.jb']"
      ]
     },
     "execution_count": 60,
     "metadata": {},
     "output_type": "execute_result"
    }
   ],
   "source": [
    "# saving vectorizer \n",
    "joblib.dump(idf, 'tf_vectorizer.jb')"
   ]
  },
  {
   "cell_type": "code",
   "execution_count": 61,
   "id": "98b69306-7284-438e-9f34-36e905a67969",
   "metadata": {},
   "outputs": [
    {
     "data": {
      "text/html": [
       "<style>#sk-container-id-2 {color: black;background-color: white;}#sk-container-id-2 pre{padding: 0;}#sk-container-id-2 div.sk-toggleable {background-color: white;}#sk-container-id-2 label.sk-toggleable__label {cursor: pointer;display: block;width: 100%;margin-bottom: 0;padding: 0.3em;box-sizing: border-box;text-align: center;}#sk-container-id-2 label.sk-toggleable__label-arrow:before {content: \"▸\";float: left;margin-right: 0.25em;color: #696969;}#sk-container-id-2 label.sk-toggleable__label-arrow:hover:before {color: black;}#sk-container-id-2 div.sk-estimator:hover label.sk-toggleable__label-arrow:before {color: black;}#sk-container-id-2 div.sk-toggleable__content {max-height: 0;max-width: 0;overflow: hidden;text-align: left;background-color: #f0f8ff;}#sk-container-id-2 div.sk-toggleable__content pre {margin: 0.2em;color: black;border-radius: 0.25em;background-color: #f0f8ff;}#sk-container-id-2 input.sk-toggleable__control:checked~div.sk-toggleable__content {max-height: 200px;max-width: 100%;overflow: auto;}#sk-container-id-2 input.sk-toggleable__control:checked~label.sk-toggleable__label-arrow:before {content: \"▾\";}#sk-container-id-2 div.sk-estimator input.sk-toggleable__control:checked~label.sk-toggleable__label {background-color: #d4ebff;}#sk-container-id-2 div.sk-label input.sk-toggleable__control:checked~label.sk-toggleable__label {background-color: #d4ebff;}#sk-container-id-2 input.sk-hidden--visually {border: 0;clip: rect(1px 1px 1px 1px);clip: rect(1px, 1px, 1px, 1px);height: 1px;margin: -1px;overflow: hidden;padding: 0;position: absolute;width: 1px;}#sk-container-id-2 div.sk-estimator {font-family: monospace;background-color: #f0f8ff;border: 1px dotted black;border-radius: 0.25em;box-sizing: border-box;margin-bottom: 0.5em;}#sk-container-id-2 div.sk-estimator:hover {background-color: #d4ebff;}#sk-container-id-2 div.sk-parallel-item::after {content: \"\";width: 100%;border-bottom: 1px solid gray;flex-grow: 1;}#sk-container-id-2 div.sk-label:hover label.sk-toggleable__label {background-color: #d4ebff;}#sk-container-id-2 div.sk-serial::before {content: \"\";position: absolute;border-left: 1px solid gray;box-sizing: border-box;top: 0;bottom: 0;left: 50%;z-index: 0;}#sk-container-id-2 div.sk-serial {display: flex;flex-direction: column;align-items: center;background-color: white;padding-right: 0.2em;padding-left: 0.2em;position: relative;}#sk-container-id-2 div.sk-item {position: relative;z-index: 1;}#sk-container-id-2 div.sk-parallel {display: flex;align-items: stretch;justify-content: center;background-color: white;position: relative;}#sk-container-id-2 div.sk-item::before, #sk-container-id-2 div.sk-parallel-item::before {content: \"\";position: absolute;border-left: 1px solid gray;box-sizing: border-box;top: 0;bottom: 0;left: 50%;z-index: -1;}#sk-container-id-2 div.sk-parallel-item {display: flex;flex-direction: column;z-index: 1;position: relative;background-color: white;}#sk-container-id-2 div.sk-parallel-item:first-child::after {align-self: flex-end;width: 50%;}#sk-container-id-2 div.sk-parallel-item:last-child::after {align-self: flex-start;width: 50%;}#sk-container-id-2 div.sk-parallel-item:only-child::after {width: 0;}#sk-container-id-2 div.sk-dashed-wrapped {border: 1px dashed gray;margin: 0 0.4em 0.5em 0.4em;box-sizing: border-box;padding-bottom: 0.4em;background-color: white;}#sk-container-id-2 div.sk-label label {font-family: monospace;font-weight: bold;display: inline-block;line-height: 1.2em;}#sk-container-id-2 div.sk-label-container {text-align: center;}#sk-container-id-2 div.sk-container {/* jupyter's `normalize.less` sets `[hidden] { display: none; }` but bootstrap.min.css set `[hidden] { display: none !important; }` so we also need the `!important` here to be able to override the default hidden behavior on the sphinx rendered scikit-learn.org. See: https://github.com/scikit-learn/scikit-learn/issues/21755 */display: inline-block !important;position: relative;}#sk-container-id-2 div.sk-text-repr-fallback {display: none;}</style><div id=\"sk-container-id-2\" class=\"sk-top-container\"><div class=\"sk-text-repr-fallback\"><pre>CountVectorizer()</pre><b>In a Jupyter environment, please rerun this cell to show the HTML representation or trust the notebook. <br />On GitHub, the HTML representation is unable to render, please try loading this page with nbviewer.org.</b></div><div class=\"sk-container\" hidden><div class=\"sk-item\"><div class=\"sk-estimator sk-toggleable\"><input class=\"sk-toggleable__control sk-hidden--visually\" id=\"sk-estimator-id-2\" type=\"checkbox\" checked><label for=\"sk-estimator-id-2\" class=\"sk-toggleable__label sk-toggleable__label-arrow\">CountVectorizer</label><div class=\"sk-toggleable__content\"><pre>CountVectorizer()</pre></div></div></div></div></div>"
      ],
      "text/plain": [
       "CountVectorizer()"
      ]
     },
     "execution_count": 61,
     "metadata": {},
     "output_type": "execute_result"
    }
   ],
   "source": [
    "vectorizer = joblib.load('vectorizer.jb')\n",
    "vectorizer"
   ]
  },
  {
   "cell_type": "code",
   "execution_count": 62,
   "id": "bd61c1f0-7877-42a2-83d8-7c249b042bbe",
   "metadata": {},
   "outputs": [
    {
     "data": {
      "text/html": [
       "<style>#sk-container-id-3 {color: black;background-color: white;}#sk-container-id-3 pre{padding: 0;}#sk-container-id-3 div.sk-toggleable {background-color: white;}#sk-container-id-3 label.sk-toggleable__label {cursor: pointer;display: block;width: 100%;margin-bottom: 0;padding: 0.3em;box-sizing: border-box;text-align: center;}#sk-container-id-3 label.sk-toggleable__label-arrow:before {content: \"▸\";float: left;margin-right: 0.25em;color: #696969;}#sk-container-id-3 label.sk-toggleable__label-arrow:hover:before {color: black;}#sk-container-id-3 div.sk-estimator:hover label.sk-toggleable__label-arrow:before {color: black;}#sk-container-id-3 div.sk-toggleable__content {max-height: 0;max-width: 0;overflow: hidden;text-align: left;background-color: #f0f8ff;}#sk-container-id-3 div.sk-toggleable__content pre {margin: 0.2em;color: black;border-radius: 0.25em;background-color: #f0f8ff;}#sk-container-id-3 input.sk-toggleable__control:checked~div.sk-toggleable__content {max-height: 200px;max-width: 100%;overflow: auto;}#sk-container-id-3 input.sk-toggleable__control:checked~label.sk-toggleable__label-arrow:before {content: \"▾\";}#sk-container-id-3 div.sk-estimator input.sk-toggleable__control:checked~label.sk-toggleable__label {background-color: #d4ebff;}#sk-container-id-3 div.sk-label input.sk-toggleable__control:checked~label.sk-toggleable__label {background-color: #d4ebff;}#sk-container-id-3 input.sk-hidden--visually {border: 0;clip: rect(1px 1px 1px 1px);clip: rect(1px, 1px, 1px, 1px);height: 1px;margin: -1px;overflow: hidden;padding: 0;position: absolute;width: 1px;}#sk-container-id-3 div.sk-estimator {font-family: monospace;background-color: #f0f8ff;border: 1px dotted black;border-radius: 0.25em;box-sizing: border-box;margin-bottom: 0.5em;}#sk-container-id-3 div.sk-estimator:hover {background-color: #d4ebff;}#sk-container-id-3 div.sk-parallel-item::after {content: \"\";width: 100%;border-bottom: 1px solid gray;flex-grow: 1;}#sk-container-id-3 div.sk-label:hover label.sk-toggleable__label {background-color: #d4ebff;}#sk-container-id-3 div.sk-serial::before {content: \"\";position: absolute;border-left: 1px solid gray;box-sizing: border-box;top: 0;bottom: 0;left: 50%;z-index: 0;}#sk-container-id-3 div.sk-serial {display: flex;flex-direction: column;align-items: center;background-color: white;padding-right: 0.2em;padding-left: 0.2em;position: relative;}#sk-container-id-3 div.sk-item {position: relative;z-index: 1;}#sk-container-id-3 div.sk-parallel {display: flex;align-items: stretch;justify-content: center;background-color: white;position: relative;}#sk-container-id-3 div.sk-item::before, #sk-container-id-3 div.sk-parallel-item::before {content: \"\";position: absolute;border-left: 1px solid gray;box-sizing: border-box;top: 0;bottom: 0;left: 50%;z-index: -1;}#sk-container-id-3 div.sk-parallel-item {display: flex;flex-direction: column;z-index: 1;position: relative;background-color: white;}#sk-container-id-3 div.sk-parallel-item:first-child::after {align-self: flex-end;width: 50%;}#sk-container-id-3 div.sk-parallel-item:last-child::after {align-self: flex-start;width: 50%;}#sk-container-id-3 div.sk-parallel-item:only-child::after {width: 0;}#sk-container-id-3 div.sk-dashed-wrapped {border: 1px dashed gray;margin: 0 0.4em 0.5em 0.4em;box-sizing: border-box;padding-bottom: 0.4em;background-color: white;}#sk-container-id-3 div.sk-label label {font-family: monospace;font-weight: bold;display: inline-block;line-height: 1.2em;}#sk-container-id-3 div.sk-label-container {text-align: center;}#sk-container-id-3 div.sk-container {/* jupyter's `normalize.less` sets `[hidden] { display: none; }` but bootstrap.min.css set `[hidden] { display: none !important; }` so we also need the `!important` here to be able to override the default hidden behavior on the sphinx rendered scikit-learn.org. See: https://github.com/scikit-learn/scikit-learn/issues/21755 */display: inline-block !important;position: relative;}#sk-container-id-3 div.sk-text-repr-fallback {display: none;}</style><div id=\"sk-container-id-3\" class=\"sk-top-container\"><div class=\"sk-text-repr-fallback\"><pre>TfidfVectorizer()</pre><b>In a Jupyter environment, please rerun this cell to show the HTML representation or trust the notebook. <br />On GitHub, the HTML representation is unable to render, please try loading this page with nbviewer.org.</b></div><div class=\"sk-container\" hidden><div class=\"sk-item\"><div class=\"sk-estimator sk-toggleable\"><input class=\"sk-toggleable__control sk-hidden--visually\" id=\"sk-estimator-id-3\" type=\"checkbox\" checked><label for=\"sk-estimator-id-3\" class=\"sk-toggleable__label sk-toggleable__label-arrow\">TfidfVectorizer</label><div class=\"sk-toggleable__content\"><pre>TfidfVectorizer()</pre></div></div></div></div></div>"
      ],
      "text/plain": [
       "TfidfVectorizer()"
      ]
     },
     "execution_count": 62,
     "metadata": {},
     "output_type": "execute_result"
    }
   ],
   "source": [
    "tf_vectorizer = joblib.load('tf_vectorizer.jb')\n",
    "tf_vectorizer"
   ]
  },
  {
   "cell_type": "code",
   "execution_count": 64,
   "id": "a85b79dd-a075-42e2-a522-e48a422a8ec5",
   "metadata": {},
   "outputs": [],
   "source": [
    "# vectorizer.vocabulary_"
   ]
  },
  {
   "cell_type": "code",
   "execution_count": 63,
   "id": "b4a3fd0f-fe77-47ad-a5fd-ba100d6c9a2d",
   "metadata": {},
   "outputs": [
    {
     "name": "stdout",
     "output_type": "stream",
     "text": [
      "{'bodi': 18, 'of': 125, 'water': 180, 'accumul': 0, 'quantiti': 147, 'physic': 132, 'measur': 110, 'actual': 1, 'evapotranspir': 68, 'evapor': 67, 'biom': 16, 'bioma': 17, 'contem': 35, 'corpo': 37, 'de': 43, 'agua': 7, 'environment': 60, 'transform': 173, 'agent': 2, 'causa': 20, 'transformacao': 174, 'ambient': 10, 'qualiti': 145, 'chemic': 22, 'concentracao': 33, 'quimicada': 149, 'indic': 96, 'meso': 113, 'regiao': 151, 'micro': 116, 'municipio': 118, 'geopolitica': 90, 'unidad': 177, 'da': 41, 'federacao': 81, 'faz': 80, 'part': 127, 'decorred': 44, 'evento': 70, 'event': 69, 'eventosda': 71, 'inform': 98, 'resourc': 152, 'describ': 47, 'seca': 155, 'dri': 55, 'period': 129, 'space': 158, 'tempor': 169, 'extens': 78, 'eh': 57, 'causado': 21, 'por': 135, 'amostra': 11, 'composta': 29, 'coleta': 25, 'air': 8, 'composto': 30, 'ga': 84, 'agricultur': 4, 'crop': 38, 'cultivo': 39, 'plant': 133, 'biolog': 14, 'commun': 27, 'expansao': 74, 'agropecuaria': 6, 'decorrenteda': 45, 'agricultura': 5, 'project': 142, 'executado': 73, 'instituicao': 99, 'institut': 100, 'executa': 72, 'projeto': 143, 'expressa': 76, 'medida': 111, 'manejo': 108, 'agricola': 3, 'do': 54, 'sistema': 157, 'producao': 140, 'product': 141, 'system': 165, 'emprega': 59, 'pessoa': 131, 'person': 130, 'groundwaterflow': 91, 'discharg': 53, 'ha': 92, 'taxa': 166, 'compon': 28, 'organ': 126, 'geopolit': 89, 'identificador': 93, 'geografico': 85, 'geograph': 86, 'in': 94, 'conduit': 34, 'clima': 23, 'inclui': 95, 'fenomeno': 82, 'meterologico': 115, 'is': 101, 'by': 19, 'latitud': 102, 'limitrof': 103, 'nort': 119, 'posit': 136, 'retangulo': 153, 'envolvent': 61, 'sul': 164, 'localizada': 106, 'em': 58, 'espaco': 64, 'spacetim': 159, 'longitud': 107, 'est': 65, 'oest': 124, 'manifesta': 109, 'dimens': 49, 'object': 120, 'modifica': 117, 'sepor': 156, 'ocorr': 122, 'objeto': 121, 'trasnformacao': 176, 'tempo': 168, 'geologico': 88, 'geolog': 87, 'time': 171, 'ocorreem': 123, 'participa': 128, 'poligono': 134, 'delimitador': 46, 'possui': 137, 'dimenso': 51, 'expressao': 77, 'expres': 75, 'spacial': 160, 'localizacao': 105, 'local': 104, 'potenti': 138, 'precipit': 139, 'durat': 56, 'dado': 42, 'sao': 154, 'coletado': 26, 'estacao': 66, 'meterologica': 114, 'descrito': 48, 'stream': 163, 'dinamica': 52, 'uso': 179, 'cobertura': 24, 'terra': 170, 'tem': 167, 'cultura': 40, 'dimensao': 50, 'equip': 62, 'indicador': 97, 'quimico': 150, 'extensao': 79, 'biologica': 15, 'qualidad': 144, 'fisica': 83, 'quantidad': 146, 'quimica': 148, 'compound': 31, 'trabalha': 172, 'transpir': 175, 'usa': 178, 'convencao': 36, 'standard': 161, 'altimetr': 9, 'bathymetr': 12, 'mensuracao': 112, 'espaci': 63, 'biolgic': 13, 'comun': 32, 'waterflow': 181, 'storm': 162}\n"
     ]
    }
   ],
   "source": [
    "print(vectorizer.vocabulary_)"
   ]
  },
  {
   "cell_type": "code",
   "execution_count": 75,
   "id": "15ef4078-2c1c-4cdc-a107-c1d922f7343f",
   "metadata": {},
   "outputs": [
    {
     "data": {
      "text/html": [
       "<div>\n",
       "<style scoped>\n",
       "    .dataframe tbody tr th:only-of-type {\n",
       "        vertical-align: middle;\n",
       "    }\n",
       "\n",
       "    .dataframe tbody tr th {\n",
       "        vertical-align: top;\n",
       "    }\n",
       "\n",
       "    .dataframe thead th {\n",
       "        text-align: right;\n",
       "    }\n",
       "</style>\n",
       "<table border=\"1\" class=\"dataframe\">\n",
       "  <thead>\n",
       "    <tr style=\"text-align: right;\">\n",
       "      <th></th>\n",
       "      <th>ont_doc</th>\n",
       "      <th>clean_doc</th>\n",
       "      <th>intent</th>\n",
       "      <th>final_doc</th>\n",
       "      <th>len</th>\n",
       "    </tr>\n",
       "  </thead>\n",
       "  <tbody>\n",
       "    <tr>\n",
       "      <th>28</th>\n",
       "      <td>MicroRegiao fazParteMicroRegiaoMesoRegiao  Mes...</td>\n",
       "      <td>micro regiao faz parte micro regiao meso regia...</td>\n",
       "      <td>25</td>\n",
       "      <td>micro regiao faz part micro regiao meso regiao...</td>\n",
       "      <td>59</td>\n",
       "    </tr>\n",
       "    <tr>\n",
       "      <th>55</th>\n",
       "      <td>GeographicalExtension poligonoDelimitador  Geo...</td>\n",
       "      <td>geographical extension poligono delimitador ge...</td>\n",
       "      <td>19</td>\n",
       "      <td>geograph extens poligono delimitador geograph ...</td>\n",
       "      <td>65</td>\n",
       "    </tr>\n",
       "    <tr>\n",
       "      <th>60</th>\n",
       "      <td>Precipitation precipitationDuration  SpaceTemp...</td>\n",
       "      <td>precipitation duration space temporal extension</td>\n",
       "      <td>28</td>\n",
       "      <td>precipit durat space tempor extens</td>\n",
       "      <td>47</td>\n",
       "    </tr>\n",
       "  </tbody>\n",
       "</table>\n",
       "</div>"
      ],
      "text/plain": [
       "                                              ont_doc  \\\n",
       "28  MicroRegiao fazParteMicroRegiaoMesoRegiao  Mes...   \n",
       "55  GeographicalExtension poligonoDelimitador  Geo...   \n",
       "60  Precipitation precipitationDuration  SpaceTemp...   \n",
       "\n",
       "                                            clean_doc  intent  \\\n",
       "28  micro regiao faz parte micro regiao meso regia...      25   \n",
       "55  geographical extension poligono delimitador ge...      19   \n",
       "60    precipitation duration space temporal extension      28   \n",
       "\n",
       "                                            final_doc  len  \n",
       "28  micro regiao faz part micro regiao meso regiao...   59  \n",
       "55  geograph extens poligono delimitador geograph ...   65  \n",
       "60                 precipit durat space tempor extens   47  "
      ]
     },
     "execution_count": 75,
     "metadata": {},
     "output_type": "execute_result"
    }
   ],
   "source": [
    "dataset.sample(3)"
   ]
  },
  {
   "cell_type": "code",
   "execution_count": 79,
   "id": "2af96207-a2c8-452d-8f14-9407bf35975e",
   "metadata": {},
   "outputs": [
    {
     "name": "stdout",
     "output_type": "stream",
     "text": [
      "Enter Query:  fertilizer\n"
     ]
    },
    {
     "data": {
      "text/plain": [
       "array([[0, 0, 0, 0, 0, 0, 0, 0, 0, 0, 0, 0, 0, 0, 0, 0, 0, 0, 0, 0, 0, 0,\n",
       "        0, 0, 0, 0, 0, 0, 0, 0, 0, 0, 0, 0, 0, 0, 0, 0, 0, 0, 0, 0, 0, 0,\n",
       "        0, 0, 0, 0, 0, 0, 0, 0, 0, 0, 0, 0, 0, 0, 0, 0, 0, 0, 0, 0, 0, 0,\n",
       "        0, 0, 0, 0, 0, 0, 0, 0, 0, 0, 0, 0, 0, 0, 0, 0, 0, 0, 0, 0, 0, 0,\n",
       "        0, 0, 0, 0, 0, 0, 0, 0, 0, 0, 0, 0, 0, 0, 0, 0, 0, 0, 0, 0, 0, 0,\n",
       "        0, 0, 0, 0, 0, 0, 0, 0, 0, 0, 0, 0, 0, 0, 0, 0, 0, 0, 0, 0, 0, 0,\n",
       "        0, 0, 0, 0, 0, 0, 0, 0, 0, 0, 0, 0, 0, 0, 0, 0, 0, 0, 0, 0, 0, 0,\n",
       "        0, 0, 0, 0, 0, 0, 0, 0, 0, 0, 0, 0, 0, 0, 0, 0, 0, 0, 0, 0, 0, 0,\n",
       "        0, 0, 0, 0, 0, 0]], dtype=int64)"
      ]
     },
     "execution_count": 79,
     "metadata": {},
     "output_type": "execute_result"
    }
   ],
   "source": [
    "from nltk.tokenize import word_tokenize\n",
    "# split input & tokineze text and stem each text\n",
    "input_text = input('Enter Query: ')\n",
    "split_text = word_tokenize(input_text)\n",
    "stem_text = ' '.join([ps.stem(txt) for txt in split_text])\n",
    "input_features = vectorizer.transform([stem_text]).toarray()\n",
    "input_features"
   ]
  },
  {
   "cell_type": "code",
   "execution_count": 80,
   "id": "7786e2d8-6e96-4574-8064-4c3533a861c2",
   "metadata": {},
   "outputs": [
    {
     "data": {
      "text/plain": [
       "182"
      ]
     },
     "execution_count": 80,
     "metadata": {},
     "output_type": "execute_result"
    }
   ],
   "source": [
    "len(input_features[0])"
   ]
  },
  {
   "cell_type": "code",
   "execution_count": 81,
   "id": "7db2f7d7-32a5-4f71-88f4-a6be8e12a295",
   "metadata": {},
   "outputs": [
    {
     "name": "stdout",
     "output_type": "stream",
     "text": [
      "39\n",
      "[39]  Intention :  WaterQuantityPhysicalMeasure\n",
      "Pulled Result\n"
     ]
    },
    {
     "data": {
      "text/plain": [
       "['water quantity physical measure actual evapotranspiration evaporation',\n",
       " 'water quantity physical measure water evaporation',\n",
       " 'water quantity physical measure actual water evaporation',\n",
       " 'water quantity physical measure groundwaterflow discharge',\n",
       " 'water quantity physical measure water discharge',\n",
       " 'water quantity physical measure in conduit discharge',\n",
       " 'water quantity physical measure potential evaporation',\n",
       " 'water quantity physical measure stream discharge',\n",
       " 'water quantity physical measure transpiration evaporation',\n",
       " 'water quantity physical measure waterflow storm discharge']"
      ]
     },
     "execution_count": 81,
     "metadata": {},
     "output_type": "execute_result"
    }
   ],
   "source": [
    "from sklearn.metrics import classification_report\n",
    "\n",
    "pre = gb.predict(input_features)\n",
    "print(pre[0])\n",
    "print(pre,  ' Intention : ', output_converter[pre[0]] )\n",
    "pulled_information = dataset[dataset.intent == pre[0]]['clean_doc'].tolist()\n",
    "print('Pulled Result')\n",
    "pulled_information\n",
    "# clss_report = classification_report(y, predictions)\n",
    "# print(clss_report)"
   ]
  },
  {
   "cell_type": "code",
   "execution_count": null,
   "id": "cff7e7b9-f792-4d5e-959c-d045474a23c8",
   "metadata": {},
   "outputs": [],
   "source": []
  },
  {
   "cell_type": "code",
   "execution_count": 82,
   "id": "9318b94f-b974-4685-b377-b308498d3e27",
   "metadata": {},
   "outputs": [
    {
     "data": {
      "text/plain": [
       "1     water quantity physical measure actual evapotr...\n",
       "2     water quantity physical measure water evaporation\n",
       "3     water quantity physical measure actual water e...\n",
       "31    water quantity physical measure groundwaterflo...\n",
       "32      water quantity physical measure water discharge\n",
       "38    water quantity physical measure in conduit dis...\n",
       "59    water quantity physical measure potential evap...\n",
       "63     water quantity physical measure stream discharge\n",
       "76    water quantity physical measure transpiration ...\n",
       "81    water quantity physical measure waterflow stor...\n",
       "Name: clean_doc, dtype: object"
      ]
     },
     "execution_count": 82,
     "metadata": {},
     "output_type": "execute_result"
    }
   ],
   "source": [
    "dataset[dataset.intent ==39]['clean_doc']"
   ]
  },
  {
   "cell_type": "code",
   "execution_count": 83,
   "id": "77c15dae-2e99-4967-95a3-0268288589f9",
   "metadata": {},
   "outputs": [
    {
     "data": {
      "text/plain": [
       "{7: 'BodyOfWater',\n",
       " 39: 'WaterQuantityPhysicalMeasure',\n",
       " 6: 'Biome',\n",
       " 14: 'EnvironmentalTransformationAgent',\n",
       " 38: 'WaterQualityChemicalMeasure',\n",
       " 24: 'MesoRegiao',\n",
       " 25: 'MicroRegiao',\n",
       " 30: 'RegiaoGeopolitica',\n",
       " 36: 'UnidadeDaFederacao',\n",
       " 13: 'EnvironmentalTransformation',\n",
       " 16: 'Event',\n",
       " 21: 'InformationResource',\n",
       " 31: 'Seca',\n",
       " 4: 'Amostra',\n",
       " 2: 'Air',\n",
       " 0: 'AgriculturalCrops',\n",
       " 17: 'ExpansaoAgropecuaria',\n",
       " 29: 'Project',\n",
       " 22: 'Institution',\n",
       " 10: 'Coleta',\n",
       " 23: 'ManejoAgricola',\n",
       " 26: 'Municipio',\n",
       " 37: 'WaterQualityBiologicalMeasure',\n",
       " 5: 'BiologicalCommunity',\n",
       " 1: 'Agriculture',\n",
       " 20: 'Geopolitics',\n",
       " 9: 'Clima',\n",
       " 19: 'GeographicalExtension',\n",
       " 15: 'EnvironmentalTransformationObject',\n",
       " 35: 'TemporalDimension',\n",
       " 27: 'Person',\n",
       " 34: 'SpacialDimension',\n",
       " 28: 'Precipitation',\n",
       " 11: 'DadosMeterologicos',\n",
       " 18: 'FenomenosMeterologicos',\n",
       " 12: 'DinamicaUsoeCoberturaDasTerras',\n",
       " 32: 'SpaceTemporal_Extension',\n",
       " 33: 'Spacetime',\n",
       " 8: 'ChemicalWaterIndicator',\n",
       " 3: 'Altimetrical-BathymetricalExtension'}"
      ]
     },
     "execution_count": 83,
     "metadata": {},
     "output_type": "execute_result"
    }
   ],
   "source": [
    "output_converter"
   ]
  },
  {
   "cell_type": "code",
   "execution_count": 84,
   "id": "d897ed2a-f440-43c7-ac94-e478fa83e67f",
   "metadata": {},
   "outputs": [
    {
     "data": {
      "text/plain": [
       "array([[1, 0, 0, ..., 0, 2, 0],\n",
       "       [0, 1, 0, ..., 0, 1, 0],\n",
       "       [0, 0, 0, ..., 0, 2, 0],\n",
       "       ...,\n",
       "       [0, 0, 0, ..., 0, 0, 0],\n",
       "       [0, 0, 0, ..., 0, 2, 0],\n",
       "       [0, 0, 0, ..., 0, 1, 1]], dtype=int64)"
      ]
     },
     "execution_count": 84,
     "metadata": {},
     "output_type": "execute_result"
    }
   ],
   "source": [
    "X"
   ]
  },
  {
   "cell_type": "code",
   "execution_count": 85,
   "id": "14b92df1-fe9f-4246-bb50-97e2e0e85946",
   "metadata": {},
   "outputs": [
    {
     "name": "stdout",
     "output_type": "stream",
     "text": [
      "['i', 'me', 'my', 'myself', 'we', 'our', 'ours', 'ourselves', 'you', \"you're\", \"you've\", \"you'll\", \"you'd\", 'your', 'yours', 'yourself', 'yourselves', 'he', 'him', 'his', 'himself', 'she', \"she's\", 'her', 'hers', 'herself', 'it', \"it's\", 'its', 'itself', 'they', 'them', 'their', 'theirs', 'themselves', 'what', 'which', 'who', 'whom', 'this', 'that', \"that'll\", 'these', 'those', 'am', 'is', 'are', 'was', 'were', 'be', 'been', 'being', 'have', 'has', 'had', 'having', 'do', 'does', 'did', 'doing', 'a', 'an', 'the', 'and', 'but', 'if', 'or', 'because', 'as', 'until', 'while', 'of', 'at', 'by', 'for', 'with', 'about', 'against', 'between', 'into', 'through', 'during', 'before', 'after', 'above', 'below', 'to', 'from', 'up', 'down', 'in', 'out', 'on', 'off', 'over', 'under', 'again', 'further', 'then', 'once', 'here', 'there', 'when', 'where', 'why', 'how', 'all', 'any', 'both', 'each', 'few', 'more', 'most', 'other', 'some', 'such', 'no', 'nor', 'not', 'only', 'own', 'same', 'so', 'than', 'too', 'very', 's', 't', 'can', 'will', 'just', 'don', \"don't\", 'should', \"should've\", 'now', 'd', 'll', 'm', 'o', 're', 've', 'y', 'ain', 'aren', \"aren't\", 'couldn', \"couldn't\", 'didn', \"didn't\", 'doesn', \"doesn't\", 'hadn', \"hadn't\", 'hasn', \"hasn't\", 'haven', \"haven't\", 'isn', \"isn't\", 'ma', 'mightn', \"mightn't\", 'mustn', \"mustn't\", 'needn', \"needn't\", 'shan', \"shan't\", 'shouldn', \"shouldn't\", 'wasn', \"wasn't\", 'weren', \"weren't\", 'won', \"won't\", 'wouldn', \"wouldn't\"]\n"
     ]
    }
   ],
   "source": [
    "from nltk.corpus import stopwords\n",
    "\n",
    "stop_word = stopwords.words('english')\n",
    "print(stop_word)"
   ]
  },
  {
   "cell_type": "code",
   "execution_count": 86,
   "id": "553b3c76-3119-4f2a-889e-90444d658ddf",
   "metadata": {},
   "outputs": [
    {
     "data": {
      "text/plain": [
       "[array([1, 0, 0, 0, 0, 0, 0, 0, 0, 0, 0, 0, 0, 0, 0, 0, 0, 0, 1, 0, 0, 0,\n",
       "        0, 0, 0, 0, 0, 0, 0, 0, 0, 0, 0, 0, 0, 0, 0, 0, 0, 0, 0, 0, 0, 0,\n",
       "        0, 0, 0, 0, 0, 0, 0, 0, 0, 0, 0, 0, 0, 0, 0, 0, 0, 0, 0, 0, 0, 0,\n",
       "        0, 0, 0, 0, 0, 0, 0, 0, 0, 0, 0, 0, 0, 0, 0, 0, 0, 0, 0, 0, 0, 0,\n",
       "        0, 0, 0, 0, 0, 0, 0, 0, 0, 0, 0, 0, 0, 0, 0, 0, 0, 0, 0, 0, 0, 0,\n",
       "        0, 0, 0, 0, 0, 0, 0, 0, 0, 0, 0, 0, 0, 0, 0, 1, 0, 0, 0, 0, 0, 0,\n",
       "        0, 0, 0, 0, 0, 0, 0, 0, 0, 0, 0, 0, 0, 0, 0, 0, 0, 0, 0, 0, 0, 0,\n",
       "        0, 0, 0, 0, 0, 0, 0, 0, 0, 0, 0, 0, 0, 0, 0, 0, 0, 0, 0, 0, 0, 0,\n",
       "        0, 0, 0, 0, 2, 0], dtype=int64)]"
      ]
     },
     "execution_count": 86,
     "metadata": {},
     "output_type": "execute_result"
    }
   ],
   "source": [
    "[X[0]]"
   ]
  },
  {
   "cell_type": "code",
   "execution_count": 87,
   "id": "175239cc-9a29-4ddf-ac9e-162ea2398c54",
   "metadata": {},
   "outputs": [
    {
     "data": {
      "text/plain": [
       "1.042661802575664e-09"
      ]
     },
     "execution_count": 87,
     "metadata": {},
     "output_type": "execute_result"
    }
   ],
   "source": [
    "max_arg = np.argmax(gb.predict_proba([X[1]]))\n",
    "confidence = gb.predict_proba([X[0]])[0][6]\n",
    "confidence"
   ]
  },
  {
   "cell_type": "code",
   "execution_count": 88,
   "id": "06b3ed91-350d-46e5-9fd8-0725c95fb5fc",
   "metadata": {},
   "outputs": [
    {
     "name": "stdout",
     "output_type": "stream",
     "text": [
      "------------------------------------------------------\n",
      "ML & Count vectorizer\n",
      "------------------------------------------------------\n"
     ]
    },
    {
     "name": "stdout",
     "output_type": "stream",
     "text": [
      "Search Query:  what is environmental transformation agent\n"
     ]
    },
    {
     "name": "stdout",
     "output_type": "stream",
     "text": [
      "------------------------------------------------------\n",
      "machine TFIDF vectorizer\n",
      "------------------------------------------------------\n",
      "what is environmental transformation agent\n",
      "environment transform agent\n",
      "[[0.         0.         0.64183346 0.         0.         0.\n",
      "  0.         0.         0.         0.         0.         0.\n",
      "  0.         0.         0.         0.         0.         0.\n",
      "  0.         0.         0.         0.         0.         0.\n",
      "  0.         0.         0.         0.         0.         0.\n",
      "  0.         0.         0.         0.         0.         0.\n",
      "  0.         0.         0.         0.         0.         0.\n",
      "  0.         0.         0.         0.         0.         0.\n",
      "  0.         0.         0.         0.         0.         0.\n",
      "  0.         0.         0.         0.         0.         0.\n",
      "  0.53150985 0.         0.         0.         0.         0.\n",
      "  0.         0.         0.         0.         0.         0.\n",
      "  0.         0.         0.         0.         0.         0.\n",
      "  0.         0.         0.         0.         0.         0.\n",
      "  0.         0.         0.         0.         0.         0.\n",
      "  0.         0.         0.         0.         0.         0.\n",
      "  0.         0.         0.         0.         0.         0.\n",
      "  0.         0.         0.         0.         0.         0.\n",
      "  0.         0.         0.         0.         0.         0.\n",
      "  0.         0.         0.         0.         0.         0.\n",
      "  0.         0.         0.         0.         0.         0.\n",
      "  0.         0.         0.         0.         0.         0.\n",
      "  0.         0.         0.         0.         0.         0.\n",
      "  0.         0.         0.         0.         0.         0.\n",
      "  0.         0.         0.         0.         0.         0.\n",
      "  0.         0.         0.         0.         0.         0.\n",
      "  0.         0.         0.         0.         0.         0.\n",
      "  0.         0.         0.         0.         0.         0.\n",
      "  0.         0.         0.         0.         0.         0.55276315\n",
      "  0.         0.         0.         0.         0.         0.\n",
      "  0.         0.        ]]\n",
      "14\n",
      "Intention:  EnvironmentalTransformationAgent\n",
      "CONFIDENCE :  1.042661802575664e-09 %\n"
     ]
    },
    {
     "data": {
      "text/plain": [
       "(14,\n",
       " 'EnvironmentalTransformationAgent',\n",
       " ['environmental transformation agent causa transformacao ambiental environmental transformation'])"
      ]
     },
     "execution_count": 88,
     "metadata": {},
     "output_type": "execute_result"
    }
   ],
   "source": [
    "import joblib\n",
    "# ml usage\n",
    "def load_ml_models(ml_path, vec_path):\n",
    "    # load machine model and vectorization model\n",
    "    ml = joblib.load(ml_path)\n",
    "    vc = joblib.load(vec_path)\n",
    "\n",
    "    return ml, vc\n",
    "\n",
    "\n",
    "\n",
    "def ml_prediction(query, ml, vc): \n",
    "\n",
    "    \n",
    "    # feature extraction \n",
    "    print(query)\n",
    "    split_text = word_tokenize(query)\n",
    "    stem_text = ' '.join([ps.stem(txt) for txt in split_text if txt not in stop_word])\n",
    "    print(stem_text)\n",
    "    input_features = vc.transform([stem_text]).toarray()\n",
    "    print(input_features)\n",
    "    # maching learning model prediction\n",
    "    pre = ml.predict(input_features)\n",
    "    # computing machine learning confidence level \n",
    "    max_arg = np.argmax(gb.predict_proba([X[1]]))\n",
    "    confidence = gb.predict_proba([X[0]])[0][6]\n",
    "    \n",
    "    if input_features[0].sum() != 0: \n",
    "        print(pre[0])\n",
    "        intention_code = pre[0]\n",
    "        intention = output_converter[intention_code] \n",
    "        print('Intention: ', intention)\n",
    "        pulled_information = dataset[dataset.intent == intention_code]['clean_doc'].tolist()\n",
    "        pulled_information\n",
    "        print('CONFIDENCE : ', confidence, '%' )\n",
    "        \n",
    "        #return the intention code number, text version and list of information that match query... \n",
    "        return intention_code, intention, pulled_information\n",
    "    else:\n",
    "        print('Initiate Ontology Evolution')\n",
    "\n",
    "        return 0, 0, 0\n",
    "\n",
    "print('------------------------------------------------------')\n",
    "print('ML & Count vectorizer') \n",
    "print('------------------------------------------------------')\n",
    "\n",
    "text = input('Search Query: ')\n",
    "\n",
    "# ml, vc = load_ml_models('gb_onto_model.jb', 'vectorizer.jb')\n",
    "# print(ml_prediction(text, ml, vc))\n",
    "\n",
    "print('------------------------------------------------------')\n",
    "print('machine TFIDF vectorizer')  \n",
    "print('------------------------------------------------------')\n",
    "\n",
    "ml_idf, vc_idf = load_ml_models('gb_idfvec_model.jb', 'tf_vectorizer.jb')\n",
    "ml_prediction(text, ml_idf, vc_idf)"
   ]
  },
  {
   "cell_type": "code",
   "execution_count": 96,
   "id": "3c1e24dc-89ad-44f3-ad41-ad7458d1e0e7",
   "metadata": {},
   "outputs": [
    {
     "data": {
      "text/html": [
       "<div>\n",
       "<style scoped>\n",
       "    .dataframe tbody tr th:only-of-type {\n",
       "        vertical-align: middle;\n",
       "    }\n",
       "\n",
       "    .dataframe tbody tr th {\n",
       "        vertical-align: top;\n",
       "    }\n",
       "\n",
       "    .dataframe thead th {\n",
       "        text-align: right;\n",
       "    }\n",
       "</style>\n",
       "<table border=\"1\" class=\"dataframe\">\n",
       "  <thead>\n",
       "    <tr style=\"text-align: right;\">\n",
       "      <th></th>\n",
       "      <th>ont_doc</th>\n",
       "      <th>clean_doc</th>\n",
       "      <th>intent</th>\n",
       "      <th>final_doc</th>\n",
       "      <th>len</th>\n",
       "    </tr>\n",
       "  </thead>\n",
       "  <tbody>\n",
       "    <tr>\n",
       "      <th>55</th>\n",
       "      <td>GeographicalExtension poligonoDelimitador  Geo...</td>\n",
       "      <td>geographical extension poligono delimitador ge...</td>\n",
       "      <td>19</td>\n",
       "      <td>geograph extens poligono delimitador geograph ...</td>\n",
       "      <td>65</td>\n",
       "    </tr>\n",
       "    <tr>\n",
       "      <th>21</th>\n",
       "      <td>ExpansaoAgropecuaria ehDecorrentedaAgricultura...</td>\n",
       "      <td>expansao agropecuaria eh decorrenteda agricult...</td>\n",
       "      <td>17</td>\n",
       "      <td>expansao agropecuaria eh decorrenteda agricult...</td>\n",
       "      <td>61</td>\n",
       "    </tr>\n",
       "    <tr>\n",
       "      <th>5</th>\n",
       "      <td>EnvironmentalTransformationAgent causa_Transfo...</td>\n",
       "      <td>environmental transformation agent causa trans...</td>\n",
       "      <td>14</td>\n",
       "      <td>environment transform agent causa transformaca...</td>\n",
       "      <td>93</td>\n",
       "    </tr>\n",
       "    <tr>\n",
       "      <th>8</th>\n",
       "      <td>MicroRegiao contemMicroRegiaoMunicipio  Municipio</td>\n",
       "      <td>micro regiao contem micro regiao municipio</td>\n",
       "      <td>25</td>\n",
       "      <td>micro regiao contem micro regiao municipio</td>\n",
       "      <td>42</td>\n",
       "    </tr>\n",
       "  </tbody>\n",
       "</table>\n",
       "</div>"
      ],
      "text/plain": [
       "                                              ont_doc  \\\n",
       "55  GeographicalExtension poligonoDelimitador  Geo...   \n",
       "21  ExpansaoAgropecuaria ehDecorrentedaAgricultura...   \n",
       "5   EnvironmentalTransformationAgent causa_Transfo...   \n",
       "8   MicroRegiao contemMicroRegiaoMunicipio  Municipio   \n",
       "\n",
       "                                            clean_doc  intent  \\\n",
       "55  geographical extension poligono delimitador ge...      19   \n",
       "21  expansao agropecuaria eh decorrenteda agricult...      17   \n",
       "5   environmental transformation agent causa trans...      14   \n",
       "8          micro regiao contem micro regiao municipio      25   \n",
       "\n",
       "                                            final_doc  len  \n",
       "55  geograph extens poligono delimitador geograph ...   65  \n",
       "21  expansao agropecuaria eh decorrenteda agricult...   61  \n",
       "5   environment transform agent causa transformaca...   93  \n",
       "8          micro regiao contem micro regiao municipio   42  "
      ]
     },
     "execution_count": 96,
     "metadata": {},
     "output_type": "execute_result"
    }
   ],
   "source": [
    "dataset.sample(4)"
   ]
  },
  {
   "cell_type": "markdown",
   "id": "30910e66-361b-449b-a55d-22fb88eb6a56",
   "metadata": {},
   "source": [
    "### APPLICATION USAGE"
   ]
  },
  {
   "cell_type": "code",
   "execution_count": 89,
   "id": "416d8ea9-2a08-4a6b-b26a-12daffeddc7b",
   "metadata": {},
   "outputs": [
    {
     "name": "stderr",
     "output_type": "stream",
     "text": [
      "WARNING:absl:Compiled the loaded model, but the compiled metrics have yet to be built. `model.compile_metrics` will be empty until you train or evaluate the model.\n"
     ]
    },
    {
     "name": "stdout",
     "output_type": "stream",
     "text": [
      "DL Query:  what is environmental transformation agent\n"
     ]
    },
    {
     "name": "stdout",
     "output_type": "stream",
     "text": [
      "[[0.         0.         0.52886758 0.         0.         0.\n",
      "  0.         0.         0.         0.         0.         0.\n",
      "  0.         0.         0.         0.         0.         0.\n",
      "  0.         0.         0.         0.         0.         0.\n",
      "  0.         0.         0.         0.         0.         0.\n",
      "  0.         0.         0.         0.         0.         0.\n",
      "  0.         0.         0.         0.         0.         0.\n",
      "  0.         0.         0.         0.         0.         0.\n",
      "  0.         0.         0.         0.         0.         0.\n",
      "  0.         0.         0.         0.         0.         0.\n",
      "  0.43796147 0.         0.         0.         0.         0.\n",
      "  0.         0.         0.         0.         0.         0.\n",
      "  0.         0.         0.         0.         0.         0.\n",
      "  0.         0.         0.         0.         0.         0.\n",
      "  0.         0.         0.         0.         0.         0.\n",
      "  0.         0.         0.         0.         0.         0.\n",
      "  0.         0.         0.         0.         0.         0.56659702\n",
      "  0.         0.         0.         0.         0.         0.\n",
      "  0.         0.         0.         0.         0.         0.\n",
      "  0.         0.         0.         0.         0.         0.\n",
      "  0.         0.         0.         0.         0.         0.\n",
      "  0.         0.         0.         0.         0.         0.\n",
      "  0.         0.         0.         0.         0.         0.\n",
      "  0.         0.         0.         0.         0.         0.\n",
      "  0.         0.         0.         0.         0.         0.\n",
      "  0.         0.         0.         0.         0.         0.\n",
      "  0.         0.         0.         0.         0.         0.\n",
      "  0.         0.         0.         0.         0.         0.\n",
      "  0.         0.         0.         0.         0.         0.45547409\n",
      "  0.         0.         0.         0.         0.         0.\n",
      "  0.         0.        ]]\n",
      "\u001b[1m1/1\u001b[0m \u001b[32m━━━━━━━━━━━━━━━━━━━━\u001b[0m\u001b[37m\u001b[0m \u001b[1m0s\u001b[0m 136ms/step\n",
      "Prediction: 13  Max Probability Score: 0.88653713\n",
      "-----------------------------------------------------------------------\n",
      "[[0.17998473 0.17863302 0.00453717 0.1516706  0.09431839 0.00132878\n",
      "  0.00474149 0.21529776 0.00298367 0.22974841 0.00168893 0.08508056\n",
      "  0.1820144  0.88653713 0.7990943  0.00151808 0.7542205  0.1727674\n",
      "  0.14904153 0.13561532 0.00257944 0.06934454 0.22766323 0.28659144\n",
      "  0.05747303 0.17662454 0.0091055  0.18533753 0.2809281  0.07318039\n",
      "  0.1160101  0.13075756 0.05534007 0.09453531 0.14677656 0.20743598\n",
      "  0.14855312 0.09472033 0.14985536 0.17164977]]\n"
     ]
    },
    {
     "data": {
      "text/plain": [
       "('EnvironmentalTransformation',\n",
       " ['environmental transformation decorrede eventos event',\n",
       "  'environmental transformation eh causado por agente da transformacao ambiental environmental transformation agent',\n",
       "  'environmental transformation ocorre em objeto da trasnformacao ambiental environmental transformation object'])"
      ]
     },
     "execution_count": 89,
     "metadata": {},
     "output_type": "execute_result"
    }
   ],
   "source": [
    "import tensorflow as tf\n",
    "import joblib\n",
    "from nltk.stem import PorterStemmer\n",
    "from nltk.tokenize import word_tokenize\n",
    "import numpy as np \n",
    "\n",
    "ps = PorterStemmer()\n",
    "\n",
    "# create a funtion to load model, load feature converter and also label converter\n",
    "def load_ontology_models(model_object, path):\n",
    "    model = tf.keras.models.load_model(model_object)\n",
    "    model.compile(optimizer='adam', loss='sparse_categorical_crossentropy', metrics=['accuracy'])\n",
    "    # load vectorizer \n",
    "    vectorizer = joblib.load(path)\n",
    "    \n",
    "    return model, vectorizer\n",
    "\n",
    "def process_input(query, ont_model, vector):\n",
    "    # convert query to numberic\n",
    "    # text = 'body water provide quantity'\n",
    "    split_text = word_tokenize(query)\n",
    "    stem_text = ' '.join([ps.stem(txt) for txt in split_text])\n",
    "    # print(stem_text)\n",
    "    features = vector.transform([stem_text]).toarray()\n",
    "    print(features)\n",
    "    # predict model\n",
    "    # print(X_input)\n",
    "    # ANN MODEL\n",
    "    if features.sum() != 0: \n",
    "        prob = model.predict(features)\n",
    "        # print(prob[0])\n",
    "        prediction = np.argmax(prob[0])\n",
    "        print('Prediction:', prediction, ' Max Probability Score:' , prob[0][prediction])\n",
    "        print('-----------------------------------------------------------------------')\n",
    "        print(prob)\n",
    "        # prediction converter \n",
    "        user_intention = output_converter[prediction]\n",
    "        user_intention\n",
    "    \n",
    "        pulled_information = dataset[dataset.intent == prediction]['clean_doc'].tolist()\n",
    "        \n",
    "        return user_intention, pulled_information\n",
    "    else:\n",
    "        print('Ontology Evolution')\n",
    "        return (0, 0)\n",
    "    \n",
    "\n",
    "\n",
    "# get model\n",
    "model, vect = load_ontology_models('ont_query.h5', 'tf_vectorizer.jb')\n",
    "\n",
    "# get features\n",
    "text = input('DL Query: ')\n",
    "result = process_input(text, model, vect)\n",
    "result"
   ]
  },
  {
   "cell_type": "code",
   "execution_count": 85,
   "id": "2799fc77-e1fb-4e65-bc63-0ed4aa936bc7",
   "metadata": {},
   "outputs": [
    {
     "data": {
      "text/html": [
       "<div>\n",
       "<style scoped>\n",
       "    .dataframe tbody tr th:only-of-type {\n",
       "        vertical-align: middle;\n",
       "    }\n",
       "\n",
       "    .dataframe tbody tr th {\n",
       "        vertical-align: top;\n",
       "    }\n",
       "\n",
       "    .dataframe thead th {\n",
       "        text-align: right;\n",
       "    }\n",
       "</style>\n",
       "<table border=\"1\" class=\"dataframe\">\n",
       "  <thead>\n",
       "    <tr style=\"text-align: right;\">\n",
       "      <th></th>\n",
       "      <th>ont_doc</th>\n",
       "      <th>clean_doc</th>\n",
       "      <th>intent</th>\n",
       "      <th>final_doc</th>\n",
       "      <th>len</th>\n",
       "    </tr>\n",
       "  </thead>\n",
       "  <tbody>\n",
       "    <tr>\n",
       "      <th>34</th>\n",
       "      <td>BiologicalCommunity hasBiologicalTaxa  Biologi...</td>\n",
       "      <td>biological community has biological taxa biolo...</td>\n",
       "      <td>5</td>\n",
       "      <td>biolog commun ha biolog taxa biolog taxa</td>\n",
       "      <td>56</td>\n",
       "    </tr>\n",
       "    <tr>\n",
       "      <th>18</th>\n",
       "      <td>Amostra ehCompostaPorColeta  Coleta</td>\n",
       "      <td>amostra eh composta por coleta</td>\n",
       "      <td>4</td>\n",
       "      <td>amostra eh composta por coleta</td>\n",
       "      <td>30</td>\n",
       "    </tr>\n",
       "    <tr>\n",
       "      <th>58</th>\n",
       "      <td>SpacialDimension possui_Localizacao  Localization</td>\n",
       "      <td>spacial dimension possui localizacao localization</td>\n",
       "      <td>34</td>\n",
       "      <td>spacial dimens possui localizacao local</td>\n",
       "      <td>49</td>\n",
       "    </tr>\n",
       "    <tr>\n",
       "      <th>15</th>\n",
       "      <td>InformationResource describe  Event</td>\n",
       "      <td>information resource describe event</td>\n",
       "      <td>21</td>\n",
       "      <td>inform resourc describ event</td>\n",
       "      <td>35</td>\n",
       "    </tr>\n",
       "  </tbody>\n",
       "</table>\n",
       "</div>"
      ],
      "text/plain": [
       "                                              ont_doc  \\\n",
       "34  BiologicalCommunity hasBiologicalTaxa  Biologi...   \n",
       "18                Amostra ehCompostaPorColeta  Coleta   \n",
       "58  SpacialDimension possui_Localizacao  Localization   \n",
       "15                InformationResource describe  Event   \n",
       "\n",
       "                                            clean_doc  intent  \\\n",
       "34  biological community has biological taxa biolo...       5   \n",
       "18                     amostra eh composta por coleta       4   \n",
       "58  spacial dimension possui localizacao localization      34   \n",
       "15                information resource describe event      21   \n",
       "\n",
       "                                   final_doc  len  \n",
       "34  biolog commun ha biolog taxa biolog taxa   56  \n",
       "18            amostra eh composta por coleta   30  \n",
       "58   spacial dimens possui localizacao local   49  \n",
       "15              inform resourc describ event   35  "
      ]
     },
     "execution_count": 85,
     "metadata": {},
     "output_type": "execute_result"
    }
   ],
   "source": [
    "# import nltk\n",
    "# nltk.download('punkt_tab')\n",
    "dataset.sample(4)"
   ]
  },
  {
   "cell_type": "code",
   "execution_count": 195,
   "id": "f895daae-1ef4-48a9-97de-15317a06f0c9",
   "metadata": {},
   "outputs": [
    {
     "name": "stderr",
     "output_type": "stream",
     "text": [
      "WARNING:absl:Compiled the loaded model, but the compiled metrics have yet to be built. `model.compile_metrics` will be empty until you train or evaluate the model.\n"
     ]
    }
   ],
   "source": [
    "model = tf.keras.models.load_model('ont_query.h5')\n",
    "model.compile(optimizer='adam', loss='sparse_categorical_crossentropy', metrics=['accuracy'])"
   ]
  },
  {
   "cell_type": "code",
   "execution_count": 196,
   "id": "086f7946-7a60-4cf3-afff-ef855efd202c",
   "metadata": {},
   "outputs": [
    {
     "data": {
      "text/html": [
       "<pre style=\"white-space:pre;overflow-x:auto;line-height:normal;font-family:Menlo,'DejaVu Sans Mono',consolas,'Courier New',monospace\"><span style=\"font-weight: bold\">Model: \"sequential_3\"</span>\n",
       "</pre>\n"
      ],
      "text/plain": [
       "\u001b[1mModel: \"sequential_3\"\u001b[0m\n"
      ]
     },
     "metadata": {},
     "output_type": "display_data"
    },
    {
     "data": {
      "text/html": [
       "<pre style=\"white-space:pre;overflow-x:auto;line-height:normal;font-family:Menlo,'DejaVu Sans Mono',consolas,'Courier New',monospace\">┏━━━━━━━━━━━━━━━━━━━━━━━━━━━━━┳━━━━━━━━━━━━━━━━━━━━━━┳━━━━━━━━━━━━━┓\n",
       "┃<span style=\"font-weight: bold\"> Layer (type)                </span>┃<span style=\"font-weight: bold\"> Output Shape         </span>┃<span style=\"font-weight: bold\">     Param # </span>┃\n",
       "┡━━━━━━━━━━━━━━━━━━━━━━━━━━━━━╇━━━━━━━━━━━━━━━━━━━━━━╇━━━━━━━━━━━━━┩\n",
       "│ dense_9 (<span style=\"color: #0087ff; text-decoration-color: #0087ff\">Dense</span>)             │ (<span style=\"color: #00d7ff; text-decoration-color: #00d7ff\">None</span>, <span style=\"color: #00af00; text-decoration-color: #00af00\">128</span>)          │      <span style=\"color: #00af00; text-decoration-color: #00af00\">23,424</span> │\n",
       "├─────────────────────────────┼──────────────────────┼─────────────┤\n",
       "│ dense_10 (<span style=\"color: #0087ff; text-decoration-color: #0087ff\">Dense</span>)            │ (<span style=\"color: #00d7ff; text-decoration-color: #00d7ff\">None</span>, <span style=\"color: #00af00; text-decoration-color: #00af00\">64</span>)           │       <span style=\"color: #00af00; text-decoration-color: #00af00\">8,256</span> │\n",
       "├─────────────────────────────┼──────────────────────┼─────────────┤\n",
       "│ dense_11 (<span style=\"color: #0087ff; text-decoration-color: #0087ff\">Dense</span>)            │ (<span style=\"color: #00d7ff; text-decoration-color: #00d7ff\">None</span>, <span style=\"color: #00af00; text-decoration-color: #00af00\">40</span>)           │       <span style=\"color: #00af00; text-decoration-color: #00af00\">2,600</span> │\n",
       "└─────────────────────────────┴──────────────────────┴─────────────┘\n",
       "</pre>\n"
      ],
      "text/plain": [
       "┏━━━━━━━━━━━━━━━━━━━━━━━━━━━━━┳━━━━━━━━━━━━━━━━━━━━━━┳━━━━━━━━━━━━━┓\n",
       "┃\u001b[1m \u001b[0m\u001b[1mLayer (type)               \u001b[0m\u001b[1m \u001b[0m┃\u001b[1m \u001b[0m\u001b[1mOutput Shape        \u001b[0m\u001b[1m \u001b[0m┃\u001b[1m \u001b[0m\u001b[1m    Param #\u001b[0m\u001b[1m \u001b[0m┃\n",
       "┡━━━━━━━━━━━━━━━━━━━━━━━━━━━━━╇━━━━━━━━━━━━━━━━━━━━━━╇━━━━━━━━━━━━━┩\n",
       "│ dense_9 (\u001b[38;5;33mDense\u001b[0m)             │ (\u001b[38;5;45mNone\u001b[0m, \u001b[38;5;34m128\u001b[0m)          │      \u001b[38;5;34m23,424\u001b[0m │\n",
       "├─────────────────────────────┼──────────────────────┼─────────────┤\n",
       "│ dense_10 (\u001b[38;5;33mDense\u001b[0m)            │ (\u001b[38;5;45mNone\u001b[0m, \u001b[38;5;34m64\u001b[0m)           │       \u001b[38;5;34m8,256\u001b[0m │\n",
       "├─────────────────────────────┼──────────────────────┼─────────────┤\n",
       "│ dense_11 (\u001b[38;5;33mDense\u001b[0m)            │ (\u001b[38;5;45mNone\u001b[0m, \u001b[38;5;34m40\u001b[0m)           │       \u001b[38;5;34m2,600\u001b[0m │\n",
       "└─────────────────────────────┴──────────────────────┴─────────────┘\n"
      ]
     },
     "metadata": {},
     "output_type": "display_data"
    },
    {
     "data": {
      "text/html": [
       "<pre style=\"white-space:pre;overflow-x:auto;line-height:normal;font-family:Menlo,'DejaVu Sans Mono',consolas,'Courier New',monospace\"><span style=\"font-weight: bold\"> Total params: </span><span style=\"color: #00af00; text-decoration-color: #00af00\">34,280</span> (133.91 KB)\n",
       "</pre>\n"
      ],
      "text/plain": [
       "\u001b[1m Total params: \u001b[0m\u001b[38;5;34m34,280\u001b[0m (133.91 KB)\n"
      ]
     },
     "metadata": {},
     "output_type": "display_data"
    },
    {
     "data": {
      "text/html": [
       "<pre style=\"white-space:pre;overflow-x:auto;line-height:normal;font-family:Menlo,'DejaVu Sans Mono',consolas,'Courier New',monospace\"><span style=\"font-weight: bold\"> Trainable params: </span><span style=\"color: #00af00; text-decoration-color: #00af00\">34,280</span> (133.91 KB)\n",
       "</pre>\n"
      ],
      "text/plain": [
       "\u001b[1m Trainable params: \u001b[0m\u001b[38;5;34m34,280\u001b[0m (133.91 KB)\n"
      ]
     },
     "metadata": {},
     "output_type": "display_data"
    },
    {
     "data": {
      "text/html": [
       "<pre style=\"white-space:pre;overflow-x:auto;line-height:normal;font-family:Menlo,'DejaVu Sans Mono',consolas,'Courier New',monospace\"><span style=\"font-weight: bold\"> Non-trainable params: </span><span style=\"color: #00af00; text-decoration-color: #00af00\">0</span> (0.00 B)\n",
       "</pre>\n"
      ],
      "text/plain": [
       "\u001b[1m Non-trainable params: \u001b[0m\u001b[38;5;34m0\u001b[0m (0.00 B)\n"
      ]
     },
     "metadata": {},
     "output_type": "display_data"
    }
   ],
   "source": [
    "model.summary()"
   ]
  },
  {
   "cell_type": "code",
   "execution_count": 230,
   "id": "cb97d8b6-5260-4722-9993-f9fa6fb538ed",
   "metadata": {},
   "outputs": [
    {
     "name": "stdout",
     "output_type": "stream",
     "text": [
      "\u001b[1m1/1\u001b[0m \u001b[32m━━━━━━━━━━━━━━━━━━━━\u001b[0m\u001b[37m\u001b[0m \u001b[1m0s\u001b[0m 21ms/step\n",
      "Prediction:  39\n"
     ]
    },
    {
     "data": {
      "text/plain": [
       "(3, 'Altimetrical-BathymetricalExtension')"
      ]
     },
     "execution_count": 230,
     "metadata": {},
     "output_type": "execute_result"
    }
   ],
   "source": [
    "import numpy as np\n",
    "\n",
    "# print(X_input)\n",
    "prob = model.predict(X_input)\n",
    "prediction = np.argmax(prob)\n",
    "print('Prediction: ', prediction)\n",
    "\n",
    "# prediction converter \n",
    "user_intention = output_converter[prediction]\n",
    "user_intention"
   ]
  },
  {
   "cell_type": "code",
   "execution_count": 229,
   "id": "51ebbb04-3dda-4ccf-8d77-b03f274d3202",
   "metadata": {},
   "outputs": [
    {
     "data": {
      "text/plain": [
       "['water quantity physical measure actual evapotranspiration evaporation',\n",
       " 'water quantity physical measure water evaporation',\n",
       " 'water quantity physical measure actual water evaporation',\n",
       " 'water quantity physical measure groundwaterflow discharge',\n",
       " 'water quantity physical measure water discharge',\n",
       " 'water quantity physical measure in conduit discharge',\n",
       " 'water quantity physical measure potential evaporation',\n",
       " 'water quantity physical measure stream discharge',\n",
       " 'water quantity physical measure transpiration evaporation',\n",
       " 'water quantity physical measure waterflow storm discharge']"
      ]
     },
     "execution_count": 229,
     "metadata": {},
     "output_type": "execute_result"
    }
   ],
   "source": [
    "dataset[dataset.intent == prediction]['clean_doc'].tolist()"
   ]
  },
  {
   "cell_type": "code",
   "execution_count": 66,
   "id": "b71154b2-0bf8-4603-8ff6-1a03c1a65afd",
   "metadata": {},
   "outputs": [],
   "source": [
    "# # clean space... \n",
    "# clean = [samp for samp in sample.split(' ') if samp != '']\n",
    "# print(' '.join(clean))\n",
    "# clean2 = [samp for samp in ' '.join(clean).split('_')]\n",
    "# clean2"
   ]
  },
  {
   "cell_type": "markdown",
   "id": "b7658fa9-b9a3-4391-b2f1-48513bbecafc",
   "metadata": {},
   "source": [
    "### ONTOLOGY EVOLUTION FOR EXISTING ONTOLOGY "
   ]
  },
  {
   "cell_type": "code",
   "execution_count": 310,
   "id": "0913cd12-928c-460a-b1ac-46c072649af5",
   "metadata": {},
   "outputs": [
    {
     "name": "stdout",
     "output_type": "stream",
     "text": [
      "\n",
      "Title: Hoe\n"
     ]
    },
    {
     "data": {
      "text/plain": [
       "'Hoe or HOE may refer to: Hoe (food), a Korean dish of raw fish Hoe (letter), a Georgian letter Hoe (tool), a hand tool used in gardening and farming Hoe-farming, a term for primitive forms of agriculture Backhoe, a piece of excavating equipment HOE, pharmaceutical compound number prefix for Hoechst AG'"
      ]
     },
     "execution_count": 310,
     "metadata": {},
     "output_type": "execute_result"
    }
   ],
   "source": [
    "import wikipediaapi\n",
    "\n",
    "# Initialize the API\n",
    "wiki = wikipediaapi.Wikipedia(\"ontology_project\", \"en\")  # 'en' for English\n",
    "\n",
    "# # Get a page, it as to pe a specific word\n",
    "# page = wiki.page(\"fertilizer\")\n",
    "\n",
    "# # Check if the page exists\n",
    "# if page.exists():\n",
    "#     print(\"\\nTitle:\", page.title)\n",
    "#     print(\"\\nSummary:\\n\", page.summary[:])  # First 500 characters\n",
    "#     # print(\"\\nFull Content:\\n\", page.text[:1000])  # First 1000 characters\n",
    "# else:\n",
    "#     print(\"Page does not exist.\")\n",
    "\n",
    "\n",
    "# build a function version \n",
    "def getWiki_content(concept): \n",
    "    # Initialize the API\n",
    "    wiki = wikipediaapi.Wikipedia(\"ontology_project\", \"en\")  # 'en' for English\n",
    "    \n",
    "    # Get a page, it as to pe a specific word\n",
    "    page = wiki.page(concept)\n",
    "    \n",
    "    # Check if the page exists\n",
    "    if page.exists():\n",
    "        print(\"\\nTitle:\", page.title)\n",
    "        # print(\"\\nSummary:\\n\", page.summary[:])  # First 500 characters\n",
    "        # print(\"\\nFull Content:\\n\", page.text[:1000])  # First 1000 characters\n",
    "        return page.summary[:]\n",
    "    else:\n",
    "        print(\"Page does not exist.\")\n",
    "        return ''\n",
    "\n",
    "# using maize concept first... as a test concept....\n",
    "wiki_doc = getWiki_content('hoe')\n",
    "fine_doc = wiki_doc.strip().replace('\\n\\n',' ').replace('\\n', ' ')\n",
    "fine_doc"
   ]
  },
  {
   "cell_type": "code",
   "execution_count": 312,
   "id": "a263c5d3-50bb-406a-a35e-be15b8936a18",
   "metadata": {},
   "outputs": [
    {
     "name": "stdout",
     "output_type": "stream",
     "text": [
      "Pattern 1: Subject: Hoe, Predicate: refer may to, Object: AG\n"
     ]
    },
    {
     "data": {
      "text/plain": [
       "[('Hoe', 'refer may to', 'AG')]"
      ]
     },
     "execution_count": 312,
     "metadata": {},
     "output_type": "execute_result"
    }
   ],
   "source": [
    "import spacy\n",
    "\n",
    "# Load the English model\n",
    "nlp = spacy.load(\"en_core_web_sm\")\n",
    "\n",
    "def get_full_predicate(token):\n",
    "    \"\"\"\n",
    "    Build a full predicate phrase including auxiliaries, negations, and complements.\n",
    "    \"\"\"\n",
    "    parts = [token.text]\n",
    "    # Add auxiliary verbs and modifiers preceding the main verb\n",
    "    parts.extend(child.text for child in token.children if child.dep_ in {\"aux\", \"auxpass\", \"neg\"})\n",
    "    # Add complements or prepositional phrases following the main verb\n",
    "    parts.extend(child.text for child in token.children if child.dep_ in {\"prep\", \"xcomp\", \"acomp\"})\n",
    "    return \" \".join(sorted(parts, key=lambda t: token.i))\n",
    "\n",
    "def extract_svo_from_sentence(sentence):\n",
    "    \"\"\"\n",
    "    Extract the subject, predicate (verb phrase), and object from a single sentence.\n",
    "    \"\"\"\n",
    "    doc = nlp(sentence)\n",
    "    subject, predicate, obj = None, None, None\n",
    "\n",
    "    for token in doc:\n",
    "        if \"subj\" in token.dep_:  # Identify the subject\n",
    "            subject = token.text\n",
    "        elif \"ROOT\" in token.dep_:  # Identify the verb (predicate)\n",
    "            predicate = get_full_predicate(token)\n",
    "        elif \"obj\" in token.dep_:  # Identify the object\n",
    "            obj = token.text\n",
    "    \n",
    "    return subject, predicate, obj\n",
    "\n",
    "def extract_svo_from_document(document):\n",
    "    \"\"\"\n",
    "    Extract all SVO patterns from a multi-sentence document.\n",
    "    \"\"\"\n",
    "    doc = nlp(document)\n",
    "    results = []\n",
    "\n",
    "    for sent in doc.sents:  # Iterate over sentences\n",
    "        svo = extract_svo_from_sentence(sent.text)\n",
    "        if any(svo):  # Only add non-empty results\n",
    "            results.append(svo)\n",
    "    \n",
    "    return results\n",
    "\n",
    "\n",
    "\n",
    "# extract SPO from the document....\n",
    "svo_patterns = extract_svo_from_document(fine_doc)\n",
    "for idx, (subject, predicate, obj) in enumerate(svo_patterns, 1):\n",
    "    print(f\"Pattern {idx}: Subject: {subject}, Predicate: {predicate}, Object: {obj}\")\n",
    "\n",
    "\n",
    "svo_patterns"
   ]
  },
  {
   "cell_type": "code",
   "execution_count": null,
   "id": "b4959727-5a0c-4783-b2e0-564149937940",
   "metadata": {},
   "outputs": [],
   "source": []
  },
  {
   "cell_type": "code",
   "execution_count": 14,
   "id": "11b836c6-9990-4c41-bb7d-4fdd44afb5d5",
   "metadata": {
    "scrolled": true
   },
   "outputs": [
    {
     "name": "stdout",
     "output_type": "stream",
     "text": [
      "['i', 'me', 'my', 'myself', 'we', 'our', 'ours', 'ourselves', 'you', \"you're\", \"you've\", \"you'll\", \"you'd\", 'your', 'yours', 'yourself', 'yourselves', 'he', 'him', 'his', 'himself', 'she', \"she's\", 'her', 'hers', 'herself', 'it', \"it's\", 'its', 'itself', 'they', 'them', 'their', 'theirs', 'themselves', 'what', 'which', 'who', 'whom', 'this', 'that', \"that'll\", 'these', 'those', 'am', 'is', 'are', 'was', 'were', 'be', 'been', 'being', 'have', 'has', 'had', 'having', 'do', 'does', 'did', 'doing', 'a', 'an', 'the', 'and', 'but', 'if', 'or', 'because', 'as', 'until', 'while', 'of', 'at', 'by', 'for', 'with', 'about', 'against', 'between', 'into', 'through', 'during', 'before', 'after', 'above', 'below', 'to', 'from', 'up', 'down', 'in', 'out', 'on', 'off', 'over', 'under', 'again', 'further', 'then', 'once', 'here', 'there', 'when', 'where', 'why', 'how', 'all', 'any', 'both', 'each', 'few', 'more', 'most', 'other', 'some', 'such', 'no', 'nor', 'not', 'only', 'own', 'same', 'so', 'than', 'too', 'very', 's', 't', 'can', 'will', 'just', 'don', \"don't\", 'should', \"should've\", 'now', 'd', 'll', 'm', 'o', 're', 've', 'y', 'ain', 'aren', \"aren't\", 'couldn', \"couldn't\", 'didn', \"didn't\", 'doesn', \"doesn't\", 'hadn', \"hadn't\", 'hasn', \"hasn't\", 'haven', \"haven't\", 'isn', \"isn't\", 'ma', 'mightn', \"mightn't\", 'mustn', \"mustn't\", 'needn', \"needn't\", 'shan', \"shan't\", 'shouldn', \"shouldn't\", 'wasn', \"wasn't\", 'weren', \"weren't\", 'won', \"won't\", 'wouldn', \"wouldn't\"]\n"
     ]
    }
   ],
   "source": [
    "from nltk.corpus import stopwords\n",
    "\n",
    "stop_wrd = stopwords.words('english')\n",
    "print(stop_wrd)"
   ]
  },
  {
   "cell_type": "code",
   "execution_count": 90,
   "id": "9a2853b0-17b8-4284-a952-55c651955a73",
   "metadata": {},
   "outputs": [],
   "source": [
    "import nltk"
   ]
  },
  {
   "cell_type": "code",
   "execution_count": 15,
   "id": "5b9d75c6-8775-447b-af50-6335c0caede6",
   "metadata": {},
   "outputs": [
    {
     "name": "stdout",
     "output_type": "stream",
     "text": [
      "Pattern 1: ('maize', 'modified is', None)\n",
      "Pattern 2: ('maize', 'used is As make', 'tortillas')\n",
      "Pattern 3: ('maize', 'deified is In as', 'sculptures')\n"
     ]
    }
   ],
   "source": [
    "def filter_patterns_with_stopwords(patterns, intents, stop_words):\n",
    "    \"\"\"\n",
    "    Filters patterns based on intents and ensures the domain and range are not stop words.\n",
    "    \n",
    "    Args:\n",
    "        patterns (list of tuples): List of (subject, predicate, object) patterns.\n",
    "        intents (list of str): List of intents to filter patterns.\n",
    "        stop_words (set of str): Set of stop words to exclude from domain or range.\n",
    "    \n",
    "    Returns:\n",
    "        list of tuples: Filtered patterns.\n",
    "    \"\"\"\n",
    "    filtered_patterns = []\n",
    "\n",
    "    for subject, predicate, obj in patterns:\n",
    "        # Skip patterns where the predicate is None (relationship must exist)\n",
    "        if predicate is None:\n",
    "            continue\n",
    "\n",
    "        # Ensure subject and object are not in stop words\n",
    "        if (subject and subject.lower() in stop_words) or (obj and obj.lower() in stop_words):\n",
    "            continue\n",
    "\n",
    "        # Check if any part of the pattern matches an intent word\n",
    "        if any(intent in (subject or \"\") for intent in intents) or \\\n",
    "           any(intent in predicate for intent in intents) or \\\n",
    "           any(intent in (obj or \"\") for intent in intents):\n",
    "            filtered_patterns.append((subject, predicate, obj))\n",
    "\n",
    "    return filtered_patterns\n",
    "\n",
    "# Example intents\n",
    "intents = ['maize']\n",
    "\n",
    "# Filter patterns\n",
    "filtered_patterns = filter_patterns_with_stopwords(svo_patterns, intents, stop_wrd)\n",
    "\n",
    "# Print results\n",
    "for idx, pattern in enumerate(filtered_patterns, 1):\n",
    "    print(f\"Pattern {idx}: {pattern}\")\n"
   ]
  },
  {
   "cell_type": "code",
   "execution_count": 16,
   "id": "2fd246fc-02f0-427c-bba6-2407da69f41e",
   "metadata": {},
   "outputs": [
    {
     "name": "stdout",
     "output_type": "stream",
     "text": [
      "Pattern 1: ('maize', 'used is As make', 'tortillas')\n",
      "Pattern 2: ('maize', 'deified is In as', 'sculptures')\n"
     ]
    }
   ],
   "source": [
    "def filter_patterns_by_intents(patterns, intents):\n",
    "    filtered_patterns = []\n",
    "\n",
    "    for subject, predicate, obj in patterns:\n",
    "        # Skip patterns containing None\n",
    "        if None in (subject, predicate, obj):\n",
    "            continue\n",
    "\n",
    "        # Check if any part of the pattern matches an intent word\n",
    "        if any(intent in (subject or \"\") for intent in intents) or \\\n",
    "           any(intent in (predicate or \"\") for intent in intents) or \\\n",
    "           any(intent in (obj or \"\") for intent in intents):\n",
    "            filtered_patterns.append((subject, predicate, obj))\n",
    "\n",
    "    return filtered_patterns\n",
    "\n",
    "\n",
    "# Example intents\n",
    "intents = ['maize']\n",
    "\n",
    "# Filter patterns\n",
    "filtered_patterns = filter_patterns_by_intents(svo_patterns, intents)\n",
    "\n",
    "# Print results\n",
    "for idx, pattern in enumerate(filtered_patterns, 1):\n",
    "    print(f\"Pattern {idx}: {pattern}\")\n"
   ]
  },
  {
   "cell_type": "code",
   "execution_count": 27,
   "id": "0036ebbd-5838-4269-95c3-3d2515222b3b",
   "metadata": {},
   "outputs": [
    {
     "data": {
      "text/plain": [
       "False"
      ]
     },
     "execution_count": 27,
     "metadata": {},
     "output_type": "execute_result"
    }
   ],
   "source": [
    "\"that\" not in stop_wrd"
   ]
  },
  {
   "cell_type": "markdown",
   "id": "0d166094-d9b7-4bf1-9441-65636959b481",
   "metadata": {},
   "source": [
    "### IMPROVED VERSION"
   ]
  },
  {
   "cell_type": "code",
   "execution_count": 40,
   "id": "a9858ab2-e197-4904-a43a-c4218b348c1e",
   "metadata": {},
   "outputs": [
    {
     "name": "stdout",
     "output_type": "stream",
     "text": [
      "Pattern 1: ('Americans', 'planted alongside', 'polyculture')\n",
      "Pattern 2: ('ears', 'yield', 'kernels')\n",
      "Pattern 3: ('varieties', 'be can of', 'colors')\n",
      "Pattern 4: ('Maize', 'relies on for', 'propagation')\n",
      "Pattern 5: ('production', 'become has Since with', 'wheat')\n",
      "Pattern 6: ('varieties', 'called', 'ethanol')\n",
      "Pattern 7: ('weight', 'produced is than', 'grain')\n",
      "Pattern 8: ('production', 'was In', '2020')\n",
      "Pattern 9: ('pests', 'caused have', 'US')\n",
      "Pattern 10: ('breeding', 'increased has', 'pests')\n",
      "Pattern 11: ('maize', 'used is As make', 'tortillas')\n",
      "Pattern 12: ('maize', 'deified is In as', 'sculptures')\n"
     ]
    }
   ],
   "source": [
    "import nltk\n",
    "from nltk.stem import PorterStemmer\n",
    "\n",
    "# Initialize the stemmer\n",
    "stemmer = PorterStemmer()\n",
    "\n",
    "def stem_word(word):\n",
    "    \"\"\"\n",
    "    Stems a word using the Porter Stemmer.\n",
    "    \"\"\"\n",
    "    return stemmer.stem(word.lower())\n",
    "\n",
    "def filter_patterns_by_stemmed_intents(patterns, intents, stopword):\n",
    "\n",
    "    # Stem all intents for comparison\n",
    "    stemmed_intents = {stem_word(intent) for intent in intents}\n",
    "\n",
    "    filtered_patterns = []\n",
    "\n",
    "    for subject, predicate, obj in patterns:\n",
    "        # Skip patterns containing None\n",
    "        if None in (subject, predicate, obj):\n",
    "            continue\n",
    "\n",
    "        # Stem subject, predicate, and object for comparison\n",
    "        stemmed_subject = stem_word(subject) if subject else \"\"\n",
    "        stemmed_predicate = \" \".join(stem_word(word) for word in predicate.split()) if predicate else \"\"\n",
    "        stemmed_object = stem_word(obj) if obj else \"\"\n",
    "\n",
    "        # Check if any stemmed part matches a stemmed intent\n",
    "        if subject.lower() not in stopword and obj.lower() not in stopword:\n",
    "            filtered_patterns.append((subject, predicate, obj))\n",
    "            continue\n",
    "        if stemmed_subject in stemmed_intents or \\\n",
    "           any(word in stemmed_intents for word in stemmed_predicate.split()) or \\\n",
    "           stemmed_object in stemmed_intents :\n",
    "            \n",
    "            filtered_patterns.append((subject, predicate, obj))\n",
    "            print(subject not in stopword)\n",
    "\n",
    "    return filtered_patterns\n",
    "\n",
    "\n",
    "# Example intents\n",
    "intents = ['maize']\n",
    "\n",
    "# Filter patterns\n",
    "filtered_patterns = filter_patterns_by_stemmed_intents(svo_patterns, intents, stop_wrd)\n",
    "\n",
    "# print(filtered_patterns)\n",
    "\n",
    "# Print results\n",
    "for idx, pattern in enumerate(filtered_patterns, 1):\n",
    "    print(f\"Pattern {idx}: {pattern}\")"
   ]
  },
  {
   "cell_type": "code",
   "execution_count": null,
   "id": "da98ea9c-5d22-4136-ad40-5f96f7bbc772",
   "metadata": {},
   "outputs": [],
   "source": [
    "# evolve for ontology evolution\n",
    "# preprocess for ontology evolution.... "
   ]
  },
  {
   "cell_type": "markdown",
   "id": "7726709e-7d9f-4ee3-b4ac-fcaef667d49f",
   "metadata": {},
   "source": [
    "## Ontology Encoding and Evolution"
   ]
  },
  {
   "cell_type": "code",
   "execution_count": null,
   "id": "cd6c9595-9a37-4571-b993-2afd1e92f9cd",
   "metadata": {},
   "outputs": [],
   "source": [
    "# OntologiaEmbrapa_2015-05-30-Copy1"
   ]
  },
  {
   "cell_type": "code",
   "execution_count": 6,
   "id": "96b4c703-9a8c-48ef-b810-268555f06838",
   "metadata": {},
   "outputs": [
    {
     "name": "stderr",
     "output_type": "stream",
     "text": [
      "* Owlready2 * Warning: ignoring cyclic type of, involving storid 459\n",
      "\n"
     ]
    },
    {
     "name": "stdout",
     "output_type": "stream",
     "text": [
      "Ontology updated and saved to updated_simple_ontology_optimized.owl\n"
     ]
    }
   ],
   "source": [
    "from owlready2 import *\n",
    "\n",
    "def update_simple_sro_optimized(ontology_path, patterns, output_path):\n",
    "    \"\"\"\n",
    "    Updates an ontology with domain, relationship, and range (SRO) patterns efficiently.\n",
    "    \n",
    "    Args:\n",
    "        ontology_path (str): Path to the input ontology file.\n",
    "        patterns (list of tuples): List of patterns in the form (domain, relationship, range).\n",
    "        output_path (str): Path to save the updated ontology.\n",
    "    \"\"\"\n",
    "    # Load the ontology\n",
    "    onto = get_ontology(ontology_path).load()\n",
    "\n",
    "    # Pre-cache ontology entities for faster lookup\n",
    "    existing_classes = {cls.name: cls for cls in onto.classes()}\n",
    "    existing_properties = {prop.name: prop for prop in onto.properties()}\n",
    "\n",
    "    with onto:\n",
    "        for domain, relationship, range_ in patterns:\n",
    "            # Retrieve or create classes\n",
    "            if domain in existing_classes:\n",
    "                domain_class = existing_classes[domain]\n",
    "            else:\n",
    "                domain_class = types.new_class(domain, (Thing,))\n",
    "                existing_classes[domain] = domain_class\n",
    "\n",
    "            if range_ in existing_classes:\n",
    "                range_class = existing_classes[range_]\n",
    "            else:\n",
    "                range_class = types.new_class(range_, (Thing,))\n",
    "                existing_classes[range_] = range_class\n",
    "\n",
    "            # Retrieve or create properties\n",
    "            if relationship in existing_properties:\n",
    "                rel_property = existing_properties[relationship]\n",
    "            else:\n",
    "                rel_property = types.new_class(relationship, (ObjectProperty,))\n",
    "                existing_properties[relationship] = rel_property\n",
    "\n",
    "            # Set domain and range (only if not already set)\n",
    "            if not rel_property.domain:\n",
    "                rel_property.domain = [domain_class]\n",
    "            if not rel_property.range:\n",
    "                rel_property.range = [range_class]\n",
    "\n",
    "    # Save the updated ontology\n",
    "    onto.save(file=output_path, format=\"rdfxml\")\n",
    "    print(f\"Ontology updated and saved to {output_path}\")\n",
    "\n",
    "# Example SRO patterns\n",
    "patterns = [\n",
    "    ('Fertilization', 'focusesOn', 'Micronutrients'),\n",
    "    ('Fertilization', 'originatesFrom', 'Slaughter')\n",
    "]\n",
    "\n",
    "# Update ontology\n",
    "ontology_path = \"OntologiaEmbrapa_2015-05-30-Copy1.owl\"  # Replace with your OWL file path\n",
    "output_path = \"updated_simple_ontology_optimized.owl\"  # File to save the updated ontology\n",
    "update_simple_sro_optimized(ontology_path, patterns, output_path)"
   ]
  },
  {
   "cell_type": "code",
   "execution_count": null,
   "id": "2f31c63b-46f5-4e85-b702-b0aaa96915ac",
   "metadata": {},
   "outputs": [],
   "source": []
  },
  {
   "cell_type": "markdown",
   "id": "f46abfff-1855-4aea-a5da-2d77fc6af37d",
   "metadata": {},
   "source": [
    "### All in one Usage"
   ]
  },
  {
   "cell_type": "code",
   "execution_count": null,
   "id": "f8cb611d-ff23-4065-8691-57963dfda51a",
   "metadata": {},
   "outputs": [],
   "source": [
    "import spacy\n",
    "\n",
    "# Load the English NLP model\n",
    "nlp = spacy.load(\"en_core_web_sm\")"
   ]
  },
  {
   "cell_type": "code",
   "execution_count": 91,
   "id": "51c1fa37-7a7d-43f0-8435-223222d01ffd",
   "metadata": {},
   "outputs": [
    {
     "name": "stdout",
     "output_type": "stream",
     "text": [
      "Engine :  what is environmental transformation agent\n"
     ]
    },
    {
     "name": "stdout",
     "output_type": "stream",
     "text": [
      "------------------------------------------------------\n",
      "machine TFIDF vectorizer\n",
      "------------------------------------------------------\n",
      "what is environmental transformation agent\n",
      "environment transform agent\n",
      "[[0.         0.         0.64183346 0.         0.         0.\n",
      "  0.         0.         0.         0.         0.         0.\n",
      "  0.         0.         0.         0.         0.         0.\n",
      "  0.         0.         0.         0.         0.         0.\n",
      "  0.         0.         0.         0.         0.         0.\n",
      "  0.         0.         0.         0.         0.         0.\n",
      "  0.         0.         0.         0.         0.         0.\n",
      "  0.         0.         0.         0.         0.         0.\n",
      "  0.         0.         0.         0.         0.         0.\n",
      "  0.         0.         0.         0.         0.         0.\n",
      "  0.53150985 0.         0.         0.         0.         0.\n",
      "  0.         0.         0.         0.         0.         0.\n",
      "  0.         0.         0.         0.         0.         0.\n",
      "  0.         0.         0.         0.         0.         0.\n",
      "  0.         0.         0.         0.         0.         0.\n",
      "  0.         0.         0.         0.         0.         0.\n",
      "  0.         0.         0.         0.         0.         0.\n",
      "  0.         0.         0.         0.         0.         0.\n",
      "  0.         0.         0.         0.         0.         0.\n",
      "  0.         0.         0.         0.         0.         0.\n",
      "  0.         0.         0.         0.         0.         0.\n",
      "  0.         0.         0.         0.         0.         0.\n",
      "  0.         0.         0.         0.         0.         0.\n",
      "  0.         0.         0.         0.         0.         0.\n",
      "  0.         0.         0.         0.         0.         0.\n",
      "  0.         0.         0.         0.         0.         0.\n",
      "  0.         0.         0.         0.         0.         0.\n",
      "  0.         0.         0.         0.         0.         0.\n",
      "  0.         0.         0.         0.         0.         0.55276315\n",
      "  0.         0.         0.         0.         0.         0.\n",
      "  0.         0.        ]]\n",
      "14\n",
      "Intention:  EnvironmentalTransformationAgent\n",
      "CONFIDENCE :  0.06943805219773946 %\n"
     ]
    },
    {
     "data": {
      "text/plain": [
       "['environmental transformation agent causa transformacao ambiental environmental transformation']"
      ]
     },
     "execution_count": 91,
     "metadata": {},
     "output_type": "execute_result"
    }
   ],
   "source": [
    "text = input('Engine : ')\n",
    "\n",
    "# ================================================== WIKI PEDIA DOC PULLIN SYSTEM   STEP ONE ===========================================\n",
    "\n",
    "import wikipediaapi\n",
    "\n",
    "# Initialize the API\n",
    "wiki = wikipediaapi.Wikipedia(\"ontology_project\", \"en\")  # 'en' for English\n",
    "# build a function version \n",
    "def getWiki_content(concepts): \n",
    "    # Initialize the API\n",
    "    wiki = wikipediaapi.Wikipedia(\"ontology_project\", \"en\")  # 'en' for English\n",
    "    # print(concepts)\n",
    "    # Get a page, it as to pe a specific word\n",
    "    concept_corpus = ''\n",
    "    for concept in concepts:\n",
    "        page = wiki.page(concept)\n",
    "        # print('concept ========================= ', concept)\n",
    "        # Check if the page exists\n",
    "        if page.exists():\n",
    "            # print(\"\\nTitle:\", page.title)\n",
    "            # print(\"\\nSummary:\\n\", page.summary[:])  # First 500 characters\n",
    "            # print(\"\\nFull Content:\\n\", page.text[:1000])  # First 1000 characters\n",
    "            # print('CONCPET : ', concept)\n",
    "            concept_corpus = concept_corpus + '.' +  page.summary\n",
    "        else:\n",
    "            print(\"Page does not exist.\")\n",
    "            print('CONCPET : ', concept)\n",
    "            \n",
    "\n",
    "    print(concept_corpus)\n",
    "    return concept_corpus\n",
    "\n",
    "# using maize concept first... as a test concept....\n",
    "# wiki_doc = getWiki_content('maize')\n",
    "\n",
    "# ================================================== SPO PATTERN EXTRACTION   STEP TWO ===========================================\n",
    "\n",
    "import spacy\n",
    "\n",
    "# Load the English model\n",
    "nlp = spacy.load(\"en_core_web_sm\")\n",
    "\n",
    "def get_full_predicate(token):\n",
    "    \"\"\"\n",
    "    Build a full predicate phrase including auxiliaries, negations, and complements.\n",
    "    \"\"\"\n",
    "    parts = [token.text]\n",
    "    # Add auxiliary verbs and modifiers preceding the main verb\n",
    "    parts.extend(child.text for child in token.children if child.dep_ in {\"aux\", \"auxpass\", \"neg\"})\n",
    "    # Add complements or prepositional phrases following the main verb\n",
    "    parts.extend(child.text for child in token.children if child.dep_ in {\"prep\", \"xcomp\", \"acomp\"})\n",
    "    return \" \".join(sorted(parts, key=lambda t: token.i))\n",
    "\n",
    "def extract_svo_from_sentence(sentence):\n",
    "    \"\"\"\n",
    "    Extract the subject, predicate (verb phrase), and object from a single sentence.\n",
    "    \"\"\"\n",
    "    doc = nlp(sentence)\n",
    "    subject, predicate, obj = None, None, None\n",
    "\n",
    "    for token in doc:\n",
    "        if \"subj\" in token.dep_:  # Identify the subject\n",
    "            subject = token.text\n",
    "        elif \"ROOT\" in token.dep_:  # Identify the verb (predicate)\n",
    "            predicate = get_full_predicate(token)\n",
    "        elif \"obj\" in token.dep_:  # Identify the object\n",
    "            obj = token.text\n",
    "    \n",
    "    return subject, predicate, obj\n",
    "\n",
    "def extract_svo_from_document(document):\n",
    "    \"\"\"\n",
    "    Extract all SVO patterns from a multi-sentence document.\n",
    "    \"\"\"\n",
    "    doc = nlp(document)\n",
    "    results = []\n",
    "    # print('DOCUMENT \\n ======================================================== \\n', doc)\n",
    "    for sent in doc.sents:  # Iterate over sentences\n",
    "        svo = extract_svo_from_sentence(sent.text)\n",
    "        if any(svo):  # Only add non-empty results\n",
    "            results.append(svo)\n",
    "    \n",
    "    return results\n",
    "\n",
    "\n",
    "# extract SPO from the document....\n",
    "# svo_patterns = extract_svo_from_document(wiki_doc)\n",
    "# for idx, (subject, predicate, obj) in enumerate(svo_patterns, 1):\n",
    "#     print(f\"Pattern {idx}: Subject: {subject}, Predicate: {predicate}, Object: {obj}\")\n",
    "\n",
    "# ================================================== SPO FILTER PATTERN EXTRACTION   STEP THREE ===========================================\n",
    "import nltk\n",
    "from nltk.stem import PorterStemmer\n",
    "from nltk.corpus import stopwords\n",
    "# Initialize the stemmer\n",
    "stemmer = PorterStemmer()\n",
    "stop_wrd = stopwords.words('english')\n",
    "\n",
    "def stem_word(word):\n",
    "    \"\"\"\n",
    "    Stems a word using the Porter Stemmer.\n",
    "    \"\"\"\n",
    "    # print(word, type(word))\n",
    "    return stemmer.stem(str(word).lower())\n",
    "\n",
    "def filter_patterns_by_stemmed_intents(patterns, intents, stopword):\n",
    "\n",
    "    # Stem all intents for comparison\n",
    "    stemmed_intents = {stem_word(intent) for intent in intents}\n",
    "\n",
    "    filtered_patterns = []\n",
    "\n",
    "    for subject, predicate, obj in patterns:\n",
    "        # Skip patterns containing None\n",
    "        if None in (subject, predicate, obj):\n",
    "            continue\n",
    "\n",
    "        # Stem subject, predicate, and object for comparison\n",
    "        stemmed_subject = stem_word(subject) if subject else \"\"\n",
    "        stemmed_predicate = \" \".join(stem_word(word) for word in predicate.split()) if predicate else \"\"\n",
    "        stemmed_object = stem_word(obj) if obj else \"\"\n",
    "\n",
    "        # Check if any stemmed part matches a stemmed intent\n",
    "        if subject.lower() not in stop_wrd and obj.lower() not in stop_wrd:\n",
    "            filtered_patterns.append((subject, predicate, obj))\n",
    "            continue\n",
    "        if stemmed_subject in stemmed_intents or \\\n",
    "           any(word in stemmed_intents for word in stemmed_predicate.split()) or \\\n",
    "           stemmed_object in stemmed_intents :\n",
    "            \n",
    "            filtered_patterns.append((subject, predicate, obj))\n",
    "    \n",
    "\n",
    "    return filtered_patterns\n",
    "\n",
    "\n",
    "# Example intents\n",
    "# intents = ['maize']\n",
    "\n",
    "# # Filter patterns\n",
    "# filtered_patterns = filter_patterns_by_stemmed_intents(svo_patterns, intents, stop_wrd)\n",
    "\n",
    "# # print(filtered_patterns)\n",
    "\n",
    "# # Print results\n",
    "# for idx, pattern in enumerate(filtered_patterns, 1):\n",
    "#     print(f\"Pattern {idx}: {pattern}\")\n",
    "\n",
    "\n",
    "# ================================================== ONTOLOGY EVOLUTION EXTRACTION   STEP FOUR ===========================================\n",
    "\n",
    "from owlready2 import *\n",
    "\n",
    "def update_simple_sro_optimized(ontology_path, patterns, output_path):\n",
    "    \"\"\"\n",
    "    Updates an ontology with domain, relationship, and range (SRO) patterns efficiently.\n",
    "    \n",
    "    Args:\n",
    "        ontology_path (str): Path to the input ontology file.\n",
    "        patterns (list of tuples): List of patterns in the form (domain, relationship, range).\n",
    "        output_path (str): Path to save the updated ontology.\n",
    "    \"\"\"\n",
    "    # Load the ontology\n",
    "    onto = get_ontology(ontology_path).load()\n",
    "\n",
    "    # Pre-cache ontology entities for faster lookup\n",
    "    existing_classes = {cls.name: cls for cls in onto.classes()}\n",
    "    existing_properties = {prop.name: prop for prop in onto.properties()}\n",
    "\n",
    "    with onto:\n",
    "        for domain, relationship, range_ in patterns:\n",
    "            # Retrieve or create classes\n",
    "            if domain in existing_classes:\n",
    "                domain_class = existing_classes[domain]\n",
    "            else:\n",
    "                domain_class = types.new_class(domain, (Thing,))\n",
    "                existing_classes[domain] = domain_class\n",
    "\n",
    "            if range_ in existing_classes:\n",
    "                range_class = existing_classes[range_]\n",
    "            else:\n",
    "                range_class = types.new_class(range_, (Thing,))\n",
    "                existing_classes[range_] = range_class\n",
    "\n",
    "            # Retrieve or create properties\n",
    "            if relationship in existing_properties:\n",
    "                rel_property = existing_properties[relationship]\n",
    "            else:\n",
    "                rel_property = types.new_class(relationship, (ObjectProperty,))\n",
    "                existing_properties[relationship] = rel_property\n",
    "\n",
    "            # Set domain and range (only if not already set)\n",
    "            if not rel_property.domain:\n",
    "                rel_property.domain = [domain_class]\n",
    "            if not rel_property.range:\n",
    "                rel_property.range = [range_class]\n",
    "\n",
    "    # Save the updated ontology\n",
    "    onto.save(file=output_path, format=\"rdfxml\")\n",
    "    print(f\"Ontology updated and saved to {output_path}\")\n",
    "\n",
    "# Example SRO patterns\n",
    "# patterns = [\n",
    "#     ('Fertilization', 'focusesOn', 'Micronutrients'),\n",
    "#     ('Fertilization', 'originatesFrom', 'Slaughter')\n",
    "# ]\n",
    "\n",
    "# Update ontology\n",
    "# ontology_path = \"OntologiaEmbrapa_2015-05-30-Copy1.owl\"  # Replace with your OWL file path\n",
    "# output_path = \"updated_simple_ontology_optimized.owl\"  # File to save the updated ontology\n",
    "# update_simple_sro_optimized(ontology_path, patterns, output_path)\n",
    "\n",
    "\n",
    "# ================================================== QUERY SYSTEM ===========================================\n",
    "import joblib\n",
    "# ml usage\n",
    "def load_ml_models(ml_path, vec_path):\n",
    "    # load machine model and vectorization model\n",
    "    ml = joblib.load(ml_path)\n",
    "    vc = joblib.load(vec_path)\n",
    "\n",
    "    return ml, vc\n",
    "\n",
    "\n",
    "\n",
    "def ml_prediction(query, ml, vc): \n",
    "    \n",
    "    # feature extraction \n",
    "    print(query)\n",
    "    split_text = word_tokenize(query)\n",
    "    stem_text = ' '.join([ps.stem(txt) for txt in split_text if txt not in stop_word])\n",
    "    print(stem_text)\n",
    "    input_features = vc.transform([stem_text]).toarray()\n",
    "    print(input_features)\n",
    "    # maching learning model prediction\n",
    "    pre = ml.predict(input_features)\n",
    "    # computing machine learning confidence level \n",
    "    max_arg = np.argmax(gb.predict_proba(input_features))\n",
    "    confidence = gb.predict_proba(input_features)[0][max_arg]\n",
    "    \n",
    "    if input_features[0].sum() != 0: \n",
    "        print(pre[0])\n",
    "        intention_code = pre[0]\n",
    "        intention = output_converter[intention_code] \n",
    "        print('Intention: ', intention)\n",
    "        pulled_information = dataset[dataset.intent == intention_code]['clean_doc'].tolist()\n",
    "        pulled_information\n",
    "        print('CONFIDENCE : ', confidence, '%' )\n",
    "        \n",
    "        #return the intention code number, text version and list of information that match query... \n",
    "        # print(pulled_information)\n",
    "        return query,  pulled_information\n",
    "    else:\n",
    "        print('Initiate Ontology Evolution')\n",
    "        canditate_terms = ' '.join([txt for txt in split_text if txt not in stop_wrd])\n",
    "        doc = nlp(canditate_terms)\n",
    "        filtered_term = [d for d in doc if d.pos_ == 'NOUN']\n",
    "        print(filtered_term)\n",
    "\n",
    "        print(\"\\n\\n============================== DOC EXTRACTION ============================================\")\n",
    "        # passes the term to wiki pedia document pulling\n",
    "        wiki_doc = getWiki_content(filtered_term[:])\n",
    "        # pattern filtering (SPO collection)\n",
    "\n",
    "        print(\"\\n\\n============================== SPO EXTRACTION ============================================\\n\")\n",
    "        svo_patterns = extract_svo_from_document(wiki_doc)\n",
    "        for idx, (subject, predicate, obj) in enumerate(svo_patterns, 1):\n",
    "            print(f\"Pattern {idx}: Subject: {subject}, Predicate: {predicate}, Object: {obj}\")\n",
    "\n",
    "        \n",
    "        print(\"\\n\\n============================== SPO FILTER EXTRACTION ============================================\\n\")\n",
    "        # Filter patterns\n",
    "        intents = filtered_term\n",
    "        print('intents', intents)\n",
    "        filtered_patterns = filter_patterns_by_stemmed_intents(svo_patterns, intents, stop_wrd)\n",
    "        # Print results\n",
    "        for idx, pattern in enumerate(filtered_patterns, 1):\n",
    "            print(f\"Pattern {idx}: {pattern}\")\n",
    "\n",
    "        print(\"\\n\\n============================== ONTOLOGY EVOLUTION  ============================================\\n\")\n",
    "        # print(filtered_patterns)\n",
    "        ontology_path = \"evolved_macconto.owl\"  # Replace with your OWL file path\n",
    "        output_path = \"evolved_macconto.owl\"  # File to save the updated ontology\n",
    "        update_simple_sro_optimized(ontology_path, filtered_patterns, output_path)\n",
    "        \n",
    "        return 0 , 0\n",
    "\n",
    "print('------------------------------------------------------')\n",
    "print('machine TFIDF vectorizer')  \n",
    "print('------------------------------------------------------')\n",
    "\n",
    "ml_idf, vc_idf = load_ml_models('gb_idfvec_model.jb', 'tf_vectorizer.jb')\n",
    "que, pull_info = ml_prediction(text, ml_idf, vc_idf)\n",
    "pull_info\n",
    "# is hoe use to dig maize\n",
    "# what is evapotranspiration\n",
    "# how to perform maize irrigation"
   ]
  },
  {
   "cell_type": "markdown",
   "id": "6cd4ef6e-b09c-4445-91b4-f727a42ed4a4",
   "metadata": {},
   "source": [
    "### EVALUATION PROGRAM"
   ]
  },
  {
   "cell_type": "code",
   "execution_count": 393,
   "id": "a4cfa64a-d20f-4053-8af6-f8f016fa1067",
   "metadata": {},
   "outputs": [
    {
     "name": "stderr",
     "output_type": "stream",
     "text": [
      "[nltk_data] Downloading package punkt to\n",
      "[nltk_data]     C:\\Users\\HP\\AppData\\Roaming\\nltk_data...\n",
      "[nltk_data]   Package punkt is already up-to-date!\n"
     ]
    },
    {
     "data": {
      "text/plain": [
       "{'relevance_percentage': 50.0,\n",
       " 'total_sentences': 10,\n",
       " 'relevant_sentences_count': 5,\n",
       " 'relevant_sentences': ['water quantity physical measure actual evapotranspiration evaporation',\n",
       "  'water quantity physical measure water evaporation',\n",
       "  'water quantity physical measure actual water evaporation',\n",
       "  'water quantity physical measure potential evaporation',\n",
       "  'water quantity physical measure transpiration evaporation']}"
      ]
     },
     "execution_count": 393,
     "metadata": {},
     "output_type": "execute_result"
    }
   ],
   "source": [
    "from nltk.stem import PorterStemmer\n",
    "import nltk\n",
    "from sklearn.feature_extraction.text import TfidfVectorizer\n",
    "\n",
    "\n",
    "# Download NLTK resources if needed\n",
    "nltk.download('punkt')\n",
    "\n",
    "def stem_text(text):\n",
    "    \"\"\"\n",
    "    Stems the words in the input text using the Porter Stemmer.\n",
    "    \n",
    "    Args:\n",
    "        text (str): The input text to stem.\n",
    "        \n",
    "    Returns:\n",
    "        list: A list of stemmed words.\n",
    "    \"\"\"\n",
    "    stemmer = PorterStemmer()\n",
    "    words = text.lower().split()\n",
    "    return [stemmer.stem(word) for word in words]\n",
    "\n",
    "def compute_relevance(input_text, pulled_document, min_match_count=2):\n",
    "    \"\"\"\n",
    "    Computes the relevance of the input text to the pulled document.\n",
    "\n",
    "    Args:\n",
    "        input_text (str): The input string to analyze.\n",
    "        pulled_document (list): A list of sentences representing the pulled document.\n",
    "        min_match_count (int): The minimum number of matching terms required for a document to be considered relevant.\n",
    "\n",
    "    Returns:\n",
    "        dict: A dictionary containing the relevance percentage, \n",
    "              total count of sentences, relevant sentence count, and relevant sentences list.\n",
    "    \"\"\"\n",
    "    # Stem the input text\n",
    "    input_words = set(stem_text(input_text))\n",
    "    \n",
    "    # Total number of sentences in the pulled document\n",
    "    total_sentences = len(pulled_document)\n",
    "    \n",
    "    # Initialize counters and relevant sentences list\n",
    "    relevant_sentences_count = 0\n",
    "    relevant_sentences = []\n",
    "    \n",
    "    # Loop through each sentence in the pulled document\n",
    "    for sentence in pulled_document:\n",
    "        # Stem each sentence in the document\n",
    "        sentence_words = set(stem_text(sentence))\n",
    "        \n",
    "        # Find the intersection between input text words and sentence words\n",
    "        matching_words = input_words & sentence_words\n",
    "        \n",
    "        # If there are at least 'min_match_count' matching words, consider it relevant\n",
    "        if len(matching_words) >= min_match_count:\n",
    "            relevant_sentences_count += 1\n",
    "            relevant_sentences.append(sentence)\n",
    "    \n",
    "    # Compute the relevance percentage\n",
    "    if total_sentences > 0:\n",
    "        relevance_percentage = (relevant_sentences_count / total_sentences) * 100\n",
    "    else:\n",
    "        relevance_percentage = 0\n",
    "    \n",
    "    # Return the structured result\n",
    "    return {\n",
    "        \"relevance_percentage\": round(relevance_percentage, 2),\n",
    "        \"total_sentences\": total_sentences,\n",
    "        \"relevant_sentences_count\": relevant_sentences_count,\n",
    "        \"relevant_sentences\": relevant_sentences,\n",
    "    }\n",
    "\n",
    "# Example input text and pulled document\n",
    "input_text = \"what is water evaporation\"\n",
    "pulled_document = [\n",
    "    'water quantity physical measure actual evapotranspiration evaporation',\n",
    "    'water quantity physical measure water evaporation',\n",
    "    'water quantity physical measure actual water evaporation',\n",
    "    'water quantity physical measure groundwaterflow discharge',\n",
    "    'water quantity physical measure water discharge',\n",
    "    'water quantity physical measure in conduit discharge',\n",
    "    'water quantity physical measure potential evaporation',\n",
    "    'water quantity physical measure stream discharge',\n",
    "    'water quantity physical measure transpiration evaporation',\n",
    "    'water quantity physical measure waterflow storm discharge'\n",
    "]\n",
    "\n",
    "# Compute relevance\n",
    "result = compute_relevance(input_text, pulled_document)\n",
    "result\n"
   ]
  },
  {
   "cell_type": "code",
   "execution_count": 385,
   "id": "bf6a6af8-f64b-4e95-9bf8-d4ee0da3d61b",
   "metadata": {},
   "outputs": [
    {
     "data": {
      "text/plain": [
       "{'relevance_percentage': 0.0,\n",
       " 'total_sentences': 3,\n",
       " 'relevant_sentences_count': 0,\n",
       " 'relevant_sentences': []}"
      ]
     },
     "execution_count": 385,
     "metadata": {},
     "output_type": "execute_result"
    }
   ],
   "source": [
    "from sklearn.feature_extraction.text import TfidfVectorizer\n",
    "import numpy as np\n",
    "\n",
    "def compute_relevance(input_text, pulled_document, threshold=0.1):\n",
    "    \"\"\"\n",
    "    Computes the relevance of the input text to the pulled document using TF-IDF and calculates the mean relevance of the input words.\n",
    "\n",
    "    Args:\n",
    "        input_text (str): The input string to analyze.\n",
    "        pulled_document (list): A list of sentences representing the pulled document.\n",
    "        threshold (float): Threshold for considering a document as relevant based on mean relevance score.\n",
    "\n",
    "    Returns:\n",
    "        dict: A dictionary containing the mean relevance percentage, \n",
    "              total count of sentences, relevant sentence count, and relevant sentences list.\n",
    "    \"\"\"\n",
    "    # Tokenize and normalize input text\n",
    "    input_words = input_text.lower().split()\n",
    "    \n",
    "    # Combine input text and pulled document for TF-IDF processing\n",
    "    documents = [input_text] + pulled_document\n",
    "\n",
    "    # Calculate TF-IDF vectors\n",
    "    vectorizer = TfidfVectorizer()\n",
    "    tfidf_matrix = vectorizer.fit_transform(documents)\n",
    "    \n",
    "    # The first vector is for the input text, the rest are for the document sentences\n",
    "    input_vector = tfidf_matrix[0]\n",
    "    document_vectors = tfidf_matrix[1:]\n",
    "\n",
    "    # Initialize variables for calculating relevance\n",
    "    relevant_sentences = []\n",
    "    relevant_sentences_count = 0\n",
    "    total_sentences = len(pulled_document)\n",
    "    \n",
    "    # Loop through each sentence in the pulled document\n",
    "    for i, sentence_vector in enumerate(document_vectors):\n",
    "        # Calculate the relevance for each word in the input text\n",
    "        total_relevance = 0\n",
    "        word_count = 0\n",
    "        for word in input_words:\n",
    "            word_index = vectorizer.vocabulary_.get(word)\n",
    "            if word_index is not None:\n",
    "                word_relevance = sentence_vector[0, word_index]\n",
    "                total_relevance += word_relevance\n",
    "                word_count += 1\n",
    "\n",
    "        # Calculate the mean relevance score for the sentence\n",
    "        if word_count > 0:\n",
    "            mean_relevance_score = total_relevance / word_count\n",
    "        else:\n",
    "            mean_relevance_score = 0\n",
    "        \n",
    "        # If the mean relevance score exceeds the threshold, consider the sentence relevant\n",
    "        if mean_relevance_score > threshold:\n",
    "            relevant_sentences.append(pulled_document[i])\n",
    "            relevant_sentences_count += 1\n",
    "\n",
    "    # Compute the average relevance percentage\n",
    "    relevance_percentage = (relevant_sentences_count / total_sentences) * 100 if total_sentences > 0 else 0\n",
    "    \n",
    "    # Return the structured result\n",
    "    return {\n",
    "        \"relevance_percentage\": round(relevance_percentage, 2),\n",
    "        \"total_sentences\": total_sentences,\n",
    "        \"relevant_sentences_count\": relevant_sentences_count,\n",
    "        \"relevant_sentences\": relevant_sentences,\n",
    "    }\n",
    "\n",
    "# Input text and pulled document\n",
    "\n",
    "\n",
    "# Compute relevance\n",
    "result = compute_relevance(que, pull_info)\n",
    "result"
   ]
  },
  {
   "cell_type": "code",
   "execution_count": 390,
   "id": "97b5fc5d-60d7-4ead-bb97-e29d9ebb0af9",
   "metadata": {},
   "outputs": [
    {
     "data": {
      "text/plain": [
       "{'relevance_percentage': 0.0,\n",
       " 'total_sentences': 3,\n",
       " 'relevant_sentences_count': 0,\n",
       " 'relevant_sentences': []}"
      ]
     },
     "execution_count": 390,
     "metadata": {},
     "output_type": "execute_result"
    }
   ],
   "source": [
    "from sklearn.feature_extraction.text import TfidfVectorizer\n",
    "import numpy as np\n",
    "import nltk\n",
    "from nltk.stem import PorterStemmer\n",
    "\n",
    "# Download NLTK resources if needed\n",
    "# nltk.download('punkt')\n",
    "\n",
    "def stem_text(text):\n",
    "    \"\"\"\n",
    "    Stems the words in the input text using the Porter Stemmer.\n",
    "    \n",
    "    Args:\n",
    "        text (str): The input text to stem.\n",
    "        \n",
    "    Returns:\n",
    "        str: Stemming version of the input text.\n",
    "    \"\"\"\n",
    "    stemmer = PorterStemmer()\n",
    "    words = nltk.word_tokenize(text)\n",
    "    stemmed_words = [stemmer.stem(word) for word in words]\n",
    "    return ' '.join(stemmed_words)\n",
    "\n",
    "def compute_relevance(input_text, pulled_document, threshold=0.1):\n",
    "    \"\"\"\n",
    "    Computes the relevance of the input text to the pulled document using TF-IDF and calculates the mean relevance of the input words.\n",
    "\n",
    "    Args:\n",
    "        input_text (str): The input string to analyze.\n",
    "        pulled_document (list): A list of sentences representing the pulled document.\n",
    "        threshold (float): Threshold for considering a document as relevant based on mean relevance score.\n",
    "\n",
    "    Returns:\n",
    "        dict: A dictionary containing the mean relevance percentage, \n",
    "              total count of sentences, relevant sentence count, and relevant sentences list.\n",
    "    \"\"\"\n",
    "    # Stem the input text\n",
    "    stemmed_input_text = stem_text(input_text)\n",
    "    \n",
    "    # Stem each sentence in the pulled document\n",
    "    stemmed_document = [stem_text(sentence) for sentence in pulled_document]\n",
    "    \n",
    "    # Combine stemmed input text and document for TF-IDF processing\n",
    "    documents = [stemmed_input_text] + stemmed_document\n",
    "\n",
    "    # Calculate TF-IDF vectors\n",
    "    vectorizer = TfidfVectorizer()\n",
    "    tfidf_matrix = vectorizer.fit_transform(documents)\n",
    "    \n",
    "    # The first vector is for the input text, the rest are for the document sentences\n",
    "    input_vector = tfidf_matrix[0]\n",
    "    document_vectors = tfidf_matrix[1:]\n",
    "\n",
    "    # Initialize variables for calculating relevance\n",
    "    relevant_sentences = []\n",
    "    relevant_sentences_count = 0\n",
    "    total_sentences = len(pulled_document)\n",
    "    \n",
    "    # Loop through each sentence in the pulled document\n",
    "    for i, sentence_vector in enumerate(document_vectors):\n",
    "        # Calculate the relevance for each word in the input text\n",
    "        total_relevance = 0\n",
    "        word_count = 0\n",
    "        for word in stemmed_input_text.split():\n",
    "            word_index = vectorizer.vocabulary_.get(word)\n",
    "            if word_index is not None:\n",
    "                word_relevance = sentence_vector[0, word_index]\n",
    "                total_relevance += word_relevance\n",
    "                word_count += 1\n",
    "\n",
    "        # Calculate the mean relevance score for the sentence\n",
    "        if word_count > 0:\n",
    "            mean_relevance_score = total_relevance / word_count\n",
    "        else:\n",
    "            mean_relevance_score = 0\n",
    "        \n",
    "        # If the mean relevance score exceeds the threshold, consider the sentence relevant\n",
    "        if mean_relevance_score > threshold:\n",
    "            relevant_sentences.append(pulled_document[i])\n",
    "            relevant_sentences_count += 1\n",
    "\n",
    "    # Compute the average relevance percentage\n",
    "    relevance_percentage = (relevant_sentences_count / total_sentences) * 100 if total_sentences > 0 else 0\n",
    "    \n",
    "    # Return the structured result\n",
    "    return {\n",
    "        \"relevance_percentage\": round(relevance_percentage, 2),\n",
    "        \"total_sentences\": total_sentences,\n",
    "        \"relevant_sentences_count\": relevant_sentences_count,\n",
    "        \"relevant_sentences\": relevant_sentences,\n",
    "    }\n",
    "\n",
    "\n",
    "# Compute relevance\n",
    "result = compute_relevance(que, pull_info)\n",
    "result"
   ]
  }
 ],
 "metadata": {
  "kernelspec": {
   "display_name": "Python 3",
   "language": "python",
   "name": "python3"
  },
  "language_info": {
   "codemirror_mode": {
    "name": "ipython",
    "version": 3
   },
   "file_extension": ".py",
   "mimetype": "text/x-python",
   "name": "python",
   "nbconvert_exporter": "python",
   "pygments_lexer": "ipython3",
   "version": "3.9.5"
  }
 },
 "nbformat": 4,
 "nbformat_minor": 5
}
