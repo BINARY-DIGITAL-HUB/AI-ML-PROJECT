{
 "cells": [
  {
   "cell_type": "code",
   "execution_count": 1,
   "id": "538b8c67-7fad-4bde-b997-a520269d2e6a",
   "metadata": {},
   "outputs": [],
   "source": [
    "# load dataset one\n",
    "import numpy as np\n",
    "import pandas as pd"
   ]
  },
  {
   "cell_type": "code",
   "execution_count": 2,
   "id": "49bd0773-c352-4e77-85f3-6b6d714fdb10",
   "metadata": {},
   "outputs": [],
   "source": [
    "lbl_mapper = {\n",
    "    0: 'Leak '\n",
    "}"
   ]
  },
  {
   "cell_type": "code",
   "execution_count": 3,
   "id": "d1f7aa3a-7df1-455c-8834-e4d995767aab",
   "metadata": {},
   "outputs": [],
   "source": [
    "\n",
    "file_list = ['dataset/dataset 1/Leak 1_15m.npy', \n",
    "            'dataset/dataset 1/Leak 1_30m.npy',\n",
    "            'dataset/dataset 1/Leak 1_50m.npy',\n",
    "            'dataset/dataset 1/Leak 2_15m.npy', \n",
    "            'dataset/dataset 1/Leak 2_30m.npy', \n",
    "            'dataset/dataset 1/Leak 2_50m.npy', \n",
    "            'dataset/dataset 1/Leak 3_15m.npy', \n",
    "            'dataset/dataset 1/Leak 3_30m.npy', \n",
    "            'dataset/dataset 1/Leak 3_50m.npy']\n",
    "# Load the .npy file\n",
    "data_list = []\n",
    "pd_list = []\n",
    "lbl_list = []\n",
    "\n",
    "for file in range(9): \n",
    "    data = np.load(file_list[file])\n",
    "    data_list.append(data)\n",
    "    lbl_list.append([file] * len(data[:, :1]))\n",
    "    pd_list.append(pd.DataFrame(data))"
   ]
  },
  {
   "cell_type": "code",
   "execution_count": 4,
   "id": "fcdf9519-fe78-444d-b217-8ba1ce856406",
   "metadata": {},
   "outputs": [
    {
     "data": {
      "text/html": [
       "<div>\n",
       "<style scoped>\n",
       "    .dataframe tbody tr th:only-of-type {\n",
       "        vertical-align: middle;\n",
       "    }\n",
       "\n",
       "    .dataframe tbody tr th {\n",
       "        vertical-align: top;\n",
       "    }\n",
       "\n",
       "    .dataframe thead th {\n",
       "        text-align: right;\n",
       "    }\n",
       "</style>\n",
       "<table border=\"1\" class=\"dataframe\">\n",
       "  <thead>\n",
       "    <tr style=\"text-align: right;\">\n",
       "      <th></th>\n",
       "      <th>0</th>\n",
       "    </tr>\n",
       "  </thead>\n",
       "  <tbody>\n",
       "    <tr>\n",
       "      <th>0</th>\n",
       "      <td>0</td>\n",
       "    </tr>\n",
       "    <tr>\n",
       "      <th>1</th>\n",
       "      <td>0</td>\n",
       "    </tr>\n",
       "    <tr>\n",
       "      <th>2</th>\n",
       "      <td>0</td>\n",
       "    </tr>\n",
       "    <tr>\n",
       "      <th>3</th>\n",
       "      <td>0</td>\n",
       "    </tr>\n",
       "    <tr>\n",
       "      <th>4</th>\n",
       "      <td>0</td>\n",
       "    </tr>\n",
       "    <tr>\n",
       "      <th>...</th>\n",
       "      <td>...</td>\n",
       "    </tr>\n",
       "    <tr>\n",
       "      <th>1349995</th>\n",
       "      <td>8</td>\n",
       "    </tr>\n",
       "    <tr>\n",
       "      <th>1349996</th>\n",
       "      <td>8</td>\n",
       "    </tr>\n",
       "    <tr>\n",
       "      <th>1349997</th>\n",
       "      <td>8</td>\n",
       "    </tr>\n",
       "    <tr>\n",
       "      <th>1349998</th>\n",
       "      <td>8</td>\n",
       "    </tr>\n",
       "    <tr>\n",
       "      <th>1349999</th>\n",
       "      <td>8</td>\n",
       "    </tr>\n",
       "  </tbody>\n",
       "</table>\n",
       "<p>1350000 rows × 1 columns</p>\n",
       "</div>"
      ],
      "text/plain": [
       "         0\n",
       "0        0\n",
       "1        0\n",
       "2        0\n",
       "3        0\n",
       "4        0\n",
       "...     ..\n",
       "1349995  8\n",
       "1349996  8\n",
       "1349997  8\n",
       "1349998  8\n",
       "1349999  8\n",
       "\n",
       "[1350000 rows x 1 columns]"
      ]
     },
     "execution_count": 4,
     "metadata": {},
     "output_type": "execute_result"
    }
   ],
   "source": [
    "lbl_df = pd.DataFrame(np.array(lbl_list).reshape(-1))\n",
    "lbl_df"
   ]
  },
  {
   "cell_type": "code",
   "execution_count": 5,
   "id": "08b46875-2c59-4fb7-a357-d5ca8938cf13",
   "metadata": {},
   "outputs": [
    {
     "data": {
      "text/plain": [
       "array([[38.07170723,  0.76671559, 29.90767453,  0.48724541],\n",
       "       [37.98264317,  0.7666052 , 29.67053939,  0.48750615],\n",
       "       [37.91266426,  0.7664948 , 29.45727692,  0.4877669 ],\n",
       "       ...,\n",
       "       [37.88403652,  0.74973759, 29.81218387,  0.47880368],\n",
       "       [38.06534551,  0.74973759, 29.85833769,  0.47917482],\n",
       "       [38.61881506,  0.74973759, 30.26417299,  0.47843152]])"
      ]
     },
     "execution_count": 5,
     "metadata": {},
     "output_type": "execute_result"
    }
   ],
   "source": [
    "data_list[1]"
   ]
  },
  {
   "cell_type": "code",
   "execution_count": 6,
   "id": "2e5174a8-0f01-423e-8228-8d6276eb311c",
   "metadata": {},
   "outputs": [
    {
     "data": {
      "text/html": [
       "<div>\n",
       "<style scoped>\n",
       "    .dataframe tbody tr th:only-of-type {\n",
       "        vertical-align: middle;\n",
       "    }\n",
       "\n",
       "    .dataframe tbody tr th {\n",
       "        vertical-align: top;\n",
       "    }\n",
       "\n",
       "    .dataframe thead th {\n",
       "        text-align: right;\n",
       "    }\n",
       "</style>\n",
       "<table border=\"1\" class=\"dataframe\">\n",
       "  <thead>\n",
       "    <tr style=\"text-align: right;\">\n",
       "      <th></th>\n",
       "      <th>0</th>\n",
       "      <th>1</th>\n",
       "      <th>2</th>\n",
       "      <th>3</th>\n",
       "    </tr>\n",
       "  </thead>\n",
       "  <tbody>\n",
       "    <tr>\n",
       "      <th>0</th>\n",
       "      <td>38.071707</td>\n",
       "      <td>0.766716</td>\n",
       "      <td>29.907675</td>\n",
       "      <td>0.487245</td>\n",
       "    </tr>\n",
       "    <tr>\n",
       "      <th>1</th>\n",
       "      <td>37.982643</td>\n",
       "      <td>0.766605</td>\n",
       "      <td>29.670539</td>\n",
       "      <td>0.487506</td>\n",
       "    </tr>\n",
       "    <tr>\n",
       "      <th>2</th>\n",
       "      <td>37.912664</td>\n",
       "      <td>0.766495</td>\n",
       "      <td>29.457277</td>\n",
       "      <td>0.487767</td>\n",
       "    </tr>\n",
       "    <tr>\n",
       "      <th>3</th>\n",
       "      <td>37.779068</td>\n",
       "      <td>0.766384</td>\n",
       "      <td>29.619611</td>\n",
       "      <td>0.488028</td>\n",
       "    </tr>\n",
       "    <tr>\n",
       "      <th>4</th>\n",
       "      <td>37.802925</td>\n",
       "      <td>0.766274</td>\n",
       "      <td>30.036587</td>\n",
       "      <td>0.488288</td>\n",
       "    </tr>\n",
       "    <tr>\n",
       "      <th>...</th>\n",
       "      <td>...</td>\n",
       "      <td>...</td>\n",
       "      <td>...</td>\n",
       "      <td>...</td>\n",
       "    </tr>\n",
       "    <tr>\n",
       "      <th>149995</th>\n",
       "      <td>38.086021</td>\n",
       "      <td>0.749738</td>\n",
       "      <td>29.936322</td>\n",
       "      <td>0.478061</td>\n",
       "    </tr>\n",
       "    <tr>\n",
       "      <th>149996</th>\n",
       "      <td>38.025585</td>\n",
       "      <td>0.749738</td>\n",
       "      <td>29.871070</td>\n",
       "      <td>0.478433</td>\n",
       "    </tr>\n",
       "    <tr>\n",
       "      <th>149997</th>\n",
       "      <td>37.884037</td>\n",
       "      <td>0.749738</td>\n",
       "      <td>29.812184</td>\n",
       "      <td>0.478804</td>\n",
       "    </tr>\n",
       "    <tr>\n",
       "      <th>149998</th>\n",
       "      <td>38.065346</td>\n",
       "      <td>0.749738</td>\n",
       "      <td>29.858338</td>\n",
       "      <td>0.479175</td>\n",
       "    </tr>\n",
       "    <tr>\n",
       "      <th>149999</th>\n",
       "      <td>38.618815</td>\n",
       "      <td>0.749738</td>\n",
       "      <td>30.264173</td>\n",
       "      <td>0.478432</td>\n",
       "    </tr>\n",
       "  </tbody>\n",
       "</table>\n",
       "<p>150000 rows × 4 columns</p>\n",
       "</div>"
      ],
      "text/plain": [
       "                0         1          2         3\n",
       "0       38.071707  0.766716  29.907675  0.487245\n",
       "1       37.982643  0.766605  29.670539  0.487506\n",
       "2       37.912664  0.766495  29.457277  0.487767\n",
       "3       37.779068  0.766384  29.619611  0.488028\n",
       "4       37.802925  0.766274  30.036587  0.488288\n",
       "...           ...       ...        ...       ...\n",
       "149995  38.086021  0.749738  29.936322  0.478061\n",
       "149996  38.025585  0.749738  29.871070  0.478433\n",
       "149997  37.884037  0.749738  29.812184  0.478804\n",
       "149998  38.065346  0.749738  29.858338  0.479175\n",
       "149999  38.618815  0.749738  30.264173  0.478432\n",
       "\n",
       "[150000 rows x 4 columns]"
      ]
     },
     "execution_count": 6,
     "metadata": {},
     "output_type": "execute_result"
    }
   ],
   "source": [
    "pd_list[1]"
   ]
  },
  {
   "cell_type": "code",
   "execution_count": 7,
   "id": "5da6208e-934c-4f2d-8360-685a1bc2d7d2",
   "metadata": {},
   "outputs": [
    {
     "data": {
      "text/html": [
       "<div>\n",
       "<style scoped>\n",
       "    .dataframe tbody tr th:only-of-type {\n",
       "        vertical-align: middle;\n",
       "    }\n",
       "\n",
       "    .dataframe tbody tr th {\n",
       "        vertical-align: top;\n",
       "    }\n",
       "\n",
       "    .dataframe thead th {\n",
       "        text-align: right;\n",
       "    }\n",
       "</style>\n",
       "<table border=\"1\" class=\"dataframe\">\n",
       "  <thead>\n",
       "    <tr style=\"text-align: right;\">\n",
       "      <th></th>\n",
       "      <th>0</th>\n",
       "      <th>1</th>\n",
       "      <th>2</th>\n",
       "      <th>3</th>\n",
       "    </tr>\n",
       "  </thead>\n",
       "  <tbody>\n",
       "    <tr>\n",
       "      <th>0</th>\n",
       "      <td>39.760016</td>\n",
       "      <td>0.248224</td>\n",
       "      <td>40.255363</td>\n",
       "      <td>0.136816</td>\n",
       "    </tr>\n",
       "    <tr>\n",
       "      <th>1</th>\n",
       "      <td>39.761611</td>\n",
       "      <td>0.248128</td>\n",
       "      <td>40.256959</td>\n",
       "      <td>0.136695</td>\n",
       "    </tr>\n",
       "    <tr>\n",
       "      <th>2</th>\n",
       "      <td>39.753640</td>\n",
       "      <td>0.248031</td>\n",
       "      <td>40.252171</td>\n",
       "      <td>0.136574</td>\n",
       "    </tr>\n",
       "    <tr>\n",
       "      <th>3</th>\n",
       "      <td>39.761611</td>\n",
       "      <td>0.247935</td>\n",
       "      <td>40.255363</td>\n",
       "      <td>0.136454</td>\n",
       "    </tr>\n",
       "    <tr>\n",
       "      <th>4</th>\n",
       "      <td>39.760016</td>\n",
       "      <td>0.247839</td>\n",
       "      <td>40.253767</td>\n",
       "      <td>0.136333</td>\n",
       "    </tr>\n",
       "    <tr>\n",
       "      <th>...</th>\n",
       "      <td>...</td>\n",
       "      <td>...</td>\n",
       "      <td>...</td>\n",
       "      <td>...</td>\n",
       "    </tr>\n",
       "    <tr>\n",
       "      <th>149995</th>\n",
       "      <td>37.231960</td>\n",
       "      <td>0.738715</td>\n",
       "      <td>28.012185</td>\n",
       "      <td>0.115495</td>\n",
       "    </tr>\n",
       "    <tr>\n",
       "      <th>149996</th>\n",
       "      <td>37.777478</td>\n",
       "      <td>0.738962</td>\n",
       "      <td>28.166562</td>\n",
       "      <td>0.119790</td>\n",
       "    </tr>\n",
       "    <tr>\n",
       "      <th>149997</th>\n",
       "      <td>37.763164</td>\n",
       "      <td>0.739209</td>\n",
       "      <td>28.059930</td>\n",
       "      <td>0.124084</td>\n",
       "    </tr>\n",
       "    <tr>\n",
       "      <th>149998</th>\n",
       "      <td>37.656605</td>\n",
       "      <td>0.739457</td>\n",
       "      <td>28.026509</td>\n",
       "      <td>0.128378</td>\n",
       "    </tr>\n",
       "    <tr>\n",
       "      <th>149999</th>\n",
       "      <td>37.578674</td>\n",
       "      <td>0.739704</td>\n",
       "      <td>27.948525</td>\n",
       "      <td>0.132672</td>\n",
       "    </tr>\n",
       "  </tbody>\n",
       "</table>\n",
       "<p>1350000 rows × 4 columns</p>\n",
       "</div>"
      ],
      "text/plain": [
       "                0         1          2         3\n",
       "0       39.760016  0.248224  40.255363  0.136816\n",
       "1       39.761611  0.248128  40.256959  0.136695\n",
       "2       39.753640  0.248031  40.252171  0.136574\n",
       "3       39.761611  0.247935  40.255363  0.136454\n",
       "4       39.760016  0.247839  40.253767  0.136333\n",
       "...           ...       ...        ...       ...\n",
       "149995  37.231960  0.738715  28.012185  0.115495\n",
       "149996  37.777478  0.738962  28.166562  0.119790\n",
       "149997  37.763164  0.739209  28.059930  0.124084\n",
       "149998  37.656605  0.739457  28.026509  0.128378\n",
       "149999  37.578674  0.739704  27.948525  0.132672\n",
       "\n",
       "[1350000 rows x 4 columns]"
      ]
     },
     "execution_count": 7,
     "metadata": {},
     "output_type": "execute_result"
    }
   ],
   "source": [
    "leak_dataset = pd.concat((pd_list), axis=0)\n",
    "leak_dataset"
   ]
  },
  {
   "cell_type": "code",
   "execution_count": 8,
   "id": "3a264ced-72ac-4bde-b8a0-748a03c41adf",
   "metadata": {},
   "outputs": [],
   "source": [
    "# set the columns\n",
    "leak_dataset.columns = ['p1', 'q1', 'p2', 'q2']"
   ]
  },
  {
   "cell_type": "code",
   "execution_count": 9,
   "id": "bb801983-e6fc-4b08-980d-7aeb1c8ae9f0",
   "metadata": {},
   "outputs": [
    {
     "data": {
      "text/html": [
       "<div>\n",
       "<style scoped>\n",
       "    .dataframe tbody tr th:only-of-type {\n",
       "        vertical-align: middle;\n",
       "    }\n",
       "\n",
       "    .dataframe tbody tr th {\n",
       "        vertical-align: top;\n",
       "    }\n",
       "\n",
       "    .dataframe thead th {\n",
       "        text-align: right;\n",
       "    }\n",
       "</style>\n",
       "<table border=\"1\" class=\"dataframe\">\n",
       "  <thead>\n",
       "    <tr style=\"text-align: right;\">\n",
       "      <th></th>\n",
       "      <th>p1</th>\n",
       "      <th>q1</th>\n",
       "      <th>p2</th>\n",
       "      <th>q2</th>\n",
       "    </tr>\n",
       "  </thead>\n",
       "  <tbody>\n",
       "    <tr>\n",
       "      <th>0</th>\n",
       "      <td>39.760016</td>\n",
       "      <td>0.248224</td>\n",
       "      <td>40.255363</td>\n",
       "      <td>0.136816</td>\n",
       "    </tr>\n",
       "    <tr>\n",
       "      <th>1</th>\n",
       "      <td>39.761611</td>\n",
       "      <td>0.248128</td>\n",
       "      <td>40.256959</td>\n",
       "      <td>0.136695</td>\n",
       "    </tr>\n",
       "    <tr>\n",
       "      <th>2</th>\n",
       "      <td>39.753640</td>\n",
       "      <td>0.248031</td>\n",
       "      <td>40.252171</td>\n",
       "      <td>0.136574</td>\n",
       "    </tr>\n",
       "    <tr>\n",
       "      <th>3</th>\n",
       "      <td>39.761611</td>\n",
       "      <td>0.247935</td>\n",
       "      <td>40.255363</td>\n",
       "      <td>0.136454</td>\n",
       "    </tr>\n",
       "    <tr>\n",
       "      <th>4</th>\n",
       "      <td>39.760016</td>\n",
       "      <td>0.247839</td>\n",
       "      <td>40.253767</td>\n",
       "      <td>0.136333</td>\n",
       "    </tr>\n",
       "    <tr>\n",
       "      <th>...</th>\n",
       "      <td>...</td>\n",
       "      <td>...</td>\n",
       "      <td>...</td>\n",
       "      <td>...</td>\n",
       "    </tr>\n",
       "    <tr>\n",
       "      <th>149995</th>\n",
       "      <td>37.231960</td>\n",
       "      <td>0.738715</td>\n",
       "      <td>28.012185</td>\n",
       "      <td>0.115495</td>\n",
       "    </tr>\n",
       "    <tr>\n",
       "      <th>149996</th>\n",
       "      <td>37.777478</td>\n",
       "      <td>0.738962</td>\n",
       "      <td>28.166562</td>\n",
       "      <td>0.119790</td>\n",
       "    </tr>\n",
       "    <tr>\n",
       "      <th>149997</th>\n",
       "      <td>37.763164</td>\n",
       "      <td>0.739209</td>\n",
       "      <td>28.059930</td>\n",
       "      <td>0.124084</td>\n",
       "    </tr>\n",
       "    <tr>\n",
       "      <th>149998</th>\n",
       "      <td>37.656605</td>\n",
       "      <td>0.739457</td>\n",
       "      <td>28.026509</td>\n",
       "      <td>0.128378</td>\n",
       "    </tr>\n",
       "    <tr>\n",
       "      <th>149999</th>\n",
       "      <td>37.578674</td>\n",
       "      <td>0.739704</td>\n",
       "      <td>27.948525</td>\n",
       "      <td>0.132672</td>\n",
       "    </tr>\n",
       "  </tbody>\n",
       "</table>\n",
       "<p>1350000 rows × 4 columns</p>\n",
       "</div>"
      ],
      "text/plain": [
       "               p1        q1         p2        q2\n",
       "0       39.760016  0.248224  40.255363  0.136816\n",
       "1       39.761611  0.248128  40.256959  0.136695\n",
       "2       39.753640  0.248031  40.252171  0.136574\n",
       "3       39.761611  0.247935  40.255363  0.136454\n",
       "4       39.760016  0.247839  40.253767  0.136333\n",
       "...           ...       ...        ...       ...\n",
       "149995  37.231960  0.738715  28.012185  0.115495\n",
       "149996  37.777478  0.738962  28.166562  0.119790\n",
       "149997  37.763164  0.739209  28.059930  0.124084\n",
       "149998  37.656605  0.739457  28.026509  0.128378\n",
       "149999  37.578674  0.739704  27.948525  0.132672\n",
       "\n",
       "[1350000 rows x 4 columns]"
      ]
     },
     "execution_count": 9,
     "metadata": {},
     "output_type": "execute_result"
    }
   ],
   "source": [
    "leak_dataset"
   ]
  },
  {
   "cell_type": "code",
   "execution_count": 10,
   "id": "e20488ff-266c-481f-ba40-09708da5ceb3",
   "metadata": {},
   "outputs": [],
   "source": [
    "leak_dataset['leak_size'] = lbl_df[0].to_list()"
   ]
  },
  {
   "cell_type": "code",
   "execution_count": 11,
   "id": "fe7fdcb6-a0dd-442f-9adf-981eaf7f8157",
   "metadata": {},
   "outputs": [
    {
     "data": {
      "text/html": [
       "<div>\n",
       "<style scoped>\n",
       "    .dataframe tbody tr th:only-of-type {\n",
       "        vertical-align: middle;\n",
       "    }\n",
       "\n",
       "    .dataframe tbody tr th {\n",
       "        vertical-align: top;\n",
       "    }\n",
       "\n",
       "    .dataframe thead th {\n",
       "        text-align: right;\n",
       "    }\n",
       "</style>\n",
       "<table border=\"1\" class=\"dataframe\">\n",
       "  <thead>\n",
       "    <tr style=\"text-align: right;\">\n",
       "      <th></th>\n",
       "      <th>p1</th>\n",
       "      <th>q1</th>\n",
       "      <th>p2</th>\n",
       "      <th>q2</th>\n",
       "      <th>leak_size</th>\n",
       "    </tr>\n",
       "  </thead>\n",
       "  <tbody>\n",
       "    <tr>\n",
       "      <th>0</th>\n",
       "      <td>39.760016</td>\n",
       "      <td>0.248224</td>\n",
       "      <td>40.255363</td>\n",
       "      <td>0.136816</td>\n",
       "      <td>0</td>\n",
       "    </tr>\n",
       "    <tr>\n",
       "      <th>1</th>\n",
       "      <td>39.761611</td>\n",
       "      <td>0.248128</td>\n",
       "      <td>40.256959</td>\n",
       "      <td>0.136695</td>\n",
       "      <td>0</td>\n",
       "    </tr>\n",
       "    <tr>\n",
       "      <th>2</th>\n",
       "      <td>39.753640</td>\n",
       "      <td>0.248031</td>\n",
       "      <td>40.252171</td>\n",
       "      <td>0.136574</td>\n",
       "      <td>0</td>\n",
       "    </tr>\n",
       "    <tr>\n",
       "      <th>3</th>\n",
       "      <td>39.761611</td>\n",
       "      <td>0.247935</td>\n",
       "      <td>40.255363</td>\n",
       "      <td>0.136454</td>\n",
       "      <td>0</td>\n",
       "    </tr>\n",
       "    <tr>\n",
       "      <th>4</th>\n",
       "      <td>39.760016</td>\n",
       "      <td>0.247839</td>\n",
       "      <td>40.253767</td>\n",
       "      <td>0.136333</td>\n",
       "      <td>0</td>\n",
       "    </tr>\n",
       "    <tr>\n",
       "      <th>...</th>\n",
       "      <td>...</td>\n",
       "      <td>...</td>\n",
       "      <td>...</td>\n",
       "      <td>...</td>\n",
       "      <td>...</td>\n",
       "    </tr>\n",
       "    <tr>\n",
       "      <th>149995</th>\n",
       "      <td>37.231960</td>\n",
       "      <td>0.738715</td>\n",
       "      <td>28.012185</td>\n",
       "      <td>0.115495</td>\n",
       "      <td>8</td>\n",
       "    </tr>\n",
       "    <tr>\n",
       "      <th>149996</th>\n",
       "      <td>37.777478</td>\n",
       "      <td>0.738962</td>\n",
       "      <td>28.166562</td>\n",
       "      <td>0.119790</td>\n",
       "      <td>8</td>\n",
       "    </tr>\n",
       "    <tr>\n",
       "      <th>149997</th>\n",
       "      <td>37.763164</td>\n",
       "      <td>0.739209</td>\n",
       "      <td>28.059930</td>\n",
       "      <td>0.124084</td>\n",
       "      <td>8</td>\n",
       "    </tr>\n",
       "    <tr>\n",
       "      <th>149998</th>\n",
       "      <td>37.656605</td>\n",
       "      <td>0.739457</td>\n",
       "      <td>28.026509</td>\n",
       "      <td>0.128378</td>\n",
       "      <td>8</td>\n",
       "    </tr>\n",
       "    <tr>\n",
       "      <th>149999</th>\n",
       "      <td>37.578674</td>\n",
       "      <td>0.739704</td>\n",
       "      <td>27.948525</td>\n",
       "      <td>0.132672</td>\n",
       "      <td>8</td>\n",
       "    </tr>\n",
       "  </tbody>\n",
       "</table>\n",
       "<p>1350000 rows × 5 columns</p>\n",
       "</div>"
      ],
      "text/plain": [
       "               p1        q1         p2        q2  leak_size\n",
       "0       39.760016  0.248224  40.255363  0.136816          0\n",
       "1       39.761611  0.248128  40.256959  0.136695          0\n",
       "2       39.753640  0.248031  40.252171  0.136574          0\n",
       "3       39.761611  0.247935  40.255363  0.136454          0\n",
       "4       39.760016  0.247839  40.253767  0.136333          0\n",
       "...           ...       ...        ...       ...        ...\n",
       "149995  37.231960  0.738715  28.012185  0.115495          8\n",
       "149996  37.777478  0.738962  28.166562  0.119790          8\n",
       "149997  37.763164  0.739209  28.059930  0.124084          8\n",
       "149998  37.656605  0.739457  28.026509  0.128378          8\n",
       "149999  37.578674  0.739704  27.948525  0.132672          8\n",
       "\n",
       "[1350000 rows x 5 columns]"
      ]
     },
     "execution_count": 11,
     "metadata": {},
     "output_type": "execute_result"
    }
   ],
   "source": [
    "leak_dataset"
   ]
  },
  {
   "cell_type": "code",
   "execution_count": 12,
   "id": "ec595ec4-67d8-4991-af4f-7412876f3d83",
   "metadata": {},
   "outputs": [],
   "source": [
    "leak_dataset['leak_loc'] = leak_dataset.leak_size"
   ]
  },
  {
   "cell_type": "code",
   "execution_count": 13,
   "id": "514f6ce9-dffe-4a6b-8ee8-05abb7c91066",
   "metadata": {},
   "outputs": [],
   "source": [
    "leak_dataset.leak_loc.replace({0:0, 1:0, 2:0, 3:1, 4:1, 5:1, 6:2, 7:2, 8:2}, inplace=True)"
   ]
  },
  {
   "cell_type": "code",
   "execution_count": 14,
   "id": "b792b1cd-550d-43e1-9f17-518c0cec8b4e",
   "metadata": {},
   "outputs": [
    {
     "data": {
      "text/html": [
       "<div>\n",
       "<style scoped>\n",
       "    .dataframe tbody tr th:only-of-type {\n",
       "        vertical-align: middle;\n",
       "    }\n",
       "\n",
       "    .dataframe tbody tr th {\n",
       "        vertical-align: top;\n",
       "    }\n",
       "\n",
       "    .dataframe thead th {\n",
       "        text-align: right;\n",
       "    }\n",
       "</style>\n",
       "<table border=\"1\" class=\"dataframe\">\n",
       "  <thead>\n",
       "    <tr style=\"text-align: right;\">\n",
       "      <th></th>\n",
       "      <th>p1</th>\n",
       "      <th>q1</th>\n",
       "      <th>p2</th>\n",
       "      <th>q2</th>\n",
       "      <th>leak_size</th>\n",
       "      <th>leak_loc</th>\n",
       "    </tr>\n",
       "  </thead>\n",
       "  <tbody>\n",
       "    <tr>\n",
       "      <th>0</th>\n",
       "      <td>39.760016</td>\n",
       "      <td>0.248224</td>\n",
       "      <td>40.255363</td>\n",
       "      <td>0.136816</td>\n",
       "      <td>0</td>\n",
       "      <td>0</td>\n",
       "    </tr>\n",
       "    <tr>\n",
       "      <th>1</th>\n",
       "      <td>39.761611</td>\n",
       "      <td>0.248128</td>\n",
       "      <td>40.256959</td>\n",
       "      <td>0.136695</td>\n",
       "      <td>0</td>\n",
       "      <td>0</td>\n",
       "    </tr>\n",
       "    <tr>\n",
       "      <th>2</th>\n",
       "      <td>39.753640</td>\n",
       "      <td>0.248031</td>\n",
       "      <td>40.252171</td>\n",
       "      <td>0.136574</td>\n",
       "      <td>0</td>\n",
       "      <td>0</td>\n",
       "    </tr>\n",
       "    <tr>\n",
       "      <th>3</th>\n",
       "      <td>39.761611</td>\n",
       "      <td>0.247935</td>\n",
       "      <td>40.255363</td>\n",
       "      <td>0.136454</td>\n",
       "      <td>0</td>\n",
       "      <td>0</td>\n",
       "    </tr>\n",
       "    <tr>\n",
       "      <th>4</th>\n",
       "      <td>39.760016</td>\n",
       "      <td>0.247839</td>\n",
       "      <td>40.253767</td>\n",
       "      <td>0.136333</td>\n",
       "      <td>0</td>\n",
       "      <td>0</td>\n",
       "    </tr>\n",
       "    <tr>\n",
       "      <th>...</th>\n",
       "      <td>...</td>\n",
       "      <td>...</td>\n",
       "      <td>...</td>\n",
       "      <td>...</td>\n",
       "      <td>...</td>\n",
       "      <td>...</td>\n",
       "    </tr>\n",
       "    <tr>\n",
       "      <th>149995</th>\n",
       "      <td>37.231960</td>\n",
       "      <td>0.738715</td>\n",
       "      <td>28.012185</td>\n",
       "      <td>0.115495</td>\n",
       "      <td>8</td>\n",
       "      <td>2</td>\n",
       "    </tr>\n",
       "    <tr>\n",
       "      <th>149996</th>\n",
       "      <td>37.777478</td>\n",
       "      <td>0.738962</td>\n",
       "      <td>28.166562</td>\n",
       "      <td>0.119790</td>\n",
       "      <td>8</td>\n",
       "      <td>2</td>\n",
       "    </tr>\n",
       "    <tr>\n",
       "      <th>149997</th>\n",
       "      <td>37.763164</td>\n",
       "      <td>0.739209</td>\n",
       "      <td>28.059930</td>\n",
       "      <td>0.124084</td>\n",
       "      <td>8</td>\n",
       "      <td>2</td>\n",
       "    </tr>\n",
       "    <tr>\n",
       "      <th>149998</th>\n",
       "      <td>37.656605</td>\n",
       "      <td>0.739457</td>\n",
       "      <td>28.026509</td>\n",
       "      <td>0.128378</td>\n",
       "      <td>8</td>\n",
       "      <td>2</td>\n",
       "    </tr>\n",
       "    <tr>\n",
       "      <th>149999</th>\n",
       "      <td>37.578674</td>\n",
       "      <td>0.739704</td>\n",
       "      <td>27.948525</td>\n",
       "      <td>0.132672</td>\n",
       "      <td>8</td>\n",
       "      <td>2</td>\n",
       "    </tr>\n",
       "  </tbody>\n",
       "</table>\n",
       "<p>1350000 rows × 6 columns</p>\n",
       "</div>"
      ],
      "text/plain": [
       "               p1        q1         p2        q2  leak_size  leak_loc\n",
       "0       39.760016  0.248224  40.255363  0.136816          0         0\n",
       "1       39.761611  0.248128  40.256959  0.136695          0         0\n",
       "2       39.753640  0.248031  40.252171  0.136574          0         0\n",
       "3       39.761611  0.247935  40.255363  0.136454          0         0\n",
       "4       39.760016  0.247839  40.253767  0.136333          0         0\n",
       "...           ...       ...        ...       ...        ...       ...\n",
       "149995  37.231960  0.738715  28.012185  0.115495          8         2\n",
       "149996  37.777478  0.738962  28.166562  0.119790          8         2\n",
       "149997  37.763164  0.739209  28.059930  0.124084          8         2\n",
       "149998  37.656605  0.739457  28.026509  0.128378          8         2\n",
       "149999  37.578674  0.739704  27.948525  0.132672          8         2\n",
       "\n",
       "[1350000 rows x 6 columns]"
      ]
     },
     "execution_count": 14,
     "metadata": {},
     "output_type": "execute_result"
    }
   ],
   "source": [
    "leak_dataset"
   ]
  },
  {
   "cell_type": "code",
   "execution_count": 15,
   "id": "b93c8a97-d4d2-466c-b550-ecd69d98a5b1",
   "metadata": {},
   "outputs": [],
   "source": [
    "# leak_dataset[leak_dataset.columns[:4]]"
   ]
  },
  {
   "cell_type": "code",
   "execution_count": 16,
   "id": "7da36f73-b7f3-42eb-be79-25dd77d03d33",
   "metadata": {},
   "outputs": [],
   "source": [
    "# resample the dataset\n",
    "leak_dataset = leak_dataset.sample(leak_dataset.shape[0])"
   ]
  },
  {
   "cell_type": "code",
   "execution_count": 17,
   "id": "a023b26c-1300-4a76-945f-aa1d01ad263c",
   "metadata": {},
   "outputs": [
    {
     "data": {
      "text/html": [
       "<div>\n",
       "<style scoped>\n",
       "    .dataframe tbody tr th:only-of-type {\n",
       "        vertical-align: middle;\n",
       "    }\n",
       "\n",
       "    .dataframe tbody tr th {\n",
       "        vertical-align: top;\n",
       "    }\n",
       "\n",
       "    .dataframe thead th {\n",
       "        text-align: right;\n",
       "    }\n",
       "</style>\n",
       "<table border=\"1\" class=\"dataframe\">\n",
       "  <thead>\n",
       "    <tr style=\"text-align: right;\">\n",
       "      <th></th>\n",
       "      <th>p1</th>\n",
       "      <th>q1</th>\n",
       "      <th>p2</th>\n",
       "      <th>q2</th>\n",
       "      <th>leak_size</th>\n",
       "      <th>leak_loc</th>\n",
       "    </tr>\n",
       "  </thead>\n",
       "  <tbody>\n",
       "    <tr>\n",
       "      <th>22010</th>\n",
       "      <td>37.682052</td>\n",
       "      <td>0.860901</td>\n",
       "      <td>28.779293</td>\n",
       "      <td>0.458731</td>\n",
       "      <td>4</td>\n",
       "      <td>1</td>\n",
       "    </tr>\n",
       "    <tr>\n",
       "      <th>142205</th>\n",
       "      <td>38.602911</td>\n",
       "      <td>0.511791</td>\n",
       "      <td>33.790961</td>\n",
       "      <td>0.135052</td>\n",
       "      <td>5</td>\n",
       "      <td>1</td>\n",
       "    </tr>\n",
       "    <tr>\n",
       "      <th>124953</th>\n",
       "      <td>37.418041</td>\n",
       "      <td>0.727654</td>\n",
       "      <td>27.802105</td>\n",
       "      <td>0.348867</td>\n",
       "      <td>4</td>\n",
       "      <td>1</td>\n",
       "    </tr>\n",
       "    <tr>\n",
       "      <th>30893</th>\n",
       "      <td>38.615634</td>\n",
       "      <td>0.699077</td>\n",
       "      <td>30.233934</td>\n",
       "      <td>0.426287</td>\n",
       "      <td>1</td>\n",
       "      <td>0</td>\n",
       "    </tr>\n",
       "    <tr>\n",
       "      <th>120432</th>\n",
       "      <td>38.596549</td>\n",
       "      <td>0.745200</td>\n",
       "      <td>29.594147</td>\n",
       "      <td>0.464617</td>\n",
       "      <td>1</td>\n",
       "      <td>0</td>\n",
       "    </tr>\n",
       "    <tr>\n",
       "      <th>...</th>\n",
       "      <td>...</td>\n",
       "      <td>...</td>\n",
       "      <td>...</td>\n",
       "      <td>...</td>\n",
       "      <td>...</td>\n",
       "      <td>...</td>\n",
       "    </tr>\n",
       "    <tr>\n",
       "      <th>19327</th>\n",
       "      <td>37.589807</td>\n",
       "      <td>0.700702</td>\n",
       "      <td>28.467357</td>\n",
       "      <td>0.073436</td>\n",
       "      <td>8</td>\n",
       "      <td>2</td>\n",
       "    </tr>\n",
       "    <tr>\n",
       "      <th>127468</th>\n",
       "      <td>37.295578</td>\n",
       "      <td>0.776520</td>\n",
       "      <td>28.438710</td>\n",
       "      <td>0.372479</td>\n",
       "      <td>4</td>\n",
       "      <td>1</td>\n",
       "    </tr>\n",
       "    <tr>\n",
       "      <th>29570</th>\n",
       "      <td>38.801714</td>\n",
       "      <td>0.465779</td>\n",
       "      <td>33.054092</td>\n",
       "      <td>0.081045</td>\n",
       "      <td>5</td>\n",
       "      <td>1</td>\n",
       "    </tr>\n",
       "    <tr>\n",
       "      <th>25814</th>\n",
       "      <td>36.354043</td>\n",
       "      <td>0.988559</td>\n",
       "      <td>24.337386</td>\n",
       "      <td>0.441030</td>\n",
       "      <td>7</td>\n",
       "      <td>2</td>\n",
       "    </tr>\n",
       "    <tr>\n",
       "      <th>61299</th>\n",
       "      <td>35.975521</td>\n",
       "      <td>1.040366</td>\n",
       "      <td>24.617492</td>\n",
       "      <td>0.451141</td>\n",
       "      <td>7</td>\n",
       "      <td>2</td>\n",
       "    </tr>\n",
       "  </tbody>\n",
       "</table>\n",
       "<p>1350000 rows × 6 columns</p>\n",
       "</div>"
      ],
      "text/plain": [
       "               p1        q1         p2        q2  leak_size  leak_loc\n",
       "22010   37.682052  0.860901  28.779293  0.458731          4         1\n",
       "142205  38.602911  0.511791  33.790961  0.135052          5         1\n",
       "124953  37.418041  0.727654  27.802105  0.348867          4         1\n",
       "30893   38.615634  0.699077  30.233934  0.426287          1         0\n",
       "120432  38.596549  0.745200  29.594147  0.464617          1         0\n",
       "...           ...       ...        ...       ...        ...       ...\n",
       "19327   37.589807  0.700702  28.467357  0.073436          8         2\n",
       "127468  37.295578  0.776520  28.438710  0.372479          4         1\n",
       "29570   38.801714  0.465779  33.054092  0.081045          5         1\n",
       "25814   36.354043  0.988559  24.337386  0.441030          7         2\n",
       "61299   35.975521  1.040366  24.617492  0.451141          7         2\n",
       "\n",
       "[1350000 rows x 6 columns]"
      ]
     },
     "execution_count": 17,
     "metadata": {},
     "output_type": "execute_result"
    }
   ],
   "source": [
    "leak_dataset"
   ]
  },
  {
   "cell_type": "markdown",
   "id": "b170d589-a4ce-4810-a22d-93915e7dc2eb",
   "metadata": {},
   "source": [
    "### Exploration"
   ]
  },
  {
   "cell_type": "code",
   "execution_count": 18,
   "id": "e46513cd-e663-40c3-8081-ae4cb72d58f1",
   "metadata": {},
   "outputs": [
    {
     "data": {
      "text/plain": [
       "array([1, 0, 2], dtype=int64)"
      ]
     },
     "execution_count": 18,
     "metadata": {},
     "output_type": "execute_result"
    }
   ],
   "source": [
    "leak_dataset.leak_loc.unique()"
   ]
  },
  {
   "cell_type": "code",
   "execution_count": 19,
   "id": "0df65769-05d8-442c-a930-6a462c225f28",
   "metadata": {},
   "outputs": [
    {
     "data": {
      "image/png": "[encoded data removed]",
      "text/plain": [
       "<Figure size 640x480 with 1 Axes>"
      ]
     },
     "metadata": {},
     "output_type": "display_data"
    }
   ],
   "source": [
    "import matplotlib.pyplot as plt\n",
    "leak_dataset.leak_loc.value_counts().sort_index().plot(kind='bar', color=['r', 'b', 'g', 'gold', 'black', 'cyan'])\n",
    "plt.show()"
   ]
  },
  {
   "cell_type": "code",
   "execution_count": 20,
   "id": "e91ffe2f-f821-4b8e-bf28-75cec8ebc91c",
   "metadata": {},
   "outputs": [],
   "source": [
    "x_samples = leak_dataset[leak_dataset.columns[:-1]]\n",
    "loc_samples = leak_dataset['leak_loc']\n",
    "siz_samples = leak_dataset['leak_size']"
   ]
  },
  {
   "cell_type": "code",
   "execution_count": 21,
   "id": "2e642063-8a17-437c-80f4-c60c8af0146b",
   "metadata": {},
   "outputs": [],
   "source": [
    "# data spliting and functional model creation"
   ]
  },
  {
   "cell_type": "code",
   "execution_count": 22,
   "id": "64ba646b-0821-4b4f-b7a6-ede313bc8695",
   "metadata": {},
   "outputs": [],
   "source": [
    "from sklearn import model_selection\n",
    "import tensorflow as tf"
   ]
  },
  {
   "cell_type": "code",
   "execution_count": 23,
   "id": "9b9899a3-744f-4ec8-adb5-0f29f89fbaaa",
   "metadata": {},
   "outputs": [
    {
     "data": {
      "text/plain": [
       "(1080000, 6)"
      ]
     },
     "execution_count": 23,
     "metadata": {},
     "output_type": "execute_result"
    }
   ],
   "source": [
    "train , test = model_selection.train_test_split(leak_dataset,  test_size=.2)\n",
    "train.shape"
   ]
  },
  {
   "cell_type": "code",
   "execution_count": 24,
   "id": "6b58b0c4-2cb7-44c7-b0ba-739b97494d0c",
   "metadata": {},
   "outputs": [
    {
     "data": {
      "text/plain": [
       "(270000, 6)"
      ]
     },
     "execution_count": 24,
     "metadata": {},
     "output_type": "execute_result"
    }
   ],
   "source": [
    "test.shape"
   ]
  },
  {
   "cell_type": "code",
   "execution_count": 25,
   "id": "c81e8f82-422c-47eb-bc8c-4a4f48e17a5c",
   "metadata": {},
   "outputs": [],
   "source": [
    "# train"
   ]
  },
  {
   "cell_type": "code",
   "execution_count": 26,
   "id": "36867c14-cc31-4edf-8843-42285d97df6a",
   "metadata": {},
   "outputs": [],
   "source": [
    "xtrain , ytrain_loc = train[['p1', 'q1', 'p2', 'q2']], train[['leak_loc']]\n",
    "xtrain , ytrain_size = train[['p1', 'q1', 'p2', 'q2']], train[['leak_size']]"
   ]
  },
  {
   "cell_type": "code",
   "execution_count": 27,
   "id": "e7c2373e-a927-40f8-814f-80bea900b0ff",
   "metadata": {},
   "outputs": [],
   "source": [
    "xtest , ytest_loc = test[['p1', 'q1', 'p2', 'q2']], test[['leak_loc']]\n",
    "xtest , ytest_size = test[['p1', 'q1', 'p2', 'q2']], test[['leak_size']]"
   ]
  },
  {
   "cell_type": "code",
   "execution_count": 28,
   "id": "241ae854-34cf-4951-8eee-bd2d0dd0db43",
   "metadata": {},
   "outputs": [],
   "source": [
    "# Bulding function network "
   ]
  },
  {
   "cell_type": "code",
   "execution_count": 29,
   "id": "59f9b238-35c2-46c9-82c4-355f2f5e4337",
   "metadata": {},
   "outputs": [],
   "source": [
    "# import tensorflow as tf\n",
    "\n",
    "# data_size = 4\n",
    "\n",
    "# size_model = tf.keras.Sequential([\n",
    "#     tf.keras.layers.Input(shape=(data_size, )), \n",
    "#     tf.keras.layers.Dense(500 , activation='relu'), \n",
    "#     tf.keras.layers.Dense(200 , activation='relu'),\n",
    "#     tf.keras.layers.Dense(100 , activation='relu'),\n",
    "#     tf.keras.layers.Dense(9, activation='softmax')\n",
    "#     ])\n",
    "\n",
    "# size_model.compile(\n",
    "#         loss='sparse_categorical_crossentropy', \n",
    "#         optimizer='Adam',\n",
    "#         metrics=['Accuracy']\n",
    "#     )\n",
    "\n",
    "# size_model.summary()"
   ]
  },
  {
   "cell_type": "code",
   "execution_count": 30,
   "id": "a91cc7cd-4edd-4057-abbe-8fa221a4cb1b",
   "metadata": {},
   "outputs": [],
   "source": [
    "# ytrain_size"
   ]
  },
  {
   "cell_type": "code",
   "execution_count": 31,
   "id": "92aa43a1-770f-4f4c-818c-4ff4109267c6",
   "metadata": {},
   "outputs": [],
   "source": [
    "# training_history = size_model.fit(xtrain, ytrain_size, validation_data=(xtest, ytest_size), epochs=2)"
   ]
  },
  {
   "cell_type": "code",
   "execution_count": 32,
   "id": "3c76fa7b-2e8d-40f3-9d44-5ad1ff183b83",
   "metadata": {},
   "outputs": [],
   "source": [
    "# input function \n",
    "\n",
    "# input layer .... \n",
    "data_size = 4 \n",
    "input_loc = tf.keras.layers.Input(shape=(4, ), name='loc_input' )\n",
    "input_size = tf.keras.layers.Input(shape=(4,), name='size_input')\n",
    "\n",
    "# Dens layer input leak location\n",
    "loc_l1 = tf.keras.layers.Dense(128 , activation='relu')(input_loc)\n",
    "loc_l2 = tf.keras.layers.Dense(64 , activation='relu')(loc_l1)\n",
    "loc_l3 = tf.keras.layers.Dense(32 , activation='relu')(loc_l2)\n",
    "\n",
    "\n",
    "# Dens layer input leak size\n",
    "size_l1 = tf.keras.layers.Dense(128 , activation='relu')(input_size)\n",
    "size_l2 = tf.keras.layers.Dense(64 , activation='relu')(size_l1)\n",
    "size_l3 = tf.keras.layers.Dense(32 , activation='relu')(size_l2)\n",
    "\n",
    "# output layers for leak size and location\n",
    "output_loc =  tf.keras.layers.Dense(3, activation='sigmoid', name='loc_output')(loc_l3)\n",
    "output_size = tf.keras.layers.Dense(9, activation='sigmoid', name='size_output')(size_l3)\n",
    "\n",
    "pip_model = tf.keras.models.Model(inputs=[input_loc, input_size], outputs=[output_loc, output_size])\n"
   ]
  },
  {
   "cell_type": "code",
   "execution_count": 33,
   "id": "f661ad56-eab4-49c6-8282-946f1de526ba",
   "metadata": {},
   "outputs": [
    {
     "name": "stdout",
     "output_type": "stream",
     "text": [
      "Model: \"model\"\n",
      "__________________________________________________________________________________________________\n",
      " Layer (type)                   Output Shape         Param #     Connected to                     \n",
      "==================================================================================================\n",
      " loc_input (InputLayer)         [(None, 4)]          0           []                               \n",
      "                                                                                                  \n",
      " size_input (InputLayer)        [(None, 4)]          0           []                               \n",
      "                                                                                                  \n",
      " dense (Dense)                  (None, 128)          640         ['loc_input[0][0]']              \n",
      "                                                                                                  \n",
      " dense_3 (Dense)                (None, 128)          640         ['size_input[0][0]']             \n",
      "                                                                                                  \n",
      " dense_1 (Dense)                (None, 64)           8256        ['dense[0][0]']                  \n",
      "                                                                                                  \n",
      " dense_4 (Dense)                (None, 64)           8256        ['dense_3[0][0]']                \n",
      "                                                                                                  \n",
      " dense_2 (Dense)                (None, 32)           2080        ['dense_1[0][0]']                \n",
      "                                                                                                  \n",
      " dense_5 (Dense)                (None, 32)           2080        ['dense_4[0][0]']                \n",
      "                                                                                                  \n",
      " loc_output (Dense)             (None, 3)            99          ['dense_2[0][0]']                \n",
      "                                                                                                  \n",
      " size_output (Dense)            (None, 9)            297         ['dense_5[0][0]']                \n",
      "                                                                                                  \n",
      "==================================================================================================\n",
      "Total params: 22,348\n",
      "Trainable params: 22,348\n",
      "Non-trainable params: 0\n",
      "__________________________________________________________________________________________________\n"
     ]
    }
   ],
   "source": [
    "pip_model.summary()"
   ]
  },
  {
   "cell_type": "code",
   "execution_count": 34,
   "id": "e2cc2a04-3eba-451a-ba35-fccd1d6e45bf",
   "metadata": {},
   "outputs": [],
   "source": [
    "# !pip install graphviz "
   ]
  },
  {
   "cell_type": "code",
   "execution_count": 41,
   "id": "ae08e535-d53d-4f6f-b500-98c9708ddda1",
   "metadata": {},
   "outputs": [
    {
     "name": "stdout",
     "output_type": "stream",
     "text": [
      "You must install pydot (`pip install pydot`) and install graphviz (see instructions at https://graphviz.gitlab.io/download/) for plot_model to work.\n"
     ]
    }
   ],
   "source": [
    "tf.keras.utils.plot_model(pip_model, show_layer_activations=True)"
   ]
  },
  {
   "cell_type": "code",
   "execution_count": 42,
   "id": "c43744b4-d281-420a-aae4-2a1058b797f0",
   "metadata": {},
   "outputs": [],
   "source": [
    "# Compile the model\n",
    "pip_model.compile(optimizer='adam',\n",
    "              loss={'loc_output': 'sparse_categorical_crossentropy', 'size_output': 'sparse_categorical_crossentropy'},\n",
    "              metrics=['accuracy'])"
   ]
  },
  {
   "cell_type": "code",
   "execution_count": 44,
   "id": "a87b567b-bf94-4245-aabe-1e758a8a1e10",
   "metadata": {},
   "outputs": [
    {
     "name": "stdout",
     "output_type": "stream",
     "text": [
      "Epoch 1/2\n",
      "30375/30375 [==============================] - 76s 2ms/step - loss: 0.0992 - loc_output_loss: 0.0323 - size_output_loss: 0.0669 - loc_output_accuracy: 0.9877 - size_output_accuracy: 0.9766 - val_loss: 0.0186 - val_loc_output_loss: 6.5482e-05 - val_size_output_loss: 0.0186 - val_loc_output_accuracy: 1.0000 - val_size_output_accuracy: 0.9927\n",
      "Epoch 2/2\n",
      "30375/30375 [==============================] - 76s 2ms/step - loss: 0.0183 - loc_output_loss: 0.0082 - size_output_loss: 0.0101 - loc_output_accuracy: 0.9985 - size_output_accuracy: 0.9965 - val_loss: 0.0030 - val_loc_output_loss: 5.6004e-04 - val_size_output_loss: 0.0025 - val_loc_output_accuracy: 1.0000 - val_size_output_accuracy: 0.9993\n"
     ]
    },
    {
     "data": {
      "text/plain": [
       "<keras.callbacks.History at 0x16791333610>"
      ]
     },
     "execution_count": 44,
     "metadata": {},
     "output_type": "execute_result"
    }
   ],
   "source": [
    "pip_model.fit(x=[xtrain, xtrain], y=[ytrain_loc , ytrain_size],  epochs=2, validation_split=.1 )"
   ]
  },
  {
   "cell_type": "code",
   "execution_count": 55,
   "id": "c2c68ca6-b3e1-489d-ad5c-873c7728c32b",
   "metadata": {},
   "outputs": [],
   "source": [
    "pip_model.save('pipeline_model.h5')"
   ]
  },
  {
   "cell_type": "code",
   "execution_count": null,
   "id": "05368649-2c6f-459a-877e-fa4e6f9e57c6",
   "metadata": {},
   "outputs": [],
   "source": [
    "loc_l = pip_model.history.history['loc_output_loss']\n",
    "size_l = pip_model.history.history['size_output_loss']\n",
    "\n",
    "loc_a = pip_model.history.history['size_output_accuracy']\n",
    "size_a = pip_model.history.history['size_output_accuracy']\n"
   ]
  },
  {
   "cell_type": "code",
   "execution_count": 58,
   "id": "e0a09958-d70a-45d9-8284-4cd2947ac5d8",
   "metadata": {},
   "outputs": [
    {
     "data": {
      "text/plain": [
       "[0.34, 0.66, 0.57, 0.77]"
      ]
     },
     "execution_count": 58,
     "metadata": {},
     "output_type": "execute_result"
    }
   ],
   "source": [
    "# evaluation\n",
    "sample = [0.34, 0.66, 0.57, 0.77]\n",
    "sample"
   ]
  },
  {
   "cell_type": "code",
   "execution_count": 53,
   "id": "f9566bc9-2c31-45aa-a706-abdc342d8c1f",
   "metadata": {},
   "outputs": [
    {
     "name": "stdout",
     "output_type": "stream",
     "text": [
      "1/1 [==============================] - 0s 39ms/step\n",
      "Predictions for location: [[9.9970019e-01 1.9102208e-02 4.5627715e-09]]\n",
      "Predictions for size: [[0.0000000e+00 1.0000000e+00 3.7120135e-05 0.0000000e+00 9.9999642e-01\n",
      "  5.0013913e-08 5.1570202e-28 1.6083158e-07 8.7727567e-09]]\n",
      "1\n"
     ]
    }
   ],
   "source": [
    "# Assuming you have manually created input values\n",
    "manual_input_loc = np.array([[0.1, 0.2, 0.3, 0.4]])  # Example input for location\n",
    "manual_input_size = np.array([[0.5, 0.6, 0.7, 0.8]])  # Example input for size\n",
    "\n",
    "# Make predictions\n",
    "predictions_loc, predictions_size = pip_model.predict([manual_input_loc, manual_input_size])\n",
    "\n",
    "print(\"Predictions for location:\", predictions_loc)\n",
    "print(\"Predictions for size:\", predictions_size)\n",
    "\n",
    "\n",
    "print(np.argmax(predictions_size))"
   ]
  },
  {
   "cell_type": "code",
   "execution_count": 66,
   "id": "6d7eed5e-adef-4dd0-a4a1-0b1b283caf2d",
   "metadata": {},
   "outputs": [
    {
     "data": {
      "text/plain": [
       "{0: '0.12 [l/s]',\n",
       " 1: '0.31 [l/s]',\n",
       " 2: '0.65 [l/s]',\n",
       " 3: '0.29 [l/s]',\n",
       " 4: '0.39 [l/s]',\n",
       " 5: '0.60 [l/s]',\n",
       " 6: '0.09 [l/s]',\n",
       " 7: '0.37 [l/s]',\n",
       " 8: '0.60 [l/s]'}"
      ]
     },
     "execution_count": 66,
     "metadata": {},
     "output_type": "execute_result"
    }
   ],
   "source": [
    "loc_mapper= {0: '15 [m]', 1: '30 [m]', 2:'50 [m]'}\n",
    "size_mapper={0:'0.12 [l/s]', 1:'0.31 [l/s]', 2:'0.65 [l/s]', 3:'0.29 [l/s]', 4:'0.39 [l/s]', 5:'0.60 [l/s]', 6:'0.09 [l/s]', 7:'0.37 [l/s]', 8:'0.60 [l/s]'}\n",
    "size_mapper"
   ]
  },
  {
   "cell_type": "code",
   "execution_count": 72,
   "id": "6b3e3ea7-9310-495d-ab95-79407b2a7925",
   "metadata": {},
   "outputs": [
    {
     "name": "stdout",
     "output_type": "stream",
     "text": [
      "Model: \"model\"\n",
      "__________________________________________________________________________________________________\n",
      " Layer (type)                   Output Shape         Param #     Connected to                     \n",
      "==================================================================================================\n",
      " loc_input (InputLayer)         [(None, 4)]          0           []                               \n",
      "                                                                                                  \n",
      " size_input (InputLayer)        [(None, 4)]          0           []                               \n",
      "                                                                                                  \n",
      " dense (Dense)                  (None, 128)          640         ['loc_input[0][0]']              \n",
      "                                                                                                  \n",
      " dense_3 (Dense)                (None, 128)          640         ['size_input[0][0]']             \n",
      "                                                                                                  \n",
      " dense_1 (Dense)                (None, 64)           8256        ['dense[0][0]']                  \n",
      "                                                                                                  \n",
      " dense_4 (Dense)                (None, 64)           8256        ['dense_3[0][0]']                \n",
      "                                                                                                  \n",
      " dense_2 (Dense)                (None, 32)           2080        ['dense_1[0][0]']                \n",
      "                                                                                                  \n",
      " dense_5 (Dense)                (None, 32)           2080        ['dense_4[0][0]']                \n",
      "                                                                                                  \n",
      " loc_output (Dense)             (None, 3)            99          ['dense_2[0][0]']                \n",
      "                                                                                                  \n",
      " size_output (Dense)            (None, 9)            297         ['dense_5[0][0]']                \n",
      "                                                                                                  \n",
      "==================================================================================================\n",
      "Total params: 22,348\n",
      "Trainable params: 22,348\n",
      "Non-trainable params: 0\n",
      "__________________________________________________________________________________________________\n",
      "None\n"
     ]
    },
    {
     "data": {
      "text/plain": [
       "<keras.engine.functional.Functional at 0x167a39636a0>"
      ]
     },
     "execution_count": 72,
     "metadata": {},
     "output_type": "execute_result"
    }
   ],
   "source": [
    "\n",
    "# lm = tf.keras.models.load_model('pipeline_model.h5')\n",
    "# lm.layers\n",
    "def load_prediction_model(model_path):\n",
    "    lm = tf.keras.models.load_model(model_path)\n",
    "    lm.compile(optimizer='adam',\n",
    "              loss={'loc_output': 'sparse_categorical_crossentropy', 'size_output': 'sparse_categorical_crossentropy'},\n",
    "              metrics=['accuracy'])\n",
    "    return lm\n",
    "\n",
    "\n",
    "load_prediction_model('pipeline_model.h5')    "
   ]
  },
  {
   "cell_type": "code",
   "execution_count": 67,
   "id": "0735bb5a-8883-474a-8921-19890e6c70c4",
   "metadata": {},
   "outputs": [
    {
     "name": "stdout",
     "output_type": "stream",
     "text": [
      "1/1 [==============================] - 0s 27ms/step\n",
      "(0, 1)\n"
     ]
    },
    {
     "data": {
      "text/plain": [
       "('15 [m]', '0.31 [l/s]')"
      ]
     },
     "execution_count": 67,
     "metadata": {},
     "output_type": "execute_result"
    }
   ],
   "source": [
    "def detect_pipline_leakage(loc_f, size_f, model):\n",
    "\n",
    "    manual_input_loc = np.array([loc_f])  # Example input for location\n",
    "    manual_input_size = np.array([size_f])  # Example input for size\n",
    "    # Make predictions\n",
    "    predictions_loc, predictions_size = model.predict([manual_input_loc, manual_input_size])\n",
    "\n",
    "    return np.argmax(predictions_loc), np.argmax(predictions_size)\n",
    "\n",
    "\n",
    "prediction = detect_pipline_leakage(sample, sample, pip_model)\n",
    "print(prediction)\n",
    "\n",
    "def prediction_mappping(prediction):\n",
    "    loc_mapper= {0: '15 [m]', 1: '30 [m]', 2:'50 [m]'}\n",
    "    size_mapper={0:'0.12 [l/s]', 1:'0.31 [l/s]', 2:'0.65 [l/s]', 3:'0.29 [l/s]', 4:'0.39 [l/s]', 5:'0.60 [l/s]', 6:'0.09 [l/s]', 7:'0.37 [l/s]', 8:'0.60 [l/s]'}\n",
    "\n",
    "    loc, size = loc_mapper[prediction[0]], size_mapper[prediction[1]]\n",
    "\n",
    "    return loc, size\n",
    "\n",
    "prediction_mappping(prediction)"
   ]
  },
  {
   "cell_type": "code",
   "execution_count": null,
   "id": "d6fefe6e-8cd9-4737-8118-92a4a213d618",
   "metadata": {},
   "outputs": [],
   "source": []
  },
  {
   "cell_type": "code",
   "execution_count": null,
   "id": "269acdf1-ef0d-49f3-9d14-48cc8e90685d",
   "metadata": {},
   "outputs": [],
   "source": []
  },
  {
   "cell_type": "code",
   "execution_count": 68,
   "id": "3914c856-ede1-4fb1-ae99-3115d61057b2",
   "metadata": {},
   "outputs": [],
   "source": [
    "# import tensorflow as tf\n",
    "\n",
    "# data_size = len(X_train.columns)\n",
    "\n",
    "# model = tf.keras.Sequential([\n",
    "#     tf.keras.layers.Input(shape=(data_size, )), \n",
    "#     tf.keras.layers.Dense(500 , activation='relu'), \n",
    "#     tf.keras.layers.Dense(200 , activation='relu'),\n",
    "#     tf.keras.layers.Dense(100 , activation='relu'),\n",
    "#     tf.keras.layers.Dense(9, activation='softmax')\n",
    "#     ])\n",
    "\n",
    "# model.compile(\n",
    "#         loss='sparse_categorical_crossentropy', \n",
    "#         optimizer='Adam',\n",
    "#         metrics=['Accuracy']\n",
    "#     )\n",
    "\n",
    "# model.summary()"
   ]
  }
 ],
 "metadata": {
  "kernelspec": {
   "display_name": "Python 3 (ipykernel)",
   "language": "python",
   "name": "python3"
  },
  "language_info": {
   "codemirror_mode": {
    "name": "ipython",
    "version": 3
   },
   "file_extension": ".py",
   "mimetype": "text/x-python",
   "name": "python",
   "nbconvert_exporter": "python",
   "pygments_lexer": "ipython3",
   "version": "3.9.5"
  }
 },
 "nbformat": 4,
 "nbformat_minor": 5
}
