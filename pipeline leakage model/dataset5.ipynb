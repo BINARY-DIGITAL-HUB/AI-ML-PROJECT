{
 "cells": [
  {
   "cell_type": "code",
   "execution_count": 1,
   "id": "ea320b66-a1c3-45c9-9fa0-77ea4e59863a",
   "metadata": {},
   "outputs": [],
   "source": [
    "# dataset 5 importation and exploration "
   ]
  },
  {
   "cell_type": "code",
   "execution_count": 2,
   "id": "ef2cf720-612b-40e9-b8a1-4300a762e60d",
   "metadata": {},
   "outputs": [],
   "source": [
    "import pandas as pd "
   ]
  },
  {
   "cell_type": "code",
   "execution_count": 3,
   "id": "fa4cb57a-30fa-4d1d-9579-0b14dd440da5",
   "metadata": {},
   "outputs": [
    {
     "data": {
      "text/plain": [
       "WindowsPath('dataset/dataset 5/pressure')"
      ]
     },
     "execution_count": 3,
     "metadata": {},
     "output_type": "execute_result"
    }
   ],
   "source": [
    "import pathlib\n",
    "\n",
    "pressure_path = 'dataset/dataset 5/pressure/'\n",
    "pressure_win = pathlib.Path(pressure_path)\n",
    "pressure_win"
   ]
  },
  {
   "cell_type": "code",
   "execution_count": 4,
   "id": "8fe39c19-e51d-435e-b49f-666f468e54f8",
   "metadata": {},
   "outputs": [],
   "source": [
    "branched_win, loop_win = list(pressure_win.glob('*'))"
   ]
  },
  {
   "cell_type": "code",
   "execution_count": 5,
   "id": "3356d141-6a83-444a-b019-f3e182c4c77c",
   "metadata": {},
   "outputs": [
    {
     "data": {
      "text/plain": [
       "['No-leak',\n",
       " 'Circumferential Crack',\n",
       " 'Gasket Leak',\n",
       " 'Longitudinal Crack',\n",
       " 'Orifice Leak']"
      ]
     },
     "execution_count": 5,
     "metadata": {},
     "output_type": "execute_result"
    }
   ],
   "source": [
    "leak_type = ['No-leak', 'Circumferential Crack', 'Gasket Leak', 'Longitudinal Crack', 'Orifice Leak']\n",
    "leak_type"
   ]
  },
  {
   "cell_type": "code",
   "execution_count": 6,
   "id": "64b68884-a2db-4295-830c-395272e27150",
   "metadata": {},
   "outputs": [],
   "source": [
    "pressured_loop_file_dict = {\n",
    "    leak_type[0]: [], \n",
    "    leak_type[1]: [], \n",
    "     leak_type[2]: [], \n",
    "     leak_type[3]: [] , \n",
    "    leak_type[4]: [], \n",
    "}\n",
    "\n",
    "pressured_branch_file_dict = {\n",
    "    leak_type[0]: [], \n",
    "    leak_type[1]: [], \n",
    "     leak_type[2]: [], \n",
    "     leak_type[3]: [] , \n",
    "    leak_type[4]: [], \n",
    "}\n",
    "\n",
    "\n",
    "pressured_lbl_dict  = {\n",
    "    leak_type[0]: 0, \n",
    "    leak_type[1]: 1, \n",
    "     leak_type[2]: 2, \n",
    "     leak_type[3]: 3 , \n",
    "    leak_type[4]: 4,\n",
    "}"
   ]
  },
  {
   "cell_type": "code",
   "execution_count": 7,
   "id": "3ebd910e-2907-4660-b27d-459b20f6f44c",
   "metadata": {},
   "outputs": [
    {
     "data": {
      "text/plain": [
       "[WindowsPath('dataset/dataset 5/pressure/Branched/Circumferential Crack/BR_CC_0.18 LPS_P1.csv'),\n",
       " WindowsPath('dataset/dataset 5/pressure/Branched/Circumferential Crack/BR_CC_0.18 LPS_P2.csv'),\n",
       " WindowsPath('dataset/dataset 5/pressure/Branched/Circumferential Crack/BR_CC_0.47 LPS_P1.csv'),\n",
       " WindowsPath('dataset/dataset 5/pressure/Branched/Circumferential Crack/BR_CC_0.47 LPS_P2.csv'),\n",
       " WindowsPath('dataset/dataset 5/pressure/Branched/Circumferential Crack/BR_CC_ND_P1.csv')]"
      ]
     },
     "execution_count": 7,
     "metadata": {},
     "output_type": "execute_result"
    }
   ],
   "source": [
    "bf = list(branched_win.glob('*/*.csv'))[:5]\n",
    "bf"
   ]
  },
  {
   "cell_type": "code",
   "execution_count": 8,
   "id": "0974de8c-2d3c-42dc-9b11-e57c8b51dae4",
   "metadata": {},
   "outputs": [],
   "source": [
    "# for key, path in pressured_data.items(): \n",
    "for win in list(loop_win.glob('*/*.csv')): \n",
    "    for leak in leak_type:\n",
    "        if leak in str(win):\n",
    "            pressured_loop_file_dict[leak].append(str(win))        \n",
    "\n",
    "\n",
    "# for key, path in pressured_data.items(): \n",
    "for win in list(branched_win.glob('*/*.csv')): \n",
    "    for leak in leak_type:\n",
    "        if leak in str(win):\n",
    "            pressured_branch_file_dict[leak].append(str(win))    "
   ]
  },
  {
   "cell_type": "code",
   "execution_count": 9,
   "id": "997ffe8f-8563-42a3-8147-c1bdc3efb1df",
   "metadata": {},
   "outputs": [],
   "source": [
    "n_rows = 10000"
   ]
  },
  {
   "cell_type": "code",
   "execution_count": 10,
   "id": "bac5db13-50ed-4d75-a563-5db21622aeaa",
   "metadata": {},
   "outputs": [],
   "source": [
    "p_b_ = []\n",
    "for key, val in pressured_branch_file_dict.items(): \n",
    "    for path in val: \n",
    "        df = pd.read_csv(path, nrows=n_rows)\n",
    "        df['leak_type'] = pressured_lbl_dict[key]\n",
    "        p_b_.append(df)\n",
    "\n",
    "p_b_df = pd.concat(p_b_)\n",
    "\n",
    "\n",
    "p_l_ = []\n",
    "for key, val in pressured_loop_file_dict.items(): \n",
    "    for path in val: \n",
    "        df = pd.read_csv(path, nrows=n_rows)\n",
    "        df['leak_type'] = pressured_lbl_dict[key]\n",
    "        p_l_.append(df)\n",
    "\n",
    "p_l_df = pd.concat(p_l_)"
   ]
  },
  {
   "cell_type": "code",
   "execution_count": 11,
   "id": "561f590f-241a-4448-bf61-4837836005cb",
   "metadata": {},
   "outputs": [],
   "source": [
    "# p_b_df.drop(columns=['Value'], inplace=True)\n",
    "# p_l_df.drop(columns=['Value'], inplace=True)"
   ]
  },
  {
   "cell_type": "code",
   "execution_count": 12,
   "id": "d0dbc4ed-28cf-46cc-9616-e5f0099d7157",
   "metadata": {},
   "outputs": [],
   "source": [
    "# p_b_df"
   ]
  },
  {
   "cell_type": "code",
   "execution_count": 13,
   "id": "e0255c74-e19c-497c-abab-03aaffc677ad",
   "metadata": {},
   "outputs": [],
   "source": [
    "p_b_df['Value'] = p_b_df['Value'].astype('float16')\n",
    "p_l_df['Value'] = p_l_df['Value'].astype('float16')\n",
    "p_b_df['Sample'] = p_b_df['Sample'].astype('float16')\n",
    "p_l_df['Sample'] = p_l_df['Sample'].astype('float16')"
   ]
  },
  {
   "cell_type": "code",
   "execution_count": 14,
   "id": "358697a5-1ad3-4bee-8507-3f375042dbc8",
   "metadata": {},
   "outputs": [
    {
     "data": {
      "text/plain": [
       "(400000, 3)"
      ]
     },
     "execution_count": 14,
     "metadata": {},
     "output_type": "execute_result"
    }
   ],
   "source": [
    "p_l_df.shape"
   ]
  },
  {
   "cell_type": "code",
   "execution_count": 15,
   "id": "b636b39e-f5ed-4d01-a28f-4b3ec55ec28a",
   "metadata": {},
   "outputs": [],
   "source": [
    "p_b_df['pipe_layout'] = 'branched'\n",
    "p_l_df['pipe_layout'] = 'looped'"
   ]
  },
  {
   "cell_type": "code",
   "execution_count": 16,
   "id": "33442634-5aab-42fd-ab01-130af795f8a4",
   "metadata": {},
   "outputs": [
    {
     "data": {
      "text/html": [
       "<div>\n",
       "<style scoped>\n",
       "    .dataframe tbody tr th:only-of-type {\n",
       "        vertical-align: middle;\n",
       "    }\n",
       "\n",
       "    .dataframe tbody tr th {\n",
       "        vertical-align: top;\n",
       "    }\n",
       "\n",
       "    .dataframe thead th {\n",
       "        text-align: right;\n",
       "    }\n",
       "</style>\n",
       "<table border=\"1\" class=\"dataframe\">\n",
       "  <thead>\n",
       "    <tr style=\"text-align: right;\">\n",
       "      <th></th>\n",
       "      <th>Sample</th>\n",
       "      <th>Value</th>\n",
       "      <th>leak_type</th>\n",
       "      <th>pipe_layout</th>\n",
       "    </tr>\n",
       "  </thead>\n",
       "  <tbody>\n",
       "    <tr>\n",
       "      <th>8548</th>\n",
       "      <td>0.333984</td>\n",
       "      <td>-887.00000</td>\n",
       "      <td>3</td>\n",
       "      <td>branched</td>\n",
       "    </tr>\n",
       "    <tr>\n",
       "      <th>6230</th>\n",
       "      <td>0.243408</td>\n",
       "      <td>-69.18750</td>\n",
       "      <td>0</td>\n",
       "      <td>branched</td>\n",
       "    </tr>\n",
       "    <tr>\n",
       "      <th>6872</th>\n",
       "      <td>0.268555</td>\n",
       "      <td>18.96875</td>\n",
       "      <td>2</td>\n",
       "      <td>branched</td>\n",
       "    </tr>\n",
       "    <tr>\n",
       "      <th>3820</th>\n",
       "      <td>0.149170</td>\n",
       "      <td>-143.62500</td>\n",
       "      <td>1</td>\n",
       "      <td>branched</td>\n",
       "    </tr>\n",
       "    <tr>\n",
       "      <th>539</th>\n",
       "      <td>0.021057</td>\n",
       "      <td>-1311.00000</td>\n",
       "      <td>0</td>\n",
       "      <td>branched</td>\n",
       "    </tr>\n",
       "  </tbody>\n",
       "</table>\n",
       "</div>"
      ],
      "text/plain": [
       "        Sample       Value  leak_type pipe_layout\n",
       "8548  0.333984  -887.00000          3    branched\n",
       "6230  0.243408   -69.18750          0    branched\n",
       "6872  0.268555    18.96875          2    branched\n",
       "3820  0.149170  -143.62500          1    branched\n",
       "539   0.021057 -1311.00000          0    branched"
      ]
     },
     "execution_count": 16,
     "metadata": {},
     "output_type": "execute_result"
    }
   ],
   "source": [
    "p_b_df.sample(5)"
   ]
  },
  {
   "cell_type": "code",
   "execution_count": 17,
   "id": "6d55239d-3d91-4eed-b8a6-0ad14c087bcd",
   "metadata": {},
   "outputs": [
    {
     "data": {
      "text/html": [
       "<div>\n",
       "<style scoped>\n",
       "    .dataframe tbody tr th:only-of-type {\n",
       "        vertical-align: middle;\n",
       "    }\n",
       "\n",
       "    .dataframe tbody tr th {\n",
       "        vertical-align: top;\n",
       "    }\n",
       "\n",
       "    .dataframe thead th {\n",
       "        text-align: right;\n",
       "    }\n",
       "</style>\n",
       "<table border=\"1\" class=\"dataframe\">\n",
       "  <thead>\n",
       "    <tr style=\"text-align: right;\">\n",
       "      <th></th>\n",
       "      <th>Sample</th>\n",
       "      <th>Value</th>\n",
       "      <th>leak_type</th>\n",
       "      <th>pipe_layout</th>\n",
       "    </tr>\n",
       "  </thead>\n",
       "  <tbody>\n",
       "    <tr>\n",
       "      <th>0</th>\n",
       "      <td>0.000000</td>\n",
       "      <td>-627.5</td>\n",
       "      <td>0</td>\n",
       "      <td>branched</td>\n",
       "    </tr>\n",
       "    <tr>\n",
       "      <th>1</th>\n",
       "      <td>0.000039</td>\n",
       "      <td>-713.0</td>\n",
       "      <td>0</td>\n",
       "      <td>branched</td>\n",
       "    </tr>\n",
       "    <tr>\n",
       "      <th>2</th>\n",
       "      <td>0.000078</td>\n",
       "      <td>-805.5</td>\n",
       "      <td>0</td>\n",
       "      <td>branched</td>\n",
       "    </tr>\n",
       "    <tr>\n",
       "      <th>3</th>\n",
       "      <td>0.000117</td>\n",
       "      <td>-893.5</td>\n",
       "      <td>0</td>\n",
       "      <td>branched</td>\n",
       "    </tr>\n",
       "    <tr>\n",
       "      <th>4</th>\n",
       "      <td>0.000156</td>\n",
       "      <td>-990.5</td>\n",
       "      <td>0</td>\n",
       "      <td>branched</td>\n",
       "    </tr>\n",
       "  </tbody>\n",
       "</table>\n",
       "</div>"
      ],
      "text/plain": [
       "     Sample  Value  leak_type pipe_layout\n",
       "0  0.000000 -627.5          0    branched\n",
       "1  0.000039 -713.0          0    branched\n",
       "2  0.000078 -805.5          0    branched\n",
       "3  0.000117 -893.5          0    branched\n",
       "4  0.000156 -990.5          0    branched"
      ]
     },
     "execution_count": 17,
     "metadata": {},
     "output_type": "execute_result"
    }
   ],
   "source": [
    "# data for sensor.... \n",
    "pressure_df = pd.concat([p_b_df, p_l_df])\n",
    "pressure_df.head()"
   ]
  },
  {
   "cell_type": "code",
   "execution_count": 18,
   "id": "0431d5d7-c0d6-4b00-bd06-fca7b1fcb7a7",
   "metadata": {},
   "outputs": [
    {
     "data": {
      "text/plain": [
       "(800000, 4)"
      ]
     },
     "execution_count": 18,
     "metadata": {},
     "output_type": "execute_result"
    }
   ],
   "source": [
    "pressure_df.shape"
   ]
  },
  {
   "cell_type": "code",
   "execution_count": 19,
   "id": "d24eaf02-a707-440c-a3d6-01de3ce9a99d",
   "metadata": {},
   "outputs": [],
   "source": [
    "# import matplotlib.pyplot as plt\n",
    "# plt.figure(figsize=(4,4))\n",
    "# pressure_df.pipe_layout.value_counts().plot(kind='bar')"
   ]
  },
  {
   "cell_type": "code",
   "execution_count": 20,
   "id": "6e300551-bf5e-4daa-900f-eed153e607a5",
   "metadata": {},
   "outputs": [],
   "source": [
    "#  SENSOR TWO"
   ]
  },
  {
   "cell_type": "code",
   "execution_count": 21,
   "id": "301b86fc-9bb2-4e5e-b8a3-70f8069376af",
   "metadata": {},
   "outputs": [
    {
     "data": {
      "text/plain": [
       "WindowsPath('dataset/dataset 5/Accelerometer')"
      ]
     },
     "execution_count": 21,
     "metadata": {},
     "output_type": "execute_result"
    }
   ],
   "source": [
    "accelerometer_path = 'dataset/dataset 5/Accelerometer/'\n",
    "accelerometer_win = pathlib.Path(accelerometer_path)\n",
    "accelerometer_win"
   ]
  },
  {
   "cell_type": "code",
   "execution_count": 22,
   "id": "83abb552-51cb-4cff-a5f6-5b37e83fc965",
   "metadata": {},
   "outputs": [],
   "source": [
    "branched_win, loop_win = list(accelerometer_win.glob('*'))"
   ]
  },
  {
   "cell_type": "code",
   "execution_count": 23,
   "id": "64e9726a-15de-43e2-9578-3728f3ff0089",
   "metadata": {},
   "outputs": [
    {
     "data": {
      "text/plain": [
       "WindowsPath('dataset/dataset 5/Accelerometer/Branched')"
      ]
     },
     "execution_count": 23,
     "metadata": {},
     "output_type": "execute_result"
    }
   ],
   "source": [
    "branched_win"
   ]
  },
  {
   "cell_type": "code",
   "execution_count": 24,
   "id": "804a4e7d-20a3-4f61-bfc4-8eef6bc59968",
   "metadata": {},
   "outputs": [],
   "source": [
    "accelerometer_loop_file_dict = {\n",
    "    leak_type[0]: [], \n",
    "    leak_type[1]: [], \n",
    "     leak_type[2]: [], \n",
    "     leak_type[3]: [] , \n",
    "    leak_type[4]: [], \n",
    "}\n",
    "\n",
    "accelerometer_branch_file_dict = {\n",
    "    leak_type[0]: [], \n",
    "    leak_type[1]: [], \n",
    "     leak_type[2]: [], \n",
    "     leak_type[3]: [] , \n",
    "    leak_type[4]: [], \n",
    "}\n",
    "\n",
    "\n",
    "accelerometer_lbl_dict  = {\n",
    "    leak_type[0]: 0, \n",
    "    leak_type[1]: 1, \n",
    "     leak_type[2]: 2, \n",
    "     leak_type[3]: 3 , \n",
    "    leak_type[4]: 4,\n",
    "}"
   ]
  },
  {
   "cell_type": "code",
   "execution_count": 25,
   "id": "f6108096-d6b1-4b7d-a9c1-a61569a1532f",
   "metadata": {},
   "outputs": [],
   "source": [
    "# for key, path in pressured_data.items(): \n",
    "for win in list(loop_win.glob('*/*.csv')): \n",
    "    for leak in leak_type:\n",
    "        if leak in str(win):\n",
    "            accelerometer_loop_file_dict[leak].append(str(win))        \n",
    "\n",
    "\n",
    "# for key, path in pressured_data.items(): \n",
    "for win in list(branched_win.glob('*/*.csv')): \n",
    "    for leak in leak_type:\n",
    "        if leak in str(win):\n",
    "            accelerometer_branch_file_dict[leak].append(str(win))    "
   ]
  },
  {
   "cell_type": "code",
   "execution_count": 26,
   "id": "0dbaea72-6d72-469c-96a9-4e746a84258d",
   "metadata": {},
   "outputs": [],
   "source": [
    "# accelerometer_branch_file_dict"
   ]
  },
  {
   "cell_type": "code",
   "execution_count": 27,
   "id": "98720075-4571-4ff0-8cc8-3f3331585779",
   "metadata": {},
   "outputs": [],
   "source": [
    "a_b_ = []\n",
    "for key, val in accelerometer_branch_file_dict.items(): \n",
    "    for path in val: \n",
    "        df = pd.read_csv(path, nrows=n_rows)\n",
    "        df['leak_type'] = pressured_lbl_dict[key]\n",
    "        a_b_.append(df)\n",
    "\n",
    "a_b_df = pd.concat(a_b_)\n",
    "\n",
    "\n",
    "a_l_ = []\n",
    "for key, val in accelerometer_loop_file_dict.items(): \n",
    "    for path in val: \n",
    "        df = pd.read_csv(path, nrows=n_rows)\n",
    "        df['leak_type'] = pressured_lbl_dict[key]\n",
    "        a_l_.append(df)\n",
    "\n",
    "a_l_df = pd.concat(a_l_)"
   ]
  },
  {
   "cell_type": "code",
   "execution_count": 28,
   "id": "d7bb1069-488e-46c3-9313-cd07df7f0eb0",
   "metadata": {},
   "outputs": [],
   "source": [
    "a_b_df['Value'] = a_b_df['Value'].astype('float16')\n",
    "a_l_df['Value'] = a_l_df['Value'].astype('float16')\n",
    "a_b_df['Sample'] = a_b_df['Sample'].astype('float16')\n",
    "a_l_df['Sample'] = a_l_df['Sample'].astype('float16')"
   ]
  },
  {
   "cell_type": "code",
   "execution_count": 29,
   "id": "9a48c5fe-1a79-4088-a023-9d3300e3e0be",
   "metadata": {},
   "outputs": [],
   "source": [
    "# a_b_df.head()"
   ]
  },
  {
   "cell_type": "code",
   "execution_count": 30,
   "id": "43e1c429-18d6-4073-912a-8edc350cee49",
   "metadata": {},
   "outputs": [],
   "source": [
    "a_b_df['pipe_layout'] = 'branched'\n",
    "a_l_df['pipe_layout'] = 'looped'"
   ]
  },
  {
   "cell_type": "code",
   "execution_count": null,
   "id": "a868e9bd-7b52-49dd-9ce9-580cd611d56d",
   "metadata": {},
   "outputs": [],
   "source": []
  },
  {
   "cell_type": "code",
   "execution_count": 31,
   "id": "88d017d6-070d-4786-801a-6604a4c9fba2",
   "metadata": {},
   "outputs": [
    {
     "data": {
      "text/html": [
       "<div>\n",
       "<style scoped>\n",
       "    .dataframe tbody tr th:only-of-type {\n",
       "        vertical-align: middle;\n",
       "    }\n",
       "\n",
       "    .dataframe tbody tr th {\n",
       "        vertical-align: top;\n",
       "    }\n",
       "\n",
       "    .dataframe thead th {\n",
       "        text-align: right;\n",
       "    }\n",
       "</style>\n",
       "<table border=\"1\" class=\"dataframe\">\n",
       "  <thead>\n",
       "    <tr style=\"text-align: right;\">\n",
       "      <th></th>\n",
       "      <th>Sample</th>\n",
       "      <th>Value</th>\n",
       "      <th>leak_type</th>\n",
       "      <th>pipe_layout</th>\n",
       "    </tr>\n",
       "  </thead>\n",
       "  <tbody>\n",
       "    <tr>\n",
       "      <th>0</th>\n",
       "      <td>0.000000</td>\n",
       "      <td>-0.001231</td>\n",
       "      <td>0</td>\n",
       "      <td>branched</td>\n",
       "    </tr>\n",
       "    <tr>\n",
       "      <th>1</th>\n",
       "      <td>0.000039</td>\n",
       "      <td>0.000463</td>\n",
       "      <td>0</td>\n",
       "      <td>branched</td>\n",
       "    </tr>\n",
       "    <tr>\n",
       "      <th>2</th>\n",
       "      <td>0.000078</td>\n",
       "      <td>0.001493</td>\n",
       "      <td>0</td>\n",
       "      <td>branched</td>\n",
       "    </tr>\n",
       "    <tr>\n",
       "      <th>3</th>\n",
       "      <td>0.000117</td>\n",
       "      <td>0.003288</td>\n",
       "      <td>0</td>\n",
       "      <td>branched</td>\n",
       "    </tr>\n",
       "    <tr>\n",
       "      <th>4</th>\n",
       "      <td>0.000156</td>\n",
       "      <td>0.004936</td>\n",
       "      <td>0</td>\n",
       "      <td>branched</td>\n",
       "    </tr>\n",
       "  </tbody>\n",
       "</table>\n",
       "</div>"
      ],
      "text/plain": [
       "     Sample     Value  leak_type pipe_layout\n",
       "0  0.000000 -0.001231          0    branched\n",
       "1  0.000039  0.000463          0    branched\n",
       "2  0.000078  0.001493          0    branched\n",
       "3  0.000117  0.003288          0    branched\n",
       "4  0.000156  0.004936          0    branched"
      ]
     },
     "execution_count": 31,
     "metadata": {},
     "output_type": "execute_result"
    }
   ],
   "source": [
    "# a_l_df.head()\n",
    "# data for sensor.... \n",
    "\n",
    "accelerometer_df = pd.concat([a_b_df, a_l_df])\n",
    "accelerometer_df.head()"
   ]
  },
  {
   "cell_type": "code",
   "execution_count": 32,
   "id": "fb857859-a0b6-42ee-8c8d-fa141de69ddb",
   "metadata": {},
   "outputs": [
    {
     "data": {
      "text/html": [
       "<div>\n",
       "<style scoped>\n",
       "    .dataframe tbody tr th:only-of-type {\n",
       "        vertical-align: middle;\n",
       "    }\n",
       "\n",
       "    .dataframe tbody tr th {\n",
       "        vertical-align: top;\n",
       "    }\n",
       "\n",
       "    .dataframe thead th {\n",
       "        text-align: right;\n",
       "    }\n",
       "</style>\n",
       "<table border=\"1\" class=\"dataframe\">\n",
       "  <thead>\n",
       "    <tr style=\"text-align: right;\">\n",
       "      <th></th>\n",
       "      <th>Sample</th>\n",
       "      <th>Value</th>\n",
       "      <th>leak_type</th>\n",
       "      <th>pipe_layout</th>\n",
       "    </tr>\n",
       "  </thead>\n",
       "  <tbody>\n",
       "    <tr>\n",
       "      <th>9995</th>\n",
       "      <td>0.390381</td>\n",
       "      <td>0.003660</td>\n",
       "      <td>4</td>\n",
       "      <td>looped</td>\n",
       "    </tr>\n",
       "    <tr>\n",
       "      <th>9996</th>\n",
       "      <td>0.390381</td>\n",
       "      <td>0.003448</td>\n",
       "      <td>4</td>\n",
       "      <td>looped</td>\n",
       "    </tr>\n",
       "    <tr>\n",
       "      <th>9997</th>\n",
       "      <td>0.390625</td>\n",
       "      <td>0.003494</td>\n",
       "      <td>4</td>\n",
       "      <td>looped</td>\n",
       "    </tr>\n",
       "    <tr>\n",
       "      <th>9998</th>\n",
       "      <td>0.390625</td>\n",
       "      <td>0.003296</td>\n",
       "      <td>4</td>\n",
       "      <td>looped</td>\n",
       "    </tr>\n",
       "    <tr>\n",
       "      <th>9999</th>\n",
       "      <td>0.390625</td>\n",
       "      <td>0.003119</td>\n",
       "      <td>4</td>\n",
       "      <td>looped</td>\n",
       "    </tr>\n",
       "  </tbody>\n",
       "</table>\n",
       "</div>"
      ],
      "text/plain": [
       "        Sample     Value  leak_type pipe_layout\n",
       "9995  0.390381  0.003660          4      looped\n",
       "9996  0.390381  0.003448          4      looped\n",
       "9997  0.390625  0.003494          4      looped\n",
       "9998  0.390625  0.003296          4      looped\n",
       "9999  0.390625  0.003119          4      looped"
      ]
     },
     "execution_count": 32,
     "metadata": {},
     "output_type": "execute_result"
    }
   ],
   "source": [
    "accelerometer_df.tail()"
   ]
  },
  {
   "cell_type": "code",
   "execution_count": 205,
   "id": "f8610f8c-cd07-4882-a94e-86d6e8f43dec",
   "metadata": {},
   "outputs": [
    {
     "data": {
      "text/html": [
       "<div>\n",
       "<style scoped>\n",
       "    .dataframe tbody tr th:only-of-type {\n",
       "        vertical-align: middle;\n",
       "    }\n",
       "\n",
       "    .dataframe tbody tr th {\n",
       "        vertical-align: top;\n",
       "    }\n",
       "\n",
       "    .dataframe thead th {\n",
       "        text-align: right;\n",
       "    }\n",
       "</style>\n",
       "<table border=\"1\" class=\"dataframe\">\n",
       "  <thead>\n",
       "    <tr style=\"text-align: right;\">\n",
       "      <th></th>\n",
       "      <th>Sample</th>\n",
       "      <th>Value</th>\n",
       "      <th>leak_type</th>\n",
       "      <th>pipe_layout</th>\n",
       "    </tr>\n",
       "  </thead>\n",
       "  <tbody>\n",
       "    <tr>\n",
       "      <th>9995</th>\n",
       "      <td>0.390381</td>\n",
       "      <td>110.0000</td>\n",
       "      <td>4</td>\n",
       "      <td>looped</td>\n",
       "    </tr>\n",
       "    <tr>\n",
       "      <th>9996</th>\n",
       "      <td>0.390381</td>\n",
       "      <td>104.4375</td>\n",
       "      <td>4</td>\n",
       "      <td>looped</td>\n",
       "    </tr>\n",
       "    <tr>\n",
       "      <th>9997</th>\n",
       "      <td>0.390625</td>\n",
       "      <td>104.5000</td>\n",
       "      <td>4</td>\n",
       "      <td>looped</td>\n",
       "    </tr>\n",
       "    <tr>\n",
       "      <th>9998</th>\n",
       "      <td>0.390625</td>\n",
       "      <td>92.0000</td>\n",
       "      <td>4</td>\n",
       "      <td>looped</td>\n",
       "    </tr>\n",
       "    <tr>\n",
       "      <th>9999</th>\n",
       "      <td>0.390625</td>\n",
       "      <td>94.6875</td>\n",
       "      <td>4</td>\n",
       "      <td>looped</td>\n",
       "    </tr>\n",
       "  </tbody>\n",
       "</table>\n",
       "</div>"
      ],
      "text/plain": [
       "        Sample     Value  leak_type pipe_layout\n",
       "9995  0.390381  110.0000          4      looped\n",
       "9996  0.390381  104.4375          4      looped\n",
       "9997  0.390625  104.5000          4      looped\n",
       "9998  0.390625   92.0000          4      looped\n",
       "9999  0.390625   94.6875          4      looped"
      ]
     },
     "execution_count": 205,
     "metadata": {},
     "output_type": "execute_result"
    }
   ],
   "source": [
    "pressure_df.tail()"
   ]
  },
  {
   "cell_type": "code",
   "execution_count": 46,
   "id": "b3384eb2-f37a-4232-9eae-f5d4c0c101dd",
   "metadata": {},
   "outputs": [],
   "source": [
    "# pressure_df.Sample.value_counts().plot(kind='bar')"
   ]
  },
  {
   "cell_type": "code",
   "execution_count": 134,
   "id": "c20b8a00-8888-46c5-87b6-82a7fa000ae4",
   "metadata": {},
   "outputs": [
    {
     "data": {
      "text/plain": [
       "0    160000\n",
       "1    160000\n",
       "2    160000\n",
       "3    160000\n",
       "4    160000\n",
       "Name: leak_type, dtype: int64"
      ]
     },
     "execution_count": 134,
     "metadata": {},
     "output_type": "execute_result"
    }
   ],
   "source": [
    "pressure_df.leak_type.value_counts()"
   ]
  },
  {
   "cell_type": "code",
   "execution_count": 147,
   "id": "99dcb031-b4fe-48b3-b658-19675aef789d",
   "metadata": {},
   "outputs": [
    {
     "data": {
      "text/plain": [
       "(800000, 4)"
      ]
     },
     "execution_count": 147,
     "metadata": {},
     "output_type": "execute_result"
    }
   ],
   "source": [
    "pressure_df.shape"
   ]
  },
  {
   "cell_type": "code",
   "execution_count": 206,
   "id": "0787dc3f-45db-4d9f-ae0f-dce9a3e124f9",
   "metadata": {},
   "outputs": [],
   "source": [
    "pressure_df['sensor_type'] = 'pressure'\n",
    "accelerometer_df['sensor_type'] = 'accelerometer'"
   ]
  },
  {
   "cell_type": "code",
   "execution_count": 218,
   "id": "5414c5f0-fc3b-47d7-a032-2dbe8a36d5d5",
   "metadata": {},
   "outputs": [
    {
     "data": {
      "text/plain": [
       "(800000, 5)"
      ]
     },
     "execution_count": 218,
     "metadata": {},
     "output_type": "execute_result"
    }
   ],
   "source": [
    "pressure_df.shape"
   ]
  },
  {
   "cell_type": "code",
   "execution_count": 220,
   "id": "9896caa5-261a-4cc1-a75d-d97849ffbd5b",
   "metadata": {},
   "outputs": [
    {
     "data": {
      "text/html": [
       "<div>\n",
       "<style scoped>\n",
       "    .dataframe tbody tr th:only-of-type {\n",
       "        vertical-align: middle;\n",
       "    }\n",
       "\n",
       "    .dataframe tbody tr th {\n",
       "        vertical-align: top;\n",
       "    }\n",
       "\n",
       "    .dataframe thead th {\n",
       "        text-align: right;\n",
       "    }\n",
       "</style>\n",
       "<table border=\"1\" class=\"dataframe\">\n",
       "  <thead>\n",
       "    <tr style=\"text-align: right;\">\n",
       "      <th></th>\n",
       "      <th>Sample</th>\n",
       "      <th>Value</th>\n",
       "      <th>leak_type</th>\n",
       "      <th>pipe_layout</th>\n",
       "      <th>sensor_type</th>\n",
       "    </tr>\n",
       "  </thead>\n",
       "  <tbody>\n",
       "    <tr>\n",
       "      <th>0</th>\n",
       "      <td>0.000000</td>\n",
       "      <td>-627.500000</td>\n",
       "      <td>0</td>\n",
       "      <td>branched</td>\n",
       "      <td>pressure</td>\n",
       "    </tr>\n",
       "    <tr>\n",
       "      <th>1</th>\n",
       "      <td>0.000039</td>\n",
       "      <td>-713.000000</td>\n",
       "      <td>0</td>\n",
       "      <td>branched</td>\n",
       "      <td>pressure</td>\n",
       "    </tr>\n",
       "    <tr>\n",
       "      <th>2</th>\n",
       "      <td>0.000078</td>\n",
       "      <td>-805.500000</td>\n",
       "      <td>0</td>\n",
       "      <td>branched</td>\n",
       "      <td>pressure</td>\n",
       "    </tr>\n",
       "    <tr>\n",
       "      <th>3</th>\n",
       "      <td>0.000117</td>\n",
       "      <td>-893.500000</td>\n",
       "      <td>0</td>\n",
       "      <td>branched</td>\n",
       "      <td>pressure</td>\n",
       "    </tr>\n",
       "    <tr>\n",
       "      <th>4</th>\n",
       "      <td>0.000156</td>\n",
       "      <td>-990.500000</td>\n",
       "      <td>0</td>\n",
       "      <td>branched</td>\n",
       "      <td>pressure</td>\n",
       "    </tr>\n",
       "    <tr>\n",
       "      <th>...</th>\n",
       "      <td>...</td>\n",
       "      <td>...</td>\n",
       "      <td>...</td>\n",
       "      <td>...</td>\n",
       "      <td>...</td>\n",
       "    </tr>\n",
       "    <tr>\n",
       "      <th>9995</th>\n",
       "      <td>0.390381</td>\n",
       "      <td>0.003660</td>\n",
       "      <td>4</td>\n",
       "      <td>looped</td>\n",
       "      <td>accelerometer</td>\n",
       "    </tr>\n",
       "    <tr>\n",
       "      <th>9996</th>\n",
       "      <td>0.390381</td>\n",
       "      <td>0.003448</td>\n",
       "      <td>4</td>\n",
       "      <td>looped</td>\n",
       "      <td>accelerometer</td>\n",
       "    </tr>\n",
       "    <tr>\n",
       "      <th>9997</th>\n",
       "      <td>0.390625</td>\n",
       "      <td>0.003494</td>\n",
       "      <td>4</td>\n",
       "      <td>looped</td>\n",
       "      <td>accelerometer</td>\n",
       "    </tr>\n",
       "    <tr>\n",
       "      <th>9998</th>\n",
       "      <td>0.390625</td>\n",
       "      <td>0.003296</td>\n",
       "      <td>4</td>\n",
       "      <td>looped</td>\n",
       "      <td>accelerometer</td>\n",
       "    </tr>\n",
       "    <tr>\n",
       "      <th>9999</th>\n",
       "      <td>0.390625</td>\n",
       "      <td>0.003119</td>\n",
       "      <td>4</td>\n",
       "      <td>looped</td>\n",
       "      <td>accelerometer</td>\n",
       "    </tr>\n",
       "  </tbody>\n",
       "</table>\n",
       "<p>1600000 rows × 5 columns</p>\n",
       "</div>"
      ],
      "text/plain": [
       "        Sample       Value  leak_type pipe_layout    sensor_type\n",
       "0     0.000000 -627.500000          0    branched       pressure\n",
       "1     0.000039 -713.000000          0    branched       pressure\n",
       "2     0.000078 -805.500000          0    branched       pressure\n",
       "3     0.000117 -893.500000          0    branched       pressure\n",
       "4     0.000156 -990.500000          0    branched       pressure\n",
       "...        ...         ...        ...         ...            ...\n",
       "9995  0.390381    0.003660          4      looped  accelerometer\n",
       "9996  0.390381    0.003448          4      looped  accelerometer\n",
       "9997  0.390625    0.003494          4      looped  accelerometer\n",
       "9998  0.390625    0.003296          4      looped  accelerometer\n",
       "9999  0.390625    0.003119          4      looped  accelerometer\n",
       "\n",
       "[1600000 rows x 5 columns]"
      ]
     },
     "execution_count": 220,
     "metadata": {},
     "output_type": "execute_result"
    }
   ],
   "source": [
    "transform_dataset = pd.concat([pressure_df, accelerometer_df]) \n",
    "transform_dataset"
   ]
  },
  {
   "cell_type": "code",
   "execution_count": 221,
   "id": "27e3c93f-0704-413a-a029-6b60f930807f",
   "metadata": {},
   "outputs": [
    {
     "data": {
      "text/html": [
       "<div>\n",
       "<style scoped>\n",
       "    .dataframe tbody tr th:only-of-type {\n",
       "        vertical-align: middle;\n",
       "    }\n",
       "\n",
       "    .dataframe tbody tr th {\n",
       "        vertical-align: top;\n",
       "    }\n",
       "\n",
       "    .dataframe thead th {\n",
       "        text-align: right;\n",
       "    }\n",
       "</style>\n",
       "<table border=\"1\" class=\"dataframe\">\n",
       "  <thead>\n",
       "    <tr style=\"text-align: right;\">\n",
       "      <th></th>\n",
       "      <th>Sample</th>\n",
       "      <th>Value</th>\n",
       "      <th>leak_type</th>\n",
       "      <th>pipe_layout</th>\n",
       "      <th>sensor_type</th>\n",
       "    </tr>\n",
       "  </thead>\n",
       "  <tbody>\n",
       "    <tr>\n",
       "      <th>5062</th>\n",
       "      <td>0.197754</td>\n",
       "      <td>-0.004166</td>\n",
       "      <td>0</td>\n",
       "      <td>branched</td>\n",
       "      <td>accelerometer</td>\n",
       "    </tr>\n",
       "    <tr>\n",
       "      <th>9070</th>\n",
       "      <td>0.354248</td>\n",
       "      <td>-0.001893</td>\n",
       "      <td>0</td>\n",
       "      <td>branched</td>\n",
       "      <td>accelerometer</td>\n",
       "    </tr>\n",
       "    <tr>\n",
       "      <th>6955</th>\n",
       "      <td>0.271729</td>\n",
       "      <td>-299.250000</td>\n",
       "      <td>3</td>\n",
       "      <td>branched</td>\n",
       "      <td>pressure</td>\n",
       "    </tr>\n",
       "    <tr>\n",
       "      <th>5382</th>\n",
       "      <td>0.210205</td>\n",
       "      <td>-0.001359</td>\n",
       "      <td>4</td>\n",
       "      <td>looped</td>\n",
       "      <td>accelerometer</td>\n",
       "    </tr>\n",
       "    <tr>\n",
       "      <th>4469</th>\n",
       "      <td>0.174561</td>\n",
       "      <td>-0.000457</td>\n",
       "      <td>4</td>\n",
       "      <td>looped</td>\n",
       "      <td>accelerometer</td>\n",
       "    </tr>\n",
       "    <tr>\n",
       "      <th>2941</th>\n",
       "      <td>0.114868</td>\n",
       "      <td>0.001654</td>\n",
       "      <td>0</td>\n",
       "      <td>looped</td>\n",
       "      <td>accelerometer</td>\n",
       "    </tr>\n",
       "    <tr>\n",
       "      <th>6572</th>\n",
       "      <td>0.256836</td>\n",
       "      <td>-339.250000</td>\n",
       "      <td>2</td>\n",
       "      <td>branched</td>\n",
       "      <td>pressure</td>\n",
       "    </tr>\n",
       "    <tr>\n",
       "      <th>4882</th>\n",
       "      <td>0.190674</td>\n",
       "      <td>-1504.000000</td>\n",
       "      <td>2</td>\n",
       "      <td>looped</td>\n",
       "      <td>pressure</td>\n",
       "    </tr>\n",
       "    <tr>\n",
       "      <th>7927</th>\n",
       "      <td>0.309570</td>\n",
       "      <td>-338.750000</td>\n",
       "      <td>1</td>\n",
       "      <td>looped</td>\n",
       "      <td>pressure</td>\n",
       "    </tr>\n",
       "    <tr>\n",
       "      <th>4456</th>\n",
       "      <td>0.174072</td>\n",
       "      <td>-0.000368</td>\n",
       "      <td>0</td>\n",
       "      <td>branched</td>\n",
       "      <td>accelerometer</td>\n",
       "    </tr>\n",
       "  </tbody>\n",
       "</table>\n",
       "</div>"
      ],
      "text/plain": [
       "        Sample        Value  leak_type pipe_layout    sensor_type\n",
       "5062  0.197754    -0.004166          0    branched  accelerometer\n",
       "9070  0.354248    -0.001893          0    branched  accelerometer\n",
       "6955  0.271729  -299.250000          3    branched       pressure\n",
       "5382  0.210205    -0.001359          4      looped  accelerometer\n",
       "4469  0.174561    -0.000457          4      looped  accelerometer\n",
       "2941  0.114868     0.001654          0      looped  accelerometer\n",
       "6572  0.256836  -339.250000          2    branched       pressure\n",
       "4882  0.190674 -1504.000000          2      looped       pressure\n",
       "7927  0.309570  -338.750000          1      looped       pressure\n",
       "4456  0.174072    -0.000368          0    branched  accelerometer"
      ]
     },
     "execution_count": 221,
     "metadata": {},
     "output_type": "execute_result"
    }
   ],
   "source": [
    "transform_dataset.sample(10)"
   ]
  },
  {
   "cell_type": "code",
   "execution_count": 222,
   "id": "57cf65f0-ea12-400e-96e4-3b126e09c077",
   "metadata": {},
   "outputs": [],
   "source": [
    "transform_dataset.to_csv('pressure_accelorometer.csv', index=False)"
   ]
  },
  {
   "cell_type": "code",
   "execution_count": 48,
   "id": "e809b98d-626e-44e9-ac6c-b3269900d42b",
   "metadata": {},
   "outputs": [],
   "source": [
    "accelerometer_df.to_csv('accelerometer.csv', index=False)\n",
    "pressure_df.to_csv('pressure.csv', index=False)"
   ]
  },
  {
   "cell_type": "code",
   "execution_count": null,
   "id": "b58d4200-28d2-410b-abe2-14c083b818cf",
   "metadata": {},
   "outputs": [],
   "source": []
  },
  {
   "cell_type": "code",
   "execution_count": null,
   "id": "e303f011-4b12-45af-a836-ac2980b76d46",
   "metadata": {},
   "outputs": [],
   "source": [
    "# HyDrophone"
   ]
  },
  {
   "cell_type": "code",
   "execution_count": 53,
   "id": "0309eec5-0474-4146-9b3c-664a57db0af7",
   "metadata": {},
   "outputs": [
    {
     "data": {
      "text/plain": [
       "WindowsPath('dataset/dataset 5/Hydrophone')"
      ]
     },
     "execution_count": 53,
     "metadata": {},
     "output_type": "execute_result"
    }
   ],
   "source": [
    "hydro_path = 'dataset/dataset 5/Hydrophone/'\n",
    "hydro_win = pathlib.Path(hydro_path)\n",
    "hydro_win"
   ]
  },
  {
   "cell_type": "code",
   "execution_count": 58,
   "id": "40f581a2-7b4b-4b40-b459-eec477f56217",
   "metadata": {},
   "outputs": [],
   "source": [
    "_, branched_win, loop_win = list(hydro_win.glob('*'))"
   ]
  },
  {
   "cell_type": "code",
   "execution_count": 60,
   "id": "0558456a-69e9-437d-b02e-d8b470f4fa16",
   "metadata": {},
   "outputs": [
    {
     "data": {
      "text/plain": [
       "WindowsPath('dataset/dataset 5/Hydrophone/Looped')"
      ]
     },
     "execution_count": 60,
     "metadata": {},
     "output_type": "execute_result"
    }
   ],
   "source": [
    "loop_win"
   ]
  },
  {
   "cell_type": "code",
   "execution_count": 67,
   "id": "35c41c34-61a4-4a09-9155-61fc554bd374",
   "metadata": {},
   "outputs": [],
   "source": [
    "hydro_loop_file_dict = {\n",
    "    leak_type[0]: [], \n",
    "    leak_type[1]: [], \n",
    "     leak_type[2]: [], \n",
    "     leak_type[3]: [] , \n",
    "    leak_type[4]: [], \n",
    "}\n",
    "\n",
    "hydro_branch_file_dict = {\n",
    "    leak_type[0]: [], \n",
    "    leak_type[1]: [], \n",
    "     leak_type[2]: [], \n",
    "     leak_type[3]: [] , \n",
    "    leak_type[4]: [], \n",
    "}\n",
    "\n",
    "\n",
    "hydro_lbl_dict  = {\n",
    "    leak_type[0]: 0, \n",
    "    leak_type[1]: 1, \n",
    "     leak_type[2]: 2, \n",
    "     leak_type[3]: 3 , \n",
    "    leak_type[4]: 4,\n",
    "}\n",
    "\n",
    "\n",
    "\n",
    "# for key, path in pressured_data.items(): \n",
    "for win in list(loop_win.glob('*/*.*')): \n",
    "    for leak in leak_type:\n",
    "        if leak in str(win):\n",
    "            hydro_loop_file_dict[leak].append(str(win))        \n",
    "\n",
    "\n",
    "# for key, path in pressured_data.items(): \n",
    "for win in list(branched_win.glob('*/*.*')): \n",
    "    for leak in leak_type:\n",
    "        if leak in str(win):\n",
    "           hydro_branch_file_dict[leak].append(str(win))  "
   ]
  },
  {
   "cell_type": "code",
   "execution_count": 71,
   "id": "d288b098-47df-4838-87f8-ebd80a44295e",
   "metadata": {},
   "outputs": [
    {
     "data": {
      "text/plain": [
       "['dataset\\\\dataset 5\\\\Hydrophone\\\\Looped\\\\Circumferential Crack\\\\LO_CC_0.18 LPS_N_H1.raw',\n",
       " 'dataset\\\\dataset 5\\\\Hydrophone\\\\Looped\\\\Circumferential Crack\\\\LO_CC_0.18 LPS_N_H2.raw',\n",
       " 'dataset\\\\dataset 5\\\\Hydrophone\\\\Looped\\\\Circumferential Crack\\\\LO_CC_0.47 LPS_N_H1.raw',\n",
       " 'dataset\\\\dataset 5\\\\Hydrophone\\\\Looped\\\\Circumferential Crack\\\\LO_CC_0.47 LPS_N_H2.raw',\n",
       " 'dataset\\\\dataset 5\\\\Hydrophone\\\\Looped\\\\Circumferential Crack\\\\LO_CC_ND_NN_H1.raw',\n",
       " 'dataset\\\\dataset 5\\\\Hydrophone\\\\Looped\\\\Circumferential Crack\\\\LO_CC_ND_NN_H2.raw',\n",
       " 'dataset\\\\dataset 5\\\\Hydrophone\\\\Looped\\\\Circumferential Crack\\\\LO_CC_ND_N_H1.raw',\n",
       " 'dataset\\\\dataset 5\\\\Hydrophone\\\\Looped\\\\Circumferential Crack\\\\LO_CC_ND_N_H2.raw',\n",
       " 'dataset\\\\dataset 5\\\\Hydrophone\\\\Looped\\\\Circumferential Crack\\\\LO_CC_Transient_NN_H1.raw',\n",
       " 'dataset\\\\dataset 5\\\\Hydrophone\\\\Looped\\\\Circumferential Crack\\\\LO_CC_Transient_NN_H2.raw',\n",
       " 'dataset\\\\dataset 5\\\\Hydrophone\\\\Looped\\\\Circumferential Crack\\\\LO_CC_Transient_N_H1.raw',\n",
       " 'dataset\\\\dataset 5\\\\Hydrophone\\\\Looped\\\\Circumferential Crack\\\\LO_CC_Transient_N_H2.raw']"
      ]
     },
     "execution_count": 71,
     "metadata": {},
     "output_type": "execute_result"
    }
   ],
   "source": [
    "hydro_loop_file_dict['Circumferential Crack']"
   ]
  },
  {
   "cell_type": "code",
   "execution_count": 83,
   "id": "3b8632e1-85d4-426e-ab7f-7c1c7c90cabe",
   "metadata": {},
   "outputs": [
    {
     "data": {
      "text/plain": [
       "'dataset\\\\dataset 5\\\\Hydrophone\\\\Branched\\\\Circumferential Crack'"
      ]
     },
     "execution_count": 83,
     "metadata": {},
     "output_type": "execute_result"
    }
   ],
   "source": [
    "samp = list(branched_win.glob('*'))[0]\n",
    "str(samp)"
   ]
  },
  {
   "cell_type": "code",
   "execution_count": 180,
   "id": "ebdc2c81-8a04-4568-b041-53b2908d992e",
   "metadata": {},
   "outputs": [],
   "source": [
    "import os\n",
    "import pandas as pd\n",
    "import soundfile as sf\n",
    "\"\"\"\n",
    "class for reading RAW acoustic reads, whihc returns a time series as two \n",
    "datetime and value arrays.\n",
    "\"\"\"\n",
    "class RAWSource(object):\n",
    "    def __init__(self, **kwargs):\n",
    "        super(RAWSource, self).__init__(**kwargs)\n",
    "    def raw_to_time_series(self, raw_file_path, channels=1, samplerate=8000, \n",
    "                            subtype='PCM_32', endian='LITTLE'):\n",
    "        signal_raw = sf.read(raw_file_path, channels=channels, \n",
    "                                samplerate=samplerate, subtype=subtype, \n",
    "                                endian=endian)\n",
    "        signal = signal_raw[0]\n",
    "        return signal\n",
    "\"\"\"\n",
    "Function to convert the RAWSource outputs to a pandas Dataframe.\n",
    "\"\"\" \n",
    "def read_raw_to_signals(directory):\n",
    "    raw_reader = RAWSource()\n",
    "    with os.scandir(directory) as entries:\n",
    "        ID = []\n",
    "        S = []\n",
    "        for entry in entries:\n",
    "            s = raw_reader.raw_to_time_series(entry)\n",
    "            id = entry.name.split('.')[0]\n",
    "            ID.append(id)\n",
    "            S.append(s)\n",
    "    d = {ID[0]: pd.Series(S[0]),\n",
    "            ID[1]: pd.Series(S[1])}\n",
    "    \"\"\"\n",
    "    here, d includes two acoustic signals in the Ambient Sound folder.\n",
    "    For acoustic data in the Hydrophone folder, d should be the following.\n",
    "    d = {ID[0]: pd.Series(S[0]),ID[1]: pd.Series(S[1]),ID[2]: pd.Series(S[2]),\n",
    "    ID[3]: pd.Series(S[3]),ID[4]: pd.Series(S[4]),ID[5]: pd.Series(S[5]),\n",
    "    ID[6]: pd.Series(S[6]),ID[7]: pd.Series(S[7]),ID[8]: pd.Series(S[8]),\n",
    "    ID[9]: pd.Series(S[9]),ID[10]: pd.Series(S[10]),ID[11]: pd.Series(S[11])}\n",
    "    \"\"\"\n",
    "    df_data = pd.DataFrame(d)\n",
    "    df_data = df_data.sample(80000)\n",
    "\n",
    "    return df_data"
   ]
  },
  {
   "cell_type": "code",
   "execution_count": 181,
   "id": "cecf9a61-a7b6-4211-8ed7-9c6a66ae60b2",
   "metadata": {},
   "outputs": [
    {
     "data": {
      "text/html": [
       "<div>\n",
       "<style scoped>\n",
       "    .dataframe tbody tr th:only-of-type {\n",
       "        vertical-align: middle;\n",
       "    }\n",
       "\n",
       "    .dataframe tbody tr th {\n",
       "        vertical-align: top;\n",
       "    }\n",
       "\n",
       "    .dataframe thead th {\n",
       "        text-align: right;\n",
       "    }\n",
       "</style>\n",
       "<table border=\"1\" class=\"dataframe\">\n",
       "  <thead>\n",
       "    <tr style=\"text-align: right;\">\n",
       "      <th></th>\n",
       "      <th>BR_CC_0</th>\n",
       "    </tr>\n",
       "  </thead>\n",
       "  <tbody>\n",
       "    <tr>\n",
       "      <th>219382</th>\n",
       "      <td>0.049042</td>\n",
       "    </tr>\n",
       "    <tr>\n",
       "      <th>254617</th>\n",
       "      <td>0.038025</td>\n",
       "    </tr>\n",
       "    <tr>\n",
       "      <th>17505</th>\n",
       "      <td>0.100220</td>\n",
       "    </tr>\n",
       "    <tr>\n",
       "      <th>104872</th>\n",
       "      <td>-0.037292</td>\n",
       "    </tr>\n",
       "    <tr>\n",
       "      <th>123622</th>\n",
       "      <td>0.019867</td>\n",
       "    </tr>\n",
       "    <tr>\n",
       "      <th>...</th>\n",
       "      <td>...</td>\n",
       "    </tr>\n",
       "    <tr>\n",
       "      <th>79625</th>\n",
       "      <td>-0.095947</td>\n",
       "    </tr>\n",
       "    <tr>\n",
       "      <th>96264</th>\n",
       "      <td>-0.121429</td>\n",
       "    </tr>\n",
       "    <tr>\n",
       "      <th>190741</th>\n",
       "      <td>0.115875</td>\n",
       "    </tr>\n",
       "    <tr>\n",
       "      <th>197862</th>\n",
       "      <td>0.083435</td>\n",
       "    </tr>\n",
       "    <tr>\n",
       "      <th>188535</th>\n",
       "      <td>-0.040314</td>\n",
       "    </tr>\n",
       "  </tbody>\n",
       "</table>\n",
       "<p>80000 rows × 1 columns</p>\n",
       "</div>"
      ],
      "text/plain": [
       "         BR_CC_0\n",
       "219382  0.049042\n",
       "254617  0.038025\n",
       "17505   0.100220\n",
       "104872 -0.037292\n",
       "123622  0.019867\n",
       "...          ...\n",
       "79625  -0.095947\n",
       "96264  -0.121429\n",
       "190741  0.115875\n",
       "197862  0.083435\n",
       "188535 -0.040314\n",
       "\n",
       "[80000 rows x 1 columns]"
      ]
     },
     "execution_count": 181,
     "metadata": {},
     "output_type": "execute_result"
    }
   ],
   "source": [
    "read_raw_to_signals(str(samp))"
   ]
  },
  {
   "cell_type": "code",
   "execution_count": 182,
   "id": "e3400d9c-79ed-4a0d-8ec1-ddbb869af41c",
   "metadata": {},
   "outputs": [],
   "source": [
    "branched_path = [str(f) for f in list(branched_win.glob('*'))]\n",
    "loop_path = [str(f) for f in list(loop_win.glob('*'))]"
   ]
  },
  {
   "cell_type": "code",
   "execution_count": 183,
   "id": "f5a2d0b1-5693-42f4-b282-2b792274bc92",
   "metadata": {},
   "outputs": [
    {
     "data": {
      "text/plain": [
       "['dataset\\\\dataset 5\\\\Hydrophone\\\\Branched\\\\Circumferential Crack',\n",
       " 'dataset\\\\dataset 5\\\\Hydrophone\\\\Branched\\\\Gasket Leak',\n",
       " 'dataset\\\\dataset 5\\\\Hydrophone\\\\Branched\\\\Longitudinal Crack',\n",
       " 'dataset\\\\dataset 5\\\\Hydrophone\\\\Branched\\\\No-leak',\n",
       " 'dataset\\\\dataset 5\\\\Hydrophone\\\\Branched\\\\Orifice Leak']"
      ]
     },
     "execution_count": 183,
     "metadata": {},
     "output_type": "execute_result"
    }
   ],
   "source": [
    "branched_path"
   ]
  },
  {
   "cell_type": "code",
   "execution_count": 184,
   "id": "d52b239a-8f19-4765-aed7-12a66ad7f13f",
   "metadata": {},
   "outputs": [
    {
     "data": {
      "text/plain": [
       "'Circumferential Crack'"
      ]
     },
     "execution_count": 184,
     "metadata": {},
     "output_type": "execute_result"
    }
   ],
   "source": [
    "branched_path[0].split('\\\\')[-1]"
   ]
  },
  {
   "cell_type": "code",
   "execution_count": 195,
   "id": "c4e7bc84-4f91-4d77-8cd6-0452eefbeeda",
   "metadata": {},
   "outputs": [],
   "source": [
    "hydro_pdlist_branch = []\n",
    "for path in branched_path:\n",
    "    df = read_raw_to_signals(path)\n",
    "    df.columns = [0]\n",
    "    df['leak_type'] = path.split('\\\\')[-1]\n",
    "    hydro_pdlist_branch.append(df)\n",
    "    \n",
    "hydro_pdlist_loop = []\n",
    "for path in loop_path:\n",
    "    df = read_raw_to_signals(path)\n",
    "    df.columns = [0]\n",
    "    df['leak_type'] = path.split('\\\\')[-1]\n",
    "    hydro_pdlist_loop.append(df)"
   ]
  },
  {
   "cell_type": "code",
   "execution_count": 196,
   "id": "76aede93-fb66-4cf0-bf15-2730a2266a08",
   "metadata": {},
   "outputs": [],
   "source": [
    "branch_df_hydro = pd.concat(hydro_pdlist_branch)\n",
    "loop_df_hydro = pd.concat(hydro_pdlist_loop)"
   ]
  },
  {
   "cell_type": "code",
   "execution_count": 197,
   "id": "d06e98f9-d3ac-4cf5-95ec-5182e0279ab5",
   "metadata": {},
   "outputs": [],
   "source": [
    "branch_df_hydro['pipe_layout'] = 'branched'\n",
    "loop_df_hydro['pipe_layout'] = 'looped'"
   ]
  },
  {
   "cell_type": "code",
   "execution_count": 198,
   "id": "8ec1fb00-8578-4a1a-8bc9-cb4134ed26a9",
   "metadata": {},
   "outputs": [],
   "source": [
    "branch_df_hydro.rename(columns={0:'Value'}, inplace=True)"
   ]
  },
  {
   "cell_type": "code",
   "execution_count": 199,
   "id": "14118377-e910-4ab4-a068-82ec2068ab53",
   "metadata": {},
   "outputs": [],
   "source": [
    "loop_df_hydro.rename(columns={0:'Value'}, inplace=True)"
   ]
  },
  {
   "cell_type": "code",
   "execution_count": 200,
   "id": "7178a6c0-2a9a-4c23-bea9-813d08a8f88c",
   "metadata": {},
   "outputs": [
    {
     "data": {
      "text/html": [
       "<div>\n",
       "<style scoped>\n",
       "    .dataframe tbody tr th:only-of-type {\n",
       "        vertical-align: middle;\n",
       "    }\n",
       "\n",
       "    .dataframe tbody tr th {\n",
       "        vertical-align: top;\n",
       "    }\n",
       "\n",
       "    .dataframe thead th {\n",
       "        text-align: right;\n",
       "    }\n",
       "</style>\n",
       "<table border=\"1\" class=\"dataframe\">\n",
       "  <thead>\n",
       "    <tr style=\"text-align: right;\">\n",
       "      <th></th>\n",
       "      <th>Value</th>\n",
       "      <th>leak_type</th>\n",
       "      <th>pipe_layout</th>\n",
       "    </tr>\n",
       "  </thead>\n",
       "  <tbody>\n",
       "    <tr>\n",
       "      <th>263288</th>\n",
       "      <td>0.056732</td>\n",
       "      <td>Circumferential Crack</td>\n",
       "      <td>branched</td>\n",
       "    </tr>\n",
       "    <tr>\n",
       "      <th>90930</th>\n",
       "      <td>0.144531</td>\n",
       "      <td>Circumferential Crack</td>\n",
       "      <td>branched</td>\n",
       "    </tr>\n",
       "    <tr>\n",
       "      <th>321144</th>\n",
       "      <td>0.238281</td>\n",
       "      <td>Circumferential Crack</td>\n",
       "      <td>branched</td>\n",
       "    </tr>\n",
       "    <tr>\n",
       "      <th>189220</th>\n",
       "      <td>-0.002594</td>\n",
       "      <td>Circumferential Crack</td>\n",
       "      <td>branched</td>\n",
       "    </tr>\n",
       "    <tr>\n",
       "      <th>218266</th>\n",
       "      <td>0.054169</td>\n",
       "      <td>Circumferential Crack</td>\n",
       "      <td>branched</td>\n",
       "    </tr>\n",
       "    <tr>\n",
       "      <th>...</th>\n",
       "      <td>...</td>\n",
       "      <td>...</td>\n",
       "      <td>...</td>\n",
       "    </tr>\n",
       "    <tr>\n",
       "      <th>224242</th>\n",
       "      <td>0.183929</td>\n",
       "      <td>Orifice Leak</td>\n",
       "      <td>branched</td>\n",
       "    </tr>\n",
       "    <tr>\n",
       "      <th>147848</th>\n",
       "      <td>0.239471</td>\n",
       "      <td>Orifice Leak</td>\n",
       "      <td>branched</td>\n",
       "    </tr>\n",
       "    <tr>\n",
       "      <th>208394</th>\n",
       "      <td>-0.041382</td>\n",
       "      <td>Orifice Leak</td>\n",
       "      <td>branched</td>\n",
       "    </tr>\n",
       "    <tr>\n",
       "      <th>176095</th>\n",
       "      <td>-0.073395</td>\n",
       "      <td>Orifice Leak</td>\n",
       "      <td>branched</td>\n",
       "    </tr>\n",
       "    <tr>\n",
       "      <th>86472</th>\n",
       "      <td>-0.337860</td>\n",
       "      <td>Orifice Leak</td>\n",
       "      <td>branched</td>\n",
       "    </tr>\n",
       "  </tbody>\n",
       "</table>\n",
       "<p>400000 rows × 3 columns</p>\n",
       "</div>"
      ],
      "text/plain": [
       "           Value              leak_type pipe_layout\n",
       "263288  0.056732  Circumferential Crack    branched\n",
       "90930   0.144531  Circumferential Crack    branched\n",
       "321144  0.238281  Circumferential Crack    branched\n",
       "189220 -0.002594  Circumferential Crack    branched\n",
       "218266  0.054169  Circumferential Crack    branched\n",
       "...          ...                    ...         ...\n",
       "224242  0.183929           Orifice Leak    branched\n",
       "147848  0.239471           Orifice Leak    branched\n",
       "208394 -0.041382           Orifice Leak    branched\n",
       "176095 -0.073395           Orifice Leak    branched\n",
       "86472  -0.337860           Orifice Leak    branched\n",
       "\n",
       "[400000 rows x 3 columns]"
      ]
     },
     "execution_count": 200,
     "metadata": {},
     "output_type": "execute_result"
    }
   ],
   "source": [
    "branch_df_hydro"
   ]
  },
  {
   "cell_type": "code",
   "execution_count": 201,
   "id": "bf2c9156-7bd8-4281-985b-45ee7665ede4",
   "metadata": {},
   "outputs": [
    {
     "data": {
      "text/html": [
       "<div>\n",
       "<style scoped>\n",
       "    .dataframe tbody tr th:only-of-type {\n",
       "        vertical-align: middle;\n",
       "    }\n",
       "\n",
       "    .dataframe tbody tr th {\n",
       "        vertical-align: top;\n",
       "    }\n",
       "\n",
       "    .dataframe thead th {\n",
       "        text-align: right;\n",
       "    }\n",
       "</style>\n",
       "<table border=\"1\" class=\"dataframe\">\n",
       "  <thead>\n",
       "    <tr style=\"text-align: right;\">\n",
       "      <th></th>\n",
       "      <th>Value</th>\n",
       "      <th>leak_type</th>\n",
       "      <th>pipe_layout</th>\n",
       "    </tr>\n",
       "  </thead>\n",
       "  <tbody>\n",
       "    <tr>\n",
       "      <th>241138</th>\n",
       "      <td>-0.238617</td>\n",
       "      <td>Circumferential Crack</td>\n",
       "      <td>looped</td>\n",
       "    </tr>\n",
       "    <tr>\n",
       "      <th>220900</th>\n",
       "      <td>-0.120972</td>\n",
       "      <td>Circumferential Crack</td>\n",
       "      <td>looped</td>\n",
       "    </tr>\n",
       "    <tr>\n",
       "      <th>1513</th>\n",
       "      <td>0.022125</td>\n",
       "      <td>Circumferential Crack</td>\n",
       "      <td>looped</td>\n",
       "    </tr>\n",
       "    <tr>\n",
       "      <th>4630</th>\n",
       "      <td>-0.087982</td>\n",
       "      <td>Circumferential Crack</td>\n",
       "      <td>looped</td>\n",
       "    </tr>\n",
       "    <tr>\n",
       "      <th>7615</th>\n",
       "      <td>-0.127838</td>\n",
       "      <td>Circumferential Crack</td>\n",
       "      <td>looped</td>\n",
       "    </tr>\n",
       "    <tr>\n",
       "      <th>...</th>\n",
       "      <td>...</td>\n",
       "      <td>...</td>\n",
       "      <td>...</td>\n",
       "    </tr>\n",
       "    <tr>\n",
       "      <th>37756</th>\n",
       "      <td>0.058197</td>\n",
       "      <td>Orifice Leak</td>\n",
       "      <td>looped</td>\n",
       "    </tr>\n",
       "    <tr>\n",
       "      <th>139568</th>\n",
       "      <td>-0.015442</td>\n",
       "      <td>Orifice Leak</td>\n",
       "      <td>looped</td>\n",
       "    </tr>\n",
       "    <tr>\n",
       "      <th>46900</th>\n",
       "      <td>0.160309</td>\n",
       "      <td>Orifice Leak</td>\n",
       "      <td>looped</td>\n",
       "    </tr>\n",
       "    <tr>\n",
       "      <th>254784</th>\n",
       "      <td>0.136871</td>\n",
       "      <td>Orifice Leak</td>\n",
       "      <td>looped</td>\n",
       "    </tr>\n",
       "    <tr>\n",
       "      <th>50535</th>\n",
       "      <td>-0.176056</td>\n",
       "      <td>Orifice Leak</td>\n",
       "      <td>looped</td>\n",
       "    </tr>\n",
       "  </tbody>\n",
       "</table>\n",
       "<p>400000 rows × 3 columns</p>\n",
       "</div>"
      ],
      "text/plain": [
       "           Value              leak_type pipe_layout\n",
       "241138 -0.238617  Circumferential Crack      looped\n",
       "220900 -0.120972  Circumferential Crack      looped\n",
       "1513    0.022125  Circumferential Crack      looped\n",
       "4630   -0.087982  Circumferential Crack      looped\n",
       "7615   -0.127838  Circumferential Crack      looped\n",
       "...          ...                    ...         ...\n",
       "37756   0.058197           Orifice Leak      looped\n",
       "139568 -0.015442           Orifice Leak      looped\n",
       "46900   0.160309           Orifice Leak      looped\n",
       "254784  0.136871           Orifice Leak      looped\n",
       "50535  -0.176056           Orifice Leak      looped\n",
       "\n",
       "[400000 rows x 3 columns]"
      ]
     },
     "execution_count": 201,
     "metadata": {},
     "output_type": "execute_result"
    }
   ],
   "source": [
    "loop_df_hydro"
   ]
  },
  {
   "cell_type": "code",
   "execution_count": 202,
   "id": "e48eda6b-d9da-4e94-b3af-6b5df6c4e78d",
   "metadata": {},
   "outputs": [
    {
     "data": {
      "text/plain": [
       "Circumferential Crack    80000\n",
       "Gasket Leak              80000\n",
       "Longitudinal Crack       80000\n",
       "No-leak                  80000\n",
       "Orifice Leak             80000\n",
       "Name: leak_type, dtype: int64"
      ]
     },
     "execution_count": 202,
     "metadata": {},
     "output_type": "execute_result"
    }
   ],
   "source": [
    "loop_df_hydro.leak_type.value_counts()"
   ]
  },
  {
   "cell_type": "code",
   "execution_count": 203,
   "id": "7ae49247-b86c-4dfb-9b0c-c0b8a009ebff",
   "metadata": {},
   "outputs": [
    {
     "data": {
      "text/html": [
       "<div>\n",
       "<style scoped>\n",
       "    .dataframe tbody tr th:only-of-type {\n",
       "        vertical-align: middle;\n",
       "    }\n",
       "\n",
       "    .dataframe tbody tr th {\n",
       "        vertical-align: top;\n",
       "    }\n",
       "\n",
       "    .dataframe thead th {\n",
       "        text-align: right;\n",
       "    }\n",
       "</style>\n",
       "<table border=\"1\" class=\"dataframe\">\n",
       "  <thead>\n",
       "    <tr style=\"text-align: right;\">\n",
       "      <th></th>\n",
       "      <th>Value</th>\n",
       "      <th>leak_type</th>\n",
       "      <th>pipe_layout</th>\n",
       "    </tr>\n",
       "  </thead>\n",
       "  <tbody>\n",
       "    <tr>\n",
       "      <th>263288</th>\n",
       "      <td>0.056732</td>\n",
       "      <td>Circumferential Crack</td>\n",
       "      <td>branched</td>\n",
       "    </tr>\n",
       "    <tr>\n",
       "      <th>90930</th>\n",
       "      <td>0.144531</td>\n",
       "      <td>Circumferential Crack</td>\n",
       "      <td>branched</td>\n",
       "    </tr>\n",
       "    <tr>\n",
       "      <th>321144</th>\n",
       "      <td>0.238281</td>\n",
       "      <td>Circumferential Crack</td>\n",
       "      <td>branched</td>\n",
       "    </tr>\n",
       "    <tr>\n",
       "      <th>189220</th>\n",
       "      <td>-0.002594</td>\n",
       "      <td>Circumferential Crack</td>\n",
       "      <td>branched</td>\n",
       "    </tr>\n",
       "    <tr>\n",
       "      <th>218266</th>\n",
       "      <td>0.054169</td>\n",
       "      <td>Circumferential Crack</td>\n",
       "      <td>branched</td>\n",
       "    </tr>\n",
       "    <tr>\n",
       "      <th>...</th>\n",
       "      <td>...</td>\n",
       "      <td>...</td>\n",
       "      <td>...</td>\n",
       "    </tr>\n",
       "    <tr>\n",
       "      <th>37756</th>\n",
       "      <td>0.058197</td>\n",
       "      <td>Orifice Leak</td>\n",
       "      <td>looped</td>\n",
       "    </tr>\n",
       "    <tr>\n",
       "      <th>139568</th>\n",
       "      <td>-0.015442</td>\n",
       "      <td>Orifice Leak</td>\n",
       "      <td>looped</td>\n",
       "    </tr>\n",
       "    <tr>\n",
       "      <th>46900</th>\n",
       "      <td>0.160309</td>\n",
       "      <td>Orifice Leak</td>\n",
       "      <td>looped</td>\n",
       "    </tr>\n",
       "    <tr>\n",
       "      <th>254784</th>\n",
       "      <td>0.136871</td>\n",
       "      <td>Orifice Leak</td>\n",
       "      <td>looped</td>\n",
       "    </tr>\n",
       "    <tr>\n",
       "      <th>50535</th>\n",
       "      <td>-0.176056</td>\n",
       "      <td>Orifice Leak</td>\n",
       "      <td>looped</td>\n",
       "    </tr>\n",
       "  </tbody>\n",
       "</table>\n",
       "<p>800000 rows × 3 columns</p>\n",
       "</div>"
      ],
      "text/plain": [
       "           Value              leak_type pipe_layout\n",
       "263288  0.056732  Circumferential Crack    branched\n",
       "90930   0.144531  Circumferential Crack    branched\n",
       "321144  0.238281  Circumferential Crack    branched\n",
       "189220 -0.002594  Circumferential Crack    branched\n",
       "218266  0.054169  Circumferential Crack    branched\n",
       "...          ...                    ...         ...\n",
       "37756   0.058197           Orifice Leak      looped\n",
       "139568 -0.015442           Orifice Leak      looped\n",
       "46900   0.160309           Orifice Leak      looped\n",
       "254784  0.136871           Orifice Leak      looped\n",
       "50535  -0.176056           Orifice Leak      looped\n",
       "\n",
       "[800000 rows x 3 columns]"
      ]
     },
     "execution_count": 203,
     "metadata": {},
     "output_type": "execute_result"
    }
   ],
   "source": [
    "hydrophone_df = pd.concat([branch_df_hydro, loop_df_hydro])\n",
    "hydrophone_df"
   ]
  },
  {
   "cell_type": "code",
   "execution_count": 204,
   "id": "3e9bc40d-5365-4d76-aead-31492aefb25f",
   "metadata": {},
   "outputs": [],
   "source": [
    "hydrophone_df.to_csv('hydrophone.csv', index=False)"
   ]
  },
  {
   "cell_type": "code",
   "execution_count": 161,
   "id": "d62cf21f-ece0-4cbe-b3c9-1b1fcf3f2d22",
   "metadata": {},
   "outputs": [
    {
     "data": {
      "text/plain": [
       "(800000, 4)"
      ]
     },
     "execution_count": 161,
     "metadata": {},
     "output_type": "execute_result"
    }
   ],
   "source": [
    "pressure_df.shape"
   ]
  },
  {
   "cell_type": "markdown",
   "id": "13da5fa9-1b7d-4348-a85f-b6fd76665fae",
   "metadata": {},
   "source": [
    "### DATA RELODER"
   ]
  },
  {
   "cell_type": "code",
   "execution_count": 1,
   "id": "942cd2bb-be50-47d7-98a5-61c930c84c7f",
   "metadata": {},
   "outputs": [
    {
     "data": {
      "text/html": [
       "<div>\n",
       "<style scoped>\n",
       "    .dataframe tbody tr th:only-of-type {\n",
       "        vertical-align: middle;\n",
       "    }\n",
       "\n",
       "    .dataframe tbody tr th {\n",
       "        vertical-align: top;\n",
       "    }\n",
       "\n",
       "    .dataframe thead th {\n",
       "        text-align: right;\n",
       "    }\n",
       "</style>\n",
       "<table border=\"1\" class=\"dataframe\">\n",
       "  <thead>\n",
       "    <tr style=\"text-align: right;\">\n",
       "      <th></th>\n",
       "      <th>Sample</th>\n",
       "      <th>Value</th>\n",
       "      <th>leak_type</th>\n",
       "      <th>pipe_layout</th>\n",
       "      <th>sensor_type</th>\n",
       "    </tr>\n",
       "  </thead>\n",
       "  <tbody>\n",
       "    <tr>\n",
       "      <th>0</th>\n",
       "      <td>0.000000</td>\n",
       "      <td>-627.500000</td>\n",
       "      <td>0</td>\n",
       "      <td>branched</td>\n",
       "      <td>pressure</td>\n",
       "    </tr>\n",
       "    <tr>\n",
       "      <th>1</th>\n",
       "      <td>0.000039</td>\n",
       "      <td>-713.000000</td>\n",
       "      <td>0</td>\n",
       "      <td>branched</td>\n",
       "      <td>pressure</td>\n",
       "    </tr>\n",
       "    <tr>\n",
       "      <th>2</th>\n",
       "      <td>0.000078</td>\n",
       "      <td>-805.500000</td>\n",
       "      <td>0</td>\n",
       "      <td>branched</td>\n",
       "      <td>pressure</td>\n",
       "    </tr>\n",
       "    <tr>\n",
       "      <th>3</th>\n",
       "      <td>0.000117</td>\n",
       "      <td>-893.500000</td>\n",
       "      <td>0</td>\n",
       "      <td>branched</td>\n",
       "      <td>pressure</td>\n",
       "    </tr>\n",
       "    <tr>\n",
       "      <th>4</th>\n",
       "      <td>0.000156</td>\n",
       "      <td>-990.500000</td>\n",
       "      <td>0</td>\n",
       "      <td>branched</td>\n",
       "      <td>pressure</td>\n",
       "    </tr>\n",
       "    <tr>\n",
       "      <th>...</th>\n",
       "      <td>...</td>\n",
       "      <td>...</td>\n",
       "      <td>...</td>\n",
       "      <td>...</td>\n",
       "      <td>...</td>\n",
       "    </tr>\n",
       "    <tr>\n",
       "      <th>1599995</th>\n",
       "      <td>0.390400</td>\n",
       "      <td>0.003660</td>\n",
       "      <td>4</td>\n",
       "      <td>looped</td>\n",
       "      <td>accelerometer</td>\n",
       "    </tr>\n",
       "    <tr>\n",
       "      <th>1599996</th>\n",
       "      <td>0.390400</td>\n",
       "      <td>0.003448</td>\n",
       "      <td>4</td>\n",
       "      <td>looped</td>\n",
       "      <td>accelerometer</td>\n",
       "    </tr>\n",
       "    <tr>\n",
       "      <th>1599997</th>\n",
       "      <td>0.390600</td>\n",
       "      <td>0.003494</td>\n",
       "      <td>4</td>\n",
       "      <td>looped</td>\n",
       "      <td>accelerometer</td>\n",
       "    </tr>\n",
       "    <tr>\n",
       "      <th>1599998</th>\n",
       "      <td>0.390600</td>\n",
       "      <td>0.003296</td>\n",
       "      <td>4</td>\n",
       "      <td>looped</td>\n",
       "      <td>accelerometer</td>\n",
       "    </tr>\n",
       "    <tr>\n",
       "      <th>1599999</th>\n",
       "      <td>0.390600</td>\n",
       "      <td>0.003119</td>\n",
       "      <td>4</td>\n",
       "      <td>looped</td>\n",
       "      <td>accelerometer</td>\n",
       "    </tr>\n",
       "  </tbody>\n",
       "</table>\n",
       "<p>1600000 rows × 5 columns</p>\n",
       "</div>"
      ],
      "text/plain": [
       "           Sample       Value  leak_type pipe_layout    sensor_type\n",
       "0        0.000000 -627.500000          0    branched       pressure\n",
       "1        0.000039 -713.000000          0    branched       pressure\n",
       "2        0.000078 -805.500000          0    branched       pressure\n",
       "3        0.000117 -893.500000          0    branched       pressure\n",
       "4        0.000156 -990.500000          0    branched       pressure\n",
       "...           ...         ...        ...         ...            ...\n",
       "1599995  0.390400    0.003660          4      looped  accelerometer\n",
       "1599996  0.390400    0.003448          4      looped  accelerometer\n",
       "1599997  0.390600    0.003494          4      looped  accelerometer\n",
       "1599998  0.390600    0.003296          4      looped  accelerometer\n",
       "1599999  0.390600    0.003119          4      looped  accelerometer\n",
       "\n",
       "[1600000 rows x 5 columns]"
      ]
     },
     "execution_count": 1,
     "metadata": {},
     "output_type": "execute_result"
    }
   ],
   "source": [
    "import pandas as pd \n",
    "\n",
    "dataset = pd.read_csv('pressure_accelorometer.csv')\n",
    "dataset"
   ]
  },
  {
   "cell_type": "code",
   "execution_count": 4,
   "id": "521f34db-b04f-4bca-92f4-3e5ae523beb7",
   "metadata": {},
   "outputs": [
    {
     "data": {
      "text/plain": [
       "array(['branched', 'looped'], dtype=object)"
      ]
     },
     "execution_count": 4,
     "metadata": {},
     "output_type": "execute_result"
    }
   ],
   "source": [
    "dataset.pipe_layout.unique()"
   ]
  },
  {
   "cell_type": "code",
   "execution_count": 6,
   "id": "362cedf6-8c97-4abf-a24d-5527dfaa678c",
   "metadata": {},
   "outputs": [
    {
     "data": {
      "text/plain": [
       "array(['pressure', 'accelerometer'], dtype=object)"
      ]
     },
     "execution_count": 6,
     "metadata": {},
     "output_type": "execute_result"
    }
   ],
   "source": [
    "dataset.sensor_type.unique()"
   ]
  },
  {
   "cell_type": "code",
   "execution_count": 11,
   "id": "ea6dded6-cc54-4379-a3f9-273826e25ed3",
   "metadata": {},
   "outputs": [
    {
     "name": "stdout",
     "output_type": "stream",
     "text": [
      "\n"
     ]
    }
   ],
   "source": [
    "dataset.pipe_layout.replace({'branched': 0, 'looped':1}, inplace=True)\n",
    "dataset.sensor_type.replace({'pressure':0, 'accelerometer':1}, inplace=True)\n",
    "print()"
   ]
  },
  {
   "cell_type": "code",
   "execution_count": 15,
   "id": "c550834b-688d-48f8-a29e-fda1a01d7ec4",
   "metadata": {},
   "outputs": [
    {
     "data": {
      "text/html": [
       "<div>\n",
       "<style scoped>\n",
       "    .dataframe tbody tr th:only-of-type {\n",
       "        vertical-align: middle;\n",
       "    }\n",
       "\n",
       "    .dataframe tbody tr th {\n",
       "        vertical-align: top;\n",
       "    }\n",
       "\n",
       "    .dataframe thead th {\n",
       "        text-align: right;\n",
       "    }\n",
       "</style>\n",
       "<table border=\"1\" class=\"dataframe\">\n",
       "  <thead>\n",
       "    <tr style=\"text-align: right;\">\n",
       "      <th></th>\n",
       "      <th>Sample</th>\n",
       "      <th>Value</th>\n",
       "      <th>leak_type</th>\n",
       "      <th>pipe_layout</th>\n",
       "      <th>sensor_type</th>\n",
       "    </tr>\n",
       "  </thead>\n",
       "  <tbody>\n",
       "    <tr>\n",
       "      <th>583829</th>\n",
       "      <td>0.14950</td>\n",
       "      <td>986.000000</td>\n",
       "      <td>2</td>\n",
       "      <td>1</td>\n",
       "      <td>0</td>\n",
       "    </tr>\n",
       "    <tr>\n",
       "      <th>148944</th>\n",
       "      <td>0.34940</td>\n",
       "      <td>-566.500000</td>\n",
       "      <td>1</td>\n",
       "      <td>0</td>\n",
       "      <td>0</td>\n",
       "    </tr>\n",
       "    <tr>\n",
       "      <th>1360201</th>\n",
       "      <td>0.00785</td>\n",
       "      <td>-0.000741</td>\n",
       "      <td>2</td>\n",
       "      <td>1</td>\n",
       "      <td>1</td>\n",
       "    </tr>\n",
       "    <tr>\n",
       "      <th>756549</th>\n",
       "      <td>0.25590</td>\n",
       "      <td>-168.200000</td>\n",
       "      <td>4</td>\n",
       "      <td>1</td>\n",
       "      <td>0</td>\n",
       "    </tr>\n",
       "    <tr>\n",
       "      <th>756926</th>\n",
       "      <td>0.27050</td>\n",
       "      <td>-300.000000</td>\n",
       "      <td>4</td>\n",
       "      <td>1</td>\n",
       "      <td>0</td>\n",
       "    </tr>\n",
       "  </tbody>\n",
       "</table>\n",
       "</div>"
      ],
      "text/plain": [
       "          Sample       Value  leak_type  pipe_layout  sensor_type\n",
       "583829   0.14950  986.000000          2            1            0\n",
       "148944   0.34940 -566.500000          1            0            0\n",
       "1360201  0.00785   -0.000741          2            1            1\n",
       "756549   0.25590 -168.200000          4            1            0\n",
       "756926   0.27050 -300.000000          4            1            0"
      ]
     },
     "execution_count": 15,
     "metadata": {},
     "output_type": "execute_result"
    }
   ],
   "source": [
    "dataset.sample(5)"
   ]
  },
  {
   "cell_type": "code",
   "execution_count": 25,
   "id": "718f14e8-2538-4618-8bec-9a38d810fff2",
   "metadata": {},
   "outputs": [
    {
     "data": {
      "text/plain": [
       "array([[0.47081348],\n",
       "       [0.46790334],\n",
       "       [0.46475494],\n",
       "       ...,\n",
       "       [0.49217166],\n",
       "       [0.49217166],\n",
       "       [0.49217165]])"
      ]
     },
     "execution_count": 25,
     "metadata": {},
     "output_type": "execute_result"
    }
   ],
   "source": [
    "from sklearn.preprocessing import MinMaxScaler\n",
    "\n",
    "max = MinMaxScaler()\n",
    "min_max_model = max.fit(dataset[[\"Value\"]])\n",
    "max.fit_transform()"
   ]
  },
  {
   "cell_type": "code",
   "execution_count": 30,
   "id": "5b750a7a-7edc-4bcc-b035-98b3fb008dd9",
   "metadata": {},
   "outputs": [
    {
     "data": {
      "text/plain": [
       "['min_max_model.jb']"
      ]
     },
     "execution_count": 30,
     "metadata": {},
     "output_type": "execute_result"
    }
   ],
   "source": [
    "import joblib as jb\n",
    "jb.dump(min_max_model, filename='min_max_model.jb')"
   ]
  },
  {
   "cell_type": "code",
   "execution_count": 31,
   "id": "ba4e07e1-660f-490f-81bf-f8aa9db8df93",
   "metadata": {},
   "outputs": [],
   "source": [
    "dataset.Value = min_max_model.fit_transform(dataset[[\"Value\"]])"
   ]
  },
  {
   "cell_type": "code",
   "execution_count": 32,
   "id": "4a9da269-204d-44b6-8edc-58e1c2a37fc6",
   "metadata": {},
   "outputs": [
    {
     "data": {
      "text/html": [
       "<div>\n",
       "<style scoped>\n",
       "    .dataframe tbody tr th:only-of-type {\n",
       "        vertical-align: middle;\n",
       "    }\n",
       "\n",
       "    .dataframe tbody tr th {\n",
       "        vertical-align: top;\n",
       "    }\n",
       "\n",
       "    .dataframe thead th {\n",
       "        text-align: right;\n",
       "    }\n",
       "</style>\n",
       "<table border=\"1\" class=\"dataframe\">\n",
       "  <thead>\n",
       "    <tr style=\"text-align: right;\">\n",
       "      <th></th>\n",
       "      <th>Sample</th>\n",
       "      <th>Value</th>\n",
       "      <th>leak_type</th>\n",
       "      <th>pipe_layout</th>\n",
       "      <th>sensor_type</th>\n",
       "    </tr>\n",
       "  </thead>\n",
       "  <tbody>\n",
       "    <tr>\n",
       "      <th>0</th>\n",
       "      <td>0.000000</td>\n",
       "      <td>0.470813</td>\n",
       "      <td>0</td>\n",
       "      <td>0</td>\n",
       "      <td>0</td>\n",
       "    </tr>\n",
       "    <tr>\n",
       "      <th>1</th>\n",
       "      <td>0.000039</td>\n",
       "      <td>0.467903</td>\n",
       "      <td>0</td>\n",
       "      <td>0</td>\n",
       "      <td>0</td>\n",
       "    </tr>\n",
       "    <tr>\n",
       "      <th>2</th>\n",
       "      <td>0.000078</td>\n",
       "      <td>0.464755</td>\n",
       "      <td>0</td>\n",
       "      <td>0</td>\n",
       "      <td>0</td>\n",
       "    </tr>\n",
       "    <tr>\n",
       "      <th>3</th>\n",
       "      <td>0.000117</td>\n",
       "      <td>0.461760</td>\n",
       "      <td>0</td>\n",
       "      <td>0</td>\n",
       "      <td>0</td>\n",
       "    </tr>\n",
       "    <tr>\n",
       "      <th>4</th>\n",
       "      <td>0.000156</td>\n",
       "      <td>0.458458</td>\n",
       "      <td>0</td>\n",
       "      <td>0</td>\n",
       "      <td>0</td>\n",
       "    </tr>\n",
       "    <tr>\n",
       "      <th>...</th>\n",
       "      <td>...</td>\n",
       "      <td>...</td>\n",
       "      <td>...</td>\n",
       "      <td>...</td>\n",
       "      <td>...</td>\n",
       "    </tr>\n",
       "    <tr>\n",
       "      <th>1599995</th>\n",
       "      <td>0.390400</td>\n",
       "      <td>0.492172</td>\n",
       "      <td>4</td>\n",
       "      <td>1</td>\n",
       "      <td>1</td>\n",
       "    </tr>\n",
       "    <tr>\n",
       "      <th>1599996</th>\n",
       "      <td>0.390400</td>\n",
       "      <td>0.492172</td>\n",
       "      <td>4</td>\n",
       "      <td>1</td>\n",
       "      <td>1</td>\n",
       "    </tr>\n",
       "    <tr>\n",
       "      <th>1599997</th>\n",
       "      <td>0.390600</td>\n",
       "      <td>0.492172</td>\n",
       "      <td>4</td>\n",
       "      <td>1</td>\n",
       "      <td>1</td>\n",
       "    </tr>\n",
       "    <tr>\n",
       "      <th>1599998</th>\n",
       "      <td>0.390600</td>\n",
       "      <td>0.492172</td>\n",
       "      <td>4</td>\n",
       "      <td>1</td>\n",
       "      <td>1</td>\n",
       "    </tr>\n",
       "    <tr>\n",
       "      <th>1599999</th>\n",
       "      <td>0.390600</td>\n",
       "      <td>0.492172</td>\n",
       "      <td>4</td>\n",
       "      <td>1</td>\n",
       "      <td>1</td>\n",
       "    </tr>\n",
       "  </tbody>\n",
       "</table>\n",
       "<p>1600000 rows × 5 columns</p>\n",
       "</div>"
      ],
      "text/plain": [
       "           Sample     Value  leak_type  pipe_layout  sensor_type\n",
       "0        0.000000  0.470813          0            0            0\n",
       "1        0.000039  0.467903          0            0            0\n",
       "2        0.000078  0.464755          0            0            0\n",
       "3        0.000117  0.461760          0            0            0\n",
       "4        0.000156  0.458458          0            0            0\n",
       "...           ...       ...        ...          ...          ...\n",
       "1599995  0.390400  0.492172          4            1            1\n",
       "1599996  0.390400  0.492172          4            1            1\n",
       "1599997  0.390600  0.492172          4            1            1\n",
       "1599998  0.390600  0.492172          4            1            1\n",
       "1599999  0.390600  0.492172          4            1            1\n",
       "\n",
       "[1600000 rows x 5 columns]"
      ]
     },
     "execution_count": 32,
     "metadata": {},
     "output_type": "execute_result"
    }
   ],
   "source": [
    "dataset"
   ]
  },
  {
   "cell_type": "code",
   "execution_count": 33,
   "id": "3fd10a81-e079-4b90-9493-7823ea366afe",
   "metadata": {},
   "outputs": [],
   "source": [
    "X = dataset.drop(columns=['leak_type'])\n",
    "y = dataset.leak_type"
   ]
  },
  {
   "cell_type": "code",
   "execution_count": 34,
   "id": "b3faa5ec-edfd-4a2d-8da3-ce76ce72dc61",
   "metadata": {},
   "outputs": [
    {
     "data": {
      "text/html": [
       "<div>\n",
       "<style scoped>\n",
       "    .dataframe tbody tr th:only-of-type {\n",
       "        vertical-align: middle;\n",
       "    }\n",
       "\n",
       "    .dataframe tbody tr th {\n",
       "        vertical-align: top;\n",
       "    }\n",
       "\n",
       "    .dataframe thead th {\n",
       "        text-align: right;\n",
       "    }\n",
       "</style>\n",
       "<table border=\"1\" class=\"dataframe\">\n",
       "  <thead>\n",
       "    <tr style=\"text-align: right;\">\n",
       "      <th></th>\n",
       "      <th>Sample</th>\n",
       "      <th>Value</th>\n",
       "      <th>pipe_layout</th>\n",
       "      <th>sensor_type</th>\n",
       "    </tr>\n",
       "  </thead>\n",
       "  <tbody>\n",
       "    <tr>\n",
       "      <th>0</th>\n",
       "      <td>0.000000</td>\n",
       "      <td>0.470813</td>\n",
       "      <td>0</td>\n",
       "      <td>0</td>\n",
       "    </tr>\n",
       "    <tr>\n",
       "      <th>1</th>\n",
       "      <td>0.000039</td>\n",
       "      <td>0.467903</td>\n",
       "      <td>0</td>\n",
       "      <td>0</td>\n",
       "    </tr>\n",
       "    <tr>\n",
       "      <th>2</th>\n",
       "      <td>0.000078</td>\n",
       "      <td>0.464755</td>\n",
       "      <td>0</td>\n",
       "      <td>0</td>\n",
       "    </tr>\n",
       "    <tr>\n",
       "      <th>3</th>\n",
       "      <td>0.000117</td>\n",
       "      <td>0.461760</td>\n",
       "      <td>0</td>\n",
       "      <td>0</td>\n",
       "    </tr>\n",
       "    <tr>\n",
       "      <th>4</th>\n",
       "      <td>0.000156</td>\n",
       "      <td>0.458458</td>\n",
       "      <td>0</td>\n",
       "      <td>0</td>\n",
       "    </tr>\n",
       "    <tr>\n",
       "      <th>...</th>\n",
       "      <td>...</td>\n",
       "      <td>...</td>\n",
       "      <td>...</td>\n",
       "      <td>...</td>\n",
       "    </tr>\n",
       "    <tr>\n",
       "      <th>1599995</th>\n",
       "      <td>0.390400</td>\n",
       "      <td>0.492172</td>\n",
       "      <td>1</td>\n",
       "      <td>1</td>\n",
       "    </tr>\n",
       "    <tr>\n",
       "      <th>1599996</th>\n",
       "      <td>0.390400</td>\n",
       "      <td>0.492172</td>\n",
       "      <td>1</td>\n",
       "      <td>1</td>\n",
       "    </tr>\n",
       "    <tr>\n",
       "      <th>1599997</th>\n",
       "      <td>0.390600</td>\n",
       "      <td>0.492172</td>\n",
       "      <td>1</td>\n",
       "      <td>1</td>\n",
       "    </tr>\n",
       "    <tr>\n",
       "      <th>1599998</th>\n",
       "      <td>0.390600</td>\n",
       "      <td>0.492172</td>\n",
       "      <td>1</td>\n",
       "      <td>1</td>\n",
       "    </tr>\n",
       "    <tr>\n",
       "      <th>1599999</th>\n",
       "      <td>0.390600</td>\n",
       "      <td>0.492172</td>\n",
       "      <td>1</td>\n",
       "      <td>1</td>\n",
       "    </tr>\n",
       "  </tbody>\n",
       "</table>\n",
       "<p>1600000 rows × 4 columns</p>\n",
       "</div>"
      ],
      "text/plain": [
       "           Sample     Value  pipe_layout  sensor_type\n",
       "0        0.000000  0.470813            0            0\n",
       "1        0.000039  0.467903            0            0\n",
       "2        0.000078  0.464755            0            0\n",
       "3        0.000117  0.461760            0            0\n",
       "4        0.000156  0.458458            0            0\n",
       "...           ...       ...          ...          ...\n",
       "1599995  0.390400  0.492172            1            1\n",
       "1599996  0.390400  0.492172            1            1\n",
       "1599997  0.390600  0.492172            1            1\n",
       "1599998  0.390600  0.492172            1            1\n",
       "1599999  0.390600  0.492172            1            1\n",
       "\n",
       "[1600000 rows x 4 columns]"
      ]
     },
     "execution_count": 34,
     "metadata": {},
     "output_type": "execute_result"
    }
   ],
   "source": [
    "X"
   ]
  },
  {
   "cell_type": "code",
   "execution_count": 35,
   "id": "62968dc2-d445-4518-bb0b-68eb4632fd44",
   "metadata": {},
   "outputs": [
    {
     "data": {
      "text/plain": [
       "0          0\n",
       "1          0\n",
       "2          0\n",
       "3          0\n",
       "4          0\n",
       "          ..\n",
       "1599995    4\n",
       "1599996    4\n",
       "1599997    4\n",
       "1599998    4\n",
       "1599999    4\n",
       "Name: leak_type, Length: 1600000, dtype: int64"
      ]
     },
     "execution_count": 35,
     "metadata": {},
     "output_type": "execute_result"
    }
   ],
   "source": [
    "y"
   ]
  },
  {
   "cell_type": "code",
   "execution_count": 39,
   "id": "9eb6b3d5-9dea-4e15-9113-56de107df838",
   "metadata": {},
   "outputs": [],
   "source": [
    "from sklearn import model_selection\n",
    "trainx, testx, trainy, testy = model_selection.train_test_split(X, y , test_size=.20)"
   ]
  },
  {
   "cell_type": "code",
   "execution_count": null,
   "id": "e3297332-0a90-43ed-a7a8-ce16a2772933",
   "metadata": {},
   "outputs": [],
   "source": []
  },
  {
   "cell_type": "code",
   "execution_count": 44,
   "id": "fe5ed2e6-0247-4687-a26d-4bf7c12afce7",
   "metadata": {},
   "outputs": [
    {
     "data": {
      "text/html": [
       "<style>#sk-container-id-3 {color: black;background-color: white;}#sk-container-id-3 pre{padding: 0;}#sk-container-id-3 div.sk-toggleable {background-color: white;}#sk-container-id-3 label.sk-toggleable__label {cursor: pointer;display: block;width: 100%;margin-bottom: 0;padding: 0.3em;box-sizing: border-box;text-align: center;}#sk-container-id-3 label.sk-toggleable__label-arrow:before {content: \"▸\";float: left;margin-right: 0.25em;color: #696969;}#sk-container-id-3 label.sk-toggleable__label-arrow:hover:before {color: black;}#sk-container-id-3 div.sk-estimator:hover label.sk-toggleable__label-arrow:before {color: black;}#sk-container-id-3 div.sk-toggleable__content {max-height: 0;max-width: 0;overflow: hidden;text-align: left;background-color: #f0f8ff;}#sk-container-id-3 div.sk-toggleable__content pre {margin: 0.2em;color: black;border-radius: 0.25em;background-color: #f0f8ff;}#sk-container-id-3 input.sk-toggleable__control:checked~div.sk-toggleable__content {max-height: 200px;max-width: 100%;overflow: auto;}#sk-container-id-3 input.sk-toggleable__control:checked~label.sk-toggleable__label-arrow:before {content: \"▾\";}#sk-container-id-3 div.sk-estimator input.sk-toggleable__control:checked~label.sk-toggleable__label {background-color: #d4ebff;}#sk-container-id-3 div.sk-label input.sk-toggleable__control:checked~label.sk-toggleable__label {background-color: #d4ebff;}#sk-container-id-3 input.sk-hidden--visually {border: 0;clip: rect(1px 1px 1px 1px);clip: rect(1px, 1px, 1px, 1px);height: 1px;margin: -1px;overflow: hidden;padding: 0;position: absolute;width: 1px;}#sk-container-id-3 div.sk-estimator {font-family: monospace;background-color: #f0f8ff;border: 1px dotted black;border-radius: 0.25em;box-sizing: border-box;margin-bottom: 0.5em;}#sk-container-id-3 div.sk-estimator:hover {background-color: #d4ebff;}#sk-container-id-3 div.sk-parallel-item::after {content: \"\";width: 100%;border-bottom: 1px solid gray;flex-grow: 1;}#sk-container-id-3 div.sk-label:hover label.sk-toggleable__label {background-color: #d4ebff;}#sk-container-id-3 div.sk-serial::before {content: \"\";position: absolute;border-left: 1px solid gray;box-sizing: border-box;top: 0;bottom: 0;left: 50%;z-index: 0;}#sk-container-id-3 div.sk-serial {display: flex;flex-direction: column;align-items: center;background-color: white;padding-right: 0.2em;padding-left: 0.2em;position: relative;}#sk-container-id-3 div.sk-item {position: relative;z-index: 1;}#sk-container-id-3 div.sk-parallel {display: flex;align-items: stretch;justify-content: center;background-color: white;position: relative;}#sk-container-id-3 div.sk-item::before, #sk-container-id-3 div.sk-parallel-item::before {content: \"\";position: absolute;border-left: 1px solid gray;box-sizing: border-box;top: 0;bottom: 0;left: 50%;z-index: -1;}#sk-container-id-3 div.sk-parallel-item {display: flex;flex-direction: column;z-index: 1;position: relative;background-color: white;}#sk-container-id-3 div.sk-parallel-item:first-child::after {align-self: flex-end;width: 50%;}#sk-container-id-3 div.sk-parallel-item:last-child::after {align-self: flex-start;width: 50%;}#sk-container-id-3 div.sk-parallel-item:only-child::after {width: 0;}#sk-container-id-3 div.sk-dashed-wrapped {border: 1px dashed gray;margin: 0 0.4em 0.5em 0.4em;box-sizing: border-box;padding-bottom: 0.4em;background-color: white;}#sk-container-id-3 div.sk-label label {font-family: monospace;font-weight: bold;display: inline-block;line-height: 1.2em;}#sk-container-id-3 div.sk-label-container {text-align: center;}#sk-container-id-3 div.sk-container {/* jupyter's `normalize.less` sets `[hidden] { display: none; }` but bootstrap.min.css set `[hidden] { display: none !important; }` so we also need the `!important` here to be able to override the default hidden behavior on the sphinx rendered scikit-learn.org. See: https://github.com/scikit-learn/scikit-learn/issues/21755 */display: inline-block !important;position: relative;}#sk-container-id-3 div.sk-text-repr-fallback {display: none;}</style><div id=\"sk-container-id-3\" class=\"sk-top-container\"><div class=\"sk-text-repr-fallback\"><pre>RandomForestClassifier()</pre><b>In a Jupyter environment, please rerun this cell to show the HTML representation or trust the notebook. <br />On GitHub, the HTML representation is unable to render, please try loading this page with nbviewer.org.</b></div><div class=\"sk-container\" hidden><div class=\"sk-item\"><div class=\"sk-estimator sk-toggleable\"><input class=\"sk-toggleable__control sk-hidden--visually\" id=\"sk-estimator-id-3\" type=\"checkbox\" checked><label for=\"sk-estimator-id-3\" class=\"sk-toggleable__label sk-toggleable__label-arrow\">RandomForestClassifier</label><div class=\"sk-toggleable__content\"><pre>RandomForestClassifier()</pre></div></div></div></div></div>"
      ],
      "text/plain": [
       "RandomForestClassifier()"
      ]
     },
     "execution_count": 44,
     "metadata": {},
     "output_type": "execute_result"
    }
   ],
   "source": [
    "from sklearn.ensemble import RandomForestClassifier\n",
    "\n",
    "rfc = RandomForestClassifier()\n",
    "rfc"
   ]
  },
  {
   "cell_type": "code",
   "execution_count": 60,
   "id": "ec00422e-4abe-40a9-9514-395f3e8da96a",
   "metadata": {},
   "outputs": [
    {
     "data": {
      "text/html": [
       "<style>#sk-container-id-4 {color: black;background-color: white;}#sk-container-id-4 pre{padding: 0;}#sk-container-id-4 div.sk-toggleable {background-color: white;}#sk-container-id-4 label.sk-toggleable__label {cursor: pointer;display: block;width: 100%;margin-bottom: 0;padding: 0.3em;box-sizing: border-box;text-align: center;}#sk-container-id-4 label.sk-toggleable__label-arrow:before {content: \"▸\";float: left;margin-right: 0.25em;color: #696969;}#sk-container-id-4 label.sk-toggleable__label-arrow:hover:before {color: black;}#sk-container-id-4 div.sk-estimator:hover label.sk-toggleable__label-arrow:before {color: black;}#sk-container-id-4 div.sk-toggleable__content {max-height: 0;max-width: 0;overflow: hidden;text-align: left;background-color: #f0f8ff;}#sk-container-id-4 div.sk-toggleable__content pre {margin: 0.2em;color: black;border-radius: 0.25em;background-color: #f0f8ff;}#sk-container-id-4 input.sk-toggleable__control:checked~div.sk-toggleable__content {max-height: 200px;max-width: 100%;overflow: auto;}#sk-container-id-4 input.sk-toggleable__control:checked~label.sk-toggleable__label-arrow:before {content: \"▾\";}#sk-container-id-4 div.sk-estimator input.sk-toggleable__control:checked~label.sk-toggleable__label {background-color: #d4ebff;}#sk-container-id-4 div.sk-label input.sk-toggleable__control:checked~label.sk-toggleable__label {background-color: #d4ebff;}#sk-container-id-4 input.sk-hidden--visually {border: 0;clip: rect(1px 1px 1px 1px);clip: rect(1px, 1px, 1px, 1px);height: 1px;margin: -1px;overflow: hidden;padding: 0;position: absolute;width: 1px;}#sk-container-id-4 div.sk-estimator {font-family: monospace;background-color: #f0f8ff;border: 1px dotted black;border-radius: 0.25em;box-sizing: border-box;margin-bottom: 0.5em;}#sk-container-id-4 div.sk-estimator:hover {background-color: #d4ebff;}#sk-container-id-4 div.sk-parallel-item::after {content: \"\";width: 100%;border-bottom: 1px solid gray;flex-grow: 1;}#sk-container-id-4 div.sk-label:hover label.sk-toggleable__label {background-color: #d4ebff;}#sk-container-id-4 div.sk-serial::before {content: \"\";position: absolute;border-left: 1px solid gray;box-sizing: border-box;top: 0;bottom: 0;left: 50%;z-index: 0;}#sk-container-id-4 div.sk-serial {display: flex;flex-direction: column;align-items: center;background-color: white;padding-right: 0.2em;padding-left: 0.2em;position: relative;}#sk-container-id-4 div.sk-item {position: relative;z-index: 1;}#sk-container-id-4 div.sk-parallel {display: flex;align-items: stretch;justify-content: center;background-color: white;position: relative;}#sk-container-id-4 div.sk-item::before, #sk-container-id-4 div.sk-parallel-item::before {content: \"\";position: absolute;border-left: 1px solid gray;box-sizing: border-box;top: 0;bottom: 0;left: 50%;z-index: -1;}#sk-container-id-4 div.sk-parallel-item {display: flex;flex-direction: column;z-index: 1;position: relative;background-color: white;}#sk-container-id-4 div.sk-parallel-item:first-child::after {align-self: flex-end;width: 50%;}#sk-container-id-4 div.sk-parallel-item:last-child::after {align-self: flex-start;width: 50%;}#sk-container-id-4 div.sk-parallel-item:only-child::after {width: 0;}#sk-container-id-4 div.sk-dashed-wrapped {border: 1px dashed gray;margin: 0 0.4em 0.5em 0.4em;box-sizing: border-box;padding-bottom: 0.4em;background-color: white;}#sk-container-id-4 div.sk-label label {font-family: monospace;font-weight: bold;display: inline-block;line-height: 1.2em;}#sk-container-id-4 div.sk-label-container {text-align: center;}#sk-container-id-4 div.sk-container {/* jupyter's `normalize.less` sets `[hidden] { display: none; }` but bootstrap.min.css set `[hidden] { display: none !important; }` so we also need the `!important` here to be able to override the default hidden behavior on the sphinx rendered scikit-learn.org. See: https://github.com/scikit-learn/scikit-learn/issues/21755 */display: inline-block !important;position: relative;}#sk-container-id-4 div.sk-text-repr-fallback {display: none;}</style><div id=\"sk-container-id-4\" class=\"sk-top-container\"><div class=\"sk-text-repr-fallback\"><pre>RandomForestClassifier()</pre><b>In a Jupyter environment, please rerun this cell to show the HTML representation or trust the notebook. <br />On GitHub, the HTML representation is unable to render, please try loading this page with nbviewer.org.</b></div><div class=\"sk-container\" hidden><div class=\"sk-item\"><div class=\"sk-estimator sk-toggleable\"><input class=\"sk-toggleable__control sk-hidden--visually\" id=\"sk-estimator-id-4\" type=\"checkbox\" checked><label for=\"sk-estimator-id-4\" class=\"sk-toggleable__label sk-toggleable__label-arrow\">RandomForestClassifier</label><div class=\"sk-toggleable__content\"><pre>RandomForestClassifier()</pre></div></div></div></div></div>"
      ],
      "text/plain": [
       "RandomForestClassifier()"
      ]
     },
     "execution_count": 60,
     "metadata": {},
     "output_type": "execute_result"
    }
   ],
   "source": [
    "rf_model = rfc.fit(trainx, trainy)\n",
    "rf_model"
   ]
  },
  {
   "cell_type": "code",
   "execution_count": 61,
   "id": "44c4adbf-8688-47cc-b894-bddf4b299462",
   "metadata": {},
   "outputs": [
    {
     "data": {
      "text/plain": [
       "0.3751875"
      ]
     },
     "execution_count": 61,
     "metadata": {},
     "output_type": "execute_result"
    }
   ],
   "source": [
    "rf_model.score(testx, testy)"
   ]
  },
  {
   "cell_type": "code",
   "execution_count": null,
   "id": "77ae4cd1-6f4d-437b-a34e-3e000ec13ab6",
   "metadata": {},
   "outputs": [],
   "source": []
  },
  {
   "cell_type": "code",
   "execution_count": 62,
   "id": "280a6134-1cba-4a85-983c-24e07721b223",
   "metadata": {},
   "outputs": [],
   "source": [
    "# trainy.unique()"
   ]
  },
  {
   "cell_type": "code",
   "execution_count": null,
   "id": "c7032950-9268-42c3-a235-cd4303130aed",
   "metadata": {},
   "outputs": [],
   "source": []
  },
  {
   "cell_type": "code",
   "execution_count": null,
   "id": "1c1d0c08-bbda-4373-a60f-7d5f58275b46",
   "metadata": {},
   "outputs": [],
   "source": []
  },
  {
   "cell_type": "code",
   "execution_count": 63,
   "id": "bd233045-f3fc-4cfc-8a7a-61bc822dfe64",
   "metadata": {},
   "outputs": [],
   "source": [
    "# import tensorflow as tf\n",
    "\n",
    "# data_size = 4\n",
    "\n",
    "# leakage_model = tf.keras.Sequential([\n",
    "#     tf.keras.layers.Input(shape=(data_size, )), \n",
    "#     tf.keras.layers.Dense(100 , activation='relu'),\n",
    "#     tf.keras.layers.Dense(5, activation='sigmoid')\n",
    "#     ])\n",
    "\n",
    "# leakage_model.compile(\n",
    "#         loss='sparse_categorical_crossentropy', \n",
    "#         optimizer='Adam',\n",
    "#         metrics=['Accuracy']\n",
    "#     )\n",
    "\n",
    "# leakage_model.summary()"
   ]
  },
  {
   "cell_type": "code",
   "execution_count": 64,
   "id": "c2f447ec-1c1a-4bad-964b-10c1515858a1",
   "metadata": {},
   "outputs": [],
   "source": [
    "# leakage_model.fit(trainx, trainy, epochs=5)"
   ]
  }
 ],
 "metadata": {
  "kernelspec": {
   "display_name": "Python 3 (ipykernel)",
   "language": "python",
   "name": "python3"
  },
  "language_info": {
   "codemirror_mode": {
    "name": "ipython",
    "version": 3
   },
   "file_extension": ".py",
   "mimetype": "text/x-python",
   "name": "python",
   "nbconvert_exporter": "python",
   "pygments_lexer": "ipython3",
   "version": "3.9.5"
  }
 },
 "nbformat": 4,
 "nbformat_minor": 5
}
