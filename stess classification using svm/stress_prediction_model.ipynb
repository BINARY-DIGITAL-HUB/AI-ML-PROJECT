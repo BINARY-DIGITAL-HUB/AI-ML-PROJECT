{
  "cells": [
    {
      "cell_type": "markdown",
      "metadata": {
        "id": "omkLCV8RPtka"
      },
      "source": [
        "# IMPORTING HVR DATASET"
      ]
    },
    {
      "cell_type": "code",
      "execution_count": 6,
      "metadata": {
        "colab": {
          "base_uri": "https://localhost:8080/"
        },
        "id": "hOHWLQ56yNmB",
        "outputId": "1ff4c365-8f63-4da0-fca4-25d1c0888b98"
      },
      "outputs": [
        {
          "output_type": "stream",
          "name": "stdout",
          "text": [
            "Drive already mounted at /content/gdrive; to attempt to forcibly remount, call drive.mount(\"/content/gdrive\", force_remount=True).\n"
          ]
        }
      ],
      "source": [
        "from google.colab import drive\n",
        "drive.mount('/content/gdrive')"
      ]
    },
    {
      "cell_type": "code",
      "execution_count": 4,
      "metadata": {
        "id": "yWhW_kCeE-sD"
      },
      "outputs": [],
      "source": [
        "# IMPORTING HRV DATASET"
      ]
    },
    {
      "cell_type": "markdown",
      "source": [
        "# IMPORTING HRV DATASET"
      ],
      "metadata": {
        "id": "ZG2Vkxtdk60j"
      }
    },
    {
      "cell_type": "code",
      "execution_count": 7,
      "metadata": {
        "colab": {
          "base_uri": "https://localhost:8080/",
          "height": 338
        },
        "id": "xjyR3g8ovzaU",
        "outputId": "b010fd10-c488-4f80-e570-eb692cca8c7a"
      },
      "outputs": [
        {
          "output_type": "error",
          "ename": "OSError",
          "evalue": "[Errno 107] Transport endpoint is not connected: '/content/drive/MyDrive/Colab Notebooks/DATASET/hvr_test.csv'",
          "traceback": [
            "\u001b[0;31m---------------------------------------------------------------------------\u001b[0m",
            "\u001b[0;31mOSError\u001b[0m                                   Traceback (most recent call last)",
            "\u001b[0;32m<ipython-input-7-04372be7f698>\u001b[0m in \u001b[0;36m<cell line: 2>\u001b[0;34m()\u001b[0m\n\u001b[1;32m      1\u001b[0m \u001b[0;32mimport\u001b[0m \u001b[0mpandas\u001b[0m \u001b[0;32mas\u001b[0m \u001b[0mpd\u001b[0m\u001b[0;34m\u001b[0m\u001b[0;34m\u001b[0m\u001b[0m\n\u001b[0;32m----> 2\u001b[0;31m \u001b[0mdataset\u001b[0m \u001b[0;34m=\u001b[0m \u001b[0mpd\u001b[0m\u001b[0;34m.\u001b[0m\u001b[0mread_csv\u001b[0m\u001b[0;34m(\u001b[0m\u001b[0;34m'/content/drive/MyDrive/Colab Notebooks/DATASET/hvr_test.csv'\u001b[0m\u001b[0;34m)\u001b[0m\u001b[0;34m\u001b[0m\u001b[0;34m\u001b[0m\u001b[0m\n\u001b[0m\u001b[1;32m      3\u001b[0m \u001b[0mdataset\u001b[0m\u001b[0;34m.\u001b[0m\u001b[0mhead\u001b[0m\u001b[0;34m(\u001b[0m\u001b[0;34m)\u001b[0m\u001b[0;34m\u001b[0m\u001b[0;34m\u001b[0m\u001b[0m\n",
            "\u001b[0;32m/usr/local/lib/python3.10/dist-packages/pandas/util/_decorators.py\u001b[0m in \u001b[0;36mwrapper\u001b[0;34m(*args, **kwargs)\u001b[0m\n\u001b[1;32m    209\u001b[0m                 \u001b[0;32melse\u001b[0m\u001b[0;34m:\u001b[0m\u001b[0;34m\u001b[0m\u001b[0;34m\u001b[0m\u001b[0m\n\u001b[1;32m    210\u001b[0m                     \u001b[0mkwargs\u001b[0m\u001b[0;34m[\u001b[0m\u001b[0mnew_arg_name\u001b[0m\u001b[0;34m]\u001b[0m \u001b[0;34m=\u001b[0m \u001b[0mnew_arg_value\u001b[0m\u001b[0;34m\u001b[0m\u001b[0;34m\u001b[0m\u001b[0m\n\u001b[0;32m--> 211\u001b[0;31m             \u001b[0;32mreturn\u001b[0m \u001b[0mfunc\u001b[0m\u001b[0;34m(\u001b[0m\u001b[0;34m*\u001b[0m\u001b[0margs\u001b[0m\u001b[0;34m,\u001b[0m \u001b[0;34m**\u001b[0m\u001b[0mkwargs\u001b[0m\u001b[0;34m)\u001b[0m\u001b[0;34m\u001b[0m\u001b[0;34m\u001b[0m\u001b[0m\n\u001b[0m\u001b[1;32m    212\u001b[0m \u001b[0;34m\u001b[0m\u001b[0m\n\u001b[1;32m    213\u001b[0m         \u001b[0;32mreturn\u001b[0m \u001b[0mcast\u001b[0m\u001b[0;34m(\u001b[0m\u001b[0mF\u001b[0m\u001b[0;34m,\u001b[0m \u001b[0mwrapper\u001b[0m\u001b[0;34m)\u001b[0m\u001b[0;34m\u001b[0m\u001b[0;34m\u001b[0m\u001b[0m\n",
            "\u001b[0;32m/usr/local/lib/python3.10/dist-packages/pandas/util/_decorators.py\u001b[0m in \u001b[0;36mwrapper\u001b[0;34m(*args, **kwargs)\u001b[0m\n\u001b[1;32m    329\u001b[0m                     \u001b[0mstacklevel\u001b[0m\u001b[0;34m=\u001b[0m\u001b[0mfind_stack_level\u001b[0m\u001b[0;34m(\u001b[0m\u001b[0;34m)\u001b[0m\u001b[0;34m,\u001b[0m\u001b[0;34m\u001b[0m\u001b[0;34m\u001b[0m\u001b[0m\n\u001b[1;32m    330\u001b[0m                 )\n\u001b[0;32m--> 331\u001b[0;31m             \u001b[0;32mreturn\u001b[0m \u001b[0mfunc\u001b[0m\u001b[0;34m(\u001b[0m\u001b[0;34m*\u001b[0m\u001b[0margs\u001b[0m\u001b[0;34m,\u001b[0m \u001b[0;34m**\u001b[0m\u001b[0mkwargs\u001b[0m\u001b[0;34m)\u001b[0m\u001b[0;34m\u001b[0m\u001b[0;34m\u001b[0m\u001b[0m\n\u001b[0m\u001b[1;32m    332\u001b[0m \u001b[0;34m\u001b[0m\u001b[0m\n\u001b[1;32m    333\u001b[0m         \u001b[0;31m# error: \"Callable[[VarArg(Any), KwArg(Any)], Any]\" has no\u001b[0m\u001b[0;34m\u001b[0m\u001b[0;34m\u001b[0m\u001b[0m\n",
            "\u001b[0;32m/usr/local/lib/python3.10/dist-packages/pandas/io/parsers/readers.py\u001b[0m in \u001b[0;36mread_csv\u001b[0;34m(filepath_or_buffer, sep, delimiter, header, names, index_col, usecols, squeeze, prefix, mangle_dupe_cols, dtype, engine, converters, true_values, false_values, skipinitialspace, skiprows, skipfooter, nrows, na_values, keep_default_na, na_filter, verbose, skip_blank_lines, parse_dates, infer_datetime_format, keep_date_col, date_parser, dayfirst, cache_dates, iterator, chunksize, compression, thousands, decimal, lineterminator, quotechar, quoting, doublequote, escapechar, comment, encoding, encoding_errors, dialect, error_bad_lines, warn_bad_lines, on_bad_lines, delim_whitespace, low_memory, memory_map, float_precision, storage_options)\u001b[0m\n\u001b[1;32m    948\u001b[0m     \u001b[0mkwds\u001b[0m\u001b[0;34m.\u001b[0m\u001b[0mupdate\u001b[0m\u001b[0;34m(\u001b[0m\u001b[0mkwds_defaults\u001b[0m\u001b[0;34m)\u001b[0m\u001b[0;34m\u001b[0m\u001b[0;34m\u001b[0m\u001b[0m\n\u001b[1;32m    949\u001b[0m \u001b[0;34m\u001b[0m\u001b[0m\n\u001b[0;32m--> 950\u001b[0;31m     \u001b[0;32mreturn\u001b[0m \u001b[0m_read\u001b[0m\u001b[0;34m(\u001b[0m\u001b[0mfilepath_or_buffer\u001b[0m\u001b[0;34m,\u001b[0m \u001b[0mkwds\u001b[0m\u001b[0;34m)\u001b[0m\u001b[0;34m\u001b[0m\u001b[0;34m\u001b[0m\u001b[0m\n\u001b[0m\u001b[1;32m    951\u001b[0m \u001b[0;34m\u001b[0m\u001b[0m\n\u001b[1;32m    952\u001b[0m \u001b[0;34m\u001b[0m\u001b[0m\n",
            "\u001b[0;32m/usr/local/lib/python3.10/dist-packages/pandas/io/parsers/readers.py\u001b[0m in \u001b[0;36m_read\u001b[0;34m(filepath_or_buffer, kwds)\u001b[0m\n\u001b[1;32m    603\u001b[0m \u001b[0;34m\u001b[0m\u001b[0m\n\u001b[1;32m    604\u001b[0m     \u001b[0;31m# Create the parser.\u001b[0m\u001b[0;34m\u001b[0m\u001b[0;34m\u001b[0m\u001b[0m\n\u001b[0;32m--> 605\u001b[0;31m     \u001b[0mparser\u001b[0m \u001b[0;34m=\u001b[0m \u001b[0mTextFileReader\u001b[0m\u001b[0;34m(\u001b[0m\u001b[0mfilepath_or_buffer\u001b[0m\u001b[0;34m,\u001b[0m \u001b[0;34m**\u001b[0m\u001b[0mkwds\u001b[0m\u001b[0;34m)\u001b[0m\u001b[0;34m\u001b[0m\u001b[0;34m\u001b[0m\u001b[0m\n\u001b[0m\u001b[1;32m    606\u001b[0m \u001b[0;34m\u001b[0m\u001b[0m\n\u001b[1;32m    607\u001b[0m     \u001b[0;32mif\u001b[0m \u001b[0mchunksize\u001b[0m \u001b[0;32mor\u001b[0m \u001b[0miterator\u001b[0m\u001b[0;34m:\u001b[0m\u001b[0;34m\u001b[0m\u001b[0;34m\u001b[0m\u001b[0m\n",
            "\u001b[0;32m/usr/local/lib/python3.10/dist-packages/pandas/io/parsers/readers.py\u001b[0m in \u001b[0;36m__init__\u001b[0;34m(self, f, engine, **kwds)\u001b[0m\n\u001b[1;32m   1440\u001b[0m \u001b[0;34m\u001b[0m\u001b[0m\n\u001b[1;32m   1441\u001b[0m         \u001b[0mself\u001b[0m\u001b[0;34m.\u001b[0m\u001b[0mhandles\u001b[0m\u001b[0;34m:\u001b[0m \u001b[0mIOHandles\u001b[0m \u001b[0;34m|\u001b[0m \u001b[0;32mNone\u001b[0m \u001b[0;34m=\u001b[0m \u001b[0;32mNone\u001b[0m\u001b[0;34m\u001b[0m\u001b[0;34m\u001b[0m\u001b[0m\n\u001b[0;32m-> 1442\u001b[0;31m         \u001b[0mself\u001b[0m\u001b[0;34m.\u001b[0m\u001b[0m_engine\u001b[0m \u001b[0;34m=\u001b[0m \u001b[0mself\u001b[0m\u001b[0;34m.\u001b[0m\u001b[0m_make_engine\u001b[0m\u001b[0;34m(\u001b[0m\u001b[0mf\u001b[0m\u001b[0;34m,\u001b[0m \u001b[0mself\u001b[0m\u001b[0;34m.\u001b[0m\u001b[0mengine\u001b[0m\u001b[0;34m)\u001b[0m\u001b[0;34m\u001b[0m\u001b[0;34m\u001b[0m\u001b[0m\n\u001b[0m\u001b[1;32m   1443\u001b[0m \u001b[0;34m\u001b[0m\u001b[0m\n\u001b[1;32m   1444\u001b[0m     \u001b[0;32mdef\u001b[0m \u001b[0mclose\u001b[0m\u001b[0;34m(\u001b[0m\u001b[0mself\u001b[0m\u001b[0;34m)\u001b[0m \u001b[0;34m->\u001b[0m \u001b[0;32mNone\u001b[0m\u001b[0;34m:\u001b[0m\u001b[0;34m\u001b[0m\u001b[0;34m\u001b[0m\u001b[0m\n",
            "\u001b[0;32m/usr/local/lib/python3.10/dist-packages/pandas/io/parsers/readers.py\u001b[0m in \u001b[0;36m_make_engine\u001b[0;34m(self, f, engine)\u001b[0m\n\u001b[1;32m   1733\u001b[0m                 \u001b[0;32mif\u001b[0m \u001b[0;34m\"b\"\u001b[0m \u001b[0;32mnot\u001b[0m \u001b[0;32min\u001b[0m \u001b[0mmode\u001b[0m\u001b[0;34m:\u001b[0m\u001b[0;34m\u001b[0m\u001b[0;34m\u001b[0m\u001b[0m\n\u001b[1;32m   1734\u001b[0m                     \u001b[0mmode\u001b[0m \u001b[0;34m+=\u001b[0m \u001b[0;34m\"b\"\u001b[0m\u001b[0;34m\u001b[0m\u001b[0;34m\u001b[0m\u001b[0m\n\u001b[0;32m-> 1735\u001b[0;31m             self.handles = get_handle(\n\u001b[0m\u001b[1;32m   1736\u001b[0m                 \u001b[0mf\u001b[0m\u001b[0;34m,\u001b[0m\u001b[0;34m\u001b[0m\u001b[0;34m\u001b[0m\u001b[0m\n\u001b[1;32m   1737\u001b[0m                 \u001b[0mmode\u001b[0m\u001b[0;34m,\u001b[0m\u001b[0;34m\u001b[0m\u001b[0;34m\u001b[0m\u001b[0m\n",
            "\u001b[0;32m/usr/local/lib/python3.10/dist-packages/pandas/io/common.py\u001b[0m in \u001b[0;36mget_handle\u001b[0;34m(path_or_buf, mode, encoding, compression, memory_map, is_text, errors, storage_options)\u001b[0m\n\u001b[1;32m    854\u001b[0m         \u001b[0;32mif\u001b[0m \u001b[0mioargs\u001b[0m\u001b[0;34m.\u001b[0m\u001b[0mencoding\u001b[0m \u001b[0;32mand\u001b[0m \u001b[0;34m\"b\"\u001b[0m \u001b[0;32mnot\u001b[0m \u001b[0;32min\u001b[0m \u001b[0mioargs\u001b[0m\u001b[0;34m.\u001b[0m\u001b[0mmode\u001b[0m\u001b[0;34m:\u001b[0m\u001b[0;34m\u001b[0m\u001b[0;34m\u001b[0m\u001b[0m\n\u001b[1;32m    855\u001b[0m             \u001b[0;31m# Encoding\u001b[0m\u001b[0;34m\u001b[0m\u001b[0;34m\u001b[0m\u001b[0m\n\u001b[0;32m--> 856\u001b[0;31m             handle = open(\n\u001b[0m\u001b[1;32m    857\u001b[0m                 \u001b[0mhandle\u001b[0m\u001b[0;34m,\u001b[0m\u001b[0;34m\u001b[0m\u001b[0;34m\u001b[0m\u001b[0m\n\u001b[1;32m    858\u001b[0m                 \u001b[0mioargs\u001b[0m\u001b[0;34m.\u001b[0m\u001b[0mmode\u001b[0m\u001b[0;34m,\u001b[0m\u001b[0;34m\u001b[0m\u001b[0;34m\u001b[0m\u001b[0m\n",
            "\u001b[0;31mOSError\u001b[0m: [Errno 107] Transport endpoint is not connected: '/content/drive/MyDrive/Colab Notebooks/DATASET/hvr_test.csv'"
          ]
        }
      ],
      "source": [
        "import pandas as pd\n",
        "dataset = pd.read_csv('/content/drive/MyDrive/Colab Notebooks/DATASET/hvr_test.csv')\n",
        "dataset.head()"
      ]
    },
    {
      "cell_type": "markdown",
      "metadata": {
        "id": "duVFahftQDjt"
      },
      "source": [
        "# EXPLORATORY DATA ANALYSIS (EDA)"
      ]
    },
    {
      "cell_type": "code",
      "execution_count": null,
      "metadata": {
        "colab": {
          "base_uri": "https://localhost:8080/",
          "height": 540
        },
        "id": "ueOIeJzbwsSo",
        "outputId": "b49561b6-dde5-492a-fdad-1bcab25f5ad2"
      },
      "outputs": [
        {
          "data": {
            "text/html": [
              "\n",
              "  <div id=\"df-f4cbff53-cdfe-45dc-a503-01e5fe45dd77\">\n",
              "    <div class=\"colab-df-container\">\n",
              "      <div>\n",
              "<style scoped>\n",
              "    .dataframe tbody tr th:only-of-type {\n",
              "        vertical-align: middle;\n",
              "    }\n",
              "\n",
              "    .dataframe tbody tr th {\n",
              "        vertical-align: top;\n",
              "    }\n",
              "\n",
              "    .dataframe thead th {\n",
              "        text-align: right;\n",
              "    }\n",
              "</style>\n",
              "<table border=\"1\" class=\"dataframe\">\n",
              "  <thead>\n",
              "    <tr style=\"text-align: right;\">\n",
              "      <th></th>\n",
              "      <th>MEAN_RR</th>\n",
              "      <th>MEDIAN_RR</th>\n",
              "      <th>SDRR</th>\n",
              "      <th>RMSSD</th>\n",
              "      <th>SDSD</th>\n",
              "      <th>SDRR_RMSSD</th>\n",
              "      <th>HR</th>\n",
              "      <th>pNN25</th>\n",
              "      <th>pNN50</th>\n",
              "      <th>SD1</th>\n",
              "      <th>...</th>\n",
              "      <th>HF</th>\n",
              "      <th>HF_PCT</th>\n",
              "      <th>HF_NU</th>\n",
              "      <th>TP</th>\n",
              "      <th>LF_HF</th>\n",
              "      <th>HF_LF</th>\n",
              "      <th>sampen</th>\n",
              "      <th>higuci</th>\n",
              "      <th>datasetId</th>\n",
              "      <th>condition</th>\n",
              "    </tr>\n",
              "  </thead>\n",
              "  <tbody>\n",
              "    <tr>\n",
              "      <th>0</th>\n",
              "      <td>721.901897</td>\n",
              "      <td>727.267280</td>\n",
              "      <td>74.722315</td>\n",
              "      <td>12.361264</td>\n",
              "      <td>12.361069</td>\n",
              "      <td>6.044877</td>\n",
              "      <td>84.121868</td>\n",
              "      <td>4.933333</td>\n",
              "      <td>0.000000</td>\n",
              "      <td>8.743513</td>\n",
              "      <td>...</td>\n",
              "      <td>66.617057</td>\n",
              "      <td>3.921868</td>\n",
              "      <td>9.760289</td>\n",
              "      <td>1698.605390</td>\n",
              "      <td>9.245599</td>\n",
              "      <td>0.108160</td>\n",
              "      <td>2.097342</td>\n",
              "      <td>1.243696</td>\n",
              "      <td>2</td>\n",
              "      <td>no stress</td>\n",
              "    </tr>\n",
              "    <tr>\n",
              "      <th>1</th>\n",
              "      <td>843.538633</td>\n",
              "      <td>844.407930</td>\n",
              "      <td>58.499429</td>\n",
              "      <td>19.298880</td>\n",
              "      <td>19.298795</td>\n",
              "      <td>3.031234</td>\n",
              "      <td>71.478642</td>\n",
              "      <td>21.000000</td>\n",
              "      <td>0.200000</td>\n",
              "      <td>13.650863</td>\n",
              "      <td>...</td>\n",
              "      <td>26.500086</td>\n",
              "      <td>1.123416</td>\n",
              "      <td>1.663151</td>\n",
              "      <td>2358.884694</td>\n",
              "      <td>59.126832</td>\n",
              "      <td>0.016913</td>\n",
              "      <td>2.217275</td>\n",
              "      <td>1.250056</td>\n",
              "      <td>2</td>\n",
              "      <td>time pressure</td>\n",
              "    </tr>\n",
              "    <tr>\n",
              "      <th>2</th>\n",
              "      <td>958.523868</td>\n",
              "      <td>966.671125</td>\n",
              "      <td>132.849110</td>\n",
              "      <td>21.342715</td>\n",
              "      <td>21.342653</td>\n",
              "      <td>6.224565</td>\n",
              "      <td>63.874293</td>\n",
              "      <td>24.133333</td>\n",
              "      <td>1.800000</td>\n",
              "      <td>15.096571</td>\n",
              "      <td>...</td>\n",
              "      <td>16.024935</td>\n",
              "      <td>0.370208</td>\n",
              "      <td>0.766416</td>\n",
              "      <td>4328.633724</td>\n",
              "      <td>129.477524</td>\n",
              "      <td>0.007723</td>\n",
              "      <td>2.217136</td>\n",
              "      <td>1.144943</td>\n",
              "      <td>2</td>\n",
              "      <td>no stress</td>\n",
              "    </tr>\n",
              "    <tr>\n",
              "      <th>3</th>\n",
              "      <td>824.838669</td>\n",
              "      <td>842.485905</td>\n",
              "      <td>117.822094</td>\n",
              "      <td>11.771814</td>\n",
              "      <td>11.771248</td>\n",
              "      <td>10.008830</td>\n",
              "      <td>74.330531</td>\n",
              "      <td>4.733333</td>\n",
              "      <td>0.533333</td>\n",
              "      <td>8.326307</td>\n",
              "      <td>...</td>\n",
              "      <td>17.581470</td>\n",
              "      <td>0.615932</td>\n",
              "      <td>3.358652</td>\n",
              "      <td>2854.449091</td>\n",
              "      <td>28.773854</td>\n",
              "      <td>0.034754</td>\n",
              "      <td>2.106863</td>\n",
              "      <td>1.142355</td>\n",
              "      <td>2</td>\n",
              "      <td>no stress</td>\n",
              "    </tr>\n",
              "    <tr>\n",
              "      <th>4</th>\n",
              "      <td>756.707933</td>\n",
              "      <td>747.941620</td>\n",
              "      <td>143.968457</td>\n",
              "      <td>13.357748</td>\n",
              "      <td>13.356388</td>\n",
              "      <td>10.777899</td>\n",
              "      <td>82.092049</td>\n",
              "      <td>5.933333</td>\n",
              "      <td>0.666667</td>\n",
              "      <td>9.447545</td>\n",
              "      <td>...</td>\n",
              "      <td>35.199054</td>\n",
              "      <td>0.662879</td>\n",
              "      <td>6.292253</td>\n",
              "      <td>5310.027472</td>\n",
              "      <td>14.892559</td>\n",
              "      <td>0.067148</td>\n",
              "      <td>1.912191</td>\n",
              "      <td>1.128098</td>\n",
              "      <td>2</td>\n",
              "      <td>interruption</td>\n",
              "    </tr>\n",
              "    <tr>\n",
              "      <th>...</th>\n",
              "      <td>...</td>\n",
              "      <td>...</td>\n",
              "      <td>...</td>\n",
              "      <td>...</td>\n",
              "      <td>...</td>\n",
              "      <td>...</td>\n",
              "      <td>...</td>\n",
              "      <td>...</td>\n",
              "      <td>...</td>\n",
              "      <td>...</td>\n",
              "      <td>...</td>\n",
              "      <td>...</td>\n",
              "      <td>...</td>\n",
              "      <td>...</td>\n",
              "      <td>...</td>\n",
              "      <td>...</td>\n",
              "      <td>...</td>\n",
              "      <td>...</td>\n",
              "      <td>...</td>\n",
              "      <td>...</td>\n",
              "      <td>...</td>\n",
              "    </tr>\n",
              "    <tr>\n",
              "      <th>41028</th>\n",
              "      <td>1118.406543</td>\n",
              "      <td>1117.857050</td>\n",
              "      <td>113.955632</td>\n",
              "      <td>18.592177</td>\n",
              "      <td>18.592071</td>\n",
              "      <td>6.129225</td>\n",
              "      <td>54.234182</td>\n",
              "      <td>18.800000</td>\n",
              "      <td>0.266667</td>\n",
              "      <td>13.150967</td>\n",
              "      <td>...</td>\n",
              "      <td>0.347514</td>\n",
              "      <td>0.006813</td>\n",
              "      <td>0.035830</td>\n",
              "      <td>5100.718213</td>\n",
              "      <td>2789.962965</td>\n",
              "      <td>0.000358</td>\n",
              "      <td>2.183460</td>\n",
              "      <td>1.082927</td>\n",
              "      <td>2</td>\n",
              "      <td>time pressure</td>\n",
              "    </tr>\n",
              "    <tr>\n",
              "      <th>41029</th>\n",
              "      <td>855.991173</td>\n",
              "      <td>765.221410</td>\n",
              "      <td>296.763366</td>\n",
              "      <td>20.623727</td>\n",
              "      <td>20.610745</td>\n",
              "      <td>14.389415</td>\n",
              "      <td>76.416971</td>\n",
              "      <td>15.733333</td>\n",
              "      <td>3.533333</td>\n",
              "      <td>14.578861</td>\n",
              "      <td>...</td>\n",
              "      <td>118.014128</td>\n",
              "      <td>1.383097</td>\n",
              "      <td>8.622919</td>\n",
              "      <td>8532.599635</td>\n",
              "      <td>10.597001</td>\n",
              "      <td>0.094366</td>\n",
              "      <td>1.695327</td>\n",
              "      <td>1.154370</td>\n",
              "      <td>2</td>\n",
              "      <td>interruption</td>\n",
              "    </tr>\n",
              "    <tr>\n",
              "      <th>41030</th>\n",
              "      <td>689.388662</td>\n",
              "      <td>663.192770</td>\n",
              "      <td>133.815714</td>\n",
              "      <td>21.699038</td>\n",
              "      <td>21.696138</td>\n",
              "      <td>6.166896</td>\n",
              "      <td>90.254005</td>\n",
              "      <td>13.933333</td>\n",
              "      <td>4.000000</td>\n",
              "      <td>15.346606</td>\n",
              "      <td>...</td>\n",
              "      <td>216.200973</td>\n",
              "      <td>3.559302</td>\n",
              "      <td>10.160405</td>\n",
              "      <td>6074.251632</td>\n",
              "      <td>8.842128</td>\n",
              "      <td>0.113095</td>\n",
              "      <td>2.078000</td>\n",
              "      <td>1.214869</td>\n",
              "      <td>2</td>\n",
              "      <td>no stress</td>\n",
              "    </tr>\n",
              "    <tr>\n",
              "      <th>41031</th>\n",
              "      <td>761.421571</td>\n",
              "      <td>761.064590</td>\n",
              "      <td>60.792671</td>\n",
              "      <td>11.280586</td>\n",
              "      <td>11.280573</td>\n",
              "      <td>5.389141</td>\n",
              "      <td>79.313782</td>\n",
              "      <td>2.733333</td>\n",
              "      <td>0.266667</td>\n",
              "      <td>7.979232</td>\n",
              "      <td>...</td>\n",
              "      <td>41.797177</td>\n",
              "      <td>3.124367</td>\n",
              "      <td>6.905613</td>\n",
              "      <td>1337.780773</td>\n",
              "      <td>13.480973</td>\n",
              "      <td>0.074179</td>\n",
              "      <td>2.191379</td>\n",
              "      <td>1.234546</td>\n",
              "      <td>2</td>\n",
              "      <td>no stress</td>\n",
              "    </tr>\n",
              "    <tr>\n",
              "      <th>41032</th>\n",
              "      <td>868.040461</td>\n",
              "      <td>873.048735</td>\n",
              "      <td>61.301652</td>\n",
              "      <td>11.781442</td>\n",
              "      <td>11.781440</td>\n",
              "      <td>5.203239</td>\n",
              "      <td>69.484061</td>\n",
              "      <td>3.733333</td>\n",
              "      <td>0.000000</td>\n",
              "      <td>8.333516</td>\n",
              "      <td>...</td>\n",
              "      <td>9.748285</td>\n",
              "      <td>0.580832</td>\n",
              "      <td>1.408066</td>\n",
              "      <td>1678.332700</td>\n",
              "      <td>70.019404</td>\n",
              "      <td>0.014282</td>\n",
              "      <td>2.143131</td>\n",
              "      <td>1.142660</td>\n",
              "      <td>2</td>\n",
              "      <td>time pressure</td>\n",
              "    </tr>\n",
              "  </tbody>\n",
              "</table>\n",
              "<p>41033 rows × 36 columns</p>\n",
              "</div>\n",
              "      <button class=\"colab-df-convert\" onclick=\"convertToInteractive('df-f4cbff53-cdfe-45dc-a503-01e5fe45dd77')\"\n",
              "              title=\"Convert this dataframe to an interactive table.\"\n",
              "              style=\"display:none;\">\n",
              "        \n",
              "  <svg xmlns=\"http://www.w3.org/2000/svg\" height=\"24px\"viewBox=\"0 0 24 24\"\n",
              "       width=\"24px\">\n",
              "    <path d=\"M0 0h24v24H0V0z\" fill=\"none\"/>\n",
              "    <path d=\"M18.56 5.44l.94 2.06.94-2.06 2.06-.94-2.06-.94-.94-2.06-.94 2.06-2.06.94zm-11 1L8.5 8.5l.94-2.06 2.06-.94-2.06-.94L8.5 2.5l-.94 2.06-2.06.94zm10 10l.94 2.06.94-2.06 2.06-.94-2.06-.94-.94-2.06-.94 2.06-2.06.94z\"/><path d=\"M17.41 7.96l-1.37-1.37c-.4-.4-.92-.59-1.43-.59-.52 0-1.04.2-1.43.59L10.3 9.45l-7.72 7.72c-.78.78-.78 2.05 0 2.83L4 21.41c.39.39.9.59 1.41.59.51 0 1.02-.2 1.41-.59l7.78-7.78 2.81-2.81c.8-.78.8-2.07 0-2.86zM5.41 20L4 18.59l7.72-7.72 1.47 1.35L5.41 20z\"/>\n",
              "  </svg>\n",
              "      </button>\n",
              "      \n",
              "  <style>\n",
              "    .colab-df-container {\n",
              "      display:flex;\n",
              "      flex-wrap:wrap;\n",
              "      gap: 12px;\n",
              "    }\n",
              "\n",
              "    .colab-df-convert {\n",
              "      background-color: #E8F0FE;\n",
              "      border: none;\n",
              "      border-radius: 50%;\n",
              "      cursor: pointer;\n",
              "      display: none;\n",
              "      fill: #1967D2;\n",
              "      height: 32px;\n",
              "      padding: 0 0 0 0;\n",
              "      width: 32px;\n",
              "    }\n",
              "\n",
              "    .colab-df-convert:hover {\n",
              "      background-color: #E2EBFA;\n",
              "      box-shadow: 0px 1px 2px rgba(60, 64, 67, 0.3), 0px 1px 3px 1px rgba(60, 64, 67, 0.15);\n",
              "      fill: #174EA6;\n",
              "    }\n",
              "\n",
              "    [theme=dark] .colab-df-convert {\n",
              "      background-color: #3B4455;\n",
              "      fill: #D2E3FC;\n",
              "    }\n",
              "\n",
              "    [theme=dark] .colab-df-convert:hover {\n",
              "      background-color: #434B5C;\n",
              "      box-shadow: 0px 1px 3px 1px rgba(0, 0, 0, 0.15);\n",
              "      filter: drop-shadow(0px 1px 2px rgba(0, 0, 0, 0.3));\n",
              "      fill: #FFFFFF;\n",
              "    }\n",
              "  </style>\n",
              "\n",
              "      <script>\n",
              "        const buttonEl =\n",
              "          document.querySelector('#df-f4cbff53-cdfe-45dc-a503-01e5fe45dd77 button.colab-df-convert');\n",
              "        buttonEl.style.display =\n",
              "          google.colab.kernel.accessAllowed ? 'block' : 'none';\n",
              "\n",
              "        async function convertToInteractive(key) {\n",
              "          const element = document.querySelector('#df-f4cbff53-cdfe-45dc-a503-01e5fe45dd77');\n",
              "          const dataTable =\n",
              "            await google.colab.kernel.invokeFunction('convertToInteractive',\n",
              "                                                     [key], {});\n",
              "          if (!dataTable) return;\n",
              "\n",
              "          const docLinkHtml = 'Like what you see? Visit the ' +\n",
              "            '<a target=\"_blank\" href=https://colab.research.google.com/notebooks/data_table.ipynb>data table notebook</a>'\n",
              "            + ' to learn more about interactive tables.';\n",
              "          element.innerHTML = '';\n",
              "          dataTable['output_type'] = 'display_data';\n",
              "          await google.colab.output.renderOutput(dataTable, element);\n",
              "          const docLink = document.createElement('div');\n",
              "          docLink.innerHTML = docLinkHtml;\n",
              "          element.appendChild(docLink);\n",
              "        }\n",
              "      </script>\n",
              "    </div>\n",
              "  </div>\n",
              "  "
            ],
            "text/plain": [
              "           MEAN_RR    MEDIAN_RR        SDRR      RMSSD       SDSD  SDRR_RMSSD  \\\n",
              "0       721.901897   727.267280   74.722315  12.361264  12.361069    6.044877   \n",
              "1       843.538633   844.407930   58.499429  19.298880  19.298795    3.031234   \n",
              "2       958.523868   966.671125  132.849110  21.342715  21.342653    6.224565   \n",
              "3       824.838669   842.485905  117.822094  11.771814  11.771248   10.008830   \n",
              "4       756.707933   747.941620  143.968457  13.357748  13.356388   10.777899   \n",
              "...            ...          ...         ...        ...        ...         ...   \n",
              "41028  1118.406543  1117.857050  113.955632  18.592177  18.592071    6.129225   \n",
              "41029   855.991173   765.221410  296.763366  20.623727  20.610745   14.389415   \n",
              "41030   689.388662   663.192770  133.815714  21.699038  21.696138    6.166896   \n",
              "41031   761.421571   761.064590   60.792671  11.280586  11.280573    5.389141   \n",
              "41032   868.040461   873.048735   61.301652  11.781442  11.781440    5.203239   \n",
              "\n",
              "              HR      pNN25     pNN50        SD1  ...          HF    HF_PCT  \\\n",
              "0      84.121868   4.933333  0.000000   8.743513  ...   66.617057  3.921868   \n",
              "1      71.478642  21.000000  0.200000  13.650863  ...   26.500086  1.123416   \n",
              "2      63.874293  24.133333  1.800000  15.096571  ...   16.024935  0.370208   \n",
              "3      74.330531   4.733333  0.533333   8.326307  ...   17.581470  0.615932   \n",
              "4      82.092049   5.933333  0.666667   9.447545  ...   35.199054  0.662879   \n",
              "...          ...        ...       ...        ...  ...         ...       ...   \n",
              "41028  54.234182  18.800000  0.266667  13.150967  ...    0.347514  0.006813   \n",
              "41029  76.416971  15.733333  3.533333  14.578861  ...  118.014128  1.383097   \n",
              "41030  90.254005  13.933333  4.000000  15.346606  ...  216.200973  3.559302   \n",
              "41031  79.313782   2.733333  0.266667   7.979232  ...   41.797177  3.124367   \n",
              "41032  69.484061   3.733333  0.000000   8.333516  ...    9.748285  0.580832   \n",
              "\n",
              "           HF_NU           TP        LF_HF     HF_LF    sampen    higuci  \\\n",
              "0       9.760289  1698.605390     9.245599  0.108160  2.097342  1.243696   \n",
              "1       1.663151  2358.884694    59.126832  0.016913  2.217275  1.250056   \n",
              "2       0.766416  4328.633724   129.477524  0.007723  2.217136  1.144943   \n",
              "3       3.358652  2854.449091    28.773854  0.034754  2.106863  1.142355   \n",
              "4       6.292253  5310.027472    14.892559  0.067148  1.912191  1.128098   \n",
              "...          ...          ...          ...       ...       ...       ...   \n",
              "41028   0.035830  5100.718213  2789.962965  0.000358  2.183460  1.082927   \n",
              "41029   8.622919  8532.599635    10.597001  0.094366  1.695327  1.154370   \n",
              "41030  10.160405  6074.251632     8.842128  0.113095  2.078000  1.214869   \n",
              "41031   6.905613  1337.780773    13.480973  0.074179  2.191379  1.234546   \n",
              "41032   1.408066  1678.332700    70.019404  0.014282  2.143131  1.142660   \n",
              "\n",
              "       datasetId      condition  \n",
              "0              2      no stress  \n",
              "1              2  time pressure  \n",
              "2              2      no stress  \n",
              "3              2      no stress  \n",
              "4              2   interruption  \n",
              "...          ...            ...  \n",
              "41028          2  time pressure  \n",
              "41029          2   interruption  \n",
              "41030          2      no stress  \n",
              "41031          2      no stress  \n",
              "41032          2  time pressure  \n",
              "\n",
              "[41033 rows x 36 columns]"
            ]
          },
          "execution_count": 2,
          "metadata": {},
          "output_type": "execute_result"
        }
      ],
      "source": [
        "dataset"
      ]
    },
    {
      "cell_type": "code",
      "execution_count": null,
      "metadata": {
        "colab": {
          "base_uri": "https://localhost:8080/"
        },
        "id": "S-tCSLITWS5Y",
        "outputId": "b3eb3242-703c-482a-82c5-f722bdaae1f0"
      },
      "outputs": [
        {
          "name": "stdout",
          "output_type": "stream",
          "text": [
            "Number of Datapoints :  41033\n",
            "Number of Features :  36\n"
          ]
        }
      ],
      "source": [
        "row , column = dataset.shape\n",
        "print('Number of Datapoints : ', row)\n",
        "print('Number of Features : ', column)"
      ]
    },
    {
      "cell_type": "code",
      "execution_count": null,
      "metadata": {
        "colab": {
          "base_uri": "https://localhost:8080/"
        },
        "id": "j0KU_YvZWp4P",
        "outputId": "be0b5e42-f78e-4bdd-ebf4-5ef60af0a04e"
      },
      "outputs": [
        {
          "data": {
            "text/plain": [
              "Index(['MEAN_RR', 'MEDIAN_RR', 'SDRR', 'RMSSD', 'SDSD', 'SDRR_RMSSD', 'HR',\n",
              "       'pNN25', 'pNN50', 'SD1', 'SD2', 'KURT', 'SKEW', 'MEAN_REL_RR',\n",
              "       'MEDIAN_REL_RR', 'SDRR_REL_RR', 'RMSSD_REL_RR', 'SDSD_REL_RR',\n",
              "       'SDRR_RMSSD_REL_RR', 'KURT_REL_RR', 'SKEW_REL_RR', 'VLF', 'VLF_PCT',\n",
              "       'LF', 'LF_PCT', 'LF_NU', 'HF', 'HF_PCT', 'HF_NU', 'TP', 'LF_HF',\n",
              "       'HF_LF', 'sampen', 'higuci', 'datasetId', 'condition'],\n",
              "      dtype='object')"
            ]
          },
          "execution_count": 4,
          "metadata": {},
          "output_type": "execute_result"
        }
      ],
      "source": [
        "dataset.columns"
      ]
    },
    {
      "cell_type": "code",
      "execution_count": null,
      "metadata": {
        "colab": {
          "base_uri": "https://localhost:8080/"
        },
        "id": "do4q8EqQW9Cl",
        "outputId": "646e085e-6bf4-4767-fec3-b681f4728ffa"
      },
      "outputs": [
        {
          "name": "stdout",
          "output_type": "stream",
          "text": [
            "<class 'pandas.core.frame.DataFrame'>\n",
            "RangeIndex: 41033 entries, 0 to 41032\n",
            "Data columns (total 36 columns):\n",
            " #   Column             Non-Null Count  Dtype  \n",
            "---  ------             --------------  -----  \n",
            " 0   MEAN_RR            41033 non-null  float64\n",
            " 1   MEDIAN_RR          41033 non-null  float64\n",
            " 2   SDRR               41033 non-null  float64\n",
            " 3   RMSSD              41033 non-null  float64\n",
            " 4   SDSD               41033 non-null  float64\n",
            " 5   SDRR_RMSSD         41033 non-null  float64\n",
            " 6   HR                 41033 non-null  float64\n",
            " 7   pNN25              41033 non-null  float64\n",
            " 8   pNN50              41033 non-null  float64\n",
            " 9   SD1                41033 non-null  float64\n",
            " 10  SD2                41033 non-null  float64\n",
            " 11  KURT               41033 non-null  float64\n",
            " 12  SKEW               41033 non-null  float64\n",
            " 13  MEAN_REL_RR        41033 non-null  float64\n",
            " 14  MEDIAN_REL_RR      41033 non-null  float64\n",
            " 15  SDRR_REL_RR        41033 non-null  float64\n",
            " 16  RMSSD_REL_RR       41033 non-null  float64\n",
            " 17  SDSD_REL_RR        41033 non-null  float64\n",
            " 18  SDRR_RMSSD_REL_RR  41033 non-null  float64\n",
            " 19  KURT_REL_RR        41033 non-null  float64\n",
            " 20  SKEW_REL_RR        41033 non-null  float64\n",
            " 21  VLF                41033 non-null  float64\n",
            " 22  VLF_PCT            41033 non-null  float64\n",
            " 23  LF                 41033 non-null  float64\n",
            " 24  LF_PCT             41033 non-null  float64\n",
            " 25  LF_NU              41033 non-null  float64\n",
            " 26  HF                 41033 non-null  float64\n",
            " 27  HF_PCT             41033 non-null  float64\n",
            " 28  HF_NU              41033 non-null  float64\n",
            " 29  TP                 41033 non-null  float64\n",
            " 30  LF_HF              41033 non-null  float64\n",
            " 31  HF_LF              41033 non-null  float64\n",
            " 32  sampen             41033 non-null  float64\n",
            " 33  higuci             41033 non-null  float64\n",
            " 34  datasetId          41033 non-null  int64  \n",
            " 35  condition          41033 non-null  object \n",
            "dtypes: float64(34), int64(1), object(1)\n",
            "memory usage: 11.3+ MB\n"
          ]
        }
      ],
      "source": [
        "dataset.info()"
      ]
    },
    {
      "cell_type": "code",
      "execution_count": null,
      "metadata": {
        "colab": {
          "base_uri": "https://localhost:8080/"
        },
        "id": "HbowajXRW8wN",
        "outputId": "6bd4f979-1dca-474b-b214-d3dfc3e81a06"
      },
      "outputs": [
        {
          "data": {
            "text/plain": [
              "array(['no stress', 'time pressure', 'interruption'], dtype=object)"
            ]
          },
          "execution_count": 25,
          "metadata": {},
          "output_type": "execute_result"
        }
      ],
      "source": [
        "x_bar_data = dataset.condition.unique()\n",
        "x_bar_data"
      ]
    },
    {
      "cell_type": "code",
      "execution_count": null,
      "metadata": {
        "colab": {
          "base_uri": "https://localhost:8080/"
        },
        "id": "32VuqL4CQW3z",
        "outputId": "78952121-9e00-4937-8cfe-6a6589504c9e"
      },
      "outputs": [
        {
          "name": "stdout",
          "output_type": "stream",
          "text": [
            "No Stress:  22158\n",
            "Stressed:  7093\n",
            "interruption:  11782\n"
          ]
        }
      ],
      "source": [
        "no_stress = len(dataset[dataset['condition'] =='no stress'])\n",
        "time_pressure = len(dataset[dataset['condition'] =='time pressure'])\n",
        "interruption = len(dataset[dataset['condition'] =='interruption'])\n",
        "y_bar_data = [no_stress, time_pressure, interruption]\n",
        "\n",
        "print('No Stress: ', no_stress)\n",
        "print('Stressed: ', time_pressure)\n",
        "print('interruption: ', interruption)\n"
      ]
    },
    {
      "cell_type": "markdown",
      "metadata": {
        "id": "GcplpHmdZH51"
      },
      "source": [
        "# Data Visualization"
      ]
    },
    {
      "cell_type": "code",
      "execution_count": null,
      "metadata": {
        "colab": {
          "base_uri": "https://localhost:8080/",
          "height": 295
        },
        "id": "X0tGWxxVQWyZ",
        "outputId": "b1b8f797-d817-452d-d6e4-34bdc5e2f103"
      },
      "outputs": [
        {
          "data": {
            "image/png": "[encoded data removed]",
            "text/plain": [
              "<Figure size 432x288 with 1 Axes>"
            ]
          },
          "metadata": {},
          "output_type": "display_data"
        }
      ],
      "source": [
        "import matplotlib.pyplot as plt\n",
        "\n",
        "plt.xlabel('Prediction Class')\n",
        "plt.ylabel('Class Data Point')\n",
        "plt.title('Stress Class')\n",
        "plt.bar(x_bar_data, y_bar_data, color=['red', 'green', 'brown'])\n",
        "plt.show()"
      ]
    },
    {
      "cell_type": "code",
      "execution_count": null,
      "metadata": {
        "id": "0goUSYOHQWsT"
      },
      "outputs": [],
      "source": []
    },
    {
      "cell_type": "markdown",
      "metadata": {
        "id": "Q99m2vU6cXpt"
      },
      "source": [
        "# DATA PREPROCESSING"
      ]
    },
    {
      "cell_type": "code",
      "execution_count": null,
      "metadata": {
        "id": "IiNgX3KsxeHv"
      },
      "outputs": [],
      "source": [
        "from sklearn.preprocessing import MinMaxScaler\n",
        "from sklearn.preprocessing import LabelEncoder"
      ]
    },
    {
      "cell_type": "code",
      "execution_count": null,
      "metadata": {
        "colab": {
          "base_uri": "https://localhost:8080/"
        },
        "id": "WxqojPGPxePz",
        "outputId": "f5b86d7f-4dac-4512-b881-a28304fa5fb0"
      },
      "outputs": [
        {
          "data": {
            "text/plain": [
              "0        1\n",
              "1        2\n",
              "2        1\n",
              "3        1\n",
              "4        0\n",
              "        ..\n",
              "41028    2\n",
              "41029    0\n",
              "41030    1\n",
              "41031    1\n",
              "41032    2\n",
              "Name: condition, Length: 41033, dtype: int64"
            ]
          },
          "execution_count": 4,
          "metadata": {},
          "output_type": "execute_result"
        }
      ],
      "source": [
        "lb = LabelEncoder()\n",
        "dataset['condition'] = lb.fit_transform(dataset['condition'])\n",
        "dataset.condition"
      ]
    },
    {
      "cell_type": "code",
      "execution_count": null,
      "metadata": {
        "id": "Ql6Y4_wdxoEJ"
      },
      "outputs": [],
      "source": [
        "y = dataset['condition']\n",
        "dataset = dataset.drop(['condition', 'datasetId'], axis=1)"
      ]
    },
    {
      "cell_type": "code",
      "execution_count": null,
      "metadata": {
        "colab": {
          "base_uri": "https://localhost:8080/",
          "height": 237
        },
        "id": "6KhamIh_xoOn",
        "outputId": "7e1eaa20-87b8-47fa-fb4c-388a3766f0da"
      },
      "outputs": [
        {
          "data": {
            "text/html": [
              "\n",
              "  <div id=\"df-09746fef-6e08-4c31-97da-6f8ee52b6653\">\n",
              "    <div class=\"colab-df-container\">\n",
              "      <div>\n",
              "<style scoped>\n",
              "    .dataframe tbody tr th:only-of-type {\n",
              "        vertical-align: middle;\n",
              "    }\n",
              "\n",
              "    .dataframe tbody tr th {\n",
              "        vertical-align: top;\n",
              "    }\n",
              "\n",
              "    .dataframe thead th {\n",
              "        text-align: right;\n",
              "    }\n",
              "</style>\n",
              "<table border=\"1\" class=\"dataframe\">\n",
              "  <thead>\n",
              "    <tr style=\"text-align: right;\">\n",
              "      <th></th>\n",
              "      <th>MEAN_RR</th>\n",
              "      <th>MEDIAN_RR</th>\n",
              "      <th>SDRR</th>\n",
              "      <th>RMSSD</th>\n",
              "      <th>SDSD</th>\n",
              "      <th>SDRR_RMSSD</th>\n",
              "      <th>HR</th>\n",
              "      <th>pNN25</th>\n",
              "      <th>pNN50</th>\n",
              "      <th>SD1</th>\n",
              "      <th>...</th>\n",
              "      <th>LF_PCT</th>\n",
              "      <th>LF_NU</th>\n",
              "      <th>HF</th>\n",
              "      <th>HF_PCT</th>\n",
              "      <th>HF_NU</th>\n",
              "      <th>TP</th>\n",
              "      <th>LF_HF</th>\n",
              "      <th>HF_LF</th>\n",
              "      <th>sampen</th>\n",
              "      <th>higuci</th>\n",
              "    </tr>\n",
              "  </thead>\n",
              "  <tbody>\n",
              "    <tr>\n",
              "      <th>0</th>\n",
              "      <td>721.901897</td>\n",
              "      <td>727.267280</td>\n",
              "      <td>74.722315</td>\n",
              "      <td>12.361264</td>\n",
              "      <td>12.361069</td>\n",
              "      <td>6.044877</td>\n",
              "      <td>84.121868</td>\n",
              "      <td>4.933333</td>\n",
              "      <td>0.0</td>\n",
              "      <td>8.743513</td>\n",
              "      <td>...</td>\n",
              "      <td>36.260015</td>\n",
              "      <td>90.239711</td>\n",
              "      <td>66.617057</td>\n",
              "      <td>3.921868</td>\n",
              "      <td>9.760289</td>\n",
              "      <td>1698.605390</td>\n",
              "      <td>9.245599</td>\n",
              "      <td>0.108160</td>\n",
              "      <td>2.097342</td>\n",
              "      <td>1.243696</td>\n",
              "    </tr>\n",
              "    <tr>\n",
              "      <th>1</th>\n",
              "      <td>843.538633</td>\n",
              "      <td>844.407930</td>\n",
              "      <td>58.499429</td>\n",
              "      <td>19.298880</td>\n",
              "      <td>19.298795</td>\n",
              "      <td>3.031234</td>\n",
              "      <td>71.478642</td>\n",
              "      <td>21.000000</td>\n",
              "      <td>0.2</td>\n",
              "      <td>13.650863</td>\n",
              "      <td>...</td>\n",
              "      <td>66.424024</td>\n",
              "      <td>98.336849</td>\n",
              "      <td>26.500086</td>\n",
              "      <td>1.123416</td>\n",
              "      <td>1.663151</td>\n",
              "      <td>2358.884694</td>\n",
              "      <td>59.126832</td>\n",
              "      <td>0.016913</td>\n",
              "      <td>2.217275</td>\n",
              "      <td>1.250056</td>\n",
              "    </tr>\n",
              "    <tr>\n",
              "      <th>2</th>\n",
              "      <td>958.523868</td>\n",
              "      <td>966.671125</td>\n",
              "      <td>132.849110</td>\n",
              "      <td>21.342715</td>\n",
              "      <td>21.342653</td>\n",
              "      <td>6.224565</td>\n",
              "      <td>63.874293</td>\n",
              "      <td>24.133333</td>\n",
              "      <td>1.8</td>\n",
              "      <td>15.096571</td>\n",
              "      <td>...</td>\n",
              "      <td>47.933575</td>\n",
              "      <td>99.233584</td>\n",
              "      <td>16.024935</td>\n",
              "      <td>0.370208</td>\n",
              "      <td>0.766416</td>\n",
              "      <td>4328.633724</td>\n",
              "      <td>129.477524</td>\n",
              "      <td>0.007723</td>\n",
              "      <td>2.217136</td>\n",
              "      <td>1.144943</td>\n",
              "    </tr>\n",
              "  </tbody>\n",
              "</table>\n",
              "<p>3 rows × 34 columns</p>\n",
              "</div>\n",
              "      <button class=\"colab-df-convert\" onclick=\"convertToInteractive('df-09746fef-6e08-4c31-97da-6f8ee52b6653')\"\n",
              "              title=\"Convert this dataframe to an interactive table.\"\n",
              "              style=\"display:none;\">\n",
              "        \n",
              "  <svg xmlns=\"http://www.w3.org/2000/svg\" height=\"24px\"viewBox=\"0 0 24 24\"\n",
              "       width=\"24px\">\n",
              "    <path d=\"M0 0h24v24H0V0z\" fill=\"none\"/>\n",
              "    <path d=\"M18.56 5.44l.94 2.06.94-2.06 2.06-.94-2.06-.94-.94-2.06-.94 2.06-2.06.94zm-11 1L8.5 8.5l.94-2.06 2.06-.94-2.06-.94L8.5 2.5l-.94 2.06-2.06.94zm10 10l.94 2.06.94-2.06 2.06-.94-2.06-.94-.94-2.06-.94 2.06-2.06.94z\"/><path d=\"M17.41 7.96l-1.37-1.37c-.4-.4-.92-.59-1.43-.59-.52 0-1.04.2-1.43.59L10.3 9.45l-7.72 7.72c-.78.78-.78 2.05 0 2.83L4 21.41c.39.39.9.59 1.41.59.51 0 1.02-.2 1.41-.59l7.78-7.78 2.81-2.81c.8-.78.8-2.07 0-2.86zM5.41 20L4 18.59l7.72-7.72 1.47 1.35L5.41 20z\"/>\n",
              "  </svg>\n",
              "      </button>\n",
              "      \n",
              "  <style>\n",
              "    .colab-df-container {\n",
              "      display:flex;\n",
              "      flex-wrap:wrap;\n",
              "      gap: 12px;\n",
              "    }\n",
              "\n",
              "    .colab-df-convert {\n",
              "      background-color: #E8F0FE;\n",
              "      border: none;\n",
              "      border-radius: 50%;\n",
              "      cursor: pointer;\n",
              "      display: none;\n",
              "      fill: #1967D2;\n",
              "      height: 32px;\n",
              "      padding: 0 0 0 0;\n",
              "      width: 32px;\n",
              "    }\n",
              "\n",
              "    .colab-df-convert:hover {\n",
              "      background-color: #E2EBFA;\n",
              "      box-shadow: 0px 1px 2px rgba(60, 64, 67, 0.3), 0px 1px 3px 1px rgba(60, 64, 67, 0.15);\n",
              "      fill: #174EA6;\n",
              "    }\n",
              "\n",
              "    [theme=dark] .colab-df-convert {\n",
              "      background-color: #3B4455;\n",
              "      fill: #D2E3FC;\n",
              "    }\n",
              "\n",
              "    [theme=dark] .colab-df-convert:hover {\n",
              "      background-color: #434B5C;\n",
              "      box-shadow: 0px 1px 3px 1px rgba(0, 0, 0, 0.15);\n",
              "      filter: drop-shadow(0px 1px 2px rgba(0, 0, 0, 0.3));\n",
              "      fill: #FFFFFF;\n",
              "    }\n",
              "  </style>\n",
              "\n",
              "      <script>\n",
              "        const buttonEl =\n",
              "          document.querySelector('#df-09746fef-6e08-4c31-97da-6f8ee52b6653 button.colab-df-convert');\n",
              "        buttonEl.style.display =\n",
              "          google.colab.kernel.accessAllowed ? 'block' : 'none';\n",
              "\n",
              "        async function convertToInteractive(key) {\n",
              "          const element = document.querySelector('#df-09746fef-6e08-4c31-97da-6f8ee52b6653');\n",
              "          const dataTable =\n",
              "            await google.colab.kernel.invokeFunction('convertToInteractive',\n",
              "                                                     [key], {});\n",
              "          if (!dataTable) return;\n",
              "\n",
              "          const docLinkHtml = 'Like what you see? Visit the ' +\n",
              "            '<a target=\"_blank\" href=https://colab.research.google.com/notebooks/data_table.ipynb>data table notebook</a>'\n",
              "            + ' to learn more about interactive tables.';\n",
              "          element.innerHTML = '';\n",
              "          dataTable['output_type'] = 'display_data';\n",
              "          await google.colab.output.renderOutput(dataTable, element);\n",
              "          const docLink = document.createElement('div');\n",
              "          docLink.innerHTML = docLinkHtml;\n",
              "          element.appendChild(docLink);\n",
              "        }\n",
              "      </script>\n",
              "    </div>\n",
              "  </div>\n",
              "  "
            ],
            "text/plain": [
              "      MEAN_RR   MEDIAN_RR        SDRR      RMSSD       SDSD  SDRR_RMSSD  \\\n",
              "0  721.901897  727.267280   74.722315  12.361264  12.361069    6.044877   \n",
              "1  843.538633  844.407930   58.499429  19.298880  19.298795    3.031234   \n",
              "2  958.523868  966.671125  132.849110  21.342715  21.342653    6.224565   \n",
              "\n",
              "          HR      pNN25  pNN50        SD1  ...     LF_PCT      LF_NU  \\\n",
              "0  84.121868   4.933333    0.0   8.743513  ...  36.260015  90.239711   \n",
              "1  71.478642  21.000000    0.2  13.650863  ...  66.424024  98.336849   \n",
              "2  63.874293  24.133333    1.8  15.096571  ...  47.933575  99.233584   \n",
              "\n",
              "          HF    HF_PCT     HF_NU           TP       LF_HF     HF_LF    sampen  \\\n",
              "0  66.617057  3.921868  9.760289  1698.605390    9.245599  0.108160  2.097342   \n",
              "1  26.500086  1.123416  1.663151  2358.884694   59.126832  0.016913  2.217275   \n",
              "2  16.024935  0.370208  0.766416  4328.633724  129.477524  0.007723  2.217136   \n",
              "\n",
              "     higuci  \n",
              "0  1.243696  \n",
              "1  1.250056  \n",
              "2  1.144943  \n",
              "\n",
              "[3 rows x 34 columns]"
            ]
          },
          "execution_count": 6,
          "metadata": {},
          "output_type": "execute_result"
        }
      ],
      "source": [
        "dataset.head(3)"
      ]
    },
    {
      "cell_type": "code",
      "execution_count": null,
      "metadata": {
        "id": "ebvLd5J-y5yJ"
      },
      "outputs": [],
      "source": [
        "# dataset.info()"
      ]
    },
    {
      "cell_type": "code",
      "execution_count": null,
      "metadata": {
        "id": "XknYXBTQzBzW"
      },
      "outputs": [],
      "source": [
        "# dataset.fillna(method=\"ffill\", inplace=True)"
      ]
    },
    {
      "cell_type": "markdown",
      "metadata": {
        "id": "Jyg8bCmPdVhz"
      },
      "source": [
        "**Data** **Standadization**"
      ]
    },
    {
      "cell_type": "code",
      "execution_count": null,
      "metadata": {
        "colab": {
          "base_uri": "https://localhost:8080/",
          "height": 299
        },
        "id": "c_nJj7bcxoRb",
        "outputId": "38987a51-202e-465c-aef9-5b742d3fa245"
      },
      "outputs": [
        {
          "data": {
            "text/html": [
              "\n",
              "  <div id=\"df-7b0cfa3a-ef92-4482-b78b-10b4fd0f8498\">\n",
              "    <div class=\"colab-df-container\">\n",
              "      <div>\n",
              "<style scoped>\n",
              "    .dataframe tbody tr th:only-of-type {\n",
              "        vertical-align: middle;\n",
              "    }\n",
              "\n",
              "    .dataframe tbody tr th {\n",
              "        vertical-align: top;\n",
              "    }\n",
              "\n",
              "    .dataframe thead th {\n",
              "        text-align: right;\n",
              "    }\n",
              "</style>\n",
              "<table border=\"1\" class=\"dataframe\">\n",
              "  <thead>\n",
              "    <tr style=\"text-align: right;\">\n",
              "      <th></th>\n",
              "      <th>MEAN_RR</th>\n",
              "      <th>MEDIAN_RR</th>\n",
              "      <th>SDRR</th>\n",
              "      <th>RMSSD</th>\n",
              "      <th>SDSD</th>\n",
              "      <th>SDRR_RMSSD</th>\n",
              "      <th>HR</th>\n",
              "      <th>pNN25</th>\n",
              "      <th>pNN50</th>\n",
              "      <th>SD1</th>\n",
              "      <th>...</th>\n",
              "      <th>LF_PCT</th>\n",
              "      <th>LF_NU</th>\n",
              "      <th>HF</th>\n",
              "      <th>HF_PCT</th>\n",
              "      <th>HF_NU</th>\n",
              "      <th>TP</th>\n",
              "      <th>LF_HF</th>\n",
              "      <th>HF_LF</th>\n",
              "      <th>sampen</th>\n",
              "      <th>higuci</th>\n",
              "    </tr>\n",
              "  </thead>\n",
              "  <tbody>\n",
              "    <tr>\n",
              "      <th>0</th>\n",
              "      <td>0.225313</td>\n",
              "      <td>0.184864</td>\n",
              "      <td>0.088443</td>\n",
              "      <td>0.324583</td>\n",
              "      <td>0.324578</td>\n",
              "      <td>0.065286</td>\n",
              "      <td>0.544238</td>\n",
              "      <td>0.125212</td>\n",
              "      <td>0.000000</td>\n",
              "      <td>0.324578</td>\n",
              "      <td>...</td>\n",
              "      <td>0.452452</td>\n",
              "      <td>0.667378</td>\n",
              "      <td>0.184455</td>\n",
              "      <td>0.299541</td>\n",
              "      <td>0.332622</td>\n",
              "      <td>0.102595</td>\n",
              "      <td>0.000887</td>\n",
              "      <td>0.260535</td>\n",
              "      <td>0.923679</td>\n",
              "      <td>0.641622</td>\n",
              "    </tr>\n",
              "    <tr>\n",
              "      <th>1</th>\n",
              "      <td>0.382444</td>\n",
              "      <td>0.287996</td>\n",
              "      <td>0.058163</td>\n",
              "      <td>0.654295</td>\n",
              "      <td>0.654295</td>\n",
              "      <td>0.007079</td>\n",
              "      <td>0.349779</td>\n",
              "      <td>0.532995</td>\n",
              "      <td>0.037037</td>\n",
              "      <td>0.654295</td>\n",
              "      <td>...</td>\n",
              "      <td>0.852726</td>\n",
              "      <td>0.943688</td>\n",
              "      <td>0.073271</td>\n",
              "      <td>0.085683</td>\n",
              "      <td>0.056312</td>\n",
              "      <td>0.153893</td>\n",
              "      <td>0.007360</td>\n",
              "      <td>0.040476</td>\n",
              "      <td>0.990346</td>\n",
              "      <td>0.661122</td>\n",
              "    </tr>\n",
              "    <tr>\n",
              "      <th>2</th>\n",
              "      <td>0.530982</td>\n",
              "      <td>0.395639</td>\n",
              "      <td>0.196938</td>\n",
              "      <td>0.751429</td>\n",
              "      <td>0.751430</td>\n",
              "      <td>0.068757</td>\n",
              "      <td>0.232820</td>\n",
              "      <td>0.612521</td>\n",
              "      <td>0.333333</td>\n",
              "      <td>0.751430</td>\n",
              "      <td>...</td>\n",
              "      <td>0.607359</td>\n",
              "      <td>0.974289</td>\n",
              "      <td>0.044239</td>\n",
              "      <td>0.028122</td>\n",
              "      <td>0.025711</td>\n",
              "      <td>0.306926</td>\n",
              "      <td>0.016489</td>\n",
              "      <td>0.018314</td>\n",
              "      <td>0.990269</td>\n",
              "      <td>0.338852</td>\n",
              "    </tr>\n",
              "    <tr>\n",
              "      <th>3</th>\n",
              "      <td>0.358287</td>\n",
              "      <td>0.286304</td>\n",
              "      <td>0.168890</td>\n",
              "      <td>0.296569</td>\n",
              "      <td>0.296546</td>\n",
              "      <td>0.141849</td>\n",
              "      <td>0.393642</td>\n",
              "      <td>0.120135</td>\n",
              "      <td>0.098765</td>\n",
              "      <td>0.296546</td>\n",
              "      <td>...</td>\n",
              "      <td>0.206464</td>\n",
              "      <td>0.885830</td>\n",
              "      <td>0.048553</td>\n",
              "      <td>0.046901</td>\n",
              "      <td>0.114170</td>\n",
              "      <td>0.192394</td>\n",
              "      <td>0.003421</td>\n",
              "      <td>0.083503</td>\n",
              "      <td>0.928972</td>\n",
              "      <td>0.330919</td>\n",
              "    </tr>\n",
              "    <tr>\n",
              "      <th>4</th>\n",
              "      <td>0.270276</td>\n",
              "      <td>0.203066</td>\n",
              "      <td>0.217693</td>\n",
              "      <td>0.371941</td>\n",
              "      <td>0.371880</td>\n",
              "      <td>0.156703</td>\n",
              "      <td>0.513019</td>\n",
              "      <td>0.150592</td>\n",
              "      <td>0.123457</td>\n",
              "      <td>0.371880</td>\n",
              "      <td>...</td>\n",
              "      <td>0.102285</td>\n",
              "      <td>0.785723</td>\n",
              "      <td>0.097380</td>\n",
              "      <td>0.050488</td>\n",
              "      <td>0.214277</td>\n",
              "      <td>0.383171</td>\n",
              "      <td>0.001620</td>\n",
              "      <td>0.161627</td>\n",
              "      <td>0.820759</td>\n",
              "      <td>0.287209</td>\n",
              "    </tr>\n",
              "  </tbody>\n",
              "</table>\n",
              "<p>5 rows × 34 columns</p>\n",
              "</div>\n",
              "      <button class=\"colab-df-convert\" onclick=\"convertToInteractive('df-7b0cfa3a-ef92-4482-b78b-10b4fd0f8498')\"\n",
              "              title=\"Convert this dataframe to an interactive table.\"\n",
              "              style=\"display:none;\">\n",
              "        \n",
              "  <svg xmlns=\"http://www.w3.org/2000/svg\" height=\"24px\"viewBox=\"0 0 24 24\"\n",
              "       width=\"24px\">\n",
              "    <path d=\"M0 0h24v24H0V0z\" fill=\"none\"/>\n",
              "    <path d=\"M18.56 5.44l.94 2.06.94-2.06 2.06-.94-2.06-.94-.94-2.06-.94 2.06-2.06.94zm-11 1L8.5 8.5l.94-2.06 2.06-.94-2.06-.94L8.5 2.5l-.94 2.06-2.06.94zm10 10l.94 2.06.94-2.06 2.06-.94-2.06-.94-.94-2.06-.94 2.06-2.06.94z\"/><path d=\"M17.41 7.96l-1.37-1.37c-.4-.4-.92-.59-1.43-.59-.52 0-1.04.2-1.43.59L10.3 9.45l-7.72 7.72c-.78.78-.78 2.05 0 2.83L4 21.41c.39.39.9.59 1.41.59.51 0 1.02-.2 1.41-.59l7.78-7.78 2.81-2.81c.8-.78.8-2.07 0-2.86zM5.41 20L4 18.59l7.72-7.72 1.47 1.35L5.41 20z\"/>\n",
              "  </svg>\n",
              "      </button>\n",
              "      \n",
              "  <style>\n",
              "    .colab-df-container {\n",
              "      display:flex;\n",
              "      flex-wrap:wrap;\n",
              "      gap: 12px;\n",
              "    }\n",
              "\n",
              "    .colab-df-convert {\n",
              "      background-color: #E8F0FE;\n",
              "      border: none;\n",
              "      border-radius: 50%;\n",
              "      cursor: pointer;\n",
              "      display: none;\n",
              "      fill: #1967D2;\n",
              "      height: 32px;\n",
              "      padding: 0 0 0 0;\n",
              "      width: 32px;\n",
              "    }\n",
              "\n",
              "    .colab-df-convert:hover {\n",
              "      background-color: #E2EBFA;\n",
              "      box-shadow: 0px 1px 2px rgba(60, 64, 67, 0.3), 0px 1px 3px 1px rgba(60, 64, 67, 0.15);\n",
              "      fill: #174EA6;\n",
              "    }\n",
              "\n",
              "    [theme=dark] .colab-df-convert {\n",
              "      background-color: #3B4455;\n",
              "      fill: #D2E3FC;\n",
              "    }\n",
              "\n",
              "    [theme=dark] .colab-df-convert:hover {\n",
              "      background-color: #434B5C;\n",
              "      box-shadow: 0px 1px 3px 1px rgba(0, 0, 0, 0.15);\n",
              "      filter: drop-shadow(0px 1px 2px rgba(0, 0, 0, 0.3));\n",
              "      fill: #FFFFFF;\n",
              "    }\n",
              "  </style>\n",
              "\n",
              "      <script>\n",
              "        const buttonEl =\n",
              "          document.querySelector('#df-7b0cfa3a-ef92-4482-b78b-10b4fd0f8498 button.colab-df-convert');\n",
              "        buttonEl.style.display =\n",
              "          google.colab.kernel.accessAllowed ? 'block' : 'none';\n",
              "\n",
              "        async function convertToInteractive(key) {\n",
              "          const element = document.querySelector('#df-7b0cfa3a-ef92-4482-b78b-10b4fd0f8498');\n",
              "          const dataTable =\n",
              "            await google.colab.kernel.invokeFunction('convertToInteractive',\n",
              "                                                     [key], {});\n",
              "          if (!dataTable) return;\n",
              "\n",
              "          const docLinkHtml = 'Like what you see? Visit the ' +\n",
              "            '<a target=\"_blank\" href=https://colab.research.google.com/notebooks/data_table.ipynb>data table notebook</a>'\n",
              "            + ' to learn more about interactive tables.';\n",
              "          element.innerHTML = '';\n",
              "          dataTable['output_type'] = 'display_data';\n",
              "          await google.colab.output.renderOutput(dataTable, element);\n",
              "          const docLink = document.createElement('div');\n",
              "          docLink.innerHTML = docLinkHtml;\n",
              "          element.appendChild(docLink);\n",
              "        }\n",
              "      </script>\n",
              "    </div>\n",
              "  </div>\n",
              "  "
            ],
            "text/plain": [
              "    MEAN_RR  MEDIAN_RR      SDRR     RMSSD      SDSD  SDRR_RMSSD        HR  \\\n",
              "0  0.225313   0.184864  0.088443  0.324583  0.324578    0.065286  0.544238   \n",
              "1  0.382444   0.287996  0.058163  0.654295  0.654295    0.007079  0.349779   \n",
              "2  0.530982   0.395639  0.196938  0.751429  0.751430    0.068757  0.232820   \n",
              "3  0.358287   0.286304  0.168890  0.296569  0.296546    0.141849  0.393642   \n",
              "4  0.270276   0.203066  0.217693  0.371941  0.371880    0.156703  0.513019   \n",
              "\n",
              "      pNN25     pNN50       SD1  ...    LF_PCT     LF_NU        HF    HF_PCT  \\\n",
              "0  0.125212  0.000000  0.324578  ...  0.452452  0.667378  0.184455  0.299541   \n",
              "1  0.532995  0.037037  0.654295  ...  0.852726  0.943688  0.073271  0.085683   \n",
              "2  0.612521  0.333333  0.751430  ...  0.607359  0.974289  0.044239  0.028122   \n",
              "3  0.120135  0.098765  0.296546  ...  0.206464  0.885830  0.048553  0.046901   \n",
              "4  0.150592  0.123457  0.371880  ...  0.102285  0.785723  0.097380  0.050488   \n",
              "\n",
              "      HF_NU        TP     LF_HF     HF_LF    sampen    higuci  \n",
              "0  0.332622  0.102595  0.000887  0.260535  0.923679  0.641622  \n",
              "1  0.056312  0.153893  0.007360  0.040476  0.990346  0.661122  \n",
              "2  0.025711  0.306926  0.016489  0.018314  0.990269  0.338852  \n",
              "3  0.114170  0.192394  0.003421  0.083503  0.928972  0.330919  \n",
              "4  0.214277  0.383171  0.001620  0.161627  0.820759  0.287209  \n",
              "\n",
              "[5 rows x 34 columns]"
            ]
          },
          "execution_count": 7,
          "metadata": {},
          "output_type": "execute_result"
        }
      ],
      "source": [
        "min_max = MinMaxScaler()\n",
        "# train_x = min_max.fit_transform(train_x)\n",
        "# test_x = min_max.fit_transform(test_x)\n",
        "\n",
        "for c in dataset.columns:\n",
        "   dataset[c] = min_max.fit_transform(dataset[[c]])\n",
        "\n",
        "dataset.head()"
      ]
    },
    {
      "cell_type": "markdown",
      "metadata": {
        "id": "36mpn7ECddRj"
      },
      "source": [
        "# DATA SPLITTING (TESTING AND TRAINING SET)\n",
        "---\n",
        "\n"
      ]
    },
    {
      "cell_type": "code",
      "execution_count": null,
      "metadata": {
        "id": "QnJ_Nsv8x80E"
      },
      "outputs": [],
      "source": [
        "from sklearn import model_selection\n",
        "X_train, X_test, y_train, y_test = model_selection.train_test_split(dataset,y, test_size=.2)"
      ]
    },
    {
      "cell_type": "code",
      "execution_count": null,
      "metadata": {
        "colab": {
          "base_uri": "https://localhost:8080/"
        },
        "id": "D4BgZhAodvkO",
        "outputId": "60cda9a4-aaaf-43df-fa91-a2d4a953549c"
      },
      "outputs": [
        {
          "name": "stdout",
          "output_type": "stream",
          "text": [
            "Train x :  (32826, 34)\n",
            "Train y :  (32826,)\n",
            "test x :  (8207, 34)\n",
            "test y :  (8207,)\n"
          ]
        }
      ],
      "source": [
        "print(\"Train x : \", X_train.shape)\n",
        "print(\"Train y : \" , y_train.shape)\n",
        "print(\"test x : \", X_test.shape)\n",
        "print(\"test y : \" , y_test.shape)"
      ]
    },
    {
      "cell_type": "code",
      "execution_count": null,
      "metadata": {
        "colab": {
          "base_uri": "https://localhost:8080/"
        },
        "id": "hq2vGrkDTsJX",
        "outputId": "54c4419b-7c58-4e89-c77b-4e2fa71c592e"
      },
      "outputs": [
        {
          "data": {
            "text/plain": [
              "0        1\n",
              "1        2\n",
              "2        1\n",
              "3        1\n",
              "4        0\n",
              "        ..\n",
              "41028    2\n",
              "41029    0\n",
              "41030    1\n",
              "41031    1\n",
              "41032    2\n",
              "Name: condition, Length: 41033, dtype: int64"
            ]
          },
          "execution_count": 10,
          "metadata": {},
          "output_type": "execute_result"
        }
      ],
      "source": [
        "y"
      ]
    },
    {
      "cell_type": "markdown",
      "metadata": {
        "id": "lMU6aQVldyTU"
      },
      "source": [
        "# HVR STRESS PREDICTION MODEL USING SVM"
      ]
    },
    {
      "cell_type": "code",
      "execution_count": null,
      "metadata": {
        "id": "x4X12twMyNdc"
      },
      "outputs": [],
      "source": [
        "from sklearn.svm import SVC, LinearSVC"
      ]
    },
    {
      "cell_type": "code",
      "execution_count": null,
      "metadata": {
        "colab": {
          "base_uri": "https://localhost:8080/"
        },
        "id": "yH06lfz90Bxo",
        "outputId": "00b64a7c-6a70-4d29-b97a-27b711ea624e"
      },
      "outputs": [
        {
          "name": "stdout",
          "output_type": "stream",
          "text": [
            "training complete\n"
          ]
        }
      ],
      "source": [
        "svc = SVC(gamma=1)\n",
        "svc.fit(X_train, y_train)\n",
        "print('training complete')"
      ]
    },
    {
      "cell_type": "code",
      "execution_count": null,
      "metadata": {
        "colab": {
          "base_uri": "https://localhost:8080/"
        },
        "id": "4bA9ej0u0GNk",
        "outputId": "9c58b071-c5f0-44b2-ada4-57095ca07e71"
      },
      "outputs": [
        {
          "data": {
            "text/plain": [
              "0.9167783599366395"
            ]
          },
          "execution_count": 17,
          "metadata": {},
          "output_type": "execute_result"
        }
      ],
      "source": [
        "svc.score(X_test, y_test)"
      ]
    },
    {
      "cell_type": "markdown",
      "metadata": {
        "id": "ZidQ2tAKOkhu"
      },
      "source": [
        "PARAMETER TUNNING"
      ]
    },
    {
      "cell_type": "code",
      "execution_count": null,
      "metadata": {
        "colab": {
          "background_save": true,
          "base_uri": "https://localhost:8080/"
        },
        "id": "tF1DC9yiyNll",
        "outputId": "b555c984-ad48-41c8-823a-1969ec291b43"
      },
      "outputs": [
        {
          "name": "stdout",
          "output_type": "stream",
          "text": [
            "training complete\n"
          ]
        }
      ],
      "source": [
        "svc = SVC(gamma=10, C=20, kernel='rbf')\n",
        "svc.fit(X_train, y_train)\n",
        "print('training complete')"
      ]
    },
    {
      "cell_type": "code",
      "execution_count": null,
      "metadata": {
        "colab": {
          "base_uri": "https://localhost:8080/"
        },
        "id": "ngxkkFVJydkS",
        "outputId": "60d093ca-f816-4b52-b4e4-bf76e16ce90b"
      },
      "outputs": [
        {
          "data": {
            "text/plain": [
              "0.995857195077373"
            ]
          },
          "execution_count": 51,
          "metadata": {},
          "output_type": "execute_result"
        }
      ],
      "source": [
        "svc.score(X_test, y_test)"
      ]
    },
    {
      "cell_type": "markdown",
      "metadata": {
        "id": "x8KO1EI4ztWO"
      },
      "source": [
        "# HVR STRESS MODEL EVALUATION"
      ]
    },
    {
      "cell_type": "code",
      "execution_count": null,
      "metadata": {
        "id": "OW3yKWFWR6jd"
      },
      "outputs": [],
      "source": [
        "prediction = svc.predict(X_test)"
      ]
    },
    {
      "cell_type": "code",
      "execution_count": null,
      "metadata": {
        "colab": {
          "base_uri": "https://localhost:8080/"
        },
        "id": "K7yqFx3kPpIX",
        "outputId": "b2c6cd7f-25f1-4044-e5ac-91d789e6a12b"
      },
      "outputs": [
        {
          "data": {
            "text/plain": [
              "0.9997563055927866"
            ]
          },
          "execution_count": 44,
          "metadata": {},
          "output_type": "execute_result"
        }
      ],
      "source": [
        "from sklearn import metrics\n",
        "accuracy = metrics.accuracy_score(y_test, prediction)\n",
        "accuracy"
      ]
    },
    {
      "cell_type": "code",
      "execution_count": null,
      "metadata": {
        "colab": {
          "base_uri": "https://localhost:8080/",
          "height": 70
        },
        "id": "XxwQWih9SOZu",
        "outputId": "fb391b84-9cf4-4e80-bc09-3e285be07ec6"
      },
      "outputs": [
        {
          "data": {
            "application/vnd.google.colaboratory.intrinsic+json": {
              "type": "string"
            },
            "text/plain": [
              "'              precision    recall  f1-score   support\\n\\n           0       1.00      1.00      1.00      2368\\n           1       1.00      1.00      1.00      4489\\n           2       1.00      1.00      1.00      1350\\n\\n    accuracy                           1.00      8207\\n   macro avg       1.00      1.00      1.00      8207\\nweighted avg       1.00      1.00      1.00      8207\\n'"
            ]
          },
          "execution_count": 45,
          "metadata": {},
          "output_type": "execute_result"
        }
      ],
      "source": [
        "model_report = metrics.classification_report(y_test, prediction)\n",
        "model_report"
      ]
    },
    {
      "cell_type": "code",
      "execution_count": null,
      "metadata": {
        "id": "mSSDpRPxRPtu"
      },
      "outputs": [],
      "source": [
        "cm = metrics.confusion_matrix(y_test, prediction)"
      ]
    },
    {
      "cell_type": "code",
      "execution_count": null,
      "metadata": {
        "colab": {
          "base_uri": "https://localhost:8080/"
        },
        "id": "G6rnBm62TWka",
        "outputId": "887ea9cd-8c8e-49d5-a6ff-bc6f256dd6fe"
      },
      "outputs": [
        {
          "name": "stdout",
          "output_type": "stream",
          "text": [
            "Looking in indexes: https://pypi.org/simple, https://us-python.pkg.dev/colab-wheels/public/simple/\n",
            "Collecting scikit-plot\n",
            "  Downloading scikit_plot-0.3.7-py3-none-any.whl (33 kB)\n",
            "Requirement already satisfied: joblib>=0.10 in /usr/local/lib/python3.7/dist-packages (from scikit-plot) (1.1.0)\n",
            "Requirement already satisfied: matplotlib>=1.4.0 in /usr/local/lib/python3.7/dist-packages (from scikit-plot) (3.2.2)\n",
            "Requirement already satisfied: scipy>=0.9 in /usr/local/lib/python3.7/dist-packages (from scikit-plot) (1.4.1)\n",
            "Requirement already satisfied: scikit-learn>=0.18 in /usr/local/lib/python3.7/dist-packages (from scikit-plot) (1.0.2)\n",
            "Requirement already satisfied: cycler>=0.10 in /usr/local/lib/python3.7/dist-packages (from matplotlib>=1.4.0->scikit-plot) (0.11.0)\n",
            "Requirement already satisfied: python-dateutil>=2.1 in /usr/local/lib/python3.7/dist-packages (from matplotlib>=1.4.0->scikit-plot) (2.8.2)\n",
            "Requirement already satisfied: kiwisolver>=1.0.1 in /usr/local/lib/python3.7/dist-packages (from matplotlib>=1.4.0->scikit-plot) (1.4.2)\n",
            "Requirement already satisfied: pyparsing!=2.0.4,!=2.1.2,!=2.1.6,>=2.0.1 in /usr/local/lib/python3.7/dist-packages (from matplotlib>=1.4.0->scikit-plot) (3.0.9)\n",
            "Requirement already satisfied: numpy>=1.11 in /usr/local/lib/python3.7/dist-packages (from matplotlib>=1.4.0->scikit-plot) (1.21.6)\n",
            "Requirement already satisfied: typing-extensions in /usr/local/lib/python3.7/dist-packages (from kiwisolver>=1.0.1->matplotlib>=1.4.0->scikit-plot) (4.2.0)\n",
            "Requirement already satisfied: six>=1.5 in /usr/local/lib/python3.7/dist-packages (from python-dateutil>=2.1->matplotlib>=1.4.0->scikit-plot) (1.15.0)\n",
            "Requirement already satisfied: threadpoolctl>=2.0.0 in /usr/local/lib/python3.7/dist-packages (from scikit-learn>=0.18->scikit-plot) (3.1.0)\n",
            "Installing collected packages: scikit-plot\n",
            "Successfully installed scikit-plot-0.3.7\n"
          ]
        }
      ],
      "source": [
        "!pip install scikit-plot"
      ]
    },
    {
      "cell_type": "markdown",
      "metadata": {
        "id": "ao3r0YhbfZ7k"
      },
      "source": [
        "**Confusion** **Matrix**"
      ]
    },
    {
      "cell_type": "code",
      "execution_count": null,
      "metadata": {
        "colab": {
          "base_uri": "https://localhost:8080/",
          "height": 404
        },
        "id": "gezFsOoQTCCQ",
        "outputId": "a9ad0085-9904-47f6-9032-b35606cb0ce3"
      },
      "outputs": [
        {
          "data": {
            "image/png": "[encoded data removed]",
            "text/plain": [
              "<Figure size 576x432 with 2 Axes>"
            ]
          },
          "metadata": {},
          "output_type": "display_data"
        }
      ],
      "source": [
        "# confusion matrix\n",
        "from scikitplot.metrics import plot_confusion_matrix\n",
        "\n",
        "plot_confusion_matrix(y_test, prediction,\n",
        "                      figsize=(8,6),\n",
        "                      title=f'Confusion Matrix: N={len(y_test)}',\n",
        "                      normalize=False);"
      ]
    },
    {
      "cell_type": "code",
      "execution_count": null,
      "metadata": {
        "id": "DjL2Nu3JT0Ht"
      },
      "outputs": [],
      "source": [
        "from sklearn.model_selection import GridSearchCV"
      ]
    },
    {
      "cell_type": "code",
      "execution_count": null,
      "metadata": {
        "colab": {
          "base_uri": "https://localhost:8080/"
        },
        "id": "6HRZRav3UFSk",
        "outputId": "8fe8fdf8-8533-4f5b-c18e-60c945e1a3ed"
      },
      "outputs": [
        {
          "data": {
            "text/plain": [
              "GridSearchCV(cv=3, estimator=SVC(gamma=10),\n",
              "             param_grid={'C': [1, 10, 20], 'kernel': ['rbf', 'linear']})"
            ]
          },
          "execution_count": 19,
          "metadata": {},
          "output_type": "execute_result"
        }
      ],
      "source": [
        "svm_gridcv = GridSearchCV(SVC(gamma=10), {\n",
        "    \"C\":[1, 10, 20],\n",
        "    'kernel' : ['rbf', 'linear']\n",
        "}, cv=3, return_train_score=False)\n",
        "\n",
        "svm_gridcv.fit(X_test, y_test)"
      ]
    },
    {
      "cell_type": "code",
      "execution_count": null,
      "metadata": {
        "colab": {
          "base_uri": "https://localhost:8080/",
          "height": 510
        },
        "id": "7w7Vud6xUFRB",
        "outputId": "83388656-abab-4680-d139-1a663d0b3e58"
      },
      "outputs": [
        {
          "data": {
            "text/html": [
              "\n",
              "  <div id=\"df-8021b7a5-1cc3-43d2-9942-cd5b4fb1c040\">\n",
              "    <div class=\"colab-df-container\">\n",
              "      <div>\n",
              "<style scoped>\n",
              "    .dataframe tbody tr th:only-of-type {\n",
              "        vertical-align: middle;\n",
              "    }\n",
              "\n",
              "    .dataframe tbody tr th {\n",
              "        vertical-align: top;\n",
              "    }\n",
              "\n",
              "    .dataframe thead th {\n",
              "        text-align: right;\n",
              "    }\n",
              "</style>\n",
              "<table border=\"1\" class=\"dataframe\">\n",
              "  <thead>\n",
              "    <tr style=\"text-align: right;\">\n",
              "      <th></th>\n",
              "      <th>mean_fit_time</th>\n",
              "      <th>std_fit_time</th>\n",
              "      <th>mean_score_time</th>\n",
              "      <th>std_score_time</th>\n",
              "      <th>param_C</th>\n",
              "      <th>param_kernel</th>\n",
              "      <th>params</th>\n",
              "      <th>split0_test_score</th>\n",
              "      <th>split1_test_score</th>\n",
              "      <th>split2_test_score</th>\n",
              "      <th>mean_test_score</th>\n",
              "      <th>std_test_score</th>\n",
              "      <th>rank_test_score</th>\n",
              "    </tr>\n",
              "  </thead>\n",
              "  <tbody>\n",
              "    <tr>\n",
              "      <th>0</th>\n",
              "      <td>1.399722</td>\n",
              "      <td>0.526324</td>\n",
              "      <td>0.566521</td>\n",
              "      <td>0.070174</td>\n",
              "      <td>1</td>\n",
              "      <td>rbf</td>\n",
              "      <td>{'C': 1, 'kernel': 'rbf'}</td>\n",
              "      <td>0.987208</td>\n",
              "      <td>0.986842</td>\n",
              "      <td>0.984278</td>\n",
              "      <td>0.986109</td>\n",
              "      <td>0.001304</td>\n",
              "      <td>3</td>\n",
              "    </tr>\n",
              "    <tr>\n",
              "      <th>1</th>\n",
              "      <td>1.357635</td>\n",
              "      <td>0.007305</td>\n",
              "      <td>0.334377</td>\n",
              "      <td>0.009538</td>\n",
              "      <td>1</td>\n",
              "      <td>linear</td>\n",
              "      <td>{'C': 1, 'kernel': 'linear'}</td>\n",
              "      <td>0.635599</td>\n",
              "      <td>0.633406</td>\n",
              "      <td>0.638026</td>\n",
              "      <td>0.635677</td>\n",
              "      <td>0.001887</td>\n",
              "      <td>6</td>\n",
              "    </tr>\n",
              "    <tr>\n",
              "      <th>2</th>\n",
              "      <td>0.807622</td>\n",
              "      <td>0.003567</td>\n",
              "      <td>0.363817</td>\n",
              "      <td>0.003538</td>\n",
              "      <td>10</td>\n",
              "      <td>rbf</td>\n",
              "      <td>{'C': 10, 'kernel': 'rbf'}</td>\n",
              "      <td>0.997076</td>\n",
              "      <td>0.995249</td>\n",
              "      <td>0.994516</td>\n",
              "      <td>0.995613</td>\n",
              "      <td>0.001077</td>\n",
              "      <td>2</td>\n",
              "    </tr>\n",
              "    <tr>\n",
              "      <th>3</th>\n",
              "      <td>1.914654</td>\n",
              "      <td>0.030077</td>\n",
              "      <td>0.320302</td>\n",
              "      <td>0.001535</td>\n",
              "      <td>10</td>\n",
              "      <td>linear</td>\n",
              "      <td>{'C': 10, 'kernel': 'linear'}</td>\n",
              "      <td>0.640716</td>\n",
              "      <td>0.639620</td>\n",
              "      <td>0.640585</td>\n",
              "      <td>0.640307</td>\n",
              "      <td>0.000489</td>\n",
              "      <td>4</td>\n",
              "    </tr>\n",
              "    <tr>\n",
              "      <th>4</th>\n",
              "      <td>0.807700</td>\n",
              "      <td>0.008853</td>\n",
              "      <td>0.356274</td>\n",
              "      <td>0.003528</td>\n",
              "      <td>20</td>\n",
              "      <td>rbf</td>\n",
              "      <td>{'C': 20, 'kernel': 'rbf'}</td>\n",
              "      <td>0.997076</td>\n",
              "      <td>0.995249</td>\n",
              "      <td>0.994881</td>\n",
              "      <td>0.995735</td>\n",
              "      <td>0.000960</td>\n",
              "      <td>1</td>\n",
              "    </tr>\n",
              "    <tr>\n",
              "      <th>5</th>\n",
              "      <td>2.275789</td>\n",
              "      <td>0.037117</td>\n",
              "      <td>0.324584</td>\n",
              "      <td>0.009444</td>\n",
              "      <td>20</td>\n",
              "      <td>linear</td>\n",
              "      <td>{'C': 20, 'kernel': 'linear'}</td>\n",
              "      <td>0.639985</td>\n",
              "      <td>0.638523</td>\n",
              "      <td>0.640219</td>\n",
              "      <td>0.639576</td>\n",
              "      <td>0.000750</td>\n",
              "      <td>5</td>\n",
              "    </tr>\n",
              "  </tbody>\n",
              "</table>\n",
              "</div>\n",
              "      <button class=\"colab-df-convert\" onclick=\"convertToInteractive('df-8021b7a5-1cc3-43d2-9942-cd5b4fb1c040')\"\n",
              "              title=\"Convert this dataframe to an interactive table.\"\n",
              "              style=\"display:none;\">\n",
              "        \n",
              "  <svg xmlns=\"http://www.w3.org/2000/svg\" height=\"24px\"viewBox=\"0 0 24 24\"\n",
              "       width=\"24px\">\n",
              "    <path d=\"M0 0h24v24H0V0z\" fill=\"none\"/>\n",
              "    <path d=\"M18.56 5.44l.94 2.06.94-2.06 2.06-.94-2.06-.94-.94-2.06-.94 2.06-2.06.94zm-11 1L8.5 8.5l.94-2.06 2.06-.94-2.06-.94L8.5 2.5l-.94 2.06-2.06.94zm10 10l.94 2.06.94-2.06 2.06-.94-2.06-.94-.94-2.06-.94 2.06-2.06.94z\"/><path d=\"M17.41 7.96l-1.37-1.37c-.4-.4-.92-.59-1.43-.59-.52 0-1.04.2-1.43.59L10.3 9.45l-7.72 7.72c-.78.78-.78 2.05 0 2.83L4 21.41c.39.39.9.59 1.41.59.51 0 1.02-.2 1.41-.59l7.78-7.78 2.81-2.81c.8-.78.8-2.07 0-2.86zM5.41 20L4 18.59l7.72-7.72 1.47 1.35L5.41 20z\"/>\n",
              "  </svg>\n",
              "      </button>\n",
              "      \n",
              "  <style>\n",
              "    .colab-df-container {\n",
              "      display:flex;\n",
              "      flex-wrap:wrap;\n",
              "      gap: 12px;\n",
              "    }\n",
              "\n",
              "    .colab-df-convert {\n",
              "      background-color: #E8F0FE;\n",
              "      border: none;\n",
              "      border-radius: 50%;\n",
              "      cursor: pointer;\n",
              "      display: none;\n",
              "      fill: #1967D2;\n",
              "      height: 32px;\n",
              "      padding: 0 0 0 0;\n",
              "      width: 32px;\n",
              "    }\n",
              "\n",
              "    .colab-df-convert:hover {\n",
              "      background-color: #E2EBFA;\n",
              "      box-shadow: 0px 1px 2px rgba(60, 64, 67, 0.3), 0px 1px 3px 1px rgba(60, 64, 67, 0.15);\n",
              "      fill: #174EA6;\n",
              "    }\n",
              "\n",
              "    [theme=dark] .colab-df-convert {\n",
              "      background-color: #3B4455;\n",
              "      fill: #D2E3FC;\n",
              "    }\n",
              "\n",
              "    [theme=dark] .colab-df-convert:hover {\n",
              "      background-color: #434B5C;\n",
              "      box-shadow: 0px 1px 3px 1px rgba(0, 0, 0, 0.15);\n",
              "      filter: drop-shadow(0px 1px 2px rgba(0, 0, 0, 0.3));\n",
              "      fill: #FFFFFF;\n",
              "    }\n",
              "  </style>\n",
              "\n",
              "      <script>\n",
              "        const buttonEl =\n",
              "          document.querySelector('#df-8021b7a5-1cc3-43d2-9942-cd5b4fb1c040 button.colab-df-convert');\n",
              "        buttonEl.style.display =\n",
              "          google.colab.kernel.accessAllowed ? 'block' : 'none';\n",
              "\n",
              "        async function convertToInteractive(key) {\n",
              "          const element = document.querySelector('#df-8021b7a5-1cc3-43d2-9942-cd5b4fb1c040');\n",
              "          const dataTable =\n",
              "            await google.colab.kernel.invokeFunction('convertToInteractive',\n",
              "                                                     [key], {});\n",
              "          if (!dataTable) return;\n",
              "\n",
              "          const docLinkHtml = 'Like what you see? Visit the ' +\n",
              "            '<a target=\"_blank\" href=https://colab.research.google.com/notebooks/data_table.ipynb>data table notebook</a>'\n",
              "            + ' to learn more about interactive tables.';\n",
              "          element.innerHTML = '';\n",
              "          dataTable['output_type'] = 'display_data';\n",
              "          await google.colab.output.renderOutput(dataTable, element);\n",
              "          const docLink = document.createElement('div');\n",
              "          docLink.innerHTML = docLinkHtml;\n",
              "          element.appendChild(docLink);\n",
              "        }\n",
              "      </script>\n",
              "    </div>\n",
              "  </div>\n",
              "  "
            ],
            "text/plain": [
              "   mean_fit_time  std_fit_time  mean_score_time  std_score_time param_C  \\\n",
              "0       1.399722      0.526324         0.566521        0.070174       1   \n",
              "1       1.357635      0.007305         0.334377        0.009538       1   \n",
              "2       0.807622      0.003567         0.363817        0.003538      10   \n",
              "3       1.914654      0.030077         0.320302        0.001535      10   \n",
              "4       0.807700      0.008853         0.356274        0.003528      20   \n",
              "5       2.275789      0.037117         0.324584        0.009444      20   \n",
              "\n",
              "  param_kernel                         params  split0_test_score  \\\n",
              "0          rbf      {'C': 1, 'kernel': 'rbf'}           0.987208   \n",
              "1       linear   {'C': 1, 'kernel': 'linear'}           0.635599   \n",
              "2          rbf     {'C': 10, 'kernel': 'rbf'}           0.997076   \n",
              "3       linear  {'C': 10, 'kernel': 'linear'}           0.640716   \n",
              "4          rbf     {'C': 20, 'kernel': 'rbf'}           0.997076   \n",
              "5       linear  {'C': 20, 'kernel': 'linear'}           0.639985   \n",
              "\n",
              "   split1_test_score  split2_test_score  mean_test_score  std_test_score  \\\n",
              "0           0.986842           0.984278         0.986109        0.001304   \n",
              "1           0.633406           0.638026         0.635677        0.001887   \n",
              "2           0.995249           0.994516         0.995613        0.001077   \n",
              "3           0.639620           0.640585         0.640307        0.000489   \n",
              "4           0.995249           0.994881         0.995735        0.000960   \n",
              "5           0.638523           0.640219         0.639576        0.000750   \n",
              "\n",
              "   rank_test_score  \n",
              "0                3  \n",
              "1                6  \n",
              "2                2  \n",
              "3                4  \n",
              "4                1  \n",
              "5                5  "
            ]
          },
          "execution_count": 20,
          "metadata": {},
          "output_type": "execute_result"
        }
      ],
      "source": [
        "import pandas as pd\n",
        "pd.DataFrame\n",
        "comparison_result = pd.DataFrame(svm_gridcv.cv_results_)\n",
        "comparison_result"
      ]
    },
    {
      "cell_type": "code",
      "execution_count": null,
      "metadata": {
        "colab": {
          "base_uri": "https://localhost:8080/",
          "height": 237
        },
        "id": "OJFlmYR2WQ6y",
        "outputId": "18ccba91-b11a-4496-ee1a-fcba92ebad22"
      },
      "outputs": [
        {
          "data": {
            "text/html": [
              "\n",
              "  <div id=\"df-bd129c86-5acd-420a-ac4b-93d28cf6d150\">\n",
              "    <div class=\"colab-df-container\">\n",
              "      <div>\n",
              "<style scoped>\n",
              "    .dataframe tbody tr th:only-of-type {\n",
              "        vertical-align: middle;\n",
              "    }\n",
              "\n",
              "    .dataframe tbody tr th {\n",
              "        vertical-align: top;\n",
              "    }\n",
              "\n",
              "    .dataframe thead th {\n",
              "        text-align: right;\n",
              "    }\n",
              "</style>\n",
              "<table border=\"1\" class=\"dataframe\">\n",
              "  <thead>\n",
              "    <tr style=\"text-align: right;\">\n",
              "      <th></th>\n",
              "      <th>param_C</th>\n",
              "      <th>param_kernel</th>\n",
              "      <th>mean_test_score</th>\n",
              "    </tr>\n",
              "  </thead>\n",
              "  <tbody>\n",
              "    <tr>\n",
              "      <th>0</th>\n",
              "      <td>1</td>\n",
              "      <td>rbf</td>\n",
              "      <td>0.986109</td>\n",
              "    </tr>\n",
              "    <tr>\n",
              "      <th>1</th>\n",
              "      <td>1</td>\n",
              "      <td>linear</td>\n",
              "      <td>0.635677</td>\n",
              "    </tr>\n",
              "    <tr>\n",
              "      <th>2</th>\n",
              "      <td>10</td>\n",
              "      <td>rbf</td>\n",
              "      <td>0.995613</td>\n",
              "    </tr>\n",
              "    <tr>\n",
              "      <th>3</th>\n",
              "      <td>10</td>\n",
              "      <td>linear</td>\n",
              "      <td>0.640307</td>\n",
              "    </tr>\n",
              "    <tr>\n",
              "      <th>4</th>\n",
              "      <td>20</td>\n",
              "      <td>rbf</td>\n",
              "      <td>0.995735</td>\n",
              "    </tr>\n",
              "    <tr>\n",
              "      <th>5</th>\n",
              "      <td>20</td>\n",
              "      <td>linear</td>\n",
              "      <td>0.639576</td>\n",
              "    </tr>\n",
              "  </tbody>\n",
              "</table>\n",
              "</div>\n",
              "      <button class=\"colab-df-convert\" onclick=\"convertToInteractive('df-bd129c86-5acd-420a-ac4b-93d28cf6d150')\"\n",
              "              title=\"Convert this dataframe to an interactive table.\"\n",
              "              style=\"display:none;\">\n",
              "        \n",
              "  <svg xmlns=\"http://www.w3.org/2000/svg\" height=\"24px\"viewBox=\"0 0 24 24\"\n",
              "       width=\"24px\">\n",
              "    <path d=\"M0 0h24v24H0V0z\" fill=\"none\"/>\n",
              "    <path d=\"M18.56 5.44l.94 2.06.94-2.06 2.06-.94-2.06-.94-.94-2.06-.94 2.06-2.06.94zm-11 1L8.5 8.5l.94-2.06 2.06-.94-2.06-.94L8.5 2.5l-.94 2.06-2.06.94zm10 10l.94 2.06.94-2.06 2.06-.94-2.06-.94-.94-2.06-.94 2.06-2.06.94z\"/><path d=\"M17.41 7.96l-1.37-1.37c-.4-.4-.92-.59-1.43-.59-.52 0-1.04.2-1.43.59L10.3 9.45l-7.72 7.72c-.78.78-.78 2.05 0 2.83L4 21.41c.39.39.9.59 1.41.59.51 0 1.02-.2 1.41-.59l7.78-7.78 2.81-2.81c.8-.78.8-2.07 0-2.86zM5.41 20L4 18.59l7.72-7.72 1.47 1.35L5.41 20z\"/>\n",
              "  </svg>\n",
              "      </button>\n",
              "      \n",
              "  <style>\n",
              "    .colab-df-container {\n",
              "      display:flex;\n",
              "      flex-wrap:wrap;\n",
              "      gap: 12px;\n",
              "    }\n",
              "\n",
              "    .colab-df-convert {\n",
              "      background-color: #E8F0FE;\n",
              "      border: none;\n",
              "      border-radius: 50%;\n",
              "      cursor: pointer;\n",
              "      display: none;\n",
              "      fill: #1967D2;\n",
              "      height: 32px;\n",
              "      padding: 0 0 0 0;\n",
              "      width: 32px;\n",
              "    }\n",
              "\n",
              "    .colab-df-convert:hover {\n",
              "      background-color: #E2EBFA;\n",
              "      box-shadow: 0px 1px 2px rgba(60, 64, 67, 0.3), 0px 1px 3px 1px rgba(60, 64, 67, 0.15);\n",
              "      fill: #174EA6;\n",
              "    }\n",
              "\n",
              "    [theme=dark] .colab-df-convert {\n",
              "      background-color: #3B4455;\n",
              "      fill: #D2E3FC;\n",
              "    }\n",
              "\n",
              "    [theme=dark] .colab-df-convert:hover {\n",
              "      background-color: #434B5C;\n",
              "      box-shadow: 0px 1px 3px 1px rgba(0, 0, 0, 0.15);\n",
              "      filter: drop-shadow(0px 1px 2px rgba(0, 0, 0, 0.3));\n",
              "      fill: #FFFFFF;\n",
              "    }\n",
              "  </style>\n",
              "\n",
              "      <script>\n",
              "        const buttonEl =\n",
              "          document.querySelector('#df-bd129c86-5acd-420a-ac4b-93d28cf6d150 button.colab-df-convert');\n",
              "        buttonEl.style.display =\n",
              "          google.colab.kernel.accessAllowed ? 'block' : 'none';\n",
              "\n",
              "        async function convertToInteractive(key) {\n",
              "          const element = document.querySelector('#df-bd129c86-5acd-420a-ac4b-93d28cf6d150');\n",
              "          const dataTable =\n",
              "            await google.colab.kernel.invokeFunction('convertToInteractive',\n",
              "                                                     [key], {});\n",
              "          if (!dataTable) return;\n",
              "\n",
              "          const docLinkHtml = 'Like what you see? Visit the ' +\n",
              "            '<a target=\"_blank\" href=https://colab.research.google.com/notebooks/data_table.ipynb>data table notebook</a>'\n",
              "            + ' to learn more about interactive tables.';\n",
              "          element.innerHTML = '';\n",
              "          dataTable['output_type'] = 'display_data';\n",
              "          await google.colab.output.renderOutput(dataTable, element);\n",
              "          const docLink = document.createElement('div');\n",
              "          docLink.innerHTML = docLinkHtml;\n",
              "          element.appendChild(docLink);\n",
              "        }\n",
              "      </script>\n",
              "    </div>\n",
              "  </div>\n",
              "  "
            ],
            "text/plain": [
              "  param_C param_kernel  mean_test_score\n",
              "0       1          rbf         0.986109\n",
              "1       1       linear         0.635677\n",
              "2      10          rbf         0.995613\n",
              "3      10       linear         0.640307\n",
              "4      20          rbf         0.995735\n",
              "5      20       linear         0.639576"
            ]
          },
          "execution_count": 21,
          "metadata": {},
          "output_type": "execute_result"
        }
      ],
      "source": [
        "comparison_result[['param_C', 'param_kernel', 'mean_test_score']]"
      ]
    },
    {
      "cell_type": "code",
      "execution_count": null,
      "metadata": {
        "colab": {
          "base_uri": "https://localhost:8080/"
        },
        "id": "rTFzLQfdXI35",
        "outputId": "29af8544-1c8e-4739-96cc-c6b47d6dabdd"
      },
      "outputs": [
        {
          "data": {
            "text/plain": [
              "mean_fit_time                            0.8077\n",
              "std_fit_time                           0.008853\n",
              "mean_score_time                        0.356274\n",
              "std_score_time                         0.003528\n",
              "param_C                                      20\n",
              "param_kernel                                rbf\n",
              "params               {'C': 20, 'kernel': 'rbf'}\n",
              "split0_test_score                      0.997076\n",
              "split1_test_score                      0.995249\n",
              "split2_test_score                      0.994881\n",
              "mean_test_score                        0.995735\n",
              "std_test_score                          0.00096\n",
              "rank_test_score                               1\n",
              "Name: 4, dtype: object"
            ]
          },
          "execution_count": 25,
          "metadata": {},
          "output_type": "execute_result"
        }
      ],
      "source": [
        "comparison_result.iloc[4]"
      ]
    },
    {
      "cell_type": "code",
      "execution_count": null,
      "metadata": {
        "colab": {
          "base_uri": "https://localhost:8080/",
          "height": 304
        },
        "id": "eqtKDuk1X21M",
        "outputId": "fb6dcf78-0c30-4403-c7d1-a4f6f524e0e5"
      },
      "outputs": [
        {
          "ename": "AttributeError",
          "evalue": "ignored",
          "output_type": "error",
          "traceback": [
            "\u001b[0;31m---------------------------------------------------------------------------\u001b[0m",
            "\u001b[0;31mAttributeError\u001b[0m                            Traceback (most recent call last)",
            "\u001b[0;32m<ipython-input-24-9f6452a53baa>\u001b[0m in \u001b[0;36m<module>\u001b[0;34m()\u001b[0m\n\u001b[0;32m----> 1\u001b[0;31m \u001b[0mcomparison_result\u001b[0m\u001b[0;34m.\u001b[0m\u001b[0mbest_params_\u001b[0m\u001b[0;34m\u001b[0m\u001b[0;34m\u001b[0m\u001b[0m\n\u001b[0m",
            "\u001b[0;32m/usr/local/lib/python3.7/dist-packages/pandas/core/generic.py\u001b[0m in \u001b[0;36m__getattr__\u001b[0;34m(self, name)\u001b[0m\n\u001b[1;32m   5485\u001b[0m         ):\n\u001b[1;32m   5486\u001b[0m             \u001b[0;32mreturn\u001b[0m \u001b[0mself\u001b[0m\u001b[0;34m[\u001b[0m\u001b[0mname\u001b[0m\u001b[0;34m]\u001b[0m\u001b[0;34m\u001b[0m\u001b[0;34m\u001b[0m\u001b[0m\n\u001b[0;32m-> 5487\u001b[0;31m         \u001b[0;32mreturn\u001b[0m \u001b[0mobject\u001b[0m\u001b[0;34m.\u001b[0m\u001b[0m__getattribute__\u001b[0m\u001b[0;34m(\u001b[0m\u001b[0mself\u001b[0m\u001b[0;34m,\u001b[0m \u001b[0mname\u001b[0m\u001b[0;34m)\u001b[0m\u001b[0;34m\u001b[0m\u001b[0;34m\u001b[0m\u001b[0m\n\u001b[0m\u001b[1;32m   5488\u001b[0m \u001b[0;34m\u001b[0m\u001b[0m\n\u001b[1;32m   5489\u001b[0m     \u001b[0;32mdef\u001b[0m \u001b[0m__setattr__\u001b[0m\u001b[0;34m(\u001b[0m\u001b[0mself\u001b[0m\u001b[0;34m,\u001b[0m \u001b[0mname\u001b[0m\u001b[0;34m:\u001b[0m \u001b[0mstr\u001b[0m\u001b[0;34m,\u001b[0m \u001b[0mvalue\u001b[0m\u001b[0;34m)\u001b[0m \u001b[0;34m->\u001b[0m \u001b[0;32mNone\u001b[0m\u001b[0;34m:\u001b[0m\u001b[0;34m\u001b[0m\u001b[0;34m\u001b[0m\u001b[0m\n",
            "\u001b[0;31mAttributeError\u001b[0m: 'DataFrame' object has no attribute 'best_params_'"
          ]
        }
      ],
      "source": [
        "comparison_result.best_params_"
      ]
    },
    {
      "cell_type": "code",
      "source": [
        "import matplotlib.pyplot as plt\n",
        "\n",
        "x = ['RF' , 'SVM' , 'MO-SVR' , 'DCNN', 'MOR-DCNN', 'SVM-GRIDCV']\n",
        "y = [93.4, 94.2, 95.8, 95.2, 92.2, 99.9]\n",
        "plt.figure(figsize=(8,6 ))\n",
        "plt.bar(x,y, color=['red', 'blue', 'green', 'yellow', 'brown', 'black'])\n",
        "plt.ylabel('ACCURACY ( % )')\n",
        "plt.title('COMPARATIVE REPORT')\n",
        "plt.xlabel('APPROACHES')\n",
        "plt.show()"
      ],
      "metadata": {
        "colab": {
          "base_uri": "https://localhost:8080/",
          "height": 404
        },
        "id": "FAD6rVwUEFPu",
        "outputId": "17d237b2-b69c-4277-ea06-6e72ccc68565"
      },
      "execution_count": null,
      "outputs": [
        {
          "output_type": "display_data",
          "data": {
            "text/plain": [
              "<Figure size 576x432 with 1 Axes>"
            ],
            "image/png": "[encoded data removed]"
          },
          "metadata": {
            "needs_background": "light"
          }
        }
      ]
    }
  ],
  "metadata": {
    "colab": {
      "provenance": []
    },
    "kernelspec": {
      "display_name": "Python 3",
      "name": "python3"
    },
    "language_info": {
      "name": "python"
    }
  },
  "nbformat": 4,
  "nbformat_minor": 0
}