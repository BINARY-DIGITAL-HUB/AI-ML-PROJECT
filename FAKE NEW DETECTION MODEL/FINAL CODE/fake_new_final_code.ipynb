{
 "cells": [
  {
   "cell_type": "markdown",
   "id": "c48f727b",
   "metadata": {},
   "source": [
    "IMPORTING NECCESSARY MODULE"
   ]
  },
  {
   "cell_type": "code",
   "execution_count": 1,
   "id": "b8bce9fa",
   "metadata": {},
   "outputs": [],
   "source": [
    "import pandas as pd\n",
    "from matplotlib import style\n",
    "import matplotlib.pyplot as plt\n",
    "import wordcloud\n",
    "from nltk.tokenize import word_tokenize, sent_tokenize\n",
    "from nltk.corpus import stopwords\n",
    "# deep leanring transformation \n",
    "import tensorflow as tf\n",
    "from tensorflow.keras.preprocessing.text import Tokenizer\n",
    "from tensorflow.keras.preprocessing.sequence import pad_sequences\n",
    "from sklearn.model_selection import train_test_split\n",
    "# visualizaing various performance score \n",
    "from sklearn import metrics\n",
    "import seaborn as sn\n",
    "from sklearn.feature_extraction.text import TfidfVectorizer, CountVectorizer\n",
    "from sklearn.svm import SVC\n",
    "from sklearn import naive_bayes \n",
    "from sklearn import ensemble\n",
    "from sklearn import metrics\n",
    "import numpy as np "
   ]
  },
  {
   "cell_type": "markdown",
   "id": "49434554",
   "metadata": {},
   "source": [
    "# Laod Dataset"
   ]
  },
  {
   "cell_type": "markdown",
   "id": "1ceb91df",
   "metadata": {},
   "source": [
    "LOADING FAKE NEWS DATASET"
   ]
  },
  {
   "cell_type": "code",
   "execution_count": 2,
   "id": "786f4044",
   "metadata": {},
   "outputs": [
    {
     "data": {
      "text/html": [
       "<div>\n",
       "<style scoped>\n",
       "    .dataframe tbody tr th:only-of-type {\n",
       "        vertical-align: middle;\n",
       "    }\n",
       "\n",
       "    .dataframe tbody tr th {\n",
       "        vertical-align: top;\n",
       "    }\n",
       "\n",
       "    .dataframe thead th {\n",
       "        text-align: right;\n",
       "    }\n",
       "</style>\n",
       "<table border=\"1\" class=\"dataframe\">\n",
       "  <thead>\n",
       "    <tr style=\"text-align: right;\">\n",
       "      <th></th>\n",
       "      <th>title</th>\n",
       "      <th>text</th>\n",
       "      <th>subject</th>\n",
       "      <th>date</th>\n",
       "    </tr>\n",
       "  </thead>\n",
       "  <tbody>\n",
       "    <tr>\n",
       "      <th>0</th>\n",
       "      <td>Donald Trump Sends Out Embarrassing New Year’...</td>\n",
       "      <td>Donald Trump just couldn t wish all Americans ...</td>\n",
       "      <td>News</td>\n",
       "      <td>December 31, 2017</td>\n",
       "    </tr>\n",
       "    <tr>\n",
       "      <th>1</th>\n",
       "      <td>Drunk Bragging Trump Staffer Started Russian ...</td>\n",
       "      <td>House Intelligence Committee Chairman Devin Nu...</td>\n",
       "      <td>News</td>\n",
       "      <td>December 31, 2017</td>\n",
       "    </tr>\n",
       "    <tr>\n",
       "      <th>2</th>\n",
       "      <td>Sheriff David Clarke Becomes An Internet Joke...</td>\n",
       "      <td>On Friday, it was revealed that former Milwauk...</td>\n",
       "      <td>News</td>\n",
       "      <td>December 30, 2017</td>\n",
       "    </tr>\n",
       "    <tr>\n",
       "      <th>3</th>\n",
       "      <td>Trump Is So Obsessed He Even Has Obama’s Name...</td>\n",
       "      <td>On Christmas day, Donald Trump announced that ...</td>\n",
       "      <td>News</td>\n",
       "      <td>December 29, 2017</td>\n",
       "    </tr>\n",
       "    <tr>\n",
       "      <th>4</th>\n",
       "      <td>Pope Francis Just Called Out Donald Trump Dur...</td>\n",
       "      <td>Pope Francis used his annual Christmas Day mes...</td>\n",
       "      <td>News</td>\n",
       "      <td>December 25, 2017</td>\n",
       "    </tr>\n",
       "  </tbody>\n",
       "</table>\n",
       "</div>"
      ],
      "text/plain": [
       "                                               title  \\\n",
       "0   Donald Trump Sends Out Embarrassing New Year’...   \n",
       "1   Drunk Bragging Trump Staffer Started Russian ...   \n",
       "2   Sheriff David Clarke Becomes An Internet Joke...   \n",
       "3   Trump Is So Obsessed He Even Has Obama’s Name...   \n",
       "4   Pope Francis Just Called Out Donald Trump Dur...   \n",
       "\n",
       "                                                text subject  \\\n",
       "0  Donald Trump just couldn t wish all Americans ...    News   \n",
       "1  House Intelligence Committee Chairman Devin Nu...    News   \n",
       "2  On Friday, it was revealed that former Milwauk...    News   \n",
       "3  On Christmas day, Donald Trump announced that ...    News   \n",
       "4  Pope Francis used his annual Christmas Day mes...    News   \n",
       "\n",
       "                date  \n",
       "0  December 31, 2017  \n",
       "1  December 31, 2017  \n",
       "2  December 30, 2017  \n",
       "3  December 29, 2017  \n",
       "4  December 25, 2017  "
      ]
     },
     "execution_count": 2,
     "metadata": {},
     "output_type": "execute_result"
    }
   ],
   "source": [
    "fake_df = pd.read_csv('Fake.csv/Fake.csv')\n",
    "fake_df.head()"
   ]
  },
  {
   "cell_type": "code",
   "execution_count": 3,
   "id": "2595ed35",
   "metadata": {},
   "outputs": [
    {
     "data": {
      "text/plain": [
       "(23481, 4)"
      ]
     },
     "execution_count": 3,
     "metadata": {},
     "output_type": "execute_result"
    }
   ],
   "source": [
    "fake_df.shape"
   ]
  },
  {
   "cell_type": "markdown",
   "id": "cfd1dc14",
   "metadata": {},
   "source": [
    "LOADING READ NEWS DATASET"
   ]
  },
  {
   "cell_type": "code",
   "execution_count": 4,
   "id": "178c00ec",
   "metadata": {},
   "outputs": [
    {
     "data": {
      "text/html": [
       "<div>\n",
       "<style scoped>\n",
       "    .dataframe tbody tr th:only-of-type {\n",
       "        vertical-align: middle;\n",
       "    }\n",
       "\n",
       "    .dataframe tbody tr th {\n",
       "        vertical-align: top;\n",
       "    }\n",
       "\n",
       "    .dataframe thead th {\n",
       "        text-align: right;\n",
       "    }\n",
       "</style>\n",
       "<table border=\"1\" class=\"dataframe\">\n",
       "  <thead>\n",
       "    <tr style=\"text-align: right;\">\n",
       "      <th></th>\n",
       "      <th>title</th>\n",
       "      <th>text</th>\n",
       "      <th>subject</th>\n",
       "      <th>date</th>\n",
       "    </tr>\n",
       "  </thead>\n",
       "  <tbody>\n",
       "    <tr>\n",
       "      <th>0</th>\n",
       "      <td>As U.S. budget fight looms, Republicans flip t...</td>\n",
       "      <td>WASHINGTON (Reuters) - The head of a conservat...</td>\n",
       "      <td>politicsNews</td>\n",
       "      <td>December 31, 2017</td>\n",
       "    </tr>\n",
       "    <tr>\n",
       "      <th>1</th>\n",
       "      <td>U.S. military to accept transgender recruits o...</td>\n",
       "      <td>WASHINGTON (Reuters) - Transgender people will...</td>\n",
       "      <td>politicsNews</td>\n",
       "      <td>December 29, 2017</td>\n",
       "    </tr>\n",
       "    <tr>\n",
       "      <th>2</th>\n",
       "      <td>Senior U.S. Republican senator: 'Let Mr. Muell...</td>\n",
       "      <td>WASHINGTON (Reuters) - The special counsel inv...</td>\n",
       "      <td>politicsNews</td>\n",
       "      <td>December 31, 2017</td>\n",
       "    </tr>\n",
       "    <tr>\n",
       "      <th>3</th>\n",
       "      <td>FBI Russia probe helped by Australian diplomat...</td>\n",
       "      <td>WASHINGTON (Reuters) - Trump campaign adviser ...</td>\n",
       "      <td>politicsNews</td>\n",
       "      <td>December 30, 2017</td>\n",
       "    </tr>\n",
       "    <tr>\n",
       "      <th>4</th>\n",
       "      <td>Trump wants Postal Service to charge 'much mor...</td>\n",
       "      <td>SEATTLE/WASHINGTON (Reuters) - President Donal...</td>\n",
       "      <td>politicsNews</td>\n",
       "      <td>December 29, 2017</td>\n",
       "    </tr>\n",
       "  </tbody>\n",
       "</table>\n",
       "</div>"
      ],
      "text/plain": [
       "                                               title  \\\n",
       "0  As U.S. budget fight looms, Republicans flip t...   \n",
       "1  U.S. military to accept transgender recruits o...   \n",
       "2  Senior U.S. Republican senator: 'Let Mr. Muell...   \n",
       "3  FBI Russia probe helped by Australian diplomat...   \n",
       "4  Trump wants Postal Service to charge 'much mor...   \n",
       "\n",
       "                                                text       subject  \\\n",
       "0  WASHINGTON (Reuters) - The head of a conservat...  politicsNews   \n",
       "1  WASHINGTON (Reuters) - Transgender people will...  politicsNews   \n",
       "2  WASHINGTON (Reuters) - The special counsel inv...  politicsNews   \n",
       "3  WASHINGTON (Reuters) - Trump campaign adviser ...  politicsNews   \n",
       "4  SEATTLE/WASHINGTON (Reuters) - President Donal...  politicsNews   \n",
       "\n",
       "                 date  \n",
       "0  December 31, 2017   \n",
       "1  December 29, 2017   \n",
       "2  December 31, 2017   \n",
       "3  December 30, 2017   \n",
       "4  December 29, 2017   "
      ]
     },
     "execution_count": 4,
     "metadata": {},
     "output_type": "execute_result"
    }
   ],
   "source": [
    "real_df = pd.read_csv('True.csv/True.csv')\n",
    "real_df.head()"
   ]
  },
  {
   "cell_type": "markdown",
   "id": "8688c976",
   "metadata": {},
   "source": [
    "CREATING TARGET VARIABLE FOR FAKE & REAL NEWS DATASET"
   ]
  },
  {
   "cell_type": "code",
   "execution_count": 5,
   "id": "d64ffd5a",
   "metadata": {},
   "outputs": [],
   "source": [
    "fake_df['target'] = 0\n",
    "real_df['target'] = 1"
   ]
  },
  {
   "cell_type": "markdown",
   "id": "85407d13",
   "metadata": {},
   "source": [
    "MERGING FAKE AND READ NEWS DATASET"
   ]
  },
  {
   "cell_type": "code",
   "execution_count": 6,
   "id": "5792b35e",
   "metadata": {},
   "outputs": [
    {
     "data": {
      "text/html": [
       "<div>\n",
       "<style scoped>\n",
       "    .dataframe tbody tr th:only-of-type {\n",
       "        vertical-align: middle;\n",
       "    }\n",
       "\n",
       "    .dataframe tbody tr th {\n",
       "        vertical-align: top;\n",
       "    }\n",
       "\n",
       "    .dataframe thead th {\n",
       "        text-align: right;\n",
       "    }\n",
       "</style>\n",
       "<table border=\"1\" class=\"dataframe\">\n",
       "  <thead>\n",
       "    <tr style=\"text-align: right;\">\n",
       "      <th></th>\n",
       "      <th>date</th>\n",
       "      <th>subject</th>\n",
       "      <th>target</th>\n",
       "      <th>text</th>\n",
       "      <th>title</th>\n",
       "    </tr>\n",
       "  </thead>\n",
       "  <tbody>\n",
       "    <tr>\n",
       "      <th>0</th>\n",
       "      <td>December 31, 2017</td>\n",
       "      <td>News</td>\n",
       "      <td>0</td>\n",
       "      <td>Donald Trump just couldn t wish all Americans ...</td>\n",
       "      <td>Donald Trump Sends Out Embarrassing New Year’...</td>\n",
       "    </tr>\n",
       "    <tr>\n",
       "      <th>1</th>\n",
       "      <td>December 31, 2017</td>\n",
       "      <td>News</td>\n",
       "      <td>0</td>\n",
       "      <td>House Intelligence Committee Chairman Devin Nu...</td>\n",
       "      <td>Drunk Bragging Trump Staffer Started Russian ...</td>\n",
       "    </tr>\n",
       "    <tr>\n",
       "      <th>2</th>\n",
       "      <td>December 30, 2017</td>\n",
       "      <td>News</td>\n",
       "      <td>0</td>\n",
       "      <td>On Friday, it was revealed that former Milwauk...</td>\n",
       "      <td>Sheriff David Clarke Becomes An Internet Joke...</td>\n",
       "    </tr>\n",
       "    <tr>\n",
       "      <th>3</th>\n",
       "      <td>December 29, 2017</td>\n",
       "      <td>News</td>\n",
       "      <td>0</td>\n",
       "      <td>On Christmas day, Donald Trump announced that ...</td>\n",
       "      <td>Trump Is So Obsessed He Even Has Obama’s Name...</td>\n",
       "    </tr>\n",
       "    <tr>\n",
       "      <th>4</th>\n",
       "      <td>December 25, 2017</td>\n",
       "      <td>News</td>\n",
       "      <td>0</td>\n",
       "      <td>Pope Francis used his annual Christmas Day mes...</td>\n",
       "      <td>Pope Francis Just Called Out Donald Trump Dur...</td>\n",
       "    </tr>\n",
       "  </tbody>\n",
       "</table>\n",
       "</div>"
      ],
      "text/plain": [
       "                date subject  target  \\\n",
       "0  December 31, 2017    News       0   \n",
       "1  December 31, 2017    News       0   \n",
       "2  December 30, 2017    News       0   \n",
       "3  December 29, 2017    News       0   \n",
       "4  December 25, 2017    News       0   \n",
       "\n",
       "                                                text  \\\n",
       "0  Donald Trump just couldn t wish all Americans ...   \n",
       "1  House Intelligence Committee Chairman Devin Nu...   \n",
       "2  On Friday, it was revealed that former Milwauk...   \n",
       "3  On Christmas day, Donald Trump announced that ...   \n",
       "4  Pope Francis used his annual Christmas Day mes...   \n",
       "\n",
       "                                               title  \n",
       "0   Donald Trump Sends Out Embarrassing New Year’...  \n",
       "1   Drunk Bragging Trump Staffer Started Russian ...  \n",
       "2   Sheriff David Clarke Becomes An Internet Joke...  \n",
       "3   Trump Is So Obsessed He Even Has Obama’s Name...  \n",
       "4   Pope Francis Just Called Out Donald Trump Dur...  "
      ]
     },
     "execution_count": 6,
     "metadata": {},
     "output_type": "execute_result"
    }
   ],
   "source": [
    "data = pd.concat([fake_df, real_df], ignore_index=True, sort=True)\n",
    "data.head()"
   ]
  },
  {
   "cell_type": "code",
   "execution_count": 7,
   "id": "6bed18ab",
   "metadata": {
    "scrolled": true
   },
   "outputs": [
    {
     "data": {
      "text/plain": [
       "(44898, 5)"
      ]
     },
     "execution_count": 7,
     "metadata": {},
     "output_type": "execute_result"
    }
   ],
   "source": [
    "data.shape"
   ]
  },
  {
   "cell_type": "code",
   "execution_count": 8,
   "id": "8d431243",
   "metadata": {},
   "outputs": [
    {
     "data": {
      "text/plain": [
       "'Row 44898 : & Col: 5'"
      ]
     },
     "execution_count": 8,
     "metadata": {},
     "output_type": "execute_result"
    }
   ],
   "source": [
    "# dataset shape \n",
    "row , col = data.shape\n",
    "\"Row {} : & Col: {}\".format(row, col)"
   ]
  },
  {
   "cell_type": "markdown",
   "id": "5668c40c",
   "metadata": {},
   "source": [
    "# Exploring Dataset"
   ]
  },
  {
   "cell_type": "code",
   "execution_count": 9,
   "id": "ce5bd5bd",
   "metadata": {
    "scrolled": true
   },
   "outputs": [
    {
     "data": {
      "text/html": [
       "<div>\n",
       "<style scoped>\n",
       "    .dataframe tbody tr th:only-of-type {\n",
       "        vertical-align: middle;\n",
       "    }\n",
       "\n",
       "    .dataframe tbody tr th {\n",
       "        vertical-align: top;\n",
       "    }\n",
       "\n",
       "    .dataframe thead th {\n",
       "        text-align: right;\n",
       "    }\n",
       "</style>\n",
       "<table border=\"1\" class=\"dataframe\">\n",
       "  <thead>\n",
       "    <tr style=\"text-align: right;\">\n",
       "      <th></th>\n",
       "      <th>date</th>\n",
       "      <th>subject</th>\n",
       "      <th>target</th>\n",
       "      <th>text</th>\n",
       "      <th>title</th>\n",
       "    </tr>\n",
       "  </thead>\n",
       "  <tbody>\n",
       "    <tr>\n",
       "      <th>0</th>\n",
       "      <td>December 31, 2017</td>\n",
       "      <td>News</td>\n",
       "      <td>0</td>\n",
       "      <td>Donald Trump just couldn t wish all Americans ...</td>\n",
       "      <td>Donald Trump Sends Out Embarrassing New Year’...</td>\n",
       "    </tr>\n",
       "    <tr>\n",
       "      <th>1</th>\n",
       "      <td>December 31, 2017</td>\n",
       "      <td>News</td>\n",
       "      <td>0</td>\n",
       "      <td>House Intelligence Committee Chairman Devin Nu...</td>\n",
       "      <td>Drunk Bragging Trump Staffer Started Russian ...</td>\n",
       "    </tr>\n",
       "    <tr>\n",
       "      <th>2</th>\n",
       "      <td>December 30, 2017</td>\n",
       "      <td>News</td>\n",
       "      <td>0</td>\n",
       "      <td>On Friday, it was revealed that former Milwauk...</td>\n",
       "      <td>Sheriff David Clarke Becomes An Internet Joke...</td>\n",
       "    </tr>\n",
       "    <tr>\n",
       "      <th>3</th>\n",
       "      <td>December 29, 2017</td>\n",
       "      <td>News</td>\n",
       "      <td>0</td>\n",
       "      <td>On Christmas day, Donald Trump announced that ...</td>\n",
       "      <td>Trump Is So Obsessed He Even Has Obama’s Name...</td>\n",
       "    </tr>\n",
       "    <tr>\n",
       "      <th>4</th>\n",
       "      <td>December 25, 2017</td>\n",
       "      <td>News</td>\n",
       "      <td>0</td>\n",
       "      <td>Pope Francis used his annual Christmas Day mes...</td>\n",
       "      <td>Pope Francis Just Called Out Donald Trump Dur...</td>\n",
       "    </tr>\n",
       "  </tbody>\n",
       "</table>\n",
       "</div>"
      ],
      "text/plain": [
       "                date subject  target  \\\n",
       "0  December 31, 2017    News       0   \n",
       "1  December 31, 2017    News       0   \n",
       "2  December 30, 2017    News       0   \n",
       "3  December 29, 2017    News       0   \n",
       "4  December 25, 2017    News       0   \n",
       "\n",
       "                                                text  \\\n",
       "0  Donald Trump just couldn t wish all Americans ...   \n",
       "1  House Intelligence Committee Chairman Devin Nu...   \n",
       "2  On Friday, it was revealed that former Milwauk...   \n",
       "3  On Christmas day, Donald Trump announced that ...   \n",
       "4  Pope Francis used his annual Christmas Day mes...   \n",
       "\n",
       "                                               title  \n",
       "0   Donald Trump Sends Out Embarrassing New Year’...  \n",
       "1   Drunk Bragging Trump Staffer Started Russian ...  \n",
       "2   Sheriff David Clarke Becomes An Internet Joke...  \n",
       "3   Trump Is So Obsessed He Even Has Obama’s Name...  \n",
       "4   Pope Francis Just Called Out Donald Trump Dur...  "
      ]
     },
     "execution_count": 9,
     "metadata": {},
     "output_type": "execute_result"
    }
   ],
   "source": [
    "data.head(5)"
   ]
  },
  {
   "cell_type": "code",
   "execution_count": 10,
   "id": "96287c00",
   "metadata": {},
   "outputs": [
    {
     "data": {
      "text/html": [
       "<div>\n",
       "<style scoped>\n",
       "    .dataframe tbody tr th:only-of-type {\n",
       "        vertical-align: middle;\n",
       "    }\n",
       "\n",
       "    .dataframe tbody tr th {\n",
       "        vertical-align: top;\n",
       "    }\n",
       "\n",
       "    .dataframe thead th {\n",
       "        text-align: right;\n",
       "    }\n",
       "</style>\n",
       "<table border=\"1\" class=\"dataframe\">\n",
       "  <thead>\n",
       "    <tr style=\"text-align: right;\">\n",
       "      <th></th>\n",
       "      <th>date</th>\n",
       "      <th>subject</th>\n",
       "      <th>target</th>\n",
       "      <th>text</th>\n",
       "      <th>title</th>\n",
       "    </tr>\n",
       "  </thead>\n",
       "  <tbody>\n",
       "    <tr>\n",
       "      <th>44893</th>\n",
       "      <td>August 22, 2017</td>\n",
       "      <td>worldnews</td>\n",
       "      <td>1</td>\n",
       "      <td>BRUSSELS (Reuters) - NATO allies on Tuesday we...</td>\n",
       "      <td>'Fully committed' NATO backs new U.S. approach...</td>\n",
       "    </tr>\n",
       "    <tr>\n",
       "      <th>44894</th>\n",
       "      <td>August 22, 2017</td>\n",
       "      <td>worldnews</td>\n",
       "      <td>1</td>\n",
       "      <td>LONDON (Reuters) - LexisNexis, a provider of l...</td>\n",
       "      <td>LexisNexis withdrew two products from Chinese ...</td>\n",
       "    </tr>\n",
       "    <tr>\n",
       "      <th>44895</th>\n",
       "      <td>August 22, 2017</td>\n",
       "      <td>worldnews</td>\n",
       "      <td>1</td>\n",
       "      <td>MINSK (Reuters) - In the shadow of disused Sov...</td>\n",
       "      <td>Minsk cultural hub becomes haven from authorities</td>\n",
       "    </tr>\n",
       "    <tr>\n",
       "      <th>44896</th>\n",
       "      <td>August 22, 2017</td>\n",
       "      <td>worldnews</td>\n",
       "      <td>1</td>\n",
       "      <td>MOSCOW (Reuters) - Vatican Secretary of State ...</td>\n",
       "      <td>Vatican upbeat on possibility of Pope Francis ...</td>\n",
       "    </tr>\n",
       "    <tr>\n",
       "      <th>44897</th>\n",
       "      <td>August 22, 2017</td>\n",
       "      <td>worldnews</td>\n",
       "      <td>1</td>\n",
       "      <td>JAKARTA (Reuters) - Indonesia will buy 11 Sukh...</td>\n",
       "      <td>Indonesia to buy $1.14 billion worth of Russia...</td>\n",
       "    </tr>\n",
       "  </tbody>\n",
       "</table>\n",
       "</div>"
      ],
      "text/plain": [
       "                   date    subject  target  \\\n",
       "44893  August 22, 2017   worldnews       1   \n",
       "44894  August 22, 2017   worldnews       1   \n",
       "44895  August 22, 2017   worldnews       1   \n",
       "44896  August 22, 2017   worldnews       1   \n",
       "44897  August 22, 2017   worldnews       1   \n",
       "\n",
       "                                                    text  \\\n",
       "44893  BRUSSELS (Reuters) - NATO allies on Tuesday we...   \n",
       "44894  LONDON (Reuters) - LexisNexis, a provider of l...   \n",
       "44895  MINSK (Reuters) - In the shadow of disused Sov...   \n",
       "44896  MOSCOW (Reuters) - Vatican Secretary of State ...   \n",
       "44897  JAKARTA (Reuters) - Indonesia will buy 11 Sukh...   \n",
       "\n",
       "                                                   title  \n",
       "44893  'Fully committed' NATO backs new U.S. approach...  \n",
       "44894  LexisNexis withdrew two products from Chinese ...  \n",
       "44895  Minsk cultural hub becomes haven from authorities  \n",
       "44896  Vatican upbeat on possibility of Pope Francis ...  \n",
       "44897  Indonesia to buy $1.14 billion worth of Russia...  "
      ]
     },
     "execution_count": 10,
     "metadata": {},
     "output_type": "execute_result"
    }
   ],
   "source": [
    "data.tail()"
   ]
  },
  {
   "cell_type": "code",
   "execution_count": 11,
   "id": "c36ca38f",
   "metadata": {},
   "outputs": [
    {
     "data": {
      "text/html": [
       "<div>\n",
       "<style scoped>\n",
       "    .dataframe tbody tr th:only-of-type {\n",
       "        vertical-align: middle;\n",
       "    }\n",
       "\n",
       "    .dataframe tbody tr th {\n",
       "        vertical-align: top;\n",
       "    }\n",
       "\n",
       "    .dataframe thead th {\n",
       "        text-align: right;\n",
       "    }\n",
       "</style>\n",
       "<table border=\"1\" class=\"dataframe\">\n",
       "  <thead>\n",
       "    <tr style=\"text-align: right;\">\n",
       "      <th></th>\n",
       "      <th>date</th>\n",
       "      <th>subject</th>\n",
       "      <th>target</th>\n",
       "      <th>text</th>\n",
       "      <th>title</th>\n",
       "    </tr>\n",
       "  </thead>\n",
       "  <tbody>\n",
       "    <tr>\n",
       "      <th>1363</th>\n",
       "      <td>May 24, 2017</td>\n",
       "      <td>News</td>\n",
       "      <td>0</td>\n",
       "      <td>For a man who has spent his entire life fat-sh...</td>\n",
       "      <td>Trump Stunned As Pope Calls Him Fat To His Fa...</td>\n",
       "    </tr>\n",
       "    <tr>\n",
       "      <th>37013</th>\n",
       "      <td>November 29, 2017</td>\n",
       "      <td>worldnews</td>\n",
       "      <td>1</td>\n",
       "      <td>ANKARA (Reuters) - President Tayyip Erdogan di...</td>\n",
       "      <td>Turkish President calls accusations of family ...</td>\n",
       "    </tr>\n",
       "    <tr>\n",
       "      <th>18293</th>\n",
       "      <td>Jul 18, 2017</td>\n",
       "      <td>left-news</td>\n",
       "      <td>0</td>\n",
       "      <td>Comedian Mark Dice explores the influence so-c...</td>\n",
       "      <td>CHEVY CHASE ADMITS To Using Position At SNL To...</td>\n",
       "    </tr>\n",
       "    <tr>\n",
       "      <th>14175</th>\n",
       "      <td>Apr 4, 2016</td>\n",
       "      <td>politics</td>\n",
       "      <td>0</td>\n",
       "      <td>President Barack Obama danced the night away i...</td>\n",
       "      <td>U.S. TAXPAYERS FOOT $1.4 MILLION BILL So Obama...</td>\n",
       "    </tr>\n",
       "    <tr>\n",
       "      <th>9291</th>\n",
       "      <td>Dec 3, 2017</td>\n",
       "      <td>politics</td>\n",
       "      <td>0</td>\n",
       "      <td>Lack of leadership? How about pot calling the ...</td>\n",
       "      <td>Classless Obama Continues to Shamelessly Shado...</td>\n",
       "    </tr>\n",
       "  </tbody>\n",
       "</table>\n",
       "</div>"
      ],
      "text/plain": [
       "                     date    subject  target  \\\n",
       "1363         May 24, 2017       News       0   \n",
       "37013  November 29, 2017   worldnews       1   \n",
       "18293        Jul 18, 2017  left-news       0   \n",
       "14175         Apr 4, 2016   politics       0   \n",
       "9291          Dec 3, 2017   politics       0   \n",
       "\n",
       "                                                    text  \\\n",
       "1363   For a man who has spent his entire life fat-sh...   \n",
       "37013  ANKARA (Reuters) - President Tayyip Erdogan di...   \n",
       "18293  Comedian Mark Dice explores the influence so-c...   \n",
       "14175  President Barack Obama danced the night away i...   \n",
       "9291   Lack of leadership? How about pot calling the ...   \n",
       "\n",
       "                                                   title  \n",
       "1363    Trump Stunned As Pope Calls Him Fat To His Fa...  \n",
       "37013  Turkish President calls accusations of family ...  \n",
       "18293  CHEVY CHASE ADMITS To Using Position At SNL To...  \n",
       "14175  U.S. TAXPAYERS FOOT $1.4 MILLION BILL So Obama...  \n",
       "9291   Classless Obama Continues to Shamelessly Shado...  "
      ]
     },
     "execution_count": 11,
     "metadata": {},
     "output_type": "execute_result"
    }
   ],
   "source": [
    "data.sample(5)"
   ]
  },
  {
   "cell_type": "markdown",
   "id": "d0f29c39",
   "metadata": {},
   "source": [
    "SHOW NUMBER OF ROWS AND COLUMN"
   ]
  },
  {
   "cell_type": "code",
   "execution_count": 12,
   "id": "57d3e8c1",
   "metadata": {},
   "outputs": [
    {
     "data": {
      "text/plain": [
       "'Row 44898 : & Col: 5'"
      ]
     },
     "execution_count": 12,
     "metadata": {},
     "output_type": "execute_result"
    }
   ],
   "source": [
    "# dataset shape \n",
    "row , col = data.shape\n",
    "\"Row {} : & Col: {}\".format(row, col)"
   ]
  },
  {
   "cell_type": "code",
   "execution_count": null,
   "id": "4f241bf4",
   "metadata": {},
   "outputs": [],
   "source": []
  },
  {
   "cell_type": "code",
   "execution_count": 13,
   "id": "07b7b56b",
   "metadata": {},
   "outputs": [
    {
     "data": {
      "image/png": "[encoded data removed]",
      "text/plain": [
       "<Figure size 400x400 with 1 Axes>"
      ]
     },
     "metadata": {},
     "output_type": "display_data"
    }
   ],
   "source": [
    "data.target.value_counts().plot(kind='bar', color=['green', 'orange'], figsize=(4,4))\n",
    "plt.xlabel('TARGET')\n",
    "plt.ylabel('VALUE COUNT')\n",
    "plt.grid(True)\n",
    "plt.title('DATA POINT COUNT')\n",
    "plt.show()"
   ]
  },
  {
   "cell_type": "code",
   "execution_count": 14,
   "id": "42349aa3",
   "metadata": {},
   "outputs": [
    {
     "data": {
      "image/png": "[encoded data removed]",
      "text/plain": [
       "<Figure size 400x400 with 1 Axes>"
      ]
     },
     "metadata": {},
     "output_type": "display_data"
    }
   ],
   "source": [
    "data.target.value_counts().plot(kind='pie' , figsize=(4,4), autopct='%.2f' ,  labels=['Fake', 'Real'])\n",
    "plt.xlabel('TARGET')\n",
    "plt.ylabel('VALUE COUNT')\n",
    "plt.grid(True)\n",
    "plt.title('DATA POINT COUNT')\n",
    "plt.show()"
   ]
  },
  {
   "cell_type": "code",
   "execution_count": 15,
   "id": "aeed1a85",
   "metadata": {},
   "outputs": [
    {
     "data": {
      "text/plain": [
       "Text(0.5, 1.0, 'Distribution of The Subject According to Real and Fake Data')"
      ]
     },
     "execution_count": 15,
     "metadata": {},
     "output_type": "execute_result"
    },
    {
     "data": {
      "image/png": "[encoded data removed]",
      "text/plain": [
       "<Figure size 1000x500 with 1 Axes>"
      ]
     },
     "metadata": {},
     "output_type": "display_data"
    }
   ],
   "source": [
    "import seaborn as sns\n",
    "\n",
    "plt.figure(figsize=(10, 5))\n",
    "ax = sns.countplot(x=\"subject\",  hue='target', data=data, palette=\"pastel\")\n",
    "plt.title(\"Distribution of The Subject According to Real and Fake Data\")"
   ]
  },
  {
   "cell_type": "code",
   "execution_count": 16,
   "id": "7d56c66c",
   "metadata": {},
   "outputs": [
    {
     "data": {
      "text/html": [
       "<div>\n",
       "<style scoped>\n",
       "    .dataframe tbody tr th:only-of-type {\n",
       "        vertical-align: middle;\n",
       "    }\n",
       "\n",
       "    .dataframe tbody tr th {\n",
       "        vertical-align: top;\n",
       "    }\n",
       "\n",
       "    .dataframe thead th {\n",
       "        text-align: right;\n",
       "    }\n",
       "</style>\n",
       "<table border=\"1\" class=\"dataframe\">\n",
       "  <thead>\n",
       "    <tr style=\"text-align: right;\">\n",
       "      <th></th>\n",
       "      <th>target</th>\n",
       "      <th>text</th>\n",
       "    </tr>\n",
       "  </thead>\n",
       "  <tbody>\n",
       "    <tr>\n",
       "      <th>0</th>\n",
       "      <td>0</td>\n",
       "      <td>News  Donald Trump Sends Out Embarrassing New ...</td>\n",
       "    </tr>\n",
       "    <tr>\n",
       "      <th>1</th>\n",
       "      <td>0</td>\n",
       "      <td>News  Drunk Bragging Trump Staffer Started Rus...</td>\n",
       "    </tr>\n",
       "    <tr>\n",
       "      <th>2</th>\n",
       "      <td>0</td>\n",
       "      <td>News  Sheriff David Clarke Becomes An Internet...</td>\n",
       "    </tr>\n",
       "    <tr>\n",
       "      <th>3</th>\n",
       "      <td>0</td>\n",
       "      <td>News  Trump Is So Obsessed He Even Has Obama’s...</td>\n",
       "    </tr>\n",
       "    <tr>\n",
       "      <th>4</th>\n",
       "      <td>0</td>\n",
       "      <td>News  Pope Francis Just Called Out Donald Trum...</td>\n",
       "    </tr>\n",
       "  </tbody>\n",
       "</table>\n",
       "</div>"
      ],
      "text/plain": [
       "   target                                               text\n",
       "0       0  News  Donald Trump Sends Out Embarrassing New ...\n",
       "1       0  News  Drunk Bragging Trump Staffer Started Rus...\n",
       "2       0  News  Sheriff David Clarke Becomes An Internet...\n",
       "3       0  News  Trump Is So Obsessed He Even Has Obama’s...\n",
       "4       0  News  Pope Francis Just Called Out Donald Trum..."
      ]
     },
     "execution_count": 16,
     "metadata": {},
     "output_type": "execute_result"
    }
   ],
   "source": [
    "data['text']= data['subject'] + \" \" + data['title'] + \" \" + data['text']\n",
    "del data['title']\n",
    "del data['subject']\n",
    "del data['date']\n",
    "data.head()"
   ]
  },
  {
   "cell_type": "code",
   "execution_count": 17,
   "id": "af3d452c",
   "metadata": {},
   "outputs": [
    {
     "data": {
      "text/plain": [
       "'News  Donald Trump Sends Out Embarrassing New Year’s Eve Message; This is Disturbing Donald Trump just couldn t wish all Americans a Happy New Year and leave it at that. Instead, he had to give a shout out to his enemies, haters and  the very dishonest fake news media.  The former reality show star had just one job to do and he couldn t do it. As our Country rapidly grows stronger and smarter, I want to wish all of my friends, supporters, enemies, haters, and even the very dishonest Fake News Media, a Happy and Healthy New Year,  President Angry Pants tweeted.  2018 will be a great year for America! As our Country rapidly grows stronger and smarter, I want to wish all of my friends, supporters, enemies, haters, and even the very dishonest Fake News Media, a Happy and Healthy New Year. 2018 will be a great year for America!  Donald J. Trump (@realDonaldTrump) December 31, 2017Trump s tweet went down about as welll as you d expect.What kind of president sends a New Year s greeting like this despicable, petty, infantile gibberish? Only Trump! His lack of decency won t even allow him to rise above the gutter long enough to wish the American citizens a happy new year!  Bishop Talbert Swan (@TalbertSwan) December 31, 2017no one likes you  Calvin (@calvinstowell) December 31, 2017Your impeachment would make 2018 a great year for America, but I ll also accept regaining control of Congress.  Miranda Yaver (@mirandayaver) December 31, 2017Do you hear yourself talk? When you have to include that many people that hate you you have to wonder? Why do the they all hate me?  Alan Sandoval (@AlanSandoval13) December 31, 2017Who uses the word Haters in a New Years wish??  Marlene (@marlene399) December 31, 2017You can t just say happy new year?  Koren pollitt (@Korencarpenter) December 31, 2017Here s Trump s New Year s Eve tweet from 2016.Happy New Year to all, including to my many enemies and those who have fought me and lost so badly they just don t know what to do. Love!  Donald J. Trump (@realDonaldTrump) December 31, 2016This is nothing new for Trump. He s been doing this for years.Trump has directed messages to his  enemies  and  haters  for New Year s, Easter, Thanksgiving, and the anniversary of 9/11. pic.twitter.com/4FPAe2KypA  Daniel Dale (@ddale8) December 31, 2017Trump s holiday tweets are clearly not presidential.How long did he work at Hallmark before becoming President?  Steven Goodine (@SGoodine) December 31, 2017He s always been like this . . . the only difference is that in the last few years, his filter has been breaking down.  Roy Schulze (@thbthttt) December 31, 2017Who, apart from a teenager uses the term haters?  Wendy (@WendyWhistles) December 31, 2017he s a fucking 5 year old  Who Knows (@rainyday80) December 31, 2017So, to all the people who voted for this a hole thinking he would change once he got into power, you were wrong! 70-year-old men don t change and now he s a year older.Photo by Andrew Burton/Getty Images.'"
      ]
     },
     "execution_count": 17,
     "metadata": {},
     "output_type": "execute_result"
    }
   ],
   "source": [
    "data.text[0]"
   ]
  },
  {
   "cell_type": "code",
   "execution_count": 18,
   "id": "288a055a",
   "metadata": {},
   "outputs": [],
   "source": [
    "# from bs4 import BeautifulSoup\n",
    "# import re\n",
    "# import nltk\n",
    "\n",
    "# #Removal of HTML Contents\n",
    "# def remove_html(text):\n",
    "#     soup = BeautifulSoup(text, \"html.parser\")\n",
    "#     return soup.get_text()\n",
    "\n",
    "# #Removal of Punctuation Marks\n",
    "# def remove_punctuations(text):\n",
    "#     return re.sub('\\[[^]]*\\]', '', text)\n",
    "\n",
    "# # Removal of Special Characters\n",
    "# def remove_characters(text):\n",
    "#     return re.sub(\"[^a-zA-Z]\",\" \",text)\n",
    "\n",
    "# #Removal of stopwords \n",
    "# def remove_stopwords_and_lemmatization(text):\n",
    "#     final_text = []\n",
    "#     text = text.lower()\n",
    "#     text = nltk.word_tokenize(text)\n",
    "    \n",
    "#     for word in text:\n",
    "#         if word not in set(stopwords.words('english')):\n",
    "#             lemma = nltk.WordNetLemmatizer()\n",
    "#             word = lemma.lemmatize(word) \n",
    "#             final_text.append(word)\n",
    "#     return \" \".join(final_text)\n",
    "\n",
    "# #Total function\n",
    "# def cleaning(text):\n",
    "#     text = remove_html(text)\n",
    "#     text = remove_punctuations(text)\n",
    "#     text = remove_characters(text)\n",
    "#     text = remove_stopwords_and_lemmatization(text)\n",
    "#     return text\n",
    "\n",
    "# #Apply function on text column\n",
    "# data['text']=data['text'].apply(cleaning)"
   ]
  },
  {
   "cell_type": "code",
   "execution_count": 19,
   "id": "c096b72b",
   "metadata": {},
   "outputs": [
    {
     "data": {
      "text/html": [
       "<div>\n",
       "<style scoped>\n",
       "    .dataframe tbody tr th:only-of-type {\n",
       "        vertical-align: middle;\n",
       "    }\n",
       "\n",
       "    .dataframe tbody tr th {\n",
       "        vertical-align: top;\n",
       "    }\n",
       "\n",
       "    .dataframe thead th {\n",
       "        text-align: right;\n",
       "    }\n",
       "</style>\n",
       "<table border=\"1\" class=\"dataframe\">\n",
       "  <thead>\n",
       "    <tr style=\"text-align: right;\">\n",
       "      <th></th>\n",
       "      <th>target</th>\n",
       "      <th>text</th>\n",
       "    </tr>\n",
       "  </thead>\n",
       "  <tbody>\n",
       "    <tr>\n",
       "      <th>0</th>\n",
       "      <td>0</td>\n",
       "      <td>[news, , donald, trump, sends, out, embarrassi...</td>\n",
       "    </tr>\n",
       "    <tr>\n",
       "      <th>1</th>\n",
       "      <td>0</td>\n",
       "      <td>[news, , drunk, bragging, trump, staffer, star...</td>\n",
       "    </tr>\n",
       "    <tr>\n",
       "      <th>2</th>\n",
       "      <td>0</td>\n",
       "      <td>[news, , sheriff, david, clarke, becomes, an, ...</td>\n",
       "    </tr>\n",
       "    <tr>\n",
       "      <th>3</th>\n",
       "      <td>0</td>\n",
       "      <td>[news, , trump, is, so, obsessed, he, even, ha...</td>\n",
       "    </tr>\n",
       "    <tr>\n",
       "      <th>4</th>\n",
       "      <td>0</td>\n",
       "      <td>[news, , pope, francis, just, called, out, don...</td>\n",
       "    </tr>\n",
       "  </tbody>\n",
       "</table>\n",
       "</div>"
      ],
      "text/plain": [
       "   target                                               text\n",
       "0       0  [news, , donald, trump, sends, out, embarrassi...\n",
       "1       0  [news, , drunk, bragging, trump, staffer, star...\n",
       "2       0  [news, , sheriff, david, clarke, becomes, an, ...\n",
       "3       0  [news, , trump, is, so, obsessed, he, even, ha...\n",
       "4       0  [news, , pope, francis, just, called, out, don..."
      ]
     },
     "execution_count": 19,
     "metadata": {},
     "output_type": "execute_result"
    }
   ],
   "source": [
    "import string\n",
    "\n",
    "# remove new line character and special symbols\n",
    "def clean_text(doc):\n",
    "    doc = ''.join([d.replace('\\n', '@').replace('—', '@') for d in doc])\n",
    "    doc = ''.join([d.lower() for d in doc if d not in string.punctuation])\n",
    "    doc = doc.split(' ')\n",
    "   \n",
    "\n",
    "#     token = word_tokenize(doc)\n",
    "#     doc = [stemmer.stem(d) for d in token if not d in string.punctuation] \n",
    "#     doc = [d for d in doc if not d in st]\n",
    "    \n",
    "    return doc\n",
    "data['text']=data['text'].apply(clean_text)\n",
    "data.head()"
   ]
  },
  {
   "cell_type": "code",
   "execution_count": null,
   "id": "e383f85d",
   "metadata": {},
   "outputs": [],
   "source": []
  },
  {
   "cell_type": "code",
   "execution_count": 21,
   "id": "28ee4658",
   "metadata": {},
   "outputs": [],
   "source": [
    "X_train, X_test, y_train, y_test = train_test_split(data['text'], data['target'], random_state=0)"
   ]
  },
  {
   "cell_type": "code",
   "execution_count": 22,
   "id": "ab343a04",
   "metadata": {},
   "outputs": [
    {
     "name": "stdout",
     "output_type": "stream",
     "text": [
      "(33673,)\n",
      "(11225,)\n"
     ]
    }
   ],
   "source": [
    "print(X_train.shape)\n",
    "print(X_test.shape)"
   ]
  },
  {
   "cell_type": "code",
   "execution_count": 72,
   "id": "e18a942e",
   "metadata": {},
   "outputs": [
    {
     "data": {
      "text/plain": [
       "(33673,)"
      ]
     },
     "execution_count": 72,
     "metadata": {},
     "output_type": "execute_result"
    }
   ],
   "source": [
    "X_train.shape"
   ]
  },
  {
   "cell_type": "code",
   "execution_count": 73,
   "id": "1c9f03af",
   "metadata": {},
   "outputs": [],
   "source": [
    "max_features = 10000\n",
    "maxlen = 300"
   ]
  },
  {
   "cell_type": "code",
   "execution_count": 74,
   "id": "6d0a7b66",
   "metadata": {},
   "outputs": [],
   "source": [
    "tokenizer = Tokenizer(num_words=max_features)\n",
    "tokenizer.fit_on_texts(X_train)\n",
    "tokenized_train = tokenizer.texts_to_sequences(X_train)\n",
    "X_train = pad_sequences(tokenized_train, maxlen=maxlen)"
   ]
  },
  {
   "cell_type": "code",
   "execution_count": 75,
   "id": "29c671a6",
   "metadata": {},
   "outputs": [],
   "source": [
    "tokenized_test = tokenizer.texts_to_sequences(X_test)\n",
    "X_test = pad_sequences(tokenized_test, maxlen=maxlen)"
   ]
  },
  {
   "cell_type": "code",
   "execution_count": 40,
   "id": "d8b00691",
   "metadata": {},
   "outputs": [],
   "source": [
    "batch_size = 256\n",
    "epochs = 10\n",
    "embed_size = 100\n",
    "\n",
    "model = tf.keras.Sequential()\n",
    "#Non-trainable embeddidng layer\n",
    "model.add(tf.keras.layers.Embedding(max_features, output_dim=embed_size, input_length=maxlen, trainable=False))\n",
    "#LSTM \n",
    "model.add(tf.keras.layers.LSTM(units=128 , return_sequences = True , recurrent_dropout = 0.25 , dropout = 0.25))\n",
    "model.add(tf.keras.layers.LSTM(units=64 , recurrent_dropout = 0.1 , dropout = 0.1))\n",
    "model.add(tf.keras.layers.Dense(units = 32 , activation = 'relu'))\n",
    "model.add(tf.keras.layers.Dense(1, activation='sigmoid'))\n",
    "model.compile(optimizer=tf.keras.optimizers.Adam(learning_rate = 0.01), loss='binary_crossentropy', metrics=['accuracy'])"
   ]
  },
  {
   "cell_type": "code",
   "execution_count": 41,
   "id": "faaa4174",
   "metadata": {},
   "outputs": [
    {
     "name": "stdout",
     "output_type": "stream",
     "text": [
      "Model: \"sequential_3\"\n",
      "_________________________________________________________________\n",
      " Layer (type)                Output Shape              Param #   \n",
      "=================================================================\n",
      " embedding_2 (Embedding)     (None, 300, 100)          1000000   \n",
      "                                                                 \n",
      " lstm_4 (LSTM)               (None, 300, 128)          117248    \n",
      "                                                                 \n",
      " lstm_5 (LSTM)               (None, 64)                49408     \n",
      "                                                                 \n",
      " dense_4 (Dense)             (None, 32)                2080      \n",
      "                                                                 \n",
      " dense_5 (Dense)             (None, 1)                 33        \n",
      "                                                                 \n",
      "=================================================================\n",
      "Total params: 1,168,769\n",
      "Trainable params: 168,769\n",
      "Non-trainable params: 1,000,000\n",
      "_________________________________________________________________\n"
     ]
    }
   ],
   "source": [
    "model.summary()"
   ]
  },
  {
   "cell_type": "code",
   "execution_count": 42,
   "id": "9af27eb5",
   "metadata": {},
   "outputs": [
    {
     "name": "stdout",
     "output_type": "stream",
     "text": [
      "Epoch 1/10\n",
      "93/93 [==============================] - 1088s 12s/step - loss: 0.3924 - accuracy: 0.8329 - val_loss: 0.2340 - val_accuracy: 0.9118\n",
      "Epoch 2/10\n",
      "93/93 [==============================] - 2282s 25s/step - loss: 0.2293 - accuracy: 0.9149 - val_loss: 0.2165 - val_accuracy: 0.9203\n",
      "Epoch 3/10\n",
      "93/93 [==============================] - 3372s 36s/step - loss: 0.2232 - accuracy: 0.9157 - val_loss: 0.4399 - val_accuracy: 0.8823\n",
      "Epoch 4/10\n",
      "93/93 [==============================] - 2061s 22s/step - loss: 0.2193 - accuracy: 0.9222 - val_loss: 0.1387 - val_accuracy: 0.9559\n",
      "Epoch 5/10\n",
      "93/93 [==============================] - 2858s 31s/step - loss: 0.1387 - accuracy: 0.9521 - val_loss: 0.1218 - val_accuracy: 0.9583\n",
      "Epoch 6/10\n",
      "93/93 [==============================] - 3182s 34s/step - loss: 0.0889 - accuracy: 0.9684 - val_loss: 0.0816 - val_accuracy: 0.9689\n",
      "Epoch 7/10\n",
      "93/93 [==============================] - 2145s 23s/step - loss: 0.0689 - accuracy: 0.9751 - val_loss: 0.0544 - val_accuracy: 0.9815\n",
      "Epoch 8/10\n",
      "93/93 [==============================] - 3742s 40s/step - loss: 0.0570 - accuracy: 0.9793 - val_loss: 0.0488 - val_accuracy: 0.9815\n",
      "Epoch 9/10\n",
      "93/93 [==============================] - 2172s 23s/step - loss: 0.0473 - accuracy: 0.9830 - val_loss: 0.0457 - val_accuracy: 0.9828\n",
      "Epoch 10/10\n",
      "93/93 [==============================] - 2812s 30s/step - loss: 0.0427 - accuracy: 0.9848 - val_loss: 0.0350 - val_accuracy: 0.9871\n"
     ]
    }
   ],
   "source": [
    "history = model.fit(X_train, y_train, validation_split=0.3, epochs=10, batch_size=batch_size, shuffle=True, verbose = 1)"
   ]
  },
  {
   "cell_type": "code",
   "execution_count": 49,
   "id": "4614dcdf",
   "metadata": {},
   "outputs": [],
   "source": [
    "# model.save('final_fake_news_detectionmodel.h5')"
   ]
  },
  {
   "cell_type": "code",
   "execution_count": 58,
   "id": "5e108e7e",
   "metadata": {},
   "outputs": [
    {
     "data": {
      "image/png": "[encoded data removed]",
      "text/plain": [
       "<Figure size 640x480 with 1 Axes>"
      ]
     },
     "metadata": {},
     "output_type": "display_data"
    }
   ],
   "source": [
    "# ploting training accuracy and loss accuracy\n",
    "train_acc = history.history['accuracy']\n",
    "test_acc = history.history['val_accuracy']\n",
    "\n",
    "plt.title('LSTM ACCURACY PLOT')\n",
    "plt.plot(train_acc, label='Train_accuracy', color='blue')\n",
    "plt.plot(test_acc, label='Test_accuracy', color='red')\n",
    "plt.legend()\n",
    "plt.grid(True)\n",
    "plt.xlabel('EPOCH')\n",
    "plt.ylabel('ACCURACY (%)')\n",
    "plt.show()"
   ]
  },
  {
   "cell_type": "code",
   "execution_count": 59,
   "id": "cfaffac2",
   "metadata": {},
   "outputs": [
    {
     "data": {
      "image/png": "[encoded data removed]",
      "text/plain": [
       "<Figure size 640x480 with 1 Axes>"
      ]
     },
     "metadata": {},
     "output_type": "display_data"
    }
   ],
   "source": [
    "# ploting training accuracy and loss accuracy\n",
    "train_acc = history.history['loss']\n",
    "test_acc = history.history['val_loss']\n",
    "\n",
    "plt.title('LSTM LOSS PLOT')\n",
    "plt.plot(train_acc, label='Train_loss', color='blue')\n",
    "plt.plot(test_acc, label='Test_loss', color='red')\n",
    "plt.legend()\n",
    "plt.grid(True)\n",
    "plt.xlabel('EPOCH')\n",
    "plt.ylabel('LOSS')\n",
    "plt.show()"
   ]
  },
  {
   "cell_type": "code",
   "execution_count": 61,
   "id": "4fe32677",
   "metadata": {},
   "outputs": [
    {
     "name": "stdout",
     "output_type": "stream",
     "text": [
      "351/351 [==============================] - 77s 221ms/step\n"
     ]
    }
   ],
   "source": [
    "# making prediction\n",
    "prediction = model.predict(X_test)"
   ]
  },
  {
   "cell_type": "code",
   "execution_count": 68,
   "id": "395dd6fa",
   "metadata": {},
   "outputs": [
    {
     "data": {
      "text/plain": [
       "array([1, 1, 1, ..., 1, 1, 0])"
      ]
     },
     "execution_count": 68,
     "metadata": {},
     "output_type": "execute_result"
    }
   ],
   "source": [
    "# convert continuous prediction to integer (0 and 1)\n",
    "def normalize_prediction(prediction):\n",
    "    predictions = []\n",
    "    for predict in prediction: \n",
    "        if predict > 0.5: \n",
    "            predictions.append(1)\n",
    "        else: \n",
    "            predictions.append(0)      \n",
    "    return np.array(predictions)\n",
    "        \n",
    "    \n",
    "norm_prediction = normalize_prediction(prediction)\n",
    "norm_prediction"
   ]
  },
  {
   "cell_type": "code",
   "execution_count": 70,
   "id": "93047e16",
   "metadata": {},
   "outputs": [
    {
     "name": "stdout",
     "output_type": "stream",
     "text": [
      "Overall Accuracy :  0.9865478841870824\n",
      "Overall Precision : 0.9848569826135727\n",
      "Overall Recall :    0.9868864743349569\n",
      "Overall F1-score :  0.9858706840086086\n"
     ]
    }
   ],
   "source": [
    "acc = metrics.accuracy_score(norm_prediction, y_test)\n",
    "prec = metrics.precision_score(norm_prediction, y_test)\n",
    "recall = metrics.recall_score(norm_prediction, y_test)\n",
    "f1 = metrics.f1_score(norm_prediction, y_test)\n",
    "\n",
    "print('Overall Accuracy :  {}'.format(acc))\n",
    "print('Overall Precision : {}'.format(prec))\n",
    "print('Overall Recall :    {}'.format(recall))\n",
    "print('Overall F1-score :  {}'.format(f1))\n"
   ]
  },
  {
   "cell_type": "code",
   "execution_count": 76,
   "id": "383f1405",
   "metadata": {},
   "outputs": [
    {
     "name": "stdout",
     "output_type": "stream",
     "text": [
      "              precision    recall  f1-score   support\n",
      "\n",
      "           0       0.99      0.99      0.99      5887\n",
      "           1       0.98      0.99      0.99      5338\n",
      "\n",
      "    accuracy                           0.99     11225\n",
      "   macro avg       0.99      0.99      0.99     11225\n",
      "weighted avg       0.99      0.99      0.99     11225\n",
      "\n"
     ]
    },
    {
     "data": {
      "image/png": "[encoded data removed]",
      "text/plain": [
       "<Figure size 640x480 with 2 Axes>"
      ]
     },
     "metadata": {},
     "output_type": "display_data"
    }
   ],
   "source": [
    "# visualizing performance \n",
    "\n",
    "# classification report\n",
    "cr_report = metrics.classification_report(norm_prediction, y_test)\n",
    "\n",
    "# confusion matrix\n",
    "cf_report = metrics.confusion_matrix(norm_prediction, y_test)\n",
    "\n",
    "print(cr_report)\n",
    "\n",
    "\n",
    "# print(cr_report.ravel())\n",
    "labels = ['Fake', 'Real']\n",
    "plt.title('FAKE NEWS CONFUSION MATRIX')\n",
    "sn.heatmap(cf_report, annot=True, fmt='d', xticklabels=labels, yticklabels=labels)\n",
    "plt.xlabel('Truth')\n",
    "plt.ylabel('Prediction')\n",
    "plt.show()\n"
   ]
  },
  {
   "cell_type": "markdown",
   "id": "bed9fa1c",
   "metadata": {},
   "source": [
    "# Vectorization"
   ]
  },
  {
   "cell_type": "code",
   "execution_count": 22,
   "id": "8d3a7b84",
   "metadata": {},
   "outputs": [],
   "source": [
    "xtrain = [' '.join(x) for x in X_train]\n",
    "xtest = [' '.join(x) for x in X_test]"
   ]
  },
  {
   "cell_type": "code",
   "execution_count": 23,
   "id": "b886f0d3",
   "metadata": {},
   "outputs": [],
   "source": [
    "tf_vector = TfidfVectorizer()\n",
    "x_train_fit = tf_vector.fit_transform(xtrain)\n",
    "x_test_fit = tf_vector.fit(xtest)\n",
    "# x_train_fit.shape"
   ]
  },
  {
   "cell_type": "markdown",
   "id": "55cef7ac",
   "metadata": {},
   "source": [
    "## SVM MODEL"
   ]
  },
  {
   "cell_type": "code",
   "execution_count": 78,
   "id": "e15fafaa",
   "metadata": {},
   "outputs": [
    {
     "data": {
      "text/plain": [
       "array([[   0,    0,    0, ...,  706,   48,  311],\n",
       "       [   0,    0,    0, ...,    3,    3,    3],\n",
       "       [ 961,    1, 4058, ..., 9339,    3,    3],\n",
       "       ...,\n",
       "       [   0,    0,    0, ..., 3184,  557,    3],\n",
       "       [   5,  542,   21, ...,    3,    3,    3],\n",
       "       [6498,    7,    1, ...,  113, 1322, 1406]])"
      ]
     },
     "execution_count": 78,
     "metadata": {},
     "output_type": "execute_result"
    }
   ],
   "source": [
    "X_train"
   ]
  },
  {
   "cell_type": "code",
   "execution_count": null,
   "id": "8999c080",
   "metadata": {
    "scrolled": true
   },
   "outputs": [],
   "source": [
    "svm_model = SVC(kernel='linear')\n",
    "svm_model.fit(X_train, y_train)"
   ]
  },
  {
   "cell_type": "code",
   "execution_count": null,
   "id": "4f0869e3",
   "metadata": {},
   "outputs": [],
   "source": [
    "# training accuracy score.. \n",
    "svm_model.score(X_train, y_train)"
   ]
  },
  {
   "cell_type": "code",
   "execution_count": null,
   "id": "ef75d65d",
   "metadata": {},
   "outputs": [],
   "source": [
    "import joblib as jb \n",
    "# saving the machine learning model (SVM)\n",
    "jb.dump('svm_fake_news_classifier', svm_model)"
   ]
  },
  {
   "cell_type": "code",
   "execution_count": null,
   "id": "9b966608",
   "metadata": {},
   "outputs": [],
   "source": [
    "svm_predict = svm_model.predict(X_test)\n",
    "svm_predictions = normalize_prediction(svm_predict)"
   ]
  },
  {
   "cell_type": "code",
   "execution_count": null,
   "id": "2a6fc8f3",
   "metadata": {},
   "outputs": [],
   "source": [
    "acc = metrics.accuracy_score(svm_predictions, y_test)\n",
    "prec = metrics.precision_score(svm_predictions, y_test)\n",
    "recall = metrics.recall_score(svm_predictions, y_test)\n",
    "f1 = metrics.f1_score(svm_predictions, y_test)\n",
    "\n",
    "print('Overall Accuracy :  {}'.format(acc))\n",
    "print('Overall Precision : {}'.format(prec))\n",
    "print('Overall Recall :    {}'.format(recall))\n",
    "print('Overall F1-score :  {}'.format(f1))\n"
   ]
  },
  {
   "cell_type": "code",
   "execution_count": 32,
   "id": "bac1adb8",
   "metadata": {},
   "outputs": [],
   "source": [
    "X_train, X_test, y_train, y_test = train_test_split(data['text'], data['target'], random_state=0)"
   ]
  },
  {
   "cell_type": "markdown",
   "id": "e791b324",
   "metadata": {},
   "source": [
    "# TRADITIONAL MACHINE LEARNING "
   ]
  },
  {
   "cell_type": "markdown",
   "id": "137e0ad6",
   "metadata": {},
   "source": [
    "## Naive Bayes ML"
   ]
  },
  {
   "cell_type": "code",
   "execution_count": 23,
   "id": "30bdfd3e",
   "metadata": {},
   "outputs": [
    {
     "data": {
      "text/html": [
       "<style>#sk-container-id-1 {color: black;background-color: white;}#sk-container-id-1 pre{padding: 0;}#sk-container-id-1 div.sk-toggleable {background-color: white;}#sk-container-id-1 label.sk-toggleable__label {cursor: pointer;display: block;width: 100%;margin-bottom: 0;padding: 0.3em;box-sizing: border-box;text-align: center;}#sk-container-id-1 label.sk-toggleable__label-arrow:before {content: \"▸\";float: left;margin-right: 0.25em;color: #696969;}#sk-container-id-1 label.sk-toggleable__label-arrow:hover:before {color: black;}#sk-container-id-1 div.sk-estimator:hover label.sk-toggleable__label-arrow:before {color: black;}#sk-container-id-1 div.sk-toggleable__content {max-height: 0;max-width: 0;overflow: hidden;text-align: left;background-color: #f0f8ff;}#sk-container-id-1 div.sk-toggleable__content pre {margin: 0.2em;color: black;border-radius: 0.25em;background-color: #f0f8ff;}#sk-container-id-1 input.sk-toggleable__control:checked~div.sk-toggleable__content {max-height: 200px;max-width: 100%;overflow: auto;}#sk-container-id-1 input.sk-toggleable__control:checked~label.sk-toggleable__label-arrow:before {content: \"▾\";}#sk-container-id-1 div.sk-estimator input.sk-toggleable__control:checked~label.sk-toggleable__label {background-color: #d4ebff;}#sk-container-id-1 div.sk-label input.sk-toggleable__control:checked~label.sk-toggleable__label {background-color: #d4ebff;}#sk-container-id-1 input.sk-hidden--visually {border: 0;clip: rect(1px 1px 1px 1px);clip: rect(1px, 1px, 1px, 1px);height: 1px;margin: -1px;overflow: hidden;padding: 0;position: absolute;width: 1px;}#sk-container-id-1 div.sk-estimator {font-family: monospace;background-color: #f0f8ff;border: 1px dotted black;border-radius: 0.25em;box-sizing: border-box;margin-bottom: 0.5em;}#sk-container-id-1 div.sk-estimator:hover {background-color: #d4ebff;}#sk-container-id-1 div.sk-parallel-item::after {content: \"\";width: 100%;border-bottom: 1px solid gray;flex-grow: 1;}#sk-container-id-1 div.sk-label:hover label.sk-toggleable__label {background-color: #d4ebff;}#sk-container-id-1 div.sk-serial::before {content: \"\";position: absolute;border-left: 1px solid gray;box-sizing: border-box;top: 0;bottom: 0;left: 50%;z-index: 0;}#sk-container-id-1 div.sk-serial {display: flex;flex-direction: column;align-items: center;background-color: white;padding-right: 0.2em;padding-left: 0.2em;position: relative;}#sk-container-id-1 div.sk-item {position: relative;z-index: 1;}#sk-container-id-1 div.sk-parallel {display: flex;align-items: stretch;justify-content: center;background-color: white;position: relative;}#sk-container-id-1 div.sk-item::before, #sk-container-id-1 div.sk-parallel-item::before {content: \"\";position: absolute;border-left: 1px solid gray;box-sizing: border-box;top: 0;bottom: 0;left: 50%;z-index: -1;}#sk-container-id-1 div.sk-parallel-item {display: flex;flex-direction: column;z-index: 1;position: relative;background-color: white;}#sk-container-id-1 div.sk-parallel-item:first-child::after {align-self: flex-end;width: 50%;}#sk-container-id-1 div.sk-parallel-item:last-child::after {align-self: flex-start;width: 50%;}#sk-container-id-1 div.sk-parallel-item:only-child::after {width: 0;}#sk-container-id-1 div.sk-dashed-wrapped {border: 1px dashed gray;margin: 0 0.4em 0.5em 0.4em;box-sizing: border-box;padding-bottom: 0.4em;background-color: white;}#sk-container-id-1 div.sk-label label {font-family: monospace;font-weight: bold;display: inline-block;line-height: 1.2em;}#sk-container-id-1 div.sk-label-container {text-align: center;}#sk-container-id-1 div.sk-container {/* jupyter's `normalize.less` sets `[hidden] { display: none; }` but bootstrap.min.css set `[hidden] { display: none !important; }` so we also need the `!important` here to be able to override the default hidden behavior on the sphinx rendered scikit-learn.org. See: https://github.com/scikit-learn/scikit-learn/issues/21755 */display: inline-block !important;position: relative;}#sk-container-id-1 div.sk-text-repr-fallback {display: none;}</style><div id=\"sk-container-id-1\" class=\"sk-top-container\"><div class=\"sk-text-repr-fallback\"><pre>GaussianNB()</pre><b>In a Jupyter environment, please rerun this cell to show the HTML representation or trust the notebook. <br />On GitHub, the HTML representation is unable to render, please try loading this page with nbviewer.org.</b></div><div class=\"sk-container\" hidden><div class=\"sk-item\"><div class=\"sk-estimator sk-toggleable\"><input class=\"sk-toggleable__control sk-hidden--visually\" id=\"sk-estimator-id-1\" type=\"checkbox\" checked><label for=\"sk-estimator-id-1\" class=\"sk-toggleable__label sk-toggleable__label-arrow\">GaussianNB</label><div class=\"sk-toggleable__content\"><pre>GaussianNB()</pre></div></div></div></div></div>"
      ],
      "text/plain": [
       "GaussianNB()"
      ]
     },
     "execution_count": 23,
     "metadata": {},
     "output_type": "execute_result"
    }
   ],
   "source": [
    "# taining naive bayesian algorithm\n",
    "nb_model  = naive_bayes.GaussianNB()\n",
    "nb_model.fit(X_train, y_train)"
   ]
  },
  {
   "cell_type": "code",
   "execution_count": 24,
   "id": "1795e0de",
   "metadata": {},
   "outputs": [
    {
     "data": {
      "text/plain": [
       "array([0, 0, 1, 1, 0], dtype=int64)"
      ]
     },
     "execution_count": 24,
     "metadata": {},
     "output_type": "execute_result"
    }
   ],
   "source": [
    "nb_model.score(X_train, y_train)\n",
    "prediction = nb_model.predict(X_test)\n",
    "prediction[:5]"
   ]
  },
  {
   "cell_type": "code",
   "execution_count": 25,
   "id": "f2635387",
   "metadata": {},
   "outputs": [
    {
     "name": "stdout",
     "output_type": "stream",
     "text": [
      "              precision    recall  f1-score   support\n",
      "\n",
      "           0       0.63      0.68      0.66      5483\n",
      "           1       0.67      0.63      0.65      5742\n",
      "\n",
      "    accuracy                           0.65     11225\n",
      "   macro avg       0.65      0.65      0.65     11225\n",
      "weighted avg       0.65      0.65      0.65     11225\n",
      "\n"
     ]
    }
   ],
   "source": [
    "cr = metrics.classification_report(prediction, y_test)\n",
    "print(cr)"
   ]
  },
  {
   "cell_type": "markdown",
   "id": "e3a9386f",
   "metadata": {},
   "source": [
    "# Decision Tree Model"
   ]
  },
  {
   "cell_type": "code",
   "execution_count": 24,
   "id": "bbdda1f7",
   "metadata": {},
   "outputs": [
    {
     "data": {
      "text/plain": [
       "1.0"
      ]
     },
     "execution_count": 24,
     "metadata": {},
     "output_type": "execute_result"
    }
   ],
   "source": [
    "from sklearn import tree\n",
    "dt_model  = tree.DecisionTreeClassifier()\n",
    "dt_model.fit(X_train, y_train)\n",
    "dt_model.score(X_train, y_train)"
   ]
  },
  {
   "cell_type": "code",
   "execution_count": 25,
   "id": "aff8997d",
   "metadata": {},
   "outputs": [
    {
     "name": "stdout",
     "output_type": "stream",
     "text": [
      "              precision    recall  f1-score   support\n",
      "\n",
      "           0       0.94      0.90      0.92      6145\n",
      "           1       0.88      0.93      0.90      5080\n",
      "\n",
      "    accuracy                           0.91     11225\n",
      "   macro avg       0.91      0.91      0.91     11225\n",
      "weighted avg       0.91      0.91      0.91     11225\n",
      "\n"
     ]
    }
   ],
   "source": [
    "dt_prediction = dt_model.predict(X_test)\n",
    "cr = metrics.classification_report(dt_prediction, y_test)\n",
    "print(cr)"
   ]
  },
  {
   "cell_type": "code",
   "execution_count": 26,
   "id": "bf13117c",
   "metadata": {},
   "outputs": [
    {
     "name": "stdout",
     "output_type": "stream",
     "text": [
      "Overall Accuracy :  0.9108240534521158\n",
      "Overall Precision : 0.8812862217236866\n",
      "Overall Recall :    0.9279527559055119\n",
      "Overall F1-score :  0.9040176431105571\n"
     ]
    }
   ],
   "source": [
    "acc = metrics.accuracy_score(dt_prediction, y_test)\n",
    "prec = metrics.precision_score(dt_prediction, y_test)\n",
    "recall = metrics.recall_score(dt_prediction, y_test)\n",
    "f1 = metrics.f1_score(dt_prediction, y_test)\n",
    "\n",
    "print('Overall Accuracy :  {}'.format(acc))\n",
    "print('Overall Precision : {}'.format(prec))\n",
    "print('Overall Recall :    {}'.format(recall))\n",
    "print('Overall F1-score :  {}'.format(f1))"
   ]
  },
  {
   "cell_type": "code",
   "execution_count": 28,
   "id": "c31021f2",
   "metadata": {},
   "outputs": [
    {
     "data": {
      "image/png": "[encoded data removed]",
      "text/plain": [
       "<Figure size 640x480 with 2 Axes>"
      ]
     },
     "metadata": {},
     "output_type": "display_data"
    }
   ],
   "source": [
    "dt_cm = metrics.confusion_matrix(dt_prediction, y_test)\n",
    "labels = ['Fake', 'Real']\n",
    "plt.title('FAKE NEWS CONFUSION MATRIX')\n",
    "sn.heatmap(dt_cm, annot=True, fmt='d', xticklabels=labels, yticklabels=labels)\n",
    "plt.xlabel('Truth')\n",
    "plt.ylabel('Prediction')\n",
    "plt.show()"
   ]
  },
  {
   "cell_type": "markdown",
   "id": "f5387686",
   "metadata": {},
   "source": [
    "# ENSEMBLE BASED MACHINE LEARNING"
   ]
  },
  {
   "cell_type": "markdown",
   "id": "9b74eea6",
   "metadata": {},
   "source": [
    "## Random forest "
   ]
  },
  {
   "cell_type": "code",
   "execution_count": 26,
   "id": "e31867b7",
   "metadata": {
    "scrolled": true
   },
   "outputs": [
    {
     "data": {
      "text/plain": [
       "1.0"
      ]
     },
     "execution_count": 26,
     "metadata": {},
     "output_type": "execute_result"
    }
   ],
   "source": [
    "rd_model = ensemble.RandomForestClassifier()\n",
    "rd_model.fit(X_train, y_train)\n",
    "rd_model.score(X_train, y_train)"
   ]
  },
  {
   "cell_type": "code",
   "execution_count": 28,
   "id": "5c04c404",
   "metadata": {},
   "outputs": [
    {
     "name": "stdout",
     "output_type": "stream",
     "text": [
      "Overall Accuracy :  0.9438752783964365\n",
      "Overall Precision : 0.9876612450925406\n",
      "Overall Recall :    0.9035402770651616\n",
      "Overall F1-score :  0.9437299035369775\n"
     ]
    }
   ],
   "source": [
    "rd_prediction = rd_model.predict(X_test)\n",
    "acc = metrics.accuracy_score(rd_prediction, y_test)\n",
    "prec = metrics.precision_score(rd_prediction, y_test)\n",
    "recall = metrics.recall_score(rd_prediction, y_test)\n",
    "f1 = metrics.f1_score(rd_prediction, y_test)\n",
    "\n",
    "print('Overall Accuracy :  {}'.format(acc))\n",
    "print('Overall Precision : {}'.format(prec))\n",
    "print('Overall Recall :    {}'.format(recall))\n",
    "print('Overall F1-score :  {}'.format(f1))"
   ]
  },
  {
   "cell_type": "code",
   "execution_count": 29,
   "id": "52c22faf",
   "metadata": {},
   "outputs": [
    {
     "name": "stdout",
     "output_type": "stream",
     "text": [
      "              precision    recall  f1-score   support\n",
      "\n",
      "           0       0.90      0.99      0.94      5378\n",
      "           1       0.99      0.90      0.94      5847\n",
      "\n",
      "    accuracy                           0.94     11225\n",
      "   macro avg       0.95      0.95      0.94     11225\n",
      "weighted avg       0.95      0.94      0.94     11225\n",
      "\n"
     ]
    },
    {
     "data": {
      "image/png": "[encoded data removed]",
      "text/plain": [
       "<Figure size 640x480 with 2 Axes>"
      ]
     },
     "metadata": {},
     "output_type": "display_data"
    }
   ],
   "source": [
    "# nb_model.score(X_train, y_train)\n",
    "# prediction = rd_model.predict(X_test)\n",
    "cr = metrics.classification_report(rd_prediction, y_test)\n",
    "print(cr)\n",
    "\n",
    "ad_cm = metrics.confusion_matrix(rd_prediction, y_test)\n",
    "labels = ['Fake', 'Real']\n",
    "plt.title('FAKE NEWS CONFUSION MATRIX')\n",
    "sn.heatmap(ad_cm, annot=True, fmt='d', xticklabels=labels, yticklabels=labels)\n",
    "plt.xlabel('Truth')\n",
    "plt.ylabel('Prediction')\n",
    "plt.show()"
   ]
  },
  {
   "cell_type": "code",
   "execution_count": null,
   "id": "373b5a83",
   "metadata": {},
   "outputs": [],
   "source": []
  },
  {
   "cell_type": "markdown",
   "id": "d48fa07c",
   "metadata": {},
   "source": [
    "## SVM MODEL "
   ]
  },
  {
   "cell_type": "code",
   "execution_count": 30,
   "id": "7da3923a",
   "metadata": {},
   "outputs": [
    {
     "data": {
      "text/plain": [
       "0.8940991298666587"
      ]
     },
     "execution_count": 30,
     "metadata": {},
     "output_type": "execute_result"
    }
   ],
   "source": [
    "svm_model = svc.SVM()\n",
    "svm_model.fit(X_train, y_train)\n",
    "svm_model.score(X_train, y_train)"
   ]
  },
  {
   "cell_type": "code",
   "execution_count": 31,
   "id": "60f85306",
   "metadata": {},
   "outputs": [
    {
     "name": "stdout",
     "output_type": "stream",
     "text": [
      "Overall Accuracy :  0.8864142538975501\n",
      "Overall Precision : 0.9551318003365115\n",
      "Overall Recall :    0.83154296875\n",
      "Overall F1-score :  0.8890629078569564\n"
     ]
    }
   ],
   "source": [
    "svm_prediction = svm_model.predict(X_test)\n",
    "acc = metrics.accuracy_score(svm_prediction, y_test)\n",
    "prec = metrics.precision_score(svm_prediction, y_test)\n",
    "recall = metrics.recall_score(svm_prediction, y_test)\n",
    "f1 = metrics.f1_score(svm_prediction, y_test)\n",
    "\n",
    "print('Overall Accuracy :  {}'.format(acc))\n",
    "print('Overall Precision : {}'.format(prec))\n",
    "print('Overall Recall :    {}'.format(recall))\n",
    "print('Overall F1-score :  {}'.format(f1))"
   ]
  },
  {
   "cell_type": "code",
   "execution_count": 34,
   "id": "7423c9bf",
   "metadata": {},
   "outputs": [
    {
     "name": "stdout",
     "output_type": "stream",
     "text": [
      "              precision    recall  f1-score   support\n",
      "\n",
      "           0       0.82      0.95      0.88      5081\n",
      "           1       0.96      0.83      0.89      6144\n",
      "\n",
      "    accuracy                           0.89     11225\n",
      "   macro avg       0.89      0.89      0.89     11225\n",
      "weighted avg       0.90      0.89      0.89     11225\n",
      "\n"
     ]
    },
    {
     "data": {
      "image/png": "[encoded data removed]",
      "text/plain": [
       "<Figure size 640x480 with 2 Axes>"
      ]
     },
     "metadata": {},
     "output_type": "display_data"
    }
   ],
   "source": [
    "cr = metrics.classification_report(ada_prediction, y_test)\n",
    "print(cr)\n",
    "\n",
    "ad_cm = metrics.confusion_matrix(ada_prediction, y_test)\n",
    "labels = ['Fake', 'Real']\n",
    "plt.title('FAKE NEWS CONFUSION MATRIX')\n",
    "sn.heatmap(ad_cm, annot=True, fmt='d', xticklabels=labels, yticklabels=labels)\n",
    "plt.xlabel('Truth')\n",
    "plt.ylabel('Prediction')\n",
    "plt.show()"
   ]
  },
  {
   "cell_type": "markdown",
   "id": "647d8550",
   "metadata": {},
   "source": [
    "## Gradient Boost Model"
   ]
  },
  {
   "cell_type": "code",
   "execution_count": 35,
   "id": "4a5a8544",
   "metadata": {},
   "outputs": [
    {
     "data": {
      "text/plain": [
       "0.909333887684495"
      ]
     },
     "execution_count": 35,
     "metadata": {},
     "output_type": "execute_result"
    }
   ],
   "source": [
    "gd_classifir = ensemble.GradientBoostingClassifier() \n",
    "gd_model = gd_classifir.fit(X_train, y_train)\n",
    "gd_model.score(X_train, y_train)"
   ]
  },
  {
   "cell_type": "code",
   "execution_count": 37,
   "id": "eb932ab7",
   "metadata": {},
   "outputs": [
    {
     "name": "stdout",
     "output_type": "stream",
     "text": [
      "Overall Accuracy :  0.8996881959910913\n",
      "Overall Precision : 0.9897177042437839\n",
      "Overall Recall :    0.8317360565593087\n"
     ]
    }
   ],
   "source": [
    "gd_prediction = gd_model.predict(X_test)\n",
    "acc = metrics.accuracy_score(gd_prediction, y_test)\n",
    "prec = metrics.precision_score(gd_prediction, y_test)\n",
    "recall = metrics.recall_score(gd_prediction, y_test)\n",
    "f1 = metrics.f1_score(gd_prediction, y_test)\n",
    "\n",
    "print('Overall Accuracy :  {}'.format(acc))\n",
    "print('Overall Precision : {}'.format(prec))\n",
    "print('Overall Recall :    {}'.format(recall))"
   ]
  },
  {
   "cell_type": "code",
   "execution_count": 38,
   "id": "33eac3c2",
   "metadata": {},
   "outputs": [
    {
     "name": "stdout",
     "output_type": "stream",
     "text": [
      "              precision    recall  f1-score   support\n",
      "\n",
      "           0       0.82      0.99      0.90      4860\n",
      "           1       0.99      0.83      0.90      6365\n",
      "\n",
      "    accuracy                           0.90     11225\n",
      "   macro avg       0.90      0.91      0.90     11225\n",
      "weighted avg       0.92      0.90      0.90     11225\n",
      "\n"
     ]
    },
    {
     "data": {
      "image/png": "[encoded data removed]",
      "text/plain": [
       "<Figure size 640x480 with 2 Axes>"
      ]
     },
     "metadata": {},
     "output_type": "display_data"
    }
   ],
   "source": [
    "cr = metrics.classification_report(gd_prediction, y_test)\n",
    "print(cr)\n",
    "\n",
    "ad_cm = metrics.confusion_matrix(gd_prediction, y_test)\n",
    "labels = ['Fake', 'Real']\n",
    "plt.title('FAKE NEWS CONFUSION MATRIX')\n",
    "sn.heatmap(ad_cm, annot=True, fmt='d', xticklabels=labels, yticklabels=labels)\n",
    "plt.xlabel('Truth')\n",
    "plt.ylabel('Prediction')\n",
    "plt.show()"
   ]
  },
  {
   "cell_type": "markdown",
   "id": "a92b304c",
   "metadata": {},
   "source": [
    "## Bi-LSTM -Transer learning -2- ML (Experiment 2)"
   ]
  },
  {
   "cell_type": "code",
   "execution_count": 33,
   "id": "e0f46942",
   "metadata": {
    "scrolled": true
   },
   "outputs": [
    {
     "data": {
      "text/plain": [
       "[<keras.layers.core.embedding.Embedding at 0x2fd9e9d1be0>,\n",
       " <keras.layers.rnn.lstm.LSTM at 0x2fd9e9df2e0>,\n",
       " <keras.layers.rnn.lstm.LSTM at 0x2fd9e9e3400>,\n",
       " <keras.layers.core.dense.Dense at 0x2fd9eba2220>,\n",
       " <keras.layers.core.dense.Dense at 0x2fd9f141580>]"
      ]
     },
     "execution_count": 33,
     "metadata": {},
     "output_type": "execute_result"
    }
   ],
   "source": [
    "from keras.models import load_model\n",
    "\n",
    "# load the pre-trained model\n",
    "lstm_model = load_model('final_fake_news_detectionmodel.h5')\n",
    "lstm_model.layers"
   ]
  },
  {
   "cell_type": "code",
   "execution_count": 34,
   "id": "21f8a0ba",
   "metadata": {
    "scrolled": true
   },
   "outputs": [
    {
     "name": "stdout",
     "output_type": "stream",
     "text": [
      "1053/1053 [==============================] - 187s 176ms/step\n"
     ]
    },
    {
     "data": {
      "text/plain": [
       "array([[6.0293001e-05],\n",
       "       [9.9960655e-01],\n",
       "       [9.9519140e-01],\n",
       "       ...,\n",
       "       [9.9904495e-01],\n",
       "       [9.9887896e-01],\n",
       "       [3.8607312e-05]], dtype=float32)"
      ]
     },
     "execution_count": 34,
     "metadata": {},
     "output_type": "execute_result"
    }
   ],
   "source": [
    "lstm_output = lstm_model.predict(X_train)\n",
    "lstm_output"
   ]
  },
  {
   "cell_type": "code",
   "execution_count": 81,
   "id": "849bf52a",
   "metadata": {},
   "outputs": [
    {
     "data": {
      "text/plain": [
       "<tf.Variable 'embedding_2/embeddings:0' shape=(10000, 100) dtype=float32, numpy=\n",
       "array([[ 0.0465088 ,  0.03293196, -0.03020169, ..., -0.01815703,\n",
       "        -0.02597826, -0.04084246],\n",
       "       [-0.01996782, -0.02266967, -0.00820607, ..., -0.01438831,\n",
       "         0.0009959 ,  0.00511465],\n",
       "       [ 0.01831331,  0.03502654,  0.04201753, ..., -0.03708228,\n",
       "        -0.02851619,  0.04383538],\n",
       "       ...,\n",
       "       [ 0.04404405, -0.04729681,  0.02538775, ..., -0.01927553,\n",
       "        -0.00779426, -0.0167811 ],\n",
       "       [-0.03572649, -0.02300435,  0.03381861, ..., -0.04288974,\n",
       "        -0.02693722,  0.00813024],\n",
       "       [-0.02623539, -0.04409128,  0.00730344, ...,  0.0309795 ,\n",
       "         0.04971119,  0.03959671]], dtype=float32)>"
      ]
     },
     "execution_count": 81,
     "metadata": {},
     "output_type": "execute_result"
    }
   ],
   "source": [
    "embed = lstm_model.layers[0]\n",
    "embed.embeddings"
   ]
  },
  {
   "cell_type": "code",
   "execution_count": 77,
   "id": "a0266940",
   "metadata": {},
   "outputs": [
    {
     "data": {
      "text/plain": [
       "(33673, 300)"
      ]
     },
     "execution_count": 77,
     "metadata": {},
     "output_type": "execute_result"
    }
   ],
   "source": [
    "X_train.shape"
   ]
  },
  {
   "cell_type": "code",
   "execution_count": 90,
   "id": "67337326",
   "metadata": {},
   "outputs": [
    {
     "data": {
      "text/plain": [
       "array([6.0293e-05], dtype=float32)"
      ]
     },
     "execution_count": 90,
     "metadata": {},
     "output_type": "execute_result"
    }
   ],
   "source": [
    "lstm_output[0]"
   ]
  },
  {
   "cell_type": "code",
   "execution_count": 51,
   "id": "9956cb88",
   "metadata": {
    "scrolled": true
   },
   "outputs": [
    {
     "data": {
      "text/html": [
       "<style>#sk-container-id-3 {color: black;background-color: white;}#sk-container-id-3 pre{padding: 0;}#sk-container-id-3 div.sk-toggleable {background-color: white;}#sk-container-id-3 label.sk-toggleable__label {cursor: pointer;display: block;width: 100%;margin-bottom: 0;padding: 0.3em;box-sizing: border-box;text-align: center;}#sk-container-id-3 label.sk-toggleable__label-arrow:before {content: \"▸\";float: left;margin-right: 0.25em;color: #696969;}#sk-container-id-3 label.sk-toggleable__label-arrow:hover:before {color: black;}#sk-container-id-3 div.sk-estimator:hover label.sk-toggleable__label-arrow:before {color: black;}#sk-container-id-3 div.sk-toggleable__content {max-height: 0;max-width: 0;overflow: hidden;text-align: left;background-color: #f0f8ff;}#sk-container-id-3 div.sk-toggleable__content pre {margin: 0.2em;color: black;border-radius: 0.25em;background-color: #f0f8ff;}#sk-container-id-3 input.sk-toggleable__control:checked~div.sk-toggleable__content {max-height: 200px;max-width: 100%;overflow: auto;}#sk-container-id-3 input.sk-toggleable__control:checked~label.sk-toggleable__label-arrow:before {content: \"▾\";}#sk-container-id-3 div.sk-estimator input.sk-toggleable__control:checked~label.sk-toggleable__label {background-color: #d4ebff;}#sk-container-id-3 div.sk-label input.sk-toggleable__control:checked~label.sk-toggleable__label {background-color: #d4ebff;}#sk-container-id-3 input.sk-hidden--visually {border: 0;clip: rect(1px 1px 1px 1px);clip: rect(1px, 1px, 1px, 1px);height: 1px;margin: -1px;overflow: hidden;padding: 0;position: absolute;width: 1px;}#sk-container-id-3 div.sk-estimator {font-family: monospace;background-color: #f0f8ff;border: 1px dotted black;border-radius: 0.25em;box-sizing: border-box;margin-bottom: 0.5em;}#sk-container-id-3 div.sk-estimator:hover {background-color: #d4ebff;}#sk-container-id-3 div.sk-parallel-item::after {content: \"\";width: 100%;border-bottom: 1px solid gray;flex-grow: 1;}#sk-container-id-3 div.sk-label:hover label.sk-toggleable__label {background-color: #d4ebff;}#sk-container-id-3 div.sk-serial::before {content: \"\";position: absolute;border-left: 1px solid gray;box-sizing: border-box;top: 0;bottom: 0;left: 50%;z-index: 0;}#sk-container-id-3 div.sk-serial {display: flex;flex-direction: column;align-items: center;background-color: white;padding-right: 0.2em;padding-left: 0.2em;position: relative;}#sk-container-id-3 div.sk-item {position: relative;z-index: 1;}#sk-container-id-3 div.sk-parallel {display: flex;align-items: stretch;justify-content: center;background-color: white;position: relative;}#sk-container-id-3 div.sk-item::before, #sk-container-id-3 div.sk-parallel-item::before {content: \"\";position: absolute;border-left: 1px solid gray;box-sizing: border-box;top: 0;bottom: 0;left: 50%;z-index: -1;}#sk-container-id-3 div.sk-parallel-item {display: flex;flex-direction: column;z-index: 1;position: relative;background-color: white;}#sk-container-id-3 div.sk-parallel-item:first-child::after {align-self: flex-end;width: 50%;}#sk-container-id-3 div.sk-parallel-item:last-child::after {align-self: flex-start;width: 50%;}#sk-container-id-3 div.sk-parallel-item:only-child::after {width: 0;}#sk-container-id-3 div.sk-dashed-wrapped {border: 1px dashed gray;margin: 0 0.4em 0.5em 0.4em;box-sizing: border-box;padding-bottom: 0.4em;background-color: white;}#sk-container-id-3 div.sk-label label {font-family: monospace;font-weight: bold;display: inline-block;line-height: 1.2em;}#sk-container-id-3 div.sk-label-container {text-align: center;}#sk-container-id-3 div.sk-container {/* jupyter's `normalize.less` sets `[hidden] { display: none; }` but bootstrap.min.css set `[hidden] { display: none !important; }` so we also need the `!important` here to be able to override the default hidden behavior on the sphinx rendered scikit-learn.org. See: https://github.com/scikit-learn/scikit-learn/issues/21755 */display: inline-block !important;position: relative;}#sk-container-id-3 div.sk-text-repr-fallback {display: none;}</style><div id=\"sk-container-id-3\" class=\"sk-top-container\"><div class=\"sk-text-repr-fallback\"><pre>GaussianNB()</pre><b>In a Jupyter environment, please rerun this cell to show the HTML representation or trust the notebook. <br />On GitHub, the HTML representation is unable to render, please try loading this page with nbviewer.org.</b></div><div class=\"sk-container\" hidden><div class=\"sk-item\"><div class=\"sk-estimator sk-toggleable\"><input class=\"sk-toggleable__control sk-hidden--visually\" id=\"sk-estimator-id-3\" type=\"checkbox\" checked><label for=\"sk-estimator-id-3\" class=\"sk-toggleable__label sk-toggleable__label-arrow\">GaussianNB</label><div class=\"sk-toggleable__content\"><pre>GaussianNB()</pre></div></div></div></div></div>"
      ],
      "text/plain": [
       "GaussianNB()"
      ]
     },
     "execution_count": 51,
     "metadata": {},
     "output_type": "execute_result"
    }
   ],
   "source": [
    "nb_model = naive_bayes.GaussianNB()\n",
    "nb_model.fit(reshaped, y_train)"
   ]
  },
  {
   "cell_type": "code",
   "execution_count": 112,
   "id": "3f7a7058",
   "metadata": {},
   "outputs": [
    {
     "name": "stdout",
     "output_type": "stream",
     "text": [
      "351/351 [==============================] - 65s 184ms/step\n"
     ]
    }
   ],
   "source": [
    "lstm_x_test = lstm_model.predict(X_test)\n",
    "mb_prediction = nb_model.predict(lstm_x_test)"
   ]
  },
  {
   "cell_type": "code",
   "execution_count": 113,
   "id": "1ac952dc",
   "metadata": {},
   "outputs": [
    {
     "data": {
      "text/plain": [
       "array([[9.9735600e-01],\n",
       "       [9.9865860e-01],\n",
       "       [9.9948978e-01],\n",
       "       ...,\n",
       "       [9.4517773e-01],\n",
       "       [9.9731594e-01],\n",
       "       [4.6234807e-05]], dtype=float32)"
      ]
     },
     "execution_count": 113,
     "metadata": {},
     "output_type": "execute_result"
    }
   ],
   "source": [
    "lstm_x_test"
   ]
  },
  {
   "cell_type": "code",
   "execution_count": 114,
   "id": "5094621a",
   "metadata": {},
   "outputs": [
    {
     "data": {
      "text/plain": [
       "array([1, 1, 1, ..., 1, 1, 0], dtype=int64)"
      ]
     },
     "execution_count": 114,
     "metadata": {},
     "output_type": "execute_result"
    }
   ],
   "source": [
    "mb_prediction"
   ]
  },
  {
   "cell_type": "code",
   "execution_count": 115,
   "id": "3b7f99a9",
   "metadata": {},
   "outputs": [
    {
     "name": "stdout",
     "output_type": "stream",
     "text": [
      "              precision    recall  f1-score   support\n",
      "\n",
      "           0       0.99      0.99      0.99      5876\n",
      "           1       0.99      0.99      0.99      5349\n",
      "\n",
      "    accuracy                           0.99     11225\n",
      "   macro avg       0.99      0.99      0.99     11225\n",
      "weighted avg       0.99      0.99      0.99     11225\n",
      "\n"
     ]
    }
   ],
   "source": [
    "upd_nb_report = metrics.classification_report(mb_prediction, y_test)\n",
    "print(upd_nb_report)"
   ]
  },
  {
   "cell_type": "code",
   "execution_count": 116,
   "id": "664e8b48",
   "metadata": {},
   "outputs": [
    {
     "name": "stdout",
     "output_type": "stream",
     "text": [
      "Overall Accuracy :  0.9869933184855234\n",
      "Overall Precision : 0.9863525892690223\n",
      "Overall Recall :    0.9863525892690223\n",
      "Overall F1-score :  0.9863525892690223\n"
     ]
    }
   ],
   "source": [
    "acc = metrics.accuracy_score(mb_prediction, y_test)\n",
    "prec = metrics.precision_score(mb_prediction, y_test)\n",
    "recall = metrics.recall_score(mb_prediction, y_test)\n",
    "f1 = metrics.f1_score(mb_prediction, y_test)\n",
    "\n",
    "print('Overall Accuracy :  {}'.format(acc))\n",
    "print('Overall Precision : {}'.format(prec))\n",
    "print('Overall Recall :    {}'.format(recall))\n",
    "print('Overall F1-score :  {}'.format(f1))"
   ]
  }
 ],
 "metadata": {
  "kernelspec": {
   "display_name": "Python 3 (ipykernel)",
   "language": "python",
   "name": "python3"
  },
  "language_info": {
   "codemirror_mode": {
    "name": "ipython",
    "version": 3
   },
   "file_extension": ".py",
   "mimetype": "text/x-python",
   "name": "python",
   "nbconvert_exporter": "python",
   "pygments_lexer": "ipython3",
   "version": "3.9.5"
  }
 },
 "nbformat": 4,
 "nbformat_minor": 5
}
