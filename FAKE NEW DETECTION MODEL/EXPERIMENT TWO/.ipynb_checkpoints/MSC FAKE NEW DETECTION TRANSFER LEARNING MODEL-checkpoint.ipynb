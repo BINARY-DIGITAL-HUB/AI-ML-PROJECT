{
 "cells": [
  {
   "cell_type": "markdown",
   "id": "5d9ee1cc",
   "metadata": {},
   "source": [
    "# PROPOSED TOPIC <br> \n",
    "#### An Improved Transfer Learning Based FaKe News Deteaction Model using Bi-LSTM And Machine leanring. \n",
    "\n",
    "##### An Enhance Fake News BI-LISTM and Machine Learning Detection Model using Transfer Learning Techniques.</p>"
   ]
  },
  {
   "cell_type": "markdown",
   "id": "610d70f3",
   "metadata": {},
   "source": [
    "## Bi-LSTM -Transer learning -2- ML (Experiment )"
   ]
  },
  {
   "cell_type": "markdown",
   "id": "5145c81a",
   "metadata": {},
   "source": [
    "## import libarary"
   ]
  },
  {
   "cell_type": "code",
   "execution_count": 1,
   "id": "5184b66f",
   "metadata": {},
   "outputs": [],
   "source": [
    "import pandas as pd\n",
    "import string\n",
    "from tqdm import tqdm_notebook,tqdm\n",
    "from warnings import filterwarnings\n",
    "filterwarnings('ignore')\n",
    "from tqdm import tqdm_pandas\n",
    "tqdm.pandas()"
   ]
  },
  {
   "cell_type": "markdown",
   "id": "dbbdd417",
   "metadata": {},
   "source": [
    "## load dataset"
   ]
  },
  {
   "cell_type": "code",
   "execution_count": 3,
   "id": "689e6afc",
   "metadata": {
    "scrolled": true
   },
   "outputs": [
    {
     "data": {
      "text/html": [
       "<div>\n",
       "<style scoped>\n",
       "    .dataframe tbody tr th:only-of-type {\n",
       "        vertical-align: middle;\n",
       "    }\n",
       "\n",
       "    .dataframe tbody tr th {\n",
       "        vertical-align: top;\n",
       "    }\n",
       "\n",
       "    .dataframe thead th {\n",
       "        text-align: right;\n",
       "    }\n",
       "</style>\n",
       "<table border=\"1\" class=\"dataframe\">\n",
       "  <thead>\n",
       "    <tr style=\"text-align: right;\">\n",
       "      <th></th>\n",
       "      <th>idd</th>\n",
       "      <th>title</th>\n",
       "      <th>text</th>\n",
       "      <th>label</th>\n",
       "    </tr>\n",
       "  </thead>\n",
       "  <tbody>\n",
       "    <tr>\n",
       "      <th>0</th>\n",
       "      <td>Fq+C96tcx+</td>\n",
       "      <td>‘A target on Roe v. Wade ’: Oklahoma bill maki...</td>\n",
       "      <td>UPDATE: Gov. Fallin vetoed the bill on Friday....</td>\n",
       "      <td>REAL</td>\n",
       "    </tr>\n",
       "    <tr>\n",
       "      <th>1</th>\n",
       "      <td>bHUqK!pgmv</td>\n",
       "      <td>Study: women had to drive 4 times farther afte...</td>\n",
       "      <td>Ever since Texas laws closed about half of the...</td>\n",
       "      <td>REAL</td>\n",
       "    </tr>\n",
       "    <tr>\n",
       "      <th>2</th>\n",
       "      <td>4Y4Ubf%aTi</td>\n",
       "      <td>Trump, Clinton clash in dueling DC speeches</td>\n",
       "      <td>Donald Trump and Hillary Clinton, now at the s...</td>\n",
       "      <td>REAL</td>\n",
       "    </tr>\n",
       "    <tr>\n",
       "      <th>3</th>\n",
       "      <td>_CoY89SJ@K</td>\n",
       "      <td>Grand jury in Texas indicts activists behind P...</td>\n",
       "      <td>A Houston grand jury investigating criminal al...</td>\n",
       "      <td>REAL</td>\n",
       "    </tr>\n",
       "    <tr>\n",
       "      <th>4</th>\n",
       "      <td>+rJHoRQVLe</td>\n",
       "      <td>As Reproductive Rights Hang In The Balance, De...</td>\n",
       "      <td>WASHINGTON -- Forty-three years after the Supr...</td>\n",
       "      <td>REAL</td>\n",
       "    </tr>\n",
       "    <tr>\n",
       "      <th>...</th>\n",
       "      <td>...</td>\n",
       "      <td>...</td>\n",
       "      <td>...</td>\n",
       "      <td>...</td>\n",
       "    </tr>\n",
       "    <tr>\n",
       "      <th>4589</th>\n",
       "      <td>ukZm6JTO#x</td>\n",
       "      <td>Russia Calls the War Party's Bluff</td>\n",
       "      <td>License DMCA \\r\\nCold War 2.0 has reached unpr...</td>\n",
       "      <td>FAKE</td>\n",
       "    </tr>\n",
       "    <tr>\n",
       "      <th>4590</th>\n",
       "      <td>yu0xKEiapJ</td>\n",
       "      <td>Bernie Sanders: The Democratic primary gave me...</td>\n",
       "      <td>Print \\r\\nSen. Bernie Sanders laid out the way...</td>\n",
       "      <td>FAKE</td>\n",
       "    </tr>\n",
       "    <tr>\n",
       "      <th>4591</th>\n",
       "      <td>c4Y370E_9c</td>\n",
       "      <td>Pipeline Police Strip Search Native Girl, Then...</td>\n",
       "      <td>As the pressure to start construction on the D...</td>\n",
       "      <td>FAKE</td>\n",
       "    </tr>\n",
       "    <tr>\n",
       "      <th>4592</th>\n",
       "      <td>bBbeuCUeMH</td>\n",
       "      <td>Currency Crisis: Alasdair MacLeod On The Vexed...</td>\n",
       "      <td>Tweet Home » Gold » Gold News » Currency Crisi...</td>\n",
       "      <td>FAKE</td>\n",
       "    </tr>\n",
       "    <tr>\n",
       "      <th>4593</th>\n",
       "      <td>vE44sWBnd9</td>\n",
       "      <td>Paper Tiger ISIS Digs Into Mosul</td>\n",
       "      <td>Written by Eric Margolis   As a former soldier...</td>\n",
       "      <td>FAKE</td>\n",
       "    </tr>\n",
       "  </tbody>\n",
       "</table>\n",
       "<p>4594 rows × 4 columns</p>\n",
       "</div>"
      ],
      "text/plain": [
       "             idd                                              title  \\\n",
       "0     Fq+C96tcx+  ‘A target on Roe v. Wade ’: Oklahoma bill maki...   \n",
       "1     bHUqK!pgmv  Study: women had to drive 4 times farther afte...   \n",
       "2     4Y4Ubf%aTi        Trump, Clinton clash in dueling DC speeches   \n",
       "3     _CoY89SJ@K  Grand jury in Texas indicts activists behind P...   \n",
       "4     +rJHoRQVLe  As Reproductive Rights Hang In The Balance, De...   \n",
       "...          ...                                                ...   \n",
       "4589  ukZm6JTO#x                 Russia Calls the War Party's Bluff   \n",
       "4590  yu0xKEiapJ  Bernie Sanders: The Democratic primary gave me...   \n",
       "4591  c4Y370E_9c  Pipeline Police Strip Search Native Girl, Then...   \n",
       "4592  bBbeuCUeMH  Currency Crisis: Alasdair MacLeod On The Vexed...   \n",
       "4593  vE44sWBnd9                   Paper Tiger ISIS Digs Into Mosul   \n",
       "\n",
       "                                                   text label  \n",
       "0     UPDATE: Gov. Fallin vetoed the bill on Friday....  REAL  \n",
       "1     Ever since Texas laws closed about half of the...  REAL  \n",
       "2     Donald Trump and Hillary Clinton, now at the s...  REAL  \n",
       "3     A Houston grand jury investigating criminal al...  REAL  \n",
       "4     WASHINGTON -- Forty-three years after the Supr...  REAL  \n",
       "...                                                 ...   ...  \n",
       "4589  License DMCA \\r\\nCold War 2.0 has reached unpr...  FAKE  \n",
       "4590  Print \\r\\nSen. Bernie Sanders laid out the way...  FAKE  \n",
       "4591  As the pressure to start construction on the D...  FAKE  \n",
       "4592  Tweet Home » Gold » Gold News » Currency Crisi...  FAKE  \n",
       "4593  Written by Eric Margolis   As a former soldier...  FAKE  \n",
       "\n",
       "[4594 rows x 4 columns]"
      ]
     },
     "execution_count": 3,
     "metadata": {},
     "output_type": "execute_result"
    }
   ],
   "source": [
    "df = pd.read_csv('fake_and_real_news_dataset.csv')\n",
    "df"
   ]
  },
  {
   "cell_type": "markdown",
   "id": "3016d990",
   "metadata": {},
   "source": [
    "## Eplore dataset"
   ]
  },
  {
   "cell_type": "code",
   "execution_count": 3,
   "id": "69a2b722",
   "metadata": {
    "scrolled": true
   },
   "outputs": [
    {
     "data": {
      "text/plain": [
       "'UPDATE: Gov. Fallin vetoed the bill on Friday. Head here for more.\\r\\n\\r\\nLawmakers in Oklahoma approved a bill Thursday that would make performing abortions a felony and revoke\\xa0the medical licenses of most\\xa0physicians who assist in such procedures.\\r\\n\\r\\nThis sweeping measure, which opponents described as unconstitutional and unprecedented, now heads to\\xa0Gov. Mary Fallin (R). She\\xa0will have five days — not including Sunday — to decide whether to sign the bill, veto it or allow it to become law without her signature,\\xa0according to a spokesman.\\r\\n\\r\\n“The governor will withhold comment on that bill, as she does on most bills, until she and her staff have had a chance to review it,” Michael McNutt, a spokesman for Fallin, said in an email.\\r\\n\\r\\nThe Oklahoma bill is the first such measure of its kind, according to the Center for Reproductive Rights, which says that other states seeking to ban abortion have simply banned the procedure rather than attaching penalties like this.\\r\\n\\r\\nAccording to the measure, known as\\xa0SB1552, a person\\xa0who performs or induces an abortion will be guilty of a felony and punished with between one and three years in the state penitentiary.\\r\\n\\r\\nThis legislation also says that any physician who participates in an abortion — deemed “unprofessional conduct” in the bill — will be “prohibited from obtaining or renewing a license to practice medicine in this state.” However, medical licenses will not be stripped from doctors who perform abortions deemed necessary to save the mother’s life.\\r\\n\\r\\n[Yes, hospitals perform abortions. This D.C. doctor says her hospital won’t let her talk about it]\\r\\n\\r\\nThe bill passed the Oklahoma House of Representatives with a vote of 59-to-9 last month. On Thursday, the state’s senate passed it with a vote of 33-to-12.\\r\\n\\r\\n“Since I believe life begins at conception, it should be protected, and I believe it’s a core function of state government to defend that life from the beginning of conception,”\\xa0State Sen.\\xa0Nathan Dahm, a Republican who represents\\xa0Tulsa County, told the Associated Press.\\r\\n\\r\\nDahm said he hopes the Oklahoma measure could eventually lead to the overturning of Roe v. Wade, the 1973 Supreme Court decision that recognized a woman’s right to an abortion. Dahm did not respond to messages seeking comment Thursday and Friday.\\r\\n\\r\\nDawn Laguens, executive vice president of Planned Parenthood Federation of America, \\xa0said last month that the Oklahoma bill is “a ban on abortion, plain and simple.” The legislation\\xa0sent to Fallin on Thursday “is reckless and dangerous,” according to Ilyse Hogue, president of NARAL Pro-Choice America.\\r\\n\\r\\n“This bill puts doctors in the cross hairs for providing women with the option of exercising our fundamental right to decide how and when to start a family,” Hogue said in a statement. “And it creates penalties for doctors doing their jobs: performing a safe and legal medical procedure.”\\r\\n\\r\\nLiberty Counsel, a\\xa0group that rose to national prominence last year\\xa0defending the\\xa0Kentucky clerk who refused to sign same-sex marriage licenses, said Friday that it had helped support the legislation in Oklahoma.\\xa0The organization also vowed to defend it in court.\\r\\n\\r\\n“This particular bill puts a target on Roe v. Wade,” Mat Staver, the group’s founder and chairman, said in an interview Friday. “It is Oklahoma’s line in the sand on the sanctity of human life, as standing on the side of protecting innocent children.”\\r\\n\\r\\nStaver said that his group met with Oklahoma lawmakers before the legislation was filed, offering legal analysis after discussions had begun in the state about proposing such a measure.\\r\\n\\r\\nThe Oklahoma bill is “the first of its kind,” Staver said, though he said it was possible other states may follow Oklahoma’s lead.\\r\\n\\r\\n“This is a bolt step in the right direction, in my view,” Staver said. “It will be challenged and we’re prepared to defend it.”\\r\\n\\r\\n[Oklahoma isn’t the only state taking big steps to limit abortions]\\r\\n\\r\\nThe Oklahoma State Medical Association, which has called the measure “troubling,” has said it would not take a position on the legality of abortion as long as the practice remains legal. However, the group said it was opposed to “legislation that is designed to intimidate physicians or override their medical judgment.”\\r\\n\\r\\nOn Thursday, the group reiterated that opposition, calling it “one more insulting slap in the face of our state’s medical providers” and urging\\xa0Fallin to veto the legislation.\\r\\n\\r\\n“We are extremely disappointed in today’s vote,” Sherri Baker, president of the medical association, said in a statement Thursday. “It is simply unconscionable that, at a time when our state already faces a severe physician shortage, the senate would waste its time on a bill that is patently unconstitutional and whose only purposes are to score political points and intimidate physicians across this state.”\\r\\n\\r\\nWhen the measure was debated in the state’s House of Representatives, a legislator who\\xa0ultimately voted\\xa0against the bill pointed to the group’s opposition\\xa0and voiced\\xa0concerns that the law could lead to doctors abandoning Oklahoma. But one of the bill’s co-sponsors said he did not think it would have an impact.\\r\\n\\r\\nSince taking office in 2011, Fallin has signed more than a dozen bills restricting\\xa0access to reproductive health care, the\\xa0Center for Reproductive Rights, a nonprofit legal group, said Thursday.\\r\\n\\r\\nThe new bill “is blatantly unconstitutional and, if it takes effect, it will be the most extreme abortion law in this country” since the Roe v. Wade decision, Amanda Allen, senior state legislative counsel at the center, wrote in\\xa0a letter\\xa0to Fallin on Thursday.\\r\\n\\r\\nAllen said her group was urging\\xa0Fallin to veto the legislation, which she said was part of a larger pattern of lawmakers in the state chipping away at abortion rights.\\r\\n\\r\\n“Policymakers in Oklahoma should focus on advancing policies that will truly promote women’s health and safety, not abortion restrictions that do just the opposite,” Allen wrote. “Anti-choice politicians in the state have methodically restricted access to abortion and neglected to advance policies that truly address the challenges women and families face every day.”\\r\\n\\r\\nAllen\\xa0also said that the bill would “almost certainly lead to expensive court challenges that the state of Oklahoma simply cannot defend in light of longstanding Supreme Court precedent.”\\r\\n\\r\\nFallin has until next week to make a decision on the bill. If this measure\\xa0does\\xa0become law, it would go into\\xa0effect on Nov. 1.\\r\\n\\r\\nThe forgotten history of Justice Ginsburg’s criticism of Roe v. Wade\\r\\n\\r\\nIndiana banned abortions if fetuses have Down syndrome\\r\\n\\r\\nThis story, first published on Thursday, has been updated on Friday to include Liberty Counsel’s comments.'"
      ]
     },
     "execution_count": 3,
     "metadata": {},
     "output_type": "execute_result"
    }
   ],
   "source": [
    "sample_txt = df['text'][0]\n",
    "sample_txt"
   ]
  },
  {
   "cell_type": "code",
   "execution_count": 4,
   "id": "87a37895",
   "metadata": {
    "scrolled": true
   },
   "outputs": [
    {
     "data": {
      "text/plain": [
       "idd      0\n",
       "title    1\n",
       "text     0\n",
       "label    0\n",
       "dtype: int64"
      ]
     },
     "execution_count": 4,
     "metadata": {},
     "output_type": "execute_result"
    }
   ],
   "source": [
    "df.isnull().sum()"
   ]
  },
  {
   "cell_type": "code",
   "execution_count": 5,
   "id": "d782ed8d",
   "metadata": {
    "scrolled": true
   },
   "outputs": [
    {
     "data": {
      "text/plain": [
       "0"
      ]
     },
     "execution_count": 5,
     "metadata": {},
     "output_type": "execute_result"
    }
   ],
   "source": [
    "# check for dublicate news .. \n",
    "df.duplicated().sum()"
   ]
  },
  {
   "cell_type": "code",
   "execution_count": 4,
   "id": "f5dbff8a",
   "metadata": {},
   "outputs": [
    {
     "data": {
      "text/html": [
       "<div>\n",
       "<style scoped>\n",
       "    .dataframe tbody tr th:only-of-type {\n",
       "        vertical-align: middle;\n",
       "    }\n",
       "\n",
       "    .dataframe tbody tr th {\n",
       "        vertical-align: top;\n",
       "    }\n",
       "\n",
       "    .dataframe thead th {\n",
       "        text-align: right;\n",
       "    }\n",
       "</style>\n",
       "<table border=\"1\" class=\"dataframe\">\n",
       "  <thead>\n",
       "    <tr style=\"text-align: right;\">\n",
       "      <th></th>\n",
       "      <th>text</th>\n",
       "      <th>label</th>\n",
       "    </tr>\n",
       "  </thead>\n",
       "  <tbody>\n",
       "    <tr>\n",
       "      <th>0</th>\n",
       "      <td>UPDATE: Gov. Fallin vetoed the bill on Friday....</td>\n",
       "      <td>REAL</td>\n",
       "    </tr>\n",
       "    <tr>\n",
       "      <th>1</th>\n",
       "      <td>Ever since Texas laws closed about half of the...</td>\n",
       "      <td>REAL</td>\n",
       "    </tr>\n",
       "    <tr>\n",
       "      <th>2</th>\n",
       "      <td>Donald Trump and Hillary Clinton, now at the s...</td>\n",
       "      <td>REAL</td>\n",
       "    </tr>\n",
       "    <tr>\n",
       "      <th>3</th>\n",
       "      <td>A Houston grand jury investigating criminal al...</td>\n",
       "      <td>REAL</td>\n",
       "    </tr>\n",
       "    <tr>\n",
       "      <th>4</th>\n",
       "      <td>WASHINGTON -- Forty-three years after the Supr...</td>\n",
       "      <td>REAL</td>\n",
       "    </tr>\n",
       "  </tbody>\n",
       "</table>\n",
       "</div>"
      ],
      "text/plain": [
       "                                                text label\n",
       "0  UPDATE: Gov. Fallin vetoed the bill on Friday....  REAL\n",
       "1  Ever since Texas laws closed about half of the...  REAL\n",
       "2  Donald Trump and Hillary Clinton, now at the s...  REAL\n",
       "3  A Houston grand jury investigating criminal al...  REAL\n",
       "4  WASHINGTON -- Forty-three years after the Supr...  REAL"
      ]
     },
     "execution_count": 4,
     "metadata": {},
     "output_type": "execute_result"
    }
   ],
   "source": [
    "news = df[['text', 'label']]\n",
    "news.head()"
   ]
  },
  {
   "cell_type": "markdown",
   "id": "289d562d",
   "metadata": {},
   "source": [
    "## Data Pre-processing"
   ]
  },
  {
   "cell_type": "code",
   "execution_count": 7,
   "id": "3a7dd04d",
   "metadata": {},
   "outputs": [],
   "source": [
    "# this stage we would be removing \n",
    "# -punctuation mark \n",
    "# -stop words \n",
    "# -tokenize & convert to lower case"
   ]
  },
  {
   "cell_type": "code",
   "execution_count": 5,
   "id": "1dfccf47",
   "metadata": {},
   "outputs": [],
   "source": [
    "# removing punctuation mark\n"
   ]
  },
  {
   "cell_type": "code",
   "execution_count": 9,
   "id": "f0e41df4",
   "metadata": {},
   "outputs": [
    {
     "data": {
      "text/plain": [
       "'UPDATE Gov Fallin vetoed the bill on Friday Head here for moreLawmakers in Oklahoma approved a bill Thursday that would make performing abortions a felony and revokethe medical licenses of mostphysicians who assist in such proceduresThis sweeping measure which opponents described as unconstitutional and unprecedented now heads toGov Mary Fallin R Shewill have five days  not including Sunday  to decide whether to sign the bill veto it or allow it to become law without her signatureaccording to a spokesmanThe governor will withhold comment on that bill as she does on most bills until she and her staff have had a chance to review it” Michael McNutt a spokes'"
      ]
     },
     "execution_count": 9,
     "metadata": {},
     "output_type": "execute_result"
    }
   ],
   "source": [
    "sample = news['text'][0][:700]\n",
    "\n",
    "# romoving\n",
    "punct = string.punctuation\n",
    "special_char = ['\\n', '\\r', '\\xa0', '—', '“']\n",
    "\n",
    "text = ''.join([sm for sm in sample if sm not in punct])\n",
    "sample = ''.join([sm for sm in text if sm not in special_char])\n",
    "sample"
   ]
  },
  {
   "cell_type": "code",
   "execution_count": 6,
   "id": "3a672cc6",
   "metadata": {
    "scrolled": false
   },
   "outputs": [],
   "source": [
    "# remove punctiation marks and special character... \n",
    "def remove_punctuation(texts):\n",
    "    punct = string.punctuation\n",
    "    special_char = ['\\n', '\\r', '\\xa0', '—', '“', '’', '”', '»']\n",
    "    remove_punc = ''.join([txt for txt in texts if txt not in punct])\n",
    "    text = ''.join([rp for rp in remove_punc if rp not in special_char])\n",
    "    return text\n",
    "#  \n",
    "# news['clean'] = news.text.progress_apply(lambda x:remove_punctuation(x))\n",
    "# [remove_punctuation(n) for n in news.text[0:1]]   \n",
    "# news['clean']"
   ]
  },
  {
   "cell_type": "code",
   "execution_count": 7,
   "id": "64d77b80",
   "metadata": {},
   "outputs": [],
   "source": [
    "# removing stopwords \n",
    "from nltk.corpus import stopwords\n",
    "\n",
    "# function to remove stopwords\n",
    "def remove_stopword(text):\n",
    "    # init stopword\n",
    "    text = text.split()\n",
    "    stop_words = stopwords.words('english')\n",
    "    st_word = [txt for txt in text if not txt in stop_words] \n",
    "    return ' '.join(st_word)\n",
    "\n",
    "# [remove_stopword(n) for n in news.clean[0:1]]  \n",
    "# news['clean'] = news['clean'].progress_apply(lambda x:remove_stopword(x))\n",
    "# news['clean'].head()"
   ]
  },
  {
   "cell_type": "code",
   "execution_count": 8,
   "id": "11c3713c",
   "metadata": {
    "scrolled": false
   },
   "outputs": [],
   "source": [
    "from nltk.stem import PorterStemmer\n",
    "\n",
    "# stemming and lower case converstion\n",
    "def stem_and_lower_text(text, lower=False):\n",
    "    ps = PorterStemmer()\n",
    "    text = text.split()\n",
    "    \n",
    "    if lower:\n",
    "        stem_lower_text = [ps.stem(txt.lower()) for txt in text]\n",
    "    else: \n",
    "        stem_lower_text = [ps.stem(txt) for txt in text]\n",
    "\n",
    "    return ' '.join(stem_lower_text)\n",
    "\n",
    "# [stem_and_lower_text(n) for n in news.clean[0:1]]  \n",
    "# news['clean'] = news['clean'].progress_apply(lambda x: stem_and_lower_text(x, True))\n",
    "# news['clean']"
   ]
  },
  {
   "cell_type": "code",
   "execution_count": 9,
   "id": "c0166a1f",
   "metadata": {},
   "outputs": [],
   "source": [
    "# data cleaning function to remove punction, stopword and stem the text... \n",
    "def data_cleaning(df, col):\n",
    "    df[col] = df[col].progress_apply(lambda x:remove_punctuation(x))\n",
    "    print('removal of punctuation complete..')\n",
    "    df[col] = df[col].progress_apply(lambda x:remove_stopword(x))\n",
    "    print('removal of stowords complete....')\n",
    "    df[col] = df[col].progress_apply(lambda x:stem_and_lower_text(x))\n",
    "    print('stemming complete....')\n",
    "# data_cleaning(news, 'text')"
   ]
  },
  {
   "cell_type": "code",
   "execution_count": 10,
   "id": "0336872a",
   "metadata": {
    "scrolled": false
   },
   "outputs": [
    {
     "name": "stderr",
     "output_type": "stream",
     "text": [
      "100%|██████████████████████████████| 4594/4594 [02:20<00:00, 32.59it/s]\n"
     ]
    },
    {
     "data": {
      "text/plain": [
       "0       [updat, gov, fallin, veto, bill, friday, head,...\n",
       "1       [ever, sinc, texa, law, close, half, state, ab...\n",
       "2       [donald, trump, hillari, clinton, start, line,...\n",
       "3       [a, houston, grand, juri, investig, crimin, al...\n",
       "4       [washington, fortythre, year, suprem, court, e...\n",
       "                              ...                        \n",
       "4589    [licens, dmca, cold, war, 20, reach, unpreced,...\n",
       "4590    [print, sen, berni, sander, laid, way, would, ...\n",
       "4591    [as, pressur, start, construct, dakota, access...\n",
       "4592    [tweet, home, gold, gold, new, currenc, crisi,...\n",
       "4593    [written, eric, margoli, as, former, soldier, ...\n",
       "Name: text, Length: 4594, dtype: object"
      ]
     },
     "execution_count": 10,
     "metadata": {},
     "output_type": "execute_result"
    }
   ],
   "source": [
    "# data cleaning function to remove punction, stopword and stem the text... \n",
    "def data_cleaning(data):\n",
    "#     df[col] = df[col].progress_apply(lambda x:remove_punctuation(x))\n",
    "#     df[col] = df[col].progress_apply(lambda x:remove_stopword(x))\n",
    "#     df[col] = df[col].progress_apply(lambda x:stem_and_lower_text(x))\n",
    "    data = remove_punctuation(data)\n",
    "    data = remove_stopword(data)\n",
    "    data = stem_and_lower_text(data)\n",
    "    \n",
    "    return data.split()\n",
    "    \n",
    "news['text'] = news['text'].progress_apply(lambda x: data_cleaning(x))\n",
    "news['text']"
   ]
  },
  {
   "cell_type": "markdown",
   "id": "19844946",
   "metadata": {},
   "source": [
    "# Word2Vec Model"
   ]
  },
  {
   "cell_type": "code",
   "execution_count": 12,
   "id": "82e8105b",
   "metadata": {},
   "outputs": [],
   "source": [
    "import gensim \n",
    "from gensim.models import Word2Vec"
   ]
  },
  {
   "cell_type": "code",
   "execution_count": 13,
   "id": "a418f8a8",
   "metadata": {},
   "outputs": [
    {
     "data": {
      "text/plain": [
       "<gensim.models.word2vec.Word2Vec at 0x15649818c70>"
      ]
     },
     "execution_count": 13,
     "metadata": {},
     "output_type": "execute_result"
    }
   ],
   "source": [
    "# training the word 2 vect using skip gram model.....\n",
    "w2v = Word2Vec(news.text, vector_size=300, window=5, min_count=1)\n",
    "w2v"
   ]
  },
  {
   "cell_type": "code",
   "execution_count": 14,
   "id": "8bf80ae6",
   "metadata": {
    "scrolled": false
   },
   "outputs": [
    {
     "data": {
      "text/html": [
       "<div>\n",
       "<style scoped>\n",
       "    .dataframe tbody tr th:only-of-type {\n",
       "        vertical-align: middle;\n",
       "    }\n",
       "\n",
       "    .dataframe tbody tr th {\n",
       "        vertical-align: top;\n",
       "    }\n",
       "\n",
       "    .dataframe thead th {\n",
       "        text-align: right;\n",
       "    }\n",
       "</style>\n",
       "<table border=\"1\" class=\"dataframe\">\n",
       "  <thead>\n",
       "    <tr style=\"text-align: right;\">\n",
       "      <th></th>\n",
       "      <th>text</th>\n",
       "      <th>label</th>\n",
       "    </tr>\n",
       "  </thead>\n",
       "  <tbody>\n",
       "    <tr>\n",
       "      <th>0</th>\n",
       "      <td>[updat, gov, fallin, veto, bill, friday, head,...</td>\n",
       "      <td>1</td>\n",
       "    </tr>\n",
       "    <tr>\n",
       "      <th>1</th>\n",
       "      <td>[ever, sinc, texa, law, close, half, state, ab...</td>\n",
       "      <td>1</td>\n",
       "    </tr>\n",
       "    <tr>\n",
       "      <th>2</th>\n",
       "      <td>[donald, trump, hillari, clinton, start, line,...</td>\n",
       "      <td>1</td>\n",
       "    </tr>\n",
       "    <tr>\n",
       "      <th>3</th>\n",
       "      <td>[a, houston, grand, juri, investig, crimin, al...</td>\n",
       "      <td>1</td>\n",
       "    </tr>\n",
       "    <tr>\n",
       "      <th>4</th>\n",
       "      <td>[washington, fortythre, year, suprem, court, e...</td>\n",
       "      <td>1</td>\n",
       "    </tr>\n",
       "    <tr>\n",
       "      <th>...</th>\n",
       "      <td>...</td>\n",
       "      <td>...</td>\n",
       "    </tr>\n",
       "    <tr>\n",
       "      <th>4589</th>\n",
       "      <td>[licens, dmca, cold, war, 20, reach, unpreced,...</td>\n",
       "      <td>0</td>\n",
       "    </tr>\n",
       "    <tr>\n",
       "      <th>4590</th>\n",
       "      <td>[print, sen, berni, sander, laid, way, would, ...</td>\n",
       "      <td>0</td>\n",
       "    </tr>\n",
       "    <tr>\n",
       "      <th>4591</th>\n",
       "      <td>[as, pressur, start, construct, dakota, access...</td>\n",
       "      <td>0</td>\n",
       "    </tr>\n",
       "    <tr>\n",
       "      <th>4592</th>\n",
       "      <td>[tweet, home, gold, gold, new, currenc, crisi,...</td>\n",
       "      <td>0</td>\n",
       "    </tr>\n",
       "    <tr>\n",
       "      <th>4593</th>\n",
       "      <td>[written, eric, margoli, as, former, soldier, ...</td>\n",
       "      <td>0</td>\n",
       "    </tr>\n",
       "  </tbody>\n",
       "</table>\n",
       "<p>4594 rows × 2 columns</p>\n",
       "</div>"
      ],
      "text/plain": [
       "                                                   text  label\n",
       "0     [updat, gov, fallin, veto, bill, friday, head,...      1\n",
       "1     [ever, sinc, texa, law, close, half, state, ab...      1\n",
       "2     [donald, trump, hillari, clinton, start, line,...      1\n",
       "3     [a, houston, grand, juri, investig, crimin, al...      1\n",
       "4     [washington, fortythre, year, suprem, court, e...      1\n",
       "...                                                 ...    ...\n",
       "4589  [licens, dmca, cold, war, 20, reach, unpreced,...      0\n",
       "4590  [print, sen, berni, sander, laid, way, would, ...      0\n",
       "4591  [as, pressur, start, construct, dakota, access...      0\n",
       "4592  [tweet, home, gold, gold, new, currenc, crisi,...      0\n",
       "4593  [written, eric, margoli, as, former, soldier, ...      0\n",
       "\n",
       "[4594 rows x 2 columns]"
      ]
     },
     "execution_count": 14,
     "metadata": {},
     "output_type": "execute_result"
    }
   ],
   "source": [
    "# news.label{'FAKE':0, 'REAL':1 }\n",
    "news.label = news.label.replace({'FAKE':0, 'REAL':1 })\n",
    "news"
   ]
  },
  {
   "cell_type": "code",
   "execution_count": 15,
   "id": "e14db894",
   "metadata": {},
   "outputs": [
    {
     "data": {
      "text/plain": [
       "300"
      ]
     },
     "execution_count": 15,
     "metadata": {},
     "output_type": "execute_result"
    }
   ],
   "source": [
    "dimension = w2v.wv.vector_size\n",
    "dimension\n"
   ]
  },
  {
   "cell_type": "code",
   "execution_count": 16,
   "id": "00340ef0",
   "metadata": {},
   "outputs": [],
   "source": [
    "# function to generate feature using Word 2 vec (w2v trained from scratch)\n",
    "def generate_w2v_featureML(w2v , documents, w2v_dimension):\n",
    "    \n",
    "    feature_vectors = []\n",
    "    \n",
    "    for document in documents: \n",
    "        \n",
    "#       loop through each row and get the embding vector ... check if word is in vocab\n",
    "        features = [w2v.wv[doc] for doc in document if doc in w2v.wv]\n",
    "        \n",
    "#       if the matrix is not empty\n",
    "        if features:\n",
    "#           sum the matrix into a single embding size matrix divide each value with the \n",
    "#           number of word found in featrues\n",
    "            feature_vector = sum(features) / len(features)\n",
    "    \n",
    "#       if list is empty\n",
    "        else: \n",
    "            feature_vector = [0] * w2v_dimension\n",
    "#           store vectore for each document row from pandas into the \n",
    "#           the list of features \n",
    "        \n",
    "        feature_vectors.append(feature_vector)\n",
    "    \n",
    "    return feature_vectors\n",
    "            \n",
    "        \n",
    "f_vectors = generate_w2v_featureML(w2v ,news['text'], dimension )"
   ]
  },
  {
   "cell_type": "code",
   "execution_count": 17,
   "id": "87d54124",
   "metadata": {
    "scrolled": true
   },
   "outputs": [],
   "source": [
    "# fv/len(v)\n",
    "# w2v.wv['is']\n",
    "# # len(feature_vectors)\n",
    "# len(f_vectors)"
   ]
  },
  {
   "cell_type": "markdown",
   "id": "d3a9f37a",
   "metadata": {},
   "source": [
    "## Train & Testing sample"
   ]
  },
  {
   "cell_type": "code",
   "execution_count": 18,
   "id": "023c8982",
   "metadata": {
    "scrolled": false
   },
   "outputs": [],
   "source": [
    "from sklearn import model_selection\n",
    "\n",
    "X_train, X_test, y_train, y_test = model_selection.train_test_split(f_vectors, news.label, test_size=0.2, random_state=42)"
   ]
  },
  {
   "cell_type": "markdown",
   "id": "89a457e0",
   "metadata": {},
   "source": [
    "## Machin Model Training"
   ]
  },
  {
   "cell_type": "code",
   "execution_count": 19,
   "id": "cf616dba",
   "metadata": {},
   "outputs": [],
   "source": [
    "# machin leanring considered for training inlude\n",
    "# 1. KNN \n",
    "# 2. logistic Regression\n",
    "# 3. Naive Bayes\n",
    "# 4. Decision Tree \n",
    "# 5. SVM\n",
    "\n",
    "from sklearn.linear_model import LogisticRegression\n",
    "from sklearn import metrics\n",
    "from sklearn.neighbors import KNeighborsClassifier\n",
    "from sklearn.naive_bayes import GaussianNB, MultinomialNB\n",
    "from sklearn.svm import SVC\n",
    "from sklearn.tree import DecisionTreeClassifier"
   ]
  },
  {
   "cell_type": "code",
   "execution_count": 23,
   "id": "0bb19b76",
   "metadata": {},
   "outputs": [],
   "source": [
    "# w2v.wv.key_to_i"
   ]
  },
  {
   "cell_type": "code",
   "execution_count": 20,
   "id": "ef022e3f",
   "metadata": {},
   "outputs": [
    {
     "name": "stdout",
     "output_type": "stream",
     "text": [
      "              precision    recall  f1-score   support\n",
      "\n",
      "           0       0.86      0.90      0.88       450\n",
      "           1       0.90      0.86      0.88       469\n",
      "\n",
      "    accuracy                           0.88       919\n",
      "   macro avg       0.88      0.88      0.88       919\n",
      "weighted avg       0.88      0.88      0.88       919\n",
      "\n"
     ]
    }
   ],
   "source": [
    "# logistic regression\n",
    "lr = LogisticRegression()\n",
    "lr.fit(X_train,y_train)\n",
    "lr.score(X_train, y_train)\n",
    "predict = lr.predict(X_test)\n",
    "report = metrics.classification_report(y_test, predict)\n",
    "print(report)"
   ]
  },
  {
   "cell_type": "code",
   "execution_count": null,
   "id": "bd99815b",
   "metadata": {},
   "outputs": [],
   "source": []
  },
  {
   "cell_type": "code",
   "execution_count": 21,
   "id": "097f58e8",
   "metadata": {},
   "outputs": [
    {
     "name": "stdout",
     "output_type": "stream",
     "text": [
      "              precision    recall  f1-score   support\n",
      "\n",
      "           0       0.86      0.82      0.84       450\n",
      "           1       0.84      0.87      0.86       469\n",
      "\n",
      "    accuracy                           0.85       919\n",
      "   macro avg       0.85      0.85      0.85       919\n",
      "weighted avg       0.85      0.85      0.85       919\n",
      "\n"
     ]
    }
   ],
   "source": [
    "# KNN \n",
    "knn = KNeighborsClassifier()\n",
    "knn.fit(X_train,y_train)\n",
    "knn.score(X_train, y_train)\n",
    "predict = knn.predict(X_test)\n",
    "report = metrics.classification_report(y_test, predict)\n",
    "print(report)"
   ]
  },
  {
   "cell_type": "code",
   "execution_count": null,
   "id": "9e163438",
   "metadata": {
    "scrolled": true
   },
   "outputs": [],
   "source": []
  },
  {
   "cell_type": "code",
   "execution_count": 26,
   "id": "33f8678c",
   "metadata": {},
   "outputs": [
    {
     "name": "stdout",
     "output_type": "stream",
     "text": [
      "              precision    recall  f1-score   support\n",
      "\n",
      "           0       0.77      0.83      0.80       450\n",
      "           1       0.82      0.76      0.79       469\n",
      "\n",
      "    accuracy                           0.79       919\n",
      "   macro avg       0.79      0.79      0.79       919\n",
      "weighted avg       0.80      0.79      0.79       919\n",
      "\n"
     ]
    }
   ],
   "source": [
    "# naive Bayes \n",
    "nb = GaussianNB()\n",
    "nb.fit(X_train,y_train)\n",
    "nb.score(X_train, y_train)\n",
    "predict = nb.predict(X_test)\n",
    "report = metrics.classification_report(y_test, predict)\n",
    "print(report)"
   ]
  },
  {
   "cell_type": "code",
   "execution_count": null,
   "id": "8e8115a8",
   "metadata": {
    "scrolled": true
   },
   "outputs": [],
   "source": []
  },
  {
   "cell_type": "code",
   "execution_count": 22,
   "id": "e4667756",
   "metadata": {},
   "outputs": [
    {
     "name": "stdout",
     "output_type": "stream",
     "text": [
      "              precision    recall  f1-score   support\n",
      "\n",
      "           0       0.87      0.91      0.89       450\n",
      "           1       0.91      0.87      0.89       469\n",
      "\n",
      "    accuracy                           0.89       919\n",
      "   macro avg       0.89      0.89      0.89       919\n",
      "weighted avg       0.89      0.89      0.89       919\n",
      "\n"
     ]
    }
   ],
   "source": [
    "# support vector machine \n",
    "svm = SVC()\n",
    "svm.fit(X_train,y_train)\n",
    "svm.score(X_train, y_train)\n",
    "predict = svm.predict(X_test)\n",
    "report = metrics.classification_report(y_test, predict)\n",
    "print(report)"
   ]
  },
  {
   "cell_type": "code",
   "execution_count": null,
   "id": "b639bffd",
   "metadata": {
    "scrolled": false
   },
   "outputs": [],
   "source": []
  },
  {
   "cell_type": "code",
   "execution_count": 23,
   "id": "0189b0e9",
   "metadata": {},
   "outputs": [
    {
     "name": "stdout",
     "output_type": "stream",
     "text": [
      "              precision    recall  f1-score   support\n",
      "\n",
      "           0       0.79      0.78      0.79       450\n",
      "           1       0.79      0.80      0.80       469\n",
      "\n",
      "    accuracy                           0.79       919\n",
      "   macro avg       0.79      0.79      0.79       919\n",
      "weighted avg       0.79      0.79      0.79       919\n",
      "\n"
     ]
    }
   ],
   "source": [
    "# naive Bayes \n",
    "dt = DecisionTreeClassifier()\n",
    "dt.fit(X_train,y_train)\n",
    "dt.score(X_train, y_train)\n",
    "predict = dt.predict(X_test)\n",
    "report = metrics.classification_report(y_test, predict)\n",
    "print(report)"
   ]
  },
  {
   "cell_type": "code",
   "execution_count": 24,
   "id": "d7f9523b",
   "metadata": {},
   "outputs": [],
   "source": [
    "# futher xplore the dataset\n",
    "# news.label.value_counts().plot(kind='bar')\n",
    "# loading google word to vec \n",
    "# import gensim \n",
    "\n",
    "# google_vec = 'GoogleNews-vectors-negative300.bin'\n",
    "\n",
    "# w2v = gensim.models.keyedvectors.load_word2vec_format(google_vec, binary=True)\n",
    "# w2v['play']"
   ]
  },
  {
   "cell_type": "code",
   "execution_count": 31,
   "id": "760d39e7",
   "metadata": {},
   "outputs": [],
   "source": [
    "\n",
    "dimension = 300 # google vectore download is 300 in dimension ....\n",
    "\n",
    "# function to generate feature using Word 2 vec (for pretrined google vec)\n",
    "def generate_w2v_featureML(w2v , documents, w2v_dimension):\n",
    "    \n",
    "    feature_vectors = []\n",
    "    \n",
    "    for document in documents: \n",
    "        \n",
    "#       loop through each row and get the embding vector ... check if word is in vocab\n",
    "        features = [w2v[doc] for doc in document if doc in w2v]\n",
    "        \n",
    "#       if the matrix is not empty\n",
    "        if features:\n",
    "#           sum the matrix into a single embding size matrix divide each value with the \n",
    "#           number of word found in featrues\n",
    "            feature_vector = sum(features) / len(features)\n",
    "    \n",
    "#       if list is empty\n",
    "        else: \n",
    "            feature_vector = [0] * w2v_dimension\n",
    "#           store vectore for each document row from pandas into the \n",
    "#           the list of features \n",
    "        \n",
    "        feature_vectors.append(feature_vector)\n",
    "    \n",
    "    return feature_vectors\n",
    "            \n",
    "        \n",
    "# f_vectors = generate_w2v_featureML(w2v ,news['text'], dimension )"
   ]
  },
  {
   "cell_type": "code",
   "execution_count": 32,
   "id": "52e5df8c",
   "metadata": {},
   "outputs": [],
   "source": [
    "# X_train, X_test, y_train, y_test = model_selection.train_test_split(f_vectors, news.label, test_size=0.2)"
   ]
  },
  {
   "cell_type": "code",
   "execution_count": 11,
   "id": "b2628663",
   "metadata": {
    "scrolled": true
   },
   "outputs": [],
   "source": [
    "# # logistic regression\n",
    "# lr = LogisticRegression()\n",
    "# lr.fit(X_train,y_train)\n",
    "\n",
    "# predict = lr.predict(X_test)\n",
    "# report = metrics.classification_report(y_test, predict)\n",
    "# print(report)\n",
    "\n",
    "\n",
    "\n",
    "# # naive Bayes \n",
    "# nb = GaussianNB()\n",
    "# nb.fit(X_train,y_train)\n",
    "# nb.score(X_train, y_train)\n",
    "# predict = nb.predict(X_test)\n",
    "# report = metrics.classification_report(y_test, predict)\n",
    "# print(report)\n",
    "\n",
    "# # KNN \n",
    "# knn = KNeighborsClassifier()\n",
    "# knn.fit(X_train,y_train)\n",
    "# knn.score(X_train, y_train)\n",
    "# predict = knn.predict(X_test)\n",
    "# report = metrics.classification_report(y_test, predict)\n",
    "# print(report)\n",
    "\n",
    "\n",
    "# # support vector machine \n",
    "# svm = SVC()\n",
    "# svm.fit(X_train,y_train)\n",
    "# svm.score(X_train, y_train)\n",
    "# predict = svm.predict(X_test)\n",
    "# report = metrics.classification_report(y_test, predict)\n",
    "# print(report)\n",
    "\n",
    "\n",
    "\n",
    "# # naive Bayes \n",
    "# dt = DecisionTreeClassifier()\n",
    "# dt.fit(X_train,y_train)\n",
    "# dt.score(X_train, y_train)\n",
    "# predict = dt.predict(X_test)\n",
    "# report = metrics.classification_report(y_test, predict)\n",
    "# print(report)"
   ]
  },
  {
   "cell_type": "markdown",
   "id": "39854e1e",
   "metadata": {},
   "source": [
    "Vobac for Deep learning Model"
   ]
  },
  {
   "cell_type": "code",
   "execution_count": 25,
   "id": "9bb29cc6",
   "metadata": {},
   "outputs": [],
   "source": [
    "from sklearn import model_selection\n",
    "# deep leanring transformation \n",
    "import tensorflow as tf\n",
    "from tensorflow.keras.preprocessing.text import Tokenizer\n",
    "from tensorflow.keras.preprocessing.sequence import pad_sequences\n",
    "from sklearn.model_selection import train_test_split\n",
    "\n",
    "X_train, X_test, y_train, y_test = model_selection.train_test_split(news['text'], news['label'], random_state=0)"
   ]
  },
  {
   "cell_type": "code",
   "execution_count": 26,
   "id": "5025d3fd",
   "metadata": {
    "scrolled": false
   },
   "outputs": [],
   "source": [
    "import numpy as np\n",
    "# creating an embedding dimend\n",
    "# Get the vocabulary size and embedding dimension from the loaded model\n",
    "max_features = 10000\n",
    "maxlen = 300\n",
    "\n",
    "# tokinizing, converting to numbers and pad to same size\n",
    "# train data\n",
    "tokenizer = Tokenizer(num_words=max_features)\n",
    "tokenizer.fit_on_texts(X_train)\n",
    "tokenized_train = tokenizer.texts_to_sequences(X_train)\n",
    "X_train = pad_sequences(tokenized_train, maxlen=maxlen)"
   ]
  },
  {
   "cell_type": "code",
   "execution_count": 27,
   "id": "4ab25bbe",
   "metadata": {},
   "outputs": [],
   "source": [
    "# test data\n",
    "tokenized_test = tokenizer.texts_to_sequences(X_test)\n",
    "X_test = pad_sequences(tokenized_test, maxlen=maxlen)"
   ]
  },
  {
   "cell_type": "code",
   "execution_count": 28,
   "id": "9361df6e",
   "metadata": {},
   "outputs": [
    {
     "name": "stdout",
     "output_type": "stream",
     "text": [
      "80859\n"
     ]
    },
    {
     "data": {
      "text/plain": [
       "(80859, 300)"
      ]
     },
     "execution_count": 28,
     "metadata": {},
     "output_type": "execute_result"
    }
   ],
   "source": [
    "# building embedding matrix\n",
    "vocab_size = len(tokenizer.word_index)\n",
    "print(vocab_size)\n",
    "dim = 300\n",
    "\n",
    "# generating weighted matrix.. \n",
    "weight_matrix = np.zeros((vocab_size, dim))\n",
    "weight_matrix.shape"
   ]
  },
  {
   "cell_type": "code",
   "execution_count": 33,
   "id": "97cbe28a",
   "metadata": {},
   "outputs": [
    {
     "data": {
      "text/plain": [
       "['trump', 'clinton', 'the', 'said']"
      ]
     },
     "execution_count": 33,
     "metadata": {},
     "output_type": "execute_result"
    }
   ],
   "source": [
    "w2v.wv.index_to_key[:4]"
   ]
  },
  {
   "cell_type": "code",
   "execution_count": 36,
   "id": "f4a8df42",
   "metadata": {
    "scrolled": true
   },
   "outputs": [
    {
     "name": "stdout",
     "output_type": "stream",
     "text": [
      "matrix generated complete\n",
      "(80859, 300)\n"
     ]
    }
   ],
   "source": [
    "# vocab = model.wv.key_to_index\n",
    "vocab = tokenizer.word_index\n",
    "for word, index in tokenizer.word_index.items():\n",
    "#     print(word, (index-1))c\n",
    "    if index < vocab_size: \n",
    "        if word in w2v.wv.index_to_key:\n",
    "            weight_matrix[index] = w2v.wv[word]\n",
    "#             print(len(weight_matrix[index-1]))\n",
    "        else: \n",
    "            weight_matrix[index] = np.zeros(300)\n",
    "\n",
    "print('matrix generated complete')\n",
    "print(weight_matrix.shape)"
   ]
  },
  {
   "cell_type": "code",
   "execution_count": 38,
   "id": "4b2a1273",
   "metadata": {},
   "outputs": [],
   "source": [
    "batch_size = 256\n",
    "epochs = 10\n",
    "embed_size = 300\n",
    "\n",
    "model = tf.keras.Sequential()\n",
    "#Non-trainable embeddidng layer\n",
    "model.add(tf.keras.layers.Embedding(vocab_size, output_dim=embed_size, input_length=maxlen, weights=[weight_matrix] , trainable=False))\n",
    "#LSTM \n",
    "model.add(tf.keras.layers.LSTM(units=128 , return_sequences = True , recurrent_dropout = 0.25 , dropout = 0.25))\n",
    "model.add(tf.keras.layers.LSTM(units=64 , recurrent_dropout = 0.1 , dropout = 0.1))\n",
    "model.add(tf.keras.layers.Dense(units = 32 , activation = 'relu'))\n",
    "model.add(tf.keras.layers.Dense(1, activation='sigmoid'))\n",
    "model.compile(optimizer=tf.keras.optimizers.Adam(learning_rate = 0.01), loss='binary_crossentropy', metrics=['accuracy'])"
   ]
  },
  {
   "cell_type": "code",
   "execution_count": 39,
   "id": "cc79069c",
   "metadata": {
    "scrolled": true
   },
   "outputs": [
    {
     "name": "stdout",
     "output_type": "stream",
     "text": [
      "Model: \"sequential_1\"\n",
      "_________________________________________________________________\n",
      " Layer (type)                Output Shape              Param #   \n",
      "=================================================================\n",
      " embedding_1 (Embedding)     (None, 300, 300)          24257700  \n",
      "                                                                 \n",
      " lstm (LSTM)                 (None, 300, 128)          219648    \n",
      "                                                                 \n",
      " lstm_1 (LSTM)               (None, 64)                49408     \n",
      "                                                                 \n",
      " dense (Dense)               (None, 32)                2080      \n",
      "                                                                 \n",
      " dense_1 (Dense)             (None, 1)                 33        \n",
      "                                                                 \n",
      "=================================================================\n",
      "Total params: 24,528,869\n",
      "Trainable params: 271,169\n",
      "Non-trainable params: 24,257,700\n",
      "_________________________________________________________________\n"
     ]
    }
   ],
   "source": [
    "model.summary()"
   ]
  },
  {
   "cell_type": "code",
   "execution_count": 40,
   "id": "c4544c5a",
   "metadata": {
    "scrolled": false
   },
   "outputs": [
    {
     "name": "stdout",
     "output_type": "stream",
     "text": [
      "Epoch 1/10\n",
      "10/10 [==============================] - 268s 27s/step - loss: 0.7204 - accuracy: 0.5653 - val_loss: 0.6165 - val_accuracy: 0.6576\n",
      "Epoch 2/10\n",
      "10/10 [==============================] - 292s 30s/step - loss: 0.5293 - accuracy: 0.7590 - val_loss: 0.4314 - val_accuracy: 0.8424\n",
      "Epoch 3/10\n",
      "10/10 [==============================] - 323s 32s/step - loss: 0.4000 - accuracy: 0.8391 - val_loss: 0.3890 - val_accuracy: 0.8414\n",
      "Epoch 4/10\n",
      "10/10 [==============================] - 318s 32s/step - loss: 0.3614 - accuracy: 0.8407 - val_loss: 0.4277 - val_accuracy: 0.8366\n",
      "Epoch 5/10\n",
      "10/10 [==============================] - 322s 32s/step - loss: 0.2920 - accuracy: 0.8859 - val_loss: 0.3412 - val_accuracy: 0.8714\n",
      "Epoch 6/10\n",
      "10/10 [==============================] - 320s 32s/step - loss: 0.2497 - accuracy: 0.8996 - val_loss: 0.2822 - val_accuracy: 0.8849\n",
      "Epoch 7/10\n",
      "10/10 [==============================] - 316s 32s/step - loss: 0.2117 - accuracy: 0.9158 - val_loss: 0.2706 - val_accuracy: 0.9081\n",
      "Epoch 8/10\n",
      "10/10 [==============================] - 333s 34s/step - loss: 0.1718 - accuracy: 0.9361 - val_loss: 0.2691 - val_accuracy: 0.9139\n",
      "Epoch 9/10\n",
      "10/10 [==============================] - 200s 18s/step - loss: 0.1365 - accuracy: 0.9527 - val_loss: 0.2799 - val_accuracy: 0.8994\n",
      "Epoch 10/10\n",
      "10/10 [==============================] - 148s 15s/step - loss: 0.1160 - accuracy: 0.9548 - val_loss: 0.3028 - val_accuracy: 0.9023\n"
     ]
    }
   ],
   "source": [
    "history = model.fit(X_train, y_train, validation_split=0.3, epochs=10, batch_size=batch_size, shuffle=True, verbose = 1)"
   ]
  },
  {
   "cell_type": "code",
   "execution_count": 41,
   "id": "786c20aa",
   "metadata": {},
   "outputs": [],
   "source": [
    "# saving model\n",
    "model.save('fake_news_w2v_lstm_model.h5')"
   ]
  },
  {
   "cell_type": "code",
   "execution_count": 54,
   "id": "37ad36fc",
   "metadata": {},
   "outputs": [],
   "source": [
    "import matplotlib.pyplot as plt\n",
    "import seaborn as sn\n",
    "from keras.models import load_model"
   ]
  },
  {
   "cell_type": "code",
   "execution_count": 44,
   "id": "70e59a3e",
   "metadata": {
    "scrolled": false
   },
   "outputs": [
    {
     "data": {
      "image/png": "[encoded data removed]",
      "text/plain": [
       "<Figure size 640x480 with 1 Axes>"
      ]
     },
     "metadata": {},
     "output_type": "display_data"
    }
   ],
   "source": [
    "# ploting training accuracy and loss accuracy\n",
    "train_acc = history.history['accuracy']\n",
    "test_acc = history.history['val_accuracy']\n",
    "\n",
    "plt.title('LSTM ACCURACY PLOT')\n",
    "plt.plot(train_acc, label='Train_accuracy', color='blue')\n",
    "plt.plot(test_acc, label='Test_accuracy', color='red')\n",
    "plt.legend()\n",
    "plt.grid(True)\n",
    "plt.xlabel('EPOCH')\n",
    "plt.ylabel('ACCURACY (%)')\n",
    "plt.show()"
   ]
  },
  {
   "cell_type": "code",
   "execution_count": 45,
   "id": "8fed5b20",
   "metadata": {
    "scrolled": false
   },
   "outputs": [
    {
     "data": {
      "image/png": "[encoded data removed]",
      "text/plain": [
       "<Figure size 640x480 with 1 Axes>"
      ]
     },
     "metadata": {},
     "output_type": "display_data"
    }
   ],
   "source": [
    "# ploting training accuracy and loss accuracy\n",
    "train_acc = history.history['loss']\n",
    "test_acc = history.history['val_loss']\n",
    "\n",
    "plt.title('LSTM LOSS PLOT')\n",
    "plt.plot(train_acc, label='Train_loss', color='blue')\n",
    "plt.plot(test_acc, label='Test_loss', color='red')\n",
    "plt.legend()\n",
    "plt.grid(True)\n",
    "plt.xlabel('EPOCH')\n",
    "plt.ylabel('LOSS')\n",
    "plt.show()"
   ]
  },
  {
   "cell_type": "code",
   "execution_count": 46,
   "id": "0247d4c9",
   "metadata": {},
   "outputs": [
    {
     "name": "stdout",
     "output_type": "stream",
     "text": [
      "36/36 [==============================] - 9s 240ms/step\n"
     ]
    }
   ],
   "source": [
    "# making prediction\n",
    "prediction = model.predict(X_test)"
   ]
  },
  {
   "cell_type": "code",
   "execution_count": 47,
   "id": "4da5e8e3",
   "metadata": {},
   "outputs": [
    {
     "data": {
      "text/plain": [
       "array([0, 0, 0, ..., 1, 1, 1])"
      ]
     },
     "execution_count": 47,
     "metadata": {},
     "output_type": "execute_result"
    }
   ],
   "source": [
    "# convert continuous prediction to integer (0 and 1)\n",
    "def normalize_prediction(prediction):\n",
    "    predictions = []\n",
    "    for predict in prediction: \n",
    "        if predict > 0.5: \n",
    "            predictions.append(1)\n",
    "        else: \n",
    "            predictions.append(0)      \n",
    "    return np.array(predictions)\n",
    "        \n",
    "    \n",
    "norm_prediction = normalize_prediction(prediction)\n",
    "norm_prediction"
   ]
  },
  {
   "cell_type": "code",
   "execution_count": 48,
   "id": "ae78972d",
   "metadata": {},
   "outputs": [
    {
     "name": "stdout",
     "output_type": "stream",
     "text": [
      "Overall Accuracy :  0.8990426457789382\n",
      "Overall Precision : 0.856637168141593\n",
      "Overall Recall :    0.9325626204238922\n",
      "Overall F1-score :  0.892988929889299\n"
     ]
    }
   ],
   "source": [
    "acc = metrics.accuracy_score(norm_prediction, y_test)\n",
    "prec = metrics.precision_score(norm_prediction, y_test)\n",
    "recall = metrics.recall_score(norm_prediction, y_test)\n",
    "f1 = metrics.f1_score(norm_prediction, y_test)\n",
    "\n",
    "print('Overall Accuracy :  {}'.format(acc))\n",
    "print('Overall Precision : {}'.format(prec))\n",
    "print('Overall Recall :    {}'.format(recall))\n",
    "print('Overall F1-score :  {}'.format(f1))"
   ]
  },
  {
   "cell_type": "code",
   "execution_count": 53,
   "id": "1d6d248f",
   "metadata": {
    "scrolled": false
   },
   "outputs": [
    {
     "name": "stdout",
     "output_type": "stream",
     "text": [
      "              precision    recall  f1-score   support\n",
      "\n",
      "           0       0.94      0.87      0.90       630\n",
      "           1       0.86      0.93      0.89       519\n",
      "\n",
      "    accuracy                           0.90      1149\n",
      "   macro avg       0.90      0.90      0.90      1149\n",
      "weighted avg       0.90      0.90      0.90      1149\n",
      "\n"
     ]
    },
    {
     "data": {
      "image/png": "[encoded data removed]",
      "text/plain": [
       "<Figure size 640x480 with 2 Axes>"
      ]
     },
     "metadata": {},
     "output_type": "display_data"
    }
   ],
   "source": [
    "# visualizing performance \n",
    "\n",
    "# classification report\n",
    "cr_report = metrics.classification_report(norm_prediction, y_test)\n",
    "\n",
    "# confusion matrix\n",
    "cf_report = metrics.confusion_matrix(norm_prediction, y_test)\n",
    "\n",
    "print(cr_report)\n",
    "\n",
    "\n",
    "# print(cr_report.ravel())\n",
    "labels = ['Fake', 'Real']\n",
    "plt.title('FAKE NEWS CONFUSION MATRIX')\n",
    "sn.heatmap(cf_report, annot=True, fmt='d', xticklabels=labels, yticklabels=labels)\n",
    "plt.xlabel('Truth')\n",
    "plt.ylabel('Prediction')\n",
    "plt.show()"
   ]
  },
  {
   "cell_type": "code",
   "execution_count": 55,
   "id": "55430ba3",
   "metadata": {
    "scrolled": true
   },
   "outputs": [
    {
     "data": {
      "text/plain": [
       "[<keras.layers.core.embedding.Embedding at 0x1567db87d60>,\n",
       " <keras.layers.rnn.lstm.LSTM at 0x1567db81610>,\n",
       " <keras.layers.rnn.lstm.LSTM at 0x1567db89910>,\n",
       " <keras.layers.core.dense.Dense at 0x156ddb60040>,\n",
       " <keras.layers.core.dense.Dense at 0x1567db85af0>]"
      ]
     },
     "execution_count": 55,
     "metadata": {},
     "output_type": "execute_result"
    }
   ],
   "source": [
    "# saving modelload_model('fake_news_w2v_lstm_model.h5')\n",
    "lstm_model = load_model('fake_news_w2v_lstm_model.h5')\n",
    "lstm_model.layers"
   ]
  },
  {
   "cell_type": "code",
   "execution_count": 56,
   "id": "ba36e4c0",
   "metadata": {},
   "outputs": [
    {
     "name": "stdout",
     "output_type": "stream",
     "text": [
      "108/108 [==============================] - 22s 193ms/step\n"
     ]
    },
    {
     "data": {
      "text/plain": [
       "array([[0.997881  ],\n",
       "       [0.97648597],\n",
       "       [0.0088865 ],\n",
       "       ...,\n",
       "       [0.9977943 ],\n",
       "       [0.01121061],\n",
       "       [0.07347751]], dtype=float32)"
      ]
     },
     "execution_count": 56,
     "metadata": {},
     "output_type": "execute_result"
    }
   ],
   "source": [
    "lstm_output = lstm_model.predict(X_train)\n",
    "lstm_output"
   ]
  },
  {
   "cell_type": "code",
   "execution_count": 58,
   "id": "e8eac4b2",
   "metadata": {},
   "outputs": [
    {
     "data": {
      "text/plain": [
       "0.9480406386066763"
      ]
     },
     "execution_count": 58,
     "metadata": {},
     "output_type": "execute_result"
    }
   ],
   "source": [
    "# logistic regression\n",
    "lr = LogisticRegression()\n",
    "lr.fit(lstm_output,y_train)\n",
    "lr.score(lstm_output, y_train)"
   ]
  },
  {
   "cell_type": "code",
   "execution_count": 59,
   "id": "7fd6732e",
   "metadata": {
    "scrolled": true
   },
   "outputs": [
    {
     "name": "stdout",
     "output_type": "stream",
     "text": [
      "36/36 [==============================] - 7s 198ms/step\n",
      "              precision    recall  f1-score   support\n",
      "\n",
      "           0       0.89      0.93      0.91       584\n",
      "           1       0.92      0.88      0.90       565\n",
      "\n",
      "    accuracy                           0.90      1149\n",
      "   macro avg       0.90      0.90      0.90      1149\n",
      "weighted avg       0.90      0.90      0.90      1149\n",
      "\n"
     ]
    }
   ],
   "source": [
    "lstm_x_test = lstm_model.predict(X_test)\n",
    "lr_prediction = lr.predict(lstm_x_test)\n",
    "report = metrics.classification_report(y_test, lr_prediction)\n",
    "print(report)"
   ]
  },
  {
   "cell_type": "code",
   "execution_count": 60,
   "id": "3a1ebfcb",
   "metadata": {},
   "outputs": [
    {
     "name": "stdout",
     "output_type": "stream",
     "text": [
      "0.9579100145137881\n",
      "36/36 [==============================] - 7s 181ms/step\n",
      "              precision    recall  f1-score   support\n",
      "\n",
      "           0       0.91      0.90      0.91       584\n",
      "           1       0.90      0.91      0.91       565\n",
      "\n",
      "    accuracy                           0.91      1149\n",
      "   macro avg       0.91      0.91      0.91      1149\n",
      "weighted avg       0.91      0.91      0.91      1149\n",
      "\n"
     ]
    }
   ],
   "source": [
    "# KNN \n",
    "knn = KNeighborsClassifier()\n",
    "knn.fit(lstm_output,y_train)\n",
    "print(knn.score(lstm_output, y_train))\n",
    "\n",
    "lstm_x_test = lstm_model.predict(X_test)\n",
    "knn_prediction = knn.predict(lstm_x_test)\n",
    "report = metrics.classification_report(y_test, knn_prediction)\n",
    "print(report)"
   ]
  },
  {
   "cell_type": "code",
   "execution_count": 64,
   "id": "9bfe5941",
   "metadata": {
    "scrolled": true
   },
   "outputs": [
    {
     "name": "stdout",
     "output_type": "stream",
     "text": [
      "36/36 [==============================] - 12s 346ms/step\n",
      "              precision    recall  f1-score   support\n",
      "\n",
      "           0       0.89      0.93      0.91       584\n",
      "           1       0.92      0.88      0.90       565\n",
      "\n",
      "    accuracy                           0.90      1149\n",
      "   macro avg       0.91      0.90      0.90      1149\n",
      "weighted avg       0.90      0.90      0.90      1149\n",
      "\n"
     ]
    }
   ],
   "source": [
    "# naive Bayes \n",
    "nb = GaussianNB()\n",
    "nb.fit(lstm_output,y_train)\n",
    "nb.score(lstm_output, y_train)\n",
    "\n",
    "lstm_x_test = lstm_model.predict(X_test)\n",
    "nb_prediction = nb.predict(lstm_x_test)\n",
    "report = metrics.classification_report(y_test, nb_prediction)\n",
    "print(report)"
   ]
  },
  {
   "cell_type": "code",
   "execution_count": 65,
   "id": "2e477e7c",
   "metadata": {
    "scrolled": true
   },
   "outputs": [
    {
     "name": "stdout",
     "output_type": "stream",
     "text": [
      "36/36 [==============================] - 12s 325ms/step\n",
      "              precision    recall  f1-score   support\n",
      "\n",
      "           0       0.91      0.91      0.91       584\n",
      "           1       0.91      0.90      0.91       565\n",
      "\n",
      "    accuracy                           0.91      1149\n",
      "   macro avg       0.91      0.91      0.91      1149\n",
      "weighted avg       0.91      0.91      0.91      1149\n",
      "\n"
     ]
    }
   ],
   "source": [
    "# support vector machine \n",
    "svm = SVC()\n",
    "svm.fit(lstm_output,y_train)\n",
    "svm.score(lstm_output, y_train)\n",
    "\n",
    "lstm_x_test = lstm_model.predict(X_test)\n",
    "svm_prediction = svm.predict(lstm_x_test)\n",
    "report = metrics.classification_report(y_test, svm_prediction)\n",
    "print(report)"
   ]
  },
  {
   "cell_type": "code",
   "execution_count": 67,
   "id": "b77f7947",
   "metadata": {},
   "outputs": [
    {
     "name": "stdout",
     "output_type": "stream",
     "text": [
      "36/36 [==============================] - 13s 373ms/step\n",
      "              precision    recall  f1-score   support\n",
      "\n",
      "           0       0.89      0.87      0.88       584\n",
      "           1       0.87      0.89      0.88       565\n",
      "\n",
      "    accuracy                           0.88      1149\n",
      "   macro avg       0.88      0.88      0.88      1149\n",
      "weighted avg       0.88      0.88      0.88      1149\n",
      "\n"
     ]
    }
   ],
   "source": [
    "# naive Bayes \n",
    "dt = DecisionTreeClassifier()\n",
    "dt.fit(lstm_output,y_train)\n",
    "dt.score(lstm_output, y_train)\n",
    "\n",
    "lstm_x_test = lstm_model.predict(X_test)\n",
    "dt_prediction = dt.predict(lstm_x_test)\n",
    "report = metrics.classification_report(y_test, dt_prediction)\n",
    "print(report)"
   ]
  }
 ],
 "metadata": {
  "kernelspec": {
   "display_name": "Python 3 (ipykernel)",
   "language": "python",
   "name": "python3"
  },
  "language_info": {
   "codemirror_mode": {
    "name": "ipython",
    "version": 3
   },
   "file_extension": ".py",
   "mimetype": "text/x-python",
   "name": "python",
   "nbconvert_exporter": "python",
   "pygments_lexer": "ipython3",
   "version": "3.9.5"
  }
 },
 "nbformat": 4,
 "nbformat_minor": 5
}
