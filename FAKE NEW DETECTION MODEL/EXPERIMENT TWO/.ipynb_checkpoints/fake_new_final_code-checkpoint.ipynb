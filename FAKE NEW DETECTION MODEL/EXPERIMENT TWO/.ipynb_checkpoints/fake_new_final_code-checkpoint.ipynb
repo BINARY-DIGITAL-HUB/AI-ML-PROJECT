{
 "cells": [
  {
   "cell_type": "markdown",
   "id": "f113b2fe",
   "metadata": {},
   "source": [
    "IMPORTING NECCESSARY MODULE"
   ]
  },
  {
   "cell_type": "code",
   "execution_count": 1,
   "id": "b8bce9fa",
   "metadata": {
    "tags": []
   },
   "outputs": [],
   "source": [
    "import pandas as pd\n",
    "from matplotlib import style\n",
    "import matplotlib.pyplot as plt\n",
    "import wordcloud\n",
    "from nltk.tokenize import word_tokenize, sent_tokenize\n",
    "from nltk.corpus import stopwords\n",
    "# deep leanring transformation \n",
    "import tensorflow as tf\n",
    "from tensorflow.keras.preprocessing.text import Tokenizer\n",
    "from tensorflow.keras.preprocessing.sequence import pad_sequences\n",
    "from sklearn.model_selection import train_test_split\n",
    "# visualizaing various performance score \n",
    "from sklearn import metrics\n",
    "import seaborn as sn\n",
    "from sklearn.feature_extraction.text import TfidfVectorizer, CountVectorizer\n",
    "from sklearn.svm import SVC\n",
    "from sklearn import naive_bayes \n",
    "from sklearn import ensemble\n",
    "from sklearn import metrics\n",
    "import numpy as np "
   ]
  },
  {
   "cell_type": "markdown",
   "id": "34156486",
   "metadata": {},
   "source": [
    "# Laod Dataset"
   ]
  },
  {
   "cell_type": "markdown",
   "id": "d6423b30",
   "metadata": {},
   "source": [
    "### dataset link\n",
    "https://github.com/GeorgeMcIntire/fake_real_news_dataset"
   ]
  },
  {
   "cell_type": "markdown",
   "id": "652584e3",
   "metadata": {},
   "source": [
    "LOADING FAKE NEWS DATASET"
   ]
  },
  {
   "cell_type": "code",
   "execution_count": 5,
   "id": "786f4044",
   "metadata": {
    "collapsed": true,
    "jupyter": {
     "outputs_hidden": true
    },
    "tags": []
   },
   "outputs": [
    {
     "data": {
      "text/html": [
       "<div>\n",
       "<style scoped>\n",
       "    .dataframe tbody tr th:only-of-type {\n",
       "        vertical-align: middle;\n",
       "    }\n",
       "\n",
       "    .dataframe tbody tr th {\n",
       "        vertical-align: top;\n",
       "    }\n",
       "\n",
       "    .dataframe thead th {\n",
       "        text-align: right;\n",
       "    }\n",
       "</style>\n",
       "<table border=\"1\" class=\"dataframe\">\n",
       "  <thead>\n",
       "    <tr style=\"text-align: right;\">\n",
       "      <th></th>\n",
       "      <th>idd</th>\n",
       "      <th>title</th>\n",
       "      <th>text</th>\n",
       "      <th>label</th>\n",
       "    </tr>\n",
       "  </thead>\n",
       "  <tbody>\n",
       "    <tr>\n",
       "      <th>0</th>\n",
       "      <td>Fq+C96tcx+</td>\n",
       "      <td>‘A target on Roe v. Wade ’: Oklahoma bill maki...</td>\n",
       "      <td>UPDATE: Gov. Fallin vetoed the bill on Friday....</td>\n",
       "      <td>REAL</td>\n",
       "    </tr>\n",
       "    <tr>\n",
       "      <th>1</th>\n",
       "      <td>bHUqK!pgmv</td>\n",
       "      <td>Study: women had to drive 4 times farther afte...</td>\n",
       "      <td>Ever since Texas laws closed about half of the...</td>\n",
       "      <td>REAL</td>\n",
       "    </tr>\n",
       "    <tr>\n",
       "      <th>2</th>\n",
       "      <td>4Y4Ubf%aTi</td>\n",
       "      <td>Trump, Clinton clash in dueling DC speeches</td>\n",
       "      <td>Donald Trump and Hillary Clinton, now at the s...</td>\n",
       "      <td>REAL</td>\n",
       "    </tr>\n",
       "    <tr>\n",
       "      <th>3</th>\n",
       "      <td>_CoY89SJ@K</td>\n",
       "      <td>Grand jury in Texas indicts activists behind P...</td>\n",
       "      <td>A Houston grand jury investigating criminal al...</td>\n",
       "      <td>REAL</td>\n",
       "    </tr>\n",
       "    <tr>\n",
       "      <th>4</th>\n",
       "      <td>+rJHoRQVLe</td>\n",
       "      <td>As Reproductive Rights Hang In The Balance, De...</td>\n",
       "      <td>WASHINGTON -- Forty-three years after the Supr...</td>\n",
       "      <td>REAL</td>\n",
       "    </tr>\n",
       "  </tbody>\n",
       "</table>\n",
       "</div>"
      ],
      "text/plain": [
       "          idd                                              title  \\\n",
       "0  Fq+C96tcx+  ‘A target on Roe v. Wade ’: Oklahoma bill maki...   \n",
       "1  bHUqK!pgmv  Study: women had to drive 4 times farther afte...   \n",
       "2  4Y4Ubf%aTi        Trump, Clinton clash in dueling DC speeches   \n",
       "3  _CoY89SJ@K  Grand jury in Texas indicts activists behind P...   \n",
       "4  +rJHoRQVLe  As Reproductive Rights Hang In The Balance, De...   \n",
       "\n",
       "                                                text label  \n",
       "0  UPDATE: Gov. Fallin vetoed the bill on Friday....  REAL  \n",
       "1  Ever since Texas laws closed about half of the...  REAL  \n",
       "2  Donald Trump and Hillary Clinton, now at the s...  REAL  \n",
       "3  A Houston grand jury investigating criminal al...  REAL  \n",
       "4  WASHINGTON -- Forty-three years after the Supr...  REAL  "
      ]
     },
     "execution_count": 5,
     "metadata": {},
     "output_type": "execute_result"
    }
   ],
   "source": [
    "fake_df = pd.read_csv('fake_and_real_news_dataset.csv')\n",
    "fake_df.head()"
   ]
  },
  {
   "cell_type": "code",
   "execution_count": 6,
   "id": "2595ed35",
   "metadata": {},
   "outputs": [
    {
     "data": {
      "text/plain": [
       "(4594, 4)"
      ]
     },
     "execution_count": 6,
     "metadata": {},
     "output_type": "execute_result"
    }
   ],
   "source": [
    "fake_df.shape"
   ]
  },
  {
   "cell_type": "markdown",
   "id": "a90de2fd",
   "metadata": {},
   "source": [
    "CREATING TARGET VARIABLE FOR FAKE & REAL NEWS DATASET"
   ]
  },
  {
   "cell_type": "code",
   "execution_count": 8,
   "id": "5792b35e",
   "metadata": {
    "tags": []
   },
   "outputs": [
    {
     "data": {
      "text/html": [
       "<div>\n",
       "<style scoped>\n",
       "    .dataframe tbody tr th:only-of-type {\n",
       "        vertical-align: middle;\n",
       "    }\n",
       "\n",
       "    .dataframe tbody tr th {\n",
       "        vertical-align: top;\n",
       "    }\n",
       "\n",
       "    .dataframe thead th {\n",
       "        text-align: right;\n",
       "    }\n",
       "</style>\n",
       "<table border=\"1\" class=\"dataframe\">\n",
       "  <thead>\n",
       "    <tr style=\"text-align: right;\">\n",
       "      <th></th>\n",
       "      <th>idd</th>\n",
       "      <th>title</th>\n",
       "      <th>text</th>\n",
       "      <th>label</th>\n",
       "    </tr>\n",
       "  </thead>\n",
       "  <tbody>\n",
       "    <tr>\n",
       "      <th>0</th>\n",
       "      <td>Fq+C96tcx+</td>\n",
       "      <td>‘A target on Roe v. Wade ’: Oklahoma bill maki...</td>\n",
       "      <td>UPDATE: Gov. Fallin vetoed the bill on Friday....</td>\n",
       "      <td>REAL</td>\n",
       "    </tr>\n",
       "    <tr>\n",
       "      <th>1</th>\n",
       "      <td>bHUqK!pgmv</td>\n",
       "      <td>Study: women had to drive 4 times farther afte...</td>\n",
       "      <td>Ever since Texas laws closed about half of the...</td>\n",
       "      <td>REAL</td>\n",
       "    </tr>\n",
       "    <tr>\n",
       "      <th>2</th>\n",
       "      <td>4Y4Ubf%aTi</td>\n",
       "      <td>Trump, Clinton clash in dueling DC speeches</td>\n",
       "      <td>Donald Trump and Hillary Clinton, now at the s...</td>\n",
       "      <td>REAL</td>\n",
       "    </tr>\n",
       "    <tr>\n",
       "      <th>3</th>\n",
       "      <td>_CoY89SJ@K</td>\n",
       "      <td>Grand jury in Texas indicts activists behind P...</td>\n",
       "      <td>A Houston grand jury investigating criminal al...</td>\n",
       "      <td>REAL</td>\n",
       "    </tr>\n",
       "    <tr>\n",
       "      <th>4</th>\n",
       "      <td>+rJHoRQVLe</td>\n",
       "      <td>As Reproductive Rights Hang In The Balance, De...</td>\n",
       "      <td>WASHINGTON -- Forty-three years after the Supr...</td>\n",
       "      <td>REAL</td>\n",
       "    </tr>\n",
       "  </tbody>\n",
       "</table>\n",
       "</div>"
      ],
      "text/plain": [
       "          idd                                              title  \\\n",
       "0  Fq+C96tcx+  ‘A target on Roe v. Wade ’: Oklahoma bill maki...   \n",
       "1  bHUqK!pgmv  Study: women had to drive 4 times farther afte...   \n",
       "2  4Y4Ubf%aTi        Trump, Clinton clash in dueling DC speeches   \n",
       "3  _CoY89SJ@K  Grand jury in Texas indicts activists behind P...   \n",
       "4  +rJHoRQVLe  As Reproductive Rights Hang In The Balance, De...   \n",
       "\n",
       "                                                text label  \n",
       "0  UPDATE: Gov. Fallin vetoed the bill on Friday....  REAL  \n",
       "1  Ever since Texas laws closed about half of the...  REAL  \n",
       "2  Donald Trump and Hillary Clinton, now at the s...  REAL  \n",
       "3  A Houston grand jury investigating criminal al...  REAL  \n",
       "4  WASHINGTON -- Forty-three years after the Supr...  REAL  "
      ]
     },
     "execution_count": 8,
     "metadata": {},
     "output_type": "execute_result"
    }
   ],
   "source": [
    "# data = pd.concat([fake_df, real_df], ignore_index=True, sort=True)\n",
    "data = pd.read_csv('fake_and_real_news_dataset.csv')\n",
    "data.head()"
   ]
  },
  {
   "cell_type": "code",
   "execution_count": 9,
   "id": "6bed18ab",
   "metadata": {
    "scrolled": true,
    "tags": []
   },
   "outputs": [
    {
     "data": {
      "text/plain": [
       "(4594, 4)"
      ]
     },
     "execution_count": 9,
     "metadata": {},
     "output_type": "execute_result"
    }
   ],
   "source": [
    "data.shape"
   ]
  },
  {
   "cell_type": "code",
   "execution_count": 10,
   "id": "8d431243",
   "metadata": {
    "tags": []
   },
   "outputs": [
    {
     "data": {
      "text/plain": [
       "'Row 4594 : & Col: 4'"
      ]
     },
     "execution_count": 10,
     "metadata": {},
     "output_type": "execute_result"
    }
   ],
   "source": [
    "# dataset shape \n",
    "row , col = data.shape\n",
    "\"Row {} : & Col: {}\".format(row, col)"
   ]
  },
  {
   "cell_type": "code",
   "execution_count": 18,
   "id": "567ceff0",
   "metadata": {},
   "outputs": [],
   "source": [
    "# data.label.value_counts().plot(kind='bar')"
   ]
  },
  {
   "cell_type": "markdown",
   "id": "b8da0779",
   "metadata": {},
   "source": [
    "# Exploring Dataset"
   ]
  },
  {
   "cell_type": "code",
   "execution_count": 8,
   "id": "857a3746",
   "metadata": {
    "scrolled": true,
    "tags": []
   },
   "outputs": [
    {
     "data": {
      "text/html": [
       "<div>\n",
       "<style scoped>\n",
       "    .dataframe tbody tr th:only-of-type {\n",
       "        vertical-align: middle;\n",
       "    }\n",
       "\n",
       "    .dataframe tbody tr th {\n",
       "        vertical-align: top;\n",
       "    }\n",
       "\n",
       "    .dataframe thead th {\n",
       "        text-align: right;\n",
       "    }\n",
       "</style>\n",
       "<table border=\"1\" class=\"dataframe\">\n",
       "  <thead>\n",
       "    <tr style=\"text-align: right;\">\n",
       "      <th></th>\n",
       "      <th>idd</th>\n",
       "      <th>title</th>\n",
       "      <th>text</th>\n",
       "      <th>label</th>\n",
       "    </tr>\n",
       "  </thead>\n",
       "  <tbody>\n",
       "    <tr>\n",
       "      <th>0</th>\n",
       "      <td>Fq+C96tcx+</td>\n",
       "      <td>‘A target on Roe v. Wade ’: Oklahoma bill maki...</td>\n",
       "      <td>UPDATE: Gov. Fallin vetoed the bill on Friday....</td>\n",
       "      <td>REAL</td>\n",
       "    </tr>\n",
       "    <tr>\n",
       "      <th>1</th>\n",
       "      <td>bHUqK!pgmv</td>\n",
       "      <td>Study: women had to drive 4 times farther afte...</td>\n",
       "      <td>Ever since Texas laws closed about half of the...</td>\n",
       "      <td>REAL</td>\n",
       "    </tr>\n",
       "    <tr>\n",
       "      <th>2</th>\n",
       "      <td>4Y4Ubf%aTi</td>\n",
       "      <td>Trump, Clinton clash in dueling DC speeches</td>\n",
       "      <td>Donald Trump and Hillary Clinton, now at the s...</td>\n",
       "      <td>REAL</td>\n",
       "    </tr>\n",
       "    <tr>\n",
       "      <th>3</th>\n",
       "      <td>_CoY89SJ@K</td>\n",
       "      <td>Grand jury in Texas indicts activists behind P...</td>\n",
       "      <td>A Houston grand jury investigating criminal al...</td>\n",
       "      <td>REAL</td>\n",
       "    </tr>\n",
       "    <tr>\n",
       "      <th>4</th>\n",
       "      <td>+rJHoRQVLe</td>\n",
       "      <td>As Reproductive Rights Hang In The Balance, De...</td>\n",
       "      <td>WASHINGTON -- Forty-three years after the Supr...</td>\n",
       "      <td>REAL</td>\n",
       "    </tr>\n",
       "  </tbody>\n",
       "</table>\n",
       "</div>"
      ],
      "text/plain": [
       "          idd                                              title  \\\n",
       "0  Fq+C96tcx+  ‘A target on Roe v. Wade ’: Oklahoma bill maki...   \n",
       "1  bHUqK!pgmv  Study: women had to drive 4 times farther afte...   \n",
       "2  4Y4Ubf%aTi        Trump, Clinton clash in dueling DC speeches   \n",
       "3  _CoY89SJ@K  Grand jury in Texas indicts activists behind P...   \n",
       "4  +rJHoRQVLe  As Reproductive Rights Hang In The Balance, De...   \n",
       "\n",
       "                                                text label  \n",
       "0  UPDATE: Gov. Fallin vetoed the bill on Friday....  REAL  \n",
       "1  Ever since Texas laws closed about half of the...  REAL  \n",
       "2  Donald Trump and Hillary Clinton, now at the s...  REAL  \n",
       "3  A Houston grand jury investigating criminal al...  REAL  \n",
       "4  WASHINGTON -- Forty-three years after the Supr...  REAL  "
      ]
     },
     "execution_count": 8,
     "metadata": {},
     "output_type": "execute_result"
    }
   ],
   "source": [
    "data.head(5)"
   ]
  },
  {
   "cell_type": "code",
   "execution_count": 9,
   "id": "7218ad30",
   "metadata": {
    "tags": []
   },
   "outputs": [
    {
     "data": {
      "text/html": [
       "<div>\n",
       "<style scoped>\n",
       "    .dataframe tbody tr th:only-of-type {\n",
       "        vertical-align: middle;\n",
       "    }\n",
       "\n",
       "    .dataframe tbody tr th {\n",
       "        vertical-align: top;\n",
       "    }\n",
       "\n",
       "    .dataframe thead th {\n",
       "        text-align: right;\n",
       "    }\n",
       "</style>\n",
       "<table border=\"1\" class=\"dataframe\">\n",
       "  <thead>\n",
       "    <tr style=\"text-align: right;\">\n",
       "      <th></th>\n",
       "      <th>idd</th>\n",
       "      <th>title</th>\n",
       "      <th>text</th>\n",
       "      <th>label</th>\n",
       "    </tr>\n",
       "  </thead>\n",
       "  <tbody>\n",
       "    <tr>\n",
       "      <th>4589</th>\n",
       "      <td>ukZm6JTO#x</td>\n",
       "      <td>Russia Calls the War Party's Bluff</td>\n",
       "      <td>License DMCA \\r\\nCold War 2.0 has reached unpr...</td>\n",
       "      <td>FAKE</td>\n",
       "    </tr>\n",
       "    <tr>\n",
       "      <th>4590</th>\n",
       "      <td>yu0xKEiapJ</td>\n",
       "      <td>Bernie Sanders: The Democratic primary gave me...</td>\n",
       "      <td>Print \\r\\nSen. Bernie Sanders laid out the way...</td>\n",
       "      <td>FAKE</td>\n",
       "    </tr>\n",
       "    <tr>\n",
       "      <th>4591</th>\n",
       "      <td>c4Y370E_9c</td>\n",
       "      <td>Pipeline Police Strip Search Native Girl, Then...</td>\n",
       "      <td>As the pressure to start construction on the D...</td>\n",
       "      <td>FAKE</td>\n",
       "    </tr>\n",
       "    <tr>\n",
       "      <th>4592</th>\n",
       "      <td>bBbeuCUeMH</td>\n",
       "      <td>Currency Crisis: Alasdair MacLeod On The Vexed...</td>\n",
       "      <td>Tweet Home » Gold » Gold News » Currency Crisi...</td>\n",
       "      <td>FAKE</td>\n",
       "    </tr>\n",
       "    <tr>\n",
       "      <th>4593</th>\n",
       "      <td>vE44sWBnd9</td>\n",
       "      <td>Paper Tiger ISIS Digs Into Mosul</td>\n",
       "      <td>Written by Eric Margolis   As a former soldier...</td>\n",
       "      <td>FAKE</td>\n",
       "    </tr>\n",
       "  </tbody>\n",
       "</table>\n",
       "</div>"
      ],
      "text/plain": [
       "             idd                                              title  \\\n",
       "4589  ukZm6JTO#x                 Russia Calls the War Party's Bluff   \n",
       "4590  yu0xKEiapJ  Bernie Sanders: The Democratic primary gave me...   \n",
       "4591  c4Y370E_9c  Pipeline Police Strip Search Native Girl, Then...   \n",
       "4592  bBbeuCUeMH  Currency Crisis: Alasdair MacLeod On The Vexed...   \n",
       "4593  vE44sWBnd9                   Paper Tiger ISIS Digs Into Mosul   \n",
       "\n",
       "                                                   text label  \n",
       "4589  License DMCA \\r\\nCold War 2.0 has reached unpr...  FAKE  \n",
       "4590  Print \\r\\nSen. Bernie Sanders laid out the way...  FAKE  \n",
       "4591  As the pressure to start construction on the D...  FAKE  \n",
       "4592  Tweet Home » Gold » Gold News » Currency Crisi...  FAKE  \n",
       "4593  Written by Eric Margolis   As a former soldier...  FAKE  "
      ]
     },
     "execution_count": 9,
     "metadata": {},
     "output_type": "execute_result"
    }
   ],
   "source": [
    "data.tail()"
   ]
  },
  {
   "cell_type": "code",
   "execution_count": 10,
   "id": "c36ca38f",
   "metadata": {
    "tags": []
   },
   "outputs": [
    {
     "data": {
      "text/html": [
       "<div>\n",
       "<style scoped>\n",
       "    .dataframe tbody tr th:only-of-type {\n",
       "        vertical-align: middle;\n",
       "    }\n",
       "\n",
       "    .dataframe tbody tr th {\n",
       "        vertical-align: top;\n",
       "    }\n",
       "\n",
       "    .dataframe thead th {\n",
       "        text-align: right;\n",
       "    }\n",
       "</style>\n",
       "<table border=\"1\" class=\"dataframe\">\n",
       "  <thead>\n",
       "    <tr style=\"text-align: right;\">\n",
       "      <th></th>\n",
       "      <th>idd</th>\n",
       "      <th>title</th>\n",
       "      <th>text</th>\n",
       "      <th>label</th>\n",
       "    </tr>\n",
       "  </thead>\n",
       "  <tbody>\n",
       "    <tr>\n",
       "      <th>576</th>\n",
       "      <td>OV$B&amp;Sjaek</td>\n",
       "      <td>Sanders has gotten nastier. Does it help expla...</td>\n",
       "      <td>When Bernie San­ders launched his long-shot bi...</td>\n",
       "      <td>REAL</td>\n",
       "    </tr>\n",
       "    <tr>\n",
       "      <th>2959</th>\n",
       "      <td>d1odOU#VMo</td>\n",
       "      <td>Tancredo: Hillary Clinton Should Step Down to ...</td>\n",
       "      <td>Breitbart – by Tom Tancredo \\r\\nThe announceme...</td>\n",
       "      <td>FAKE</td>\n",
       "    </tr>\n",
       "    <tr>\n",
       "      <th>527</th>\n",
       "      <td>!7%D_!!Z(+</td>\n",
       "      <td>Rubio shifts tactics; Trump sticks to themes, ...</td>\n",
       "      <td>Marco Rubio, needing a breakout performance go...</td>\n",
       "      <td>REAL</td>\n",
       "    </tr>\n",
       "    <tr>\n",
       "      <th>2849</th>\n",
       "      <td>lk%hGoYGL)</td>\n",
       "      <td>Embargo on Cuba is an Embarrassment for the Un...</td>\n",
       "      <td>Email \\r\\nThe United States’ abstention on a r...</td>\n",
       "      <td>FAKE</td>\n",
       "    </tr>\n",
       "    <tr>\n",
       "      <th>1515</th>\n",
       "      <td>W9nla*PV)*</td>\n",
       "      <td>Despite Black Lives Matter, young black Americ...</td>\n",
       "      <td>The generation of African Americans pushing cr...</td>\n",
       "      <td>REAL</td>\n",
       "    </tr>\n",
       "  </tbody>\n",
       "</table>\n",
       "</div>"
      ],
      "text/plain": [
       "             idd                                              title  \\\n",
       "576   OV$B&Sjaek  Sanders has gotten nastier. Does it help expla...   \n",
       "2959  d1odOU#VMo  Tancredo: Hillary Clinton Should Step Down to ...   \n",
       "527   !7%D_!!Z(+  Rubio shifts tactics; Trump sticks to themes, ...   \n",
       "2849  lk%hGoYGL)  Embargo on Cuba is an Embarrassment for the Un...   \n",
       "1515  W9nla*PV)*  Despite Black Lives Matter, young black Americ...   \n",
       "\n",
       "                                                   text label  \n",
       "576   When Bernie San­ders launched his long-shot bi...  REAL  \n",
       "2959  Breitbart – by Tom Tancredo \\r\\nThe announceme...  FAKE  \n",
       "527   Marco Rubio, needing a breakout performance go...  REAL  \n",
       "2849  Email \\r\\nThe United States’ abstention on a r...  FAKE  \n",
       "1515  The generation of African Americans pushing cr...  REAL  "
      ]
     },
     "execution_count": 10,
     "metadata": {},
     "output_type": "execute_result"
    }
   ],
   "source": [
    "data.sample(5)"
   ]
  },
  {
   "cell_type": "markdown",
   "id": "8450ec7b",
   "metadata": {},
   "source": [
    "SHOW NUMBER OF ROWS AND COLUMN"
   ]
  },
  {
   "cell_type": "code",
   "execution_count": 12,
   "id": "57158a1d",
   "metadata": {
    "tags": []
   },
   "outputs": [
    {
     "data": {
      "text/plain": [
       "'Row 4594 : & Col: 4'"
      ]
     },
     "execution_count": 12,
     "metadata": {},
     "output_type": "execute_result"
    }
   ],
   "source": [
    "# dataset shape \n",
    "row , col = data.shape\n",
    "\"Row {} : & Col: {}\".format(row, col)"
   ]
  },
  {
   "cell_type": "code",
   "execution_count": 19,
   "id": "9254f3c8",
   "metadata": {},
   "outputs": [
    {
     "data": {
      "text/plain": [
       "Index(['idd', 'title', 'text', 'label'], dtype='object')"
      ]
     },
     "execution_count": 19,
     "metadata": {},
     "output_type": "execute_result"
    }
   ],
   "source": [
    "data.columns"
   ]
  },
  {
   "cell_type": "code",
   "execution_count": 13,
   "id": "07b7b56b",
   "metadata": {
    "tags": []
   },
   "outputs": [
    {
     "data": {
      "image/png": "[encoded data removed]",
      "text/plain": [
       "<Figure size 400x400 with 1 Axes>"
      ]
     },
     "metadata": {},
     "output_type": "display_data"
    }
   ],
   "source": [
    "data.label.value_counts().plot(kind='bar', color=['green', 'orange'], figsize=(4,4))\n",
    "plt.xlabel('TARGET')\n",
    "plt.ylabel('VALUE COUNT')\n",
    "plt.grid(True)\n",
    "plt.title('DATA POINT COUNT')\n",
    "plt.show()"
   ]
  },
  {
   "cell_type": "code",
   "execution_count": 14,
   "id": "42349aa3",
   "metadata": {
    "tags": []
   },
   "outputs": [
    {
     "data": {
      "image/png": "[encoded data removed]",
      "text/plain": [
       "<Figure size 400x400 with 1 Axes>"
      ]
     },
     "metadata": {},
     "output_type": "display_data"
    }
   ],
   "source": [
    "data.label.value_counts().plot(kind='pie' , figsize=(4,4), autopct='%.2f' ,  labels=['Fake', 'Real'])\n",
    "plt.xlabel('TARGET')\n",
    "plt.ylabel('VALUE COUNT')\n",
    "plt.grid(True)\n",
    "plt.title('DATA POINT COUNT')\n",
    "plt.show()"
   ]
  },
  {
   "cell_type": "code",
   "execution_count": 22,
   "id": "7d56c66c",
   "metadata": {
    "tags": []
   },
   "outputs": [
    {
     "data": {
      "text/html": [
       "<div>\n",
       "<style scoped>\n",
       "    .dataframe tbody tr th:only-of-type {\n",
       "        vertical-align: middle;\n",
       "    }\n",
       "\n",
       "    .dataframe tbody tr th {\n",
       "        vertical-align: top;\n",
       "    }\n",
       "\n",
       "    .dataframe thead th {\n",
       "        text-align: right;\n",
       "    }\n",
       "</style>\n",
       "<table border=\"1\" class=\"dataframe\">\n",
       "  <thead>\n",
       "    <tr style=\"text-align: right;\">\n",
       "      <th></th>\n",
       "      <th>text</th>\n",
       "      <th>label</th>\n",
       "    </tr>\n",
       "  </thead>\n",
       "  <tbody>\n",
       "    <tr>\n",
       "      <th>0</th>\n",
       "      <td>‘A target on Roe v. Wade ’: Oklahoma bill maki...</td>\n",
       "      <td>REAL</td>\n",
       "    </tr>\n",
       "    <tr>\n",
       "      <th>1</th>\n",
       "      <td>Study: women had to drive 4 times farther afte...</td>\n",
       "      <td>REAL</td>\n",
       "    </tr>\n",
       "    <tr>\n",
       "      <th>2</th>\n",
       "      <td>Trump, Clinton clash in dueling DC speeches Do...</td>\n",
       "      <td>REAL</td>\n",
       "    </tr>\n",
       "    <tr>\n",
       "      <th>3</th>\n",
       "      <td>Grand jury in Texas indicts activists behind P...</td>\n",
       "      <td>REAL</td>\n",
       "    </tr>\n",
       "    <tr>\n",
       "      <th>4</th>\n",
       "      <td>As Reproductive Rights Hang In The Balance, De...</td>\n",
       "      <td>REAL</td>\n",
       "    </tr>\n",
       "  </tbody>\n",
       "</table>\n",
       "</div>"
      ],
      "text/plain": [
       "                                                text label\n",
       "0  ‘A target on Roe v. Wade ’: Oklahoma bill maki...  REAL\n",
       "1  Study: women had to drive 4 times farther afte...  REAL\n",
       "2  Trump, Clinton clash in dueling DC speeches Do...  REAL\n",
       "3  Grand jury in Texas indicts activists behind P...  REAL\n",
       "4  As Reproductive Rights Hang In The Balance, De...  REAL"
      ]
     },
     "execution_count": 22,
     "metadata": {},
     "output_type": "execute_result"
    }
   ],
   "source": [
    "data['text']=  data['title'] + \" \" + data['text']\n",
    "del data['idd']\n",
    "del data['title']\n",
    "data.head()"
   ]
  },
  {
   "cell_type": "code",
   "execution_count": 21,
   "id": "af3d452c",
   "metadata": {
    "scrolled": true,
    "tags": []
   },
   "outputs": [
    {
     "data": {
      "text/plain": [
       "'UPDATE: Gov. Fallin vetoed the bill on Friday. Head here for more.\\r\\n\\r\\nLawmakers in Oklahoma approved a bill Thursday that would make performing abortions a felony and revoke\\xa0the medical licenses of most\\xa0physicians who assist in such procedures.\\r\\n\\r\\nThis sweeping measure, which opponents described as unconstitutional and unprecedented, now heads to\\xa0Gov. Mary Fallin (R). She\\xa0will have five days — not including Sunday — to decide whether to sign the bill, veto it or allow it to become law without her signature,\\xa0according to a spokesman.\\r\\n\\r\\n“The governor will withhold comment on that bill, as she does on most bills, until she and her staff have had a chance to review it,” Michael McNutt, a spokesman for Fallin, said in an email.\\r\\n\\r\\nThe Oklahoma bill is the first such measure of its kind, according to the Center for Reproductive Rights, which says that other states seeking to ban abortion have simply banned the procedure rather than attaching penalties like this.\\r\\n\\r\\nAccording to the measure, known as\\xa0SB1552, a person\\xa0who performs or induces an abortion will be guilty of a felony and punished with between one and three years in the state penitentiary.\\r\\n\\r\\nThis legislation also says that any physician who participates in an abortion — deemed “unprofessional conduct” in the bill — will be “prohibited from obtaining or renewing a license to practice medicine in this state.” However, medical licenses will not be stripped from doctors who perform abortions deemed necessary to save the mother’s life.\\r\\n\\r\\n[Yes, hospitals perform abortions. This D.C. doctor says her hospital won’t let her talk about it]\\r\\n\\r\\nThe bill passed the Oklahoma House of Representatives with a vote of 59-to-9 last month. On Thursday, the state’s senate passed it with a vote of 33-to-12.\\r\\n\\r\\n“Since I believe life begins at conception, it should be protected, and I believe it’s a core function of state government to defend that life from the beginning of conception,”\\xa0State Sen.\\xa0Nathan Dahm, a Republican who represents\\xa0Tulsa County, told the Associated Press.\\r\\n\\r\\nDahm said he hopes the Oklahoma measure could eventually lead to the overturning of Roe v. Wade, the 1973 Supreme Court decision that recognized a woman’s right to an abortion. Dahm did not respond to messages seeking comment Thursday and Friday.\\r\\n\\r\\nDawn Laguens, executive vice president of Planned Parenthood Federation of America, \\xa0said last month that the Oklahoma bill is “a ban on abortion, plain and simple.” The legislation\\xa0sent to Fallin on Thursday “is reckless and dangerous,” according to Ilyse Hogue, president of NARAL Pro-Choice America.\\r\\n\\r\\n“This bill puts doctors in the cross hairs for providing women with the option of exercising our fundamental right to decide how and when to start a family,” Hogue said in a statement. “And it creates penalties for doctors doing their jobs: performing a safe and legal medical procedure.”\\r\\n\\r\\nLiberty Counsel, a\\xa0group that rose to national prominence last year\\xa0defending the\\xa0Kentucky clerk who refused to sign same-sex marriage licenses, said Friday that it had helped support the legislation in Oklahoma.\\xa0The organization also vowed to defend it in court.\\r\\n\\r\\n“This particular bill puts a target on Roe v. Wade,” Mat Staver, the group’s founder and chairman, said in an interview Friday. “It is Oklahoma’s line in the sand on the sanctity of human life, as standing on the side of protecting innocent children.”\\r\\n\\r\\nStaver said that his group met with Oklahoma lawmakers before the legislation was filed, offering legal analysis after discussions had begun in the state about proposing such a measure.\\r\\n\\r\\nThe Oklahoma bill is “the first of its kind,” Staver said, though he said it was possible other states may follow Oklahoma’s lead.\\r\\n\\r\\n“This is a bolt step in the right direction, in my view,” Staver said. “It will be challenged and we’re prepared to defend it.”\\r\\n\\r\\n[Oklahoma isn’t the only state taking big steps to limit abortions]\\r\\n\\r\\nThe Oklahoma State Medical Association, which has called the measure “troubling,” has said it would not take a position on the legality of abortion as long as the practice remains legal. However, the group said it was opposed to “legislation that is designed to intimidate physicians or override their medical judgment.”\\r\\n\\r\\nOn Thursday, the group reiterated that opposition, calling it “one more insulting slap in the face of our state’s medical providers” and urging\\xa0Fallin to veto the legislation.\\r\\n\\r\\n“We are extremely disappointed in today’s vote,” Sherri Baker, president of the medical association, said in a statement Thursday. “It is simply unconscionable that, at a time when our state already faces a severe physician shortage, the senate would waste its time on a bill that is patently unconstitutional and whose only purposes are to score political points and intimidate physicians across this state.”\\r\\n\\r\\nWhen the measure was debated in the state’s House of Representatives, a legislator who\\xa0ultimately voted\\xa0against the bill pointed to the group’s opposition\\xa0and voiced\\xa0concerns that the law could lead to doctors abandoning Oklahoma. But one of the bill’s co-sponsors said he did not think it would have an impact.\\r\\n\\r\\nSince taking office in 2011, Fallin has signed more than a dozen bills restricting\\xa0access to reproductive health care, the\\xa0Center for Reproductive Rights, a nonprofit legal group, said Thursday.\\r\\n\\r\\nThe new bill “is blatantly unconstitutional and, if it takes effect, it will be the most extreme abortion law in this country” since the Roe v. Wade decision, Amanda Allen, senior state legislative counsel at the center, wrote in\\xa0a letter\\xa0to Fallin on Thursday.\\r\\n\\r\\nAllen said her group was urging\\xa0Fallin to veto the legislation, which she said was part of a larger pattern of lawmakers in the state chipping away at abortion rights.\\r\\n\\r\\n“Policymakers in Oklahoma should focus on advancing policies that will truly promote women’s health and safety, not abortion restrictions that do just the opposite,” Allen wrote. “Anti-choice politicians in the state have methodically restricted access to abortion and neglected to advance policies that truly address the challenges women and families face every day.”\\r\\n\\r\\nAllen\\xa0also said that the bill would “almost certainly lead to expensive court challenges that the state of Oklahoma simply cannot defend in light of longstanding Supreme Court precedent.”\\r\\n\\r\\nFallin has until next week to make a decision on the bill. If this measure\\xa0does\\xa0become law, it would go into\\xa0effect on Nov. 1.\\r\\n\\r\\nThe forgotten history of Justice Ginsburg’s criticism of Roe v. Wade\\r\\n\\r\\nIndiana banned abortions if fetuses have Down syndrome\\r\\n\\r\\nThis story, first published on Thursday, has been updated on Friday to include Liberty Counsel’s comments.'"
      ]
     },
     "execution_count": 21,
     "metadata": {},
     "output_type": "execute_result"
    }
   ],
   "source": [
    "data.text[0]"
   ]
  },
  {
   "cell_type": "code",
   "execution_count": 13,
   "id": "288a055a",
   "metadata": {
    "tags": []
   },
   "outputs": [],
   "source": [
    "# from bs4 import BeautifulSoup\n",
    "# import re\n",
    "# import nltk\n",
    "\n",
    "# #Removal of HTML Contents\n",
    "# def remove_html(text):\n",
    "#     soup = BeautifulSoup(text, \"html.parser\")\n",
    "#     return soup.get_text()\n",
    "\n",
    "# #Removal of Punctuation Marks\n",
    "# def remove_punctuations(text):\n",
    "#     return re.sub('\\[[^]]*\\]', '', text)\n",
    "\n",
    "# # Removal of Special Characters\n",
    "# def remove_characters(text):\n",
    "#     return re.sub(\"[^a-zA-Z]\",\" \",text)\n",
    "\n",
    "# #Removal of stopwords \n",
    "# def remove_stopwords_and_lemmatization(text):\n",
    "#     final_text = []\n",
    "#     text = text.lower()\n",
    "#     text = nltk.word_tokenize(text)\n",
    "    \n",
    "#     for word in text:\n",
    "#         if word not in set(stopwords.words('english')):\n",
    "#             lemma = nltk.WordNetLemmatizer()\n",
    "#             word = lemma.lemmatize(word) \n",
    "#             final_text.append(word)\n",
    "#     return \" \".join(final_text)\n",
    "\n",
    "# #Total function\n",
    "# def cleaning(text):\n",
    "#     text = remove_html(text)\n",
    "#     text = remove_punctuations(text)\n",
    "#     text = remove_characters(text)\n",
    "#     text = remove_stopwords_and_lemmatization(text)\n",
    "#     return text\n",
    "\n",
    "# #Apply function on text column\n",
    "# data['text']=data['text'].apply(cleaning)"
   ]
  },
  {
   "cell_type": "code",
   "execution_count": 16,
   "id": "dd5f46b8",
   "metadata": {
    "tags": []
   },
   "outputs": [
    {
     "name": "stdout",
     "output_type": "stream",
     "text": [
      "<class 'pandas.core.frame.DataFrame'>\n",
      "RangeIndex: 4594 entries, 0 to 4593\n",
      "Data columns (total 4 columns):\n",
      " #   Column  Non-Null Count  Dtype \n",
      "---  ------  --------------  ----- \n",
      " 0   idd     4594 non-null   object\n",
      " 1   title   4593 non-null   object\n",
      " 2   text    4594 non-null   object\n",
      " 3   label   4594 non-null   object\n",
      "dtypes: object(4)\n",
      "memory usage: 143.7+ KB\n"
     ]
    }
   ],
   "source": [
    "data.info()"
   ]
  },
  {
   "cell_type": "code",
   "execution_count": 17,
   "id": "e383f85d",
   "metadata": {
    "tags": []
   },
   "outputs": [
    {
     "data": {
      "text/plain": [
       "idd      0\n",
       "title    1\n",
       "text     0\n",
       "label    0\n",
       "dtype: int64"
      ]
     },
     "execution_count": 17,
     "metadata": {},
     "output_type": "execute_result"
    }
   ],
   "source": [
    "data.isna().sum()"
   ]
  },
  {
   "cell_type": "code",
   "execution_count": 18,
   "id": "40647e9f",
   "metadata": {
    "scrolled": true,
    "tags": []
   },
   "outputs": [
    {
     "name": "stdout",
     "output_type": "stream",
     "text": [
      "<class 'pandas.core.frame.DataFrame'>\n",
      "RangeIndex: 4594 entries, 0 to 4593\n",
      "Data columns (total 4 columns):\n",
      " #   Column  Non-Null Count  Dtype \n",
      "---  ------  --------------  ----- \n",
      " 0   idd     4594 non-null   object\n",
      " 1   title   4593 non-null   object\n",
      " 2   text    4594 non-null   string\n",
      " 3   label   4594 non-null   object\n",
      "dtypes: object(3), string(1)\n",
      "memory usage: 143.7+ KB\n"
     ]
    }
   ],
   "source": [
    "data.text = data.text.astype('string')\n",
    "data.info()"
   ]
  },
  {
   "cell_type": "code",
   "execution_count": 19,
   "id": "e61a6b01",
   "metadata": {
    "tags": []
   },
   "outputs": [
    {
     "data": {
      "text/html": [
       "<div>\n",
       "<style scoped>\n",
       "    .dataframe tbody tr th:only-of-type {\n",
       "        vertical-align: middle;\n",
       "    }\n",
       "\n",
       "    .dataframe tbody tr th {\n",
       "        vertical-align: top;\n",
       "    }\n",
       "\n",
       "    .dataframe thead th {\n",
       "        text-align: right;\n",
       "    }\n",
       "</style>\n",
       "<table border=\"1\" class=\"dataframe\">\n",
       "  <thead>\n",
       "    <tr style=\"text-align: right;\">\n",
       "      <th></th>\n",
       "      <th>idd</th>\n",
       "      <th>title</th>\n",
       "      <th>text</th>\n",
       "      <th>label</th>\n",
       "    </tr>\n",
       "  </thead>\n",
       "  <tbody>\n",
       "  </tbody>\n",
       "</table>\n",
       "</div>"
      ],
      "text/plain": [
       "Empty DataFrame\n",
       "Columns: [idd, title, text, label]\n",
       "Index: []"
      ]
     },
     "execution_count": 19,
     "metadata": {},
     "output_type": "execute_result"
    }
   ],
   "source": [
    "data[data.text.isna()==True]"
   ]
  },
  {
   "cell_type": "markdown",
   "id": "7ee0a427-f20a-4f9a-b3b5-d78e8152e0c2",
   "metadata": {
    "tags": []
   },
   "source": [
    "DROPPING DUPLICATE"
   ]
  },
  {
   "cell_type": "code",
   "execution_count": 20,
   "id": "0a85532b",
   "metadata": {
    "tags": []
   },
   "outputs": [],
   "source": [
    "data.dropna(inplace=True)"
   ]
  },
  {
   "cell_type": "code",
   "execution_count": 24,
   "id": "5cb1eb91-3b55-435b-a464-bda1178d8099",
   "metadata": {
    "tags": []
   },
   "outputs": [
    {
     "data": {
      "text/html": [
       "<div>\n",
       "<style scoped>\n",
       "    .dataframe tbody tr th:only-of-type {\n",
       "        vertical-align: middle;\n",
       "    }\n",
       "\n",
       "    .dataframe tbody tr th {\n",
       "        vertical-align: top;\n",
       "    }\n",
       "\n",
       "    .dataframe thead th {\n",
       "        text-align: right;\n",
       "    }\n",
       "</style>\n",
       "<table border=\"1\" class=\"dataframe\">\n",
       "  <thead>\n",
       "    <tr style=\"text-align: right;\">\n",
       "      <th></th>\n",
       "      <th>text</th>\n",
       "      <th>label</th>\n",
       "    </tr>\n",
       "  </thead>\n",
       "  <tbody>\n",
       "    <tr>\n",
       "      <th>0</th>\n",
       "      <td>‘A target on Roe v. Wade ’: Oklahoma bill maki...</td>\n",
       "      <td>REAL</td>\n",
       "    </tr>\n",
       "    <tr>\n",
       "      <th>1</th>\n",
       "      <td>Study: women had to drive 4 times farther afte...</td>\n",
       "      <td>REAL</td>\n",
       "    </tr>\n",
       "    <tr>\n",
       "      <th>2</th>\n",
       "      <td>Trump, Clinton clash in dueling DC speeches Do...</td>\n",
       "      <td>REAL</td>\n",
       "    </tr>\n",
       "    <tr>\n",
       "      <th>3</th>\n",
       "      <td>Grand jury in Texas indicts activists behind P...</td>\n",
       "      <td>REAL</td>\n",
       "    </tr>\n",
       "    <tr>\n",
       "      <th>4</th>\n",
       "      <td>As Reproductive Rights Hang In The Balance, De...</td>\n",
       "      <td>REAL</td>\n",
       "    </tr>\n",
       "    <tr>\n",
       "      <th>...</th>\n",
       "      <td>...</td>\n",
       "      <td>...</td>\n",
       "    </tr>\n",
       "    <tr>\n",
       "      <th>4589</th>\n",
       "      <td>Russia Calls the War Party's Bluff License DMC...</td>\n",
       "      <td>FAKE</td>\n",
       "    </tr>\n",
       "    <tr>\n",
       "      <th>4590</th>\n",
       "      <td>Bernie Sanders: The Democratic primary gave me...</td>\n",
       "      <td>FAKE</td>\n",
       "    </tr>\n",
       "    <tr>\n",
       "      <th>4591</th>\n",
       "      <td>Pipeline Police Strip Search Native Girl, Then...</td>\n",
       "      <td>FAKE</td>\n",
       "    </tr>\n",
       "    <tr>\n",
       "      <th>4592</th>\n",
       "      <td>Currency Crisis: Alasdair MacLeod On The Vexed...</td>\n",
       "      <td>FAKE</td>\n",
       "    </tr>\n",
       "    <tr>\n",
       "      <th>4593</th>\n",
       "      <td>Paper Tiger ISIS Digs Into Mosul Written by Er...</td>\n",
       "      <td>FAKE</td>\n",
       "    </tr>\n",
       "  </tbody>\n",
       "</table>\n",
       "<p>4593 rows × 2 columns</p>\n",
       "</div>"
      ],
      "text/plain": [
       "                                                   text label\n",
       "0     ‘A target on Roe v. Wade ’: Oklahoma bill maki...  REAL\n",
       "1     Study: women had to drive 4 times farther afte...  REAL\n",
       "2     Trump, Clinton clash in dueling DC speeches Do...  REAL\n",
       "3     Grand jury in Texas indicts activists behind P...  REAL\n",
       "4     As Reproductive Rights Hang In The Balance, De...  REAL\n",
       "...                                                 ...   ...\n",
       "4589  Russia Calls the War Party's Bluff License DMC...  FAKE\n",
       "4590  Bernie Sanders: The Democratic primary gave me...  FAKE\n",
       "4591  Pipeline Police Strip Search Native Girl, Then...  FAKE\n",
       "4592  Currency Crisis: Alasdair MacLeod On The Vexed...  FAKE\n",
       "4593  Paper Tiger ISIS Digs Into Mosul Written by Er...  FAKE\n",
       "\n",
       "[4593 rows x 2 columns]"
      ]
     },
     "execution_count": 24,
     "metadata": {},
     "output_type": "execute_result"
    }
   ],
   "source": [
    "data"
   ]
  },
  {
   "cell_type": "code",
   "execution_count": 25,
   "id": "c096b72b",
   "metadata": {
    "tags": []
   },
   "outputs": [
    {
     "data": {
      "text/html": [
       "<div>\n",
       "<style scoped>\n",
       "    .dataframe tbody tr th:only-of-type {\n",
       "        vertical-align: middle;\n",
       "    }\n",
       "\n",
       "    .dataframe tbody tr th {\n",
       "        vertical-align: top;\n",
       "    }\n",
       "\n",
       "    .dataframe thead th {\n",
       "        text-align: right;\n",
       "    }\n",
       "</style>\n",
       "<table border=\"1\" class=\"dataframe\">\n",
       "  <thead>\n",
       "    <tr style=\"text-align: right;\">\n",
       "      <th></th>\n",
       "      <th>text</th>\n",
       "      <th>label</th>\n",
       "    </tr>\n",
       "  </thead>\n",
       "  <tbody>\n",
       "    <tr>\n",
       "      <th>0</th>\n",
       "      <td>[‘a, target, on, roe, v, wade, ’, oklahoma, bi...</td>\n",
       "      <td>REAL</td>\n",
       "    </tr>\n",
       "    <tr>\n",
       "      <th>1</th>\n",
       "      <td>[study, women, had, to, drive, 4, times, farth...</td>\n",
       "      <td>REAL</td>\n",
       "    </tr>\n",
       "    <tr>\n",
       "      <th>2</th>\n",
       "      <td>[trump, clinton, clash, in, dueling, dc, speec...</td>\n",
       "      <td>REAL</td>\n",
       "    </tr>\n",
       "    <tr>\n",
       "      <th>3</th>\n",
       "      <td>[grand, jury, in, texas, indicts, activists, b...</td>\n",
       "      <td>REAL</td>\n",
       "    </tr>\n",
       "    <tr>\n",
       "      <th>4</th>\n",
       "      <td>[as, reproductive, rights, hang, in, the, bala...</td>\n",
       "      <td>REAL</td>\n",
       "    </tr>\n",
       "  </tbody>\n",
       "</table>\n",
       "</div>"
      ],
      "text/plain": [
       "                                                text label\n",
       "0  [‘a, target, on, roe, v, wade, ’, oklahoma, bi...  REAL\n",
       "1  [study, women, had, to, drive, 4, times, farth...  REAL\n",
       "2  [trump, clinton, clash, in, dueling, dc, speec...  REAL\n",
       "3  [grand, jury, in, texas, indicts, activists, b...  REAL\n",
       "4  [as, reproductive, rights, hang, in, the, bala...  REAL"
      ]
     },
     "execution_count": 25,
     "metadata": {},
     "output_type": "execute_result"
    }
   ],
   "source": [
    "import string\n",
    "\n",
    "# remove new line character and special symbols\n",
    "def clean_text(doc):\n",
    "    # print(doc)\n",
    "    doc = ''.join([str(d).replace('\\n', '@').replace('—', '@').replace('\\xa0','').replace('\\r', '') for d in doc])\n",
    "    doc = ''.join([d.lower() for d in doc if d not in string.punctuation])\n",
    "    doc = doc.split(' ')\n",
    "   \n",
    "\n",
    "    # token = word_tokenize(doc)\n",
    "#     doc = [stemmer.stem(d) for d in token if not d in string.punctuation] \n",
    "#    doc = [d for d in doc if not d in st]\n",
    "    \n",
    "    return doc\n",
    "data['text']=data['text'].apply(clean_text)\n",
    "data.head()"
   ]
  },
  {
   "cell_type": "code",
   "execution_count": 26,
   "id": "87a4ec24-c5a1-4412-b6c0-8e078fe50e0d",
   "metadata": {
    "tags": []
   },
   "outputs": [
    {
     "data": {
      "text/html": [
       "<div>\n",
       "<style scoped>\n",
       "    .dataframe tbody tr th:only-of-type {\n",
       "        vertical-align: middle;\n",
       "    }\n",
       "\n",
       "    .dataframe tbody tr th {\n",
       "        vertical-align: top;\n",
       "    }\n",
       "\n",
       "    .dataframe thead th {\n",
       "        text-align: right;\n",
       "    }\n",
       "</style>\n",
       "<table border=\"1\" class=\"dataframe\">\n",
       "  <thead>\n",
       "    <tr style=\"text-align: right;\">\n",
       "      <th></th>\n",
       "      <th>text</th>\n",
       "      <th>label</th>\n",
       "      <th>clean_text</th>\n",
       "    </tr>\n",
       "  </thead>\n",
       "  <tbody>\n",
       "    <tr>\n",
       "      <th>0</th>\n",
       "      <td>[‘a, target, on, roe, v, wade, ’, oklahoma, bi...</td>\n",
       "      <td>REAL</td>\n",
       "      <td>[‘a, target, on, roe, v, wade, ’, oklahoma, bi...</td>\n",
       "    </tr>\n",
       "    <tr>\n",
       "      <th>1</th>\n",
       "      <td>[study, women, had, to, drive, 4, times, farth...</td>\n",
       "      <td>REAL</td>\n",
       "      <td>[studi, women, had, to, drive, 4, time, farthe...</td>\n",
       "    </tr>\n",
       "    <tr>\n",
       "      <th>2</th>\n",
       "      <td>[trump, clinton, clash, in, dueling, dc, speec...</td>\n",
       "      <td>REAL</td>\n",
       "      <td>[trump, clinton, clash, in, duel, dc, speech, ...</td>\n",
       "    </tr>\n",
       "    <tr>\n",
       "      <th>3</th>\n",
       "      <td>[grand, jury, in, texas, indicts, activists, b...</td>\n",
       "      <td>REAL</td>\n",
       "      <td>[grand, juri, in, texa, indict, activist, behi...</td>\n",
       "    </tr>\n",
       "    <tr>\n",
       "      <th>4</th>\n",
       "      <td>[as, reproductive, rights, hang, in, the, bala...</td>\n",
       "      <td>REAL</td>\n",
       "      <td>[as, reproduct, right, hang, in, the, balanc, ...</td>\n",
       "    </tr>\n",
       "    <tr>\n",
       "      <th>...</th>\n",
       "      <td>...</td>\n",
       "      <td>...</td>\n",
       "      <td>...</td>\n",
       "    </tr>\n",
       "    <tr>\n",
       "      <th>4589</th>\n",
       "      <td>[russia, calls, the, war, partys, bluff, licen...</td>\n",
       "      <td>FAKE</td>\n",
       "      <td>[russia, call, the, war, parti, bluff, licens,...</td>\n",
       "    </tr>\n",
       "    <tr>\n",
       "      <th>4590</th>\n",
       "      <td>[bernie, sanders, the, democratic, primary, ga...</td>\n",
       "      <td>FAKE</td>\n",
       "      <td>[berni, sander, the, democrat, primari, gave, ...</td>\n",
       "    </tr>\n",
       "    <tr>\n",
       "      <th>4591</th>\n",
       "      <td>[pipeline, police, strip, search, native, girl...</td>\n",
       "      <td>FAKE</td>\n",
       "      <td>[pipelin, polic, strip, search, nativ, girl, t...</td>\n",
       "    </tr>\n",
       "    <tr>\n",
       "      <th>4592</th>\n",
       "      <td>[currency, crisis, alasdair, macleod, on, the,...</td>\n",
       "      <td>FAKE</td>\n",
       "      <td>[currenc, crisi, alasdair, macleod, on, the, v...</td>\n",
       "    </tr>\n",
       "    <tr>\n",
       "      <th>4593</th>\n",
       "      <td>[paper, tiger, isis, digs, into, mosul, writte...</td>\n",
       "      <td>FAKE</td>\n",
       "      <td>[paper, tiger, isi, dig, into, mosul, written,...</td>\n",
       "    </tr>\n",
       "  </tbody>\n",
       "</table>\n",
       "<p>4593 rows × 3 columns</p>\n",
       "</div>"
      ],
      "text/plain": [
       "                                                   text label  \\\n",
       "0     [‘a, target, on, roe, v, wade, ’, oklahoma, bi...  REAL   \n",
       "1     [study, women, had, to, drive, 4, times, farth...  REAL   \n",
       "2     [trump, clinton, clash, in, dueling, dc, speec...  REAL   \n",
       "3     [grand, jury, in, texas, indicts, activists, b...  REAL   \n",
       "4     [as, reproductive, rights, hang, in, the, bala...  REAL   \n",
       "...                                                 ...   ...   \n",
       "4589  [russia, calls, the, war, partys, bluff, licen...  FAKE   \n",
       "4590  [bernie, sanders, the, democratic, primary, ga...  FAKE   \n",
       "4591  [pipeline, police, strip, search, native, girl...  FAKE   \n",
       "4592  [currency, crisis, alasdair, macleod, on, the,...  FAKE   \n",
       "4593  [paper, tiger, isis, digs, into, mosul, writte...  FAKE   \n",
       "\n",
       "                                             clean_text  \n",
       "0     [‘a, target, on, roe, v, wade, ’, oklahoma, bi...  \n",
       "1     [studi, women, had, to, drive, 4, time, farthe...  \n",
       "2     [trump, clinton, clash, in, duel, dc, speech, ...  \n",
       "3     [grand, juri, in, texa, indict, activist, behi...  \n",
       "4     [as, reproduct, right, hang, in, the, balanc, ...  \n",
       "...                                                 ...  \n",
       "4589  [russia, call, the, war, parti, bluff, licens,...  \n",
       "4590  [berni, sander, the, democrat, primari, gave, ...  \n",
       "4591  [pipelin, polic, strip, search, nativ, girl, t...  \n",
       "4592  [currenc, crisi, alasdair, macleod, on, the, v...  \n",
       "4593  [paper, tiger, isi, dig, into, mosul, written,...  \n",
       "\n",
       "[4593 rows x 3 columns]"
      ]
     },
     "execution_count": 26,
     "metadata": {},
     "output_type": "execute_result"
    }
   ],
   "source": [
    "# convert to stem workd \n",
    "from nltk.stem import PorterStemmer \n",
    "from nltk.corpus import stopwords\n",
    "stm = PorterStemmer()\n",
    "stop_word = stopwords.words('english')\n",
    "\n",
    "# stem words....\n",
    "def stem_words(word): \n",
    "    word = [stm.stem(wrd) for wrd in word]\n",
    "    return word \n",
    "\n",
    "# remove stop words\n",
    "def remove_stop_words(word):\n",
    "    word = [wrd for wrd in word if wrd in stop_word]\n",
    "    return word \n",
    "\n",
    "data['clean_text'] = data['text'].apply(lambda x : stem_words(x))\n",
    "# data['clean_text'] = data['text'].apply(lambda x : remove_stop_words(x))\n",
    "data"
   ]
  },
  {
   "cell_type": "code",
   "execution_count": 27,
   "id": "b342b7b3-3be2-4336-a1e5-3f032202f1c6",
   "metadata": {
    "tags": []
   },
   "outputs": [
    {
     "name": "stdout",
     "output_type": "stream",
     "text": [
      "<class 'pandas.core.frame.DataFrame'>\n",
      "Int64Index: 4593 entries, 0 to 4593\n",
      "Data columns (total 3 columns):\n",
      " #   Column      Non-Null Count  Dtype \n",
      "---  ------      --------------  ----- \n",
      " 0   text        4593 non-null   object\n",
      " 1   label       4593 non-null   object\n",
      " 2   clean_text  4593 non-null   object\n",
      "dtypes: object(3)\n",
      "memory usage: 272.6+ KB\n"
     ]
    }
   ],
   "source": [
    "data.info()"
   ]
  },
  {
   "cell_type": "code",
   "execution_count": 28,
   "id": "1e4a30dd-75ee-4726-b936-187709a9bb35",
   "metadata": {
    "collapsed": true,
    "jupyter": {
     "outputs_hidden": true
    },
    "tags": []
   },
   "outputs": [],
   "source": [
    "data['text'] = data['clean_text']\n",
    "del data['clean_text']"
   ]
  },
  {
   "cell_type": "code",
   "execution_count": 29,
   "id": "341fca07-8490-4d8d-8152-e3d54feabea9",
   "metadata": {
    "tags": []
   },
   "outputs": [
    {
     "data": {
      "text/html": [
       "<div>\n",
       "<style scoped>\n",
       "    .dataframe tbody tr th:only-of-type {\n",
       "        vertical-align: middle;\n",
       "    }\n",
       "\n",
       "    .dataframe tbody tr th {\n",
       "        vertical-align: top;\n",
       "    }\n",
       "\n",
       "    .dataframe thead th {\n",
       "        text-align: right;\n",
       "    }\n",
       "</style>\n",
       "<table border=\"1\" class=\"dataframe\">\n",
       "  <thead>\n",
       "    <tr style=\"text-align: right;\">\n",
       "      <th></th>\n",
       "      <th>text</th>\n",
       "      <th>label</th>\n",
       "    </tr>\n",
       "  </thead>\n",
       "  <tbody>\n",
       "    <tr>\n",
       "      <th>0</th>\n",
       "      <td>[‘a, target, on, roe, v, wade, ’, oklahoma, bi...</td>\n",
       "      <td>1</td>\n",
       "    </tr>\n",
       "    <tr>\n",
       "      <th>1</th>\n",
       "      <td>[studi, women, had, to, drive, 4, time, farthe...</td>\n",
       "      <td>1</td>\n",
       "    </tr>\n",
       "    <tr>\n",
       "      <th>2</th>\n",
       "      <td>[trump, clinton, clash, in, duel, dc, speech, ...</td>\n",
       "      <td>1</td>\n",
       "    </tr>\n",
       "    <tr>\n",
       "      <th>3</th>\n",
       "      <td>[grand, juri, in, texa, indict, activist, behi...</td>\n",
       "      <td>1</td>\n",
       "    </tr>\n",
       "    <tr>\n",
       "      <th>4</th>\n",
       "      <td>[as, reproduct, right, hang, in, the, balanc, ...</td>\n",
       "      <td>1</td>\n",
       "    </tr>\n",
       "  </tbody>\n",
       "</table>\n",
       "</div>"
      ],
      "text/plain": [
       "                                                text  label\n",
       "0  [‘a, target, on, roe, v, wade, ’, oklahoma, bi...      1\n",
       "1  [studi, women, had, to, drive, 4, time, farthe...      1\n",
       "2  [trump, clinton, clash, in, duel, dc, speech, ...      1\n",
       "3  [grand, juri, in, texa, indict, activist, behi...      1\n",
       "4  [as, reproduct, right, hang, in, the, balanc, ...      1"
      ]
     },
     "execution_count": 29,
     "metadata": {},
     "output_type": "execute_result"
    }
   ],
   "source": [
    "data.label = data.label.astype('category').cat.codes\n",
    "data.head()"
   ]
  },
  {
   "cell_type": "code",
   "execution_count": null,
   "id": "7b538e55-490a-4da9-814d-e243d70d51ad",
   "metadata": {
    "tags": []
   },
   "outputs": [],
   "source": []
  },
  {
   "cell_type": "code",
   "execution_count": 30,
   "id": "28ee4658",
   "metadata": {
    "tags": []
   },
   "outputs": [],
   "source": [
    "X_train, X_test, y_train, y_test = train_test_split(data['text'], data['label'], random_state=0)"
   ]
  },
  {
   "cell_type": "code",
   "execution_count": 31,
   "id": "b86b9547",
   "metadata": {
    "tags": []
   },
   "outputs": [
    {
     "data": {
      "text/plain": [
       "(3444,)"
      ]
     },
     "execution_count": 31,
     "metadata": {},
     "output_type": "execute_result"
    }
   ],
   "source": [
    "X_train.shape"
   ]
  },
  {
   "cell_type": "code",
   "execution_count": 32,
   "id": "81a50d20-4db9-4dec-b30e-2816dd80969a",
   "metadata": {
    "tags": []
   },
   "outputs": [
    {
     "data": {
      "text/plain": [
       "(1149,)"
      ]
     },
     "execution_count": 32,
     "metadata": {},
     "output_type": "execute_result"
    }
   ],
   "source": [
    "X_test.shape"
   ]
  },
  {
   "cell_type": "code",
   "execution_count": 33,
   "id": "1c9f03af",
   "metadata": {
    "tags": []
   },
   "outputs": [],
   "source": [
    "max_features = 10000\n",
    "maxlen = 300"
   ]
  },
  {
   "cell_type": "code",
   "execution_count": 34,
   "id": "6d0a7b66",
   "metadata": {
    "tags": []
   },
   "outputs": [],
   "source": [
    "tokenizer = Tokenizer(num_words=max_features)\n",
    "tokenizer.fit_on_texts(X_train)\n",
    "tokenized_train = tokenizer.texts_to_sequences(X_train)\n",
    "X_train = pad_sequences(tokenized_train, maxlen=maxlen)"
   ]
  },
  {
   "cell_type": "code",
   "execution_count": 35,
   "id": "29c671a6",
   "metadata": {
    "tags": []
   },
   "outputs": [],
   "source": [
    "tokenized_test = tokenizer.texts_to_sequences(X_test)\n",
    "X_test = pad_sequences(tokenized_test, maxlen=maxlen)"
   ]
  },
  {
   "cell_type": "code",
   "execution_count": 36,
   "id": "d8b00691",
   "metadata": {
    "tags": []
   },
   "outputs": [],
   "source": [
    "batch_size = 256\n",
    "epochs = 10\n",
    "embed_size = 100\n",
    "\n",
    "model = tf.keras.Sequential()\n",
    "#Non-trainable embeddidng layer\n",
    "model.add(tf.keras.layers.Embedding(max_features, output_dim=embed_size, input_length=maxlen, trainable=False))\n",
    "#LSTM \n",
    "model.add(tf.keras.layers.LSTM(units=128 , return_sequences = True , recurrent_dropout = 0.25 , dropout = 0.25))\n",
    "model.add(tf.keras.layers.LSTM(units=64 , recurrent_dropout = 0.1 , dropout = 0.1))\n",
    "model.add(tf.keras.layers.Dense(units = 32 , activation = 'relu'))\n",
    "model.add(tf.keras.layers.Dense(1, activation='sigmoid'))\n",
    "model.compile(optimizer=tf.keras.optimizers.Adam(learning_rate = 0.01), loss='binary_crossentropy', metrics=['accuracy'])"
   ]
  },
  {
   "cell_type": "code",
   "execution_count": 37,
   "id": "faaa4174",
   "metadata": {
    "scrolled": true,
    "tags": []
   },
   "outputs": [
    {
     "name": "stdout",
     "output_type": "stream",
     "text": [
      "Model: \"sequential\"\n",
      "_________________________________________________________________\n",
      " Layer (type)                Output Shape              Param #   \n",
      "=================================================================\n",
      " embedding (Embedding)       (None, 300, 100)          1000000   \n",
      "                                                                 \n",
      " lstm (LSTM)                 (None, 300, 128)          117248    \n",
      "                                                                 \n",
      " lstm_1 (LSTM)               (None, 64)                49408     \n",
      "                                                                 \n",
      " dense (Dense)               (None, 32)                2080      \n",
      "                                                                 \n",
      " dense_1 (Dense)             (None, 1)                 33        \n",
      "                                                                 \n",
      "=================================================================\n",
      "Total params: 1,168,769\n",
      "Trainable params: 168,769\n",
      "Non-trainable params: 1,000,000\n",
      "_________________________________________________________________\n"
     ]
    }
   ],
   "source": [
    "model.summary()"
   ]
  },
  {
   "cell_type": "code",
   "execution_count": 56,
   "id": "9af27eb5",
   "metadata": {
    "tags": []
   },
   "outputs": [
    {
     "name": "stdout",
     "output_type": "stream",
     "text": [
      "Epoch 1/10\n",
      "10/10 [==============================] - 240s 23s/step - loss: 0.6953 - accuracy: 0.5112 - val_loss: 0.6708 - val_accuracy: 0.5232\n",
      "Epoch 2/10\n",
      "10/10 [==============================] - 227s 23s/step - loss: 0.6504 - accuracy: 0.6071 - val_loss: 0.5879 - val_accuracy: 0.6799\n",
      "Epoch 3/10\n",
      "10/10 [==============================] - 228s 23s/step - loss: 0.6035 - accuracy: 0.6685 - val_loss: 0.5600 - val_accuracy: 0.6779\n",
      "Epoch 4/10\n",
      "10/10 [==============================] - 236s 24s/step - loss: 0.5367 - accuracy: 0.7145 - val_loss: 0.6073 - val_accuracy: 0.6809\n",
      "Epoch 5/10\n",
      "10/10 [==============================] - 226s 23s/step - loss: 0.5340 - accuracy: 0.7199 - val_loss: 0.5097 - val_accuracy: 0.7195\n",
      "Epoch 6/10\n",
      "10/10 [==============================] - 222s 22s/step - loss: 0.5056 - accuracy: 0.7444 - val_loss: 0.5189 - val_accuracy: 0.7079\n",
      "Epoch 7/10\n",
      "10/10 [==============================] - 225s 23s/step - loss: 0.4958 - accuracy: 0.7432 - val_loss: 0.5074 - val_accuracy: 0.7273\n",
      "Epoch 8/10\n",
      "10/10 [==============================] - 224s 22s/step - loss: 0.4770 - accuracy: 0.7656 - val_loss: 0.5005 - val_accuracy: 0.7234\n",
      "Epoch 9/10\n",
      "10/10 [==============================] - 223s 22s/step - loss: 0.4505 - accuracy: 0.7780 - val_loss: 0.4977 - val_accuracy: 0.7369\n",
      "Epoch 10/10\n",
      "10/10 [==============================] - 228s 23s/step - loss: 0.4352 - accuracy: 0.7826 - val_loss: 0.4804 - val_accuracy: 0.7544\n"
     ]
    }
   ],
   "source": [
    "history = model.fit(X_train, y_train, validation_split=0.3, epochs=10, batch_size=batch_size, shuffle=True, verbose = 1)"
   ]
  },
  {
   "cell_type": "code",
   "execution_count": 57,
   "id": "4614dcdf",
   "metadata": {
    "tags": []
   },
   "outputs": [],
   "source": [
    "model.save('final_fake_news_detectionmodel.h5')"
   ]
  },
  {
   "cell_type": "code",
   "execution_count": 58,
   "id": "5e108e7e",
   "metadata": {
    "tags": []
   },
   "outputs": [
    {
     "data": {
      "image/png": "[encoded data removed]",
      "text/plain": [
       "<Figure size 640x480 with 1 Axes>"
      ]
     },
     "metadata": {},
     "output_type": "display_data"
    }
   ],
   "source": [
    "# ploting training accuracy and loss accuracy\n",
    "train_acc = history.history['accuracy']\n",
    "test_acc = history.history['val_accuracy']\n",
    "\n",
    "plt.title('LSTM ACCURACY PLOT')\n",
    "plt.plot(train_acc, label='Train_accuracy', color='blue')\n",
    "plt.plot(test_acc, label='Test_accuracy', color='red')\n",
    "plt.legend()\n",
    "plt.grid(True)\n",
    "plt.xlabel('EPOCH')\n",
    "plt.ylabel('ACCURACY (%)')\n",
    "plt.show()"
   ]
  },
  {
   "cell_type": "code",
   "execution_count": 59,
   "id": "cfaffac2",
   "metadata": {
    "tags": []
   },
   "outputs": [
    {
     "data": {
      "image/png": "[encoded data removed]",
      "text/plain": [
       "<Figure size 640x480 with 1 Axes>"
      ]
     },
     "metadata": {},
     "output_type": "display_data"
    }
   ],
   "source": [
    "# ploting training accuracy and loss accuracy\n",
    "train_acc = history.history['loss']\n",
    "test_acc = history.history['val_loss']\n",
    "\n",
    "plt.title('LSTM LOSS PLOT')\n",
    "plt.plot(train_acc, label='Train_loss', color='blue')\n",
    "plt.plot(test_acc, label='Test_loss', color='red')\n",
    "plt.legend()\n",
    "plt.grid(True)\n",
    "plt.xlabel('EPOCH')\n",
    "plt.ylabel('LOSS')\n",
    "plt.show()"
   ]
  },
  {
   "cell_type": "code",
   "execution_count": 60,
   "id": "4fe32677",
   "metadata": {
    "scrolled": true,
    "tags": []
   },
   "outputs": [
    {
     "name": "stdout",
     "output_type": "stream",
     "text": [
      "36/36 [==============================] - 7s 173ms/step\n"
     ]
    }
   ],
   "source": [
    "# making prediction\n",
    "prediction = model.predict(X_test)"
   ]
  },
  {
   "cell_type": "code",
   "execution_count": 61,
   "id": "395dd6fa",
   "metadata": {
    "tags": []
   },
   "outputs": [
    {
     "data": {
      "text/plain": [
       "array([1, 0, 0, ..., 1, 1, 1])"
      ]
     },
     "execution_count": 61,
     "metadata": {},
     "output_type": "execute_result"
    }
   ],
   "source": [
    "# convert continuous prediction to integer (0 and 1)\n",
    "def normalize_prediction(prediction):\n",
    "    predictions = []\n",
    "    for predict in prediction: \n",
    "        if predict > 0.5: \n",
    "            predictions.append(1)\n",
    "        else: \n",
    "            predictions.append(0)      \n",
    "    return np.array(predictions)\n",
    "        \n",
    "    \n",
    "norm_prediction = normalize_prediction(prediction)\n",
    "norm_prediction"
   ]
  },
  {
   "cell_type": "code",
   "execution_count": 64,
   "id": "93047e16",
   "metadata": {
    "tags": []
   },
   "outputs": [
    {
     "name": "stdout",
     "output_type": "stream",
     "text": [
      "Overall Accuracy :  0.731940818102698\n",
      "Overall Precision : 0.8371681415929203\n",
      "Overall Recall :    0.6865021770682148\n",
      "Overall F1-score :  0.7543859649122807\n"
     ]
    }
   ],
   "source": [
    "acc = metrics.accuracy_score(norm_prediction, y_test)\n",
    "prec = metrics.precision_score(norm_prediction, y_test)\n",
    "recall = metrics.recall_score(norm_prediction, y_test)\n",
    "f1 = metrics.f1_score(norm_prediction, y_test)\n",
    "\n",
    "print('Overall Accuracy :  {}'.format(acc))\n",
    "print('Overall Precision : {}'.format(prec))\n",
    "print('Overall Recall :    {}'.format(recall))\n",
    "print('Overall F1-score :  {}'.format(f1))\n"
   ]
  },
  {
   "cell_type": "code",
   "execution_count": 65,
   "id": "383f1405",
   "metadata": {
    "tags": []
   },
   "outputs": [
    {
     "name": "stdout",
     "output_type": "stream",
     "text": [
      "              precision    recall  f1-score   support\n",
      "\n",
      "           0       0.63      0.80      0.70       460\n",
      "           1       0.84      0.69      0.75       689\n",
      "\n",
      "    accuracy                           0.73      1149\n",
      "   macro avg       0.73      0.74      0.73      1149\n",
      "weighted avg       0.75      0.73      0.73      1149\n",
      "\n"
     ]
    },
    {
     "data": {
      "image/png": "[encoded data removed]",
      "text/plain": [
       "<Figure size 640x480 with 2 Axes>"
      ]
     },
     "metadata": {},
     "output_type": "display_data"
    }
   ],
   "source": [
    "# visualizing performance \n",
    "\n",
    "# classification report\n",
    "cr_report = metrics.classification_report(norm_prediction, y_test)\n",
    "\n",
    "# confusion matrix\n",
    "cf_report = metrics.confusion_matrix(norm_prediction, y_test)\n",
    "\n",
    "print(cr_report)\n",
    "\n",
    "\n",
    "# print(cr_report.ravel())\n",
    "labels = ['Fake', 'Real']\n",
    "plt.title('FAKE NEWS CONFUSION MATRIX')\n",
    "sn.heatmap(cf_report, annot=True, fmt='d', xticklabels=labels, yticklabels=labels)\n",
    "plt.xlabel('Truth')\n",
    "plt.ylabel('Prediction')\n",
    "plt.show()\n"
   ]
  },
  {
   "cell_type": "markdown",
   "id": "bed9fa1c",
   "metadata": {},
   "source": [
    "# Vectorization"
   ]
  },
  {
   "cell_type": "code",
   "execution_count": 22,
   "id": "8d3a7b84",
   "metadata": {},
   "outputs": [],
   "source": [
    "xtrain = [' '.join(x) for x in X_train]\n",
    "xtest = [' '.join(x) for x in X_test]"
   ]
  },
  {
   "cell_type": "code",
   "execution_count": 23,
   "id": "b886f0d3",
   "metadata": {},
   "outputs": [],
   "source": [
    "tf_vector = TfidfVectorizer()\n",
    "x_train_fit = tf_vector.fit_transform(xtrain)\n",
    "x_test_fit = tf_vector.fit(xtest)\n",
    "# x_train_fit.shape"
   ]
  },
  {
   "cell_type": "markdown",
   "id": "55cef7ac",
   "metadata": {},
   "source": [
    "## SVM MODEL"
   ]
  },
  {
   "cell_type": "code",
   "execution_count": 78,
   "id": "e15fafaa",
   "metadata": {
    "scrolled": true
   },
   "outputs": [
    {
     "data": {
      "text/plain": [
       "array([[   0,    0,    0, ...,  706,   48,  311],\n",
       "       [   0,    0,    0, ...,    3,    3,    3],\n",
       "       [ 961,    1, 4058, ..., 9339,    3,    3],\n",
       "       ...,\n",
       "       [   0,    0,    0, ..., 3184,  557,    3],\n",
       "       [   5,  542,   21, ...,    3,    3,    3],\n",
       "       [6498,    7,    1, ...,  113, 1322, 1406]])"
      ]
     },
     "execution_count": 78,
     "metadata": {},
     "output_type": "execute_result"
    }
   ],
   "source": [
    "X_train"
   ]
  },
  {
   "cell_type": "code",
   "execution_count": null,
   "id": "8999c080",
   "metadata": {
    "scrolled": true,
    "tags": []
   },
   "outputs": [],
   "source": [
    "svm_model = SVC(kernel='linear')\n",
    "svm_model.fit(X_train, y_train)"
   ]
  },
  {
   "cell_type": "code",
   "execution_count": null,
   "id": "4f0869e3",
   "metadata": {},
   "outputs": [],
   "source": [
    "# training accuracy score.. \n",
    "svm_model.score(X_train, y_train)"
   ]
  },
  {
   "cell_type": "code",
   "execution_count": null,
   "id": "ef75d65d",
   "metadata": {},
   "outputs": [],
   "source": [
    "import joblib as jb \n",
    "# saving the machine learning model (SVM)\n",
    "jb.dump('svm_fake_news_classifier', svm_model)"
   ]
  },
  {
   "cell_type": "code",
   "execution_count": null,
   "id": "9b966608",
   "metadata": {},
   "outputs": [],
   "source": [
    "svm_predict = svm_model.predict(X_test)\n",
    "svm_predictions = normalize_prediction(svm_predict)"
   ]
  },
  {
   "cell_type": "code",
   "execution_count": null,
   "id": "2a6fc8f3",
   "metadata": {},
   "outputs": [],
   "source": [
    "acc = metrics.accuracy_score(svm_predictions, y_test)\n",
    "prec = metrics.precision_score(svm_predictions, y_test)\n",
    "recall = metrics.recall_score(svm_predictions, y_test)\n",
    "f1 = metrics.f1_score(svm_predictions, y_test)\n",
    "\n",
    "print('Overall Accuracy :  {}'.format(acc))\n",
    "print('Overall Precision : {}'.format(prec))\n",
    "print('Overall Recall :    {}'.format(recall))\n",
    "print('Overall F1-score :  {}'.format(f1))\n"
   ]
  },
  {
   "cell_type": "code",
   "execution_count": 32,
   "id": "bac1adb8",
   "metadata": {},
   "outputs": [],
   "source": [
    "X_train, X_test, y_train, y_test = train_test_split(data['text'], data['target'], random_state=0)"
   ]
  },
  {
   "cell_type": "markdown",
   "id": "d630a2ce",
   "metadata": {},
   "source": [
    "# TRADITIONAL MACHINE LEARNING "
   ]
  },
  {
   "cell_type": "markdown",
   "id": "137e0ad6",
   "metadata": {},
   "source": [
    "## Naive Bayes ML"
   ]
  },
  {
   "cell_type": "code",
   "execution_count": 38,
   "id": "30bdfd3e",
   "metadata": {
    "tags": []
   },
   "outputs": [
    {
     "data": {
      "text/html": [
       "<style>#sk-container-id-1 {color: black;background-color: white;}#sk-container-id-1 pre{padding: 0;}#sk-container-id-1 div.sk-toggleable {background-color: white;}#sk-container-id-1 label.sk-toggleable__label {cursor: pointer;display: block;width: 100%;margin-bottom: 0;padding: 0.3em;box-sizing: border-box;text-align: center;}#sk-container-id-1 label.sk-toggleable__label-arrow:before {content: \"▸\";float: left;margin-right: 0.25em;color: #696969;}#sk-container-id-1 label.sk-toggleable__label-arrow:hover:before {color: black;}#sk-container-id-1 div.sk-estimator:hover label.sk-toggleable__label-arrow:before {color: black;}#sk-container-id-1 div.sk-toggleable__content {max-height: 0;max-width: 0;overflow: hidden;text-align: left;background-color: #f0f8ff;}#sk-container-id-1 div.sk-toggleable__content pre {margin: 0.2em;color: black;border-radius: 0.25em;background-color: #f0f8ff;}#sk-container-id-1 input.sk-toggleable__control:checked~div.sk-toggleable__content {max-height: 200px;max-width: 100%;overflow: auto;}#sk-container-id-1 input.sk-toggleable__control:checked~label.sk-toggleable__label-arrow:before {content: \"▾\";}#sk-container-id-1 div.sk-estimator input.sk-toggleable__control:checked~label.sk-toggleable__label {background-color: #d4ebff;}#sk-container-id-1 div.sk-label input.sk-toggleable__control:checked~label.sk-toggleable__label {background-color: #d4ebff;}#sk-container-id-1 input.sk-hidden--visually {border: 0;clip: rect(1px 1px 1px 1px);clip: rect(1px, 1px, 1px, 1px);height: 1px;margin: -1px;overflow: hidden;padding: 0;position: absolute;width: 1px;}#sk-container-id-1 div.sk-estimator {font-family: monospace;background-color: #f0f8ff;border: 1px dotted black;border-radius: 0.25em;box-sizing: border-box;margin-bottom: 0.5em;}#sk-container-id-1 div.sk-estimator:hover {background-color: #d4ebff;}#sk-container-id-1 div.sk-parallel-item::after {content: \"\";width: 100%;border-bottom: 1px solid gray;flex-grow: 1;}#sk-container-id-1 div.sk-label:hover label.sk-toggleable__label {background-color: #d4ebff;}#sk-container-id-1 div.sk-serial::before {content: \"\";position: absolute;border-left: 1px solid gray;box-sizing: border-box;top: 0;bottom: 0;left: 50%;z-index: 0;}#sk-container-id-1 div.sk-serial {display: flex;flex-direction: column;align-items: center;background-color: white;padding-right: 0.2em;padding-left: 0.2em;position: relative;}#sk-container-id-1 div.sk-item {position: relative;z-index: 1;}#sk-container-id-1 div.sk-parallel {display: flex;align-items: stretch;justify-content: center;background-color: white;position: relative;}#sk-container-id-1 div.sk-item::before, #sk-container-id-1 div.sk-parallel-item::before {content: \"\";position: absolute;border-left: 1px solid gray;box-sizing: border-box;top: 0;bottom: 0;left: 50%;z-index: -1;}#sk-container-id-1 div.sk-parallel-item {display: flex;flex-direction: column;z-index: 1;position: relative;background-color: white;}#sk-container-id-1 div.sk-parallel-item:first-child::after {align-self: flex-end;width: 50%;}#sk-container-id-1 div.sk-parallel-item:last-child::after {align-self: flex-start;width: 50%;}#sk-container-id-1 div.sk-parallel-item:only-child::after {width: 0;}#sk-container-id-1 div.sk-dashed-wrapped {border: 1px dashed gray;margin: 0 0.4em 0.5em 0.4em;box-sizing: border-box;padding-bottom: 0.4em;background-color: white;}#sk-container-id-1 div.sk-label label {font-family: monospace;font-weight: bold;display: inline-block;line-height: 1.2em;}#sk-container-id-1 div.sk-label-container {text-align: center;}#sk-container-id-1 div.sk-container {/* jupyter's `normalize.less` sets `[hidden] { display: none; }` but bootstrap.min.css set `[hidden] { display: none !important; }` so we also need the `!important` here to be able to override the default hidden behavior on the sphinx rendered scikit-learn.org. See: https://github.com/scikit-learn/scikit-learn/issues/21755 */display: inline-block !important;position: relative;}#sk-container-id-1 div.sk-text-repr-fallback {display: none;}</style><div id=\"sk-container-id-1\" class=\"sk-top-container\"><div class=\"sk-text-repr-fallback\"><pre>GaussianNB()</pre><b>In a Jupyter environment, please rerun this cell to show the HTML representation or trust the notebook. <br />On GitHub, the HTML representation is unable to render, please try loading this page with nbviewer.org.</b></div><div class=\"sk-container\" hidden><div class=\"sk-item\"><div class=\"sk-estimator sk-toggleable\"><input class=\"sk-toggleable__control sk-hidden--visually\" id=\"sk-estimator-id-1\" type=\"checkbox\" checked><label for=\"sk-estimator-id-1\" class=\"sk-toggleable__label sk-toggleable__label-arrow\">GaussianNB</label><div class=\"sk-toggleable__content\"><pre>GaussianNB()</pre></div></div></div></div></div>"
      ],
      "text/plain": [
       "GaussianNB()"
      ]
     },
     "execution_count": 38,
     "metadata": {},
     "output_type": "execute_result"
    }
   ],
   "source": [
    "# taining naive bayesian algorithm\n",
    "nb_model  = naive_bayes.GaussianNB()\n",
    "nb_model.fit(X_train, y_train)"
   ]
  },
  {
   "cell_type": "code",
   "execution_count": 39,
   "id": "1795e0de",
   "metadata": {
    "tags": []
   },
   "outputs": [
    {
     "data": {
      "text/plain": [
       "array([0, 0, 0, 1, 1], dtype=int8)"
      ]
     },
     "execution_count": 39,
     "metadata": {},
     "output_type": "execute_result"
    }
   ],
   "source": [
    "nb_model.score(X_train, y_train)\n",
    "prediction = nb_model.predict(X_test)\n",
    "prediction[:5]"
   ]
  },
  {
   "cell_type": "code",
   "execution_count": 40,
   "id": "f2635387",
   "metadata": {
    "tags": []
   },
   "outputs": [
    {
     "name": "stdout",
     "output_type": "stream",
     "text": [
      "              precision    recall  f1-score   support\n",
      "\n",
      "           0       0.53      0.63      0.58       489\n",
      "           1       0.68      0.58      0.63       660\n",
      "\n",
      "    accuracy                           0.61      1149\n",
      "   macro avg       0.61      0.61      0.60      1149\n",
      "weighted avg       0.62      0.61      0.61      1149\n",
      "\n"
     ]
    }
   ],
   "source": [
    "cr = metrics.classification_report(prediction, y_test)\n",
    "print(cr)"
   ]
  },
  {
   "cell_type": "markdown",
   "id": "cd5a9cd1",
   "metadata": {},
   "source": [
    "# Decision Tree Model"
   ]
  },
  {
   "cell_type": "code",
   "execution_count": 43,
   "id": "aa0c2d2e",
   "metadata": {
    "tags": []
   },
   "outputs": [
    {
     "data": {
      "text/plain": [
       "0.6840731070496083"
      ]
     },
     "execution_count": 43,
     "metadata": {},
     "output_type": "execute_result"
    }
   ],
   "source": [
    "from sklearn import tree\n",
    "dt_model  = tree.DecisionTreeClassifier()\n",
    "dt_model.fit(X_train, y_train)\n",
    "dt_model.score(X_test, y_test)"
   ]
  },
  {
   "cell_type": "code",
   "execution_count": 44,
   "id": "85cd15f6",
   "metadata": {
    "tags": []
   },
   "outputs": [
    {
     "name": "stdout",
     "output_type": "stream",
     "text": [
      "              precision    recall  f1-score   support\n",
      "\n",
      "           0       0.67      0.70      0.68       563\n",
      "           1       0.70      0.67      0.68       586\n",
      "\n",
      "    accuracy                           0.68      1149\n",
      "   macro avg       0.68      0.68      0.68      1149\n",
      "weighted avg       0.68      0.68      0.68      1149\n",
      "\n"
     ]
    }
   ],
   "source": [
    "dt_prediction = dt_model.predict(X_test)\n",
    "cr = metrics.classification_report(dt_prediction, y_test)\n",
    "print(cr)"
   ]
  },
  {
   "cell_type": "code",
   "execution_count": 45,
   "id": "4200c6a3",
   "metadata": {
    "tags": []
   },
   "outputs": [
    {
     "name": "stdout",
     "output_type": "stream",
     "text": [
      "Overall Accuracy :  0.6840731070496083\n",
      "Overall Precision : 0.6973451327433628\n",
      "Overall Recall :    0.6723549488054608\n",
      "Overall F1-score :  0.684622067767159\n"
     ]
    }
   ],
   "source": [
    "acc = metrics.accuracy_score(dt_prediction, y_test)\n",
    "prec = metrics.precision_score(dt_prediction, y_test)\n",
    "recall = metrics.recall_score(dt_prediction, y_test)\n",
    "f1 = metrics.f1_score(dt_prediction, y_test)\n",
    "\n",
    "print('Overall Accuracy :  {}'.format(acc))\n",
    "print('Overall Precision : {}'.format(prec))\n",
    "print('Overall Recall :    {}'.format(recall))\n",
    "print('Overall F1-score :  {}'.format(f1))"
   ]
  },
  {
   "cell_type": "code",
   "execution_count": 46,
   "id": "0fa586b3",
   "metadata": {
    "tags": []
   },
   "outputs": [
    {
     "data": {
      "image/png": "[encoded data removed]",
      "text/plain": [
       "<Figure size 640x480 with 2 Axes>"
      ]
     },
     "metadata": {},
     "output_type": "display_data"
    }
   ],
   "source": [
    "dt_cm = metrics.confusion_matrix(dt_prediction, y_test)\n",
    "labels = ['Fake', 'Real']\n",
    "plt.title('FAKE NEWS CONFUSION MATRIX')\n",
    "sn.heatmap(dt_cm, annot=True, fmt='d', xticklabels=labels, yticklabels=labels)\n",
    "plt.xlabel('Truth')\n",
    "plt.ylabel('Prediction')\n",
    "plt.show()"
   ]
  },
  {
   "cell_type": "markdown",
   "id": "5c4ba71e",
   "metadata": {},
   "source": [
    "# ENSEMBLE BASED MACHINE LEARNING"
   ]
  },
  {
   "cell_type": "markdown",
   "id": "9b74eea6",
   "metadata": {},
   "source": [
    "## Random forest "
   ]
  },
  {
   "cell_type": "code",
   "execution_count": 47,
   "id": "e31867b7",
   "metadata": {
    "scrolled": true,
    "tags": []
   },
   "outputs": [
    {
     "data": {
      "text/plain": [
       "1.0"
      ]
     },
     "execution_count": 47,
     "metadata": {},
     "output_type": "execute_result"
    }
   ],
   "source": [
    "rd_model = ensemble.RandomForestClassifier()\n",
    "rd_model.fit(X_train, y_train)\n",
    "rd_model.score(X_train, y_train)"
   ]
  },
  {
   "cell_type": "code",
   "execution_count": 48,
   "id": "5c04c404",
   "metadata": {
    "tags": []
   },
   "outputs": [
    {
     "name": "stdout",
     "output_type": "stream",
     "text": [
      "Overall Accuracy :  0.7449956483899043\n",
      "Overall Precision : 0.8371681415929203\n",
      "Overall Recall :    0.701780415430267\n",
      "Overall F1-score :  0.7635189669087974\n"
     ]
    }
   ],
   "source": [
    "rd_prediction = rd_model.predict(X_test)\n",
    "acc = metrics.accuracy_score(rd_prediction, y_test)\n",
    "prec = metrics.precision_score(rd_prediction, y_test)\n",
    "recall = metrics.recall_score(rd_prediction, y_test)\n",
    "f1 = metrics.f1_score(rd_prediction, y_test)\n",
    "\n",
    "print('Overall Accuracy :  {}'.format(acc))\n",
    "print('Overall Precision : {}'.format(prec))\n",
    "print('Overall Recall :    {}'.format(recall))\n",
    "print('Overall F1-score :  {}'.format(f1))"
   ]
  },
  {
   "cell_type": "code",
   "execution_count": 49,
   "id": "52c22faf",
   "metadata": {
    "tags": []
   },
   "outputs": [
    {
     "name": "stdout",
     "output_type": "stream",
     "text": [
      "              precision    recall  f1-score   support\n",
      "\n",
      "           0       0.66      0.81      0.72       475\n",
      "           1       0.84      0.70      0.76       674\n",
      "\n",
      "    accuracy                           0.74      1149\n",
      "   macro avg       0.75      0.75      0.74      1149\n",
      "weighted avg       0.76      0.74      0.75      1149\n",
      "\n"
     ]
    },
    {
     "data": {
      "image/png": "[encoded data removed]",
      "text/plain": [
       "<Figure size 640x480 with 2 Axes>"
      ]
     },
     "metadata": {},
     "output_type": "display_data"
    }
   ],
   "source": [
    "# nb_model.score(X_train, y_train)\n",
    "# prediction = rd_model.predict(X_test)\n",
    "cr = metrics.classification_report(rd_prediction, y_test)\n",
    "print(cr)\n",
    "\n",
    "ad_cm = metrics.confusion_matrix(rd_prediction, y_test)\n",
    "labels = ['Fake', 'Real']\n",
    "plt.title('FAKE NEWS CONFUSION MATRIX')\n",
    "sn.heatmap(ad_cm, annot=True, fmt='d', xticklabels=labels, yticklabels=labels)\n",
    "plt.xlabel('Truth')\n",
    "plt.ylabel('Prediction')\n",
    "plt.show()"
   ]
  },
  {
   "cell_type": "code",
   "execution_count": null,
   "id": "373b5a83",
   "metadata": {},
   "outputs": [],
   "source": []
  },
  {
   "cell_type": "markdown",
   "id": "d48fa07c",
   "metadata": {},
   "source": [
    "## Ada Boost Model"
   ]
  },
  {
   "cell_type": "code",
   "execution_count": 50,
   "id": "7da3923a",
   "metadata": {
    "tags": []
   },
   "outputs": [
    {
     "data": {
      "text/plain": [
       "0.8144599303135889"
      ]
     },
     "execution_count": 50,
     "metadata": {},
     "output_type": "execute_result"
    }
   ],
   "source": [
    "ada_model = ensemble.AdaBoostClassifier()\n",
    "ada_model.fit(X_train, y_train)\n",
    "ada_model.score(X_train, y_train)"
   ]
  },
  {
   "cell_type": "code",
   "execution_count": 51,
   "id": "60f85306",
   "metadata": {
    "tags": []
   },
   "outputs": [
    {
     "name": "stdout",
     "output_type": "stream",
     "text": [
      "Overall Accuracy :  0.7362924281984334\n",
      "Overall Precision : 0.7787610619469026\n",
      "Overall Recall :    0.7119741100323624\n",
      "Overall F1-score :  0.7438715131022823\n"
     ]
    }
   ],
   "source": [
    "ada_prediction = ada_model.predict(X_test)\n",
    "acc = metrics.accuracy_score(ada_prediction, y_test)\n",
    "prec = metrics.precision_score(ada_prediction, y_test)\n",
    "recall = metrics.recall_score(ada_prediction, y_test)\n",
    "f1 = metrics.f1_score(ada_prediction, y_test)\n",
    "\n",
    "print('Overall Accuracy :  {}'.format(acc))\n",
    "print('Overall Precision : {}'.format(prec))\n",
    "print('Overall Recall :    {}'.format(recall))\n",
    "print('Overall F1-score :  {}'.format(f1))"
   ]
  },
  {
   "cell_type": "code",
   "execution_count": 52,
   "id": "7423c9bf",
   "metadata": {
    "tags": []
   },
   "outputs": [
    {
     "name": "stdout",
     "output_type": "stream",
     "text": [
      "              precision    recall  f1-score   support\n",
      "\n",
      "           0       0.70      0.76      0.73       531\n",
      "           1       0.78      0.71      0.74       618\n",
      "\n",
      "    accuracy                           0.74      1149\n",
      "   macro avg       0.74      0.74      0.74      1149\n",
      "weighted avg       0.74      0.74      0.74      1149\n",
      "\n"
     ]
    },
    {
     "data": {
      "image/png": "[encoded data removed]",
      "text/plain": [
       "<Figure size 640x480 with 2 Axes>"
      ]
     },
     "metadata": {},
     "output_type": "display_data"
    }
   ],
   "source": [
    "cr = metrics.classification_report(ada_prediction, y_test)\n",
    "print(cr)\n",
    "\n",
    "ad_cm = metrics.confusion_matrix(ada_prediction, y_test)\n",
    "labels = ['Fake', 'Real']\n",
    "plt.title('FAKE NEWS CONFUSION MATRIX')\n",
    "sn.heatmap(ad_cm, annot=True, fmt='d', xticklabels=labels, yticklabels=labels)\n",
    "plt.xlabel('Truth')\n",
    "plt.ylabel('Prediction')\n",
    "plt.show()"
   ]
  },
  {
   "cell_type": "markdown",
   "id": "647d8550",
   "metadata": {},
   "source": [
    "## Gradient Boost Model"
   ]
  },
  {
   "cell_type": "code",
   "execution_count": 53,
   "id": "4a5a8544",
   "metadata": {
    "tags": []
   },
   "outputs": [
    {
     "data": {
      "text/plain": [
       "0.912020905923345"
      ]
     },
     "execution_count": 53,
     "metadata": {},
     "output_type": "execute_result"
    }
   ],
   "source": [
    "gd_classifir = ensemble.GradientBoostingClassifier() \n",
    "gd_model = gd_classifir.fit(X_train, y_train)\n",
    "gd_model.score(X_train, y_train)"
   ]
  },
  {
   "cell_type": "code",
   "execution_count": 54,
   "id": "eb932ab7",
   "metadata": {
    "tags": []
   },
   "outputs": [
    {
     "name": "stdout",
     "output_type": "stream",
     "text": [
      "Overall Accuracy :  0.7754569190600522\n",
      "Overall Precision : 0.8530973451327434\n",
      "Overall Recall :    0.7336377473363774\n"
     ]
    }
   ],
   "source": [
    "gd_prediction = gd_model.predict(X_test)\n",
    "acc = metrics.accuracy_score(gd_prediction, y_test)\n",
    "prec = metrics.precision_score(gd_prediction, y_test)\n",
    "recall = metrics.recall_score(gd_prediction, y_test)\n",
    "f1 = metrics.f1_score(gd_prediction, y_test)\n",
    "\n",
    "print('Overall Accuracy :  {}'.format(acc))\n",
    "print('Overall Precision : {}'.format(prec))\n",
    "print('Overall Recall :    {}'.format(recall))"
   ]
  },
  {
   "cell_type": "code",
   "execution_count": 55,
   "id": "33eac3c2",
   "metadata": {
    "tags": []
   },
   "outputs": [
    {
     "name": "stdout",
     "output_type": "stream",
     "text": [
      "              precision    recall  f1-score   support\n",
      "\n",
      "           0       0.70      0.83      0.76       492\n",
      "           1       0.85      0.73      0.79       657\n",
      "\n",
      "    accuracy                           0.78      1149\n",
      "   macro avg       0.78      0.78      0.77      1149\n",
      "weighted avg       0.79      0.78      0.78      1149\n",
      "\n"
     ]
    },
    {
     "data": {
      "image/png": "[encoded data removed]",
      "text/plain": [
       "<Figure size 640x480 with 2 Axes>"
      ]
     },
     "metadata": {},
     "output_type": "display_data"
    }
   ],
   "source": [
    "cr = metrics.classification_report(gd_prediction, y_test)\n",
    "print(cr)\n",
    "\n",
    "ad_cm = metrics.confusion_matrix(gd_prediction, y_test)\n",
    "labels = ['Fake', 'Real']\n",
    "plt.title('FAKE NEWS CONFUSION MATRIX')\n",
    "sn.heatmap(ad_cm, annot=True, fmt='d', xticklabels=labels, yticklabels=labels)\n",
    "plt.xlabel('Truth')\n",
    "plt.ylabel('Prediction')\n",
    "plt.show()"
   ]
  },
  {
   "cell_type": "markdown",
   "id": "a92b304c",
   "metadata": {},
   "source": [
    "## Bi-LSTM -Transer learning -2- ML (Experiment 2)"
   ]
  },
  {
   "cell_type": "code",
   "execution_count": 56,
   "id": "a0dfb5ad",
   "metadata": {
    "scrolled": true,
    "tags": []
   },
   "outputs": [
    {
     "data": {
      "text/plain": [
       "[<keras.layers.core.embedding.Embedding at 0x16802d21ca0>,\n",
       " <keras.layers.rnn.lstm.LSTM at 0x16802dc18b0>,\n",
       " <keras.layers.rnn.lstm.LSTM at 0x16802e314c0>,\n",
       " <keras.layers.core.dense.Dense at 0x16802dd2220>,\n",
       " <keras.layers.core.dense.Dense at 0x16802d36760>]"
      ]
     },
     "execution_count": 56,
     "metadata": {},
     "output_type": "execute_result"
    }
   ],
   "source": [
    "from keras.models import load_model\n",
    "\n",
    "# load the pre-trained model\n",
    "lstm_model = load_model('final_fake_news_detectionmodel.h5')\n",
    "lstm_model.layers"
   ]
  },
  {
   "cell_type": "code",
   "execution_count": 57,
   "id": "d14f1e58",
   "metadata": {
    "scrolled": true,
    "tags": []
   },
   "outputs": [
    {
     "name": "stdout",
     "output_type": "stream",
     "text": [
      "108/108 [==============================] - 17s 153ms/step\n"
     ]
    },
    {
     "data": {
      "text/plain": [
       "array([[0.6761377 ],\n",
       "       [0.7423277 ],\n",
       "       [0.00555524],\n",
       "       ...,\n",
       "       [0.77206516],\n",
       "       [0.02225422],\n",
       "       [0.83090574]], dtype=float32)"
      ]
     },
     "execution_count": 57,
     "metadata": {},
     "output_type": "execute_result"
    }
   ],
   "source": [
    "lstm_output = lstm_model.predict(X_train)\n",
    "lstm_output"
   ]
  },
  {
   "cell_type": "code",
   "execution_count": 58,
   "id": "47f7bd32",
   "metadata": {
    "tags": []
   },
   "outputs": [
    {
     "data": {
      "text/plain": [
       "<tf.Variable 'embedding/embeddings:0' shape=(10000, 100) dtype=float32, numpy=\n",
       "array([[-4.6094693e-02, -2.0367015e-02, -1.0442950e-02, ...,\n",
       "         1.1607718e-02, -2.5005424e-02, -4.4378567e-02],\n",
       "       [ 8.9524500e-03, -1.7123401e-02,  6.4211264e-03, ...,\n",
       "         1.0859221e-05, -1.7179728e-02,  3.2019224e-02],\n",
       "       [-4.5609724e-02, -3.2325126e-02, -2.8073002e-02, ...,\n",
       "         3.6392059e-02,  3.8750742e-02,  1.3421249e-02],\n",
       "       ...,\n",
       "       [-2.5068283e-02,  2.9147353e-02,  2.1450546e-02, ...,\n",
       "        -3.3580400e-02, -4.1856408e-02, -2.3302807e-02],\n",
       "       [ 3.5201181e-02,  3.1467211e-02, -2.1836115e-02, ...,\n",
       "         4.4278909e-02,  4.4331241e-02,  4.5840371e-02],\n",
       "       [-3.1672813e-02,  3.6391649e-02,  6.2261447e-03, ...,\n",
       "        -1.3952732e-02,  1.9508932e-02, -1.7855335e-02]], dtype=float32)>"
      ]
     },
     "execution_count": 58,
     "metadata": {},
     "output_type": "execute_result"
    }
   ],
   "source": [
    "embed = lstm_model.layers[0]\n",
    "embed.embeddings"
   ]
  },
  {
   "cell_type": "code",
   "execution_count": 59,
   "id": "e3e58c88",
   "metadata": {
    "tags": []
   },
   "outputs": [
    {
     "data": {
      "text/plain": [
       "(3444, 300)"
      ]
     },
     "execution_count": 59,
     "metadata": {},
     "output_type": "execute_result"
    }
   ],
   "source": [
    "X_train.shape"
   ]
  },
  {
   "cell_type": "code",
   "execution_count": 60,
   "id": "00816107",
   "metadata": {
    "tags": []
   },
   "outputs": [
    {
     "data": {
      "text/plain": [
       "array([0.6761377], dtype=float32)"
      ]
     },
     "execution_count": 60,
     "metadata": {},
     "output_type": "execute_result"
    }
   ],
   "source": [
    "lstm_output[0]"
   ]
  },
  {
   "cell_type": "code",
   "execution_count": 64,
   "id": "a572088e",
   "metadata": {
    "scrolled": true,
    "tags": []
   },
   "outputs": [
    {
     "data": {
      "text/html": [
       "<style>#sk-container-id-3 {color: black;background-color: white;}#sk-container-id-3 pre{padding: 0;}#sk-container-id-3 div.sk-toggleable {background-color: white;}#sk-container-id-3 label.sk-toggleable__label {cursor: pointer;display: block;width: 100%;margin-bottom: 0;padding: 0.3em;box-sizing: border-box;text-align: center;}#sk-container-id-3 label.sk-toggleable__label-arrow:before {content: \"▸\";float: left;margin-right: 0.25em;color: #696969;}#sk-container-id-3 label.sk-toggleable__label-arrow:hover:before {color: black;}#sk-container-id-3 div.sk-estimator:hover label.sk-toggleable__label-arrow:before {color: black;}#sk-container-id-3 div.sk-toggleable__content {max-height: 0;max-width: 0;overflow: hidden;text-align: left;background-color: #f0f8ff;}#sk-container-id-3 div.sk-toggleable__content pre {margin: 0.2em;color: black;border-radius: 0.25em;background-color: #f0f8ff;}#sk-container-id-3 input.sk-toggleable__control:checked~div.sk-toggleable__content {max-height: 200px;max-width: 100%;overflow: auto;}#sk-container-id-3 input.sk-toggleable__control:checked~label.sk-toggleable__label-arrow:before {content: \"▾\";}#sk-container-id-3 div.sk-estimator input.sk-toggleable__control:checked~label.sk-toggleable__label {background-color: #d4ebff;}#sk-container-id-3 div.sk-label input.sk-toggleable__control:checked~label.sk-toggleable__label {background-color: #d4ebff;}#sk-container-id-3 input.sk-hidden--visually {border: 0;clip: rect(1px 1px 1px 1px);clip: rect(1px, 1px, 1px, 1px);height: 1px;margin: -1px;overflow: hidden;padding: 0;position: absolute;width: 1px;}#sk-container-id-3 div.sk-estimator {font-family: monospace;background-color: #f0f8ff;border: 1px dotted black;border-radius: 0.25em;box-sizing: border-box;margin-bottom: 0.5em;}#sk-container-id-3 div.sk-estimator:hover {background-color: #d4ebff;}#sk-container-id-3 div.sk-parallel-item::after {content: \"\";width: 100%;border-bottom: 1px solid gray;flex-grow: 1;}#sk-container-id-3 div.sk-label:hover label.sk-toggleable__label {background-color: #d4ebff;}#sk-container-id-3 div.sk-serial::before {content: \"\";position: absolute;border-left: 1px solid gray;box-sizing: border-box;top: 0;bottom: 0;left: 50%;z-index: 0;}#sk-container-id-3 div.sk-serial {display: flex;flex-direction: column;align-items: center;background-color: white;padding-right: 0.2em;padding-left: 0.2em;position: relative;}#sk-container-id-3 div.sk-item {position: relative;z-index: 1;}#sk-container-id-3 div.sk-parallel {display: flex;align-items: stretch;justify-content: center;background-color: white;position: relative;}#sk-container-id-3 div.sk-item::before, #sk-container-id-3 div.sk-parallel-item::before {content: \"\";position: absolute;border-left: 1px solid gray;box-sizing: border-box;top: 0;bottom: 0;left: 50%;z-index: -1;}#sk-container-id-3 div.sk-parallel-item {display: flex;flex-direction: column;z-index: 1;position: relative;background-color: white;}#sk-container-id-3 div.sk-parallel-item:first-child::after {align-self: flex-end;width: 50%;}#sk-container-id-3 div.sk-parallel-item:last-child::after {align-self: flex-start;width: 50%;}#sk-container-id-3 div.sk-parallel-item:only-child::after {width: 0;}#sk-container-id-3 div.sk-dashed-wrapped {border: 1px dashed gray;margin: 0 0.4em 0.5em 0.4em;box-sizing: border-box;padding-bottom: 0.4em;background-color: white;}#sk-container-id-3 div.sk-label label {font-family: monospace;font-weight: bold;display: inline-block;line-height: 1.2em;}#sk-container-id-3 div.sk-label-container {text-align: center;}#sk-container-id-3 div.sk-container {/* jupyter's `normalize.less` sets `[hidden] { display: none; }` but bootstrap.min.css set `[hidden] { display: none !important; }` so we also need the `!important` here to be able to override the default hidden behavior on the sphinx rendered scikit-learn.org. See: https://github.com/scikit-learn/scikit-learn/issues/21755 */display: inline-block !important;position: relative;}#sk-container-id-3 div.sk-text-repr-fallback {display: none;}</style><div id=\"sk-container-id-3\" class=\"sk-top-container\"><div class=\"sk-text-repr-fallback\"><pre>GaussianNB()</pre><b>In a Jupyter environment, please rerun this cell to show the HTML representation or trust the notebook. <br />On GitHub, the HTML representation is unable to render, please try loading this page with nbviewer.org.</b></div><div class=\"sk-container\" hidden><div class=\"sk-item\"><div class=\"sk-estimator sk-toggleable\"><input class=\"sk-toggleable__control sk-hidden--visually\" id=\"sk-estimator-id-3\" type=\"checkbox\" checked><label for=\"sk-estimator-id-3\" class=\"sk-toggleable__label sk-toggleable__label-arrow\">GaussianNB</label><div class=\"sk-toggleable__content\"><pre>GaussianNB()</pre></div></div></div></div></div>"
      ],
      "text/plain": [
       "GaussianNB()"
      ]
     },
     "execution_count": 64,
     "metadata": {},
     "output_type": "execute_result"
    }
   ],
   "source": [
    "nb_model = naive_bayes.GaussianNB()\n",
    "nb_model.fit(lstm_output, y_train)"
   ]
  },
  {
   "cell_type": "code",
   "execution_count": 65,
   "id": "f8a267e7",
   "metadata": {
    "tags": []
   },
   "outputs": [
    {
     "name": "stdout",
     "output_type": "stream",
     "text": [
      "36/36 [==============================] - 5s 148ms/step\n"
     ]
    }
   ],
   "source": [
    "lstm_x_test = lstm_model.predict(X_test)\n",
    "mb_prediction = nb_model.predict(lstm_x_test)"
   ]
  },
  {
   "cell_type": "code",
   "execution_count": 66,
   "id": "c98dbb15",
   "metadata": {
    "tags": []
   },
   "outputs": [
    {
     "data": {
      "text/plain": [
       "array([[0.727349  ],\n",
       "       [0.2694389 ],\n",
       "       [0.00678154],\n",
       "       ...,\n",
       "       [0.89678556],\n",
       "       [0.60159755],\n",
       "       [0.5885886 ]], dtype=float32)"
      ]
     },
     "execution_count": 66,
     "metadata": {},
     "output_type": "execute_result"
    }
   ],
   "source": [
    "lstm_x_test"
   ]
  },
  {
   "cell_type": "code",
   "execution_count": 67,
   "id": "808dfc30",
   "metadata": {
    "tags": []
   },
   "outputs": [
    {
     "data": {
      "text/plain": [
       "array([1, 0, 0, ..., 1, 1, 1], dtype=int8)"
      ]
     },
     "execution_count": 67,
     "metadata": {},
     "output_type": "execute_result"
    }
   ],
   "source": [
    "mb_prediction"
   ]
  },
  {
   "cell_type": "code",
   "execution_count": 68,
   "id": "302fe9e0",
   "metadata": {
    "tags": []
   },
   "outputs": [
    {
     "name": "stdout",
     "output_type": "stream",
     "text": [
      "              precision    recall  f1-score   support\n",
      "\n",
      "           0       0.63      0.80      0.70       460\n",
      "           1       0.84      0.69      0.75       689\n",
      "\n",
      "    accuracy                           0.73      1149\n",
      "   macro avg       0.73      0.74      0.73      1149\n",
      "weighted avg       0.75      0.73      0.73      1149\n",
      "\n"
     ]
    }
   ],
   "source": [
    "upd_nb_report = metrics.classification_report(mb_prediction, y_test)\n",
    "print(upd_nb_report)"
   ]
  },
  {
   "cell_type": "code",
   "execution_count": 69,
   "id": "fb0fde6e",
   "metadata": {
    "tags": []
   },
   "outputs": [
    {
     "name": "stdout",
     "output_type": "stream",
     "text": [
      "Overall Accuracy :  0.731940818102698\n",
      "Overall Precision : 0.8371681415929203\n",
      "Overall Recall :    0.6865021770682148\n",
      "Overall F1-score :  0.7543859649122807\n"
     ]
    }
   ],
   "source": [
    "acc = metrics.accuracy_score(mb_prediction, y_test)\n",
    "prec = metrics.precision_score(mb_prediction, y_test)\n",
    "recall = metrics.recall_score(mb_prediction, y_test)\n",
    "f1 = metrics.f1_score(mb_prediction, y_test)\n",
    "\n",
    "print('Overall Accuracy :  {}'.format(acc))\n",
    "print('Overall Precision : {}'.format(prec))\n",
    "print('Overall Recall :    {}'.format(recall))\n",
    "print('Overall F1-score :  {}'.format(f1))"
   ]
  },
  {
   "cell_type": "code",
   "execution_count": null,
   "id": "5da0c4d8-78f2-4fbc-9f19-a7d724f248c6",
   "metadata": {},
   "outputs": [],
   "source": []
  },
  {
   "cell_type": "code",
   "execution_count": 70,
   "id": "034a6477-7e5d-485e-9a2e-7f066d3eb056",
   "metadata": {
    "tags": []
   },
   "outputs": [
    {
     "data": {
      "text/plain": [
       "0.8147502903600464"
      ]
     },
     "execution_count": 70,
     "metadata": {},
     "output_type": "execute_result"
    }
   ],
   "source": [
    "gd_classifir = ensemble.GradientBoostingClassifier() \n",
    "gd_model = gd_classifir.fit(lstm_output, y_train)\n",
    "gd_model.score(lstm_output, y_train)"
   ]
  }
 ],
 "metadata": {
  "kernelspec": {
   "display_name": "Python 3 (ipykernel)",
   "language": "python",
   "name": "python3"
  },
  "language_info": {
   "codemirror_mode": {
    "name": "ipython",
    "version": 3
   },
   "file_extension": ".py",
   "mimetype": "text/x-python",
   "name": "python",
   "nbconvert_exporter": "python",
   "pygments_lexer": "ipython3",
   "version": "3.9.5"
  }
 },
 "nbformat": 4,
 "nbformat_minor": 5
}
