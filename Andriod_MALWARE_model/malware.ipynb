{
 "cells": [
  {
   "cell_type": "code",
   "execution_count": 2,
   "id": "aec47f31-cbf9-4bf8-aafb-5bf7088ea448",
   "metadata": {},
   "outputs": [],
   "source": [
    "# library importation\n",
    "import pandas as pd \n",
    "import numpy as np \n",
    "import seaborn as sn \n",
    "import matplotlib.pyplot as plt\n",
    "from sklearn.model_selection import GridSearchCV\n",
    "from sklearn.svm import SVC\n",
    "from sklearn.tree import DecisionTreeClassifier, DecisionTreeRegressor\n",
    "from sklearn.ensemble import RandomForestClassifier\n",
    "from sklearn.linear_model import LogisticRegression\n",
    "import warnings \n",
    "warnings.filterwarnings('ignore')"
   ]
  },
  {
   "cell_type": "code",
   "execution_count": 3,
   "id": "6b8be246-666c-4fd6-8616-7484f9e8b552",
   "metadata": {},
   "outputs": [
    {
     "data": {
      "text/html": [
       "<div>\n",
       "<style scoped>\n",
       "    .dataframe tbody tr th:only-of-type {\n",
       "        vertical-align: middle;\n",
       "    }\n",
       "\n",
       "    .dataframe tbody tr th {\n",
       "        vertical-align: top;\n",
       "    }\n",
       "\n",
       "    .dataframe thead th {\n",
       "        text-align: right;\n",
       "    }\n",
       "</style>\n",
       "<table border=\"1\" class=\"dataframe\">\n",
       "  <thead>\n",
       "    <tr style=\"text-align: right;\">\n",
       "      <th></th>\n",
       "      <th>0</th>\n",
       "      <th>0.1</th>\n",
       "      <th>0.2</th>\n",
       "      <th>0.3</th>\n",
       "      <th>0.4</th>\n",
       "      <th>0.5</th>\n",
       "      <th>0.6</th>\n",
       "      <th>0.7</th>\n",
       "      <th>0.8</th>\n",
       "      <th>0.9</th>\n",
       "      <th>...</th>\n",
       "      <th>0.942</th>\n",
       "      <th>0.943</th>\n",
       "      <th>0.944</th>\n",
       "      <th>0.945</th>\n",
       "      <th>0.946</th>\n",
       "      <th>0.947</th>\n",
       "      <th>0.948</th>\n",
       "      <th>0.949</th>\n",
       "      <th>0.950</th>\n",
       "      <th>0.951</th>\n",
       "    </tr>\n",
       "  </thead>\n",
       "  <tbody>\n",
       "    <tr>\n",
       "      <th>0</th>\n",
       "      <td>0</td>\n",
       "      <td>0</td>\n",
       "      <td>0</td>\n",
       "      <td>0</td>\n",
       "      <td>0</td>\n",
       "      <td>0</td>\n",
       "      <td>0</td>\n",
       "      <td>0</td>\n",
       "      <td>0</td>\n",
       "      <td>0</td>\n",
       "      <td>...</td>\n",
       "      <td>1</td>\n",
       "      <td>0</td>\n",
       "      <td>0</td>\n",
       "      <td>0</td>\n",
       "      <td>0</td>\n",
       "      <td>0</td>\n",
       "      <td>0</td>\n",
       "      <td>0</td>\n",
       "      <td>0</td>\n",
       "      <td>0</td>\n",
       "    </tr>\n",
       "    <tr>\n",
       "      <th>1</th>\n",
       "      <td>0</td>\n",
       "      <td>0</td>\n",
       "      <td>0</td>\n",
       "      <td>0</td>\n",
       "      <td>0</td>\n",
       "      <td>0</td>\n",
       "      <td>0</td>\n",
       "      <td>0</td>\n",
       "      <td>0</td>\n",
       "      <td>0</td>\n",
       "      <td>...</td>\n",
       "      <td>1</td>\n",
       "      <td>0</td>\n",
       "      <td>1</td>\n",
       "      <td>0</td>\n",
       "      <td>0</td>\n",
       "      <td>0</td>\n",
       "      <td>0</td>\n",
       "      <td>0</td>\n",
       "      <td>1</td>\n",
       "      <td>1</td>\n",
       "    </tr>\n",
       "    <tr>\n",
       "      <th>2</th>\n",
       "      <td>0</td>\n",
       "      <td>0</td>\n",
       "      <td>0</td>\n",
       "      <td>0</td>\n",
       "      <td>0</td>\n",
       "      <td>0</td>\n",
       "      <td>0</td>\n",
       "      <td>0</td>\n",
       "      <td>0</td>\n",
       "      <td>0</td>\n",
       "      <td>...</td>\n",
       "      <td>1</td>\n",
       "      <td>1</td>\n",
       "      <td>1</td>\n",
       "      <td>1</td>\n",
       "      <td>1</td>\n",
       "      <td>1</td>\n",
       "      <td>1</td>\n",
       "      <td>1</td>\n",
       "      <td>1</td>\n",
       "      <td>1</td>\n",
       "    </tr>\n",
       "    <tr>\n",
       "      <th>3</th>\n",
       "      <td>0</td>\n",
       "      <td>0</td>\n",
       "      <td>0</td>\n",
       "      <td>0</td>\n",
       "      <td>0</td>\n",
       "      <td>0</td>\n",
       "      <td>0</td>\n",
       "      <td>0</td>\n",
       "      <td>0</td>\n",
       "      <td>0</td>\n",
       "      <td>...</td>\n",
       "      <td>1</td>\n",
       "      <td>1</td>\n",
       "      <td>1</td>\n",
       "      <td>1</td>\n",
       "      <td>1</td>\n",
       "      <td>1</td>\n",
       "      <td>1</td>\n",
       "      <td>1</td>\n",
       "      <td>0</td>\n",
       "      <td>1</td>\n",
       "    </tr>\n",
       "    <tr>\n",
       "      <th>4</th>\n",
       "      <td>0</td>\n",
       "      <td>0</td>\n",
       "      <td>0</td>\n",
       "      <td>0</td>\n",
       "      <td>0</td>\n",
       "      <td>0</td>\n",
       "      <td>0</td>\n",
       "      <td>0</td>\n",
       "      <td>0</td>\n",
       "      <td>0</td>\n",
       "      <td>...</td>\n",
       "      <td>1</td>\n",
       "      <td>1</td>\n",
       "      <td>1</td>\n",
       "      <td>1</td>\n",
       "      <td>1</td>\n",
       "      <td>1</td>\n",
       "      <td>1</td>\n",
       "      <td>1</td>\n",
       "      <td>1</td>\n",
       "      <td>1</td>\n",
       "    </tr>\n",
       "  </tbody>\n",
       "</table>\n",
       "<p>5 rows × 957 columns</p>\n",
       "</div>"
      ],
      "text/plain": [
       "   0  0.1  0.2  0.3  0.4  0.5  0.6  0.7  0.8  0.9  ...  0.942  0.943  0.944  \\\n",
       "0  0    0    0    0    0    0    0    0    0    0  ...      1      0      0   \n",
       "1  0    0    0    0    0    0    0    0    0    0  ...      1      0      1   \n",
       "2  0    0    0    0    0    0    0    0    0    0  ...      1      1      1   \n",
       "3  0    0    0    0    0    0    0    0    0    0  ...      1      1      1   \n",
       "4  0    0    0    0    0    0    0    0    0    0  ...      1      1      1   \n",
       "\n",
       "   0.945  0.946  0.947  0.948  0.949  0.950  0.951  \n",
       "0      0      0      0      0      0      0      0  \n",
       "1      0      0      0      0      0      1      1  \n",
       "2      1      1      1      1      1      1      1  \n",
       "3      1      1      1      1      1      0      1  \n",
       "4      1      1      1      1      1      1      1  \n",
       "\n",
       "[5 rows x 957 columns]"
      ]
     },
     "execution_count": 3,
     "metadata": {},
     "output_type": "execute_result"
    }
   ],
   "source": [
    "# importing datasets \n",
    "\n",
    "# dataset 1\n",
    "data1 = pd.read_csv('dataset1/static_features_latest_new_4gram_latest.csv')\n",
    "data2 = pd.read_csv('dataset2/drebin-215-dataset-5560malware-9476-benign.csv')\n",
    "\n",
    "data1.head()"
   ]
  },
  {
   "cell_type": "code",
   "execution_count": 4,
   "id": "9baa5bb7-fdbf-453c-ac38-a7c34e377660",
   "metadata": {},
   "outputs": [
    {
     "data": {
      "text/html": [
       "<div>\n",
       "<style scoped>\n",
       "    .dataframe tbody tr th:only-of-type {\n",
       "        vertical-align: middle;\n",
       "    }\n",
       "\n",
       "    .dataframe tbody tr th {\n",
       "        vertical-align: top;\n",
       "    }\n",
       "\n",
       "    .dataframe thead th {\n",
       "        text-align: right;\n",
       "    }\n",
       "</style>\n",
       "<table border=\"1\" class=\"dataframe\">\n",
       "  <thead>\n",
       "    <tr style=\"text-align: right;\">\n",
       "      <th></th>\n",
       "      <th>transact</th>\n",
       "      <th>onServiceConnected</th>\n",
       "      <th>bindService</th>\n",
       "      <th>attachInterface</th>\n",
       "      <th>ServiceConnection</th>\n",
       "      <th>android.os.Binder</th>\n",
       "      <th>SEND_SMS</th>\n",
       "      <th>Ljava.lang.Class.getCanonicalName</th>\n",
       "      <th>Ljava.lang.Class.getMethods</th>\n",
       "      <th>Ljava.lang.Class.cast</th>\n",
       "      <th>...</th>\n",
       "      <th>READ_CONTACTS</th>\n",
       "      <th>DEVICE_POWER</th>\n",
       "      <th>HARDWARE_TEST</th>\n",
       "      <th>ACCESS_WIFI_STATE</th>\n",
       "      <th>WRITE_EXTERNAL_STORAGE</th>\n",
       "      <th>ACCESS_FINE_LOCATION</th>\n",
       "      <th>SET_WALLPAPER_HINTS</th>\n",
       "      <th>SET_PREFERRED_APPLICATIONS</th>\n",
       "      <th>WRITE_SECURE_SETTINGS</th>\n",
       "      <th>class</th>\n",
       "    </tr>\n",
       "  </thead>\n",
       "  <tbody>\n",
       "    <tr>\n",
       "      <th>0</th>\n",
       "      <td>0</td>\n",
       "      <td>0</td>\n",
       "      <td>0</td>\n",
       "      <td>0</td>\n",
       "      <td>0</td>\n",
       "      <td>0</td>\n",
       "      <td>1</td>\n",
       "      <td>0</td>\n",
       "      <td>0</td>\n",
       "      <td>0</td>\n",
       "      <td>...</td>\n",
       "      <td>0</td>\n",
       "      <td>0</td>\n",
       "      <td>0</td>\n",
       "      <td>0</td>\n",
       "      <td>1</td>\n",
       "      <td>0</td>\n",
       "      <td>0</td>\n",
       "      <td>0</td>\n",
       "      <td>0</td>\n",
       "      <td>S</td>\n",
       "    </tr>\n",
       "    <tr>\n",
       "      <th>1</th>\n",
       "      <td>0</td>\n",
       "      <td>0</td>\n",
       "      <td>0</td>\n",
       "      <td>0</td>\n",
       "      <td>0</td>\n",
       "      <td>0</td>\n",
       "      <td>1</td>\n",
       "      <td>0</td>\n",
       "      <td>0</td>\n",
       "      <td>0</td>\n",
       "      <td>...</td>\n",
       "      <td>0</td>\n",
       "      <td>0</td>\n",
       "      <td>0</td>\n",
       "      <td>0</td>\n",
       "      <td>1</td>\n",
       "      <td>0</td>\n",
       "      <td>0</td>\n",
       "      <td>0</td>\n",
       "      <td>0</td>\n",
       "      <td>S</td>\n",
       "    </tr>\n",
       "    <tr>\n",
       "      <th>2</th>\n",
       "      <td>0</td>\n",
       "      <td>0</td>\n",
       "      <td>0</td>\n",
       "      <td>0</td>\n",
       "      <td>0</td>\n",
       "      <td>0</td>\n",
       "      <td>1</td>\n",
       "      <td>0</td>\n",
       "      <td>0</td>\n",
       "      <td>0</td>\n",
       "      <td>...</td>\n",
       "      <td>0</td>\n",
       "      <td>0</td>\n",
       "      <td>0</td>\n",
       "      <td>0</td>\n",
       "      <td>0</td>\n",
       "      <td>0</td>\n",
       "      <td>0</td>\n",
       "      <td>0</td>\n",
       "      <td>0</td>\n",
       "      <td>S</td>\n",
       "    </tr>\n",
       "  </tbody>\n",
       "</table>\n",
       "<p>3 rows × 216 columns</p>\n",
       "</div>"
      ],
      "text/plain": [
       "   transact  onServiceConnected  bindService  attachInterface  \\\n",
       "0         0                   0            0                0   \n",
       "1         0                   0            0                0   \n",
       "2         0                   0            0                0   \n",
       "\n",
       "   ServiceConnection  android.os.Binder  SEND_SMS  \\\n",
       "0                  0                  0         1   \n",
       "1                  0                  0         1   \n",
       "2                  0                  0         1   \n",
       "\n",
       "   Ljava.lang.Class.getCanonicalName  Ljava.lang.Class.getMethods  \\\n",
       "0                                  0                            0   \n",
       "1                                  0                            0   \n",
       "2                                  0                            0   \n",
       "\n",
       "   Ljava.lang.Class.cast  ...  READ_CONTACTS  DEVICE_POWER  HARDWARE_TEST  \\\n",
       "0                      0  ...              0             0              0   \n",
       "1                      0  ...              0             0              0   \n",
       "2                      0  ...              0             0              0   \n",
       "\n",
       "   ACCESS_WIFI_STATE  WRITE_EXTERNAL_STORAGE  ACCESS_FINE_LOCATION  \\\n",
       "0                  0                       1                     0   \n",
       "1                  0                       1                     0   \n",
       "2                  0                       0                     0   \n",
       "\n",
       "   SET_WALLPAPER_HINTS  SET_PREFERRED_APPLICATIONS  WRITE_SECURE_SETTINGS  \\\n",
       "0                    0                           0                      0   \n",
       "1                    0                           0                      0   \n",
       "2                    0                           0                      0   \n",
       "\n",
       "   class  \n",
       "0      S  \n",
       "1      S  \n",
       "2      S  \n",
       "\n",
       "[3 rows x 216 columns]"
      ]
     },
     "execution_count": 4,
     "metadata": {},
     "output_type": "execute_result"
    }
   ],
   "source": [
    "data2.head(3)"
   ]
  },
  {
   "cell_type": "markdown",
   "id": "a03fcf4a-ebf6-4f17-bf9e-9c156e3a0562",
   "metadata": {},
   "source": [
    "#### Data Exploration"
   ]
  },
  {
   "cell_type": "code",
   "execution_count": 5,
   "id": "f63aa824-8cc9-47b3-acc2-89ccb235c1ae",
   "metadata": {},
   "outputs": [
    {
     "name": "stdout",
     "output_type": "stream",
     "text": [
      "Dataset 1 --> Samples: 2927 Features: 957\n",
      "Dataset 2 --> Samples: 15036 Features: 216\n"
     ]
    }
   ],
   "source": [
    "print('Dataset 1 --> Samples:', data1.shape[0], 'Features:', data1.shape[1])\n",
    "print('Dataset 2 --> Samples:', data2.shape[0], 'Features:', data2.shape[1])"
   ]
  },
  {
   "cell_type": "markdown",
   "id": "7dc5e1a4-2cc6-4492-bcd4-40df0e3eaf3d",
   "metadata": {},
   "source": [
    "#### dataset 1"
   ]
  },
  {
   "cell_type": "code",
   "execution_count": 6,
   "id": "a16a6e21-f52c-44af-aeb5-911f4a03df38",
   "metadata": {},
   "outputs": [
    {
     "name": "stdout",
     "output_type": "stream",
     "text": [
      "numbers of duplicate :  6865\n"
     ]
    }
   ],
   "source": [
    "print('numbers of duplicate : ', data2.duplicated().sum())"
   ]
  },
  {
   "cell_type": "code",
   "execution_count": 7,
   "id": "56e8b5c7-a366-45bb-b6a5-f83d778f4d83",
   "metadata": {},
   "outputs": [
    {
     "name": "stdout",
     "output_type": "stream",
     "text": [
      "empty list shows all data are numberic in nature\n"
     ]
    },
    {
     "data": {
      "text/plain": [
       "[]"
      ]
     },
     "execution_count": 7,
     "metadata": {},
     "output_type": "execute_result"
    }
   ],
   "source": [
    "col_list1 = []\n",
    "for col in data1: \n",
    "    if (data1[col].dtype==np.object_) :\n",
    "        col_list1.append(col)\n",
    "        \n",
    "print('empty list shows all data are numberic in nature')\n",
    "col_list1"
   ]
  },
  {
   "cell_type": "code",
   "execution_count": 8,
   "id": "17f9ce27-f50f-443e-9bb9-fa99d90321d4",
   "metadata": {},
   "outputs": [
    {
     "data": {
      "text/plain": [
       "Index(['0', '0.1', '0.2', '0.3', '0.4', '0.5', '0.6', '0.7', '0.8', '0.9',\n",
       "       ...\n",
       "       '0.942', '0.943', '0.944', '0.945', '0.946', '0.947', '0.948', '0.949',\n",
       "       '0.950', '0.951'],\n",
       "      dtype='object', length=957)"
      ]
     },
     "execution_count": 8,
     "metadata": {},
     "output_type": "execute_result"
    }
   ],
   "source": [
    "data1.columns"
   ]
  },
  {
   "cell_type": "code",
   "execution_count": 9,
   "id": "f758d9dc-a31c-43d6-bcfc-e720ca400bc4",
   "metadata": {},
   "outputs": [
    {
     "data": {
      "text/plain": [
       "<Axes: >"
      ]
     },
     "execution_count": 9,
     "metadata": {},
     "output_type": "execute_result"
    },
    {
     "data": {
      "image/png": "[encoded data removed]",
      "text/plain": [
       "<Figure size 640x480 with 1 Axes>"
      ]
     },
     "metadata": {},
     "output_type": "display_data"
    }
   ],
   "source": [
    "sn.set()\n",
    "data1.isnull().sum().plot()"
   ]
  },
  {
   "cell_type": "code",
   "execution_count": null,
   "id": "0b1b5b64-0aba-4d97-8041-f7780999ab95",
   "metadata": {},
   "outputs": [],
   "source": []
  },
  {
   "cell_type": "code",
   "execution_count": 11,
   "id": "016002d1-6838-403a-9ca1-cadafe1b1da4",
   "metadata": {},
   "outputs": [
    {
     "name": "stdout",
     "output_type": "stream",
     "text": [
      "0.951\n",
      "1    2063\n",
      "0     864\n",
      "Name: count, dtype: int64\n"
     ]
    },
    {
     "data": {
      "image/png": "[encoded data removed]",
      "text/plain": [
       "<Figure size 640x480 with 1 Axes>"
      ]
     },
     "metadata": {},
     "output_type": "display_data"
    }
   ],
   "source": [
    "print(data1[data1.columns[-1]].value_counts())\n",
    "data1[data1.columns[-1]].value_counts().plot(kind='pie',shadow=True,  autopct='%.2f', labels=['Malicious', 'Non-Malicious'])\n",
    "plt.title('Prediction Sample Label Distribution')\n",
    "plt.show()\n"
   ]
  },
  {
   "cell_type": "code",
   "execution_count": null,
   "id": "b4fb0b18-6d93-4e95-a643-195180ea48f9",
   "metadata": {},
   "outputs": [],
   "source": [
    "#=================== dataset 1 observation =============\n",
    "# 1. highly imbalance (SMOTE data balacing is required..)\n",
    "# 2. there is duplicate (removal of duplicate is required) \n",
    "# 3. no empty value \n",
    "\n"
   ]
  },
  {
   "cell_type": "markdown",
   "id": "effadf6e-5ba1-4398-b354-3198bfc2d1c4",
   "metadata": {},
   "source": [
    "#### dataset 2"
   ]
  },
  {
   "cell_type": "code",
   "execution_count": 13,
   "id": "2b1719e2-9c47-4dc9-a7e1-4e38f3179f17",
   "metadata": {},
   "outputs": [
    {
     "data": {
      "text/html": [
       "<div>\n",
       "<style scoped>\n",
       "    .dataframe tbody tr th:only-of-type {\n",
       "        vertical-align: middle;\n",
       "    }\n",
       "\n",
       "    .dataframe tbody tr th {\n",
       "        vertical-align: top;\n",
       "    }\n",
       "\n",
       "    .dataframe thead th {\n",
       "        text-align: right;\n",
       "    }\n",
       "</style>\n",
       "<table border=\"1\" class=\"dataframe\">\n",
       "  <thead>\n",
       "    <tr style=\"text-align: right;\">\n",
       "      <th></th>\n",
       "      <th>transact</th>\n",
       "      <th>onServiceConnected</th>\n",
       "      <th>bindService</th>\n",
       "      <th>attachInterface</th>\n",
       "      <th>ServiceConnection</th>\n",
       "    </tr>\n",
       "  </thead>\n",
       "  <tbody>\n",
       "    <tr>\n",
       "      <th>0</th>\n",
       "      <td>0</td>\n",
       "      <td>0</td>\n",
       "      <td>0</td>\n",
       "      <td>0</td>\n",
       "      <td>0</td>\n",
       "    </tr>\n",
       "    <tr>\n",
       "      <th>1</th>\n",
       "      <td>0</td>\n",
       "      <td>0</td>\n",
       "      <td>0</td>\n",
       "      <td>0</td>\n",
       "      <td>0</td>\n",
       "    </tr>\n",
       "    <tr>\n",
       "      <th>2</th>\n",
       "      <td>0</td>\n",
       "      <td>0</td>\n",
       "      <td>0</td>\n",
       "      <td>0</td>\n",
       "      <td>0</td>\n",
       "    </tr>\n",
       "  </tbody>\n",
       "</table>\n",
       "</div>"
      ],
      "text/plain": [
       "   transact  onServiceConnected  bindService  attachInterface  \\\n",
       "0         0                   0            0                0   \n",
       "1         0                   0            0                0   \n",
       "2         0                   0            0                0   \n",
       "\n",
       "   ServiceConnection  \n",
       "0                  0  \n",
       "1                  0  \n",
       "2                  0  "
      ]
     },
     "execution_count": 13,
     "metadata": {},
     "output_type": "execute_result"
    }
   ],
   "source": [
    "# data2.corr()\n",
    "data2[data2.columns[:5]].head(3)"
   ]
  },
  {
   "cell_type": "code",
   "execution_count": 14,
   "id": "e722ea22-868f-4502-bed5-dd7b6869d915",
   "metadata": {},
   "outputs": [
    {
     "data": {
      "text/plain": [
       "['TelephonyManager.getSimCountryIso', 'class']"
      ]
     },
     "execution_count": 14,
     "metadata": {},
     "output_type": "execute_result"
    }
   ],
   "source": [
    "col_list = []\n",
    "for col in data2: \n",
    "    if (data2[col].dtype==np.object_) :\n",
    "        col_list.append(col)\n",
    "        \n",
    "col_list"
   ]
  },
  {
   "cell_type": "code",
   "execution_count": 16,
   "id": "a913fc64-6bab-418e-a283-e629fb2cb001",
   "metadata": {},
   "outputs": [
    {
     "name": "stdout",
     "output_type": "stream",
     "text": [
      "<class 'pandas.core.frame.DataFrame'>\n",
      "RangeIndex: 15036 entries, 0 to 15035\n",
      "Data columns (total 2 columns):\n",
      " #   Column                             Non-Null Count  Dtype \n",
      "---  ------                             --------------  ----- \n",
      " 0   TelephonyManager.getSimCountryIso  15036 non-null  object\n",
      " 1   class                              15036 non-null  object\n",
      "dtypes: object(2)\n",
      "memory usage: 235.1+ KB\n"
     ]
    }
   ],
   "source": [
    "data2[col_list].info()"
   ]
  },
  {
   "cell_type": "code",
   "execution_count": 17,
   "id": "a2fa3c08-cf75-4261-b2eb-3cbe1ae8bcf5",
   "metadata": {},
   "outputs": [
    {
     "data": {
      "text/html": [
       "<div>\n",
       "<style scoped>\n",
       "    .dataframe tbody tr th:only-of-type {\n",
       "        vertical-align: middle;\n",
       "    }\n",
       "\n",
       "    .dataframe tbody tr th {\n",
       "        vertical-align: top;\n",
       "    }\n",
       "\n",
       "    .dataframe thead th {\n",
       "        text-align: right;\n",
       "    }\n",
       "</style>\n",
       "<table border=\"1\" class=\"dataframe\">\n",
       "  <thead>\n",
       "    <tr style=\"text-align: right;\">\n",
       "      <th></th>\n",
       "      <th>TelephonyManager.getSimCountryIso</th>\n",
       "      <th>class</th>\n",
       "    </tr>\n",
       "  </thead>\n",
       "  <tbody>\n",
       "    <tr>\n",
       "      <th>0</th>\n",
       "      <td>0</td>\n",
       "      <td>S</td>\n",
       "    </tr>\n",
       "    <tr>\n",
       "      <th>1</th>\n",
       "      <td>0</td>\n",
       "      <td>S</td>\n",
       "    </tr>\n",
       "    <tr>\n",
       "      <th>2</th>\n",
       "      <td>0</td>\n",
       "      <td>S</td>\n",
       "    </tr>\n",
       "  </tbody>\n",
       "</table>\n",
       "</div>"
      ],
      "text/plain": [
       "  TelephonyManager.getSimCountryIso class\n",
       "0                                 0     S\n",
       "1                                 0     S\n",
       "2                                 0     S"
      ]
     },
     "execution_count": 17,
     "metadata": {},
     "output_type": "execute_result"
    }
   ],
   "source": [
    "data2[col_list].head(3)"
   ]
  },
  {
   "cell_type": "code",
   "execution_count": 18,
   "id": "bc1546e0-dad9-41c9-8f02-8b372e481c6f",
   "metadata": {},
   "outputs": [
    {
     "data": {
      "text/plain": [
       "'0'"
      ]
     },
     "execution_count": 18,
     "metadata": {},
     "output_type": "execute_result"
    }
   ],
   "source": [
    "data2[col_list[0]][0]"
   ]
  },
  {
   "cell_type": "code",
   "execution_count": 19,
   "id": "d4be4452-f3ef-4feb-a5ff-f39873dbe0dc",
   "metadata": {},
   "outputs": [
    {
     "data": {
      "text/plain": [
       "class\n",
       "B    9476\n",
       "S    5560\n",
       "Name: count, dtype: int64"
      ]
     },
     "execution_count": 19,
     "metadata": {},
     "output_type": "execute_result"
    }
   ],
   "source": [
    "data2['class'].value_counts()"
   ]
  },
  {
   "cell_type": "code",
   "execution_count": 170,
   "id": "c0fec114-3e2b-4dd9-b2d4-e4a31e6f19bb",
   "metadata": {},
   "outputs": [
    {
     "data": {
      "image/png": "[encoded data removed]",
      "text/plain": [
       "<Figure size 500x300 with 1 Axes>"
      ]
     },
     "metadata": {},
     "output_type": "display_data"
    }
   ],
   "source": [
    "sn.set()\n",
    "plt.figure(figsize=(5,3))\n",
    "data2['class'].value_counts().plot(kind='bar', color=['r', 'g'])\n",
    "plt.title('Dataset Two Sample')\n",
    "plt.ylabel('Value Count')\n",
    "plt.show()"
   ]
  },
  {
   "cell_type": "code",
   "execution_count": 23,
   "id": "e354601b-7b1e-4c37-9e3d-c01b59b4857d",
   "metadata": {},
   "outputs": [
    {
     "data": {
      "text/plain": [
       "['TelephonyManager.getSimCountryIso']"
      ]
     },
     "execution_count": 23,
     "metadata": {},
     "output_type": "execute_result"
    }
   ],
   "source": [
    "# checking for columns with more that two unique values\n",
    "mul_val_list = []\n",
    "for col in data2.columns: \n",
    "    if len(data2[col].unique()) > 2:\n",
    "        mul_val_list.append(col)\n",
    "\n",
    "mul_val_list"
   ]
  },
  {
   "cell_type": "code",
   "execution_count": 24,
   "id": "0b442cc2-4773-4759-bc58-98785e725693",
   "metadata": {},
   "outputs": [
    {
     "data": {
      "text/plain": [
       "array(['0', '1', '?', 1, 0], dtype=object)"
      ]
     },
     "execution_count": 24,
     "metadata": {},
     "output_type": "execute_result"
    }
   ],
   "source": [
    "data2['TelephonyManager.getSimCountryIso'].unique()"
   ]
  },
  {
   "cell_type": "code",
   "execution_count": 25,
   "id": "d8ce4f65-ad4a-4ebf-9ec7-91a19b441685",
   "metadata": {},
   "outputs": [
    {
     "data": {
      "text/plain": [
       "transact                      0\n",
       "onServiceConnected            0\n",
       "bindService                   0\n",
       "attachInterface               0\n",
       "ServiceConnection             0\n",
       "                             ..\n",
       "ACCESS_FINE_LOCATION          0\n",
       "SET_WALLPAPER_HINTS           0\n",
       "SET_PREFERRED_APPLICATIONS    0\n",
       "WRITE_SECURE_SETTINGS         0\n",
       "class                         0\n",
       "Length: 216, dtype: int64"
      ]
     },
     "execution_count": 25,
     "metadata": {},
     "output_type": "execute_result"
    }
   ],
   "source": [
    "data2.isnull().sum()"
   ]
  },
  {
   "cell_type": "code",
   "execution_count": 26,
   "id": "1a122f14-5174-4799-a647-ac8dc2bb78b6",
   "metadata": {},
   "outputs": [
    {
     "data": {
      "text/plain": [
       "6865"
      ]
     },
     "execution_count": 26,
     "metadata": {},
     "output_type": "execute_result"
    }
   ],
   "source": [
    "data2.duplicated().sum()"
   ]
  },
  {
   "cell_type": "code",
   "execution_count": 31,
   "id": "71cfccd8-87f4-489d-a9e5-71d6865abcd2",
   "metadata": {},
   "outputs": [
    {
     "data": {
      "text/html": [
       "<div>\n",
       "<style scoped>\n",
       "    .dataframe tbody tr th:only-of-type {\n",
       "        vertical-align: middle;\n",
       "    }\n",
       "\n",
       "    .dataframe tbody tr th {\n",
       "        vertical-align: top;\n",
       "    }\n",
       "\n",
       "    .dataframe thead th {\n",
       "        text-align: right;\n",
       "    }\n",
       "</style>\n",
       "<table border=\"1\" class=\"dataframe\">\n",
       "  <thead>\n",
       "    <tr style=\"text-align: right;\">\n",
       "      <th></th>\n",
       "      <th>transact</th>\n",
       "      <th>onServiceConnected</th>\n",
       "      <th>bindService</th>\n",
       "      <th>attachInterface</th>\n",
       "      <th>ServiceConnection</th>\n",
       "      <th>android.os.Binder</th>\n",
       "      <th>SEND_SMS</th>\n",
       "      <th>Ljava.lang.Class.getCanonicalName</th>\n",
       "      <th>Ljava.lang.Class.getMethods</th>\n",
       "      <th>Ljava.lang.Class.cast</th>\n",
       "      <th>...</th>\n",
       "      <th>SET_ORIENTATION</th>\n",
       "      <th>READ_CONTACTS</th>\n",
       "      <th>DEVICE_POWER</th>\n",
       "      <th>HARDWARE_TEST</th>\n",
       "      <th>ACCESS_WIFI_STATE</th>\n",
       "      <th>WRITE_EXTERNAL_STORAGE</th>\n",
       "      <th>ACCESS_FINE_LOCATION</th>\n",
       "      <th>SET_WALLPAPER_HINTS</th>\n",
       "      <th>SET_PREFERRED_APPLICATIONS</th>\n",
       "      <th>WRITE_SECURE_SETTINGS</th>\n",
       "    </tr>\n",
       "  </thead>\n",
       "  <tbody>\n",
       "    <tr>\n",
       "      <th>transact</th>\n",
       "      <td>1.000000</td>\n",
       "      <td>0.810812</td>\n",
       "      <td>0.816442</td>\n",
       "      <td>0.963364</td>\n",
       "      <td>0.813181</td>\n",
       "      <td>0.881938</td>\n",
       "      <td>-0.274731</td>\n",
       "      <td>0.656768</td>\n",
       "      <td>0.587103</td>\n",
       "      <td>0.613781</td>\n",
       "      <td>...</td>\n",
       "      <td>-0.005148</td>\n",
       "      <td>0.068374</td>\n",
       "      <td>-0.003832</td>\n",
       "      <td>-0.021260</td>\n",
       "      <td>0.210113</td>\n",
       "      <td>0.244306</td>\n",
       "      <td>0.121453</td>\n",
       "      <td>-0.008323</td>\n",
       "      <td>-0.005148</td>\n",
       "      <td>-0.000828</td>\n",
       "    </tr>\n",
       "    <tr>\n",
       "      <th>onServiceConnected</th>\n",
       "      <td>0.810812</td>\n",
       "      <td>1.000000</td>\n",
       "      <td>0.983198</td>\n",
       "      <td>0.783617</td>\n",
       "      <td>0.984796</td>\n",
       "      <td>0.842693</td>\n",
       "      <td>-0.324517</td>\n",
       "      <td>0.644763</td>\n",
       "      <td>0.596667</td>\n",
       "      <td>0.593651</td>\n",
       "      <td>...</td>\n",
       "      <td>0.044229</td>\n",
       "      <td>0.059576</td>\n",
       "      <td>-0.002053</td>\n",
       "      <td>-0.023800</td>\n",
       "      <td>0.193199</td>\n",
       "      <td>0.257267</td>\n",
       "      <td>0.126678</td>\n",
       "      <td>-0.018780</td>\n",
       "      <td>-0.002141</td>\n",
       "      <td>0.007813</td>\n",
       "    </tr>\n",
       "    <tr>\n",
       "      <th>bindService</th>\n",
       "      <td>0.816442</td>\n",
       "      <td>0.983198</td>\n",
       "      <td>1.000000</td>\n",
       "      <td>0.791208</td>\n",
       "      <td>0.994622</td>\n",
       "      <td>0.848719</td>\n",
       "      <td>-0.321665</td>\n",
       "      <td>0.649462</td>\n",
       "      <td>0.599769</td>\n",
       "      <td>0.595746</td>\n",
       "      <td>...</td>\n",
       "      <td>0.043333</td>\n",
       "      <td>0.062403</td>\n",
       "      <td>0.001044</td>\n",
       "      <td>-0.023304</td>\n",
       "      <td>0.197051</td>\n",
       "      <td>0.258431</td>\n",
       "      <td>0.128311</td>\n",
       "      <td>-0.017788</td>\n",
       "      <td>-0.001477</td>\n",
       "      <td>0.008242</td>\n",
       "    </tr>\n",
       "    <tr>\n",
       "      <th>attachInterface</th>\n",
       "      <td>0.963364</td>\n",
       "      <td>0.783617</td>\n",
       "      <td>0.791208</td>\n",
       "      <td>1.000000</td>\n",
       "      <td>0.787798</td>\n",
       "      <td>0.861441</td>\n",
       "      <td>-0.263826</td>\n",
       "      <td>0.642650</td>\n",
       "      <td>0.580424</td>\n",
       "      <td>0.608945</td>\n",
       "      <td>...</td>\n",
       "      <td>-0.004520</td>\n",
       "      <td>0.065935</td>\n",
       "      <td>-0.001301</td>\n",
       "      <td>-0.021670</td>\n",
       "      <td>0.213878</td>\n",
       "      <td>0.232359</td>\n",
       "      <td>0.119865</td>\n",
       "      <td>-0.011382</td>\n",
       "      <td>-0.002906</td>\n",
       "      <td>0.005000</td>\n",
       "    </tr>\n",
       "    <tr>\n",
       "      <th>ServiceConnection</th>\n",
       "      <td>0.813181</td>\n",
       "      <td>0.984796</td>\n",
       "      <td>0.994622</td>\n",
       "      <td>0.787798</td>\n",
       "      <td>1.000000</td>\n",
       "      <td>0.848134</td>\n",
       "      <td>-0.322458</td>\n",
       "      <td>0.646782</td>\n",
       "      <td>0.599281</td>\n",
       "      <td>0.594103</td>\n",
       "      <td>...</td>\n",
       "      <td>0.042927</td>\n",
       "      <td>0.063658</td>\n",
       "      <td>-0.001608</td>\n",
       "      <td>-0.023590</td>\n",
       "      <td>0.195932</td>\n",
       "      <td>0.257263</td>\n",
       "      <td>0.132108</td>\n",
       "      <td>-0.018360</td>\n",
       "      <td>-0.001860</td>\n",
       "      <td>0.006604</td>\n",
       "    </tr>\n",
       "    <tr>\n",
       "      <th>...</th>\n",
       "      <td>...</td>\n",
       "      <td>...</td>\n",
       "      <td>...</td>\n",
       "      <td>...</td>\n",
       "      <td>...</td>\n",
       "      <td>...</td>\n",
       "      <td>...</td>\n",
       "      <td>...</td>\n",
       "      <td>...</td>\n",
       "      <td>...</td>\n",
       "      <td>...</td>\n",
       "      <td>...</td>\n",
       "      <td>...</td>\n",
       "      <td>...</td>\n",
       "      <td>...</td>\n",
       "      <td>...</td>\n",
       "      <td>...</td>\n",
       "      <td>...</td>\n",
       "      <td>...</td>\n",
       "      <td>...</td>\n",
       "      <td>...</td>\n",
       "    </tr>\n",
       "    <tr>\n",
       "      <th>WRITE_EXTERNAL_STORAGE</th>\n",
       "      <td>0.244306</td>\n",
       "      <td>0.257267</td>\n",
       "      <td>0.258431</td>\n",
       "      <td>0.232359</td>\n",
       "      <td>0.257263</td>\n",
       "      <td>0.232556</td>\n",
       "      <td>0.008592</td>\n",
       "      <td>0.294834</td>\n",
       "      <td>0.247363</td>\n",
       "      <td>0.252565</td>\n",
       "      <td>...</td>\n",
       "      <td>0.027626</td>\n",
       "      <td>0.116440</td>\n",
       "      <td>-0.001646</td>\n",
       "      <td>-0.038196</td>\n",
       "      <td>0.279620</td>\n",
       "      <td>1.000000</td>\n",
       "      <td>0.248422</td>\n",
       "      <td>0.047683</td>\n",
       "      <td>0.004028</td>\n",
       "      <td>0.037904</td>\n",
       "    </tr>\n",
       "    <tr>\n",
       "      <th>ACCESS_FINE_LOCATION</th>\n",
       "      <td>0.121453</td>\n",
       "      <td>0.126678</td>\n",
       "      <td>0.128311</td>\n",
       "      <td>0.119865</td>\n",
       "      <td>0.132108</td>\n",
       "      <td>0.102486</td>\n",
       "      <td>-0.008198</td>\n",
       "      <td>0.199319</td>\n",
       "      <td>0.196201</td>\n",
       "      <td>0.203792</td>\n",
       "      <td>...</td>\n",
       "      <td>0.070313</td>\n",
       "      <td>0.195201</td>\n",
       "      <td>0.018804</td>\n",
       "      <td>0.018865</td>\n",
       "      <td>0.216044</td>\n",
       "      <td>0.248422</td>\n",
       "      <td>1.000000</td>\n",
       "      <td>0.025548</td>\n",
       "      <td>0.040558</td>\n",
       "      <td>0.053991</td>\n",
       "    </tr>\n",
       "    <tr>\n",
       "      <th>SET_WALLPAPER_HINTS</th>\n",
       "      <td>-0.008323</td>\n",
       "      <td>-0.018780</td>\n",
       "      <td>-0.017788</td>\n",
       "      <td>-0.011382</td>\n",
       "      <td>-0.018360</td>\n",
       "      <td>-0.021553</td>\n",
       "      <td>0.016163</td>\n",
       "      <td>0.010440</td>\n",
       "      <td>0.042286</td>\n",
       "      <td>-0.008377</td>\n",
       "      <td>...</td>\n",
       "      <td>0.001905</td>\n",
       "      <td>0.142462</td>\n",
       "      <td>-0.000807</td>\n",
       "      <td>0.016059</td>\n",
       "      <td>0.009940</td>\n",
       "      <td>0.047683</td>\n",
       "      <td>0.025548</td>\n",
       "      <td>1.000000</td>\n",
       "      <td>0.058873</td>\n",
       "      <td>-0.020024</td>\n",
       "    </tr>\n",
       "    <tr>\n",
       "      <th>SET_PREFERRED_APPLICATIONS</th>\n",
       "      <td>-0.005148</td>\n",
       "      <td>-0.002141</td>\n",
       "      <td>-0.001477</td>\n",
       "      <td>-0.002906</td>\n",
       "      <td>-0.001860</td>\n",
       "      <td>-0.015285</td>\n",
       "      <td>-0.011377</td>\n",
       "      <td>-0.035590</td>\n",
       "      <td>-0.001648</td>\n",
       "      <td>-0.025952</td>\n",
       "      <td>...</td>\n",
       "      <td>0.002401</td>\n",
       "      <td>0.041856</td>\n",
       "      <td>0.013079</td>\n",
       "      <td>0.006701</td>\n",
       "      <td>0.040013</td>\n",
       "      <td>0.004028</td>\n",
       "      <td>0.040558</td>\n",
       "      <td>0.058873</td>\n",
       "      <td>1.000000</td>\n",
       "      <td>0.085295</td>\n",
       "    </tr>\n",
       "    <tr>\n",
       "      <th>WRITE_SECURE_SETTINGS</th>\n",
       "      <td>-0.000828</td>\n",
       "      <td>0.007813</td>\n",
       "      <td>0.008242</td>\n",
       "      <td>0.005000</td>\n",
       "      <td>0.006604</td>\n",
       "      <td>0.000550</td>\n",
       "      <td>0.108017</td>\n",
       "      <td>-0.054999</td>\n",
       "      <td>-0.070511</td>\n",
       "      <td>-0.042448</td>\n",
       "      <td>...</td>\n",
       "      <td>-0.006773</td>\n",
       "      <td>0.205114</td>\n",
       "      <td>0.186963</td>\n",
       "      <td>0.163296</td>\n",
       "      <td>0.095397</td>\n",
       "      <td>0.037904</td>\n",
       "      <td>0.053991</td>\n",
       "      <td>-0.020024</td>\n",
       "      <td>0.085295</td>\n",
       "      <td>1.000000</td>\n",
       "    </tr>\n",
       "  </tbody>\n",
       "</table>\n",
       "<p>214 rows × 214 columns</p>\n",
       "</div>"
      ],
      "text/plain": [
       "                            transact  onServiceConnected  bindService  \\\n",
       "transact                    1.000000            0.810812     0.816442   \n",
       "onServiceConnected          0.810812            1.000000     0.983198   \n",
       "bindService                 0.816442            0.983198     1.000000   \n",
       "attachInterface             0.963364            0.783617     0.791208   \n",
       "ServiceConnection           0.813181            0.984796     0.994622   \n",
       "...                              ...                 ...          ...   \n",
       "WRITE_EXTERNAL_STORAGE      0.244306            0.257267     0.258431   \n",
       "ACCESS_FINE_LOCATION        0.121453            0.126678     0.128311   \n",
       "SET_WALLPAPER_HINTS        -0.008323           -0.018780    -0.017788   \n",
       "SET_PREFERRED_APPLICATIONS -0.005148           -0.002141    -0.001477   \n",
       "WRITE_SECURE_SETTINGS      -0.000828            0.007813     0.008242   \n",
       "\n",
       "                            attachInterface  ServiceConnection  \\\n",
       "transact                           0.963364           0.813181   \n",
       "onServiceConnected                 0.783617           0.984796   \n",
       "bindService                        0.791208           0.994622   \n",
       "attachInterface                    1.000000           0.787798   \n",
       "ServiceConnection                  0.787798           1.000000   \n",
       "...                                     ...                ...   \n",
       "WRITE_EXTERNAL_STORAGE             0.232359           0.257263   \n",
       "ACCESS_FINE_LOCATION               0.119865           0.132108   \n",
       "SET_WALLPAPER_HINTS               -0.011382          -0.018360   \n",
       "SET_PREFERRED_APPLICATIONS        -0.002906          -0.001860   \n",
       "WRITE_SECURE_SETTINGS              0.005000           0.006604   \n",
       "\n",
       "                            android.os.Binder  SEND_SMS  \\\n",
       "transact                             0.881938 -0.274731   \n",
       "onServiceConnected                   0.842693 -0.324517   \n",
       "bindService                          0.848719 -0.321665   \n",
       "attachInterface                      0.861441 -0.263826   \n",
       "ServiceConnection                    0.848134 -0.322458   \n",
       "...                                       ...       ...   \n",
       "WRITE_EXTERNAL_STORAGE               0.232556  0.008592   \n",
       "ACCESS_FINE_LOCATION                 0.102486 -0.008198   \n",
       "SET_WALLPAPER_HINTS                 -0.021553  0.016163   \n",
       "SET_PREFERRED_APPLICATIONS          -0.015285 -0.011377   \n",
       "WRITE_SECURE_SETTINGS                0.000550  0.108017   \n",
       "\n",
       "                            Ljava.lang.Class.getCanonicalName  \\\n",
       "transact                                             0.656768   \n",
       "onServiceConnected                                   0.644763   \n",
       "bindService                                          0.649462   \n",
       "attachInterface                                      0.642650   \n",
       "ServiceConnection                                    0.646782   \n",
       "...                                                       ...   \n",
       "WRITE_EXTERNAL_STORAGE                               0.294834   \n",
       "ACCESS_FINE_LOCATION                                 0.199319   \n",
       "SET_WALLPAPER_HINTS                                  0.010440   \n",
       "SET_PREFERRED_APPLICATIONS                          -0.035590   \n",
       "WRITE_SECURE_SETTINGS                               -0.054999   \n",
       "\n",
       "                            Ljava.lang.Class.getMethods  \\\n",
       "transact                                       0.587103   \n",
       "onServiceConnected                             0.596667   \n",
       "bindService                                    0.599769   \n",
       "attachInterface                                0.580424   \n",
       "ServiceConnection                              0.599281   \n",
       "...                                                 ...   \n",
       "WRITE_EXTERNAL_STORAGE                         0.247363   \n",
       "ACCESS_FINE_LOCATION                           0.196201   \n",
       "SET_WALLPAPER_HINTS                            0.042286   \n",
       "SET_PREFERRED_APPLICATIONS                    -0.001648   \n",
       "WRITE_SECURE_SETTINGS                         -0.070511   \n",
       "\n",
       "                            Ljava.lang.Class.cast  ...  SET_ORIENTATION  \\\n",
       "transact                                 0.613781  ...        -0.005148   \n",
       "onServiceConnected                       0.593651  ...         0.044229   \n",
       "bindService                              0.595746  ...         0.043333   \n",
       "attachInterface                          0.608945  ...        -0.004520   \n",
       "ServiceConnection                        0.594103  ...         0.042927   \n",
       "...                                           ...  ...              ...   \n",
       "WRITE_EXTERNAL_STORAGE                   0.252565  ...         0.027626   \n",
       "ACCESS_FINE_LOCATION                     0.203792  ...         0.070313   \n",
       "SET_WALLPAPER_HINTS                     -0.008377  ...         0.001905   \n",
       "SET_PREFERRED_APPLICATIONS              -0.025952  ...         0.002401   \n",
       "WRITE_SECURE_SETTINGS                   -0.042448  ...        -0.006773   \n",
       "\n",
       "                            READ_CONTACTS  DEVICE_POWER  HARDWARE_TEST  \\\n",
       "transact                         0.068374     -0.003832      -0.021260   \n",
       "onServiceConnected               0.059576     -0.002053      -0.023800   \n",
       "bindService                      0.062403      0.001044      -0.023304   \n",
       "attachInterface                  0.065935     -0.001301      -0.021670   \n",
       "ServiceConnection                0.063658     -0.001608      -0.023590   \n",
       "...                                   ...           ...            ...   \n",
       "WRITE_EXTERNAL_STORAGE           0.116440     -0.001646      -0.038196   \n",
       "ACCESS_FINE_LOCATION             0.195201      0.018804       0.018865   \n",
       "SET_WALLPAPER_HINTS              0.142462     -0.000807       0.016059   \n",
       "SET_PREFERRED_APPLICATIONS       0.041856      0.013079       0.006701   \n",
       "WRITE_SECURE_SETTINGS            0.205114      0.186963       0.163296   \n",
       "\n",
       "                            ACCESS_WIFI_STATE  WRITE_EXTERNAL_STORAGE  \\\n",
       "transact                             0.210113                0.244306   \n",
       "onServiceConnected                   0.193199                0.257267   \n",
       "bindService                          0.197051                0.258431   \n",
       "attachInterface                      0.213878                0.232359   \n",
       "ServiceConnection                    0.195932                0.257263   \n",
       "...                                       ...                     ...   \n",
       "WRITE_EXTERNAL_STORAGE               0.279620                1.000000   \n",
       "ACCESS_FINE_LOCATION                 0.216044                0.248422   \n",
       "SET_WALLPAPER_HINTS                  0.009940                0.047683   \n",
       "SET_PREFERRED_APPLICATIONS           0.040013                0.004028   \n",
       "WRITE_SECURE_SETTINGS                0.095397                0.037904   \n",
       "\n",
       "                            ACCESS_FINE_LOCATION  SET_WALLPAPER_HINTS  \\\n",
       "transact                                0.121453            -0.008323   \n",
       "onServiceConnected                      0.126678            -0.018780   \n",
       "bindService                             0.128311            -0.017788   \n",
       "attachInterface                         0.119865            -0.011382   \n",
       "ServiceConnection                       0.132108            -0.018360   \n",
       "...                                          ...                  ...   \n",
       "WRITE_EXTERNAL_STORAGE                  0.248422             0.047683   \n",
       "ACCESS_FINE_LOCATION                    1.000000             0.025548   \n",
       "SET_WALLPAPER_HINTS                     0.025548             1.000000   \n",
       "SET_PREFERRED_APPLICATIONS              0.040558             0.058873   \n",
       "WRITE_SECURE_SETTINGS                   0.053991            -0.020024   \n",
       "\n",
       "                            SET_PREFERRED_APPLICATIONS  WRITE_SECURE_SETTINGS  \n",
       "transact                                     -0.005148              -0.000828  \n",
       "onServiceConnected                           -0.002141               0.007813  \n",
       "bindService                                  -0.001477               0.008242  \n",
       "attachInterface                              -0.002906               0.005000  \n",
       "ServiceConnection                            -0.001860               0.006604  \n",
       "...                                                ...                    ...  \n",
       "WRITE_EXTERNAL_STORAGE                        0.004028               0.037904  \n",
       "ACCESS_FINE_LOCATION                          0.040558               0.053991  \n",
       "SET_WALLPAPER_HINTS                           0.058873              -0.020024  \n",
       "SET_PREFERRED_APPLICATIONS                    1.000000               0.085295  \n",
       "WRITE_SECURE_SETTINGS                         0.085295               1.000000  \n",
       "\n",
       "[214 rows x 214 columns]"
      ]
     },
     "execution_count": 31,
     "metadata": {},
     "output_type": "execute_result"
    }
   ],
   "source": [
    "data2.drop(columns=col_list).corr()"
   ]
  },
  {
   "cell_type": "code",
   "execution_count": null,
   "id": "66183e05-2b41-4dd1-b0b7-29d8159ba9f8",
   "metadata": {},
   "outputs": [],
   "source": [
    "# ================  dataset 2 observation =================\n",
    "# 1. high dimentinal data (dimentionality reduction techniques)\n",
    "# 2. the dataset contain duplicate values... (removal of duplicate is needed )\n",
    "# 3. datast is not balance ... data balacing is reqired\n",
    "# 4. data contain inconsitent value and incorrect format.. data transfromation is needed"
   ]
  },
  {
   "cell_type": "markdown",
   "id": "fc28150a-61c4-4e1a-86ca-3b7f621f17ed",
   "metadata": {},
   "source": [
    "#### DATA preprocessing "
   ]
  },
  {
   "cell_type": "code",
   "execution_count": 32,
   "id": "07f1660d-2ac5-4ee5-894b-bbd6dfb2acb5",
   "metadata": {},
   "outputs": [],
   "source": [
    "from imblearn.over_sampling import SMOTE"
   ]
  },
  {
   "cell_type": "code",
   "execution_count": 33,
   "id": "19a757d1-c224-410b-ab32-de607382326c",
   "metadata": {},
   "outputs": [
    {
     "name": "stdout",
     "output_type": "stream",
     "text": [
      "duplicate removed\n"
     ]
    }
   ],
   "source": [
    "# removing duplicates\n",
    "data1.drop_duplicates(inplace=True)\n",
    "data2.drop_duplicates(inplace=True)\n",
    "print('duplicate removed')"
   ]
  },
  {
   "cell_type": "code",
   "execution_count": 34,
   "id": "0fe745b8-691c-4545-9913-508a47fc6bb5",
   "metadata": {},
   "outputs": [
    {
     "name": "stdout",
     "output_type": "stream",
     "text": [
      "Dataset 1:  0\n",
      "Dataset 2:  0\n"
     ]
    }
   ],
   "source": [
    "print('Dataset 1: ', data1.duplicated().sum())\n",
    "print('Dataset 2: ', data2.duplicated().sum())"
   ]
  },
  {
   "cell_type": "code",
   "execution_count": 49,
   "id": "e42e0d07-1622-4d70-8ead-c9eda1f8791b",
   "metadata": {},
   "outputs": [
    {
     "data": {
      "text/plain": [
       "'0.951'"
      ]
     },
     "execution_count": 49,
     "metadata": {},
     "output_type": "execute_result"
    }
   ],
   "source": [
    "last_col"
   ]
  },
  {
   "cell_type": "code",
   "execution_count": 50,
   "id": "f679bc3c-57c9-475e-9872-857578f21b81",
   "metadata": {},
   "outputs": [],
   "source": [
    "# extract X, y \n",
    "last_col  = data1.columns[-1]\n",
    "X1 = data1.drop(columns=[last_col])\n",
    "y1 = data1[last_col]"
   ]
  },
  {
   "cell_type": "code",
   "execution_count": 51,
   "id": "70bec2e7-0757-4670-80a6-2e0d4302ebe9",
   "metadata": {},
   "outputs": [
    {
     "data": {
      "text/html": [
       "<div>\n",
       "<style scoped>\n",
       "    .dataframe tbody tr th:only-of-type {\n",
       "        vertical-align: middle;\n",
       "    }\n",
       "\n",
       "    .dataframe tbody tr th {\n",
       "        vertical-align: top;\n",
       "    }\n",
       "\n",
       "    .dataframe thead th {\n",
       "        text-align: right;\n",
       "    }\n",
       "</style>\n",
       "<table border=\"1\" class=\"dataframe\">\n",
       "  <thead>\n",
       "    <tr style=\"text-align: right;\">\n",
       "      <th></th>\n",
       "      <th>0</th>\n",
       "      <th>0.1</th>\n",
       "      <th>0.2</th>\n",
       "      <th>0.3</th>\n",
       "      <th>0.4</th>\n",
       "      <th>0.5</th>\n",
       "      <th>0.6</th>\n",
       "      <th>0.7</th>\n",
       "      <th>0.8</th>\n",
       "      <th>0.9</th>\n",
       "      <th>...</th>\n",
       "      <th>0.941</th>\n",
       "      <th>0.942</th>\n",
       "      <th>0.943</th>\n",
       "      <th>0.944</th>\n",
       "      <th>0.945</th>\n",
       "      <th>0.946</th>\n",
       "      <th>0.947</th>\n",
       "      <th>0.948</th>\n",
       "      <th>0.949</th>\n",
       "      <th>0.950</th>\n",
       "    </tr>\n",
       "  </thead>\n",
       "  <tbody>\n",
       "    <tr>\n",
       "      <th>0</th>\n",
       "      <td>0</td>\n",
       "      <td>0</td>\n",
       "      <td>0</td>\n",
       "      <td>0</td>\n",
       "      <td>0</td>\n",
       "      <td>0</td>\n",
       "      <td>0</td>\n",
       "      <td>0</td>\n",
       "      <td>0</td>\n",
       "      <td>0</td>\n",
       "      <td>...</td>\n",
       "      <td>0</td>\n",
       "      <td>1</td>\n",
       "      <td>0</td>\n",
       "      <td>0</td>\n",
       "      <td>0</td>\n",
       "      <td>0</td>\n",
       "      <td>0</td>\n",
       "      <td>0</td>\n",
       "      <td>0</td>\n",
       "      <td>0</td>\n",
       "    </tr>\n",
       "    <tr>\n",
       "      <th>1</th>\n",
       "      <td>0</td>\n",
       "      <td>0</td>\n",
       "      <td>0</td>\n",
       "      <td>0</td>\n",
       "      <td>0</td>\n",
       "      <td>0</td>\n",
       "      <td>0</td>\n",
       "      <td>0</td>\n",
       "      <td>0</td>\n",
       "      <td>0</td>\n",
       "      <td>...</td>\n",
       "      <td>1</td>\n",
       "      <td>1</td>\n",
       "      <td>0</td>\n",
       "      <td>1</td>\n",
       "      <td>0</td>\n",
       "      <td>0</td>\n",
       "      <td>0</td>\n",
       "      <td>0</td>\n",
       "      <td>0</td>\n",
       "      <td>1</td>\n",
       "    </tr>\n",
       "  </tbody>\n",
       "</table>\n",
       "<p>2 rows × 956 columns</p>\n",
       "</div>"
      ],
      "text/plain": [
       "   0  0.1  0.2  0.3  0.4  0.5  0.6  0.7  0.8  0.9  ...  0.941  0.942  0.943  \\\n",
       "0  0    0    0    0    0    0    0    0    0    0  ...      0      1      0   \n",
       "1  0    0    0    0    0    0    0    0    0    0  ...      1      1      0   \n",
       "\n",
       "   0.944  0.945  0.946  0.947  0.948  0.949  0.950  \n",
       "0      0      0      0      0      0      0      0  \n",
       "1      1      0      0      0      0      0      1  \n",
       "\n",
       "[2 rows x 956 columns]"
      ]
     },
     "execution_count": 51,
     "metadata": {},
     "output_type": "execute_result"
    }
   ],
   "source": [
    "X1.head(2)"
   ]
  },
  {
   "cell_type": "code",
   "execution_count": 53,
   "id": "ac3a39a5-19b3-4690-8e43-9b0ab3be4d55",
   "metadata": {},
   "outputs": [
    {
     "data": {
      "text/plain": [
       "array([0, 1], dtype=int64)"
      ]
     },
     "execution_count": 53,
     "metadata": {},
     "output_type": "execute_result"
    }
   ],
   "source": [
    "# checking the number of classification class \n",
    "y1.unique()"
   ]
  },
  {
   "cell_type": "code",
   "execution_count": 52,
   "id": "21dd51a1-eb62-44df-82ea-ced2cb4a14e2",
   "metadata": {},
   "outputs": [
    {
     "data": {
      "text/plain": [
       "0    0\n",
       "1    1\n",
       "2    1\n",
       "Name: 0.951, dtype: int64"
      ]
     },
     "execution_count": 52,
     "metadata": {},
     "output_type": "execute_result"
    }
   ],
   "source": [
    "y1.head(3)"
   ]
  },
  {
   "cell_type": "code",
   "execution_count": 36,
   "id": "3b73e712-33a3-4835-af57-6d2f37aa7bc8",
   "metadata": {},
   "outputs": [
    {
     "data": {
      "text/plain": [
       "array(['0', '1', '?', 1, 0], dtype=object)"
      ]
     },
     "execution_count": 36,
     "metadata": {},
     "output_type": "execute_result"
    }
   ],
   "source": [
    "# removal of incosistence data value and label encode data from dataset 2\n",
    "data2[col_list[0]].unique()"
   ]
  },
  {
   "cell_type": "code",
   "execution_count": 37,
   "id": "6ffa8ad7-84e1-4891-97f0-2b53d6817234",
   "metadata": {},
   "outputs": [
    {
     "data": {
      "text/html": [
       "<div>\n",
       "<style scoped>\n",
       "    .dataframe tbody tr th:only-of-type {\n",
       "        vertical-align: middle;\n",
       "    }\n",
       "\n",
       "    .dataframe tbody tr th {\n",
       "        vertical-align: top;\n",
       "    }\n",
       "\n",
       "    .dataframe thead th {\n",
       "        text-align: right;\n",
       "    }\n",
       "</style>\n",
       "<table border=\"1\" class=\"dataframe\">\n",
       "  <thead>\n",
       "    <tr style=\"text-align: right;\">\n",
       "      <th></th>\n",
       "      <th>transact</th>\n",
       "      <th>onServiceConnected</th>\n",
       "      <th>bindService</th>\n",
       "      <th>attachInterface</th>\n",
       "      <th>ServiceConnection</th>\n",
       "      <th>android.os.Binder</th>\n",
       "      <th>SEND_SMS</th>\n",
       "      <th>Ljava.lang.Class.getCanonicalName</th>\n",
       "      <th>Ljava.lang.Class.getMethods</th>\n",
       "      <th>Ljava.lang.Class.cast</th>\n",
       "      <th>...</th>\n",
       "      <th>READ_CONTACTS</th>\n",
       "      <th>DEVICE_POWER</th>\n",
       "      <th>HARDWARE_TEST</th>\n",
       "      <th>ACCESS_WIFI_STATE</th>\n",
       "      <th>WRITE_EXTERNAL_STORAGE</th>\n",
       "      <th>ACCESS_FINE_LOCATION</th>\n",
       "      <th>SET_WALLPAPER_HINTS</th>\n",
       "      <th>SET_PREFERRED_APPLICATIONS</th>\n",
       "      <th>WRITE_SECURE_SETTINGS</th>\n",
       "      <th>class</th>\n",
       "    </tr>\n",
       "  </thead>\n",
       "  <tbody>\n",
       "    <tr>\n",
       "      <th>176</th>\n",
       "      <td>0</td>\n",
       "      <td>0</td>\n",
       "      <td>0</td>\n",
       "      <td>0</td>\n",
       "      <td>0</td>\n",
       "      <td>0</td>\n",
       "      <td>0</td>\n",
       "      <td>0</td>\n",
       "      <td>0</td>\n",
       "      <td>0</td>\n",
       "      <td>...</td>\n",
       "      <td>0</td>\n",
       "      <td>0</td>\n",
       "      <td>0</td>\n",
       "      <td>0</td>\n",
       "      <td>0</td>\n",
       "      <td>0</td>\n",
       "      <td>0</td>\n",
       "      <td>0</td>\n",
       "      <td>0</td>\n",
       "      <td>S</td>\n",
       "    </tr>\n",
       "    <tr>\n",
       "      <th>2109</th>\n",
       "      <td>0</td>\n",
       "      <td>0</td>\n",
       "      <td>0</td>\n",
       "      <td>0</td>\n",
       "      <td>0</td>\n",
       "      <td>0</td>\n",
       "      <td>0</td>\n",
       "      <td>0</td>\n",
       "      <td>0</td>\n",
       "      <td>0</td>\n",
       "      <td>...</td>\n",
       "      <td>0</td>\n",
       "      <td>0</td>\n",
       "      <td>0</td>\n",
       "      <td>0</td>\n",
       "      <td>0</td>\n",
       "      <td>0</td>\n",
       "      <td>0</td>\n",
       "      <td>0</td>\n",
       "      <td>0</td>\n",
       "      <td>S</td>\n",
       "    </tr>\n",
       "  </tbody>\n",
       "</table>\n",
       "<p>2 rows × 216 columns</p>\n",
       "</div>"
      ],
      "text/plain": [
       "      transact  onServiceConnected  bindService  attachInterface  \\\n",
       "176          0                   0            0                0   \n",
       "2109         0                   0            0                0   \n",
       "\n",
       "      ServiceConnection  android.os.Binder  SEND_SMS  \\\n",
       "176                   0                  0         0   \n",
       "2109                  0                  0         0   \n",
       "\n",
       "      Ljava.lang.Class.getCanonicalName  Ljava.lang.Class.getMethods  \\\n",
       "176                                   0                            0   \n",
       "2109                                  0                            0   \n",
       "\n",
       "      Ljava.lang.Class.cast  ...  READ_CONTACTS  DEVICE_POWER  HARDWARE_TEST  \\\n",
       "176                       0  ...              0             0              0   \n",
       "2109                      0  ...              0             0              0   \n",
       "\n",
       "      ACCESS_WIFI_STATE  WRITE_EXTERNAL_STORAGE  ACCESS_FINE_LOCATION  \\\n",
       "176                   0                       0                     0   \n",
       "2109                  0                       0                     0   \n",
       "\n",
       "      SET_WALLPAPER_HINTS  SET_PREFERRED_APPLICATIONS  WRITE_SECURE_SETTINGS  \\\n",
       "176                     0                           0                      0   \n",
       "2109                    0                           0                      0   \n",
       "\n",
       "      class  \n",
       "176       S  \n",
       "2109      S  \n",
       "\n",
       "[2 rows x 216 columns]"
      ]
     },
     "execution_count": 37,
     "metadata": {},
     "output_type": "execute_result"
    }
   ],
   "source": [
    "data2[data2[col_list[0]] == '?']"
   ]
  },
  {
   "cell_type": "code",
   "execution_count": 38,
   "id": "1a619386-64c4-4a51-8e50-0e98ba2503c9",
   "metadata": {},
   "outputs": [
    {
     "data": {
      "text/plain": [
       "(8171, 216)"
      ]
     },
     "execution_count": 38,
     "metadata": {},
     "output_type": "execute_result"
    }
   ],
   "source": [
    "data2.shape"
   ]
  },
  {
   "cell_type": "code",
   "execution_count": 39,
   "id": "95f4e515-9bfa-4568-937c-eb51d2c9ddfc",
   "metadata": {},
   "outputs": [
    {
     "data": {
      "text/plain": [
       "(8169, 216)"
      ]
     },
     "execution_count": 39,
     "metadata": {},
     "output_type": "execute_result"
    }
   ],
   "source": [
    "data2 = data2[data2[col_list[0]] != '?']\n",
    "data2.shape"
   ]
  },
  {
   "cell_type": "code",
   "execution_count": null,
   "id": "0b68121d-5c94-4ddf-8de8-60747ded902f",
   "metadata": {},
   "outputs": [],
   "source": []
  },
  {
   "cell_type": "code",
   "execution_count": 40,
   "id": "3e862c9b-0f6f-463d-aebb-5b7e13e0bab9",
   "metadata": {},
   "outputs": [
    {
     "data": {
      "text/plain": [
       "dtype('int32')"
      ]
     },
     "execution_count": 40,
     "metadata": {},
     "output_type": "execute_result"
    }
   ],
   "source": [
    "# transforming the column into int value \n",
    "data2['TelephonyManager.getSimCountryIso'] = pd.to_numeric(data2['TelephonyManager.getSimCountryIso']).astype('int32')\n",
    "data2['TelephonyManager.getSimCountryIso'].dtype"
   ]
  },
  {
   "cell_type": "code",
   "execution_count": 41,
   "id": "b2dec7a4-3539-4909-b473-e1af01c69878",
   "metadata": {},
   "outputs": [
    {
     "data": {
      "text/plain": [
       "CategoricalDtype(categories=['B', 'S'], ordered=False, categories_dtype=object)"
      ]
     },
     "execution_count": 41,
     "metadata": {},
     "output_type": "execute_result"
    }
   ],
   "source": [
    "data2['class'] = data2['class'].astype('category')\n",
    "data2['class'].dtype"
   ]
  },
  {
   "cell_type": "code",
   "execution_count": 42,
   "id": "c082e6f4-f4fc-4122-986a-f15870dbdb9f",
   "metadata": {},
   "outputs": [
    {
     "name": "stdout",
     "output_type": "stream",
     "text": [
      "<class 'pandas.core.frame.DataFrame'>\n",
      "Index: 8169 entries, 0 to 15033\n",
      "Data columns (total 2 columns):\n",
      " #   Column                             Non-Null Count  Dtype\n",
      "---  ------                             --------------  -----\n",
      " 0   TelephonyManager.getSimCountryIso  8169 non-null   int32\n",
      " 1   class                              8169 non-null   int8 \n",
      "dtypes: int32(1), int8(1)\n",
      "memory usage: 103.7 KB\n"
     ]
    }
   ],
   "source": [
    "data2['class'] = data2['class'].cat.codes\n",
    "data2[col_list].info()"
   ]
  },
  {
   "cell_type": "code",
   "execution_count": 43,
   "id": "8066f1ec-1aff-4b54-a697-72384124655f",
   "metadata": {},
   "outputs": [
    {
     "data": {
      "text/html": [
       "<div>\n",
       "<style scoped>\n",
       "    .dataframe tbody tr th:only-of-type {\n",
       "        vertical-align: middle;\n",
       "    }\n",
       "\n",
       "    .dataframe tbody tr th {\n",
       "        vertical-align: top;\n",
       "    }\n",
       "\n",
       "    .dataframe thead th {\n",
       "        text-align: right;\n",
       "    }\n",
       "</style>\n",
       "<table border=\"1\" class=\"dataframe\">\n",
       "  <thead>\n",
       "    <tr style=\"text-align: right;\">\n",
       "      <th></th>\n",
       "      <th>transact</th>\n",
       "      <th>onServiceConnected</th>\n",
       "      <th>bindService</th>\n",
       "      <th>attachInterface</th>\n",
       "      <th>ServiceConnection</th>\n",
       "      <th>android.os.Binder</th>\n",
       "      <th>SEND_SMS</th>\n",
       "      <th>Ljava.lang.Class.getCanonicalName</th>\n",
       "      <th>Ljava.lang.Class.getMethods</th>\n",
       "      <th>Ljava.lang.Class.cast</th>\n",
       "      <th>...</th>\n",
       "      <th>SET_ORIENTATION</th>\n",
       "      <th>READ_CONTACTS</th>\n",
       "      <th>DEVICE_POWER</th>\n",
       "      <th>HARDWARE_TEST</th>\n",
       "      <th>ACCESS_WIFI_STATE</th>\n",
       "      <th>WRITE_EXTERNAL_STORAGE</th>\n",
       "      <th>ACCESS_FINE_LOCATION</th>\n",
       "      <th>SET_WALLPAPER_HINTS</th>\n",
       "      <th>SET_PREFERRED_APPLICATIONS</th>\n",
       "      <th>WRITE_SECURE_SETTINGS</th>\n",
       "    </tr>\n",
       "  </thead>\n",
       "  <tbody>\n",
       "    <tr>\n",
       "      <th>764</th>\n",
       "      <td>0</td>\n",
       "      <td>0</td>\n",
       "      <td>0</td>\n",
       "      <td>0</td>\n",
       "      <td>0</td>\n",
       "      <td>0</td>\n",
       "      <td>0</td>\n",
       "      <td>0</td>\n",
       "      <td>0</td>\n",
       "      <td>0</td>\n",
       "      <td>...</td>\n",
       "      <td>0</td>\n",
       "      <td>0</td>\n",
       "      <td>0</td>\n",
       "      <td>0</td>\n",
       "      <td>1</td>\n",
       "      <td>1</td>\n",
       "      <td>0</td>\n",
       "      <td>0</td>\n",
       "      <td>0</td>\n",
       "      <td>0</td>\n",
       "    </tr>\n",
       "    <tr>\n",
       "      <th>1873</th>\n",
       "      <td>0</td>\n",
       "      <td>0</td>\n",
       "      <td>0</td>\n",
       "      <td>0</td>\n",
       "      <td>0</td>\n",
       "      <td>0</td>\n",
       "      <td>0</td>\n",
       "      <td>0</td>\n",
       "      <td>0</td>\n",
       "      <td>0</td>\n",
       "      <td>...</td>\n",
       "      <td>0</td>\n",
       "      <td>0</td>\n",
       "      <td>0</td>\n",
       "      <td>0</td>\n",
       "      <td>1</td>\n",
       "      <td>1</td>\n",
       "      <td>0</td>\n",
       "      <td>0</td>\n",
       "      <td>0</td>\n",
       "      <td>0</td>\n",
       "    </tr>\n",
       "  </tbody>\n",
       "</table>\n",
       "<p>2 rows × 215 columns</p>\n",
       "</div>"
      ],
      "text/plain": [
       "      transact  onServiceConnected  bindService  attachInterface  \\\n",
       "764          0                   0            0                0   \n",
       "1873         0                   0            0                0   \n",
       "\n",
       "      ServiceConnection  android.os.Binder  SEND_SMS  \\\n",
       "764                   0                  0         0   \n",
       "1873                  0                  0         0   \n",
       "\n",
       "      Ljava.lang.Class.getCanonicalName  Ljava.lang.Class.getMethods  \\\n",
       "764                                   0                            0   \n",
       "1873                                  0                            0   \n",
       "\n",
       "      Ljava.lang.Class.cast  ...  SET_ORIENTATION  READ_CONTACTS  \\\n",
       "764                       0  ...                0              0   \n",
       "1873                      0  ...                0              0   \n",
       "\n",
       "      DEVICE_POWER  HARDWARE_TEST  ACCESS_WIFI_STATE  WRITE_EXTERNAL_STORAGE  \\\n",
       "764              0              0                  1                       1   \n",
       "1873             0              0                  1                       1   \n",
       "\n",
       "      ACCESS_FINE_LOCATION  SET_WALLPAPER_HINTS  SET_PREFERRED_APPLICATIONS  \\\n",
       "764                      0                    0                           0   \n",
       "1873                     0                    0                           0   \n",
       "\n",
       "      WRITE_SECURE_SETTINGS  \n",
       "764                       0  \n",
       "1873                      0  \n",
       "\n",
       "[2 rows x 215 columns]"
      ]
     },
     "execution_count": 43,
     "metadata": {},
     "output_type": "execute_result"
    }
   ],
   "source": [
    "X2 = data2.drop(columns=['class'])\n",
    "y2 = data2['class']\n",
    "\n",
    "X2.sample(2)"
   ]
  },
  {
   "cell_type": "code",
   "execution_count": 44,
   "id": "1d0923e5-9160-44cc-9975-96edd3aaa7a7",
   "metadata": {},
   "outputs": [
    {
     "data": {
      "text/plain": [
       "296     1\n",
       "8446    0\n",
       "4474    1\n",
       "4841    1\n",
       "1541    1\n",
       "Name: class, dtype: int8"
      ]
     },
     "execution_count": 44,
     "metadata": {},
     "output_type": "execute_result"
    }
   ],
   "source": [
    "y2.sample(5)"
   ]
  },
  {
   "cell_type": "code",
   "execution_count": null,
   "id": "9156c412-1ad2-49d1-bb7a-f7bb759e20fb",
   "metadata": {},
   "outputs": [],
   "source": []
  },
  {
   "cell_type": "code",
   "execution_count": 45,
   "id": "f31b30f8-1a6e-4981-890c-0800be3ad28c",
   "metadata": {},
   "outputs": [
    {
     "data": {
      "text/plain": [
       "array([1, 0], dtype=int8)"
      ]
     },
     "execution_count": 45,
     "metadata": {},
     "output_type": "execute_result"
    }
   ],
   "source": [
    "data2[col_list[1]].unique()"
   ]
  },
  {
   "cell_type": "markdown",
   "id": "952faaf8-7f24-4ceb-addb-8eaef4955830",
   "metadata": {},
   "source": [
    "#### Creating a Balacing Version of the Dataset "
   ]
  },
  {
   "cell_type": "code",
   "execution_count": 68,
   "id": "21d90e1d-29e5-4bab-a3b4-dfbb39e7bd58",
   "metadata": {},
   "outputs": [],
   "source": [
    "# dataset 1 & 2 \n",
    "\n",
    "smote = SMOTE()\n",
    "X1_res, y1_res = smote.fit_resample(X1, y1)\n",
    "X2_res, y2_res = smote.fit_resample(X2, y2)"
   ]
  },
  {
   "cell_type": "code",
   "execution_count": 69,
   "id": "67c05ef4-5e33-4e12-8f6a-6f740f3dce3c",
   "metadata": {},
   "outputs": [
    {
     "data": {
      "image/png": "[encoded data removed]",
      "text/plain": [
       "<Figure size 500x300 with 1 Axes>"
      ]
     },
     "metadata": {},
     "output_type": "display_data"
    }
   ],
   "source": [
    "plt.figure(figsize=(5,3))\n",
    "plt.title('Balanced Version of the Dataset 1')\n",
    "y1_res.value_counts().plot(kind='bar', color=['brown', 'green'])\n",
    "plt.ylabel('Sample Count')\n",
    "plt.xlabel('Classes')\n",
    "plt.show()"
   ]
  },
  {
   "cell_type": "code",
   "execution_count": 70,
   "id": "0c6cc68b-eeb8-458e-b200-e59ef43705dc",
   "metadata": {},
   "outputs": [
    {
     "data": {
      "image/png": "[encoded data removed]",
      "text/plain": [
       "<Figure size 500x300 with 1 Axes>"
      ]
     },
     "metadata": {},
     "output_type": "display_data"
    }
   ],
   "source": [
    "plt.figure(figsize=(5,3))\n",
    "plt.title('Balanced Version of the Dataset 2')\n",
    "y2_res.value_counts().plot(kind='bar', color=['cyan', 'black'])\n",
    "plt.ylabel('Sample Count')\n",
    "plt.xlabel('Classes')\n",
    "plt.show()"
   ]
  },
  {
   "cell_type": "code",
   "execution_count": null,
   "id": "7fb5841d-3517-4140-b560-82c0a4a3d80d",
   "metadata": {},
   "outputs": [],
   "source": []
  },
  {
   "cell_type": "code",
   "execution_count": null,
   "id": "2e3c31e8-33e5-48b5-bc12-74f52c15b211",
   "metadata": {},
   "outputs": [],
   "source": [
    "#### MODEL DEVELOPEMENT (NB, BN, SVM, LR, RT,DT, CART)"
   ]
  },
  {
   "cell_type": "code",
   "execution_count": 76,
   "id": "e5a809e2-04e1-45f1-8a2f-071785651674",
   "metadata": {},
   "outputs": [],
   "source": [
    "from sklearn.model_selection import GridSearchCV\n",
    "from sklearn.svm import SVC\n",
    "from sklearn.tree import DecisionTreeClassifier, DecisionTreeRegressor\n",
    "from sklearn.ensemble import RandomForestClassifier\n",
    "from sklearn.linear_model import LogisticRegression"
   ]
  },
  {
   "cell_type": "code",
   "execution_count": 81,
   "id": "919d9f53-e2cc-4ff1-a95e-42eea6122530",
   "metadata": {},
   "outputs": [
    {
     "data": {
      "text/html": [
       "<div>\n",
       "<style scoped>\n",
       "    .dataframe tbody tr th:only-of-type {\n",
       "        vertical-align: middle;\n",
       "    }\n",
       "\n",
       "    .dataframe tbody tr th {\n",
       "        vertical-align: top;\n",
       "    }\n",
       "\n",
       "    .dataframe thead th {\n",
       "        text-align: right;\n",
       "    }\n",
       "</style>\n",
       "<table border=\"1\" class=\"dataframe\">\n",
       "  <thead>\n",
       "    <tr style=\"text-align: right;\">\n",
       "      <th></th>\n",
       "      <th>param_C</th>\n",
       "      <th>param_kernel</th>\n",
       "      <th>mean_test_score</th>\n",
       "    </tr>\n",
       "  </thead>\n",
       "  <tbody>\n",
       "    <tr>\n",
       "      <th>0</th>\n",
       "      <td>1</td>\n",
       "      <td>rbf</td>\n",
       "      <td>0.906667</td>\n",
       "    </tr>\n",
       "    <tr>\n",
       "      <th>1</th>\n",
       "      <td>1</td>\n",
       "      <td>linear</td>\n",
       "      <td>0.940000</td>\n",
       "    </tr>\n",
       "    <tr>\n",
       "      <th>2</th>\n",
       "      <td>10</td>\n",
       "      <td>rbf</td>\n",
       "      <td>0.938485</td>\n",
       "    </tr>\n",
       "    <tr>\n",
       "      <th>3</th>\n",
       "      <td>10</td>\n",
       "      <td>linear</td>\n",
       "      <td>0.930303</td>\n",
       "    </tr>\n",
       "    <tr>\n",
       "      <th>4</th>\n",
       "      <td>20</td>\n",
       "      <td>rbf</td>\n",
       "      <td>0.947879</td>\n",
       "    </tr>\n",
       "    <tr>\n",
       "      <th>5</th>\n",
       "      <td>20</td>\n",
       "      <td>linear</td>\n",
       "      <td>0.930303</td>\n",
       "    </tr>\n",
       "  </tbody>\n",
       "</table>\n",
       "</div>"
      ],
      "text/plain": [
       "  param_C param_kernel  mean_test_score\n",
       "0       1          rbf         0.906667\n",
       "1       1       linear         0.940000\n",
       "2      10          rbf         0.938485\n",
       "3      10       linear         0.930303\n",
       "4      20          rbf         0.947879\n",
       "5      20       linear         0.930303"
      ]
     },
     "execution_count": 81,
     "metadata": {},
     "output_type": "execute_result"
    }
   ],
   "source": [
    "# implementing grid search CV .\n",
    "# SVM. \n",
    "gridsvm = GridSearchCV(SVC(gamma='auto'), {'C': [1,10, 20], 'kernel':['rbf', 'linear'] }, cv=5, return_train_score=False)\n",
    "gridsvm.fit(X1_res, y1_res)\n",
    "svm_data1 = pd.DataFrame(gridsvm.cv_results_)\n",
    "svm_data1[['param_C','param_kernel', 'mean_test_score']]"
   ]
  },
  {
   "cell_type": "code",
   "execution_count": 82,
   "id": "9edce89d-087d-4b3e-8c77-1de7bdae6532",
   "metadata": {},
   "outputs": [
    {
     "data": {
      "text/html": [
       "<div>\n",
       "<style scoped>\n",
       "    .dataframe tbody tr th:only-of-type {\n",
       "        vertical-align: middle;\n",
       "    }\n",
       "\n",
       "    .dataframe tbody tr th {\n",
       "        vertical-align: top;\n",
       "    }\n",
       "\n",
       "    .dataframe thead th {\n",
       "        text-align: right;\n",
       "    }\n",
       "</style>\n",
       "<table border=\"1\" class=\"dataframe\">\n",
       "  <thead>\n",
       "    <tr style=\"text-align: right;\">\n",
       "      <th></th>\n",
       "      <th>mean_fit_time</th>\n",
       "      <th>std_fit_time</th>\n",
       "      <th>mean_score_time</th>\n",
       "      <th>std_score_time</th>\n",
       "      <th>param_C</th>\n",
       "      <th>param_kernel</th>\n",
       "      <th>params</th>\n",
       "      <th>split0_test_score</th>\n",
       "      <th>split1_test_score</th>\n",
       "      <th>split2_test_score</th>\n",
       "      <th>split3_test_score</th>\n",
       "      <th>split4_test_score</th>\n",
       "      <th>mean_test_score</th>\n",
       "      <th>std_test_score</th>\n",
       "      <th>rank_test_score</th>\n",
       "    </tr>\n",
       "  </thead>\n",
       "  <tbody>\n",
       "    <tr>\n",
       "      <th>0</th>\n",
       "      <td>3.170913</td>\n",
       "      <td>0.790120</td>\n",
       "      <td>0.768198</td>\n",
       "      <td>0.056605</td>\n",
       "      <td>1</td>\n",
       "      <td>rbf</td>\n",
       "      <td>{'C': 1, 'kernel': 'rbf'}</td>\n",
       "      <td>0.928788</td>\n",
       "      <td>0.930303</td>\n",
       "      <td>0.930303</td>\n",
       "      <td>0.875758</td>\n",
       "      <td>0.868182</td>\n",
       "      <td>0.906667</td>\n",
       "      <td>0.028436</td>\n",
       "      <td>6</td>\n",
       "    </tr>\n",
       "    <tr>\n",
       "      <th>1</th>\n",
       "      <td>1.398611</td>\n",
       "      <td>0.030949</td>\n",
       "      <td>0.127796</td>\n",
       "      <td>0.019431</td>\n",
       "      <td>1</td>\n",
       "      <td>linear</td>\n",
       "      <td>{'C': 1, 'kernel': 'linear'}</td>\n",
       "      <td>0.918182</td>\n",
       "      <td>0.943939</td>\n",
       "      <td>0.968182</td>\n",
       "      <td>0.943939</td>\n",
       "      <td>0.925758</td>\n",
       "      <td>0.940000</td>\n",
       "      <td>0.017344</td>\n",
       "      <td>2</td>\n",
       "    </tr>\n",
       "    <tr>\n",
       "      <th>2</th>\n",
       "      <td>2.229497</td>\n",
       "      <td>0.226875</td>\n",
       "      <td>0.574634</td>\n",
       "      <td>0.081794</td>\n",
       "      <td>10</td>\n",
       "      <td>rbf</td>\n",
       "      <td>{'C': 10, 'kernel': 'rbf'}</td>\n",
       "      <td>0.950000</td>\n",
       "      <td>0.950000</td>\n",
       "      <td>0.962121</td>\n",
       "      <td>0.921212</td>\n",
       "      <td>0.909091</td>\n",
       "      <td>0.938485</td>\n",
       "      <td>0.019931</td>\n",
       "      <td>3</td>\n",
       "    </tr>\n",
       "    <tr>\n",
       "      <th>3</th>\n",
       "      <td>1.438883</td>\n",
       "      <td>0.172877</td>\n",
       "      <td>0.129639</td>\n",
       "      <td>0.018681</td>\n",
       "      <td>10</td>\n",
       "      <td>linear</td>\n",
       "      <td>{'C': 10, 'kernel': 'linear'}</td>\n",
       "      <td>0.909091</td>\n",
       "      <td>0.931818</td>\n",
       "      <td>0.959091</td>\n",
       "      <td>0.934848</td>\n",
       "      <td>0.916667</td>\n",
       "      <td>0.930303</td>\n",
       "      <td>0.017249</td>\n",
       "      <td>4</td>\n",
       "    </tr>\n",
       "    <tr>\n",
       "      <th>4</th>\n",
       "      <td>1.758902</td>\n",
       "      <td>0.139069</td>\n",
       "      <td>0.449124</td>\n",
       "      <td>0.027384</td>\n",
       "      <td>20</td>\n",
       "      <td>rbf</td>\n",
       "      <td>{'C': 20, 'kernel': 'rbf'}</td>\n",
       "      <td>0.954545</td>\n",
       "      <td>0.951515</td>\n",
       "      <td>0.968182</td>\n",
       "      <td>0.942424</td>\n",
       "      <td>0.922727</td>\n",
       "      <td>0.947879</td>\n",
       "      <td>0.015048</td>\n",
       "      <td>1</td>\n",
       "    </tr>\n",
       "    <tr>\n",
       "      <th>5</th>\n",
       "      <td>1.511596</td>\n",
       "      <td>0.409162</td>\n",
       "      <td>0.117200</td>\n",
       "      <td>0.011412</td>\n",
       "      <td>20</td>\n",
       "      <td>linear</td>\n",
       "      <td>{'C': 20, 'kernel': 'linear'}</td>\n",
       "      <td>0.909091</td>\n",
       "      <td>0.931818</td>\n",
       "      <td>0.959091</td>\n",
       "      <td>0.934848</td>\n",
       "      <td>0.916667</td>\n",
       "      <td>0.930303</td>\n",
       "      <td>0.017249</td>\n",
       "      <td>4</td>\n",
       "    </tr>\n",
       "  </tbody>\n",
       "</table>\n",
       "</div>"
      ],
      "text/plain": [
       "   mean_fit_time  std_fit_time  mean_score_time  std_score_time param_C  \\\n",
       "0       3.170913      0.790120         0.768198        0.056605       1   \n",
       "1       1.398611      0.030949         0.127796        0.019431       1   \n",
       "2       2.229497      0.226875         0.574634        0.081794      10   \n",
       "3       1.438883      0.172877         0.129639        0.018681      10   \n",
       "4       1.758902      0.139069         0.449124        0.027384      20   \n",
       "5       1.511596      0.409162         0.117200        0.011412      20   \n",
       "\n",
       "  param_kernel                         params  split0_test_score  \\\n",
       "0          rbf      {'C': 1, 'kernel': 'rbf'}           0.928788   \n",
       "1       linear   {'C': 1, 'kernel': 'linear'}           0.918182   \n",
       "2          rbf     {'C': 10, 'kernel': 'rbf'}           0.950000   \n",
       "3       linear  {'C': 10, 'kernel': 'linear'}           0.909091   \n",
       "4          rbf     {'C': 20, 'kernel': 'rbf'}           0.954545   \n",
       "5       linear  {'C': 20, 'kernel': 'linear'}           0.909091   \n",
       "\n",
       "   split1_test_score  split2_test_score  split3_test_score  split4_test_score  \\\n",
       "0           0.930303           0.930303           0.875758           0.868182   \n",
       "1           0.943939           0.968182           0.943939           0.925758   \n",
       "2           0.950000           0.962121           0.921212           0.909091   \n",
       "3           0.931818           0.959091           0.934848           0.916667   \n",
       "4           0.951515           0.968182           0.942424           0.922727   \n",
       "5           0.931818           0.959091           0.934848           0.916667   \n",
       "\n",
       "   mean_test_score  std_test_score  rank_test_score  \n",
       "0         0.906667        0.028436                6  \n",
       "1         0.940000        0.017344                2  \n",
       "2         0.938485        0.019931                3  \n",
       "3         0.930303        0.017249                4  \n",
       "4         0.947879        0.015048                1  \n",
       "5         0.930303        0.017249                4  "
      ]
     },
     "execution_count": 82,
     "metadata": {},
     "output_type": "execute_result"
    }
   ],
   "source": [
    "svm_data1"
   ]
  },
  {
   "cell_type": "code",
   "execution_count": 86,
   "id": "0b089d1f-b105-44f5-a23d-dbc919e47f3c",
   "metadata": {},
   "outputs": [
    {
     "data": {
      "text/plain": [
       "0.9478787878787879"
      ]
     },
     "execution_count": 86,
     "metadata": {},
     "output_type": "execute_result"
    }
   ],
   "source": [
    "gridsvm.best_score_"
   ]
  },
  {
   "cell_type": "code",
   "execution_count": 85,
   "id": "eb287cf6-504d-4895-897a-cd80f136223b",
   "metadata": {},
   "outputs": [
    {
     "data": {
      "text/plain": [
       "{'C': 20, 'kernel': 'rbf'}"
      ]
     },
     "execution_count": 85,
     "metadata": {},
     "output_type": "execute_result"
    }
   ],
   "source": [
    "# save to CSV\n",
    "gridsvm.best_params_"
   ]
  },
  {
   "cell_type": "code",
   "execution_count": null,
   "id": "a17cc56e-d499-4760-9fdd-365df5673ff2",
   "metadata": {},
   "outputs": [],
   "source": [
    "# train svm using best parameter to collect accuracy precision, and recall \n",
    "svm_model  = SVC(gamma='auto', C=20, kernel='rbf')\n",
    "svm_model.fit(X1_res, y1_res)"
   ]
  },
  {
   "cell_type": "code",
   "execution_count": null,
   "id": "574c1ed2-b306-4276-94f5-bb6b180e74e4",
   "metadata": {},
   "outputs": [],
   "source": [
    "# model and parameter tuning value \n"
   ]
  },
  {
   "cell_type": "code",
   "execution_count": 90,
   "id": "cee95242-29ef-45a7-be4d-7f98303024a0",
   "metadata": {},
   "outputs": [
    {
     "name": "stdout",
     "output_type": "stream",
     "text": [
      "Operation Completed.......\n"
     ]
    }
   ],
   "source": [
    "model_config = {\n",
    "    'svm': {\n",
    "        'model':SVC(gamma='auto'), \n",
    "        'params':{'C':[1,10,20] , 'kernel':['rbf', 'linear']}\n",
    "    }, \n",
    "    \n",
    "    'random_forest':{\n",
    "        'model':RandomForestClassifier(), \n",
    "        'params':{'n_estimators':[1,5,10]}\n",
    "    },\n",
    "    \n",
    "    'logistic_regression':{\n",
    "        'model': LogisticRegression(solver='liblinear', multi_class='auto'),\n",
    "        'params':{'C':[1,5,10]}\n",
    "    }, \n",
    "    \n",
    "    'decision_tree': {\n",
    "        'model': DecisionTreeClassifier(), \n",
    "        'params': {'splitter':[\"best\", \"random\"]}\n",
    "    }\n",
    "}\n",
    "\n",
    "\n",
    "# loop\n",
    "scores  = []\n",
    "for model, config in model_config.items(): \n",
    "    gridcv = GridSearchCV(config['model'], config['params'], cv=5, return_train_score=True)\n",
    "    gridcv.fit(X1_res, y1_res)\n",
    "    scores.append( {'model':model , 'best_score': gridcv.best_score_, 'best_params': gridcv.best_params_} )\n",
    "\n",
    "print('Operation Completed.......')"
   ]
  },
  {
   "cell_type": "code",
   "execution_count": 91,
   "id": "10e07cb2-3966-460c-ae54-e6f40b60ce9c",
   "metadata": {
    "scrolled": true
   },
   "outputs": [
    {
     "data": {
      "text/html": [
       "<div>\n",
       "<style scoped>\n",
       "    .dataframe tbody tr th:only-of-type {\n",
       "        vertical-align: middle;\n",
       "    }\n",
       "\n",
       "    .dataframe tbody tr th {\n",
       "        vertical-align: top;\n",
       "    }\n",
       "\n",
       "    .dataframe thead th {\n",
       "        text-align: right;\n",
       "    }\n",
       "</style>\n",
       "<table border=\"1\" class=\"dataframe\">\n",
       "  <thead>\n",
       "    <tr style=\"text-align: right;\">\n",
       "      <th></th>\n",
       "      <th>model</th>\n",
       "      <th>best_score</th>\n",
       "      <th>best_params</th>\n",
       "    </tr>\n",
       "  </thead>\n",
       "  <tbody>\n",
       "    <tr>\n",
       "      <th>0</th>\n",
       "      <td>svm</td>\n",
       "      <td>0.947879</td>\n",
       "      <td>{'C': 20, 'kernel': 'rbf'}</td>\n",
       "    </tr>\n",
       "    <tr>\n",
       "      <th>1</th>\n",
       "      <td>random_forest</td>\n",
       "      <td>0.950606</td>\n",
       "      <td>{'n_estimators': 5}</td>\n",
       "    </tr>\n",
       "    <tr>\n",
       "      <th>2</th>\n",
       "      <td>logistic_regression</td>\n",
       "      <td>0.953030</td>\n",
       "      <td>{'C': 1}</td>\n",
       "    </tr>\n",
       "    <tr>\n",
       "      <th>3</th>\n",
       "      <td>decision_tree</td>\n",
       "      <td>0.943636</td>\n",
       "      <td>{'splitter': 'random'}</td>\n",
       "    </tr>\n",
       "  </tbody>\n",
       "</table>\n",
       "</div>"
      ],
      "text/plain": [
       "                 model  best_score                 best_params\n",
       "0                  svm    0.947879  {'C': 20, 'kernel': 'rbf'}\n",
       "1        random_forest    0.950606         {'n_estimators': 5}\n",
       "2  logistic_regression    0.953030                    {'C': 1}\n",
       "3        decision_tree    0.943636      {'splitter': 'random'}"
      ]
     },
     "execution_count": 91,
     "metadata": {},
     "output_type": "execute_result"
    }
   ],
   "source": [
    "df_dataset1 = pd.DataFrame(scores, columns=['model', 'best_score', 'best_params'])\n",
    "df_dataset1"
   ]
  },
  {
   "cell_type": "code",
   "execution_count": 94,
   "id": "bc2080dc-0b9b-4eef-a7e1-972752e4a1bc",
   "metadata": {},
   "outputs": [
    {
     "name": "stdout",
     "output_type": "stream",
     "text": [
      "Operation Completed dataset 2.......\n"
     ]
    }
   ],
   "source": [
    "# loop\n",
    "scores2  = []\n",
    "for model, config in model_config.items(): \n",
    "    gridcv2 = GridSearchCV(config['model'], config['params'], cv=5, return_train_score=True)\n",
    "    gridcv2.fit(X2_res, y2_res)\n",
    "    scores2.append( {'model':model , 'best_score': gridcv2.best_score_, 'best_params': gridcv2.best_params_} )\n",
    "\n",
    "print('Operation Completed dataset 2.......')"
   ]
  },
  {
   "cell_type": "code",
   "execution_count": 95,
   "id": "cfafd6e2-c372-47f2-bc96-09256757aeaf",
   "metadata": {},
   "outputs": [
    {
     "data": {
      "text/html": [
       "<div>\n",
       "<style scoped>\n",
       "    .dataframe tbody tr th:only-of-type {\n",
       "        vertical-align: middle;\n",
       "    }\n",
       "\n",
       "    .dataframe tbody tr th {\n",
       "        vertical-align: top;\n",
       "    }\n",
       "\n",
       "    .dataframe thead th {\n",
       "        text-align: right;\n",
       "    }\n",
       "</style>\n",
       "<table border=\"1\" class=\"dataframe\">\n",
       "  <thead>\n",
       "    <tr style=\"text-align: right;\">\n",
       "      <th></th>\n",
       "      <th>model</th>\n",
       "      <th>best_score</th>\n",
       "      <th>best_params</th>\n",
       "    </tr>\n",
       "  </thead>\n",
       "  <tbody>\n",
       "    <tr>\n",
       "      <th>0</th>\n",
       "      <td>svm</td>\n",
       "      <td>0.967132</td>\n",
       "      <td>{'C': 20, 'kernel': 'rbf'}</td>\n",
       "    </tr>\n",
       "    <tr>\n",
       "      <th>1</th>\n",
       "      <td>random_forest</td>\n",
       "      <td>0.976744</td>\n",
       "      <td>{'n_estimators': 10}</td>\n",
       "    </tr>\n",
       "    <tr>\n",
       "      <th>2</th>\n",
       "      <td>logistic_regression</td>\n",
       "      <td>0.960465</td>\n",
       "      <td>{'C': 5}</td>\n",
       "    </tr>\n",
       "    <tr>\n",
       "      <th>3</th>\n",
       "      <td>decision_tree</td>\n",
       "      <td>0.959457</td>\n",
       "      <td>{'splitter': 'random'}</td>\n",
       "    </tr>\n",
       "  </tbody>\n",
       "</table>\n",
       "</div>"
      ],
      "text/plain": [
       "                 model  best_score                 best_params\n",
       "0                  svm    0.967132  {'C': 20, 'kernel': 'rbf'}\n",
       "1        random_forest    0.976744        {'n_estimators': 10}\n",
       "2  logistic_regression    0.960465                    {'C': 5}\n",
       "3        decision_tree    0.959457      {'splitter': 'random'}"
      ]
     },
     "execution_count": 95,
     "metadata": {},
     "output_type": "execute_result"
    }
   ],
   "source": [
    "df_dataset2 = pd.DataFrame(scores2, columns=['model', 'best_score', 'best_params'])\n",
    "df_dataset2"
   ]
  },
  {
   "cell_type": "code",
   "execution_count": 98,
   "id": "5d66c12b-c3d0-4453-9add-4175bf16217c",
   "metadata": {},
   "outputs": [],
   "source": [
    "from sklearn.model_selection import train_test_split\n",
    "from sklearn.metrics import accuracy_score, precision_score, recall_score, f1_score, roc_auc_score"
   ]
  },
  {
   "cell_type": "code",
   "execution_count": 99,
   "id": "c7fe947a-f4b4-4b16-b5d9-8a6a8eeb60b0",
   "metadata": {},
   "outputs": [],
   "source": [
    "# dataset 1"
   ]
  },
  {
   "cell_type": "code",
   "execution_count": 161,
   "id": "632639bd-1af4-4c2f-9e7b-a4f07c131721",
   "metadata": {},
   "outputs": [],
   "source": [
    "X_train, X_test, y_train, y_test = train_test_split(X1, y1, test_size=20)"
   ]
  },
  {
   "cell_type": "code",
   "execution_count": 162,
   "id": "adf9e4bf-a554-4bc7-859e-d5cef2a36393",
   "metadata": {},
   "outputs": [],
   "source": [
    "def model_performance_trainer(name, model, Xtrain, ytrain, Xtest, ytest):\n",
    "    model.fit(Xtrain,ytrain)\n",
    "    prediction = model.predict(Xtest)\n",
    "    # print(prediction)\n",
    "    metrics = {\n",
    "        'model': name, \n",
    "        'acc': accuracy_score(ytest, prediction), \n",
    "        'pre': precision_score(ytest, prediction),\n",
    "        'recall': accuracy_score(ytest, prediction), \n",
    "        'f1score': accuracy_score(ytest, prediction), \n",
    "        'roc_auc': accuracy_score(ytest, prediction), \n",
    "    }\n",
    "    return metrics"
   ]
  },
  {
   "cell_type": "code",
   "execution_count": 163,
   "id": "15efd256-3218-4ab6-aa2b-ad24d2c56e3b",
   "metadata": {},
   "outputs": [],
   "source": [
    "#  DATASET 1"
   ]
  },
  {
   "cell_type": "code",
   "execution_count": 164,
   "id": "041ef8d5-4b36-46b5-a3fb-a1653c1fec74",
   "metadata": {},
   "outputs": [
    {
     "data": {
      "text/html": [
       "<div>\n",
       "<style scoped>\n",
       "    .dataframe tbody tr th:only-of-type {\n",
       "        vertical-align: middle;\n",
       "    }\n",
       "\n",
       "    .dataframe tbody tr th {\n",
       "        vertical-align: top;\n",
       "    }\n",
       "\n",
       "    .dataframe thead th {\n",
       "        text-align: right;\n",
       "    }\n",
       "</style>\n",
       "<table border=\"1\" class=\"dataframe\">\n",
       "  <thead>\n",
       "    <tr style=\"text-align: right;\">\n",
       "      <th></th>\n",
       "      <th>model</th>\n",
       "      <th>acc</th>\n",
       "      <th>pre</th>\n",
       "      <th>recall</th>\n",
       "      <th>f1score</th>\n",
       "      <th>roc_auc</th>\n",
       "    </tr>\n",
       "  </thead>\n",
       "  <tbody>\n",
       "    <tr>\n",
       "      <th>0</th>\n",
       "      <td>svm</td>\n",
       "      <td>0.95</td>\n",
       "      <td>0.928571</td>\n",
       "      <td>0.95</td>\n",
       "      <td>0.95</td>\n",
       "      <td>0.95</td>\n",
       "    </tr>\n",
       "    <tr>\n",
       "      <th>1</th>\n",
       "      <td>Random Forest</td>\n",
       "      <td>0.95</td>\n",
       "      <td>0.928571</td>\n",
       "      <td>0.95</td>\n",
       "      <td>0.95</td>\n",
       "      <td>0.95</td>\n",
       "    </tr>\n",
       "    <tr>\n",
       "      <th>2</th>\n",
       "      <td>Logistic Regression</td>\n",
       "      <td>1.00</td>\n",
       "      <td>1.000000</td>\n",
       "      <td>1.00</td>\n",
       "      <td>1.00</td>\n",
       "      <td>1.00</td>\n",
       "    </tr>\n",
       "    <tr>\n",
       "      <th>3</th>\n",
       "      <td>Decision Tree</td>\n",
       "      <td>0.95</td>\n",
       "      <td>0.928571</td>\n",
       "      <td>0.95</td>\n",
       "      <td>0.95</td>\n",
       "      <td>0.95</td>\n",
       "    </tr>\n",
       "  </tbody>\n",
       "</table>\n",
       "</div>"
      ],
      "text/plain": [
       "                 model   acc       pre  recall  f1score  roc_auc\n",
       "0                  svm  0.95  0.928571    0.95     0.95     0.95\n",
       "1        Random Forest  0.95  0.928571    0.95     0.95     0.95\n",
       "2  Logistic Regression  1.00  1.000000    1.00     1.00     1.00\n",
       "3        Decision Tree  0.95  0.928571    0.95     0.95     0.95"
      ]
     },
     "execution_count": 164,
     "metadata": {},
     "output_type": "execute_result"
    }
   ],
   "source": [
    "# using dataset 1\n",
    "model_instance   = {'svm': SVC(gamma='auto', C=20, kernel='rbf'), 'Random Forest': RandomForestClassifier(n_estimators=5), 'Logistic Regression': LogisticRegression(C=1), 'Decision Tree':DecisionTreeClassifier(splitter='random') }\n",
    "results = []\n",
    "for name, model in model_instance.items(): \n",
    "    result = model_performance_trainer(name, model, X_train, y_train, X_test, y_test)\n",
    "    results.append(result)\n",
    "\n",
    "dataset1_results  = pd.DataFrame(results)\n",
    "dataset1_results"
   ]
  },
  {
   "cell_type": "code",
   "execution_count": 165,
   "id": "a3274b50-3970-4cdd-b9d2-2e0e75030ca7",
   "metadata": {},
   "outputs": [
    {
     "data": {
      "image/png": "[encoded data removed]",
      "text/plain": [
       "<Figure size 500x300 with 1 Axes>"
      ]
     },
     "metadata": {},
     "output_type": "display_data"
    }
   ],
   "source": [
    "plt.figure(figsize=(5,3))\n",
    "plt.title('Performance Dataset 1')\n",
    "dataset1_results.set_index('model').acc.plot(kind='bar', color=['brown','green', 'gray', 'blue'])\n",
    "plt.ylabel('Accuracy')\n",
    "plt.xlabel('Malware Prediction Model')\n",
    "plt.show()"
   ]
  },
  {
   "cell_type": "code",
   "execution_count": 166,
   "id": "13c2d17a-91aa-49d7-a072-8b2d203612fa",
   "metadata": {},
   "outputs": [],
   "source": [
    "# DATASET 2"
   ]
  },
  {
   "cell_type": "code",
   "execution_count": 167,
   "id": "8cf1eaa0-c6ea-4a04-8a98-eb4cfcfe9db8",
   "metadata": {},
   "outputs": [],
   "source": [
    "X_train, X_test, y_train, y_test = train_test_split(X2, y2, test_size=20)"
   ]
  },
  {
   "cell_type": "code",
   "execution_count": 168,
   "id": "d828b238-c82c-4568-bfa4-8f898e70951f",
   "metadata": {},
   "outputs": [
    {
     "data": {
      "text/html": [
       "<div>\n",
       "<style scoped>\n",
       "    .dataframe tbody tr th:only-of-type {\n",
       "        vertical-align: middle;\n",
       "    }\n",
       "\n",
       "    .dataframe tbody tr th {\n",
       "        vertical-align: top;\n",
       "    }\n",
       "\n",
       "    .dataframe thead th {\n",
       "        text-align: right;\n",
       "    }\n",
       "</style>\n",
       "<table border=\"1\" class=\"dataframe\">\n",
       "  <thead>\n",
       "    <tr style=\"text-align: right;\">\n",
       "      <th></th>\n",
       "      <th>model</th>\n",
       "      <th>acc</th>\n",
       "      <th>pre</th>\n",
       "      <th>recall</th>\n",
       "      <th>f1score</th>\n",
       "      <th>roc_auc</th>\n",
       "    </tr>\n",
       "  </thead>\n",
       "  <tbody>\n",
       "    <tr>\n",
       "      <th>0</th>\n",
       "      <td>svm</td>\n",
       "      <td>0.95</td>\n",
       "      <td>0.833333</td>\n",
       "      <td>0.95</td>\n",
       "      <td>0.95</td>\n",
       "      <td>0.95</td>\n",
       "    </tr>\n",
       "    <tr>\n",
       "      <th>1</th>\n",
       "      <td>Random Forest</td>\n",
       "      <td>0.90</td>\n",
       "      <td>0.800000</td>\n",
       "      <td>0.90</td>\n",
       "      <td>0.90</td>\n",
       "      <td>0.90</td>\n",
       "    </tr>\n",
       "    <tr>\n",
       "      <th>2</th>\n",
       "      <td>Logistic Regression</td>\n",
       "      <td>0.90</td>\n",
       "      <td>0.800000</td>\n",
       "      <td>0.90</td>\n",
       "      <td>0.90</td>\n",
       "      <td>0.90</td>\n",
       "    </tr>\n",
       "    <tr>\n",
       "      <th>3</th>\n",
       "      <td>Decision Tree</td>\n",
       "      <td>0.90</td>\n",
       "      <td>0.800000</td>\n",
       "      <td>0.90</td>\n",
       "      <td>0.90</td>\n",
       "      <td>0.90</td>\n",
       "    </tr>\n",
       "  </tbody>\n",
       "</table>\n",
       "</div>"
      ],
      "text/plain": [
       "                 model   acc       pre  recall  f1score  roc_auc\n",
       "0                  svm  0.95  0.833333    0.95     0.95     0.95\n",
       "1        Random Forest  0.90  0.800000    0.90     0.90     0.90\n",
       "2  Logistic Regression  0.90  0.800000    0.90     0.90     0.90\n",
       "3        Decision Tree  0.90  0.800000    0.90     0.90     0.90"
      ]
     },
     "execution_count": 168,
     "metadata": {},
     "output_type": "execute_result"
    }
   ],
   "source": [
    "# using dataset 1\n",
    "model_instance   = {'svm': SVC(gamma='auto', C=20, kernel='rbf'), 'Random Forest': RandomForestClassifier(n_estimators=5), 'Logistic Regression': LogisticRegression(C=1), 'Decision Tree':DecisionTreeClassifier(splitter='random') }\n",
    "results2 = []\n",
    "for name, model in model_instance.items(): \n",
    "    # loop trough via helper function\n",
    "    result = model_performance_trainer(name, model, X_train, y_train, X_test, y_test)\n",
    "    results2.append(result)\n",
    "    \n",
    "dataset2_results  = pd.DataFrame(results2)\n",
    "dataset2_results"
   ]
  },
  {
   "cell_type": "code",
   "execution_count": 169,
   "id": "b365b201-669f-4d87-a392-c6008db137f7",
   "metadata": {},
   "outputs": [
    {
     "data": {
      "image/png": "[encoded data removed]",
      "text/plain": [
       "<Figure size 500x300 with 1 Axes>"
      ]
     },
     "metadata": {},
     "output_type": "display_data"
    }
   ],
   "source": [
    "plt.figure(figsize=(5,3))\n",
    "plt.title('Performance Dataset 2')\n",
    "dataset2_results.set_index('model').acc.plot(kind='bar', color=['brown','green', 'gray', 'blue'])\n",
    "plt.ylabel('Accuracy')\n",
    "plt.xlabel('Malware Prediction Model')\n",
    "plt.show()"
   ]
  },
  {
   "cell_type": "code",
   "execution_count": null,
   "id": "edafa61e-4619-46c0-8df7-b2bb4c944a43",
   "metadata": {},
   "outputs": [],
   "source": []
  }
 ],
 "metadata": {
  "kernelspec": {
   "display_name": "Python 3 (ipykernel)",
   "language": "python",
   "name": "python3"
  },
  "language_info": {
   "codemirror_mode": {
    "name": "ipython",
    "version": 3
   },
   "file_extension": ".py",
   "mimetype": "text/x-python",
   "name": "python",
   "nbconvert_exporter": "python",
   "pygments_lexer": "ipython3",
   "version": "3.9.5"
  }
 },
 "nbformat": 4,
 "nbformat_minor": 5
}
