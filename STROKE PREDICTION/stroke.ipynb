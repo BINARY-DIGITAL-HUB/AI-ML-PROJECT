{
 "cells": [
  {
   "cell_type": "code",
   "execution_count": 1,
   "id": "47a89119-7775-4e3a-b974-d06674471fa5",
   "metadata": {},
   "outputs": [],
   "source": [
    "import pandas as pd \n",
    "import numpy as np \n",
    "import matplotlib.pyplot as plt\n",
    "from imblearn.combine import SMOTEENN\n",
    "from sklearn.model_selection import train_test_split\n",
    "from sklearn.ensemble import RandomForestClassifier\n",
    "from sklearn.metrics import classification_report, confusion_matrix\n",
    "import seaborn as sn \n",
    "\n",
    "# to ignore all warning \n",
    "import warnings \n",
    "warnings.filterwarnings('ignore')"
   ]
  },
  {
   "cell_type": "markdown",
   "id": "01cb52cd-539b-4e60-a9d7-37e242cb4768",
   "metadata": {},
   "source": [
    "#### Import data"
   ]
  },
  {
   "cell_type": "code",
   "execution_count": 2,
   "id": "4ffc8bdc-e1c3-4b8e-a8af-dafb7ed90a77",
   "metadata": {},
   "outputs": [
    {
     "data": {
      "text/html": [
       "<div>\n",
       "<style scoped>\n",
       "    .dataframe tbody tr th:only-of-type {\n",
       "        vertical-align: middle;\n",
       "    }\n",
       "\n",
       "    .dataframe tbody tr th {\n",
       "        vertical-align: top;\n",
       "    }\n",
       "\n",
       "    .dataframe thead th {\n",
       "        text-align: right;\n",
       "    }\n",
       "</style>\n",
       "<table border=\"1\" class=\"dataframe\">\n",
       "  <thead>\n",
       "    <tr style=\"text-align: right;\">\n",
       "      <th></th>\n",
       "      <th>id</th>\n",
       "      <th>gender</th>\n",
       "      <th>age</th>\n",
       "      <th>hypertension</th>\n",
       "      <th>heart_disease</th>\n",
       "      <th>ever_married</th>\n",
       "      <th>work_type</th>\n",
       "      <th>Residence_type</th>\n",
       "      <th>avg_glucose_level</th>\n",
       "      <th>bmi</th>\n",
       "      <th>smoking_status</th>\n",
       "      <th>stroke</th>\n",
       "    </tr>\n",
       "  </thead>\n",
       "  <tbody>\n",
       "    <tr>\n",
       "      <th>0</th>\n",
       "      <td>9046</td>\n",
       "      <td>Male</td>\n",
       "      <td>67.0</td>\n",
       "      <td>0</td>\n",
       "      <td>1</td>\n",
       "      <td>Yes</td>\n",
       "      <td>Private</td>\n",
       "      <td>Urban</td>\n",
       "      <td>228.69</td>\n",
       "      <td>36.6</td>\n",
       "      <td>formerly smoked</td>\n",
       "      <td>1</td>\n",
       "    </tr>\n",
       "    <tr>\n",
       "      <th>1</th>\n",
       "      <td>51676</td>\n",
       "      <td>Female</td>\n",
       "      <td>61.0</td>\n",
       "      <td>0</td>\n",
       "      <td>0</td>\n",
       "      <td>Yes</td>\n",
       "      <td>Self-employed</td>\n",
       "      <td>Rural</td>\n",
       "      <td>202.21</td>\n",
       "      <td>NaN</td>\n",
       "      <td>never smoked</td>\n",
       "      <td>1</td>\n",
       "    </tr>\n",
       "    <tr>\n",
       "      <th>2</th>\n",
       "      <td>31112</td>\n",
       "      <td>Male</td>\n",
       "      <td>80.0</td>\n",
       "      <td>0</td>\n",
       "      <td>1</td>\n",
       "      <td>Yes</td>\n",
       "      <td>Private</td>\n",
       "      <td>Rural</td>\n",
       "      <td>105.92</td>\n",
       "      <td>32.5</td>\n",
       "      <td>never smoked</td>\n",
       "      <td>1</td>\n",
       "    </tr>\n",
       "  </tbody>\n",
       "</table>\n",
       "</div>"
      ],
      "text/plain": [
       "      id  gender   age  hypertension  heart_disease ever_married  \\\n",
       "0   9046    Male  67.0             0              1          Yes   \n",
       "1  51676  Female  61.0             0              0          Yes   \n",
       "2  31112    Male  80.0             0              1          Yes   \n",
       "\n",
       "       work_type Residence_type  avg_glucose_level   bmi   smoking_status  \\\n",
       "0        Private          Urban             228.69  36.6  formerly smoked   \n",
       "1  Self-employed          Rural             202.21   NaN     never smoked   \n",
       "2        Private          Rural             105.92  32.5     never smoked   \n",
       "\n",
       "   stroke  \n",
       "0       1  \n",
       "1       1  \n",
       "2       1  "
      ]
     },
     "execution_count": 2,
     "metadata": {},
     "output_type": "execute_result"
    }
   ],
   "source": [
    "data = pd.read_csv('stroke/healthcare-dataset-stroke-data.csv')\n",
    "data.head(3)"
   ]
  },
  {
   "cell_type": "markdown",
   "id": "d1591636-0361-475e-a444-7793c42a967a",
   "metadata": {},
   "source": [
    "#### Explore Data"
   ]
  },
  {
   "cell_type": "code",
   "execution_count": 3,
   "id": "117c53c5-1759-4234-af32-39d0400b1445",
   "metadata": {},
   "outputs": [
    {
     "data": {
      "text/plain": [
       "(5110, 12)"
      ]
     },
     "execution_count": 3,
     "metadata": {},
     "output_type": "execute_result"
    }
   ],
   "source": [
    "data.shape"
   ]
  },
  {
   "cell_type": "code",
   "execution_count": 4,
   "id": "f05fd1d5-8a73-4ef6-90a8-432ae3bbfc57",
   "metadata": {},
   "outputs": [
    {
     "data": {
      "text/plain": [
       "Index(['id', 'gender', 'age', 'hypertension', 'heart_disease', 'ever_married',\n",
       "       'work_type', 'Residence_type', 'avg_glucose_level', 'bmi',\n",
       "       'smoking_status', 'stroke'],\n",
       "      dtype='object')"
      ]
     },
     "execution_count": 4,
     "metadata": {},
     "output_type": "execute_result"
    }
   ],
   "source": [
    "data.columns"
   ]
  },
  {
   "cell_type": "code",
   "execution_count": 5,
   "id": "de9e0741-fd2a-4562-8c6c-23a79504f90a",
   "metadata": {},
   "outputs": [
    {
     "name": "stdout",
     "output_type": "stream",
     "text": [
      "<class 'pandas.core.frame.DataFrame'>\n",
      "RangeIndex: 5110 entries, 0 to 5109\n",
      "Data columns (total 12 columns):\n",
      " #   Column             Non-Null Count  Dtype  \n",
      "---  ------             --------------  -----  \n",
      " 0   id                 5110 non-null   int64  \n",
      " 1   gender             5110 non-null   object \n",
      " 2   age                5110 non-null   float64\n",
      " 3   hypertension       5110 non-null   int64  \n",
      " 4   heart_disease      5110 non-null   int64  \n",
      " 5   ever_married       5110 non-null   object \n",
      " 6   work_type          5110 non-null   object \n",
      " 7   Residence_type     5110 non-null   object \n",
      " 8   avg_glucose_level  5110 non-null   float64\n",
      " 9   bmi                4909 non-null   float64\n",
      " 10  smoking_status     5110 non-null   object \n",
      " 11  stroke             5110 non-null   int64  \n",
      "dtypes: float64(3), int64(4), object(5)\n",
      "memory usage: 479.2+ KB\n"
     ]
    }
   ],
   "source": [
    "data.info()"
   ]
  },
  {
   "cell_type": "code",
   "execution_count": 6,
   "id": "59fb9eb3-5c43-4719-9f24-8aa42031e943",
   "metadata": {},
   "outputs": [
    {
     "name": "stdout",
     "output_type": "stream",
     "text": [
      "gender : ['Male' 'Female' 'Other']\n",
      "ever_married : ['Yes' 'No']\n",
      "work_type : ['Private' 'Self-employed' 'Govt_job' 'children' 'Never_worked']\n",
      "Residence_type : ['Urban' 'Rural']\n",
      "smoking_status : ['formerly smoked' 'never smoked' 'smokes' 'Unknown']\n"
     ]
    }
   ],
   "source": [
    "for col in data.columns: \n",
    "    if data[col].dtype == 'object':\n",
    "        print(f'{col} : {data[col].unique()}')"
   ]
  },
  {
   "cell_type": "code",
   "execution_count": 7,
   "id": "81a5eed6-30a2-4342-96d2-ca634382bd7a",
   "metadata": {},
   "outputs": [
    {
     "name": "stdout",
     "output_type": "stream",
     "text": [
      "id : 5110\n",
      "gender : 3\n",
      "age : 104\n",
      "hypertension : 2\n",
      "heart_disease : 2\n",
      "ever_married : 2\n",
      "work_type : 5\n",
      "Residence_type : 2\n",
      "avg_glucose_level : 3979\n",
      "bmi : 418\n",
      "smoking_status : 4\n",
      "stroke : 2\n"
     ]
    }
   ],
   "source": [
    "for col in data.columns: \n",
    "    print(f'{col} : {data[col].nunique()}')"
   ]
  },
  {
   "cell_type": "code",
   "execution_count": 8,
   "id": "eea8d3bc-fd77-4875-885d-792d99c8c38e",
   "metadata": {},
   "outputs": [
    {
     "data": {
      "text/html": [
       "<div>\n",
       "<style scoped>\n",
       "    .dataframe tbody tr th:only-of-type {\n",
       "        vertical-align: middle;\n",
       "    }\n",
       "\n",
       "    .dataframe tbody tr th {\n",
       "        vertical-align: top;\n",
       "    }\n",
       "\n",
       "    .dataframe thead th {\n",
       "        text-align: right;\n",
       "    }\n",
       "</style>\n",
       "<table border=\"1\" class=\"dataframe\">\n",
       "  <thead>\n",
       "    <tr style=\"text-align: right;\">\n",
       "      <th></th>\n",
       "      <th>id</th>\n",
       "      <th>gender</th>\n",
       "      <th>age</th>\n",
       "      <th>hypertension</th>\n",
       "      <th>heart_disease</th>\n",
       "      <th>ever_married</th>\n",
       "      <th>work_type</th>\n",
       "      <th>Residence_type</th>\n",
       "      <th>avg_glucose_level</th>\n",
       "      <th>bmi</th>\n",
       "      <th>smoking_status</th>\n",
       "      <th>stroke</th>\n",
       "    </tr>\n",
       "  </thead>\n",
       "  <tbody>\n",
       "    <tr>\n",
       "      <th>3116</th>\n",
       "      <td>56156</td>\n",
       "      <td>Other</td>\n",
       "      <td>26.0</td>\n",
       "      <td>0</td>\n",
       "      <td>0</td>\n",
       "      <td>No</td>\n",
       "      <td>Private</td>\n",
       "      <td>Rural</td>\n",
       "      <td>143.33</td>\n",
       "      <td>22.4</td>\n",
       "      <td>formerly smoked</td>\n",
       "      <td>0</td>\n",
       "    </tr>\n",
       "  </tbody>\n",
       "</table>\n",
       "</div>"
      ],
      "text/plain": [
       "         id gender   age  hypertension  heart_disease ever_married work_type  \\\n",
       "3116  56156  Other  26.0             0              0           No   Private   \n",
       "\n",
       "     Residence_type  avg_glucose_level   bmi   smoking_status  stroke  \n",
       "3116          Rural             143.33  22.4  formerly smoked       0  "
      ]
     },
     "execution_count": 8,
     "metadata": {},
     "output_type": "execute_result"
    }
   ],
   "source": [
    "data[data.gender == 'Other']"
   ]
  },
  {
   "cell_type": "code",
   "execution_count": 9,
   "id": "d0ff358f-2069-4576-8db9-b14d33820d7a",
   "metadata": {},
   "outputs": [
    {
     "data": {
      "text/plain": [
       "nan"
      ]
     },
     "execution_count": 9,
     "metadata": {},
     "output_type": "execute_result"
    }
   ],
   "source": [
    "\n",
    "data.bmi.iloc[1]"
   ]
  },
  {
   "cell_type": "code",
   "execution_count": 10,
   "id": "5e80d541-5238-4090-8f4f-231a0ee5a126",
   "metadata": {},
   "outputs": [
    {
     "data": {
      "text/html": [
       "<div>\n",
       "<style scoped>\n",
       "    .dataframe tbody tr th:only-of-type {\n",
       "        vertical-align: middle;\n",
       "    }\n",
       "\n",
       "    .dataframe tbody tr th {\n",
       "        vertical-align: top;\n",
       "    }\n",
       "\n",
       "    .dataframe thead th {\n",
       "        text-align: right;\n",
       "    }\n",
       "</style>\n",
       "<table border=\"1\" class=\"dataframe\">\n",
       "  <thead>\n",
       "    <tr style=\"text-align: right;\">\n",
       "      <th></th>\n",
       "      <th>id</th>\n",
       "      <th>gender</th>\n",
       "      <th>age</th>\n",
       "      <th>hypertension</th>\n",
       "      <th>heart_disease</th>\n",
       "      <th>ever_married</th>\n",
       "      <th>work_type</th>\n",
       "      <th>Residence_type</th>\n",
       "      <th>avg_glucose_level</th>\n",
       "      <th>bmi</th>\n",
       "      <th>smoking_status</th>\n",
       "      <th>stroke</th>\n",
       "    </tr>\n",
       "  </thead>\n",
       "  <tbody>\n",
       "    <tr>\n",
       "      <th>1</th>\n",
       "      <td>51676</td>\n",
       "      <td>Female</td>\n",
       "      <td>61.0</td>\n",
       "      <td>0</td>\n",
       "      <td>0</td>\n",
       "      <td>Yes</td>\n",
       "      <td>Self-employed</td>\n",
       "      <td>Rural</td>\n",
       "      <td>202.21</td>\n",
       "      <td>NaN</td>\n",
       "      <td>never smoked</td>\n",
       "      <td>1</td>\n",
       "    </tr>\n",
       "    <tr>\n",
       "      <th>8</th>\n",
       "      <td>27419</td>\n",
       "      <td>Female</td>\n",
       "      <td>59.0</td>\n",
       "      <td>0</td>\n",
       "      <td>0</td>\n",
       "      <td>Yes</td>\n",
       "      <td>Private</td>\n",
       "      <td>Rural</td>\n",
       "      <td>76.15</td>\n",
       "      <td>NaN</td>\n",
       "      <td>Unknown</td>\n",
       "      <td>1</td>\n",
       "    </tr>\n",
       "    <tr>\n",
       "      <th>13</th>\n",
       "      <td>8213</td>\n",
       "      <td>Male</td>\n",
       "      <td>78.0</td>\n",
       "      <td>0</td>\n",
       "      <td>1</td>\n",
       "      <td>Yes</td>\n",
       "      <td>Private</td>\n",
       "      <td>Urban</td>\n",
       "      <td>219.84</td>\n",
       "      <td>NaN</td>\n",
       "      <td>Unknown</td>\n",
       "      <td>1</td>\n",
       "    </tr>\n",
       "    <tr>\n",
       "      <th>19</th>\n",
       "      <td>25226</td>\n",
       "      <td>Male</td>\n",
       "      <td>57.0</td>\n",
       "      <td>0</td>\n",
       "      <td>1</td>\n",
       "      <td>No</td>\n",
       "      <td>Govt_job</td>\n",
       "      <td>Urban</td>\n",
       "      <td>217.08</td>\n",
       "      <td>NaN</td>\n",
       "      <td>Unknown</td>\n",
       "      <td>1</td>\n",
       "    </tr>\n",
       "    <tr>\n",
       "      <th>27</th>\n",
       "      <td>61843</td>\n",
       "      <td>Male</td>\n",
       "      <td>58.0</td>\n",
       "      <td>0</td>\n",
       "      <td>0</td>\n",
       "      <td>Yes</td>\n",
       "      <td>Private</td>\n",
       "      <td>Rural</td>\n",
       "      <td>189.84</td>\n",
       "      <td>NaN</td>\n",
       "      <td>Unknown</td>\n",
       "      <td>1</td>\n",
       "    </tr>\n",
       "    <tr>\n",
       "      <th>...</th>\n",
       "      <td>...</td>\n",
       "      <td>...</td>\n",
       "      <td>...</td>\n",
       "      <td>...</td>\n",
       "      <td>...</td>\n",
       "      <td>...</td>\n",
       "      <td>...</td>\n",
       "      <td>...</td>\n",
       "      <td>...</td>\n",
       "      <td>...</td>\n",
       "      <td>...</td>\n",
       "      <td>...</td>\n",
       "    </tr>\n",
       "    <tr>\n",
       "      <th>5039</th>\n",
       "      <td>42007</td>\n",
       "      <td>Male</td>\n",
       "      <td>41.0</td>\n",
       "      <td>0</td>\n",
       "      <td>0</td>\n",
       "      <td>No</td>\n",
       "      <td>Private</td>\n",
       "      <td>Rural</td>\n",
       "      <td>70.15</td>\n",
       "      <td>NaN</td>\n",
       "      <td>formerly smoked</td>\n",
       "      <td>0</td>\n",
       "    </tr>\n",
       "    <tr>\n",
       "      <th>5048</th>\n",
       "      <td>28788</td>\n",
       "      <td>Male</td>\n",
       "      <td>40.0</td>\n",
       "      <td>0</td>\n",
       "      <td>0</td>\n",
       "      <td>Yes</td>\n",
       "      <td>Private</td>\n",
       "      <td>Urban</td>\n",
       "      <td>191.15</td>\n",
       "      <td>NaN</td>\n",
       "      <td>smokes</td>\n",
       "      <td>0</td>\n",
       "    </tr>\n",
       "    <tr>\n",
       "      <th>5093</th>\n",
       "      <td>32235</td>\n",
       "      <td>Female</td>\n",
       "      <td>45.0</td>\n",
       "      <td>1</td>\n",
       "      <td>0</td>\n",
       "      <td>Yes</td>\n",
       "      <td>Govt_job</td>\n",
       "      <td>Rural</td>\n",
       "      <td>95.02</td>\n",
       "      <td>NaN</td>\n",
       "      <td>smokes</td>\n",
       "      <td>0</td>\n",
       "    </tr>\n",
       "    <tr>\n",
       "      <th>5099</th>\n",
       "      <td>7293</td>\n",
       "      <td>Male</td>\n",
       "      <td>40.0</td>\n",
       "      <td>0</td>\n",
       "      <td>0</td>\n",
       "      <td>Yes</td>\n",
       "      <td>Private</td>\n",
       "      <td>Rural</td>\n",
       "      <td>83.94</td>\n",
       "      <td>NaN</td>\n",
       "      <td>smokes</td>\n",
       "      <td>0</td>\n",
       "    </tr>\n",
       "    <tr>\n",
       "      <th>5105</th>\n",
       "      <td>18234</td>\n",
       "      <td>Female</td>\n",
       "      <td>80.0</td>\n",
       "      <td>1</td>\n",
       "      <td>0</td>\n",
       "      <td>Yes</td>\n",
       "      <td>Private</td>\n",
       "      <td>Urban</td>\n",
       "      <td>83.75</td>\n",
       "      <td>NaN</td>\n",
       "      <td>never smoked</td>\n",
       "      <td>0</td>\n",
       "    </tr>\n",
       "  </tbody>\n",
       "</table>\n",
       "<p>201 rows × 12 columns</p>\n",
       "</div>"
      ],
      "text/plain": [
       "         id  gender   age  hypertension  heart_disease ever_married  \\\n",
       "1     51676  Female  61.0             0              0          Yes   \n",
       "8     27419  Female  59.0             0              0          Yes   \n",
       "13     8213    Male  78.0             0              1          Yes   \n",
       "19    25226    Male  57.0             0              1           No   \n",
       "27    61843    Male  58.0             0              0          Yes   \n",
       "...     ...     ...   ...           ...            ...          ...   \n",
       "5039  42007    Male  41.0             0              0           No   \n",
       "5048  28788    Male  40.0             0              0          Yes   \n",
       "5093  32235  Female  45.0             1              0          Yes   \n",
       "5099   7293    Male  40.0             0              0          Yes   \n",
       "5105  18234  Female  80.0             1              0          Yes   \n",
       "\n",
       "          work_type Residence_type  avg_glucose_level  bmi   smoking_status  \\\n",
       "1     Self-employed          Rural             202.21  NaN     never smoked   \n",
       "8           Private          Rural              76.15  NaN          Unknown   \n",
       "13          Private          Urban             219.84  NaN          Unknown   \n",
       "19         Govt_job          Urban             217.08  NaN          Unknown   \n",
       "27          Private          Rural             189.84  NaN          Unknown   \n",
       "...             ...            ...                ...  ...              ...   \n",
       "5039        Private          Rural              70.15  NaN  formerly smoked   \n",
       "5048        Private          Urban             191.15  NaN           smokes   \n",
       "5093       Govt_job          Rural              95.02  NaN           smokes   \n",
       "5099        Private          Rural              83.94  NaN           smokes   \n",
       "5105        Private          Urban              83.75  NaN     never smoked   \n",
       "\n",
       "      stroke  \n",
       "1          1  \n",
       "8          1  \n",
       "13         1  \n",
       "19         1  \n",
       "27         1  \n",
       "...      ...  \n",
       "5039       0  \n",
       "5048       0  \n",
       "5093       0  \n",
       "5099       0  \n",
       "5105       0  \n",
       "\n",
       "[201 rows x 12 columns]"
      ]
     },
     "execution_count": 10,
     "metadata": {},
     "output_type": "execute_result"
    }
   ],
   "source": [
    "data[data.bmi.isnull()]"
   ]
  },
  {
   "cell_type": "markdown",
   "id": "f805128f-da49-4c19-ac89-345b1ebb131f",
   "metadata": {},
   "source": [
    "#### Visual Exploration"
   ]
  },
  {
   "cell_type": "code",
   "execution_count": 11,
   "id": "2e0cbd4d-bb3b-4b5d-ae40-47a7b89152c5",
   "metadata": {},
   "outputs": [
    {
     "data": {
      "text/plain": [
       "<Axes: >"
      ]
     },
     "execution_count": 11,
     "metadata": {},
     "output_type": "execute_result"
    },
    {
     "data": {
      "image/png": "[encoded data removed]",
      "text/plain": [
       "<Figure size 400x300 with 1 Axes>"
      ]
     },
     "metadata": {},
     "output_type": "display_data"
    }
   ],
   "source": [
    "plt.figure(figsize=(4,3))\n",
    "data.stroke.value_counts().plot(kind='bar', color=['brown', 'green'])"
   ]
  },
  {
   "cell_type": "code",
   "execution_count": 12,
   "id": "934e57d4-05c4-47d4-8689-37b4da8bd18a",
   "metadata": {},
   "outputs": [
    {
     "data": {
      "image/png": "[encoded data removed]",
      "text/plain": [
       "<Figure size 300x300 with 1 Axes>"
      ]
     },
     "metadata": {},
     "output_type": "display_data"
    }
   ],
   "source": [
    "plt.figure(figsize=(3,3))\n",
    "plt.hist([data.ever_married, data.stroke],label=['married', 'stroke'])\n",
    "plt.legend()\n",
    "plt.show()"
   ]
  },
  {
   "cell_type": "code",
   "execution_count": null,
   "id": "4d876812-79ea-4d25-958d-089d88c139cd",
   "metadata": {},
   "outputs": [],
   "source": []
  },
  {
   "cell_type": "markdown",
   "id": "ebd600c5-7ebb-46e7-ac5c-f2e1674c3958",
   "metadata": {},
   "source": [
    "#### data Cleaning"
   ]
  },
  {
   "cell_type": "code",
   "execution_count": 13,
   "id": "b2659347-4941-409a-a9c1-4077be160e90",
   "metadata": {},
   "outputs": [],
   "source": [
    "clean_data = data[data.gender != 'Other']"
   ]
  },
  {
   "cell_type": "code",
   "execution_count": 14,
   "id": "016f0be4-d453-4b1e-9d52-daf6e546451f",
   "metadata": {},
   "outputs": [],
   "source": [
    "bmi_mean = '{:.2f}'.format(clean_data.bmi.mean())\n",
    "clean_data.bmi.fillna(bmi_mean, inplace=True)"
   ]
  },
  {
   "cell_type": "code",
   "execution_count": 15,
   "id": "c21a4468-d1ae-471b-b5ea-c27a14839c82",
   "metadata": {},
   "outputs": [
    {
     "data": {
      "text/plain": [
       "id                   0\n",
       "gender               0\n",
       "age                  0\n",
       "hypertension         0\n",
       "heart_disease        0\n",
       "ever_married         0\n",
       "work_type            0\n",
       "Residence_type       0\n",
       "avg_glucose_level    0\n",
       "bmi                  0\n",
       "smoking_status       0\n",
       "stroke               0\n",
       "dtype: int64"
      ]
     },
     "execution_count": 15,
     "metadata": {},
     "output_type": "execute_result"
    }
   ],
   "source": [
    "clean_data.isnull().sum()"
   ]
  },
  {
   "cell_type": "code",
   "execution_count": 16,
   "id": "8b5fa499-5fb6-43b3-96c2-22ff26b7473e",
   "metadata": {},
   "outputs": [],
   "source": [
    "clean_data.smoking_status[clean_data.smoking_status == 'Unknown'] = 'Not Sure'"
   ]
  },
  {
   "cell_type": "code",
   "execution_count": 17,
   "id": "c5322654-f37a-406d-ae1e-f4e4e58d81e1",
   "metadata": {},
   "outputs": [
    {
     "data": {
      "text/plain": [
       "array(['formerly smoked', 'never smoked', 'smokes', 'Not Sure'],\n",
       "      dtype=object)"
      ]
     },
     "execution_count": 17,
     "metadata": {},
     "output_type": "execute_result"
    }
   ],
   "source": [
    "clean_data.smoking_status.unique()"
   ]
  },
  {
   "cell_type": "code",
   "execution_count": 18,
   "id": "2c676fc5-4c44-4597-9326-99419aed9017",
   "metadata": {},
   "outputs": [
    {
     "data": {
      "text/html": [
       "<div>\n",
       "<style scoped>\n",
       "    .dataframe tbody tr th:only-of-type {\n",
       "        vertical-align: middle;\n",
       "    }\n",
       "\n",
       "    .dataframe tbody tr th {\n",
       "        vertical-align: top;\n",
       "    }\n",
       "\n",
       "    .dataframe thead th {\n",
       "        text-align: right;\n",
       "    }\n",
       "</style>\n",
       "<table border=\"1\" class=\"dataframe\">\n",
       "  <thead>\n",
       "    <tr style=\"text-align: right;\">\n",
       "      <th></th>\n",
       "      <th>gender</th>\n",
       "      <th>age</th>\n",
       "      <th>hypertension</th>\n",
       "      <th>heart_disease</th>\n",
       "      <th>ever_married</th>\n",
       "      <th>work_type</th>\n",
       "      <th>Residence_type</th>\n",
       "      <th>avg_glucose_level</th>\n",
       "      <th>bmi</th>\n",
       "      <th>smoking_status</th>\n",
       "      <th>stroke</th>\n",
       "    </tr>\n",
       "  </thead>\n",
       "  <tbody>\n",
       "    <tr>\n",
       "      <th>0</th>\n",
       "      <td>Male</td>\n",
       "      <td>67.0</td>\n",
       "      <td>0</td>\n",
       "      <td>1</td>\n",
       "      <td>Yes</td>\n",
       "      <td>Private</td>\n",
       "      <td>Urban</td>\n",
       "      <td>228.69</td>\n",
       "      <td>36.6</td>\n",
       "      <td>formerly smoked</td>\n",
       "      <td>1</td>\n",
       "    </tr>\n",
       "    <tr>\n",
       "      <th>1</th>\n",
       "      <td>Female</td>\n",
       "      <td>61.0</td>\n",
       "      <td>0</td>\n",
       "      <td>0</td>\n",
       "      <td>Yes</td>\n",
       "      <td>Self-employed</td>\n",
       "      <td>Rural</td>\n",
       "      <td>202.21</td>\n",
       "      <td>28.89</td>\n",
       "      <td>never smoked</td>\n",
       "      <td>1</td>\n",
       "    </tr>\n",
       "    <tr>\n",
       "      <th>2</th>\n",
       "      <td>Male</td>\n",
       "      <td>80.0</td>\n",
       "      <td>0</td>\n",
       "      <td>1</td>\n",
       "      <td>Yes</td>\n",
       "      <td>Private</td>\n",
       "      <td>Rural</td>\n",
       "      <td>105.92</td>\n",
       "      <td>32.5</td>\n",
       "      <td>never smoked</td>\n",
       "      <td>1</td>\n",
       "    </tr>\n",
       "  </tbody>\n",
       "</table>\n",
       "</div>"
      ],
      "text/plain": [
       "   gender   age  hypertension  heart_disease ever_married      work_type  \\\n",
       "0    Male  67.0             0              1          Yes        Private   \n",
       "1  Female  61.0             0              0          Yes  Self-employed   \n",
       "2    Male  80.0             0              1          Yes        Private   \n",
       "\n",
       "  Residence_type  avg_glucose_level    bmi   smoking_status  stroke  \n",
       "0          Urban             228.69   36.6  formerly smoked       1  \n",
       "1          Rural             202.21  28.89     never smoked       1  \n",
       "2          Rural             105.92   32.5     never smoked       1  "
      ]
     },
     "execution_count": 18,
     "metadata": {},
     "output_type": "execute_result"
    }
   ],
   "source": [
    "# drop ID column \n",
    "clean_data.drop(columns=['id'], inplace=True)\n",
    "clean_data.head(3)"
   ]
  },
  {
   "cell_type": "markdown",
   "id": "fb7843f0-63b6-4bbb-adab-8a7cfcecb0be",
   "metadata": {},
   "source": [
    "#### Data Transformation"
   ]
  },
  {
   "cell_type": "code",
   "execution_count": 19,
   "id": "96ac8d15-e2a3-40e7-94a2-b11072028c8f",
   "metadata": {},
   "outputs": [],
   "source": [
    "clean_data.bmi = clean_data.bmi.astype('float64')"
   ]
  },
  {
   "cell_type": "code",
   "execution_count": 20,
   "id": "93ac95b6-6f97-4b10-b737-e78523b2e3d1",
   "metadata": {},
   "outputs": [
    {
     "name": "stdout",
     "output_type": "stream",
     "text": [
      "gender : ['Male' 'Female']\n",
      "ever_married : ['Yes' 'No']\n",
      "work_type : ['Private' 'Self-employed' 'Govt_job' 'children' 'Never_worked']\n",
      "Residence_type : ['Urban' 'Rural']\n",
      "smoking_status : ['formerly smoked' 'never smoked' 'smokes' 'Not Sure']\n"
     ]
    }
   ],
   "source": [
    "for col in clean_data.columns: \n",
    "    if clean_data[col].dtype == 'object':\n",
    "        print(f'{col} : {clean_data[col].unique()}')"
   ]
  },
  {
   "cell_type": "code",
   "execution_count": 21,
   "id": "ec560eda-b9c5-44cf-bf7b-11c902631de5",
   "metadata": {},
   "outputs": [],
   "source": [
    "# clean_data.gender.astype('category')"
   ]
  },
  {
   "cell_type": "code",
   "execution_count": 22,
   "id": "04689067-74de-46e5-ab21-271ab8655eb3",
   "metadata": {},
   "outputs": [
    {
     "name": "stdout",
     "output_type": "stream",
     "text": [
      "<class 'pandas.core.frame.DataFrame'>\n",
      "Int64Index: 5109 entries, 0 to 5109\n",
      "Data columns (total 11 columns):\n",
      " #   Column             Non-Null Count  Dtype   \n",
      "---  ------             --------------  -----   \n",
      " 0   gender             5109 non-null   category\n",
      " 1   age                5109 non-null   float64 \n",
      " 2   hypertension       5109 non-null   int64   \n",
      " 3   heart_disease      5109 non-null   int64   \n",
      " 4   ever_married       5109 non-null   category\n",
      " 5   work_type          5109 non-null   category\n",
      " 6   Residence_type     5109 non-null   category\n",
      " 7   avg_glucose_level  5109 non-null   float64 \n",
      " 8   bmi                5109 non-null   float64 \n",
      " 9   smoking_status     5109 non-null   category\n",
      " 10  stroke             5109 non-null   int64   \n",
      "dtypes: category(5), float64(3), int64(3)\n",
      "memory usage: 305.1 KB\n"
     ]
    }
   ],
   "source": [
    "# converting object type column to category\n",
    "for col in clean_data.columns: \n",
    "    if clean_data[col].dtype == 'object':\n",
    "        clean_data[col] = clean_data[col].astype('category')\n",
    "clean_data.info()"
   ]
  },
  {
   "cell_type": "code",
   "execution_count": 23,
   "id": "36549d3e-ac7e-49df-b973-c32f9294f876",
   "metadata": {},
   "outputs": [],
   "source": [
    "# converting each category type now to code e.g gender (male:1 and female:0)\n",
    "for col in clean_data.columns: \n",
    "    if clean_data[col].dtype == 'category':\n",
    "        clean_data[col] = clean_data[col].cat.codes"
   ]
  },
  {
   "cell_type": "code",
   "execution_count": 24,
   "id": "7230b1f9-4579-4df2-82ac-ca7e4fc3f155",
   "metadata": {},
   "outputs": [
    {
     "data": {
      "text/html": [
       "<div>\n",
       "<style scoped>\n",
       "    .dataframe tbody tr th:only-of-type {\n",
       "        vertical-align: middle;\n",
       "    }\n",
       "\n",
       "    .dataframe tbody tr th {\n",
       "        vertical-align: top;\n",
       "    }\n",
       "\n",
       "    .dataframe thead th {\n",
       "        text-align: right;\n",
       "    }\n",
       "</style>\n",
       "<table border=\"1\" class=\"dataframe\">\n",
       "  <thead>\n",
       "    <tr style=\"text-align: right;\">\n",
       "      <th></th>\n",
       "      <th>gender</th>\n",
       "      <th>age</th>\n",
       "      <th>hypertension</th>\n",
       "      <th>heart_disease</th>\n",
       "      <th>ever_married</th>\n",
       "      <th>work_type</th>\n",
       "      <th>Residence_type</th>\n",
       "      <th>avg_glucose_level</th>\n",
       "      <th>bmi</th>\n",
       "      <th>smoking_status</th>\n",
       "      <th>stroke</th>\n",
       "    </tr>\n",
       "  </thead>\n",
       "  <tbody>\n",
       "    <tr>\n",
       "      <th>0</th>\n",
       "      <td>1</td>\n",
       "      <td>67.0</td>\n",
       "      <td>0</td>\n",
       "      <td>1</td>\n",
       "      <td>1</td>\n",
       "      <td>2</td>\n",
       "      <td>1</td>\n",
       "      <td>228.69</td>\n",
       "      <td>36.60</td>\n",
       "      <td>1</td>\n",
       "      <td>1</td>\n",
       "    </tr>\n",
       "    <tr>\n",
       "      <th>1</th>\n",
       "      <td>0</td>\n",
       "      <td>61.0</td>\n",
       "      <td>0</td>\n",
       "      <td>0</td>\n",
       "      <td>1</td>\n",
       "      <td>3</td>\n",
       "      <td>0</td>\n",
       "      <td>202.21</td>\n",
       "      <td>28.89</td>\n",
       "      <td>2</td>\n",
       "      <td>1</td>\n",
       "    </tr>\n",
       "    <tr>\n",
       "      <th>2</th>\n",
       "      <td>1</td>\n",
       "      <td>80.0</td>\n",
       "      <td>0</td>\n",
       "      <td>1</td>\n",
       "      <td>1</td>\n",
       "      <td>2</td>\n",
       "      <td>0</td>\n",
       "      <td>105.92</td>\n",
       "      <td>32.50</td>\n",
       "      <td>2</td>\n",
       "      <td>1</td>\n",
       "    </tr>\n",
       "    <tr>\n",
       "      <th>3</th>\n",
       "      <td>0</td>\n",
       "      <td>49.0</td>\n",
       "      <td>0</td>\n",
       "      <td>0</td>\n",
       "      <td>1</td>\n",
       "      <td>2</td>\n",
       "      <td>1</td>\n",
       "      <td>171.23</td>\n",
       "      <td>34.40</td>\n",
       "      <td>3</td>\n",
       "      <td>1</td>\n",
       "    </tr>\n",
       "    <tr>\n",
       "      <th>4</th>\n",
       "      <td>0</td>\n",
       "      <td>79.0</td>\n",
       "      <td>1</td>\n",
       "      <td>0</td>\n",
       "      <td>1</td>\n",
       "      <td>3</td>\n",
       "      <td>0</td>\n",
       "      <td>174.12</td>\n",
       "      <td>24.00</td>\n",
       "      <td>2</td>\n",
       "      <td>1</td>\n",
       "    </tr>\n",
       "  </tbody>\n",
       "</table>\n",
       "</div>"
      ],
      "text/plain": [
       "   gender   age  hypertension  heart_disease  ever_married  work_type  \\\n",
       "0       1  67.0             0              1             1          2   \n",
       "1       0  61.0             0              0             1          3   \n",
       "2       1  80.0             0              1             1          2   \n",
       "3       0  49.0             0              0             1          2   \n",
       "4       0  79.0             1              0             1          3   \n",
       "\n",
       "   Residence_type  avg_glucose_level    bmi  smoking_status  stroke  \n",
       "0               1             228.69  36.60               1       1  \n",
       "1               0             202.21  28.89               2       1  \n",
       "2               0             105.92  32.50               2       1  \n",
       "3               1             171.23  34.40               3       1  \n",
       "4               0             174.12  24.00               2       1  "
      ]
     },
     "execution_count": 24,
     "metadata": {},
     "output_type": "execute_result"
    }
   ],
   "source": [
    "# visualizing the converted category to code (numeric representation) looks like\n",
    "clean_data.head()"
   ]
  },
  {
   "cell_type": "markdown",
   "id": "08ab01e5-8670-4564-92c6-fb3c37f8445f",
   "metadata": {},
   "source": [
    "#### Data Balacing"
   ]
  },
  {
   "cell_type": "code",
   "execution_count": 25,
   "id": "b907ad10-6d3b-4e4d-8320-d851d07427d0",
   "metadata": {},
   "outputs": [],
   "source": [
    "# extracting X (independent variable), and y (dependent variable) \n",
    "y = clean_data.stroke\n",
    "x = clean_data.drop(columns=['stroke'])"
   ]
  },
  {
   "cell_type": "code",
   "execution_count": 26,
   "id": "d1b5626e-eb05-4f09-8e4a-e3dd2938d2d4",
   "metadata": {},
   "outputs": [
    {
     "name": "stdout",
     "output_type": "stream",
     "text": [
      "1    4558\n",
      "0    3635\n",
      "Name: stroke, dtype: int64\n"
     ]
    }
   ],
   "source": [
    "# using hybridize synthetic Minority Oversampling Eddited Nearest Neighbout (SMOTEENN) to\n",
    "# balance the dataset.......\n",
    "sm = SMOTEENN()\n",
    "xres , yres = sm.fit_resample(x, y)\n",
    "print(yres.value_counts())"
   ]
  },
  {
   "cell_type": "code",
   "execution_count": 27,
   "id": "47de32d5-9371-450d-86ed-c3709165dcf7",
   "metadata": {},
   "outputs": [
    {
     "data": {
      "text/plain": [
       "Text(0.5, 1.0, 'Oversampled Dataset')"
      ]
     },
     "execution_count": 27,
     "metadata": {},
     "output_type": "execute_result"
    },
    {
     "data": {
      "image/png": "[encoded data removed]",
      "text/plain": [
       "<Figure size 400x300 with 1 Axes>"
      ]
     },
     "metadata": {},
     "output_type": "display_data"
    }
   ],
   "source": [
    "# the class is almost the same size.. the dataset class 0 and 1 is now almost balance this will \n",
    "# reduce biased prediction\n",
    "plt.figure(figsize=(4,3))\n",
    "yres.value_counts().plot(kind='bar', color=['brown', 'green'])\n",
    "plt.ylabel('No of Sample')\n",
    "plt.xlabel('Class')\n",
    "plt.title('Oversampled Dataset')"
   ]
  },
  {
   "cell_type": "code",
   "execution_count": 28,
   "id": "0aa0c430-968a-4604-a92b-017065658f13",
   "metadata": {},
   "outputs": [
    {
     "data": {
      "text/html": [
       "<div>\n",
       "<style scoped>\n",
       "    .dataframe tbody tr th:only-of-type {\n",
       "        vertical-align: middle;\n",
       "    }\n",
       "\n",
       "    .dataframe tbody tr th {\n",
       "        vertical-align: top;\n",
       "    }\n",
       "\n",
       "    .dataframe thead th {\n",
       "        text-align: right;\n",
       "    }\n",
       "</style>\n",
       "<table border=\"1\" class=\"dataframe\">\n",
       "  <thead>\n",
       "    <tr style=\"text-align: right;\">\n",
       "      <th></th>\n",
       "      <th>gender</th>\n",
       "      <th>age</th>\n",
       "      <th>hypertension</th>\n",
       "      <th>heart_disease</th>\n",
       "      <th>ever_married</th>\n",
       "      <th>work_type</th>\n",
       "      <th>Residence_type</th>\n",
       "      <th>avg_glucose_level</th>\n",
       "      <th>bmi</th>\n",
       "      <th>smoking_status</th>\n",
       "    </tr>\n",
       "  </thead>\n",
       "  <tbody>\n",
       "    <tr>\n",
       "      <th>0</th>\n",
       "      <td>1</td>\n",
       "      <td>3.000000</td>\n",
       "      <td>0</td>\n",
       "      <td>0</td>\n",
       "      <td>0</td>\n",
       "      <td>4</td>\n",
       "      <td>0</td>\n",
       "      <td>95.120000</td>\n",
       "      <td>18.000000</td>\n",
       "      <td>0</td>\n",
       "    </tr>\n",
       "    <tr>\n",
       "      <th>1</th>\n",
       "      <td>0</td>\n",
       "      <td>8.000000</td>\n",
       "      <td>0</td>\n",
       "      <td>0</td>\n",
       "      <td>0</td>\n",
       "      <td>2</td>\n",
       "      <td>1</td>\n",
       "      <td>110.890000</td>\n",
       "      <td>17.600000</td>\n",
       "      <td>0</td>\n",
       "    </tr>\n",
       "    <tr>\n",
       "      <th>2</th>\n",
       "      <td>1</td>\n",
       "      <td>14.000000</td>\n",
       "      <td>0</td>\n",
       "      <td>0</td>\n",
       "      <td>0</td>\n",
       "      <td>1</td>\n",
       "      <td>0</td>\n",
       "      <td>161.280000</td>\n",
       "      <td>19.100000</td>\n",
       "      <td>0</td>\n",
       "    </tr>\n",
       "    <tr>\n",
       "      <th>3</th>\n",
       "      <td>0</td>\n",
       "      <td>47.000000</td>\n",
       "      <td>0</td>\n",
       "      <td>0</td>\n",
       "      <td>1</td>\n",
       "      <td>2</td>\n",
       "      <td>1</td>\n",
       "      <td>210.950000</td>\n",
       "      <td>50.100000</td>\n",
       "      <td>0</td>\n",
       "    </tr>\n",
       "    <tr>\n",
       "      <th>4</th>\n",
       "      <td>0</td>\n",
       "      <td>79.000000</td>\n",
       "      <td>0</td>\n",
       "      <td>0</td>\n",
       "      <td>1</td>\n",
       "      <td>0</td>\n",
       "      <td>1</td>\n",
       "      <td>77.080000</td>\n",
       "      <td>35.000000</td>\n",
       "      <td>0</td>\n",
       "    </tr>\n",
       "    <tr>\n",
       "      <th>...</th>\n",
       "      <td>...</td>\n",
       "      <td>...</td>\n",
       "      <td>...</td>\n",
       "      <td>...</td>\n",
       "      <td>...</td>\n",
       "      <td>...</td>\n",
       "      <td>...</td>\n",
       "      <td>...</td>\n",
       "      <td>...</td>\n",
       "      <td>...</td>\n",
       "    </tr>\n",
       "    <tr>\n",
       "      <th>8188</th>\n",
       "      <td>0</td>\n",
       "      <td>45.227729</td>\n",
       "      <td>0</td>\n",
       "      <td>0</td>\n",
       "      <td>1</td>\n",
       "      <td>2</td>\n",
       "      <td>0</td>\n",
       "      <td>63.956109</td>\n",
       "      <td>29.428466</td>\n",
       "      <td>2</td>\n",
       "    </tr>\n",
       "    <tr>\n",
       "      <th>8189</th>\n",
       "      <td>0</td>\n",
       "      <td>79.245278</td>\n",
       "      <td>0</td>\n",
       "      <td>0</td>\n",
       "      <td>1</td>\n",
       "      <td>2</td>\n",
       "      <td>0</td>\n",
       "      <td>75.400181</td>\n",
       "      <td>30.167900</td>\n",
       "      <td>2</td>\n",
       "    </tr>\n",
       "    <tr>\n",
       "      <th>8190</th>\n",
       "      <td>1</td>\n",
       "      <td>68.754223</td>\n",
       "      <td>0</td>\n",
       "      <td>1</td>\n",
       "      <td>0</td>\n",
       "      <td>1</td>\n",
       "      <td>0</td>\n",
       "      <td>222.097802</td>\n",
       "      <td>31.648592</td>\n",
       "      <td>1</td>\n",
       "    </tr>\n",
       "    <tr>\n",
       "      <th>8191</th>\n",
       "      <td>0</td>\n",
       "      <td>62.138386</td>\n",
       "      <td>0</td>\n",
       "      <td>0</td>\n",
       "      <td>1</td>\n",
       "      <td>0</td>\n",
       "      <td>0</td>\n",
       "      <td>197.502663</td>\n",
       "      <td>29.695609</td>\n",
       "      <td>1</td>\n",
       "    </tr>\n",
       "    <tr>\n",
       "      <th>8192</th>\n",
       "      <td>1</td>\n",
       "      <td>76.650666</td>\n",
       "      <td>0</td>\n",
       "      <td>0</td>\n",
       "      <td>1</td>\n",
       "      <td>2</td>\n",
       "      <td>0</td>\n",
       "      <td>138.375736</td>\n",
       "      <td>31.103731</td>\n",
       "      <td>0</td>\n",
       "    </tr>\n",
       "  </tbody>\n",
       "</table>\n",
       "<p>8193 rows × 10 columns</p>\n",
       "</div>"
      ],
      "text/plain": [
       "      gender        age  hypertension  heart_disease  ever_married  work_type  \\\n",
       "0          1   3.000000             0              0             0          4   \n",
       "1          0   8.000000             0              0             0          2   \n",
       "2          1  14.000000             0              0             0          1   \n",
       "3          0  47.000000             0              0             1          2   \n",
       "4          0  79.000000             0              0             1          0   \n",
       "...      ...        ...           ...            ...           ...        ...   \n",
       "8188       0  45.227729             0              0             1          2   \n",
       "8189       0  79.245278             0              0             1          2   \n",
       "8190       1  68.754223             0              1             0          1   \n",
       "8191       0  62.138386             0              0             1          0   \n",
       "8192       1  76.650666             0              0             1          2   \n",
       "\n",
       "      Residence_type  avg_glucose_level        bmi  smoking_status  \n",
       "0                  0          95.120000  18.000000               0  \n",
       "1                  1         110.890000  17.600000               0  \n",
       "2                  0         161.280000  19.100000               0  \n",
       "3                  1         210.950000  50.100000               0  \n",
       "4                  1          77.080000  35.000000               0  \n",
       "...              ...                ...        ...             ...  \n",
       "8188               0          63.956109  29.428466               2  \n",
       "8189               0          75.400181  30.167900               2  \n",
       "8190               0         222.097802  31.648592               1  \n",
       "8191               0         197.502663  29.695609               1  \n",
       "8192               0         138.375736  31.103731               0  \n",
       "\n",
       "[8193 rows x 10 columns]"
      ]
     },
     "execution_count": 28,
     "metadata": {},
     "output_type": "execute_result"
    }
   ],
   "source": [
    "xres"
   ]
  },
  {
   "cell_type": "code",
   "execution_count": 29,
   "id": "6dfc621a-fc6e-406d-bd85-1c004ba08591",
   "metadata": {},
   "outputs": [
    {
     "data": {
      "image/png": "[encoded data removed]",
      "text/plain": [
       "<Figure size 300x300 with 1 Axes>"
      ]
     },
     "metadata": {},
     "output_type": "display_data"
    }
   ],
   "source": [
    "plt.figure(figsize=(3,3))\n",
    "plt.hist([xres.ever_married, yres],label=['married', 'stroke'])\n",
    "plt.legend()\n",
    "plt.show()"
   ]
  },
  {
   "cell_type": "code",
   "execution_count": null,
   "id": "02301aa7-c792-4ec0-ae1e-1b2a7a9eee33",
   "metadata": {},
   "outputs": [],
   "source": []
  },
  {
   "cell_type": "markdown",
   "id": "63b5563f-365c-44c3-beca-375c33a59f5a",
   "metadata": {},
   "source": [
    "#### Data Splitting "
   ]
  },
  {
   "cell_type": "code",
   "execution_count": 30,
   "id": "19a44f1c-236c-4488-ae8f-50802b982037",
   "metadata": {},
   "outputs": [
    {
     "name": "stdout",
     "output_type": "stream",
     "text": [
      "Xtrain : (6554, 10)\n",
      "Xtest : (1639, 10)\n"
     ]
    }
   ],
   "source": [
    "X_train, X_test, y_train, y_test = train_test_split(xres, yres, test_size=.20, random_state=1)\n",
    "\n",
    "print('Xtrain : {}'.format(X_train.shape))\n",
    "print('Xtest : {}'.format(X_test.shape))"
   ]
  },
  {
   "cell_type": "code",
   "execution_count": null,
   "id": "4d27213b-d8e7-4978-940c-f5939b4239a6",
   "metadata": {},
   "outputs": [],
   "source": []
  },
  {
   "cell_type": "markdown",
   "id": "1d291c19-27fa-4afc-88eb-0dd648ad135f",
   "metadata": {},
   "source": [
    "#### Stroke Prediction Model"
   ]
  },
  {
   "cell_type": "code",
   "execution_count": 31,
   "id": "759cec16-990b-4e59-8a37-e62e625ce3a7",
   "metadata": {},
   "outputs": [
    {
     "name": "stdout",
     "output_type": "stream",
     "text": [
      "Tranning Complete\n",
      "Training Accuracy: 1.0\n"
     ]
    }
   ],
   "source": [
    "rf = RandomForestClassifier()\n",
    "rf.fit(X_train, y_train)\n",
    "print('Tranning Complete')\n",
    "train_score = rf.score(X_train, y_train)\n",
    "print(\"Training Accuracy: {}\".format(train_score))"
   ]
  },
  {
   "cell_type": "markdown",
   "id": "18ee9557-a0ec-49c3-9050-b47e7274be16",
   "metadata": {},
   "source": [
    "#### Model Evaluation"
   ]
  },
  {
   "cell_type": "code",
   "execution_count": 32,
   "id": "bb13f855-c18e-45d6-971c-c54ecd3ca128",
   "metadata": {},
   "outputs": [
    {
     "data": {
      "text/plain": [
       "array([1, 1, 1, ..., 1, 1, 1], dtype=int64)"
      ]
     },
     "execution_count": 32,
     "metadata": {},
     "output_type": "execute_result"
    }
   ],
   "source": [
    "prediction  = rf.predict(X_test)\n",
    "prediction"
   ]
  },
  {
   "cell_type": "code",
   "execution_count": 33,
   "id": "d4f0901d-da77-43d2-9cfa-ad5f1194e315",
   "metadata": {},
   "outputs": [
    {
     "name": "stdout",
     "output_type": "stream",
     "text": [
      "              precision    recall  f1-score   support\n",
      "\n",
      "           0       0.99      0.94      0.97       721\n",
      "           1       0.96      0.99      0.97       918\n",
      "\n",
      "    accuracy                           0.97      1639\n",
      "   macro avg       0.97      0.97      0.97      1639\n",
      "weighted avg       0.97      0.97      0.97      1639\n",
      "\n"
     ]
    }
   ],
   "source": [
    "class_report  = classification_report(y_test, prediction)\n",
    "print(class_report)"
   ]
  },
  {
   "cell_type": "code",
   "execution_count": 41,
   "id": "e78ee2c9-3965-4832-883d-c7f9b84360e5",
   "metadata": {},
   "outputs": [
    {
     "data": {
      "image/png": "[encoded data removed]",
      "text/plain": [
       "<Figure size 600x400 with 2 Axes>"
      ]
     },
     "metadata": {},
     "output_type": "display_data"
    }
   ],
   "source": [
    "com_matrix  = confusion_matrix(y_test, prediction)\n",
    "plt.figure(figsize=(6,4))\n",
    "sn.heatmap(com_matrix, fmt='d', annot=True, xticklabels=['Yes', 'No'], yticklabels=['Yes', 'No'])\n",
    "TP, FP, FN, TN = com_matrix.flatten()\n",
    "plt.title('Stroke Prediction==>> TP:{} <--->  FP:{} <--->  FN:{}  <---> TN:{}'.format(TP, FP, FN, TN))\n",
    "plt.show()"
   ]
  },
  {
   "cell_type": "code",
   "execution_count": 35,
   "id": "389e2366-8db7-433f-9553-f8b1ff045eb9",
   "metadata": {},
   "outputs": [],
   "source": [
    "# mY OWN PERSONAL Lerning ... (DON'T DOCUMENT THIS... )"
   ]
  },
  {
   "cell_type": "code",
   "execution_count": 36,
   "id": "b054877f-944d-46d6-8e88-af7ef9619826",
   "metadata": {},
   "outputs": [
    {
     "name": "stdout",
     "output_type": "stream",
     "text": [
      "0.9713239780353874\n"
     ]
    }
   ],
   "source": [
    "TP, FP, FN, TN = com_matrix.flatten()\n",
    "accuracy = (TP+TN)/(TP+FP+FN+TN)\n",
    "print(accuracy)"
   ]
  },
  {
   "cell_type": "code",
   "execution_count": 37,
   "id": "4064f9ab-3e88-49c3-a986-98b4dc16f90e",
   "metadata": {},
   "outputs": [
    {
     "data": {
      "text/plain": [
       "'TP:681 <--->  FP:40 <--->  FN:7  <---> TN:911'"
      ]
     },
     "execution_count": 37,
     "metadata": {},
     "output_type": "execute_result"
    }
   ],
   "source": [
    "'TP:{} <--->  FP:{} <--->  FN:{}  <---> TN:{}'.format(TP, FP, FN, TN)"
   ]
  }
 ],
 "metadata": {
  "kernelspec": {
   "display_name": "Python 3 (ipykernel)",
   "language": "python",
   "name": "python3"
  },
  "language_info": {
   "codemirror_mode": {
    "name": "ipython",
    "version": 3
   },
   "file_extension": ".py",
   "mimetype": "text/x-python",
   "name": "python",
   "nbconvert_exporter": "python",
   "pygments_lexer": "ipython3",
   "version": "3.9.5"
  }
 },
 "nbformat": 4,
 "nbformat_minor": 5
}
