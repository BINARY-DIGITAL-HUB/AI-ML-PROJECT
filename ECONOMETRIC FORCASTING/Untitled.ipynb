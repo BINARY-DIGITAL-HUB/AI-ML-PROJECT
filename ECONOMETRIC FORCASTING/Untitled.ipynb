{
 "cells": [
  {
   "cell_type": "markdown",
   "id": "fa75a400-c958-47bc-b51b-770482bd7f25",
   "metadata": {},
   "source": [
    "provide a Python implementation of a Hybrid ARIMA-ML model for CPI forecasting. This will include:\n",
    "\n",
    "ARIMA for Base Forecasting\n",
    "Residual Computation\n",
    "LSTM Model to Predict Residuals\n",
    "Final CPI Forecast (ARIMA + LSTM Prediction)"
   ]
  },
  {
   "cell_type": "code",
   "execution_count": null,
   "id": "dbe5e6c5-ce6f-4933-9452-cb591998eee1",
   "metadata": {},
   "outputs": [],
   "source": [
    "pip install numpy pandas matplotlib statsmodels tensorflow scikit-learn"
   ]
  },
  {
   "cell_type": "code",
   "execution_count": null,
   "id": "bbf5bbf8-0c4d-467d-bb07-a245e95de574",
   "metadata": {},
   "outputs": [],
   "source": [
    "import numpy as np\n",
    "import pandas as pd\n",
    "import matplotlib.pyplot as plt\n",
    "from statsmodels.tsa.arima.model import ARIMA\n",
    "from sklearn.preprocessing import MinMaxScaler\n",
    "from tensorflow.keras.models import Sequential\n",
    "from tensorflow.keras.layers import LSTM, Dense\n",
    "\n",
    "# Ignore warnings\n",
    "import warnings\n",
    "warnings.filterwarnings(\"ignore\")"
   ]
  },
  {
   "cell_type": "code",
   "execution_count": null,
   "id": "7e491a4f-71af-44e7-9f00-2b1de55b2519",
   "metadata": {},
   "outputs": [],
   "source": [
    "# Load CPI data (Example: Monthly CPI data)\n",
    "df = pd.read_csv(\"cpi_data.csv\", parse_dates=['Date'], index_col='Date')\n",
    "df = df.asfreq('M')  # Ensure data is monthly\n",
    "df.dropna(inplace=True)  # Remove missing values\n",
    "\n",
    "# Visualize the CPI trend\n",
    "plt.figure(figsize=(10,5))\n",
    "plt.plot(df, label=\"CPI\")\n",
    "plt.title(\"CPI Time Series Data\")\n",
    "plt.legend()\n",
    "plt.show()\n"
   ]
  },
  {
   "cell_type": "code",
   "execution_count": null,
   "id": "91d74785-5c45-42c4-970e-875912c17c85",
   "metadata": {},
   "outputs": [],
   "source": [
    "# Fit ARIMA Model (p=2, d=1, q=2 is an example, optimize for best results)\n",
    "arima_model = ARIMA(df, order=(2,1,2))\n",
    "arima_result = arima_model.fit()\n",
    "\n",
    "# Generate ARIMA Forecast\n",
    "df['ARIMA_Forecast'] = arima_result.fittedvalues\n",
    "\n",
    "# Compute Residuals (Errors)\n",
    "df['Residuals'] = df.iloc[:, 0] - df['ARIMA_Forecast']\n",
    "\n",
    "# Plot Residuals\n",
    "plt.figure(figsize=(10,5))\n",
    "plt.plot(df['Residuals'], label=\"Residuals\")\n",
    "plt.title(\"Residuals (CPI - ARIMA Prediction)\")\n",
    "plt.legend()\n",
    "plt.show()\n"
   ]
  },
  {
   "cell_type": "code",
   "execution_count": null,
   "id": "33677f3b-d725-4d3b-ab24-19d7e16b236c",
   "metadata": {},
   "outputs": [],
   "source": [
    "# Normalize Residuals\n",
    "scaler = MinMaxScaler()\n",
    "df['Residuals_Scaled'] = scaler.fit_transform(df[['Residuals']])\n",
    "\n",
    "# Create sequences for LSTM\n",
    "def create_sequences(data, seq_length=10):\n",
    "    X, y = [], []\n",
    "    for i in range(len(data) - seq_length):\n",
    "        X.append(data[i:i+seq_length])\n",
    "        y.append(data[i+seq_length])\n",
    "    return np.array(X), np.array(y)\n",
    "\n",
    "# Define sequence length\n",
    "SEQ_LENGTH = 10  # Lookback window\n",
    "\n",
    "# Prepare training data\n",
    "X, y = create_sequences(df['Residuals_Scaled'].values, SEQ_LENGTH)\n",
    "\n",
    "# Reshape for LSTM [Samples, TimeSteps, Features]\n",
    "X = X.reshape(X.shape[0], X.shape[1], 1)\n"
   ]
  },
  {
   "cell_type": "code",
   "execution_count": null,
   "id": "facedd10-2843-4fe9-99bf-f7495499c10c",
   "metadata": {},
   "outputs": [],
   "source": [
    "# Define LSTM Model\n",
    "model = Sequential([\n",
    "    LSTM(50, activation='relu', return_sequences=True, input_shape=(SEQ_LENGTH, 1)),\n",
    "    LSTM(50, activation='relu'),\n",
    "    Dense(1)\n",
    "])\n",
    "\n",
    "model.compile(optimizer='adam', loss='mse')\n",
    "model.fit(X, y, epochs=50, batch_size=16, verbose=1)\n",
    "\n",
    "# Predict Residuals\n",
    "predicted_residuals = model.predict(X)\n",
    "predicted_residuals = scaler.inverse_transform(predicted_residuals)\n",
    "\n",
    "# Align Predictions with DataFrame\n",
    "df['Predicted_Residuals'] = np.nan\n",
    "df.iloc[SEQ_LENGTH:, df.columns.get_loc('Predicted_Residuals')] = predicted_residuals[:, 0]\n"
   ]
  },
  {
   "cell_type": "code",
   "execution_count": null,
   "id": "1293bed7-03c8-465d-af3c-7cfe835f9807",
   "metadata": {},
   "outputs": [],
   "source": [
    "df['Final_Forecast'] = df['ARIMA_Forecast'] + df['Predicted_Residuals']\n",
    "\n",
    "# Plot Results\n",
    "plt.figure(figsize=(12,6))\n",
    "plt.plot(df.iloc[:, 0], label=\"Actual CPI\", color='black')\n",
    "plt.plot(df['ARIMA_Forecast'], label=\"ARIMA Forecast\", linestyle=\"dashed\", color='blue')\n",
    "plt.plot(df['Final_Forecast'], label=\"Hybrid ARIMA-LSTM\", linestyle=\"dashed\", color='red')\n",
    "plt.title(\"Hybrid ARIMA-LSTM CPI Forecasting\")\n",
    "plt.legend()\n",
    "plt.show()\n"
   ]
  },
  {
   "cell_type": "code",
   "execution_count": null,
   "id": "b9843ba8-72b9-4b80-8723-e7d259fd7f5e",
   "metadata": {},
   "outputs": [],
   "source": [
    "✅ ARIMA captures linear trends & seasonality\n",
    "✅ LSTM models nonlinear residuals (shocks, external factors)\n",
    "✅ Final model improves accuracy over standalone ARIMA or LSTM\n",
    "\n",
    "Would you like to extend this to ARIMA-XGBoost or add external economic indicators (e.g., GDP, interest rates)? 🚀"
   ]
  },
  {
   "cell_type": "code",
   "execution_count": null,
   "id": "39b29dff-ce73-48ce-b1aa-b0ca4f1a60b1",
   "metadata": {},
   "outputs": [],
   "source": []
  }
 ],
 "metadata": {
  "kernelspec": {
   "display_name": "Python 3 (ipykernel)",
   "language": "python",
   "name": "python3"
  },
  "language_info": {
   "codemirror_mode": {
    "name": "ipython",
    "version": 3
   },
   "file_extension": ".py",
   "mimetype": "text/x-python",
   "name": "python",
   "nbconvert_exporter": "python",
   "pygments_lexer": "ipython3",
   "version": "3.9.5"
  }
 },
 "nbformat": 4,
 "nbformat_minor": 5
}
