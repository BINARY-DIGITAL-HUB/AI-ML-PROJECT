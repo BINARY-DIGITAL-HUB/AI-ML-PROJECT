{
 "cells": [
  {
   "cell_type": "code",
   "execution_count": 5,
   "id": "4198c334-e8f1-4289-a146-ecef545524e5",
   "metadata": {},
   "outputs": [
    {
     "ename": "_InactiveRpcError",
     "evalue": "<_InactiveRpcError of RPC that terminated with:\n\tstatus = StatusCode.UNAVAILABLE\n\tdetails = \"failed to connect to all addresses; last error: UNAVAILABLE: ipv4:127.0.0.1:50051: WSA Error\"\n\tdebug_error_string = \"UNKNOWN:failed to connect to all addresses; last error: UNAVAILABLE: ipv4:127.0.0.1:50051: WSA Error {grpc_status:14, created_time:\"2023-10-27T16:12:40.879406769+00:00\"}\"\n>",
     "output_type": "error",
     "traceback": [
      "\u001b[1;31m------------------------------------------------------------------------\u001b[0m",
      "\u001b[1;31m_InactiveRpcError\u001b[0m                      Traceback (most recent call last)",
      "Cell \u001b[1;32mIn[5], line 18\u001b[0m\n\u001b[0;32m      7\u001b[0m alice_tx \u001b[38;5;241m=\u001b[39m iroha\u001b[38;5;241m.\u001b[39mtransaction(\n\u001b[0;32m      8\u001b[0m     [iroha\u001b[38;5;241m.\u001b[39mcommand(\n\u001b[0;32m      9\u001b[0m         \u001b[38;5;124m'\u001b[39m\u001b[38;5;124mTransferAsset\u001b[39m\u001b[38;5;124m'\u001b[39m, \n\u001b[1;32m   (...)\u001b[0m\n\u001b[0;32m     15\u001b[0m     )]\n\u001b[0;32m     16\u001b[0m )\n\u001b[0;32m     17\u001b[0m IrohaCrypto\u001b[38;5;241m.\u001b[39msign_transaction(alice_tx, alice_key)\n\u001b[1;32m---> 18\u001b[0m \u001b[43mnet\u001b[49m\u001b[38;5;241;43m.\u001b[39;49m\u001b[43msend_tx\u001b[49m\u001b[43m(\u001b[49m\u001b[43malice_tx\u001b[49m\u001b[43m)\u001b[49m\n\u001b[0;32m     20\u001b[0m \u001b[38;5;28;01mfor\u001b[39;00m status \u001b[38;5;129;01min\u001b[39;00m net\u001b[38;5;241m.\u001b[39mtx_status_stream(alice_tx):\n\u001b[0;32m     21\u001b[0m     \u001b[38;5;28mprint\u001b[39m(status)\n",
      "File \u001b[1;32mc:\\users\\hp\\appdata\\local\\programs\\python\\python39\\lib\\site-packages\\iroha\\iroha.py:421\u001b[0m, in \u001b[0;36mIrohaGrpc.send_tx\u001b[1;34m(self, transaction, timeout)\u001b[0m\n\u001b[0;32m    419\u001b[0m \u001b[38;5;28;01mif\u001b[39;00m \u001b[38;5;129;01mnot\u001b[39;00m timeout:\n\u001b[0;32m    420\u001b[0m     timeout \u001b[38;5;241m=\u001b[39m \u001b[38;5;28mself\u001b[39m\u001b[38;5;241m.\u001b[39m_timeout\n\u001b[1;32m--> 421\u001b[0m \u001b[38;5;28;43mself\u001b[39;49m\u001b[38;5;241;43m.\u001b[39;49m\u001b[43m_command_service_stub\u001b[49m\u001b[38;5;241;43m.\u001b[39;49m\u001b[43mTorii\u001b[49m\u001b[43m(\u001b[49m\u001b[43mtransaction\u001b[49m\u001b[43m,\u001b[49m\u001b[43m \u001b[49m\u001b[43mtimeout\u001b[49m\u001b[38;5;241;43m=\u001b[39;49m\u001b[43mtimeout\u001b[49m\u001b[43m)\u001b[49m\n",
      "File \u001b[1;32mc:\\users\\hp\\appdata\\local\\programs\\python\\python39\\lib\\site-packages\\grpc\\_channel.py:1030\u001b[0m, in \u001b[0;36m_UnaryUnaryMultiCallable.__call__\u001b[1;34m(self, request, timeout, metadata, credentials, wait_for_ready, compression)\u001b[0m\n\u001b[0;32m   1021\u001b[0m \u001b[38;5;28;01mdef\u001b[39;00m \u001b[38;5;21m__call__\u001b[39m(\u001b[38;5;28mself\u001b[39m,\n\u001b[0;32m   1022\u001b[0m              request: Any,\n\u001b[0;32m   1023\u001b[0m              timeout: Optional[\u001b[38;5;28mfloat\u001b[39m] \u001b[38;5;241m=\u001b[39m \u001b[38;5;28;01mNone\u001b[39;00m,\n\u001b[1;32m   (...)\u001b[0m\n\u001b[0;32m   1026\u001b[0m              wait_for_ready: Optional[\u001b[38;5;28mbool\u001b[39m] \u001b[38;5;241m=\u001b[39m \u001b[38;5;28;01mNone\u001b[39;00m,\n\u001b[0;32m   1027\u001b[0m              compression: Optional[grpc\u001b[38;5;241m.\u001b[39mCompression] \u001b[38;5;241m=\u001b[39m \u001b[38;5;28;01mNone\u001b[39;00m) \u001b[38;5;241m-\u001b[39m\u001b[38;5;241m>\u001b[39m Any:\n\u001b[0;32m   1028\u001b[0m     state, call, \u001b[38;5;241m=\u001b[39m \u001b[38;5;28mself\u001b[39m\u001b[38;5;241m.\u001b[39m_blocking(request, timeout, metadata, credentials,\n\u001b[0;32m   1029\u001b[0m                                   wait_for_ready, compression)\n\u001b[1;32m-> 1030\u001b[0m     \u001b[38;5;28;01mreturn\u001b[39;00m \u001b[43m_end_unary_response_blocking\u001b[49m\u001b[43m(\u001b[49m\u001b[43mstate\u001b[49m\u001b[43m,\u001b[49m\u001b[43m \u001b[49m\u001b[43mcall\u001b[49m\u001b[43m,\u001b[49m\u001b[43m \u001b[49m\u001b[38;5;28;43;01mFalse\u001b[39;49;00m\u001b[43m,\u001b[49m\u001b[43m \u001b[49m\u001b[38;5;28;43;01mNone\u001b[39;49;00m\u001b[43m)\u001b[49m\n",
      "File \u001b[1;32mc:\\users\\hp\\appdata\\local\\programs\\python\\python39\\lib\\site-packages\\grpc\\_channel.py:910\u001b[0m, in \u001b[0;36m_end_unary_response_blocking\u001b[1;34m(state, call, with_call, deadline)\u001b[0m\n\u001b[0;32m    908\u001b[0m         \u001b[38;5;28;01mreturn\u001b[39;00m state\u001b[38;5;241m.\u001b[39mresponse\n\u001b[0;32m    909\u001b[0m \u001b[38;5;28;01melse\u001b[39;00m:\n\u001b[1;32m--> 910\u001b[0m     \u001b[38;5;28;01mraise\u001b[39;00m _InactiveRpcError(state)\n",
      "\u001b[1;31m_InactiveRpcError\u001b[0m: <_InactiveRpcError of RPC that terminated with:\n\tstatus = StatusCode.UNAVAILABLE\n\tdetails = \"failed to connect to all addresses; last error: UNAVAILABLE: ipv4:127.0.0.1:50051: WSA Error\"\n\tdebug_error_string = \"UNKNOWN:failed to connect to all addresses; last error: UNAVAILABLE: ipv4:127.0.0.1:50051: WSA Error {grpc_status:14, created_time:\"2023-10-27T16:12:40.879406769+00:00\"}\"\n>"
     ]
    }
   ],
   "source": [
    "from iroha import Iroha, IrohaCrypto, IrohaGrpc\n",
    "\n",
    "iroha = Iroha('alice@test')\n",
    "net = IrohaGrpc('127.0.0.1:50051')\n",
    "\n",
    "alice_key = IrohaCrypto.private_key()\n",
    "alice_tx = iroha.transaction(\n",
    "    [iroha.command(\n",
    "        'TransferAsset', \n",
    "        src_account_id='alice@test', \n",
    "        dest_account_id='bob@test', \n",
    "        asset_id='bitcoin#test',\n",
    "        description='test',\n",
    "        amount='1'\n",
    "    )]\n",
    ")\n",
    "IrohaCrypto.sign_transaction(alice_tx, alice_key)\n",
    "net.send_tx(alice_tx)\n",
    "\n",
    "for status in net.tx_status_stream(alice_tx):\n",
    "    print(status)"
   ]
  },
  {
   "cell_type": "code",
   "execution_count": null,
   "id": "0000cd8d-2283-4cd2-9fa3-fecf166e8754",
   "metadata": {},
   "outputs": [],
   "source": [
    "# dummyxxxxxxxxx"
   ]
  },
  {
   "cell_type": "code",
   "execution_count": 26,
   "id": "8630ae2c-e125-47e0-ab4f-c2c1ac4e8268",
   "metadata": {},
   "outputs": [
    {
     "data": {
      "text/plain": [
       "<Response [200]>"
      ]
     },
     "execution_count": 26,
     "metadata": {},
     "output_type": "execute_result"
    }
   ],
   "source": [
    "import requests\n",
    "from pprint import PrettyPrinter\n",
    "pp = PrettyPrinter()\n",
    "\n",
    "\n",
    "\n",
    "url = \"https://marketdata.tradermade.com/api/v1/live\"\n",
    "\n",
    "currency = \"USDJPY,GBPUSD,UK100\"\n",
    "api_key = \"dummyxxxxxxxxx\"\n",
    "\n",
    "\n",
    "querystring = {\"currency\":currency, \"api_key\":api_key}\n",
    "\n",
    "response = requests.get(url, params=querystring)\n",
    "\n",
    "response\n",
    "# pp.pprint(response.json())"
   ]
  },
  {
   "cell_type": "code",
   "execution_count": 34,
   "id": "2eba0ab5-d73f-4904-b8d6-8917f4535f58",
   "metadata": {},
   "outputs": [
    {
     "name": "stdout",
     "output_type": "stream",
     "text": [
      "{'result': 'success', 'documentation': 'https://www.exchangerate-api.com/docs', 'terms_of_use': 'https://www.exchangerate-api.com/terms', 'time_last_update_unix': 1700179201, 'time_last_update_utc': 'Fri, 17 Nov 2023 00:00:01 +0000', 'time_next_update_unix': 1700265601, 'time_next_update_utc': 'Sat, 18 Nov 2023 00:00:01 +0000', 'base_code': 'USD', 'conversion_rates': {'USD': 1, 'AED': 3.6725, 'AFN': 71.7041, 'ALL': 96.6843, 'AMD': 402.2533, 'ANG': 1.79, 'AOA': 833.8977, 'ARS': 353.48, 'AUD': 1.5441, 'AWG': 1.79, 'AZN': 1.703, 'BAM': 1.8021, 'BBD': 2.0, 'BDT': 110.6917, 'BGN': 1.8022, 'BHD': 0.376, 'BIF': 2836.7694, 'BMD': 1.0, 'BND': 1.3479, 'BOB': 6.8702, 'BRL': 4.8622, 'BSD': 1.0, 'BTN': 83.224, 'BWP': 13.4241, 'BYN': 3.2254, 'BZD': 2.0, 'CAD': 1.374, 'CDF': 2485.2513, 'CHF': 0.8886, 'CLP': 890.3646, 'CNY': 7.2464, 'COP': 4048.219, 'CRC': 526.9722, 'CUP': 24.0, 'CVE': 101.5982, 'CZK': 22.5395, 'DJF': 177.721, 'DKK': 6.8729, 'DOP': 56.4384, 'DZD': 134.1302, 'EGP': 30.9278, 'ERN': 15.0, 'ETB': 55.9225, 'EUR': 0.9214, 'FJD': 2.2715, 'FKP': 0.8055, 'FOK': 6.8727, 'GBP': 0.8055, 'GEL': 2.6986, 'GGP': 0.8055, 'GHS': 12.0272, 'GIP': 0.8055, 'GMD': 65.8943, 'GNF': 8598.4054, 'GTQ': 7.7724, 'GYD': 209.81, 'HKD': 7.8032, 'HNL': 24.5189, 'HRK': 6.9423, 'HTG': 132.8216, 'HUF': 346.9502, 'IDR': 15548.8729, 'ILS': 3.7459, 'IMP': 0.8055, 'INR': 83.2231, 'IQD': 1311.397, 'IRR': 42048.3152, 'ISK': 141.2447, 'JEP': 0.8055, 'JMD': 155.9984, 'JOD': 0.709, 'JPY': 150.7764, 'KES': 152.6056, 'KGS': 89.3156, 'KHR': 4123.6854, 'KID': 1.5441, 'KMF': 453.2993, 'KRW': 1293.3417, 'KWD': 0.3084, 'KYD': 0.8333, 'KZT': 461.8397, 'LAK': 20499.914, 'LBP': 15000.0, 'LKR': 328.7459, 'LRD': 189.4891, 'LSL': 18.3481, 'LYD': 4.8625, 'MAD': 10.1619, 'MDL': 17.9283, 'MGA': 4526.7334, 'MKD': 56.7584, 'MMK': 2084.2208, 'MNT': 3418.3302, 'MOP': 8.0372, 'MRU': 39.7002, 'MUR': 44.2734, 'MVR': 15.4514, 'MWK': 1693.8024, 'MXN': 17.2562, 'MYR': 4.6873, 'MZN': 63.9469, 'NAD': 18.3481, 'NGN': 824.0283, 'NIO': 36.3312, 'NOK': 10.8971, 'NPR': 133.1584, 'NZD': 1.6733, 'OMR': 0.3845, 'PAB': 1.0, 'PEN': 3.8212, 'PGK': 3.7065, 'PHP': 55.6864, 'PKR': 288.7396, 'PLN': 4.0323, 'PYG': 7347.9724, 'QAR': 3.64, 'RON': 4.5817, 'RSD': 108.0567, 'RUB': 89.3482, 'RWF': 1267.6172, 'SAR': 3.75, 'SBD': 8.519, 'SCR': 13.1229, 'SDG': 560.4694, 'SEK': 10.5858, 'SGD': 1.3478, 'SHP': 0.8055, 'SLE': 22.2309, 'SLL': 22230.9299, 'SOS': 572.885, 'SRD': 38.2301, 'SSP': 1063.8344, 'STN': 22.5743, 'SYP': 12844.3965, 'SZL': 18.3481, 'THB': 35.3706, 'TJS': 10.9375, 'TMT': 3.5039, 'TND': 3.1147, 'TOP': 2.3464, 'TRY': 28.6899, 'TTD': 6.734, 'TVD': 1.5441, 'TWD': 31.7854, 'TZS': 2512.2373, 'UAH': 36.2783, 'UGX': 3783.7133, 'UYU': 39.6416, 'UZS': 12318.0798, 'VES': 35.4298, 'VND': 24254.3078, 'VUV': 121.3181, 'WST': 2.7489, 'XAF': 604.399, 'XCD': 2.7, 'XDR': 0.7547, 'XOF': 604.399, 'XPF': 109.9525, 'YER': 248.4193, 'ZAR': 18.3587, 'ZMW': 23.191, 'ZWL': 5771.8592}}\n"
     ]
    }
   ],
   "source": [
    "\n",
    "import requests\n",
    "\n",
    "# Where USD is the base currency you want to use\n",
    "url = 'https://v6.exchangerate-api.com/v6/e6930bf866239e50d4db1e64/latest/USD'\n",
    "\n",
    "# Making our request\n",
    "response = requests.get(url)\n",
    "data = response.json()\n",
    "\n",
    "# Your JSON object\n",
    "print(data)\n",
    "\t"
   ]
  },
  {
   "cell_type": "code",
   "execution_count": 35,
   "id": "98eb9cd8-b369-4973-9df9-d81bf869b162",
   "metadata": {},
   "outputs": [
    {
     "data": {
      "text/plain": [
       "dict_keys(['result', 'documentation', 'terms_of_use', 'time_last_update_unix', 'time_last_update_utc', 'time_next_update_unix', 'time_next_update_utc', 'base_code', 'conversion_rates'])"
      ]
     },
     "execution_count": 35,
     "metadata": {},
     "output_type": "execute_result"
    }
   ],
   "source": [
    "data.keys()"
   ]
  },
  {
   "cell_type": "code",
   "execution_count": null,
   "id": "18fef95c-900e-4686-ba01-3c3a37271b5c",
   "metadata": {},
   "outputs": [],
   "source": [
    "converter = data['conversion_rates']\n",
    "converter"
   ]
  },
  {
   "cell_type": "raw",
   "id": "9eb828dc-17b6-4e84-a772-6b7f5e1545ca",
   "metadata": {
    "scrolled": true
   },
   "source": []
  }
 ],
 "metadata": {
  "kernelspec": {
   "display_name": "Python 3 (ipykernel)",
   "language": "python",
   "name": "python3"
  },
  "language_info": {
   "codemirror_mode": {
    "name": "ipython",
    "version": 3
   },
   "file_extension": ".py",
   "mimetype": "text/x-python",
   "name": "python",
   "nbconvert_exporter": "python",
   "pygments_lexer": "ipython3",
   "version": "3.9.5"
  }
 },
 "nbformat": 4,
 "nbformat_minor": 5
}
