{
 "cells": [
  {
   "cell_type": "code",
   "execution_count": 352,
   "id": "90d290e3-4c59-4c36-877a-cf659301f957",
   "metadata": {},
   "outputs": [],
   "source": [
    "import pandas as pd \n",
    "import matplotlib.pyplot as plt\n",
    "import numpy as np\n",
    "from sklearn.preprocessing import LabelEncoder , MinMaxScaler\n",
    "from sklearn import model_selection\n",
    "from sklearn import svm\n",
    "from sklearn.ensemble import GradientBoostingClassifier, RandomForestClassifier\n",
    "from sklearn.neighbors import KNeighborsRegressor\n",
    "\n",
    "\n",
    "import warnings\n",
    "warnings.filterwarnings('ignore')"
   ]
  },
  {
   "cell_type": "markdown",
   "id": "3031a6af-e477-4e9f-8edb-a227e108cc45",
   "metadata": {},
   "source": [
    "## Data Importation"
   ]
  },
  {
   "cell_type": "code",
   "execution_count": 223,
   "id": "3aaef179-c194-449b-aae7-26661dde3894",
   "metadata": {},
   "outputs": [
    {
     "data": {
      "text/html": [
       "<div>\n",
       "<style scoped>\n",
       "    .dataframe tbody tr th:only-of-type {\n",
       "        vertical-align: middle;\n",
       "    }\n",
       "\n",
       "    .dataframe tbody tr th {\n",
       "        vertical-align: top;\n",
       "    }\n",
       "\n",
       "    .dataframe thead th {\n",
       "        text-align: right;\n",
       "    }\n",
       "</style>\n",
       "<table border=\"1\" class=\"dataframe\">\n",
       "  <thead>\n",
       "    <tr style=\"text-align: right;\">\n",
       "      <th></th>\n",
       "      <th>Country</th>\n",
       "      <th>City</th>\n",
       "      <th>AQI Value</th>\n",
       "      <th>AQI Category</th>\n",
       "      <th>CO AQI Value</th>\n",
       "      <th>CO AQI Category</th>\n",
       "      <th>Ozone AQI Value</th>\n",
       "      <th>Ozone AQI Category</th>\n",
       "      <th>NO2 AQI Value</th>\n",
       "      <th>NO2 AQI Category</th>\n",
       "      <th>PM2.5 AQI Value</th>\n",
       "      <th>PM2.5 AQI Category</th>\n",
       "    </tr>\n",
       "  </thead>\n",
       "  <tbody>\n",
       "    <tr>\n",
       "      <th>0</th>\n",
       "      <td>Russian Federation</td>\n",
       "      <td>Praskoveya</td>\n",
       "      <td>51</td>\n",
       "      <td>Moderate</td>\n",
       "      <td>1</td>\n",
       "      <td>Good</td>\n",
       "      <td>36</td>\n",
       "      <td>Good</td>\n",
       "      <td>0</td>\n",
       "      <td>Good</td>\n",
       "      <td>51</td>\n",
       "      <td>Moderate</td>\n",
       "    </tr>\n",
       "    <tr>\n",
       "      <th>1</th>\n",
       "      <td>Brazil</td>\n",
       "      <td>Presidente Dutra</td>\n",
       "      <td>41</td>\n",
       "      <td>Good</td>\n",
       "      <td>1</td>\n",
       "      <td>Good</td>\n",
       "      <td>5</td>\n",
       "      <td>Good</td>\n",
       "      <td>1</td>\n",
       "      <td>Good</td>\n",
       "      <td>41</td>\n",
       "      <td>Good</td>\n",
       "    </tr>\n",
       "    <tr>\n",
       "      <th>2</th>\n",
       "      <td>Italy</td>\n",
       "      <td>Priolo Gargallo</td>\n",
       "      <td>66</td>\n",
       "      <td>Moderate</td>\n",
       "      <td>1</td>\n",
       "      <td>Good</td>\n",
       "      <td>39</td>\n",
       "      <td>Good</td>\n",
       "      <td>2</td>\n",
       "      <td>Good</td>\n",
       "      <td>66</td>\n",
       "      <td>Moderate</td>\n",
       "    </tr>\n",
       "    <tr>\n",
       "      <th>3</th>\n",
       "      <td>Poland</td>\n",
       "      <td>Przasnysz</td>\n",
       "      <td>34</td>\n",
       "      <td>Good</td>\n",
       "      <td>1</td>\n",
       "      <td>Good</td>\n",
       "      <td>34</td>\n",
       "      <td>Good</td>\n",
       "      <td>0</td>\n",
       "      <td>Good</td>\n",
       "      <td>20</td>\n",
       "      <td>Good</td>\n",
       "    </tr>\n",
       "    <tr>\n",
       "      <th>4</th>\n",
       "      <td>France</td>\n",
       "      <td>Punaauia</td>\n",
       "      <td>22</td>\n",
       "      <td>Good</td>\n",
       "      <td>0</td>\n",
       "      <td>Good</td>\n",
       "      <td>22</td>\n",
       "      <td>Good</td>\n",
       "      <td>0</td>\n",
       "      <td>Good</td>\n",
       "      <td>6</td>\n",
       "      <td>Good</td>\n",
       "    </tr>\n",
       "  </tbody>\n",
       "</table>\n",
       "</div>"
      ],
      "text/plain": [
       "              Country              City  AQI Value AQI Category  CO AQI Value  \\\n",
       "0  Russian Federation        Praskoveya         51     Moderate             1   \n",
       "1              Brazil  Presidente Dutra         41         Good             1   \n",
       "2               Italy   Priolo Gargallo         66     Moderate             1   \n",
       "3              Poland         Przasnysz         34         Good             1   \n",
       "4              France          Punaauia         22         Good             0   \n",
       "\n",
       "  CO AQI Category  Ozone AQI Value Ozone AQI Category  NO2 AQI Value  \\\n",
       "0            Good               36               Good              0   \n",
       "1            Good                5               Good              1   \n",
       "2            Good               39               Good              2   \n",
       "3            Good               34               Good              0   \n",
       "4            Good               22               Good              0   \n",
       "\n",
       "  NO2 AQI Category  PM2.5 AQI Value PM2.5 AQI Category  \n",
       "0             Good               51           Moderate  \n",
       "1             Good               41               Good  \n",
       "2             Good               66           Moderate  \n",
       "3             Good               20               Good  \n",
       "4             Good                6               Good  "
      ]
     },
     "execution_count": 223,
     "metadata": {},
     "output_type": "execute_result"
    }
   ],
   "source": [
    "data = pd.read_csv('global_airpolution.csv')\n",
    "data.head()"
   ]
  },
  {
   "cell_type": "code",
   "execution_count": 22,
   "id": "27dcf533-fbee-48d9-9f98-66beb5f0fe31",
   "metadata": {},
   "outputs": [
    {
     "name": "stdout",
     "output_type": "stream",
     "text": [
      "['Russian Federation', 'Brazil', 'Italy', 'Poland', 'France', 'United States of America', 'Germany', 'Belgium', 'Egypt', 'China', 'Netherlands', 'India', 'Pakistan', 'Republic of North Macedonia', 'Colombia', 'Romania', 'Indonesia', 'Finland', 'South Africa', 'United Kingdom of Great Britain and Northern Ireland', 'United Republic of Tanzania', 'Haiti', 'Somalia', 'Philippines', 'Latvia', 'Chad', 'New Zealand', 'Tunisia', 'Viet Nam', 'Iran (Islamic Republic of)', 'Mexico', 'Japan', 'El Salvador', 'Bulgaria', 'Nigeria', 'South Sudan', 'Guatemala', 'Ireland', 'Turkey', 'Peru', 'Democratic Republic of the Congo', 'Canada', 'Switzerland', 'Denmark', 'Cameroon', 'Australia', 'Portugal', \"Côte d'Ivoire\", 'Sweden', 'Ethiopia', 'Thailand', 'Hungary', 'Kazakhstan', 'Israel', 'Spain', 'Myanmar', 'Papua New Guinea', 'Madagascar', 'Lithuania', 'Ghana', 'Azerbaijan', 'Armenia', 'Ukraine', 'Malaysia', 'Serbia', 'Slovakia', 'Gambia', 'Ecuador', 'Bosnia and Herzegovina', 'Czechia', 'Argentina', 'Dominican Republic', 'Guinea', 'Bolivia (Plurinational State of)', 'Bangladesh', 'Sudan', 'Chile', 'Panama', 'Congo', 'Kyrgyzstan', 'Mauritius', 'Greece', 'Malawi', 'Cuba', 'Saudi Arabia', 'Benin', 'Sierra Leone', 'Lebanon', 'Uruguay', 'Namibia', 'Albania', nan, 'Guyana', 'Senegal', 'Lesotho', 'Mongolia', 'Venezuela (Bolivarian Republic of)', 'Solomon Islands', 'Paraguay', 'Zimbabwe', 'Austria', 'Croatia', 'Honduras', 'Cambodia', 'Uganda', 'Republic of Moldova', 'Angola', 'Kingdom of Eswatini', 'Afghanistan', 'Uzbekistan', 'Zambia', 'Morocco', 'Belarus', 'Norway', 'Malta', 'Rwanda', 'Sri Lanka', 'Botswana', 'Burundi', 'Jamaica', 'Central African Republic', 'Kenya', 'Niger', 'Mali', 'Slovenia', 'Costa Rica', 'Nicaragua', 'Republic of Korea', 'Burkina Faso', 'Cabo Verde', 'Mozambique', 'Mauritania', 'Guinea-Bissau', 'United Arab Emirates', 'Eritrea', 'Tajikistan', 'Barbados', 'Algeria', 'Iraq', 'Syrian Arab Republic', 'Gabon', 'Liberia', \"Lao People's Democratic Republic\", 'Bhutan', 'Yemen', 'Togo', 'Turkmenistan', 'Saint Lucia', 'Kuwait', 'Libya', 'Georgia', 'Nepal', 'Estonia', 'Trinidad and Tobago', 'Jordan', 'Cyprus', 'Montenegro', 'Comoros', 'Iceland', 'Andorra', 'Oman', 'Equatorial Guinea', 'Luxembourg', 'Vanuatu', 'Aruba', 'Belize', 'Qatar', 'Palau', 'Suriname', 'Singapore', 'Maldives', 'Bahrain', 'Seychelles', 'State of Palestine', 'Saint Kitts and Nevis', 'Monaco']\n"
     ]
    }
   ],
   "source": [
    "con = data['Country'].unique().tolist() \n",
    "print(con)"
   ]
  },
  {
   "cell_type": "code",
   "execution_count": 30,
   "id": "c45128f1-845a-45b5-b42b-1facc037e3c4",
   "metadata": {},
   "outputs": [
    {
     "ename": "NameError",
     "evalue": "name 'moderate' is not defined",
     "output_type": "error",
     "traceback": [
      "\u001b[1;31m------------------------------------------------------------------------\u001b[0m",
      "\u001b[1;31mNameError\u001b[0m                              Traceback (most recent call last)",
      "Cell \u001b[1;32mIn[30], line 1\u001b[0m\n\u001b[1;32m----> 1\u001b[0m \u001b[43mmoderate\u001b[49m\n",
      "\u001b[1;31mNameError\u001b[0m: name 'moderate' is not defined"
     ]
    }
   ],
   "source": []
  },
  {
   "cell_type": "code",
   "execution_count": 29,
   "id": "f93165b0-aaa1-4c04-b994-aaf805ec4ec6",
   "metadata": {},
   "outputs": [
    {
     "data": {
      "text/plain": [
       "array(['Moderate', 'Good', 'Unhealthy for Sensitive Groups', 'Unhealthy',\n",
       "       'Very Unhealthy', 'Hazardous'], dtype=object)"
      ]
     },
     "execution_count": 29,
     "metadata": {},
     "output_type": "execute_result"
    }
   ],
   "source": [
    "data['AQI Category'].unique()"
   ]
  },
  {
   "cell_type": "markdown",
   "id": "53a0f9e4-1aeb-4c68-8786-4c132cb5e85d",
   "metadata": {},
   "source": [
    "## Extracting Nigerial Air Quality Index Sample... "
   ]
  },
  {
   "cell_type": "code",
   "execution_count": 5,
   "id": "9906700c-3b74-434d-be28-b37f14a64805",
   "metadata": {},
   "outputs": [],
   "source": [
    "nigeria_data_sample = data[data['Country'] == 'Nigeria']\n",
    "general_data_sample = data[data['Country'] != 'Nigeria']"
   ]
  },
  {
   "cell_type": "code",
   "execution_count": 6,
   "id": "fe74b81b-5a92-4f1f-95a6-d4f448b1b00a",
   "metadata": {},
   "outputs": [
    {
     "data": {
      "text/html": [
       "<div>\n",
       "<style scoped>\n",
       "    .dataframe tbody tr th:only-of-type {\n",
       "        vertical-align: middle;\n",
       "    }\n",
       "\n",
       "    .dataframe tbody tr th {\n",
       "        vertical-align: top;\n",
       "    }\n",
       "\n",
       "    .dataframe thead th {\n",
       "        text-align: right;\n",
       "    }\n",
       "</style>\n",
       "<table border=\"1\" class=\"dataframe\">\n",
       "  <thead>\n",
       "    <tr style=\"text-align: right;\">\n",
       "      <th></th>\n",
       "      <th>Country</th>\n",
       "      <th>City</th>\n",
       "      <th>AQI Value</th>\n",
       "      <th>AQI Category</th>\n",
       "      <th>CO AQI Value</th>\n",
       "      <th>CO AQI Category</th>\n",
       "      <th>Ozone AQI Value</th>\n",
       "      <th>Ozone AQI Category</th>\n",
       "      <th>NO2 AQI Value</th>\n",
       "      <th>NO2 AQI Category</th>\n",
       "      <th>PM2.5 AQI Value</th>\n",
       "      <th>PM2.5 AQI Category</th>\n",
       "    </tr>\n",
       "  </thead>\n",
       "  <tbody>\n",
       "    <tr>\n",
       "      <th>115</th>\n",
       "      <td>Nigeria</td>\n",
       "      <td>Ilobu</td>\n",
       "      <td>133</td>\n",
       "      <td>Unhealthy for Sensitive Groups</td>\n",
       "      <td>4</td>\n",
       "      <td>Good</td>\n",
       "      <td>23</td>\n",
       "      <td>Good</td>\n",
       "      <td>3</td>\n",
       "      <td>Good</td>\n",
       "      <td>133</td>\n",
       "      <td>Unhealthy for Sensitive Groups</td>\n",
       "    </tr>\n",
       "    <tr>\n",
       "      <th>120</th>\n",
       "      <td>Nigeria</td>\n",
       "      <td>Iseyin</td>\n",
       "      <td>90</td>\n",
       "      <td>Moderate</td>\n",
       "      <td>3</td>\n",
       "      <td>Good</td>\n",
       "      <td>18</td>\n",
       "      <td>Good</td>\n",
       "      <td>2</td>\n",
       "      <td>Good</td>\n",
       "      <td>90</td>\n",
       "      <td>Moderate</td>\n",
       "    </tr>\n",
       "    <tr>\n",
       "      <th>188</th>\n",
       "      <td>Nigeria</td>\n",
       "      <td>Idanre</td>\n",
       "      <td>115</td>\n",
       "      <td>Unhealthy for Sensitive Groups</td>\n",
       "      <td>3</td>\n",
       "      <td>Good</td>\n",
       "      <td>24</td>\n",
       "      <td>Good</td>\n",
       "      <td>2</td>\n",
       "      <td>Good</td>\n",
       "      <td>115</td>\n",
       "      <td>Unhealthy for Sensitive Groups</td>\n",
       "    </tr>\n",
       "    <tr>\n",
       "      <th>240</th>\n",
       "      <td>Nigeria</td>\n",
       "      <td>Agbor</td>\n",
       "      <td>139</td>\n",
       "      <td>Unhealthy for Sensitive Groups</td>\n",
       "      <td>7</td>\n",
       "      <td>Good</td>\n",
       "      <td>13</td>\n",
       "      <td>Good</td>\n",
       "      <td>5</td>\n",
       "      <td>Good</td>\n",
       "      <td>139</td>\n",
       "      <td>Unhealthy for Sensitive Groups</td>\n",
       "    </tr>\n",
       "    <tr>\n",
       "      <th>390</th>\n",
       "      <td>Nigeria</td>\n",
       "      <td>Oyo</td>\n",
       "      <td>80</td>\n",
       "      <td>Moderate</td>\n",
       "      <td>2</td>\n",
       "      <td>Good</td>\n",
       "      <td>22</td>\n",
       "      <td>Good</td>\n",
       "      <td>1</td>\n",
       "      <td>Good</td>\n",
       "      <td>80</td>\n",
       "      <td>Moderate</td>\n",
       "    </tr>\n",
       "  </tbody>\n",
       "</table>\n",
       "</div>"
      ],
      "text/plain": [
       "     Country    City  AQI Value                    AQI Category  CO AQI Value  \\\n",
       "115  Nigeria   Ilobu        133  Unhealthy for Sensitive Groups             4   \n",
       "120  Nigeria  Iseyin         90                        Moderate             3   \n",
       "188  Nigeria  Idanre        115  Unhealthy for Sensitive Groups             3   \n",
       "240  Nigeria   Agbor        139  Unhealthy for Sensitive Groups             7   \n",
       "390  Nigeria     Oyo         80                        Moderate             2   \n",
       "\n",
       "    CO AQI Category  Ozone AQI Value Ozone AQI Category  NO2 AQI Value  \\\n",
       "115            Good               23               Good              3   \n",
       "120            Good               18               Good              2   \n",
       "188            Good               24               Good              2   \n",
       "240            Good               13               Good              5   \n",
       "390            Good               22               Good              1   \n",
       "\n",
       "    NO2 AQI Category  PM2.5 AQI Value              PM2.5 AQI Category  \n",
       "115             Good              133  Unhealthy for Sensitive Groups  \n",
       "120             Good               90                        Moderate  \n",
       "188             Good              115  Unhealthy for Sensitive Groups  \n",
       "240             Good              139  Unhealthy for Sensitive Groups  \n",
       "390             Good               80                        Moderate  "
      ]
     },
     "execution_count": 6,
     "metadata": {},
     "output_type": "execute_result"
    }
   ],
   "source": [
    "nigeria_data_sample.head(5)"
   ]
  },
  {
   "cell_type": "code",
   "execution_count": 8,
   "id": "2b714247-4b65-4ed0-a075-13254e3d6a5c",
   "metadata": {},
   "outputs": [
    {
     "data": {
      "text/plain": [
       "(144, 12)"
      ]
     },
     "execution_count": 8,
     "metadata": {},
     "output_type": "execute_result"
    }
   ],
   "source": [
    "nigeria_data_sample.shape"
   ]
  },
  {
   "cell_type": "markdown",
   "id": "3d89651a-fc81-4769-9704-a59fdec9235a",
   "metadata": {},
   "source": [
    "## Exploring NIgerial Sample Data"
   ]
  },
  {
   "cell_type": "code",
   "execution_count": 7,
   "id": "d81c5e84-03e5-406f-a18a-5d00a1fdadcf",
   "metadata": {},
   "outputs": [
    {
     "name": "stdout",
     "output_type": "stream",
     "text": [
      "144\n"
     ]
    },
    {
     "data": {
      "text/plain": [
       "array(['Ilobu', 'Iseyin', 'Idanre', 'Agbor', 'Oyo', 'Ikom', 'Inisa',\n",
       "       'Kano', 'Lafiagi', 'Mubi', 'Nkpor', 'Ohafia', 'Okrika', 'Daura',\n",
       "       'Enugu', 'Bauchi', 'Abuja', 'Apomu', 'Ode', 'Jos', 'Sapele',\n",
       "       'Idah', 'Keffi', 'Uromi', 'Iwo', 'Jega', 'Numan', 'Asaba', 'Opobo',\n",
       "       'Ekpoma', 'Lalupon', 'Oron', 'Lafia', 'Emure', 'Ughelli',\n",
       "       'Damaturu', 'Dutse', 'Okitipupa', 'Ugep', 'Ikare', 'Bida',\n",
       "       'Birnin Kebbi', 'Aba', 'Maiduguri', 'Jalingo', 'Ila', 'Katsina',\n",
       "       'Oshogbo', 'Kafanchan', 'Gombe', 'Eruwa', 'Fiditi', 'Jimeta',\n",
       "       'Kaduna', 'Igbo Ora', 'Ikirun', 'Abonnema', 'Biu', 'Lokoja',\n",
       "       'Gusau', 'Potiskum', 'Ihiala', 'Ilesha', 'Nnewi', 'Nsukka', 'Ondo',\n",
       "       'Olupona', 'Ilorin', 'Ankpa', 'Kumo', 'Sokoto', 'Bende', 'Benin',\n",
       "       'Nguru', 'Oka', 'Funtua', 'Gashua', 'Eha Amufu', 'Owerri',\n",
       "       'Shagamu', 'Igboho', 'Amaigbo', 'Ejigbo', 'Offa', 'Modakeke',\n",
       "       'Malumfashi', 'Kaura Namoda', 'Bugama', 'Ikire', 'Ipoti', 'Effium',\n",
       "       'Makurdi', 'Bama', 'Aku', 'Yola', 'Suleja', 'Kagoro', 'Minna',\n",
       "       'Agulu', 'Auchi', 'Umuahia', 'Ikere', 'Abeokuta', 'Kontagora',\n",
       "       'Nkwerre', 'Awka', 'Ede', 'Warri', 'Uga', 'Onitsha', 'Yenagoa',\n",
       "       'Igede', 'Ikorodu', 'Duku', 'Ozubulu', 'Ilawe', 'Gbongan', 'Ikole',\n",
       "       'Otukpo', 'Akure', 'Ijero', 'Ibadan', 'Lere', 'Calabar', 'Shaki',\n",
       "       'Ife', 'Ifo', 'Gboko', 'Kishi', 'Ogbomosho', 'Ogaminana', 'Azare',\n",
       "       'Owo', 'Abakaliki', 'Oyan', 'Port Harcourt', 'Obosi', 'Uyo',\n",
       "       'Zaria', 'Wukari', 'Pindiga', 'Ikot Ekpene', 'Afikpo', 'Hadejia'],\n",
       "      dtype=object)"
      ]
     },
     "execution_count": 7,
     "metadata": {},
     "output_type": "execute_result"
    }
   ],
   "source": [
    "naija_city = nigeria_data_sample.City.unique()\n",
    "print(len(naija_city))\n",
    "naija_city"
   ]
  },
  {
   "cell_type": "code",
   "execution_count": 9,
   "id": "05311cd3-6493-49c2-9ff2-9bb7ca65ff7f",
   "metadata": {},
   "outputs": [],
   "source": [
    "val = nigeria_data_sample['AQI Value'].values"
   ]
  },
  {
   "cell_type": "code",
   "execution_count": 10,
   "id": "bd8b9bea-d42b-4207-985b-a11f2c10ef35",
   "metadata": {},
   "outputs": [
    {
     "data": {
      "image/png": "[encoded data removed]",
      "text/plain": [
       "<Figure size 1800x600 with 1 Axes>"
      ]
     },
     "metadata": {},
     "output_type": "display_data"
    }
   ],
   "source": [
    "import seaborn as sn \n",
    "city = nigeria_data_sample.City.unique()\n",
    "plt.figure(figsize=(18,6))\n",
    "plt.bar(city[:72], val[:72], align='edge', width=0.5)\n",
    "plt.xticks(rotation=90, fontsize=15)\n",
    "plt.show()"
   ]
  },
  {
   "cell_type": "code",
   "execution_count": 34,
   "id": "558c8317-fe75-4600-be79-e780e2326167",
   "metadata": {},
   "outputs": [
    {
     "data": {
      "image/png": "[encoded data removed]",
      "text/plain": [
       "<Figure size 1800x600 with 1 Axes>"
      ]
     },
     "metadata": {},
     "output_type": "display_data"
    }
   ],
   "source": [
    "import seaborn as sn \n",
    "city = nigeria_data_sample.City.unique()\n",
    "plt.figure(figsize=(18,6))\n",
    "plt.bar(city[73:], val[73:], align='edge', width=0.5)\n",
    "plt.xticks(rotation=90, fontsize=15)\n",
    "plt.show()"
   ]
  },
  {
   "cell_type": "markdown",
   "id": "a37d9a5b-ac33-4fb9-9c61-eea632a4dbcc",
   "metadata": {},
   "source": [
    "## Data Analysis on "
   ]
  },
  {
   "cell_type": "code",
   "execution_count": 11,
   "id": "d256790e-3ff0-4525-8c09-9530b079fd7f",
   "metadata": {},
   "outputs": [
    {
     "data": {
      "image/png": "[encoded data removed]",
      "text/plain": [
       "<Figure size 1200x300 with 2 Axes>"
      ]
     },
     "metadata": {},
     "output_type": "display_data"
    }
   ],
   "source": [
    "fig, ax = plt.subplots(ncols=2 , figsize=(12, 3))\n",
    "\n",
    "\n",
    "general_data_sample['AQI Category'].value_counts().plot(kind='barh', ax=ax[0], xlabel='Sample Counts',  color=['blue', 'green', 'red', 'purple', 'indigo', 'black'], title='AQI General Class Count')\n",
    "\n",
    "nigeria_data_sample['AQI Category'].value_counts().plot(kind='barh', ax=ax[1], xlabel='Sample Counts', color=['blue', 'green', 'red', 'purple', 'indigo', 'black'], title='AQI Nigeria Class Count')\n",
    "plt.tight_layout()\n",
    "plt.show()"
   ]
  },
  {
   "cell_type": "code",
   "execution_count": 12,
   "id": "6c4f8b6f-fe64-40d2-8cf6-a5d67813f350",
   "metadata": {},
   "outputs": [
    {
     "data": {
      "text/plain": [
       "array(['Ilobu', 'Iseyin', 'Idanre', 'Agbor', 'Oyo', 'Ikom', 'Inisa',\n",
       "       'Kano', 'Lafiagi', 'Mubi', 'Nkpor', 'Ohafia', 'Okrika', 'Daura',\n",
       "       'Enugu', 'Bauchi', 'Abuja', 'Apomu', 'Ode', 'Jos', 'Sapele',\n",
       "       'Idah', 'Keffi', 'Uromi', 'Iwo', 'Jega', 'Numan', 'Asaba', 'Opobo',\n",
       "       'Ekpoma', 'Lalupon', 'Oron', 'Lafia', 'Emure', 'Ughelli',\n",
       "       'Damaturu', 'Dutse', 'Okitipupa', 'Ugep', 'Ikare', 'Bida',\n",
       "       'Birnin Kebbi', 'Aba', 'Maiduguri', 'Jalingo', 'Ila', 'Katsina',\n",
       "       'Oshogbo', 'Kafanchan', 'Gombe', 'Eruwa', 'Fiditi', 'Jimeta',\n",
       "       'Kaduna', 'Igbo Ora', 'Ikirun', 'Abonnema', 'Biu', 'Lokoja',\n",
       "       'Gusau', 'Potiskum', 'Ihiala', 'Ilesha', 'Nnewi', 'Nsukka', 'Ondo',\n",
       "       'Olupona', 'Ilorin', 'Ankpa', 'Kumo', 'Sokoto', 'Bende', 'Benin',\n",
       "       'Nguru', 'Oka', 'Funtua', 'Gashua', 'Eha Amufu', 'Owerri',\n",
       "       'Shagamu', 'Igboho', 'Amaigbo', 'Ejigbo', 'Offa', 'Modakeke',\n",
       "       'Malumfashi', 'Kaura Namoda', 'Bugama', 'Ikire', 'Ipoti', 'Effium',\n",
       "       'Makurdi', 'Bama', 'Aku', 'Yola', 'Suleja', 'Kagoro', 'Minna',\n",
       "       'Agulu', 'Auchi', 'Umuahia', 'Ikere', 'Abeokuta', 'Kontagora',\n",
       "       'Nkwerre', 'Awka', 'Ede', 'Warri', 'Uga', 'Onitsha', 'Yenagoa',\n",
       "       'Igede', 'Ikorodu', 'Duku', 'Ozubulu', 'Ilawe', 'Gbongan', 'Ikole',\n",
       "       'Otukpo', 'Akure', 'Ijero', 'Ibadan', 'Lere', 'Calabar', 'Shaki',\n",
       "       'Ife', 'Ifo', 'Gboko', 'Kishi', 'Ogbomosho', 'Ogaminana', 'Azare',\n",
       "       'Owo', 'Abakaliki', 'Oyan', 'Port Harcourt', 'Obosi', 'Uyo',\n",
       "       'Zaria', 'Wukari', 'Pindiga', 'Ikot Ekpene', 'Afikpo', 'Hadejia'],\n",
       "      dtype=object)"
      ]
     },
     "execution_count": 12,
     "metadata": {},
     "output_type": "execute_result"
    }
   ],
   "source": [
    "# nigeria_data_sample[nigeria_data_sample.City == 'lagos']\n",
    "nigeria_data_sample.City.values"
   ]
  },
  {
   "cell_type": "code",
   "execution_count": null,
   "id": "c9729fa7-360a-4bc5-9521-aba156905b2d",
   "metadata": {},
   "outputs": [],
   "source": []
  },
  {
   "cell_type": "code",
   "execution_count": 37,
   "id": "d50031c7-485e-4369-ae89-0cf5a46a025f",
   "metadata": {},
   "outputs": [],
   "source": [
    "raw = 'Agege ,Ajeromi-Ifelodun ,Alimosho ,Amuwo-Odofin ,Apapa ,Badagry ,Epe ,Eti-Osa ,Ibeju/Lekki ,Ifako-Ijaye ,Ikeja ,Ikorodu ,Kosofe ,Lagos Island ,Lagos Mainland ,Mushin ,Ojo ,Oshodi-Isolo ,Shomolu ,Surulere'\n",
    "lag_local_gov = raw.split(',')\n",
    "general_data_sample = data\n",
    "lag_local_gov = [lag.strip() for lag in lag_local_gov]\n",
    "# lag_local_gov"
   ]
  },
  {
   "cell_type": "code",
   "execution_count": 38,
   "id": "ca6f0f9d-3a03-4200-b159-df8a70e49608",
   "metadata": {},
   "outputs": [
    {
     "name": "stdout",
     "output_type": "stream",
     "text": [
      "Lagos AQI Sample datapoint at Ikorodu\n"
     ]
    }
   ],
   "source": [
    "for local in lag_local_gov: \n",
    "    if local in city:\n",
    "        print('Lagos AQI Sample datapoint at', local)"
   ]
  },
  {
   "cell_type": "code",
   "execution_count": 13,
   "id": "8b7d9d5d-a166-4283-911e-014227b5ea8a",
   "metadata": {
    "scrolled": true
   },
   "outputs": [],
   "source": [
    "# droping unused column\n",
    "y_gen = general_data_sample['AQI Category']\n",
    "general_data_sample.drop(columns=['AQI Value', 'CO AQI Category', 'Ozone AQI Category', 'NO2 AQI Category', 'PM2.5 AQI Category'], inplace=True)\n",
    "X_gen = general_data_sample.drop(columns=['AQI Category', 'Country' , 'City'])\n",
    "\n",
    "# droping unused column\n",
    "y_niger = nigeria_data_sample['AQI Category']\n",
    "nigeria_data_sample.drop(columns=['AQI Value', 'CO AQI Category', 'Ozone AQI Category', 'NO2 AQI Category', 'PM2.5 AQI Category'], inplace=True)\n",
    "X_niger = nigeria_data_sample.drop(columns=['AQI Category', 'Country' , 'City'])"
   ]
  },
  {
   "cell_type": "code",
   "execution_count": 14,
   "id": "dd74209f-b745-44c8-a3fc-2dbd7567209b",
   "metadata": {},
   "outputs": [
    {
     "data": {
      "text/plain": [
       "array([2, 0, 2, ..., 0, 2, 2])"
      ]
     },
     "execution_count": 14,
     "metadata": {},
     "output_type": "execute_result"
    }
   ],
   "source": [
    "# transforming the dependent variable (y) into numeric......\n",
    "lb_encode = LabelEncoder()\n",
    "y_code_gen = lb_encode.fit_transform(y_gen)\n",
    "# y_code = general_data_sample['AQI Category']\n",
    "y_code_gen"
   ]
  },
  {
   "cell_type": "code",
   "execution_count": 15,
   "id": "7b828b0d-b9c6-4386-b4e8-a36b9133a281",
   "metadata": {},
   "outputs": [
    {
     "data": {
      "text/plain": [
       "array([3, 1, 3, 3, 1, 3, 2, 3, 1, 0, 2, 2, 2, 1, 2, 1, 1, 3, 3, 1, 3, 1,\n",
       "       1, 2, 1, 0, 1, 1, 3, 1, 1, 3, 3, 1, 1, 1, 1, 1, 1, 1, 3, 1, 2, 1,\n",
       "       1, 1, 1, 3, 3, 1, 2, 1, 1, 1, 1, 1, 1, 1, 1, 1, 1, 2, 1, 2, 1, 1,\n",
       "       1, 3, 1, 1, 1, 1, 1, 1, 1, 1, 1, 1, 3, 4, 1, 3, 3, 3, 2, 1, 1, 2,\n",
       "       3, 1, 3, 1, 1, 3, 1, 1, 1, 1, 2, 3, 2, 3, 2, 1, 3, 2, 1, 4, 2, 4,\n",
       "       2, 1, 1, 1, 2, 3, 1, 1, 1, 1, 1, 1, 1, 1, 1, 1, 1, 1, 1, 1, 1, 1,\n",
       "       1, 1, 1, 2, 3, 2, 1, 1, 1, 1, 3, 3])"
      ]
     },
     "execution_count": 15,
     "metadata": {},
     "output_type": "execute_result"
    }
   ],
   "source": [
    "# transforming the dependent variable (y) into numeric......\n",
    "lb_encode = LabelEncoder()\n",
    "y_code_niger = lb_encode.fit_transform(y_niger)\n",
    "# y_code = general_data_sample['AQI Category']\n",
    "y_code_niger"
   ]
  },
  {
   "cell_type": "code",
   "execution_count": 16,
   "id": "5f05795b-71bb-4f8a-9e5c-aaf850a90e45",
   "metadata": {},
   "outputs": [
    {
     "data": {
      "text/html": [
       "<div>\n",
       "<style scoped>\n",
       "    .dataframe tbody tr th:only-of-type {\n",
       "        vertical-align: middle;\n",
       "    }\n",
       "\n",
       "    .dataframe tbody tr th {\n",
       "        vertical-align: top;\n",
       "    }\n",
       "\n",
       "    .dataframe thead th {\n",
       "        text-align: right;\n",
       "    }\n",
       "</style>\n",
       "<table border=\"1\" class=\"dataframe\">\n",
       "  <thead>\n",
       "    <tr style=\"text-align: right;\">\n",
       "      <th></th>\n",
       "      <th>CO AQI Value</th>\n",
       "      <th>Ozone AQI Value</th>\n",
       "      <th>NO2 AQI Value</th>\n",
       "      <th>PM2.5 AQI Value</th>\n",
       "    </tr>\n",
       "  </thead>\n",
       "  <tbody>\n",
       "    <tr>\n",
       "      <th>115</th>\n",
       "      <td>4</td>\n",
       "      <td>23</td>\n",
       "      <td>3</td>\n",
       "      <td>133</td>\n",
       "    </tr>\n",
       "    <tr>\n",
       "      <th>120</th>\n",
       "      <td>3</td>\n",
       "      <td>18</td>\n",
       "      <td>2</td>\n",
       "      <td>90</td>\n",
       "    </tr>\n",
       "    <tr>\n",
       "      <th>188</th>\n",
       "      <td>3</td>\n",
       "      <td>24</td>\n",
       "      <td>2</td>\n",
       "      <td>115</td>\n",
       "    </tr>\n",
       "    <tr>\n",
       "      <th>240</th>\n",
       "      <td>7</td>\n",
       "      <td>13</td>\n",
       "      <td>5</td>\n",
       "      <td>139</td>\n",
       "    </tr>\n",
       "    <tr>\n",
       "      <th>390</th>\n",
       "      <td>2</td>\n",
       "      <td>22</td>\n",
       "      <td>1</td>\n",
       "      <td>80</td>\n",
       "    </tr>\n",
       "    <tr>\n",
       "      <th>...</th>\n",
       "      <td>...</td>\n",
       "      <td>...</td>\n",
       "      <td>...</td>\n",
       "      <td>...</td>\n",
       "    </tr>\n",
       "    <tr>\n",
       "      <th>22654</th>\n",
       "      <td>3</td>\n",
       "      <td>19</td>\n",
       "      <td>1</td>\n",
       "      <td>91</td>\n",
       "    </tr>\n",
       "    <tr>\n",
       "      <th>22717</th>\n",
       "      <td>2</td>\n",
       "      <td>19</td>\n",
       "      <td>0</td>\n",
       "      <td>64</td>\n",
       "    </tr>\n",
       "    <tr>\n",
       "      <th>22811</th>\n",
       "      <td>3</td>\n",
       "      <td>39</td>\n",
       "      <td>1</td>\n",
       "      <td>87</td>\n",
       "    </tr>\n",
       "    <tr>\n",
       "      <th>22844</th>\n",
       "      <td>5</td>\n",
       "      <td>22</td>\n",
       "      <td>4</td>\n",
       "      <td>126</td>\n",
       "    </tr>\n",
       "    <tr>\n",
       "      <th>23436</th>\n",
       "      <td>4</td>\n",
       "      <td>42</td>\n",
       "      <td>2</td>\n",
       "      <td>141</td>\n",
       "    </tr>\n",
       "  </tbody>\n",
       "</table>\n",
       "<p>144 rows × 4 columns</p>\n",
       "</div>"
      ],
      "text/plain": [
       "       CO AQI Value  Ozone AQI Value  NO2 AQI Value  PM2.5 AQI Value\n",
       "115               4               23              3              133\n",
       "120               3               18              2               90\n",
       "188               3               24              2              115\n",
       "240               7               13              5              139\n",
       "390               2               22              1               80\n",
       "...             ...              ...            ...              ...\n",
       "22654             3               19              1               91\n",
       "22717             2               19              0               64\n",
       "22811             3               39              1               87\n",
       "22844             5               22              4              126\n",
       "23436             4               42              2              141\n",
       "\n",
       "[144 rows x 4 columns]"
      ]
     },
     "execution_count": 16,
     "metadata": {},
     "output_type": "execute_result"
    }
   ],
   "source": [
    "X_niger"
   ]
  },
  {
   "cell_type": "code",
   "execution_count": 17,
   "id": "a115a104-9f4a-4e7b-9016-2052a4da60a1",
   "metadata": {},
   "outputs": [
    {
     "data": {
      "text/plain": [
       "((23319,), (144,))"
      ]
     },
     "execution_count": 17,
     "metadata": {},
     "output_type": "execute_result"
    }
   ],
   "source": [
    "y_gen.shape , y_niger.shape"
   ]
  },
  {
   "cell_type": "code",
   "execution_count": 44,
   "id": "ae08e10c-f62b-4fa7-8d1f-56a86b2a79df",
   "metadata": {},
   "outputs": [],
   "source": [
    "from sklearn import metrics\n",
    "import seaborn as sn"
   ]
  },
  {
   "cell_type": "code",
   "execution_count": 46,
   "id": "97552303-97d4-41dc-b882-b949897f6875",
   "metadata": {},
   "outputs": [
    {
     "data": {
      "text/plain": [
       "0.013888888888888888"
      ]
     },
     "execution_count": 46,
     "metadata": {},
     "output_type": "execute_result"
    }
   ],
   "source": [
    "svm_model = svm.SVC()\n",
    "svm_model = svm_model.fit(X_gen, y_code_gen)\n",
    "\n",
    "svm_score = svm_model.score(X_niger, y_code_niger)\n",
    "svm_score"
   ]
  },
  {
   "cell_type": "code",
   "execution_count": 21,
   "id": "dfc33332-5459-4b12-8e0a-f993d17b1675",
   "metadata": {},
   "outputs": [],
   "source": [
    "# rfclassifier = RandomForestClassifier()\n",
    "# rf_model = rfclassifier.fit(X_gen, y_code_gen)\n",
    "# rf_model.score(X_niger, y_code_niger)"
   ]
  },
  {
   "cell_type": "code",
   "execution_count": 1,
   "id": "fad5ebd5-3f81-4805-9f97-7403c516dd19",
   "metadata": {},
   "outputs": [],
   "source": [
    "import pandas as pd\n",
    "import numpy as np\n",
    "from imblearn.pipeline import Pipeline\n",
    "import matplotlib.pyplot as plt\n",
    "from sklearn.datasets import make_classification\n",
    "from sklearn.model_selection import cross_validate\n",
    "from sklearn.model_selection import RepeatedStratifiedKFold\n",
    "from sklearn.ensemble import AdaBoostClassifier\n",
    "from imblearn.combine import SMOTEENN\n",
    "from imblearn.under_sampling import EditedNearestNeighbours"
   ]
  },
  {
   "cell_type": "code",
   "execution_count": null,
   "id": "7bcc9d2e-3565-4248-8a6b-0604b8ec726c",
   "metadata": {},
   "outputs": [],
   "source": [
    "model=AdaBoostClassifier()\n",
    "#Define SMOTE-ENN\n",
    "resample=SMOTEENN(enn=EditedNearestNeighbours(sampling_strategy='all'))\n",
    "#Define pipeline\n",
    "pipeline=Pipeline(steps=[('r', resample), ('m', model)])\n",
    "#Define evaluation procedure (here we use Repeated Stratified K-Fold CV)\n",
    "cv=RepeatedStratifiedKFold(n_splits=10, n_repeats=3, random_state=1)\n",
    "#Evaluate model\n",
    "scoring=['accuracy','precision_macro','recall_macro']\n",
    "scores = cross_validate(pipeline, X, Y, scoring=scoring, cv=cv, n_jobs=-1)"
   ]
  },
  {
   "cell_type": "code",
   "execution_count": 18,
   "id": "a4bb4180-6d28-4b2e-8aa1-d6c43afd248f",
   "metadata": {},
   "outputs": [],
   "source": [
    "#Define SMOTE-ENN\n",
    "resample=SMOTEENN(enn=EditedNearestNeighbours(sampling_strategy='all'))\n",
    "#Define pipeline"
   ]
  },
  {
   "cell_type": "code",
   "execution_count": 409,
   "id": "3665ab2d-d945-446c-aaf1-09878d7e0012",
   "metadata": {},
   "outputs": [],
   "source": []
  },
  {
   "cell_type": "code",
   "execution_count": 415,
   "id": "eb484497-7cac-4643-a3eb-6ee8b47f0299",
   "metadata": {},
   "outputs": [
    {
     "name": "stdout",
     "output_type": "stream",
     "text": [
      "Culum :  CO AQI Value\n",
      "Min: 0, Max: 49\n",
      "Culum :  Ozone AQI Value\n",
      "Min: 51, Max: 99\n",
      "Culum :  NO2 AQI Value\n",
      "Min: nan, Max: nan\n",
      "Culum :  PM2.5 AQI Value\n",
      "Min: 300, Max: 500\n"
     ]
    },
    {
     "ename": "IndexError",
     "evalue": "list index out of range",
     "output_type": "error",
     "traceback": [
      "\u001b[1;31m------------------------------------------------------------------------\u001b[0m",
      "\u001b[1;31mIndexError\u001b[0m                             Traceback (most recent call last)",
      "Cell \u001b[1;32mIn[415], line 6\u001b[0m\n\u001b[0;32m      4\u001b[0m \u001b[38;5;28;01mfor\u001b[39;00m idx \u001b[38;5;129;01min\u001b[39;00m \u001b[38;5;28mrange\u001b[39m(\u001b[38;5;28mlen\u001b[39m(category_col)): \n\u001b[0;32m      5\u001b[0m     idx \u001b[38;5;241m=\u001b[39m idx\u001b[38;5;241m+\u001b[39m\u001b[38;5;241m1\u001b[39m\n\u001b[1;32m----> 6\u001b[0m     \u001b[38;5;28mprint\u001b[39m(\u001b[38;5;124m'\u001b[39m\u001b[38;5;124mCulum : \u001b[39m\u001b[38;5;124m'\u001b[39m , \u001b[43mval_col\u001b[49m\u001b[43m[\u001b[49m\u001b[43midx\u001b[49m\u001b[43m]\u001b[49m)\n\u001b[0;32m      7\u001b[0m     index \u001b[38;5;241m=\u001b[39m df[category_col[idx]][df[category_col[idx]] \u001b[38;5;241m==\u001b[39m label[idx\u001b[38;5;241m-\u001b[39m\u001b[38;5;241m1\u001b[39m] ]\u001b[38;5;241m.\u001b[39mindex\u001b[38;5;241m.\u001b[39mto_list()\n\u001b[0;32m      8\u001b[0m     \u001b[38;5;28mmin\u001b[39m \u001b[38;5;241m=\u001b[39m df[val_col[idx]]\u001b[38;5;241m.\u001b[39miloc[index]\u001b[38;5;241m.\u001b[39mmin()\n",
      "\u001b[1;31mIndexError\u001b[0m: list index out of range"
     ]
    }
   ],
   "source": [
    "# for col in category_col\n",
    "s = 4\n",
    "label = ['Good', 'Moderate', 'Unhealthy', 'Hazardous']\n",
    "for idx in range(len(category_col)): \n",
    "    idx = idx+1\n",
    "    print('Culum : ' , val_col[idx])\n",
    "    for lb in label:   \n",
    "        index = df[category_col[idx]][df[category_col[idx]] == label[idx-1] ].index.to_list()\n",
    "        min = df[val_col[idx]].iloc[index].min()\n",
    "        max = df[val_col[idx]].iloc[index].max()\n",
    "        print('Min: {}, Max: {}'.format(min, max))\n",
    "    print('=======================================')"
   ]
  },
  {
   "cell_type": "code",
   "execution_count": 362,
   "id": "d5b48f48-cddc-4963-a9b0-9aff73bafab8",
   "metadata": {},
   "outputs": [
    {
     "data": {
      "text/plain": [
       "{'column': ['CO AQI Value',\n",
       "  'Ozone AQI Value',\n",
       "  'NO2 AQI Value',\n",
       "  'PM2.5 AQI Value'],\n",
       " 'min': [0, 0, 0, 0],\n",
       " 'max': [133, 235, 91, 500]}"
      ]
     },
     "execution_count": 362,
     "metadata": {},
     "output_type": "execute_result"
    }
   ],
   "source": [
    "min_max_data = {\n",
    "    \"column\": [], \n",
    "    \"min\":[], \n",
    "    \"max\":[]\n",
    "}\n",
    "for val in val_col[1:]: \n",
    "    min = df[val].min()\n",
    "    max = df[val].max()\n",
    "    min_max_data['column'].append(val)\n",
    "    min_max_data['min'].append(min)\n",
    "    min_max_data['max'].append(max)\n",
    "    \n",
    "min_max_data"
   ]
  },
  {
   "cell_type": "code",
   "execution_count": 361,
   "id": "73c7caa5-475f-44b2-a998-58d7f74d5a9e",
   "metadata": {},
   "outputs": [
    {
     "data": {
      "text/html": [
       "<div>\n",
       "<style scoped>\n",
       "    .dataframe tbody tr th:only-of-type {\n",
       "        vertical-align: middle;\n",
       "    }\n",
       "\n",
       "    .dataframe tbody tr th {\n",
       "        vertical-align: top;\n",
       "    }\n",
       "\n",
       "    .dataframe thead th {\n",
       "        text-align: right;\n",
       "    }\n",
       "</style>\n",
       "<table border=\"1\" class=\"dataframe\">\n",
       "  <thead>\n",
       "    <tr style=\"text-align: right;\">\n",
       "      <th></th>\n",
       "      <th>column</th>\n",
       "      <th>min</th>\n",
       "      <th>max</th>\n",
       "    </tr>\n",
       "  </thead>\n",
       "  <tbody>\n",
       "    <tr>\n",
       "      <th>0</th>\n",
       "      <td>AQI Value</td>\n",
       "      <td>6</td>\n",
       "      <td>500</td>\n",
       "    </tr>\n",
       "    <tr>\n",
       "      <th>1</th>\n",
       "      <td>CO AQI Value</td>\n",
       "      <td>0</td>\n",
       "      <td>133</td>\n",
       "    </tr>\n",
       "    <tr>\n",
       "      <th>2</th>\n",
       "      <td>Ozone AQI Value</td>\n",
       "      <td>0</td>\n",
       "      <td>235</td>\n",
       "    </tr>\n",
       "    <tr>\n",
       "      <th>3</th>\n",
       "      <td>NO2 AQI Value</td>\n",
       "      <td>0</td>\n",
       "      <td>91</td>\n",
       "    </tr>\n",
       "    <tr>\n",
       "      <th>4</th>\n",
       "      <td>PM2.5 AQI Value</td>\n",
       "      <td>0</td>\n",
       "      <td>500</td>\n",
       "    </tr>\n",
       "  </tbody>\n",
       "</table>\n",
       "</div>"
      ],
      "text/plain": [
       "            column  min  max\n",
       "0        AQI Value    6  500\n",
       "1     CO AQI Value    0  133\n",
       "2  Ozone AQI Value    0  235\n",
       "3    NO2 AQI Value    0   91\n",
       "4  PM2.5 AQI Value    0  500"
      ]
     },
     "execution_count": 361,
     "metadata": {},
     "output_type": "execute_result"
    }
   ],
   "source": [
    "pd.DataFrame(min_max_data)"
   ]
  },
  {
   "cell_type": "code",
   "execution_count": 224,
   "id": "92c8a750-3e18-4214-bde0-136f802f0049",
   "metadata": {},
   "outputs": [],
   "source": []
  },
  {
   "cell_type": "code",
   "execution_count": 225,
   "id": "102e4393-687d-47d3-9736-6e37eae07ee4",
   "metadata": {},
   "outputs": [
    {
     "data": {
      "text/plain": [
       "Index(['Country', 'City', 'AQI Value', 'AQI Category', 'CO AQI Value',\n",
       "       'CO AQI Category', 'Ozone AQI Value', 'Ozone AQI Category',\n",
       "       'NO2 AQI Value', 'NO2 AQI Category', 'PM2.5 AQI Value',\n",
       "       'PM2.5 AQI Category'],\n",
       "      dtype='object')"
      ]
     },
     "execution_count": 225,
     "metadata": {},
     "output_type": "execute_result"
    }
   ],
   "source": [
    "data.columns"
   ]
  },
  {
   "cell_type": "code",
   "execution_count": 226,
   "id": "908b20d8-2204-4def-9405-72e335937c14",
   "metadata": {},
   "outputs": [
    {
     "data": {
      "text/plain": [
       "array(['Moderate', 'Good', 'Unhealthy for Sensitive Groups', 'Unhealthy',\n",
       "       'Very Unhealthy', 'Hazardous'], dtype=object)"
      ]
     },
     "execution_count": 226,
     "metadata": {},
     "output_type": "execute_result"
    }
   ],
   "source": [
    "data['AQI Category'].unique()"
   ]
  },
  {
   "cell_type": "code",
   "execution_count": 227,
   "id": "717bc431-50a7-4ac8-ab78-b276ca2ff1c2",
   "metadata": {},
   "outputs": [
    {
     "data": {
      "text/plain": [
       "array(['Good', 'Unhealthy for Sensitive Groups', 'Moderate'], dtype=object)"
      ]
     },
     "execution_count": 227,
     "metadata": {},
     "output_type": "execute_result"
    }
   ],
   "source": [
    "data['CO AQI Category'].unique()"
   ]
  },
  {
   "cell_type": "code",
   "execution_count": 228,
   "id": "35f4cea0-a4b3-40a5-95d0-2a1daa4e2e64",
   "metadata": {},
   "outputs": [
    {
     "data": {
      "text/plain": [
       "Index(['Country', 'City', 'AQI Value', 'AQI Category', 'CO AQI Value',\n",
       "       'CO AQI Category', 'Ozone AQI Value', 'Ozone AQI Category',\n",
       "       'NO2 AQI Value', 'NO2 AQI Category', 'PM2.5 AQI Value',\n",
       "       'PM2.5 AQI Category'],\n",
       "      dtype='object')"
      ]
     },
     "execution_count": 228,
     "metadata": {},
     "output_type": "execute_result"
    }
   ],
   "source": [
    "data.columns"
   ]
  },
  {
   "cell_type": "code",
   "execution_count": 230,
   "id": "d7b4be25-bc66-4cf9-835f-51c0b2372a37",
   "metadata": {},
   "outputs": [
    {
     "data": {
      "text/plain": [
       "AQI Category          Moderate\n",
       "CO AQI Category           Good\n",
       "Ozone AQI Category        Good\n",
       "NO2 AQI Category          Good\n",
       "PM2.5 AQI Category    Moderate\n",
       "Name: 0, dtype: object"
      ]
     },
     "execution_count": 230,
     "metadata": {},
     "output_type": "execute_result"
    }
   ],
   "source": [
    "data[[ 'AQI Category', \n",
    "       'CO AQI Category', 'Ozone AQI Category', 'NO2 AQI Category',\n",
    "       'PM2.5 AQI Category']].iloc[0]"
   ]
  },
  {
   "cell_type": "code",
   "execution_count": 231,
   "id": "40356b27-c4ed-4112-aa20-d2351955e070",
   "metadata": {},
   "outputs": [
    {
     "data": {
      "text/plain": [
       "['AQI Category',\n",
       " 'CO AQI Category',\n",
       " 'Ozone AQI Category',\n",
       " 'NO2 AQI Category',\n",
       " 'PM2.5 AQI Category']"
      ]
     },
     "execution_count": 231,
     "metadata": {},
     "output_type": "execute_result"
    }
   ],
   "source": [
    "category_col = [col for col in data.columns if 'Category' in col]\n",
    "category_col"
   ]
  },
  {
   "cell_type": "code",
   "execution_count": 232,
   "id": "20f94c5d-a746-4be8-b35c-96ebe198db21",
   "metadata": {},
   "outputs": [
    {
     "data": {
      "text/html": [
       "<div>\n",
       "<style scoped>\n",
       "    .dataframe tbody tr th:only-of-type {\n",
       "        vertical-align: middle;\n",
       "    }\n",
       "\n",
       "    .dataframe tbody tr th {\n",
       "        vertical-align: top;\n",
       "    }\n",
       "\n",
       "    .dataframe thead th {\n",
       "        text-align: right;\n",
       "    }\n",
       "</style>\n",
       "<table border=\"1\" class=\"dataframe\">\n",
       "  <thead>\n",
       "    <tr style=\"text-align: right;\">\n",
       "      <th></th>\n",
       "      <th>AQI Category</th>\n",
       "      <th>CO AQI Category</th>\n",
       "      <th>Ozone AQI Category</th>\n",
       "      <th>NO2 AQI Category</th>\n",
       "      <th>PM2.5 AQI Category</th>\n",
       "    </tr>\n",
       "  </thead>\n",
       "  <tbody>\n",
       "    <tr>\n",
       "      <th>0</th>\n",
       "      <td>Moderate</td>\n",
       "      <td>Good</td>\n",
       "      <td>Good</td>\n",
       "      <td>Good</td>\n",
       "      <td>Moderate</td>\n",
       "    </tr>\n",
       "    <tr>\n",
       "      <th>1</th>\n",
       "      <td>Good</td>\n",
       "      <td>Good</td>\n",
       "      <td>Good</td>\n",
       "      <td>Good</td>\n",
       "      <td>Good</td>\n",
       "    </tr>\n",
       "  </tbody>\n",
       "</table>\n",
       "</div>"
      ],
      "text/plain": [
       "  AQI Category CO AQI Category Ozone AQI Category NO2 AQI Category  \\\n",
       "0     Moderate            Good               Good             Good   \n",
       "1         Good            Good               Good             Good   \n",
       "\n",
       "  PM2.5 AQI Category  \n",
       "0           Moderate  \n",
       "1               Good  "
      ]
     },
     "execution_count": 232,
     "metadata": {},
     "output_type": "execute_result"
    }
   ],
   "source": [
    "data[category_col].head(2)"
   ]
  },
  {
   "cell_type": "code",
   "execution_count": 233,
   "id": "c3d86267-6477-4772-9599-1b5d6f01880e",
   "metadata": {},
   "outputs": [
    {
     "data": {
      "text/plain": [
       "['AQI Value',\n",
       " 'CO AQI Value',\n",
       " 'Ozone AQI Value',\n",
       " 'NO2 AQI Value',\n",
       " 'PM2.5 AQI Value']"
      ]
     },
     "execution_count": 233,
     "metadata": {},
     "output_type": "execute_result"
    }
   ],
   "source": [
    "val_col = [col for col in data.columns if 'Value' in col]\n",
    "val_col"
   ]
  },
  {
   "cell_type": "code",
   "execution_count": 210,
   "id": "d1339226-2523-4450-ad20-db656ece1583",
   "metadata": {},
   "outputs": [],
   "source": [
    "nigeria_sample = data[data['Country'] == 'Nigeria']\n",
    "general_ample = data[data['Country'] != 'Nigeria']"
   ]
  },
  {
   "cell_type": "code",
   "execution_count": null,
   "id": "f4bda2b1-acb9-4f25-a068-ae73d4e76510",
   "metadata": {},
   "outputs": [],
   "source": [
    " "
   ]
  },
  {
   "cell_type": "code",
   "execution_count": 234,
   "id": "f6597bc9-7764-458f-b23d-a7380c717238",
   "metadata": {},
   "outputs": [
    {
     "data": {
      "text/plain": [
       "49"
      ]
     },
     "execution_count": 234,
     "metadata": {},
     "output_type": "execute_result"
    }
   ],
   "source": [
    "data[val_col[1]][data[category_col[1]] == 'Good'].max()"
   ]
  },
  {
   "cell_type": "code",
   "execution_count": 259,
   "id": "5d08a464-f2ce-4910-b9b0-65d3aeb18b6f",
   "metadata": {},
   "outputs": [
    {
     "data": {
      "text/plain": [
       "array(['Moderate', 'Good', 'Unhealthy for Sensitive Groups', 'Unhealthy',\n",
       "       'Very Unhealthy', 'Hazardous'], dtype=object)"
      ]
     },
     "execution_count": 259,
     "metadata": {},
     "output_type": "execute_result"
    }
   ],
   "source": [
    "data['AQI Category'].unique()"
   ]
  },
  {
   "cell_type": "code",
   "execution_count": 260,
   "id": "639ab4ab-fc96-4a34-a2cc-6bdca6b1e30a",
   "metadata": {},
   "outputs": [],
   "source": [
    "df = data"
   ]
  },
  {
   "cell_type": "code",
   "execution_count": 272,
   "id": "d03e1f33-ab9c-4aab-9a19-5f3e74feed2f",
   "metadata": {},
   "outputs": [],
   "source": [
    "# data = df"
   ]
  },
  {
   "cell_type": "code",
   "execution_count": 273,
   "id": "0191436c-06fd-410a-a9b8-69ac39fc2f7f",
   "metadata": {},
   "outputs": [],
   "source": [
    "replace_param = {\"Unhealthy for Sensitive Groups\":\"Unhealthy\" , \"Very Unhealthy\":\"Unhealthy\"}\n",
    "resample_label = data[\"AQI Category\"]\n",
    "resample = data[category_col].replace(replace_param)"
   ]
  },
  {
   "cell_type": "code",
   "execution_count": 274,
   "id": "0ae029fc-a7ab-4fea-97d4-789f3411f7fd",
   "metadata": {},
   "outputs": [
    {
     "data": {
      "text/html": [
       "<div>\n",
       "<style scoped>\n",
       "    .dataframe tbody tr th:only-of-type {\n",
       "        vertical-align: middle;\n",
       "    }\n",
       "\n",
       "    .dataframe tbody tr th {\n",
       "        vertical-align: top;\n",
       "    }\n",
       "\n",
       "    .dataframe thead th {\n",
       "        text-align: right;\n",
       "    }\n",
       "</style>\n",
       "<table border=\"1\" class=\"dataframe\">\n",
       "  <thead>\n",
       "    <tr style=\"text-align: right;\">\n",
       "      <th></th>\n",
       "      <th>AQI Category</th>\n",
       "      <th>CO AQI Category</th>\n",
       "      <th>Ozone AQI Category</th>\n",
       "      <th>NO2 AQI Category</th>\n",
       "      <th>PM2.5 AQI Category</th>\n",
       "    </tr>\n",
       "  </thead>\n",
       "  <tbody>\n",
       "    <tr>\n",
       "      <th>0</th>\n",
       "      <td>Moderate</td>\n",
       "      <td>Good</td>\n",
       "      <td>Good</td>\n",
       "      <td>Good</td>\n",
       "      <td>Moderate</td>\n",
       "    </tr>\n",
       "    <tr>\n",
       "      <th>1</th>\n",
       "      <td>Good</td>\n",
       "      <td>Good</td>\n",
       "      <td>Good</td>\n",
       "      <td>Good</td>\n",
       "      <td>Good</td>\n",
       "    </tr>\n",
       "    <tr>\n",
       "      <th>2</th>\n",
       "      <td>Moderate</td>\n",
       "      <td>Good</td>\n",
       "      <td>Good</td>\n",
       "      <td>Good</td>\n",
       "      <td>Moderate</td>\n",
       "    </tr>\n",
       "    <tr>\n",
       "      <th>3</th>\n",
       "      <td>Good</td>\n",
       "      <td>Good</td>\n",
       "      <td>Good</td>\n",
       "      <td>Good</td>\n",
       "      <td>Good</td>\n",
       "    </tr>\n",
       "    <tr>\n",
       "      <th>4</th>\n",
       "      <td>Good</td>\n",
       "      <td>Good</td>\n",
       "      <td>Good</td>\n",
       "      <td>Good</td>\n",
       "      <td>Good</td>\n",
       "    </tr>\n",
       "  </tbody>\n",
       "</table>\n",
       "</div>"
      ],
      "text/plain": [
       "  AQI Category CO AQI Category Ozone AQI Category NO2 AQI Category  \\\n",
       "0     Moderate            Good               Good             Good   \n",
       "1         Good            Good               Good             Good   \n",
       "2     Moderate            Good               Good             Good   \n",
       "3         Good            Good               Good             Good   \n",
       "4         Good            Good               Good             Good   \n",
       "\n",
       "  PM2.5 AQI Category  \n",
       "0           Moderate  \n",
       "1               Good  \n",
       "2           Moderate  \n",
       "3               Good  \n",
       "4               Good  "
      ]
     },
     "execution_count": 274,
     "metadata": {},
     "output_type": "execute_result"
    }
   ],
   "source": [
    "resample.head()"
   ]
  },
  {
   "cell_type": "code",
   "execution_count": 286,
   "id": "47a0735e-d4a1-4f03-9b5f-a388ddcf9fc2",
   "metadata": {},
   "outputs": [
    {
     "data": {
      "text/plain": [
       "7591         Good\n",
       "19027        Good\n",
       "16625        Good\n",
       "17288    Moderate\n",
       "16790    Moderate\n",
       "18870    Moderate\n",
       "16733    Moderate\n",
       "Name: AQI Category, dtype: object"
      ]
     },
     "execution_count": 286,
     "metadata": {},
     "output_type": "execute_result"
    }
   ],
   "source": [
    "resample['AQI Category'].sample(7)"
   ]
  },
  {
   "cell_type": "code",
   "execution_count": 287,
   "id": "7bd39f04-f45e-4adb-bc14-7004b0160aa1",
   "metadata": {},
   "outputs": [
    {
     "name": "stdout",
     "output_type": "stream",
     "text": [
      "<class 'pandas.core.frame.DataFrame'>\n",
      "RangeIndex: 23463 entries, 0 to 23462\n",
      "Data columns (total 5 columns):\n",
      " #   Column              Non-Null Count  Dtype \n",
      "---  ------              --------------  ----- \n",
      " 0   AQI Category        23463 non-null  object\n",
      " 1   CO AQI Category     23463 non-null  object\n",
      " 2   Ozone AQI Category  23463 non-null  object\n",
      " 3   NO2 AQI Category    23463 non-null  object\n",
      " 4   PM2.5 AQI Category  23463 non-null  object\n",
      "dtypes: object(5)\n",
      "memory usage: 916.6+ KB\n"
     ]
    }
   ],
   "source": [
    "resample.info()"
   ]
  },
  {
   "cell_type": "code",
   "execution_count": 288,
   "id": "44d125aa-5e45-47a9-b31f-d33a129b9be2",
   "metadata": {},
   "outputs": [
    {
     "name": "stdout",
     "output_type": "stream",
     "text": [
      "<class 'pandas.core.frame.DataFrame'>\n",
      "RangeIndex: 23463 entries, 0 to 23462\n",
      "Data columns (total 5 columns):\n",
      " #   Column              Non-Null Count  Dtype   \n",
      "---  ------              --------------  -----   \n",
      " 0   AQI Category        23463 non-null  category\n",
      " 1   CO AQI Category     23463 non-null  category\n",
      " 2   Ozone AQI Category  23463 non-null  category\n",
      " 3   NO2 AQI Category    23463 non-null  category\n",
      " 4   PM2.5 AQI Category  23463 non-null  category\n",
      "dtypes: category(5)\n",
      "memory usage: 115.5 KB\n",
      "None\n"
     ]
    }
   ],
   "source": [
    "data = resample[category_col].astype('category')\n",
    "print(data.info())"
   ]
  },
  {
   "cell_type": "code",
   "execution_count": 289,
   "id": "6a170397-301b-4831-a93f-5b6468396d8a",
   "metadata": {},
   "outputs": [],
   "source": [
    "# for col in category_col: \n",
    "#     data[col] = data[col].astype('category').cat.codes\n",
    "data.head(2)\n",
    "replace_val = {'Good':0, 'Moderate':1, 'Unhealthy':2, 'Hazardous':3}\n",
    "data = data[category_col].replace(replace_val)"
   ]
  },
  {
   "cell_type": "code",
   "execution_count": 290,
   "id": "7dedb06f-2da4-41f1-abf0-9de8ff4d3846",
   "metadata": {},
   "outputs": [
    {
     "data": {
      "text/html": [
       "<div>\n",
       "<style scoped>\n",
       "    .dataframe tbody tr th:only-of-type {\n",
       "        vertical-align: middle;\n",
       "    }\n",
       "\n",
       "    .dataframe tbody tr th {\n",
       "        vertical-align: top;\n",
       "    }\n",
       "\n",
       "    .dataframe thead th {\n",
       "        text-align: right;\n",
       "    }\n",
       "</style>\n",
       "<table border=\"1\" class=\"dataframe\">\n",
       "  <thead>\n",
       "    <tr style=\"text-align: right;\">\n",
       "      <th></th>\n",
       "      <th>AQI Category</th>\n",
       "      <th>CO AQI Category</th>\n",
       "      <th>Ozone AQI Category</th>\n",
       "      <th>NO2 AQI Category</th>\n",
       "      <th>PM2.5 AQI Category</th>\n",
       "    </tr>\n",
       "  </thead>\n",
       "  <tbody>\n",
       "    <tr>\n",
       "      <th>12501</th>\n",
       "      <td>1</td>\n",
       "      <td>0</td>\n",
       "      <td>0</td>\n",
       "      <td>0</td>\n",
       "      <td>1</td>\n",
       "    </tr>\n",
       "    <tr>\n",
       "      <th>15618</th>\n",
       "      <td>0</td>\n",
       "      <td>0</td>\n",
       "      <td>0</td>\n",
       "      <td>0</td>\n",
       "      <td>0</td>\n",
       "    </tr>\n",
       "    <tr>\n",
       "      <th>18255</th>\n",
       "      <td>2</td>\n",
       "      <td>0</td>\n",
       "      <td>2</td>\n",
       "      <td>0</td>\n",
       "      <td>2</td>\n",
       "    </tr>\n",
       "    <tr>\n",
       "      <th>16049</th>\n",
       "      <td>0</td>\n",
       "      <td>0</td>\n",
       "      <td>0</td>\n",
       "      <td>0</td>\n",
       "      <td>0</td>\n",
       "    </tr>\n",
       "    <tr>\n",
       "      <th>14084</th>\n",
       "      <td>1</td>\n",
       "      <td>0</td>\n",
       "      <td>0</td>\n",
       "      <td>0</td>\n",
       "      <td>1</td>\n",
       "    </tr>\n",
       "    <tr>\n",
       "      <th>22962</th>\n",
       "      <td>0</td>\n",
       "      <td>0</td>\n",
       "      <td>0</td>\n",
       "      <td>0</td>\n",
       "      <td>0</td>\n",
       "    </tr>\n",
       "  </tbody>\n",
       "</table>\n",
       "</div>"
      ],
      "text/plain": [
       "      AQI Category CO AQI Category Ozone AQI Category NO2 AQI Category  \\\n",
       "12501            1               0                  0                0   \n",
       "15618            0               0                  0                0   \n",
       "18255            2               0                  2                0   \n",
       "16049            0               0                  0                0   \n",
       "14084            1               0                  0                0   \n",
       "22962            0               0                  0                0   \n",
       "\n",
       "      PM2.5 AQI Category  \n",
       "12501                  1  \n",
       "15618                  0  \n",
       "18255                  2  \n",
       "16049                  0  \n",
       "14084                  1  \n",
       "22962                  0  "
      ]
     },
     "execution_count": 290,
     "metadata": {},
     "output_type": "execute_result"
    }
   ],
   "source": [
    "data.sample(6)"
   ]
  },
  {
   "cell_type": "code",
   "execution_count": 404,
   "id": "cd710a1a-bf89-4dac-bd25-3f45e7b031d2",
   "metadata": {},
   "outputs": [
    {
     "data": {
      "text/plain": [
       "[1, 0, 2, 3]\n",
       "Categories (4, int64): [0, 3, 1, 2]"
      ]
     },
     "execution_count": 404,
     "metadata": {},
     "output_type": "execute_result"
    }
   ],
   "source": [
    "data['AQI Category'].unique()"
   ]
  },
  {
   "cell_type": "code",
   "execution_count": 294,
   "id": "b0539f6c-2b83-4e22-9e93-d5cccc38c575",
   "metadata": {},
   "outputs": [
    {
     "name": "stdout",
     "output_type": "stream",
     "text": [
      "[115, 120, 188, 240, 390, 642, 692, 870, 969, 1119, 1475, 1490, 1493, 1562, 1606, 1647, 1744, 1915, 2430, 2505, 2595, 2690, 2985, 3265, 3386, 3394, 3565, 3889, 3916, 4452, 4555, 4774, 5085, 5196, 5730, 5832, 5852, 6254, 6385, 6603, 6693, 6727, 6767, 7039, 7090, 7491, 7527, 7574, 7656, 7719, 7765, 7770, 7915, 7921, 8071, 8073, 8460, 8724, 9184, 9281, 9416, 9468, 9469, 9617, 9812, 9818, 10580, 10784, 11251, 11307, 11502, 11603, 11829, 12134, 12231, 12503, 12508, 12588, 12647, 13073, 13320, 13812, 14012, 14061, 14090, 14151, 14171, 14677, 14746, 14771, 14793, 14829, 14908, 14962, 14967, 15524, 15580, 15659, 15787, 15865, 15990, 16088, 16108, 16402, 16943, 17365, 17391, 17567, 17578, 17583, 17621, 17911, 17912, 17928, 17952, 18078, 18613, 18701, 18802, 18816, 18831, 19288, 19389, 19865, 20286, 20473, 20474, 20650, 20678, 20701, 20765, 20999, 21024, 21122, 21234, 21336, 21632, 21768, 21969, 22654, 22717, 22811, 22844, 23436]\n"
     ]
    }
   ],
   "source": [
    "naija_index = nigeria_sample.index.to_list()\n",
    "print(naija_index)"
   ]
  },
  {
   "cell_type": "code",
   "execution_count": 297,
   "id": "0e2df8d8-e8b9-4291-92ef-a72425e52433",
   "metadata": {},
   "outputs": [
    {
     "data": {
      "text/html": [
       "<div>\n",
       "<style scoped>\n",
       "    .dataframe tbody tr th:only-of-type {\n",
       "        vertical-align: middle;\n",
       "    }\n",
       "\n",
       "    .dataframe tbody tr th {\n",
       "        vertical-align: top;\n",
       "    }\n",
       "\n",
       "    .dataframe thead th {\n",
       "        text-align: right;\n",
       "    }\n",
       "</style>\n",
       "<table border=\"1\" class=\"dataframe\">\n",
       "  <thead>\n",
       "    <tr style=\"text-align: right;\">\n",
       "      <th></th>\n",
       "      <th>AQI Category</th>\n",
       "      <th>CO AQI Category</th>\n",
       "      <th>Ozone AQI Category</th>\n",
       "      <th>NO2 AQI Category</th>\n",
       "      <th>PM2.5 AQI Category</th>\n",
       "    </tr>\n",
       "  </thead>\n",
       "  <tbody>\n",
       "    <tr>\n",
       "      <th>115</th>\n",
       "      <td>2</td>\n",
       "      <td>0</td>\n",
       "      <td>0</td>\n",
       "      <td>0</td>\n",
       "      <td>2</td>\n",
       "    </tr>\n",
       "    <tr>\n",
       "      <th>120</th>\n",
       "      <td>1</td>\n",
       "      <td>0</td>\n",
       "      <td>0</td>\n",
       "      <td>0</td>\n",
       "      <td>1</td>\n",
       "    </tr>\n",
       "    <tr>\n",
       "      <th>188</th>\n",
       "      <td>2</td>\n",
       "      <td>0</td>\n",
       "      <td>0</td>\n",
       "      <td>0</td>\n",
       "      <td>2</td>\n",
       "    </tr>\n",
       "    <tr>\n",
       "      <th>240</th>\n",
       "      <td>2</td>\n",
       "      <td>0</td>\n",
       "      <td>0</td>\n",
       "      <td>0</td>\n",
       "      <td>2</td>\n",
       "    </tr>\n",
       "    <tr>\n",
       "      <th>390</th>\n",
       "      <td>1</td>\n",
       "      <td>0</td>\n",
       "      <td>0</td>\n",
       "      <td>0</td>\n",
       "      <td>1</td>\n",
       "    </tr>\n",
       "  </tbody>\n",
       "</table>\n",
       "</div>"
      ],
      "text/plain": [
       "    AQI Category CO AQI Category Ozone AQI Category NO2 AQI Category  \\\n",
       "115            2               0                  0                0   \n",
       "120            1               0                  0                0   \n",
       "188            2               0                  0                0   \n",
       "240            2               0                  0                0   \n",
       "390            1               0                  0                0   \n",
       "\n",
       "    PM2.5 AQI Category  \n",
       "115                  2  \n",
       "120                  1  \n",
       "188                  2  \n",
       "240                  2  \n",
       "390                  1  "
      ]
     },
     "execution_count": 297,
     "metadata": {},
     "output_type": "execute_result"
    }
   ],
   "source": [
    "niger_sample = data.iloc[naija_index]\n",
    "niger_sample.head()"
   ]
  },
  {
   "cell_type": "code",
   "execution_count": 298,
   "id": "132aa2cd-fb58-47da-8cc3-4b7252f5dafa",
   "metadata": {},
   "outputs": [
    {
     "data": {
      "text/html": [
       "<div>\n",
       "<style scoped>\n",
       "    .dataframe tbody tr th:only-of-type {\n",
       "        vertical-align: middle;\n",
       "    }\n",
       "\n",
       "    .dataframe tbody tr th {\n",
       "        vertical-align: top;\n",
       "    }\n",
       "\n",
       "    .dataframe thead th {\n",
       "        text-align: right;\n",
       "    }\n",
       "</style>\n",
       "<table border=\"1\" class=\"dataframe\">\n",
       "  <thead>\n",
       "    <tr style=\"text-align: right;\">\n",
       "      <th></th>\n",
       "      <th>AQI Category</th>\n",
       "      <th>CO AQI Category</th>\n",
       "      <th>Ozone AQI Category</th>\n",
       "      <th>NO2 AQI Category</th>\n",
       "      <th>PM2.5 AQI Category</th>\n",
       "    </tr>\n",
       "  </thead>\n",
       "  <tbody>\n",
       "    <tr>\n",
       "      <th>0</th>\n",
       "      <td>1</td>\n",
       "      <td>0</td>\n",
       "      <td>0</td>\n",
       "      <td>0</td>\n",
       "      <td>1</td>\n",
       "    </tr>\n",
       "    <tr>\n",
       "      <th>1</th>\n",
       "      <td>0</td>\n",
       "      <td>0</td>\n",
       "      <td>0</td>\n",
       "      <td>0</td>\n",
       "      <td>0</td>\n",
       "    </tr>\n",
       "    <tr>\n",
       "      <th>2</th>\n",
       "      <td>1</td>\n",
       "      <td>0</td>\n",
       "      <td>0</td>\n",
       "      <td>0</td>\n",
       "      <td>1</td>\n",
       "    </tr>\n",
       "    <tr>\n",
       "      <th>3</th>\n",
       "      <td>0</td>\n",
       "      <td>0</td>\n",
       "      <td>0</td>\n",
       "      <td>0</td>\n",
       "      <td>0</td>\n",
       "    </tr>\n",
       "    <tr>\n",
       "      <th>4</th>\n",
       "      <td>0</td>\n",
       "      <td>0</td>\n",
       "      <td>0</td>\n",
       "      <td>0</td>\n",
       "      <td>0</td>\n",
       "    </tr>\n",
       "  </tbody>\n",
       "</table>\n",
       "</div>"
      ],
      "text/plain": [
       "  AQI Category CO AQI Category Ozone AQI Category NO2 AQI Category  \\\n",
       "0            1               0                  0                0   \n",
       "1            0               0                  0                0   \n",
       "2            1               0                  0                0   \n",
       "3            0               0                  0                0   \n",
       "4            0               0                  0                0   \n",
       "\n",
       "  PM2.5 AQI Category  \n",
       "0                  1  \n",
       "1                  0  \n",
       "2                  1  \n",
       "3                  0  \n",
       "4                  0  "
      ]
     },
     "execution_count": 298,
     "metadata": {},
     "output_type": "execute_result"
    }
   ],
   "source": [
    "general_index = general_ample.index.to_list()\n",
    "general_sample = data.iloc[general_index]\n",
    "general_sample.head()"
   ]
  },
  {
   "cell_type": "code",
   "execution_count": 327,
   "id": "832dc740-27d9-4d42-b6d6-0947cbc25c9c",
   "metadata": {
    "scrolled": true
   },
   "outputs": [
    {
     "data": {
      "text/html": [
       "<div>\n",
       "<style scoped>\n",
       "    .dataframe tbody tr th:only-of-type {\n",
       "        vertical-align: middle;\n",
       "    }\n",
       "\n",
       "    .dataframe tbody tr th {\n",
       "        vertical-align: top;\n",
       "    }\n",
       "\n",
       "    .dataframe thead th {\n",
       "        text-align: right;\n",
       "    }\n",
       "</style>\n",
       "<table border=\"1\" class=\"dataframe\">\n",
       "  <thead>\n",
       "    <tr style=\"text-align: right;\">\n",
       "      <th></th>\n",
       "      <th>CO AQI Category</th>\n",
       "      <th>Ozone AQI Category</th>\n",
       "      <th>NO2 AQI Category</th>\n",
       "      <th>PM2.5 AQI Category</th>\n",
       "    </tr>\n",
       "  </thead>\n",
       "  <tbody>\n",
       "    <tr>\n",
       "      <th>0</th>\n",
       "      <td>0</td>\n",
       "      <td>0</td>\n",
       "      <td>0</td>\n",
       "      <td>1</td>\n",
       "    </tr>\n",
       "    <tr>\n",
       "      <th>1</th>\n",
       "      <td>0</td>\n",
       "      <td>0</td>\n",
       "      <td>0</td>\n",
       "      <td>0</td>\n",
       "    </tr>\n",
       "    <tr>\n",
       "      <th>2</th>\n",
       "      <td>0</td>\n",
       "      <td>0</td>\n",
       "      <td>0</td>\n",
       "      <td>1</td>\n",
       "    </tr>\n",
       "    <tr>\n",
       "      <th>3</th>\n",
       "      <td>0</td>\n",
       "      <td>0</td>\n",
       "      <td>0</td>\n",
       "      <td>0</td>\n",
       "    </tr>\n",
       "    <tr>\n",
       "      <th>4</th>\n",
       "      <td>0</td>\n",
       "      <td>0</td>\n",
       "      <td>0</td>\n",
       "      <td>0</td>\n",
       "    </tr>\n",
       "    <tr>\n",
       "      <th>...</th>\n",
       "      <td>...</td>\n",
       "      <td>...</td>\n",
       "      <td>...</td>\n",
       "      <td>...</td>\n",
       "    </tr>\n",
       "    <tr>\n",
       "      <th>23458</th>\n",
       "      <td>0</td>\n",
       "      <td>2</td>\n",
       "      <td>0</td>\n",
       "      <td>2</td>\n",
       "    </tr>\n",
       "    <tr>\n",
       "      <th>23459</th>\n",
       "      <td>0</td>\n",
       "      <td>0</td>\n",
       "      <td>0</td>\n",
       "      <td>0</td>\n",
       "    </tr>\n",
       "    <tr>\n",
       "      <th>23460</th>\n",
       "      <td>0</td>\n",
       "      <td>0</td>\n",
       "      <td>0</td>\n",
       "      <td>0</td>\n",
       "    </tr>\n",
       "    <tr>\n",
       "      <th>23461</th>\n",
       "      <td>0</td>\n",
       "      <td>0</td>\n",
       "      <td>0</td>\n",
       "      <td>1</td>\n",
       "    </tr>\n",
       "    <tr>\n",
       "      <th>23462</th>\n",
       "      <td>0</td>\n",
       "      <td>0</td>\n",
       "      <td>0</td>\n",
       "      <td>1</td>\n",
       "    </tr>\n",
       "  </tbody>\n",
       "</table>\n",
       "<p>23319 rows × 4 columns</p>\n",
       "</div>"
      ],
      "text/plain": [
       "      CO AQI Category Ozone AQI Category NO2 AQI Category PM2.5 AQI Category\n",
       "0                   0                  0                0                  1\n",
       "1                   0                  0                0                  0\n",
       "2                   0                  0                0                  1\n",
       "3                   0                  0                0                  0\n",
       "4                   0                  0                0                  0\n",
       "...               ...                ...              ...                ...\n",
       "23458               0                  2                0                  2\n",
       "23459               0                  0                0                  0\n",
       "23460               0                  0                0                  0\n",
       "23461               0                  0                0                  1\n",
       "23462               0                  0                0                  1\n",
       "\n",
       "[23319 rows x 4 columns]"
      ]
     },
     "execution_count": 327,
     "metadata": {},
     "output_type": "execute_result"
    }
   ],
   "source": [
    "y_gen = general_sample['AQI Category']\n",
    "X_gen = general_sample[category_col[1:]]\n",
    "X_gen"
   ]
  },
  {
   "cell_type": "code",
   "execution_count": 339,
   "id": "7021a326-0218-4e19-89e9-f1936300613e",
   "metadata": {},
   "outputs": [
    {
     "data": {
      "text/html": [
       "<div>\n",
       "<style scoped>\n",
       "    .dataframe tbody tr th:only-of-type {\n",
       "        vertical-align: middle;\n",
       "    }\n",
       "\n",
       "    .dataframe tbody tr th {\n",
       "        vertical-align: top;\n",
       "    }\n",
       "\n",
       "    .dataframe thead th {\n",
       "        text-align: right;\n",
       "    }\n",
       "</style>\n",
       "<table border=\"1\" class=\"dataframe\">\n",
       "  <thead>\n",
       "    <tr style=\"text-align: right;\">\n",
       "      <th></th>\n",
       "      <th>CO AQI Category</th>\n",
       "      <th>Ozone AQI Category</th>\n",
       "      <th>NO2 AQI Category</th>\n",
       "      <th>PM2.5 AQI Category</th>\n",
       "    </tr>\n",
       "  </thead>\n",
       "  <tbody>\n",
       "    <tr>\n",
       "      <th>115</th>\n",
       "      <td>0</td>\n",
       "      <td>0</td>\n",
       "      <td>0</td>\n",
       "      <td>2</td>\n",
       "    </tr>\n",
       "    <tr>\n",
       "      <th>120</th>\n",
       "      <td>0</td>\n",
       "      <td>0</td>\n",
       "      <td>0</td>\n",
       "      <td>1</td>\n",
       "    </tr>\n",
       "    <tr>\n",
       "      <th>188</th>\n",
       "      <td>0</td>\n",
       "      <td>0</td>\n",
       "      <td>0</td>\n",
       "      <td>2</td>\n",
       "    </tr>\n",
       "    <tr>\n",
       "      <th>240</th>\n",
       "      <td>0</td>\n",
       "      <td>0</td>\n",
       "      <td>0</td>\n",
       "      <td>2</td>\n",
       "    </tr>\n",
       "    <tr>\n",
       "      <th>390</th>\n",
       "      <td>0</td>\n",
       "      <td>0</td>\n",
       "      <td>0</td>\n",
       "      <td>1</td>\n",
       "    </tr>\n",
       "    <tr>\n",
       "      <th>...</th>\n",
       "      <td>...</td>\n",
       "      <td>...</td>\n",
       "      <td>...</td>\n",
       "      <td>...</td>\n",
       "    </tr>\n",
       "    <tr>\n",
       "      <th>22654</th>\n",
       "      <td>0</td>\n",
       "      <td>0</td>\n",
       "      <td>0</td>\n",
       "      <td>1</td>\n",
       "    </tr>\n",
       "    <tr>\n",
       "      <th>22717</th>\n",
       "      <td>0</td>\n",
       "      <td>0</td>\n",
       "      <td>0</td>\n",
       "      <td>1</td>\n",
       "    </tr>\n",
       "    <tr>\n",
       "      <th>22811</th>\n",
       "      <td>0</td>\n",
       "      <td>0</td>\n",
       "      <td>0</td>\n",
       "      <td>1</td>\n",
       "    </tr>\n",
       "    <tr>\n",
       "      <th>22844</th>\n",
       "      <td>0</td>\n",
       "      <td>0</td>\n",
       "      <td>0</td>\n",
       "      <td>2</td>\n",
       "    </tr>\n",
       "    <tr>\n",
       "      <th>23436</th>\n",
       "      <td>0</td>\n",
       "      <td>0</td>\n",
       "      <td>0</td>\n",
       "      <td>2</td>\n",
       "    </tr>\n",
       "  </tbody>\n",
       "</table>\n",
       "<p>144 rows × 4 columns</p>\n",
       "</div>"
      ],
      "text/plain": [
       "      CO AQI Category Ozone AQI Category NO2 AQI Category PM2.5 AQI Category\n",
       "115                 0                  0                0                  2\n",
       "120                 0                  0                0                  1\n",
       "188                 0                  0                0                  2\n",
       "240                 0                  0                0                  2\n",
       "390                 0                  0                0                  1\n",
       "...               ...                ...              ...                ...\n",
       "22654               0                  0                0                  1\n",
       "22717               0                  0                0                  1\n",
       "22811               0                  0                0                  1\n",
       "22844               0                  0                0                  2\n",
       "23436               0                  0                0                  2\n",
       "\n",
       "[144 rows x 4 columns]"
      ]
     },
     "execution_count": 339,
     "metadata": {},
     "output_type": "execute_result"
    }
   ],
   "source": [
    "y_niger = niger_sample['AQI Category']\n",
    "X_niger = niger_sample[category_col[1:]]\n",
    "X_niger"
   ]
  },
  {
   "cell_type": "code",
   "execution_count": 335,
   "id": "444afa05-ae89-45aa-9eae-115e82ede9a2",
   "metadata": {},
   "outputs": [
    {
     "data": {
      "text/plain": [
       "((23319,), (23319, 4))"
      ]
     },
     "execution_count": 335,
     "metadata": {},
     "output_type": "execute_result"
    }
   ],
   "source": [
    "y_gen.shape , X_gen.shape"
   ]
  },
  {
   "cell_type": "code",
   "execution_count": 344,
   "id": "8ed3c8fb-76d0-4818-8e97-eaffc49ec21c",
   "metadata": {},
   "outputs": [],
   "source": [
    "from sklearn.svm import SVC\n",
    "from sklearn.metrics import classification_report"
   ]
  },
  {
   "cell_type": "code",
   "execution_count": 337,
   "id": "963d5f13-7c44-4fa1-8ff3-abce7c090e3a",
   "metadata": {},
   "outputs": [
    {
     "data": {
      "text/plain": [
       "0.9991423302886059"
      ]
     },
     "execution_count": 337,
     "metadata": {},
     "output_type": "execute_result"
    }
   ],
   "source": [
    "svm_model = svm.SVC(kernel='linear')\n",
    "svm_model = svm_model.fit(X_gen, y_gen)\n",
    "svm_model.score(X_gen, y_gen)"
   ]
  },
  {
   "cell_type": "code",
   "execution_count": 351,
   "id": "6a0f9860-9e38-4005-aaf8-e1a2946b80fb",
   "metadata": {},
   "outputs": [
    {
     "name": "stdout",
     "output_type": "stream",
     "text": [
      "              precision    recall  f1-score   support\n",
      "\n",
      "           0       1.00      1.00      1.00         2\n",
      "           1       1.00      1.00      1.00        89\n",
      "           2       1.00      1.00      1.00        53\n",
      "\n",
      "    accuracy                           1.00       144\n",
      "   macro avg       1.00      1.00      1.00       144\n",
      "weighted avg       1.00      1.00      1.00       144\n",
      "\n"
     ]
    }
   ],
   "source": [
    "# evaluate with naija dataset\n",
    "prediction = svm_model.predict(X_niger)\n",
    "report = classification_report(y_niger, prediction)\n",
    "print(report)"
   ]
  },
  {
   "cell_type": "code",
   "execution_count": null,
   "id": "004dfc00-8af5-457d-88bf-c8cce7a76ed5",
   "metadata": {},
   "outputs": [],
   "source": [
    "svm_model.score(y_niger, x)"
   ]
  },
  {
   "cell_type": "code",
   "execution_count": 353,
   "id": "c6a01af3-6918-42e4-8766-f062a517b4b6",
   "metadata": {},
   "outputs": [
    {
     "data": {
      "text/plain": [
       "0.9985341313860702"
      ]
     },
     "execution_count": 353,
     "metadata": {},
     "output_type": "execute_result"
    }
   ],
   "source": [
    "knn_classifier = KNeighborsRegressor()\n",
    "knn_model = knn_classifier.fit(X_gen, y_gen)\n",
    "knn_model.score(X_gen, y_gen)"
   ]
  },
  {
   "cell_type": "code",
   "execution_count": 354,
   "id": "dd90121c-2a05-493f-a51c-570e68381d46",
   "metadata": {},
   "outputs": [
    {
     "name": "stdout",
     "output_type": "stream",
     "text": [
      "              precision    recall  f1-score   support\n",
      "\n",
      "           0       1.00      1.00      1.00         2\n",
      "           1       1.00      1.00      1.00        89\n",
      "           2       1.00      1.00      1.00        53\n",
      "\n",
      "    accuracy                           1.00       144\n",
      "   macro avg       1.00      1.00      1.00       144\n",
      "weighted avg       1.00      1.00      1.00       144\n",
      "\n"
     ]
    }
   ],
   "source": [
    "# evaluate with naija dataset\n",
    "prediction = knn_model.predict(X_niger)\n",
    "report = classification_report(y_niger, prediction)\n",
    "print(report)"
   ]
  }
 ],
 "metadata": {
  "kernelspec": {
   "display_name": "Python 3 (ipykernel)",
   "language": "python",
   "name": "python3"
  },
  "language_info": {
   "codemirror_mode": {
    "name": "ipython",
    "version": 3
   },
   "file_extension": ".py",
   "mimetype": "text/x-python",
   "name": "python",
   "nbconvert_exporter": "python",
   "pygments_lexer": "ipython3",
   "version": "3.9.5"
  }
 },
 "nbformat": 4,
 "nbformat_minor": 5
}
