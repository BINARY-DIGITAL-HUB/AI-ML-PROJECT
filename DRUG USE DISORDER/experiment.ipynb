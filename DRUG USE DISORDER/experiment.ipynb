{
 "cells": [
  {
   "cell_type": "code",
   "execution_count": 70,
   "id": "cebf2621-db59-40c4-ab84-32326dd636a4",
   "metadata": {},
   "outputs": [],
   "source": [
    "# library importation\n",
    "import pandas as pd \n",
    "import numpy as np \n",
    "import matplotlib.pyplot as plt\n",
    "from imblearn.over_sampling import SMOTE\n",
    "from imblearn.combine import SMOTEENN\n",
    "from imblearn.over_sampling import ADASYN\n",
    "\n",
    "sn.set_theme()"
   ]
  },
  {
   "cell_type": "code",
   "execution_count": 71,
   "id": "333bc0e3-8cdd-4a0c-995d-560391a54b49",
   "metadata": {},
   "outputs": [
    {
     "data": {
      "text/html": [
       "<div>\n",
       "<style scoped>\n",
       "    .dataframe tbody tr th:only-of-type {\n",
       "        vertical-align: middle;\n",
       "    }\n",
       "\n",
       "    .dataframe tbody tr th {\n",
       "        vertical-align: top;\n",
       "    }\n",
       "\n",
       "    .dataframe thead th {\n",
       "        text-align: right;\n",
       "    }\n",
       "</style>\n",
       "<table border=\"1\" class=\"dataframe\">\n",
       "  <thead>\n",
       "    <tr style=\"text-align: right;\">\n",
       "      <th></th>\n",
       "      <th>DISYR</th>\n",
       "      <th>CASEID</th>\n",
       "      <th>STFIPS</th>\n",
       "      <th>CBSA2010</th>\n",
       "      <th>EDUC</th>\n",
       "      <th>MARSTAT</th>\n",
       "      <th>SERVICES</th>\n",
       "      <th>DETCRIM</th>\n",
       "      <th>LOS</th>\n",
       "      <th>PSOURCE</th>\n",
       "      <th>...</th>\n",
       "      <th>TRNQFLG</th>\n",
       "      <th>BARBFLG</th>\n",
       "      <th>SEDHPFLG</th>\n",
       "      <th>INHFLG</th>\n",
       "      <th>OTCFLG</th>\n",
       "      <th>OTHERFLG</th>\n",
       "      <th>DIVISION</th>\n",
       "      <th>REGION</th>\n",
       "      <th>IDU</th>\n",
       "      <th>ALCDRUG</th>\n",
       "    </tr>\n",
       "  </thead>\n",
       "  <tbody>\n",
       "    <tr>\n",
       "      <th>0</th>\n",
       "      <td>2019</td>\n",
       "      <td>20191553576</td>\n",
       "      <td>2</td>\n",
       "      <td>-9</td>\n",
       "      <td>4</td>\n",
       "      <td>1</td>\n",
       "      <td>7</td>\n",
       "      <td>-9</td>\n",
       "      <td>37</td>\n",
       "      <td>1</td>\n",
       "      <td>...</td>\n",
       "      <td>0</td>\n",
       "      <td>0</td>\n",
       "      <td>0</td>\n",
       "      <td>0</td>\n",
       "      <td>0</td>\n",
       "      <td>0</td>\n",
       "      <td>9</td>\n",
       "      <td>4</td>\n",
       "      <td>0</td>\n",
       "      <td>1</td>\n",
       "    </tr>\n",
       "    <tr>\n",
       "      <th>1</th>\n",
       "      <td>2019</td>\n",
       "      <td>20191465214</td>\n",
       "      <td>2</td>\n",
       "      <td>-9</td>\n",
       "      <td>3</td>\n",
       "      <td>1</td>\n",
       "      <td>7</td>\n",
       "      <td>-9</td>\n",
       "      <td>35</td>\n",
       "      <td>1</td>\n",
       "      <td>...</td>\n",
       "      <td>0</td>\n",
       "      <td>0</td>\n",
       "      <td>0</td>\n",
       "      <td>0</td>\n",
       "      <td>0</td>\n",
       "      <td>0</td>\n",
       "      <td>9</td>\n",
       "      <td>4</td>\n",
       "      <td>0</td>\n",
       "      <td>3</td>\n",
       "    </tr>\n",
       "    <tr>\n",
       "      <th>2</th>\n",
       "      <td>2019</td>\n",
       "      <td>20191443889</td>\n",
       "      <td>2</td>\n",
       "      <td>-9</td>\n",
       "      <td>2</td>\n",
       "      <td>1</td>\n",
       "      <td>7</td>\n",
       "      <td>-9</td>\n",
       "      <td>35</td>\n",
       "      <td>1</td>\n",
       "      <td>...</td>\n",
       "      <td>0</td>\n",
       "      <td>0</td>\n",
       "      <td>0</td>\n",
       "      <td>0</td>\n",
       "      <td>0</td>\n",
       "      <td>0</td>\n",
       "      <td>9</td>\n",
       "      <td>4</td>\n",
       "      <td>0</td>\n",
       "      <td>3</td>\n",
       "    </tr>\n",
       "    <tr>\n",
       "      <th>3</th>\n",
       "      <td>2019</td>\n",
       "      <td>20191409377</td>\n",
       "      <td>2</td>\n",
       "      <td>-9</td>\n",
       "      <td>3</td>\n",
       "      <td>1</td>\n",
       "      <td>7</td>\n",
       "      <td>-9</td>\n",
       "      <td>37</td>\n",
       "      <td>1</td>\n",
       "      <td>...</td>\n",
       "      <td>0</td>\n",
       "      <td>0</td>\n",
       "      <td>0</td>\n",
       "      <td>0</td>\n",
       "      <td>0</td>\n",
       "      <td>0</td>\n",
       "      <td>9</td>\n",
       "      <td>4</td>\n",
       "      <td>0</td>\n",
       "      <td>3</td>\n",
       "    </tr>\n",
       "    <tr>\n",
       "      <th>4</th>\n",
       "      <td>2019</td>\n",
       "      <td>20191479567</td>\n",
       "      <td>2</td>\n",
       "      <td>-9</td>\n",
       "      <td>3</td>\n",
       "      <td>3</td>\n",
       "      <td>7</td>\n",
       "      <td>-9</td>\n",
       "      <td>37</td>\n",
       "      <td>1</td>\n",
       "      <td>...</td>\n",
       "      <td>0</td>\n",
       "      <td>0</td>\n",
       "      <td>0</td>\n",
       "      <td>0</td>\n",
       "      <td>0</td>\n",
       "      <td>0</td>\n",
       "      <td>9</td>\n",
       "      <td>4</td>\n",
       "      <td>0</td>\n",
       "      <td>1</td>\n",
       "    </tr>\n",
       "  </tbody>\n",
       "</table>\n",
       "<p>5 rows × 76 columns</p>\n",
       "</div>"
      ],
      "text/plain": [
       "   DISYR       CASEID  STFIPS  CBSA2010  EDUC  MARSTAT  SERVICES  DETCRIM  \\\n",
       "0   2019  20191553576       2        -9     4        1         7       -9   \n",
       "1   2019  20191465214       2        -9     3        1         7       -9   \n",
       "2   2019  20191443889       2        -9     2        1         7       -9   \n",
       "3   2019  20191409377       2        -9     3        1         7       -9   \n",
       "4   2019  20191479567       2        -9     3        3         7       -9   \n",
       "\n",
       "   LOS  PSOURCE  ...  TRNQFLG  BARBFLG  SEDHPFLG  INHFLG  OTCFLG  OTHERFLG  \\\n",
       "0   37        1  ...        0        0         0       0       0         0   \n",
       "1   35        1  ...        0        0         0       0       0         0   \n",
       "2   35        1  ...        0        0         0       0       0         0   \n",
       "3   37        1  ...        0        0         0       0       0         0   \n",
       "4   37        1  ...        0        0         0       0       0         0   \n",
       "\n",
       "   DIVISION  REGION  IDU  ALCDRUG  \n",
       "0         9       4    0        1  \n",
       "1         9       4    0        3  \n",
       "2         9       4    0        3  \n",
       "3         9       4    0        3  \n",
       "4         9       4    0        1  \n",
       "\n",
       "[5 rows x 76 columns]"
      ]
     },
     "execution_count": 71,
     "metadata": {},
     "output_type": "execute_result"
    }
   ],
   "source": [
    "# loading dataset\n",
    "data = pd.read_csv('tedsd_puf_2019.csv')\n",
    "data.head()"
   ]
  },
  {
   "cell_type": "code",
   "execution_count": 72,
   "id": "04459624-63cd-47c0-a036-d49882944563",
   "metadata": {},
   "outputs": [
    {
     "data": {
      "text/plain": [
       "(1722503, 76)"
      ]
     },
     "execution_count": 72,
     "metadata": {},
     "output_type": "execute_result"
    }
   ],
   "source": [
    "data.shape"
   ]
  },
  {
   "cell_type": "code",
   "execution_count": 73,
   "id": "f6a26bad-5794-4add-af44-8f8ccd23f686",
   "metadata": {},
   "outputs": [
    {
     "data": {
      "text/plain": [
       "Index(['DISYR', 'CASEID', 'STFIPS', 'CBSA2010', 'EDUC', 'MARSTAT', 'SERVICES',\n",
       "       'DETCRIM', 'LOS', 'PSOURCE', 'NOPRIOR', 'ARRESTS', 'EMPLOY', 'METHUSE',\n",
       "       'PSYPROB', 'PREG', 'GENDER', 'VET', 'LIVARAG', 'DAYWAIT', 'SERVICES_D',\n",
       "       'REASON', 'EMPLOY_D', 'LIVARAG_D', 'ARRESTS_D', 'DSMCRIT', 'AGE',\n",
       "       'RACE', 'ETHNIC', 'DETNLF', 'DETNLF_D', 'PRIMINC', 'SUB1', 'SUB2',\n",
       "       'SUB3', 'SUB1_D', 'SUB2_D', 'SUB3_D', 'ROUTE1', 'ROUTE2', 'ROUTE3',\n",
       "       'FREQ1', 'FREQ2', 'FREQ3', 'FREQ1_D', 'FREQ2_D', 'FREQ3_D', 'FRSTUSE1',\n",
       "       'FRSTUSE2', 'FRSTUSE3', 'HLTHINS', 'PRIMPAY', 'FREQ_ATND_SELF_HELP',\n",
       "       'FREQ_ATND_SELF_HELP_D', 'ALCFLG', 'COKEFLG', 'MARFLG', 'HERFLG',\n",
       "       'METHFLG', 'OPSYNFLG', 'PCPFLG', 'HALLFLG', 'MTHAMFLG', 'AMPHFLG',\n",
       "       'STIMFLG', 'BENZFLG', 'TRNQFLG', 'BARBFLG', 'SEDHPFLG', 'INHFLG',\n",
       "       'OTCFLG', 'OTHERFLG', 'DIVISION', 'REGION', 'IDU', 'ALCDRUG'],\n",
       "      dtype='object')"
      ]
     },
     "execution_count": 73,
     "metadata": {},
     "output_type": "execute_result"
    }
   ],
   "source": [
    "data.columns"
   ]
  },
  {
   "cell_type": "code",
   "execution_count": 74,
   "id": "dfe27bc9-6516-4b30-876d-bbd2f0454e95",
   "metadata": {},
   "outputs": [
    {
     "data": {
      "image/png": "[encoded data removed]",
      "text/plain": [
       "<Figure size 640x480 with 1 Axes>"
      ]
     },
     "metadata": {},
     "output_type": "display_data"
    }
   ],
   "source": [
    "import seaborn as sn\n",
    "\n",
    "sn.set_style()\n",
    "data['PSYPROB'].value_counts().plot(kind='bar', color=['red', 'green', 'blue'])\n",
    "plt.title('unbalance sample of class distribution')\n",
    "plt.xlabel('Sample class')\n",
    "plt.ylabel('sample count')\n",
    "plt.show()"
   ]
  },
  {
   "cell_type": "code",
   "execution_count": 76,
   "id": "b9127fba-0f3b-4345-86d6-a67d6c508545",
   "metadata": {},
   "outputs": [
    {
     "data": {
      "text/html": [
       "<div>\n",
       "<style scoped>\n",
       "    .dataframe tbody tr th:only-of-type {\n",
       "        vertical-align: middle;\n",
       "    }\n",
       "\n",
       "    .dataframe tbody tr th {\n",
       "        vertical-align: top;\n",
       "    }\n",
       "\n",
       "    .dataframe thead th {\n",
       "        text-align: right;\n",
       "    }\n",
       "</style>\n",
       "<table border=\"1\" class=\"dataframe\">\n",
       "  <thead>\n",
       "    <tr style=\"text-align: right;\">\n",
       "      <th></th>\n",
       "      <th>DISYR</th>\n",
       "      <th>CASEID</th>\n",
       "      <th>STFIPS</th>\n",
       "      <th>CBSA2010</th>\n",
       "      <th>EDUC</th>\n",
       "      <th>MARSTAT</th>\n",
       "      <th>SERVICES</th>\n",
       "      <th>DETCRIM</th>\n",
       "      <th>LOS</th>\n",
       "      <th>PSOURCE</th>\n",
       "      <th>...</th>\n",
       "      <th>TRNQFLG</th>\n",
       "      <th>BARBFLG</th>\n",
       "      <th>SEDHPFLG</th>\n",
       "      <th>INHFLG</th>\n",
       "      <th>OTCFLG</th>\n",
       "      <th>OTHERFLG</th>\n",
       "      <th>DIVISION</th>\n",
       "      <th>REGION</th>\n",
       "      <th>IDU</th>\n",
       "      <th>ALCDRUG</th>\n",
       "    </tr>\n",
       "  </thead>\n",
       "  <tbody>\n",
       "    <tr>\n",
       "      <th>0</th>\n",
       "      <td>2019</td>\n",
       "      <td>20191553576</td>\n",
       "      <td>2</td>\n",
       "      <td>-9</td>\n",
       "      <td>4</td>\n",
       "      <td>1</td>\n",
       "      <td>7</td>\n",
       "      <td>-9</td>\n",
       "      <td>37</td>\n",
       "      <td>1</td>\n",
       "      <td>...</td>\n",
       "      <td>0</td>\n",
       "      <td>0</td>\n",
       "      <td>0</td>\n",
       "      <td>0</td>\n",
       "      <td>0</td>\n",
       "      <td>0</td>\n",
       "      <td>9</td>\n",
       "      <td>4</td>\n",
       "      <td>0</td>\n",
       "      <td>1</td>\n",
       "    </tr>\n",
       "    <tr>\n",
       "      <th>1</th>\n",
       "      <td>2019</td>\n",
       "      <td>20191465214</td>\n",
       "      <td>2</td>\n",
       "      <td>-9</td>\n",
       "      <td>3</td>\n",
       "      <td>1</td>\n",
       "      <td>7</td>\n",
       "      <td>-9</td>\n",
       "      <td>35</td>\n",
       "      <td>1</td>\n",
       "      <td>...</td>\n",
       "      <td>0</td>\n",
       "      <td>0</td>\n",
       "      <td>0</td>\n",
       "      <td>0</td>\n",
       "      <td>0</td>\n",
       "      <td>0</td>\n",
       "      <td>9</td>\n",
       "      <td>4</td>\n",
       "      <td>0</td>\n",
       "      <td>3</td>\n",
       "    </tr>\n",
       "    <tr>\n",
       "      <th>2</th>\n",
       "      <td>2019</td>\n",
       "      <td>20191443889</td>\n",
       "      <td>2</td>\n",
       "      <td>-9</td>\n",
       "      <td>2</td>\n",
       "      <td>1</td>\n",
       "      <td>7</td>\n",
       "      <td>-9</td>\n",
       "      <td>35</td>\n",
       "      <td>1</td>\n",
       "      <td>...</td>\n",
       "      <td>0</td>\n",
       "      <td>0</td>\n",
       "      <td>0</td>\n",
       "      <td>0</td>\n",
       "      <td>0</td>\n",
       "      <td>0</td>\n",
       "      <td>9</td>\n",
       "      <td>4</td>\n",
       "      <td>0</td>\n",
       "      <td>3</td>\n",
       "    </tr>\n",
       "    <tr>\n",
       "      <th>3</th>\n",
       "      <td>2019</td>\n",
       "      <td>20191409377</td>\n",
       "      <td>2</td>\n",
       "      <td>-9</td>\n",
       "      <td>3</td>\n",
       "      <td>1</td>\n",
       "      <td>7</td>\n",
       "      <td>-9</td>\n",
       "      <td>37</td>\n",
       "      <td>1</td>\n",
       "      <td>...</td>\n",
       "      <td>0</td>\n",
       "      <td>0</td>\n",
       "      <td>0</td>\n",
       "      <td>0</td>\n",
       "      <td>0</td>\n",
       "      <td>0</td>\n",
       "      <td>9</td>\n",
       "      <td>4</td>\n",
       "      <td>0</td>\n",
       "      <td>3</td>\n",
       "    </tr>\n",
       "    <tr>\n",
       "      <th>4</th>\n",
       "      <td>2019</td>\n",
       "      <td>20191479567</td>\n",
       "      <td>2</td>\n",
       "      <td>-9</td>\n",
       "      <td>3</td>\n",
       "      <td>3</td>\n",
       "      <td>7</td>\n",
       "      <td>-9</td>\n",
       "      <td>37</td>\n",
       "      <td>1</td>\n",
       "      <td>...</td>\n",
       "      <td>0</td>\n",
       "      <td>0</td>\n",
       "      <td>0</td>\n",
       "      <td>0</td>\n",
       "      <td>0</td>\n",
       "      <td>0</td>\n",
       "      <td>9</td>\n",
       "      <td>4</td>\n",
       "      <td>0</td>\n",
       "      <td>1</td>\n",
       "    </tr>\n",
       "  </tbody>\n",
       "</table>\n",
       "<p>5 rows × 76 columns</p>\n",
       "</div>"
      ],
      "text/plain": [
       "   DISYR       CASEID  STFIPS  CBSA2010  EDUC  MARSTAT  SERVICES  DETCRIM  \\\n",
       "0   2019  20191553576       2        -9     4        1         7       -9   \n",
       "1   2019  20191465214       2        -9     3        1         7       -9   \n",
       "2   2019  20191443889       2        -9     2        1         7       -9   \n",
       "3   2019  20191409377       2        -9     3        1         7       -9   \n",
       "4   2019  20191479567       2        -9     3        3         7       -9   \n",
       "\n",
       "   LOS  PSOURCE  ...  TRNQFLG  BARBFLG  SEDHPFLG  INHFLG  OTCFLG  OTHERFLG  \\\n",
       "0   37        1  ...        0        0         0       0       0         0   \n",
       "1   35        1  ...        0        0         0       0       0         0   \n",
       "2   35        1  ...        0        0         0       0       0         0   \n",
       "3   37        1  ...        0        0         0       0       0         0   \n",
       "4   37        1  ...        0        0         0       0       0         0   \n",
       "\n",
       "   DIVISION  REGION  IDU  ALCDRUG  \n",
       "0         9       4    0        1  \n",
       "1         9       4    0        3  \n",
       "2         9       4    0        3  \n",
       "3         9       4    0        3  \n",
       "4         9       4    0        1  \n",
       "\n",
       "[5 rows x 76 columns]"
      ]
     },
     "execution_count": 76,
     "metadata": {},
     "output_type": "execute_result"
    }
   ],
   "source": [
    "data = data[data['PSYPROB'] != -9]\n",
    "data.head()"
   ]
  },
  {
   "cell_type": "code",
   "execution_count": 77,
   "id": "2877031c-a084-4224-a153-022d2fe21bb6",
   "metadata": {},
   "outputs": [
    {
     "data": {
      "text/html": [
       "<div>\n",
       "<style scoped>\n",
       "    .dataframe tbody tr th:only-of-type {\n",
       "        vertical-align: middle;\n",
       "    }\n",
       "\n",
       "    .dataframe tbody tr th {\n",
       "        vertical-align: top;\n",
       "    }\n",
       "\n",
       "    .dataframe thead th {\n",
       "        text-align: right;\n",
       "    }\n",
       "</style>\n",
       "<table border=\"1\" class=\"dataframe\">\n",
       "  <thead>\n",
       "    <tr style=\"text-align: right;\">\n",
       "      <th></th>\n",
       "      <th>DISYR</th>\n",
       "      <th>CASEID</th>\n",
       "      <th>STFIPS</th>\n",
       "      <th>CBSA2010</th>\n",
       "      <th>EDUC</th>\n",
       "      <th>MARSTAT</th>\n",
       "      <th>SERVICES</th>\n",
       "      <th>DETCRIM</th>\n",
       "      <th>LOS</th>\n",
       "      <th>PSOURCE</th>\n",
       "      <th>...</th>\n",
       "      <th>TRNQFLG</th>\n",
       "      <th>BARBFLG</th>\n",
       "      <th>SEDHPFLG</th>\n",
       "      <th>INHFLG</th>\n",
       "      <th>OTCFLG</th>\n",
       "      <th>OTHERFLG</th>\n",
       "      <th>DIVISION</th>\n",
       "      <th>REGION</th>\n",
       "      <th>IDU</th>\n",
       "      <th>ALCDRUG</th>\n",
       "    </tr>\n",
       "  </thead>\n",
       "  <tbody>\n",
       "    <tr>\n",
       "      <th>0</th>\n",
       "      <td>2019</td>\n",
       "      <td>20191553576</td>\n",
       "      <td>2</td>\n",
       "      <td>-9</td>\n",
       "      <td>4</td>\n",
       "      <td>1</td>\n",
       "      <td>7</td>\n",
       "      <td>-9</td>\n",
       "      <td>37</td>\n",
       "      <td>1</td>\n",
       "      <td>...</td>\n",
       "      <td>0</td>\n",
       "      <td>0</td>\n",
       "      <td>0</td>\n",
       "      <td>0</td>\n",
       "      <td>0</td>\n",
       "      <td>0</td>\n",
       "      <td>9</td>\n",
       "      <td>4</td>\n",
       "      <td>0</td>\n",
       "      <td>1</td>\n",
       "    </tr>\n",
       "    <tr>\n",
       "      <th>1</th>\n",
       "      <td>2019</td>\n",
       "      <td>20191465214</td>\n",
       "      <td>2</td>\n",
       "      <td>-9</td>\n",
       "      <td>3</td>\n",
       "      <td>1</td>\n",
       "      <td>7</td>\n",
       "      <td>-9</td>\n",
       "      <td>35</td>\n",
       "      <td>1</td>\n",
       "      <td>...</td>\n",
       "      <td>0</td>\n",
       "      <td>0</td>\n",
       "      <td>0</td>\n",
       "      <td>0</td>\n",
       "      <td>0</td>\n",
       "      <td>0</td>\n",
       "      <td>9</td>\n",
       "      <td>4</td>\n",
       "      <td>0</td>\n",
       "      <td>3</td>\n",
       "    </tr>\n",
       "    <tr>\n",
       "      <th>2</th>\n",
       "      <td>2019</td>\n",
       "      <td>20191443889</td>\n",
       "      <td>2</td>\n",
       "      <td>-9</td>\n",
       "      <td>2</td>\n",
       "      <td>1</td>\n",
       "      <td>7</td>\n",
       "      <td>-9</td>\n",
       "      <td>35</td>\n",
       "      <td>1</td>\n",
       "      <td>...</td>\n",
       "      <td>0</td>\n",
       "      <td>0</td>\n",
       "      <td>0</td>\n",
       "      <td>0</td>\n",
       "      <td>0</td>\n",
       "      <td>0</td>\n",
       "      <td>9</td>\n",
       "      <td>4</td>\n",
       "      <td>0</td>\n",
       "      <td>3</td>\n",
       "    </tr>\n",
       "    <tr>\n",
       "      <th>3</th>\n",
       "      <td>2019</td>\n",
       "      <td>20191409377</td>\n",
       "      <td>2</td>\n",
       "      <td>-9</td>\n",
       "      <td>3</td>\n",
       "      <td>1</td>\n",
       "      <td>7</td>\n",
       "      <td>-9</td>\n",
       "      <td>37</td>\n",
       "      <td>1</td>\n",
       "      <td>...</td>\n",
       "      <td>0</td>\n",
       "      <td>0</td>\n",
       "      <td>0</td>\n",
       "      <td>0</td>\n",
       "      <td>0</td>\n",
       "      <td>0</td>\n",
       "      <td>9</td>\n",
       "      <td>4</td>\n",
       "      <td>0</td>\n",
       "      <td>3</td>\n",
       "    </tr>\n",
       "    <tr>\n",
       "      <th>4</th>\n",
       "      <td>2019</td>\n",
       "      <td>20191479567</td>\n",
       "      <td>2</td>\n",
       "      <td>-9</td>\n",
       "      <td>3</td>\n",
       "      <td>3</td>\n",
       "      <td>7</td>\n",
       "      <td>-9</td>\n",
       "      <td>37</td>\n",
       "      <td>1</td>\n",
       "      <td>...</td>\n",
       "      <td>0</td>\n",
       "      <td>0</td>\n",
       "      <td>0</td>\n",
       "      <td>0</td>\n",
       "      <td>0</td>\n",
       "      <td>0</td>\n",
       "      <td>9</td>\n",
       "      <td>4</td>\n",
       "      <td>0</td>\n",
       "      <td>1</td>\n",
       "    </tr>\n",
       "  </tbody>\n",
       "</table>\n",
       "<p>5 rows × 76 columns</p>\n",
       "</div>"
      ],
      "text/plain": [
       "   DISYR       CASEID  STFIPS  CBSA2010  EDUC  MARSTAT  SERVICES  DETCRIM  \\\n",
       "0   2019  20191553576       2        -9     4        1         7       -9   \n",
       "1   2019  20191465214       2        -9     3        1         7       -9   \n",
       "2   2019  20191443889       2        -9     2        1         7       -9   \n",
       "3   2019  20191409377       2        -9     3        1         7       -9   \n",
       "4   2019  20191479567       2        -9     3        3         7       -9   \n",
       "\n",
       "   LOS  PSOURCE  ...  TRNQFLG  BARBFLG  SEDHPFLG  INHFLG  OTCFLG  OTHERFLG  \\\n",
       "0   37        1  ...        0        0         0       0       0         0   \n",
       "1   35        1  ...        0        0         0       0       0         0   \n",
       "2   35        1  ...        0        0         0       0       0         0   \n",
       "3   37        1  ...        0        0         0       0       0         0   \n",
       "4   37        1  ...        0        0         0       0       0         0   \n",
       "\n",
       "   DIVISION  REGION  IDU  ALCDRUG  \n",
       "0         9       4    0        1  \n",
       "1         9       4    0        3  \n",
       "2         9       4    0        3  \n",
       "3         9       4    0        3  \n",
       "4         9       4    0        1  \n",
       "\n",
       "[5 rows x 76 columns]"
      ]
     },
     "execution_count": 77,
     "metadata": {},
     "output_type": "execute_result"
    }
   ],
   "source": [
    "data = data.reset_index()\n",
    "data.drop(columns=['index'], inplace=True)\n",
    "data.head()"
   ]
  },
  {
   "cell_type": "code",
   "execution_count": 78,
   "id": "eb72150e-1f3f-432f-87bb-c86c465f7e8c",
   "metadata": {},
   "outputs": [
    {
     "data": {
      "text/plain": [
       "(1497128, 76)"
      ]
     },
     "execution_count": 78,
     "metadata": {},
     "output_type": "execute_result"
    }
   ],
   "source": [
    "data.shape"
   ]
  },
  {
   "cell_type": "code",
   "execution_count": 79,
   "id": "87965f9c-f61e-4c53-9bdd-ba571ff514c6",
   "metadata": {},
   "outputs": [],
   "source": [
    "data['PSYPROB'].replace({1:0, 2:1}, inplace=True)"
   ]
  },
  {
   "cell_type": "code",
   "execution_count": 80,
   "id": "9032e631-a25e-4825-bd7a-7b6132594d23",
   "metadata": {},
   "outputs": [
    {
     "data": {
      "image/png": "[encoded data removed]",
      "text/plain": [
       "<Figure size 640x480 with 1 Axes>"
      ]
     },
     "metadata": {},
     "output_type": "display_data"
    }
   ],
   "source": [
    "sn.set_style()\n",
    "data['PSYPROB'].value_counts().plot(kind='bar', color=['red', 'green', 'blue'])\n",
    "plt.title('Clean unbalance sample of class distribution')\n",
    "plt.xlabel('Sample class')\n",
    "plt.ylabel('sample count')\n",
    "plt.show()"
   ]
  },
  {
   "cell_type": "code",
   "execution_count": 22,
   "id": "fd0cda6a-cdb0-45cc-b1e0-393af19a3164",
   "metadata": {},
   "outputs": [
    {
     "name": "stdout",
     "output_type": "stream",
     "text": [
      "<class 'pandas.core.frame.DataFrame'>\n",
      "RangeIndex: 1497128 entries, 0 to 1497127\n",
      "Data columns (total 76 columns):\n",
      " #   Column                 Non-Null Count    Dtype\n",
      "---  ------                 --------------    -----\n",
      " 0   DISYR                  1497128 non-null  int64\n",
      " 1   CASEID                 1497128 non-null  int64\n",
      " 2   STFIPS                 1497128 non-null  int64\n",
      " 3   CBSA2010               1497128 non-null  int64\n",
      " 4   EDUC                   1497128 non-null  int64\n",
      " 5   MARSTAT                1497128 non-null  int64\n",
      " 6   SERVICES               1497128 non-null  int64\n",
      " 7   DETCRIM                1497128 non-null  int64\n",
      " 8   LOS                    1497128 non-null  int64\n",
      " 9   PSOURCE                1497128 non-null  int64\n",
      " 10  NOPRIOR                1497128 non-null  int64\n",
      " 11  ARRESTS                1497128 non-null  int64\n",
      " 12  EMPLOY                 1497128 non-null  int64\n",
      " 13  METHUSE                1497128 non-null  int64\n",
      " 14  PSYPROB                1497128 non-null  int64\n",
      " 15  PREG                   1497128 non-null  int64\n",
      " 16  GENDER                 1497128 non-null  int64\n",
      " 17  VET                    1497128 non-null  int64\n",
      " 18  LIVARAG                1497128 non-null  int64\n",
      " 19  DAYWAIT                1497128 non-null  int64\n",
      " 20  SERVICES_D             1497128 non-null  int64\n",
      " 21  REASON                 1497128 non-null  int64\n",
      " 22  EMPLOY_D               1497128 non-null  int64\n",
      " 23  LIVARAG_D              1497128 non-null  int64\n",
      " 24  ARRESTS_D              1497128 non-null  int64\n",
      " 25  DSMCRIT                1497128 non-null  int64\n",
      " 26  AGE                    1497128 non-null  int64\n",
      " 27  RACE                   1497128 non-null  int64\n",
      " 28  ETHNIC                 1497128 non-null  int64\n",
      " 29  DETNLF                 1497128 non-null  int64\n",
      " 30  DETNLF_D               1497128 non-null  int64\n",
      " 31  PRIMINC                1497128 non-null  int64\n",
      " 32  SUB1                   1497128 non-null  int64\n",
      " 33  SUB2                   1497128 non-null  int64\n",
      " 34  SUB3                   1497128 non-null  int64\n",
      " 35  SUB1_D                 1497128 non-null  int64\n",
      " 36  SUB2_D                 1497128 non-null  int64\n",
      " 37  SUB3_D                 1497128 non-null  int64\n",
      " 38  ROUTE1                 1497128 non-null  int64\n",
      " 39  ROUTE2                 1497128 non-null  int64\n",
      " 40  ROUTE3                 1497128 non-null  int64\n",
      " 41  FREQ1                  1497128 non-null  int64\n",
      " 42  FREQ2                  1497128 non-null  int64\n",
      " 43  FREQ3                  1497128 non-null  int64\n",
      " 44  FREQ1_D                1497128 non-null  int64\n",
      " 45  FREQ2_D                1497128 non-null  int64\n",
      " 46  FREQ3_D                1497128 non-null  int64\n",
      " 47  FRSTUSE1               1497128 non-null  int64\n",
      " 48  FRSTUSE2               1497128 non-null  int64\n",
      " 49  FRSTUSE3               1497128 non-null  int64\n",
      " 50  HLTHINS                1497128 non-null  int64\n",
      " 51  PRIMPAY                1497128 non-null  int64\n",
      " 52  FREQ_ATND_SELF_HELP    1497128 non-null  int64\n",
      " 53  FREQ_ATND_SELF_HELP_D  1497128 non-null  int64\n",
      " 54  ALCFLG                 1497128 non-null  int64\n",
      " 55  COKEFLG                1497128 non-null  int64\n",
      " 56  MARFLG                 1497128 non-null  int64\n",
      " 57  HERFLG                 1497128 non-null  int64\n",
      " 58  METHFLG                1497128 non-null  int64\n",
      " 59  OPSYNFLG               1497128 non-null  int64\n",
      " 60  PCPFLG                 1497128 non-null  int64\n",
      " 61  HALLFLG                1497128 non-null  int64\n",
      " 62  MTHAMFLG               1497128 non-null  int64\n",
      " 63  AMPHFLG                1497128 non-null  int64\n",
      " 64  STIMFLG                1497128 non-null  int64\n",
      " 65  BENZFLG                1497128 non-null  int64\n",
      " 66  TRNQFLG                1497128 non-null  int64\n",
      " 67  BARBFLG                1497128 non-null  int64\n",
      " 68  SEDHPFLG               1497128 non-null  int64\n",
      " 69  INHFLG                 1497128 non-null  int64\n",
      " 70  OTCFLG                 1497128 non-null  int64\n",
      " 71  OTHERFLG               1497128 non-null  int64\n",
      " 72  DIVISION               1497128 non-null  int64\n",
      " 73  REGION                 1497128 non-null  int64\n",
      " 74  IDU                    1497128 non-null  int64\n",
      " 75  ALCDRUG                1497128 non-null  int64\n",
      "dtypes: int64(76)\n",
      "memory usage: 868.1 MB\n"
     ]
    }
   ],
   "source": [
    "data.info()"
   ]
  },
  {
   "cell_type": "code",
   "execution_count": 23,
   "id": "d3a32e7a-cdfd-4199-a058-1ee57a846548",
   "metadata": {},
   "outputs": [
    {
     "data": {
      "text/plain": [
       "array([0, 1], dtype=int64)"
      ]
     },
     "execution_count": 23,
     "metadata": {},
     "output_type": "execute_result"
    }
   ],
   "source": [
    "data['PSYPROB'].unique()"
   ]
  },
  {
   "cell_type": "markdown",
   "id": "3c63ab60",
   "metadata": {},
   "source": [
    "### Data balancing operation"
   ]
  },
  {
   "cell_type": "code",
   "execution_count": null,
   "id": "73534394",
   "metadata": {},
   "outputs": [],
   "source": []
  },
  {
   "cell_type": "code",
   "execution_count": 25,
   "id": "e011f484-8420-42a7-831d-e25f18ddcb1f",
   "metadata": {},
   "outputs": [
    {
     "data": {
      "text/html": [
       "<div>\n",
       "<style scoped>\n",
       "    .dataframe tbody tr th:only-of-type {\n",
       "        vertical-align: middle;\n",
       "    }\n",
       "\n",
       "    .dataframe tbody tr th {\n",
       "        vertical-align: top;\n",
       "    }\n",
       "\n",
       "    .dataframe thead th {\n",
       "        text-align: right;\n",
       "    }\n",
       "</style>\n",
       "<table border=\"1\" class=\"dataframe\">\n",
       "  <thead>\n",
       "    <tr style=\"text-align: right;\">\n",
       "      <th></th>\n",
       "      <th>DISYR</th>\n",
       "      <th>CASEID</th>\n",
       "      <th>STFIPS</th>\n",
       "      <th>CBSA2010</th>\n",
       "      <th>EDUC</th>\n",
       "      <th>MARSTAT</th>\n",
       "      <th>SERVICES</th>\n",
       "      <th>DETCRIM</th>\n",
       "      <th>LOS</th>\n",
       "      <th>PSOURCE</th>\n",
       "      <th>...</th>\n",
       "      <th>TRNQFLG</th>\n",
       "      <th>BARBFLG</th>\n",
       "      <th>SEDHPFLG</th>\n",
       "      <th>INHFLG</th>\n",
       "      <th>OTCFLG</th>\n",
       "      <th>OTHERFLG</th>\n",
       "      <th>DIVISION</th>\n",
       "      <th>REGION</th>\n",
       "      <th>IDU</th>\n",
       "      <th>ALCDRUG</th>\n",
       "    </tr>\n",
       "  </thead>\n",
       "  <tbody>\n",
       "    <tr>\n",
       "      <th>91859</th>\n",
       "      <td>2019</td>\n",
       "      <td>20191520296</td>\n",
       "      <td>4</td>\n",
       "      <td>-9</td>\n",
       "      <td>-9</td>\n",
       "      <td>-9</td>\n",
       "      <td>7</td>\n",
       "      <td>-9</td>\n",
       "      <td>1</td>\n",
       "      <td>-9</td>\n",
       "      <td>...</td>\n",
       "      <td>0</td>\n",
       "      <td>0</td>\n",
       "      <td>0</td>\n",
       "      <td>0</td>\n",
       "      <td>0</td>\n",
       "      <td>0</td>\n",
       "      <td>8</td>\n",
       "      <td>4</td>\n",
       "      <td>-9</td>\n",
       "      <td>0</td>\n",
       "    </tr>\n",
       "    <tr>\n",
       "      <th>28584</th>\n",
       "      <td>2019</td>\n",
       "      <td>20191547183</td>\n",
       "      <td>4</td>\n",
       "      <td>-9</td>\n",
       "      <td>-9</td>\n",
       "      <td>-9</td>\n",
       "      <td>7</td>\n",
       "      <td>-9</td>\n",
       "      <td>1</td>\n",
       "      <td>-9</td>\n",
       "      <td>...</td>\n",
       "      <td>0</td>\n",
       "      <td>0</td>\n",
       "      <td>0</td>\n",
       "      <td>0</td>\n",
       "      <td>0</td>\n",
       "      <td>0</td>\n",
       "      <td>8</td>\n",
       "      <td>4</td>\n",
       "      <td>0</td>\n",
       "      <td>1</td>\n",
       "    </tr>\n",
       "  </tbody>\n",
       "</table>\n",
       "<p>2 rows × 76 columns</p>\n",
       "</div>"
      ],
      "text/plain": [
       "       DISYR       CASEID  STFIPS  CBSA2010  EDUC  MARSTAT  SERVICES  DETCRIM  \\\n",
       "91859   2019  20191520296       4        -9    -9       -9         7       -9   \n",
       "28584   2019  20191547183       4        -9    -9       -9         7       -9   \n",
       "\n",
       "       LOS  PSOURCE  ...  TRNQFLG  BARBFLG  SEDHPFLG  INHFLG  OTCFLG  \\\n",
       "91859    1       -9  ...        0        0         0       0       0   \n",
       "28584    1       -9  ...        0        0         0       0       0   \n",
       "\n",
       "       OTHERFLG  DIVISION  REGION  IDU  ALCDRUG  \n",
       "91859         0         8       4   -9        0  \n",
       "28584         0         8       4    0        1  \n",
       "\n",
       "[2 rows x 76 columns]"
      ]
     },
     "execution_count": 25,
     "metadata": {},
     "output_type": "execute_result"
    }
   ],
   "source": [
    "clean_data = data[:100000]\n",
    "clean_data.sample(2)"
   ]
  },
  {
   "cell_type": "code",
   "execution_count": 26,
   "id": "d2b608e7-1a89-4ce8-bb23-78a60bf9220e",
   "metadata": {},
   "outputs": [
    {
     "name": "stderr",
     "output_type": "stream",
     "text": [
      "C:\\Users\\HP\\AppData\\Local\\Temp\\ipykernel_9924\\4101082772.py:2: SettingWithCopyWarning: \n",
      "A value is trying to be set on a copy of a slice from a DataFrame\n",
      "\n",
      "See the caveats in the documentation: https://pandas.pydata.org/pandas-docs/stable/user_guide/indexing.html#returning-a-view-versus-a-copy\n",
      "  data_1.replace(-9, np.nan, inplace=True)\n"
     ]
    }
   ],
   "source": [
    "data_1  = clean_data      \n",
    "data_1.replace(-9, np.nan, inplace=True)"
   ]
  },
  {
   "cell_type": "code",
   "execution_count": null,
   "id": "82b5c7a5",
   "metadata": {},
   "outputs": [],
   "source": []
  },
  {
   "cell_type": "code",
   "execution_count": 27,
   "id": "5207a01b-66e9-4913-a45a-081b54ddc704",
   "metadata": {},
   "outputs": [],
   "source": [
    "import pandas as pd\n",
    "from sklearn.decomposition import PCA\n",
    "from sklearn.preprocessing import StandardScaler\n",
    "from sklearn.impute import SimpleImputer\n",
    "from sklearn.decomposition import PCA\n",
    "from sklearn.preprocessing import StandardScaler, MinMaxScaler\n",
    "import statistics\n",
    "from sklearn.model_selection import train_test_split\n",
    "from sklearn.preprocessing import StandardScaler\n",
    "import tensorflow as tf\n",
    "from tensorflow.keras.models import Sequential\n",
    "from tensorflow.keras.layers import Dense, Dropout\n",
    "from sklearn.model_selection import train_test_split\n"
   ]
  },
  {
   "cell_type": "code",
   "execution_count": 28,
   "id": "3a50cc8f-ec0e-425f-8d0b-59fff07ec40a",
   "metadata": {},
   "outputs": [
    {
     "data": {
      "text/plain": [
       "(100000, 75)"
      ]
     },
     "execution_count": 28,
     "metadata": {},
     "output_type": "execute_result"
    }
   ],
   "source": [
    "y = clean_data['PSYPROB']\n",
    "x = clean_data.drop(columns=['PSYPROB'])\n",
    "x.shape"
   ]
  },
  {
   "cell_type": "code",
   "execution_count": 29,
   "id": "9bf08070-3084-4b6b-bc20-d2dfff6d5e6a",
   "metadata": {},
   "outputs": [],
   "source": [
    "# Impute NaN with column means\n",
    "imputer = SimpleImputer(strategy='mean')\n",
    "df = imputer.fit_transform(x)"
   ]
  },
  {
   "cell_type": "code",
   "execution_count": 30,
   "id": "24fa8210-6223-406d-bf9a-8cf1057cc067",
   "metadata": {},
   "outputs": [
    {
     "data": {
      "text/plain": [
       "(100000, 75)"
      ]
     },
     "execution_count": 30,
     "metadata": {},
     "output_type": "execute_result"
    }
   ],
   "source": [
    "df.shape"
   ]
  },
  {
   "cell_type": "code",
   "execution_count": 33,
   "id": "6e1fd469",
   "metadata": {},
   "outputs": [
    {
     "data": {
      "text/plain": [
       "array([[2.01900000e+03, 2.01915536e+10, 2.00000000e+00, ...,\n",
       "        4.00000000e+00, 0.00000000e+00, 1.00000000e+00],\n",
       "       [2.01900000e+03, 2.01914652e+10, 2.00000000e+00, ...,\n",
       "        4.00000000e+00, 0.00000000e+00, 3.00000000e+00],\n",
       "       [2.01900000e+03, 2.01914439e+10, 2.00000000e+00, ...,\n",
       "        4.00000000e+00, 0.00000000e+00, 3.00000000e+00],\n",
       "       ...,\n",
       "       [2.01900000e+03, 2.01916036e+10, 4.00000000e+00, ...,\n",
       "        4.00000000e+00, 2.13590793e-01, 0.00000000e+00],\n",
       "       [2.01900000e+03, 2.01914138e+10, 4.00000000e+00, ...,\n",
       "        4.00000000e+00, 2.13590793e-01, 0.00000000e+00],\n",
       "       [2.01900000e+03, 2.01916900e+10, 4.00000000e+00, ...,\n",
       "        4.00000000e+00, 2.13590793e-01, 0.00000000e+00]])"
      ]
     },
     "execution_count": 33,
     "metadata": {},
     "output_type": "execute_result"
    }
   ],
   "source": [
    "df"
   ]
  },
  {
   "cell_type": "code",
   "execution_count": 46,
   "id": "cca5b18b-98d7-4f88-ac06-dd806b8ef482",
   "metadata": {},
   "outputs": [],
   "source": [
    "# Standardize and apply PCA\n",
    "scaler = StandardScaler()\n",
    "X_scaled = scaler.fit_transform(df)"
   ]
  },
  {
   "cell_type": "code",
   "execution_count": 47,
   "id": "ef018411-5363-4744-879b-1a74f4d4beed",
   "metadata": {},
   "outputs": [],
   "source": [
    "pca = PCA(n_components=30)\n",
    "final_data = pca.fit_transform(X_scaled)"
   ]
  },
  {
   "cell_type": "code",
   "execution_count": 48,
   "id": "4465dfcd-0003-4526-9d0a-2b1ebe55d816",
   "metadata": {},
   "outputs": [
    {
     "data": {
      "text/plain": [
       "array([[-1.82972682, -1.06039238,  2.28756334, ...,  1.41637652,\n",
       "         0.09341245,  2.46272066],\n",
       "       [ 0.27201058, -0.70634912,  4.32021144, ...,  0.36220685,\n",
       "         0.19592472, -0.23942905],\n",
       "       [ 1.92109577, -2.05346597,  3.68155154, ...,  0.05075625,\n",
       "         0.23074105,  1.74791835],\n",
       "       ...,\n",
       "       [-1.6057891 ,  0.06645582, -0.28317609, ..., -0.20363639,\n",
       "         0.21574589, -0.40477688],\n",
       "       [-1.11924742, -0.24899919, -0.33465333, ..., -0.0907504 ,\n",
       "         0.21122116, -0.59325565],\n",
       "       [-2.06167179,  0.22769389, -0.17487773, ..., -0.15708899,\n",
       "         0.31242011, -0.35898832]])"
      ]
     },
     "execution_count": 48,
     "metadata": {},
     "output_type": "execute_result"
    }
   ],
   "source": [
    "final_data"
   ]
  },
  {
   "cell_type": "markdown",
   "id": "376c1ea4-b606-4ad2-b95c-1c5107039d8c",
   "metadata": {},
   "source": [
    "#### data sampling techniques SMOTE, SMOTEENN, and ADASYN"
   ]
  },
  {
   "cell_type": "code",
   "execution_count": 49,
   "id": "6aab6e5b-e300-4e36-9849-2b0060e56129",
   "metadata": {},
   "outputs": [
    {
     "data": {
      "image/png": "[encoded data removed]",
      "text/plain": [
       "<Figure size 640x480 with 1 Axes>"
      ]
     },
     "metadata": {},
     "output_type": "display_data"
    }
   ],
   "source": [
    "# Apply SMOTE to training data\n",
    "smote = SMOTE()\n",
    "X_smote_resampled, y_smote_resampled = smote.fit_resample(final_data, y)\n",
    "\n",
    "y_smote_resampled.value_counts().plot(kind='bar', color=['red', 'green', 'blue'])\n",
    "plt.title('SMOTE Balance sample of class distribution')\n",
    "plt.xlabel('Sample class')\n",
    "plt.ylabel('Sample count')\n",
    "plt.show()"
   ]
  },
  {
   "cell_type": "code",
   "execution_count": 52,
   "id": "5acdeb86",
   "metadata": {},
   "outputs": [
    {
     "data": {
      "image/png": "[encoded data removed]",
      "text/plain": [
       "<Figure size 640x480 with 1 Axes>"
      ]
     },
     "metadata": {},
     "output_type": "display_data"
    }
   ],
   "source": [
    "smote_enn = SMOTEENN()\n",
    "X_smoteenn_resampled, y_smoteenn_resampled = smote_enn.fit_resample(final_data, y)\n",
    "\n",
    "# Plotting the class distribution after SMOTE-ENN resampling\n",
    "y_smoteenn_resampled.value_counts().plot(kind='bar', color=['red', 'green', 'blue'])\n",
    "plt.title('SMOTE-ENN Balance sample of class distribution')\n",
    "plt.xlabel('Sample class')\n",
    "plt.ylabel('Sample count')\n",
    "plt.show()"
   ]
  },
  {
   "cell_type": "code",
   "execution_count": 53,
   "id": "c5145bc4",
   "metadata": {},
   "outputs": [
    {
     "data": {
      "image/png": "[encoded data removed]",
      "text/plain": [
       "<Figure size 640x480 with 1 Axes>"
      ]
     },
     "metadata": {},
     "output_type": "display_data"
    }
   ],
   "source": [
    "# Apply ADASYN to training data\n",
    "ada = ADASYN(random_state=42)\n",
    "X_adsyn_res, y_adsyn_res = ada.fit_resample(final_data,y)\n",
    "\n",
    "y_adsyn_res.value_counts().plot(kind='bar', color=['red', 'green', 'blue'])\n",
    "plt.title('ADSYN Balance sample of class distribution')\n",
    "plt.xlabel('Sample class')\n",
    "plt.ylabel('Sample count')\n",
    "plt.show()"
   ]
  },
  {
   "cell_type": "code",
   "execution_count": null,
   "id": "1dd1b333",
   "metadata": {},
   "outputs": [],
   "source": [
    "X_smote_train, X_smote_test, y_smote_train, y_smote_test = train_test_split(X_smote_resampled, y_smote_resampled, test_size=0.2, stratify=y_smote_resampled, random_state=42)\n",
    "X_adsyn_train, X_adsyn_test, y_adsyn_train, y_adysn_test = train_test_split(X_adsyn_res, y_adsyn_res, test_size=0.2, stratify=y_adsyn_res, random_state=42)"
   ]
  },
  {
   "cell_type": "code",
   "execution_count": 57,
   "id": "b2a0be22",
   "metadata": {},
   "outputs": [
    {
     "data": {
      "text/plain": [
       "(117641, 30)"
      ]
     },
     "execution_count": 57,
     "metadata": {},
     "output_type": "execute_result"
    }
   ],
   "source": [
    "X_adsyn_train.shape"
   ]
  },
  {
   "cell_type": "code",
   "execution_count": 56,
   "id": "80c608b6-56b6-48cb-bb47-e6399f7af553",
   "metadata": {},
   "outputs": [
    {
     "data": {
      "text/plain": [
       "(120553, 30)"
      ]
     },
     "execution_count": 56,
     "metadata": {},
     "output_type": "execute_result"
    }
   ],
   "source": [
    "X_smote_train.shape"
   ]
  },
  {
   "cell_type": "code",
   "execution_count": null,
   "id": "bc867af6",
   "metadata": {},
   "outputs": [],
   "source": [
    "X_smoteenn_train, X_smoteenn_test, y_smoteenn_train, y_smoteenn_test = train_test_split(X_smoteenn_resampled, y_smoteenn_resampled, test_size=0.2, stratify=y_smoteenn_resampled, random_state=42)"
   ]
  },
  {
   "cell_type": "code",
   "execution_count": 58,
   "id": "e6a418e2",
   "metadata": {},
   "outputs": [
    {
     "data": {
      "text/plain": [
       "(71299, 30)"
      ]
     },
     "execution_count": 58,
     "metadata": {},
     "output_type": "execute_result"
    }
   ],
   "source": [
    "X_smoteenn_train.shape"
   ]
  },
  {
   "cell_type": "code",
   "execution_count": 59,
   "id": "c8757425-4f07-4950-8fb0-b1bab4d1f21d",
   "metadata": {},
   "outputs": [
    {
     "name": "stdout",
     "output_type": "stream",
     "text": [
      "Epoch 1/7\n",
      "3768/3768 [==============================] - 39s 9ms/step - loss: 0.6659 - accuracy: 0.5886 - val_loss: 0.6524 - val_accuracy: 0.6115\n",
      "Epoch 2/7\n",
      "3768/3768 [==============================] - 24s 6ms/step - loss: 0.6455 - accuracy: 0.6190 - val_loss: 0.6413 - val_accuracy: 0.6232\n",
      "Epoch 3/7\n",
      "3768/3768 [==============================] - 23s 6ms/step - loss: 0.6356 - accuracy: 0.6304 - val_loss: 0.6356 - val_accuracy: 0.6316\n",
      "Epoch 4/7\n",
      "3768/3768 [==============================] - 22s 6ms/step - loss: 0.6278 - accuracy: 0.6392 - val_loss: 0.6290 - val_accuracy: 0.6401\n",
      "Epoch 5/7\n",
      "3768/3768 [==============================] - 28s 7ms/step - loss: 0.6211 - accuracy: 0.6474 - val_loss: 0.6255 - val_accuracy: 0.6450\n",
      "Epoch 6/7\n",
      "3768/3768 [==============================] - 23s 6ms/step - loss: 0.6154 - accuracy: 0.6523 - val_loss: 0.6247 - val_accuracy: 0.6436\n",
      "Epoch 7/7\n",
      "3768/3768 [==============================] - 30s 8ms/step - loss: 0.6101 - accuracy: 0.6580 - val_loss: 0.6193 - val_accuracy: 0.6467\n"
     ]
    }
   ],
   "source": [
    "# Build model with SMOTE BALANCED DATA\n",
    "model = Sequential([\n",
    "    Dense(128, activation='relu', input_shape=(30,)),  \n",
    "    Dense(64, activation='relu'),  \n",
    "    Dense(32, activation='relu'),  \n",
    "    Dense(1, activation='sigmoid')  \n",
    "])\n",
    "\n",
    "# Compile\n",
    "model.compile(\n",
    "    optimizer='SGD',\n",
    "    loss='binary_crossentropy',  \n",
    "    metrics=['accuracy']\n",
    ")\n",
    "\n",
    "# Train\n",
    "history = model.fit(\n",
    "    X_smote_train, y_smote_train,\n",
    "    epochs=7,\n",
    "    validation_data=(X_smote_test, y_smote_test)\n",
    ")"
   ]
  },
  {
   "cell_type": "code",
   "execution_count": 60,
   "id": "31468a34-84f2-4157-92fc-533baa06a2f2",
   "metadata": {},
   "outputs": [
    {
     "data": {
      "text/plain": [
       "<Axes: >"
      ]
     },
     "execution_count": 60,
     "metadata": {},
     "output_type": "execute_result"
    },
    {
     "data": {
      "image/png": "[encoded data removed]",
      "text/plain": [
       "<Figure size 640x480 with 1 Axes>"
      ]
     },
     "metadata": {},
     "output_type": "display_data"
    },
    {
     "data": {
      "image/png": "[encoded data removed]",
      "text/plain": [
       "<Figure size 640x480 with 1 Axes>"
      ]
     },
     "metadata": {},
     "output_type": "display_data"
    }
   ],
   "source": [
    "import pandas as pd\n",
    "pd.DataFrame(history.history)[['accuracy', 'val_accuracy']].plot()\n",
    "pd.DataFrame(history.history)[['loss', 'val_loss']].plot()"
   ]
  },
  {
   "cell_type": "code",
   "execution_count": 66,
   "id": "b745b538-6a27-4d82-b199-0413e271e1ad",
   "metadata": {},
   "outputs": [
    {
     "name": "stdout",
     "output_type": "stream",
     "text": [
      "Epoch 1/7\n",
      "3677/3677 [==============================] - 20s 5ms/step - loss: 0.6610 - accuracy: 0.5991 - val_loss: 0.6538 - val_accuracy: 0.6071\n",
      "Epoch 2/7\n",
      "3677/3677 [==============================] - 16s 4ms/step - loss: 0.6413 - accuracy: 0.6243 - val_loss: 0.6375 - val_accuracy: 0.6284\n",
      "Epoch 3/7\n",
      "3677/3677 [==============================] - 16s 4ms/step - loss: 0.6292 - accuracy: 0.6368 - val_loss: 0.6302 - val_accuracy: 0.6334\n",
      "Epoch 4/7\n",
      "3677/3677 [==============================] - 16s 4ms/step - loss: 0.6200 - accuracy: 0.6456 - val_loss: 0.6238 - val_accuracy: 0.6393\n",
      "Epoch 5/7\n",
      "3677/3677 [==============================] - 16s 4ms/step - loss: 0.6112 - accuracy: 0.6543 - val_loss: 0.6215 - val_accuracy: 0.6478\n",
      "Epoch 6/7\n",
      "3677/3677 [==============================] - 16s 4ms/step - loss: 0.6032 - accuracy: 0.6601 - val_loss: 0.6146 - val_accuracy: 0.6509\n",
      "Epoch 7/7\n",
      "3677/3677 [==============================] - 16s 4ms/step - loss: 0.5953 - accuracy: 0.6657 - val_loss: 0.6134 - val_accuracy: 0.6536\n"
     ]
    }
   ],
   "source": [
    "# Build model with ADYSN BALANCED DATA\n",
    "model = Sequential([\n",
    "    Dense(128, activation='relu', input_shape=(30,)),  \n",
    "    Dense(64, activation='relu'),  \n",
    "    Dense(32, activation='relu'),  \n",
    "    Dense(1, activation='sigmoid')  \n",
    "])\n",
    "\n",
    "# Compile\n",
    "model.compile(\n",
    "    optimizer='adam',\n",
    "    loss='binary_crossentropy',  \n",
    "    metrics=['accuracy']\n",
    ")\n",
    "\n",
    "# X_adsyn_train, X_adsyn_test, y_adsyn_train, y_adysn_test \n",
    "# Train\n",
    "history = model.fit(\n",
    "    X_adsyn_train, y_adsyn_train,\n",
    "    epochs=7,\n",
    "    validation_data=(X_adsyn_test, y_adysn_test)\n",
    ")"
   ]
  },
  {
   "cell_type": "code",
   "execution_count": null,
   "id": "c4a88505",
   "metadata": {},
   "outputs": [],
   "source": [
    "# Build model with ADYSN BALANCED DATA\n",
    "model = Sequential([\n",
    "    Dense(128, activation='relu', input_shape=(30,)),  \n",
    "    Dense(64, activation='relu'),  \n",
    "    Dense(32, activation='relu'),  \n",
    "    Dense(1, activation='sigmoid')  \n",
    "])\n",
    "\n",
    "# Compile\n",
    "model.compile(\n",
    "    optimizer='SGD',\n",
    "    loss='binary_crossentropy',  \n",
    "    metrics=['accuracy']\n",
    ")\n",
    "\n",
    "# X_adsyn_train, X_adsyn_test, y_adsyn_train, y_adysn_test \n",
    "# Train\n",
    "history = model.fit(\n",
    "    X_adsyn_train, y_adsyn_train,\n",
    "    epochs=7,\n",
    "    validation_data=(X_adsyn_test, y_adysn_test)"
   ]
  },
  {
   "cell_type": "code",
   "execution_count": 68,
   "id": "b004bb67-7889-4903-981f-a14807413b67",
   "metadata": {},
   "outputs": [],
   "source": [
    "import numpy as np\n",
    "from sklearn.model_selection import RandomizedSearchCV, train_test_split\n",
    "from sklearn.ensemble import RandomForestClassifier, GradientBoostingClassifier\n",
    "from sklearn.neighbors import KNeighborsClassifier\n",
    "from sklearn.linear_model import SGDClassifier\n",
    "from sklearn.datasets import load_iris\n",
    "from sklearn.metrics import accuracy_score, precision_score, recall_score, f1_score, classification_report, confusion_matrix\n",
    "from sklearn.neural_network import MLPClassifier\n",
    "import seaborn as sn "
   ]
  },
  {
   "cell_type": "code",
   "execution_count": 69,
   "id": "1b27753a-e400-49d5-b3c5-bdf28c83e6b3",
   "metadata": {},
   "outputs": [
    {
     "name": "stdout",
     "output_type": "stream",
     "text": [
      "Training RF...\n",
      "Fitting 3 folds for each of 4 candidates, totalling 12 fits\n"
     ]
    },
    {
     "name": "stderr",
     "output_type": "stream",
     "text": [
      "c:\\Users\\HP\\AppData\\Local\\Programs\\Python\\Python39\\lib\\site-packages\\sklearn\\model_selection\\_search.py:305: UserWarning: The total space of parameters 4 is smaller than n_iter=20. Running 4 iterations. For exhaustive searches, use GridSearchCV.\n",
      "  warnings.warn(\n"
     ]
    },
    {
     "name": "stdout",
     "output_type": "stream",
     "text": [
      "Best parameters for RF: {'n_estimators': 50, 'max_depth': None}\n",
      "\n",
      "Training GB...\n",
      "Fitting 3 folds for each of 4 candidates, totalling 12 fits\n"
     ]
    },
    {
     "name": "stderr",
     "output_type": "stream",
     "text": [
      "c:\\Users\\HP\\AppData\\Local\\Programs\\Python\\Python39\\lib\\site-packages\\sklearn\\model_selection\\_search.py:305: UserWarning: The total space of parameters 4 is smaller than n_iter=20. Running 4 iterations. For exhaustive searches, use GridSearchCV.\n",
      "  warnings.warn(\n"
     ]
    },
    {
     "name": "stdout",
     "output_type": "stream",
     "text": [
      "Best parameters for GB: {'n_estimators': 100, 'learning_rate': 0.1}\n",
      "\n",
      "Training DNN...\n",
      "Fitting 3 folds for each of 4 candidates, totalling 12 fits\n"
     ]
    },
    {
     "name": "stderr",
     "output_type": "stream",
     "text": [
      "c:\\Users\\HP\\AppData\\Local\\Programs\\Python\\Python39\\lib\\site-packages\\sklearn\\model_selection\\_search.py:305: UserWarning: The total space of parameters 4 is smaller than n_iter=20. Running 4 iterations. For exhaustive searches, use GridSearchCV.\n",
      "  warnings.warn(\n"
     ]
    },
    {
     "name": "stdout",
     "output_type": "stream",
     "text": [
      "Best parameters for DNN: {'hidden_layer_sizes': (100,), 'activation': 'tanh'}\n",
      "\n",
      "Training KNN...\n",
      "Fitting 3 folds for each of 4 candidates, totalling 12 fits\n"
     ]
    },
    {
     "name": "stderr",
     "output_type": "stream",
     "text": [
      "c:\\Users\\HP\\AppData\\Local\\Programs\\Python\\Python39\\lib\\site-packages\\sklearn\\model_selection\\_search.py:305: UserWarning: The total space of parameters 4 is smaller than n_iter=20. Running 4 iterations. For exhaustive searches, use GridSearchCV.\n",
      "  warnings.warn(\n"
     ]
    },
    {
     "name": "stdout",
     "output_type": "stream",
     "text": [
      "Best parameters for KNN: {'weights': 'distance', 'n_neighbors': 3}\n",
      "\n",
      "Training SGD...\n",
      "Fitting 3 folds for each of 4 candidates, totalling 12 fits\n"
     ]
    },
    {
     "name": "stderr",
     "output_type": "stream",
     "text": [
      "c:\\Users\\HP\\AppData\\Local\\Programs\\Python\\Python39\\lib\\site-packages\\sklearn\\model_selection\\_search.py:305: UserWarning: The total space of parameters 4 is smaller than n_iter=20. Running 4 iterations. For exhaustive searches, use GridSearchCV.\n",
      "  warnings.warn(\n",
      "c:\\Users\\HP\\AppData\\Local\\Programs\\Python\\Python39\\lib\\site-packages\\sklearn\\linear_model\\_stochastic_gradient.py:163: FutureWarning: The loss 'log' was deprecated in v1.1 and will be removed in version 1.3. Use `loss='log_loss'` which is equivalent.\n",
      "  warnings.warn(\n"
     ]
    },
    {
     "name": "stdout",
     "output_type": "stream",
     "text": [
      "Best parameters for SGD: {'penalty': 'l2', 'loss': 'log'}\n",
      "\n",
      "Accuracy for RF: 0.8111\n",
      "Accuracy for GB: 0.6012\n",
      "Accuracy for DNN: 0.6490\n",
      "Accuracy for KNN: 0.7828\n",
      "Accuracy for SGD: 0.5467\n"
     ]
    }
   ],
   "source": [
    "param_grids = {\n",
    "    'RF': {\n",
    "        'n_estimators': [10, 50],\n",
    "        'max_depth': [None, 10,],\n",
    "        # 'min_samples_split': [2, 5, 10],\n",
    "        # 'min_samples_leaf': [1, 2, 4]\n",
    "    },\n",
    "    'GB': {\n",
    "        'n_estimators': [50, 100],\n",
    "        'learning_rate': [0.01, 0.1],\n",
    "        # 'max_depth': [3, 5]\n",
    "    },\n",
    "    'DNN': {\n",
    "        'hidden_layer_sizes': [(50,), (100,)],\n",
    "        'activation': ['tanh', 'relu'],\n",
    "        # 'solver': ['sgd', 'adam'],\n",
    "        # 'learning_rate': ['constant', 'adaptive']\n",
    "    },\n",
    "    'KNN': {\n",
    "        'n_neighbors': [3, 5],\n",
    "        'weights': ['uniform', 'distance'],\n",
    "        # 'metric': ['euclidean', 'manhattan', 'minkowski']\n",
    "    },\n",
    "    'SGD': {\n",
    "        'loss': ['hinge', 'log'],\n",
    "        'penalty': ['l2', 'l1'],\n",
    "        # 'alpha': [0.0001, 0.001, 0.01],\n",
    "        # 'learning_rate': ['constant', 'optimal', 'invscaling']\n",
    "    }\n",
    "}\n",
    "\n",
    "models = {\n",
    "    'RF': RandomForestClassifier(),\n",
    "    'GB': GradientBoostingClassifier(),\n",
    "    'DNN': MLPClassifier(max_iter=1000),\n",
    "    'KNN': KNeighborsClassifier(),\n",
    "    'SGD': SGDClassifier()\n",
    "}\n",
    "\n",
    "# Step 3: Perform Randomized Search\n",
    "best_models = {}\n",
    "for name, model in models.items():\n",
    "    print(f\"Training {name}...\")\n",
    "    search = RandomizedSearchCV(\n",
    "        model,\n",
    "        param_distributions=param_grids[name],\n",
    "        n_iter=20,  # Number of parameter settings sampled\n",
    "        scoring='accuracy',\n",
    "        cv=3,\n",
    "        random_state=42,\n",
    "        verbose=1,\n",
    "        n_jobs=-1\n",
    "    )\n",
    "    \n",
    "    search.fit(X_adsyn_train, y_adsyn_train)\n",
    "    best_models[name] = search.best_estimator_\n",
    "    print(f\"Best parameters for {name}: {search.best_params_}\\n\")\n",
    "\n",
    "# Step 4: Evaluate Best Models\n",
    "for name, model in best_models.items():\n",
    "    y_pred = model.predict(X_adsyn_test)\n",
    "    acc = accuracy_score(y_adysn_test, y_pred)\n",
    "    print(f\"Accuracy for {name}: {acc:.4f}\")"
   ]
  },
  {
   "cell_type": "code",
   "execution_count": 101,
   "id": "d3fb728e-9585-4a35-acdc-42f140ed9b26",
   "metadata": {},
   "outputs": [
    {
     "name": "stdout",
     "output_type": "stream",
     "text": [
      "training Score 0.7905875\n",
      "                  0\n",
      "accuracy   0.763100\n",
      "precision  0.765865\n",
      "recall     0.987458\n",
      "              precision    recall  f1-score   support\n",
      "\n",
      "           0       0.67      0.08      0.14      4931\n",
      "           1       0.77      0.99      0.86     15069\n",
      "\n",
      "    accuracy                           0.76     20000\n",
      "   macro avg       0.72      0.53      0.50     20000\n",
      "weighted avg       0.74      0.76      0.68     20000\n",
      "\n"
     ]
    },
    {
     "data": {
      "text/plain": [
       "<Axes: >"
      ]
     },
     "execution_count": 101,
     "metadata": {},
     "output_type": "execute_result"
    },
    {
     "data": {
      "image/png": "[encoded data removed]",
      "text/plain": [
       "<Figure size 640x480 with 2 Axes>"
      ]
     },
     "metadata": {},
     "output_type": "display_data"
    }
   ],
   "source": [
    "# training indivicual model \n",
    "\n",
    "\n",
    "rf = RandomForestClassifier(n_estimators=50, max_depth=10)\n",
    "rf.fit(X_train, y_train)\n",
    "print(f'training Score {rf.score(X_train, y_train)}')\n",
    "\n",
    "rf_pred = rf.predict(X_test)\n",
    "# print(rf_pred)\n",
    "report = classification_report(y_test, rf_pred)\n",
    "acc = accuracy_score(y_test, rf_pred)\n",
    "pre = precision_score(y_test, rf_pred)\n",
    "recall = recall_score(y_test, rf_pred)\n",
    "# f1_score = f1_score(y_test, rf_pred)\n",
    "matrix = confusion_matrix(y_test, rf_pred)\n",
    "\n",
    "\n",
    "rf_metric = {\n",
    "    'accuracy': acc,\n",
    "    'precision':pre, \n",
    "    'recall': recall\n",
    "    # 'f1-score': f1_score\n",
    "}\n",
    "\n",
    "print(pd.DataFrame(pd.Series(rf_metric)))\n",
    "print(report)\n",
    "sn.heatmap(matrix, annot=True, fmt='d')"
   ]
  },
  {
   "cell_type": "code",
   "execution_count": 103,
   "id": "9cb3a389-7e36-4748-bece-e5183f54f488",
   "metadata": {},
   "outputs": [
    {
     "name": "stdout",
     "output_type": "stream",
     "text": [
      "training Score 0.76795\n",
      "                  0\n",
      "accuracy   0.762550\n",
      "precision  0.767330\n",
      "recall     0.982879\n",
      "              precision    recall  f1-score   support\n",
      "\n",
      "           0       0.67      0.08      0.14      4931\n",
      "           1       0.77      0.99      0.86     15069\n",
      "\n",
      "    accuracy                           0.76     20000\n",
      "   macro avg       0.72      0.53      0.50     20000\n",
      "weighted avg       0.74      0.76      0.68     20000\n",
      "\n"
     ]
    },
    {
     "data": {
      "text/plain": [
       "<Axes: >"
      ]
     },
     "execution_count": 103,
     "metadata": {},
     "output_type": "execute_result"
    },
    {
     "data": {
      "image/png": "[encoded data removed]",
      "text/plain": [
       "<Figure size 640x480 with 2 Axes>"
      ]
     },
     "metadata": {},
     "output_type": "display_data"
    }
   ],
   "source": [
    "# training indivicual model \n",
    "\n",
    "\n",
    "gb = GradientBoostingClassifier(n_estimators=100, learning_rate=0.1)\n",
    "gb.fit(X_train, y_train)\n",
    "print(f'training Score {gb.score(X_train, y_train)}')\n",
    "\n",
    "gb_pred = gb.predict(X_test)\n",
    "# print(rf_pred)\n",
    "report = classification_report(y_test, rf_pred)\n",
    "acc = accuracy_score(y_test, gb_pred)\n",
    "pre = precision_score(y_test, gb_pred)\n",
    "recall = recall_score(y_test, gb_pred)\n",
    "# f1_score = f1_score(y_test, rf_pred)\n",
    "matrix = confusion_matrix(y_test, gb_pred)\n",
    "\n",
    "\n",
    "gb_metric = {\n",
    "    'accuracy': acc,\n",
    "    'precision':pre, \n",
    "    'recall': recall\n",
    "    # 'f1-score': f1_score\n",
    "}\n",
    "\n",
    "print(pd.DataFrame(pd.Series(gb_metric)))\n",
    "print(report)\n",
    "sn.heatmap(matrix, annot=True, fmt='d')"
   ]
  },
  {
   "cell_type": "code",
   "execution_count": 108,
   "id": "bcbed543-3bf0-400b-bd11-343bb084ea67",
   "metadata": {},
   "outputs": [
    {
     "name": "stdout",
     "output_type": "stream",
     "text": [
      "training Score 0.79905\n",
      "                  0\n",
      "accuracy   0.751900\n",
      "precision  0.784528\n",
      "recall     0.924680\n",
      "              precision    recall  f1-score   support\n",
      "\n",
      "           0       0.49      0.22      0.31      4931\n",
      "           1       0.78      0.92      0.85     15069\n",
      "\n",
      "    accuracy                           0.75     20000\n",
      "   macro avg       0.64      0.57      0.58     20000\n",
      "weighted avg       0.71      0.75      0.72     20000\n",
      "\n"
     ]
    },
    {
     "data": {
      "text/plain": [
       "<Axes: >"
      ]
     },
     "execution_count": 108,
     "metadata": {},
     "output_type": "execute_result"
    },
    {
     "data": {
      "image/png": "[encoded data removed]",
      "text/plain": [
       "<Figure size 640x480 with 2 Axes>"
      ]
     },
     "metadata": {},
     "output_type": "display_data"
    }
   ],
   "source": [
    "# training indivicual model \n",
    "\n",
    "\n",
    "knn = KNeighborsClassifier(n_neighbors=7, p=1, weights='uniform')\n",
    "knn.fit(X_train, y_train)\n",
    "print(f'training Score {knn.score(X_train, y_train)}')\n",
    "\n",
    "knn_pred = knn.predict(X_test)\n",
    "# print(rf_pred)\n",
    "report = classification_report(y_test, knn_pred)\n",
    "acc = accuracy_score(y_test, knn_pred)\n",
    "pre = precision_score(y_test, knn_pred)\n",
    "recall = recall_score(y_test, knn_pred)\n",
    "# f1_score = f1_score(y_test, rf_pred)\n",
    "matrix = confusion_matrix(y_test, knn_pred)\n",
    "\n",
    "\n",
    "knn_metric = {\n",
    "    'accuracy': acc,\n",
    "    'precision':pre, \n",
    "    'recall': recall\n",
    "    # 'f1-score': f1_score\n",
    "}\n",
    "\n",
    "print(pd.DataFrame(pd.Series(knn_metric)))\n",
    "print(report)\n",
    "sn.heatmap(matrix, annot=True, fmt='d')"
   ]
  },
  {
   "cell_type": "code",
   "execution_count": 112,
   "id": "c20b7bda-8eb9-4ce6-94eb-2065d10502dc",
   "metadata": {},
   "outputs": [
    {
     "name": "stdout",
     "output_type": "stream",
     "text": [
      "training Score 0.7526375\n",
      "                  0\n",
      "accuracy   0.754200\n",
      "precision  0.756765\n",
      "recall     0.992899\n",
      "              precision    recall  f1-score   support\n",
      "\n",
      "           0       0.53      0.02      0.05      4931\n",
      "           1       0.76      0.99      0.86     15069\n",
      "\n",
      "    accuracy                           0.75     20000\n",
      "   macro avg       0.64      0.51      0.45     20000\n",
      "weighted avg       0.70      0.75      0.66     20000\n",
      "\n"
     ]
    },
    {
     "data": {
      "text/plain": [
       "<Axes: >"
      ]
     },
     "execution_count": 112,
     "metadata": {},
     "output_type": "execute_result"
    },
    {
     "data": {
      "image/png": "[encoded data removed]",
      "text/plain": [
       "<Figure size 640x480 with 2 Axes>"
      ]
     },
     "metadata": {},
     "output_type": "display_data"
    }
   ],
   "source": [
    "# training indivicual model \n",
    "\n",
    "\n",
    "sgd = SGDClassifier(loss='hinge', penalty='l1')\n",
    "sgd.fit(X_train, y_train)\n",
    "print(f'training Score {sgd.score(X_train, y_train)}')\n",
    "\n",
    "sgd_pred = sgd.predict(X_test)\n",
    "# print(rf_pred)\n",
    "report = classification_report(y_test, sgd_pred)\n",
    "acc = accuracy_score(y_test, sgd_pred)\n",
    "pre = precision_score(y_test, sgd_pred)\n",
    "recall = recall_score(y_test, sgd_pred)\n",
    "# f1_score = f1_score(y_test, rf_pred)\n",
    "matrix = confusion_matrix(y_test, sgd_pred)\n",
    "\n",
    "\n",
    "sgd_metric = {\n",
    "    'accuracy': acc,\n",
    "    'precision':pre, \n",
    "    'recall': recall\n",
    "    # 'f1-score': f1_score\n",
    "}\n",
    "\n",
    "print(pd.DataFrame(pd.Series(sgd_metric)))\n",
    "print(report)\n",
    "sn.heatmap(matrix, annot=True, fmt='d')"
   ]
  },
  {
   "cell_type": "code",
   "execution_count": 113,
   "id": "9026cb7d-59e9-436f-a082-9bbcd0944d2b",
   "metadata": {},
   "outputs": [
    {
     "name": "stdout",
     "output_type": "stream",
     "text": [
      "training Score 0.78015\n",
      "                  0\n",
      "accuracy   0.769200\n",
      "precision  0.780377\n",
      "recall     0.965359\n",
      "              precision    recall  f1-score   support\n",
      "\n",
      "           0       0.53      0.02      0.05      4931\n",
      "           1       0.76      0.99      0.86     15069\n",
      "\n",
      "    accuracy                           0.75     20000\n",
      "   macro avg       0.64      0.51      0.45     20000\n",
      "weighted avg       0.70      0.75      0.66     20000\n",
      "\n"
     ]
    },
    {
     "data": {
      "text/plain": [
       "<Axes: >"
      ]
     },
     "execution_count": 113,
     "metadata": {},
     "output_type": "execute_result"
    },
    {
     "data": {
      "image/png": "[encoded data removed]",
      "text/plain": [
       "<Figure size 640x480 with 2 Axes>"
      ]
     },
     "metadata": {},
     "output_type": "display_data"
    }
   ],
   "source": [
    "# training indivicual model \n",
    "\n",
    "\n",
    "mlp = MLPClassifier(hidden_layer_sizes=(50,), activation='relu')\n",
    "mlp.fit(X_train, y_train)\n",
    "print(f'training Score {mlp.score(X_train, y_train)}')\n",
    "\n",
    "mlp_pred = mlp.predict(X_test)\n",
    "# print(rf_pred)\n",
    "report = classification_report(y_test, sgd_pred)\n",
    "acc = accuracy_score(y_test, mlp_pred)\n",
    "pre = precision_score(y_test, mlp_pred)\n",
    "recall = recall_score(y_test, mlp_pred)\n",
    "# f1_score = f1_score(y_test, rf_pred)\n",
    "matrix = confusion_matrix(y_test, mlp_pred)\n",
    "\n",
    "\n",
    "mlp_metric = {\n",
    "    'accuracy': acc,\n",
    "    'precision':pre, \n",
    "    'recall': recall\n",
    "    # 'f1-score': f1_score\n",
    "}\n",
    "\n",
    "print(pd.DataFrame(pd.Series(mlp_metric)))\n",
    "print(report)\n",
    "sn.heatmap(matrix, annot=True, fmt='d')"
   ]
  },
  {
   "cell_type": "code",
   "execution_count": null,
   "id": "76fab5e2",
   "metadata": {},
   "outputs": [],
   "source": []
  }
 ],
 "metadata": {
  "kernelspec": {
   "display_name": "Python 3 (ipykernel)",
   "language": "python",
   "name": "python3"
  },
  "language_info": {
   "codemirror_mode": {
    "name": "ipython",
    "version": 3
   },
   "file_extension": ".py",
   "mimetype": "text/x-python",
   "name": "python",
   "nbconvert_exporter": "python",
   "pygments_lexer": "ipython3",
   "version": "3.9.5"
  }
 },
 "nbformat": 4,
 "nbformat_minor": 5
}
