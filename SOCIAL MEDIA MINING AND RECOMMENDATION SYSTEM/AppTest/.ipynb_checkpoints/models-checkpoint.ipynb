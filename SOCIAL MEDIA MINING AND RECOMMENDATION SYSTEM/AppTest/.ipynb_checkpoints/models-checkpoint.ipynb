{
 "cells": [
  {
   "cell_type": "markdown",
   "metadata": {},
   "source": [
    "Entity Recognision (PERSON, LOCATION OR ADDRESS, CONTACT, ORGANIZATION)"
   ]
  },
  {
   "cell_type": "code",
   "execution_count": 1,
   "metadata": {},
   "outputs": [
    {
     "name": "stderr",
     "output_type": "stream",
     "text": [
      "[nltk_data] Downloading package punkt to\n",
      "[nltk_data]     C:\\Users\\HP\\AppData\\Roaming\\nltk_data...\n",
      "[nltk_data]   Package punkt is already up-to-date!\n",
      "[nltk_data] Downloading package maxent_ne_chunker to\n",
      "[nltk_data]     C:\\Users\\HP\\AppData\\Roaming\\nltk_data...\n",
      "[nltk_data]   Package maxent_ne_chunker is already up-to-date!\n",
      "[nltk_data] Downloading package words to\n",
      "[nltk_data]     C:\\Users\\HP\\AppData\\Roaming\\nltk_data...\n",
      "[nltk_data]   Package words is already up-to-date!\n"
     ]
    },
    {
     "data": {
      "text/plain": [
       "True"
      ]
     },
     "execution_count": 1,
     "metadata": {},
     "output_type": "execute_result"
    }
   ],
   "source": [
    "import nltk\n",
    "nltk.download('punkt')\n",
    "nltk.download('maxent_ne_chunker')\n",
    "nltk.download('words')"
   ]
  },
  {
   "cell_type": "markdown",
   "metadata": {},
   "source": [
    "ADDRESS AND PESON DETECTOR.. (ENTITY DETECOT)"
   ]
  },
  {
   "cell_type": "code",
   "execution_count": 1,
   "metadata": {},
   "outputs": [
    {
     "name": "stdout",
     "output_type": "stream",
     "text": [
      "james ==> PERSON\n",
      "New Castle ==> GPE\n",
      "Delaware ==> GPE\n",
      "United States of America ==> GPE\n"
     ]
    }
   ],
   "source": [
    "from nltk.corpus import stopwords\n",
    "from nltk.tokenize import word_tokenize, sent_tokenize\n",
    "\n",
    "post = 'the name of the boy is ahmed, adam and james and live in No.5 adex street he contact is +971 55 1234567 651 N Broad St, New Castle, Delaware, United States of America'\n",
    "import spacy\n",
    "\n",
    "# this function is capable of detecting address, person name, organization and some contact\n",
    "def get_entities(posts):\n",
    "    for post in posts:\n",
    "        # loading of spacy model\n",
    "        nlp_model = spacy.load('en_core_web_sm')\n",
    "\n",
    "        # padding comment to model\n",
    "        doc = nlp_model(post)\n",
    "\n",
    "        # going throught the entity\n",
    "        for ent in doc.ents: \n",
    "            if ent.label_ == 'DATE' or ent.label_ == 'CARDINAL': \n",
    "                pass\n",
    "            else: \n",
    "                print(f'{ent.text} ==> {ent.label_}')\n",
    "\n",
    "\n",
    "get_entities([post])"
   ]
  },
  {
   "cell_type": "markdown",
   "metadata": {},
   "source": [
    "UAI CONTACT MATCH AND EMAIL RECOGNIZER... "
   ]
  },
  {
   "cell_type": "code",
   "execution_count": null,
   "metadata": {},
   "outputs": [
    {
     "data": {
      "text/plain": [
       "{'contact': ['+971 50 9876543', '+971 55 1234567'],\n",
       " 'emails': ['hamad1076663@gmail.com']}"
      ]
     },
     "execution_count": 73,
     "metadata": {},
     "output_type": "execute_result"
    }
   ],
   "source": [
    "# BASE LINE PHONE MATCHER\n",
    "import re\n",
    "\n",
    "post = 'the name of the boy is ahmed, adam and james and email contack  +971 8 5555555 +971 5 9876543   +971 2 1234567'\n",
    "\n",
    "def contact_email_detector(post):\n",
    "    contact_diction = {}\n",
    "    email_pattern = re.compile(r'\\b[A-Za-z0-9._%+-]+@[A-Za-z0-9.-]+\\.[A-Z|a-z]{2,}\\b')\n",
    "    uai_phone_pattern = r\"\\+971 [2355679]\\d{1} \\d{7}\"\n",
    "    text = \"+971 2 1234567 and +971 50 9876543 are valid  +971 8 5555555 UAE phone numbers, but not +971 1 5555555 or +971 55 1234567 and my email is hamad1076663@gmail.com.\"\n",
    "\n",
    "\n",
    "    matches = re.findall(uai_phone_pattern, text)\n",
    "    contact_diction['contact'] = matches\n",
    "    emails =  re.findall(email_pattern, text)\n",
    "    contact_diction['emails'] = emails\n",
    "\n",
    "    return contact_diction\n",
    "\n",
    "contact_data = contact_email_detector(post)\n",
    "contact_data"
   ]
  },
  {
   "cell_type": "markdown",
   "metadata": {},
   "source": [
    "CALCULATING PROFILE DATA VULNERABILITY EXPOSURE"
   ]
  },
  {
   "cell_type": "code",
   "execution_count": 3,
   "metadata": {},
   "outputs": [
    {
     "name": "stdout",
     "output_type": "stream",
     "text": [
      "100091362595291 hamad alsuwaidi add work\n",
      "dubai electricity and water authority - dewa\n",
      "shift manager\n",
      "dubai, united arab emirates\n",
      "more options abu dhabi, united arab emirates hamad1076663@gmail.com +971 50 561 1160 male april 11, 1998 add a nickname, a birth name... add a relationship status add family member write about yourself 2023\n",
      "grew up in abu dhabi, united arab emirates\n"
     ]
    },
    {
     "data": {
      "text/plain": [
       "0.11764705882352941"
      ]
     },
     "execution_count": 3,
     "metadata": {},
     "output_type": "execute_result"
    }
   ],
   "source": [
    "from nltk.tokenize import word_tokenize\n",
    "from nltk.tokenize import word_tokenize\n",
    "from nltk.stem import PorterStemmer\n",
    "from nltk.corpus import stopwords\n",
    "import json\n",
    "import string\n",
    "\n",
    "pt_stem = PorterStemmer()\n",
    "st = stopwords.words('english')\n",
    "\n",
    "# cleaning text ===> removal of punctuation, stemming and stopword removal \n",
    "def clean_dataset(dataset):\n",
    "\n",
    "    token_word = [word.lower() for word in word_tokenize(dataset)]\n",
    "    clean_word = [token for token in token_word if not token in st]\n",
    "    clean_word = ' '.join([cl_word for cl_word in clean_word if not cl_word in string.punctuation])\n",
    "\n",
    "    return clean_word\n",
    "\n",
    "comment = 'the name of the boy is ahmed, hamad1076663@gmail.com adam and james and email contack  +971 8 5555555 +971 5 9876543   +971 2 1234567'\n",
    "\n",
    "\n",
    "def get_facebook_profile():\n",
    "    with open('profile.json', 'r') as file: \n",
    "        data = json.load(file)\n",
    "    return data\n",
    "\n",
    "\n",
    "profile_dict = get_facebook_profile()\n",
    "profile_dict\n",
    "\n",
    "\n",
    "\n",
    "# profile vulnerability calculation\n",
    "def personal_data_vulnerability_score(profile, comment):\n",
    "    prof_data = []\n",
    "    for k,v in profile.items():\n",
    "        if(type(v) == str):\n",
    "            prof_data.append(v.lower())\n",
    "\n",
    "    count_data = ' '.join(prof_data)\n",
    "    print(count_data)\n",
    "\n",
    "    # clean comement.. and post\n",
    "    comment = clean_dataset(comment).split()\n",
    "\n",
    "    # clean user profile\n",
    "    prof_data = clean_dataset(count_data).split()\n",
    "\n",
    "    prob_count = 0\n",
    "    for com in comment: \n",
    "        # print(com)\n",
    "        if com.lower() in prof_data: \n",
    "            prob_count += 1\n",
    "\n",
    "    if len(profile) == 0: \n",
    "        return 0 \n",
    "    else: \n",
    "        return prob_count/len(prof_data)\n",
    "\n",
    "\n",
    "personal_data_vulnerability_score(profile_dict, comment)"
   ]
  },
  {
   "cell_type": "markdown",
   "metadata": {},
   "source": [
    "sentiment analysis"
   ]
  },
  {
   "cell_type": "markdown",
   "metadata": {},
   "source": [
    "## sentiment Analysis model"
   ]
  },
  {
   "cell_type": "markdown",
   "metadata": {},
   "source": [
    "dataset download link\n",
    "https://www.kaggle.com/datasets/yrastogi13/dataset-for-sentiment-analysis"
   ]
  },
  {
   "cell_type": "code",
   "execution_count": 4,
   "metadata": {},
   "outputs": [
    {
     "data": {
      "text/html": [
       "<div>\n",
       "<style scoped>\n",
       "    .dataframe tbody tr th:only-of-type {\n",
       "        vertical-align: middle;\n",
       "    }\n",
       "\n",
       "    .dataframe tbody tr th {\n",
       "        vertical-align: top;\n",
       "    }\n",
       "\n",
       "    .dataframe thead th {\n",
       "        text-align: right;\n",
       "    }\n",
       "</style>\n",
       "<table border=\"1\" class=\"dataframe\">\n",
       "  <thead>\n",
       "    <tr style=\"text-align: right;\">\n",
       "      <th></th>\n",
       "      <th>Review</th>\n",
       "      <th>Liked</th>\n",
       "    </tr>\n",
       "  </thead>\n",
       "  <tbody>\n",
       "    <tr>\n",
       "      <th>0</th>\n",
       "      <td>Wow... Loved this place.</td>\n",
       "      <td>1</td>\n",
       "    </tr>\n",
       "    <tr>\n",
       "      <th>1</th>\n",
       "      <td>Crust is not good.</td>\n",
       "      <td>0</td>\n",
       "    </tr>\n",
       "    <tr>\n",
       "      <th>2</th>\n",
       "      <td>Not tasty and the texture was just nasty.</td>\n",
       "      <td>0</td>\n",
       "    </tr>\n",
       "    <tr>\n",
       "      <th>3</th>\n",
       "      <td>Stopped by during the late May bank holiday of...</td>\n",
       "      <td>1</td>\n",
       "    </tr>\n",
       "    <tr>\n",
       "      <th>4</th>\n",
       "      <td>The selection on the menu was great and so wer...</td>\n",
       "      <td>1</td>\n",
       "    </tr>\n",
       "  </tbody>\n",
       "</table>\n",
       "</div>"
      ],
      "text/plain": [
       "                                              Review  Liked\n",
       "0                           Wow... Loved this place.      1\n",
       "1                                 Crust is not good.      0\n",
       "2          Not tasty and the texture was just nasty.      0\n",
       "3  Stopped by during the late May bank holiday of...      1\n",
       "4  The selection on the menu was great and so wer...      1"
      ]
     },
     "execution_count": 4,
     "metadata": {},
     "output_type": "execute_result"
    }
   ],
   "source": [
    "import pandas as pd \n",
    "\n",
    "# loading data\n",
    "dt1 = pd.read_csv('sentiment_dataset/sent_data.csv')\n",
    "dt2 = pd.read_csv('sentiment_dataset/sent_data_two.csv')\n",
    "\n",
    "# merging dataset into single table\n",
    "dataset = pd.concat([dt1, dt2], ignore_index=True)\n",
    "dataset.head()"
   ]
  },
  {
   "cell_type": "code",
   "execution_count": 5,
   "metadata": {},
   "outputs": [
    {
     "data": {
      "text/plain": [
       "Index(['Review', 'Liked'], dtype='object')"
      ]
     },
     "execution_count": 5,
     "metadata": {},
     "output_type": "execute_result"
    }
   ],
   "source": [
    "# showing columns\n",
    "dataset.columns"
   ]
  },
  {
   "cell_type": "code",
   "execution_count": 6,
   "metadata": {},
   "outputs": [
    {
     "name": "stdout",
     "output_type": "stream",
     "text": [
      "rows : 2630 |  Columns : 2\n"
     ]
    }
   ],
   "source": [
    "# showing number of rows and columns... \n",
    "r, c = dataset.shape\n",
    "print(\"rows : {} |  Columns : {}\".format(r, c))"
   ]
  },
  {
   "cell_type": "code",
   "execution_count": 7,
   "metadata": {},
   "outputs": [
    {
     "data": {
      "text/plain": [
       "1536    Everything on the menu is terrific and we were...\n",
       "2526                           RSS-BJP bhagao desh bachao\n",
       "618     They really want to make your experience a goo...\n",
       "2561    Islam is not meant 2b Sunni Islam & Shia Islam...\n",
       "Name: Review, dtype: object"
      ]
     },
     "execution_count": 7,
     "metadata": {},
     "output_type": "execute_result"
    }
   ],
   "source": [
    "# show some smaple content......\n",
    "dataset.Review.sample(4)"
   ]
  },
  {
   "cell_type": "code",
   "execution_count": 8,
   "metadata": {},
   "outputs": [
    {
     "data": {
      "text/plain": [
       "636     Tried to go here for lunch and it was a madhouse.\n",
       "2509    It was a bit too sweet, not really spicy enoug...\n",
       "1202    Feminism is stupid and that God purposefully m...\n",
       "2252                                     I'm super pissd.\n",
       "Name: Review, dtype: object"
      ]
     },
     "execution_count": 8,
     "metadata": {},
     "output_type": "execute_result"
    }
   ],
   "source": [
    "# show some smaple content......\n",
    "dataset.Review.sample(4)"
   ]
  },
  {
   "cell_type": "code",
   "execution_count": 9,
   "metadata": {},
   "outputs": [
    {
     "data": {
      "text/html": [
       "<div>\n",
       "<style scoped>\n",
       "    .dataframe tbody tr th:only-of-type {\n",
       "        vertical-align: middle;\n",
       "    }\n",
       "\n",
       "    .dataframe tbody tr th {\n",
       "        vertical-align: top;\n",
       "    }\n",
       "\n",
       "    .dataframe thead th {\n",
       "        text-align: right;\n",
       "    }\n",
       "</style>\n",
       "<table border=\"1\" class=\"dataframe\">\n",
       "  <thead>\n",
       "    <tr style=\"text-align: right;\">\n",
       "      <th></th>\n",
       "      <th>Review</th>\n",
       "      <th>Liked</th>\n",
       "      <th>clean_data</th>\n",
       "    </tr>\n",
       "  </thead>\n",
       "  <tbody>\n",
       "    <tr>\n",
       "      <th>0</th>\n",
       "      <td>Wow... Loved this place.</td>\n",
       "      <td>1</td>\n",
       "      <td>wow ... loved place</td>\n",
       "    </tr>\n",
       "    <tr>\n",
       "      <th>1</th>\n",
       "      <td>Crust is not good.</td>\n",
       "      <td>0</td>\n",
       "      <td>crust good</td>\n",
       "    </tr>\n",
       "    <tr>\n",
       "      <th>2</th>\n",
       "      <td>Not tasty and the texture was just nasty.</td>\n",
       "      <td>0</td>\n",
       "      <td>tasty texture nasty</td>\n",
       "    </tr>\n",
       "    <tr>\n",
       "      <th>3</th>\n",
       "      <td>Stopped by during the late May bank holiday of...</td>\n",
       "      <td>1</td>\n",
       "      <td>stopped late may bank holiday rick steve recom...</td>\n",
       "    </tr>\n",
       "    <tr>\n",
       "      <th>4</th>\n",
       "      <td>The selection on the menu was great and so wer...</td>\n",
       "      <td>1</td>\n",
       "      <td>selection menu great prices</td>\n",
       "    </tr>\n",
       "  </tbody>\n",
       "</table>\n",
       "</div>"
      ],
      "text/plain": [
       "                                              Review  Liked  \\\n",
       "0                           Wow... Loved this place.      1   \n",
       "1                                 Crust is not good.      0   \n",
       "2          Not tasty and the texture was just nasty.      0   \n",
       "3  Stopped by during the late May bank holiday of...      1   \n",
       "4  The selection on the menu was great and so wer...      1   \n",
       "\n",
       "                                          clean_data  \n",
       "0                                wow ... loved place  \n",
       "1                                         crust good  \n",
       "2                                tasty texture nasty  \n",
       "3  stopped late may bank holiday rick steve recom...  \n",
       "4                        selection menu great prices  "
      ]
     },
     "execution_count": 9,
     "metadata": {},
     "output_type": "execute_result"
    }
   ],
   "source": [
    "from nltk.tokenize import word_tokenize\n",
    "from nltk.stem import PorterStemmer\n",
    "from nltk.corpus import stopwords\n",
    "import string\n",
    "\n",
    "pt_stem = PorterStemmer()\n",
    "st = stopwords.words('english')\n",
    "\n",
    "# cleaning text ===> removal of punctuation, stemming and stopword removal \n",
    "def clean_dataset(dataset):\n",
    "\n",
    "    token_word = [word.lower() for word in word_tokenize(dataset)]\n",
    "    clean_word = [token for token in token_word if not token in st]\n",
    "    clean_word = ' '.join([cl_word for cl_word in clean_word if not cl_word in string.punctuation])\n",
    "\n",
    "    return clean_word\n",
    "\n",
    "\n",
    "# create clean data columns\n",
    "dataset['clean_data'] = dataset['Review'].apply(lambda data : clean_dataset(data))\n",
    "dataset.head()"
   ]
  },
  {
   "cell_type": "markdown",
   "metadata": {},
   "source": [
    "Splitting Data"
   ]
  },
  {
   "cell_type": "code",
   "execution_count": 12,
   "metadata": {},
   "outputs": [
    {
     "data": {
      "text/html": [
       "<div>\n",
       "<style scoped>\n",
       "    .dataframe tbody tr th:only-of-type {\n",
       "        vertical-align: middle;\n",
       "    }\n",
       "\n",
       "    .dataframe tbody tr th {\n",
       "        vertical-align: top;\n",
       "    }\n",
       "\n",
       "    .dataframe thead th {\n",
       "        text-align: right;\n",
       "    }\n",
       "</style>\n",
       "<table border=\"1\" class=\"dataframe\">\n",
       "  <thead>\n",
       "    <tr style=\"text-align: right;\">\n",
       "      <th></th>\n",
       "      <th>Liked</th>\n",
       "      <th>clean_data</th>\n",
       "    </tr>\n",
       "  </thead>\n",
       "  <tbody>\n",
       "    <tr>\n",
       "      <th>0</th>\n",
       "      <td>1</td>\n",
       "      <td>wow ... loved place</td>\n",
       "    </tr>\n",
       "    <tr>\n",
       "      <th>1</th>\n",
       "      <td>0</td>\n",
       "      <td>crust good</td>\n",
       "    </tr>\n",
       "    <tr>\n",
       "      <th>2</th>\n",
       "      <td>0</td>\n",
       "      <td>tasty texture nasty</td>\n",
       "    </tr>\n",
       "    <tr>\n",
       "      <th>3</th>\n",
       "      <td>1</td>\n",
       "      <td>stopped late may bank holiday rick steve recom...</td>\n",
       "    </tr>\n",
       "  </tbody>\n",
       "</table>\n",
       "</div>"
      ],
      "text/plain": [
       "   Liked                                         clean_data\n",
       "0      1                                wow ... loved place\n",
       "1      0                                         crust good\n",
       "2      0                                tasty texture nasty\n",
       "3      1  stopped late may bank holiday rick steve recom..."
      ]
     },
     "execution_count": 12,
     "metadata": {},
     "output_type": "execute_result"
    }
   ],
   "source": [
    "fn_data = dataset[['Liked', 'clean_data']]\n",
    "fn_data.head(4)"
   ]
  },
  {
   "cell_type": "code",
   "execution_count": 13,
   "metadata": {},
   "outputs": [
    {
     "name": "stdout",
     "output_type": "stream",
     "text": [
      "training size 2235\n",
      "Testing size  395\n"
     ]
    }
   ],
   "source": [
    "from sklearn import model_selection\n",
    "\n",
    "X =  fn_data.clean_data \n",
    "y = fn_data.Liked\n",
    "\n",
    "X_train, X_test, y_train, y_test = model_selection.train_test_split(X, y, test_size=0.15, random_state=10)\n",
    "\n",
    "print('training size {}'.format(len(X_train)))\n",
    "print('Testing size  {}'.format(len(X_test)))"
   ]
  },
  {
   "cell_type": "markdown",
   "metadata": {},
   "source": [
    "Vectorizing (is to covert those text to numbers)"
   ]
  },
  {
   "cell_type": "code",
   "execution_count": 14,
   "metadata": {},
   "outputs": [],
   "source": [
    "#  the label 0 ===> Negative sentiment  |||||||  1 ==> postive sentiment\n",
    "from sklearn.feature_extraction import text\n",
    "\n",
    "tfidf = text.TfidfVectorizer()\n",
    "\n",
    "# vectorizing the clean_text into numerical data \n",
    "Xtrain_vector =tfidf.fit_transform(X_train)\n",
    "Xtest_vector = tfidf.transform(X_test)"
   ]
  },
  {
   "cell_type": "code",
   "execution_count": 15,
   "metadata": {},
   "outputs": [
    {
     "data": {
      "text/plain": [
       "['tfidf_sentiment_vocab.pk']"
      ]
     },
     "execution_count": 15,
     "metadata": {},
     "output_type": "execute_result"
    }
   ],
   "source": [
    "import joblib\n",
    "\n",
    "joblib.dump(tfidf,'tfidf_sentiment_vocab.pk',)"
   ]
  },
  {
   "cell_type": "code",
   "execution_count": 19,
   "metadata": {},
   "outputs": [
    {
     "data": {
      "text/plain": [
       "array([[0., 0., 0., ..., 0., 0., 0.],\n",
       "       [0., 0., 0., ..., 0., 0., 0.],\n",
       "       [0., 0., 0., ..., 0., 0., 0.],\n",
       "       ...,\n",
       "       [0., 0., 0., ..., 0., 0., 0.],\n",
       "       [0., 0., 0., ..., 0., 0., 0.],\n",
       "       [0., 0., 0., ..., 0., 0., 0.]])"
      ]
     },
     "execution_count": 19,
     "metadata": {},
     "output_type": "execute_result"
    }
   ],
   "source": [
    "Xtest_vector.toarray()"
   ]
  },
  {
   "cell_type": "markdown",
   "metadata": {},
   "source": [
    "Naive Bayes Machine Leanring Model (Sentiment Analyzer)"
   ]
  },
  {
   "cell_type": "code",
   "execution_count": 20,
   "metadata": {},
   "outputs": [
    {
     "data": {
      "text/html": [
       "<style>#sk-container-id-1 {color: black;background-color: white;}#sk-container-id-1 pre{padding: 0;}#sk-container-id-1 div.sk-toggleable {background-color: white;}#sk-container-id-1 label.sk-toggleable__label {cursor: pointer;display: block;width: 100%;margin-bottom: 0;padding: 0.3em;box-sizing: border-box;text-align: center;}#sk-container-id-1 label.sk-toggleable__label-arrow:before {content: \"▸\";float: left;margin-right: 0.25em;color: #696969;}#sk-container-id-1 label.sk-toggleable__label-arrow:hover:before {color: black;}#sk-container-id-1 div.sk-estimator:hover label.sk-toggleable__label-arrow:before {color: black;}#sk-container-id-1 div.sk-toggleable__content {max-height: 0;max-width: 0;overflow: hidden;text-align: left;background-color: #f0f8ff;}#sk-container-id-1 div.sk-toggleable__content pre {margin: 0.2em;color: black;border-radius: 0.25em;background-color: #f0f8ff;}#sk-container-id-1 input.sk-toggleable__control:checked~div.sk-toggleable__content {max-height: 200px;max-width: 100%;overflow: auto;}#sk-container-id-1 input.sk-toggleable__control:checked~label.sk-toggleable__label-arrow:before {content: \"▾\";}#sk-container-id-1 div.sk-estimator input.sk-toggleable__control:checked~label.sk-toggleable__label {background-color: #d4ebff;}#sk-container-id-1 div.sk-label input.sk-toggleable__control:checked~label.sk-toggleable__label {background-color: #d4ebff;}#sk-container-id-1 input.sk-hidden--visually {border: 0;clip: rect(1px 1px 1px 1px);clip: rect(1px, 1px, 1px, 1px);height: 1px;margin: -1px;overflow: hidden;padding: 0;position: absolute;width: 1px;}#sk-container-id-1 div.sk-estimator {font-family: monospace;background-color: #f0f8ff;border: 1px dotted black;border-radius: 0.25em;box-sizing: border-box;margin-bottom: 0.5em;}#sk-container-id-1 div.sk-estimator:hover {background-color: #d4ebff;}#sk-container-id-1 div.sk-parallel-item::after {content: \"\";width: 100%;border-bottom: 1px solid gray;flex-grow: 1;}#sk-container-id-1 div.sk-label:hover label.sk-toggleable__label {background-color: #d4ebff;}#sk-container-id-1 div.sk-serial::before {content: \"\";position: absolute;border-left: 1px solid gray;box-sizing: border-box;top: 0;bottom: 0;left: 50%;z-index: 0;}#sk-container-id-1 div.sk-serial {display: flex;flex-direction: column;align-items: center;background-color: white;padding-right: 0.2em;padding-left: 0.2em;position: relative;}#sk-container-id-1 div.sk-item {position: relative;z-index: 1;}#sk-container-id-1 div.sk-parallel {display: flex;align-items: stretch;justify-content: center;background-color: white;position: relative;}#sk-container-id-1 div.sk-item::before, #sk-container-id-1 div.sk-parallel-item::before {content: \"\";position: absolute;border-left: 1px solid gray;box-sizing: border-box;top: 0;bottom: 0;left: 50%;z-index: -1;}#sk-container-id-1 div.sk-parallel-item {display: flex;flex-direction: column;z-index: 1;position: relative;background-color: white;}#sk-container-id-1 div.sk-parallel-item:first-child::after {align-self: flex-end;width: 50%;}#sk-container-id-1 div.sk-parallel-item:last-child::after {align-self: flex-start;width: 50%;}#sk-container-id-1 div.sk-parallel-item:only-child::after {width: 0;}#sk-container-id-1 div.sk-dashed-wrapped {border: 1px dashed gray;margin: 0 0.4em 0.5em 0.4em;box-sizing: border-box;padding-bottom: 0.4em;background-color: white;}#sk-container-id-1 div.sk-label label {font-family: monospace;font-weight: bold;display: inline-block;line-height: 1.2em;}#sk-container-id-1 div.sk-label-container {text-align: center;}#sk-container-id-1 div.sk-container {/* jupyter's `normalize.less` sets `[hidden] { display: none; }` but bootstrap.min.css set `[hidden] { display: none !important; }` so we also need the `!important` here to be able to override the default hidden behavior on the sphinx rendered scikit-learn.org. See: https://github.com/scikit-learn/scikit-learn/issues/21755 */display: inline-block !important;position: relative;}#sk-container-id-1 div.sk-text-repr-fallback {display: none;}</style><div id=\"sk-container-id-1\" class=\"sk-top-container\"><div class=\"sk-text-repr-fallback\"><pre>GaussianNB()</pre><b>In a Jupyter environment, please rerun this cell to show the HTML representation or trust the notebook. <br />On GitHub, the HTML representation is unable to render, please try loading this page with nbviewer.org.</b></div><div class=\"sk-container\" hidden><div class=\"sk-item\"><div class=\"sk-estimator sk-toggleable\"><input class=\"sk-toggleable__control sk-hidden--visually\" id=\"sk-estimator-id-1\" type=\"checkbox\" checked><label for=\"sk-estimator-id-1\" class=\"sk-toggleable__label sk-toggleable__label-arrow\">GaussianNB</label><div class=\"sk-toggleable__content\"><pre>GaussianNB()</pre></div></div></div></div></div>"
      ],
      "text/plain": [
       "GaussianNB()"
      ]
     },
     "execution_count": 20,
     "metadata": {},
     "output_type": "execute_result"
    }
   ],
   "source": [
    "from sklearn.naive_bayes import GaussianNB\n",
    "\n",
    "# model initializaing and training \n",
    "nb_model = GaussianNB()\n",
    "nb_model.fit(Xtrain_vector.toarray(), y_train)"
   ]
  },
  {
   "cell_type": "code",
   "execution_count": 21,
   "metadata": {},
   "outputs": [
    {
     "data": {
      "text/plain": [
       "['naive_bayes_sentiment_analyzer_model.jb']"
      ]
     },
     "execution_count": 21,
     "metadata": {},
     "output_type": "execute_result"
    }
   ],
   "source": [
    "# saving model \n",
    "joblib.dump(nb_model, 'naive_bayes_sentiment_analyzer_model.jb')"
   ]
  },
  {
   "cell_type": "code",
   "execution_count": 22,
   "metadata": {},
   "outputs": [
    {
     "name": "stdout",
     "output_type": "stream",
     "text": [
      " Score 0.8962025316455696\n",
      "________________________________________________________\n",
      "              precision    recall  f1-score   support\n",
      "\n",
      "           0       0.94      0.87      0.90       222\n",
      "           1       0.85      0.92      0.89       173\n",
      "\n",
      "    accuracy                           0.90       395\n",
      "   macro avg       0.89      0.90      0.90       395\n",
      "weighted avg       0.90      0.90      0.90       395\n",
      "\n",
      "________________________________________________________\n",
      "Axes(0.125,0.11;0.62x0.77)\n"
     ]
    },
    {
     "data": {
      "image/png": "[encoded data removed]",
      "text/plain": [
       "<Figure size 640x480 with 2 Axes>"
      ]
     },
     "metadata": {},
     "output_type": "display_data"
    }
   ],
   "source": [
    "from sklearn.metrics import classification_report, confusion_matrix\n",
    "import seaborn as sn \n",
    "\n",
    "\n",
    "# \n",
    "labels = ['Negative', 'Positive']\n",
    "\n",
    "# \n",
    "model_score = nb_model.score(Xtest_vector.toarray(), y_test)\n",
    "print(' Score {}'.format(model_score))\n",
    "\n",
    "x_prediction = nb_model.predict(Xtest_vector.toarray())\n",
    "class_score = classification_report(y_test, x_prediction)\n",
    "confusion_score = confusion_matrix(y_test, x_prediction)\n",
    "print('________________________________________________________')\n",
    "print(class_score)\n",
    "\n",
    "print('________________________________________________________')\n",
    "print(sn.heatmap(confusion_score, annot=True , fmt='d', xticklabels=labels, yticklabels=labels))"
   ]
  },
  {
   "cell_type": "markdown",
   "metadata": {},
   "source": [
    "user interaction pipeline"
   ]
  },
  {
   "cell_type": "code",
   "execution_count": 30,
   "metadata": {},
   "outputs": [
    {
     "name": "stdout",
     "output_type": "stream",
     "text": [
      "Enter Text :i hate pizza\n",
      "[0]\n"
     ]
    },
    {
     "data": {
      "text/plain": [
       "('Negative Sentiment', 0)"
      ]
     },
     "execution_count": 30,
     "metadata": {},
     "output_type": "execute_result"
    }
   ],
   "source": [
    "# data = input(\":\")\n",
    "\n",
    "\n",
    "input_text = 'congratulation this is realy good'\n",
    "\n",
    "# return sentiment from text\n",
    "def sentiment_analyzer(text, model):\n",
    "    # clean data\n",
    "    clean_data = clean_dataset(text)\n",
    "\n",
    "    # loading tfid model .... \n",
    "    tfid = joblib.load('tfidf_sentiment_vocab.pk')\n",
    "\n",
    "    # vectorizing\n",
    "    word_vector = tfid.transform([clean_data])\n",
    "\n",
    "    # load_model\n",
    "    sentiment_model = model\n",
    "    # make prediction\n",
    "    predict = sentiment_model.predict(word_vector.toarray())\n",
    "\n",
    "    sent_string = ''\n",
    "\n",
    "    if predict[0] == 0:\n",
    "        sent_string = 'Negative Sentiment'\n",
    "    else: \n",
    "        sent_string = 'Postive Sentiment'\n",
    "\n",
    "\n",
    "    return sent_string, predict[0]  \n",
    "\n",
    "\n",
    "# load model ....\n",
    "model = joblib.load('naive_bayes_sentiment_analyzer_model.jb')\n",
    "sentiment_analyzer(input('Enter Text :'), model)\n",
    "\n"
   ]
  },
  {
   "cell_type": "markdown",
   "metadata": {},
   "source": [
    "## Get Location Code from Post "
   ]
  },
  {
   "cell_type": "code",
   "execution_count": 4,
   "metadata": {},
   "outputs": [
    {
     "ename": "KeyError",
     "evalue": "'data'",
     "output_type": "error",
     "traceback": [
      "\u001b[1;31m------------------------------------------------------------------------\u001b[0m",
      "\u001b[1;31mKeyError\u001b[0m                               Traceback (most recent call last)",
      "Cell \u001b[1;32mIn[4], line 12\u001b[0m\n\u001b[0;32m      8\u001b[0m url \u001b[38;5;241m=\u001b[39m \u001b[38;5;124mf\u001b[39m\u001b[38;5;124m\"\u001b[39m\u001b[38;5;124mhttps://graph.facebook.com/v12.0/\u001b[39m\u001b[38;5;132;01m{\u001b[39;00mpage_id\u001b[38;5;132;01m}\u001b[39;00m\u001b[38;5;124m/feed?access_token=\u001b[39m\u001b[38;5;132;01m{\u001b[39;00maccess_token\u001b[38;5;132;01m}\u001b[39;00m\u001b[38;5;124m&fields=place&limit=10\u001b[39m\u001b[38;5;124m\"\u001b[39m\n\u001b[0;32m      9\u001b[0m response \u001b[38;5;241m=\u001b[39m requests\u001b[38;5;241m.\u001b[39mget(url)\u001b[38;5;241m.\u001b[39mjson()\n\u001b[1;32m---> 12\u001b[0m \u001b[38;5;28;01mfor\u001b[39;00m post \u001b[38;5;129;01min\u001b[39;00m \u001b[43mresponse\u001b[49m\u001b[43m[\u001b[49m\u001b[38;5;124;43m\"\u001b[39;49m\u001b[38;5;124;43mdata\u001b[39;49m\u001b[38;5;124;43m\"\u001b[39;49m\u001b[43m]\u001b[49m:\n\u001b[0;32m     13\u001b[0m     \u001b[38;5;28;01mif\u001b[39;00m \u001b[38;5;124m\"\u001b[39m\u001b[38;5;124mplace\u001b[39m\u001b[38;5;124m\"\u001b[39m \u001b[38;5;129;01min\u001b[39;00m post:\n\u001b[0;32m     14\u001b[0m         \u001b[38;5;28mprint\u001b[39m(post)\n",
      "\u001b[1;31mKeyError\u001b[0m: 'data'"
     ]
    }
   ],
   "source": [
    "import requests\n",
    "\n",
    "\n",
    "access_token = \"EAAKL6mCly54BACUDI5jZAHtMjI7W5NZAwiuAr025frnWTpKghT6tGZCnP27FBbXzsIXLuKuGtthXk6tvQTODUlnzZBncDzBP2WodxZC0d8ZCj1jlfTTTsNY7HDkxcegqDpYqCmmYN1tevI93MIzbtytZCITP7NhCtNSkcQlWvygA7dTtb6XyVSsoupmLLgh4CSNTI3l85Dyd3YitolN8X2E\"\n",
    "page_id = \"538432088447147\"\n",
    "\n",
    "\n",
    "url = f\"https://graph.facebook.com/v12.0/{page_id}/feed?access_token={access_token}&fields=place&limit=10\"\n",
    "response = requests.get(url).json()\n",
    "\n",
    "\n",
    "for post in response[\"data\"]:\n",
    "    if \"place\" in post:\n",
    "        print(post)"
   ]
  },
  {
   "cell_type": "code",
   "execution_count": 6,
   "metadata": {
    "scrolled": true
   },
   "outputs": [
    {
     "data": {
      "text/plain": [
       "{'error': {'message': 'Error validating access token: The session is invalid because the user logged out.',\n",
       "  'type': 'OAuthException',\n",
       "  'code': 190,\n",
       "  'error_subcode': 467,\n",
       "  'fbtrace_id': 'AWTRPDbmIqqvZKLxCLJb6IN'}}"
      ]
     },
     "execution_count": 6,
     "metadata": {},
     "output_type": "execute_result"
    }
   ],
   "source": [
    "response"
   ]
  },
  {
   "cell_type": "code",
   "execution_count": 11,
   "metadata": {
    "scrolled": true
   },
   "outputs": [
    {
     "name": "stdout",
     "output_type": "stream",
     "text": [
      "Location:ibadan \n"
     ]
    },
    {
     "data": {
      "text/plain": [
       "[{'place_id': 55530749,\n",
       "  'licence': 'Data © OpenStreetMap contributors, ODbL 1.0. https://osm.org/copyright',\n",
       "  'osm_type': 'node',\n",
       "  'osm_id': 4982490977,\n",
       "  'boundingbox': ['7.2177462', '7.5377462', '3.7372497', '4.0572497'],\n",
       "  'lat': '7.3777462',\n",
       "  'lon': '3.8972497',\n",
       "  'display_name': 'Ìbàdàn, Ibadan South West, Oyo, 234102, Nigeria',\n",
       "  'class': 'place',\n",
       "  'type': 'city',\n",
       "  'importance': 0.5927075813042384,\n",
       "  'icon': 'https://nominatim.openstreetmap.org/ui/mapicons/poi_place_city.p.20.png'},\n",
       " {'place_id': 3578445,\n",
       "  'licence': 'Data © OpenStreetMap contributors, ODbL 1.0. https://osm.org/copyright',\n",
       "  'osm_type': 'node',\n",
       "  'osm_id': 501420663,\n",
       "  'boundingbox': ['10.3656', '10.4056', '12.0669', '12.1069'],\n",
       "  'lat': '10.3856',\n",
       "  'lon': '12.0869',\n",
       "  'display_name': 'Libadan, Gwangang Chata, Hawul, Borno, Nigeria',\n",
       "  'class': 'place',\n",
       "  'type': 'village',\n",
       "  'importance': 0.37500999999999995,\n",
       "  'icon': 'https://nominatim.openstreetmap.org/ui/mapicons/poi_place_village.p.20.png'},\n",
       " {'place_id': 3556750,\n",
       "  'licence': 'Data © OpenStreetMap contributors, ODbL 1.0. https://osm.org/copyright',\n",
       "  'osm_type': 'node',\n",
       "  'osm_id': 501485316,\n",
       "  'boundingbox': ['6.6599015', '6.6999015', '3.1877255', '3.2277255'],\n",
       "  'lat': '6.6799015',\n",
       "  'lon': '3.2077255',\n",
       "  'display_name': 'Ibadan, Ado Odo/Ota, Ogun, Nigeria',\n",
       "  'class': 'place',\n",
       "  'type': 'village',\n",
       "  'importance': 0.37500999999999995,\n",
       "  'icon': 'https://nominatim.openstreetmap.org/ui/mapicons/poi_place_village.p.20.png'},\n",
       " {'place_id': 3635810,\n",
       "  'licence': 'Data © OpenStreetMap contributors, ODbL 1.0. https://osm.org/copyright',\n",
       "  'osm_type': 'node',\n",
       "  'osm_id': 501510226,\n",
       "  'boundingbox': ['10.824983', '10.864983', '4.001152', '4.041152'],\n",
       "  'lat': '10.844983',\n",
       "  'lon': '4.021152',\n",
       "  'display_name': 'Ibadan, Borgu, Niger, Nigeria',\n",
       "  'class': 'place',\n",
       "  'type': 'village',\n",
       "  'importance': 0.37500999999999995,\n",
       "  'icon': 'https://nominatim.openstreetmap.org/ui/mapicons/poi_place_village.p.20.png'},\n",
       " {'place_id': 3621683,\n",
       "  'licence': 'Data © OpenStreetMap contributors, ODbL 1.0. https://osm.org/copyright',\n",
       "  'osm_type': 'node',\n",
       "  'osm_id': 501474456,\n",
       "  'boundingbox': ['7.263333', '7.303333', '3.48', '3.52'],\n",
       "  'lat': '7.283333',\n",
       "  'lon': '3.5',\n",
       "  'display_name': 'Ibadan, Odeda, Ogun, Nigeria',\n",
       "  'class': 'place',\n",
       "  'type': 'village',\n",
       "  'importance': 0.37500999999999995,\n",
       "  'icon': 'https://nominatim.openstreetmap.org/ui/mapicons/poi_place_village.p.20.png'},\n",
       " {'place_id': 3632305,\n",
       "  'licence': 'Data © OpenStreetMap contributors, ODbL 1.0. https://osm.org/copyright',\n",
       "  'osm_type': 'node',\n",
       "  'osm_id': 501491971,\n",
       "  'boundingbox': ['7.23', '7.27', '4.363333', '4.403333'],\n",
       "  'lat': '7.25',\n",
       "  'lon': '4.383333',\n",
       "  'display_name': 'Ibadan, Aiyedade, Osun, Nigeria',\n",
       "  'class': 'place',\n",
       "  'type': 'village',\n",
       "  'importance': 0.37500999999999995,\n",
       "  'icon': 'https://nominatim.openstreetmap.org/ui/mapicons/poi_place_village.p.20.png'},\n",
       " {'place_id': 3638064,\n",
       "  'licence': 'Data © OpenStreetMap contributors, ODbL 1.0. https://osm.org/copyright',\n",
       "  'osm_type': 'node',\n",
       "  'osm_id': 501412043,\n",
       "  'boundingbox': ['6.513333', '6.553333', '2.746667', '2.786667'],\n",
       "  'lat': '6.533333',\n",
       "  'lon': '2.766667',\n",
       "  'display_name': 'Ibadan, Ipokia, Ogun, Nigeria',\n",
       "  'class': 'place',\n",
       "  'type': 'village',\n",
       "  'importance': 0.37500999999999995,\n",
       "  'icon': 'https://nominatim.openstreetmap.org/ui/mapicons/poi_place_village.p.20.png'},\n",
       " {'place_id': 74162575,\n",
       "  'licence': 'Data © OpenStreetMap contributors, ODbL 1.0. https://osm.org/copyright',\n",
       "  'osm_type': 'node',\n",
       "  'osm_id': 7108115538,\n",
       "  'boundingbox': ['4.7463405', '4.7663405', '7.0210067', '7.0410067'],\n",
       "  'lat': '4.7563405',\n",
       "  'lon': '7.0310067',\n",
       "  'display_name': 'Ibadan, Borokiri, Port-Harcourt, Rivers, Nigeria',\n",
       "  'class': 'place',\n",
       "  'type': 'neighbourhood',\n",
       "  'importance': 0.35000999999999993},\n",
       " {'place_id': 43164338,\n",
       "  'licence': 'Data © OpenStreetMap contributors, ODbL 1.0. https://osm.org/copyright',\n",
       "  'osm_type': 'node',\n",
       "  'osm_id': 3627500748,\n",
       "  'boundingbox': ['10.3264913', '10.3664913', '11.9136668', '11.9536668'],\n",
       "  'lat': '10.3464913',\n",
       "  'lon': '11.9336668',\n",
       "  'display_name': 'Ibadan, Anguwan Audu, Peta, Kwaya Kusar, Borno, Nigeria',\n",
       "  'class': 'place',\n",
       "  'type': 'hamlet',\n",
       "  'importance': 0.35000999999999993,\n",
       "  'icon': 'https://nominatim.openstreetmap.org/ui/mapicons/poi_place_village.p.20.png'},\n",
       " {'place_id': 91919865,\n",
       "  'licence': 'Data © OpenStreetMap contributors, ODbL 1.0. https://osm.org/copyright',\n",
       "  'osm_type': 'node',\n",
       "  'osm_id': 8957773586,\n",
       "  'boundingbox': ['7.378088', '7.378188', '3.87967', '3.87977'],\n",
       "  'lat': '7.378138',\n",
       "  'lon': '3.87972',\n",
       "  'display_name': 'Oke Ado Hospital, SW7/217, Ibukun Olu Street, Oke Ado, Ibadan, Lagos Bypass, Ìbàdàn, Ibadan South West, Oyo, 200252, Nigeria',\n",
       "  'class': 'amenity',\n",
       "  'type': 'hospital',\n",
       "  'importance': 0.10000999999999996,\n",
       "  'icon': 'https://nominatim.openstreetmap.org/ui/mapicons/health_hospital.p.20.png'}]"
      ]
     },
     "execution_count": 11,
     "metadata": {},
     "output_type": "execute_result"
    }
   ],
   "source": [
    "import streamlit as st\n",
    "import requests\n",
    "\n",
    "# Use a Streamlit text input widget to get the location\n",
    "location = st.text_input(\"Enter a location\")\n",
    "location = input('Location:')\n",
    "\n"
   ]
  },
  {
   "cell_type": "code",
   "execution_count": 36,
   "metadata": {},
   "outputs": [
    {
     "name": "stdout",
     "output_type": "stream",
     "text": [
      "Enter a location:new york\n",
      "possible location for  new york ==> 10\n",
      "{'place': [306106444, 307697759, 19185372, 309675011, 27329524, 309343111, 159415, 169753, 309705812, 309559291], 'name': ['City of New York, New York, United States', 'New York, United States', 'New York, North Tyneside, North of Tyne, England, NE29 8EP, United Kingdom', 'New York, Caldwell County, Missouri, United States', 'New York, Bo, Bo District, Southern Province, Sierra Leone', 'Niagara Falls, New York, 825, Bath Avenue, City of Niagara Falls, Niagara County, New York, 14305, United States', 'New York, Henderson County, 75770, United States', 'New York, Santa Rosa County, Florida, United States', 'New York, Wayne County, Iowa, 50165, United States', 'New York, Seama, Cibola County, New Mexico, 87007, United States'], 'lat': ['40.7127281', '43.1561681', '55.0252998', '39.6852874', '7.9631123', '43.10987915', '32.1679321', '30.8385202', '40.8516701', '35.0586534'], 'lon': [], 'importance': [1.017576611451846, 0.9655846409089575, 0.494548847777872, 0.47501, 0.47501, 0.4600583840406885, 0.45000999999999997, 0.45000999999999997, 0.45000999999999997, 0.45000999999999997]}\n"
     ]
    }
   ],
   "source": [
    "import pandas as pd \n",
    "\n",
    "def get_google_location(location): \n",
    "    \n",
    "    location_corpus = {\n",
    "        'place':[], \n",
    "        'name':[], \n",
    "        'lat':[], \n",
    "        'lon':[], \n",
    "        'importance':[]\n",
    "    }\n",
    "    # Use OpenStreetMap Nominatim API to get the latitude and longitude coordinates\n",
    "    url = f\"https://nominatim.openstreetmap.org/search?q={location}&format=json\"\n",
    "    location_data = requests.get(url).json()\n",
    "#     print(location_data[0].keys())\n",
    "    if location_data != []: \n",
    "        \n",
    "        print('possible location for  {} ==> {}'.format(location, len(location_data)))\n",
    "        for location in location_data: \n",
    "            location_corpus['place'].append(location['place_id'])\n",
    "            location_corpus['name'].append(location['display_name'])\n",
    "            location_corpus['lat'].append(location['lat'])\n",
    "            location_corpus['importance'].append(location['importance'])\n",
    "    else: \n",
    "        print('location not detected... ')\n",
    "    \n",
    "    return location_corpus\n",
    "\n",
    "    \n",
    "data =get_google_location(input('Enter a location:'))\n",
    "print(data)\n"
   ]
  },
  {
   "cell_type": "code",
   "execution_count": null,
   "metadata": {},
   "outputs": [],
   "source": [
    "# import re\n",
    "\n",
    "# pattern = r\"\\+971 [2355679]\\d{1} \\d{7}\"\n",
    "# text = \"+971 2 1234567 and +971 50 9876543 are valid UAE phone numbers, but not +971 1 5555555 or +971 55 1234567.\"\n",
    "\n",
    "# matches = re.findall(pattern, text)\n",
    "# print(matches)\n",
    "\n",
    "# import re\n",
    "\n",
    "# pattern = r\"\\+971 [2345679] \\d{7}\"\n",
    "# phone_numbers = [\"+971 2 1234567\", \"+971 50 9876543\", \"+971 8 5555555\"]\n",
    "# for number in phone_numbers:\n",
    "#     if re.match(pattern, number):\n",
    "#         print(number, \"is a valid UAE phone number.\")\n",
    "#     else:\n",
    "#         print(number, \"is not a valid UAE phone number.\")\n",
    "\n",
    "\n",
    "# from spacy import displacy\n",
    "# import json\n",
    "\n",
    "# text = 'the name of the boy is ahmed, adam and james and live in No.5 adex street he contact is +971 8 5555555 +971 5 9876543   +971 2 1234567'\n",
    "\n",
    "\n",
    "# # doc = sentence11\n",
    "# text = 'the name of the boy is ahmed, adam and james and live in No.5 adex street he contact is +971 55 1234567 651 N Broad St, New Castle, Delaware, United States of America'\n",
    "\n",
    "# doc2 = nlp_model(text)\n",
    "# displacy.render(doc2, style=\"ent\", jupyter=True)\n",
    "# doc = nlp_model(sentence11)\n",
    "# displacy.render(doc, style=\"ent\", jupyter=True)"
   ]
  }
 ],
 "metadata": {
  "kernelspec": {
   "display_name": "Python 3 (ipykernel)",
   "language": "python",
   "name": "python3"
  },
  "language_info": {
   "codemirror_mode": {
    "name": "ipython",
    "version": 3
   },
   "file_extension": ".py",
   "mimetype": "text/x-python",
   "name": "python",
   "nbconvert_exporter": "python",
   "pygments_lexer": "ipython3",
   "version": "3.9.5"
  }
 },
 "nbformat": 4,
 "nbformat_minor": 2
}
