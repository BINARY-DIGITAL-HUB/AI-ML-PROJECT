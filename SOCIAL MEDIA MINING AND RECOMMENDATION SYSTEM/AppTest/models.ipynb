{
 "cells": [
  {
   "cell_type": "markdown",
   "metadata": {},
   "source": [
    "Entity Recognision (PERSON, LOCATION OR ADDRESS, CONTACT, ORGANIZATION)"
   ]
  },
  {
   "cell_type": "code",
   "execution_count": 1,
   "metadata": {
    "tags": []
   },
   "outputs": [
    {
     "name": "stderr",
     "output_type": "stream",
     "text": [
      "[nltk_data] Downloading package punkt to\n",
      "[nltk_data]     C:\\Users\\HP\\AppData\\Roaming\\nltk_data...\n",
      "[nltk_data]   Package punkt is already up-to-date!\n",
      "[nltk_data] Downloading package maxent_ne_chunker to\n",
      "[nltk_data]     C:\\Users\\HP\\AppData\\Roaming\\nltk_data...\n",
      "[nltk_data]   Package maxent_ne_chunker is already up-to-date!\n",
      "[nltk_data] Downloading package words to\n",
      "[nltk_data]     C:\\Users\\HP\\AppData\\Roaming\\nltk_data...\n",
      "[nltk_data]   Package words is already up-to-date!\n"
     ]
    },
    {
     "data": {
      "text/plain": [
       "True"
      ]
     },
     "execution_count": 1,
     "metadata": {},
     "output_type": "execute_result"
    }
   ],
   "source": [
    "import nltk\n",
    "nltk.download('punkt')\n",
    "nltk.download('maxent_ne_chunker')\n",
    "nltk.download('words')"
   ]
  },
  {
   "cell_type": "markdown",
   "metadata": {},
   "source": [
    "ADDRESS AND PESON DETECTOR.. (ENTITY DETECOT)"
   ]
  },
  {
   "cell_type": "code",
   "execution_count": 6,
   "metadata": {},
   "outputs": [
    {
     "data": {
      "text/plain": [
       "{'PERSON': ['james', 'james'],\n",
       " 'GPE': ['New Castle',\n",
       "  'Delaware',\n",
       "  'United States of America',\n",
       "  'New Castle',\n",
       "  'Delaware',\n",
       "  'United States of America']}"
      ]
     },
     "execution_count": 6,
     "metadata": {},
     "output_type": "execute_result"
    }
   ],
   "source": [
    "from nltk.corpus import stopwords\n",
    "from nltk.tokenize import word_tokenize, sent_tokenize\n",
    "\n",
    "post = 'the name of the boy is ahmed, adam and james and live in No.5 adex street he contact is +971 55 1234567 651 N Broad St, New Castle, Delaware, United States of America'\n",
    "post2 = 'the name of the boy is ahmed, adam and james and live in No.5 adex street he contact is +971 55 1234567 651 N Broad St, New Castle, Delaware, United States of America'\n",
    "\n",
    "import spacy\n",
    "\n",
    "# this function is capable of detecting address, person name, organization and some contact\n",
    "def get_entities(posts):\n",
    "\n",
    "    post_entity_diction = {}\n",
    "    for post in posts:\n",
    "        # loading of spacy model\n",
    "        nlp_model = spacy.load('en_core_web_sm')\n",
    "\n",
    "        # padding comment to model\n",
    "        doc = nlp_model(post)\n",
    "\n",
    "        # going throught the entity\n",
    "        for ent in doc.ents: \n",
    "    \n",
    "\n",
    "            if ent.label_ == 'DATE' or ent.label_ == 'CARDINAL': \n",
    "                pass\n",
    "            else: \n",
    "                if post_entity_diction.get(ent.label_) != None: \n",
    "                    post_entity_diction[ent.label_].append(ent.text)\n",
    "                else: \n",
    "                    post_entity_diction[ent.label_] = []\n",
    "                    post_entity_diction[ent.label_].append(ent.text)\n",
    "    return post_entity_diction\n",
    "\n",
    "post_entity = get_entities([post, post2])\n",
    "post_entity"
   ]
  },
  {
   "cell_type": "code",
   "execution_count": 7,
   "metadata": {},
   "outputs": [
    {
     "data": {
      "image/png": "[encoded data removed]",
      "text/plain": [
       "<Figure size 640x480 with 1 Axes>"
      ]
     },
     "metadata": {},
     "output_type": "display_data"
    }
   ],
   "source": [
    "import seaborn as sn\n",
    "import pandas as pd \n",
    "import matplotlib.pyplot as plt\n",
    "from matplotlib  import style\n",
    "\n",
    "# print(style.available)\n",
    "\n",
    "post_entity_visual = {}\n",
    "for key, val in post_entity.items():\n",
    "    post_entity_visual[key] = len(val)\n",
    "\n",
    "def show_bar_chat(diction, title):\n",
    "    plt.title(title)\n",
    "    # plt.figure(figsize=(4,4))\n",
    "    plt.style.use('seaborn-v0_8-dark')\n",
    "    fig , ax = plt.bar(diction.keys(), diction.values(), )\n",
    "    plt.show()\n",
    "\n",
    "show_bar_chat(post_entity_visual, 'Entity Data')"
   ]
  },
  {
   "cell_type": "code",
   "execution_count": null,
   "metadata": {},
   "outputs": [],
   "source": []
  },
  {
   "cell_type": "markdown",
   "metadata": {},
   "source": [
    "UAI CONTACT MATCH AND EMAIL RECOGNIZER... "
   ]
  },
  {
   "cell_type": "code",
   "execution_count": 11,
   "metadata": {},
   "outputs": [
    {
     "data": {
      "text/plain": [
       "{'contact': ['+971509876543', '+971 55 1234567'],\n",
       " 'emails': ['hamad1076663@gmail.com']}"
      ]
     },
     "execution_count": 11,
     "metadata": {},
     "output_type": "execute_result"
    }
   ],
   "source": [
    "# BASE LINE PHONE MATCHER\n",
    "import re\n",
    "'+971 2 1234567 and +971 50 9876543 are valid  +971 8 5555555 UAE phone numbers, but not +971 1 5555555 or +971 55 1234567 and my email is hamad1076663@gmail.com.'\n",
    "post = 'the name of the boy is ahmed, adam and james and email contack  +971 8 5555555 +971 5 9876543   +971 2 1234567'\n",
    "\n",
    "def contact_email_detector(post):\n",
    "    contact_diction = {}\n",
    "    email_pattern = re.compile(r'\\b[A-Za-z0-9._%+-]+@[A-Za-z0-9.-]+\\.[A-Z|a-z]{2,}\\b')\n",
    "    uai_phone_pattern = r\"\\+971 [2355679]\\d{1} \\d{7}|\\+971[2355679]\\d{1}\\d{7}\"\n",
    "    text = \"+971 2 1234567 and +971509876543 are valid  +971 8 5555555 UAE phone numbers, but not +971 1 5555555 or +971 55 1234567 and my email is hamad1076663@gmail.com.\"\n",
    "\n",
    "\n",
    "    matches = re.findall(uai_phone_pattern, text)\n",
    "    contact_diction['contact'] = matches\n",
    "    emails =  re.findall(email_pattern, text)\n",
    "    contact_diction['emails'] = emails\n",
    "\n",
    "    return contact_diction\n",
    "\n",
    "contact_data = contact_email_detector(post)\n",
    "contact_data"
   ]
  },
  {
   "cell_type": "code",
   "execution_count": 26,
   "metadata": {},
   "outputs": [
    {
     "name": "stdout",
     "output_type": "stream",
     "text": [
      "{'post_id': ['Post 1', 'Post 2'], 'contacts': [['+971 50 9876543', '+971 55 1234567'], []], 'emails': [['hamad1076663@gmail.com'], []]}\n"
     ]
    }
   ],
   "source": [
    "import re\n",
    "# getting contact and email pattern from post...\n",
    "def contact_email_detector(posts):\n",
    "    contact_diction = {'post_id':[], 'contacts':[] , 'emails':[]}\n",
    "    counter = 0\n",
    "    for post in posts: \n",
    "        counter += 1\n",
    "        email_pattern = re.compile(r'\\b[A-Za-z0-9._%+-]+@[A-Za-z0-9.-]+\\.[A-Z|a-z]{2,}\\b')\n",
    "        uai_phone_pattern = r\"\\+971 [2355679]\\d{1} \\d{7}\"\n",
    "\n",
    "\n",
    "        matches = re.findall(uai_phone_pattern, post)\n",
    "        contact_diction['contacts'].append(matches)\n",
    "        emails =  re.findall(email_pattern, post)\n",
    "        contact_diction['emails'].append(emails)\n",
    "\n",
    "        contact_diction['post_id'].append('Post {}'.format(counter))\n",
    "        \n",
    "\n",
    "    return contact_diction\n",
    "\n",
    "\n",
    "post1 = '+971 2 1234567 and +971 50 9876543 are valid  +971 8 5555555 UAE phone numbers, but not +971 1 5555555 or +971 55 1234567 and my email is hamad1076663@gmail.com.'\n",
    "post2 = 'the name of the boy is ahmed, adam and james and email contack  +971 8 5555555 +971 5 9876543   +971 2 1234567'\n",
    "contact_data = contact_email_detector([post1, post2])\n",
    "print(contact_data)\n",
    "\n"
   ]
  },
  {
   "cell_type": "markdown",
   "metadata": {},
   "source": [
    "CALCULATING PROFILE DATA VULNERABILITY EXPOSURE"
   ]
  },
  {
   "cell_type": "code",
   "execution_count": 9,
   "metadata": {},
   "outputs": [
    {
     "name": "stdout",
     "output_type": "stream",
     "text": [
      "100091362595291 hamad alsuwaidi add work\n",
      "dubai electricity and water authority - dewa\n",
      "shift manager\n",
      "dubai, united arab emirates\n",
      "more options abu dhabi, united arab emirates hamad1076663@gmail.com +971 50 561 1160 male april 11, 1998 add a nickname, a birth name... add a relationship status add family member write about yourself 2023\n",
      "grew up in abu dhabi, united arab emirates\n"
     ]
    },
    {
     "data": {
      "text/plain": [
       "0.11764705882352941"
      ]
     },
     "execution_count": 9,
     "metadata": {},
     "output_type": "execute_result"
    }
   ],
   "source": [
    "from nltk.tokenize import word_tokenize\n",
    "from nltk.tokenize import word_tokenize\n",
    "from nltk.stem import PorterStemmer\n",
    "from nltk.corpus import stopwords\n",
    "import json\n",
    "import string\n",
    "\n",
    "pt_stem = PorterStemmer()\n",
    "st = stopwords.words('english')\n",
    "\n",
    "# cleaning text ===> removal of punctuation, stemming and stopword removal \n",
    "def clean_dataset(dataset):\n",
    "\n",
    "    token_word = [word.lower() for word in word_tokenize(dataset)]\n",
    "    clean_word = [token for token in token_word if not token in st]\n",
    "    clean_word = ' '.join([cl_word for cl_word in clean_word if not cl_word in string.punctuation])\n",
    "\n",
    "    return clean_word\n",
    "\n",
    "comment = 'the name of the boy is ahmed, hamad1076663@gmail.com adam and james and email contack  +971 8 5555555 +971 5 9876543   +971 2 1234567'\n",
    "\n",
    "\n",
    "def get_facebook_profile():\n",
    "    with open('profile.json', 'r') as file: \n",
    "        data = json.load(file)\n",
    "    return data\n",
    "\n",
    "\n",
    "profile_dict = get_facebook_profile()\n",
    "profile_dict\n",
    "\n",
    "\n",
    "\n",
    "# profile vulnerability calculation\n",
    "def personal_data_vulnerability_score(profile, comment):\n",
    "    prof_data = []\n",
    "    for k,v in profile.items():\n",
    "        if(type(v) == str):\n",
    "            prof_data.append(v.lower())\n",
    "\n",
    "    count_data = ' '.join(prof_data)\n",
    "    print(count_data)\n",
    "\n",
    "    # clean comement.. and post\n",
    "    comment = clean_dataset(comment).split()\n",
    "\n",
    "    # clean user profile\n",
    "    prof_data = clean_dataset(count_data).split()\n",
    "\n",
    "    prob_count = 0\n",
    "    for com in comment: \n",
    "        # print(com)\n",
    "        if com.lower() in prof_data: \n",
    "            prob_count += 1\n",
    "\n",
    "    if len(profile) == 0: \n",
    "        return 0 \n",
    "    else: \n",
    "        return prob_count/len(prof_data)\n",
    "\n",
    "\n",
    "personal_data_vulnerability_score(profile_dict, comment)"
   ]
  },
  {
   "cell_type": "markdown",
   "metadata": {},
   "source": [
    "sentiment analysis"
   ]
  },
  {
   "cell_type": "markdown",
   "metadata": {},
   "source": [
    "## sentiment Analysis model"
   ]
  },
  {
   "cell_type": "markdown",
   "metadata": {},
   "source": [
    "dataset download link\n",
    "https://www.kaggle.com/datasets/yrastogi13/dataset-for-sentiment-analysis"
   ]
  },
  {
   "cell_type": "code",
   "execution_count": 2,
   "metadata": {
    "tags": []
   },
   "outputs": [
    {
     "data": {
      "text/html": [
       "<div>\n",
       "<style scoped>\n",
       "    .dataframe tbody tr th:only-of-type {\n",
       "        vertical-align: middle;\n",
       "    }\n",
       "\n",
       "    .dataframe tbody tr th {\n",
       "        vertical-align: top;\n",
       "    }\n",
       "\n",
       "    .dataframe thead th {\n",
       "        text-align: right;\n",
       "    }\n",
       "</style>\n",
       "<table border=\"1\" class=\"dataframe\">\n",
       "  <thead>\n",
       "    <tr style=\"text-align: right;\">\n",
       "      <th></th>\n",
       "      <th>Review</th>\n",
       "      <th>Liked</th>\n",
       "    </tr>\n",
       "  </thead>\n",
       "  <tbody>\n",
       "    <tr>\n",
       "      <th>0</th>\n",
       "      <td>Wow... Loved this place.</td>\n",
       "      <td>1</td>\n",
       "    </tr>\n",
       "    <tr>\n",
       "      <th>1</th>\n",
       "      <td>Crust is not good.</td>\n",
       "      <td>0</td>\n",
       "    </tr>\n",
       "    <tr>\n",
       "      <th>2</th>\n",
       "      <td>Not tasty and the texture was just nasty.</td>\n",
       "      <td>0</td>\n",
       "    </tr>\n",
       "    <tr>\n",
       "      <th>3</th>\n",
       "      <td>Stopped by during the late May bank holiday of...</td>\n",
       "      <td>1</td>\n",
       "    </tr>\n",
       "    <tr>\n",
       "      <th>4</th>\n",
       "      <td>The selection on the menu was great and so wer...</td>\n",
       "      <td>1</td>\n",
       "    </tr>\n",
       "  </tbody>\n",
       "</table>\n",
       "</div>"
      ],
      "text/plain": [
       "                                              Review  Liked\n",
       "0                           Wow... Loved this place.      1\n",
       "1                                 Crust is not good.      0\n",
       "2          Not tasty and the texture was just nasty.      0\n",
       "3  Stopped by during the late May bank holiday of...      1\n",
       "4  The selection on the menu was great and so wer...      1"
      ]
     },
     "execution_count": 2,
     "metadata": {},
     "output_type": "execute_result"
    }
   ],
   "source": [
    "import pandas as pd \n",
    "\n",
    "# loading data\n",
    "dt1 = pd.read_csv('sentiment_dataset/sent_data.csv')\n",
    "dt2 = pd.read_csv('sentiment_dataset/sent_data_two.csv')\n",
    "\n",
    "# merging dataset into single table\n",
    "dataset = pd.concat([dt1, dt2], ignore_index=True)\n",
    "dataset.head()"
   ]
  },
  {
   "cell_type": "code",
   "execution_count": 3,
   "metadata": {},
   "outputs": [
    {
     "data": {
      "text/plain": [
       "Index(['Review', 'Liked'], dtype='object')"
      ]
     },
     "execution_count": 3,
     "metadata": {},
     "output_type": "execute_result"
    }
   ],
   "source": [
    "# showing columns\n",
    "dataset.columns"
   ]
  },
  {
   "cell_type": "code",
   "execution_count": 4,
   "metadata": {},
   "outputs": [
    {
     "name": "stdout",
     "output_type": "stream",
     "text": [
      "rows : 2630 |  Columns : 2\n"
     ]
    }
   ],
   "source": [
    "# showing number of rows and columns... \n",
    "r, c = dataset.shape\n",
    "print(\"rows : {} |  Columns : {}\".format(r, c))"
   ]
  },
  {
   "cell_type": "code",
   "execution_count": 5,
   "metadata": {},
   "outputs": [
    {
     "data": {
      "text/plain": [
       "1858    The pancake was also really good and pretty la...\n",
       "2443    The service was great, even the manager came a...\n",
       "551                                        Nice ambiance.\n",
       "1158    i think hanuman had a gay crush on ram what do...\n",
       "Name: Review, dtype: object"
      ]
     },
     "execution_count": 5,
     "metadata": {},
     "output_type": "execute_result"
    }
   ],
   "source": [
    "# show some smaple content......\n",
    "dataset.Review.sample(4)"
   ]
  },
  {
   "cell_type": "code",
   "execution_count": 6,
   "metadata": {},
   "outputs": [
    {
     "data": {
      "text/plain": [
       "1298    hindutva is not only a religion it is a cultur...\n",
       "350     We sat another ten minutes and finally gave up...\n",
       "1529    So don't go there if you are looking for good ...\n",
       "742     I'm not sure how long we stood there but it wa...\n",
       "Name: Review, dtype: object"
      ]
     },
     "execution_count": 6,
     "metadata": {},
     "output_type": "execute_result"
    }
   ],
   "source": [
    "# show some smaple content......\n",
    "dataset.Review.sample(4)"
   ]
  },
  {
   "cell_type": "code",
   "execution_count": 10,
   "metadata": {},
   "outputs": [
    {
     "data": {
      "text/html": [
       "<div>\n",
       "<style scoped>\n",
       "    .dataframe tbody tr th:only-of-type {\n",
       "        vertical-align: middle;\n",
       "    }\n",
       "\n",
       "    .dataframe tbody tr th {\n",
       "        vertical-align: top;\n",
       "    }\n",
       "\n",
       "    .dataframe thead th {\n",
       "        text-align: right;\n",
       "    }\n",
       "</style>\n",
       "<table border=\"1\" class=\"dataframe\">\n",
       "  <thead>\n",
       "    <tr style=\"text-align: right;\">\n",
       "      <th></th>\n",
       "      <th>Review</th>\n",
       "      <th>Liked</th>\n",
       "      <th>clean_data</th>\n",
       "    </tr>\n",
       "  </thead>\n",
       "  <tbody>\n",
       "    <tr>\n",
       "      <th>0</th>\n",
       "      <td>Wow... Loved this place.</td>\n",
       "      <td>1</td>\n",
       "      <td>wow ... loved place</td>\n",
       "    </tr>\n",
       "    <tr>\n",
       "      <th>1</th>\n",
       "      <td>Crust is not good.</td>\n",
       "      <td>0</td>\n",
       "      <td>crust good</td>\n",
       "    </tr>\n",
       "    <tr>\n",
       "      <th>2</th>\n",
       "      <td>Not tasty and the texture was just nasty.</td>\n",
       "      <td>0</td>\n",
       "      <td>tasty texture nasty</td>\n",
       "    </tr>\n",
       "    <tr>\n",
       "      <th>3</th>\n",
       "      <td>Stopped by during the late May bank holiday of...</td>\n",
       "      <td>1</td>\n",
       "      <td>stopped late may bank holiday rick steve recom...</td>\n",
       "    </tr>\n",
       "    <tr>\n",
       "      <th>4</th>\n",
       "      <td>The selection on the menu was great and so wer...</td>\n",
       "      <td>1</td>\n",
       "      <td>selection menu great prices</td>\n",
       "    </tr>\n",
       "  </tbody>\n",
       "</table>\n",
       "</div>"
      ],
      "text/plain": [
       "                                              Review  Liked  \\\n",
       "0                           Wow... Loved this place.      1   \n",
       "1                                 Crust is not good.      0   \n",
       "2          Not tasty and the texture was just nasty.      0   \n",
       "3  Stopped by during the late May bank holiday of...      1   \n",
       "4  The selection on the menu was great and so wer...      1   \n",
       "\n",
       "                                          clean_data  \n",
       "0                                wow ... loved place  \n",
       "1                                         crust good  \n",
       "2                                tasty texture nasty  \n",
       "3  stopped late may bank holiday rick steve recom...  \n",
       "4                        selection menu great prices  "
      ]
     },
     "execution_count": 10,
     "metadata": {},
     "output_type": "execute_result"
    }
   ],
   "source": [
    "from nltk.tokenize import word_tokenize\n",
    "from nltk.stem import PorterStemmer\n",
    "from nltk.corpus import stopwords\n",
    "import string\n",
    "\n",
    "pt_stem = PorterStemmer()\n",
    "st = stopwords.words('english')\n",
    "\n",
    "# cleaning text ===> removal of punctuation, stemming and stopword removal \n",
    "def clean_dataset(dataset):\n",
    "\n",
    "    token_word = [word.lower() for word in word_tokenize(dataset)]\n",
    "    clean_word = [token for token in token_word if not token in st]\n",
    "    clean_word = ' '.join([cl_word for cl_word in clean_word if not cl_word in string.punctuation])\n",
    "\n",
    "    return clean_word\n",
    "\n",
    "\n",
    "# create clean data columns\n",
    "dataset['clean_data'] = dataset['Review'].apply(lambda data : clean_dataset(data))\n",
    "dataset.head()"
   ]
  },
  {
   "cell_type": "code",
   "execution_count": 7,
   "metadata": {
    "tags": []
   },
   "outputs": [
    {
     "data": {
      "image/png": "[encoded data removed]",
      "text/plain": [
       "<Figure size 640x480 with 1 Axes>"
      ]
     },
     "metadata": {},
     "output_type": "display_data"
    }
   ],
   "source": [
    "import matplotlib.pyplot as plt\n",
    "dataset.Liked.value_counts().plot(kind='bar', color=['red', 'green'])\n",
    "plt.xlabel('sentiment class')\n",
    "plt.ylabel('Datapoint Count')\n",
    "plt.show()"
   ]
  },
  {
   "cell_type": "markdown",
   "metadata": {},
   "source": [
    "Splitting Data"
   ]
  },
  {
   "cell_type": "code",
   "execution_count": 8,
   "metadata": {},
   "outputs": [
    {
     "data": {
      "text/html": [
       "<div>\n",
       "<style scoped>\n",
       "    .dataframe tbody tr th:only-of-type {\n",
       "        vertical-align: middle;\n",
       "    }\n",
       "\n",
       "    .dataframe tbody tr th {\n",
       "        vertical-align: top;\n",
       "    }\n",
       "\n",
       "    .dataframe thead th {\n",
       "        text-align: right;\n",
       "    }\n",
       "</style>\n",
       "<table border=\"1\" class=\"dataframe\">\n",
       "  <thead>\n",
       "    <tr style=\"text-align: right;\">\n",
       "      <th></th>\n",
       "      <th>Liked</th>\n",
       "      <th>clean_data</th>\n",
       "    </tr>\n",
       "  </thead>\n",
       "  <tbody>\n",
       "    <tr>\n",
       "      <th>0</th>\n",
       "      <td>1</td>\n",
       "      <td>wow ... loved place</td>\n",
       "    </tr>\n",
       "    <tr>\n",
       "      <th>1</th>\n",
       "      <td>0</td>\n",
       "      <td>crust good</td>\n",
       "    </tr>\n",
       "    <tr>\n",
       "      <th>2</th>\n",
       "      <td>0</td>\n",
       "      <td>tasty texture nasty</td>\n",
       "    </tr>\n",
       "    <tr>\n",
       "      <th>3</th>\n",
       "      <td>1</td>\n",
       "      <td>stopped late may bank holiday rick steve recom...</td>\n",
       "    </tr>\n",
       "  </tbody>\n",
       "</table>\n",
       "</div>"
      ],
      "text/plain": [
       "   Liked                                         clean_data\n",
       "0      1                                wow ... loved place\n",
       "1      0                                         crust good\n",
       "2      0                                tasty texture nasty\n",
       "3      1  stopped late may bank holiday rick steve recom..."
      ]
     },
     "execution_count": 8,
     "metadata": {},
     "output_type": "execute_result"
    }
   ],
   "source": [
    "fn_data = dataset[['Liked', 'clean_data']]\n",
    "fn_data.head(4)"
   ]
  },
  {
   "cell_type": "code",
   "execution_count": 9,
   "metadata": {},
   "outputs": [
    {
     "name": "stdout",
     "output_type": "stream",
     "text": [
      "training size 2235\n",
      "Testing size  395\n"
     ]
    }
   ],
   "source": [
    "from sklearn import model_selection\n",
    "\n",
    "X =  fn_data.clean_data \n",
    "y = fn_data.Liked\n",
    "\n",
    "X_train, X_test, y_train, y_test = model_selection.train_test_split(X, y, \n",
    "                                        test_size=0.15, random_state=10)\n",
    "\n",
    "print('training size {}'.format(len(X_train)))\n",
    "print('Testing size  {}'.format(len(X_test)))"
   ]
  },
  {
   "cell_type": "markdown",
   "metadata": {},
   "source": [
    "Vectorizing (is to covert those text to numbers)"
   ]
  },
  {
   "cell_type": "code",
   "execution_count": 18,
   "metadata": {},
   "outputs": [],
   "source": [
    "#  the label 0 ===> Negative sentiment  |||||||  1 ==> postive sentiment\n",
    "from sklearn.feature_extraction import text\n",
    "\n",
    "tfidf = text.TfidfVectorizer()\n",
    "\n",
    "# vectorizing the clean_text into numerical data \n",
    "Xtrain_vector =tfidf.fit_transform(X_train)\n",
    "Xtest_vector = tfidf.transform(X_test)"
   ]
  },
  {
   "cell_type": "code",
   "execution_count": 19,
   "metadata": {
    "tags": []
   },
   "outputs": [
    {
     "data": {
      "text/plain": [
       "['tfidf_sentiment_vocab.pk']"
      ]
     },
     "execution_count": 19,
     "metadata": {},
     "output_type": "execute_result"
    }
   ],
   "source": [
    "import joblib\n",
    "\n",
    "joblib.dump(tfidf,'tfidf_sentiment_vocab.pk',)"
   ]
  },
  {
   "cell_type": "code",
   "execution_count": 20,
   "metadata": {},
   "outputs": [
    {
     "data": {
      "text/plain": [
       "array([[0., 0., 0., ..., 0., 0., 0.],\n",
       "       [0., 0., 0., ..., 0., 0., 0.],\n",
       "       [0., 0., 0., ..., 0., 0., 0.],\n",
       "       ...,\n",
       "       [0., 0., 0., ..., 0., 0., 0.],\n",
       "       [0., 0., 0., ..., 0., 0., 0.],\n",
       "       [0., 0., 0., ..., 0., 0., 0.]])"
      ]
     },
     "execution_count": 20,
     "metadata": {},
     "output_type": "execute_result"
    }
   ],
   "source": [
    "Xtest_vector.toarray()"
   ]
  },
  {
   "cell_type": "markdown",
   "metadata": {},
   "source": [
    "Naive Bayes Machine Leanring Model (Sentiment Analyzer)"
   ]
  },
  {
   "cell_type": "code",
   "execution_count": 21,
   "metadata": {
    "collapsed": true,
    "jupyter": {
     "outputs_hidden": true
    },
    "tags": []
   },
   "outputs": [
    {
     "data": {
      "text/html": [
       "<style>#sk-container-id-1 {color: black;background-color: white;}#sk-container-id-1 pre{padding: 0;}#sk-container-id-1 div.sk-toggleable {background-color: white;}#sk-container-id-1 label.sk-toggleable__label {cursor: pointer;display: block;width: 100%;margin-bottom: 0;padding: 0.3em;box-sizing: border-box;text-align: center;}#sk-container-id-1 label.sk-toggleable__label-arrow:before {content: \"▸\";float: left;margin-right: 0.25em;color: #696969;}#sk-container-id-1 label.sk-toggleable__label-arrow:hover:before {color: black;}#sk-container-id-1 div.sk-estimator:hover label.sk-toggleable__label-arrow:before {color: black;}#sk-container-id-1 div.sk-toggleable__content {max-height: 0;max-width: 0;overflow: hidden;text-align: left;background-color: #f0f8ff;}#sk-container-id-1 div.sk-toggleable__content pre {margin: 0.2em;color: black;border-radius: 0.25em;background-color: #f0f8ff;}#sk-container-id-1 input.sk-toggleable__control:checked~div.sk-toggleable__content {max-height: 200px;max-width: 100%;overflow: auto;}#sk-container-id-1 input.sk-toggleable__control:checked~label.sk-toggleable__label-arrow:before {content: \"▾\";}#sk-container-id-1 div.sk-estimator input.sk-toggleable__control:checked~label.sk-toggleable__label {background-color: #d4ebff;}#sk-container-id-1 div.sk-label input.sk-toggleable__control:checked~label.sk-toggleable__label {background-color: #d4ebff;}#sk-container-id-1 input.sk-hidden--visually {border: 0;clip: rect(1px 1px 1px 1px);clip: rect(1px, 1px, 1px, 1px);height: 1px;margin: -1px;overflow: hidden;padding: 0;position: absolute;width: 1px;}#sk-container-id-1 div.sk-estimator {font-family: monospace;background-color: #f0f8ff;border: 1px dotted black;border-radius: 0.25em;box-sizing: border-box;margin-bottom: 0.5em;}#sk-container-id-1 div.sk-estimator:hover {background-color: #d4ebff;}#sk-container-id-1 div.sk-parallel-item::after {content: \"\";width: 100%;border-bottom: 1px solid gray;flex-grow: 1;}#sk-container-id-1 div.sk-label:hover label.sk-toggleable__label {background-color: #d4ebff;}#sk-container-id-1 div.sk-serial::before {content: \"\";position: absolute;border-left: 1px solid gray;box-sizing: border-box;top: 0;bottom: 0;left: 50%;z-index: 0;}#sk-container-id-1 div.sk-serial {display: flex;flex-direction: column;align-items: center;background-color: white;padding-right: 0.2em;padding-left: 0.2em;position: relative;}#sk-container-id-1 div.sk-item {position: relative;z-index: 1;}#sk-container-id-1 div.sk-parallel {display: flex;align-items: stretch;justify-content: center;background-color: white;position: relative;}#sk-container-id-1 div.sk-item::before, #sk-container-id-1 div.sk-parallel-item::before {content: \"\";position: absolute;border-left: 1px solid gray;box-sizing: border-box;top: 0;bottom: 0;left: 50%;z-index: -1;}#sk-container-id-1 div.sk-parallel-item {display: flex;flex-direction: column;z-index: 1;position: relative;background-color: white;}#sk-container-id-1 div.sk-parallel-item:first-child::after {align-self: flex-end;width: 50%;}#sk-container-id-1 div.sk-parallel-item:last-child::after {align-self: flex-start;width: 50%;}#sk-container-id-1 div.sk-parallel-item:only-child::after {width: 0;}#sk-container-id-1 div.sk-dashed-wrapped {border: 1px dashed gray;margin: 0 0.4em 0.5em 0.4em;box-sizing: border-box;padding-bottom: 0.4em;background-color: white;}#sk-container-id-1 div.sk-label label {font-family: monospace;font-weight: bold;display: inline-block;line-height: 1.2em;}#sk-container-id-1 div.sk-label-container {text-align: center;}#sk-container-id-1 div.sk-container {/* jupyter's `normalize.less` sets `[hidden] { display: none; }` but bootstrap.min.css set `[hidden] { display: none !important; }` so we also need the `!important` here to be able to override the default hidden behavior on the sphinx rendered scikit-learn.org. See: https://github.com/scikit-learn/scikit-learn/issues/21755 */display: inline-block !important;position: relative;}#sk-container-id-1 div.sk-text-repr-fallback {display: none;}</style><div id=\"sk-container-id-1\" class=\"sk-top-container\"><div class=\"sk-text-repr-fallback\"><pre>GaussianNB()</pre><b>In a Jupyter environment, please rerun this cell to show the HTML representation or trust the notebook. <br />On GitHub, the HTML representation is unable to render, please try loading this page with nbviewer.org.</b></div><div class=\"sk-container\" hidden><div class=\"sk-item\"><div class=\"sk-estimator sk-toggleable\"><input class=\"sk-toggleable__control sk-hidden--visually\" id=\"sk-estimator-id-1\" type=\"checkbox\" checked><label for=\"sk-estimator-id-1\" class=\"sk-toggleable__label sk-toggleable__label-arrow\">GaussianNB</label><div class=\"sk-toggleable__content\"><pre>GaussianNB()</pre></div></div></div></div></div>"
      ],
      "text/plain": [
       "GaussianNB()"
      ]
     },
     "execution_count": 21,
     "metadata": {},
     "output_type": "execute_result"
    }
   ],
   "source": [
    "from sklearn.naive_bayes import GaussianNB\n",
    "\n",
    "# model initializaing and training \n",
    "nb_model = GaussianNB()\n",
    "nb_model.fit(Xtrain_vector.toarray(), y_train)"
   ]
  },
  {
   "cell_type": "code",
   "execution_count": 22,
   "metadata": {
    "tags": []
   },
   "outputs": [
    {
     "data": {
      "text/plain": [
       "['naive_bayes_sentiment_analyzer_model.jb']"
      ]
     },
     "execution_count": 22,
     "metadata": {},
     "output_type": "execute_result"
    }
   ],
   "source": [
    "# saving model \n",
    "joblib.dump(nb_model, 'naive_bayes_sentiment_analyzer_model.jb')"
   ]
  },
  {
   "cell_type": "code",
   "execution_count": 23,
   "metadata": {},
   "outputs": [
    {
     "name": "stdout",
     "output_type": "stream",
     "text": [
      " Score 0.8962025316455696\n",
      "________________________________________________________\n",
      "              precision    recall  f1-score   support\n",
      "\n",
      "           0       0.94      0.87      0.90       222\n",
      "           1       0.85      0.92      0.89       173\n",
      "\n",
      "    accuracy                           0.90       395\n",
      "   macro avg       0.89      0.90      0.90       395\n",
      "weighted avg       0.90      0.90      0.90       395\n",
      "\n",
      "________________________________________________________\n",
      "Axes(0.125,0.11;0.62x0.77)\n"
     ]
    },
    {
     "data": {
      "image/png": "[encoded data removed]",
      "text/plain": [
       "<Figure size 640x480 with 2 Axes>"
      ]
     },
     "metadata": {},
     "output_type": "display_data"
    }
   ],
   "source": [
    "from sklearn.metrics import classification_report, confusion_matrix\n",
    "import seaborn as sn \n",
    "\n",
    "# \n",
    "labels = ['Negative', 'Positive']\n",
    "# \n",
    "model_score = nb_model.score(Xtest_vector.toarray(), y_test)\n",
    "print(' Score {}'.format(model_score))\n",
    "\n",
    "x_prediction = nb_model.predict(Xtest_vector.toarray())\n",
    "class_score = classification_report(y_test, x_prediction)\n",
    "confusion_score = confusion_matrix(y_test, x_prediction)\n",
    "print('________________________________________________________')\n",
    "print(class_score)\n",
    "\n",
    "print('________________________________________________________')\n",
    "print(sn.heatmap(confusion_score, annot=True , fmt='d', xticklabels=labels, yticklabels=labels))"
   ]
  },
  {
   "cell_type": "markdown",
   "metadata": {},
   "source": [
    "user interaction pipeline"
   ]
  },
  {
   "cell_type": "code",
   "execution_count": 14,
   "metadata": {},
   "outputs": [
    {
     "data": {
      "text/plain": [
       "('Negative Sentiment', 1)"
      ]
     },
     "execution_count": 14,
     "metadata": {},
     "output_type": "execute_result"
    }
   ],
   "source": [
    "# data = input(\":\")\n",
    "import joblib\n",
    "\n",
    "\n",
    "input_text = 'congratulation this is realy good'\n",
    "\n",
    "# return sentiment from text\n",
    "def sentiment_analyzer(text, model):\n",
    "    # clean data\n",
    "    clean_data = clean_dataset(text)\n",
    "\n",
    "    # loading tfid model .... \n",
    "    tfid = joblib.load('tfidf_sentiment_vocab.pk')\n",
    "\n",
    "    # vectorizing\n",
    "    word_vector = tfid.transform([clean_data])\n",
    "\n",
    "    # load_model\n",
    "    sentiment_model = model\n",
    "    # make prediction\n",
    "    predict = sentiment_model.predict(word_vector.toarray())\n",
    "\n",
    "    sent_string = ''\n",
    "\n",
    "    if predict[0] != 0:\n",
    "        sent_string = 'Negative Sentiment'\n",
    "    else: \n",
    "        sent_string = 'Postive Sentiment'\n",
    "\n",
    "\n",
    "    return sent_string, predict[0]  \n",
    "\n",
    "\n",
    "# load model ....\n",
    "model = joblib.load('naive_bayes_sentiment_analyzer_model.jb')\n",
    "sentiment_analyzer(input('Enter Text :'), model)\n",
    "\n"
   ]
  },
  {
   "cell_type": "code",
   "execution_count": 25,
   "metadata": {
    "scrolled": true,
    "tags": []
   },
   "outputs": [],
   "source": [
    "\n",
    "# # Use a Streamlit text input widget to get the location\n",
    "# location = st.text_input(\"Enter a location\")\n",
    "# location = input('Location:')"
   ]
  },
  {
   "cell_type": "markdown",
   "metadata": {},
   "source": [
    "## GOOGLE MAP LOCATION"
   ]
  },
  {
   "cell_type": "code",
   "execution_count": 3,
   "metadata": {
    "tags": []
   },
   "outputs": [
    {
     "data": {
      "text/plain": [
       "dict_keys(['place', 'name', 'lat', 'lon', 'importance'])"
      ]
     },
     "execution_count": 3,
     "metadata": {},
     "output_type": "execute_result"
    }
   ],
   "source": [
    "data.keys()"
   ]
  },
  {
   "cell_type": "code",
   "execution_count": 2,
   "metadata": {
    "tags": []
   },
   "outputs": [
    {
     "name": "stdout",
     "output_type": "stream",
     "text": [
      "Enter a location: dubai\n"
     ]
    },
    {
     "name": "stdout",
     "output_type": "stream",
     "text": [
      "possible location for  dubai ==> 10\n"
     ]
    }
   ],
   "source": [
    "import pandas as pd \n",
    "import streamlit as st\n",
    "import requests\n",
    "def get_google_location(location): \n",
    "    location_corpus = {\n",
    "        'place':[], \n",
    "        'name':[], \n",
    "        'lat':[], \n",
    "        'lon':[], \n",
    "        'importance':[]\n",
    "    }\n",
    "    # Use OpenStreetMap Nominatim API to get the latitude and longitude coordinates\n",
    "    url = f\"https://nominatim.openstreetmap.org/search?q={location}&format=json\"\n",
    "    location_data = requests.get(url).json()\n",
    "#     print(location_data[0].keys())\n",
    "    if location_data != []: \n",
    "        \n",
    "        print('possible location for  {} ==> {}'.format(location, len(location_data)))\n",
    "        for location in location_data: \n",
    "            location_corpus['place'].append(location['place_id'])\n",
    "            location_corpus['name'].append(location['display_name'])\n",
    "            location_corpus['lat'].append(location['lat'])\n",
    "            location_corpus['lon'].append(location['lon'])\n",
    "            location_corpus['importance'].append(location['importance'])\n",
    "    else: \n",
    "        print('location not detected... ')\n",
    "    \n",
    "    return location_corpus \n",
    "data = get_google_location(input('Enter a location:'))\n",
    "# print(data[0])"
   ]
  },
  {
   "cell_type": "code",
   "execution_count": 6,
   "metadata": {
    "tags": []
   },
   "outputs": [
    {
     "data": {
      "text/html": [
       "<div>\n",
       "<style scoped>\n",
       "    .dataframe tbody tr th:only-of-type {\n",
       "        vertical-align: middle;\n",
       "    }\n",
       "\n",
       "    .dataframe tbody tr th {\n",
       "        vertical-align: top;\n",
       "    }\n",
       "\n",
       "    .dataframe thead th {\n",
       "        text-align: right;\n",
       "    }\n",
       "</style>\n",
       "<table border=\"1\" class=\"dataframe\">\n",
       "  <thead>\n",
       "    <tr style=\"text-align: right;\">\n",
       "      <th></th>\n",
       "      <th>place</th>\n",
       "      <th>name</th>\n",
       "      <th>lat</th>\n",
       "      <th>lon</th>\n",
       "      <th>importance</th>\n",
       "    </tr>\n",
       "  </thead>\n",
       "  <tbody>\n",
       "    <tr>\n",
       "      <th>0</th>\n",
       "      <td>308398371</td>\n",
       "      <td>دبي, الإمارات العربية المتحدة</td>\n",
       "      <td>25.074282349999997</td>\n",
       "      <td>55.18853865430702</td>\n",
       "      <td>0.641621</td>\n",
       "    </tr>\n",
       "    <tr>\n",
       "      <th>1</th>\n",
       "      <td>309698817</td>\n",
       "      <td>دبي, الإمارات العربية المتحدة</td>\n",
       "      <td>25.2653471</td>\n",
       "      <td>55.2924914</td>\n",
       "      <td>0.641621</td>\n",
       "    </tr>\n",
       "    <tr>\n",
       "      <th>2</th>\n",
       "      <td>308230703</td>\n",
       "      <td>دبي, الإمارات العربية المتحدة</td>\n",
       "      <td>25.074282349999997</td>\n",
       "      <td>55.18853865430702</td>\n",
       "      <td>0.552594</td>\n",
       "    </tr>\n",
       "    <tr>\n",
       "      <th>3</th>\n",
       "      <td>309052277</td>\n",
       "      <td>Dubai (zone), Makindye II, Makindye, Kampala C...</td>\n",
       "      <td>0.2776961</td>\n",
       "      <td>32.579948</td>\n",
       "      <td>0.375010</td>\n",
       "    </tr>\n",
       "    <tr>\n",
       "      <th>4</th>\n",
       "      <td>94598176</td>\n",
       "      <td>Dubai, Kampala, Central Region, Uganda</td>\n",
       "      <td>0.2786339</td>\n",
       "      <td>32.5798768</td>\n",
       "      <td>0.375010</td>\n",
       "    </tr>\n",
       "    <tr>\n",
       "      <th>5</th>\n",
       "      <td>13337999</td>\n",
       "      <td>Dubai, Buurhakaba بورحكب, Buur Hakaba بورحكب, ...</td>\n",
       "      <td>2.80168</td>\n",
       "      <td>44.08159</td>\n",
       "      <td>0.375010</td>\n",
       "    </tr>\n",
       "    <tr>\n",
       "      <th>6</th>\n",
       "      <td>58372246</td>\n",
       "      <td>Dubai, Ajia, Arua, Northern Region, Uganda</td>\n",
       "      <td>2.9470179</td>\n",
       "      <td>30.961206</td>\n",
       "      <td>0.375010</td>\n",
       "    </tr>\n",
       "    <tr>\n",
       "      <th>7</th>\n",
       "      <td>97829067</td>\n",
       "      <td>Dubai, Nakuru, Kenya</td>\n",
       "      <td>-0.2746231</td>\n",
       "      <td>36.1698277</td>\n",
       "      <td>0.375010</td>\n",
       "    </tr>\n",
       "    <tr>\n",
       "      <th>8</th>\n",
       "      <td>348688989</td>\n",
       "      <td>Al Salam, Mudon, Dubai, مُدُن, دبي, الإمارات ا...</td>\n",
       "      <td>25.0265946</td>\n",
       "      <td>55.269940277484366</td>\n",
       "      <td>0.300010</td>\n",
       "    </tr>\n",
       "    <tr>\n",
       "      <th>9</th>\n",
       "      <td>348686164</td>\n",
       "      <td>Sama Townhouses, Town Square, Dubai, Al Yalayi...</td>\n",
       "      <td>24.99899255</td>\n",
       "      <td>55.291584083057344</td>\n",
       "      <td>0.300010</td>\n",
       "    </tr>\n",
       "  </tbody>\n",
       "</table>\n",
       "</div>"
      ],
      "text/plain": [
       "       place                                               name  \\\n",
       "0  308398371                      دبي, الإمارات العربية المتحدة   \n",
       "1  309698817                      دبي, الإمارات العربية المتحدة   \n",
       "2  308230703                      دبي, الإمارات العربية المتحدة   \n",
       "3  309052277  Dubai (zone), Makindye II, Makindye, Kampala C...   \n",
       "4   94598176             Dubai, Kampala, Central Region, Uganda   \n",
       "5   13337999  Dubai, Buurhakaba بورحكب, Buur Hakaba بورحكب, ...   \n",
       "6   58372246         Dubai, Ajia, Arua, Northern Region, Uganda   \n",
       "7   97829067                               Dubai, Nakuru, Kenya   \n",
       "8  348688989  Al Salam, Mudon, Dubai, مُدُن, دبي, الإمارات ا...   \n",
       "9  348686164  Sama Townhouses, Town Square, Dubai, Al Yalayi...   \n",
       "\n",
       "                  lat                 lon  importance  \n",
       "0  25.074282349999997   55.18853865430702    0.641621  \n",
       "1          25.2653471          55.2924914    0.641621  \n",
       "2  25.074282349999997   55.18853865430702    0.552594  \n",
       "3           0.2776961           32.579948    0.375010  \n",
       "4           0.2786339          32.5798768    0.375010  \n",
       "5             2.80168            44.08159    0.375010  \n",
       "6           2.9470179           30.961206    0.375010  \n",
       "7          -0.2746231          36.1698277    0.375010  \n",
       "8          25.0265946  55.269940277484366    0.300010  \n",
       "9         24.99899255  55.291584083057344    0.300010  "
      ]
     },
     "execution_count": 6,
     "metadata": {},
     "output_type": "execute_result"
    }
   ],
   "source": [
    "import pandas as pd \n",
    "pd.DataFrame(data)"
   ]
  },
  {
   "cell_type": "code",
   "execution_count": 16,
   "metadata": {},
   "outputs": [
    {
     "data": {
      "text/html": [
       "<div>\n",
       "<style scoped>\n",
       "    .dataframe tbody tr th:only-of-type {\n",
       "        vertical-align: middle;\n",
       "    }\n",
       "\n",
       "    .dataframe tbody tr th {\n",
       "        vertical-align: top;\n",
       "    }\n",
       "\n",
       "    .dataframe thead th {\n",
       "        text-align: right;\n",
       "    }\n",
       "</style>\n",
       "<table border=\"1\" class=\"dataframe\">\n",
       "  <thead>\n",
       "    <tr style=\"text-align: right;\">\n",
       "      <th></th>\n",
       "      <th>lat</th>\n",
       "      <th>lon</th>\n",
       "    </tr>\n",
       "  </thead>\n",
       "  <tbody>\n",
       "    <tr>\n",
       "      <th>0</th>\n",
       "      <td>37.748465</td>\n",
       "      <td>-122.370787</td>\n",
       "    </tr>\n",
       "    <tr>\n",
       "      <th>1</th>\n",
       "      <td>37.767898</td>\n",
       "      <td>-122.386042</td>\n",
       "    </tr>\n",
       "    <tr>\n",
       "      <th>2</th>\n",
       "      <td>37.754869</td>\n",
       "      <td>-122.416009</td>\n",
       "    </tr>\n",
       "    <tr>\n",
       "      <th>3</th>\n",
       "      <td>37.775332</td>\n",
       "      <td>-122.406765</td>\n",
       "    </tr>\n",
       "    <tr>\n",
       "      <th>4</th>\n",
       "      <td>37.772748</td>\n",
       "      <td>-122.398311</td>\n",
       "    </tr>\n",
       "    <tr>\n",
       "      <th>...</th>\n",
       "      <td>...</td>\n",
       "      <td>...</td>\n",
       "    </tr>\n",
       "    <tr>\n",
       "      <th>995</th>\n",
       "      <td>37.754803</td>\n",
       "      <td>-122.382935</td>\n",
       "    </tr>\n",
       "    <tr>\n",
       "      <th>996</th>\n",
       "      <td>37.736742</td>\n",
       "      <td>-122.375330</td>\n",
       "    </tr>\n",
       "    <tr>\n",
       "      <th>997</th>\n",
       "      <td>37.760106</td>\n",
       "      <td>-122.402572</td>\n",
       "    </tr>\n",
       "    <tr>\n",
       "      <th>998</th>\n",
       "      <td>37.753294</td>\n",
       "      <td>-122.378345</td>\n",
       "    </tr>\n",
       "    <tr>\n",
       "      <th>999</th>\n",
       "      <td>37.758468</td>\n",
       "      <td>-122.389914</td>\n",
       "    </tr>\n",
       "  </tbody>\n",
       "</table>\n",
       "<p>1000 rows × 2 columns</p>\n",
       "</div>"
      ],
      "text/plain": [
       "           lat         lon\n",
       "0    37.748465 -122.370787\n",
       "1    37.767898 -122.386042\n",
       "2    37.754869 -122.416009\n",
       "3    37.775332 -122.406765\n",
       "4    37.772748 -122.398311\n",
       "..         ...         ...\n",
       "995  37.754803 -122.382935\n",
       "996  37.736742 -122.375330\n",
       "997  37.760106 -122.402572\n",
       "998  37.753294 -122.378345\n",
       "999  37.758468 -122.389914\n",
       "\n",
       "[1000 rows x 2 columns]"
      ]
     },
     "execution_count": 16,
     "metadata": {},
     "output_type": "execute_result"
    }
   ],
   "source": [
    "# import re\n",
    "\n",
    "# pattern = r\"\\+971 [2355679]\\d{1} \\d{7}\"\n",
    "# text = \"+971 2 1234567 and +971 50 9876543 are valid UAE phone numbers, but not +971 1 5555555 or +971 55 1234567.\"\n",
    "\n",
    "# matches = re.findall(pattern, text)\n",
    "# print(matches)\n",
    "\n",
    "# import re\n",
    "\n",
    "# pattern = r\"\\+971 [2345679] \\d{7}\"\n",
    "# phone_numbers = [\"+971 2 1234567\", \"+971 50 9876543\", \"+971 8 5555555\"]\n",
    "# for number in phone_numbers:\n",
    "#     if re.match(pattern, number):\n",
    "#         print(number, \"is a valid UAE phone number.\")\n",
    "#     else:\n",
    "#         print(number, \"is not a valid UAE phone number.\")\n",
    "\n",
    "\n",
    "# from spacy import displacy\n",
    "# import json\n",
    "\n",
    "# text = 'the name of the boy is ahmed, adam and james and live in No.5 adex street he contact is +971 8 5555555 +971 5 9876543   +971 2 1234567'\n",
    "\n",
    "\n",
    "# # doc = sentence11\n",
    "# text = 'the name of the boy is ahmed, adam and james and live in No.5 adex street he contact is +971 55 1234567 651 N Broad St, New Castle, Delaware, United States of America'\n",
    "\n",
    "# doc2 = nlp_model(text)\n",
    "# displacy.render(doc2, style=\"ent\", jupyter=True)\n",
    "# doc = nlp_model(sentence11)\n",
    "# displacy.render(doc, style=\"ent\", jupyter=True)\n",
    "import streamlit as st\n",
    "import pandas as pd\n",
    "import numpy as np\n",
    "\n",
    "df = pd.DataFrame(\n",
    "    np.random.randn(1000, 2) / [50, 50] + [37.76, -122.4],\n",
    "    columns=['lat', 'lon'])\n",
    "\n",
    "\n",
    "df"
   ]
  }
 ],
 "metadata": {
  "kernelspec": {
   "display_name": "Python 3 (ipykernel)",
   "language": "python",
   "name": "python3"
  },
  "language_info": {
   "codemirror_mode": {
    "name": "ipython",
    "version": 3
   },
   "file_extension": ".py",
   "mimetype": "text/x-python",
   "name": "python",
   "nbconvert_exporter": "python",
   "pygments_lexer": "ipython3",
   "version": "3.9.5"
  }
 },
 "nbformat": 4,
 "nbformat_minor": 4
}
