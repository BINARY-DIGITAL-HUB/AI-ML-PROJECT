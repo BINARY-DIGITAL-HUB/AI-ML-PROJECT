{
 "cells": [
  {
   "cell_type": "code",
   "execution_count": 49,
   "id": "e8270331-8600-411c-9add-c426120345e2",
   "metadata": {
    "tags": []
   },
   "outputs": [],
   "source": [
    "# email = credential['email']\n",
    "# pass_code = credential['password']\n",
    "\n",
    "import streamlit as st\n",
    "from streamlit_jupyter import StreamlitPatcher, tqdm\n",
    "StreamlitPatcher().jupyter()"
   ]
  },
  {
   "cell_type": "code",
   "execution_count": 9,
   "id": "83d404be-cac2-44e3-9964-a71abf354f4f",
   "metadata": {
    "tags": []
   },
   "outputs": [],
   "source": [
    "import warnings\n",
    "warnings.filterwarnings('ignore')\n",
    "from selenium import webdriver\n",
    "import requests\n",
    "from bs4 import BeautifulSoup\n",
    "from facebook_scraper import get_posts\n",
    "import facebook_scraper\n",
    "from facebook_scraper import _scraper, get_posts , get_reactors\n",
    "from selenium.webdriver.common.by import By\n",
    "import pandas as pd\n",
    "import json"
   ]
  },
  {
   "cell_type": "code",
   "execution_count": 52,
   "id": "f67a4679-a402-441b-a608-4415749fa80f",
   "metadata": {
    "tags": []
   },
   "outputs": [],
   "source": [
    "# st.header('AI Base Scrapping Tool for Facebook')\n",
    "# email = st.text_input('Enter you username')\n",
    "# pass_code = st.text_input(\"Enter you password\")b"
   ]
  },
  {
   "cell_type": "markdown",
   "id": "83f1cac3-02be-45c1-aa96-f727134bc3a6",
   "metadata": {},
   "source": [
    "<h2 align='center'>AI Base Scrapping Tool for Facebook<h2>"
   ]
  },
  {
   "cell_type": "code",
   "execution_count": 36,
   "id": "fbf8bb9b-00f0-4e6d-b3c3-81bcd8336e49",
   "metadata": {
    "tags": []
   },
   "outputs": [],
   "source": [
    "# Enter mail: hamad1076663@gmail.com\n",
    "# Password: hamad1076663"
   ]
  },
  {
   "cell_type": "code",
   "execution_count": 20,
   "id": "ff33955a-6be9-4b61-80ae-abd2357fdc3b",
   "metadata": {
    "tags": []
   },
   "outputs": [
    {
     "name": "stdin",
     "output_type": "stream",
     "text": [
      "Enter Email:  hamad1076663@gmail.com\n",
      "Enter Passcode:  Capstone12345\n"
     ]
    }
   ],
   "source": [
    "login_flag = False\n",
    "\n",
    "try:\n",
    "\n",
    "    email = input('Enter Email: ')\n",
    "    pass_code = input('Enter Passcode: ')\n",
    "\n",
    "    # connecting to browse\n",
    "    browser = webdriver.Chrome(\"C://chromedriver\")\n",
    "    browser.get('https://web.facebook.com/')\n",
    "\n",
    "    #summit credentials ju\n",
    "    email_box = browser.find_element(by='id', value='email')\n",
    "    password_box = browser.find_element(by='id', value='pass')\n",
    "    login_button = browser.find_element(by='name', value='login')\n",
    "\n",
    "\n",
    "    email_box.send_keys(email.strip())\n",
    "    password_box.send_keys(pass_code.strip())\n",
    "\n",
    "    login_flag = True\n",
    "# clicking button to login \n",
    "    login_button.click()\n",
    "except Exception as e:\n",
    "    login_flag = False\n",
    "    # print('envalid login {}'.format(e))\n",
    "\n",
    "if login_flag: \n",
    "    credentials={'username':email, 'password':pass_code}\n",
    "    with open('credentials.json', 'w') as file: \n",
    "        json.dump(credentials, file)\n",
    "else: \n",
    "    credentials={'username':'', 'password':''}\n",
    "    with open('credentials.json', 'w') as file: \n",
    "        json.dump(credentials, file)\n",
    "    \n",
    "    "
   ]
  },
  {
   "cell_type": "code",
   "execution_count": 21,
   "id": "becb059c",
   "metadata": {
    "scrolled": true,
    "tags": []
   },
   "outputs": [
    {
     "data": {
      "text/plain": [
       "'profile.php?id=100091362595291'"
      ]
     },
     "execution_count": 21,
     "metadata": {},
     "output_type": "execute_result"
    }
   ],
   "source": [
    "# getting the login in profile data\n",
    "def get_facebook_profile():\n",
    "    \n",
    "    browser.current_url\n",
    "    # redirecting me to profile page\n",
    "    profile_path = f'https://web.facebook.com/profile'\n",
    "    browser.get(profile_path)\n",
    "    \n",
    "    return browser.current_url\n",
    "\n",
    "profile = get_facebook_profile()\n",
    "\n",
    "\n",
    "\n",
    "# using to extract profile name form link\n",
    "def get_profile_name(profile):\n",
    "    \n",
    "    profile_name = profile.split('.com/')[-1].replace('/', '')\n",
    "    \n",
    "    return profile_name\n",
    "\n",
    "\n",
    "user_profile_name = get_profile_name(profile)\n",
    "user_profile_name"
   ]
  },
  {
   "cell_type": "code",
   "execution_count": 23,
   "id": "31656b45",
   "metadata": {
    "tags": []
   },
   "outputs": [],
   "source": [
    "# get the page bio data information\n",
    "_scraper.login(email, pass_code)\n",
    "page = facebook_scraper.get_profile(account=user_profile_name , images=True )"
   ]
  },
  {
   "cell_type": "code",
   "execution_count": 24,
   "id": "9a8a1aee",
   "metadata": {
    "tags": []
   },
   "outputs": [
    {
     "data": {
      "text/plain": [
       "dict_keys(['top_post', 'Friend_count', 'Follower_count', 'Following_count', 'cover_photo_text', 'cover_photo', 'profile_picture', 'id', 'Name', 'Work', 'Places lived', 'Contact info\\nEdit', 'Basic info\\nEdit', 'Other names', 'Relationship', 'Family members', 'About', 'Life events', 'Favorite quotes'])"
      ]
     },
     "execution_count": 24,
     "metadata": {},
     "output_type": "execute_result"
    }
   ],
   "source": [
    "page.keys()"
   ]
  },
  {
   "cell_type": "code",
   "execution_count": 59,
   "id": "3d148943",
   "metadata": {
    "tags": []
   },
   "outputs": [
    {
     "ename": "TypeError",
     "evalue": "list indices must be integers or slices, not str",
     "output_type": "error",
     "traceback": [
      "\u001b[1;31m------------------------------------------------------------------------\u001b[0m",
      "\u001b[1;31mTypeError\u001b[0m                              Traceback (most recent call last)",
      "Cell \u001b[1;32mIn[59], line 33\u001b[0m\n\u001b[0;32m     29\u001b[0m             \u001b[38;5;66;03m# print(key,':--', val)\u001b[39;00m\n\u001b[0;32m     31\u001b[0m    \u001b[38;5;28;01mreturn\u001b[39;00m clean_facebook_profile\n\u001b[1;32m---> 33\u001b[0m \u001b[38;5;28mprint\u001b[39m(\u001b[43mprofile_keys\u001b[49m\u001b[43m[\u001b[49m\u001b[38;5;124;43m'\u001b[39;49m\u001b[38;5;124;43mContact info\u001b[39;49m\u001b[38;5;130;43;01m\\n\u001b[39;49;00m\u001b[38;5;124;43mEdit\u001b[39;49m\u001b[38;5;124;43m'\u001b[39;49m\u001b[43m]\u001b[49m)\n\u001b[0;32m     34\u001b[0m clean_profile_information()\n",
      "\u001b[1;31mTypeError\u001b[0m: list indices must be integers or slices, not str"
     ]
    }
   ],
   "source": [
    "page.keys()\n",
    "\n",
    "profile_keys = page.keys()\n",
    "profile_keys = list(profile_keys)[1:-1]\n",
    "profile_keys\n",
    "\n",
    "\n",
    "def clean_profile_information():\n",
    "\n",
    "   clean_facebook_profile = {}\n",
    "   for key in profile_keys: \n",
    "      # print(key)\n",
    "      val = page[key]\n",
    "      if val != None:\n",
    "         if key == 'Places lived': \n",
    "            val = page[key][0]['text']\n",
    "            clean_facebook_profile[key.lower()] = val\n",
    "            # print(key ,':----', val)\n",
    "\n",
    "         elif key == 'Contact Info' or key=='Contact info\\nEdit':\n",
    "            for cont_key, cont_val in page[key].items():\n",
    "               clean_facebook_profile[cont_key.lower()] = cont_val \n",
    "               # print(cont_key, ':--', cont_val)\n",
    "         elif key == 'profile_picture':\n",
    "            pass\n",
    "\n",
    "         else:\n",
    "            clean_facebook_profile[key.lower()] = val\n",
    "            # print(key,':--', val)\n",
    "\n",
    "   return clean_facebook_profile\n",
    "\n",
    "print(profile_keys['Contact info\\nEdit'])\n",
    "clean_profile_information()"
   ]
  },
  {
   "cell_type": "code",
   "execution_count": 26,
   "id": "cc65fd67",
   "metadata": {
    "tags": []
   },
   "outputs": [
    {
     "name": "stdout",
     "output_type": "stream",
     "text": [
      "<class 'PIL.JpegImagePlugin.JpegImageFile'>\n",
      "{'friend_count': 2, 'id': '100091362595291', 'name': 'Hamad Alsuwaidi', 'work': 'Add work\\nDubai Electricity and Water Authority - DEWA\\nShift Manager\\nDubai, United Arab Emirates\\nMore options', 'places lived': 'Abu Dhabi, United Arab Emirates', 'contact info\\nedit': 'Edit\\n+971 50 561 1160\\nMobile\\nhamad1076663@gmail.com\\nEmail', 'basic info\\nedit': 'Edit\\nApril 11, 1998\\nBirthday\\nMale\\nGender', 'other names': 'Add a nickname, a birth name...', 'relationship': 'Add a relationship status', 'family members': 'Add family member', 'about': 'Write about yourself', 'life events': ''}\n",
      "profile dumb successful... \n"
     ]
    }
   ],
   "source": [
    "from PIL import Image\n",
    "from io import BytesIO\n",
    "import requests\n",
    "import numpy as np\n",
    "import json \n",
    "import cv2\n",
    "\n",
    "\n",
    "def get_profile_key():\n",
    "    profile_keys = page.keys()\n",
    "    profile_keys = list(profile_keys)[1:]\n",
    "    return profile_keys\n",
    "\n",
    "def save_profile_info(page):\n",
    "    profile_pix = page['profile_picture']\n",
    "    img = Image.open(BytesIO(requests.get(profile_pix).content))\n",
    "    print(type(img))\n",
    "    img = np.array(img)\n",
    "    cv2.imwrite('passport_image.jpg', img)\n",
    "    json_info = clean_profile_information()\n",
    "    print(json_info)\n",
    "    # contact_data\n",
    "    with open('profile.json', 'w') as file: \n",
    "            json.dump(json_info, file)\n",
    "            print('profile dumb successful... ')\n",
    "    \n",
    "\n",
    "save_profile_info(page)"
   ]
  },
  {
   "cell_type": "code",
   "execution_count": 30,
   "id": "9a3fbc04",
   "metadata": {
    "scrolled": true,
    "tags": []
   },
   "outputs": [
    {
     "name": "stdout",
     "output_type": "stream",
     "text": [
      "No Of Post : 6\n"
     ]
    }
   ],
   "source": [
    "from facebook_scraper import get_posts\n",
    "\n",
    "\n",
    "def load_posts(user_profile_name): \n",
    "    posts = []\n",
    "    for post in get_posts(account=user_profile_name, extra_info=True, options={\"comments\":True, 'reactors':True}):\n",
    "        posts.append(post)\n",
    "\n",
    "    print('No Of Post : {}'.format(len(posts)))\n",
    "    return posts\n",
    "\n",
    "posts = load_posts(user_profile_name)\n"
   ]
  },
  {
   "cell_type": "code",
   "execution_count": 31,
   "id": "57ff4e09",
   "metadata": {
    "scrolled": true,
    "tags": []
   },
   "outputs": [
    {
     "data": {
      "text/plain": [
       "{'post_id': ['118949597827126',\n",
       "  '118949597827126',\n",
       "  '118947407827345',\n",
       "  '118944611160958',\n",
       "  '118944611160958'],\n",
       " 'commenter_name': ['Abdullah Al-Barhami',\n",
       "  'Hamad Alsuwaidi',\n",
       "  'Hamad Alsuwaidi',\n",
       "  'Abdullah Al-Barhami',\n",
       "  'Hamad Alsuwaidi'],\n",
       " 'comment_time': [datetime.datetime(2023, 3, 28, 0, 0),\n",
       "  datetime.datetime(2023, 3, 28, 0, 0),\n",
       "  datetime.datetime(2023, 3, 28, 0, 0),\n",
       "  datetime.datetime(2023, 3, 28, 0, 0),\n",
       "  datetime.datetime(2023, 3, 28, 0, 0)],\n",
       " 'comment_text': ['iOS , windows , Android',\n",
       "  'window 7 is pretty much cool and simple to use',\n",
       "  'not really but somewhere close',\n",
       "  'I like python language',\n",
       "  'java is so boring and difficult to learn, i will go for python'],\n",
       " 'replies': ['no reply', 'no reply', 'no reply', 'no reply', 'no reply']}"
      ]
     },
     "execution_count": 31,
     "metadata": {},
     "output_type": "execute_result"
    }
   ],
   "source": [
    "\n",
    "raw_data = ['post_id', 'text', 'time', 'images_description', 'reactions', 'post_url']\n",
    "\n",
    "raw_data_diction = {\n",
    "    'post_id':[],\n",
    "    'text': [], \n",
    "    'time': [], \n",
    "    'images_description': [],\n",
    "    'reactions': [],\n",
    "    'post_url':[]\n",
    "}\n",
    "\n",
    "raw_comment_diction={\n",
    "    'post_id':[], \n",
    "    'commenter_name':[],\n",
    "    'comment_time':[],\n",
    "    'comment_text':[], \n",
    "    'replies':[]\n",
    "}\n",
    "\n",
    "for post in posts[:]:\n",
    "    # print('--------')\n",
    "    for raw in raw_data: \n",
    "        # print(post[raw])\n",
    "        if post[raw] != []:\n",
    "            raw_data_diction[raw].append(post[raw])\n",
    "        else:\n",
    "            raw_data_diction[raw].append('')\n",
    "    \n",
    "    \n",
    "#   init comment table with replies\n",
    "    for comments in post['comments_full']: \n",
    "        raw_comment_diction['post_id'].append(post['post_id'])\n",
    "        \n",
    "        if comments['comment_text'] != []:\n",
    "            raw_comment_diction['comment_text'].append(comments['comment_text'])\n",
    "        else:\n",
    "            raw_comment_diction['comment_text'].append('no comment')\n",
    "\n",
    "        # if comments['images_description'] != []:\n",
    "        #     raw_comment_diction['images_description'].append(comments['images_description'])\n",
    "        # else:\n",
    "        #     raw_comment_diction['images_description'].append('no comment')\n",
    "\n",
    "        \n",
    "        if comments['replies'] != []:\n",
    "            raw_comment_diction['replies'].append(''.join(comments['replies']))\n",
    "        else: \n",
    "            raw_comment_diction['replies'].append(''.join([\"no reply\"]))\n",
    "\n",
    "        raw_comment_diction['commenter_name'].append(comments['commenter_name'])\n",
    "        raw_comment_diction['comment_time'].append(comments['comment_time'])\n",
    "\n",
    "raw_comment_diction"
   ]
  },
  {
   "cell_type": "code",
   "execution_count": 32,
   "id": "70c344a0",
   "metadata": {
    "tags": []
   },
   "outputs": [
    {
     "data": {
      "text/html": [
       "<div>\n",
       "<style scoped>\n",
       "    .dataframe tbody tr th:only-of-type {\n",
       "        vertical-align: middle;\n",
       "    }\n",
       "\n",
       "    .dataframe tbody tr th {\n",
       "        vertical-align: top;\n",
       "    }\n",
       "\n",
       "    .dataframe thead th {\n",
       "        text-align: right;\n",
       "    }\n",
       "</style>\n",
       "<table border=\"1\" class=\"dataframe\">\n",
       "  <thead>\n",
       "    <tr style=\"text-align: right;\">\n",
       "      <th></th>\n",
       "      <th>post_id</th>\n",
       "      <th>text</th>\n",
       "      <th>time</th>\n",
       "      <th>images_description</th>\n",
       "      <th>reactions</th>\n",
       "      <th>post_url</th>\n",
       "    </tr>\n",
       "  </thead>\n",
       "  <tbody>\n",
       "    <tr>\n",
       "      <th>0</th>\n",
       "      <td>119676867754399</td>\n",
       "      <td></td>\n",
       "      <td>2023-04-09 20:03:00</td>\n",
       "      <td>[May be an image of suit]</td>\n",
       "      <td>None</td>\n",
       "      <td>https://facebook.com/profile.php?id=1000913625...</td>\n",
       "    </tr>\n",
       "    <tr>\n",
       "      <th>1</th>\n",
       "      <td>118949597827126</td>\n",
       "      <td>Which operating system have you used before? P...</td>\n",
       "      <td>2023-04-09 05:25:00</td>\n",
       "      <td>[May be an image of phone and digital audio pl...</td>\n",
       "      <td>{'like': 2}</td>\n",
       "      <td>https://facebook.com/profile.php?id=1000913625...</td>\n",
       "    </tr>\n",
       "    <tr>\n",
       "      <th>2</th>\n",
       "      <td>118947407827345</td>\n",
       "      <td>Have you been to this location or somewhere cl...</td>\n",
       "      <td>2023-04-09 05:22:00</td>\n",
       "      <td>[May be an image of 8 people and beach]</td>\n",
       "      <td>{'like': 1}</td>\n",
       "      <td>https://facebook.com/profile.php?id=1000913625...</td>\n",
       "    </tr>\n",
       "    <tr>\n",
       "      <th>3</th>\n",
       "      <td>118944611160958</td>\n",
       "      <td>Which of the languages is suitable, difficult,...</td>\n",
       "      <td>2023-04-09 05:19:00</td>\n",
       "      <td>[May be a graphic of text that says '7 bmc Pyt...</td>\n",
       "      <td>{'like': 2}</td>\n",
       "      <td>https://facebook.com/profile.php?id=1000913625...</td>\n",
       "    </tr>\n",
       "    <tr>\n",
       "      <th>4</th>\n",
       "      <td>117378127984273</td>\n",
       "      <td>Grew up in Abu Dhabi, United Arab Emirates\\nAp...</td>\n",
       "      <td>2023-04-07 00:00:00</td>\n",
       "      <td>[May be an image of skyscraper, twilight and t...</td>\n",
       "      <td>None</td>\n",
       "      <td>https://facebook.com/profile.php?id=1000913625...</td>\n",
       "    </tr>\n",
       "  </tbody>\n",
       "</table>\n",
       "</div>"
      ],
      "text/plain": [
       "           post_id                                               text  \\\n",
       "0  119676867754399                                                      \n",
       "1  118949597827126  Which operating system have you used before? P...   \n",
       "2  118947407827345  Have you been to this location or somewhere cl...   \n",
       "3  118944611160958  Which of the languages is suitable, difficult,...   \n",
       "4  117378127984273  Grew up in Abu Dhabi, United Arab Emirates\\nAp...   \n",
       "\n",
       "                 time                                 images_description  \\\n",
       "0 2023-04-09 20:03:00                          [May be an image of suit]   \n",
       "1 2023-04-09 05:25:00  [May be an image of phone and digital audio pl...   \n",
       "2 2023-04-09 05:22:00            [May be an image of 8 people and beach]   \n",
       "3 2023-04-09 05:19:00  [May be a graphic of text that says '7 bmc Pyt...   \n",
       "4 2023-04-07 00:00:00  [May be an image of skyscraper, twilight and t...   \n",
       "\n",
       "     reactions                                           post_url  \n",
       "0         None  https://facebook.com/profile.php?id=1000913625...  \n",
       "1  {'like': 2}  https://facebook.com/profile.php?id=1000913625...  \n",
       "2  {'like': 1}  https://facebook.com/profile.php?id=1000913625...  \n",
       "3  {'like': 2}  https://facebook.com/profile.php?id=1000913625...  \n",
       "4         None  https://facebook.com/profile.php?id=1000913625...  "
      ]
     },
     "execution_count": 32,
     "metadata": {},
     "output_type": "execute_result"
    }
   ],
   "source": [
    "import pandas as pd\n",
    "\n",
    "post_table = pd.DataFrame(raw_data_diction)\n",
    "post_table.head()"
   ]
  },
  {
   "cell_type": "code",
   "execution_count": 33,
   "id": "01f7ba59",
   "metadata": {
    "tags": []
   },
   "outputs": [
    {
     "data": {
      "text/html": [
       "<div>\n",
       "<style scoped>\n",
       "    .dataframe tbody tr th:only-of-type {\n",
       "        vertical-align: middle;\n",
       "    }\n",
       "\n",
       "    .dataframe tbody tr th {\n",
       "        vertical-align: top;\n",
       "    }\n",
       "\n",
       "    .dataframe thead th {\n",
       "        text-align: right;\n",
       "    }\n",
       "</style>\n",
       "<table border=\"1\" class=\"dataframe\">\n",
       "  <thead>\n",
       "    <tr style=\"text-align: right;\">\n",
       "      <th></th>\n",
       "      <th>post_id</th>\n",
       "      <th>commenter_name</th>\n",
       "      <th>comment_time</th>\n",
       "      <th>comment_text</th>\n",
       "      <th>replies</th>\n",
       "    </tr>\n",
       "  </thead>\n",
       "  <tbody>\n",
       "    <tr>\n",
       "      <th>0</th>\n",
       "      <td>118949597827126</td>\n",
       "      <td>Abdullah Al-Barhami</td>\n",
       "      <td>2023-03-28</td>\n",
       "      <td>iOS , windows , Android</td>\n",
       "      <td>no reply</td>\n",
       "    </tr>\n",
       "    <tr>\n",
       "      <th>1</th>\n",
       "      <td>118949597827126</td>\n",
       "      <td>Hamad Alsuwaidi</td>\n",
       "      <td>2023-03-28</td>\n",
       "      <td>window 7 is pretty much cool and simple to use</td>\n",
       "      <td>no reply</td>\n",
       "    </tr>\n",
       "    <tr>\n",
       "      <th>2</th>\n",
       "      <td>118947407827345</td>\n",
       "      <td>Hamad Alsuwaidi</td>\n",
       "      <td>2023-03-28</td>\n",
       "      <td>not really but somewhere close</td>\n",
       "      <td>no reply</td>\n",
       "    </tr>\n",
       "    <tr>\n",
       "      <th>3</th>\n",
       "      <td>118944611160958</td>\n",
       "      <td>Abdullah Al-Barhami</td>\n",
       "      <td>2023-03-28</td>\n",
       "      <td>I like python language</td>\n",
       "      <td>no reply</td>\n",
       "    </tr>\n",
       "    <tr>\n",
       "      <th>4</th>\n",
       "      <td>118944611160958</td>\n",
       "      <td>Hamad Alsuwaidi</td>\n",
       "      <td>2023-03-28</td>\n",
       "      <td>java is so boring and difficult to learn, i wi...</td>\n",
       "      <td>no reply</td>\n",
       "    </tr>\n",
       "  </tbody>\n",
       "</table>\n",
       "</div>"
      ],
      "text/plain": [
       "           post_id       commenter_name comment_time  \\\n",
       "0  118949597827126  Abdullah Al-Barhami   2023-03-28   \n",
       "1  118949597827126      Hamad Alsuwaidi   2023-03-28   \n",
       "2  118947407827345      Hamad Alsuwaidi   2023-03-28   \n",
       "3  118944611160958  Abdullah Al-Barhami   2023-03-28   \n",
       "4  118944611160958      Hamad Alsuwaidi   2023-03-28   \n",
       "\n",
       "                                        comment_text   replies  \n",
       "0                            iOS , windows , Android  no reply  \n",
       "1     window 7 is pretty much cool and simple to use  no reply  \n",
       "2                     not really but somewhere close  no reply  \n",
       "3                             I like python language  no reply  \n",
       "4  java is so boring and difficult to learn, i wi...  no reply  "
      ]
     },
     "execution_count": 33,
     "metadata": {},
     "output_type": "execute_result"
    }
   ],
   "source": [
    "comment_table = pd.DataFrame(raw_comment_diction)\n",
    "comment_table.head()"
   ]
  },
  {
   "cell_type": "markdown",
   "id": "49c4f6e3",
   "metadata": {},
   "source": [
    "Post Data "
   ]
  },
  {
   "cell_type": "code",
   "execution_count": 34,
   "id": "6b038ae7",
   "metadata": {
    "tags": []
   },
   "outputs": [
    {
     "data": {
      "text/html": [
       "<div>\n",
       "<style scoped>\n",
       "    .dataframe tbody tr th:only-of-type {\n",
       "        vertical-align: middle;\n",
       "    }\n",
       "\n",
       "    .dataframe tbody tr th {\n",
       "        vertical-align: top;\n",
       "    }\n",
       "\n",
       "    .dataframe thead th {\n",
       "        text-align: right;\n",
       "    }\n",
       "</style>\n",
       "<table border=\"1\" class=\"dataframe\">\n",
       "  <thead>\n",
       "    <tr style=\"text-align: right;\">\n",
       "      <th></th>\n",
       "      <th>post_id</th>\n",
       "      <th>text</th>\n",
       "      <th>images_description</th>\n",
       "    </tr>\n",
       "  </thead>\n",
       "  <tbody>\n",
       "    <tr>\n",
       "      <th>0</th>\n",
       "      <td>119676867754399</td>\n",
       "      <td>no content</td>\n",
       "      <td>may be an image of suit</td>\n",
       "    </tr>\n",
       "    <tr>\n",
       "      <th>1</th>\n",
       "      <td>118949597827126</td>\n",
       "      <td>which operating system have you used before pl...</td>\n",
       "      <td>may be an image of phone and digital audio player</td>\n",
       "    </tr>\n",
       "    <tr>\n",
       "      <th>2</th>\n",
       "      <td>118947407827345</td>\n",
       "      <td>have you been to this location or somewhere cl...</td>\n",
       "      <td>may be an image of 8 people and beach</td>\n",
       "    </tr>\n",
       "    <tr>\n",
       "      <th>3</th>\n",
       "      <td>118944611160958</td>\n",
       "      <td>which of the languages is suitable difficult a...</td>\n",
       "      <td>may be a graphic of text that says '7 bmc pyth...</td>\n",
       "    </tr>\n",
       "    <tr>\n",
       "      <th>4</th>\n",
       "      <td>117378127984273</td>\n",
       "      <td>grew up in abu dhabi united arab emirates\\napr...</td>\n",
       "      <td>may be an image of skyscraper, twilight and text</td>\n",
       "    </tr>\n",
       "    <tr>\n",
       "      <th>5</th>\n",
       "      <td>117376481317771</td>\n",
       "      <td>born on april 11 1998</td>\n",
       "      <td>no content</td>\n",
       "    </tr>\n",
       "  </tbody>\n",
       "</table>\n",
       "</div>"
      ],
      "text/plain": [
       "           post_id                                               text  \\\n",
       "0  119676867754399                                         no content   \n",
       "1  118949597827126  which operating system have you used before pl...   \n",
       "2  118947407827345  have you been to this location or somewhere cl...   \n",
       "3  118944611160958  which of the languages is suitable difficult a...   \n",
       "4  117378127984273  grew up in abu dhabi united arab emirates\\napr...   \n",
       "5  117376481317771                              born on april 11 1998   \n",
       "\n",
       "                                  images_description  \n",
       "0                            may be an image of suit  \n",
       "1  may be an image of phone and digital audio player  \n",
       "2              may be an image of 8 people and beach  \n",
       "3  may be a graphic of text that says '7 bmc pyth...  \n",
       "4   may be an image of skyscraper, twilight and text  \n",
       "5                                         no content  "
      ]
     },
     "execution_count": 34,
     "metadata": {},
     "output_type": "execute_result"
    }
   ],
   "source": [
    "import pandas as pd \n",
    "import numpy as np \n",
    "from nltk.corpus import stopwords\n",
    "import string\n",
    "\n",
    "# postdata = pd.read_csv('user_post_data.csv')\n",
    "post_data = post_table[['post_id','text', 'images_description']]\n",
    "post_data\n",
    "\n",
    "st = stopwords.words('english')\n",
    "post_data = post_data.replace([np.NAN, '[]', ''], 'no content')\n",
    "\n",
    "def clean_data(data):\n",
    "    data= ''.join([d.lower() for d in data if not d in string.punctuation])\n",
    "    return data\n",
    "\n",
    "post_data['text'] = post_data['text'].apply(lambda x: clean_data(x))\n",
    "post_data['images_description'] = post_data['images_description'].apply(lambda x: clean_data(x))\n",
    "post_data"
   ]
  },
  {
   "cell_type": "code",
   "execution_count": 35,
   "id": "fc25a0ad",
   "metadata": {
    "tags": []
   },
   "outputs": [],
   "source": [
    "post_data.to_csv('user_post_data.csv', index=False)\n",
    "comment_table.to_csv('comment_table.csv.', index=False)"
   ]
  },
  {
   "cell_type": "code",
   "execution_count": 36,
   "id": "09cd4b7f",
   "metadata": {
    "tags": []
   },
   "outputs": [],
   "source": [
    "import pandas as pd \n",
    "\n",
    "post_data = pd.read_csv('user_post_data.csv')\n",
    "comment_table = pd.read_csv('comment_table.csv.')"
   ]
  },
  {
   "cell_type": "markdown",
   "id": "cd78ca8b",
   "metadata": {},
   "source": [
    "Saving Comment an Post"
   ]
  },
  {
   "cell_type": "markdown",
   "id": "75f32734",
   "metadata": {},
   "source": [
    "Sentiment analyzer and probability score"
   ]
  },
  {
   "cell_type": "code",
   "execution_count": 56,
   "id": "ca3a32b9",
   "metadata": {},
   "outputs": [],
   "source": [
    "import joblib\n",
    "from nltk.tokenize import word_tokenize\n",
    "from nltk.stem import PorterStemmer\n",
    "from nltk.corpus import stopwords\n",
    "import string\n",
    "\n",
    "pt_stem = PorterStemmer()\n",
    "stop_word = stopwords.words('english')\n",
    "# return sentiment from tex\n",
    "\n",
    "\n",
    "\n",
    "# sentiment_analyzer('i hate it', model)"
   ]
  },
  {
   "cell_type": "code",
   "execution_count": 38,
   "id": "2f4130b0",
   "metadata": {
    "tags": []
   },
   "outputs": [
    {
     "data": {
      "text/html": [
       "<div>\n",
       "<style scoped>\n",
       "    .dataframe tbody tr th:only-of-type {\n",
       "        vertical-align: middle;\n",
       "    }\n",
       "\n",
       "    .dataframe tbody tr th {\n",
       "        vertical-align: top;\n",
       "    }\n",
       "\n",
       "    .dataframe thead th {\n",
       "        text-align: right;\n",
       "    }\n",
       "</style>\n",
       "<table border=\"1\" class=\"dataframe\">\n",
       "  <thead>\n",
       "    <tr style=\"text-align: right;\">\n",
       "      <th></th>\n",
       "      <th>post_id</th>\n",
       "      <th>text</th>\n",
       "      <th>images_description</th>\n",
       "      <th>text_score(%)</th>\n",
       "      <th>images_description_score(%)</th>\n",
       "      <th>final_score(%)</th>\n",
       "    </tr>\n",
       "  </thead>\n",
       "  <tbody>\n",
       "    <tr>\n",
       "      <th>0</th>\n",
       "      <td>119676867754399</td>\n",
       "      <td>no content</td>\n",
       "      <td>may be an image of suit</td>\n",
       "      <td>0.000000</td>\n",
       "      <td>0.0</td>\n",
       "      <td>0</td>\n",
       "    </tr>\n",
       "    <tr>\n",
       "      <th>1</th>\n",
       "      <td>118949597827126</td>\n",
       "      <td>which operating system have you used before pl...</td>\n",
       "      <td>may be an image of phone and digital audio player</td>\n",
       "      <td>0.000000</td>\n",
       "      <td>0.0</td>\n",
       "      <td>0</td>\n",
       "    </tr>\n",
       "    <tr>\n",
       "      <th>2</th>\n",
       "      <td>118947407827345</td>\n",
       "      <td>have you been to this location or somewhere cl...</td>\n",
       "      <td>may be an image of 8 people and beach</td>\n",
       "      <td>0.000000</td>\n",
       "      <td>0.0</td>\n",
       "      <td>0</td>\n",
       "    </tr>\n",
       "    <tr>\n",
       "      <th>3</th>\n",
       "      <td>118944611160958</td>\n",
       "      <td>which of the languages is suitable difficult a...</td>\n",
       "      <td>may be a graphic of text that says '7 bmc pyth...</td>\n",
       "      <td>0.000000</td>\n",
       "      <td>0.0</td>\n",
       "      <td>0</td>\n",
       "    </tr>\n",
       "    <tr>\n",
       "      <th>4</th>\n",
       "      <td>117378127984273</td>\n",
       "      <td>grew up in abu dhabi united arab emirates\\napr...</td>\n",
       "      <td>may be an image of skyscraper, twilight and text</td>\n",
       "      <td>0.215686</td>\n",
       "      <td>0.0</td>\n",
       "      <td>0</td>\n",
       "    </tr>\n",
       "    <tr>\n",
       "      <th>5</th>\n",
       "      <td>117376481317771</td>\n",
       "      <td>born on april 11 1998</td>\n",
       "      <td>no content</td>\n",
       "      <td>0.058824</td>\n",
       "      <td>0.0</td>\n",
       "      <td>0</td>\n",
       "    </tr>\n",
       "  </tbody>\n",
       "</table>\n",
       "</div>"
      ],
      "text/plain": [
       "           post_id                                               text  \\\n",
       "0  119676867754399                                         no content   \n",
       "1  118949597827126  which operating system have you used before pl...   \n",
       "2  118947407827345  have you been to this location or somewhere cl...   \n",
       "3  118944611160958  which of the languages is suitable difficult a...   \n",
       "4  117378127984273  grew up in abu dhabi united arab emirates\\napr...   \n",
       "5  117376481317771                              born on april 11 1998   \n",
       "\n",
       "                                  images_description  text_score(%)  \\\n",
       "0                            may be an image of suit       0.000000   \n",
       "1  may be an image of phone and digital audio player       0.000000   \n",
       "2              may be an image of 8 people and beach       0.000000   \n",
       "3  may be a graphic of text that says '7 bmc pyth...       0.000000   \n",
       "4   may be an image of skyscraper, twilight and text       0.215686   \n",
       "5                                         no content       0.058824   \n",
       "\n",
       "   images_description_score(%)  final_score(%)  \n",
       "0                          0.0               0  \n",
       "1                          0.0               0  \n",
       "2                          0.0               0  \n",
       "3                          0.0               0  \n",
       "4                          0.0               0  \n",
       "5                          0.0               0  "
      ]
     },
     "execution_count": 38,
     "metadata": {},
     "output_type": "execute_result"
    }
   ],
   "source": [
    "\n",
    "from nltk.tokenize import word_tokenize\n",
    "from nltk.tokenize import word_tokenize\n",
    "from nltk.stem import PorterStemmer\n",
    "from nltk.corpus import stopwords\n",
    "import json\n",
    "import string\n",
    "import joblib\n",
    "\n",
    "pt_stem = PorterStemmer()\n",
    "st = stopwords.words('english')\n",
    "\n",
    "# cleaning text ===> removal of punctuation, stemming and stopword removal \n",
    "def clean_dataset(dataset):\n",
    "\n",
    "    token_word = [word.lower() for word in word_tokenize(dataset)]\n",
    "    clean_word = [token for token in token_word if not token in st]\n",
    "    clean_word = ' '.join([cl_word for cl_word in clean_word if not cl_word in string.punctuation])\n",
    "\n",
    "    return clean_word\n",
    "\n",
    "# LOADING USER FACEBOOK PROFILE... \n",
    "def get_facebook_profile():\n",
    "    with open('profile.json', 'r') as file: \n",
    "        data = json.load(file)\n",
    "    return data\n",
    "\n",
    "\n",
    "profile_dict = get_facebook_profile()\n",
    "# print(profile_dict)\n",
    "\n",
    "\n",
    "def personal_data_vulnerability_score(profile, datas):\n",
    "    prof_data = []\n",
    "    for k,v in profile.items():\n",
    "        prof_data.append(str(v).lower())\n",
    "        # print(v)\n",
    "        \n",
    "\n",
    "    count_data = ' '.join(prof_data)\n",
    "    # print(count_data)\n",
    "\n",
    "    probability_score = []\n",
    "    # clean comement.. and post\n",
    "    for data in datas: \n",
    "        # print(data)\n",
    "        clean = clean_dataset(data).split()\n",
    "        \n",
    "    \n",
    "\n",
    "        # clean user profile\n",
    "        prof_data = clean_dataset(count_data).split()\n",
    "\n",
    "        prob_count = 0\n",
    "        for com in clean: \n",
    "            # print(com)\n",
    "            if com.lower() in prof_data: \n",
    "                prob_count += 1\n",
    "\n",
    "        if len(prof_data) == 0: \n",
    "            \n",
    "            probability_score.append(0)\n",
    "             \n",
    "        else: \n",
    "            probility_count = prob_count/len(prof_data)\n",
    "            probability_score.append(probility_count)\n",
    "    \n",
    "    return probability_score\n",
    "\n",
    "# load model ....\n",
    "model = joblib.load('naive_bayes_sentiment_analyzer_model.jb')\n",
    "def sentiment_analyzer(text, model):\n",
    "    # clean data\n",
    "    clean_data = clean_dataset(text)\n",
    "\n",
    "    # loading tfid model .... \n",
    "    tfid = joblib.load('tfidf_sentiment_vocab.pk')\n",
    "\n",
    "    # vectorizing\n",
    "    word_vector = tfid.transform([clean_data])\n",
    "\n",
    "    # load_model\n",
    "    sentiment_model = model\n",
    "    # make prediction\n",
    "    predict = sentiment_model.predict(word_vector.toarray())\n",
    "\n",
    "    sent_string = ''\n",
    "\n",
    "    if predict[0] == 0:\n",
    "        sent_string = 'Negative'\n",
    "    else: \n",
    "        sent_string = 'Postive'\n",
    "\n",
    "\n",
    "    return sent_string, predict[0]  \n",
    "\n",
    "\n",
    "def sentiment_score(texts, model):\n",
    "    texts = [''.join(text) for text in texts]\n",
    "    sentiments = []\n",
    "    for text in texts: \n",
    "        # print('MY TEXT : ', text=='no reply')\n",
    "        \n",
    "        if text == 'no reply':\n",
    "            sentiment = ('Neutral', 0.5)\n",
    "            sentiments.append(sentiment)\n",
    "        else:\n",
    "            sentiment = sentiment_analyzer(text, model) \n",
    "            sentiments.append(sentiment) \n",
    "            \n",
    "        \n",
    "    # hello... \n",
    "    print(sentiments)\n",
    "    return sentiments\n",
    "\n",
    "\n",
    "# vulnerability score\n",
    "_scores_text  = personal_data_vulnerability_score(profile_dict, post_data['text'].values)\n",
    "_scores_image_text = personal_data_vulnerability_score(profile_dict, post_data['images_description'])  \n",
    "\n",
    "\n",
    "\n",
    "# function to calculate probability score\n",
    "def post_table_probability(_scores_text, _scores_image_text):\n",
    "    post_data['text_score(%)'] = _scores_text\n",
    "    post_data['images_description_score(%)'] = _scores_image_text\n",
    "    final_score = [int(v[0] + v[1]) for v in zip(_scores_text , _scores_image_text)]\n",
    "    post_data['final_score(%)'] = final_score\n",
    "\n",
    "post_table_probability(_scores_text, _scores_image_text)\n",
    "post_data\n",
    "\n",
    "\n",
    "# adding sentiment column \n",
    "# post_data['text_sent'] = _sentiment_text \n",
    "post_data"
   ]
  },
  {
   "cell_type": "markdown",
   "id": "41ccff72",
   "metadata": {},
   "source": [
    "Comment Data"
   ]
  },
  {
   "cell_type": "code",
   "execution_count": 39,
   "id": "a7f4db88",
   "metadata": {
    "tags": []
   },
   "outputs": [
    {
     "name": "stdout",
     "output_type": "stream",
     "text": [
      "[0.0, 0.0, 0.0, 0.0, 0.0] [0.0, 0.0, 0.0, 0.0, 0.0]\n",
      "deburg\n",
      "[('Postive', 1), ('Postive', 1), ('Postive', 1), ('Postive', 1), ('Negative', 0)]\n",
      "[('Neutral', 0.5), ('Neutral', 0.5), ('Neutral', 0.5), ('Neutral', 0.5), ('Neutral', 0.5)]\n"
     ]
    },
    {
     "data": {
      "text/html": [
       "<div>\n",
       "<style scoped>\n",
       "    .dataframe tbody tr th:only-of-type {\n",
       "        vertical-align: middle;\n",
       "    }\n",
       "\n",
       "    .dataframe tbody tr th {\n",
       "        vertical-align: top;\n",
       "    }\n",
       "\n",
       "    .dataframe thead th {\n",
       "        text-align: right;\n",
       "    }\n",
       "</style>\n",
       "<table border=\"1\" class=\"dataframe\">\n",
       "  <thead>\n",
       "    <tr style=\"text-align: right;\">\n",
       "      <th></th>\n",
       "      <th>post_id</th>\n",
       "      <th>comment_text</th>\n",
       "      <th>replies</th>\n",
       "      <th>comment_text(%)</th>\n",
       "      <th>replies(%)</th>\n",
       "      <th>final_score(%)</th>\n",
       "      <th>comment_sent</th>\n",
       "      <th>reply_sent</th>\n",
       "    </tr>\n",
       "  </thead>\n",
       "  <tbody>\n",
       "    <tr>\n",
       "      <th>0</th>\n",
       "      <td>118949597827126</td>\n",
       "      <td>iOS , windows , Android</td>\n",
       "      <td>no reply</td>\n",
       "      <td>0.0</td>\n",
       "      <td>0.0</td>\n",
       "      <td>0</td>\n",
       "      <td>(Postive, 1)</td>\n",
       "      <td>(Neutral, 0.5)</td>\n",
       "    </tr>\n",
       "    <tr>\n",
       "      <th>1</th>\n",
       "      <td>118949597827126</td>\n",
       "      <td>window 7 is pretty much cool and simple to use</td>\n",
       "      <td>no reply</td>\n",
       "      <td>0.0</td>\n",
       "      <td>0.0</td>\n",
       "      <td>0</td>\n",
       "      <td>(Postive, 1)</td>\n",
       "      <td>(Neutral, 0.5)</td>\n",
       "    </tr>\n",
       "    <tr>\n",
       "      <th>2</th>\n",
       "      <td>118947407827345</td>\n",
       "      <td>not really but somewhere close</td>\n",
       "      <td>no reply</td>\n",
       "      <td>0.0</td>\n",
       "      <td>0.0</td>\n",
       "      <td>0</td>\n",
       "      <td>(Postive, 1)</td>\n",
       "      <td>(Neutral, 0.5)</td>\n",
       "    </tr>\n",
       "    <tr>\n",
       "      <th>3</th>\n",
       "      <td>118944611160958</td>\n",
       "      <td>I like python language</td>\n",
       "      <td>no reply</td>\n",
       "      <td>0.0</td>\n",
       "      <td>0.0</td>\n",
       "      <td>0</td>\n",
       "      <td>(Postive, 1)</td>\n",
       "      <td>(Neutral, 0.5)</td>\n",
       "    </tr>\n",
       "    <tr>\n",
       "      <th>4</th>\n",
       "      <td>118944611160958</td>\n",
       "      <td>java is so boring and difficult to learn, i wi...</td>\n",
       "      <td>no reply</td>\n",
       "      <td>0.0</td>\n",
       "      <td>0.0</td>\n",
       "      <td>0</td>\n",
       "      <td>(Negative, 0)</td>\n",
       "      <td>(Neutral, 0.5)</td>\n",
       "    </tr>\n",
       "  </tbody>\n",
       "</table>\n",
       "</div>"
      ],
      "text/plain": [
       "           post_id                                       comment_text  \\\n",
       "0  118949597827126                            iOS , windows , Android   \n",
       "1  118949597827126     window 7 is pretty much cool and simple to use   \n",
       "2  118947407827345                     not really but somewhere close   \n",
       "3  118944611160958                             I like python language   \n",
       "4  118944611160958  java is so boring and difficult to learn, i wi...   \n",
       "\n",
       "    replies  comment_text(%)  replies(%)  final_score(%)   comment_sent  \\\n",
       "0  no reply              0.0         0.0               0   (Postive, 1)   \n",
       "1  no reply              0.0         0.0               0   (Postive, 1)   \n",
       "2  no reply              0.0         0.0               0   (Postive, 1)   \n",
       "3  no reply              0.0         0.0               0   (Postive, 1)   \n",
       "4  no reply              0.0         0.0               0  (Negative, 0)   \n",
       "\n",
       "       reply_sent  \n",
       "0  (Neutral, 0.5)  \n",
       "1  (Neutral, 0.5)  \n",
       "2  (Neutral, 0.5)  \n",
       "3  (Neutral, 0.5)  \n",
       "4  (Neutral, 0.5)  "
      ]
     },
     "execution_count": 39,
     "metadata": {},
     "output_type": "execute_result"
    }
   ],
   "source": [
    "# _scores  = personal_data_vulnerability_score(profile_dict, com['text'].values)\n",
    "comment_table = comment_table[['post_id', 'comment_text', 'replies']]\n",
    "\n",
    "comment_text_prob = personal_data_vulnerability_score(profile_dict, comment_table['comment_text'].values)\n",
    "comment_reply_prob = personal_data_vulnerability_score(profile_dict, comment_table['replies'].values)\n",
    "\n",
    "print(comment_text_prob, comment_reply_prob)\n",
    "\n",
    "def comment_table_probability(comment_text_prob, comment_reply_prob):\n",
    "    print('deburg')\n",
    "    comment_table['comment_text(%)'] = comment_text_prob\n",
    "    comment_table['replies(%)'] = comment_reply_prob\n",
    "    final_score = [int((v[0] + v[1])*100) for v in zip(comment_text_prob , comment_reply_prob)]\n",
    "    comment_table['final_score(%)'] = final_score\n",
    "\n",
    "# probability score\n",
    "comment_table_probability(comment_text_prob, comment_reply_prob)\n",
    "\n",
    "# sentiment\n",
    "_sentiment_com_text  = sentiment_score(comment_table['comment_text'].values, model)\n",
    "_sentiment_reply_text  = sentiment_score(comment_table['replies'].values, model)\n",
    "\n",
    "# adding sentiment column \n",
    "comment_table['comment_sent'] = _sentiment_com_text \n",
    "comment_table['reply_sent'] = _sentiment_reply_text \n",
    "\n",
    "comment_table"
   ]
  },
  {
   "cell_type": "code",
   "execution_count": 41,
   "id": "eada5cb7",
   "metadata": {
    "tags": []
   },
   "outputs": [],
   "source": [
    "post_data.to_csv('user_post_data.csv', index=False)\n",
    "comment_table.to_csv('comment_table.csv', index=False)"
   ]
  },
  {
   "cell_type": "code",
   "execution_count": 42,
   "id": "fbc9740d",
   "metadata": {
    "tags": []
   },
   "outputs": [
    {
     "data": {
      "text/html": [
       "<div>\n",
       "<style scoped>\n",
       "    .dataframe tbody tr th:only-of-type {\n",
       "        vertical-align: middle;\n",
       "    }\n",
       "\n",
       "    .dataframe tbody tr th {\n",
       "        vertical-align: top;\n",
       "    }\n",
       "\n",
       "    .dataframe thead th {\n",
       "        text-align: right;\n",
       "    }\n",
       "</style>\n",
       "<table border=\"1\" class=\"dataframe\">\n",
       "  <thead>\n",
       "    <tr style=\"text-align: right;\">\n",
       "      <th></th>\n",
       "      <th>post_id</th>\n",
       "      <th>comment_text</th>\n",
       "      <th>replies</th>\n",
       "      <th>comment_text(%)</th>\n",
       "      <th>replies(%)</th>\n",
       "      <th>final_score(%)</th>\n",
       "      <th>comment_sent</th>\n",
       "      <th>reply_sent</th>\n",
       "    </tr>\n",
       "  </thead>\n",
       "  <tbody>\n",
       "    <tr>\n",
       "      <th>0</th>\n",
       "      <td>118949597827126</td>\n",
       "      <td>iOS , windows , Android</td>\n",
       "      <td>no reply</td>\n",
       "      <td>0.0</td>\n",
       "      <td>0.0</td>\n",
       "      <td>0</td>\n",
       "      <td>('Postive', 1)</td>\n",
       "      <td>('Neutral', 0.5)</td>\n",
       "    </tr>\n",
       "    <tr>\n",
       "      <th>1</th>\n",
       "      <td>118949597827126</td>\n",
       "      <td>window 7 is pretty much cool and simple to use</td>\n",
       "      <td>no reply</td>\n",
       "      <td>0.0</td>\n",
       "      <td>0.0</td>\n",
       "      <td>0</td>\n",
       "      <td>('Postive', 1)</td>\n",
       "      <td>('Neutral', 0.5)</td>\n",
       "    </tr>\n",
       "    <tr>\n",
       "      <th>2</th>\n",
       "      <td>118947407827345</td>\n",
       "      <td>not really but somewhere close</td>\n",
       "      <td>no reply</td>\n",
       "      <td>0.0</td>\n",
       "      <td>0.0</td>\n",
       "      <td>0</td>\n",
       "      <td>('Postive', 1)</td>\n",
       "      <td>('Neutral', 0.5)</td>\n",
       "    </tr>\n",
       "    <tr>\n",
       "      <th>3</th>\n",
       "      <td>118944611160958</td>\n",
       "      <td>I like python language</td>\n",
       "      <td>no reply</td>\n",
       "      <td>0.0</td>\n",
       "      <td>0.0</td>\n",
       "      <td>0</td>\n",
       "      <td>('Postive', 1)</td>\n",
       "      <td>('Neutral', 0.5)</td>\n",
       "    </tr>\n",
       "    <tr>\n",
       "      <th>4</th>\n",
       "      <td>118944611160958</td>\n",
       "      <td>java is so boring and difficult to learn, i wi...</td>\n",
       "      <td>no reply</td>\n",
       "      <td>0.0</td>\n",
       "      <td>0.0</td>\n",
       "      <td>0</td>\n",
       "      <td>('Negative', 0)</td>\n",
       "      <td>('Neutral', 0.5)</td>\n",
       "    </tr>\n",
       "  </tbody>\n",
       "</table>\n",
       "</div>"
      ],
      "text/plain": [
       "           post_id                                       comment_text  \\\n",
       "0  118949597827126                            iOS , windows , Android   \n",
       "1  118949597827126     window 7 is pretty much cool and simple to use   \n",
       "2  118947407827345                     not really but somewhere close   \n",
       "3  118944611160958                             I like python language   \n",
       "4  118944611160958  java is so boring and difficult to learn, i wi...   \n",
       "\n",
       "    replies  comment_text(%)  replies(%)  final_score(%)     comment_sent  \\\n",
       "0  no reply              0.0         0.0               0   ('Postive', 1)   \n",
       "1  no reply              0.0         0.0               0   ('Postive', 1)   \n",
       "2  no reply              0.0         0.0               0   ('Postive', 1)   \n",
       "3  no reply              0.0         0.0               0   ('Postive', 1)   \n",
       "4  no reply              0.0         0.0               0  ('Negative', 0)   \n",
       "\n",
       "         reply_sent  \n",
       "0  ('Neutral', 0.5)  \n",
       "1  ('Neutral', 0.5)  \n",
       "2  ('Neutral', 0.5)  \n",
       "3  ('Neutral', 0.5)  \n",
       "4  ('Neutral', 0.5)  "
      ]
     },
     "execution_count": 42,
     "metadata": {},
     "output_type": "execute_result"
    }
   ],
   "source": [
    "import pandas as pd \n",
    "\n",
    "pt = pd.read_csv('comment_table.csv')\n",
    "pt"
   ]
  },
  {
   "cell_type": "code",
   "execution_count": 43,
   "id": "e64f94ef",
   "metadata": {
    "tags": []
   },
   "outputs": [],
   "source": [
    "recommendation_holder = []\n",
    "for index in pt.index:\n",
    "    # print(pt.iloc[index]['text'])\n",
    "    score = pt.iloc[index]['final_score(%)']\n",
    "    recommendation_holder.append(score)\n",
    "\n"
   ]
  },
  {
   "cell_type": "markdown",
   "id": "5a88892e",
   "metadata": {},
   "source": [
    "DATABASE UPDATING..."
   ]
  },
  {
   "cell_type": "code",
   "execution_count": 44,
   "id": "0c257978",
   "metadata": {
    "tags": []
   },
   "outputs": [],
   "source": [
    "import pandas as pd \n",
    "import sqlalchemy\n",
    "\n",
    "\n",
    "# creating engine \n",
    "engine = sqlalchemy.create_engine('sqlite:///social_crapper.db')\n",
    "connection = engine.connect()\n",
    "\n",
    "credential_table  = pd.read_sql_table('credentials_table', connection) "
   ]
  },
  {
   "cell_type": "markdown",
   "id": "16c6eedb",
   "metadata": {},
   "source": [
    "UPDATA CREDENTIAL DATA"
   ]
  },
  {
   "cell_type": "code",
   "execution_count": 45,
   "id": "af2e6a28",
   "metadata": {
    "tags": []
   },
   "outputs": [
    {
     "name": "stdout",
     "output_type": "stream",
     "text": [
      "update successful\n"
     ]
    }
   ],
   "source": [
    "import json\n",
    "import pandas as pd\n",
    "\n",
    "with open('credentials.json', 'r') as file: \n",
    "    credentials = json.load(file)\n",
    "\n",
    "if credentials['username'] != \"\": \n",
    "    cre_table = pd.DataFrame(credentials, index=[0])\n",
    "    # print(cre_table)\n",
    "\n",
    "    cre_table.to_sql(\n",
    "    name=\"credential_table\", \n",
    "    con=connection, \n",
    "    if_exists=\"replace\", \n",
    "    index=False\n",
    "    )\n",
    "    \n",
    "    connection.commit()\n",
    "    print(\"update successful\")\n",
    "else: \n",
    "    print(\"Credentials Invalid\")\n"
   ]
  },
  {
   "cell_type": "markdown",
   "id": "97c6b2ee",
   "metadata": {},
   "source": [
    "CREATING POST TABLE "
   ]
  },
  {
   "cell_type": "code",
   "execution_count": 46,
   "id": "39ac16a0",
   "metadata": {
    "tags": []
   },
   "outputs": [],
   "source": [
    "import pandas as pd \n",
    "com_table = pd.read_csv('user_post_data.csv')\n",
    "com_table.to_sql(\n",
    "    name=\"post_table\", \n",
    "    con=connection, \n",
    "    if_exists=\"replace\", \n",
    "    index=False\n",
    ")\n",
    "connection.commit()"
   ]
  },
  {
   "cell_type": "markdown",
   "id": "22c2940d",
   "metadata": {},
   "source": [
    "CREATING COMMENT TABLE "
   ]
  },
  {
   "cell_type": "code",
   "execution_count": 47,
   "id": "11b49238",
   "metadata": {
    "tags": []
   },
   "outputs": [],
   "source": [
    "import pandas as pd \n",
    "com_table = pd.read_csv('comment_table.csv')\n",
    "com_table.to_sql(\n",
    "    name=\"comment_table\", \n",
    "    con=connection, \n",
    "    if_exists=\"replace\", \n",
    "    index=False\n",
    ")\n",
    "connection.commit()"
   ]
  },
  {
   "cell_type": "markdown",
   "id": "8dcce7bb",
   "metadata": {},
   "source": [
    "UPDATING PROFILE DATA"
   ]
  },
  {
   "cell_type": "code",
   "execution_count": 48,
   "id": "78002a46",
   "metadata": {
    "tags": []
   },
   "outputs": [
    {
     "name": "stdout",
     "output_type": "stream",
     "text": [
      "update successful\n"
     ]
    },
    {
     "data": {
      "text/html": [
       "<div>\n",
       "<style scoped>\n",
       "    .dataframe tbody tr th:only-of-type {\n",
       "        vertical-align: middle;\n",
       "    }\n",
       "\n",
       "    .dataframe tbody tr th {\n",
       "        vertical-align: top;\n",
       "    }\n",
       "\n",
       "    .dataframe thead th {\n",
       "        text-align: right;\n",
       "    }\n",
       "</style>\n",
       "<table border=\"1\" class=\"dataframe\">\n",
       "  <thead>\n",
       "    <tr style=\"text-align: right;\">\n",
       "      <th></th>\n",
       "      <th>friend_count</th>\n",
       "      <th>id</th>\n",
       "      <th>name</th>\n",
       "      <th>work</th>\n",
       "      <th>places lived</th>\n",
       "      <th>contact info\\nedit</th>\n",
       "      <th>basic info\\nedit</th>\n",
       "      <th>other names</th>\n",
       "      <th>relationship</th>\n",
       "      <th>family members</th>\n",
       "      <th>about</th>\n",
       "      <th>life events</th>\n",
       "    </tr>\n",
       "  </thead>\n",
       "  <tbody>\n",
       "    <tr>\n",
       "      <th>0</th>\n",
       "      <td>2</td>\n",
       "      <td>100091362595291</td>\n",
       "      <td>Hamad Alsuwaidi</td>\n",
       "      <td>Add work\\nDubai Electricity and Water Authorit...</td>\n",
       "      <td>Abu Dhabi, United Arab Emirates</td>\n",
       "      <td>Edit\\n+971 50 561 1160\\nMobile\\nhamad1076663@g...</td>\n",
       "      <td>Edit\\nApril 11, 1998\\nBirthday\\nMale\\nGender</td>\n",
       "      <td>Add a nickname, a birth name...</td>\n",
       "      <td>Add a relationship status</td>\n",
       "      <td>Add family member</td>\n",
       "      <td>Write about yourself</td>\n",
       "      <td></td>\n",
       "    </tr>\n",
       "  </tbody>\n",
       "</table>\n",
       "</div>"
      ],
      "text/plain": [
       "   friend_count               id             name  \\\n",
       "0             2  100091362595291  Hamad Alsuwaidi   \n",
       "\n",
       "                                                work  \\\n",
       "0  Add work\\nDubai Electricity and Water Authorit...   \n",
       "\n",
       "                      places lived  \\\n",
       "0  Abu Dhabi, United Arab Emirates   \n",
       "\n",
       "                                  contact info\\nedit  \\\n",
       "0  Edit\\n+971 50 561 1160\\nMobile\\nhamad1076663@g...   \n",
       "\n",
       "                               basic info\\nedit  \\\n",
       "0  Edit\\nApril 11, 1998\\nBirthday\\nMale\\nGender   \n",
       "\n",
       "                       other names               relationship  \\\n",
       "0  Add a nickname, a birth name...  Add a relationship status   \n",
       "\n",
       "      family members                 about life events  \n",
       "0  Add family member  Write about yourself              "
      ]
     },
     "execution_count": 48,
     "metadata": {},
     "output_type": "execute_result"
    }
   ],
   "source": [
    "import json\n",
    "import pandas as pd\n",
    "\n",
    "with open('profile.json', 'r') as file: \n",
    "    profil_j = json.load(file)\n",
    "\n",
    "prof_table = pd.DataFrame(profil_j, index=[0])\n",
    "\n",
    "prof_table.to_sql(\n",
    "name=\"credential_table\", \n",
    "con=connection, \n",
    "if_exists=\"replace\", \n",
    "index=False\n",
    ")\n",
    "\n",
    "connection.commit()\n",
    "print(\"update successful\")\n",
    "\n",
    "prof_table\n"
   ]
  },
  {
   "cell_type": "code",
   "execution_count": 49,
   "id": "1c72242e",
   "metadata": {
    "tags": []
   },
   "outputs": [],
   "source": [
    "# DISCONNECTING \n",
    "connection.close()"
   ]
  }
 ],
 "metadata": {
  "kernelspec": {
   "display_name": "Python 3 (ipykernel)",
   "language": "python",
   "name": "python3"
  },
  "language_info": {
   "codemirror_mode": {
    "name": "ipython",
    "version": 3
   },
   "file_extension": ".py",
   "mimetype": "text/x-python",
   "name": "python",
   "nbconvert_exporter": "python",
   "pygments_lexer": "ipython3",
   "version": "3.9.5"
  },
  "vscode": {
   "interpreter": {
    "hash": "f6246b25e200e4c5124e3e61789ac81350562f0761bbcf92ad9e48654207659c"
   }
  }
 },
 "nbformat": 4,
 "nbformat_minor": 5
}
