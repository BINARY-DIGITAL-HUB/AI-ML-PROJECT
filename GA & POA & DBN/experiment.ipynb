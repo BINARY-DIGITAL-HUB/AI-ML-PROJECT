{
 "cells": [
  {
   "cell_type": "markdown",
   "metadata": {},
   "source": [
    "# dataset one ( CC - DDos)"
   ]
  },
  {
   "cell_type": "code",
   "execution_count": 4,
   "metadata": {},
   "outputs": [],
   "source": [
    "# This Python 3 environment comes with many helpful analytics libraries installed\n",
    "# It is defined by the kaggle/python Docker image: https://github.com/kaggle/docker-python\n",
    "# For example, here's several helpful packages to load\n",
    "\n",
    "import numpy as np # linear algebra\n",
    "import pandas as pd # data processing, CSV file I/O (e.g. pd.read_csv)\n",
    "\n",
    "# Input data files are available in the read-only \"../input/\" directory\n",
    "# For example, running this (by clicking run or pressing Shift+Enter) will list all files under the input directory\n",
    "\n",
    "import os\n",
    "for dirname, _, filenames in os.walk('/kaggle/input'):\n",
    "    for filename in filenames:\n",
    "        print(os.path.join(dirname, filename))\n",
    "\n",
    "# You can write up to 20GB to the current directory (/kaggle/working/) that gets preserved as output when you create a version using \"Save & Run All\" \n",
    "# You can also write temporary files to /kaggle/temp/, but they won't be saved outside of the current session"
   ]
  },
  {
   "cell_type": "code",
   "execution_count": 5,
   "metadata": {},
   "outputs": [],
   "source": [
    "import pandas as pd"
   ]
  },
  {
   "cell_type": "code",
   "execution_count": 6,
   "metadata": {},
   "outputs": [
    {
     "data": {
      "text/html": [
       "<div>\n",
       "<style scoped>\n",
       "    .dataframe tbody tr th:only-of-type {\n",
       "        vertical-align: middle;\n",
       "    }\n",
       "\n",
       "    .dataframe tbody tr th {\n",
       "        vertical-align: top;\n",
       "    }\n",
       "\n",
       "    .dataframe thead th {\n",
       "        text-align: right;\n",
       "    }\n",
       "</style>\n",
       "<table border=\"1\" class=\"dataframe\">\n",
       "  <thead>\n",
       "    <tr style=\"text-align: right;\">\n",
       "      <th></th>\n",
       "      <th>Flow ID</th>\n",
       "      <th>Source IP</th>\n",
       "      <th>Source Port</th>\n",
       "      <th>Destination IP</th>\n",
       "      <th>Destination Port</th>\n",
       "      <th>Protocol</th>\n",
       "      <th>Timestamp</th>\n",
       "      <th>Flow Duration</th>\n",
       "      <th>Total Fwd Packets</th>\n",
       "      <th>Total Backward Packets</th>\n",
       "      <th>...</th>\n",
       "      <th>min_seg_size_forward</th>\n",
       "      <th>Active Mean</th>\n",
       "      <th>Active Std</th>\n",
       "      <th>Active Max</th>\n",
       "      <th>Active Min</th>\n",
       "      <th>Idle Mean</th>\n",
       "      <th>Idle Std</th>\n",
       "      <th>Idle Max</th>\n",
       "      <th>Idle Min</th>\n",
       "      <th>Label</th>\n",
       "    </tr>\n",
       "  </thead>\n",
       "  <tbody>\n",
       "    <tr>\n",
       "      <th>0</th>\n",
       "      <td>192.168.10.5-104.16.207.165-54865-443-6</td>\n",
       "      <td>104.16.207.165</td>\n",
       "      <td>443</td>\n",
       "      <td>192.168.10.5</td>\n",
       "      <td>54865</td>\n",
       "      <td>6</td>\n",
       "      <td>7/7/2017 3:30</td>\n",
       "      <td>3</td>\n",
       "      <td>2</td>\n",
       "      <td>0</td>\n",
       "      <td>...</td>\n",
       "      <td>20</td>\n",
       "      <td>0.0</td>\n",
       "      <td>0.0</td>\n",
       "      <td>0</td>\n",
       "      <td>0</td>\n",
       "      <td>0.0</td>\n",
       "      <td>0.0</td>\n",
       "      <td>0</td>\n",
       "      <td>0</td>\n",
       "      <td>BENIGN</td>\n",
       "    </tr>\n",
       "    <tr>\n",
       "      <th>1</th>\n",
       "      <td>192.168.10.5-104.16.28.216-55054-80-6</td>\n",
       "      <td>104.16.28.216</td>\n",
       "      <td>80</td>\n",
       "      <td>192.168.10.5</td>\n",
       "      <td>55054</td>\n",
       "      <td>6</td>\n",
       "      <td>7/7/2017 3:30</td>\n",
       "      <td>109</td>\n",
       "      <td>1</td>\n",
       "      <td>1</td>\n",
       "      <td>...</td>\n",
       "      <td>20</td>\n",
       "      <td>0.0</td>\n",
       "      <td>0.0</td>\n",
       "      <td>0</td>\n",
       "      <td>0</td>\n",
       "      <td>0.0</td>\n",
       "      <td>0.0</td>\n",
       "      <td>0</td>\n",
       "      <td>0</td>\n",
       "      <td>BENIGN</td>\n",
       "    </tr>\n",
       "    <tr>\n",
       "      <th>2</th>\n",
       "      <td>192.168.10.5-104.16.28.216-55055-80-6</td>\n",
       "      <td>104.16.28.216</td>\n",
       "      <td>80</td>\n",
       "      <td>192.168.10.5</td>\n",
       "      <td>55055</td>\n",
       "      <td>6</td>\n",
       "      <td>7/7/2017 3:30</td>\n",
       "      <td>52</td>\n",
       "      <td>1</td>\n",
       "      <td>1</td>\n",
       "      <td>...</td>\n",
       "      <td>20</td>\n",
       "      <td>0.0</td>\n",
       "      <td>0.0</td>\n",
       "      <td>0</td>\n",
       "      <td>0</td>\n",
       "      <td>0.0</td>\n",
       "      <td>0.0</td>\n",
       "      <td>0</td>\n",
       "      <td>0</td>\n",
       "      <td>BENIGN</td>\n",
       "    </tr>\n",
       "  </tbody>\n",
       "</table>\n",
       "<p>3 rows × 85 columns</p>\n",
       "</div>"
      ],
      "text/plain": [
       "                                   Flow ID       Source IP   Source Port  \\\n",
       "0  192.168.10.5-104.16.207.165-54865-443-6  104.16.207.165           443   \n",
       "1    192.168.10.5-104.16.28.216-55054-80-6   104.16.28.216            80   \n",
       "2    192.168.10.5-104.16.28.216-55055-80-6   104.16.28.216            80   \n",
       "\n",
       "   Destination IP   Destination Port   Protocol      Timestamp  \\\n",
       "0    192.168.10.5              54865          6  7/7/2017 3:30   \n",
       "1    192.168.10.5              55054          6  7/7/2017 3:30   \n",
       "2    192.168.10.5              55055          6  7/7/2017 3:30   \n",
       "\n",
       "    Flow Duration   Total Fwd Packets   Total Backward Packets  ...  \\\n",
       "0               3                   2                        0  ...   \n",
       "1             109                   1                        1  ...   \n",
       "2              52                   1                        1  ...   \n",
       "\n",
       "    min_seg_size_forward  Active Mean   Active Std   Active Max   Active Min  \\\n",
       "0                     20          0.0          0.0            0            0   \n",
       "1                     20          0.0          0.0            0            0   \n",
       "2                     20          0.0          0.0            0            0   \n",
       "\n",
       "   Idle Mean   Idle Std   Idle Max   Idle Min   Label  \n",
       "0        0.0        0.0          0          0  BENIGN  \n",
       "1        0.0        0.0          0          0  BENIGN  \n",
       "2        0.0        0.0          0          0  BENIGN  \n",
       "\n",
       "[3 rows x 85 columns]"
      ]
     },
     "execution_count": 6,
     "metadata": {},
     "output_type": "execute_result"
    }
   ],
   "source": [
    "data_path = 'dataset 2/Friday-WorkingHours-Afternoon-DDos.pcap_ISCX.csv'\n",
    "data = pd.read_csv(data_path)\n",
    "data.head(3)"
   ]
  },
  {
   "cell_type": "code",
   "execution_count": 7,
   "metadata": {},
   "outputs": [
    {
     "data": {
      "text/plain": [
       "array(['192.168.10.5-104.16.207.165-54865-443-6',\n",
       "       '192.168.10.5-104.16.28.216-55054-80-6',\n",
       "       '192.168.10.5-104.16.28.216-55055-80-6', ...,\n",
       "       '192.168.10.3-192.168.10.8-445-10414-6',\n",
       "       '192.168.10.3-192.168.10.8-53-51617-17',\n",
       "       '192.168.10.8-72.21.81.253-10398-443-6'], dtype=object)"
      ]
     },
     "execution_count": 7,
     "metadata": {},
     "output_type": "execute_result"
    }
   ],
   "source": [
    "data[data.columns[0]].unique()"
   ]
  },
  {
   "cell_type": "code",
   "execution_count": 9,
   "metadata": {},
   "outputs": [
    {
     "data": {
      "text/html": [
       "<div>\n",
       "<style scoped>\n",
       "    .dataframe tbody tr th:only-of-type {\n",
       "        vertical-align: middle;\n",
       "    }\n",
       "\n",
       "    .dataframe tbody tr th {\n",
       "        vertical-align: top;\n",
       "    }\n",
       "\n",
       "    .dataframe thead th {\n",
       "        text-align: right;\n",
       "    }\n",
       "</style>\n",
       "<table border=\"1\" class=\"dataframe\">\n",
       "  <thead>\n",
       "    <tr style=\"text-align: right;\">\n",
       "      <th></th>\n",
       "      <th>Flow ID</th>\n",
       "      <th>Source IP</th>\n",
       "      <th>Source Port</th>\n",
       "      <th>Destination IP</th>\n",
       "      <th>Destination Port</th>\n",
       "      <th>Protocol</th>\n",
       "      <th>Timestamp</th>\n",
       "      <th>Flow Duration</th>\n",
       "      <th>Total Fwd Packets</th>\n",
       "      <th>Total Backward Packets</th>\n",
       "      <th>...</th>\n",
       "      <th>min_seg_size_forward</th>\n",
       "      <th>Active Mean</th>\n",
       "      <th>Active Std</th>\n",
       "      <th>Active Max</th>\n",
       "      <th>Active Min</th>\n",
       "      <th>Idle Mean</th>\n",
       "      <th>Idle Std</th>\n",
       "      <th>Idle Max</th>\n",
       "      <th>Idle Min</th>\n",
       "      <th>Label</th>\n",
       "    </tr>\n",
       "  </thead>\n",
       "  <tbody>\n",
       "    <tr>\n",
       "      <th>225743</th>\n",
       "      <td>192.168.10.15-8.41.222.187-61323-80-6</td>\n",
       "      <td>8.41.222.187</td>\n",
       "      <td>80</td>\n",
       "      <td>192.168.10.15</td>\n",
       "      <td>61323</td>\n",
       "      <td>6</td>\n",
       "      <td>7/7/2017 5:02</td>\n",
       "      <td>48</td>\n",
       "      <td>2</td>\n",
       "      <td>0</td>\n",
       "      <td>...</td>\n",
       "      <td>20</td>\n",
       "      <td>0.0</td>\n",
       "      <td>0.0</td>\n",
       "      <td>0</td>\n",
       "      <td>0</td>\n",
       "      <td>0.0</td>\n",
       "      <td>0.0</td>\n",
       "      <td>0</td>\n",
       "      <td>0</td>\n",
       "      <td>BENIGN</td>\n",
       "    </tr>\n",
       "    <tr>\n",
       "      <th>225744</th>\n",
       "      <td>192.168.10.15-8.43.72.21-61326-80-6</td>\n",
       "      <td>8.43.72.21</td>\n",
       "      <td>80</td>\n",
       "      <td>192.168.10.15</td>\n",
       "      <td>61326</td>\n",
       "      <td>6</td>\n",
       "      <td>7/7/2017 5:02</td>\n",
       "      <td>68</td>\n",
       "      <td>1</td>\n",
       "      <td>1</td>\n",
       "      <td>...</td>\n",
       "      <td>20</td>\n",
       "      <td>0.0</td>\n",
       "      <td>0.0</td>\n",
       "      <td>0</td>\n",
       "      <td>0</td>\n",
       "      <td>0.0</td>\n",
       "      <td>0.0</td>\n",
       "      <td>0</td>\n",
       "      <td>0</td>\n",
       "      <td>BENIGN</td>\n",
       "    </tr>\n",
       "  </tbody>\n",
       "</table>\n",
       "<p>2 rows × 85 columns</p>\n",
       "</div>"
      ],
      "text/plain": [
       "                                      Flow ID     Source IP   Source Port  \\\n",
       "225743  192.168.10.15-8.41.222.187-61323-80-6  8.41.222.187            80   \n",
       "225744    192.168.10.15-8.43.72.21-61326-80-6    8.43.72.21            80   \n",
       "\n",
       "        Destination IP   Destination Port   Protocol      Timestamp  \\\n",
       "225743   192.168.10.15              61323          6  7/7/2017 5:02   \n",
       "225744   192.168.10.15              61326          6  7/7/2017 5:02   \n",
       "\n",
       "         Flow Duration   Total Fwd Packets   Total Backward Packets  ...  \\\n",
       "225743              48                   2                        0  ...   \n",
       "225744              68                   1                        1  ...   \n",
       "\n",
       "         min_seg_size_forward  Active Mean   Active Std   Active Max  \\\n",
       "225743                     20          0.0          0.0            0   \n",
       "225744                     20          0.0          0.0            0   \n",
       "\n",
       "         Active Min  Idle Mean   Idle Std   Idle Max   Idle Min   Label  \n",
       "225743            0        0.0        0.0          0          0  BENIGN  \n",
       "225744            0        0.0        0.0          0          0  BENIGN  \n",
       "\n",
       "[2 rows x 85 columns]"
      ]
     },
     "execution_count": 9,
     "metadata": {},
     "output_type": "execute_result"
    }
   ],
   "source": [
    "data.tail(2)"
   ]
  },
  {
   "cell_type": "code",
   "execution_count": 247,
   "metadata": {},
   "outputs": [
    {
     "data": {
      "text/html": [
       "<div>\n",
       "<style scoped>\n",
       "    .dataframe tbody tr th:only-of-type {\n",
       "        vertical-align: middle;\n",
       "    }\n",
       "\n",
       "    .dataframe tbody tr th {\n",
       "        vertical-align: top;\n",
       "    }\n",
       "\n",
       "    .dataframe thead th {\n",
       "        text-align: right;\n",
       "    }\n",
       "</style>\n",
       "<table border=\"1\" class=\"dataframe\">\n",
       "  <thead>\n",
       "    <tr style=\"text-align: right;\">\n",
       "      <th></th>\n",
       "      <th>Flow ID</th>\n",
       "      <th>Source IP</th>\n",
       "      <th>Source Port</th>\n",
       "      <th>Destination IP</th>\n",
       "      <th>Destination Port</th>\n",
       "      <th>Protocol</th>\n",
       "      <th>Timestamp</th>\n",
       "      <th>Flow Duration</th>\n",
       "      <th>Total Fwd Packets</th>\n",
       "      <th>Total Backward Packets</th>\n",
       "      <th>...</th>\n",
       "      <th>min_seg_size_forward</th>\n",
       "      <th>Active Mean</th>\n",
       "      <th>Active Std</th>\n",
       "      <th>Active Max</th>\n",
       "      <th>Active Min</th>\n",
       "      <th>Idle Mean</th>\n",
       "      <th>Idle Std</th>\n",
       "      <th>Idle Max</th>\n",
       "      <th>Idle Min</th>\n",
       "      <th>Label</th>\n",
       "    </tr>\n",
       "  </thead>\n",
       "  <tbody>\n",
       "    <tr>\n",
       "      <th>14749</th>\n",
       "      <td>192.168.10.3-192.168.10.50-53-36144-17</td>\n",
       "      <td>192.168.10.50</td>\n",
       "      <td>36144</td>\n",
       "      <td>192.168.10.3</td>\n",
       "      <td>53</td>\n",
       "      <td>17</td>\n",
       "      <td>7/7/2017 3:46</td>\n",
       "      <td>155</td>\n",
       "      <td>2</td>\n",
       "      <td>2</td>\n",
       "      <td>...</td>\n",
       "      <td>32</td>\n",
       "      <td>0.0</td>\n",
       "      <td>0.0</td>\n",
       "      <td>0</td>\n",
       "      <td>0</td>\n",
       "      <td>0.0</td>\n",
       "      <td>0.0</td>\n",
       "      <td>0</td>\n",
       "      <td>0</td>\n",
       "      <td>BENIGN</td>\n",
       "    </tr>\n",
       "    <tr>\n",
       "      <th>52138</th>\n",
       "      <td>172.16.0.1-192.168.10.50-18888-80-6</td>\n",
       "      <td>192.168.10.50</td>\n",
       "      <td>80</td>\n",
       "      <td>172.16.0.1</td>\n",
       "      <td>18888</td>\n",
       "      <td>6</td>\n",
       "      <td>7/7/2017 3:59</td>\n",
       "      <td>3902771</td>\n",
       "      <td>1</td>\n",
       "      <td>6</td>\n",
       "      <td>...</td>\n",
       "      <td>20</td>\n",
       "      <td>0.0</td>\n",
       "      <td>0.0</td>\n",
       "      <td>0</td>\n",
       "      <td>0</td>\n",
       "      <td>0.0</td>\n",
       "      <td>0.0</td>\n",
       "      <td>0</td>\n",
       "      <td>0</td>\n",
       "      <td>BENIGN</td>\n",
       "    </tr>\n",
       "  </tbody>\n",
       "</table>\n",
       "<p>2 rows × 85 columns</p>\n",
       "</div>"
      ],
      "text/plain": [
       "                                      Flow ID      Source IP   Source Port  \\\n",
       "14749  192.168.10.3-192.168.10.50-53-36144-17  192.168.10.50         36144   \n",
       "52138     172.16.0.1-192.168.10.50-18888-80-6  192.168.10.50            80   \n",
       "\n",
       "       Destination IP   Destination Port   Protocol      Timestamp  \\\n",
       "14749    192.168.10.3                 53         17  7/7/2017 3:46   \n",
       "52138      172.16.0.1              18888          6  7/7/2017 3:59   \n",
       "\n",
       "        Flow Duration   Total Fwd Packets   Total Backward Packets  ...  \\\n",
       "14749             155                   2                        2  ...   \n",
       "52138         3902771                   1                        6  ...   \n",
       "\n",
       "        min_seg_size_forward  Active Mean   Active Std   Active Max  \\\n",
       "14749                     32          0.0          0.0            0   \n",
       "52138                     20          0.0          0.0            0   \n",
       "\n",
       "        Active Min  Idle Mean   Idle Std   Idle Max   Idle Min   Label  \n",
       "14749            0        0.0        0.0          0          0  BENIGN  \n",
       "52138            0        0.0        0.0          0          0  BENIGN  \n",
       "\n",
       "[2 rows x 85 columns]"
      ]
     },
     "execution_count": 247,
     "metadata": {},
     "output_type": "execute_result"
    }
   ],
   "source": [
    "data.sample(2)"
   ]
  },
  {
   "cell_type": "code",
   "execution_count": 248,
   "metadata": {},
   "outputs": [
    {
     "name": "stdout",
     "output_type": "stream",
     "text": [
      "ROW (Samples) : 225745 \n",
      "COL (Features) : 85\n"
     ]
    }
   ],
   "source": [
    "row , col = data.shape\n",
    "print(f'ROW (Samples) : {row} \\nCOL (Features) : {col}')"
   ]
  },
  {
   "cell_type": "code",
   "execution_count": 249,
   "metadata": {},
   "outputs": [
    {
     "data": {
      "text/plain": [
       "Index(['Flow ID', ' Source IP', ' Source Port', ' Destination IP',\n",
       "       ' Destination Port', ' Protocol', ' Timestamp', ' Flow Duration',\n",
       "       ' Total Fwd Packets', ' Total Backward Packets',\n",
       "       'Total Length of Fwd Packets', ' Total Length of Bwd Packets',\n",
       "       ' Fwd Packet Length Max', ' Fwd Packet Length Min',\n",
       "       ' Fwd Packet Length Mean', ' Fwd Packet Length Std',\n",
       "       'Bwd Packet Length Max', ' Bwd Packet Length Min',\n",
       "       ' Bwd Packet Length Mean', ' Bwd Packet Length Std', 'Flow Bytes/s',\n",
       "       ' Flow Packets/s', ' Flow IAT Mean', ' Flow IAT Std', ' Flow IAT Max',\n",
       "       ' Flow IAT Min', 'Fwd IAT Total', ' Fwd IAT Mean', ' Fwd IAT Std',\n",
       "       ' Fwd IAT Max', ' Fwd IAT Min', 'Bwd IAT Total', ' Bwd IAT Mean',\n",
       "       ' Bwd IAT Std', ' Bwd IAT Max', ' Bwd IAT Min', 'Fwd PSH Flags',\n",
       "       ' Bwd PSH Flags', ' Fwd URG Flags', ' Bwd URG Flags',\n",
       "       ' Fwd Header Length', ' Bwd Header Length', 'Fwd Packets/s',\n",
       "       ' Bwd Packets/s', ' Min Packet Length', ' Max Packet Length',\n",
       "       ' Packet Length Mean', ' Packet Length Std', ' Packet Length Variance',\n",
       "       'FIN Flag Count', ' SYN Flag Count', ' RST Flag Count',\n",
       "       ' PSH Flag Count', ' ACK Flag Count', ' URG Flag Count',\n",
       "       ' CWE Flag Count', ' ECE Flag Count', ' Down/Up Ratio',\n",
       "       ' Average Packet Size', ' Avg Fwd Segment Size',\n",
       "       ' Avg Bwd Segment Size', ' Fwd Header Length.1', 'Fwd Avg Bytes/Bulk',\n",
       "       ' Fwd Avg Packets/Bulk', ' Fwd Avg Bulk Rate', ' Bwd Avg Bytes/Bulk',\n",
       "       ' Bwd Avg Packets/Bulk', 'Bwd Avg Bulk Rate', 'Subflow Fwd Packets',\n",
       "       ' Subflow Fwd Bytes', ' Subflow Bwd Packets', ' Subflow Bwd Bytes',\n",
       "       'Init_Win_bytes_forward', ' Init_Win_bytes_backward',\n",
       "       ' act_data_pkt_fwd', ' min_seg_size_forward', 'Active Mean',\n",
       "       ' Active Std', ' Active Max', ' Active Min', 'Idle Mean', ' Idle Std',\n",
       "       ' Idle Max', ' Idle Min', ' Label'],\n",
       "      dtype='object')"
      ]
     },
     "execution_count": 249,
     "metadata": {},
     "output_type": "execute_result"
    }
   ],
   "source": [
    "data.columns"
   ]
  },
  {
   "cell_type": "code",
   "execution_count": 250,
   "metadata": {},
   "outputs": [
    {
     "data": {
      "text/plain": [
       "DDoS      128027\n",
       "BENIGN     97718\n",
       "Name:  Label, dtype: int64"
      ]
     },
     "execution_count": 250,
     "metadata": {},
     "output_type": "execute_result"
    }
   ],
   "source": [
    "data[' Label'].value_counts()"
   ]
  },
  {
   "cell_type": "code",
   "execution_count": 10,
   "metadata": {},
   "outputs": [
    {
     "data": {
      "image/png": "[encoded data removed]",
      "text/plain": [
       "<Figure size 400x400 with 1 Axes>"
      ]
     },
     "metadata": {},
     "output_type": "display_data"
    }
   ],
   "source": [
    "import seaborn as sn\n",
    "import matplotlib.pyplot as plt\n",
    "\n",
    "sn.set_theme(style=\"darkgrid\") \n",
    "plt.figure(figsize=(4,4))\n",
    "data[' Label'].value_counts().plot(kind='bar', color=['gold', 'brown'])\n",
    "plt.title('Class Distribution Count')\n",
    "plt.ylabel('Count')\n",
    "plt.xlabel('Class')\n",
    "plt.grid()"
   ]
  },
  {
   "cell_type": "code",
   "execution_count": 11,
   "metadata": {},
   "outputs": [
    {
     "data": {
      "text/plain": [
       "{'Flow ID': 'Flow ID',\n",
       " ' Source IP': 'Source IP',\n",
       " ' Source Port': 'Source Port',\n",
       " ' Destination IP': 'Destination IP',\n",
       " ' Destination Port': 'Destination Port',\n",
       " ' Protocol': 'Protocol',\n",
       " ' Timestamp': 'Timestamp',\n",
       " ' Flow Duration': 'Flow Duration',\n",
       " ' Total Fwd Packets': 'Total Fwd Packets',\n",
       " ' Total Backward Packets': 'Total Backward Packets',\n",
       " 'Total Length of Fwd Packets': 'Total Length of Fwd Packets',\n",
       " ' Total Length of Bwd Packets': 'Total Length of Bwd Packets',\n",
       " ' Fwd Packet Length Max': 'Fwd Packet Length Max',\n",
       " ' Fwd Packet Length Min': 'Fwd Packet Length Min',\n",
       " ' Fwd Packet Length Mean': 'Fwd Packet Length Mean',\n",
       " ' Fwd Packet Length Std': 'Fwd Packet Length Std',\n",
       " 'Bwd Packet Length Max': 'Bwd Packet Length Max',\n",
       " ' Bwd Packet Length Min': 'Bwd Packet Length Min',\n",
       " ' Bwd Packet Length Mean': 'Bwd Packet Length Mean',\n",
       " ' Bwd Packet Length Std': 'Bwd Packet Length Std',\n",
       " 'Flow Bytes/s': 'Flow Bytes/s',\n",
       " ' Flow Packets/s': 'Flow Packets/s',\n",
       " ' Flow IAT Mean': 'Flow IAT Mean',\n",
       " ' Flow IAT Std': 'Flow IAT Std',\n",
       " ' Flow IAT Max': 'Flow IAT Max',\n",
       " ' Flow IAT Min': 'Flow IAT Min',\n",
       " 'Fwd IAT Total': 'Fwd IAT Total',\n",
       " ' Fwd IAT Mean': 'Fwd IAT Mean',\n",
       " ' Fwd IAT Std': 'Fwd IAT Std',\n",
       " ' Fwd IAT Max': 'Fwd IAT Max',\n",
       " ' Fwd IAT Min': 'Fwd IAT Min',\n",
       " 'Bwd IAT Total': 'Bwd IAT Total',\n",
       " ' Bwd IAT Mean': 'Bwd IAT Mean',\n",
       " ' Bwd IAT Std': 'Bwd IAT Std',\n",
       " ' Bwd IAT Max': 'Bwd IAT Max',\n",
       " ' Bwd IAT Min': 'Bwd IAT Min',\n",
       " 'Fwd PSH Flags': 'Fwd PSH Flags',\n",
       " ' Bwd PSH Flags': 'Bwd PSH Flags',\n",
       " ' Fwd URG Flags': 'Fwd URG Flags',\n",
       " ' Bwd URG Flags': 'Bwd URG Flags',\n",
       " ' Fwd Header Length': 'Fwd Header Length',\n",
       " ' Bwd Header Length': 'Bwd Header Length',\n",
       " 'Fwd Packets/s': 'Fwd Packets/s',\n",
       " ' Bwd Packets/s': 'Bwd Packets/s',\n",
       " ' Min Packet Length': 'Min Packet Length',\n",
       " ' Max Packet Length': 'Max Packet Length',\n",
       " ' Packet Length Mean': 'Packet Length Mean',\n",
       " ' Packet Length Std': 'Packet Length Std',\n",
       " ' Packet Length Variance': 'Packet Length Variance',\n",
       " 'FIN Flag Count': 'FIN Flag Count',\n",
       " ' SYN Flag Count': 'SYN Flag Count',\n",
       " ' RST Flag Count': 'RST Flag Count',\n",
       " ' PSH Flag Count': 'PSH Flag Count',\n",
       " ' ACK Flag Count': 'ACK Flag Count',\n",
       " ' URG Flag Count': 'URG Flag Count',\n",
       " ' CWE Flag Count': 'CWE Flag Count',\n",
       " ' ECE Flag Count': 'ECE Flag Count',\n",
       " ' Down/Up Ratio': 'Down/Up Ratio',\n",
       " ' Average Packet Size': 'Average Packet Size',\n",
       " ' Avg Fwd Segment Size': 'Avg Fwd Segment Size',\n",
       " ' Avg Bwd Segment Size': 'Avg Bwd Segment Size',\n",
       " ' Fwd Header Length.1': 'Fwd Header Length.1',\n",
       " 'Fwd Avg Bytes/Bulk': 'Fwd Avg Bytes/Bulk',\n",
       " ' Fwd Avg Packets/Bulk': 'Fwd Avg Packets/Bulk',\n",
       " ' Fwd Avg Bulk Rate': 'Fwd Avg Bulk Rate',\n",
       " ' Bwd Avg Bytes/Bulk': 'Bwd Avg Bytes/Bulk',\n",
       " ' Bwd Avg Packets/Bulk': 'Bwd Avg Packets/Bulk',\n",
       " 'Bwd Avg Bulk Rate': 'Bwd Avg Bulk Rate',\n",
       " 'Subflow Fwd Packets': 'Subflow Fwd Packets',\n",
       " ' Subflow Fwd Bytes': 'Subflow Fwd Bytes',\n",
       " ' Subflow Bwd Packets': 'Subflow Bwd Packets',\n",
       " ' Subflow Bwd Bytes': 'Subflow Bwd Bytes',\n",
       " 'Init_Win_bytes_forward': 'Init_Win_bytes_forward',\n",
       " ' Init_Win_bytes_backward': 'Init_Win_bytes_backward',\n",
       " ' act_data_pkt_fwd': 'act_data_pkt_fwd',\n",
       " ' min_seg_size_forward': 'min_seg_size_forward',\n",
       " 'Active Mean': 'Active Mean',\n",
       " ' Active Std': 'Active Std',\n",
       " ' Active Max': 'Active Max',\n",
       " ' Active Min': 'Active Min',\n",
       " 'Idle Mean': 'Idle Mean',\n",
       " ' Idle Std': 'Idle Std',\n",
       " ' Idle Max': 'Idle Max',\n",
       " ' Idle Min': 'Idle Min',\n",
       " ' Label': 'Label'}"
      ]
     },
     "execution_count": 11,
     "metadata": {},
     "output_type": "execute_result"
    }
   ],
   "source": [
    "# stripping columns.... \n",
    "new_col = {}\n",
    "for col in data.columns: \n",
    "    new_col[col] = col.strip()\n",
    "\n",
    "new_col"
   ]
  },
  {
   "cell_type": "code",
   "execution_count": 12,
   "metadata": {},
   "outputs": [
    {
     "data": {
      "text/plain": [
       "Index(['Flow ID', 'Source IP', 'Source Port', 'Destination IP',\n",
       "       'Destination Port', 'Protocol', 'Timestamp', 'Flow Duration',\n",
       "       'Total Fwd Packets', 'Total Backward Packets',\n",
       "       'Total Length of Fwd Packets', 'Total Length of Bwd Packets',\n",
       "       'Fwd Packet Length Max', 'Fwd Packet Length Min',\n",
       "       'Fwd Packet Length Mean', 'Fwd Packet Length Std',\n",
       "       'Bwd Packet Length Max', 'Bwd Packet Length Min',\n",
       "       'Bwd Packet Length Mean', 'Bwd Packet Length Std', 'Flow Bytes/s',\n",
       "       'Flow Packets/s', 'Flow IAT Mean', 'Flow IAT Std', 'Flow IAT Max',\n",
       "       'Flow IAT Min', 'Fwd IAT Total', 'Fwd IAT Mean', 'Fwd IAT Std',\n",
       "       'Fwd IAT Max', 'Fwd IAT Min', 'Bwd IAT Total', 'Bwd IAT Mean',\n",
       "       'Bwd IAT Std', 'Bwd IAT Max', 'Bwd IAT Min', 'Fwd PSH Flags',\n",
       "       'Bwd PSH Flags', 'Fwd URG Flags', 'Bwd URG Flags', 'Fwd Header Length',\n",
       "       'Bwd Header Length', 'Fwd Packets/s', 'Bwd Packets/s',\n",
       "       'Min Packet Length', 'Max Packet Length', 'Packet Length Mean',\n",
       "       'Packet Length Std', 'Packet Length Variance', 'FIN Flag Count',\n",
       "       'SYN Flag Count', 'RST Flag Count', 'PSH Flag Count', 'ACK Flag Count',\n",
       "       'URG Flag Count', 'CWE Flag Count', 'ECE Flag Count', 'Down/Up Ratio',\n",
       "       'Average Packet Size', 'Avg Fwd Segment Size', 'Avg Bwd Segment Size',\n",
       "       'Fwd Header Length.1', 'Fwd Avg Bytes/Bulk', 'Fwd Avg Packets/Bulk',\n",
       "       'Fwd Avg Bulk Rate', 'Bwd Avg Bytes/Bulk', 'Bwd Avg Packets/Bulk',\n",
       "       'Bwd Avg Bulk Rate', 'Subflow Fwd Packets', 'Subflow Fwd Bytes',\n",
       "       'Subflow Bwd Packets', 'Subflow Bwd Bytes', 'Init_Win_bytes_forward',\n",
       "       'Init_Win_bytes_backward', 'act_data_pkt_fwd', 'min_seg_size_forward',\n",
       "       'Active Mean', 'Active Std', 'Active Max', 'Active Min', 'Idle Mean',\n",
       "       'Idle Std', 'Idle Max', 'Idle Min', 'Label'],\n",
       "      dtype='object')"
      ]
     },
     "execution_count": 12,
     "metadata": {},
     "output_type": "execute_result"
    }
   ],
   "source": [
    "# updating dataframe\n",
    "data.rename(columns=new_col, inplace=True)\n",
    "data.columns"
   ]
  },
  {
   "cell_type": "code",
   "execution_count": 14,
   "metadata": {},
   "outputs": [
    {
     "name": "stdout",
     "output_type": "stream",
     "text": [
      "<class 'pandas.core.frame.DataFrame'>\n",
      "RangeIndex: 225745 entries, 0 to 225744\n",
      "Data columns (total 85 columns):\n",
      " #   Column                       Non-Null Count   Dtype  \n",
      "---  ------                       --------------   -----  \n",
      " 0   Flow ID                      225745 non-null  object \n",
      " 1   Source IP                    225745 non-null  object \n",
      " 2   Source Port                  225745 non-null  int64  \n",
      " 3   Destination IP               225745 non-null  object \n",
      " 4   Destination Port             225745 non-null  int64  \n",
      " 5   Protocol                     225745 non-null  int64  \n",
      " 6   Timestamp                    225745 non-null  object \n",
      " 7   Flow Duration                225745 non-null  int64  \n",
      " 8   Total Fwd Packets            225745 non-null  int64  \n",
      " 9   Total Backward Packets       225745 non-null  int64  \n",
      " 10  Total Length of Fwd Packets  225745 non-null  int64  \n",
      " 11  Total Length of Bwd Packets  225745 non-null  int64  \n",
      " 12  Fwd Packet Length Max        225745 non-null  int64  \n",
      " 13  Fwd Packet Length Min        225745 non-null  int64  \n",
      " 14  Fwd Packet Length Mean       225745 non-null  float64\n",
      " 15  Fwd Packet Length Std        225745 non-null  float64\n",
      " 16  Bwd Packet Length Max        225745 non-null  int64  \n",
      " 17  Bwd Packet Length Min        225745 non-null  int64  \n",
      " 18  Bwd Packet Length Mean       225745 non-null  float64\n",
      " 19  Bwd Packet Length Std        225745 non-null  float64\n",
      " 20  Flow Bytes/s                 225741 non-null  float64\n",
      " 21  Flow Packets/s               225745 non-null  float64\n",
      " 22  Flow IAT Mean                225745 non-null  float64\n",
      " 23  Flow IAT Std                 225745 non-null  float64\n",
      " 24  Flow IAT Max                 225745 non-null  int64  \n",
      " 25  Flow IAT Min                 225745 non-null  int64  \n",
      " 26  Fwd IAT Total                225745 non-null  int64  \n",
      " 27  Fwd IAT Mean                 225745 non-null  float64\n",
      " 28  Fwd IAT Std                  225745 non-null  float64\n",
      " 29  Fwd IAT Max                  225745 non-null  int64  \n",
      " 30  Fwd IAT Min                  225745 non-null  int64  \n",
      " 31  Bwd IAT Total                225745 non-null  int64  \n",
      " 32  Bwd IAT Mean                 225745 non-null  float64\n",
      " 33  Bwd IAT Std                  225745 non-null  float64\n",
      " 34  Bwd IAT Max                  225745 non-null  int64  \n",
      " 35  Bwd IAT Min                  225745 non-null  int64  \n",
      " 36  Fwd PSH Flags                225745 non-null  int64  \n",
      " 37  Bwd PSH Flags                225745 non-null  int64  \n",
      " 38  Fwd URG Flags                225745 non-null  int64  \n",
      " 39  Bwd URG Flags                225745 non-null  int64  \n",
      " 40  Fwd Header Length            225745 non-null  int64  \n",
      " 41  Bwd Header Length            225745 non-null  int64  \n",
      " 42  Fwd Packets/s                225745 non-null  float64\n",
      " 43  Bwd Packets/s                225745 non-null  float64\n",
      " 44  Min Packet Length            225745 non-null  int64  \n",
      " 45  Max Packet Length            225745 non-null  int64  \n",
      " 46  Packet Length Mean           225745 non-null  float64\n",
      " 47  Packet Length Std            225745 non-null  float64\n",
      " 48  Packet Length Variance       225745 non-null  float64\n",
      " 49  FIN Flag Count               225745 non-null  int64  \n",
      " 50  SYN Flag Count               225745 non-null  int64  \n",
      " 51  RST Flag Count               225745 non-null  int64  \n",
      " 52  PSH Flag Count               225745 non-null  int64  \n",
      " 53  ACK Flag Count               225745 non-null  int64  \n",
      " 54  URG Flag Count               225745 non-null  int64  \n",
      " 55  CWE Flag Count               225745 non-null  int64  \n",
      " 56  ECE Flag Count               225745 non-null  int64  \n",
      " 57  Down/Up Ratio                225745 non-null  int64  \n",
      " 58  Average Packet Size          225745 non-null  float64\n",
      " 59  Avg Fwd Segment Size         225745 non-null  float64\n",
      " 60  Avg Bwd Segment Size         225745 non-null  float64\n",
      " 61  Fwd Header Length.1          225745 non-null  int64  \n",
      " 62  Fwd Avg Bytes/Bulk           225745 non-null  int64  \n",
      " 63  Fwd Avg Packets/Bulk         225745 non-null  int64  \n",
      " 64  Fwd Avg Bulk Rate            225745 non-null  int64  \n",
      " 65  Bwd Avg Bytes/Bulk           225745 non-null  int64  \n",
      " 66  Bwd Avg Packets/Bulk         225745 non-null  int64  \n",
      " 67  Bwd Avg Bulk Rate            225745 non-null  int64  \n",
      " 68  Subflow Fwd Packets          225745 non-null  int64  \n",
      " 69  Subflow Fwd Bytes            225745 non-null  int64  \n",
      " 70  Subflow Bwd Packets          225745 non-null  int64  \n",
      " 71  Subflow Bwd Bytes            225745 non-null  int64  \n",
      " 72  Init_Win_bytes_forward       225745 non-null  int64  \n",
      " 73  Init_Win_bytes_backward      225745 non-null  int64  \n",
      " 74  act_data_pkt_fwd             225745 non-null  int64  \n",
      " 75  min_seg_size_forward         225745 non-null  int64  \n",
      " 76  Active Mean                  225745 non-null  float64\n",
      " 77  Active Std                   225745 non-null  float64\n",
      " 78  Active Max                   225745 non-null  int64  \n",
      " 79  Active Min                   225745 non-null  int64  \n",
      " 80  Idle Mean                    225745 non-null  float64\n",
      " 81  Idle Std                     225745 non-null  float64\n",
      " 82  Idle Max                     225745 non-null  int64  \n",
      " 83  Idle Min                     225745 non-null  int64  \n",
      " 84  Label                        225745 non-null  object \n",
      "dtypes: float64(24), int64(56), object(5)\n",
      "memory usage: 146.4+ MB\n"
     ]
    }
   ],
   "source": [
    "data.info()"
   ]
  },
  {
   "cell_type": "code",
   "execution_count": 15,
   "metadata": {},
   "outputs": [
    {
     "data": {
      "text/plain": [
       "Index(['Flow ID', 'Source IP'], dtype='object')"
      ]
     },
     "execution_count": 15,
     "metadata": {},
     "output_type": "execute_result"
    }
   ],
   "source": [
    "data.columns[:2]"
   ]
  },
  {
   "cell_type": "code",
   "execution_count": 16,
   "metadata": {},
   "outputs": [
    {
     "data": {
      "text/plain": [
       "array(['192.168.10.5-104.16.207.165-54865-443-6',\n",
       "       '192.168.10.5-104.16.28.216-55054-80-6',\n",
       "       '192.168.10.5-104.16.28.216-55055-80-6', ...,\n",
       "       '192.168.10.15-72.21.91.29-61375-80-6',\n",
       "       '192.168.10.15-8.41.222.187-61323-80-6',\n",
       "       '192.168.10.15-8.43.72.21-61326-80-6'], dtype=object)"
      ]
     },
     "execution_count": 16,
     "metadata": {},
     "output_type": "execute_result"
    }
   ],
   "source": [
    "data[data.columns[0]].values"
   ]
  },
  {
   "cell_type": "code",
   "execution_count": 17,
   "metadata": {},
   "outputs": [
    {
     "data": {
      "text/html": [
       "<div>\n",
       "<style scoped>\n",
       "    .dataframe tbody tr th:only-of-type {\n",
       "        vertical-align: middle;\n",
       "    }\n",
       "\n",
       "    .dataframe tbody tr th {\n",
       "        vertical-align: top;\n",
       "    }\n",
       "\n",
       "    .dataframe thead th {\n",
       "        text-align: right;\n",
       "    }\n",
       "</style>\n",
       "<table border=\"1\" class=\"dataframe\">\n",
       "  <thead>\n",
       "    <tr style=\"text-align: right;\">\n",
       "      <th></th>\n",
       "      <th>Flow ID</th>\n",
       "      <th>Source IP</th>\n",
       "    </tr>\n",
       "  </thead>\n",
       "  <tbody>\n",
       "    <tr>\n",
       "      <th>0</th>\n",
       "      <td>192.168.10.5-104.16.207.165-54865-443-6</td>\n",
       "      <td>104.16.207.165</td>\n",
       "    </tr>\n",
       "    <tr>\n",
       "      <th>1</th>\n",
       "      <td>192.168.10.5-104.16.28.216-55054-80-6</td>\n",
       "      <td>104.16.28.216</td>\n",
       "    </tr>\n",
       "    <tr>\n",
       "      <th>2</th>\n",
       "      <td>192.168.10.5-104.16.28.216-55055-80-6</td>\n",
       "      <td>104.16.28.216</td>\n",
       "    </tr>\n",
       "    <tr>\n",
       "      <th>3</th>\n",
       "      <td>192.168.10.16-104.17.241.25-46236-443-6</td>\n",
       "      <td>104.17.241.25</td>\n",
       "    </tr>\n",
       "    <tr>\n",
       "      <th>4</th>\n",
       "      <td>192.168.10.5-104.19.196.102-54863-443-6</td>\n",
       "      <td>104.19.196.102</td>\n",
       "    </tr>\n",
       "    <tr>\n",
       "      <th>...</th>\n",
       "      <td>...</td>\n",
       "      <td>...</td>\n",
       "    </tr>\n",
       "    <tr>\n",
       "      <th>225740</th>\n",
       "      <td>192.168.10.15-72.21.91.29-61374-80-6</td>\n",
       "      <td>72.21.91.29</td>\n",
       "    </tr>\n",
       "    <tr>\n",
       "      <th>225741</th>\n",
       "      <td>192.168.10.15-72.21.91.29-61378-80-6</td>\n",
       "      <td>72.21.91.29</td>\n",
       "    </tr>\n",
       "    <tr>\n",
       "      <th>225742</th>\n",
       "      <td>192.168.10.15-72.21.91.29-61375-80-6</td>\n",
       "      <td>72.21.91.29</td>\n",
       "    </tr>\n",
       "    <tr>\n",
       "      <th>225743</th>\n",
       "      <td>192.168.10.15-8.41.222.187-61323-80-6</td>\n",
       "      <td>8.41.222.187</td>\n",
       "    </tr>\n",
       "    <tr>\n",
       "      <th>225744</th>\n",
       "      <td>192.168.10.15-8.43.72.21-61326-80-6</td>\n",
       "      <td>8.43.72.21</td>\n",
       "    </tr>\n",
       "  </tbody>\n",
       "</table>\n",
       "<p>225745 rows × 2 columns</p>\n",
       "</div>"
      ],
      "text/plain": [
       "                                        Flow ID       Source IP\n",
       "0       192.168.10.5-104.16.207.165-54865-443-6  104.16.207.165\n",
       "1         192.168.10.5-104.16.28.216-55054-80-6   104.16.28.216\n",
       "2         192.168.10.5-104.16.28.216-55055-80-6   104.16.28.216\n",
       "3       192.168.10.16-104.17.241.25-46236-443-6   104.17.241.25\n",
       "4       192.168.10.5-104.19.196.102-54863-443-6  104.19.196.102\n",
       "...                                         ...             ...\n",
       "225740     192.168.10.15-72.21.91.29-61374-80-6     72.21.91.29\n",
       "225741     192.168.10.15-72.21.91.29-61378-80-6     72.21.91.29\n",
       "225742     192.168.10.15-72.21.91.29-61375-80-6     72.21.91.29\n",
       "225743    192.168.10.15-8.41.222.187-61323-80-6    8.41.222.187\n",
       "225744      192.168.10.15-8.43.72.21-61326-80-6      8.43.72.21\n",
       "\n",
       "[225745 rows x 2 columns]"
      ]
     },
     "execution_count": 17,
     "metadata": {},
     "output_type": "execute_result"
    }
   ],
   "source": [
    "data[data.columns[:2]]"
   ]
  },
  {
   "cell_type": "code",
   "execution_count": 258,
   "metadata": {},
   "outputs": [
    {
     "data": {
      "text/plain": [
       "array(['BENIGN', 'DDoS'], dtype=object)"
      ]
     },
     "execution_count": 258,
     "metadata": {},
     "output_type": "execute_result"
    }
   ],
   "source": [
    "data.Label.unique()"
   ]
  },
  {
   "cell_type": "code",
   "execution_count": 18,
   "metadata": {},
   "outputs": [
    {
     "name": "stdout",
     "output_type": "stream",
     "text": [
      "4\n",
      "4\n"
     ]
    }
   ],
   "source": [
    "print(data.isnull().sum().sum())\n",
    "print(data.isnull().sum().sum())"
   ]
  },
  {
   "cell_type": "code",
   "execution_count": 19,
   "metadata": {},
   "outputs": [
    {
     "data": {
      "text/html": [
       "<div>\n",
       "<style scoped>\n",
       "    .dataframe tbody tr th:only-of-type {\n",
       "        vertical-align: middle;\n",
       "    }\n",
       "\n",
       "    .dataframe tbody tr th {\n",
       "        vertical-align: top;\n",
       "    }\n",
       "\n",
       "    .dataframe thead th {\n",
       "        text-align: right;\n",
       "    }\n",
       "</style>\n",
       "<table border=\"1\" class=\"dataframe\">\n",
       "  <thead>\n",
       "    <tr style=\"text-align: right;\">\n",
       "      <th></th>\n",
       "      <th>Flow ID</th>\n",
       "      <th>Source IP</th>\n",
       "      <th>Source Port</th>\n",
       "      <th>Destination IP</th>\n",
       "      <th>Destination Port</th>\n",
       "      <th>Protocol</th>\n",
       "      <th>Timestamp</th>\n",
       "      <th>Flow Duration</th>\n",
       "      <th>Total Fwd Packets</th>\n",
       "      <th>Total Backward Packets</th>\n",
       "      <th>...</th>\n",
       "      <th>min_seg_size_forward</th>\n",
       "      <th>Active Mean</th>\n",
       "      <th>Active Std</th>\n",
       "      <th>Active Max</th>\n",
       "      <th>Active Min</th>\n",
       "      <th>Idle Mean</th>\n",
       "      <th>Idle Std</th>\n",
       "      <th>Idle Max</th>\n",
       "      <th>Idle Min</th>\n",
       "      <th>Label</th>\n",
       "    </tr>\n",
       "  </thead>\n",
       "  <tbody>\n",
       "    <tr>\n",
       "      <th>0</th>\n",
       "      <td>192.168.10.5-104.16.207.165-54865-443-6</td>\n",
       "      <td>104.16.207.165</td>\n",
       "      <td>443</td>\n",
       "      <td>192.168.10.5</td>\n",
       "      <td>54865</td>\n",
       "      <td>6</td>\n",
       "      <td>7/7/2017 3:30</td>\n",
       "      <td>3</td>\n",
       "      <td>2</td>\n",
       "      <td>0</td>\n",
       "      <td>...</td>\n",
       "      <td>20</td>\n",
       "      <td>0.0</td>\n",
       "      <td>0.0</td>\n",
       "      <td>0</td>\n",
       "      <td>0</td>\n",
       "      <td>0.0</td>\n",
       "      <td>0.0</td>\n",
       "      <td>0</td>\n",
       "      <td>0</td>\n",
       "      <td>BENIGN</td>\n",
       "    </tr>\n",
       "    <tr>\n",
       "      <th>1</th>\n",
       "      <td>192.168.10.5-104.16.28.216-55054-80-6</td>\n",
       "      <td>104.16.28.216</td>\n",
       "      <td>80</td>\n",
       "      <td>192.168.10.5</td>\n",
       "      <td>55054</td>\n",
       "      <td>6</td>\n",
       "      <td>7/7/2017 3:30</td>\n",
       "      <td>109</td>\n",
       "      <td>1</td>\n",
       "      <td>1</td>\n",
       "      <td>...</td>\n",
       "      <td>20</td>\n",
       "      <td>0.0</td>\n",
       "      <td>0.0</td>\n",
       "      <td>0</td>\n",
       "      <td>0</td>\n",
       "      <td>0.0</td>\n",
       "      <td>0.0</td>\n",
       "      <td>0</td>\n",
       "      <td>0</td>\n",
       "      <td>BENIGN</td>\n",
       "    </tr>\n",
       "    <tr>\n",
       "      <th>2</th>\n",
       "      <td>192.168.10.5-104.16.28.216-55055-80-6</td>\n",
       "      <td>104.16.28.216</td>\n",
       "      <td>80</td>\n",
       "      <td>192.168.10.5</td>\n",
       "      <td>55055</td>\n",
       "      <td>6</td>\n",
       "      <td>7/7/2017 3:30</td>\n",
       "      <td>52</td>\n",
       "      <td>1</td>\n",
       "      <td>1</td>\n",
       "      <td>...</td>\n",
       "      <td>20</td>\n",
       "      <td>0.0</td>\n",
       "      <td>0.0</td>\n",
       "      <td>0</td>\n",
       "      <td>0</td>\n",
       "      <td>0.0</td>\n",
       "      <td>0.0</td>\n",
       "      <td>0</td>\n",
       "      <td>0</td>\n",
       "      <td>BENIGN</td>\n",
       "    </tr>\n",
       "    <tr>\n",
       "      <th>3</th>\n",
       "      <td>192.168.10.16-104.17.241.25-46236-443-6</td>\n",
       "      <td>104.17.241.25</td>\n",
       "      <td>443</td>\n",
       "      <td>192.168.10.16</td>\n",
       "      <td>46236</td>\n",
       "      <td>6</td>\n",
       "      <td>7/7/2017 3:30</td>\n",
       "      <td>34</td>\n",
       "      <td>1</td>\n",
       "      <td>1</td>\n",
       "      <td>...</td>\n",
       "      <td>20</td>\n",
       "      <td>0.0</td>\n",
       "      <td>0.0</td>\n",
       "      <td>0</td>\n",
       "      <td>0</td>\n",
       "      <td>0.0</td>\n",
       "      <td>0.0</td>\n",
       "      <td>0</td>\n",
       "      <td>0</td>\n",
       "      <td>BENIGN</td>\n",
       "    </tr>\n",
       "    <tr>\n",
       "      <th>4</th>\n",
       "      <td>192.168.10.5-104.19.196.102-54863-443-6</td>\n",
       "      <td>104.19.196.102</td>\n",
       "      <td>443</td>\n",
       "      <td>192.168.10.5</td>\n",
       "      <td>54863</td>\n",
       "      <td>6</td>\n",
       "      <td>7/7/2017 3:30</td>\n",
       "      <td>3</td>\n",
       "      <td>2</td>\n",
       "      <td>0</td>\n",
       "      <td>...</td>\n",
       "      <td>20</td>\n",
       "      <td>0.0</td>\n",
       "      <td>0.0</td>\n",
       "      <td>0</td>\n",
       "      <td>0</td>\n",
       "      <td>0.0</td>\n",
       "      <td>0.0</td>\n",
       "      <td>0</td>\n",
       "      <td>0</td>\n",
       "      <td>BENIGN</td>\n",
       "    </tr>\n",
       "    <tr>\n",
       "      <th>...</th>\n",
       "      <td>...</td>\n",
       "      <td>...</td>\n",
       "      <td>...</td>\n",
       "      <td>...</td>\n",
       "      <td>...</td>\n",
       "      <td>...</td>\n",
       "      <td>...</td>\n",
       "      <td>...</td>\n",
       "      <td>...</td>\n",
       "      <td>...</td>\n",
       "      <td>...</td>\n",
       "      <td>...</td>\n",
       "      <td>...</td>\n",
       "      <td>...</td>\n",
       "      <td>...</td>\n",
       "      <td>...</td>\n",
       "      <td>...</td>\n",
       "      <td>...</td>\n",
       "      <td>...</td>\n",
       "      <td>...</td>\n",
       "      <td>...</td>\n",
       "    </tr>\n",
       "    <tr>\n",
       "      <th>225740</th>\n",
       "      <td>192.168.10.15-72.21.91.29-61374-80-6</td>\n",
       "      <td>72.21.91.29</td>\n",
       "      <td>80</td>\n",
       "      <td>192.168.10.15</td>\n",
       "      <td>61374</td>\n",
       "      <td>6</td>\n",
       "      <td>7/7/2017 5:02</td>\n",
       "      <td>61</td>\n",
       "      <td>1</td>\n",
       "      <td>1</td>\n",
       "      <td>...</td>\n",
       "      <td>20</td>\n",
       "      <td>0.0</td>\n",
       "      <td>0.0</td>\n",
       "      <td>0</td>\n",
       "      <td>0</td>\n",
       "      <td>0.0</td>\n",
       "      <td>0.0</td>\n",
       "      <td>0</td>\n",
       "      <td>0</td>\n",
       "      <td>BENIGN</td>\n",
       "    </tr>\n",
       "    <tr>\n",
       "      <th>225741</th>\n",
       "      <td>192.168.10.15-72.21.91.29-61378-80-6</td>\n",
       "      <td>72.21.91.29</td>\n",
       "      <td>80</td>\n",
       "      <td>192.168.10.15</td>\n",
       "      <td>61378</td>\n",
       "      <td>6</td>\n",
       "      <td>7/7/2017 5:02</td>\n",
       "      <td>72</td>\n",
       "      <td>1</td>\n",
       "      <td>1</td>\n",
       "      <td>...</td>\n",
       "      <td>20</td>\n",
       "      <td>0.0</td>\n",
       "      <td>0.0</td>\n",
       "      <td>0</td>\n",
       "      <td>0</td>\n",
       "      <td>0.0</td>\n",
       "      <td>0.0</td>\n",
       "      <td>0</td>\n",
       "      <td>0</td>\n",
       "      <td>BENIGN</td>\n",
       "    </tr>\n",
       "    <tr>\n",
       "      <th>225742</th>\n",
       "      <td>192.168.10.15-72.21.91.29-61375-80-6</td>\n",
       "      <td>72.21.91.29</td>\n",
       "      <td>80</td>\n",
       "      <td>192.168.10.15</td>\n",
       "      <td>61375</td>\n",
       "      <td>6</td>\n",
       "      <td>7/7/2017 5:02</td>\n",
       "      <td>75</td>\n",
       "      <td>1</td>\n",
       "      <td>1</td>\n",
       "      <td>...</td>\n",
       "      <td>20</td>\n",
       "      <td>0.0</td>\n",
       "      <td>0.0</td>\n",
       "      <td>0</td>\n",
       "      <td>0</td>\n",
       "      <td>0.0</td>\n",
       "      <td>0.0</td>\n",
       "      <td>0</td>\n",
       "      <td>0</td>\n",
       "      <td>BENIGN</td>\n",
       "    </tr>\n",
       "    <tr>\n",
       "      <th>225743</th>\n",
       "      <td>192.168.10.15-8.41.222.187-61323-80-6</td>\n",
       "      <td>8.41.222.187</td>\n",
       "      <td>80</td>\n",
       "      <td>192.168.10.15</td>\n",
       "      <td>61323</td>\n",
       "      <td>6</td>\n",
       "      <td>7/7/2017 5:02</td>\n",
       "      <td>48</td>\n",
       "      <td>2</td>\n",
       "      <td>0</td>\n",
       "      <td>...</td>\n",
       "      <td>20</td>\n",
       "      <td>0.0</td>\n",
       "      <td>0.0</td>\n",
       "      <td>0</td>\n",
       "      <td>0</td>\n",
       "      <td>0.0</td>\n",
       "      <td>0.0</td>\n",
       "      <td>0</td>\n",
       "      <td>0</td>\n",
       "      <td>BENIGN</td>\n",
       "    </tr>\n",
       "    <tr>\n",
       "      <th>225744</th>\n",
       "      <td>192.168.10.15-8.43.72.21-61326-80-6</td>\n",
       "      <td>8.43.72.21</td>\n",
       "      <td>80</td>\n",
       "      <td>192.168.10.15</td>\n",
       "      <td>61326</td>\n",
       "      <td>6</td>\n",
       "      <td>7/7/2017 5:02</td>\n",
       "      <td>68</td>\n",
       "      <td>1</td>\n",
       "      <td>1</td>\n",
       "      <td>...</td>\n",
       "      <td>20</td>\n",
       "      <td>0.0</td>\n",
       "      <td>0.0</td>\n",
       "      <td>0</td>\n",
       "      <td>0</td>\n",
       "      <td>0.0</td>\n",
       "      <td>0.0</td>\n",
       "      <td>0</td>\n",
       "      <td>0</td>\n",
       "      <td>BENIGN</td>\n",
       "    </tr>\n",
       "  </tbody>\n",
       "</table>\n",
       "<p>225741 rows × 85 columns</p>\n",
       "</div>"
      ],
      "text/plain": [
       "                                        Flow ID       Source IP  Source Port  \\\n",
       "0       192.168.10.5-104.16.207.165-54865-443-6  104.16.207.165          443   \n",
       "1         192.168.10.5-104.16.28.216-55054-80-6   104.16.28.216           80   \n",
       "2         192.168.10.5-104.16.28.216-55055-80-6   104.16.28.216           80   \n",
       "3       192.168.10.16-104.17.241.25-46236-443-6   104.17.241.25          443   \n",
       "4       192.168.10.5-104.19.196.102-54863-443-6  104.19.196.102          443   \n",
       "...                                         ...             ...          ...   \n",
       "225740     192.168.10.15-72.21.91.29-61374-80-6     72.21.91.29           80   \n",
       "225741     192.168.10.15-72.21.91.29-61378-80-6     72.21.91.29           80   \n",
       "225742     192.168.10.15-72.21.91.29-61375-80-6     72.21.91.29           80   \n",
       "225743    192.168.10.15-8.41.222.187-61323-80-6    8.41.222.187           80   \n",
       "225744      192.168.10.15-8.43.72.21-61326-80-6      8.43.72.21           80   \n",
       "\n",
       "       Destination IP  Destination Port  Protocol      Timestamp  \\\n",
       "0        192.168.10.5             54865         6  7/7/2017 3:30   \n",
       "1        192.168.10.5             55054         6  7/7/2017 3:30   \n",
       "2        192.168.10.5             55055         6  7/7/2017 3:30   \n",
       "3       192.168.10.16             46236         6  7/7/2017 3:30   \n",
       "4        192.168.10.5             54863         6  7/7/2017 3:30   \n",
       "...               ...               ...       ...            ...   \n",
       "225740  192.168.10.15             61374         6  7/7/2017 5:02   \n",
       "225741  192.168.10.15             61378         6  7/7/2017 5:02   \n",
       "225742  192.168.10.15             61375         6  7/7/2017 5:02   \n",
       "225743  192.168.10.15             61323         6  7/7/2017 5:02   \n",
       "225744  192.168.10.15             61326         6  7/7/2017 5:02   \n",
       "\n",
       "        Flow Duration  Total Fwd Packets  Total Backward Packets  ...  \\\n",
       "0                   3                  2                       0  ...   \n",
       "1                 109                  1                       1  ...   \n",
       "2                  52                  1                       1  ...   \n",
       "3                  34                  1                       1  ...   \n",
       "4                   3                  2                       0  ...   \n",
       "...               ...                ...                     ...  ...   \n",
       "225740             61                  1                       1  ...   \n",
       "225741             72                  1                       1  ...   \n",
       "225742             75                  1                       1  ...   \n",
       "225743             48                  2                       0  ...   \n",
       "225744             68                  1                       1  ...   \n",
       "\n",
       "        min_seg_size_forward  Active Mean  Active Std  Active Max  Active Min  \\\n",
       "0                         20          0.0         0.0           0           0   \n",
       "1                         20          0.0         0.0           0           0   \n",
       "2                         20          0.0         0.0           0           0   \n",
       "3                         20          0.0         0.0           0           0   \n",
       "4                         20          0.0         0.0           0           0   \n",
       "...                      ...          ...         ...         ...         ...   \n",
       "225740                    20          0.0         0.0           0           0   \n",
       "225741                    20          0.0         0.0           0           0   \n",
       "225742                    20          0.0         0.0           0           0   \n",
       "225743                    20          0.0         0.0           0           0   \n",
       "225744                    20          0.0         0.0           0           0   \n",
       "\n",
       "        Idle Mean  Idle Std  Idle Max  Idle Min   Label  \n",
       "0             0.0       0.0         0         0  BENIGN  \n",
       "1             0.0       0.0         0         0  BENIGN  \n",
       "2             0.0       0.0         0         0  BENIGN  \n",
       "3             0.0       0.0         0         0  BENIGN  \n",
       "4             0.0       0.0         0         0  BENIGN  \n",
       "...           ...       ...       ...       ...     ...  \n",
       "225740        0.0       0.0         0         0  BENIGN  \n",
       "225741        0.0       0.0         0         0  BENIGN  \n",
       "225742        0.0       0.0         0         0  BENIGN  \n",
       "225743        0.0       0.0         0         0  BENIGN  \n",
       "225744        0.0       0.0         0         0  BENIGN  \n",
       "\n",
       "[225741 rows x 85 columns]"
      ]
     },
     "execution_count": 19,
     "metadata": {},
     "output_type": "execute_result"
    }
   ],
   "source": [
    "data = data[data['Flow Bytes/s'].isnull() == False]\n",
    "data"
   ]
  },
  {
   "cell_type": "code",
   "execution_count": 20,
   "metadata": {},
   "outputs": [
    {
     "data": {
      "text/plain": [
       "(225741, 85)"
      ]
     },
     "execution_count": 20,
     "metadata": {},
     "output_type": "execute_result"
    }
   ],
   "source": [
    "data.shape"
   ]
  },
  {
   "cell_type": "code",
   "execution_count": 21,
   "metadata": {},
   "outputs": [
    {
     "name": "stdout",
     "output_type": "stream",
     "text": [
      "<class 'pandas.core.frame.DataFrame'>\n",
      "Int64Index: 225741 entries, 0 to 225744\n",
      "Data columns (total 85 columns):\n",
      " #   Column                       Non-Null Count   Dtype  \n",
      "---  ------                       --------------   -----  \n",
      " 0   Flow ID                      225741 non-null  object \n",
      " 1   Source IP                    225741 non-null  object \n",
      " 2   Source Port                  225741 non-null  int64  \n",
      " 3   Destination IP               225741 non-null  object \n",
      " 4   Destination Port             225741 non-null  int64  \n",
      " 5   Protocol                     225741 non-null  int64  \n",
      " 6   Timestamp                    225741 non-null  object \n",
      " 7   Flow Duration                225741 non-null  int64  \n",
      " 8   Total Fwd Packets            225741 non-null  int64  \n",
      " 9   Total Backward Packets       225741 non-null  int64  \n",
      " 10  Total Length of Fwd Packets  225741 non-null  int64  \n",
      " 11  Total Length of Bwd Packets  225741 non-null  int64  \n",
      " 12  Fwd Packet Length Max        225741 non-null  int64  \n",
      " 13  Fwd Packet Length Min        225741 non-null  int64  \n",
      " 14  Fwd Packet Length Mean       225741 non-null  float64\n",
      " 15  Fwd Packet Length Std        225741 non-null  float64\n",
      " 16  Bwd Packet Length Max        225741 non-null  int64  \n",
      " 17  Bwd Packet Length Min        225741 non-null  int64  \n",
      " 18  Bwd Packet Length Mean       225741 non-null  float64\n",
      " 19  Bwd Packet Length Std        225741 non-null  float64\n",
      " 20  Flow Bytes/s                 225741 non-null  float64\n",
      " 21  Flow Packets/s               225741 non-null  float64\n",
      " 22  Flow IAT Mean                225741 non-null  float64\n",
      " 23  Flow IAT Std                 225741 non-null  float64\n",
      " 24  Flow IAT Max                 225741 non-null  int64  \n",
      " 25  Flow IAT Min                 225741 non-null  int64  \n",
      " 26  Fwd IAT Total                225741 non-null  int64  \n",
      " 27  Fwd IAT Mean                 225741 non-null  float64\n",
      " 28  Fwd IAT Std                  225741 non-null  float64\n",
      " 29  Fwd IAT Max                  225741 non-null  int64  \n",
      " 30  Fwd IAT Min                  225741 non-null  int64  \n",
      " 31  Bwd IAT Total                225741 non-null  int64  \n",
      " 32  Bwd IAT Mean                 225741 non-null  float64\n",
      " 33  Bwd IAT Std                  225741 non-null  float64\n",
      " 34  Bwd IAT Max                  225741 non-null  int64  \n",
      " 35  Bwd IAT Min                  225741 non-null  int64  \n",
      " 36  Fwd PSH Flags                225741 non-null  int64  \n",
      " 37  Bwd PSH Flags                225741 non-null  int64  \n",
      " 38  Fwd URG Flags                225741 non-null  int64  \n",
      " 39  Bwd URG Flags                225741 non-null  int64  \n",
      " 40  Fwd Header Length            225741 non-null  int64  \n",
      " 41  Bwd Header Length            225741 non-null  int64  \n",
      " 42  Fwd Packets/s                225741 non-null  float64\n",
      " 43  Bwd Packets/s                225741 non-null  float64\n",
      " 44  Min Packet Length            225741 non-null  int64  \n",
      " 45  Max Packet Length            225741 non-null  int64  \n",
      " 46  Packet Length Mean           225741 non-null  float64\n",
      " 47  Packet Length Std            225741 non-null  float64\n",
      " 48  Packet Length Variance       225741 non-null  float64\n",
      " 49  FIN Flag Count               225741 non-null  int64  \n",
      " 50  SYN Flag Count               225741 non-null  int64  \n",
      " 51  RST Flag Count               225741 non-null  int64  \n",
      " 52  PSH Flag Count               225741 non-null  int64  \n",
      " 53  ACK Flag Count               225741 non-null  int64  \n",
      " 54  URG Flag Count               225741 non-null  int64  \n",
      " 55  CWE Flag Count               225741 non-null  int64  \n",
      " 56  ECE Flag Count               225741 non-null  int64  \n",
      " 57  Down/Up Ratio                225741 non-null  int64  \n",
      " 58  Average Packet Size          225741 non-null  float64\n",
      " 59  Avg Fwd Segment Size         225741 non-null  float64\n",
      " 60  Avg Bwd Segment Size         225741 non-null  float64\n",
      " 61  Fwd Header Length.1          225741 non-null  int64  \n",
      " 62  Fwd Avg Bytes/Bulk           225741 non-null  int64  \n",
      " 63  Fwd Avg Packets/Bulk         225741 non-null  int64  \n",
      " 64  Fwd Avg Bulk Rate            225741 non-null  int64  \n",
      " 65  Bwd Avg Bytes/Bulk           225741 non-null  int64  \n",
      " 66  Bwd Avg Packets/Bulk         225741 non-null  int64  \n",
      " 67  Bwd Avg Bulk Rate            225741 non-null  int64  \n",
      " 68  Subflow Fwd Packets          225741 non-null  int64  \n",
      " 69  Subflow Fwd Bytes            225741 non-null  int64  \n",
      " 70  Subflow Bwd Packets          225741 non-null  int64  \n",
      " 71  Subflow Bwd Bytes            225741 non-null  int64  \n",
      " 72  Init_Win_bytes_forward       225741 non-null  int64  \n",
      " 73  Init_Win_bytes_backward      225741 non-null  int64  \n",
      " 74  act_data_pkt_fwd             225741 non-null  int64  \n",
      " 75  min_seg_size_forward         225741 non-null  int64  \n",
      " 76  Active Mean                  225741 non-null  float64\n",
      " 77  Active Std                   225741 non-null  float64\n",
      " 78  Active Max                   225741 non-null  int64  \n",
      " 79  Active Min                   225741 non-null  int64  \n",
      " 80  Idle Mean                    225741 non-null  float64\n",
      " 81  Idle Std                     225741 non-null  float64\n",
      " 82  Idle Max                     225741 non-null  int64  \n",
      " 83  Idle Min                     225741 non-null  int64  \n",
      " 84  Label                        225741 non-null  object \n",
      "dtypes: float64(24), int64(56), object(5)\n",
      "memory usage: 148.1+ MB\n"
     ]
    }
   ],
   "source": [
    "data.info()"
   ]
  },
  {
   "cell_type": "code",
   "execution_count": 22,
   "metadata": {},
   "outputs": [
    {
     "name": "stdout",
     "output_type": "stream",
     "text": [
      "<class 'pandas.core.frame.DataFrame'>\n",
      "Int64Index: 225741 entries, 0 to 225744\n",
      "Data columns (total 85 columns):\n",
      " #   Column                       Non-Null Count   Dtype  \n",
      "---  ------                       --------------   -----  \n",
      " 0   Flow ID                      225741 non-null  int32  \n",
      " 1   Source IP                    225741 non-null  int16  \n",
      " 2   Source Port                  225741 non-null  int64  \n",
      " 3   Destination IP               225741 non-null  int16  \n",
      " 4   Destination Port             225741 non-null  int64  \n",
      " 5   Protocol                     225741 non-null  int64  \n",
      " 6   Timestamp                    225741 non-null  int8   \n",
      " 7   Flow Duration                225741 non-null  int64  \n",
      " 8   Total Fwd Packets            225741 non-null  int64  \n",
      " 9   Total Backward Packets       225741 non-null  int64  \n",
      " 10  Total Length of Fwd Packets  225741 non-null  int64  \n",
      " 11  Total Length of Bwd Packets  225741 non-null  int64  \n",
      " 12  Fwd Packet Length Max        225741 non-null  int64  \n",
      " 13  Fwd Packet Length Min        225741 non-null  int64  \n",
      " 14  Fwd Packet Length Mean       225741 non-null  float64\n",
      " 15  Fwd Packet Length Std        225741 non-null  float64\n",
      " 16  Bwd Packet Length Max        225741 non-null  int64  \n",
      " 17  Bwd Packet Length Min        225741 non-null  int64  \n",
      " 18  Bwd Packet Length Mean       225741 non-null  float64\n",
      " 19  Bwd Packet Length Std        225741 non-null  float64\n",
      " 20  Flow Bytes/s                 225741 non-null  float64\n",
      " 21  Flow Packets/s               225741 non-null  float64\n",
      " 22  Flow IAT Mean                225741 non-null  float64\n",
      " 23  Flow IAT Std                 225741 non-null  float64\n",
      " 24  Flow IAT Max                 225741 non-null  int64  \n",
      " 25  Flow IAT Min                 225741 non-null  int64  \n",
      " 26  Fwd IAT Total                225741 non-null  int64  \n",
      " 27  Fwd IAT Mean                 225741 non-null  float64\n",
      " 28  Fwd IAT Std                  225741 non-null  float64\n",
      " 29  Fwd IAT Max                  225741 non-null  int64  \n",
      " 30  Fwd IAT Min                  225741 non-null  int64  \n",
      " 31  Bwd IAT Total                225741 non-null  int64  \n",
      " 32  Bwd IAT Mean                 225741 non-null  float64\n",
      " 33  Bwd IAT Std                  225741 non-null  float64\n",
      " 34  Bwd IAT Max                  225741 non-null  int64  \n",
      " 35  Bwd IAT Min                  225741 non-null  int64  \n",
      " 36  Fwd PSH Flags                225741 non-null  int64  \n",
      " 37  Bwd PSH Flags                225741 non-null  int64  \n",
      " 38  Fwd URG Flags                225741 non-null  int64  \n",
      " 39  Bwd URG Flags                225741 non-null  int64  \n",
      " 40  Fwd Header Length            225741 non-null  int64  \n",
      " 41  Bwd Header Length            225741 non-null  int64  \n",
      " 42  Fwd Packets/s                225741 non-null  float64\n",
      " 43  Bwd Packets/s                225741 non-null  float64\n",
      " 44  Min Packet Length            225741 non-null  int64  \n",
      " 45  Max Packet Length            225741 non-null  int64  \n",
      " 46  Packet Length Mean           225741 non-null  float64\n",
      " 47  Packet Length Std            225741 non-null  float64\n",
      " 48  Packet Length Variance       225741 non-null  float64\n",
      " 49  FIN Flag Count               225741 non-null  int64  \n",
      " 50  SYN Flag Count               225741 non-null  int64  \n",
      " 51  RST Flag Count               225741 non-null  int64  \n",
      " 52  PSH Flag Count               225741 non-null  int64  \n",
      " 53  ACK Flag Count               225741 non-null  int64  \n",
      " 54  URG Flag Count               225741 non-null  int64  \n",
      " 55  CWE Flag Count               225741 non-null  int64  \n",
      " 56  ECE Flag Count               225741 non-null  int64  \n",
      " 57  Down/Up Ratio                225741 non-null  int64  \n",
      " 58  Average Packet Size          225741 non-null  float64\n",
      " 59  Avg Fwd Segment Size         225741 non-null  float64\n",
      " 60  Avg Bwd Segment Size         225741 non-null  float64\n",
      " 61  Fwd Header Length.1          225741 non-null  int64  \n",
      " 62  Fwd Avg Bytes/Bulk           225741 non-null  int64  \n",
      " 63  Fwd Avg Packets/Bulk         225741 non-null  int64  \n",
      " 64  Fwd Avg Bulk Rate            225741 non-null  int64  \n",
      " 65  Bwd Avg Bytes/Bulk           225741 non-null  int64  \n",
      " 66  Bwd Avg Packets/Bulk         225741 non-null  int64  \n",
      " 67  Bwd Avg Bulk Rate            225741 non-null  int64  \n",
      " 68  Subflow Fwd Packets          225741 non-null  int64  \n",
      " 69  Subflow Fwd Bytes            225741 non-null  int64  \n",
      " 70  Subflow Bwd Packets          225741 non-null  int64  \n",
      " 71  Subflow Bwd Bytes            225741 non-null  int64  \n",
      " 72  Init_Win_bytes_forward       225741 non-null  int64  \n",
      " 73  Init_Win_bytes_backward      225741 non-null  int64  \n",
      " 74  act_data_pkt_fwd             225741 non-null  int64  \n",
      " 75  min_seg_size_forward         225741 non-null  int64  \n",
      " 76  Active Mean                  225741 non-null  float64\n",
      " 77  Active Std                   225741 non-null  float64\n",
      " 78  Active Max                   225741 non-null  int64  \n",
      " 79  Active Min                   225741 non-null  int64  \n",
      " 80  Idle Mean                    225741 non-null  float64\n",
      " 81  Idle Std                     225741 non-null  float64\n",
      " 82  Idle Max                     225741 non-null  int64  \n",
      " 83  Idle Min                     225741 non-null  int64  \n",
      " 84  Label                        225741 non-null  int8   \n",
      "dtypes: float64(24), int16(2), int32(1), int64(56), int8(2)\n",
      "memory usage: 141.7 MB\n"
     ]
    }
   ],
   "source": [
    "for col in data.columns: \n",
    "    if data[col].dtype == 'object': \n",
    "        data[col] = data[col].astype('category').cat.codes\n",
    "\n",
    "data.info()"
   ]
  },
  {
   "cell_type": "code",
   "execution_count": 23,
   "metadata": {},
   "outputs": [
    {
     "data": {
      "text/plain": [
       "array([0, 1], dtype=int8)"
      ]
     },
     "execution_count": 23,
     "metadata": {},
     "output_type": "execute_result"
    }
   ],
   "source": [
    "data.Label.unique()"
   ]
  },
  {
   "cell_type": "code",
   "execution_count": 24,
   "metadata": {},
   "outputs": [
    {
     "data": {
      "text/plain": [
       "2"
      ]
     },
     "execution_count": 24,
     "metadata": {},
     "output_type": "execute_result"
    }
   ],
   "source": [
    "data.duplicated().sum()"
   ]
  },
  {
   "cell_type": "code",
   "execution_count": 25,
   "metadata": {},
   "outputs": [
    {
     "data": {
      "text/plain": [
       "(225739, 85)"
      ]
     },
     "execution_count": 25,
     "metadata": {},
     "output_type": "execute_result"
    }
   ],
   "source": [
    "data.drop_duplicates(keep='first', inplace=True)\n",
    "data.shape"
   ]
  },
  {
   "cell_type": "code",
   "execution_count": 26,
   "metadata": {},
   "outputs": [
    {
     "name": "stdout",
     "output_type": "stream",
     "text": [
      "60\n"
     ]
    }
   ],
   "source": [
    "import numpy as np\n",
    "print(np.isinf(data).sum().sum())"
   ]
  },
  {
   "cell_type": "code",
   "execution_count": 27,
   "metadata": {},
   "outputs": [
    {
     "name": "stdout",
     "output_type": "stream",
     "text": [
      "Flow Bytes/s  :  30\n",
      "Flow Packets/s  :  30\n"
     ]
    }
   ],
   "source": [
    "for col in data.columns: \n",
    "    if np.isinf(data[col]).sum() > 0:\n",
    "        print(col, ' : ' , np.isinf(data[col]).sum())"
   ]
  },
  {
   "cell_type": "code",
   "execution_count": 28,
   "metadata": {},
   "outputs": [
    {
     "data": {
      "text/plain": [
       "(225709, 85)"
      ]
     },
     "execution_count": 28,
     "metadata": {},
     "output_type": "execute_result"
    }
   ],
   "source": [
    "data = data[np.isinf(data['Flow Bytes/s']) != True]\n",
    "data = data[np.isinf(data['Flow Packets/s']) != True]\n",
    "data.shape"
   ]
  },
  {
   "cell_type": "code",
   "execution_count": 29,
   "metadata": {},
   "outputs": [
    {
     "name": "stdout",
     "output_type": "stream",
     "text": [
      "[   6   18   14    0  124   84   37    8 1326  308    1   11   43   42\n",
      "   27   46  280   39   34   73   35   40   32   36   64   66   28   29\n",
      "   50   26   25   55   30   31   61   20   53   48   38   58  146   33\n",
      "  129   19   97   80  103   45   23   81   22  565   96   47   41  135\n",
      "   82   60   54   52   56   59   51   65   49   74   78   62   57   44\n",
      "   75   77   94   79   71  145    4  136  140  154  105  125  250  160\n",
      "  143  101  107   89   72  130   70   92  675  195  147    2  364  203\n",
      "  210  221  117   21  274  199  222  300  266  119  114   63   67   83\n",
      "   68  298  113  193  120  150  192  256  118  141  108  167   93  165\n",
      "   90  131  148  543  144  109 1254  149  189  226  238  186  292   88\n",
      "  272  365  134  166  164   91   85  126   86   99  346   87   16   15\n",
      " 2097 1797 2101 2016 2216 2075 2258 2091 1448 2129 1947 1703 1991 2131\n",
      " 2147   12  713  891  804  877  807  730  175  188  666  324   95  155\n",
      "   69  151    3  257  304  142  122  139  340  410  369  279  349  667\n",
      "  110  830  265   76  185  173  121  163  472  181   24  138   98  207\n",
      "  206  205  432  233  158    7  127  947  161  159  100  123  204  562\n",
      "  343  481  759  377  334  772  731  874  832 1515 1046 1055 1896  567\n",
      " 1114 1120 1112  899 1115  270  311  229  252  258  244  214  335  336\n",
      "  329  286  544  571  605  307  169  719  560  629  295  263  409  184\n",
      "  137  216  111  201   10 1855 2158 1696 2200  247 1178  911  235  104\n",
      " 1231  690 1035 1319  200  445  179  282  171  220  172  435  448  576\n",
      "  883  128  152  413  106  228  230  112  197  421  116  227  208  217\n",
      "  177  157  162  994    5   13    9  183 1299  133  213  132  509  480\n",
      "  379  367  248  261  176  373  429  153  180   17  191  287 1285  187\n",
      " 2020 2702  190  102  770  407 1262  194  366  198  393  431  878  454\n",
      "  178  305 1245  168  260  352  466  462  488  482  439  225  182  241\n",
      "  284  301  338 1004 1576  209  283  337  321  417  215 1306  325  564\n",
      "  297  348  869  115  655  232  810  646  612  424  456  231  299  381\n",
      "  406  395  434  254  312  318  288  411  591  580 1244  392  345  313\n",
      "  358  698  211 1472  686  419  820  316  328  249  479  290  212  551\n",
      " 1328  444  202  474  428  360  763  950 1518 1383 1172 1385 1204 1321\n",
      "  738  322  566  255 1368  350  170 1421 2172 1486  426  862 1175  315\n",
      "  174  498 1047  302  317  779  799  285  678  490  542 1014  281  632\n",
      "  277 1107  966 1215  786  372  505  930  242  246  234  196  223  452\n",
      "  492  493  489  491  487  401  703  423  319 1048  940  526  245  237\n",
      "  507  440  814  357  478  500  499  483  219  218  374  517  470  461\n",
      "  894 1853  355  262  264  380  383  375  387  436 1658 2321 1934 1933\n",
      " 2320 1622 2162 2322 1935 2901 2900 1659 1450 1451 1375  402  618  508\n",
      "  495  496  460  634  253  656  291  326  276  240  416  608  522 2595\n",
      " 2163 3867 1854 2596  711 1017  929  332  854  389  271  269  236  519\n",
      "  518  520  528  531  494  595  529  510  267  156  464  239  697  330\n",
      "  268  368  354  405  805 1657 2164 3244 1075 1737 1433 1463 1691 1153\n",
      " 1623  382  457  465  224  420  370  351  696  913  640  344  540  441\n",
      "  473  475  259  705  469  541  408  371  404 1417  733 1016  914  569\n",
      "  422  497 1286  331  619  931  339  633  294 1441 1866 1633 2177  945\n",
      "  314  309  927  450  468  293  251  504  501 1289 1218 1170  289  648\n",
      "  524 1161  296  275  512  506  467 1203  943  925 1290  442  511  514\n",
      "  463 1241  695  928  948  273 1373  458  484  278  327  609  515  761\n",
      "  513  516  664  693  362  356  822  965  558  412  625 1766 2055  957\n",
      "  455  570 1243  588 1126  390 2237 1442  388  620  935 1512  347  386\n",
      "  398  333  342 1058  323 1103  651  834 1363 1275 1082  721  363 1320\n",
      "  949  400  615 1439  451  376  592  934  600  535 1602  403  359  532\n",
      "  706  378 1283 1050  427  447  670  530  978  815 1152  437  553  835\n",
      "  485 1133  303  538  897  839  641  414 1160  471  438  768 1156  729\n",
      "  320  399 1419  476 2731 1068 1019 1264  657 1408  982  385  863  795\n",
      "  550  548 1460  974  243  932  926 1080  310  979 1224  919  937  549\n",
      "  870  801  443  823  885  821  662  818  825  603 2010  477  924]\n",
      "[   0   17   14 ... 1062 2285 1027]\n",
      "[   0    6   88 ... 1634 1714 2035]\n",
      "[   0   16  879 ... 1100  440  391]\n",
      "[4000000  110091  230769 ...  613026  109711   54083]\n",
      "[666666  18348  38461 ...  16008  14115   1571]\n",
      "[    3   109    52 ... 16762   848 21000]\n",
      "[    0     2     1 ...  9397 37834   488]\n",
      "[    3     0  1022 ... 16484  9272 53596]\n",
      "[      0       2       1 ... 5381638   51459   12415]\n",
      "[      0       3       4 ...   95944 5015132    6652]\n",
      "[      0   16545    2974 ...   17666   17639 5777874]\n",
      "[666666   9174  19230 ...   8737   9605    785]\n",
      "[    0  9174 19230 ...  4343   785  1103]\n",
      "[   6   22   12 ...  890  861 1076]\n",
      "[   0   14   12 ... 1549 1683 1630]\n",
      "[     0    208    156 ...  17396  10256 776778]\n",
      "[   9   34   16 ... 1083 1148  811]\n",
      "[   6   18   14    0  124   84   37    8 1326  308    1   11   43   42\n",
      "   27   46  280   39   34   73   35   40   32   36   64   66   28   29\n",
      "   50   26   25   55   30   31   61   20   53   48   38   58  146   33\n",
      "  129   19   97   80  103   45   23   81   22  565   96   47   41  135\n",
      "   82   60   54   52   56   59   51   65   49   74   78   62   57   44\n",
      "   75   77   94   79   71  145    4  136  140  154  105  125  250  160\n",
      "  143  101  107   89   72  130   70   92  675  195  147    2  364  203\n",
      "  210  221  117   21  274  199  222  300  266  119  114   63   67   83\n",
      "   68  298  113  193  120  150  192  256  118  141  108  167   93  165\n",
      "   90  131  148  543  144  109 1254  149  189  226  238  186  292   88\n",
      "  272  365  134  166  164   91   85  126   86   99  346   87   16   15\n",
      " 2097 1797 2101 2016 2216 2075 2258 2091 1448 2129 1947 1703 1991 2131\n",
      " 2147   12  713  891  804  877  807  730  175  188  666  324   95  155\n",
      "   69  151    3  257  304  142  122  139  340  410  369  279  349  667\n",
      "  110  830  265   76  185  173  121  163  472  181   24  138   98  207\n",
      "  206  205  432  233  158    7  127  947  161  159  100  123  204  562\n",
      "  343  481  759  377  334  772  731  874  832 1515 1046 1055 1896  567\n",
      " 1114 1120 1112  899 1115  270  311  229  252  258  244  214  335  336\n",
      "  329  286  544  571  605  307  169  719  560  629  295  263  409  184\n",
      "  137  216  111  201   10 1855 2158 1696 2200  247 1178  911  235  104\n",
      " 1231  690 1035 1319  200  445  179  282  171  220  172  435  448  576\n",
      "  883  128  152  413  106  228  230  112  197  421  116  227  208  217\n",
      "  177  157  162  994    5   13    9  183 1299  133  213  132  509  480\n",
      "  379  367  248  261  176  373  429  153  180   17  191  287 1285  187\n",
      " 2020 2702  190  102  770  407 1262  194  366  198  393  431  878  454\n",
      "  178  305 1245  168  260  352  466  462  488  482  439  225  182  241\n",
      "  284  301  338 1004 1576  209  283  337  321  417  215 1306  325  564\n",
      "  297  348  869  115  655  232  810  646  612  424  456  231  299  381\n",
      "  406  395  434  254  312  318  288  411  591  580 1244  392  345  313\n",
      "  358  698  211 1472  686  419  820  316  328  249  479  290  212  551\n",
      " 1328  444  202  474  428  360  763  950 1518 1383 1172 1385 1204 1321\n",
      "  738  322  566  255 1368  350  170 1421 2172 1486  426  862 1175  315\n",
      "  174  498 1047  302  317  779  799  285  678  490  542 1014  281  632\n",
      "  277 1107  966 1215  786  372  505  930  242  246  234  196  223  452\n",
      "  492  493  489  491  487  401  703  423  319 1048  940  526  245  237\n",
      "  507  440  814  357  478  500  499  483  219  218  374  517  470  461\n",
      "  894 1853  355  262  264  380  383  375  387  436 1658 2321 1934 1933\n",
      " 2320 1622 2162 2322 1935 2901 2900 1659 1450 1451 1375  402  618  508\n",
      "  495  496  460  634  253  656  291  326  276  240  416  608  522 2595\n",
      " 2163 3867 1854 2596  711 1017  929  332  854  389  271  269  236  519\n",
      "  518  520  528  531  494  595  529  510  267  156  464  239  697  330\n",
      "  268  368  354  405  805 1657 2164 3244 1075 1737 1433 1463 1691 1153\n",
      " 1623  382  457  465  224  420  370  351  696  913  640  344  540  441\n",
      "  473  475  259  705  469  541  408  371  404 1417  733 1016  914  569\n",
      "  422  497 1286  331  619  931  339  633  294 1441 1866 1633 2177  945\n",
      "  314  309  927  450  468  293  251  504  501 1289 1218 1170  289  648\n",
      "  524 1161  296  275  512  506  467 1203  943  925 1290  442  511  514\n",
      "  463 1241  695  928  948  273 1373  458  484  278  327  609  515  761\n",
      "  513  516  664  693  362  356  822  965  558  412  625 1766 2055  957\n",
      "  455  570 1243  588 1126  390 2237 1442  388  620  935 1512  347  386\n",
      "  398  333  342 1058  323 1103  651  834 1363 1275 1082  721  363 1320\n",
      "  949  400  615 1439  451  376  592  934  600  535 1602  403  359  532\n",
      "  706  378 1283 1050  427  447  670  530  978  815 1152  437  553  835\n",
      "  485 1133  303  538  897  839  641  414 1160  471  438  768 1156  729\n",
      "  320  399 1419  476 2731 1068 1019 1264  657 1408  982  385  863  795\n",
      "  550  548 1460  974  243  932  926 1080  310  979 1224  919  937  549\n",
      "  870  801  443  823  885  821  662  818  825  603 2010  477  924]\n",
      "[   0    6   88 ... 1634 1714 2035]\n",
      "[      0   46735 3591908 ...  548377 1358505  135219]\n",
      "[      0 1296391  166172 ...   60720 2158657  160321]\n",
      "[       0 30900000  7114425 ...  9997014  8600367  9895153]\n",
      "[       0 12900000   140678 ...     6407  1219542   133764]\n"
     ]
    }
   ],
   "source": [
    "for col in data.columns: \n",
    "    if data[col].dtype == 'float64': \n",
    "        data[col] = data[col].astype('int32')\n",
    "        print(data[col].unique())"
   ]
  },
  {
   "cell_type": "code",
   "execution_count": 30,
   "metadata": {},
   "outputs": [
    {
     "data": {
      "text/plain": [
       "(225709, 84)"
      ]
     },
     "execution_count": 30,
     "metadata": {},
     "output_type": "execute_result"
    }
   ],
   "source": [
    "X, y  = data.drop(columns=['Label']) , data.Label\n",
    "X.shape"
   ]
  },
  {
   "cell_type": "code",
   "execution_count": null,
   "metadata": {},
   "outputs": [],
   "source": []
  },
  {
   "cell_type": "code",
   "execution_count": 31,
   "metadata": {},
   "outputs": [
    {
     "data": {
      "text/plain": [
       "array([[0.96025226, 0.0106486 , 0.00675985, ..., 0.        , 0.        ,\n",
       "        0.        ],\n",
       "       [0.96062254, 0.017909  , 0.00122074, ..., 0.        , 0.        ,\n",
       "        0.        ],\n",
       "       [0.96063411, 0.017909  , 0.00122074, ..., 0.        , 0.        ,\n",
       "        0.        ],\n",
       "       ...,\n",
       "       [0.65685027, 0.93175218, 0.00122074, ..., 0.        , 0.        ,\n",
       "        0.        ],\n",
       "       [0.65790326, 0.95982575, 0.00122074, ..., 0.        , 0.        ,\n",
       "        0.        ],\n",
       "       [0.65798426, 0.96127783, 0.00122074, ..., 0.        , 0.        ,\n",
       "        0.        ]])"
      ]
     },
     "execution_count": 31,
     "metadata": {},
     "output_type": "execute_result"
    }
   ],
   "source": [
    "from sklearn.preprocessing import MinMaxScaler, StandardScaler\n",
    "\n",
    "# Initialize MinMaxScaler to scale data to [0,1]\n",
    "scaler = MinMaxScaler()\n",
    "\n",
    "# Fit and transform training data\n",
    "X_scalled = scaler.fit_transform(X)\n",
    "X_scalled"
   ]
  },
  {
   "cell_type": "code",
   "execution_count": 32,
   "metadata": {},
   "outputs": [
    {
     "data": {
      "text/plain": [
       "(225709, 84)"
      ]
     },
     "execution_count": 32,
     "metadata": {},
     "output_type": "execute_result"
    }
   ],
   "source": [
    "X_scalled.shape"
   ]
  },
  {
   "cell_type": "code",
   "execution_count": 33,
   "metadata": {},
   "outputs": [],
   "source": [
    "from imblearn.over_sampling import SMOTE, ADASYN\n",
    "from imblearn.combine import SMOTEENN\n",
    "\n",
    "# Apply SMOTE to balance the dataset\n",
    "smote = SMOTEENN()\n",
    "X_resampled, y_resampled = smote.fit_resample(X_scalled, y)"
   ]
  },
  {
   "cell_type": "code",
   "execution_count": 36,
   "metadata": {},
   "outputs": [
    {
     "name": "stdout",
     "output_type": "stream",
     "text": [
      "1    128015\n",
      "0    128010\n",
      "Name: Label, dtype: int64\n"
     ]
    },
    {
     "data": {
      "text/plain": [
       "array([[0.96025226, 0.0106486 , 0.00675985, ..., 0.        , 0.        ,\n",
       "        0.        ],\n",
       "       [0.96062254, 0.017909  , 0.00122074, ..., 0.        , 0.        ,\n",
       "        0.        ],\n",
       "       [0.96063411, 0.017909  , 0.00122074, ..., 0.        , 0.        ,\n",
       "        0.        ],\n",
       "       ...,\n",
       "       [0.351539  , 0.20619555, 0.6591998 , ..., 0.        , 0.        ,\n",
       "        0.        ],\n",
       "       [0.35155057, 0.20619555, 0.65921506, ..., 0.        , 0.        ,\n",
       "        0.        ],\n",
       "       [0.35155057, 0.20619555, 0.65921506, ..., 0.        , 0.        ,\n",
       "        0.        ]])"
      ]
     },
     "execution_count": 36,
     "metadata": {},
     "output_type": "execute_result"
    }
   ],
   "source": [
    "print(y_resampled.value_counts())\n",
    "X_resampled"
   ]
  },
  {
   "cell_type": "code",
   "execution_count": 37,
   "metadata": {},
   "outputs": [
    {
     "data": {
      "text/plain": [
       "<Figure size 400x400 with 0 Axes>"
      ]
     },
     "metadata": {},
     "output_type": "display_data"
    },
    {
     "data": {
      "image/png": "[encoded data removed]",
      "text/plain": [
       "<Figure size 400x400 with 1 Axes>"
      ]
     },
     "metadata": {},
     "output_type": "display_data"
    }
   ],
   "source": [
    "import seaborn as sn \n",
    "from matplotlib import pyplot as plt\n",
    "plt.figure(figsize=(4,4))\n",
    "sn.set_style(style='darkgrid')\n",
    "plt.figure(figsize=(4,4))\n",
    "y_resampled.value_counts().plot(kind='bar', color=['green', 'blue'])\n",
    "plt.title('Balance Class Distribution Count')\n",
    "plt.ylabel('Count')\n",
    "plt.xlabel('Class')\n",
    "plt.grid()\n",
    "plt.grid()"
   ]
  },
  {
   "cell_type": "code",
   "execution_count": 38,
   "metadata": {},
   "outputs": [
    {
     "data": {
      "text/plain": [
       "1    128015\n",
       "0    128010\n",
       "Name: Label, dtype: int64"
      ]
     },
     "execution_count": 38,
     "metadata": {},
     "output_type": "execute_result"
    }
   ],
   "source": [
    "y_resampled.value_counts()"
   ]
  },
  {
   "cell_type": "code",
   "execution_count": 39,
   "metadata": {},
   "outputs": [],
   "source": [
    "# machine learning developement\n",
    "\n",
    "import numpy as np\n",
    "import pandas as pd\n",
    "from sklearn.datasets import fetch_openml\n",
    "from sklearn.model_selection import train_test_split\n",
    "from sklearn.preprocessing import StandardScaler\n",
    "from sklearn.neural_network import BernoulliRBM\n",
    "from sklearn.pipeline import Pipeline\n",
    "from sklearn.linear_model import LogisticRegression"
   ]
  },
  {
   "cell_type": "code",
   "execution_count": 40,
   "metadata": {},
   "outputs": [
    {
     "data": {
      "text/plain": [
       "(204820, 84)"
      ]
     },
     "execution_count": 40,
     "metadata": {},
     "output_type": "execute_result"
    }
   ],
   "source": [
    "# Split the dataset into training and test sets\n",
    "X_train, X_test, y_train, y_test = train_test_split(X_resampled, y_resampled, test_size=0.2, stratify=y_resampled, shuffle=True)\n",
    "X_train.shape"
   ]
  },
  {
   "cell_type": "code",
   "execution_count": 41,
   "metadata": {},
   "outputs": [
    {
     "data": {
      "text/plain": [
       "<matplotlib.legend.Legend at 0x2b29e433280>"
      ]
     },
     "execution_count": 41,
     "metadata": {},
     "output_type": "execute_result"
    },
    {
     "data": {
      "image/png": "[encoded data removed]",
      "text/plain": [
       "<Figure size 640x480 with 1 Axes>"
      ]
     },
     "metadata": {},
     "output_type": "display_data"
    }
   ],
   "source": [
    "# confirming if the training the testing sample is balance \n",
    "y_train.value_counts().plot(kind='bar', color=['gold', 'gold'])\n",
    "y_test.value_counts().plot(kind='bar', color=['brown', 'brown'])\n",
    "plt.legend(labels=['Training smaples', 'Testing samples'])"
   ]
  },
  {
   "cell_type": "code",
   "execution_count": 42,
   "metadata": {},
   "outputs": [
    {
     "data": {
      "text/plain": [
       "array([[4.71025226e-01, 2.06195547e-01, 9.07620472e-01, ...,\n",
       "        0.00000000e+00, 7.96666667e-01, 7.96666667e-01],\n",
       "       [3.53239991e-01, 2.06195547e-01, 7.52327036e-01, ...,\n",
       "        0.00000000e+00, 0.00000000e+00, 0.00000000e+00],\n",
       "       [7.33823189e-01, 3.35914811e-01, 6.31626331e-01, ...,\n",
       "        0.00000000e+00, 0.00000000e+00, 0.00000000e+00],\n",
       "       ...,\n",
       "       [6.68757232e-01, 3.37366893e-01, 9.13602100e-01, ...,\n",
       "        0.00000000e+00, 0.00000000e+00, 0.00000000e+00],\n",
       "       [5.72124508e-01, 3.39787028e-01, 8.42417676e-01, ...,\n",
       "        4.14977029e-04, 8.41666667e-02, 8.33196250e-02],\n",
       "       [5.32099051e-01, 3.40271055e-01, 1.22074038e-03, ...,\n",
       "        0.00000000e+00, 0.00000000e+00, 0.00000000e+00]])"
      ]
     },
     "execution_count": 42,
     "metadata": {},
     "output_type": "execute_result"
    }
   ],
   "source": [
    "X_test"
   ]
  },
  {
   "cell_type": "code",
   "execution_count": 43,
   "metadata": {},
   "outputs": [],
   "source": [
    "import numpy as np\n",
    "import pyswarms as ps\n",
    "from sklearn.neural_network import BernoulliRBM\n",
    "from sklearn.pipeline import Pipeline\n",
    "from sklearn.base import BaseEstimator, TransformerMixin\n",
    "from sklearn.datasets import fetch_openml\n",
    "from sklearn.model_selection import train_test_split\n",
    "from sklearn.metrics import accuracy_score\n",
    "from sklearn.linear_model import LogisticRegression\n",
    "from sklearn.metrics import classification_report, confusion_matrix, accuracy_score, precision_score,f1_score\n",
    "import seaborn as sn\n",
    "import random\n",
    "import time\n",
    "import warnings\n",
    "\n",
    "warnings.filterwarnings('ignore')"
   ]
  },
  {
   "cell_type": "code",
   "execution_count": 44,
   "metadata": {},
   "outputs": [],
   "source": [
    "def compute_metrics(tp, fp, fn, tn, avg_detection_time=None):\n",
    "\n",
    "    # Safety check to prevent division by zero\n",
    "    total = tp + fp + fn + tn\n",
    "    positive = tp + fn\n",
    "    negative = tn + fp\n",
    "\n",
    "    # Metrics calculations\n",
    "    tpr = tp / positive if positive > 0 else 0  # True Positive Rate (Recall)\n",
    "    fpr = fp / negative if negative > 0 else 0  # False Positive Rate\n",
    "    fnr = fn / positive if positive > 0 else 0  # False Negative Rate\n",
    "    precision = tp / (tp + fp) if (tp + fp) > 0 else 0\n",
    "    recall = tpr  # Recall is the same as TPR\n",
    "    specificity = tn / negative if negative > 0 else 0\n",
    "    accuracy = (tp + tn) / total if total > 0 else 0\n",
    "\n",
    "    # Pack into dictionary\n",
    "    metrics = {\n",
    "        \"TPR (Recall)\": tpr,\n",
    "        \"FPR\": fpr,\n",
    "        \"FNR\": fnr,\n",
    "        \"Accuracy\": accuracy,\n",
    "        \"Precision\": precision,\n",
    "        \"Recall\": recall,\n",
    "        \"Specificity\": specificity,\n",
    "        \"AVG EXE TIME\": f'{avg_detection_time:.8f}'\n",
    "    }\n",
    "\n",
    "    return metrics  "
   ]
  },
  {
   "cell_type": "code",
   "execution_count": 45,
   "metadata": {},
   "outputs": [
    {
     "name": "stderr",
     "output_type": "stream",
     "text": [
      "2025-04-08 18:04:25,646 - pyswarms.single.global_best - INFO - Optimize for 5 iters with {'c1': 1.5, 'c2': 1.5, 'w': 0.5}\n"
     ]
    },
    {
     "name": "stderr",
     "output_type": "stream",
     "text": [
      "pyswarms.single.global_best: 100%|██████████|5/5, best_cost=1e+6\n",
      "2025-04-08 18:04:25,971 - pyswarms.single.global_best - INFO - Optimization finished | best cost: 1000000.0, best pos: [4.9052556]\n",
      "2025-04-08 18:04:25,990 - pyswarms.single.global_best - INFO - Optimize for 5 iters with {'c1': 1.5, 'c2': 1.5, 'w': 0.5}\n"
     ]
    },
    {
     "name": "stdout",
     "output_type": "stream",
     "text": [
      "Best Number of RBM Stacks: 4\n"
     ]
    },
    {
     "name": "stderr",
     "output_type": "stream",
     "text": [
      "pyswarms.single.global_best: 100%|██████████|5/5, best_cost=1e+6\n",
      "2025-04-08 18:04:26,020 - pyswarms.single.global_best - INFO - Optimization finished | best cost: 1000000.0, best pos: [7.18510073]\n",
      "2025-04-08 18:04:26,040 - pyswarms.single.global_best - INFO - Optimize for 5 iters with {'c1': 1.5, 'c2': 1.5, 'w': 0.5}\n"
     ]
    },
    {
     "name": "stdout",
     "output_type": "stream",
     "text": [
      "Best Number of RBM Stacks: 7\n"
     ]
    },
    {
     "name": "stderr",
     "output_type": "stream",
     "text": [
      "pyswarms.single.global_best: 100%|██████████|5/5, best_cost=1e+6\n",
      "2025-04-08 18:04:26,238 - pyswarms.single.global_best - INFO - Optimization finished | best cost: 1000000.0, best pos: [7.7911886]\n",
      "2025-04-08 18:04:26,263 - pyswarms.single.global_best - INFO - Optimize for 5 iters with {'c1': 1.5, 'c2': 1.5, 'w': 0.5}\n"
     ]
    },
    {
     "name": "stdout",
     "output_type": "stream",
     "text": [
      "Best Number of RBM Stacks: 7\n"
     ]
    },
    {
     "name": "stderr",
     "output_type": "stream",
     "text": [
      "pyswarms.single.global_best: 100%|██████████|5/5, best_cost=1e+6\n",
      "2025-04-08 18:04:26,296 - pyswarms.single.global_best - INFO - Optimization finished | best cost: 1000000.0, best pos: [7.46801145]\n",
      "2025-04-08 18:04:26,358 - pyswarms.single.global_best - INFO - Optimize for 5 iters with {'c1': 1.5, 'c2': 1.5, 'w': 0.5}\n"
     ]
    },
    {
     "name": "stdout",
     "output_type": "stream",
     "text": [
      "Best Number of RBM Stacks: 7\n"
     ]
    },
    {
     "name": "stderr",
     "output_type": "stream",
     "text": [
      "pyswarms.single.global_best: 100%|██████████|5/5, best_cost=1e+6\n",
      "2025-04-08 18:04:26,387 - pyswarms.single.global_best - INFO - Optimization finished | best cost: 1000000.0, best pos: [4.71042852]\n"
     ]
    },
    {
     "name": "stdout",
     "output_type": "stream",
     "text": [
      "Best Number of RBM Stacks: 4\n"
     ]
    },
    {
     "name": "stderr",
     "output_type": "stream",
     "text": [
      "2025-04-08 18:04:26,428 - pyswarms.single.global_best - INFO - Optimize for 5 iters with {'c1': 1.5, 'c2': 1.5, 'w': 0.5}\n",
      "pyswarms.single.global_best: 100%|██████████|5/5, best_cost=1e+6\n",
      "2025-04-08 18:04:26,460 - pyswarms.single.global_best - INFO - Optimization finished | best cost: 1000000.0, best pos: [6.58563834]\n"
     ]
    },
    {
     "name": "stdout",
     "output_type": "stream",
     "text": [
      "Best Number of RBM Stacks: 6\n"
     ]
    },
    {
     "name": "stderr",
     "output_type": "stream",
     "text": [
      "2025-04-08 18:04:26,484 - pyswarms.single.global_best - INFO - Optimize for 5 iters with {'c1': 1.5, 'c2': 1.5, 'w': 0.5}\n",
      "pyswarms.single.global_best: 100%|██████████|5/5, best_cost=1e+6\n",
      "2025-04-08 18:04:26,560 - pyswarms.single.global_best - INFO - Optimization finished | best cost: 1000000.0, best pos: [5.82146044]\n"
     ]
    },
    {
     "name": "stdout",
     "output_type": "stream",
     "text": [
      "Best Number of RBM Stacks: 5\n"
     ]
    },
    {
     "name": "stderr",
     "output_type": "stream",
     "text": [
      "2025-04-08 18:04:26,584 - pyswarms.single.global_best - INFO - Optimize for 5 iters with {'c1': 1.5, 'c2': 1.5, 'w': 0.5}\n",
      "pyswarms.single.global_best: 100%|██████████|5/5, best_cost=1e+6\n",
      "2025-04-08 18:04:26,638 - pyswarms.single.global_best - INFO - Optimization finished | best cost: 1000000.0, best pos: [4.94867545]\n"
     ]
    },
    {
     "name": "stdout",
     "output_type": "stream",
     "text": [
      "Best Number of RBM Stacks: 4\n"
     ]
    },
    {
     "name": "stderr",
     "output_type": "stream",
     "text": [
      "2025-04-08 18:04:26,663 - pyswarms.single.global_best - INFO - Optimize for 5 iters with {'c1': 1.5, 'c2': 1.5, 'w': 0.5}\n",
      "pyswarms.single.global_best: 100%|██████████|5/5, best_cost=1e+6\n",
      "2025-04-08 18:04:26,691 - pyswarms.single.global_best - INFO - Optimization finished | best cost: 1000000.0, best pos: [6.53719245]\n",
      "2025-04-08 18:04:26,729 - pyswarms.single.global_best - INFO - Optimize for 5 iters with {'c1': 1.5, 'c2': 1.5, 'w': 0.5}\n"
     ]
    },
    {
     "name": "stdout",
     "output_type": "stream",
     "text": [
      "Best Number of RBM Stacks: 6\n"
     ]
    },
    {
     "name": "stderr",
     "output_type": "stream",
     "text": [
      "pyswarms.single.global_best: 100%|██████████|5/5, best_cost=1e+6\n",
      "2025-04-08 18:04:26,763 - pyswarms.single.global_best - INFO - Optimization finished | best cost: 1000000.0, best pos: [4.37625743]\n"
     ]
    },
    {
     "name": "stdout",
     "output_type": "stream",
     "text": [
      "Best Number of RBM Stacks: 4\n",
      "Best Average Stack 5\n"
     ]
    }
   ],
   "source": [
    "\n",
    "# Custom DBN Class (varying number of RBM stacks)\n",
    "class DBNClassifier(BaseEstimator, TransformerMixin):\n",
    "    def __init__(self, num_rbms=2, learning_rate=0.01, n_iter=4):\n",
    "        self.num_rbms = num_rbms\n",
    "        self.learning_rate = learning_rate\n",
    "        self.n_iter = n_iter\n",
    "        self.pipeline = None\n",
    "\n",
    "    def fit(self, X, y):\n",
    "        layers = []\n",
    "        rbm_sizes = [128, 256, 512]  # Fixed RBM sizes\n",
    "\n",
    "        for i in range(self.num_rbms):\n",
    "            layers.append((\"rbm\" + str(i), BernoulliRBM(n_components=rbm_sizes[i], learning_rate=self.learning_rate, n_iter=self.n_iter, verbose=0)))\n",
    "\n",
    "        layers.append((\"logreg\", LogisticRegression(max_iter=1000)))\n",
    "        self.pipeline = Pipeline(layers)\n",
    "        self.pipeline.fit(X, y)\n",
    "        return self\n",
    "\n",
    "    def predict(self, X):\n",
    "        return self.pipeline.predict(X)\n",
    "\n",
    "\n",
    "# Define PSO objective function (optimize num_rbms)\n",
    "def objective_function(params):\n",
    "    num_rbms = int(params[0])  # Number of RBMs\n",
    "\n",
    "    if num_rbms < 1 or num_rbms > 3:  # Limit number of RBM layers\n",
    "        return 1e6  # Penalize invalid solutions\n",
    "\n",
    "    model = DBNClassifier(num_rbms=num_rbms)\n",
    "    model.fit(X_train, y_train)\n",
    "    y_pred = model.predict(X_test)\n",
    "    return -accuracy_score(y_test, y_pred)  # PSO minimizes, so negate accuracy\n",
    "\n",
    "# Set PSO bounds (optimize only num_rbms between 1-3)\n",
    "bounds = [(4, 8)]\n",
    "\n",
    "mean = 0 \n",
    "\n",
    "# execute for 10 iteration\n",
    "for i in range(10): \n",
    "    # PSO optimization\n",
    "    optimizer = ps.single.GlobalBestPSO(n_particles=10, dimensions=len(bounds), options={'c1': 1.5, 'c2': 1.5, 'w': 0.5}, bounds=np.array(bounds).T)\n",
    "    \n",
    "    best_cost, best_num_rbms = optimizer.optimize(objective_function, iters=5)\n",
    "    \n",
    "    print(\"Best Number of RBM Stacks:\", int(best_num_rbms[0]))\n",
    "    mean = mean + int(best_num_rbms[0])\n",
    "\n",
    "print('Best Average Stack', int(mean/10))"
   ]
  },
  {
   "cell_type": "markdown",
   "metadata": {},
   "source": [
    "#### GENETIC ALGORITHM OPTIMIZATION (BEST LEARNING RATE SELECTOR)"
   ]
  },
  {
   "cell_type": "code",
   "execution_count": 66,
   "metadata": {},
   "outputs": [
    {
     "name": "stdout",
     "output_type": "stream",
     "text": [
      "Generation 1: Best Learning Rate = 0.07226, Accuracy = 0.9724\n",
      "Generation 2: Best Learning Rate = 0.06987, Accuracy = 0.9734\n",
      "Generation 3: Best Learning Rate = 0.04360, Accuracy = 0.9732\n",
      "Generation 4: Best Learning Rate = 0.07226, Accuracy = 0.9717\n",
      "Generation 5: Best Learning Rate = 0.00154, Accuracy = 0.9735\n",
      "Generation 6: Best Learning Rate = 0.04360, Accuracy = 0.9726\n",
      "Generation 7: Best Learning Rate = 0.10000, Accuracy = 0.9745\n",
      "Generation 8: Best Learning Rate = 0.09329, Accuracy = 0.9705\n",
      "Generation 9: Best Learning Rate = 0.10000, Accuracy = 0.9692\n",
      "Generation 10: Best Learning Rate = 0.09455, Accuracy = 0.9714\n",
      "Optimal Learning Rate: 0.09455\n"
     ]
    }
   ],
   "source": [
    "# Genetic Algorithm\n",
    "# Fitness function\n",
    "def fitness_function(learning_rate):\n",
    "    model = DBNClassifier(learning_rate=learning_rate)\n",
    "    model.fit(X_train[:10000], y_train[:10000])\n",
    "    y_pred = model.predict(X_test[:10000])\n",
    "    return accuracy_score(y_test[:10000], y_pred)\n",
    "\n",
    "# Genetic Algorithm\n",
    "def genetic_algorithm(pop_size=10, generations=10, mutation_rate=0.1, bounds=(0.001, 0.1)):\n",
    "    # Initialize population\n",
    "    population = np.random.uniform(bounds[0], bounds[1], pop_size)\n",
    "    for generation in range(generations):\n",
    "        # Evaluate fitness\n",
    "        fitness = np.array([fitness_function(ind) for ind in population])\n",
    "        # Select the best individuals\n",
    "        sorted_indices = np.argsort(fitness)[::-1]\n",
    "        parents = population[sorted_indices[:pop_size // 2]]\n",
    "        # Crossover: Generate offspring\n",
    "        offspring = []\n",
    "        for _ in range(pop_size // 2):\n",
    "            parent1, parent2 = random.sample(list(parents), 2)\n",
    "            child = (parent1 + parent2) / 2  # Average crossover\n",
    "            offspring.append(child)\n",
    "        # Mutation: Apply random changes\n",
    "        offspring = np.array(offspring)\n",
    "        mutations = np.random.uniform(-mutation_rate, mutation_rate, size=offspring.shape)\n",
    "        offspring += mutations\n",
    "        offspring = np.clip(offspring, bounds[0], bounds[1])  # Ensure within bounds\n",
    "        # Create the new population\n",
    "        population = np.concatenate((parents, offspring))\n",
    "        # Log progress\n",
    "        best_individual = population[np.argmax(fitness)]\n",
    "        best_fitness = max(fitness)\n",
    "        print(f\"Generation {generation + 1}: Best Learning Rate = {best_individual:.5f}, Accuracy = {best_fitness:.4f}\")\n",
    "    \n",
    "    # Return the best learning rate\n",
    "    best_individual = population[np.argmax(fitness)]\n",
    "    return best_individual\n",
    "\n",
    "# Run GA\n",
    "best_learning_rate = genetic_algorithm()\n",
    "print(f\"Optimal Learning Rate: {best_learning_rate:.5f}\")"
   ]
  },
  {
   "cell_type": "markdown",
   "metadata": {},
   "source": [
    "#### PROPOSED DBN ARCHITECTURE"
   ]
  },
  {
   "cell_type": "code",
   "execution_count": 46,
   "metadata": {},
   "outputs": [],
   "source": [
    "# mergin everything...\n",
    "class DBN_network: \n",
    "\n",
    "    def __init__(self, neurons=100, learning_rate=0.8, epoch=4): \n",
    "        self.neurons = neurons\n",
    "        self.learning_rate=learning_rate \n",
    "        self.epoch = epoch\n",
    "        self.layers_objects = []\n",
    "        print('parameter initialize...')\n",
    "\n",
    "    def config_network(self, neurons, layers=2, learning_rate=0.8):\n",
    "        self.layers_objects = []\n",
    "        if layers != len(neurons):\n",
    "            print(f' Neuron List Value {len(neurons)} must equal Layer value {layers} layers')\n",
    "        else: \n",
    "            for ep in range(layers): \n",
    "                # print(f' \\n Epoch : {ep}')\n",
    "                ly = BernoulliRBM(n_components=neurons[ep], learning_rate=learning_rate, n_iter=4, verbose=1)\n",
    "                self.layers_objects.append(ly)\n",
    "                # print(ly)\n",
    "\n",
    "            # specify the classification head\n",
    "            classifier = LogisticRegression(max_iter=1000)\n",
    "            self.layers_objects.append(classifier)\n",
    "            \n",
    "   # to visualize the architecture using pipeline\n",
    "    def summary(self):\n",
    "        # using pipeline to visualize the DBN Architecture.... \n",
    "        arch_list = []\n",
    "        for item in range(len(self.layers_objects)):\n",
    "            arch_list.append((f'layer_{item+1}', self.layers_objects[item]))\n",
    "        \n",
    "        self.arch_summary = Pipeline(\n",
    "            arch_list\n",
    "        )\n",
    "\n",
    "        print('DBN architecture Summary')\n",
    "        return self.arch_summary\n",
    "\n",
    "    # function to train the model... \n",
    "    def fit_model(self, X_train, y_train): \n",
    "        print(f'Training For {len(self.layers_objects[:-1])} Layer')\n",
    "        self.fited_arch = []\n",
    "        init_sample = X_train\n",
    "        init_y = y_train\n",
    "        count = 0 \n",
    "        for layer in self.layers_objects[:-1]:\n",
    "            print(f'\\n *******************  EPOCH {count + 1} **********************')\n",
    "            # fit and transform....  \n",
    "            fited = layer.fit(init_sample)\n",
    "            feature  = fited.transform(init_sample)\n",
    "        \n",
    "            # update weights\n",
    "            init_sample = feature\n",
    "        \n",
    "            # store layer weights\n",
    "            self.fited_arch.append(fited)\n",
    "            count = count + 1\n",
    "            \n",
    "        # fit the classification head \n",
    "        print('\\n+-----------------------------------------+')\n",
    "        self.class_head = self.layers_objects[-1].fit(init_sample, init_y)\n",
    "        \n",
    "        return self.arch_summary\n",
    "\n",
    "    # prediction  function \n",
    "    def predict(self, X_test, y_test): \n",
    "        init_sample = X_test\n",
    "        init_y = y_test\n",
    "        for layer in self.fited_arch:\n",
    "            \n",
    "            # transform....  \n",
    "            feature  = layer.transform(init_sample)\n",
    "            \n",
    "            # update weights\n",
    "            init_sample = feature\n",
    "            print(f'Calculated Feature {init_sample.shape}')\n",
    "                           \n",
    "        # fit the classification head \n",
    "        if self.fited_arch != []: \n",
    "            prediction = self.class_head.predict(init_sample)\n",
    "            pre = {'pre': prediction}\n",
    "            return pre\n",
    "        else: \n",
    "            error = 'Error: model should be trained first....'\n",
    "            return {error, []}\n"
   ]
  },
  {
   "cell_type": "code",
   "execution_count": 47,
   "metadata": {},
   "outputs": [
    {
     "data": {
      "text/plain": [
       "(204820, 84)"
      ]
     },
     "execution_count": 47,
     "metadata": {},
     "output_type": "execute_result"
    }
   ],
   "source": [
    "X_train.shape"
   ]
  },
  {
   "cell_type": "code",
   "execution_count": 48,
   "metadata": {},
   "outputs": [
    {
     "name": "stdout",
     "output_type": "stream",
     "text": [
      "parameter initialize...\n",
      "DBN architecture Summary\n"
     ]
    },
    {
     "data": {
      "text/html": [
       "<style>#sk-container-id-1 {color: black;background-color: white;}#sk-container-id-1 pre{padding: 0;}#sk-container-id-1 div.sk-toggleable {background-color: white;}#sk-container-id-1 label.sk-toggleable__label {cursor: pointer;display: block;width: 100%;margin-bottom: 0;padding: 0.3em;box-sizing: border-box;text-align: center;}#sk-container-id-1 label.sk-toggleable__label-arrow:before {content: \"▸\";float: left;margin-right: 0.25em;color: #696969;}#sk-container-id-1 label.sk-toggleable__label-arrow:hover:before {color: black;}#sk-container-id-1 div.sk-estimator:hover label.sk-toggleable__label-arrow:before {color: black;}#sk-container-id-1 div.sk-toggleable__content {max-height: 0;max-width: 0;overflow: hidden;text-align: left;background-color: #f0f8ff;}#sk-container-id-1 div.sk-toggleable__content pre {margin: 0.2em;color: black;border-radius: 0.25em;background-color: #f0f8ff;}#sk-container-id-1 input.sk-toggleable__control:checked~div.sk-toggleable__content {max-height: 200px;max-width: 100%;overflow: auto;}#sk-container-id-1 input.sk-toggleable__control:checked~label.sk-toggleable__label-arrow:before {content: \"▾\";}#sk-container-id-1 div.sk-estimator input.sk-toggleable__control:checked~label.sk-toggleable__label {background-color: #d4ebff;}#sk-container-id-1 div.sk-label input.sk-toggleable__control:checked~label.sk-toggleable__label {background-color: #d4ebff;}#sk-container-id-1 input.sk-hidden--visually {border: 0;clip: rect(1px 1px 1px 1px);clip: rect(1px, 1px, 1px, 1px);height: 1px;margin: -1px;overflow: hidden;padding: 0;position: absolute;width: 1px;}#sk-container-id-1 div.sk-estimator {font-family: monospace;background-color: #f0f8ff;border: 1px dotted black;border-radius: 0.25em;box-sizing: border-box;margin-bottom: 0.5em;}#sk-container-id-1 div.sk-estimator:hover {background-color: #d4ebff;}#sk-container-id-1 div.sk-parallel-item::after {content: \"\";width: 100%;border-bottom: 1px solid gray;flex-grow: 1;}#sk-container-id-1 div.sk-label:hover label.sk-toggleable__label {background-color: #d4ebff;}#sk-container-id-1 div.sk-serial::before {content: \"\";position: absolute;border-left: 1px solid gray;box-sizing: border-box;top: 0;bottom: 0;left: 50%;z-index: 0;}#sk-container-id-1 div.sk-serial {display: flex;flex-direction: column;align-items: center;background-color: white;padding-right: 0.2em;padding-left: 0.2em;position: relative;}#sk-container-id-1 div.sk-item {position: relative;z-index: 1;}#sk-container-id-1 div.sk-parallel {display: flex;align-items: stretch;justify-content: center;background-color: white;position: relative;}#sk-container-id-1 div.sk-item::before, #sk-container-id-1 div.sk-parallel-item::before {content: \"\";position: absolute;border-left: 1px solid gray;box-sizing: border-box;top: 0;bottom: 0;left: 50%;z-index: -1;}#sk-container-id-1 div.sk-parallel-item {display: flex;flex-direction: column;z-index: 1;position: relative;background-color: white;}#sk-container-id-1 div.sk-parallel-item:first-child::after {align-self: flex-end;width: 50%;}#sk-container-id-1 div.sk-parallel-item:last-child::after {align-self: flex-start;width: 50%;}#sk-container-id-1 div.sk-parallel-item:only-child::after {width: 0;}#sk-container-id-1 div.sk-dashed-wrapped {border: 1px dashed gray;margin: 0 0.4em 0.5em 0.4em;box-sizing: border-box;padding-bottom: 0.4em;background-color: white;}#sk-container-id-1 div.sk-label label {font-family: monospace;font-weight: bold;display: inline-block;line-height: 1.2em;}#sk-container-id-1 div.sk-label-container {text-align: center;}#sk-container-id-1 div.sk-container {/* jupyter's `normalize.less` sets `[hidden] { display: none; }` but bootstrap.min.css set `[hidden] { display: none !important; }` so we also need the `!important` here to be able to override the default hidden behavior on the sphinx rendered scikit-learn.org. See: https://github.com/scikit-learn/scikit-learn/issues/21755 */display: inline-block !important;position: relative;}#sk-container-id-1 div.sk-text-repr-fallback {display: none;}</style><div id=\"sk-container-id-1\" class=\"sk-top-container\"><div class=\"sk-text-repr-fallback\"><pre>Pipeline(steps=[(&#x27;layer_1&#x27;,\n",
       "                 BernoulliRBM(learning_rate=0.09455, n_components=84, n_iter=4,\n",
       "                              verbose=1)),\n",
       "                (&#x27;layer_2&#x27;,\n",
       "                 BernoulliRBM(learning_rate=0.09455, n_components=84, n_iter=4,\n",
       "                              verbose=1)),\n",
       "                (&#x27;layer_3&#x27;,\n",
       "                 BernoulliRBM(learning_rate=0.09455, n_components=42, n_iter=4,\n",
       "                              verbose=1)),\n",
       "                (&#x27;layer_4&#x27;,\n",
       "                 BernoulliRBM(learning_rate=0.09455, n_components=42, n_iter=4,\n",
       "                              verbose=1)),\n",
       "                (&#x27;layer_5&#x27;,\n",
       "                 BernoulliRBM(learning_rate=0.09455, n_components=12, n_iter=4,\n",
       "                              verbose=1)),\n",
       "                (&#x27;layer_6&#x27;, LogisticRegression(max_iter=1000))])</pre><b>In a Jupyter environment, please rerun this cell to show the HTML representation or trust the notebook. <br />On GitHub, the HTML representation is unable to render, please try loading this page with nbviewer.org.</b></div><div class=\"sk-container\" hidden><div class=\"sk-item sk-dashed-wrapped\"><div class=\"sk-label-container\"><div class=\"sk-label sk-toggleable\"><input class=\"sk-toggleable__control sk-hidden--visually\" id=\"sk-estimator-id-1\" type=\"checkbox\" ><label for=\"sk-estimator-id-1\" class=\"sk-toggleable__label sk-toggleable__label-arrow\">Pipeline</label><div class=\"sk-toggleable__content\"><pre>Pipeline(steps=[(&#x27;layer_1&#x27;,\n",
       "                 BernoulliRBM(learning_rate=0.09455, n_components=84, n_iter=4,\n",
       "                              verbose=1)),\n",
       "                (&#x27;layer_2&#x27;,\n",
       "                 BernoulliRBM(learning_rate=0.09455, n_components=84, n_iter=4,\n",
       "                              verbose=1)),\n",
       "                (&#x27;layer_3&#x27;,\n",
       "                 BernoulliRBM(learning_rate=0.09455, n_components=42, n_iter=4,\n",
       "                              verbose=1)),\n",
       "                (&#x27;layer_4&#x27;,\n",
       "                 BernoulliRBM(learning_rate=0.09455, n_components=42, n_iter=4,\n",
       "                              verbose=1)),\n",
       "                (&#x27;layer_5&#x27;,\n",
       "                 BernoulliRBM(learning_rate=0.09455, n_components=12, n_iter=4,\n",
       "                              verbose=1)),\n",
       "                (&#x27;layer_6&#x27;, LogisticRegression(max_iter=1000))])</pre></div></div></div><div class=\"sk-serial\"><div class=\"sk-item\"><div class=\"sk-estimator sk-toggleable\"><input class=\"sk-toggleable__control sk-hidden--visually\" id=\"sk-estimator-id-2\" type=\"checkbox\" ><label for=\"sk-estimator-id-2\" class=\"sk-toggleable__label sk-toggleable__label-arrow\">BernoulliRBM</label><div class=\"sk-toggleable__content\"><pre>BernoulliRBM(learning_rate=0.09455, n_components=84, n_iter=4, verbose=1)</pre></div></div></div><div class=\"sk-item\"><div class=\"sk-estimator sk-toggleable\"><input class=\"sk-toggleable__control sk-hidden--visually\" id=\"sk-estimator-id-3\" type=\"checkbox\" ><label for=\"sk-estimator-id-3\" class=\"sk-toggleable__label sk-toggleable__label-arrow\">BernoulliRBM</label><div class=\"sk-toggleable__content\"><pre>BernoulliRBM(learning_rate=0.09455, n_components=84, n_iter=4, verbose=1)</pre></div></div></div><div class=\"sk-item\"><div class=\"sk-estimator sk-toggleable\"><input class=\"sk-toggleable__control sk-hidden--visually\" id=\"sk-estimator-id-4\" type=\"checkbox\" ><label for=\"sk-estimator-id-4\" class=\"sk-toggleable__label sk-toggleable__label-arrow\">BernoulliRBM</label><div class=\"sk-toggleable__content\"><pre>BernoulliRBM(learning_rate=0.09455, n_components=42, n_iter=4, verbose=1)</pre></div></div></div><div class=\"sk-item\"><div class=\"sk-estimator sk-toggleable\"><input class=\"sk-toggleable__control sk-hidden--visually\" id=\"sk-estimator-id-5\" type=\"checkbox\" ><label for=\"sk-estimator-id-5\" class=\"sk-toggleable__label sk-toggleable__label-arrow\">BernoulliRBM</label><div class=\"sk-toggleable__content\"><pre>BernoulliRBM(learning_rate=0.09455, n_components=42, n_iter=4, verbose=1)</pre></div></div></div><div class=\"sk-item\"><div class=\"sk-estimator sk-toggleable\"><input class=\"sk-toggleable__control sk-hidden--visually\" id=\"sk-estimator-id-6\" type=\"checkbox\" ><label for=\"sk-estimator-id-6\" class=\"sk-toggleable__label sk-toggleable__label-arrow\">BernoulliRBM</label><div class=\"sk-toggleable__content\"><pre>BernoulliRBM(learning_rate=0.09455, n_components=12, n_iter=4, verbose=1)</pre></div></div></div><div class=\"sk-item\"><div class=\"sk-estimator sk-toggleable\"><input class=\"sk-toggleable__control sk-hidden--visually\" id=\"sk-estimator-id-7\" type=\"checkbox\" ><label for=\"sk-estimator-id-7\" class=\"sk-toggleable__label sk-toggleable__label-arrow\">LogisticRegression</label><div class=\"sk-toggleable__content\"><pre>LogisticRegression(max_iter=1000)</pre></div></div></div></div></div></div></div>"
      ],
      "text/plain": [
       "Pipeline(steps=[('layer_1',\n",
       "                 BernoulliRBM(learning_rate=0.09455, n_components=84, n_iter=4,\n",
       "                              verbose=1)),\n",
       "                ('layer_2',\n",
       "                 BernoulliRBM(learning_rate=0.09455, n_components=84, n_iter=4,\n",
       "                              verbose=1)),\n",
       "                ('layer_3',\n",
       "                 BernoulliRBM(learning_rate=0.09455, n_components=42, n_iter=4,\n",
       "                              verbose=1)),\n",
       "                ('layer_4',\n",
       "                 BernoulliRBM(learning_rate=0.09455, n_components=42, n_iter=4,\n",
       "                              verbose=1)),\n",
       "                ('layer_5',\n",
       "                 BernoulliRBM(learning_rate=0.09455, n_components=12, n_iter=4,\n",
       "                              verbose=1)),\n",
       "                ('layer_6', LogisticRegression(max_iter=1000))])"
      ]
     },
     "execution_count": 48,
     "metadata": {},
     "output_type": "execute_result"
    }
   ],
   "source": [
    "# initializaing DBN\n",
    "dbn = DBN_network()\n",
    "# configure the DBN... \n",
    "dbn.config_network([84, 84, 42, 42, 12], layers=5, learning_rate=0.09455)\n",
    "\n",
    "# showing the DBN architecture.. \n",
    "dbn.summary()"
   ]
  },
  {
   "cell_type": "code",
   "execution_count": 49,
   "metadata": {},
   "outputs": [
    {
     "name": "stdout",
     "output_type": "stream",
     "text": [
      "Training For 5 Layer\n",
      "\n",
      " *******************  EPOCH 1 **********************\n",
      "[BernoulliRBM] Iteration 1, pseudo-likelihood = -10.59, time = 29.59s\n",
      "[BernoulliRBM] Iteration 2, pseudo-likelihood = -12.53, time = 32.18s\n",
      "[BernoulliRBM] Iteration 3, pseudo-likelihood = -9.54, time = 23.74s\n",
      "[BernoulliRBM] Iteration 4, pseudo-likelihood = -11.00, time = 21.84s\n",
      "\n",
      " *******************  EPOCH 2 **********************\n",
      "[BernoulliRBM] Iteration 1, pseudo-likelihood = -5.39, time = 19.13s\n",
      "[BernoulliRBM] Iteration 2, pseudo-likelihood = -5.44, time = 20.57s\n",
      "[BernoulliRBM] Iteration 3, pseudo-likelihood = -5.60, time = 19.82s\n",
      "[BernoulliRBM] Iteration 4, pseudo-likelihood = -5.74, time = 19.42s\n",
      "\n",
      " *******************  EPOCH 3 **********************\n",
      "[BernoulliRBM] Iteration 1, pseudo-likelihood = -1.72, time = 24.94s\n",
      "[BernoulliRBM] Iteration 2, pseudo-likelihood = -0.91, time = 39.11s\n",
      "[BernoulliRBM] Iteration 3, pseudo-likelihood = -1.07, time = 24.12s\n",
      "[BernoulliRBM] Iteration 4, pseudo-likelihood = -1.43, time = 28.10s\n",
      "\n",
      " *******************  EPOCH 4 **********************\n",
      "[BernoulliRBM] Iteration 1, pseudo-likelihood = -1.18, time = 21.90s\n",
      "[BernoulliRBM] Iteration 2, pseudo-likelihood = -0.71, time = 17.03s\n",
      "[BernoulliRBM] Iteration 3, pseudo-likelihood = -2.25, time = 18.63s\n",
      "[BernoulliRBM] Iteration 4, pseudo-likelihood = -1.03, time = 19.60s\n",
      "\n",
      " *******************  EPOCH 5 **********************\n",
      "[BernoulliRBM] Iteration 1, pseudo-likelihood = -0.66, time = 7.97s\n",
      "[BernoulliRBM] Iteration 2, pseudo-likelihood = -0.55, time = 12.70s\n",
      "[BernoulliRBM] Iteration 3, pseudo-likelihood = -0.73, time = 9.27s\n",
      "[BernoulliRBM] Iteration 4, pseudo-likelihood = -1.47, time = 7.68s\n",
      "\n",
      "+-----------------------------------------+\n",
      "Total Training Time :  452.10410928726196\n"
     ]
    }
   ],
   "source": [
    "# training the arhitecture\n",
    "strt_time = time.time()\n",
    "dbn.fit_model(X_train, y_train)\n",
    "stop_time = time.time()\n",
    "\n",
    "data_1_total_training_time = stop_time - strt_time\n",
    "print('Total Training Time : ', data_1_total_training_time)"
   ]
  },
  {
   "cell_type": "code",
   "execution_count": 50,
   "metadata": {},
   "outputs": [
    {
     "name": "stdout",
     "output_type": "stream",
     "text": [
      "Calculated Feature (51205, 84)\n",
      "Calculated Feature (51205, 84)\n",
      "Calculated Feature (51205, 42)\n",
      "Calculated Feature (51205, 42)\n",
      "Calculated Feature (51205, 12)\n",
      "\n",
      "EXE TIME\n",
      "Total Detection Time : 2.831998\n",
      "AVG Detection Time : 0.00005531 \n",
      "\n",
      "              precision    recall  f1-score   support\n",
      "\n",
      "           0       1.00      0.47      0.64     25602\n",
      "           1       0.65      1.00      0.79     25603\n",
      "\n",
      "    accuracy                           0.73     51205\n",
      "   macro avg       0.83      0.73      0.71     51205\n",
      "weighted avg       0.83      0.73      0.71     51205\n",
      "\n",
      "\n",
      "\n"
     ]
    },
    {
     "data": {
      "text/plain": [
       "<Axes: >"
      ]
     },
     "execution_count": 50,
     "metadata": {},
     "output_type": "execute_result"
    },
    {
     "data": {
      "image/png": "[encoded data removed]",
      "text/plain": [
       "<Figure size 640x480 with 2 Axes>"
      ]
     },
     "metadata": {},
     "output_type": "display_data"
    }
   ],
   "source": [
    "# make prediction\n",
    "strt_time = time.time()\n",
    "prediction = dbn.predict(X_test, y_test)\n",
    "stop_time = time.time()\n",
    "\n",
    "print('\\nEXE TIME')\n",
    "total_time  = stop_time - strt_time\n",
    "avg_time = total_time / X_test.shape[0]\n",
    "print(f'Total Detection Time : {total_time:.6f}')\n",
    "print(f'AVG Detection Time : {avg_time:.8f} \\n')\n",
    "\n",
    "# evaluation report \n",
    "class_report = classification_report(y_test, prediction['pre'])\n",
    "conf_report = confusion_matrix(y_test, prediction['pre'])\n",
    "print(class_report)\n",
    "print('\\n')\n",
    "sn.heatmap(conf_report, fmt='d', annot=True)"
   ]
  },
  {
   "cell_type": "code",
   "execution_count": 185,
   "metadata": {},
   "outputs": [
    {
     "name": "stdout",
     "output_type": "stream",
     "text": [
      "{'TPR (Recall)': 1.0, 'FPR': 0.23236290588552755, 'FNR': 0.0, 'Accuracy': 0.8486505487638167, 'Precision': 0.6973010975276335, 'Recall': 1.0, 'Specificity': 0.7676370941144725, 'AVG EXE TIME': '0.00002803'}\n"
     ]
    },
    {
     "data": {
      "text/plain": [
       "TPR (Recall)           1.0\n",
       "FPR               0.232363\n",
       "FNR                    0.0\n",
       "Accuracy          0.848651\n",
       "Precision         0.697301\n",
       "Recall                 1.0\n",
       "Specificity       0.767637\n",
       "AVG EXE TIME    0.00002803\n",
       "dtype: object"
      ]
     },
     "execution_count": 185,
     "metadata": {},
     "output_type": "execute_result"
    }
   ],
   "source": [
    "tp, fp, fn, tn = conf_report.ravel()\n",
    "metrics1 = compute_metrics(tp, fp, fn, tn, avg_time)\n",
    "print(metrics1)\n",
    "result = pd.Series(metrics1)\n",
    "CIC_DDos_result = result\n",
    "CIC_DDos_result"
   ]
  },
  {
   "cell_type": "markdown",
   "metadata": {},
   "source": [
    "## Dataset 2 (BOT-IOT dataset)"
   ]
  },
  {
   "cell_type": "code",
   "execution_count": 190,
   "metadata": {
    "_cell_guid": "b1076dfc-b9ad-4769-8c92-a6c4dae69d19",
    "_uuid": "8f2839f25d086af736a60e9eeb907d3b93b6e0e5"
   },
   "outputs": [],
   "source": [
    "# This Python 3 environment comes with many helpful analytics libraries installed\n",
    "# It is defined by the kaggle/python Docker image: https://github.com/kaggle/docker-python\n",
    "# For example, here's several helpful packages to load\n",
    "\n",
    "import numpy as np # linear algebra\n",
    "import pandas as pd # data processing, CSV file I/O (e.g. pd.read_csv)\n",
    "\n",
    "# Input data files are available in the read-only \"../input/\" directory\n",
    "# For example, running this (by clicking run or pressing Shift+Enter) will list all files under the input directory\n",
    "\n",
    "import os\n",
    "for dirname, _, filenames in os.walk('/kaggle/input'):\n",
    "    for filename in filenames:\n",
    "        print(os.path.join(dirname, filename))\n",
    "\n",
    "# You can write up to 20GB to the current directory (/kaggle/working/) that gets preserved as output when you create a version using \"Save & Run All\" \n",
    "# You can also write temporary files to /kaggle/temp/, but they won't be saved outside of the current session"
   ]
  },
  {
   "cell_type": "code",
   "execution_count": 191,
   "metadata": {},
   "outputs": [],
   "source": [
    "import pandas as pd "
   ]
  },
  {
   "cell_type": "code",
   "execution_count": 192,
   "metadata": {},
   "outputs": [
    {
     "data": {
      "text/html": [
       "<div>\n",
       "<style scoped>\n",
       "    .dataframe tbody tr th:only-of-type {\n",
       "        vertical-align: middle;\n",
       "    }\n",
       "\n",
       "    .dataframe tbody tr th {\n",
       "        vertical-align: top;\n",
       "    }\n",
       "\n",
       "    .dataframe thead th {\n",
       "        text-align: right;\n",
       "    }\n",
       "</style>\n",
       "<table border=\"1\" class=\"dataframe\">\n",
       "  <thead>\n",
       "    <tr style=\"text-align: right;\">\n",
       "      <th></th>\n",
       "      <th>pkSeqID</th>\n",
       "      <th>stime</th>\n",
       "      <th>flgs</th>\n",
       "      <th>flgs_number</th>\n",
       "      <th>proto</th>\n",
       "      <th>proto_number</th>\n",
       "      <th>saddr</th>\n",
       "      <th>sport</th>\n",
       "      <th>daddr</th>\n",
       "      <th>dport</th>\n",
       "      <th>...</th>\n",
       "      <th>AR_P_Proto_P_DstIP</th>\n",
       "      <th>N_IN_Conn_P_DstIP</th>\n",
       "      <th>N_IN_Conn_P_SrcIP</th>\n",
       "      <th>AR_P_Proto_P_Sport</th>\n",
       "      <th>AR_P_Proto_P_Dport</th>\n",
       "      <th>Pkts_P_State_P_Protocol_P_DestIP</th>\n",
       "      <th>Pkts_P_State_P_Protocol_P_SrcIP</th>\n",
       "      <th>attack</th>\n",
       "      <th>category</th>\n",
       "      <th>subcategory</th>\n",
       "    </tr>\n",
       "  </thead>\n",
       "  <tbody>\n",
       "    <tr>\n",
       "      <th>0</th>\n",
       "      <td>1</td>\n",
       "      <td>1.528089e+09</td>\n",
       "      <td>e</td>\n",
       "      <td>1</td>\n",
       "      <td>tcp</td>\n",
       "      <td>1</td>\n",
       "      <td>192.168.100.147</td>\n",
       "      <td>49960</td>\n",
       "      <td>192.168.100.7</td>\n",
       "      <td>80</td>\n",
       "      <td>...</td>\n",
       "      <td>1.12704</td>\n",
       "      <td>96</td>\n",
       "      <td>75</td>\n",
       "      <td>1.133720</td>\n",
       "      <td>1.129970</td>\n",
       "      <td>770</td>\n",
       "      <td>602</td>\n",
       "      <td>1</td>\n",
       "      <td>DoS</td>\n",
       "      <td>HTTP</td>\n",
       "    </tr>\n",
       "    <tr>\n",
       "      <th>1</th>\n",
       "      <td>2</td>\n",
       "      <td>1.528089e+09</td>\n",
       "      <td>e</td>\n",
       "      <td>1</td>\n",
       "      <td>arp</td>\n",
       "      <td>2</td>\n",
       "      <td>192.168.100.7</td>\n",
       "      <td>-1</td>\n",
       "      <td>192.168.100.147</td>\n",
       "      <td>-1</td>\n",
       "      <td>...</td>\n",
       "      <td>15267.20000</td>\n",
       "      <td>1</td>\n",
       "      <td>2</td>\n",
       "      <td>0.005142</td>\n",
       "      <td>0.005142</td>\n",
       "      <td>2</td>\n",
       "      <td>6</td>\n",
       "      <td>1</td>\n",
       "      <td>DoS</td>\n",
       "      <td>HTTP</td>\n",
       "    </tr>\n",
       "    <tr>\n",
       "      <th>2</th>\n",
       "      <td>3</td>\n",
       "      <td>1.528089e+09</td>\n",
       "      <td>e</td>\n",
       "      <td>1</td>\n",
       "      <td>tcp</td>\n",
       "      <td>1</td>\n",
       "      <td>192.168.100.147</td>\n",
       "      <td>49962</td>\n",
       "      <td>192.168.100.7</td>\n",
       "      <td>80</td>\n",
       "      <td>...</td>\n",
       "      <td>1.12704</td>\n",
       "      <td>96</td>\n",
       "      <td>75</td>\n",
       "      <td>1.135100</td>\n",
       "      <td>1.129970</td>\n",
       "      <td>770</td>\n",
       "      <td>602</td>\n",
       "      <td>1</td>\n",
       "      <td>DoS</td>\n",
       "      <td>HTTP</td>\n",
       "    </tr>\n",
       "    <tr>\n",
       "      <th>3</th>\n",
       "      <td>4</td>\n",
       "      <td>1.528089e+09</td>\n",
       "      <td>e</td>\n",
       "      <td>1</td>\n",
       "      <td>tcp</td>\n",
       "      <td>1</td>\n",
       "      <td>192.168.100.147</td>\n",
       "      <td>49964</td>\n",
       "      <td>192.168.100.7</td>\n",
       "      <td>80</td>\n",
       "      <td>...</td>\n",
       "      <td>1.12704</td>\n",
       "      <td>96</td>\n",
       "      <td>75</td>\n",
       "      <td>1.135140</td>\n",
       "      <td>1.129970</td>\n",
       "      <td>770</td>\n",
       "      <td>602</td>\n",
       "      <td>1</td>\n",
       "      <td>DoS</td>\n",
       "      <td>HTTP</td>\n",
       "    </tr>\n",
       "    <tr>\n",
       "      <th>4</th>\n",
       "      <td>5</td>\n",
       "      <td>1.528089e+09</td>\n",
       "      <td>e</td>\n",
       "      <td>1</td>\n",
       "      <td>tcp</td>\n",
       "      <td>1</td>\n",
       "      <td>192.168.100.147</td>\n",
       "      <td>49966</td>\n",
       "      <td>192.168.100.7</td>\n",
       "      <td>80</td>\n",
       "      <td>...</td>\n",
       "      <td>1.12704</td>\n",
       "      <td>96</td>\n",
       "      <td>75</td>\n",
       "      <td>1.135260</td>\n",
       "      <td>1.129970</td>\n",
       "      <td>770</td>\n",
       "      <td>602</td>\n",
       "      <td>1</td>\n",
       "      <td>DoS</td>\n",
       "      <td>HTTP</td>\n",
       "    </tr>\n",
       "  </tbody>\n",
       "</table>\n",
       "<p>5 rows × 46 columns</p>\n",
       "</div>"
      ],
      "text/plain": [
       "   pkSeqID         stime flgs  flgs_number proto  proto_number  \\\n",
       "0        1  1.528089e+09    e            1   tcp             1   \n",
       "1        2  1.528089e+09    e            1   arp             2   \n",
       "2        3  1.528089e+09    e            1   tcp             1   \n",
       "3        4  1.528089e+09    e            1   tcp             1   \n",
       "4        5  1.528089e+09    e            1   tcp             1   \n",
       "\n",
       "             saddr  sport            daddr dport  ...  AR_P_Proto_P_DstIP  \\\n",
       "0  192.168.100.147  49960    192.168.100.7    80  ...             1.12704   \n",
       "1    192.168.100.7     -1  192.168.100.147    -1  ...         15267.20000   \n",
       "2  192.168.100.147  49962    192.168.100.7    80  ...             1.12704   \n",
       "3  192.168.100.147  49964    192.168.100.7    80  ...             1.12704   \n",
       "4  192.168.100.147  49966    192.168.100.7    80  ...             1.12704   \n",
       "\n",
       "   N_IN_Conn_P_DstIP N_IN_Conn_P_SrcIP  AR_P_Proto_P_Sport  \\\n",
       "0                 96                75            1.133720   \n",
       "1                  1                 2            0.005142   \n",
       "2                 96                75            1.135100   \n",
       "3                 96                75            1.135140   \n",
       "4                 96                75            1.135260   \n",
       "\n",
       "   AR_P_Proto_P_Dport  Pkts_P_State_P_Protocol_P_DestIP  \\\n",
       "0            1.129970                               770   \n",
       "1            0.005142                                 2   \n",
       "2            1.129970                               770   \n",
       "3            1.129970                               770   \n",
       "4            1.129970                               770   \n",
       "\n",
       "   Pkts_P_State_P_Protocol_P_SrcIP  attack  category  subcategory  \n",
       "0                              602       1       DoS         HTTP  \n",
       "1                                6       1       DoS         HTTP  \n",
       "2                              602       1       DoS         HTTP  \n",
       "3                              602       1       DoS         HTTP  \n",
       "4                              602       1       DoS         HTTP  \n",
       "\n",
       "[5 rows x 46 columns]"
      ]
     },
     "execution_count": 192,
     "metadata": {},
     "output_type": "execute_result"
    }
   ],
   "source": [
    "data1 = pd.read_csv('BOT-IOT/reduced_data_1.csv')\n",
    "data2 = pd.read_csv('BOT-IOT/reduced_data_2.csv')\n",
    "data3 = pd.read_csv('BOT-IOT/reduced_data_3.csv')\n",
    "data4 = pd.read_csv('BOT-IOT/reduced_data_4.csv')\n",
    "\n",
    "df = pd.concat([data1, data2, data3, data4])\n",
    "\n",
    "df.head()"
   ]
  },
  {
   "cell_type": "code",
   "execution_count": 193,
   "metadata": {},
   "outputs": [
    {
     "data": {
      "text/html": [
       "<div>\n",
       "<style scoped>\n",
       "    .dataframe tbody tr th:only-of-type {\n",
       "        vertical-align: middle;\n",
       "    }\n",
       "\n",
       "    .dataframe tbody tr th {\n",
       "        vertical-align: top;\n",
       "    }\n",
       "\n",
       "    .dataframe thead th {\n",
       "        text-align: right;\n",
       "    }\n",
       "</style>\n",
       "<table border=\"1\" class=\"dataframe\">\n",
       "  <thead>\n",
       "    <tr style=\"text-align: right;\">\n",
       "      <th></th>\n",
       "      <th>pkSeqID</th>\n",
       "      <th>stime</th>\n",
       "      <th>flgs</th>\n",
       "      <th>flgs_number</th>\n",
       "      <th>proto</th>\n",
       "      <th>proto_number</th>\n",
       "      <th>saddr</th>\n",
       "      <th>sport</th>\n",
       "      <th>daddr</th>\n",
       "      <th>dport</th>\n",
       "      <th>...</th>\n",
       "      <th>AR_P_Proto_P_DstIP</th>\n",
       "      <th>N_IN_Conn_P_DstIP</th>\n",
       "      <th>N_IN_Conn_P_SrcIP</th>\n",
       "      <th>AR_P_Proto_P_Sport</th>\n",
       "      <th>AR_P_Proto_P_Dport</th>\n",
       "      <th>Pkts_P_State_P_Protocol_P_DestIP</th>\n",
       "      <th>Pkts_P_State_P_Protocol_P_SrcIP</th>\n",
       "      <th>attack</th>\n",
       "      <th>category</th>\n",
       "      <th>subcategory</th>\n",
       "    </tr>\n",
       "  </thead>\n",
       "  <tbody>\n",
       "    <tr>\n",
       "      <th>0</th>\n",
       "      <td>1</td>\n",
       "      <td>1.528089e+09</td>\n",
       "      <td>e</td>\n",
       "      <td>1</td>\n",
       "      <td>tcp</td>\n",
       "      <td>1</td>\n",
       "      <td>192.168.100.147</td>\n",
       "      <td>49960</td>\n",
       "      <td>192.168.100.7</td>\n",
       "      <td>80</td>\n",
       "      <td>...</td>\n",
       "      <td>1.12704</td>\n",
       "      <td>96</td>\n",
       "      <td>75</td>\n",
       "      <td>1.133720</td>\n",
       "      <td>1.129970</td>\n",
       "      <td>770</td>\n",
       "      <td>602</td>\n",
       "      <td>1</td>\n",
       "      <td>DoS</td>\n",
       "      <td>HTTP</td>\n",
       "    </tr>\n",
       "    <tr>\n",
       "      <th>1</th>\n",
       "      <td>2</td>\n",
       "      <td>1.528089e+09</td>\n",
       "      <td>e</td>\n",
       "      <td>1</td>\n",
       "      <td>arp</td>\n",
       "      <td>2</td>\n",
       "      <td>192.168.100.7</td>\n",
       "      <td>-1</td>\n",
       "      <td>192.168.100.147</td>\n",
       "      <td>-1</td>\n",
       "      <td>...</td>\n",
       "      <td>15267.20000</td>\n",
       "      <td>1</td>\n",
       "      <td>2</td>\n",
       "      <td>0.005142</td>\n",
       "      <td>0.005142</td>\n",
       "      <td>2</td>\n",
       "      <td>6</td>\n",
       "      <td>1</td>\n",
       "      <td>DoS</td>\n",
       "      <td>HTTP</td>\n",
       "    </tr>\n",
       "  </tbody>\n",
       "</table>\n",
       "<p>2 rows × 46 columns</p>\n",
       "</div>"
      ],
      "text/plain": [
       "   pkSeqID         stime flgs  flgs_number proto  proto_number  \\\n",
       "0        1  1.528089e+09    e            1   tcp             1   \n",
       "1        2  1.528089e+09    e            1   arp             2   \n",
       "\n",
       "             saddr  sport            daddr dport  ...  AR_P_Proto_P_DstIP  \\\n",
       "0  192.168.100.147  49960    192.168.100.7    80  ...             1.12704   \n",
       "1    192.168.100.7     -1  192.168.100.147    -1  ...         15267.20000   \n",
       "\n",
       "   N_IN_Conn_P_DstIP N_IN_Conn_P_SrcIP  AR_P_Proto_P_Sport  \\\n",
       "0                 96                75            1.133720   \n",
       "1                  1                 2            0.005142   \n",
       "\n",
       "   AR_P_Proto_P_Dport  Pkts_P_State_P_Protocol_P_DestIP  \\\n",
       "0            1.129970                               770   \n",
       "1            0.005142                                 2   \n",
       "\n",
       "   Pkts_P_State_P_Protocol_P_SrcIP  attack  category  subcategory  \n",
       "0                              602       1       DoS         HTTP  \n",
       "1                                6       1       DoS         HTTP  \n",
       "\n",
       "[2 rows x 46 columns]"
      ]
     },
     "execution_count": 193,
     "metadata": {},
     "output_type": "execute_result"
    }
   ],
   "source": [
    "df.head(2)"
   ]
  },
  {
   "cell_type": "code",
   "execution_count": 194,
   "metadata": {},
   "outputs": [
    {
     "data": {
      "text/html": [
       "<div>\n",
       "<style scoped>\n",
       "    .dataframe tbody tr th:only-of-type {\n",
       "        vertical-align: middle;\n",
       "    }\n",
       "\n",
       "    .dataframe tbody tr th {\n",
       "        vertical-align: top;\n",
       "    }\n",
       "\n",
       "    .dataframe thead th {\n",
       "        text-align: right;\n",
       "    }\n",
       "</style>\n",
       "<table border=\"1\" class=\"dataframe\">\n",
       "  <thead>\n",
       "    <tr style=\"text-align: right;\">\n",
       "      <th></th>\n",
       "      <th>pkSeqID</th>\n",
       "      <th>stime</th>\n",
       "      <th>flgs</th>\n",
       "      <th>flgs_number</th>\n",
       "      <th>proto</th>\n",
       "      <th>proto_number</th>\n",
       "      <th>saddr</th>\n",
       "      <th>sport</th>\n",
       "      <th>daddr</th>\n",
       "      <th>dport</th>\n",
       "      <th>...</th>\n",
       "      <th>AR_P_Proto_P_DstIP</th>\n",
       "      <th>N_IN_Conn_P_DstIP</th>\n",
       "      <th>N_IN_Conn_P_SrcIP</th>\n",
       "      <th>AR_P_Proto_P_Sport</th>\n",
       "      <th>AR_P_Proto_P_Dport</th>\n",
       "      <th>Pkts_P_State_P_Protocol_P_DestIP</th>\n",
       "      <th>Pkts_P_State_P_Protocol_P_SrcIP</th>\n",
       "      <th>attack</th>\n",
       "      <th>category</th>\n",
       "      <th>subcategory</th>\n",
       "    </tr>\n",
       "  </thead>\n",
       "  <tbody>\n",
       "    <tr>\n",
       "      <th>668520</th>\n",
       "      <td>3668521</td>\n",
       "      <td>1.529381e+09</td>\n",
       "      <td>e</td>\n",
       "      <td>1</td>\n",
       "      <td>tcp</td>\n",
       "      <td>1</td>\n",
       "      <td>192.168.100.3</td>\n",
       "      <td>43001</td>\n",
       "      <td>192.168.100.150</td>\n",
       "      <td>4433</td>\n",
       "      <td>...</td>\n",
       "      <td>666667.000000</td>\n",
       "      <td>1</td>\n",
       "      <td>3</td>\n",
       "      <td>666667.000000</td>\n",
       "      <td>22346.400000</td>\n",
       "      <td>2</td>\n",
       "      <td>4</td>\n",
       "      <td>1</td>\n",
       "      <td>Theft</td>\n",
       "      <td>Keylogging</td>\n",
       "    </tr>\n",
       "    <tr>\n",
       "      <th>668521</th>\n",
       "      <td>3668522</td>\n",
       "      <td>1.529381e+09</td>\n",
       "      <td>e</td>\n",
       "      <td>1</td>\n",
       "      <td>arp</td>\n",
       "      <td>2</td>\n",
       "      <td>192.168.100.3</td>\n",
       "      <td>-1</td>\n",
       "      <td>192.168.100.149</td>\n",
       "      <td>-1</td>\n",
       "      <td>...</td>\n",
       "      <td>0.018868</td>\n",
       "      <td>2</td>\n",
       "      <td>3</td>\n",
       "      <td>0.018868</td>\n",
       "      <td>0.018868</td>\n",
       "      <td>16</td>\n",
       "      <td>16</td>\n",
       "      <td>1</td>\n",
       "      <td>Theft</td>\n",
       "      <td>Keylogging</td>\n",
       "    </tr>\n",
       "  </tbody>\n",
       "</table>\n",
       "<p>2 rows × 46 columns</p>\n",
       "</div>"
      ],
      "text/plain": [
       "        pkSeqID         stime flgs  flgs_number proto  proto_number  \\\n",
       "668520  3668521  1.529381e+09    e            1   tcp             1   \n",
       "668521  3668522  1.529381e+09    e            1   arp             2   \n",
       "\n",
       "                saddr  sport            daddr dport  ...  AR_P_Proto_P_DstIP  \\\n",
       "668520  192.168.100.3  43001  192.168.100.150  4433  ...       666667.000000   \n",
       "668521  192.168.100.3     -1  192.168.100.149    -1  ...            0.018868   \n",
       "\n",
       "        N_IN_Conn_P_DstIP N_IN_Conn_P_SrcIP  AR_P_Proto_P_Sport  \\\n",
       "668520                  1                 3       666667.000000   \n",
       "668521                  2                 3            0.018868   \n",
       "\n",
       "        AR_P_Proto_P_Dport  Pkts_P_State_P_Protocol_P_DestIP  \\\n",
       "668520        22346.400000                                 2   \n",
       "668521            0.018868                                16   \n",
       "\n",
       "        Pkts_P_State_P_Protocol_P_SrcIP  attack  category  subcategory  \n",
       "668520                                4       1     Theft   Keylogging  \n",
       "668521                               16       1     Theft   Keylogging  \n",
       "\n",
       "[2 rows x 46 columns]"
      ]
     },
     "execution_count": 194,
     "metadata": {},
     "output_type": "execute_result"
    }
   ],
   "source": [
    "df.tail(2)"
   ]
  },
  {
   "cell_type": "code",
   "execution_count": 195,
   "metadata": {},
   "outputs": [
    {
     "data": {
      "text/html": [
       "<div>\n",
       "<style scoped>\n",
       "    .dataframe tbody tr th:only-of-type {\n",
       "        vertical-align: middle;\n",
       "    }\n",
       "\n",
       "    .dataframe tbody tr th {\n",
       "        vertical-align: top;\n",
       "    }\n",
       "\n",
       "    .dataframe thead th {\n",
       "        text-align: right;\n",
       "    }\n",
       "</style>\n",
       "<table border=\"1\" class=\"dataframe\">\n",
       "  <thead>\n",
       "    <tr style=\"text-align: right;\">\n",
       "      <th></th>\n",
       "      <th>pkSeqID</th>\n",
       "      <th>stime</th>\n",
       "      <th>flgs</th>\n",
       "      <th>flgs_number</th>\n",
       "      <th>proto</th>\n",
       "      <th>proto_number</th>\n",
       "      <th>saddr</th>\n",
       "      <th>sport</th>\n",
       "      <th>daddr</th>\n",
       "      <th>dport</th>\n",
       "      <th>...</th>\n",
       "      <th>AR_P_Proto_P_DstIP</th>\n",
       "      <th>N_IN_Conn_P_DstIP</th>\n",
       "      <th>N_IN_Conn_P_SrcIP</th>\n",
       "      <th>AR_P_Proto_P_Sport</th>\n",
       "      <th>AR_P_Proto_P_Dport</th>\n",
       "      <th>Pkts_P_State_P_Protocol_P_DestIP</th>\n",
       "      <th>Pkts_P_State_P_Protocol_P_SrcIP</th>\n",
       "      <th>attack</th>\n",
       "      <th>category</th>\n",
       "      <th>subcategory</th>\n",
       "    </tr>\n",
       "  </thead>\n",
       "  <tbody>\n",
       "    <tr>\n",
       "      <th>707132</th>\n",
       "      <td>2707133</td>\n",
       "      <td>1.528099e+09</td>\n",
       "      <td>e</td>\n",
       "      <td>1</td>\n",
       "      <td>udp</td>\n",
       "      <td>3</td>\n",
       "      <td>192.168.100.150</td>\n",
       "      <td>5798</td>\n",
       "      <td>192.168.100.3</td>\n",
       "      <td>80</td>\n",
       "      <td>...</td>\n",
       "      <td>0.464136</td>\n",
       "      <td>100</td>\n",
       "      <td>100</td>\n",
       "      <td>0.464136</td>\n",
       "      <td>0.464136</td>\n",
       "      <td>700</td>\n",
       "      <td>700</td>\n",
       "      <td>1</td>\n",
       "      <td>DDoS</td>\n",
       "      <td>UDP</td>\n",
       "    </tr>\n",
       "    <tr>\n",
       "      <th>789569</th>\n",
       "      <td>789570</td>\n",
       "      <td>1.528085e+09</td>\n",
       "      <td>e</td>\n",
       "      <td>1</td>\n",
       "      <td>udp</td>\n",
       "      <td>3</td>\n",
       "      <td>192.168.100.150</td>\n",
       "      <td>47443</td>\n",
       "      <td>192.168.100.3</td>\n",
       "      <td>80</td>\n",
       "      <td>...</td>\n",
       "      <td>0.444276</td>\n",
       "      <td>37</td>\n",
       "      <td>37</td>\n",
       "      <td>0.444276</td>\n",
       "      <td>0.324568</td>\n",
       "      <td>407</td>\n",
       "      <td>407</td>\n",
       "      <td>1</td>\n",
       "      <td>DoS</td>\n",
       "      <td>UDP</td>\n",
       "    </tr>\n",
       "    <tr>\n",
       "      <th>434930</th>\n",
       "      <td>434931</td>\n",
       "      <td>1.528081e+09</td>\n",
       "      <td>e s</td>\n",
       "      <td>2</td>\n",
       "      <td>tcp</td>\n",
       "      <td>1</td>\n",
       "      <td>192.168.100.147</td>\n",
       "      <td>33604</td>\n",
       "      <td>192.168.100.7</td>\n",
       "      <td>80</td>\n",
       "      <td>...</td>\n",
       "      <td>0.209367</td>\n",
       "      <td>88</td>\n",
       "      <td>88</td>\n",
       "      <td>0.209283</td>\n",
       "      <td>0.212365</td>\n",
       "      <td>440</td>\n",
       "      <td>440</td>\n",
       "      <td>1</td>\n",
       "      <td>DoS</td>\n",
       "      <td>TCP</td>\n",
       "    </tr>\n",
       "  </tbody>\n",
       "</table>\n",
       "<p>3 rows × 46 columns</p>\n",
       "</div>"
      ],
      "text/plain": [
       "        pkSeqID         stime flgs  flgs_number proto  proto_number  \\\n",
       "707132  2707133  1.528099e+09    e            1   udp             3   \n",
       "789569   789570  1.528085e+09    e            1   udp             3   \n",
       "434930   434931  1.528081e+09  e s            2   tcp             1   \n",
       "\n",
       "                  saddr  sport          daddr dport  ...  AR_P_Proto_P_DstIP  \\\n",
       "707132  192.168.100.150   5798  192.168.100.3    80  ...            0.464136   \n",
       "789569  192.168.100.150  47443  192.168.100.3    80  ...            0.444276   \n",
       "434930  192.168.100.147  33604  192.168.100.7    80  ...            0.209367   \n",
       "\n",
       "        N_IN_Conn_P_DstIP N_IN_Conn_P_SrcIP  AR_P_Proto_P_Sport  \\\n",
       "707132                100               100            0.464136   \n",
       "789569                 37                37            0.444276   \n",
       "434930                 88                88            0.209283   \n",
       "\n",
       "        AR_P_Proto_P_Dport  Pkts_P_State_P_Protocol_P_DestIP  \\\n",
       "707132            0.464136                               700   \n",
       "789569            0.324568                               407   \n",
       "434930            0.212365                               440   \n",
       "\n",
       "        Pkts_P_State_P_Protocol_P_SrcIP  attack  category  subcategory  \n",
       "707132                              700       1      DDoS          UDP  \n",
       "789569                              407       1       DoS          UDP  \n",
       "434930                              440       1       DoS          TCP  \n",
       "\n",
       "[3 rows x 46 columns]"
      ]
     },
     "execution_count": 195,
     "metadata": {},
     "output_type": "execute_result"
    }
   ],
   "source": [
    "df.sample(3)"
   ]
  },
  {
   "cell_type": "code",
   "execution_count": 196,
   "metadata": {},
   "outputs": [
    {
     "name": "stdout",
     "output_type": "stream",
     "text": [
      "ROW (Samples) : 3668522 \n",
      "COL (Features) : 46\n"
     ]
    }
   ],
   "source": [
    "row , col = df.shape\n",
    "print(f'ROW (Samples) : {row} \\nCOL (Features) : {col}')"
   ]
  },
  {
   "cell_type": "code",
   "execution_count": 197,
   "metadata": {},
   "outputs": [
    {
     "data": {
      "text/plain": [
       "1    3668045\n",
       "0        477\n",
       "Name: attack, dtype: int64"
      ]
     },
     "execution_count": 197,
     "metadata": {},
     "output_type": "execute_result"
    }
   ],
   "source": [
    "df['attack'].value_counts()"
   ]
  },
  {
   "cell_type": "code",
   "execution_count": 198,
   "metadata": {},
   "outputs": [
    {
     "data": {
      "text/plain": [
       "DDoS              1926624\n",
       "DoS               1650260\n",
       "Reconnaissance      91082\n",
       "Normal                477\n",
       "Theft                  79\n",
       "Name: category, dtype: int64"
      ]
     },
     "execution_count": 198,
     "metadata": {},
     "output_type": "execute_result"
    }
   ],
   "source": [
    "df['category'].value_counts()"
   ]
  },
  {
   "cell_type": "code",
   "execution_count": 199,
   "metadata": {},
   "outputs": [
    {
     "data": {
      "image/png": "[encoded data removed]",
      "text/plain": [
       "<Figure size 400x400 with 1 Axes>"
      ]
     },
     "metadata": {},
     "output_type": "display_data"
    }
   ],
   "source": [
    "import seaborn as sn\n",
    "import matplotlib.pyplot as plt\n",
    "\n",
    "sn.set_theme(style=\"darkgrid\") \n",
    "plt.figure(figsize=(4,4))\n",
    "df['attack'].value_counts().plot(kind='bar', color=['gold', 'brown'])\n",
    "plt.title('Class Distribution Count')\n",
    "plt.ylabel('Count')\n",
    "plt.xlabel('Class')\n",
    "plt.grid()"
   ]
  },
  {
   "cell_type": "code",
   "execution_count": 200,
   "metadata": {},
   "outputs": [
    {
     "data": {
      "image/png": "[encoded data removed]",
      "text/plain": [
       "<Figure size 400x400 with 1 Axes>"
      ]
     },
     "metadata": {},
     "output_type": "display_data"
    }
   ],
   "source": [
    "import seaborn as sn\n",
    "import matplotlib.pyplot as plt\n",
    "\n",
    "sn.set_theme(style=\"darkgrid\") \n",
    "plt.figure(figsize=(4,4))\n",
    "df['category'].value_counts().plot(kind='bar', color=['gold', 'brown', 'blue', 'red'])\n",
    "plt.title('Class Distribution Count')\n",
    "plt.ylabel('Count')\n",
    "plt.xlabel('Class')\n",
    "plt.grid()"
   ]
  },
  {
   "cell_type": "code",
   "execution_count": 201,
   "metadata": {},
   "outputs": [
    {
     "name": "stdout",
     "output_type": "stream",
     "text": [
      "<class 'pandas.core.frame.DataFrame'>\n",
      "Int64Index: 3668522 entries, 0 to 668521\n",
      "Data columns (total 46 columns):\n",
      " #   Column                            Dtype  \n",
      "---  ------                            -----  \n",
      " 0   pkSeqID                           int64  \n",
      " 1   stime                             float64\n",
      " 2   flgs                              object \n",
      " 3   flgs_number                       int64  \n",
      " 4   proto                             object \n",
      " 5   proto_number                      int64  \n",
      " 6   saddr                             object \n",
      " 7   sport                             object \n",
      " 8   daddr                             object \n",
      " 9   dport                             object \n",
      " 10  pkts                              int64  \n",
      " 11  bytes                             int64  \n",
      " 12  state                             object \n",
      " 13  state_number                      int64  \n",
      " 14  ltime                             float64\n",
      " 15  seq                               int64  \n",
      " 16  dur                               float64\n",
      " 17  mean                              float64\n",
      " 18  stddev                            float64\n",
      " 19  sum                               float64\n",
      " 20  min                               float64\n",
      " 21  max                               float64\n",
      " 22  spkts                             int64  \n",
      " 23  dpkts                             int64  \n",
      " 24  sbytes                            int64  \n",
      " 25  dbytes                            int64  \n",
      " 26  rate                              float64\n",
      " 27  srate                             float64\n",
      " 28  drate                             float64\n",
      " 29  TnBPSrcIP                         int64  \n",
      " 30  TnBPDstIP                         int64  \n",
      " 31  TnP_PSrcIP                        int64  \n",
      " 32  TnP_PDstIP                        int64  \n",
      " 33  TnP_PerProto                      int64  \n",
      " 34  TnP_Per_Dport                     int64  \n",
      " 35  AR_P_Proto_P_SrcIP                float64\n",
      " 36  AR_P_Proto_P_DstIP                float64\n",
      " 37  N_IN_Conn_P_DstIP                 int64  \n",
      " 38  N_IN_Conn_P_SrcIP                 int64  \n",
      " 39  AR_P_Proto_P_Sport                float64\n",
      " 40  AR_P_Proto_P_Dport                float64\n",
      " 41  Pkts_P_State_P_Protocol_P_DestIP  int64  \n",
      " 42  Pkts_P_State_P_Protocol_P_SrcIP   int64  \n",
      " 43  attack                            int64  \n",
      " 44  category                          object \n",
      " 45  subcategory                       object \n",
      "dtypes: float64(15), int64(22), object(9)\n",
      "memory usage: 1.3+ GB\n"
     ]
    }
   ],
   "source": [
    "df.info()"
   ]
  },
  {
   "cell_type": "code",
   "execution_count": 202,
   "metadata": {},
   "outputs": [
    {
     "name": "stdout",
     "output_type": "stream",
     "text": [
      "<class 'pandas.core.frame.DataFrame'>\n",
      "Int64Index: 3668522 entries, 0 to 668521\n",
      "Data columns (total 46 columns):\n",
      " #   Column                            Dtype  \n",
      "---  ------                            -----  \n",
      " 0   pkSeqID                           int64  \n",
      " 1   stime                             float64\n",
      " 2   flgs                              int8   \n",
      " 3   flgs_number                       int64  \n",
      " 4   proto                             int8   \n",
      " 5   proto_number                      int64  \n",
      " 6   saddr                             int8   \n",
      " 7   sport                             int32  \n",
      " 8   daddr                             int8   \n",
      " 9   dport                             int16  \n",
      " 10  pkts                              int64  \n",
      " 11  bytes                             int64  \n",
      " 12  state                             int8   \n",
      " 13  state_number                      int64  \n",
      " 14  ltime                             float64\n",
      " 15  seq                               int64  \n",
      " 16  dur                               float64\n",
      " 17  mean                              float64\n",
      " 18  stddev                            float64\n",
      " 19  sum                               float64\n",
      " 20  min                               float64\n",
      " 21  max                               float64\n",
      " 22  spkts                             int64  \n",
      " 23  dpkts                             int64  \n",
      " 24  sbytes                            int64  \n",
      " 25  dbytes                            int64  \n",
      " 26  rate                              float64\n",
      " 27  srate                             float64\n",
      " 28  drate                             float64\n",
      " 29  TnBPSrcIP                         int64  \n",
      " 30  TnBPDstIP                         int64  \n",
      " 31  TnP_PSrcIP                        int64  \n",
      " 32  TnP_PDstIP                        int64  \n",
      " 33  TnP_PerProto                      int64  \n",
      " 34  TnP_Per_Dport                     int64  \n",
      " 35  AR_P_Proto_P_SrcIP                float64\n",
      " 36  AR_P_Proto_P_DstIP                float64\n",
      " 37  N_IN_Conn_P_DstIP                 int64  \n",
      " 38  N_IN_Conn_P_SrcIP                 int64  \n",
      " 39  AR_P_Proto_P_Sport                float64\n",
      " 40  AR_P_Proto_P_Dport                float64\n",
      " 41  Pkts_P_State_P_Protocol_P_DestIP  int64  \n",
      " 42  Pkts_P_State_P_Protocol_P_SrcIP   int64  \n",
      " 43  attack                            int64  \n",
      " 44  category                          int8   \n",
      " 45  subcategory                       int8   \n",
      "dtypes: float64(15), int16(1), int32(1), int64(22), int8(7)\n",
      "memory usage: 1.1 GB\n"
     ]
    }
   ],
   "source": [
    "# convert object to cateries type before encoding\n",
    "for col in df.columns: \n",
    "    if df[col].dtype == 'object': \n",
    "        df[col] = df[col].astype('category').cat.codes\n",
    "\n",
    "df.info()"
   ]
  },
  {
   "cell_type": "code",
   "execution_count": 203,
   "metadata": {},
   "outputs": [
    {
     "name": "stdout",
     "output_type": "stream",
     "text": [
      "columns : pkSeqID\n",
      "668512    3668513\n",
      "668513    3668514\n",
      "668514    3668515\n",
      "668515    3668516\n",
      "668516    3668517\n",
      "668517    3668518\n",
      "668518    3668519\n",
      "668519    3668520\n",
      "668520    3668521\n",
      "668521    3668522\n",
      "Name: pkSeqID, dtype: int64\n",
      "columns : stime\n",
      "668512    1.529381e+09\n",
      "668513    1.529381e+09\n",
      "668514    1.529381e+09\n",
      "668515    1.529381e+09\n",
      "668516    1.529381e+09\n",
      "668517    1.529381e+09\n",
      "668518    1.529381e+09\n",
      "668519    1.529381e+09\n",
      "668520    1.529381e+09\n",
      "668521    1.529381e+09\n",
      "Name: stime, dtype: float64\n",
      "columns : flgs\n",
      "668512    0\n",
      "668513    0\n",
      "668514    0\n",
      "668515    0\n",
      "668516    0\n",
      "668517    0\n",
      "668518    0\n",
      "668519    0\n",
      "668520    0\n",
      "668521    0\n",
      "Name: flgs, dtype: int8\n",
      "columns : flgs_number\n",
      "668512    1\n",
      "668513    1\n",
      "668514    1\n",
      "668515    1\n",
      "668516    1\n",
      "668517    1\n",
      "668518    1\n",
      "668519    1\n",
      "668520    1\n",
      "668521    1\n",
      "Name: flgs_number, dtype: int64\n",
      "columns : proto\n",
      "668512    3\n",
      "668513    3\n",
      "668514    3\n",
      "668515    3\n",
      "668516    3\n",
      "668517    3\n",
      "668518    3\n",
      "668519    3\n",
      "668520    3\n",
      "668521    0\n",
      "Name: proto, dtype: int8\n",
      "columns : proto_number\n",
      "668512    1\n",
      "668513    1\n",
      "668514    1\n",
      "668515    1\n",
      "668516    1\n",
      "668517    1\n",
      "668518    1\n",
      "668519    1\n",
      "668520    1\n",
      "668521    2\n",
      "Name: proto_number, dtype: int64\n",
      "columns : saddr\n",
      "668512    4\n",
      "668513    4\n",
      "668514    4\n",
      "668515    6\n",
      "668516    4\n",
      "668517    4\n",
      "668518    4\n",
      "668519    4\n",
      "668520    6\n",
      "668521    6\n",
      "Name: saddr, dtype: int8\n",
      "columns : sport\n",
      "668512     93385\n",
      "668513     93387\n",
      "668514     93390\n",
      "668515    115337\n",
      "668516     93392\n",
      "668517     93394\n",
      "668518     93396\n",
      "668519     93401\n",
      "668520    102214\n",
      "668521     65537\n",
      "Name: sport, dtype: int32\n",
      "columns : daddr\n",
      "668512    16\n",
      "668513    16\n",
      "668514    16\n",
      "668515    12\n",
      "668516    16\n",
      "668517    16\n",
      "668518    16\n",
      "668519    16\n",
      "668520    13\n",
      "668521    12\n",
      "Name: daddr, dtype: int8\n",
      "columns : dport\n",
      "668512    5781\n",
      "668513    5781\n",
      "668514    5781\n",
      "668515    6567\n",
      "668516    5781\n",
      "668517    5781\n",
      "668518    5781\n",
      "668519    5781\n",
      "668520    6567\n",
      "668521    3875\n",
      "Name: dport, dtype: int16\n",
      "columns : pkts\n",
      "668512    31\n",
      "668513     6\n",
      "668514    31\n",
      "668515     2\n",
      "668516     6\n",
      "668517     6\n",
      "668518     6\n",
      "668519    31\n",
      "668520     2\n",
      "668521    16\n",
      "Name: pkts, dtype: int64\n",
      "columns : bytes\n",
      "668512    5472\n",
      "668513     434\n",
      "668514    5472\n",
      "668515     134\n",
      "668516     434\n",
      "668517     434\n",
      "668518     434\n",
      "668519    5472\n",
      "668520     134\n",
      "668521     960\n",
      "Name: bytes, dtype: int64\n",
      "columns : state\n",
      "668512    3\n",
      "668513    8\n",
      "668514    3\n",
      "668515    8\n",
      "668516    8\n",
      "668517    8\n",
      "668518    8\n",
      "668519    3\n",
      "668520    8\n",
      "668521    1\n",
      "Name: state, dtype: int8\n",
      "columns : state_number\n",
      "668512    6\n",
      "668513    1\n",
      "668514    6\n",
      "668515    1\n",
      "668516    1\n",
      "668517    1\n",
      "668518    1\n",
      "668519    6\n",
      "668520    1\n",
      "668521    2\n",
      "Name: state_number, dtype: int64\n",
      "columns : ltime\n",
      "668512    1.529381e+09\n",
      "668513    1.529381e+09\n",
      "668514    1.529381e+09\n",
      "668515    1.529381e+09\n",
      "668516    1.529381e+09\n",
      "668517    1.529381e+09\n",
      "668518    1.529381e+09\n",
      "668519    1.529381e+09\n",
      "668520    1.529381e+09\n",
      "668521    1.529382e+09\n",
      "Name: ltime, dtype: float64\n",
      "columns : seq\n",
      "668512    76\n",
      "668513    77\n",
      "668514    78\n",
      "668515    79\n",
      "668516    80\n",
      "668517    81\n",
      "668518    82\n",
      "668519    84\n",
      "668520    85\n",
      "668521    10\n",
      "Name: seq, dtype: int64\n",
      "columns : dur\n",
      "668512      3.430033\n",
      "668513      0.095947\n",
      "668514      3.430919\n",
      "668515      0.000176\n",
      "668516      0.023737\n",
      "668517      0.013165\n",
      "668518      0.000574\n",
      "668519      2.874302\n",
      "668520      0.000003\n",
      "668521    848.002686\n",
      "Name: dur, dtype: float64\n",
      "columns : mean\n",
      "668512    3.430033\n",
      "668513    0.095947\n",
      "668514    3.430919\n",
      "668515    0.000176\n",
      "668516    0.023737\n",
      "668517    0.013165\n",
      "668518    0.000574\n",
      "668519    2.874302\n",
      "668520    0.000003\n",
      "668521    0.000145\n",
      "Name: mean, dtype: float64\n",
      "columns : stddev\n",
      "668512    0.000000\n",
      "668513    0.000000\n",
      "668514    0.000000\n",
      "668515    0.000000\n",
      "668516    0.000000\n",
      "668517    0.000000\n",
      "668518    0.000000\n",
      "668519    0.000000\n",
      "668520    0.000000\n",
      "668521    0.000056\n",
      "Name: stddev, dtype: float64\n",
      "columns : sum\n",
      "668512    3.430033\n",
      "668513    0.095947\n",
      "668514    3.430919\n",
      "668515    0.000176\n",
      "668516    0.023737\n",
      "668517    0.013165\n",
      "668518    0.000574\n",
      "668519    2.874302\n",
      "668520    0.000003\n",
      "668521    0.001160\n",
      "Name: sum, dtype: float64\n",
      "columns : min\n",
      "668512    3.430033\n",
      "668513    0.095947\n",
      "668514    3.430919\n",
      "668515    0.000176\n",
      "668516    0.023737\n",
      "668517    0.013165\n",
      "668518    0.000574\n",
      "668519    2.874302\n",
      "668520    0.000003\n",
      "668521    0.000080\n",
      "Name: min, dtype: float64\n",
      "columns : max\n",
      "668512    3.430033\n",
      "668513    0.095947\n",
      "668514    3.430919\n",
      "668515    0.000176\n",
      "668516    0.023737\n",
      "668517    0.013165\n",
      "668518    0.000574\n",
      "668519    2.874302\n",
      "668520    0.000003\n",
      "668521    0.000272\n",
      "Name: max, dtype: float64\n",
      "columns : spkts\n",
      "668512    14\n",
      "668513     3\n",
      "668514    14\n",
      "668515     1\n",
      "668516     3\n",
      "668517     3\n",
      "668518     3\n",
      "668519    14\n",
      "668520     1\n",
      "668521     8\n",
      "Name: spkts, dtype: int64\n",
      "columns : dpkts\n",
      "668512    17\n",
      "668513     3\n",
      "668514    17\n",
      "668515     1\n",
      "668516     3\n",
      "668517     3\n",
      "668518     3\n",
      "668519    17\n",
      "668520     1\n",
      "668521     8\n",
      "Name: dpkts, dtype: int64\n",
      "columns : sbytes\n",
      "668512    1802\n",
      "668513     228\n",
      "668514    1802\n",
      "668515      74\n",
      "668516     228\n",
      "668517     228\n",
      "668518     228\n",
      "668519    1802\n",
      "668520      74\n",
      "668521     480\n",
      "Name: sbytes, dtype: int64\n",
      "columns : dbytes\n",
      "668512    3670\n",
      "668513     206\n",
      "668514    3670\n",
      "668515      60\n",
      "668516     206\n",
      "668517     206\n",
      "668518     206\n",
      "668519    3670\n",
      "668520      60\n",
      "668521     480\n",
      "Name: dbytes, dtype: int64\n",
      "columns : rate\n",
      "668512         8.746272\n",
      "668513        52.112106\n",
      "668514         8.744013\n",
      "668515      5681.818359\n",
      "668516       210.641617\n",
      "668517       379.794922\n",
      "668518      8710.801758\n",
      "668519        10.437317\n",
      "668520    333333.312500\n",
      "668521         0.017689\n",
      "Name: rate, dtype: float64\n",
      "columns : srate\n",
      "668512       3.790051\n",
      "668513      20.844843\n",
      "668514       3.789072\n",
      "668515       0.000000\n",
      "668516      84.256645\n",
      "668517     151.917969\n",
      "668518    3484.320557\n",
      "668519       4.522837\n",
      "668520       0.000000\n",
      "668521       0.008255\n",
      "Name: srate, dtype: float64\n",
      "columns : drate\n",
      "668512       4.664678\n",
      "668513      20.844843\n",
      "668514       4.663474\n",
      "668515       0.000000\n",
      "668516      84.256645\n",
      "668517     151.917969\n",
      "668518    3484.320557\n",
      "668519       5.566569\n",
      "668520       0.000000\n",
      "668521       0.008255\n",
      "Name: drate, dtype: float64\n",
      "columns : TnBPSrcIP\n",
      "668512    79240\n",
      "668513    79240\n",
      "668514    79240\n",
      "668515     1228\n",
      "668516    79240\n",
      "668517    79240\n",
      "668518    79240\n",
      "668519    79240\n",
      "668520     1228\n",
      "668521     1228\n",
      "Name: TnBPSrcIP, dtype: int64\n"
     ]
    }
   ],
   "source": [
    "for col in df.columns[:30]:\n",
    "    print('columns :' , col)\n",
    "    print(df[col][-10:])"
   ]
  },
  {
   "cell_type": "code",
   "execution_count": 204,
   "metadata": {},
   "outputs": [
    {
     "data": {
      "text/plain": [
       "0"
      ]
     },
     "execution_count": 204,
     "metadata": {},
     "output_type": "execute_result"
    }
   ],
   "source": [
    "df.duplicated().sum()"
   ]
  },
  {
   "cell_type": "code",
   "execution_count": 205,
   "metadata": {},
   "outputs": [
    {
     "data": {
      "text/plain": [
       "pkSeqID                             0\n",
       "stime                               0\n",
       "flgs                                0\n",
       "flgs_number                         0\n",
       "proto                               0\n",
       "proto_number                        0\n",
       "saddr                               0\n",
       "sport                               0\n",
       "daddr                               0\n",
       "dport                               0\n",
       "pkts                                0\n",
       "bytes                               0\n",
       "state                               0\n",
       "state_number                        0\n",
       "ltime                               0\n",
       "seq                                 0\n",
       "dur                                 0\n",
       "mean                                0\n",
       "stddev                              0\n",
       "sum                                 0\n",
       "min                                 0\n",
       "max                                 0\n",
       "spkts                               0\n",
       "dpkts                               0\n",
       "sbytes                              0\n",
       "dbytes                              0\n",
       "rate                                0\n",
       "srate                               0\n",
       "drate                               0\n",
       "TnBPSrcIP                           0\n",
       "TnBPDstIP                           0\n",
       "TnP_PSrcIP                          0\n",
       "TnP_PDstIP                          0\n",
       "TnP_PerProto                        0\n",
       "TnP_Per_Dport                       0\n",
       "AR_P_Proto_P_SrcIP                  0\n",
       "AR_P_Proto_P_DstIP                  0\n",
       "N_IN_Conn_P_DstIP                   0\n",
       "N_IN_Conn_P_SrcIP                   0\n",
       "AR_P_Proto_P_Sport                  0\n",
       "AR_P_Proto_P_Dport                  0\n",
       "Pkts_P_State_P_Protocol_P_DestIP    0\n",
       "Pkts_P_State_P_Protocol_P_SrcIP     0\n",
       "attack                              0\n",
       "category                            0\n",
       "subcategory                         0\n",
       "dtype: int64"
      ]
     },
     "execution_count": 205,
     "metadata": {},
     "output_type": "execute_result"
    }
   ],
   "source": [
    "df.isnull().sum()"
   ]
  },
  {
   "cell_type": "code",
   "execution_count": 206,
   "metadata": {},
   "outputs": [
    {
     "name": "stdout",
     "output_type": "stream",
     "text": [
      "[1528088521 1528088522 1528088523 ... 1529380788 1529380790 1529380791]\n",
      "[1528088528 1528088521 1528088529 ... 1529380790 1529380793 1529381593]\n",
      "[   7    0 1555    6    5    4    3   42   21   22   20   19   18   39\n",
      "   17   38   16   14   10   13    1   30   33   31   32   28   23   24\n",
      "   25   26   27   15   12   37   29    8   34   35   36   59   49   55\n",
      "   56   58   62   50   51   57   45    9   11   54   53   52   48   46\n",
      "  113   43   40   41   44 1195 1453 1454  569    2 1152  728 1253 1153\n",
      " 1685 1686 1679   61  900  171 1479 1478  100  170 1090 1936 1940 1456\n",
      "  981  851 1176  788  575  218 1743 1745 1746 1197 1455 1290 1279 1284\n",
      " 1283  353  804 1097 1098 1099 1096 1676 1677 1675 1682 1674 1678 1681\n",
      " 1673 1684 1672 2771 2760 2688 2728 2738 2725 2756 2743   63   71   80\n",
      "   89   97  105  114  122  130  139  147  155  181  165  190  172  198\n",
      "  206  213  221  229  238  246  254  263  271  279  288  296  305  314\n",
      "  322  330  339  347  355  364  372  380  390  398  406  415  423  448\n",
      "  431  456  440  463  471  479  488  496  504  514  521  530  539  547\n",
      "  555  564  572  580  589  597  606  615  623  631  640  648  656  665\n",
      "  673  681  689  697 1151 1075 1078 1081  457  388  111 1063 1085 1047\n",
      " 1086 1461 1431 1426 1458 1404 1429 1235  559 1215 1196  568 1504 1488\n",
      "  668 1309 1335 1327 1294 1046  718  727 1183  737  863 1198  989  698\n",
      "  934 1173 1239 1110 1226 1123 1126 1135 1311 1032 1138 1218  901 1143\n",
      "  880  794  806 1067 1073  986  691  883 1130  790 1154  724 1282 1117\n",
      "  817  813  683 1272  951  913  888 1108  778 1287  925 1181 1190 1091\n",
      " 1131  702  891  979  770  723  811 1128 1251 1250 1051 1166 1212  998\n",
      " 1149  965  684 1168  704 1258  957  771  897 1265 1052 1141  879 1074\n",
      "  926  955  956 1221 1285 1124 1182  904 1007 1242  733 1158  878 1214\n",
      "  708  841 1191  753  903  922  752 1035  795  716  967  732 1254  919\n",
      " 1193 1200  953 1016  869  682 1159  895  885 1118  910 1039  655  679\n",
      "  874  758 1071  829  643  731 1040  835  635  941  849 1021  931  659\n",
      " 1241  828  641  660  884  994 1009  898  693  803  791  980  862  959\n",
      "  838  899 1219  976  983  738 1060 1104 1030 1102  740 1062 1064  942\n",
      "  726 1229 1163 1022  827  816 1318 1208  809  764  619  843  823  819\n",
      "  992 1192  832 1045 1070 1203 1223 1013  875  714  628  812 1103  825\n",
      "  997 1011  611 1018  846  800 1111  952 1204  721  696  786  739  768\n",
      "  592  676 1049  975  853  591  996 1162  717  565 1059  779  621  958\n",
      "  783 1109  921 1010 1116  831  720 1034 1017 1169  789  649  974  632\n",
      " 1056 1065  688  672 1148  626  761  694 1160  644 1188  624 1093 1076\n",
      " 1115  802  839  850  602 1055 1020  881 1112  877  730  769 1043  973\n",
      "  583  607  930 1072  545  861 1048 1028  748  954  865 1107  984  544\n",
      " 1037  741  557 1119  968  845  923  593  784  703  945 1005  907  939\n",
      "  725  946  871  833  887  943  815  765 1057  948  625  821  940  537\n",
      "  558  830  574  963  837  515  876  526 1068  735  932  570  642  494\n",
      "  548  719  729  599  742  947  686 1033  590  650  489  848  508  797\n",
      "  902  722  630  627 1003  836 1004  617  713  476  890  566  505  601\n",
      "  481  818  487  609 1019  999  543  450  916  781 1038  534 1053  746\n",
      "  459 1041  847  495  675  775  670  834 1015  512  866  677  520  687\n",
      "  928  763  793  594  747  896  961  586  595  637  964  699  525  577\n",
      "  413  798  582  705 1031  584  766  937  581  985  638  596  855  409\n",
      "  755  517  750  749  712  453  493  535  608  563  736  498  844  384\n",
      "  886  938  826  929  612  443  373  524  814  485  529  909  757  936\n",
      "  513  658  792  401  587  358  776  382  560  773  389  859  395  397\n",
      "  507  354  873  805  502  685  745  478  383  414  542  759  854  480\n",
      "  852  654  667  950  715  492  340  324  760  404  417  578  924  870\n",
      "  822  840  405  556  610  516  666  446  906  333  588  785  472  579\n",
      "  348  661  664  856  860  573  787  646  600  410  709  447  370  598\n",
      "  359  350  376  674  441  799  289  519  419  562  400  486  323  310\n",
      "  387  402  285  298  377  381  307  267  346  614  868  299  499  269\n",
      "  362  247  474  639  251  278  473  710  426  242  237  500  232  796\n",
      "  268  678  546  503  245  230  468  462  541  465  461  368  273  391\n",
      "  250  422  303  680  281  427  276  342  820  236  412  399  437  385\n",
      "  540  645  201  707  332  756  220  337  444  374  212  536  326  235\n",
      "  506  743  202  467  277  744  216  428  392  184  435  469  363  192\n",
      "  258  464  204  458  371  343  430  320  767  754  188  234  302  483\n",
      "  266  241  734  438  262  183  219  197  149  445  532  194  301  175\n",
      "  138  257  143  316  195  657  189  356  671  135  420  145  199  616\n",
      " 1486 1652 1483 1532 1526 1660 1659]\n",
      "[0 1 2 4 3]\n",
      "[0 1 2]\n",
      "[   0    1    2    3    4    7    5    9   11    6   12   24   20   28\n",
      "    8   10   26   23   16   14   18   15   17   13   25   22   30   21\n",
      "   19   27 1662 1623 1644 1645 1314 1458 1448 1463 1432 1100 1647 1913\n",
      " 1899 1894 1875 1428 1728 1722 1711 1698 1073 1071 1072 1065 1054 1064\n",
      "  799]\n",
      "[0 4 3 1 2]\n",
      "[0 1 2 3 4]\n",
      "[   0 7633    1 ...  420 1909 8710]\n",
      "[      0       1       2       7      10       9       8       6       5\n",
      "      11      13      12      14       4       3     200     202     203\n",
      "      99      17      18     362      16  333333  500000 1000000  250000\n",
      "  166666      19      20    8474    6711    4310    5813    5847    6289\n",
      "   47619  111111   45454  142857    4807    7407   14705    8771   17543\n",
      "   11111    7042    7812    7936    8064    9259    3215     340      82\n",
      "     189     139      83      36    4830    5050    6451    5780   18518\n",
      "   18867   13333    8403   10204    4545     275     134     162     118\n",
      "     141     125    8695    5405    5434    6622    5524    8333    6578\n",
      "    6410    8196     236     159     137     108     160     177      50\n",
      "      70      68     127     105     173      87     100     219   11904\n",
      "    9615    5747    6896   12500    5988      33     291     213    9823\n",
      "   23255   16949   13698    7299   16393    9009   11235   12820      90\n",
      "    9433   10989    7194    7633   10416    7246   13157      88      93\n",
      "      41     193     207     282      92     378     153    3174    4901\n",
      "    6211    7518    6756   10309   17241    3225    4761    4878    3521\n",
      "    7999    7462    5291    5586    3802    4484    4587    8264    8849\n",
      "   11494    5128    9463    5502    6402    8670      29    2220    1843\n",
      "    3754    1742   10791    3571    4991    5244    2830    1730    3778\n",
      "    1553    9345    6185    6048    7109    5357    7712    2568    3271\n",
      "    7481    4792    5347    5999    1944    3496    2904    1835    3311\n",
      "    4983    2772    1607    7425    6772    3080    4166    3480    6437\n",
      "    4497    3039   10380    8310    2820    2417    2068     289    2297\n",
      "    2183    2006    3457    2486    2723    1892    5383    3189    3813\n",
      "    2805    4561    5649    5076    5102    4860    3999    9900    4975\n",
      "    4273    6369    6060    5952    5141    7352    7142    6182    8528\n",
      "   11764    6493    7874    3717    3623    2898    2409   10101    4237\n",
      "    3558    4366    2590    2217    1517    4081    1552    1233    2403\n",
      "    1831    1012     983    4629    2016     263     221      97     268\n",
      "    4566    4184    3968    2849    2597    1795    2114    1689    1574\n",
      "    1841    1160    1059    1039    1522    1015     693     977     865\n",
      "    1184     916     848     709     222     327     113     293    3076\n",
      "    2369    1792    1436    3086    2680    2096    1697    1371    1221\n",
      "    1261    1508    1108    3205    3861    1340    1169    3412    1231\n",
      "    1633     589     375     243     115     351    1862    2398    2132\n",
      "    4784    2487    2433    1964    1310    1123     911    1104    1459\n",
      "    3257    1003    1424     850     909    1253    1814    1414     572\n",
      "     309     208     110     284     959     359      95    1023    3324\n",
      "    3058      78     386    1094    2676     129    1304    3122    5875\n",
      "     304     501    6188     287     413     652     260    8488     288\n",
      "     416    7225    1011    1433    1476    1503    1474    1439    1497\n",
      "     487     790     798    1112    1385    1406    1401     777    1356\n",
      "    1360    1353    1391    1349    1596    1680     478     767     782\n",
      "     748     872    1361    1386    2176    1993    1731     997    1212\n",
      "    1298    1321    1326    1302    1343    1367    1322    1342    1359\n",
      "    1074    1308    1289    1287    1341    1337    1358    1383    1376\n",
      "    1363    1364     686     759    1148    1346    1333    1331    1357\n",
      "    1328     682     754     650     772     780    1272    1352    1362\n",
      "    1373    1372    1397     718     687     668    1593    4016    4716\n",
      "    6024    4291      45      47      49      51      76      32     480\n",
      "    1116    1172    1222    1292    5025    5376    4048    4926      21\n",
      "      59      55      91    6944    3952   11627      62      54      24\n",
      "    4694    6250      60      52     505      48     583     492    9523\n",
      "   12345   15625    4065    4132   12048    3846   25641   27777   25000\n",
      "   41666   31250   24390   22727   18181    4950     255     121     102\n",
      "     343   10526    6172    6329   10869   15384     234     120     135\n",
      "     301    5235    7092     305     271     150     106     329     176\n",
      "     111     145   11682     380     456    4262    4920     197     130\n",
      "    9560     396     455    3639    4419    9328     462     438     514\n",
      "    3849    4889     384     398     389     443    4266    4962    9090\n",
      "  125000  200000      58      38      39      64      27      56      25\n",
      "      23      30      15      26      31      63      37      44      85\n",
      "      28      66      35     151      81     101      34      67      73\n",
      "    3533    3921    4739   58823   52631   23809      22      84      42\n",
      "      57      43      77      71      65    4444    2824    3401    2785\n",
      "    3278    2717    2252    3344    1992      53      98      46      40\n",
      "     109     168     167     124     178     152     133      61      69\n",
      "     142     158     103     104      80     156      74     181     187\n",
      "     128     144     163     149     140     117     165     132     138\n",
      "     126     119     123     131     136     267     259     258     269\n",
      "     164     190     191     166     192     279     281     278      89\n",
      "     112     171     169     170     198     183     184     180     179\n",
      "     174     175     172     186     185     606     603     607     586\n",
      "     587     590     574     570     567     557     554     546     541\n",
      "     534     526     523     521     484     481     479     628     624\n",
      "     611     608     609     595     591     596     594     588     578\n",
      "     580     577     531     530     524     525     511     515     182\n",
      "     201     188     205     204     444     439     445     440     441\n",
      "     446     454     449     450     451     485    1392    1394    1121\n",
      "     688     874     825     194     196     195     211     210     256\n",
      "     238     237     233     232     227     228     311     310     312\n",
      "     230     242     241     231     223     224     235     226     335\n",
      "     336     339     333     334     337     338     347     348     349\n",
      "     344     497     502     696     704     697     705     700     707\n",
      "     963     964     500     723     715     716     724     965     966\n",
      "     585     685     157     154     161     253     252     254     264\n",
      "     341     342     346     426     409     425     593     985     968\n",
      "     673     671     635     633     636     627     631     625     620\n",
      "     648     626     498     472     313     307     285     477     473\n",
      "     476     474     475     469     470     466     453     452     448\n",
      "     447     556     548     547     549     542     536     519     512\n",
      "     507     496     494     491     463     460     459     566     457\n",
      "     561     550     538     535     540    1041     518     147     302\n",
      "     148     324     325     155     318     419     423     516     499\n",
      "     503     495   13071    9389   19417   19047    9803   13986   10810\n",
      "    3289   15037    4504    5194    5479    7490    6849   26666    3484\n",
      "    3472    2770    3649     471    8130    8928     404     412     763]\n",
      "[   14     0    15    16     5     1    42    41    40    39    38    43\n",
      "    23    17    18     8     3     9  2178     6  1206     7  1533    28\n",
      "    19    20 58823     2   170   142    69    27   137    67    81    59\n",
      "   106    62   118    79   103    54    80    88    32    49    47    84\n",
      "    76   104    61    70   131 19230    11    26   174   128  5893 16393\n",
      "    72    12    75   193   124   282    92   378    91   125  4658  6309\n",
      "  4126  5602  3841  5780  1480  1229  2503  1161  7194  2380  3327  3496\n",
      "  1886  1153  2518  1035  6230  4123  4032  4739  3571  5141  1712  2181\n",
      "  4987  3194  3565  3999  1296  2331  1936  1223  5376  2207  3322  3367\n",
      "  1848  1071  4950  4514  2053  3875  2777  2320  4291  2998  2026  6920\n",
      "  5540  2411  1692  1450  1241   216  1723  1637  1504  2592  1864  1633\n",
      "  1419  4037  2392  2859  2103  3420  3645  2999  4464  3856  4636  6396\n",
      "   110    48   134   111   196    56   219   225   121    57   175   185\n",
      "    55   100   959  9900   215    71  1023  2659  1834   386  1094  1605\n",
      "    96  1304  3122  3525   182   501  3712   172   413  4444   391   260\n",
      "  5093   173   416  4335  1011  1433  1476  1503  1474  1439  1517  1497\n",
      "   487   790   798  1112  1385  1406  1401   777  1356  1360  1353  1391\n",
      "  1349  1596  1680   478   767   782   748   872  1361  1386  2176  1993\n",
      "  1731   997  1212  1231  1298  1321  1326  1302  1343  1367  1322  1342\n",
      "  1359  1074  1308  1289  1287  1341  1337  1358  1383  1376  1363  1364\n",
      "   686   759  1148  1340  1346  1333  1331  1357  1371  1328   682   754\n",
      "   650   772   780  1272  1352  1362  1373  1372  1397   718   687   668\n",
      "  1274    36    37    34   480   670   703   733   775    45    73    51\n",
      "    35   505    29   583   492     4   127   114   115   171   117    90\n",
      "    46   101   226 27777   152   203   113   164   309   105    82  7009\n",
      "   380   456  2183  2557  4920  5736   396   455  4419  5597   462   438\n",
      "   514  2309  4889   230   398   389   443  2559  4962    10 55555    78\n",
      "    44    25    21    13    24    31    50    22    30    53    68    97\n",
      "    77    33    86   109   168   162   189   205   157   206   147   210\n",
      "    87   139   181    63   145   209    74   102    99    93    94   135\n",
      "   177    89   190   221   178   213   202   200   159   149   222   195\n",
      "   180   186    95   119   120   123   126   129   136   130   253   252\n",
      "   239   240   267   268   259   258   269   165   167   166   198   197\n",
      "   183   184   179   169   176   606   603   607   586   589   587   574\n",
      "   628   624   611   608   609   595   596   594   588   578   330   328\n",
      "   333   331   332   334   336   337   335   406   403   404   407   405\n",
      "   376   377   188   410   408   411   381   379   444   439   445   440\n",
      "   441   446   454   449   450   451   479   485   187   192   204   194\n",
      "   191   207   211   238   237   233   232   227   228   242   243   241\n",
      "   236   231   223   224   235   348   352   350   353   709   361   357\n",
      "   358   362   151   158   153   154   160   161   163   254   256   263\n",
      "   264   338   340   341   342   344   343   346   150   141   322   658\n",
      "   629   625   632   631   630   622   618   132   133   138   382   466\n",
      "   458   459   421   424   427   426   430   429   428   425   494   528\n",
      "   523   498   496   499   497   484   148   156   155   146   420   423\n",
      "   763  3484]\n",
      "[    1     0 15748 ... 13097 13310 22346]\n",
      "[      1   15267    5586       0    5899   10695   14388   13245     836\n",
      "      53      23      99      27      24      21      22      26      25\n",
      "      20      19      18      17      16      10      13      31      30\n",
      "      32      29      35      34      37      33      38      36      28\n",
      "      15      14      12       2       7    1745     200      65     129\n",
      "     404      93     162       3     202      60     241     447     203\n",
      "   86956       6      11     105      40     159       9      82      68\n",
      "      45      96     110       8     111      92      67      46     319\n",
      "      48     345      52      41      49     409      79      91     127\n",
      "      44      56     132      89      47       4      39     109      76\n",
      "      51      66     160     161      83     156     368      73      54\n",
      "      61      81      43     380     152     123     114     108     479\n",
      "     427      63     965    1399    1290     139     155    5449     262\n",
      "     275     199     215     124     130     286  181818   14925    4866\n",
      "   19417   34482   30769     267   36363  166667   18018   90909     273\n",
      "     269     287    5952  125000     128       5     181     205      71\n",
      "     176     211     173     196   54644   20872   21416  529412   10574\n",
      "   17471   13329    4875   15256    7260   18674   16219   11186    5536\n",
      "    8934   13301   12879   10800    9326    2775   11028   17986   14951\n",
      "   17219   16243   18892   18903   16484   19609   14595   19320   19275\n",
      "   19988   22588   18145   20614   20483    5741   60551   84745  117647\n",
      "   28571   49180      85   37037   25316   11058    7125    2123     876\n",
      "     611     640     889     628     991     994     566     554     549\n",
      "     818    1245      42    1065     589     625     596    1379     514\n",
      "    1288    3273     888     614     790     493     313   16842    3714\n",
      "    5421    3472    1203    1565    1133    1297     940   12345   13373\n",
      "   15937    8872   46826   22972   20501   13604   22671   31250    9581\n",
      "   10708   19586   24098   37530   32294   30888   10563   18825   27806\n",
      "   36084   40167   37365   42535   40290   26198   34400   43318   46114\n",
      "   42306   34596   36663   46981   35263   38683   27758   24654   31710\n",
      "   34995   26578   26374   28886   31862   13479    9111    5807    3608\n",
      "    3479    3560    3501    3576    3531    3480    3582    3792    2717\n",
      "    2423    2542    2439    2274    2254    2281    2255    2237    2012\n",
      "    1820    2690    3635    3539    3314    3500    2916    2117    2505\n",
      "    1736    2725    3270    3301    2967    3117    3217    2910    1721\n",
      "   18691   27027    2267   14084   53333   23809   21015   15306   42206\n",
      "   26666   27009   41555   31954   22155   20491   18660   55555   44863\n",
      "   50000   12806  121630  129199   63391  136054   21238  105876   67808\n",
      "   50433   38107    1398   22519    6906   10372   14611   12130   14121\n",
      "   12503    2897    9473   14517   11361    4486   12955   13721   12558\n",
      "   13582   11547    3287    3205  583333   36231   72173  188312  255682\n",
      "  251429   50397   20788   18855   18331   19129   23615   11426   21418\n",
      "   19687   20400   20055   21206   22028   25294   23979   23721   32986\n",
      "   26327   26975   22825    1429   21779   24880   23692   11273   21386\n",
      "   21167   22809   23427   25892   27186    7823   33755   19326   19224\n",
      "   19607   20279   17956   22691   18250   23723   19826   19689   23529\n",
      "   21021   19346   35759   24247   14778   19781   20999   19960   24957\n",
      "   41076   45741   26654   25170   24724   24273   19363   22282   23126\n",
      "   19391   18924   20358   22709   23770   23351   24126   23790   23663\n",
      "   21037   23189   20886   24410   27039   24237   24842   24537   20212\n",
      "   22346   23190   14042   22897   22943   25715   20071   14390   18861\n",
      "   22852   26561   23227   26137 1000000   18263   12530    4162   11968\n",
      "   14326   15845   16670   12097   17909   13076   24746    9646   19596\n",
      "   21324   23363   18804    4434     917   16673   24703   26202   36612\n",
      "   32284   29048   10939   26688   29708   27019    4537    2948     511\n",
      "    5912    6331    6276     243    6433    3189     565      50      59\n",
      "      62   33405   31997  500000   31290   35125  285714   36383   41407\n",
      "   20565   26710   33968   10132   14759  400000   25614   35947   34013\n",
      "   35075  250000   29124   34250   50574   38729   41017   31560   39517\n",
      "   33624   32525   31523  333333   38117   38819   35200   44642   42461\n",
      "   42571   33049   46328   39682   40120   35663   35897  307692   17805\n",
      "   38073   33060   36920   36303   37728   14782   37078   31675     496\n",
      "     513     494    3998    2795     971     654     803     679     529\n",
      "    1651    1408    1300     544     712    1000     350     450    1782\n",
      "    1602    1650    1591     685     774     978    1293    7584    3870\n",
      "    1097     644     698    1127    1298    1493    5657    3111    4200\n",
      "    2502    7863    5064    1035     771     776     795     939    1034\n",
      "    1761    1657    1695     632     660     713     716    1415    1454\n",
      "    1534    1578    1500   21739    3338     807     510     520     691\n",
      "     883     811     682     666     693    1054    1341    1287    1094\n",
      "     604     624     650     782    1836    1649    1524    1445    1202\n",
      "    4881    2253     834     702     706     886     786     772     839\n",
      "     899    4578    2578    1775    1608    1160     887     738     743\n",
      "     823      55    3227    1037     587     576     586   12687    2378\n",
      "     689     517     542     627     737     651     656   14687   19378\n",
      "   13102   26128   35818   40642   36665   10087    7509    7296    7806\n",
      "    8077    7794    8620    8037    7700    7545    7536    7774    7439\n",
      "    7513    8042    8257    8616    7848    7235    7756    8231    7460\n",
      "    6993    7465    9323    7451    7813    7710    7757    7308    7443\n",
      "    9721    9643    6894    7604    7888    8580    7825    8315    8170\n",
      "    7633    8671    7155    6829    6923    7831    7383    7230    6911\n",
      "   29024   58907   44433   50276   58265  119048  115473  109131   96899\n",
      "  103502   26610   32766   39108   41533   72279   65737   65389   82135\n",
      "    8172   90745   25194   15669   10214    5828    6775   15021   16894\n",
      "    2382    4934   25943   29986   17035   26994   23084    7040   20502\n",
      "   16323   18930   19964    3498      94    2129    3693      98    4536\n",
      "    2762     184     182     188      64    4176    3711    1419    1231\n",
      "    1009     609     530     649     605    1163     601     472     379\n",
      "     329     393     451     351    4615    4198    2314    1352     741\n",
      "     526     521     573     540    3682    1216     931     652     603\n",
      "     622     631     602     153   13998   30739   41125   78322   45062\n",
      "    8429    7105    8200    7766    6687    7843    8195    7955    7853\n",
      "    7909    7529    7456    6902    8525    8106    7913    8265    7074\n",
      "    8711    6864    8133    8254    7769    8243    8531    7911    7996\n",
      "    7244    7369    7467    8744    7511    7199    8125    7152    8725\n",
      "    7096    7676    8066    7387    7257    7977    7646    7919    7900\n",
      "    8823    7485    8074    7787    8413    7396    7815    8745    8576\n",
      "    8561    7417    6967    7480    8983    8302    9210    7395   10276\n",
      "    8496    7691    7855    6715    7204    7510    7608    7780    9354\n",
      "    8139    7353    7859    7941    9190    8682    8488   42553   24096\n",
      "   16260    5866    1330     572     653     677     763    1662    1082\n",
      "     696     665    1407    1428     860     898     753     608    6286\n",
      "    4631    4329    1989     704     583     731     663     683    3188\n",
      "    1169     568     585     661     801     921   13536   12502   14901\n",
      "   95238   15297  142857   13434   13673   13002   13385   13621   13025\n",
      "   11363  666667]\n",
      "[    1     0  5586 ...  2291   455 10453]\n",
      "[    1     0 12269 ... 13002 13385 13310]\n"
     ]
    }
   ],
   "source": [
    "for col in df.columns: \n",
    "    if df[col].dtype == 'float64': \n",
    "        df[col] = df[col].astype('int32')\n",
    "        print(df[col].unique())"
   ]
  },
  {
   "cell_type": "code",
   "execution_count": 207,
   "metadata": {},
   "outputs": [
    {
     "data": {
      "text/plain": [
       "(3668522, 45)"
      ]
     },
     "execution_count": 207,
     "metadata": {},
     "output_type": "execute_result"
    }
   ],
   "source": [
    "X, y  = df.drop(columns=['attack']) , df.attack\n",
    "X.shape"
   ]
  },
  {
   "cell_type": "code",
   "execution_count": 208,
   "metadata": {},
   "outputs": [
    {
     "data": {
      "text/plain": [
       "array([[0.00000000e+00, 5.74457646e-01, 0.00000000e+00, ...,\n",
       "        5.09589784e-03, 2.50000000e-01, 1.42857143e-01],\n",
       "       [2.72589417e-07, 5.74457646e-01, 0.00000000e+00, ...,\n",
       "        4.23951568e-05, 2.50000000e-01, 1.42857143e-01],\n",
       "       [5.45178834e-07, 5.74457646e-01, 0.00000000e+00, ...,\n",
       "        5.09589784e-03, 2.50000000e-01, 1.42857143e-01],\n",
       "       ...,\n",
       "       [9.99999455e-01, 9.99999671e-01, 0.00000000e+00, ...,\n",
       "        3.73077380e-03, 1.00000000e+00, 2.85714286e-01],\n",
       "       [9.99999727e-01, 1.00000000e+00, 0.00000000e+00, ...,\n",
       "        2.54370941e-05, 1.00000000e+00, 2.85714286e-01],\n",
       "       [1.00000000e+00, 9.99984852e-01, 0.00000000e+00, ...,\n",
       "        1.27185470e-04, 1.00000000e+00, 2.85714286e-01]])"
      ]
     },
     "execution_count": 208,
     "metadata": {},
     "output_type": "execute_result"
    }
   ],
   "source": [
    "from sklearn.preprocessing import MinMaxScaler\n",
    "\n",
    "# Initialize MinMaxScaler to scale data to [0,1]\n",
    "scaler = MinMaxScaler(feature_range=(0, 1))\n",
    "\n",
    "# Fit and transform training data\n",
    "X_scalled = scaler.fit_transform(X)\n",
    "X_scalled"
   ]
  },
  {
   "cell_type": "code",
   "execution_count": 209,
   "metadata": {},
   "outputs": [],
   "source": [
    "from imblearn.over_sampling import SMOTE\n",
    "\n",
    "# Apply SMOTE to balance the dataset\n",
    "smote = SMOTE(sampling_strategy='auto', random_state=42)\n",
    "X_resampled, y_resampled = smote.fit_resample(X_scalled, y)"
   ]
  },
  {
   "cell_type": "code",
   "execution_count": 210,
   "metadata": {},
   "outputs": [
    {
     "data": {
      "text/plain": [
       "1    3668045\n",
       "0    3668045\n",
       "Name: attack, dtype: int64"
      ]
     },
     "execution_count": 210,
     "metadata": {},
     "output_type": "execute_result"
    }
   ],
   "source": [
    "y_resampled.value_counts()"
   ]
  },
  {
   "cell_type": "code",
   "execution_count": 211,
   "metadata": {},
   "outputs": [
    {
     "data": {
      "text/plain": [
       "<Figure size 400x400 with 0 Axes>"
      ]
     },
     "metadata": {},
     "output_type": "display_data"
    },
    {
     "data": {
      "image/png": "[encoded data removed]",
      "text/plain": [
       "<Figure size 400x400 with 1 Axes>"
      ]
     },
     "metadata": {},
     "output_type": "display_data"
    }
   ],
   "source": [
    "import seaborn as sn \n",
    "from matplotlib import pyplot as plt\n",
    "plt.figure(figsize=(4,4))\n",
    "sn.set_style(style='darkgrid')\n",
    "plt.figure(figsize=(4,4))\n",
    "y_resampled.value_counts().plot(kind='bar', color=['green', 'blue'])\n",
    "plt.title('Balance Class Distribution Count')\n",
    "plt.ylabel('Count')\n",
    "plt.xlabel('Class')\n",
    "plt.grid()\n",
    "plt.grid()"
   ]
  },
  {
   "cell_type": "code",
   "execution_count": 212,
   "metadata": {},
   "outputs": [],
   "source": [
    "# machine learning developement\n",
    "\n",
    "import numpy as np\n",
    "import pandas as pd\n",
    "from sklearn.datasets import fetch_openml\n",
    "from sklearn.model_selection import train_test_split\n",
    "from sklearn.preprocessing import StandardScaler\n",
    "from sklearn.neural_network import BernoulliRBM\n",
    "from sklearn.pipeline import Pipeline\n",
    "from sklearn.linear_model import LogisticRegression"
   ]
  },
  {
   "cell_type": "code",
   "execution_count": 213,
   "metadata": {},
   "outputs": [
    {
     "data": {
      "text/plain": [
       "(5868872, 45)"
      ]
     },
     "execution_count": 213,
     "metadata": {},
     "output_type": "execute_result"
    }
   ],
   "source": [
    "from sklearn.model_selection import train_test_split\n",
    "\n",
    "# Split the dataset into training and test sets\n",
    "X_train, X_test, y_train, y_test = train_test_split(X_resampled, y_resampled, test_size=0.2, stratify=y_resampled, shuffle=True)\n",
    "X_train.shape"
   ]
  },
  {
   "cell_type": "code",
   "execution_count": 214,
   "metadata": {},
   "outputs": [
    {
     "data": {
      "text/plain": [
       "<matplotlib.legend.Legend at 0x25619334d30>"
      ]
     },
     "execution_count": 214,
     "metadata": {},
     "output_type": "execute_result"
    },
    {
     "data": {
      "image/png": "[encoded data removed]",
      "text/plain": [
       "<Figure size 640x480 with 1 Axes>"
      ]
     },
     "metadata": {},
     "output_type": "display_data"
    }
   ],
   "source": [
    "# confirming if the training the testing sample is balance \n",
    "y_train.value_counts().plot(kind='bar', color=['green', 'green'])\n",
    "y_test.value_counts().plot(kind='bar', color=['brown', 'brown'])\n",
    "plt.legend(labels=['Training smaples', 'Testing samples'])"
   ]
  },
  {
   "cell_type": "code",
   "execution_count": 215,
   "metadata": {},
   "outputs": [
    {
     "data": {
      "text/plain": [
       "array([[9.75130092e-01, 2.54802292e-03, 0.00000000e+00, ...,\n",
       "        4.66346725e-04, 5.00000000e-01, 4.28571429e-01],\n",
       "       [9.75137508e-01, 2.56411533e-03, 0.00000000e+00, ...,\n",
       "        1.02596279e-03, 5.00000000e-01, 4.28571429e-01],\n",
       "       [9.75094195e-01, 1.70388791e-03, 0.00000000e+00, ...,\n",
       "        9.32693449e-05, 5.00000000e-01, 4.28571429e-01],\n",
       "       ...,\n",
       "       [9.75122595e-01, 2.52205681e-03, 0.00000000e+00, ...,\n",
       "        1.35664502e-04, 5.00000000e-01, 4.28571429e-01],\n",
       "       [9.75128415e-01, 2.56325967e-03, 0.00000000e+00, ...,\n",
       "        4.66346725e-04, 5.00000000e-01, 4.28571429e-01],\n",
       "       [9.75144373e-01, 2.56538384e-03, 0.00000000e+00, ...,\n",
       "        1.02596279e-03, 5.00000000e-01, 4.28571429e-01]])"
      ]
     },
     "execution_count": 215,
     "metadata": {},
     "output_type": "execute_result"
    }
   ],
   "source": [
    "X_test"
   ]
  },
  {
   "cell_type": "code",
   "execution_count": 216,
   "metadata": {},
   "outputs": [],
   "source": [
    "# !pip install pyswarms"
   ]
  },
  {
   "cell_type": "code",
   "execution_count": 217,
   "metadata": {},
   "outputs": [],
   "source": [
    "import numpy as np\n",
    "import pyswarms as ps\n",
    "from sklearn.neural_network import BernoulliRBM\n",
    "from sklearn.pipeline import Pipeline\n",
    "from sklearn.base import BaseEstimator, TransformerMixin\n",
    "from sklearn.datasets import fetch_openml\n",
    "from sklearn.model_selection import train_test_split\n",
    "from sklearn.metrics import accuracy_score\n",
    "from sklearn.linear_model import LogisticRegression\n",
    "from sklearn.metrics import classification_report, confusion_matrix, accuracy_score, precision_score,f1_score\n",
    "import seaborn as sn\n",
    "import random\n",
    "import time\n",
    "import warnings\n",
    "\n",
    "warnings.filterwarnings('ignore')"
   ]
  },
  {
   "cell_type": "code",
   "execution_count": 218,
   "metadata": {},
   "outputs": [],
   "source": [
    "# helper method to evaluate the model.. \n",
    "def compute_metrics(tp, fp, fn, tn, avg_detection_time=None):\n",
    "    \"\"\"\n",
    "    Compute performance metrics based on the confusion matrix values.\n",
    "    Args:\n",
    "        tp (int): True Positives,   fp (int): False Positives\n",
    "        fn (int): False Negatives,  tn (int): True Negatives\n",
    "        avg_detection_time (float, optional): Average detection time in seconds. Defaults to None.\n",
    "\"\"\"\n",
    "\n",
    "    \n",
    "    # Safety check to prevent division by zero\n",
    "    total = tp + fp + fn + tn\n",
    "    positive = tp + fn\n",
    "    negative = tn + fp\n",
    "\n",
    "    # Metrics calculations\n",
    "    tpr = tp / positive if positive > 0 else 0  # True Positive Rate (Recall)\n",
    "    fpr = fp / negative if negative > 0 else 0  # False Positive Rate\n",
    "    fnr = fn / positive if positive > 0 else 0  # False Negative Rate\n",
    "    precision = tp / (tp + fp) if (tp + fp) > 0 else 0\n",
    "    recall = tpr  # Recall is the same as TPR\n",
    "    specificity = tn / negative if negative > 0 else 0\n",
    "    accuracy = (tp + tn) / total if total > 0 else 0\n",
    "\n",
    "    # Pack into dictionary\n",
    "    metrics = {\n",
    "        \"TPR (Recall)\": tpr,\n",
    "        \"FPR\": fpr,\n",
    "        \"FNR\": fnr,\n",
    "        \"Accuracy\": accuracy,\n",
    "        \"Precision\": precision,\n",
    "        \"Recall\": recall,\n",
    "        \"Specificity\": specificity,\n",
    "        \"AVG EXE TIME\": f'{avg_detection_time:.8f}'\n",
    "    }\n",
    "\n",
    "    return metrics  "
   ]
  },
  {
   "cell_type": "code",
   "execution_count": null,
   "metadata": {},
   "outputs": [],
   "source": []
  },
  {
   "cell_type": "code",
   "execution_count": 109,
   "metadata": {},
   "outputs": [
    {
     "name": "stderr",
     "output_type": "stream",
     "text": [
      "2025-03-20 17:25:23,567 - pyswarms.single.global_best - INFO - Optimize for 5 iters with {'c1': 1.5, 'c2': 1.5, 'w': 0.5}\n",
      "pyswarms.single.global_best: 100%|█████████████████|5/5, best_cost=1e+6\n",
      "2025-03-20 17:25:23,583 - pyswarms.single.global_best - INFO - Optimization finished | best cost: 1000000.0, best pos: [4.77739648]\n",
      "2025-03-20 17:25:23,598 - pyswarms.single.global_best - INFO - Optimize for 5 iters with {'c1': 1.5, 'c2': 1.5, 'w': 0.5}\n"
     ]
    },
    {
     "name": "stdout",
     "output_type": "stream",
     "text": [
      "Best Number of RBM Stacks: 4\n"
     ]
    },
    {
     "name": "stderr",
     "output_type": "stream",
     "text": [
      "pyswarms.single.global_best: 100%|█████████████████|5/5, best_cost=1e+6\n",
      "2025-03-20 17:25:23,614 - pyswarms.single.global_best - INFO - Optimization finished | best cost: 1000000.0, best pos: [6.65698879]\n",
      "2025-03-20 17:25:23,630 - pyswarms.single.global_best - INFO - Optimize for 5 iters with {'c1': 1.5, 'c2': 1.5, 'w': 0.5}\n"
     ]
    },
    {
     "name": "stdout",
     "output_type": "stream",
     "text": [
      "Best Number of RBM Stacks: 6\n"
     ]
    },
    {
     "name": "stderr",
     "output_type": "stream",
     "text": [
      "pyswarms.single.global_best: 100%|█████████████████|5/5, best_cost=1e+6\n",
      "2025-03-20 17:25:23,646 - pyswarms.single.global_best - INFO - Optimization finished | best cost: 1000000.0, best pos: [6.92246198]\n",
      "2025-03-20 17:25:23,646 - pyswarms.single.global_best - INFO - Optimize for 5 iters with {'c1': 1.5, 'c2': 1.5, 'w': 0.5}\n"
     ]
    },
    {
     "name": "stdout",
     "output_type": "stream",
     "text": [
      "Best Number of RBM Stacks: 6\n"
     ]
    },
    {
     "name": "stderr",
     "output_type": "stream",
     "text": [
      "pyswarms.single.global_best: 100%|█████████████████|5/5, best_cost=1e+6\n",
      "2025-03-20 17:25:23,661 - pyswarms.single.global_best - INFO - Optimization finished | best cost: 1000000.0, best pos: [5.20918636]\n",
      "2025-03-20 17:25:23,677 - pyswarms.single.global_best - INFO - Optimize for 5 iters with {'c1': 1.5, 'c2': 1.5, 'w': 0.5}\n"
     ]
    },
    {
     "name": "stdout",
     "output_type": "stream",
     "text": [
      "Best Number of RBM Stacks: 5\n"
     ]
    },
    {
     "name": "stderr",
     "output_type": "stream",
     "text": [
      "pyswarms.single.global_best: 100%|█████████████████|5/5, best_cost=1e+6\n",
      "2025-03-20 17:25:23,693 - pyswarms.single.global_best - INFO - Optimization finished | best cost: 1000000.0, best pos: [4.50645926]\n",
      "2025-03-20 17:25:23,708 - pyswarms.single.global_best - INFO - Optimize for 5 iters with {'c1': 1.5, 'c2': 1.5, 'w': 0.5}\n"
     ]
    },
    {
     "name": "stdout",
     "output_type": "stream",
     "text": [
      "Best Number of RBM Stacks: 4\n"
     ]
    },
    {
     "name": "stderr",
     "output_type": "stream",
     "text": [
      "pyswarms.single.global_best: 100%|█████████████████|5/5, best_cost=1e+6\n",
      "2025-03-20 17:25:23,724 - pyswarms.single.global_best - INFO - Optimization finished | best cost: 1000000.0, best pos: [4.33337847]\n",
      "2025-03-20 17:25:23,724 - pyswarms.single.global_best - INFO - Optimize for 5 iters with {'c1': 1.5, 'c2': 1.5, 'w': 0.5}\n"
     ]
    },
    {
     "name": "stdout",
     "output_type": "stream",
     "text": [
      "Best Number of RBM Stacks: 4\n"
     ]
    },
    {
     "name": "stderr",
     "output_type": "stream",
     "text": [
      "pyswarms.single.global_best: 100%|█████████████████|5/5, best_cost=1e+6\n",
      "2025-03-20 17:25:23,752 - pyswarms.single.global_best - INFO - Optimization finished | best cost: 1000000.0, best pos: [6.47480403]\n",
      "2025-03-20 17:25:23,762 - pyswarms.single.global_best - INFO - Optimize for 5 iters with {'c1': 1.5, 'c2': 1.5, 'w': 0.5}\n"
     ]
    },
    {
     "name": "stdout",
     "output_type": "stream",
     "text": [
      "Best Number of RBM Stacks: 6\n"
     ]
    },
    {
     "name": "stderr",
     "output_type": "stream",
     "text": [
      "pyswarms.single.global_best: 100%|█████████████████|5/5, best_cost=1e+6\n",
      "2025-03-20 17:25:23,770 - pyswarms.single.global_best - INFO - Optimization finished | best cost: 1000000.0, best pos: [5.86150766]\n"
     ]
    },
    {
     "name": "stdout",
     "output_type": "stream",
     "text": [
      "Best Number of RBM Stacks: 5\n"
     ]
    },
    {
     "name": "stderr",
     "output_type": "stream",
     "text": [
      "2025-03-20 17:25:23,785 - pyswarms.single.global_best - INFO - Optimize for 5 iters with {'c1': 1.5, 'c2': 1.5, 'w': 0.5}\n",
      "pyswarms.single.global_best: 100%|█████████████████|5/5, best_cost=1e+6\n",
      "2025-03-20 17:25:23,801 - pyswarms.single.global_best - INFO - Optimization finished | best cost: 1000000.0, best pos: [6.20576167]\n",
      "2025-03-20 17:25:23,801 - pyswarms.single.global_best - INFO - Optimize for 5 iters with {'c1': 1.5, 'c2': 1.5, 'w': 0.5}\n"
     ]
    },
    {
     "name": "stdout",
     "output_type": "stream",
     "text": [
      "Best Number of RBM Stacks: 6\n"
     ]
    },
    {
     "name": "stderr",
     "output_type": "stream",
     "text": [
      "pyswarms.single.global_best: 100%|█████████████████|5/5, best_cost=1e+6\n",
      "2025-03-20 17:25:23,817 - pyswarms.single.global_best - INFO - Optimization finished | best cost: 1000000.0, best pos: [5.07965328]\n"
     ]
    },
    {
     "name": "stdout",
     "output_type": "stream",
     "text": [
      "Best Number of RBM Stacks: 5\n",
      "Best Average Stack 5\n"
     ]
    }
   ],
   "source": [
    " experimental_sample = 100000\n",
    "# Custom DBN Class (varying number of RBM stacks)\n",
    "class DBNClassifier(BaseEstimator, TransformerMixin):\n",
    "    def __init__(self, num_rbms=2, learning_rate=0.01, n_iter=4):\n",
    "        self.num_rbms = num_rbms\n",
    "        self.learning_rate = learning_rate\n",
    "        self.n_iter = n_iter\n",
    "        self.pipeline = None\n",
    "\n",
    "    def fit(self, X, y):\n",
    "        layers = []\n",
    "        rbm_sizes = [128, 256, 512]  # Fixed RBM sizes\n",
    "\n",
    "        for i in range(self.num_rbms):\n",
    "            layers.append((\"rbm\" + str(i), BernoulliRBM(n_components=rbm_sizes[i], learning_rate=self.learning_rate, n_iter=self.n_iter, verbose=0)))\n",
    "\n",
    "        layers.append((\"logreg\", LogisticRegression(max_iter=1000)))\n",
    "        self.pipeline = Pipeline(layers)\n",
    "        self.pipeline.fit(X, y)\n",
    "        return self\n",
    "\n",
    "    def predict(self, X):\n",
    "        return self.pipeline.predict(X)\n",
    "\n",
    "\n",
    "# Define PSO objective function (optimize num_rbms)\n",
    "def objective_function(params):\n",
    "    num_rbms = int(params[0])  # Number of RBMs\n",
    "\n",
    "    if num_rbms < 1 or num_rbms > 3:  # Limit number of RBM layers\n",
    "        return 1e6  # Penalize invalid solutions\n",
    "    \n",
    "    model = DBNClassifier(num_rbms=num_rbms)\n",
    "    model.fit(X_train[:experimental_sample], y_train[:experimental_sample])\n",
    "    y_pred = model.predict(X_test[:experimental_sample])\n",
    "    return -accuracy_score(y_test[:experimental_sample], y_pred[:experimental_sample])  # PSO minimizes, so negate accuracy\n",
    "\n",
    "# Set PSO bounds (optimize only num_rbms between 1-3)\n",
    "bounds = [(4, 8)]\n",
    "\n",
    "mean = 0\n",
    "\n",
    "for i in range(10): \n",
    "    # PSO optimization\n",
    "    optimizer = ps.single.GlobalBestPSO(n_particles=5, dimensions=len(bounds), options={'c1': 1.5, 'c2': 1.5, 'w': 0.5}, bounds=np.array(bounds).T)\n",
    "    \n",
    "    best_cost, best_num_rbms = optimizer.optimize(objective_function, iters=5)\n",
    "    \n",
    "    print(\"Best Number of RBM Stacks:\", int(best_num_rbms[0]))\n",
    "\n",
    "    mean = mean + int(best_num_rbms[0])\n",
    "\n",
    "print('Best Average Stack', int(mean/10))"
   ]
  },
  {
   "cell_type": "code",
   "execution_count": null,
   "metadata": {},
   "outputs": [],
   "source": []
  },
  {
   "cell_type": "markdown",
   "metadata": {},
   "source": [
    "##### learning rate optimization using genetic algorithm"
   ]
  },
  {
   "cell_type": "code",
   "execution_count": 110,
   "metadata": {},
   "outputs": [
    {
     "name": "stdout",
     "output_type": "stream",
     "text": [
      "Generation 1: Best Learning Rate = 0.05317, Accuracy = 0.9820\n",
      "Generation 2: Best Learning Rate = 0.05674, Accuracy = 0.9820\n",
      "Generation 3: Best Learning Rate = 0.05317, Accuracy = 0.9820\n",
      "Generation 4: Best Learning Rate = 0.10000, Accuracy = 0.9870\n",
      "Generation 5: Best Learning Rate = 0.10000, Accuracy = 0.9820\n",
      "Generation 6: Best Learning Rate = 0.08058, Accuracy = 0.9820\n",
      "Generation 7: Best Learning Rate = 0.10000, Accuracy = 0.9840\n",
      "Generation 8: Best Learning Rate = 0.10000, Accuracy = 0.9840\n",
      "Generation 9: Best Learning Rate = 0.10000, Accuracy = 0.9880\n",
      "Generation 10: Best Learning Rate = 0.10000, Accuracy = 0.9830\n",
      "Optimal Learning Rate: 0.10000\n"
     ]
    }
   ],
   "source": [
    "# Genetic Algorithm\n",
    "# Fitness function\n",
    "experimental_sample = 1000\n",
    "def fitness_function(learning_rate):\n",
    "    model = DBNClassifier(learning_rate=learning_rate)\n",
    "    model.fit(X_train[:experimental_sample], y_train[:experimental_sample])\n",
    "    y_pred = model.predict(X_test[:experimental_sample])\n",
    "    return accuracy_score(y_test[:experimental_sample], y_pred)\n",
    "\n",
    "# Genetic Algorithm\n",
    "def genetic_algorithm(pop_size=10, generations=10, mutation_rate=0.1, bounds=(0.001, 0.1)):\n",
    "    # Initialize population\n",
    "    population = np.random.uniform(bounds[0], bounds[1], pop_size)\n",
    "    for generation in range(generations):\n",
    "        # Evaluate fitness\n",
    "        fitness = np.array([fitness_function(ind) for ind in population])\n",
    "        # Select the best individuals\n",
    "        sorted_indices = np.argsort(fitness)[::-1]\n",
    "        parents = population[sorted_indices[:pop_size // 2]]\n",
    "        # Crossover: Generate offspring\n",
    "        offspring = []\n",
    "        for _ in range(pop_size // 2):\n",
    "            parent1, parent2 = random.sample(list(parents), 2)\n",
    "            child = (parent1 + parent2) / 2  # Average crossover\n",
    "            offspring.append(child)\n",
    "        # Mutation: Apply random changes\n",
    "        offspring = np.array(offspring)\n",
    "        mutations = np.random.uniform(-mutation_rate, mutation_rate, size=offspring.shape)\n",
    "        offspring += mutations\n",
    "        offspring = np.clip(offspring, bounds[0], bounds[1])  # Ensure within bounds\n",
    "        # Create the new population\n",
    "        population = np.concatenate((parents, offspring))\n",
    "        # Log progress\n",
    "        best_individual = population[np.argmax(fitness)]\n",
    "        best_fitness = max(fitness)\n",
    "        print(f\"Generation {generation + 1}: Best Learning Rate = {best_individual:.5f}, Accuracy = {best_fitness:.4f}\")\n",
    "    \n",
    "    # Return the best learning rate\n",
    "    best_individual = population[np.argmax(fitness)]\n",
    "    return best_individual\n",
    "\n",
    "# Run GA\n",
    "best_learning_rate = genetic_algorithm()\n",
    "print(f\"Optimal Learning Rate: {best_learning_rate:.5f}\")"
   ]
  },
  {
   "cell_type": "code",
   "execution_count": null,
   "metadata": {},
   "outputs": [],
   "source": []
  },
  {
   "cell_type": "code",
   "execution_count": 219,
   "metadata": {},
   "outputs": [],
   "source": [
    "# mergin everything...\n",
    "class DBN_network: \n",
    "\n",
    "    def __init__(self, neurons=100, learning_rate=0.8, epoch=4): \n",
    "        self.neurons = neurons\n",
    "        self.learning_rate=learning_rate \n",
    "        self.epoch = epoch\n",
    "        self.layers_objects = []\n",
    "        print('parameter initialize...')\n",
    "\n",
    "    def config_network(self, neurons, layers=2, learning_rate=0.8):\n",
    "        self.layers_objects = []\n",
    "        if layers != len(neurons):\n",
    "            print(f' Neuron List Value {len(neurons)} must equal Layer value {layers} layers')\n",
    "        else: \n",
    "            for ep in range(layers): \n",
    "                # print(f' \\n Epoch : {ep}')\n",
    "                ly = BernoulliRBM(n_components=neurons[ep], learning_rate=learning_rate, n_iter=4, verbose=1)\n",
    "                self.layers_objects.append(ly)\n",
    "                # print(ly)\n",
    "\n",
    "            # specify the classification head\n",
    "            classifier = LogisticRegression(max_iter=1000)\n",
    "            self.layers_objects.append(classifier)\n",
    "            \n",
    "   # to visualize the architecture using pipeline\n",
    "    def summary(self):\n",
    "        # using pipeline to visualize the DBN Architecture.... \n",
    "        arch_list = []\n",
    "        for item in range(len(self.layers_objects)):\n",
    "            arch_list.append((f'layer_{item+1}', self.layers_objects[item]))\n",
    "        \n",
    "        self.arch_summary = Pipeline(\n",
    "            arch_list\n",
    "        )\n",
    "\n",
    "        print('DBN architecture Summary')\n",
    "        return self.arch_summary\n",
    "\n",
    "    # function to train the model... \n",
    "    def fit_model(self, X_train, y_train): \n",
    "        print(f'Training For {len(self.layers_objects[:-1])} Layer')\n",
    "        self.fited_arch = []\n",
    "        init_sample = X_train\n",
    "        init_y = y_train\n",
    "        count = 0 \n",
    "        for layer in self.layers_objects[:-1]:\n",
    "            print(f'\\n *******************  EPOCH {count + 1} **********************')\n",
    "            # fit and transform....  \n",
    "            fited = layer.fit(init_sample)\n",
    "            feature  = fited.transform(init_sample)\n",
    "        \n",
    "            # update weights\n",
    "            init_sample = feature\n",
    "        \n",
    "            # store layer weights\n",
    "            self.fited_arch.append(fited)\n",
    "            count = count + 1\n",
    "            \n",
    "        # fit the classification head \n",
    "        print('\\n+-----------------------------------------+')\n",
    "        self.class_head = self.layers_objects[-1].fit(init_sample, init_y)\n",
    "        \n",
    "        return self.arch_summary\n",
    "\n",
    "    # prediction  function \n",
    "    def predict(self, X_test, y_test): \n",
    "        init_sample = X_test\n",
    "        init_y = y_test\n",
    "        for layer in self.fited_arch:\n",
    "            \n",
    "            # transform....  \n",
    "            feature  = layer.transform(init_sample)\n",
    "            \n",
    "            # update weights\n",
    "            init_sample = feature\n",
    "            print(f'Calculated Feature {init_sample.shape}')\n",
    "                           \n",
    "        # fit the classification head \n",
    "        if self.fited_arch != []: \n",
    "            prediction = self.class_head.predict(init_sample)\n",
    "            pre = {'pre': prediction}\n",
    "            return pre\n",
    "        else: \n",
    "            error = 'Error: model should be trained first....'\n",
    "            return {error, []}\n"
   ]
  },
  {
   "cell_type": "code",
   "execution_count": 220,
   "metadata": {},
   "outputs": [
    {
     "data": {
      "text/plain": [
       "(5868872, 45)"
      ]
     },
     "execution_count": 220,
     "metadata": {},
     "output_type": "execute_result"
    }
   ],
   "source": [
    "X_train.shape"
   ]
  },
  {
   "cell_type": "code",
   "execution_count": 221,
   "metadata": {},
   "outputs": [
    {
     "name": "stdout",
     "output_type": "stream",
     "text": [
      "parameter initialize...\n",
      "DBN architecture Summary\n"
     ]
    },
    {
     "data": {
      "text/html": [
       "<style>#sk-container-id-11 {color: black;background-color: white;}#sk-container-id-11 pre{padding: 0;}#sk-container-id-11 div.sk-toggleable {background-color: white;}#sk-container-id-11 label.sk-toggleable__label {cursor: pointer;display: block;width: 100%;margin-bottom: 0;padding: 0.3em;box-sizing: border-box;text-align: center;}#sk-container-id-11 label.sk-toggleable__label-arrow:before {content: \"▸\";float: left;margin-right: 0.25em;color: #696969;}#sk-container-id-11 label.sk-toggleable__label-arrow:hover:before {color: black;}#sk-container-id-11 div.sk-estimator:hover label.sk-toggleable__label-arrow:before {color: black;}#sk-container-id-11 div.sk-toggleable__content {max-height: 0;max-width: 0;overflow: hidden;text-align: left;background-color: #f0f8ff;}#sk-container-id-11 div.sk-toggleable__content pre {margin: 0.2em;color: black;border-radius: 0.25em;background-color: #f0f8ff;}#sk-container-id-11 input.sk-toggleable__control:checked~div.sk-toggleable__content {max-height: 200px;max-width: 100%;overflow: auto;}#sk-container-id-11 input.sk-toggleable__control:checked~label.sk-toggleable__label-arrow:before {content: \"▾\";}#sk-container-id-11 div.sk-estimator input.sk-toggleable__control:checked~label.sk-toggleable__label {background-color: #d4ebff;}#sk-container-id-11 div.sk-label input.sk-toggleable__control:checked~label.sk-toggleable__label {background-color: #d4ebff;}#sk-container-id-11 input.sk-hidden--visually {border: 0;clip: rect(1px 1px 1px 1px);clip: rect(1px, 1px, 1px, 1px);height: 1px;margin: -1px;overflow: hidden;padding: 0;position: absolute;width: 1px;}#sk-container-id-11 div.sk-estimator {font-family: monospace;background-color: #f0f8ff;border: 1px dotted black;border-radius: 0.25em;box-sizing: border-box;margin-bottom: 0.5em;}#sk-container-id-11 div.sk-estimator:hover {background-color: #d4ebff;}#sk-container-id-11 div.sk-parallel-item::after {content: \"\";width: 100%;border-bottom: 1px solid gray;flex-grow: 1;}#sk-container-id-11 div.sk-label:hover label.sk-toggleable__label {background-color: #d4ebff;}#sk-container-id-11 div.sk-serial::before {content: \"\";position: absolute;border-left: 1px solid gray;box-sizing: border-box;top: 0;bottom: 0;left: 50%;z-index: 0;}#sk-container-id-11 div.sk-serial {display: flex;flex-direction: column;align-items: center;background-color: white;padding-right: 0.2em;padding-left: 0.2em;position: relative;}#sk-container-id-11 div.sk-item {position: relative;z-index: 1;}#sk-container-id-11 div.sk-parallel {display: flex;align-items: stretch;justify-content: center;background-color: white;position: relative;}#sk-container-id-11 div.sk-item::before, #sk-container-id-11 div.sk-parallel-item::before {content: \"\";position: absolute;border-left: 1px solid gray;box-sizing: border-box;top: 0;bottom: 0;left: 50%;z-index: -1;}#sk-container-id-11 div.sk-parallel-item {display: flex;flex-direction: column;z-index: 1;position: relative;background-color: white;}#sk-container-id-11 div.sk-parallel-item:first-child::after {align-self: flex-end;width: 50%;}#sk-container-id-11 div.sk-parallel-item:last-child::after {align-self: flex-start;width: 50%;}#sk-container-id-11 div.sk-parallel-item:only-child::after {width: 0;}#sk-container-id-11 div.sk-dashed-wrapped {border: 1px dashed gray;margin: 0 0.4em 0.5em 0.4em;box-sizing: border-box;padding-bottom: 0.4em;background-color: white;}#sk-container-id-11 div.sk-label label {font-family: monospace;font-weight: bold;display: inline-block;line-height: 1.2em;}#sk-container-id-11 div.sk-label-container {text-align: center;}#sk-container-id-11 div.sk-container {/* jupyter's `normalize.less` sets `[hidden] { display: none; }` but bootstrap.min.css set `[hidden] { display: none !important; }` so we also need the `!important` here to be able to override the default hidden behavior on the sphinx rendered scikit-learn.org. See: https://github.com/scikit-learn/scikit-learn/issues/21755 */display: inline-block !important;position: relative;}#sk-container-id-11 div.sk-text-repr-fallback {display: none;}</style><div id=\"sk-container-id-11\" class=\"sk-top-container\"><div class=\"sk-text-repr-fallback\"><pre>Pipeline(steps=[(&#x27;layer_1&#x27;, BernoulliRBM(n_components=45, n_iter=4, verbose=1)),\n",
       "                (&#x27;layer_2&#x27;, BernoulliRBM(n_components=45, n_iter=4, verbose=1)),\n",
       "                (&#x27;layer_3&#x27;, BernoulliRBM(n_components=22, n_iter=4, verbose=1)),\n",
       "                (&#x27;layer_4&#x27;, BernoulliRBM(n_components=22, n_iter=4, verbose=1)),\n",
       "                (&#x27;layer_5&#x27;, BernoulliRBM(n_components=11, n_iter=4, verbose=1)),\n",
       "                (&#x27;layer_6&#x27;, LogisticRegression(max_iter=1000))])</pre><b>In a Jupyter environment, please rerun this cell to show the HTML representation or trust the notebook. <br />On GitHub, the HTML representation is unable to render, please try loading this page with nbviewer.org.</b></div><div class=\"sk-container\" hidden><div class=\"sk-item sk-dashed-wrapped\"><div class=\"sk-label-container\"><div class=\"sk-label sk-toggleable\"><input class=\"sk-toggleable__control sk-hidden--visually\" id=\"sk-estimator-id-71\" type=\"checkbox\" ><label for=\"sk-estimator-id-71\" class=\"sk-toggleable__label sk-toggleable__label-arrow\">Pipeline</label><div class=\"sk-toggleable__content\"><pre>Pipeline(steps=[(&#x27;layer_1&#x27;, BernoulliRBM(n_components=45, n_iter=4, verbose=1)),\n",
       "                (&#x27;layer_2&#x27;, BernoulliRBM(n_components=45, n_iter=4, verbose=1)),\n",
       "                (&#x27;layer_3&#x27;, BernoulliRBM(n_components=22, n_iter=4, verbose=1)),\n",
       "                (&#x27;layer_4&#x27;, BernoulliRBM(n_components=22, n_iter=4, verbose=1)),\n",
       "                (&#x27;layer_5&#x27;, BernoulliRBM(n_components=11, n_iter=4, verbose=1)),\n",
       "                (&#x27;layer_6&#x27;, LogisticRegression(max_iter=1000))])</pre></div></div></div><div class=\"sk-serial\"><div class=\"sk-item\"><div class=\"sk-estimator sk-toggleable\"><input class=\"sk-toggleable__control sk-hidden--visually\" id=\"sk-estimator-id-72\" type=\"checkbox\" ><label for=\"sk-estimator-id-72\" class=\"sk-toggleable__label sk-toggleable__label-arrow\">BernoulliRBM</label><div class=\"sk-toggleable__content\"><pre>BernoulliRBM(n_components=45, n_iter=4, verbose=1)</pre></div></div></div><div class=\"sk-item\"><div class=\"sk-estimator sk-toggleable\"><input class=\"sk-toggleable__control sk-hidden--visually\" id=\"sk-estimator-id-73\" type=\"checkbox\" ><label for=\"sk-estimator-id-73\" class=\"sk-toggleable__label sk-toggleable__label-arrow\">BernoulliRBM</label><div class=\"sk-toggleable__content\"><pre>BernoulliRBM(n_components=45, n_iter=4, verbose=1)</pre></div></div></div><div class=\"sk-item\"><div class=\"sk-estimator sk-toggleable\"><input class=\"sk-toggleable__control sk-hidden--visually\" id=\"sk-estimator-id-74\" type=\"checkbox\" ><label for=\"sk-estimator-id-74\" class=\"sk-toggleable__label sk-toggleable__label-arrow\">BernoulliRBM</label><div class=\"sk-toggleable__content\"><pre>BernoulliRBM(n_components=22, n_iter=4, verbose=1)</pre></div></div></div><div class=\"sk-item\"><div class=\"sk-estimator sk-toggleable\"><input class=\"sk-toggleable__control sk-hidden--visually\" id=\"sk-estimator-id-75\" type=\"checkbox\" ><label for=\"sk-estimator-id-75\" class=\"sk-toggleable__label sk-toggleable__label-arrow\">BernoulliRBM</label><div class=\"sk-toggleable__content\"><pre>BernoulliRBM(n_components=22, n_iter=4, verbose=1)</pre></div></div></div><div class=\"sk-item\"><div class=\"sk-estimator sk-toggleable\"><input class=\"sk-toggleable__control sk-hidden--visually\" id=\"sk-estimator-id-76\" type=\"checkbox\" ><label for=\"sk-estimator-id-76\" class=\"sk-toggleable__label sk-toggleable__label-arrow\">BernoulliRBM</label><div class=\"sk-toggleable__content\"><pre>BernoulliRBM(n_components=11, n_iter=4, verbose=1)</pre></div></div></div><div class=\"sk-item\"><div class=\"sk-estimator sk-toggleable\"><input class=\"sk-toggleable__control sk-hidden--visually\" id=\"sk-estimator-id-77\" type=\"checkbox\" ><label for=\"sk-estimator-id-77\" class=\"sk-toggleable__label sk-toggleable__label-arrow\">LogisticRegression</label><div class=\"sk-toggleable__content\"><pre>LogisticRegression(max_iter=1000)</pre></div></div></div></div></div></div></div>"
      ],
      "text/plain": [
       "Pipeline(steps=[('layer_1', BernoulliRBM(n_components=45, n_iter=4, verbose=1)),\n",
       "                ('layer_2', BernoulliRBM(n_components=45, n_iter=4, verbose=1)),\n",
       "                ('layer_3', BernoulliRBM(n_components=22, n_iter=4, verbose=1)),\n",
       "                ('layer_4', BernoulliRBM(n_components=22, n_iter=4, verbose=1)),\n",
       "                ('layer_5', BernoulliRBM(n_components=11, n_iter=4, verbose=1)),\n",
       "                ('layer_6', LogisticRegression(max_iter=1000))])"
      ]
     },
     "execution_count": 221,
     "metadata": {},
     "output_type": "execute_result"
    }
   ],
   "source": [
    "# initializaing DBN\n",
    "dbn_bot_iot = DBN_network()\n",
    "# configure the DBN... \n",
    "dbn_bot_iot.config_network([45, 45, 22, 22, 11], layers=5, learning_rate=0.10000)\n",
    "\n",
    "# showing the DBN architecture.. \n",
    "dbn_bot_iot.summary()"
   ]
  },
  {
   "cell_type": "code",
   "execution_count": 222,
   "metadata": {},
   "outputs": [
    {
     "name": "stdout",
     "output_type": "stream",
     "text": [
      "Training For 5 Layer\n",
      "\n",
      " *******************  EPOCH 1 **********************\n",
      "[BernoulliRBM] Iteration 1, pseudo-likelihood = -8.82, time = 0.59s\n",
      "[BernoulliRBM] Iteration 2, pseudo-likelihood = -7.87, time = 0.53s\n",
      "[BernoulliRBM] Iteration 3, pseudo-likelihood = -8.11, time = 0.28s\n",
      "[BernoulliRBM] Iteration 4, pseudo-likelihood = -8.15, time = 0.49s\n",
      "\n",
      " *******************  EPOCH 2 **********************\n",
      "[BernoulliRBM] Iteration 1, pseudo-likelihood = -22.34, time = 0.77s\n",
      "[BernoulliRBM] Iteration 2, pseudo-likelihood = -22.91, time = 0.29s\n",
      "[BernoulliRBM] Iteration 3, pseudo-likelihood = -21.69, time = 0.34s\n",
      "[BernoulliRBM] Iteration 4, pseudo-likelihood = -21.85, time = 0.31s\n",
      "\n",
      " *******************  EPOCH 3 **********************\n",
      "[BernoulliRBM] Iteration 1, pseudo-likelihood = -6.74, time = 0.18s\n",
      "[BernoulliRBM] Iteration 2, pseudo-likelihood = -6.41, time = 0.20s\n",
      "[BernoulliRBM] Iteration 3, pseudo-likelihood = -6.35, time = 0.20s\n",
      "[BernoulliRBM] Iteration 4, pseudo-likelihood = -6.64, time = 0.18s\n",
      "\n",
      " *******************  EPOCH 4 **********************\n",
      "[BernoulliRBM] Iteration 1, pseudo-likelihood = -7.33, time = 0.14s\n",
      "[BernoulliRBM] Iteration 2, pseudo-likelihood = -5.77, time = 0.14s\n",
      "[BernoulliRBM] Iteration 3, pseudo-likelihood = -5.41, time = 0.17s\n",
      "[BernoulliRBM] Iteration 4, pseudo-likelihood = -5.63, time = 0.13s\n",
      "\n",
      " *******************  EPOCH 5 **********************\n",
      "[BernoulliRBM] Iteration 1, pseudo-likelihood = -3.03, time = 0.12s\n",
      "[BernoulliRBM] Iteration 2, pseudo-likelihood = -2.83, time = 0.10s\n",
      "[BernoulliRBM] Iteration 3, pseudo-likelihood = -2.68, time = 0.11s\n",
      "[BernoulliRBM] Iteration 4, pseudo-likelihood = -2.96, time = 0.12s\n",
      "\n",
      "+-----------------------------------------+\n"
     ]
    },
    {
     "data": {
      "text/html": [
       "<style>#sk-container-id-12 {color: black;background-color: white;}#sk-container-id-12 pre{padding: 0;}#sk-container-id-12 div.sk-toggleable {background-color: white;}#sk-container-id-12 label.sk-toggleable__label {cursor: pointer;display: block;width: 100%;margin-bottom: 0;padding: 0.3em;box-sizing: border-box;text-align: center;}#sk-container-id-12 label.sk-toggleable__label-arrow:before {content: \"▸\";float: left;margin-right: 0.25em;color: #696969;}#sk-container-id-12 label.sk-toggleable__label-arrow:hover:before {color: black;}#sk-container-id-12 div.sk-estimator:hover label.sk-toggleable__label-arrow:before {color: black;}#sk-container-id-12 div.sk-toggleable__content {max-height: 0;max-width: 0;overflow: hidden;text-align: left;background-color: #f0f8ff;}#sk-container-id-12 div.sk-toggleable__content pre {margin: 0.2em;color: black;border-radius: 0.25em;background-color: #f0f8ff;}#sk-container-id-12 input.sk-toggleable__control:checked~div.sk-toggleable__content {max-height: 200px;max-width: 100%;overflow: auto;}#sk-container-id-12 input.sk-toggleable__control:checked~label.sk-toggleable__label-arrow:before {content: \"▾\";}#sk-container-id-12 div.sk-estimator input.sk-toggleable__control:checked~label.sk-toggleable__label {background-color: #d4ebff;}#sk-container-id-12 div.sk-label input.sk-toggleable__control:checked~label.sk-toggleable__label {background-color: #d4ebff;}#sk-container-id-12 input.sk-hidden--visually {border: 0;clip: rect(1px 1px 1px 1px);clip: rect(1px, 1px, 1px, 1px);height: 1px;margin: -1px;overflow: hidden;padding: 0;position: absolute;width: 1px;}#sk-container-id-12 div.sk-estimator {font-family: monospace;background-color: #f0f8ff;border: 1px dotted black;border-radius: 0.25em;box-sizing: border-box;margin-bottom: 0.5em;}#sk-container-id-12 div.sk-estimator:hover {background-color: #d4ebff;}#sk-container-id-12 div.sk-parallel-item::after {content: \"\";width: 100%;border-bottom: 1px solid gray;flex-grow: 1;}#sk-container-id-12 div.sk-label:hover label.sk-toggleable__label {background-color: #d4ebff;}#sk-container-id-12 div.sk-serial::before {content: \"\";position: absolute;border-left: 1px solid gray;box-sizing: border-box;top: 0;bottom: 0;left: 50%;z-index: 0;}#sk-container-id-12 div.sk-serial {display: flex;flex-direction: column;align-items: center;background-color: white;padding-right: 0.2em;padding-left: 0.2em;position: relative;}#sk-container-id-12 div.sk-item {position: relative;z-index: 1;}#sk-container-id-12 div.sk-parallel {display: flex;align-items: stretch;justify-content: center;background-color: white;position: relative;}#sk-container-id-12 div.sk-item::before, #sk-container-id-12 div.sk-parallel-item::before {content: \"\";position: absolute;border-left: 1px solid gray;box-sizing: border-box;top: 0;bottom: 0;left: 50%;z-index: -1;}#sk-container-id-12 div.sk-parallel-item {display: flex;flex-direction: column;z-index: 1;position: relative;background-color: white;}#sk-container-id-12 div.sk-parallel-item:first-child::after {align-self: flex-end;width: 50%;}#sk-container-id-12 div.sk-parallel-item:last-child::after {align-self: flex-start;width: 50%;}#sk-container-id-12 div.sk-parallel-item:only-child::after {width: 0;}#sk-container-id-12 div.sk-dashed-wrapped {border: 1px dashed gray;margin: 0 0.4em 0.5em 0.4em;box-sizing: border-box;padding-bottom: 0.4em;background-color: white;}#sk-container-id-12 div.sk-label label {font-family: monospace;font-weight: bold;display: inline-block;line-height: 1.2em;}#sk-container-id-12 div.sk-label-container {text-align: center;}#sk-container-id-12 div.sk-container {/* jupyter's `normalize.less` sets `[hidden] { display: none; }` but bootstrap.min.css set `[hidden] { display: none !important; }` so we also need the `!important` here to be able to override the default hidden behavior on the sphinx rendered scikit-learn.org. See: https://github.com/scikit-learn/scikit-learn/issues/21755 */display: inline-block !important;position: relative;}#sk-container-id-12 div.sk-text-repr-fallback {display: none;}</style><div id=\"sk-container-id-12\" class=\"sk-top-container\"><div class=\"sk-text-repr-fallback\"><pre>Pipeline(steps=[(&#x27;layer_1&#x27;, BernoulliRBM(n_components=45, n_iter=4, verbose=1)),\n",
       "                (&#x27;layer_2&#x27;, BernoulliRBM(n_components=45, n_iter=4, verbose=1)),\n",
       "                (&#x27;layer_3&#x27;, BernoulliRBM(n_components=22, n_iter=4, verbose=1)),\n",
       "                (&#x27;layer_4&#x27;, BernoulliRBM(n_components=22, n_iter=4, verbose=1)),\n",
       "                (&#x27;layer_5&#x27;, BernoulliRBM(n_components=11, n_iter=4, verbose=1)),\n",
       "                (&#x27;layer_6&#x27;, LogisticRegression(max_iter=1000))])</pre><b>In a Jupyter environment, please rerun this cell to show the HTML representation or trust the notebook. <br />On GitHub, the HTML representation is unable to render, please try loading this page with nbviewer.org.</b></div><div class=\"sk-container\" hidden><div class=\"sk-item sk-dashed-wrapped\"><div class=\"sk-label-container\"><div class=\"sk-label sk-toggleable\"><input class=\"sk-toggleable__control sk-hidden--visually\" id=\"sk-estimator-id-78\" type=\"checkbox\" ><label for=\"sk-estimator-id-78\" class=\"sk-toggleable__label sk-toggleable__label-arrow\">Pipeline</label><div class=\"sk-toggleable__content\"><pre>Pipeline(steps=[(&#x27;layer_1&#x27;, BernoulliRBM(n_components=45, n_iter=4, verbose=1)),\n",
       "                (&#x27;layer_2&#x27;, BernoulliRBM(n_components=45, n_iter=4, verbose=1)),\n",
       "                (&#x27;layer_3&#x27;, BernoulliRBM(n_components=22, n_iter=4, verbose=1)),\n",
       "                (&#x27;layer_4&#x27;, BernoulliRBM(n_components=22, n_iter=4, verbose=1)),\n",
       "                (&#x27;layer_5&#x27;, BernoulliRBM(n_components=11, n_iter=4, verbose=1)),\n",
       "                (&#x27;layer_6&#x27;, LogisticRegression(max_iter=1000))])</pre></div></div></div><div class=\"sk-serial\"><div class=\"sk-item\"><div class=\"sk-estimator sk-toggleable\"><input class=\"sk-toggleable__control sk-hidden--visually\" id=\"sk-estimator-id-79\" type=\"checkbox\" ><label for=\"sk-estimator-id-79\" class=\"sk-toggleable__label sk-toggleable__label-arrow\">BernoulliRBM</label><div class=\"sk-toggleable__content\"><pre>BernoulliRBM(n_components=45, n_iter=4, verbose=1)</pre></div></div></div><div class=\"sk-item\"><div class=\"sk-estimator sk-toggleable\"><input class=\"sk-toggleable__control sk-hidden--visually\" id=\"sk-estimator-id-80\" type=\"checkbox\" ><label for=\"sk-estimator-id-80\" class=\"sk-toggleable__label sk-toggleable__label-arrow\">BernoulliRBM</label><div class=\"sk-toggleable__content\"><pre>BernoulliRBM(n_components=45, n_iter=4, verbose=1)</pre></div></div></div><div class=\"sk-item\"><div class=\"sk-estimator sk-toggleable\"><input class=\"sk-toggleable__control sk-hidden--visually\" id=\"sk-estimator-id-81\" type=\"checkbox\" ><label for=\"sk-estimator-id-81\" class=\"sk-toggleable__label sk-toggleable__label-arrow\">BernoulliRBM</label><div class=\"sk-toggleable__content\"><pre>BernoulliRBM(n_components=22, n_iter=4, verbose=1)</pre></div></div></div><div class=\"sk-item\"><div class=\"sk-estimator sk-toggleable\"><input class=\"sk-toggleable__control sk-hidden--visually\" id=\"sk-estimator-id-82\" type=\"checkbox\" ><label for=\"sk-estimator-id-82\" class=\"sk-toggleable__label sk-toggleable__label-arrow\">BernoulliRBM</label><div class=\"sk-toggleable__content\"><pre>BernoulliRBM(n_components=22, n_iter=4, verbose=1)</pre></div></div></div><div class=\"sk-item\"><div class=\"sk-estimator sk-toggleable\"><input class=\"sk-toggleable__control sk-hidden--visually\" id=\"sk-estimator-id-83\" type=\"checkbox\" ><label for=\"sk-estimator-id-83\" class=\"sk-toggleable__label sk-toggleable__label-arrow\">BernoulliRBM</label><div class=\"sk-toggleable__content\"><pre>BernoulliRBM(n_components=11, n_iter=4, verbose=1)</pre></div></div></div><div class=\"sk-item\"><div class=\"sk-estimator sk-toggleable\"><input class=\"sk-toggleable__control sk-hidden--visually\" id=\"sk-estimator-id-84\" type=\"checkbox\" ><label for=\"sk-estimator-id-84\" class=\"sk-toggleable__label sk-toggleable__label-arrow\">LogisticRegression</label><div class=\"sk-toggleable__content\"><pre>LogisticRegression(max_iter=1000)</pre></div></div></div></div></div></div></div>"
      ],
      "text/plain": [
       "Pipeline(steps=[('layer_1', BernoulliRBM(n_components=45, n_iter=4, verbose=1)),\n",
       "                ('layer_2', BernoulliRBM(n_components=45, n_iter=4, verbose=1)),\n",
       "                ('layer_3', BernoulliRBM(n_components=22, n_iter=4, verbose=1)),\n",
       "                ('layer_4', BernoulliRBM(n_components=22, n_iter=4, verbose=1)),\n",
       "                ('layer_5', BernoulliRBM(n_components=11, n_iter=4, verbose=1)),\n",
       "                ('layer_6', LogisticRegression(max_iter=1000))])"
      ]
     },
     "execution_count": 222,
     "metadata": {},
     "output_type": "execute_result"
    }
   ],
   "source": [
    "# training the arhitecture\n",
    "dbn_bot_iot.fit_model(X_train[:10000], y_train[:10000])"
   ]
  },
  {
   "cell_type": "code",
   "execution_count": 225,
   "metadata": {},
   "outputs": [
    {
     "name": "stdout",
     "output_type": "stream",
     "text": [
      "Calculated Feature (1467218, 45)\n",
      "Calculated Feature (1467218, 45)\n",
      "Calculated Feature (1467218, 22)\n",
      "Calculated Feature (1467218, 22)\n",
      "Calculated Feature (1467218, 11)\n",
      "\n",
      "EXE TIME\n",
      "Total Detection Time : 13.750939\n",
      "AVG Detection Time : 0.00000937 \n",
      "\n",
      "              precision    recall  f1-score   support\n",
      "\n",
      "           0       0.98      1.00      0.99    733609\n",
      "           1       1.00      0.98      0.99    733609\n",
      "\n",
      "    accuracy                           0.99   1467218\n",
      "   macro avg       0.99      0.99      0.99   1467218\n",
      "weighted avg       0.99      0.99      0.99   1467218\n",
      "\n",
      "\n",
      "\n"
     ]
    },
    {
     "data": {
      "text/plain": [
       "<Axes: >"
      ]
     },
     "execution_count": 225,
     "metadata": {},
     "output_type": "execute_result"
    },
    {
     "data": {
      "image/png": "[encoded data removed]",
      "text/plain": [
       "<Figure size 640x480 with 2 Axes>"
      ]
     },
     "metadata": {},
     "output_type": "display_data"
    }
   ],
   "source": [
    "# make prediction\n",
    "strt_time = time.time()\n",
    "prediction = dbn_bot_iot.predict(X_test, y_test)\n",
    "stop_time = time.time()\n",
    "\n",
    "print('\\nEXE TIME')\n",
    "total_time  = stop_time - strt_time\n",
    "avg_time = total_time / X_test.shape[0]\n",
    "print(f'Total Detection Time : {total_time:.6f}')\n",
    "print(f'AVG Detection Time : {avg_time:.8f} \\n')\n",
    "\n",
    "# evaluation report \n",
    "class_report = classification_report(y_test, prediction['pre'])\n",
    "conf_report = confusion_matrix(y_test, prediction['pre'])\n",
    "print(class_report)\n",
    "print('\\n')\n",
    "sn.heatmap(conf_report, fmt='d', annot=True)"
   ]
  },
  {
   "cell_type": "code",
   "execution_count": 226,
   "metadata": {},
   "outputs": [
    {
     "name": "stdout",
     "output_type": "stream",
     "text": [
      "{'TPR (Recall)': 0.9768259670604903, 'FPR': 0.0, 'FNR': 0.023174032939509703, 'Accuracy': 0.9881380953614255, 'Precision': 1.0, 'Recall': 0.9768259670604903, 'Specificity': 1.0, 'AVG EXE TIME': '0.00000937'}\n"
     ]
    },
    {
     "data": {
      "text/plain": [
       "TPR (Recall)      0.976826\n",
       "FPR                    0.0\n",
       "FNR               0.023174\n",
       "Accuracy          0.988138\n",
       "Precision              1.0\n",
       "Recall            0.976826\n",
       "Specificity            1.0\n",
       "AVG EXE TIME    0.00000937\n",
       "dtype: object"
      ]
     },
     "execution_count": 226,
     "metadata": {},
     "output_type": "execute_result"
    }
   ],
   "source": [
    "tp, fp, fn, tn = conf_report.ravel()\n",
    "bot_iot_metrics = compute_metrics(tp, fp, fn, tn, avg_time)\n",
    "print(bot_iot_metrics)\n",
    "bot_iot_result = pd.Series(bot_iot_metrics)\n",
    "bot_iot_result"
   ]
  },
  {
   "cell_type": "code",
   "execution_count": null,
   "metadata": {},
   "outputs": [],
   "source": []
  },
  {
   "cell_type": "markdown",
   "metadata": {},
   "source": [
    "## Dataset THREE (NSL-KDDT)"
   ]
  },
  {
   "cell_type": "code",
   "execution_count": 46,
   "metadata": {},
   "outputs": [],
   "source": [
    "columns = (['duration','protocol_type','service','flag','src_bytes'\n",
    ",'dst_bytes','land','wrong_fragment','urgent','hot','num_failed_logins','logged_in'\n",
    ",'num_compromised','root_shell','su_attempted','num_root','num_file_creations','num_shells'\n",
    ",'num_access_files','num_outbound_cmds','is_host_login','is_guest_login','count','srv_count'\n",
    ",'serror_rate','srv_serror_rate','rerror_rate','srv_rerror_rate','same_srv_rate'\n",
    ",'diff_srv_rate','srv_diff_host_rate','dst_host_count','dst_host_srv_count','dst_host_same_srv_rate','dst_host_diff_srv_rate'\n",
    ",'dst_host_same_src_port_rate'\n",
    ",'dst_host_srv_diff_host_rate','dst_host_serror_rate','dst_host_srv_serror_rate'\n",
    ",'dst_host_rerror_rate','dst_host_srv_rerror_rate','attack','level'])\n",
    "\n",
    "# df.columns = columns"
   ]
  },
  {
   "cell_type": "code",
   "execution_count": 47,
   "metadata": {},
   "outputs": [
    {
     "data": {
      "text/html": [
       "<div>\n",
       "<style scoped>\n",
       "    .dataframe tbody tr th:only-of-type {\n",
       "        vertical-align: middle;\n",
       "    }\n",
       "\n",
       "    .dataframe tbody tr th {\n",
       "        vertical-align: top;\n",
       "    }\n",
       "\n",
       "    .dataframe thead th {\n",
       "        text-align: right;\n",
       "    }\n",
       "</style>\n",
       "<table border=\"1\" class=\"dataframe\">\n",
       "  <thead>\n",
       "    <tr style=\"text-align: right;\">\n",
       "      <th></th>\n",
       "      <th>duration</th>\n",
       "      <th>protocol_type</th>\n",
       "      <th>service</th>\n",
       "      <th>flag</th>\n",
       "      <th>src_bytes</th>\n",
       "      <th>dst_bytes</th>\n",
       "      <th>land</th>\n",
       "      <th>wrong_fragment</th>\n",
       "      <th>urgent</th>\n",
       "      <th>hot</th>\n",
       "      <th>...</th>\n",
       "      <th>dst_host_same_srv_rate</th>\n",
       "      <th>dst_host_diff_srv_rate</th>\n",
       "      <th>dst_host_same_src_port_rate</th>\n",
       "      <th>dst_host_srv_diff_host_rate</th>\n",
       "      <th>dst_host_serror_rate</th>\n",
       "      <th>dst_host_srv_serror_rate</th>\n",
       "      <th>dst_host_rerror_rate</th>\n",
       "      <th>dst_host_srv_rerror_rate</th>\n",
       "      <th>attack</th>\n",
       "      <th>level</th>\n",
       "    </tr>\n",
       "  </thead>\n",
       "  <tbody>\n",
       "    <tr>\n",
       "      <th>0</th>\n",
       "      <td>0</td>\n",
       "      <td>tcp</td>\n",
       "      <td>ftp_data</td>\n",
       "      <td>SF</td>\n",
       "      <td>491</td>\n",
       "      <td>0</td>\n",
       "      <td>0</td>\n",
       "      <td>0</td>\n",
       "      <td>0</td>\n",
       "      <td>0</td>\n",
       "      <td>...</td>\n",
       "      <td>0.17</td>\n",
       "      <td>0.03</td>\n",
       "      <td>0.17</td>\n",
       "      <td>0.0</td>\n",
       "      <td>0.0</td>\n",
       "      <td>0.0</td>\n",
       "      <td>0.05</td>\n",
       "      <td>0.0</td>\n",
       "      <td>normal</td>\n",
       "      <td>20</td>\n",
       "    </tr>\n",
       "    <tr>\n",
       "      <th>1</th>\n",
       "      <td>0</td>\n",
       "      <td>udp</td>\n",
       "      <td>other</td>\n",
       "      <td>SF</td>\n",
       "      <td>146</td>\n",
       "      <td>0</td>\n",
       "      <td>0</td>\n",
       "      <td>0</td>\n",
       "      <td>0</td>\n",
       "      <td>0</td>\n",
       "      <td>...</td>\n",
       "      <td>0.00</td>\n",
       "      <td>0.60</td>\n",
       "      <td>0.88</td>\n",
       "      <td>0.0</td>\n",
       "      <td>0.0</td>\n",
       "      <td>0.0</td>\n",
       "      <td>0.00</td>\n",
       "      <td>0.0</td>\n",
       "      <td>normal</td>\n",
       "      <td>15</td>\n",
       "    </tr>\n",
       "  </tbody>\n",
       "</table>\n",
       "<p>2 rows × 43 columns</p>\n",
       "</div>"
      ],
      "text/plain": [
       "   duration protocol_type   service flag  src_bytes  dst_bytes  land  \\\n",
       "0         0           tcp  ftp_data   SF        491          0     0   \n",
       "1         0           udp     other   SF        146          0     0   \n",
       "\n",
       "   wrong_fragment  urgent  hot  ...  dst_host_same_srv_rate  \\\n",
       "0               0       0    0  ...                    0.17   \n",
       "1               0       0    0  ...                    0.00   \n",
       "\n",
       "   dst_host_diff_srv_rate  dst_host_same_src_port_rate  \\\n",
       "0                    0.03                         0.17   \n",
       "1                    0.60                         0.88   \n",
       "\n",
       "   dst_host_srv_diff_host_rate  dst_host_serror_rate  \\\n",
       "0                          0.0                   0.0   \n",
       "1                          0.0                   0.0   \n",
       "\n",
       "   dst_host_srv_serror_rate  dst_host_rerror_rate  dst_host_srv_rerror_rate  \\\n",
       "0                       0.0                  0.05                       0.0   \n",
       "1                       0.0                  0.00                       0.0   \n",
       "\n",
       "   attack  level  \n",
       "0  normal     20  \n",
       "1  normal     15  \n",
       "\n",
       "[2 rows x 43 columns]"
      ]
     },
     "execution_count": 47,
     "metadata": {},
     "output_type": "execute_result"
    }
   ],
   "source": [
    "# NSL-KDD datset\n",
    "\n",
    "df2  = pd.read_csv(\"NSL-KDD/KDDTrain+.txt\",names=columns)\n",
    "# df2 = df_0.copy()\n",
    "df2.head(2)"
   ]
  },
  {
   "cell_type": "code",
   "execution_count": 48,
   "metadata": {},
   "outputs": [
    {
     "data": {
      "text/html": [
       "<div>\n",
       "<style scoped>\n",
       "    .dataframe tbody tr th:only-of-type {\n",
       "        vertical-align: middle;\n",
       "    }\n",
       "\n",
       "    .dataframe tbody tr th {\n",
       "        vertical-align: top;\n",
       "    }\n",
       "\n",
       "    .dataframe thead th {\n",
       "        text-align: right;\n",
       "    }\n",
       "</style>\n",
       "<table border=\"1\" class=\"dataframe\">\n",
       "  <thead>\n",
       "    <tr style=\"text-align: right;\">\n",
       "      <th></th>\n",
       "      <th>duration</th>\n",
       "      <th>protocol_type</th>\n",
       "      <th>service</th>\n",
       "      <th>flag</th>\n",
       "      <th>src_bytes</th>\n",
       "      <th>dst_bytes</th>\n",
       "      <th>land</th>\n",
       "      <th>wrong_fragment</th>\n",
       "      <th>urgent</th>\n",
       "      <th>hot</th>\n",
       "      <th>...</th>\n",
       "      <th>dst_host_same_srv_rate</th>\n",
       "      <th>dst_host_diff_srv_rate</th>\n",
       "      <th>dst_host_same_src_port_rate</th>\n",
       "      <th>dst_host_srv_diff_host_rate</th>\n",
       "      <th>dst_host_serror_rate</th>\n",
       "      <th>dst_host_srv_serror_rate</th>\n",
       "      <th>dst_host_rerror_rate</th>\n",
       "      <th>dst_host_srv_rerror_rate</th>\n",
       "      <th>attack</th>\n",
       "      <th>level</th>\n",
       "    </tr>\n",
       "  </thead>\n",
       "  <tbody>\n",
       "    <tr>\n",
       "      <th>36011</th>\n",
       "      <td>991</td>\n",
       "      <td>tcp</td>\n",
       "      <td>other</td>\n",
       "      <td>RSTR</td>\n",
       "      <td>1</td>\n",
       "      <td>0</td>\n",
       "      <td>0</td>\n",
       "      <td>0</td>\n",
       "      <td>0</td>\n",
       "      <td>0</td>\n",
       "      <td>...</td>\n",
       "      <td>0.01</td>\n",
       "      <td>0.73</td>\n",
       "      <td>1.00</td>\n",
       "      <td>0.00</td>\n",
       "      <td>0.0</td>\n",
       "      <td>0.0</td>\n",
       "      <td>1.0</td>\n",
       "      <td>1.0</td>\n",
       "      <td>portsweep</td>\n",
       "      <td>15</td>\n",
       "    </tr>\n",
       "    <tr>\n",
       "      <th>86832</th>\n",
       "      <td>0</td>\n",
       "      <td>tcp</td>\n",
       "      <td>http</td>\n",
       "      <td>SF</td>\n",
       "      <td>279</td>\n",
       "      <td>757</td>\n",
       "      <td>0</td>\n",
       "      <td>0</td>\n",
       "      <td>0</td>\n",
       "      <td>0</td>\n",
       "      <td>...</td>\n",
       "      <td>1.00</td>\n",
       "      <td>0.00</td>\n",
       "      <td>0.02</td>\n",
       "      <td>0.04</td>\n",
       "      <td>0.0</td>\n",
       "      <td>0.0</td>\n",
       "      <td>0.0</td>\n",
       "      <td>0.0</td>\n",
       "      <td>normal</td>\n",
       "      <td>21</td>\n",
       "    </tr>\n",
       "    <tr>\n",
       "      <th>122135</th>\n",
       "      <td>0</td>\n",
       "      <td>tcp</td>\n",
       "      <td>http</td>\n",
       "      <td>SF</td>\n",
       "      <td>209</td>\n",
       "      <td>296</td>\n",
       "      <td>0</td>\n",
       "      <td>0</td>\n",
       "      <td>0</td>\n",
       "      <td>0</td>\n",
       "      <td>...</td>\n",
       "      <td>1.00</td>\n",
       "      <td>0.00</td>\n",
       "      <td>0.00</td>\n",
       "      <td>0.00</td>\n",
       "      <td>0.0</td>\n",
       "      <td>0.0</td>\n",
       "      <td>0.0</td>\n",
       "      <td>0.0</td>\n",
       "      <td>normal</td>\n",
       "      <td>21</td>\n",
       "    </tr>\n",
       "    <tr>\n",
       "      <th>54658</th>\n",
       "      <td>0</td>\n",
       "      <td>tcp</td>\n",
       "      <td>private</td>\n",
       "      <td>S0</td>\n",
       "      <td>0</td>\n",
       "      <td>0</td>\n",
       "      <td>0</td>\n",
       "      <td>0</td>\n",
       "      <td>0</td>\n",
       "      <td>0</td>\n",
       "      <td>...</td>\n",
       "      <td>0.13</td>\n",
       "      <td>0.06</td>\n",
       "      <td>0.00</td>\n",
       "      <td>0.00</td>\n",
       "      <td>1.0</td>\n",
       "      <td>1.0</td>\n",
       "      <td>0.0</td>\n",
       "      <td>0.0</td>\n",
       "      <td>neptune</td>\n",
       "      <td>18</td>\n",
       "    </tr>\n",
       "  </tbody>\n",
       "</table>\n",
       "<p>4 rows × 43 columns</p>\n",
       "</div>"
      ],
      "text/plain": [
       "        duration protocol_type  service  flag  src_bytes  dst_bytes  land  \\\n",
       "36011        991           tcp    other  RSTR          1          0     0   \n",
       "86832          0           tcp     http    SF        279        757     0   \n",
       "122135         0           tcp     http    SF        209        296     0   \n",
       "54658          0           tcp  private    S0          0          0     0   \n",
       "\n",
       "        wrong_fragment  urgent  hot  ...  dst_host_same_srv_rate  \\\n",
       "36011                0       0    0  ...                    0.01   \n",
       "86832                0       0    0  ...                    1.00   \n",
       "122135               0       0    0  ...                    1.00   \n",
       "54658                0       0    0  ...                    0.13   \n",
       "\n",
       "        dst_host_diff_srv_rate  dst_host_same_src_port_rate  \\\n",
       "36011                     0.73                         1.00   \n",
       "86832                     0.00                         0.02   \n",
       "122135                    0.00                         0.00   \n",
       "54658                     0.06                         0.00   \n",
       "\n",
       "        dst_host_srv_diff_host_rate  dst_host_serror_rate  \\\n",
       "36011                          0.00                   0.0   \n",
       "86832                          0.04                   0.0   \n",
       "122135                         0.00                   0.0   \n",
       "54658                          0.00                   1.0   \n",
       "\n",
       "        dst_host_srv_serror_rate  dst_host_rerror_rate  \\\n",
       "36011                        0.0                   1.0   \n",
       "86832                        0.0                   0.0   \n",
       "122135                       0.0                   0.0   \n",
       "54658                        1.0                   0.0   \n",
       "\n",
       "        dst_host_srv_rerror_rate     attack  level  \n",
       "36011                        1.0  portsweep     15  \n",
       "86832                        0.0     normal     21  \n",
       "122135                       0.0     normal     21  \n",
       "54658                        0.0    neptune     18  \n",
       "\n",
       "[4 rows x 43 columns]"
      ]
     },
     "execution_count": 48,
     "metadata": {},
     "output_type": "execute_result"
    }
   ],
   "source": [
    "df2.sample(4)"
   ]
  },
  {
   "cell_type": "code",
   "execution_count": 49,
   "metadata": {},
   "outputs": [
    {
     "data": {
      "text/plain": [
       "Index(['duration', 'protocol_type', 'service', 'flag', 'src_bytes',\n",
       "       'dst_bytes', 'land', 'wrong_fragment', 'urgent', 'hot',\n",
       "       'num_failed_logins', 'logged_in', 'num_compromised', 'root_shell',\n",
       "       'su_attempted', 'num_root', 'num_file_creations', 'num_shells',\n",
       "       'num_access_files', 'num_outbound_cmds', 'is_host_login',\n",
       "       'is_guest_login', 'count', 'srv_count', 'serror_rate',\n",
       "       'srv_serror_rate', 'rerror_rate', 'srv_rerror_rate', 'same_srv_rate',\n",
       "       'diff_srv_rate', 'srv_diff_host_rate', 'dst_host_count',\n",
       "       'dst_host_srv_count', 'dst_host_same_srv_rate',\n",
       "       'dst_host_diff_srv_rate', 'dst_host_same_src_port_rate',\n",
       "       'dst_host_srv_diff_host_rate', 'dst_host_serror_rate',\n",
       "       'dst_host_srv_serror_rate', 'dst_host_rerror_rate',\n",
       "       'dst_host_srv_rerror_rate', 'attack', 'level'],\n",
       "      dtype='object')"
      ]
     },
     "execution_count": 49,
     "metadata": {},
     "output_type": "execute_result"
    }
   ],
   "source": [
    "df2.columns"
   ]
  },
  {
   "cell_type": "code",
   "execution_count": 50,
   "metadata": {},
   "outputs": [
    {
     "name": "stdout",
     "output_type": "stream",
     "text": [
      "<class 'pandas.core.frame.DataFrame'>\n",
      "RangeIndex: 125973 entries, 0 to 125972\n",
      "Data columns (total 43 columns):\n",
      " #   Column                       Non-Null Count   Dtype  \n",
      "---  ------                       --------------   -----  \n",
      " 0   duration                     125973 non-null  int64  \n",
      " 1   protocol_type                125973 non-null  object \n",
      " 2   service                      125973 non-null  object \n",
      " 3   flag                         125973 non-null  object \n",
      " 4   src_bytes                    125973 non-null  int64  \n",
      " 5   dst_bytes                    125973 non-null  int64  \n",
      " 6   land                         125973 non-null  int64  \n",
      " 7   wrong_fragment               125973 non-null  int64  \n",
      " 8   urgent                       125973 non-null  int64  \n",
      " 9   hot                          125973 non-null  int64  \n",
      " 10  num_failed_logins            125973 non-null  int64  \n",
      " 11  logged_in                    125973 non-null  int64  \n",
      " 12  num_compromised              125973 non-null  int64  \n",
      " 13  root_shell                   125973 non-null  int64  \n",
      " 14  su_attempted                 125973 non-null  int64  \n",
      " 15  num_root                     125973 non-null  int64  \n",
      " 16  num_file_creations           125973 non-null  int64  \n",
      " 17  num_shells                   125973 non-null  int64  \n",
      " 18  num_access_files             125973 non-null  int64  \n",
      " 19  num_outbound_cmds            125973 non-null  int64  \n",
      " 20  is_host_login                125973 non-null  int64  \n",
      " 21  is_guest_login               125973 non-null  int64  \n",
      " 22  count                        125973 non-null  int64  \n",
      " 23  srv_count                    125973 non-null  int64  \n",
      " 24  serror_rate                  125973 non-null  float64\n",
      " 25  srv_serror_rate              125973 non-null  float64\n",
      " 26  rerror_rate                  125973 non-null  float64\n",
      " 27  srv_rerror_rate              125973 non-null  float64\n",
      " 28  same_srv_rate                125973 non-null  float64\n",
      " 29  diff_srv_rate                125973 non-null  float64\n",
      " 30  srv_diff_host_rate           125973 non-null  float64\n",
      " 31  dst_host_count               125973 non-null  int64  \n",
      " 32  dst_host_srv_count           125973 non-null  int64  \n",
      " 33  dst_host_same_srv_rate       125973 non-null  float64\n",
      " 34  dst_host_diff_srv_rate       125973 non-null  float64\n",
      " 35  dst_host_same_src_port_rate  125973 non-null  float64\n",
      " 36  dst_host_srv_diff_host_rate  125973 non-null  float64\n",
      " 37  dst_host_serror_rate         125973 non-null  float64\n",
      " 38  dst_host_srv_serror_rate     125973 non-null  float64\n",
      " 39  dst_host_rerror_rate         125973 non-null  float64\n",
      " 40  dst_host_srv_rerror_rate     125973 non-null  float64\n",
      " 41  attack                       125973 non-null  object \n",
      " 42  level                        125973 non-null  int64  \n",
      "dtypes: float64(15), int64(24), object(4)\n",
      "memory usage: 41.3+ MB\n"
     ]
    }
   ],
   "source": [
    "df2.info()"
   ]
  },
  {
   "cell_type": "code",
   "execution_count": 51,
   "metadata": {},
   "outputs": [
    {
     "data": {
      "text/plain": [
       "array(['tcp', 'udp', 'icmp'], dtype=object)"
      ]
     },
     "execution_count": 51,
     "metadata": {},
     "output_type": "execute_result"
    }
   ],
   "source": [
    "df2.protocol_type.unique()"
   ]
  },
  {
   "cell_type": "code",
   "execution_count": 52,
   "metadata": {},
   "outputs": [
    {
     "name": "stdout",
     "output_type": "stream",
     "text": [
      "[    0  5607   507 ...  5430 11680   679]\n",
      "['tcp' 'udp' 'icmp']\n",
      "['ftp_data' 'other' 'private' 'http' 'remote_job' 'name' 'netbios_ns'\n",
      " 'eco_i' 'mtp' 'telnet' 'finger' 'domain_u' 'supdup' 'uucp_path' 'Z39_50'\n",
      " 'smtp' 'csnet_ns' 'uucp' 'netbios_dgm' 'urp_i' 'auth' 'domain' 'ftp'\n",
      " 'bgp' 'ldap' 'ecr_i' 'gopher' 'vmnet' 'systat' 'http_443' 'efs' 'whois'\n",
      " 'imap4' 'iso_tsap' 'echo' 'klogin' 'link' 'sunrpc' 'login' 'kshell'\n",
      " 'sql_net' 'time' 'hostnames' 'exec' 'ntp_u' 'discard' 'nntp' 'courier'\n",
      " 'ctf' 'ssh' 'daytime' 'shell' 'netstat' 'pop_3' 'nnsp' 'IRC' 'pop_2'\n",
      " 'printer' 'tim_i' 'pm_dump' 'red_i' 'netbios_ssn' 'rje' 'X11' 'urh_i'\n",
      " 'http_8001' 'aol' 'http_2784' 'tftp_u' 'harvest']\n",
      "['SF' 'S0' 'REJ' 'RSTR' 'SH' 'RSTO' 'S1' 'RSTOS0' 'S3' 'S2' 'OTH']\n",
      "[  491   146     0 ...  2816 11466  2358]\n",
      "[    0  8153   420 ...  5424 17655 52866]\n",
      "[0 1]\n",
      "[0 3 1]\n",
      "[0 1 3 2]\n",
      "[ 0  5  6  4  2  1 28 30 22 24 14  3 15 25 19 18 77 17 11  7 20 12  9 10\n",
      "  8 21 33 44]\n",
      "[0 2 1 3 4 5]\n",
      "[0 1]\n",
      "[   0    3    2    1   19    5    4   38  107  462  110    6  151    7\n",
      "   31    9  157   13  558   12  371  217   83  193  789  520  884  457\n",
      "  767  756   21   10  281   23   44  622   18   15  716  202  121  682\n",
      "  537  345   17    8  166 7479  307   40  405  751   54  761  102  237\n",
      "  456   22  809  198   37   75  378   16 1739  174   46   74  543  691\n",
      "   94  676  175  373   14   78 1043  177  247  538  187  407  258  568\n",
      "  349  452  375   11]\n",
      "[0 1]\n",
      "[0 1 2]\n",
      "[   0    9   10    1    5    2    6   54   14  100  512  121  151   38\n",
      "    3  179    7  629  417  146  247   91  191  867  572    4  975  508\n",
      "  857   12  278   47  684  789  222  123  749  611  390  184  416 7468\n",
      "  338   40  450  841   39  993  849    8  119  261  502  889  218   36\n",
      "   74  421   16 1743  204   55   77  610  766  104  754   17  206   22\n",
      "   71 1045  190  402  605  187  446  287  626  387  505  425]\n",
      "[ 0  1  8  4  2 15 13 29 19 18  6 14  5 21 17 40  3 20 11 38 23 10 27 25\n",
      " 12 16 28 26  7  9 33 22 43 36 34]\n",
      "[0 1 2]\n",
      "[0 1 2 3 5 4 8 6 7 9]\n",
      "[0]\n",
      "[0 1]\n",
      "[0 1]\n",
      "[  2  13 123   5  30 121 166 117 270 133 205 199   3 233  96   8   1   9\n",
      " 223 280 248 279  14  33  57 181 122  22 228  50 262   4  11 108  80  44\n",
      " 258  10  61  26 120  73 135  24 148 206 175  63  52 125 168 145 138 276\n",
      " 220 212 250 132 109 146 300 129  32  82  15  21 110   6   7 246 272 259\n",
      " 294  79 190 245 263  87 292 295 143 278 102 251 222 260 511 287 486 286\n",
      "  35  28 101  12  19 406  17 201 124 162 277 274 141 103 171 238 281 163\n",
      " 301  16  46  39 211 256 144 104  18  74 225  66 139 241 213  36 254 179\n",
      " 195  20 208 268 425  42 196 111 237 257  77 137 290 203 116 457  47  71\n",
      " 200 140  68 215 115 275  76 202 252 197 198 154 204  25 459 253 142 167\n",
      "  43 221 224 284 150 255 235 131 100  34 151 130 236  84 265 210  54  23\n",
      " 127 118 242 320 114 136 209 297 106 299 509 234  88 244 240 149  92 191\n",
      " 230  99 226  81 219 264 232 126 194 266  27 282 134  65 269 216 322  31\n",
      " 271 180  45 366 231 214  78  29 229 239 105 217 261 170 164  51 434 307\n",
      "  75 113 207 112 432  72 247  89  67 291 273  40 288  55 285 267  86 189\n",
      " 147  48 435  59 107 441 289 446  37  69  38 169 347 160  98 128 391 365\n",
      "  85 173 249 510 296 358 398 298 174 185  70 119  90 184 192  49 308 158\n",
      " 227 186 178 452  53 177 305 193 176 155 492  60 496  62 335 354 293 243\n",
      "  56  97 380 188 187 311 361 356 458  95 157 482 312 218 447 159  94 165\n",
      " 336  83 153 476 344 485  91 303 152 323 468 350  93  64  41  58 424 283\n",
      " 461 497 440 348 423 182 156 352 403 340 304 417 161 172 319 411 422 306\n",
      " 449 183 484 363 360 487 383 436 330 351 478 408 477 413 421 393 480 445\n",
      " 370 401 381 357 399 438 378 316 394 490 309 338 317 481 353 488 407 318\n",
      " 444 410 373 453 342 310 508 379 463 456 341 389 329 302 355 333 388 384\n",
      " 364 500 479 460 334 448 404 427 489 326 362 472 464 315 442 439 494 375\n",
      " 454 313 324 314 376 502 409 473 493 450 437 451 419 405 327 367 433 390\n",
      " 337 471 321 346 506 397 325 402 507 470 368 382 467 418 491 328 359 443\n",
      " 415 504 349 430 343 501 455 429 465 416 369 483 372 377 505 345   0 474\n",
      " 396 469 374 331 395 385 428 387 332 431 412 495 462 499 414 400 339 503\n",
      " 392 386 475 371 426 420 466 498]\n",
      "[  2   1   6   5  32  19   9  16  23   8  12   3   7  10  17  22  14  33\n",
      " 181 202  28  13  11  80  44   4  42 120  75  15 228  21  27  31 189  18\n",
      "  82  20 178 159 263 277  46 302 511  34  50  24 173  39  35 225  25  60\n",
      " 213  45 197  30 188 139  26 157 486 457 151  68 215 160  84 167  43 300\n",
      " 166 264 210  36 127 255  29  66  41 105  88 253 104 256  48 230  99  54\n",
      " 146 147 292 322 191 152  79  65 261  52  57 434 154 306 121 282 250 148\n",
      " 134 212 156  92  40  37 267 129 435 441 231 446 112 106 219  98  38  47\n",
      " 169  51 206 265 254 391 158 510 358 149  81 239 142 163 252 155 150 308\n",
      " 236  49 130 218 452 117 195  91 114 177 207 235 145 305 193 270 317 176\n",
      " 153 164 133 208 124 496  74  90 209 354 109  95 380 269 187 311 132  61\n",
      " 143 243 168 260 141 458 482 131 237 312 242 447 280 310 221 174  76 136\n",
      " 144  77 238  83 204 135  72  67 485 273 244 299 108 301 229 110  69 290\n",
      " 214 179 248 201 200 468  63  94 185 350 137 288 266  78  56 123 107 170\n",
      "  89 194 196 116 284 205 118 461  53 497 274 172 440 348 423 171 183 251\n",
      " 175 403 272  85 113 340 304 140 417 126 138 286 283 199  62 162 246 365\n",
      " 295 319 262 449 271 115 297  59 125 226 459  73 182 165 216 484  86 289\n",
      " 363 487 240 257 436 344 478 352 119 233 480 111 509 406 279  96 234 445\n",
      " 258 401 268 381 180 399 303 192 222 378 259 276  97 398 351 338 122 275\n",
      " 232 291 278  71 481 190 353 407 184 223 318 444 203 373 281 453 508 379\n",
      " 186 161 315 456 309 211 198 355  55 245 285 287  58  70 384  64 364 217\n",
      " 460 220 476 427 489 326 362 103 313 314 442 249 439  87 375 101 296 323\n",
      " 316 454 293 224 376 227 356 464 473 128 450 451 247 327  93 367 325 390\n",
      " 321 361 337 471 488 307 492 402 335 500 102 467 477 438 437 397 419 408\n",
      " 359 298 382 100 241 324 388 411 490 343 429 341 416 470 483 328 494 479\n",
      " 433 349 372 377 389   0 469 369 366 463 421 387 455 396 330 374 425 332\n",
      " 320 431 462 499 346 443 502 333 414 415 393 294 342 395 405 370 334 368\n",
      " 501 495 474 400 503 392 383 465 404 418 371 331 493 329 507 360 357 420\n",
      " 448 466 472 475 410 345 394 339 424 491 409 426 422 385 347 428 430 386\n",
      " 336 432 413 412 498]\n",
      "[0.   1.   0.2  0.02 0.1  0.03 0.99 0.08 0.05 0.5  0.97 0.04 0.17 0.07\n",
      " 0.65 0.21 0.09 0.01 0.06 0.25 0.79 0.13 0.95 0.64 0.93 0.7  0.16 0.18\n",
      " 0.11 0.22 0.33 0.86 0.98 0.12 0.96 0.88 0.23 0.14 0.15 0.6  0.59 0.73\n",
      " 0.83 0.52 0.62 0.85 0.67 0.63 0.26 0.78 0.4  0.36 0.68 0.75 0.19 0.91\n",
      " 0.55 0.66 0.9  0.92 0.71 0.74 0.24 0.69 0.81 0.61 0.77 0.94 0.72 0.44\n",
      " 0.8  0.27 0.29 0.56 0.43 0.58 0.76 0.89 0.35 0.37 0.53 0.54 0.51 0.3\n",
      " 0.84 0.57 0.28 0.87 0.82]\n",
      "[0.   1.   0.2  0.11 0.02 0.03 0.09 0.1  0.14 0.5  0.43 0.04 0.78 0.07\n",
      " 0.25 0.67 0.22 0.17 0.8  0.33 0.89 0.95 0.12 0.06 0.08 0.4  0.05 0.91\n",
      " 0.74 0.53 0.55 0.36 0.9  0.34 0.76 0.6  0.18 0.57 0.93 0.94 0.86 0.92\n",
      " 0.01 0.75 0.26 0.83 0.88 0.46 0.59 0.39 0.29 0.41 0.13 0.65 0.45 0.15\n",
      " 0.37 0.38 0.23 0.27 0.32 0.44 0.35 0.47 0.87 0.73 0.21 0.24 0.42 0.54\n",
      " 0.71 0.96 0.19 0.48 0.85 0.58 0.63 0.3  0.72 0.56 0.68 0.7  0.82 0.61\n",
      " 0.51 0.28]\n",
      "[0.   1.   0.03 0.89 0.94 0.83 0.91 0.9  0.5  0.35 0.78 0.92 0.88 0.82\n",
      " 0.67 0.93 0.21 0.38 0.95 0.43 0.87 0.05 0.4  0.36 0.07 0.25 0.8  0.62\n",
      " 0.08 0.81 0.12 0.84 0.04 0.01 0.02 0.76 0.33 0.85 0.17 0.96 0.97 0.71\n",
      " 0.06 0.79 0.86 0.2  0.27 0.77 0.37 0.98 0.75 0.3  0.74 0.56 0.22 0.09\n",
      " 0.99 0.64 0.32 0.14 0.1  0.29 0.44 0.69 0.26 0.6  0.31 0.73 0.19 0.23\n",
      " 0.34 0.57 0.28 0.11 0.65 0.63 0.7  0.72 0.24 0.18 0.55 0.58]\n",
      "[0.   1.   0.03 0.1  0.2  0.25 0.08 0.11 0.33 0.43 0.5  0.07 0.14 0.62\n",
      " 0.09 0.81 0.06 0.17 0.05 0.75 0.8  0.29 0.12 0.04 0.02 0.71 0.79 0.83\n",
      " 0.56 0.67 0.84 0.4  0.64 0.74 0.38 0.85 0.15 0.69 0.6  0.73 0.76 0.57\n",
      " 0.86 0.92 0.82 0.18 0.22 0.78 0.77 0.88 0.96 0.7  0.9  0.72 0.01 0.89\n",
      " 0.55 0.87 0.95 0.13 0.58 0.3 ]\n",
      "[1.   0.08 0.05 0.16 0.14 0.09 0.06 0.02 0.   0.17 0.1  0.01 0.03 0.28\n",
      " 0.5  0.22 0.07 0.37 0.12 0.11 0.67 0.04 0.99 0.15 0.25 0.33 0.31 0.19\n",
      " 0.27 0.97 0.43 0.18 0.24 0.4  0.13 0.46 0.23 0.42 0.44 0.21 0.2  0.35\n",
      " 0.52 0.56 0.6  0.79 0.96 0.32 0.39 0.88 0.3  0.26 0.9  0.48 0.63 0.57\n",
      " 0.75 0.36 0.98 0.51 0.87 0.93 0.62 0.45 0.73 0.34 0.92 0.8  0.83 0.89\n",
      " 0.61 0.55 0.38 0.85 0.29 0.95 0.53 0.41 0.7  0.86 0.69 0.49 0.72 0.47\n",
      " 0.74 0.64 0.77 0.65 0.58 0.54 0.59 0.71 0.78 0.91 0.94 0.82 0.81 0.66\n",
      " 0.68 0.76 0.84]\n",
      "[0.   0.15 0.07 0.06 0.05 1.   0.08 0.5  0.1  0.67 0.02 0.31 0.01 0.11\n",
      " 0.95 0.09 0.14 0.52 0.22 0.13 0.29 0.17 0.04 0.99 0.25 0.6  0.51 0.41\n",
      " 0.33 0.54 0.38 0.75 0.03 0.27 0.21 0.42 0.63 0.44 0.16 0.43 0.2  0.96\n",
      " 0.23 0.12 0.4  0.19 0.8  0.18 0.24 0.35 0.73 0.36 0.53 0.55 0.32 0.45\n",
      " 0.76 0.37 0.3  0.83 0.39 0.97 0.98 0.28 0.26 0.57 0.56 0.77 0.59 0.78\n",
      " 0.46 0.69 0.82 0.62 0.61 0.58 0.79 0.64 0.7  0.91 0.71 0.92 0.9  0.65\n",
      " 0.86 0.47 0.88 0.87 0.85 0.72 0.89 0.68 0.74 0.81 0.48]\n",
      "[0.   0.09 0.43 0.22 0.2  0.18 1.   0.01 0.14 0.05 0.03 0.21 0.11 0.1\n",
      " 0.33 0.4  0.67 0.29 0.02 0.5  0.17 0.57 0.06 0.13 0.75 0.07 0.27 0.08\n",
      " 0.56 0.16 0.25 0.88 0.15 0.12 0.23 0.55 0.04 0.3  0.6  0.31 0.19 0.36\n",
      " 0.38 0.83 0.24 0.8  0.45 0.44 0.28 0.32 0.42 0.26 0.62 0.35 0.71 0.47\n",
      " 0.37 0.54 0.46 0.41]\n",
      "[150 255  30   8   2  91   1  66 157 238  87  43   9  41 181   4 131  26\n",
      " 122 175 109 236  21  84  44  48 168  24 123  72 117 156 243   7 153 242\n",
      "  10  23   6   3 107 195 138 176   5  94 108  50  11  31  27  83 185 196\n",
      "  99  69  18 118 247  89 201 163 172  32 205 202 214  28  16 128  37  34\n",
      " 193  39  29 101  38 235  75  73 212  64 230 137  13 127 106  45 251  77\n",
      " 211  53 160  54 142  42  14  57 159  58 246  62  12  59 124 250  49 187\n",
      "  67 126  36 120  25  76  51 135 121  52 219 170 173 229  95  68  79  55\n",
      " 155  19 143 158 104 151 119 115 237 129 114 100 178 110 234  17 179  74\n",
      " 254  63 133  85 190 221 164  60 152 191  22 145  47  98  65 208  20  93\n",
      " 198 223  71  78 111 233 141 113  35 148 209  81 194 165 130  40 116 146\n",
      " 253  15 197 244 169  88 149 245 218 186 216 103 188 228 112 215  80 140\n",
      " 210 166 200  90  46 132 134 147 227  97 203  61 239 177 224 192 252 167\n",
      " 225 180 162  56 174 144 125 220  92 139 213 248  82 226 240 232 222  33\n",
      " 183 182  70  86 207 154 161 184 171 217 136 105 204 199 189 102 249   0\n",
      "  96 241 231 206]\n",
      "[ 25   1  26 255  19   9  15  23  13  12 219  20   2  16  17  53  59 250\n",
      "   5  63 147  11  80  38   4 245 212  46  48  10 133  67   6  21  58  31\n",
      "  93  83  47   8   7  95 254   3 119 247 182 249 252 152 239 167  49  82\n",
      " 129  64  14  92  18 253  68 195 117  69  34  42 100 142  28  50  52 166\n",
      " 104 240  22 185  24  44 157  71 232 123 187  60 156 111 113  88  43  30\n",
      " 112  61 101  81 154  36 234 164 251  62 171  55 200 242  41  75 226 115\n",
      " 153  39 132 217  79 169  37  70  35 224 143  72 192  65 205 135  40  96\n",
      " 161 141 151  98 225  33  78 214  29 105 178 110  73  90 216  84  66  27\n",
      " 246 177 196 175  76 118 189 158 183  51 114  54 191 116 237  87 243 126\n",
      " 238  97 130  57 109 155 229 139 148 168 199 134 190 170 163  85 106 193\n",
      " 180 165  45 207 248 174 120 194 162 144  77 172  91 235 236 125 223 203\n",
      "  32 131 138 197 231 136 137 146 149 210 127 176 181 244 159 227 173 124\n",
      " 215 218 208 145 206 241 121 198 128 102 221 201 179 122 150  89  99 108\n",
      "  56 107  86 188 202 222 230 184 211 213 228  74 103  94 186 220   0 233\n",
      " 140 209 160 204]\n",
      "[0.17 0.   0.1  1.   0.07 0.04 0.06 0.09 0.05 0.01 0.23 0.98 0.12 0.25\n",
      " 0.81 0.31 0.02 0.96 0.88 0.39 0.26 0.08 0.36 0.99 0.55 0.03 0.48 0.14\n",
      " 0.71 0.6  0.94 0.57 0.28 0.83 0.5  0.32 0.13 0.16 0.56 0.19 0.63 0.68\n",
      " 0.62 0.91 0.2  0.18 0.74 0.41 0.45 0.4  0.58 0.92 0.75 0.33 0.24 0.65\n",
      " 0.44 0.95 0.89 0.78 0.27 0.15 0.76 0.8  0.67 0.11 0.43 0.97 0.73 0.35\n",
      " 0.77 0.72 0.69 0.64 0.38 0.46 0.86 0.21 0.47 0.93 0.34 0.84 0.53 0.42\n",
      " 0.51 0.3  0.59 0.22 0.29 0.49 0.79 0.52 0.87 0.85 0.82 0.54 0.61 0.7\n",
      " 0.9  0.37 0.66]\n",
      "[0.03 0.6  0.05 0.   0.07 0.06 0.85 0.04 0.31 0.01 0.02 0.66 0.08 0.84\n",
      " 0.58 0.11 0.54 0.29 0.42 0.69 0.61 0.09 1.   0.33 0.38 0.74 0.91 0.17\n",
      " 0.52 0.8  0.1  0.27 0.5  0.67 0.16 0.47 0.64 0.53 0.82 0.2  0.12 0.99\n",
      " 0.51 0.73 0.28 0.68 0.7  0.57 0.14 0.32 0.48 0.55 0.59 0.15 0.13 0.77\n",
      " 0.81 0.25 0.18 0.24 0.89 0.22 0.62 0.49 0.44 0.65 0.78 0.23 0.4  0.36\n",
      " 0.37 0.94 0.26 0.34 0.3  0.97 0.56 0.19 0.96 0.63 0.45 0.72 0.79 0.21\n",
      " 0.76 0.95 0.93 0.39 0.75 0.86 0.46 0.35 0.92 0.43 0.71 0.83 0.41 0.87\n",
      " 0.98 0.88 0.9 ]\n",
      "[0.17 0.88 0.   0.03 0.12 1.   0.01 0.02 0.11 0.28 0.05 0.99 0.31 0.04\n",
      " 0.25 0.58 0.46 0.55 0.78 0.14 0.86 0.71 0.1  0.33 0.5  0.2  0.97 0.09\n",
      " 0.83 0.32 0.06 0.13 0.19 0.18 0.36 0.08 0.95 0.15 0.56 0.64 0.07 0.51\n",
      " 0.6  0.45 0.27 0.82 0.16 0.63 0.9  0.87 0.35 0.23 0.7  0.96 0.24 0.94\n",
      " 0.42 0.92 0.26 0.54 0.48 0.67 0.74 0.4  0.77 0.98 0.3  0.53 0.47 0.29\n",
      " 0.49 0.65 0.84 0.44 0.22 0.73 0.38 0.66 0.57 0.85 0.75 0.61 0.89 0.41\n",
      " 0.8  0.62 0.37 0.52 0.68 0.93 0.72 0.79 0.39 0.91 0.69 0.76 0.34 0.21\n",
      " 0.81 0.43 0.59]\n",
      "[0.   0.04 0.03 0.2  0.02 1.   0.14 0.51 0.01 0.18 0.26 0.09 0.05 0.15\n",
      " 0.1  0.21 0.07 0.19 0.53 0.33 0.11 0.25 0.06 0.5  0.56 0.24 0.55 0.08\n",
      " 0.54 0.67 0.13 0.12 0.23 0.38 0.52 0.22 0.43 0.17 0.39 0.16 0.3  0.31\n",
      " 0.28 0.45 0.4  0.27 0.35 0.29 0.6  0.32 0.8  0.34 0.75 0.44 0.57 0.48\n",
      " 0.97 0.37 0.46 0.36 0.42 0.49 0.86 0.73 0.64 0.58 0.47 0.41 0.62 0.93\n",
      " 0.71 0.88 0.83 0.7  0.78]\n",
      "[0.   1.   0.03 0.99 0.53 0.07 0.97 0.01 0.09 0.11 0.8  0.02 0.08 0.98\n",
      " 0.93 0.51 0.22 0.25 0.33 0.16 0.12 0.05 0.5  0.92 0.14 0.2  0.67 0.06\n",
      " 0.04 0.1  0.77 0.57 0.48 0.55 0.63 0.17 0.96 0.13 0.34 0.78 0.89 0.68\n",
      " 0.86 0.66 0.79 0.82 0.29 0.18 0.87 0.15 0.94 0.81 0.61 0.39 0.19 0.62\n",
      " 0.4  0.6  0.24 0.73 0.37 0.84 0.46 0.58 0.71 0.47 0.26 0.21 0.28 0.9\n",
      " 0.56 0.69 0.41 0.72 0.95 0.42 0.64 0.59 0.43 0.75 0.88 0.23 0.7  0.74\n",
      " 0.65 0.76 0.44 0.27 0.91 0.31 0.36 0.3  0.49 0.85 0.52 0.45 0.35 0.32\n",
      " 0.83 0.54 0.38]\n",
      "[0.   1.   0.01 0.02 0.88 0.09 0.48 0.08 0.97 0.06 0.05 0.25 0.14 0.1\n",
      " 0.33 0.96 0.75 0.92 0.67 0.36 0.5  0.2  0.93 0.61 0.13 0.8  0.98 0.04\n",
      " 0.07 0.3  0.95 0.03 0.66 0.11 0.94 0.7  0.85 0.15 0.41 0.56 0.78 0.69\n",
      " 0.6  0.76 0.89 0.26 0.32 0.79 0.12 0.16 0.91 0.22 0.29 0.73 0.49 0.82\n",
      " 0.4  0.65 0.81 0.84 0.28 0.19 0.87 0.42 0.18 0.77 0.44 0.59 0.45 0.71\n",
      " 0.35 0.17 0.9  0.27 0.39 0.23 0.62 0.86 0.55 0.31 0.83 0.57 0.72 0.37\n",
      " 0.74 0.38 0.34 0.24 0.54 0.58 0.68 0.63 0.21 0.46 0.51 0.43 0.52 0.64\n",
      " 0.53 0.47]\n",
      "[0.05 0.   1.   0.02 0.56 0.29 0.77 0.08 0.62 0.58 0.46 0.2  0.01 0.37\n",
      " 0.83 0.74 0.89 0.67 0.61 0.72 0.06 0.15 0.13 0.57 0.64 0.86 0.51 0.92\n",
      " 0.26 0.04 0.44 0.34 0.43 0.38 0.91 0.99 0.41 0.84 0.03 0.69 0.33 0.27\n",
      " 0.75 0.42 0.3  0.49 0.17 0.09 0.94 0.63 0.71 0.85 0.24 0.32 0.8  0.36\n",
      " 0.88 0.22 0.47 0.07 0.14 0.96 0.87 0.35 0.54 0.9  0.45 0.73 0.95 0.31\n",
      " 0.39 0.4  0.11 0.5  0.1  0.78 0.12 0.97 0.98 0.19 0.28 0.53 0.79 0.76\n",
      " 0.59 0.66 0.18 0.82 0.25 0.65 0.21 0.81 0.52 0.6  0.7  0.68 0.55 0.16\n",
      " 0.23 0.93 0.48]\n",
      "[0.   0.01 1.   0.16 0.57 0.61 0.68 0.96 0.88 0.84 0.91 0.12 0.79 0.02\n",
      " 0.04 0.29 0.03 0.99 0.97 0.07 0.75 0.2  0.44 0.08 0.06 0.81 0.32 0.55\n",
      " 0.33 0.5  0.05 0.15 0.45 0.66 0.93 0.89 0.62 0.67 0.27 0.41 0.98 0.71\n",
      " 0.38 0.74 0.19 0.39 0.11 0.92 0.7  0.72 0.73 0.9  0.17 0.53 0.87 0.69\n",
      " 0.77 0.78 0.52 0.35 0.34 0.13 0.28 0.95 0.47 0.31 0.86 0.65 0.82 0.94\n",
      " 0.64 0.26 0.14 0.6  0.22 0.4  0.1  0.25 0.09 0.18 0.54 0.21 0.59 0.85\n",
      " 0.8  0.37 0.49 0.56 0.76 0.51 0.24 0.48 0.83 0.36 0.58 0.3  0.42 0.63\n",
      " 0.43 0.46 0.23]\n",
      "['normal' 'neptune' 'warezclient' 'ipsweep' 'portsweep' 'teardrop' 'nmap'\n",
      " 'satan' 'smurf' 'pod' 'back' 'guess_passwd' 'ftp_write' 'multihop'\n",
      " 'rootkit' 'buffer_overflow' 'imap' 'warezmaster' 'phf' 'land'\n",
      " 'loadmodule' 'spy' 'perl']\n",
      "[20 15 19 21 18 17 16 12 14 11  2 13 10  9  8  7  3  5  1  6  0  4]\n"
     ]
    }
   ],
   "source": [
    "for col in df2.columns: \n",
    "    unique= df2[col].unique()\n",
    "    print(unique)"
   ]
  },
  {
   "cell_type": "code",
   "execution_count": 53,
   "metadata": {},
   "outputs": [
    {
     "name": "stdout",
     "output_type": "stream",
     "text": [
      "total null value = 0\n"
     ]
    }
   ],
   "source": [
    "print(f'total null value = {df2.isnull().sum().sum()}')"
   ]
  },
  {
   "cell_type": "code",
   "execution_count": 54,
   "metadata": {
    "scrolled": true
   },
   "outputs": [
    {
     "name": "stdout",
     "output_type": "stream",
     "text": [
      " Total Duplicate = 0\n"
     ]
    }
   ],
   "source": [
    "print(f' Total Duplicate = {df2.duplicated().sum()}')"
   ]
  },
  {
   "cell_type": "code",
   "execution_count": 55,
   "metadata": {},
   "outputs": [
    {
     "data": {
      "text/plain": [
       "array(['normal', 'neptune', 'warezclient', 'ipsweep', 'portsweep',\n",
       "       'teardrop', 'nmap', 'satan', 'smurf', 'pod', 'back',\n",
       "       'guess_passwd', 'ftp_write', 'multihop', 'rootkit',\n",
       "       'buffer_overflow', 'imap', 'warezmaster', 'phf', 'land',\n",
       "       'loadmodule', 'spy', 'perl'], dtype=object)"
      ]
     },
     "execution_count": 55,
     "metadata": {},
     "output_type": "execute_result"
    }
   ],
   "source": [
    "df2.attack.unique()"
   ]
  },
  {
   "cell_type": "code",
   "execution_count": 56,
   "metadata": {},
   "outputs": [
    {
     "data": {
      "image/png": "[encoded data removed]",
      "text/plain": [
       "<Figure size 640x480 with 1 Axes>"
      ]
     },
     "metadata": {},
     "output_type": "display_data"
    }
   ],
   "source": [
    "df2.attack.value_counts().plot(kind='bar')\n",
    "plt.show()"
   ]
  },
  {
   "cell_type": "code",
   "execution_count": 57,
   "metadata": {},
   "outputs": [
    {
     "name": "stdout",
     "output_type": "stream",
     "text": [
      "['neptune', 'warezclient', 'ipsweep', 'portsweep', 'teardrop', 'nmap', 'satan', 'smurf', 'pod', 'back', 'guess_passwd', 'ftp_write', 'multihop', 'rootkit', 'buffer_overflow', 'imap', 'warezmaster', 'phf', 'land', 'loadmodule', 'spy', 'perl']\n"
     ]
    }
   ],
   "source": [
    "attack_type = df2['attack'][df2.attack != 'normal'].unique().tolist()\n",
    "print(attack_type)"
   ]
  },
  {
   "cell_type": "code",
   "execution_count": 58,
   "metadata": {},
   "outputs": [
    {
     "data": {
      "image/png": "[encoded data removed]",
      "text/plain": [
       "<Figure size 640x480 with 1 Axes>"
      ]
     },
     "metadata": {},
     "output_type": "display_data"
    }
   ],
   "source": [
    "df2['attack'] = df2.attack.replace(to_replace=attack_type,value='attack')\n",
    "df2.attack.value_counts().plot(kind='bar')\n",
    "plt.show()"
   ]
  },
  {
   "cell_type": "code",
   "execution_count": 59,
   "metadata": {},
   "outputs": [
    {
     "name": "stdout",
     "output_type": "stream",
     "text": [
      "<class 'pandas.core.frame.DataFrame'>\n",
      "RangeIndex: 125973 entries, 0 to 125972\n",
      "Data columns (total 43 columns):\n",
      " #   Column                       Non-Null Count   Dtype  \n",
      "---  ------                       --------------   -----  \n",
      " 0   duration                     125973 non-null  int64  \n",
      " 1   protocol_type                125973 non-null  object \n",
      " 2   service                      125973 non-null  object \n",
      " 3   flag                         125973 non-null  object \n",
      " 4   src_bytes                    125973 non-null  int64  \n",
      " 5   dst_bytes                    125973 non-null  int64  \n",
      " 6   land                         125973 non-null  int64  \n",
      " 7   wrong_fragment               125973 non-null  int64  \n",
      " 8   urgent                       125973 non-null  int64  \n",
      " 9   hot                          125973 non-null  int64  \n",
      " 10  num_failed_logins            125973 non-null  int64  \n",
      " 11  logged_in                    125973 non-null  int64  \n",
      " 12  num_compromised              125973 non-null  int64  \n",
      " 13  root_shell                   125973 non-null  int64  \n",
      " 14  su_attempted                 125973 non-null  int64  \n",
      " 15  num_root                     125973 non-null  int64  \n",
      " 16  num_file_creations           125973 non-null  int64  \n",
      " 17  num_shells                   125973 non-null  int64  \n",
      " 18  num_access_files             125973 non-null  int64  \n",
      " 19  num_outbound_cmds            125973 non-null  int64  \n",
      " 20  is_host_login                125973 non-null  int64  \n",
      " 21  is_guest_login               125973 non-null  int64  \n",
      " 22  count                        125973 non-null  int64  \n",
      " 23  srv_count                    125973 non-null  int64  \n",
      " 24  serror_rate                  125973 non-null  float64\n",
      " 25  srv_serror_rate              125973 non-null  float64\n",
      " 26  rerror_rate                  125973 non-null  float64\n",
      " 27  srv_rerror_rate              125973 non-null  float64\n",
      " 28  same_srv_rate                125973 non-null  float64\n",
      " 29  diff_srv_rate                125973 non-null  float64\n",
      " 30  srv_diff_host_rate           125973 non-null  float64\n",
      " 31  dst_host_count               125973 non-null  int64  \n",
      " 32  dst_host_srv_count           125973 non-null  int64  \n",
      " 33  dst_host_same_srv_rate       125973 non-null  float64\n",
      " 34  dst_host_diff_srv_rate       125973 non-null  float64\n",
      " 35  dst_host_same_src_port_rate  125973 non-null  float64\n",
      " 36  dst_host_srv_diff_host_rate  125973 non-null  float64\n",
      " 37  dst_host_serror_rate         125973 non-null  float64\n",
      " 38  dst_host_srv_serror_rate     125973 non-null  float64\n",
      " 39  dst_host_rerror_rate         125973 non-null  float64\n",
      " 40  dst_host_srv_rerror_rate     125973 non-null  float64\n",
      " 41  attack                       125973 non-null  object \n",
      " 42  level                        125973 non-null  int64  \n",
      "dtypes: float64(15), int64(24), object(4)\n",
      "memory usage: 41.3+ MB\n"
     ]
    }
   ],
   "source": [
    "data = df2\n",
    "data.info()"
   ]
  },
  {
   "cell_type": "code",
   "execution_count": 60,
   "metadata": {},
   "outputs": [
    {
     "name": "stdout",
     "output_type": "stream",
     "text": [
      "<class 'pandas.core.frame.DataFrame'>\n",
      "RangeIndex: 125973 entries, 0 to 125972\n",
      "Data columns (total 43 columns):\n",
      " #   Column                       Non-Null Count   Dtype  \n",
      "---  ------                       --------------   -----  \n",
      " 0   duration                     125973 non-null  int64  \n",
      " 1   protocol_type                125973 non-null  int8   \n",
      " 2   service                      125973 non-null  int8   \n",
      " 3   flag                         125973 non-null  int8   \n",
      " 4   src_bytes                    125973 non-null  int64  \n",
      " 5   dst_bytes                    125973 non-null  int64  \n",
      " 6   land                         125973 non-null  int64  \n",
      " 7   wrong_fragment               125973 non-null  int64  \n",
      " 8   urgent                       125973 non-null  int64  \n",
      " 9   hot                          125973 non-null  int64  \n",
      " 10  num_failed_logins            125973 non-null  int64  \n",
      " 11  logged_in                    125973 non-null  int64  \n",
      " 12  num_compromised              125973 non-null  int64  \n",
      " 13  root_shell                   125973 non-null  int64  \n",
      " 14  su_attempted                 125973 non-null  int64  \n",
      " 15  num_root                     125973 non-null  int64  \n",
      " 16  num_file_creations           125973 non-null  int64  \n",
      " 17  num_shells                   125973 non-null  int64  \n",
      " 18  num_access_files             125973 non-null  int64  \n",
      " 19  num_outbound_cmds            125973 non-null  int64  \n",
      " 20  is_host_login                125973 non-null  int64  \n",
      " 21  is_guest_login               125973 non-null  int64  \n",
      " 22  count                        125973 non-null  int64  \n",
      " 23  srv_count                    125973 non-null  int64  \n",
      " 24  serror_rate                  125973 non-null  float64\n",
      " 25  srv_serror_rate              125973 non-null  float64\n",
      " 26  rerror_rate                  125973 non-null  float64\n",
      " 27  srv_rerror_rate              125973 non-null  float64\n",
      " 28  same_srv_rate                125973 non-null  float64\n",
      " 29  diff_srv_rate                125973 non-null  float64\n",
      " 30  srv_diff_host_rate           125973 non-null  float64\n",
      " 31  dst_host_count               125973 non-null  int64  \n",
      " 32  dst_host_srv_count           125973 non-null  int64  \n",
      " 33  dst_host_same_srv_rate       125973 non-null  float64\n",
      " 34  dst_host_diff_srv_rate       125973 non-null  float64\n",
      " 35  dst_host_same_src_port_rate  125973 non-null  float64\n",
      " 36  dst_host_srv_diff_host_rate  125973 non-null  float64\n",
      " 37  dst_host_serror_rate         125973 non-null  float64\n",
      " 38  dst_host_srv_serror_rate     125973 non-null  float64\n",
      " 39  dst_host_rerror_rate         125973 non-null  float64\n",
      " 40  dst_host_srv_rerror_rate     125973 non-null  float64\n",
      " 41  attack                       125973 non-null  int8   \n",
      " 42  level                        125973 non-null  int64  \n",
      "dtypes: float64(15), int64(24), int8(4)\n",
      "memory usage: 38.0 MB\n"
     ]
    }
   ],
   "source": [
    "for col in data.columns: \n",
    "    if data[col].dtype == 'object': \n",
    "        data[col] = data[col].astype('category').cat.codes\n",
    "\n",
    "data.info()"
   ]
  },
  {
   "cell_type": "code",
   "execution_count": 61,
   "metadata": {},
   "outputs": [
    {
     "data": {
      "text/plain": [
       "(125973, 42)"
      ]
     },
     "execution_count": 61,
     "metadata": {},
     "output_type": "execute_result"
    }
   ],
   "source": [
    "X, y  = data.drop(columns=['attack']) , data.attack\n",
    "X.shape"
   ]
  },
  {
   "cell_type": "code",
   "execution_count": 62,
   "metadata": {},
   "outputs": [
    {
     "data": {
      "text/plain": [
       "array([[-0.11024922, -0.12470616, -0.68678521, ..., -0.22453241,\n",
       "        -0.37638703,  0.21642633],\n",
       "       [-0.11024922,  2.21931185,  0.78142753, ..., -0.38763462,\n",
       "        -0.37638703, -1.9655564 ],\n",
       "       [-0.11024922, -0.12470616,  1.08730518, ..., -0.38763462,\n",
       "        -0.37638703, -0.21997022],\n",
       "       ...,\n",
       "       [-0.11024922, -0.12470616,  1.39318283, ..., -0.35501418,\n",
       "        -0.37638703, -0.65636676],\n",
       "       [-0.11024922, -0.12470616, -0.0750299 , ..., -0.38763462,\n",
       "        -0.37638703,  0.21642633],\n",
       "       [-0.11024922, -0.12470616, -0.68678521, ..., -0.38763462,\n",
       "        -0.37638703,  0.65282288]])"
      ]
     },
     "execution_count": 62,
     "metadata": {},
     "output_type": "execute_result"
    }
   ],
   "source": [
    "from sklearn.preprocessing import MinMaxScaler, StandardScaler\n",
    "\n",
    "# Initialize MinMaxScaler to scale data to [0,1]\n",
    "scaler = StandardScaler()\n",
    "\n",
    "# Fit and transform training data\n",
    "X_scalled = scaler.fit_transform(X)\n",
    "X_scalled"
   ]
  },
  {
   "cell_type": "code",
   "execution_count": 82,
   "metadata": {},
   "outputs": [],
   "source": [
    "from imblearn.over_sampling import SMOTE, ADASYN\n",
    "from imblearn.combine import SMOTEENN\n",
    "\n",
    "\n",
    "# Apply SMOTE to balance the dataset\n",
    "smote = SMOTEENN()\n",
    "X_resampled, y_resampled = smote.fit_resample(X_scalled, y)"
   ]
  },
  {
   "cell_type": "code",
   "execution_count": 83,
   "metadata": {},
   "outputs": [
    {
     "data": {
      "text/plain": [
       "<Figure size 400x400 with 0 Axes>"
      ]
     },
     "metadata": {},
     "output_type": "display_data"
    },
    {
     "data": {
      "image/png": "[encoded data removed]",
      "text/plain": [
       "<Figure size 400x400 with 1 Axes>"
      ]
     },
     "metadata": {},
     "output_type": "display_data"
    }
   ],
   "source": [
    "import seaborn as sn \n",
    "from matplotlib import pyplot as plt\n",
    "plt.figure(figsize=(4,4))\n",
    "sn.set_style(style='darkgrid')\n",
    "plt.figure(figsize=(4,4))\n",
    "y_resampled.value_counts().plot(kind='bar', color=['green', 'blue'])\n",
    "plt.title('Balance Class Distribution Count')\n",
    "plt.ylabel('Count')\n",
    "plt.xlabel('Class')\n",
    "plt.grid()\n",
    "plt.grid()\n"
   ]
  },
  {
   "cell_type": "code",
   "execution_count": 84,
   "metadata": {},
   "outputs": [
    {
     "data": {
      "text/plain": [
       "0    67196\n",
       "1    67191\n",
       "Name: attack, dtype: int64"
      ]
     },
     "execution_count": 84,
     "metadata": {},
     "output_type": "execute_result"
    }
   ],
   "source": [
    "y_resampled.value_counts()"
   ]
  },
  {
   "cell_type": "code",
   "execution_count": 85,
   "metadata": {},
   "outputs": [],
   "source": [
    "# machine learning developement\n",
    "\n",
    "import numpy as np\n",
    "import pandas as pd\n",
    "from sklearn.datasets import fetch_openml\n",
    "from sklearn.model_selection import train_test_split\n",
    "from sklearn.preprocessing import StandardScaler\n",
    "from sklearn.neural_network import BernoulliRBM\n",
    "from sklearn.pipeline import Pipeline\n",
    "from sklearn.linear_model import LogisticRegression"
   ]
  },
  {
   "cell_type": "code",
   "execution_count": 86,
   "metadata": {},
   "outputs": [
    {
     "data": {
      "text/plain": [
       "(107509, 42)"
      ]
     },
     "execution_count": 86,
     "metadata": {},
     "output_type": "execute_result"
    }
   ],
   "source": [
    "# Split the dataset into training and test sets\n",
    "X_train, X_test, y_train, y_test = train_test_split(X_resampled, y_resampled, stratify=y_resampled ,  test_size=0.2, shuffle=True)\n",
    "X_train.shape"
   ]
  },
  {
   "cell_type": "code",
   "execution_count": null,
   "metadata": {},
   "outputs": [],
   "source": []
  },
  {
   "cell_type": "code",
   "execution_count": 87,
   "metadata": {},
   "outputs": [
    {
     "data": {
      "text/plain": [
       "<matplotlib.legend.Legend at 0x2561945d550>"
      ]
     },
     "execution_count": 87,
     "metadata": {},
     "output_type": "execute_result"
    },
    {
     "data": {
      "image/png": "[encoded data removed]",
      "text/plain": [
       "<Figure size 640x480 with 1 Axes>"
      ]
     },
     "metadata": {},
     "output_type": "display_data"
    }
   ],
   "source": [
    "# confirming if the training the testing sample is balance \n",
    "y_train.value_counts().plot(kind='bar', color=['purple', 'purple'])\n",
    "y_test.value_counts().plot(kind='bar', color=['brown', 'brown'])\n",
    "plt.legend(labels=['Training smaples', 'Testing samples'])"
   ]
  },
  {
   "cell_type": "code",
   "execution_count": null,
   "metadata": {},
   "outputs": [
    {
     "name": "stderr",
     "output_type": "stream",
     "text": [
      "2025-03-21 07:35:31,746 - pyswarms.single.global_best - INFO - Optimize for 5 iters with {'c1': 1.5, 'c2': 1.5, 'w': 0.5}\n",
      "pyswarms.single.global_best: 100%|█████████████████|5/5, best_cost=1e+6\n",
      "2025-03-21 07:35:31,798 - pyswarms.single.global_best - INFO - Optimization finished | best cost: 1000000.0, best pos: [7.1875851]\n",
      "2025-03-21 07:35:31,865 - pyswarms.single.global_best - INFO - Optimize for 5 iters with {'c1': 1.5, 'c2': 1.5, 'w': 0.5}\n"
     ]
    },
    {
     "name": "stdout",
     "output_type": "stream",
     "text": [
      "Best Number of RBM Stacks: 7\n"
     ]
    },
    {
     "name": "stderr",
     "output_type": "stream",
     "text": [
      "pyswarms.single.global_best: 100%|█████████████████|5/5, best_cost=1e+6\n",
      "2025-03-21 07:35:31,940 - pyswarms.single.global_best - INFO - Optimization finished | best cost: 1000000.0, best pos: [4.5922007]\n",
      "2025-03-21 07:35:31,965 - pyswarms.single.global_best - INFO - Optimize for 5 iters with {'c1': 1.5, 'c2': 1.5, 'w': 0.5}\n"
     ]
    },
    {
     "name": "stdout",
     "output_type": "stream",
     "text": [
      "Best Number of RBM Stacks: 4\n"
     ]
    },
    {
     "name": "stderr",
     "output_type": "stream",
     "text": [
      "pyswarms.single.global_best: 100%|█████████████████|5/5, best_cost=1e+6\n",
      "2025-03-21 07:35:32,031 - pyswarms.single.global_best - INFO - Optimization finished | best cost: 1000000.0, best pos: [7.20683254]\n",
      "2025-03-21 07:35:32,065 - pyswarms.single.global_best - INFO - Optimize for 5 iters with {'c1': 1.5, 'c2': 1.5, 'w': 0.5}\n"
     ]
    },
    {
     "name": "stdout",
     "output_type": "stream",
     "text": [
      "Best Number of RBM Stacks: 7\n"
     ]
    },
    {
     "name": "stderr",
     "output_type": "stream",
     "text": [
      "pyswarms.single.global_best: 100%|█████████████████|5/5, best_cost=1e+6\n",
      "2025-03-21 07:35:32,127 - pyswarms.single.global_best - INFO - Optimization finished | best cost: 1000000.0, best pos: [7.21688944]\n",
      "2025-03-21 07:35:32,162 - pyswarms.single.global_best - INFO - Optimize for 5 iters with {'c1': 1.5, 'c2': 1.5, 'w': 0.5}\n"
     ]
    },
    {
     "name": "stdout",
     "output_type": "stream",
     "text": [
      "Best Number of RBM Stacks: 7\n"
     ]
    },
    {
     "name": "stderr",
     "output_type": "stream",
     "text": [
      "pyswarms.single.global_best: 100%|█████████████████|5/5, best_cost=1e+6\n",
      "2025-03-21 07:35:32,213 - pyswarms.single.global_best - INFO - Optimization finished | best cost: 1000000.0, best pos: [5.14767323]\n"
     ]
    },
    {
     "name": "stdout",
     "output_type": "stream",
     "text": [
      "Best Number of RBM Stacks: 5\n"
     ]
    },
    {
     "name": "stderr",
     "output_type": "stream",
     "text": [
      "2025-03-21 07:35:32,264 - pyswarms.single.global_best - INFO - Optimize for 5 iters with {'c1': 1.5, 'c2': 1.5, 'w': 0.5}\n",
      "pyswarms.single.global_best: 100%|█████████████████|5/5, best_cost=1e+6\n",
      "2025-03-21 07:35:32,328 - pyswarms.single.global_best - INFO - Optimization finished | best cost: 1000000.0, best pos: [5.01319761]\n",
      "2025-03-21 07:35:32,362 - pyswarms.single.global_best - INFO - Optimize for 5 iters with {'c1': 1.5, 'c2': 1.5, 'w': 0.5}\n"
     ]
    },
    {
     "name": "stdout",
     "output_type": "stream",
     "text": [
      "Best Number of RBM Stacks: 5\n"
     ]
    },
    {
     "name": "stderr",
     "output_type": "stream",
     "text": [
      "pyswarms.single.global_best: 100%|█████████████████|5/5, best_cost=1e+6\n",
      "2025-03-21 07:35:32,464 - pyswarms.single.global_best - INFO - Optimization finished | best cost: 1000000.0, best pos: [6.8741199]\n",
      "2025-03-21 07:35:32,494 - pyswarms.single.global_best - INFO - Optimize for 5 iters with {'c1': 1.5, 'c2': 1.5, 'w': 0.5}\n"
     ]
    },
    {
     "name": "stdout",
     "output_type": "stream",
     "text": [
      "Best Number of RBM Stacks: 6\n"
     ]
    },
    {
     "name": "stderr",
     "output_type": "stream",
     "text": [
      "pyswarms.single.global_best: 100%|█████████████████|5/5, best_cost=1e+6\n",
      "2025-03-21 07:35:32,624 - pyswarms.single.global_best - INFO - Optimization finished | best cost: 1000000.0, best pos: [5.30661588]\n",
      "2025-03-21 07:35:32,646 - pyswarms.single.global_best - INFO - Optimize for 5 iters with {'c1': 1.5, 'c2': 1.5, 'w': 0.5}\n"
     ]
    },
    {
     "name": "stdout",
     "output_type": "stream",
     "text": [
      "Best Number of RBM Stacks: 5\n"
     ]
    },
    {
     "name": "stderr",
     "output_type": "stream",
     "text": [
      "pyswarms.single.global_best: 100%|█████████████████|5/5, best_cost=1e+6\n",
      "2025-03-21 07:35:32,740 - pyswarms.single.global_best - INFO - Optimization finished | best cost: 1000000.0, best pos: [7.93673865]\n",
      "2025-03-21 07:35:32,774 - pyswarms.single.global_best - INFO - Optimize for 5 iters with {'c1': 1.5, 'c2': 1.5, 'w': 0.5}\n"
     ]
    },
    {
     "name": "stdout",
     "output_type": "stream",
     "text": [
      "Best Number of RBM Stacks: 7\n"
     ]
    },
    {
     "name": "stderr",
     "output_type": "stream",
     "text": [
      "pyswarms.single.global_best: 100%|█████████████████|5/5, best_cost=1e+6\n",
      "2025-03-21 07:35:32,863 - pyswarms.single.global_best - INFO - Optimization finished | best cost: 1000000.0, best pos: [4.95261629]\n"
     ]
    },
    {
     "name": "stdout",
     "output_type": "stream",
     "text": [
      "Best Number of RBM Stacks: 4\n",
      "Best Average Stack 5\n"
     ]
    }
   ],
   "source": [
    "experimental_sample = 100000\n",
    "# Custom DBN Class (varying number of RBM stacks)\n",
    "class DBNClassifier(BaseEstimator, TransformerMixin):\n",
    "    def __init__(self, num_rbms=2, learning_rate=0.01, n_iter=4):\n",
    "        self.num_rbms = num_rbms\n",
    "        self.learning_rate = learning_rate\n",
    "        self.n_iter = n_iter\n",
    "        self.pipeline = None\n",
    "\n",
    "    def fit(self, X, y):\n",
    "        layers = []\n",
    "        rbm_sizes = [128, 256, 512] \n",
    "\n",
    "        for i in range(self.num_rbms):\n",
    "            layers.append((\"rbm\" + str(i), BernoulliRBM(n_components=rbm_sizes[i], learning_rate=self.learning_rate, n_iter=self.n_iter, verbose=0)))\n",
    "\n",
    "        layers.append((\"logreg\", LogisticRegression(max_iter=1000)))\n",
    "        self.pipeline = Pipeline(layers)\n",
    "        self.pipeline.fit(X, y)\n",
    "        return self\n",
    "\n",
    "    def predict(self, X):\n",
    "        return self.pipeline.predict(X)\n",
    "\n",
    "\n",
    "# Define PSO objective function (optimize num_rbms)\n",
    "def objective_function(params):\n",
    "    num_rbms = int(params[0])  # Number of RBMs\n",
    "\n",
    "    if num_rbms < 1 or num_rbms > 3:  # Limit number of RBM layers\n",
    "        return 1e6  # Penalize invalid solutions\n",
    "    \n",
    "    model = DBNClassifier(num_rbms=num_rbms)\n",
    "    model.fit(X_train[:experimental_sample], y_train[:experimental_sample])\n",
    "    y_pred = model.predict(X_test[:experimental_sample])\n",
    "    return -accuracy_score(y_test[:experimental_sample], y_pred[:experimental_sample])  # PSO minimizes, so negate accuracy\n",
    "\n",
    "# Set PSO bounds (optimize only num_rbms between 1-3)\n",
    "bounds = [(4, 8)]\n",
    "\n",
    "mean = 0\n",
    "\n",
    "for i in range(10): \n",
    "    # PSO optimization\n",
    "    optimizer = ps.single.GlobalBestPSO(n_particles=5, dimensions=len(bounds), options={'c1': 1.5, 'c2': 1.5, 'w': 0.5}, bounds=np.array(bounds).T)\n",
    "    \n",
    "    best_cost, best_num_rbms = optimizer.optimize(objective_function, iters=5)\n",
    "    \n",
    "    print(\"Best Number of RBM Stacks:\", int(best_num_rbms[0]))\n",
    "\n",
    "    mean = mean + int(best_num_rbms[0])\n",
    "\n",
    "print('Best Average Stack', int(mean/10))"
   ]
  },
  {
   "cell_type": "code",
   "execution_count": 79,
   "metadata": {},
   "outputs": [
    {
     "name": "stdout",
     "output_type": "stream",
     "text": [
      "Generation 1: Best Learning Rate = 0.10000, Accuracy = 0.9380\n",
      "Generation 2: Best Learning Rate = 0.10000, Accuracy = 0.9370\n",
      "Generation 3: Best Learning Rate = 0.10000, Accuracy = 0.9370\n",
      "Generation 4: Best Learning Rate = 0.10000, Accuracy = 0.9380\n",
      "Generation 5: Best Learning Rate = 0.10000, Accuracy = 0.9390\n",
      "Generation 6: Best Learning Rate = 0.10000, Accuracy = 0.9390\n",
      "Generation 7: Best Learning Rate = 0.09317, Accuracy = 0.9380\n",
      "Generation 8: Best Learning Rate = 0.10000, Accuracy = 0.9400\n",
      "Generation 9: Best Learning Rate = 0.10000, Accuracy = 0.9390\n",
      "Generation 10: Best Learning Rate = 0.10000, Accuracy = 0.9370\n",
      "Optimal Learning Rate: 0.10000\n"
     ]
    }
   ],
   "source": [
    "# Genetic Algorithm\n",
    "# Fitness function\n",
    "experimental_sample = 1000\n",
    "def fitness_function(learning_rate):\n",
    "    model = DBNClassifier(learning_rate=learning_rate)\n",
    "    model.fit(X_train[:experimental_sample], y_train[:experimental_sample])\n",
    "    y_pred = model.predict(X_test[:experimental_sample])\n",
    "    return accuracy_score(y_test[:experimental_sample], y_pred)\n",
    "\n",
    "# Genetic Algorithm\n",
    "def genetic_algorithm(pop_size=10, generations=10, mutation_rate=0.1, bounds=(0.001, 0.1)):\n",
    "    # Initialize population\n",
    "    population = np.random.uniform(bounds[0], bounds[1], pop_size)\n",
    "    for generation in range(generations):\n",
    "        # Evaluate fitness\n",
    "        fitness = np.array([fitness_function(ind) for ind in population])\n",
    "        # Select the best individuals\n",
    "        sorted_indices = np.argsort(fitness)[::-1]\n",
    "        parents = population[sorted_indices[:pop_size // 2]]\n",
    "        # Crossover: Generate offspring\n",
    "        offspring = []\n",
    "        for _ in range(pop_size // 2):\n",
    "            parent1, parent2 = random.sample(list(parents), 2)\n",
    "            child = (parent1 + parent2) / 2  # Average crossover\n",
    "            offspring.append(child)\n",
    "        # Mutation: Apply random changes\n",
    "        offspring = np.array(offspring)\n",
    "        mutations = np.random.uniform(-mutation_rate, mutation_rate, size=offspring.shape)\n",
    "        offspring += mutations\n",
    "        offspring = np.clip(offspring, bounds[0], bounds[1])  # Ensure within bounds\n",
    "        # Create the new population\n",
    "        population = np.concatenate((parents, offspring))\n",
    "        # Log progress\n",
    "        best_individual = population[np.argmax(fitness)]\n",
    "        best_fitness = max(fitness)\n",
    "        print(f\"Generation {generation + 1}: Best Learning Rate = {best_individual:.5f}, Accuracy = {best_fitness:.4f}\")\n",
    "    \n",
    "    # Return the best learning rate\n",
    "    best_individual = population[np.argmax(fitness)]\n",
    "    return best_individual\n",
    "\n",
    "# Run GA\n",
    "best_learning_rate = genetic_algorithm()\n",
    "print(f\"Optimal Learning Rate: {best_learning_rate:.5f}\")"
   ]
  },
  {
   "cell_type": "code",
   "execution_count": null,
   "metadata": {},
   "outputs": [],
   "source": []
  },
  {
   "cell_type": "code",
   "execution_count": 89,
   "metadata": {},
   "outputs": [
    {
     "data": {
      "text/plain": [
       "(107509, 42)"
      ]
     },
     "execution_count": 89,
     "metadata": {},
     "output_type": "execute_result"
    }
   ],
   "source": [
    "X_train.shape"
   ]
  },
  {
   "cell_type": "code",
   "execution_count": 90,
   "metadata": {},
   "outputs": [
    {
     "name": "stdout",
     "output_type": "stream",
     "text": [
      "parameter initialize...\n",
      "DBN architecture Summary\n"
     ]
    },
    {
     "data": {
      "text/html": [
       "<style>#sk-container-id-3 {color: black;background-color: white;}#sk-container-id-3 pre{padding: 0;}#sk-container-id-3 div.sk-toggleable {background-color: white;}#sk-container-id-3 label.sk-toggleable__label {cursor: pointer;display: block;width: 100%;margin-bottom: 0;padding: 0.3em;box-sizing: border-box;text-align: center;}#sk-container-id-3 label.sk-toggleable__label-arrow:before {content: \"▸\";float: left;margin-right: 0.25em;color: #696969;}#sk-container-id-3 label.sk-toggleable__label-arrow:hover:before {color: black;}#sk-container-id-3 div.sk-estimator:hover label.sk-toggleable__label-arrow:before {color: black;}#sk-container-id-3 div.sk-toggleable__content {max-height: 0;max-width: 0;overflow: hidden;text-align: left;background-color: #f0f8ff;}#sk-container-id-3 div.sk-toggleable__content pre {margin: 0.2em;color: black;border-radius: 0.25em;background-color: #f0f8ff;}#sk-container-id-3 input.sk-toggleable__control:checked~div.sk-toggleable__content {max-height: 200px;max-width: 100%;overflow: auto;}#sk-container-id-3 input.sk-toggleable__control:checked~label.sk-toggleable__label-arrow:before {content: \"▾\";}#sk-container-id-3 div.sk-estimator input.sk-toggleable__control:checked~label.sk-toggleable__label {background-color: #d4ebff;}#sk-container-id-3 div.sk-label input.sk-toggleable__control:checked~label.sk-toggleable__label {background-color: #d4ebff;}#sk-container-id-3 input.sk-hidden--visually {border: 0;clip: rect(1px 1px 1px 1px);clip: rect(1px, 1px, 1px, 1px);height: 1px;margin: -1px;overflow: hidden;padding: 0;position: absolute;width: 1px;}#sk-container-id-3 div.sk-estimator {font-family: monospace;background-color: #f0f8ff;border: 1px dotted black;border-radius: 0.25em;box-sizing: border-box;margin-bottom: 0.5em;}#sk-container-id-3 div.sk-estimator:hover {background-color: #d4ebff;}#sk-container-id-3 div.sk-parallel-item::after {content: \"\";width: 100%;border-bottom: 1px solid gray;flex-grow: 1;}#sk-container-id-3 div.sk-label:hover label.sk-toggleable__label {background-color: #d4ebff;}#sk-container-id-3 div.sk-serial::before {content: \"\";position: absolute;border-left: 1px solid gray;box-sizing: border-box;top: 0;bottom: 0;left: 50%;z-index: 0;}#sk-container-id-3 div.sk-serial {display: flex;flex-direction: column;align-items: center;background-color: white;padding-right: 0.2em;padding-left: 0.2em;position: relative;}#sk-container-id-3 div.sk-item {position: relative;z-index: 1;}#sk-container-id-3 div.sk-parallel {display: flex;align-items: stretch;justify-content: center;background-color: white;position: relative;}#sk-container-id-3 div.sk-item::before, #sk-container-id-3 div.sk-parallel-item::before {content: \"\";position: absolute;border-left: 1px solid gray;box-sizing: border-box;top: 0;bottom: 0;left: 50%;z-index: -1;}#sk-container-id-3 div.sk-parallel-item {display: flex;flex-direction: column;z-index: 1;position: relative;background-color: white;}#sk-container-id-3 div.sk-parallel-item:first-child::after {align-self: flex-end;width: 50%;}#sk-container-id-3 div.sk-parallel-item:last-child::after {align-self: flex-start;width: 50%;}#sk-container-id-3 div.sk-parallel-item:only-child::after {width: 0;}#sk-container-id-3 div.sk-dashed-wrapped {border: 1px dashed gray;margin: 0 0.4em 0.5em 0.4em;box-sizing: border-box;padding-bottom: 0.4em;background-color: white;}#sk-container-id-3 div.sk-label label {font-family: monospace;font-weight: bold;display: inline-block;line-height: 1.2em;}#sk-container-id-3 div.sk-label-container {text-align: center;}#sk-container-id-3 div.sk-container {/* jupyter's `normalize.less` sets `[hidden] { display: none; }` but bootstrap.min.css set `[hidden] { display: none !important; }` so we also need the `!important` here to be able to override the default hidden behavior on the sphinx rendered scikit-learn.org. See: https://github.com/scikit-learn/scikit-learn/issues/21755 */display: inline-block !important;position: relative;}#sk-container-id-3 div.sk-text-repr-fallback {display: none;}</style><div id=\"sk-container-id-3\" class=\"sk-top-container\"><div class=\"sk-text-repr-fallback\"><pre>Pipeline(steps=[(&#x27;layer_1&#x27;,\n",
       "                 BernoulliRBM(learning_rate=0.05753, n_components=42, n_iter=4,\n",
       "                              verbose=1)),\n",
       "                (&#x27;layer_2&#x27;,\n",
       "                 BernoulliRBM(learning_rate=0.05753, n_components=42, n_iter=4,\n",
       "                              verbose=1)),\n",
       "                (&#x27;layer_3&#x27;,\n",
       "                 BernoulliRBM(learning_rate=0.05753, n_components=21, n_iter=4,\n",
       "                              verbose=1)),\n",
       "                (&#x27;layer_4&#x27;,\n",
       "                 BernoulliRBM(learning_rate=0.05753, n_components=21, n_iter=4,\n",
       "                              verbose=1)),\n",
       "                (&#x27;layer_5&#x27;,\n",
       "                 BernoulliRBM(learning_rate=0.05753, n_components=10, n_iter=4,\n",
       "                              verbose=1)),\n",
       "                (&#x27;layer_6&#x27;, LogisticRegression(max_iter=1000))])</pre><b>In a Jupyter environment, please rerun this cell to show the HTML representation or trust the notebook. <br />On GitHub, the HTML representation is unable to render, please try loading this page with nbviewer.org.</b></div><div class=\"sk-container\" hidden><div class=\"sk-item sk-dashed-wrapped\"><div class=\"sk-label-container\"><div class=\"sk-label sk-toggleable\"><input class=\"sk-toggleable__control sk-hidden--visually\" id=\"sk-estimator-id-15\" type=\"checkbox\" ><label for=\"sk-estimator-id-15\" class=\"sk-toggleable__label sk-toggleable__label-arrow\">Pipeline</label><div class=\"sk-toggleable__content\"><pre>Pipeline(steps=[(&#x27;layer_1&#x27;,\n",
       "                 BernoulliRBM(learning_rate=0.05753, n_components=42, n_iter=4,\n",
       "                              verbose=1)),\n",
       "                (&#x27;layer_2&#x27;,\n",
       "                 BernoulliRBM(learning_rate=0.05753, n_components=42, n_iter=4,\n",
       "                              verbose=1)),\n",
       "                (&#x27;layer_3&#x27;,\n",
       "                 BernoulliRBM(learning_rate=0.05753, n_components=21, n_iter=4,\n",
       "                              verbose=1)),\n",
       "                (&#x27;layer_4&#x27;,\n",
       "                 BernoulliRBM(learning_rate=0.05753, n_components=21, n_iter=4,\n",
       "                              verbose=1)),\n",
       "                (&#x27;layer_5&#x27;,\n",
       "                 BernoulliRBM(learning_rate=0.05753, n_components=10, n_iter=4,\n",
       "                              verbose=1)),\n",
       "                (&#x27;layer_6&#x27;, LogisticRegression(max_iter=1000))])</pre></div></div></div><div class=\"sk-serial\"><div class=\"sk-item\"><div class=\"sk-estimator sk-toggleable\"><input class=\"sk-toggleable__control sk-hidden--visually\" id=\"sk-estimator-id-16\" type=\"checkbox\" ><label for=\"sk-estimator-id-16\" class=\"sk-toggleable__label sk-toggleable__label-arrow\">BernoulliRBM</label><div class=\"sk-toggleable__content\"><pre>BernoulliRBM(learning_rate=0.05753, n_components=42, n_iter=4, verbose=1)</pre></div></div></div><div class=\"sk-item\"><div class=\"sk-estimator sk-toggleable\"><input class=\"sk-toggleable__control sk-hidden--visually\" id=\"sk-estimator-id-17\" type=\"checkbox\" ><label for=\"sk-estimator-id-17\" class=\"sk-toggleable__label sk-toggleable__label-arrow\">BernoulliRBM</label><div class=\"sk-toggleable__content\"><pre>BernoulliRBM(learning_rate=0.05753, n_components=42, n_iter=4, verbose=1)</pre></div></div></div><div class=\"sk-item\"><div class=\"sk-estimator sk-toggleable\"><input class=\"sk-toggleable__control sk-hidden--visually\" id=\"sk-estimator-id-18\" type=\"checkbox\" ><label for=\"sk-estimator-id-18\" class=\"sk-toggleable__label sk-toggleable__label-arrow\">BernoulliRBM</label><div class=\"sk-toggleable__content\"><pre>BernoulliRBM(learning_rate=0.05753, n_components=21, n_iter=4, verbose=1)</pre></div></div></div><div class=\"sk-item\"><div class=\"sk-estimator sk-toggleable\"><input class=\"sk-toggleable__control sk-hidden--visually\" id=\"sk-estimator-id-19\" type=\"checkbox\" ><label for=\"sk-estimator-id-19\" class=\"sk-toggleable__label sk-toggleable__label-arrow\">BernoulliRBM</label><div class=\"sk-toggleable__content\"><pre>BernoulliRBM(learning_rate=0.05753, n_components=21, n_iter=4, verbose=1)</pre></div></div></div><div class=\"sk-item\"><div class=\"sk-estimator sk-toggleable\"><input class=\"sk-toggleable__control sk-hidden--visually\" id=\"sk-estimator-id-20\" type=\"checkbox\" ><label for=\"sk-estimator-id-20\" class=\"sk-toggleable__label sk-toggleable__label-arrow\">BernoulliRBM</label><div class=\"sk-toggleable__content\"><pre>BernoulliRBM(learning_rate=0.05753, n_components=10, n_iter=4, verbose=1)</pre></div></div></div><div class=\"sk-item\"><div class=\"sk-estimator sk-toggleable\"><input class=\"sk-toggleable__control sk-hidden--visually\" id=\"sk-estimator-id-21\" type=\"checkbox\" ><label for=\"sk-estimator-id-21\" class=\"sk-toggleable__label sk-toggleable__label-arrow\">LogisticRegression</label><div class=\"sk-toggleable__content\"><pre>LogisticRegression(max_iter=1000)</pre></div></div></div></div></div></div></div>"
      ],
      "text/plain": [
       "Pipeline(steps=[('layer_1',\n",
       "                 BernoulliRBM(learning_rate=0.05753, n_components=42, n_iter=4,\n",
       "                              verbose=1)),\n",
       "                ('layer_2',\n",
       "                 BernoulliRBM(learning_rate=0.05753, n_components=42, n_iter=4,\n",
       "                              verbose=1)),\n",
       "                ('layer_3',\n",
       "                 BernoulliRBM(learning_rate=0.05753, n_components=21, n_iter=4,\n",
       "                              verbose=1)),\n",
       "                ('layer_4',\n",
       "                 BernoulliRBM(learning_rate=0.05753, n_components=21, n_iter=4,\n",
       "                              verbose=1)),\n",
       "                ('layer_5',\n",
       "                 BernoulliRBM(learning_rate=0.05753, n_components=10, n_iter=4,\n",
       "                              verbose=1)),\n",
       "                ('layer_6', LogisticRegression(max_iter=1000))])"
      ]
     },
     "execution_count": 90,
     "metadata": {},
     "output_type": "execute_result"
    }
   ],
   "source": [
    "# initializaing DBN\n",
    "dbn_nsl_kdd = DBN_network()\n",
    "# configure the DBN... \n",
    "dbn_nsl_kdd.config_network([42, 42, 21, 21, 10], layers=5, learning_rate=0.05753)\n",
    "\n",
    "# showing the DBN architecture.. \n",
    "dbn_nsl_kdd.summary()"
   ]
  },
  {
   "cell_type": "code",
   "execution_count": 91,
   "metadata": {},
   "outputs": [
    {
     "name": "stdout",
     "output_type": "stream",
     "text": [
      "Training For 5 Layer\n",
      "\n",
      " *******************  EPOCH 1 **********************\n",
      "[BernoulliRBM] Iteration 1, pseudo-likelihood = -3234.08, time = 7.34s\n",
      "[BernoulliRBM] Iteration 2, pseudo-likelihood = -7238.52, time = 8.48s\n",
      "[BernoulliRBM] Iteration 3, pseudo-likelihood = -10127.82, time = 12.77s\n",
      "[BernoulliRBM] Iteration 4, pseudo-likelihood = -13611.90, time = 10.72s\n",
      "\n",
      " *******************  EPOCH 2 **********************\n",
      "[BernoulliRBM] Iteration 1, pseudo-likelihood = -1.13, time = 10.86s\n",
      "[BernoulliRBM] Iteration 2, pseudo-likelihood = -0.88, time = 13.17s\n",
      "[BernoulliRBM] Iteration 3, pseudo-likelihood = -0.46, time = 13.19s\n",
      "[BernoulliRBM] Iteration 4, pseudo-likelihood = -1.67, time = 12.78s\n",
      "\n",
      " *******************  EPOCH 3 **********************\n",
      "[BernoulliRBM] Iteration 1, pseudo-likelihood = -0.74, time = 9.15s\n",
      "[BernoulliRBM] Iteration 2, pseudo-likelihood = -0.68, time = 10.36s\n",
      "[BernoulliRBM] Iteration 3, pseudo-likelihood = -0.76, time = 10.15s\n",
      "[BernoulliRBM] Iteration 4, pseudo-likelihood = -0.73, time = 10.31s\n",
      "\n",
      " *******************  EPOCH 4 **********************\n",
      "[BernoulliRBM] Iteration 1, pseudo-likelihood = -0.61, time = 8.04s\n",
      "[BernoulliRBM] Iteration 2, pseudo-likelihood = -0.42, time = 8.34s\n",
      "[BernoulliRBM] Iteration 3, pseudo-likelihood = -0.70, time = 8.69s\n",
      "[BernoulliRBM] Iteration 4, pseudo-likelihood = -0.55, time = 8.86s\n",
      "\n",
      " *******************  EPOCH 5 **********************\n",
      "[BernoulliRBM] Iteration 1, pseudo-likelihood = -0.37, time = 7.08s\n",
      "[BernoulliRBM] Iteration 2, pseudo-likelihood = -0.26, time = 7.67s\n",
      "[BernoulliRBM] Iteration 3, pseudo-likelihood = -0.23, time = 4.21s\n",
      "[BernoulliRBM] Iteration 4, pseudo-likelihood = -0.13, time = 6.26s\n",
      "\n",
      "+-----------------------------------------+\n"
     ]
    },
    {
     "data": {
      "text/html": [
       "<style>#sk-container-id-4 {color: black;background-color: white;}#sk-container-id-4 pre{padding: 0;}#sk-container-id-4 div.sk-toggleable {background-color: white;}#sk-container-id-4 label.sk-toggleable__label {cursor: pointer;display: block;width: 100%;margin-bottom: 0;padding: 0.3em;box-sizing: border-box;text-align: center;}#sk-container-id-4 label.sk-toggleable__label-arrow:before {content: \"▸\";float: left;margin-right: 0.25em;color: #696969;}#sk-container-id-4 label.sk-toggleable__label-arrow:hover:before {color: black;}#sk-container-id-4 div.sk-estimator:hover label.sk-toggleable__label-arrow:before {color: black;}#sk-container-id-4 div.sk-toggleable__content {max-height: 0;max-width: 0;overflow: hidden;text-align: left;background-color: #f0f8ff;}#sk-container-id-4 div.sk-toggleable__content pre {margin: 0.2em;color: black;border-radius: 0.25em;background-color: #f0f8ff;}#sk-container-id-4 input.sk-toggleable__control:checked~div.sk-toggleable__content {max-height: 200px;max-width: 100%;overflow: auto;}#sk-container-id-4 input.sk-toggleable__control:checked~label.sk-toggleable__label-arrow:before {content: \"▾\";}#sk-container-id-4 div.sk-estimator input.sk-toggleable__control:checked~label.sk-toggleable__label {background-color: #d4ebff;}#sk-container-id-4 div.sk-label input.sk-toggleable__control:checked~label.sk-toggleable__label {background-color: #d4ebff;}#sk-container-id-4 input.sk-hidden--visually {border: 0;clip: rect(1px 1px 1px 1px);clip: rect(1px, 1px, 1px, 1px);height: 1px;margin: -1px;overflow: hidden;padding: 0;position: absolute;width: 1px;}#sk-container-id-4 div.sk-estimator {font-family: monospace;background-color: #f0f8ff;border: 1px dotted black;border-radius: 0.25em;box-sizing: border-box;margin-bottom: 0.5em;}#sk-container-id-4 div.sk-estimator:hover {background-color: #d4ebff;}#sk-container-id-4 div.sk-parallel-item::after {content: \"\";width: 100%;border-bottom: 1px solid gray;flex-grow: 1;}#sk-container-id-4 div.sk-label:hover label.sk-toggleable__label {background-color: #d4ebff;}#sk-container-id-4 div.sk-serial::before {content: \"\";position: absolute;border-left: 1px solid gray;box-sizing: border-box;top: 0;bottom: 0;left: 50%;z-index: 0;}#sk-container-id-4 div.sk-serial {display: flex;flex-direction: column;align-items: center;background-color: white;padding-right: 0.2em;padding-left: 0.2em;position: relative;}#sk-container-id-4 div.sk-item {position: relative;z-index: 1;}#sk-container-id-4 div.sk-parallel {display: flex;align-items: stretch;justify-content: center;background-color: white;position: relative;}#sk-container-id-4 div.sk-item::before, #sk-container-id-4 div.sk-parallel-item::before {content: \"\";position: absolute;border-left: 1px solid gray;box-sizing: border-box;top: 0;bottom: 0;left: 50%;z-index: -1;}#sk-container-id-4 div.sk-parallel-item {display: flex;flex-direction: column;z-index: 1;position: relative;background-color: white;}#sk-container-id-4 div.sk-parallel-item:first-child::after {align-self: flex-end;width: 50%;}#sk-container-id-4 div.sk-parallel-item:last-child::after {align-self: flex-start;width: 50%;}#sk-container-id-4 div.sk-parallel-item:only-child::after {width: 0;}#sk-container-id-4 div.sk-dashed-wrapped {border: 1px dashed gray;margin: 0 0.4em 0.5em 0.4em;box-sizing: border-box;padding-bottom: 0.4em;background-color: white;}#sk-container-id-4 div.sk-label label {font-family: monospace;font-weight: bold;display: inline-block;line-height: 1.2em;}#sk-container-id-4 div.sk-label-container {text-align: center;}#sk-container-id-4 div.sk-container {/* jupyter's `normalize.less` sets `[hidden] { display: none; }` but bootstrap.min.css set `[hidden] { display: none !important; }` so we also need the `!important` here to be able to override the default hidden behavior on the sphinx rendered scikit-learn.org. See: https://github.com/scikit-learn/scikit-learn/issues/21755 */display: inline-block !important;position: relative;}#sk-container-id-4 div.sk-text-repr-fallback {display: none;}</style><div id=\"sk-container-id-4\" class=\"sk-top-container\"><div class=\"sk-text-repr-fallback\"><pre>Pipeline(steps=[(&#x27;layer_1&#x27;,\n",
       "                 BernoulliRBM(learning_rate=0.05753, n_components=42, n_iter=4,\n",
       "                              verbose=1)),\n",
       "                (&#x27;layer_2&#x27;,\n",
       "                 BernoulliRBM(learning_rate=0.05753, n_components=42, n_iter=4,\n",
       "                              verbose=1)),\n",
       "                (&#x27;layer_3&#x27;,\n",
       "                 BernoulliRBM(learning_rate=0.05753, n_components=21, n_iter=4,\n",
       "                              verbose=1)),\n",
       "                (&#x27;layer_4&#x27;,\n",
       "                 BernoulliRBM(learning_rate=0.05753, n_components=21, n_iter=4,\n",
       "                              verbose=1)),\n",
       "                (&#x27;layer_5&#x27;,\n",
       "                 BernoulliRBM(learning_rate=0.05753, n_components=10, n_iter=4,\n",
       "                              verbose=1)),\n",
       "                (&#x27;layer_6&#x27;, LogisticRegression(max_iter=1000))])</pre><b>In a Jupyter environment, please rerun this cell to show the HTML representation or trust the notebook. <br />On GitHub, the HTML representation is unable to render, please try loading this page with nbviewer.org.</b></div><div class=\"sk-container\" hidden><div class=\"sk-item sk-dashed-wrapped\"><div class=\"sk-label-container\"><div class=\"sk-label sk-toggleable\"><input class=\"sk-toggleable__control sk-hidden--visually\" id=\"sk-estimator-id-22\" type=\"checkbox\" ><label for=\"sk-estimator-id-22\" class=\"sk-toggleable__label sk-toggleable__label-arrow\">Pipeline</label><div class=\"sk-toggleable__content\"><pre>Pipeline(steps=[(&#x27;layer_1&#x27;,\n",
       "                 BernoulliRBM(learning_rate=0.05753, n_components=42, n_iter=4,\n",
       "                              verbose=1)),\n",
       "                (&#x27;layer_2&#x27;,\n",
       "                 BernoulliRBM(learning_rate=0.05753, n_components=42, n_iter=4,\n",
       "                              verbose=1)),\n",
       "                (&#x27;layer_3&#x27;,\n",
       "                 BernoulliRBM(learning_rate=0.05753, n_components=21, n_iter=4,\n",
       "                              verbose=1)),\n",
       "                (&#x27;layer_4&#x27;,\n",
       "                 BernoulliRBM(learning_rate=0.05753, n_components=21, n_iter=4,\n",
       "                              verbose=1)),\n",
       "                (&#x27;layer_5&#x27;,\n",
       "                 BernoulliRBM(learning_rate=0.05753, n_components=10, n_iter=4,\n",
       "                              verbose=1)),\n",
       "                (&#x27;layer_6&#x27;, LogisticRegression(max_iter=1000))])</pre></div></div></div><div class=\"sk-serial\"><div class=\"sk-item\"><div class=\"sk-estimator sk-toggleable\"><input class=\"sk-toggleable__control sk-hidden--visually\" id=\"sk-estimator-id-23\" type=\"checkbox\" ><label for=\"sk-estimator-id-23\" class=\"sk-toggleable__label sk-toggleable__label-arrow\">BernoulliRBM</label><div class=\"sk-toggleable__content\"><pre>BernoulliRBM(learning_rate=0.05753, n_components=42, n_iter=4, verbose=1)</pre></div></div></div><div class=\"sk-item\"><div class=\"sk-estimator sk-toggleable\"><input class=\"sk-toggleable__control sk-hidden--visually\" id=\"sk-estimator-id-24\" type=\"checkbox\" ><label for=\"sk-estimator-id-24\" class=\"sk-toggleable__label sk-toggleable__label-arrow\">BernoulliRBM</label><div class=\"sk-toggleable__content\"><pre>BernoulliRBM(learning_rate=0.05753, n_components=42, n_iter=4, verbose=1)</pre></div></div></div><div class=\"sk-item\"><div class=\"sk-estimator sk-toggleable\"><input class=\"sk-toggleable__control sk-hidden--visually\" id=\"sk-estimator-id-25\" type=\"checkbox\" ><label for=\"sk-estimator-id-25\" class=\"sk-toggleable__label sk-toggleable__label-arrow\">BernoulliRBM</label><div class=\"sk-toggleable__content\"><pre>BernoulliRBM(learning_rate=0.05753, n_components=21, n_iter=4, verbose=1)</pre></div></div></div><div class=\"sk-item\"><div class=\"sk-estimator sk-toggleable\"><input class=\"sk-toggleable__control sk-hidden--visually\" id=\"sk-estimator-id-26\" type=\"checkbox\" ><label for=\"sk-estimator-id-26\" class=\"sk-toggleable__label sk-toggleable__label-arrow\">BernoulliRBM</label><div class=\"sk-toggleable__content\"><pre>BernoulliRBM(learning_rate=0.05753, n_components=21, n_iter=4, verbose=1)</pre></div></div></div><div class=\"sk-item\"><div class=\"sk-estimator sk-toggleable\"><input class=\"sk-toggleable__control sk-hidden--visually\" id=\"sk-estimator-id-27\" type=\"checkbox\" ><label for=\"sk-estimator-id-27\" class=\"sk-toggleable__label sk-toggleable__label-arrow\">BernoulliRBM</label><div class=\"sk-toggleable__content\"><pre>BernoulliRBM(learning_rate=0.05753, n_components=10, n_iter=4, verbose=1)</pre></div></div></div><div class=\"sk-item\"><div class=\"sk-estimator sk-toggleable\"><input class=\"sk-toggleable__control sk-hidden--visually\" id=\"sk-estimator-id-28\" type=\"checkbox\" ><label for=\"sk-estimator-id-28\" class=\"sk-toggleable__label sk-toggleable__label-arrow\">LogisticRegression</label><div class=\"sk-toggleable__content\"><pre>LogisticRegression(max_iter=1000)</pre></div></div></div></div></div></div></div>"
      ],
      "text/plain": [
       "Pipeline(steps=[('layer_1',\n",
       "                 BernoulliRBM(learning_rate=0.05753, n_components=42, n_iter=4,\n",
       "                              verbose=1)),\n",
       "                ('layer_2',\n",
       "                 BernoulliRBM(learning_rate=0.05753, n_components=42, n_iter=4,\n",
       "                              verbose=1)),\n",
       "                ('layer_3',\n",
       "                 BernoulliRBM(learning_rate=0.05753, n_components=21, n_iter=4,\n",
       "                              verbose=1)),\n",
       "                ('layer_4',\n",
       "                 BernoulliRBM(learning_rate=0.05753, n_components=21, n_iter=4,\n",
       "                              verbose=1)),\n",
       "                ('layer_5',\n",
       "                 BernoulliRBM(learning_rate=0.05753, n_components=10, n_iter=4,\n",
       "                              verbose=1)),\n",
       "                ('layer_6', LogisticRegression(max_iter=1000))])"
      ]
     },
     "execution_count": 91,
     "metadata": {},
     "output_type": "execute_result"
    }
   ],
   "source": [
    "# training the arhitecture\n",
    "dbn_nsl_kdd.fit_model(X_train, y_train)"
   ]
  },
  {
   "cell_type": "code",
   "execution_count": 92,
   "metadata": {},
   "outputs": [
    {
     "name": "stdout",
     "output_type": "stream",
     "text": [
      "Calculated Feature (26878, 42)\n",
      "Calculated Feature (26878, 42)\n",
      "Calculated Feature (26878, 21)\n",
      "Calculated Feature (26878, 21)\n",
      "Calculated Feature (26878, 10)\n",
      "\n",
      "EXE TIME\n",
      "Total Detection Time : 0.535951\n",
      "AVG Detection Time : 0.00001994 \n",
      "\n",
      "              precision    recall  f1-score   support\n",
      "\n",
      "           0       0.94      0.90      0.92     13440\n",
      "           1       0.90      0.94      0.92     13438\n",
      "\n",
      "    accuracy                           0.92     26878\n",
      "   macro avg       0.92      0.92      0.92     26878\n",
      "weighted avg       0.92      0.92      0.92     26878\n",
      "\n",
      "\n",
      "\n"
     ]
    },
    {
     "data": {
      "text/plain": [
       "<Axes: >"
      ]
     },
     "execution_count": 92,
     "metadata": {},
     "output_type": "execute_result"
    },
    {
     "data": {
      "image/png": "[encoded data removed]",
      "text/plain": [
       "<Figure size 640x480 with 2 Axes>"
      ]
     },
     "metadata": {},
     "output_type": "display_data"
    }
   ],
   "source": [
    "# make prediction\n",
    "strt_time = time.time()\n",
    "prediction = dbn_nsl_kdd.predict(X_test, y_test)\n",
    "stop_time = time.time()\n",
    "\n",
    "print('\\nEXE TIME')\n",
    "total_time  = stop_time - strt_time\n",
    "avg_time = total_time / X_test.shape[0]\n",
    "print(f'Total Detection Time : {total_time:.6f}')\n",
    "print(f'AVG Detection Time : {avg_time:.8f} \\n')\n",
    "\n",
    "# evaluation report \n",
    "class_report = classification_report(y_test, prediction['pre'])\n",
    "conf_report = confusion_matrix(y_test, prediction['pre'])\n",
    "print(class_report)\n",
    "print('\\n')\n",
    "sn.heatmap(conf_report, fmt='d', annot=True)"
   ]
  },
  {
   "cell_type": "code",
   "execution_count": 93,
   "metadata": {},
   "outputs": [
    {
     "name": "stdout",
     "output_type": "stream",
     "text": [
      "{'TPR (Recall)': 0.9389675011662261, 'FPR': 0.09724600456621005, 'FNR': 0.06103249883377391, 'Accuracy': 0.9200833395341915, 'Precision': 0.8985863095238096, 'Recall': 0.9389675011662261, 'Specificity': 0.90275399543379, 'AVG EXE TIME': '0.00001994'}\n"
     ]
    },
    {
     "data": {
      "text/plain": [
       "TPR (Recall)      0.938968\n",
       "FPR               0.097246\n",
       "FNR               0.061032\n",
       "Accuracy          0.920083\n",
       "Precision         0.898586\n",
       "Recall            0.938968\n",
       "Specificity       0.902754\n",
       "AVG EXE TIME    0.00001994\n",
       "dtype: object"
      ]
     },
     "execution_count": 93,
     "metadata": {},
     "output_type": "execute_result"
    }
   ],
   "source": [
    "tp, fp, fn, tn = conf_report.ravel()\n",
    "nsl_kdd_metrics = compute_metrics(tp, fp, fn, tn, avg_time)\n",
    "print(nsl_kdd_metrics)\n",
    "nsl_kdd_result = pd.Series(nsl_kdd_metrics)\n",
    "nsl_kdd_result"
   ]
  },
  {
   "cell_type": "code",
   "execution_count": 228,
   "metadata": {},
   "outputs": [
    {
     "data": {
      "text/html": [
       "<div>\n",
       "<style scoped>\n",
       "    .dataframe tbody tr th:only-of-type {\n",
       "        vertical-align: middle;\n",
       "    }\n",
       "\n",
       "    .dataframe tbody tr th {\n",
       "        vertical-align: top;\n",
       "    }\n",
       "\n",
       "    .dataframe thead th {\n",
       "        text-align: right;\n",
       "    }\n",
       "</style>\n",
       "<table border=\"1\" class=\"dataframe\">\n",
       "  <thead>\n",
       "    <tr style=\"text-align: right;\">\n",
       "      <th></th>\n",
       "      <th>TPR (Recall)</th>\n",
       "      <th>FPR</th>\n",
       "      <th>FNR</th>\n",
       "      <th>Accuracy</th>\n",
       "      <th>Precision</th>\n",
       "      <th>Recall</th>\n",
       "      <th>Specificity</th>\n",
       "      <th>AVG EXE TIME</th>\n",
       "      <th>Dataset</th>\n",
       "    </tr>\n",
       "  </thead>\n",
       "  <tbody>\n",
       "    <tr>\n",
       "      <th>0</th>\n",
       "      <td>1.000000</td>\n",
       "      <td>0.232363</td>\n",
       "      <td>0.000000</td>\n",
       "      <td>0.848651</td>\n",
       "      <td>0.697301</td>\n",
       "      <td>1.000000</td>\n",
       "      <td>0.767637</td>\n",
       "      <td>0.00002803</td>\n",
       "      <td>CIC-DDoS2019 Dataset</td>\n",
       "    </tr>\n",
       "    <tr>\n",
       "      <th>1</th>\n",
       "      <td>0.976826</td>\n",
       "      <td>0.000000</td>\n",
       "      <td>0.023174</td>\n",
       "      <td>0.988138</td>\n",
       "      <td>1.000000</td>\n",
       "      <td>0.976826</td>\n",
       "      <td>1.000000</td>\n",
       "      <td>0.00000937</td>\n",
       "      <td>BOT-IOT dataset</td>\n",
       "    </tr>\n",
       "    <tr>\n",
       "      <th>2</th>\n",
       "      <td>0.938968</td>\n",
       "      <td>0.097246</td>\n",
       "      <td>0.061032</td>\n",
       "      <td>0.920083</td>\n",
       "      <td>0.898586</td>\n",
       "      <td>0.938968</td>\n",
       "      <td>0.902754</td>\n",
       "      <td>0.00001994</td>\n",
       "      <td>NSL-KDD dataset</td>\n",
       "    </tr>\n",
       "  </tbody>\n",
       "</table>\n",
       "</div>"
      ],
      "text/plain": [
       "   TPR (Recall)       FPR       FNR  Accuracy  Precision    Recall  \\\n",
       "0      1.000000  0.232363  0.000000  0.848651   0.697301  1.000000   \n",
       "1      0.976826  0.000000  0.023174  0.988138   1.000000  0.976826   \n",
       "2      0.938968  0.097246  0.061032  0.920083   0.898586  0.938968   \n",
       "\n",
       "   Specificity AVG EXE TIME               Dataset  \n",
       "0     0.767637   0.00002803  CIC-DDoS2019 Dataset  \n",
       "1     1.000000   0.00000937       BOT-IOT dataset  \n",
       "2     0.902754   0.00001994       NSL-KDD dataset  "
      ]
     },
     "execution_count": 228,
     "metadata": {},
     "output_type": "execute_result"
    }
   ],
   "source": [
    "experimental_result = pd.DataFrame([CIC_DDos_result, bot_iot_result, nsl_kdd_result])\n",
    "experimental_result['Dataset'] = ['CIC-DDoS2019 Dataset', 'BOT-IOT dataset', 'NSL-KDD dataset' ]\n",
    "experimental_result"
   ]
  },
  {
   "cell_type": "code",
   "execution_count": 236,
   "metadata": {},
   "outputs": [
    {
     "data": {
      "image/png": "[encoded data removed]",
      "text/plain": [
       "<Figure size 640x480 with 1 Axes>"
      ]
     },
     "metadata": {},
     "output_type": "display_data"
    }
   ],
   "source": [
    "experimental_result[['Accuracy', 'Precision', 'Recall']].plot(kind='bar')\n",
    "plt.xticks(ticks=[0,1,2], labels=experimental_result.Dataset)\n",
    "plt.xlabel('Dataset Type')\n",
    "plt.ylabel('Percentage (%) Score')\n",
    "plt.title('Performance Comperasion Score')\n",
    "plt.show()"
   ]
  },
  {
   "cell_type": "code",
   "execution_count": null,
   "metadata": {},
   "outputs": [],
   "source": []
  }
 ],
 "metadata": {
  "kaggle": {
   "accelerator": "none",
   "dataSources": [
    {
     "datasetId": 2993489,
     "sourceId": 5152020,
     "sourceType": "datasetVersion"
    }
   ],
   "dockerImageVersionId": 30918,
   "isGpuEnabled": false,
   "isInternetEnabled": true,
   "language": "python",
   "sourceType": "notebook"
  },
  "kernelspec": {
   "display_name": "Python 3",
   "language": "python",
   "name": "python3"
  },
  "language_info": {
   "codemirror_mode": {
    "name": "ipython",
    "version": 3
   },
   "file_extension": ".py",
   "mimetype": "text/x-python",
   "name": "python",
   "nbconvert_exporter": "python",
   "pygments_lexer": "ipython3",
   "version": "3.9.5"
  }
 },
 "nbformat": 4,
 "nbformat_minor": 4
}
