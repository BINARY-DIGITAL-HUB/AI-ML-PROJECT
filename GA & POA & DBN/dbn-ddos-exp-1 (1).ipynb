{
 "cells": [
  {
   "cell_type": "code",
   "execution_count": 1,
   "metadata": {
    "_cell_guid": "b1076dfc-b9ad-4769-8c92-a6c4dae69d19",
    "_uuid": "8f2839f25d086af736a60e9eeb907d3b93b6e0e5"
   },
   "outputs": [],
   "source": [
    "# This Python 3 environment comes with many helpful analytics libraries installed\n",
    "# It is defined by the kaggle/python Docker image: https://github.com/kaggle/docker-python\n",
    "# For example, here's several helpful packages to load\n",
    "\n",
    "import numpy as np # linear algebra\n",
    "import pandas as pd # data processing, CSV file I/O (e.g. pd.read_csv)\n",
    "\n",
    "# Input data files are available in the read-only \"../input/\" directory\n",
    "# For example, running this (by clicking run or pressing Shift+Enter) will list all files under the input directory\n",
    "\n",
    "import os\n",
    "for dirname, _, filenames in os.walk('/kaggle/input'):\n",
    "    for filename in filenames:\n",
    "        print(os.path.join(dirname, filename))\n",
    "\n",
    "# You can write up to 20GB to the current directory (/kaggle/working/) that gets preserved as output when you create a version using \"Save & Run All\" \n",
    "# You can also write temporary files to /kaggle/temp/, but they won't be saved outside of the current session"
   ]
  },
  {
   "cell_type": "markdown",
   "metadata": {},
   "source": [
    "#### DATA LOADING"
   ]
  },
  {
   "cell_type": "code",
   "execution_count": 9,
   "metadata": {},
   "outputs": [
    {
     "data": {
      "text/html": [
       "<div>\n",
       "<style scoped>\n",
       "    .dataframe tbody tr th:only-of-type {\n",
       "        vertical-align: middle;\n",
       "    }\n",
       "\n",
       "    .dataframe tbody tr th {\n",
       "        vertical-align: top;\n",
       "    }\n",
       "\n",
       "    .dataframe thead th {\n",
       "        text-align: right;\n",
       "    }\n",
       "</style>\n",
       "<table border=\"1\" class=\"dataframe\">\n",
       "  <thead>\n",
       "    <tr style=\"text-align: right;\">\n",
       "      <th></th>\n",
       "      <th>Flow ID</th>\n",
       "      <th>Source IP</th>\n",
       "      <th>Source Port</th>\n",
       "      <th>Destination IP</th>\n",
       "      <th>Destination Port</th>\n",
       "      <th>Protocol</th>\n",
       "      <th>Timestamp</th>\n",
       "      <th>Flow Duration</th>\n",
       "      <th>Total Fwd Packets</th>\n",
       "      <th>Total Backward Packets</th>\n",
       "      <th>...</th>\n",
       "      <th>min_seg_size_forward</th>\n",
       "      <th>Active Mean</th>\n",
       "      <th>Active Std</th>\n",
       "      <th>Active Max</th>\n",
       "      <th>Active Min</th>\n",
       "      <th>Idle Mean</th>\n",
       "      <th>Idle Std</th>\n",
       "      <th>Idle Max</th>\n",
       "      <th>Idle Min</th>\n",
       "      <th>Label</th>\n",
       "    </tr>\n",
       "  </thead>\n",
       "  <tbody>\n",
       "    <tr>\n",
       "      <th>0</th>\n",
       "      <td>192.168.10.5-104.16.207.165-54865-443-6</td>\n",
       "      <td>104.16.207.165</td>\n",
       "      <td>443</td>\n",
       "      <td>192.168.10.5</td>\n",
       "      <td>54865</td>\n",
       "      <td>6</td>\n",
       "      <td>7/7/2017 3:30</td>\n",
       "      <td>3</td>\n",
       "      <td>2</td>\n",
       "      <td>0</td>\n",
       "      <td>...</td>\n",
       "      <td>20</td>\n",
       "      <td>0.0</td>\n",
       "      <td>0.0</td>\n",
       "      <td>0</td>\n",
       "      <td>0</td>\n",
       "      <td>0.0</td>\n",
       "      <td>0.0</td>\n",
       "      <td>0</td>\n",
       "      <td>0</td>\n",
       "      <td>BENIGN</td>\n",
       "    </tr>\n",
       "    <tr>\n",
       "      <th>1</th>\n",
       "      <td>192.168.10.5-104.16.28.216-55054-80-6</td>\n",
       "      <td>104.16.28.216</td>\n",
       "      <td>80</td>\n",
       "      <td>192.168.10.5</td>\n",
       "      <td>55054</td>\n",
       "      <td>6</td>\n",
       "      <td>7/7/2017 3:30</td>\n",
       "      <td>109</td>\n",
       "      <td>1</td>\n",
       "      <td>1</td>\n",
       "      <td>...</td>\n",
       "      <td>20</td>\n",
       "      <td>0.0</td>\n",
       "      <td>0.0</td>\n",
       "      <td>0</td>\n",
       "      <td>0</td>\n",
       "      <td>0.0</td>\n",
       "      <td>0.0</td>\n",
       "      <td>0</td>\n",
       "      <td>0</td>\n",
       "      <td>BENIGN</td>\n",
       "    </tr>\n",
       "    <tr>\n",
       "      <th>2</th>\n",
       "      <td>192.168.10.5-104.16.28.216-55055-80-6</td>\n",
       "      <td>104.16.28.216</td>\n",
       "      <td>80</td>\n",
       "      <td>192.168.10.5</td>\n",
       "      <td>55055</td>\n",
       "      <td>6</td>\n",
       "      <td>7/7/2017 3:30</td>\n",
       "      <td>52</td>\n",
       "      <td>1</td>\n",
       "      <td>1</td>\n",
       "      <td>...</td>\n",
       "      <td>20</td>\n",
       "      <td>0.0</td>\n",
       "      <td>0.0</td>\n",
       "      <td>0</td>\n",
       "      <td>0</td>\n",
       "      <td>0.0</td>\n",
       "      <td>0.0</td>\n",
       "      <td>0</td>\n",
       "      <td>0</td>\n",
       "      <td>BENIGN</td>\n",
       "    </tr>\n",
       "  </tbody>\n",
       "</table>\n",
       "<p>3 rows × 85 columns</p>\n",
       "</div>"
      ],
      "text/plain": [
       "                                   Flow ID       Source IP   Source Port  \\\n",
       "0  192.168.10.5-104.16.207.165-54865-443-6  104.16.207.165           443   \n",
       "1    192.168.10.5-104.16.28.216-55054-80-6   104.16.28.216            80   \n",
       "2    192.168.10.5-104.16.28.216-55055-80-6   104.16.28.216            80   \n",
       "\n",
       "   Destination IP   Destination Port   Protocol      Timestamp  \\\n",
       "0    192.168.10.5              54865          6  7/7/2017 3:30   \n",
       "1    192.168.10.5              55054          6  7/7/2017 3:30   \n",
       "2    192.168.10.5              55055          6  7/7/2017 3:30   \n",
       "\n",
       "    Flow Duration   Total Fwd Packets   Total Backward Packets  ...  \\\n",
       "0               3                   2                        0  ...   \n",
       "1             109                   1                        1  ...   \n",
       "2              52                   1                        1  ...   \n",
       "\n",
       "    min_seg_size_forward  Active Mean   Active Std   Active Max   Active Min  \\\n",
       "0                     20          0.0          0.0            0            0   \n",
       "1                     20          0.0          0.0            0            0   \n",
       "2                     20          0.0          0.0            0            0   \n",
       "\n",
       "   Idle Mean   Idle Std   Idle Max   Idle Min   Label  \n",
       "0        0.0        0.0          0          0  BENIGN  \n",
       "1        0.0        0.0          0          0  BENIGN  \n",
       "2        0.0        0.0          0          0  BENIGN  \n",
       "\n",
       "[3 rows x 85 columns]"
      ]
     },
     "execution_count": 9,
     "metadata": {},
     "output_type": "execute_result"
    }
   ],
   "source": [
    "data_path = 'dataset 2/Friday-WorkingHours-Afternoon-DDos.pcap_ISCX.csv'\n",
    "data = pd.read_csv(data_path)\n",
    "data.head(3)"
   ]
  },
  {
   "cell_type": "code",
   "execution_count": 10,
   "metadata": {},
   "outputs": [
    {
     "data": {
      "text/plain": [
       "array(['192.168.10.5-104.16.207.165-54865-443-6',\n",
       "       '192.168.10.5-104.16.28.216-55054-80-6',\n",
       "       '192.168.10.5-104.16.28.216-55055-80-6', ...,\n",
       "       '192.168.10.3-192.168.10.8-445-10414-6',\n",
       "       '192.168.10.3-192.168.10.8-53-51617-17',\n",
       "       '192.168.10.8-72.21.81.253-10398-443-6'], dtype=object)"
      ]
     },
     "execution_count": 10,
     "metadata": {},
     "output_type": "execute_result"
    }
   ],
   "source": [
    "data[data.columns[0]].unique()"
   ]
  },
  {
   "cell_type": "code",
   "execution_count": 11,
   "metadata": {},
   "outputs": [
    {
     "data": {
      "text/html": [
       "<div>\n",
       "<style scoped>\n",
       "    .dataframe tbody tr th:only-of-type {\n",
       "        vertical-align: middle;\n",
       "    }\n",
       "\n",
       "    .dataframe tbody tr th {\n",
       "        vertical-align: top;\n",
       "    }\n",
       "\n",
       "    .dataframe thead th {\n",
       "        text-align: right;\n",
       "    }\n",
       "</style>\n",
       "<table border=\"1\" class=\"dataframe\">\n",
       "  <thead>\n",
       "    <tr style=\"text-align: right;\">\n",
       "      <th></th>\n",
       "      <th>Flow ID</th>\n",
       "      <th>Source IP</th>\n",
       "      <th>Source Port</th>\n",
       "      <th>Destination IP</th>\n",
       "      <th>Destination Port</th>\n",
       "      <th>Protocol</th>\n",
       "      <th>Timestamp</th>\n",
       "      <th>Flow Duration</th>\n",
       "      <th>Total Fwd Packets</th>\n",
       "      <th>Total Backward Packets</th>\n",
       "      <th>...</th>\n",
       "      <th>min_seg_size_forward</th>\n",
       "      <th>Active Mean</th>\n",
       "      <th>Active Std</th>\n",
       "      <th>Active Max</th>\n",
       "      <th>Active Min</th>\n",
       "      <th>Idle Mean</th>\n",
       "      <th>Idle Std</th>\n",
       "      <th>Idle Max</th>\n",
       "      <th>Idle Min</th>\n",
       "      <th>Label</th>\n",
       "    </tr>\n",
       "  </thead>\n",
       "  <tbody>\n",
       "    <tr>\n",
       "      <th>225742</th>\n",
       "      <td>192.168.10.15-72.21.91.29-61375-80-6</td>\n",
       "      <td>72.21.91.29</td>\n",
       "      <td>80</td>\n",
       "      <td>192.168.10.15</td>\n",
       "      <td>61375</td>\n",
       "      <td>6</td>\n",
       "      <td>7/7/2017 5:02</td>\n",
       "      <td>75</td>\n",
       "      <td>1</td>\n",
       "      <td>1</td>\n",
       "      <td>...</td>\n",
       "      <td>20</td>\n",
       "      <td>0.0</td>\n",
       "      <td>0.0</td>\n",
       "      <td>0</td>\n",
       "      <td>0</td>\n",
       "      <td>0.0</td>\n",
       "      <td>0.0</td>\n",
       "      <td>0</td>\n",
       "      <td>0</td>\n",
       "      <td>BENIGN</td>\n",
       "    </tr>\n",
       "    <tr>\n",
       "      <th>225743</th>\n",
       "      <td>192.168.10.15-8.41.222.187-61323-80-6</td>\n",
       "      <td>8.41.222.187</td>\n",
       "      <td>80</td>\n",
       "      <td>192.168.10.15</td>\n",
       "      <td>61323</td>\n",
       "      <td>6</td>\n",
       "      <td>7/7/2017 5:02</td>\n",
       "      <td>48</td>\n",
       "      <td>2</td>\n",
       "      <td>0</td>\n",
       "      <td>...</td>\n",
       "      <td>20</td>\n",
       "      <td>0.0</td>\n",
       "      <td>0.0</td>\n",
       "      <td>0</td>\n",
       "      <td>0</td>\n",
       "      <td>0.0</td>\n",
       "      <td>0.0</td>\n",
       "      <td>0</td>\n",
       "      <td>0</td>\n",
       "      <td>BENIGN</td>\n",
       "    </tr>\n",
       "    <tr>\n",
       "      <th>225744</th>\n",
       "      <td>192.168.10.15-8.43.72.21-61326-80-6</td>\n",
       "      <td>8.43.72.21</td>\n",
       "      <td>80</td>\n",
       "      <td>192.168.10.15</td>\n",
       "      <td>61326</td>\n",
       "      <td>6</td>\n",
       "      <td>7/7/2017 5:02</td>\n",
       "      <td>68</td>\n",
       "      <td>1</td>\n",
       "      <td>1</td>\n",
       "      <td>...</td>\n",
       "      <td>20</td>\n",
       "      <td>0.0</td>\n",
       "      <td>0.0</td>\n",
       "      <td>0</td>\n",
       "      <td>0</td>\n",
       "      <td>0.0</td>\n",
       "      <td>0.0</td>\n",
       "      <td>0</td>\n",
       "      <td>0</td>\n",
       "      <td>BENIGN</td>\n",
       "    </tr>\n",
       "  </tbody>\n",
       "</table>\n",
       "<p>3 rows × 85 columns</p>\n",
       "</div>"
      ],
      "text/plain": [
       "                                      Flow ID     Source IP   Source Port  \\\n",
       "225742   192.168.10.15-72.21.91.29-61375-80-6   72.21.91.29            80   \n",
       "225743  192.168.10.15-8.41.222.187-61323-80-6  8.41.222.187            80   \n",
       "225744    192.168.10.15-8.43.72.21-61326-80-6    8.43.72.21            80   \n",
       "\n",
       "        Destination IP   Destination Port   Protocol      Timestamp  \\\n",
       "225742   192.168.10.15              61375          6  7/7/2017 5:02   \n",
       "225743   192.168.10.15              61323          6  7/7/2017 5:02   \n",
       "225744   192.168.10.15              61326          6  7/7/2017 5:02   \n",
       "\n",
       "         Flow Duration   Total Fwd Packets   Total Backward Packets  ...  \\\n",
       "225742              75                   1                        1  ...   \n",
       "225743              48                   2                        0  ...   \n",
       "225744              68                   1                        1  ...   \n",
       "\n",
       "         min_seg_size_forward  Active Mean   Active Std   Active Max  \\\n",
       "225742                     20          0.0          0.0            0   \n",
       "225743                     20          0.0          0.0            0   \n",
       "225744                     20          0.0          0.0            0   \n",
       "\n",
       "         Active Min  Idle Mean   Idle Std   Idle Max   Idle Min   Label  \n",
       "225742            0        0.0        0.0          0          0  BENIGN  \n",
       "225743            0        0.0        0.0          0          0  BENIGN  \n",
       "225744            0        0.0        0.0          0          0  BENIGN  \n",
       "\n",
       "[3 rows x 85 columns]"
      ]
     },
     "execution_count": 11,
     "metadata": {},
     "output_type": "execute_result"
    }
   ],
   "source": [
    "data.tail(3)"
   ]
  },
  {
   "cell_type": "code",
   "execution_count": 12,
   "metadata": {},
   "outputs": [
    {
     "data": {
      "text/html": [
       "<div>\n",
       "<style scoped>\n",
       "    .dataframe tbody tr th:only-of-type {\n",
       "        vertical-align: middle;\n",
       "    }\n",
       "\n",
       "    .dataframe tbody tr th {\n",
       "        vertical-align: top;\n",
       "    }\n",
       "\n",
       "    .dataframe thead th {\n",
       "        text-align: right;\n",
       "    }\n",
       "</style>\n",
       "<table border=\"1\" class=\"dataframe\">\n",
       "  <thead>\n",
       "    <tr style=\"text-align: right;\">\n",
       "      <th></th>\n",
       "      <th>Flow ID</th>\n",
       "      <th>Source IP</th>\n",
       "      <th>Source Port</th>\n",
       "      <th>Destination IP</th>\n",
       "      <th>Destination Port</th>\n",
       "      <th>Protocol</th>\n",
       "      <th>Timestamp</th>\n",
       "      <th>Flow Duration</th>\n",
       "      <th>Total Fwd Packets</th>\n",
       "      <th>Total Backward Packets</th>\n",
       "      <th>...</th>\n",
       "      <th>min_seg_size_forward</th>\n",
       "      <th>Active Mean</th>\n",
       "      <th>Active Std</th>\n",
       "      <th>Active Max</th>\n",
       "      <th>Active Min</th>\n",
       "      <th>Idle Mean</th>\n",
       "      <th>Idle Std</th>\n",
       "      <th>Idle Max</th>\n",
       "      <th>Idle Min</th>\n",
       "      <th>Label</th>\n",
       "    </tr>\n",
       "  </thead>\n",
       "  <tbody>\n",
       "    <tr>\n",
       "      <th>79871</th>\n",
       "      <td>172.16.0.1-192.168.10.50-23967-80-6</td>\n",
       "      <td>172.16.0.1</td>\n",
       "      <td>23967</td>\n",
       "      <td>192.168.10.50</td>\n",
       "      <td>80</td>\n",
       "      <td>6</td>\n",
       "      <td>7/7/2017 4:03</td>\n",
       "      <td>770602</td>\n",
       "      <td>3</td>\n",
       "      <td>6</td>\n",
       "      <td>...</td>\n",
       "      <td>20</td>\n",
       "      <td>0.0</td>\n",
       "      <td>0.0</td>\n",
       "      <td>0</td>\n",
       "      <td>0</td>\n",
       "      <td>0.0</td>\n",
       "      <td>0.0</td>\n",
       "      <td>0</td>\n",
       "      <td>0</td>\n",
       "      <td>DDoS</td>\n",
       "    </tr>\n",
       "    <tr>\n",
       "      <th>214570</th>\n",
       "      <td>178.255.83.1-192.168.10.15-80-60828-6</td>\n",
       "      <td>192.168.10.15</td>\n",
       "      <td>60828</td>\n",
       "      <td>178.255.83.1</td>\n",
       "      <td>80</td>\n",
       "      <td>6</td>\n",
       "      <td>7/7/2017 4:43</td>\n",
       "      <td>138314</td>\n",
       "      <td>2</td>\n",
       "      <td>0</td>\n",
       "      <td>...</td>\n",
       "      <td>20</td>\n",
       "      <td>0.0</td>\n",
       "      <td>0.0</td>\n",
       "      <td>0</td>\n",
       "      <td>0</td>\n",
       "      <td>0.0</td>\n",
       "      <td>0.0</td>\n",
       "      <td>0</td>\n",
       "      <td>0</td>\n",
       "      <td>BENIGN</td>\n",
       "    </tr>\n",
       "    <tr>\n",
       "      <th>94770</th>\n",
       "      <td>172.16.0.1-192.168.10.50-61661-80-6</td>\n",
       "      <td>192.168.10.50</td>\n",
       "      <td>80</td>\n",
       "      <td>172.16.0.1</td>\n",
       "      <td>61661</td>\n",
       "      <td>6</td>\n",
       "      <td>7/7/2017 4:04</td>\n",
       "      <td>7858685</td>\n",
       "      <td>1</td>\n",
       "      <td>5</td>\n",
       "      <td>...</td>\n",
       "      <td>20</td>\n",
       "      <td>28902.0</td>\n",
       "      <td>0.0</td>\n",
       "      <td>28902</td>\n",
       "      <td>28902</td>\n",
       "      <td>7829783.0</td>\n",
       "      <td>0.0</td>\n",
       "      <td>7829783</td>\n",
       "      <td>7829783</td>\n",
       "      <td>BENIGN</td>\n",
       "    </tr>\n",
       "  </tbody>\n",
       "</table>\n",
       "<p>3 rows × 85 columns</p>\n",
       "</div>"
      ],
      "text/plain": [
       "                                      Flow ID      Source IP   Source Port  \\\n",
       "79871     172.16.0.1-192.168.10.50-23967-80-6     172.16.0.1         23967   \n",
       "214570  178.255.83.1-192.168.10.15-80-60828-6  192.168.10.15         60828   \n",
       "94770     172.16.0.1-192.168.10.50-61661-80-6  192.168.10.50            80   \n",
       "\n",
       "        Destination IP   Destination Port   Protocol      Timestamp  \\\n",
       "79871    192.168.10.50                 80          6  7/7/2017 4:03   \n",
       "214570    178.255.83.1                 80          6  7/7/2017 4:43   \n",
       "94770       172.16.0.1              61661          6  7/7/2017 4:04   \n",
       "\n",
       "         Flow Duration   Total Fwd Packets   Total Backward Packets  ...  \\\n",
       "79871           770602                   3                        6  ...   \n",
       "214570          138314                   2                        0  ...   \n",
       "94770          7858685                   1                        5  ...   \n",
       "\n",
       "         min_seg_size_forward  Active Mean   Active Std   Active Max  \\\n",
       "79871                      20          0.0          0.0            0   \n",
       "214570                     20          0.0          0.0            0   \n",
       "94770                      20      28902.0          0.0        28902   \n",
       "\n",
       "         Active Min  Idle Mean   Idle Std   Idle Max   Idle Min   Label  \n",
       "79871             0        0.0        0.0          0          0    DDoS  \n",
       "214570            0        0.0        0.0          0          0  BENIGN  \n",
       "94770         28902  7829783.0        0.0    7829783    7829783  BENIGN  \n",
       "\n",
       "[3 rows x 85 columns]"
      ]
     },
     "execution_count": 12,
     "metadata": {},
     "output_type": "execute_result"
    }
   ],
   "source": [
    "data.sample(3)"
   ]
  },
  {
   "cell_type": "markdown",
   "metadata": {},
   "source": [
    "#### DATA EXPLORATION"
   ]
  },
  {
   "cell_type": "code",
   "execution_count": 13,
   "metadata": {},
   "outputs": [
    {
     "name": "stdout",
     "output_type": "stream",
     "text": [
      "ROW (Samples) : 225745 \n",
      "COL (Features) : 85\n"
     ]
    }
   ],
   "source": [
    "row , col = data.shape\n",
    "print(f'ROW (Samples) : {row} \\nCOL (Features) : {col}')"
   ]
  },
  {
   "cell_type": "code",
   "execution_count": 14,
   "metadata": {},
   "outputs": [
    {
     "data": {
      "text/plain": [
       "Index(['Flow ID', ' Source IP', ' Source Port', ' Destination IP',\n",
       "       ' Destination Port', ' Protocol', ' Timestamp', ' Flow Duration',\n",
       "       ' Total Fwd Packets', ' Total Backward Packets',\n",
       "       'Total Length of Fwd Packets', ' Total Length of Bwd Packets',\n",
       "       ' Fwd Packet Length Max', ' Fwd Packet Length Min',\n",
       "       ' Fwd Packet Length Mean', ' Fwd Packet Length Std',\n",
       "       'Bwd Packet Length Max', ' Bwd Packet Length Min',\n",
       "       ' Bwd Packet Length Mean', ' Bwd Packet Length Std', 'Flow Bytes/s',\n",
       "       ' Flow Packets/s', ' Flow IAT Mean', ' Flow IAT Std', ' Flow IAT Max',\n",
       "       ' Flow IAT Min', 'Fwd IAT Total', ' Fwd IAT Mean', ' Fwd IAT Std',\n",
       "       ' Fwd IAT Max', ' Fwd IAT Min', 'Bwd IAT Total', ' Bwd IAT Mean',\n",
       "       ' Bwd IAT Std', ' Bwd IAT Max', ' Bwd IAT Min', 'Fwd PSH Flags',\n",
       "       ' Bwd PSH Flags', ' Fwd URG Flags', ' Bwd URG Flags',\n",
       "       ' Fwd Header Length', ' Bwd Header Length', 'Fwd Packets/s',\n",
       "       ' Bwd Packets/s', ' Min Packet Length', ' Max Packet Length',\n",
       "       ' Packet Length Mean', ' Packet Length Std', ' Packet Length Variance',\n",
       "       'FIN Flag Count', ' SYN Flag Count', ' RST Flag Count',\n",
       "       ' PSH Flag Count', ' ACK Flag Count', ' URG Flag Count',\n",
       "       ' CWE Flag Count', ' ECE Flag Count', ' Down/Up Ratio',\n",
       "       ' Average Packet Size', ' Avg Fwd Segment Size',\n",
       "       ' Avg Bwd Segment Size', ' Fwd Header Length.1', 'Fwd Avg Bytes/Bulk',\n",
       "       ' Fwd Avg Packets/Bulk', ' Fwd Avg Bulk Rate', ' Bwd Avg Bytes/Bulk',\n",
       "       ' Bwd Avg Packets/Bulk', 'Bwd Avg Bulk Rate', 'Subflow Fwd Packets',\n",
       "       ' Subflow Fwd Bytes', ' Subflow Bwd Packets', ' Subflow Bwd Bytes',\n",
       "       'Init_Win_bytes_forward', ' Init_Win_bytes_backward',\n",
       "       ' act_data_pkt_fwd', ' min_seg_size_forward', 'Active Mean',\n",
       "       ' Active Std', ' Active Max', ' Active Min', 'Idle Mean', ' Idle Std',\n",
       "       ' Idle Max', ' Idle Min', ' Label'],\n",
       "      dtype='object')"
      ]
     },
     "execution_count": 14,
     "metadata": {},
     "output_type": "execute_result"
    }
   ],
   "source": [
    "data.columns"
   ]
  },
  {
   "cell_type": "code",
   "execution_count": 15,
   "metadata": {},
   "outputs": [
    {
     "data": {
      "text/plain": [
       "DDoS      128027\n",
       "BENIGN     97718\n",
       "Name:  Label, dtype: int64"
      ]
     },
     "execution_count": 15,
     "metadata": {},
     "output_type": "execute_result"
    }
   ],
   "source": [
    "data[' Label'].value_counts()"
   ]
  },
  {
   "cell_type": "code",
   "execution_count": null,
   "metadata": {},
   "outputs": [],
   "source": []
  },
  {
   "cell_type": "code",
   "execution_count": 16,
   "metadata": {},
   "outputs": [
    {
     "data": {
      "image/png": "[encoded data removed]",
      "text/plain": [
       "<Figure size 400x400 with 1 Axes>"
      ]
     },
     "metadata": {},
     "output_type": "display_data"
    }
   ],
   "source": [
    "import seaborn as sn\n",
    "import matplotlib.pyplot as plt\n",
    "\n",
    "sn.set_theme(style=\"darkgrid\") \n",
    "plt.figure(figsize=(4,4))\n",
    "data[' Label'].value_counts().plot(kind='bar', color=['gold', 'brown'])\n",
    "plt.title('Class Distribution Count')\n",
    "plt.ylabel('Count')\n",
    "plt.xlabel('Class')\n",
    "plt.grid()"
   ]
  },
  {
   "cell_type": "code",
   "execution_count": 17,
   "metadata": {},
   "outputs": [
    {
     "data": {
      "text/plain": [
       "{'Flow ID': 'Flow ID',\n",
       " ' Source IP': 'Source IP',\n",
       " ' Source Port': 'Source Port',\n",
       " ' Destination IP': 'Destination IP',\n",
       " ' Destination Port': 'Destination Port',\n",
       " ' Protocol': 'Protocol',\n",
       " ' Timestamp': 'Timestamp',\n",
       " ' Flow Duration': 'Flow Duration',\n",
       " ' Total Fwd Packets': 'Total Fwd Packets',\n",
       " ' Total Backward Packets': 'Total Backward Packets',\n",
       " 'Total Length of Fwd Packets': 'Total Length of Fwd Packets',\n",
       " ' Total Length of Bwd Packets': 'Total Length of Bwd Packets',\n",
       " ' Fwd Packet Length Max': 'Fwd Packet Length Max',\n",
       " ' Fwd Packet Length Min': 'Fwd Packet Length Min',\n",
       " ' Fwd Packet Length Mean': 'Fwd Packet Length Mean',\n",
       " ' Fwd Packet Length Std': 'Fwd Packet Length Std',\n",
       " 'Bwd Packet Length Max': 'Bwd Packet Length Max',\n",
       " ' Bwd Packet Length Min': 'Bwd Packet Length Min',\n",
       " ' Bwd Packet Length Mean': 'Bwd Packet Length Mean',\n",
       " ' Bwd Packet Length Std': 'Bwd Packet Length Std',\n",
       " 'Flow Bytes/s': 'Flow Bytes/s',\n",
       " ' Flow Packets/s': 'Flow Packets/s',\n",
       " ' Flow IAT Mean': 'Flow IAT Mean',\n",
       " ' Flow IAT Std': 'Flow IAT Std',\n",
       " ' Flow IAT Max': 'Flow IAT Max',\n",
       " ' Flow IAT Min': 'Flow IAT Min',\n",
       " 'Fwd IAT Total': 'Fwd IAT Total',\n",
       " ' Fwd IAT Mean': 'Fwd IAT Mean',\n",
       " ' Fwd IAT Std': 'Fwd IAT Std',\n",
       " ' Fwd IAT Max': 'Fwd IAT Max',\n",
       " ' Fwd IAT Min': 'Fwd IAT Min',\n",
       " 'Bwd IAT Total': 'Bwd IAT Total',\n",
       " ' Bwd IAT Mean': 'Bwd IAT Mean',\n",
       " ' Bwd IAT Std': 'Bwd IAT Std',\n",
       " ' Bwd IAT Max': 'Bwd IAT Max',\n",
       " ' Bwd IAT Min': 'Bwd IAT Min',\n",
       " 'Fwd PSH Flags': 'Fwd PSH Flags',\n",
       " ' Bwd PSH Flags': 'Bwd PSH Flags',\n",
       " ' Fwd URG Flags': 'Fwd URG Flags',\n",
       " ' Bwd URG Flags': 'Bwd URG Flags',\n",
       " ' Fwd Header Length': 'Fwd Header Length',\n",
       " ' Bwd Header Length': 'Bwd Header Length',\n",
       " 'Fwd Packets/s': 'Fwd Packets/s',\n",
       " ' Bwd Packets/s': 'Bwd Packets/s',\n",
       " ' Min Packet Length': 'Min Packet Length',\n",
       " ' Max Packet Length': 'Max Packet Length',\n",
       " ' Packet Length Mean': 'Packet Length Mean',\n",
       " ' Packet Length Std': 'Packet Length Std',\n",
       " ' Packet Length Variance': 'Packet Length Variance',\n",
       " 'FIN Flag Count': 'FIN Flag Count',\n",
       " ' SYN Flag Count': 'SYN Flag Count',\n",
       " ' RST Flag Count': 'RST Flag Count',\n",
       " ' PSH Flag Count': 'PSH Flag Count',\n",
       " ' ACK Flag Count': 'ACK Flag Count',\n",
       " ' URG Flag Count': 'URG Flag Count',\n",
       " ' CWE Flag Count': 'CWE Flag Count',\n",
       " ' ECE Flag Count': 'ECE Flag Count',\n",
       " ' Down/Up Ratio': 'Down/Up Ratio',\n",
       " ' Average Packet Size': 'Average Packet Size',\n",
       " ' Avg Fwd Segment Size': 'Avg Fwd Segment Size',\n",
       " ' Avg Bwd Segment Size': 'Avg Bwd Segment Size',\n",
       " ' Fwd Header Length.1': 'Fwd Header Length.1',\n",
       " 'Fwd Avg Bytes/Bulk': 'Fwd Avg Bytes/Bulk',\n",
       " ' Fwd Avg Packets/Bulk': 'Fwd Avg Packets/Bulk',\n",
       " ' Fwd Avg Bulk Rate': 'Fwd Avg Bulk Rate',\n",
       " ' Bwd Avg Bytes/Bulk': 'Bwd Avg Bytes/Bulk',\n",
       " ' Bwd Avg Packets/Bulk': 'Bwd Avg Packets/Bulk',\n",
       " 'Bwd Avg Bulk Rate': 'Bwd Avg Bulk Rate',\n",
       " 'Subflow Fwd Packets': 'Subflow Fwd Packets',\n",
       " ' Subflow Fwd Bytes': 'Subflow Fwd Bytes',\n",
       " ' Subflow Bwd Packets': 'Subflow Bwd Packets',\n",
       " ' Subflow Bwd Bytes': 'Subflow Bwd Bytes',\n",
       " 'Init_Win_bytes_forward': 'Init_Win_bytes_forward',\n",
       " ' Init_Win_bytes_backward': 'Init_Win_bytes_backward',\n",
       " ' act_data_pkt_fwd': 'act_data_pkt_fwd',\n",
       " ' min_seg_size_forward': 'min_seg_size_forward',\n",
       " 'Active Mean': 'Active Mean',\n",
       " ' Active Std': 'Active Std',\n",
       " ' Active Max': 'Active Max',\n",
       " ' Active Min': 'Active Min',\n",
       " 'Idle Mean': 'Idle Mean',\n",
       " ' Idle Std': 'Idle Std',\n",
       " ' Idle Max': 'Idle Max',\n",
       " ' Idle Min': 'Idle Min',\n",
       " ' Label': 'Label'}"
      ]
     },
     "execution_count": 17,
     "metadata": {},
     "output_type": "execute_result"
    }
   ],
   "source": [
    "# stripping columns.... \n",
    "new_col = {}\n",
    "for col in data.columns: \n",
    "    new_col[col] = col.strip()\n",
    "\n",
    "new_col"
   ]
  },
  {
   "cell_type": "code",
   "execution_count": 18,
   "metadata": {},
   "outputs": [
    {
     "data": {
      "text/plain": [
       "Index(['Flow ID', 'Source IP', 'Source Port', 'Destination IP',\n",
       "       'Destination Port', 'Protocol', 'Timestamp', 'Flow Duration',\n",
       "       'Total Fwd Packets', 'Total Backward Packets',\n",
       "       'Total Length of Fwd Packets', 'Total Length of Bwd Packets',\n",
       "       'Fwd Packet Length Max', 'Fwd Packet Length Min',\n",
       "       'Fwd Packet Length Mean', 'Fwd Packet Length Std',\n",
       "       'Bwd Packet Length Max', 'Bwd Packet Length Min',\n",
       "       'Bwd Packet Length Mean', 'Bwd Packet Length Std', 'Flow Bytes/s',\n",
       "       'Flow Packets/s', 'Flow IAT Mean', 'Flow IAT Std', 'Flow IAT Max',\n",
       "       'Flow IAT Min', 'Fwd IAT Total', 'Fwd IAT Mean', 'Fwd IAT Std',\n",
       "       'Fwd IAT Max', 'Fwd IAT Min', 'Bwd IAT Total', 'Bwd IAT Mean',\n",
       "       'Bwd IAT Std', 'Bwd IAT Max', 'Bwd IAT Min', 'Fwd PSH Flags',\n",
       "       'Bwd PSH Flags', 'Fwd URG Flags', 'Bwd URG Flags', 'Fwd Header Length',\n",
       "       'Bwd Header Length', 'Fwd Packets/s', 'Bwd Packets/s',\n",
       "       'Min Packet Length', 'Max Packet Length', 'Packet Length Mean',\n",
       "       'Packet Length Std', 'Packet Length Variance', 'FIN Flag Count',\n",
       "       'SYN Flag Count', 'RST Flag Count', 'PSH Flag Count', 'ACK Flag Count',\n",
       "       'URG Flag Count', 'CWE Flag Count', 'ECE Flag Count', 'Down/Up Ratio',\n",
       "       'Average Packet Size', 'Avg Fwd Segment Size', 'Avg Bwd Segment Size',\n",
       "       'Fwd Header Length.1', 'Fwd Avg Bytes/Bulk', 'Fwd Avg Packets/Bulk',\n",
       "       'Fwd Avg Bulk Rate', 'Bwd Avg Bytes/Bulk', 'Bwd Avg Packets/Bulk',\n",
       "       'Bwd Avg Bulk Rate', 'Subflow Fwd Packets', 'Subflow Fwd Bytes',\n",
       "       'Subflow Bwd Packets', 'Subflow Bwd Bytes', 'Init_Win_bytes_forward',\n",
       "       'Init_Win_bytes_backward', 'act_data_pkt_fwd', 'min_seg_size_forward',\n",
       "       'Active Mean', 'Active Std', 'Active Max', 'Active Min', 'Idle Mean',\n",
       "       'Idle Std', 'Idle Max', 'Idle Min', 'Label'],\n",
       "      dtype='object')"
      ]
     },
     "execution_count": 18,
     "metadata": {},
     "output_type": "execute_result"
    }
   ],
   "source": [
    "# updating dataframe\n",
    "data.rename(columns=new_col, inplace=True)\n",
    "data.columns"
   ]
  },
  {
   "cell_type": "code",
   "execution_count": 19,
   "metadata": {},
   "outputs": [
    {
     "name": "stdout",
     "output_type": "stream",
     "text": [
      "<class 'pandas.core.frame.DataFrame'>\n",
      "RangeIndex: 225745 entries, 0 to 225744\n",
      "Data columns (total 85 columns):\n",
      " #   Column                       Non-Null Count   Dtype  \n",
      "---  ------                       --------------   -----  \n",
      " 0   Flow ID                      225745 non-null  object \n",
      " 1   Source IP                    225745 non-null  object \n",
      " 2   Source Port                  225745 non-null  int64  \n",
      " 3   Destination IP               225745 non-null  object \n",
      " 4   Destination Port             225745 non-null  int64  \n",
      " 5   Protocol                     225745 non-null  int64  \n",
      " 6   Timestamp                    225745 non-null  object \n",
      " 7   Flow Duration                225745 non-null  int64  \n",
      " 8   Total Fwd Packets            225745 non-null  int64  \n",
      " 9   Total Backward Packets       225745 non-null  int64  \n",
      " 10  Total Length of Fwd Packets  225745 non-null  int64  \n",
      " 11  Total Length of Bwd Packets  225745 non-null  int64  \n",
      " 12  Fwd Packet Length Max        225745 non-null  int64  \n",
      " 13  Fwd Packet Length Min        225745 non-null  int64  \n",
      " 14  Fwd Packet Length Mean       225745 non-null  float64\n",
      " 15  Fwd Packet Length Std        225745 non-null  float64\n",
      " 16  Bwd Packet Length Max        225745 non-null  int64  \n",
      " 17  Bwd Packet Length Min        225745 non-null  int64  \n",
      " 18  Bwd Packet Length Mean       225745 non-null  float64\n",
      " 19  Bwd Packet Length Std        225745 non-null  float64\n",
      " 20  Flow Bytes/s                 225741 non-null  float64\n",
      " 21  Flow Packets/s               225745 non-null  float64\n",
      " 22  Flow IAT Mean                225745 non-null  float64\n",
      " 23  Flow IAT Std                 225745 non-null  float64\n",
      " 24  Flow IAT Max                 225745 non-null  int64  \n",
      " 25  Flow IAT Min                 225745 non-null  int64  \n",
      " 26  Fwd IAT Total                225745 non-null  int64  \n",
      " 27  Fwd IAT Mean                 225745 non-null  float64\n",
      " 28  Fwd IAT Std                  225745 non-null  float64\n",
      " 29  Fwd IAT Max                  225745 non-null  int64  \n",
      " 30  Fwd IAT Min                  225745 non-null  int64  \n",
      " 31  Bwd IAT Total                225745 non-null  int64  \n",
      " 32  Bwd IAT Mean                 225745 non-null  float64\n",
      " 33  Bwd IAT Std                  225745 non-null  float64\n",
      " 34  Bwd IAT Max                  225745 non-null  int64  \n",
      " 35  Bwd IAT Min                  225745 non-null  int64  \n",
      " 36  Fwd PSH Flags                225745 non-null  int64  \n",
      " 37  Bwd PSH Flags                225745 non-null  int64  \n",
      " 38  Fwd URG Flags                225745 non-null  int64  \n",
      " 39  Bwd URG Flags                225745 non-null  int64  \n",
      " 40  Fwd Header Length            225745 non-null  int64  \n",
      " 41  Bwd Header Length            225745 non-null  int64  \n",
      " 42  Fwd Packets/s                225745 non-null  float64\n",
      " 43  Bwd Packets/s                225745 non-null  float64\n",
      " 44  Min Packet Length            225745 non-null  int64  \n",
      " 45  Max Packet Length            225745 non-null  int64  \n",
      " 46  Packet Length Mean           225745 non-null  float64\n",
      " 47  Packet Length Std            225745 non-null  float64\n",
      " 48  Packet Length Variance       225745 non-null  float64\n",
      " 49  FIN Flag Count               225745 non-null  int64  \n",
      " 50  SYN Flag Count               225745 non-null  int64  \n",
      " 51  RST Flag Count               225745 non-null  int64  \n",
      " 52  PSH Flag Count               225745 non-null  int64  \n",
      " 53  ACK Flag Count               225745 non-null  int64  \n",
      " 54  URG Flag Count               225745 non-null  int64  \n",
      " 55  CWE Flag Count               225745 non-null  int64  \n",
      " 56  ECE Flag Count               225745 non-null  int64  \n",
      " 57  Down/Up Ratio                225745 non-null  int64  \n",
      " 58  Average Packet Size          225745 non-null  float64\n",
      " 59  Avg Fwd Segment Size         225745 non-null  float64\n",
      " 60  Avg Bwd Segment Size         225745 non-null  float64\n",
      " 61  Fwd Header Length.1          225745 non-null  int64  \n",
      " 62  Fwd Avg Bytes/Bulk           225745 non-null  int64  \n",
      " 63  Fwd Avg Packets/Bulk         225745 non-null  int64  \n",
      " 64  Fwd Avg Bulk Rate            225745 non-null  int64  \n",
      " 65  Bwd Avg Bytes/Bulk           225745 non-null  int64  \n",
      " 66  Bwd Avg Packets/Bulk         225745 non-null  int64  \n",
      " 67  Bwd Avg Bulk Rate            225745 non-null  int64  \n",
      " 68  Subflow Fwd Packets          225745 non-null  int64  \n",
      " 69  Subflow Fwd Bytes            225745 non-null  int64  \n",
      " 70  Subflow Bwd Packets          225745 non-null  int64  \n",
      " 71  Subflow Bwd Bytes            225745 non-null  int64  \n",
      " 72  Init_Win_bytes_forward       225745 non-null  int64  \n",
      " 73  Init_Win_bytes_backward      225745 non-null  int64  \n",
      " 74  act_data_pkt_fwd             225745 non-null  int64  \n",
      " 75  min_seg_size_forward         225745 non-null  int64  \n",
      " 76  Active Mean                  225745 non-null  float64\n",
      " 77  Active Std                   225745 non-null  float64\n",
      " 78  Active Max                   225745 non-null  int64  \n",
      " 79  Active Min                   225745 non-null  int64  \n",
      " 80  Idle Mean                    225745 non-null  float64\n",
      " 81  Idle Std                     225745 non-null  float64\n",
      " 82  Idle Max                     225745 non-null  int64  \n",
      " 83  Idle Min                     225745 non-null  int64  \n",
      " 84  Label                        225745 non-null  object \n",
      "dtypes: float64(24), int64(56), object(5)\n",
      "memory usage: 146.4+ MB\n"
     ]
    }
   ],
   "source": [
    "# checking type and null val\n",
    "data.info()"
   ]
  },
  {
   "cell_type": "code",
   "execution_count": 20,
   "metadata": {},
   "outputs": [
    {
     "data": {
      "text/plain": [
       "Index(['Flow ID', 'Source IP'], dtype='object')"
      ]
     },
     "execution_count": 20,
     "metadata": {},
     "output_type": "execute_result"
    }
   ],
   "source": [
    "data.columns[:2]"
   ]
  },
  {
   "cell_type": "code",
   "execution_count": 21,
   "metadata": {},
   "outputs": [
    {
     "data": {
      "text/plain": [
       "array(['192.168.10.5-104.16.207.165-54865-443-6',\n",
       "       '192.168.10.5-104.16.28.216-55054-80-6',\n",
       "       '192.168.10.5-104.16.28.216-55055-80-6', ...,\n",
       "       '192.168.10.15-72.21.91.29-61375-80-6',\n",
       "       '192.168.10.15-8.41.222.187-61323-80-6',\n",
       "       '192.168.10.15-8.43.72.21-61326-80-6'], dtype=object)"
      ]
     },
     "execution_count": 21,
     "metadata": {},
     "output_type": "execute_result"
    }
   ],
   "source": [
    "data[data.columns[0]].values"
   ]
  },
  {
   "cell_type": "code",
   "execution_count": 22,
   "metadata": {},
   "outputs": [
    {
     "data": {
      "text/html": [
       "<div>\n",
       "<style scoped>\n",
       "    .dataframe tbody tr th:only-of-type {\n",
       "        vertical-align: middle;\n",
       "    }\n",
       "\n",
       "    .dataframe tbody tr th {\n",
       "        vertical-align: top;\n",
       "    }\n",
       "\n",
       "    .dataframe thead th {\n",
       "        text-align: right;\n",
       "    }\n",
       "</style>\n",
       "<table border=\"1\" class=\"dataframe\">\n",
       "  <thead>\n",
       "    <tr style=\"text-align: right;\">\n",
       "      <th></th>\n",
       "      <th>Flow ID</th>\n",
       "      <th>Source IP</th>\n",
       "    </tr>\n",
       "  </thead>\n",
       "  <tbody>\n",
       "    <tr>\n",
       "      <th>0</th>\n",
       "      <td>192.168.10.5-104.16.207.165-54865-443-6</td>\n",
       "      <td>104.16.207.165</td>\n",
       "    </tr>\n",
       "    <tr>\n",
       "      <th>1</th>\n",
       "      <td>192.168.10.5-104.16.28.216-55054-80-6</td>\n",
       "      <td>104.16.28.216</td>\n",
       "    </tr>\n",
       "    <tr>\n",
       "      <th>2</th>\n",
       "      <td>192.168.10.5-104.16.28.216-55055-80-6</td>\n",
       "      <td>104.16.28.216</td>\n",
       "    </tr>\n",
       "    <tr>\n",
       "      <th>3</th>\n",
       "      <td>192.168.10.16-104.17.241.25-46236-443-6</td>\n",
       "      <td>104.17.241.25</td>\n",
       "    </tr>\n",
       "    <tr>\n",
       "      <th>4</th>\n",
       "      <td>192.168.10.5-104.19.196.102-54863-443-6</td>\n",
       "      <td>104.19.196.102</td>\n",
       "    </tr>\n",
       "    <tr>\n",
       "      <th>...</th>\n",
       "      <td>...</td>\n",
       "      <td>...</td>\n",
       "    </tr>\n",
       "    <tr>\n",
       "      <th>225740</th>\n",
       "      <td>192.168.10.15-72.21.91.29-61374-80-6</td>\n",
       "      <td>72.21.91.29</td>\n",
       "    </tr>\n",
       "    <tr>\n",
       "      <th>225741</th>\n",
       "      <td>192.168.10.15-72.21.91.29-61378-80-6</td>\n",
       "      <td>72.21.91.29</td>\n",
       "    </tr>\n",
       "    <tr>\n",
       "      <th>225742</th>\n",
       "      <td>192.168.10.15-72.21.91.29-61375-80-6</td>\n",
       "      <td>72.21.91.29</td>\n",
       "    </tr>\n",
       "    <tr>\n",
       "      <th>225743</th>\n",
       "      <td>192.168.10.15-8.41.222.187-61323-80-6</td>\n",
       "      <td>8.41.222.187</td>\n",
       "    </tr>\n",
       "    <tr>\n",
       "      <th>225744</th>\n",
       "      <td>192.168.10.15-8.43.72.21-61326-80-6</td>\n",
       "      <td>8.43.72.21</td>\n",
       "    </tr>\n",
       "  </tbody>\n",
       "</table>\n",
       "<p>225745 rows × 2 columns</p>\n",
       "</div>"
      ],
      "text/plain": [
       "                                        Flow ID       Source IP\n",
       "0       192.168.10.5-104.16.207.165-54865-443-6  104.16.207.165\n",
       "1         192.168.10.5-104.16.28.216-55054-80-6   104.16.28.216\n",
       "2         192.168.10.5-104.16.28.216-55055-80-6   104.16.28.216\n",
       "3       192.168.10.16-104.17.241.25-46236-443-6   104.17.241.25\n",
       "4       192.168.10.5-104.19.196.102-54863-443-6  104.19.196.102\n",
       "...                                         ...             ...\n",
       "225740     192.168.10.15-72.21.91.29-61374-80-6     72.21.91.29\n",
       "225741     192.168.10.15-72.21.91.29-61378-80-6     72.21.91.29\n",
       "225742     192.168.10.15-72.21.91.29-61375-80-6     72.21.91.29\n",
       "225743    192.168.10.15-8.41.222.187-61323-80-6    8.41.222.187\n",
       "225744      192.168.10.15-8.43.72.21-61326-80-6      8.43.72.21\n",
       "\n",
       "[225745 rows x 2 columns]"
      ]
     },
     "execution_count": 22,
     "metadata": {},
     "output_type": "execute_result"
    }
   ],
   "source": [
    "data[data.columns[:2]]"
   ]
  },
  {
   "cell_type": "code",
   "execution_count": 23,
   "metadata": {},
   "outputs": [
    {
     "data": {
      "text/plain": [
       "array(['BENIGN', 'DDoS'], dtype=object)"
      ]
     },
     "execution_count": 23,
     "metadata": {},
     "output_type": "execute_result"
    }
   ],
   "source": [
    "data.Label.unique()"
   ]
  },
  {
   "cell_type": "code",
   "execution_count": 24,
   "metadata": {},
   "outputs": [
    {
     "name": "stdout",
     "output_type": "stream",
     "text": [
      "4\n",
      "4\n"
     ]
    }
   ],
   "source": [
    "print(data.isnull().sum().sum())\n",
    "print(data.isnull().sum().sum())"
   ]
  },
  {
   "cell_type": "code",
   "execution_count": 25,
   "metadata": {},
   "outputs": [
    {
     "data": {
      "text/html": [
       "<div>\n",
       "<style scoped>\n",
       "    .dataframe tbody tr th:only-of-type {\n",
       "        vertical-align: middle;\n",
       "    }\n",
       "\n",
       "    .dataframe tbody tr th {\n",
       "        vertical-align: top;\n",
       "    }\n",
       "\n",
       "    .dataframe thead th {\n",
       "        text-align: right;\n",
       "    }\n",
       "</style>\n",
       "<table border=\"1\" class=\"dataframe\">\n",
       "  <thead>\n",
       "    <tr style=\"text-align: right;\">\n",
       "      <th></th>\n",
       "      <th>Flow ID</th>\n",
       "      <th>Source IP</th>\n",
       "      <th>Source Port</th>\n",
       "      <th>Destination IP</th>\n",
       "      <th>Destination Port</th>\n",
       "      <th>Protocol</th>\n",
       "      <th>Timestamp</th>\n",
       "      <th>Flow Duration</th>\n",
       "      <th>Total Fwd Packets</th>\n",
       "      <th>Total Backward Packets</th>\n",
       "      <th>...</th>\n",
       "      <th>min_seg_size_forward</th>\n",
       "      <th>Active Mean</th>\n",
       "      <th>Active Std</th>\n",
       "      <th>Active Max</th>\n",
       "      <th>Active Min</th>\n",
       "      <th>Idle Mean</th>\n",
       "      <th>Idle Std</th>\n",
       "      <th>Idle Max</th>\n",
       "      <th>Idle Min</th>\n",
       "      <th>Label</th>\n",
       "    </tr>\n",
       "  </thead>\n",
       "  <tbody>\n",
       "    <tr>\n",
       "      <th>0</th>\n",
       "      <td>192.168.10.5-104.16.207.165-54865-443-6</td>\n",
       "      <td>104.16.207.165</td>\n",
       "      <td>443</td>\n",
       "      <td>192.168.10.5</td>\n",
       "      <td>54865</td>\n",
       "      <td>6</td>\n",
       "      <td>7/7/2017 3:30</td>\n",
       "      <td>3</td>\n",
       "      <td>2</td>\n",
       "      <td>0</td>\n",
       "      <td>...</td>\n",
       "      <td>20</td>\n",
       "      <td>0.0</td>\n",
       "      <td>0.0</td>\n",
       "      <td>0</td>\n",
       "      <td>0</td>\n",
       "      <td>0.0</td>\n",
       "      <td>0.0</td>\n",
       "      <td>0</td>\n",
       "      <td>0</td>\n",
       "      <td>BENIGN</td>\n",
       "    </tr>\n",
       "    <tr>\n",
       "      <th>1</th>\n",
       "      <td>192.168.10.5-104.16.28.216-55054-80-6</td>\n",
       "      <td>104.16.28.216</td>\n",
       "      <td>80</td>\n",
       "      <td>192.168.10.5</td>\n",
       "      <td>55054</td>\n",
       "      <td>6</td>\n",
       "      <td>7/7/2017 3:30</td>\n",
       "      <td>109</td>\n",
       "      <td>1</td>\n",
       "      <td>1</td>\n",
       "      <td>...</td>\n",
       "      <td>20</td>\n",
       "      <td>0.0</td>\n",
       "      <td>0.0</td>\n",
       "      <td>0</td>\n",
       "      <td>0</td>\n",
       "      <td>0.0</td>\n",
       "      <td>0.0</td>\n",
       "      <td>0</td>\n",
       "      <td>0</td>\n",
       "      <td>BENIGN</td>\n",
       "    </tr>\n",
       "    <tr>\n",
       "      <th>2</th>\n",
       "      <td>192.168.10.5-104.16.28.216-55055-80-6</td>\n",
       "      <td>104.16.28.216</td>\n",
       "      <td>80</td>\n",
       "      <td>192.168.10.5</td>\n",
       "      <td>55055</td>\n",
       "      <td>6</td>\n",
       "      <td>7/7/2017 3:30</td>\n",
       "      <td>52</td>\n",
       "      <td>1</td>\n",
       "      <td>1</td>\n",
       "      <td>...</td>\n",
       "      <td>20</td>\n",
       "      <td>0.0</td>\n",
       "      <td>0.0</td>\n",
       "      <td>0</td>\n",
       "      <td>0</td>\n",
       "      <td>0.0</td>\n",
       "      <td>0.0</td>\n",
       "      <td>0</td>\n",
       "      <td>0</td>\n",
       "      <td>BENIGN</td>\n",
       "    </tr>\n",
       "    <tr>\n",
       "      <th>3</th>\n",
       "      <td>192.168.10.16-104.17.241.25-46236-443-6</td>\n",
       "      <td>104.17.241.25</td>\n",
       "      <td>443</td>\n",
       "      <td>192.168.10.16</td>\n",
       "      <td>46236</td>\n",
       "      <td>6</td>\n",
       "      <td>7/7/2017 3:30</td>\n",
       "      <td>34</td>\n",
       "      <td>1</td>\n",
       "      <td>1</td>\n",
       "      <td>...</td>\n",
       "      <td>20</td>\n",
       "      <td>0.0</td>\n",
       "      <td>0.0</td>\n",
       "      <td>0</td>\n",
       "      <td>0</td>\n",
       "      <td>0.0</td>\n",
       "      <td>0.0</td>\n",
       "      <td>0</td>\n",
       "      <td>0</td>\n",
       "      <td>BENIGN</td>\n",
       "    </tr>\n",
       "    <tr>\n",
       "      <th>4</th>\n",
       "      <td>192.168.10.5-104.19.196.102-54863-443-6</td>\n",
       "      <td>104.19.196.102</td>\n",
       "      <td>443</td>\n",
       "      <td>192.168.10.5</td>\n",
       "      <td>54863</td>\n",
       "      <td>6</td>\n",
       "      <td>7/7/2017 3:30</td>\n",
       "      <td>3</td>\n",
       "      <td>2</td>\n",
       "      <td>0</td>\n",
       "      <td>...</td>\n",
       "      <td>20</td>\n",
       "      <td>0.0</td>\n",
       "      <td>0.0</td>\n",
       "      <td>0</td>\n",
       "      <td>0</td>\n",
       "      <td>0.0</td>\n",
       "      <td>0.0</td>\n",
       "      <td>0</td>\n",
       "      <td>0</td>\n",
       "      <td>BENIGN</td>\n",
       "    </tr>\n",
       "    <tr>\n",
       "      <th>...</th>\n",
       "      <td>...</td>\n",
       "      <td>...</td>\n",
       "      <td>...</td>\n",
       "      <td>...</td>\n",
       "      <td>...</td>\n",
       "      <td>...</td>\n",
       "      <td>...</td>\n",
       "      <td>...</td>\n",
       "      <td>...</td>\n",
       "      <td>...</td>\n",
       "      <td>...</td>\n",
       "      <td>...</td>\n",
       "      <td>...</td>\n",
       "      <td>...</td>\n",
       "      <td>...</td>\n",
       "      <td>...</td>\n",
       "      <td>...</td>\n",
       "      <td>...</td>\n",
       "      <td>...</td>\n",
       "      <td>...</td>\n",
       "      <td>...</td>\n",
       "    </tr>\n",
       "    <tr>\n",
       "      <th>225740</th>\n",
       "      <td>192.168.10.15-72.21.91.29-61374-80-6</td>\n",
       "      <td>72.21.91.29</td>\n",
       "      <td>80</td>\n",
       "      <td>192.168.10.15</td>\n",
       "      <td>61374</td>\n",
       "      <td>6</td>\n",
       "      <td>7/7/2017 5:02</td>\n",
       "      <td>61</td>\n",
       "      <td>1</td>\n",
       "      <td>1</td>\n",
       "      <td>...</td>\n",
       "      <td>20</td>\n",
       "      <td>0.0</td>\n",
       "      <td>0.0</td>\n",
       "      <td>0</td>\n",
       "      <td>0</td>\n",
       "      <td>0.0</td>\n",
       "      <td>0.0</td>\n",
       "      <td>0</td>\n",
       "      <td>0</td>\n",
       "      <td>BENIGN</td>\n",
       "    </tr>\n",
       "    <tr>\n",
       "      <th>225741</th>\n",
       "      <td>192.168.10.15-72.21.91.29-61378-80-6</td>\n",
       "      <td>72.21.91.29</td>\n",
       "      <td>80</td>\n",
       "      <td>192.168.10.15</td>\n",
       "      <td>61378</td>\n",
       "      <td>6</td>\n",
       "      <td>7/7/2017 5:02</td>\n",
       "      <td>72</td>\n",
       "      <td>1</td>\n",
       "      <td>1</td>\n",
       "      <td>...</td>\n",
       "      <td>20</td>\n",
       "      <td>0.0</td>\n",
       "      <td>0.0</td>\n",
       "      <td>0</td>\n",
       "      <td>0</td>\n",
       "      <td>0.0</td>\n",
       "      <td>0.0</td>\n",
       "      <td>0</td>\n",
       "      <td>0</td>\n",
       "      <td>BENIGN</td>\n",
       "    </tr>\n",
       "    <tr>\n",
       "      <th>225742</th>\n",
       "      <td>192.168.10.15-72.21.91.29-61375-80-6</td>\n",
       "      <td>72.21.91.29</td>\n",
       "      <td>80</td>\n",
       "      <td>192.168.10.15</td>\n",
       "      <td>61375</td>\n",
       "      <td>6</td>\n",
       "      <td>7/7/2017 5:02</td>\n",
       "      <td>75</td>\n",
       "      <td>1</td>\n",
       "      <td>1</td>\n",
       "      <td>...</td>\n",
       "      <td>20</td>\n",
       "      <td>0.0</td>\n",
       "      <td>0.0</td>\n",
       "      <td>0</td>\n",
       "      <td>0</td>\n",
       "      <td>0.0</td>\n",
       "      <td>0.0</td>\n",
       "      <td>0</td>\n",
       "      <td>0</td>\n",
       "      <td>BENIGN</td>\n",
       "    </tr>\n",
       "    <tr>\n",
       "      <th>225743</th>\n",
       "      <td>192.168.10.15-8.41.222.187-61323-80-6</td>\n",
       "      <td>8.41.222.187</td>\n",
       "      <td>80</td>\n",
       "      <td>192.168.10.15</td>\n",
       "      <td>61323</td>\n",
       "      <td>6</td>\n",
       "      <td>7/7/2017 5:02</td>\n",
       "      <td>48</td>\n",
       "      <td>2</td>\n",
       "      <td>0</td>\n",
       "      <td>...</td>\n",
       "      <td>20</td>\n",
       "      <td>0.0</td>\n",
       "      <td>0.0</td>\n",
       "      <td>0</td>\n",
       "      <td>0</td>\n",
       "      <td>0.0</td>\n",
       "      <td>0.0</td>\n",
       "      <td>0</td>\n",
       "      <td>0</td>\n",
       "      <td>BENIGN</td>\n",
       "    </tr>\n",
       "    <tr>\n",
       "      <th>225744</th>\n",
       "      <td>192.168.10.15-8.43.72.21-61326-80-6</td>\n",
       "      <td>8.43.72.21</td>\n",
       "      <td>80</td>\n",
       "      <td>192.168.10.15</td>\n",
       "      <td>61326</td>\n",
       "      <td>6</td>\n",
       "      <td>7/7/2017 5:02</td>\n",
       "      <td>68</td>\n",
       "      <td>1</td>\n",
       "      <td>1</td>\n",
       "      <td>...</td>\n",
       "      <td>20</td>\n",
       "      <td>0.0</td>\n",
       "      <td>0.0</td>\n",
       "      <td>0</td>\n",
       "      <td>0</td>\n",
       "      <td>0.0</td>\n",
       "      <td>0.0</td>\n",
       "      <td>0</td>\n",
       "      <td>0</td>\n",
       "      <td>BENIGN</td>\n",
       "    </tr>\n",
       "  </tbody>\n",
       "</table>\n",
       "<p>225741 rows × 85 columns</p>\n",
       "</div>"
      ],
      "text/plain": [
       "                                        Flow ID       Source IP  Source Port  \\\n",
       "0       192.168.10.5-104.16.207.165-54865-443-6  104.16.207.165          443   \n",
       "1         192.168.10.5-104.16.28.216-55054-80-6   104.16.28.216           80   \n",
       "2         192.168.10.5-104.16.28.216-55055-80-6   104.16.28.216           80   \n",
       "3       192.168.10.16-104.17.241.25-46236-443-6   104.17.241.25          443   \n",
       "4       192.168.10.5-104.19.196.102-54863-443-6  104.19.196.102          443   \n",
       "...                                         ...             ...          ...   \n",
       "225740     192.168.10.15-72.21.91.29-61374-80-6     72.21.91.29           80   \n",
       "225741     192.168.10.15-72.21.91.29-61378-80-6     72.21.91.29           80   \n",
       "225742     192.168.10.15-72.21.91.29-61375-80-6     72.21.91.29           80   \n",
       "225743    192.168.10.15-8.41.222.187-61323-80-6    8.41.222.187           80   \n",
       "225744      192.168.10.15-8.43.72.21-61326-80-6      8.43.72.21           80   \n",
       "\n",
       "       Destination IP  Destination Port  Protocol      Timestamp  \\\n",
       "0        192.168.10.5             54865         6  7/7/2017 3:30   \n",
       "1        192.168.10.5             55054         6  7/7/2017 3:30   \n",
       "2        192.168.10.5             55055         6  7/7/2017 3:30   \n",
       "3       192.168.10.16             46236         6  7/7/2017 3:30   \n",
       "4        192.168.10.5             54863         6  7/7/2017 3:30   \n",
       "...               ...               ...       ...            ...   \n",
       "225740  192.168.10.15             61374         6  7/7/2017 5:02   \n",
       "225741  192.168.10.15             61378         6  7/7/2017 5:02   \n",
       "225742  192.168.10.15             61375         6  7/7/2017 5:02   \n",
       "225743  192.168.10.15             61323         6  7/7/2017 5:02   \n",
       "225744  192.168.10.15             61326         6  7/7/2017 5:02   \n",
       "\n",
       "        Flow Duration  Total Fwd Packets  Total Backward Packets  ...  \\\n",
       "0                   3                  2                       0  ...   \n",
       "1                 109                  1                       1  ...   \n",
       "2                  52                  1                       1  ...   \n",
       "3                  34                  1                       1  ...   \n",
       "4                   3                  2                       0  ...   \n",
       "...               ...                ...                     ...  ...   \n",
       "225740             61                  1                       1  ...   \n",
       "225741             72                  1                       1  ...   \n",
       "225742             75                  1                       1  ...   \n",
       "225743             48                  2                       0  ...   \n",
       "225744             68                  1                       1  ...   \n",
       "\n",
       "        min_seg_size_forward  Active Mean  Active Std  Active Max  Active Min  \\\n",
       "0                         20          0.0         0.0           0           0   \n",
       "1                         20          0.0         0.0           0           0   \n",
       "2                         20          0.0         0.0           0           0   \n",
       "3                         20          0.0         0.0           0           0   \n",
       "4                         20          0.0         0.0           0           0   \n",
       "...                      ...          ...         ...         ...         ...   \n",
       "225740                    20          0.0         0.0           0           0   \n",
       "225741                    20          0.0         0.0           0           0   \n",
       "225742                    20          0.0         0.0           0           0   \n",
       "225743                    20          0.0         0.0           0           0   \n",
       "225744                    20          0.0         0.0           0           0   \n",
       "\n",
       "        Idle Mean  Idle Std  Idle Max  Idle Min   Label  \n",
       "0             0.0       0.0         0         0  BENIGN  \n",
       "1             0.0       0.0         0         0  BENIGN  \n",
       "2             0.0       0.0         0         0  BENIGN  \n",
       "3             0.0       0.0         0         0  BENIGN  \n",
       "4             0.0       0.0         0         0  BENIGN  \n",
       "...           ...       ...       ...       ...     ...  \n",
       "225740        0.0       0.0         0         0  BENIGN  \n",
       "225741        0.0       0.0         0         0  BENIGN  \n",
       "225742        0.0       0.0         0         0  BENIGN  \n",
       "225743        0.0       0.0         0         0  BENIGN  \n",
       "225744        0.0       0.0         0         0  BENIGN  \n",
       "\n",
       "[225741 rows x 85 columns]"
      ]
     },
     "execution_count": 25,
     "metadata": {},
     "output_type": "execute_result"
    }
   ],
   "source": [
    "data = data[data['Flow Bytes/s'].isnull() == False]\n",
    "data"
   ]
  },
  {
   "cell_type": "code",
   "execution_count": 26,
   "metadata": {},
   "outputs": [
    {
     "data": {
      "text/plain": [
       "(225741, 85)"
      ]
     },
     "execution_count": 26,
     "metadata": {},
     "output_type": "execute_result"
    }
   ],
   "source": [
    "# dropping nan columns\n",
    "# data = data[data['Flow Bytes/s'].isnull() == False]\n",
    "data.shape"
   ]
  },
  {
   "cell_type": "code",
   "execution_count": 27,
   "metadata": {},
   "outputs": [
    {
     "name": "stdout",
     "output_type": "stream",
     "text": [
      "<class 'pandas.core.frame.DataFrame'>\n",
      "Int64Index: 225741 entries, 0 to 225744\n",
      "Data columns (total 85 columns):\n",
      " #   Column                       Non-Null Count   Dtype  \n",
      "---  ------                       --------------   -----  \n",
      " 0   Flow ID                      225741 non-null  object \n",
      " 1   Source IP                    225741 non-null  object \n",
      " 2   Source Port                  225741 non-null  int64  \n",
      " 3   Destination IP               225741 non-null  object \n",
      " 4   Destination Port             225741 non-null  int64  \n",
      " 5   Protocol                     225741 non-null  int64  \n",
      " 6   Timestamp                    225741 non-null  object \n",
      " 7   Flow Duration                225741 non-null  int64  \n",
      " 8   Total Fwd Packets            225741 non-null  int64  \n",
      " 9   Total Backward Packets       225741 non-null  int64  \n",
      " 10  Total Length of Fwd Packets  225741 non-null  int64  \n",
      " 11  Total Length of Bwd Packets  225741 non-null  int64  \n",
      " 12  Fwd Packet Length Max        225741 non-null  int64  \n",
      " 13  Fwd Packet Length Min        225741 non-null  int64  \n",
      " 14  Fwd Packet Length Mean       225741 non-null  float64\n",
      " 15  Fwd Packet Length Std        225741 non-null  float64\n",
      " 16  Bwd Packet Length Max        225741 non-null  int64  \n",
      " 17  Bwd Packet Length Min        225741 non-null  int64  \n",
      " 18  Bwd Packet Length Mean       225741 non-null  float64\n",
      " 19  Bwd Packet Length Std        225741 non-null  float64\n",
      " 20  Flow Bytes/s                 225741 non-null  float64\n",
      " 21  Flow Packets/s               225741 non-null  float64\n",
      " 22  Flow IAT Mean                225741 non-null  float64\n",
      " 23  Flow IAT Std                 225741 non-null  float64\n",
      " 24  Flow IAT Max                 225741 non-null  int64  \n",
      " 25  Flow IAT Min                 225741 non-null  int64  \n",
      " 26  Fwd IAT Total                225741 non-null  int64  \n",
      " 27  Fwd IAT Mean                 225741 non-null  float64\n",
      " 28  Fwd IAT Std                  225741 non-null  float64\n",
      " 29  Fwd IAT Max                  225741 non-null  int64  \n",
      " 30  Fwd IAT Min                  225741 non-null  int64  \n",
      " 31  Bwd IAT Total                225741 non-null  int64  \n",
      " 32  Bwd IAT Mean                 225741 non-null  float64\n",
      " 33  Bwd IAT Std                  225741 non-null  float64\n",
      " 34  Bwd IAT Max                  225741 non-null  int64  \n",
      " 35  Bwd IAT Min                  225741 non-null  int64  \n",
      " 36  Fwd PSH Flags                225741 non-null  int64  \n",
      " 37  Bwd PSH Flags                225741 non-null  int64  \n",
      " 38  Fwd URG Flags                225741 non-null  int64  \n",
      " 39  Bwd URG Flags                225741 non-null  int64  \n",
      " 40  Fwd Header Length            225741 non-null  int64  \n",
      " 41  Bwd Header Length            225741 non-null  int64  \n",
      " 42  Fwd Packets/s                225741 non-null  float64\n",
      " 43  Bwd Packets/s                225741 non-null  float64\n",
      " 44  Min Packet Length            225741 non-null  int64  \n",
      " 45  Max Packet Length            225741 non-null  int64  \n",
      " 46  Packet Length Mean           225741 non-null  float64\n",
      " 47  Packet Length Std            225741 non-null  float64\n",
      " 48  Packet Length Variance       225741 non-null  float64\n",
      " 49  FIN Flag Count               225741 non-null  int64  \n",
      " 50  SYN Flag Count               225741 non-null  int64  \n",
      " 51  RST Flag Count               225741 non-null  int64  \n",
      " 52  PSH Flag Count               225741 non-null  int64  \n",
      " 53  ACK Flag Count               225741 non-null  int64  \n",
      " 54  URG Flag Count               225741 non-null  int64  \n",
      " 55  CWE Flag Count               225741 non-null  int64  \n",
      " 56  ECE Flag Count               225741 non-null  int64  \n",
      " 57  Down/Up Ratio                225741 non-null  int64  \n",
      " 58  Average Packet Size          225741 non-null  float64\n",
      " 59  Avg Fwd Segment Size         225741 non-null  float64\n",
      " 60  Avg Bwd Segment Size         225741 non-null  float64\n",
      " 61  Fwd Header Length.1          225741 non-null  int64  \n",
      " 62  Fwd Avg Bytes/Bulk           225741 non-null  int64  \n",
      " 63  Fwd Avg Packets/Bulk         225741 non-null  int64  \n",
      " 64  Fwd Avg Bulk Rate            225741 non-null  int64  \n",
      " 65  Bwd Avg Bytes/Bulk           225741 non-null  int64  \n",
      " 66  Bwd Avg Packets/Bulk         225741 non-null  int64  \n",
      " 67  Bwd Avg Bulk Rate            225741 non-null  int64  \n",
      " 68  Subflow Fwd Packets          225741 non-null  int64  \n",
      " 69  Subflow Fwd Bytes            225741 non-null  int64  \n",
      " 70  Subflow Bwd Packets          225741 non-null  int64  \n",
      " 71  Subflow Bwd Bytes            225741 non-null  int64  \n",
      " 72  Init_Win_bytes_forward       225741 non-null  int64  \n",
      " 73  Init_Win_bytes_backward      225741 non-null  int64  \n",
      " 74  act_data_pkt_fwd             225741 non-null  int64  \n",
      " 75  min_seg_size_forward         225741 non-null  int64  \n",
      " 76  Active Mean                  225741 non-null  float64\n",
      " 77  Active Std                   225741 non-null  float64\n",
      " 78  Active Max                   225741 non-null  int64  \n",
      " 79  Active Min                   225741 non-null  int64  \n",
      " 80  Idle Mean                    225741 non-null  float64\n",
      " 81  Idle Std                     225741 non-null  float64\n",
      " 82  Idle Max                     225741 non-null  int64  \n",
      " 83  Idle Min                     225741 non-null  int64  \n",
      " 84  Label                        225741 non-null  object \n",
      "dtypes: float64(24), int64(56), object(5)\n",
      "memory usage: 148.1+ MB\n"
     ]
    }
   ],
   "source": [
    "data.info()"
   ]
  },
  {
   "cell_type": "code",
   "execution_count": null,
   "metadata": {},
   "outputs": [],
   "source": []
  },
  {
   "cell_type": "code",
   "execution_count": 28,
   "metadata": {},
   "outputs": [
    {
     "name": "stdout",
     "output_type": "stream",
     "text": [
      "<class 'pandas.core.frame.DataFrame'>\n",
      "Int64Index: 225741 entries, 0 to 225744\n",
      "Data columns (total 85 columns):\n",
      " #   Column                       Non-Null Count   Dtype  \n",
      "---  ------                       --------------   -----  \n",
      " 0   Flow ID                      225741 non-null  int32  \n",
      " 1   Source IP                    225741 non-null  int16  \n",
      " 2   Source Port                  225741 non-null  int64  \n",
      " 3   Destination IP               225741 non-null  int16  \n",
      " 4   Destination Port             225741 non-null  int64  \n",
      " 5   Protocol                     225741 non-null  int64  \n",
      " 6   Timestamp                    225741 non-null  int8   \n",
      " 7   Flow Duration                225741 non-null  int64  \n",
      " 8   Total Fwd Packets            225741 non-null  int64  \n",
      " 9   Total Backward Packets       225741 non-null  int64  \n",
      " 10  Total Length of Fwd Packets  225741 non-null  int64  \n",
      " 11  Total Length of Bwd Packets  225741 non-null  int64  \n",
      " 12  Fwd Packet Length Max        225741 non-null  int64  \n",
      " 13  Fwd Packet Length Min        225741 non-null  int64  \n",
      " 14  Fwd Packet Length Mean       225741 non-null  float64\n",
      " 15  Fwd Packet Length Std        225741 non-null  float64\n",
      " 16  Bwd Packet Length Max        225741 non-null  int64  \n",
      " 17  Bwd Packet Length Min        225741 non-null  int64  \n",
      " 18  Bwd Packet Length Mean       225741 non-null  float64\n",
      " 19  Bwd Packet Length Std        225741 non-null  float64\n",
      " 20  Flow Bytes/s                 225741 non-null  float64\n",
      " 21  Flow Packets/s               225741 non-null  float64\n",
      " 22  Flow IAT Mean                225741 non-null  float64\n",
      " 23  Flow IAT Std                 225741 non-null  float64\n",
      " 24  Flow IAT Max                 225741 non-null  int64  \n",
      " 25  Flow IAT Min                 225741 non-null  int64  \n",
      " 26  Fwd IAT Total                225741 non-null  int64  \n",
      " 27  Fwd IAT Mean                 225741 non-null  float64\n",
      " 28  Fwd IAT Std                  225741 non-null  float64\n",
      " 29  Fwd IAT Max                  225741 non-null  int64  \n",
      " 30  Fwd IAT Min                  225741 non-null  int64  \n",
      " 31  Bwd IAT Total                225741 non-null  int64  \n",
      " 32  Bwd IAT Mean                 225741 non-null  float64\n",
      " 33  Bwd IAT Std                  225741 non-null  float64\n",
      " 34  Bwd IAT Max                  225741 non-null  int64  \n",
      " 35  Bwd IAT Min                  225741 non-null  int64  \n",
      " 36  Fwd PSH Flags                225741 non-null  int64  \n",
      " 37  Bwd PSH Flags                225741 non-null  int64  \n",
      " 38  Fwd URG Flags                225741 non-null  int64  \n",
      " 39  Bwd URG Flags                225741 non-null  int64  \n",
      " 40  Fwd Header Length            225741 non-null  int64  \n",
      " 41  Bwd Header Length            225741 non-null  int64  \n",
      " 42  Fwd Packets/s                225741 non-null  float64\n",
      " 43  Bwd Packets/s                225741 non-null  float64\n",
      " 44  Min Packet Length            225741 non-null  int64  \n",
      " 45  Max Packet Length            225741 non-null  int64  \n",
      " 46  Packet Length Mean           225741 non-null  float64\n",
      " 47  Packet Length Std            225741 non-null  float64\n",
      " 48  Packet Length Variance       225741 non-null  float64\n",
      " 49  FIN Flag Count               225741 non-null  int64  \n",
      " 50  SYN Flag Count               225741 non-null  int64  \n",
      " 51  RST Flag Count               225741 non-null  int64  \n",
      " 52  PSH Flag Count               225741 non-null  int64  \n",
      " 53  ACK Flag Count               225741 non-null  int64  \n",
      " 54  URG Flag Count               225741 non-null  int64  \n",
      " 55  CWE Flag Count               225741 non-null  int64  \n",
      " 56  ECE Flag Count               225741 non-null  int64  \n",
      " 57  Down/Up Ratio                225741 non-null  int64  \n",
      " 58  Average Packet Size          225741 non-null  float64\n",
      " 59  Avg Fwd Segment Size         225741 non-null  float64\n",
      " 60  Avg Bwd Segment Size         225741 non-null  float64\n",
      " 61  Fwd Header Length.1          225741 non-null  int64  \n",
      " 62  Fwd Avg Bytes/Bulk           225741 non-null  int64  \n",
      " 63  Fwd Avg Packets/Bulk         225741 non-null  int64  \n",
      " 64  Fwd Avg Bulk Rate            225741 non-null  int64  \n",
      " 65  Bwd Avg Bytes/Bulk           225741 non-null  int64  \n",
      " 66  Bwd Avg Packets/Bulk         225741 non-null  int64  \n",
      " 67  Bwd Avg Bulk Rate            225741 non-null  int64  \n",
      " 68  Subflow Fwd Packets          225741 non-null  int64  \n",
      " 69  Subflow Fwd Bytes            225741 non-null  int64  \n",
      " 70  Subflow Bwd Packets          225741 non-null  int64  \n",
      " 71  Subflow Bwd Bytes            225741 non-null  int64  \n",
      " 72  Init_Win_bytes_forward       225741 non-null  int64  \n",
      " 73  Init_Win_bytes_backward      225741 non-null  int64  \n",
      " 74  act_data_pkt_fwd             225741 non-null  int64  \n",
      " 75  min_seg_size_forward         225741 non-null  int64  \n",
      " 76  Active Mean                  225741 non-null  float64\n",
      " 77  Active Std                   225741 non-null  float64\n",
      " 78  Active Max                   225741 non-null  int64  \n",
      " 79  Active Min                   225741 non-null  int64  \n",
      " 80  Idle Mean                    225741 non-null  float64\n",
      " 81  Idle Std                     225741 non-null  float64\n",
      " 82  Idle Max                     225741 non-null  int64  \n",
      " 83  Idle Min                     225741 non-null  int64  \n",
      " 84  Label                        225741 non-null  int8   \n",
      "dtypes: float64(24), int16(2), int32(1), int64(56), int8(2)\n",
      "memory usage: 141.7 MB\n"
     ]
    }
   ],
   "source": [
    "for col in data.columns: \n",
    "    if data[col].dtype == 'object': \n",
    "        data[col] = data[col].astype('category').cat.codes\n",
    "\n",
    "data.info()"
   ]
  },
  {
   "cell_type": "code",
   "execution_count": 29,
   "metadata": {},
   "outputs": [
    {
     "data": {
      "text/plain": [
       "array([0, 1], dtype=int8)"
      ]
     },
     "execution_count": 29,
     "metadata": {},
     "output_type": "execute_result"
    }
   ],
   "source": [
    "data.Label.unique()"
   ]
  },
  {
   "cell_type": "code",
   "execution_count": null,
   "metadata": {},
   "outputs": [],
   "source": []
  },
  {
   "cell_type": "code",
   "execution_count": 30,
   "metadata": {},
   "outputs": [
    {
     "data": {
      "text/plain": [
       "2"
      ]
     },
     "execution_count": 30,
     "metadata": {},
     "output_type": "execute_result"
    }
   ],
   "source": [
    "data.duplicated().sum()"
   ]
  },
  {
   "cell_type": "code",
   "execution_count": 31,
   "metadata": {},
   "outputs": [
    {
     "data": {
      "text/plain": [
       "(225739, 85)"
      ]
     },
     "execution_count": 31,
     "metadata": {},
     "output_type": "execute_result"
    }
   ],
   "source": [
    "data.drop_duplicates(keep='first', inplace=True)\n",
    "data.shape"
   ]
  },
  {
   "cell_type": "code",
   "execution_count": 32,
   "metadata": {},
   "outputs": [
    {
     "name": "stdout",
     "output_type": "stream",
     "text": [
      "60\n"
     ]
    }
   ],
   "source": [
    "print(np.isinf(data).sum().sum())"
   ]
  },
  {
   "cell_type": "code",
   "execution_count": 33,
   "metadata": {},
   "outputs": [
    {
     "name": "stdout",
     "output_type": "stream",
     "text": [
      "Flow Bytes/s  :  30\n",
      "Flow Packets/s  :  30\n"
     ]
    }
   ],
   "source": [
    "for col in data.columns: \n",
    "    if np.isinf(data[col]).sum() > 0:\n",
    "        print(col, ' : ' , np.isinf(data[col]).sum())"
   ]
  },
  {
   "cell_type": "code",
   "execution_count": 34,
   "metadata": {},
   "outputs": [
    {
     "data": {
      "text/plain": [
       "(225709, 85)"
      ]
     },
     "execution_count": 34,
     "metadata": {},
     "output_type": "execute_result"
    }
   ],
   "source": [
    "data = data[np.isinf(data['Flow Bytes/s']) != True]\n",
    "data = data[np.isinf(data['Flow Packets/s']) != True]\n",
    "data.shape"
   ]
  },
  {
   "cell_type": "code",
   "execution_count": 35,
   "metadata": {},
   "outputs": [
    {
     "name": "stdout",
     "output_type": "stream",
     "text": [
      "[   6   18   14    0  124   84   37    8 1326  308    1   11   43   42\n",
      "   27   46  280   39   34   73   35   40   32   36   64   66   28   29\n",
      "   50   26   25   55   30   31   61   20   53   48   38   58  146   33\n",
      "  129   19   97   80  103   45   23   81   22  565   96   47   41  135\n",
      "   82   60   54   52   56   59   51   65   49   74   78   62   57   44\n",
      "   75   77   94   79   71  145    4  136  140  154  105  125  250  160\n",
      "  143  101  107   89   72  130   70   92  675  195  147    2  364  203\n",
      "  210  221  117   21  274  199  222  300  266  119  114   63   67   83\n",
      "   68  298  113  193  120  150  192  256  118  141  108  167   93  165\n",
      "   90  131  148  543  144  109 1254  149  189  226  238  186  292   88\n",
      "  272  365  134  166  164   91   85  126   86   99  346   87   16   15\n",
      " 2097 1797 2101 2016 2216 2075 2258 2091 1448 2129 1947 1703 1991 2131\n",
      " 2147   12  713  891  804  877  807  730  175  188  666  324   95  155\n",
      "   69  151    3  257  304  142  122  139  340  410  369  279  349  667\n",
      "  110  830  265   76  185  173  121  163  472  181   24  138   98  207\n",
      "  206  205  432  233  158    7  127  947  161  159  100  123  204  562\n",
      "  343  481  759  377  334  772  731  874  832 1515 1046 1055 1896  567\n",
      " 1114 1120 1112  899 1115  270  311  229  252  258  244  214  335  336\n",
      "  329  286  544  571  605  307  169  719  560  629  295  263  409  184\n",
      "  137  216  111  201   10 1855 2158 1696 2200  247 1178  911  235  104\n",
      " 1231  690 1035 1319  200  445  179  282  171  220  172  435  448  576\n",
      "  883  128  152  413  106  228  230  112  197  421  116  227  208  217\n",
      "  177  157  162  994    5   13    9  183 1299  133  213  132  509  480\n",
      "  379  367  248  261  176  373  429  153  180   17  191  287 1285  187\n",
      " 2020 2702  190  102  770  407 1262  194  366  198  393  431  878  454\n",
      "  178  305 1245  168  260  352  466  462  488  482  439  225  182  241\n",
      "  284  301  338 1004 1576  209  283  337  321  417  215 1306  325  564\n",
      "  297  348  869  115  655  232  810  646  612  424  456  231  299  381\n",
      "  406  395  434  254  312  318  288  411  591  580 1244  392  345  313\n",
      "  358  698  211 1472  686  419  820  316  328  249  479  290  212  551\n",
      " 1328  444  202  474  428  360  763  950 1518 1383 1172 1385 1204 1321\n",
      "  738  322  566  255 1368  350  170 1421 2172 1486  426  862 1175  315\n",
      "  174  498 1047  302  317  779  799  285  678  490  542 1014  281  632\n",
      "  277 1107  966 1215  786  372  505  930  242  246  234  196  223  452\n",
      "  492  493  489  491  487  401  703  423  319 1048  940  526  245  237\n",
      "  507  440  814  357  478  500  499  483  219  218  374  517  470  461\n",
      "  894 1853  355  262  264  380  383  375  387  436 1658 2321 1934 1933\n",
      " 2320 1622 2162 2322 1935 2901 2900 1659 1450 1451 1375  402  618  508\n",
      "  495  496  460  634  253  656  291  326  276  240  416  608  522 2595\n",
      " 2163 3867 1854 2596  711 1017  929  332  854  389  271  269  236  519\n",
      "  518  520  528  531  494  595  529  510  267  156  464  239  697  330\n",
      "  268  368  354  405  805 1657 2164 3244 1075 1737 1433 1463 1691 1153\n",
      " 1623  382  457  465  224  420  370  351  696  913  640  344  540  441\n",
      "  473  475  259  705  469  541  408  371  404 1417  733 1016  914  569\n",
      "  422  497 1286  331  619  931  339  633  294 1441 1866 1633 2177  945\n",
      "  314  309  927  450  468  293  251  504  501 1289 1218 1170  289  648\n",
      "  524 1161  296  275  512  506  467 1203  943  925 1290  442  511  514\n",
      "  463 1241  695  928  948  273 1373  458  484  278  327  609  515  761\n",
      "  513  516  664  693  362  356  822  965  558  412  625 1766 2055  957\n",
      "  455  570 1243  588 1126  390 2237 1442  388  620  935 1512  347  386\n",
      "  398  333  342 1058  323 1103  651  834 1363 1275 1082  721  363 1320\n",
      "  949  400  615 1439  451  376  592  934  600  535 1602  403  359  532\n",
      "  706  378 1283 1050  427  447  670  530  978  815 1152  437  553  835\n",
      "  485 1133  303  538  897  839  641  414 1160  471  438  768 1156  729\n",
      "  320  399 1419  476 2731 1068 1019 1264  657 1408  982  385  863  795\n",
      "  550  548 1460  974  243  932  926 1080  310  979 1224  919  937  549\n",
      "  870  801  443  823  885  821  662  818  825  603 2010  477  924]\n",
      "[   0   17   14 ... 1062 2285 1027]\n",
      "[   0    6   88 ... 1634 1714 2035]\n",
      "[   0   16  879 ... 1100  440  391]\n",
      "[4000000  110091  230769 ...  613026  109711   54083]\n",
      "[666666  18348  38461 ...  16008  14115   1571]\n",
      "[    3   109    52 ... 16762   848 21000]\n",
      "[    0     2     1 ...  9397 37834   488]\n",
      "[    3     0  1022 ... 16484  9272 53596]\n",
      "[      0       2       1 ... 5381638   51459   12415]\n",
      "[      0       3       4 ...   95944 5015132    6652]\n",
      "[      0   16545    2974 ...   17666   17639 5777874]\n",
      "[666666   9174  19230 ...   8737   9605    785]\n",
      "[    0  9174 19230 ...  4343   785  1103]\n",
      "[   6   22   12 ...  890  861 1076]\n",
      "[   0   14   12 ... 1549 1683 1630]\n",
      "[     0    208    156 ...  17396  10256 776778]\n",
      "[   9   34   16 ... 1083 1148  811]\n",
      "[   6   18   14    0  124   84   37    8 1326  308    1   11   43   42\n",
      "   27   46  280   39   34   73   35   40   32   36   64   66   28   29\n",
      "   50   26   25   55   30   31   61   20   53   48   38   58  146   33\n",
      "  129   19   97   80  103   45   23   81   22  565   96   47   41  135\n",
      "   82   60   54   52   56   59   51   65   49   74   78   62   57   44\n",
      "   75   77   94   79   71  145    4  136  140  154  105  125  250  160\n",
      "  143  101  107   89   72  130   70   92  675  195  147    2  364  203\n",
      "  210  221  117   21  274  199  222  300  266  119  114   63   67   83\n",
      "   68  298  113  193  120  150  192  256  118  141  108  167   93  165\n",
      "   90  131  148  543  144  109 1254  149  189  226  238  186  292   88\n",
      "  272  365  134  166  164   91   85  126   86   99  346   87   16   15\n",
      " 2097 1797 2101 2016 2216 2075 2258 2091 1448 2129 1947 1703 1991 2131\n",
      " 2147   12  713  891  804  877  807  730  175  188  666  324   95  155\n",
      "   69  151    3  257  304  142  122  139  340  410  369  279  349  667\n",
      "  110  830  265   76  185  173  121  163  472  181   24  138   98  207\n",
      "  206  205  432  233  158    7  127  947  161  159  100  123  204  562\n",
      "  343  481  759  377  334  772  731  874  832 1515 1046 1055 1896  567\n",
      " 1114 1120 1112  899 1115  270  311  229  252  258  244  214  335  336\n",
      "  329  286  544  571  605  307  169  719  560  629  295  263  409  184\n",
      "  137  216  111  201   10 1855 2158 1696 2200  247 1178  911  235  104\n",
      " 1231  690 1035 1319  200  445  179  282  171  220  172  435  448  576\n",
      "  883  128  152  413  106  228  230  112  197  421  116  227  208  217\n",
      "  177  157  162  994    5   13    9  183 1299  133  213  132  509  480\n",
      "  379  367  248  261  176  373  429  153  180   17  191  287 1285  187\n",
      " 2020 2702  190  102  770  407 1262  194  366  198  393  431  878  454\n",
      "  178  305 1245  168  260  352  466  462  488  482  439  225  182  241\n",
      "  284  301  338 1004 1576  209  283  337  321  417  215 1306  325  564\n",
      "  297  348  869  115  655  232  810  646  612  424  456  231  299  381\n",
      "  406  395  434  254  312  318  288  411  591  580 1244  392  345  313\n",
      "  358  698  211 1472  686  419  820  316  328  249  479  290  212  551\n",
      " 1328  444  202  474  428  360  763  950 1518 1383 1172 1385 1204 1321\n",
      "  738  322  566  255 1368  350  170 1421 2172 1486  426  862 1175  315\n",
      "  174  498 1047  302  317  779  799  285  678  490  542 1014  281  632\n",
      "  277 1107  966 1215  786  372  505  930  242  246  234  196  223  452\n",
      "  492  493  489  491  487  401  703  423  319 1048  940  526  245  237\n",
      "  507  440  814  357  478  500  499  483  219  218  374  517  470  461\n",
      "  894 1853  355  262  264  380  383  375  387  436 1658 2321 1934 1933\n",
      " 2320 1622 2162 2322 1935 2901 2900 1659 1450 1451 1375  402  618  508\n",
      "  495  496  460  634  253  656  291  326  276  240  416  608  522 2595\n",
      " 2163 3867 1854 2596  711 1017  929  332  854  389  271  269  236  519\n",
      "  518  520  528  531  494  595  529  510  267  156  464  239  697  330\n",
      "  268  368  354  405  805 1657 2164 3244 1075 1737 1433 1463 1691 1153\n",
      " 1623  382  457  465  224  420  370  351  696  913  640  344  540  441\n",
      "  473  475  259  705  469  541  408  371  404 1417  733 1016  914  569\n",
      "  422  497 1286  331  619  931  339  633  294 1441 1866 1633 2177  945\n",
      "  314  309  927  450  468  293  251  504  501 1289 1218 1170  289  648\n",
      "  524 1161  296  275  512  506  467 1203  943  925 1290  442  511  514\n",
      "  463 1241  695  928  948  273 1373  458  484  278  327  609  515  761\n",
      "  513  516  664  693  362  356  822  965  558  412  625 1766 2055  957\n",
      "  455  570 1243  588 1126  390 2237 1442  388  620  935 1512  347  386\n",
      "  398  333  342 1058  323 1103  651  834 1363 1275 1082  721  363 1320\n",
      "  949  400  615 1439  451  376  592  934  600  535 1602  403  359  532\n",
      "  706  378 1283 1050  427  447  670  530  978  815 1152  437  553  835\n",
      "  485 1133  303  538  897  839  641  414 1160  471  438  768 1156  729\n",
      "  320  399 1419  476 2731 1068 1019 1264  657 1408  982  385  863  795\n",
      "  550  548 1460  974  243  932  926 1080  310  979 1224  919  937  549\n",
      "  870  801  443  823  885  821  662  818  825  603 2010  477  924]\n",
      "[   0    6   88 ... 1634 1714 2035]\n",
      "[      0   46735 3591908 ...  548377 1358505  135219]\n",
      "[      0 1296391  166172 ...   60720 2158657  160321]\n",
      "[       0 30900000  7114425 ...  9997014  8600367  9895153]\n",
      "[       0 12900000   140678 ...     6407  1219542   133764]\n"
     ]
    }
   ],
   "source": [
    "for col in data.columns: \n",
    "    if data[col].dtype == 'float64': \n",
    "        data[col] = data[col].astype('int32')\n",
    "        print(data[col].unique())"
   ]
  },
  {
   "cell_type": "code",
   "execution_count": 37,
   "metadata": {},
   "outputs": [
    {
     "data": {
      "text/plain": [
       "(225709, 84)"
      ]
     },
     "execution_count": 37,
     "metadata": {},
     "output_type": "execute_result"
    }
   ],
   "source": [
    "X, y  = data.drop(columns=['Label']) , data.Label\n",
    "X.shape"
   ]
  },
  {
   "cell_type": "code",
   "execution_count": 38,
   "metadata": {},
   "outputs": [
    {
     "data": {
      "text/plain": [
       "array([[0.96025226, 0.0106486 , 0.00675985, ..., 0.        , 0.        ,\n",
       "        0.        ],\n",
       "       [0.96062254, 0.017909  , 0.00122074, ..., 0.        , 0.        ,\n",
       "        0.        ],\n",
       "       [0.96063411, 0.017909  , 0.00122074, ..., 0.        , 0.        ,\n",
       "        0.        ],\n",
       "       ...,\n",
       "       [0.65685027, 0.93175218, 0.00122074, ..., 0.        , 0.        ,\n",
       "        0.        ],\n",
       "       [0.65790326, 0.95982575, 0.00122074, ..., 0.        , 0.        ,\n",
       "        0.        ],\n",
       "       [0.65798426, 0.96127783, 0.00122074, ..., 0.        , 0.        ,\n",
       "        0.        ]])"
      ]
     },
     "execution_count": 38,
     "metadata": {},
     "output_type": "execute_result"
    }
   ],
   "source": [
    "from sklearn.preprocessing import MinMaxScaler\n",
    "\n",
    "# Initialize MinMaxScaler to scale data to [0,1]\n",
    "scaler = MinMaxScaler(feature_range=(0, 1))\n",
    "\n",
    "# Fit and transform training data\n",
    "X_scalled = scaler.fit_transform(X)\n",
    "X_scalled"
   ]
  },
  {
   "cell_type": "code",
   "execution_count": 39,
   "metadata": {},
   "outputs": [
    {
     "data": {
      "text/plain": [
       "(225709, 84)"
      ]
     },
     "execution_count": 39,
     "metadata": {},
     "output_type": "execute_result"
    }
   ],
   "source": [
    "X_scalled.shape"
   ]
  },
  {
   "cell_type": "code",
   "execution_count": 40,
   "metadata": {},
   "outputs": [],
   "source": [
    "from imblearn.over_sampling import SMOTE\n",
    "\n",
    "# Apply SMOTE to balance the dataset\n",
    "smote = SMOTE(sampling_strategy='auto', random_state=42)\n",
    "X_resampled, y_resampled = smote.fit_resample(X_scalled, y)"
   ]
  },
  {
   "cell_type": "code",
   "execution_count": 41,
   "metadata": {},
   "outputs": [
    {
     "data": {
      "text/plain": [
       "array([[0.96025226, 0.0106486 , 0.00675985, ..., 0.        , 0.        ,\n",
       "        0.        ],\n",
       "       [0.96062254, 0.017909  , 0.00122074, ..., 0.        , 0.        ,\n",
       "        0.        ],\n",
       "       [0.96063411, 0.017909  , 0.00122074, ..., 0.        , 0.        ,\n",
       "        0.        ],\n",
       "       ...,\n",
       "       [0.99443084, 0.72053186, 0.00675985, ..., 0.        , 0.        ,\n",
       "        0.        ],\n",
       "       [0.50127599, 0.34027106, 0.00122074, ..., 0.        , 0.64503228,\n",
       "        0.64503228],\n",
       "       [0.84427022, 0.33736689, 0.82013309, ..., 0.        , 0.        ,\n",
       "        0.        ]])"
      ]
     },
     "execution_count": 41,
     "metadata": {},
     "output_type": "execute_result"
    }
   ],
   "source": [
    "X_resampled"
   ]
  },
  {
   "cell_type": "code",
   "execution_count": 42,
   "metadata": {},
   "outputs": [
    {
     "data": {
      "text/plain": [
       "0    128025\n",
       "1    128025\n",
       "Name: Label, dtype: int64"
      ]
     },
     "execution_count": 42,
     "metadata": {},
     "output_type": "execute_result"
    }
   ],
   "source": [
    "y_resampled.value_counts()"
   ]
  },
  {
   "cell_type": "code",
   "execution_count": 43,
   "metadata": {},
   "outputs": [
    {
     "data": {
      "text/plain": [
       "<Figure size 400x400 with 0 Axes>"
      ]
     },
     "metadata": {},
     "output_type": "display_data"
    },
    {
     "data": {
      "image/png": "[encoded data removed]",
      "text/plain": [
       "<Figure size 400x400 with 1 Axes>"
      ]
     },
     "metadata": {},
     "output_type": "display_data"
    }
   ],
   "source": [
    "import seaborn as sn \n",
    "from matplotlib import pyplot as plt\n",
    "plt.figure(figsize=(4,4))\n",
    "sn.set_style(style='darkgrid')\n",
    "plt.figure(figsize=(4,4))\n",
    "y_resampled.value_counts().plot(kind='bar', color=['green', 'blue'])\n",
    "plt.title('Balance Class Distribution Count')\n",
    "plt.ylabel('Count')\n",
    "plt.xlabel('Class')\n",
    "plt.grid()\n",
    "plt.grid()\n"
   ]
  },
  {
   "cell_type": "code",
   "execution_count": 44,
   "metadata": {},
   "outputs": [
    {
     "data": {
      "text/plain": [
       "0    128025\n",
       "1    128025\n",
       "Name: Label, dtype: int64"
      ]
     },
     "execution_count": 44,
     "metadata": {},
     "output_type": "execute_result"
    }
   ],
   "source": [
    "y_resampled.value_counts()"
   ]
  },
  {
   "cell_type": "code",
   "execution_count": 45,
   "metadata": {},
   "outputs": [],
   "source": [
    "# machine learning developement\n",
    "\n",
    "import numpy as np\n",
    "import pandas as pd\n",
    "from sklearn.datasets import fetch_openml\n",
    "from sklearn.model_selection import train_test_split\n",
    "from sklearn.preprocessing import StandardScaler\n",
    "from sklearn.neural_network import BernoulliRBM\n",
    "from sklearn.pipeline import Pipeline\n",
    "from sklearn.linear_model import LogisticRegression"
   ]
  },
  {
   "cell_type": "code",
   "execution_count": 46,
   "metadata": {},
   "outputs": [
    {
     "data": {
      "text/plain": [
       "(204840, 84)"
      ]
     },
     "execution_count": 46,
     "metadata": {},
     "output_type": "execute_result"
    }
   ],
   "source": [
    "# Split the dataset into training and test sets\n",
    "X_train, X_test, y_train, y_test = train_test_split(X_resampled, y_resampled, test_size=0.2, stratify=y_resampled, shuffle=True)\n",
    "X_train.shape"
   ]
  },
  {
   "cell_type": "code",
   "execution_count": 60,
   "metadata": {},
   "outputs": [
    {
     "data": {
      "text/plain": [
       "<matplotlib.legend.Legend at 0x23d0e22e6d0>"
      ]
     },
     "execution_count": 60,
     "metadata": {},
     "output_type": "execute_result"
    },
    {
     "data": {
      "image/png": "[encoded data removed]",
      "text/plain": [
       "<Figure size 640x480 with 1 Axes>"
      ]
     },
     "metadata": {},
     "output_type": "display_data"
    }
   ],
   "source": [
    "# confirming if the training the testing sample is balance \n",
    "y_train.value_counts().plot(kind='bar', color=['green', 'green'])\n",
    "y_test.value_counts().plot(kind='bar', color=['brown', 'brown'])\n",
    "plt.legend(labels=['Training smaples', 'Testing samples'])"
   ]
  },
  {
   "cell_type": "code",
   "execution_count": 47,
   "metadata": {},
   "outputs": [
    {
     "data": {
      "text/plain": [
       "array([[0.34177274, 0.20619555, 0.64632099, ..., 0.        , 0.05905705,\n",
       "        0.05905705],\n",
       "       [0.54493173, 0.34172314, 0.13950011, ..., 0.14665389, 0.485     ,\n",
       "        0.37166667],\n",
       "       [0.60258042, 0.33591481, 0.64528336, ..., 0.        , 0.        ,\n",
       "        0.        ],\n",
       "       ...,\n",
       "       [0.36926637, 0.20619555, 0.7734611 , ..., 0.        , 0.        ,\n",
       "        0.        ],\n",
       "       [0.83044434, 0.33736689, 0.19890439, ..., 0.        , 0.        ,\n",
       "        0.        ],\n",
       "       [0.51171025, 0.20619555, 0.96127201, ..., 0.        , 0.        ,\n",
       "        0.        ]])"
      ]
     },
     "execution_count": 47,
     "metadata": {},
     "output_type": "execute_result"
    }
   ],
   "source": [
    "X_test"
   ]
  },
  {
   "cell_type": "code",
   "execution_count": 48,
   "metadata": {},
   "outputs": [
    {
     "data": {
      "text/html": [
       "<style>#sk-container-id-1 {color: black;background-color: white;}#sk-container-id-1 pre{padding: 0;}#sk-container-id-1 div.sk-toggleable {background-color: white;}#sk-container-id-1 label.sk-toggleable__label {cursor: pointer;display: block;width: 100%;margin-bottom: 0;padding: 0.3em;box-sizing: border-box;text-align: center;}#sk-container-id-1 label.sk-toggleable__label-arrow:before {content: \"▸\";float: left;margin-right: 0.25em;color: #696969;}#sk-container-id-1 label.sk-toggleable__label-arrow:hover:before {color: black;}#sk-container-id-1 div.sk-estimator:hover label.sk-toggleable__label-arrow:before {color: black;}#sk-container-id-1 div.sk-toggleable__content {max-height: 0;max-width: 0;overflow: hidden;text-align: left;background-color: #f0f8ff;}#sk-container-id-1 div.sk-toggleable__content pre {margin: 0.2em;color: black;border-radius: 0.25em;background-color: #f0f8ff;}#sk-container-id-1 input.sk-toggleable__control:checked~div.sk-toggleable__content {max-height: 200px;max-width: 100%;overflow: auto;}#sk-container-id-1 input.sk-toggleable__control:checked~label.sk-toggleable__label-arrow:before {content: \"▾\";}#sk-container-id-1 div.sk-estimator input.sk-toggleable__control:checked~label.sk-toggleable__label {background-color: #d4ebff;}#sk-container-id-1 div.sk-label input.sk-toggleable__control:checked~label.sk-toggleable__label {background-color: #d4ebff;}#sk-container-id-1 input.sk-hidden--visually {border: 0;clip: rect(1px 1px 1px 1px);clip: rect(1px, 1px, 1px, 1px);height: 1px;margin: -1px;overflow: hidden;padding: 0;position: absolute;width: 1px;}#sk-container-id-1 div.sk-estimator {font-family: monospace;background-color: #f0f8ff;border: 1px dotted black;border-radius: 0.25em;box-sizing: border-box;margin-bottom: 0.5em;}#sk-container-id-1 div.sk-estimator:hover {background-color: #d4ebff;}#sk-container-id-1 div.sk-parallel-item::after {content: \"\";width: 100%;border-bottom: 1px solid gray;flex-grow: 1;}#sk-container-id-1 div.sk-label:hover label.sk-toggleable__label {background-color: #d4ebff;}#sk-container-id-1 div.sk-serial::before {content: \"\";position: absolute;border-left: 1px solid gray;box-sizing: border-box;top: 0;bottom: 0;left: 50%;z-index: 0;}#sk-container-id-1 div.sk-serial {display: flex;flex-direction: column;align-items: center;background-color: white;padding-right: 0.2em;padding-left: 0.2em;position: relative;}#sk-container-id-1 div.sk-item {position: relative;z-index: 1;}#sk-container-id-1 div.sk-parallel {display: flex;align-items: stretch;justify-content: center;background-color: white;position: relative;}#sk-container-id-1 div.sk-item::before, #sk-container-id-1 div.sk-parallel-item::before {content: \"\";position: absolute;border-left: 1px solid gray;box-sizing: border-box;top: 0;bottom: 0;left: 50%;z-index: -1;}#sk-container-id-1 div.sk-parallel-item {display: flex;flex-direction: column;z-index: 1;position: relative;background-color: white;}#sk-container-id-1 div.sk-parallel-item:first-child::after {align-self: flex-end;width: 50%;}#sk-container-id-1 div.sk-parallel-item:last-child::after {align-self: flex-start;width: 50%;}#sk-container-id-1 div.sk-parallel-item:only-child::after {width: 0;}#sk-container-id-1 div.sk-dashed-wrapped {border: 1px dashed gray;margin: 0 0.4em 0.5em 0.4em;box-sizing: border-box;padding-bottom: 0.4em;background-color: white;}#sk-container-id-1 div.sk-label label {font-family: monospace;font-weight: bold;display: inline-block;line-height: 1.2em;}#sk-container-id-1 div.sk-label-container {text-align: center;}#sk-container-id-1 div.sk-container {/* jupyter's `normalize.less` sets `[hidden] { display: none; }` but bootstrap.min.css set `[hidden] { display: none !important; }` so we also need the `!important` here to be able to override the default hidden behavior on the sphinx rendered scikit-learn.org. See: https://github.com/scikit-learn/scikit-learn/issues/21755 */display: inline-block !important;position: relative;}#sk-container-id-1 div.sk-text-repr-fallback {display: none;}</style><div id=\"sk-container-id-1\" class=\"sk-top-container\"><div class=\"sk-text-repr-fallback\"><pre>BernoulliRBM(learning_rate=0.01, n_iter=5, verbose=1)</pre><b>In a Jupyter environment, please rerun this cell to show the HTML representation or trust the notebook. <br />On GitHub, the HTML representation is unable to render, please try loading this page with nbviewer.org.</b></div><div class=\"sk-container\" hidden><div class=\"sk-item\"><div class=\"sk-estimator sk-toggleable\"><input class=\"sk-toggleable__control sk-hidden--visually\" id=\"sk-estimator-id-1\" type=\"checkbox\" checked><label for=\"sk-estimator-id-1\" class=\"sk-toggleable__label sk-toggleable__label-arrow\">BernoulliRBM</label><div class=\"sk-toggleable__content\"><pre>BernoulliRBM(learning_rate=0.01, n_iter=5, verbose=1)</pre></div></div></div></div></div>"
      ],
      "text/plain": [
       "BernoulliRBM(learning_rate=0.01, n_iter=5, verbose=1)"
      ]
     },
     "execution_count": 48,
     "metadata": {},
     "output_type": "execute_result"
    }
   ],
   "source": [
    "# building the architecutre\n",
    "\n",
    "\n",
    "# Initialize the RBM model\n",
    "rbm_layer = BernoulliRBM(n_components=256, learning_rate=0.01, n_iter=5, verbose=1)\n",
    "rbm_layer"
   ]
  },
  {
   "cell_type": "code",
   "execution_count": 49,
   "metadata": {},
   "outputs": [
    {
     "data": {
      "text/html": [
       "<style>#sk-container-id-2 {color: black;background-color: white;}#sk-container-id-2 pre{padding: 0;}#sk-container-id-2 div.sk-toggleable {background-color: white;}#sk-container-id-2 label.sk-toggleable__label {cursor: pointer;display: block;width: 100%;margin-bottom: 0;padding: 0.3em;box-sizing: border-box;text-align: center;}#sk-container-id-2 label.sk-toggleable__label-arrow:before {content: \"▸\";float: left;margin-right: 0.25em;color: #696969;}#sk-container-id-2 label.sk-toggleable__label-arrow:hover:before {color: black;}#sk-container-id-2 div.sk-estimator:hover label.sk-toggleable__label-arrow:before {color: black;}#sk-container-id-2 div.sk-toggleable__content {max-height: 0;max-width: 0;overflow: hidden;text-align: left;background-color: #f0f8ff;}#sk-container-id-2 div.sk-toggleable__content pre {margin: 0.2em;color: black;border-radius: 0.25em;background-color: #f0f8ff;}#sk-container-id-2 input.sk-toggleable__control:checked~div.sk-toggleable__content {max-height: 200px;max-width: 100%;overflow: auto;}#sk-container-id-2 input.sk-toggleable__control:checked~label.sk-toggleable__label-arrow:before {content: \"▾\";}#sk-container-id-2 div.sk-estimator input.sk-toggleable__control:checked~label.sk-toggleable__label {background-color: #d4ebff;}#sk-container-id-2 div.sk-label input.sk-toggleable__control:checked~label.sk-toggleable__label {background-color: #d4ebff;}#sk-container-id-2 input.sk-hidden--visually {border: 0;clip: rect(1px 1px 1px 1px);clip: rect(1px, 1px, 1px, 1px);height: 1px;margin: -1px;overflow: hidden;padding: 0;position: absolute;width: 1px;}#sk-container-id-2 div.sk-estimator {font-family: monospace;background-color: #f0f8ff;border: 1px dotted black;border-radius: 0.25em;box-sizing: border-box;margin-bottom: 0.5em;}#sk-container-id-2 div.sk-estimator:hover {background-color: #d4ebff;}#sk-container-id-2 div.sk-parallel-item::after {content: \"\";width: 100%;border-bottom: 1px solid gray;flex-grow: 1;}#sk-container-id-2 div.sk-label:hover label.sk-toggleable__label {background-color: #d4ebff;}#sk-container-id-2 div.sk-serial::before {content: \"\";position: absolute;border-left: 1px solid gray;box-sizing: border-box;top: 0;bottom: 0;left: 50%;z-index: 0;}#sk-container-id-2 div.sk-serial {display: flex;flex-direction: column;align-items: center;background-color: white;padding-right: 0.2em;padding-left: 0.2em;position: relative;}#sk-container-id-2 div.sk-item {position: relative;z-index: 1;}#sk-container-id-2 div.sk-parallel {display: flex;align-items: stretch;justify-content: center;background-color: white;position: relative;}#sk-container-id-2 div.sk-item::before, #sk-container-id-2 div.sk-parallel-item::before {content: \"\";position: absolute;border-left: 1px solid gray;box-sizing: border-box;top: 0;bottom: 0;left: 50%;z-index: -1;}#sk-container-id-2 div.sk-parallel-item {display: flex;flex-direction: column;z-index: 1;position: relative;background-color: white;}#sk-container-id-2 div.sk-parallel-item:first-child::after {align-self: flex-end;width: 50%;}#sk-container-id-2 div.sk-parallel-item:last-child::after {align-self: flex-start;width: 50%;}#sk-container-id-2 div.sk-parallel-item:only-child::after {width: 0;}#sk-container-id-2 div.sk-dashed-wrapped {border: 1px dashed gray;margin: 0 0.4em 0.5em 0.4em;box-sizing: border-box;padding-bottom: 0.4em;background-color: white;}#sk-container-id-2 div.sk-label label {font-family: monospace;font-weight: bold;display: inline-block;line-height: 1.2em;}#sk-container-id-2 div.sk-label-container {text-align: center;}#sk-container-id-2 div.sk-container {/* jupyter's `normalize.less` sets `[hidden] { display: none; }` but bootstrap.min.css set `[hidden] { display: none !important; }` so we also need the `!important` here to be able to override the default hidden behavior on the sphinx rendered scikit-learn.org. See: https://github.com/scikit-learn/scikit-learn/issues/21755 */display: inline-block !important;position: relative;}#sk-container-id-2 div.sk-text-repr-fallback {display: none;}</style><div id=\"sk-container-id-2\" class=\"sk-top-container\"><div class=\"sk-text-repr-fallback\"><pre>LogisticRegression(solver=&#x27;liblinear&#x27;)</pre><b>In a Jupyter environment, please rerun this cell to show the HTML representation or trust the notebook. <br />On GitHub, the HTML representation is unable to render, please try loading this page with nbviewer.org.</b></div><div class=\"sk-container\" hidden><div class=\"sk-item\"><div class=\"sk-estimator sk-toggleable\"><input class=\"sk-toggleable__control sk-hidden--visually\" id=\"sk-estimator-id-2\" type=\"checkbox\" checked><label for=\"sk-estimator-id-2\" class=\"sk-toggleable__label sk-toggleable__label-arrow\">LogisticRegression</label><div class=\"sk-toggleable__content\"><pre>LogisticRegression(solver=&#x27;liblinear&#x27;)</pre></div></div></div></div></div>"
      ],
      "text/plain": [
       "LogisticRegression(solver='liblinear')"
      ]
     },
     "execution_count": 49,
     "metadata": {},
     "output_type": "execute_result"
    }
   ],
   "source": [
    "# Initialize the logistic regression model\n",
    "lr_model = LogisticRegression(max_iter=100, solver=\"liblinear\")\n",
    "lr_model"
   ]
  },
  {
   "cell_type": "code",
   "execution_count": 50,
   "metadata": {},
   "outputs": [
    {
     "data": {
      "text/html": [
       "<style>#sk-container-id-3 {color: black;background-color: white;}#sk-container-id-3 pre{padding: 0;}#sk-container-id-3 div.sk-toggleable {background-color: white;}#sk-container-id-3 label.sk-toggleable__label {cursor: pointer;display: block;width: 100%;margin-bottom: 0;padding: 0.3em;box-sizing: border-box;text-align: center;}#sk-container-id-3 label.sk-toggleable__label-arrow:before {content: \"▸\";float: left;margin-right: 0.25em;color: #696969;}#sk-container-id-3 label.sk-toggleable__label-arrow:hover:before {color: black;}#sk-container-id-3 div.sk-estimator:hover label.sk-toggleable__label-arrow:before {color: black;}#sk-container-id-3 div.sk-toggleable__content {max-height: 0;max-width: 0;overflow: hidden;text-align: left;background-color: #f0f8ff;}#sk-container-id-3 div.sk-toggleable__content pre {margin: 0.2em;color: black;border-radius: 0.25em;background-color: #f0f8ff;}#sk-container-id-3 input.sk-toggleable__control:checked~div.sk-toggleable__content {max-height: 200px;max-width: 100%;overflow: auto;}#sk-container-id-3 input.sk-toggleable__control:checked~label.sk-toggleable__label-arrow:before {content: \"▾\";}#sk-container-id-3 div.sk-estimator input.sk-toggleable__control:checked~label.sk-toggleable__label {background-color: #d4ebff;}#sk-container-id-3 div.sk-label input.sk-toggleable__control:checked~label.sk-toggleable__label {background-color: #d4ebff;}#sk-container-id-3 input.sk-hidden--visually {border: 0;clip: rect(1px 1px 1px 1px);clip: rect(1px, 1px, 1px, 1px);height: 1px;margin: -1px;overflow: hidden;padding: 0;position: absolute;width: 1px;}#sk-container-id-3 div.sk-estimator {font-family: monospace;background-color: #f0f8ff;border: 1px dotted black;border-radius: 0.25em;box-sizing: border-box;margin-bottom: 0.5em;}#sk-container-id-3 div.sk-estimator:hover {background-color: #d4ebff;}#sk-container-id-3 div.sk-parallel-item::after {content: \"\";width: 100%;border-bottom: 1px solid gray;flex-grow: 1;}#sk-container-id-3 div.sk-label:hover label.sk-toggleable__label {background-color: #d4ebff;}#sk-container-id-3 div.sk-serial::before {content: \"\";position: absolute;border-left: 1px solid gray;box-sizing: border-box;top: 0;bottom: 0;left: 50%;z-index: 0;}#sk-container-id-3 div.sk-serial {display: flex;flex-direction: column;align-items: center;background-color: white;padding-right: 0.2em;padding-left: 0.2em;position: relative;}#sk-container-id-3 div.sk-item {position: relative;z-index: 1;}#sk-container-id-3 div.sk-parallel {display: flex;align-items: stretch;justify-content: center;background-color: white;position: relative;}#sk-container-id-3 div.sk-item::before, #sk-container-id-3 div.sk-parallel-item::before {content: \"\";position: absolute;border-left: 1px solid gray;box-sizing: border-box;top: 0;bottom: 0;left: 50%;z-index: -1;}#sk-container-id-3 div.sk-parallel-item {display: flex;flex-direction: column;z-index: 1;position: relative;background-color: white;}#sk-container-id-3 div.sk-parallel-item:first-child::after {align-self: flex-end;width: 50%;}#sk-container-id-3 div.sk-parallel-item:last-child::after {align-self: flex-start;width: 50%;}#sk-container-id-3 div.sk-parallel-item:only-child::after {width: 0;}#sk-container-id-3 div.sk-dashed-wrapped {border: 1px dashed gray;margin: 0 0.4em 0.5em 0.4em;box-sizing: border-box;padding-bottom: 0.4em;background-color: white;}#sk-container-id-3 div.sk-label label {font-family: monospace;font-weight: bold;display: inline-block;line-height: 1.2em;}#sk-container-id-3 div.sk-label-container {text-align: center;}#sk-container-id-3 div.sk-container {/* jupyter's `normalize.less` sets `[hidden] { display: none; }` but bootstrap.min.css set `[hidden] { display: none !important; }` so we also need the `!important` here to be able to override the default hidden behavior on the sphinx rendered scikit-learn.org. See: https://github.com/scikit-learn/scikit-learn/issues/21755 */display: inline-block !important;position: relative;}#sk-container-id-3 div.sk-text-repr-fallback {display: none;}</style><div id=\"sk-container-id-3\" class=\"sk-top-container\"><div class=\"sk-text-repr-fallback\"><pre>Pipeline(steps=[(&#x27;layer_1&#x27;,\n",
       "                 BernoulliRBM(learning_rate=0.01, n_iter=5, verbose=1)),\n",
       "                (&#x27;output_layer&#x27;, LogisticRegression(solver=&#x27;liblinear&#x27;))])</pre><b>In a Jupyter environment, please rerun this cell to show the HTML representation or trust the notebook. <br />On GitHub, the HTML representation is unable to render, please try loading this page with nbviewer.org.</b></div><div class=\"sk-container\" hidden><div class=\"sk-item sk-dashed-wrapped\"><div class=\"sk-label-container\"><div class=\"sk-label sk-toggleable\"><input class=\"sk-toggleable__control sk-hidden--visually\" id=\"sk-estimator-id-3\" type=\"checkbox\" ><label for=\"sk-estimator-id-3\" class=\"sk-toggleable__label sk-toggleable__label-arrow\">Pipeline</label><div class=\"sk-toggleable__content\"><pre>Pipeline(steps=[(&#x27;layer_1&#x27;,\n",
       "                 BernoulliRBM(learning_rate=0.01, n_iter=5, verbose=1)),\n",
       "                (&#x27;output_layer&#x27;, LogisticRegression(solver=&#x27;liblinear&#x27;))])</pre></div></div></div><div class=\"sk-serial\"><div class=\"sk-item\"><div class=\"sk-estimator sk-toggleable\"><input class=\"sk-toggleable__control sk-hidden--visually\" id=\"sk-estimator-id-4\" type=\"checkbox\" ><label for=\"sk-estimator-id-4\" class=\"sk-toggleable__label sk-toggleable__label-arrow\">BernoulliRBM</label><div class=\"sk-toggleable__content\"><pre>BernoulliRBM(learning_rate=0.01, n_iter=5, verbose=1)</pre></div></div></div><div class=\"sk-item\"><div class=\"sk-estimator sk-toggleable\"><input class=\"sk-toggleable__control sk-hidden--visually\" id=\"sk-estimator-id-5\" type=\"checkbox\" ><label for=\"sk-estimator-id-5\" class=\"sk-toggleable__label sk-toggleable__label-arrow\">LogisticRegression</label><div class=\"sk-toggleable__content\"><pre>LogisticRegression(solver=&#x27;liblinear&#x27;)</pre></div></div></div></div></div></div></div>"
      ],
      "text/plain": [
       "Pipeline(steps=[('layer_1',\n",
       "                 BernoulliRBM(learning_rate=0.01, n_iter=5, verbose=1)),\n",
       "                ('output_layer', LogisticRegression(solver='liblinear'))])"
      ]
     },
     "execution_count": 50,
     "metadata": {},
     "output_type": "execute_result"
    }
   ],
   "source": [
    "# layer pipeline\n",
    "# classifies with logistic regression\n",
    "dbn_pipeline = Pipeline(steps=[('layer_1', rbm_layer), ('output_layer', lr_model)])\n",
    "dbn_pipeline"
   ]
  },
  {
   "cell_type": "code",
   "execution_count": 51,
   "metadata": {},
   "outputs": [],
   "source": [
    "import warnings \n",
    "warnings.filterwarnings('ignore')"
   ]
  },
  {
   "cell_type": "code",
   "execution_count": 52,
   "metadata": {},
   "outputs": [
    {
     "name": "stdout",
     "output_type": "stream",
     "text": [
      "[BernoulliRBM] Iteration 1, pseudo-likelihood = -10.36, time = 19.03s\n",
      "[BernoulliRBM] Iteration 2, pseudo-likelihood = -9.74, time = 27.19s\n",
      "[BernoulliRBM] Iteration 3, pseudo-likelihood = -9.50, time = 24.89s\n",
      "[BernoulliRBM] Iteration 4, pseudo-likelihood = -9.51, time = 23.35s\n",
      "[BernoulliRBM] Iteration 5, pseudo-likelihood = -9.62, time = 22.92s\n"
     ]
    }
   ],
   "source": [
    "history = dbn_pipeline.fit(X_train, y_train)"
   ]
  },
  {
   "cell_type": "code",
   "execution_count": 53,
   "metadata": {},
   "outputs": [
    {
     "data": {
      "text/plain": [
       "array([1, 0, 0, 0, 0, 1, 0, 0, 1, 0, 0, 0, 1, 1, 1, 0, 1, 0, 0, 1],\n",
       "      dtype=int8)"
      ]
     },
     "execution_count": 53,
     "metadata": {},
     "output_type": "execute_result"
    }
   ],
   "source": [
    "pred = dbn_pipeline.predict(X_test)\n",
    "pred[:20]"
   ]
  },
  {
   "cell_type": "code",
   "execution_count": 54,
   "metadata": {},
   "outputs": [
    {
     "data": {
      "text/plain": [
       "array([1, 0, 0, ..., 1, 0, 1], dtype=int8)"
      ]
     },
     "execution_count": 54,
     "metadata": {},
     "output_type": "execute_result"
    }
   ],
   "source": [
    "dbn_pipeline.predict(X_test)"
   ]
  },
  {
   "cell_type": "code",
   "execution_count": 55,
   "metadata": {},
   "outputs": [
    {
     "name": "stdout",
     "output_type": "stream",
     "text": [
      "              precision    recall  f1-score   support\n",
      "\n",
      "           0       1.00      0.98      0.99     25605\n",
      "           1       0.98      1.00      0.99     25605\n",
      "\n",
      "    accuracy                           0.99     51210\n",
      "   macro avg       0.99      0.99      0.99     51210\n",
      "weighted avg       0.99      0.99      0.99     51210\n",
      "\n"
     ]
    }
   ],
   "source": [
    "from sklearn.metrics import classification_report, confusion_matrix\n",
    "\n",
    "print(classification_report(y_test, pred))"
   ]
  },
  {
   "cell_type": "code",
   "execution_count": 56,
   "metadata": {},
   "outputs": [],
   "source": [
    "# using multiple layers of BRM"
   ]
  },
  {
   "cell_type": "code",
   "execution_count": 51,
   "metadata": {
    "execution": {
     "iopub.execute_input": "2025-02-13T15:56:34.830080Z",
     "iopub.status.busy": "2025-02-13T15:56:34.829787Z",
     "iopub.status.idle": "2025-02-13T16:04:00.115692Z",
     "shell.execute_reply": "2025-02-13T16:04:00.114704Z",
     "shell.execute_reply.started": "2025-02-13T15:56:34.830054Z"
    }
   },
   "outputs": [
    {
     "name": "stdout",
     "output_type": "stream",
     "text": [
      "Training RBM Layer 1...\n",
      "[BernoulliRBM] Iteration 1, pseudo-likelihood = -10.19, time = 18.89s\n",
      "[BernoulliRBM] Iteration 2, pseudo-likelihood = -9.93, time = 28.22s\n",
      "[BernoulliRBM] Iteration 3, pseudo-likelihood = -9.87, time = 27.99s\n",
      "[BernoulliRBM] Iteration 4, pseudo-likelihood = -9.90, time = 27.90s\n",
      "[BernoulliRBM] Iteration 5, pseudo-likelihood = -11.61, time = 28.19s\n",
      "Training RBM Layer 2...\n",
      "[BernoulliRBM] Iteration 1, pseudo-likelihood = -296.74, time = 41.52s\n",
      "[BernoulliRBM] Iteration 2, pseudo-likelihood = -296.93, time = 47.30s\n",
      "[BernoulliRBM] Iteration 3, pseudo-likelihood = -296.51, time = 46.01s\n",
      "[BernoulliRBM] Iteration 4, pseudo-likelihood = -296.64, time = 45.20s\n",
      "[BernoulliRBM] Iteration 5, pseudo-likelihood = -296.95, time = 45.11s\n",
      "Training RBM Layer 3...\n",
      "[BernoulliRBM] Iteration 1, pseudo-likelihood = -1.21, time = 11.89s\n",
      "[BernoulliRBM] Iteration 2, pseudo-likelihood = -0.93, time = 14.31s\n",
      "[BernoulliRBM] Iteration 3, pseudo-likelihood = -0.75, time = 14.12s\n",
      "[BernoulliRBM] Iteration 4, pseudo-likelihood = -0.76, time = 14.43s\n",
      "[BernoulliRBM] Iteration 5, pseudo-likelihood = -0.69, time = 14.15s\n"
     ]
    }
   ],
   "source": [
    "## Define three RBM layers\n",
    "rbm_layer1 = BernoulliRBM(n_components=512, learning_rate=0.01, n_iter=5, verbose=1)\n",
    "rbm_layer2 = BernoulliRBM(n_components=256, learning_rate=0.01, n_iter=5, verbose=1)\n",
    "rbm_layer3 = BernoulliRBM(n_components=128, learning_rate=0.01, n_iter=5, verbose=1)\n",
    "\n",
    "# Train first RBM layer\n",
    "print(\"Training RBM Layer 1...\")\n",
    "x_train_rbm1 = rbm_layer1.fit_transform(X_train)\n",
    "\n",
    "# Train second RBM layer on RBM1 output\n",
    "print(\"Training RBM Layer 2...\")\n",
    "x_train_rbm2 = rbm_layer2.fit_transform(x_train_rbm1)\n",
    "\n",
    "# Train third RBM layer on RBM2 output\n",
    "print(\"Training RBM Layer 3...\")\n",
    "x_train_rbm3 = rbm_layer3.fit_transform(x_train_rbm2)\n"
   ]
  },
  {
   "cell_type": "code",
   "execution_count": 57,
   "metadata": {
    "execution": {
     "iopub.execute_input": "2025-02-13T16:09:13.219735Z",
     "iopub.status.busy": "2025-02-13T16:09:13.219361Z",
     "iopub.status.idle": "2025-02-13T16:09:25.377426Z",
     "shell.execute_reply": "2025-02-13T16:09:25.376473Z",
     "shell.execute_reply.started": "2025-02-13T16:09:13.219704Z"
    }
   },
   "outputs": [
    {
     "name": "stdout",
     "output_type": "stream",
     "text": [
      "DBN Test Accuracy: 96.81%\n",
      "              precision    recall  f1-score   support\n",
      "\n",
      "           0       1.00      0.94      0.97     25651\n",
      "           1       0.94      1.00      0.97     25559\n",
      "\n",
      "    accuracy                           0.97     51210\n",
      "   macro avg       0.97      0.97      0.97     51210\n",
      "weighted avg       0.97      0.97      0.97     51210\n",
      "\n"
     ]
    }
   ],
   "source": [
    "from sklearn.linear_model import LogisticRegression\n",
    "from sklearn.metrics import accuracy_score, classification_report\n",
    "\n",
    "# Train a classifier on top of the final RBM output\n",
    "classifier = LogisticRegression(max_iter=1000, solver=\"liblinear\")\n",
    "classifier.fit(x_train_rbm3, y_train)\n",
    "\n",
    "# Transform test data using trained RBMs\n",
    "x_test_rbm1 = rbm_layer1.transform(X_test)\n",
    "x_test_rbm2 = rbm_layer2.transform(x_test_rbm1)\n",
    "x_test_rbm3 = rbm_layer3.transform(x_test_rbm2)\n",
    "\n",
    "# Predict on test data\n",
    "y_pred = classifier.predict(x_test_rbm3)\n",
    "accuracy = accuracy_score(y_test, y_pred)\n",
    "\n",
    "print(f\"DBN Test Accuracy: {accuracy * 100:.2f}%\")\n",
    "print(classification_report(y_test, y_pred))"
   ]
  },
  {
   "cell_type": "code",
   "execution_count": null,
   "metadata": {
    "execution": {
     "iopub.status.busy": "2025-02-10T17:34:02.815785Z",
     "iopub.status.idle": "2025-02-10T17:34:02.816206Z",
     "shell.execute_reply": "2025-02-10T17:34:02.815993Z"
    }
   },
   "outputs": [],
   "source": [
    "# using only logistic regression"
   ]
  },
  {
   "cell_type": "code",
   "execution_count": 44,
   "metadata": {},
   "outputs": [
    {
     "data": {
      "text/html": [
       "<style>#sk-container-id-3 {color: black;background-color: white;}#sk-container-id-3 pre{padding: 0;}#sk-container-id-3 div.sk-toggleable {background-color: white;}#sk-container-id-3 label.sk-toggleable__label {cursor: pointer;display: block;width: 100%;margin-bottom: 0;padding: 0.3em;box-sizing: border-box;text-align: center;}#sk-container-id-3 label.sk-toggleable__label-arrow:before {content: \"▸\";float: left;margin-right: 0.25em;color: #696969;}#sk-container-id-3 label.sk-toggleable__label-arrow:hover:before {color: black;}#sk-container-id-3 div.sk-estimator:hover label.sk-toggleable__label-arrow:before {color: black;}#sk-container-id-3 div.sk-toggleable__content {max-height: 0;max-width: 0;overflow: hidden;text-align: left;background-color: #f0f8ff;}#sk-container-id-3 div.sk-toggleable__content pre {margin: 0.2em;color: black;border-radius: 0.25em;background-color: #f0f8ff;}#sk-container-id-3 input.sk-toggleable__control:checked~div.sk-toggleable__content {max-height: 200px;max-width: 100%;overflow: auto;}#sk-container-id-3 input.sk-toggleable__control:checked~label.sk-toggleable__label-arrow:before {content: \"▾\";}#sk-container-id-3 div.sk-estimator input.sk-toggleable__control:checked~label.sk-toggleable__label {background-color: #d4ebff;}#sk-container-id-3 div.sk-label input.sk-toggleable__control:checked~label.sk-toggleable__label {background-color: #d4ebff;}#sk-container-id-3 input.sk-hidden--visually {border: 0;clip: rect(1px 1px 1px 1px);clip: rect(1px, 1px, 1px, 1px);height: 1px;margin: -1px;overflow: hidden;padding: 0;position: absolute;width: 1px;}#sk-container-id-3 div.sk-estimator {font-family: monospace;background-color: #f0f8ff;border: 1px dotted black;border-radius: 0.25em;box-sizing: border-box;margin-bottom: 0.5em;}#sk-container-id-3 div.sk-estimator:hover {background-color: #d4ebff;}#sk-container-id-3 div.sk-parallel-item::after {content: \"\";width: 100%;border-bottom: 1px solid gray;flex-grow: 1;}#sk-container-id-3 div.sk-label:hover label.sk-toggleable__label {background-color: #d4ebff;}#sk-container-id-3 div.sk-serial::before {content: \"\";position: absolute;border-left: 1px solid gray;box-sizing: border-box;top: 0;bottom: 0;left: 50%;z-index: 0;}#sk-container-id-3 div.sk-serial {display: flex;flex-direction: column;align-items: center;background-color: white;padding-right: 0.2em;padding-left: 0.2em;position: relative;}#sk-container-id-3 div.sk-item {position: relative;z-index: 1;}#sk-container-id-3 div.sk-parallel {display: flex;align-items: stretch;justify-content: center;background-color: white;position: relative;}#sk-container-id-3 div.sk-item::before, #sk-container-id-3 div.sk-parallel-item::before {content: \"\";position: absolute;border-left: 1px solid gray;box-sizing: border-box;top: 0;bottom: 0;left: 50%;z-index: -1;}#sk-container-id-3 div.sk-parallel-item {display: flex;flex-direction: column;z-index: 1;position: relative;background-color: white;}#sk-container-id-3 div.sk-parallel-item:first-child::after {align-self: flex-end;width: 50%;}#sk-container-id-3 div.sk-parallel-item:last-child::after {align-self: flex-start;width: 50%;}#sk-container-id-3 div.sk-parallel-item:only-child::after {width: 0;}#sk-container-id-3 div.sk-dashed-wrapped {border: 1px dashed gray;margin: 0 0.4em 0.5em 0.4em;box-sizing: border-box;padding-bottom: 0.4em;background-color: white;}#sk-container-id-3 div.sk-label label {font-family: monospace;font-weight: bold;display: inline-block;line-height: 1.2em;}#sk-container-id-3 div.sk-label-container {text-align: center;}#sk-container-id-3 div.sk-container {/* jupyter's `normalize.less` sets `[hidden] { display: none; }` but bootstrap.min.css set `[hidden] { display: none !important; }` so we also need the `!important` here to be able to override the default hidden behavior on the sphinx rendered scikit-learn.org. See: https://github.com/scikit-learn/scikit-learn/issues/21755 */display: inline-block !important;position: relative;}#sk-container-id-3 div.sk-text-repr-fallback {display: none;}</style><div id=\"sk-container-id-3\" class=\"sk-top-container\"><div class=\"sk-text-repr-fallback\"><pre>LogisticRegression(max_iter=1000)</pre><b>In a Jupyter environment, please rerun this cell to show the HTML representation or trust the notebook. <br />On GitHub, the HTML representation is unable to render, please try loading this page with nbviewer.org.</b></div><div class=\"sk-container\" hidden><div class=\"sk-item\"><div class=\"sk-estimator sk-toggleable\"><input class=\"sk-toggleable__control sk-hidden--visually\" id=\"sk-estimator-id-3\" type=\"checkbox\" checked><label for=\"sk-estimator-id-3\" class=\"sk-toggleable__label sk-toggleable__label-arrow\">LogisticRegression</label><div class=\"sk-toggleable__content\"><pre>LogisticRegression(max_iter=1000)</pre></div></div></div></div></div>"
      ],
      "text/plain": [
       "LogisticRegression(max_iter=1000)"
      ]
     },
     "execution_count": 44,
     "metadata": {},
     "output_type": "execute_result"
    }
   ],
   "source": [
    "# Train a classifier on top of the final RBM output\n",
    "classifier = LogisticRegression(max_iter=1000)\n",
    "classifier.fit(X_train, y_train)"
   ]
  },
  {
   "cell_type": "code",
   "execution_count": 54,
   "metadata": {
    "execution": {
     "iopub.execute_input": "2025-02-13T16:07:54.474807Z",
     "iopub.status.busy": "2025-02-13T16:07:54.474420Z",
     "iopub.status.idle": "2025-02-13T16:07:54.486328Z",
     "shell.execute_reply": "2025-02-13T16:07:54.485383Z",
     "shell.execute_reply.started": "2025-02-13T16:07:54.474769Z"
    }
   },
   "outputs": [
    {
     "data": {
      "text/plain": [
       "array([1, 0, 0, ..., 0, 1, 1], dtype=int8)"
      ]
     },
     "execution_count": 54,
     "metadata": {},
     "output_type": "execute_result"
    }
   ],
   "source": [
    "pre = classifier.predict(X_test)\n",
    "pre"
   ]
  },
  {
   "cell_type": "code",
   "execution_count": 55,
   "metadata": {
    "execution": {
     "iopub.execute_input": "2025-02-13T16:07:54.814367Z",
     "iopub.status.busy": "2025-02-13T16:07:54.814022Z",
     "iopub.status.idle": "2025-02-13T16:07:54.911027Z",
     "shell.execute_reply": "2025-02-13T16:07:54.909913Z",
     "shell.execute_reply.started": "2025-02-13T16:07:54.814341Z"
    }
   },
   "outputs": [
    {
     "name": "stdout",
     "output_type": "stream",
     "text": [
      "              precision    recall  f1-score   support\n",
      "\n",
      "           0       1.00      1.00      1.00     25651\n",
      "           1       1.00      1.00      1.00     25559\n",
      "\n",
      "    accuracy                           1.00     51210\n",
      "   macro avg       1.00      1.00      1.00     51210\n",
      "weighted avg       1.00      1.00      1.00     51210\n",
      "\n"
     ]
    }
   ],
   "source": [
    "from sklearn.metrics import classification_report, confusion_matrix\n",
    "\n",
    "print(classification_report(y_test, pre))"
   ]
  },
  {
   "cell_type": "code",
   "execution_count": 65,
   "metadata": {},
   "outputs": [
    {
     "data": {
      "text/html": [
       "<style>#sk-container-id-4 {color: black;background-color: white;}#sk-container-id-4 pre{padding: 0;}#sk-container-id-4 div.sk-toggleable {background-color: white;}#sk-container-id-4 label.sk-toggleable__label {cursor: pointer;display: block;width: 100%;margin-bottom: 0;padding: 0.3em;box-sizing: border-box;text-align: center;}#sk-container-id-4 label.sk-toggleable__label-arrow:before {content: \"▸\";float: left;margin-right: 0.25em;color: #696969;}#sk-container-id-4 label.sk-toggleable__label-arrow:hover:before {color: black;}#sk-container-id-4 div.sk-estimator:hover label.sk-toggleable__label-arrow:before {color: black;}#sk-container-id-4 div.sk-toggleable__content {max-height: 0;max-width: 0;overflow: hidden;text-align: left;background-color: #f0f8ff;}#sk-container-id-4 div.sk-toggleable__content pre {margin: 0.2em;color: black;border-radius: 0.25em;background-color: #f0f8ff;}#sk-container-id-4 input.sk-toggleable__control:checked~div.sk-toggleable__content {max-height: 200px;max-width: 100%;overflow: auto;}#sk-container-id-4 input.sk-toggleable__control:checked~label.sk-toggleable__label-arrow:before {content: \"▾\";}#sk-container-id-4 div.sk-estimator input.sk-toggleable__control:checked~label.sk-toggleable__label {background-color: #d4ebff;}#sk-container-id-4 div.sk-label input.sk-toggleable__control:checked~label.sk-toggleable__label {background-color: #d4ebff;}#sk-container-id-4 input.sk-hidden--visually {border: 0;clip: rect(1px 1px 1px 1px);clip: rect(1px, 1px, 1px, 1px);height: 1px;margin: -1px;overflow: hidden;padding: 0;position: absolute;width: 1px;}#sk-container-id-4 div.sk-estimator {font-family: monospace;background-color: #f0f8ff;border: 1px dotted black;border-radius: 0.25em;box-sizing: border-box;margin-bottom: 0.5em;}#sk-container-id-4 div.sk-estimator:hover {background-color: #d4ebff;}#sk-container-id-4 div.sk-parallel-item::after {content: \"\";width: 100%;border-bottom: 1px solid gray;flex-grow: 1;}#sk-container-id-4 div.sk-label:hover label.sk-toggleable__label {background-color: #d4ebff;}#sk-container-id-4 div.sk-serial::before {content: \"\";position: absolute;border-left: 1px solid gray;box-sizing: border-box;top: 0;bottom: 0;left: 50%;z-index: 0;}#sk-container-id-4 div.sk-serial {display: flex;flex-direction: column;align-items: center;background-color: white;padding-right: 0.2em;padding-left: 0.2em;position: relative;}#sk-container-id-4 div.sk-item {position: relative;z-index: 1;}#sk-container-id-4 div.sk-parallel {display: flex;align-items: stretch;justify-content: center;background-color: white;position: relative;}#sk-container-id-4 div.sk-item::before, #sk-container-id-4 div.sk-parallel-item::before {content: \"\";position: absolute;border-left: 1px solid gray;box-sizing: border-box;top: 0;bottom: 0;left: 50%;z-index: -1;}#sk-container-id-4 div.sk-parallel-item {display: flex;flex-direction: column;z-index: 1;position: relative;background-color: white;}#sk-container-id-4 div.sk-parallel-item:first-child::after {align-self: flex-end;width: 50%;}#sk-container-id-4 div.sk-parallel-item:last-child::after {align-self: flex-start;width: 50%;}#sk-container-id-4 div.sk-parallel-item:only-child::after {width: 0;}#sk-container-id-4 div.sk-dashed-wrapped {border: 1px dashed gray;margin: 0 0.4em 0.5em 0.4em;box-sizing: border-box;padding-bottom: 0.4em;background-color: white;}#sk-container-id-4 div.sk-label label {font-family: monospace;font-weight: bold;display: inline-block;line-height: 1.2em;}#sk-container-id-4 div.sk-label-container {text-align: center;}#sk-container-id-4 div.sk-container {/* jupyter's `normalize.less` sets `[hidden] { display: none; }` but bootstrap.min.css set `[hidden] { display: none !important; }` so we also need the `!important` here to be able to override the default hidden behavior on the sphinx rendered scikit-learn.org. See: https://github.com/scikit-learn/scikit-learn/issues/21755 */display: inline-block !important;position: relative;}#sk-container-id-4 div.sk-text-repr-fallback {display: none;}</style><div id=\"sk-container-id-4\" class=\"sk-top-container\"><div class=\"sk-text-repr-fallback\"><pre>BernoulliRBM(learning_rate=0.01, n_iter=4, verbose=1)</pre><b>In a Jupyter environment, please rerun this cell to show the HTML representation or trust the notebook. <br />On GitHub, the HTML representation is unable to render, please try loading this page with nbviewer.org.</b></div><div class=\"sk-container\" hidden><div class=\"sk-item\"><div class=\"sk-estimator sk-toggleable\"><input class=\"sk-toggleable__control sk-hidden--visually\" id=\"sk-estimator-id-6\" type=\"checkbox\" checked><label for=\"sk-estimator-id-6\" class=\"sk-toggleable__label sk-toggleable__label-arrow\">BernoulliRBM</label><div class=\"sk-toggleable__content\"><pre>BernoulliRBM(learning_rate=0.01, n_iter=4, verbose=1)</pre></div></div></div></div></div>"
      ],
      "text/plain": [
       "BernoulliRBM(learning_rate=0.01, n_iter=4, verbose=1)"
      ]
     },
     "execution_count": 65,
     "metadata": {},
     "output_type": "execute_result"
    }
   ],
   "source": [
    "# Initialize the RBM model\n",
    "input_layer = BernoulliRBM(n_components=84, learning_rate=0.01, n_iter=4, verbose=1)\n",
    "layer_one = BernoulliRBM(n_components=128, learning_rate=0.01, n_iter=4, verbose=1)\n",
    "layer_two = BernoulliRBM(n_components=256, learning_rate=0.01, n_iter=4, verbose=1)\n",
    "layer_three = BernoulliRBM(n_components=256, learning_rate=0.01, n_iter=4, verbose=1)\n",
    "layer_three"
   ]
  },
  {
   "cell_type": "code",
   "execution_count": null,
   "metadata": {
    "execution": {
     "iopub.status.busy": "2025-02-10T17:34:02.821900Z",
     "iopub.status.idle": "2025-02-10T17:34:02.822295Z",
     "shell.execute_reply": "2025-02-10T17:34:02.822081Z"
    }
   },
   "outputs": [],
   "source": [
    "# rbn = rbm_layer.fit_transform(X_train, y_train)"
   ]
  },
  {
   "cell_type": "code",
   "execution_count": 67,
   "metadata": {},
   "outputs": [
    {
     "name": "stdout",
     "output_type": "stream",
     "text": [
      "[BernoulliRBM] Iteration 1, pseudo-likelihood = -10.33, time = 16.50s\n",
      "[BernoulliRBM] Iteration 2, pseudo-likelihood = -9.71, time = 16.46s\n",
      "[BernoulliRBM] Iteration 3, pseudo-likelihood = -9.50, time = 20.47s\n",
      "[BernoulliRBM] Iteration 4, pseudo-likelihood = -9.37, time = 19.15s\n",
      "[BernoulliRBM] Iteration 1, pseudo-likelihood = -37.31, time = 19.60s\n",
      "[BernoulliRBM] Iteration 2, pseudo-likelihood = -36.97, time = 24.29s\n",
      "[BernoulliRBM] Iteration 3, pseudo-likelihood = -37.22, time = 24.07s\n",
      "[BernoulliRBM] Iteration 4, pseudo-likelihood = -36.95, time = 24.03s\n",
      "[BernoulliRBM] Iteration 1, pseudo-likelihood = -25.02, time = 62.16s\n",
      "[BernoulliRBM] Iteration 2, pseudo-likelihood = -25.45, time = 74.76s\n",
      "[BernoulliRBM] Iteration 3, pseudo-likelihood = -25.41, time = 72.80s\n",
      "[BernoulliRBM] Iteration 4, pseudo-likelihood = -25.35, time = 70.56s\n"
     ]
    },
    {
     "data": {
      "text/plain": [
       "array([[0.33113243, 0.20527922, 0.25633481, ..., 0.54493904, 0.22406033,\n",
       "        0.16518311],\n",
       "       [0.31712518, 0.2792104 , 0.31101651, ..., 0.24537091, 0.21570268,\n",
       "        0.14822052],\n",
       "       [0.08919955, 0.29132815, 0.220611  , ..., 0.22706327, 0.32356131,\n",
       "        0.14680515],\n",
       "       ...,\n",
       "       [0.37317987, 0.2477149 , 0.29231614, ..., 0.18469554, 0.19546884,\n",
       "        0.08260935],\n",
       "       [0.31761306, 0.27938197, 0.31121281, ..., 0.24616924, 0.21606219,\n",
       "        0.1486756 ],\n",
       "       [0.33355745, 0.20557632, 0.25712348, ..., 0.54277911, 0.22372173,\n",
       "        0.1656559 ]])"
      ]
     },
     "execution_count": 67,
     "metadata": {},
     "output_type": "execute_result"
    }
   ],
   "source": [
    "# layer 1\n",
    "f1 = input_layer.fit(X_train) \n",
    "feature1 = f1.transform(X_train)\n",
    "\n",
    "# layer 2\n",
    "f2 = layer_one.fit(feature1)\n",
    "feature2 = f2.transform(feature1)\n",
    "\n",
    "# layer 3 \n",
    "f3 = layer_two.fit(feature2)\n",
    "final_feature = f3.transform(feature2)\n",
    "\n",
    "final_feature"
   ]
  },
  {
   "cell_type": "code",
   "execution_count": 68,
   "metadata": {},
   "outputs": [
    {
     "data": {
      "text/html": [
       "<style>#sk-container-id-5 {color: black;background-color: white;}#sk-container-id-5 pre{padding: 0;}#sk-container-id-5 div.sk-toggleable {background-color: white;}#sk-container-id-5 label.sk-toggleable__label {cursor: pointer;display: block;width: 100%;margin-bottom: 0;padding: 0.3em;box-sizing: border-box;text-align: center;}#sk-container-id-5 label.sk-toggleable__label-arrow:before {content: \"▸\";float: left;margin-right: 0.25em;color: #696969;}#sk-container-id-5 label.sk-toggleable__label-arrow:hover:before {color: black;}#sk-container-id-5 div.sk-estimator:hover label.sk-toggleable__label-arrow:before {color: black;}#sk-container-id-5 div.sk-toggleable__content {max-height: 0;max-width: 0;overflow: hidden;text-align: left;background-color: #f0f8ff;}#sk-container-id-5 div.sk-toggleable__content pre {margin: 0.2em;color: black;border-radius: 0.25em;background-color: #f0f8ff;}#sk-container-id-5 input.sk-toggleable__control:checked~div.sk-toggleable__content {max-height: 200px;max-width: 100%;overflow: auto;}#sk-container-id-5 input.sk-toggleable__control:checked~label.sk-toggleable__label-arrow:before {content: \"▾\";}#sk-container-id-5 div.sk-estimator input.sk-toggleable__control:checked~label.sk-toggleable__label {background-color: #d4ebff;}#sk-container-id-5 div.sk-label input.sk-toggleable__control:checked~label.sk-toggleable__label {background-color: #d4ebff;}#sk-container-id-5 input.sk-hidden--visually {border: 0;clip: rect(1px 1px 1px 1px);clip: rect(1px, 1px, 1px, 1px);height: 1px;margin: -1px;overflow: hidden;padding: 0;position: absolute;width: 1px;}#sk-container-id-5 div.sk-estimator {font-family: monospace;background-color: #f0f8ff;border: 1px dotted black;border-radius: 0.25em;box-sizing: border-box;margin-bottom: 0.5em;}#sk-container-id-5 div.sk-estimator:hover {background-color: #d4ebff;}#sk-container-id-5 div.sk-parallel-item::after {content: \"\";width: 100%;border-bottom: 1px solid gray;flex-grow: 1;}#sk-container-id-5 div.sk-label:hover label.sk-toggleable__label {background-color: #d4ebff;}#sk-container-id-5 div.sk-serial::before {content: \"\";position: absolute;border-left: 1px solid gray;box-sizing: border-box;top: 0;bottom: 0;left: 50%;z-index: 0;}#sk-container-id-5 div.sk-serial {display: flex;flex-direction: column;align-items: center;background-color: white;padding-right: 0.2em;padding-left: 0.2em;position: relative;}#sk-container-id-5 div.sk-item {position: relative;z-index: 1;}#sk-container-id-5 div.sk-parallel {display: flex;align-items: stretch;justify-content: center;background-color: white;position: relative;}#sk-container-id-5 div.sk-item::before, #sk-container-id-5 div.sk-parallel-item::before {content: \"\";position: absolute;border-left: 1px solid gray;box-sizing: border-box;top: 0;bottom: 0;left: 50%;z-index: -1;}#sk-container-id-5 div.sk-parallel-item {display: flex;flex-direction: column;z-index: 1;position: relative;background-color: white;}#sk-container-id-5 div.sk-parallel-item:first-child::after {align-self: flex-end;width: 50%;}#sk-container-id-5 div.sk-parallel-item:last-child::after {align-self: flex-start;width: 50%;}#sk-container-id-5 div.sk-parallel-item:only-child::after {width: 0;}#sk-container-id-5 div.sk-dashed-wrapped {border: 1px dashed gray;margin: 0 0.4em 0.5em 0.4em;box-sizing: border-box;padding-bottom: 0.4em;background-color: white;}#sk-container-id-5 div.sk-label label {font-family: monospace;font-weight: bold;display: inline-block;line-height: 1.2em;}#sk-container-id-5 div.sk-label-container {text-align: center;}#sk-container-id-5 div.sk-container {/* jupyter's `normalize.less` sets `[hidden] { display: none; }` but bootstrap.min.css set `[hidden] { display: none !important; }` so we also need the `!important` here to be able to override the default hidden behavior on the sphinx rendered scikit-learn.org. See: https://github.com/scikit-learn/scikit-learn/issues/21755 */display: inline-block !important;position: relative;}#sk-container-id-5 div.sk-text-repr-fallback {display: none;}</style><div id=\"sk-container-id-5\" class=\"sk-top-container\"><div class=\"sk-text-repr-fallback\"><pre>LogisticRegression(max_iter=1000)</pre><b>In a Jupyter environment, please rerun this cell to show the HTML representation or trust the notebook. <br />On GitHub, the HTML representation is unable to render, please try loading this page with nbviewer.org.</b></div><div class=\"sk-container\" hidden><div class=\"sk-item\"><div class=\"sk-estimator sk-toggleable\"><input class=\"sk-toggleable__control sk-hidden--visually\" id=\"sk-estimator-id-7\" type=\"checkbox\" checked><label for=\"sk-estimator-id-7\" class=\"sk-toggleable__label sk-toggleable__label-arrow\">LogisticRegression</label><div class=\"sk-toggleable__content\"><pre>LogisticRegression(max_iter=1000)</pre></div></div></div></div></div>"
      ],
      "text/plain": [
       "LogisticRegression(max_iter=1000)"
      ]
     },
     "execution_count": 68,
     "metadata": {},
     "output_type": "execute_result"
    }
   ],
   "source": [
    "# Train a classifier on top of the final RBM output\n",
    "classifier = LogisticRegression(max_iter=1000)\n",
    "classifier.fit(final_feature, y_train)"
   ]
  },
  {
   "cell_type": "code",
   "execution_count": 62,
   "metadata": {
    "execution": {
     "iopub.execute_input": "2025-02-13T16:13:12.309410Z",
     "iopub.status.busy": "2025-02-13T16:13:12.309004Z",
     "iopub.status.idle": "2025-02-13T16:13:12.689570Z",
     "shell.execute_reply": "2025-02-13T16:13:12.688527Z",
     "shell.execute_reply.started": "2025-02-13T16:13:12.309372Z"
    }
   },
   "outputs": [
    {
     "data": {
      "text/plain": [
       "array([[0.53153267, 0.17729428, 0.35290229, ..., 0.07372315, 0.24885112,\n",
       "        0.16304786],\n",
       "       [0.7926563 , 0.14598879, 0.31033949, ..., 0.04836873, 0.25672272,\n",
       "        0.13154802],\n",
       "       [0.65167789, 0.38454858, 0.23314115, ..., 0.44685598, 0.23209789,\n",
       "        0.28133623],\n",
       "       ...,\n",
       "       [0.79561881, 0.14695563, 0.31176853, ..., 0.04912365, 0.2574961 ,\n",
       "        0.13282532],\n",
       "       [0.53209771, 0.17715128, 0.352885  , ..., 0.07363808, 0.24883547,\n",
       "        0.16296598],\n",
       "       [0.00799695, 0.60217941, 0.16277793, ..., 0.20782607, 0.15164008,\n",
       "        0.27574083]])"
      ]
     },
     "execution_count": 62,
     "metadata": {},
     "output_type": "execute_result"
    }
   ],
   "source": [
    "# transformining the text sample \n",
    "t1 = f1.transform(X_test)\n",
    "t2 = f2.transform(t1)\n",
    "final_vector = f3.transform(t2)\n",
    "final_vector"
   ]
  },
  {
   "cell_type": "code",
   "execution_count": 64,
   "metadata": {
    "execution": {
     "iopub.execute_input": "2025-02-13T16:13:12.716881Z",
     "iopub.status.busy": "2025-02-13T16:13:12.716593Z",
     "iopub.status.idle": "2025-02-13T16:13:12.744077Z",
     "shell.execute_reply": "2025-02-13T16:13:12.743221Z",
     "shell.execute_reply.started": "2025-02-13T16:13:12.716856Z"
    }
   },
   "outputs": [
    {
     "data": {
      "text/plain": [
       "array([1, 0, 0, ..., 0, 1, 1], dtype=int8)"
      ]
     },
     "execution_count": 64,
     "metadata": {},
     "output_type": "execute_result"
    }
   ],
   "source": [
    "# prediction\n",
    "prediction = classifier.predict(final_vector)\n",
    "prediction"
   ]
  },
  {
   "cell_type": "code",
   "execution_count": 66,
   "metadata": {
    "execution": {
     "iopub.execute_input": "2025-02-13T16:13:12.849697Z",
     "iopub.status.busy": "2025-02-13T16:13:12.849211Z",
     "iopub.status.idle": "2025-02-13T16:13:12.951764Z",
     "shell.execute_reply": "2025-02-13T16:13:12.950431Z",
     "shell.execute_reply.started": "2025-02-13T16:13:12.849656Z"
    }
   },
   "outputs": [
    {
     "name": "stdout",
     "output_type": "stream",
     "text": [
      "0.9679945323179067\n",
      "              precision    recall  f1-score   support\n",
      "\n",
      "           0       1.00      0.94      0.97     25651\n",
      "           1       0.94      1.00      0.97     25559\n",
      "\n",
      "    accuracy                           0.97     51210\n",
      "   macro avg       0.97      0.97      0.97     51210\n",
      "weighted avg       0.97      0.97      0.97     51210\n",
      "\n"
     ]
    }
   ],
   "source": [
    "from sklearn.metrics import classification_report, confusion_matrix, accuracy_score, precision_score\n",
    "print(accuracy_score(y_test, prediction))\n",
    "print(classification_report(y_test, prediction))"
   ]
  },
  {
   "cell_type": "code",
   "execution_count": null,
   "metadata": {
    "execution": {
     "iopub.status.busy": "2025-02-10T17:34:02.829732Z",
     "iopub.status.idle": "2025-02-10T17:34:02.830011Z",
     "shell.execute_reply": "2025-02-10T17:34:02.829889Z"
    }
   },
   "outputs": [],
   "source": [
    "# # using pipeline to visualize the DBN Architecture.... \n",
    "# arch_list = []\n",
    "# for item in range(len(dbn.layers_objects)):\n",
    "#     arch_list.append((f'layer_{item+1}', dbn.layers_objects[item]))\n",
    "\n",
    "# arch_summary = Pipeline(\n",
    "#     arch_list\n",
    "# )\n",
    "\n",
    "# arch_summary"
   ]
  },
  {
   "cell_type": "code",
   "execution_count": 70,
   "metadata": {
    "execution": {
     "iopub.execute_input": "2025-02-14T13:52:27.528677Z",
     "iopub.status.busy": "2025-02-14T13:52:27.528389Z",
     "iopub.status.idle": "2025-02-14T13:52:31.951010Z",
     "shell.execute_reply": "2025-02-14T13:52:31.950094Z",
     "shell.execute_reply.started": "2025-02-14T13:52:27.528656Z"
    }
   },
   "outputs": [
    {
     "name": "stdout",
     "output_type": "stream",
     "text": [
      "Collecting pyswarms\n",
      "  Downloading pyswarms-1.3.0-py2.py3-none-any.whl.metadata (33 kB)\n",
      "Requirement already satisfied: scipy in /usr/local/lib/python3.10/dist-packages (from pyswarms) (1.13.1)\n",
      "Requirement already satisfied: numpy in /usr/local/lib/python3.10/dist-packages (from pyswarms) (1.26.4)\n",
      "Requirement already satisfied: matplotlib>=1.3.1 in /usr/local/lib/python3.10/dist-packages (from pyswarms) (3.7.5)\n",
      "Requirement already satisfied: attrs in /usr/local/lib/python3.10/dist-packages (from pyswarms) (25.1.0)\n",
      "Requirement already satisfied: tqdm in /usr/local/lib/python3.10/dist-packages (from pyswarms) (4.67.1)\n",
      "Requirement already satisfied: future in /usr/local/lib/python3.10/dist-packages (from pyswarms) (1.0.0)\n",
      "Requirement already satisfied: pyyaml in /usr/local/lib/python3.10/dist-packages (from pyswarms) (6.0.2)\n",
      "Requirement already satisfied: contourpy>=1.0.1 in /usr/local/lib/python3.10/dist-packages (from matplotlib>=1.3.1->pyswarms) (1.3.1)\n",
      "Requirement already satisfied: cycler>=0.10 in /usr/local/lib/python3.10/dist-packages (from matplotlib>=1.3.1->pyswarms) (0.12.1)\n",
      "Requirement already satisfied: fonttools>=4.22.0 in /usr/local/lib/python3.10/dist-packages (from matplotlib>=1.3.1->pyswarms) (4.55.3)\n",
      "Requirement already satisfied: kiwisolver>=1.0.1 in /usr/local/lib/python3.10/dist-packages (from matplotlib>=1.3.1->pyswarms) (1.4.7)\n",
      "Requirement already satisfied: packaging>=20.0 in /usr/local/lib/python3.10/dist-packages (from matplotlib>=1.3.1->pyswarms) (24.2)\n",
      "Requirement already satisfied: pillow>=6.2.0 in /usr/local/lib/python3.10/dist-packages (from matplotlib>=1.3.1->pyswarms) (11.0.0)\n",
      "Requirement already satisfied: pyparsing>=2.3.1 in /usr/local/lib/python3.10/dist-packages (from matplotlib>=1.3.1->pyswarms) (3.2.0)\n",
      "Requirement already satisfied: python-dateutil>=2.7 in /usr/local/lib/python3.10/dist-packages (from matplotlib>=1.3.1->pyswarms) (2.9.0.post0)\n",
      "Requirement already satisfied: mkl_fft in /usr/local/lib/python3.10/dist-packages (from numpy->pyswarms) (1.3.8)\n",
      "Requirement already satisfied: mkl_random in /usr/local/lib/python3.10/dist-packages (from numpy->pyswarms) (1.2.4)\n",
      "Requirement already satisfied: mkl_umath in /usr/local/lib/python3.10/dist-packages (from numpy->pyswarms) (0.1.1)\n",
      "Requirement already satisfied: mkl in /usr/local/lib/python3.10/dist-packages (from numpy->pyswarms) (2025.0.1)\n",
      "Requirement already satisfied: tbb4py in /usr/local/lib/python3.10/dist-packages (from numpy->pyswarms) (2022.0.0)\n",
      "Requirement already satisfied: mkl-service in /usr/local/lib/python3.10/dist-packages (from numpy->pyswarms) (2.4.1)\n",
      "Requirement already satisfied: six>=1.5 in /usr/local/lib/python3.10/dist-packages (from python-dateutil>=2.7->matplotlib>=1.3.1->pyswarms) (1.17.0)\n",
      "Requirement already satisfied: intel-openmp>=2024 in /usr/local/lib/python3.10/dist-packages (from mkl->numpy->pyswarms) (2024.2.0)\n",
      "Requirement already satisfied: tbb==2022.* in /usr/local/lib/python3.10/dist-packages (from mkl->numpy->pyswarms) (2022.0.0)\n",
      "Requirement already satisfied: tcmlib==1.* in /usr/local/lib/python3.10/dist-packages (from tbb==2022.*->mkl->numpy->pyswarms) (1.2.0)\n",
      "Requirement already satisfied: intel-cmplr-lib-rt in /usr/local/lib/python3.10/dist-packages (from mkl_umath->numpy->pyswarms) (2024.2.0)\n",
      "Requirement already satisfied: intel-cmplr-lib-ur==2024.2.0 in /usr/local/lib/python3.10/dist-packages (from intel-openmp>=2024->mkl->numpy->pyswarms) (2024.2.0)\n",
      "Downloading pyswarms-1.3.0-py2.py3-none-any.whl (104 kB)\n",
      "\u001b[2K   \u001b[90m━━━━━━━━━━━━━━━━━━━━━━━━━━━━━━━━━━━━━━━━\u001b[0m \u001b[32m104.1/104.1 kB\u001b[0m \u001b[31m7.1 MB/s\u001b[0m eta \u001b[36m0:00:00\u001b[0m\n",
      "\u001b[?25hInstalling collected packages: pyswarms\n",
      "Successfully installed pyswarms-1.3.0\n"
     ]
    }
   ],
   "source": [
    "!pip install pyswarms"
   ]
  },
  {
   "cell_type": "code",
   "execution_count": 57,
   "metadata": {},
   "outputs": [],
   "source": [
    "import numpy as np\n",
    "import pyswarms as ps\n",
    "from sklearn.neural_network import BernoulliRBM\n",
    "from sklearn.pipeline import Pipeline\n",
    "from sklearn.base import BaseEstimator, TransformerMixin\n",
    "from sklearn.datasets import fetch_openml\n",
    "from sklearn.model_selection import train_test_split\n",
    "from sklearn.metrics import accuracy_score\n",
    "from sklearn.linear_model import LogisticRegression\n",
    "from sklearn.metrics import classification_report, confusion_matrix, accuracy_score, precision_score,f1_score\n",
    "import seaborn as sn\n",
    "import random\n",
    "import time\n",
    "import warnings\n",
    "\n",
    "warnings.filterwarnings('ignore')"
   ]
  },
  {
   "cell_type": "markdown",
   "metadata": {},
   "source": [
    "#### METRIC HELPER METHOD"
   ]
  },
  {
   "cell_type": "code",
   "execution_count": 58,
   "metadata": {},
   "outputs": [],
   "source": [
    "def compute_metrics(tp, fp, fn, tn, avg_detection_time=None):\n",
    "    \"\"\"\n",
    "    Compute performance metrics based on the confusion matrix values.\n",
    "    Args:\n",
    "        tp (int): True Positives,   fp (int): False Positives\n",
    "        fn (int): False Negatives,  tn (int): True Negatives\n",
    "        avg_detection_time (float, optional): Average detection time in seconds. Defaults to None.\n",
    "\"\"\"\n",
    "\n",
    "    \n",
    "    # Safety check to prevent division by zero\n",
    "    total = tp + fp + fn + tn\n",
    "    positive = tp + fn\n",
    "    negative = tn + fp\n",
    "\n",
    "    # Metrics calculations\n",
    "    tpr = tp / positive if positive > 0 else 0  # True Positive Rate (Recall)\n",
    "    fpr = fp / negative if negative > 0 else 0  # False Positive Rate\n",
    "    fnr = fn / positive if positive > 0 else 0  # False Negative Rate\n",
    "    precision = tp / (tp + fp) if (tp + fp) > 0 else 0\n",
    "    recall = tpr  # Recall is the same as TPR\n",
    "    specificity = tn / negative if negative > 0 else 0\n",
    "    accuracy = (tp + tn) / total if total > 0 else 0\n",
    "\n",
    "    # Pack into dictionary\n",
    "    metrics = {\n",
    "        \"TPR (Recall)\": tpr,\n",
    "        \"FPR\": fpr,\n",
    "        \"FNR\": fnr,\n",
    "        \"Accuracy\": accuracy,\n",
    "        \"Precision\": precision,\n",
    "        \"Recall\": recall,\n",
    "        \"Specificity\": specificity,\n",
    "        \"AVG EXE TIME\": f'{avg_detection_time:.8f}'\n",
    "    }\n",
    "\n",
    "    return metrics  "
   ]
  },
  {
   "cell_type": "markdown",
   "metadata": {},
   "source": [
    "#### PSO ALGORITHM OPTIMIZATION (BEST DEEP LAYER SELECTOR)"
   ]
  },
  {
   "cell_type": "code",
   "execution_count": 96,
   "metadata": {},
   "outputs": [
    {
     "name": "stderr",
     "output_type": "stream",
     "text": [
      "2025-03-16 05:04:17,510 - pyswarms.single.global_best - INFO - Optimize for 5 iters with {'c1': 1.5, 'c2': 1.5, 'w': 0.5}\n",
      "pyswarms.single.global_best: 100%|█████████████████|5/5, best_cost=1e+6\n",
      "2025-03-16 05:04:17,529 - pyswarms.single.global_best - INFO - Optimization finished | best cost: 1000000.0, best pos: [5.57937745]\n"
     ]
    },
    {
     "name": "stdout",
     "output_type": "stream",
     "text": [
      "Best Number of RBM Stacks: 5\n"
     ]
    }
   ],
   "source": [
    "\n",
    "# Custom DBN Class (varying number of RBM stacks)\n",
    "class DBNClassifier(BaseEstimator, TransformerMixin):\n",
    "    def __init__(self, num_rbms=2, learning_rate=0.01, n_iter=4):\n",
    "        self.num_rbms = num_rbms\n",
    "        self.learning_rate = learning_rate\n",
    "        self.n_iter = n_iter\n",
    "        self.pipeline = None\n",
    "\n",
    "    def fit(self, X, y):\n",
    "        layers = []\n",
    "        rbm_sizes = [128, 256, 512]  # Fixed RBM sizes\n",
    "\n",
    "        for i in range(self.num_rbms):\n",
    "            layers.append((\"rbm\" + str(i), BernoulliRBM(n_components=rbm_sizes[i], learning_rate=self.learning_rate, n_iter=self.n_iter, verbose=0)))\n",
    "\n",
    "        layers.append((\"logreg\", LogisticRegression(max_iter=1000)))\n",
    "        self.pipeline = Pipeline(layers)\n",
    "        self.pipeline.fit(X, y)\n",
    "        return self\n",
    "\n",
    "    def predict(self, X):\n",
    "        return self.pipeline.predict(X)\n",
    "\n",
    "\n",
    "# Define PSO objective function (optimize num_rbms)\n",
    "def objective_function(params):\n",
    "    num_rbms = int(params[0])  # Number of RBMs\n",
    "\n",
    "    if num_rbms < 1 or num_rbms > 3:  # Limit number of RBM layers\n",
    "        return 1e6  # Penalize invalid solutions\n",
    "\n",
    "    model = DBNClassifier(num_rbms=num_rbms)\n",
    "    model.fit(X_train, y_train)\n",
    "    y_pred = model.predict(X_test)\n",
    "    return -accuracy_score(y_test, y_pred)  # PSO minimizes, so negate accuracy\n",
    "\n",
    "# Set PSO bounds (optimize only num_rbms between 1-3)\n",
    "bounds = [(4, 8)]\n",
    "\n",
    "# PSO optimization\n",
    "optimizer = ps.single.GlobalBestPSO(n_particles=10, dimensions=len(bounds), options={'c1': 1.5, 'c2': 1.5, 'w': 0.5}, bounds=np.array(bounds).T)\n",
    "\n",
    "best_cost, best_num_rbms = optimizer.optimize(objective_function, iters=5)\n",
    "\n",
    "print(\"Best Number of RBM Stacks:\", int(best_num_rbms[0]))"
   ]
  },
  {
   "cell_type": "markdown",
   "metadata": {},
   "source": [
    "#### GENETIC ALGORITHM OPTIMIZATION (BEST LEARNING RATE SELECTOR)"
   ]
  },
  {
   "cell_type": "code",
   "execution_count": 62,
   "metadata": {},
   "outputs": [
    {
     "name": "stdout",
     "output_type": "stream",
     "text": [
      "Generation 1: Best Learning Rate = 0.03435, Accuracy = 0.9756\n",
      "Generation 2: Best Learning Rate = 0.05521, Accuracy = 0.9695\n",
      "Generation 3: Best Learning Rate = 0.03435, Accuracy = 0.9718\n",
      "Generation 4: Best Learning Rate = 0.03435, Accuracy = 0.9718\n",
      "Generation 5: Best Learning Rate = 0.04626, Accuracy = 0.9721\n",
      "Generation 6: Best Learning Rate = 0.04626, Accuracy = 0.9723\n",
      "Generation 7: Best Learning Rate = 0.03925, Accuracy = 0.9690\n",
      "Generation 8: Best Learning Rate = 0.05521, Accuracy = 0.9704\n",
      "Generation 9: Best Learning Rate = 0.05521, Accuracy = 0.9694\n",
      "Generation 10: Best Learning Rate = 0.09549, Accuracy = 0.9649\n",
      "Optimal Learning Rate: 0.09549\n"
     ]
    }
   ],
   "source": [
    "# Genetic Algorithm\n",
    "# Fitness function\n",
    "def fitness_function(learning_rate):\n",
    "    model = DBNClassifier(learning_rate=learning_rate)\n",
    "    model.fit(X_train[:10000], y_train[:10000])\n",
    "    y_pred = model.predict(X_test[:10000])\n",
    "    return accuracy_score(y_test[:10000], y_pred)\n",
    "\n",
    "# Genetic Algorithm\n",
    "def genetic_algorithm(pop_size=10, generations=10, mutation_rate=0.1, bounds=(0.001, 0.1)):\n",
    "    # Initialize population\n",
    "    population = np.random.uniform(bounds[0], bounds[1], pop_size)\n",
    "    for generation in range(generations):\n",
    "        # Evaluate fitness\n",
    "        fitness = np.array([fitness_function(ind) for ind in population])\n",
    "        # Select the best individuals\n",
    "        sorted_indices = np.argsort(fitness)[::-1]\n",
    "        parents = population[sorted_indices[:pop_size // 2]]\n",
    "        # Crossover: Generate offspring\n",
    "        offspring = []\n",
    "        for _ in range(pop_size // 2):\n",
    "            parent1, parent2 = random.sample(list(parents), 2)\n",
    "            child = (parent1 + parent2) / 2  # Average crossover\n",
    "            offspring.append(child)\n",
    "        # Mutation: Apply random changes\n",
    "        offspring = np.array(offspring)\n",
    "        mutations = np.random.uniform(-mutation_rate, mutation_rate, size=offspring.shape)\n",
    "        offspring += mutations\n",
    "        offspring = np.clip(offspring, bounds[0], bounds[1])  # Ensure within bounds\n",
    "        # Create the new population\n",
    "        population = np.concatenate((parents, offspring))\n",
    "        # Log progress\n",
    "        best_individual = population[np.argmax(fitness)]\n",
    "        best_fitness = max(fitness)\n",
    "        print(f\"Generation {generation + 1}: Best Learning Rate = {best_individual:.5f}, Accuracy = {best_fitness:.4f}\")\n",
    "    \n",
    "    # Return the best learning rate\n",
    "    best_individual = population[np.argmax(fitness)]\n",
    "    return best_individual\n",
    "\n",
    "# Run GA\n",
    "best_learning_rate = genetic_algorithm()\n",
    "print(f\"Optimal Learning Rate: {best_learning_rate:.5f}\")"
   ]
  },
  {
   "cell_type": "markdown",
   "metadata": {},
   "source": [
    "#### PROPOSED DBN ARCHITECTURE"
   ]
  },
  {
   "cell_type": "code",
   "execution_count": 63,
   "metadata": {},
   "outputs": [],
   "source": [
    "# mergin everything...\n",
    "class DBN_network: \n",
    "\n",
    "    def __init__(self, neurons=100, learning_rate=0.8, epoch=4): \n",
    "        self.neurons = neurons\n",
    "        self.learning_rate=learning_rate \n",
    "        self.epoch = epoch\n",
    "        self.layers_objects = []\n",
    "        print('parameter initialize...')\n",
    "\n",
    "    def config_network(self, neurons, layers=2, learning_rate=0.8):\n",
    "        self.layers_objects = []\n",
    "        if layers != len(neurons):\n",
    "            print(f' Neuron List Value {len(neurons)} must equal Layer value {layers} layers')\n",
    "        else: \n",
    "            for ep in range(layers): \n",
    "                # print(f' \\n Epoch : {ep}')\n",
    "                ly = BernoulliRBM(n_components=neurons[ep], learning_rate=learning_rate, n_iter=4, verbose=1)\n",
    "                self.layers_objects.append(ly)\n",
    "                # print(ly)\n",
    "\n",
    "            # specify the classification head\n",
    "            classifier = LogisticRegression(max_iter=1000)\n",
    "            self.layers_objects.append(classifier)\n",
    "            \n",
    "   # to visualize the architecture using pipeline\n",
    "    def summary(self):\n",
    "        # using pipeline to visualize the DBN Architecture.... \n",
    "        arch_list = []\n",
    "        for item in range(len(self.layers_objects)):\n",
    "            arch_list.append((f'layer_{item+1}', self.layers_objects[item]))\n",
    "        \n",
    "        self.arch_summary = Pipeline(\n",
    "            arch_list\n",
    "        )\n",
    "\n",
    "        print('DBN architecture Summary')\n",
    "        return self.arch_summary\n",
    "\n",
    "    # function to train the model... \n",
    "    def fit_model(self, X_train, y_train): \n",
    "        print(f'Training For {len(self.layers_objects[:-1])} Layer')\n",
    "        self.fited_arch = []\n",
    "        init_sample = X_train\n",
    "        init_y = y_train\n",
    "        count = 0 \n",
    "        for layer in self.layers_objects[:-1]:\n",
    "            print(f'\\n *******************  EPOCH {count + 1} **********************')\n",
    "            # fit and transform....  \n",
    "            fited = layer.fit(init_sample)\n",
    "            feature  = fited.transform(init_sample)\n",
    "        \n",
    "            # update weights\n",
    "            init_sample = feature\n",
    "        \n",
    "            # store layer weights\n",
    "            self.fited_arch.append(fited)\n",
    "            count = count + 1\n",
    "            \n",
    "        # fit the classification head \n",
    "        print('\\n+-----------------------------------------+')\n",
    "        self.class_head = self.layers_objects[-1].fit(init_sample, init_y)\n",
    "        \n",
    "        return self.arch_summary\n",
    "\n",
    "    # prediction  function \n",
    "    def predict(self, X_test, y_test): \n",
    "        init_sample = X_test\n",
    "        init_y = y_test\n",
    "        for layer in self.fited_arch:\n",
    "            \n",
    "            # transform....  \n",
    "            feature  = layer.transform(init_sample)\n",
    "            \n",
    "            # update weights\n",
    "            init_sample = feature\n",
    "            print(f'Calculated Feature {init_sample.shape}')\n",
    "                           \n",
    "        # fit the classification head \n",
    "        if self.fited_arch != []: \n",
    "            prediction = self.class_head.predict(init_sample)\n",
    "            pre = {'pre': prediction}\n",
    "            return pre\n",
    "        else: \n",
    "            error = 'Error: model should be trained first....'\n",
    "            return {error, []}\n"
   ]
  },
  {
   "cell_type": "markdown",
   "metadata": {},
   "source": [
    "#### DBN WITH ONE RBM STARCK"
   ]
  },
  {
   "cell_type": "code",
   "execution_count": 66,
   "metadata": {},
   "outputs": [
    {
     "name": "stdout",
     "output_type": "stream",
     "text": [
      "parameter initialize...\n",
      "DBN architecture Summary\n"
     ]
    },
    {
     "data": {
      "text/html": [
       "<style>#sk-container-id-5 {color: black;background-color: white;}#sk-container-id-5 pre{padding: 0;}#sk-container-id-5 div.sk-toggleable {background-color: white;}#sk-container-id-5 label.sk-toggleable__label {cursor: pointer;display: block;width: 100%;margin-bottom: 0;padding: 0.3em;box-sizing: border-box;text-align: center;}#sk-container-id-5 label.sk-toggleable__label-arrow:before {content: \"▸\";float: left;margin-right: 0.25em;color: #696969;}#sk-container-id-5 label.sk-toggleable__label-arrow:hover:before {color: black;}#sk-container-id-5 div.sk-estimator:hover label.sk-toggleable__label-arrow:before {color: black;}#sk-container-id-5 div.sk-toggleable__content {max-height: 0;max-width: 0;overflow: hidden;text-align: left;background-color: #f0f8ff;}#sk-container-id-5 div.sk-toggleable__content pre {margin: 0.2em;color: black;border-radius: 0.25em;background-color: #f0f8ff;}#sk-container-id-5 input.sk-toggleable__control:checked~div.sk-toggleable__content {max-height: 200px;max-width: 100%;overflow: auto;}#sk-container-id-5 input.sk-toggleable__control:checked~label.sk-toggleable__label-arrow:before {content: \"▾\";}#sk-container-id-5 div.sk-estimator input.sk-toggleable__control:checked~label.sk-toggleable__label {background-color: #d4ebff;}#sk-container-id-5 div.sk-label input.sk-toggleable__control:checked~label.sk-toggleable__label {background-color: #d4ebff;}#sk-container-id-5 input.sk-hidden--visually {border: 0;clip: rect(1px 1px 1px 1px);clip: rect(1px, 1px, 1px, 1px);height: 1px;margin: -1px;overflow: hidden;padding: 0;position: absolute;width: 1px;}#sk-container-id-5 div.sk-estimator {font-family: monospace;background-color: #f0f8ff;border: 1px dotted black;border-radius: 0.25em;box-sizing: border-box;margin-bottom: 0.5em;}#sk-container-id-5 div.sk-estimator:hover {background-color: #d4ebff;}#sk-container-id-5 div.sk-parallel-item::after {content: \"\";width: 100%;border-bottom: 1px solid gray;flex-grow: 1;}#sk-container-id-5 div.sk-label:hover label.sk-toggleable__label {background-color: #d4ebff;}#sk-container-id-5 div.sk-serial::before {content: \"\";position: absolute;border-left: 1px solid gray;box-sizing: border-box;top: 0;bottom: 0;left: 50%;z-index: 0;}#sk-container-id-5 div.sk-serial {display: flex;flex-direction: column;align-items: center;background-color: white;padding-right: 0.2em;padding-left: 0.2em;position: relative;}#sk-container-id-5 div.sk-item {position: relative;z-index: 1;}#sk-container-id-5 div.sk-parallel {display: flex;align-items: stretch;justify-content: center;background-color: white;position: relative;}#sk-container-id-5 div.sk-item::before, #sk-container-id-5 div.sk-parallel-item::before {content: \"\";position: absolute;border-left: 1px solid gray;box-sizing: border-box;top: 0;bottom: 0;left: 50%;z-index: -1;}#sk-container-id-5 div.sk-parallel-item {display: flex;flex-direction: column;z-index: 1;position: relative;background-color: white;}#sk-container-id-5 div.sk-parallel-item:first-child::after {align-self: flex-end;width: 50%;}#sk-container-id-5 div.sk-parallel-item:last-child::after {align-self: flex-start;width: 50%;}#sk-container-id-5 div.sk-parallel-item:only-child::after {width: 0;}#sk-container-id-5 div.sk-dashed-wrapped {border: 1px dashed gray;margin: 0 0.4em 0.5em 0.4em;box-sizing: border-box;padding-bottom: 0.4em;background-color: white;}#sk-container-id-5 div.sk-label label {font-family: monospace;font-weight: bold;display: inline-block;line-height: 1.2em;}#sk-container-id-5 div.sk-label-container {text-align: center;}#sk-container-id-5 div.sk-container {/* jupyter's `normalize.less` sets `[hidden] { display: none; }` but bootstrap.min.css set `[hidden] { display: none !important; }` so we also need the `!important` here to be able to override the default hidden behavior on the sphinx rendered scikit-learn.org. See: https://github.com/scikit-learn/scikit-learn/issues/21755 */display: inline-block !important;position: relative;}#sk-container-id-5 div.sk-text-repr-fallback {display: none;}</style><div id=\"sk-container-id-5\" class=\"sk-top-container\"><div class=\"sk-text-repr-fallback\"><pre>Pipeline(steps=[(&#x27;layer_1&#x27;,\n",
       "                 BernoulliRBM(learning_rate=0.09549, n_components=20, n_iter=4,\n",
       "                              verbose=1)),\n",
       "                (&#x27;layer_2&#x27;,\n",
       "                 BernoulliRBM(learning_rate=0.09549, n_components=42, n_iter=4,\n",
       "                              verbose=1)),\n",
       "                (&#x27;layer_3&#x27;,\n",
       "                 BernoulliRBM(learning_rate=0.09549, n_components=84, n_iter=4,\n",
       "                              verbose=1)),\n",
       "                (&#x27;layer_4&#x27;,\n",
       "                 BernoulliRBM(learning_rate=0.09549, n_components=84, n_iter=4,\n",
       "                              verbose=1)),\n",
       "                (&#x27;layer_5&#x27;, LogisticRegression(max_iter=1000))])</pre><b>In a Jupyter environment, please rerun this cell to show the HTML representation or trust the notebook. <br />On GitHub, the HTML representation is unable to render, please try loading this page with nbviewer.org.</b></div><div class=\"sk-container\" hidden><div class=\"sk-item sk-dashed-wrapped\"><div class=\"sk-label-container\"><div class=\"sk-label sk-toggleable\"><input class=\"sk-toggleable__control sk-hidden--visually\" id=\"sk-estimator-id-7\" type=\"checkbox\" ><label for=\"sk-estimator-id-7\" class=\"sk-toggleable__label sk-toggleable__label-arrow\">Pipeline</label><div class=\"sk-toggleable__content\"><pre>Pipeline(steps=[(&#x27;layer_1&#x27;,\n",
       "                 BernoulliRBM(learning_rate=0.09549, n_components=20, n_iter=4,\n",
       "                              verbose=1)),\n",
       "                (&#x27;layer_2&#x27;,\n",
       "                 BernoulliRBM(learning_rate=0.09549, n_components=42, n_iter=4,\n",
       "                              verbose=1)),\n",
       "                (&#x27;layer_3&#x27;,\n",
       "                 BernoulliRBM(learning_rate=0.09549, n_components=84, n_iter=4,\n",
       "                              verbose=1)),\n",
       "                (&#x27;layer_4&#x27;,\n",
       "                 BernoulliRBM(learning_rate=0.09549, n_components=84, n_iter=4,\n",
       "                              verbose=1)),\n",
       "                (&#x27;layer_5&#x27;, LogisticRegression(max_iter=1000))])</pre></div></div></div><div class=\"sk-serial\"><div class=\"sk-item\"><div class=\"sk-estimator sk-toggleable\"><input class=\"sk-toggleable__control sk-hidden--visually\" id=\"sk-estimator-id-8\" type=\"checkbox\" ><label for=\"sk-estimator-id-8\" class=\"sk-toggleable__label sk-toggleable__label-arrow\">BernoulliRBM</label><div class=\"sk-toggleable__content\"><pre>BernoulliRBM(learning_rate=0.09549, n_components=20, n_iter=4, verbose=1)</pre></div></div></div><div class=\"sk-item\"><div class=\"sk-estimator sk-toggleable\"><input class=\"sk-toggleable__control sk-hidden--visually\" id=\"sk-estimator-id-9\" type=\"checkbox\" ><label for=\"sk-estimator-id-9\" class=\"sk-toggleable__label sk-toggleable__label-arrow\">BernoulliRBM</label><div class=\"sk-toggleable__content\"><pre>BernoulliRBM(learning_rate=0.09549, n_components=42, n_iter=4, verbose=1)</pre></div></div></div><div class=\"sk-item\"><div class=\"sk-estimator sk-toggleable\"><input class=\"sk-toggleable__control sk-hidden--visually\" id=\"sk-estimator-id-10\" type=\"checkbox\" ><label for=\"sk-estimator-id-10\" class=\"sk-toggleable__label sk-toggleable__label-arrow\">BernoulliRBM</label><div class=\"sk-toggleable__content\"><pre>BernoulliRBM(learning_rate=0.09549, n_components=84, n_iter=4, verbose=1)</pre></div></div></div><div class=\"sk-item\"><div class=\"sk-estimator sk-toggleable\"><input class=\"sk-toggleable__control sk-hidden--visually\" id=\"sk-estimator-id-11\" type=\"checkbox\" ><label for=\"sk-estimator-id-11\" class=\"sk-toggleable__label sk-toggleable__label-arrow\">BernoulliRBM</label><div class=\"sk-toggleable__content\"><pre>BernoulliRBM(learning_rate=0.09549, n_components=84, n_iter=4, verbose=1)</pre></div></div></div><div class=\"sk-item\"><div class=\"sk-estimator sk-toggleable\"><input class=\"sk-toggleable__control sk-hidden--visually\" id=\"sk-estimator-id-12\" type=\"checkbox\" ><label for=\"sk-estimator-id-12\" class=\"sk-toggleable__label sk-toggleable__label-arrow\">LogisticRegression</label><div class=\"sk-toggleable__content\"><pre>LogisticRegression(max_iter=1000)</pre></div></div></div></div></div></div></div>"
      ],
      "text/plain": [
       "Pipeline(steps=[('layer_1',\n",
       "                 BernoulliRBM(learning_rate=0.09549, n_components=20, n_iter=4,\n",
       "                              verbose=1)),\n",
       "                ('layer_2',\n",
       "                 BernoulliRBM(learning_rate=0.09549, n_components=42, n_iter=4,\n",
       "                              verbose=1)),\n",
       "                ('layer_3',\n",
       "                 BernoulliRBM(learning_rate=0.09549, n_components=84, n_iter=4,\n",
       "                              verbose=1)),\n",
       "                ('layer_4',\n",
       "                 BernoulliRBM(learning_rate=0.09549, n_components=84, n_iter=4,\n",
       "                              verbose=1)),\n",
       "                ('layer_5', LogisticRegression(max_iter=1000))])"
      ]
     },
     "execution_count": 66,
     "metadata": {},
     "output_type": "execute_result"
    }
   ],
   "source": [
    "# initializaing DBN\n",
    "dbn = DBN_network()\n",
    "# configure the DBN... \n",
    "dbn.config_network([20, 42, 84, 84], layers=4, learning_rate=0.09549)\n",
    "\n",
    "# showing the DBN architecture.. \n",
    "dbn.summary()"
   ]
  },
  {
   "cell_type": "code",
   "execution_count": 67,
   "metadata": {},
   "outputs": [
    {
     "name": "stdout",
     "output_type": "stream",
     "text": [
      "Training For 4 Layer\n",
      "\n",
      " *******************  EPOCH 1 **********************\n",
      "[BernoulliRBM] Iteration 1, pseudo-likelihood = -9.15, time = 5.04s\n",
      "[BernoulliRBM] Iteration 2, pseudo-likelihood = -11.32, time = 5.55s\n",
      "[BernoulliRBM] Iteration 3, pseudo-likelihood = -10.61, time = 4.95s\n",
      "[BernoulliRBM] Iteration 4, pseudo-likelihood = -12.70, time = 5.69s\n",
      "\n",
      " *******************  EPOCH 2 **********************\n",
      "[BernoulliRBM] Iteration 1, pseudo-likelihood = -1.59, time = 3.89s\n",
      "[BernoulliRBM] Iteration 2, pseudo-likelihood = -1.33, time = 4.98s\n",
      "[BernoulliRBM] Iteration 3, pseudo-likelihood = -1.27, time = 4.81s\n",
      "[BernoulliRBM] Iteration 4, pseudo-likelihood = -1.12, time = 4.65s\n",
      "\n",
      " *******************  EPOCH 3 **********************\n",
      "[BernoulliRBM] Iteration 1, pseudo-likelihood = -2.04, time = 6.26s\n",
      "[BernoulliRBM] Iteration 2, pseudo-likelihood = -0.84, time = 8.92s\n",
      "[BernoulliRBM] Iteration 3, pseudo-likelihood = -14.26, time = 8.31s\n",
      "[BernoulliRBM] Iteration 4, pseudo-likelihood = -0.80, time = 8.18s\n",
      "\n",
      " *******************  EPOCH 4 **********************\n",
      "[BernoulliRBM] Iteration 1, pseudo-likelihood = -3.05, time = 7.65s\n",
      "[BernoulliRBM] Iteration 2, pseudo-likelihood = -1.97, time = 9.55s\n",
      "[BernoulliRBM] Iteration 3, pseudo-likelihood = -1.73, time = 9.45s\n",
      "[BernoulliRBM] Iteration 4, pseudo-likelihood = -2.69, time = 9.60s\n",
      "\n",
      "+-----------------------------------------+\n"
     ]
    },
    {
     "data": {
      "text/html": [
       "<style>#sk-container-id-6 {color: black;background-color: white;}#sk-container-id-6 pre{padding: 0;}#sk-container-id-6 div.sk-toggleable {background-color: white;}#sk-container-id-6 label.sk-toggleable__label {cursor: pointer;display: block;width: 100%;margin-bottom: 0;padding: 0.3em;box-sizing: border-box;text-align: center;}#sk-container-id-6 label.sk-toggleable__label-arrow:before {content: \"▸\";float: left;margin-right: 0.25em;color: #696969;}#sk-container-id-6 label.sk-toggleable__label-arrow:hover:before {color: black;}#sk-container-id-6 div.sk-estimator:hover label.sk-toggleable__label-arrow:before {color: black;}#sk-container-id-6 div.sk-toggleable__content {max-height: 0;max-width: 0;overflow: hidden;text-align: left;background-color: #f0f8ff;}#sk-container-id-6 div.sk-toggleable__content pre {margin: 0.2em;color: black;border-radius: 0.25em;background-color: #f0f8ff;}#sk-container-id-6 input.sk-toggleable__control:checked~div.sk-toggleable__content {max-height: 200px;max-width: 100%;overflow: auto;}#sk-container-id-6 input.sk-toggleable__control:checked~label.sk-toggleable__label-arrow:before {content: \"▾\";}#sk-container-id-6 div.sk-estimator input.sk-toggleable__control:checked~label.sk-toggleable__label {background-color: #d4ebff;}#sk-container-id-6 div.sk-label input.sk-toggleable__control:checked~label.sk-toggleable__label {background-color: #d4ebff;}#sk-container-id-6 input.sk-hidden--visually {border: 0;clip: rect(1px 1px 1px 1px);clip: rect(1px, 1px, 1px, 1px);height: 1px;margin: -1px;overflow: hidden;padding: 0;position: absolute;width: 1px;}#sk-container-id-6 div.sk-estimator {font-family: monospace;background-color: #f0f8ff;border: 1px dotted black;border-radius: 0.25em;box-sizing: border-box;margin-bottom: 0.5em;}#sk-container-id-6 div.sk-estimator:hover {background-color: #d4ebff;}#sk-container-id-6 div.sk-parallel-item::after {content: \"\";width: 100%;border-bottom: 1px solid gray;flex-grow: 1;}#sk-container-id-6 div.sk-label:hover label.sk-toggleable__label {background-color: #d4ebff;}#sk-container-id-6 div.sk-serial::before {content: \"\";position: absolute;border-left: 1px solid gray;box-sizing: border-box;top: 0;bottom: 0;left: 50%;z-index: 0;}#sk-container-id-6 div.sk-serial {display: flex;flex-direction: column;align-items: center;background-color: white;padding-right: 0.2em;padding-left: 0.2em;position: relative;}#sk-container-id-6 div.sk-item {position: relative;z-index: 1;}#sk-container-id-6 div.sk-parallel {display: flex;align-items: stretch;justify-content: center;background-color: white;position: relative;}#sk-container-id-6 div.sk-item::before, #sk-container-id-6 div.sk-parallel-item::before {content: \"\";position: absolute;border-left: 1px solid gray;box-sizing: border-box;top: 0;bottom: 0;left: 50%;z-index: -1;}#sk-container-id-6 div.sk-parallel-item {display: flex;flex-direction: column;z-index: 1;position: relative;background-color: white;}#sk-container-id-6 div.sk-parallel-item:first-child::after {align-self: flex-end;width: 50%;}#sk-container-id-6 div.sk-parallel-item:last-child::after {align-self: flex-start;width: 50%;}#sk-container-id-6 div.sk-parallel-item:only-child::after {width: 0;}#sk-container-id-6 div.sk-dashed-wrapped {border: 1px dashed gray;margin: 0 0.4em 0.5em 0.4em;box-sizing: border-box;padding-bottom: 0.4em;background-color: white;}#sk-container-id-6 div.sk-label label {font-family: monospace;font-weight: bold;display: inline-block;line-height: 1.2em;}#sk-container-id-6 div.sk-label-container {text-align: center;}#sk-container-id-6 div.sk-container {/* jupyter's `normalize.less` sets `[hidden] { display: none; }` but bootstrap.min.css set `[hidden] { display: none !important; }` so we also need the `!important` here to be able to override the default hidden behavior on the sphinx rendered scikit-learn.org. See: https://github.com/scikit-learn/scikit-learn/issues/21755 */display: inline-block !important;position: relative;}#sk-container-id-6 div.sk-text-repr-fallback {display: none;}</style><div id=\"sk-container-id-6\" class=\"sk-top-container\"><div class=\"sk-text-repr-fallback\"><pre>Pipeline(steps=[(&#x27;layer_1&#x27;,\n",
       "                 BernoulliRBM(learning_rate=0.09549, n_components=20, n_iter=4,\n",
       "                              verbose=1)),\n",
       "                (&#x27;layer_2&#x27;,\n",
       "                 BernoulliRBM(learning_rate=0.09549, n_components=42, n_iter=4,\n",
       "                              verbose=1)),\n",
       "                (&#x27;layer_3&#x27;,\n",
       "                 BernoulliRBM(learning_rate=0.09549, n_components=84, n_iter=4,\n",
       "                              verbose=1)),\n",
       "                (&#x27;layer_4&#x27;,\n",
       "                 BernoulliRBM(learning_rate=0.09549, n_components=84, n_iter=4,\n",
       "                              verbose=1)),\n",
       "                (&#x27;layer_5&#x27;, LogisticRegression(max_iter=1000))])</pre><b>In a Jupyter environment, please rerun this cell to show the HTML representation or trust the notebook. <br />On GitHub, the HTML representation is unable to render, please try loading this page with nbviewer.org.</b></div><div class=\"sk-container\" hidden><div class=\"sk-item sk-dashed-wrapped\"><div class=\"sk-label-container\"><div class=\"sk-label sk-toggleable\"><input class=\"sk-toggleable__control sk-hidden--visually\" id=\"sk-estimator-id-13\" type=\"checkbox\" ><label for=\"sk-estimator-id-13\" class=\"sk-toggleable__label sk-toggleable__label-arrow\">Pipeline</label><div class=\"sk-toggleable__content\"><pre>Pipeline(steps=[(&#x27;layer_1&#x27;,\n",
       "                 BernoulliRBM(learning_rate=0.09549, n_components=20, n_iter=4,\n",
       "                              verbose=1)),\n",
       "                (&#x27;layer_2&#x27;,\n",
       "                 BernoulliRBM(learning_rate=0.09549, n_components=42, n_iter=4,\n",
       "                              verbose=1)),\n",
       "                (&#x27;layer_3&#x27;,\n",
       "                 BernoulliRBM(learning_rate=0.09549, n_components=84, n_iter=4,\n",
       "                              verbose=1)),\n",
       "                (&#x27;layer_4&#x27;,\n",
       "                 BernoulliRBM(learning_rate=0.09549, n_components=84, n_iter=4,\n",
       "                              verbose=1)),\n",
       "                (&#x27;layer_5&#x27;, LogisticRegression(max_iter=1000))])</pre></div></div></div><div class=\"sk-serial\"><div class=\"sk-item\"><div class=\"sk-estimator sk-toggleable\"><input class=\"sk-toggleable__control sk-hidden--visually\" id=\"sk-estimator-id-14\" type=\"checkbox\" ><label for=\"sk-estimator-id-14\" class=\"sk-toggleable__label sk-toggleable__label-arrow\">BernoulliRBM</label><div class=\"sk-toggleable__content\"><pre>BernoulliRBM(learning_rate=0.09549, n_components=20, n_iter=4, verbose=1)</pre></div></div></div><div class=\"sk-item\"><div class=\"sk-estimator sk-toggleable\"><input class=\"sk-toggleable__control sk-hidden--visually\" id=\"sk-estimator-id-15\" type=\"checkbox\" ><label for=\"sk-estimator-id-15\" class=\"sk-toggleable__label sk-toggleable__label-arrow\">BernoulliRBM</label><div class=\"sk-toggleable__content\"><pre>BernoulliRBM(learning_rate=0.09549, n_components=42, n_iter=4, verbose=1)</pre></div></div></div><div class=\"sk-item\"><div class=\"sk-estimator sk-toggleable\"><input class=\"sk-toggleable__control sk-hidden--visually\" id=\"sk-estimator-id-16\" type=\"checkbox\" ><label for=\"sk-estimator-id-16\" class=\"sk-toggleable__label sk-toggleable__label-arrow\">BernoulliRBM</label><div class=\"sk-toggleable__content\"><pre>BernoulliRBM(learning_rate=0.09549, n_components=84, n_iter=4, verbose=1)</pre></div></div></div><div class=\"sk-item\"><div class=\"sk-estimator sk-toggleable\"><input class=\"sk-toggleable__control sk-hidden--visually\" id=\"sk-estimator-id-17\" type=\"checkbox\" ><label for=\"sk-estimator-id-17\" class=\"sk-toggleable__label sk-toggleable__label-arrow\">BernoulliRBM</label><div class=\"sk-toggleable__content\"><pre>BernoulliRBM(learning_rate=0.09549, n_components=84, n_iter=4, verbose=1)</pre></div></div></div><div class=\"sk-item\"><div class=\"sk-estimator sk-toggleable\"><input class=\"sk-toggleable__control sk-hidden--visually\" id=\"sk-estimator-id-18\" type=\"checkbox\" ><label for=\"sk-estimator-id-18\" class=\"sk-toggleable__label sk-toggleable__label-arrow\">LogisticRegression</label><div class=\"sk-toggleable__content\"><pre>LogisticRegression(max_iter=1000)</pre></div></div></div></div></div></div></div>"
      ],
      "text/plain": [
       "Pipeline(steps=[('layer_1',\n",
       "                 BernoulliRBM(learning_rate=0.09549, n_components=20, n_iter=4,\n",
       "                              verbose=1)),\n",
       "                ('layer_2',\n",
       "                 BernoulliRBM(learning_rate=0.09549, n_components=42, n_iter=4,\n",
       "                              verbose=1)),\n",
       "                ('layer_3',\n",
       "                 BernoulliRBM(learning_rate=0.09549, n_components=84, n_iter=4,\n",
       "                              verbose=1)),\n",
       "                ('layer_4',\n",
       "                 BernoulliRBM(learning_rate=0.09549, n_components=84, n_iter=4,\n",
       "                              verbose=1)),\n",
       "                ('layer_5', LogisticRegression(max_iter=1000))])"
      ]
     },
     "execution_count": 67,
     "metadata": {},
     "output_type": "execute_result"
    }
   ],
   "source": [
    "# training the arhitecture\n",
    "dbn.fit_model(X_train, y_train)"
   ]
  },
  {
   "cell_type": "code",
   "execution_count": 69,
   "metadata": {},
   "outputs": [
    {
     "name": "stdout",
     "output_type": "stream",
     "text": [
      "Calculated Feature (51210, 20)\n",
      "Calculated Feature (51210, 42)\n",
      "Calculated Feature (51210, 84)\n",
      "Calculated Feature (51210, 84)\n",
      "\n",
      "EXE TIME\n",
      "Total Detection Time : 1.559104\n",
      "AVG Detection Time : 0.00003045 \n",
      "\n",
      "              precision    recall  f1-score   support\n",
      "\n",
      "           0       1.00      0.41      0.59     25605\n",
      "           1       0.63      1.00      0.77     25605\n",
      "\n",
      "    accuracy                           0.71     51210\n",
      "   macro avg       0.82      0.71      0.68     51210\n",
      "weighted avg       0.82      0.71      0.68     51210\n",
      "\n",
      "\n",
      "\n"
     ]
    },
    {
     "data": {
      "text/plain": [
       "<Axes: >"
      ]
     },
     "execution_count": 69,
     "metadata": {},
     "output_type": "execute_result"
    },
    {
     "data": {
      "image/png": "[encoded data removed]",
      "text/plain": [
       "<Figure size 640x480 with 2 Axes>"
      ]
     },
     "metadata": {},
     "output_type": "display_data"
    }
   ],
   "source": [
    "# make prediction\n",
    "strt_time = time.time()\n",
    "prediction = dbn.predict(X_test, y_test)\n",
    "stop_time = time.time()\n",
    "\n",
    "print('\\nEXE TIME')\n",
    "total_time  = stop_time - strt_time\n",
    "avg_time = total_time / X_test.shape[0]\n",
    "print(f'Total Detection Time : {total_time:.6f}')\n",
    "print(f'AVG Detection Time : {avg_time:.8f} \\n')\n",
    "\n",
    "# evaluation report \n",
    "class_report = classification_report(y_test, prediction['pre'])\n",
    "conf_report = confusion_matrix(y_test, prediction['pre'])\n",
    "print(class_report)\n",
    "print('\\n')\n",
    "sn.heatmap(conf_report, fmt='d', annot=True)"
   ]
  },
  {
   "cell_type": "code",
   "execution_count": 70,
   "metadata": {},
   "outputs": [
    {
     "name": "stdout",
     "output_type": "stream",
     "text": [
      "{'TPR (Recall)': 1.0, 'FPR': 0.36921068190776507, 'FNR': 0.0, 'Accuracy': 0.7073423159539153, 'Precision': 0.4146846319078305, 'Recall': 1.0, 'Specificity': 0.6307893180922349, 'AVG EXE TIME': '0.00003045'}\n"
     ]
    },
    {
     "data": {
      "text/plain": [
       "TPR (Recall)           1.0\n",
       "FPR               0.369211\n",
       "FNR                    0.0\n",
       "Accuracy          0.707342\n",
       "Precision         0.414685\n",
       "Recall                 1.0\n",
       "Specificity       0.630789\n",
       "AVG EXE TIME    0.00003045\n",
       "dtype: object"
      ]
     },
     "execution_count": 70,
     "metadata": {},
     "output_type": "execute_result"
    }
   ],
   "source": [
    "tp, fp, fn, tn = conf_report.ravel()\n",
    "metrics1 = compute_metrics(tp, fp, fn, tn, avg_time)\n",
    "print(metrics1)\n",
    "result = pd.Series(metrics1)\n",
    "result"
   ]
  },
  {
   "cell_type": "code",
   "execution_count": 100,
   "metadata": {},
   "outputs": [],
   "source": [
    "# pd.DataFrame([row, row2])"
   ]
  },
  {
   "cell_type": "markdown",
   "metadata": {},
   "source": [
    "#### DBN WITH TWO RBM STARCK"
   ]
  },
  {
   "cell_type": "code",
   "execution_count": 73,
   "metadata": {},
   "outputs": [
    {
     "name": "stdout",
     "output_type": "stream",
     "text": [
      "parameter initialize...\n",
      "DBN architecture Summary\n"
     ]
    },
    {
     "data": {
      "text/html": [
       "<style>#sk-container-id-8 {color: black;background-color: white;}#sk-container-id-8 pre{padding: 0;}#sk-container-id-8 div.sk-toggleable {background-color: white;}#sk-container-id-8 label.sk-toggleable__label {cursor: pointer;display: block;width: 100%;margin-bottom: 0;padding: 0.3em;box-sizing: border-box;text-align: center;}#sk-container-id-8 label.sk-toggleable__label-arrow:before {content: \"▸\";float: left;margin-right: 0.25em;color: #696969;}#sk-container-id-8 label.sk-toggleable__label-arrow:hover:before {color: black;}#sk-container-id-8 div.sk-estimator:hover label.sk-toggleable__label-arrow:before {color: black;}#sk-container-id-8 div.sk-toggleable__content {max-height: 0;max-width: 0;overflow: hidden;text-align: left;background-color: #f0f8ff;}#sk-container-id-8 div.sk-toggleable__content pre {margin: 0.2em;color: black;border-radius: 0.25em;background-color: #f0f8ff;}#sk-container-id-8 input.sk-toggleable__control:checked~div.sk-toggleable__content {max-height: 200px;max-width: 100%;overflow: auto;}#sk-container-id-8 input.sk-toggleable__control:checked~label.sk-toggleable__label-arrow:before {content: \"▾\";}#sk-container-id-8 div.sk-estimator input.sk-toggleable__control:checked~label.sk-toggleable__label {background-color: #d4ebff;}#sk-container-id-8 div.sk-label input.sk-toggleable__control:checked~label.sk-toggleable__label {background-color: #d4ebff;}#sk-container-id-8 input.sk-hidden--visually {border: 0;clip: rect(1px 1px 1px 1px);clip: rect(1px, 1px, 1px, 1px);height: 1px;margin: -1px;overflow: hidden;padding: 0;position: absolute;width: 1px;}#sk-container-id-8 div.sk-estimator {font-family: monospace;background-color: #f0f8ff;border: 1px dotted black;border-radius: 0.25em;box-sizing: border-box;margin-bottom: 0.5em;}#sk-container-id-8 div.sk-estimator:hover {background-color: #d4ebff;}#sk-container-id-8 div.sk-parallel-item::after {content: \"\";width: 100%;border-bottom: 1px solid gray;flex-grow: 1;}#sk-container-id-8 div.sk-label:hover label.sk-toggleable__label {background-color: #d4ebff;}#sk-container-id-8 div.sk-serial::before {content: \"\";position: absolute;border-left: 1px solid gray;box-sizing: border-box;top: 0;bottom: 0;left: 50%;z-index: 0;}#sk-container-id-8 div.sk-serial {display: flex;flex-direction: column;align-items: center;background-color: white;padding-right: 0.2em;padding-left: 0.2em;position: relative;}#sk-container-id-8 div.sk-item {position: relative;z-index: 1;}#sk-container-id-8 div.sk-parallel {display: flex;align-items: stretch;justify-content: center;background-color: white;position: relative;}#sk-container-id-8 div.sk-item::before, #sk-container-id-8 div.sk-parallel-item::before {content: \"\";position: absolute;border-left: 1px solid gray;box-sizing: border-box;top: 0;bottom: 0;left: 50%;z-index: -1;}#sk-container-id-8 div.sk-parallel-item {display: flex;flex-direction: column;z-index: 1;position: relative;background-color: white;}#sk-container-id-8 div.sk-parallel-item:first-child::after {align-self: flex-end;width: 50%;}#sk-container-id-8 div.sk-parallel-item:last-child::after {align-self: flex-start;width: 50%;}#sk-container-id-8 div.sk-parallel-item:only-child::after {width: 0;}#sk-container-id-8 div.sk-dashed-wrapped {border: 1px dashed gray;margin: 0 0.4em 0.5em 0.4em;box-sizing: border-box;padding-bottom: 0.4em;background-color: white;}#sk-container-id-8 div.sk-label label {font-family: monospace;font-weight: bold;display: inline-block;line-height: 1.2em;}#sk-container-id-8 div.sk-label-container {text-align: center;}#sk-container-id-8 div.sk-container {/* jupyter's `normalize.less` sets `[hidden] { display: none; }` but bootstrap.min.css set `[hidden] { display: none !important; }` so we also need the `!important` here to be able to override the default hidden behavior on the sphinx rendered scikit-learn.org. See: https://github.com/scikit-learn/scikit-learn/issues/21755 */display: inline-block !important;position: relative;}#sk-container-id-8 div.sk-text-repr-fallback {display: none;}</style><div id=\"sk-container-id-8\" class=\"sk-top-container\"><div class=\"sk-text-repr-fallback\"><pre>Pipeline(steps=[(&#x27;layer_1&#x27;,\n",
       "                 BernoulliRBM(learning_rate=0.09549, n_components=20, n_iter=4,\n",
       "                              verbose=1)),\n",
       "                (&#x27;layer_2&#x27;,\n",
       "                 BernoulliRBM(learning_rate=0.09549, n_components=42, n_iter=4,\n",
       "                              verbose=1)),\n",
       "                (&#x27;layer_3&#x27;,\n",
       "                 BernoulliRBM(learning_rate=0.09549, n_components=84, n_iter=4,\n",
       "                              verbose=1)),\n",
       "                (&#x27;layer_4&#x27;,\n",
       "                 BernoulliRBM(learning_rate=0.09549, n_components=84, n_iter=4,\n",
       "                              verbose=1)),\n",
       "                (&#x27;layer_5&#x27;,\n",
       "                 BernoulliRBM(learning_rate=0.09549, n_iter=4, verbose=1)),\n",
       "                (&#x27;layer_6&#x27;, LogisticRegression(max_iter=1000))])</pre><b>In a Jupyter environment, please rerun this cell to show the HTML representation or trust the notebook. <br />On GitHub, the HTML representation is unable to render, please try loading this page with nbviewer.org.</b></div><div class=\"sk-container\" hidden><div class=\"sk-item sk-dashed-wrapped\"><div class=\"sk-label-container\"><div class=\"sk-label sk-toggleable\"><input class=\"sk-toggleable__control sk-hidden--visually\" id=\"sk-estimator-id-26\" type=\"checkbox\" ><label for=\"sk-estimator-id-26\" class=\"sk-toggleable__label sk-toggleable__label-arrow\">Pipeline</label><div class=\"sk-toggleable__content\"><pre>Pipeline(steps=[(&#x27;layer_1&#x27;,\n",
       "                 BernoulliRBM(learning_rate=0.09549, n_components=20, n_iter=4,\n",
       "                              verbose=1)),\n",
       "                (&#x27;layer_2&#x27;,\n",
       "                 BernoulliRBM(learning_rate=0.09549, n_components=42, n_iter=4,\n",
       "                              verbose=1)),\n",
       "                (&#x27;layer_3&#x27;,\n",
       "                 BernoulliRBM(learning_rate=0.09549, n_components=84, n_iter=4,\n",
       "                              verbose=1)),\n",
       "                (&#x27;layer_4&#x27;,\n",
       "                 BernoulliRBM(learning_rate=0.09549, n_components=84, n_iter=4,\n",
       "                              verbose=1)),\n",
       "                (&#x27;layer_5&#x27;,\n",
       "                 BernoulliRBM(learning_rate=0.09549, n_iter=4, verbose=1)),\n",
       "                (&#x27;layer_6&#x27;, LogisticRegression(max_iter=1000))])</pre></div></div></div><div class=\"sk-serial\"><div class=\"sk-item\"><div class=\"sk-estimator sk-toggleable\"><input class=\"sk-toggleable__control sk-hidden--visually\" id=\"sk-estimator-id-27\" type=\"checkbox\" ><label for=\"sk-estimator-id-27\" class=\"sk-toggleable__label sk-toggleable__label-arrow\">BernoulliRBM</label><div class=\"sk-toggleable__content\"><pre>BernoulliRBM(learning_rate=0.09549, n_components=20, n_iter=4, verbose=1)</pre></div></div></div><div class=\"sk-item\"><div class=\"sk-estimator sk-toggleable\"><input class=\"sk-toggleable__control sk-hidden--visually\" id=\"sk-estimator-id-28\" type=\"checkbox\" ><label for=\"sk-estimator-id-28\" class=\"sk-toggleable__label sk-toggleable__label-arrow\">BernoulliRBM</label><div class=\"sk-toggleable__content\"><pre>BernoulliRBM(learning_rate=0.09549, n_components=42, n_iter=4, verbose=1)</pre></div></div></div><div class=\"sk-item\"><div class=\"sk-estimator sk-toggleable\"><input class=\"sk-toggleable__control sk-hidden--visually\" id=\"sk-estimator-id-29\" type=\"checkbox\" ><label for=\"sk-estimator-id-29\" class=\"sk-toggleable__label sk-toggleable__label-arrow\">BernoulliRBM</label><div class=\"sk-toggleable__content\"><pre>BernoulliRBM(learning_rate=0.09549, n_components=84, n_iter=4, verbose=1)</pre></div></div></div><div class=\"sk-item\"><div class=\"sk-estimator sk-toggleable\"><input class=\"sk-toggleable__control sk-hidden--visually\" id=\"sk-estimator-id-30\" type=\"checkbox\" ><label for=\"sk-estimator-id-30\" class=\"sk-toggleable__label sk-toggleable__label-arrow\">BernoulliRBM</label><div class=\"sk-toggleable__content\"><pre>BernoulliRBM(learning_rate=0.09549, n_components=84, n_iter=4, verbose=1)</pre></div></div></div><div class=\"sk-item\"><div class=\"sk-estimator sk-toggleable\"><input class=\"sk-toggleable__control sk-hidden--visually\" id=\"sk-estimator-id-31\" type=\"checkbox\" ><label for=\"sk-estimator-id-31\" class=\"sk-toggleable__label sk-toggleable__label-arrow\">BernoulliRBM</label><div class=\"sk-toggleable__content\"><pre>BernoulliRBM(learning_rate=0.09549, n_iter=4, verbose=1)</pre></div></div></div><div class=\"sk-item\"><div class=\"sk-estimator sk-toggleable\"><input class=\"sk-toggleable__control sk-hidden--visually\" id=\"sk-estimator-id-32\" type=\"checkbox\" ><label for=\"sk-estimator-id-32\" class=\"sk-toggleable__label sk-toggleable__label-arrow\">LogisticRegression</label><div class=\"sk-toggleable__content\"><pre>LogisticRegression(max_iter=1000)</pre></div></div></div></div></div></div></div>"
      ],
      "text/plain": [
       "Pipeline(steps=[('layer_1',\n",
       "                 BernoulliRBM(learning_rate=0.09549, n_components=20, n_iter=4,\n",
       "                              verbose=1)),\n",
       "                ('layer_2',\n",
       "                 BernoulliRBM(learning_rate=0.09549, n_components=42, n_iter=4,\n",
       "                              verbose=1)),\n",
       "                ('layer_3',\n",
       "                 BernoulliRBM(learning_rate=0.09549, n_components=84, n_iter=4,\n",
       "                              verbose=1)),\n",
       "                ('layer_4',\n",
       "                 BernoulliRBM(learning_rate=0.09549, n_components=84, n_iter=4,\n",
       "                              verbose=1)),\n",
       "                ('layer_5',\n",
       "                 BernoulliRBM(learning_rate=0.09549, n_iter=4, verbose=1)),\n",
       "                ('layer_6', LogisticRegression(max_iter=1000))])"
      ]
     },
     "execution_count": 73,
     "metadata": {},
     "output_type": "execute_result"
    }
   ],
   "source": [
    "# initializaing DBN\n",
    "dbn2 = DBN_network()\n",
    "# configure the DBN... \n",
    "dbn2.config_network([20, 42, 84, 84, 256], layers=5, learning_rate=0.09549)\n",
    "\n",
    "# showing the DBN architecture.. \n",
    "dbn2.summary()"
   ]
  },
  {
   "cell_type": "code",
   "execution_count": 74,
   "metadata": {},
   "outputs": [
    {
     "name": "stdout",
     "output_type": "stream",
     "text": [
      "Training For 5 Layer\n",
      "\n",
      " *******************  EPOCH 1 **********************\n",
      "[BernoulliRBM] Iteration 1, pseudo-likelihood = -9.28, time = 8.62s\n",
      "[BernoulliRBM] Iteration 2, pseudo-likelihood = -9.58, time = 9.60s\n",
      "[BernoulliRBM] Iteration 3, pseudo-likelihood = -9.63, time = 9.94s\n",
      "[BernoulliRBM] Iteration 4, pseudo-likelihood = -14.12, time = 10.02s\n",
      "\n",
      " *******************  EPOCH 2 **********************\n",
      "[BernoulliRBM] Iteration 1, pseudo-likelihood = -1.37, time = 8.40s\n",
      "[BernoulliRBM] Iteration 2, pseudo-likelihood = -0.78, time = 9.59s\n",
      "[BernoulliRBM] Iteration 3, pseudo-likelihood = -0.96, time = 9.48s\n",
      "[BernoulliRBM] Iteration 4, pseudo-likelihood = -1.04, time = 9.94s\n",
      "\n",
      " *******************  EPOCH 3 **********************\n",
      "[BernoulliRBM] Iteration 1, pseudo-likelihood = -0.65, time = 11.41s\n",
      "[BernoulliRBM] Iteration 2, pseudo-likelihood = -0.80, time = 14.89s\n",
      "[BernoulliRBM] Iteration 3, pseudo-likelihood = -0.92, time = 14.95s\n",
      "[BernoulliRBM] Iteration 4, pseudo-likelihood = -0.70, time = 15.21s\n",
      "\n",
      " *******************  EPOCH 4 **********************\n",
      "[BernoulliRBM] Iteration 1, pseudo-likelihood = -4.76, time = 14.63s\n",
      "[BernoulliRBM] Iteration 2, pseudo-likelihood = -3.27, time = 18.24s\n",
      "[BernoulliRBM] Iteration 3, pseudo-likelihood = -3.51, time = 17.92s\n",
      "[BernoulliRBM] Iteration 4, pseudo-likelihood = -2.99, time = 18.03s\n",
      "\n",
      " *******************  EPOCH 5 **********************\n",
      "[BernoulliRBM] Iteration 1, pseudo-likelihood = -9.57, time = 33.25s\n",
      "[BernoulliRBM] Iteration 2, pseudo-likelihood = -4.20, time = 42.60s\n",
      "[BernoulliRBM] Iteration 3, pseudo-likelihood = -0.40, time = 42.91s\n",
      "[BernoulliRBM] Iteration 4, pseudo-likelihood = -0.51, time = 42.56s\n",
      "\n",
      "+-----------------------------------------+\n"
     ]
    },
    {
     "data": {
      "text/html": [
       "<style>#sk-container-id-9 {color: black;background-color: white;}#sk-container-id-9 pre{padding: 0;}#sk-container-id-9 div.sk-toggleable {background-color: white;}#sk-container-id-9 label.sk-toggleable__label {cursor: pointer;display: block;width: 100%;margin-bottom: 0;padding: 0.3em;box-sizing: border-box;text-align: center;}#sk-container-id-9 label.sk-toggleable__label-arrow:before {content: \"▸\";float: left;margin-right: 0.25em;color: #696969;}#sk-container-id-9 label.sk-toggleable__label-arrow:hover:before {color: black;}#sk-container-id-9 div.sk-estimator:hover label.sk-toggleable__label-arrow:before {color: black;}#sk-container-id-9 div.sk-toggleable__content {max-height: 0;max-width: 0;overflow: hidden;text-align: left;background-color: #f0f8ff;}#sk-container-id-9 div.sk-toggleable__content pre {margin: 0.2em;color: black;border-radius: 0.25em;background-color: #f0f8ff;}#sk-container-id-9 input.sk-toggleable__control:checked~div.sk-toggleable__content {max-height: 200px;max-width: 100%;overflow: auto;}#sk-container-id-9 input.sk-toggleable__control:checked~label.sk-toggleable__label-arrow:before {content: \"▾\";}#sk-container-id-9 div.sk-estimator input.sk-toggleable__control:checked~label.sk-toggleable__label {background-color: #d4ebff;}#sk-container-id-9 div.sk-label input.sk-toggleable__control:checked~label.sk-toggleable__label {background-color: #d4ebff;}#sk-container-id-9 input.sk-hidden--visually {border: 0;clip: rect(1px 1px 1px 1px);clip: rect(1px, 1px, 1px, 1px);height: 1px;margin: -1px;overflow: hidden;padding: 0;position: absolute;width: 1px;}#sk-container-id-9 div.sk-estimator {font-family: monospace;background-color: #f0f8ff;border: 1px dotted black;border-radius: 0.25em;box-sizing: border-box;margin-bottom: 0.5em;}#sk-container-id-9 div.sk-estimator:hover {background-color: #d4ebff;}#sk-container-id-9 div.sk-parallel-item::after {content: \"\";width: 100%;border-bottom: 1px solid gray;flex-grow: 1;}#sk-container-id-9 div.sk-label:hover label.sk-toggleable__label {background-color: #d4ebff;}#sk-container-id-9 div.sk-serial::before {content: \"\";position: absolute;border-left: 1px solid gray;box-sizing: border-box;top: 0;bottom: 0;left: 50%;z-index: 0;}#sk-container-id-9 div.sk-serial {display: flex;flex-direction: column;align-items: center;background-color: white;padding-right: 0.2em;padding-left: 0.2em;position: relative;}#sk-container-id-9 div.sk-item {position: relative;z-index: 1;}#sk-container-id-9 div.sk-parallel {display: flex;align-items: stretch;justify-content: center;background-color: white;position: relative;}#sk-container-id-9 div.sk-item::before, #sk-container-id-9 div.sk-parallel-item::before {content: \"\";position: absolute;border-left: 1px solid gray;box-sizing: border-box;top: 0;bottom: 0;left: 50%;z-index: -1;}#sk-container-id-9 div.sk-parallel-item {display: flex;flex-direction: column;z-index: 1;position: relative;background-color: white;}#sk-container-id-9 div.sk-parallel-item:first-child::after {align-self: flex-end;width: 50%;}#sk-container-id-9 div.sk-parallel-item:last-child::after {align-self: flex-start;width: 50%;}#sk-container-id-9 div.sk-parallel-item:only-child::after {width: 0;}#sk-container-id-9 div.sk-dashed-wrapped {border: 1px dashed gray;margin: 0 0.4em 0.5em 0.4em;box-sizing: border-box;padding-bottom: 0.4em;background-color: white;}#sk-container-id-9 div.sk-label label {font-family: monospace;font-weight: bold;display: inline-block;line-height: 1.2em;}#sk-container-id-9 div.sk-label-container {text-align: center;}#sk-container-id-9 div.sk-container {/* jupyter's `normalize.less` sets `[hidden] { display: none; }` but bootstrap.min.css set `[hidden] { display: none !important; }` so we also need the `!important` here to be able to override the default hidden behavior on the sphinx rendered scikit-learn.org. See: https://github.com/scikit-learn/scikit-learn/issues/21755 */display: inline-block !important;position: relative;}#sk-container-id-9 div.sk-text-repr-fallback {display: none;}</style><div id=\"sk-container-id-9\" class=\"sk-top-container\"><div class=\"sk-text-repr-fallback\"><pre>Pipeline(steps=[(&#x27;layer_1&#x27;,\n",
       "                 BernoulliRBM(learning_rate=0.09549, n_components=20, n_iter=4,\n",
       "                              verbose=1)),\n",
       "                (&#x27;layer_2&#x27;,\n",
       "                 BernoulliRBM(learning_rate=0.09549, n_components=42, n_iter=4,\n",
       "                              verbose=1)),\n",
       "                (&#x27;layer_3&#x27;,\n",
       "                 BernoulliRBM(learning_rate=0.09549, n_components=84, n_iter=4,\n",
       "                              verbose=1)),\n",
       "                (&#x27;layer_4&#x27;,\n",
       "                 BernoulliRBM(learning_rate=0.09549, n_components=84, n_iter=4,\n",
       "                              verbose=1)),\n",
       "                (&#x27;layer_5&#x27;,\n",
       "                 BernoulliRBM(learning_rate=0.09549, n_iter=4, verbose=1)),\n",
       "                (&#x27;layer_6&#x27;, LogisticRegression(max_iter=1000))])</pre><b>In a Jupyter environment, please rerun this cell to show the HTML representation or trust the notebook. <br />On GitHub, the HTML representation is unable to render, please try loading this page with nbviewer.org.</b></div><div class=\"sk-container\" hidden><div class=\"sk-item sk-dashed-wrapped\"><div class=\"sk-label-container\"><div class=\"sk-label sk-toggleable\"><input class=\"sk-toggleable__control sk-hidden--visually\" id=\"sk-estimator-id-33\" type=\"checkbox\" ><label for=\"sk-estimator-id-33\" class=\"sk-toggleable__label sk-toggleable__label-arrow\">Pipeline</label><div class=\"sk-toggleable__content\"><pre>Pipeline(steps=[(&#x27;layer_1&#x27;,\n",
       "                 BernoulliRBM(learning_rate=0.09549, n_components=20, n_iter=4,\n",
       "                              verbose=1)),\n",
       "                (&#x27;layer_2&#x27;,\n",
       "                 BernoulliRBM(learning_rate=0.09549, n_components=42, n_iter=4,\n",
       "                              verbose=1)),\n",
       "                (&#x27;layer_3&#x27;,\n",
       "                 BernoulliRBM(learning_rate=0.09549, n_components=84, n_iter=4,\n",
       "                              verbose=1)),\n",
       "                (&#x27;layer_4&#x27;,\n",
       "                 BernoulliRBM(learning_rate=0.09549, n_components=84, n_iter=4,\n",
       "                              verbose=1)),\n",
       "                (&#x27;layer_5&#x27;,\n",
       "                 BernoulliRBM(learning_rate=0.09549, n_iter=4, verbose=1)),\n",
       "                (&#x27;layer_6&#x27;, LogisticRegression(max_iter=1000))])</pre></div></div></div><div class=\"sk-serial\"><div class=\"sk-item\"><div class=\"sk-estimator sk-toggleable\"><input class=\"sk-toggleable__control sk-hidden--visually\" id=\"sk-estimator-id-34\" type=\"checkbox\" ><label for=\"sk-estimator-id-34\" class=\"sk-toggleable__label sk-toggleable__label-arrow\">BernoulliRBM</label><div class=\"sk-toggleable__content\"><pre>BernoulliRBM(learning_rate=0.09549, n_components=20, n_iter=4, verbose=1)</pre></div></div></div><div class=\"sk-item\"><div class=\"sk-estimator sk-toggleable\"><input class=\"sk-toggleable__control sk-hidden--visually\" id=\"sk-estimator-id-35\" type=\"checkbox\" ><label for=\"sk-estimator-id-35\" class=\"sk-toggleable__label sk-toggleable__label-arrow\">BernoulliRBM</label><div class=\"sk-toggleable__content\"><pre>BernoulliRBM(learning_rate=0.09549, n_components=42, n_iter=4, verbose=1)</pre></div></div></div><div class=\"sk-item\"><div class=\"sk-estimator sk-toggleable\"><input class=\"sk-toggleable__control sk-hidden--visually\" id=\"sk-estimator-id-36\" type=\"checkbox\" ><label for=\"sk-estimator-id-36\" class=\"sk-toggleable__label sk-toggleable__label-arrow\">BernoulliRBM</label><div class=\"sk-toggleable__content\"><pre>BernoulliRBM(learning_rate=0.09549, n_components=84, n_iter=4, verbose=1)</pre></div></div></div><div class=\"sk-item\"><div class=\"sk-estimator sk-toggleable\"><input class=\"sk-toggleable__control sk-hidden--visually\" id=\"sk-estimator-id-37\" type=\"checkbox\" ><label for=\"sk-estimator-id-37\" class=\"sk-toggleable__label sk-toggleable__label-arrow\">BernoulliRBM</label><div class=\"sk-toggleable__content\"><pre>BernoulliRBM(learning_rate=0.09549, n_components=84, n_iter=4, verbose=1)</pre></div></div></div><div class=\"sk-item\"><div class=\"sk-estimator sk-toggleable\"><input class=\"sk-toggleable__control sk-hidden--visually\" id=\"sk-estimator-id-38\" type=\"checkbox\" ><label for=\"sk-estimator-id-38\" class=\"sk-toggleable__label sk-toggleable__label-arrow\">BernoulliRBM</label><div class=\"sk-toggleable__content\"><pre>BernoulliRBM(learning_rate=0.09549, n_iter=4, verbose=1)</pre></div></div></div><div class=\"sk-item\"><div class=\"sk-estimator sk-toggleable\"><input class=\"sk-toggleable__control sk-hidden--visually\" id=\"sk-estimator-id-39\" type=\"checkbox\" ><label for=\"sk-estimator-id-39\" class=\"sk-toggleable__label sk-toggleable__label-arrow\">LogisticRegression</label><div class=\"sk-toggleable__content\"><pre>LogisticRegression(max_iter=1000)</pre></div></div></div></div></div></div></div>"
      ],
      "text/plain": [
       "Pipeline(steps=[('layer_1',\n",
       "                 BernoulliRBM(learning_rate=0.09549, n_components=20, n_iter=4,\n",
       "                              verbose=1)),\n",
       "                ('layer_2',\n",
       "                 BernoulliRBM(learning_rate=0.09549, n_components=42, n_iter=4,\n",
       "                              verbose=1)),\n",
       "                ('layer_3',\n",
       "                 BernoulliRBM(learning_rate=0.09549, n_components=84, n_iter=4,\n",
       "                              verbose=1)),\n",
       "                ('layer_4',\n",
       "                 BernoulliRBM(learning_rate=0.09549, n_components=84, n_iter=4,\n",
       "                              verbose=1)),\n",
       "                ('layer_5',\n",
       "                 BernoulliRBM(learning_rate=0.09549, n_iter=4, verbose=1)),\n",
       "                ('layer_6', LogisticRegression(max_iter=1000))])"
      ]
     },
     "execution_count": 74,
     "metadata": {},
     "output_type": "execute_result"
    }
   ],
   "source": [
    "# training the arhitecture\n",
    "dbn2.fit_model(X_train, y_train)"
   ]
  },
  {
   "cell_type": "code",
   "execution_count": 75,
   "metadata": {},
   "outputs": [
    {
     "name": "stdout",
     "output_type": "stream",
     "text": [
      "Calculated Feature (51210, 20)\n",
      "Calculated Feature (51210, 42)\n",
      "Calculated Feature (51210, 84)\n",
      "Calculated Feature (51210, 84)\n",
      "Calculated Feature (51210, 256)\n",
      "\n",
      "EXE TIME\n",
      "Total Detection Time : 2.977652\n",
      "AVG Detection Time : 0.00005815 \n",
      "\n",
      "              precision    recall  f1-score   support\n",
      "\n",
      "           0       1.00      0.76      0.86     25605\n",
      "           1       0.80      1.00      0.89     25605\n",
      "\n",
      "    accuracy                           0.88     51210\n",
      "   macro avg       0.90      0.88      0.88     51210\n",
      "weighted avg       0.90      0.88      0.88     51210\n",
      "\n",
      "\n",
      "\n"
     ]
    },
    {
     "data": {
      "text/plain": [
       "<Axes: >"
      ]
     },
     "execution_count": 75,
     "metadata": {},
     "output_type": "execute_result"
    },
    {
     "data": {
      "image/png": "[encoded data removed]",
      "text/plain": [
       "<Figure size 640x480 with 2 Axes>"
      ]
     },
     "metadata": {},
     "output_type": "display_data"
    }
   ],
   "source": [
    "# make prediction\n",
    "strt_time = time.time()\n",
    "prediction = dbn2.predict(X_test, y_test)\n",
    "stop_time = time.time()\n",
    "\n",
    "print('\\nEXE TIME')\n",
    "total_time  = stop_time - strt_time\n",
    "avg_time = total_time / X_test.shape[0]\n",
    "print(f'Total Detection Time : {total_time:.6f}')\n",
    "print(f'AVG Detection Time : {avg_time:.8f} \\n')\n",
    "\n",
    "# evaluation report \n",
    "class_report = classification_report(y_test, prediction['pre'])\n",
    "conf_report = confusion_matrix(y_test, prediction['pre'])\n",
    "print(class_report)\n",
    "print('\\n')\n",
    "sn.heatmap(conf_report, fmt='d', annot=True)"
   ]
  },
  {
   "cell_type": "code",
   "execution_count": 76,
   "metadata": {},
   "outputs": [
    {
     "name": "stdout",
     "output_type": "stream",
     "text": [
      "{'TPR (Recall)': 1.0, 'FPR': 0.19655464558034452, 'FNR': 0.0, 'Accuracy': 0.8776801405975395, 'Precision': 0.755360281195079, 'Recall': 1.0, 'Specificity': 0.8034453544196555, 'AVG EXE TIME': '0.00005815'}\n"
     ]
    },
    {
     "data": {
      "text/plain": [
       "TPR (Recall)           1.0\n",
       "FPR               0.196555\n",
       "FNR                    0.0\n",
       "Accuracy           0.87768\n",
       "Precision          0.75536\n",
       "Recall                 1.0\n",
       "Specificity       0.803445\n",
       "AVG EXE TIME    0.00005815\n",
       "dtype: object"
      ]
     },
     "execution_count": 76,
     "metadata": {},
     "output_type": "execute_result"
    }
   ],
   "source": [
    "tp, fp, fn, tn = conf_report.ravel()\n",
    "metrics2 = compute_metrics(tp, fp, fn, tn, avg_time)\n",
    "print(metrics2)\n",
    "result2 = pd.Series(metrics2)\n",
    "result2"
   ]
  },
  {
   "cell_type": "markdown",
   "metadata": {},
   "source": [
    "#### DBN WITH THREE STARCK"
   ]
  },
  {
   "cell_type": "code",
   "execution_count": 77,
   "metadata": {},
   "outputs": [
    {
     "name": "stdout",
     "output_type": "stream",
     "text": [
      "parameter initialize...\n",
      "DBN architecture Summary\n"
     ]
    },
    {
     "data": {
      "text/html": [
       "<style>#sk-container-id-10 {color: black;background-color: white;}#sk-container-id-10 pre{padding: 0;}#sk-container-id-10 div.sk-toggleable {background-color: white;}#sk-container-id-10 label.sk-toggleable__label {cursor: pointer;display: block;width: 100%;margin-bottom: 0;padding: 0.3em;box-sizing: border-box;text-align: center;}#sk-container-id-10 label.sk-toggleable__label-arrow:before {content: \"▸\";float: left;margin-right: 0.25em;color: #696969;}#sk-container-id-10 label.sk-toggleable__label-arrow:hover:before {color: black;}#sk-container-id-10 div.sk-estimator:hover label.sk-toggleable__label-arrow:before {color: black;}#sk-container-id-10 div.sk-toggleable__content {max-height: 0;max-width: 0;overflow: hidden;text-align: left;background-color: #f0f8ff;}#sk-container-id-10 div.sk-toggleable__content pre {margin: 0.2em;color: black;border-radius: 0.25em;background-color: #f0f8ff;}#sk-container-id-10 input.sk-toggleable__control:checked~div.sk-toggleable__content {max-height: 200px;max-width: 100%;overflow: auto;}#sk-container-id-10 input.sk-toggleable__control:checked~label.sk-toggleable__label-arrow:before {content: \"▾\";}#sk-container-id-10 div.sk-estimator input.sk-toggleable__control:checked~label.sk-toggleable__label {background-color: #d4ebff;}#sk-container-id-10 div.sk-label input.sk-toggleable__control:checked~label.sk-toggleable__label {background-color: #d4ebff;}#sk-container-id-10 input.sk-hidden--visually {border: 0;clip: rect(1px 1px 1px 1px);clip: rect(1px, 1px, 1px, 1px);height: 1px;margin: -1px;overflow: hidden;padding: 0;position: absolute;width: 1px;}#sk-container-id-10 div.sk-estimator {font-family: monospace;background-color: #f0f8ff;border: 1px dotted black;border-radius: 0.25em;box-sizing: border-box;margin-bottom: 0.5em;}#sk-container-id-10 div.sk-estimator:hover {background-color: #d4ebff;}#sk-container-id-10 div.sk-parallel-item::after {content: \"\";width: 100%;border-bottom: 1px solid gray;flex-grow: 1;}#sk-container-id-10 div.sk-label:hover label.sk-toggleable__label {background-color: #d4ebff;}#sk-container-id-10 div.sk-serial::before {content: \"\";position: absolute;border-left: 1px solid gray;box-sizing: border-box;top: 0;bottom: 0;left: 50%;z-index: 0;}#sk-container-id-10 div.sk-serial {display: flex;flex-direction: column;align-items: center;background-color: white;padding-right: 0.2em;padding-left: 0.2em;position: relative;}#sk-container-id-10 div.sk-item {position: relative;z-index: 1;}#sk-container-id-10 div.sk-parallel {display: flex;align-items: stretch;justify-content: center;background-color: white;position: relative;}#sk-container-id-10 div.sk-item::before, #sk-container-id-10 div.sk-parallel-item::before {content: \"\";position: absolute;border-left: 1px solid gray;box-sizing: border-box;top: 0;bottom: 0;left: 50%;z-index: -1;}#sk-container-id-10 div.sk-parallel-item {display: flex;flex-direction: column;z-index: 1;position: relative;background-color: white;}#sk-container-id-10 div.sk-parallel-item:first-child::after {align-self: flex-end;width: 50%;}#sk-container-id-10 div.sk-parallel-item:last-child::after {align-self: flex-start;width: 50%;}#sk-container-id-10 div.sk-parallel-item:only-child::after {width: 0;}#sk-container-id-10 div.sk-dashed-wrapped {border: 1px dashed gray;margin: 0 0.4em 0.5em 0.4em;box-sizing: border-box;padding-bottom: 0.4em;background-color: white;}#sk-container-id-10 div.sk-label label {font-family: monospace;font-weight: bold;display: inline-block;line-height: 1.2em;}#sk-container-id-10 div.sk-label-container {text-align: center;}#sk-container-id-10 div.sk-container {/* jupyter's `normalize.less` sets `[hidden] { display: none; }` but bootstrap.min.css set `[hidden] { display: none !important; }` so we also need the `!important` here to be able to override the default hidden behavior on the sphinx rendered scikit-learn.org. See: https://github.com/scikit-learn/scikit-learn/issues/21755 */display: inline-block !important;position: relative;}#sk-container-id-10 div.sk-text-repr-fallback {display: none;}</style><div id=\"sk-container-id-10\" class=\"sk-top-container\"><div class=\"sk-text-repr-fallback\"><pre>Pipeline(steps=[(&#x27;layer_1&#x27;,\n",
       "                 BernoulliRBM(learning_rate=0.09549, n_components=20, n_iter=4,\n",
       "                              verbose=1)),\n",
       "                (&#x27;layer_2&#x27;,\n",
       "                 BernoulliRBM(learning_rate=0.09549, n_components=42, n_iter=4,\n",
       "                              verbose=1)),\n",
       "                (&#x27;layer_3&#x27;,\n",
       "                 BernoulliRBM(learning_rate=0.09549, n_components=84, n_iter=4,\n",
       "                              verbose=1)),\n",
       "                (&#x27;layer_4&#x27;,\n",
       "                 BernoulliRBM(learning_rate=0.09549, n_components=84, n_iter=4,\n",
       "                              verbose=1)),\n",
       "                (&#x27;layer_5&#x27;,\n",
       "                 BernoulliRBM(learning_rate=0.09549, n_iter=4, verbose=1)),\n",
       "                (&#x27;layer_6&#x27;,\n",
       "                 BernoulliRBM(learning_rate=0.09549, n_iter=4, verbose=1)),\n",
       "                (&#x27;layer_7&#x27;, LogisticRegression(max_iter=1000))])</pre><b>In a Jupyter environment, please rerun this cell to show the HTML representation or trust the notebook. <br />On GitHub, the HTML representation is unable to render, please try loading this page with nbviewer.org.</b></div><div class=\"sk-container\" hidden><div class=\"sk-item sk-dashed-wrapped\"><div class=\"sk-label-container\"><div class=\"sk-label sk-toggleable\"><input class=\"sk-toggleable__control sk-hidden--visually\" id=\"sk-estimator-id-40\" type=\"checkbox\" ><label for=\"sk-estimator-id-40\" class=\"sk-toggleable__label sk-toggleable__label-arrow\">Pipeline</label><div class=\"sk-toggleable__content\"><pre>Pipeline(steps=[(&#x27;layer_1&#x27;,\n",
       "                 BernoulliRBM(learning_rate=0.09549, n_components=20, n_iter=4,\n",
       "                              verbose=1)),\n",
       "                (&#x27;layer_2&#x27;,\n",
       "                 BernoulliRBM(learning_rate=0.09549, n_components=42, n_iter=4,\n",
       "                              verbose=1)),\n",
       "                (&#x27;layer_3&#x27;,\n",
       "                 BernoulliRBM(learning_rate=0.09549, n_components=84, n_iter=4,\n",
       "                              verbose=1)),\n",
       "                (&#x27;layer_4&#x27;,\n",
       "                 BernoulliRBM(learning_rate=0.09549, n_components=84, n_iter=4,\n",
       "                              verbose=1)),\n",
       "                (&#x27;layer_5&#x27;,\n",
       "                 BernoulliRBM(learning_rate=0.09549, n_iter=4, verbose=1)),\n",
       "                (&#x27;layer_6&#x27;,\n",
       "                 BernoulliRBM(learning_rate=0.09549, n_iter=4, verbose=1)),\n",
       "                (&#x27;layer_7&#x27;, LogisticRegression(max_iter=1000))])</pre></div></div></div><div class=\"sk-serial\"><div class=\"sk-item\"><div class=\"sk-estimator sk-toggleable\"><input class=\"sk-toggleable__control sk-hidden--visually\" id=\"sk-estimator-id-41\" type=\"checkbox\" ><label for=\"sk-estimator-id-41\" class=\"sk-toggleable__label sk-toggleable__label-arrow\">BernoulliRBM</label><div class=\"sk-toggleable__content\"><pre>BernoulliRBM(learning_rate=0.09549, n_components=20, n_iter=4, verbose=1)</pre></div></div></div><div class=\"sk-item\"><div class=\"sk-estimator sk-toggleable\"><input class=\"sk-toggleable__control sk-hidden--visually\" id=\"sk-estimator-id-42\" type=\"checkbox\" ><label for=\"sk-estimator-id-42\" class=\"sk-toggleable__label sk-toggleable__label-arrow\">BernoulliRBM</label><div class=\"sk-toggleable__content\"><pre>BernoulliRBM(learning_rate=0.09549, n_components=42, n_iter=4, verbose=1)</pre></div></div></div><div class=\"sk-item\"><div class=\"sk-estimator sk-toggleable\"><input class=\"sk-toggleable__control sk-hidden--visually\" id=\"sk-estimator-id-43\" type=\"checkbox\" ><label for=\"sk-estimator-id-43\" class=\"sk-toggleable__label sk-toggleable__label-arrow\">BernoulliRBM</label><div class=\"sk-toggleable__content\"><pre>BernoulliRBM(learning_rate=0.09549, n_components=84, n_iter=4, verbose=1)</pre></div></div></div><div class=\"sk-item\"><div class=\"sk-estimator sk-toggleable\"><input class=\"sk-toggleable__control sk-hidden--visually\" id=\"sk-estimator-id-44\" type=\"checkbox\" ><label for=\"sk-estimator-id-44\" class=\"sk-toggleable__label sk-toggleable__label-arrow\">BernoulliRBM</label><div class=\"sk-toggleable__content\"><pre>BernoulliRBM(learning_rate=0.09549, n_components=84, n_iter=4, verbose=1)</pre></div></div></div><div class=\"sk-item\"><div class=\"sk-estimator sk-toggleable\"><input class=\"sk-toggleable__control sk-hidden--visually\" id=\"sk-estimator-id-45\" type=\"checkbox\" ><label for=\"sk-estimator-id-45\" class=\"sk-toggleable__label sk-toggleable__label-arrow\">BernoulliRBM</label><div class=\"sk-toggleable__content\"><pre>BernoulliRBM(learning_rate=0.09549, n_iter=4, verbose=1)</pre></div></div></div><div class=\"sk-item\"><div class=\"sk-estimator sk-toggleable\"><input class=\"sk-toggleable__control sk-hidden--visually\" id=\"sk-estimator-id-46\" type=\"checkbox\" ><label for=\"sk-estimator-id-46\" class=\"sk-toggleable__label sk-toggleable__label-arrow\">BernoulliRBM</label><div class=\"sk-toggleable__content\"><pre>BernoulliRBM(learning_rate=0.09549, n_iter=4, verbose=1)</pre></div></div></div><div class=\"sk-item\"><div class=\"sk-estimator sk-toggleable\"><input class=\"sk-toggleable__control sk-hidden--visually\" id=\"sk-estimator-id-47\" type=\"checkbox\" ><label for=\"sk-estimator-id-47\" class=\"sk-toggleable__label sk-toggleable__label-arrow\">LogisticRegression</label><div class=\"sk-toggleable__content\"><pre>LogisticRegression(max_iter=1000)</pre></div></div></div></div></div></div></div>"
      ],
      "text/plain": [
       "Pipeline(steps=[('layer_1',\n",
       "                 BernoulliRBM(learning_rate=0.09549, n_components=20, n_iter=4,\n",
       "                              verbose=1)),\n",
       "                ('layer_2',\n",
       "                 BernoulliRBM(learning_rate=0.09549, n_components=42, n_iter=4,\n",
       "                              verbose=1)),\n",
       "                ('layer_3',\n",
       "                 BernoulliRBM(learning_rate=0.09549, n_components=84, n_iter=4,\n",
       "                              verbose=1)),\n",
       "                ('layer_4',\n",
       "                 BernoulliRBM(learning_rate=0.09549, n_components=84, n_iter=4,\n",
       "                              verbose=1)),\n",
       "                ('layer_5',\n",
       "                 BernoulliRBM(learning_rate=0.09549, n_iter=4, verbose=1)),\n",
       "                ('layer_6',\n",
       "                 BernoulliRBM(learning_rate=0.09549, n_iter=4, verbose=1)),\n",
       "                ('layer_7', LogisticRegression(max_iter=1000))])"
      ]
     },
     "execution_count": 77,
     "metadata": {},
     "output_type": "execute_result"
    }
   ],
   "source": [
    "# initializaing DBN\n",
    "dbn3 = DBN_network()\n",
    "# configure the DBN... \n",
    "dbn3.config_network([20, 42, 84, 84, 256, 256], layers=6, learning_rate=0.09549)\n",
    "\n",
    "# showing the DBN architecture.. \n",
    "dbn3.summary()"
   ]
  },
  {
   "cell_type": "code",
   "execution_count": 79,
   "metadata": {},
   "outputs": [
    {
     "name": "stdout",
     "output_type": "stream",
     "text": [
      "Training For 6 Layer\n",
      "\n",
      " *******************  EPOCH 1 **********************\n",
      "[BernoulliRBM] Iteration 1, pseudo-likelihood = -10.07, time = 4.74s\n",
      "[BernoulliRBM] Iteration 2, pseudo-likelihood = -9.99, time = 4.75s\n",
      "[BernoulliRBM] Iteration 3, pseudo-likelihood = -9.39, time = 4.75s\n",
      "[BernoulliRBM] Iteration 4, pseudo-likelihood = -11.95, time = 4.84s\n",
      "\n",
      " *******************  EPOCH 2 **********************\n",
      "[BernoulliRBM] Iteration 1, pseudo-likelihood = -0.98, time = 3.55s\n",
      "[BernoulliRBM] Iteration 2, pseudo-likelihood = -1.51, time = 4.43s\n",
      "[BernoulliRBM] Iteration 3, pseudo-likelihood = -1.37, time = 4.50s\n",
      "[BernoulliRBM] Iteration 4, pseudo-likelihood = -1.26, time = 4.45s\n",
      "\n",
      " *******************  EPOCH 3 **********************\n",
      "[BernoulliRBM] Iteration 1, pseudo-likelihood = -2.41, time = 5.74s\n",
      "[BernoulliRBM] Iteration 2, pseudo-likelihood = -0.66, time = 7.65s\n",
      "[BernoulliRBM] Iteration 3, pseudo-likelihood = -16.21, time = 7.63s\n",
      "[BernoulliRBM] Iteration 4, pseudo-likelihood = -1.03, time = 7.93s\n",
      "\n",
      " *******************  EPOCH 4 **********************\n",
      "[BernoulliRBM] Iteration 1, pseudo-likelihood = -2.01, time = 6.94s\n",
      "[BernoulliRBM] Iteration 2, pseudo-likelihood = -1.51, time = 8.97s\n",
      "[BernoulliRBM] Iteration 3, pseudo-likelihood = -2.43, time = 9.13s\n",
      "[BernoulliRBM] Iteration 4, pseudo-likelihood = -1.74, time = 8.99s\n",
      "\n",
      " *******************  EPOCH 5 **********************\n",
      "[BernoulliRBM] Iteration 1, pseudo-likelihood = -0.65, time = 16.57s\n",
      "[BernoulliRBM] Iteration 2, pseudo-likelihood = -15.46, time = 22.33s\n",
      "[BernoulliRBM] Iteration 3, pseudo-likelihood = -0.54, time = 21.55s\n",
      "[BernoulliRBM] Iteration 4, pseudo-likelihood = -2.28, time = 21.38s\n",
      "\n",
      " *******************  EPOCH 6 **********************\n",
      "[BernoulliRBM] Iteration 1, pseudo-likelihood = -3.37, time = 39.40s\n",
      "[BernoulliRBM] Iteration 2, pseudo-likelihood = -2.36, time = 45.19s\n",
      "[BernoulliRBM] Iteration 3, pseudo-likelihood = -2.41, time = 44.20s\n",
      "[BernoulliRBM] Iteration 4, pseudo-likelihood = -2.19, time = 45.03s\n",
      "\n",
      "+-----------------------------------------+\n"
     ]
    },
    {
     "data": {
      "text/html": [
       "<style>#sk-container-id-12 {color: black;background-color: white;}#sk-container-id-12 pre{padding: 0;}#sk-container-id-12 div.sk-toggleable {background-color: white;}#sk-container-id-12 label.sk-toggleable__label {cursor: pointer;display: block;width: 100%;margin-bottom: 0;padding: 0.3em;box-sizing: border-box;text-align: center;}#sk-container-id-12 label.sk-toggleable__label-arrow:before {content: \"▸\";float: left;margin-right: 0.25em;color: #696969;}#sk-container-id-12 label.sk-toggleable__label-arrow:hover:before {color: black;}#sk-container-id-12 div.sk-estimator:hover label.sk-toggleable__label-arrow:before {color: black;}#sk-container-id-12 div.sk-toggleable__content {max-height: 0;max-width: 0;overflow: hidden;text-align: left;background-color: #f0f8ff;}#sk-container-id-12 div.sk-toggleable__content pre {margin: 0.2em;color: black;border-radius: 0.25em;background-color: #f0f8ff;}#sk-container-id-12 input.sk-toggleable__control:checked~div.sk-toggleable__content {max-height: 200px;max-width: 100%;overflow: auto;}#sk-container-id-12 input.sk-toggleable__control:checked~label.sk-toggleable__label-arrow:before {content: \"▾\";}#sk-container-id-12 div.sk-estimator input.sk-toggleable__control:checked~label.sk-toggleable__label {background-color: #d4ebff;}#sk-container-id-12 div.sk-label input.sk-toggleable__control:checked~label.sk-toggleable__label {background-color: #d4ebff;}#sk-container-id-12 input.sk-hidden--visually {border: 0;clip: rect(1px 1px 1px 1px);clip: rect(1px, 1px, 1px, 1px);height: 1px;margin: -1px;overflow: hidden;padding: 0;position: absolute;width: 1px;}#sk-container-id-12 div.sk-estimator {font-family: monospace;background-color: #f0f8ff;border: 1px dotted black;border-radius: 0.25em;box-sizing: border-box;margin-bottom: 0.5em;}#sk-container-id-12 div.sk-estimator:hover {background-color: #d4ebff;}#sk-container-id-12 div.sk-parallel-item::after {content: \"\";width: 100%;border-bottom: 1px solid gray;flex-grow: 1;}#sk-container-id-12 div.sk-label:hover label.sk-toggleable__label {background-color: #d4ebff;}#sk-container-id-12 div.sk-serial::before {content: \"\";position: absolute;border-left: 1px solid gray;box-sizing: border-box;top: 0;bottom: 0;left: 50%;z-index: 0;}#sk-container-id-12 div.sk-serial {display: flex;flex-direction: column;align-items: center;background-color: white;padding-right: 0.2em;padding-left: 0.2em;position: relative;}#sk-container-id-12 div.sk-item {position: relative;z-index: 1;}#sk-container-id-12 div.sk-parallel {display: flex;align-items: stretch;justify-content: center;background-color: white;position: relative;}#sk-container-id-12 div.sk-item::before, #sk-container-id-12 div.sk-parallel-item::before {content: \"\";position: absolute;border-left: 1px solid gray;box-sizing: border-box;top: 0;bottom: 0;left: 50%;z-index: -1;}#sk-container-id-12 div.sk-parallel-item {display: flex;flex-direction: column;z-index: 1;position: relative;background-color: white;}#sk-container-id-12 div.sk-parallel-item:first-child::after {align-self: flex-end;width: 50%;}#sk-container-id-12 div.sk-parallel-item:last-child::after {align-self: flex-start;width: 50%;}#sk-container-id-12 div.sk-parallel-item:only-child::after {width: 0;}#sk-container-id-12 div.sk-dashed-wrapped {border: 1px dashed gray;margin: 0 0.4em 0.5em 0.4em;box-sizing: border-box;padding-bottom: 0.4em;background-color: white;}#sk-container-id-12 div.sk-label label {font-family: monospace;font-weight: bold;display: inline-block;line-height: 1.2em;}#sk-container-id-12 div.sk-label-container {text-align: center;}#sk-container-id-12 div.sk-container {/* jupyter's `normalize.less` sets `[hidden] { display: none; }` but bootstrap.min.css set `[hidden] { display: none !important; }` so we also need the `!important` here to be able to override the default hidden behavior on the sphinx rendered scikit-learn.org. See: https://github.com/scikit-learn/scikit-learn/issues/21755 */display: inline-block !important;position: relative;}#sk-container-id-12 div.sk-text-repr-fallback {display: none;}</style><div id=\"sk-container-id-12\" class=\"sk-top-container\"><div class=\"sk-text-repr-fallback\"><pre>Pipeline(steps=[(&#x27;layer_1&#x27;,\n",
       "                 BernoulliRBM(learning_rate=0.09549, n_components=20, n_iter=4,\n",
       "                              verbose=1)),\n",
       "                (&#x27;layer_2&#x27;,\n",
       "                 BernoulliRBM(learning_rate=0.09549, n_components=42, n_iter=4,\n",
       "                              verbose=1)),\n",
       "                (&#x27;layer_3&#x27;,\n",
       "                 BernoulliRBM(learning_rate=0.09549, n_components=84, n_iter=4,\n",
       "                              verbose=1)),\n",
       "                (&#x27;layer_4&#x27;,\n",
       "                 BernoulliRBM(learning_rate=0.09549, n_components=84, n_iter=4,\n",
       "                              verbose=1)),\n",
       "                (&#x27;layer_5&#x27;,\n",
       "                 BernoulliRBM(learning_rate=0.09549, n_iter=4, verbose=1)),\n",
       "                (&#x27;layer_6&#x27;,\n",
       "                 BernoulliRBM(learning_rate=0.09549, n_iter=4, verbose=1)),\n",
       "                (&#x27;layer_7&#x27;, LogisticRegression(max_iter=1000))])</pre><b>In a Jupyter environment, please rerun this cell to show the HTML representation or trust the notebook. <br />On GitHub, the HTML representation is unable to render, please try loading this page with nbviewer.org.</b></div><div class=\"sk-container\" hidden><div class=\"sk-item sk-dashed-wrapped\"><div class=\"sk-label-container\"><div class=\"sk-label sk-toggleable\"><input class=\"sk-toggleable__control sk-hidden--visually\" id=\"sk-estimator-id-56\" type=\"checkbox\" ><label for=\"sk-estimator-id-56\" class=\"sk-toggleable__label sk-toggleable__label-arrow\">Pipeline</label><div class=\"sk-toggleable__content\"><pre>Pipeline(steps=[(&#x27;layer_1&#x27;,\n",
       "                 BernoulliRBM(learning_rate=0.09549, n_components=20, n_iter=4,\n",
       "                              verbose=1)),\n",
       "                (&#x27;layer_2&#x27;,\n",
       "                 BernoulliRBM(learning_rate=0.09549, n_components=42, n_iter=4,\n",
       "                              verbose=1)),\n",
       "                (&#x27;layer_3&#x27;,\n",
       "                 BernoulliRBM(learning_rate=0.09549, n_components=84, n_iter=4,\n",
       "                              verbose=1)),\n",
       "                (&#x27;layer_4&#x27;,\n",
       "                 BernoulliRBM(learning_rate=0.09549, n_components=84, n_iter=4,\n",
       "                              verbose=1)),\n",
       "                (&#x27;layer_5&#x27;,\n",
       "                 BernoulliRBM(learning_rate=0.09549, n_iter=4, verbose=1)),\n",
       "                (&#x27;layer_6&#x27;,\n",
       "                 BernoulliRBM(learning_rate=0.09549, n_iter=4, verbose=1)),\n",
       "                (&#x27;layer_7&#x27;, LogisticRegression(max_iter=1000))])</pre></div></div></div><div class=\"sk-serial\"><div class=\"sk-item\"><div class=\"sk-estimator sk-toggleable\"><input class=\"sk-toggleable__control sk-hidden--visually\" id=\"sk-estimator-id-57\" type=\"checkbox\" ><label for=\"sk-estimator-id-57\" class=\"sk-toggleable__label sk-toggleable__label-arrow\">BernoulliRBM</label><div class=\"sk-toggleable__content\"><pre>BernoulliRBM(learning_rate=0.09549, n_components=20, n_iter=4, verbose=1)</pre></div></div></div><div class=\"sk-item\"><div class=\"sk-estimator sk-toggleable\"><input class=\"sk-toggleable__control sk-hidden--visually\" id=\"sk-estimator-id-58\" type=\"checkbox\" ><label for=\"sk-estimator-id-58\" class=\"sk-toggleable__label sk-toggleable__label-arrow\">BernoulliRBM</label><div class=\"sk-toggleable__content\"><pre>BernoulliRBM(learning_rate=0.09549, n_components=42, n_iter=4, verbose=1)</pre></div></div></div><div class=\"sk-item\"><div class=\"sk-estimator sk-toggleable\"><input class=\"sk-toggleable__control sk-hidden--visually\" id=\"sk-estimator-id-59\" type=\"checkbox\" ><label for=\"sk-estimator-id-59\" class=\"sk-toggleable__label sk-toggleable__label-arrow\">BernoulliRBM</label><div class=\"sk-toggleable__content\"><pre>BernoulliRBM(learning_rate=0.09549, n_components=84, n_iter=4, verbose=1)</pre></div></div></div><div class=\"sk-item\"><div class=\"sk-estimator sk-toggleable\"><input class=\"sk-toggleable__control sk-hidden--visually\" id=\"sk-estimator-id-60\" type=\"checkbox\" ><label for=\"sk-estimator-id-60\" class=\"sk-toggleable__label sk-toggleable__label-arrow\">BernoulliRBM</label><div class=\"sk-toggleable__content\"><pre>BernoulliRBM(learning_rate=0.09549, n_components=84, n_iter=4, verbose=1)</pre></div></div></div><div class=\"sk-item\"><div class=\"sk-estimator sk-toggleable\"><input class=\"sk-toggleable__control sk-hidden--visually\" id=\"sk-estimator-id-61\" type=\"checkbox\" ><label for=\"sk-estimator-id-61\" class=\"sk-toggleable__label sk-toggleable__label-arrow\">BernoulliRBM</label><div class=\"sk-toggleable__content\"><pre>BernoulliRBM(learning_rate=0.09549, n_iter=4, verbose=1)</pre></div></div></div><div class=\"sk-item\"><div class=\"sk-estimator sk-toggleable\"><input class=\"sk-toggleable__control sk-hidden--visually\" id=\"sk-estimator-id-62\" type=\"checkbox\" ><label for=\"sk-estimator-id-62\" class=\"sk-toggleable__label sk-toggleable__label-arrow\">BernoulliRBM</label><div class=\"sk-toggleable__content\"><pre>BernoulliRBM(learning_rate=0.09549, n_iter=4, verbose=1)</pre></div></div></div><div class=\"sk-item\"><div class=\"sk-estimator sk-toggleable\"><input class=\"sk-toggleable__control sk-hidden--visually\" id=\"sk-estimator-id-63\" type=\"checkbox\" ><label for=\"sk-estimator-id-63\" class=\"sk-toggleable__label sk-toggleable__label-arrow\">LogisticRegression</label><div class=\"sk-toggleable__content\"><pre>LogisticRegression(max_iter=1000)</pre></div></div></div></div></div></div></div>"
      ],
      "text/plain": [
       "Pipeline(steps=[('layer_1',\n",
       "                 BernoulliRBM(learning_rate=0.09549, n_components=20, n_iter=4,\n",
       "                              verbose=1)),\n",
       "                ('layer_2',\n",
       "                 BernoulliRBM(learning_rate=0.09549, n_components=42, n_iter=4,\n",
       "                              verbose=1)),\n",
       "                ('layer_3',\n",
       "                 BernoulliRBM(learning_rate=0.09549, n_components=84, n_iter=4,\n",
       "                              verbose=1)),\n",
       "                ('layer_4',\n",
       "                 BernoulliRBM(learning_rate=0.09549, n_components=84, n_iter=4,\n",
       "                              verbose=1)),\n",
       "                ('layer_5',\n",
       "                 BernoulliRBM(learning_rate=0.09549, n_iter=4, verbose=1)),\n",
       "                ('layer_6',\n",
       "                 BernoulliRBM(learning_rate=0.09549, n_iter=4, verbose=1)),\n",
       "                ('layer_7', LogisticRegression(max_iter=1000))])"
      ]
     },
     "execution_count": 79,
     "metadata": {},
     "output_type": "execute_result"
    }
   ],
   "source": [
    "# training the arhitecture\n",
    "dbn3.fit_model(X_train, y_train)"
   ]
  },
  {
   "cell_type": "code",
   "execution_count": 80,
   "metadata": {},
   "outputs": [
    {
     "name": "stdout",
     "output_type": "stream",
     "text": [
      "Calculated Feature (51210, 20)\n",
      "Calculated Feature (51210, 42)\n",
      "Calculated Feature (51210, 84)\n",
      "Calculated Feature (51210, 84)\n",
      "Calculated Feature (51210, 256)\n",
      "Calculated Feature (51210, 256)\n",
      "\n",
      "EXE TIME\n",
      "Total Detection Time : 2.884421\n",
      "AVG Detection Time : 0.00005633 \n",
      "\n",
      "              precision    recall  f1-score   support\n",
      "\n",
      "           0       1.00      0.62      0.77     25605\n",
      "           1       0.73      1.00      0.84     25605\n",
      "\n",
      "    accuracy                           0.81     51210\n",
      "   macro avg       0.86      0.81      0.80     51210\n",
      "weighted avg       0.86      0.81      0.80     51210\n",
      "\n",
      "\n",
      "\n"
     ]
    },
    {
     "data": {
      "text/plain": [
       "<Axes: >"
      ]
     },
     "execution_count": 80,
     "metadata": {},
     "output_type": "execute_result"
    },
    {
     "data": {
      "image/png": "[encoded data removed]",
      "text/plain": [
       "<Figure size 640x480 with 2 Axes>"
      ]
     },
     "metadata": {},
     "output_type": "display_data"
    }
   ],
   "source": [
    "# make prediction\n",
    "strt_time = time.time()\n",
    "prediction = dbn3.predict(X_test, y_test)\n",
    "stop_time = time.time()\n",
    "\n",
    "print('\\nEXE TIME')\n",
    "total_time  = stop_time - strt_time\n",
    "avg_time = total_time / X_test.shape[0]\n",
    "print(f'Total Detection Time : {total_time:.6f}')\n",
    "print(f'AVG Detection Time : {avg_time:.8f} \\n')\n",
    "\n",
    "# evaluation report \n",
    "class_report = classification_report(y_test, prediction['pre'])\n",
    "conf_report = confusion_matrix(y_test, prediction['pre'])\n",
    "print(class_report)\n",
    "print('\\n')\n",
    "sn.heatmap(conf_report, fmt='d', annot=True)"
   ]
  },
  {
   "cell_type": "code",
   "execution_count": 81,
   "metadata": {},
   "outputs": [
    {
     "name": "stdout",
     "output_type": "stream",
     "text": [
      "{'TPR (Recall)': 1.0, 'FPR': 0.27456368993653674, 'FNR': 0.0, 'Accuracy': 0.8107596172622534, 'Precision': 0.621519234524507, 'Recall': 1.0, 'Specificity': 0.7254363100634633, 'AVG EXE TIME': '0.00005633'}\n"
     ]
    },
    {
     "data": {
      "text/plain": [
       "TPR (Recall)           1.0\n",
       "FPR               0.274564\n",
       "FNR                    0.0\n",
       "Accuracy           0.81076\n",
       "Precision         0.621519\n",
       "Recall                 1.0\n",
       "Specificity       0.725436\n",
       "AVG EXE TIME    0.00005633\n",
       "dtype: object"
      ]
     },
     "execution_count": 81,
     "metadata": {},
     "output_type": "execute_result"
    }
   ],
   "source": [
    "tp, fp, fn, tn = conf_report.ravel()\n",
    "metrics3 = compute_metrics(tp, fp, fn, tn, avg_time)\n",
    "print(metrics3)\n",
    "result3 = pd.Series(metrics3)\n",
    "result3"
   ]
  },
  {
   "cell_type": "code",
   "execution_count": null,
   "metadata": {},
   "outputs": [],
   "source": []
  },
  {
   "cell_type": "code",
   "execution_count": 82,
   "metadata": {},
   "outputs": [
    {
     "data": {
      "text/html": [
       "<div>\n",
       "<style scoped>\n",
       "    .dataframe tbody tr th:only-of-type {\n",
       "        vertical-align: middle;\n",
       "    }\n",
       "\n",
       "    .dataframe tbody tr th {\n",
       "        vertical-align: top;\n",
       "    }\n",
       "\n",
       "    .dataframe thead th {\n",
       "        text-align: right;\n",
       "    }\n",
       "</style>\n",
       "<table border=\"1\" class=\"dataframe\">\n",
       "  <thead>\n",
       "    <tr style=\"text-align: right;\">\n",
       "      <th></th>\n",
       "      <th>TPR (Recall)</th>\n",
       "      <th>FPR</th>\n",
       "      <th>FNR</th>\n",
       "      <th>Accuracy</th>\n",
       "      <th>Precision</th>\n",
       "      <th>Recall</th>\n",
       "      <th>Specificity</th>\n",
       "      <th>AVG EXE TIME</th>\n",
       "    </tr>\n",
       "  </thead>\n",
       "  <tbody>\n",
       "    <tr>\n",
       "      <th>0</th>\n",
       "      <td>1.0</td>\n",
       "      <td>0.369211</td>\n",
       "      <td>0.0</td>\n",
       "      <td>0.707342</td>\n",
       "      <td>0.414685</td>\n",
       "      <td>1.0</td>\n",
       "      <td>0.630789</td>\n",
       "      <td>0.00003045</td>\n",
       "    </tr>\n",
       "    <tr>\n",
       "      <th>1</th>\n",
       "      <td>1.0</td>\n",
       "      <td>0.196555</td>\n",
       "      <td>0.0</td>\n",
       "      <td>0.877680</td>\n",
       "      <td>0.755360</td>\n",
       "      <td>1.0</td>\n",
       "      <td>0.803445</td>\n",
       "      <td>0.00005815</td>\n",
       "    </tr>\n",
       "    <tr>\n",
       "      <th>2</th>\n",
       "      <td>1.0</td>\n",
       "      <td>0.274564</td>\n",
       "      <td>0.0</td>\n",
       "      <td>0.810760</td>\n",
       "      <td>0.621519</td>\n",
       "      <td>1.0</td>\n",
       "      <td>0.725436</td>\n",
       "      <td>0.00005633</td>\n",
       "    </tr>\n",
       "  </tbody>\n",
       "</table>\n",
       "</div>"
      ],
      "text/plain": [
       "   TPR (Recall)       FPR  FNR  Accuracy  Precision  Recall  Specificity  \\\n",
       "0           1.0  0.369211  0.0  0.707342   0.414685     1.0     0.630789   \n",
       "1           1.0  0.196555  0.0  0.877680   0.755360     1.0     0.803445   \n",
       "2           1.0  0.274564  0.0  0.810760   0.621519     1.0     0.725436   \n",
       "\n",
       "  AVG EXE TIME  \n",
       "0   0.00003045  \n",
       "1   0.00005815  \n",
       "2   0.00005633  "
      ]
     },
     "execution_count": 82,
     "metadata": {},
     "output_type": "execute_result"
    }
   ],
   "source": [
    "df_result = pd.DataFrame([result, result2, result3])\n",
    "df_result"
   ]
  },
  {
   "cell_type": "code",
   "execution_count": 97,
   "metadata": {},
   "outputs": [
    {
     "data": {
      "image/png": "[encoded data removed]",
      "text/plain": [
       "<Figure size 400x400 with 1 Axes>"
      ]
     },
     "metadata": {},
     "output_type": "display_data"
    }
   ],
   "source": [
    "plt.figure(figsize=(4,4))\n",
    "df_result['AVG EXE TIME'].astype('float16').plot(kind='bar', color=['g', 'gold', 'brown'])\n",
    "plt.xticks(np.arange(3), labels=['4 LAYER RBM', '5 LAYER RBM', '6 LAYER RBM'])\n",
    "plt.ylabel('Average execution time')\n",
    "plt.xlabel('Num Of Layer')\n",
    "plt.title('AVEG EXE PER LAYER')\n",
    "plt.show()"
   ]
  },
  {
   "cell_type": "code",
   "execution_count": 84,
   "metadata": {},
   "outputs": [
    {
     "data": {
      "text/plain": [
       "<Figure size 400x400 with 0 Axes>"
      ]
     },
     "metadata": {},
     "output_type": "display_data"
    },
    {
     "data": {
      "image/png": "[encoded data removed]",
      "text/plain": [
       "<Figure size 640x480 with 1 Axes>"
      ]
     },
     "metadata": {},
     "output_type": "display_data"
    }
   ],
   "source": [
    "plt.figure(figsize=(4,4))\n",
    "df_result[['Accuracy', 'Precision', 'Recall', 'Specificity']].plot()\n",
    "plt.xticks(np.arange(3), labels=['1 LAYER RBM', '2 LAYER RBM', '3 LAYER RBM'], rotation=45)\n",
    "\n",
    "plt.ylabel('Percentage (%)')\n",
    "# plt.xlabel('Num Of Layer')\n",
    "plt.title('PERFORMANCE METRIC SUMMARY [1]')\n",
    "plt.show()"
   ]
  },
  {
   "cell_type": "code",
   "execution_count": 85,
   "metadata": {},
   "outputs": [
    {
     "data": {
      "text/plain": [
       "<Figure size 400x400 with 0 Axes>"
      ]
     },
     "metadata": {},
     "output_type": "display_data"
    },
    {
     "data": {
      "image/png": "[encoded data removed]",
      "text/plain": [
       "<Figure size 640x480 with 1 Axes>"
      ]
     },
     "metadata": {},
     "output_type": "display_data"
    }
   ],
   "source": [
    "plt.figure(figsize=(4,4))\n",
    "df_result[['TPR (Recall)']].plot(color='orange')\n",
    "plt.xticks(np.arange(3), labels=['1 LAYER RBM', '2 LAYER RBM', '3 LAYER RBM'], rotation=45)\n",
    "plt.legend(labels='R')\n",
    "plt.ylabel('Percentage (%)')\n",
    "# plt.xlabel('Num Of Layer')\n",
    "plt.title('DDOS DETECTION RATE')\n",
    "plt.show()"
   ]
  },
  {
   "cell_type": "code",
   "execution_count": 86,
   "metadata": {},
   "outputs": [
    {
     "name": "stdout",
     "output_type": "stream",
     "text": [
      "Index(['Accuracy', 'Precision', 'Recall'], dtype='object')\n"
     ]
    },
    {
     "data": {
      "text/plain": [
       "<Axes: >"
      ]
     },
     "execution_count": 86,
     "metadata": {},
     "output_type": "execute_result"
    },
    {
     "data": {
      "image/png": "[encoded data removed]",
      "text/plain": [
       "<Figure size 640x480 with 1 Axes>"
      ]
     },
     "metadata": {},
     "output_type": "display_data"
    }
   ],
   "source": [
    "print(df_result.columns[3:6])\n",
    "df_result[df_result.columns[3:6]].plot()"
   ]
  },
  {
   "cell_type": "code",
   "execution_count": null,
   "metadata": {},
   "outputs": [],
   "source": []
  },
  {
   "cell_type": "code",
   "execution_count": null,
   "metadata": {},
   "outputs": [],
   "source": []
  }
 ],
 "metadata": {
  "kaggle": {
   "accelerator": "none",
   "dataSources": [
    {
     "datasetId": 3566887,
     "sourceId": 6211501,
     "sourceType": "datasetVersion"
    }
   ],
   "dockerImageVersionId": 30886,
   "isGpuEnabled": false,
   "isInternetEnabled": true,
   "language": "python",
   "sourceType": "notebook"
  },
  "kernelspec": {
   "display_name": "Python 3 (ipykernel)",
   "language": "python",
   "name": "python3"
  },
  "language_info": {
   "codemirror_mode": {
    "name": "ipython",
    "version": 3
   },
   "file_extension": ".py",
   "mimetype": "text/x-python",
   "name": "python",
   "nbconvert_exporter": "python",
   "pygments_lexer": "ipython3",
   "version": "3.9.5"
  }
 },
 "nbformat": 4,
 "nbformat_minor": 4
}
