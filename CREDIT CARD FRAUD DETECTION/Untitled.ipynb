{
 "cells": [
  {
   "cell_type": "code",
   "execution_count": 23,
   "id": "3239ac45-5bb9-4633-a62e-28a1c503319c",
   "metadata": {},
   "outputs": [
    {
     "name": "stdout",
     "output_type": "stream",
     "text": [
      "this text is showing \n",
      "the way its display\n",
      "this will be on the last line\n",
      "\n"
     ]
    }
   ],
   "source": [
    "text = \"\"\"this text is showing \n",
    "the way its display\n",
    "this will be on the last line\n",
    "\"\"\"\n",
    "\n",
    "print(text)"
   ]
  },
  {
   "cell_type": "code",
   "execution_count": 25,
   "id": "18cd3bc2-9139-40f0-9abd-f4ee1751a826",
   "metadata": {},
   "outputs": [
    {
     "name": "stdout",
     "output_type": "stream",
     "text": [
      "this is cool and \n",
      "this goes to the next line\n"
     ]
    }
   ],
   "source": [
    "x = 'this is cool and \\nthis goes to the next line'\n",
    "print(x)"
   ]
  },
  {
   "cell_type": "code",
   "execution_count": 44,
   "id": "365215e5-517d-43fc-82ac-69e194dde052",
   "metadata": {},
   "outputs": [
    {
     "name": "stdout",
     "output_type": "stream",
     "text": [
      "38\n",
      "adam\n",
      "smith\n",
      "you age is 38 you name is adam smith\n",
      "you age is 38 and you name is adam smith\n"
     ]
    }
   ],
   "source": [
    "# Format specifir\n",
    "\n",
    "age = 38\n",
    "first_name = 'adam'\n",
    "second_name = 'smith'\n",
    "\n",
    "print(age)\n",
    "print(first_name)\n",
    "print(second_name)\n",
    "print(\"you age is\", age, 'you name is', first_name, second_name)\n",
    "print(\"you age is {} and you name is {} {}\".format(first_name,age second_name))"
   ]
  }
 ],
 "metadata": {
  "kernelspec": {
   "display_name": "Python 3 (ipykernel)",
   "language": "python",
   "name": "python3"
  },
  "language_info": {
   "codemirror_mode": {
    "name": "ipython",
    "version": 3
   },
   "file_extension": ".py",
   "mimetype": "text/x-python",
   "name": "python",
   "nbconvert_exporter": "python",
   "pygments_lexer": "ipython3",
   "version": "3.9.5"
  }
 },
 "nbformat": 4,
 "nbformat_minor": 5
}
