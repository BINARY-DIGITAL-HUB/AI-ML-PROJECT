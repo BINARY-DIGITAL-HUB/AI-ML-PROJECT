{
 "cells": [
  {
   "cell_type": "markdown",
   "id": "ac755aae-3a79-4050-9380-c85884fadfc2",
   "metadata": {},
   "source": [
    "## Spark"
   ]
  },
  {
   "cell_type": "code",
   "execution_count": 171,
   "id": "fb18e024-e13a-40ae-9a5d-592979bcf3cb",
   "metadata": {},
   "outputs": [],
   "source": [
    "from pyspark.sql import SparkSession\n",
    "from pyspark.sql.functions import sum as spark_sum"
   ]
  },
  {
   "cell_type": "code",
   "execution_count": 3,
   "id": "08d4bde0-549c-4b0f-ba7c-66a10766271b",
   "metadata": {},
   "outputs": [
    {
     "data": {
      "text/html": [
       "\n",
       "            <div>\n",
       "                <p><b>SparkSession - in-memory</b></p>\n",
       "                \n",
       "        <div>\n",
       "            <p><b>SparkContext</b></p>\n",
       "\n",
       "            <p><a href=\"http://DESKTOP-0RFAQUO:4041\">Spark UI</a></p>\n",
       "\n",
       "            <dl>\n",
       "              <dt>Version</dt>\n",
       "                <dd><code>v3.5.0</code></dd>\n",
       "              <dt>Master</dt>\n",
       "                <dd><code>local[*]</code></dd>\n",
       "              <dt>AppName</dt>\n",
       "                <dd><code>offence</code></dd>\n",
       "            </dl>\n",
       "        </div>\n",
       "        \n",
       "            </div>\n",
       "        "
      ],
      "text/plain": [
       "<pyspark.sql.session.SparkSession at 0x1ccebf34d90>"
      ]
     },
     "execution_count": 3,
     "metadata": {},
     "output_type": "execute_result"
    }
   ],
   "source": [
    "# init spark object\n",
    "spark_query = SparkSession.builder.appName(\"offence\").getOrCreate()\n",
    "spark_query"
   ]
  },
  {
   "cell_type": "code",
   "execution_count": 12,
   "id": "abaedd67-907f-4ce0-ad8d-cd8d8eb90d71",
   "metadata": {},
   "outputs": [
    {
     "data": {
      "text/plain": [
       "DataFrame[_c0: int, Financial Year: string, Financial Quarter: int, Force Name: string, Offence Description: string, Offence Group: string, Offence Subgroup: string, Offence Code: string, Number of Offences: int]"
      ]
     },
     "execution_count": 12,
     "metadata": {},
     "output_type": "execute_result"
    }
   ],
   "source": [
    "# loading dataset\n",
    "data_path = 'offence_data.csv'\n",
    "offence_df = spark_query.read.csv(data_path, header=True, inferSchema=True)\n",
    "offence_df"
   ]
  },
  {
   "cell_type": "code",
   "execution_count": 19,
   "id": "03f6f94f-cbbf-4076-a1bb-58e74d55fee3",
   "metadata": {},
   "outputs": [
    {
     "name": "stdout",
     "output_type": "stream",
     "text": [
      "+---+--------------+-----------------+-----------------+--------------------+--------------------+--------------------+------------+------------------+\n",
      "|_c0|Financial Year|Financial Quarter|       Force Name| Offence Description|       Offence Group|    Offence Subgroup|Offence Code|Number of Offences|\n",
      "+---+--------------+-----------------+-----------------+--------------------+--------------------+--------------------+------------+------------------+\n",
      "|  0|       2012/13|                1|     Action Fraud|Fraud offences re...|      Fraud offences| Fraud: Action Fraud|          AF|             20323|\n",
      "|  1|       2012/13|                1|Avon and Somerset|Abandoning child ...|Violence against ...|Violence without ...|          12|                 0|\n",
      "|  2|       2012/13|                1|Avon and Somerset|Absconding from l...|Miscellaneous cri...|Miscellaneous cri...|          80|                 1|\n",
      "|  3|       2012/13|                1|Avon and Somerset|Abuse of children...|     Sexual offences|Other sexual offe...|          71|                 0|\n",
      "+---+--------------+-----------------+-----------------+--------------------+--------------------+--------------------+------------+------------------+\n",
      "only showing top 4 rows\n",
      "\n"
     ]
    }
   ],
   "source": [
    "table.show(4)"
   ]
  },
  {
   "cell_type": "code",
   "execution_count": 13,
   "id": "9b49a8e1-0153-4707-9af8-fa4089f426a0",
   "metadata": {},
   "outputs": [],
   "source": [
    "#creating and  SQL table from the datafram\n",
    "offence_df.createOrReplaceTempView(\"offence_table\")"
   ]
  },
  {
   "cell_type": "code",
   "execution_count": 85,
   "id": "1ff37c55-2972-4df5-b144-9ecdc94873ae",
   "metadata": {},
   "outputs": [
    {
     "name": "stdout",
     "output_type": "stream",
     "text": [
      "+---+--------------+-----------------+-----------------+--------------------+--------------------+--------------------+------------+------------------+\n",
      "|_c0|Financial Year|Financial Quarter|       Force Name| Offence Description|       Offence Group|    Offence Subgroup|Offence Code|Number of Offences|\n",
      "+---+--------------+-----------------+-----------------+--------------------+--------------------+--------------------+------------+------------------+\n",
      "|  0|       2012/13|                1|     Action Fraud|Fraud offences re...|      Fraud offences| Fraud: Action Fraud|          AF|             20323|\n",
      "|  1|       2012/13|                1|Avon and Somerset|Abandoning child ...|Violence against ...|Violence without ...|          12|                 0|\n",
      "|  2|       2012/13|                1|Avon and Somerset|Absconding from l...|Miscellaneous cri...|Miscellaneous cri...|          80|                 1|\n",
      "|  3|       2012/13|                1|Avon and Somerset|Abuse of children...|     Sexual offences|Other sexual offe...|          71|                 0|\n",
      "|  4|       2012/13|                1|Avon and Somerset|Abuse of position...|     Sexual offences|Other sexual offe...|          73|                 3|\n",
      "|  5|       2012/13|                1|Avon and Somerset|Actually bodily h...|Violence against ...|Violence with injury|          8G|                 0|\n",
      "|  6|       2012/13|                1|Avon and Somerset|Adulteration of f...|Miscellaneous cri...|Miscellaneous cri...|          89|                 0|\n",
      "|  7|       2012/13|                1|Avon and Somerset|Aggravated burgla...|      Theft offences|Non-domestic burg...|          31|                 1|\n",
      "|  8|       2012/13|                1|Avon and Somerset|Aggravated burgla...|      Theft offences|   Domestic burglary|          29|                 5|\n",
      "|  9|       2012/13|                1|Avon and Somerset|Aggravated vehicl...|      Theft offences|Theft of a motor ...|        37.2|                45|\n",
      "| 10|       2012/13|                1|Avon and Somerset|      Aiding suicide|Miscellaneous cri...|Miscellaneous cri...|          76|                 0|\n",
      "| 11|       2012/13|                1|Avon and Somerset|Arson endangering...|Criminal damage a...|               Arson|         56A|                25|\n",
      "| 12|       2012/13|                1|Avon and Somerset|Arson not endange...|Criminal damage a...|               Arson|         56B|               184|\n",
      "| 13|       2012/13|                1|Avon and Somerset| Assault with injury|Violence against ...|Violence with injury|          8N|              2064|\n",
      "| 14|       2012/13|                1|Avon and Somerset|Assault with inte...|Violence against ...|Violence with injury|          5D|                83|\n",
      "| 15|       2012/13|                1|Avon and Somerset|Assault without i...|Violence against ...|Violence without ...|        105A|              1573|\n",
      "| 16|       2012/13|                1|Avon and Somerset|Assault without i...|Violence against ...|Violence without ...|         104|               140|\n",
      "| 17|       2012/13|                1|Avon and Somerset|Attempted burglar...|      Theft offences|Non-domestic burg...|         30B|               205|\n",
      "| 18|       2012/13|                1|Avon and Somerset|Attempted burglar...|      Theft offences|   Domestic burglary|         28B|               182|\n",
      "| 19|       2012/13|                1|Avon and Somerset|Attempted distrac...|      Theft offences|   Domestic burglary|         28D|                 2|\n",
      "+---+--------------+-----------------+-----------------+--------------------+--------------------+--------------------+------------+------------------+\n",
      "only showing top 20 rows\n",
      "\n"
     ]
    }
   ],
   "source": [
    "# quering all item from the table.. \n",
    "table_query = spark_query.sql('SELECT * FROM offence_table')\n",
    "table_query.show()"
   ]
  },
  {
   "cell_type": "code",
   "execution_count": 115,
   "id": "bf80cd51-4c93-4e17-8246-e4be4415f339",
   "metadata": {},
   "outputs": [
    {
     "data": {
      "text/plain": [
       "['_c0',\n",
       " 'Financial Year',\n",
       " 'Financial Quarter',\n",
       " 'Force Name',\n",
       " 'Offence Description',\n",
       " 'Offence Group',\n",
       " 'Offence Subgroup',\n",
       " 'Offence Code',\n",
       " 'Number of Offences']"
      ]
     },
     "execution_count": 115,
     "metadata": {},
     "output_type": "execute_result"
    }
   ],
   "source": [
    "table_query.columns"
   ]
  },
  {
   "cell_type": "code",
   "execution_count": 82,
   "id": "a887e698-a6ee-49d8-bd0a-27b90d449596",
   "metadata": {},
   "outputs": [
    {
     "name": "stdout",
     "output_type": "stream",
     "text": [
      "Offence recorde above 1000 : =  12601\n",
      "+---+--------------+-----------------+--------------------+--------------------+--------------------+--------------------+------------+------------------+\n",
      "|_c0|Financial Year|Financial Quarter|          Force Name| Offence Description|       Offence Group|    Offence Subgroup|Offence Code|Number of Offences|\n",
      "+---+--------------+-----------------+--------------------+--------------------+--------------------+--------------------+------------+------------------+\n",
      "|  0|       2012/13|                1|        Action Fraud|Fraud offences re...|      Fraud offences| Fraud: Action Fraud|          AF|             20323|\n",
      "| 13|       2012/13|                1|   Avon and Somerset| Assault with injury|Violence against ...|Violence with injury|          8N|              2064|\n",
      "| 15|       2012/13|                1|   Avon and Somerset|Assault without i...|Violence against ...|Violence without ...|        105A|              1573|\n",
      "| 26|       2012/13|                1|   Avon and Somerset|Burglary in a bui...|      Theft offences|Non-domestic burg...|         30A|              1655|\n",
      "| 40|       2012/13|                1|   Avon and Somerset|Criminal damage t...|Criminal damage a...|     Criminal damage|         58C|              1721|\n",
      "| 85|       2012/13|                1|   Avon and Somerset|         Other theft|      Theft offences|Other theft offences|          49|              2997|\n",
      "| 92|       2012/13|                1|   Avon and Somerset|Possession of con...|       Drug offences| Possession of drugs|         92E|              1325|\n",
      "|103|       2012/13|                1|   Avon and Somerset|Public fear, alar...|Public order offe...|Public order offe...|          9A|              1074|\n",
      "|133|       2012/13|                1|   Avon and Somerset|         Shoplifting|      Theft offences|         Shoplifting|          46|              2629|\n",
      "|138|       2012/13|                1|   Avon and Somerset|  Theft from vehicle|      Theft offences|Theft from a vehicle|          45|              1857|\n",
      "|385|       2012/13|                1|British Transport...|Other criminal da...|Criminal damage a...|     Criminal damage|         58D|              1097|\n",
      "|393|       2012/13|                1|British Transport...|         Other theft|      Theft offences|Other theft offences|          49|              2361|\n",
      "|411|       2012/13|                1|British Transport...|Public fear, alar...|Public order offe...|Public order offe...|          9A|              1127|\n",
      "|445|       2012/13|                1|British Transport...|Theft from the pe...|      Theft offences|Theft from the pe...|          39|              2046|\n",
      "|449|       2012/13|                1|British Transport...|Theft or unauthor...|      Theft offences|       Bicycle theft|          44|              1289|\n",
      "|547|       2012/13|                1|      Cambridgeshire|         Other theft|      Theft offences|Other theft offences|          49|              1464|\n",
      "|595|       2012/13|                1|      Cambridgeshire|         Shoplifting|      Theft offences|         Shoplifting|          46|              1013|\n",
      "|629|       2012/13|                1|            Cheshire| Assault with injury|Violence against ...|Violence with injury|          8N|              1141|\n",
      "|631|       2012/13|                1|            Cheshire|Assault without i...|Violence against ...|Violence without ...|        105A|              1090|\n",
      "|701|       2012/13|                1|            Cheshire|         Other theft|      Theft offences|Other theft offences|          49|              1590|\n",
      "+---+--------------+-----------------+--------------------+--------------------+--------------------+--------------------+------------+------------------+\n",
      "only showing top 20 rows\n",
      "\n"
     ]
    }
   ],
   "source": [
    "query_offence = spark_query.sql(\"SELECT * FROM offence_table WHERE `Number of Offences` > 1000 \")\n",
    "print('Offence recorde above 1000 : = ', query_offence.count())\n",
    "query_offence.show()"
   ]
  },
  {
   "cell_type": "code",
   "execution_count": 111,
   "id": "a9068e49-37be-4466-a7f8-59e52a238479",
   "metadata": {},
   "outputs": [
    {
     "name": "stdout",
     "output_type": "stream",
     "text": [
      "Total Recorded Offence By Force Name\n",
      "+--------------------+-----+\n",
      "|          Force Name|count|\n",
      "+--------------------+-----+\n",
      "|       Thames Valley| 1434|\n",
      "|               Gwent| 1434|\n",
      "|           Hampshire| 1434|\n",
      "|       Staffordshire| 1434|\n",
      "|     Gloucestershire| 1434|\n",
      "|     Nottinghamshire| 1434|\n",
      "|     North Yorkshire| 1434|\n",
      "|              Surrey| 1434|\n",
      "|             Cumbria| 1434|\n",
      "|           Cleveland| 1434|\n",
      "|British Transport...| 1434|\n",
      "|               CIFAS|    7|\n",
      "|     London, City of| 1434|\n",
      "|          Merseyside| 1434|\n",
      "|  Greater Manchester| 1434|\n",
      "|          Lancashire| 1434|\n",
      "|        Warwickshire| 1434|\n",
      "|       Hertfordshire| 1434|\n",
      "|           Wiltshire| 1434|\n",
      "|      Leicestershire| 1434|\n",
      "| Metropolitan Police| 1434|\n",
      "|              Dorset| 1434|\n",
      "|        Bedfordshire| 1434|\n",
      "|         North Wales| 1434|\n",
      "|                Kent| 1434|\n",
      "|   Avon and Somerset| 1434|\n",
      "|               Cifas|    4|\n",
      "|             Norfolk| 1434|\n",
      "|         South Wales| 1434|\n",
      "|              Sussex| 1434|\n",
      "|      Cambridgeshire| 1434|\n",
      "|          Derbyshire| 1434|\n",
      "|Financial Fraud A...|    6|\n",
      "|              Durham| 1434|\n",
      "|     South Yorkshire| 1434|\n",
      "|             Suffolk| 1434|\n",
      "|    Northamptonshire| 1434|\n",
      "|         Northumbria| 1434|\n",
      "|         Dyfed-Powys| 1434|\n",
      "|        Lincolnshire| 1434|\n",
      "+--------------------+-----+\n",
      "only showing top 40 rows\n",
      "\n"
     ]
    }
   ],
   "source": [
    "print('Total Recorded Offence By Force Name')\n",
    "force_with_count_query = query.select('Force Name', 'Financial Quarter', 'Number of Offences').groupBy('Force Name').count().show(40)\n",
    "force_with_count_query"
   ]
  },
  {
   "cell_type": "code",
   "execution_count": null,
   "id": "9d509f1b-ef20-4adc-8866-83df28803347",
   "metadata": {},
   "outputs": [],
   "source": []
  },
  {
   "cell_type": "code",
   "execution_count": 88,
   "id": "1565183f-1460-4484-a591-415dcc24244e",
   "metadata": {},
   "outputs": [
    {
     "name": "stdout",
     "output_type": "stream",
     "text": [
      "+-----------------+\n",
      "|Financial Quarter|\n",
      "+-----------------+\n",
      "|                1|\n",
      "|                3|\n",
      "|                4|\n",
      "|                2|\n",
      "+-----------------+\n",
      "\n"
     ]
    }
   ],
   "source": [
    "# using spark query to show unique value\n",
    "q_unique_val = table_query.select(\"Financial Quarter\").distinct()\n",
    "q_unique_val.show()"
   ]
  },
  {
   "cell_type": "code",
   "execution_count": 91,
   "id": "ecc653a7-a537-4a7a-a068-4723472ee13e",
   "metadata": {},
   "outputs": [
    {
     "name": "stdout",
     "output_type": "stream",
     "text": [
      "+---+--------------+-----------------+-----------------+--------------------+--------------------+--------------------+------------+------------------+\n",
      "|_c0|Financial Year|Financial Quarter|       Force Name| Offence Description|       Offence Group|    Offence Subgroup|Offence Code|Number of Offences|\n",
      "+---+--------------+-----------------+-----------------+--------------------+--------------------+--------------------+------------+------------------+\n",
      "|  0|       2012/13|                1|     Action Fraud|Fraud offences re...|      Fraud offences| Fraud: Action Fraud|          AF|             20323|\n",
      "|  1|       2012/13|                1|Avon and Somerset|Abandoning child ...|Violence against ...|Violence without ...|          12|                 0|\n",
      "|  2|       2012/13|                1|Avon and Somerset|Absconding from l...|Miscellaneous cri...|Miscellaneous cri...|          80|                 1|\n",
      "+---+--------------+-----------------+-----------------+--------------------+--------------------+--------------------+------------+------------------+\n",
      "only showing top 3 rows\n",
      "\n"
     ]
    }
   ],
   "source": [
    "# using sql to extract each quartile table....\n",
    "q1_query = spark_query.sql(\"SELECT * FROM offence_table WHERE `Financial Quarter` == 1\")\n",
    "q2_query = spark_query.sql(\"SELECT * FROM offence_table WHERE `Financial Quarter` == 2\")\n",
    "q3_query = spark_query.sql(\"SELECT * FROM offence_table WHERE `Financial Quarter` == 3\")\n",
    "q4_query = spark_query.sql(\"SELECT * FROM offence_table WHERE `Financial Quarter` == 4\")\n",
    "\n",
    "\n",
    "q1_query.show(3)"
   ]
  },
  {
   "cell_type": "code",
   "execution_count": 92,
   "id": "81f9845b-79f5-4963-b288-4a81f7d5cddd",
   "metadata": {},
   "outputs": [
    {
     "name": "stdout",
     "output_type": "stream",
     "text": [
      "+----+--------------+-----------------+-----------------+--------------------+--------------------+--------------------+------------+------------------+\n",
      "| _c0|Financial Year|Financial Quarter|       Force Name| Offence Description|       Offence Group|    Offence Subgroup|Offence Code|Number of Offences|\n",
      "+----+--------------+-----------------+-----------------+--------------------+--------------------+--------------------+------------+------------------+\n",
      "|6779|       2012/13|                2|     Action Fraud|Fraud offences re...|      Fraud offences| Fraud: Action Fraud|          AF|             25754|\n",
      "|6780|       2012/13|                2|Avon and Somerset|Abandoning child ...|Violence against ...|Violence without ...|          12|                 0|\n",
      "|6781|       2012/13|                2|Avon and Somerset|Absconding from l...|Miscellaneous cri...|Miscellaneous cri...|          80|                 4|\n",
      "+----+--------------+-----------------+-----------------+--------------------+--------------------+--------------------+------------+------------------+\n",
      "only showing top 3 rows\n",
      "\n"
     ]
    }
   ],
   "source": [
    "q2_query.show(3)"
   ]
  },
  {
   "cell_type": "code",
   "execution_count": 99,
   "id": "9cdd8bf0-0ccd-4a4a-8ef3-ccf7186532e0",
   "metadata": {},
   "outputs": [
    {
     "name": "stdout",
     "output_type": "stream",
     "text": [
      "+--------------------------+\n",
      "|Total offence in Quarter 1|\n",
      "+--------------------------+\n",
      "|                  14313865|\n",
      "+--------------------------+\n",
      "\n",
      "None\n",
      "+--------------------------+\n",
      "|Total offence in Quarter 2|\n",
      "+--------------------------+\n",
      "|                  14740075|\n",
      "+--------------------------+\n",
      "\n",
      "None\n",
      "+--------------------------+\n",
      "|Total offence in Quarter 2|\n",
      "+--------------------------+\n",
      "|                  14548675|\n",
      "+--------------------------+\n",
      "\n",
      "None\n",
      "+--------------------------+\n",
      "|Total offence in Quarter 2|\n",
      "+--------------------------+\n",
      "|                  14233466|\n",
      "+--------------------------+\n",
      "\n",
      "None\n"
     ]
    }
   ],
   "source": [
    "q1_total = q1_query.agg(spark_sum(\"Number of Offences\").alias(\"Total offence in Quarter 1\"))\n",
    "q2_total = q2_query.agg(spark_sum(\"Number of Offences\").alias(\"Total offence in Quarter 2\"))\n",
    "q3_total = q3_query.agg(spark_sum(\"Number of Offences\").alias(\"Total offence in Quarter 2\"))\n",
    "q4_total = q4_query.agg(spark_sum(\"Number of Offences\").alias(\"Total offence in Quarter 2\"))\n",
    "\n",
    "print(q1_total.show())\n",
    "print(q2_total.show())\n",
    "print(q3_total.show())\n",
    "print(q4_total.show())"
   ]
  },
  {
   "cell_type": "code",
   "execution_count": 155,
   "id": "93f03ed5-3791-4954-979b-c19f219cf279",
   "metadata": {},
   "outputs": [
    {
     "name": "stdout",
     "output_type": "stream",
     "text": [
      "+--------------------+\n",
      "|       Offence Group|\n",
      "+--------------------+\n",
      "|Public order offe...|\n",
      "|             Robbery|\n",
      "|      Fraud offences|\n",
      "|     Sexual offences|\n",
      "|Criminal damage a...|\n",
      "|Possession of wea...|\n",
      "|       Drug offences|\n",
      "|      Theft offences|\n",
      "|Miscellaneous cri...|\n",
      "|Violence against ...|\n",
      "+--------------------+\n",
      "\n",
      "None\n",
      "+--------------+\n",
      "|Financial Year|\n",
      "+--------------+\n",
      "|       2015/16|\n",
      "|       2013/14|\n",
      "|       2012/13|\n",
      "|       2014/15|\n",
      "|       2016/17|\n",
      "|       2017/18|\n",
      "|       2018/19|\n",
      "|       2021/22|\n",
      "|       2020/21|\n",
      "|       2019/20|\n",
      "|       2022/23|\n",
      "+--------------+\n",
      "\n",
      "None\n"
     ]
    }
   ],
   "source": [
    "# let see the offence unqieu value\n",
    "unique_offence= table_query.select(\"Offence Group\").distinct()\n",
    "unique_year= table_query.select(\"Financial Year\").distinct()\n",
    "print(unique_offence.show())\n",
    "print(unique_year.show())"
   ]
  },
  {
   "cell_type": "code",
   "execution_count": 149,
   "id": "90316705-6397-43e0-87c0-f425a4b6b01d",
   "metadata": {},
   "outputs": [
    {
     "name": "stdout",
     "output_type": "stream",
     "text": [
      "+---+--------------+-----------------+-----------------+--------------------+--------------------+--------------------+------------+------------------+\n",
      "|_c0|Financial Year|Financial Quarter|       Force Name| Offence Description|       Offence Group|    Offence Subgroup|Offence Code|Number of Offences|\n",
      "+---+--------------+-----------------+-----------------+--------------------+--------------------+--------------------+------------+------------------+\n",
      "|  0|       2012/13|                1|     Action Fraud|Fraud offences re...|      Fraud offences| Fraud: Action Fraud|          AF|             20323|\n",
      "|  1|       2012/13|                1|Avon and Somerset|Abandoning child ...|Violence against ...|Violence without ...|          12|                 0|\n",
      "|  2|       2012/13|                1|Avon and Somerset|Absconding from l...|Miscellaneous cri...|Miscellaneous cri...|          80|                 1|\n",
      "|  3|       2012/13|                1|Avon and Somerset|Abuse of children...|     Sexual offences|Other sexual offe...|          71|                 0|\n",
      "|  4|       2012/13|                1|Avon and Somerset|Abuse of position...|     Sexual offences|Other sexual offe...|          73|                 3|\n",
      "+---+--------------+-----------------+-----------------+--------------------+--------------------+--------------------+------------+------------------+\n",
      "only showing top 5 rows\n",
      "\n"
     ]
    }
   ],
   "source": [
    "table_query.show(5)"
   ]
  },
  {
   "cell_type": "code",
   "execution_count": 151,
   "id": "12ae5557-ea55-430a-b25e-d32ca1a6457e",
   "metadata": {},
   "outputs": [
    {
     "name": "stdout",
     "output_type": "stream",
     "text": [
      "+---+--------------+-----------------+-----------------+--------------------+---------------+--------------------+------------+------------------+\n",
      "|_c0|Financial Year|Financial Quarter|       Force Name| Offence Description|  Offence Group|    Offence Subgroup|Offence Code|Number of Offences|\n",
      "+---+--------------+-----------------+-----------------+--------------------+---------------+--------------------+------------+------------------+\n",
      "|  3|       2012/13|                1|Avon and Somerset|Abuse of children...|Sexual offences|Other sexual offe...|          71|                 0|\n",
      "|  4|       2012/13|                1|Avon and Somerset|Abuse of position...|Sexual offences|Other sexual offe...|          73|                 3|\n",
      "| 34|       2012/13|                1|Avon and Somerset|Causing sexual ac...|Sexual offences|Other sexual offe...|         22A|                 1|\n",
      "| 52|       2012/13|                1|Avon and Somerset|Exposure and voye...|Sexual offences|Other sexual offe...|         88E|                30|\n",
      "| 67|       2012/13|                1|Avon and Somerset|Incest or familia...|Sexual offences|Other sexual offe...|          23|                 7|\n",
      "| 82|       2012/13|                1|Avon and Somerset|Other miscellaneo...|Sexual offences|Other sexual offe...|         88C|                 0|\n",
      "|116|       2012/13|                1|Avon and Somerset|Rape of a female ...|Sexual offences|       Rape offences|         19C|                98|\n",
      "|117|       2012/13|                1|Avon and Somerset|Rape of a female ...|Sexual offences|       Rape offences|         19E|                 5|\n",
      "|118|       2012/13|                1|Avon and Somerset|Rape of a female ...|Sexual offences|       Rape offences|         19D|                17|\n",
      "|119|       2012/13|                1|Avon and Somerset|Rape of a male ag...|Sexual offences|       Rape offences|         19F|                 5|\n",
      "|120|       2012/13|                1|Avon and Somerset|Rape of a male ch...|Sexual offences|       Rape offences|         19H|                 3|\n",
      "|121|       2012/13|                1|Avon and Somerset|Rape of a male ch...|Sexual offences|       Rape offences|         19G|                 2|\n",
      "|125|       2012/13|                1|Avon and Somerset|Sexual activity e...|Sexual offences|Other sexual offe...|          70|                 0|\n",
      "|126|       2012/13|                1|Avon and Somerset|Sexual activity i...|Sexual offences|Other sexual offe...|          21|                15|\n",
      "|127|       2012/13|                1|Avon and Somerset|Sexual activity i...|Sexual offences|Other sexual offe...|         22B|                27|\n",
      "|128|       2012/13|                1|Avon and Somerset|Sexual assault on...|Sexual offences|Other sexual offe...|         20A|               108|\n",
      "|129|       2012/13|                1|Avon and Somerset|Sexual assault on...|Sexual offences|Other sexual offe...|         20B|                36|\n",
      "|130|       2012/13|                1|Avon and Somerset|Sexual assault on...|Sexual offences|Other sexual offe...|         17A|                10|\n",
      "|131|       2012/13|                1|Avon and Somerset|Sexual assault on...|Sexual offences|Other sexual offe...|         17B|                 9|\n",
      "|132|       2012/13|                1|Avon and Somerset|     Sexual grooming|Sexual offences|Other sexual offe...|         88A|                 2|\n",
      "+---+--------------+-----------------+-----------------+--------------------+---------------+--------------------+------------+------------------+\n",
      "only showing top 20 rows\n",
      "\n"
     ]
    }
   ],
   "source": [
    "# sextual offence\n",
    "sex_offence_query = spark_query.sql(\"SELECT * FROM offence_table WHERE `Offence Group` == 'Sexual offences' \")\n",
    "# sex_offence_query.show()\n",
    "sex_offence_query.show()"
   ]
  },
  {
   "cell_type": "code",
   "execution_count": 161,
   "id": "aef87577-3e52-48fd-a977-78ee650540d9",
   "metadata": {},
   "outputs": [
    {
     "name": "stdout",
     "output_type": "stream",
     "text": [
      "+---+--------------+-----------------+-----------------+--------------------+---------------+--------------------+------------+------------------+\n",
      "|_c0|Financial Year|Financial Quarter|       Force Name| Offence Description|  Offence Group|    Offence Subgroup|Offence Code|Number of Offences|\n",
      "+---+--------------+-----------------+-----------------+--------------------+---------------+--------------------+------------+------------------+\n",
      "|  1|       2013/14|                1|Avon and Somerset|Abuse of children...|Sexual offences|Other sexual offe...|          71|                 0|\n",
      "|  2|       2013/14|                1|Avon and Somerset|Abuse of position...|Sexual offences|Other sexual offe...|          73|                 8|\n",
      "| 28|       2013/14|                1|Avon and Somerset|Causing sexual ac...|Sexual offences|Other sexual offe...|         22A|                 1|\n",
      "+---+--------------+-----------------+-----------------+--------------------+---------------+--------------------+------------+------------------+\n",
      "only showing top 3 rows\n",
      "\n"
     ]
    }
   ],
   "source": [
    "year_2013_query = spark_query.sql(\"SELECT * FROM offence_table WHERE `Financial Year` == '2013/14' AND `Offence Group` == 'Sexual offences' \")\n",
    "year_2015_query = spark_query.sql(\"SELECT * FROM offence_table WHERE `Financial Year` == '2015/16' AND `Offence Group` == 'Sexual offences' \")\n",
    "year_2013_query.show(3)"
   ]
  },
  {
   "cell_type": "code",
   "execution_count": 163,
   "id": "7b0401e0-cdf4-4339-be42-ac2fed18ec30",
   "metadata": {},
   "outputs": [
    {
     "name": "stdout",
     "output_type": "stream",
     "text": [
      "+---+--------------+-----------------+-----------------+--------------------+---------------+--------------------+------------+------------------+\n",
      "|_c0|Financial Year|Financial Quarter|       Force Name| Offence Description|  Offence Group|    Offence Subgroup|Offence Code|Number of Offences|\n",
      "+---+--------------+-----------------+-----------------+--------------------+---------------+--------------------+------------+------------------+\n",
      "|  1|       2015/16|                1|Avon and Somerset|Abuse of children...|Sexual offences|Other sexual offe...|          71|                 3|\n",
      "|  2|       2015/16|                1|Avon and Somerset|Abuse of position...|Sexual offences|Other sexual offe...|          73|                 5|\n",
      "| 28|       2015/16|                1|Avon and Somerset|Causing sexual ac...|Sexual offences|Other sexual offe...|         22A|                 1|\n",
      "+---+--------------+-----------------+-----------------+--------------------+---------------+--------------------+------------+------------------+\n",
      "only showing top 3 rows\n",
      "\n"
     ]
    }
   ],
   "source": [
    "year_2015_query.show(3)"
   ]
  },
  {
   "cell_type": "code",
   "execution_count": 166,
   "id": "59051f36-0618-4665-9c39-241be42abc49",
   "metadata": {},
   "outputs": [
    {
     "name": "stdout",
     "output_type": "stream",
     "text": [
      "+---------------------+\n",
      "|Total offence in 2013|\n",
      "+---------------------+\n",
      "|                64344|\n",
      "+---------------------+\n",
      "\n"
     ]
    }
   ],
   "source": [
    "total_in_2013 = year_2013_query.agg(spark_sum(\"Number of Offences\").alias(\"Total offence in 2013\"))\n",
    "total_in_2015 = year_2015_query.agg(spark_sum(\"Number of Offences\").alias(\"Total offence in 2015\"))\n",
    "total_in_2013.show()"
   ]
  },
  {
   "cell_type": "code",
   "execution_count": 167,
   "id": "269fb28b-66c4-4f77-bf02-e973d03bfb5e",
   "metadata": {},
   "outputs": [
    {
     "name": "stdout",
     "output_type": "stream",
     "text": [
      "+---------------------+\n",
      "|Total offence in 2015|\n",
      "+---------------------+\n",
      "|               107344|\n",
      "+---------------------+\n",
      "\n"
     ]
    }
   ],
   "source": [
    "total_in_2015.show()"
   ]
  },
  {
   "cell_type": "code",
   "execution_count": 176,
   "id": "e5ddc928-cc75-4727-ab0c-3638e561b2e2",
   "metadata": {},
   "outputs": [],
   "source": [
    "# clossing session \n",
    "spark_query.stop()"
   ]
  },
  {
   "cell_type": "markdown",
   "id": "cee823d1-180b-4cfc-8c29-0ee5b38bbec5",
   "metadata": {},
   "source": [
    "## Apache HIVE"
   ]
  },
  {
   "cell_type": "code",
   "execution_count": 251,
   "id": "7d06128e-032d-4af7-8a61-7251c6b9bb97",
   "metadata": {},
   "outputs": [],
   "source": [
    "from pyspark.sql import SparkSession\n",
    "from pyhive import hive\n",
    "from pyspark.sql.functions import col, lower\n",
    "from pyspark.sql.functions import desc, asc"
   ]
  },
  {
   "cell_type": "code",
   "execution_count": 177,
   "id": "379fa4a2-582e-45b6-8555-ddf1e10b4d9b",
   "metadata": {},
   "outputs": [
    {
     "data": {
      "text/html": [
       "\n",
       "            <div>\n",
       "                <p><b>SparkSession - hive</b></p>\n",
       "                \n",
       "        <div>\n",
       "            <p><b>SparkContext</b></p>\n",
       "\n",
       "            <p><a href=\"http://DESKTOP-0RFAQUO:4041\">Spark UI</a></p>\n",
       "\n",
       "            <dl>\n",
       "              <dt>Version</dt>\n",
       "                <dd><code>v3.5.0</code></dd>\n",
       "              <dt>Master</dt>\n",
       "                <dd><code>local[*]</code></dd>\n",
       "              <dt>AppName</dt>\n",
       "                <dd><code>offence</code></dd>\n",
       "            </dl>\n",
       "        </div>\n",
       "        \n",
       "            </div>\n",
       "        "
      ],
      "text/plain": [
       "<pyspark.sql.session.SparkSession at 0x1ccee73e370>"
      ]
     },
     "execution_count": 177,
     "metadata": {},
     "output_type": "execute_result"
    }
   ],
   "source": [
    "# initiating hive support for spark\n",
    "spark_hive = SparkSession.builder.appName(\"offence\").enableHiveSupport().getOrCreate()\n",
    "spark_hive"
   ]
  },
  {
   "cell_type": "code",
   "execution_count": 178,
   "id": "f2d2c6b8-0e85-496a-b059-90a8a2e1e30a",
   "metadata": {},
   "outputs": [],
   "source": [
    "# loading and saving data in a hive table"
   ]
  },
  {
   "cell_type": "code",
   "execution_count": 180,
   "id": "2ef61b53-6fb1-438a-ae5e-01e225142e5d",
   "metadata": {},
   "outputs": [
    {
     "data": {
      "text/plain": [
       "DataFrame[_c0: int, Financial Year: string, Financial Quarter: int, Force Name: string, Offence Description: string, Offence Group: string, Offence Subgroup: string, Offence Code: string, Number of Offences: int]"
      ]
     },
     "execution_count": 180,
     "metadata": {},
     "output_type": "execute_result"
    }
   ],
   "source": [
    "# loading dataset\n",
    "data_path = 'offence_data.csv'\n",
    "offence_df = spark_hive.read.csv(data_path, header=True, inferSchema=True)\n",
    "offence_df"
   ]
  },
  {
   "cell_type": "code",
   "execution_count": 181,
   "id": "0d2bde3a-59ba-4fca-94c5-84d7e407e3bf",
   "metadata": {},
   "outputs": [
    {
     "name": "stdout",
     "output_type": "stream",
     "text": [
      "+---+--------------+-----------------+-----------------+--------------------+--------------------+--------------------+------------+------------------+\n",
      "|_c0|Financial Year|Financial Quarter|       Force Name| Offence Description|       Offence Group|    Offence Subgroup|Offence Code|Number of Offences|\n",
      "+---+--------------+-----------------+-----------------+--------------------+--------------------+--------------------+------------+------------------+\n",
      "|  0|       2012/13|                1|     Action Fraud|Fraud offences re...|      Fraud offences| Fraud: Action Fraud|          AF|             20323|\n",
      "|  1|       2012/13|                1|Avon and Somerset|Abandoning child ...|Violence against ...|Violence without ...|          12|                 0|\n",
      "|  2|       2012/13|                1|Avon and Somerset|Absconding from l...|Miscellaneous cri...|Miscellaneous cri...|          80|                 1|\n",
      "|  3|       2012/13|                1|Avon and Somerset|Abuse of children...|     Sexual offences|Other sexual offe...|          71|                 0|\n",
      "+---+--------------+-----------------+-----------------+--------------------+--------------------+--------------------+------------+------------------+\n",
      "only showing top 4 rows\n",
      "\n"
     ]
    }
   ],
   "source": [
    "offence_df.show(4)"
   ]
  },
  {
   "cell_type": "code",
   "execution_count": 234,
   "id": "21d9fb6c-513f-4e50-be94-5a9be2864dcc",
   "metadata": {},
   "outputs": [
    {
     "data": {
      "text/plain": [
       "['_c0',\n",
       " 'Financial Year',\n",
       " 'Financial Quarter',\n",
       " 'Force Name',\n",
       " 'Offence Description',\n",
       " 'Offence Group',\n",
       " 'Offence Subgroup',\n",
       " 'Offence Code',\n",
       " 'Number of Offences']"
      ]
     },
     "execution_count": 234,
     "metadata": {},
     "output_type": "execute_result"
    }
   ],
   "source": [
    "offence_df.columns"
   ]
  },
  {
   "cell_type": "code",
   "execution_count": 199,
   "id": "d09dd20a-4c05-4f06-9085-c3499c952d50",
   "metadata": {},
   "outputs": [
    {
     "name": "stdout",
     "output_type": "stream",
     "text": [
      "+---+--------------+-----------------+-----------------+--------------------+--------------------+--------------------+------------+------------------+\n",
      "|_c0|Financial Year|Financial Quarter|       Force Name| Offence Description|       Offence Group|    Offence Subgroup|Offence Code|Number of Offences|\n",
      "+---+--------------+-----------------+-----------------+--------------------+--------------------+--------------------+------------+------------------+\n",
      "|  0|       2012/13|                1|     Action Fraud|Fraud offences re...|      Fraud offences| Fraud: Action Fraud|          AF|             20323|\n",
      "|  1|       2012/13|                1|Avon and Somerset|Abandoning child ...|Violence against ...|Violence without ...|          12|                 0|\n",
      "|  2|       2012/13|                1|Avon and Somerset|Absconding from l...|Miscellaneous cri...|Miscellaneous cri...|          80|                 1|\n",
      "|  3|       2012/13|                1|Avon and Somerset|Abuse of children...|     Sexual offences|Other sexual offe...|          71|                 0|\n",
      "+---+--------------+-----------------+-----------------+--------------------+--------------------+--------------------+------------+------------------+\n",
      "only showing top 4 rows\n",
      "\n"
     ]
    }
   ],
   "source": [
    "# Register the DataFrame as a temporary HIVE SQL table\n",
    "offence_df.createOrReplaceTempView(\"hive_table\")\n",
    "hive_table = spark_hive.sql(\"SELECT * FROM hive_table\")\n",
    "hive_table.show(4)"
   ]
  },
  {
   "cell_type": "code",
   "execution_count": 215,
   "id": "2d18accd-585d-40f1-b927-a406e0aca0cf",
   "metadata": {},
   "outputs": [
    {
     "name": "stdout",
     "output_type": "stream",
     "text": [
      "Converting Columns to Lower Case\n",
      "+---+--------------+-----------------+-----------------+--------------------+--------------------+--------------------+------------+------------------+\n",
      "|_c0|Financial Year|Financial Quarter|       Force Name| Offence Description|       Offence Group|    Offence Subgroup|Offence Code|Number of Offences|\n",
      "+---+--------------+-----------------+-----------------+--------------------+--------------------+--------------------+------------+------------------+\n",
      "|  0|       2012/13|                1|     action fraud|fraud offences re...|      fraud offences| fraud: action fraud|          AF|             20323|\n",
      "|  1|       2012/13|                1|avon and somerset|abandoning child ...|violence against ...|violence without ...|          12|                 0|\n",
      "|  2|       2012/13|                1|avon and somerset|absconding from l...|miscellaneous cri...|miscellaneous cri...|          80|                 1|\n",
      "|  3|       2012/13|                1|avon and somerset|abuse of children...|     sexual offences|other sexual offe...|          71|                 0|\n",
      "|  4|       2012/13|                1|avon and somerset|abuse of position...|     sexual offences|other sexual offe...|          73|                 3|\n",
      "+---+--------------+-----------------+-----------------+--------------------+--------------------+--------------------+------------+------------------+\n",
      "only showing top 5 rows\n",
      "\n"
     ]
    }
   ],
   "source": [
    "print('Converting Columns to Lower Case')\n",
    "for colm in hive_table.columns[3:7]:\n",
    "    hive_table = hive_table.withColumn(colm, lower(col(colm)))\n",
    "\n",
    "hive_table.show(5)"
   ]
  },
  {
   "cell_type": "code",
   "execution_count": 237,
   "id": "9444f73b-f1c4-4c76-b00f-477044e117b4",
   "metadata": {},
   "outputs": [
    {
     "name": "stdout",
     "output_type": "stream",
     "text": [
      "+---+-------------+----------------+-----------------+--------------------+--------------------+--------------------+-----------+--------------+\n",
      "| c0|FinancialYear|FinancialQuarter|        ForceName|  OffenceDescription|        OffenceGroup|     OffenceSubgroup|OffenceCode|NumberOffences|\n",
      "+---+-------------+----------------+-----------------+--------------------+--------------------+--------------------+-----------+--------------+\n",
      "|  0|      2012/13|               1|     action fraud|fraud offences re...|      fraud offences| fraud: action fraud|         AF|         20323|\n",
      "|  1|      2012/13|               1|avon and somerset|abandoning child ...|violence against ...|violence without ...|         12|             0|\n",
      "|  2|      2012/13|               1|avon and somerset|absconding from l...|miscellaneous cri...|miscellaneous cri...|         80|             1|\n",
      "+---+-------------+----------------+-----------------+--------------------+--------------------+--------------------+-----------+--------------+\n",
      "only showing top 3 rows\n",
      "\n"
     ]
    }
   ],
   "source": [
    "columns = ['_c0', 'Financial Year', 'Financial Quarter', 'Force Name', 'Offence Description', 'Offence Group', 'Offence Subgroup', 'Offence Code', 'Number of Offences']\n",
    "\n",
    "# Provide a list of new column names\n",
    "new_column_names = ['c0', 'FinancialYear', 'FinancialQuarter', 'ForceName', 'OffenceDescription', 'OffenceGroup', 'OffenceSubgroup', 'OffenceCode', 'NumberOffences']\n",
    "\n",
    "# Assuming 'df' is your DataFrame\n",
    "# Rename all columns\n",
    "for old_col, new_col in zip(columns, new_column_names):\n",
    "    hive_table = hive_table.withColumnRenamed(old_col, new_col)\n",
    "\n",
    "hive_table.show(3)"
   ]
  },
  {
   "cell_type": "code",
   "execution_count": 262,
   "id": "17076f1c-43c4-4e3f-aeef-e28f4c1796e8",
   "metadata": {},
   "outputs": [
    {
     "name": "stdout",
     "output_type": "stream",
     "text": [
      "showings the dataset sorted in respect to number of offence\n",
      "+-------------+-------------------+--------------+\n",
      "|FinancialYear|    OffenceSubgroup|NumberOffences|\n",
      "+-------------+-------------------+--------------+\n",
      "|      2020/21|fraud: action fraud|        132693|\n",
      "|      2022/23|  fraud: uk finance|        128818|\n",
      "|      2021/22|  fraud: uk finance|        120310|\n",
      "|      2022/23|  fraud: uk finance|        113476|\n",
      "|      2022/23|  fraud: uk finance|        112518|\n",
      "|      2021/22|fraud: action fraud|        112292|\n",
      "|      2022/23|  fraud: uk finance|        105725|\n",
      "|      2020/21|fraud: action fraud|        104779|\n",
      "|      2020/21|fraud: action fraud|        103097|\n",
      "|      2022/23|       fraud: cifas|        100982|\n",
      "|      2022/23|       fraud: cifas|         96612|\n",
      "|      2021/22|fraud: action fraud|         92073|\n",
      "|      2021/22|fraud: action fraud|         92033|\n",
      "|      2021/22|       fraud: cifas|         90683|\n",
      "|      2019/20|fraud: action fraud|         89239|\n",
      "|      2022/23|       fraud: cifas|         88141|\n",
      "|      2020/21|fraud: action fraud|         87920|\n",
      "|      2021/22|       fraud: cifas|         87565|\n",
      "|      2019/20|       fraud: cifas|         87367|\n",
      "|      2021/22|fraud: action fraud|         87246|\n",
      "+-------------+-------------------+--------------+\n",
      "only showing top 20 rows\n",
      "\n"
     ]
    }
   ],
   "source": [
    "print('showings the dataset sorted in respect to number of offence')\n",
    "ofence_code_qeury = hive_table.select('FinancialYear','OffenceSubgroup','NumberOffences')\n",
    "sorted_offence = ofence_code_qeury.sort(desc('NumberOffences')).show()\n",
    "sorted_offence"
   ]
  },
  {
   "cell_type": "code",
   "execution_count": null,
   "id": "33908d4c-e9e2-4890-807f-fbfd29b48ee5",
   "metadata": {
    "jupyter": {
     "source_hidden": true
    }
   },
   "outputs": [],
   "source": []
  }
 ],
 "metadata": {
  "kernelspec": {
   "display_name": "Python 3 (ipykernel)",
   "language": "python",
   "name": "python3"
  },
  "language_info": {
   "codemirror_mode": {
    "name": "ipython",
    "version": 3
   },
   "file_extension": ".py",
   "mimetype": "text/x-python",
   "name": "python",
   "nbconvert_exporter": "python",
   "pygments_lexer": "ipython3",
   "version": "3.9.5"
  }
 },
 "nbformat": 4,
 "nbformat_minor": 5
}
