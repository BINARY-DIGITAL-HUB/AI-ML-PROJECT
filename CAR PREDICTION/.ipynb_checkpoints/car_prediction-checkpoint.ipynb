{
 "cells": [
  {
   "cell_type": "markdown",
   "id": "42fce108-40b7-4389-9ca4-cb8e4e3f6b71",
   "metadata": {},
   "source": [
    "### data import"
   ]
  },
  {
   "cell_type": "code",
   "execution_count": 8,
   "id": "519b9d22-69d8-463f-9932-08a0758e7f3c",
   "metadata": {},
   "outputs": [],
   "source": [
    "import pandas as pd"
   ]
  },
  {
   "cell_type": "code",
   "execution_count": 282,
   "id": "81b50f74-9cea-4e1d-aa39-26f5b683c91a",
   "metadata": {},
   "outputs": [
    {
     "data": {
      "text/html": [
       "<div>\n",
       "<style scoped>\n",
       "    .dataframe tbody tr th:only-of-type {\n",
       "        vertical-align: middle;\n",
       "    }\n",
       "\n",
       "    .dataframe tbody tr th {\n",
       "        vertical-align: top;\n",
       "    }\n",
       "\n",
       "    .dataframe thead th {\n",
       "        text-align: right;\n",
       "    }\n",
       "</style>\n",
       "<table border=\"1\" class=\"dataframe\">\n",
       "  <thead>\n",
       "    <tr style=\"text-align: right;\">\n",
       "      <th></th>\n",
       "      <th>title</th>\n",
       "      <th>price_in_aed</th>\n",
       "      <th>kilometers</th>\n",
       "      <th>body_condition</th>\n",
       "      <th>mechanical_condition</th>\n",
       "      <th>seller_type</th>\n",
       "      <th>body_type</th>\n",
       "      <th>no_of_cylinders</th>\n",
       "      <th>transmission_type</th>\n",
       "      <th>regional_specs</th>\n",
       "      <th>horsepower</th>\n",
       "      <th>fuel_type</th>\n",
       "      <th>steering_side</th>\n",
       "      <th>year</th>\n",
       "      <th>color</th>\n",
       "      <th>emirate</th>\n",
       "      <th>motors_trim</th>\n",
       "      <th>company</th>\n",
       "      <th>model</th>\n",
       "      <th>date_posted</th>\n",
       "    </tr>\n",
       "  </thead>\n",
       "  <tbody>\n",
       "    <tr>\n",
       "      <th>0</th>\n",
       "      <td>MITSUBISHI PAJERO 3.5L / 2013</td>\n",
       "      <td>26,000</td>\n",
       "      <td>167390</td>\n",
       "      <td>Perfect inside and out</td>\n",
       "      <td>Perfect inside and out</td>\n",
       "      <td>Dealer</td>\n",
       "      <td>SUV</td>\n",
       "      <td>6</td>\n",
       "      <td>Automatic Transmission</td>\n",
       "      <td>GCC Specs</td>\n",
       "      <td>Unknown</td>\n",
       "      <td>Gasoline</td>\n",
       "      <td>Left Hand Side</td>\n",
       "      <td>2013.0</td>\n",
       "      <td>Silver</td>\n",
       "      <td>Dubai</td>\n",
       "      <td>GLS</td>\n",
       "      <td>mitsubishi</td>\n",
       "      <td>pajero</td>\n",
       "      <td>13/05/2022</td>\n",
       "    </tr>\n",
       "    <tr>\n",
       "      <th>1</th>\n",
       "      <td>chevrolet silverado</td>\n",
       "      <td>110,000</td>\n",
       "      <td>39000</td>\n",
       "      <td>Perfect inside and out</td>\n",
       "      <td>Perfect inside and out</td>\n",
       "      <td>Dealer</td>\n",
       "      <td>SUV</td>\n",
       "      <td>8</td>\n",
       "      <td>Automatic Transmission</td>\n",
       "      <td>North American Specs</td>\n",
       "      <td>400 - 500 HP</td>\n",
       "      <td>Gasoline</td>\n",
       "      <td>Left Hand Side</td>\n",
       "      <td>2018.0</td>\n",
       "      <td>White</td>\n",
       "      <td>Sharjah</td>\n",
       "      <td>1500 High Country</td>\n",
       "      <td>chevrolet</td>\n",
       "      <td>silverado</td>\n",
       "      <td>14/01/2022</td>\n",
       "    </tr>\n",
       "    <tr>\n",
       "      <th>2</th>\n",
       "      <td>MERCEDES-BENZ E300 - 2014 - GCC SPEC - FULL OP...</td>\n",
       "      <td>78,000</td>\n",
       "      <td>200000</td>\n",
       "      <td>Perfect inside and out</td>\n",
       "      <td>Perfect inside and out</td>\n",
       "      <td>Dealer</td>\n",
       "      <td>Sedan</td>\n",
       "      <td>6</td>\n",
       "      <td>Automatic Transmission</td>\n",
       "      <td>GCC Specs</td>\n",
       "      <td>400 - 500 HP</td>\n",
       "      <td>Gasoline</td>\n",
       "      <td>Left Hand Side</td>\n",
       "      <td>2014.0</td>\n",
       "      <td>Blue</td>\n",
       "      <td>Sharjah</td>\n",
       "      <td>E 300</td>\n",
       "      <td>mercedes-benz</td>\n",
       "      <td>e-class</td>\n",
       "      <td>05/05/2022</td>\n",
       "    </tr>\n",
       "  </tbody>\n",
       "</table>\n",
       "</div>"
      ],
      "text/plain": [
       "                                               title price_in_aed  kilometers  \\\n",
       "0                      MITSUBISHI PAJERO 3.5L / 2013       26,000      167390   \n",
       "1                                chevrolet silverado      110,000       39000   \n",
       "2  MERCEDES-BENZ E300 - 2014 - GCC SPEC - FULL OP...       78,000      200000   \n",
       "\n",
       "           body_condition    mechanical_condition seller_type body_type  \\\n",
       "0  Perfect inside and out  Perfect inside and out      Dealer       SUV   \n",
       "1  Perfect inside and out  Perfect inside and out      Dealer       SUV   \n",
       "2  Perfect inside and out  Perfect inside and out      Dealer     Sedan   \n",
       "\n",
       "  no_of_cylinders       transmission_type        regional_specs    horsepower  \\\n",
       "0               6  Automatic Transmission             GCC Specs       Unknown   \n",
       "1               8  Automatic Transmission  North American Specs  400 - 500 HP   \n",
       "2               6  Automatic Transmission             GCC Specs  400 - 500 HP   \n",
       "\n",
       "  fuel_type   steering_side    year   color   emirate        motors_trim  \\\n",
       "0  Gasoline  Left Hand Side  2013.0  Silver     Dubai                GLS   \n",
       "1  Gasoline  Left Hand Side  2018.0   White   Sharjah  1500 High Country   \n",
       "2  Gasoline  Left Hand Side  2014.0    Blue   Sharjah              E 300   \n",
       "\n",
       "         company      model date_posted  \n",
       "0     mitsubishi     pajero  13/05/2022  \n",
       "1      chevrolet  silverado  14/01/2022  \n",
       "2  mercedes-benz    e-class  05/05/2022  "
      ]
     },
     "execution_count": 282,
     "metadata": {},
     "output_type": "execute_result"
    }
   ],
   "source": [
    "data  = pd.read_csv('data.csv')\n",
    "data.head(3)"
   ]
  },
  {
   "cell_type": "code",
   "execution_count": 283,
   "id": "279866ab-1341-4792-a60c-f191bdf08366",
   "metadata": {},
   "outputs": [
    {
     "data": {
      "text/plain": [
       "patrol               399\n",
       "s-class              269\n",
       "g-class              259\n",
       "range-rover-sport    208\n",
       "land-cruiser         200\n",
       "                    ... \n",
       "g80                    1\n",
       "plus-8                 1\n",
       "lc-500                 1\n",
       "tx5                    1\n",
       "odyssey-j              1\n",
       "Name: model, Length: 552, dtype: int64"
      ]
     },
     "execution_count": 283,
     "metadata": {},
     "output_type": "execute_result"
    }
   ],
   "source": [
    "data.model.value_counts()"
   ]
  },
  {
   "cell_type": "code",
   "execution_count": 527,
   "id": "4a1c7866-8160-44a5-b0d9-7dec36e44c68",
   "metadata": {},
   "outputs": [],
   "source": [
    "# company , body condition, mechanical condition, cylinder nun, transmission type, model, year, hourspwer"
   ]
  },
  {
   "cell_type": "code",
   "execution_count": 285,
   "id": "f89cf400-f481-4d2d-8a0c-8ba209bb9d7b",
   "metadata": {},
   "outputs": [
    {
     "data": {
      "text/plain": [
       "Index(['title', 'price_in_aed', 'kilometers', 'body_condition',\n",
       "       'mechanical_condition', 'seller_type', 'body_type', 'no_of_cylinders',\n",
       "       'transmission_type', 'regional_specs', 'horsepower', 'fuel_type',\n",
       "       'steering_side', 'year', 'color', 'emirate', 'motors_trim', 'company',\n",
       "       'model', 'date_posted'],\n",
       "      dtype='object')"
      ]
     },
     "execution_count": 285,
     "metadata": {},
     "output_type": "execute_result"
    }
   ],
   "source": [
    "data.columns"
   ]
  },
  {
   "cell_type": "code",
   "execution_count": 286,
   "id": "d3243e3d-c15d-429c-bd96-f7814e31d8df",
   "metadata": {},
   "outputs": [
    {
     "name": "stdout",
     "output_type": "stream",
     "text": [
      "<class 'pandas.core.frame.DataFrame'>\n",
      "RangeIndex: 9970 entries, 0 to 9969\n",
      "Data columns (total 20 columns):\n",
      " #   Column                Non-Null Count  Dtype  \n",
      "---  ------                --------------  -----  \n",
      " 0   title                 9965 non-null   object \n",
      " 1   price_in_aed          9970 non-null   object \n",
      " 2   kilometers            9970 non-null   int64  \n",
      " 3   body_condition        9970 non-null   object \n",
      " 4   mechanical_condition  9970 non-null   object \n",
      " 5   seller_type           9970 non-null   object \n",
      " 6   body_type             9970 non-null   object \n",
      " 7   no_of_cylinders       9911 non-null   object \n",
      " 8   transmission_type     9970 non-null   object \n",
      " 9   regional_specs        9970 non-null   object \n",
      " 10  horsepower            9970 non-null   object \n",
      " 11  fuel_type             9970 non-null   object \n",
      " 12  steering_side         9970 non-null   object \n",
      " 13  year                  9000 non-null   float64\n",
      " 14  color                 9970 non-null   object \n",
      " 15  emirate               9970 non-null   object \n",
      " 16  motors_trim           9942 non-null   object \n",
      " 17  company               9970 non-null   object \n",
      " 18  model                 9970 non-null   object \n",
      " 19  date_posted           9970 non-null   object \n",
      "dtypes: float64(1), int64(1), object(18)\n",
      "memory usage: 1.5+ MB\n"
     ]
    }
   ],
   "source": [
    "data.info()"
   ]
  },
  {
   "cell_type": "raw",
   "id": "b0370acf-9763-4fff-90b6-7b54f5da818d",
   "metadata": {},
   "source": []
  },
  {
   "cell_type": "code",
   "execution_count": 287,
   "id": "4b3e011e-ad73-4c90-8b47-d9ea83b50df9",
   "metadata": {},
   "outputs": [
    {
     "name": "stdout",
     "output_type": "stream",
     "text": [
      "dublicate :  282\n"
     ]
    }
   ],
   "source": [
    "print(\"dublicate : \", data.duplicated().sum())"
   ]
  },
  {
   "cell_type": "code",
   "execution_count": null,
   "id": "ee8d64f4-8287-4664-af32-f2f8749c128a",
   "metadata": {},
   "outputs": [],
   "source": []
  },
  {
   "cell_type": "code",
   "execution_count": 288,
   "id": "4c5a4ca2-20ec-483f-85ad-bcf49df84559",
   "metadata": {},
   "outputs": [
    {
     "data": {
      "text/plain": [
       "Index(['title', 'price_in_aed', 'kilometers', 'body_condition',\n",
       "       'mechanical_condition', 'seller_type', 'body_type', 'no_of_cylinders',\n",
       "       'transmission_type', 'regional_specs', 'horsepower', 'fuel_type',\n",
       "       'steering_side', 'year', 'color', 'emirate', 'motors_trim', 'company',\n",
       "       'model', 'date_posted'],\n",
       "      dtype='object')"
      ]
     },
     "execution_count": 288,
     "metadata": {},
     "output_type": "execute_result"
    }
   ],
   "source": [
    "data.columns"
   ]
  },
  {
   "cell_type": "markdown",
   "id": "2b000011-24be-4c02-ab12-821911511422",
   "metadata": {},
   "source": [
    "### Data cleanning.. "
   ]
  },
  {
   "cell_type": "code",
   "execution_count": 289,
   "id": "e4e1c29b-1326-44dd-b4a5-7ee29b825814",
   "metadata": {},
   "outputs": [],
   "source": [
    "# car_title , body condition, mechanical condition, cylinder nun, transmission type, model, year, hourspwer"
   ]
  },
  {
   "cell_type": "code",
   "execution_count": 528,
   "id": "48c7df93-b684-4a15-ae6c-ad1aa756fa1c",
   "metadata": {},
   "outputs": [
    {
     "data": {
      "text/html": [
       "<div>\n",
       "<style scoped>\n",
       "    .dataframe tbody tr th:only-of-type {\n",
       "        vertical-align: middle;\n",
       "    }\n",
       "\n",
       "    .dataframe tbody tr th {\n",
       "        vertical-align: top;\n",
       "    }\n",
       "\n",
       "    .dataframe thead th {\n",
       "        text-align: right;\n",
       "    }\n",
       "</style>\n",
       "<table border=\"1\" class=\"dataframe\">\n",
       "  <thead>\n",
       "    <tr style=\"text-align: right;\">\n",
       "      <th></th>\n",
       "      <th>company</th>\n",
       "      <th>price_in_aed</th>\n",
       "      <th>body_condition</th>\n",
       "      <th>mechanical_condition</th>\n",
       "      <th>no_of_cylinders</th>\n",
       "      <th>transmission_type</th>\n",
       "      <th>model</th>\n",
       "      <th>year</th>\n",
       "      <th>horsepower</th>\n",
       "    </tr>\n",
       "  </thead>\n",
       "  <tbody>\n",
       "    <tr>\n",
       "      <th>0</th>\n",
       "      <td>mitsubishi</td>\n",
       "      <td>26,000</td>\n",
       "      <td>Perfect inside and out</td>\n",
       "      <td>Perfect inside and out</td>\n",
       "      <td>6</td>\n",
       "      <td>Automatic Transmission</td>\n",
       "      <td>pajero</td>\n",
       "      <td>2013.0</td>\n",
       "      <td>Unknown</td>\n",
       "    </tr>\n",
       "    <tr>\n",
       "      <th>1</th>\n",
       "      <td>chevrolet</td>\n",
       "      <td>110,000</td>\n",
       "      <td>Perfect inside and out</td>\n",
       "      <td>Perfect inside and out</td>\n",
       "      <td>8</td>\n",
       "      <td>Automatic Transmission</td>\n",
       "      <td>silverado</td>\n",
       "      <td>2018.0</td>\n",
       "      <td>400 - 500 HP</td>\n",
       "    </tr>\n",
       "    <tr>\n",
       "      <th>2</th>\n",
       "      <td>mercedes-benz</td>\n",
       "      <td>78,000</td>\n",
       "      <td>Perfect inside and out</td>\n",
       "      <td>Perfect inside and out</td>\n",
       "      <td>6</td>\n",
       "      <td>Automatic Transmission</td>\n",
       "      <td>e-class</td>\n",
       "      <td>2014.0</td>\n",
       "      <td>400 - 500 HP</td>\n",
       "    </tr>\n",
       "  </tbody>\n",
       "</table>\n",
       "</div>"
      ],
      "text/plain": [
       "         company price_in_aed          body_condition    mechanical_condition  \\\n",
       "0     mitsubishi       26,000  Perfect inside and out  Perfect inside and out   \n",
       "1      chevrolet      110,000  Perfect inside and out  Perfect inside and out   \n",
       "2  mercedes-benz       78,000  Perfect inside and out  Perfect inside and out   \n",
       "\n",
       "  no_of_cylinders       transmission_type      model    year    horsepower  \n",
       "0               6  Automatic Transmission     pajero  2013.0       Unknown  \n",
       "1               8  Automatic Transmission  silverado  2018.0  400 - 500 HP  \n",
       "2               6  Automatic Transmission    e-class  2014.0  400 - 500 HP  "
      ]
     },
     "execution_count": 528,
     "metadata": {},
     "output_type": "execute_result"
    }
   ],
   "source": [
    "# droping_columns.. \n",
    "reduce_data = data[['company', 'price_in_aed', 'body_condition', 'mechanical_condition', 'no_of_cylinders', 'transmission_type', 'model', 'year' , 'horsepower']]\n",
    "reduce_data.head(3)"
   ]
  },
  {
   "cell_type": "code",
   "execution_count": 529,
   "id": "86456760-24d3-41d1-a0c8-fc8a5b1dde76",
   "metadata": {},
   "outputs": [
    {
     "data": {
      "text/plain": [
       "760"
      ]
     },
     "execution_count": 529,
     "metadata": {},
     "output_type": "execute_result"
    }
   ],
   "source": [
    "reduce_data.duplicated().sum()"
   ]
  },
  {
   "cell_type": "code",
   "execution_count": 530,
   "id": "1524902d-3a5a-43ee-ae7a-7ae3bee63e4c",
   "metadata": {},
   "outputs": [
    {
     "name": "stdout",
     "output_type": "stream",
     "text": [
      "duplicate count: 0\n"
     ]
    },
    {
     "data": {
      "text/html": [
       "<div>\n",
       "<style scoped>\n",
       "    .dataframe tbody tr th:only-of-type {\n",
       "        vertical-align: middle;\n",
       "    }\n",
       "\n",
       "    .dataframe tbody tr th {\n",
       "        vertical-align: top;\n",
       "    }\n",
       "\n",
       "    .dataframe thead th {\n",
       "        text-align: right;\n",
       "    }\n",
       "</style>\n",
       "<table border=\"1\" class=\"dataframe\">\n",
       "  <thead>\n",
       "    <tr style=\"text-align: right;\">\n",
       "      <th></th>\n",
       "      <th>company</th>\n",
       "      <th>price_in_aed</th>\n",
       "      <th>body_condition</th>\n",
       "      <th>mechanical_condition</th>\n",
       "      <th>no_of_cylinders</th>\n",
       "      <th>transmission_type</th>\n",
       "      <th>model</th>\n",
       "      <th>year</th>\n",
       "      <th>horsepower</th>\n",
       "    </tr>\n",
       "  </thead>\n",
       "  <tbody>\n",
       "    <tr>\n",
       "      <th>0</th>\n",
       "      <td>mitsubishi</td>\n",
       "      <td>26,000</td>\n",
       "      <td>Perfect inside and out</td>\n",
       "      <td>Perfect inside and out</td>\n",
       "      <td>6</td>\n",
       "      <td>Automatic Transmission</td>\n",
       "      <td>pajero</td>\n",
       "      <td>2013.0</td>\n",
       "      <td>Unknown</td>\n",
       "    </tr>\n",
       "    <tr>\n",
       "      <th>1</th>\n",
       "      <td>chevrolet</td>\n",
       "      <td>110,000</td>\n",
       "      <td>Perfect inside and out</td>\n",
       "      <td>Perfect inside and out</td>\n",
       "      <td>8</td>\n",
       "      <td>Automatic Transmission</td>\n",
       "      <td>silverado</td>\n",
       "      <td>2018.0</td>\n",
       "      <td>400 - 500 HP</td>\n",
       "    </tr>\n",
       "  </tbody>\n",
       "</table>\n",
       "</div>"
      ],
      "text/plain": [
       "      company price_in_aed          body_condition    mechanical_condition  \\\n",
       "0  mitsubishi       26,000  Perfect inside and out  Perfect inside and out   \n",
       "1   chevrolet      110,000  Perfect inside and out  Perfect inside and out   \n",
       "\n",
       "  no_of_cylinders       transmission_type      model    year    horsepower  \n",
       "0               6  Automatic Transmission     pajero  2013.0       Unknown  \n",
       "1               8  Automatic Transmission  silverado  2018.0  400 - 500 HP  "
      ]
     },
     "execution_count": 530,
     "metadata": {},
     "output_type": "execute_result"
    }
   ],
   "source": [
    "dup_data  = reduce_data.drop_duplicates()\n",
    "print('duplicate count:' , dup_data.duplicated().sum())\n",
    "dup_data.head(2)"
   ]
  },
  {
   "cell_type": "code",
   "execution_count": 531,
   "id": "53f73dfa-ebc9-420d-b83e-cd9a879c326d",
   "metadata": {},
   "outputs": [
    {
     "data": {
      "text/plain": [
       "company                   0\n",
       "price_in_aed              0\n",
       "body_condition            0\n",
       "mechanical_condition      0\n",
       "no_of_cylinders          51\n",
       "transmission_type         0\n",
       "model                     0\n",
       "year                    810\n",
       "horsepower                0\n",
       "dtype: int64"
      ]
     },
     "execution_count": 531,
     "metadata": {},
     "output_type": "execute_result"
    }
   ],
   "source": [
    "dup_data.isnull().sum()"
   ]
  },
  {
   "cell_type": "code",
   "execution_count": 532,
   "id": "c872d6c8-4ec6-40cb-b223-576e2a6a22b5",
   "metadata": {},
   "outputs": [],
   "source": [
    "for col in dup_data.columns:\n",
    "    dup_data = dup_data[dup_data[col].isnull() == False ]\n"
   ]
  },
  {
   "cell_type": "code",
   "execution_count": 533,
   "id": "87a2d80b-af2d-4ea3-83f0-394258d58ded",
   "metadata": {},
   "outputs": [
    {
     "data": {
      "text/plain": [
       "(8376, 9)"
      ]
     },
     "execution_count": 533,
     "metadata": {},
     "output_type": "execute_result"
    }
   ],
   "source": [
    "dup_data.shape"
   ]
  },
  {
   "cell_type": "code",
   "execution_count": 534,
   "id": "a20bbe2d-7b72-4ebf-841a-9be7b2811646",
   "metadata": {
    "scrolled": true
   },
   "outputs": [
    {
     "data": {
      "text/html": [
       "<div>\n",
       "<style scoped>\n",
       "    .dataframe tbody tr th:only-of-type {\n",
       "        vertical-align: middle;\n",
       "    }\n",
       "\n",
       "    .dataframe tbody tr th {\n",
       "        vertical-align: top;\n",
       "    }\n",
       "\n",
       "    .dataframe thead th {\n",
       "        text-align: right;\n",
       "    }\n",
       "</style>\n",
       "<table border=\"1\" class=\"dataframe\">\n",
       "  <thead>\n",
       "    <tr style=\"text-align: right;\">\n",
       "      <th></th>\n",
       "      <th>company</th>\n",
       "      <th>price_in_aed</th>\n",
       "      <th>body_condition</th>\n",
       "      <th>mechanical_condition</th>\n",
       "      <th>no_of_cylinders</th>\n",
       "      <th>transmission_type</th>\n",
       "      <th>model</th>\n",
       "      <th>year</th>\n",
       "      <th>horsepower</th>\n",
       "    </tr>\n",
       "  </thead>\n",
       "  <tbody>\n",
       "    <tr>\n",
       "      <th>0</th>\n",
       "      <td>mitsubishi</td>\n",
       "      <td>26,000</td>\n",
       "      <td>Perfect inside and out</td>\n",
       "      <td>Perfect inside and out</td>\n",
       "      <td>6</td>\n",
       "      <td>Automatic Transmission</td>\n",
       "      <td>pajero</td>\n",
       "      <td>2013.0</td>\n",
       "      <td>Unknown</td>\n",
       "    </tr>\n",
       "    <tr>\n",
       "      <th>1</th>\n",
       "      <td>chevrolet</td>\n",
       "      <td>110,000</td>\n",
       "      <td>Perfect inside and out</td>\n",
       "      <td>Perfect inside and out</td>\n",
       "      <td>8</td>\n",
       "      <td>Automatic Transmission</td>\n",
       "      <td>silverado</td>\n",
       "      <td>2018.0</td>\n",
       "      <td>400 - 500 HP</td>\n",
       "    </tr>\n",
       "    <tr>\n",
       "      <th>2</th>\n",
       "      <td>mercedes-benz</td>\n",
       "      <td>78,000</td>\n",
       "      <td>Perfect inside and out</td>\n",
       "      <td>Perfect inside and out</td>\n",
       "      <td>6</td>\n",
       "      <td>Automatic Transmission</td>\n",
       "      <td>e-class</td>\n",
       "      <td>2014.0</td>\n",
       "      <td>400 - 500 HP</td>\n",
       "    </tr>\n",
       "  </tbody>\n",
       "</table>\n",
       "</div>"
      ],
      "text/plain": [
       "         company price_in_aed          body_condition    mechanical_condition  \\\n",
       "0     mitsubishi       26,000  Perfect inside and out  Perfect inside and out   \n",
       "1      chevrolet      110,000  Perfect inside and out  Perfect inside and out   \n",
       "2  mercedes-benz       78,000  Perfect inside and out  Perfect inside and out   \n",
       "\n",
       "  no_of_cylinders       transmission_type      model    year    horsepower  \n",
       "0               6  Automatic Transmission     pajero  2013.0       Unknown  \n",
       "1               8  Automatic Transmission  silverado  2018.0  400 - 500 HP  \n",
       "2               6  Automatic Transmission    e-class  2014.0  400 - 500 HP  "
      ]
     },
     "execution_count": 534,
     "metadata": {},
     "output_type": "execute_result"
    }
   ],
   "source": [
    "clean_data = dup_data\n",
    "clean_data.head(3)"
   ]
  },
  {
   "cell_type": "code",
   "execution_count": null,
   "id": "66d6cecb-2295-43fd-a3ce-69c7ce18b8d8",
   "metadata": {},
   "outputs": [],
   "source": []
  },
  {
   "cell_type": "code",
   "execution_count": 535,
   "id": "a17e29cf-9730-4d7d-93ac-8d3e1daabc56",
   "metadata": {},
   "outputs": [
    {
     "name": "stdout",
     "output_type": "stream",
     "text": [
      "======================================================\n",
      " ==================  company  ==========================\n",
      "=======================================================\n",
      "company  :  ['mitsubishi' 'chevrolet' 'mercedes-benz' 'ferrari' 'renault' 'audi'\n",
      " 'jeep' 'nissan' 'ford' 'maserati' 'alfa-romeo' 'toyota' 'bmw' 'hyundai'\n",
      " 'cadillac' 'bentley' 'lincoln' 'porsche' 'gmc' 'lexus' 'dodge'\n",
      " 'land-rover' 'infiniti' 'rolls-royce' 'aston-martin' 'mazda' 'volkswagen'\n",
      " 'fiat' 'kia' 'mini' 'honda' 'genesis' 'jaguar' 'volvo' 'peugeot' 'suzuki'\n",
      " 'lamborghini' 'hummer' 'lotus' 'mclaren' 'chrysler' 'opel' 'tesla'\n",
      " 'maybach' 'subaru' 'isuzu' 'geely' 'baic' 'acura' 'gac' 'foton' 'rover'\n",
      " 'mercedes-maybach' 'other-make' 'morgan' 'buick' 'jac' 'mg' 'mercury'\n",
      " 'changan' 'smart' 'skoda' 'saab' 'westfield-sportscars' 'ssang-yong'\n",
      " 'daihatsu' 'dongfeng' 'maxus']\n",
      "======================================================\n",
      " ==================  price_in_aed  ==========================\n",
      "=======================================================\n",
      "price_in_aed  :  ['26,000' '110,000' '78,000' ... '31,800' '24,999' '77,700']\n",
      "======================================================\n",
      " ==================  body_condition  ==========================\n",
      "=======================================================\n",
      "body_condition  :  ['Perfect inside and out' 'Normal wear & tear, a few issues'\n",
      " 'A bit of wear & tear, all repaired' 'No accidents, very few faults']\n",
      "======================================================\n",
      " ==================  mechanical_condition  ==========================\n",
      "=======================================================\n",
      "mechanical_condition  :  ['Perfect inside and out' 'Minor faults, all fixed'\n",
      " 'Major faults fixed, small remain' 'Ongoing minor & major faults'\n",
      " 'Major faults, all fixed']\n",
      "======================================================\n",
      " ==================  no_of_cylinders  ==========================\n",
      "=======================================================\n",
      "no_of_cylinders  :  ['6' '8' '4' '12' 'None' 'Unknown' '3' '10' '5']\n",
      "======================================================\n",
      " ==================  transmission_type  ==========================\n",
      "=======================================================\n",
      "transmission_type  :  ['Automatic Transmission' 'Manual Transmission']\n",
      "======================================================\n",
      " ==================  model  ==========================\n",
      "=======================================================\n",
      "model  :  ['pajero' 'silverado' 'e-class' '488-spider' 'dokker' 'a7'\n",
      " 'grand-cherokee' 'quest' 's8' 'g-class' 'cls-class' 'edge' 'granturismo'\n",
      " 'a6' 'giulietta' 'avanza' '6-series' 'palisade' 'xt5' 'continental-gt'\n",
      " 'giulia' 'cl-class' 'santa-fe' 'mustang' 's-class-coupe' 'mkt'\n",
      " '458-italia' 'cla' 'patrol' 'traverse' 'carrera' 'm5' 'yukon' 'ls-series'\n",
      " 'camaro' 'captur' 'gx-series' 'camry' 'x5' 'durango' 'defender'\n",
      " 'land-cruiser' 'glc' 's-class' 'q70' 'gt' 'previa' 'kicks' 'tahoe'\n",
      " 'aurion' 'tiida' 'taurus' 'genesis' 'armada' 'ghost' '8-series' 'x6'\n",
      " 'ghibli' 'db9' 'rav-4' 'cx-5' 'cayenne' 'hilux' 'navara' '5-series'\n",
      " 'f-series-pickup' 'phantom' 'q7' 'q80' 'c-class' 'xterra' '7-series'\n",
      " 'escalade' 'prado' 'gls-class' '3-series' 'passat' 'focus' '500x' 'ats'\n",
      " 'explorer' 'cerato' 'countryman' 'levante' 'rogue' 'slk-class'\n",
      " 'gle-coupe' 'accord' 'cr-v' 'sentra' 'altima' 'f430'\n",
      " 'land-cruiser-76-series' 'a-class' 'corvette' 'gle-class' 'lumina'\n",
      " 'range-rover' 'veloster' 'a8' 'fortuner' 'other' 'gv80' 'navigator'\n",
      " 'cullinan' 'scaglietti' 'range-rover-sport' 'wrangler-unlimited' 'bronco'\n",
      " 'escape' 'sl-class' 'vanquish' 'xe' 'm-class' 'is-series' 'xc60'\n",
      " 'ctscatera' 'sunny' 'x-trail' 'f-type' 'pilot' 'expedition' '207'\n",
      " '2-series' 'wrangler' 'x1' 'sonata' 'baleno' 'vantage' 'attrage' 'mohave'\n",
      " 'civic' 'urus' 'cherokee' 'sierra' 's3rs3' 'elantra' 'terrain' 'golfr'\n",
      " 'k5' 'xj-series' 'challenger' 'q5' 'rush' 'range-rover-velar' 'panamera'\n",
      " 'boxster' 'impala' 'rx-series' 'yaris' 'gl-class' 'acadia' 'm4' 'ram'\n",
      " 'optima' 'continental' '4-series' 'r8' 'x4' 'charger' 'ux-200' 'g90'\n",
      " 'fj-cruiser' 'lancer' 'gs-series' 'california-t' 'scion' 'bentayga'\n",
      " 'fiat-500' 'cayman' 'cooper' '6' 'h3' 'lr4' 'sequoia'\n",
      " 'range-rover-evoque' 'tucson' 'sprinter' 'xf' 'wraith' 'sorento' 'qx60'\n",
      " 'maxima' 'hiace' 'l200' 'gladiator' 'teramont' 'f12' 'q8' 'duster'\n",
      " 'suburban' 'dbs' 'evora' 'compass' 'partner' 'micra' '1-series'\n",
      " 'ecosport' 'aveo' 'odyssey' 'glb' 'juke' 'f8-tributo' 'mkx' 'stelvio'\n",
      " 'srx' 'koleos' 'c-class-coupe' 's7rs7' 'pickup' 'gtc4-lusso' '86'\n",
      " 'amg-gt-4-doors' 'sportage' '720s' 'ranger' 'quattroporte' 'q30'\n",
      " '300m300c' 'supra' 'f-pace' 'malibu' 'huracan' 'astra' 'model-s' 'qx50'\n",
      " 'murano' 'h1' 'xc90' 'portofino' 'corolla' 'i10' 'van' 'rio' 'cx-9'\n",
      " 'cruze' 'pathfinder' '370z' 'sienna' '3' 'tt' '5008' 'xk' 'silver-spur'\n",
      " 'macan' 'gla' 'dart' 'beetle' 'ff' 's2000' 'zelas' 'gseries' 'tiguan'\n",
      " 'x2' 'city' 'q50' 'fx50' 'corolla-cross' 'qx70' 'es-series' 'lx-series'\n",
      " 'tundra' '488-gtb' 'asx' '280zx' 'symbol' 'v-class' '488' 'outlander'\n",
      " 'insignia' '5045' 'jetta' 'jimny' 'flex' 'xt4' 'c43' 'viano' 'cadenza'\n",
      " 'slc' 'captiva' 'trax' 'elva' 'a4' 'sls' 'z4' '308' 'megane' 'db11'\n",
      " 'e-class-coupe' 'q3' 'aventador' 'h2' 'fx45fx35' 'montero-sport' 'ct5'\n",
      " 'discovery' 'model-3' 'e-pace' 'blazer' 'caddy' 'rs6' 'brz' 'magnum'\n",
      " 'expert' 'mkz' 'figo' 'touareg' 'fluence' 'dawn' 'twizy' 'senna'\n",
      " 'sf90-stradale' 'titan' 'emgrand-8' 'carnival' 'kizashi' 'highlander'\n",
      " 'is-f' 'a5' 'bj40l' 'hr-v' 'discovery-sport' 'nautilus' 'dbx' 'm2'\n",
      " 'fiesta' 'xkr' '675lt' 'jazz' 'mseries' 'gti' 'lc-500' 'nx-200t'\n",
      " 'pacifica' 'lr2' '4-runner' 'q60' '458-spider' 'kona' 'rdx' 'accent' 'x7'\n",
      " 'is-c' 'f8-tributo-spider' 'glc-63' 'rc' 'gs7' 'stinger'\n",
      " 'continental-flying-spur' 'amg' '57' 'aviator' '570gt' 'avanti'\n",
      " 'emgrand-gt' 'telluride' 'trailblazer' 'cavalier' 'swift' 'equinox'\n",
      " 'optra' 's5rs5' 'qx56' 'ct4' 'innova' 'mp412c' 'golf' 'model-x' 'mkc'\n",
      " '2008' 'ex35' 'a1' 'roma' 'other-4x4' 'tacoma' 'scirocco' 'fusion' 'z8'\n",
      " 'plus-8' 'spark' 'slr' 'jxseries' 'avalon' 'mirage' '812-superfast' '508'\n",
      " 'x3' 'pajero-sport' 'city-bus' 'soul' '458' '3008' 'ertiga' '599'\n",
      " 'shelby-cobra' 'a3' 'versa' 'california' 'crown' 'clubman' 'clio' 'rx8'\n",
      " 's-type' 'grand-marquis' 'm8' 'wrx' 'm6' 'xj6' 'arteon' 'taycan' 'ct6'\n",
      " '300zx' 'quoris' 'renegade' 'gs4' '812-gts' 'a200' 'hs' 'cc'\n",
      " 'grand-santa-fe' 'other-utility' '4c' 's4rs4' 'pt-cruiser' 'aero-8'\n",
      " 'barchetta' 'savana' '650s' '570s' 'centennial' 'gallardo' 'cs75'\n",
      " 'r-class' 'gt-r' 'xts' 'mulsanne' 'creta' '208' 'forester' 'xk8' 'lr3'\n",
      " '599gtb' '124-spider' 'ga3' 'caprice' 'sedona' 'nx-300' 'cs95' 'rcz'\n",
      " 'patrol-pickup' 'x-class' 'g80' 'm3' 'legacy' 'crosstour' 'canter' 'xc40'\n",
      " 'heavy-vehicles' 'g25' '355' 'multivan' 'koup' 'e-tron' 'fabia' 'glk'\n",
      " '206cc' 'cx-3' 'caravan' 'mks' 'id4' 'journey' 'grand-vitara' 'rapide'\n",
      " '09-Mar' 'gc6' 'p1' 'special-edition' '300350380' 'town-car' 'eclipse'\n",
      " 'express' 'm850i' 'eos' '308-gt-lne' 'veracruz' 'trooper' '200cev200'\n",
      " 'clc' 'azera' 'mini-coupe' 'evolution' 'gran-max' 'mg5' '301' 'zafira'\n",
      " 'octavia' 'picanto' 'nx-350' 'dfsk-v21' '3008-gt-line' 'talisman'\n",
      " 'f430-spider' '156159' 'g70' 'boxer' 'montero' 'other-car' 'mondeo'\n",
      " 'transporter' 'b-class' 'emgrand-7' 'emgrand-x7-sport' 'voyagercaravan'\n",
      " 'ignis' 'fleetwood' 'xt6' 'sonic' 'carens' 'nitro' 'azure' 'v80' 'cx-30'\n",
      " 'rc-f' 'qashqai' 'wrangler-4xe' 'clk-class' 'dtsde-ville' 'polo' 'rsq3'\n",
      " 'odyssey-j']\n",
      "======================================================\n",
      " ==================  year  ==========================\n",
      "=======================================================\n",
      "year  :  [2013. 2018. 2014. 2020. 2015. 2019. 2008. 2010. 2021. 2017. 2012. 2009.\n",
      " 2004. 2016. 2011. 2005. 2006. 2007. 1960. 1999. 1987. 1991. 1989. 2002.\n",
      " 1982. 1980. 1954. 1975. 2001. 2000. 1971. 2003. 1964. 1983. 1965. 1990.\n",
      " 1992. 1994. 1969. 1974. 1997. 1998. 1995. 1953. 1984. 1979. 1977. 1973.\n",
      " 1976. 1996. 1972. 1970.]\n",
      "======================================================\n",
      " ==================  horsepower  ==========================\n",
      "=======================================================\n",
      "horsepower  :  ['Unknown' '400 - 500 HP' '600 - 700 HP' 'Less than 150 HP' '200 - 300 HP'\n",
      " '500 - 600 HP' '300 - 400 HP' '150 - 200 HP' '700 - 800 HP'\n",
      " '800 - 900 HP' '900+ HP']\n"
     ]
    }
   ],
   "source": [
    "for col in clean_data.columns: \n",
    "    unique = clean_data[col].unique()\n",
    "    print('======================================================')\n",
    "    print(' ================== ', col , ' ==========================')\n",
    "    print('=======================================================')\n",
    "    print(col , ' : ', unique )"
   ]
  },
  {
   "cell_type": "code",
   "execution_count": 536,
   "id": "d4b13466-8977-4a6a-9bb1-21c728985cf6",
   "metadata": {},
   "outputs": [
    {
     "data": {
      "text/plain": [
       "True"
      ]
     },
     "execution_count": 536,
     "metadata": {},
     "output_type": "execute_result"
    }
   ],
   "source": [
    "\"None\" in clean_data.no_of_cylinders.values"
   ]
  },
  {
   "cell_type": "code",
   "execution_count": 537,
   "id": "9ae54f18-cd8b-4d6a-906b-debf30b60eed",
   "metadata": {},
   "outputs": [
    {
     "data": {
      "text/plain": [
       "nan"
      ]
     },
     "execution_count": 537,
     "metadata": {},
     "output_type": "execute_result"
    }
   ],
   "source": [
    "import numpy as np\n",
    "np.nan"
   ]
  },
  {
   "cell_type": "code",
   "execution_count": 538,
   "id": "2b24a0a6-ec8d-4f0d-abed-034a73038bb1",
   "metadata": {},
   "outputs": [
    {
     "data": {
      "text/plain": [
       "False"
      ]
     },
     "execution_count": 538,
     "metadata": {},
     "output_type": "execute_result"
    }
   ],
   "source": [
    "np.NaN in clean_data.horsepower.unique()"
   ]
  },
  {
   "cell_type": "code",
   "execution_count": 539,
   "id": "44cec4f2-6d7d-4d91-8f44-144d9a43aec0",
   "metadata": {},
   "outputs": [],
   "source": [
    "### Clearnng data"
   ]
  },
  {
   "cell_type": "code",
   "execution_count": 540,
   "id": "58358a70-0d44-4c83-b6df-26da827bd1a9",
   "metadata": {},
   "outputs": [],
   "source": [
    "clean_data['no_of_cylinders'] = clean_data['no_of_cylinders'].replace('None', np.nan ).replace('Unknown', np.nan)\n",
    "clean_data['no_of_cylinders']  = clean_data['no_of_cylinders'].fillna(method='ffill')"
   ]
  },
  {
   "cell_type": "code",
   "execution_count": 541,
   "id": "912a0e41-b8e3-47e1-9061-d435fe229a7f",
   "metadata": {},
   "outputs": [],
   "source": [
    "clean_data['horsepower'] = clean_data['horsepower'].replace('Unknown', np.nan).replace(np.NaN, np.nan)\n",
    "clean_data['horsepower'].fillna(method='ffill', inplace=True)\n"
   ]
  },
  {
   "cell_type": "code",
   "execution_count": null,
   "id": "380c95fd-62d0-442b-9c33-132fdf3b63bc",
   "metadata": {},
   "outputs": [],
   "source": []
  },
  {
   "cell_type": "code",
   "execution_count": 542,
   "id": "45e8665e-02ef-40fb-ba49-9e73e9be66d9",
   "metadata": {
    "scrolled": true
   },
   "outputs": [
    {
     "name": "stdout",
     "output_type": "stream",
     "text": [
      "<class 'pandas.core.frame.DataFrame'>\n",
      "Int64Index: 8376 entries, 0 to 9969\n",
      "Data columns (total 9 columns):\n",
      " #   Column                Non-Null Count  Dtype  \n",
      "---  ------                --------------  -----  \n",
      " 0   company               8376 non-null   object \n",
      " 1   price_in_aed          8376 non-null   object \n",
      " 2   body_condition        8376 non-null   object \n",
      " 3   mechanical_condition  8376 non-null   object \n",
      " 4   no_of_cylinders       8376 non-null   object \n",
      " 5   transmission_type     8376 non-null   object \n",
      " 6   model                 8376 non-null   object \n",
      " 7   year                  8376 non-null   float64\n",
      " 8   horsepower            8375 non-null   object \n",
      "dtypes: float64(1), object(8)\n",
      "memory usage: 654.4+ KB\n"
     ]
    }
   ],
   "source": [
    "clean_data.info()"
   ]
  },
  {
   "cell_type": "code",
   "execution_count": 471,
   "id": "a0d401d4-2723-4401-843a-0af8187607d7",
   "metadata": {},
   "outputs": [
    {
     "data": {
      "text/plain": [
       "Index(['title', 'price_in_aed', 'kilometers', 'body_condition',\n",
       "       'mechanical_condition', 'seller_type', 'body_type', 'no_of_cylinders',\n",
       "       'transmission_type', 'regional_specs', 'horsepower', 'fuel_type',\n",
       "       'steering_side', 'year', 'color', 'emirate', 'motors_trim', 'company',\n",
       "       'model', 'date_posted'],\n",
       "      dtype='object')"
      ]
     },
     "execution_count": 471,
     "metadata": {},
     "output_type": "execute_result"
    }
   ],
   "source": [
    "data.columns"
   ]
  },
  {
   "cell_type": "code",
   "execution_count": 543,
   "id": "c0f025c3-a6ed-46c9-b417-0cb26bf61f4f",
   "metadata": {
    "scrolled": true
   },
   "outputs": [
    {
     "name": "stdout",
     "output_type": "stream",
     "text": [
      "<class 'pandas.core.frame.DataFrame'>\n",
      "Int64Index: 8376 entries, 0 to 9969\n",
      "Data columns (total 9 columns):\n",
      " #   Column                Non-Null Count  Dtype   \n",
      "---  ------                --------------  -----   \n",
      " 0   company               8376 non-null   category\n",
      " 1   price_in_aed          8376 non-null   object  \n",
      " 2   body_condition        8376 non-null   category\n",
      " 3   mechanical_condition  8376 non-null   category\n",
      " 4   no_of_cylinders       8376 non-null   object  \n",
      " 5   transmission_type     8376 non-null   category\n",
      " 6   model                 8376 non-null   category\n",
      " 7   year                  8376 non-null   float64 \n",
      " 8   horsepower            8375 non-null   category\n",
      "dtypes: category(6), float64(1), object(2)\n",
      "memory usage: 342.8+ KB\n"
     ]
    }
   ],
   "source": [
    "# Transform data\n",
    "\n",
    "clean_data['company'] = clean_data.company.astype('category')\n",
    "clean_data['body_condition'] = clean_data.body_condition.astype('category')\n",
    "clean_data['mechanical_condition'] = clean_data.mechanical_condition.astype('category')\n",
    "clean_data['transmission_type'] = clean_data.transmission_type.astype('category')\n",
    "clean_data['model'] = clean_data.model.astype('category')\n",
    "clean_data['horsepower'] = clean_data.horsepower.astype('category')\n",
    "\n",
    "clean_data.info()"
   ]
  },
  {
   "cell_type": "code",
   "execution_count": 544,
   "id": "dc9a51d7-cee9-4cae-b254-c676ad609a45",
   "metadata": {},
   "outputs": [
    {
     "data": {
      "text/plain": [
       "str"
      ]
     },
     "execution_count": 544,
     "metadata": {},
     "output_type": "execute_result"
    }
   ],
   "source": [
    "type(clean_data.price_in_aed[0])"
   ]
  },
  {
   "cell_type": "code",
   "execution_count": 545,
   "id": "aa3ab0d7-1b91-4ea2-a023-892f317f3d62",
   "metadata": {},
   "outputs": [
    {
     "data": {
      "text/plain": [
       "0        26,000\n",
       "1       110,000\n",
       "2        78,000\n",
       "3       899,000\n",
       "4        33,000\n",
       "         ...   \n",
       "9962    385,000\n",
       "9965    215,000\n",
       "9966     90,000\n",
       "9968     18,900\n",
       "9969     77,700\n",
       "Name: price_in_aed, Length: 8376, dtype: object"
      ]
     },
     "execution_count": 545,
     "metadata": {},
     "output_type": "execute_result"
    }
   ],
   "source": [
    "clean_data.price_in_aed"
   ]
  },
  {
   "cell_type": "code",
   "execution_count": 546,
   "id": "0bdf0afa-67b2-48d9-a750-fb72ce6fd6ca",
   "metadata": {},
   "outputs": [],
   "source": [
    "clean_data['price_in_aed'] = pd.to_numeric(clean_data['price_in_aed'].str.replace(',', ''), errors='coerce')"
   ]
  },
  {
   "cell_type": "code",
   "execution_count": 547,
   "id": "fb7b4bbd-1ce7-43dc-baa1-50d4e8b88705",
   "metadata": {},
   "outputs": [
    {
     "data": {
      "text/html": [
       "<div>\n",
       "<style scoped>\n",
       "    .dataframe tbody tr th:only-of-type {\n",
       "        vertical-align: middle;\n",
       "    }\n",
       "\n",
       "    .dataframe tbody tr th {\n",
       "        vertical-align: top;\n",
       "    }\n",
       "\n",
       "    .dataframe thead th {\n",
       "        text-align: right;\n",
       "    }\n",
       "</style>\n",
       "<table border=\"1\" class=\"dataframe\">\n",
       "  <thead>\n",
       "    <tr style=\"text-align: right;\">\n",
       "      <th></th>\n",
       "      <th>company</th>\n",
       "      <th>price_in_aed</th>\n",
       "      <th>body_condition</th>\n",
       "      <th>mechanical_condition</th>\n",
       "      <th>no_of_cylinders</th>\n",
       "      <th>transmission_type</th>\n",
       "      <th>model</th>\n",
       "      <th>year</th>\n",
       "      <th>horsepower</th>\n",
       "    </tr>\n",
       "  </thead>\n",
       "  <tbody>\n",
       "    <tr>\n",
       "      <th>0</th>\n",
       "      <td>mitsubishi</td>\n",
       "      <td>26000</td>\n",
       "      <td>Perfect inside and out</td>\n",
       "      <td>Perfect inside and out</td>\n",
       "      <td>6</td>\n",
       "      <td>Automatic Transmission</td>\n",
       "      <td>pajero</td>\n",
       "      <td>2013.0</td>\n",
       "      <td>NaN</td>\n",
       "    </tr>\n",
       "    <tr>\n",
       "      <th>1</th>\n",
       "      <td>chevrolet</td>\n",
       "      <td>110000</td>\n",
       "      <td>Perfect inside and out</td>\n",
       "      <td>Perfect inside and out</td>\n",
       "      <td>8</td>\n",
       "      <td>Automatic Transmission</td>\n",
       "      <td>silverado</td>\n",
       "      <td>2018.0</td>\n",
       "      <td>400 - 500 HP</td>\n",
       "    </tr>\n",
       "    <tr>\n",
       "      <th>2</th>\n",
       "      <td>mercedes-benz</td>\n",
       "      <td>78000</td>\n",
       "      <td>Perfect inside and out</td>\n",
       "      <td>Perfect inside and out</td>\n",
       "      <td>6</td>\n",
       "      <td>Automatic Transmission</td>\n",
       "      <td>e-class</td>\n",
       "      <td>2014.0</td>\n",
       "      <td>400 - 500 HP</td>\n",
       "    </tr>\n",
       "  </tbody>\n",
       "</table>\n",
       "</div>"
      ],
      "text/plain": [
       "         company  price_in_aed          body_condition  \\\n",
       "0     mitsubishi         26000  Perfect inside and out   \n",
       "1      chevrolet        110000  Perfect inside and out   \n",
       "2  mercedes-benz         78000  Perfect inside and out   \n",
       "\n",
       "     mechanical_condition no_of_cylinders       transmission_type      model  \\\n",
       "0  Perfect inside and out               6  Automatic Transmission     pajero   \n",
       "1  Perfect inside and out               8  Automatic Transmission  silverado   \n",
       "2  Perfect inside and out               6  Automatic Transmission    e-class   \n",
       "\n",
       "     year    horsepower  \n",
       "0  2013.0           NaN  \n",
       "1  2018.0  400 - 500 HP  \n",
       "2  2014.0  400 - 500 HP  "
      ]
     },
     "execution_count": 547,
     "metadata": {},
     "output_type": "execute_result"
    }
   ],
   "source": [
    "clean_data.head(3)"
   ]
  },
  {
   "cell_type": "code",
   "execution_count": 548,
   "id": "d0b73015-20f4-4e98-a4ef-2c6d1cf71ca7",
   "metadata": {},
   "outputs": [],
   "source": [
    "company_mapping = dict(enumerate(clean_data.company.cat.categories))\n",
    "body_condition_mapping = dict(enumerate(clean_data.body_condition.cat.categories))\n",
    "mechanical_condition_mapping = dict(enumerate(clean_data.mechanical_condition.cat.categories))\n",
    "transmission_type_mapping = dict(enumerate(clean_data.transmission_type.cat.categories))\n",
    "model_mapping = dict(enumerate(clean_data.model.cat.categories))\n",
    "horsepower = dict(enumerate(clean_data.horsepower.cat.categories))"
   ]
  },
  {
   "cell_type": "code",
   "execution_count": 557,
   "id": "08bb5343-abd0-4162-b888-3aee7ebb0c9e",
   "metadata": {},
   "outputs": [],
   "source": [
    "company_mapping = dict(zip(clean_data['company'].cat.categories, range(len(clean_data['company'].cat.categories))))\n",
    "body_condition_mapping = dict(zip(clean_data['body_condition'].cat.categories, range(len(clean_data['body_condition'].cat.categories))))\n",
    "mechanical_condition_mapping = dict(zip(clean_data['mechanical_condition'].cat.categories, range(len(clean_data['mechanical_condition'].cat.categories))))\n",
    "transmission_type_mapping = dict(zip(clean_data['transmission_type'].cat.categories, range(len(clean_data['transmission_type'].cat.categories))))\n",
    "model_mapping = dict(zip(clean_data['model'].cat.categories, range(len(clean_data['model'].cat.categories))))\n",
    "horsepower = dict(zip(clean_data['horsepower'].cat.categories, range(len(clean_data['horsepower'].cat.categories))))"
   ]
  },
  {
   "cell_type": "code",
   "execution_count": 558,
   "id": "ffa74bcc-3ba9-46b9-942d-d730155b3f6a",
   "metadata": {},
   "outputs": [
    {
     "data": {
      "text/plain": [
       "{'acura': 0,\n",
       " 'alfa-romeo': 1,\n",
       " 'aston-martin': 2,\n",
       " 'audi': 3,\n",
       " 'baic': 4,\n",
       " 'bentley': 5,\n",
       " 'bmw': 6,\n",
       " 'buick': 7,\n",
       " 'cadillac': 8,\n",
       " 'changan': 9,\n",
       " 'chevrolet': 10,\n",
       " 'chrysler': 11,\n",
       " 'daihatsu': 12,\n",
       " 'dodge': 13,\n",
       " 'dongfeng': 14,\n",
       " 'ferrari': 15,\n",
       " 'fiat': 16,\n",
       " 'ford': 17,\n",
       " 'foton': 18,\n",
       " 'gac': 19,\n",
       " 'geely': 20,\n",
       " 'genesis': 21,\n",
       " 'gmc': 22,\n",
       " 'honda': 23,\n",
       " 'hummer': 24,\n",
       " 'hyundai': 25,\n",
       " 'infiniti': 26,\n",
       " 'isuzu': 27,\n",
       " 'jac': 28,\n",
       " 'jaguar': 29,\n",
       " 'jeep': 30,\n",
       " 'kia': 31,\n",
       " 'lamborghini': 32,\n",
       " 'land-rover': 33,\n",
       " 'lexus': 34,\n",
       " 'lincoln': 35,\n",
       " 'lotus': 36,\n",
       " 'maserati': 37,\n",
       " 'maxus': 38,\n",
       " 'maybach': 39,\n",
       " 'mazda': 40,\n",
       " 'mclaren': 41,\n",
       " 'mercedes-benz': 42,\n",
       " 'mercedes-maybach': 43,\n",
       " 'mercury': 44,\n",
       " 'mg': 45,\n",
       " 'mini': 46,\n",
       " 'mitsubishi': 47,\n",
       " 'morgan': 48,\n",
       " 'nissan': 49,\n",
       " 'opel': 50,\n",
       " 'other-make': 51,\n",
       " 'peugeot': 52,\n",
       " 'porsche': 53,\n",
       " 'renault': 54,\n",
       " 'rolls-royce': 55,\n",
       " 'rover': 56,\n",
       " 'saab': 57,\n",
       " 'skoda': 58,\n",
       " 'smart': 59,\n",
       " 'ssang-yong': 60,\n",
       " 'subaru': 61,\n",
       " 'suzuki': 62,\n",
       " 'tesla': 63,\n",
       " 'toyota': 64,\n",
       " 'volkswagen': 65,\n",
       " 'volvo': 66,\n",
       " 'westfield-sportscars': 67}"
      ]
     },
     "execution_count": 558,
     "metadata": {},
     "output_type": "execute_result"
    }
   ],
   "source": [
    "company_mapping"
   ]
  },
  {
   "cell_type": "code",
   "execution_count": 559,
   "id": "e408ed1e-160c-4473-9061-31bdb72f51a9",
   "metadata": {},
   "outputs": [],
   "source": [
    "clean_data['company'] = clean_data.company.cat.codes\n",
    "clean_data['body_condition'] = clean_data.body_condition.cat.codes\n",
    "clean_data['mechanical_condition'] = clean_data.mechanical_condition.cat.codes\n",
    "clean_data['transmission_type'] = clean_data.transmission_type.cat.codes\n",
    "clean_data['model'] = clean_data.model.cat.codes\n",
    "clean_data['horsepower'] = clean_data.horsepower.cat.codes"
   ]
  },
  {
   "cell_type": "code",
   "execution_count": null,
   "id": "6ea32061-e6d3-4a93-a0bd-9dd0b79cabca",
   "metadata": {},
   "outputs": [],
   "source": []
  },
  {
   "cell_type": "code",
   "execution_count": 560,
   "id": "f0120862-942d-4ca8-980d-05881ce87a89",
   "metadata": {},
   "outputs": [
    {
     "data": {
      "text/html": [
       "<div>\n",
       "<style scoped>\n",
       "    .dataframe tbody tr th:only-of-type {\n",
       "        vertical-align: middle;\n",
       "    }\n",
       "\n",
       "    .dataframe tbody tr th {\n",
       "        vertical-align: top;\n",
       "    }\n",
       "\n",
       "    .dataframe thead th {\n",
       "        text-align: right;\n",
       "    }\n",
       "</style>\n",
       "<table border=\"1\" class=\"dataframe\">\n",
       "  <thead>\n",
       "    <tr style=\"text-align: right;\">\n",
       "      <th></th>\n",
       "      <th>company</th>\n",
       "      <th>price_in_aed</th>\n",
       "      <th>body_condition</th>\n",
       "      <th>mechanical_condition</th>\n",
       "      <th>no_of_cylinders</th>\n",
       "      <th>transmission_type</th>\n",
       "      <th>model</th>\n",
       "      <th>year</th>\n",
       "      <th>horsepower</th>\n",
       "    </tr>\n",
       "  </thead>\n",
       "  <tbody>\n",
       "    <tr>\n",
       "      <th>0</th>\n",
       "      <td>47</td>\n",
       "      <td>26000</td>\n",
       "      <td>3</td>\n",
       "      <td>4</td>\n",
       "      <td>6</td>\n",
       "      <td>0</td>\n",
       "      <td>357</td>\n",
       "      <td>2013.0</td>\n",
       "      <td>-1</td>\n",
       "    </tr>\n",
       "  </tbody>\n",
       "</table>\n",
       "</div>"
      ],
      "text/plain": [
       "   company  price_in_aed  body_condition  mechanical_condition  \\\n",
       "0       47         26000               3                     4   \n",
       "\n",
       "  no_of_cylinders  transmission_type  model    year  horsepower  \n",
       "0               6                  0    357  2013.0          -1  "
      ]
     },
     "execution_count": 560,
     "metadata": {},
     "output_type": "execute_result"
    }
   ],
   "source": [
    "clean_data[clean_data.horsepower.values == -1]"
   ]
  },
  {
   "cell_type": "code",
   "execution_count": 562,
   "id": "f9354470-d113-42a8-8087-b399913abb7b",
   "metadata": {},
   "outputs": [
    {
     "data": {
      "text/html": [
       "<div>\n",
       "<style scoped>\n",
       "    .dataframe tbody tr th:only-of-type {\n",
       "        vertical-align: middle;\n",
       "    }\n",
       "\n",
       "    .dataframe tbody tr th {\n",
       "        vertical-align: top;\n",
       "    }\n",
       "\n",
       "    .dataframe thead th {\n",
       "        text-align: right;\n",
       "    }\n",
       "</style>\n",
       "<table border=\"1\" class=\"dataframe\">\n",
       "  <thead>\n",
       "    <tr style=\"text-align: right;\">\n",
       "      <th></th>\n",
       "      <th>company</th>\n",
       "      <th>price_in_aed</th>\n",
       "      <th>body_condition</th>\n",
       "      <th>mechanical_condition</th>\n",
       "      <th>no_of_cylinders</th>\n",
       "      <th>transmission_type</th>\n",
       "      <th>model</th>\n",
       "      <th>year</th>\n",
       "      <th>horsepower</th>\n",
       "    </tr>\n",
       "  </thead>\n",
       "  <tbody>\n",
       "    <tr>\n",
       "      <th>0</th>\n",
       "      <td>47</td>\n",
       "      <td>26000</td>\n",
       "      <td>3</td>\n",
       "      <td>4</td>\n",
       "      <td>6</td>\n",
       "      <td>0</td>\n",
       "      <td>357</td>\n",
       "      <td>2013.0</td>\n",
       "      <td>-1</td>\n",
       "    </tr>\n",
       "    <tr>\n",
       "      <th>1</th>\n",
       "      <td>10</td>\n",
       "      <td>110000</td>\n",
       "      <td>3</td>\n",
       "      <td>4</td>\n",
       "      <td>8</td>\n",
       "      <td>0</td>\n",
       "      <td>439</td>\n",
       "      <td>2018.0</td>\n",
       "      <td>3</td>\n",
       "    </tr>\n",
       "    <tr>\n",
       "      <th>2</th>\n",
       "      <td>42</td>\n",
       "      <td>78000</td>\n",
       "      <td>3</td>\n",
       "      <td>4</td>\n",
       "      <td>6</td>\n",
       "      <td>0</td>\n",
       "      <td>169</td>\n",
       "      <td>2014.0</td>\n",
       "      <td>3</td>\n",
       "    </tr>\n",
       "  </tbody>\n",
       "</table>\n",
       "</div>"
      ],
      "text/plain": [
       "   company  price_in_aed  body_condition  mechanical_condition  \\\n",
       "0       47         26000               3                     4   \n",
       "1       10        110000               3                     4   \n",
       "2       42         78000               3                     4   \n",
       "\n",
       "  no_of_cylinders  transmission_type  model    year  horsepower  \n",
       "0               6                  0    357  2013.0          -1  \n",
       "1               8                  0    439  2018.0           3  \n",
       "2               6                  0    169  2014.0           3  "
      ]
     },
     "execution_count": 562,
     "metadata": {},
     "output_type": "execute_result"
    }
   ],
   "source": [
    "clean_data.head(3)"
   ]
  },
  {
   "cell_type": "code",
   "execution_count": null,
   "id": "a0b83303-7956-4aab-bef8-3dddc51f5c3f",
   "metadata": {},
   "outputs": [],
   "source": []
  },
  {
   "cell_type": "code",
   "execution_count": 563,
   "id": "dd70d3b4-2a9b-4303-aae8-b57b911f4121",
   "metadata": {},
   "outputs": [],
   "source": [
    "# splitting variable\n",
    "X = clean_data.drop(columns='price_in_aed')\n",
    "y = clean_data.price_in_aed"
   ]
  },
  {
   "cell_type": "code",
   "execution_count": 564,
   "id": "8de7481a-fb61-4160-9297-249220550eb8",
   "metadata": {},
   "outputs": [
    {
     "data": {
      "text/html": [
       "<div>\n",
       "<style scoped>\n",
       "    .dataframe tbody tr th:only-of-type {\n",
       "        vertical-align: middle;\n",
       "    }\n",
       "\n",
       "    .dataframe tbody tr th {\n",
       "        vertical-align: top;\n",
       "    }\n",
       "\n",
       "    .dataframe thead th {\n",
       "        text-align: right;\n",
       "    }\n",
       "</style>\n",
       "<table border=\"1\" class=\"dataframe\">\n",
       "  <thead>\n",
       "    <tr style=\"text-align: right;\">\n",
       "      <th></th>\n",
       "      <th>company</th>\n",
       "      <th>body_condition</th>\n",
       "      <th>mechanical_condition</th>\n",
       "      <th>no_of_cylinders</th>\n",
       "      <th>transmission_type</th>\n",
       "      <th>model</th>\n",
       "      <th>year</th>\n",
       "      <th>horsepower</th>\n",
       "    </tr>\n",
       "  </thead>\n",
       "  <tbody>\n",
       "    <tr>\n",
       "      <th>0</th>\n",
       "      <td>47</td>\n",
       "      <td>3</td>\n",
       "      <td>4</td>\n",
       "      <td>6</td>\n",
       "      <td>0</td>\n",
       "      <td>357</td>\n",
       "      <td>2013.0</td>\n",
       "      <td>-1</td>\n",
       "    </tr>\n",
       "    <tr>\n",
       "      <th>1</th>\n",
       "      <td>10</td>\n",
       "      <td>3</td>\n",
       "      <td>4</td>\n",
       "      <td>8</td>\n",
       "      <td>0</td>\n",
       "      <td>439</td>\n",
       "      <td>2018.0</td>\n",
       "      <td>3</td>\n",
       "    </tr>\n",
       "    <tr>\n",
       "      <th>2</th>\n",
       "      <td>42</td>\n",
       "      <td>3</td>\n",
       "      <td>4</td>\n",
       "      <td>6</td>\n",
       "      <td>0</td>\n",
       "      <td>169</td>\n",
       "      <td>2014.0</td>\n",
       "      <td>3</td>\n",
       "    </tr>\n",
       "  </tbody>\n",
       "</table>\n",
       "</div>"
      ],
      "text/plain": [
       "   company  body_condition  mechanical_condition no_of_cylinders  \\\n",
       "0       47               3                     4               6   \n",
       "1       10               3                     4               8   \n",
       "2       42               3                     4               6   \n",
       "\n",
       "   transmission_type  model    year  horsepower  \n",
       "0                  0    357  2013.0          -1  \n",
       "1                  0    439  2018.0           3  \n",
       "2                  0    169  2014.0           3  "
      ]
     },
     "execution_count": 564,
     "metadata": {},
     "output_type": "execute_result"
    }
   ],
   "source": [
    "X.head(3)"
   ]
  },
  {
   "cell_type": "code",
   "execution_count": 565,
   "id": "75141dd6-12b5-4231-a083-1937038cdc8f",
   "metadata": {},
   "outputs": [
    {
     "data": {
      "text/plain": [
       "0     26000\n",
       "1    110000\n",
       "2     78000\n",
       "Name: price_in_aed, dtype: int64"
      ]
     },
     "execution_count": 565,
     "metadata": {},
     "output_type": "execute_result"
    }
   ],
   "source": [
    "y.head(3)"
   ]
  },
  {
   "cell_type": "code",
   "execution_count": 566,
   "id": "caf9c2cd-be8b-433f-8096-89b1d1c6e760",
   "metadata": {},
   "outputs": [
    {
     "name": "stdout",
     "output_type": "stream",
     "text": [
      "(6700, 8)\n",
      "(1676, 8)\n"
     ]
    }
   ],
   "source": [
    "# splitting .... train and test\n",
    "from sklearn import model_selection\n",
    "X_train, X_test, y_train, y_test = model_selection.train_test_split(X, y, test_size=.2, random_state=2)\n",
    "print(X_train.shape)\n",
    "print(X_test.shape)"
   ]
  },
  {
   "cell_type": "code",
   "execution_count": null,
   "id": "51f1b174-710b-4323-a448-e196a9f2f833",
   "metadata": {},
   "outputs": [],
   "source": []
  },
  {
   "cell_type": "code",
   "execution_count": 567,
   "id": "ecd80424-c16a-41b8-94a5-6848ba1daf38",
   "metadata": {},
   "outputs": [],
   "source": [
    "# prediction model"
   ]
  },
  {
   "cell_type": "code",
   "execution_count": 579,
   "id": "b882510b-1403-4c80-b777-f9c42bf48d3a",
   "metadata": {},
   "outputs": [],
   "source": [
    "from sklearn.linear_model import LinearRegression\n",
    "from sklearn.ensemble import RandomForestRegressor\n",
    "from sklearn import svm\n",
    "\n",
    "lr_model = RandomForestRegressor()\n",
    "lr_model.fit(X_train, y_train)\n",
    "lr_predict = lr_model.predict(X_test)\n",
    "\n",
    "lr_train_score = lr_model.score(X_train, y_train)\n",
    "lr_test_score = lr_model.score(X_test, y_test)\n",
    "LRmse = mean_squared_error(y_test, lr_predict)"
   ]
  },
  {
   "cell_type": "code",
   "execution_count": 580,
   "id": "62b3a9bd-87c4-46e8-bc28-9c6e3c4b686d",
   "metadata": {},
   "outputs": [
    {
     "name": "stdout",
     "output_type": "stream",
     "text": [
      "Train Accuracy :  0.9171249833932883\n",
      "Test Accuracy :  0.7173259850504354\n",
      "Mean Error :  13646332056.429098\n"
     ]
    }
   ],
   "source": [
    "print(\"Train Accuracy : \", lr_train_score)\n",
    "print(\"Test Accuracy : \" , lr_test_score)\n",
    "print(\"Mean Error : \", lr_mse)"
   ]
  },
  {
   "cell_type": "code",
   "execution_count": 581,
   "id": "e26ff13f-185a-4a5d-806b-66d6ed63159e",
   "metadata": {},
   "outputs": [],
   "source": [
    "from sklearn import svm\n",
    "from sklearn.ensemble import GradientBoostingRegressor\n",
    "from sklearn.metrics import mean_squared_error\n",
    "\n",
    "gbr_model = GradientBoostingRegressor()\n",
    "gbr_model.fit(X_train, y_train)\n",
    "gbr_predict = gbr_model.predict(X_test)\n",
    "\n",
    "gbr_train_score = gbr_model.score(X_train, y_train)\n",
    "gbr_test_score = gbr_model.score(X_test, y_test)\n",
    "gbr_mse = mean_squared_error(y_test, gbr_predict)"
   ]
  },
  {
   "cell_type": "code",
   "execution_count": 582,
   "id": "db66ae5d-af10-4d9b-994d-3b7b587b572d",
   "metadata": {},
   "outputs": [
    {
     "name": "stdout",
     "output_type": "stream",
     "text": [
      "Train Accuracy :  0.8006418848399918\n",
      "Test Accuracy :  0.6538333711733757\n",
      "Mean Error :  41008427830.722786\n"
     ]
    }
   ],
   "source": [
    "print(\"Train Accuracy : \", gbr_train_score)\n",
    "print(\"Test Accuracy : \" , gbr_test_score)\n",
    "print(\"Mean Error : \", gbr_mse)"
   ]
  },
  {
   "cell_type": "code",
   "execution_count": 583,
   "id": "8ea76316-3f2f-4ed0-b457-79b82868a7ea",
   "metadata": {},
   "outputs": [],
   "source": [
    "from sklearn.neighbors import KNeighborsRegressor\n",
    "\n",
    "knn_model = KNeighborsRegressor(n_neighbors=3)  \n",
    "knn_model.fit(X_train, y_train)\n",
    "knn_predict = knn_model.predict(X_test)\n",
    "\n",
    "knn_train_score = knn_model.score(X_train, y_train)\n",
    "knn_test_score = knn_model.score(X_test, y_test)\n",
    "knn_mse = mean_squared_error(y_test, knn_predict)"
   ]
  },
  {
   "cell_type": "code",
   "execution_count": 584,
   "id": "9dd1dd0c-2315-487a-8dc2-2447c9455d2c",
   "metadata": {},
   "outputs": [
    {
     "name": "stdout",
     "output_type": "stream",
     "text": [
      "Train Accuracy :  0.8165753924981055\n",
      "Test Accuracy :  0.7198953563008865\n",
      "Mean Error :  33182433283.996414\n"
     ]
    }
   ],
   "source": [
    "print(\"Train Accuracy : \", knn_train_score)\n",
    "print(\"Test Accuracy : \" , knn_test_score)\n",
    "print(\"Mean Error : \", knn_mse)"
   ]
  },
  {
   "cell_type": "code",
   "execution_count": 585,
   "id": "8f9a365f-8f5f-4a52-82fd-74e7193b9ee7",
   "metadata": {},
   "outputs": [],
   "source": [
    "#saving model"
   ]
  },
  {
   "cell_type": "code",
   "execution_count": 586,
   "id": "cb922bb6-9355-47af-915f-1044fc41195d",
   "metadata": {},
   "outputs": [
    {
     "name": "stdout",
     "output_type": "stream",
     "text": [
      "all model save successfully\n"
     ]
    }
   ],
   "source": [
    "import joblib\n",
    "\n",
    "joblib.dump(lr_model, 'Radomforest.joblib')\n",
    "joblib.dump(gbr_model, 'GradientBoost.joblib')\n",
    "joblib.dump(knn_model, 'KNeighbors.joblib')\n",
    "print(\"all model save successfully\")"
   ]
  },
  {
   "cell_type": "code",
   "execution_count": 587,
   "id": "b0861952-0f22-45eb-8a51-bb082d4c0e20",
   "metadata": {},
   "outputs": [
    {
     "data": {
      "text/html": [
       "<style>#sk-container-id-4 {color: black;background-color: white;}#sk-container-id-4 pre{padding: 0;}#sk-container-id-4 div.sk-toggleable {background-color: white;}#sk-container-id-4 label.sk-toggleable__label {cursor: pointer;display: block;width: 100%;margin-bottom: 0;padding: 0.3em;box-sizing: border-box;text-align: center;}#sk-container-id-4 label.sk-toggleable__label-arrow:before {content: \"▸\";float: left;margin-right: 0.25em;color: #696969;}#sk-container-id-4 label.sk-toggleable__label-arrow:hover:before {color: black;}#sk-container-id-4 div.sk-estimator:hover label.sk-toggleable__label-arrow:before {color: black;}#sk-container-id-4 div.sk-toggleable__content {max-height: 0;max-width: 0;overflow: hidden;text-align: left;background-color: #f0f8ff;}#sk-container-id-4 div.sk-toggleable__content pre {margin: 0.2em;color: black;border-radius: 0.25em;background-color: #f0f8ff;}#sk-container-id-4 input.sk-toggleable__control:checked~div.sk-toggleable__content {max-height: 200px;max-width: 100%;overflow: auto;}#sk-container-id-4 input.sk-toggleable__control:checked~label.sk-toggleable__label-arrow:before {content: \"▾\";}#sk-container-id-4 div.sk-estimator input.sk-toggleable__control:checked~label.sk-toggleable__label {background-color: #d4ebff;}#sk-container-id-4 div.sk-label input.sk-toggleable__control:checked~label.sk-toggleable__label {background-color: #d4ebff;}#sk-container-id-4 input.sk-hidden--visually {border: 0;clip: rect(1px 1px 1px 1px);clip: rect(1px, 1px, 1px, 1px);height: 1px;margin: -1px;overflow: hidden;padding: 0;position: absolute;width: 1px;}#sk-container-id-4 div.sk-estimator {font-family: monospace;background-color: #f0f8ff;border: 1px dotted black;border-radius: 0.25em;box-sizing: border-box;margin-bottom: 0.5em;}#sk-container-id-4 div.sk-estimator:hover {background-color: #d4ebff;}#sk-container-id-4 div.sk-parallel-item::after {content: \"\";width: 100%;border-bottom: 1px solid gray;flex-grow: 1;}#sk-container-id-4 div.sk-label:hover label.sk-toggleable__label {background-color: #d4ebff;}#sk-container-id-4 div.sk-serial::before {content: \"\";position: absolute;border-left: 1px solid gray;box-sizing: border-box;top: 0;bottom: 0;left: 50%;z-index: 0;}#sk-container-id-4 div.sk-serial {display: flex;flex-direction: column;align-items: center;background-color: white;padding-right: 0.2em;padding-left: 0.2em;position: relative;}#sk-container-id-4 div.sk-item {position: relative;z-index: 1;}#sk-container-id-4 div.sk-parallel {display: flex;align-items: stretch;justify-content: center;background-color: white;position: relative;}#sk-container-id-4 div.sk-item::before, #sk-container-id-4 div.sk-parallel-item::before {content: \"\";position: absolute;border-left: 1px solid gray;box-sizing: border-box;top: 0;bottom: 0;left: 50%;z-index: -1;}#sk-container-id-4 div.sk-parallel-item {display: flex;flex-direction: column;z-index: 1;position: relative;background-color: white;}#sk-container-id-4 div.sk-parallel-item:first-child::after {align-self: flex-end;width: 50%;}#sk-container-id-4 div.sk-parallel-item:last-child::after {align-self: flex-start;width: 50%;}#sk-container-id-4 div.sk-parallel-item:only-child::after {width: 0;}#sk-container-id-4 div.sk-dashed-wrapped {border: 1px dashed gray;margin: 0 0.4em 0.5em 0.4em;box-sizing: border-box;padding-bottom: 0.4em;background-color: white;}#sk-container-id-4 div.sk-label label {font-family: monospace;font-weight: bold;display: inline-block;line-height: 1.2em;}#sk-container-id-4 div.sk-label-container {text-align: center;}#sk-container-id-4 div.sk-container {/* jupyter's `normalize.less` sets `[hidden] { display: none; }` but bootstrap.min.css set `[hidden] { display: none !important; }` so we also need the `!important` here to be able to override the default hidden behavior on the sphinx rendered scikit-learn.org. See: https://github.com/scikit-learn/scikit-learn/issues/21755 */display: inline-block !important;position: relative;}#sk-container-id-4 div.sk-text-repr-fallback {display: none;}</style><div id=\"sk-container-id-4\" class=\"sk-top-container\"><div class=\"sk-text-repr-fallback\"><pre>VotingRegressor(estimators=[(&#x27;knn&#x27;, KNeighborsRegressor(n_neighbors=3)),\n",
       "                            (&#x27;randaomforest&#x27;, RandomForestRegressor()),\n",
       "                            (&#x27;gradientboost&#x27;, GradientBoostingRegressor())])</pre><b>In a Jupyter environment, please rerun this cell to show the HTML representation or trust the notebook. <br />On GitHub, the HTML representation is unable to render, please try loading this page with nbviewer.org.</b></div><div class=\"sk-container\" hidden><div class=\"sk-item sk-dashed-wrapped\"><div class=\"sk-label-container\"><div class=\"sk-label sk-toggleable\"><input class=\"sk-toggleable__control sk-hidden--visually\" id=\"sk-estimator-id-13\" type=\"checkbox\" ><label for=\"sk-estimator-id-13\" class=\"sk-toggleable__label sk-toggleable__label-arrow\">VotingRegressor</label><div class=\"sk-toggleable__content\"><pre>VotingRegressor(estimators=[(&#x27;knn&#x27;, KNeighborsRegressor(n_neighbors=3)),\n",
       "                            (&#x27;randaomforest&#x27;, RandomForestRegressor()),\n",
       "                            (&#x27;gradientboost&#x27;, GradientBoostingRegressor())])</pre></div></div></div><div class=\"sk-parallel\"><div class=\"sk-parallel-item\"><div class=\"sk-item\"><div class=\"sk-label-container\"><div class=\"sk-label sk-toggleable\"><label>knn</label></div></div><div class=\"sk-serial\"><div class=\"sk-item\"><div class=\"sk-estimator sk-toggleable\"><input class=\"sk-toggleable__control sk-hidden--visually\" id=\"sk-estimator-id-14\" type=\"checkbox\" ><label for=\"sk-estimator-id-14\" class=\"sk-toggleable__label sk-toggleable__label-arrow\">KNeighborsRegressor</label><div class=\"sk-toggleable__content\"><pre>KNeighborsRegressor(n_neighbors=3)</pre></div></div></div></div></div></div><div class=\"sk-parallel-item\"><div class=\"sk-item\"><div class=\"sk-label-container\"><div class=\"sk-label sk-toggleable\"><label>randaomforest</label></div></div><div class=\"sk-serial\"><div class=\"sk-item\"><div class=\"sk-estimator sk-toggleable\"><input class=\"sk-toggleable__control sk-hidden--visually\" id=\"sk-estimator-id-15\" type=\"checkbox\" ><label for=\"sk-estimator-id-15\" class=\"sk-toggleable__label sk-toggleable__label-arrow\">RandomForestRegressor</label><div class=\"sk-toggleable__content\"><pre>RandomForestRegressor()</pre></div></div></div></div></div></div><div class=\"sk-parallel-item\"><div class=\"sk-item\"><div class=\"sk-label-container\"><div class=\"sk-label sk-toggleable\"><label>gradientboost</label></div></div><div class=\"sk-serial\"><div class=\"sk-item\"><div class=\"sk-estimator sk-toggleable\"><input class=\"sk-toggleable__control sk-hidden--visually\" id=\"sk-estimator-id-16\" type=\"checkbox\" ><label for=\"sk-estimator-id-16\" class=\"sk-toggleable__label sk-toggleable__label-arrow\">GradientBoostingRegressor</label><div class=\"sk-toggleable__content\"><pre>GradientBoostingRegressor()</pre></div></div></div></div></div></div></div></div></div></div>"
      ],
      "text/plain": [
       "VotingRegressor(estimators=[('knn', KNeighborsRegressor(n_neighbors=3)),\n",
       "                            ('randaomforest', RandomForestRegressor()),\n",
       "                            ('gradientboost', GradientBoostingRegressor())])"
      ]
     },
     "execution_count": 587,
     "metadata": {},
     "output_type": "execute_result"
    }
   ],
   "source": [
    "from sklearn.ensemble import VotingRegressor\n",
    "\n",
    "ensemble_model = VotingRegressor([('knn', knn_model), ('randaomforest', lr_model), ('gradientboost', gbr_model)])\n",
    "ensemble_model.fit(X_train, y_train)\n",
    "ensemble_predict = ensemble_model.predict(X_test)\n",
    "\n",
    "ensemble_train_score = ensemble_model.score(X_train, y_train)\n",
    "ensemble_test_score = ensemble_model.score(X_test, y_test)\n",
    "ensemble_mse = mean_squared_error(y_test, ensemble_predict)\n",
    "ensemble_model"
   ]
  },
  {
   "cell_type": "code",
   "execution_count": 588,
   "id": "00984fd2-f688-4285-be39-bec10faec578",
   "metadata": {},
   "outputs": [
    {
     "name": "stdout",
     "output_type": "stream",
     "text": [
      "Train Accuracy :  0.8740693755733902\n",
      "Test Accuracy :  0.7269476481760143\n",
      "Mean Error :  32346987639.271324\n"
     ]
    }
   ],
   "source": [
    "print(\"Train Accuracy : \", ensemble_train_score)\n",
    "print(\"Test Accuracy : \" , ensemble_test_score)\n",
    "print(\"Mean Error : \", ensemble_mse)"
   ]
  },
  {
   "cell_type": "code",
   "execution_count": 589,
   "id": "34b6a395-d1d5-4ab9-9c19-4760c5cd1e69",
   "metadata": {},
   "outputs": [
    {
     "data": {
      "text/plain": [
       "['ensemble.joblib']"
      ]
     },
     "execution_count": 589,
     "metadata": {},
     "output_type": "execute_result"
    }
   ],
   "source": [
    "joblib.dump(ensemble_model, 'ensemble.joblib')"
   ]
  },
  {
   "cell_type": "code",
   "execution_count": 590,
   "id": "d2dd3964-b4d2-49a2-b811-5c9dd79400c1",
   "metadata": {},
   "outputs": [
    {
     "data": {
      "text/plain": [
       "Index(['company', 'body_condition', 'mechanical_condition', 'no_of_cylinders',\n",
       "       'transmission_type', 'model', 'year', 'horsepower'],\n",
       "      dtype='object')"
      ]
     },
     "execution_count": 590,
     "metadata": {},
     "output_type": "execute_result"
    }
   ],
   "source": [
    "# =====================================\n",
    "X.columns"
   ]
  },
  {
   "cell_type": "code",
   "execution_count": 591,
   "id": "620e51e8-77d9-4ab7-abd1-0f83f1c025df",
   "metadata": {},
   "outputs": [
    {
     "data": {
      "text/html": [
       "<div>\n",
       "<style scoped>\n",
       "    .dataframe tbody tr th:only-of-type {\n",
       "        vertical-align: middle;\n",
       "    }\n",
       "\n",
       "    .dataframe tbody tr th {\n",
       "        vertical-align: top;\n",
       "    }\n",
       "\n",
       "    .dataframe thead th {\n",
       "        text-align: right;\n",
       "    }\n",
       "</style>\n",
       "<table border=\"1\" class=\"dataframe\">\n",
       "  <thead>\n",
       "    <tr style=\"text-align: right;\">\n",
       "      <th></th>\n",
       "      <th>company</th>\n",
       "      <th>body_condition</th>\n",
       "      <th>mechanical_condition</th>\n",
       "      <th>no_of_cylinders</th>\n",
       "      <th>transmission_type</th>\n",
       "      <th>model</th>\n",
       "      <th>year</th>\n",
       "      <th>horsepower</th>\n",
       "    </tr>\n",
       "  </thead>\n",
       "  <tbody>\n",
       "    <tr>\n",
       "      <th>6062</th>\n",
       "      <td>64</td>\n",
       "      <td>3</td>\n",
       "      <td>4</td>\n",
       "      <td>8</td>\n",
       "      <td>0</td>\n",
       "      <td>481</td>\n",
       "      <td>2019.0</td>\n",
       "      <td>4</td>\n",
       "    </tr>\n",
       "  </tbody>\n",
       "</table>\n",
       "</div>"
      ],
      "text/plain": [
       "      company  body_condition  mechanical_condition no_of_cylinders  \\\n",
       "6062       64               3                     4               8   \n",
       "\n",
       "      transmission_type  model    year  horsepower  \n",
       "6062                  0    481  2019.0           4  "
      ]
     },
     "execution_count": 591,
     "metadata": {},
     "output_type": "execute_result"
    }
   ],
   "source": [
    "sample = X.sample()\n",
    "sample"
   ]
  },
  {
   "cell_type": "code",
   "execution_count": 592,
   "id": "bab437cc-b41b-49dd-b54b-2e1bcf17ed49",
   "metadata": {},
   "outputs": [
    {
     "data": {
      "text/plain": [
       "array([335613.8814054])"
      ]
     },
     "execution_count": 592,
     "metadata": {},
     "output_type": "execute_result"
    }
   ],
   "source": [
    "ensemble_model.predict(sample)"
   ]
  },
  {
   "cell_type": "code",
   "execution_count": 593,
   "id": "68299225-45b1-4687-a1a2-2a8f3e973304",
   "metadata": {},
   "outputs": [
    {
     "name": "stdout",
     "output_type": "stream",
     "text": [
      "<class 'pandas.core.frame.DataFrame'>\n",
      "Int64Index: 8376 entries, 0 to 9969\n",
      "Data columns (total 9 columns):\n",
      " #   Column                Non-Null Count  Dtype  \n",
      "---  ------                --------------  -----  \n",
      " 0   company               8376 non-null   int8   \n",
      " 1   price_in_aed          8376 non-null   int64  \n",
      " 2   body_condition        8376 non-null   int8   \n",
      " 3   mechanical_condition  8376 non-null   int8   \n",
      " 4   no_of_cylinders       8376 non-null   object \n",
      " 5   transmission_type     8376 non-null   int8   \n",
      " 6   model                 8376 non-null   int16  \n",
      " 7   year                  8376 non-null   float64\n",
      " 8   horsepower            8376 non-null   int8   \n",
      "dtypes: float64(1), int16(1), int64(1), int8(5), object(1)\n",
      "memory usage: 577.0+ KB\n"
     ]
    }
   ],
   "source": [
    "clean_data.info()"
   ]
  },
  {
   "cell_type": "code",
   "execution_count": null,
   "id": "8b1853a7-968b-4d10-867e-3d15d790ff89",
   "metadata": {},
   "outputs": [],
   "source": []
  },
  {
   "cell_type": "code",
   "execution_count": 594,
   "id": "34ea8773-da0b-43b7-a52d-202b018827f7",
   "metadata": {
    "scrolled": true
   },
   "outputs": [
    {
     "data": {
      "text/plain": [
       "{'acura': 0,\n",
       " 'alfa-romeo': 1,\n",
       " 'aston-martin': 2,\n",
       " 'audi': 3,\n",
       " 'baic': 4,\n",
       " 'bentley': 5,\n",
       " 'bmw': 6,\n",
       " 'buick': 7,\n",
       " 'cadillac': 8,\n",
       " 'changan': 9,\n",
       " 'chevrolet': 10,\n",
       " 'chrysler': 11,\n",
       " 'daihatsu': 12,\n",
       " 'dodge': 13,\n",
       " 'dongfeng': 14,\n",
       " 'ferrari': 15,\n",
       " 'fiat': 16,\n",
       " 'ford': 17,\n",
       " 'foton': 18,\n",
       " 'gac': 19,\n",
       " 'geely': 20,\n",
       " 'genesis': 21,\n",
       " 'gmc': 22,\n",
       " 'honda': 23,\n",
       " 'hummer': 24,\n",
       " 'hyundai': 25,\n",
       " 'infiniti': 26,\n",
       " 'isuzu': 27,\n",
       " 'jac': 28,\n",
       " 'jaguar': 29,\n",
       " 'jeep': 30,\n",
       " 'kia': 31,\n",
       " 'lamborghini': 32,\n",
       " 'land-rover': 33,\n",
       " 'lexus': 34,\n",
       " 'lincoln': 35,\n",
       " 'lotus': 36,\n",
       " 'maserati': 37,\n",
       " 'maxus': 38,\n",
       " 'maybach': 39,\n",
       " 'mazda': 40,\n",
       " 'mclaren': 41,\n",
       " 'mercedes-benz': 42,\n",
       " 'mercedes-maybach': 43,\n",
       " 'mercury': 44,\n",
       " 'mg': 45,\n",
       " 'mini': 46,\n",
       " 'mitsubishi': 47,\n",
       " 'morgan': 48,\n",
       " 'nissan': 49,\n",
       " 'opel': 50,\n",
       " 'other-make': 51,\n",
       " 'peugeot': 52,\n",
       " 'porsche': 53,\n",
       " 'renault': 54,\n",
       " 'rolls-royce': 55,\n",
       " 'rover': 56,\n",
       " 'saab': 57,\n",
       " 'skoda': 58,\n",
       " 'smart': 59,\n",
       " 'ssang-yong': 60,\n",
       " 'subaru': 61,\n",
       " 'suzuki': 62,\n",
       " 'tesla': 63,\n",
       " 'toyota': 64,\n",
       " 'volkswagen': 65,\n",
       " 'volvo': 66,\n",
       " 'westfield-sportscars': 67}"
      ]
     },
     "execution_count": 594,
     "metadata": {},
     "output_type": "execute_result"
    }
   ],
   "source": [
    "company_mapping"
   ]
  },
  {
   "cell_type": "code",
   "execution_count": 595,
   "id": "95a4a27b-1c05-457d-98f1-109f9cdd7ece",
   "metadata": {},
   "outputs": [
    {
     "data": {
      "text/plain": [
       "{'A bit of wear & tear, all repaired': 0,\n",
       " 'No accidents, very few faults': 1,\n",
       " 'Normal wear & tear, a few issues': 2,\n",
       " 'Perfect inside and out': 3}"
      ]
     },
     "execution_count": 595,
     "metadata": {},
     "output_type": "execute_result"
    }
   ],
   "source": [
    "body_condition_mapping "
   ]
  },
  {
   "cell_type": "code",
   "execution_count": 596,
   "id": "cba563df-4155-4284-8122-c55c46200ac3",
   "metadata": {},
   "outputs": [
    {
     "data": {
      "text/plain": [
       "{'Major faults fixed, small remain': 0,\n",
       " 'Major faults, all fixed': 1,\n",
       " 'Minor faults, all fixed': 2,\n",
       " 'Ongoing minor & major faults': 3,\n",
       " 'Perfect inside and out': 4}"
      ]
     },
     "execution_count": 596,
     "metadata": {},
     "output_type": "execute_result"
    }
   ],
   "source": [
    "mechanical_condition_mapping "
   ]
  },
  {
   "cell_type": "code",
   "execution_count": 597,
   "id": "28925552-c006-4ff9-92a8-caebf916771e",
   "metadata": {},
   "outputs": [
    {
     "data": {
      "text/plain": [
       "{'Automatic Transmission': 0, 'Manual Transmission': 1}"
      ]
     },
     "execution_count": 597,
     "metadata": {},
     "output_type": "execute_result"
    }
   ],
   "source": [
    "transmission_type_mapping  "
   ]
  },
  {
   "cell_type": "code",
   "execution_count": 598,
   "id": "7dbf3135-354d-444e-8e80-373d545b9579",
   "metadata": {
    "scrolled": true
   },
   "outputs": [
    {
     "data": {
      "text/plain": [
       "{'09-Mar': 0,\n",
       " '1-series': 1,\n",
       " '124-spider': 2,\n",
       " '156159': 3,\n",
       " '2-series': 4,\n",
       " '2008': 5,\n",
       " '200cev200': 6,\n",
       " '206cc': 7,\n",
       " '207': 8,\n",
       " '208': 9,\n",
       " '280zx': 10,\n",
       " '3': 11,\n",
       " '3-series': 12,\n",
       " '300350380': 13,\n",
       " '3008': 14,\n",
       " '3008-gt-line': 15,\n",
       " '300m300c': 16,\n",
       " '300zx': 17,\n",
       " '301': 18,\n",
       " '308': 19,\n",
       " '308-gt-lne': 20,\n",
       " '355': 21,\n",
       " '370z': 22,\n",
       " '4-runner': 23,\n",
       " '4-series': 24,\n",
       " '458': 25,\n",
       " '458-italia': 26,\n",
       " '458-spider': 27,\n",
       " '488': 28,\n",
       " '488-gtb': 29,\n",
       " '488-spider': 30,\n",
       " '4c': 31,\n",
       " '5-series': 32,\n",
       " '5008': 33,\n",
       " '500x': 34,\n",
       " '5045': 35,\n",
       " '508': 36,\n",
       " '57': 37,\n",
       " '570gt': 38,\n",
       " '570s': 39,\n",
       " '599': 40,\n",
       " '599gtb': 41,\n",
       " '6': 42,\n",
       " '6-series': 43,\n",
       " '650s': 44,\n",
       " '675lt': 45,\n",
       " '7-series': 46,\n",
       " '720s': 47,\n",
       " '8-series': 48,\n",
       " '812-gts': 49,\n",
       " '812-superfast': 50,\n",
       " '86': 51,\n",
       " 'a-class': 52,\n",
       " 'a1': 53,\n",
       " 'a200': 54,\n",
       " 'a3': 55,\n",
       " 'a4': 56,\n",
       " 'a5': 57,\n",
       " 'a6': 58,\n",
       " 'a7': 59,\n",
       " 'a8': 60,\n",
       " 'acadia': 61,\n",
       " 'accent': 62,\n",
       " 'accord': 63,\n",
       " 'aero-8': 64,\n",
       " 'altima': 65,\n",
       " 'amg': 66,\n",
       " 'amg-gt-4-doors': 67,\n",
       " 'armada': 68,\n",
       " 'arteon': 69,\n",
       " 'astra': 70,\n",
       " 'asx': 71,\n",
       " 'ats': 72,\n",
       " 'attrage': 73,\n",
       " 'aurion': 74,\n",
       " 'avalon': 75,\n",
       " 'avanti': 76,\n",
       " 'avanza': 77,\n",
       " 'aventador': 78,\n",
       " 'aveo': 79,\n",
       " 'aviator': 80,\n",
       " 'azera': 81,\n",
       " 'azure': 82,\n",
       " 'b-class': 83,\n",
       " 'baleno': 84,\n",
       " 'barchetta': 85,\n",
       " 'beetle': 86,\n",
       " 'bentayga': 87,\n",
       " 'bj40l': 88,\n",
       " 'blazer': 89,\n",
       " 'boxer': 90,\n",
       " 'boxster': 91,\n",
       " 'bronco': 92,\n",
       " 'brz': 93,\n",
       " 'c-class': 94,\n",
       " 'c-class-coupe': 95,\n",
       " 'c43': 96,\n",
       " 'caddy': 97,\n",
       " 'cadenza': 98,\n",
       " 'california': 99,\n",
       " 'california-t': 100,\n",
       " 'camaro': 101,\n",
       " 'camry': 102,\n",
       " 'canter': 103,\n",
       " 'caprice': 104,\n",
       " 'captiva': 105,\n",
       " 'captur': 106,\n",
       " 'caravan': 107,\n",
       " 'carens': 108,\n",
       " 'carnival': 109,\n",
       " 'carrera': 110,\n",
       " 'cavalier': 111,\n",
       " 'cayenne': 112,\n",
       " 'cayman': 113,\n",
       " 'cc': 114,\n",
       " 'centennial': 115,\n",
       " 'cerato': 116,\n",
       " 'challenger': 117,\n",
       " 'charger': 118,\n",
       " 'cherokee': 119,\n",
       " 'city': 120,\n",
       " 'city-bus': 121,\n",
       " 'civic': 122,\n",
       " 'cl-class': 123,\n",
       " 'cla': 124,\n",
       " 'clc': 125,\n",
       " 'clio': 126,\n",
       " 'clk-class': 127,\n",
       " 'cls-class': 128,\n",
       " 'clubman': 129,\n",
       " 'compass': 130,\n",
       " 'continental': 131,\n",
       " 'continental-flying-spur': 132,\n",
       " 'continental-gt': 133,\n",
       " 'cooper': 134,\n",
       " 'corolla': 135,\n",
       " 'corolla-cross': 136,\n",
       " 'corvette': 137,\n",
       " 'countryman': 138,\n",
       " 'cr-v': 139,\n",
       " 'creta': 140,\n",
       " 'crosstour': 141,\n",
       " 'crown': 142,\n",
       " 'cruze': 143,\n",
       " 'cs75': 144,\n",
       " 'cs95': 145,\n",
       " 'ct4': 146,\n",
       " 'ct5': 147,\n",
       " 'ct6': 148,\n",
       " 'ctscatera': 149,\n",
       " 'cullinan': 150,\n",
       " 'cx-3': 151,\n",
       " 'cx-30': 152,\n",
       " 'cx-5': 153,\n",
       " 'cx-9': 154,\n",
       " 'dart': 155,\n",
       " 'dawn': 156,\n",
       " 'db11': 157,\n",
       " 'db9': 158,\n",
       " 'dbs': 159,\n",
       " 'dbx': 160,\n",
       " 'defender': 161,\n",
       " 'dfsk-v21': 162,\n",
       " 'discovery': 163,\n",
       " 'discovery-sport': 164,\n",
       " 'dokker': 165,\n",
       " 'dtsde-ville': 166,\n",
       " 'durango': 167,\n",
       " 'duster': 168,\n",
       " 'e-class': 169,\n",
       " 'e-class-coupe': 170,\n",
       " 'e-pace': 171,\n",
       " 'e-tron': 172,\n",
       " 'eclipse': 173,\n",
       " 'ecosport': 174,\n",
       " 'edge': 175,\n",
       " 'elantra': 176,\n",
       " 'elva': 177,\n",
       " 'emgrand-7': 178,\n",
       " 'emgrand-8': 179,\n",
       " 'emgrand-gt': 180,\n",
       " 'emgrand-x7-sport': 181,\n",
       " 'eos': 182,\n",
       " 'equinox': 183,\n",
       " 'ertiga': 184,\n",
       " 'es-series': 185,\n",
       " 'escalade': 186,\n",
       " 'escape': 187,\n",
       " 'evolution': 188,\n",
       " 'evora': 189,\n",
       " 'ex35': 190,\n",
       " 'expedition': 191,\n",
       " 'expert': 192,\n",
       " 'explorer': 193,\n",
       " 'express': 194,\n",
       " 'f-pace': 195,\n",
       " 'f-series-pickup': 196,\n",
       " 'f-type': 197,\n",
       " 'f12': 198,\n",
       " 'f430': 199,\n",
       " 'f430-spider': 200,\n",
       " 'f8-tributo': 201,\n",
       " 'f8-tributo-spider': 202,\n",
       " 'fabia': 203,\n",
       " 'ff': 204,\n",
       " 'fiat-500': 205,\n",
       " 'fiesta': 206,\n",
       " 'figo': 207,\n",
       " 'fj-cruiser': 208,\n",
       " 'fleetwood': 209,\n",
       " 'flex': 210,\n",
       " 'fluence': 211,\n",
       " 'focus': 212,\n",
       " 'forester': 213,\n",
       " 'fortuner': 214,\n",
       " 'fusion': 215,\n",
       " 'fx45fx35': 216,\n",
       " 'fx50': 217,\n",
       " 'g-class': 218,\n",
       " 'g25': 219,\n",
       " 'g70': 220,\n",
       " 'g80': 221,\n",
       " 'g90': 222,\n",
       " 'ga3': 223,\n",
       " 'gallardo': 224,\n",
       " 'gc6': 225,\n",
       " 'genesis': 226,\n",
       " 'ghibli': 227,\n",
       " 'ghost': 228,\n",
       " 'giulia': 229,\n",
       " 'giulietta': 230,\n",
       " 'gl-class': 231,\n",
       " 'gla': 232,\n",
       " 'gladiator': 233,\n",
       " 'glb': 234,\n",
       " 'glc': 235,\n",
       " 'glc-63': 236,\n",
       " 'gle-class': 237,\n",
       " 'gle-coupe': 238,\n",
       " 'glk': 239,\n",
       " 'gls-class': 240,\n",
       " 'golf': 241,\n",
       " 'golfr': 242,\n",
       " 'gran-max': 243,\n",
       " 'grand-cherokee': 244,\n",
       " 'grand-marquis': 245,\n",
       " 'grand-santa-fe': 246,\n",
       " 'grand-vitara': 247,\n",
       " 'granturismo': 248,\n",
       " 'gs-series': 249,\n",
       " 'gs4': 250,\n",
       " 'gs7': 251,\n",
       " 'gseries': 252,\n",
       " 'gt': 253,\n",
       " 'gt-r': 254,\n",
       " 'gtc4-lusso': 255,\n",
       " 'gti': 256,\n",
       " 'gv80': 257,\n",
       " 'gx-series': 258,\n",
       " 'h1': 259,\n",
       " 'h2': 260,\n",
       " 'h3': 261,\n",
       " 'heavy-vehicles': 262,\n",
       " 'hiace': 263,\n",
       " 'highlander': 264,\n",
       " 'hilux': 265,\n",
       " 'hr-v': 266,\n",
       " 'hs': 267,\n",
       " 'huracan': 268,\n",
       " 'i10': 269,\n",
       " 'id4': 270,\n",
       " 'ignis': 271,\n",
       " 'impala': 272,\n",
       " 'innova': 273,\n",
       " 'insignia': 274,\n",
       " 'is-c': 275,\n",
       " 'is-f': 276,\n",
       " 'is-series': 277,\n",
       " 'jazz': 278,\n",
       " 'jetta': 279,\n",
       " 'jimny': 280,\n",
       " 'journey': 281,\n",
       " 'juke': 282,\n",
       " 'jxseries': 283,\n",
       " 'k5': 284,\n",
       " 'kicks': 285,\n",
       " 'kizashi': 286,\n",
       " 'koleos': 287,\n",
       " 'kona': 288,\n",
       " 'koup': 289,\n",
       " 'l200': 290,\n",
       " 'lancer': 291,\n",
       " 'land-cruiser': 292,\n",
       " 'land-cruiser-76-series': 293,\n",
       " 'lc-500': 294,\n",
       " 'legacy': 295,\n",
       " 'levante': 296,\n",
       " 'lr2': 297,\n",
       " 'lr3': 298,\n",
       " 'lr4': 299,\n",
       " 'ls-series': 300,\n",
       " 'lumina': 301,\n",
       " 'lx-series': 302,\n",
       " 'm-class': 303,\n",
       " 'm2': 304,\n",
       " 'm3': 305,\n",
       " 'm4': 306,\n",
       " 'm5': 307,\n",
       " 'm6': 308,\n",
       " 'm8': 309,\n",
       " 'm850i': 310,\n",
       " 'macan': 311,\n",
       " 'magnum': 312,\n",
       " 'malibu': 313,\n",
       " 'maxima': 314,\n",
       " 'megane': 315,\n",
       " 'mg5': 316,\n",
       " 'micra': 317,\n",
       " 'mini-coupe': 318,\n",
       " 'mirage': 319,\n",
       " 'mkc': 320,\n",
       " 'mks': 321,\n",
       " 'mkt': 322,\n",
       " 'mkx': 323,\n",
       " 'mkz': 324,\n",
       " 'model-3': 325,\n",
       " 'model-s': 326,\n",
       " 'model-x': 327,\n",
       " 'mohave': 328,\n",
       " 'mondeo': 329,\n",
       " 'montero': 330,\n",
       " 'montero-sport': 331,\n",
       " 'mp412c': 332,\n",
       " 'mseries': 333,\n",
       " 'mulsanne': 334,\n",
       " 'multivan': 335,\n",
       " 'murano': 336,\n",
       " 'mustang': 337,\n",
       " 'nautilus': 338,\n",
       " 'navara': 339,\n",
       " 'navigator': 340,\n",
       " 'nitro': 341,\n",
       " 'nx-200t': 342,\n",
       " 'nx-300': 343,\n",
       " 'nx-350': 344,\n",
       " 'octavia': 345,\n",
       " 'odyssey': 346,\n",
       " 'odyssey-j': 347,\n",
       " 'optima': 348,\n",
       " 'optra': 349,\n",
       " 'other': 350,\n",
       " 'other-4x4': 351,\n",
       " 'other-car': 352,\n",
       " 'other-utility': 353,\n",
       " 'outlander': 354,\n",
       " 'p1': 355,\n",
       " 'pacifica': 356,\n",
       " 'pajero': 357,\n",
       " 'pajero-sport': 358,\n",
       " 'palisade': 359,\n",
       " 'panamera': 360,\n",
       " 'partner': 361,\n",
       " 'passat': 362,\n",
       " 'pathfinder': 363,\n",
       " 'patrol': 364,\n",
       " 'patrol-pickup': 365,\n",
       " 'phantom': 366,\n",
       " 'picanto': 367,\n",
       " 'pickup': 368,\n",
       " 'pilot': 369,\n",
       " 'plus-8': 370,\n",
       " 'polo': 371,\n",
       " 'portofino': 372,\n",
       " 'prado': 373,\n",
       " 'previa': 374,\n",
       " 'pt-cruiser': 375,\n",
       " 'q3': 376,\n",
       " 'q30': 377,\n",
       " 'q5': 378,\n",
       " 'q50': 379,\n",
       " 'q60': 380,\n",
       " 'q7': 381,\n",
       " 'q70': 382,\n",
       " 'q8': 383,\n",
       " 'q80': 384,\n",
       " 'qashqai': 385,\n",
       " 'quattroporte': 386,\n",
       " 'quest': 387,\n",
       " 'quoris': 388,\n",
       " 'qx50': 389,\n",
       " 'qx56': 390,\n",
       " 'qx60': 391,\n",
       " 'qx70': 392,\n",
       " 'r-class': 393,\n",
       " 'r8': 394,\n",
       " 'ram': 395,\n",
       " 'range-rover': 396,\n",
       " 'range-rover-evoque': 397,\n",
       " 'range-rover-sport': 398,\n",
       " 'range-rover-velar': 399,\n",
       " 'ranger': 400,\n",
       " 'rapide': 401,\n",
       " 'rav-4': 402,\n",
       " 'rc': 403,\n",
       " 'rc-f': 404,\n",
       " 'rcz': 405,\n",
       " 'rdx': 406,\n",
       " 'renegade': 407,\n",
       " 'rio': 408,\n",
       " 'rogue': 409,\n",
       " 'roma': 410,\n",
       " 'rs6': 411,\n",
       " 'rsq3': 412,\n",
       " 'rush': 413,\n",
       " 'rx-series': 414,\n",
       " 'rx8': 415,\n",
       " 's-class': 416,\n",
       " 's-class-coupe': 417,\n",
       " 's-type': 418,\n",
       " 's2000': 419,\n",
       " 's3rs3': 420,\n",
       " 's4rs4': 421,\n",
       " 's5rs5': 422,\n",
       " 's7rs7': 423,\n",
       " 's8': 424,\n",
       " 'santa-fe': 425,\n",
       " 'savana': 426,\n",
       " 'scaglietti': 427,\n",
       " 'scion': 428,\n",
       " 'scirocco': 429,\n",
       " 'sedona': 430,\n",
       " 'senna': 431,\n",
       " 'sentra': 432,\n",
       " 'sequoia': 433,\n",
       " 'sf90-stradale': 434,\n",
       " 'shelby-cobra': 435,\n",
       " 'sienna': 436,\n",
       " 'sierra': 437,\n",
       " 'silver-spur': 438,\n",
       " 'silverado': 439,\n",
       " 'sl-class': 440,\n",
       " 'slc': 441,\n",
       " 'slk-class': 442,\n",
       " 'slr': 443,\n",
       " 'sls': 444,\n",
       " 'sonata': 445,\n",
       " 'sonic': 446,\n",
       " 'sorento': 447,\n",
       " 'soul': 448,\n",
       " 'spark': 449,\n",
       " 'special-edition': 450,\n",
       " 'sportage': 451,\n",
       " 'sprinter': 452,\n",
       " 'srx': 453,\n",
       " 'stelvio': 454,\n",
       " 'stinger': 455,\n",
       " 'suburban': 456,\n",
       " 'sunny': 457,\n",
       " 'supra': 458,\n",
       " 'swift': 459,\n",
       " 'symbol': 460,\n",
       " 'tacoma': 461,\n",
       " 'tahoe': 462,\n",
       " 'talisman': 463,\n",
       " 'taurus': 464,\n",
       " 'taycan': 465,\n",
       " 'telluride': 466,\n",
       " 'teramont': 467,\n",
       " 'terrain': 468,\n",
       " 'tiguan': 469,\n",
       " 'tiida': 470,\n",
       " 'titan': 471,\n",
       " 'touareg': 472,\n",
       " 'town-car': 473,\n",
       " 'trailblazer': 474,\n",
       " 'transporter': 475,\n",
       " 'traverse': 476,\n",
       " 'trax': 477,\n",
       " 'trooper': 478,\n",
       " 'tt': 479,\n",
       " 'tucson': 480,\n",
       " 'tundra': 481,\n",
       " 'twizy': 482,\n",
       " 'urus': 483,\n",
       " 'ux-200': 484,\n",
       " 'v-class': 485,\n",
       " 'v80': 486,\n",
       " 'van': 487,\n",
       " 'vanquish': 488,\n",
       " 'vantage': 489,\n",
       " 'veloster': 490,\n",
       " 'veracruz': 491,\n",
       " 'versa': 492,\n",
       " 'viano': 493,\n",
       " 'voyagercaravan': 494,\n",
       " 'wraith': 495,\n",
       " 'wrangler': 496,\n",
       " 'wrangler-4xe': 497,\n",
       " 'wrangler-unlimited': 498,\n",
       " 'wrx': 499,\n",
       " 'x-class': 500,\n",
       " 'x-trail': 501,\n",
       " 'x1': 502,\n",
       " 'x2': 503,\n",
       " 'x3': 504,\n",
       " 'x4': 505,\n",
       " 'x5': 506,\n",
       " 'x6': 507,\n",
       " 'x7': 508,\n",
       " 'xc40': 509,\n",
       " 'xc60': 510,\n",
       " 'xc90': 511,\n",
       " 'xe': 512,\n",
       " 'xf': 513,\n",
       " 'xj-series': 514,\n",
       " 'xj6': 515,\n",
       " 'xk': 516,\n",
       " 'xk8': 517,\n",
       " 'xkr': 518,\n",
       " 'xt4': 519,\n",
       " 'xt5': 520,\n",
       " 'xt6': 521,\n",
       " 'xterra': 522,\n",
       " 'xts': 523,\n",
       " 'yaris': 524,\n",
       " 'yukon': 525,\n",
       " 'z4': 526,\n",
       " 'z8': 527,\n",
       " 'zafira': 528,\n",
       " 'zelas': 529}"
      ]
     },
     "execution_count": 598,
     "metadata": {},
     "output_type": "execute_result"
    }
   ],
   "source": [
    "model_mapping "
   ]
  },
  {
   "cell_type": "code",
   "execution_count": 599,
   "id": "d4c6955e-1c2f-4c36-a9f3-1718235de6e6",
   "metadata": {},
   "outputs": [
    {
     "data": {
      "text/plain": [
       "{'150 - 200 HP': 0,\n",
       " '200 - 300 HP': 1,\n",
       " '300 - 400 HP': 2,\n",
       " '400 - 500 HP': 3,\n",
       " '500 - 600 HP': 4,\n",
       " '600 - 700 HP': 5,\n",
       " '700 - 800 HP': 6,\n",
       " '800 - 900 HP': 7,\n",
       " '900+ HP': 8,\n",
       " 'Less than 150 HP': 9}"
      ]
     },
     "execution_count": 599,
     "metadata": {},
     "output_type": "execute_result"
    }
   ],
   "source": [
    "horsepower"
   ]
  },
  {
   "cell_type": "code",
   "execution_count": 607,
   "id": "31ab1e87-8a97-4c88-a099-ce5b601e80db",
   "metadata": {},
   "outputs": [
    {
     "name": "stdout",
     "output_type": "stream",
     "text": [
      "saved successfull\n"
     ]
    }
   ],
   "source": [
    "import json\n",
    "\n",
    "# features\n",
    "company_mapping\n",
    "body_condition_mapping \n",
    "mechanical_condition_mapping \n",
    "transmission_type_mapping \n",
    "model_mapping \n",
    "horsepower\n",
    "\n",
    "feature_dictionary = {\n",
    "    'company': company_mapping, \n",
    "    'body_condition':body_condition_mapping, \n",
    "    'mechanical_condition': mechanical_condition_mapping, \n",
    "    'transmission_type': transmission_type_mapping, \n",
    "    'model': model_mapping, \n",
    "    'horsepower': horsepower \n",
    "}\n",
    "\n",
    "\n",
    "with open('app/feature.json', 'w') as file: \n",
    "    json.dump(feature_dictionary, file)\n",
    "    print('saved successfull')\n",
    "\n",
    "# year \n",
    "# no_of_cylinders       "
   ]
  },
  {
   "cell_type": "code",
   "execution_count": 513,
   "id": "7db52eb9-a6a9-4f24-bb37-b2fe448d216b",
   "metadata": {},
   "outputs": [
    {
     "data": {
      "text/plain": [
       "Index(['company', 'body_condition', 'mechanical_condition', 'no_of_cylinders',\n",
       "       'transmission_type', 'model', 'year', 'horsepower'],\n",
       "      dtype='object')"
      ]
     },
     "execution_count": 513,
     "metadata": {},
     "output_type": "execute_result"
    }
   ],
   "source": [
    "X_train.columns"
   ]
  },
  {
   "cell_type": "code",
   "execution_count": 604,
   "id": "6fc2d29a-9e7d-4ebf-af0a-a5c6df9c4e2a",
   "metadata": {},
   "outputs": [
    {
     "data": {
      "text/plain": [
       "dict_keys(['company', 'body_condition', 'mechanical_condition', 'transmission_type', 'model_mapping', 'horsepower'])"
      ]
     },
     "execution_count": 604,
     "metadata": {},
     "output_type": "execute_result"
    }
   ],
   "source": [
    "def load_feature_json(path):\n",
    "    features = None\n",
    "    with open(path, 'r') as file: \n",
    "        features = json.load(file)\n",
    "\n",
    "    return features\n",
    "\n",
    "ld_feature = load_feature_json('feature.json')\n",
    "\n",
    "\n",
    "def feature_converter(company, body_cond, mecha_cond, no_cylind, trans_type, model, year, horse_p): \n",
    "    \n",
    "    ld_feature = load_feature_json('feature.json')\n",
    "    company_feature = ld_feature['company'][company]\n",
    "    body_cond = ld_feature['body_condition'][body_cond]\n",
    "    mecha_cond = ld_feature['mechanical_condition'][mecha_cond]\n",
    "    trans_type =  ld_feature['transmission_type'][trans_type]\n",
    "    model =  ld_feature['model'][model]\n",
    "    horse_p = ld_feature['horsepower'][horse_p]\n",
    "    # non diction feature... \n",
    "    year = year\n",
    "    no_cylind = no_cylind\n",
    "    \n",
    "\n",
    "ld_feature.keys()    "
   ]
  },
  {
   "cell_type": "code",
   "execution_count": 605,
   "id": "c9c4c8df-c8c8-4da9-849d-b9c27e2fb09f",
   "metadata": {},
   "outputs": [
    {
     "data": {
      "text/plain": [
       "0"
      ]
     },
     "execution_count": 605,
     "metadata": {},
     "output_type": "execute_result"
    }
   ],
   "source": [
    "ld_feature['company']['acura']"
   ]
  }
 ],
 "metadata": {
  "kernelspec": {
   "display_name": "Python 3 (ipykernel)",
   "language": "python",
   "name": "python3"
  },
  "language_info": {
   "codemirror_mode": {
    "name": "ipython",
    "version": 3
   },
   "file_extension": ".py",
   "mimetype": "text/x-python",
   "name": "python",
   "nbconvert_exporter": "python",
   "pygments_lexer": "ipython3",
   "version": "3.9.5"
  }
 },
 "nbformat": 4,
 "nbformat_minor": 5
}
