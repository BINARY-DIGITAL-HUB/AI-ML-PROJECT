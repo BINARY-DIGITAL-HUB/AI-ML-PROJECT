{
 "cells": [
  {
   "cell_type": "markdown",
   "id": "03547ea5",
   "metadata": {},
   "source": [
    "#  SIMPLE PYTHON DATA MINING SCRIPT FOR JAMB STUDENT "
   ]
  },
  {
   "cell_type": "code",
   "execution_count": 12,
   "id": "7cc03f5b",
   "metadata": {},
   "outputs": [],
   "source": [
    "from selenium import webdriver\n",
    "import requests\n",
    "from bs4 import BeautifulSoup"
   ]
  },
  {
   "cell_type": "code",
   "execution_count": 16,
   "id": "9b1182a1",
   "metadata": {},
   "outputs": [],
   "source": [
    "driver= webdriver.Chrome()\n",
    "\n",
    "def fetch_info(reg_number):\n",
    "    driver.get('https://efacility.jamb.gov.ng/PrintExaminationSlip') \n",
    "    reg = driver.find_element('id' , \"txtRegNumber\")\n",
    "    reg.send_keys(reg_number)\n",
    "\n",
    "    # submitting form\n",
    "    # reg.submit()\n",
    "    sb = driver.find_element('id' , \"lnkSearch\")\n",
    "\n",
    "    sb.click()\n",
    "    # driver.refresh()\n",
    "    # print('WEB PAGE ', driver.current_url)\n",
    "\n",
    "\n",
    "    # getting data from html document\n",
    "    print('fetching content')\n",
    "    url = f'https://efacility.jamb.gov.ng/TempFiles/Main_Examination_Slip_{reg_number}.htm'\n",
    "    page = requests.get(url)\n",
    "    soup = BeautifulSoup(page.text, 'html.parser')\n",
    "    data = soup.find_all('label')\n",
    "\n",
    "    return data , len(data)"
   ]
  },
  {
   "cell_type": "code",
   "execution_count": 17,
   "id": "491faf55",
   "metadata": {},
   "outputs": [
    {
     "name": "stdout",
     "output_type": "stream",
     "text": [
      "Complete :  1\n",
      "fetching content\n"
     ]
    },
    {
     "data": {
      "text/plain": [
       "([], 0)"
      ]
     },
     "execution_count": 17,
     "metadata": {},
     "output_type": "execute_result"
    }
   ],
   "source": [
    "fetch_info('value')"
   ]
  },
  {
   "cell_type": "code",
   "execution_count": null,
   "id": "cf655e22",
   "metadata": {},
   "outputs": [],
   "source": []
  },
  {
   "cell_type": "code",
   "execution_count": 1,
   "id": "9c79d559",
   "metadata": {},
   "outputs": [
    {
     "data": {
      "text/html": [
       "<div>\n",
       "<style scoped>\n",
       "    .dataframe tbody tr th:only-of-type {\n",
       "        vertical-align: middle;\n",
       "    }\n",
       "\n",
       "    .dataframe tbody tr th {\n",
       "        vertical-align: top;\n",
       "    }\n",
       "\n",
       "    .dataframe thead th {\n",
       "        text-align: right;\n",
       "    }\n",
       "</style>\n",
       "<table border=\"1\" class=\"dataframe\">\n",
       "  <thead>\n",
       "    <tr style=\"text-align: right;\">\n",
       "      <th></th>\n",
       "      <th>RG_NUM</th>\n",
       "      <th>RG_CANDNAME</th>\n",
       "      <th>RG_SEX</th>\n",
       "      <th>STATE_NAME</th>\n",
       "      <th>RG_AGGREGATE</th>\n",
       "      <th>CO_NAME</th>\n",
       "      <th>PUTMESCORE</th>\n",
       "      <th>AdmissionStatus</th>\n",
       "      <th>State_Name1</th>\n",
       "      <th>Instname</th>\n",
       "      <th>LGA_Name</th>\n",
       "    </tr>\n",
       "  </thead>\n",
       "  <tbody>\n",
       "    <tr>\n",
       "      <th>0</th>\n",
       "      <td>202211484000JA</td>\n",
       "      <td>Ifatanmi Kikelomo Oluwafunke</td>\n",
       "      <td>F</td>\n",
       "      <td>ONDO</td>\n",
       "      <td>138</td>\n",
       "      <td>Nursing/Nursing Science</td>\n",
       "      <td>NaN</td>\n",
       "      <td>Not Admitted</td>\n",
       "      <td>ONDO</td>\n",
       "      <td>AFE BABALOLA UNIVERSITY, ADO-EKITI, EKITI STATE</td>\n",
       "      <td>OKITIPUPA</td>\n",
       "    </tr>\n",
       "    <tr>\n",
       "      <th>1</th>\n",
       "      <td>202211363179JA</td>\n",
       "      <td>Awotongha Golubo Wisdom</td>\n",
       "      <td>M</td>\n",
       "      <td>BAYELSA</td>\n",
       "      <td>137</td>\n",
       "      <td>Information &amp; Communication Technology</td>\n",
       "      <td>NaN</td>\n",
       "      <td>Not Admitted</td>\n",
       "      <td>BAYELSA</td>\n",
       "      <td>AFE BABALOLA UNIVERSITY, ADO-EKITI, EKITI STATE</td>\n",
       "      <td>ERN-IJAW</td>\n",
       "    </tr>\n",
       "    <tr>\n",
       "      <th>2</th>\n",
       "      <td>202210974254GF</td>\n",
       "      <td>Ayandare Micheal Segun</td>\n",
       "      <td>M</td>\n",
       "      <td>OYO</td>\n",
       "      <td>132</td>\n",
       "      <td>Theatre Arts</td>\n",
       "      <td>NaN</td>\n",
       "      <td>Not Admitted</td>\n",
       "      <td>OYO</td>\n",
       "      <td>AFE BABALOLA UNIVERSITY, ADO-EKITI, EKITI STATE</td>\n",
       "      <td>AKINYELE</td>\n",
       "    </tr>\n",
       "    <tr>\n",
       "      <th>3</th>\n",
       "      <td>202210953291JF</td>\n",
       "      <td>Ozogoro Arikeade Ifedolapo</td>\n",
       "      <td>F</td>\n",
       "      <td>ONDO</td>\n",
       "      <td>131</td>\n",
       "      <td>Economics</td>\n",
       "      <td>NaN</td>\n",
       "      <td>Not Admitted</td>\n",
       "      <td>ONDO</td>\n",
       "      <td>AFE BABALOLA UNIVERSITY, ADO-EKITI, EKITI STATE</td>\n",
       "      <td>AKOKO-SOUTH</td>\n",
       "    </tr>\n",
       "  </tbody>\n",
       "</table>\n",
       "</div>"
      ],
      "text/plain": [
       "           RG_NUM                   RG_CANDNAME RG_SEX STATE_NAME  \\\n",
       "0  202211484000JA  Ifatanmi Kikelomo Oluwafunke      F       ONDO   \n",
       "1  202211363179JA       Awotongha Golubo Wisdom      M    BAYELSA   \n",
       "2  202210974254GF        Ayandare Micheal Segun      M        OYO   \n",
       "3  202210953291JF    Ozogoro Arikeade Ifedolapo      F       ONDO   \n",
       "\n",
       "   RG_AGGREGATE                                 CO_NAME  PUTMESCORE  \\\n",
       "0           138                 Nursing/Nursing Science         NaN   \n",
       "1           137  Information & Communication Technology         NaN   \n",
       "2           132                            Theatre Arts         NaN   \n",
       "3           131                               Economics         NaN   \n",
       "\n",
       "  AdmissionStatus State_Name1  \\\n",
       "0    Not Admitted        ONDO   \n",
       "1    Not Admitted     BAYELSA   \n",
       "2    Not Admitted         OYO   \n",
       "3    Not Admitted        ONDO   \n",
       "\n",
       "                                          Instname     LGA_Name  \n",
       "0  AFE BABALOLA UNIVERSITY, ADO-EKITI, EKITI STATE    OKITIPUPA  \n",
       "1  AFE BABALOLA UNIVERSITY, ADO-EKITI, EKITI STATE     ERN-IJAW  \n",
       "2  AFE BABALOLA UNIVERSITY, ADO-EKITI, EKITI STATE     AKINYELE  \n",
       "3  AFE BABALOLA UNIVERSITY, ADO-EKITI, EKITI STATE  AKOKO-SOUTH  "
      ]
     },
     "execution_count": 1,
     "metadata": {},
     "output_type": "execute_result"
    }
   ],
   "source": [
    "import pandas as pd \n",
    "\n",
    "data = pd.read_csv('jamb_data.csv')\n",
    "data"
   ]
  },
  {
   "cell_type": "code",
   "execution_count": 2,
   "id": "296688d0",
   "metadata": {},
   "outputs": [
    {
     "name": "stdout",
     "output_type": "stream",
     "text": [
      "Total data is :  4\n"
     ]
    }
   ],
   "source": [
    "row , col  = data.shape\n",
    "print('Total data is : ', row)"
   ]
  },
  {
   "cell_type": "code",
   "execution_count": 3,
   "id": "38d65307",
   "metadata": {},
   "outputs": [
    {
     "data": {
      "text/plain": [
       "Index(['RG_NUM', 'RG_CANDNAME', 'RG_SEX', 'STATE_NAME', 'RG_AGGREGATE',\n",
       "       'CO_NAME', 'PUTMESCORE', 'AdmissionStatus', 'State_Name1', 'Instname',\n",
       "       'LGA_Name'],\n",
       "      dtype='object')"
      ]
     },
     "execution_count": 3,
     "metadata": {},
     "output_type": "execute_result"
    }
   ],
   "source": [
    " data.columns"
   ]
  },
  {
   "cell_type": "code",
   "execution_count": 4,
   "id": "537204b6",
   "metadata": {},
   "outputs": [
    {
     "data": {
      "text/plain": [
       "array(['Ifatanmi Kikelomo Oluwafunke', 'Awotongha Golubo Wisdom',\n",
       "       'Ayandare Micheal Segun', 'Ozogoro Arikeade Ifedolapo'],\n",
       "      dtype=object)"
      ]
     },
     "execution_count": 4,
     "metadata": {},
     "output_type": "execute_result"
    }
   ],
   "source": [
    "candidate_name = data[\"RG_CANDNAME\"].values\n",
    "candidate_reg = data[\"RG_NUM\"].values\n",
    "candidate_name"
   ]
  },
  {
   "cell_type": "code",
   "execution_count": 5,
   "id": "5e13e8f9",
   "metadata": {},
   "outputs": [
    {
     "data": {
      "text/plain": [
       "['202211484000JA', '202211363179JA', '202210974254GF', '202210953291JF']"
      ]
     },
     "execution_count": 5,
     "metadata": {},
     "output_type": "execute_result"
    }
   ],
   "source": [
    "names = list(candidate_name)\n",
    "regs = list(candidate_reg)\n",
    "regs"
   ]
  },
  {
   "cell_type": "markdown",
   "id": "5933eb3c",
   "metadata": {},
   "source": [
    "# validating original data with mined data ...."
   ]
  },
  {
   "cell_type": "code",
   "execution_count": 83,
   "id": "fd95bf5c",
   "metadata": {},
   "outputs": [],
   "source": [
    "# simulating a simple demo instance \n",
    "reg = regs[0]\n",
    "name = names[0]\n",
    "\n",
    "\n",
    "# helper method to valide content compatibility \n",
    "def check_content_matching(o_reg='data_reg' , o_name='d_name' , m_reg='mine_reg' , m_name = 'm_name'): \n",
    "#   : o_reg / the import jamb student registration number \n",
    "#   : o_name / the import jamb student name \n",
    "#   : m_reg / the mined student registration number \n",
    "#   : m_name / the mined student name \n",
    "    validate = False \n",
    "    if (m_reg.upper().strip() == o_reg.upper().strip() and m_name.lower() in o_name.lower().split()):\n",
    "        validate = True\n",
    "    else : \n",
    "        validate = False\n",
    "        \n",
    "    return validate ; \n",
    "\n",
    "valid = check_content_matching(reg , name , '202211484000JA', 'KIKeLOMO')\n",
    " "
   ]
  },
  {
   "cell_type": "code",
   "execution_count": 113,
   "id": "38448a62",
   "metadata": {},
   "outputs": [
    {
     "name": "stdout",
     "output_type": "stream",
     "text": [
      "['RG_NUM', 'RG_CANDNAME', 'RG_SEX', 'STATE_NAME', 'RG_AGGREGATE', 'CO_NAME', 'PUTMESCORE', 'AdmissionStatus', 'State_Name1', 'Instname', 'LGA_Name', 'Contact']\n"
     ]
    },
    {
     "data": {
      "text/html": [
       "<div>\n",
       "<style scoped>\n",
       "    .dataframe tbody tr th:only-of-type {\n",
       "        vertical-align: middle;\n",
       "    }\n",
       "\n",
       "    .dataframe tbody tr th {\n",
       "        vertical-align: top;\n",
       "    }\n",
       "\n",
       "    .dataframe thead th {\n",
       "        text-align: right;\n",
       "    }\n",
       "</style>\n",
       "<table border=\"1\" class=\"dataframe\">\n",
       "  <thead>\n",
       "    <tr style=\"text-align: right;\">\n",
       "      <th></th>\n",
       "      <th>RG_NUM</th>\n",
       "      <th>RG_CANDNAME</th>\n",
       "      <th>RG_SEX</th>\n",
       "      <th>STATE_NAME</th>\n",
       "      <th>RG_AGGREGATE</th>\n",
       "      <th>CO_NAME</th>\n",
       "      <th>PUTMESCORE</th>\n",
       "      <th>AdmissionStatus</th>\n",
       "      <th>State_Name1</th>\n",
       "      <th>Instname</th>\n",
       "      <th>LGA_Name</th>\n",
       "      <th>Contact</th>\n",
       "    </tr>\n",
       "  </thead>\n",
       "  <tbody>\n",
       "  </tbody>\n",
       "</table>\n",
       "</div>"
      ],
      "text/plain": [
       "Empty DataFrame\n",
       "Columns: [RG_NUM, RG_CANDNAME, RG_SEX, STATE_NAME, RG_AGGREGATE, CO_NAME, PUTMESCORE, AdmissionStatus, State_Name1, Instname, LGA_Name, Contact]\n",
       "Index: []"
      ]
     },
     "execution_count": 113,
     "metadata": {},
     "output_type": "execute_result"
    }
   ],
   "source": [
    "\n",
    "# creating new dataframe using existing attribute with additional attribute.... \n",
    "import pandas as pd\n",
    "def create_dataframe(dataframe,  add=''):\n",
    "    attributes = []\n",
    "\n",
    "    for attr in dataframe.columns: \n",
    "        attributes.append(attr)\n",
    "    if add != '':\n",
    "        attributes.append(add)\n",
    "\n",
    "    print(attributes)\n",
    "    df = pd.DataFrame(columns=attributes)\n",
    "    return df , attributes\n",
    "    \n",
    "df , _ = create_dataframe(data, 'Contact')\n",
    "\n",
    "df\n",
    "\n",
    "def add_row(old_table , new_table, m_reg = ''):\n",
    "    \n",
    "    if m_reg != '':\n",
    "        d = old_table[old_table[old_table.columns[0]] == m_reg]\n",
    "        tem_value = []\n",
    "        for value in d.values:\n",
    "            tem_value.append(value)\n",
    "        tem_value.append(tel)\n",
    "        \n",
    "        new_table.iloc(len(new_table)) = tem_value\n",
    "        new_table.to_csv('generate_record.csv')\n",
    "        retun new_table\n",
    "        \n",
    "        \n",
    "# add_row(data, df, '202211484000JA')\n",
    "    \n",
    "# def append_new_record():\n",
    "#     pass\n"
   ]
  },
  {
   "cell_type": "code",
   "execution_count": null,
   "id": "42973a08",
   "metadata": {},
   "outputs": [],
   "source": [
    "# regs = ['202211484000JA', '202211363179JA', '202210974254GF']\n",
    "# regs = ['202211484000JA']\n",
    "\n",
    "for reg in regs:\n",
    "    print()\n",
    "    print('=========================')\n",
    "    print('       START MINING      ')\n",
    "    print('=========================')\n",
    "\n",
    "    data , lenght = fetch_info(reg)\n",
    "    if lenght != 0 : \n",
    "        # printing data for confirmation\n",
    "        surname = data[1].get_text()\n",
    "        firstname = data[2].get_text()\n",
    "        othername = data[4].get_text()\n",
    "        tel = data[12].get_text()\n",
    "        reg_number = data[15].get_text()\n",
    "\n",
    "        print('Surname : ' , surname)\n",
    "        print('Fist Name : ', firstname)\n",
    "        print('Other Name : ',  othername)\n",
    "        print('Telephone : ' , tel)\n",
    "        print('Registion Number : ' , reg_number)\n",
    "\n",
    "\n",
    "        print('=========================')\n",
    "        print('         END MINING      ')\n",
    "        print('=========================')"
   ]
  },
  {
   "cell_type": "code",
   "execution_count": null,
   "id": "f6683774",
   "metadata": {},
   "outputs": [],
   "source": []
  },
  {
   "cell_type": "code",
   "execution_count": null,
   "id": "61908507",
   "metadata": {},
   "outputs": [],
   "source": []
  },
  {
   "cell_type": "markdown",
   "id": "ac37b28e",
   "metadata": {},
   "source": [
    "#  COMBINING ALL CODE INTO A SINGLE SCRIPT"
   ]
  },
  {
   "cell_type": "code",
   "execution_count": 4,
   "id": "274dd38c",
   "metadata": {},
   "outputs": [
    {
     "name": "stdout",
     "output_type": "stream",
     "text": [
      "['Ifatanmi Kikelomo Oluwafunke', 'Awotongha Golubo Wisdom', 'Ayandare Micheal Segun', 'Ozogoro Arikeade Ifedolapo']\n",
      "['202211484000JA', '202211363179JA', '202210974254GF', '202210953291JF']\n"
     ]
    }
   ],
   "source": [
    "#     =====================================================================================   #\n",
    "#                                       FIRST SECTION CODE                                    #\n",
    "#     =====================================================================================   #\n",
    "\n",
    "# IMPORTING IMPORTANT MODULE..... \n",
    "from selenium import webdriver\n",
    "import requests\n",
    "from bs4 import BeautifulSoup\n",
    "import pandas as pd\n",
    "\n",
    "# IMPORTING ORIGINAL DATA \n",
    "jamb_data = pd.read_csv('jamb_data.csv')\n",
    "\n",
    "# GETTING ATTRIBUTE FROM ORIGINAL DATA\n",
    "candidate_name = jamb_data[\"RG_CANDNAME\"].values\n",
    "candidate_reg = jamb_data[\"RG_NUM\"].values\n",
    "names = list(candidate_name)\n",
    "regs = list(candidate_reg)\n",
    "print(names)\n",
    "print(regs)\n",
    "\n",
    "# GENERATING NEW DATAFRAME\n",
    "gen_df = pd.DataFrame()\n",
    "    \n",
    "try:\n",
    "    gen_df = pd.read_csv('generate_record.csv', index=False)\n",
    "except Exception: \n",
    "    pass\n",
    "\n",
    "def create_dataframe(dataframe,  add=''):\n",
    "    attributes = []\n",
    "\n",
    "    for attr in dataframe.columns: \n",
    "        attributes.append(attr)\n",
    "    if add != '':\n",
    "        attributes.append(add)\n",
    "\n",
    "    df = pd.DataFrame([] , columns=attributes)\n",
    "\n",
    "    return df , attributes\n",
    "\n",
    "\n",
    "if gen_df.empty:\n",
    "    gen_df , _ = create_dataframe(jamb_data, 'Contact')\n",
    "\n"
   ]
  },
  {
   "cell_type": "code",
   "execution_count": 5,
   "id": "c6d06a24",
   "metadata": {},
   "outputs": [],
   "source": [
    "#     =====================================================================================   #\n",
    "#                                HELPER METHOD FOR SECTION TWO                                #\n",
    "#     =====================================================================================   #\n",
    "\n",
    "\n",
    "\n",
    "# helper method to valide content compatibility \n",
    "\n",
    "def check_content_matching(o_reg='data_reg' , o_name='d_name' , m_reg='mine_reg' , m_name = 'm_name'): \n",
    "    \n",
    "    #   : o_reg / the import jamb student registration number \n",
    "    #   : o_name / the import jamb student name \n",
    "    #   : m_reg / the mined student registration number \n",
    "    #   : m_name / the mined student name \n",
    "\n",
    "    validate = False \n",
    "    if (m_reg.upper().strip() == o_reg.upper().strip() and m_name.lower() in o_name.lower().split()):\n",
    "        validate = True\n",
    "    else : \n",
    "        validate = False\n",
    "    return validate ; \n",
    "\n",
    "# helper method to had new row to the new table\n",
    "def add_row(old_table , new_table, tel='',  m_reg = ''):\n",
    "    \n",
    "    if m_reg != '':\n",
    "        d = old_table[old_table[old_table.columns[0]] == m_reg]\n",
    "        old_val = d.values\n",
    "#         print(old_val.flatten())\n",
    "        temp_value = []\n",
    "        for value in list(old_val.flatten()):\n",
    "            temp_value.append(value)\n",
    "\n",
    "#         print('TEL:' , tel)\n",
    "\n",
    "        if tel != '':\n",
    "            temp_value.append(str(tel))\n",
    "            \n",
    "            print(temp_value)\n",
    "            new_table.loc[len(new_table)] = temp_value\n",
    "            new_table.to_csv('generate_record.csv')\n",
    "\n",
    "            return new_table\n",
    "                \n",
    "# add_row(jamb_data, gen_df , tel, reg_number)\n"
   ]
  },
  {
   "cell_type": "code",
   "execution_count": 7,
   "id": "59227ddd",
   "metadata": {
    "scrolled": true
   },
   "outputs": [
    {
     "name": "stdout",
     "output_type": "stream",
     "text": [
      "\n",
      "===================================================\n",
      "         START MINING   FOR :  202211484000JA              \n",
      "===================================================\n",
      "fetching content\n",
      "Surname :  Ifatanmi\n",
      "Fist Name :  Oluwafunke\n",
      "Other Name :  Kikelomo\n",
      "Telephone :  07054333918\n",
      "Registion Number :  202211484000JA\n",
      "                           STUDENT CONFIRMED... \n",
      "['202211484000JA', 'Ifatanmi Kikelomo Oluwafunke', 'F', 'ONDO', 138, 'Nursing/Nursing Science', nan, 'Not Admitted', 'ONDO', 'AFE BABALOLA UNIVERSITY, ADO-EKITI, EKITI STATE', 'OKITIPUPA', '07054333918']\n",
      "==================================================\n",
      "              END MINING                          \n",
      "==================================================\n",
      "\n",
      "===================================================\n",
      "         START MINING   FOR :  202211363179JA              \n",
      "===================================================\n",
      "fetching content\n",
      "Surname :  Awotongha\n",
      "Fist Name :  Wisdom\n",
      "Other Name :  Golubo\n",
      "Telephone :  08106486817\n",
      "Registion Number :  202211363179JA\n",
      "                           STUDENT CONFIRMED... \n",
      "['202211363179JA', 'Awotongha Golubo Wisdom', 'M', 'BAYELSA', 137, 'Information & Communication Technology', nan, 'Not Admitted', 'BAYELSA', 'AFE BABALOLA UNIVERSITY, ADO-EKITI, EKITI STATE', 'ERN-IJAW', '08106486817']\n",
      "==================================================\n",
      "              END MINING                          \n",
      "==================================================\n",
      "\n",
      "===================================================\n",
      "         START MINING   FOR :  202210974254GF              \n",
      "===================================================\n",
      "fetching content\n",
      "\n",
      "===================================================\n",
      "         START MINING   FOR :  202210953291JF              \n",
      "===================================================\n",
      "fetching content\n",
      "Surname :  Ozogoro\n",
      "Fist Name :  Ifedolapo\n",
      "Other Name :  Arikeade\n",
      "Telephone :  08106682955\n",
      "Registion Number :  202210953291JF\n",
      "                           STUDENT CONFIRMED... \n",
      "['202210953291JF', 'Ozogoro Arikeade Ifedolapo', 'F', 'ONDO', 131, 'Economics', nan, 'Not Admitted', 'ONDO', 'AFE BABALOLA UNIVERSITY, ADO-EKITI, EKITI STATE', 'AKOKO-SOUTH', '08106682955']\n",
      "==================================================\n",
      "              END MINING                          \n",
      "==================================================\n"
     ]
    }
   ],
   "source": [
    "#     =====================================================================================   #\n",
    "#                                       SECOND SECTION CODE                                   #\n",
    "#     =====================================================================================   #\n",
    "\n",
    "\n",
    "# NAVIGATING THE WEB BROWSER USING THE STUDENT REGISTRATION NUMBER\n",
    "\n",
    "driver= webdriver.Chrome()\n",
    "\n",
    "def fetch_info(reg_number):\n",
    "    driver.get('https://efacility.jamb.gov.ng/PrintExaminationSlip') \n",
    "    reg = driver.find_element('id' , \"txtRegNumber\")\n",
    "    reg.send_keys(reg_number)\n",
    "\n",
    "    # submitting form\n",
    "    # reg.submit()\n",
    "    sb = driver.find_element('id' , \"lnkSearch\")\n",
    "\n",
    "    sb.click()\n",
    "    # driver.refresh()\n",
    "    # print('WEB PAGE ', driver.current_url)\n",
    "\n",
    "\n",
    "    # getting data from html document\n",
    "    print('fetching content')\n",
    "    url = f'https://efacility.jamb.gov.ng/TempFiles/Main_Examination_Slip_{reg_number}.htm'\n",
    "    page = requests.get(url)\n",
    "    soup = BeautifulSoup(page.text, 'html.parser')\n",
    "    data = soup.find_all('label')\n",
    "\n",
    "    return data , len(data)\n",
    "\n",
    "\n",
    "#  scraping through web for contact \n",
    "\n",
    "for index in range(len(regs)):\n",
    "    reg = regs[index]\n",
    "    name = names[index]\n",
    "    \n",
    "    print()\n",
    "    print('===================================================')\n",
    "    print(f'         START MINING   FOR :  {reg}              ')\n",
    "    print('===================================================')\n",
    "\n",
    "    data , lenght = fetch_info(reg)\n",
    "    if lenght != 0 : \n",
    "        # printing data for confirmation\n",
    "        surname = data[1].get_text()\n",
    "        firstname = data[2].get_text()\n",
    "        othername = data[4].get_text()\n",
    "        tel = data[12].get_text()\n",
    "        reg_number = data[15].get_text()\n",
    "\n",
    "        print('Surname : ' , surname)\n",
    "        print('Fist Name : ', firstname)\n",
    "        print('Other Name : ',  othername)\n",
    "        print('Telephone : ' , tel)\n",
    "        print('Registion Number : ' , reg_number)\n",
    "        \n",
    "        \n",
    "        valid = check_content_matching(reg, name , reg_number, surname)\n",
    "        \n",
    "        if valid : \n",
    "            print('                           STUDENT CONFIRMED... ')\n",
    "            add_row(jamb_data, gen_df , tel, reg_number)\n",
    "            \n",
    "        print('==================================================')\n",
    "        print('              END MINING                          ')\n",
    "        print('==================================================')\n",
    "        \n",
    "        \n"
   ]
  },
  {
   "cell_type": "code",
   "execution_count": null,
   "id": "c5e6b9c8",
   "metadata": {},
   "outputs": [],
   "source": []
  }
 ],
 "metadata": {
  "kernelspec": {
   "display_name": "Python 3 (ipykernel)",
   "language": "python",
   "name": "python3"
  },
  "language_info": {
   "codemirror_mode": {
    "name": "ipython",
    "version": 3
   },
   "file_extension": ".py",
   "mimetype": "text/x-python",
   "name": "python",
   "nbconvert_exporter": "python",
   "pygments_lexer": "ipython3",
   "version": "3.9.0"
  }
 },
 "nbformat": 4,
 "nbformat_minor": 5
}
