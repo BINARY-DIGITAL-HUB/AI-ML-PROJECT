{
 "cells": [
  {
   "cell_type": "code",
   "execution_count": 1,
   "id": "47e6f646-08a9-45e8-ab29-540df68b4f8f",
   "metadata": {},
   "outputs": [],
   "source": [
    "# library importation \n",
    "\n",
    "import pandas as pd \n",
    "import matplotlib.pyplot as plt\n",
    "import numpy as np\n",
    "import nltk\n",
    "from nltk.corpus import stopwords\n",
    "from nltk.tokenize import word_tokenize\n",
    "st_words = stopwords.words('english')\n",
    "from nltk.stem import PorterStemmer, WordNetLemmatizer\n",
    "import string\n",
    "import numpy as np\n",
    "import pandas as pd\n",
    "from sklearn.feature_extraction.text import TfidfVectorizer\n",
    "from gensim.models import Word2Vec\n",
    "from nltk.tokenize import word_tokenize\n",
    "from sklearn.model_selection import train_test_split\n",
    "from sklearn.metrics import classification_report, confusion_matrix, accuracy_score, precision_score, recall_score, f1_score"
   ]
  },
  {
   "cell_type": "code",
   "execution_count": null,
   "id": "b9d410d3-8f60-4d70-b292-6a2208b68f93",
   "metadata": {},
   "outputs": [],
   "source": []
  },
  {
   "cell_type": "code",
   "execution_count": 2,
   "id": "2e0a1fa0-2b74-42d7-bbd9-34be547ef43d",
   "metadata": {},
   "outputs": [
    {
     "data": {
      "text/html": [
       "<div>\n",
       "<style scoped>\n",
       "    .dataframe tbody tr th:only-of-type {\n",
       "        vertical-align: middle;\n",
       "    }\n",
       "\n",
       "    .dataframe tbody tr th {\n",
       "        vertical-align: top;\n",
       "    }\n",
       "\n",
       "    .dataframe thead th {\n",
       "        text-align: right;\n",
       "    }\n",
       "</style>\n",
       "<table border=\"1\" class=\"dataframe\">\n",
       "  <thead>\n",
       "    <tr style=\"text-align: right;\">\n",
       "      <th></th>\n",
       "      <th>category</th>\n",
       "      <th>text</th>\n",
       "    </tr>\n",
       "  </thead>\n",
       "  <tbody>\n",
       "    <tr>\n",
       "      <th>0</th>\n",
       "      <td>tech</td>\n",
       "      <td>tv future in the hands of viewers with home th...</td>\n",
       "    </tr>\n",
       "    <tr>\n",
       "      <th>1</th>\n",
       "      <td>business</td>\n",
       "      <td>worldcom boss  left books alone  former worldc...</td>\n",
       "    </tr>\n",
       "    <tr>\n",
       "      <th>2</th>\n",
       "      <td>sport</td>\n",
       "      <td>tigers wary of farrell  gamble  leicester say ...</td>\n",
       "    </tr>\n",
       "    <tr>\n",
       "      <th>3</th>\n",
       "      <td>sport</td>\n",
       "      <td>yeading face newcastle in fa cup premiership s...</td>\n",
       "    </tr>\n",
       "    <tr>\n",
       "      <th>4</th>\n",
       "      <td>entertainment</td>\n",
       "      <td>ocean s twelve raids box office ocean s twelve...</td>\n",
       "    </tr>\n",
       "    <tr>\n",
       "      <th>...</th>\n",
       "      <td>...</td>\n",
       "      <td>...</td>\n",
       "    </tr>\n",
       "    <tr>\n",
       "      <th>2220</th>\n",
       "      <td>business</td>\n",
       "      <td>cars pull down us retail figures us retail sal...</td>\n",
       "    </tr>\n",
       "    <tr>\n",
       "      <th>2221</th>\n",
       "      <td>politics</td>\n",
       "      <td>kilroy unveils immigration policy ex-chatshow ...</td>\n",
       "    </tr>\n",
       "    <tr>\n",
       "      <th>2222</th>\n",
       "      <td>entertainment</td>\n",
       "      <td>rem announce new glasgow concert us band rem h...</td>\n",
       "    </tr>\n",
       "    <tr>\n",
       "      <th>2223</th>\n",
       "      <td>politics</td>\n",
       "      <td>how political squabbles snowball it s become c...</td>\n",
       "    </tr>\n",
       "    <tr>\n",
       "      <th>2224</th>\n",
       "      <td>sport</td>\n",
       "      <td>souness delight at euro progress boss graeme s...</td>\n",
       "    </tr>\n",
       "  </tbody>\n",
       "</table>\n",
       "<p>2225 rows × 2 columns</p>\n",
       "</div>"
      ],
      "text/plain": [
       "           category                                               text\n",
       "0              tech  tv future in the hands of viewers with home th...\n",
       "1          business  worldcom boss  left books alone  former worldc...\n",
       "2             sport  tigers wary of farrell  gamble  leicester say ...\n",
       "3             sport  yeading face newcastle in fa cup premiership s...\n",
       "4     entertainment  ocean s twelve raids box office ocean s twelve...\n",
       "...             ...                                                ...\n",
       "2220       business  cars pull down us retail figures us retail sal...\n",
       "2221       politics  kilroy unveils immigration policy ex-chatshow ...\n",
       "2222  entertainment  rem announce new glasgow concert us band rem h...\n",
       "2223       politics  how political squabbles snowball it s become c...\n",
       "2224          sport  souness delight at euro progress boss graeme s...\n",
       "\n",
       "[2225 rows x 2 columns]"
      ]
     },
     "execution_count": 2,
     "metadata": {},
     "output_type": "execute_result"
    }
   ],
   "source": [
    "# loading BBC news dataset.... \n",
    "data = pd.read_csv('bbc_text.csv')\n",
    "data"
   ]
  },
  {
   "cell_type": "code",
   "execution_count": 115,
   "id": "f1ce0e50-ff24-45c1-83d5-a5c9fbcf95a7",
   "metadata": {},
   "outputs": [],
   "source": [
    "# DATA EXPLORATION"
   ]
  },
  {
   "cell_type": "code",
   "execution_count": 3,
   "id": "fd937d87-5889-4b2f-b209-80dcffec2469",
   "metadata": {},
   "outputs": [
    {
     "data": {
      "text/html": [
       "<div>\n",
       "<style scoped>\n",
       "    .dataframe tbody tr th:only-of-type {\n",
       "        vertical-align: middle;\n",
       "    }\n",
       "\n",
       "    .dataframe tbody tr th {\n",
       "        vertical-align: top;\n",
       "    }\n",
       "\n",
       "    .dataframe thead th {\n",
       "        text-align: right;\n",
       "    }\n",
       "</style>\n",
       "<table border=\"1\" class=\"dataframe\">\n",
       "  <thead>\n",
       "    <tr style=\"text-align: right;\">\n",
       "      <th></th>\n",
       "      <th>category</th>\n",
       "      <th>text</th>\n",
       "    </tr>\n",
       "  </thead>\n",
       "  <tbody>\n",
       "    <tr>\n",
       "      <th>0</th>\n",
       "      <td>tech</td>\n",
       "      <td>tv future in the hands of viewers with home th...</td>\n",
       "    </tr>\n",
       "    <tr>\n",
       "      <th>1</th>\n",
       "      <td>business</td>\n",
       "      <td>worldcom boss  left books alone  former worldc...</td>\n",
       "    </tr>\n",
       "    <tr>\n",
       "      <th>2</th>\n",
       "      <td>sport</td>\n",
       "      <td>tigers wary of farrell  gamble  leicester say ...</td>\n",
       "    </tr>\n",
       "  </tbody>\n",
       "</table>\n",
       "</div>"
      ],
      "text/plain": [
       "   category                                               text\n",
       "0      tech  tv future in the hands of viewers with home th...\n",
       "1  business  worldcom boss  left books alone  former worldc...\n",
       "2     sport  tigers wary of farrell  gamble  leicester say ..."
      ]
     },
     "execution_count": 3,
     "metadata": {},
     "output_type": "execute_result"
    }
   ],
   "source": [
    "data.head(3)"
   ]
  },
  {
   "cell_type": "code",
   "execution_count": 4,
   "id": "da3605d2-b444-438c-a86e-91a91b4c86dc",
   "metadata": {},
   "outputs": [
    {
     "data": {
      "text/html": [
       "<div>\n",
       "<style scoped>\n",
       "    .dataframe tbody tr th:only-of-type {\n",
       "        vertical-align: middle;\n",
       "    }\n",
       "\n",
       "    .dataframe tbody tr th {\n",
       "        vertical-align: top;\n",
       "    }\n",
       "\n",
       "    .dataframe thead th {\n",
       "        text-align: right;\n",
       "    }\n",
       "</style>\n",
       "<table border=\"1\" class=\"dataframe\">\n",
       "  <thead>\n",
       "    <tr style=\"text-align: right;\">\n",
       "      <th></th>\n",
       "      <th>category</th>\n",
       "      <th>text</th>\n",
       "    </tr>\n",
       "  </thead>\n",
       "  <tbody>\n",
       "    <tr>\n",
       "      <th>1986</th>\n",
       "      <td>politics</td>\n",
       "      <td>uk set to cut back on embassies nine overseas ...</td>\n",
       "    </tr>\n",
       "    <tr>\n",
       "      <th>2120</th>\n",
       "      <td>sport</td>\n",
       "      <td>ferguson rues failure to cut gap boss sir alex...</td>\n",
       "    </tr>\n",
       "    <tr>\n",
       "      <th>93</th>\n",
       "      <td>sport</td>\n",
       "      <td>south africa sweep top awards south africa s s...</td>\n",
       "    </tr>\n",
       "  </tbody>\n",
       "</table>\n",
       "</div>"
      ],
      "text/plain": [
       "      category                                               text\n",
       "1986  politics  uk set to cut back on embassies nine overseas ...\n",
       "2120     sport  ferguson rues failure to cut gap boss sir alex...\n",
       "93       sport  south africa sweep top awards south africa s s..."
      ]
     },
     "execution_count": 4,
     "metadata": {},
     "output_type": "execute_result"
    }
   ],
   "source": [
    "data.sample(3)"
   ]
  },
  {
   "cell_type": "code",
   "execution_count": 5,
   "id": "095c021b-b539-4903-a79d-98b3d2be0cb3",
   "metadata": {},
   "outputs": [
    {
     "data": {
      "text/html": [
       "<div>\n",
       "<style scoped>\n",
       "    .dataframe tbody tr th:only-of-type {\n",
       "        vertical-align: middle;\n",
       "    }\n",
       "\n",
       "    .dataframe tbody tr th {\n",
       "        vertical-align: top;\n",
       "    }\n",
       "\n",
       "    .dataframe thead th {\n",
       "        text-align: right;\n",
       "    }\n",
       "</style>\n",
       "<table border=\"1\" class=\"dataframe\">\n",
       "  <thead>\n",
       "    <tr style=\"text-align: right;\">\n",
       "      <th></th>\n",
       "      <th>category</th>\n",
       "      <th>text</th>\n",
       "    </tr>\n",
       "  </thead>\n",
       "  <tbody>\n",
       "    <tr>\n",
       "      <th>2222</th>\n",
       "      <td>entertainment</td>\n",
       "      <td>rem announce new glasgow concert us band rem h...</td>\n",
       "    </tr>\n",
       "    <tr>\n",
       "      <th>2223</th>\n",
       "      <td>politics</td>\n",
       "      <td>how political squabbles snowball it s become c...</td>\n",
       "    </tr>\n",
       "    <tr>\n",
       "      <th>2224</th>\n",
       "      <td>sport</td>\n",
       "      <td>souness delight at euro progress boss graeme s...</td>\n",
       "    </tr>\n",
       "  </tbody>\n",
       "</table>\n",
       "</div>"
      ],
      "text/plain": [
       "           category                                               text\n",
       "2222  entertainment  rem announce new glasgow concert us band rem h...\n",
       "2223       politics  how political squabbles snowball it s become c...\n",
       "2224          sport  souness delight at euro progress boss graeme s..."
      ]
     },
     "execution_count": 5,
     "metadata": {},
     "output_type": "execute_result"
    }
   ],
   "source": [
    "data.tail(3)"
   ]
  },
  {
   "cell_type": "code",
   "execution_count": 6,
   "id": "a7386e8e-5a30-4bea-a029-7e5f08c8addb",
   "metadata": {},
   "outputs": [
    {
     "name": "stdout",
     "output_type": "stream",
     "text": [
      "No of Datapoint (rows) :  2225\n",
      "No of features  (columns) :  2\n"
     ]
    }
   ],
   "source": [
    "row , column = data.shape\n",
    "print('No of Datapoint (rows) : ',  row)\n",
    "print('No of features  (columns) : ', column)"
   ]
  },
  {
   "cell_type": "code",
   "execution_count": 7,
   "id": "9f9227a1-645d-4a62-9d6e-467276e16577",
   "metadata": {},
   "outputs": [
    {
     "name": "stdout",
     "output_type": "stream",
     "text": [
      "Label  Class:  ['tech' 'business' 'sport' 'entertainment' 'politics']\n"
     ]
    }
   ],
   "source": [
    "new_classes = data.category.unique()\n",
    "classes_size = len(new_classes)\n",
    "print(\"Label  Class: \" , new_classes)\n",
    "#"
   ]
  },
  {
   "cell_type": "code",
   "execution_count": 8,
   "id": "62f1f884-a6d6-4d55-bee5-933d1bae3289",
   "metadata": {},
   "outputs": [
    {
     "name": "stdout",
     "output_type": "stream",
     "text": [
      "[401, 510, 511, 386, 417]\n"
     ]
    },
    {
     "data": {
      "image/png": "[encoded data removed]",
      "text/plain": [
       "<Figure size 500x400 with 1 Axes>"
      ]
     },
     "metadata": {},
     "output_type": "display_data"
    }
   ],
   "source": [
    "len(data[data['category']== new_classes[0]])\n",
    "class_len = []\n",
    "for new_class in new_classes:\n",
    "  ln = len(data[data['category']== new_class])\n",
    "  class_len.append(ln)\n",
    "\n",
    "class_len = np.array(class_len) \n",
    "print(list(class_len))\n",
    "\n",
    "plt.figure(figsize=(5,4))\n",
    "\n",
    "# visualizing the class label count\n",
    "plt.xlabel('bbc new categories')\n",
    "plt.ylabel('datasample')\n",
    "plt.title('BBC NEW CATEGORIES')\n",
    "plt.xticks(rotation=45)\n",
    "plt.bar(new_classes, class_len, color=['red', 'blue', 'green', 'brown'])\n",
    "plt.show()"
   ]
  },
  {
   "cell_type": "code",
   "execution_count": 9,
   "id": "1d7e544c-92bb-4657-9bc2-d1fb7591eef6",
   "metadata": {},
   "outputs": [
    {
     "data": {
      "image/png": "[encoded data removed]",
      "text/plain": [
       "<Figure size 350x350 with 1 Axes>"
      ]
     },
     "metadata": {},
     "output_type": "display_data"
    }
   ],
   "source": [
    "# pie chart \n",
    "plt.figure(figsize=(3.5,3.5))\n",
    "plt.pie(class_len,labels=new_classes, radius=1.2, autopct='%0.2f%%')\n",
    "plt.show()"
   ]
  },
  {
   "cell_type": "code",
   "execution_count": 10,
   "id": "5bbefff6-e37e-4b2a-9b58-95d83f4b2d33",
   "metadata": {},
   "outputs": [],
   "source": [
    "ps = PorterStemmer()\n",
    "\n",
    "\n",
    "def dataset_cleaning(text):\n",
    "    #  removeing punctuation from the dataset\n",
    "    text = ''.join([token for token in text if not token in string.punctuation])\n",
    "    # tokenizing the dataset e.g ['tv' , 'future' , 'in' , 'the']\n",
    "    token = word_tokenize(text)\n",
    "    # removing stopword (words that had less meaning to the dataset)     \n",
    "    text  = [ps.stem(t.lower()) for t in token if not t in st_words ]\n",
    "    return text \n",
    "\n",
    "data['stem_clean_text'] = data[\"text\"].apply(lambda x: dataset_cleaning(x))"
   ]
  },
  {
   "cell_type": "code",
   "execution_count": 124,
   "id": "c0b423f1-1450-48cb-9f24-a63f0f92bed3",
   "metadata": {},
   "outputs": [],
   "source": [
    "# lemmatization techniques......"
   ]
  },
  {
   "cell_type": "code",
   "execution_count": 11,
   "id": "24d69d60-1a6d-4702-9acb-f113c55e17a5",
   "metadata": {},
   "outputs": [],
   "source": [
    "lemmer = WordNetLemmatizer()\n",
    "\n",
    "\n",
    "def dataset_cleaning(text):\n",
    "    #  removeing punctuation from the dataset\n",
    "    text = ''.join([token for token in text if not token in string.punctuation])\n",
    "    # tokenizing the dataset e.g ['tv' , 'future' , 'in' , 'the']\n",
    "    token = word_tokenize(text)\n",
    "    # removing stopword (words that had less meaning to the dataset)     \n",
    "    text  = [lemmer.lemmatize(t.lower()) for t in token if not t in st_words ]\n",
    "    return text \n",
    "\n",
    "data['lem_clean_text'] = data[\"text\"].apply(lambda x: dataset_cleaning(x))"
   ]
  },
  {
   "cell_type": "code",
   "execution_count": 12,
   "id": "638bcec5-059b-457c-9e06-a6a6281e7c93",
   "metadata": {},
   "outputs": [
    {
     "data": {
      "text/html": [
       "<div>\n",
       "<style scoped>\n",
       "    .dataframe tbody tr th:only-of-type {\n",
       "        vertical-align: middle;\n",
       "    }\n",
       "\n",
       "    .dataframe tbody tr th {\n",
       "        vertical-align: top;\n",
       "    }\n",
       "\n",
       "    .dataframe thead th {\n",
       "        text-align: right;\n",
       "    }\n",
       "</style>\n",
       "<table border=\"1\" class=\"dataframe\">\n",
       "  <thead>\n",
       "    <tr style=\"text-align: right;\">\n",
       "      <th></th>\n",
       "      <th>category</th>\n",
       "      <th>text</th>\n",
       "      <th>stem_clean_text</th>\n",
       "      <th>lem_clean_text</th>\n",
       "    </tr>\n",
       "  </thead>\n",
       "  <tbody>\n",
       "    <tr>\n",
       "      <th>0</th>\n",
       "      <td>tech</td>\n",
       "      <td>tv future in the hands of viewers with home th...</td>\n",
       "      <td>[tv, futur, hand, viewer, home, theatr, system...</td>\n",
       "      <td>[tv, future, hand, viewer, home, theatre, syst...</td>\n",
       "    </tr>\n",
       "    <tr>\n",
       "      <th>1</th>\n",
       "      <td>business</td>\n",
       "      <td>worldcom boss  left books alone  former worldc...</td>\n",
       "      <td>[worldcom, boss, left, book, alon, former, wor...</td>\n",
       "      <td>[worldcom, bos, left, book, alone, former, wor...</td>\n",
       "    </tr>\n",
       "    <tr>\n",
       "      <th>2</th>\n",
       "      <td>sport</td>\n",
       "      <td>tigers wary of farrell  gamble  leicester say ...</td>\n",
       "      <td>[tiger, wari, farrel, gambl, leicest, say, rus...</td>\n",
       "      <td>[tiger, wary, farrell, gamble, leicester, say,...</td>\n",
       "    </tr>\n",
       "    <tr>\n",
       "      <th>3</th>\n",
       "      <td>sport</td>\n",
       "      <td>yeading face newcastle in fa cup premiership s...</td>\n",
       "      <td>[yead, face, newcastl, fa, cup, premiership, s...</td>\n",
       "      <td>[yeading, face, newcastle, fa, cup, premiershi...</td>\n",
       "    </tr>\n",
       "    <tr>\n",
       "      <th>4</th>\n",
       "      <td>entertainment</td>\n",
       "      <td>ocean s twelve raids box office ocean s twelve...</td>\n",
       "      <td>[ocean, twelv, raid, box, offic, ocean, twelv,...</td>\n",
       "      <td>[ocean, twelve, raid, box, office, ocean, twel...</td>\n",
       "    </tr>\n",
       "    <tr>\n",
       "      <th>...</th>\n",
       "      <td>...</td>\n",
       "      <td>...</td>\n",
       "      <td>...</td>\n",
       "      <td>...</td>\n",
       "    </tr>\n",
       "    <tr>\n",
       "      <th>2220</th>\n",
       "      <td>business</td>\n",
       "      <td>cars pull down us retail figures us retail sal...</td>\n",
       "      <td>[car, pull, us, retail, figur, us, retail, sal...</td>\n",
       "      <td>[car, pull, u, retail, figure, u, retail, sale...</td>\n",
       "    </tr>\n",
       "    <tr>\n",
       "      <th>2221</th>\n",
       "      <td>politics</td>\n",
       "      <td>kilroy unveils immigration policy ex-chatshow ...</td>\n",
       "      <td>[kilroy, unveil, immigr, polici, exchatshow, h...</td>\n",
       "      <td>[kilroy, unveils, immigration, policy, exchats...</td>\n",
       "    </tr>\n",
       "    <tr>\n",
       "      <th>2222</th>\n",
       "      <td>entertainment</td>\n",
       "      <td>rem announce new glasgow concert us band rem h...</td>\n",
       "      <td>[rem, announc, new, glasgow, concert, us, band...</td>\n",
       "      <td>[rem, announce, new, glasgow, concert, u, band...</td>\n",
       "    </tr>\n",
       "    <tr>\n",
       "      <th>2223</th>\n",
       "      <td>politics</td>\n",
       "      <td>how political squabbles snowball it s become c...</td>\n",
       "      <td>[polit, squabbl, snowbal, becom, commonplac, a...</td>\n",
       "      <td>[political, squabble, snowball, become, common...</td>\n",
       "    </tr>\n",
       "    <tr>\n",
       "      <th>2224</th>\n",
       "      <td>sport</td>\n",
       "      <td>souness delight at euro progress boss graeme s...</td>\n",
       "      <td>[souness, delight, euro, progress, boss, graem...</td>\n",
       "      <td>[souness, delight, euro, progress, bos, graeme...</td>\n",
       "    </tr>\n",
       "  </tbody>\n",
       "</table>\n",
       "<p>2225 rows × 4 columns</p>\n",
       "</div>"
      ],
      "text/plain": [
       "           category                                               text  \\\n",
       "0              tech  tv future in the hands of viewers with home th...   \n",
       "1          business  worldcom boss  left books alone  former worldc...   \n",
       "2             sport  tigers wary of farrell  gamble  leicester say ...   \n",
       "3             sport  yeading face newcastle in fa cup premiership s...   \n",
       "4     entertainment  ocean s twelve raids box office ocean s twelve...   \n",
       "...             ...                                                ...   \n",
       "2220       business  cars pull down us retail figures us retail sal...   \n",
       "2221       politics  kilroy unveils immigration policy ex-chatshow ...   \n",
       "2222  entertainment  rem announce new glasgow concert us band rem h...   \n",
       "2223       politics  how political squabbles snowball it s become c...   \n",
       "2224          sport  souness delight at euro progress boss graeme s...   \n",
       "\n",
       "                                        stem_clean_text  \\\n",
       "0     [tv, futur, hand, viewer, home, theatr, system...   \n",
       "1     [worldcom, boss, left, book, alon, former, wor...   \n",
       "2     [tiger, wari, farrel, gambl, leicest, say, rus...   \n",
       "3     [yead, face, newcastl, fa, cup, premiership, s...   \n",
       "4     [ocean, twelv, raid, box, offic, ocean, twelv,...   \n",
       "...                                                 ...   \n",
       "2220  [car, pull, us, retail, figur, us, retail, sal...   \n",
       "2221  [kilroy, unveil, immigr, polici, exchatshow, h...   \n",
       "2222  [rem, announc, new, glasgow, concert, us, band...   \n",
       "2223  [polit, squabbl, snowbal, becom, commonplac, a...   \n",
       "2224  [souness, delight, euro, progress, boss, graem...   \n",
       "\n",
       "                                         lem_clean_text  \n",
       "0     [tv, future, hand, viewer, home, theatre, syst...  \n",
       "1     [worldcom, bos, left, book, alone, former, wor...  \n",
       "2     [tiger, wary, farrell, gamble, leicester, say,...  \n",
       "3     [yeading, face, newcastle, fa, cup, premiershi...  \n",
       "4     [ocean, twelve, raid, box, office, ocean, twel...  \n",
       "...                                                 ...  \n",
       "2220  [car, pull, u, retail, figure, u, retail, sale...  \n",
       "2221  [kilroy, unveils, immigration, policy, exchats...  \n",
       "2222  [rem, announce, new, glasgow, concert, u, band...  \n",
       "2223  [political, squabble, snowball, become, common...  \n",
       "2224  [souness, delight, euro, progress, bos, graeme...  \n",
       "\n",
       "[2225 rows x 4 columns]"
      ]
     },
     "execution_count": 12,
     "metadata": {},
     "output_type": "execute_result"
    }
   ],
   "source": [
    "data"
   ]
  },
  {
   "cell_type": "code",
   "execution_count": 13,
   "id": "f6085f3e-b54f-412b-a076-c72221d6854e",
   "metadata": {},
   "outputs": [
    {
     "data": {
      "text/html": [
       "<div>\n",
       "<style scoped>\n",
       "    .dataframe tbody tr th:only-of-type {\n",
       "        vertical-align: middle;\n",
       "    }\n",
       "\n",
       "    .dataframe tbody tr th {\n",
       "        vertical-align: top;\n",
       "    }\n",
       "\n",
       "    .dataframe thead th {\n",
       "        text-align: right;\n",
       "    }\n",
       "</style>\n",
       "<table border=\"1\" class=\"dataframe\">\n",
       "  <thead>\n",
       "    <tr style=\"text-align: right;\">\n",
       "      <th></th>\n",
       "      <th>category</th>\n",
       "      <th>stem_clean_text</th>\n",
       "      <th>lem_clean_text</th>\n",
       "    </tr>\n",
       "  </thead>\n",
       "  <tbody>\n",
       "    <tr>\n",
       "      <th>0</th>\n",
       "      <td>tech</td>\n",
       "      <td>[tv, futur, hand, viewer, home, theatr, system...</td>\n",
       "      <td>[tv, future, hand, viewer, home, theatre, syst...</td>\n",
       "    </tr>\n",
       "    <tr>\n",
       "      <th>1</th>\n",
       "      <td>business</td>\n",
       "      <td>[worldcom, boss, left, book, alon, former, wor...</td>\n",
       "      <td>[worldcom, bos, left, book, alone, former, wor...</td>\n",
       "    </tr>\n",
       "    <tr>\n",
       "      <th>2</th>\n",
       "      <td>sport</td>\n",
       "      <td>[tiger, wari, farrel, gambl, leicest, say, rus...</td>\n",
       "      <td>[tiger, wary, farrell, gamble, leicester, say,...</td>\n",
       "    </tr>\n",
       "    <tr>\n",
       "      <th>3</th>\n",
       "      <td>sport</td>\n",
       "      <td>[yead, face, newcastl, fa, cup, premiership, s...</td>\n",
       "      <td>[yeading, face, newcastle, fa, cup, premiershi...</td>\n",
       "    </tr>\n",
       "    <tr>\n",
       "      <th>4</th>\n",
       "      <td>entertainment</td>\n",
       "      <td>[ocean, twelv, raid, box, offic, ocean, twelv,...</td>\n",
       "      <td>[ocean, twelve, raid, box, office, ocean, twel...</td>\n",
       "    </tr>\n",
       "  </tbody>\n",
       "</table>\n",
       "</div>"
      ],
      "text/plain": [
       "        category                                    stem_clean_text  \\\n",
       "0           tech  [tv, futur, hand, viewer, home, theatr, system...   \n",
       "1       business  [worldcom, boss, left, book, alon, former, wor...   \n",
       "2          sport  [tiger, wari, farrel, gambl, leicest, say, rus...   \n",
       "3          sport  [yead, face, newcastl, fa, cup, premiership, s...   \n",
       "4  entertainment  [ocean, twelv, raid, box, offic, ocean, twelv,...   \n",
       "\n",
       "                                      lem_clean_text  \n",
       "0  [tv, future, hand, viewer, home, theatre, syst...  \n",
       "1  [worldcom, bos, left, book, alone, former, wor...  \n",
       "2  [tiger, wary, farrell, gamble, leicester, say,...  \n",
       "3  [yeading, face, newcastle, fa, cup, premiershi...  \n",
       "4  [ocean, twelve, raid, box, office, ocean, twel...  "
      ]
     },
     "execution_count": 13,
     "metadata": {},
     "output_type": "execute_result"
    }
   ],
   "source": [
    "clean_dataset = data.drop(columns=['text'])\n",
    "clean_dataset.head()"
   ]
  },
  {
   "cell_type": "code",
   "execution_count": 14,
   "id": "ffd20365-2f19-4f2b-a96a-9788f04b1401",
   "metadata": {},
   "outputs": [
    {
     "name": "stdout",
     "output_type": "stream",
     "text": [
      "Num of word  29961\n"
     ]
    }
   ],
   "source": [
    "from nltk.probability import FreqDist\n",
    "import nltk\n",
    "\n",
    "word_list = []\n",
    "\n",
    "news = clean_dataset['lem_clean_text']\n",
    "for new in news:\n",
    "    [word_list.append(w) for w in new]\n",
    "\n",
    "# f_distribution = nltk.FreqDist(clean_dataset['clean_text'])\n",
    "f_distribution = nltk.FreqDist(word_list)\n",
    "\n",
    "sort_freq = sorted(f_distribution, key=f_distribution.__getitem__ , reverse=True)\n",
    "print('Num of word ', len(sort_freq))"
   ]
  },
  {
   "cell_type": "code",
   "execution_count": 15,
   "id": "efd90bc9-7832-4170-bdce-f1b420297046",
   "metadata": {},
   "outputs": [
    {
     "data": {
      "text/plain": [
       "<Axes: title={'center': 'word count frequency'}, xlabel='Samples', ylabel='Counts'>"
      ]
     },
     "execution_count": 15,
     "metadata": {},
     "output_type": "execute_result"
    },
    {
     "data": {
      "image/png": "[encoded data removed]",
      "text/plain": [
       "<Figure size 640x480 with 1 Axes>"
      ]
     },
     "metadata": {},
     "output_type": "display_data"
    }
   ],
   "source": [
    "f_distribution.plot(20, title='word count frequency', cumulative=False)"
   ]
  },
  {
   "cell_type": "code",
   "execution_count": 16,
   "id": "dbec04bc-affc-4b23-baf2-ad7b33d0317d",
   "metadata": {},
   "outputs": [
    {
     "data": {
      "text/html": [
       "<div>\n",
       "<style scoped>\n",
       "    .dataframe tbody tr th:only-of-type {\n",
       "        vertical-align: middle;\n",
       "    }\n",
       "\n",
       "    .dataframe tbody tr th {\n",
       "        vertical-align: top;\n",
       "    }\n",
       "\n",
       "    .dataframe thead th {\n",
       "        text-align: right;\n",
       "    }\n",
       "</style>\n",
       "<table border=\"1\" class=\"dataframe\">\n",
       "  <thead>\n",
       "    <tr style=\"text-align: right;\">\n",
       "      <th></th>\n",
       "      <th>category</th>\n",
       "      <th>stem_clean_text</th>\n",
       "      <th>lem_clean_text</th>\n",
       "    </tr>\n",
       "  </thead>\n",
       "  <tbody>\n",
       "    <tr>\n",
       "      <th>0</th>\n",
       "      <td>tech</td>\n",
       "      <td>[tv, futur, hand, viewer, home, theatr, system...</td>\n",
       "      <td>[tv, future, hand, viewer, home, theatre, syst...</td>\n",
       "    </tr>\n",
       "    <tr>\n",
       "      <th>1</th>\n",
       "      <td>business</td>\n",
       "      <td>[worldcom, boss, left, book, alon, former, wor...</td>\n",
       "      <td>[worldcom, bos, left, book, alone, former, wor...</td>\n",
       "    </tr>\n",
       "    <tr>\n",
       "      <th>2</th>\n",
       "      <td>sport</td>\n",
       "      <td>[tiger, wari, farrel, gambl, leicest, say, rus...</td>\n",
       "      <td>[tiger, wary, farrell, gamble, leicester, say,...</td>\n",
       "    </tr>\n",
       "    <tr>\n",
       "      <th>3</th>\n",
       "      <td>sport</td>\n",
       "      <td>[yead, face, newcastl, fa, cup, premiership, s...</td>\n",
       "      <td>[yeading, face, newcastle, fa, cup, premiershi...</td>\n",
       "    </tr>\n",
       "    <tr>\n",
       "      <th>4</th>\n",
       "      <td>entertainment</td>\n",
       "      <td>[ocean, twelv, raid, box, offic, ocean, twelv,...</td>\n",
       "      <td>[ocean, twelve, raid, box, office, ocean, twel...</td>\n",
       "    </tr>\n",
       "    <tr>\n",
       "      <th>...</th>\n",
       "      <td>...</td>\n",
       "      <td>...</td>\n",
       "      <td>...</td>\n",
       "    </tr>\n",
       "    <tr>\n",
       "      <th>2220</th>\n",
       "      <td>business</td>\n",
       "      <td>[car, pull, us, retail, figur, us, retail, sal...</td>\n",
       "      <td>[car, pull, u, retail, figure, u, retail, sale...</td>\n",
       "    </tr>\n",
       "    <tr>\n",
       "      <th>2221</th>\n",
       "      <td>politics</td>\n",
       "      <td>[kilroy, unveil, immigr, polici, exchatshow, h...</td>\n",
       "      <td>[kilroy, unveils, immigration, policy, exchats...</td>\n",
       "    </tr>\n",
       "    <tr>\n",
       "      <th>2222</th>\n",
       "      <td>entertainment</td>\n",
       "      <td>[rem, announc, new, glasgow, concert, us, band...</td>\n",
       "      <td>[rem, announce, new, glasgow, concert, u, band...</td>\n",
       "    </tr>\n",
       "    <tr>\n",
       "      <th>2223</th>\n",
       "      <td>politics</td>\n",
       "      <td>[polit, squabbl, snowbal, becom, commonplac, a...</td>\n",
       "      <td>[political, squabble, snowball, become, common...</td>\n",
       "    </tr>\n",
       "    <tr>\n",
       "      <th>2224</th>\n",
       "      <td>sport</td>\n",
       "      <td>[souness, delight, euro, progress, boss, graem...</td>\n",
       "      <td>[souness, delight, euro, progress, bos, graeme...</td>\n",
       "    </tr>\n",
       "  </tbody>\n",
       "</table>\n",
       "<p>2225 rows × 3 columns</p>\n",
       "</div>"
      ],
      "text/plain": [
       "           category                                    stem_clean_text  \\\n",
       "0              tech  [tv, futur, hand, viewer, home, theatr, system...   \n",
       "1          business  [worldcom, boss, left, book, alon, former, wor...   \n",
       "2             sport  [tiger, wari, farrel, gambl, leicest, say, rus...   \n",
       "3             sport  [yead, face, newcastl, fa, cup, premiership, s...   \n",
       "4     entertainment  [ocean, twelv, raid, box, offic, ocean, twelv,...   \n",
       "...             ...                                                ...   \n",
       "2220       business  [car, pull, us, retail, figur, us, retail, sal...   \n",
       "2221       politics  [kilroy, unveil, immigr, polici, exchatshow, h...   \n",
       "2222  entertainment  [rem, announc, new, glasgow, concert, us, band...   \n",
       "2223       politics  [polit, squabbl, snowbal, becom, commonplac, a...   \n",
       "2224          sport  [souness, delight, euro, progress, boss, graem...   \n",
       "\n",
       "                                         lem_clean_text  \n",
       "0     [tv, future, hand, viewer, home, theatre, syst...  \n",
       "1     [worldcom, bos, left, book, alone, former, wor...  \n",
       "2     [tiger, wary, farrell, gamble, leicester, say,...  \n",
       "3     [yeading, face, newcastle, fa, cup, premiershi...  \n",
       "4     [ocean, twelve, raid, box, office, ocean, twel...  \n",
       "...                                                 ...  \n",
       "2220  [car, pull, u, retail, figure, u, retail, sale...  \n",
       "2221  [kilroy, unveils, immigration, policy, exchats...  \n",
       "2222  [rem, announce, new, glasgow, concert, u, band...  \n",
       "2223  [political, squabble, snowball, become, common...  \n",
       "2224  [souness, delight, euro, progress, bos, graeme...  \n",
       "\n",
       "[2225 rows x 3 columns]"
      ]
     },
     "execution_count": 16,
     "metadata": {},
     "output_type": "execute_result"
    }
   ],
   "source": [
    "clean_data = clean_dataset\n",
    "clean_data"
   ]
  },
  {
   "cell_type": "code",
   "execution_count": null,
   "id": "ec2c21ef-2f77-42d5-b76c-86b08d1f0429",
   "metadata": {},
   "outputs": [],
   "source": []
  },
  {
   "cell_type": "code",
   "execution_count": 17,
   "id": "0368fe82-a0ae-4f0e-bfaf-87049dd6fe5a",
   "metadata": {},
   "outputs": [
    {
     "data": {
      "text/html": [
       "<div>\n",
       "<style scoped>\n",
       "    .dataframe tbody tr th:only-of-type {\n",
       "        vertical-align: middle;\n",
       "    }\n",
       "\n",
       "    .dataframe tbody tr th {\n",
       "        vertical-align: top;\n",
       "    }\n",
       "\n",
       "    .dataframe thead th {\n",
       "        text-align: right;\n",
       "    }\n",
       "</style>\n",
       "<table border=\"1\" class=\"dataframe\">\n",
       "  <thead>\n",
       "    <tr style=\"text-align: right;\">\n",
       "      <th></th>\n",
       "      <th>category</th>\n",
       "      <th>stem_clean_text</th>\n",
       "      <th>lem_clean_text</th>\n",
       "      <th>doc</th>\n",
       "    </tr>\n",
       "  </thead>\n",
       "  <tbody>\n",
       "    <tr>\n",
       "      <th>0</th>\n",
       "      <td>tech</td>\n",
       "      <td>[tv, futur, hand, viewer, home, theatr, system...</td>\n",
       "      <td>[tv, future, hand, viewer, home, theatre, syst...</td>\n",
       "      <td>tv future hand viewer home theatre system plas...</td>\n",
       "    </tr>\n",
       "    <tr>\n",
       "      <th>1</th>\n",
       "      <td>business</td>\n",
       "      <td>[worldcom, boss, left, book, alon, former, wor...</td>\n",
       "      <td>[worldcom, bos, left, book, alone, former, wor...</td>\n",
       "      <td>worldcom bos left book alone former worldcom b...</td>\n",
       "    </tr>\n",
       "    <tr>\n",
       "      <th>2</th>\n",
       "      <td>sport</td>\n",
       "      <td>[tiger, wari, farrel, gambl, leicest, say, rus...</td>\n",
       "      <td>[tiger, wary, farrell, gamble, leicester, say,...</td>\n",
       "      <td>tiger wary farrell gamble leicester say rushed...</td>\n",
       "    </tr>\n",
       "    <tr>\n",
       "      <th>3</th>\n",
       "      <td>sport</td>\n",
       "      <td>[yead, face, newcastl, fa, cup, premiership, s...</td>\n",
       "      <td>[yeading, face, newcastle, fa, cup, premiershi...</td>\n",
       "      <td>yeading face newcastle fa cup premiership side...</td>\n",
       "    </tr>\n",
       "    <tr>\n",
       "      <th>4</th>\n",
       "      <td>entertainment</td>\n",
       "      <td>[ocean, twelv, raid, box, offic, ocean, twelv,...</td>\n",
       "      <td>[ocean, twelve, raid, box, office, ocean, twel...</td>\n",
       "      <td>ocean twelve raid box office ocean twelve crim...</td>\n",
       "    </tr>\n",
       "    <tr>\n",
       "      <th>...</th>\n",
       "      <td>...</td>\n",
       "      <td>...</td>\n",
       "      <td>...</td>\n",
       "      <td>...</td>\n",
       "    </tr>\n",
       "    <tr>\n",
       "      <th>2220</th>\n",
       "      <td>business</td>\n",
       "      <td>[car, pull, us, retail, figur, us, retail, sal...</td>\n",
       "      <td>[car, pull, u, retail, figure, u, retail, sale...</td>\n",
       "      <td>car pull u retail figure u retail sale fell 03...</td>\n",
       "    </tr>\n",
       "    <tr>\n",
       "      <th>2221</th>\n",
       "      <td>politics</td>\n",
       "      <td>[kilroy, unveil, immigr, polici, exchatshow, h...</td>\n",
       "      <td>[kilroy, unveils, immigration, policy, exchats...</td>\n",
       "      <td>kilroy unveils immigration policy exchatshow h...</td>\n",
       "    </tr>\n",
       "    <tr>\n",
       "      <th>2222</th>\n",
       "      <td>entertainment</td>\n",
       "      <td>[rem, announc, new, glasgow, concert, us, band...</td>\n",
       "      <td>[rem, announce, new, glasgow, concert, u, band...</td>\n",
       "      <td>rem announce new glasgow concert u band rem an...</td>\n",
       "    </tr>\n",
       "    <tr>\n",
       "      <th>2223</th>\n",
       "      <td>politics</td>\n",
       "      <td>[polit, squabbl, snowbal, becom, commonplac, a...</td>\n",
       "      <td>[political, squabble, snowball, become, common...</td>\n",
       "      <td>political squabble snowball become commonplace...</td>\n",
       "    </tr>\n",
       "    <tr>\n",
       "      <th>2224</th>\n",
       "      <td>sport</td>\n",
       "      <td>[souness, delight, euro, progress, boss, graem...</td>\n",
       "      <td>[souness, delight, euro, progress, bos, graeme...</td>\n",
       "      <td>souness delight euro progress bos graeme soune...</td>\n",
       "    </tr>\n",
       "  </tbody>\n",
       "</table>\n",
       "<p>2225 rows × 4 columns</p>\n",
       "</div>"
      ],
      "text/plain": [
       "           category                                    stem_clean_text  \\\n",
       "0              tech  [tv, futur, hand, viewer, home, theatr, system...   \n",
       "1          business  [worldcom, boss, left, book, alon, former, wor...   \n",
       "2             sport  [tiger, wari, farrel, gambl, leicest, say, rus...   \n",
       "3             sport  [yead, face, newcastl, fa, cup, premiership, s...   \n",
       "4     entertainment  [ocean, twelv, raid, box, offic, ocean, twelv,...   \n",
       "...             ...                                                ...   \n",
       "2220       business  [car, pull, us, retail, figur, us, retail, sal...   \n",
       "2221       politics  [kilroy, unveil, immigr, polici, exchatshow, h...   \n",
       "2222  entertainment  [rem, announc, new, glasgow, concert, us, band...   \n",
       "2223       politics  [polit, squabbl, snowbal, becom, commonplac, a...   \n",
       "2224          sport  [souness, delight, euro, progress, boss, graem...   \n",
       "\n",
       "                                         lem_clean_text  \\\n",
       "0     [tv, future, hand, viewer, home, theatre, syst...   \n",
       "1     [worldcom, bos, left, book, alone, former, wor...   \n",
       "2     [tiger, wary, farrell, gamble, leicester, say,...   \n",
       "3     [yeading, face, newcastle, fa, cup, premiershi...   \n",
       "4     [ocean, twelve, raid, box, office, ocean, twel...   \n",
       "...                                                 ...   \n",
       "2220  [car, pull, u, retail, figure, u, retail, sale...   \n",
       "2221  [kilroy, unveils, immigration, policy, exchats...   \n",
       "2222  [rem, announce, new, glasgow, concert, u, band...   \n",
       "2223  [political, squabble, snowball, become, common...   \n",
       "2224  [souness, delight, euro, progress, bos, graeme...   \n",
       "\n",
       "                                                    doc  \n",
       "0     tv future hand viewer home theatre system plas...  \n",
       "1     worldcom bos left book alone former worldcom b...  \n",
       "2     tiger wary farrell gamble leicester say rushed...  \n",
       "3     yeading face newcastle fa cup premiership side...  \n",
       "4     ocean twelve raid box office ocean twelve crim...  \n",
       "...                                                 ...  \n",
       "2220  car pull u retail figure u retail sale fell 03...  \n",
       "2221  kilroy unveils immigration policy exchatshow h...  \n",
       "2222  rem announce new glasgow concert u band rem an...  \n",
       "2223  political squabble snowball become commonplace...  \n",
       "2224  souness delight euro progress bos graeme soune...  \n",
       "\n",
       "[2225 rows x 4 columns]"
      ]
     },
     "execution_count": 17,
     "metadata": {},
     "output_type": "execute_result"
    }
   ],
   "source": [
    "# creating a document version of the lemmatization\n",
    "\n",
    "def return_doc(documents): \n",
    "    return ' '.join(documents)\n",
    "\n",
    "clean_data['doc'] = clean_data['lem_clean_text'].apply(lambda x: return_doc(x))\n",
    "clean_data"
   ]
  },
  {
   "cell_type": "code",
   "execution_count": 18,
   "id": "56eec2f3-86d6-44d4-beec-cab607ab02a9",
   "metadata": {},
   "outputs": [
    {
     "data": {
      "text/plain": [
       "0       tv future hand viewer home theatre system plas...\n",
       "1       worldcom bos left book alone former worldcom b...\n",
       "2       tiger wary farrell gamble leicester say rushed...\n",
       "3       yeading face newcastle fa cup premiership side...\n",
       "4       ocean twelve raid box office ocean twelve crim...\n",
       "                              ...                        \n",
       "2220    car pull u retail figure u retail sale fell 03...\n",
       "2221    kilroy unveils immigration policy exchatshow h...\n",
       "2222    rem announce new glasgow concert u band rem an...\n",
       "2223    political squabble snowball become commonplace...\n",
       "2224    souness delight euro progress bos graeme soune...\n",
       "Name: doc, Length: 2225, dtype: object"
      ]
     },
     "execution_count": 18,
     "metadata": {},
     "output_type": "execute_result"
    }
   ],
   "source": [
    "# extracting the doc from data fram ........\n",
    "documents = clean_data['doc']\n",
    "documents"
   ]
  },
  {
   "cell_type": "code",
   "execution_count": 19,
   "id": "e7a95da2-d98a-4e04-9ffd-181803ace30c",
   "metadata": {},
   "outputs": [],
   "source": [
    "# documents"
   ]
  },
  {
   "cell_type": "code",
   "execution_count": 20,
   "id": "ee639274-716d-4b4d-8ba4-10a9c5227026",
   "metadata": {},
   "outputs": [],
   "source": [
    "# Tokenize documents\n",
    "tokenized_docs = [word_tokenize(doc.lower()) for doc in documents]"
   ]
  },
  {
   "cell_type": "code",
   "execution_count": 21,
   "id": "380392d4-7172-4ba8-818e-8e235b800e69",
   "metadata": {},
   "outputs": [],
   "source": [
    "# Compute TF-IDF matrix\n",
    "tfidf_vectorizer = TfidfVectorizer()\n",
    "tfidf_matrix = tfidf_vectorizer.fit_transform(documents)\n",
    "tfidf_feature_names = tfidf_vectorizer.get_feature_names_out()"
   ]
  },
  {
   "cell_type": "code",
   "execution_count": 105,
   "id": "04b4bf07-42b5-4cb0-8ad9-529da39958ce",
   "metadata": {},
   "outputs": [],
   "source": [
    "\n",
    "# Train Word2Vec model (extract semantic relationship)............................\n",
    "w2v_model = Word2Vec(sentences=tokenized_docs, vector_size=20, window=5, min_count=1, workers=4)\n"
   ]
  },
  {
   "cell_type": "code",
   "execution_count": 106,
   "id": "b4ce94b9-c110-4094-b2c9-25bdffcdefd4",
   "metadata": {},
   "outputs": [
    {
     "data": {
      "text/plain": [
       "array([ 0.22780621,  1.549171  , -0.89489084,  2.2540524 , -0.07405952,\n",
       "        0.4907664 , -0.8862073 ,  3.3461654 , -0.49168274,  1.9998767 ,\n",
       "        2.6859927 , -1.804485  ,  0.16740035, -1.3290266 ,  0.57757133,\n",
       "        3.037842  ,  2.1029568 , -0.58393407,  0.28042626, -2.3211708 ],\n",
       "      dtype=float32)"
      ]
     },
     "execution_count": 106,
     "metadata": {},
     "output_type": "execute_result"
    }
   ],
   "source": [
    "w2v_model.wv['euro']"
   ]
  },
  {
   "cell_type": "code",
   "execution_count": 30,
   "id": "16db72db-b72a-40f0-8b73-180b58ba72e7",
   "metadata": {},
   "outputs": [
    {
     "data": {
      "text/plain": [
       "array(['emmissions', 'emmy', 'emoticon', 'emotion', 'emotional',\n",
       "       'emotionally', 'emotive', 'empathy', 'emperor', 'emphasis',\n",
       "       'emphasise', 'emphasised', 'emphatic', 'emphatically', 'emphysema',\n",
       "       'empire', 'empirebuilding', 'employ', 'employed', 'employee',\n",
       "       'employer', 'employeremployee', 'employing', 'employment',\n",
       "       'empower', 'empowerment', 'empress', 'empty', 'emptyhanded',\n",
       "       'emulate', 'emulating', 'emulator', 'emups', 'en', 'enable',\n",
       "       'enabled', 'enablement', 'enabler', 'enables', 'enabling',\n",
       "       'enacted', 'enarsa', 'encampment', 'encapsulate', 'encarta',\n",
       "       'encased', 'enchanting', 'enclosed', 'enclosure', 'encoder',\n",
       "       'encoding', 'encompass', 'encompassed', 'encompasses', 'encore',\n",
       "       'encounter', 'encountered', 'encountering', 'encourage',\n",
       "       'encouraged', 'encouragement', 'encourages', 'encouraging',\n",
       "       'encroachment', 'encrypted', 'encryption', 'encyclopaedia', 'end',\n",
       "       'endacott', 'endangered', 'endangering', 'endeared', 'endearingly',\n",
       "       'endeavour', 'ended', 'endemol', 'endgame', 'endicott', 'ending',\n",
       "       'endless', 'endlessly', 'endofseason', 'endofyear', 'endogenous',\n",
       "       'endor', 'endorphin', 'endorse', 'endorsed', 'endorsement',\n",
       "       'endorses', 'endorsing', 'endowment', 'endtoend', 'endure',\n",
       "       'endured', 'enduring', 'enduser', 'enel', 'enemy', 'energetic',\n",
       "       'energetically', 'energie', 'energis', 'energised', 'energy',\n",
       "       'energyefficient', 'energysapping', 'energystarved', 'enfance',\n",
       "       'enfish', 'enforce', 'enforceable', 'enforced', 'enforcement',\n",
       "       'enforcer', 'enforcing', 'engage', 'engaged', 'engagement',\n",
       "       'engagers', 'engages', 'engaging', 'engendered', 'engerwitzdorf',\n",
       "       'engine', 'engineer', 'engineered', 'engineering', 'england',\n",
       "       'english', 'englishlanguage', 'englishman', 'englishspeaking',\n",
       "       'engrossing', 'enhance', 'enhanced', 'enhancement', 'enhancing',\n",
       "       'enigma', 'enigmatic', 'enjoined', 'enjoy', 'enjoyable', 'enjoyed',\n",
       "       'enjoying', 'enjoyment', 'enjoys', 'enlarged', 'enlargement',\n",
       "       'enlightened', 'enlightenment', 'enlisted', 'enlists', 'enliven',\n",
       "       'eno', 'enoch', 'enormity', 'enormous', 'enormously',\n",
       "       'enormouslyhigh', 'enough', 'enquires', 'enquiry', 'enqvist',\n",
       "       'enraged', 'enrico', 'enron', 'enshrined', 'ensler', 'ensue',\n",
       "       'ensued', 'ensues', 'ensuing', 'ensure', 'ensured', 'ensures',\n",
       "       'ensuring', 'enter', 'entered', 'entering', 'enterprise',\n",
       "       'enterprising', 'enters', 'entertain', 'entertained',\n",
       "       'entertainer', 'entertaining', 'entertainment', 'enthralling',\n",
       "       'enthuse', 'enthusiasm', 'enthusiast', 'enthusiastic',\n",
       "       'enthusiastically', 'entice', 'entire', 'entirely', 'entirety',\n",
       "       'entitle', 'entitled'], dtype=object)"
      ]
     },
     "execution_count": 30,
     "metadata": {},
     "output_type": "execute_result"
    }
   ],
   "source": [
    "tfidf_vectorizer.get_feature_names_out()[10000:10200]"
   ]
  },
  {
   "cell_type": "code",
   "execution_count": 31,
   "id": "3d6b01c9-948a-4ef4-8739-d5fd7a8ed807",
   "metadata": {},
   "outputs": [
    {
     "data": {
      "text/plain": [
       "array([[0.        , 0.01930694, 0.        , ..., 0.        , 0.        ,\n",
       "        0.        ],\n",
       "       [0.        , 0.02380416, 0.        , ..., 0.        , 0.        ,\n",
       "        0.        ],\n",
       "       [0.        , 0.        , 0.        , ..., 0.        , 0.        ,\n",
       "        0.        ],\n",
       "       ...,\n",
       "       [0.        , 0.02588097, 0.        , ..., 0.        , 0.        ,\n",
       "        0.        ],\n",
       "       [0.        , 0.0160233 , 0.        , ..., 0.        , 0.        ,\n",
       "        0.        ],\n",
       "       [0.        , 0.        , 0.        , ..., 0.        , 0.        ,\n",
       "        0.        ]])"
      ]
     },
     "execution_count": 31,
     "metadata": {},
     "output_type": "execute_result"
    }
   ],
   "source": [
    "tfidf_matrix.toarray()"
   ]
  },
  {
   "cell_type": "code",
   "execution_count": 33,
   "id": "5982d872-1b1e-43f2-961c-d5693191746f",
   "metadata": {},
   "outputs": [
    {
     "data": {
      "text/plain": [
       "(2225, 29599)"
      ]
     },
     "execution_count": 33,
     "metadata": {},
     "output_type": "execute_result"
    }
   ],
   "source": [
    "tfidf_matrix.shape"
   ]
  },
  {
   "cell_type": "code",
   "execution_count": 34,
   "id": "d1739776-d3df-4243-9fd6-b202b2a27fcc",
   "metadata": {},
   "outputs": [
    {
     "data": {
      "text/plain": [
       "array([[0.01930694],\n",
       "       [0.02380416],\n",
       "       [0.        ],\n",
       "       [0.        ],\n",
       "       [0.        ],\n",
       "       [0.        ],\n",
       "       [0.        ],\n",
       "       [0.        ],\n",
       "       [0.        ],\n",
       "       [0.        ],\n",
       "       [0.        ],\n",
       "       [0.        ],\n",
       "       [0.        ],\n",
       "       [0.        ]])"
      ]
     },
     "execution_count": 34,
     "metadata": {},
     "output_type": "execute_result"
    }
   ],
   "source": [
    "tfidf_matrix[:14 , 1].toarray()"
   ]
  },
  {
   "cell_type": "markdown",
   "id": "a2f8d194-7dd7-48e6-bfd9-39eb7eb22472",
   "metadata": {},
   "source": [
    "#### Enhancing TF-IDF with W2-vec "
   ]
  },
  {
   "cell_type": "code",
   "execution_count": 107,
   "id": "b9199c98-d467-442c-acd4-50a86d765969",
   "metadata": {},
   "outputs": [
    {
     "data": {
      "text/html": [
       "<div>\n",
       "<style scoped>\n",
       "    .dataframe tbody tr th:only-of-type {\n",
       "        vertical-align: middle;\n",
       "    }\n",
       "\n",
       "    .dataframe tbody tr th {\n",
       "        vertical-align: top;\n",
       "    }\n",
       "\n",
       "    .dataframe thead th {\n",
       "        text-align: right;\n",
       "    }\n",
       "</style>\n",
       "<table border=\"1\" class=\"dataframe\">\n",
       "  <thead>\n",
       "    <tr style=\"text-align: right;\">\n",
       "      <th></th>\n",
       "      <th>0</th>\n",
       "      <th>1</th>\n",
       "      <th>2</th>\n",
       "      <th>3</th>\n",
       "      <th>4</th>\n",
       "      <th>5</th>\n",
       "      <th>6</th>\n",
       "      <th>7</th>\n",
       "      <th>8</th>\n",
       "      <th>9</th>\n",
       "      <th>10</th>\n",
       "      <th>11</th>\n",
       "      <th>12</th>\n",
       "      <th>13</th>\n",
       "      <th>14</th>\n",
       "      <th>15</th>\n",
       "      <th>16</th>\n",
       "      <th>17</th>\n",
       "      <th>18</th>\n",
       "      <th>19</th>\n",
       "    </tr>\n",
       "  </thead>\n",
       "  <tbody>\n",
       "    <tr>\n",
       "      <th>0</th>\n",
       "      <td>-5.289919</td>\n",
       "      <td>-8.190187</td>\n",
       "      <td>13.657852</td>\n",
       "      <td>6.673470</td>\n",
       "      <td>-0.653534</td>\n",
       "      <td>-2.791670</td>\n",
       "      <td>7.325127</td>\n",
       "      <td>23.124979</td>\n",
       "      <td>-11.690960</td>\n",
       "      <td>10.610583</td>\n",
       "      <td>12.362040</td>\n",
       "      <td>-10.083072</td>\n",
       "      <td>8.930740</td>\n",
       "      <td>-7.258519</td>\n",
       "      <td>11.280698</td>\n",
       "      <td>15.821002</td>\n",
       "      <td>15.275602</td>\n",
       "      <td>-6.995349</td>\n",
       "      <td>-9.259321</td>\n",
       "      <td>-19.383577</td>\n",
       "    </tr>\n",
       "    <tr>\n",
       "      <th>1</th>\n",
       "      <td>-6.513353</td>\n",
       "      <td>10.219507</td>\n",
       "      <td>22.774885</td>\n",
       "      <td>5.793182</td>\n",
       "      <td>0.842148</td>\n",
       "      <td>-2.005332</td>\n",
       "      <td>0.583852</td>\n",
       "      <td>27.046608</td>\n",
       "      <td>-8.363188</td>\n",
       "      <td>5.787930</td>\n",
       "      <td>10.053491</td>\n",
       "      <td>-0.177268</td>\n",
       "      <td>17.956957</td>\n",
       "      <td>-5.550664</td>\n",
       "      <td>-1.731194</td>\n",
       "      <td>13.538224</td>\n",
       "      <td>2.503999</td>\n",
       "      <td>-23.657423</td>\n",
       "      <td>-12.014072</td>\n",
       "      <td>-26.464470</td>\n",
       "    </tr>\n",
       "    <tr>\n",
       "      <th>2</th>\n",
       "      <td>-4.910977</td>\n",
       "      <td>-0.500044</td>\n",
       "      <td>13.345302</td>\n",
       "      <td>0.722546</td>\n",
       "      <td>-0.947039</td>\n",
       "      <td>1.297585</td>\n",
       "      <td>-2.039895</td>\n",
       "      <td>24.530516</td>\n",
       "      <td>-13.656163</td>\n",
       "      <td>7.672295</td>\n",
       "      <td>14.052984</td>\n",
       "      <td>-5.775094</td>\n",
       "      <td>3.260350</td>\n",
       "      <td>-2.588560</td>\n",
       "      <td>8.765492</td>\n",
       "      <td>12.246681</td>\n",
       "      <td>12.438478</td>\n",
       "      <td>-5.045323</td>\n",
       "      <td>-16.026396</td>\n",
       "      <td>-24.081560</td>\n",
       "    </tr>\n",
       "    <tr>\n",
       "      <th>3</th>\n",
       "      <td>-1.970189</td>\n",
       "      <td>4.778407</td>\n",
       "      <td>3.501932</td>\n",
       "      <td>-0.633232</td>\n",
       "      <td>-1.337468</td>\n",
       "      <td>3.141069</td>\n",
       "      <td>-2.988959</td>\n",
       "      <td>8.763277</td>\n",
       "      <td>-6.587699</td>\n",
       "      <td>4.888575</td>\n",
       "      <td>6.781849</td>\n",
       "      <td>-6.280861</td>\n",
       "      <td>-1.043141</td>\n",
       "      <td>-1.191625</td>\n",
       "      <td>5.727579</td>\n",
       "      <td>5.218164</td>\n",
       "      <td>9.036375</td>\n",
       "      <td>-1.553489</td>\n",
       "      <td>-5.596236</td>\n",
       "      <td>-11.943043</td>\n",
       "    </tr>\n",
       "    <tr>\n",
       "      <th>4</th>\n",
       "      <td>-5.253091</td>\n",
       "      <td>5.110269</td>\n",
       "      <td>2.826038</td>\n",
       "      <td>4.196337</td>\n",
       "      <td>-3.017969</td>\n",
       "      <td>3.990367</td>\n",
       "      <td>0.948539</td>\n",
       "      <td>13.441119</td>\n",
       "      <td>-6.939054</td>\n",
       "      <td>7.521568</td>\n",
       "      <td>8.653923</td>\n",
       "      <td>-10.468246</td>\n",
       "      <td>1.854430</td>\n",
       "      <td>-3.667856</td>\n",
       "      <td>4.556310</td>\n",
       "      <td>8.392246</td>\n",
       "      <td>11.966322</td>\n",
       "      <td>-5.888298</td>\n",
       "      <td>-4.292925</td>\n",
       "      <td>-13.698944</td>\n",
       "    </tr>\n",
       "    <tr>\n",
       "      <th>...</th>\n",
       "      <td>...</td>\n",
       "      <td>...</td>\n",
       "      <td>...</td>\n",
       "      <td>...</td>\n",
       "      <td>...</td>\n",
       "      <td>...</td>\n",
       "      <td>...</td>\n",
       "      <td>...</td>\n",
       "      <td>...</td>\n",
       "      <td>...</td>\n",
       "      <td>...</td>\n",
       "      <td>...</td>\n",
       "      <td>...</td>\n",
       "      <td>...</td>\n",
       "      <td>...</td>\n",
       "      <td>...</td>\n",
       "      <td>...</td>\n",
       "      <td>...</td>\n",
       "      <td>...</td>\n",
       "      <td>...</td>\n",
       "    </tr>\n",
       "    <tr>\n",
       "      <th>2220</th>\n",
       "      <td>-0.282393</td>\n",
       "      <td>4.460206</td>\n",
       "      <td>-1.157061</td>\n",
       "      <td>15.513207</td>\n",
       "      <td>-1.791040</td>\n",
       "      <td>2.737876</td>\n",
       "      <td>-3.297978</td>\n",
       "      <td>27.620861</td>\n",
       "      <td>-4.997073</td>\n",
       "      <td>13.393831</td>\n",
       "      <td>20.838921</td>\n",
       "      <td>-10.893127</td>\n",
       "      <td>3.062176</td>\n",
       "      <td>-9.568429</td>\n",
       "      <td>1.208639</td>\n",
       "      <td>20.497805</td>\n",
       "      <td>14.472485</td>\n",
       "      <td>-3.537502</td>\n",
       "      <td>-3.612299</td>\n",
       "      <td>-18.795832</td>\n",
       "    </tr>\n",
       "    <tr>\n",
       "      <th>2221</th>\n",
       "      <td>-15.660360</td>\n",
       "      <td>-0.249352</td>\n",
       "      <td>21.080381</td>\n",
       "      <td>11.047357</td>\n",
       "      <td>-4.135333</td>\n",
       "      <td>-2.453878</td>\n",
       "      <td>3.722757</td>\n",
       "      <td>37.535599</td>\n",
       "      <td>-8.185534</td>\n",
       "      <td>14.710751</td>\n",
       "      <td>18.005985</td>\n",
       "      <td>-4.533679</td>\n",
       "      <td>7.159392</td>\n",
       "      <td>0.297471</td>\n",
       "      <td>1.742000</td>\n",
       "      <td>19.889923</td>\n",
       "      <td>5.929741</td>\n",
       "      <td>-14.304285</td>\n",
       "      <td>-20.718485</td>\n",
       "      <td>-30.128887</td>\n",
       "    </tr>\n",
       "    <tr>\n",
       "      <th>2222</th>\n",
       "      <td>-3.947306</td>\n",
       "      <td>1.768965</td>\n",
       "      <td>4.670837</td>\n",
       "      <td>4.159886</td>\n",
       "      <td>-3.229072</td>\n",
       "      <td>2.518986</td>\n",
       "      <td>1.341193</td>\n",
       "      <td>15.017084</td>\n",
       "      <td>-7.823566</td>\n",
       "      <td>8.097452</td>\n",
       "      <td>9.922553</td>\n",
       "      <td>-9.504729</td>\n",
       "      <td>2.756163</td>\n",
       "      <td>-5.586116</td>\n",
       "      <td>6.139001</td>\n",
       "      <td>9.408843</td>\n",
       "      <td>11.448212</td>\n",
       "      <td>-5.426867</td>\n",
       "      <td>-5.688855</td>\n",
       "      <td>-15.926993</td>\n",
       "    </tr>\n",
       "    <tr>\n",
       "      <th>2223</th>\n",
       "      <td>-3.960546</td>\n",
       "      <td>0.368544</td>\n",
       "      <td>11.095654</td>\n",
       "      <td>2.255783</td>\n",
       "      <td>-0.212781</td>\n",
       "      <td>0.830460</td>\n",
       "      <td>1.009383</td>\n",
       "      <td>18.723997</td>\n",
       "      <td>-10.883313</td>\n",
       "      <td>4.422714</td>\n",
       "      <td>9.848955</td>\n",
       "      <td>-5.090695</td>\n",
       "      <td>4.781502</td>\n",
       "      <td>-3.065320</td>\n",
       "      <td>4.323044</td>\n",
       "      <td>9.258154</td>\n",
       "      <td>8.679270</td>\n",
       "      <td>-7.451801</td>\n",
       "      <td>-10.827426</td>\n",
       "      <td>-16.828840</td>\n",
       "    </tr>\n",
       "    <tr>\n",
       "      <th>2224</th>\n",
       "      <td>-7.672527</td>\n",
       "      <td>1.962321</td>\n",
       "      <td>13.058124</td>\n",
       "      <td>1.896842</td>\n",
       "      <td>-2.259551</td>\n",
       "      <td>5.154415</td>\n",
       "      <td>-2.462934</td>\n",
       "      <td>30.297728</td>\n",
       "      <td>-14.555082</td>\n",
       "      <td>11.208417</td>\n",
       "      <td>16.744614</td>\n",
       "      <td>-10.759363</td>\n",
       "      <td>1.193638</td>\n",
       "      <td>-1.316369</td>\n",
       "      <td>8.184810</td>\n",
       "      <td>14.032096</td>\n",
       "      <td>16.542454</td>\n",
       "      <td>-5.877337</td>\n",
       "      <td>-19.013163</td>\n",
       "      <td>-27.263416</td>\n",
       "    </tr>\n",
       "  </tbody>\n",
       "</table>\n",
       "<p>2225 rows × 20 columns</p>\n",
       "</div>"
      ],
      "text/plain": [
       "             0          1          2          3         4         5   \\\n",
       "0     -5.289919  -8.190187  13.657852   6.673470 -0.653534 -2.791670   \n",
       "1     -6.513353  10.219507  22.774885   5.793182  0.842148 -2.005332   \n",
       "2     -4.910977  -0.500044  13.345302   0.722546 -0.947039  1.297585   \n",
       "3     -1.970189   4.778407   3.501932  -0.633232 -1.337468  3.141069   \n",
       "4     -5.253091   5.110269   2.826038   4.196337 -3.017969  3.990367   \n",
       "...         ...        ...        ...        ...       ...       ...   \n",
       "2220  -0.282393   4.460206  -1.157061  15.513207 -1.791040  2.737876   \n",
       "2221 -15.660360  -0.249352  21.080381  11.047357 -4.135333 -2.453878   \n",
       "2222  -3.947306   1.768965   4.670837   4.159886 -3.229072  2.518986   \n",
       "2223  -3.960546   0.368544  11.095654   2.255783 -0.212781  0.830460   \n",
       "2224  -7.672527   1.962321  13.058124   1.896842 -2.259551  5.154415   \n",
       "\n",
       "            6          7          8          9          10         11  \\\n",
       "0     7.325127  23.124979 -11.690960  10.610583  12.362040 -10.083072   \n",
       "1     0.583852  27.046608  -8.363188   5.787930  10.053491  -0.177268   \n",
       "2    -2.039895  24.530516 -13.656163   7.672295  14.052984  -5.775094   \n",
       "3    -2.988959   8.763277  -6.587699   4.888575   6.781849  -6.280861   \n",
       "4     0.948539  13.441119  -6.939054   7.521568   8.653923 -10.468246   \n",
       "...        ...        ...        ...        ...        ...        ...   \n",
       "2220 -3.297978  27.620861  -4.997073  13.393831  20.838921 -10.893127   \n",
       "2221  3.722757  37.535599  -8.185534  14.710751  18.005985  -4.533679   \n",
       "2222  1.341193  15.017084  -7.823566   8.097452   9.922553  -9.504729   \n",
       "2223  1.009383  18.723997 -10.883313   4.422714   9.848955  -5.090695   \n",
       "2224 -2.462934  30.297728 -14.555082  11.208417  16.744614 -10.759363   \n",
       "\n",
       "             12        13         14         15         16         17  \\\n",
       "0      8.930740 -7.258519  11.280698  15.821002  15.275602  -6.995349   \n",
       "1     17.956957 -5.550664  -1.731194  13.538224   2.503999 -23.657423   \n",
       "2      3.260350 -2.588560   8.765492  12.246681  12.438478  -5.045323   \n",
       "3     -1.043141 -1.191625   5.727579   5.218164   9.036375  -1.553489   \n",
       "4      1.854430 -3.667856   4.556310   8.392246  11.966322  -5.888298   \n",
       "...         ...       ...        ...        ...        ...        ...   \n",
       "2220   3.062176 -9.568429   1.208639  20.497805  14.472485  -3.537502   \n",
       "2221   7.159392  0.297471   1.742000  19.889923   5.929741 -14.304285   \n",
       "2222   2.756163 -5.586116   6.139001   9.408843  11.448212  -5.426867   \n",
       "2223   4.781502 -3.065320   4.323044   9.258154   8.679270  -7.451801   \n",
       "2224   1.193638 -1.316369   8.184810  14.032096  16.542454  -5.877337   \n",
       "\n",
       "             18         19  \n",
       "0     -9.259321 -19.383577  \n",
       "1    -12.014072 -26.464470  \n",
       "2    -16.026396 -24.081560  \n",
       "3     -5.596236 -11.943043  \n",
       "4     -4.292925 -13.698944  \n",
       "...         ...        ...  \n",
       "2220  -3.612299 -18.795832  \n",
       "2221 -20.718485 -30.128887  \n",
       "2222  -5.688855 -15.926993  \n",
       "2223 -10.827426 -16.828840  \n",
       "2224 -19.013163 -27.263416  \n",
       "\n",
       "[2225 rows x 20 columns]"
      ]
     },
     "execution_count": 107,
     "metadata": {},
     "output_type": "execute_result"
    }
   ],
   "source": [
    "# Create a dictionary of word TF-IDF scores\n",
    "tfidf_dict = {word: tfidf_matrix[:, idx].sum() for idx, word in enumerate(tfidf_feature_names)}\n",
    "\n",
    "# Function to compute document vectors\n",
    "def document_vector(doc):\n",
    "    # Compute the weighted average Word2Vec vector of a document using TF-IDF\n",
    "    vectors = []\n",
    "    for word in doc:\n",
    "        if word in w2v_model.wv and word in tfidf_dict:\n",
    "            vectors.append(w2v_model.wv[word] * tfidf_dict[word])  # Weight Word2Vec by TF-IDF\n",
    "    return np.mean(vectors, axis=0) if vectors else np.zeros(w2v_model.vector_size)\n",
    "\n",
    "# Compute document vectors\n",
    "doc_vectors = np.array([document_vector(doc) for doc in tokenized_docs])\n",
    "\n",
    "# Convert to DataFrame\n",
    "feature_table= pd.DataFrame(doc_vectors)\n",
    "\n",
    "# Print the enhanced document representations\n",
    "feature_table "
   ]
  },
  {
   "cell_type": "code",
   "execution_count": 36,
   "id": "331776ec-d94a-4483-b232-bc5df4e555aa",
   "metadata": {},
   "outputs": [
    {
     "data": {
      "text/plain": [
       "7.764445504644187"
      ]
     },
     "execution_count": 36,
     "metadata": {},
     "output_type": "execute_result"
    }
   ],
   "source": [
    "# tf-idf compressed into a single column\n",
    "tfidf_dict['political'] "
   ]
  },
  {
   "cell_type": "code",
   "execution_count": 37,
   "id": "29d7fbe1-ffa0-4a33-af4f-969768e7b088",
   "metadata": {},
   "outputs": [
    {
     "data": {
      "text/plain": [
       "array([-5.9395590e+00,  9.0099134e+00,  5.5202608e+00,  4.5693607e+00,\n",
       "        3.3926258e+00, -7.4357066e+00, -2.4387641e+00,  1.4228479e+01,\n",
       "       -3.7321534e+00, -6.1027422e+00, -2.7783198e+00, -9.5074253e+00,\n",
       "       -3.5505190e+00,  1.9545668e+00,  2.1437478e+00, -1.9090803e+00,\n",
       "       -2.9696608e-01, -5.8365479e+00,  3.3469052e+00, -7.6279020e+00,\n",
       "        2.6540766e+00,  2.1341848e+00,  1.0146332e+01, -6.1685400e+00,\n",
       "        1.0416157e+00,  7.5700656e-02, -1.0901396e+01, -2.5411935e+00,\n",
       "       -4.7475371e+00, -2.8458741e+00,  4.7157960e+00,  1.2066834e+00,\n",
       "       -6.2376904e-01, -4.8261061e+00, -3.0570951e+00,  4.2152872e+00,\n",
       "        3.2085888e+00, -5.4438314e+00, -7.1332693e+00, -9.7286282e+00,\n",
       "        2.6435418e+00, -2.6224296e+00, -1.8873359e+00, -5.2734642e+00,\n",
       "        5.9974080e-01, -5.5546331e+00, -5.5852995e+00, -1.6719967e+00,\n",
       "        3.4532804e+00,  2.0588336e+00,  1.2421910e+00, -6.6763220e+00,\n",
       "        5.7353401e-01, -8.2259536e-01,  1.0271893e-02,  4.7012827e-01,\n",
       "        3.1382217e+00, -5.2557793e+00, -5.1401320e+00,  2.8613441e+00,\n",
       "        3.2902608e+00,  9.9555855e+00, -6.1657727e-01, -1.5037347e+00,\n",
       "       -6.0169792e+00,  6.6909695e+00, -7.9302382e-01,  6.2097257e-01,\n",
       "       -1.4287716e+00,  5.9792261e+00, -5.0918350e+00,  2.1092017e+00,\n",
       "        3.4791522e+00, -1.3042718e+00,  3.9533229e+00, -1.0388355e-01,\n",
       "       -1.6146019e+00, -2.4176321e+00, -4.5142536e+00, -7.6794696e-01,\n",
       "       -3.3129799e+00, -1.3651676e+00, -1.4726999e+00,  9.7870750e+00,\n",
       "       -7.0920038e+00, -2.2162304e+00,  9.6334469e-01,  5.6566453e+00,\n",
       "        6.3923616e+00, -4.0472250e+00,  5.9813018e+00,  6.4615601e-01,\n",
       "       -5.3153265e-01,  1.6830120e+00,  1.4645485e+01,  1.0072718e+01,\n",
       "       -6.0875812e+00, -3.6841421e+00, -6.4811277e+00,  3.8046556e+00],\n",
       "      dtype=float32)"
      ]
     },
     "execution_count": 37,
     "metadata": {},
     "output_type": "execute_result"
    }
   ],
   "source": [
    "# sample illustration\n",
    "v1 = w2v_model.wv['political'] * tfidf_dict['political']\n",
    "v2 = w2v_model.wv['political'] * tfidf_dict['sport']\n",
    "vecs  = [v1, v2]\n",
    "\n",
    "# np.mean(vecs)\n",
    "np.mean(vecs, axis=0)"
   ]
  },
  {
   "cell_type": "code",
   "execution_count": 38,
   "id": "3f0e297b-3cf2-49a0-b5df-60191727f4f5",
   "metadata": {},
   "outputs": [],
   "source": [
    "# Latent Dirichlet Allocation (LDA)\n",
    "# A probabilistic model that groups words into topics.\n",
    "# Improves interpretability by learning topic distributions.\n",
    "\n",
    "# How to Use:\n",
    "# Convert text into a TF-IDF matrix.\n",
    "# Apply LDA to extract latent topics.\n",
    "# Use the topic distributions as features for machine learning.\n",
    "# Use case: Topic modeling, document classification."
   ]
  },
  {
   "cell_type": "markdown",
   "id": "1a45dfd9-a474-4ec3-a87e-b4e07e35e545",
   "metadata": {},
   "source": [
    "#### Enhanced TF-IDF with Latent Dirichlet Allocation"
   ]
  },
  {
   "cell_type": "code",
   "execution_count": 77,
   "id": "673d417b-a20d-40cc-a7fe-4df0063ae170",
   "metadata": {},
   "outputs": [
    {
     "data": {
      "text/plain": [
       "array([[ 0.2414811 , -0.10667261,  0.14851288, ...,  0.00148061,\n",
       "         0.01467182,  0.00455022],\n",
       "       [ 0.13521581,  0.05735575,  0.00761058, ..., -0.01025053,\n",
       "        -0.00629758,  0.00261417],\n",
       "       [ 0.15294184, -0.06199816, -0.0840311 , ..., -0.02906443,\n",
       "        -0.06666243,  0.03666698],\n",
       "       ...,\n",
       "       [ 0.10380213, -0.06239905, -0.01588652, ..., -0.03201202,\n",
       "        -0.02515142, -0.06712353],\n",
       "       [ 0.1564709 ,  0.03061864, -0.02840157, ..., -0.0024427 ,\n",
       "         0.01249253,  0.00642703],\n",
       "       [ 0.16601515, -0.08091822, -0.11028973, ...,  0.04242509,\n",
       "         0.01717026, -0.04306631]])"
      ]
     },
     "execution_count": 77,
     "metadata": {},
     "output_type": "execute_result"
    }
   ],
   "source": [
    "from sklearn.decomposition import TruncatedSVD\n",
    "from sklearn.feature_extraction.text import TfidfVectorizer\n",
    "\n",
    "# docs = [\"AI is the future\", \"Machine learning is a subset of AI\", \"Deep learning is powerful\"]\n",
    "\n",
    "tfidf = TfidfVectorizer()\n",
    "X = tfidf.fit_transform(documents)\n",
    "\n",
    "lsa = TruncatedSVD(n_components=200)  # Reduce to 2 latent topics\n",
    "X_lsa = lsa.fit_transform(X)\n",
    "# print(X_lsa)  # Reduced feature matrix\n",
    "X_lsa"
   ]
  },
  {
   "cell_type": "code",
   "execution_count": null,
   "id": "b4c80018-1f4e-47ba-bd5a-626e23358272",
   "metadata": {},
   "outputs": [],
   "source": []
  },
  {
   "cell_type": "code",
   "execution_count": 40,
   "id": "638ed348-7f38-444a-9e6c-603c24a73651",
   "metadata": {},
   "outputs": [],
   "source": [
    "clean_dataset.category = clean_dataset.category.astype('category')"
   ]
  },
  {
   "cell_type": "code",
   "execution_count": 41,
   "id": "23861549-0d60-47ac-84c5-12cc41faf92f",
   "metadata": {},
   "outputs": [
    {
     "data": {
      "text/plain": [
       "0                tech\n",
       "1            business\n",
       "2               sport\n",
       "3               sport\n",
       "4       entertainment\n",
       "            ...      \n",
       "2220         business\n",
       "2221         politics\n",
       "2222    entertainment\n",
       "2223         politics\n",
       "2224            sport\n",
       "Name: category, Length: 2225, dtype: category\n",
       "Categories (5, object): ['business', 'entertainment', 'politics', 'sport', 'tech']"
      ]
     },
     "execution_count": 41,
     "metadata": {},
     "output_type": "execute_result"
    }
   ],
   "source": [
    "clean_dataset.category"
   ]
  },
  {
   "cell_type": "code",
   "execution_count": 42,
   "id": "a17529fb-77cd-4b71-8c9a-6c8354b69e02",
   "metadata": {},
   "outputs": [
    {
     "data": {
      "text/plain": [
       "['tech', 'business', 'sport', 'entertainment', 'politics']\n",
       "Categories (5, object): ['business', 'entertainment', 'politics', 'sport', 'tech']"
      ]
     },
     "execution_count": 42,
     "metadata": {},
     "output_type": "execute_result"
    }
   ],
   "source": [
    "encoded_lbl = clean_dataset.category.cat.codes\n",
    "clean_dataset.category.unique()"
   ]
  },
  {
   "cell_type": "code",
   "execution_count": null,
   "id": "dd34a4a0-66f2-492c-b1f9-85cb43773606",
   "metadata": {},
   "outputs": [],
   "source": []
  },
  {
   "cell_type": "code",
   "execution_count": 43,
   "id": "f3c3180b-3af6-4ef5-b12e-7e0dd2eef0cc",
   "metadata": {},
   "outputs": [
    {
     "data": {
      "text/html": [
       "<div>\n",
       "<style scoped>\n",
       "    .dataframe tbody tr th:only-of-type {\n",
       "        vertical-align: middle;\n",
       "    }\n",
       "\n",
       "    .dataframe tbody tr th {\n",
       "        vertical-align: top;\n",
       "    }\n",
       "\n",
       "    .dataframe thead th {\n",
       "        text-align: right;\n",
       "    }\n",
       "</style>\n",
       "<table border=\"1\" class=\"dataframe\">\n",
       "  <thead>\n",
       "    <tr style=\"text-align: right;\">\n",
       "      <th></th>\n",
       "      <th>category</th>\n",
       "      <th>lbl</th>\n",
       "    </tr>\n",
       "  </thead>\n",
       "  <tbody>\n",
       "    <tr>\n",
       "      <th>0</th>\n",
       "      <td>tech</td>\n",
       "      <td>4</td>\n",
       "    </tr>\n",
       "    <tr>\n",
       "      <th>1</th>\n",
       "      <td>business</td>\n",
       "      <td>0</td>\n",
       "    </tr>\n",
       "    <tr>\n",
       "      <th>2</th>\n",
       "      <td>sport</td>\n",
       "      <td>3</td>\n",
       "    </tr>\n",
       "    <tr>\n",
       "      <th>3</th>\n",
       "      <td>sport</td>\n",
       "      <td>3</td>\n",
       "    </tr>\n",
       "    <tr>\n",
       "      <th>4</th>\n",
       "      <td>entertainment</td>\n",
       "      <td>1</td>\n",
       "    </tr>\n",
       "    <tr>\n",
       "      <th>...</th>\n",
       "      <td>...</td>\n",
       "      <td>...</td>\n",
       "    </tr>\n",
       "    <tr>\n",
       "      <th>2220</th>\n",
       "      <td>business</td>\n",
       "      <td>0</td>\n",
       "    </tr>\n",
       "    <tr>\n",
       "      <th>2221</th>\n",
       "      <td>politics</td>\n",
       "      <td>2</td>\n",
       "    </tr>\n",
       "    <tr>\n",
       "      <th>2222</th>\n",
       "      <td>entertainment</td>\n",
       "      <td>1</td>\n",
       "    </tr>\n",
       "    <tr>\n",
       "      <th>2223</th>\n",
       "      <td>politics</td>\n",
       "      <td>2</td>\n",
       "    </tr>\n",
       "    <tr>\n",
       "      <th>2224</th>\n",
       "      <td>sport</td>\n",
       "      <td>3</td>\n",
       "    </tr>\n",
       "  </tbody>\n",
       "</table>\n",
       "<p>2225 rows × 2 columns</p>\n",
       "</div>"
      ],
      "text/plain": [
       "           category  lbl\n",
       "0              tech    4\n",
       "1          business    0\n",
       "2             sport    3\n",
       "3             sport    3\n",
       "4     entertainment    1\n",
       "...             ...  ...\n",
       "2220       business    0\n",
       "2221       politics    2\n",
       "2222  entertainment    1\n",
       "2223       politics    2\n",
       "2224          sport    3\n",
       "\n",
       "[2225 rows x 2 columns]"
      ]
     },
     "execution_count": 43,
     "metadata": {},
     "output_type": "execute_result"
    }
   ],
   "source": [
    "clean_dataset['lbl'] = encoded_lbl\n",
    "clean_dataset[['category', 'lbl']]"
   ]
  },
  {
   "cell_type": "code",
   "execution_count": 44,
   "id": "67da2d59-5d7b-4948-a31d-c54fc92a4759",
   "metadata": {},
   "outputs": [
    {
     "data": {
      "text/plain": [
       "array([4, 0, 3, 1, 2], dtype=int8)"
      ]
     },
     "execution_count": 44,
     "metadata": {},
     "output_type": "execute_result"
    }
   ],
   "source": [
    "encoded_lbl.unique()"
   ]
  },
  {
   "cell_type": "code",
   "execution_count": 45,
   "id": "6a261192-536c-49fa-a2b3-8a9c3208ebbf",
   "metadata": {},
   "outputs": [
    {
     "data": {
      "text/plain": [
       "{'tech': 4, 'business': 0, 'sport': 3, 'entertainment': 1, 'politics': 2}"
      ]
     },
     "execution_count": 45,
     "metadata": {},
     "output_type": "execute_result"
    }
   ],
   "source": [
    "label_encode =  dict(zip( clean_dataset.category.unique() , encoded_lbl.unique() ))\n",
    "label_encode"
   ]
  },
  {
   "cell_type": "code",
   "execution_count": 108,
   "id": "e741e4d6-0533-4a61-8079-51ae10e48638",
   "metadata": {},
   "outputs": [],
   "source": [
    "# splitting dependent and independent variable\n",
    "feature_table['label'] = encoded_lbl\n",
    "X = feature_table.drop(columns=['label'])\n",
    "y = feature_table['label']"
   ]
  },
  {
   "cell_type": "code",
   "execution_count": 89,
   "id": "83788d61-5f0f-43aa-8c86-9333278b83a2",
   "metadata": {},
   "outputs": [
    {
     "data": {
      "text/plain": [
       "(2225, 100)"
      ]
     },
     "execution_count": 89,
     "metadata": {},
     "output_type": "execute_result"
    }
   ],
   "source": [
    "X.shape"
   ]
  },
  {
   "cell_type": "code",
   "execution_count": 47,
   "id": "bc77f70b-71d2-45a2-abe3-e6e2054bbb0b",
   "metadata": {},
   "outputs": [],
   "source": [
    "tfidf_X_train, tfidf_X_test, tfidf_y_train, tfidf_y_test = train_test_split(tfidf_matrix.toarray(), y , test_size=0.2, stratify=y, random_state=42)"
   ]
  },
  {
   "cell_type": "code",
   "execution_count": 78,
   "id": "0150e5ef-0779-4115-ad9a-7e1f160b87eb",
   "metadata": {},
   "outputs": [],
   "source": [
    "# data splitting\n",
    "lsa_X_train, lsa_X_test, lsa_y_train, lsa_y_test = train_test_split(X_lsa, y, test_size=0.2, stratify=y, random_state=42) "
   ]
  },
  {
   "cell_type": "code",
   "execution_count": 109,
   "id": "de463d44-9766-41e3-8ed3-55eae313571b",
   "metadata": {},
   "outputs": [],
   "source": [
    "tfidfed_X_train, tfidfed_X_test, tfidfed_y_train, tfidfed_y_test = train_test_split(X, y, test_size=0.2, stratify=y, random_state=42)"
   ]
  },
  {
   "cell_type": "code",
   "execution_count": 85,
   "id": "aaa9a6ae-26e1-47af-82c6-9dbaf9a48bb1",
   "metadata": {},
   "outputs": [],
   "source": [
    "# tfidfed_X_train.shape"
   ]
  },
  {
   "cell_type": "code",
   "execution_count": 50,
   "id": "a58ecb42-42db-4489-b4a3-0ce2fc551eeb",
   "metadata": {},
   "outputs": [],
   "source": [
    "import tensorflow as tf\n",
    "from tensorflow import keras"
   ]
  },
  {
   "cell_type": "code",
   "execution_count": 157,
   "id": "23b5520e-b05f-427c-9541-f215ffe98790",
   "metadata": {},
   "outputs": [],
   "source": [
    "# X_train.shape[1]"
   ]
  },
  {
   "cell_type": "markdown",
   "id": "74ab45f9-2c52-443b-933a-54e49ea20086",
   "metadata": {},
   "source": [
    "#### LSTM MODEL +  TF-IDF with Latent Dirichlet Allocation"
   ]
  },
  {
   "cell_type": "code",
   "execution_count": 80,
   "id": "d87e5196-c419-48e5-a8af-60419fac2b4f",
   "metadata": {},
   "outputs": [
    {
     "name": "stdout",
     "output_type": "stream",
     "text": [
      "Model: \"sequential_10\"\n",
      "_________________________________________________________________\n",
      " Layer (type)                Output Shape              Param #   \n",
      "=================================================================\n",
      " dense_40 (Dense)            (None, 64)                12864     \n",
      "                                                                 \n",
      " dense_41 (Dense)            (None, 32)                2080      \n",
      "                                                                 \n",
      " dense_42 (Dense)            (None, 16)                528       \n",
      "                                                                 \n",
      " dense_43 (Dense)            (None, 5)                 85        \n",
      "                                                                 \n",
      "=================================================================\n",
      "Total params: 15,557\n",
      "Trainable params: 15,557\n",
      "Non-trainable params: 0\n",
      "_________________________________________________________________\n"
     ]
    }
   ],
   "source": [
    "import tensorflow as tf\n",
    "from tensorflow import keras\n",
    "from tensorflow.keras.models import Sequential\n",
    "from tensorflow.keras.layers import Dense\n",
    "\n",
    "# Define input shape\n",
    "# input_shape = (X_train.shape[1],)  # Number of features\n",
    "\n",
    "# Build the ANN model\n",
    "lstm_lsa_model = Sequential([\n",
    "    Dense(64, activation='relu', input_shape=(200,)),\n",
    "    Dense(32, activation='relu'),\n",
    "    Dense(16, activation='relu'),\n",
    "    Dense(5, activation='sigmoid') \n",
    "])\n",
    "\n",
    "# Compile the model\n",
    "lstm_lsa_model.compile(optimizer='adam',\n",
    "              loss='sparse_categorical_crossentropy',\n",
    "              metrics=['accuracy'])\n",
    "\n",
    "# Summary of the model\n",
    "lstm_lsa_model.summary()\n"
   ]
  },
  {
   "cell_type": "markdown",
   "id": "f1885392-10e0-461b-baea-09731679f393",
   "metadata": {},
   "source": [
    "#### LSTM MODEL +  TF-IDF... + Embedding (W2V) "
   ]
  },
  {
   "cell_type": "code",
   "execution_count": 110,
   "id": "6b196ace-56e8-4365-ae31-15dbf6065bb8",
   "metadata": {},
   "outputs": [
    {
     "name": "stdout",
     "output_type": "stream",
     "text": [
      "Model: \"sequential_14\"\n",
      "_________________________________________________________________\n",
      " Layer (type)                Output Shape              Param #   \n",
      "=================================================================\n",
      " dense_56 (Dense)            (None, 64)                1344      \n",
      "                                                                 \n",
      " dense_57 (Dense)            (None, 32)                2080      \n",
      "                                                                 \n",
      " dense_58 (Dense)            (None, 16)                528       \n",
      "                                                                 \n",
      " dense_59 (Dense)            (None, 5)                 85        \n",
      "                                                                 \n",
      "=================================================================\n",
      "Total params: 4,037\n",
      "Trainable params: 4,037\n",
      "Non-trainable params: 0\n",
      "_________________________________________________________________\n"
     ]
    }
   ],
   "source": [
    "# TF-IDF WITH WORD2VEC....\n",
    "\n",
    "import tensorflow as tf\n",
    "from tensorflow import keras\n",
    "from tensorflow.keras.models import Sequential\n",
    "from tensorflow.keras.layers import Dense\n",
    "\n",
    "# Define input shape\n",
    "# input_shape = (X_train.shape[1],)  # Number of features\n",
    "\n",
    "# Build the ANN model\n",
    "lstm_tfidfed_model = Sequential([\n",
    "    Dense(64, activation='relu', input_shape=(20,)),\n",
    "    Dense(32, activation='relu'),\n",
    "    Dense(16, activation='relu'),\n",
    "    Dense(5, activation='sigmoid')  # 5-class output\n",
    "])\n",
    "\n",
    "# Compile the model\n",
    "lstm_tfidfed_model.compile(optimizer='adam',\n",
    "              loss='sparse_categorical_crossentropy',\n",
    "              metrics=['accuracy'])\n",
    "\n",
    "# Summary of the model\n",
    "lstm_tfidfed_model.summary()"
   ]
  },
  {
   "cell_type": "code",
   "execution_count": 111,
   "id": "061bc972-d402-4b6c-a022-ae9cf2007283",
   "metadata": {},
   "outputs": [
    {
     "data": {
      "text/plain": [
       "(1780, 20)"
      ]
     },
     "execution_count": 111,
     "metadata": {},
     "output_type": "execute_result"
    }
   ],
   "source": [
    "tfidfed_X_train.shape"
   ]
  },
  {
   "cell_type": "code",
   "execution_count": 62,
   "id": "41ad3b8d-b96e-4629-9acb-586c605eb315",
   "metadata": {},
   "outputs": [
    {
     "name": "stdout",
     "output_type": "stream",
     "text": [
      "Model: \"sequential_6\"\n",
      "_________________________________________________________________\n",
      " Layer (type)                Output Shape              Param #   \n",
      "=================================================================\n",
      " dense_24 (Dense)            (None, 64)                1894400   \n",
      "                                                                 \n",
      " dense_25 (Dense)            (None, 32)                2080      \n",
      "                                                                 \n",
      " dropout_1 (Dropout)         (None, 32)                0         \n",
      "                                                                 \n",
      " dense_26 (Dense)            (None, 16)                528       \n",
      "                                                                 \n",
      " dense_27 (Dense)            (None, 5)                 85        \n",
      "                                                                 \n",
      "=================================================================\n",
      "Total params: 1,897,093\n",
      "Trainable params: 1,897,093\n",
      "Non-trainable params: 0\n",
      "_________________________________________________________________\n"
     ]
    }
   ],
   "source": [
    "# TF-IDF WITH WORD2VEC....\n",
    "\n",
    "import tensorflow as tf\n",
    "from tensorflow import keras\n",
    "from tensorflow.keras.models import Sequential\n",
    "from tensorflow.keras.layers import Dense\n",
    "\n",
    "# Define input shape\n",
    "# input_shape = (X_train.shape[1],)  # Number of features\n",
    "\n",
    "# Build the ANN model\n",
    "lstm_tfidf_model = Sequential([\n",
    "    Dense(64, activation='relu', input_shape=(29599,)),\n",
    "    Dense(32, activation='relu'),\n",
    "    keras.layers.Dropout(0.5),\n",
    "    Dense(16, activation='relu'),\n",
    "    Dense(5, activation='sigmoid')  # 5-class output\n",
    "])\n",
    "\n",
    "# Compile the model\n",
    "lstm_tfidf_model.compile(optimizer='adam',\n",
    "              loss='sparse_categorical_crossentropy',\n",
    "              metrics=['accuracy'])\n",
    "\n",
    "# Summary of the model\n",
    "lstm_tfidf_model.summary()"
   ]
  },
  {
   "cell_type": "code",
   "execution_count": 81,
   "id": "6d5b5c4a-263d-4528-9b79-1f01712349c9",
   "metadata": {},
   "outputs": [
    {
     "name": "stdout",
     "output_type": "stream",
     "text": [
      "Epoch 1/10\n",
      "56/56 [==============================] - 1s 6ms/step - loss: 1.5742 - accuracy: 0.2669 - val_loss: 1.5041 - val_accuracy: 0.3124\n",
      "Epoch 2/10\n",
      "56/56 [==============================] - 0s 3ms/step - loss: 1.2675 - accuracy: 0.6517 - val_loss: 0.9442 - val_accuracy: 0.8449\n",
      "Epoch 3/10\n",
      "56/56 [==============================] - 0s 3ms/step - loss: 0.5657 - accuracy: 0.9382 - val_loss: 0.3278 - val_accuracy: 0.9663\n",
      "Epoch 4/10\n",
      "56/56 [==============================] - 0s 3ms/step - loss: 0.1903 - accuracy: 0.9775 - val_loss: 0.1400 - val_accuracy: 0.9708\n",
      "Epoch 5/10\n",
      "56/56 [==============================] - 0s 3ms/step - loss: 0.0958 - accuracy: 0.9843 - val_loss: 0.0996 - val_accuracy: 0.9775\n",
      "Epoch 6/10\n",
      "56/56 [==============================] - 0s 3ms/step - loss: 0.0678 - accuracy: 0.9876 - val_loss: 0.0869 - val_accuracy: 0.9753\n",
      "Epoch 7/10\n",
      "56/56 [==============================] - 0s 3ms/step - loss: 0.0509 - accuracy: 0.9904 - val_loss: 0.0687 - val_accuracy: 0.9820\n",
      "Epoch 8/10\n",
      "56/56 [==============================] - 0s 5ms/step - loss: 0.0407 - accuracy: 0.9938 - val_loss: 0.0629 - val_accuracy: 0.9798\n",
      "Epoch 9/10\n",
      "56/56 [==============================] - 0s 4ms/step - loss: 0.0338 - accuracy: 0.9938 - val_loss: 0.0525 - val_accuracy: 0.9865\n",
      "Epoch 10/10\n",
      "56/56 [==============================] - 0s 3ms/step - loss: 0.0283 - accuracy: 0.9955 - val_loss: 0.0576 - val_accuracy: 0.9798\n"
     ]
    },
    {
     "data": {
      "text/plain": [
       "<keras.callbacks.History at 0x1d78a7b62b0>"
      ]
     },
     "execution_count": 81,
     "metadata": {},
     "output_type": "execute_result"
    }
   ],
   "source": [
    "lstm_lsa_model.fit(lsa_X_train, lsa_y_train , validation_data=(lsa_X_test, lsa_y_test) , epochs=10)"
   ]
  },
  {
   "cell_type": "code",
   "execution_count": 163,
   "id": "9de2db8e-7c8f-4629-84cf-0cba963c202d",
   "metadata": {},
   "outputs": [],
   "source": [
    "# Enhanced TF-IDF with Latent Dirichlet Allocation"
   ]
  },
  {
   "cell_type": "code",
   "execution_count": 95,
   "id": "9e2f1699-638b-4303-bf5c-94c328497ba8",
   "metadata": {},
   "outputs": [],
   "source": [
    "# ploty graph \n",
    "def plot_metric_graph(model, title):\n",
    "    acc  = model.history.history['accuracy']\n",
    "    loss = model.history.history['loss']\n",
    "    val_acc  = model.history.history['val_accuracy']\n",
    "    val_loss = model.history.history['val_loss']\n",
    "    plt.figure(figsize=(4,4))\n",
    "    plt.plot(acc)\n",
    "    plt.plot(loss)\n",
    "    plt.plot(val_acc)\n",
    "    plt.plot(val_loss)\n",
    "    plt.legend(labels=['acc', 'loss', 'val_acc', 'val_loss'])\n",
    "    plt.ylabel('Accuracy/Loss')\n",
    "    plt.xlabel('Epoch')\n",
    "    plt.title(title)\n",
    "    plt.grid()\n",
    "    plt.show()"
   ]
  },
  {
   "cell_type": "code",
   "execution_count": 164,
   "id": "73051dcc-5558-412b-abd0-7fbef47e0373",
   "metadata": {},
   "outputs": [
    {
     "data": {
      "image/png": "[encoded data removed]",
      "text/plain": [
       "<Figure size 400x400 with 1 Axes>"
      ]
     },
     "metadata": {},
     "output_type": "display_data"
    }
   ],
   "source": [
    "# ploty graph \n",
    "def plot_metric_graph(model, title):\n",
    "    acc  = model.history.history['accuracy']\n",
    "    loss = model.history.history['loss']\n",
    "    val_acc  = model.history.history['val_accuracy']\n",
    "    val_loss = model.history.history['val_loss']\n",
    "    plt.figure(figsize=(4,4))\n",
    "    plt.plot(acc)\n",
    "    plt.plot(loss)\n",
    "    plt.plot(val_acc)\n",
    "    plt.plot(val_loss)\n",
    "    plt.legend(labels=['acc', 'loss', 'val_acc', 'val_loss'])\n",
    "    plt.ylabel('Accuracy/Loss')\n",
    "    plt.xlabel('Epoch')\n",
    "    plt.title(title)\n",
    "    plt.grid()\n",
    "    plt.show()\n",
    "   \n",
    "plot_metric_graph(lstm_lsa_model, 'LSTM MODEL +  TF-IDF with Latent Dirichlet Allocation')"
   ]
  },
  {
   "cell_type": "code",
   "execution_count": 165,
   "id": "53471c4b-6861-4fb3-a4b5-d0a9b9b5bf0d",
   "metadata": {},
   "outputs": [
    {
     "name": "stdout",
     "output_type": "stream",
     "text": [
      "14/14 [==============================] - 0s 4ms/step\n",
      "              precision    recall  f1-score   support\n",
      "\n",
      "           0       0.96      0.98      0.97       102\n",
      "           1       0.96      1.00      0.98        77\n",
      "           2       0.98      0.95      0.96        84\n",
      "           3       0.98      1.00      0.99       102\n",
      "           4       1.00      0.94      0.97        80\n",
      "\n",
      "    accuracy                           0.98       445\n",
      "   macro avg       0.98      0.97      0.97       445\n",
      "weighted avg       0.98      0.98      0.98       445\n",
      "\n"
     ]
    },
    {
     "data": {
      "text/html": [
       "<div>\n",
       "<style scoped>\n",
       "    .dataframe tbody tr th:only-of-type {\n",
       "        vertical-align: middle;\n",
       "    }\n",
       "\n",
       "    .dataframe tbody tr th {\n",
       "        vertical-align: top;\n",
       "    }\n",
       "\n",
       "    .dataframe thead th {\n",
       "        text-align: right;\n",
       "    }\n",
       "</style>\n",
       "<table border=\"1\" class=\"dataframe\">\n",
       "  <thead>\n",
       "    <tr style=\"text-align: right;\">\n",
       "      <th></th>\n",
       "      <th>0</th>\n",
       "    </tr>\n",
       "  </thead>\n",
       "  <tbody>\n",
       "    <tr>\n",
       "      <th>accuracy</th>\n",
       "      <td>0.975281</td>\n",
       "    </tr>\n",
       "    <tr>\n",
       "      <th>precision</th>\n",
       "      <td>0.975683</td>\n",
       "    </tr>\n",
       "    <tr>\n",
       "      <th>recall</th>\n",
       "      <td>0.975281</td>\n",
       "    </tr>\n",
       "    <tr>\n",
       "      <th>f1-score</th>\n",
       "      <td>0.975170</td>\n",
       "    </tr>\n",
       "  </tbody>\n",
       "</table>\n",
       "</div>"
      ],
      "text/plain": [
       "                  0\n",
       "accuracy   0.975281\n",
       "precision  0.975683\n",
       "recall     0.975281\n",
       "f1-score   0.975170"
      ]
     },
     "execution_count": 165,
     "metadata": {},
     "output_type": "execute_result"
    }
   ],
   "source": [
    "pred = [np.argmax(pre) for pre in lstm_lsa_model.predict(lsa_X_test)]\n",
    "report = classification_report(lsa_y_test, pred)\n",
    "print(report)\n",
    "lstm_lsa_result = {\n",
    "    'accuracy':accuracy_score(lsa_y_test, pred), \n",
    "    'precision':precision_score(lsa_y_test, pred, average='weighted'),\n",
    "    'recall': recall_score(lsa_y_test, pred,  average='weighted'), \n",
    "    'f1-score': f1_score(lsa_y_test, pred,  average='weighted')\n",
    "}\n",
    "\n",
    "\n",
    "\n",
    "pd.DataFrame(pd.Series(lstm_lsa_result))"
   ]
  },
  {
   "cell_type": "code",
   "execution_count": 112,
   "id": "b82f3045-9b21-4209-bc46-7c5f80ebb819",
   "metadata": {},
   "outputs": [
    {
     "name": "stdout",
     "output_type": "stream",
     "text": [
      "Epoch 1/10\n",
      "56/56 [==============================] - 1s 6ms/step - loss: 1.3668 - accuracy: 0.5281 - val_loss: 0.5813 - val_accuracy: 0.8337\n",
      "Epoch 2/10\n",
      "56/56 [==============================] - 0s 3ms/step - loss: 0.4979 - accuracy: 0.8567 - val_loss: 0.3934 - val_accuracy: 0.8809\n",
      "Epoch 3/10\n",
      "56/56 [==============================] - 0s 6ms/step - loss: 0.3780 - accuracy: 0.8837 - val_loss: 0.2821 - val_accuracy: 0.9169\n",
      "Epoch 4/10\n",
      "56/56 [==============================] - 0s 4ms/step - loss: 0.3179 - accuracy: 0.9045 - val_loss: 0.2725 - val_accuracy: 0.9191\n",
      "Epoch 5/10\n",
      "56/56 [==============================] - 0s 3ms/step - loss: 0.2895 - accuracy: 0.9107 - val_loss: 0.2303 - val_accuracy: 0.9371\n",
      "Epoch 6/10\n",
      "56/56 [==============================] - 0s 3ms/step - loss: 0.2843 - accuracy: 0.9084 - val_loss: 0.2285 - val_accuracy: 0.9393\n",
      "Epoch 7/10\n",
      "56/56 [==============================] - 0s 3ms/step - loss: 0.2860 - accuracy: 0.9107 - val_loss: 0.2437 - val_accuracy: 0.9281\n",
      "Epoch 8/10\n",
      "56/56 [==============================] - 0s 3ms/step - loss: 0.2880 - accuracy: 0.9073 - val_loss: 0.2252 - val_accuracy: 0.9348\n",
      "Epoch 9/10\n",
      "56/56 [==============================] - 0s 3ms/step - loss: 0.2758 - accuracy: 0.9101 - val_loss: 0.2355 - val_accuracy: 0.9371\n",
      "Epoch 10/10\n",
      "56/56 [==============================] - 0s 3ms/step - loss: 0.2706 - accuracy: 0.9140 - val_loss: 0.2700 - val_accuracy: 0.9034\n"
     ]
    },
    {
     "data": {
      "image/png": "[encoded data removed]",
      "text/plain": [
       "<Figure size 400x400 with 1 Axes>"
      ]
     },
     "metadata": {},
     "output_type": "display_data"
    }
   ],
   "source": [
    "lstm_tfidfed_model.fit(tfidfed_X_train, tfidfed_y_train,validation_data=(tfidfed_X_test, tfidfed_y_test) , epochs=10)\n",
    "plot_metric_graph(lstm_tfidfed_model, 'LSTM MODEL +  TF-IDF + Word Embedding ')"
   ]
  },
  {
   "cell_type": "code",
   "execution_count": 167,
   "id": "e017d5d8-3807-4cae-9b99-a0dc80f39b4c",
   "metadata": {},
   "outputs": [
    {
     "name": "stdout",
     "output_type": "stream",
     "text": [
      "14/14 [==============================] - 0s 3ms/step\n",
      "              precision    recall  f1-score   support\n",
      "\n",
      "           0       0.96      0.93      0.95       102\n",
      "           1       0.95      0.95      0.95        77\n",
      "           2       0.93      0.93      0.93        84\n",
      "           3       1.00      0.98      0.99       102\n",
      "           4       0.88      0.94      0.91        80\n",
      "\n",
      "    accuracy                           0.95       445\n",
      "   macro avg       0.94      0.95      0.94       445\n",
      "weighted avg       0.95      0.95      0.95       445\n",
      "\n"
     ]
    },
    {
     "data": {
      "text/html": [
       "<div>\n",
       "<style scoped>\n",
       "    .dataframe tbody tr th:only-of-type {\n",
       "        vertical-align: middle;\n",
       "    }\n",
       "\n",
       "    .dataframe tbody tr th {\n",
       "        vertical-align: top;\n",
       "    }\n",
       "\n",
       "    .dataframe thead th {\n",
       "        text-align: right;\n",
       "    }\n",
       "</style>\n",
       "<table border=\"1\" class=\"dataframe\">\n",
       "  <thead>\n",
       "    <tr style=\"text-align: right;\">\n",
       "      <th></th>\n",
       "      <th>0</th>\n",
       "    </tr>\n",
       "  </thead>\n",
       "  <tbody>\n",
       "    <tr>\n",
       "      <th>accuracy</th>\n",
       "      <td>0.946067</td>\n",
       "    </tr>\n",
       "    <tr>\n",
       "      <th>precision</th>\n",
       "      <td>0.947117</td>\n",
       "    </tr>\n",
       "    <tr>\n",
       "      <th>recall</th>\n",
       "      <td>0.946067</td>\n",
       "    </tr>\n",
       "    <tr>\n",
       "      <th>f1-score</th>\n",
       "      <td>0.946371</td>\n",
       "    </tr>\n",
       "  </tbody>\n",
       "</table>\n",
       "</div>"
      ],
      "text/plain": [
       "                  0\n",
       "accuracy   0.946067\n",
       "precision  0.947117\n",
       "recall     0.946067\n",
       "f1-score   0.946371"
      ]
     },
     "execution_count": 167,
     "metadata": {},
     "output_type": "execute_result"
    }
   ],
   "source": [
    "pred = [np.argmax(pre) for pre in lstm_tfidfed_model.predict(tfidfed_X_test)]\n",
    "report = classification_report(tfidfed_y_test, pred)\n",
    "print(report)\n",
    "lstm_tfidfed_result = {\n",
    "    'accuracy':accuracy_score(tfidfed_y_test, pred), \n",
    "    'precision':precision_score(tfidfed_y_test, pred, average='weighted'),\n",
    "    'recall': recall_score(tfidfed_y_test, pred,  average='weighted'), \n",
    "    'f1-score': f1_score(tfidfed_y_test, pred,  average='weighted')\n",
    "}\n",
    "\n",
    "\n",
    "\n",
    "pd.DataFrame(pd.Series(lstm_tfidfed_result))"
   ]
  },
  {
   "cell_type": "code",
   "execution_count": 168,
   "id": "75e71cf3-9eaf-42ad-b55e-d00c7ab2ada6",
   "metadata": {},
   "outputs": [
    {
     "name": "stdout",
     "output_type": "stream",
     "text": [
      "Epoch 1/10\n",
      "56/56 [==============================] - 4s 39ms/step - loss: 1.4402 - accuracy: 0.4601 - val_loss: 1.0649 - val_accuracy: 0.6854\n",
      "Epoch 2/10\n",
      "56/56 [==============================] - 2s 37ms/step - loss: 0.7994 - accuracy: 0.7522 - val_loss: 0.4491 - val_accuracy: 0.9596\n",
      "Epoch 3/10\n",
      "56/56 [==============================] - 2s 44ms/step - loss: 0.3643 - accuracy: 0.9393 - val_loss: 0.1644 - val_accuracy: 0.9798\n",
      "Epoch 4/10\n",
      "56/56 [==============================] - 3s 49ms/step - loss: 0.1831 - accuracy: 0.9590 - val_loss: 0.0873 - val_accuracy: 0.9888\n",
      "Epoch 5/10\n",
      "56/56 [==============================] - 3s 56ms/step - loss: 0.1103 - accuracy: 0.9770 - val_loss: 0.0625 - val_accuracy: 0.9888\n",
      "Epoch 6/10\n",
      "56/56 [==============================] - 4s 66ms/step - loss: 0.0836 - accuracy: 0.9792 - val_loss: 0.0592 - val_accuracy: 0.9865\n",
      "Epoch 7/10\n",
      "56/56 [==============================] - 3s 46ms/step - loss: 0.0669 - accuracy: 0.9815 - val_loss: 0.0483 - val_accuracy: 0.9910\n",
      "Epoch 8/10\n",
      "56/56 [==============================] - 2s 44ms/step - loss: 0.0668 - accuracy: 0.9798 - val_loss: 0.0422 - val_accuracy: 0.9888\n",
      "Epoch 9/10\n",
      "56/56 [==============================] - 2s 44ms/step - loss: 0.0433 - accuracy: 0.9871 - val_loss: 0.0421 - val_accuracy: 0.9910\n",
      "Epoch 10/10\n",
      "56/56 [==============================] - 3s 51ms/step - loss: 0.0394 - accuracy: 0.9899 - val_loss: 0.0401 - val_accuracy: 0.9910\n"
     ]
    },
    {
     "data": {
      "text/plain": [
       "<keras.callbacks.History at 0x1a9c1582160>"
      ]
     },
     "execution_count": 168,
     "metadata": {},
     "output_type": "execute_result"
    }
   ],
   "source": [
    "lstm_tfidf_model.fit(tfidf_X_train, tfidf_y_train,validation_data=(tfidf_X_test, tfidf_y_test) , epochs=10)"
   ]
  },
  {
   "cell_type": "code",
   "execution_count": 169,
   "id": "18109e27-b16e-4384-895e-4055b67dbb9f",
   "metadata": {},
   "outputs": [
    {
     "data": {
      "image/png": "[encoded data removed]",
      "text/plain": [
       "<Figure size 400x400 with 1 Axes>"
      ]
     },
     "metadata": {},
     "output_type": "display_data"
    }
   ],
   "source": [
    "plot_metric_graph(lstm_tfidf_model, 'LSTM MODEL +  TF-IDF')"
   ]
  },
  {
   "cell_type": "code",
   "execution_count": 170,
   "id": "1dddc798-c0f0-4696-802d-dc3ccb74fd64",
   "metadata": {},
   "outputs": [
    {
     "name": "stdout",
     "output_type": "stream",
     "text": [
      "14/14 [==============================] - 0s 10ms/step\n",
      "              precision    recall  f1-score   support\n",
      "\n",
      "           0       0.99      0.98      0.99       102\n",
      "           1       1.00      0.99      0.99        77\n",
      "           2       0.97      1.00      0.98        84\n",
      "           3       1.00      1.00      1.00       102\n",
      "           4       1.00      0.99      0.99        80\n",
      "\n",
      "    accuracy                           0.99       445\n",
      "   macro avg       0.99      0.99      0.99       445\n",
      "weighted avg       0.99      0.99      0.99       445\n",
      "\n"
     ]
    },
    {
     "data": {
      "text/html": [
       "<div>\n",
       "<style scoped>\n",
       "    .dataframe tbody tr th:only-of-type {\n",
       "        vertical-align: middle;\n",
       "    }\n",
       "\n",
       "    .dataframe tbody tr th {\n",
       "        vertical-align: top;\n",
       "    }\n",
       "\n",
       "    .dataframe thead th {\n",
       "        text-align: right;\n",
       "    }\n",
       "</style>\n",
       "<table border=\"1\" class=\"dataframe\">\n",
       "  <thead>\n",
       "    <tr style=\"text-align: right;\">\n",
       "      <th></th>\n",
       "      <th>0</th>\n",
       "    </tr>\n",
       "  </thead>\n",
       "  <tbody>\n",
       "    <tr>\n",
       "      <th>accuracy</th>\n",
       "      <td>0.991011</td>\n",
       "    </tr>\n",
       "    <tr>\n",
       "      <th>precision</th>\n",
       "      <td>0.991221</td>\n",
       "    </tr>\n",
       "    <tr>\n",
       "      <th>recall</th>\n",
       "      <td>0.991011</td>\n",
       "    </tr>\n",
       "    <tr>\n",
       "      <th>f1-score</th>\n",
       "      <td>0.991039</td>\n",
       "    </tr>\n",
       "  </tbody>\n",
       "</table>\n",
       "</div>"
      ],
      "text/plain": [
       "                  0\n",
       "accuracy   0.991011\n",
       "precision  0.991221\n",
       "recall     0.991011\n",
       "f1-score   0.991039"
      ]
     },
     "execution_count": 170,
     "metadata": {},
     "output_type": "execute_result"
    }
   ],
   "source": [
    "pred = [np.argmax(pre) for pre in lstm_tfidf_model.predict(tfidf_X_test)]\n",
    "report = classification_report(tfidf_y_test, pred)\n",
    "print(report)\n",
    "lstm_tfidf_result = {\n",
    "    'accuracy':accuracy_score(tfidf_y_test, pred), \n",
    "    'precision':precision_score(tfidf_y_test, pred, average='weighted'),\n",
    "    'recall': recall_score(tfidf_y_test, pred,  average='weighted'), \n",
    "    'f1-score': f1_score(tfidf_y_test, pred,  average='weighted')\n",
    "}\n",
    "\n",
    "\n",
    "\n",
    "pd.DataFrame(pd.Series(lstm_tfidf_result))"
   ]
  },
  {
   "cell_type": "code",
   "execution_count": 171,
   "id": "776e33f6-1d77-4103-b079-cdbd3fdec594",
   "metadata": {},
   "outputs": [
    {
     "data": {
      "text/plain": [
       "(445, 300)"
      ]
     },
     "execution_count": 171,
     "metadata": {},
     "output_type": "execute_result"
    }
   ],
   "source": [
    "lsa_X_test.shape"
   ]
  },
  {
   "cell_type": "markdown",
   "id": "71a867d5-5d5e-45a7-86c4-0c3baca977e6",
   "metadata": {},
   "source": [
    "#### LSTM MODEL with Attention"
   ]
  },
  {
   "cell_type": "code",
   "execution_count": 211,
   "id": "bbc29d8d-b3e0-4eb8-ad30-e399dae71e0c",
   "metadata": {},
   "outputs": [
    {
     "name": "stdout",
     "output_type": "stream",
     "text": [
      "Model: \"model_9\"\n",
      "__________________________________________________________________________________________________\n",
      " Layer (type)                   Output Shape         Param #     Connected to                     \n",
      "==================================================================================================\n",
      " input_8 (InputLayer)           [(None, 50)]         0           []                               \n",
      "                                                                                                  \n",
      " embedding_7 (Embedding)        (None, 50, 128)      1280000     ['input_8[0][0]']                \n",
      "                                                                                                  \n",
      " lstm_7 (LSTM)                  (None, 50, 64)       49408       ['embedding_7[0][0]']            \n",
      "                                                                                                  \n",
      " dense_33 (Dense)               (None, 50, 1)        65          ['lstm_7[0][0]']                 \n",
      "                                                                                                  \n",
      " activation_7 (Activation)      (None, 50, 1)        0           ['dense_33[0][0]']               \n",
      "                                                                                                  \n",
      " multiply_7 (Multiply)          (None, 50, 64)       0           ['lstm_7[0][0]',                 \n",
      "                                                                  'activation_7[0][0]']           \n",
      "                                                                                                  \n",
      " global_average_pooling1d_7 (Gl  (None, 64)          0           ['multiply_7[0][0]']             \n",
      " obalAveragePooling1D)                                                                            \n",
      "                                                                                                  \n",
      " dense_34 (Dense)               (None, 32)           2080        ['global_average_pooling1d_7[0][0\n",
      "                                                                 ]']                              \n",
      "                                                                                                  \n",
      " dense_35 (Dense)               (None, 5)            165         ['dense_34[0][0]']               \n",
      "                                                                                                  \n",
      "==================================================================================================\n",
      "Total params: 1,331,718\n",
      "Trainable params: 1,331,718\n",
      "Non-trainable params: 0\n",
      "__________________________________________________________________________________________________\n"
     ]
    }
   ],
   "source": [
    "import tensorflow as tf\n",
    "from tensorflow.keras.layers import LSTM, Dense, Embedding, Input, GlobalAveragePooling1D, Multiply, Activation\n",
    "from tensorflow.keras.models import Model\n",
    "from tensorflow.keras.optimizers import Adam\n",
    "\n",
    "# Define parameters\n",
    "max_length = 50\n",
    "vocab_size = 10000 \n",
    "embedding_dim = 128\n",
    "num_classes = 5\n",
    "\n",
    "# Input layer\n",
    "inputs = Input(shape=(max_length,))\n",
    "# Embedding layer\n",
    "embedding = Embedding(input_dim=vocab_size, output_dim=embedding_dim)(inputs)\n",
    "# LSTM layer\n",
    "lstm = LSTM(64, return_sequences=True)(embedding)\n",
    "# Attention mechanism \n",
    "attention = Dense(1, activation='tanh')(lstm)\n",
    "attention_weights = Activation('softmax')(attention)\n",
    "context_vector = Multiply()([lstm, attention_weights])\n",
    "# Global average pooling to reduce dimensions\n",
    "pooled = GlobalAveragePooling1D()(context_vector)\n",
    "# Fully connected layers\n",
    "dense1 = Dense(32, activation='relu')(pooled)\n",
    "outputs = Dense(num_classes, activation='sigmoid')(dense1)\n",
    "# Define Model\n",
    "simple_lstm_attention_model = Model(inputs=inputs, outputs=outputs)\n",
    "# model compilation... \n",
    "simple_lstm_attention_model.compile(optimizer=Adam(learning_rate=0.008),\n",
    "                                   loss='sparse_categorical_crossentropy',\n",
    "                                   metrics=['accuracy'])\n",
    "# Model Summary\n",
    "simple_lstm_attention_model.summary()"
   ]
  },
  {
   "cell_type": "code",
   "execution_count": 195,
   "id": "8df8b56d-2217-489d-a8f9-500d83881f06",
   "metadata": {},
   "outputs": [],
   "source": [
    "sample = np.expand_dims(lsa_X_test[7], axis=0)"
   ]
  },
  {
   "cell_type": "code",
   "execution_count": 196,
   "id": "854610d5-82a6-4e72-94ad-dc04af16de90",
   "metadata": {},
   "outputs": [
    {
     "name": "stdout",
     "output_type": "stream",
     "text": [
      "1/1 [==============================] - 1s 1s/step\n"
     ]
    },
    {
     "data": {
      "text/plain": [
       "array([[0.49811122, 0.49765533, 0.49464065, 0.5017759 , 0.50022   ]],\n",
       "      dtype=float32)"
      ]
     },
     "execution_count": 196,
     "metadata": {},
     "output_type": "execute_result"
    }
   ],
   "source": [
    "simple_lstm_attention_model.predict(sample)"
   ]
  },
  {
   "cell_type": "code",
   "execution_count": 201,
   "id": "859dde9f-6899-4d67-b10e-019da233df1b",
   "metadata": {},
   "outputs": [
    {
     "data": {
      "text/plain": [
       "(1780, 50)"
      ]
     },
     "execution_count": 201,
     "metadata": {},
     "output_type": "execute_result"
    }
   ],
   "source": [
    "tfidfed_X_train.shape"
   ]
  },
  {
   "cell_type": "code",
   "execution_count": 205,
   "id": "31fd29be-f979-42e9-a9c5-973d0a65f2dd",
   "metadata": {},
   "outputs": [],
   "source": [
    "# simple_lstm_attention_model.fit(lsa_X_train, lsa_y_train,validation_data=(lsa_X_test, lsa_y_test) , epochs=10)"
   ]
  },
  {
   "cell_type": "code",
   "execution_count": 213,
   "id": "a8ae6286-9532-46fe-bcf9-db4388dbc2db",
   "metadata": {},
   "outputs": [],
   "source": [
    "# simple_lstm_attention_model.fit(tfidfed_X_train, tfidfed_y_train,validation_data=(tfidfed_X_test, tfidfed_y_test) , epochs=10)"
   ]
  },
  {
   "cell_type": "code",
   "execution_count": null,
   "id": "76332729-ce4e-4573-a122-a9b6e68750f0",
   "metadata": {},
   "outputs": [],
   "source": [
    "pred = [np.argmax(pre) for pre in simple_lstm_attention_model.predict(tfidfed_X_test)]\n",
    "report = classification_report(tfidfed_y_test, pred)\n",
    "print(report)\n",
    "simple_lstm_attention_model_result = {\n",
    "    'accuracy':accuracy_score(tfidfed_y_test, pred), \n",
    "    'precision':precision_score(tfidfed_y_test, pred, average='weighted'),\n",
    "    'recall': recall_score(tfidfed_y_test, pred,  average='weighted'), \n",
    "    'f1-score': f1_score(tfidfed_y_test, pred,  average='weighted')\n",
    "}\n",
    "\n",
    "\n",
    "\n",
    "pd.DataFrame(pd.Series(simple_lstm_attention_model_result))"
   ]
  },
  {
   "cell_type": "code",
   "execution_count": null,
   "id": "dc03252f-41d1-46f1-bbd3-086f97111ecf",
   "metadata": {},
   "outputs": [],
   "source": [
    "# result summary table"
   ]
  },
  {
   "cell_type": "code",
   "execution_count": null,
   "id": "fef6f946-85da-4737-a16f-249548c7b424",
   "metadata": {},
   "outputs": [],
   "source": [
    "lstm_lsa_result\n",
    "lstm_tfidfed_result\n",
    "lstm_tfidf_result\n",
    "simple_lstm_attention_model_result"
   ]
  },
  {
   "cell_type": "code",
   "execution_count": 81,
   "id": "7efc967f-36f1-4c0b-b8ee-c709a4056331",
   "metadata": {},
   "outputs": [
    {
     "data": {
      "text/html": [
       "<div>\n",
       "<style scoped>\n",
       "    .dataframe tbody tr th:only-of-type {\n",
       "        vertical-align: middle;\n",
       "    }\n",
       "\n",
       "    .dataframe tbody tr th {\n",
       "        vertical-align: top;\n",
       "    }\n",
       "\n",
       "    .dataframe thead th {\n",
       "        text-align: right;\n",
       "    }\n",
       "</style>\n",
       "<table border=\"1\" class=\"dataframe\">\n",
       "  <thead>\n",
       "    <tr style=\"text-align: right;\">\n",
       "      <th></th>\n",
       "      <th>accuracy</th>\n",
       "      <th>precision</th>\n",
       "      <th>recall</th>\n",
       "      <th>f1-score</th>\n",
       "      <th>model</th>\n",
       "    </tr>\n",
       "  </thead>\n",
       "  <tbody>\n",
       "    <tr>\n",
       "      <th>0</th>\n",
       "      <td>0.979775</td>\n",
       "      <td>0.980178</td>\n",
       "      <td>0.979775</td>\n",
       "      <td>0.979711</td>\n",
       "      <td>LSTM + TFID &amp; LDA</td>\n",
       "    </tr>\n",
       "    <tr>\n",
       "      <th>1</th>\n",
       "      <td>0.921348</td>\n",
       "      <td>0.927653</td>\n",
       "      <td>0.921348</td>\n",
       "      <td>0.921219</td>\n",
       "      <td>LSTM + TFIDF &amp; W2V</td>\n",
       "    </tr>\n",
       "    <tr>\n",
       "      <th>2</th>\n",
       "      <td>0.988764</td>\n",
       "      <td>0.989017</td>\n",
       "      <td>0.988764</td>\n",
       "      <td>0.988778</td>\n",
       "      <td>LSTM + TFIDF</td>\n",
       "    </tr>\n",
       "    <tr>\n",
       "      <th>3</th>\n",
       "      <td>0.871910</td>\n",
       "      <td>0.873552</td>\n",
       "      <td>0.871910</td>\n",
       "      <td>0.871905</td>\n",
       "      <td>LSTM + ATTENTION LAYER</td>\n",
       "    </tr>\n",
       "  </tbody>\n",
       "</table>\n",
       "</div>"
      ],
      "text/plain": [
       "   accuracy  precision    recall  f1-score                   model\n",
       "0  0.979775   0.980178  0.979775  0.979711       LSTM + TFID & LDA\n",
       "1  0.921348   0.927653  0.921348  0.921219      LSTM + TFIDF & W2V\n",
       "2  0.988764   0.989017  0.988764  0.988778            LSTM + TFIDF\n",
       "3  0.871910   0.873552  0.871910  0.871905  LSTM + ATTENTION LAYER"
      ]
     },
     "execution_count": 81,
     "metadata": {},
     "output_type": "execute_result"
    }
   ],
   "source": [
    "final_result = pd.DataFrame([lstm_lsa_result, lstm_tfidfed_result, lstm_tfidf_result, simple_lstm_attention_model_result])\n",
    "final_result['model'] = ['LSTM + TFID & LDA', 'LSTM + TFIDF & W2V', 'LSTM + TFIDF', 'LSTM + ATTENTION LAYER']\n",
    "final_result"
   ]
  },
  {
   "cell_type": "code",
   "execution_count": 82,
   "id": "795e158a-4940-4d59-9def-4f29222e8505",
   "metadata": {},
   "outputs": [],
   "source": [
    "final_result.to_csv('result.csv')"
   ]
  },
  {
   "cell_type": "code",
   "execution_count": 84,
   "id": "5005e8f7-d9fb-4ec6-ae83-77970d7e9779",
   "metadata": {},
   "outputs": [
    {
     "data": {
      "text/plain": [
       "Text(0.5, 0, 'techniques')"
      ]
     },
     "execution_count": 84,
     "metadata": {},
     "output_type": "execute_result"
    },
    {
     "data": {
      "image/png": "[encoded data removed]",
      "text/plain": [
       "<Figure size 640x480 with 1 Axes>"
      ]
     },
     "metadata": {},
     "output_type": "display_data"
    }
   ],
   "source": [
    "final_result.plot(kind='bar')\n",
    "plt.grid()\n",
    "plt.ylabel('%')\n",
    "plt.xlabel('techniques')"
   ]
  },
  {
   "cell_type": "markdown",
   "id": "cadd5bfd-68a7-4fd0-8159-6fc6428b436f",
   "metadata": {},
   "source": [
    "### BERT MODEL.. "
   ]
  },
  {
   "cell_type": "code",
   "execution_count": 49,
   "id": "8c7ad31b-b44b-42b8-a6f6-89877ff95de8",
   "metadata": {},
   "outputs": [],
   "source": [
    "# clean_dataset"
   ]
  },
  {
   "cell_type": "code",
   "execution_count": 50,
   "id": "ec0e4e9b-154d-4069-8ef5-d5f6980c4425",
   "metadata": {},
   "outputs": [
    {
     "data": {
      "text/html": [
       "<div>\n",
       "<style scoped>\n",
       "    .dataframe tbody tr th:only-of-type {\n",
       "        vertical-align: middle;\n",
       "    }\n",
       "\n",
       "    .dataframe tbody tr th {\n",
       "        vertical-align: top;\n",
       "    }\n",
       "\n",
       "    .dataframe thead th {\n",
       "        text-align: right;\n",
       "    }\n",
       "</style>\n",
       "<table border=\"1\" class=\"dataframe\">\n",
       "  <thead>\n",
       "    <tr style=\"text-align: right;\">\n",
       "      <th></th>\n",
       "      <th>category</th>\n",
       "      <th>stem_clean_text</th>\n",
       "      <th>lem_clean_text</th>\n",
       "      <th>doc</th>\n",
       "      <th>lbl</th>\n",
       "    </tr>\n",
       "  </thead>\n",
       "  <tbody>\n",
       "    <tr>\n",
       "      <th>877</th>\n",
       "      <td>tech</td>\n",
       "      <td>[nintendo, handheld, given, euro, date, ninten...</td>\n",
       "      <td>[nintendo, handheld, given, euro, date, ninten...</td>\n",
       "      <td>nintendo handheld given euro date nintendo new...</td>\n",
       "      <td>4</td>\n",
       "    </tr>\n",
       "    <tr>\n",
       "      <th>1061</th>\n",
       "      <td>entertainment</td>\n",
       "      <td>[park, sell, day, ticket, scotland, biggest, m...</td>\n",
       "      <td>[park, sell, day, ticket, scotland, biggest, m...</td>\n",
       "      <td>park sell day ticket scotland biggest music fe...</td>\n",
       "      <td>1</td>\n",
       "    </tr>\n",
       "    <tr>\n",
       "      <th>2112</th>\n",
       "      <td>business</td>\n",
       "      <td>[ail, eurodisney, vow, turnaround, eurodisney,...</td>\n",
       "      <td>[ailing, eurodisney, vow, turnaround, eurodisn...</td>\n",
       "      <td>ailing eurodisney vow turnaround eurodisney eu...</td>\n",
       "      <td>0</td>\n",
       "    </tr>\n",
       "  </tbody>\n",
       "</table>\n",
       "</div>"
      ],
      "text/plain": [
       "           category                                    stem_clean_text  \\\n",
       "877            tech  [nintendo, handheld, given, euro, date, ninten...   \n",
       "1061  entertainment  [park, sell, day, ticket, scotland, biggest, m...   \n",
       "2112       business  [ail, eurodisney, vow, turnaround, eurodisney,...   \n",
       "\n",
       "                                         lem_clean_text  \\\n",
       "877   [nintendo, handheld, given, euro, date, ninten...   \n",
       "1061  [park, sell, day, ticket, scotland, biggest, m...   \n",
       "2112  [ailing, eurodisney, vow, turnaround, eurodisn...   \n",
       "\n",
       "                                                    doc  lbl  \n",
       "877   nintendo handheld given euro date nintendo new...    4  \n",
       "1061  park sell day ticket scotland biggest music fe...    1  \n",
       "2112  ailing eurodisney vow turnaround eurodisney eu...    0  "
      ]
     },
     "execution_count": 50,
     "metadata": {},
     "output_type": "execute_result"
    }
   ],
   "source": [
    "clean_dataset.sample(3)"
   ]
  },
  {
   "cell_type": "code",
   "execution_count": 93,
   "id": "09e322e8-3af6-4bd6-a80e-76fcc3c39726",
   "metadata": {},
   "outputs": [],
   "source": [
    "# !pip install tensorflow_hub tensorflow_text"
   ]
  },
  {
   "cell_type": "code",
   "execution_count": 51,
   "id": "a54b871d-7797-409b-86ff-43870694d2ab",
   "metadata": {},
   "outputs": [],
   "source": [
    "import os\n",
    "os.environ[\"TFHUB_CACHE_DIR\"] = r'C:\\Users\\HP\\Documents\\PYTHON CODE\\GitHub\\Artificial Intelligent Models\\BERT_MODEL\\saved_model'"
   ]
  },
  {
   "cell_type": "code",
   "execution_count": null,
   "id": "40a5f3d7-8273-4489-acbf-20c6c9d7d9c5",
   "metadata": {},
   "outputs": [],
   "source": []
  },
  {
   "cell_type": "code",
   "execution_count": 66,
   "id": "9cf3304d-0a69-4024-99d2-942415fcaa37",
   "metadata": {
    "scrolled": true
   },
   "outputs": [],
   "source": [
    "import tensorflow_hub as hub \n",
    "import tensorflow_text as txt \n",
    "from sklearn import model_selection"
   ]
  },
  {
   "cell_type": "code",
   "execution_count": 54,
   "id": "abda46e9-70e6-47df-86f9-913140878ffa",
   "metadata": {},
   "outputs": [],
   "source": [
    "preprocessed_url = 'https://tfhub.dev/tensorflow/bert_en_uncased_preprocess/3'\n",
    "bert_url = 'https://tfhub.dev/tensorflow/bert_en_uncased_L-12_H-768_A-12/4'"
   ]
  },
  {
   "cell_type": "code",
   "execution_count": null,
   "id": "09fabe6a-adca-470f-a1f6-d6837b8ffa8c",
   "metadata": {},
   "outputs": [],
   "source": []
  },
  {
   "cell_type": "code",
   "execution_count": 57,
   "id": "6cff8046-c0f2-4951-a2e6-3481db52371b",
   "metadata": {},
   "outputs": [],
   "source": [
    "preprocessor = hub.KerasLayer(preprocessed_url)\n",
    "bert= hub.KerasLayer(bert_url)"
   ]
  },
  {
   "cell_type": "code",
   "execution_count": 58,
   "id": "8729b2b2-61ad-4c1a-958e-60967a4d388b",
   "metadata": {},
   "outputs": [
    {
     "data": {
      "text/plain": [
       "dict_keys(['input_mask', 'input_word_ids', 'input_type_ids'])"
      ]
     },
     "execution_count": 58,
     "metadata": {},
     "output_type": "execute_result"
    }
   ],
   "source": [
    "sample_text = ['this is a good boy', 'this is a good girl'] \n",
    "pre_obj = preprocessor(sample_text)\n",
    "pre_obj.keys()"
   ]
  },
  {
   "cell_type": "code",
   "execution_count": 61,
   "id": "2615c281-c178-41d9-ac35-7ee7f8c57b5b",
   "metadata": {},
   "outputs": [],
   "source": [
    "# pre_obj"
   ]
  },
  {
   "cell_type": "code",
   "execution_count": 64,
   "id": "ee72e95d-fb8e-46e1-a89d-a56e8d3764c2",
   "metadata": {},
   "outputs": [
    {
     "data": {
      "text/plain": [
       "257    sporting rival go extra time current slew spor...\n",
       "76     yukos sue four firm 20bn russian oil firm yuko...\n",
       "557    u bank bos hail genius smith u federal reserve...\n",
       "Name: doc, dtype: object"
      ]
     },
     "execution_count": 64,
     "metadata": {},
     "output_type": "execute_result"
    }
   ],
   "source": [
    "X, y = clean_dataset['doc'] , clean_data['lbl']\n",
    "X.sample(3)"
   ]
  },
  {
   "cell_type": "code",
   "execution_count": 67,
   "id": "3fbfaac4-67e3-4ed6-88db-932e199e9567",
   "metadata": {},
   "outputs": [
    {
     "data": {
      "text/plain": [
       "685     iraq afghanistan wto talk world trade organisa...\n",
       "1574    game deserve place class computer game could e...\n",
       "1535    richard judy choose top book 10 author shortli...\n",
       "1434    bee handed potential man utd tie brentford fac...\n",
       "381     euniversity disgraceful waste failed governmen...\n",
       "                              ...                        \n",
       "1513    robotic pod take car design new breed wearable...\n",
       "1525    tory attack eu asylum move david blunkett accu...\n",
       "1643    u economy still growing say fed area u saw eco...\n",
       "605     parry firm gerrard listen full interview sport...\n",
       "1695    new yob target unveiled fifty new area getting...\n",
       "Name: doc, Length: 1668, dtype: object"
      ]
     },
     "execution_count": 67,
     "metadata": {},
     "output_type": "execute_result"
    }
   ],
   "source": [
    "X_train, X_test, y_train, y_test = model_selection.train_test_split(X, y)\n",
    "X_train"
   ]
  },
  {
   "cell_type": "code",
   "execution_count": 70,
   "id": "19381002-fa0c-4116-ade0-5749d5a84dca",
   "metadata": {},
   "outputs": [],
   "source": [
    "# loading input layer with bert preprocessor \n",
    "input_layer = tf.keras.layers.Input(shape=() , dtype=tf.string, name='text')\n",
    "\n",
    "# bert layer\n",
    "encoder_input = preprocessor(input_layer)\n",
    "encoder = bert(encoder_input)\n",
    "\n",
    "# keras layer \n",
    "lo = tf.keras.layers.Dropout(0.1, name='droplayer')(encoder['pooled_output'])\n",
    "fo  = tf.keras.layers.Dense(5, activation='softmax', name='denselayer')(lo)\n",
    "\n",
    "# model building\n",
    "model = tf.keras.Model(inputs = [input_layer], outputs=[fo])"
   ]
  },
  {
   "cell_type": "code",
   "execution_count": 75,
   "id": "7ce166dc-8e94-4d0a-8c86-98467a652c07",
   "metadata": {},
   "outputs": [
    {
     "name": "stdout",
     "output_type": "stream",
     "text": [
      "Model: \"model_1\"\n",
      "__________________________________________________________________________________________________\n",
      " Layer (type)                   Output Shape         Param #     Connected to                     \n",
      "==================================================================================================\n",
      " text (InputLayer)              [(None,)]            0           []                               \n",
      "                                                                                                  \n",
      " keras_layer_2 (KerasLayer)     {'input_mask': (Non  0           ['text[0][0]']                   \n",
      "                                e, 128),                                                          \n",
      "                                 'input_word_ids':                                                \n",
      "                                (None, 128),                                                      \n",
      "                                 'input_type_ids':                                                \n",
      "                                (None, 128)}                                                      \n",
      "                                                                                                  \n",
      " keras_layer_3 (KerasLayer)     {'pooled_output': (  109482241   ['keras_layer_2[1][0]',          \n",
      "                                None, 768),                       'keras_layer_2[1][1]',          \n",
      "                                 'sequence_output':               'keras_layer_2[1][2]']          \n",
      "                                 (None, 128, 768),                                                \n",
      "                                 'encoder_outputs':                                               \n",
      "                                 [(None, 128, 768),                                               \n",
      "                                 (None, 128, 768),                                                \n",
      "                                 (None, 128, 768),                                                \n",
      "                                 (None, 128, 768),                                                \n",
      "                                 (None, 128, 768),                                                \n",
      "                                 (None, 128, 768),                                                \n",
      "                                 (None, 128, 768),                                                \n",
      "                                 (None, 128, 768),                                                \n",
      "                                 (None, 128, 768),                                                \n",
      "                                 (None, 128, 768),                                                \n",
      "                                 (None, 128, 768),                                                \n",
      "                                 (None, 128, 768)],                                               \n",
      "                                 'default': (None,                                                \n",
      "                                768)}                                                             \n",
      "                                                                                                  \n",
      " droplayer (Dropout)            (None, 768)          0           ['keras_layer_3[1][13]']         \n",
      "                                                                                                  \n",
      " denselayer (Dense)             (None, 5)            3845        ['droplayer[0][0]']              \n",
      "                                                                                                  \n",
      "==================================================================================================\n",
      "Total params: 109,486,086\n",
      "Trainable params: 3,845\n",
      "Non-trainable params: 109,482,241\n",
      "__________________________________________________________________________________________________\n"
     ]
    }
   ],
   "source": [
    "model.summary()"
   ]
  },
  {
   "cell_type": "code",
   "execution_count": 76,
   "id": "a8c0a537-5525-402d-9a4d-dab670a7d4e5",
   "metadata": {},
   "outputs": [
    {
     "name": "stdout",
     "output_type": "stream",
     "text": [
      "Epoch 1/10\n",
      "53/53 [==============================] - 1036s 20s/step - loss: 1.2253 - accuracy: 0.5612 - val_loss: 1.0687 - val_accuracy: 0.7612\n",
      "Epoch 2/10\n",
      "53/53 [==============================] - 945s 18s/step - loss: 1.0403 - accuracy: 0.6721 - val_loss: 0.9412 - val_accuracy: 0.7056\n",
      "Epoch 3/10\n",
      "53/53 [==============================] - 810s 15s/step - loss: 0.8944 - accuracy: 0.7626 - val_loss: 0.8461 - val_accuracy: 0.8115\n",
      "Epoch 4/10\n",
      "53/53 [==============================] - 916s 17s/step - loss: 0.8074 - accuracy: 0.7998 - val_loss: 0.7351 - val_accuracy: 0.8618\n",
      "Epoch 5/10\n",
      "53/53 [==============================] - 920s 17s/step - loss: 0.7209 - accuracy: 0.8309 - val_loss: 0.6734 - val_accuracy: 0.8582\n",
      "Epoch 6/10\n",
      "53/53 [==============================] - 768s 15s/step - loss: 0.6630 - accuracy: 0.8393 - val_loss: 0.6237 - val_accuracy: 0.8582\n",
      "Epoch 7/10\n",
      "53/53 [==============================] - 785s 15s/step - loss: 0.6087 - accuracy: 0.8537 - val_loss: 0.5693 - val_accuracy: 0.8815\n",
      "Epoch 8/10\n",
      "53/53 [==============================] - 2115s 40s/step - loss: 0.5665 - accuracy: 0.8663 - val_loss: 0.5356 - val_accuracy: 0.8941\n",
      "Epoch 9/10\n",
      "53/53 [==============================] - 4401s 84s/step - loss: 0.5381 - accuracy: 0.8657 - val_loss: 0.5108 - val_accuracy: 0.8959\n",
      "Epoch 10/10\n",
      "53/53 [==============================] - 1385s 26s/step - loss: 0.4994 - accuracy: 0.8759 - val_loss: 0.4818 - val_accuracy: 0.9102\n"
     ]
    },
    {
     "data": {
      "text/plain": [
       "<keras.callbacks.History at 0x1a97252e640>"
      ]
     },
     "execution_count": 76,
     "metadata": {},
     "output_type": "execute_result"
    }
   ],
   "source": [
    "model.compile(optimizer='adam', loss='sparse_categorical_crossentropy', metrics='accuracy')\n",
    "model.fit(X_train , y_train, validation_data= (X_test, y_test),  epochs=10)"
   ]
  },
  {
   "cell_type": "code",
   "execution_count": 77,
   "id": "86849694-62c3-430d-ad67-a55a55b2b090",
   "metadata": {},
   "outputs": [
    {
     "data": {
      "image/png": "[encoded data removed]",
      "text/plain": [
       "<Figure size 400x400 with 1 Axes>"
      ]
     },
     "metadata": {},
     "output_type": "display_data"
    }
   ],
   "source": [
    "# ploty graph \n",
    "\n",
    "def plot_metric_graph(model, title):\n",
    "    acc  = model.history.history['accuracy']\n",
    "    loss = model.history.history['loss']\n",
    "    val_acc  = model.history.history['val_accuracy']\n",
    "    val_loss = model.history.history['val_loss']\n",
    "\n",
    "    plt.figure(figsize=(4,4))\n",
    "    plt.plot(acc)\n",
    "    plt.plot(loss)\n",
    "    plt.plot(val_acc)\n",
    "    plt.plot(val_loss)\n",
    "    plt.legend(labels=['acc', 'loss', 'val_acc', 'val_loss'])\n",
    "    plt.ylabel('Accuracy/Loss')\n",
    "    plt.xlabel('Epoch')\n",
    "    plt.title(title)\n",
    "    plt.grid()\n",
    "    plt.show()\n",
    "   \n",
    "\n",
    "plot_metric_graph(model, 'BERT MODEL')\n"
   ]
  },
  {
   "cell_type": "code",
   "execution_count": 80,
   "id": "09a8f8d2-0204-4baf-823b-4897837f43cf",
   "metadata": {},
   "outputs": [
    {
     "name": "stdout",
     "output_type": "stream",
     "text": [
      "18/18 [==============================] - 251s 14s/step\n"
     ]
    }
   ],
   "source": [
    "pred = [np.argmax(pre) for pre in model.predict(X_test)]\n",
    "pred"
   ]
  },
  {
   "cell_type": "code",
   "execution_count": 104,
   "id": "e9de46e1-7cd5-4380-b20f-e8be706434af",
   "metadata": {},
   "outputs": [
    {
     "data": {
      "text/plain": [
       "1336    west end honour finest show west end honouring...\n",
       "Name: doc, dtype: object"
      ]
     },
     "execution_count": 104,
     "metadata": {},
     "output_type": "execute_result"
    }
   ],
   "source": []
  },
  {
   "cell_type": "code",
   "execution_count": null,
   "id": "d21264de-3e7c-4300-a8fb-a9e4d3b046df",
   "metadata": {},
   "outputs": [],
   "source": []
  },
  {
   "cell_type": "code",
   "execution_count": 105,
   "id": "ed394d57-39a2-4646-85f4-a259372baa14",
   "metadata": {},
   "outputs": [
    {
     "name": "stdout",
     "output_type": "stream",
     "text": [
      "              precision    recall  f1-score   support\n",
      "\n",
      "           0       0.90      0.84      0.87       123\n",
      "           1       0.96      0.94      0.95        93\n",
      "           2       0.93      0.90      0.91       105\n",
      "           3       0.93      0.99      0.96       130\n",
      "           4       0.83      0.89      0.86       106\n",
      "\n",
      "    accuracy                           0.91       557\n",
      "   macro avg       0.91      0.91      0.91       557\n",
      "weighted avg       0.91      0.91      0.91       557\n",
      "\n"
     ]
    },
    {
     "data": {
      "text/html": [
       "<div>\n",
       "<style scoped>\n",
       "    .dataframe tbody tr th:only-of-type {\n",
       "        vertical-align: middle;\n",
       "    }\n",
       "\n",
       "    .dataframe tbody tr th {\n",
       "        vertical-align: top;\n",
       "    }\n",
       "\n",
       "    .dataframe thead th {\n",
       "        text-align: right;\n",
       "    }\n",
       "</style>\n",
       "<table border=\"1\" class=\"dataframe\">\n",
       "  <thead>\n",
       "    <tr style=\"text-align: right;\">\n",
       "      <th></th>\n",
       "      <th>0</th>\n",
       "    </tr>\n",
       "  </thead>\n",
       "  <tbody>\n",
       "    <tr>\n",
       "      <th>accuracy</th>\n",
       "      <td>0.910233</td>\n",
       "    </tr>\n",
       "    <tr>\n",
       "      <th>precision</th>\n",
       "      <td>0.911069</td>\n",
       "    </tr>\n",
       "    <tr>\n",
       "      <th>recall</th>\n",
       "      <td>0.910233</td>\n",
       "    </tr>\n",
       "    <tr>\n",
       "      <th>f1-score</th>\n",
       "      <td>0.909923</td>\n",
       "    </tr>\n",
       "  </tbody>\n",
       "</table>\n",
       "</div>"
      ],
      "text/plain": [
       "                  0\n",
       "accuracy   0.910233\n",
       "precision  0.911069\n",
       "recall     0.910233\n",
       "f1-score   0.909923"
      ]
     },
     "execution_count": 105,
     "metadata": {},
     "output_type": "execute_result"
    }
   ],
   "source": [
    "report = classification_report(y_test, pred)\n",
    "print(report)\n",
    "\n",
    "bert_model_result = {\n",
    "    'accuracy':accuracy_score(y_test, pred), \n",
    "    'precision':precision_score(y_test, pred, average='weighted'),\n",
    "    'recall': recall_score(y_test, pred,  average='weighted'), \n",
    "    'f1-score': f1_score(y_test, pred,  average='weighted')\n",
    "}\n",
    "\n",
    "\n",
    "\n",
    "pd.DataFrame(pd.Series(bert_model_result))"
   ]
  },
  {
   "cell_type": "code",
   "execution_count": 107,
   "id": "226a228c-9d1e-49ac-aa90-ee76febf0622",
   "metadata": {},
   "outputs": [
    {
     "data": {
      "text/html": [
       "<div>\n",
       "<style scoped>\n",
       "    .dataframe tbody tr th:only-of-type {\n",
       "        vertical-align: middle;\n",
       "    }\n",
       "\n",
       "    .dataframe tbody tr th {\n",
       "        vertical-align: top;\n",
       "    }\n",
       "\n",
       "    .dataframe thead th {\n",
       "        text-align: right;\n",
       "    }\n",
       "</style>\n",
       "<table border=\"1\" class=\"dataframe\">\n",
       "  <thead>\n",
       "    <tr style=\"text-align: right;\">\n",
       "      <th></th>\n",
       "      <th>0</th>\n",
       "    </tr>\n",
       "  </thead>\n",
       "  <tbody>\n",
       "    <tr>\n",
       "      <th>accuracy</th>\n",
       "      <td>0.910233</td>\n",
       "    </tr>\n",
       "    <tr>\n",
       "      <th>precision</th>\n",
       "      <td>0.911069</td>\n",
       "    </tr>\n",
       "    <tr>\n",
       "      <th>recall</th>\n",
       "      <td>0.910233</td>\n",
       "    </tr>\n",
       "    <tr>\n",
       "      <th>f1-score</th>\n",
       "      <td>0.909923</td>\n",
       "    </tr>\n",
       "  </tbody>\n",
       "</table>\n",
       "</div>"
      ],
      "text/plain": [
       "                  0\n",
       "accuracy   0.910233\n",
       "precision  0.911069\n",
       "recall     0.910233\n",
       "f1-score   0.909923"
      ]
     },
     "execution_count": 107,
     "metadata": {},
     "output_type": "execute_result"
    }
   ],
   "source": [
    "bert_result = pd.DataFrame(pd.Series(bert_model_result))\n",
    "bert_result"
   ]
  },
  {
   "cell_type": "code",
   "execution_count": 110,
   "id": "975cb929-dcd7-4576-9530-5813d1088fd9",
   "metadata": {},
   "outputs": [],
   "source": [
    "bert_result.transpose().to_csv('bert_result.csv')"
   ]
  },
  {
   "cell_type": "code",
   "execution_count": 111,
   "id": "c21cf074-fdd7-467d-b431-f200d7b660da",
   "metadata": {},
   "outputs": [
    {
     "data": {
      "text/html": [
       "<div>\n",
       "<style scoped>\n",
       "    .dataframe tbody tr th:only-of-type {\n",
       "        vertical-align: middle;\n",
       "    }\n",
       "\n",
       "    .dataframe tbody tr th {\n",
       "        vertical-align: top;\n",
       "    }\n",
       "\n",
       "    .dataframe thead th {\n",
       "        text-align: right;\n",
       "    }\n",
       "</style>\n",
       "<table border=\"1\" class=\"dataframe\">\n",
       "  <thead>\n",
       "    <tr style=\"text-align: right;\">\n",
       "      <th></th>\n",
       "      <th>accuracy</th>\n",
       "      <th>precision</th>\n",
       "      <th>recall</th>\n",
       "      <th>f1-score</th>\n",
       "    </tr>\n",
       "  </thead>\n",
       "  <tbody>\n",
       "    <tr>\n",
       "      <th>0</th>\n",
       "      <td>0.910233</td>\n",
       "      <td>0.911069</td>\n",
       "      <td>0.910233</td>\n",
       "      <td>0.909923</td>\n",
       "    </tr>\n",
       "  </tbody>\n",
       "</table>\n",
       "</div>"
      ],
      "text/plain": [
       "   accuracy  precision    recall  f1-score\n",
       "0  0.910233   0.911069  0.910233  0.909923"
      ]
     },
     "execution_count": 111,
     "metadata": {},
     "output_type": "execute_result"
    }
   ],
   "source": [
    "bert_result.transpose()"
   ]
  },
  {
   "cell_type": "code",
   "execution_count": 112,
   "id": "65c44403-8d9c-48e8-a5c6-39de5a7bdcce",
   "metadata": {},
   "outputs": [
    {
     "data": {
      "text/html": [
       "<div>\n",
       "<style scoped>\n",
       "    .dataframe tbody tr th:only-of-type {\n",
       "        vertical-align: middle;\n",
       "    }\n",
       "\n",
       "    .dataframe tbody tr th {\n",
       "        vertical-align: top;\n",
       "    }\n",
       "\n",
       "    .dataframe thead th {\n",
       "        text-align: right;\n",
       "    }\n",
       "</style>\n",
       "<table border=\"1\" class=\"dataframe\">\n",
       "  <thead>\n",
       "    <tr style=\"text-align: right;\">\n",
       "      <th></th>\n",
       "      <th>0</th>\n",
       "    </tr>\n",
       "  </thead>\n",
       "  <tbody>\n",
       "    <tr>\n",
       "      <th>accuracy</th>\n",
       "      <td>0.910233</td>\n",
       "    </tr>\n",
       "    <tr>\n",
       "      <th>precision</th>\n",
       "      <td>0.911069</td>\n",
       "    </tr>\n",
       "    <tr>\n",
       "      <th>recall</th>\n",
       "      <td>0.910233</td>\n",
       "    </tr>\n",
       "    <tr>\n",
       "      <th>f1-score</th>\n",
       "      <td>0.909923</td>\n",
       "    </tr>\n",
       "  </tbody>\n",
       "</table>\n",
       "</div>"
      ],
      "text/plain": [
       "                  0\n",
       "accuracy   0.910233\n",
       "precision  0.911069\n",
       "recall     0.910233\n",
       "f1-score   0.909923"
      ]
     },
     "execution_count": 112,
     "metadata": {},
     "output_type": "execute_result"
    }
   ],
   "source": []
  },
  {
   "cell_type": "code",
   "execution_count": 218,
   "id": "b390f9ce-e82d-41a0-a614-a95922de215e",
   "metadata": {},
   "outputs": [
    {
     "data": {
      "text/html": [
       "<div>\n",
       "<style scoped>\n",
       "    .dataframe tbody tr th:only-of-type {\n",
       "        vertical-align: middle;\n",
       "    }\n",
       "\n",
       "    .dataframe tbody tr th {\n",
       "        vertical-align: top;\n",
       "    }\n",
       "\n",
       "    .dataframe thead th {\n",
       "        text-align: right;\n",
       "    }\n",
       "</style>\n",
       "<table border=\"1\" class=\"dataframe\">\n",
       "  <thead>\n",
       "    <tr style=\"text-align: right;\">\n",
       "      <th></th>\n",
       "      <th>Unnamed: 0</th>\n",
       "      <th>accuracy</th>\n",
       "      <th>precision</th>\n",
       "      <th>recall</th>\n",
       "      <th>f1-score</th>\n",
       "      <th>model</th>\n",
       "    </tr>\n",
       "  </thead>\n",
       "  <tbody>\n",
       "    <tr>\n",
       "      <th>0</th>\n",
       "      <td>0</td>\n",
       "      <td>0.910233</td>\n",
       "      <td>0.911069</td>\n",
       "      <td>0.910233</td>\n",
       "      <td>0.909923</td>\n",
       "      <td>BERT</td>\n",
       "    </tr>\n",
       "  </tbody>\n",
       "</table>\n",
       "</div>"
      ],
      "text/plain": [
       "   Unnamed: 0  accuracy  precision    recall  f1-score model\n",
       "0           0  0.910233   0.911069  0.910233  0.909923  BERT"
      ]
     },
     "execution_count": 218,
     "metadata": {},
     "output_type": "execute_result"
    }
   ],
   "source": [
    "# load data and analyze .. \n",
    "bert_mdl = pd.read_csv('bert_result.csv')\n",
    "bert_mdl['model'] = ['BERT']\n",
    "bert_mdl"
   ]
  },
  {
   "cell_type": "code",
   "execution_count": 217,
   "id": "5f188e9e-dd66-4587-82fa-60c144fb2378",
   "metadata": {},
   "outputs": [
    {
     "data": {
      "text/html": [
       "<div>\n",
       "<style scoped>\n",
       "    .dataframe tbody tr th:only-of-type {\n",
       "        vertical-align: middle;\n",
       "    }\n",
       "\n",
       "    .dataframe tbody tr th {\n",
       "        vertical-align: top;\n",
       "    }\n",
       "\n",
       "    .dataframe thead th {\n",
       "        text-align: right;\n",
       "    }\n",
       "</style>\n",
       "<table border=\"1\" class=\"dataframe\">\n",
       "  <thead>\n",
       "    <tr style=\"text-align: right;\">\n",
       "      <th></th>\n",
       "      <th>Unnamed: 0</th>\n",
       "      <th>accuracy</th>\n",
       "      <th>precision</th>\n",
       "      <th>recall</th>\n",
       "      <th>f1-score</th>\n",
       "      <th>model</th>\n",
       "    </tr>\n",
       "  </thead>\n",
       "  <tbody>\n",
       "    <tr>\n",
       "      <th>0</th>\n",
       "      <td>0</td>\n",
       "      <td>0.979775</td>\n",
       "      <td>0.980178</td>\n",
       "      <td>0.979775</td>\n",
       "      <td>0.979711</td>\n",
       "      <td>LSTM + TFID &amp; LDA</td>\n",
       "    </tr>\n",
       "    <tr>\n",
       "      <th>1</th>\n",
       "      <td>1</td>\n",
       "      <td>0.921348</td>\n",
       "      <td>0.927653</td>\n",
       "      <td>0.921348</td>\n",
       "      <td>0.921219</td>\n",
       "      <td>LSTM + TFIDF &amp; W2V</td>\n",
       "    </tr>\n",
       "    <tr>\n",
       "      <th>2</th>\n",
       "      <td>2</td>\n",
       "      <td>0.988764</td>\n",
       "      <td>0.989017</td>\n",
       "      <td>0.988764</td>\n",
       "      <td>0.988778</td>\n",
       "      <td>LSTM + TFIDF</td>\n",
       "    </tr>\n",
       "    <tr>\n",
       "      <th>3</th>\n",
       "      <td>3</td>\n",
       "      <td>0.871910</td>\n",
       "      <td>0.873552</td>\n",
       "      <td>0.871910</td>\n",
       "      <td>0.871905</td>\n",
       "      <td>LSTM + ATTENTION LAYER</td>\n",
       "    </tr>\n",
       "  </tbody>\n",
       "</table>\n",
       "</div>"
      ],
      "text/plain": [
       "   Unnamed: 0  accuracy  precision    recall  f1-score                   model\n",
       "0           0  0.979775   0.980178  0.979775  0.979711       LSTM + TFID & LDA\n",
       "1           1  0.921348   0.927653  0.921348  0.921219      LSTM + TFIDF & W2V\n",
       "2           2  0.988764   0.989017  0.988764  0.988778            LSTM + TFIDF\n",
       "3           3  0.871910   0.873552  0.871910  0.871905  LSTM + ATTENTION LAYER"
      ]
     },
     "execution_count": 217,
     "metadata": {},
     "output_type": "execute_result"
    }
   ],
   "source": [
    "other_mdl = pd.read_csv('result.csv')\n",
    "other_mdl"
   ]
  },
  {
   "cell_type": "code",
   "execution_count": 219,
   "id": "2e100485-5de9-421d-9012-97ffe24cbb72",
   "metadata": {},
   "outputs": [
    {
     "data": {
      "text/html": [
       "<div>\n",
       "<style scoped>\n",
       "    .dataframe tbody tr th:only-of-type {\n",
       "        vertical-align: middle;\n",
       "    }\n",
       "\n",
       "    .dataframe tbody tr th {\n",
       "        vertical-align: top;\n",
       "    }\n",
       "\n",
       "    .dataframe thead th {\n",
       "        text-align: right;\n",
       "    }\n",
       "</style>\n",
       "<table border=\"1\" class=\"dataframe\">\n",
       "  <thead>\n",
       "    <tr style=\"text-align: right;\">\n",
       "      <th></th>\n",
       "      <th>Unnamed: 0</th>\n",
       "      <th>accuracy</th>\n",
       "      <th>precision</th>\n",
       "      <th>recall</th>\n",
       "      <th>f1-score</th>\n",
       "      <th>model</th>\n",
       "    </tr>\n",
       "  </thead>\n",
       "  <tbody>\n",
       "    <tr>\n",
       "      <th>0</th>\n",
       "      <td>0</td>\n",
       "      <td>0.979775</td>\n",
       "      <td>0.980178</td>\n",
       "      <td>0.979775</td>\n",
       "      <td>0.979711</td>\n",
       "      <td>LSTM + TFID &amp; LDA</td>\n",
       "    </tr>\n",
       "    <tr>\n",
       "      <th>1</th>\n",
       "      <td>1</td>\n",
       "      <td>0.921348</td>\n",
       "      <td>0.927653</td>\n",
       "      <td>0.921348</td>\n",
       "      <td>0.921219</td>\n",
       "      <td>LSTM + TFIDF &amp; W2V</td>\n",
       "    </tr>\n",
       "    <tr>\n",
       "      <th>2</th>\n",
       "      <td>2</td>\n",
       "      <td>0.988764</td>\n",
       "      <td>0.989017</td>\n",
       "      <td>0.988764</td>\n",
       "      <td>0.988778</td>\n",
       "      <td>LSTM + TFIDF</td>\n",
       "    </tr>\n",
       "    <tr>\n",
       "      <th>3</th>\n",
       "      <td>3</td>\n",
       "      <td>0.871910</td>\n",
       "      <td>0.873552</td>\n",
       "      <td>0.871910</td>\n",
       "      <td>0.871905</td>\n",
       "      <td>LSTM + ATTENTION LAYER</td>\n",
       "    </tr>\n",
       "    <tr>\n",
       "      <th>0</th>\n",
       "      <td>0</td>\n",
       "      <td>0.910233</td>\n",
       "      <td>0.911069</td>\n",
       "      <td>0.910233</td>\n",
       "      <td>0.909923</td>\n",
       "      <td>BERT</td>\n",
       "    </tr>\n",
       "  </tbody>\n",
       "</table>\n",
       "</div>"
      ],
      "text/plain": [
       "   Unnamed: 0  accuracy  precision    recall  f1-score                   model\n",
       "0           0  0.979775   0.980178  0.979775  0.979711       LSTM + TFID & LDA\n",
       "1           1  0.921348   0.927653  0.921348  0.921219      LSTM + TFIDF & W2V\n",
       "2           2  0.988764   0.989017  0.988764  0.988778            LSTM + TFIDF\n",
       "3           3  0.871910   0.873552  0.871910  0.871905  LSTM + ATTENTION LAYER\n",
       "0           0  0.910233   0.911069  0.910233  0.909923                    BERT"
      ]
     },
     "execution_count": 219,
     "metadata": {},
     "output_type": "execute_result"
    }
   ],
   "source": [
    "final_analysis = pd.concat([other_mdl, bert_mdl])\n",
    "final_analysis"
   ]
  },
  {
   "cell_type": "code",
   "execution_count": 221,
   "id": "e267c520-0612-4f8d-9cd1-a3ef8e5a9dc1",
   "metadata": {},
   "outputs": [],
   "source": [
    "final_analysis.drop(columns=['Unnamed: 0'], inplace=True)"
   ]
  },
  {
   "cell_type": "code",
   "execution_count": 222,
   "id": "74cf06bb-e191-4d77-a944-05f4b3c50ed9",
   "metadata": {},
   "outputs": [
    {
     "data": {
      "text/html": [
       "<div>\n",
       "<style scoped>\n",
       "    .dataframe tbody tr th:only-of-type {\n",
       "        vertical-align: middle;\n",
       "    }\n",
       "\n",
       "    .dataframe tbody tr th {\n",
       "        vertical-align: top;\n",
       "    }\n",
       "\n",
       "    .dataframe thead th {\n",
       "        text-align: right;\n",
       "    }\n",
       "</style>\n",
       "<table border=\"1\" class=\"dataframe\">\n",
       "  <thead>\n",
       "    <tr style=\"text-align: right;\">\n",
       "      <th></th>\n",
       "      <th>accuracy</th>\n",
       "      <th>precision</th>\n",
       "      <th>recall</th>\n",
       "      <th>f1-score</th>\n",
       "      <th>model</th>\n",
       "    </tr>\n",
       "  </thead>\n",
       "  <tbody>\n",
       "    <tr>\n",
       "      <th>0</th>\n",
       "      <td>0.979775</td>\n",
       "      <td>0.980178</td>\n",
       "      <td>0.979775</td>\n",
       "      <td>0.979711</td>\n",
       "      <td>LSTM + TFID &amp; LDA</td>\n",
       "    </tr>\n",
       "    <tr>\n",
       "      <th>1</th>\n",
       "      <td>0.921348</td>\n",
       "      <td>0.927653</td>\n",
       "      <td>0.921348</td>\n",
       "      <td>0.921219</td>\n",
       "      <td>LSTM + TFIDF &amp; W2V</td>\n",
       "    </tr>\n",
       "    <tr>\n",
       "      <th>2</th>\n",
       "      <td>0.988764</td>\n",
       "      <td>0.989017</td>\n",
       "      <td>0.988764</td>\n",
       "      <td>0.988778</td>\n",
       "      <td>LSTM + TFIDF</td>\n",
       "    </tr>\n",
       "    <tr>\n",
       "      <th>3</th>\n",
       "      <td>0.871910</td>\n",
       "      <td>0.873552</td>\n",
       "      <td>0.871910</td>\n",
       "      <td>0.871905</td>\n",
       "      <td>LSTM + ATTENTION LAYER</td>\n",
       "    </tr>\n",
       "    <tr>\n",
       "      <th>0</th>\n",
       "      <td>0.910233</td>\n",
       "      <td>0.911069</td>\n",
       "      <td>0.910233</td>\n",
       "      <td>0.909923</td>\n",
       "      <td>BERT</td>\n",
       "    </tr>\n",
       "  </tbody>\n",
       "</table>\n",
       "</div>"
      ],
      "text/plain": [
       "   accuracy  precision    recall  f1-score                   model\n",
       "0  0.979775   0.980178  0.979775  0.979711       LSTM + TFID & LDA\n",
       "1  0.921348   0.927653  0.921348  0.921219      LSTM + TFIDF & W2V\n",
       "2  0.988764   0.989017  0.988764  0.988778            LSTM + TFIDF\n",
       "3  0.871910   0.873552  0.871910  0.871905  LSTM + ATTENTION LAYER\n",
       "0  0.910233   0.911069  0.910233  0.909923                    BERT"
      ]
     },
     "execution_count": 222,
     "metadata": {},
     "output_type": "execute_result"
    }
   ],
   "source": [
    "final_analysis"
   ]
  },
  {
   "cell_type": "code",
   "execution_count": 225,
   "id": "a1b338ef-89c4-49b7-9412-2c74dbc192c6",
   "metadata": {},
   "outputs": [],
   "source": [
    "# final_analysis.plot(kind='bar')"
   ]
  },
  {
   "cell_type": "code",
   "execution_count": 231,
   "id": "bf6941e2-30dc-4e1d-8427-f3e2115352ea",
   "metadata": {},
   "outputs": [
    {
     "data": {
      "text/html": [
       "<div>\n",
       "<style scoped>\n",
       "    .dataframe tbody tr th:only-of-type {\n",
       "        vertical-align: middle;\n",
       "    }\n",
       "\n",
       "    .dataframe tbody tr th {\n",
       "        vertical-align: top;\n",
       "    }\n",
       "\n",
       "    .dataframe thead th {\n",
       "        text-align: right;\n",
       "    }\n",
       "</style>\n",
       "<table border=\"1\" class=\"dataframe\">\n",
       "  <thead>\n",
       "    <tr style=\"text-align: right;\">\n",
       "      <th></th>\n",
       "      <th>accuracy</th>\n",
       "      <th>precision</th>\n",
       "      <th>recall</th>\n",
       "      <th>f1-score</th>\n",
       "      <th>model</th>\n",
       "    </tr>\n",
       "  </thead>\n",
       "  <tbody>\n",
       "    <tr>\n",
       "      <th>0</th>\n",
       "      <td>97.977528</td>\n",
       "      <td>98.017842</td>\n",
       "      <td>97.977528</td>\n",
       "      <td>97.971081</td>\n",
       "      <td>LSTM + TFID &amp; LDA</td>\n",
       "    </tr>\n",
       "    <tr>\n",
       "      <th>1</th>\n",
       "      <td>92.134831</td>\n",
       "      <td>92.765288</td>\n",
       "      <td>92.134831</td>\n",
       "      <td>92.121854</td>\n",
       "      <td>LSTM + TFIDF &amp; W2V</td>\n",
       "    </tr>\n",
       "    <tr>\n",
       "      <th>2</th>\n",
       "      <td>98.876404</td>\n",
       "      <td>98.901685</td>\n",
       "      <td>98.876404</td>\n",
       "      <td>98.877814</td>\n",
       "      <td>LSTM + TFIDF</td>\n",
       "    </tr>\n",
       "    <tr>\n",
       "      <th>3</th>\n",
       "      <td>87.191011</td>\n",
       "      <td>87.355154</td>\n",
       "      <td>87.191011</td>\n",
       "      <td>87.190507</td>\n",
       "      <td>LSTM + ATTENTION LAYER</td>\n",
       "    </tr>\n",
       "    <tr>\n",
       "      <th>0</th>\n",
       "      <td>91.023339</td>\n",
       "      <td>91.106853</td>\n",
       "      <td>91.023339</td>\n",
       "      <td>90.992276</td>\n",
       "      <td>BERT</td>\n",
       "    </tr>\n",
       "  </tbody>\n",
       "</table>\n",
       "</div>"
      ],
      "text/plain": [
       "    accuracy  precision     recall   f1-score                   model\n",
       "0  97.977528  98.017842  97.977528  97.971081       LSTM + TFID & LDA\n",
       "1  92.134831  92.765288  92.134831  92.121854      LSTM + TFIDF & W2V\n",
       "2  98.876404  98.901685  98.876404  98.877814            LSTM + TFIDF\n",
       "3  87.191011  87.355154  87.191011  87.190507  LSTM + ATTENTION LAYER\n",
       "0  91.023339  91.106853  91.023339  90.992276                    BERT"
      ]
     },
     "execution_count": 231,
     "metadata": {},
     "output_type": "execute_result"
    }
   ],
   "source": [
    "cols = final_analysis.columns[:-1]\n",
    "final_analysis[cols] = final_analysis[cols].apply(lambda x: x * 100)\n",
    "final_analysis"
   ]
  },
  {
   "cell_type": "code",
   "execution_count": 234,
   "id": "e14fbc21-52c4-458f-85c0-0a7915aa9914",
   "metadata": {},
   "outputs": [],
   "source": [
    "# export final result.... \n",
    "final_analysis.to_excel('final_result.xlsx')"
   ]
  },
  {
   "cell_type": "code",
   "execution_count": 235,
   "id": "69204543-be77-43d8-a6bf-0c053ab5e8b7",
   "metadata": {},
   "outputs": [],
   "source": [
    "final_analysis.transpose().to_excel('final_result2.xlsx')"
   ]
  }
 ],
 "metadata": {
  "kernelspec": {
   "display_name": "Python 3 (ipykernel)",
   "language": "python",
   "name": "python3"
  },
  "language_info": {
   "codemirror_mode": {
    "name": "ipython",
    "version": 3
   },
   "file_extension": ".py",
   "mimetype": "text/x-python",
   "name": "python",
   "nbconvert_exporter": "python",
   "pygments_lexer": "ipython3",
   "version": "3.9.5"
  }
 },
 "nbformat": 4,
 "nbformat_minor": 5
}
