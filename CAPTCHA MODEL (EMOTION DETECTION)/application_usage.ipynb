{
 "cells": [
  {
   "cell_type": "markdown",
   "id": "dbb213b9-b60e-4b7a-afed-34571647af69",
   "metadata": {},
   "source": [
    "### Text Emotion Data"
   ]
  },
  {
   "cell_type": "code",
   "execution_count": 1,
   "id": "9199bf01-b481-4bd6-b39f-9f333ada0e48",
   "metadata": {},
   "outputs": [],
   "source": [
    "# buiding function for collecting data \n",
    "# used in showing the text and image captcha\n",
    "import pandas as pd\n",
    "import json \n",
    "import random"
   ]
  },
  {
   "cell_type": "code",
   "execution_count": 2,
   "id": "825a5897-f595-4557-b939-f99054e23660",
   "metadata": {},
   "outputs": [],
   "source": [
    "# data laoding with a single function \n",
    "def load_dataset(path): \n",
    "    train_data = \"\"\n",
    "    with open(path, 'r') as train_file: \n",
    "        train_data = train_file.read()\n",
    "    \n",
    "    train_data = train_data.split('\\n')\n",
    "    train_set = {\n",
    "    'text': [], \n",
    "    'tag':[]\n",
    "    }\n",
    "    for data in train_data: \n",
    "    #     print('do')\n",
    "\n",
    "        row = data.split(';')\n",
    "        if len(row) != 2:\n",
    "            print(row)\n",
    "        else:\n",
    "            txt, emo  = data.split(';')\n",
    "            train_set['text'].append(txt)\n",
    "            train_set['tag'].append(emo)\n",
    "    \n",
    "    return pd.DataFrame(train_set)\n",
    "\n",
    "\n",
    "def get_emotion_sample(data): \n",
    "    json_emo = data.to_json(orient='records')\n",
    "    emotion_data = json.loads(json_emo)\n",
    "    index = random.choice(range(0, len(emotion_data)))\n",
    "    return emotion_data[index] "
   ]
  },
  {
   "cell_type": "code",
   "execution_count": 3,
   "id": "83c2e10b-2ab5-4226-980a-693d5c01f57c",
   "metadata": {},
   "outputs": [
    {
     "name": "stdout",
     "output_type": "stream",
     "text": [
      "['']\n"
     ]
    }
   ],
   "source": [
    "# load data\n",
    "test_df = load_dataset('text_emo/test.txt')"
   ]
  },
  {
   "cell_type": "code",
   "execution_count": 4,
   "id": "b36bfdce-606a-4fc4-aa1e-964ac6478378",
   "metadata": {},
   "outputs": [
    {
     "data": {
      "text/plain": [
       "array(['sadness', 'joy', 'fear', 'anger', 'love', 'surprise'],\n",
       "      dtype=object)"
      ]
     },
     "execution_count": 4,
     "metadata": {},
     "output_type": "execute_result"
    }
   ],
   "source": [
    "test_df.tag.unique()"
   ]
  },
  {
   "cell_type": "code",
   "execution_count": 5,
   "id": "3add2f7d-7c53-44ce-9558-f837dea87cec",
   "metadata": {},
   "outputs": [
    {
     "data": {
      "text/plain": [
       "{'text': 'i feel that i could be gentle you light up my future', 'tag': 'love'}"
      ]
     },
     "execution_count": 5,
     "metadata": {},
     "output_type": "execute_result"
    }
   ],
   "source": [
    "get_emotion_sample(test_df)"
   ]
  },
  {
   "cell_type": "code",
   "execution_count": null,
   "id": "9708a523-23b3-4dc3-8877-c5712be15d07",
   "metadata": {},
   "outputs": [],
   "source": []
  },
  {
   "cell_type": "markdown",
   "id": "1f8aacc4-7c24-47da-9ebf-a422df4a49a5",
   "metadata": {},
   "source": [
    "### Image Emotion Data"
   ]
  },
  {
   "cell_type": "code",
   "execution_count": 6,
   "id": "2068de64-235f-42d6-bf26-6852244603f9",
   "metadata": {},
   "outputs": [],
   "source": [
    "import pathlib\n",
    "import numpy as np\n",
    "\n",
    "url = 'emotion_image/'\n",
    "\n",
    "img_path  =  pathlib.Path(url)\n",
    "img_list = [str(img) for img in list(img_path.glob('angry/*.png'))]"
   ]
  },
  {
   "cell_type": "code",
   "execution_count": 7,
   "id": "0f23b68c-d50f-4152-a2f8-5bdb4b96b5c3",
   "metadata": {},
   "outputs": [],
   "source": [
    "img_diction = {\n",
    "    'images':{\n",
    "    'angry':[str(img) for img in list(img_path.glob('angry/*.png'))], \n",
    "    'fearful': [str(img) for img in list(img_path.glob('fearful/*.png'))], \n",
    "    'happy':[str(img) for img in list(img_path.glob('happy/*.png'))], \n",
    "    'sad': [str(img) for img in list(img_path.glob('sad/*.png'))], \n",
    "    'surprised':[str(img) for img in list(img_path.glob('surprised/*.png'))]\n",
    "    },\n",
    "\n",
    "    'label':{\n",
    "    'angry': 0, \n",
    "    'fearful': 1,\n",
    "    'happy': 2,\n",
    "    'sad': 3,\n",
    "    'surprised': 4\n",
    "    }\n",
    ",\n",
    "    'size':{\n",
    "    'angry':len([str(img) for img in list(img_path.glob('angry/*.png'))]), \n",
    "    'fearful': len([str(img) for img in list(img_path.glob('fearful/*.png'))]), \n",
    "    'happy':len([str(img) for img in list(img_path.glob('happy/*.png'))]), \n",
    "    'sad': len([str(img) for img in list(img_path.glob('sad/*.png'))]), \n",
    "    'surprised':len([str(img) for img in list(img_path.glob('surprised/*.png'))])\n",
    "    }\n",
    "}\n",
    "\n",
    "\n",
    "val = np.max(list(img_diction['size'].values()))"
   ]
  },
  {
   "cell_type": "code",
   "execution_count": 8,
   "id": "6ecd4834-c08f-46e9-8f0a-bcb472d33721",
   "metadata": {},
   "outputs": [
    {
     "name": "stdout",
     "output_type": "stream",
     "text": [
      "22\n",
      "lable tag :  4\n"
     ]
    },
    {
     "data": {
      "text/plain": [
       "Text(0.5, 1.0, 'surprised')"
      ]
     },
     "execution_count": 8,
     "metadata": {},
     "output_type": "execute_result"
    },
    {
     "data": {
      "image/png": "[encoded data removed]",
      "text/plain": [
       "<Figure size 640x480 with 1 Axes>"
      ]
     },
     "metadata": {},
     "output_type": "display_data"
    }
   ],
   "source": [
    "import cv2\n",
    "import matplotlib.pyplot as plt\n",
    "\n",
    "emo = random.choice(['angry', 'fearful', 'happy', 'sad', 'surprised'])\n",
    "img_index = random.choice(range(0, val))\n",
    "print(img_index)\n",
    "\n",
    "img = cv2.imread(img_diction['images'][emo][img_index])\n",
    "lbl = img_diction['label'][emo]\n",
    "print('lable tag : ', lbl)\n",
    "plt.imshow(img)\n",
    "plt.title(emo)"
   ]
  },
  {
   "cell_type": "code",
   "execution_count": 117,
   "id": "aaf4ba7f-bfe3-48a3-9faf-4269f0f661a2",
   "metadata": {},
   "outputs": [],
   "source": [
    "from scipy import stats"
   ]
  },
  {
   "cell_type": "code",
   "execution_count": 119,
   "id": "5093dae6-b506-4048-bb08-74c2796fa113",
   "metadata": {},
   "outputs": [
    {
     "name": "stdout",
     "output_type": "stream",
     "text": [
      "Help on package scipy:\n",
      "\n",
      "NAME\n",
      "    scipy\n",
      "\n",
      "DESCRIPTION\n",
      "    SciPy: A scientific computing package for Python\n",
      "    ================================================\n",
      "    \n",
      "    Documentation is available in the docstrings and\n",
      "    online at https://docs.scipy.org.\n",
      "    \n",
      "    Contents\n",
      "    --------\n",
      "    SciPy imports all the functions from the NumPy namespace, and in\n",
      "    addition provides:\n",
      "    \n",
      "    Subpackages\n",
      "    -----------\n",
      "    Using any of these subpackages requires an explicit import. For example,\n",
      "    ``import scipy.cluster``.\n",
      "    \n",
      "    ::\n",
      "    \n",
      "     cluster                      --- Vector Quantization / Kmeans\n",
      "     datasets                     --- Dataset methods\n",
      "     fft                          --- Discrete Fourier transforms\n",
      "     fftpack                      --- Legacy discrete Fourier transforms\n",
      "     integrate                    --- Integration routines\n",
      "     interpolate                  --- Interpolation Tools\n",
      "     io                           --- Data input and output\n",
      "     linalg                       --- Linear algebra routines\n",
      "     linalg.blas                  --- Wrappers to BLAS library\n",
      "     linalg.lapack                --- Wrappers to LAPACK library\n",
      "     misc                         --- Various utilities that don't have\n",
      "                                      another home.\n",
      "     ndimage                      --- N-D image package\n",
      "     odr                          --- Orthogonal Distance Regression\n",
      "     optimize                     --- Optimization Tools\n",
      "     signal                       --- Signal Processing Tools\n",
      "     signal.windows               --- Window functions\n",
      "     sparse                       --- Sparse Matrices\n",
      "     sparse.linalg                --- Sparse Linear Algebra\n",
      "     sparse.linalg.dsolve         --- Linear Solvers\n",
      "     sparse.linalg.dsolve.umfpack --- :Interface to the UMFPACK library:\n",
      "                                      Conjugate Gradient Method (LOBPCG)\n",
      "     sparse.linalg.eigen          --- Sparse Eigenvalue Solvers\n",
      "     sparse.linalg.eigen.lobpcg   --- Locally Optimal Block Preconditioned\n",
      "                                      Conjugate Gradient Method (LOBPCG)\n",
      "     spatial                      --- Spatial data structures and algorithms\n",
      "     special                      --- Special functions\n",
      "     stats                        --- Statistical Functions\n",
      "    \n",
      "    Utility tools\n",
      "    -------------\n",
      "    ::\n",
      "    \n",
      "     test              --- Run scipy unittests\n",
      "     show_config       --- Show scipy build configuration\n",
      "     show_numpy_config --- Show numpy build configuration\n",
      "     __version__       --- SciPy version string\n",
      "     __numpy_version__ --- Numpy version string\n",
      "\n",
      "PACKAGE CONTENTS\n",
      "    __config__\n",
      "    _distributor_init\n",
      "    _lib (package)\n",
      "    cluster (package)\n",
      "    conftest\n",
      "    constants (package)\n",
      "    datasets (package)\n",
      "    fft (package)\n",
      "    fftpack (package)\n",
      "    integrate (package)\n",
      "    interpolate (package)\n",
      "    io (package)\n",
      "    linalg (package)\n",
      "    misc (package)\n",
      "    ndimage (package)\n",
      "    odr (package)\n",
      "    optimize (package)\n",
      "    signal (package)\n",
      "    sparse (package)\n",
      "    spatial (package)\n",
      "    special (package)\n",
      "    stats (package)\n",
      "    version\n",
      "\n",
      "CLASSES\n",
      "    builtins.tuple(builtins.object)\n",
      "        scipy._lib._ccallback.LowLevelCallable\n",
      "    \n",
      "    class LowLevelCallable(builtins.tuple)\n",
      "     |  LowLevelCallable(function, user_data=None, signature=None)\n",
      "     |  \n",
      "     |  Low-level callback function.\n",
      "     |  \n",
      "     |  Parameters\n",
      "     |  ----------\n",
      "     |  function : {PyCapsule, ctypes function pointer, cffi function pointer}\n",
      "     |      Low-level callback function.\n",
      "     |  user_data : {PyCapsule, ctypes void pointer, cffi void pointer}\n",
      "     |      User data to pass on to the callback function.\n",
      "     |  signature : str, optional\n",
      "     |      Signature of the function. If omitted, determined from *function*,\n",
      "     |      if possible.\n",
      "     |  \n",
      "     |  Attributes\n",
      "     |  ----------\n",
      "     |  function\n",
      "     |      Callback function given.\n",
      "     |  user_data\n",
      "     |      User data given.\n",
      "     |  signature\n",
      "     |      Signature of the function.\n",
      "     |  \n",
      "     |  Methods\n",
      "     |  -------\n",
      "     |  from_cython\n",
      "     |      Class method for constructing callables from Cython C-exported\n",
      "     |      functions.\n",
      "     |  \n",
      "     |  Notes\n",
      "     |  -----\n",
      "     |  The argument ``function`` can be one of:\n",
      "     |  \n",
      "     |  - PyCapsule, whose name contains the C function signature\n",
      "     |  - ctypes function pointer\n",
      "     |  - cffi function pointer\n",
      "     |  \n",
      "     |  The signature of the low-level callback must match one of those expected\n",
      "     |  by the routine it is passed to.\n",
      "     |  \n",
      "     |  If constructing low-level functions from a PyCapsule, the name of the\n",
      "     |  capsule must be the corresponding signature, in the format::\n",
      "     |  \n",
      "     |      return_type (arg1_type, arg2_type, ...)\n",
      "     |  \n",
      "     |  For example::\n",
      "     |  \n",
      "     |      \"void (double)\"\n",
      "     |      \"double (double, int *, void *)\"\n",
      "     |  \n",
      "     |  The context of a PyCapsule passed in as ``function`` is used as ``user_data``,\n",
      "     |  if an explicit value for ``user_data`` was not given.\n",
      "     |  \n",
      "     |  Method resolution order:\n",
      "     |      LowLevelCallable\n",
      "     |      builtins.tuple\n",
      "     |      builtins.object\n",
      "     |  \n",
      "     |  Methods defined here:\n",
      "     |  \n",
      "     |  __getitem__(self, idx)\n",
      "     |      Return self[key].\n",
      "     |  \n",
      "     |  __repr__(self)\n",
      "     |      Return repr(self).\n",
      "     |  \n",
      "     |  ----------------------------------------------------------------------\n",
      "     |  Class methods defined here:\n",
      "     |  \n",
      "     |  from_cython(module, name, user_data=None, signature=None) from builtins.type\n",
      "     |      Create a low-level callback function from an exported Cython function.\n",
      "     |      \n",
      "     |      Parameters\n",
      "     |      ----------\n",
      "     |      module : module\n",
      "     |          Cython module where the exported function resides\n",
      "     |      name : str\n",
      "     |          Name of the exported function\n",
      "     |      user_data : {PyCapsule, ctypes void pointer, cffi void pointer}, optional\n",
      "     |          User data to pass on to the callback function.\n",
      "     |      signature : str, optional\n",
      "     |          Signature of the function. If omitted, determined from *function*.\n",
      "     |  \n",
      "     |  ----------------------------------------------------------------------\n",
      "     |  Static methods defined here:\n",
      "     |  \n",
      "     |  __new__(cls, function, user_data=None, signature=None)\n",
      "     |      Create and return a new object.  See help(type) for accurate signature.\n",
      "     |  \n",
      "     |  ----------------------------------------------------------------------\n",
      "     |  Readonly properties defined here:\n",
      "     |  \n",
      "     |  function\n",
      "     |  \n",
      "     |  signature\n",
      "     |  \n",
      "     |  user_data\n",
      "     |  \n",
      "     |  ----------------------------------------------------------------------\n",
      "     |  Methods inherited from builtins.tuple:\n",
      "     |  \n",
      "     |  __add__(self, value, /)\n",
      "     |      Return self+value.\n",
      "     |  \n",
      "     |  __contains__(self, key, /)\n",
      "     |      Return key in self.\n",
      "     |  \n",
      "     |  __eq__(self, value, /)\n",
      "     |      Return self==value.\n",
      "     |  \n",
      "     |  __ge__(self, value, /)\n",
      "     |      Return self>=value.\n",
      "     |  \n",
      "     |  __getattribute__(self, name, /)\n",
      "     |      Return getattr(self, name).\n",
      "     |  \n",
      "     |  __getnewargs__(self, /)\n",
      "     |  \n",
      "     |  __gt__(self, value, /)\n",
      "     |      Return self>value.\n",
      "     |  \n",
      "     |  __hash__(self, /)\n",
      "     |      Return hash(self).\n",
      "     |  \n",
      "     |  __iter__(self, /)\n",
      "     |      Implement iter(self).\n",
      "     |  \n",
      "     |  __le__(self, value, /)\n",
      "     |      Return self<=value.\n",
      "     |  \n",
      "     |  __len__(self, /)\n",
      "     |      Return len(self).\n",
      "     |  \n",
      "     |  __lt__(self, value, /)\n",
      "     |      Return self<value.\n",
      "     |  \n",
      "     |  __mul__(self, value, /)\n",
      "     |      Return self*value.\n",
      "     |  \n",
      "     |  __ne__(self, value, /)\n",
      "     |      Return self!=value.\n",
      "     |  \n",
      "     |  __rmul__(self, value, /)\n",
      "     |      Return value*self.\n",
      "     |  \n",
      "     |  count(self, value, /)\n",
      "     |      Return number of occurrences of value.\n",
      "     |  \n",
      "     |  index(self, value, start=0, stop=9223372036854775807, /)\n",
      "     |      Return first index of value.\n",
      "     |      \n",
      "     |      Raises ValueError if the value is not present.\n",
      "     |  \n",
      "     |  ----------------------------------------------------------------------\n",
      "     |  Class methods inherited from builtins.tuple:\n",
      "     |  \n",
      "     |  __class_getitem__(...) from builtins.type\n",
      "     |      See PEP 585\n",
      "\n",
      "FUNCTIONS\n",
      "    show_config = show(mode='stdout')\n",
      "        Show libraries and system information on which SciPy was built\n",
      "        and is being used\n",
      "        \n",
      "        Parameters\n",
      "        ----------\n",
      "        mode : {`'stdout'`, `'dicts'`}, optional.\n",
      "            Indicates how to display the config information.\n",
      "            `'stdout'` prints to console, `'dicts'` returns a dictionary\n",
      "            of the configuration.\n",
      "        \n",
      "        Returns\n",
      "        -------\n",
      "        out : {`dict`, `None`}\n",
      "            If mode is `'dicts'`, a dict is returned, else None\n",
      "        \n",
      "        Notes\n",
      "        -----\n",
      "        1. The `'stdout'` mode will give more readable\n",
      "           output if ``pyyaml`` is installed\n",
      "\n",
      "DATA\n",
      "    __numpy_version__ = '1.24.3'\n",
      "    test = <scipy._lib._testutils.PytestTester object>\n",
      "\n",
      "VERSION\n",
      "    1.10.1\n",
      "\n",
      "FILE\n",
      "    c:\\users\\hp\\appdata\\local\\programs\\python\\python39\\lib\\site-packages\\scipy\\__init__.py\n",
      "\n",
      "\n"
     ]
    }
   ],
   "source": [
    "import scipy\n",
    "\n",
    "help(scipy)"
   ]
  },
  {
   "cell_type": "code",
   "execution_count": 107,
   "id": "95b2a265-f941-4aa3-8b35-c956ca11a2b3",
   "metadata": {},
   "outputs": [],
   "source": [
    "def get_image_random_data(img_diction):\n",
    "    val = np.max(list(img_diction['size'].values()))\n",
    "\n",
    "    images, labels = [] , []\n",
    "    col_image = [] \n",
    "    \n",
    "    for index in range(6): \n",
    "        emo = random.choice(['angry', 'fearful', 'happy', 'sad', 'surprised'])\n",
    "        img_index = random.choice(range(0, val))\n",
    "        print(img_index)\n",
    "        img = cv2.imread(img_diction['images'][emo][img_index])\n",
    "        lbl = img_diction['label'][emo]\n",
    "        col_image.append(emo)\n",
    "\n",
    "        # stor\n",
    "        images.append(img)\n",
    "        labels.append(lbl)\n",
    "    \n",
    "    print(col_image)\n",
    "    print(stats.mode(np.array(col_image))[0])\n",
    "    caller = stats.mode(np.array(col_image))[0]\n",
    "    print(caller[0])\n",
    "    print(img_diction['label'][caller[0]])\n",
    "    # plt.imshow(img)\n",
    "    # plt.title(emo)\n",
    "\n",
    "    \n",
    "    \n",
    "    return  {'index':range(6) ,'img':images, 'lbl':labels}\n",
    "        "
   ]
  },
  {
   "cell_type": "code",
   "execution_count": 108,
   "id": "7295d3df-9484-404f-a7b3-a5df0099a854",
   "metadata": {},
   "outputs": [
    {
     "name": "stdout",
     "output_type": "stream",
     "text": [
      "20\n",
      "6\n",
      "7\n",
      "8\n",
      "3\n",
      "16\n",
      "['angry', 'angry', 'angry', 'sad', 'fearful', 'happy']\n",
      "['angry']\n",
      "angry\n",
      "0\n"
     ]
    },
    {
     "name": "stderr",
     "output_type": "stream",
     "text": [
      "C:\\Users\\HP\\AppData\\Local\\Temp\\ipykernel_15560\\3684536281.py:20: FutureWarning: Unlike other reduction functions (e.g. `skew`, `kurtosis`), the default behavior of `mode` typically preserves the axis it acts along. In SciPy 1.11.0, this behavior will change: the default value of `keepdims` will become False, the `axis` over which the statistic is taken will be eliminated, and the value None will no longer be accepted. Set `keepdims` to True or False to avoid this warning.\n",
      "  print(stats.mode(np.array(col_image))[0])\n",
      "C:\\Users\\HP\\AppData\\Local\\Temp\\ipykernel_15560\\3684536281.py:20: DeprecationWarning: Support for non-numeric arrays has been deprecated as of SciPy 1.9.0 and will be removed in 1.11.0. `pandas.DataFrame.mode` can be used instead, see https://pandas.pydata.org/docs/reference/api/pandas.DataFrame.mode.html.\n",
      "  print(stats.mode(np.array(col_image))[0])\n",
      "C:\\Users\\HP\\AppData\\Local\\Temp\\ipykernel_15560\\3684536281.py:21: FutureWarning: Unlike other reduction functions (e.g. `skew`, `kurtosis`), the default behavior of `mode` typically preserves the axis it acts along. In SciPy 1.11.0, this behavior will change: the default value of `keepdims` will become False, the `axis` over which the statistic is taken will be eliminated, and the value None will no longer be accepted. Set `keepdims` to True or False to avoid this warning.\n",
      "  caller = stats.mode(np.array(col_image))[0]\n",
      "C:\\Users\\HP\\AppData\\Local\\Temp\\ipykernel_15560\\3684536281.py:21: DeprecationWarning: Support for non-numeric arrays has been deprecated as of SciPy 1.9.0 and will be removed in 1.11.0. `pandas.DataFrame.mode` can be used instead, see https://pandas.pydata.org/docs/reference/api/pandas.DataFrame.mode.html.\n",
      "  caller = stats.mode(np.array(col_image))[0]\n"
     ]
    }
   ],
   "source": [
    "random_img = get_image_random_data(img_diction)"
   ]
  },
  {
   "cell_type": "code",
   "execution_count": 86,
   "id": "3a323700-dd14-427f-a080-8b1656f172ef",
   "metadata": {},
   "outputs": [
    {
     "data": {
      "text/plain": [
       "[4, 2, 2, 2, 3, 0]"
      ]
     },
     "execution_count": 86,
     "metadata": {},
     "output_type": "execute_result"
    }
   ],
   "source": [
    "random_img['lbl']"
   ]
  },
  {
   "cell_type": "code",
   "execution_count": 12,
   "id": "a05080d2-61b7-4800-b43d-cde3235ba7c0",
   "metadata": {},
   "outputs": [
    {
     "data": {
      "text/plain": [
       "'angry\\\\im0.png'"
      ]
     },
     "execution_count": 12,
     "metadata": {},
     "output_type": "execute_result"
    }
   ],
   "source": [
    "img_diction['images']['angry'][0].split('emotion_image\\\\')[-1]"
   ]
  },
  {
   "cell_type": "code",
   "execution_count": 63,
   "id": "1105eadd-7b07-4b1e-83e8-6d01bde325b8",
   "metadata": {},
   "outputs": [
    {
     "name": "stdout",
     "output_type": "stream",
     "text": [
      "0 angry\n",
      "1 fearful\n",
      "2 happy\n",
      "3 sad\n",
      "4 surprised\n"
     ]
    }
   ],
   "source": [
    "for index, cat in enumerate(img_diction['images']):\n",
    "    print(index, cat)\n",
    "    "
   ]
  },
  {
   "cell_type": "code",
   "execution_count": 122,
   "id": "fa2d540f-0a6d-404c-8f6b-c25a6bcdfeb9",
   "metadata": {},
   "outputs": [
    {
     "data": {
      "text/plain": [
       "{'angry': 0, 'fearful': 1, 'happy': 2, 'sad': 3, 'surprised': 4}"
      ]
     },
     "execution_count": 122,
     "metadata": {},
     "output_type": "execute_result"
    }
   ],
   "source": [
    "img_diction['label']"
   ]
  },
  {
   "cell_type": "code",
   "execution_count": null,
   "id": "c254cd1f",
   "metadata": {},
   "outputs": [],
   "source": []
  }
 ],
 "metadata": {
  "kernelspec": {
   "display_name": "Python 3 (ipykernel)",
   "language": "python",
   "name": "python3"
  },
  "language_info": {
   "codemirror_mode": {
    "name": "ipython",
    "version": 3
   },
   "file_extension": ".py",
   "mimetype": "text/x-python",
   "name": "python",
   "nbconvert_exporter": "python",
   "pygments_lexer": "ipython3",
   "version": "3.9.5"
  }
 },
 "nbformat": 4,
 "nbformat_minor": 5
}
