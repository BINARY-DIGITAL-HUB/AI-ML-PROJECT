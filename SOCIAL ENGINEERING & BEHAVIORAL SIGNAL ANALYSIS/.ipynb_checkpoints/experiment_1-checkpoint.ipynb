{
 "cells": [
  {
   "cell_type": "code",
   "execution_count": 1,
   "id": "0bdec03d-1f92-482d-b815-8ed5f8e5442c",
   "metadata": {},
   "outputs": [],
   "source": [
    "import pandas as pd\n",
    "import numpy as np \n",
    "import matplotlib.pyplot as plt\n",
    "from sklearn.preprocessing import LabelEncoder\n",
    "import seaborn as sn\n",
    "from sklearn.model_selection import train_test_split\n",
    "import matplotlib.pyplot as plt\n",
    "\n",
    "import warnings \n",
    "warnings.filterwarnings('ignore')\n"
   ]
  },
  {
   "cell_type": "code",
   "execution_count": 2,
   "id": "7975c3cc-d880-4a28-b456-f51a805f283a",
   "metadata": {},
   "outputs": [],
   "source": [
    "# DATA LOADING AND IMPORTATION"
   ]
  },
  {
   "cell_type": "code",
   "execution_count": 3,
   "id": "6b2c901b-e214-4596-a6b7-9223b02fe753",
   "metadata": {},
   "outputs": [],
   "source": [
    "# link: https://www.kaggle.com/datasets/advaithsrao/enron-fraud-email-dataset\n",
    "# link: https://www.kaggle.com/code/julienserbanescu/social-engineering-detection"
   ]
  },
  {
   "cell_type": "code",
   "execution_count": 15,
   "id": "55df2203-cbbd-484b-8a3f-954bd0fe1f39",
   "metadata": {},
   "outputs": [
    {
     "data": {
      "text/html": [
       "<div>\n",
       "<style scoped>\n",
       "    .dataframe tbody tr th:only-of-type {\n",
       "        vertical-align: middle;\n",
       "    }\n",
       "\n",
       "    .dataframe tbody tr th {\n",
       "        vertical-align: top;\n",
       "    }\n",
       "\n",
       "    .dataframe thead th {\n",
       "        text-align: right;\n",
       "    }\n",
       "</style>\n",
       "<table border=\"1\" class=\"dataframe\">\n",
       "  <thead>\n",
       "    <tr style=\"text-align: right;\">\n",
       "      <th></th>\n",
       "      <th>Folder-User</th>\n",
       "      <th>Folder-Name</th>\n",
       "      <th>Message-ID</th>\n",
       "      <th>Date</th>\n",
       "      <th>From</th>\n",
       "      <th>To</th>\n",
       "      <th>Subject</th>\n",
       "      <th>Mime-Version</th>\n",
       "      <th>Content-Type</th>\n",
       "      <th>Content-Transfer-Encoding</th>\n",
       "      <th>...</th>\n",
       "      <th>Re</th>\n",
       "      <th>Source</th>\n",
       "      <th>Mail-ID</th>\n",
       "      <th>POI-Present</th>\n",
       "      <th>Suspicious-Folders</th>\n",
       "      <th>Sender-Type</th>\n",
       "      <th>Unique-Mails-From-Sender</th>\n",
       "      <th>Low-Comm</th>\n",
       "      <th>Contains-Reply-Forwards</th>\n",
       "      <th>Label</th>\n",
       "    </tr>\n",
       "  </thead>\n",
       "  <tbody>\n",
       "    <tr>\n",
       "      <th>0</th>\n",
       "      <td>maildir</td>\n",
       "      <td>arnold-j</td>\n",
       "      <td>&lt;17334447.1075857585446.JavaMail.evans@thyme&gt;</td>\n",
       "      <td>Thu, 16 Nov 2000 09:30:00 -0800 (PST)</td>\n",
       "      <td>msagel@home.com</td>\n",
       "      <td>jarnold@enron.com</td>\n",
       "      <td>Status</td>\n",
       "      <td>1.0</td>\n",
       "      <td>text/plain; charset=ANSI_X3.4-1968</td>\n",
       "      <td>7bit</td>\n",
       "      <td>...</td>\n",
       "      <td></td>\n",
       "      <td>Enron Data</td>\n",
       "      <td>b399fa1ba5ec06ccf8ead1049a53be981d0ebb39ee2c94...</td>\n",
       "      <td>False</td>\n",
       "      <td>False</td>\n",
       "      <td>External</td>\n",
       "      <td>18.0</td>\n",
       "      <td>False</td>\n",
       "      <td>False</td>\n",
       "      <td>0</td>\n",
       "    </tr>\n",
       "    <tr>\n",
       "      <th>1</th>\n",
       "      <td>maildir</td>\n",
       "      <td>arnold-j</td>\n",
       "      <td>&lt;19171686.1075857585034.JavaMail.evans@thyme&gt;</td>\n",
       "      <td>Fri, 8 Dec 2000 05:05:00 -0800 (PST)</td>\n",
       "      <td>slafontaine@globalp.com</td>\n",
       "      <td>john.arnold@enron.com</td>\n",
       "      <td>re:summer inverses</td>\n",
       "      <td>1.0</td>\n",
       "      <td>text/plain; charset=us-ascii</td>\n",
       "      <td>7bit</td>\n",
       "      <td>...</td>\n",
       "      <td></td>\n",
       "      <td>Enron Data</td>\n",
       "      <td>84b07d7a0a17b545896f670f92d200e86843c2796147d9...</td>\n",
       "      <td>False</td>\n",
       "      <td>False</td>\n",
       "      <td>External</td>\n",
       "      <td>4.0</td>\n",
       "      <td>True</td>\n",
       "      <td>False</td>\n",
       "      <td>0</td>\n",
       "    </tr>\n",
       "    <tr>\n",
       "      <th>2</th>\n",
       "      <td>maildir</td>\n",
       "      <td>arnold-j</td>\n",
       "      <td>&lt;29887033.1075857630725.JavaMail.evans@thyme&gt;</td>\n",
       "      <td>Tue, 15 May 2001 09:43:00 -0700 (PDT)</td>\n",
       "      <td>iceoperations@intcx.com</td>\n",
       "      <td>icehelpdesk@intcx.com, internalmarketing@intcx...</td>\n",
       "      <td>The WTI Bullet swap contracts</td>\n",
       "      <td>1.0</td>\n",
       "      <td>text/plain; charset=us-ascii</td>\n",
       "      <td>7bit</td>\n",
       "      <td>...</td>\n",
       "      <td></td>\n",
       "      <td>Enron Data</td>\n",
       "      <td>f7482dd06262f46d341e733aa0c2fb55cb1e257ea153d0...</td>\n",
       "      <td>False</td>\n",
       "      <td>False</td>\n",
       "      <td>External</td>\n",
       "      <td>3.0</td>\n",
       "      <td>True</td>\n",
       "      <td>False</td>\n",
       "      <td>0</td>\n",
       "    </tr>\n",
       "  </tbody>\n",
       "</table>\n",
       "<p>3 rows × 32 columns</p>\n",
       "</div>"
      ],
      "text/plain": [
       "  Folder-User Folder-Name                                     Message-ID  \\\n",
       "0     maildir    arnold-j  <17334447.1075857585446.JavaMail.evans@thyme>   \n",
       "1     maildir    arnold-j  <19171686.1075857585034.JavaMail.evans@thyme>   \n",
       "2     maildir    arnold-j  <29887033.1075857630725.JavaMail.evans@thyme>   \n",
       "\n",
       "                                    Date                     From  \\\n",
       "0  Thu, 16 Nov 2000 09:30:00 -0800 (PST)          msagel@home.com   \n",
       "1   Fri, 8 Dec 2000 05:05:00 -0800 (PST)  slafontaine@globalp.com   \n",
       "2  Tue, 15 May 2001 09:43:00 -0700 (PDT)  iceoperations@intcx.com   \n",
       "\n",
       "                                                  To  \\\n",
       "0                                  jarnold@enron.com   \n",
       "1                              john.arnold@enron.com   \n",
       "2  icehelpdesk@intcx.com, internalmarketing@intcx...   \n",
       "\n",
       "                         Subject Mime-Version  \\\n",
       "0                         Status          1.0   \n",
       "1             re:summer inverses          1.0   \n",
       "2  The WTI Bullet swap contracts          1.0   \n",
       "\n",
       "                         Content-Type Content-Transfer-Encoding  ... Re  \\\n",
       "0  text/plain; charset=ANSI_X3.4-1968                      7bit  ...      \n",
       "1        text/plain; charset=us-ascii                      7bit  ...      \n",
       "2        text/plain; charset=us-ascii                      7bit  ...      \n",
       "\n",
       "       Source                                            Mail-ID POI-Present  \\\n",
       "0  Enron Data  b399fa1ba5ec06ccf8ead1049a53be981d0ebb39ee2c94...       False   \n",
       "1  Enron Data  84b07d7a0a17b545896f670f92d200e86843c2796147d9...       False   \n",
       "2  Enron Data  f7482dd06262f46d341e733aa0c2fb55cb1e257ea153d0...       False   \n",
       "\n",
       "  Suspicious-Folders Sender-Type Unique-Mails-From-Sender Low-Comm  \\\n",
       "0              False    External                     18.0    False   \n",
       "1              False    External                      4.0     True   \n",
       "2              False    External                      3.0     True   \n",
       "\n",
       "  Contains-Reply-Forwards Label  \n",
       "0                   False     0  \n",
       "1                   False     0  \n",
       "2                   False     0  \n",
       "\n",
       "[3 rows x 32 columns]"
      ]
     },
     "execution_count": 15,
     "metadata": {},
     "output_type": "execute_result"
    }
   ],
   "source": [
    "data = pd.read_csv('social engineering dataset/enron_data_fraud_labeled.csv')\n",
    "data.head(3)"
   ]
  },
  {
   "cell_type": "code",
   "execution_count": 16,
   "id": "878ca25d-fa2c-46b3-9638-bd51c589bac9",
   "metadata": {},
   "outputs": [],
   "source": [
    "# Quick exploration and analysis"
   ]
  },
  {
   "cell_type": "code",
   "execution_count": 17,
   "id": "d3fe41d5-02be-4b37-982c-7809dd3071aa",
   "metadata": {},
   "outputs": [
    {
     "name": "stdout",
     "output_type": "stream",
     "text": [
      "Data Row : 447417\n",
      "Data Col: 32\n"
     ]
    }
   ],
   "source": [
    "row, col = data.shape\n",
    "print(f'Data Row : {row}\\nData Col: {col}')"
   ]
  },
  {
   "cell_type": "code",
   "execution_count": 18,
   "id": "11c77eae-a2d4-467c-89af-4071efaa5fb2",
   "metadata": {},
   "outputs": [
    {
     "data": {
      "text/plain": [
       "Index(['Folder-User', 'Folder-Name', 'Message-ID', 'Date', 'From', 'To',\n",
       "       'Subject', 'Mime-Version', 'Content-Type', 'Content-Transfer-Encoding',\n",
       "       'X-From', 'X-To', 'X-cc', 'X-bcc', 'X-Folder', 'X-Origin', 'X-FileName',\n",
       "       'Body', 'Cc', 'Bcc', 'Time', 'Attendees', 'Re', 'Source', 'Mail-ID',\n",
       "       'POI-Present', 'Suspicious-Folders', 'Sender-Type',\n",
       "       'Unique-Mails-From-Sender', 'Low-Comm', 'Contains-Reply-Forwards',\n",
       "       'Label'],\n",
       "      dtype='object')"
      ]
     },
     "execution_count": 18,
     "metadata": {},
     "output_type": "execute_result"
    }
   ],
   "source": [
    "data.columns"
   ]
  },
  {
   "cell_type": "code",
   "execution_count": 19,
   "id": "f99c92eb-bd83-4161-a457-7248e38188c7",
   "metadata": {},
   "outputs": [
    {
     "data": {
      "text/plain": [
       "array([0, 1], dtype=int64)"
      ]
     },
     "execution_count": 19,
     "metadata": {},
     "output_type": "execute_result"
    }
   ],
   "source": [
    "data.Label.unique()"
   ]
  },
  {
   "cell_type": "code",
   "execution_count": 20,
   "id": "47c8822e-ffda-47c4-b4e3-96f667c94505",
   "metadata": {},
   "outputs": [],
   "source": [
    "# Visualizaing the sample sizes"
   ]
  },
  {
   "cell_type": "code",
   "execution_count": 21,
   "id": "69cbae17-6649-4e83-8766-e1dfe8747e55",
   "metadata": {},
   "outputs": [
    {
     "name": "stdout",
     "output_type": "stream",
     "text": [
      "0    445090\n",
      "1      2327\n",
      "Name: Label, dtype: int64\n"
     ]
    },
    {
     "data": {
      "text/plain": [
       "Text(0, 0.5, 'Size')"
      ]
     },
     "execution_count": 21,
     "metadata": {},
     "output_type": "execute_result"
    },
    {
     "data": {
      "image/png": "[encoded data removed]",
      "text/plain": [
       "<Figure size 400x400 with 1 Axes>"
      ]
     },
     "metadata": {},
     "output_type": "display_data"
    }
   ],
   "source": [
    "print(data.Label.value_counts())\n",
    "\n",
    "sn.set_theme()\n",
    "plt.figure(figsize=(4,4))\n",
    "data.Label.value_counts().plot(kind='bar' )\n",
    "plt.title('Raw Social Engin Sample Size')\n",
    "plt.xlabel('classes')\n",
    "plt.xticks(ticks=[0,1], labels=['No social engineering', 'social engineering'])\n",
    "plt.ylabel('Size')"
   ]
  },
  {
   "cell_type": "code",
   "execution_count": 22,
   "id": "7ff4473e-052c-4197-a6d5-8c0a5da3a585",
   "metadata": {},
   "outputs": [
    {
     "name": "stdout",
     "output_type": "stream",
     "text": [
      "     COLUMNS WITH THIER UNIQUE COUNT     (447417, 32)\n",
      "-------------------------------------------------------------------------\n",
      "Col:  Folder-User  :  1\n",
      "Col:  Folder-Name  :  150\n",
      "Col:  Message-ID  :  447417\n",
      "Col:  Date  :  221093\n",
      "Col:  From  :  20239\n",
      "Col:  To  :  58293\n",
      "Col:  Subject  :  158825\n",
      "Col:  Mime-Version  :  3\n",
      "Col:  Content-Type  :  3\n",
      "Col:  Content-Transfer-Encoding  :  4\n",
      "Col:  X-From  :  27738\n",
      "Col:  X-To  :  72877\n",
      "Col:  X-cc  :  33494\n",
      "Col:  X-bcc  :  118\n",
      "Col:  X-Folder  :  5173\n",
      "Col:  X-Origin  :  260\n",
      "Col:  X-FileName  :  428\n",
      "Col:  Body  :  242220\n",
      "Col:  Cc  :  29529\n",
      "Col:  Bcc  :  29529\n",
      "Col:  Time  :  2\n",
      "Col:  Attendees  :  2\n",
      "Col:  Re  :  1\n",
      "Col:  Source  :  1\n",
      "Col:  Mail-ID  :  248949\n",
      "Col:  POI-Present  :  2\n",
      "Col:  Suspicious-Folders  :  1\n",
      "Col:  Sender-Type  :  2\n",
      "Col:  Unique-Mails-From-Sender  :  326\n",
      "Col:  Low-Comm  :  2\n",
      "Col:  Contains-Reply-Forwards  :  2\n",
      "Col:  Label  :  2\n"
     ]
    }
   ],
   "source": [
    "print('     COLUMNS WITH THIER UNIQUE COUNT    ', data.shape)\n",
    "print('-------------------------------------------------------------------------')\n",
    "for col in data.columns:\n",
    "    unique_size =   len(data[col].unique())\n",
    "    print('Col: ', col, ' : ', unique_size)"
   ]
  },
  {
   "cell_type": "code",
   "execution_count": 23,
   "id": "8b15ec9b-386e-4d9e-a6ae-34553d3ce701",
   "metadata": {},
   "outputs": [],
   "source": [
    "#    FIRST SET OF OBSERVATION\n",
    "# -----------------------------------------------------------------------------------\n",
    "# 1. At this point its observed that the dataset is highly imbalance \n",
    "# 2. the social engineering class is extremely small which can result in high baise prediction..\n",
    "# 3. Many feature are non-numerical value which requrie future transformation for machine leanring#\n",
    "# 4. Additionally, most of the feature as high unique feature count which is bad for unique identifications pattern..\n",
    "# 5. FEature with just a single value eg. Folder-User does not contribute to the prediction... "
   ]
  },
  {
   "cell_type": "code",
   "execution_count": 24,
   "id": "c676c9e2-8456-41c1-ab34-7ad713378316",
   "metadata": {},
   "outputs": [
    {
     "name": "stdout",
     "output_type": "stream",
     "text": [
      "     COLUMNS WITH THIER UNIQUE COUNT     (447417, 32)\n",
      "-------------------------------------------------------------------------\n",
      "Col:  Folder-User  :  1\n",
      "Col:  Folder-Name  :  150\n",
      "Col:  Message-ID  :  447417\n",
      "Col:  Date  :  221093\n",
      "Col:  From  :  20239\n",
      "Col:  To  :  58293\n",
      "Col:  Subject  :  158825\n",
      "Col:  Mime-Version  :  3\n",
      "Col:  Content-Type  :  3\n",
      "Col:  Content-Transfer-Encoding  :  4\n",
      "Col:  X-From  :  27738\n",
      "Col:  X-To  :  72877\n",
      "Col:  X-cc  :  33494\n",
      "Col:  X-bcc  :  118\n",
      "Col:  X-Folder  :  5173\n",
      "Col:  X-Origin  :  260\n",
      "Col:  X-FileName  :  428\n",
      "Col:  Body  :  242220\n",
      "Col:  Cc  :  29529\n",
      "Col:  Bcc  :  29529\n",
      "Col:  Time  :  2\n",
      "Col:  Attendees  :  2\n",
      "Col:  Re  :  1\n",
      "Col:  Source  :  1\n",
      "Col:  Mail-ID  :  248949\n",
      "Col:  POI-Present  :  2\n",
      "Col:  Suspicious-Folders  :  1\n",
      "Col:  Sender-Type  :  2\n",
      "Col:  Unique-Mails-From-Sender  :  326\n",
      "Col:  Low-Comm  :  2\n",
      "Col:  Contains-Reply-Forwards  :  2\n",
      "Col:  Label  :  2\n"
     ]
    }
   ],
   "source": [
    "# filtering out columns with more that 100,000 feature and exactly 1. \n",
    "print('     COLUMNS WITH THIER UNIQUE COUNT    ', data.shape)\n",
    "print('-------------------------------------------------------------------------')\n",
    "filter_col  = []\n",
    "data_col_size = {}\n",
    "for col in data.columns:\n",
    "    unique_size =   len(data[col].unique())\n",
    "    if unique_size < 100000 and len(data[col].unique()) != 1:\n",
    "        filter_col.append(col)\n",
    "    data_col_size[col] = unique_size\n",
    "    print('Col: ', col, ' : ', unique_size)"
   ]
  },
  {
   "cell_type": "code",
   "execution_count": 25,
   "id": "9abea87f-516d-4f81-a36b-6472ff6d4acf",
   "metadata": {},
   "outputs": [
    {
     "data": {
      "text/html": [
       "<div>\n",
       "<style scoped>\n",
       "    .dataframe tbody tr th:only-of-type {\n",
       "        vertical-align: middle;\n",
       "    }\n",
       "\n",
       "    .dataframe tbody tr th {\n",
       "        vertical-align: top;\n",
       "    }\n",
       "\n",
       "    .dataframe thead th {\n",
       "        text-align: right;\n",
       "    }\n",
       "</style>\n",
       "<table border=\"1\" class=\"dataframe\">\n",
       "  <thead>\n",
       "    <tr style=\"text-align: right;\">\n",
       "      <th></th>\n",
       "      <th>Folder-Name</th>\n",
       "      <th>From</th>\n",
       "      <th>To</th>\n",
       "      <th>Mime-Version</th>\n",
       "      <th>Content-Type</th>\n",
       "      <th>Content-Transfer-Encoding</th>\n",
       "      <th>X-From</th>\n",
       "      <th>X-To</th>\n",
       "      <th>X-cc</th>\n",
       "      <th>X-bcc</th>\n",
       "      <th>...</th>\n",
       "      <th>Cc</th>\n",
       "      <th>Bcc</th>\n",
       "      <th>Time</th>\n",
       "      <th>Attendees</th>\n",
       "      <th>POI-Present</th>\n",
       "      <th>Sender-Type</th>\n",
       "      <th>Unique-Mails-From-Sender</th>\n",
       "      <th>Low-Comm</th>\n",
       "      <th>Contains-Reply-Forwards</th>\n",
       "      <th>Label</th>\n",
       "    </tr>\n",
       "  </thead>\n",
       "  <tbody>\n",
       "    <tr>\n",
       "      <th>0</th>\n",
       "      <td>arnold-j</td>\n",
       "      <td>msagel@home.com</td>\n",
       "      <td>jarnold@enron.com</td>\n",
       "      <td>1.0</td>\n",
       "      <td>text/plain; charset=ANSI_X3.4-1968</td>\n",
       "      <td>7bit</td>\n",
       "      <td>\"Mark Sagel\" &lt;msagel@home.com&gt;</td>\n",
       "      <td>\"John Arnold\" &lt;jarnold@enron.com&gt;</td>\n",
       "      <td>NaN</td>\n",
       "      <td>NaN</td>\n",
       "      <td>...</td>\n",
       "      <td></td>\n",
       "      <td></td>\n",
       "      <td></td>\n",
       "      <td></td>\n",
       "      <td>False</td>\n",
       "      <td>External</td>\n",
       "      <td>18.0</td>\n",
       "      <td>False</td>\n",
       "      <td>False</td>\n",
       "      <td>0</td>\n",
       "    </tr>\n",
       "    <tr>\n",
       "      <th>1</th>\n",
       "      <td>arnold-j</td>\n",
       "      <td>slafontaine@globalp.com</td>\n",
       "      <td>john.arnold@enron.com</td>\n",
       "      <td>1.0</td>\n",
       "      <td>text/plain; charset=us-ascii</td>\n",
       "      <td>7bit</td>\n",
       "      <td>slafontaine@globalp.com</td>\n",
       "      <td>John.Arnold@enron.com</td>\n",
       "      <td>NaN</td>\n",
       "      <td>NaN</td>\n",
       "      <td>...</td>\n",
       "      <td></td>\n",
       "      <td></td>\n",
       "      <td></td>\n",
       "      <td></td>\n",
       "      <td>False</td>\n",
       "      <td>External</td>\n",
       "      <td>4.0</td>\n",
       "      <td>True</td>\n",
       "      <td>False</td>\n",
       "      <td>0</td>\n",
       "    </tr>\n",
       "    <tr>\n",
       "      <th>2</th>\n",
       "      <td>arnold-j</td>\n",
       "      <td>iceoperations@intcx.com</td>\n",
       "      <td>icehelpdesk@intcx.com, internalmarketing@intcx...</td>\n",
       "      <td>1.0</td>\n",
       "      <td>text/plain; charset=us-ascii</td>\n",
       "      <td>7bit</td>\n",
       "      <td>ICE Operations &lt;ICEOperations@intcx.com&gt;</td>\n",
       "      <td>**ICEHELPDESK &lt;**ICEHELPDESK@intcx.com&gt;, **Int...</td>\n",
       "      <td>NaN</td>\n",
       "      <td>NaN</td>\n",
       "      <td>...</td>\n",
       "      <td></td>\n",
       "      <td></td>\n",
       "      <td></td>\n",
       "      <td></td>\n",
       "      <td>False</td>\n",
       "      <td>External</td>\n",
       "      <td>3.0</td>\n",
       "      <td>True</td>\n",
       "      <td>False</td>\n",
       "      <td>0</td>\n",
       "    </tr>\n",
       "  </tbody>\n",
       "</table>\n",
       "<p>3 rows × 23 columns</p>\n",
       "</div>"
      ],
      "text/plain": [
       "  Folder-Name                     From  \\\n",
       "0    arnold-j          msagel@home.com   \n",
       "1    arnold-j  slafontaine@globalp.com   \n",
       "2    arnold-j  iceoperations@intcx.com   \n",
       "\n",
       "                                                  To Mime-Version  \\\n",
       "0                                  jarnold@enron.com          1.0   \n",
       "1                              john.arnold@enron.com          1.0   \n",
       "2  icehelpdesk@intcx.com, internalmarketing@intcx...          1.0   \n",
       "\n",
       "                         Content-Type Content-Transfer-Encoding  \\\n",
       "0  text/plain; charset=ANSI_X3.4-1968                      7bit   \n",
       "1        text/plain; charset=us-ascii                      7bit   \n",
       "2        text/plain; charset=us-ascii                      7bit   \n",
       "\n",
       "                                     X-From  \\\n",
       "0            \"Mark Sagel\" <msagel@home.com>   \n",
       "1                   slafontaine@globalp.com   \n",
       "2  ICE Operations <ICEOperations@intcx.com>   \n",
       "\n",
       "                                                X-To X-cc X-bcc  ... Cc Bcc  \\\n",
       "0                  \"John Arnold\" <jarnold@enron.com>  NaN   NaN  ...          \n",
       "1                              John.Arnold@enron.com  NaN   NaN  ...          \n",
       "2  **ICEHELPDESK <**ICEHELPDESK@intcx.com>, **Int...  NaN   NaN  ...          \n",
       "\n",
       "  Time Attendees POI-Present Sender-Type Unique-Mails-From-Sender  Low-Comm  \\\n",
       "0                      False    External                     18.0     False   \n",
       "1                      False    External                      4.0      True   \n",
       "2                      False    External                      3.0      True   \n",
       "\n",
       "  Contains-Reply-Forwards  Label  \n",
       "0                   False      0  \n",
       "1                   False      0  \n",
       "2                   False      0  \n",
       "\n",
       "[3 rows x 23 columns]"
      ]
     },
     "execution_count": 25,
     "metadata": {},
     "output_type": "execute_result"
    }
   ],
   "source": [
    "filter_df  = data[filter_col]\n",
    "filter_df.head(3)"
   ]
  },
  {
   "cell_type": "code",
   "execution_count": 27,
   "id": "d4b3af24-8895-4a50-9dea-72a924236a86",
   "metadata": {},
   "outputs": [
    {
     "name": "stdout",
     "output_type": "stream",
     "text": [
      "Original Col size :32\n",
      "Filter Columns Size of 23 \n",
      "\n"
     ]
    },
    {
     "data": {
      "text/plain": [
       "Index(['Folder-Name', 'From', 'To', 'Mime-Version', 'Content-Type',\n",
       "       'Content-Transfer-Encoding', 'X-From', 'X-To', 'X-cc', 'X-bcc',\n",
       "       'X-Folder', 'X-Origin', 'X-FileName', 'Cc', 'Bcc', 'Time', 'Attendees',\n",
       "       'POI-Present', 'Sender-Type', 'Unique-Mails-From-Sender', 'Low-Comm',\n",
       "       'Contains-Reply-Forwards', 'Label'],\n",
       "      dtype='object')"
      ]
     },
     "execution_count": 27,
     "metadata": {},
     "output_type": "execute_result"
    }
   ],
   "source": [
    "# filtered colums\n",
    "print(f'Original Col size :{data.shape[1]}\\nFilter Columns Size of {filter_df.shape[1]} \\n')\n",
    "filter_df.columns"
   ]
  },
  {
   "cell_type": "code",
   "execution_count": 28,
   "id": "33b097bf-3141-4e60-a6a3-35d233169fd4",
   "metadata": {},
   "outputs": [
    {
     "name": "stdout",
     "output_type": "stream",
     "text": [
      "     FILTER COLUMNS WITH THIER UNIQUE COUNT     (447417, 23)\n",
      "-------------------------------------------------------------------------\n",
      "Col:  Folder-Name  :  150\n",
      "Col:  From  :  20239\n",
      "Col:  To  :  58293\n",
      "Col:  Mime-Version  :  3\n",
      "Col:  Content-Type  :  3\n",
      "Col:  Content-Transfer-Encoding  :  4\n",
      "Col:  X-From  :  27738\n",
      "Col:  X-To  :  72877\n",
      "Col:  X-cc  :  33494\n",
      "Col:  X-bcc  :  118\n",
      "Col:  X-Folder  :  5173\n",
      "Col:  X-Origin  :  260\n",
      "Col:  X-FileName  :  428\n",
      "Col:  Cc  :  29529\n",
      "Col:  Bcc  :  29529\n",
      "Col:  Time  :  2\n",
      "Col:  Attendees  :  2\n",
      "Col:  POI-Present  :  2\n",
      "Col:  Sender-Type  :  2\n",
      "Col:  Unique-Mails-From-Sender  :  326\n",
      "Col:  Low-Comm  :  2\n",
      "Col:  Contains-Reply-Forwards  :  2\n",
      "Col:  Label  :  2\n"
     ]
    }
   ],
   "source": [
    "# view the filter  column with thier unique value size\n",
    "print('     FILTER COLUMNS WITH THIER UNIQUE COUNT    ', filter_df.shape)\n",
    "print('-------------------------------------------------------------------------')\n",
    "filter_col_size = {}\n",
    "for col in filter_df.columns:\n",
    "    unique_size =   len(filter_df[col].unique())\n",
    "    filter_col_size[col] = unique_size\n",
    "    print('Col: ', col, ' : ', unique_size)"
   ]
  },
  {
   "cell_type": "code",
   "execution_count": 29,
   "id": "c1a28606-853f-47d0-b0ac-9d8bc02cd7ab",
   "metadata": {},
   "outputs": [
    {
     "data": {
      "image/png": "[encoded data removed]",
      "text/plain": [
       "<Figure size 640x480 with 2 Axes>"
      ]
     },
     "metadata": {},
     "output_type": "display_data"
    }
   ],
   "source": [
    "# let use plot the size... \n",
    "fig, ax = plt.subplots(nrows=1, ncols=2)\n",
    "plt.tight_layout()\n",
    "pd.Series(data_col_size).plot(kind='bar', ax=ax[1])\n",
    "pd.Series(filter_col_size).plot(kind='bar', ax=ax[0])\n",
    "fig.suptitle('Feature  Size Variability (FILTER vS RAW sample)')\n",
    "plt.show()"
   ]
  },
  {
   "cell_type": "code",
   "execution_count": 30,
   "id": "e4685fbc-82f0-478c-9d8d-4f31885fdcc8",
   "metadata": {},
   "outputs": [
    {
     "data": {
      "text/plain": [
       "Index(['Folder-Name', 'From', 'To', 'Mime-Version', 'Content-Type',\n",
       "       'Content-Transfer-Encoding', 'X-From', 'X-To', 'X-cc', 'X-bcc',\n",
       "       'X-Folder', 'X-Origin', 'X-FileName', 'Cc', 'Bcc', 'Time', 'Attendees',\n",
       "       'POI-Present', 'Sender-Type', 'Unique-Mails-From-Sender', 'Low-Comm',\n",
       "       'Contains-Reply-Forwards', 'Label'],\n",
       "      dtype='object')"
      ]
     },
     "execution_count": 30,
     "metadata": {},
     "output_type": "execute_result"
    }
   ],
   "source": [
    "filter_df.columns"
   ]
  },
  {
   "cell_type": "code",
   "execution_count": 28,
   "id": "608027b4-b0ee-4686-8a76-d2784493d7dd",
   "metadata": {},
   "outputs": [],
   "source": [
    "# FURTHER EXPLORATION.... "
   ]
  },
  {
   "cell_type": "code",
   "execution_count": 31,
   "id": "8ae2276c-7cc9-4b30-9a47-ee28556aaac7",
   "metadata": {},
   "outputs": [
    {
     "name": "stdout",
     "output_type": "stream",
     "text": [
      "<class 'pandas.core.frame.DataFrame'>\n",
      "RangeIndex: 447417 entries, 0 to 447416\n",
      "Data columns (total 23 columns):\n",
      " #   Column                     Non-Null Count   Dtype  \n",
      "---  ------                     --------------   -----  \n",
      " 0   Folder-Name                447417 non-null  object \n",
      " 1   From                       447417 non-null  object \n",
      " 2   To                         447417 non-null  object \n",
      " 3   Mime-Version               447417 non-null  object \n",
      " 4   Content-Type               447417 non-null  object \n",
      " 5   Content-Transfer-Encoding  447417 non-null  object \n",
      " 6   X-From                     447417 non-null  object \n",
      " 7   X-To                       439238 non-null  object \n",
      " 8   X-cc                       109637 non-null  object \n",
      " 9   X-bcc                      177 non-null     object \n",
      " 10  X-Folder                   447417 non-null  object \n",
      " 11  X-Origin                   447417 non-null  object \n",
      " 12  X-FileName                 444727 non-null  object \n",
      " 13  Cc                         447417 non-null  object \n",
      " 14  Bcc                        447417 non-null  object \n",
      " 15  Time                       447417 non-null  object \n",
      " 16  Attendees                  447417 non-null  object \n",
      " 17  POI-Present                447417 non-null  bool   \n",
      " 18  Sender-Type                447417 non-null  object \n",
      " 19  Unique-Mails-From-Sender   447417 non-null  float64\n",
      " 20  Low-Comm                   447417 non-null  bool   \n",
      " 21  Contains-Reply-Forwards    447417 non-null  bool   \n",
      " 22  Label                      447417 non-null  int64  \n",
      "dtypes: bool(3), float64(1), int64(1), object(18)\n",
      "memory usage: 69.6+ MB\n"
     ]
    }
   ],
   "source": [
    "filter_df.info()"
   ]
  },
  {
   "cell_type": "code",
   "execution_count": 32,
   "id": "464a1ac8-dd0c-4a30-8a78-f94122ecf735",
   "metadata": {},
   "outputs": [
    {
     "name": "stdout",
     "output_type": "stream",
     "text": [
      "column removed successfully..... \n"
     ]
    }
   ],
   "source": [
    "# removing the X-bcc feature becuase it contain only minute non-empty size of 177....\n",
    "filter_df.drop(columns=['X-bcc'], inplace=True)\n",
    "print('column removed successfully..... ')"
   ]
  },
  {
   "cell_type": "code",
   "execution_count": 33,
   "id": "04ad21bd-62b5-4765-b671-c12c87c02c6e",
   "metadata": {},
   "outputs": [
    {
     "data": {
      "text/html": [
       "<div>\n",
       "<style scoped>\n",
       "    .dataframe tbody tr th:only-of-type {\n",
       "        vertical-align: middle;\n",
       "    }\n",
       "\n",
       "    .dataframe tbody tr th {\n",
       "        vertical-align: top;\n",
       "    }\n",
       "\n",
       "    .dataframe thead th {\n",
       "        text-align: right;\n",
       "    }\n",
       "</style>\n",
       "<table border=\"1\" class=\"dataframe\">\n",
       "  <thead>\n",
       "    <tr style=\"text-align: right;\">\n",
       "      <th></th>\n",
       "      <th>Total Null Value</th>\n",
       "    </tr>\n",
       "  </thead>\n",
       "  <tbody>\n",
       "    <tr>\n",
       "      <th>Folder-Name</th>\n",
       "      <td>0</td>\n",
       "    </tr>\n",
       "    <tr>\n",
       "      <th>From</th>\n",
       "      <td>0</td>\n",
       "    </tr>\n",
       "    <tr>\n",
       "      <th>To</th>\n",
       "      <td>0</td>\n",
       "    </tr>\n",
       "    <tr>\n",
       "      <th>Mime-Version</th>\n",
       "      <td>0</td>\n",
       "    </tr>\n",
       "    <tr>\n",
       "      <th>Content-Type</th>\n",
       "      <td>0</td>\n",
       "    </tr>\n",
       "    <tr>\n",
       "      <th>Content-Transfer-Encoding</th>\n",
       "      <td>0</td>\n",
       "    </tr>\n",
       "    <tr>\n",
       "      <th>X-From</th>\n",
       "      <td>0</td>\n",
       "    </tr>\n",
       "    <tr>\n",
       "      <th>X-To</th>\n",
       "      <td>8179</td>\n",
       "    </tr>\n",
       "    <tr>\n",
       "      <th>X-cc</th>\n",
       "      <td>337780</td>\n",
       "    </tr>\n",
       "    <tr>\n",
       "      <th>X-Folder</th>\n",
       "      <td>0</td>\n",
       "    </tr>\n",
       "    <tr>\n",
       "      <th>X-Origin</th>\n",
       "      <td>0</td>\n",
       "    </tr>\n",
       "    <tr>\n",
       "      <th>X-FileName</th>\n",
       "      <td>2690</td>\n",
       "    </tr>\n",
       "    <tr>\n",
       "      <th>Cc</th>\n",
       "      <td>0</td>\n",
       "    </tr>\n",
       "    <tr>\n",
       "      <th>Bcc</th>\n",
       "      <td>0</td>\n",
       "    </tr>\n",
       "    <tr>\n",
       "      <th>Time</th>\n",
       "      <td>0</td>\n",
       "    </tr>\n",
       "    <tr>\n",
       "      <th>Attendees</th>\n",
       "      <td>0</td>\n",
       "    </tr>\n",
       "    <tr>\n",
       "      <th>POI-Present</th>\n",
       "      <td>0</td>\n",
       "    </tr>\n",
       "    <tr>\n",
       "      <th>Sender-Type</th>\n",
       "      <td>0</td>\n",
       "    </tr>\n",
       "    <tr>\n",
       "      <th>Unique-Mails-From-Sender</th>\n",
       "      <td>0</td>\n",
       "    </tr>\n",
       "    <tr>\n",
       "      <th>Low-Comm</th>\n",
       "      <td>0</td>\n",
       "    </tr>\n",
       "    <tr>\n",
       "      <th>Contains-Reply-Forwards</th>\n",
       "      <td>0</td>\n",
       "    </tr>\n",
       "    <tr>\n",
       "      <th>Label</th>\n",
       "      <td>0</td>\n",
       "    </tr>\n",
       "  </tbody>\n",
       "</table>\n",
       "</div>"
      ],
      "text/plain": [
       "                           Total Null Value\n",
       "Folder-Name                               0\n",
       "From                                      0\n",
       "To                                        0\n",
       "Mime-Version                              0\n",
       "Content-Type                              0\n",
       "Content-Transfer-Encoding                 0\n",
       "X-From                                    0\n",
       "X-To                                   8179\n",
       "X-cc                                 337780\n",
       "X-Folder                                  0\n",
       "X-Origin                                  0\n",
       "X-FileName                             2690\n",
       "Cc                                        0\n",
       "Bcc                                       0\n",
       "Time                                      0\n",
       "Attendees                                 0\n",
       "POI-Present                               0\n",
       "Sender-Type                               0\n",
       "Unique-Mails-From-Sender                  0\n",
       "Low-Comm                                  0\n",
       "Contains-Reply-Forwards                   0\n",
       "Label                                     0"
      ]
     },
     "execution_count": 33,
     "metadata": {},
     "output_type": "execute_result"
    }
   ],
   "source": [
    "# tabulizaing the total null value in each columns \n",
    "pd.DataFrame(filter_df.isnull().sum(), columns=['Total Null Value'])"
   ]
  },
  {
   "cell_type": "code",
   "execution_count": 32,
   "id": "299c130f-24e8-459b-aad8-8d7621b968eb",
   "metadata": {},
   "outputs": [],
   "source": [
    "# CHECKING FOR DUPLICATIONS.. "
   ]
  },
  {
   "cell_type": "code",
   "execution_count": 34,
   "id": "48daae8d-1ec2-477b-a635-2e6d5ef6f8bd",
   "metadata": {},
   "outputs": [
    {
     "name": "stdout",
     "output_type": "stream",
     "text": [
      "Total Num of Duplicate:  167167\n"
     ]
    }
   ],
   "source": [
    "duplications_count = filter_df.duplicated().sum()\n",
    "print(f'Total Num of Duplicate: ', filter_df.duplicated().sum())"
   ]
  },
  {
   "cell_type": "code",
   "execution_count": 35,
   "id": "2ca7f9c0-c810-4e35-a0f5-9d4291f169ff",
   "metadata": {},
   "outputs": [
    {
     "name": "stdout",
     "output_type": "stream",
     "text": [
      "167167 is remove from the dataset\n"
     ]
    }
   ],
   "source": [
    "filter_df.drop_duplicates(keep='first', inplace=True)\n",
    "print(f'{duplications_count} is remove from the dataset')"
   ]
  },
  {
   "cell_type": "code",
   "execution_count": 36,
   "id": "62cadb39-423d-424b-b7b4-10a58d835dd1",
   "metadata": {},
   "outputs": [
    {
     "data": {
      "text/plain": [
       "0    445090\n",
       "1      2327\n",
       "Name: Label, dtype: int64"
      ]
     },
     "execution_count": 36,
     "metadata": {},
     "output_type": "execute_result"
    }
   ],
   "source": [
    "data.Label.value_counts()"
   ]
  },
  {
   "cell_type": "code",
   "execution_count": 37,
   "id": "a2a433cf-81b9-4ae4-b389-bc74f4cfa852",
   "metadata": {},
   "outputs": [
    {
     "data": {
      "text/plain": [
       "0    278009\n",
       "1      2241\n",
       "Name: Label, dtype: int64"
      ]
     },
     "execution_count": 37,
     "metadata": {},
     "output_type": "execute_result"
    }
   ],
   "source": [
    "filter_df.Label.value_counts()"
   ]
  },
  {
   "cell_type": "code",
   "execution_count": 38,
   "id": "3baebc82-0519-47c4-b6b5-1e1515f48f92",
   "metadata": {},
   "outputs": [
    {
     "data": {
      "image/png": "[encoded data removed]",
      "text/plain": [
       "<Figure size 640x480 with 2 Axes>"
      ]
     },
     "metadata": {},
     "output_type": "display_data"
    }
   ],
   "source": [
    "df = pd.concat([data.Label.value_counts().to_frame(), filter_df.Label.value_counts().to_frame()], axis=1)\n",
    "# df.rename_axis(columns = ['raw_data', 'reduce_data'])\n",
    "# df[df.columns[0]]\n",
    "df.columns = ['raw_data', 'reduce_data']\n",
    "\n",
    "fig, ax = plt.subplots(1,2)\n",
    "\n",
    "fig.suptitle(\"Comparison of Raw and Reduced Data\", fontsize=16)\n",
    "\n",
    "df.iloc[0].plot(kind='bar' , ax=ax[0], color=['r', 'g'])\n",
    "ax[0].set_title(\"Raw Data\")             \n",
    "ax[0].set_xlabel(\"No social Engineering\")              \n",
    "ax[0].set_ylabel(\"sample\") \n",
    "\n",
    "df.iloc[1].plot(kind='bar', ax=ax[1], color=['r', 'g'])\n",
    "ax[1].set_title(\"Reduced Data\")         \n",
    "ax[1].set_xlabel(\"Socal Engineering\")             \n",
    "ax[1].set_ylabel(\"Sample size\")  \n",
    "\n",
    "fig.tight_layout()"
   ]
  },
  {
   "cell_type": "code",
   "execution_count": null,
   "id": "80994892-462c-4375-b4fe-f7ce50d8b841",
   "metadata": {},
   "outputs": [],
   "source": []
  },
  {
   "cell_type": "code",
   "execution_count": 38,
   "id": "540060f6-08fe-40c8-8c1c-47dd75f9d9ed",
   "metadata": {},
   "outputs": [],
   "source": [
    "# pd.DataFrame(filter_df.isnull().sum(), columns=['Total Null Value'])"
   ]
  },
  {
   "cell_type": "code",
   "execution_count": 39,
   "id": "3f386a48-ce3a-495e-aa2a-f72ee73a5b7a",
   "metadata": {},
   "outputs": [],
   "source": [
    "# PROCESSING.... "
   ]
  },
  {
   "cell_type": "code",
   "execution_count": 39,
   "id": "c8f68de3-ba54-41c7-aa5a-12201fa8f430",
   "metadata": {},
   "outputs": [
    {
     "name": "stdout",
     "output_type": "stream",
     "text": [
      "<class 'pandas.core.frame.DataFrame'>\n",
      "Int64Index: 280250 entries, 0 to 447416\n",
      "Data columns (total 22 columns):\n",
      " #   Column                     Non-Null Count   Dtype  \n",
      "---  ------                     --------------   -----  \n",
      " 0   Folder-Name                280250 non-null  object \n",
      " 1   From                       280250 non-null  object \n",
      " 2   To                         280250 non-null  object \n",
      " 3   Mime-Version               280250 non-null  object \n",
      " 4   Content-Type               280250 non-null  object \n",
      " 5   Content-Transfer-Encoding  280250 non-null  object \n",
      " 6   X-From                     280250 non-null  object \n",
      " 7   X-To                       278220 non-null  object \n",
      " 8   X-cc                       96082 non-null   object \n",
      " 9   X-Folder                   280250 non-null  object \n",
      " 10  X-Origin                   280250 non-null  object \n",
      " 11  X-FileName                 278788 non-null  object \n",
      " 12  Cc                         280250 non-null  object \n",
      " 13  Bcc                        280250 non-null  object \n",
      " 14  Time                       280250 non-null  object \n",
      " 15  Attendees                  280250 non-null  object \n",
      " 16  POI-Present                280250 non-null  bool   \n",
      " 17  Sender-Type                280250 non-null  object \n",
      " 18  Unique-Mails-From-Sender   280250 non-null  float64\n",
      " 19  Low-Comm                   280250 non-null  bool   \n",
      " 20  Contains-Reply-Forwards    280250 non-null  bool   \n",
      " 21  Label                      280250 non-null  int64  \n",
      "dtypes: bool(3), float64(1), int64(1), object(17)\n",
      "memory usage: 43.6+ MB\n"
     ]
    }
   ],
   "source": [
    "# using label encoding for non numerical value\n",
    "# but firs let us deal with the non - null value... \n",
    "filter_df.info()"
   ]
  },
  {
   "cell_type": "code",
   "execution_count": 35,
   "id": "a36d8552-a733-417a-b0bf-68dc9289ae69",
   "metadata": {},
   "outputs": [],
   "source": [
    "# trying to explore the null value associated with the majority and minority.. "
   ]
  },
  {
   "cell_type": "code",
   "execution_count": 40,
   "id": "46bdab6f-4d5c-4f58-978e-65f6efe071a4",
   "metadata": {},
   "outputs": [
    {
     "name": "stdout",
     "output_type": "stream",
     "text": [
      "X-To column Null count :  2030\n",
      "0    2003\n",
      "1      27\n",
      "Name: Label, dtype: int64\n"
     ]
    }
   ],
   "source": [
    "null_count = filter_df['X-To'].isnull().sum()\n",
    "print('X-To column Null count : ', null_count)\n",
    "\n",
    "# checking the class where the null value exist \n",
    "# note since the null also exit in 1 class with small sample, its needed to apply \n",
    "# certain null handling scheme.... \n",
    "# \n",
    "print(filter_df[filter_df['X-To'].isnull()].Label.value_counts())"
   ]
  },
  {
   "cell_type": "code",
   "execution_count": 41,
   "id": "43b0f74b-bddd-47e0-bf75-ab87f4290904",
   "metadata": {},
   "outputs": [
    {
     "name": "stdout",
     "output_type": "stream",
     "text": [
      "0    182020\n",
      "1      2148\n",
      "Name: Label, dtype: int64\n"
     ]
    }
   ],
   "source": [
    "print(filter_df[filter_df['X-cc'].isnull()].Label.value_counts())"
   ]
  },
  {
   "cell_type": "code",
   "execution_count": 42,
   "id": "57e6f7f9-1f09-446f-8d23-d26c24c05fd3",
   "metadata": {},
   "outputs": [
    {
     "name": "stdout",
     "output_type": "stream",
     "text": [
      "0    1443\n",
      "1      19\n",
      "Name: Label, dtype: int64\n"
     ]
    }
   ],
   "source": [
    "print(filter_df[filter_df['X-FileName'].isnull()].Label.value_counts())"
   ]
  },
  {
   "cell_type": "code",
   "execution_count": 43,
   "id": "5c19b341-39d7-4c40-9258-2ac71553e153",
   "metadata": {},
   "outputs": [
    {
     "data": {
      "text/plain": [
       "(97526, 22)"
      ]
     },
     "execution_count": 43,
     "metadata": {},
     "output_type": "execute_result"
    }
   ],
   "source": [
    "# remove null value only for only the majority class... \n",
    "filter_df = filter_df[~((filter_df['X-To'].isnull()) & (filter_df.Label == 0))]\n",
    "filter_df = filter_df[~((filter_df['X-cc'].isnull()) & (filter_df.Label == 0))]\n",
    "filter_df = filter_df[~((filter_df['X-FileName'].isnull()) & (filter_df.Label == 0))]\n",
    "filter_df.shape"
   ]
  },
  {
   "cell_type": "code",
   "execution_count": 44,
   "id": "7cb52938-27bb-4be9-98a0-d2794779d6b3",
   "metadata": {},
   "outputs": [
    {
     "name": "stdout",
     "output_type": "stream",
     "text": [
      "X-To after cleaning 1    27\n",
      "Name: Label, dtype: int64\n",
      "X-cc after cleaning 1    2148\n",
      "Name: Label, dtype: int64\n",
      "X-FileName after cleaning 1    19\n",
      "Name: Label, dtype: int64\n"
     ]
    }
   ],
   "source": [
    "print('X-To after cleaning', filter_df[filter_df['X-To'].isnull()].Label.value_counts())\n",
    "print('X-cc after cleaning', filter_df[filter_df['X-cc'].isnull()].Label.value_counts())\n",
    "print('X-FileName after cleaning', filter_df[filter_df['X-FileName'].isnull()].Label.value_counts())"
   ]
  },
  {
   "cell_type": "code",
   "execution_count": 45,
   "id": "a363b481-8863-4e00-8297-4a3b8ee3a16b",
   "metadata": {},
   "outputs": [
    {
     "data": {
      "text/plain": [
       "0    95285\n",
       "1     2241\n",
       "Name: Label, dtype: int64"
      ]
     },
     "execution_count": 45,
     "metadata": {},
     "output_type": "execute_result"
    }
   ],
   "source": [
    "filter_df.Label.value_counts()"
   ]
  },
  {
   "cell_type": "code",
   "execution_count": 46,
   "id": "ea0c9a32-c7c9-40c9-a59f-9e6f14a943cc",
   "metadata": {},
   "outputs": [],
   "source": [
    "# OBSERVATIONS ...... \n",
    "# 1. Presence of null value in three feature... \n",
    "# 2. Some of the null value are also presence in the minority class... \n",
    "# 3. Larger Presence of Duplicate value in the sample\n",
    "# 4. X-bcc as 177 available value while the rest are empty (null) value\n",
    "# 5. Some of the feature are non numerical in nature.. ."
   ]
  },
  {
   "cell_type": "code",
   "execution_count": 47,
   "id": "5f07f1a8-9bab-4323-ab5d-859f44415020",
   "metadata": {},
   "outputs": [
    {
     "data": {
      "text/plain": [
       "(97526, 22)"
      ]
     },
     "execution_count": 47,
     "metadata": {},
     "output_type": "execute_result"
    }
   ],
   "source": [
    "filter_df.shape"
   ]
  },
  {
   "cell_type": "code",
   "execution_count": 48,
   "id": "5c64e35e-d0be-4f20-9f06-5acb635960db",
   "metadata": {},
   "outputs": [
    {
     "data": {
      "text/plain": [
       "Text(0, 0.5, 'Size')"
      ]
     },
     "execution_count": 48,
     "metadata": {},
     "output_type": "execute_result"
    },
    {
     "data": {
      "image/png": "[encoded data removed]",
      "text/plain": [
       "<Figure size 400x400 with 1 Axes>"
      ]
     },
     "metadata": {},
     "output_type": "display_data"
    }
   ],
   "source": [
    "sn.set_theme()\n",
    "plt.figure(figsize=(4,4))\n",
    "filter_df.Label.value_counts().plot(kind='bar', color=['r', 'b'])\n",
    "plt.title('Filtered and Clean Engine Sample Size')\n",
    "plt.xlabel('classes')\n",
    "plt.xticks(ticks=[0,1], labels=['No social engineering', 'social engineering'])\n",
    "plt.ylabel('Size')"
   ]
  },
  {
   "cell_type": "code",
   "execution_count": 49,
   "id": "ecb24cd9-0ac6-4e4a-bbc8-75f3442dbf48",
   "metadata": {},
   "outputs": [
    {
     "data": {
      "text/html": [
       "<div>\n",
       "<style scoped>\n",
       "    .dataframe tbody tr th:only-of-type {\n",
       "        vertical-align: middle;\n",
       "    }\n",
       "\n",
       "    .dataframe tbody tr th {\n",
       "        vertical-align: top;\n",
       "    }\n",
       "\n",
       "    .dataframe thead th {\n",
       "        text-align: right;\n",
       "    }\n",
       "</style>\n",
       "<table border=\"1\" class=\"dataframe\">\n",
       "  <thead>\n",
       "    <tr style=\"text-align: right;\">\n",
       "      <th></th>\n",
       "      <th>Total Null Value</th>\n",
       "    </tr>\n",
       "  </thead>\n",
       "  <tbody>\n",
       "    <tr>\n",
       "      <th>Folder-Name</th>\n",
       "      <td>0</td>\n",
       "    </tr>\n",
       "    <tr>\n",
       "      <th>From</th>\n",
       "      <td>0</td>\n",
       "    </tr>\n",
       "    <tr>\n",
       "      <th>To</th>\n",
       "      <td>0</td>\n",
       "    </tr>\n",
       "    <tr>\n",
       "      <th>Mime-Version</th>\n",
       "      <td>0</td>\n",
       "    </tr>\n",
       "    <tr>\n",
       "      <th>Content-Type</th>\n",
       "      <td>0</td>\n",
       "    </tr>\n",
       "    <tr>\n",
       "      <th>Content-Transfer-Encoding</th>\n",
       "      <td>0</td>\n",
       "    </tr>\n",
       "    <tr>\n",
       "      <th>X-From</th>\n",
       "      <td>0</td>\n",
       "    </tr>\n",
       "    <tr>\n",
       "      <th>X-To</th>\n",
       "      <td>27</td>\n",
       "    </tr>\n",
       "    <tr>\n",
       "      <th>X-cc</th>\n",
       "      <td>2148</td>\n",
       "    </tr>\n",
       "    <tr>\n",
       "      <th>X-Folder</th>\n",
       "      <td>0</td>\n",
       "    </tr>\n",
       "    <tr>\n",
       "      <th>X-Origin</th>\n",
       "      <td>0</td>\n",
       "    </tr>\n",
       "    <tr>\n",
       "      <th>X-FileName</th>\n",
       "      <td>19</td>\n",
       "    </tr>\n",
       "    <tr>\n",
       "      <th>Cc</th>\n",
       "      <td>0</td>\n",
       "    </tr>\n",
       "    <tr>\n",
       "      <th>Bcc</th>\n",
       "      <td>0</td>\n",
       "    </tr>\n",
       "    <tr>\n",
       "      <th>Time</th>\n",
       "      <td>0</td>\n",
       "    </tr>\n",
       "    <tr>\n",
       "      <th>Attendees</th>\n",
       "      <td>0</td>\n",
       "    </tr>\n",
       "    <tr>\n",
       "      <th>POI-Present</th>\n",
       "      <td>0</td>\n",
       "    </tr>\n",
       "    <tr>\n",
       "      <th>Sender-Type</th>\n",
       "      <td>0</td>\n",
       "    </tr>\n",
       "    <tr>\n",
       "      <th>Unique-Mails-From-Sender</th>\n",
       "      <td>0</td>\n",
       "    </tr>\n",
       "    <tr>\n",
       "      <th>Low-Comm</th>\n",
       "      <td>0</td>\n",
       "    </tr>\n",
       "    <tr>\n",
       "      <th>Contains-Reply-Forwards</th>\n",
       "      <td>0</td>\n",
       "    </tr>\n",
       "    <tr>\n",
       "      <th>Label</th>\n",
       "      <td>0</td>\n",
       "    </tr>\n",
       "  </tbody>\n",
       "</table>\n",
       "</div>"
      ],
      "text/plain": [
       "                           Total Null Value\n",
       "Folder-Name                               0\n",
       "From                                      0\n",
       "To                                        0\n",
       "Mime-Version                              0\n",
       "Content-Type                              0\n",
       "Content-Transfer-Encoding                 0\n",
       "X-From                                    0\n",
       "X-To                                     27\n",
       "X-cc                                   2148\n",
       "X-Folder                                  0\n",
       "X-Origin                                  0\n",
       "X-FileName                               19\n",
       "Cc                                        0\n",
       "Bcc                                       0\n",
       "Time                                      0\n",
       "Attendees                                 0\n",
       "POI-Present                               0\n",
       "Sender-Type                               0\n",
       "Unique-Mails-From-Sender                  0\n",
       "Low-Comm                                  0\n",
       "Contains-Reply-Forwards                   0\n",
       "Label                                     0"
      ]
     },
     "execution_count": 49,
     "metadata": {},
     "output_type": "execute_result"
    }
   ],
   "source": [
    "pd.DataFrame(filter_df.isnull().sum(), columns=['Total Null Value'])"
   ]
  },
  {
   "cell_type": "code",
   "execution_count": 50,
   "id": "ec64a5cf-4c9d-4fb4-b027-b924ea47f2bc",
   "metadata": {},
   "outputs": [
    {
     "data": {
      "text/html": [
       "<div>\n",
       "<style scoped>\n",
       "    .dataframe tbody tr th:only-of-type {\n",
       "        vertical-align: middle;\n",
       "    }\n",
       "\n",
       "    .dataframe tbody tr th {\n",
       "        vertical-align: top;\n",
       "    }\n",
       "\n",
       "    .dataframe thead th {\n",
       "        text-align: right;\n",
       "    }\n",
       "</style>\n",
       "<table border=\"1\" class=\"dataframe\">\n",
       "  <thead>\n",
       "    <tr style=\"text-align: right;\">\n",
       "      <th></th>\n",
       "      <th>Total Null Value</th>\n",
       "    </tr>\n",
       "  </thead>\n",
       "  <tbody>\n",
       "    <tr>\n",
       "      <th>Folder-Name</th>\n",
       "      <td>0</td>\n",
       "    </tr>\n",
       "    <tr>\n",
       "      <th>From</th>\n",
       "      <td>0</td>\n",
       "    </tr>\n",
       "    <tr>\n",
       "      <th>To</th>\n",
       "      <td>0</td>\n",
       "    </tr>\n",
       "    <tr>\n",
       "      <th>Mime-Version</th>\n",
       "      <td>0</td>\n",
       "    </tr>\n",
       "    <tr>\n",
       "      <th>Content-Type</th>\n",
       "      <td>0</td>\n",
       "    </tr>\n",
       "    <tr>\n",
       "      <th>Content-Transfer-Encoding</th>\n",
       "      <td>0</td>\n",
       "    </tr>\n",
       "    <tr>\n",
       "      <th>X-From</th>\n",
       "      <td>0</td>\n",
       "    </tr>\n",
       "    <tr>\n",
       "      <th>X-To</th>\n",
       "      <td>0</td>\n",
       "    </tr>\n",
       "    <tr>\n",
       "      <th>X-cc</th>\n",
       "      <td>0</td>\n",
       "    </tr>\n",
       "    <tr>\n",
       "      <th>X-Folder</th>\n",
       "      <td>0</td>\n",
       "    </tr>\n",
       "    <tr>\n",
       "      <th>X-Origin</th>\n",
       "      <td>0</td>\n",
       "    </tr>\n",
       "    <tr>\n",
       "      <th>X-FileName</th>\n",
       "      <td>0</td>\n",
       "    </tr>\n",
       "    <tr>\n",
       "      <th>Cc</th>\n",
       "      <td>0</td>\n",
       "    </tr>\n",
       "    <tr>\n",
       "      <th>Bcc</th>\n",
       "      <td>0</td>\n",
       "    </tr>\n",
       "    <tr>\n",
       "      <th>Time</th>\n",
       "      <td>0</td>\n",
       "    </tr>\n",
       "    <tr>\n",
       "      <th>Attendees</th>\n",
       "      <td>0</td>\n",
       "    </tr>\n",
       "    <tr>\n",
       "      <th>POI-Present</th>\n",
       "      <td>0</td>\n",
       "    </tr>\n",
       "    <tr>\n",
       "      <th>Sender-Type</th>\n",
       "      <td>0</td>\n",
       "    </tr>\n",
       "    <tr>\n",
       "      <th>Unique-Mails-From-Sender</th>\n",
       "      <td>0</td>\n",
       "    </tr>\n",
       "    <tr>\n",
       "      <th>Low-Comm</th>\n",
       "      <td>0</td>\n",
       "    </tr>\n",
       "    <tr>\n",
       "      <th>Contains-Reply-Forwards</th>\n",
       "      <td>0</td>\n",
       "    </tr>\n",
       "    <tr>\n",
       "      <th>Label</th>\n",
       "      <td>0</td>\n",
       "    </tr>\n",
       "  </tbody>\n",
       "</table>\n",
       "</div>"
      ],
      "text/plain": [
       "                           Total Null Value\n",
       "Folder-Name                               0\n",
       "From                                      0\n",
       "To                                        0\n",
       "Mime-Version                              0\n",
       "Content-Type                              0\n",
       "Content-Transfer-Encoding                 0\n",
       "X-From                                    0\n",
       "X-To                                      0\n",
       "X-cc                                      0\n",
       "X-Folder                                  0\n",
       "X-Origin                                  0\n",
       "X-FileName                                0\n",
       "Cc                                        0\n",
       "Bcc                                       0\n",
       "Time                                      0\n",
       "Attendees                                 0\n",
       "POI-Present                               0\n",
       "Sender-Type                               0\n",
       "Unique-Mails-From-Sender                  0\n",
       "Low-Comm                                  0\n",
       "Contains-Reply-Forwards                   0\n",
       "Label                                     0"
      ]
     },
     "execution_count": 50,
     "metadata": {},
     "output_type": "execute_result"
    }
   ],
   "source": [
    "filter_df.replace(to_replace=np.nan, method='ffill', inplace=True)\n",
    "pd.DataFrame(filter_df.isnull().sum(), columns=['Total Null Value'])"
   ]
  },
  {
   "cell_type": "code",
   "execution_count": 51,
   "id": "4acb3ef8-1c5e-4906-b71b-3d1e3f49e466",
   "metadata": {},
   "outputs": [
    {
     "data": {
      "text/plain": [
       "0"
      ]
     },
     "execution_count": 51,
     "metadata": {},
     "output_type": "execute_result"
    }
   ],
   "source": [
    "# confirming the duplication value... \n",
    "filter_df.duplicated().sum()"
   ]
  },
  {
   "cell_type": "code",
   "execution_count": 60,
   "id": "e216c15f-9b99-40bb-8921-df85a10243ca",
   "metadata": {},
   "outputs": [
    {
     "data": {
      "text/plain": [
       "10        3240\n",
       "14        7464\n",
       "18        3299\n",
       "24        5192\n",
       "47        8201\n",
       "          ... \n",
       "447407    5623\n",
       "447408    7905\n",
       "447409    5382\n",
       "447413    7373\n",
       "447415    1197\n",
       "Length: 97526, dtype: int16"
      ]
     },
     "execution_count": 60,
     "metadata": {},
     "output_type": "execute_result"
    }
   ],
   "source": [
    "# using label ecoding to convert each feature to category first.. \n",
    "# then transform the data\n",
    "lb = LabelEncoder()\n",
    "# testing categorical processing\n",
    "filter_df.From.astype('category').cat.codes                    "
   ]
  },
  {
   "cell_type": "code",
   "execution_count": 61,
   "id": "5b6908be-5f10-42ee-9f17-2bf6198c533f",
   "metadata": {},
   "outputs": [
    {
     "name": "stdout",
     "output_type": "stream",
     "text": [
      "No Operation done on :  Unique-Mails-From-Sender\n",
      "No Operation done on :  Label\n"
     ]
    }
   ],
   "source": [
    "for col in filter_df.columns:\n",
    "    data_type = filter_df[col].dtype\n",
    "    if data_type == 'object' or data_type == 'bool' : \n",
    "        # performn label encoding on this condition\n",
    "        # convert to categorical\n",
    "        filter_df[col] = filter_df[col].astype('category')\n",
    "        filter_df[col] = filter_df[col].cat.codes\n",
    "    else: print('No Operation done on : ', col)\n"
   ]
  },
  {
   "cell_type": "code",
   "execution_count": 62,
   "id": "70ed1054-4979-4ace-8e70-8be351c660e1",
   "metadata": {},
   "outputs": [
    {
     "data": {
      "text/html": [
       "<div>\n",
       "<style scoped>\n",
       "    .dataframe tbody tr th:only-of-type {\n",
       "        vertical-align: middle;\n",
       "    }\n",
       "\n",
       "    .dataframe tbody tr th {\n",
       "        vertical-align: top;\n",
       "    }\n",
       "\n",
       "    .dataframe thead th {\n",
       "        text-align: right;\n",
       "    }\n",
       "</style>\n",
       "<table border=\"1\" class=\"dataframe\">\n",
       "  <thead>\n",
       "    <tr style=\"text-align: right;\">\n",
       "      <th></th>\n",
       "      <th>Folder-Name</th>\n",
       "      <th>From</th>\n",
       "      <th>To</th>\n",
       "      <th>Mime-Version</th>\n",
       "      <th>Content-Type</th>\n",
       "      <th>Content-Transfer-Encoding</th>\n",
       "      <th>X-From</th>\n",
       "      <th>X-To</th>\n",
       "      <th>X-cc</th>\n",
       "      <th>X-Folder</th>\n",
       "      <th>...</th>\n",
       "      <th>Cc</th>\n",
       "      <th>Bcc</th>\n",
       "      <th>Time</th>\n",
       "      <th>Attendees</th>\n",
       "      <th>POI-Present</th>\n",
       "      <th>Sender-Type</th>\n",
       "      <th>Unique-Mails-From-Sender</th>\n",
       "      <th>Low-Comm</th>\n",
       "      <th>Contains-Reply-Forwards</th>\n",
       "      <th>Label</th>\n",
       "    </tr>\n",
       "  </thead>\n",
       "  <tbody>\n",
       "    <tr>\n",
       "      <th>10</th>\n",
       "      <td>1</td>\n",
       "      <td>3240</td>\n",
       "      <td>20684</td>\n",
       "      <td>0</td>\n",
       "      <td>2</td>\n",
       "      <td>1</td>\n",
       "      <td>4995</td>\n",
       "      <td>5936</td>\n",
       "      <td>32711</td>\n",
       "      <td>1297</td>\n",
       "      <td>...</td>\n",
       "      <td>18980</td>\n",
       "      <td>22651</td>\n",
       "      <td>0</td>\n",
       "      <td>0</td>\n",
       "      <td>0</td>\n",
       "      <td>0</td>\n",
       "      <td>1.0</td>\n",
       "      <td>1</td>\n",
       "      <td>0</td>\n",
       "      <td>0</td>\n",
       "    </tr>\n",
       "    <tr>\n",
       "      <th>14</th>\n",
       "      <td>1</td>\n",
       "      <td>7464</td>\n",
       "      <td>21221</td>\n",
       "      <td>0</td>\n",
       "      <td>2</td>\n",
       "      <td>1</td>\n",
       "      <td>10948</td>\n",
       "      <td>29240</td>\n",
       "      <td>15182</td>\n",
       "      <td>1297</td>\n",
       "      <td>...</td>\n",
       "      <td>26692</td>\n",
       "      <td>12919</td>\n",
       "      <td>0</td>\n",
       "      <td>0</td>\n",
       "      <td>0</td>\n",
       "      <td>0</td>\n",
       "      <td>4.0</td>\n",
       "      <td>1</td>\n",
       "      <td>0</td>\n",
       "      <td>0</td>\n",
       "    </tr>\n",
       "    <tr>\n",
       "      <th>18</th>\n",
       "      <td>1</td>\n",
       "      <td>3299</td>\n",
       "      <td>9361</td>\n",
       "      <td>0</td>\n",
       "      <td>2</td>\n",
       "      <td>1</td>\n",
       "      <td>10475</td>\n",
       "      <td>27971</td>\n",
       "      <td>31832</td>\n",
       "      <td>1297</td>\n",
       "      <td>...</td>\n",
       "      <td>26296</td>\n",
       "      <td>10448</td>\n",
       "      <td>0</td>\n",
       "      <td>0</td>\n",
       "      <td>0</td>\n",
       "      <td>0</td>\n",
       "      <td>3.0</td>\n",
       "      <td>1</td>\n",
       "      <td>0</td>\n",
       "      <td>1</td>\n",
       "    </tr>\n",
       "  </tbody>\n",
       "</table>\n",
       "<p>3 rows × 22 columns</p>\n",
       "</div>"
      ],
      "text/plain": [
       "    Folder-Name  From     To  Mime-Version  Content-Type  \\\n",
       "10            1  3240  20684             0             2   \n",
       "14            1  7464  21221             0             2   \n",
       "18            1  3299   9361             0             2   \n",
       "\n",
       "    Content-Transfer-Encoding  X-From   X-To   X-cc  X-Folder  ...     Cc  \\\n",
       "10                          1    4995   5936  32711      1297  ...  18980   \n",
       "14                          1   10948  29240  15182      1297  ...  26692   \n",
       "18                          1   10475  27971  31832      1297  ...  26296   \n",
       "\n",
       "      Bcc  Time  Attendees  POI-Present  Sender-Type  \\\n",
       "10  22651     0          0            0            0   \n",
       "14  12919     0          0            0            0   \n",
       "18  10448     0          0            0            0   \n",
       "\n",
       "    Unique-Mails-From-Sender  Low-Comm  Contains-Reply-Forwards  Label  \n",
       "10                       1.0         1                        0      0  \n",
       "14                       4.0         1                        0      0  \n",
       "18                       3.0         1                        0      1  \n",
       "\n",
       "[3 rows x 22 columns]"
      ]
     },
     "execution_count": 62,
     "metadata": {},
     "output_type": "execute_result"
    }
   ],
   "source": [
    "filter_df.head(3)"
   ]
  },
  {
   "cell_type": "code",
   "execution_count": 63,
   "id": "b2e6abc2-93c1-4e05-812b-31d4a97106da",
   "metadata": {},
   "outputs": [],
   "source": [
    "# checking the correction bettween the input value (X)------- and the output (Y)"
   ]
  },
  {
   "cell_type": "code",
   "execution_count": 64,
   "id": "18dff523-3153-47c4-848c-e2e33d57904b",
   "metadata": {},
   "outputs": [
    {
     "name": "stdout",
     "output_type": "stream",
     "text": [
      "getting the correction in respect to the output label\n"
     ]
    },
    {
     "data": {
      "text/plain": [
       "Folder-Name                  0.007756\n",
       "From                        -0.022626\n",
       "To                          -0.014050\n",
       "Mime-Version                 0.055557\n",
       "Content-Type                -0.060154\n",
       "Content-Transfer-Encoding    0.048863\n",
       "X-From                       0.023033\n",
       "X-To                         0.111094\n",
       "X-cc                         0.028742\n",
       "X-Folder                    -0.019964\n",
       "X-Origin                     0.005754\n",
       "X-FileName                  -0.070491\n",
       "Cc                          -0.280183\n",
       "Bcc                         -0.252650\n",
       "Time                        -0.000491\n",
       "Attendees                   -0.000491\n",
       "POI-Present                 -0.004890\n",
       "Sender-Type                 -0.369640\n",
       "Unique-Mails-From-Sender    -0.085462\n",
       "Low-Comm                     0.422365\n",
       "Contains-Reply-Forwards     -0.093833\n",
       "dtype: float64"
      ]
     },
     "execution_count": 64,
     "metadata": {},
     "output_type": "execute_result"
    }
   ],
   "source": [
    "# Numerical Analayis....... \n",
    "print('getting the correction in respect to the output label')\n",
    "corr_data = filter_df[filter_df.columns[:-1]].corrwith(other=filter_df.Label)\n",
    "corr_data"
   ]
  },
  {
   "cell_type": "code",
   "execution_count": 98,
   "id": "8de77dc8-f054-4b0d-82b6-0e65c36a1787",
   "metadata": {},
   "outputs": [
    {
     "data": {
      "image/png": "[encoded data removed]",
      "text/plain": [
       "<Figure size 640x480 with 1 Axes>"
      ]
     },
     "metadata": {},
     "output_type": "display_data"
    }
   ],
   "source": [
    "x = corr_data.index\n",
    "y = corr_data.values\n",
    "xtick = len(x)\n",
    "thresh = [0.01] * xtick\n",
    "\n",
    "plt.plot(x, y)\n",
    "plt.plot(thresh)\n",
    "plt.xticks(rotation=90)\n",
    "plt.legend(labels = ['Features', 'threasholds'])\n",
    "plt.ylabel('Correlation Value')\n",
    "plt.xlabel('Features')\n",
    "plt.title('Correlation Analysis')\n",
    "plt.show()"
   ]
  },
  {
   "cell_type": "code",
   "execution_count": 100,
   "id": "23b28e7d-3108-4e64-aff9-e6d8d0235409",
   "metadata": {
    "scrolled": true
   },
   "outputs": [],
   "source": [
    "# let use use the unbalance data samples... "
   ]
  },
  {
   "cell_type": "code",
   "execution_count": 101,
   "id": "f038cf46-821f-468c-b5b0-27ecf81c86a9",
   "metadata": {},
   "outputs": [
    {
     "data": {
      "text/plain": [
       "(97526, 21)"
      ]
     },
     "execution_count": 101,
     "metadata": {},
     "output_type": "execute_result"
    }
   ],
   "source": [
    "# splitting the data into dependent (y) and undependent variable (x)\n",
    "X , y = filter_df.drop(columns='Label'), filter_df.Label\n",
    "X.shape"
   ]
  },
  {
   "cell_type": "code",
   "execution_count": 115,
   "id": "5839ffc5-7e21-4d96-a45a-0d55e9529ed4",
   "metadata": {},
   "outputs": [
    {
     "data": {
      "text/plain": [
       "442649    0\n",
       "191957    0\n",
       "17448     1\n",
       "336783    0\n",
       "414788    0\n",
       "Name: Label, dtype: int64"
      ]
     },
     "execution_count": 115,
     "metadata": {},
     "output_type": "execute_result"
    }
   ],
   "source": [
    "y.sample(5)"
   ]
  },
  {
   "cell_type": "code",
   "execution_count": 55,
   "id": "2fdb9a34-80a5-4744-a4a5-302f7c30ef40",
   "metadata": {},
   "outputs": [
    {
     "data": {
      "text/plain": [
       "(97526,)"
      ]
     },
     "execution_count": 55,
     "metadata": {},
     "output_type": "execute_result"
    }
   ],
   "source": [
    "y.shape"
   ]
  },
  {
   "cell_type": "code",
   "execution_count": 57,
   "id": "546f41b1-595c-4f95-bedd-89edcda958ba",
   "metadata": {},
   "outputs": [
    {
     "name": "stdout",
     "output_type": "stream",
     "text": [
      "Xtrain:  (78020, 21)\n",
      "ytrain:  (78020,)\n",
      "Xtest:  (19506, 21)\n",
      "ytest:  (19506,)\n"
     ]
    }
   ],
   "source": [
    "\n",
    "X_train, X_test, y_train, y_test = train_test_split(X, y, test_size=0.2, random_state=42, stratify=y)\n",
    "print(f'Xtrain: ', X_train.shape)\n",
    "print(f'ytrain: ', y_train.shape)\n",
    "print(f'Xtest: ', X_test.shape)\n",
    "print(f'ytest: ', y_test.shape)"
   ]
  },
  {
   "cell_type": "code",
   "execution_count": 68,
   "id": "1e634e95-b010-4dda-ac8a-bb950b03548f",
   "metadata": {},
   "outputs": [
    {
     "data": {
      "text/plain": [
       "Text(0.5, 0, 'X, y splitting')"
      ]
     },
     "execution_count": 68,
     "metadata": {},
     "output_type": "execute_result"
    },
    {
     "data": {
      "image/png": "[encoded data removed]",
      "text/plain": [
       "<Figure size 640x480 with 1 Axes>"
      ]
     },
     "metadata": {},
     "output_type": "display_data"
    }
   ],
   "source": [
    "# data splitting\n",
    "plt.bar(x=['xtrain', 'xtest', 'ytrain', 'ytest'], height=[len(X_train), len(X_test), len(y_train), len(y_test)])\n",
    "plt.title('Plitting 80% : 20')\n",
    "plt.ylabel('Sample Sizes')\n",
    "plt.xlabel('X, y splitting')"
   ]
  },
  {
   "cell_type": "code",
   "execution_count": 96,
   "id": "998ccd91-a5c0-418c-9117-9a8bf0ef08d5",
   "metadata": {},
   "outputs": [],
   "source": [
    "from sklearn.svm import SVC\n",
    "from sklearn.ensemble import GradientBoostingClassifier, RandomForestClassifier\n",
    "from sklearn.metrics import classification_report, confusion_matrix, accuracy_score, precision_score, recall_score, f1_score\n",
    "from sklearn.linear_model import LogisticRegression\n",
    "from sklearn.naive_bayes import BernoulliNB\n",
    "import seaborn as sn"
   ]
  },
  {
   "cell_type": "code",
   "execution_count": 89,
   "id": "f22af899-d9f6-48c1-bef6-9cea8075dbf4",
   "metadata": {},
   "outputs": [],
   "source": [
    "# custume model for training my social enginering model along with the evaluation\n",
    "def social_enginering_model_training_and_evaluation(model, X_train, y_train, X_test, y_test, confuse_matrix=False, class_report=False):\n",
    "    print(f'\\tTRAINING THE {model} CLASSIFIER')\n",
    "    print(f'---------------------------------------------')\n",
    "    model.fit(X_train, y_train)\n",
    "    training_score = model.score(X_train, y_train)\n",
    "    print(f'Training Score: {training_score}')\n",
    "\n",
    "    \n",
    "    model_predict = model.predict(X_test)\n",
    "    acc_report = classification_report(y_test , model_predict)\n",
    "    acc = accuracy_score(y_test , model_predict)\n",
    "    pre = precision_score(y_test , model_predict)\n",
    "    recall = recall_score(y_test , model_predict)\n",
    "    f1score = f1_score(y_test , model_predict)\n",
    "    metric_score = {'Accuracy': acc, 'Precision':pre, 'Recall':pre, 'F1-Score':f1score}\n",
    "\n",
    "    \n",
    "    print(f'\\tEXTENSIVE REPORT ON {model} CLASSIFIER')\n",
    "    print(f'---------------------------------------------')\n",
    "    conf_matrix = confusion_matrix(y_test, model_predict)\n",
    "    cm_fig = sn.heatmap(conf_matrix, annot=True, fmt='2d', xticklabels=['no attack', 'attack'], yticklabels=['no attack', 'attack'])\n",
    "    plt.title('Social Engineering Confution Matrix')\n",
    "    print(pd.Series(metric_score))\n",
    "    print(acc_report)\n",
    "    print(cm_fig)\n",
    "\n",
    "    return metric_score\n"
   ]
  },
  {
   "cell_type": "code",
   "execution_count": 90,
   "id": "ba76334e-383c-4b5a-8243-8f5fdc905930",
   "metadata": {},
   "outputs": [
    {
     "name": "stdout",
     "output_type": "stream",
     "text": [
      "\tTRAINING THE SVC() CLASSIFIER\n",
      "---------------------------------------------\n",
      "Training Score: 0.9899128428608049\n",
      "\tEXTENSIVE REPORT ON SVC() CLASSIFIER\n",
      "---------------------------------------------\n",
      "Accuracy     0.989439\n",
      "Precision    0.802500\n",
      "Recall       0.802500\n",
      "F1-Score     0.757075\n",
      "dtype: float64\n",
      "              precision    recall  f1-score   support\n",
      "\n",
      "           0       0.99      1.00      0.99     19058\n",
      "           1       0.80      0.72      0.76       448\n",
      "\n",
      "    accuracy                           0.99     19506\n",
      "   macro avg       0.90      0.86      0.88     19506\n",
      "weighted avg       0.99      0.99      0.99     19506\n",
      "\n",
      "Axes(0.125,0.11;0.62x0.77)\n"
     ]
    },
    {
     "data": {
      "image/png": "[encoded data removed]",
      "text/plain": [
       "<Figure size 640x480 with 2 Axes>"
      ]
     },
     "metadata": {},
     "output_type": "display_data"
    }
   ],
   "source": [
    "svm_report = social_enginering_model_training_and_evaluation(svm, X_train, y_train, X_test, y_test, confuse_matrix=True, class_report=True)"
   ]
  },
  {
   "cell_type": "code",
   "execution_count": 92,
   "id": "79af6cb1-7180-40ca-b591-5c24aff32a92",
   "metadata": {},
   "outputs": [
    {
     "name": "stdout",
     "output_type": "stream",
     "text": [
      "\tTRAINING THE GradientBoostingClassifier() CLASSIFIER\n",
      "---------------------------------------------\n",
      "Training Score: 0.9991540630607536\n",
      "\tEXTENSIVE REPORT ON GradientBoostingClassifier() CLASSIFIER\n",
      "---------------------------------------------\n",
      "Accuracy     0.999282\n",
      "Precision    0.986547\n",
      "Recall       0.986547\n",
      "F1-Score     0.984340\n",
      "dtype: float64\n",
      "              precision    recall  f1-score   support\n",
      "\n",
      "           0       1.00      1.00      1.00     19058\n",
      "           1       0.99      0.98      0.98       448\n",
      "\n",
      "    accuracy                           1.00     19506\n",
      "   macro avg       0.99      0.99      0.99     19506\n",
      "weighted avg       1.00      1.00      1.00     19506\n",
      "\n",
      "Axes(0.125,0.11;0.62x0.77)\n"
     ]
    },
    {
     "data": {
      "image/png": "[encoded data removed]",
      "text/plain": [
       "<Figure size 640x480 with 2 Axes>"
      ]
     },
     "metadata": {},
     "output_type": "display_data"
    }
   ],
   "source": [
    "gb_report = social_enginering_model_training_and_evaluation(GradientBoostingClassifier(), X_train, y_train, X_test, y_test, confuse_matrix=True, class_report=True)"
   ]
  },
  {
   "cell_type": "code",
   "execution_count": 94,
   "id": "66a0d492-e3b9-497c-97f4-57e9c963ef08",
   "metadata": {},
   "outputs": [
    {
     "name": "stdout",
     "output_type": "stream",
     "text": [
      "\tTRAINING THE RandomForestClassifier() CLASSIFIER\n",
      "---------------------------------------------\n",
      "Training Score: 1.0\n",
      "\tEXTENSIVE REPORT ON RandomForestClassifier() CLASSIFIER\n",
      "---------------------------------------------\n",
      "Accuracy     0.999334\n",
      "Precision    0.986577\n",
      "Recall       0.986577\n",
      "F1-Score     0.985475\n",
      "dtype: float64\n",
      "              precision    recall  f1-score   support\n",
      "\n",
      "           0       1.00      1.00      1.00     19058\n",
      "           1       0.99      0.98      0.99       448\n",
      "\n",
      "    accuracy                           1.00     19506\n",
      "   macro avg       0.99      0.99      0.99     19506\n",
      "weighted avg       1.00      1.00      1.00     19506\n",
      "\n",
      "Axes(0.125,0.11;0.62x0.77)\n"
     ]
    },
    {
     "data": {
      "image/png": "[encoded data removed]",
      "text/plain": [
       "<Figure size 640x480 with 2 Axes>"
      ]
     },
     "metadata": {},
     "output_type": "display_data"
    }
   ],
   "source": [
    "rf_report = social_enginering_model_training_and_evaluation(RandomForestClassifier(), X_train, y_train, X_test, y_test, confuse_matrix=True, class_report=True)"
   ]
  },
  {
   "cell_type": "code",
   "execution_count": 97,
   "id": "00acd43a-f48c-4099-ade0-0a51026c0173",
   "metadata": {},
   "outputs": [
    {
     "name": "stdout",
     "output_type": "stream",
     "text": [
      "\tTRAINING THE BernoulliNB() CLASSIFIER\n",
      "---------------------------------------------\n",
      "Training Score: 0.9985901051012561\n",
      "\tEXTENSIVE REPORT ON BernoulliNB() CLASSIFIER\n",
      "---------------------------------------------\n",
      "Accuracy     0.999128\n",
      "Precision    0.984270\n",
      "Recall       0.984270\n",
      "F1-Score     0.980963\n",
      "dtype: float64\n",
      "              precision    recall  f1-score   support\n",
      "\n",
      "           0       1.00      1.00      1.00     19058\n",
      "           1       0.98      0.98      0.98       448\n",
      "\n",
      "    accuracy                           1.00     19506\n",
      "   macro avg       0.99      0.99      0.99     19506\n",
      "weighted avg       1.00      1.00      1.00     19506\n",
      "\n",
      "Axes(0.125,0.11;0.62x0.77)\n"
     ]
    },
    {
     "data": {
      "image/png": "[encoded data removed]",
      "text/plain": [
       "<Figure size 640x480 with 2 Axes>"
      ]
     },
     "metadata": {},
     "output_type": "display_data"
    }
   ],
   "source": [
    "nb_report = social_enginering_model_training_and_evaluation(BernoulliNB(), X_train, y_train, X_test, y_test, confuse_matrix=True, class_report=True)"
   ]
  },
  {
   "cell_type": "code",
   "execution_count": 98,
   "id": "8aab25a7-2868-4d1e-9499-15f8afc82f48",
   "metadata": {},
   "outputs": [
    {
     "name": "stdout",
     "output_type": "stream",
     "text": [
      "\tTRAINING THE LogisticRegression() CLASSIFIER\n",
      "---------------------------------------------\n",
      "Training Score: 0.9911304793642656\n",
      "\tEXTENSIVE REPORT ON LogisticRegression() CLASSIFIER\n",
      "---------------------------------------------\n",
      "Accuracy     0.990926\n",
      "Precision    0.834568\n",
      "Recall       0.834568\n",
      "F1-Score     0.792497\n",
      "dtype: float64\n",
      "              precision    recall  f1-score   support\n",
      "\n",
      "           0       0.99      1.00      1.00     19058\n",
      "           1       0.83      0.75      0.79       448\n",
      "\n",
      "    accuracy                           0.99     19506\n",
      "   macro avg       0.91      0.88      0.89     19506\n",
      "weighted avg       0.99      0.99      0.99     19506\n",
      "\n",
      "Axes(0.125,0.11;0.62x0.77)\n"
     ]
    },
    {
     "data": {
      "image/png": "[encoded data removed]",
      "text/plain": [
       "<Figure size 640x480 with 2 Axes>"
      ]
     },
     "metadata": {},
     "output_type": "display_data"
    }
   ],
   "source": [
    "lr_report = social_enginering_model_training_and_evaluation(LogisticRegression(), X_train, y_train, X_test, y_test, confuse_matrix=True, class_report=True)"
   ]
  },
  {
   "cell_type": "code",
   "execution_count": null,
   "id": "8da6c5c7-4f89-4a41-b94c-b00cad15480f",
   "metadata": {},
   "outputs": [],
   "source": []
  },
  {
   "cell_type": "code",
   "execution_count": null,
   "id": "0be3ba39-06d8-4264-bc8a-8611f0ff496e",
   "metadata": {},
   "outputs": [],
   "source": []
  },
  {
   "cell_type": "code",
   "execution_count": 85,
   "id": "b3e32ffc-a196-4d14-a2ff-d77a7eb4594b",
   "metadata": {},
   "outputs": [
    {
     "name": "stdout",
     "output_type": "stream",
     "text": [
      "Accuracy     0.989439\n",
      "Precision    0.802500\n",
      "Recall       0.802500\n",
      "F1-Score     0.757075\n",
      "dtype: float64\n",
      "              precision    recall  f1-score   support\n",
      "\n",
      "           0       0.99      1.00      0.99     19058\n",
      "           1       0.80      0.72      0.76       448\n",
      "\n",
      "    accuracy                           0.99     19506\n",
      "   macro avg       0.90      0.86      0.88     19506\n",
      "weighted avg       0.99      0.99      0.99     19506\n",
      "\n",
      "Axes(0.125,0.11;0.62x0.77)\n"
     ]
    },
    {
     "data": {
      "image/png": "[encoded data removed]",
      "text/plain": [
       "<Figure size 640x480 with 2 Axes>"
      ]
     },
     "metadata": {},
     "output_type": "display_data"
    }
   ],
   "source": [
    "svm_predict = svm.predict(X_test)\n",
    "acc_report = classification_report(y_test , svm_predict)\n",
    "acc = accuracy_score(y_test , svm_predict)\n",
    "pre = precision_score(y_test , svm_predict)\n",
    "recall = recall_score(y_test , svm_predict)\n",
    "f1_score = f1_score(y_test , svm_predict)\n",
    "\n",
    "metric_score = {'Accuracy': acc, 'Precision':pre, 'Recall':pre, 'F1-Score':f1_score}\n",
    "\n",
    "conf_matrix = confusion_matrix(y_test, svm_predict)\n",
    "cm_fig = sn.heatmap(conf_matrix, annot=True, fmt='2d')\n",
    "print(pd.Series(metric_score))\n",
    "print(acc_report)\n",
    "print(cm_fig)\n"
   ]
  },
  {
   "cell_type": "code",
   "execution_count": 105,
   "id": "fd1e5b88-657c-4bc1-9061-f76796eb7ddb",
   "metadata": {},
   "outputs": [
    {
     "data": {
      "text/html": [
       "<div>\n",
       "<style scoped>\n",
       "    .dataframe tbody tr th:only-of-type {\n",
       "        vertical-align: middle;\n",
       "    }\n",
       "\n",
       "    .dataframe tbody tr th {\n",
       "        vertical-align: top;\n",
       "    }\n",
       "\n",
       "    .dataframe thead th {\n",
       "        text-align: right;\n",
       "    }\n",
       "</style>\n",
       "<table border=\"1\" class=\"dataframe\">\n",
       "  <thead>\n",
       "    <tr style=\"text-align: right;\">\n",
       "      <th></th>\n",
       "      <th>Accuracy</th>\n",
       "      <th>Precision</th>\n",
       "      <th>Recall</th>\n",
       "      <th>F1-Score</th>\n",
       "    </tr>\n",
       "  </thead>\n",
       "  <tbody>\n",
       "    <tr>\n",
       "      <th>SVM</th>\n",
       "      <td>0.989439</td>\n",
       "      <td>0.802500</td>\n",
       "      <td>0.802500</td>\n",
       "      <td>0.757075</td>\n",
       "    </tr>\n",
       "    <tr>\n",
       "      <th>RF</th>\n",
       "      <td>0.999334</td>\n",
       "      <td>0.986577</td>\n",
       "      <td>0.986577</td>\n",
       "      <td>0.985475</td>\n",
       "    </tr>\n",
       "    <tr>\n",
       "      <th>GB</th>\n",
       "      <td>0.999282</td>\n",
       "      <td>0.986547</td>\n",
       "      <td>0.986547</td>\n",
       "      <td>0.984340</td>\n",
       "    </tr>\n",
       "    <tr>\n",
       "      <th>NB</th>\n",
       "      <td>0.999128</td>\n",
       "      <td>0.984270</td>\n",
       "      <td>0.984270</td>\n",
       "      <td>0.980963</td>\n",
       "    </tr>\n",
       "    <tr>\n",
       "      <th>LR</th>\n",
       "      <td>0.990926</td>\n",
       "      <td>0.834568</td>\n",
       "      <td>0.834568</td>\n",
       "      <td>0.792497</td>\n",
       "    </tr>\n",
       "  </tbody>\n",
       "</table>\n",
       "</div>"
      ],
      "text/plain": [
       "     Accuracy  Precision    Recall  F1-Score\n",
       "SVM  0.989439   0.802500  0.802500  0.757075\n",
       "RF   0.999334   0.986577  0.986577  0.985475\n",
       "GB   0.999282   0.986547  0.986547  0.984340\n",
       "NB   0.999128   0.984270  0.984270  0.980963\n",
       "LR   0.990926   0.834568  0.834568  0.792497"
      ]
     },
     "execution_count": 105,
     "metadata": {},
     "output_type": "execute_result"
    }
   ],
   "source": [
    "final_result = {\n",
    "    'SVM': svm_report, \n",
    "    'RF': rf_report, \n",
    "    'GB': gb_report, \n",
    "    'NB': nb_report, \n",
    "    'LR': lr_report\n",
    "}\n",
    "\n",
    "\n",
    "pd.DataFrame(final_result).transpose()"
   ]
  },
  {
   "cell_type": "code",
   "execution_count": 106,
   "id": "ebaf607c-25cf-4ded-870e-fe050db300ec",
   "metadata": {},
   "outputs": [],
   "source": [
    "# saving result as.... csv\n",
    "pd.DataFrame(final_result).transpose().to_csv('experimental_result.csv')"
   ]
  },
  {
   "cell_type": "code",
   "execution_count": 111,
   "id": "d64b8d6a-00dc-4cd7-99ed-a1f79d0b2b5b",
   "metadata": {},
   "outputs": [],
   "source": [
    "# pd.DataFrame(final_result).transpose().plot(kind='bar')"
   ]
  },
  {
   "cell_type": "code",
   "execution_count": 26,
   "id": "dfde97c2-24cf-4663-965b-0d0d026637dc",
   "metadata": {},
   "outputs": [],
   "source": [
    "# col_set1['Folder-User'].unique()"
   ]
  },
  {
   "cell_type": "code",
   "execution_count": null,
   "id": "714ac1e1-fffa-4103-8710-52ee6e2702a3",
   "metadata": {},
   "outputs": [],
   "source": [
    "col_set1['From'].value_counts()"
   ]
  }
 ],
 "metadata": {
  "kernelspec": {
   "display_name": "Python 3 (ipykernel)",
   "language": "python",
   "name": "python3"
  },
  "language_info": {
   "codemirror_mode": {
    "name": "ipython",
    "version": 3
   },
   "file_extension": ".py",
   "mimetype": "text/x-python",
   "name": "python",
   "nbconvert_exporter": "python",
   "pygments_lexer": "ipython3",
   "version": "3.9.5"
  }
 },
 "nbformat": 4,
 "nbformat_minor": 5
}
