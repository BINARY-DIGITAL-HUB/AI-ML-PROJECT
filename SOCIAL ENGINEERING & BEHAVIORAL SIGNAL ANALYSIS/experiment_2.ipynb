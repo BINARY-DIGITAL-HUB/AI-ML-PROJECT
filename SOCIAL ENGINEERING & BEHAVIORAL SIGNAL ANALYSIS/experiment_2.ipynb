{
 "cells": [
  {
   "cell_type": "code",
   "execution_count": 2,
   "id": "146c9106-0bc4-4a92-b050-c4c6258b60c9",
   "metadata": {},
   "outputs": [
    {
     "name": "stdout",
     "output_type": "stream",
     "text": [
      "ذهب الطالب الى المدرسة\n"
     ]
    }
   ],
   "source": [
    "print(\"ذهب الطالب الى المدرسة\")"
   ]
  },
  {
   "cell_type": "code",
   "execution_count": null,
   "id": "5547c8bb-598e-4794-a1a2-db2f1bebca82",
   "metadata": {},
   "outputs": [],
   "source": []
  }
 ],
 "metadata": {
  "kernelspec": {
   "display_name": "Python 3 (ipykernel)",
   "language": "python",
   "name": "python3"
  },
  "language_info": {
   "codemirror_mode": {
    "name": "ipython",
    "version": 3
   },
   "file_extension": ".py",
   "mimetype": "text/x-python",
   "name": "python",
   "nbconvert_exporter": "python",
   "pygments_lexer": "ipython3",
   "version": "3.9.5"
  }
 },
 "nbformat": 4,
 "nbformat_minor": 5
}
