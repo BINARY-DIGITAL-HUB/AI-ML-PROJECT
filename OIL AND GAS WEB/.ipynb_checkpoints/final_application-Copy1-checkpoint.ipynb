{
 "cells": [
  {
   "cell_type": "code",
   "execution_count": 1,
   "id": "49e5d23c-0ac8-465a-9364-0f4fb52147b4",
   "metadata": {},
   "outputs": [],
   "source": [
    "from solcx import compile_standard\n",
    "import json\n",
    "from web3 import Web3\n",
    "from web3 import EthereumTesterProvider"
   ]
  },
  {
   "cell_type": "markdown",
   "id": "3910917c-82d8-4e88-98e0-54e705d129c3",
   "metadata": {},
   "source": [
    "# APPLICATION IMPLEMENTATION"
   ]
  },
  {
   "cell_type": "code",
   "execution_count": 11,
   "id": "2d425d88-32c1-4cbc-9e1f-bd1aa2955d4d",
   "metadata": {},
   "outputs": [],
   "source": [
    "# creating a reusable  blockchain connection function\n",
    "\n",
    "connection_url = 'https://goerli.infura.io/v3/e44ef8108a8542fcbb93940652bea43d'\n",
    "\n",
    "class Blockchain_Link: \n",
    "    \n",
    "    def __init__(self):\n",
    "        self.wb3 = None\n",
    "\n",
    "    def isConnected(self, w3): \n",
    "        if w3.is_connected(): \n",
    "            return  True, w3\n",
    "        else: \n",
    "            return False, \"\"\n",
    "    \n",
    "    # return status and connection object for tester network\n",
    "    def connectTestNetwork(self): \n",
    "        return self.isConnected(Web3(EthereumTesterProvider()))\n",
    "       \n",
    "\n",
    "    def connectBlockchainNetwork(self, url=\"\", is_remote=False): \n",
    "        \n",
    "        if is_remote:\n",
    "            print(\"========= Establishing connection To Remote Database =========\")\n",
    "            return self.isConnected(Web3(Web3.HTTPProvider(url)))\n",
    "        else:\n",
    "            print(\"========= Establishing connection To Local Database =========\")\n",
    "            return self.isConnected(Web3(Web3.HTTPProvider(url)))\n",
    "\n",
    "\n",
    "\n",
    "blink = Blockchain_Link()"
   ]
  },
  {
   "cell_type": "code",
   "execution_count": null,
   "id": "706e5bc7-89fb-4498-8dad-e14baf639143",
   "metadata": {},
   "outputs": [],
   "source": []
  },
  {
   "cell_type": "code",
   "execution_count": 30,
   "id": "88c8229d-fabf-4659-baad-5c26b6b9fcd5",
   "metadata": {},
   "outputs": [],
   "source": [
    "# General function to deploy any smart contract\n",
    "wallet_address = '0x865eD5591EbED9F689dAFC25fEe10BB16fBD9883'\n",
    "private_key = '0x'+'cdd135c8c5b390757003b4a5a5df4c45aee24a1ff7540df0171b3deeb7d81b0b'\n",
    "chainId = 5\n",
    "\n",
    "class smartContract():\n",
    "\n",
    "    def __init__(self, connection): \n",
    "        self.con = connection\n",
    "\n",
    "    \n",
    "\n",
    "    def load_compile_solidity(self):\n",
    "        # import solidity file\n",
    "        # load solidity file\n",
    "        og_file = 'oil_and_gas.sol'\n",
    "        with open(og_file, 'r') as file: \n",
    "            og_sol = file.read()\n",
    "        # ================================\n",
    "        # using compile standard to compile the solidity code\n",
    "        compiled_sol = compile_standard({\n",
    "                \"language\":\"Solidity\", \n",
    "                'sources':{'oil_and_gas.sol':{'content':og_sol}}, \n",
    "                'settings':{'outputSelection':{'*':{'*':['abi', 'metadata', 'evm.bytecode', 'evm.sourceMap']}}}\n",
    "        }, solc_version='0.8.20')\n",
    "\n",
    "        # accessing ABI and bytecode... \n",
    "        self.abi = compiled_sol['contracts']['oil_and_gas.sol']['SupplyChain']['abi']\n",
    "        self.bytecode = compiled_sol['contracts']['oil_and_gas.sol']['SupplyChain']['evm']['bytecode']['object']\n",
    "        self.compiled_sol = compiled_sol ;\n",
    "        return compiled_sol\n",
    "\n",
    "    # this function take in the compile solidity and return a \n",
    "    # object contract for deployment......\n",
    "    def build_oil_gas_contract(self):       \n",
    "        og_contract = self.con.eth.contract(abi=self.abi, bytecode=self.bytecode)\n",
    "        return og_contract\n",
    "\n",
    "    # this function helps in deploying the smart contract.. \n",
    "    # acc_address (USER account use in deploying)\n",
    "    # p_key -> the primary key of the sender \n",
    "    # contract -> cantract to be deployed\n",
    "    # chain id , nouce and connection (the blockchain connection)\n",
    "    # it return traction reciept and transaction json data... \n",
    "    def deploy_smart_contract(self, acc_address, p_key, chain_id, contract):\n",
    "        # # load solidity code\n",
    "        # self.load_compile_solidity()\n",
    "        # print(\"solidity loaded successfully\")\n",
    "        # # build the contract \n",
    "        # contract = self.build_oil_gas_contract()\n",
    "        # print(\"building oil and gas contract successfully...\")\n",
    "        # get nounce\n",
    "        nonce = self.con.eth.get_transaction_count(acc_address)\n",
    "        print(self.con.eth.gas_price * 1000, nonce)\n",
    "        # buid transaction\n",
    "        transaction = contract.constructor().build_transaction({'gasPrice':(self.con.eth.gas_price * 500), 'chainId':chain_id, 'from':acc_address, 'nonce':nonce})\n",
    "        # sign transaction\n",
    "        signed_transaction = self.con.eth.account.sign_transaction(transaction, private_key=p_key)\n",
    "        \n",
    "        # getting reciept\n",
    "        transact_hash = self.con.eth.send_raw_transaction(signed_transaction.rawTransaction)\n",
    "        trans_reciept = self.con.eth.wait_for_transaction_receipt(transact_hash)\n",
    "        self.contract_address = trans_reciept.contractAddress\n",
    "        # save.. (abi code, and contract address)...\n",
    "        self.save_contract_metadata(self.compiled_sol, \"oil_gas_solfile.json\", trans_reciept.contractAddress, 'contractAddress.txt')\n",
    "        # return reciept....\n",
    "        print(\"BLOCKCHAIN DEPLOY SUCCESSFULLY....\")\n",
    "        return trans_reciept, transaction\n",
    "\n",
    "    # save contract and contract address info.. \n",
    "    # Function to save data to a JSON file\n",
    "    def save_contract_metadata(self, json_data, json_filename, text_data, text_filename):\n",
    "    \n",
    "        try:\n",
    "            # save the smart contract compile file as json\n",
    "            with open(json_filename, 'w') as json_file:\n",
    "                json.dump(json_data, json_file)\n",
    "        \n",
    "            # saving contract address... after deployment \n",
    "            with open(text_filename, 'w') as text_file:\n",
    "                text_file.write(text_data)\n",
    "            \n",
    "            print(\"Operation perfromed successfully...\")\n",
    "        except Exception as e: \n",
    "            print(\"Operation Failed... \", e)\n",
    "    \n",
    "    \n",
    "    # Function to load data from a JSON file\n",
    "    def load_contract_metadata(self, json_filename, text_filename):\n",
    "    \n",
    "        try: \n",
    "            with open(json_filename, 'r') as json_file:\n",
    "                j_data = json.load(json_file)\n",
    "        \n",
    "        \n",
    "            with open(text_filename, 'r') as text_file:\n",
    "                t_data = text_file.read()\n",
    "        \n",
    "        \n",
    "            return j_data, t_data\n",
    "            print(\"Operation Perfromed Successfully...\")\n",
    "        except: \n",
    "            print(\"Operation Failed.....\")\n",
    "            return \"\", \"\"\n",
    "            \n",
    "\n",
    "# =========================================================================\n",
    "                    # interacting with smart contract #\n",
    "    #  with contract address and ABI code the contract can be intantiated... #\n",
    "# =========================================================================\n",
    "    \n",
    "    \n",
    "    # create an object to interact with the smart contract... \n",
    "    def contract_interaction_object(self):\n",
    "        solidity_json, address = self.load_contract_metadata(\"oil_gas_solfile.json\", 'contractAddress.txt')\n",
    "        abi = solidity_json['contracts']['oil_and_gas.sol']['SupplyChain']['abi']\n",
    "        con_obj = self.con.eth.contract(address=address, abi=abi)\n",
    "        return con_obj \n",
    "\n",
    "\n",
    "    # helper method to create a new entity on the smart contract chain on the block\n",
    "    def createEntity(self, entity_name, barrel_value, sender): \n",
    "        oil_obj = self.contract_interaction_object()\n",
    "        # building transaction...........\n",
    "        trx = oil_obj.functions.createEntity(entity_name, barrel_value).build_transaction(\n",
    "        {'gasPrice':self.con.eth.gas_price, 'chainId':chainId, 'from':sender, 'nonce':self.con.eth.get_transaction_count(sender)}\n",
    "        )\n",
    "\n",
    "        # self.con.eth.get_transaction_count(self.contract_address)\n",
    "        # signing the transaction........\n",
    "        trx_sign = self.con.eth.account.sign_transaction(trx, private_key)\n",
    "        trx_sign_raw = self.con.eth.send_raw_transaction(trx_sign.rawTransaction)\n",
    "        trx_sign_raw\n",
    "    \n",
    "        # getting transaction reciept.......\n",
    "        trx_reciept = self.con.eth.wait_for_transaction_receipt(trx_sign_raw)\n",
    "        \n",
    "        return trx_reciept\n",
    "\n",
    "\n",
    "\n",
    "    # helper method to transfer a barrel from one entity to another.. \n",
    "    def transferBarrels(self, reciever_address, barrel_value, sender): \n",
    "        oil_obj = self.contract_interaction_object()\n",
    "        # building transaction...........\n",
    "        trx = oil_obj.functions.transferBarrels(reciever_address, barrel_value).build_transaction(\n",
    "        {'gasPrice':self.con.eth.gas_price + 1000, 'chainId':chainId, 'from':sender, 'nonce':self.con.eth.get_transaction_count(sender)}\n",
    "        )\n",
    "\n",
    "        # self.con.eth.get_transaction_count(self.contract_address)\n",
    "        # signing the transaction........\n",
    "        trx_sign = self.con.eth.account.sign_transaction(trx, private_key)\n",
    "        trx_sign_raw = self.con.eth.send_raw_transaction(trx_sign.rawTransaction)\n",
    "        trx_sign_raw\n",
    "    \n",
    "        # getting transaction reciept.......\n",
    "        trx_reciept = self.con.eth.wait_for_transaction_receipt(trx_sign_raw)\n",
    "        \n",
    "        return trx_reciept\n",
    "\n",
    "\n",
    "    def transactionHistory(self, wallet_address):\n",
    "        # building transaction...........\n",
    "        # history = oil_obj.functions.getTransactionHistory().call()\n",
    "        transaction_history = oil_obj.functions.getTransactionHistory().call({'from': wallet_address})\n",
    "    \n",
    "        return transaction_history"
   ]
  },
  {
   "cell_type": "markdown",
   "id": "d7de58dc-7927-4bc4-885f-93a6ac6014e3",
   "metadata": {},
   "source": [
    "### APPLICATION USAGE"
   ]
  },
  {
   "cell_type": "code",
   "execution_count": 4,
   "id": "56a70982-2b00-4121-a915-85c76e4ee0cd",
   "metadata": {},
   "outputs": [],
   "source": [
    "# CONNECTION TO BLOCKCHAIN NODE... VIA PYTHON....."
   ]
  },
  {
   "cell_type": "code",
   "execution_count": 19,
   "id": "5ef09c7f-fa8d-4036-9ef8-5009f8204f9b",
   "metadata": {},
   "outputs": [
    {
     "name": "stdin",
     "output_type": "stream",
     "text": [
      "Enter blockchain URL: https://goerli.infura.io/v3/e44ef8108a8542fcbb93940652bea43d\n"
     ]
    },
    {
     "name": "stdout",
     "output_type": "stream",
     "text": [
      "========= Establishing connection To Remote Database =========\n",
      "Connection Successfull\n",
      "<web3.main.Web3 object at 0x000001E3371D3CA0>\n"
     ]
    }
   ],
   "source": [
    "# \"HTTP://127.0.0.1:7545\"\n",
    "# connection_url = 'https://goerli.infura.io/v3/e44ef8108a8542fcbb93940652bea43d'\n",
    "# establishing connection\n",
    "# establishing connection.......\n",
    "url = input(\"Enter blockchain URL:\")\n",
    "st , con = blink.connectBlockchainNetwork(url, is_remote=True)\n",
    "if st: \n",
    "    print('Connection Successfull')\n",
    "    print(con)\n",
    "else:\n",
    "    print(\"Invalid Connection\")"
   ]
  },
  {
   "cell_type": "code",
   "execution_count": null,
   "id": "ee5f5c1e-838f-442e-a254-d16c9a18a2a1",
   "metadata": {},
   "outputs": [],
   "source": []
  },
  {
   "cell_type": "code",
   "execution_count": 6,
   "id": "72477d60-8071-44f3-9bc3-021fce43c66c",
   "metadata": {},
   "outputs": [],
   "source": [
    "#DEPLOY SMART CONTRACT"
   ]
  },
  {
   "cell_type": "code",
   "execution_count": 31,
   "id": "679c976f-4b54-4b93-91b1-0a4f05d6617f",
   "metadata": {},
   "outputs": [
    {
     "name": "stdout",
     "output_type": "stream",
     "text": [
      "1000000009000 51\n"
     ]
    },
    {
     "ename": "ValueError",
     "evalue": "{'code': -32000, 'message': 'replacement transaction underpriced'}",
     "output_type": "error",
     "traceback": [
      "\u001b[1;31m------------------------------------------------------------------------\u001b[0m",
      "\u001b[1;31mValueError\u001b[0m                             Traceback (most recent call last)",
      "Cell \u001b[1;32mIn[31], line 20\u001b[0m\n\u001b[0;32m     14\u001b[0m oil_contract\n\u001b[0;32m     16\u001b[0m \u001b[38;5;66;03m# address = input(\"Enter Address:\")\u001b[39;00m\n\u001b[0;32m     17\u001b[0m \u001b[38;5;66;03m# p_key = input(\"Address Key:\")\u001b[39;00m\n\u001b[0;32m     18\u001b[0m \u001b[38;5;66;03m# chain_id = input(\"Enter Chain ID:\")\u001b[39;00m\n\u001b[1;32m---> 20\u001b[0m reciept \u001b[38;5;241m=\u001b[39m \u001b[43msmrt_contract\u001b[49m\u001b[38;5;241;43m.\u001b[39;49m\u001b[43mdeploy_smart_contract\u001b[49m\u001b[43m(\u001b[49m\u001b[43mwallet_address\u001b[49m\u001b[43m,\u001b[49m\u001b[43m \u001b[49m\u001b[43mprivate_key\u001b[49m\u001b[43m,\u001b[49m\u001b[43m \u001b[49m\u001b[43mchainId\u001b[49m\u001b[43m,\u001b[49m\u001b[43m \u001b[49m\u001b[43moil_contract\u001b[49m\u001b[43m)\u001b[49m\n\u001b[0;32m     21\u001b[0m \u001b[38;5;66;03m# reciept = smrt_contract.deploy_smart_contract(address, p_key, chain_id)\u001b[39;00m\n\u001b[0;32m     22\u001b[0m reciept\n",
      "Cell \u001b[1;32mIn[30], line 61\u001b[0m, in \u001b[0;36msmartContract.deploy_smart_contract\u001b[1;34m(self, acc_address, p_key, chain_id, contract)\u001b[0m\n\u001b[0;32m     58\u001b[0m signed_transaction \u001b[38;5;241m=\u001b[39m \u001b[38;5;28mself\u001b[39m\u001b[38;5;241m.\u001b[39mcon\u001b[38;5;241m.\u001b[39meth\u001b[38;5;241m.\u001b[39maccount\u001b[38;5;241m.\u001b[39msign_transaction(transaction, private_key\u001b[38;5;241m=\u001b[39mp_key)\n\u001b[0;32m     60\u001b[0m \u001b[38;5;66;03m# getting reciept\u001b[39;00m\n\u001b[1;32m---> 61\u001b[0m transact_hash \u001b[38;5;241m=\u001b[39m \u001b[38;5;28;43mself\u001b[39;49m\u001b[38;5;241;43m.\u001b[39;49m\u001b[43mcon\u001b[49m\u001b[38;5;241;43m.\u001b[39;49m\u001b[43meth\u001b[49m\u001b[38;5;241;43m.\u001b[39;49m\u001b[43msend_raw_transaction\u001b[49m\u001b[43m(\u001b[49m\u001b[43msigned_transaction\u001b[49m\u001b[38;5;241;43m.\u001b[39;49m\u001b[43mrawTransaction\u001b[49m\u001b[43m)\u001b[49m\n\u001b[0;32m     62\u001b[0m trans_reciept \u001b[38;5;241m=\u001b[39m \u001b[38;5;28mself\u001b[39m\u001b[38;5;241m.\u001b[39mcon\u001b[38;5;241m.\u001b[39meth\u001b[38;5;241m.\u001b[39mwait_for_transaction_receipt(transact_hash)\n\u001b[0;32m     63\u001b[0m \u001b[38;5;28mself\u001b[39m\u001b[38;5;241m.\u001b[39mcontract_address \u001b[38;5;241m=\u001b[39m trans_reciept\u001b[38;5;241m.\u001b[39mcontractAddress\n",
      "File \u001b[1;32mc:\\users\\hp\\appdata\\local\\programs\\python\\python39\\lib\\site-packages\\web3\\eth\\eth.py:372\u001b[0m, in \u001b[0;36mEth.send_raw_transaction\u001b[1;34m(self, transaction)\u001b[0m\n\u001b[0;32m    371\u001b[0m \u001b[38;5;28;01mdef\u001b[39;00m \u001b[38;5;21msend_raw_transaction\u001b[39m(\u001b[38;5;28mself\u001b[39m, transaction: Union[HexStr, \u001b[38;5;28mbytes\u001b[39m]) \u001b[38;5;241m-\u001b[39m\u001b[38;5;241m>\u001b[39m HexBytes:\n\u001b[1;32m--> 372\u001b[0m     \u001b[38;5;28;01mreturn\u001b[39;00m \u001b[38;5;28;43mself\u001b[39;49m\u001b[38;5;241;43m.\u001b[39;49m\u001b[43m_send_raw_transaction\u001b[49m\u001b[43m(\u001b[49m\u001b[43mtransaction\u001b[49m\u001b[43m)\u001b[49m\n",
      "File \u001b[1;32mc:\\users\\hp\\appdata\\local\\programs\\python\\python39\\lib\\site-packages\\web3\\module.py:68\u001b[0m, in \u001b[0;36mretrieve_blocking_method_call_fn.<locals>.caller\u001b[1;34m(*args, **kwargs)\u001b[0m\n\u001b[0;32m     62\u001b[0m     \u001b[38;5;28;01mreturn\u001b[39;00m LogFilter(eth_module\u001b[38;5;241m=\u001b[39mmodule, filter_id\u001b[38;5;241m=\u001b[39merr\u001b[38;5;241m.\u001b[39mfilter_id)\n\u001b[0;32m     63\u001b[0m (\n\u001b[0;32m     64\u001b[0m     result_formatters,\n\u001b[0;32m     65\u001b[0m     error_formatters,\n\u001b[0;32m     66\u001b[0m     null_result_formatters,\n\u001b[0;32m     67\u001b[0m ) \u001b[38;5;241m=\u001b[39m response_formatters\n\u001b[1;32m---> 68\u001b[0m result \u001b[38;5;241m=\u001b[39m \u001b[43mw3\u001b[49m\u001b[38;5;241;43m.\u001b[39;49m\u001b[43mmanager\u001b[49m\u001b[38;5;241;43m.\u001b[39;49m\u001b[43mrequest_blocking\u001b[49m\u001b[43m(\u001b[49m\n\u001b[0;32m     69\u001b[0m \u001b[43m    \u001b[49m\u001b[43mmethod_str\u001b[49m\u001b[43m,\u001b[49m\u001b[43m \u001b[49m\u001b[43mparams\u001b[49m\u001b[43m,\u001b[49m\u001b[43m \u001b[49m\u001b[43merror_formatters\u001b[49m\u001b[43m,\u001b[49m\u001b[43m \u001b[49m\u001b[43mnull_result_formatters\u001b[49m\n\u001b[0;32m     70\u001b[0m \u001b[43m\u001b[49m\u001b[43m)\u001b[49m\n\u001b[0;32m     71\u001b[0m \u001b[38;5;28;01mreturn\u001b[39;00m apply_result_formatters(result_formatters, result)\n",
      "File \u001b[1;32mc:\\users\\hp\\appdata\\local\\programs\\python\\python39\\lib\\site-packages\\web3\\manager.py:232\u001b[0m, in \u001b[0;36mRequestManager.request_blocking\u001b[1;34m(self, method, params, error_formatters, null_result_formatters)\u001b[0m\n\u001b[0;32m    228\u001b[0m \u001b[38;5;250m\u001b[39m\u001b[38;5;124;03m\"\"\"\u001b[39;00m\n\u001b[0;32m    229\u001b[0m \u001b[38;5;124;03mMake a synchronous request using the provider\u001b[39;00m\n\u001b[0;32m    230\u001b[0m \u001b[38;5;124;03m\"\"\"\u001b[39;00m\n\u001b[0;32m    231\u001b[0m response \u001b[38;5;241m=\u001b[39m \u001b[38;5;28mself\u001b[39m\u001b[38;5;241m.\u001b[39m_make_request(method, params)\n\u001b[1;32m--> 232\u001b[0m \u001b[38;5;28;01mreturn\u001b[39;00m \u001b[38;5;28;43mself\u001b[39;49m\u001b[38;5;241;43m.\u001b[39;49m\u001b[43mformatted_response\u001b[49m\u001b[43m(\u001b[49m\n\u001b[0;32m    233\u001b[0m \u001b[43m    \u001b[49m\u001b[43mresponse\u001b[49m\u001b[43m,\u001b[49m\u001b[43m \u001b[49m\u001b[43mparams\u001b[49m\u001b[43m,\u001b[49m\u001b[43m \u001b[49m\u001b[43merror_formatters\u001b[49m\u001b[43m,\u001b[49m\u001b[43m \u001b[49m\u001b[43mnull_result_formatters\u001b[49m\n\u001b[0;32m    234\u001b[0m \u001b[43m\u001b[49m\u001b[43m)\u001b[49m\n",
      "File \u001b[1;32mc:\\users\\hp\\appdata\\local\\programs\\python\\python39\\lib\\site-packages\\web3\\manager.py:205\u001b[0m, in \u001b[0;36mRequestManager.formatted_response\u001b[1;34m(response, params, error_formatters, null_result_formatters)\u001b[0m\n\u001b[0;32m    203\u001b[0m         \u001b[38;5;28;01mif\u001b[39;00m resp_code \u001b[38;5;241m==\u001b[39m \u001b[38;5;241m-\u001b[39m\u001b[38;5;241m32601\u001b[39m:\n\u001b[0;32m    204\u001b[0m             \u001b[38;5;28;01mraise\u001b[39;00m MethodUnavailable(response[\u001b[38;5;124m\"\u001b[39m\u001b[38;5;124merror\u001b[39m\u001b[38;5;124m\"\u001b[39m])\n\u001b[1;32m--> 205\u001b[0m     \u001b[38;5;28;01mraise\u001b[39;00m \u001b[38;5;167;01mValueError\u001b[39;00m(response[\u001b[38;5;124m\"\u001b[39m\u001b[38;5;124merror\u001b[39m\u001b[38;5;124m\"\u001b[39m])\n\u001b[0;32m    206\u001b[0m \u001b[38;5;66;03m# NULL_RESPONSES includes None, so return False here as the default\u001b[39;00m\n\u001b[0;32m    207\u001b[0m \u001b[38;5;66;03m# so we don't apply the null_result_formatters if there is no 'result' key\u001b[39;00m\n\u001b[0;32m    208\u001b[0m \u001b[38;5;28;01melif\u001b[39;00m response\u001b[38;5;241m.\u001b[39mget(\u001b[38;5;124m\"\u001b[39m\u001b[38;5;124mresult\u001b[39m\u001b[38;5;124m\"\u001b[39m, \u001b[38;5;28;01mFalse\u001b[39;00m) \u001b[38;5;129;01min\u001b[39;00m NULL_RESPONSES:\n\u001b[0;32m    209\u001b[0m     \u001b[38;5;66;03m# null_result_formatters raise either a BlockNotFound\u001b[39;00m\n\u001b[0;32m    210\u001b[0m     \u001b[38;5;66;03m# or a TransactionNotFound error, depending on the method called\u001b[39;00m\n",
      "\u001b[1;31mValueError\u001b[0m: {'code': -32000, 'message': 'replacement transaction underpriced'}"
     ]
    }
   ],
   "source": [
    "# chain id ===> 22391\n",
    "# wallet_address = '0xE9bF4A3011FDD2A66581cC4ead3FD239EC8E2080'\n",
    "# private_key = '0xa8555cd2f86cb928a5541edb713df8d09408f8e32a07edf5691c8261b53cc135'\n",
    "# chainId = 1337\n",
    "\n",
    "# General function to deploy any smart contract\n",
    "wallet_address = '0x865eD5591EbED9F689dAFC25fEe10BB16fBD9883'\n",
    "private_key = '0x'+'cdd135c8c5b390757003b4a5a5df4c45aee24a1ff7540df0171b3deeb7d81b0b'\n",
    "chainId = 5\n",
    "\n",
    "smrt_contract = smartContract(con)\n",
    "smrt_contract.load_compile_solidity()\n",
    "oil_contract = smrt_contract.build_oil_gas_contract()\n",
    "oil_contract\n",
    "\n",
    "# address = input(\"Enter Address:\")\n",
    "# p_key = input(\"Address Key:\")\n",
    "# chain_id = input(\"Enter Chain ID:\")\n",
    "\n",
    "reciept = smrt_contract.deploy_smart_contract(wallet_address, private_key, chainId, oil_contract)\n",
    "# reciept = smrt_contract.deploy_smart_contract(address, p_key, chain_id)\n",
    "reciept\n",
    "prompt = \"\"\"\n",
    "=======================================================================\n",
    "                TRANSACTION RECIEPT FOR CONTRACT DEPLOYMENT\n",
    "=======================================================================\n",
    "\"\"\"\n",
    "print(prompt)\n",
    "print(\"Contract Deploy Successfully Transaction Reciept {}\".format(reciept))"
   ]
  },
  {
   "cell_type": "code",
   "execution_count": null,
   "id": "b70aab7f-ec0c-452e-9d77-b057defa7349",
   "metadata": {
    "scrolled": true
   },
   "outputs": [],
   "source": []
  },
  {
   "cell_type": "code",
   "execution_count": 21,
   "id": "6f16bde9-6260-4916-9e51-06c05cb7767d",
   "metadata": {
    "scrolled": true
   },
   "outputs": [
    {
     "name": "stdin",
     "output_type": "stream",
     "text": [
      "Enter Entity Name: Shipping\n",
      "Enter the Barrel Value 24\n",
      "Enter Account Address: 0x865eD5591EbED9F689dAFC25fEe10BB16fBD9883\n"
     ]
    },
    {
     "name": "stdout",
     "output_type": "stream",
     "text": [
      "\n",
      "===============================================================\n",
      "                TRANSACTION RECIEPT FOR ENTITY CREATION\n",
      "===============================================================\n",
      "\n",
      "Entitty :shipping Created Successfully Transaction Reciept :AttributeDict({'blockHash': HexBytes('0x3560c6db7450e3c97a40851cc7181f6bcb20eccef68d257d069d7d83e3457a42'), 'blockNumber': 9988938, 'contractAddress': None, 'cumulativeGasUsed': 2827926, 'effectiveGasPrice': 12, 'from': '0x865eD5591EbED9F689dAFC25fEe10BB16fBD9883', 'gasUsed': 72973, 'logs': [AttributeDict({'address': '0x2F948197C38cd220CE805c2ECdC4bAd794502C6c', 'blockHash': HexBytes('0x3560c6db7450e3c97a40851cc7181f6bcb20eccef68d257d069d7d83e3457a42'), 'blockNumber': 9988938, 'data': HexBytes('0x000000000000000000000000000000000000000000000000000000000000002000000000000000000000000000000000000000000000000000000000000000087368697070696e67000000000000000000000000000000000000000000000000'), 'logIndex': 49, 'removed': False, 'topics': [HexBytes('0x30888466bd8fad834d69f9ebf05d3c6cba765e925b74f1a12a48749d59679ba6'), HexBytes('0x000000000000000000000000865ed5591ebed9f689dafc25fee10bb16fbd9883')], 'transactionHash': HexBytes('0x0ff79b509fe7e94e2343438d21b4966c4a13bbe2773bdbecf158b639ea4f38f1'), 'transactionIndex': 33})], 'logsBloom': HexBytes('0x00000000000000000000000000000000000000000000000000000080000000000000000000080000000000000000000000000000000000000000000000000000000000000000000000000000000000000000000000000000000000000000000000000000000000000000000000000000000000000000000000000000000000000000000000000000000000000000000000000000000000000000000000080000000000000000000000000000000000000000008000000000000000000000000008080000000000000200000000000000000000000000008000004000000000000000000000000000000000000000000000000000000000000000000000000000'), 'status': 1, 'to': '0x2F948197C38cd220CE805c2ECdC4bAd794502C6c', 'transactionHash': HexBytes('0x0ff79b509fe7e94e2343438d21b4966c4a13bbe2773bdbecf158b639ea4f38f1'), 'transactionIndex': 33, 'type': 0})\n"
     ]
    }
   ],
   "source": [
    "# CREATING TWO ENTITY ....... \n",
    "oil_obj = smrt_contract.contract_interaction_object()\n",
    "ent_name = str(input(\"Enter Entity Name:\")).lower()\n",
    "barrel_val = int(input(\"Enter the Barrel Value\"))\n",
    "walled_account = input(\"Enter Account Address:\")\n",
    "# responce = smrt_contract.createEntity(\"shiping\", 3, wallet_address)\n",
    "responce = smrt_contract.createEntity(ent_name, barrel_val, wallet_address)\n",
    "prompt = \"\"\"\n",
    "===============================================================\n",
    "                TRANSACTION RECIEPT FOR ENTITY CREATION\n",
    "===============================================================\n",
    "\"\"\"\n",
    "print(prompt)\n",
    "print(\"Entitty :{} Created Successfully Transaction Reciept :{}\".format(ent_name, responce))"
   ]
  },
  {
   "cell_type": "code",
   "execution_count": 22,
   "id": "087161ab-f7cd-4d88-b3b9-144d4614caa7",
   "metadata": {},
   "outputs": [
    {
     "name": "stdin",
     "output_type": "stream",
     "text": [
      "Enter Entity Name: Market\n",
      "Enter the Barrel Value 50\n",
      "Enter Account Address: 0x865eD5591EbED9F689dAFC25fEe10BB16fBD9883\n"
     ]
    },
    {
     "name": "stdout",
     "output_type": "stream",
     "text": [
      "\n",
      "===============================================================\n",
      "                TRANSACTION RECIEPT FOR OIL & GAS EXCHANGE\n",
      "===============================================================\n",
      "\n",
      "0x865eD5591EbED9F689dAFC25fEe10BB16fBD9883  sent 50 Barrel to 0x865eD5591EbED9F689dAFC25fEe10BB16fBD9883\n"
     ]
    }
   ],
   "source": [
    "ent_name = str(input(\"Enter Entity Name:\")).lower()\n",
    "barrel_val = int(input(\"Enter the Barrel Value\"))\n",
    "reciever_address = input(\"Enter Account Address:\")\n",
    "smrt_contract.transferBarrels(wallet_address, 2, wallet_address)\n",
    "\n",
    "prompt = \"\"\"\n",
    "===============================================================\n",
    "                TRANSACTION RECIEPT FOR OIL & GAS EXCHANGE\n",
    "===============================================================\n",
    "\"\"\"\n",
    "print(prompt)\n",
    "\n",
    "print(\"{}  sent {} Barrel to {}\".format(reciever_address, barrel_val , '0x865eD5591EbED9F689dAFC25fEe10BB16fBD9883'))"
   ]
  },
  {
   "cell_type": "code",
   "execution_count": 23,
   "id": "ee6fd7e9-1e23-4c78-b7ab-383001b927e4",
   "metadata": {},
   "outputs": [
    {
     "name": "stdin",
     "output_type": "stream",
     "text": [
      "Wallet Address: 0x865eD5591EbED9F689dAFC25fEe10BB16fBD9883\n"
     ]
    },
    {
     "name": "stdout",
     "output_type": "stream",
     "text": [
      "\n",
      "===============================================================\n",
      "                TRANSACTION HISTORY\n",
      "===============================================================\n",
      "\n",
      "['Sent 2 barrels to shipping', 'Received 2 barrels from shipping']\n"
     ]
    }
   ],
   "source": [
    "# CHECKING TRANSACTION HISTORY \n",
    "trx_history = input(\"Wallet Address:\")\n",
    "trx_hist = smrt_contract.transactionHistory(trx_history)\n",
    "\n",
    "prompt = \"\"\"\n",
    "===============================================================\n",
    "                TRANSACTION HISTORY\n",
    "===============================================================\n",
    "\"\"\"\n",
    "print(prompt)\n",
    "print(trx_hist)"
   ]
  }
 ],
 "metadata": {
  "kernelspec": {
   "display_name": "Python 3 (ipykernel)",
   "language": "python",
   "name": "python3"
  },
  "language_info": {
   "codemirror_mode": {
    "name": "ipython",
    "version": 3
   },
   "file_extension": ".py",
   "mimetype": "text/x-python",
   "name": "python",
   "nbconvert_exporter": "python",
   "pygments_lexer": "ipython3",
   "version": "3.9.5"
  }
 },
 "nbformat": 4,
 "nbformat_minor": 5
}
