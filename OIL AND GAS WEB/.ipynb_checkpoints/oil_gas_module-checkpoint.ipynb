{
 "cells": [
  {
   "cell_type": "code",
   "execution_count": 1,
   "id": "f95e9861-b55a-40b6-bd4c-7e8a70309672",
   "metadata": {},
   "outputs": [],
   "source": [
    "from web3 import Web3\n",
    "from web3 import EthereumTesterProvider\n",
    "import warnings\n",
    "\n",
    "warnings.filterwarnings('ignore')"
   ]
  },
  {
   "cell_type": "code",
   "execution_count": 2,
   "id": "2054f034-9122-4ea9-b463-4383ebce8fcd",
   "metadata": {},
   "outputs": [
    {
     "data": {
      "text/plain": [
       "web3.main.Web3"
      ]
     },
     "execution_count": 2,
     "metadata": {},
     "output_type": "execute_result"
    }
   ],
   "source": [
    "Web3"
   ]
  },
  {
   "cell_type": "code",
   "execution_count": 3,
   "id": "540d6f7c-ce74-44b0-acb5-40155af14734",
   "metadata": {},
   "outputs": [
    {
     "data": {
      "text/plain": [
       "web3.providers.eth_tester.main.EthereumTesterProvider"
      ]
     },
     "execution_count": 3,
     "metadata": {},
     "output_type": "execute_result"
    }
   ],
   "source": [
    "EthereumTesterProvider"
   ]
  },
  {
   "cell_type": "code",
   "execution_count": 4,
   "id": "bb248b62-aaa9-49bd-8564-25889119492c",
   "metadata": {},
   "outputs": [
    {
     "name": "stderr",
     "output_type": "stream",
     "text": [
      "c:\\users\\hp\\appdata\\local\\programs\\python\\python39\\lib\\site-packages\\eth_tester\\backends\\__init__.py:30: UserWarning: Ethereum Tester: No backend was explicitly set, and no *full* backends were available.  Falling back to the `MockBackend` which does not support all EVM functionality.  Please refer to the `eth-tester` documentation for information on what backends are available and how to set them.  Your py-evm package may need to be updated.\n",
      "  warnings.warn(\n"
     ]
    },
    {
     "data": {
      "text/plain": [
       "True"
      ]
     },
     "execution_count": 4,
     "metadata": {},
     "output_type": "execute_result"
    }
   ],
   "source": [
    "# creating a connection to the blockchain via a provider\n",
    "w3 = Web3(EthereumTesterProvider())\n",
    "w3.is_connected()"
   ]
  },
  {
   "cell_type": "code",
   "execution_count": 5,
   "id": "ad3fe683-a7b9-4283-8694-19c6662ed52a",
   "metadata": {},
   "outputs": [],
   "source": [
    "connection_url = 'https://goerli.infura.io/v3/e44ef8108a8542fcbb93940652bea43d'\n",
    "# wb3 = Web3(Web3.HTTPProvider(connection_url))\n",
    "# wb3.is_connected()"
   ]
  },
  {
   "cell_type": "code",
   "execution_count": 6,
   "id": "96496ba7-9499-44a4-9943-e2ca340f370a",
   "metadata": {},
   "outputs": [],
   "source": [
    "# creating a reusable  blockchain connection function\n",
    "from web3 import Web3\n",
    "from web3 import EthereumTesterProvider\n",
    "\n",
    "connection_url = 'https://goerli.infura.io/v3/e44ef8108a8542fcbb93940652bea43d'\n",
    "\n",
    "class Blockchain_Link: \n",
    "    \n",
    "    def __init__(self):\n",
    "        self.wb3 = None\n",
    "\n",
    "    def isConnected(self, w3): \n",
    "        if w3.is_connected(): \n",
    "            return  True, w3\n",
    "        else: \n",
    "            return False, \"\"\n",
    "    \n",
    "    # return status and connection object for tester network\n",
    "    def connectTestNetwork(self): \n",
    "        return self.isConnected(Web3(EthereumTesterProvider()))\n",
    "       \n",
    "\n",
    "    def connectBlockchainNetwork(self, url=\"\", is_remote=False): \n",
    "        \n",
    "        if is_remote:\n",
    "            print(\"========= Establishing connection To Remote Database =========\")\n",
    "            return self.isConnected(Web3(Web3.HTTPProvider(url))) \n",
    "        else:\n",
    "            print(\"========= Establishing connection To Local Database =========\")\n",
    "            return self.isConnected(Web3(Web3.HTTPProvider(url))) \n",
    "\n",
    "\n",
    "\n",
    "blink = Blockchain_Link()"
   ]
  },
  {
   "cell_type": "code",
   "execution_count": 7,
   "id": "fd0fe1b8-4122-4ad7-bd2a-d17d3e11ac43",
   "metadata": {},
   "outputs": [
    {
     "name": "stdout",
     "output_type": "stream",
     "text": [
      "========= Establishing connection To Remote Database =========\n",
      "STATUS :  True\n",
      "CONNECT :  <web3.main.Web3 object at 0x00000152DAE8E820>\n"
     ]
    }
   ],
   "source": [
    "status, con = blink.connectBlockchainNetwork(connection_url, is_remote=True)\n",
    "print('STATUS : ', status)\n",
    "print('CONNECT : ' , con)"
   ]
  },
  {
   "cell_type": "code",
   "execution_count": 8,
   "id": "6cac9019-1d40-4d0f-a849-61a4816e681a",
   "metadata": {
    "scrolled": true
   },
   "outputs": [
    {
     "data": {
      "text/plain": [
       "AttributeDict({'baseFeePerGas': 15,\n",
       " 'difficulty': 0,\n",
       " 'extraData': HexBytes('0xd883010c00846765746888676f312e32302e34856c696e7578'),\n",
       " 'gasLimit': 30000000,\n",
       " 'gasUsed': 6930860,\n",
       " 'hash': HexBytes('0x079d3ce0c8072de11fe62ea3f3a87b75bfdf20f49e4a4764d6aa0db7f2a57322'),\n",
       " 'logsBloom': HexBytes('0x016000464020160e801c0004808040c004000300084110200180668222440c0000069c01088120004052802000200000000008254a22b208270006005025300400008a001c0810082081120d022000a40001140041663401001020422000810002888110020289400540392010080a0b510204848868282800a88218e0880048800a0210141851403000088180001000090c14a088042a0800000840240080550a0c50001460201b41981018f00802504082020380484199008b180620180060001648220100000002029000d4049818244241ec1008981002120400440060006eb01681a024240004100000200180000401405900185205601148300e30424c'),\n",
       " 'miner': '0x4123c277dfcBdDDC3585fDb10c0cEE3cE9BBBCf1',\n",
       " 'mixHash': HexBytes('0x219e4d6d25d391cef1230e59f4a41c96471d17fee8a090f84149e4648d0ed4a2'),\n",
       " 'nonce': HexBytes('0x0000000000000000'),\n",
       " 'number': 9905472,\n",
       " 'parentHash': HexBytes('0xad2c538c79670e31e5c985b3a77a8701cbc6d25c6f9e82c07f16b731bfb68321'),\n",
       " 'receiptsRoot': HexBytes('0x1340aff0f46d8556e5647ffea335e5b3f36dd9dd301a07f43a4ecefd3998517e'),\n",
       " 'sha3Uncles': HexBytes('0x1dcc4de8dec75d7aab85b567b6ccd41ad312451b948a7413f0a142fd40d49347'),\n",
       " 'size': 48295,\n",
       " 'stateRoot': HexBytes('0x6307c89730f14f229db4c6a2ac93e9db20e1f7ae3032f0ad4ace99e674510b60'),\n",
       " 'timestamp': 1697887980,\n",
       " 'totalDifficulty': 10790000,\n",
       " 'transactions': [HexBytes('0xc534b83219f26625f0e526b2116a16e47636e3be4e1c9e0ff8f16c0a0af63717'),\n",
       "  HexBytes('0xcb43388553740c1baaaefdd3231dae48a6405c3a5166d1a4a1e7308e5ec27c05'),\n",
       "  HexBytes('0x6e99a5c1f8ec51a92827088c24d1c61212c5dbe016777f26efe0ded0e24ef38d'),\n",
       "  HexBytes('0x31d6272fc7b107c5fd087f6a4569f8a9c04687b1245f0d160a75b4a06514bd75'),\n",
       "  HexBytes('0x3b95cdd8f79515263c2baa350e007b881bc5de4ac25c9a9f77d71f6f3a9da614'),\n",
       "  HexBytes('0xeacc29cc7cf6f561a53c7b144bb25172e4c778e4a7a462191392bdf5f710d3cc'),\n",
       "  HexBytes('0x5bf5fb2d090c02dee58c8f5d37b5f12c18538274a31f2cde933d16319fe5ccec'),\n",
       "  HexBytes('0x4c1b8133da9e9a7700a8bd577d9d6cb6e3d83278e76258209a7198744ea27523'),\n",
       "  HexBytes('0x8d1daea84622a230cf8801ed171f0ab9d4fc9c66aa8f22a31a8788bf00e44e8e'),\n",
       "  HexBytes('0x66f18d8ce3ea97a94f139fd580348cca5b5899f8c9d282a8c0dd7bc247e66172'),\n",
       "  HexBytes('0xc0b7a306313a618e08e3d5272e98b3c3160e4f528bdfc22a1a071703590a5343'),\n",
       "  HexBytes('0x2462bfd0eead8b540960e819014778409ad372c3d399c396145314a82f3f5963'),\n",
       "  HexBytes('0xdda08fa02484073395d2f479d8344be28ff48be31458202dbe5ea9f6547f4f5b'),\n",
       "  HexBytes('0x7451cf7895d5f98769af50920a8e362f5b08bbf4f5dd31b497a3e45ce8db7a93'),\n",
       "  HexBytes('0x27fb5e1b3f222deb45fcca1ac90b38afdd2c79d7ef7b6325b48e6db66c8e111b'),\n",
       "  HexBytes('0xcd56332c8889d1f46b6ffd7a57834bf780fa82c10a71c4f0102c9e31b9ef3493'),\n",
       "  HexBytes('0xe0d3f19fc0800517decd14fe907654c4b67a83dfea04102b526ae4a9215a74b4'),\n",
       "  HexBytes('0xc22ed920b41d8c756f071adde24ce6ffaded452ef10545d1fac9346b783dc0d9'),\n",
       "  HexBytes('0xfbd2fcc3a01e9ba986ecb6ebbf31d6b67045c5bf14ae997ddc54bf9e2292d9df'),\n",
       "  HexBytes('0x200b5bddb17f205f080c093f45003ce6c0a8d897e3a1bfeaac0414746e0e7a63'),\n",
       "  HexBytes('0x7a0b95ce7b37adaa4989a438953a2c2f95bc5d254c07ab1617ed5ea0432f6e4c'),\n",
       "  HexBytes('0xef820088c90b0bd59b21c2d3e9528b886e54fead2200d83e6b1cff76c5a14e6e'),\n",
       "  HexBytes('0x8e01af5a4d3ad19d23eb520734f297d41bd370d1ddf8d0a9ad986a6c03f3e042'),\n",
       "  HexBytes('0x9e4719ead4a939d8bacd288209dcb444452006e9e92421d46806002bdfe2fbd6'),\n",
       "  HexBytes('0x87d28bed54b24b3cca94dfedc48a2e13131a997693750fd8798d258f8fc9b943'),\n",
       "  HexBytes('0x142455a56d154e9acb492f162c225b6571259eaaa99ba834f46e7f14c1919b6d'),\n",
       "  HexBytes('0xa8e5177db02b3cbdd662a44df22cabcc04450ef3b06bb5b254c656cee136441d'),\n",
       "  HexBytes('0xe2e2102d8198eca8f1c955f6ac668084ba19ab8d3847bc886b052abd920a5a27'),\n",
       "  HexBytes('0x126f9394d156a6550597d051a684105c726c4395bb7f7b3467c7c4274af09ba9'),\n",
       "  HexBytes('0xfb67a7170b7d7d4e8ccd4702474414d4b7eff0a48432119892786bcc7e000738'),\n",
       "  HexBytes('0xfddf6230c5f6b25c18f50a50121d3e9b6bfe8f4b6f3d7bc80287ab1d9488510d'),\n",
       "  HexBytes('0x81a4991c0a91ce4921745b020d678c573f24b68cd4d9a337429d4ca65785281d'),\n",
       "  HexBytes('0x6308333833fb7126d4310859b63be797b3b4eec0e1efab344906d4aad241ad04'),\n",
       "  HexBytes('0x413b6f874806f55ba2e819b8d4f08a65e8ed1734f8e8f112b02d40dcb0c0acbb'),\n",
       "  HexBytes('0x24685b9d65f67b65591ebb158a401d93286eb7cf2c4f5fca84e3048a59782fcf'),\n",
       "  HexBytes('0x69a75e90d25798bf1865cab7a217be6e903828b75001cde23d8a3c899ec4fdcc'),\n",
       "  HexBytes('0x01ede5e7b32ba5d908119eede30aa032b6e42f4f77f598805374ffc6645d9c70'),\n",
       "  HexBytes('0x849aea4dd37220875508b288c11b53eda79266c9455f1c7494ae5d82d38b89ef'),\n",
       "  HexBytes('0x619584e73bc0dfadf83c6176188627a0bc6adcd97cc1a3be2742c7dcbbe90c40'),\n",
       "  HexBytes('0x2d604fa57ca658b0619bd7296f5d74e516594328114f8678392f2d69a75f5e69'),\n",
       "  HexBytes('0xf48a49524bf5f53d402040ec00af4c97b63b9025d28d1af6e2ca47c23af41265'),\n",
       "  HexBytes('0xb10b2db6c3910b0eb7e0ff9aa68d511be3b85a53ef6c2d419217df0c1955d388'),\n",
       "  HexBytes('0x87d351ee944bd757b87cbd0b6ac221f1d1c5bdbc57bed56b5db3577039f947b9'),\n",
       "  HexBytes('0x1bb6e578f8bc13a3f7fbfceb801bc54968a82e0fbabdc6e09d8a14f1b4805577'),\n",
       "  HexBytes('0xe9987c71eea97bf4d77156e45d4aeb7f96c6d6b7e94ecbb7d3956dc02bb26de7'),\n",
       "  HexBytes('0x17991b2748058aa5b3cbf5359b2536b42bafad75321b089ce9c94178d5cc32e6'),\n",
       "  HexBytes('0x98451c739e97665d306f9e42bdf22726a5b56caf4296a9d2ceb037942933fcca'),\n",
       "  HexBytes('0x377f6d802bb7c7ceb020a1e21b2d0b1ad62321749b7eae3f40f90f1ccd94b9c3'),\n",
       "  HexBytes('0x0a7a975f9986e4cdebb26044ac6a36aca8df8ff43abaa5ac3ae9533bbde612b0'),\n",
       "  HexBytes('0x10b15f84c70a23a2647c526ba4dd0c1068d5b3830c371ccb66e98cc5eaa28603'),\n",
       "  HexBytes('0x1741bb4894be8e042f4d4ec4ee7d3a5511c27cae24e6fde2fdf9a44f129b4dcc'),\n",
       "  HexBytes('0x2ae427f92273fc2277902a1c9a39cbb7b2718f7e91df21df5ef8abb96639e339'),\n",
       "  HexBytes('0x9f5b9f8c36c54f530c1a7937a24b303faf54e3eb708bb8d77635d21a725924b1'),\n",
       "  HexBytes('0xef201579862d5c72a7c5495a691832b72a4b3adb9eb58df64ba64aef5183b6ed'),\n",
       "  HexBytes('0xc1bf934f96cdaea2bd3201b692572af014e9b6aa81ec81848f9486b68987d18e')],\n",
       " 'transactionsRoot': HexBytes('0x7f6f23214cba839754f0545cf7c8963cabf1cfdc27720b2e9d61f7a5a9a288a2'),\n",
       " 'uncles': [],\n",
       " 'withdrawals': [AttributeDict({'address': '0x8f0844fd51e31ff6bf5babe21dccf7328e19fd9f',\n",
       "   'amount': '0x32e03e',\n",
       "   'index': '0x1307fe5',\n",
       "   'validatorIndex': '0x3a327'}),\n",
       "  AttributeDict({'address': '0x8f0844fd51e31ff6bf5babe21dccf7328e19fd9f',\n",
       "   'amount': '0x322fa0',\n",
       "   'index': '0x1307fe6',\n",
       "   'validatorIndex': '0x3a328'}),\n",
       "  AttributeDict({'address': '0x8f0844fd51e31ff6bf5babe21dccf7328e19fd9f',\n",
       "   'amount': '0x324e84',\n",
       "   'index': '0x1307fe7',\n",
       "   'validatorIndex': '0x3a329'}),\n",
       "  AttributeDict({'address': '0x8f0844fd51e31ff6bf5babe21dccf7328e19fd9f',\n",
       "   'amount': '0x32fdc2',\n",
       "   'index': '0x1307fe8',\n",
       "   'validatorIndex': '0x3a32a'}),\n",
       "  AttributeDict({'address': '0x8f0844fd51e31ff6bf5babe21dccf7328e19fd9f',\n",
       "   'amount': '0x314368',\n",
       "   'index': '0x1307fe9',\n",
       "   'validatorIndex': '0x3a32b'}),\n",
       "  AttributeDict({'address': '0x8f0844fd51e31ff6bf5babe21dccf7328e19fd9f',\n",
       "   'amount': '0x31ce2d',\n",
       "   'index': '0x1307fea',\n",
       "   'validatorIndex': '0x3a32c'}),\n",
       "  AttributeDict({'address': '0x8f0844fd51e31ff6bf5babe21dccf7328e19fd9f',\n",
       "   'amount': '0x325120',\n",
       "   'index': '0x1307feb',\n",
       "   'validatorIndex': '0x3a32d'}),\n",
       "  AttributeDict({'address': '0x8f0844fd51e31ff6bf5babe21dccf7328e19fd9f',\n",
       "   'amount': '0x3229cf',\n",
       "   'index': '0x1307fec',\n",
       "   'validatorIndex': '0x3a32e'}),\n",
       "  AttributeDict({'address': '0x8f0844fd51e31ff6bf5babe21dccf7328e19fd9f',\n",
       "   'amount': '0x31a22f',\n",
       "   'index': '0x1307fed',\n",
       "   'validatorIndex': '0x3a32f'}),\n",
       "  AttributeDict({'address': '0x8f0844fd51e31ff6bf5babe21dccf7328e19fd9f',\n",
       "   'amount': '0x33303b',\n",
       "   'index': '0x1307fee',\n",
       "   'validatorIndex': '0x3a330'}),\n",
       "  AttributeDict({'address': '0x8f0844fd51e31ff6bf5babe21dccf7328e19fd9f',\n",
       "   'amount': '0x3359ce',\n",
       "   'index': '0x1307fef',\n",
       "   'validatorIndex': '0x3a331'}),\n",
       "  AttributeDict({'address': '0x8f0844fd51e31ff6bf5babe21dccf7328e19fd9f',\n",
       "   'amount': '0x31fb1a',\n",
       "   'index': '0x1307ff0',\n",
       "   'validatorIndex': '0x3a332'}),\n",
       "  AttributeDict({'address': '0x8f0844fd51e31ff6bf5babe21dccf7328e19fd9f',\n",
       "   'amount': '0x32a177',\n",
       "   'index': '0x1307ff1',\n",
       "   'validatorIndex': '0x3a333'}),\n",
       "  AttributeDict({'address': '0x8f0844fd51e31ff6bf5babe21dccf7328e19fd9f',\n",
       "   'amount': '0x31d660',\n",
       "   'index': '0x1307ff2',\n",
       "   'validatorIndex': '0x3a334'}),\n",
       "  AttributeDict({'address': '0x8f0844fd51e31ff6bf5babe21dccf7328e19fd9f',\n",
       "   'amount': '0x335ad9',\n",
       "   'index': '0x1307ff3',\n",
       "   'validatorIndex': '0x3a335'}),\n",
       "  AttributeDict({'address': '0x8f0844fd51e31ff6bf5babe21dccf7328e19fd9f',\n",
       "   'amount': '0x324bd7',\n",
       "   'index': '0x1307ff4',\n",
       "   'validatorIndex': '0x3a336'})],\n",
       " 'withdrawalsRoot': '0x81c44406718fc9f1cc3c05baab63458bc6749080f2b6cd19b2a72497f92f63c7'})"
      ]
     },
     "execution_count": 8,
     "metadata": {},
     "output_type": "execute_result"
    }
   ],
   "source": [
    "latest_block = con.eth.get_block('latest')\n",
    "latest_block"
   ]
  },
  {
   "cell_type": "code",
   "execution_count": 9,
   "id": "b150485d-37fd-4e73-af46-c7588fd9f140",
   "metadata": {
    "scrolled": true
   },
   "outputs": [
    {
     "data": {
      "text/plain": [
       "[HexBytes('0xc534b83219f26625f0e526b2116a16e47636e3be4e1c9e0ff8f16c0a0af63717'),\n",
       " HexBytes('0xcb43388553740c1baaaefdd3231dae48a6405c3a5166d1a4a1e7308e5ec27c05'),\n",
       " HexBytes('0x6e99a5c1f8ec51a92827088c24d1c61212c5dbe016777f26efe0ded0e24ef38d'),\n",
       " HexBytes('0x31d6272fc7b107c5fd087f6a4569f8a9c04687b1245f0d160a75b4a06514bd75'),\n",
       " HexBytes('0x3b95cdd8f79515263c2baa350e007b881bc5de4ac25c9a9f77d71f6f3a9da614'),\n",
       " HexBytes('0xeacc29cc7cf6f561a53c7b144bb25172e4c778e4a7a462191392bdf5f710d3cc'),\n",
       " HexBytes('0x5bf5fb2d090c02dee58c8f5d37b5f12c18538274a31f2cde933d16319fe5ccec'),\n",
       " HexBytes('0x4c1b8133da9e9a7700a8bd577d9d6cb6e3d83278e76258209a7198744ea27523'),\n",
       " HexBytes('0x8d1daea84622a230cf8801ed171f0ab9d4fc9c66aa8f22a31a8788bf00e44e8e'),\n",
       " HexBytes('0x66f18d8ce3ea97a94f139fd580348cca5b5899f8c9d282a8c0dd7bc247e66172'),\n",
       " HexBytes('0xc0b7a306313a618e08e3d5272e98b3c3160e4f528bdfc22a1a071703590a5343'),\n",
       " HexBytes('0x2462bfd0eead8b540960e819014778409ad372c3d399c396145314a82f3f5963'),\n",
       " HexBytes('0xdda08fa02484073395d2f479d8344be28ff48be31458202dbe5ea9f6547f4f5b'),\n",
       " HexBytes('0x7451cf7895d5f98769af50920a8e362f5b08bbf4f5dd31b497a3e45ce8db7a93'),\n",
       " HexBytes('0x27fb5e1b3f222deb45fcca1ac90b38afdd2c79d7ef7b6325b48e6db66c8e111b'),\n",
       " HexBytes('0xcd56332c8889d1f46b6ffd7a57834bf780fa82c10a71c4f0102c9e31b9ef3493'),\n",
       " HexBytes('0xe0d3f19fc0800517decd14fe907654c4b67a83dfea04102b526ae4a9215a74b4'),\n",
       " HexBytes('0xc22ed920b41d8c756f071adde24ce6ffaded452ef10545d1fac9346b783dc0d9'),\n",
       " HexBytes('0xfbd2fcc3a01e9ba986ecb6ebbf31d6b67045c5bf14ae997ddc54bf9e2292d9df'),\n",
       " HexBytes('0x200b5bddb17f205f080c093f45003ce6c0a8d897e3a1bfeaac0414746e0e7a63'),\n",
       " HexBytes('0x7a0b95ce7b37adaa4989a438953a2c2f95bc5d254c07ab1617ed5ea0432f6e4c'),\n",
       " HexBytes('0xef820088c90b0bd59b21c2d3e9528b886e54fead2200d83e6b1cff76c5a14e6e'),\n",
       " HexBytes('0x8e01af5a4d3ad19d23eb520734f297d41bd370d1ddf8d0a9ad986a6c03f3e042'),\n",
       " HexBytes('0x9e4719ead4a939d8bacd288209dcb444452006e9e92421d46806002bdfe2fbd6'),\n",
       " HexBytes('0x87d28bed54b24b3cca94dfedc48a2e13131a997693750fd8798d258f8fc9b943'),\n",
       " HexBytes('0x142455a56d154e9acb492f162c225b6571259eaaa99ba834f46e7f14c1919b6d'),\n",
       " HexBytes('0xa8e5177db02b3cbdd662a44df22cabcc04450ef3b06bb5b254c656cee136441d'),\n",
       " HexBytes('0xe2e2102d8198eca8f1c955f6ac668084ba19ab8d3847bc886b052abd920a5a27'),\n",
       " HexBytes('0x126f9394d156a6550597d051a684105c726c4395bb7f7b3467c7c4274af09ba9'),\n",
       " HexBytes('0xfb67a7170b7d7d4e8ccd4702474414d4b7eff0a48432119892786bcc7e000738'),\n",
       " HexBytes('0xfddf6230c5f6b25c18f50a50121d3e9b6bfe8f4b6f3d7bc80287ab1d9488510d'),\n",
       " HexBytes('0x81a4991c0a91ce4921745b020d678c573f24b68cd4d9a337429d4ca65785281d'),\n",
       " HexBytes('0x6308333833fb7126d4310859b63be797b3b4eec0e1efab344906d4aad241ad04'),\n",
       " HexBytes('0x413b6f874806f55ba2e819b8d4f08a65e8ed1734f8e8f112b02d40dcb0c0acbb'),\n",
       " HexBytes('0x24685b9d65f67b65591ebb158a401d93286eb7cf2c4f5fca84e3048a59782fcf'),\n",
       " HexBytes('0x69a75e90d25798bf1865cab7a217be6e903828b75001cde23d8a3c899ec4fdcc'),\n",
       " HexBytes('0x01ede5e7b32ba5d908119eede30aa032b6e42f4f77f598805374ffc6645d9c70'),\n",
       " HexBytes('0x849aea4dd37220875508b288c11b53eda79266c9455f1c7494ae5d82d38b89ef'),\n",
       " HexBytes('0x619584e73bc0dfadf83c6176188627a0bc6adcd97cc1a3be2742c7dcbbe90c40'),\n",
       " HexBytes('0x2d604fa57ca658b0619bd7296f5d74e516594328114f8678392f2d69a75f5e69'),\n",
       " HexBytes('0xf48a49524bf5f53d402040ec00af4c97b63b9025d28d1af6e2ca47c23af41265'),\n",
       " HexBytes('0xb10b2db6c3910b0eb7e0ff9aa68d511be3b85a53ef6c2d419217df0c1955d388'),\n",
       " HexBytes('0x87d351ee944bd757b87cbd0b6ac221f1d1c5bdbc57bed56b5db3577039f947b9'),\n",
       " HexBytes('0x1bb6e578f8bc13a3f7fbfceb801bc54968a82e0fbabdc6e09d8a14f1b4805577'),\n",
       " HexBytes('0xe9987c71eea97bf4d77156e45d4aeb7f96c6d6b7e94ecbb7d3956dc02bb26de7'),\n",
       " HexBytes('0x17991b2748058aa5b3cbf5359b2536b42bafad75321b089ce9c94178d5cc32e6'),\n",
       " HexBytes('0x98451c739e97665d306f9e42bdf22726a5b56caf4296a9d2ceb037942933fcca'),\n",
       " HexBytes('0x377f6d802bb7c7ceb020a1e21b2d0b1ad62321749b7eae3f40f90f1ccd94b9c3'),\n",
       " HexBytes('0x0a7a975f9986e4cdebb26044ac6a36aca8df8ff43abaa5ac3ae9533bbde612b0'),\n",
       " HexBytes('0x10b15f84c70a23a2647c526ba4dd0c1068d5b3830c371ccb66e98cc5eaa28603'),\n",
       " HexBytes('0x1741bb4894be8e042f4d4ec4ee7d3a5511c27cae24e6fde2fdf9a44f129b4dcc'),\n",
       " HexBytes('0x2ae427f92273fc2277902a1c9a39cbb7b2718f7e91df21df5ef8abb96639e339'),\n",
       " HexBytes('0x9f5b9f8c36c54f530c1a7937a24b303faf54e3eb708bb8d77635d21a725924b1'),\n",
       " HexBytes('0xef201579862d5c72a7c5495a691832b72a4b3adb9eb58df64ba64aef5183b6ed'),\n",
       " HexBytes('0xc1bf934f96cdaea2bd3201b692572af014e9b6aa81ec81848f9486b68987d18e')]"
      ]
     },
     "execution_count": 9,
     "metadata": {},
     "output_type": "execute_result"
    }
   ],
   "source": [
    "latest_block['transactions']"
   ]
  },
  {
   "cell_type": "code",
   "execution_count": 10,
   "id": "adb94347-ccc2-48dd-b9c5-05cdd0fde00b",
   "metadata": {},
   "outputs": [],
   "source": [
    "# checking if the supply address is valid\n",
    "# con.is_address()"
   ]
  },
  {
   "cell_type": "code",
   "execution_count": null,
   "id": "dc42d1ec-b7a5-4984-8f32-76af9e8cdab9",
   "metadata": {},
   "outputs": [],
   "source": []
  },
  {
   "cell_type": "markdown",
   "id": "29593e3b-9434-4ef7-8bf4-22eecd08bbae",
   "metadata": {},
   "source": [
    "##### Compilling And Runing Smart Contract"
   ]
  },
  {
   "cell_type": "code",
   "execution_count": 11,
   "id": "5be4e34a-aaf0-4426-824a-80be40e69d82",
   "metadata": {},
   "outputs": [],
   "source": [
    "from web3 import Web3\n",
    "from web3 import EthereumTesterProvider\n",
    "from solcx import compile_source"
   ]
  },
  {
   "cell_type": "code",
   "execution_count": 12,
   "id": "417ac4a4-9e97-43f2-811a-650b80055cec",
   "metadata": {},
   "outputs": [],
   "source": [
    "compiled_sol = compile_source(\n",
    "    '''\n",
    "    // SPDX-License-Identifier: MIT\n",
    "pragma solidity ^0.8.0;\n",
    "\n",
    "contract SupplyChain {\n",
    "    // Define the entity struct\n",
    "    struct Entity {\n",
    "        string name;\n",
    "        uint256 barrelValue;\n",
    "        string[] transactionHistory;\n",
    "    }\n",
    "\n",
    "    // Mapping to store entities with their Ethereum addresses\n",
    "    mapping(address => Entity) public entities;\n",
    "\n",
    "    // Events to log transactions\n",
    "    event EntityCreated(address indexed entityAddress, string name);\n",
    "    event EntityTransacted(address indexed fromEntity, address indexed toEntity, uint256 amount);\n",
    "\n",
    "    // Function to create a new entity\n",
    "    function createEntity(string memory name, uint256 barrelValue) public {\n",
    "        require(bytes(name).length > 0, \"Entity name cannot be empty\");\n",
    "        require(entities[msg.sender].barrelValue == 0, \"Entity already exists\");\n",
    "        entities[msg.sender] = Entity(name, barrelValue, new string[](0));\n",
    "        emit EntityCreated(msg.sender, name);\n",
    "    }\n",
    "\n",
    "    // Function to transfer barrels from one entity to another\n",
    "    function transferBarrels(address to, uint256 amount) public {\n",
    "        Entity storage sender = entities[msg.sender];\n",
    "        Entity storage receiver = entities[to];\n",
    "\n",
    "        require(sender.barrelValue >= amount, \"Insufficient barrels to transfer\");\n",
    "        require(bytes(sender.name).length > 0, \"Sender entity does not exist\");\n",
    "        require(bytes(receiver.name).length > 0, \"Receiver entity does not exist\");\n",
    "\n",
    "        sender.barrelValue -= amount;\n",
    "        receiver.barrelValue += amount;\n",
    "\n",
    "        // Log the transaction\n",
    "       sender.transactionHistory.push(string(abi.encodePacked(\"Sent \", toString(amount), \" barrels to \", receiver.name)));\n",
    "       receiver.transactionHistory.push(string(abi.encodePacked(\"Received \", toString(amount), \" barrels from \", sender.name)));\n",
    "       emit EntityTransacted(msg.sender, to, amount);\n",
    "    }\n",
    "\n",
    "    // Function to get the transaction history for an entity\n",
    "    function getTransactionHistory() public view returns (string[] memory) {\n",
    "        return entities[msg.sender].transactionHistory;\n",
    "    }\n",
    "\n",
    "    // Helper function to convert uint256 to string\n",
    "    function toString(uint256 value) internal pure returns (string memory) {\n",
    "        if (value == 0) {\n",
    "            return \"0\";\n",
    "        }\n",
    "\n",
    "        uint256 temp = value;\n",
    "        uint256 digits;\n",
    "        while (temp != 0) {\n",
    "            digits++;\n",
    "            temp /= 10;\n",
    "        }\n",
    "        \n",
    "        bytes memory buffer = new bytes(digits);\n",
    "        for (uint256 i = 0; i < digits; i++) {\n",
    "            buffer[digits - 1 - i] = bytes1(uint8(48 + uint256(value / (10**i)) % 10));\n",
    "        }\n",
    "        return string(buffer);\n",
    "    }\n",
    "}\n",
    "\n",
    "    ''', output_values=['abi', 'bin'] )"
   ]
  },
  {
   "cell_type": "code",
   "execution_count": 13,
   "id": "9092420d-b10a-4799-a405-58baf611fc8c",
   "metadata": {
    "scrolled": true
   },
   "outputs": [
    {
     "data": {
      "text/plain": [
       "{'<stdin>:SupplyChain': {'abi': [{'anonymous': False,\n",
       "    'inputs': [{'indexed': True,\n",
       "      'internalType': 'address',\n",
       "      'name': 'entityAddress',\n",
       "      'type': 'address'},\n",
       "     {'indexed': False,\n",
       "      'internalType': 'string',\n",
       "      'name': 'name',\n",
       "      'type': 'string'}],\n",
       "    'name': 'EntityCreated',\n",
       "    'type': 'event'},\n",
       "   {'anonymous': False,\n",
       "    'inputs': [{'indexed': True,\n",
       "      'internalType': 'address',\n",
       "      'name': 'fromEntity',\n",
       "      'type': 'address'},\n",
       "     {'indexed': True,\n",
       "      'internalType': 'address',\n",
       "      'name': 'toEntity',\n",
       "      'type': 'address'},\n",
       "     {'indexed': False,\n",
       "      'internalType': 'uint256',\n",
       "      'name': 'amount',\n",
       "      'type': 'uint256'}],\n",
       "    'name': 'EntityTransacted',\n",
       "    'type': 'event'},\n",
       "   {'inputs': [{'internalType': 'string', 'name': 'name', 'type': 'string'},\n",
       "     {'internalType': 'uint256', 'name': 'barrelValue', 'type': 'uint256'}],\n",
       "    'name': 'createEntity',\n",
       "    'outputs': [],\n",
       "    'stateMutability': 'nonpayable',\n",
       "    'type': 'function'},\n",
       "   {'inputs': [{'internalType': 'address', 'name': '', 'type': 'address'}],\n",
       "    'name': 'entities',\n",
       "    'outputs': [{'internalType': 'string', 'name': 'name', 'type': 'string'},\n",
       "     {'internalType': 'uint256', 'name': 'barrelValue', 'type': 'uint256'}],\n",
       "    'stateMutability': 'view',\n",
       "    'type': 'function'},\n",
       "   {'inputs': [],\n",
       "    'name': 'getTransactionHistory',\n",
       "    'outputs': [{'internalType': 'string[]', 'name': '', 'type': 'string[]'}],\n",
       "    'stateMutability': 'view',\n",
       "    'type': 'function'},\n",
       "   {'inputs': [{'internalType': 'address', 'name': 'to', 'type': 'address'},\n",
       "     {'internalType': 'uint256', 'name': 'amount', 'type': 'uint256'}],\n",
       "    'name': 'transferBarrels',\n",
       "    'outputs': [],\n",
       "    'stateMutability': 'nonpayable',\n",
       "    'type': 'function'}],\n",
       "  'bin': '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'}}"
      ]
     },
     "execution_count": 13,
     "metadata": {},
     "output_type": "execute_result"
    }
   ],
   "source": [
    "compiled_sol"
   ]
  },
  {
   "cell_type": "code",
   "execution_count": 14,
   "id": "fe383bfc-b1c1-4e8f-9a6c-82e2e062d599",
   "metadata": {
    "scrolled": true
   },
   "outputs": [
    {
     "name": "stdout",
     "output_type": "stream",
     "text": [
      "<stdin>:SupplyChain\n",
      "{'abi': [{'anonymous': False, 'inputs': [{'indexed': True, 'internalType': 'address', 'name': 'entityAddress', 'type': 'address'}, {'indexed': False, 'internalType': 'string', 'name': 'name', 'type': 'string'}], 'name': 'EntityCreated', 'type': 'event'}, {'anonymous': False, 'inputs': [{'indexed': True, 'internalType': 'address', 'name': 'fromEntity', 'type': 'address'}, {'indexed': True, 'internalType': 'address', 'name': 'toEntity', 'type': 'address'}, {'indexed': False, 'internalType': 'uint256', 'name': 'amount', 'type': 'uint256'}], 'name': 'EntityTransacted', 'type': 'event'}, {'inputs': [{'internalType': 'string', 'name': 'name', 'type': 'string'}, {'internalType': 'uint256', 'name': 'barrelValue', 'type': 'uint256'}], 'name': 'createEntity', 'outputs': [], 'stateMutability': 'nonpayable', 'type': 'function'}, {'inputs': [{'internalType': 'address', 'name': '', 'type': 'address'}], 'name': 'entities', 'outputs': [{'internalType': 'string', 'name': 'name', 'type': 'string'}, {'internalType': 'uint256', 'name': 'barrelValue', 'type': 'uint256'}], 'stateMutability': 'view', 'type': 'function'}, {'inputs': [], 'name': 'getTransactionHistory', 'outputs': [{'internalType': 'string[]', 'name': '', 'type': 'string[]'}], 'stateMutability': 'view', 'type': 'function'}, {'inputs': [{'internalType': 'address', 'name': 'to', 'type': 'address'}, {'internalType': 'uint256', 'name': 'amount', 'type': 'uint256'}], 'name': 'transferBarrels', 'outputs': [], 'stateMutability': 'nonpayable', 'type': 'function'}], 'bin': '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'}\n"
     ]
    }
   ],
   "source": [
    "cont_id , contract_interface = compiled_sol.popitem()\n",
    "print(cont_id)\n",
    "print(contract_interface)"
   ]
  },
  {
   "cell_type": "code",
   "execution_count": 15,
   "id": "17bc79f7-249d-40ac-bf29-e36c65947175",
   "metadata": {},
   "outputs": [
    {
     "data": {
      "text/plain": [
       "dict_keys(['abi', 'bin'])"
      ]
     },
     "execution_count": 15,
     "metadata": {},
     "output_type": "execute_result"
    }
   ],
   "source": [
    "contract_interface.keys()"
   ]
  },
  {
   "cell_type": "code",
   "execution_count": 16,
   "id": "2fb3f6bf-147e-4aef-bffa-b68b5e9a2f0f",
   "metadata": {
    "scrolled": true
   },
   "outputs": [
    {
     "data": {
      "text/plain": [
       "[{'anonymous': False,\n",
       "  'inputs': [{'indexed': True,\n",
       "    'internalType': 'address',\n",
       "    'name': 'entityAddress',\n",
       "    'type': 'address'},\n",
       "   {'indexed': False,\n",
       "    'internalType': 'string',\n",
       "    'name': 'name',\n",
       "    'type': 'string'}],\n",
       "  'name': 'EntityCreated',\n",
       "  'type': 'event'},\n",
       " {'anonymous': False,\n",
       "  'inputs': [{'indexed': True,\n",
       "    'internalType': 'address',\n",
       "    'name': 'fromEntity',\n",
       "    'type': 'address'},\n",
       "   {'indexed': True,\n",
       "    'internalType': 'address',\n",
       "    'name': 'toEntity',\n",
       "    'type': 'address'},\n",
       "   {'indexed': False,\n",
       "    'internalType': 'uint256',\n",
       "    'name': 'amount',\n",
       "    'type': 'uint256'}],\n",
       "  'name': 'EntityTransacted',\n",
       "  'type': 'event'},\n",
       " {'inputs': [{'internalType': 'string', 'name': 'name', 'type': 'string'},\n",
       "   {'internalType': 'uint256', 'name': 'barrelValue', 'type': 'uint256'}],\n",
       "  'name': 'createEntity',\n",
       "  'outputs': [],\n",
       "  'stateMutability': 'nonpayable',\n",
       "  'type': 'function'},\n",
       " {'inputs': [{'internalType': 'address', 'name': '', 'type': 'address'}],\n",
       "  'name': 'entities',\n",
       "  'outputs': [{'internalType': 'string', 'name': 'name', 'type': 'string'},\n",
       "   {'internalType': 'uint256', 'name': 'barrelValue', 'type': 'uint256'}],\n",
       "  'stateMutability': 'view',\n",
       "  'type': 'function'},\n",
       " {'inputs': [],\n",
       "  'name': 'getTransactionHistory',\n",
       "  'outputs': [{'internalType': 'string[]', 'name': '', 'type': 'string[]'}],\n",
       "  'stateMutability': 'view',\n",
       "  'type': 'function'},\n",
       " {'inputs': [{'internalType': 'address', 'name': 'to', 'type': 'address'},\n",
       "   {'internalType': 'uint256', 'name': 'amount', 'type': 'uint256'}],\n",
       "  'name': 'transferBarrels',\n",
       "  'outputs': [],\n",
       "  'stateMutability': 'nonpayable',\n",
       "  'type': 'function'}]"
      ]
     },
     "execution_count": 16,
     "metadata": {},
     "output_type": "execute_result"
    }
   ],
   "source": [
    "abi_code = contract_interface['abi']\n",
    "byte_code = contract_interface['bin']\n",
    "abi_code"
   ]
  },
  {
   "cell_type": "code",
   "execution_count": 17,
   "id": "020e726e-2b80-40ef-bd8a-598c9e511068",
   "metadata": {},
   "outputs": [
    {
     "name": "stderr",
     "output_type": "stream",
     "text": [
      "c:\\users\\hp\\appdata\\local\\programs\\python\\python39\\lib\\site-packages\\eth_tester\\backends\\__init__.py:30: UserWarning: Ethereum Tester: No backend was explicitly set, and no *full* backends were available.  Falling back to the `MockBackend` which does not support all EVM functionality.  Please refer to the `eth-tester` documentation for information on what backends are available and how to set them.  Your py-evm package may need to be updated.\n",
      "  warnings.warn(\n"
     ]
    },
    {
     "data": {
      "text/plain": [
       "<web3.main.Web3 at 0x152dae88070>"
      ]
     },
     "execution_count": 17,
     "metadata": {},
     "output_type": "execute_result"
    }
   ],
   "source": [
    "_ , con = blink.connectTestNetwork()\n",
    "con"
   ]
  },
  {
   "cell_type": "code",
   "execution_count": 18,
   "id": "30b3717a-fcc5-4812-870e-ada312b4a083",
   "metadata": {},
   "outputs": [
    {
     "data": {
      "text/plain": [
       "'0xaBbACadABa000000000000000000000000000000'"
      ]
     },
     "execution_count": 18,
     "metadata": {},
     "output_type": "execute_result"
    }
   ],
   "source": [
    "con.eth.default_account = con.eth.accounts[0]\n",
    "con.eth.default_account"
   ]
  },
  {
   "cell_type": "code",
   "execution_count": 19,
   "id": "3785483e-67e3-4a8a-b95b-5bef9fa3d64a",
   "metadata": {},
   "outputs": [
    {
     "name": "stdout",
     "output_type": "stream",
     "text": [
      "<class 'web3._utils.datatypes.Contract'>\n"
     ]
    }
   ],
   "source": [
    "oil_contract = con.eth.contract(abi=abi_code, bytecode=byte_code)\n",
    "print(oil_contract)"
   ]
  },
  {
   "cell_type": "code",
   "execution_count": 20,
   "id": "ee1aa75c-ca37-4619-91dd-a3edea7f5e27",
   "metadata": {
    "scrolled": true
   },
   "outputs": [
    {
     "data": {
      "text/plain": [
       "'0xaBbACadABa000000000000000000000000000000'"
      ]
     },
     "execution_count": 20,
     "metadata": {},
     "output_type": "execute_result"
    }
   ],
   "source": [
    "admin_acc = con.eth.default_account\n",
    "# oil_contract.constructor().estimate_gas({'from':admin_acc, 'to':''})\n",
    "admin_acc"
   ]
  },
  {
   "cell_type": "markdown",
   "id": "4cb9a7a0-a3eb-46bb-a85a-46463bc7e648",
   "metadata": {},
   "source": [
    "##### Compilling And Ussing standard compilation"
   ]
  },
  {
   "cell_type": "code",
   "execution_count": 21,
   "id": "5638a234-da08-4c9e-ac96-41df4f9380a3",
   "metadata": {},
   "outputs": [],
   "source": [
    "from solcx import compile_standard\n",
    "import json"
   ]
  },
  {
   "cell_type": "code",
   "execution_count": 22,
   "id": "3c54634d-cfd5-4613-9242-6dd28beea765",
   "metadata": {
    "scrolled": true
   },
   "outputs": [
    {
     "name": "stdout",
     "output_type": "stream",
     "text": [
      "// SPDX-License-Identifier: MIT\n",
      "pragma solidity ^0.8.0;\n",
      "\n",
      "contract SupplyChain {\n",
      "    // Define the entity struct\n",
      "    struct Entity {\n",
      "        string name;\n",
      "        uint256 barrelValue;\n",
      "        string[] transactionHistory;\n",
      "    }\n",
      "\n",
      "    // Mapping to store entities with their Ethereum addresses\n",
      "    mapping(address => Entity) public entities;\n",
      "\n",
      "    // Events to log transactions\n",
      "    event EntityCreated(address indexed entityAddress, string name);\n",
      "    event EntityTransacted(address indexed fromEntity, address indexed toEntity, uint256 amount);\n",
      "\n",
      "    // Function to create a new entity\n",
      "    function createEntity(string memory name, uint256 barrelValue) public {\n",
      "        require(bytes(name).length > 0, \"Entity name cannot be empty\");\n",
      "        require(entities[msg.sender].barrelValue == 0, \"Entity already exists\");\n",
      "        entities[msg.sender] = Entity(name, barrelValue, new string[](0));\n",
      "        emit EntityCreated(msg.sender, name);\n",
      "    }\n",
      "\n",
      "    // Function to transfer barrels from one entity to another\n",
      "    function transferBarrels(address to, uint256 amount) public {\n",
      "        Entity storage sender = entities[msg.sender];\n",
      "        Entity storage receiver = entities[to];\n",
      "\n",
      "        require(sender.barrelValue >= amount, \"Insufficient barrels to transfer\");\n",
      "        require(bytes(sender.name).length > 0, \"Sender entity does not exist\");\n",
      "        require(bytes(receiver.name).length > 0, \"Receiver entity does not exist\");\n",
      "\n",
      "        sender.barrelValue -= amount;\n",
      "        receiver.barrelValue += amount;\n",
      "\n",
      "        // Log the transaction\n",
      "       sender.transactionHistory.push(string(abi.encodePacked(\"Sent \", toString(amount), \" barrels to \", receiver.name)));\n",
      "       receiver.transactionHistory.push(string(abi.encodePacked(\"Received \", toString(amount), \" barrels from \", sender.name)));\n",
      "       emit EntityTransacted(msg.sender, to, amount);\n",
      "    }\n",
      "\n",
      "    // Function to get the transaction history for an entity\n",
      "    function getTransactionHistory() public view returns (string[] memory) {\n",
      "        return entities[msg.sender].transactionHistory;\n",
      "    }\n",
      "\n",
      "    // Helper function to convert uint256 to string\n",
      "    function toString(uint256 value) internal pure returns (string memory) {\n",
      "        if (value == 0) {\n",
      "            return \"0\";\n",
      "        }\n",
      "\n",
      "        uint256 temp = value;\n",
      "        uint256 digits;\n",
      "        while (temp != 0) {\n",
      "            digits++;\n",
      "            temp /= 10;\n",
      "        }\n",
      "        \n",
      "        bytes memory buffer = new bytes(digits);\n",
      "        for (uint256 i = 0; i < digits; i++) {\n",
      "            buffer[digits - 1 - i] = bytes1(uint8(48 + uint256(value / (10**i)) % 10));\n",
      "        }\n",
      "        return string(buffer);\n",
      "    }\n",
      "}\n",
      "\n"
     ]
    }
   ],
   "source": [
    "# import solidity file\n",
    "og_file = 'oil_and_gas.sol'\n",
    "\n",
    "with open(og_file, 'r') as file: \n",
    "    og_sol = file.read()\n",
    "    \n",
    "print(og_sol)"
   ]
  },
  {
   "cell_type": "code",
   "execution_count": 23,
   "id": "3c9e46f8-c8ee-4a3f-ad9e-f3196ee63671",
   "metadata": {
    "scrolled": true
   },
   "outputs": [
    {
     "data": {
      "text/plain": [
       "{'contracts': {'oil_and_gas.sol': {'SupplyChain': {'abi': [{'anonymous': False,\n",
       "      'inputs': [{'indexed': True,\n",
       "        'internalType': 'address',\n",
       "        'name': 'entityAddress',\n",
       "        'type': 'address'},\n",
       "       {'indexed': False,\n",
       "        'internalType': 'string',\n",
       "        'name': 'name',\n",
       "        'type': 'string'}],\n",
       "      'name': 'EntityCreated',\n",
       "      'type': 'event'},\n",
       "     {'anonymous': False,\n",
       "      'inputs': [{'indexed': True,\n",
       "        'internalType': 'address',\n",
       "        'name': 'fromEntity',\n",
       "        'type': 'address'},\n",
       "       {'indexed': True,\n",
       "        'internalType': 'address',\n",
       "        'name': 'toEntity',\n",
       "        'type': 'address'},\n",
       "       {'indexed': False,\n",
       "        'internalType': 'uint256',\n",
       "        'name': 'amount',\n",
       "        'type': 'uint256'}],\n",
       "      'name': 'EntityTransacted',\n",
       "      'type': 'event'},\n",
       "     {'inputs': [{'internalType': 'string', 'name': 'name', 'type': 'string'},\n",
       "       {'internalType': 'uint256', 'name': 'barrelValue', 'type': 'uint256'}],\n",
       "      'name': 'createEntity',\n",
       "      'outputs': [],\n",
       "      'stateMutability': 'nonpayable',\n",
       "      'type': 'function'},\n",
       "     {'inputs': [{'internalType': 'address', 'name': '', 'type': 'address'}],\n",
       "      'name': 'entities',\n",
       "      'outputs': [{'internalType': 'string', 'name': 'name', 'type': 'string'},\n",
       "       {'internalType': 'uint256', 'name': 'barrelValue', 'type': 'uint256'}],\n",
       "      'stateMutability': 'view',\n",
       "      'type': 'function'},\n",
       "     {'inputs': [],\n",
       "      'name': 'getTransactionHistory',\n",
       "      'outputs': [{'internalType': 'string[]',\n",
       "        'name': '',\n",
       "        'type': 'string[]'}],\n",
       "      'stateMutability': 'view',\n",
       "      'type': 'function'},\n",
       "     {'inputs': [{'internalType': 'address', 'name': 'to', 'type': 'address'},\n",
       "       {'internalType': 'uint256', 'name': 'amount', 'type': 'uint256'}],\n",
       "      'name': 'transferBarrels',\n",
       "      'outputs': [],\n",
       "      'stateMutability': 'nonpayable',\n",
       "      'type': 'function'}],\n",
       "    'evm': {'bytecode': {'functionDebugData': {},\n",
       "      'generatedSources': [],\n",
       "      'linkReferences': {},\n",
       "      'object': '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',\n",
       "      'opcodes': 'PUSH1 0x80 PUSH1 0x40 MSTORE CALLVALUE DUP1 ISZERO PUSH2 0xF JUMPI PUSH0 DUP1 REVERT JUMPDEST POP PUSH2 0x18AB DUP1 PUSH2 0x1D PUSH0 CODECOPY PUSH0 RETURN INVALID PUSH1 0x80 PUSH1 0x40 MSTORE CALLVALUE DUP1 ISZERO PUSH2 0xF JUMPI PUSH0 DUP1 REVERT JUMPDEST POP PUSH1 0x4 CALLDATASIZE LT PUSH2 0x4A JUMPI PUSH0 CALLDATALOAD PUSH1 0xE0 SHR DUP1 PUSH4 0x1D8EE48A EQ PUSH2 0x4E JUMPI DUP1 PUSH4 0x34B36991 EQ PUSH2 0x7F JUMPI DUP1 PUSH4 0xB76D4FC3 EQ PUSH2 0x9B JUMPI DUP1 PUSH4 0xF49122D3 EQ PUSH2 0xB9 JUMPI JUMPDEST PUSH0 DUP1 REVERT JUMPDEST PUSH2 0x68 PUSH1 0x4 DUP1 CALLDATASIZE SUB DUP2 ADD SWAP1 PUSH2 0x63 SWAP2 SWAP1 PUSH2 0x9FE JUMP JUMPDEST PUSH2 0xD5 JUMP JUMPDEST PUSH1 0x40 MLOAD PUSH2 0x76 SWAP3 SWAP2 SWAP1 PUSH2 0xACB JUMP JUMPDEST PUSH1 0x40 MLOAD DUP1 SWAP2 SUB SWAP1 RETURN JUMPDEST PUSH2 0x99 PUSH1 0x4 DUP1 CALLDATASIZE SUB DUP2 ADD SWAP1 PUSH2 0x94 SWAP2 SWAP1 PUSH2 0xB23 JUMP JUMPDEST PUSH2 0x17A JUMP JUMPDEST STOP JUMPDEST PUSH2 0xA3 PUSH2 0x43E JUMP JUMPDEST PUSH1 0x40 MLOAD PUSH2 0xB0 SWAP2 SWAP1 PUSH2 0xC64 JUMP JUMPDEST PUSH1 0x40 MLOAD DUP1 SWAP2 SUB SWAP1 RETURN JUMPDEST PUSH2 0xD3 PUSH1 0x4 DUP1 CALLDATASIZE SUB DUP2 ADD SWAP1 PUSH2 0xCE SWAP2 SWAP1 PUSH2 0xDB0 JUMP JUMPDEST PUSH2 0x54F JUMP JUMPDEST STOP JUMPDEST PUSH0 PUSH1 0x20 MSTORE DUP1 PUSH0 MSTORE PUSH1 0x40 PUSH0 KECCAK256 PUSH0 SWAP2 POP SWAP1 POP DUP1 PUSH0 ADD DUP1 SLOAD PUSH2 0xF3 SWAP1 PUSH2 0xE37 JUMP JUMPDEST DUP1 PUSH1 0x1F ADD PUSH1 0x20 DUP1 SWAP2 DIV MUL PUSH1 0x20 ADD PUSH1 0x40 MLOAD SWAP1 DUP2 ADD PUSH1 0x40 MSTORE DUP1 SWAP3 SWAP2 SWAP1 DUP2 DUP2 MSTORE PUSH1 0x20 ADD DUP3 DUP1 SLOAD PUSH2 0x11F SWAP1 PUSH2 0xE37 JUMP JUMPDEST DUP1 ISZERO PUSH2 0x16A JUMPI DUP1 PUSH1 0x1F LT PUSH2 0x141 JUMPI PUSH2 0x100 DUP1 DUP4 SLOAD DIV MUL DUP4 MSTORE SWAP2 PUSH1 0x20 ADD SWAP2 PUSH2 0x16A JUMP JUMPDEST DUP3 ADD SWAP2 SWAP1 PUSH0 MSTORE PUSH1 0x20 PUSH0 KECCAK256 SWAP1 JUMPDEST DUP2 SLOAD DUP2 MSTORE SWAP1 PUSH1 0x1 ADD SWAP1 PUSH1 0x20 ADD DUP1 DUP4 GT PUSH2 0x14D JUMPI DUP3 SWAP1 SUB PUSH1 0x1F AND DUP3 ADD SWAP2 JUMPDEST POP POP POP POP POP SWAP1 DUP1 PUSH1 0x1 ADD SLOAD SWAP1 POP DUP3 JUMP JUMPDEST PUSH0 DUP1 PUSH0 CALLER PUSH20 0xFFFFFFFFFFFFFFFFFFFFFFFFFFFFFFFFFFFFFFFF AND PUSH20 0xFFFFFFFFFFFFFFFFFFFFFFFFFFFFFFFFFFFFFFFF AND DUP2 MSTORE PUSH1 0x20 ADD SWAP1 DUP2 MSTORE PUSH1 0x20 ADD PUSH0 KECCAK256 SWAP1 POP PUSH0 DUP1 PUSH0 DUP6 PUSH20 0xFFFFFFFFFFFFFFFFFFFFFFFFFFFFFFFFFFFFFFFF AND PUSH20 0xFFFFFFFFFFFFFFFFFFFFFFFFFFFFFFFFFFFFFFFF AND DUP2 MSTORE PUSH1 0x20 ADD SWAP1 DUP2 MSTORE PUSH1 0x20 ADD PUSH0 KECCAK256 SWAP1 POP DUP3 DUP3 PUSH1 0x1 ADD SLOAD LT ISZERO PUSH2 0x23F JUMPI PUSH1 0x40 MLOAD PUSH32 0x8C379A000000000000000000000000000000000000000000000000000000000 DUP2 MSTORE PUSH1 0x4 ADD PUSH2 0x236 SWAP1 PUSH2 0xEB1 JUMP JUMPDEST PUSH1 0x40 MLOAD DUP1 SWAP2 SUB SWAP1 REVERT JUMPDEST PUSH0 DUP3 PUSH0 ADD DUP1 SLOAD PUSH2 0x24E SWAP1 PUSH2 0xE37 JUMP JUMPDEST SWAP1 POP GT PUSH2 0x290 JUMPI PUSH1 0x40 MLOAD PUSH32 0x8C379A000000000000000000000000000000000000000000000000000000000 DUP2 MSTORE PUSH1 0x4 ADD PUSH2 0x287 SWAP1 PUSH2 0xF19 JUMP JUMPDEST PUSH1 0x40 MLOAD DUP1 SWAP2 SUB SWAP1 REVERT JUMPDEST PUSH0 DUP2 PUSH0 ADD DUP1 SLOAD PUSH2 0x29F SWAP1 PUSH2 0xE37 JUMP JUMPDEST SWAP1 POP GT PUSH2 0x2E1 JUMPI PUSH1 0x40 MLOAD PUSH32 0x8C379A000000000000000000000000000000000000000000000000000000000 DUP2 MSTORE PUSH1 0x4 ADD PUSH2 0x2D8 SWAP1 PUSH2 0xF81 JUMP JUMPDEST PUSH1 0x40 MLOAD DUP1 SWAP2 SUB SWAP1 REVERT JUMPDEST DUP3 DUP3 PUSH1 0x1 ADD PUSH0 DUP3 DUP3 SLOAD PUSH2 0x2F4 SWAP2 SWAP1 PUSH2 0xFCC JUMP JUMPDEST SWAP3 POP POP DUP2 SWAP1 SSTORE POP DUP3 DUP2 PUSH1 0x1 ADD PUSH0 DUP3 DUP3 SLOAD PUSH2 0x30E SWAP2 SWAP1 PUSH2 0xFFF JUMP JUMPDEST SWAP3 POP POP DUP2 SWAP1 SSTORE POP DUP2 PUSH1 0x2 ADD PUSH2 0x322 DUP5 PUSH2 0x747 JUMP JUMPDEST DUP3 PUSH0 ADD PUSH1 0x40 MLOAD PUSH1 0x20 ADD PUSH2 0x336 SWAP3 SWAP2 SWAP1 PUSH2 0x1192 JUMP JUMPDEST PUSH1 0x40 MLOAD PUSH1 0x20 DUP2 DUP4 SUB SUB DUP2 MSTORE SWAP1 PUSH1 0x40 MSTORE SWAP1 DUP1 PUSH1 0x1 DUP2 SLOAD ADD DUP1 DUP3 SSTORE DUP1 SWAP2 POP POP PUSH1 0x1 SWAP1 SUB SWAP1 PUSH0 MSTORE PUSH1 0x20 PUSH0 KECCAK256 ADD PUSH0 SWAP1 SWAP2 SWAP1 SWAP2 SWAP1 SWAP2 POP SWAP1 DUP2 PUSH2 0x373 SWAP2 SWAP1 PUSH2 0x1356 JUMP JUMPDEST POP DUP1 PUSH1 0x2 ADD PUSH2 0x381 DUP5 PUSH2 0x747 JUMP JUMPDEST DUP4 PUSH0 ADD PUSH1 0x40 MLOAD PUSH1 0x20 ADD PUSH2 0x395 SWAP3 SWAP2 SWAP1 PUSH2 0x14B9 JUMP JUMPDEST PUSH1 0x40 MLOAD PUSH1 0x20 DUP2 DUP4 SUB SUB DUP2 MSTORE SWAP1 PUSH1 0x40 MSTORE SWAP1 DUP1 PUSH1 0x1 DUP2 SLOAD ADD DUP1 DUP3 SSTORE DUP1 SWAP2 POP POP PUSH1 0x1 SWAP1 SUB SWAP1 PUSH0 MSTORE PUSH1 0x20 PUSH0 KECCAK256 ADD PUSH0 SWAP1 SWAP2 SWAP1 SWAP2 SWAP1 SWAP2 POP SWAP1 DUP2 PUSH2 0x3D2 SWAP2 SWAP1 PUSH2 0x1356 JUMP JUMPDEST POP DUP4 PUSH20 0xFFFFFFFFFFFFFFFFFFFFFFFFFFFFFFFFFFFFFFFF AND CALLER PUSH20 0xFFFFFFFFFFFFFFFFFFFFFFFFFFFFFFFFFFFFFFFF AND PUSH32 0x46A0CF592954C52954DD828FD2AFACED7A2CE3F6C54DEE213BFB83E6C91C2703 DUP6 PUSH1 0x40 MLOAD PUSH2 0x430 SWAP2 SWAP1 PUSH2 0x14F2 JUMP JUMPDEST PUSH1 0x40 MLOAD DUP1 SWAP2 SUB SWAP1 LOG3 POP POP POP POP JUMP JUMPDEST PUSH1 0x60 PUSH0 DUP1 CALLER PUSH20 0xFFFFFFFFFFFFFFFFFFFFFFFFFFFFFFFFFFFFFFFF AND PUSH20 0xFFFFFFFFFFFFFFFFFFFFFFFFFFFFFFFFFFFFFFFF AND DUP2 MSTORE PUSH1 0x20 ADD SWAP1 DUP2 MSTORE PUSH1 0x20 ADD PUSH0 KECCAK256 PUSH1 0x2 ADD DUP1 SLOAD DUP1 PUSH1 0x20 MUL PUSH1 0x20 ADD PUSH1 0x40 MLOAD SWAP1 DUP2 ADD PUSH1 0x40 MSTORE DUP1 SWAP3 SWAP2 SWAP1 DUP2 DUP2 MSTORE PUSH1 0x20 ADD PUSH0 SWAP1 JUMPDEST DUP3 DUP3 LT ISZERO PUSH2 0x546 JUMPI DUP4 DUP3 SWAP1 PUSH0 MSTORE PUSH1 0x20 PUSH0 KECCAK256 ADD DUP1 SLOAD PUSH2 0x4BB SWAP1 PUSH2 0xE37 JUMP JUMPDEST DUP1 PUSH1 0x1F ADD PUSH1 0x20 DUP1 SWAP2 DIV MUL PUSH1 0x20 ADD PUSH1 0x40 MLOAD SWAP1 DUP2 ADD PUSH1 0x40 MSTORE DUP1 SWAP3 SWAP2 SWAP1 DUP2 DUP2 MSTORE PUSH1 0x20 ADD DUP3 DUP1 SLOAD PUSH2 0x4E7 SWAP1 PUSH2 0xE37 JUMP JUMPDEST DUP1 ISZERO PUSH2 0x532 JUMPI DUP1 PUSH1 0x1F LT PUSH2 0x509 JUMPI PUSH2 0x100 DUP1 DUP4 SLOAD DIV MUL DUP4 MSTORE SWAP2 PUSH1 0x20 ADD SWAP2 PUSH2 0x532 JUMP JUMPDEST DUP3 ADD SWAP2 SWAP1 PUSH0 MSTORE PUSH1 0x20 PUSH0 KECCAK256 SWAP1 JUMPDEST DUP2 SLOAD DUP2 MSTORE SWAP1 PUSH1 0x1 ADD SWAP1 PUSH1 0x20 ADD DUP1 DUP4 GT PUSH2 0x515 JUMPI DUP3 SWAP1 SUB PUSH1 0x1F AND DUP3 ADD SWAP2 JUMPDEST POP POP POP POP POP DUP2 MSTORE PUSH1 0x20 ADD SWAP1 PUSH1 0x1 ADD SWAP1 PUSH2 0x49E JUMP JUMPDEST POP POP POP POP SWAP1 POP SWAP1 JUMP JUMPDEST PUSH0 DUP3 MLOAD GT PUSH2 0x592 JUMPI PUSH1 0x40 MLOAD PUSH32 0x8C379A000000000000000000000000000000000000000000000000000000000 DUP2 MSTORE PUSH1 0x4 ADD PUSH2 0x589 SWAP1 PUSH2 0x1555 JUMP JUMPDEST PUSH1 0x40 MLOAD DUP1 SWAP2 SUB SWAP1 REVERT JUMPDEST PUSH0 DUP1 PUSH0 CALLER PUSH20 0xFFFFFFFFFFFFFFFFFFFFFFFFFFFFFFFFFFFFFFFF AND PUSH20 0xFFFFFFFFFFFFFFFFFFFFFFFFFFFFFFFFFFFFFFFF AND DUP2 MSTORE PUSH1 0x20 ADD SWAP1 DUP2 MSTORE PUSH1 0x20 ADD PUSH0 KECCAK256 PUSH1 0x1 ADD SLOAD EQ PUSH2 0x613 JUMPI PUSH1 0x40 MLOAD PUSH32 0x8C379A000000000000000000000000000000000000000000000000000000000 DUP2 MSTORE PUSH1 0x4 ADD PUSH2 0x60A SWAP1 PUSH2 0x15BD JUMP JUMPDEST PUSH1 0x40 MLOAD DUP1 SWAP2 SUB SWAP1 REVERT JUMPDEST PUSH1 0x40 MLOAD DUP1 PUSH1 0x60 ADD PUSH1 0x40 MSTORE DUP1 DUP4 DUP2 MSTORE PUSH1 0x20 ADD DUP3 DUP2 MSTORE PUSH1 0x20 ADD PUSH0 PUSH8 0xFFFFFFFFFFFFFFFF DUP2 GT ISZERO PUSH2 0x644 JUMPI PUSH2 0x643 PUSH2 0xC8C JUMP JUMPDEST JUMPDEST PUSH1 0x40 MLOAD SWAP1 DUP1 DUP3 MSTORE DUP1 PUSH1 0x20 MUL PUSH1 0x20 ADD DUP3 ADD PUSH1 0x40 MSTORE DUP1 ISZERO PUSH2 0x677 JUMPI DUP2 PUSH1 0x20 ADD JUMPDEST PUSH1 0x60 DUP2 MSTORE PUSH1 0x20 ADD SWAP1 PUSH1 0x1 SWAP1 SUB SWAP1 DUP2 PUSH2 0x662 JUMPI SWAP1 POP JUMPDEST POP DUP2 MSTORE POP PUSH0 DUP1 CALLER PUSH20 0xFFFFFFFFFFFFFFFFFFFFFFFFFFFFFFFFFFFFFFFF AND PUSH20 0xFFFFFFFFFFFFFFFFFFFFFFFFFFFFFFFFFFFFFFFF AND DUP2 MSTORE PUSH1 0x20 ADD SWAP1 DUP2 MSTORE PUSH1 0x20 ADD PUSH0 KECCAK256 PUSH0 DUP3 ADD MLOAD DUP2 PUSH0 ADD SWAP1 DUP2 PUSH2 0x6CA SWAP2 SWAP1 PUSH2 0x1356 JUMP JUMPDEST POP PUSH1 0x20 DUP3 ADD MLOAD DUP2 PUSH1 0x1 ADD SSTORE PUSH1 0x40 DUP3 ADD MLOAD DUP2 PUSH1 0x2 ADD SWAP1 DUP1 MLOAD SWAP1 PUSH1 0x20 ADD SWAP1 PUSH2 0x6F1 SWAP3 SWAP2 SWAP1 PUSH2 0x8C1 JUMP JUMPDEST POP SWAP1 POP POP CALLER PUSH20 0xFFFFFFFFFFFFFFFFFFFFFFFFFFFFFFFFFFFFFFFF AND PUSH32 0x30888466BD8FAD834D69F9EBF05D3C6CBA765E925B74F1A12A48749D59679BA6 DUP4 PUSH1 0x40 MLOAD PUSH2 0x73B SWAP2 SWAP1 PUSH2 0x15DB JUMP JUMPDEST PUSH1 0x40 MLOAD DUP1 SWAP2 SUB SWAP1 LOG2 POP POP JUMP JUMPDEST PUSH1 0x60 PUSH0 DUP3 SUB PUSH2 0x78D JUMPI PUSH1 0x40 MLOAD DUP1 PUSH1 0x40 ADD PUSH1 0x40 MSTORE DUP1 PUSH1 0x1 DUP2 MSTORE PUSH1 0x20 ADD PUSH32 0x3000000000000000000000000000000000000000000000000000000000000000 DUP2 MSTORE POP SWAP1 POP PUSH2 0x8BC JUMP JUMPDEST PUSH0 DUP3 SWAP1 POP PUSH0 JUMPDEST PUSH0 DUP3 EQ PUSH2 0x7BC JUMPI DUP1 DUP1 PUSH2 0x7A5 SWAP1 PUSH2 0x15FB JUMP JUMPDEST SWAP2 POP POP PUSH1 0xA DUP3 PUSH2 0x7B5 SWAP2 SWAP1 PUSH2 0x166F JUMP JUMPDEST SWAP2 POP PUSH2 0x793 JUMP JUMPDEST PUSH0 DUP2 PUSH8 0xFFFFFFFFFFFFFFFF DUP2 GT ISZERO PUSH2 0x7D7 JUMPI PUSH2 0x7D6 PUSH2 0xC8C JUMP JUMPDEST JUMPDEST PUSH1 0x40 MLOAD SWAP1 DUP1 DUP3 MSTORE DUP1 PUSH1 0x1F ADD PUSH1 0x1F NOT AND PUSH1 0x20 ADD DUP3 ADD PUSH1 0x40 MSTORE DUP1 ISZERO PUSH2 0x809 JUMPI DUP2 PUSH1 0x20 ADD PUSH1 0x1 DUP3 MUL DUP1 CALLDATASIZE DUP4 CALLDATACOPY DUP1 DUP3 ADD SWAP2 POP POP SWAP1 POP JUMPDEST POP SWAP1 POP PUSH0 JUMPDEST DUP3 DUP2 LT ISZERO PUSH2 0x8B4 JUMPI PUSH1 0xA DUP2 PUSH1 0xA PUSH2 0x825 SWAP2 SWAP1 PUSH2 0x17CE JUMP JUMPDEST DUP8 PUSH2 0x830 SWAP2 SWAP1 PUSH2 0x166F JUMP JUMPDEST PUSH2 0x83A SWAP2 SWAP1 PUSH2 0x1818 JUMP JUMPDEST PUSH1 0x30 PUSH2 0x846 SWAP2 SWAP1 PUSH2 0xFFF JUMP JUMPDEST PUSH1 0xF8 SHL DUP3 DUP3 PUSH1 0x1 DUP7 PUSH2 0x858 SWAP2 SWAP1 PUSH2 0xFCC JUMP JUMPDEST PUSH2 0x862 SWAP2 SWAP1 PUSH2 0xFCC JUMP JUMPDEST DUP2 MLOAD DUP2 LT PUSH2 0x873 JUMPI PUSH2 0x872 PUSH2 0x1848 JUMP JUMPDEST JUMPDEST PUSH1 0x20 ADD ADD SWAP1 PUSH31 0xFFFFFFFFFFFFFFFFFFFFFFFFFFFFFFFFFFFFFFFFFFFFFFFFFFFFFFFFFFFFFF NOT AND SWAP1 DUP2 PUSH0 BYTE SWAP1 MSTORE8 POP DUP1 DUP1 PUSH2 0x8AC SWAP1 PUSH2 0x15FB JUMP JUMPDEST SWAP2 POP POP PUSH2 0x80E JUMP JUMPDEST POP DUP1 SWAP4 POP POP POP POP JUMPDEST SWAP2 SWAP1 POP JUMP JUMPDEST DUP3 DUP1 SLOAD DUP3 DUP3 SSTORE SWAP1 PUSH0 MSTORE PUSH1 0x20 PUSH0 KECCAK256 SWAP1 DUP2 ADD SWAP3 DUP3 ISZERO PUSH2 0x907 JUMPI SWAP2 PUSH1 0x20 MUL DUP3 ADD JUMPDEST DUP3 DUP2 GT ISZERO PUSH2 0x906 JUMPI DUP3 MLOAD DUP3 SWAP1 DUP2 PUSH2 0x8F6 SWAP2 SWAP1 PUSH2 0x1356 JUMP JUMPDEST POP SWAP2 PUSH1 0x20 ADD SWAP2 SWAP1 PUSH1 0x1 ADD SWAP1 PUSH2 0x8DF JUMP JUMPDEST JUMPDEST POP SWAP1 POP PUSH2 0x914 SWAP2 SWAP1 PUSH2 0x918 JUMP JUMPDEST POP SWAP1 JUMP JUMPDEST JUMPDEST DUP1 DUP3 GT ISZERO PUSH2 0x937 JUMPI PUSH0 DUP2 DUP2 PUSH2 0x92E SWAP2 SWAP1 PUSH2 0x93B JUMP JUMPDEST POP PUSH1 0x1 ADD PUSH2 0x919 JUMP JUMPDEST POP SWAP1 JUMP JUMPDEST POP DUP1 SLOAD PUSH2 0x947 SWAP1 PUSH2 0xE37 JUMP JUMPDEST PUSH0 DUP3 SSTORE DUP1 PUSH1 0x1F LT PUSH2 0x958 JUMPI POP PUSH2 0x975 JUMP JUMPDEST PUSH1 0x1F ADD PUSH1 0x20 SWAP1 DIV SWAP1 PUSH0 MSTORE PUSH1 0x20 PUSH0 KECCAK256 SWAP1 DUP2 ADD SWAP1 PUSH2 0x974 SWAP2 SWAP1 PUSH2 0x978 JUMP JUMPDEST JUMPDEST POP JUMP JUMPDEST JUMPDEST DUP1 DUP3 GT ISZERO PUSH2 0x98F JUMPI PUSH0 DUP2 PUSH0 SWAP1 SSTORE POP PUSH1 0x1 ADD PUSH2 0x979 JUMP JUMPDEST POP SWAP1 JUMP JUMPDEST PUSH0 PUSH1 0x40 MLOAD SWAP1 POP SWAP1 JUMP JUMPDEST PUSH0 DUP1 REVERT JUMPDEST PUSH0 DUP1 REVERT JUMPDEST PUSH0 PUSH20 0xFFFFFFFFFFFFFFFFFFFFFFFFFFFFFFFFFFFFFFFF DUP3 AND SWAP1 POP SWAP2 SWAP1 POP JUMP JUMPDEST PUSH0 PUSH2 0x9CD DUP3 PUSH2 0x9A4 JUMP JUMPDEST SWAP1 POP SWAP2 SWAP1 POP JUMP JUMPDEST PUSH2 0x9DD DUP2 PUSH2 0x9C3 JUMP JUMPDEST DUP2 EQ PUSH2 0x9E7 JUMPI PUSH0 DUP1 REVERT JUMPDEST POP JUMP JUMPDEST PUSH0 DUP2 CALLDATALOAD SWAP1 POP PUSH2 0x9F8 DUP2 PUSH2 0x9D4 JUMP JUMPDEST SWAP3 SWAP2 POP POP JUMP JUMPDEST PUSH0 PUSH1 0x20 DUP3 DUP5 SUB SLT ISZERO PUSH2 0xA13 JUMPI PUSH2 0xA12 PUSH2 0x99C JUMP JUMPDEST JUMPDEST PUSH0 PUSH2 0xA20 DUP5 DUP3 DUP6 ADD PUSH2 0x9EA JUMP JUMPDEST SWAP2 POP POP SWAP3 SWAP2 POP POP JUMP JUMPDEST PUSH0 DUP2 MLOAD SWAP1 POP SWAP2 SWAP1 POP JUMP JUMPDEST PUSH0 DUP3 DUP3 MSTORE PUSH1 0x20 DUP3 ADD SWAP1 POP SWAP3 SWAP2 POP POP JUMP JUMPDEST PUSH0 JUMPDEST DUP4 DUP2 LT ISZERO PUSH2 0xA60 JUMPI DUP1 DUP3 ADD MLOAD DUP2 DUP5 ADD MSTORE PUSH1 0x20 DUP2 ADD SWAP1 POP PUSH2 0xA45 JUMP JUMPDEST PUSH0 DUP5 DUP5 ADD MSTORE POP POP POP POP JUMP JUMPDEST PUSH0 PUSH1 0x1F NOT PUSH1 0x1F DUP4 ADD AND SWAP1 POP SWAP2 SWAP1 POP JUMP JUMPDEST PUSH0 PUSH2 0xA85 DUP3 PUSH2 0xA29 JUMP JUMPDEST PUSH2 0xA8F DUP2 DUP6 PUSH2 0xA33 JUMP JUMPDEST SWAP4 POP PUSH2 0xA9F DUP2 DUP6 PUSH1 0x20 DUP7 ADD PUSH2 0xA43 JUMP JUMPDEST PUSH2 0xAA8 DUP2 PUSH2 0xA6B JUMP JUMPDEST DUP5 ADD SWAP2 POP POP SWAP3 SWAP2 POP POP JUMP JUMPDEST PUSH0 DUP2 SWAP1 POP SWAP2 SWAP1 POP JUMP JUMPDEST PUSH2 0xAC5 DUP2 PUSH2 0xAB3 JUMP JUMPDEST DUP3 MSTORE POP POP JUMP JUMPDEST PUSH0 PUSH1 0x40 DUP3 ADD SWAP1 POP DUP2 DUP2 SUB PUSH0 DUP4 ADD MSTORE PUSH2 0xAE3 DUP2 DUP6 PUSH2 0xA7B JUMP JUMPDEST SWAP1 POP PUSH2 0xAF2 PUSH1 0x20 DUP4 ADD DUP5 PUSH2 0xABC JUMP JUMPDEST SWAP4 SWAP3 POP POP POP JUMP JUMPDEST PUSH2 0xB02 DUP2 PUSH2 0xAB3 JUMP JUMPDEST DUP2 EQ PUSH2 0xB0C JUMPI PUSH0 DUP1 REVERT JUMPDEST POP JUMP JUMPDEST PUSH0 DUP2 CALLDATALOAD SWAP1 POP PUSH2 0xB1D DUP2 PUSH2 0xAF9 JUMP JUMPDEST SWAP3 SWAP2 POP POP JUMP JUMPDEST PUSH0 DUP1 PUSH1 0x40 DUP4 DUP6 SUB SLT ISZERO PUSH2 0xB39 JUMPI PUSH2 0xB38 PUSH2 0x99C JUMP JUMPDEST JUMPDEST PUSH0 PUSH2 0xB46 DUP6 DUP3 DUP7 ADD PUSH2 0x9EA JUMP JUMPDEST SWAP3 POP POP PUSH1 0x20 PUSH2 0xB57 DUP6 DUP3 DUP7 ADD PUSH2 0xB0F JUMP JUMPDEST SWAP2 POP POP SWAP3 POP SWAP3 SWAP1 POP JUMP JUMPDEST PUSH0 DUP2 MLOAD SWAP1 POP SWAP2 SWAP1 POP JUMP JUMPDEST PUSH0 DUP3 DUP3 MSTORE PUSH1 0x20 DUP3 ADD SWAP1 POP SWAP3 SWAP2 POP POP JUMP JUMPDEST PUSH0 DUP2 SWAP1 POP PUSH1 0x20 DUP3 ADD SWAP1 POP SWAP2 SWAP1 POP JUMP JUMPDEST PUSH0 DUP3 DUP3 MSTORE PUSH1 0x20 DUP3 ADD SWAP1 POP SWAP3 SWAP2 POP POP JUMP JUMPDEST PUSH0 PUSH2 0xBA4 DUP3 PUSH2 0xA29 JUMP JUMPDEST PUSH2 0xBAE DUP2 DUP6 PUSH2 0xB8A JUMP JUMPDEST SWAP4 POP PUSH2 0xBBE DUP2 DUP6 PUSH1 0x20 DUP7 ADD PUSH2 0xA43 JUMP JUMPDEST PUSH2 0xBC7 DUP2 PUSH2 0xA6B JUMP JUMPDEST DUP5 ADD SWAP2 POP POP SWAP3 SWAP2 POP POP JUMP JUMPDEST PUSH0 PUSH2 0xBDD DUP4 DUP4 PUSH2 0xB9A JUMP JUMPDEST SWAP1 POP SWAP3 SWAP2 POP POP JUMP JUMPDEST PUSH0 PUSH1 0x20 DUP3 ADD SWAP1 POP SWAP2 SWAP1 POP JUMP JUMPDEST PUSH0 PUSH2 0xBFB DUP3 PUSH2 0xB61 JUMP JUMPDEST PUSH2 0xC05 DUP2 DUP6 PUSH2 0xB6B JUMP JUMPDEST SWAP4 POP DUP4 PUSH1 0x20 DUP3 MUL DUP6 ADD PUSH2 0xC17 DUP6 PUSH2 0xB7B JUMP JUMPDEST DUP1 PUSH0 JUMPDEST DUP6 DUP2 LT ISZERO PUSH2 0xC52 JUMPI DUP5 DUP5 SUB DUP10 MSTORE DUP2 MLOAD PUSH2 0xC33 DUP6 DUP3 PUSH2 0xBD2 JUMP JUMPDEST SWAP5 POP PUSH2 0xC3E DUP4 PUSH2 0xBE5 JUMP JUMPDEST SWAP3 POP PUSH1 0x20 DUP11 ADD SWAP10 POP POP PUSH1 0x1 DUP2 ADD SWAP1 POP PUSH2 0xC1A JUMP JUMPDEST POP DUP3 SWAP8 POP DUP8 SWAP6 POP POP POP POP POP POP SWAP3 SWAP2 POP POP JUMP JUMPDEST PUSH0 PUSH1 0x20 DUP3 ADD SWAP1 POP DUP2 DUP2 SUB PUSH0 DUP4 ADD MSTORE PUSH2 0xC7C DUP2 DUP5 PUSH2 0xBF1 JUMP JUMPDEST SWAP1 POP SWAP3 SWAP2 POP POP JUMP JUMPDEST PUSH0 DUP1 REVERT JUMPDEST PUSH0 DUP1 REVERT JUMPDEST PUSH32 0x4E487B7100000000000000000000000000000000000000000000000000000000 PUSH0 MSTORE PUSH1 0x41 PUSH1 0x4 MSTORE PUSH1 0x24 PUSH0 REVERT JUMPDEST PUSH2 0xCC2 DUP3 PUSH2 0xA6B JUMP JUMPDEST DUP2 ADD DUP2 DUP2 LT PUSH8 0xFFFFFFFFFFFFFFFF DUP3 GT OR ISZERO PUSH2 0xCE1 JUMPI PUSH2 0xCE0 PUSH2 0xC8C JUMP JUMPDEST JUMPDEST DUP1 PUSH1 0x40 MSTORE POP POP POP JUMP JUMPDEST PUSH0 PUSH2 0xCF3 PUSH2 0x993 JUMP JUMPDEST SWAP1 POP PUSH2 0xCFF DUP3 DUP3 PUSH2 0xCB9 JUMP JUMPDEST SWAP2 SWAP1 POP JUMP JUMPDEST PUSH0 PUSH8 0xFFFFFFFFFFFFFFFF DUP3 GT ISZERO PUSH2 0xD1E JUMPI PUSH2 0xD1D PUSH2 0xC8C JUMP JUMPDEST JUMPDEST PUSH2 0xD27 DUP3 PUSH2 0xA6B JUMP JUMPDEST SWAP1 POP PUSH1 0x20 DUP2 ADD SWAP1 POP SWAP2 SWAP1 POP JUMP JUMPDEST DUP3 DUP2 DUP4 CALLDATACOPY PUSH0 DUP4 DUP4 ADD MSTORE POP POP POP JUMP JUMPDEST PUSH0 PUSH2 0xD54 PUSH2 0xD4F DUP5 PUSH2 0xD04 JUMP JUMPDEST PUSH2 0xCEA JUMP JUMPDEST SWAP1 POP DUP3 DUP2 MSTORE PUSH1 0x20 DUP2 ADD DUP5 DUP5 DUP5 ADD GT ISZERO PUSH2 0xD70 JUMPI PUSH2 0xD6F PUSH2 0xC88 JUMP JUMPDEST JUMPDEST PUSH2 0xD7B DUP5 DUP3 DUP6 PUSH2 0xD34 JUMP JUMPDEST POP SWAP4 SWAP3 POP POP POP JUMP JUMPDEST PUSH0 DUP3 PUSH1 0x1F DUP4 ADD SLT PUSH2 0xD97 JUMPI PUSH2 0xD96 PUSH2 0xC84 JUMP JUMPDEST JUMPDEST DUP2 CALLDATALOAD PUSH2 0xDA7 DUP5 DUP3 PUSH1 0x20 DUP7 ADD PUSH2 0xD42 JUMP JUMPDEST SWAP2 POP POP SWAP3 SWAP2 POP POP JUMP JUMPDEST PUSH0 DUP1 PUSH1 0x40 DUP4 DUP6 SUB SLT ISZERO PUSH2 0xDC6 JUMPI PUSH2 0xDC5 PUSH2 0x99C JUMP JUMPDEST JUMPDEST PUSH0 DUP4 ADD CALLDATALOAD PUSH8 0xFFFFFFFFFFFFFFFF DUP2 GT ISZERO PUSH2 0xDE3 JUMPI PUSH2 0xDE2 PUSH2 0x9A0 JUMP JUMPDEST JUMPDEST PUSH2 0xDEF DUP6 DUP3 DUP7 ADD PUSH2 0xD83 JUMP JUMPDEST SWAP3 POP POP PUSH1 0x20 PUSH2 0xE00 DUP6 DUP3 DUP7 ADD PUSH2 0xB0F JUMP JUMPDEST SWAP2 POP POP SWAP3 POP SWAP3 SWAP1 POP JUMP JUMPDEST PUSH32 0x4E487B7100000000000000000000000000000000000000000000000000000000 PUSH0 MSTORE PUSH1 0x22 PUSH1 0x4 MSTORE PUSH1 0x24 PUSH0 REVERT JUMPDEST PUSH0 PUSH1 0x2 DUP3 DIV SWAP1 POP PUSH1 0x1 DUP3 AND DUP1 PUSH2 0xE4E JUMPI PUSH1 0x7F DUP3 AND SWAP2 POP JUMPDEST PUSH1 0x20 DUP3 LT DUP2 SUB PUSH2 0xE61 JUMPI PUSH2 0xE60 PUSH2 0xE0A JUMP JUMPDEST JUMPDEST POP SWAP2 SWAP1 POP JUMP JUMPDEST PUSH32 0x496E73756666696369656E742062617272656C7320746F207472616E73666572 PUSH0 DUP3 ADD MSTORE POP JUMP JUMPDEST PUSH0 PUSH2 0xE9B PUSH1 0x20 DUP4 PUSH2 0xA33 JUMP JUMPDEST SWAP2 POP PUSH2 0xEA6 DUP3 PUSH2 0xE67 JUMP JUMPDEST PUSH1 0x20 DUP3 ADD SWAP1 POP SWAP2 SWAP1 POP JUMP JUMPDEST PUSH0 PUSH1 0x20 DUP3 ADD SWAP1 POP DUP2 DUP2 SUB PUSH0 DUP4 ADD MSTORE PUSH2 0xEC8 DUP2 PUSH2 0xE8F JUMP JUMPDEST SWAP1 POP SWAP2 SWAP1 POP JUMP JUMPDEST PUSH32 0x53656E64657220656E7469747920646F6573206E6F7420657869737400000000 PUSH0 DUP3 ADD MSTORE POP JUMP JUMPDEST PUSH0 PUSH2 0xF03 PUSH1 0x1C DUP4 PUSH2 0xA33 JUMP JUMPDEST SWAP2 POP PUSH2 0xF0E DUP3 PUSH2 0xECF JUMP JUMPDEST PUSH1 0x20 DUP3 ADD SWAP1 POP SWAP2 SWAP1 POP JUMP JUMPDEST PUSH0 PUSH1 0x20 DUP3 ADD SWAP1 POP DUP2 DUP2 SUB PUSH0 DUP4 ADD MSTORE PUSH2 0xF30 DUP2 PUSH2 0xEF7 JUMP JUMPDEST SWAP1 POP SWAP2 SWAP1 POP JUMP JUMPDEST PUSH32 0x526563656976657220656E7469747920646F6573206E6F742065786973740000 PUSH0 DUP3 ADD MSTORE POP JUMP JUMPDEST PUSH0 PUSH2 0xF6B PUSH1 0x1E DUP4 PUSH2 0xA33 JUMP JUMPDEST SWAP2 POP PUSH2 0xF76 DUP3 PUSH2 0xF37 JUMP JUMPDEST PUSH1 0x20 DUP3 ADD SWAP1 POP SWAP2 SWAP1 POP JUMP JUMPDEST PUSH0 PUSH1 0x20 DUP3 ADD SWAP1 POP DUP2 DUP2 SUB PUSH0 DUP4 ADD MSTORE PUSH2 0xF98 DUP2 PUSH2 0xF5F JUMP JUMPDEST SWAP1 POP SWAP2 SWAP1 POP JUMP JUMPDEST PUSH32 0x4E487B7100000000000000000000000000000000000000000000000000000000 PUSH0 MSTORE PUSH1 0x11 PUSH1 0x4 MSTORE PUSH1 0x24 PUSH0 REVERT JUMPDEST PUSH0 PUSH2 0xFD6 DUP3 PUSH2 0xAB3 JUMP JUMPDEST SWAP2 POP PUSH2 0xFE1 DUP4 PUSH2 0xAB3 JUMP JUMPDEST SWAP3 POP DUP3 DUP3 SUB SWAP1 POP DUP2 DUP2 GT ISZERO PUSH2 0xFF9 JUMPI PUSH2 0xFF8 PUSH2 0xF9F JUMP JUMPDEST JUMPDEST SWAP3 SWAP2 POP POP JUMP JUMPDEST PUSH0 PUSH2 0x1009 DUP3 PUSH2 0xAB3 JUMP JUMPDEST SWAP2 POP PUSH2 0x1014 DUP4 PUSH2 0xAB3 JUMP JUMPDEST SWAP3 POP DUP3 DUP3 ADD SWAP1 POP DUP1 DUP3 GT ISZERO PUSH2 0x102C JUMPI PUSH2 0x102B PUSH2 0xF9F JUMP JUMPDEST JUMPDEST SWAP3 SWAP2 POP POP JUMP JUMPDEST PUSH0 DUP2 SWAP1 POP SWAP3 SWAP2 POP POP JUMP JUMPDEST PUSH32 0x53656E7420000000000000000000000000000000000000000000000000000000 PUSH0 DUP3 ADD MSTORE POP JUMP JUMPDEST PUSH0 PUSH2 0x1070 PUSH1 0x5 DUP4 PUSH2 0x1032 JUMP JUMPDEST SWAP2 POP PUSH2 0x107B DUP3 PUSH2 0x103C JUMP JUMPDEST PUSH1 0x5 DUP3 ADD SWAP1 POP SWAP2 SWAP1 POP JUMP JUMPDEST PUSH0 PUSH2 0x1090 DUP3 PUSH2 0xA29 JUMP JUMPDEST PUSH2 0x109A DUP2 DUP6 PUSH2 0x1032 JUMP JUMPDEST SWAP4 POP PUSH2 0x10AA DUP2 DUP6 PUSH1 0x20 DUP7 ADD PUSH2 0xA43 JUMP JUMPDEST DUP1 DUP5 ADD SWAP2 POP POP SWAP3 SWAP2 POP POP JUMP JUMPDEST PUSH32 0x2062617272656C7320746F200000000000000000000000000000000000000000 PUSH0 DUP3 ADD MSTORE POP JUMP JUMPDEST PUSH0 PUSH2 0x10EA PUSH1 0xC DUP4 PUSH2 0x1032 JUMP JUMPDEST SWAP2 POP PUSH2 0x10F5 DUP3 PUSH2 0x10B6 JUMP JUMPDEST PUSH1 0xC DUP3 ADD SWAP1 POP SWAP2 SWAP1 POP JUMP JUMPDEST PUSH0 DUP2 SWAP1 POP DUP2 PUSH0 MSTORE PUSH1 0x20 PUSH0 KECCAK256 SWAP1 POP SWAP2 SWAP1 POP JUMP JUMPDEST PUSH0 DUP2 SLOAD PUSH2 0x111E DUP2 PUSH2 0xE37 JUMP JUMPDEST PUSH2 0x1128 DUP2 DUP7 PUSH2 0x1032 JUMP JUMPDEST SWAP5 POP PUSH1 0x1 DUP3 AND PUSH0 DUP2 EQ PUSH2 0x1142 JUMPI PUSH1 0x1 DUP2 EQ PUSH2 0x1157 JUMPI PUSH2 0x1189 JUMP JUMPDEST PUSH1 0xFF NOT DUP4 AND DUP7 MSTORE DUP2 ISZERO ISZERO DUP3 MUL DUP7 ADD SWAP4 POP PUSH2 0x1189 JUMP JUMPDEST PUSH2 0x1160 DUP6 PUSH2 0x1100 JUMP JUMPDEST PUSH0 JUMPDEST DUP4 DUP2 LT ISZERO PUSH2 0x1181 JUMPI DUP2 SLOAD DUP2 DUP10 ADD MSTORE PUSH1 0x1 DUP3 ADD SWAP2 POP PUSH1 0x20 DUP2 ADD SWAP1 POP PUSH2 0x1162 JUMP JUMPDEST DUP4 DUP9 ADD SWAP6 POP POP POP JUMPDEST POP POP POP SWAP3 SWAP2 POP POP JUMP JUMPDEST PUSH0 PUSH2 0x119C DUP3 PUSH2 0x1064 JUMP JUMPDEST SWAP2 POP PUSH2 0x11A8 DUP3 DUP6 PUSH2 0x1086 JUMP JUMPDEST SWAP2 POP PUSH2 0x11B3 DUP3 PUSH2 0x10DE JUMP JUMPDEST SWAP2 POP PUSH2 0x11BF DUP3 DUP5 PUSH2 0x1112 JUMP JUMPDEST SWAP2 POP DUP2 SWAP1 POP SWAP4 SWAP3 POP POP POP JUMP JUMPDEST PUSH0 PUSH1 0x20 PUSH1 0x1F DUP4 ADD DIV SWAP1 POP SWAP2 SWAP1 POP JUMP JUMPDEST PUSH0 DUP3 DUP3 SHL SWAP1 POP SWAP3 SWAP2 POP POP JUMP JUMPDEST PUSH0 PUSH1 0x8 DUP4 MUL PUSH2 0x1215 PUSH32 0xFFFFFFFFFFFFFFFFFFFFFFFFFFFFFFFFFFFFFFFFFFFFFFFFFFFFFFFFFFFFFFFF DUP3 PUSH2 0x11DA JUMP JUMPDEST PUSH2 0x121F DUP7 DUP4 PUSH2 0x11DA JUMP JUMPDEST SWAP6 POP DUP1 NOT DUP5 AND SWAP4 POP DUP1 DUP7 AND DUP5 OR SWAP3 POP POP POP SWAP4 SWAP3 POP POP POP JUMP JUMPDEST PUSH0 DUP2 SWAP1 POP SWAP2 SWAP1 POP JUMP JUMPDEST PUSH0 PUSH2 0x125A PUSH2 0x1255 PUSH2 0x1250 DUP5 PUSH2 0xAB3 JUMP JUMPDEST PUSH2 0x1237 JUMP JUMPDEST PUSH2 0xAB3 JUMP JUMPDEST SWAP1 POP SWAP2 SWAP1 POP JUMP JUMPDEST PUSH0 DUP2 SWAP1 POP SWAP2 SWAP1 POP JUMP JUMPDEST PUSH2 0x1273 DUP4 PUSH2 0x1240 JUMP JUMPDEST PUSH2 0x1287 PUSH2 0x127F DUP3 PUSH2 0x1261 JUMP JUMPDEST DUP5 DUP5 SLOAD PUSH2 0x11E6 JUMP JUMPDEST DUP3 SSTORE POP POP POP POP JUMP JUMPDEST PUSH0 SWAP1 JUMP JUMPDEST PUSH2 0x129B PUSH2 0x128F JUMP JUMPDEST PUSH2 0x12A6 DUP2 DUP5 DUP5 PUSH2 0x126A JUMP JUMPDEST POP POP POP JUMP JUMPDEST JUMPDEST DUP2 DUP2 LT ISZERO PUSH2 0x12C9 JUMPI PUSH2 0x12BE PUSH0 DUP3 PUSH2 0x1293 JUMP JUMPDEST PUSH1 0x1 DUP2 ADD SWAP1 POP PUSH2 0x12AC JUMP JUMPDEST POP POP JUMP JUMPDEST PUSH1 0x1F DUP3 GT ISZERO PUSH2 0x130E JUMPI PUSH2 0x12DF DUP2 PUSH2 0x1100 JUMP JUMPDEST PUSH2 0x12E8 DUP5 PUSH2 0x11CB JUMP JUMPDEST DUP2 ADD PUSH1 0x20 DUP6 LT ISZERO PUSH2 0x12F7 JUMPI DUP2 SWAP1 POP JUMPDEST PUSH2 0x130B PUSH2 0x1303 DUP6 PUSH2 0x11CB JUMP JUMPDEST DUP4 ADD DUP3 PUSH2 0x12AB JUMP JUMPDEST POP POP JUMPDEST POP POP POP JUMP JUMPDEST PUSH0 DUP3 DUP3 SHR SWAP1 POP SWAP3 SWAP2 POP POP JUMP JUMPDEST PUSH0 PUSH2 0x132E PUSH0 NOT DUP5 PUSH1 0x8 MUL PUSH2 0x1313 JUMP JUMPDEST NOT DUP1 DUP4 AND SWAP2 POP POP SWAP3 SWAP2 POP POP JUMP JUMPDEST PUSH0 PUSH2 0x1346 DUP4 DUP4 PUSH2 0x131F JUMP JUMPDEST SWAP2 POP DUP3 PUSH1 0x2 MUL DUP3 OR SWAP1 POP SWAP3 SWAP2 POP POP JUMP JUMPDEST PUSH2 0x135F DUP3 PUSH2 0xA29 JUMP JUMPDEST PUSH8 0xFFFFFFFFFFFFFFFF DUP2 GT ISZERO PUSH2 0x1378 JUMPI PUSH2 0x1377 PUSH2 0xC8C JUMP JUMPDEST JUMPDEST PUSH2 0x1382 DUP3 SLOAD PUSH2 0xE37 JUMP JUMPDEST PUSH2 0x138D DUP3 DUP3 DUP6 PUSH2 0x12CD JUMP JUMPDEST PUSH0 PUSH1 0x20 SWAP1 POP PUSH1 0x1F DUP4 GT PUSH1 0x1 DUP2 EQ PUSH2 0x13BE JUMPI PUSH0 DUP5 ISZERO PUSH2 0x13AC JUMPI DUP3 DUP8 ADD MLOAD SWAP1 POP JUMPDEST PUSH2 0x13B6 DUP6 DUP3 PUSH2 0x133B JUMP JUMPDEST DUP7 SSTORE POP PUSH2 0x141D JUMP JUMPDEST PUSH1 0x1F NOT DUP5 AND PUSH2 0x13CC DUP7 PUSH2 0x1100 JUMP JUMPDEST PUSH0 JUMPDEST DUP3 DUP2 LT ISZERO PUSH2 0x13F3 JUMPI DUP5 DUP10 ADD MLOAD DUP3 SSTORE PUSH1 0x1 DUP3 ADD SWAP2 POP PUSH1 0x20 DUP6 ADD SWAP5 POP PUSH1 0x20 DUP2 ADD SWAP1 POP PUSH2 0x13CE JUMP JUMPDEST DUP7 DUP4 LT ISZERO PUSH2 0x1410 JUMPI DUP5 DUP10 ADD MLOAD PUSH2 0x140C PUSH1 0x1F DUP10 AND DUP3 PUSH2 0x131F JUMP JUMPDEST DUP4 SSTORE POP JUMPDEST PUSH1 0x1 PUSH1 0x2 DUP9 MUL ADD DUP9 SSTORE POP POP POP JUMPDEST POP POP POP POP POP POP JUMP JUMPDEST PUSH32 0x5265636569766564200000000000000000000000000000000000000000000000 PUSH0 DUP3 ADD MSTORE POP JUMP JUMPDEST PUSH0 PUSH2 0x1459 PUSH1 0x9 DUP4 PUSH2 0x1032 JUMP JUMPDEST SWAP2 POP PUSH2 0x1464 DUP3 PUSH2 0x1425 JUMP JUMPDEST PUSH1 0x9 DUP3 ADD SWAP1 POP SWAP2 SWAP1 POP JUMP JUMPDEST PUSH32 0x2062617272656C732066726F6D20000000000000000000000000000000000000 PUSH0 DUP3 ADD MSTORE POP JUMP JUMPDEST PUSH0 PUSH2 0x14A3 PUSH1 0xE DUP4 PUSH2 0x1032 JUMP JUMPDEST SWAP2 POP PUSH2 0x14AE DUP3 PUSH2 0x146F JUMP JUMPDEST PUSH1 0xE DUP3 ADD SWAP1 POP SWAP2 SWAP1 POP JUMP JUMPDEST PUSH0 PUSH2 0x14C3 DUP3 PUSH2 0x144D JUMP JUMPDEST SWAP2 POP PUSH2 0x14CF DUP3 DUP6 PUSH2 0x1086 JUMP JUMPDEST SWAP2 POP PUSH2 0x14DA DUP3 PUSH2 0x1497 JUMP JUMPDEST SWAP2 POP PUSH2 0x14E6 DUP3 DUP5 PUSH2 0x1112 JUMP JUMPDEST SWAP2 POP DUP2 SWAP1 POP SWAP4 SWAP3 POP POP POP JUMP JUMPDEST PUSH0 PUSH1 0x20 DUP3 ADD SWAP1 POP PUSH2 0x1505 PUSH0 DUP4 ADD DUP5 PUSH2 0xABC JUMP JUMPDEST SWAP3 SWAP2 POP POP JUMP JUMPDEST PUSH32 0x456E74697479206E616D652063616E6E6F7420626520656D7074790000000000 PUSH0 DUP3 ADD MSTORE POP JUMP JUMPDEST PUSH0 PUSH2 0x153F PUSH1 0x1B DUP4 PUSH2 0xA33 JUMP JUMPDEST SWAP2 POP PUSH2 0x154A DUP3 PUSH2 0x150B JUMP JUMPDEST PUSH1 0x20 DUP3 ADD SWAP1 POP SWAP2 SWAP1 POP JUMP JUMPDEST PUSH0 PUSH1 0x20 DUP3 ADD SWAP1 POP DUP2 DUP2 SUB PUSH0 DUP4 ADD MSTORE PUSH2 0x156C DUP2 PUSH2 0x1533 JUMP JUMPDEST SWAP1 POP SWAP2 SWAP1 POP JUMP JUMPDEST PUSH32 0x456E7469747920616C7265616479206578697374730000000000000000000000 PUSH0 DUP3 ADD MSTORE POP JUMP JUMPDEST PUSH0 PUSH2 0x15A7 PUSH1 0x15 DUP4 PUSH2 0xA33 JUMP JUMPDEST SWAP2 POP PUSH2 0x15B2 DUP3 PUSH2 0x1573 JUMP JUMPDEST PUSH1 0x20 DUP3 ADD SWAP1 POP SWAP2 SWAP1 POP JUMP JUMPDEST PUSH0 PUSH1 0x20 DUP3 ADD SWAP1 POP DUP2 DUP2 SUB PUSH0 DUP4 ADD MSTORE PUSH2 0x15D4 DUP2 PUSH2 0x159B JUMP JUMPDEST SWAP1 POP SWAP2 SWAP1 POP JUMP JUMPDEST PUSH0 PUSH1 0x20 DUP3 ADD SWAP1 POP DUP2 DUP2 SUB PUSH0 DUP4 ADD MSTORE PUSH2 0x15F3 DUP2 DUP5 PUSH2 0xA7B JUMP JUMPDEST SWAP1 POP SWAP3 SWAP2 POP POP JUMP JUMPDEST PUSH0 PUSH2 0x1605 DUP3 PUSH2 0xAB3 JUMP JUMPDEST SWAP2 POP PUSH32 0xFFFFFFFFFFFFFFFFFFFFFFFFFFFFFFFFFFFFFFFFFFFFFFFFFFFFFFFFFFFFFFFF DUP3 SUB PUSH2 0x1637 JUMPI PUSH2 0x1636 PUSH2 0xF9F JUMP JUMPDEST JUMPDEST PUSH1 0x1 DUP3 ADD SWAP1 POP SWAP2 SWAP1 POP JUMP JUMPDEST PUSH32 0x4E487B7100000000000000000000000000000000000000000000000000000000 PUSH0 MSTORE PUSH1 0x12 PUSH1 0x4 MSTORE PUSH1 0x24 PUSH0 REVERT JUMPDEST PUSH0 PUSH2 0x1679 DUP3 PUSH2 0xAB3 JUMP JUMPDEST SWAP2 POP PUSH2 0x1684 DUP4 PUSH2 0xAB3 JUMP JUMPDEST SWAP3 POP DUP3 PUSH2 0x1694 JUMPI PUSH2 0x1693 PUSH2 0x1642 JUMP JUMPDEST JUMPDEST DUP3 DUP3 DIV SWAP1 POP SWAP3 SWAP2 POP POP JUMP JUMPDEST PUSH0 DUP2 PUSH1 0x1 SHR SWAP1 POP SWAP2 SWAP1 POP JUMP JUMPDEST PUSH0 DUP1 DUP3 SWAP2 POP DUP4 SWAP1 POP JUMPDEST PUSH1 0x1 DUP6 GT ISZERO PUSH2 0x16F4 JUMPI DUP1 DUP7 DIV DUP2 GT ISZERO PUSH2 0x16D0 JUMPI PUSH2 0x16CF PUSH2 0xF9F JUMP JUMPDEST JUMPDEST PUSH1 0x1 DUP6 AND ISZERO PUSH2 0x16DF JUMPI DUP1 DUP3 MUL SWAP2 POP JUMPDEST DUP1 DUP2 MUL SWAP1 POP PUSH2 0x16ED DUP6 PUSH2 0x169F JUMP JUMPDEST SWAP5 POP PUSH2 0x16B4 JUMP JUMPDEST SWAP5 POP SWAP5 SWAP3 POP POP POP JUMP JUMPDEST PUSH0 DUP3 PUSH2 0x170C JUMPI PUSH1 0x1 SWAP1 POP PUSH2 0x17C7 JUMP JUMPDEST DUP2 PUSH2 0x1719 JUMPI PUSH0 SWAP1 POP PUSH2 0x17C7 JUMP JUMPDEST DUP2 PUSH1 0x1 DUP2 EQ PUSH2 0x172F JUMPI PUSH1 0x2 DUP2 EQ PUSH2 0x1739 JUMPI PUSH2 0x1768 JUMP JUMPDEST PUSH1 0x1 SWAP2 POP POP PUSH2 0x17C7 JUMP JUMPDEST PUSH1 0xFF DUP5 GT ISZERO PUSH2 0x174B JUMPI PUSH2 0x174A PUSH2 0xF9F JUMP JUMPDEST JUMPDEST DUP4 PUSH1 0x2 EXP SWAP2 POP DUP5 DUP3 GT ISZERO PUSH2 0x1762 JUMPI PUSH2 0x1761 PUSH2 0xF9F JUMP JUMPDEST JUMPDEST POP PUSH2 0x17C7 JUMP JUMPDEST POP PUSH1 0x20 DUP4 LT PUSH2 0x133 DUP4 LT AND PUSH1 0x4E DUP5 LT PUSH1 0xB DUP5 LT AND OR ISZERO PUSH2 0x179D JUMPI DUP3 DUP3 EXP SWAP1 POP DUP4 DUP2 GT ISZERO PUSH2 0x1798 JUMPI PUSH2 0x1797 PUSH2 0xF9F JUMP JUMPDEST JUMPDEST PUSH2 0x17C7 JUMP JUMPDEST PUSH2 0x17AA DUP5 DUP5 DUP5 PUSH1 0x1 PUSH2 0x16AB JUMP JUMPDEST SWAP3 POP SWAP1 POP DUP2 DUP5 DIV DUP2 GT ISZERO PUSH2 0x17C1 JUMPI PUSH2 0x17C0 PUSH2 0xF9F JUMP JUMPDEST JUMPDEST DUP2 DUP2 MUL SWAP1 POP JUMPDEST SWAP4 SWAP3 POP POP POP JUMP JUMPDEST PUSH0 PUSH2 0x17D8 DUP3 PUSH2 0xAB3 JUMP JUMPDEST SWAP2 POP PUSH2 0x17E3 DUP4 PUSH2 0xAB3 JUMP JUMPDEST SWAP3 POP PUSH2 0x1810 PUSH32 0xFFFFFFFFFFFFFFFFFFFFFFFFFFFFFFFFFFFFFFFFFFFFFFFFFFFFFFFFFFFFFFFF DUP5 DUP5 PUSH2 0x16FD JUMP JUMPDEST SWAP1 POP SWAP3 SWAP2 POP POP JUMP JUMPDEST PUSH0 PUSH2 0x1822 DUP3 PUSH2 0xAB3 JUMP JUMPDEST SWAP2 POP PUSH2 0x182D DUP4 PUSH2 0xAB3 JUMP JUMPDEST SWAP3 POP DUP3 PUSH2 0x183D JUMPI PUSH2 0x183C PUSH2 0x1642 JUMP JUMPDEST JUMPDEST DUP3 DUP3 MOD SWAP1 POP SWAP3 SWAP2 POP POP JUMP JUMPDEST PUSH32 0x4E487B7100000000000000000000000000000000000000000000000000000000 PUSH0 MSTORE PUSH1 0x32 PUSH1 0x4 MSTORE PUSH1 0x24 PUSH0 REVERT INVALID LOG2 PUSH5 0x6970667358 0x22 SLT KECCAK256 0xDC 0xAB LOG1 SELFBALANCE 0xD2 COINBASE 0xD4 0xCD 0x2A 0xA5 SWAP5 SWAP13 DUP10 0xA5 0xE 0xB7 DUP13 PUSH6 0xEE76A710B9BD SWAP3 0xE8 0xC7 BASEFEE PUSH4 0x6D566A64 PUSH20 0x6F6C634300081400330000000000000000000000 ',\n",
       "      'sourceMap': '57:2552:0:-:0;;;;;;;;;;;;;;;;;;;'}},\n",
       "    'metadata': '{\"compiler\":{\"version\":\"0.8.20+commit.a1b79de6\"},\"language\":\"Solidity\",\"output\":{\"abi\":[{\"anonymous\":false,\"inputs\":[{\"indexed\":true,\"internalType\":\"address\",\"name\":\"entityAddress\",\"type\":\"address\"},{\"indexed\":false,\"internalType\":\"string\",\"name\":\"name\",\"type\":\"string\"}],\"name\":\"EntityCreated\",\"type\":\"event\"},{\"anonymous\":false,\"inputs\":[{\"indexed\":true,\"internalType\":\"address\",\"name\":\"fromEntity\",\"type\":\"address\"},{\"indexed\":true,\"internalType\":\"address\",\"name\":\"toEntity\",\"type\":\"address\"},{\"indexed\":false,\"internalType\":\"uint256\",\"name\":\"amount\",\"type\":\"uint256\"}],\"name\":\"EntityTransacted\",\"type\":\"event\"},{\"inputs\":[{\"internalType\":\"string\",\"name\":\"name\",\"type\":\"string\"},{\"internalType\":\"uint256\",\"name\":\"barrelValue\",\"type\":\"uint256\"}],\"name\":\"createEntity\",\"outputs\":[],\"stateMutability\":\"nonpayable\",\"type\":\"function\"},{\"inputs\":[{\"internalType\":\"address\",\"name\":\"\",\"type\":\"address\"}],\"name\":\"entities\",\"outputs\":[{\"internalType\":\"string\",\"name\":\"name\",\"type\":\"string\"},{\"internalType\":\"uint256\",\"name\":\"barrelValue\",\"type\":\"uint256\"}],\"stateMutability\":\"view\",\"type\":\"function\"},{\"inputs\":[],\"name\":\"getTransactionHistory\",\"outputs\":[{\"internalType\":\"string[]\",\"name\":\"\",\"type\":\"string[]\"}],\"stateMutability\":\"view\",\"type\":\"function\"},{\"inputs\":[{\"internalType\":\"address\",\"name\":\"to\",\"type\":\"address\"},{\"internalType\":\"uint256\",\"name\":\"amount\",\"type\":\"uint256\"}],\"name\":\"transferBarrels\",\"outputs\":[],\"stateMutability\":\"nonpayable\",\"type\":\"function\"}],\"devdoc\":{\"kind\":\"dev\",\"methods\":{},\"version\":1},\"userdoc\":{\"kind\":\"user\",\"methods\":{},\"version\":1}},\"settings\":{\"compilationTarget\":{\"oil_and_gas.sol\":\"SupplyChain\"},\"evmVersion\":\"shanghai\",\"libraries\":{},\"metadata\":{\"bytecodeHash\":\"ipfs\"},\"optimizer\":{\"enabled\":false,\"runs\":200},\"remappings\":[]},\"sources\":{\"oil_and_gas.sol\":{\"keccak256\":\"0x169ff5a804088ed67105ed61a6b10bda06fe534b8549fe7b314e57113ae5aca7\",\"license\":\"MIT\",\"urls\":[\"bzz-raw://d922943ab3eab6c665a32237a8239849c63ab5fcf488c32d7890e5cf83998fb2\",\"dweb:/ipfs/QmQiFS2HnDkqAN6gJ7voUwy6ysuCsjzHqspjgwmyFBWgtp\"]}},\"version\":1}'}}},\n",
       " 'sources': {'oil_and_gas.sol': {'id': 0}}}"
      ]
     },
     "execution_count": 23,
     "metadata": {},
     "output_type": "execute_result"
    }
   ],
   "source": [
    "# using compile standard to compile the solidity code\n",
    "compiled_sol = compile_standard({\n",
    "        \"language\":\"Solidity\", \n",
    "        'sources':{'oil_and_gas.sol':{'content':og_sol}}, \n",
    "        'settings':{'outputSelection':{'*':{'*':['abi', 'metadata', 'evm.bytecode', 'evm.sourceMap']}}}\n",
    "}, solc_version='0.8.20')\n",
    "\n",
    "compiled_sol"
   ]
  },
  {
   "cell_type": "code",
   "execution_count": 24,
   "id": "27e03de7-67b4-4dac-a913-17fae186e8a3",
   "metadata": {},
   "outputs": [],
   "source": [
    "# saving the contract in json file\n",
    "with open('oil_and_gas.json', 'w') as file: \n",
    "    json.dump(compiled_sol, file)"
   ]
  },
  {
   "cell_type": "code",
   "execution_count": 25,
   "id": "3163fff9-32af-41cc-86cd-7dd6b0afc29c",
   "metadata": {},
   "outputs": [
    {
     "name": "stdout",
     "output_type": "stream",
     "text": [
      "========= Establishing connection To Remote Database =========\n",
      "<web3.main.Web3 object at 0x00000152DADF50D0>\n"
     ]
    },
    {
     "data": {
      "text/plain": [
       "web3._utils.datatypes.Contract"
      ]
     },
     "execution_count": 25,
     "metadata": {},
     "output_type": "execute_result"
    }
   ],
   "source": [
    "_, con = blink.connectBlockchainNetwork(connection_url, is_remote=True)\n",
    "print(con)\n",
    "# accessing ABI & BYCODE\n",
    "abi = compiled_sol['contracts']['oil_and_gas.sol']['SupplyChain']['abi']\n",
    "bytecode = compiled_sol['contracts']['oil_and_gas.sol']['SupplyChain']['evm']['bytecode']['object']\n",
    "\n",
    "# hello....\n",
    "og_contract = con.eth.contract(abi=abi, bytecode=bytecode)\n",
    "og_contract"
   ]
  },
  {
   "cell_type": "code",
   "execution_count": 26,
   "id": "858a245d-02fc-4b77-ac24-d5434de68db1",
   "metadata": {},
   "outputs": [],
   "source": [
    "# con.eth.get_transaction_count(wallet_address)\n",
    "# con.eth.gas_price\n",
    "# wallet_address\n",
    "# nonce\n",
    "# con.eth.accounts[0]"
   ]
  },
  {
   "cell_type": "code",
   "execution_count": 27,
   "id": "aa23e01f-829e-4b9a-98d9-8415ec3888fe",
   "metadata": {},
   "outputs": [],
   "source": [
    "# to deploy we need to \n",
    "# build transaction-----\n",
    "# sign transaction \n",
    "# waite for reciept\n",
    "wallet_address = con.eth.default_account\n",
    "wallet_address = '0x865eD5591EbED9F689dAFC25fEe10BB16fBD9883'\n",
    "private_key = '0x'+'cdd135c8c5b390757003b4a5a5df4c45aee24a1ff7540df0171b3deeb7d81b0b'\n",
    "\n",
    "chainId = 5\n",
    "nonce = con.eth.get_transaction_count(wallet_address)\n",
    "\n",
    "# buid transaction\n",
    "transacction = og_contract.constructor().build_transaction({'gasPrice':con.eth.gas_price, 'chainId':chainId, 'from':wallet_address, 'nonce':nonce})\n",
    "\n",
    "# sign transaction\n",
    "signed_transaction = con.eth.account.sign_transaction(transacction, private_key=private_key)\n",
    "\n",
    "# getting reciept\n",
    "transact_hash = con.eth.send_raw_transaction(signed_transaction.rawTransaction)\n",
    "trans_reciept = con.eth.wait_for_transaction_receipt(transact_hash)\n"
   ]
  },
  {
   "cell_type": "code",
   "execution_count": 28,
   "id": "a3dd6d56-3a5b-4cd0-b02d-f505c4ef5692",
   "metadata": {
    "scrolled": true
   },
   "outputs": [
    {
     "name": "stdout",
     "output_type": "stream",
     "text": [
      "{'value': 0, 'gas': 1413815, 'gasPrice': 1047, 'chainId': 5, 'from': '0x865eD5591EbED9F689dAFC25fEe10BB16fBD9883', 'nonce': 28, 'data': '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', 'to': b''}\n",
      "SIGN TRANSACT :  SignedTransaction(rawTransaction=HexBytes('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'), hash=HexBytes('0x18b7efe84d759c26819d2c1a4f2edc963d39e6327b2ce935979a41c77fbd332d'), r=18317799667763607158026213787190635936647452848821620404585152516828058240325, s=5656471289691381150294421783600078718391365090774238980131089366543957937589, v=46)\n",
      "transact Reciept :  AttributeDict({'blockHash': HexBytes('0x15b6ebfa7798d247628498c507c1d217efa0f8f36317b6c55425fe1fc59c7845'), 'blockNumber': 9905474, 'contractAddress': '0x9AfE005C709C9d2385c74eCAEe6213Af680b555b', 'cumulativeGasUsed': 12429916, 'effectiveGasPrice': 1047, 'from': '0x865eD5591EbED9F689dAFC25fEe10BB16fBD9883', 'gasUsed': 1413815, 'logs': [], 'logsBloom': HexBytes('0x00000000000000000000000000000000000000000000000000000000000000000000000000000000000000000000000000000000000000000000000000000000000000000000000000000000000000000000000000000000000000000000000000000000000000000000000000000000000000000000000000000000000000000000000000000000000000000000000000000000000000000000000000000000000000000000000000000000000000000000000000000000000000000000000000000000000000000000000000000000000000000000000000000000000000000000000000000000000000000000000000000000000000000000000000000000'), 'status': 1, 'to': None, 'transactionHash': HexBytes('0x18b7efe84d759c26819d2c1a4f2edc963d39e6327b2ce935979a41c77fbd332d'), 'transactionIndex': 77, 'type': 0})\n"
     ]
    }
   ],
   "source": [
    "print(transacction)\n",
    "# sign_transaction\n",
    "print(\"SIGN TRANSACT : \", signed_transaction)\n",
    "print(\"transact Reciept : \", trans_reciept)"
   ]
  },
  {
   "cell_type": "code",
   "execution_count": 29,
   "id": "f13a35f8-6277-4045-bd1e-99d2af76a465",
   "metadata": {
    "scrolled": true
   },
   "outputs": [
    {
     "data": {
      "text/plain": [
       "AttributeDict({'blockHash': HexBytes('0x15b6ebfa7798d247628498c507c1d217efa0f8f36317b6c55425fe1fc59c7845'),\n",
       " 'blockNumber': 9905474,\n",
       " 'contractAddress': '0x9AfE005C709C9d2385c74eCAEe6213Af680b555b',\n",
       " 'cumulativeGasUsed': 12429916,\n",
       " 'effectiveGasPrice': 1047,\n",
       " 'from': '0x865eD5591EbED9F689dAFC25fEe10BB16fBD9883',\n",
       " 'gasUsed': 1413815,\n",
       " 'logs': [],\n",
       " 'logsBloom': HexBytes('0x00000000000000000000000000000000000000000000000000000000000000000000000000000000000000000000000000000000000000000000000000000000000000000000000000000000000000000000000000000000000000000000000000000000000000000000000000000000000000000000000000000000000000000000000000000000000000000000000000000000000000000000000000000000000000000000000000000000000000000000000000000000000000000000000000000000000000000000000000000000000000000000000000000000000000000000000000000000000000000000000000000000000000000000000000000000'),\n",
       " 'status': 1,\n",
       " 'to': None,\n",
       " 'transactionHash': HexBytes('0x18b7efe84d759c26819d2c1a4f2edc963d39e6327b2ce935979a41c77fbd332d'),\n",
       " 'transactionIndex': 77,\n",
       " 'type': 0})"
      ]
     },
     "execution_count": 29,
     "metadata": {},
     "output_type": "execute_result"
    }
   ],
   "source": [
    "trans_reciept"
   ]
  },
  {
   "cell_type": "code",
   "execution_count": 30,
   "id": "46bdc0e7-ee80-4bf7-8130-77a3c712da3e",
   "metadata": {},
   "outputs": [],
   "source": [
    "from solcx import compile_standard\n",
    "import json"
   ]
  },
  {
   "cell_type": "code",
   "execution_count": 31,
   "id": "01d66762-9cd4-4a7e-acab-c0ff25dc04fa",
   "metadata": {},
   "outputs": [
    {
     "name": "stdout",
     "output_type": "stream",
     "text": [
      "========= Establishing connection To Remote Database =========\n",
      "<web3.main.Web3 object at 0x00000152DAE6DD00>\n"
     ]
    }
   ],
   "source": [
    "# establishing connection.......\n",
    "_, con = blink.connectBlockchainNetwork(connection_url, is_remote=True)\n",
    "print(con)"
   ]
  },
  {
   "cell_type": "code",
   "execution_count": 32,
   "id": "fee5845b-a84d-4ce4-b40f-04f696fb57e2",
   "metadata": {},
   "outputs": [],
   "source": [
    "# General function to deploy any smart contract\n",
    "wallet_address = '0x865eD5591EbED9F689dAFC25fEe10BB16fBD9883'\n",
    "private_key = '0x'+'cdd135c8c5b390757003b4a5a5df4c45aee24a1ff7540df0171b3deeb7d81b0b'\n",
    "chainId = 5\n",
    "\n",
    "class smartContract():\n",
    "\n",
    "    def __init__(self, connection): \n",
    "        self.con = connection\n",
    "\n",
    "    \n",
    "\n",
    "    def load_compile_solidity(self):\n",
    "        # import solidity file\n",
    "        # load solidity file\n",
    "        og_file = 'oil_and_gas.sol'\n",
    "        with open(og_file, 'r') as file: \n",
    "            og_sol = file.read()\n",
    "        # ================================\n",
    "        # using compile standard to compile the solidity code\n",
    "        compiled_sol = compile_standard({\n",
    "                \"language\":\"Solidity\", \n",
    "                'sources':{'oil_and_gas.sol':{'content':og_sol}}, \n",
    "                'settings':{'outputSelection':{'*':{'*':['abi', 'metadata', 'evm.bytecode', 'evm.sourceMap']}}}\n",
    "        }, solc_version='0.8.20')\n",
    "\n",
    "        # accessing ABI and bytecode... \n",
    "        self.abi = compiled_sol['contracts']['oil_and_gas.sol']['SupplyChain']['abi']\n",
    "        self.bytecode = compiled_sol['contracts']['oil_and_gas.sol']['SupplyChain']['evm']['bytecode']['object']\n",
    "        self.compiled_sol = compiled_sol ;\n",
    "        return compiled_sol\n",
    "\n",
    "    # this function take in the compile solidity and return a \n",
    "    # object contract for deployment......\n",
    "    def build_oil_gas_contract(self):       \n",
    "        og_contract = self.con.eth.contract(abi=self.abi, bytecode=self.bytecode)\n",
    "        return og_contract\n",
    "\n",
    "    # this function helps in deploying the smart contract.. \n",
    "    # acc_address (USER account use in deploying)\n",
    "    # p_key -> the primary key of the sender \n",
    "    # contract -> cantract to be deployed\n",
    "    # chain id , nouce and connection (the blockchain connection)\n",
    "    # it return traction reciept and transaction json data... \n",
    "    def deploy_smart_contract(self, acc_address, p_key, contract, chain_id):\n",
    "        # get nounce\n",
    "        nonce = self.con.eth.get_transaction_count(acc_address)\n",
    "        \n",
    "        # buid transaction\n",
    "        transaction = contract.constructor().build_transaction({'gasPrice':self.con.eth.gas_price, 'chainId':chain_id, 'from':acc_address, 'nonce':nonce})\n",
    "        # sign transaction\n",
    "        signed_transaction = self.con.eth.account.sign_transaction(transaction, private_key=p_key)\n",
    "        \n",
    "        # getting reciept\n",
    "        transact_hash = self.con.eth.send_raw_transaction(signed_transaction.rawTransaction)\n",
    "        trans_reciept = self.con.eth.wait_for_transaction_receipt(transact_hash)\n",
    "        self.contract_address = trans_reciept.contractAddress\n",
    "        # save.. (abi code, and contract address)...\n",
    "        self.save_contract_metadata(self.compiled_sol, \"oil_gas_solfile.json\", trans_reciept.contractAddress, 'contractAddress.txt')\n",
    "        # return reciept....\n",
    "        return trans_reciept, transaction\n",
    "\n",
    "    # save contract and contract address info.. \n",
    "    # Function to save data to a JSON file\n",
    "    def save_contract_metadata(self, json_data, json_filename, text_data, text_filename):\n",
    "    \n",
    "        try:\n",
    "            # save the smart contract compile file as json\n",
    "            with open(json_filename, 'w') as json_file:\n",
    "                json.dump(json_data, json_file)\n",
    "        \n",
    "            # saving contract address... after deployment \n",
    "            with open(text_filename, 'w') as text_file:\n",
    "                text_file.write(text_data)\n",
    "            \n",
    "            print(\"Operation perfromed successfully...\")\n",
    "        except Exception as e: \n",
    "            print(\"Operation Failed... \", e)\n",
    "    \n",
    "    \n",
    "    # Function to load data from a JSON file\n",
    "    def load_contract_metadata(self, json_filename, text_filename):\n",
    "    \n",
    "        try: \n",
    "            with open(json_filename, 'r') as json_file:\n",
    "                j_data = json.load(json_file)\n",
    "        \n",
    "        \n",
    "            with open(text_filename, 'r') as text_file:\n",
    "                t_data = text_file.read()\n",
    "        \n",
    "        \n",
    "            return j_data, t_data\n",
    "            print(\"Operation Perfromed Successfully...\")\n",
    "        except: \n",
    "            print(\"Operation Failed.....\")\n",
    "            return \"\", \"\"\n",
    "            \n",
    "\n",
    "# =========================================================================\n",
    "                    # interacting with smart contract #\n",
    "    #  with contract address and ABI code the contract can be intantiated... #\n",
    "# =========================================================================\n",
    "    \n",
    "    \n",
    "    # create an object to interact with the smart contract... \n",
    "    def contract_interaction_object(self):\n",
    "        solidity_json, address = self.load_contract_metadata(\"oil_gas_solfile.json\", 'contractAddress.txt')\n",
    "        abi = solidity_json['contracts']['oil_and_gas.sol']['SupplyChain']['abi']\n",
    "        con_obj = self.con.eth.contract(address=address, abi=abi)\n",
    "        return con_obj \n",
    "\n",
    "\n",
    "    # helper method to create a new entity on the smart contract chain on the block\n",
    "    def createEntity(self, entity_name, barrel_value, sender): \n",
    "        oil_obj = self.contract_interaction_object()\n",
    "        # building transaction...........\n",
    "        trx = oil_obj.functions.createEntity(entity_name, barrel_value).build_transaction(\n",
    "        {'gasPrice':self.con.eth.gas_price, 'chainId':chainId, 'from':sender, 'nonce':self.con.eth.get_transaction_count(sender)}\n",
    "        )\n",
    "\n",
    "        # self.con.eth.get_transaction_count(self.contract_address)\n",
    "        # signing the transaction........\n",
    "        trx_sign = self.con.eth.account.sign_transaction(trx, private_key)\n",
    "        trx_sign_raw = self.con.eth.send_raw_transaction(trx_sign.rawTransaction)\n",
    "        trx_sign_raw\n",
    "    \n",
    "        # getting transaction reciept.......\n",
    "        trx_reciept = self.con.eth.wait_for_transaction_receipt(trx_sign_raw)\n",
    "        \n",
    "        return trx_reciept\n",
    "\n",
    "\n",
    "\n",
    "    # helper method to transfer a barrel from one entity to another.. \n",
    "    def transferBarrels(self, wallet_address, barrel_value, sender): \n",
    "        oil_obj = self.contract_interaction_object()\n",
    "        # building transaction...........\n",
    "        trx = oil_obj.functions.transferBarrels(wallet_address, barrel_value).build_transaction(\n",
    "        {'gasPrice':self.con.eth.gas_price, 'chainId':chainId, 'from':sender, 'nonce':self.con.eth.get_transaction_count(sender)}\n",
    "        )\n",
    "\n",
    "        # self.con.eth.get_transaction_count(self.contract_address)\n",
    "        # signing the transaction........\n",
    "        trx_sign = self.con.eth.account.sign_transaction(trx, private_key)\n",
    "        trx_sign_raw = self.con.eth.send_raw_transaction(trx_sign.rawTransaction)\n",
    "        trx_sign_raw\n",
    "    \n",
    "        # getting transaction reciept.......\n",
    "        trx_reciept = self.con.eth.wait_for_transaction_receipt(trx_sign_raw)\n",
    "        \n",
    "        return trx_reciept\n",
    "\n",
    "\n",
    "\n",
    "    \n",
    "    \n",
    "        "
   ]
  },
  {
   "cell_type": "code",
   "execution_count": 33,
   "id": "ce8879fa-580e-4e92-9d14-2f10295b25b3",
   "metadata": {
    "scrolled": true
   },
   "outputs": [
    {
     "data": {
      "text/plain": [
       "{'contracts': {'oil_and_gas.sol': {'SupplyChain': {'abi': [{'anonymous': False,\n",
       "      'inputs': [{'indexed': True,\n",
       "        'internalType': 'address',\n",
       "        'name': 'entityAddress',\n",
       "        'type': 'address'},\n",
       "       {'indexed': False,\n",
       "        'internalType': 'string',\n",
       "        'name': 'name',\n",
       "        'type': 'string'}],\n",
       "      'name': 'EntityCreated',\n",
       "      'type': 'event'},\n",
       "     {'anonymous': False,\n",
       "      'inputs': [{'indexed': True,\n",
       "        'internalType': 'address',\n",
       "        'name': 'fromEntity',\n",
       "        'type': 'address'},\n",
       "       {'indexed': True,\n",
       "        'internalType': 'address',\n",
       "        'name': 'toEntity',\n",
       "        'type': 'address'},\n",
       "       {'indexed': False,\n",
       "        'internalType': 'uint256',\n",
       "        'name': 'amount',\n",
       "        'type': 'uint256'}],\n",
       "      'name': 'EntityTransacted',\n",
       "      'type': 'event'},\n",
       "     {'inputs': [{'internalType': 'string', 'name': 'name', 'type': 'string'},\n",
       "       {'internalType': 'uint256', 'name': 'barrelValue', 'type': 'uint256'}],\n",
       "      'name': 'createEntity',\n",
       "      'outputs': [],\n",
       "      'stateMutability': 'nonpayable',\n",
       "      'type': 'function'},\n",
       "     {'inputs': [{'internalType': 'address', 'name': '', 'type': 'address'}],\n",
       "      'name': 'entities',\n",
       "      'outputs': [{'internalType': 'string', 'name': 'name', 'type': 'string'},\n",
       "       {'internalType': 'uint256', 'name': 'barrelValue', 'type': 'uint256'}],\n",
       "      'stateMutability': 'view',\n",
       "      'type': 'function'},\n",
       "     {'inputs': [],\n",
       "      'name': 'getTransactionHistory',\n",
       "      'outputs': [{'internalType': 'string[]',\n",
       "        'name': '',\n",
       "        'type': 'string[]'}],\n",
       "      'stateMutability': 'view',\n",
       "      'type': 'function'},\n",
       "     {'inputs': [{'internalType': 'address', 'name': 'to', 'type': 'address'},\n",
       "       {'internalType': 'uint256', 'name': 'amount', 'type': 'uint256'}],\n",
       "      'name': 'transferBarrels',\n",
       "      'outputs': [],\n",
       "      'stateMutability': 'nonpayable',\n",
       "      'type': 'function'}],\n",
       "    'evm': {'bytecode': {'functionDebugData': {},\n",
       "      'generatedSources': [],\n",
       "      'linkReferences': {},\n",
       "      'object': '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',\n",
       "      'opcodes': 'PUSH1 0x80 PUSH1 0x40 MSTORE CALLVALUE DUP1 ISZERO PUSH2 0xF JUMPI PUSH0 DUP1 REVERT JUMPDEST POP PUSH2 0x18AB DUP1 PUSH2 0x1D PUSH0 CODECOPY PUSH0 RETURN INVALID PUSH1 0x80 PUSH1 0x40 MSTORE CALLVALUE DUP1 ISZERO PUSH2 0xF JUMPI PUSH0 DUP1 REVERT JUMPDEST POP PUSH1 0x4 CALLDATASIZE LT PUSH2 0x4A JUMPI PUSH0 CALLDATALOAD PUSH1 0xE0 SHR DUP1 PUSH4 0x1D8EE48A EQ PUSH2 0x4E JUMPI DUP1 PUSH4 0x34B36991 EQ PUSH2 0x7F JUMPI DUP1 PUSH4 0xB76D4FC3 EQ PUSH2 0x9B JUMPI DUP1 PUSH4 0xF49122D3 EQ PUSH2 0xB9 JUMPI JUMPDEST PUSH0 DUP1 REVERT JUMPDEST PUSH2 0x68 PUSH1 0x4 DUP1 CALLDATASIZE SUB DUP2 ADD SWAP1 PUSH2 0x63 SWAP2 SWAP1 PUSH2 0x9FE JUMP JUMPDEST PUSH2 0xD5 JUMP JUMPDEST PUSH1 0x40 MLOAD PUSH2 0x76 SWAP3 SWAP2 SWAP1 PUSH2 0xACB JUMP JUMPDEST PUSH1 0x40 MLOAD DUP1 SWAP2 SUB SWAP1 RETURN JUMPDEST PUSH2 0x99 PUSH1 0x4 DUP1 CALLDATASIZE SUB DUP2 ADD SWAP1 PUSH2 0x94 SWAP2 SWAP1 PUSH2 0xB23 JUMP JUMPDEST PUSH2 0x17A JUMP JUMPDEST STOP JUMPDEST PUSH2 0xA3 PUSH2 0x43E JUMP JUMPDEST PUSH1 0x40 MLOAD PUSH2 0xB0 SWAP2 SWAP1 PUSH2 0xC64 JUMP JUMPDEST PUSH1 0x40 MLOAD DUP1 SWAP2 SUB SWAP1 RETURN JUMPDEST PUSH2 0xD3 PUSH1 0x4 DUP1 CALLDATASIZE SUB DUP2 ADD SWAP1 PUSH2 0xCE SWAP2 SWAP1 PUSH2 0xDB0 JUMP JUMPDEST PUSH2 0x54F JUMP JUMPDEST STOP JUMPDEST PUSH0 PUSH1 0x20 MSTORE DUP1 PUSH0 MSTORE PUSH1 0x40 PUSH0 KECCAK256 PUSH0 SWAP2 POP SWAP1 POP DUP1 PUSH0 ADD DUP1 SLOAD PUSH2 0xF3 SWAP1 PUSH2 0xE37 JUMP JUMPDEST DUP1 PUSH1 0x1F ADD PUSH1 0x20 DUP1 SWAP2 DIV MUL PUSH1 0x20 ADD PUSH1 0x40 MLOAD SWAP1 DUP2 ADD PUSH1 0x40 MSTORE DUP1 SWAP3 SWAP2 SWAP1 DUP2 DUP2 MSTORE PUSH1 0x20 ADD DUP3 DUP1 SLOAD PUSH2 0x11F SWAP1 PUSH2 0xE37 JUMP JUMPDEST DUP1 ISZERO PUSH2 0x16A JUMPI DUP1 PUSH1 0x1F LT PUSH2 0x141 JUMPI PUSH2 0x100 DUP1 DUP4 SLOAD DIV MUL DUP4 MSTORE SWAP2 PUSH1 0x20 ADD SWAP2 PUSH2 0x16A JUMP JUMPDEST DUP3 ADD SWAP2 SWAP1 PUSH0 MSTORE PUSH1 0x20 PUSH0 KECCAK256 SWAP1 JUMPDEST DUP2 SLOAD DUP2 MSTORE SWAP1 PUSH1 0x1 ADD SWAP1 PUSH1 0x20 ADD DUP1 DUP4 GT PUSH2 0x14D JUMPI DUP3 SWAP1 SUB PUSH1 0x1F AND DUP3 ADD SWAP2 JUMPDEST POP POP POP POP POP SWAP1 DUP1 PUSH1 0x1 ADD SLOAD SWAP1 POP DUP3 JUMP JUMPDEST PUSH0 DUP1 PUSH0 CALLER PUSH20 0xFFFFFFFFFFFFFFFFFFFFFFFFFFFFFFFFFFFFFFFF AND PUSH20 0xFFFFFFFFFFFFFFFFFFFFFFFFFFFFFFFFFFFFFFFF AND DUP2 MSTORE PUSH1 0x20 ADD SWAP1 DUP2 MSTORE PUSH1 0x20 ADD PUSH0 KECCAK256 SWAP1 POP PUSH0 DUP1 PUSH0 DUP6 PUSH20 0xFFFFFFFFFFFFFFFFFFFFFFFFFFFFFFFFFFFFFFFF AND PUSH20 0xFFFFFFFFFFFFFFFFFFFFFFFFFFFFFFFFFFFFFFFF AND DUP2 MSTORE PUSH1 0x20 ADD SWAP1 DUP2 MSTORE PUSH1 0x20 ADD PUSH0 KECCAK256 SWAP1 POP DUP3 DUP3 PUSH1 0x1 ADD SLOAD LT ISZERO PUSH2 0x23F JUMPI PUSH1 0x40 MLOAD PUSH32 0x8C379A000000000000000000000000000000000000000000000000000000000 DUP2 MSTORE PUSH1 0x4 ADD PUSH2 0x236 SWAP1 PUSH2 0xEB1 JUMP JUMPDEST PUSH1 0x40 MLOAD DUP1 SWAP2 SUB SWAP1 REVERT JUMPDEST PUSH0 DUP3 PUSH0 ADD DUP1 SLOAD PUSH2 0x24E SWAP1 PUSH2 0xE37 JUMP JUMPDEST SWAP1 POP GT PUSH2 0x290 JUMPI PUSH1 0x40 MLOAD PUSH32 0x8C379A000000000000000000000000000000000000000000000000000000000 DUP2 MSTORE PUSH1 0x4 ADD PUSH2 0x287 SWAP1 PUSH2 0xF19 JUMP JUMPDEST PUSH1 0x40 MLOAD DUP1 SWAP2 SUB SWAP1 REVERT JUMPDEST PUSH0 DUP2 PUSH0 ADD DUP1 SLOAD PUSH2 0x29F SWAP1 PUSH2 0xE37 JUMP JUMPDEST SWAP1 POP GT PUSH2 0x2E1 JUMPI PUSH1 0x40 MLOAD PUSH32 0x8C379A000000000000000000000000000000000000000000000000000000000 DUP2 MSTORE PUSH1 0x4 ADD PUSH2 0x2D8 SWAP1 PUSH2 0xF81 JUMP JUMPDEST PUSH1 0x40 MLOAD DUP1 SWAP2 SUB SWAP1 REVERT JUMPDEST DUP3 DUP3 PUSH1 0x1 ADD PUSH0 DUP3 DUP3 SLOAD PUSH2 0x2F4 SWAP2 SWAP1 PUSH2 0xFCC JUMP JUMPDEST SWAP3 POP POP DUP2 SWAP1 SSTORE POP DUP3 DUP2 PUSH1 0x1 ADD PUSH0 DUP3 DUP3 SLOAD PUSH2 0x30E SWAP2 SWAP1 PUSH2 0xFFF JUMP JUMPDEST SWAP3 POP POP DUP2 SWAP1 SSTORE POP DUP2 PUSH1 0x2 ADD PUSH2 0x322 DUP5 PUSH2 0x747 JUMP JUMPDEST DUP3 PUSH0 ADD PUSH1 0x40 MLOAD PUSH1 0x20 ADD PUSH2 0x336 SWAP3 SWAP2 SWAP1 PUSH2 0x1192 JUMP JUMPDEST PUSH1 0x40 MLOAD PUSH1 0x20 DUP2 DUP4 SUB SUB DUP2 MSTORE SWAP1 PUSH1 0x40 MSTORE SWAP1 DUP1 PUSH1 0x1 DUP2 SLOAD ADD DUP1 DUP3 SSTORE DUP1 SWAP2 POP POP PUSH1 0x1 SWAP1 SUB SWAP1 PUSH0 MSTORE PUSH1 0x20 PUSH0 KECCAK256 ADD PUSH0 SWAP1 SWAP2 SWAP1 SWAP2 SWAP1 SWAP2 POP SWAP1 DUP2 PUSH2 0x373 SWAP2 SWAP1 PUSH2 0x1356 JUMP JUMPDEST POP DUP1 PUSH1 0x2 ADD PUSH2 0x381 DUP5 PUSH2 0x747 JUMP JUMPDEST DUP4 PUSH0 ADD PUSH1 0x40 MLOAD PUSH1 0x20 ADD PUSH2 0x395 SWAP3 SWAP2 SWAP1 PUSH2 0x14B9 JUMP JUMPDEST PUSH1 0x40 MLOAD PUSH1 0x20 DUP2 DUP4 SUB SUB DUP2 MSTORE SWAP1 PUSH1 0x40 MSTORE SWAP1 DUP1 PUSH1 0x1 DUP2 SLOAD ADD DUP1 DUP3 SSTORE DUP1 SWAP2 POP POP PUSH1 0x1 SWAP1 SUB SWAP1 PUSH0 MSTORE PUSH1 0x20 PUSH0 KECCAK256 ADD PUSH0 SWAP1 SWAP2 SWAP1 SWAP2 SWAP1 SWAP2 POP SWAP1 DUP2 PUSH2 0x3D2 SWAP2 SWAP1 PUSH2 0x1356 JUMP JUMPDEST POP DUP4 PUSH20 0xFFFFFFFFFFFFFFFFFFFFFFFFFFFFFFFFFFFFFFFF AND CALLER PUSH20 0xFFFFFFFFFFFFFFFFFFFFFFFFFFFFFFFFFFFFFFFF AND PUSH32 0x46A0CF592954C52954DD828FD2AFACED7A2CE3F6C54DEE213BFB83E6C91C2703 DUP6 PUSH1 0x40 MLOAD PUSH2 0x430 SWAP2 SWAP1 PUSH2 0x14F2 JUMP JUMPDEST PUSH1 0x40 MLOAD DUP1 SWAP2 SUB SWAP1 LOG3 POP POP POP POP JUMP JUMPDEST PUSH1 0x60 PUSH0 DUP1 CALLER PUSH20 0xFFFFFFFFFFFFFFFFFFFFFFFFFFFFFFFFFFFFFFFF AND PUSH20 0xFFFFFFFFFFFFFFFFFFFFFFFFFFFFFFFFFFFFFFFF AND DUP2 MSTORE PUSH1 0x20 ADD SWAP1 DUP2 MSTORE PUSH1 0x20 ADD PUSH0 KECCAK256 PUSH1 0x2 ADD DUP1 SLOAD DUP1 PUSH1 0x20 MUL PUSH1 0x20 ADD PUSH1 0x40 MLOAD SWAP1 DUP2 ADD PUSH1 0x40 MSTORE DUP1 SWAP3 SWAP2 SWAP1 DUP2 DUP2 MSTORE PUSH1 0x20 ADD PUSH0 SWAP1 JUMPDEST DUP3 DUP3 LT ISZERO PUSH2 0x546 JUMPI DUP4 DUP3 SWAP1 PUSH0 MSTORE PUSH1 0x20 PUSH0 KECCAK256 ADD DUP1 SLOAD PUSH2 0x4BB SWAP1 PUSH2 0xE37 JUMP JUMPDEST DUP1 PUSH1 0x1F ADD PUSH1 0x20 DUP1 SWAP2 DIV MUL PUSH1 0x20 ADD PUSH1 0x40 MLOAD SWAP1 DUP2 ADD PUSH1 0x40 MSTORE DUP1 SWAP3 SWAP2 SWAP1 DUP2 DUP2 MSTORE PUSH1 0x20 ADD DUP3 DUP1 SLOAD PUSH2 0x4E7 SWAP1 PUSH2 0xE37 JUMP JUMPDEST DUP1 ISZERO PUSH2 0x532 JUMPI DUP1 PUSH1 0x1F LT PUSH2 0x509 JUMPI PUSH2 0x100 DUP1 DUP4 SLOAD DIV MUL DUP4 MSTORE SWAP2 PUSH1 0x20 ADD SWAP2 PUSH2 0x532 JUMP JUMPDEST DUP3 ADD SWAP2 SWAP1 PUSH0 MSTORE PUSH1 0x20 PUSH0 KECCAK256 SWAP1 JUMPDEST DUP2 SLOAD DUP2 MSTORE SWAP1 PUSH1 0x1 ADD SWAP1 PUSH1 0x20 ADD DUP1 DUP4 GT PUSH2 0x515 JUMPI DUP3 SWAP1 SUB PUSH1 0x1F AND DUP3 ADD SWAP2 JUMPDEST POP POP POP POP POP DUP2 MSTORE PUSH1 0x20 ADD SWAP1 PUSH1 0x1 ADD SWAP1 PUSH2 0x49E JUMP JUMPDEST POP POP POP POP SWAP1 POP SWAP1 JUMP JUMPDEST PUSH0 DUP3 MLOAD GT PUSH2 0x592 JUMPI PUSH1 0x40 MLOAD PUSH32 0x8C379A000000000000000000000000000000000000000000000000000000000 DUP2 MSTORE PUSH1 0x4 ADD PUSH2 0x589 SWAP1 PUSH2 0x1555 JUMP JUMPDEST PUSH1 0x40 MLOAD DUP1 SWAP2 SUB SWAP1 REVERT JUMPDEST PUSH0 DUP1 PUSH0 CALLER PUSH20 0xFFFFFFFFFFFFFFFFFFFFFFFFFFFFFFFFFFFFFFFF AND PUSH20 0xFFFFFFFFFFFFFFFFFFFFFFFFFFFFFFFFFFFFFFFF AND DUP2 MSTORE PUSH1 0x20 ADD SWAP1 DUP2 MSTORE PUSH1 0x20 ADD PUSH0 KECCAK256 PUSH1 0x1 ADD SLOAD EQ PUSH2 0x613 JUMPI PUSH1 0x40 MLOAD PUSH32 0x8C379A000000000000000000000000000000000000000000000000000000000 DUP2 MSTORE PUSH1 0x4 ADD PUSH2 0x60A SWAP1 PUSH2 0x15BD JUMP JUMPDEST PUSH1 0x40 MLOAD DUP1 SWAP2 SUB SWAP1 REVERT JUMPDEST PUSH1 0x40 MLOAD DUP1 PUSH1 0x60 ADD PUSH1 0x40 MSTORE DUP1 DUP4 DUP2 MSTORE PUSH1 0x20 ADD DUP3 DUP2 MSTORE PUSH1 0x20 ADD PUSH0 PUSH8 0xFFFFFFFFFFFFFFFF DUP2 GT ISZERO PUSH2 0x644 JUMPI PUSH2 0x643 PUSH2 0xC8C JUMP JUMPDEST JUMPDEST PUSH1 0x40 MLOAD SWAP1 DUP1 DUP3 MSTORE DUP1 PUSH1 0x20 MUL PUSH1 0x20 ADD DUP3 ADD PUSH1 0x40 MSTORE DUP1 ISZERO PUSH2 0x677 JUMPI DUP2 PUSH1 0x20 ADD JUMPDEST PUSH1 0x60 DUP2 MSTORE PUSH1 0x20 ADD SWAP1 PUSH1 0x1 SWAP1 SUB SWAP1 DUP2 PUSH2 0x662 JUMPI SWAP1 POP JUMPDEST POP DUP2 MSTORE POP PUSH0 DUP1 CALLER PUSH20 0xFFFFFFFFFFFFFFFFFFFFFFFFFFFFFFFFFFFFFFFF AND PUSH20 0xFFFFFFFFFFFFFFFFFFFFFFFFFFFFFFFFFFFFFFFF AND DUP2 MSTORE PUSH1 0x20 ADD SWAP1 DUP2 MSTORE PUSH1 0x20 ADD PUSH0 KECCAK256 PUSH0 DUP3 ADD MLOAD DUP2 PUSH0 ADD SWAP1 DUP2 PUSH2 0x6CA SWAP2 SWAP1 PUSH2 0x1356 JUMP JUMPDEST POP PUSH1 0x20 DUP3 ADD MLOAD DUP2 PUSH1 0x1 ADD SSTORE PUSH1 0x40 DUP3 ADD MLOAD DUP2 PUSH1 0x2 ADD SWAP1 DUP1 MLOAD SWAP1 PUSH1 0x20 ADD SWAP1 PUSH2 0x6F1 SWAP3 SWAP2 SWAP1 PUSH2 0x8C1 JUMP JUMPDEST POP SWAP1 POP POP CALLER PUSH20 0xFFFFFFFFFFFFFFFFFFFFFFFFFFFFFFFFFFFFFFFF AND PUSH32 0x30888466BD8FAD834D69F9EBF05D3C6CBA765E925B74F1A12A48749D59679BA6 DUP4 PUSH1 0x40 MLOAD PUSH2 0x73B SWAP2 SWAP1 PUSH2 0x15DB JUMP JUMPDEST PUSH1 0x40 MLOAD DUP1 SWAP2 SUB SWAP1 LOG2 POP POP JUMP JUMPDEST PUSH1 0x60 PUSH0 DUP3 SUB PUSH2 0x78D JUMPI PUSH1 0x40 MLOAD DUP1 PUSH1 0x40 ADD PUSH1 0x40 MSTORE DUP1 PUSH1 0x1 DUP2 MSTORE PUSH1 0x20 ADD PUSH32 0x3000000000000000000000000000000000000000000000000000000000000000 DUP2 MSTORE POP SWAP1 POP PUSH2 0x8BC JUMP JUMPDEST PUSH0 DUP3 SWAP1 POP PUSH0 JUMPDEST PUSH0 DUP3 EQ PUSH2 0x7BC JUMPI DUP1 DUP1 PUSH2 0x7A5 SWAP1 PUSH2 0x15FB JUMP JUMPDEST SWAP2 POP POP PUSH1 0xA DUP3 PUSH2 0x7B5 SWAP2 SWAP1 PUSH2 0x166F JUMP JUMPDEST SWAP2 POP PUSH2 0x793 JUMP JUMPDEST PUSH0 DUP2 PUSH8 0xFFFFFFFFFFFFFFFF DUP2 GT ISZERO PUSH2 0x7D7 JUMPI PUSH2 0x7D6 PUSH2 0xC8C JUMP JUMPDEST JUMPDEST PUSH1 0x40 MLOAD SWAP1 DUP1 DUP3 MSTORE DUP1 PUSH1 0x1F ADD PUSH1 0x1F NOT AND PUSH1 0x20 ADD DUP3 ADD PUSH1 0x40 MSTORE DUP1 ISZERO PUSH2 0x809 JUMPI DUP2 PUSH1 0x20 ADD PUSH1 0x1 DUP3 MUL DUP1 CALLDATASIZE DUP4 CALLDATACOPY DUP1 DUP3 ADD SWAP2 POP POP SWAP1 POP JUMPDEST POP SWAP1 POP PUSH0 JUMPDEST DUP3 DUP2 LT ISZERO PUSH2 0x8B4 JUMPI PUSH1 0xA DUP2 PUSH1 0xA PUSH2 0x825 SWAP2 SWAP1 PUSH2 0x17CE JUMP JUMPDEST DUP8 PUSH2 0x830 SWAP2 SWAP1 PUSH2 0x166F JUMP JUMPDEST PUSH2 0x83A SWAP2 SWAP1 PUSH2 0x1818 JUMP JUMPDEST PUSH1 0x30 PUSH2 0x846 SWAP2 SWAP1 PUSH2 0xFFF JUMP JUMPDEST PUSH1 0xF8 SHL DUP3 DUP3 PUSH1 0x1 DUP7 PUSH2 0x858 SWAP2 SWAP1 PUSH2 0xFCC JUMP JUMPDEST PUSH2 0x862 SWAP2 SWAP1 PUSH2 0xFCC JUMP JUMPDEST DUP2 MLOAD DUP2 LT PUSH2 0x873 JUMPI PUSH2 0x872 PUSH2 0x1848 JUMP JUMPDEST JUMPDEST PUSH1 0x20 ADD ADD SWAP1 PUSH31 0xFFFFFFFFFFFFFFFFFFFFFFFFFFFFFFFFFFFFFFFFFFFFFFFFFFFFFFFFFFFFFF NOT AND SWAP1 DUP2 PUSH0 BYTE SWAP1 MSTORE8 POP DUP1 DUP1 PUSH2 0x8AC SWAP1 PUSH2 0x15FB JUMP JUMPDEST SWAP2 POP POP PUSH2 0x80E JUMP JUMPDEST POP DUP1 SWAP4 POP POP POP POP JUMPDEST SWAP2 SWAP1 POP JUMP JUMPDEST DUP3 DUP1 SLOAD DUP3 DUP3 SSTORE SWAP1 PUSH0 MSTORE PUSH1 0x20 PUSH0 KECCAK256 SWAP1 DUP2 ADD SWAP3 DUP3 ISZERO PUSH2 0x907 JUMPI SWAP2 PUSH1 0x20 MUL DUP3 ADD JUMPDEST DUP3 DUP2 GT ISZERO PUSH2 0x906 JUMPI DUP3 MLOAD DUP3 SWAP1 DUP2 PUSH2 0x8F6 SWAP2 SWAP1 PUSH2 0x1356 JUMP JUMPDEST POP SWAP2 PUSH1 0x20 ADD SWAP2 SWAP1 PUSH1 0x1 ADD SWAP1 PUSH2 0x8DF JUMP JUMPDEST JUMPDEST POP SWAP1 POP PUSH2 0x914 SWAP2 SWAP1 PUSH2 0x918 JUMP JUMPDEST POP SWAP1 JUMP JUMPDEST JUMPDEST DUP1 DUP3 GT ISZERO PUSH2 0x937 JUMPI PUSH0 DUP2 DUP2 PUSH2 0x92E SWAP2 SWAP1 PUSH2 0x93B JUMP JUMPDEST POP PUSH1 0x1 ADD PUSH2 0x919 JUMP JUMPDEST POP SWAP1 JUMP JUMPDEST POP DUP1 SLOAD PUSH2 0x947 SWAP1 PUSH2 0xE37 JUMP JUMPDEST PUSH0 DUP3 SSTORE DUP1 PUSH1 0x1F LT PUSH2 0x958 JUMPI POP PUSH2 0x975 JUMP JUMPDEST PUSH1 0x1F ADD PUSH1 0x20 SWAP1 DIV SWAP1 PUSH0 MSTORE PUSH1 0x20 PUSH0 KECCAK256 SWAP1 DUP2 ADD SWAP1 PUSH2 0x974 SWAP2 SWAP1 PUSH2 0x978 JUMP JUMPDEST JUMPDEST POP JUMP JUMPDEST JUMPDEST DUP1 DUP3 GT ISZERO PUSH2 0x98F JUMPI PUSH0 DUP2 PUSH0 SWAP1 SSTORE POP PUSH1 0x1 ADD PUSH2 0x979 JUMP JUMPDEST POP SWAP1 JUMP JUMPDEST PUSH0 PUSH1 0x40 MLOAD SWAP1 POP SWAP1 JUMP JUMPDEST PUSH0 DUP1 REVERT JUMPDEST PUSH0 DUP1 REVERT JUMPDEST PUSH0 PUSH20 0xFFFFFFFFFFFFFFFFFFFFFFFFFFFFFFFFFFFFFFFF DUP3 AND SWAP1 POP SWAP2 SWAP1 POP JUMP JUMPDEST PUSH0 PUSH2 0x9CD DUP3 PUSH2 0x9A4 JUMP JUMPDEST SWAP1 POP SWAP2 SWAP1 POP JUMP JUMPDEST PUSH2 0x9DD DUP2 PUSH2 0x9C3 JUMP JUMPDEST DUP2 EQ PUSH2 0x9E7 JUMPI PUSH0 DUP1 REVERT JUMPDEST POP JUMP JUMPDEST PUSH0 DUP2 CALLDATALOAD SWAP1 POP PUSH2 0x9F8 DUP2 PUSH2 0x9D4 JUMP JUMPDEST SWAP3 SWAP2 POP POP JUMP JUMPDEST PUSH0 PUSH1 0x20 DUP3 DUP5 SUB SLT ISZERO PUSH2 0xA13 JUMPI PUSH2 0xA12 PUSH2 0x99C JUMP JUMPDEST JUMPDEST PUSH0 PUSH2 0xA20 DUP5 DUP3 DUP6 ADD PUSH2 0x9EA JUMP JUMPDEST SWAP2 POP POP SWAP3 SWAP2 POP POP JUMP JUMPDEST PUSH0 DUP2 MLOAD SWAP1 POP SWAP2 SWAP1 POP JUMP JUMPDEST PUSH0 DUP3 DUP3 MSTORE PUSH1 0x20 DUP3 ADD SWAP1 POP SWAP3 SWAP2 POP POP JUMP JUMPDEST PUSH0 JUMPDEST DUP4 DUP2 LT ISZERO PUSH2 0xA60 JUMPI DUP1 DUP3 ADD MLOAD DUP2 DUP5 ADD MSTORE PUSH1 0x20 DUP2 ADD SWAP1 POP PUSH2 0xA45 JUMP JUMPDEST PUSH0 DUP5 DUP5 ADD MSTORE POP POP POP POP JUMP JUMPDEST PUSH0 PUSH1 0x1F NOT PUSH1 0x1F DUP4 ADD AND SWAP1 POP SWAP2 SWAP1 POP JUMP JUMPDEST PUSH0 PUSH2 0xA85 DUP3 PUSH2 0xA29 JUMP JUMPDEST PUSH2 0xA8F DUP2 DUP6 PUSH2 0xA33 JUMP JUMPDEST SWAP4 POP PUSH2 0xA9F DUP2 DUP6 PUSH1 0x20 DUP7 ADD PUSH2 0xA43 JUMP JUMPDEST PUSH2 0xAA8 DUP2 PUSH2 0xA6B JUMP JUMPDEST DUP5 ADD SWAP2 POP POP SWAP3 SWAP2 POP POP JUMP JUMPDEST PUSH0 DUP2 SWAP1 POP SWAP2 SWAP1 POP JUMP JUMPDEST PUSH2 0xAC5 DUP2 PUSH2 0xAB3 JUMP JUMPDEST DUP3 MSTORE POP POP JUMP JUMPDEST PUSH0 PUSH1 0x40 DUP3 ADD SWAP1 POP DUP2 DUP2 SUB PUSH0 DUP4 ADD MSTORE PUSH2 0xAE3 DUP2 DUP6 PUSH2 0xA7B JUMP JUMPDEST SWAP1 POP PUSH2 0xAF2 PUSH1 0x20 DUP4 ADD DUP5 PUSH2 0xABC JUMP JUMPDEST SWAP4 SWAP3 POP POP POP JUMP JUMPDEST PUSH2 0xB02 DUP2 PUSH2 0xAB3 JUMP JUMPDEST DUP2 EQ PUSH2 0xB0C JUMPI PUSH0 DUP1 REVERT JUMPDEST POP JUMP JUMPDEST PUSH0 DUP2 CALLDATALOAD SWAP1 POP PUSH2 0xB1D DUP2 PUSH2 0xAF9 JUMP JUMPDEST SWAP3 SWAP2 POP POP JUMP JUMPDEST PUSH0 DUP1 PUSH1 0x40 DUP4 DUP6 SUB SLT ISZERO PUSH2 0xB39 JUMPI PUSH2 0xB38 PUSH2 0x99C JUMP JUMPDEST JUMPDEST PUSH0 PUSH2 0xB46 DUP6 DUP3 DUP7 ADD PUSH2 0x9EA JUMP JUMPDEST SWAP3 POP POP PUSH1 0x20 PUSH2 0xB57 DUP6 DUP3 DUP7 ADD PUSH2 0xB0F JUMP JUMPDEST SWAP2 POP POP SWAP3 POP SWAP3 SWAP1 POP JUMP JUMPDEST PUSH0 DUP2 MLOAD SWAP1 POP SWAP2 SWAP1 POP JUMP JUMPDEST PUSH0 DUP3 DUP3 MSTORE PUSH1 0x20 DUP3 ADD SWAP1 POP SWAP3 SWAP2 POP POP JUMP JUMPDEST PUSH0 DUP2 SWAP1 POP PUSH1 0x20 DUP3 ADD SWAP1 POP SWAP2 SWAP1 POP JUMP JUMPDEST PUSH0 DUP3 DUP3 MSTORE PUSH1 0x20 DUP3 ADD SWAP1 POP SWAP3 SWAP2 POP POP JUMP JUMPDEST PUSH0 PUSH2 0xBA4 DUP3 PUSH2 0xA29 JUMP JUMPDEST PUSH2 0xBAE DUP2 DUP6 PUSH2 0xB8A JUMP JUMPDEST SWAP4 POP PUSH2 0xBBE DUP2 DUP6 PUSH1 0x20 DUP7 ADD PUSH2 0xA43 JUMP JUMPDEST PUSH2 0xBC7 DUP2 PUSH2 0xA6B JUMP JUMPDEST DUP5 ADD SWAP2 POP POP SWAP3 SWAP2 POP POP JUMP JUMPDEST PUSH0 PUSH2 0xBDD DUP4 DUP4 PUSH2 0xB9A JUMP JUMPDEST SWAP1 POP SWAP3 SWAP2 POP POP JUMP JUMPDEST PUSH0 PUSH1 0x20 DUP3 ADD SWAP1 POP SWAP2 SWAP1 POP JUMP JUMPDEST PUSH0 PUSH2 0xBFB DUP3 PUSH2 0xB61 JUMP JUMPDEST PUSH2 0xC05 DUP2 DUP6 PUSH2 0xB6B JUMP JUMPDEST SWAP4 POP DUP4 PUSH1 0x20 DUP3 MUL DUP6 ADD PUSH2 0xC17 DUP6 PUSH2 0xB7B JUMP JUMPDEST DUP1 PUSH0 JUMPDEST DUP6 DUP2 LT ISZERO PUSH2 0xC52 JUMPI DUP5 DUP5 SUB DUP10 MSTORE DUP2 MLOAD PUSH2 0xC33 DUP6 DUP3 PUSH2 0xBD2 JUMP JUMPDEST SWAP5 POP PUSH2 0xC3E DUP4 PUSH2 0xBE5 JUMP JUMPDEST SWAP3 POP PUSH1 0x20 DUP11 ADD SWAP10 POP POP PUSH1 0x1 DUP2 ADD SWAP1 POP PUSH2 0xC1A JUMP JUMPDEST POP DUP3 SWAP8 POP DUP8 SWAP6 POP POP POP POP POP POP SWAP3 SWAP2 POP POP JUMP JUMPDEST PUSH0 PUSH1 0x20 DUP3 ADD SWAP1 POP DUP2 DUP2 SUB PUSH0 DUP4 ADD MSTORE PUSH2 0xC7C DUP2 DUP5 PUSH2 0xBF1 JUMP JUMPDEST SWAP1 POP SWAP3 SWAP2 POP POP JUMP JUMPDEST PUSH0 DUP1 REVERT JUMPDEST PUSH0 DUP1 REVERT JUMPDEST PUSH32 0x4E487B7100000000000000000000000000000000000000000000000000000000 PUSH0 MSTORE PUSH1 0x41 PUSH1 0x4 MSTORE PUSH1 0x24 PUSH0 REVERT JUMPDEST PUSH2 0xCC2 DUP3 PUSH2 0xA6B JUMP JUMPDEST DUP2 ADD DUP2 DUP2 LT PUSH8 0xFFFFFFFFFFFFFFFF DUP3 GT OR ISZERO PUSH2 0xCE1 JUMPI PUSH2 0xCE0 PUSH2 0xC8C JUMP JUMPDEST JUMPDEST DUP1 PUSH1 0x40 MSTORE POP POP POP JUMP JUMPDEST PUSH0 PUSH2 0xCF3 PUSH2 0x993 JUMP JUMPDEST SWAP1 POP PUSH2 0xCFF DUP3 DUP3 PUSH2 0xCB9 JUMP JUMPDEST SWAP2 SWAP1 POP JUMP JUMPDEST PUSH0 PUSH8 0xFFFFFFFFFFFFFFFF DUP3 GT ISZERO PUSH2 0xD1E JUMPI PUSH2 0xD1D PUSH2 0xC8C JUMP JUMPDEST JUMPDEST PUSH2 0xD27 DUP3 PUSH2 0xA6B JUMP JUMPDEST SWAP1 POP PUSH1 0x20 DUP2 ADD SWAP1 POP SWAP2 SWAP1 POP JUMP JUMPDEST DUP3 DUP2 DUP4 CALLDATACOPY PUSH0 DUP4 DUP4 ADD MSTORE POP POP POP JUMP JUMPDEST PUSH0 PUSH2 0xD54 PUSH2 0xD4F DUP5 PUSH2 0xD04 JUMP JUMPDEST PUSH2 0xCEA JUMP JUMPDEST SWAP1 POP DUP3 DUP2 MSTORE PUSH1 0x20 DUP2 ADD DUP5 DUP5 DUP5 ADD GT ISZERO PUSH2 0xD70 JUMPI PUSH2 0xD6F PUSH2 0xC88 JUMP JUMPDEST JUMPDEST PUSH2 0xD7B DUP5 DUP3 DUP6 PUSH2 0xD34 JUMP JUMPDEST POP SWAP4 SWAP3 POP POP POP JUMP JUMPDEST PUSH0 DUP3 PUSH1 0x1F DUP4 ADD SLT PUSH2 0xD97 JUMPI PUSH2 0xD96 PUSH2 0xC84 JUMP JUMPDEST JUMPDEST DUP2 CALLDATALOAD PUSH2 0xDA7 DUP5 DUP3 PUSH1 0x20 DUP7 ADD PUSH2 0xD42 JUMP JUMPDEST SWAP2 POP POP SWAP3 SWAP2 POP POP JUMP JUMPDEST PUSH0 DUP1 PUSH1 0x40 DUP4 DUP6 SUB SLT ISZERO PUSH2 0xDC6 JUMPI PUSH2 0xDC5 PUSH2 0x99C JUMP JUMPDEST JUMPDEST PUSH0 DUP4 ADD CALLDATALOAD PUSH8 0xFFFFFFFFFFFFFFFF DUP2 GT ISZERO PUSH2 0xDE3 JUMPI PUSH2 0xDE2 PUSH2 0x9A0 JUMP JUMPDEST JUMPDEST PUSH2 0xDEF DUP6 DUP3 DUP7 ADD PUSH2 0xD83 JUMP JUMPDEST SWAP3 POP POP PUSH1 0x20 PUSH2 0xE00 DUP6 DUP3 DUP7 ADD PUSH2 0xB0F JUMP JUMPDEST SWAP2 POP POP SWAP3 POP SWAP3 SWAP1 POP JUMP JUMPDEST PUSH32 0x4E487B7100000000000000000000000000000000000000000000000000000000 PUSH0 MSTORE PUSH1 0x22 PUSH1 0x4 MSTORE PUSH1 0x24 PUSH0 REVERT JUMPDEST PUSH0 PUSH1 0x2 DUP3 DIV SWAP1 POP PUSH1 0x1 DUP3 AND DUP1 PUSH2 0xE4E JUMPI PUSH1 0x7F DUP3 AND SWAP2 POP JUMPDEST PUSH1 0x20 DUP3 LT DUP2 SUB PUSH2 0xE61 JUMPI PUSH2 0xE60 PUSH2 0xE0A JUMP JUMPDEST JUMPDEST POP SWAP2 SWAP1 POP JUMP JUMPDEST PUSH32 0x496E73756666696369656E742062617272656C7320746F207472616E73666572 PUSH0 DUP3 ADD MSTORE POP JUMP JUMPDEST PUSH0 PUSH2 0xE9B PUSH1 0x20 DUP4 PUSH2 0xA33 JUMP JUMPDEST SWAP2 POP PUSH2 0xEA6 DUP3 PUSH2 0xE67 JUMP JUMPDEST PUSH1 0x20 DUP3 ADD SWAP1 POP SWAP2 SWAP1 POP JUMP JUMPDEST PUSH0 PUSH1 0x20 DUP3 ADD SWAP1 POP DUP2 DUP2 SUB PUSH0 DUP4 ADD MSTORE PUSH2 0xEC8 DUP2 PUSH2 0xE8F JUMP JUMPDEST SWAP1 POP SWAP2 SWAP1 POP JUMP JUMPDEST PUSH32 0x53656E64657220656E7469747920646F6573206E6F7420657869737400000000 PUSH0 DUP3 ADD MSTORE POP JUMP JUMPDEST PUSH0 PUSH2 0xF03 PUSH1 0x1C DUP4 PUSH2 0xA33 JUMP JUMPDEST SWAP2 POP PUSH2 0xF0E DUP3 PUSH2 0xECF JUMP JUMPDEST PUSH1 0x20 DUP3 ADD SWAP1 POP SWAP2 SWAP1 POP JUMP JUMPDEST PUSH0 PUSH1 0x20 DUP3 ADD SWAP1 POP DUP2 DUP2 SUB PUSH0 DUP4 ADD MSTORE PUSH2 0xF30 DUP2 PUSH2 0xEF7 JUMP JUMPDEST SWAP1 POP SWAP2 SWAP1 POP JUMP JUMPDEST PUSH32 0x526563656976657220656E7469747920646F6573206E6F742065786973740000 PUSH0 DUP3 ADD MSTORE POP JUMP JUMPDEST PUSH0 PUSH2 0xF6B PUSH1 0x1E DUP4 PUSH2 0xA33 JUMP JUMPDEST SWAP2 POP PUSH2 0xF76 DUP3 PUSH2 0xF37 JUMP JUMPDEST PUSH1 0x20 DUP3 ADD SWAP1 POP SWAP2 SWAP1 POP JUMP JUMPDEST PUSH0 PUSH1 0x20 DUP3 ADD SWAP1 POP DUP2 DUP2 SUB PUSH0 DUP4 ADD MSTORE PUSH2 0xF98 DUP2 PUSH2 0xF5F JUMP JUMPDEST SWAP1 POP SWAP2 SWAP1 POP JUMP JUMPDEST PUSH32 0x4E487B7100000000000000000000000000000000000000000000000000000000 PUSH0 MSTORE PUSH1 0x11 PUSH1 0x4 MSTORE PUSH1 0x24 PUSH0 REVERT JUMPDEST PUSH0 PUSH2 0xFD6 DUP3 PUSH2 0xAB3 JUMP JUMPDEST SWAP2 POP PUSH2 0xFE1 DUP4 PUSH2 0xAB3 JUMP JUMPDEST SWAP3 POP DUP3 DUP3 SUB SWAP1 POP DUP2 DUP2 GT ISZERO PUSH2 0xFF9 JUMPI PUSH2 0xFF8 PUSH2 0xF9F JUMP JUMPDEST JUMPDEST SWAP3 SWAP2 POP POP JUMP JUMPDEST PUSH0 PUSH2 0x1009 DUP3 PUSH2 0xAB3 JUMP JUMPDEST SWAP2 POP PUSH2 0x1014 DUP4 PUSH2 0xAB3 JUMP JUMPDEST SWAP3 POP DUP3 DUP3 ADD SWAP1 POP DUP1 DUP3 GT ISZERO PUSH2 0x102C JUMPI PUSH2 0x102B PUSH2 0xF9F JUMP JUMPDEST JUMPDEST SWAP3 SWAP2 POP POP JUMP JUMPDEST PUSH0 DUP2 SWAP1 POP SWAP3 SWAP2 POP POP JUMP JUMPDEST PUSH32 0x53656E7420000000000000000000000000000000000000000000000000000000 PUSH0 DUP3 ADD MSTORE POP JUMP JUMPDEST PUSH0 PUSH2 0x1070 PUSH1 0x5 DUP4 PUSH2 0x1032 JUMP JUMPDEST SWAP2 POP PUSH2 0x107B DUP3 PUSH2 0x103C JUMP JUMPDEST PUSH1 0x5 DUP3 ADD SWAP1 POP SWAP2 SWAP1 POP JUMP JUMPDEST PUSH0 PUSH2 0x1090 DUP3 PUSH2 0xA29 JUMP JUMPDEST PUSH2 0x109A DUP2 DUP6 PUSH2 0x1032 JUMP JUMPDEST SWAP4 POP PUSH2 0x10AA DUP2 DUP6 PUSH1 0x20 DUP7 ADD PUSH2 0xA43 JUMP JUMPDEST DUP1 DUP5 ADD SWAP2 POP POP SWAP3 SWAP2 POP POP JUMP JUMPDEST PUSH32 0x2062617272656C7320746F200000000000000000000000000000000000000000 PUSH0 DUP3 ADD MSTORE POP JUMP JUMPDEST PUSH0 PUSH2 0x10EA PUSH1 0xC DUP4 PUSH2 0x1032 JUMP JUMPDEST SWAP2 POP PUSH2 0x10F5 DUP3 PUSH2 0x10B6 JUMP JUMPDEST PUSH1 0xC DUP3 ADD SWAP1 POP SWAP2 SWAP1 POP JUMP JUMPDEST PUSH0 DUP2 SWAP1 POP DUP2 PUSH0 MSTORE PUSH1 0x20 PUSH0 KECCAK256 SWAP1 POP SWAP2 SWAP1 POP JUMP JUMPDEST PUSH0 DUP2 SLOAD PUSH2 0x111E DUP2 PUSH2 0xE37 JUMP JUMPDEST PUSH2 0x1128 DUP2 DUP7 PUSH2 0x1032 JUMP JUMPDEST SWAP5 POP PUSH1 0x1 DUP3 AND PUSH0 DUP2 EQ PUSH2 0x1142 JUMPI PUSH1 0x1 DUP2 EQ PUSH2 0x1157 JUMPI PUSH2 0x1189 JUMP JUMPDEST PUSH1 0xFF NOT DUP4 AND DUP7 MSTORE DUP2 ISZERO ISZERO DUP3 MUL DUP7 ADD SWAP4 POP PUSH2 0x1189 JUMP JUMPDEST PUSH2 0x1160 DUP6 PUSH2 0x1100 JUMP JUMPDEST PUSH0 JUMPDEST DUP4 DUP2 LT ISZERO PUSH2 0x1181 JUMPI DUP2 SLOAD DUP2 DUP10 ADD MSTORE PUSH1 0x1 DUP3 ADD SWAP2 POP PUSH1 0x20 DUP2 ADD SWAP1 POP PUSH2 0x1162 JUMP JUMPDEST DUP4 DUP9 ADD SWAP6 POP POP POP JUMPDEST POP POP POP SWAP3 SWAP2 POP POP JUMP JUMPDEST PUSH0 PUSH2 0x119C DUP3 PUSH2 0x1064 JUMP JUMPDEST SWAP2 POP PUSH2 0x11A8 DUP3 DUP6 PUSH2 0x1086 JUMP JUMPDEST SWAP2 POP PUSH2 0x11B3 DUP3 PUSH2 0x10DE JUMP JUMPDEST SWAP2 POP PUSH2 0x11BF DUP3 DUP5 PUSH2 0x1112 JUMP JUMPDEST SWAP2 POP DUP2 SWAP1 POP SWAP4 SWAP3 POP POP POP JUMP JUMPDEST PUSH0 PUSH1 0x20 PUSH1 0x1F DUP4 ADD DIV SWAP1 POP SWAP2 SWAP1 POP JUMP JUMPDEST PUSH0 DUP3 DUP3 SHL SWAP1 POP SWAP3 SWAP2 POP POP JUMP JUMPDEST PUSH0 PUSH1 0x8 DUP4 MUL PUSH2 0x1215 PUSH32 0xFFFFFFFFFFFFFFFFFFFFFFFFFFFFFFFFFFFFFFFFFFFFFFFFFFFFFFFFFFFFFFFF DUP3 PUSH2 0x11DA JUMP JUMPDEST PUSH2 0x121F DUP7 DUP4 PUSH2 0x11DA JUMP JUMPDEST SWAP6 POP DUP1 NOT DUP5 AND SWAP4 POP DUP1 DUP7 AND DUP5 OR SWAP3 POP POP POP SWAP4 SWAP3 POP POP POP JUMP JUMPDEST PUSH0 DUP2 SWAP1 POP SWAP2 SWAP1 POP JUMP JUMPDEST PUSH0 PUSH2 0x125A PUSH2 0x1255 PUSH2 0x1250 DUP5 PUSH2 0xAB3 JUMP JUMPDEST PUSH2 0x1237 JUMP JUMPDEST PUSH2 0xAB3 JUMP JUMPDEST SWAP1 POP SWAP2 SWAP1 POP JUMP JUMPDEST PUSH0 DUP2 SWAP1 POP SWAP2 SWAP1 POP JUMP JUMPDEST PUSH2 0x1273 DUP4 PUSH2 0x1240 JUMP JUMPDEST PUSH2 0x1287 PUSH2 0x127F DUP3 PUSH2 0x1261 JUMP JUMPDEST DUP5 DUP5 SLOAD PUSH2 0x11E6 JUMP JUMPDEST DUP3 SSTORE POP POP POP POP JUMP JUMPDEST PUSH0 SWAP1 JUMP JUMPDEST PUSH2 0x129B PUSH2 0x128F JUMP JUMPDEST PUSH2 0x12A6 DUP2 DUP5 DUP5 PUSH2 0x126A JUMP JUMPDEST POP POP POP JUMP JUMPDEST JUMPDEST DUP2 DUP2 LT ISZERO PUSH2 0x12C9 JUMPI PUSH2 0x12BE PUSH0 DUP3 PUSH2 0x1293 JUMP JUMPDEST PUSH1 0x1 DUP2 ADD SWAP1 POP PUSH2 0x12AC JUMP JUMPDEST POP POP JUMP JUMPDEST PUSH1 0x1F DUP3 GT ISZERO PUSH2 0x130E JUMPI PUSH2 0x12DF DUP2 PUSH2 0x1100 JUMP JUMPDEST PUSH2 0x12E8 DUP5 PUSH2 0x11CB JUMP JUMPDEST DUP2 ADD PUSH1 0x20 DUP6 LT ISZERO PUSH2 0x12F7 JUMPI DUP2 SWAP1 POP JUMPDEST PUSH2 0x130B PUSH2 0x1303 DUP6 PUSH2 0x11CB JUMP JUMPDEST DUP4 ADD DUP3 PUSH2 0x12AB JUMP JUMPDEST POP POP JUMPDEST POP POP POP JUMP JUMPDEST PUSH0 DUP3 DUP3 SHR SWAP1 POP SWAP3 SWAP2 POP POP JUMP JUMPDEST PUSH0 PUSH2 0x132E PUSH0 NOT DUP5 PUSH1 0x8 MUL PUSH2 0x1313 JUMP JUMPDEST NOT DUP1 DUP4 AND SWAP2 POP POP SWAP3 SWAP2 POP POP JUMP JUMPDEST PUSH0 PUSH2 0x1346 DUP4 DUP4 PUSH2 0x131F JUMP JUMPDEST SWAP2 POP DUP3 PUSH1 0x2 MUL DUP3 OR SWAP1 POP SWAP3 SWAP2 POP POP JUMP JUMPDEST PUSH2 0x135F DUP3 PUSH2 0xA29 JUMP JUMPDEST PUSH8 0xFFFFFFFFFFFFFFFF DUP2 GT ISZERO PUSH2 0x1378 JUMPI PUSH2 0x1377 PUSH2 0xC8C JUMP JUMPDEST JUMPDEST PUSH2 0x1382 DUP3 SLOAD PUSH2 0xE37 JUMP JUMPDEST PUSH2 0x138D DUP3 DUP3 DUP6 PUSH2 0x12CD JUMP JUMPDEST PUSH0 PUSH1 0x20 SWAP1 POP PUSH1 0x1F DUP4 GT PUSH1 0x1 DUP2 EQ PUSH2 0x13BE JUMPI PUSH0 DUP5 ISZERO PUSH2 0x13AC JUMPI DUP3 DUP8 ADD MLOAD SWAP1 POP JUMPDEST PUSH2 0x13B6 DUP6 DUP3 PUSH2 0x133B JUMP JUMPDEST DUP7 SSTORE POP PUSH2 0x141D JUMP JUMPDEST PUSH1 0x1F NOT DUP5 AND PUSH2 0x13CC DUP7 PUSH2 0x1100 JUMP JUMPDEST PUSH0 JUMPDEST DUP3 DUP2 LT ISZERO PUSH2 0x13F3 JUMPI DUP5 DUP10 ADD MLOAD DUP3 SSTORE PUSH1 0x1 DUP3 ADD SWAP2 POP PUSH1 0x20 DUP6 ADD SWAP5 POP PUSH1 0x20 DUP2 ADD SWAP1 POP PUSH2 0x13CE JUMP JUMPDEST DUP7 DUP4 LT ISZERO PUSH2 0x1410 JUMPI DUP5 DUP10 ADD MLOAD PUSH2 0x140C PUSH1 0x1F DUP10 AND DUP3 PUSH2 0x131F JUMP JUMPDEST DUP4 SSTORE POP JUMPDEST PUSH1 0x1 PUSH1 0x2 DUP9 MUL ADD DUP9 SSTORE POP POP POP JUMPDEST POP POP POP POP POP POP JUMP JUMPDEST PUSH32 0x5265636569766564200000000000000000000000000000000000000000000000 PUSH0 DUP3 ADD MSTORE POP JUMP JUMPDEST PUSH0 PUSH2 0x1459 PUSH1 0x9 DUP4 PUSH2 0x1032 JUMP JUMPDEST SWAP2 POP PUSH2 0x1464 DUP3 PUSH2 0x1425 JUMP JUMPDEST PUSH1 0x9 DUP3 ADD SWAP1 POP SWAP2 SWAP1 POP JUMP JUMPDEST PUSH32 0x2062617272656C732066726F6D20000000000000000000000000000000000000 PUSH0 DUP3 ADD MSTORE POP JUMP JUMPDEST PUSH0 PUSH2 0x14A3 PUSH1 0xE DUP4 PUSH2 0x1032 JUMP JUMPDEST SWAP2 POP PUSH2 0x14AE DUP3 PUSH2 0x146F JUMP JUMPDEST PUSH1 0xE DUP3 ADD SWAP1 POP SWAP2 SWAP1 POP JUMP JUMPDEST PUSH0 PUSH2 0x14C3 DUP3 PUSH2 0x144D JUMP JUMPDEST SWAP2 POP PUSH2 0x14CF DUP3 DUP6 PUSH2 0x1086 JUMP JUMPDEST SWAP2 POP PUSH2 0x14DA DUP3 PUSH2 0x1497 JUMP JUMPDEST SWAP2 POP PUSH2 0x14E6 DUP3 DUP5 PUSH2 0x1112 JUMP JUMPDEST SWAP2 POP DUP2 SWAP1 POP SWAP4 SWAP3 POP POP POP JUMP JUMPDEST PUSH0 PUSH1 0x20 DUP3 ADD SWAP1 POP PUSH2 0x1505 PUSH0 DUP4 ADD DUP5 PUSH2 0xABC JUMP JUMPDEST SWAP3 SWAP2 POP POP JUMP JUMPDEST PUSH32 0x456E74697479206E616D652063616E6E6F7420626520656D7074790000000000 PUSH0 DUP3 ADD MSTORE POP JUMP JUMPDEST PUSH0 PUSH2 0x153F PUSH1 0x1B DUP4 PUSH2 0xA33 JUMP JUMPDEST SWAP2 POP PUSH2 0x154A DUP3 PUSH2 0x150B JUMP JUMPDEST PUSH1 0x20 DUP3 ADD SWAP1 POP SWAP2 SWAP1 POP JUMP JUMPDEST PUSH0 PUSH1 0x20 DUP3 ADD SWAP1 POP DUP2 DUP2 SUB PUSH0 DUP4 ADD MSTORE PUSH2 0x156C DUP2 PUSH2 0x1533 JUMP JUMPDEST SWAP1 POP SWAP2 SWAP1 POP JUMP JUMPDEST PUSH32 0x456E7469747920616C7265616479206578697374730000000000000000000000 PUSH0 DUP3 ADD MSTORE POP JUMP JUMPDEST PUSH0 PUSH2 0x15A7 PUSH1 0x15 DUP4 PUSH2 0xA33 JUMP JUMPDEST SWAP2 POP PUSH2 0x15B2 DUP3 PUSH2 0x1573 JUMP JUMPDEST PUSH1 0x20 DUP3 ADD SWAP1 POP SWAP2 SWAP1 POP JUMP JUMPDEST PUSH0 PUSH1 0x20 DUP3 ADD SWAP1 POP DUP2 DUP2 SUB PUSH0 DUP4 ADD MSTORE PUSH2 0x15D4 DUP2 PUSH2 0x159B JUMP JUMPDEST SWAP1 POP SWAP2 SWAP1 POP JUMP JUMPDEST PUSH0 PUSH1 0x20 DUP3 ADD SWAP1 POP DUP2 DUP2 SUB PUSH0 DUP4 ADD MSTORE PUSH2 0x15F3 DUP2 DUP5 PUSH2 0xA7B JUMP JUMPDEST SWAP1 POP SWAP3 SWAP2 POP POP JUMP JUMPDEST PUSH0 PUSH2 0x1605 DUP3 PUSH2 0xAB3 JUMP JUMPDEST SWAP2 POP PUSH32 0xFFFFFFFFFFFFFFFFFFFFFFFFFFFFFFFFFFFFFFFFFFFFFFFFFFFFFFFFFFFFFFFF DUP3 SUB PUSH2 0x1637 JUMPI PUSH2 0x1636 PUSH2 0xF9F JUMP JUMPDEST JUMPDEST PUSH1 0x1 DUP3 ADD SWAP1 POP SWAP2 SWAP1 POP JUMP JUMPDEST PUSH32 0x4E487B7100000000000000000000000000000000000000000000000000000000 PUSH0 MSTORE PUSH1 0x12 PUSH1 0x4 MSTORE PUSH1 0x24 PUSH0 REVERT JUMPDEST PUSH0 PUSH2 0x1679 DUP3 PUSH2 0xAB3 JUMP JUMPDEST SWAP2 POP PUSH2 0x1684 DUP4 PUSH2 0xAB3 JUMP JUMPDEST SWAP3 POP DUP3 PUSH2 0x1694 JUMPI PUSH2 0x1693 PUSH2 0x1642 JUMP JUMPDEST JUMPDEST DUP3 DUP3 DIV SWAP1 POP SWAP3 SWAP2 POP POP JUMP JUMPDEST PUSH0 DUP2 PUSH1 0x1 SHR SWAP1 POP SWAP2 SWAP1 POP JUMP JUMPDEST PUSH0 DUP1 DUP3 SWAP2 POP DUP4 SWAP1 POP JUMPDEST PUSH1 0x1 DUP6 GT ISZERO PUSH2 0x16F4 JUMPI DUP1 DUP7 DIV DUP2 GT ISZERO PUSH2 0x16D0 JUMPI PUSH2 0x16CF PUSH2 0xF9F JUMP JUMPDEST JUMPDEST PUSH1 0x1 DUP6 AND ISZERO PUSH2 0x16DF JUMPI DUP1 DUP3 MUL SWAP2 POP JUMPDEST DUP1 DUP2 MUL SWAP1 POP PUSH2 0x16ED DUP6 PUSH2 0x169F JUMP JUMPDEST SWAP5 POP PUSH2 0x16B4 JUMP JUMPDEST SWAP5 POP SWAP5 SWAP3 POP POP POP JUMP JUMPDEST PUSH0 DUP3 PUSH2 0x170C JUMPI PUSH1 0x1 SWAP1 POP PUSH2 0x17C7 JUMP JUMPDEST DUP2 PUSH2 0x1719 JUMPI PUSH0 SWAP1 POP PUSH2 0x17C7 JUMP JUMPDEST DUP2 PUSH1 0x1 DUP2 EQ PUSH2 0x172F JUMPI PUSH1 0x2 DUP2 EQ PUSH2 0x1739 JUMPI PUSH2 0x1768 JUMP JUMPDEST PUSH1 0x1 SWAP2 POP POP PUSH2 0x17C7 JUMP JUMPDEST PUSH1 0xFF DUP5 GT ISZERO PUSH2 0x174B JUMPI PUSH2 0x174A PUSH2 0xF9F JUMP JUMPDEST JUMPDEST DUP4 PUSH1 0x2 EXP SWAP2 POP DUP5 DUP3 GT ISZERO PUSH2 0x1762 JUMPI PUSH2 0x1761 PUSH2 0xF9F JUMP JUMPDEST JUMPDEST POP PUSH2 0x17C7 JUMP JUMPDEST POP PUSH1 0x20 DUP4 LT PUSH2 0x133 DUP4 LT AND PUSH1 0x4E DUP5 LT PUSH1 0xB DUP5 LT AND OR ISZERO PUSH2 0x179D JUMPI DUP3 DUP3 EXP SWAP1 POP DUP4 DUP2 GT ISZERO PUSH2 0x1798 JUMPI PUSH2 0x1797 PUSH2 0xF9F JUMP JUMPDEST JUMPDEST PUSH2 0x17C7 JUMP JUMPDEST PUSH2 0x17AA DUP5 DUP5 DUP5 PUSH1 0x1 PUSH2 0x16AB JUMP JUMPDEST SWAP3 POP SWAP1 POP DUP2 DUP5 DIV DUP2 GT ISZERO PUSH2 0x17C1 JUMPI PUSH2 0x17C0 PUSH2 0xF9F JUMP JUMPDEST JUMPDEST DUP2 DUP2 MUL SWAP1 POP JUMPDEST SWAP4 SWAP3 POP POP POP JUMP JUMPDEST PUSH0 PUSH2 0x17D8 DUP3 PUSH2 0xAB3 JUMP JUMPDEST SWAP2 POP PUSH2 0x17E3 DUP4 PUSH2 0xAB3 JUMP JUMPDEST SWAP3 POP PUSH2 0x1810 PUSH32 0xFFFFFFFFFFFFFFFFFFFFFFFFFFFFFFFFFFFFFFFFFFFFFFFFFFFFFFFFFFFFFFFF DUP5 DUP5 PUSH2 0x16FD JUMP JUMPDEST SWAP1 POP SWAP3 SWAP2 POP POP JUMP JUMPDEST PUSH0 PUSH2 0x1822 DUP3 PUSH2 0xAB3 JUMP JUMPDEST SWAP2 POP PUSH2 0x182D DUP4 PUSH2 0xAB3 JUMP JUMPDEST SWAP3 POP DUP3 PUSH2 0x183D JUMPI PUSH2 0x183C PUSH2 0x1642 JUMP JUMPDEST JUMPDEST DUP3 DUP3 MOD SWAP1 POP SWAP3 SWAP2 POP POP JUMP JUMPDEST PUSH32 0x4E487B7100000000000000000000000000000000000000000000000000000000 PUSH0 MSTORE PUSH1 0x32 PUSH1 0x4 MSTORE PUSH1 0x24 PUSH0 REVERT INVALID LOG2 PUSH5 0x6970667358 0x22 SLT KECCAK256 0xDC 0xAB LOG1 SELFBALANCE 0xD2 COINBASE 0xD4 0xCD 0x2A 0xA5 SWAP5 SWAP13 DUP10 0xA5 0xE 0xB7 DUP13 PUSH6 0xEE76A710B9BD SWAP3 0xE8 0xC7 BASEFEE PUSH4 0x6D566A64 PUSH20 0x6F6C634300081400330000000000000000000000 ',\n",
       "      'sourceMap': '57:2552:0:-:0;;;;;;;;;;;;;;;;;;;'}},\n",
       "    'metadata': '{\"compiler\":{\"version\":\"0.8.20+commit.a1b79de6\"},\"language\":\"Solidity\",\"output\":{\"abi\":[{\"anonymous\":false,\"inputs\":[{\"indexed\":true,\"internalType\":\"address\",\"name\":\"entityAddress\",\"type\":\"address\"},{\"indexed\":false,\"internalType\":\"string\",\"name\":\"name\",\"type\":\"string\"}],\"name\":\"EntityCreated\",\"type\":\"event\"},{\"anonymous\":false,\"inputs\":[{\"indexed\":true,\"internalType\":\"address\",\"name\":\"fromEntity\",\"type\":\"address\"},{\"indexed\":true,\"internalType\":\"address\",\"name\":\"toEntity\",\"type\":\"address\"},{\"indexed\":false,\"internalType\":\"uint256\",\"name\":\"amount\",\"type\":\"uint256\"}],\"name\":\"EntityTransacted\",\"type\":\"event\"},{\"inputs\":[{\"internalType\":\"string\",\"name\":\"name\",\"type\":\"string\"},{\"internalType\":\"uint256\",\"name\":\"barrelValue\",\"type\":\"uint256\"}],\"name\":\"createEntity\",\"outputs\":[],\"stateMutability\":\"nonpayable\",\"type\":\"function\"},{\"inputs\":[{\"internalType\":\"address\",\"name\":\"\",\"type\":\"address\"}],\"name\":\"entities\",\"outputs\":[{\"internalType\":\"string\",\"name\":\"name\",\"type\":\"string\"},{\"internalType\":\"uint256\",\"name\":\"barrelValue\",\"type\":\"uint256\"}],\"stateMutability\":\"view\",\"type\":\"function\"},{\"inputs\":[],\"name\":\"getTransactionHistory\",\"outputs\":[{\"internalType\":\"string[]\",\"name\":\"\",\"type\":\"string[]\"}],\"stateMutability\":\"view\",\"type\":\"function\"},{\"inputs\":[{\"internalType\":\"address\",\"name\":\"to\",\"type\":\"address\"},{\"internalType\":\"uint256\",\"name\":\"amount\",\"type\":\"uint256\"}],\"name\":\"transferBarrels\",\"outputs\":[],\"stateMutability\":\"nonpayable\",\"type\":\"function\"}],\"devdoc\":{\"kind\":\"dev\",\"methods\":{},\"version\":1},\"userdoc\":{\"kind\":\"user\",\"methods\":{},\"version\":1}},\"settings\":{\"compilationTarget\":{\"oil_and_gas.sol\":\"SupplyChain\"},\"evmVersion\":\"shanghai\",\"libraries\":{},\"metadata\":{\"bytecodeHash\":\"ipfs\"},\"optimizer\":{\"enabled\":false,\"runs\":200},\"remappings\":[]},\"sources\":{\"oil_and_gas.sol\":{\"keccak256\":\"0x169ff5a804088ed67105ed61a6b10bda06fe534b8549fe7b314e57113ae5aca7\",\"license\":\"MIT\",\"urls\":[\"bzz-raw://d922943ab3eab6c665a32237a8239849c63ab5fcf488c32d7890e5cf83998fb2\",\"dweb:/ipfs/QmQiFS2HnDkqAN6gJ7voUwy6ysuCsjzHqspjgwmyFBWgtp\"]}},\"version\":1}'}}},\n",
       " 'sources': {'oil_and_gas.sol': {'id': 0}}}"
      ]
     },
     "execution_count": 33,
     "metadata": {},
     "output_type": "execute_result"
    }
   ],
   "source": [
    "smrt_contract = smartContract(con)\n",
    "sol = smrt_contract.load_compile_solidity()\n",
    "sol"
   ]
  },
  {
   "cell_type": "code",
   "execution_count": 34,
   "id": "69f94fd4-f924-4ad4-87fb-b6a24292e4c8",
   "metadata": {},
   "outputs": [
    {
     "data": {
      "text/plain": [
       "web3._utils.datatypes.Contract"
      ]
     },
     "execution_count": 34,
     "metadata": {},
     "output_type": "execute_result"
    }
   ],
   "source": [
    "oil_contract = smrt_contract.build_oil_gas_contract()\n",
    "oil_contract"
   ]
  },
  {
   "cell_type": "code",
   "execution_count": 35,
   "id": "91489d63-78af-4ab3-8a19-b0365c91547d",
   "metadata": {},
   "outputs": [
    {
     "name": "stdout",
     "output_type": "stream",
     "text": [
      "Operation perfromed successfully...\n"
     ]
    },
    {
     "data": {
      "text/plain": [
       "AttributeDict({'blockHash': HexBytes('0x9fd2444f347e43f8c1d87b6e65a33dd2ee33a2f612ebe0602081bbe4e848b5f0'),\n",
       " 'blockNumber': 9905475,\n",
       " 'contractAddress': '0x07b6bc88d021f4882D017AAB550D12B540F7c267',\n",
       " 'cumulativeGasUsed': 10994832,\n",
       " 'effectiveGasPrice': 1048,\n",
       " 'from': '0x865eD5591EbED9F689dAFC25fEe10BB16fBD9883',\n",
       " 'gasUsed': 1413815,\n",
       " 'logs': [],\n",
       " 'logsBloom': HexBytes('0x00000000000000000000000000000000000000000000000000000000000000000000000000000000000000000000000000000000000000000000000000000000000000000000000000000000000000000000000000000000000000000000000000000000000000000000000000000000000000000000000000000000000000000000000000000000000000000000000000000000000000000000000000000000000000000000000000000000000000000000000000000000000000000000000000000000000000000000000000000000000000000000000000000000000000000000000000000000000000000000000000000000000000000000000000000000'),\n",
       " 'status': 1,\n",
       " 'to': None,\n",
       " 'transactionHash': HexBytes('0x99ff34580e3d5a5e5dae52e40bd278f8ee571710c1737ef182b28745d015efd4'),\n",
       " 'transactionIndex': 65,\n",
       " 'type': 0})"
      ]
     },
     "execution_count": 35,
     "metadata": {},
     "output_type": "execute_result"
    }
   ],
   "source": [
    "reciept, transac = smrt_contract.deploy_smart_contract(wallet_address, private_key, oil_contract, chainId)\n",
    "reciept"
   ]
  },
  {
   "cell_type": "code",
   "execution_count": null,
   "id": "81f78689-b8f8-45d9-a1a6-7cd68fb12d61",
   "metadata": {},
   "outputs": [],
   "source": []
  },
  {
   "cell_type": "code",
   "execution_count": 36,
   "id": "f17438f1-651c-4248-81af-cd5018974601",
   "metadata": {},
   "outputs": [
    {
     "name": "stdout",
     "output_type": "stream",
     "text": [
      "Operation perfromed successfully...\n"
     ]
    }
   ],
   "source": [
    "# save contract and contract address info.. \n",
    "# Function to save data to a JSON file\n",
    "def save_contract_metadata(json_data, json_filename, text_data, text_filename):\n",
    "\n",
    "    try:\n",
    "        # save the smart contract compile file as json\n",
    "        with open(json_filename, 'w') as json_file:\n",
    "            json.dump(json_data, json_file)\n",
    "    \n",
    "        # saving contract address... after deployment \n",
    "        with open(text_filename, 'w') as text_file:\n",
    "            text_file.write(text_data)\n",
    "        \n",
    "        print(\"Operation perfromed successfully...\")\n",
    "    except Exception as e: \n",
    "        print(\"Operation Failed... \", e)\n",
    "\n",
    "\n",
    "# Function to load data from a JSON file\n",
    "def load_contract_metadata(json_filename, text_filename):\n",
    "\n",
    "    try: \n",
    "        with open(json_filename, 'r') as json_file:\n",
    "            j_data = json.load(json_file)\n",
    "    \n",
    "    \n",
    "        with open(text_filename, 'r') as text_file:\n",
    "            t_data = text_file.read()\n",
    "    \n",
    "    \n",
    "        return j_data, t_data\n",
    "        print(\"Operation Perfromed Successfully...\")\n",
    "    except: \n",
    "        print(\"Operation Failed.....\")\n",
    "        \n",
    "\n",
    "\n",
    "save_contract_metadata(sol, \"oil_gas_solfile.json\", reciept.contractAddress, 'contractAddress.txt')\n",
    "jsonfile, txtfile = load_contract_metadata(\"oil_gas_solfile.json\", 'contractAddress.txt')"
   ]
  },
  {
   "cell_type": "code",
   "execution_count": null,
   "id": "a9e4d4a5-b4b5-4e51-b1a8-1065990a3473",
   "metadata": {},
   "outputs": [],
   "source": []
  },
  {
   "cell_type": "code",
   "execution_count": 37,
   "id": "e5f8b435-752a-4ed5-ae85-ed80ce41aba0",
   "metadata": {},
   "outputs": [],
   "source": [
    "# Buiding functionality to store Contract Address and ABI code... \n",
    "# deplying smart contract should be conducted onece by the adminer\n",
    "# type(smrt_contract.abi)\n",
    "# smrt_contract.abi\n",
    "# con.eth.get_transaction_count()\n"
   ]
  },
  {
   "cell_type": "code",
   "execution_count": 38,
   "id": "263c796f-5cfc-4558-b748-d02bb5b69084",
   "metadata": {},
   "outputs": [
    {
     "data": {
      "text/plain": [
       "<web3._utils.datatypes.Contract at 0x152dafa4610>"
      ]
     },
     "execution_count": 38,
     "metadata": {},
     "output_type": "execute_result"
    }
   ],
   "source": [
    "oil_obj = smrt_contract.contract_interaction_object()\n",
    "oil_obj"
   ]
  },
  {
   "cell_type": "code",
   "execution_count": 39,
   "id": "0d194496-bd8d-4dbc-8890-19c256f27550",
   "metadata": {},
   "outputs": [
    {
     "data": {
      "text/plain": [
       "1"
      ]
     },
     "execution_count": 39,
     "metadata": {},
     "output_type": "execute_result"
    }
   ],
   "source": [
    "con.eth.get_transaction_count(reciept.contractAddress)"
   ]
  },
  {
   "cell_type": "code",
   "execution_count": 40,
   "id": "059b5ca1-c975-4936-907c-13d9ec3ae054",
   "metadata": {},
   "outputs": [
    {
     "data": {
      "text/plain": [
       "AttributeDict({'blockHash': HexBytes('0xccffc3eaa2f73004fd7caa3326adea62f881d50ce76070913e365c7a178b74fc'),\n",
       " 'blockNumber': 9905476,\n",
       " 'contractAddress': None,\n",
       " 'cumulativeGasUsed': 8013721,\n",
       " 'effectiveGasPrice': 1049,\n",
       " 'from': '0x865eD5591EbED9F689dAFC25fEe10BB16fBD9883',\n",
       " 'gasUsed': 72961,\n",
       " 'logs': [AttributeDict({'address': '0x07b6bc88d021f4882D017AAB550D12B540F7c267',\n",
       "   'blockHash': HexBytes('0xccffc3eaa2f73004fd7caa3326adea62f881d50ce76070913e365c7a178b74fc'),\n",
       "   'blockNumber': 9905476,\n",
       "   'data': HexBytes('0x0000000000000000000000000000000000000000000000000000000000000020000000000000000000000000000000000000000000000000000000000000000773686970696e6700000000000000000000000000000000000000000000000000'),\n",
       "   'logIndex': 191,\n",
       "   'removed': False,\n",
       "   'topics': [HexBytes('0x30888466bd8fad834d69f9ebf05d3c6cba765e925b74f1a12a48749d59679ba6'),\n",
       "    HexBytes('0x000000000000000000000000865ed5591ebed9f689dafc25fee10bb16fbd9883')],\n",
       "   'transactionHash': HexBytes('0x485a464afd704e90bd0e93e816f211853ae96af97d7079f0a6eb6d8a5cc08c4f'),\n",
       "   'transactionIndex': 91})],\n",
       " 'logsBloom': HexBytes('0x00000000000000000000000000000000000000000000000000000080000000000800000000000000000000000000000000000000000000000000000000000002000000000000000000000000000000000000000000000000000000000000000000000000000000008000000000000000000000000000000000000000000000000000000000000000000000000000000000000000000000000000000000080000000000000000000000000000000000000000008000000000000000000000000008080000000000000200000000000000000000000000000000000000000000000000000000000000000000000000000000000000000000000000000000000000'),\n",
       " 'status': 1,\n",
       " 'to': '0x07b6bc88d021f4882D017AAB550D12B540F7c267',\n",
       " 'transactionHash': HexBytes('0x485a464afd704e90bd0e93e816f211853ae96af97d7079f0a6eb6d8a5cc08c4f'),\n",
       " 'transactionIndex': 91,\n",
       " 'type': 0})"
      ]
     },
     "execution_count": 40,
     "metadata": {},
     "output_type": "execute_result"
    }
   ],
   "source": [
    "responce = smrt_contract.createEntity(\"shiping\", 3, wallet_address)\n",
    "responce"
   ]
  },
  {
   "cell_type": "code",
   "execution_count": 46,
   "id": "c61172ad-f72f-417b-9d56-cb44fce239c9",
   "metadata": {},
   "outputs": [
    {
     "data": {
      "text/plain": [
       "[]"
      ]
     },
     "execution_count": 46,
     "metadata": {},
     "output_type": "execute_result"
    }
   ],
   "source": [
    "def transferBarrels(wallet_address, barrel_value): \n",
    "    # building transaction...........\n",
    "    trx = oil_obj.functions.transferBarrels(wallet_address, 2).build_transaction(\n",
    "    {'gasPrice':con.eth.gas_price, 'chainId':chainId, 'from':wallet_address, 'nonce':con.eth.get_transaction_count(wallet_address)}\n",
    "    )\n",
    "\n",
    "    # signing the transaction........\n",
    "    trx_sign = con.eth.account.sign_transaction(trx, private_key)\n",
    "    trx_sign_raw = con.eth.send_raw_transaction(trx_sign.rawTransaction)\n",
    "    trx_sign_raw\n",
    "\n",
    "    # getting transaction reciept.......\n",
    "    trx_reciept = con.eth.wait_for_transaction_receipt(trx_sign_raw)\n",
    "    \n",
    "    return trx_reciept\n",
    "\n",
    "# transferBarrels(wallet_address, 2)\n",
    "\n",
    "def transactionHistory(wallet_address):\n",
    "    # building transaction...........\n",
    "    # history = oil_obj.functions.getTransactionHistory().call()\n",
    "    transaction_history = contract.functions.getTransactionHistory().call({'from': wallet_address})\n",
    "\n",
    "    return transaction_history\n",
    "\n",
    "transactionHistory(wallet_address)"
   ]
  },
  {
   "cell_type": "code",
   "execution_count": 42,
   "id": "0d9c06ce-f861-41fb-9afd-f28e929d4de0",
   "metadata": {},
   "outputs": [],
   "source": [
    "# Genearl function to interact with the solidity function\n",
    "\n",
    "# helper method to create a new chain on the block\n",
    "def createEntity(entity_name, barrel_value): \n",
    "    # building transaction...........\n",
    "    trx = oil_obj.functions.createEntity(\"shipping\", 0).build_transaction(\n",
    "    {'gasPrice':con.eth.gas_price, 'chainId':chainId, 'from':wallet_address, 'nonce':con.eth.get_transaction_count(wallet_address)}\n",
    "    )\n",
    "\n",
    "    # signing the transaction........\n",
    "    trx_sign = con.eth.account.sign_transaction(trx, private_key)\n",
    "    trx_sign_raw = con.eth.send_raw_transaction(trx_sign.rawTransaction)\n",
    "    trx_sign_raw\n",
    "\n",
    "    # getting transaction reciept.......\n",
    "    trx_reciept = con.eth.wait_for_transaction_receipt(trx_sign_raw)\n",
    "    \n",
    "    return trx_reciept\n",
    "\n",
    "\n",
    "# receipt = createEntity(\"market\", 3)\n",
    "# reciept"
   ]
  },
  {
   "cell_type": "code",
   "execution_count": null,
   "id": "31b1a741-9a6d-4820-ae08-a3b023ee5e91",
   "metadata": {
    "scrolled": true
   },
   "outputs": [],
   "source": []
  }
 ],
 "metadata": {
  "kernelspec": {
   "display_name": "Python 3 (ipykernel)",
   "language": "python",
   "name": "python3"
  },
  "language_info": {
   "codemirror_mode": {
    "name": "ipython",
    "version": 3
   },
   "file_extension": ".py",
   "mimetype": "text/x-python",
   "name": "python",
   "nbconvert_exporter": "python",
   "pygments_lexer": "ipython3",
   "version": "3.9.5"
  }
 },
 "nbformat": 4,
 "nbformat_minor": 5
}
