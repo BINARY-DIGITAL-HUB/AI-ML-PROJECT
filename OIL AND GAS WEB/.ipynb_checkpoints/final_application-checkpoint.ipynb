{
 "cells": [
  {
   "cell_type": "code",
   "execution_count": 1,
   "id": "49e5d23c-0ac8-465a-9364-0f4fb52147b4",
   "metadata": {},
   "outputs": [],
   "source": [
    "from solcx import compile_standard\n",
    "import json\n",
    "from web3 import Web3\n",
    "from web3 import EthereumTesterProvider"
   ]
  },
  {
   "cell_type": "markdown",
   "id": "3910917c-82d8-4e88-98e0-54e705d129c3",
   "metadata": {},
   "source": [
    "# APPLICATION IMPLEMENTATION"
   ]
  },
  {
   "cell_type": "code",
   "execution_count": 2,
   "id": "2d425d88-32c1-4cbc-9e1f-bd1aa2955d4d",
   "metadata": {},
   "outputs": [],
   "source": [
    "# creating a reusable  blockchain connection function\n",
    "\n",
    "connection_url = 'https://goerli.infura.io/v3/e44ef8108a8542fcbb93940652bea43d'\n",
    "\n",
    "class Blockchain_Link: \n",
    "    \n",
    "    def __init__(self):\n",
    "        self.wb3 = None\n",
    "\n",
    "    def isConnected(self, w3): \n",
    "        if w3.is_connected(): \n",
    "            return  True, w3\n",
    "        else: \n",
    "            return False, \"\"\n",
    "    \n",
    "    # return status and connection object for tester network\n",
    "    def connectTestNetwork(self): \n",
    "        return self.isConnected(Web3(EthereumTesterProvider()))\n",
    "       \n",
    "\n",
    "    def connectBlockchainNetwork(self, url=\"\", is_remote=False): \n",
    "        \n",
    "        if is_remote:\n",
    "            print(\"========= Establishing connection To Remote Database =========\")\n",
    "            return self.isConnected(Web3(Web3.HTTPProvider(url)))\n",
    "        else:\n",
    "            print(\"========= Establishing connection To Local Database =========\")\n",
    "            return self.isConnected(Web3(Web3.HTTPProvider(url)))\n",
    "\n",
    "\n",
    "\n",
    "blink = Blockchain_Link()"
   ]
  },
  {
   "cell_type": "code",
   "execution_count": null,
   "id": "706e5bc7-89fb-4498-8dad-e14baf639143",
   "metadata": {},
   "outputs": [],
   "source": []
  },
  {
   "cell_type": "code",
   "execution_count": 16,
   "id": "88c8229d-fabf-4659-baad-5c26b6b9fcd5",
   "metadata": {},
   "outputs": [],
   "source": [
    "# General function to deploy any smart contract\n",
    "wallet_address = '0x865eD5591EbED9F689dAFC25fEe10BB16fBD9883'\n",
    "private_key = '0x'+'cdd135c8c5b390757003b4a5a5df4c45aee24a1ff7540df0171b3deeb7d81b0b'\n",
    "chainId = 5\n",
    "\n",
    "class smartContract():\n",
    "\n",
    "    def __init__(self, connection): \n",
    "        self.con = connection\n",
    "\n",
    "    \n",
    "\n",
    "    def load_compile_solidity(self):\n",
    "        # import solidity file\n",
    "        # load solidity file\n",
    "        og_file = 'oil_and_gas.sol'\n",
    "        with open(og_file, 'r') as file: \n",
    "            og_sol = file.read()\n",
    "        # ================================\n",
    "        # using compile standard to compile the solidity code\n",
    "        compiled_sol = compile_standard({\n",
    "                \"language\":\"Solidity\", \n",
    "                'sources':{'oil_and_gas.sol':{'content':og_sol}}, \n",
    "                'settings':{'outputSelection':{'*':{'*':['abi', 'metadata', 'evm.bytecode', 'evm.sourceMap']}}}\n",
    "        }, solc_version='0.8.20')\n",
    "\n",
    "        # accessing ABI and bytecode... \n",
    "        self.abi = compiled_sol['contracts']['oil_and_gas.sol']['SupplyChain']['abi']\n",
    "        self.bytecode = compiled_sol['contracts']['oil_and_gas.sol']['SupplyChain']['evm']['bytecode']['object']\n",
    "        self.compiled_sol = compiled_sol ;\n",
    "        return compiled_sol\n",
    "\n",
    "    # this function take in the compile solidity and return a \n",
    "    # object contract for deployment......\n",
    "    def build_oil_gas_contract(self):       \n",
    "        og_contract = self.con.eth.contract(abi=self.abi, bytecode=self.bytecode)\n",
    "        return og_contract\n",
    "\n",
    "    # this function helps in deploying the smart contract.. \n",
    "    # acc_address (USER account use in deploying)\n",
    "    # p_key -> the primary key of the sender \n",
    "    # contract -> cantract to be deployed\n",
    "    # chain id , nouce and connection (the blockchain connection)\n",
    "    # it return traction reciept and transaction json data... \n",
    "    def deploy_smart_contract(self, acc_address, p_key, chain_id, contract):\n",
    "        # # load solidity code\n",
    "        # self.load_compile_solidity()\n",
    "        # print(\"solidity loaded successfully\")\n",
    "        # # build the contract \n",
    "        # contract = self.build_oil_gas_contract()\n",
    "        # print(\"building oil and gas contract successfully...\")\n",
    "        # get nounce\n",
    "        nonce = self.con.eth.get_transaction_count(acc_address)\n",
    "        print(self.con.eth.gas_price, nonce)\n",
    "        # buid transaction\n",
    "        transaction = contract.constructor().build_transaction({'gasPrice':self.con.eth.gas_price, 'chainId':chain_id, 'from':acc_address, 'nonce':nonce})\n",
    "        # sign transaction\n",
    "        signed_transaction = self.con.eth.account.sign_transaction(transaction, private_key=p_key)\n",
    "        \n",
    "        # getting reciept\n",
    "        transact_hash = self.con.eth.send_raw_transaction(signed_transaction.rawTransaction)\n",
    "        trans_reciept = self.con.eth.wait_for_transaction_receipt(transact_hash)\n",
    "        self.contract_address = trans_reciept.contractAddress\n",
    "        # save.. (abi code, and contract address)...\n",
    "        self.save_contract_metadata(self.compiled_sol, \"oil_gas_solfile.json\", trans_reciept.contractAddress, 'contractAddress.txt')\n",
    "        # return reciept....\n",
    "        print(\"BLOCKCHAIN DEPLOY SUCCESSFULLY....\")\n",
    "        return trans_reciept, transaction\n",
    "\n",
    "    # save contract and contract address info.. \n",
    "    # Function to save data to a JSON file\n",
    "    def save_contract_metadata(self, json_data, json_filename, text_data, text_filename):\n",
    "    \n",
    "        try:\n",
    "            # save the smart contract compile file as json\n",
    "            with open(json_filename, 'w') as json_file:\n",
    "                json.dump(json_data, json_file)\n",
    "        \n",
    "            # saving contract address... after deployment \n",
    "            with open(text_filename, 'w') as text_file:\n",
    "                text_file.write(text_data)\n",
    "            \n",
    "            print(\"Operation perfromed successfully...\")\n",
    "        except Exception as e: \n",
    "            print(\"Operation Failed... \", e)\n",
    "    \n",
    "    \n",
    "    # Function to load data from a JSON file\n",
    "    def load_contract_metadata(self, json_filename, text_filename):\n",
    "    \n",
    "        try: \n",
    "            with open(json_filename, 'r') as json_file:\n",
    "                j_data = json.load(json_file)\n",
    "        \n",
    "        \n",
    "            with open(text_filename, 'r') as text_file:\n",
    "                t_data = text_file.read()\n",
    "        \n",
    "        \n",
    "            return j_data, t_data\n",
    "            print(\"Operation Perfromed Successfully...\")\n",
    "        except: \n",
    "            print(\"Operation Failed.....\")\n",
    "            return \"\", \"\"\n",
    "            \n",
    "\n",
    "# =========================================================================\n",
    "                    # interacting with smart contract #\n",
    "    #  with contract address and ABI code the contract can be intantiated... #\n",
    "# =========================================================================\n",
    "    \n",
    "    \n",
    "    # create an object to interact with the smart contract... \n",
    "    def contract_interaction_object(self):\n",
    "        solidity_json, address = self.load_contract_metadata(\"oil_gas_solfile.json\", 'contractAddress.txt')\n",
    "        abi = solidity_json['contracts']['oil_and_gas.sol']['SupplyChain']['abi']\n",
    "        con_obj = self.con.eth.contract(address=address, abi=abi)\n",
    "        return con_obj \n",
    "\n",
    "\n",
    "    # helper method to create a new entity on the smart contract chain on the block\n",
    "    def createEntity(self, entity_name, barrel_value, sender): \n",
    "        oil_obj = self.contract_interaction_object()\n",
    "        # building transaction...........\n",
    "        trx = oil_obj.functions.createEntity(entity_name, barrel_value).build_transaction(\n",
    "        {'gasPrice':self.con.eth.gas_price, 'chainId':chainId, 'from':sender, 'nonce':self.con.eth.get_transaction_count(sender)}\n",
    "        )\n",
    "\n",
    "        # self.con.eth.get_transaction_count(self.contract_address)\n",
    "        # signing the transaction........\n",
    "        trx_sign = self.con.eth.account.sign_transaction(trx, private_key)\n",
    "        trx_sign_raw = self.con.eth.send_raw_transaction(trx_sign.rawTransaction)\n",
    "        trx_sign_raw\n",
    "    \n",
    "        # getting transaction reciept.......\n",
    "        trx_reciept = self.con.eth.wait_for_transaction_receipt(trx_sign_raw)\n",
    "        \n",
    "        return trx_reciept\n",
    "\n",
    "\n",
    "\n",
    "    # helper method to transfer a barrel from one entity to another.. \n",
    "    def transferBarrels(self, reciever_address, barrel_value, sender): \n",
    "        oil_obj = self.contract_interaction_object()\n",
    "        # building transaction...........\n",
    "        trx = oil_obj.functions.transferBarrels(reciever_address, barrel_value).build_transaction(\n",
    "        {'gasPrice':self.con.eth.gas_price + 1000, 'chainId':chainId, 'from':sender, 'nonce':self.con.eth.get_transaction_count(sender)}\n",
    "        )\n",
    "\n",
    "        # self.con.eth.get_transaction_count(self.contract_address)\n",
    "        # signing the transaction........\n",
    "        trx_sign = self.con.eth.account.sign_transaction(trx, private_key)\n",
    "        trx_sign_raw = self.con.eth.send_raw_transaction(trx_sign.rawTransaction)\n",
    "        trx_sign_raw\n",
    "    \n",
    "        # getting transaction reciept.......\n",
    "        trx_reciept = self.con.eth.wait_for_transaction_receipt(trx_sign_raw)\n",
    "        \n",
    "        return trx_reciept\n",
    "\n",
    "\n",
    "    def transactionHistory(self, wallet_address):\n",
    "        # building transaction...........\n",
    "        # history = oil_obj.functions.getTransactionHistory().call()\n",
    "        transaction_history = oil_obj.functions.getTransactionHistory().call({'from': wallet_address})\n",
    "    \n",
    "        return transaction_history"
   ]
  },
  {
   "cell_type": "markdown",
   "id": "d7de58dc-7927-4bc4-885f-93a6ac6014e3",
   "metadata": {},
   "source": [
    "### APPLICATION USAGE"
   ]
  },
  {
   "cell_type": "code",
   "execution_count": 4,
   "id": "56a70982-2b00-4121-a915-85c76e4ee0cd",
   "metadata": {},
   "outputs": [],
   "source": [
    "# CONNECTION TO BLOCKCHAIN NODE... VIA PYTHON....."
   ]
  },
  {
   "cell_type": "code",
   "execution_count": 4,
   "id": "5ef09c7f-fa8d-4036-9ef8-5009f8204f9b",
   "metadata": {},
   "outputs": [
    {
     "name": "stdin",
     "output_type": "stream",
     "text": [
      "Enter blockchain URL: https://goerli.infura.io/v3/e44ef8108a8542fcbb93940652bea43d\n"
     ]
    },
    {
     "name": "stdout",
     "output_type": "stream",
     "text": [
      "========= Establishing connection To Remote Database =========\n",
      "Connection Successfull\n",
      "<web3.main.Web3 object at 0x000002129B1F0AF0>\n"
     ]
    }
   ],
   "source": [
    "# \"HTTP://127.0.0.1:7545\"\n",
    "# connection_url = 'https://goerli.infura.io/v3/e44ef8108a8542fcbb93940652bea43d'\n",
    "# establishing connection\n",
    "# establishing connection.......\n",
    "url = input(\"Enter blockchain URL:\")\n",
    "st , con = blink.connectBlockchainNetwork(url, is_remote=True)\n",
    "if st: \n",
    "    print('Connection Successfull')\n",
    "    print(con)\n",
    "else:\n",
    "    print(\"Invalid Connection\")"
   ]
  },
  {
   "cell_type": "code",
   "execution_count": null,
   "id": "ee5f5c1e-838f-442e-a254-d16c9a18a2a1",
   "metadata": {},
   "outputs": [],
   "source": []
  },
  {
   "cell_type": "code",
   "execution_count": 6,
   "id": "72477d60-8071-44f3-9bc3-021fce43c66c",
   "metadata": {},
   "outputs": [],
   "source": [
    "#DEPLOY SMART CONTRACT"
   ]
  },
  {
   "cell_type": "code",
   "execution_count": 5,
   "id": "679c976f-4b54-4b93-91b1-0a4f05d6617f",
   "metadata": {
    "scrolled": true
   },
   "outputs": [
    {
     "name": "stdout",
     "output_type": "stream",
     "text": [
      "1039 38\n",
      "Operation perfromed successfully...\n",
      "BLOCKCHAIN DEPLOY SUCCESSFULLY....\n",
      "\n",
      "=======================================================================\n",
      "                TRANSACTION RECIEPT FOR CONTRACT DEPLOYMENT\n",
      "=======================================================================\n",
      "\n",
      "Contract Deploy Successfully Transaction Reciept (AttributeDict({'blockHash': HexBytes('0xae19d3c3692854a7fb0b43b62f75254e8b79bd3e0a3f4298d88249085213c707'), 'blockNumber': 9907843, 'contractAddress': '0x8AA4241e7FD418dBAb2b53687aa0BD9f71279895', 'cumulativeGasUsed': 8032749, 'effectiveGasPrice': 1039, 'from': '0x865eD5591EbED9F689dAFC25fEe10BB16fBD9883', 'gasUsed': 1413815, 'logs': [], 'logsBloom': HexBytes('0x00000000000000000000000000000000000000000000000000000000000000000000000000000000000000000000000000000000000000000000000000000000000000000000000000000000000000000000000000000000000000000000000000000000000000000000000000000000000000000000000000000000000000000000000000000000000000000000000000000000000000000000000000000000000000000000000000000000000000000000000000000000000000000000000000000000000000000000000000000000000000000000000000000000000000000000000000000000000000000000000000000000000000000000000000000000'), 'status': 1, 'to': None, 'transactionHash': HexBytes('0xf0ee6229bbb95418eada16eb4180f86b38b7bb966fa2338593c226df56f4c849'), 'transactionIndex': 51, 'type': 0}), {'value': 0, 'gas': 1413815, 'gasPrice': 1039, 'chainId': 5, 'from': '0x865eD5591EbED9F689dAFC25fEe10BB16fBD9883', 'nonce': 38, 'data': '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', 'to': b''})\n"
     ]
    }
   ],
   "source": [
    "# chain id ===> 22391\n",
    "# address= '0xd7b5162dbdB4e9bbA4cd9290889782125Fe9C64e'\n",
    "# p_key= '0x482961ed27abcbc43df6e946c7959f23defeea8471b8b0cc5831527c65c2e5f4'\n",
    "# chain_id = 1337\n",
    "\n",
    "# General function to deploy any smart contract\n",
    "wallet_address = '0x865eD5591EbED9F689dAFC25fEe10BB16fBD9883'\n",
    "private_key = '0x'+'cdd135c8c5b390757003b4a5a5df4c45aee24a1ff7540df0171b3deeb7d81b0b'\n",
    "chainId = 5\n",
    "\n",
    "smrt_contract = smartContract(con)\n",
    "smrt_contract.load_compile_solidity()\n",
    "oil_contract = smrt_contract.build_oil_gas_contract()\n",
    "oil_contract\n",
    "\n",
    "# address = input(\"Enter Address:\")\n",
    "# p_key = input(\"Address Key:\")\n",
    "# chain_id = input(\"Enter Chain ID:\")\n",
    "\n",
    "reciept = smrt_contract.deploy_smart_contract(wallet_address, private_key, chainId, oil_contract)\n",
    "# reciept = smrt_contract.deploy_smart_contract(address, p_key, chain_id)\n",
    "reciept\n",
    "prompt = \"\"\"\n",
    "=======================================================================\n",
    "                TRANSACTION RECIEPT FOR CONTRACT DEPLOYMENT\n",
    "=======================================================================\n",
    "\"\"\"\n",
    "print(prompt)\n",
    "print(\"Contract Deploy Successfully Transaction Reciept {}\".format(reciept))"
   ]
  },
  {
   "cell_type": "code",
   "execution_count": null,
   "id": "b70aab7f-ec0c-452e-9d77-b057defa7349",
   "metadata": {
    "scrolled": true
   },
   "outputs": [],
   "source": []
  },
  {
   "cell_type": "code",
   "execution_count": 6,
   "id": "6f16bde9-6260-4916-9e51-06c05cb7767d",
   "metadata": {},
   "outputs": [
    {
     "name": "stdin",
     "output_type": "stream",
     "text": [
      "Enter Entity Name: Shipping\n",
      "Enter the Barrel Value 36\n",
      "Enter Account Address: 0x865eD5591EbED9F689dAFC25fEe10BB16fBD9883\n"
     ]
    },
    {
     "name": "stdout",
     "output_type": "stream",
     "text": [
      "\n",
      "===============================================================\n",
      "                TRANSACTION RECIEPT FOR ENTITY CREATION\n",
      "===============================================================\n",
      "\n",
      "Entitty shipping Created Successfully Transaction Reciept AttributeDict({'blockHash': HexBytes('0xc842b70292858c5fcfb67f4326f75fffb10ef7484e97078cf7c171c9f25f32ba'), 'blockNumber': 9907849, 'contractAddress': None, 'cumulativeGasUsed': 6025941, 'effectiveGasPrice': 1040, 'from': '0x865eD5591EbED9F689dAFC25fEe10BB16fBD9883', 'gasUsed': 72973, 'logs': [AttributeDict({'address': '0x8AA4241e7FD418dBAb2b53687aa0BD9f71279895', 'blockHash': HexBytes('0xc842b70292858c5fcfb67f4326f75fffb10ef7484e97078cf7c171c9f25f32ba'), 'blockNumber': 9907849, 'data': HexBytes('0x000000000000000000000000000000000000000000000000000000000000002000000000000000000000000000000000000000000000000000000000000000087368697070696e67000000000000000000000000000000000000000000000000'), 'logIndex': 91, 'removed': False, 'topics': [HexBytes('0x30888466bd8fad834d69f9ebf05d3c6cba765e925b74f1a12a48749d59679ba6'), HexBytes('0x000000000000000000000000865ed5591ebed9f689dafc25fee10bb16fbd9883')], 'transactionHash': HexBytes('0xc2898e0bce1cc6f2dca89b33800231e885ad9523b8561e1a383e0bb0de6c1c8e'), 'transactionIndex': 51})], 'logsBloom': HexBytes('0x00000000000000000000000000000000000000000000000000000080000000040000000000000000000000000000000000000000000000000000000000000000000000000000000000000000000000000000000000000000000000000000000000000000000000000000000000100000000000000000000000000000000000000200000000000000000000000000000000000000000000000000000000080000000000000000000000000000000000000000008000000000000000000000000008080000000000000200000000000000000000000000000000000000000000000000000000000000000000000000000000000000000000000000000000000000'), 'status': 1, 'to': '0x8AA4241e7FD418dBAb2b53687aa0BD9f71279895', 'transactionHash': HexBytes('0xc2898e0bce1cc6f2dca89b33800231e885ad9523b8561e1a383e0bb0de6c1c8e'), 'transactionIndex': 51, 'type': 0})\n"
     ]
    }
   ],
   "source": [
    "# CREATING TWO ENTITY ....... \n",
    "oil_obj = smrt_contract.contract_interaction_object()\n",
    "ent_name = str(input(\"Enter Entity Name:\")).lower()\n",
    "barrel_val = int(input(\"Enter the Barrel Value\"))\n",
    "walled_account = input(\"Enter Account Address:\")\n",
    "# responce = smrt_contract.createEntity(\"shiping\", 3, wallet_address)\n",
    "responce = smrt_contract.createEntity(ent_name, barrel_val, wallet_address)\n",
    "prompt = \"\"\"\n",
    "===============================================================\n",
    "                TRANSACTION RECIEPT FOR ENTITY CREATION\n",
    "===============================================================\n",
    "\"\"\"\n",
    "print(prompt)\n",
    "print(\"Entitty :{} Created Successfully Transaction Reciept :{}\".format(ent_name, responce))"
   ]
  },
  {
   "cell_type": "code",
   "execution_count": 8,
   "id": "087161ab-f7cd-4d88-b3b9-144d4614caa7",
   "metadata": {},
   "outputs": [
    {
     "name": "stdin",
     "output_type": "stream",
     "text": [
      "Enter the Barrel Value 3\n",
      "Enter Account Address: 0x865eD5591EbED9F689dAFC25fEe10BB16fBD9883\n"
     ]
    },
    {
     "name": "stdout",
     "output_type": "stream",
     "text": [
      "\n",
      "===============================================================\n",
      "                TRANSACTION RECIEPT FOR OIL & GAS EXCHANGE\n",
      "===============================================================\n",
      "\n",
      "0x865eD5591EbED9F689dAFC25fEe10BB16fBD9883  sent 10 Barrel to 0x865eD5591EbED9F689dAFC25fEe10BB16fBD9883\n"
     ]
    }
   ],
   "source": [
    "ent_name = str(input(\"Enter Entity Name:\")).lower()\n",
    "barrel_val = int(input(\"Enter the Barrel Value\"))\n",
    "reciever_address = input(\"Enter Account Address:\")\n",
    "smrt_contract.transferBarrels(wallet_address, 2, wallet_address)\n",
    "\n",
    "prompt = \"\"\"\n",
    "===============================================================\n",
    "                TRANSACTION RECIEPT FOR OIL & GAS EXCHANGE\n",
    "===============================================================\n",
    "\"\"\"\n",
    "print(prompt)\n",
    "\n",
    "print(\"{}  sent {} Barrel to {}\".format(reciever_address, barrel_val , '0x865eD5591EbED9F689dAFC25fEe10BB16fBD9883'))"
   ]
  },
  {
   "cell_type": "code",
   "execution_count": 17,
   "id": "ee6fd7e9-1e23-4c78-b7ab-383001b927e4",
   "metadata": {},
   "outputs": [
    {
     "name": "stdin",
     "output_type": "stream",
     "text": [
      "Wallet Address: 0x865eD5591EbED9F689dAFC25fEe10BB16fBD9883\n"
     ]
    },
    {
     "ename": "TypeError",
     "evalue": "transactionHistory() takes 1 positional argument but 2 were given",
     "output_type": "error",
     "traceback": [
      "\u001b[1;31m------------------------------------------------------------------------\u001b[0m",
      "\u001b[1;31mTypeError\u001b[0m                              Traceback (most recent call last)",
      "Cell \u001b[1;32mIn[17], line 3\u001b[0m\n\u001b[0;32m      1\u001b[0m \u001b[38;5;66;03m# CHECKING TRANSACTION HISTORY \u001b[39;00m\n\u001b[0;32m      2\u001b[0m trx_history \u001b[38;5;241m=\u001b[39m \u001b[38;5;28minput\u001b[39m(\u001b[38;5;124m\"\u001b[39m\u001b[38;5;124mWallet Address:\u001b[39m\u001b[38;5;124m\"\u001b[39m)\n\u001b[1;32m----> 3\u001b[0m trx_hist \u001b[38;5;241m=\u001b[39m \u001b[43msmrt_contract\u001b[49m\u001b[38;5;241;43m.\u001b[39;49m\u001b[43mtransactionHistory\u001b[49m\u001b[43m(\u001b[49m\u001b[43mtrx_history\u001b[49m\u001b[43m)\u001b[49m\n\u001b[0;32m      5\u001b[0m prompt \u001b[38;5;241m=\u001b[39m \u001b[38;5;124m\"\"\"\u001b[39m\n\u001b[0;32m      6\u001b[0m \u001b[38;5;124m===============================================================\u001b[39m\n\u001b[0;32m      7\u001b[0m \u001b[38;5;124m                TRANSACTION HISTORY\u001b[39m\n\u001b[0;32m      8\u001b[0m \u001b[38;5;124m===============================================================\u001b[39m\n\u001b[0;32m      9\u001b[0m \u001b[38;5;124m\"\"\"\u001b[39m\n\u001b[0;32m     10\u001b[0m \u001b[38;5;28mprint\u001b[39m(prompt)\n",
      "\u001b[1;31mTypeError\u001b[0m: transactionHistory() takes 1 positional argument but 2 were given"
     ]
    }
   ],
   "source": [
    "# CHECKING TRANSACTION HISTORY \n",
    "trx_history = input(\"Wallet Address:\")\n",
    "trx_hist = smrt_contract.transactionHistory(trx_history)\n",
    "\n",
    "prompt = \"\"\"\n",
    "===============================================================\n",
    "                TRANSACTION HISTORY\n",
    "===============================================================\n",
    "\"\"\"\n",
    "print(prompt)\n",
    "print(trx_hist)"
   ]
  }
 ],
 "metadata": {
  "kernelspec": {
   "display_name": "Python 3 (ipykernel)",
   "language": "python",
   "name": "python3"
  },
  "language_info": {
   "codemirror_mode": {
    "name": "ipython",
    "version": 3
   },
   "file_extension": ".py",
   "mimetype": "text/x-python",
   "name": "python",
   "nbconvert_exporter": "python",
   "pygments_lexer": "ipython3",
   "version": "3.9.5"
  }
 },
 "nbformat": 4,
 "nbformat_minor": 5
}
