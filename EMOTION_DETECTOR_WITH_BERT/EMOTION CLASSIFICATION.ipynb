{
 "cells": [
  {
   "cell_type": "code",
   "execution_count": 1,
   "id": "a2ebe89e",
   "metadata": {
    "scrolled": true
   },
   "outputs": [
    {
     "name": "stderr",
     "output_type": "stream",
     "text": [
      "Using the latest cached version of the module from C:\\Users\\HP\\.cache\\huggingface\\modules\\datasets_modules\\datasets\\tweet_eval\\12aee5282b8784f3e95459466db4cdf45c6bf49719c25cdb0743d71ed0410343 (last modified on Wed Dec 28 17:46:15 2022) since it couldn't be found locally at tweet_eval., or remotely on the Hugging Face Hub.\n",
      "Found cached dataset tweet_eval (C:/Users/HP/.cache/huggingface/datasets/tweet_eval/emotion/1.1.0/12aee5282b8784f3e95459466db4cdf45c6bf49719c25cdb0743d71ed0410343)\n"
     ]
    },
    {
     "data": {
      "application/vnd.jupyter.widget-view+json": {
       "model_id": "6c75d2511fe6413a855d9af6283b81cb",
       "version_major": 2,
       "version_minor": 0
      },
      "text/plain": [
       "  0%|          | 0/3 [00:00<?, ?it/s]"
      ]
     },
     "metadata": {},
     "output_type": "display_data"
    }
   ],
   "source": [
    "# LOADING HUGGIN FACE TWEET-EMOTION DATA \n",
    "from datasets import load_dataset\n",
    "\n",
    "dataset = load_dataset(\"tweet_eval\", \"emotion\")"
   ]
  },
  {
   "cell_type": "code",
   "execution_count": 2,
   "id": "491ccd60",
   "metadata": {},
   "outputs": [
    {
     "data": {
      "text/plain": [
       "DatasetDict({\n",
       "    train: Dataset({\n",
       "        features: ['text', 'label'],\n",
       "        num_rows: 3257\n",
       "    })\n",
       "    test: Dataset({\n",
       "        features: ['text', 'label'],\n",
       "        num_rows: 1421\n",
       "    })\n",
       "    validation: Dataset({\n",
       "        features: ['text', 'label'],\n",
       "        num_rows: 374\n",
       "    })\n",
       "})"
      ]
     },
     "execution_count": 2,
     "metadata": {},
     "output_type": "execute_result"
    }
   ],
   "source": [
    "dataset"
   ]
  },
  {
   "cell_type": "code",
   "execution_count": 3,
   "id": "47c6dd73",
   "metadata": {},
   "outputs": [
    {
     "data": {
      "text/plain": [
       "['text', 'label']"
      ]
     },
     "execution_count": 3,
     "metadata": {},
     "output_type": "execute_result"
    }
   ],
   "source": [
    "keys = dataset.keys()\n",
    "# print(keys)\n",
    "\n",
    "dataset['train'].column_names"
   ]
  },
  {
   "cell_type": "code",
   "execution_count": 286,
   "id": "d25f6cb3",
   "metadata": {
    "scrolled": true
   },
   "outputs": [
    {
     "data": {
      "text/plain": [
       "[\"“Worry is a down payment on a problem you may never have'. \\xa0Joyce Meyer.  #motivation #leadership #worry\",\n",
       " \"My roommate: it's okay that we can't spell because we have autocorrect. #terrible #firstworldprobs\",\n",
       " \"No but that's so cute. Atsu was probably shy about photos before but cherry helped her out uwu\",\n",
       " \"Rooneys fucking untouchable isn't he? Been fucking dreadful again, depay has looked decent(ish)tonight\",\n",
       " \"it's pretty depressing when u hit pan on ur favourite highlighter\",\n",
       " '@user but your pussy was weak from what I heard so stfu up to me bitch . You got to threaten him that your pregnant .',\n",
       " 'Making that yearly transition from excited and hopeful college returner to sick and exhausted pessimist. #college',\n",
       " 'Tiller and breezy should do a collab album. Rapping and singing prolly be fire',\n",
       " '@user broadband is shocking regretting signing up now #angry #shouldofgonewithvirgin',\n",
       " '@user Look at those teef! #growl',\n",
       " '@user @user USA was embarrassing to watch. When was the last time you guys won a game..? #horrible #joke',\n",
       " '#NewYork: Several #Baloch &amp; Indian activists hold demonstrations outside @user headquarters demanding Pak to stop exporting #terror into India',\n",
       " 'Your glee filled Normy dry humping of the most recent high profile celebrity break up is pathetic &amp; all that is wrong with the world today.',\n",
       " 'What a fucking muppet.  @user  #stalker.',\n",
       " \"Autocorrect changes ''em' to 'me' which I resent greatly\",\n",
       " \"@user I would never strategically vote for someone I don't agree with. A lot of the Clinton vote based on fear and negativity.\",\n",
       " '@user Haters!!! You are low in self worth. Self righteous in your delusions. You cower at the thought of change. Change is inevitable.',\n",
       " \"I saved him after ordering him to risk his life. I didn't panic but stayed calm and rescued him.\",\n",
       " \"@user Uggh that's really horrible. You're not a bad person by any stretch of the imagination. I hope this person realizes that.\",\n",
       " '@user @user @user Tamra would F her up if she swung on Tamra\\\\nKelly is a piece of 💩 #needstobeadmitted #bully',\n",
       " 'Love is when all your happiness and all your sadness and all your feelings are dependent on another person.',\n",
       " 'It’s possible changing meds is best not done while under stress. Difficult to tell what part of despair is circumstantial, what is drugs.',\n",
       " 'im also definitely still bitter about the yellow ranger not being asian, but asian representation in hollywood is essentially a shrug anyway',\n",
       " '@user The irony is that those protesting about this kind of stuff are the Orwellian nightmare they think they’re fighting against.',\n",
       " \"@user @user nah way that's horrible\",\n",
       " '@user I think just becz u have so much terror in pak nd urself being  a leader u forgot d difference btw a leader nd terrorist !',\n",
       " 'angel delight is my everything',\n",
       " 'Puzzle investing opening portland feodal population is correlative straight a snorting infuriate: XLzjYhG',\n",
       " \"I believe I'm gonna start singing in my snap stories on the tractor. Switch it up a little bit.\",\n",
       " \"I have a rage rage ep 2 coming out soon I'll keep you posted on it #YouTube #youtubegaming #rage\",\n",
       " 'Why have I only just started watching glee this week I am now addicted 🙄 #glee #GLEEK',\n",
       " \"Jorge deserves it, honestly. He's weak.  #90dayfiance\",\n",
       " \"@user 'shit' doesn't even begin to describe these fiery little demons straight from hell 🌝🌚 ;)\",\n",
       " '@user @user ditto!! Such an amazing atmosphere! #PhilippPlein #cheerleaders #stunt #LondonEvents #cheer',\n",
       " 'Interview preparation, I hate talking about myself, one dull subject matter! #yawnoff',\n",
       " 'Manchester derby at home',\n",
       " \"It'd probably be useful to more than women, but I'm dealing with re-reading an article about a woman being harassed on the subway. #concern\",\n",
       " 'her; i want a playful relationship\\\\nme; *kicks her off the couch*',\n",
       " 'Romero is fucking dreadful like seriously my 11 month old is better than him.',\n",
       " '@user It’s taken for granted, while the misogyny in the air is treated as normal — and any angry response to it as pathological.',\n",
       " \"@user oh I see. I've seen so many people mourn the loss that I was surprised to see your tweet. I suppose same old here in SA\",\n",
       " 'so gutted i dropped one of my earrings down the sink at school',\n",
       " 'Happy birthday to Stephen King, a man responsible for some of the best horror of the past 40 years... and a whole bunch of the worst.',\n",
       " '“ My courage always rises at every attempt to intimidate me.”\\\\n-Elizabeth Bennett (Pride and Prejudice)\\\\n#Quotes #Courage #FaceYourFears',\n",
       " \"It's a good day at work when you get to shake Jim Lehrer's hand. Thanks, @user Still kicking myself for being to shy to hug @user\",\n",
       " \"I'm so bored and fat and full and ridiculously overweight and rolls galore\",\n",
       " '@user Flirt, simper, pout, repeat. Yuck.',\n",
       " 'Trumpism likewise rests on a bed of racial resentment that was made knowingly and intentionally, long before Trump got into politics.',\n",
       " \"There's this Bpharm4 guy Eish that guy brings anger into my life. When I see him nje like darkness fills me @user will know\",\n",
       " \"Tears and eyes can dry but I won't, I'm burning like the wire in a lightbulb\",\n",
       " 'Nor hell a fury like a woman scorned -- William Congreve',\n",
       " '@user Tried 2 get earlier flt 2day  @user Turnd away bcuz it was 2 late Then agent let other pas on #silvereliteleftbehind',\n",
       " \"@user I so wish you could someday come to Spain with the play, I can't believe I'm not going to see it #sad\",\n",
       " 'Val got a little too big for her hiking boots with that bakewell, the little terror #GBBO',\n",
       " \"@user bts' 화양연화 trilogy MV is my all time fav🙌 quite gloomy but beautiful as well✨\",\n",
       " '@user @user Prudence suggests that a 8+% bump over 2-3 weeks should be viewed with SKEPTICISM. Media/HRC axis #angry',\n",
       " 'Thank you disney themed episode for letting me discover how amazing the @user are! #hilarious',\n",
       " 'Need a new outlet for #rage',\n",
       " \"Rewatching 'Raising Hope' (with hubs this time) and totally forgot how hilarious it is 😂 #HereWeGo\",\n",
       " '@user @user wow. not heard this in forever. Random but. great #sting #xph',\n",
       " 'May the optimism of tomorrow be your foundation for today.',\n",
       " '@user @user @user \\\\n\\\\nAnd also, trying to find it on Youtube is a fucking nightmare.',\n",
       " \"@user spent over 2 fucking hours and still can't get that dam SIVA fragment on Fellwinters peak mountain\",\n",
       " 'Happy Birthday, LOST! / #lost #dharmainitiative #12years #22september2004 #oceanic815',\n",
       " '#PeopleLikeMeBecause they see the happy exterior, not the hopelessness I sometimes feel inside. #depression  #anxietyprobz',\n",
       " 'People who go the speed limit irritate me',\n",
       " '#FF \\\\n\\\\n@The_Family_X \\\\n\\\\n#soul #blues &amp; #rock #band\\\\n\\\\n#music from the #heart\\\\n\\\\nWith soul &amp; #passion \\\\n\\\\nXx 🎶 xX',\n",
       " '@user @user ohh.. so here comes sense from terror supporting stone pelting vandalizing ppl who gather b4 protests to announce ...',\n",
       " \"My fav #movies are #horror but they don't make them like they used too. Haven't seen a great one in years\",\n",
       " \"I'd like to bridge the divide between Right and Left Twitter and say that the new Tweet truncating thing is fucking awful.\",\n",
       " '@user I am shy xD',\n",
       " 'After what just happened. In need to smoke.',\n",
       " 'Joes gf started singing all star and then Joe got angry and was all sing it right and started angrily singing it back at her',\n",
       " \"@user I remember its heyday, but these ladies range in age from, I'd say, mid-30s to early 70s.\",\n",
       " \"@user so this houses will get into my instestines and scare my poop and I'll shit my pants?\",\n",
       " '@user @user @user \\\\n\\\\ndo REDNECKS intellectually intimidate you and force you to be their dancing clown?',\n",
       " 'Sometimes I like to talk about my sadness.  Other times, I just want to be distracted by friends, laughter, shopping, eating...  \\\\n\\\\n#MHChat',\n",
       " 'Noooooo @user without #MaryBerry will be #awful #endofanera going 2b so #lost @user have bought a #lameduck there #notallaboutthemoney',\n",
       " \"On the bright side, my music theory teacher just pocket dabbed and said, 'I know what's hip.' And walked away 😂😭\",\n",
       " \"@user it can go one of two ways. You either get over it and accept it, because it's not going to change, or you mope about --\",\n",
       " '#PeopleLikeMeBecause they see the happy exterior, not the hopelessness I sometimes feel inside. #depression #anxiety #anxietyprobz',\n",
       " \"#ThisIsUs has messed with my mind &amp; now I'm anticipating the next episode with #apprehension &amp; #delight! #isthereahelplineforthis\",\n",
       " 'God we need a new goal keeper! They’re both horrific.',\n",
       " '@user Old age?! No hope for the rest of us. Destined to become deatheaters by 50 #nightmare',\n",
       " \"@user if I wanted GREEN POTATOES, a bottle with the tag still on, plus soaking wet items delivered - I'm winning today-sadly I didn't\",\n",
       " \"Everybody's worried about stopping #terrorism. Well, there's a really easy way: stop participating in it. -  Noam Chomsky\",\n",
       " 'wow almost all the T-Mobile stores in San Diego are out of Note7 replacements #sadness I need to get mine replaced',\n",
       " 'I am worried that she felt safe. #unhappy',\n",
       " \"#ahs6 every 5 minutes I've been saying 'nope nope I'd be gone by now.' 'MOVE' or 'GTFO' so thank you for the\",\n",
       " \"Nothing worse than an uber driver that can't drive. #awful\",\n",
       " 'Leave it on there, rule,nimber 1 of carpet cleaning!!! #furious #worsethananatomicbomb #accidentlyspillbeeronthecarpet',\n",
       " \"Said it before and I'll say it now: America is really fortunate that black people only want equality and not revenge.\",\n",
       " '@user u know ion play that shit bout my weary brother',\n",
       " '@user @user cmode grimrail made me want to eat angry bees',\n",
       " 'Happy Birthday @user #cheer #cheerchick #jeep #jeepgirl #IDriveAJeep #jeepjeep #Cheer',\n",
       " '@user I assure you there is no laughter, but increasing anger at the costs, and arrogance of Westminster.',\n",
       " \"Why are people even debating on race inequality within our justice system like it's non existent? They're just trying to aggravate us.\",\n",
       " \"We're in contained depression. Only new economic engine is #Sustainability, say Joel @user + @user @ #VERGEcon. #NewGrandStrategy\",\n",
       " '@user &gt; huff louder',\n",
       " \"@user lol I thought maybe, couldn't decide if there was levity or not\",\n",
       " \"There's a certain hilarity in people angry at protests against the national anthem or the flag when these acts are covered by 1st Amendment.\",\n",
       " \"I don't want the pity of my instructors but I'd like some understanding. I'm truly trying despite ALL circumstances that make me discouraged\",\n",
       " 'CommunitySleepCoach: Look at these #narcoleptic #puppies. Make you #smile. If you are human &amp; find yourself in such odd positions, seek #th…',\n",
       " \"@user 9 -9 vs Atlanta this yr, 2 - 11 vs Rockies and DBacks this yr. That's a combined 11 - 20 vs 3 atrocious teams in NL #awful\",\n",
       " \"@user @user experience all plays a role in that, it's education and preparedness not fear\",\n",
       " '@user appointment booked between 1-6 today, waited in all day and nobody showed up, also requested a call back and never got one #awful',\n",
       " 'Summer officially ends today. #sadness',\n",
       " '@user seriously dude buy some bubble tape for your phones. #snap broke another phone',\n",
       " '@user holy shit...what the hell happened to your lips!! Fix that shit! #mtv #teenmom #horrible',\n",
       " \"final vestiges of my 90's childhood were just dashed on the shoals of hearing a house cover of Tracy Chapman's 'fast car' at the dayjob\",\n",
       " 'Maybe the entire Russian team will test positive for meldonium and the North Americans will get to replace them',\n",
       " 'Hey folks sorry if anything offensive got posted on here yesterday my account got hacked. All fixed now though. I hope :-/ #angry #annoyed',\n",
       " 'in my dream....They were trying to steal my kidney!!!  #blackmarket #whydidiwatchthat',\n",
       " 'I was not made for this world. #empath #unhappy',\n",
       " \"i'm... nervous about this test rip\",\n",
       " 'Ryan Gosling and Eva Mendes finally  ; B joyful an funny/dont boss/dont argue/do everything with kids/go on mini car trips/ focus on love',\n",
       " \"i was so embarrassed when she saw us i was like knvfkkjg she thinks we're stalkers n then she starts waving all cheerfully inviting us in 😩\",\n",
       " 'Wow... One of my dads top favorite throwback rappers just died in a fiery car crash today in Atlanta, so sad so sad 😷😷',\n",
       " \"I can't wait for you to listen to my new single 'Mystery' and my new album😋. #newmusic #newsingle #newalbum #2016 #popmusic #dark\",\n",
       " 'Anybody know a good place to book a show in #Montreal on short but not super-short notice? #punkrock #postpunk #blues',\n",
       " \"Don't be #afraid of the space between your #dreams and #reality. If you can #dream it, you can #make it so\",\n",
       " \"finally leaving my first job soon. i've been working here since i was 16. going to be kind of bitter sweet\",\n",
       " \"@user @user don't get me started on town centre. Used to go every week.... not been for 18 months #horrible\",\n",
       " 'will brawndo cure my depression? @user #Idiocracytoday',\n",
       " 'Why is it that we rejoice at a birth and grieve at a funeral? It is because we are not the person involved. ― Mark Twain',\n",
       " 'I dislike people who get offended by the littlest shit .',\n",
       " '@user you look adorable awe',\n",
       " 'New play through tonight! Pretty much a blind run. Only played the game once and maybe got 2 levels it. #Rage #horror',\n",
       " '@user ur road rage gives me anxiety.',\n",
       " '@user brings back great memories of hilarity on #SATURDAYNIGHTLIVE',\n",
       " '@user @user my god is @user a full shilling? Seriously you need a major rethink or no lab gove in your lifetime #sad',\n",
       " \"significantly, with a #bitter smile, 'let me\",\n",
       " \"@user just trying to go home tonight? A run on 2nd and 20 and a run on 3rd and 20? That's what champs do...#sike #losers #terrible\",\n",
       " \"@user He didn't have many chances to show what he can do but looked lively and had a good shot tipped over the bar before the end.\",\n",
       " 'Need advice on how to get out of this rut!!!!  #needmotivation',\n",
       " 'in health we did a think about depression and now i feel like i have it',\n",
       " \"@user It'll be easy to spot the parade of tiny weans in expensive jammies. Really is hilarious!\",\n",
       " 'Muscled man with huge heart is messing with my brain and heart. #lost #confused',\n",
       " \"@user @user @user Trump says the refugee situation 'is not just about terrorism it's about quality of life.' Take note.\",\n",
       " \"@user I'm wearing all black tomorrow to mourn. 😭💔\",\n",
       " \"@user Hes right when the Civil war starts it will be wall to wall terrorism and i don't fancy the Muzzy's chances\",\n",
       " \"@user *laughs louder this time, shaking my head* That was really cheesy, wasn't it?\",\n",
       " \"When my 4yo is gone I blast gothcore music. She has #anxiety &amp; I can't listen 2 it around her bcuz it's 'too spooky'. *sigh* #momlife\",\n",
       " '@user glee',\n",
       " \"Gloriosa Bazigaga on #Rwanda work: 'I lost relatives in genocide but 15 yrs of peacebuilding has given me optimism it's within our power'\",\n",
       " '@user #mhchat Childhood experiences inform adult relationships. We have associative memories Not a question of ability to process',\n",
       " \"Texans and Astros both shut out tonight. Houston, we're back to normal. #texans #Astros #sadness #losers\",\n",
       " '@user nick fury',\n",
       " \"and I'm up from a dream where I said something really retarded on twitter and it got like 10000 retweets #nightmare\",\n",
       " \"@user @user don't get me started on town centre. Used to go every week.... not been for 18 months\",\n",
       " '@user both, scrap *ll the rage instead',\n",
       " \"Just told me wife there was a chance it would be 2 Sydney teams in AFL grand final. Her response: 'there's two SYDNEY AFL teams?' #serious\",\n",
       " \"@user wow I'm just really sadden by that. Terrible\",\n",
       " 'I meet new people and I had to grow up with the reality that people can be desgusting and fake and so I lost my cheerfulness and started to',\n",
       " 'Urgent need to get a new job. The constant gloom of my current one is getting a bit ridiculous now.',\n",
       " \"These girls who are playful and childlike seem to have such lovely relationships. Can't imagine them having serious convos but it's cute  😍😍\",\n",
       " \"I'm absolutely in love with Laurie Hernandez, she's so adorable and is always so cheerful!\",\n",
       " \"Why is it so windy? So glad I didn't ride my bike. #fear #wind\",\n",
       " \"The point of living, and being an optimist, is to be foolish enough to believe the best is yet to come' - Peter Ustinov #optimism #quote\",\n",
       " \"@user @user Quite the response of retaliation from Weiner in getting revenge on Huma &amp; Hillary 'clam digging'.\\\\n#AllScumbags\",\n",
       " \"@user @user they're both pretty awful when you look at them historically\",\n",
       " \"broken policy' #blasio &lt;&gt; #trump #giuliani 'broken windows' all part of 'pecking order' #bully politics #america RESIST #motto\",\n",
       " \"Mate the thing I get excited about in my profession are mad. A client said she opened her bowels, I'm rejoicing\",\n",
       " \"@user 'Don't you know how nervous I was to see you?'\",\n",
       " '@user Worst than going to the morgue to do a positive ID. #horrible Reuters',\n",
       " '@user that is one thing but attacking and hating is worse - that makes us just like the angry vengeful behavior we detest',\n",
       " \"@user wow , your right they do need help,so what I'm getting from the Laureliver fandom and bitter comic fandom and\",\n",
       " \"I'm such a shy girl🙄\",\n",
       " \"mmmm i'm kinda sad i hope i can shake this before school\",\n",
       " \"Every day I think my #house 🏡 is #burning 🔥 but it's always just my neighbor burning their #toast! 😷😡🍞\",\n",
       " \"In  fact,  sometimes i don't get furious at people who wrong me, but   i get  furious at  myself  for being  a  fool.\",\n",
       " '@user #nothappy and still #charging the #fullprice 😡😡 #fuming some your #bestrides 😳😳',\n",
       " 'Everyone is raging',\n",
       " 'Sometimes I get mad over something so minuscule I try to ruin somebodies life not like lose your job like get you into federal prison #anger',\n",
       " \"@user @user the refs are in GT's favor tonight.\",\n",
       " \"NL's top bureaucrat is a director of a group formed to oppose NL's top megaproject. #nlpoli - never dull\",\n",
       " 'Watch this amazing live.ly broadcast by @user  #musically',\n",
       " 'No one wants to win the wild card because you have to play the Cubs on the road.  #sadness',\n",
       " '@user @user Amal Clooney should try to prosecute  #Bush/ #Blair for #war crimes that turned our World upside down&amp;created #terrorism',\n",
       " '@user stop the presses, @user said/proposed something racist. #shocking',\n",
       " \"@user \\\\nIsn't OBrien supposed to be some sort of offensive genius\",\n",
       " 'Good morning chirpy #SpringEquinox and your pensive sister #AutumnEquinox A perfect day however it is expressed 🌹🍁🌓☯️ #theBeautyofBalance',\n",
       " \"@user do we think the swallows and swifts have gone? Photo'd 3 nights ago, not seen since. #sad #Autumn\",\n",
       " \"I told my chiropractor 'I'm here for a good time not a long time' when he questioned my habits and yet again I have unnerved a doctor\",\n",
       " 'Lady gaga fucking followed i have been waiting for this day for ages it fucking happened im shaking thank you so much @user ❤️',\n",
       " \"@user you came in at silly o'clock and woke me up that's what happened #wasted #fuming\",\n",
       " '@user @user the gleesome threesome',\n",
       " '@user I think you should do. Get the fashion police involved. #shocking',\n",
       " 'Wishing i was rich so i didnt have to get up this morning #poor #sleepy  #sad #needsmoresleep',\n",
       " '@user relentless echo chamber - negative comments with lots of reverb. Typical bully behavior.',\n",
       " '@user Thank you for follow and its a good website you have and cheering with no hassle.',\n",
       " '@user people have so much negativity filled inside them but im always happy that in such a gloomy world someone like u exists Namjoon',\n",
       " \"When something makes you excited, terrified, thrilled, nervous, elated &amp; like you've been kicked in the guts all at once. Need word for that\",\n",
       " \"@user that's not easy to blow up the LT on a run play. He created the seam for Sua to burst through\",\n",
       " '@user @user But I decided to be a bit lackadaisical about getting dressed to get groceries.',\n",
       " \"@user optimism is he'll lose, that's actually a compromise :P\",\n",
       " \"@user \\\\n'It's alright!' She said cheerfully trying to make the moment fun\",\n",
       " \"@user they might get Donal óg sure! They won't have him in cork as he's to fiery for dopey frank &amp; his cult\",\n",
       " 'Ppl like that irritate my soul',\n",
       " \"@user at least his character in fast and furious pumped some adrenaline into the franchise. But that's about it\",\n",
       " \"Now that @user has snapchat back it's a constant battle to see who can get the ugliest snap of one another 😂🙃 #snap survival\",\n",
       " \"@user He's just too raging to type properly... Ha ha!\",\n",
       " 'Pakistan continues to treat #terror as a matter of state policy says @user #UriAttack',\n",
       " \"i have so much hair it's a nightmare but it's also very soft so it guess it's a win-lose situation\",\n",
       " \"@user @user whatever Sam is holding on your tee looks like it's got a droop on 😂\",\n",
       " 'One step forward, two steps backward, the link to RogerFedererShop doesn´t work.😰 I am losing hope about Roger Federer new Website #sadness',\n",
       " 'The Pats are awesome. Belichick is awesome ...they just are.',\n",
       " \"Don't join @user they put the phone down on you, talk over you and are rude. Taking money out of my acc willynilly!\",\n",
       " '@user @user @user @user Take 2k out of it the numbers on madden are low and have dropped and people are unhappy',\n",
       " \"@user No!  By Y'all I mean rioting, fire starting, business burning, looting ASSHOLES!  That create #BlackLivesmatter\",\n",
       " \"HMS Pinafore' time.\\\\n\\\\nI need some mirth.\",\n",
       " \"Grim and despair feeling-I look at self and my family. Hubby fought 20+ years for this country. I've worked 20+ years for this govt--&gt;\",\n",
       " '#COINCIDENCE??? When you turn on the TV, etc.&amp; listen &amp; watch, the objective is to #CaptureYourMind with #fear &amp; #depression. #FindGODNow!!!',\n",
       " 'Turkish exhilaration: for a 30% shade off irruptive russian visitors this twelvemonth, gobbler is nephalism so...',\n",
       " 'When will the weeks full of Mondays end?? #disheartened',\n",
       " \"@user I'm not on about history or  other people, I'm on about you. I've bullied no one, I make three posts and you attack #bully\",\n",
       " '@user way to go #London. Nice job electing a #muslim #jihadist for mayor. Good luck with your future #terror attacks #sadiqkhan',\n",
       " 'Pull over #tonight and make your car #shake 😋💦',\n",
       " 'Feeling #gloomy',\n",
       " 'B day next week, catch the sauce and watch the heaviness!',\n",
       " \"Carry on my wayward son, there'll be peace when you are done. Lay your weary head to rest. Don't you cry no more. #Supernatural\",\n",
       " '@user  cyber bully',\n",
       " '@user I found the first few episodes of Bojack incredibly funny. Then it got less funny but I stayed for the #drama',\n",
       " '10 page script due Friday for class. Who said I could do this MFA thing?  #GradSchoolProblems #someonetelltinafeytohireme',\n",
       " 'Riggs dumb ass hell lolol #hilarious #LethalWeapon',\n",
       " '@user bully',\n",
       " 'India should now react to the uri attack..... #revenge',\n",
       " 'Well stock finished &amp; listed, living room moved around, new editing done &amp; fitted in a visit to the in-laws. #productivityatitsfinest #happy',\n",
       " '@user where is the outrage when black children get killed in the crossfire between blacks shooting each other?',\n",
       " '@user a rabid dog being ridden by the child who has eaten all the flesh off one fellow and the limbs of the other adults.',\n",
       " '@user watched the cobblers loads this season how is gorre a pro footballler terrible',\n",
       " 'Putin feels it acceptable to bomb &amp; kill aid workers. Soon he may be sitting at the same table as Trump!! #Armageddon #USApleasedont',\n",
       " 'Why do people gotta start so much drama ? Shoot me ☹️',\n",
       " 'Did we miss the fact that #BurkeRamsey swung &amp;hit his sister #JonBenet in the face with a golf club previously out of a fit of ?',\n",
       " 'nooooo. Poor Blue Bell! not again. #sad',\n",
       " '@user @user #Muslims have been in USA for ages. To think that Muslims commit #terrorism due to #Islam, you gotta be out of your mind.',\n",
       " '@user I am angry at the student for being a racist, and the teacher for not stopping it, and at the class for letting it go by.',\n",
       " \"If you think you're good to go already, don't worry about it.\",\n",
       " \"Wine drunk is the worst version of myself ffs, don't even remember seeing basshunter\",\n",
       " 'The bounty hunter things a bit lively',\n",
       " 'That feeling you get when you know the information but scared you might do bad on a test #collegelife #nervous 😥😥',\n",
       " '@user Supine on the piano—lips parted. #sixwordstory #amwriting #blues #singer',\n",
       " \"@user thanks Ryan &amp; Brad for scary the shit out of us in the first episode. Don't think my heart will make it through the s6\",\n",
       " \"Always borrow money from a pessimist; he doesn't expect to be paid back.\",\n",
       " '7 pax enjoyed the #gloom @user @user',\n",
       " 'Condolences to the  JC and the Georges family..',\n",
       " '@user snap, seems to be a problem here',\n",
       " '@user \\\\nLikewise #death #cutting #despair',\n",
       " 'They gonna give this KKk police bitch the minimum sentence..just wattch',\n",
       " \"I feel like an appendix. I don't have a purpose.  #depressed  #alone #lonely #broken  #cry #hurt #crying #life\",\n",
       " \"#travelfail #virgin #virginaus and #etihad #nightmare ... And now we're also delayed. #obvs 🙄😠\",\n",
       " '#tulsa - Police manufacture murder... Wonder why we carry burners...? - MaxLevelz',\n",
       " 'Dehydrated, exhausted, stressed but still blessed. #optimism',\n",
       " 'US you need to band together not apart #nevertrump he promotes hatred and fuels',\n",
       " \"@user it's fucking dreadful for live footy matches\",\n",
       " '@user @user \\\\nbecause distrust in life , Argentina has a lot of heart and this President is worth every vote.',\n",
       " \"She's foaming at the lips the one between her hips @user one of many great lyrics\",\n",
       " \"@user I guess it must be really expensive... For me it's that the whole family stayed in Poland, so I really miss them...\",\n",
       " '@user @user @user @user @user I understand your concerns but look at her foundation contributions',\n",
       " 'SOMEONE LET SNAKES IN MY HOUSE, I BET IT @user I KILL THAT BUGGER WHEN I GET MY HANDS ON HIM  #HuckFP2',\n",
       " 'Fake people irritate me',\n",
       " \"@user #FMF protesters aren't interested in reasoned debate, just #intimidation #violence &amp; #disruption to get demands met\",\n",
       " 'Lunatic Asylum: The place where optimism most flourishes.',\n",
       " 'Damn gud #premiere #LethalWeapon...#funny and #serious',\n",
       " '@user @user all the bully',\n",
       " 'It appears my fire alarm disapproves of my cooking style',\n",
       " \"We're going to get City in the next round for a revenge.\",\n",
       " '#Trump is #afraid of the big, bad #Hillary. #election #PresidentialDebate #PresidentialElection2016 #orangehitler #skip #hide #coward #fear',\n",
       " \"@user I am sitting here wrapped in a fluffy blanket, with incense burning, listening to Bon Iver and drinking mulled wine. I'm there.\",\n",
       " \"Petition for non-Maghrebi PoC to stop buying 'couscous' from white grocery stores and boiling it. That is not couscous, that is trash.\",\n",
       " '@user Thank you, happy birthday to you as well!',\n",
       " 'Watch this amazing live.ly broadcast by @user  #musically',\n",
       " \"@user We'll have a ceremony next time we meet. It'll involve burning something, then possibly booze and/or caffeine.\",\n",
       " \"Dear @user please tell your bus drivers if obstruction on their side DON'T just pull out to oncoming traffic causing vehs to swerve #fuming 😡\",\n",
       " 'alternate reality where @user has a comments section and you can give poems a cheery thumbs up or a disappointed thumbs down',\n",
       " '@user May I suggest, that you have a meal that is made with beans, onions &amp; garlic, the day before class. #revenge',\n",
       " \"I highly suggest if you are looking online for a company to help you send you're package overseas..DO NOT EVER EVER USE @user\",\n",
       " 'She began to squirm beneath @user struggling to get out of his relentless grasp. When she realized that the attempt was useless,++',\n",
       " 'As I remember and reflect on Reginald Denny on a night much like this (like #Charlotte) I think to myself, the gun lobby must be rejoicing.',\n",
       " '@user @user I was so looking forward to @user Then it opened with a #stuartspecial. I literally yelled at my tv. #umbrage',\n",
       " 'something about opening mail is just...very pleasing',\n",
       " 'When you have 15 doe run the opposite side of you 🙁 #depression',\n",
       " '@user you and that awful music can take a walk... right off a cliff. K. 😘',\n",
       " \"Day 9 and I am elated because I'm taking PTO tomorrow so I'm doneeeee. But:\",\n",
       " \"A pessimist sees the difficulty in every opportunity, an optimist sees the opportunity in every difficulty' -Sir Winston Churchill-\",\n",
       " \"@user don't think Ian knew of Pavel. He knew about Charlie. I bet Rob will cackle with glee when he heard what has happened #thearchers\",\n",
       " '@user maybe he had constipation issues..? Not that I KNOW dates relieve such an affliction! No way jose!',\n",
       " \"@user Smh, remove ideologically bankrupt and opportunistic establishment now. They're burning all bridges and social contracts. #anger\",\n",
       " '@user lost my xt nova around hole 8 or 9 #sadness',\n",
       " 'At #UNGA Pakistan clearly shows the face of cowardliness and blatant lies! Its time for #India to act upon terror.',\n",
       " \"AQW should've always stayed in the 08 art style, now it's just a competition to create more detailed art each time.\",\n",
       " '@user Mine is that the party did decide but the party has been slowly transformed into a vengeful hell-cult of white male resentment',\n",
       " \"@user @user @user Kirby's Black Panther in a cool animated panel.\",\n",
       " \"You can't fight the elephants until you have wrestled the pigs. #quoteoftheday\",\n",
       " '... flat party and I instantly get bollocked about it. #fuming',\n",
       " '@user Betelgeuse/Sloth was lively, dedicated and tenacious, Regulus/Greed is humbly content and Ley/Gluttony is starving hungry.',\n",
       " '@user #ldf16 what shall we do this weekend?  #spraypainting in #greenwichmarket with @user #core246 #lilylou #fret &amp; #benoakley',\n",
       " '@user awe man, when are you free then? ☹️️☹️️☹️️💘💘💘',\n",
       " '@user wanna shake my tree??? 🍑🍑🍑🍑',\n",
       " '@user he is.\\\\nSure his mind was clouded but...]',\n",
       " '@user now you gotta do that with fast n furious',\n",
       " 'Ffs 🙈 when things come back to haunt you... cringe bad cringe 🙋🏼👀🔫 👈 what a terrible gun that is',\n",
       " 'Never let me see you frown',\n",
       " 'A country that gave safe house to #Osama Bin #Laden is dangerous if not contained. #Pakistan is a #terror heaven, declare so @user',\n",
       " '#GADOT please put a left turn signal at Williams and Ivan Allen Jr Blvd. This is absolutely ridiculous #ATLtraffic',\n",
       " 'Once again the only thing on my feed is naay raging about something and my brother filling in all the gaps',\n",
       " '#haikuchallenge #haiku\\\\n\\\\nThe crisp autumn air\\\\nMy freedom purchased through death\\\\nNo one will mourn me',\n",
       " \"I honestly feel nothing towards either of my parents and it's pretty depressing\",\n",
       " 'If I could turn anxiety off--I would. #nooneunderstands',\n",
       " \"@user (Maybe don't provoke him in the future if you do not want to run the risk of him punching your board.)\",\n",
       " 'Karev better not be out!!! Or I am seriously done DONE with @user  #angry #unfair #ugh',\n",
       " \"But 'for me not to worry, they'll get a glass guy over and bill us for it'\",\n",
       " \"@user now I'm really excited for November! Hope they're not all horrid chavs though 😅\",\n",
       " '@user having a terrific game and not at all fazed #MCFC',\n",
       " '@user @user @user I threaten you because I can pussy',\n",
       " '@user fucked my coupon that goal!',\n",
       " 'Reflection: the grind has been so REAL! Working 2 jobs &amp; being in school. #ksudsm #ksu #recruiter #instructor #tumble #cheer #gradschool',\n",
       " \"Aberdeen st Johnstone, let's see who can punt it the furthest #awful\",\n",
       " '@user A stumbling block to the pessimist is a stepping stone to the optimist.',\n",
       " 'Listening to Joey really helps me and my anger.',\n",
       " \"@user The thing is, it's either I be unproductive and unhappy, or deal with some videos that do badly.\",\n",
       " 'Another joyful encounter in Tribez &amp; Castlez! I just met Bartolomeo! Do you want to know who that is? Download the game and find out!',\n",
       " \"@user @user @user yes exactly &amp; he's sold out this country to #terror while #lying to cover it up\",\n",
       " \"Woke by #nightmare @ 3AM, couldn't sleep any more, so took a #UseAllTheHotWaterShower. Now I have time to read.\",\n",
       " \"Got a $20 tip from a drunk Uber passenger. Today I get a $25 parking ticket. I'd blame karma but my dumb ass forgot to pay the meter.\",\n",
       " 'The Pats are awesome. Belichick is awesome ...they just are. #awestruck',\n",
       " \"David Gilmour's biggest compliment? B.B. King asked him after a gig if he was born in Mississippi #pinkfloyd #theblues #davidgilmour #blues\",\n",
       " 'I seriously hope these chances Celtic are missing are going to come back to haunt them with an Alloa sucker punch',\n",
       " 'I HATE little girls 😡😡 got a lot off growing up to do!!! #fuming',\n",
       " \"After she threw me out I had to sedate her. With a damn horse tranquilizer.'\",\n",
       " \"@user I was like that when I started college. It was horrific but it probably will get better. Don't give up yet\",\n",
       " '@user @user Hey stupid, that was bad intel to take Bin Laden out. Try again with your faux outrage. I bet u admire Putin right?',\n",
       " \"2 biggest fears: incurable STD's and pregnancy...I mean, they're basically the same thing anyway #forlife #annoying  #weirdsmells\",\n",
       " 'Howl at the moon with @user at @user next Wednesday the 28th for a FREE double feature of SILVER BULLET and CURSED #horror',\n",
       " 'Two blankets, a hoody, and still no Eternal Sunshine to mope to.',\n",
       " 'India wants to #shake #hands with # pakistan ..... but as usual pakistan #cheat with every #indian \\\\n\\\\n..........shameless pakistan',\n",
       " \"@user The depth that you've sunk to. You're readership deserves more.\",\n",
       " \"@user That was exhilarating hockey. They're still out if Russia wins in regulation I'm reading. #fuck\",\n",
       " \"I wish you stayed in Da Gump I'll make you panic like the last rapper\",\n",
       " 'Projection is perception. See it in someone else? You also at some level have that within you. #anger',\n",
       " '@user actually maybe we were supposed to die and my donation saved our lives?? #optimism',\n",
       " 'If you follow #Trump, a certified #bully there is no question you or your children may go to #War vs consumate #Diplomat @user',\n",
       " '@user the tunnels! I shudder to think of the grimy tweets...',\n",
       " \"@user #Disney's 1994 #animated #musical #film #TheLionKing was influenced by #WilliamShakespeare's #Hamlet. Songs by #EltonJohn.\",\n",
       " '😑😑😑&lt;---- that moment you finish a Netflix series and have nothing else to watch. #depression',\n",
       " 'im tired of people telling me the worry about me when in fact they probably never gave a fuck about me',\n",
       " \"@user @user AA have the right of passage when it comes to the 'N' word.  Why should he insult him in his church.  Ignorant!\",\n",
       " '@user sadly, war has often been the factor that jump starts US economic growth',\n",
       " 'When someone rudely says all women should have long hair and your inner feminist tries not to rage',\n",
       " 'The animals, the animals\\\\nTrap trap trap till the cage is full\\\\nThe cage is full, stay awake\\\\nIn the dark, count mistakes',\n",
       " '“He who is slow to anger is better than the mighty, And he who rules his spirit than he who takes a city.”\\\\nP16:32 #bibleverse #pride',\n",
       " '$8 million in box office doesnt do this movie justice. Political or not, #SnowdenMovie is a terrific thriller and love story. @user',\n",
       " 'Why upping rooms makes a few apprehend leaving out charcoal ownership: UnZU',\n",
       " '@user @user  yeah I received a fine today which I am furious about, currently appealing it after being a member for so long...',\n",
       " \"That grudge you're holding keeps making an appearance because #God wants you to deal with it.\",\n",
       " '@user shock horror handicap dodger is at the top 😂 close on the agg cup good , but think pressure will get to mark🤔',\n",
       " \"I'm girly in the sense that I always have lashes &amp; nails done but tomboy in the sense that black is my only color &amp; refuse the ruffle life\",\n",
       " 'From harboring Osama bin Laden to its relationship with Haqqani network, there is enough evidence to prove Pakistan is sponsoring terrorism',\n",
       " \"It's not that the man did not know how to juggle, he just didn't have the balls to do it.\\\\n#funny #pun #punny #lol #hilarious\",\n",
       " \"@user droop saw naked wrestling and asked 'What if I get a hole in one?' #jaymohrsports\",\n",
       " '@user you got this💙 #staystrong #smile #yourebeautiful',\n",
       " 'Nothing else could possibly put a damper on my day other than doing X-rays on someone with kickinnnnn ass breath 😿',\n",
       " '@user The concept that a gay magazine feels like it has to cover terrible people -because they’re gay voices- seems all upside down',\n",
       " \"@user But this is no easy ride for a child cries: \\\\n'Oh, find me...find me, nothing more, \\\\nWe are on a sullen misty moor...'\",\n",
       " '@user Very thought provoking &amp; leads one to question what really happened.Very sad for all.',\n",
       " \"Migraine hangover all day. Stood up to do dishes and now I'm exhausted again. GAD, depression &amp; chronic pain #anxiety #depression #pain\",\n",
       " 'i had an hour of football practice under the boiling sun and now i have 2hr volleyball practice under the BOILING SUN AGAIN',\n",
       " \"That's how you start a season that's how you open the show #show #them #how #dark #hell #can #get #Empire\",\n",
       " 'Might just leave and aggravate bae',\n",
       " 'The joyful tambourines have ceased. The noise of the jubilant has stopped. The joyful lyre has ceased. -Isaiah 24:8',\n",
       " 'my boyfriend once forcibly stopped all of my anxiety coping methods at once (holding me, forcing my hands down that kinda stuff) and I --',\n",
       " \"@user Ended up paying 75p for half a tube of smarties. Don't even get the pleasure of popping the plastic lid off either\",\n",
       " 'But this is the internet age, so get mad out of any and all proportion and assume the terrible worst with little to no facts or knowledge.',\n",
       " '@user @user @user @user @user awe I feel so bad being naive ou is the worst',\n",
       " 'Rooney = whipping boy. #mufc #sad',\n",
       " '@user start buying Death Wish Coffee and shake hands with espresso every now and then.',\n",
       " '@user cheer up',\n",
       " \"@user I'm sure you'll have a heyday if they do\",\n",
       " \"@user @user @user @user @user @user to give me my keys back. They aren't for my house! #shocking\",\n",
       " '#ObamaLegacy - weekly #riots and #terror attacks, &gt;400k dead #Syrians, #Jews fleeing #persecution in Europe, #Christian #genocide in ME.....',\n",
       " 'Drop Snapchat names #bored #snap #swap #pics',\n",
       " '@user @user #lestweforget 3 yrs on, 2013 Graduate Trainee recruitment not concluded. #disappointed #weary however  #wewait',\n",
       " 'Happy Birthday @user  #cheerchick #jeep #jeepgirl #IDriveAJeep #jeepjeep #Cheer',\n",
       " \"@user omg I'm so slow bc my eng is not very well and my hands are shaking uhh help meee I'm like this lil chicken now 🐥#MoreisBetter\",\n",
       " '@user is the android app it designed to be buggy and work sporadically on a fire TV box?',\n",
       " \"@user @user @user @user Don't provoke the Voke.\",\n",
       " '@user bad.I am fearing for my life🙏',\n",
       " \"@user some don't see the difference between courting and appealing to a women vs deception &amp; pressure it's depressing\",\n",
       " '@user Customer services got involved and eventually completely wash their hands of it. #awful #dreamornightmare',\n",
       " 'Look at this #massiah of #youngleader\\\\n#Pakistan #massiah of #terrorism',\n",
       " 'This pretentious dick in Night Gallery just fucking, used a towel to dry off his sink',\n",
       " 'Another day Another flight 🙈  I swear my last ever @user flight!!!! You take the LOVE out of flying #easyjet #horrific #alwaysdelayed',\n",
       " \"@user We're sorry to hear about the issues and how this is making you feel. We don't like to hear our customers being unhappy :-( We\",\n",
       " 'We fear not the truth, even if it be gloomy, but its counterfeit.-\\xa0Berl Katznelson',\n",
       " 'I miss my gran singing Rawhide, in her deep baritone growl.',\n",
       " 'Egyptian officials expressed frustration and outrage over the Obama/Hillary administration’s support of the Muslim Brotherhood',\n",
       " 'two major banking stocks down almost 15 to 20 % from their highs while benchmarks still close to top it is a sure #worry for markets',\n",
       " 'Batman the animated series is a gift from the 90s animation gods',\n",
       " '@user but what I am doing is in my control, #AvoidMMT , you guys are #terrible',\n",
       " \"it didn't impress me but it didn't depress me'\",\n",
       " \"@user @user I couldn't care less about #GOTHAM. I haven't watched it since the mid point of season 1. #horrible\",\n",
       " '@user @user @user Yes, it is bad to point out racism lest it provoke the racists.  Some racists do indeed not like it.',\n",
       " 'Just seeing Alex revells face gets me angry',\n",
       " '@user @user @user @user I dread to think... #DirtyPeople',\n",
       " '@user If you get it going with him, tag me the link please. I have a lot of friends who love following his unintentional hilarity.',\n",
       " 'In addition to fiction, wish me luck on my research paper this semester. 15-20 pages, oh boy. #daunting',\n",
       " \"@user - I can't read this article but headline indicates a horror story. Lock sick chavs up and throw away the key.\",\n",
       " \"@user @user I live a life devoid of mirth. Come to think of it, there aren't enough taco bowls in my life, either.\",\n",
       " 'Trying to book holiday flights on @user website is becoming a #nightmare',\n",
       " '@user John Kerry fckd u,chief justiceofpak made the statement publicly about party supporting terror what else u need#terrorstatepak',\n",
       " '@user jeezus God #dark',\n",
       " \"I've realized my anxiety is at an all time high when I'm in my office. I feel prisoned here and I pick up on bad energy.\",\n",
       " 'r U scared to present in front of the class? severe anxiety... whats That r u sad sometimes?? go get ur depression checked out IMEDIATELY!!!',\n",
       " \"@user today which can impact the signal, I'm afraid :-( Our engineers are working to have this resolved by this evening and you'll\",\n",
       " \"Oh dear an evening of absolute hilarity I don't think I have laughed so much in a long time! 😂\",\n",
       " 'Wtf are United doing, shocking defending',\n",
       " \"Amateurs sit and wait for inspiration, the rest of us just get up and go to work.' -- Stephen King #authors #serious #writingtip\",\n",
       " \"Jesus wept! Another RNS from #rusty @user quote 'Price sensitive news, Price Sensitive news' etc etc The #Ramping here is\",\n",
       " 'Is there a perfume that smells like the smell of smokey incense because i would be all about that',\n",
       " \"@user I personally liked #relentless …didn't get #OurHouse #OneJersey #werealldevilsinside \\\\nDoes nothing till a puck drops #NJDevils\",\n",
       " '#Scorpio always seek revenge!',\n",
       " '@user @user lmao awe...  #sad',\n",
       " \"Appropriate that first secretary at permanent mission is tasked with demolition of #terror state #Pakistan - Like 'renunciation of lies' bit\",\n",
       " '@user meden is frowning at you with her non existent face',\n",
       " '@user I ❤️you on DWTS You make my night every show! 😘',\n",
       " 'still shaking though 🙃',\n",
       " 'When you arrive at the office the day before your first ever festival and the Internet is down #panic',\n",
       " \"So drunk me hid my keys very well sober me couldn't find it anywhere\",\n",
       " \"They'll be yo friend, shake your hand, then kick in yo door thas the way the game go🤖🤐.\",\n",
       " \"So depressing that it's darker so much earlier now\",\n",
       " 'I just got asked to hoco over instagram dm bc someone lost a bet. Love the maturity of the people in my grade!!!!',\n",
       " \"@user they say you attract what you see, maybe I shouldn't be a pessimist but I don't wanna take any chances lol can't wait to relocate\",\n",
       " '@user Seriously. Digging those eyebrows. #animated',\n",
       " '#Taurus females are beautiful, sparkling jewels glowing in the moonlight.',\n",
       " \"@user it's very telling that racist bigots always resort to the insult 'fag' like that's worse than being a racist bigot.\",\n",
       " 'Watch this amazing live.ly broadcast by @user  #musically',\n",
       " '@user NO. The gay guy and the dad revenge fucking',\n",
       " '@user why should I listen to someone with a tie like that? #awful',\n",
       " \"I don't talk about politics because people nowadays get offended easily!\",\n",
       " \"@user She's jogging a bit to stay beside her, puffing her cheeks with a huff each time. 'Oh-- jeez Jasper, why don't you —\",\n",
       " \"@user @user @user @user he'll defend his belt against aldo after its not that hard u grudge holding bitch\",\n",
       " '@user : I liked that she was not moping around in all of the episode. She had a moment of emotional weakness, felt sorry about -',\n",
       " \"@user it wasn't a joke .\",\n",
       " \"Now it's time to remove CB from the team somehow. Screw it. Rip the Band-Aid off. It'll sting for a bit but everyone will get over it.\",\n",
       " \"@user @user @user @user gotta shake the booty instead though, makes sure it's all good 🙂\",\n",
       " \"@user They've officially said all the episodes left (so future 12 and despair 11 and 12) will be delayed.\",\n",
       " '@user : Whaaaat?!? Oh hell no. I was jealous because you got paid to fuck, but this is a whole new level.  #love #conflicted😬',\n",
       " 'Watch this amazing live.ly broadcast by @user  #musically',\n",
       " \"Well my evaluation came back and i am minimally effective. Student test scores on the PARCC sunk my eval. it's time for me to quit teaching\",\n",
       " 'The majority of people irritate the fuck out of me, cba with people ahahah',\n",
       " 'Omg I actually thought she was going to jump.  #SouthPark20 #southpark',\n",
       " \"Never make a #decision when you're #angry and never make a #promise when you're #happy. #wisewords\",\n",
       " '@user just watched you on the great wall #hilarious 😆',\n",
       " 'Everything I see of American police training seems calculated to trample human dignity, inflame outrage, and escalate confrontations.',\n",
       " '@user #dhoni bcoz of is calmness nd match winning  finishers nd a proud #miltirian #dad#husband nd wonderful humanbeing nd his #smile',\n",
       " '@user  The point of voting for Trump to push all the pieces off the board game like an angry toddler? Wreck everything for everybody?',\n",
       " \"@user @user Very rare an officer just shoots without regard. They don't want that on their conscience. #incite\",\n",
       " \"WHY TF DO BROKE BOYS KEEP TRYNA FIND GF's? GET UR FUCKIN $$$ RIGHT B4 I SMACK YO BITCHASS, she deserves 2be happy &amp; u don't deserve that ass\",\n",
       " '@user hey breezy, you wanna give me some of that coffee you posted on your snap?? please',\n",
       " \"@user it would be great but what if the card crashes 😱. It's happened to me twice #nightmare\",\n",
       " 'There is nothing like being in the shower when the power goes out 😳 #creepy',\n",
       " \"- blood and mucus and he chokes and has to swallow, mirth cut too short. 'Wrong answer.' It takes some awkward movements - @user\",\n",
       " \"I'm moving this weekend &amp; my sugar daddy will replace it so, it is what it is. Niggas still happy.\",\n",
       " \"@user your a joke I pay for data when I'm in Spain and you then text and say I've used up all my data #terrible service\",\n",
       " \"@user if we don't understand how to express our emotions to others, may lead to sadness / loneliness &amp; neg impact on long term mh #MHChat\",\n",
       " \"@user I'm so sorry. This is heartbreaking and so scary. If it can happen there it can happen anywhere. Please be safe 🙏🏻\",\n",
       " \"@user @user I've got #teampaella presents on their way for you and Fi but I don't think they'll arrive by Saturday sadly!! ;)\",\n",
       " 'A cheerful heart is good medicine, but a crushed spirit dries up the bones. A wicked man accepts a bribe in secret to pervert  justice.',\n",
       " \"The side effects of #fighting and #disrespect.. comes #ignoring the person and show you #don'tcare at all!! #sweet #revenge.\",\n",
       " \"#welfarereform should not be a 'model' for #snap.\",\n",
       " '@user but what I am doing is in my control, #AvoidMMT , you guys are',\n",
       " 'I truly feel like science has the ability to make a milk out of anything ... cashew milk, hemp milk, pine nut milk, dandelion milk',\n",
       " '@user @user her team must draw from a hat for daily personality #drugged  #yeller #quiet #screamer #😂😂',\n",
       " '# ISIS REFERENCES SCRUBBED?  Federal complaint against suspect in NYC, NJ bombings appears to omit terror names in bloody journ...  #news',\n",
       " 'Free live music in DC tonight!  #blues with #MoonshineSociety at @user in the Loft starting at 10:30pm @user @user',\n",
       " 'ESPN just assumed I wanted their free magazines',\n",
       " \"I am a third year college student and and English major. Today is the first time I've ever written an essay without having a panic attack\",\n",
       " \"@user don't leave me #sad\",\n",
       " \"Honestly don't know why I'm so unhappy most of the time. I just want it all to stop :(   #itnevergoes\",\n",
       " 'I am #real #sjw, I will not let #america down\\\\nI have found us, now go and get us\\\\nI let it out and I let it in\\\\nI #rage I #lol\\\\n@SergioSarzedo',\n",
       " 'The neighbor dancing in the Clayton Homes commercial is me. #hilarious',\n",
       " '@user YUUUHH 🙄😭 plus clin ep and prevmed ugghhh hahaha',\n",
       " \"@user Ended up paying 75p for half a tube of smarties. Don't even get the pleasure of popping the plastic lid off either #outrage\",\n",
       " 'Rooney = whipping boy. #mufc',\n",
       " \"@user @user Horrid disease! My maternal grandmother and each of her sisters suffered from this affliction. It's hard on all.\",\n",
       " \"Side chick's be trying to fuck u like your going to forget about your wife when your done.\",\n",
       " 'Praying for the #Lord to keep #anger #hate #jealousy away from your heart is a sign of #maturity #conciseness',\n",
       " \"Don't get too close it's dark inside 🌫🌊\",\n",
       " '@user u tried boiling em takes years too',\n",
       " 'Loving @user @user talk #challenge #fear #map #inspiration #stayunstoppable',\n",
       " \"How hard is it to get in touch with @user One simple question I can't find answer to on website and 1 hour waiting for online chat\",\n",
       " \"I seem to alternate between 'sleep-full' and sleepless nights. Tonight is a sleepless one. 😕 #insomnia  #notfair\",\n",
       " \"@user Sam- yes we have! Not helpful at all! We need this sorting ASAP! You keep promising stuff that doesn't happen!!!! #fuming\",\n",
       " '@user Just to help maintain and boost our status as a world class centre for education, culture and tolerance.',\n",
       " \"@user 'Just by getting lost! I don't want to see you in my eyes!' Hungary huffed and crossed her arms, looking away angrily.\",\n",
       " '@user apparently you are to contact me. Sofas were meant to be delivered today. Old ones gone. Sitting on floor. No sofas! #fuming',\n",
       " '@user I nearly started crying and having a full on panic attack after tatinof bc of the crowds so I feel him',\n",
       " \"ffs as if tate thought wind in the willows was a serious play, can't wait to see him play a singing badger 😩😂\",\n",
       " \"@user 'Congratulations your Free 1 month has been activated' Then charges £34.80 the same month. Absolutely furious 😡\",\n",
       " 'If a cop is going to pull a gun on you for no reason at all and threaten you, you should be able to merk his ass and walk away.',\n",
       " '@user jeezus God',\n",
       " 'I need some to help with my anger',\n",
       " 'Just got done watching Jeepers Creepers it was epic #horror #horrormoviesarebest #movies #movie #horrorfilm 🎬📽🎬',\n",
       " \"Tho we haven't talked Jeff but the news is so sad and shocking. R.I.P Jeffrey\",\n",
       " 'second day on the job and i already got a 45 dollar tip from a dude whose was constantly twitching his eye LOLOLOL #cheering',\n",
       " 'Look at us, smiling in the photograph♪ You can see the secrets behind the fake smiles♪ (*・ω・*) (©FACT「a fact of life」)',\n",
       " \"It's been 5 weeks and I still go through depression smh\",\n",
       " 'We have left #Maine. #sadness',\n",
       " '@user Where has your 50% grapefruit squash gone,not been able to get for weeks #unhappy',\n",
       " 'Howl at the moon with @user at @user next Wednesday the 28th for a FREE double feature of SILVER BULLET and CURSED',\n",
       " \"I am often disturbed by what some people find appropriate or acceptable. It's not funny nor cute that adults find this stuff humorous. #sad\",\n",
       " '“What worries you masters you.” - Haddon Robinson @user #Jesusisthesubject   #anxious',\n",
       " 'Love takes off the masks that we fear we cannot live without and know we cannot live within. - James A. Baldwin',\n",
       " \"I wouldn't have #anger issues.....if she didn't have #lying issues.....think about that one. #pow #lies #confusion\",\n",
       " 'When you have 15 doe run the opposite side of you 🙁',\n",
       " \"Worst juror ever? Michelle. You were Nicole's biggest threat. #bitter #bb18\",\n",
       " \"@user he's stupid, I hate him lol #bitter\",\n",
       " 'People are trying too hard to hate on Cam Newton without understanding his position #sad',\n",
       " \"Angry shouting match between a #pessimist &amp; an #optimist:\\\\n'You're a half empty-headed @user \\\\n'You're half full of @user\",\n",
       " '@user did it not just enliven your soul',\n",
       " 'Now ...what to do for the next hour while waiting for #OurGirl to start @user ?!',\n",
       " '@user @user @user @user @user @user @user Oh god, not Brewer again. The horror, the horror',\n",
       " 'Fucking hell. Rush for the damn train also no use. Fucking 4min wait. Still sweating.  #smrtruinslives',\n",
       " 'i was angry.',\n",
       " \"I love when people say they aren't racist right before they say some racist shit... Not how that works... #fuming\",\n",
       " \"Sometimes I think the British political landscape is desolate and then I look over at the foaming wasteland of the US and think we're OK\",\n",
       " '@user @user You two are TEN TIMES more interesting than those particular afternoon goofballs (I could say worse). #umbrage',\n",
       " '@user @user WAS THERE A CLOWN IN YOUR NEIGHBORHOOD?  #creepy #EnoughIsEnough',\n",
       " \"@user ehhh I guess. I want to everyone I've ever burst out laughing in front of😂\",\n",
       " 'My boss likes to stand in my office &amp; smile at me like a shark: maliciously gleeful, and ask me how am I as if I have a secret to tell her.',\n",
       " '#amwriting #horror in the dark and a loud creaking door noise is coming from the kitchen. There are no doors there to creak. WTF.',\n",
       " '🔥Anger is the acid that can do more harm to the vessel in which it is stored than to anything on which it is poured.🔥 #anger \\\\n\\\\n~Mark Twain',\n",
       " \"@user how do u guys determine teams? Cause I'm 80% on shitty teams when I play and I'm fuckin over it #cod\",\n",
       " '@user @user only offering 6 moth warranty #ps4pro  #truth #ripoff',\n",
       " \"@user there was a US diver named steele johnson. i'd like him barred from the olympics.\",\n",
       " 'And here we go again 😓 #restless',\n",
       " \"@user Give it up Gas, I don't hate u, I just don't respect ur rudeness. #bully\",\n",
       " 'whats with these boxes when i search google on chrome  #distracting',\n",
       " 'When you wake up, scroll through social media, and another father was taken from his child  #everyday #KeithLamontScott',\n",
       " \"@user It's buzzing pathetically for sympathy if you let it out it will twirl it's moustache, chuckle and sting you #Psychowasp\",\n",
       " '@user terrible',\n",
       " \"@user I'm surrounded by those Trump voters. You're right, it is fucking terrifying. #redstate\",\n",
       " \"Democracy doesn't work\\\\n #mob #mentality #mass #hysteria  #mongering #oligarchy\",\n",
       " 'Can we get a shot of Lingys face at 1/4 time ? Pretty sure it would be more red then his hair  #pretendinghesok #ruok #AFLCatsSwans',\n",
       " '@user @user give me a smiling emoticon will ya? i dont like the idea of you frowning &gt;.&lt;',\n",
       " \"So my Indian Uber driver just called someone the N word. If I wasn't in a moving vehicle I'd have jumped out #disgusted\",\n",
       " '@user @user welcome ji . sorry for words that irritate u',\n",
       " 'Asian Tiger #Mosquitoes are so relentless. More aggressive than the kind I dealt w/as a kid.',\n",
       " 'Goddamn headache. #anger',\n",
       " 'Never forget that 5Live cancelled programs, to allow them to extend 606 so people could call in and detail their outrage after our behaviour',\n",
       " \"Glad I didn't watch smackdown because I can't see my men @user @user lose. #sohurt #revenge\",\n",
       " \"#LMFAO @user 's #racepimp Tamron Hall used the words 'fscts' and 'MSNBC' in the same sentence  #libtard #biasedmedia #neverHillary\",\n",
       " 'Hate when guys cant control their anger 🙃🙃',\n",
       " 'Just caught up with @user wonderful new series on #EalingComedies. Infectious delight in every interview and film clip.',\n",
       " 'So Rangers v Celtic ll #revenge',\n",
       " \"@user unless your concern is people figuring out who you are for wtvr reason, I don't see why you shouldn't tweet about other things\",\n",
       " '@user @user @user @user These interviews scare the crap out of me. I never imagined so many dumb, dumb Americans.',\n",
       " 'Omg he kissed her🙈  #w',\n",
       " \"@user Gabe the worst part is I can't get hot status this month because there's no chipotle near enough to my campus #sadness\",\n",
       " 'Lot 100 would give Ghandi road rage',\n",
       " 'Being forced into a fake hug by someone who didn’t flinch to get litigious with you in the past - #awful 😖👺🙅',\n",
       " '@user #worst exec complaints ever #horrific customer journey',\n",
       " 'The ghost of Stefano reflects on the grim indignity of being murdered by corrupt cops in faux love. #days',\n",
       " '@user @user @user #bully #Bullshit #fullofshit please take out the #garbage',\n",
       " '@user she looks completely #rabid @user',\n",
       " \"@user I'm always a little bit weary of speaking up because 1. I don't want to hijack the convo - as an LGBT person, I've seen\",\n",
       " '@user shameful display I watched today has left me reeling with so much anger dt I feel like exploding, those clowns should watch it',\n",
       " 'We so elated, we celebrated like Obama waited until his last day in office to tell the nation, brothers is getting their reparations',\n",
       " \"@user it doesn't offend me but it's just,,, Weird.\",\n",
       " '@user hit the sink with a hammer... sorry, the universal modifier!',\n",
       " '@user not received verification email, asked for it to be resent 5 times still nothing.',\n",
       " '@user i would just get some decent referees #shocking',\n",
       " '@user Forget the hair, that salon looks so light &amp; cheery! Would go there for a coffee &amp; read a book!',\n",
       " '@user \\\\nIf this room was burning 🔥',\n",
       " '@user @user candy corn is the greatest candy in the world when it comes to being objectively terrible',\n",
       " 'You insult the late Sherri Martel',\n",
       " \"I hate that if I don't start the conversation, there won't be one.\",\n",
       " '@user yes Hun! Avoid at all costs!!',\n",
       " \"When a grown adult doesn't drink or has never drank before I just assume they were raised around a raging alcoholic and they want no parts.\",\n",
       " 'Happy 69th @user May u keep haunting us for many years. #horror #writing',\n",
       " \"@user #terrorism shouldn't be a way of life in the united etates and wasn't until #islam brought it here! #IslamExposed #islambacon\",\n",
       " 'Watch this amazing live.ly broadcast by @user  #musically',\n",
       " 'I mourn the creativity lost.',\n",
       " \"@user take deep breaths bc the shaking could be from adrenaline. Oh wow that's weird. Depending if you're regular or not that varies-\",\n",
       " \"Sorry guys I have absolutely no idea what time i'll be on cam tomorrow but will keep you posted.\",\n",
       " 'nooooo. Poor Blue Bell! not again.',\n",
       " \"@user @user an 'Honorable Senator' cheering when a cease fire does not hold! PEOPLE DIE AND YOU CHEER! GENOCIDE SUPPORT NOT GOOD!\",\n",
       " \"Professor: introduce yourselves and say one interesting fact\\\\n\\\\nHi I'm Ethan and the Sun will engulf our planet in a fiery explosion one day\",\n",
       " \"Ignored broken tooth for so long, now have abscess. Need dentist but #fear makes it hard for me to go..45 and still can't go to dentist\",\n",
       " \"I don't know what's worse, the new Pizza Hut commercials or the pizza that Pizza Hut makes. #horrible\",\n",
       " '@user @user @user I once hooked them up backward. Not recommended. #smoke',\n",
       " 'follow my girl tiff she only got 3 followers💖💘💖💘💘 @user',\n",
       " 'Getting so excited for @user 2016!! We play the main stage Sunday Oct. 16 at 3:30!! #jazzholiday #riesbrothers #rock #blues #jam',\n",
       " \"Love how Megan is raging about this Kendall Jenner photo and I'm sat here like 🤔🙃\",\n",
       " \"Think of #anger as this barrier between you and your truth.' @user\",\n",
       " 'New play through tonight! Pretty much a blind run. Only played the game once and maybe got 2 levels it. #Rage',\n",
       " '@user @user YES! I am rejoicing',\n",
       " 'Forgot to plug the phone in overnight #nightmare',\n",
       " 'The war is right outside your door #rage #USAToday',\n",
       " \"Folk Band 'Thistle Down' will be replaced by 'The Paul Edwards Quartet' at Laurel Bank Park Sat 24 11am - 3pm due to ill health #jazz #blues\",\n",
       " '@user haha!! No, sorry was it too grim even for you?! It disturbed me &amp; im starting to lose all trust in Twitter generally!!',\n",
       " \"When you're scared to press send #bgoodthepoet #PrayForMe #ThisIsAGodDream #career #help  #heart #HeartRacing\",\n",
       " '“Competition is suppose to motivate you to do better everytime not to be bitter all the time” -De philosopher DJ Kyos \\\\n#quote #success #CSGO',\n",
       " '_Her mind is a #dark room,\\\\nDeveloping #Madness  ♨😘',\n",
       " \"What's the worst affliction that you or someone you know ever convinced yourself you had?\",\n",
       " 'warning: i am a sensitive, angry, insecure baby today, but UGH why do people at large either hate or ignore me bc it is literally~the worst~',\n",
       " 'Like he really just fucking asked me that. #offended',\n",
       " \"@user haha! She did well today. I can't get beyond her pout annoying me I'm afraid.\",\n",
       " 'Have to say that third City kit is fucking awful. Someone at Nike wants shooting.',\n",
       " 'Damnnit! Gonna be 1400 pts shy on Chiefs Rewards of getting a post game photo.',\n",
       " 'I just want to be in Canada rn 😭 awe',\n",
       " '@user @user @user N-no. Because of your wrath.',\n",
       " '@user @user @user The way my blood is boiling, little bastards!',\n",
       " \"@user @user @user I'm sadly not, I'm just being smutty\",\n",
       " '@user but  @user drugged and raped those women. At least you and Barb were sober and consenting!!',\n",
       " '@user awe yay wish i could rt /:',\n",
       " '@user   How dull.',\n",
       " '#Anger or #wrath is an intense emotional response.',\n",
       " \"I'm at the point in my life that I'm playing Christmas music in my room because i need winter and joyful times rn\",\n",
       " 'Chart music is pretty much ALL the same..',\n",
       " 'Mom you remember when Narley died? You cried like a baby!',\n",
       " \"@user @user @user I don't listen to White Trash talk about blacks. It's insult. Talk about your race living in trailers\",\n",
       " \"my alarm clock was ringing this morning n my flatmate knocked on my door and asked if i set anything on fire or if i'm burning alive :) :):)\",\n",
       " \"Why do I have such bad anxiety it's annoying\",\n",
       " 'Overwhelming sadness.  This too shall pass.  #lonley #startingover',\n",
       " 'second day on the job and i already got a 45 dollar tip from a dude whose was constantly twitching his eye LOLOLOL',\n",
       " 'Everything is far away because time is short, no rest for the weary.',\n",
       " '@user @user well of course.Progress for the sake of progress must be discouraged. The problem is the substance of the rhetoric',\n",
       " 'Confiaejce comes not from always being right but from not fearing to be wrong.-Peter T. Mcintyre',\n",
       " \"i love that tay &amp; tiff are just sitting at my house while i'm at work 🙃\",\n",
       " \"@user it ain't that serious. #HOUvsNE #awful #igotbetterthingstodotonightthandie\",\n",
       " \"Harking back to 2012 - DT's challenge to @user will give...DT a hearty thank you...if he will release his tax returns....\",\n",
       " '@user  cheering for @user and @user',\n",
       " 'I wonder if the #wolfcreek TV show is sponsored by the anti-tourist board of Australia to discourage visitors? #stayathome #dontvisit',\n",
       " 'there is no shame in fear, what matters is how we face it.',\n",
       " '@user #mhchat Childhood experiences inform adult relationships. We have associative memories Not a question of ability to process #sadness',\n",
       " \"@user  maybe it'd have been different if I stayed for sixth form? But still, the oppressive architecture, uninteresting people\",\n",
       " '@user Content updates provoke that income.',\n",
       " \"@user @user I lost it at 18. Like, really not a big deal. Don't worry about trivial shit like that.\",\n",
       " '@user I was talking about further in the expansion, with more gear - fury always does well towards the end',\n",
       " 'Thoroughly enjoying AHS tonight. #ahs #horror #americanhorrorstory',\n",
       " '@user @user shocking work ethic by our players, Rooney stifled by their laziness',\n",
       " \"I can't believe @user can't put up even 3 points on @user #horrible #hugeletdown\",\n",
       " \"for an lgbt person to tell someone else that how they identify isn't valid is so sad and against everything we should stand for\",\n",
       " \"Feminists should ask themselves, why they're so unhappy, and why they lack love in their lives. Is it b/c they are fighting a losing game?\",\n",
       " \"I know it's the final day of summer when it's the finale of @user #sadness\",\n",
       " \"Thought the Xbox one s madden bundle would come with a physical copy of madden not a code😴 it's gonna take fucking forever to download lol\",\n",
       " '@user @user @user This shit is gonna start a cold war of who can flag who first.',\n",
       " '@user Childood experiences can  leave you with permanent deep sadness as adult  it can underlie everything #MHChat',\n",
       " 'You forever straight so fix that frown u good😇 @user',\n",
       " 'Early morning cheerfulness can be extremely obnoxious #ALDUB62ndWeeksary',\n",
       " 'Now that the n word is normalized by the media? Just wow. No words for this . No. Words. For . This. Frog been boiling in the pot via media.',\n",
       " 'I guess #bradangelina &gt; #anger &gt; #blacklivesmatter',\n",
       " 'You complain all the time and then wonder why people never want to see you. You acc rile me up. Stfuuu!!!!',\n",
       " '@user @user Did they get the wrong fur Pal? #shocking 😱',\n",
       " \"Don't let worry get you down.  Remember that Moses started out as a basket case.  #lol \\\\nToday, choose #faith over #fear #Moses\",\n",
       " '@user @user evil, rich white men and their fucking cronies in intelligence/gov/academia using blithe blacks as fodder',\n",
       " 'Maybe the entire Russian team will test positive for meldonium and the North Americans will get to replace them #optimism',\n",
       " 'Headed to MDW w/ layover in SLC. Got off for food. Wrong move. Bailed on my food &amp; barely made it. @user #WannaGetAway #Contest #sad',\n",
       " 'Literally being here makes me depress tbh',\n",
       " 'I wish the next madden has a story mode too. Just like Fifa 17',\n",
       " \"Do not grow weary in doing good.'\\\\n\\\\n-@billclinton\",\n",
       " 'Time to go hit up the library - I have a lovely PILE of book reservations to collect this morning... #glee #books #reading',\n",
       " \"#BB18 Michelle crying  again #shocking #bitter He's  just not that into you 😢#TeamNicole\",\n",
       " 'I need to think of a new Avatar for Fire Emblem Revelation as I might start playing it soon, any ideas for names? What gender do I choose',\n",
       " '@user @user @user @user please. Or you could be clouded by your passion. Emotion leads you from the truth.',\n",
       " \"Quinn's short hair makes me sad.\",\n",
       " 'Drop every fear...',\n",
       " \"Sometimes the best motivations come from 'proving them wrong' #energy #relentless #MotivationalQuotes\",\n",
       " \"I Don't know what make #Pakistan fear more their #terrorist or their #terrorism  #TerrorStatePak\",\n",
       " 'What day is it #lost',\n",
       " 'You are NOT your struggle or You are NOT your affliction! #YouAreStrong &amp; #YouAreArising above it all!',\n",
       " '#nana 4 hoco bc my dream since freshman year awe 😙❤❤❤ @user',\n",
       " 'Can someone make me a priority list of which things I should be outraged at + in which order?  #racism #animalrights #abortion #cops',\n",
       " \"@user don't I know it, try not to fret my sweet little pupper\",\n",
       " 'People too weak to follow their own dreams will always find a way to discourage yours.',\n",
       " 'No red card for Gordon there? The ref must be a Celtic fan as that was a shocking challenge.',\n",
       " 'Seeing #RIPShawtyLo got me thinking bout other rappers then I thought about @user dying, and burst into tears... Smh',\n",
       " '@user peanut butter takes away the sting',\n",
       " 'Angel got me nervous out here 😷',\n",
       " 'Patti seems so sad. She stamped and ran behind the sofa. We will have to give her plenty of love and affection...more than usual. #sad',\n",
       " 'no offense but the doctor crying tears of joy after realizing he has a family for christmas is Cute',\n",
       " '@user its reaper!! before he became reaper, you can find their stories on the wiki and thru the comics and animated shorts!',\n",
       " \"@user @user @user That might sting for a bit lads but you'll get over it.     #betterwithsinnfein\",\n",
       " '@user yeah whatever, whahibbi are #muslims just a sect, as you know,  #islam is synonymous with #rape and #terrorism',\n",
       " '13 hour @user rides make me  #sorry',\n",
       " 'Wish I was a kid again. The only stressful part was whether Gabriella and Troy would get back together or not. #hsm2 #nightmare',\n",
       " '{Strong hands moving to firmly grope each of @user thighs, squeezing as her digging nails extract a growl from me.}',\n",
       " 'Rojo is hilarious',\n",
       " \"@user They look FAB, they were made for the big screen!Can't wait to see this evolve &amp; the bright future of these little toy people\",\n",
       " 'is it bad that kurt is literally me..?',\n",
       " \"@user @user the refs are in GT's favor tonight. #terrible\",\n",
       " 'Not sorry for that burst of anti #Allo spam, fuck any messaging app launching in 2016, without encryption on by default.',\n",
       " \"Halfway to work and I realize I forgot to put on underwear....It's going to be one of those days! #mombrain #toomuchgoingon #longday\",\n",
       " \"How sad is it that I'm rejoicing over a 72💀 #collegekills\",\n",
       " '#aliens #zombie #gore #slash #ghost #sith #horror I love it all. 🔪',\n",
       " \"Tell me how I'm supposed to feel. #broken #hateful #guilty #love #sadness\",\n",
       " 'The Zika #Hoax Files: DEET is part of a binary chemical weapon targeting your brain: #Toxin #fear #neurological #USCitizens #Insect #mammal',\n",
       " \"Even a pencil✏ never #stayed  with me until it's #end ⚫ 😞\",\n",
       " \"@user where's your outrage that your party nominated a lying, corrupt person? And received donations from nations who support terror\",\n",
       " 'I forgot #BB18 was on tonight \\uf633 that is how much the real world has been distracting me #horrid \\uf645\\uf3fc\\uf648\\uf64a',\n",
       " \"@user @user @user @user @user goddamn...the 'celebrity' draft at the end was classic. #hilarious\",\n",
       " \"Ugh.. Why am I not asleep yet. Fml. I think low key I'm afraid I might miss something. #SleeplessNight #sleepy #restless\",\n",
       " \"I am often disturbed by what some people find appropriate or acceptable. It's not funny nor cute that adults find this stuff humorous.\",\n",
       " \"It's become a verb. 'I'm gonna Villaseñor all those old contacts I don't need anymore.' #sadness @user #waitingforexplanation\",\n",
       " 'Marcus Rojo is the worst player i have ever seen. Useless toasting burning bastard',\n",
       " \"#bcwinechat what's the most common method used to make BC #sparkling #wine?\",\n",
       " 'Step out of your comfort zone. \\\\nGo for risks.\\\\nFace things you fear. \\\\n\\\\nThis is when life starts to happen.\\\\n\\\\n#cpd',\n",
       " '@user And who asked you to gate crash with your dumb idiosyncrasies when sober people are analyzing a situation!\\\\n@BanoBee @user',\n",
       " \"Should've stayed at school cause ain't nobody here\",\n",
       " '@user @user Not a word about terrorism.',\n",
       " \"My 2 teens sons just left in the car to get haircuts. I'm praying up a storm that they make it home safely!! #sad #TerenceCrutcher\",\n",
       " '@user hannah stop being mournful and chill 💁',\n",
       " \"Just had to reverse half way up the woods to collect the dog n I've never even reverse parked in my life 🙄 #nightmare\",\n",
       " \"@user Wow, did you get a really good buy on a bunch of '70's movies? There were bad then and are worse now! #awful\",\n",
       " \"I can't WAIT to go to work tomorrow with a high as fuck fever. [sarcasm]\\\\nHopefully I'll feel better tomorrow.\\\\nBut I doubt it. #pessimism\",\n",
       " '@user @user what I miss? #outrage',\n",
       " \"Is it terrorism to intimidate a populace? What case held 'coercion by people in uniform is per se intimidation'?\",\n",
       " \"@user against Chelsea anything is possible haha. I'm fuming about that bet 🙄🙄🙄🙄🙄🙄\",\n",
       " \"Well @user Trump's rabid base needs 2 hear this &amp; U can always find an overseer like King to say it.\\\\n@JoyAnnReid @user @user\",\n",
       " \"Radio shake mutli directional mike it might sound cheap but the sound wasn't that bad and you could do some mixing.\",\n",
       " \"@user What? Hillary has 27 different controversies and she gets asked NOTHING about any of them. Truth is she's a horrible candidate\",\n",
       " \"@user I feel for the conductor tonight, he's obviously taken grief over the last few weeks, he sounds weary of apologising!\",\n",
       " \"@user he's also mostly (except for the synthetic testosterone bits) male, you raging sexist!\",\n",
       " 'Condolences to the  JC and the Georges family.. #sad',\n",
       " \"Yo there's a kid on my snap chat from LA &amp; they get high off helium gas lmao.... I am like why the fuck lol\",\n",
       " 'While we focus on issue of #IPCA @user Indulges in #intimidation @user @user @user @user #StopCruelty',\n",
       " \"Yo,if you're talking about horoscopes do you really have any clue as to what you're saying or are you gonna act offended when I question it?\",\n",
       " 'Meghan is teaching the blues in keyboard fundamentals II and all these classical majors are like WTF?!',\n",
       " \"@user he's just lucky...bad pitchers...#WHATEVER...ElKracken is #legit #future #bright #gottawearshades #LetsGoYankees\",\n",
       " \"Finally uploaded the file I needed to the university server's drop box. It took like half an hour and a lot of cursing and anger on my part\",\n",
       " \"Or when they hmu on snap, and I'm like.. which one are you. 💀\",\n",
       " 'Blood is boiling',\n",
       " '@user Really sad &amp; surprising. 1 side #Russia fighting against #IS &amp; on the other supporting #Pak which is epic centre 4',\n",
       " '@user  @user Is that really all you can offer for those who sacrifice daily to keep you safe...? @user #sad',\n",
       " 'A Leopard never changes its spots! #lost',\n",
       " 'So @user those of us born in 85 have no generation! Where is the gen-less tribe! Ha! #survivor #lost soles',\n",
       " 'why the fuck does my mum want me to put corn in the curry?! #grim',\n",
       " 'It is too fucking bright &amp; too fucking hot outside',\n",
       " \"Finn singing 'Can't Fight This Feeling' in the shower and Will spying on him is one of the best scenes on any show.\",\n",
       " \"Hello fellow #horror #creepy #dark #stange #story fans, how's your day? #followme and I'll #followback\",\n",
       " \"@user A plus point, she won't have to queue for the loos. Any more plus points? Nope, can't think of any #shocking #sexism\",\n",
       " 'Their engine runs on fuel called whining :-)\\\\n\\\\nU jst  hv 2b observant..\\\\nHar din Rona dhona &amp; complain. \\\\nHappy news makes them unhappy :-)',\n",
       " \"It's not that the man did not know how to juggle, he just didn't have the balls to do it. \\\\n#funny #pun #punny #lol #hilarious\",\n",
       " 'She used to be beautiful, but she lived her life too fast - Forest City Joe #blues #blinddogradio',\n",
       " '@user when the East wind blue in summer in Durban, S Africa, we still surfed and got #stung badly! Must be carefull-A #sting can harm you',\n",
       " \"sav tells our mom 'I love you' and she responds 'Oh.' #sad\",\n",
       " 'Defining yourself in terms of opposition, i.e. the clouded mirror phenomena, is almost always a mistake.',\n",
       " '@user dudes who wanna play some bass but not buy a bass (me) rejoice',\n",
       " '@user @user I cancelled by CBS all access live feeds before JC even said Vic won AFP. Paul.should have won IMO',\n",
       " \"It's finally raining in Ashland, Oregon. We've been parched all summer &amp; fall. The plants &amp; people are rejoicing!\",\n",
       " '@user happy birthday to my seed‼️‼️‼️ #renewtherivalry #imyourdaddy #cantbeatme  #tater',\n",
       " '@user thank u so much! we just finished another #mindfulness film called #release about #anxiety - plz share!',\n",
       " \"@user @user It's no secret: personal dislike of Trump &amp; animosity has always been present..now magnified with bigotry/racism etc.\",\n",
       " '@user  #UNGA no talks should be carried out with Pakistan now ... His mouth stinks of #terrorism #UriAttack',\n",
       " '@user happy birthdayyyyyy pretty. Miss you!',\n",
       " \"I'm not used to pretty girls that use curse words to express their anger. I just feel like I'm a little bit surprised and turned off as well\",\n",
       " '((things that grind my gears: people drawing gideon gleeful skinny',\n",
       " '@user @user 😂😂😭😭😭 resentment',\n",
       " 'A3: But chronic sadness may mean there are underlying issues than getting sad occassionally over a particular issue (2/2) #mhchat',\n",
       " \"i stopped watching gotham cause they dropped off tabitha and barb's relationship and made her pine after the main\",\n",
       " \"@user your website is making me feel violent rage and your upgrade options aren't helping either. #Aaaaarrrrgghhh #iwanttocancel\",\n",
       " \"This is the scariest American Horror Story out of all of them... I'm gonna have to watch in the daytime. #frightened\",\n",
       " 'I added Paul Walker on Xbox but he just spends all of his time on the dashboard. #dark #humor #funny',\n",
       " '@user some weeks there are no problems but this week is unbelievable -- are you guys even running regular 12 buses? #awful #solate',\n",
       " '@user @user supporter @user #prejudice against #disabled people #disabledlivesmatter  #bbcnews #skynews',\n",
       " '@user And I hope when the police met him at the subway that they took him straight to jail 😕 #awful',\n",
       " 'Do you know how much it hurts to see you best friend sad?',\n",
       " 'my mom recorded nightmare before Christmas for me 😍😍😍 I LOVE IT 💕',\n",
       " '@user @user We are blaming 5% of the fucking idiots who are putting the World in the middle of their tantrums. You are one.',\n",
       " '@user Oh noooo!  #nomorehammocks #nightmare ;)',\n",
       " 'My eyes have been dilated. I hate the world right now with the rage of a thousand fiery dragons. I need a drink.',\n",
       " \"when you think you've got it together for a day then you randomly burst out crying\",\n",
       " '@user lmao! I can only imagine the frown across that face of yours. #Hilarity',\n",
       " 'Breaking out in hives for the first time since college finals. #anxiety sucks',\n",
       " 'Q&amp;A with N. Christie @user fr. @user What would Peter and Dardanella think of us knowing? #poorthings',\n",
       " \"i've seen the elder watching me during my community hours and i honestly don't have an idea about what my assignment will be. #apprehensive\",\n",
       " '@user i tried to turn off my alarm this morning and it turned on all my alarms instead',\n",
       " \"@user I know if I wasn't an optimist I would despair.\",\n",
       " \"@user @user New campaign slogan idea...'I know you are but what am I?' #bully #Trump2016 #yourefired #deflect\",\n",
       " \"@user @user @user @user I thought it was because she once sunk her teeth into something that's meant 2b sooked\",\n",
       " 'Smokeys dad is sad :/',\n",
       " '@user made me laugh, that quote. In a sort of rueful way.',\n",
       " 'TheNiceBot: WSJNordics You make the world a more joyful place. #TheNiceBot #الخفجي',\n",
       " 'Going home is depressing',\n",
       " 'so ef whichever butt wipe pulled the fire alarm in davis bc I was sound asleep #pissed #angry #upset #tired #sad #tired #hangry ######',\n",
       " 'Jimmy Carr makes me want to cry and cry *shiver*',\n",
       " 'We express our deep concern about the suspension of   @user  please reactivate it. he never violated T.roles @user',\n",
       " \"Been working in Blanchardstown shopping centre for over 2 years now and I only figured out today where Marks &amp; Spencer's is #lost\",\n",
       " \"Don't be afraid to give up the good to go for the great. - John D. Rockefeller #quote #inspiration #afraid #great #motivation\",\n",
       " \"@user what a joke!! Cut our internet off early 'by mistake' and then don't reinstate it when we no longer need an engineer 😡 #fuming\",\n",
       " 'Marcus Roho is dreadful',\n",
       " \"or when someone tells me I needa smile like excuse me ??? now I'm just frowning even harder are you happy\",\n",
       " 'np rum rage',\n",
       " 'To tell the truth and make someone cry is better than to tell a lie and make someone smile. #truth #lie #cry #smile #offalonehugots',\n",
       " 'why yall hyped abt that girl getting to hang out w JB, he clearly looks so unhappy and bored in the pics no offense LOL, plus he hates yall',\n",
       " 'If any trump supporters and Hillary haters wanna chirp some weak minded, pandering liberals just tweet at @user @user',\n",
       " \"My bus was in a car crash... I'm still shaking a bit... This week was an absolute horror and this was the icing on the cake... #terrible\",\n",
       " \"@user wouldn't cross the street to piss on its server if it was on dire\",\n",
       " \"If you don't respond to an email within 7 fays, you wifl be killed by an animated gif of the girl from The Ring.\",\n",
       " \"I heard Movie Bob was furious about the Skittles analogy. He was upset that there wasn't actually any Skittles.\",\n",
       " '#internationaldayofpeace : When white supremacists terrorize everyone of differing cultures online and will continue it offline tomorrow.',\n",
       " \"Candice's pout gets more preposterous by the week. This week it's gone a bit Jack Nicholson's Joker. #GBBO\",\n",
       " \"Bake off on TV and the Match on my phone, what a nightmare I'm so stressed #GBBO #NTFCVMUFC\",\n",
       " 'even walking around with my family members who carry guns makes me nervous and theyre my family....',\n",
       " \"75' Tierney reaches a deep cross to the back post and plays it back across but the Alloa defence clear. Celtic relentless here.\",\n",
       " \"What a sad day...1st day of Fall...I don't dislike Fall...I just LOVE Summer #FirstDayofFall #goodbyesummer #sadness #bathingsuitsforever\",\n",
       " 'untypical kinda Friday #dull',\n",
       " '@user I fell and heard a snap hffffhj',\n",
       " 'Half past midnight, loud banging on our front door, been told about new rape cases in Edinburgh today #joyful #nosleep',\n",
       " '5am blues while riding a cab home:\\\\n- my belly is much bigger than the rest of my body\\\\n- but i couldnt be preggy\\\\n- how to lose it in a day',\n",
       " \"There's always that one song which makes you turn of the radio, as you'd rather sit in silence 😡\",\n",
       " 'Symmetry is Key, everything must be aesthetically pleasing as possible, that is why I hold you twin pistols. #DeathTheKid #Bot',\n",
       " \"He totally knew about it'. Trump finally gets revenge for his son-in-law's prosecution/imprisonment and throws Christie under the bus.\",\n",
       " 'Recording some more #FNAF and had to FaceTime my mum to let her know I was okay after I let out a high pitched scream 😂 #horror #suchagirl',\n",
       " '@user Like, despite all my irritation towards ur ship, at least its canon. BuckyNat is canon, (and clintwanda is canon)',\n",
       " '@user @user yeah, they figured that ornaments are way more wanted than spektar and desolate gear. Well they thought right.',\n",
       " 'Panda eyed jaunty after watching jaws until late!',\n",
       " 'Contactless affliction kart are the needs must regarding the psychological moment!: xbeUJGB',\n",
       " \"I don't even #feel #anger anymore can't explain it .. #Tulsa #Charlotte #Trayvon #SandraBland #Philando #Ferguson #BatonRouge #MichaelBrown\",\n",
       " 'Projection is perception. See it in someone else? You also at some level have that within you. #anger #worry',\n",
       " 'People need a way to escape,escape what?This corrupted world.This reality. This joke.This fury of constant pain &amp; stress.We need a vacation',\n",
       " '@user &amp; @user must be rejoicing ovet #Charlotte protests. \\\\n#NorthCarolina',\n",
       " '@user fix this home/away deptch chart invalid glitch. I have to close madden and re-open it everytime this happens',\n",
       " \"@user Think about it if he need white peoples votes wouldn't just reach out about things that only concern them &amp; leave out rest?\",\n",
       " 'Bilal Abood, #Iraq #immigrant who lives in Mesquite, Texas, was sentenced to 48 months in prison for lying to the Feds about #terrorism.',\n",
       " 'I know this is going to be one of those nights where it takes an Act of God to fall asleep.  #restless',\n",
       " 'Banger sit in 2013 reason why we great doings him alias for why we rejoice in he.: kzfqR',\n",
       " 'i feel furious',\n",
       " \"I don't know what's worse, the new Pizza Hut commercials or the pizza that Pizza Hut makes.\",\n",
       " \"I always thought I was too empathetic but it's becoming clear that the majority of you guys are plain insensitive to an alarming degree\",\n",
       " '#NawazSharif says lets end #terror. Sure, let #IndianArmedForces target the bases without #Pakistan interference #Karma?',\n",
       " '@user @user @user entire team from coaches on down played and coached scared from jumpstreet. #intimidated',\n",
       " 'Floofel.i wonder if your mother knows how dark your humor can be.Needs to realize how much of a butt Apple is. Pastels and cats.cutie pie.',\n",
       " \"Why doesn't anybody I know watch penny dreadful? ☹️️\",\n",
       " 'Thank you @user for the balloons today. #smile #goodday #48',\n",
       " 'Currently listening to @user &amp; @user @user podcasts!! Can you guys please move to #yvr ? #hilarious #missyou',\n",
       " 'Depression sucks!',\n",
       " '@user hard to tell in your pic. My mistake then. Either way, nothing I said initially was about race. U took it there.  #ignorant',\n",
       " 'how maybe it was with you and your parents..that I would understand you and your fear of indifference from your own mom and dad..',\n",
       " '@user bubble implies it will burst?',\n",
       " \"@user @user New campaign slogan idea...'I know you are but what am I?'  #Trump2016 #yourefired #deflect\",\n",
       " 'my school photo is honestly horrid, i look so ew😅',\n",
       " \"I'm mad at the injustice, so I'm going to smash my neighbours windows'.  Makes perfect sense. #CharlotteProtest\",\n",
       " '@user @user No grudge. Only truth in abundance.',\n",
       " \"That's me for the evening, though! Way too lit to finish these off properly without causing some serious mischief.\",\n",
       " '@user oh so true, so true.',\n",
       " \"@user 'customer service ' beyond appalling. Faulty dryer replacement breaks within wks no parts for 3 wks. Engineers no show.\",\n",
       " 'How in the world did Nicole beat Paul?!?! #terrible #bb18 #BBFinale What was the jury thinking?? 😳😳😳',\n",
       " 'Baaarissshhhhh + sad song =  prefect night — feeling alone',\n",
       " \"Walk right through them! See way past them, and don't even hesitate running them over.\",\n",
       " 'Im really constipated. This is depressing',\n",
       " '@user @user this individual is clearly trying 2 #intimidate this #LEO I see an issue here. STOP CAUSING ISSUES by pushing limits!!',\n",
       " '#AutumnalEquinox the nights are drawing in, what a great time to look at putting up some new #lights #dark #showroom #news #wirral',\n",
       " \"Isn't the whole 'it's been hijacked' argument the same argument used to ban or discourage the display of the St George's Cross? Shame @user\",\n",
       " 'Watch this amazing live.ly broadcast by @user  #musically',\n",
       " 'That rocky horror remake looks a bit w a n k',\n",
       " 'I wish there were unlimited glee episodes:( so I could watch them forever. #gleegoodbye',\n",
       " 'Why does @user have to come to Glasgow on a night I am working. I am fucking gutted, been waiting for an appearance for ages',\n",
       " 'Absolutely fuming that some woman jumped into my prebooked taxi and drove off 😡',\n",
       " \"@user we are not concerned about Pakistan's internal affairs. But the terrorism as it's state &amp; economic policy.#terroristnation\",\n",
       " '#Trump ’s ‘Make America Great Again’ plan is exactly like the first 15 minutes of the #movie #ChildrenOfMen.\\\\n\\\\n#cages #terrorism #refugees',\n",
       " \"im like 'this is better' in the moment cuz i panic and then later its so obviously not better. at every opportunity i choose to make it seem\",\n",
       " '@user The @user had a good one but then the reporter quit. #sad',\n",
       " '@user just preordered The Pale EP... Would have paid for the phone call... But I would have freaked out and not said anything',\n",
       " 'Paul forever. Paul should have won! Paul played such a better game! #BB18 #angry',\n",
       " 'never afraid to start over',\n",
       " 'Did we miss the fact that #BurkeRamsey swung &amp;hit his sister #JonBenet in the face with a golf club previously out of a fit of #anger?',\n",
       " \"And I won't even get started with Hillary and her fancy fundraisers! #depressing\",\n",
       " \"@user forest gate u could see he was a bully cunt big bald cunt his mates looked in shock when I hit him and didn't do shit when he\",\n",
       " '#IndiaMissingIndira that she could never solve Kashmir Problem and kept it burning for Vote Bank\\\\n#TerrorStatePak',\n",
       " '#quote What U #fear controls U. Fear is not out in life but in ur mind. Real difficulties can be overcome - Cheryl Janecky',\n",
       " \"to shake and my mouth was chattering and I couldn't take right because all of my body was trembling so I went outside\",\n",
       " \"Very depressing seeing my whole fam packing to go on holiday tomorrow and I'm just staying here 🙃\",\n",
       " 'schneiderlin taking his revenge for the 2 fouls',\n",
       " 'Lol little things like that make me so angry x',\n",
       " 'Cuddling literally kills depression, relieves anxiety, and strengthens the immune system.',\n",
       " '@user @user varsity pine riding',\n",
       " \"This has #turned out #better then I expected admitting you tried to #intimidate 😂😂 #cantstoplaughing I really can't and it's in #spokeword\",\n",
       " \"@user  Oh, good God. Quentin Letts is doing one of his 'comedy' turns. #angry @user @user #BBCTW\",\n",
       " '@user @user And the dreadful Franglaise.',\n",
       " \"@user Doesn't explain the ability to land at Manchester but not Bradford - other than more convenient for Flybe. Many unhappy travelers\",\n",
       " 'Watch this amazing live.ly broadcast by @user  #musically',\n",
       " '@user May I suggest, that you have a meal that is made with beans, onions &amp; garlic, the day before class.',\n",
       " 'I hate it when im singing and some idiot thinks they can just join in with me like...this is not fcking glee #MeanRikonaBot',\n",
       " \"Dentist just said to me' I'm going to numb your front lip up so it'll feel as if you've got lips like Pete Burns!...... She was right #pout\",\n",
       " 'People often grudge others what they cannot enjoy themselves.',\n",
       " \"Yeah I'm hot nigga, they say im burning uhhhhh\",\n",
       " 'They want as police state, they are fearful imbeciles..@interpretingall @user @user @user',\n",
       " 'Lmboo , using my nephew for meme #hilarious',\n",
       " \"@user I am irate at you check-in system. I have tried to checkin all day and it wouldn't let me do it because I had no seat assigned\",\n",
       " '@user Event started! everyone is getting ready to travel to the lake of rage, where everything glows',\n",
       " '@user #fear &amp; #anger are similar to what #Hitler preached to come to power in Germany. Wake up America!!',\n",
       " \"$SRPT Why would Etep patients &amp; Mom's advocate for a drug if it did not work? Anyone listen to the Etep MD's @ Adcomm.. all were elated.\",\n",
       " \"@user ill be there... with VIP TICKETS! Can't wait to meet you. Never met a famous person i admire before! #nervous\",\n",
       " '@user @user had more fun than the funniest person in funsville..... Much hilarity as usual.... Thank you ❤️',\n",
       " '@user and have social anxiety. There is many awkward things wrong with me. 😄',\n",
       " '@user @user the struggle is real. Whoa! I worry for the younger generation 💔',\n",
       " 'matt and i just did a psychological study on provocation in abusive relationships.',\n",
       " \"@user @user ya and the d was what I was most confident about..... our offense is as good as it's been in 20 years...our d sucks\",\n",
       " '@user gives a frustrated growl, before stepping closer and putting his gun through the barrier. No alarms and nothing happened. He-',\n",
       " 'Thanks for ripping me off again #Luthansa €400 not enough for a one way flight to man from Frk then €30 for a bag then free at gate',\n",
       " '@user can you please not have Canadian players play US players, that lag  is atrocious. #fixthisgame #trash #sfvrefund',\n",
       " 'Gahh...BT, in queue for 30 minutes.. Now put through to BT Sport dept to cancel... back in a queue again...',\n",
       " '@user switch host no bullet rage.',\n",
       " 'a #monster is only a #monster if you view him through #fear',\n",
       " \"@user don't leave me\",\n",
       " '@user fucking hell mate absolute nightmare 😓',\n",
       " \"Michelle, who did NOTHING is hating on Nicole's game hahaha.... #bitter #bb18\",\n",
       " 'Being stuck in the roof of your house provides amazing view but sheer terror of falling down, kinda like life',\n",
       " \"Think Val might be going this week. I'll have to take the rest of the week off work to mourn. I'm sure they'll understand. #GBBO\",\n",
       " '@user appointment booked between 1-6 today, waited in all day and nobody showed up, also requested a call back and never got one',\n",
       " \"@user @user @user @user @user @user @user @user @user it's an insult.\",\n",
       " 'im so gloomy today',\n",
       " '@user the red one would look super pretty with a bronzy glowy nude lip makeup look! 3rd black would be pretty with a dark lip! 😍',\n",
       " '@user @user USA was embarrassing to watch. When was the last time you guys won a game..?  #joke',\n",
       " 'I can already tell this programme is going to infuriate me #ExtremeWorld',\n",
       " 'Watch this amazing live.ly broadcast by @user #lively #musically',\n",
       " 'When will the weeks full of Mondays end??',\n",
       " \"More #checking at #work today\\\\n\\\\n#coffee #drank and now it's #down to some #serious #business \\\\n\\\\n#Thursday bring on #Friday\",\n",
       " 'whats with these boxes when i search google on chrome #horrible #distracting',\n",
       " \"Last night I had a dream that today was Christmas. I woke up screaming because I wasn't ready.\",\n",
       " '10 minutes with an incense and all I get is 2 Rattatas. 😂#PokemonGO',\n",
       " \"@user I've been disconnected whilst on holiday 😤 but I don't move house until the 1st October 🤔\",\n",
       " \"Sounds like Donald Trump has spent today just making extra, extra sure he'd get those frightened white, conservative, racist votes.\",\n",
       " \"so lost i'm faded\",\n",
       " \"You don't know what to expect by Brendon's video lmao LA devotee video got me shook\",\n",
       " \"Anyone else find @user 'anniversary windows 10 update 1607' a Complete #nightmare\",\n",
       " \"@user Can't believe how rude your cashier was today when I was returning an item!  Your customer service is slacking. #terrible\",\n",
       " \"@user @user It's hilarious\",\n",
       " 'Friday is here, and we are open tonight and tomorrow. Get a jump on your Halloween and come play with us. #hauntedattraction #tulsa #haunt',\n",
       " '@user [he gives a gleeful squeak and wraps around you] All mine!',\n",
       " 'Some moving clips on youtube tonight of the vigil held at Tulsa Metropolitan Baptist church for #TerenceCruther #justice  #sadness',\n",
       " 'Watched tna for the first time in a long time what the hell happened to the #hardyboys #impactonpop #wwe #terrible',\n",
       " \"It's not that the man did not know how to juggle, he just didn't have the balls to do it.\\\\n #funny #pun #lol  #punny\",\n",
       " '@user whats with the 50p a minute charge to 150, insult to injury',\n",
       " 'Unruly kids at 8am in the morning #nothanks ripping the flower beds up by the roots while their parents watch #shocking',\n",
       " \"@user @user Yep, as I pointed out before, it's the politics of loathing. That's why the big candidates are so horrible.\",\n",
       " '@user @user hi Dom I saw u at Notts county away, looking for 1 mufc away ticket will pay #blues',\n",
       " \"If I spend more than £10 in shimmy on £1 drinks I'll be raging, but we all know it's gonna happen\",\n",
       " \"Looks like #India is finally taking #Pakistan n it's #terrorism to task.#uriattacks.\",\n",
       " '@user Old age?! No hope for the rest of us. Destined to become deatheaters by 50',\n",
       " 'Rojo is just terrible, how is he in our team 😂😂',\n",
       " 'aaahhhh! a little @user to soothe the soul. #music #blues',\n",
       " \"The whole idea f a nation revolves around Kashmir &amp; global terrorism: evrn don't care their kids dying of hunger. #NawazFightsForKashmir\",\n",
       " 'Need advice on how to get out of this rut!!!! #depressing #needmotivation',\n",
       " 'I blame the whole season on Natalie! The season would have been so different had she not turned her back on her alliance! #pissed #bitter',\n",
       " \"@user looks that way. But let's think about Rohan last week ... #optimism\",\n",
       " 'Thinking about trying some comedy on youtube. Always been fond of it. Time to nut up. #laughter #comedy #maybeoneday #hopefullyfunny #LOL',\n",
       " \"I don't think it's fully sunk in that Val is gone yet\",\n",
       " '@user lol. Love it when you aggravate Juan. Keep up the good work. Lol',\n",
       " '@user @user wat an irony? #Pakistan lecturing the world on curbing',\n",
       " '@user cheer up chuck😘',\n",
       " 'Shoutout to the drunk man on the bus who pissed in a bottle and on the seats',\n",
       " '@user goodbye despair',\n",
       " 'Headed to MDW w/ layover in SLC. Got off for food. Wrong move. Bailed on my food &amp; barely made it. @user #WannaGetAway #Contest',\n",
       " \"Someone wake me when @user make 2016 remix of 'Why'❗️b/w #TerrenceCrutcher #Election2016 #colinkapernick #terrorism #riots this 2much\",\n",
       " \"Unbelievable takes 10 minutes to get through to @user then there's a fault and the call hangs up #fuming #treatcustomersfairly\",\n",
       " 'Manchester derby at home #revenge',\n",
       " \"@user &lt;• change them himself. He follows behind with a scowl pinching his lips and takes the sheets to his room. 'So who is •&gt;\",\n",
       " \"If I was a ghost I'd haunt people by giving them cramps in both of their legs when they do cardio 😈😈😈 #Mwahaha\",\n",
       " \"sure, ohio state is terrible, ohio is awful, etc, etc\\\\n\\\\nthese feelings began with the toldeo war \\\\n\\\\nso, maybe don't campaign there?\",\n",
       " \"@user See your primary care doctor. They can prescribe meds and refer you to a psychiatrist for eval. Don't mess with depression.\",\n",
       " 'Obama admin rejects Texas plan to have refugees vetted for terrorism so Texas pulls of of fed refugee resettlement program. Aiding .',\n",
       " \"#GBBO is such a homely pure piece of tv gold. Channel 4 will attempt to tart it up. Mary, Sue and Mel gone. It's over. I'm out. 👋 #fuming\",\n",
       " 'gifs on iOS10 messaging app are hilarious.',\n",
       " \"@user should have stopped after 'smiled'. Being rude=not the same as being funny.It was just being mean  #stoppickingonwomen\",\n",
       " '@user #dobetter only two carriages on 14:49 Birmingham to Hereford no room to stand anymore Friday commute #unhappy',\n",
       " \"hi berniebrocialists of all genders: if I lived in a swingish state I would w/o hesitation vote Clinton &amp; would do so w/o 'supporting' her\",\n",
       " 'I asked Jared to marry me and he said no.',\n",
       " 'im 16 if you want to see my dick snap/kik me at hiya2247 😘 #kik #kikme #snapchat  #snapme #horny #porn #naked #young',\n",
       " 'Texans played horrible.  Bad play calling, bad protection of the ball, bad coaching, bad defense, bad overall performance. #Texans #horrible',\n",
       " '@user Sadly, not enough names.  The whole farewell tour situation would make me shy away from good value b et.',\n",
       " 'Bayern Munich pitch is horrific',\n",
       " \"At least I don't have a guy trying to discourage me anymore in what I want to do he will never become anything worth contributing to society\",\n",
       " \"@user awe thank you so much Lyle!! You're the best!😀😀\",\n",
       " \"@user @user @user the 'pledge' would have never have to be made if petulant child POStrump didn't threaten to run\",\n",
       " '@user hard to tell in your pic. My mistake then. Either way, nothing I said initially was about race. U took it there. #sad #ignorant',\n",
       " 'Try to find the good in the negative. The negative can turn out to be good.\\\\n#anxietyrelief #optimism #openminded',\n",
       " 'Why would Enrique sub off busquet? #hilarious',\n",
       " 'the rappers who stayed true to the game is rich.',\n",
       " \"😫 ughh I just want all this to be over.. it's like a nightmare! can we all just get along?\",\n",
       " \"@user Same it's good but not great.Don't Breathe is the horror film of the month for me. My Fav horror film of the year (so far)\",\n",
       " 'i resent biting my tongue.',\n",
       " \"We're very busy #coding a whole network manager for #unity3d based on #steamworks networking. #gamedev #indiedev #3amDeadTime  #game\",\n",
       " \"If you let a general tweet offend you, you definitely shouldn't be on twitter.\",\n",
       " 'Ever been really lonely and your phone keeps blowing up, but you just can’t pick it up and respond to people? #anxiety #recluse  #issues',\n",
       " 'Instagram seriously sort your sh*t out. I spent ages writing that caption for you to delete it and not post it!! #fume #instagram',\n",
       " \"@user you charge 150 extra for sending someone out and your cable service still doesn't work. That's robbery.  #cable #horrible #service\",\n",
       " 'Regret for the things we did can be tempered by time; it is regret for the things we did not do that is inconsolable. - Sydney J. Harris',\n",
       " \"@user So I worry about emphasis on 'keeping family together' as a guiding principle, due to my own experiences\",\n",
       " '@user #klitschko @user over fury any day #boxing',\n",
       " \"That's fucking horrific defending from Schalke\",\n",
       " 'I feel like no one is out there on #Twitter  for me.... can anyone see what I write #sadness #rants',\n",
       " 'lol! no mention of pak PM or even his speech on any international news channel and pakis are rejoicing as if the world stands with them',\n",
       " \"@user DirectTV is the best. Apparently you just sit in silent anger. 'Don't press or say anything'\",\n",
       " \"Ok but how are the fast &amp; furious movies NOT classified as comedy's? 🤔\",\n",
       " '@user #terrible Paul so deserved that win!!! #bbfail',\n",
       " \"the 1975 are playing antichrist why won't @user play hustle it's an outrage\",\n",
       " '@user #CharlotteProtest do u #wait 4 the facts #video or do u #hate now ask questions later  #protest #PoliceShootings #suggestions',\n",
       " ...]"
      ]
     },
     "execution_count": 286,
     "metadata": {},
     "output_type": "execute_result"
    }
   ],
   "source": [
    "dataset['train']['text']"
   ]
  },
  {
   "cell_type": "code",
   "execution_count": 287,
   "id": "ff8d2871",
   "metadata": {
    "scrolled": true
   },
   "outputs": [
    {
     "name": "stdout",
     "output_type": "stream",
     "text": [
      "['anger', 'joy', 'optimism', 'sadness']\n"
     ]
    }
   ],
   "source": [
    "id = dataset['train'].flatten().features['label'].names\n",
    "print(id)"
   ]
  },
  {
   "cell_type": "code",
   "execution_count": 288,
   "id": "d59d3bde",
   "metadata": {},
   "outputs": [
    {
     "data": {
      "text/plain": [
       "ClassLabel(names=['anger', 'joy', 'optimism', 'sadness'], id=None)"
      ]
     },
     "execution_count": 288,
     "metadata": {},
     "output_type": "execute_result"
    }
   ],
   "source": [
    "dataset['train'].flatten().features['label']"
   ]
  },
  {
   "cell_type": "code",
   "execution_count": 289,
   "id": "aa250eaa",
   "metadata": {
    "scrolled": true
   },
   "outputs": [],
   "source": [
    "train_data = dataset['train']\n",
    "test_data = dataset['test']\n",
    "validation_data = dataset['validation']"
   ]
  },
  {
   "cell_type": "code",
   "execution_count": 290,
   "id": "b4f85885",
   "metadata": {
    "scrolled": true
   },
   "outputs": [
    {
     "data": {
      "text/html": [
       "<div>\n",
       "<style scoped>\n",
       "    .dataframe tbody tr th:only-of-type {\n",
       "        vertical-align: middle;\n",
       "    }\n",
       "\n",
       "    .dataframe tbody tr th {\n",
       "        vertical-align: top;\n",
       "    }\n",
       "\n",
       "    .dataframe thead th {\n",
       "        text-align: right;\n",
       "    }\n",
       "</style>\n",
       "<table border=\"1\" class=\"dataframe\">\n",
       "  <thead>\n",
       "    <tr style=\"text-align: right;\">\n",
       "      <th></th>\n",
       "      <th>text</th>\n",
       "      <th>label</th>\n",
       "    </tr>\n",
       "  </thead>\n",
       "  <tbody>\n",
       "    <tr>\n",
       "      <th>0</th>\n",
       "      <td>“Worry is a down payment on a problem you may ...</td>\n",
       "      <td>2</td>\n",
       "    </tr>\n",
       "    <tr>\n",
       "      <th>1</th>\n",
       "      <td>My roommate: it's okay that we can't spell bec...</td>\n",
       "      <td>0</td>\n",
       "    </tr>\n",
       "    <tr>\n",
       "      <th>2</th>\n",
       "      <td>No but that's so cute. Atsu was probably shy a...</td>\n",
       "      <td>1</td>\n",
       "    </tr>\n",
       "    <tr>\n",
       "      <th>3</th>\n",
       "      <td>Rooneys fucking untouchable isn't he? Been fuc...</td>\n",
       "      <td>0</td>\n",
       "    </tr>\n",
       "    <tr>\n",
       "      <th>4</th>\n",
       "      <td>it's pretty depressing when u hit pan on ur fa...</td>\n",
       "      <td>3</td>\n",
       "    </tr>\n",
       "  </tbody>\n",
       "</table>\n",
       "</div>"
      ],
      "text/plain": [
       "                                                text  label\n",
       "0  “Worry is a down payment on a problem you may ...      2\n",
       "1  My roommate: it's okay that we can't spell bec...      0\n",
       "2  No but that's so cute. Atsu was probably shy a...      1\n",
       "3  Rooneys fucking untouchable isn't he? Been fuc...      0\n",
       "4  it's pretty depressing when u hit pan on ur fa...      3"
      ]
     },
     "execution_count": 290,
     "metadata": {},
     "output_type": "execute_result"
    }
   ],
   "source": [
    "# CONVERTING TRAINING DATA TO PANDAS FORMAT.. \n",
    "train_df = train_data.to_pandas()\n",
    "train_df.head()"
   ]
  },
  {
   "cell_type": "code",
   "execution_count": 291,
   "id": "0fbfed70",
   "metadata": {},
   "outputs": [
    {
     "data": {
      "text/plain": [
       "array([2, 0, 1, 3], dtype=int64)"
      ]
     },
     "execution_count": 291,
     "metadata": {},
     "output_type": "execute_result"
    }
   ],
   "source": [
    "train_df.label.unique()"
   ]
  },
  {
   "cell_type": "code",
   "execution_count": null,
   "id": "425b2698",
   "metadata": {
    "scrolled": true
   },
   "outputs": [],
   "source": []
  },
  {
   "cell_type": "code",
   "execution_count": null,
   "id": "82a7cb3e",
   "metadata": {},
   "outputs": [],
   "source": []
  },
  {
   "cell_type": "code",
   "execution_count": 292,
   "id": "5a3300d9",
   "metadata": {},
   "outputs": [
    {
     "data": {
      "text/plain": [
       "<AxesSubplot: >"
      ]
     },
     "execution_count": 292,
     "metadata": {},
     "output_type": "execute_result"
    },
    {
     "data": {
      "image/png": "[encoded data removed]",
      "text/plain": [
       "<Figure size 640x480 with 1 Axes>"
      ]
     },
     "metadata": {},
     "output_type": "display_data"
    }
   ],
   "source": [
    "train_df['label'].value_counts().plot(kind='bar')"
   ]
  },
  {
   "cell_type": "code",
   "execution_count": 293,
   "id": "42607de1",
   "metadata": {
    "scrolled": false
   },
   "outputs": [
    {
     "ename": "AttributeError",
     "evalue": "'list' object has no attribute 'values'",
     "output_type": "error",
     "traceback": [
      "\u001b[1;31m---------------------------------------------------------------------------\u001b[0m",
      "\u001b[1;31mAttributeError\u001b[0m                            Traceback (most recent call last)",
      "Cell \u001b[1;32mIn [293], line 1\u001b[0m\n\u001b[1;32m----> 1\u001b[0m sample_text \u001b[38;5;241m=\u001b[39m \u001b[43mtrain_data\u001b[49m\u001b[43m[\u001b[49m\u001b[43m:\u001b[49m\u001b[38;5;241;43m5\u001b[39;49m\u001b[43m]\u001b[49m\u001b[43m[\u001b[49m\u001b[38;5;124;43m'\u001b[39;49m\u001b[38;5;124;43mtext\u001b[39;49m\u001b[38;5;124;43m'\u001b[39;49m\u001b[43m]\u001b[49m\u001b[38;5;241;43m.\u001b[39;49m\u001b[43mvalues\u001b[49m\n\u001b[0;32m      2\u001b[0m text \u001b[38;5;241m=\u001b[39m [text \u001b[38;5;28;01mfor\u001b[39;00m text \u001b[38;5;129;01min\u001b[39;00m sample_text]\n\u001b[0;32m      3\u001b[0m text\n",
      "\u001b[1;31mAttributeError\u001b[0m: 'list' object has no attribute 'values'"
     ]
    }
   ],
   "source": [
    "sample_text = train_data[:5]['text'].values\n",
    "text = [text for text in sample_text]\n",
    "text"
   ]
  },
  {
   "cell_type": "code",
   "execution_count": 294,
   "id": "a46a913a",
   "metadata": {},
   "outputs": [],
   "source": [
    "from transformers import AutoTokenizer\n",
    "# checkpoint = 'distilbert-base-uncased-finetuned-sst-2-english'\n",
    "checkpoint = 'bert-base-uncased'\n",
    "tokenizer = AutoTokenizer.from_pretrained(checkpoint )"
   ]
  },
  {
   "cell_type": "code",
   "execution_count": 295,
   "id": "a8f85260",
   "metadata": {
    "scrolled": true
   },
   "outputs": [],
   "source": [
    "# tokens = [tokenizer.tokenize(sentence) for sentence in text]\n",
    "# ids = [tokenizer.convert_tokens_to_ids(token) for token in tokens]\n",
    "# print(ids)\n",
    "inputs =  tokenizer(text, padding=True, truncation=True, return_tensors='tf')"
   ]
  },
  {
   "cell_type": "code",
   "execution_count": 296,
   "id": "de4118f1",
   "metadata": {
    "scrolled": true
   },
   "outputs": [
    {
     "data": {
      "text/plain": [
       "{'input_ids': <tf.Tensor: shape=(5, 30), dtype=int32, numpy=\n",
       "array([[  101,  1523,  4737,  2003,  1037,  2091,  7909,  2006,  1037,\n",
       "         3291,  2017,  2089,  2196,  2031,  1005,  1012, 11830, 11527,\n",
       "         1012,  1001, 14354,  1001,  4105,  1001,  4737,   102,     0,\n",
       "            0,     0,     0],\n",
       "       [  101,  2026, 18328,  1024,  2009,  1005,  1055,  3100,  2008,\n",
       "         2057,  2064,  1005,  1056,  6297,  2138,  2057,  2031,  8285,\n",
       "        27108,  2890,  6593,  1012,  1001,  6659,  1001,  2034, 11108,\n",
       "        21572,  5910,   102],\n",
       "       [  101,  2053,  2021,  2008,  1005,  1055,  2061, 10140,  1012,\n",
       "         2012,  6342,  2001,  2763, 11004,  2055,  7760,  2077,  2021,\n",
       "         9115,  3271,  2014,  2041,  1057, 16050,   102,     0,     0,\n",
       "            0,     0,     0],\n",
       "       [  101, 24246,  2015,  8239, 19662, 10875,  3085,  3475,  1005,\n",
       "         1056,  2002,  1029,  2042,  8239, 21794,  2153,  1010,  2139,\n",
       "         4502,  2100,  2038,  2246, 11519,  1006,  2003,  2232,  1007,\n",
       "         3892,   102,     0],\n",
       "       [  101,  2009,  1005,  1055,  3492,  2139, 24128,  2043,  1057,\n",
       "         2718,  6090,  2006, 24471,  8837, 12944,  2121,   102,     0,\n",
       "            0,     0,     0,     0,     0,     0,     0,     0,     0,\n",
       "            0,     0,     0]])>, 'token_type_ids': <tf.Tensor: shape=(5, 30), dtype=int32, numpy=\n",
       "array([[0, 0, 0, 0, 0, 0, 0, 0, 0, 0, 0, 0, 0, 0, 0, 0, 0, 0, 0, 0, 0, 0,\n",
       "        0, 0, 0, 0, 0, 0, 0, 0],\n",
       "       [0, 0, 0, 0, 0, 0, 0, 0, 0, 0, 0, 0, 0, 0, 0, 0, 0, 0, 0, 0, 0, 0,\n",
       "        0, 0, 0, 0, 0, 0, 0, 0],\n",
       "       [0, 0, 0, 0, 0, 0, 0, 0, 0, 0, 0, 0, 0, 0, 0, 0, 0, 0, 0, 0, 0, 0,\n",
       "        0, 0, 0, 0, 0, 0, 0, 0],\n",
       "       [0, 0, 0, 0, 0, 0, 0, 0, 0, 0, 0, 0, 0, 0, 0, 0, 0, 0, 0, 0, 0, 0,\n",
       "        0, 0, 0, 0, 0, 0, 0, 0],\n",
       "       [0, 0, 0, 0, 0, 0, 0, 0, 0, 0, 0, 0, 0, 0, 0, 0, 0, 0, 0, 0, 0, 0,\n",
       "        0, 0, 0, 0, 0, 0, 0, 0]])>, 'attention_mask': <tf.Tensor: shape=(5, 30), dtype=int32, numpy=\n",
       "array([[1, 1, 1, 1, 1, 1, 1, 1, 1, 1, 1, 1, 1, 1, 1, 1, 1, 1, 1, 1, 1, 1,\n",
       "        1, 1, 1, 1, 0, 0, 0, 0],\n",
       "       [1, 1, 1, 1, 1, 1, 1, 1, 1, 1, 1, 1, 1, 1, 1, 1, 1, 1, 1, 1, 1, 1,\n",
       "        1, 1, 1, 1, 1, 1, 1, 1],\n",
       "       [1, 1, 1, 1, 1, 1, 1, 1, 1, 1, 1, 1, 1, 1, 1, 1, 1, 1, 1, 1, 1, 1,\n",
       "        1, 1, 1, 0, 0, 0, 0, 0],\n",
       "       [1, 1, 1, 1, 1, 1, 1, 1, 1, 1, 1, 1, 1, 1, 1, 1, 1, 1, 1, 1, 1, 1,\n",
       "        1, 1, 1, 1, 1, 1, 1, 0],\n",
       "       [1, 1, 1, 1, 1, 1, 1, 1, 1, 1, 1, 1, 1, 1, 1, 1, 1, 0, 0, 0, 0, 0,\n",
       "        0, 0, 0, 0, 0, 0, 0, 0]])>}"
      ]
     },
     "execution_count": 296,
     "metadata": {},
     "output_type": "execute_result"
    }
   ],
   "source": [
    "inputs"
   ]
  },
  {
   "cell_type": "code",
   "execution_count": 297,
   "id": "5176c753",
   "metadata": {},
   "outputs": [
    {
     "data": {
      "text/plain": [
       "dict_keys(['input_ids', 'token_type_ids', 'attention_mask'])"
      ]
     },
     "execution_count": 297,
     "metadata": {},
     "output_type": "execute_result"
    }
   ],
   "source": [
    "inputs.keys()"
   ]
  },
  {
   "cell_type": "code",
   "execution_count": 298,
   "id": "f91dfa3f",
   "metadata": {
    "scrolled": true
   },
   "outputs": [
    {
     "data": {
      "text/plain": [
       "<tf.Tensor: shape=(30,), dtype=int32, numpy=\n",
       "array([  101,  1523,  4737,  2003,  1037,  2091,  7909,  2006,  1037,\n",
       "        3291,  2017,  2089,  2196,  2031,  1005,  1012, 11830, 11527,\n",
       "        1012,  1001, 14354,  1001,  4105,  1001,  4737,   102,     0,\n",
       "           0,     0,     0])>"
      ]
     },
     "execution_count": 298,
     "metadata": {},
     "output_type": "execute_result"
    }
   ],
   "source": [
    "inputs['input_ids'][0]"
   ]
  },
  {
   "cell_type": "code",
   "execution_count": 299,
   "id": "6093b1b6",
   "metadata": {
    "scrolled": true
   },
   "outputs": [
    {
     "data": {
      "text/plain": [
       "Dataset({\n",
       "    features: ['text', 'label'],\n",
       "    num_rows: 3257\n",
       "})"
      ]
     },
     "execution_count": 299,
     "metadata": {},
     "output_type": "execute_result"
    }
   ],
   "source": [
    "dataset['train']"
   ]
  },
  {
   "cell_type": "code",
   "execution_count": 301,
   "id": "6a17d1c2",
   "metadata": {},
   "outputs": [],
   "source": [
    "# text_data = [data for data in dataset['train']['text'].values]"
   ]
  },
  {
   "cell_type": "code",
   "execution_count": null,
   "id": "c68fd328",
   "metadata": {},
   "outputs": [],
   "source": [
    "dataset['train']"
   ]
  },
  {
   "cell_type": "code",
   "execution_count": 302,
   "id": "f0aad5b4",
   "metadata": {
    "scrolled": false
   },
   "outputs": [
    {
     "data": {
      "application/vnd.jupyter.widget-view+json": {
       "model_id": "fb6240955ab54d2bb5935992beafb606",
       "version_major": 2,
       "version_minor": 0
      },
      "text/plain": [
       "  0%|          | 0/3257 [00:00<?, ?ex/s]"
      ]
     },
     "metadata": {},
     "output_type": "display_data"
    },
    {
     "data": {
      "application/vnd.jupyter.widget-view+json": {
       "model_id": "41e11d79ba4847fab8a751b30f8e55b6",
       "version_major": 2,
       "version_minor": 0
      },
      "text/plain": [
       "  0%|          | 0/1421 [00:00<?, ?ex/s]"
      ]
     },
     "metadata": {},
     "output_type": "display_data"
    },
    {
     "data": {
      "application/vnd.jupyter.widget-view+json": {
       "model_id": "ae0f58aa42f64a708d39c1cb226e6fda",
       "version_major": 2,
       "version_minor": 0
      },
      "text/plain": [
       "  0%|          | 0/374 [00:00<?, ?ex/s]"
      ]
     },
     "metadata": {},
     "output_type": "display_data"
    }
   ],
   "source": [
    "def tokenize_dataset(data): \n",
    "    return tokenizer(\n",
    "        data['text'], padding= True , truncation=True, max_length=128\n",
    "    )\n",
    "\n",
    "dataset.reset_format()\n",
    "proprocessed_data = dataset.map(lambda x : tokenize_dataset(x))"
   ]
  },
  {
   "cell_type": "code",
   "execution_count": null,
   "id": "7564b3ff",
   "metadata": {},
   "outputs": [],
   "source": [
    "token_dataset"
   ]
  },
  {
   "cell_type": "code",
   "execution_count": 250,
   "id": "aa88462a",
   "metadata": {
    "scrolled": true
   },
   "outputs": [
    {
     "data": {
      "text/plain": [
       "Dataset({\n",
       "    features: ['text', 'label', 'input_ids', 'token_type_ids', 'attention_mask'],\n",
       "    num_rows: 3257\n",
       "})"
      ]
     },
     "execution_count": 250,
     "metadata": {},
     "output_type": "execute_result"
    }
   ],
   "source": [
    "token_dataset['train']"
   ]
  },
  {
   "cell_type": "code",
   "execution_count": 264,
   "id": "41472c93",
   "metadata": {},
   "outputs": [],
   "source": [
    "from transformers import TFAutoModelForSequenceClassification, TFAutoModel"
   ]
  },
  {
   "cell_type": "code",
   "execution_count": 256,
   "id": "2f354e17",
   "metadata": {
    "collapsed": true
   },
   "outputs": [
    {
     "data": {
      "application/vnd.jupyter.widget-view+json": {
       "model_id": "99d83bd2e8394e8ab58889604f3c019c",
       "version_major": 2,
       "version_minor": 0
      },
      "text/plain": [
       "Downloading:   0%|          | 0.00/511M [00:00<?, ?B/s]"
      ]
     },
     "metadata": {},
     "output_type": "display_data"
    },
    {
     "name": "stderr",
     "output_type": "stream",
     "text": [
      "Some layers from the model checkpoint at bert-base-uncased were not used when initializing TFBertModel: ['nsp___cls', 'mlm___cls']\n",
      "- This IS expected if you are initializing TFBertModel from the checkpoint of a model trained on another task or with another architecture (e.g. initializing a BertForSequenceClassification model from a BertForPreTraining model).\n",
      "- This IS NOT expected if you are initializing TFBertModel from the checkpoint of a model that you expect to be exactly identical (initializing a BertForSequenceClassification model from a BertForSequenceClassification model).\n",
      "All the layers of TFBertModel were initialized from the model checkpoint at bert-base-uncased.\n",
      "If your task is similar to the task the model of the checkpoint was trained on, you can already use TFBertModel for predictions without further training.\n"
     ]
    },
    {
     "name": "stdout",
     "output_type": "stream",
     "text": [
      "<class 'transformers.models.bert.modeling_tf_bert.TFBertModel'>\n"
     ]
    }
   ],
   "source": [
    "# BRINGIN IN MODEL\n",
    "# model = TFAutoModel.from_pretrained(checkpoint, num_labels=4)\n",
    "# print(type(model))"
   ]
  },
  {
   "cell_type": "code",
   "execution_count": 387,
   "id": "68c8a470",
   "metadata": {
    "collapsed": true
   },
   "outputs": [
    {
     "name": "stderr",
     "output_type": "stream",
     "text": [
      "loading configuration file https://huggingface.co/bert-base-uncased/resolve/main/config.json from cache at C:\\Users\\HP/.cache\\huggingface\\transformers\\3c61d016573b14f7f008c02c4e51a366c67ab274726fe2910691e2a761acf43e.37395cee442ab11005bcd270f3c34464dc1704b715b5d7d52b1a461abe3b9e4e\n",
      "Model config BertConfig {\n",
      "  \"_name_or_path\": \"bert-base-uncased\",\n",
      "  \"architectures\": [\n",
      "    \"BertForMaskedLM\"\n",
      "  ],\n",
      "  \"attention_probs_dropout_prob\": 0.1,\n",
      "  \"classifier_dropout\": null,\n",
      "  \"gradient_checkpointing\": false,\n",
      "  \"hidden_act\": \"gelu\",\n",
      "  \"hidden_dropout_prob\": 0.1,\n",
      "  \"hidden_size\": 768,\n",
      "  \"id2label\": {\n",
      "    \"0\": \"LABEL_0\",\n",
      "    \"1\": \"LABEL_1\",\n",
      "    \"2\": \"LABEL_2\",\n",
      "    \"3\": \"LABEL_3\"\n",
      "  },\n",
      "  \"initializer_range\": 0.02,\n",
      "  \"intermediate_size\": 3072,\n",
      "  \"label2id\": {\n",
      "    \"LABEL_0\": 0,\n",
      "    \"LABEL_1\": 1,\n",
      "    \"LABEL_2\": 2,\n",
      "    \"LABEL_3\": 3\n",
      "  },\n",
      "  \"layer_norm_eps\": 1e-12,\n",
      "  \"max_position_embeddings\": 512,\n",
      "  \"model_type\": \"bert\",\n",
      "  \"num_attention_heads\": 12,\n",
      "  \"num_hidden_layers\": 12,\n",
      "  \"pad_token_id\": 0,\n",
      "  \"position_embedding_type\": \"absolute\",\n",
      "  \"transformers_version\": \"4.16.2\",\n",
      "  \"type_vocab_size\": 2,\n",
      "  \"use_cache\": true,\n",
      "  \"vocab_size\": 30522\n",
      "}\n",
      "\n",
      "loading weights file https://huggingface.co/bert-base-uncased/resolve/main/tf_model.h5 from cache at C:\\Users\\HP/.cache\\huggingface\\transformers\\775efbdc2152093295bc5824dee96da82a5f3c1f218dfface1b8cef3094bdf8f.c719a806caef7d36ec0185f14b3b5fa727d919f924abe35622b4b7147bfbb8c7.h5\n",
      "All model checkpoint layers were used when initializing TFBertForSequenceClassification.\n",
      "\n",
      "Some layers of TFBertForSequenceClassification were not initialized from the model checkpoint at bert-base-uncased and are newly initialized: ['classifier']\n",
      "You should probably TRAIN this model on a down-stream task to be able to use it for predictions and inference.\n"
     ]
    },
    {
     "name": "stdout",
     "output_type": "stream",
     "text": [
      "<class 'transformers.models.bert.modeling_tf_bert.TFBertForSequenceClassification'>\n"
     ]
    }
   ],
   "source": [
    "model = TFAutoModelForSequenceClassification.from_pretrained(checkpoint, num_labels=4)\n",
    "print(type(model))"
   ]
  },
  {
   "cell_type": "code",
   "execution_count": 381,
   "id": "c6d6cbf5",
   "metadata": {},
   "outputs": [],
   "source": [
    "from transformers import AutoModelForSequenceClassification, TFAutoModel"
   ]
  },
  {
   "cell_type": "code",
   "execution_count": 382,
   "id": "96b52ae7",
   "metadata": {
    "collapsed": true
   },
   "outputs": [
    {
     "name": "stderr",
     "output_type": "stream",
     "text": [
      "loading configuration file https://huggingface.co/bert-base-uncased/resolve/main/config.json from cache at C:\\Users\\HP/.cache\\huggingface\\transformers\\3c61d016573b14f7f008c02c4e51a366c67ab274726fe2910691e2a761acf43e.37395cee442ab11005bcd270f3c34464dc1704b715b5d7d52b1a461abe3b9e4e\n",
      "Model config BertConfig {\n",
      "  \"_name_or_path\": \"bert-base-uncased\",\n",
      "  \"architectures\": [\n",
      "    \"BertForMaskedLM\"\n",
      "  ],\n",
      "  \"attention_probs_dropout_prob\": 0.1,\n",
      "  \"classifier_dropout\": null,\n",
      "  \"gradient_checkpointing\": false,\n",
      "  \"hidden_act\": \"gelu\",\n",
      "  \"hidden_dropout_prob\": 0.1,\n",
      "  \"hidden_size\": 768,\n",
      "  \"id2label\": {\n",
      "    \"0\": \"LABEL_0\",\n",
      "    \"1\": \"LABEL_1\",\n",
      "    \"2\": \"LABEL_2\",\n",
      "    \"3\": \"LABEL_3\"\n",
      "  },\n",
      "  \"initializer_range\": 0.02,\n",
      "  \"intermediate_size\": 3072,\n",
      "  \"label2id\": {\n",
      "    \"LABEL_0\": 0,\n",
      "    \"LABEL_1\": 1,\n",
      "    \"LABEL_2\": 2,\n",
      "    \"LABEL_3\": 3\n",
      "  },\n",
      "  \"layer_norm_eps\": 1e-12,\n",
      "  \"max_position_embeddings\": 512,\n",
      "  \"model_type\": \"bert\",\n",
      "  \"num_attention_heads\": 12,\n",
      "  \"num_hidden_layers\": 12,\n",
      "  \"pad_token_id\": 0,\n",
      "  \"position_embedding_type\": \"absolute\",\n",
      "  \"transformers_version\": \"4.16.2\",\n",
      "  \"type_vocab_size\": 2,\n",
      "  \"use_cache\": true,\n",
      "  \"vocab_size\": 30522\n",
      "}\n",
      "\n",
      "https://huggingface.co/bert-base-uncased/resolve/main/pytorch_model.bin not found in cache or force_download set to True, downloading to C:\\Users\\HP\\.cache\\huggingface\\transformers\\tmp650lr4vt\n"
     ]
    },
    {
     "data": {
      "application/vnd.jupyter.widget-view+json": {
       "model_id": "ea315935cc164619bcb0bfe405e2eccd",
       "version_major": 2,
       "version_minor": 0
      },
      "text/plain": [
       "Downloading:   0%|          | 0.00/420M [00:00<?, ?B/s]"
      ]
     },
     "metadata": {},
     "output_type": "display_data"
    },
    {
     "name": "stderr",
     "output_type": "stream",
     "text": [
      "storing https://huggingface.co/bert-base-uncased/resolve/main/pytorch_model.bin in cache at C:\\Users\\HP/.cache\\huggingface\\transformers\\a8041bf617d7f94ea26d15e218abd04afc2004805632abc0ed2066aa16d50d04.faf6ea826ae9c5867d12b22257f9877e6b8367890837bd60f7c54a29633f7f2f\n",
      "creating metadata file for C:\\Users\\HP/.cache\\huggingface\\transformers\\a8041bf617d7f94ea26d15e218abd04afc2004805632abc0ed2066aa16d50d04.faf6ea826ae9c5867d12b22257f9877e6b8367890837bd60f7c54a29633f7f2f\n",
      "loading weights file https://huggingface.co/bert-base-uncased/resolve/main/pytorch_model.bin from cache at C:\\Users\\HP/.cache\\huggingface\\transformers\\a8041bf617d7f94ea26d15e218abd04afc2004805632abc0ed2066aa16d50d04.faf6ea826ae9c5867d12b22257f9877e6b8367890837bd60f7c54a29633f7f2f\n",
      "Some weights of the model checkpoint at bert-base-uncased were not used when initializing BertForSequenceClassification: ['cls.predictions.transform.dense.weight', 'cls.predictions.transform.LayerNorm.bias', 'cls.predictions.transform.dense.bias', 'cls.predictions.bias', 'cls.predictions.transform.LayerNorm.weight', 'cls.seq_relationship.bias', 'cls.seq_relationship.weight', 'cls.predictions.decoder.weight']\n",
      "- This IS expected if you are initializing BertForSequenceClassification from the checkpoint of a model trained on another task or with another architecture (e.g. initializing a BertForSequenceClassification model from a BertForPreTraining model).\n",
      "- This IS NOT expected if you are initializing BertForSequenceClassification from the checkpoint of a model that you expect to be exactly identical (initializing a BertForSequenceClassification model from a BertForSequenceClassification model).\n",
      "Some weights of BertForSequenceClassification were not initialized from the model checkpoint at bert-base-uncased and are newly initialized: ['classifier.weight', 'classifier.bias']\n",
      "You should probably TRAIN this model on a down-stream task to be able to use it for predictions and inference.\n"
     ]
    }
   ],
   "source": [
    "model = AutoModelForSequenceClassification.from_pretrained(checkpoint, num_labels=4)\n"
   ]
  },
  {
   "cell_type": "code",
   "execution_count": 383,
   "id": "78c9b5e1",
   "metadata": {
    "collapsed": true
   },
   "outputs": [
    {
     "name": "stderr",
     "output_type": "stream",
     "text": [
      "PyTorch: setting up devices\n",
      "The default value for the training argument `--report_to` will change in v5 (from all installed integrations to none). In v5, you will need to use `--report_to all` to get the same behavior as now. You should start updating your code and make this info disappear :-).\n"
     ]
    },
    {
     "name": "stdout",
     "output_type": "stream",
     "text": [
      "TrainingArguments(\n",
      "_n_gpu=0,\n",
      "adafactor=False,\n",
      "adam_beta1=0.9,\n",
      "adam_beta2=0.999,\n",
      "adam_epsilon=1e-08,\n",
      "bf16=False,\n",
      "bf16_full_eval=False,\n",
      "dataloader_drop_last=False,\n",
      "dataloader_num_workers=0,\n",
      "dataloader_pin_memory=True,\n",
      "ddp_bucket_cap_mb=None,\n",
      "ddp_find_unused_parameters=None,\n",
      "debug=[],\n",
      "deepspeed=None,\n",
      "disable_tqdm=False,\n",
      "do_eval=False,\n",
      "do_predict=False,\n",
      "do_train=False,\n",
      "eval_accumulation_steps=None,\n",
      "eval_steps=None,\n",
      "evaluation_strategy=IntervalStrategy.NO,\n",
      "fp16=False,\n",
      "fp16_backend=auto,\n",
      "fp16_full_eval=False,\n",
      "fp16_opt_level=O1,\n",
      "gradient_accumulation_steps=1,\n",
      "gradient_checkpointing=False,\n",
      "greater_is_better=None,\n",
      "group_by_length=False,\n",
      "half_precision_backend=auto,\n",
      "hub_model_id=None,\n",
      "hub_strategy=HubStrategy.EVERY_SAVE,\n",
      "hub_token=<HUB_TOKEN>,\n",
      "ignore_data_skip=False,\n",
      "label_names=None,\n",
      "label_smoothing_factor=0.0,\n",
      "learning_rate=5e-05,\n",
      "length_column_name=length,\n",
      "load_best_model_at_end=False,\n",
      "local_rank=-1,\n",
      "log_level=-1,\n",
      "log_level_replica=-1,\n",
      "log_on_each_node=True,\n",
      "logging_dir=trainer-arg\\runs\\Dec28_23-20-06_DESKTOP-0RFAQUO,\n",
      "logging_first_step=False,\n",
      "logging_nan_inf_filter=True,\n",
      "logging_steps=500,\n",
      "logging_strategy=IntervalStrategy.STEPS,\n",
      "lr_scheduler_type=SchedulerType.LINEAR,\n",
      "max_grad_norm=1.0,\n",
      "max_steps=-1,\n",
      "metric_for_best_model=None,\n",
      "mp_parameters=,\n",
      "no_cuda=False,\n",
      "num_train_epochs=3.0,\n",
      "optim=OptimizerNames.ADAMW_HF,\n",
      "output_dir=trainer-arg,\n",
      "overwrite_output_dir=False,\n",
      "past_index=-1,\n",
      "per_device_eval_batch_size=8,\n",
      "per_device_train_batch_size=8,\n",
      "prediction_loss_only=False,\n",
      "push_to_hub=False,\n",
      "push_to_hub_model_id=None,\n",
      "push_to_hub_organization=None,\n",
      "push_to_hub_token=<PUSH_TO_HUB_TOKEN>,\n",
      "remove_unused_columns=True,\n",
      "report_to=['tensorboard', 'wandb'],\n",
      "resume_from_checkpoint=None,\n",
      "run_name=trainer-arg,\n",
      "save_on_each_node=False,\n",
      "save_steps=500,\n",
      "save_strategy=IntervalStrategy.STEPS,\n",
      "save_total_limit=None,\n",
      "seed=42,\n",
      "sharded_ddp=[],\n",
      "skip_memory_metrics=True,\n",
      "tf32=None,\n",
      "tpu_metrics_debug=False,\n",
      "tpu_num_cores=None,\n",
      "use_legacy_prediction_loop=False,\n",
      "warmup_ratio=0.0,\n",
      "warmup_steps=0,\n",
      "weight_decay=0.0,\n",
      "xpu_backend=None,\n",
      ")\n"
     ]
    }
   ],
   "source": [
    "from transformers import TrainingArguments\n",
    "from transformers import Trainer\n",
    "training_arg = TrainingArguments('trainer-arg')\n",
    "print(training_arg)"
   ]
  },
  {
   "cell_type": "code",
   "execution_count": 384,
   "id": "178e2a5f",
   "metadata": {},
   "outputs": [],
   "source": [
    "from transformers import DataCollatorWithPadding\n",
    "data_collector = DataCollatorWithPadding(tokenizer)\n",
    "trainer = Trainer(model, \n",
    "                  training_arg, \n",
    "                 train_dataset=final_data['train'], \n",
    "                 eval_dataset=final_data['validation'],\n",
    "                  data_collator=data_collector, \n",
    "                 tokenizer=tokenizer)"
   ]
  },
  {
   "cell_type": "code",
   "execution_count": 385,
   "id": "0caa6570",
   "metadata": {
    "collapsed": true
   },
   "outputs": [
    {
     "name": "stderr",
     "output_type": "stream",
     "text": [
      "c:\\users\\hp\\appdata\\local\\programs\\python\\python39\\lib\\site-packages\\transformers\\optimization.py:306: FutureWarning: This implementation of AdamW is deprecated and will be removed in a future version. Use thePyTorch implementation torch.optim.AdamW instead, or set `no_deprecation_warning=True` to disable this warning\n",
      "  warnings.warn(\n",
      "***** Running training *****\n",
      "  Num examples = 3257\n",
      "  Num Epochs = 3\n",
      "  Instantaneous batch size per device = 8\n",
      "  Total train batch size (w. parallel, distributed & accumulation) = 8\n",
      "  Gradient Accumulation steps = 1\n",
      "  Total optimization steps = 1224\n",
      "Automatic Weights & Biases logging enabled, to disable set os.environ[\"WANDB_DISABLED\"] = \"true\"\n",
      "\u001b[34m\u001b[1mwandb\u001b[0m: Logging into wandb.ai. (Learn how to deploy a W&B server locally: https://wandb.me/wandb-server)\n",
      "\u001b[34m\u001b[1mwandb\u001b[0m: You can find your API key in your browser here: https://wandb.ai/authorize\n",
      "\u001b[34m\u001b[1mwandb\u001b[0m: Paste an API key from your profile and hit enter, or press ctrl+c to quit:"
     ]
    },
    {
     "name": "stdout",
     "output_type": "stream",
     "text": [
      " ········\n"
     ]
    },
    {
     "name": "stderr",
     "output_type": "stream",
     "text": [
      "\u001b[34m\u001b[1mwandb\u001b[0m: \u001b[32m\u001b[41mERROR\u001b[0m API key must be 40 characters long, yours was 79\n",
      "\u001b[34m\u001b[1mwandb\u001b[0m: Logging into wandb.ai. (Learn how to deploy a W&B server locally: https://wandb.me/wandb-server)\n",
      "\u001b[34m\u001b[1mwandb\u001b[0m: You can find your API key in your browser here: https://wandb.ai/authorize\n",
      "\u001b[34m\u001b[1mwandb\u001b[0m: Paste an API key from your profile and hit enter, or press ctrl+c to quit:"
     ]
    },
    {
     "name": "stdout",
     "output_type": "stream",
     "text": [
      " ········\n"
     ]
    },
    {
     "name": "stderr",
     "output_type": "stream",
     "text": [
      "\u001b[34m\u001b[1mwandb\u001b[0m: Paste an API key from your profile and hit enter, or press ctrl+c to quit:"
     ]
    },
    {
     "name": "stdout",
     "output_type": "stream",
     "text": [
      " ········\n"
     ]
    },
    {
     "name": "stderr",
     "output_type": "stream",
     "text": [
      "\u001b[34m\u001b[1mwandb\u001b[0m: Paste an API key from your profile and hit enter, or press ctrl+c to quit:\n",
      "Traceback (most recent call last):\n",
      "  File \"c:\\users\\hp\\appdata\\local\\programs\\python\\python39\\lib\\site-packages\\wandb\\sdk\\wandb_init.py\", line 1075, in init\n",
      "    wi.setup(kwargs)\n",
      "  File \"c:\\users\\hp\\appdata\\local\\programs\\python\\python39\\lib\\site-packages\\wandb\\sdk\\wandb_init.py\", line 274, in setup\n",
      "    wandb_login._login(\n",
      "  File \"c:\\users\\hp\\appdata\\local\\programs\\python\\python39\\lib\\site-packages\\wandb\\sdk\\wandb_login.py\", line 298, in _login\n",
      "    wlogin.prompt_api_key()\n",
      "  File \"c:\\users\\hp\\appdata\\local\\programs\\python\\python39\\lib\\site-packages\\wandb\\sdk\\wandb_login.py\", line 221, in prompt_api_key\n",
      "    key, status = self._prompt_api_key()\n",
      "  File \"c:\\users\\hp\\appdata\\local\\programs\\python\\python39\\lib\\site-packages\\wandb\\sdk\\wandb_login.py\", line 201, in _prompt_api_key\n",
      "    key = apikey.prompt_api_key(\n",
      "  File \"c:\\users\\hp\\appdata\\local\\programs\\python\\python39\\lib\\site-packages\\wandb\\sdk\\lib\\apikey.py\", line 134, in prompt_api_key\n",
      "    key = input_callback(api_ask).strip()\n",
      "  File \"c:\\users\\hp\\appdata\\local\\programs\\python\\python39\\lib\\site-packages\\click\\termui.py\", line 166, in prompt\n",
      "    value = prompt_func(prompt)\n",
      "  File \"c:\\users\\hp\\appdata\\local\\programs\\python\\python39\\lib\\site-packages\\click\\termui.py\", line 149, in prompt_func\n",
      "    raise Abort() from None\n",
      "click.exceptions.Abort\n",
      "\u001b[34m\u001b[1mwandb\u001b[0m: \u001b[32m\u001b[41mERROR\u001b[0m Abnormal program exit\n"
     ]
    },
    {
     "ename": "Exception",
     "evalue": "problem",
     "output_type": "error",
     "traceback": [
      "\u001b[1;31m---------------------------------------------------------------------------\u001b[0m",
      "\u001b[1;31mAbort\u001b[0m                                     Traceback (most recent call last)",
      "File \u001b[1;32mc:\\users\\hp\\appdata\\local\\programs\\python\\python39\\lib\\site-packages\\wandb\\sdk\\wandb_init.py:1075\u001b[0m, in \u001b[0;36minit\u001b[1;34m(job_type, dir, config, project, entity, reinit, tags, group, name, notes, magic, config_exclude_keys, config_include_keys, anonymous, mode, allow_val_change, resume, force, tensorboard, sync_tensorboard, monitor_gym, save_code, id, settings)\u001b[0m\n\u001b[0;32m   1074\u001b[0m wi \u001b[38;5;241m=\u001b[39m _WandbInit()\n\u001b[1;32m-> 1075\u001b[0m \u001b[43mwi\u001b[49m\u001b[38;5;241;43m.\u001b[39;49m\u001b[43msetup\u001b[49m\u001b[43m(\u001b[49m\u001b[43mkwargs\u001b[49m\u001b[43m)\u001b[49m\n\u001b[0;32m   1076\u001b[0m except_exit \u001b[38;5;241m=\u001b[39m wi\u001b[38;5;241m.\u001b[39msettings\u001b[38;5;241m.\u001b[39m_except_exit\n",
      "File \u001b[1;32mc:\\users\\hp\\appdata\\local\\programs\\python\\python39\\lib\\site-packages\\wandb\\sdk\\wandb_init.py:274\u001b[0m, in \u001b[0;36m_WandbInit.setup\u001b[1;34m(self, kwargs)\u001b[0m\n\u001b[0;32m    273\u001b[0m \u001b[38;5;28;01mif\u001b[39;00m \u001b[38;5;129;01mnot\u001b[39;00m settings\u001b[38;5;241m.\u001b[39m_offline \u001b[38;5;129;01mand\u001b[39;00m \u001b[38;5;129;01mnot\u001b[39;00m settings\u001b[38;5;241m.\u001b[39m_noop:\n\u001b[1;32m--> 274\u001b[0m     \u001b[43mwandb_login\u001b[49m\u001b[38;5;241;43m.\u001b[39;49m\u001b[43m_login\u001b[49m\u001b[43m(\u001b[49m\n\u001b[0;32m    275\u001b[0m \u001b[43m        \u001b[49m\u001b[43manonymous\u001b[49m\u001b[38;5;241;43m=\u001b[39;49m\u001b[43mkwargs\u001b[49m\u001b[38;5;241;43m.\u001b[39;49m\u001b[43mpop\u001b[49m\u001b[43m(\u001b[49m\u001b[38;5;124;43m\"\u001b[39;49m\u001b[38;5;124;43manonymous\u001b[39;49m\u001b[38;5;124;43m\"\u001b[39;49m\u001b[43m,\u001b[49m\u001b[43m \u001b[49m\u001b[38;5;28;43;01mNone\u001b[39;49;00m\u001b[43m)\u001b[49m\u001b[43m,\u001b[49m\n\u001b[0;32m    276\u001b[0m \u001b[43m        \u001b[49m\u001b[43mforce\u001b[49m\u001b[38;5;241;43m=\u001b[39;49m\u001b[43mkwargs\u001b[49m\u001b[38;5;241;43m.\u001b[39;49m\u001b[43mpop\u001b[49m\u001b[43m(\u001b[49m\u001b[38;5;124;43m\"\u001b[39;49m\u001b[38;5;124;43mforce\u001b[39;49m\u001b[38;5;124;43m\"\u001b[39;49m\u001b[43m,\u001b[49m\u001b[43m \u001b[49m\u001b[38;5;28;43;01mNone\u001b[39;49;00m\u001b[43m)\u001b[49m\u001b[43m,\u001b[49m\n\u001b[0;32m    277\u001b[0m \u001b[43m        \u001b[49m\u001b[43m_disable_warning\u001b[49m\u001b[38;5;241;43m=\u001b[39;49m\u001b[38;5;28;43;01mTrue\u001b[39;49;00m\u001b[43m,\u001b[49m\n\u001b[0;32m    278\u001b[0m \u001b[43m        \u001b[49m\u001b[43m_silent\u001b[49m\u001b[38;5;241;43m=\u001b[39;49m\u001b[43msettings\u001b[49m\u001b[38;5;241;43m.\u001b[39;49m\u001b[43mquiet\u001b[49m\u001b[43m \u001b[49m\u001b[38;5;129;43;01mor\u001b[39;49;00m\u001b[43m \u001b[49m\u001b[43msettings\u001b[49m\u001b[38;5;241;43m.\u001b[39;49m\u001b[43msilent\u001b[49m\u001b[43m,\u001b[49m\n\u001b[0;32m    279\u001b[0m \u001b[43m        \u001b[49m\u001b[43m_entity\u001b[49m\u001b[38;5;241;43m=\u001b[39;49m\u001b[43mkwargs\u001b[49m\u001b[38;5;241;43m.\u001b[39;49m\u001b[43mget\u001b[49m\u001b[43m(\u001b[49m\u001b[38;5;124;43m\"\u001b[39;49m\u001b[38;5;124;43mentity\u001b[39;49m\u001b[38;5;124;43m\"\u001b[39;49m\u001b[43m)\u001b[49m\u001b[43m \u001b[49m\u001b[38;5;129;43;01mor\u001b[39;49;00m\u001b[43m \u001b[49m\u001b[43msettings\u001b[49m\u001b[38;5;241;43m.\u001b[39;49m\u001b[43mentity\u001b[49m\u001b[43m,\u001b[49m\n\u001b[0;32m    280\u001b[0m \u001b[43m    \u001b[49m\u001b[43m)\u001b[49m\n\u001b[0;32m    282\u001b[0m \u001b[38;5;66;03m# apply updated global state after login was handled\u001b[39;00m\n",
      "File \u001b[1;32mc:\\users\\hp\\appdata\\local\\programs\\python\\python39\\lib\\site-packages\\wandb\\sdk\\wandb_login.py:298\u001b[0m, in \u001b[0;36m_login\u001b[1;34m(anonymous, key, relogin, host, force, timeout, _backend, _silent, _disable_warning, _entity)\u001b[0m\n\u001b[0;32m    297\u001b[0m \u001b[38;5;28;01mif\u001b[39;00m \u001b[38;5;129;01mnot\u001b[39;00m key:\n\u001b[1;32m--> 298\u001b[0m     \u001b[43mwlogin\u001b[49m\u001b[38;5;241;43m.\u001b[39;49m\u001b[43mprompt_api_key\u001b[49m\u001b[43m(\u001b[49m\u001b[43m)\u001b[49m\n\u001b[0;32m    300\u001b[0m \u001b[38;5;66;03m# make sure login credentials get to the backend\u001b[39;00m\n",
      "File \u001b[1;32mc:\\users\\hp\\appdata\\local\\programs\\python\\python39\\lib\\site-packages\\wandb\\sdk\\wandb_login.py:221\u001b[0m, in \u001b[0;36m_WandbLogin.prompt_api_key\u001b[1;34m(self)\u001b[0m\n\u001b[0;32m    220\u001b[0m \u001b[38;5;28;01mdef\u001b[39;00m \u001b[38;5;21mprompt_api_key\u001b[39m(\u001b[38;5;28mself\u001b[39m):\n\u001b[1;32m--> 221\u001b[0m     key, status \u001b[38;5;241m=\u001b[39m \u001b[38;5;28;43mself\u001b[39;49m\u001b[38;5;241;43m.\u001b[39;49m\u001b[43m_prompt_api_key\u001b[49m\u001b[43m(\u001b[49m\u001b[43m)\u001b[49m\n\u001b[0;32m    222\u001b[0m     \u001b[38;5;28;01mif\u001b[39;00m status \u001b[38;5;241m==\u001b[39m ApiKeyStatus\u001b[38;5;241m.\u001b[39mNOTTY:\n",
      "File \u001b[1;32mc:\\users\\hp\\appdata\\local\\programs\\python\\python39\\lib\\site-packages\\wandb\\sdk\\wandb_login.py:201\u001b[0m, in \u001b[0;36m_WandbLogin._prompt_api_key\u001b[1;34m(self)\u001b[0m\n\u001b[0;32m    200\u001b[0m \u001b[38;5;28;01mtry\u001b[39;00m:\n\u001b[1;32m--> 201\u001b[0m     key \u001b[38;5;241m=\u001b[39m \u001b[43mapikey\u001b[49m\u001b[38;5;241;43m.\u001b[39;49m\u001b[43mprompt_api_key\u001b[49m\u001b[43m(\u001b[49m\n\u001b[0;32m    202\u001b[0m \u001b[43m        \u001b[49m\u001b[38;5;28;43mself\u001b[39;49m\u001b[38;5;241;43m.\u001b[39;49m\u001b[43m_settings\u001b[49m\u001b[43m,\u001b[49m\n\u001b[0;32m    203\u001b[0m \u001b[43m        \u001b[49m\u001b[43mapi\u001b[49m\u001b[38;5;241;43m=\u001b[39;49m\u001b[43mapi\u001b[49m\u001b[43m,\u001b[49m\n\u001b[0;32m    204\u001b[0m \u001b[43m        \u001b[49m\u001b[43mno_offline\u001b[49m\u001b[38;5;241;43m=\u001b[39;49m\u001b[38;5;28;43mself\u001b[39;49m\u001b[38;5;241;43m.\u001b[39;49m\u001b[43m_settings\u001b[49m\u001b[38;5;241;43m.\u001b[39;49m\u001b[43mforce\u001b[49m\u001b[43m \u001b[49m\u001b[38;5;28;43;01mif\u001b[39;49;00m\u001b[43m \u001b[49m\u001b[38;5;28;43mself\u001b[39;49m\u001b[38;5;241;43m.\u001b[39;49m\u001b[43m_settings\u001b[49m\u001b[43m \u001b[49m\u001b[38;5;28;43;01melse\u001b[39;49;00m\u001b[43m \u001b[49m\u001b[38;5;28;43;01mNone\u001b[39;49;00m\u001b[43m,\u001b[49m\n\u001b[0;32m    205\u001b[0m \u001b[43m        \u001b[49m\u001b[43mno_create\u001b[49m\u001b[38;5;241;43m=\u001b[39;49m\u001b[38;5;28;43mself\u001b[39;49m\u001b[38;5;241;43m.\u001b[39;49m\u001b[43m_settings\u001b[49m\u001b[38;5;241;43m.\u001b[39;49m\u001b[43mforce\u001b[49m\u001b[43m \u001b[49m\u001b[38;5;28;43;01mif\u001b[39;49;00m\u001b[43m \u001b[49m\u001b[38;5;28;43mself\u001b[39;49m\u001b[38;5;241;43m.\u001b[39;49m\u001b[43m_settings\u001b[49m\u001b[43m \u001b[49m\u001b[38;5;28;43;01melse\u001b[39;49;00m\u001b[43m \u001b[49m\u001b[38;5;28;43;01mNone\u001b[39;49;00m\u001b[43m,\u001b[49m\n\u001b[0;32m    206\u001b[0m \u001b[43m    \u001b[49m\u001b[43m)\u001b[49m\n\u001b[0;32m    207\u001b[0m \u001b[38;5;28;01mexcept\u001b[39;00m \u001b[38;5;167;01mValueError\u001b[39;00m \u001b[38;5;28;01mas\u001b[39;00m e:\n\u001b[0;32m    208\u001b[0m     \u001b[38;5;66;03m# invalid key provided, try again\u001b[39;00m\n",
      "File \u001b[1;32mc:\\users\\hp\\appdata\\local\\programs\\python\\python39\\lib\\site-packages\\wandb\\sdk\\lib\\apikey.py:134\u001b[0m, in \u001b[0;36mprompt_api_key\u001b[1;34m(settings, api, input_callback, browser_callback, no_offline, no_create, local)\u001b[0m\n\u001b[0;32m    131\u001b[0m     wandb\u001b[38;5;241m.\u001b[39mtermlog(\n\u001b[0;32m    132\u001b[0m         \u001b[38;5;124mf\u001b[39m\u001b[38;5;124m\"\u001b[39m\u001b[38;5;124mYou can find your API key in your browser here: \u001b[39m\u001b[38;5;132;01m{\u001b[39;00mapp_url\u001b[38;5;132;01m}\u001b[39;00m\u001b[38;5;124m/authorize\u001b[39m\u001b[38;5;124m\"\u001b[39m\n\u001b[0;32m    133\u001b[0m     )\n\u001b[1;32m--> 134\u001b[0m     key \u001b[38;5;241m=\u001b[39m \u001b[43minput_callback\u001b[49m\u001b[43m(\u001b[49m\u001b[43mapi_ask\u001b[49m\u001b[43m)\u001b[49m\u001b[38;5;241m.\u001b[39mstrip()\n\u001b[0;32m    135\u001b[0m write_key(settings, key, api\u001b[38;5;241m=\u001b[39mapi)\n",
      "File \u001b[1;32mc:\\users\\hp\\appdata\\local\\programs\\python\\python39\\lib\\site-packages\\click\\termui.py:166\u001b[0m, in \u001b[0;36mprompt\u001b[1;34m(text, default, hide_input, confirmation_prompt, type, value_proc, prompt_suffix, show_default, err, show_choices)\u001b[0m\n\u001b[0;32m    165\u001b[0m \u001b[38;5;28;01mwhile\u001b[39;00m \u001b[38;5;28;01mTrue\u001b[39;00m:\n\u001b[1;32m--> 166\u001b[0m     value \u001b[38;5;241m=\u001b[39m \u001b[43mprompt_func\u001b[49m\u001b[43m(\u001b[49m\u001b[43mprompt\u001b[49m\u001b[43m)\u001b[49m\n\u001b[0;32m    167\u001b[0m     \u001b[38;5;28;01mif\u001b[39;00m value:\n",
      "File \u001b[1;32mc:\\users\\hp\\appdata\\local\\programs\\python\\python39\\lib\\site-packages\\click\\termui.py:149\u001b[0m, in \u001b[0;36mprompt.<locals>.prompt_func\u001b[1;34m(text)\u001b[0m\n\u001b[0;32m    148\u001b[0m     echo(\u001b[38;5;28;01mNone\u001b[39;00m, err\u001b[38;5;241m=\u001b[39merr)\n\u001b[1;32m--> 149\u001b[0m \u001b[38;5;28;01mraise\u001b[39;00m Abort() \u001b[38;5;28;01mfrom\u001b[39;00m \u001b[38;5;28mNone\u001b[39m\n",
      "\u001b[1;31mAbort\u001b[0m: ",
      "\nThe above exception was the direct cause of the following exception:\n",
      "\u001b[1;31mException\u001b[0m                                 Traceback (most recent call last)",
      "Cell \u001b[1;32mIn [385], line 1\u001b[0m\n\u001b[1;32m----> 1\u001b[0m \u001b[43mtrainer\u001b[49m\u001b[38;5;241;43m.\u001b[39;49m\u001b[43mtrain\u001b[49m\u001b[43m(\u001b[49m\u001b[43m)\u001b[49m\n",
      "File \u001b[1;32mc:\\users\\hp\\appdata\\local\\programs\\python\\python39\\lib\\site-packages\\transformers\\trainer.py:1308\u001b[0m, in \u001b[0;36mTrainer.train\u001b[1;34m(self, resume_from_checkpoint, trial, ignore_keys_for_eval, **kwargs)\u001b[0m\n\u001b[0;32m   1305\u001b[0m \u001b[38;5;28mself\u001b[39m\u001b[38;5;241m.\u001b[39m_globalstep_last_logged \u001b[38;5;241m=\u001b[39m \u001b[38;5;28mself\u001b[39m\u001b[38;5;241m.\u001b[39mstate\u001b[38;5;241m.\u001b[39mglobal_step\n\u001b[0;32m   1306\u001b[0m model\u001b[38;5;241m.\u001b[39mzero_grad()\n\u001b[1;32m-> 1308\u001b[0m \u001b[38;5;28mself\u001b[39m\u001b[38;5;241m.\u001b[39mcontrol \u001b[38;5;241m=\u001b[39m \u001b[38;5;28;43mself\u001b[39;49m\u001b[38;5;241;43m.\u001b[39;49m\u001b[43mcallback_handler\u001b[49m\u001b[38;5;241;43m.\u001b[39;49m\u001b[43mon_train_begin\u001b[49m\u001b[43m(\u001b[49m\u001b[43margs\u001b[49m\u001b[43m,\u001b[49m\u001b[43m \u001b[49m\u001b[38;5;28;43mself\u001b[39;49m\u001b[38;5;241;43m.\u001b[39;49m\u001b[43mstate\u001b[49m\u001b[43m,\u001b[49m\u001b[43m \u001b[49m\u001b[38;5;28;43mself\u001b[39;49m\u001b[38;5;241;43m.\u001b[39;49m\u001b[43mcontrol\u001b[49m\u001b[43m)\u001b[49m\n\u001b[0;32m   1310\u001b[0m \u001b[38;5;66;03m# Skip the first epochs_trained epochs to get the random state of the dataloader at the right point.\u001b[39;00m\n\u001b[0;32m   1311\u001b[0m \u001b[38;5;28;01mif\u001b[39;00m \u001b[38;5;129;01mnot\u001b[39;00m args\u001b[38;5;241m.\u001b[39mignore_data_skip:\n",
      "File \u001b[1;32mc:\\users\\hp\\appdata\\local\\programs\\python\\python39\\lib\\site-packages\\transformers\\trainer_callback.py:348\u001b[0m, in \u001b[0;36mCallbackHandler.on_train_begin\u001b[1;34m(self, args, state, control)\u001b[0m\n\u001b[0;32m    346\u001b[0m \u001b[38;5;28;01mdef\u001b[39;00m \u001b[38;5;21mon_train_begin\u001b[39m(\u001b[38;5;28mself\u001b[39m, args: TrainingArguments, state: TrainerState, control: TrainerControl):\n\u001b[0;32m    347\u001b[0m     control\u001b[38;5;241m.\u001b[39mshould_training_stop \u001b[38;5;241m=\u001b[39m \u001b[38;5;28;01mFalse\u001b[39;00m\n\u001b[1;32m--> 348\u001b[0m     \u001b[38;5;28;01mreturn\u001b[39;00m \u001b[38;5;28;43mself\u001b[39;49m\u001b[38;5;241;43m.\u001b[39;49m\u001b[43mcall_event\u001b[49m\u001b[43m(\u001b[49m\u001b[38;5;124;43m\"\u001b[39;49m\u001b[38;5;124;43mon_train_begin\u001b[39;49m\u001b[38;5;124;43m\"\u001b[39;49m\u001b[43m,\u001b[49m\u001b[43m \u001b[49m\u001b[43margs\u001b[49m\u001b[43m,\u001b[49m\u001b[43m \u001b[49m\u001b[43mstate\u001b[49m\u001b[43m,\u001b[49m\u001b[43m \u001b[49m\u001b[43mcontrol\u001b[49m\u001b[43m)\u001b[49m\n",
      "File \u001b[1;32mc:\\users\\hp\\appdata\\local\\programs\\python\\python39\\lib\\site-packages\\transformers\\trainer_callback.py:389\u001b[0m, in \u001b[0;36mCallbackHandler.call_event\u001b[1;34m(self, event, args, state, control, **kwargs)\u001b[0m\n\u001b[0;32m    387\u001b[0m \u001b[38;5;28;01mdef\u001b[39;00m \u001b[38;5;21mcall_event\u001b[39m(\u001b[38;5;28mself\u001b[39m, event, args, state, control, \u001b[38;5;241m*\u001b[39m\u001b[38;5;241m*\u001b[39mkwargs):\n\u001b[0;32m    388\u001b[0m     \u001b[38;5;28;01mfor\u001b[39;00m callback \u001b[38;5;129;01min\u001b[39;00m \u001b[38;5;28mself\u001b[39m\u001b[38;5;241m.\u001b[39mcallbacks:\n\u001b[1;32m--> 389\u001b[0m         result \u001b[38;5;241m=\u001b[39m \u001b[38;5;28mgetattr\u001b[39m(callback, event)(\n\u001b[0;32m    390\u001b[0m             args,\n\u001b[0;32m    391\u001b[0m             state,\n\u001b[0;32m    392\u001b[0m             control,\n\u001b[0;32m    393\u001b[0m             model\u001b[38;5;241m=\u001b[39m\u001b[38;5;28mself\u001b[39m\u001b[38;5;241m.\u001b[39mmodel,\n\u001b[0;32m    394\u001b[0m             tokenizer\u001b[38;5;241m=\u001b[39m\u001b[38;5;28mself\u001b[39m\u001b[38;5;241m.\u001b[39mtokenizer,\n\u001b[0;32m    395\u001b[0m             optimizer\u001b[38;5;241m=\u001b[39m\u001b[38;5;28mself\u001b[39m\u001b[38;5;241m.\u001b[39moptimizer,\n\u001b[0;32m    396\u001b[0m             lr_scheduler\u001b[38;5;241m=\u001b[39m\u001b[38;5;28mself\u001b[39m\u001b[38;5;241m.\u001b[39mlr_scheduler,\n\u001b[0;32m    397\u001b[0m             train_dataloader\u001b[38;5;241m=\u001b[39m\u001b[38;5;28mself\u001b[39m\u001b[38;5;241m.\u001b[39mtrain_dataloader,\n\u001b[0;32m    398\u001b[0m             eval_dataloader\u001b[38;5;241m=\u001b[39m\u001b[38;5;28mself\u001b[39m\u001b[38;5;241m.\u001b[39meval_dataloader,\n\u001b[0;32m    399\u001b[0m             \u001b[38;5;241m*\u001b[39m\u001b[38;5;241m*\u001b[39mkwargs,\n\u001b[0;32m    400\u001b[0m         )\n\u001b[0;32m    401\u001b[0m         \u001b[38;5;66;03m# A Callback can skip the return of `control` if it doesn't change it.\u001b[39;00m\n\u001b[0;32m    402\u001b[0m         \u001b[38;5;28;01mif\u001b[39;00m result \u001b[38;5;129;01mis\u001b[39;00m \u001b[38;5;129;01mnot\u001b[39;00m \u001b[38;5;28;01mNone\u001b[39;00m:\n",
      "File \u001b[1;32mc:\\users\\hp\\appdata\\local\\programs\\python\\python39\\lib\\site-packages\\transformers\\integrations.py:546\u001b[0m, in \u001b[0;36mWandbCallback.on_train_begin\u001b[1;34m(self, args, state, control, model, **kwargs)\u001b[0m\n\u001b[0;32m    544\u001b[0m     \u001b[38;5;28mself\u001b[39m\u001b[38;5;241m.\u001b[39m_initialized \u001b[38;5;241m=\u001b[39m \u001b[38;5;28;01mFalse\u001b[39;00m\n\u001b[0;32m    545\u001b[0m \u001b[38;5;28;01mif\u001b[39;00m \u001b[38;5;129;01mnot\u001b[39;00m \u001b[38;5;28mself\u001b[39m\u001b[38;5;241m.\u001b[39m_initialized:\n\u001b[1;32m--> 546\u001b[0m     \u001b[38;5;28mself\u001b[39m\u001b[38;5;241m.\u001b[39msetup(args, state, model, \u001b[38;5;241m*\u001b[39m\u001b[38;5;241m*\u001b[39mkwargs)\n",
      "File \u001b[1;32mc:\\users\\hp\\appdata\\local\\programs\\python\\python39\\lib\\site-packages\\transformers\\integrations.py:519\u001b[0m, in \u001b[0;36mWandbCallback.setup\u001b[1;34m(self, args, state, model, **kwargs)\u001b[0m\n\u001b[0;32m    516\u001b[0m     run_name \u001b[38;5;241m=\u001b[39m args\u001b[38;5;241m.\u001b[39mrun_name\n\u001b[0;32m    518\u001b[0m \u001b[38;5;28;01mif\u001b[39;00m \u001b[38;5;28mself\u001b[39m\u001b[38;5;241m.\u001b[39m_wandb\u001b[38;5;241m.\u001b[39mrun \u001b[38;5;129;01mis\u001b[39;00m \u001b[38;5;28;01mNone\u001b[39;00m:\n\u001b[1;32m--> 519\u001b[0m     \u001b[38;5;28mself\u001b[39m\u001b[38;5;241m.\u001b[39m_wandb\u001b[38;5;241m.\u001b[39minit(\n\u001b[0;32m    520\u001b[0m         project\u001b[38;5;241m=\u001b[39mos\u001b[38;5;241m.\u001b[39mgetenv(\u001b[38;5;124m\"\u001b[39m\u001b[38;5;124mWANDB_PROJECT\u001b[39m\u001b[38;5;124m\"\u001b[39m, \u001b[38;5;124m\"\u001b[39m\u001b[38;5;124mhuggingface\u001b[39m\u001b[38;5;124m\"\u001b[39m),\n\u001b[0;32m    521\u001b[0m         name\u001b[38;5;241m=\u001b[39mrun_name,\n\u001b[0;32m    522\u001b[0m         \u001b[38;5;241m*\u001b[39m\u001b[38;5;241m*\u001b[39minit_args,\n\u001b[0;32m    523\u001b[0m     )\n\u001b[0;32m    524\u001b[0m \u001b[38;5;66;03m# add config parameters (run may have been created manually)\u001b[39;00m\n\u001b[0;32m    525\u001b[0m \u001b[38;5;28mself\u001b[39m\u001b[38;5;241m.\u001b[39m_wandb\u001b[38;5;241m.\u001b[39mconfig\u001b[38;5;241m.\u001b[39mupdate(combined_dict, allow_val_change\u001b[38;5;241m=\u001b[39m\u001b[38;5;28;01mTrue\u001b[39;00m)\n",
      "File \u001b[1;32mc:\\users\\hp\\appdata\\local\\programs\\python\\python39\\lib\\site-packages\\wandb\\sdk\\wandb_init.py:1115\u001b[0m, in \u001b[0;36minit\u001b[1;34m(job_type, dir, config, project, entity, reinit, tags, group, name, notes, magic, config_exclude_keys, config_include_keys, anonymous, mode, allow_val_change, resume, force, tensorboard, sync_tensorboard, monitor_gym, save_code, id, settings)\u001b[0m\n\u001b[0;32m   1113\u001b[0m         \u001b[38;5;28;01mif\u001b[39;00m except_exit:\n\u001b[0;32m   1114\u001b[0m             os\u001b[38;5;241m.\u001b[39m_exit(\u001b[38;5;241m-\u001b[39m\u001b[38;5;241m1\u001b[39m)\n\u001b[1;32m-> 1115\u001b[0m         \u001b[38;5;28;01mraise\u001b[39;00m \u001b[38;5;167;01mException\u001b[39;00m(\u001b[38;5;124m\"\u001b[39m\u001b[38;5;124mproblem\u001b[39m\u001b[38;5;124m\"\u001b[39m) \u001b[38;5;28;01mfrom\u001b[39;00m \u001b[38;5;21;01merror_seen\u001b[39;00m\n\u001b[0;32m   1116\u001b[0m \u001b[38;5;28;01mreturn\u001b[39;00m run\n",
      "\u001b[1;31mException\u001b[0m: problem"
     ]
    }
   ],
   "source": [
    "trainer.train()"
   ]
  },
  {
   "cell_type": "code",
   "execution_count": 267,
   "id": "24b47286",
   "metadata": {},
   "outputs": [
    {
     "name": "stdout",
     "output_type": "stream",
     "text": [
      "Model: \"tf_bert_for_sequence_classification\"\n",
      "_________________________________________________________________\n",
      " Layer (type)                Output Shape              Param #   \n",
      "=================================================================\n",
      " bert (TFBertMainLayer)      multiple                  109482240 \n",
      "                                                                 \n",
      " dropout_74 (Dropout)        multiple                  0         \n",
      "                                                                 \n",
      " classifier (Dense)          multiple                  3076      \n",
      "                                                                 \n",
      "=================================================================\n",
      "Total params: 109,485,316\n",
      "Trainable params: 109,485,316\n",
      "Non-trainable params: 0\n",
      "_________________________________________________________________\n"
     ]
    }
   ],
   "source": [
    "model.summary()"
   ]
  },
  {
   "cell_type": "code",
   "execution_count": 389,
   "id": "da25b717",
   "metadata": {},
   "outputs": [],
   "source": [
    "from tensorflow.keras.optimizers import Adam\n",
    "\n",
    "loss = tf.keras.losses.SparseCategoricalCrossentropy(from_logits=True)\n",
    "model.compile(optimizer=Adam(3e-5), loss=loss, metrics=['accuracy'])"
   ]
  },
  {
   "cell_type": "code",
   "execution_count": 3,
   "id": "371ac227",
   "metadata": {
    "collapsed": true
   },
   "outputs": [
    {
     "ename": "NameError",
     "evalue": "name 'proprocessed_data' is not defined",
     "output_type": "error",
     "traceback": [
      "\u001b[1;31m---------------------------------------------------------------------------\u001b[0m",
      "\u001b[1;31mNameError\u001b[0m                                 Traceback (most recent call last)",
      "Cell \u001b[1;32mIn [3], line 1\u001b[0m\n\u001b[1;32m----> 1\u001b[0m final_data \u001b[38;5;241m=\u001b[39m \u001b[43mproprocessed_data\u001b[49m\u001b[38;5;241m.\u001b[39mremove_columns([\u001b[38;5;124m'\u001b[39m\u001b[38;5;124mtext\u001b[39m\u001b[38;5;124m'\u001b[39m])\n\u001b[0;32m      2\u001b[0m final_data \u001b[38;5;241m=\u001b[39m final_data\u001b[38;5;241m.\u001b[39mrename_column(\u001b[38;5;124m'\u001b[39m\u001b[38;5;124mlabel\u001b[39m\u001b[38;5;124m'\u001b[39m, \u001b[38;5;124m'\u001b[39m\u001b[38;5;124mlabels\u001b[39m\u001b[38;5;124m'\u001b[39m)\n\u001b[0;32m      3\u001b[0m final_data \u001b[38;5;241m=\u001b[39m final_data\u001b[38;5;241m.\u001b[39mwith_format(\u001b[38;5;124m'\u001b[39m\u001b[38;5;124mtensorflow\u001b[39m\u001b[38;5;124m'\u001b[39m)\n",
      "\u001b[1;31mNameError\u001b[0m: name 'proprocessed_data' is not defined"
     ]
    }
   ],
   "source": [
    "final_data = proprocessed_data.remove_columns(['text'])\n",
    "final_data = final_data.rename_column('label', 'labels')\n",
    "final_data = final_data.with_format('tensorflow')"
   ]
  },
  {
   "cell_type": "code",
   "execution_count": 344,
   "id": "14f32e19",
   "metadata": {},
   "outputs": [],
   "source": [
    "tf_train_data = final_data['train']\n",
    "tf_validation_data = final_data['validation']"
   ]
  },
  {
   "cell_type": "code",
   "execution_count": 343,
   "id": "b42b8486",
   "metadata": {
    "scrolled": false
   },
   "outputs": [
    {
     "data": {
      "text/plain": [
       "DatasetDict({\n",
       "    train: Dataset({\n",
       "        features: ['labels', 'input_ids', 'token_type_ids', 'attention_mask'],\n",
       "        num_rows: 3257\n",
       "    })\n",
       "    test: Dataset({\n",
       "        features: ['labels', 'input_ids', 'token_type_ids', 'attention_mask'],\n",
       "        num_rows: 1421\n",
       "    })\n",
       "    validation: Dataset({\n",
       "        features: ['labels', 'input_ids', 'token_type_ids', 'attention_mask'],\n",
       "        num_rows: 374\n",
       "    })\n",
       "})"
      ]
     },
     "execution_count": 343,
     "metadata": {},
     "output_type": "execute_result"
    }
   ],
   "source": [
    "final_data"
   ]
  },
  {
   "cell_type": "code",
   "execution_count": 402,
   "id": "570dcbaf",
   "metadata": {},
   "outputs": [
    {
     "data": {
      "text/plain": [
       "Dataset({\n",
       "    features: ['labels', 'input_ids', 'token_type_ids', 'attention_mask'],\n",
       "    num_rows: 3257\n",
       "})"
      ]
     },
     "execution_count": 402,
     "metadata": {},
     "output_type": "execute_result"
    }
   ],
   "source": [
    "final_data['train']"
   ]
  },
  {
   "cell_type": "code",
   "execution_count": 359,
   "id": "5bfa09b2",
   "metadata": {},
   "outputs": [
    {
     "data": {
      "text/plain": [
       "Dataset({\n",
       "    features: ['text', 'label'],\n",
       "    num_rows: 3257\n",
       "})"
      ]
     },
     "execution_count": 359,
     "metadata": {},
     "output_type": "execute_result"
    }
   ],
   "source": [
    "tr_data = dataset['train']\n",
    "tr_data"
   ]
  },
  {
   "cell_type": "code",
   "execution_count": 398,
   "id": "ec31c2c0",
   "metadata": {},
   "outputs": [],
   "source": [
    "import numpy as np\n",
    "token_ds = tokenizer(tr_data['text'] , return_tensors='np', padding=True)\n",
    "labels =    np.array(tr_data['label'])"
   ]
  },
  {
   "cell_type": "code",
   "execution_count": 399,
   "id": "181ebc5d",
   "metadata": {
    "scrolled": true
   },
   "outputs": [
    {
     "data": {
      "text/plain": [
       "array([[  101,  1523,  4737, ...,     0,     0,     0],\n",
       "       [  101,  2026, 18328, ...,     0,     0,     0],\n",
       "       [  101,  2053,  2021, ...,     0,     0,     0],\n",
       "       ...,\n",
       "       [  101,  1030,  5310, ...,     0,     0,     0],\n",
       "       [  101,  2017,  2031, ...,     0,     0,     0],\n",
       "       [  101,  1030,  5310, ...,     0,     0,     0]])"
      ]
     },
     "execution_count": 399,
     "metadata": {},
     "output_type": "execute_result"
    }
   ],
   "source": [
    "token_ds['input_ids']"
   ]
  },
  {
   "cell_type": "code",
   "execution_count": 400,
   "id": "38e5010f",
   "metadata": {
    "collapsed": true
   },
   "outputs": [
    {
     "ename": "ValueError",
     "evalue": "Cannot generate a hashable key for IteratorSpec(({'input_ids': TensorSpec(shape=(None, 62), dtype=tf.int32, name=None), 'token_type_ids': TensorSpec(shape=(None, 62), dtype=tf.int32, name=None), 'attention_mask': TensorSpec(shape=(None, 62), dtype=tf.int32, name=None)}, TensorSpec(shape=(None,), dtype=tf.int32, name=None)),) because the _serialize() method returned an unsupproted value of type <class 'transformers.tokenization_utils_base.BatchEncoding'>",
     "output_type": "error",
     "traceback": [
      "\u001b[1;31m---------------------------------------------------------------------------\u001b[0m",
      "\u001b[1;31mValueError\u001b[0m                                Traceback (most recent call last)",
      "Cell \u001b[1;32mIn [400], line 1\u001b[0m\n\u001b[1;32m----> 1\u001b[0m \u001b[43mmodel\u001b[49m\u001b[38;5;241;43m.\u001b[39;49m\u001b[43mfit\u001b[49m\u001b[43m(\u001b[49m\u001b[43mtoken_ds\u001b[49m\u001b[43m,\u001b[49m\u001b[43m \u001b[49m\u001b[43mlabels\u001b[49m\u001b[43m)\u001b[49m\n",
      "File \u001b[1;32mc:\\users\\hp\\appdata\\local\\programs\\python\\python39\\lib\\site-packages\\keras\\utils\\traceback_utils.py:70\u001b[0m, in \u001b[0;36mfilter_traceback.<locals>.error_handler\u001b[1;34m(*args, **kwargs)\u001b[0m\n\u001b[0;32m     67\u001b[0m     filtered_tb \u001b[38;5;241m=\u001b[39m _process_traceback_frames(e\u001b[38;5;241m.\u001b[39m__traceback__)\n\u001b[0;32m     68\u001b[0m     \u001b[38;5;66;03m# To get the full stack trace, call:\u001b[39;00m\n\u001b[0;32m     69\u001b[0m     \u001b[38;5;66;03m# `tf.debugging.disable_traceback_filtering()`\u001b[39;00m\n\u001b[1;32m---> 70\u001b[0m     \u001b[38;5;28;01mraise\u001b[39;00m e\u001b[38;5;241m.\u001b[39mwith_traceback(filtered_tb) \u001b[38;5;28;01mfrom\u001b[39;00m \u001b[38;5;28mNone\u001b[39m\n\u001b[0;32m     71\u001b[0m \u001b[38;5;28;01mfinally\u001b[39;00m:\n\u001b[0;32m     72\u001b[0m     \u001b[38;5;28;01mdel\u001b[39;00m filtered_tb\n",
      "File \u001b[1;32m~\\AppData\\Roaming\\Python\\Python39\\site-packages\\tensorflow\\core\\function\\polymorphism\\function_cache.py:175\u001b[0m, in \u001b[0;36mFunctionCacheKey.__hash__\u001b[1;34m(self)\u001b[0m\n\u001b[0;32m    174\u001b[0m \u001b[38;5;28;01mdef\u001b[39;00m \u001b[38;5;21m__hash__\u001b[39m(\u001b[38;5;28mself\u001b[39m) \u001b[38;5;241m-\u001b[39m\u001b[38;5;241m>\u001b[39m \u001b[38;5;28mint\u001b[39m:\n\u001b[1;32m--> 175\u001b[0m   \u001b[38;5;28;01mreturn\u001b[39;00m \u001b[38;5;28;43mhash\u001b[39;49m\u001b[43m(\u001b[49m\u001b[43m(\u001b[49m\u001b[38;5;28;43mself\u001b[39;49m\u001b[38;5;241;43m.\u001b[39;49m\u001b[43mcall_context\u001b[49m\u001b[43m,\u001b[49m\n\u001b[0;32m    176\u001b[0m \u001b[43m               \u001b[49m\u001b[38;5;28;43mself\u001b[39;49m\u001b[38;5;241;43m.\u001b[39;49m\u001b[43margs_signature\u001b[49m\u001b[43m,\u001b[49m\n\u001b[0;32m    177\u001b[0m \u001b[43m               \u001b[49m\u001b[38;5;28;43mself\u001b[39;49m\u001b[38;5;241;43m.\u001b[39;49m\u001b[43mcaptures_signature\u001b[49m\u001b[43m)\u001b[49m\u001b[43m)\u001b[49m\n",
      "File \u001b[1;32m~\\AppData\\Roaming\\Python\\Python39\\site-packages\\tensorflow\\core\\function\\trace_type\\default_types.py:207\u001b[0m, in \u001b[0;36mTuple.__hash__\u001b[1;34m(self)\u001b[0m\n\u001b[0;32m    206\u001b[0m \u001b[38;5;28;01mdef\u001b[39;00m \u001b[38;5;21m__hash__\u001b[39m(\u001b[38;5;28mself\u001b[39m) \u001b[38;5;241m-\u001b[39m\u001b[38;5;241m>\u001b[39m \u001b[38;5;28mint\u001b[39m:\n\u001b[1;32m--> 207\u001b[0m   \u001b[38;5;28;01mreturn\u001b[39;00m \u001b[38;5;28;43mhash\u001b[39;49m\u001b[43m(\u001b[49m\u001b[38;5;28;43mself\u001b[39;49m\u001b[38;5;241;43m.\u001b[39;49m\u001b[43mcomponents\u001b[49m\u001b[43m)\u001b[49m\n",
      "File \u001b[1;32m~\\AppData\\Roaming\\Python\\Python39\\site-packages\\tensorflow\\core\\function\\trace_type\\default_types.py:207\u001b[0m, in \u001b[0;36mTuple.__hash__\u001b[1;34m(self)\u001b[0m\n\u001b[0;32m    206\u001b[0m \u001b[38;5;28;01mdef\u001b[39;00m \u001b[38;5;21m__hash__\u001b[39m(\u001b[38;5;28mself\u001b[39m) \u001b[38;5;241m-\u001b[39m\u001b[38;5;241m>\u001b[39m \u001b[38;5;28mint\u001b[39m:\n\u001b[1;32m--> 207\u001b[0m   \u001b[38;5;28;01mreturn\u001b[39;00m \u001b[38;5;28;43mhash\u001b[39;49m\u001b[43m(\u001b[49m\u001b[38;5;28;43mself\u001b[39;49m\u001b[38;5;241;43m.\u001b[39;49m\u001b[43mcomponents\u001b[49m\u001b[43m)\u001b[49m\n",
      "File \u001b[1;32m~\\AppData\\Roaming\\Python\\Python39\\site-packages\\tensorflow\\core\\function\\trace_type\\default_types.py:601\u001b[0m, in \u001b[0;36mReference.__hash__\u001b[1;34m(self)\u001b[0m\n\u001b[0;32m    600\u001b[0m \u001b[38;5;28;01mdef\u001b[39;00m \u001b[38;5;21m__hash__\u001b[39m(\u001b[38;5;28mself\u001b[39m) \u001b[38;5;241m-\u001b[39m\u001b[38;5;241m>\u001b[39m \u001b[38;5;28mint\u001b[39m:\n\u001b[1;32m--> 601\u001b[0m   \u001b[38;5;28;01mreturn\u001b[39;00m \u001b[38;5;28;43mhash\u001b[39;49m\u001b[43m(\u001b[49m\u001b[43m(\u001b[49m\u001b[38;5;28;43mself\u001b[39;49m\u001b[38;5;241;43m.\u001b[39;49m\u001b[43midentifier\u001b[49m\u001b[43m,\u001b[49m\u001b[43m \u001b[49m\u001b[38;5;28;43mself\u001b[39;49m\u001b[38;5;241;43m.\u001b[39;49m\u001b[43mbase\u001b[49m\u001b[43m)\u001b[49m\u001b[43m)\u001b[49m\n",
      "\u001b[1;31mValueError\u001b[0m: Cannot generate a hashable key for IteratorSpec(({'input_ids': TensorSpec(shape=(None, 62), dtype=tf.int32, name=None), 'token_type_ids': TensorSpec(shape=(None, 62), dtype=tf.int32, name=None), 'attention_mask': TensorSpec(shape=(None, 62), dtype=tf.int32, name=None)}, TensorSpec(shape=(None,), dtype=tf.int32, name=None)),) because the _serialize() method returned an unsupproted value of type <class 'transformers.tokenization_utils_base.BatchEncoding'>"
     ]
    }
   ],
   "source": [
    "model.fit(token_ds, labels)"
   ]
  },
  {
   "cell_type": "code",
   "execution_count": 394,
   "id": "574fee9c",
   "metadata": {
    "scrolled": true
   },
   "outputs": [],
   "source": [
    "# d = load_dataset(\"glue\", \"cola\")\n",
    "# d = dataset[\"train\"]\n",
    "# d"
   ]
  },
  {
   "cell_type": "code",
   "execution_count": 4,
   "id": "52c56941",
   "metadata": {},
   "outputs": [],
   "source": [
    "import warnings\n",
    "warnings.filterwarnings('ignore')"
   ]
  },
  {
   "cell_type": "code",
   "execution_count": 4,
   "id": "0035647b",
   "metadata": {
    "scrolled": true
   },
   "outputs": [
    {
     "data": {
      "text/plain": [
       "DatasetDict({\n",
       "    train: Dataset({\n",
       "        features: ['text', 'label'],\n",
       "        num_rows: 3257\n",
       "    })\n",
       "    test: Dataset({\n",
       "        features: ['text', 'label'],\n",
       "        num_rows: 1421\n",
       "    })\n",
       "    validation: Dataset({\n",
       "        features: ['text', 'label'],\n",
       "        num_rows: 374\n",
       "    })\n",
       "})"
      ]
     },
     "execution_count": 4,
     "metadata": {},
     "output_type": "execute_result"
    }
   ],
   "source": [
    "dataset"
   ]
  },
  {
   "cell_type": "code",
   "execution_count": 7,
   "id": "16a1cad0",
   "metadata": {
    "scrolled": false
   },
   "outputs": [],
   "source": [
    "# print(model)"
   ]
  },
  {
   "cell_type": "code",
   "execution_count": 4,
   "id": "360b3bc9",
   "metadata": {},
   "outputs": [
    {
     "data": {
      "text/plain": [
       "DatasetDict({\n",
       "    train: Dataset({\n",
       "        features: ['text', 'label'],\n",
       "        num_rows: 3257\n",
       "    })\n",
       "    test: Dataset({\n",
       "        features: ['text', 'label'],\n",
       "        num_rows: 1421\n",
       "    })\n",
       "    validation: Dataset({\n",
       "        features: ['text', 'label'],\n",
       "        num_rows: 374\n",
       "    })\n",
       "})"
      ]
     },
     "execution_count": 4,
     "metadata": {},
     "output_type": "execute_result"
    }
   ],
   "source": [
    "dataset"
   ]
  },
  {
   "cell_type": "code",
   "execution_count": 5,
   "id": "8ba8b601",
   "metadata": {},
   "outputs": [],
   "source": [
    "tr_df = dataset['train'].to_pandas()\n",
    "ts_df = dataset['test'].to_pandas()\n",
    "vl_df = dataset['validation'].to_pandas()"
   ]
  },
  {
   "cell_type": "code",
   "execution_count": 6,
   "id": "dbb22abe",
   "metadata": {
    "scrolled": true
   },
   "outputs": [
    {
     "data": {
      "text/html": [
       "<div>\n",
       "<style scoped>\n",
       "    .dataframe tbody tr th:only-of-type {\n",
       "        vertical-align: middle;\n",
       "    }\n",
       "\n",
       "    .dataframe tbody tr th {\n",
       "        vertical-align: top;\n",
       "    }\n",
       "\n",
       "    .dataframe thead th {\n",
       "        text-align: right;\n",
       "    }\n",
       "</style>\n",
       "<table border=\"1\" class=\"dataframe\">\n",
       "  <thead>\n",
       "    <tr style=\"text-align: right;\">\n",
       "      <th></th>\n",
       "      <th>text</th>\n",
       "      <th>label</th>\n",
       "    </tr>\n",
       "  </thead>\n",
       "  <tbody>\n",
       "    <tr>\n",
       "      <th>0</th>\n",
       "      <td>“Worry is a down payment on a problem you may ...</td>\n",
       "      <td>2</td>\n",
       "    </tr>\n",
       "    <tr>\n",
       "      <th>1</th>\n",
       "      <td>My roommate: it's okay that we can't spell bec...</td>\n",
       "      <td>0</td>\n",
       "    </tr>\n",
       "    <tr>\n",
       "      <th>2</th>\n",
       "      <td>No but that's so cute. Atsu was probably shy a...</td>\n",
       "      <td>1</td>\n",
       "    </tr>\n",
       "    <tr>\n",
       "      <th>3</th>\n",
       "      <td>Rooneys fucking untouchable isn't he? Been fuc...</td>\n",
       "      <td>0</td>\n",
       "    </tr>\n",
       "    <tr>\n",
       "      <th>4</th>\n",
       "      <td>it's pretty depressing when u hit pan on ur fa...</td>\n",
       "      <td>3</td>\n",
       "    </tr>\n",
       "    <tr>\n",
       "      <th>...</th>\n",
       "      <td>...</td>\n",
       "      <td>...</td>\n",
       "    </tr>\n",
       "    <tr>\n",
       "      <th>3252</th>\n",
       "      <td>I get discouraged because I try for 5 fucking ...</td>\n",
       "      <td>3</td>\n",
       "    </tr>\n",
       "    <tr>\n",
       "      <th>3253</th>\n",
       "      <td>The @user are in contention and hosting @user ...</td>\n",
       "      <td>3</td>\n",
       "    </tr>\n",
       "    <tr>\n",
       "      <th>3254</th>\n",
       "      <td>@user @user @user @user @user as a fellow UP g...</td>\n",
       "      <td>0</td>\n",
       "    </tr>\n",
       "    <tr>\n",
       "      <th>3255</th>\n",
       "      <td>You have a #problem? Yes! Can you do #somethin...</td>\n",
       "      <td>0</td>\n",
       "    </tr>\n",
       "    <tr>\n",
       "      <th>3256</th>\n",
       "      <td>@user @user i will fight this guy! Don't insul...</td>\n",
       "      <td>0</td>\n",
       "    </tr>\n",
       "  </tbody>\n",
       "</table>\n",
       "<p>3257 rows × 2 columns</p>\n",
       "</div>"
      ],
      "text/plain": [
       "                                                   text  label\n",
       "0     “Worry is a down payment on a problem you may ...      2\n",
       "1     My roommate: it's okay that we can't spell bec...      0\n",
       "2     No but that's so cute. Atsu was probably shy a...      1\n",
       "3     Rooneys fucking untouchable isn't he? Been fuc...      0\n",
       "4     it's pretty depressing when u hit pan on ur fa...      3\n",
       "...                                                 ...    ...\n",
       "3252  I get discouraged because I try for 5 fucking ...      3\n",
       "3253  The @user are in contention and hosting @user ...      3\n",
       "3254  @user @user @user @user @user as a fellow UP g...      0\n",
       "3255  You have a #problem? Yes! Can you do #somethin...      0\n",
       "3256  @user @user i will fight this guy! Don't insul...      0\n",
       "\n",
       "[3257 rows x 2 columns]"
      ]
     },
     "execution_count": 6,
     "metadata": {},
     "output_type": "execute_result"
    }
   ],
   "source": [
    "tr_df"
   ]
  },
  {
   "cell_type": "code",
   "execution_count": 7,
   "id": "25e4294d",
   "metadata": {},
   "outputs": [],
   "source": [
    "import pandas as pd \n",
    "data_full = pd.concat([tr_df, ts_df, vl_df], axis=0)"
   ]
  },
  {
   "cell_type": "code",
   "execution_count": 8,
   "id": "63140b44",
   "metadata": {
    "scrolled": true
   },
   "outputs": [
    {
     "data": {
      "text/html": [
       "<div>\n",
       "<style scoped>\n",
       "    .dataframe tbody tr th:only-of-type {\n",
       "        vertical-align: middle;\n",
       "    }\n",
       "\n",
       "    .dataframe tbody tr th {\n",
       "        vertical-align: top;\n",
       "    }\n",
       "\n",
       "    .dataframe thead th {\n",
       "        text-align: right;\n",
       "    }\n",
       "</style>\n",
       "<table border=\"1\" class=\"dataframe\">\n",
       "  <thead>\n",
       "    <tr style=\"text-align: right;\">\n",
       "      <th></th>\n",
       "      <th>text</th>\n",
       "      <th>label</th>\n",
       "    </tr>\n",
       "  </thead>\n",
       "  <tbody>\n",
       "    <tr>\n",
       "      <th>0</th>\n",
       "      <td>“Worry is a down payment on a problem you may ...</td>\n",
       "      <td>2</td>\n",
       "    </tr>\n",
       "    <tr>\n",
       "      <th>1</th>\n",
       "      <td>My roommate: it's okay that we can't spell bec...</td>\n",
       "      <td>0</td>\n",
       "    </tr>\n",
       "    <tr>\n",
       "      <th>2</th>\n",
       "      <td>No but that's so cute. Atsu was probably shy a...</td>\n",
       "      <td>1</td>\n",
       "    </tr>\n",
       "    <tr>\n",
       "      <th>3</th>\n",
       "      <td>Rooneys fucking untouchable isn't he? Been fuc...</td>\n",
       "      <td>0</td>\n",
       "    </tr>\n",
       "    <tr>\n",
       "      <th>4</th>\n",
       "      <td>it's pretty depressing when u hit pan on ur fa...</td>\n",
       "      <td>3</td>\n",
       "    </tr>\n",
       "    <tr>\n",
       "      <th>...</th>\n",
       "      <td>...</td>\n",
       "      <td>...</td>\n",
       "    </tr>\n",
       "    <tr>\n",
       "      <th>369</th>\n",
       "      <td>@user @user If #trump #whitehouse aren't held ...</td>\n",
       "      <td>0</td>\n",
       "    </tr>\n",
       "    <tr>\n",
       "      <th>370</th>\n",
       "      <td>@user Which #chutiya #producer #invested in #c...</td>\n",
       "      <td>0</td>\n",
       "    </tr>\n",
       "    <tr>\n",
       "      <th>371</th>\n",
       "      <td>Russia story will infuriate Trump today. Media...</td>\n",
       "      <td>0</td>\n",
       "    </tr>\n",
       "    <tr>\n",
       "      <th>372</th>\n",
       "      <td>Shit getting me irritated 😠</td>\n",
       "      <td>0</td>\n",
       "    </tr>\n",
       "    <tr>\n",
       "      <th>373</th>\n",
       "      <td>@user @user If this didn't make me so angry, I...</td>\n",
       "      <td>0</td>\n",
       "    </tr>\n",
       "  </tbody>\n",
       "</table>\n",
       "<p>5052 rows × 2 columns</p>\n",
       "</div>"
      ],
      "text/plain": [
       "                                                  text  label\n",
       "0    “Worry is a down payment on a problem you may ...      2\n",
       "1    My roommate: it's okay that we can't spell bec...      0\n",
       "2    No but that's so cute. Atsu was probably shy a...      1\n",
       "3    Rooneys fucking untouchable isn't he? Been fuc...      0\n",
       "4    it's pretty depressing when u hit pan on ur fa...      3\n",
       "..                                                 ...    ...\n",
       "369  @user @user If #trump #whitehouse aren't held ...      0\n",
       "370  @user Which #chutiya #producer #invested in #c...      0\n",
       "371  Russia story will infuriate Trump today. Media...      0\n",
       "372                        Shit getting me irritated 😠      0\n",
       "373  @user @user If this didn't make me so angry, I...      0\n",
       "\n",
       "[5052 rows x 2 columns]"
      ]
     },
     "execution_count": 8,
     "metadata": {},
     "output_type": "execute_result"
    }
   ],
   "source": [
    "data_full"
   ]
  },
  {
   "cell_type": "code",
   "execution_count": 9,
   "id": "57d6b105",
   "metadata": {},
   "outputs": [
    {
     "name": "stdout",
     "output_type": "stream",
     "text": [
      "Requirement already satisfied: text_hammer in c:\\users\\hp\\appdata\\local\\programs\\python\\python39\\lib\\site-packages (0.1.5)\n",
      "Requirement already satisfied: beautifulsoup4==4.9.1 in c:\\users\\hp\\appdata\\local\\programs\\python\\python39\\lib\\site-packages (from text_hammer) (4.9.1)\n",
      "Requirement already satisfied: spacy in c:\\users\\hp\\appdata\\local\\programs\\python\\python39\\lib\\site-packages (from text_hammer) (3.4.4)\n",
      "Requirement already satisfied: numpy in c:\\users\\hp\\appdata\\local\\programs\\python\\python39\\lib\\site-packages (from text_hammer) (1.23.4)\n",
      "Requirement already satisfied: pandas in c:\\users\\hp\\appdata\\local\\programs\\python\\python39\\lib\\site-packages (from text_hammer) (1.5.1)\n",
      "Requirement already satisfied: TextBlob in c:\\users\\hp\\appdata\\local\\programs\\python\\python39\\lib\\site-packages (from text_hammer) (0.17.1)\n",
      "Requirement already satisfied: soupsieve>1.2 in c:\\users\\hp\\appdata\\local\\programs\\python\\python39\\lib\\site-packages (from beautifulsoup4==4.9.1->text_hammer) (2.3.2.post1)\n",
      "Requirement already satisfied: pytz>=2020.1 in c:\\users\\hp\\appdata\\local\\programs\\python\\python39\\lib\\site-packages (from pandas->text_hammer) (2022.6)\n",
      "Requirement already satisfied: python-dateutil>=2.8.1 in c:\\users\\hp\\appdata\\local\\programs\\python\\python39\\lib\\site-packages (from pandas->text_hammer) (2.8.2)\n",
      "Requirement already satisfied: packaging>=20.0 in c:\\users\\hp\\appdata\\local\\programs\\python\\python39\\lib\\site-packages (from spacy->text_hammer) (21.3)\n",
      "Requirement already satisfied: thinc<8.2.0,>=8.1.0 in c:\\users\\hp\\appdata\\local\\programs\\python\\python39\\lib\\site-packages (from spacy->text_hammer) (8.1.6)\n",
      "Requirement already satisfied: catalogue<2.1.0,>=2.0.6 in c:\\users\\hp\\appdata\\local\\programs\\python\\python39\\lib\\site-packages (from spacy->text_hammer) (2.0.8)\n",
      "Requirement already satisfied: typer<0.8.0,>=0.3.0 in c:\\users\\hp\\appdata\\local\\programs\\python\\python39\\lib\\site-packages (from spacy->text_hammer) (0.7.0)\n",
      "Requirement already satisfied: requests<3.0.0,>=2.13.0 in c:\\users\\hp\\appdata\\local\\programs\\python\\python39\\lib\\site-packages (from spacy->text_hammer) (2.28.1)\n",
      "Requirement already satisfied: pydantic!=1.8,!=1.8.1,<1.11.0,>=1.7.4 in c:\\users\\hp\\appdata\\local\\programs\\python\\python39\\lib\\site-packages (from spacy->text_hammer) (1.10.2)\n",
      "Requirement already satisfied: murmurhash<1.1.0,>=0.28.0 in c:\\users\\hp\\appdata\\local\\programs\\python\\python39\\lib\\site-packages (from spacy->text_hammer) (1.0.9)\n",
      "Requirement already satisfied: smart-open<7.0.0,>=5.2.1 in c:\\users\\hp\\appdata\\local\\programs\\python\\python39\\lib\\site-packages (from spacy->text_hammer) (6.3.0)\n",
      "Requirement already satisfied: srsly<3.0.0,>=2.4.3 in c:\\users\\hp\\appdata\\local\\programs\\python\\python39\\lib\\site-packages (from spacy->text_hammer) (2.4.5)\n",
      "Requirement already satisfied: setuptools in c:\\users\\hp\\appdata\\local\\programs\\python\\python39\\lib\\site-packages (from spacy->text_hammer) (59.5.0)\n",
      "Requirement already satisfied: tqdm<5.0.0,>=4.38.0 in c:\\users\\hp\\appdata\\local\\programs\\python\\python39\\lib\\site-packages (from spacy->text_hammer) (4.64.1)\n",
      "Requirement already satisfied: spacy-loggers<2.0.0,>=1.0.0 in c:\\users\\hp\\appdata\\local\\programs\\python\\python39\\lib\\site-packages (from spacy->text_hammer) (1.0.4)\n",
      "Requirement already satisfied: langcodes<4.0.0,>=3.2.0 in c:\\users\\hp\\appdata\\local\\programs\\python\\python39\\lib\\site-packages (from spacy->text_hammer) (3.3.0)\n",
      "Requirement already satisfied: pathy>=0.3.5 in c:\\users\\hp\\appdata\\local\\programs\\python\\python39\\lib\\site-packages (from spacy->text_hammer) (0.10.1)\n",
      "Requirement already satisfied: spacy-legacy<3.1.0,>=3.0.10 in c:\\users\\hp\\appdata\\local\\programs\\python\\python39\\lib\\site-packages (from spacy->text_hammer) (3.0.10)\n",
      "Requirement already satisfied: jinja2 in c:\\users\\hp\\appdata\\local\\programs\\python\\python39\\lib\\site-packages (from spacy->text_hammer) (3.1.2)\n",
      "Requirement already satisfied: cymem<2.1.0,>=2.0.2 in c:\\users\\hp\\appdata\\local\\programs\\python\\python39\\lib\\site-packages (from spacy->text_hammer) (2.0.7)\n",
      "Requirement already satisfied: wasabi<1.1.0,>=0.9.1 in c:\\users\\hp\\appdata\\local\\programs\\python\\python39\\lib\\site-packages (from spacy->text_hammer) (0.10.1)\n",
      "Requirement already satisfied: preshed<3.1.0,>=3.0.2 in c:\\users\\hp\\appdata\\local\\programs\\python\\python39\\lib\\site-packages (from spacy->text_hammer) (3.0.8)\n",
      "Requirement already satisfied: nltk>=3.1 in c:\\users\\hp\\appdata\\local\\programs\\python\\python39\\lib\\site-packages (from TextBlob->text_hammer) (3.7)\n",
      "Requirement already satisfied: joblib in c:\\users\\hp\\appdata\\local\\programs\\python\\python39\\lib\\site-packages (from nltk>=3.1->TextBlob->text_hammer) (1.2.0)\n",
      "Requirement already satisfied: click in c:\\users\\hp\\appdata\\local\\programs\\python\\python39\\lib\\site-packages (from nltk>=3.1->TextBlob->text_hammer) (8.1.3)\n",
      "Requirement already satisfied: regex>=2021.8.3 in c:\\users\\hp\\appdata\\local\\programs\\python\\python39\\lib\\site-packages (from nltk>=3.1->TextBlob->text_hammer) (2022.10.31)\n",
      "Requirement already satisfied: pyparsing!=3.0.5,>=2.0.2 in c:\\users\\hp\\appdata\\local\\programs\\python\\python39\\lib\\site-packages (from packaging>=20.0->spacy->text_hammer) (3.0.9)\n",
      "Requirement already satisfied: typing-extensions>=4.1.0 in c:\\users\\hp\\appdata\\local\\programs\\python\\python39\\lib\\site-packages (from pydantic!=1.8,!=1.8.1,<1.11.0,>=1.7.4->spacy->text_hammer) (4.4.0)\n",
      "Requirement already satisfied: six>=1.5 in c:\\users\\hp\\appdata\\local\\programs\\python\\python39\\lib\\site-packages (from python-dateutil>=2.8.1->pandas->text_hammer) (1.16.0)\n",
      "Requirement already satisfied: charset-normalizer<3,>=2 in c:\\users\\hp\\appdata\\local\\programs\\python\\python39\\lib\\site-packages (from requests<3.0.0,>=2.13.0->spacy->text_hammer) (2.1.1)\n",
      "Requirement already satisfied: idna<4,>=2.5 in c:\\users\\hp\\appdata\\local\\programs\\python\\python39\\lib\\site-packages (from requests<3.0.0,>=2.13.0->spacy->text_hammer) (3.4)\n",
      "Requirement already satisfied: certifi>=2017.4.17 in c:\\users\\hp\\appdata\\local\\programs\\python\\python39\\lib\\site-packages (from requests<3.0.0,>=2.13.0->spacy->text_hammer) (2022.9.24)\n",
      "Requirement already satisfied: urllib3<1.27,>=1.21.1 in c:\\users\\hp\\appdata\\local\\programs\\python\\python39\\lib\\site-packages (from requests<3.0.0,>=2.13.0->spacy->text_hammer) (1.26.12)\n",
      "Requirement already satisfied: blis<0.8.0,>=0.7.8 in c:\\users\\hp\\appdata\\local\\programs\\python\\python39\\lib\\site-packages (from thinc<8.2.0,>=8.1.0->spacy->text_hammer) (0.7.9)\n",
      "Requirement already satisfied: confection<1.0.0,>=0.0.1 in c:\\users\\hp\\appdata\\local\\programs\\python\\python39\\lib\\site-packages (from thinc<8.2.0,>=8.1.0->spacy->text_hammer) (0.0.3)\n",
      "Requirement already satisfied: colorama in c:\\users\\hp\\appdata\\local\\programs\\python\\python39\\lib\\site-packages (from tqdm<5.0.0,>=4.38.0->spacy->text_hammer) (0.3.9)\n",
      "Requirement already satisfied: MarkupSafe>=2.0 in c:\\users\\hp\\appdata\\local\\programs\\python\\python39\\lib\\site-packages (from jinja2->spacy->text_hammer) (2.1.1)\n",
      "Note: you may need to restart the kernel to use updated packages.\n"
     ]
    }
   ],
   "source": [
    "pip install text_hammer"
   ]
  },
  {
   "cell_type": "code",
   "execution_count": 10,
   "id": "48f81fec",
   "metadata": {
    "scrolled": false
   },
   "outputs": [
    {
     "data": {
      "application/vnd.jupyter.widget-view+json": {
       "model_id": "9bc3413acfc64957ae5a0003f146e163",
       "version_major": 2,
       "version_minor": 0
      },
      "text/plain": [
       "  0%|          | 0/5052 [00:00<?, ?it/s]"
      ]
     },
     "metadata": {},
     "output_type": "display_data"
    },
    {
     "data": {
      "application/vnd.jupyter.widget-view+json": {
       "model_id": "4716efd43edb40a19da854e71d091399",
       "version_major": 2,
       "version_minor": 0
      },
      "text/plain": [
       "  0%|          | 0/5052 [00:00<?, ?it/s]"
      ]
     },
     "metadata": {},
     "output_type": "display_data"
    },
    {
     "data": {
      "application/vnd.jupyter.widget-view+json": {
       "model_id": "3d764ccb94ac40e783461fd3e4581312",
       "version_major": 2,
       "version_minor": 0
      },
      "text/plain": [
       "  0%|          | 0/5052 [00:00<?, ?it/s]"
      ]
     },
     "metadata": {},
     "output_type": "display_data"
    },
    {
     "data": {
      "application/vnd.jupyter.widget-view+json": {
       "model_id": "47a8012ae8c64905b478b30b9575d73d",
       "version_major": 2,
       "version_minor": 0
      },
      "text/plain": [
       "  0%|          | 0/5052 [00:00<?, ?it/s]"
      ]
     },
     "metadata": {},
     "output_type": "display_data"
    },
    {
     "data": {
      "application/vnd.jupyter.widget-view+json": {
       "model_id": "5a2b9c6c7cb64c6480362518f3c4c5d3",
       "version_major": 2,
       "version_minor": 0
      },
      "text/plain": [
       "  0%|          | 0/5052 [00:00<?, ?it/s]"
      ]
     },
     "metadata": {},
     "output_type": "display_data"
    },
    {
     "data": {
      "application/vnd.jupyter.widget-view+json": {
       "model_id": "182d73e29e1e4c5f9d009b1d1a05b190",
       "version_major": 2,
       "version_minor": 0
      },
      "text/plain": [
       "  0%|          | 0/5052 [00:00<?, ?it/s]"
      ]
     },
     "metadata": {},
     "output_type": "display_data"
    },
    {
     "data": {
      "text/html": [
       "<div>\n",
       "<style scoped>\n",
       "    .dataframe tbody tr th:only-of-type {\n",
       "        vertical-align: middle;\n",
       "    }\n",
       "\n",
       "    .dataframe tbody tr th {\n",
       "        vertical-align: top;\n",
       "    }\n",
       "\n",
       "    .dataframe thead th {\n",
       "        text-align: right;\n",
       "    }\n",
       "</style>\n",
       "<table border=\"1\" class=\"dataframe\">\n",
       "  <thead>\n",
       "    <tr style=\"text-align: right;\">\n",
       "      <th></th>\n",
       "      <th>text</th>\n",
       "      <th>label</th>\n",
       "    </tr>\n",
       "  </thead>\n",
       "  <tbody>\n",
       "    <tr>\n",
       "      <th>0</th>\n",
       "      <td>worry is a down payment on a problem you may n...</td>\n",
       "      <td>2</td>\n",
       "    </tr>\n",
       "    <tr>\n",
       "      <th>1</th>\n",
       "      <td>my roommate it is okay that we cannot spell be...</td>\n",
       "      <td>0</td>\n",
       "    </tr>\n",
       "    <tr>\n",
       "      <th>2</th>\n",
       "      <td>no but that is so cute atsu was probably shy a...</td>\n",
       "      <td>1</td>\n",
       "    </tr>\n",
       "    <tr>\n",
       "      <th>3</th>\n",
       "      <td>rooneys fucking untouchable is not he been fuc...</td>\n",
       "      <td>0</td>\n",
       "    </tr>\n",
       "    <tr>\n",
       "      <th>4</th>\n",
       "      <td>it is pretty depressing when you hit pan on yo...</td>\n",
       "      <td>3</td>\n",
       "    </tr>\n",
       "    <tr>\n",
       "      <th>...</th>\n",
       "      <td>...</td>\n",
       "      <td>...</td>\n",
       "    </tr>\n",
       "    <tr>\n",
       "      <th>369</th>\n",
       "      <td>user user if trump whitehouse are not held acc...</td>\n",
       "      <td>0</td>\n",
       "    </tr>\n",
       "    <tr>\n",
       "      <th>370</th>\n",
       "      <td>user which chutiya producer invested in crap d...</td>\n",
       "      <td>0</td>\n",
       "    </tr>\n",
       "    <tr>\n",
       "      <th>371</th>\n",
       "      <td>russia story will infuriate trump today media ...</td>\n",
       "      <td>0</td>\n",
       "    </tr>\n",
       "    <tr>\n",
       "      <th>372</th>\n",
       "      <td>shit getting me irritated</td>\n",
       "      <td>0</td>\n",
       "    </tr>\n",
       "    <tr>\n",
       "      <th>373</th>\n",
       "      <td>user user if this did not make me so angry i w...</td>\n",
       "      <td>0</td>\n",
       "    </tr>\n",
       "  </tbody>\n",
       "</table>\n",
       "<p>5052 rows × 2 columns</p>\n",
       "</div>"
      ],
      "text/plain": [
       "                                                  text  label\n",
       "0    worry is a down payment on a problem you may n...      2\n",
       "1    my roommate it is okay that we cannot spell be...      0\n",
       "2    no but that is so cute atsu was probably shy a...      1\n",
       "3    rooneys fucking untouchable is not he been fuc...      0\n",
       "4    it is pretty depressing when you hit pan on yo...      3\n",
       "..                                                 ...    ...\n",
       "369  user user if trump whitehouse are not held acc...      0\n",
       "370  user which chutiya producer invested in crap d...      0\n",
       "371  russia story will infuriate trump today media ...      0\n",
       "372                          shit getting me irritated      0\n",
       "373  user user if this did not make me so angry i w...      0\n",
       "\n",
       "[5052 rows x 2 columns]"
      ]
     },
     "execution_count": 10,
     "metadata": {},
     "output_type": "execute_result"
    }
   ],
   "source": [
    "import text_hammer as th\n",
    "from tqdm import tqdm_notebook\n",
    "\n",
    "def text_preprocessing(df, col_name): \n",
    "    column = col_name\n",
    "    df[column] = df[column].progress_apply(lambda x:str(x).lower())\n",
    "    df[column] = df[column].progress_apply(lambda x:th.cont_exp(x))\n",
    "    df[column] = df[column].progress_apply(lambda x:th.remove_emails(x))\n",
    "    df[column] = df[column].progress_apply(lambda x:th.remove_html_tags(x))\n",
    "    df[column] = df[column].progress_apply(lambda x:th.remove_special_chars(x))\n",
    "    df[column] = df[column].progress_apply(lambda x:th.remove_accented_chars(x))\n",
    "    \n",
    "    return df\n",
    "\n",
    "text_preprocessing(data_full, 'text')"
   ]
  },
  {
   "cell_type": "code",
   "execution_count": 16,
   "id": "be3da03c",
   "metadata": {
    "scrolled": true
   },
   "outputs": [
    {
     "data": {
      "text/html": [
       "<div>\n",
       "<style scoped>\n",
       "    .dataframe tbody tr th:only-of-type {\n",
       "        vertical-align: middle;\n",
       "    }\n",
       "\n",
       "    .dataframe tbody tr th {\n",
       "        vertical-align: top;\n",
       "    }\n",
       "\n",
       "    .dataframe thead th {\n",
       "        text-align: right;\n",
       "    }\n",
       "</style>\n",
       "<table border=\"1\" class=\"dataframe\">\n",
       "  <thead>\n",
       "    <tr style=\"text-align: right;\">\n",
       "      <th></th>\n",
       "      <th>text</th>\n",
       "      <th>label</th>\n",
       "    </tr>\n",
       "  </thead>\n",
       "  <tbody>\n",
       "    <tr>\n",
       "      <th>0</th>\n",
       "      <td>worry is a down payment on a problem you may n...</td>\n",
       "      <td>2</td>\n",
       "    </tr>\n",
       "    <tr>\n",
       "      <th>1</th>\n",
       "      <td>my roommate it is okay that we cannot spell be...</td>\n",
       "      <td>0</td>\n",
       "    </tr>\n",
       "    <tr>\n",
       "      <th>2</th>\n",
       "      <td>no but that is so cute atsu was probably shy a...</td>\n",
       "      <td>1</td>\n",
       "    </tr>\n",
       "    <tr>\n",
       "      <th>3</th>\n",
       "      <td>rooneys fucking untouchable is not he been fuc...</td>\n",
       "      <td>0</td>\n",
       "    </tr>\n",
       "    <tr>\n",
       "      <th>4</th>\n",
       "      <td>it is pretty depressing when you hit pan on yo...</td>\n",
       "      <td>3</td>\n",
       "    </tr>\n",
       "    <tr>\n",
       "      <th>...</th>\n",
       "      <td>...</td>\n",
       "      <td>...</td>\n",
       "    </tr>\n",
       "    <tr>\n",
       "      <th>369</th>\n",
       "      <td>user user if trump whitehouse are not held acc...</td>\n",
       "      <td>0</td>\n",
       "    </tr>\n",
       "    <tr>\n",
       "      <th>370</th>\n",
       "      <td>user which chutiya producer invested in crap d...</td>\n",
       "      <td>0</td>\n",
       "    </tr>\n",
       "    <tr>\n",
       "      <th>371</th>\n",
       "      <td>russia story will infuriate trump today media ...</td>\n",
       "      <td>0</td>\n",
       "    </tr>\n",
       "    <tr>\n",
       "      <th>372</th>\n",
       "      <td>shit getting me irritated</td>\n",
       "      <td>0</td>\n",
       "    </tr>\n",
       "    <tr>\n",
       "      <th>373</th>\n",
       "      <td>user user if this did not make me so angry i w...</td>\n",
       "      <td>0</td>\n",
       "    </tr>\n",
       "  </tbody>\n",
       "</table>\n",
       "<p>5052 rows × 2 columns</p>\n",
       "</div>"
      ],
      "text/plain": [
       "                                                  text  label\n",
       "0    worry is a down payment on a problem you may n...      2\n",
       "1    my roommate it is okay that we cannot spell be...      0\n",
       "2    no but that is so cute atsu was probably shy a...      1\n",
       "3    rooneys fucking untouchable is not he been fuc...      0\n",
       "4    it is pretty depressing when you hit pan on yo...      3\n",
       "..                                                 ...    ...\n",
       "369  user user if trump whitehouse are not held acc...      0\n",
       "370  user which chutiya producer invested in crap d...      0\n",
       "371  russia story will infuriate trump today media ...      0\n",
       "372                          shit getting me irritated      0\n",
       "373  user user if this did not make me so angry i w...      0\n",
       "\n",
       "[5052 rows x 2 columns]"
      ]
     },
     "execution_count": 16,
     "metadata": {},
     "output_type": "execute_result"
    }
   ],
   "source": [
    "data_full"
   ]
  },
  {
   "cell_type": "code",
   "execution_count": 17,
   "id": "ecf34dec",
   "metadata": {},
   "outputs": [],
   "source": [
    "df_cleaned = data_full.copy()"
   ]
  },
  {
   "cell_type": "code",
   "execution_count": 18,
   "id": "e039b1b4",
   "metadata": {
    "scrolled": true
   },
   "outputs": [
    {
     "data": {
      "application/vnd.jupyter.widget-view+json": {
       "model_id": "246b330fbedd4c0886b21de1cb527db4",
       "version_major": 2,
       "version_minor": 0
      },
      "text/plain": [
       "  0%|          | 0/5052 [00:00<?, ?it/s]"
      ]
     },
     "metadata": {},
     "output_type": "display_data"
    }
   ],
   "source": [
    "df_cleaned['num_words'] = df_cleaned['text'].progress_apply(lambda x:len(x.split()))"
   ]
  },
  {
   "cell_type": "code",
   "execution_count": 19,
   "id": "2608c756",
   "metadata": {},
   "outputs": [
    {
     "data": {
      "text/html": [
       "<div>\n",
       "<style scoped>\n",
       "    .dataframe tbody tr th:only-of-type {\n",
       "        vertical-align: middle;\n",
       "    }\n",
       "\n",
       "    .dataframe tbody tr th {\n",
       "        vertical-align: top;\n",
       "    }\n",
       "\n",
       "    .dataframe thead th {\n",
       "        text-align: right;\n",
       "    }\n",
       "</style>\n",
       "<table border=\"1\" class=\"dataframe\">\n",
       "  <thead>\n",
       "    <tr style=\"text-align: right;\">\n",
       "      <th></th>\n",
       "      <th>text</th>\n",
       "      <th>label</th>\n",
       "      <th>num_words</th>\n",
       "    </tr>\n",
       "  </thead>\n",
       "  <tbody>\n",
       "    <tr>\n",
       "      <th>0</th>\n",
       "      <td>worry is a down payment on a problem you may n...</td>\n",
       "      <td>2</td>\n",
       "      <td>17</td>\n",
       "    </tr>\n",
       "    <tr>\n",
       "      <th>1</th>\n",
       "      <td>my roommate it is okay that we cannot spell be...</td>\n",
       "      <td>0</td>\n",
       "      <td>15</td>\n",
       "    </tr>\n",
       "    <tr>\n",
       "      <th>2</th>\n",
       "      <td>no but that is so cute atsu was probably shy a...</td>\n",
       "      <td>1</td>\n",
       "      <td>19</td>\n",
       "    </tr>\n",
       "    <tr>\n",
       "      <th>3</th>\n",
       "      <td>rooneys fucking untouchable is not he been fuc...</td>\n",
       "      <td>0</td>\n",
       "      <td>14</td>\n",
       "    </tr>\n",
       "    <tr>\n",
       "      <th>4</th>\n",
       "      <td>it is pretty depressing when you hit pan on yo...</td>\n",
       "      <td>3</td>\n",
       "      <td>12</td>\n",
       "    </tr>\n",
       "  </tbody>\n",
       "</table>\n",
       "</div>"
      ],
      "text/plain": [
       "                                                text  label  num_words\n",
       "0  worry is a down payment on a problem you may n...      2         17\n",
       "1  my roommate it is okay that we cannot spell be...      0         15\n",
       "2  no but that is so cute atsu was probably shy a...      1         19\n",
       "3  rooneys fucking untouchable is not he been fuc...      0         14\n",
       "4  it is pretty depressing when you hit pan on yo...      3         12"
      ]
     },
     "execution_count": 19,
     "metadata": {},
     "output_type": "execute_result"
    }
   ],
   "source": [
    "df_cleaned.head()"
   ]
  },
  {
   "cell_type": "code",
   "execution_count": 20,
   "id": "ecbb1572",
   "metadata": {
    "scrolled": true
   },
   "outputs": [
    {
     "name": "stdout",
     "output_type": "stream",
     "text": [
      "<class 'pandas.core.frame.DataFrame'>\n",
      "Int64Index: 5052 entries, 0 to 373\n",
      "Data columns (total 3 columns):\n",
      " #   Column     Non-Null Count  Dtype \n",
      "---  ------     --------------  ----- \n",
      " 0   text       5052 non-null   object\n",
      " 1   label      5052 non-null   int64 \n",
      " 2   num_words  5052 non-null   int64 \n",
      "dtypes: int64(2), object(1)\n",
      "memory usage: 157.9+ KB\n"
     ]
    }
   ],
   "source": [
    "df_cleaned.info()"
   ]
  },
  {
   "cell_type": "code",
   "execution_count": 21,
   "id": "78e4497d",
   "metadata": {},
   "outputs": [
    {
     "data": {
      "text/plain": [
       "33"
      ]
     },
     "execution_count": 21,
     "metadata": {},
     "output_type": "execute_result"
    }
   ],
   "source": [
    "df_cleaned.num_words.max()"
   ]
  },
  {
   "cell_type": "code",
   "execution_count": 22,
   "id": "33ea449b",
   "metadata": {},
   "outputs": [],
   "source": [
    "from sklearn import model_selection\n",
    "\n",
    "train_data , test_data = model_selection.train_test_split(df_cleaned, test_size=0.2, random_state=42, stratify=df_cleaned.label)"
   ]
  },
  {
   "cell_type": "code",
   "execution_count": 23,
   "id": "6c3052ef",
   "metadata": {
    "scrolled": true
   },
   "outputs": [
    {
     "data": {
      "text/plain": [
       "(4041, 3)"
      ]
     },
     "execution_count": 23,
     "metadata": {},
     "output_type": "execute_result"
    }
   ],
   "source": [
    "train_data.shape"
   ]
  },
  {
   "cell_type": "code",
   "execution_count": 22,
   "id": "52c57403",
   "metadata": {
    "scrolled": true
   },
   "outputs": [
    {
     "data": {
      "text/plain": [
       "(1011, 3)"
      ]
     },
     "execution_count": 22,
     "metadata": {},
     "output_type": "execute_result"
    }
   ],
   "source": [
    "test_data.shape"
   ]
  },
  {
   "cell_type": "code",
   "execution_count": 24,
   "id": "d5f8645c",
   "metadata": {
    "scrolled": true
   },
   "outputs": [
    {
     "data": {
      "text/html": [
       "<div>\n",
       "<style scoped>\n",
       "    .dataframe tbody tr th:only-of-type {\n",
       "        vertical-align: middle;\n",
       "    }\n",
       "\n",
       "    .dataframe tbody tr th {\n",
       "        vertical-align: top;\n",
       "    }\n",
       "\n",
       "    .dataframe thead th {\n",
       "        text-align: right;\n",
       "    }\n",
       "</style>\n",
       "<table border=\"1\" class=\"dataframe\">\n",
       "  <thead>\n",
       "    <tr style=\"text-align: right;\">\n",
       "      <th></th>\n",
       "      <th>text</th>\n",
       "      <th>label</th>\n",
       "      <th>num_words</th>\n",
       "    </tr>\n",
       "  </thead>\n",
       "  <tbody>\n",
       "    <tr>\n",
       "      <th>1079</th>\n",
       "      <td>this officer is a hero dogs_of_instagram adora...</td>\n",
       "      <td>1</td>\n",
       "      <td>8</td>\n",
       "    </tr>\n",
       "    <tr>\n",
       "      <th>2886</th>\n",
       "      <td>being playful as shit</td>\n",
       "      <td>0</td>\n",
       "      <td>4</td>\n",
       "    </tr>\n",
       "    <tr>\n",
       "      <th>1151</th>\n",
       "      <td>user max 1 bet crap</td>\n",
       "      <td>0</td>\n",
       "      <td>5</td>\n",
       "    </tr>\n",
       "    <tr>\n",
       "      <th>1658</th>\n",
       "      <td>question for all the cheerleaders who ages out...</td>\n",
       "      <td>1</td>\n",
       "      <td>18</td>\n",
       "    </tr>\n",
       "    <tr>\n",
       "      <th>1045</th>\n",
       "      <td>i wonder what would happen if i were a father ...</td>\n",
       "      <td>3</td>\n",
       "      <td>11</td>\n",
       "    </tr>\n",
       "  </tbody>\n",
       "</table>\n",
       "</div>"
      ],
      "text/plain": [
       "                                                   text  label  num_words\n",
       "1079  this officer is a hero dogs_of_instagram adora...      1          8\n",
       "2886                              being playful as shit      0          4\n",
       "1151                                user max 1 bet crap      0          5\n",
       "1658  question for all the cheerleaders who ages out...      1         18\n",
       "1045  i wonder what would happen if i were a father ...      3         11"
      ]
     },
     "execution_count": 24,
     "metadata": {},
     "output_type": "execute_result"
    }
   ],
   "source": [
    "train_data.head()"
   ]
  },
  {
   "cell_type": "code",
   "execution_count": 25,
   "id": "441c4114",
   "metadata": {
    "scrolled": true
   },
   "outputs": [
    {
     "data": {
      "text/plain": [
       "array([[0., 1., 0., 0.],\n",
       "       [1., 0., 0., 0.],\n",
       "       [1., 0., 0., 0.],\n",
       "       ...,\n",
       "       [0., 0., 1., 0.],\n",
       "       [0., 1., 0., 0.],\n",
       "       [0., 0., 0., 1.]], dtype=float32)"
      ]
     },
     "execution_count": 25,
     "metadata": {},
     "output_type": "execute_result"
    }
   ],
   "source": [
    "from tensorflow.keras.utils import to_categorical\n",
    "\n",
    "to_categorical(train_data.label)"
   ]
  },
  {
   "cell_type": "code",
   "execution_count": 27,
   "id": "db1f3486",
   "metadata": {},
   "outputs": [],
   "source": [
    "from transformers import AutoTokenizer\n",
    "from transformers import TFBartModel"
   ]
  },
  {
   "cell_type": "code",
   "execution_count": 43,
   "id": "94227a4b",
   "metadata": {
    "scrolled": true
   },
   "outputs": [
    {
     "data": {
      "application/vnd.jupyter.widget-view+json": {
       "model_id": "342531559b96466082e68e557baf30ff",
       "version_major": 2,
       "version_minor": 0
      },
      "text/plain": [
       "Downloading:   0%|          | 0.00/29.0 [00:00<?, ?B/s]"
      ]
     },
     "metadata": {},
     "output_type": "display_data"
    },
    {
     "data": {
      "application/vnd.jupyter.widget-view+json": {
       "model_id": "19a1f245b3cc4648ba12b00329b5e0b7",
       "version_major": 2,
       "version_minor": 0
      },
      "text/plain": [
       "Downloading:   0%|          | 0.00/570 [00:00<?, ?B/s]"
      ]
     },
     "metadata": {},
     "output_type": "display_data"
    },
    {
     "data": {
      "application/vnd.jupyter.widget-view+json": {
       "model_id": "53d13b7c2dc148b997dd805edb5d42e5",
       "version_major": 2,
       "version_minor": 0
      },
      "text/plain": [
       "Downloading:   0%|          | 0.00/208k [00:00<?, ?B/s]"
      ]
     },
     "metadata": {},
     "output_type": "display_data"
    },
    {
     "data": {
      "application/vnd.jupyter.widget-view+json": {
       "model_id": "ddab1a2fae914a288f45d2c7afff0f8b",
       "version_major": 2,
       "version_minor": 0
      },
      "text/plain": [
       "Downloading:   0%|          | 0.00/426k [00:00<?, ?B/s]"
      ]
     },
     "metadata": {},
     "output_type": "display_data"
    },
    {
     "name": "stderr",
     "output_type": "stream",
     "text": [
      "You are using a model of type bert to instantiate a model of type bart. This is not supported for all configurations of models and can yield errors.\n"
     ]
    },
    {
     "data": {
      "application/vnd.jupyter.widget-view+json": {
       "model_id": "cc2850db3c4a4683bc9ada41e8b9d743",
       "version_major": 2,
       "version_minor": 0
      },
      "text/plain": [
       "Downloading:   0%|          | 0.00/502M [00:00<?, ?B/s]"
      ]
     },
     "metadata": {},
     "output_type": "display_data"
    },
    {
     "name": "stderr",
     "output_type": "stream",
     "text": [
      "Some layers from the model checkpoint at bert-base-cased were not used when initializing TFBartModel: ['bert', 'nsp___cls', 'mlm___cls']\n",
      "- This IS expected if you are initializing TFBartModel from the checkpoint of a model trained on another task or with another architecture (e.g. initializing a BertForSequenceClassification model from a BertForPreTraining model).\n",
      "- This IS NOT expected if you are initializing TFBartModel from the checkpoint of a model that you expect to be exactly identical (initializing a BertForSequenceClassification model from a BertForSequenceClassification model).\n",
      "Some layers of TFBartModel were not initialized from the model checkpoint at bert-base-cased and are newly initialized: ['model']\n",
      "You should probably TRAIN this model on a down-stream task to be able to use it for predictions and inference.\n"
     ]
    }
   ],
   "source": [
    "# checkpoint = 'distilbert-base-uncased-finetuned-sst-2-english'\n",
    "checkpoint = 'bert-base-cased'\n",
    "tokenizer = AutoTokenizer.from_pretrained(checkpoint )\n",
    "bert = TFBartModel.from_pretrained(checkpoint)"
   ]
  },
  {
   "cell_type": "code",
   "execution_count": 28,
   "id": "8671e2d9",
   "metadata": {
    "collapsed": true
   },
   "outputs": [
    {
     "ename": "NameError",
     "evalue": "name 'tokenizer' is not defined",
     "output_type": "error",
     "traceback": [
      "\u001b[1;31m---------------------------------------------------------------------------\u001b[0m",
      "\u001b[1;31mNameError\u001b[0m                                 Traceback (most recent call last)",
      "Cell \u001b[1;32mIn [28], line 2\u001b[0m\n\u001b[0;32m      1\u001b[0m \u001b[38;5;66;03m# SAVING THE MODEL\u001b[39;00m\n\u001b[1;32m----> 2\u001b[0m \u001b[43mtokenizer\u001b[49m\u001b[38;5;241m.\u001b[39msave_pretrained(\u001b[38;5;124m'\u001b[39m\u001b[38;5;124mbert-tokenizer\u001b[39m\u001b[38;5;124m'\u001b[39m)\n\u001b[0;32m      3\u001b[0m bert\u001b[38;5;241m.\u001b[39msave_pretrained(\u001b[38;5;124m'\u001b[39m\u001b[38;5;124mbert_model\u001b[39m\u001b[38;5;124m'\u001b[39m)\n",
      "\u001b[1;31mNameError\u001b[0m: name 'tokenizer' is not defined"
     ]
    }
   ],
   "source": [
    "# SAVING THE MODEL\n",
    "tokenizer.save_pretrained('bert-tokenizer')\n",
    "bert.save_pretrained('bert_model')"
   ]
  },
  {
   "cell_type": "code",
   "execution_count": 29,
   "id": "00fb144d",
   "metadata": {},
   "outputs": [
    {
     "name": "stderr",
     "output_type": "stream",
     "text": [
      "All model checkpoint layers were used when initializing TFBartModel.\n",
      "\n",
      "All the layers of TFBartModel were initialized from the model checkpoint at bert_model.\n",
      "If your task is similar to the task the model of the checkpoint was trained on, you can already use TFBartModel for predictions without further training.\n"
     ]
    }
   ],
   "source": [
    "# RELOADING MODEL \n",
    "tokenizer = AutoTokenizer.from_pretrained('bert-tokenizer')\n",
    "bert = TFBartModel.from_pretrained('bert_model', output_attentions=True)"
   ]
  },
  {
   "cell_type": "code",
   "execution_count": 30,
   "id": "179740f2",
   "metadata": {
    "scrolled": true
   },
   "outputs": [
    {
     "data": {
      "text/plain": [
       "{'input_ids': [[101, 1142, 1110, 170, 3014, 3087, 102], [101, 178, 1567, 19350, 102, 0, 0]], 'token_type_ids': [[0, 0, 0, 0, 0, 0, 0], [0, 0, 0, 0, 0, 0, 0]], 'attention_mask': [[1, 1, 1, 1, 1, 1, 1], [1, 1, 1, 1, 1, 0, 0]]}"
      ]
     },
     "execution_count": 30,
     "metadata": {},
     "output_type": "execute_result"
    }
   ],
   "source": [
    "sample_text = [\n",
    "    'this is a simple text', \n",
    "    'i love coding'\n",
    "]\n",
    "tokenizer(sample_text , padding=True)"
   ]
  },
  {
   "cell_type": "code",
   "execution_count": 31,
   "id": "244592a8",
   "metadata": {},
   "outputs": [],
   "source": [
    "wrd_lenght =df_cleaned.num_words.max()\n",
    "wrd_lenght +=1 "
   ]
  },
  {
   "cell_type": "code",
   "execution_count": 32,
   "id": "568cfb6c",
   "metadata": {},
   "outputs": [],
   "source": [
    "# TOKENZin the dataset\n",
    "# train_data.text.to_list()\n",
    "\n",
    "x_train = tokenizer(\n",
    "    text = train_data.text.to_list(), \n",
    "    add_special_tokens=True, \n",
    "    max_length= wrd_lenght, \n",
    "    truncation=True, \n",
    "    padding=True, \n",
    "    return_tensors='tf', \n",
    "    return_token_type_ids=False, \n",
    "    return_attention_mask=True, \n",
    "    verbose=True\n",
    "    )\n",
    "\n",
    "\n",
    "x_test = tokenizer(\n",
    "    text = test_data.text.to_list(), \n",
    "    add_special_tokens=True, \n",
    "    max_length= wrd_lenght, \n",
    "    truncation=True, \n",
    "    padding=True, \n",
    "    return_tensors='tf', \n",
    "    return_token_type_ids=False, \n",
    "    return_attention_mask=True, \n",
    "    verbose=True\n",
    "    )"
   ]
  },
  {
   "cell_type": "code",
   "execution_count": 33,
   "id": "2c8ac118",
   "metadata": {
    "scrolled": true
   },
   "outputs": [
    {
     "data": {
      "text/plain": [
       "{'input_ids': <tf.Tensor: shape=(4041, 34), dtype=int32, numpy=\n",
       "array([[  101,  1142,  2575, ...,     0,     0,     0],\n",
       "       [  101,  1217, 20303, ...,     0,     0,     0],\n",
       "       [  101,  4795, 12477, ...,     0,     0,     0],\n",
       "       ...,\n",
       "       [  101,  4795,  4795, ...,     0,     0,     0],\n",
       "       [  101,  4795,  4795, ...,     0,     0,     0],\n",
       "       [  101,  6243,  1128, ...,     0,     0,     0]])>, 'attention_mask': <tf.Tensor: shape=(4041, 34), dtype=int32, numpy=\n",
       "array([[1, 1, 1, ..., 0, 0, 0],\n",
       "       [1, 1, 1, ..., 0, 0, 0],\n",
       "       [1, 1, 1, ..., 0, 0, 0],\n",
       "       ...,\n",
       "       [1, 1, 1, ..., 0, 0, 0],\n",
       "       [1, 1, 1, ..., 0, 0, 0],\n",
       "       [1, 1, 1, ..., 0, 0, 0]])>}"
      ]
     },
     "execution_count": 33,
     "metadata": {},
     "output_type": "execute_result"
    }
   ],
   "source": [
    "x_train"
   ]
  },
  {
   "cell_type": "code",
   "execution_count": 34,
   "id": "8c1aec8e",
   "metadata": {
    "scrolled": true
   },
   "outputs": [
    {
     "data": {
      "text/plain": [
       "{'input_ids': <tf.Tensor: shape=(1011, 34), dtype=int32, numpy=\n",
       "array([[  101,  1169,  1195, ...,  1128, 21534,   102],\n",
       "       [  101,  1991,  1115, ...,     0,     0,     0],\n",
       "       [  101,  1122,  1110, ...,     0,     0,     0],\n",
       "       ...,\n",
       "       [  101, 11437,  2528, ...,  1518,  1440,   102],\n",
       "       [  101,  1274,  5213, ...,   102,     0,     0],\n",
       "       [  101,  1564,  1821, ...,  1264,  1605,   102]])>, 'attention_mask': <tf.Tensor: shape=(1011, 34), dtype=int32, numpy=\n",
       "array([[1, 1, 1, ..., 1, 1, 1],\n",
       "       [1, 1, 1, ..., 0, 0, 0],\n",
       "       [1, 1, 1, ..., 0, 0, 0],\n",
       "       ...,\n",
       "       [1, 1, 1, ..., 1, 1, 1],\n",
       "       [1, 1, 1, ..., 1, 0, 0],\n",
       "       [1, 1, 1, ..., 1, 1, 1]])>}"
      ]
     },
     "execution_count": 34,
     "metadata": {},
     "output_type": "execute_result"
    }
   ],
   "source": [
    "x_test"
   ]
  },
  {
   "cell_type": "code",
   "execution_count": 35,
   "id": "737692a4",
   "metadata": {
    "scrolled": true
   },
   "outputs": [
    {
     "data": {
      "text/plain": [
       "[PhysicalDevice(name='/physical_device:CPU:0', device_type='CPU')]"
      ]
     },
     "execution_count": 35,
     "metadata": {},
     "output_type": "execute_result"
    }
   ],
   "source": [
    "import tensorflow as tf \n",
    "from tensorflow import keras\n",
    "tf.config.experimental.list_physical_devices()"
   ]
  },
  {
   "cell_type": "code",
   "execution_count": 36,
   "id": "7051e5a7",
   "metadata": {},
   "outputs": [
    {
     "data": {
      "text/plain": [
       "dict_keys(['input_ids', 'attention_mask'])"
      ]
     },
     "execution_count": 36,
     "metadata": {},
     "output_type": "execute_result"
    }
   ],
   "source": [
    "x_train.keys()"
   ]
  },
  {
   "cell_type": "code",
   "execution_count": 37,
   "id": "cead4deb",
   "metadata": {},
   "outputs": [
    {
     "data": {
      "text/plain": [
       "array([2, 0, 1, 3], dtype=int64)"
      ]
     },
     "execution_count": 37,
     "metadata": {},
     "output_type": "execute_result"
    }
   ],
   "source": [
    "# ids = x_train['input_ids'][0]\n",
    "# masks = x_train['attention_mask'][0]\n",
    "\n",
    "# bert_layer = bert()[0]\n",
    "# bert_laye\n",
    "data_full.label.unique()"
   ]
  },
  {
   "cell_type": "code",
   "execution_count": 38,
   "id": "08b89097",
   "metadata": {},
   "outputs": [
    {
     "name": "stdout",
     "output_type": "stream",
     "text": [
      "WARNING:tensorflow:The parameters `output_attentions`, `output_hidden_states` and `use_cache` cannot be updated when calling a model. They have to be set to True/False in the config object (i.e.: `config=XConfig.from_pretrained('name', output_attentions=True)`).\n",
      "WARNING:tensorflow:AutoGraph could not transform <bound method Socket.send of <zmq.Socket(zmq.PUSH) at 0x20ad682c700>> and will run it as-is.\n",
      "Please report this to the TensorFlow team. When filing the bug, set the verbosity to 10 (on Linux, `export AUTOGRAPH_VERBOSITY=10`) and attach the full output.\n",
      "Cause: module, class, method, function, traceback, frame, or code object was expected, got cython_function_or_method\n",
      "To silence this warning, decorate the function with @tf.autograph.experimental.do_not_convert\n",
      "WARNING: AutoGraph could not transform <bound method Socket.send of <zmq.Socket(zmq.PUSH) at 0x20ad682c700>> and will run it as-is.\n",
      "Please report this to the TensorFlow team. When filing the bug, set the verbosity to 10 (on Linux, `export AUTOGRAPH_VERBOSITY=10`) and attach the full output.\n",
      "Cause: module, class, method, function, traceback, frame, or code object was expected, got cython_function_or_method\n",
      "To silence this warning, decorate the function with @tf.autograph.experimental.do_not_convert\n"
     ]
    }
   ],
   "source": [
    "max_len = wrd_lenght\n",
    "\n",
    "#  defining the input layer.... \n",
    "input_ids = keras.layers.Input(shape=(max_len,) , dtype= tf.int32, name='input_ids')\n",
    "input_masks = keras.layers.Input(shape=(max_len,), dtype=tf.int32, name='input_mask')\n",
    "\n",
    "\n",
    "# loading bert layer. \n",
    "embedding = bert(input_ids,attention_mask = input_masks)[0]\n",
    "\n",
    "# keras layer .. \n",
    "output = tf.keras.layers.GlobalMaxPool1D()(embedding)\n",
    "output = tf.keras.layers.Dense(128, activation='relu')(output)\n",
    "output = tf.keras.layers.Dropout(0.1)(output)\n",
    "output = tf.keras.layers.Dense(32, activation='relu')(output)\n",
    "final_output = tf.keras.layers.Dense(4, activation='sigmoid')(output)\n",
    "\n",
    "# defining the training model \n",
    "model =  tf.keras.Model(inputs=[input_ids, input_masks], outputs=[final_output])\n",
    "model.layers[2].trainable=True"
   ]
  },
  {
   "cell_type": "code",
   "execution_count": 39,
   "id": "24e4e021",
   "metadata": {},
   "outputs": [
    {
     "data": {
      "text/plain": [
       "[<keras.engine.input_layer.InputLayer at 0x20a800ce3d0>,\n",
       " <keras.engine.input_layer.InputLayer at 0x20afafb0d30>,\n",
       " <transformers.models.bart.modeling_tf_bart.TFBartModel at 0x20aec0a08e0>,\n",
       " <keras.layers.pooling.global_max_pooling1d.GlobalMaxPooling1D at 0x20a8811bcd0>,\n",
       " <keras.layers.core.dense.Dense at 0x20a81b4dc40>,\n",
       " <keras.layers.regularization.dropout.Dropout at 0x20a8811b550>,\n",
       " <keras.layers.core.dense.Dense at 0x20a8811bd60>,\n",
       " <keras.layers.core.dense.Dense at 0x20a8012d040>]"
      ]
     },
     "execution_count": 39,
     "metadata": {},
     "output_type": "execute_result"
    }
   ],
   "source": [
    "model.layers"
   ]
  },
  {
   "cell_type": "code",
   "execution_count": 40,
   "id": "9aaae261",
   "metadata": {
    "scrolled": false
   },
   "outputs": [
    {
     "name": "stdout",
     "output_type": "stream",
     "text": [
      "Model: \"model\"\n",
      "__________________________________________________________________________________________________\n",
      " Layer (type)                   Output Shape         Param #     Connected to                     \n",
      "==================================================================================================\n",
      " input_ids (InputLayer)         [(None, 34)]         0           []                               \n",
      "                                                                                                  \n",
      " input_mask (InputLayer)        [(None, 34)]         0           []                               \n",
      "                                                                                                  \n",
      " tf_bart_model (TFBartModel)    TFSeq2SeqModelOutpu  259310592   ['input_ids[0][0]',              \n",
      "                                t(last_hidden_state               'input_mask[0][0]']             \n",
      "                                =(None, 34, 768),                                                 \n",
      "                                 past_key_values=((                                               \n",
      "                                None, 34, 768),                                                   \n",
      "                                 (((None, 16, None,                                               \n",
      "                                 48),                                                             \n",
      "                                 (None, 16, None, 4                                               \n",
      "                                8),                                                               \n",
      "                                 (None, 16, None, 4                                               \n",
      "                                8),                                                               \n",
      "                                 (None, 16, None, 4                                               \n",
      "                                8)),                                                              \n",
      "                                 ((None, 16, None,                                                \n",
      "                                48),                                                              \n",
      "                                 (None, 16, None, 4                                               \n",
      "                                8),                                                               \n",
      "                                 (None, 16, None, 4                                               \n",
      "                                8),                                                               \n",
      "                                 (None, 16, None, 4                                               \n",
      "                                8)),                                                              \n",
      "                                 ((None, 16, None,                                                \n",
      "                                48),                                                              \n",
      "                                 (None, 16, None, 4                                               \n",
      "                                8),                                                               \n",
      "                                 (None, 16, None, 4                                               \n",
      "                                8),                                                               \n",
      "                                 (None, 16, None, 4                                               \n",
      "                                8)),                                                              \n",
      "                                 ((None, 16, None,                                                \n",
      "                                48),                                                              \n",
      "                                 (None, 16, None, 4                                               \n",
      "                                8),                                                               \n",
      "                                 (None, 16, None, 4                                               \n",
      "                                8),                                                               \n",
      "                                 (None, 16, None, 4                                               \n",
      "                                8)),                                                              \n",
      "                                 ((None, 16, None,                                                \n",
      "                                48),                                                              \n",
      "                                 (None, 16, None, 4                                               \n",
      "                                8),                                                               \n",
      "                                 (None, 16, None, 4                                               \n",
      "                                8),                                                               \n",
      "                                 (None, 16, None, 4                                               \n",
      "                                8)),                                                              \n",
      "                                 ((None, 16, None,                                                \n",
      "                                48),                                                              \n",
      "                                 (None, 16, None, 4                                               \n",
      "                                8),                                                               \n",
      "                                 (None, 16, None, 4                                               \n",
      "                                8),                                                               \n",
      "                                 (None, 16, None, 4                                               \n",
      "                                8)),                                                              \n",
      "                                 ((None, 16, None,                                                \n",
      "                                48),                                                              \n",
      "                                 (None, 16, None, 4                                               \n",
      "                                8),                                                               \n",
      "                                 (None, 16, None, 4                                               \n",
      "                                8),                                                               \n",
      "                                 (None, 16, None, 4                                               \n",
      "                                8)),                                                              \n",
      "                                 ((None, 16, None,                                                \n",
      "                                48),                                                              \n",
      "                                 (None, 16, None, 4                                               \n",
      "                                8),                                                               \n",
      "                                 (None, 16, None, 4                                               \n",
      "                                8),                                                               \n",
      "                                 (None, 16, None, 4                                               \n",
      "                                8)),                                                              \n",
      "                                 ((None, 16, None,                                                \n",
      "                                48),                                                              \n",
      "                                 (None, 16, None, 4                                               \n",
      "                                8),                                                               \n",
      "                                 (None, 16, None, 4                                               \n",
      "                                8),                                                               \n",
      "                                 (None, 16, None, 4                                               \n"
     ]
    },
    {
     "name": "stdout",
     "output_type": "stream",
     "text": [
      "                                8)),                                                              \n",
      "                                 ((None, 16, None,                                                \n",
      "                                48),                                                              \n",
      "                                 (None, 16, None, 4                                               \n",
      "                                8),                                                               \n",
      "                                 (None, 16, None, 4                                               \n",
      "                                8),                                                               \n",
      "                                 (None, 16, None, 4                                               \n",
      "                                8)),                                                              \n",
      "                                 ((None, 16, None,                                                \n",
      "                                48),                                                              \n",
      "                                 (None, 16, None, 4                                               \n",
      "                                8),                                                               \n",
      "                                 (None, 16, None, 4                                               \n",
      "                                8),                                                               \n",
      "                                 (None, 16, None, 4                                               \n",
      "                                8)),                                                              \n",
      "                                 ((None, 16, None,                                                \n",
      "                                48),                                                              \n",
      "                                 (None, 16, None, 4                                               \n",
      "                                8),                                                               \n",
      "                                 (None, 16, None, 4                                               \n",
      "                                8),                                                               \n",
      "                                 (None, 16, None, 4                                               \n",
      "                                8)))),                                                            \n",
      "                                 decoder_hidden_sta                                               \n",
      "                                tes=None, decoder_a                                               \n",
      "                                ttentions=[(None, 1                                               \n",
      "                                6, 34, None),                                                     \n",
      "                                 (None, 16, 34, Non                                               \n",
      "                                e),                                                               \n",
      "                                 (None, 16, 34, Non                                               \n",
      "                                e),                                                               \n",
      "                                 (None, 16, 34, Non                                               \n",
      "                                e),                                                               \n",
      "                                 (None, 16, 34, Non                                               \n",
      "                                e),                                                               \n",
      "                                 (None, 16, 34, Non                                               \n",
      "                                e),                                                               \n",
      "                                 (None, 16, 34, Non                                               \n",
      "                                e),                                                               \n",
      "                                 (None, 16, 34, Non                                               \n",
      "                                e),                                                               \n",
      "                                 (None, 16, 34, Non                                               \n",
      "                                e),                                                               \n",
      "                                 (None, 16, 34, Non                                               \n",
      "                                e),                                                               \n",
      "                                 (None, 16, 34, Non                                               \n",
      "                                e),                                                               \n",
      "                                 (None, 16, 34, Non                                               \n",
      "                                e)],                                                              \n",
      "                                 cross_attentions=[                                               \n",
      "                                (None, 16, 34, None                                               \n",
      "                                ),                                                                \n",
      "                                 (None, 16, 34, Non                                               \n",
      "                                e),                                                               \n",
      "                                 (None, 16, 34, Non                                               \n",
      "                                e),                                                               \n",
      "                                 (None, 16, 34, Non                                               \n",
      "                                e),                                                               \n",
      "                                 (None, 16, 34, Non                                               \n",
      "                                e),                                                               \n",
      "                                 (None, 16, 34, Non                                               \n",
      "                                e),                                                               \n",
      "                                 (None, 16, 34, Non                                               \n",
      "                                e),                                                               \n",
      "                                 (None, 16, 34, Non                                               \n",
      "                                e),                                                               \n",
      "                                 (None, 16, 34, Non                                               \n",
      "                                e),                                                               \n",
      "                                 (None, 16, 34, Non                                               \n",
      "                                e),                                                               \n",
      "                                 (None, 16, 34, Non                                               \n",
      "                                e),                                                               \n",
      "                                 (None, 16, 34, Non                                               \n",
      "                                e)],                                                              \n",
      "                                 encoder_last_hidde                                               \n",
      "                                n_state=(None, 34,                                                \n",
      "                                768),                                                             \n",
      "                                 encoder_hidden_sta                                               \n",
      "                                tes=None, encoder_a                                               \n",
      "                                ttentions=((None, 1                                               \n",
      "                                2, 34, None),                                                     \n"
     ]
    },
    {
     "name": "stdout",
     "output_type": "stream",
     "text": [
      "                                 (None, 12, 34, Non                                               \n",
      "                                e),                                                               \n",
      "                                 (None, 12, 34, Non                                               \n",
      "                                e),                                                               \n",
      "                                 (None, 12, 34, Non                                               \n",
      "                                e),                                                               \n",
      "                                 (None, 12, 34, Non                                               \n",
      "                                e),                                                               \n",
      "                                 (None, 12, 34, Non                                               \n",
      "                                e),                                                               \n",
      "                                 (None, 12, 34, Non                                               \n",
      "                                e),                                                               \n",
      "                                 (None, 12, 34, Non                                               \n",
      "                                e),                                                               \n",
      "                                 (None, 12, 34, Non                                               \n",
      "                                e),                                                               \n",
      "                                 (None, 12, 34, Non                                               \n",
      "                                e),                                                               \n",
      "                                 (None, 12, 34, Non                                               \n",
      "                                e),                                                               \n",
      "                                 (None, 12, 34, Non                                               \n",
      "                                e)))                                                              \n",
      "                                                                                                  \n",
      " global_max_pooling1d (GlobalMa  (None, 768)         0           ['tf_bart_model[0][37]']         \n",
      " xPooling1D)                                                                                      \n",
      "                                                                                                  \n",
      " dense (Dense)                  (None, 128)          98432       ['global_max_pooling1d[0][0]']   \n",
      "                                                                                                  \n",
      " dropout_86 (Dropout)           (None, 128)          0           ['dense[0][0]']                  \n",
      "                                                                                                  \n",
      " dense_1 (Dense)                (None, 32)           4128        ['dropout_86[0][0]']             \n",
      "                                                                                                  \n",
      " dense_2 (Dense)                (None, 4)            132         ['dense_1[0][0]']                \n",
      "                                                                                                  \n",
      "==================================================================================================\n",
      "Total params: 259,413,284\n",
      "Trainable params: 259,413,284\n",
      "Non-trainable params: 0\n",
      "__________________________________________________________________________________________________\n"
     ]
    }
   ],
   "source": [
    "model.summary()"
   ]
  },
  {
   "cell_type": "code",
   "execution_count": 41,
   "id": "0decd9c0",
   "metadata": {
    "scrolled": true
   },
   "outputs": [
    {
     "name": "stdout",
     "output_type": "stream",
     "text": [
      "You must install pydot (`pip install pydot`) and install graphviz (see instructions at https://graphviz.gitlab.io/download/) for plot_model to work.\n"
     ]
    }
   ],
   "source": [
    "tf.keras.utils.plot_model(model, show_shapes=True)"
   ]
  },
  {
   "cell_type": "code",
   "execution_count": 58,
   "id": "94e773c1",
   "metadata": {},
   "outputs": [],
   "source": [
    "from tensorflow.keras.optimizers import Adam\n",
    "op = Adam(\n",
    "    learning_rate = 5e-05, \n",
    "    epsilon = 1e-08, \n",
    "    decay = 0.01, \n",
    "    clipnorm=1.0   \n",
    ")\n",
    "\n",
    "loss = keras.losses.CategoricalCrossentropy(from_logits=True)\n",
    "metric = keras.metrics.CategoricalAccuracy('balanced_accuracy')\n",
    "model.compile(optimizer=op, \n",
    "             loss = loss, \n",
    "             metrics= metric)"
   ]
  },
  {
   "cell_type": "code",
   "execution_count": 59,
   "id": "f8f6b137",
   "metadata": {
    "scrolled": true
   },
   "outputs": [
    {
     "data": {
      "text/plain": [
       "<tf.Tensor: shape=(4041, 34), dtype=int32, numpy=\n",
       "array([[1, 1, 1, ..., 0, 0, 0],\n",
       "       [1, 1, 1, ..., 0, 0, 0],\n",
       "       [1, 1, 1, ..., 0, 0, 0],\n",
       "       ...,\n",
       "       [1, 1, 1, ..., 0, 0, 0],\n",
       "       [1, 1, 1, ..., 0, 0, 0],\n",
       "       [1, 1, 1, ..., 0, 0, 0]])>"
      ]
     },
     "execution_count": 59,
     "metadata": {},
     "output_type": "execute_result"
    }
   ],
   "source": [
    "x_train['attention_mask']"
   ]
  },
  {
   "cell_type": "code",
   "execution_count": 60,
   "id": "287fc517",
   "metadata": {
    "scrolled": true
   },
   "outputs": [
    {
     "data": {
      "text/plain": [
       "<tf.Tensor: shape=(4041, 34), dtype=int32, numpy=\n",
       "array([[  101,  1142,  2575, ...,     0,     0,     0],\n",
       "       [  101,  1217, 20303, ...,     0,     0,     0],\n",
       "       [  101,  4795, 12477, ...,     0,     0,     0],\n",
       "       ...,\n",
       "       [  101,  4795,  4795, ...,     0,     0,     0],\n",
       "       [  101,  4795,  4795, ...,     0,     0,     0],\n",
       "       [  101,  6243,  1128, ...,     0,     0,     0]])>"
      ]
     },
     "execution_count": 60,
     "metadata": {},
     "output_type": "execute_result"
    }
   ],
   "source": [
    "x_train['input_ids']"
   ]
  },
  {
   "cell_type": "code",
   "execution_count": 61,
   "id": "cc730a98",
   "metadata": {
    "scrolled": true
   },
   "outputs": [
    {
     "name": "stdout",
     "output_type": "stream",
     "text": [
      "WARNING:tensorflow:The parameters `output_attentions`, `output_hidden_states` and `use_cache` cannot be updated when calling a model. They have to be set to True/False in the config object (i.e.: `config=XConfig.from_pretrained('name', output_attentions=True)`).\n",
      "WARNING:tensorflow:The parameters `output_attentions`, `output_hidden_states` and `use_cache` cannot be updated when calling a model. They have to be set to True/False in the config object (i.e.: `config=XConfig.from_pretrained('name', output_attentions=True)`).\n",
      " 14/113 [==>...........................] - ETA: 58:24 - loss: 1.3470 - balanced_accuracy: 0.3651"
     ]
    },
    {
     "ename": "KeyboardInterrupt",
     "evalue": "",
     "output_type": "error",
     "traceback": [
      "\u001b[1;31m---------------------------------------------------------------------------\u001b[0m",
      "\u001b[1;31mKeyboardInterrupt\u001b[0m                         Traceback (most recent call last)",
      "Cell \u001b[1;32mIn [61], line 1\u001b[0m\n\u001b[1;32m----> 1\u001b[0m \u001b[43mmodel\u001b[49m\u001b[38;5;241;43m.\u001b[39;49m\u001b[43mfit\u001b[49m\u001b[43m(\u001b[49m\n\u001b[0;32m      2\u001b[0m \u001b[43m        \u001b[49m\u001b[43mx\u001b[49m\u001b[38;5;241;43m=\u001b[39;49m\u001b[43m{\u001b[49m\u001b[38;5;124;43m'\u001b[39;49m\u001b[38;5;124;43minput_ids\u001b[39;49m\u001b[38;5;124;43m'\u001b[39;49m\u001b[43m:\u001b[49m\u001b[43mx_train\u001b[49m\u001b[43m[\u001b[49m\u001b[38;5;124;43m'\u001b[39;49m\u001b[38;5;124;43minput_ids\u001b[39;49m\u001b[38;5;124;43m'\u001b[39;49m\u001b[43m]\u001b[49m\u001b[43m \u001b[49m\u001b[43m,\u001b[49m\u001b[43m \u001b[49m\u001b[38;5;124;43m'\u001b[39;49m\u001b[38;5;124;43minput_mask\u001b[39;49m\u001b[38;5;124;43m'\u001b[39;49m\u001b[43m:\u001b[49m\u001b[43mx_train\u001b[49m\u001b[43m[\u001b[49m\u001b[38;5;124;43m'\u001b[39;49m\u001b[38;5;124;43mattention_mask\u001b[39;49m\u001b[38;5;124;43m'\u001b[39;49m\u001b[43m]\u001b[49m\u001b[43m}\u001b[49m\u001b[43m,\u001b[49m\u001b[43m \u001b[49m\n\u001b[0;32m      3\u001b[0m \u001b[43m        \u001b[49m\u001b[43my\u001b[49m\u001b[38;5;241;43m=\u001b[39;49m\u001b[43m[\u001b[49m\u001b[43mto_categorical\u001b[49m\u001b[43m(\u001b[49m\u001b[43mtrain_data\u001b[49m\u001b[38;5;241;43m.\u001b[39;49m\u001b[43mlabel\u001b[49m\u001b[43m)\u001b[49m\u001b[43m]\u001b[49m\u001b[43m \u001b[49m\u001b[43m,\u001b[49m\n\u001b[0;32m      4\u001b[0m \u001b[43m        \u001b[49m\u001b[43mvalidation_data\u001b[49m\u001b[38;5;241;43m=\u001b[39;49m\u001b[43m(\u001b[49m\u001b[43m  \u001b[49m\u001b[43m{\u001b[49m\u001b[38;5;124;43m'\u001b[39;49m\u001b[38;5;124;43minput_ids\u001b[39;49m\u001b[38;5;124;43m'\u001b[39;49m\u001b[43m:\u001b[49m\u001b[43mx_test\u001b[49m\u001b[43m[\u001b[49m\u001b[38;5;124;43m'\u001b[39;49m\u001b[38;5;124;43minput_ids\u001b[39;49m\u001b[38;5;124;43m'\u001b[39;49m\u001b[43m]\u001b[49m\u001b[43m \u001b[49m\u001b[43m,\u001b[49m\u001b[43m \u001b[49m\u001b[38;5;124;43m'\u001b[39;49m\u001b[38;5;124;43mattention_masks\u001b[39;49m\u001b[38;5;124;43m'\u001b[39;49m\u001b[43m:\u001b[49m\u001b[43mx_test\u001b[49m\u001b[43m[\u001b[49m\u001b[38;5;124;43m'\u001b[39;49m\u001b[38;5;124;43mattention_mask\u001b[39;49m\u001b[38;5;124;43m'\u001b[39;49m\u001b[43m]\u001b[49m\u001b[43m}\u001b[49m\u001b[43m,\u001b[49m\u001b[43m \u001b[49m\n\u001b[0;32m      5\u001b[0m \u001b[43m        \u001b[49m\u001b[43mto_categorical\u001b[49m\u001b[43m(\u001b[49m\u001b[43mtest_data\u001b[49m\u001b[38;5;241;43m.\u001b[39;49m\u001b[43mlabel\u001b[49m\u001b[43m)\u001b[49m\u001b[43m \u001b[49m\u001b[43m)\u001b[49m\u001b[43m,\u001b[49m\u001b[43m \u001b[49m\u001b[43mepochs\u001b[49m\u001b[38;5;241;43m=\u001b[39;49m\u001b[38;5;241;43m1\u001b[39;49m\u001b[43m,\u001b[49m\u001b[43m \u001b[49m\u001b[43mbatch_size\u001b[49m\u001b[43m \u001b[49m\u001b[38;5;241;43m=\u001b[39;49m\u001b[43m \u001b[49m\u001b[38;5;241;43m36\u001b[39;49m\n\u001b[0;32m      6\u001b[0m \u001b[43m    \u001b[49m\u001b[43m)\u001b[49m\n",
      "File \u001b[1;32mc:\\users\\hp\\appdata\\local\\programs\\python\\python39\\lib\\site-packages\\keras\\utils\\traceback_utils.py:65\u001b[0m, in \u001b[0;36mfilter_traceback.<locals>.error_handler\u001b[1;34m(*args, **kwargs)\u001b[0m\n\u001b[0;32m     63\u001b[0m filtered_tb \u001b[38;5;241m=\u001b[39m \u001b[38;5;28;01mNone\u001b[39;00m\n\u001b[0;32m     64\u001b[0m \u001b[38;5;28;01mtry\u001b[39;00m:\n\u001b[1;32m---> 65\u001b[0m     \u001b[38;5;28;01mreturn\u001b[39;00m fn(\u001b[38;5;241m*\u001b[39margs, \u001b[38;5;241m*\u001b[39m\u001b[38;5;241m*\u001b[39mkwargs)\n\u001b[0;32m     66\u001b[0m \u001b[38;5;28;01mexcept\u001b[39;00m \u001b[38;5;167;01mException\u001b[39;00m \u001b[38;5;28;01mas\u001b[39;00m e:\n\u001b[0;32m     67\u001b[0m     filtered_tb \u001b[38;5;241m=\u001b[39m _process_traceback_frames(e\u001b[38;5;241m.\u001b[39m__traceback__)\n",
      "File \u001b[1;32mc:\\users\\hp\\appdata\\local\\programs\\python\\python39\\lib\\site-packages\\keras\\engine\\training.py:1564\u001b[0m, in \u001b[0;36mModel.fit\u001b[1;34m(self, x, y, batch_size, epochs, verbose, callbacks, validation_split, validation_data, shuffle, class_weight, sample_weight, initial_epoch, steps_per_epoch, validation_steps, validation_batch_size, validation_freq, max_queue_size, workers, use_multiprocessing)\u001b[0m\n\u001b[0;32m   1556\u001b[0m \u001b[38;5;28;01mwith\u001b[39;00m tf\u001b[38;5;241m.\u001b[39mprofiler\u001b[38;5;241m.\u001b[39mexperimental\u001b[38;5;241m.\u001b[39mTrace(\n\u001b[0;32m   1557\u001b[0m     \u001b[38;5;124m\"\u001b[39m\u001b[38;5;124mtrain\u001b[39m\u001b[38;5;124m\"\u001b[39m,\n\u001b[0;32m   1558\u001b[0m     epoch_num\u001b[38;5;241m=\u001b[39mepoch,\n\u001b[1;32m   (...)\u001b[0m\n\u001b[0;32m   1561\u001b[0m     _r\u001b[38;5;241m=\u001b[39m\u001b[38;5;241m1\u001b[39m,\n\u001b[0;32m   1562\u001b[0m ):\n\u001b[0;32m   1563\u001b[0m     callbacks\u001b[38;5;241m.\u001b[39mon_train_batch_begin(step)\n\u001b[1;32m-> 1564\u001b[0m     tmp_logs \u001b[38;5;241m=\u001b[39m \u001b[38;5;28;43mself\u001b[39;49m\u001b[38;5;241;43m.\u001b[39;49m\u001b[43mtrain_function\u001b[49m\u001b[43m(\u001b[49m\u001b[43miterator\u001b[49m\u001b[43m)\u001b[49m\n\u001b[0;32m   1565\u001b[0m     \u001b[38;5;28;01mif\u001b[39;00m data_handler\u001b[38;5;241m.\u001b[39mshould_sync:\n\u001b[0;32m   1566\u001b[0m         context\u001b[38;5;241m.\u001b[39masync_wait()\n",
      "File \u001b[1;32m~\\AppData\\Roaming\\Python\\Python39\\site-packages\\tensorflow\\python\\util\\traceback_utils.py:150\u001b[0m, in \u001b[0;36mfilter_traceback.<locals>.error_handler\u001b[1;34m(*args, **kwargs)\u001b[0m\n\u001b[0;32m    148\u001b[0m filtered_tb \u001b[38;5;241m=\u001b[39m \u001b[38;5;28;01mNone\u001b[39;00m\n\u001b[0;32m    149\u001b[0m \u001b[38;5;28;01mtry\u001b[39;00m:\n\u001b[1;32m--> 150\u001b[0m   \u001b[38;5;28;01mreturn\u001b[39;00m fn(\u001b[38;5;241m*\u001b[39margs, \u001b[38;5;241m*\u001b[39m\u001b[38;5;241m*\u001b[39mkwargs)\n\u001b[0;32m    151\u001b[0m \u001b[38;5;28;01mexcept\u001b[39;00m \u001b[38;5;167;01mException\u001b[39;00m \u001b[38;5;28;01mas\u001b[39;00m e:\n\u001b[0;32m    152\u001b[0m   filtered_tb \u001b[38;5;241m=\u001b[39m _process_traceback_frames(e\u001b[38;5;241m.\u001b[39m__traceback__)\n",
      "File \u001b[1;32m~\\AppData\\Roaming\\Python\\Python39\\site-packages\\tensorflow\\python\\eager\\def_function.py:915\u001b[0m, in \u001b[0;36mFunction.__call__\u001b[1;34m(self, *args, **kwds)\u001b[0m\n\u001b[0;32m    912\u001b[0m compiler \u001b[38;5;241m=\u001b[39m \u001b[38;5;124m\"\u001b[39m\u001b[38;5;124mxla\u001b[39m\u001b[38;5;124m\"\u001b[39m \u001b[38;5;28;01mif\u001b[39;00m \u001b[38;5;28mself\u001b[39m\u001b[38;5;241m.\u001b[39m_jit_compile \u001b[38;5;28;01melse\u001b[39;00m \u001b[38;5;124m\"\u001b[39m\u001b[38;5;124mnonXla\u001b[39m\u001b[38;5;124m\"\u001b[39m\n\u001b[0;32m    914\u001b[0m \u001b[38;5;28;01mwith\u001b[39;00m OptionalXlaContext(\u001b[38;5;28mself\u001b[39m\u001b[38;5;241m.\u001b[39m_jit_compile):\n\u001b[1;32m--> 915\u001b[0m   result \u001b[38;5;241m=\u001b[39m \u001b[38;5;28mself\u001b[39m\u001b[38;5;241m.\u001b[39m_call(\u001b[38;5;241m*\u001b[39margs, \u001b[38;5;241m*\u001b[39m\u001b[38;5;241m*\u001b[39mkwds)\n\u001b[0;32m    917\u001b[0m new_tracing_count \u001b[38;5;241m=\u001b[39m \u001b[38;5;28mself\u001b[39m\u001b[38;5;241m.\u001b[39mexperimental_get_tracing_count()\n\u001b[0;32m    918\u001b[0m without_tracing \u001b[38;5;241m=\u001b[39m (tracing_count \u001b[38;5;241m==\u001b[39m new_tracing_count)\n",
      "File \u001b[1;32m~\\AppData\\Roaming\\Python\\Python39\\site-packages\\tensorflow\\python\\eager\\def_function.py:947\u001b[0m, in \u001b[0;36mFunction._call\u001b[1;34m(self, *args, **kwds)\u001b[0m\n\u001b[0;32m    944\u001b[0m   \u001b[38;5;28mself\u001b[39m\u001b[38;5;241m.\u001b[39m_lock\u001b[38;5;241m.\u001b[39mrelease()\n\u001b[0;32m    945\u001b[0m   \u001b[38;5;66;03m# In this case we have created variables on the first call, so we run the\u001b[39;00m\n\u001b[0;32m    946\u001b[0m   \u001b[38;5;66;03m# defunned version which is guaranteed to never create variables.\u001b[39;00m\n\u001b[1;32m--> 947\u001b[0m   \u001b[38;5;28;01mreturn\u001b[39;00m \u001b[38;5;28mself\u001b[39m\u001b[38;5;241m.\u001b[39m_stateless_fn(\u001b[38;5;241m*\u001b[39margs, \u001b[38;5;241m*\u001b[39m\u001b[38;5;241m*\u001b[39mkwds)  \u001b[38;5;66;03m# pylint: disable=not-callable\u001b[39;00m\n\u001b[0;32m    948\u001b[0m \u001b[38;5;28;01melif\u001b[39;00m \u001b[38;5;28mself\u001b[39m\u001b[38;5;241m.\u001b[39m_stateful_fn \u001b[38;5;129;01mis\u001b[39;00m \u001b[38;5;129;01mnot\u001b[39;00m \u001b[38;5;28;01mNone\u001b[39;00m:\n\u001b[0;32m    949\u001b[0m   \u001b[38;5;66;03m# Release the lock early so that multiple threads can perform the call\u001b[39;00m\n\u001b[0;32m    950\u001b[0m   \u001b[38;5;66;03m# in parallel.\u001b[39;00m\n\u001b[0;32m    951\u001b[0m   \u001b[38;5;28mself\u001b[39m\u001b[38;5;241m.\u001b[39m_lock\u001b[38;5;241m.\u001b[39mrelease()\n",
      "File \u001b[1;32m~\\AppData\\Roaming\\Python\\Python39\\site-packages\\tensorflow\\python\\eager\\function.py:2496\u001b[0m, in \u001b[0;36mFunction.__call__\u001b[1;34m(self, *args, **kwargs)\u001b[0m\n\u001b[0;32m   2493\u001b[0m \u001b[38;5;28;01mwith\u001b[39;00m \u001b[38;5;28mself\u001b[39m\u001b[38;5;241m.\u001b[39m_lock:\n\u001b[0;32m   2494\u001b[0m   (graph_function,\n\u001b[0;32m   2495\u001b[0m    filtered_flat_args) \u001b[38;5;241m=\u001b[39m \u001b[38;5;28mself\u001b[39m\u001b[38;5;241m.\u001b[39m_maybe_define_function(args, kwargs)\n\u001b[1;32m-> 2496\u001b[0m \u001b[38;5;28;01mreturn\u001b[39;00m \u001b[43mgraph_function\u001b[49m\u001b[38;5;241;43m.\u001b[39;49m\u001b[43m_call_flat\u001b[49m\u001b[43m(\u001b[49m\n\u001b[0;32m   2497\u001b[0m \u001b[43m    \u001b[49m\u001b[43mfiltered_flat_args\u001b[49m\u001b[43m,\u001b[49m\u001b[43m \u001b[49m\u001b[43mcaptured_inputs\u001b[49m\u001b[38;5;241;43m=\u001b[39;49m\u001b[43mgraph_function\u001b[49m\u001b[38;5;241;43m.\u001b[39;49m\u001b[43mcaptured_inputs\u001b[49m\u001b[43m)\u001b[49m\n",
      "File \u001b[1;32m~\\AppData\\Roaming\\Python\\Python39\\site-packages\\tensorflow\\python\\eager\\function.py:1862\u001b[0m, in \u001b[0;36mConcreteFunction._call_flat\u001b[1;34m(self, args, captured_inputs, cancellation_manager)\u001b[0m\n\u001b[0;32m   1858\u001b[0m possible_gradient_type \u001b[38;5;241m=\u001b[39m gradients_util\u001b[38;5;241m.\u001b[39mPossibleTapeGradientTypes(args)\n\u001b[0;32m   1859\u001b[0m \u001b[38;5;28;01mif\u001b[39;00m (possible_gradient_type \u001b[38;5;241m==\u001b[39m gradients_util\u001b[38;5;241m.\u001b[39mPOSSIBLE_GRADIENT_TYPES_NONE\n\u001b[0;32m   1860\u001b[0m     \u001b[38;5;129;01mand\u001b[39;00m executing_eagerly):\n\u001b[0;32m   1861\u001b[0m   \u001b[38;5;66;03m# No tape is watching; skip to running the function.\u001b[39;00m\n\u001b[1;32m-> 1862\u001b[0m   \u001b[38;5;28;01mreturn\u001b[39;00m \u001b[38;5;28mself\u001b[39m\u001b[38;5;241m.\u001b[39m_build_call_outputs(\u001b[38;5;28;43mself\u001b[39;49m\u001b[38;5;241;43m.\u001b[39;49m\u001b[43m_inference_function\u001b[49m\u001b[38;5;241;43m.\u001b[39;49m\u001b[43mcall\u001b[49m\u001b[43m(\u001b[49m\n\u001b[0;32m   1863\u001b[0m \u001b[43m      \u001b[49m\u001b[43mctx\u001b[49m\u001b[43m,\u001b[49m\u001b[43m \u001b[49m\u001b[43margs\u001b[49m\u001b[43m,\u001b[49m\u001b[43m \u001b[49m\u001b[43mcancellation_manager\u001b[49m\u001b[38;5;241;43m=\u001b[39;49m\u001b[43mcancellation_manager\u001b[49m\u001b[43m)\u001b[49m)\n\u001b[0;32m   1864\u001b[0m forward_backward \u001b[38;5;241m=\u001b[39m \u001b[38;5;28mself\u001b[39m\u001b[38;5;241m.\u001b[39m_select_forward_and_backward_functions(\n\u001b[0;32m   1865\u001b[0m     args,\n\u001b[0;32m   1866\u001b[0m     possible_gradient_type,\n\u001b[0;32m   1867\u001b[0m     executing_eagerly)\n\u001b[0;32m   1868\u001b[0m forward_function, args_with_tangents \u001b[38;5;241m=\u001b[39m forward_backward\u001b[38;5;241m.\u001b[39mforward()\n",
      "File \u001b[1;32m~\\AppData\\Roaming\\Python\\Python39\\site-packages\\tensorflow\\python\\eager\\function.py:499\u001b[0m, in \u001b[0;36m_EagerDefinedFunction.call\u001b[1;34m(self, ctx, args, cancellation_manager)\u001b[0m\n\u001b[0;32m    497\u001b[0m \u001b[38;5;28;01mwith\u001b[39;00m _InterpolateFunctionError(\u001b[38;5;28mself\u001b[39m):\n\u001b[0;32m    498\u001b[0m   \u001b[38;5;28;01mif\u001b[39;00m cancellation_manager \u001b[38;5;129;01mis\u001b[39;00m \u001b[38;5;28;01mNone\u001b[39;00m:\n\u001b[1;32m--> 499\u001b[0m     outputs \u001b[38;5;241m=\u001b[39m \u001b[43mexecute\u001b[49m\u001b[38;5;241;43m.\u001b[39;49m\u001b[43mexecute\u001b[49m\u001b[43m(\u001b[49m\n\u001b[0;32m    500\u001b[0m \u001b[43m        \u001b[49m\u001b[38;5;28;43mstr\u001b[39;49m\u001b[43m(\u001b[49m\u001b[38;5;28;43mself\u001b[39;49m\u001b[38;5;241;43m.\u001b[39;49m\u001b[43msignature\u001b[49m\u001b[38;5;241;43m.\u001b[39;49m\u001b[43mname\u001b[49m\u001b[43m)\u001b[49m\u001b[43m,\u001b[49m\n\u001b[0;32m    501\u001b[0m \u001b[43m        \u001b[49m\u001b[43mnum_outputs\u001b[49m\u001b[38;5;241;43m=\u001b[39;49m\u001b[38;5;28;43mself\u001b[39;49m\u001b[38;5;241;43m.\u001b[39;49m\u001b[43m_num_outputs\u001b[49m\u001b[43m,\u001b[49m\n\u001b[0;32m    502\u001b[0m \u001b[43m        \u001b[49m\u001b[43minputs\u001b[49m\u001b[38;5;241;43m=\u001b[39;49m\u001b[43margs\u001b[49m\u001b[43m,\u001b[49m\n\u001b[0;32m    503\u001b[0m \u001b[43m        \u001b[49m\u001b[43mattrs\u001b[49m\u001b[38;5;241;43m=\u001b[39;49m\u001b[43mattrs\u001b[49m\u001b[43m,\u001b[49m\n\u001b[0;32m    504\u001b[0m \u001b[43m        \u001b[49m\u001b[43mctx\u001b[49m\u001b[38;5;241;43m=\u001b[39;49m\u001b[43mctx\u001b[49m\u001b[43m)\u001b[49m\n\u001b[0;32m    505\u001b[0m   \u001b[38;5;28;01melse\u001b[39;00m:\n\u001b[0;32m    506\u001b[0m     outputs \u001b[38;5;241m=\u001b[39m execute\u001b[38;5;241m.\u001b[39mexecute_with_cancellation(\n\u001b[0;32m    507\u001b[0m         \u001b[38;5;28mstr\u001b[39m(\u001b[38;5;28mself\u001b[39m\u001b[38;5;241m.\u001b[39msignature\u001b[38;5;241m.\u001b[39mname),\n\u001b[0;32m    508\u001b[0m         num_outputs\u001b[38;5;241m=\u001b[39m\u001b[38;5;28mself\u001b[39m\u001b[38;5;241m.\u001b[39m_num_outputs,\n\u001b[1;32m   (...)\u001b[0m\n\u001b[0;32m    511\u001b[0m         ctx\u001b[38;5;241m=\u001b[39mctx,\n\u001b[0;32m    512\u001b[0m         cancellation_manager\u001b[38;5;241m=\u001b[39mcancellation_manager)\n",
      "File \u001b[1;32m~\\AppData\\Roaming\\Python\\Python39\\site-packages\\tensorflow\\python\\eager\\execute.py:54\u001b[0m, in \u001b[0;36mquick_execute\u001b[1;34m(op_name, num_outputs, inputs, attrs, ctx, name)\u001b[0m\n\u001b[0;32m     52\u001b[0m \u001b[38;5;28;01mtry\u001b[39;00m:\n\u001b[0;32m     53\u001b[0m   ctx\u001b[38;5;241m.\u001b[39mensure_initialized()\n\u001b[1;32m---> 54\u001b[0m   tensors \u001b[38;5;241m=\u001b[39m \u001b[43mpywrap_tfe\u001b[49m\u001b[38;5;241;43m.\u001b[39;49m\u001b[43mTFE_Py_Execute\u001b[49m\u001b[43m(\u001b[49m\u001b[43mctx\u001b[49m\u001b[38;5;241;43m.\u001b[39;49m\u001b[43m_handle\u001b[49m\u001b[43m,\u001b[49m\u001b[43m \u001b[49m\u001b[43mdevice_name\u001b[49m\u001b[43m,\u001b[49m\u001b[43m \u001b[49m\u001b[43mop_name\u001b[49m\u001b[43m,\u001b[49m\n\u001b[0;32m     55\u001b[0m \u001b[43m                                      \u001b[49m\u001b[43minputs\u001b[49m\u001b[43m,\u001b[49m\u001b[43m \u001b[49m\u001b[43mattrs\u001b[49m\u001b[43m,\u001b[49m\u001b[43m \u001b[49m\u001b[43mnum_outputs\u001b[49m\u001b[43m)\u001b[49m\n\u001b[0;32m     56\u001b[0m \u001b[38;5;28;01mexcept\u001b[39;00m core\u001b[38;5;241m.\u001b[39m_NotOkStatusException \u001b[38;5;28;01mas\u001b[39;00m e:\n\u001b[0;32m     57\u001b[0m   \u001b[38;5;28;01mif\u001b[39;00m name \u001b[38;5;129;01mis\u001b[39;00m \u001b[38;5;129;01mnot\u001b[39;00m \u001b[38;5;28;01mNone\u001b[39;00m:\n",
      "\u001b[1;31mKeyboardInterrupt\u001b[0m: "
     ]
    }
   ],
   "source": [
    "model.fit(\n",
    "        x={'input_ids':x_train['input_ids'] , 'input_mask':x_train['attention_mask']}, \n",
    "        y=[to_categorical(train_data.label)] ,\n",
    "        validation_data=(  {'input_ids':x_test['input_ids'] , 'attention_masks':x_test['attention_mask']}, \n",
    "        to_categorical(test_data.label) ), epochs=1, batch_size = 36\n",
    "    )\n"
   ]
  },
  {
   "cell_type": "code",
   "execution_count": null,
   "id": "03a113c7",
   "metadata": {},
   "outputs": [],
   "source": [
    "model.save()"
   ]
  }
 ],
 "metadata": {
  "kernelspec": {
   "display_name": "Python 3 (ipykernel)",
   "language": "python",
   "name": "python3"
  },
  "language_info": {
   "codemirror_mode": {
    "name": "ipython",
    "version": 3
   },
   "file_extension": ".py",
   "mimetype": "text/x-python",
   "name": "python",
   "nbconvert_exporter": "python",
   "pygments_lexer": "ipython3",
   "version": "3.9.5"
  }
 },
 "nbformat": 4,
 "nbformat_minor": 5
}
