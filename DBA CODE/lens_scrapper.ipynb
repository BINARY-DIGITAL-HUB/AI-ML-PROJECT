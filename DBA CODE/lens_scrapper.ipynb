{
 "cells": [
  {
   "cell_type": "code",
   "execution_count": null,
   "id": "0b645ba2-fd73-4add-9925-d9904371afb8",
   "metadata": {},
   "outputs": [],
   "source": []
  },
  {
   "cell_type": "code",
   "execution_count": 13,
   "id": "d9ab7f5f-000c-4e3e-89ee-25338b134069",
   "metadata": {},
   "outputs": [],
   "source": [
    "login_url = 'https://lenspolytechnic.edu.ng/tab/portal/'"
   ]
  },
  {
   "cell_type": "code",
   "execution_count": 10,
   "id": "df6efd4e-f19b-4fed-b577-6b5658a5c0ac",
   "metadata": {},
   "outputs": [],
   "source": [
    "import selenium\n",
    "from selenium import webdriver"
   ]
  },
  {
   "cell_type": "code",
   "execution_count": 11,
   "id": "c0bb3d4b-f234-40e8-b1e5-866133a697c1",
   "metadata": {},
   "outputs": [
    {
     "name": "stderr",
     "output_type": "stream",
     "text": [
      "C:\\Users\\HP\\AppData\\Local\\Temp\\ipykernel_19296\\3073439635.py:1: DeprecationWarning: executable_path has been deprecated, please pass in a Service object\n",
      "  web_driver = webdriver.Chrome(\"C:\\chromedriver.exe\")\n"
     ]
    },
    {
     "data": {
      "text/plain": [
       "<selenium.webdriver.chrome.webdriver.WebDriver (session=\"b0bbfa63dae2a397243cc0ecfdcc1f07\")>"
      ]
     },
     "execution_count": 11,
     "metadata": {},
     "output_type": "execute_result"
    }
   ],
   "source": [
    "web_driver = webdriver.Chrome(\"C:\\chromedriver.exe\")\n",
    "web_driver"
   ]
  },
  {
   "cell_type": "code",
   "execution_count": 20,
   "id": "8d87bfbe-07a9-4a24-9376-71c8f1f05c4e",
   "metadata": {},
   "outputs": [],
   "source": [
    "data = web_driver.get(login_url)\n",
    "data"
   ]
  },
  {
   "cell_type": "code",
   "execution_count": 22,
   "id": "e9b683b4-54ab-4556-8734-668288629593",
   "metadata": {},
   "outputs": [],
   "source": [
    "username_field = web_driver.find_element(webdriver.common.by.By.NAME, 'username')  \n",
    "password_field = web_driver.find_element(webdriver.common.by.By.NAME, 'password')\n",
    "login_button = web_driver.find_element(webdriver.common.by.By.ID, 'login')\n",
    "\n",
    "\n",
    "# setting values \n",
    "username_field.send_keys('22/ND/LIS/300')\n",
    "password_field.send_keys('ADEYEMI')\n",
    "login_button.click()"
   ]
  },
  {
   "cell_type": "code",
   "execution_count": 23,
   "id": "a1270c46-3efd-47d7-9161-729e903125d0",
   "metadata": {},
   "outputs": [
    {
     "data": {
      "text/plain": [
       "'https://lenspolytechnic.edu.ng/tab/portal/main.php'"
      ]
     },
     "execution_count": 23,
     "metadata": {},
     "output_type": "execute_result"
    }
   ],
   "source": [
    "web_driver.current_url"
   ]
  },
  {
   "cell_type": "code",
   "execution_count": 28,
   "id": "1b362b77-c92f-423f-8d89-028101c95a30",
   "metadata": {},
   "outputs": [
    {
     "data": {
      "text/plain": [
       "'<html xmlns=\"http://www.w3.org/1999/xhtml\"><head><meta http-equiv=\"Content-Type\" content=\"text/html; charset=utf-8\">\\n\\n<title>Dashboard</title>\\n<script src=\"https://embed.tawk.to/_s/v4/app/66790c3897f/js/twk-main.js\" charset=\"UTF-8\" crossorigin=\"*\"></script><script src=\"https://embed.tawk.to/_s/v4/app/66790c3897f/js/twk-vendor.js\" charset=\"UTF-8\" crossorigin=\"*\"></script><script src=\"https://embed.tawk.to/_s/v4/app/66790c3897f/js/twk-chunk-vendors.js\" charset=\"UTF-8\" crossorigin=\"*\"></script><script src=\"https://embed.tawk.to/_s/v4/app/66790c3897f/js/twk-chunk-common.js\" charset=\"UTF-8\" crossorigin=\"*\"></script><script src=\"https://embed.tawk.to/_s/v4/app/66790c3897f/js/twk-runtime.js\" charset=\"UTF-8\" crossorigin=\"*\"></script><script src=\"https://embed.tawk.to/_s/v4/app/66790c3897f/js/twk-app.js\" charset=\"UTF-8\" crossorigin=\"*\"></script><script async=\"\" src=\"https://embed.tawk.to/5c1259987a79fc1bddf0c9ef/default\" charset=\"UTF-8\" crossorigin=\"*\"></script><script src=\"../SpryAssets/SpryCollapsiblePanel.js\" type=\"text/javascript\"></script>\\n<link href=\"../SpryAssets/SpryCollapsiblePanel.css\" rel=\"stylesheet\" type=\"text/css\">\\n<link rel=\"stylesheet\" href=\"https://cdnjs.cloudflare.com/ajax/libs/font-awesome/4.7.0/css/font-awesome.min.css\">\\n\\n\\n<!--Start of Tawk.to Script-->\\n<script type=\"text/javascript\">\\nvar Tawk_API=Tawk_API||{}, Tawk_LoadStart=new Date();\\n(function(){\\nvar s1=document.createElement(\"script\"),s0=document.getElementsByTagName(\"script\")[0];\\ns1.async=true;\\ns1.src=\\'https://embed.tawk.to/5c1259987a79fc1bddf0c9ef/default\\';\\ns1.charset=\\'UTF-8\\';\\ns1.setAttribute(\\'crossorigin\\',\\'*\\');\\ns0.parentNode.insertBefore(s1,s0);\\n})();\\n</script>\\n\\n<script charset=\"utf-8\" src=\"https://embed.tawk.to/_s/v4/app/66790c3897f/js/twk-chunk-bf24a88e.js\"></script><script charset=\"utf-8\" src=\"https://embed.tawk.to/_s/v4/app/66790c3897f/js/twk-chunk-71978bb6.js\"></script><script charset=\"utf-8\" src=\"https://embed.tawk.to/_s/v4/app/66790c3897f/js/twk-chunk-f1565420.js\"></script><script charset=\"utf-8\" src=\"https://embed.tawk.to/_s/v4/app/66790c3897f/js/twk-chunk-7c2f6ba4.js\"></script><script charset=\"utf-8\" src=\"https://embed.tawk.to/_s/v4/app/66790c3897f/js/twk-chunk-48f3b594.js\"></script><script charset=\"utf-8\" src=\"https://embed.tawk.to/_s/v4/app/66790c3897f/js/twk-chunk-4fe9d5dd.js\"></script><script charset=\"utf-8\" src=\"https://embed.tawk.to/_s/v4/app/66790c3897f/js/twk-chunk-2d0b9454.js\"></script><script charset=\"utf-8\" src=\"https://embed.tawk.to/_s/v4/app/66790c3897f/js/twk-chunk-24d8db78.js\"></script><style type=\"text/css\">#gsceifdc04a1720128113168 {outline:none !important;\\nvisibility:visible !important;\\nresize:none !important;\\nbox-shadow:none !important;\\noverflow:visible !important;\\nbackground:none !important;\\nopacity:1 !important;\\nfilter:alpha(opacity=100) !important;\\n-ms-filter:progid:DXImageTransform.Microsoft.Alpha(Opacity 1}) !important;\\n-mz-opacity:1 !important;\\n-khtml-opacity:1 !important;\\ntop:auto !important;\\nright:0px !important;\\nbottom:0px !important;\\nleft:auto !important;\\nposition:fixed !important;\\nborder:0 !important;\\nmin-height:0px  !important;\\nmin-width:0px  !important;\\nmax-height:none  !important;\\nmax-width:none  !important;\\npadding:0px !important;\\nmargin:0px !important;\\n-moz-transition-property:none !important;\\n-webkit-transition-property:none !important;\\n-o-transition-property:none !important;\\ntransition-property:none !important;\\ntransform:none !important;\\n-webkit-transform:none !important;\\n-ms-transform:none !important;\\nwidth:auto !important;\\nheight:auto  !important;\\ndisplay:none !important;\\nz-index:2000000000 !important;\\nbackground-color:transparent !important;\\ncursor:none !important;\\nfloat:none !important;\\nborder-radius:unset !important;\\npointer-events:auto !important;\\nclip:auto !important;\\ncolor-scheme:light !important;}#gsceifdc04a1720128113168.widget-hidden {display: none !important;}#gsceifdc04a1720128113168.widget-visible {display: block !important;}\\n@media print{\\n #gsceifdc04a1720128113168.widget-visible { \\ndisplay: none !important;\\n }\\n}</style><script src=\"https://cdn.jsdelivr.net/emojione/2.2.7/lib/js/emojione.min.js\" type=\"text/javascript\" async=\"\" defer=\"\"></script><script src=\"https://cdn.jsdelivr.net/emojione/2.2.7/lib/js/emojione.min.js\" type=\"text/javascript\" async=\"\" defer=\"\"></script><style type=\"text/css\">@keyframes tawkMaxOpen{0%{opacity:0;transform:translate(0, 30px);;}to{opacity:1;transform:translate(0, 0px);}}@-moz-keyframes tawkMaxOpen{0%{opacity:0;transform:translate(0, 30px);;}to{opacity:1;transform:translate(0, 0px);}}@-webkit-keyframes tawkMaxOpen{0%{opacity:0;transform:translate(0, 30px);;}to{opacity:1;transform:translate(0, 0px);}}#p7p14djrp6co1720128113228.open{animation : tawkMaxOpen .25s ease!important;}@keyframes tawkMaxClose{from{opacity: 1;transform:translate(0, 0px);;}to{opacity: 0;transform:translate(0, 30px);;}}@-moz-keyframes tawkMaxClose{from{opacity: 1;transform:translate(0, 0px);;}to{opacity: 0;transform:translate(0, 30px);;}}@-webkit-keyframes tawkMaxClose{from{opacity: 1;transform:translate(0, 0px);;}to{opacity: 0;transform:translate(0, 30px);;}}#p7p14djrp6co1720128113228.closed{animation: tawkMaxClose .25s ease!important}</style></head>\\n<body bgcolor=\"red\" background=\"image/bg15.jpg\">\\n    <style type=\"text/css\"> \\n.avatar {\\n  vertical-align: middle;\\n  width: 50px;\\n  height: 50px;\\n  border-radius: 80%;\\n}\\n.avatar:hover {\\n  /* Start the shake animation and make the animation last for 0.5 seconds */\\n  animation: shake 0.5s;\\n\\n  /* When the animation is finished, start again */\\n  animation-iteration-count: infinite;\\n}\\n\\n@keyframes shake {\\n  0% { transform: translate(1px, 1px) rotate(0deg); }\\n  10% { transform: translate(-1px, -2px) rotate(-1deg); }\\n  20% { transform: translate(-3px, 0px) rotate(1deg); }\\n  30% { transform: translate(3px, 2px) rotate(0deg); }\\n  40% { transform: translate(1px, -1px) rotate(1deg); }\\n  50% { transform: translate(-1px, 2px) rotate(-1deg); }\\n  60% { transform: translate(-3px, 1px) rotate(0deg); }\\n  70% { transform: translate(3px, 1px) rotate(-1deg); }\\n  80% { transform: translate(-1px, -1px) rotate(1deg); }\\n  90% { transform: translate(1px, 2px) rotate(0deg); }\\n  100% { transform: translate(1px, -2px) rotate(-1deg); }\\n}\\n\\n\\n.searching {\\n  width: 100%;\\n  position: relative;\\n  display: flex;\\n}\\n\\n.searchTerm {\\n  width: 100%;\\n  border: 3px solid blue;\\n  border-right: none;\\n  padding: 5px;\\n  height: 24px;\\n  border-radius: 5px 0 0 5px;\\n  outline: none;\\n  color: #9DBFAF;\\n}\\n\\n.searchTerm:focus{\\n  color: #00B4CC;\\n}\\n\\n.searchButton {\\n  width: 40px;\\n  height: 36px;\\n  border: 1px solid #00B4CC;\\n  background: blue;\\n  text-align: center;\\n  color: #fff;\\n  border-radius: 0 5px 5px 0;\\n  cursor: pointer;\\n  font-size: 20px;\\n}\\n\\n/*Resize the wrap to see the search bar change!*/\\n.wrap{\\n  width: 30%;\\n  position: absolute;\\n  top: 40px;\\n  right: 10px;\\n  transform: translate(-50%, -50%);\\n}\\n</style>\\n<div style=\"background:url(image/bg8.jpg); width:100%; height:90px;\"><table>\\n<tbody><tr>\\n<td><img src=\"image/free.png\" width=\"180\" height=\"125\" alt=\"logo\"></td><td><h1>LENS Polytechnic Offa</h1>\\n <font color=\"#FFFFFF\"> <font size=\"+1\"><strong>Student Portal</strong></font>\\n <em>. Km2 Irra Road Offa Kwara State. +2347066385074</em></font> </td></tr></tbody></table>\\n \\n <div class=\"wrap\">\\n   <div class=\"searching\">\\n      <input type=\"text\" class=\"searchTerm\" placeholder=\"What are you looking for?\">\\n      <button type=\"submit\" class=\"searchButton\">\\n        <i class=\"fa fa-search\"></i>\\n     </button>\\n   </div>\\n   <i><font color=\"blue\">Powered by MIS</font></i>\\n</div>\\n \\n \\n </div>  \\n<p>&nbsp;</p>\\n<div style=\"margin:0px; margin-left:-10px; margin-right:-10px; background-color:#FA4612; background:url(image/bg5.jpg); height:50px;\">\\n\\n<br>\\n<center>\\n  <div style=\"background-color:#fd7e14; width:auto; height:35px; alignment-adjust:middle;\"> <table width=\"540\"><tbody><tr>\\n    <td>Welcome, <strong> Mr ADEYEMI <img src=\"documents/ADEYEMI390567752\" alt=\"Avatar\" width=\"100\" height=\"100\" class=\"avatar\"> \\n    AYOBAMI SUNDAY</strong> </td>\\n    <td> <strong><a href=\"signout.php\">SIGN OUT</a></strong></td></tr></tbody></table></div> </center>\\n\\n\\n\\n\\n\\n</div><!--End of Tawk.to Script-->\\n\\n\\n<p>&nbsp;</p>\\n\\n\\n<div style=\"background-color:#FFF;background=\" image=\"\" bg11.jpg\"=\"\">\\n\\n\\n \\n  \\n \\n \\n  <table border=\"1\" width=\"55%\" align=\"right\" bgcolor=\"#FFFFFF\" id=\"details\">\\n  <caption> \\n  <strong>My Details</strong>\\n  </caption>\\n  <tbody><tr>\\n  <td width=\"24%\"><strong>Matric Number </strong></td> <td width=\"50%\"><strong>22/ND/LIS/300 </strong></td> <td width=\"26%\" colspan=\"3\" rowspan=\"5\"><img src=\"documents/ADEYEMI390567752\" width=\"150\" height=\"158\" alt=\"passport\"></td>\\n  </tr>\\n  <tr>\\n  <td><strong>Full Name </strong></td> <td><strong>ADEYEMI AYOBAMI SUNDAY </strong></td> \\n  </tr>\\n  <tr>\\n  <td><strong> School</strong></td> <td><strong>ART AND INFORMATION </strong></td> \\n  </tr>\\n  <tr>\\n  <td><strong> Department</strong></td> <td><strong>LIBRARY AND INFORMATION SCIENCE </strong></td> \\n  </tr>\\n  <tr>\\n  \\n  \\n \\n  \\n  \\n  <td><strong>Programme</strong></td> <td><strong>NATIONAL DIPLOMA  LIBRARY AND INFORMATION SCIENCE</strong></td> \\n  </tr>\\n  \\t\\n\\t\\t\\n\\t<tr> <td><b>Signature</b> </td>\\n\\t<td><img src=\"signatures/ADEYEMI500495071\" width=\"115\" height=\"30\" alt=\"signatures\"> </td>\\n\\t</tr>\\n\\t\\n\\t\\n\\t\\n\\t\\n  </tbody></table>\\n\\n  <div id=\"CollapsiblePanel1\" class=\"CollapsiblePanel CollapsiblePanelOpen\">\\n    <div class=\"CollapsiblePanelTab\" tabindex=\"0\">Menu <strong>+</strong></div>\\n    <div class=\"CollapsiblePanelContent\" style=\"display: block;\">\\n      \\n\\n    <script src=\"https://ajax.googleapis.com/ajax/libs/jquery/3.2.1/jquery.min.js\"></script>\\n    <script src=\"https://maxcdn.bootstrapcdn.com/bootstrap/3.3.7/js/bootstrap.min.js\"></script>\\n<div style=\"background-color:#fd7e14;\">\\n    <p><span class=\"glyphicon glyphicon-home\"></span><a href=\"main.php\">Main</a></p>\\n      <p><a href=\"coursereg.php\" target=\"blank\">Course Registration</a></p>\\n      <p><a href=\"courseform_menu.php\" target=\"_blank\">Print Completed Course Form</a></p>\\n      <p><a href=\"http://lenspolytechnic.livingtrustng.com/\" target=\"blank\" \"=\"\">Payment</a></p>\\n      <p><a href=\"\">Print Payment Receipt</a></p>\\n      <p><a href=\"result_menu.php\">Print Result</a></p>\\n      <p><a href=\"adddrop.php\">Add/Drop Course</a></p>\\n      <p><a href=\"paymentverification.php\">OTP Verification</a></p>\\n      <p><a href=\"myprofile.php\" target=\"blank\">My Profile</a></p>\\n     <p><a href=\"courseware.php\" target=\"blank\">Course Ware</a></p>\\n     <p><a href=\"files.php\">Upolad Files</a></p>\\n     <p><a href=\"#\">E-Vote Platform</a></p>\\n     <p><a href=\"\">My Fees</a></p>\\n      <p><a href=\"changepass.php\">Change Password</a></p>\\n      <p><a href=\"signout.php\">Signout</a><br>  <br></p>\\n</div>    </div>\\n  </div>\\n</div>\\n\\n\\n<script type=\"text/javascript\">\\nvar CollapsiblePanel1 = new Spry.Widget.CollapsiblePanel(\"CollapsiblePanel1\");\\n</script>\\n\\n<script async=\"\" charset=\"UTF-8\" src=\"https://embed.tawk.to/_s/v4/app/66790c3897f/languages/en.js\"></script><div id=\"gsceifdc04a1720128113168\" class=\"widget-visible\"><iframe src=\"about:blank\" frameborder=\"0\" scrolling=\"no\" width=\"64px\" height=\"60px\" style=\"outline:none !important; visibility:visible !important; resize:none !important; box-shadow:none !important; overflow:visible !important; background:none !important; opacity:1 !important; filter:alpha(opacity=100) !important; -ms-filter:progid:DXImageTransform.Microsoft.Alpha(Opacity 1}) !important; -mz-opacity:1 !important; -khtml-opacity:1 !important; top:auto !important; right:20px !important; bottom:20px !important; left:auto !important; position:fixed !important; border:0 !important; min-height:60px !important; min-width:64px !important; max-height:60px !important; max-width:64px !important; padding:0 !important; margin:0 !important; -moz-transition-property:none !important; -webkit-transition-property:none !important; -o-transition-property:none !important; transition-property:none !important; transform:none !important; -webkit-transform:none !important; -ms-transform:none !important; width:64px !important; height:60px !important; display:block !important; z-index:1000001 !important; background-color:transparent !important; cursor:none !important; float:none !important; border-radius:unset !important; pointer-events:auto !important; clip:auto !important; color-scheme:light !important;\" id=\"fot9os6720hg1720128113189\" class=\"\" title=\"chat widget\"></iframe><iframe src=\"about:blank\" frameborder=\"0\" scrolling=\"no\" width=\"350px\" height=\"520px\" style=\"outline:none !important; visibility:visible !important; resize:none !important; box-shadow:none !important; overflow:visible !important; background:none !important; opacity:1 !important; filter:alpha(opacity=100) !important; -ms-filter:progid:DXImageTransform.Microsoft.Alpha(Opacity 1}) !important; -mz-opacity:1 !important; -khtml-opacity:1 !important; top:auto !important; right:10px !important; bottom:90px !important; left:auto !important; position:fixed !important; border:0 !important; min-height:520px !important; min-width:350px !important; max-height:520px !important; max-width:350px !important; padding:0 !important; margin:0 !important; -moz-transition-property:none !important; -webkit-transition-property:none !important; -o-transition-property:none !important; transition-property:none !important; transform:none !important; -webkit-transform:none !important; -ms-transform:none !important; width:350px !important; height:520px !important; display:none !important; z-index:1000002 !important; background-color:transparent !important; cursor:none !important; float:none !important; border-radius:5px !important; pointer-events:auto !important; clip:auto !important; color-scheme:light !important;\" id=\"p7p14djrp6co1720128113228\" class=\"\" title=\"chat widget\"></iframe><iframe src=\"about:blank\" frameborder=\"0\" scrolling=\"no\" width=\"360px\" height=\"145px\" style=\"outline:none !important; visibility:visible !important; resize:none !important; box-shadow:none !important; overflow:visible !important; background:none !important; opacity:1 !important; filter:alpha(opacity=100) !important; -ms-filter:progid:DXImageTransform.Microsoft.Alpha(Opacity 1}) !important; -mz-opacity:1 !important; -khtml-opacity:1 !important; top:auto !important; right:20px !important; bottom:100px; left:auto !important; position:fixed !important; border:0 !important; min-height:145px !important; min-width:360px !important; max-height:145px !important; max-width:360px !important; padding:0 !important; margin:0 !important; -moz-transition-property:none !important; -webkit-transition-property:none !important; -o-transition-property:none !important; transition-property:none !important; transform:none !important; -webkit-transform:none !important; -ms-transform:none !important; width:360px !important; height:145px !important; display:none !important; z-index:auto !important; background-color:transparent !important; cursor:none !important; float:none !important; border-radius:unset !important; pointer-events:auto !important; clip:auto !important; color-scheme:light !important;\" id=\"vbvk3d616gk1720128113211\" class=\"\" title=\"chat widget\"></iframe><iframe src=\"about:blank\" frameborder=\"0\" scrolling=\"no\" width=\"124px\" height=\"95px\" style=\"outline:none !important; visibility:visible !important; resize:none !important; box-shadow:none !important; overflow:visible !important; background:none !important; opacity:1 !important; filter:alpha(opacity=100) !important; -ms-filter:progid:DXImageTransform.Microsoft.Alpha(Opacity 1}) !important; -mz-opacity:1 !important; -khtml-opacity:1 !important; top:auto !important; right:0px !important; bottom:30px !important; left:auto !important; position:fixed !important; border:0 !important; min-height:95px !important; min-width:124px !important; max-height:95px !important; max-width:124px !important; padding:0 !important; margin:0px 0 0 0 !important; -moz-transition-property:none !important; -webkit-transition-property:none !important; -o-transition-property:none !important; transition-property:none !important; transform:rotate(0deg) translateZ(0); -webkit-transform:rotate(0deg) translateZ(0); -ms-transform:rotate(0deg) translateZ(0); width:124px !important; height:95px !important; display:none !important; z-index:1000002 !important; background-color:transparent !important; cursor:none !important; float:none !important; border-radius:unset !important; pointer-events:auto !important; clip:auto !important; color-scheme:light !important; -moz-transform:rotate(0deg) translateZ(0); -o-transform:rotate(0deg) translateZ(0); transform-origin:0; -moz-transform-origin:0; -webkit-transform-origin:0; -o-transform-origin:0; -ms-transform-origin:0;\" id=\"q7v4ob2qqiio1720128113199\" class=\"\" title=\"chat widget\"></iframe></div></body></html>'"
      ]
     },
     "execution_count": 28,
     "metadata": {},
     "output_type": "execute_result"
    }
   ],
   "source": [
    "web_driver.page_source"
   ]
  },
  {
   "cell_type": "code",
   "execution_count": 24,
   "id": "65e2c5b8-1479-4910-9ee7-75b9361cdbc0",
   "metadata": {},
   "outputs": [],
   "source": [
    "import urllib.request\n",
    "from bs4 import BeautifulSoup"
   ]
  },
  {
   "cell_type": "code",
   "execution_count": 36,
   "id": "c139f6f1-7967-45c0-8d7f-6162b1e1793b",
   "metadata": {},
   "outputs": [
    {
     "data": {
      "text/plain": [
       "<table align=\"right\" bgcolor=\"#FFFFFF\" border=\"1\" id=\"details\" width=\"55%\">\n",
       "<caption>\n",
       "<strong>My Details</strong>\n",
       "</caption>\n",
       "<tbody><tr>\n",
       "<td width=\"24%\"><strong>Matric Number </strong></td> <td width=\"50%\"><strong>22/ND/LIS/300 </strong></td> <td colspan=\"3\" rowspan=\"5\" width=\"26%\"><img alt=\"passport\" height=\"158\" src=\"documents/ADEYEMI390567752\" width=\"150\"/></td>\n",
       "</tr>\n",
       "<tr>\n",
       "<td><strong>Full Name </strong></td> <td><strong>ADEYEMI AYOBAMI SUNDAY </strong></td>\n",
       "</tr>\n",
       "<tr>\n",
       "<td><strong> School</strong></td> <td><strong>ART AND INFORMATION </strong></td>\n",
       "</tr>\n",
       "<tr>\n",
       "<td><strong> Department</strong></td> <td><strong>LIBRARY AND INFORMATION SCIENCE </strong></td>\n",
       "</tr>\n",
       "<tr>\n",
       "<td><strong>Programme</strong></td> <td><strong>NATIONAL DIPLOMA  LIBRARY AND INFORMATION SCIENCE</strong></td>\n",
       "</tr>\n",
       "<tr> <td><b>Signature</b> </td>\n",
       "<td><img alt=\"signatures\" height=\"30\" src=\"signatures/ADEYEMI500495071\" width=\"115\"/> </td>\n",
       "</tr>\n",
       "</tbody></table>"
      ]
     },
     "execution_count": 36,
     "metadata": {},
     "output_type": "execute_result"
    }
   ],
   "source": [
    "# Open the URL and read the content\n",
    "# Parse the HTML content using BeautifulSoup\n",
    "soup = BeautifulSoup(web_driver.page_source, 'lxml')\n",
    "\n",
    "# Find the table you want to access\n",
    "# This example assumes there's only one table. Adjust the selector as needed.\n",
    "table = soup.find_all('table')[2]\n",
    "table"
   ]
  },
  {
   "cell_type": "code",
   "execution_count": 40,
   "id": "686be935-516c-4fd6-a9d7-194c7994b8a5",
   "metadata": {},
   "outputs": [
    {
     "data": {
      "text/plain": [
       "[<strong>My Details</strong>,\n",
       " <strong>Matric Number </strong>,\n",
       " <strong>22/ND/LIS/300 </strong>,\n",
       " <strong>Full Name </strong>,\n",
       " <strong>ADEYEMI AYOBAMI SUNDAY </strong>,\n",
       " <strong> School</strong>,\n",
       " <strong>ART AND INFORMATION </strong>,\n",
       " <strong> Department</strong>,\n",
       " <strong>LIBRARY AND INFORMATION SCIENCE </strong>,\n",
       " <strong>Programme</strong>,\n",
       " <strong>NATIONAL DIPLOMA  LIBRARY AND INFORMATION SCIENCE</strong>]"
      ]
     },
     "execution_count": 40,
     "metadata": {},
     "output_type": "execute_result"
    }
   ],
   "source": [
    "student_data = table.find_all('strong')\n",
    "student_data"
   ]
  },
  {
   "cell_type": "code",
   "execution_count": 63,
   "id": "9dcb3bf2-2b74-4f9c-92ca-62187142546a",
   "metadata": {},
   "outputs": [
    {
     "name": "stdout",
     "output_type": "stream",
     "text": [
      "===========keys================\n",
      "Matric Number \n",
      "Full Name \n",
      " School\n",
      " Department\n",
      "Programme\n",
      "===================\n",
      "=============Values==============\n",
      "22/ND/LIS/300 \n",
      "ADEYEMI AYOBAMI SUNDAY \n",
      "ART AND INFORMATION \n",
      "LIBRARY AND INFORMATION SCIENCE \n",
      "NATIONAL DIPLOMA  LIBRARY AND INFORMATION SCIENCE\n"
     ]
    }
   ],
   "source": [
    "diction_collector = {'Matric Number': [], \n",
    "                    'Full Name': [], \n",
    "                    'School': [], \n",
    "                    'Department': [], \n",
    "                    'Programme': []}\n",
    "bio_data = student_data[1:]\n",
    "\n",
    "# for i in range(len(diction_collector.keys())):\n",
    "\n",
    "key, val = [], []\n",
    "\n",
    "print('===========keys================')\n",
    "for k in bio_data[::2]: \n",
    "    print(k.get_text())\n",
    "    key.append(k.get_text().strip())\n",
    "\n",
    "print('===================')\n",
    "print('=============Values==============')\n",
    "for v in bio_data[1::2]: \n",
    "    print(v.get_text())\n",
    "    val.append(v.get_text().strip())\n"
   ]
  },
  {
   "cell_type": "code",
   "execution_count": 64,
   "id": "6bc4af71-265c-44e6-97b5-b638760ad4a7",
   "metadata": {},
   "outputs": [
    {
     "data": {
      "text/plain": [
       "{'Matric Number': ['22/ND/LIS/300'],\n",
       " 'Full Name': ['ADEYEMI AYOBAMI SUNDAY'],\n",
       " 'School': ['ART AND INFORMATION'],\n",
       " 'Department': ['LIBRARY AND INFORMATION SCIENCE'],\n",
       " 'Programme': ['NATIONAL DIPLOMA  LIBRARY AND INFORMATION SCIENCE']}"
      ]
     },
     "execution_count": 64,
     "metadata": {},
     "output_type": "execute_result"
    }
   ],
   "source": [
    "for index in range(len(val)): \n",
    "    diction_collector[key[index]].append(val[index])\n",
    "\n",
    "diction_collector"
   ]
  },
  {
   "cell_type": "code",
   "execution_count": 65,
   "id": "c343cea3-1934-4aad-a0f0-3ce48b6f9875",
   "metadata": {},
   "outputs": [
    {
     "data": {
      "text/html": [
       "<div>\n",
       "<style scoped>\n",
       "    .dataframe tbody tr th:only-of-type {\n",
       "        vertical-align: middle;\n",
       "    }\n",
       "\n",
       "    .dataframe tbody tr th {\n",
       "        vertical-align: top;\n",
       "    }\n",
       "\n",
       "    .dataframe thead th {\n",
       "        text-align: right;\n",
       "    }\n",
       "</style>\n",
       "<table border=\"1\" class=\"dataframe\">\n",
       "  <thead>\n",
       "    <tr style=\"text-align: right;\">\n",
       "      <th></th>\n",
       "      <th>Matric Number</th>\n",
       "      <th>Full Name</th>\n",
       "      <th>School</th>\n",
       "      <th>Department</th>\n",
       "      <th>Programme</th>\n",
       "    </tr>\n",
       "  </thead>\n",
       "  <tbody>\n",
       "    <tr>\n",
       "      <th>0</th>\n",
       "      <td>22/ND/LIS/300</td>\n",
       "      <td>ADEYEMI AYOBAMI SUNDAY</td>\n",
       "      <td>ART AND INFORMATION</td>\n",
       "      <td>LIBRARY AND INFORMATION SCIENCE</td>\n",
       "      <td>NATIONAL DIPLOMA  LIBRARY AND INFORMATION SCIENCE</td>\n",
       "    </tr>\n",
       "  </tbody>\n",
       "</table>\n",
       "</div>"
      ],
      "text/plain": [
       "   Matric Number               Full Name               School  \\\n",
       "0  22/ND/LIS/300  ADEYEMI AYOBAMI SUNDAY  ART AND INFORMATION   \n",
       "\n",
       "                        Department  \\\n",
       "0  LIBRARY AND INFORMATION SCIENCE   \n",
       "\n",
       "                                           Programme  \n",
       "0  NATIONAL DIPLOMA  LIBRARY AND INFORMATION SCIENCE  "
      ]
     },
     "execution_count": 65,
     "metadata": {},
     "output_type": "execute_result"
    }
   ],
   "source": [
    "import pandas as pd \n",
    "\n",
    "pd.DataFrame(diction_collector)"
   ]
  }
 ],
 "metadata": {
  "kernelspec": {
   "display_name": "Python 3 (ipykernel)",
   "language": "python",
   "name": "python3"
  },
  "language_info": {
   "codemirror_mode": {
    "name": "ipython",
    "version": 3
   },
   "file_extension": ".py",
   "mimetype": "text/x-python",
   "name": "python",
   "nbconvert_exporter": "python",
   "pygments_lexer": "ipython3",
   "version": "3.9.5"
  }
 },
 "nbformat": 4,
 "nbformat_minor": 5
}
